{
 "cells": [
  {
   "cell_type": "code",
   "execution_count": 240,
   "id": "initial_id",
   "metadata": {
    "collapsed": true,
    "ExecuteTime": {
     "end_time": "2024-01-04T18:42:06.188965Z",
     "start_time": "2024-01-04T18:42:06.183590Z"
    }
   },
   "outputs": [
    {
     "name": "stderr",
     "output_type": "stream",
     "text": [
      "[nltk_data] Downloading collection 'all'\n",
      "[nltk_data]    | \n",
      "[nltk_data]    | Downloading package abc to /Users/amith/nltk_data...\n",
      "[nltk_data]    |   Package abc is already up-to-date!\n",
      "[nltk_data]    | Downloading package alpino to\n",
      "[nltk_data]    |     /Users/amith/nltk_data...\n",
      "[nltk_data]    |   Package alpino is already up-to-date!\n",
      "[nltk_data]    | Downloading package averaged_perceptron_tagger to\n",
      "[nltk_data]    |     /Users/amith/nltk_data...\n",
      "[nltk_data]    |   Package averaged_perceptron_tagger is already up-\n",
      "[nltk_data]    |       to-date!\n",
      "[nltk_data]    | Downloading package averaged_perceptron_tagger_ru to\n",
      "[nltk_data]    |     /Users/amith/nltk_data...\n",
      "[nltk_data]    |   Package averaged_perceptron_tagger_ru is already\n",
      "[nltk_data]    |       up-to-date!\n",
      "[nltk_data]    | Downloading package basque_grammars to\n",
      "[nltk_data]    |     /Users/amith/nltk_data...\n",
      "[nltk_data]    |   Package basque_grammars is already up-to-date!\n",
      "[nltk_data]    | Downloading package bcp47 to\n",
      "[nltk_data]    |     /Users/amith/nltk_data...\n",
      "[nltk_data]    |   Package bcp47 is already up-to-date!\n",
      "[nltk_data]    | Downloading package biocreative_ppi to\n",
      "[nltk_data]    |     /Users/amith/nltk_data...\n",
      "[nltk_data]    |   Package biocreative_ppi is already up-to-date!\n",
      "[nltk_data]    | Downloading package bllip_wsj_no_aux to\n",
      "[nltk_data]    |     /Users/amith/nltk_data...\n",
      "[nltk_data]    |   Package bllip_wsj_no_aux is already up-to-date!\n",
      "[nltk_data]    | Downloading package book_grammars to\n",
      "[nltk_data]    |     /Users/amith/nltk_data...\n",
      "[nltk_data]    |   Package book_grammars is already up-to-date!\n",
      "[nltk_data]    | Downloading package brown to\n",
      "[nltk_data]    |     /Users/amith/nltk_data...\n",
      "[nltk_data]    |   Package brown is already up-to-date!\n",
      "[nltk_data]    | Downloading package brown_tei to\n",
      "[nltk_data]    |     /Users/amith/nltk_data...\n",
      "[nltk_data]    |   Package brown_tei is already up-to-date!\n",
      "[nltk_data]    | Downloading package cess_cat to\n",
      "[nltk_data]    |     /Users/amith/nltk_data...\n",
      "[nltk_data]    |   Package cess_cat is already up-to-date!\n",
      "[nltk_data]    | Downloading package cess_esp to\n",
      "[nltk_data]    |     /Users/amith/nltk_data...\n",
      "[nltk_data]    |   Package cess_esp is already up-to-date!\n",
      "[nltk_data]    | Downloading package chat80 to\n",
      "[nltk_data]    |     /Users/amith/nltk_data...\n",
      "[nltk_data]    |   Package chat80 is already up-to-date!\n",
      "[nltk_data]    | Downloading package city_database to\n",
      "[nltk_data]    |     /Users/amith/nltk_data...\n",
      "[nltk_data]    |   Package city_database is already up-to-date!\n",
      "[nltk_data]    | Downloading package cmudict to\n",
      "[nltk_data]    |     /Users/amith/nltk_data...\n",
      "[nltk_data]    |   Package cmudict is already up-to-date!\n",
      "[nltk_data]    | Downloading package comparative_sentences to\n",
      "[nltk_data]    |     /Users/amith/nltk_data...\n",
      "[nltk_data]    |   Package comparative_sentences is already up-to-\n",
      "[nltk_data]    |       date!\n",
      "[nltk_data]    | Downloading package comtrans to\n",
      "[nltk_data]    |     /Users/amith/nltk_data...\n",
      "[nltk_data]    |   Package comtrans is already up-to-date!\n",
      "[nltk_data]    | Downloading package conll2000 to\n",
      "[nltk_data]    |     /Users/amith/nltk_data...\n",
      "[nltk_data]    |   Package conll2000 is already up-to-date!\n",
      "[nltk_data]    | Downloading package conll2002 to\n",
      "[nltk_data]    |     /Users/amith/nltk_data...\n",
      "[nltk_data]    |   Package conll2002 is already up-to-date!\n",
      "[nltk_data]    | Downloading package conll2007 to\n",
      "[nltk_data]    |     /Users/amith/nltk_data...\n",
      "[nltk_data]    |   Package conll2007 is already up-to-date!\n",
      "[nltk_data]    | Downloading package crubadan to\n",
      "[nltk_data]    |     /Users/amith/nltk_data...\n",
      "[nltk_data]    |   Package crubadan is already up-to-date!\n",
      "[nltk_data]    | Downloading package dependency_treebank to\n",
      "[nltk_data]    |     /Users/amith/nltk_data...\n",
      "[nltk_data]    |   Package dependency_treebank is already up-to-date!\n",
      "[nltk_data]    | Downloading package dolch to\n",
      "[nltk_data]    |     /Users/amith/nltk_data...\n",
      "[nltk_data]    |   Package dolch is already up-to-date!\n",
      "[nltk_data]    | Downloading package europarl_raw to\n",
      "[nltk_data]    |     /Users/amith/nltk_data...\n",
      "[nltk_data]    |   Package europarl_raw is already up-to-date!\n",
      "[nltk_data]    | Downloading package extended_omw to\n",
      "[nltk_data]    |     /Users/amith/nltk_data...\n",
      "[nltk_data]    |   Package extended_omw is already up-to-date!\n",
      "[nltk_data]    | Downloading package floresta to\n",
      "[nltk_data]    |     /Users/amith/nltk_data...\n",
      "[nltk_data]    |   Package floresta is already up-to-date!\n",
      "[nltk_data]    | Downloading package framenet_v15 to\n",
      "[nltk_data]    |     /Users/amith/nltk_data...\n",
      "[nltk_data]    |   Package framenet_v15 is already up-to-date!\n",
      "[nltk_data]    | Downloading package framenet_v17 to\n",
      "[nltk_data]    |     /Users/amith/nltk_data...\n",
      "[nltk_data]    |   Package framenet_v17 is already up-to-date!\n",
      "[nltk_data]    | Downloading package gazetteers to\n",
      "[nltk_data]    |     /Users/amith/nltk_data...\n",
      "[nltk_data]    |   Package gazetteers is already up-to-date!\n",
      "[nltk_data]    | Downloading package genesis to\n",
      "[nltk_data]    |     /Users/amith/nltk_data...\n",
      "[nltk_data]    |   Package genesis is already up-to-date!\n",
      "[nltk_data]    | Downloading package gutenberg to\n",
      "[nltk_data]    |     /Users/amith/nltk_data...\n",
      "[nltk_data]    |   Package gutenberg is already up-to-date!\n",
      "[nltk_data]    | Downloading package ieer to /Users/amith/nltk_data...\n",
      "[nltk_data]    |   Package ieer is already up-to-date!\n",
      "[nltk_data]    | Downloading package inaugural to\n",
      "[nltk_data]    |     /Users/amith/nltk_data...\n",
      "[nltk_data]    |   Package inaugural is already up-to-date!\n",
      "[nltk_data]    | Downloading package indian to\n",
      "[nltk_data]    |     /Users/amith/nltk_data...\n",
      "[nltk_data]    |   Package indian is already up-to-date!\n",
      "[nltk_data]    | Downloading package jeita to\n",
      "[nltk_data]    |     /Users/amith/nltk_data...\n",
      "[nltk_data]    |   Package jeita is already up-to-date!\n",
      "[nltk_data]    | Downloading package kimmo to\n",
      "[nltk_data]    |     /Users/amith/nltk_data...\n",
      "[nltk_data]    |   Package kimmo is already up-to-date!\n",
      "[nltk_data]    | Downloading package knbc to /Users/amith/nltk_data...\n",
      "[nltk_data]    |   Package knbc is already up-to-date!\n",
      "[nltk_data]    | Downloading package large_grammars to\n",
      "[nltk_data]    |     /Users/amith/nltk_data...\n",
      "[nltk_data]    |   Package large_grammars is already up-to-date!\n",
      "[nltk_data]    | Downloading package lin_thesaurus to\n",
      "[nltk_data]    |     /Users/amith/nltk_data...\n",
      "[nltk_data]    |   Package lin_thesaurus is already up-to-date!\n",
      "[nltk_data]    | Downloading package mac_morpho to\n",
      "[nltk_data]    |     /Users/amith/nltk_data...\n",
      "[nltk_data]    |   Package mac_morpho is already up-to-date!\n",
      "[nltk_data]    | Downloading package machado to\n",
      "[nltk_data]    |     /Users/amith/nltk_data...\n",
      "[nltk_data]    |   Package machado is already up-to-date!\n",
      "[nltk_data]    | Downloading package masc_tagged to\n",
      "[nltk_data]    |     /Users/amith/nltk_data...\n",
      "[nltk_data]    |   Package masc_tagged is already up-to-date!\n",
      "[nltk_data]    | Downloading package maxent_ne_chunker to\n",
      "[nltk_data]    |     /Users/amith/nltk_data...\n",
      "[nltk_data]    |   Package maxent_ne_chunker is already up-to-date!\n",
      "[nltk_data]    | Downloading package maxent_treebank_pos_tagger to\n",
      "[nltk_data]    |     /Users/amith/nltk_data...\n",
      "[nltk_data]    |   Package maxent_treebank_pos_tagger is already up-\n",
      "[nltk_data]    |       to-date!\n",
      "[nltk_data]    | Downloading package moses_sample to\n",
      "[nltk_data]    |     /Users/amith/nltk_data...\n",
      "[nltk_data]    |   Package moses_sample is already up-to-date!\n",
      "[nltk_data]    | Downloading package movie_reviews to\n",
      "[nltk_data]    |     /Users/amith/nltk_data...\n",
      "[nltk_data]    |   Package movie_reviews is already up-to-date!\n",
      "[nltk_data]    | Downloading package mte_teip5 to\n",
      "[nltk_data]    |     /Users/amith/nltk_data...\n",
      "[nltk_data]    |   Package mte_teip5 is already up-to-date!\n",
      "[nltk_data]    | Downloading package mwa_ppdb to\n",
      "[nltk_data]    |     /Users/amith/nltk_data...\n",
      "[nltk_data]    |   Package mwa_ppdb is already up-to-date!\n",
      "[nltk_data]    | Downloading package names to\n",
      "[nltk_data]    |     /Users/amith/nltk_data...\n",
      "[nltk_data]    |   Package names is already up-to-date!\n",
      "[nltk_data]    | Downloading package nombank.1.0 to\n",
      "[nltk_data]    |     /Users/amith/nltk_data...\n",
      "[nltk_data]    |   Package nombank.1.0 is already up-to-date!\n",
      "[nltk_data]    | Downloading package nonbreaking_prefixes to\n",
      "[nltk_data]    |     /Users/amith/nltk_data...\n",
      "[nltk_data]    |   Package nonbreaking_prefixes is already up-to-date!\n",
      "[nltk_data]    | Downloading package nps_chat to\n",
      "[nltk_data]    |     /Users/amith/nltk_data...\n",
      "[nltk_data]    |   Package nps_chat is already up-to-date!\n",
      "[nltk_data]    | Downloading package omw to /Users/amith/nltk_data...\n",
      "[nltk_data]    |   Package omw is already up-to-date!\n",
      "[nltk_data]    | Downloading package omw-1.4 to\n",
      "[nltk_data]    |     /Users/amith/nltk_data...\n",
      "[nltk_data]    |   Package omw-1.4 is already up-to-date!\n",
      "[nltk_data]    | Downloading package opinion_lexicon to\n",
      "[nltk_data]    |     /Users/amith/nltk_data...\n",
      "[nltk_data]    |   Package opinion_lexicon is already up-to-date!\n",
      "[nltk_data]    | Downloading package panlex_swadesh to\n",
      "[nltk_data]    |     /Users/amith/nltk_data...\n",
      "[nltk_data]    |   Package panlex_swadesh is already up-to-date!\n",
      "[nltk_data]    | Downloading package paradigms to\n",
      "[nltk_data]    |     /Users/amith/nltk_data...\n",
      "[nltk_data]    |   Package paradigms is already up-to-date!\n",
      "[nltk_data]    | Downloading package pe08 to /Users/amith/nltk_data...\n",
      "[nltk_data]    |   Package pe08 is already up-to-date!\n",
      "[nltk_data]    | Downloading package perluniprops to\n",
      "[nltk_data]    |     /Users/amith/nltk_data...\n",
      "[nltk_data]    |   Package perluniprops is already up-to-date!\n",
      "[nltk_data]    | Downloading package pil to /Users/amith/nltk_data...\n",
      "[nltk_data]    |   Package pil is already up-to-date!\n",
      "[nltk_data]    | Downloading package pl196x to\n",
      "[nltk_data]    |     /Users/amith/nltk_data...\n",
      "[nltk_data]    |   Package pl196x is already up-to-date!\n",
      "[nltk_data]    | Downloading package porter_test to\n",
      "[nltk_data]    |     /Users/amith/nltk_data...\n",
      "[nltk_data]    |   Package porter_test is already up-to-date!\n",
      "[nltk_data]    | Downloading package ppattach to\n",
      "[nltk_data]    |     /Users/amith/nltk_data...\n",
      "[nltk_data]    |   Package ppattach is already up-to-date!\n",
      "[nltk_data]    | Downloading package problem_reports to\n",
      "[nltk_data]    |     /Users/amith/nltk_data...\n",
      "[nltk_data]    |   Package problem_reports is already up-to-date!\n",
      "[nltk_data]    | Downloading package product_reviews_1 to\n",
      "[nltk_data]    |     /Users/amith/nltk_data...\n",
      "[nltk_data]    |   Package product_reviews_1 is already up-to-date!\n",
      "[nltk_data]    | Downloading package product_reviews_2 to\n",
      "[nltk_data]    |     /Users/amith/nltk_data...\n",
      "[nltk_data]    |   Package product_reviews_2 is already up-to-date!\n",
      "[nltk_data]    | Downloading package propbank to\n",
      "[nltk_data]    |     /Users/amith/nltk_data...\n",
      "[nltk_data]    |   Package propbank is already up-to-date!\n",
      "[nltk_data]    | Downloading package pros_cons to\n",
      "[nltk_data]    |     /Users/amith/nltk_data...\n",
      "[nltk_data]    |   Package pros_cons is already up-to-date!\n",
      "[nltk_data]    | Downloading package ptb to /Users/amith/nltk_data...\n",
      "[nltk_data]    |   Package ptb is already up-to-date!\n",
      "[nltk_data]    | Downloading package punkt to\n",
      "[nltk_data]    |     /Users/amith/nltk_data...\n",
      "[nltk_data]    |   Package punkt is already up-to-date!\n",
      "[nltk_data]    | Downloading package qc to /Users/amith/nltk_data...\n",
      "[nltk_data]    |   Package qc is already up-to-date!\n",
      "[nltk_data]    | Downloading package reuters to\n",
      "[nltk_data]    |     /Users/amith/nltk_data...\n",
      "[nltk_data]    |   Package reuters is already up-to-date!\n",
      "[nltk_data]    | Downloading package rslp to /Users/amith/nltk_data...\n",
      "[nltk_data]    |   Package rslp is already up-to-date!\n",
      "[nltk_data]    | Downloading package rte to /Users/amith/nltk_data...\n",
      "[nltk_data]    |   Package rte is already up-to-date!\n",
      "[nltk_data]    | Downloading package sample_grammars to\n",
      "[nltk_data]    |     /Users/amith/nltk_data...\n",
      "[nltk_data]    |   Package sample_grammars is already up-to-date!\n",
      "[nltk_data]    | Downloading package semcor to\n",
      "[nltk_data]    |     /Users/amith/nltk_data...\n",
      "[nltk_data]    |   Package semcor is already up-to-date!\n",
      "[nltk_data]    | Downloading package senseval to\n",
      "[nltk_data]    |     /Users/amith/nltk_data...\n",
      "[nltk_data]    |   Package senseval is already up-to-date!\n",
      "[nltk_data]    | Downloading package sentence_polarity to\n",
      "[nltk_data]    |     /Users/amith/nltk_data...\n",
      "[nltk_data]    |   Package sentence_polarity is already up-to-date!\n",
      "[nltk_data]    | Downloading package sentiwordnet to\n",
      "[nltk_data]    |     /Users/amith/nltk_data...\n",
      "[nltk_data]    |   Package sentiwordnet is already up-to-date!\n",
      "[nltk_data]    | Downloading package shakespeare to\n",
      "[nltk_data]    |     /Users/amith/nltk_data...\n",
      "[nltk_data]    |   Package shakespeare is already up-to-date!\n",
      "[nltk_data]    | Downloading package sinica_treebank to\n",
      "[nltk_data]    |     /Users/amith/nltk_data...\n",
      "[nltk_data]    |   Package sinica_treebank is already up-to-date!\n",
      "[nltk_data]    | Downloading package smultron to\n",
      "[nltk_data]    |     /Users/amith/nltk_data...\n",
      "[nltk_data]    |   Package smultron is already up-to-date!\n",
      "[nltk_data]    | Downloading package snowball_data to\n",
      "[nltk_data]    |     /Users/amith/nltk_data...\n",
      "[nltk_data]    |   Package snowball_data is already up-to-date!\n",
      "[nltk_data]    | Downloading package spanish_grammars to\n",
      "[nltk_data]    |     /Users/amith/nltk_data...\n",
      "[nltk_data]    |   Package spanish_grammars is already up-to-date!\n",
      "[nltk_data]    | Downloading package state_union to\n",
      "[nltk_data]    |     /Users/amith/nltk_data...\n",
      "[nltk_data]    |   Package state_union is already up-to-date!\n",
      "[nltk_data]    | Downloading package stopwords to\n",
      "[nltk_data]    |     /Users/amith/nltk_data...\n",
      "[nltk_data]    |   Package stopwords is already up-to-date!\n",
      "[nltk_data]    | Downloading package subjectivity to\n",
      "[nltk_data]    |     /Users/amith/nltk_data...\n",
      "[nltk_data]    |   Package subjectivity is already up-to-date!\n",
      "[nltk_data]    | Downloading package swadesh to\n",
      "[nltk_data]    |     /Users/amith/nltk_data...\n",
      "[nltk_data]    |   Package swadesh is already up-to-date!\n",
      "[nltk_data]    | Downloading package switchboard to\n",
      "[nltk_data]    |     /Users/amith/nltk_data...\n",
      "[nltk_data]    |   Package switchboard is already up-to-date!\n",
      "[nltk_data]    | Downloading package tagsets to\n",
      "[nltk_data]    |     /Users/amith/nltk_data...\n",
      "[nltk_data]    |   Package tagsets is already up-to-date!\n",
      "[nltk_data]    | Downloading package timit to\n",
      "[nltk_data]    |     /Users/amith/nltk_data...\n",
      "[nltk_data]    |   Package timit is already up-to-date!\n",
      "[nltk_data]    | Downloading package toolbox to\n",
      "[nltk_data]    |     /Users/amith/nltk_data...\n",
      "[nltk_data]    |   Package toolbox is already up-to-date!\n",
      "[nltk_data]    | Downloading package treebank to\n",
      "[nltk_data]    |     /Users/amith/nltk_data...\n",
      "[nltk_data]    |   Package treebank is already up-to-date!\n",
      "[nltk_data]    | Downloading package twitter_samples to\n",
      "[nltk_data]    |     /Users/amith/nltk_data...\n",
      "[nltk_data]    |   Package twitter_samples is already up-to-date!\n",
      "[nltk_data]    | Downloading package udhr to /Users/amith/nltk_data...\n",
      "[nltk_data]    |   Package udhr is already up-to-date!\n",
      "[nltk_data]    | Downloading package udhr2 to\n",
      "[nltk_data]    |     /Users/amith/nltk_data...\n",
      "[nltk_data]    |   Package udhr2 is already up-to-date!\n",
      "[nltk_data]    | Downloading package unicode_samples to\n",
      "[nltk_data]    |     /Users/amith/nltk_data...\n",
      "[nltk_data]    |   Package unicode_samples is already up-to-date!\n",
      "[nltk_data]    | Downloading package universal_tagset to\n",
      "[nltk_data]    |     /Users/amith/nltk_data...\n",
      "[nltk_data]    |   Package universal_tagset is already up-to-date!\n",
      "[nltk_data]    | Downloading package universal_treebanks_v20 to\n",
      "[nltk_data]    |     /Users/amith/nltk_data...\n",
      "[nltk_data]    |   Package universal_treebanks_v20 is already up-to-\n",
      "[nltk_data]    |       date!\n",
      "[nltk_data]    | Downloading package vader_lexicon to\n",
      "[nltk_data]    |     /Users/amith/nltk_data...\n",
      "[nltk_data]    |   Package vader_lexicon is already up-to-date!\n",
      "[nltk_data]    | Downloading package verbnet to\n",
      "[nltk_data]    |     /Users/amith/nltk_data...\n",
      "[nltk_data]    |   Package verbnet is already up-to-date!\n",
      "[nltk_data]    | Downloading package verbnet3 to\n",
      "[nltk_data]    |     /Users/amith/nltk_data...\n",
      "[nltk_data]    |   Package verbnet3 is already up-to-date!\n",
      "[nltk_data]    | Downloading package webtext to\n",
      "[nltk_data]    |     /Users/amith/nltk_data...\n",
      "[nltk_data]    |   Package webtext is already up-to-date!\n",
      "[nltk_data]    | Downloading package wmt15_eval to\n",
      "[nltk_data]    |     /Users/amith/nltk_data...\n",
      "[nltk_data]    |   Package wmt15_eval is already up-to-date!\n",
      "[nltk_data]    | Downloading package word2vec_sample to\n",
      "[nltk_data]    |     /Users/amith/nltk_data...\n",
      "[nltk_data]    |   Package word2vec_sample is already up-to-date!\n",
      "[nltk_data]    | Downloading package wordnet to\n",
      "[nltk_data]    |     /Users/amith/nltk_data...\n",
      "[nltk_data]    |   Package wordnet is already up-to-date!\n",
      "[nltk_data]    | Downloading package wordnet2021 to\n",
      "[nltk_data]    |     /Users/amith/nltk_data...\n",
      "[nltk_data]    |   Package wordnet2021 is already up-to-date!\n",
      "[nltk_data]    | Downloading package wordnet2022 to\n",
      "[nltk_data]    |     /Users/amith/nltk_data...\n",
      "[nltk_data]    |   Package wordnet2022 is already up-to-date!\n",
      "[nltk_data]    | Downloading package wordnet31 to\n",
      "[nltk_data]    |     /Users/amith/nltk_data...\n",
      "[nltk_data]    |   Package wordnet31 is already up-to-date!\n",
      "[nltk_data]    | Downloading package wordnet_ic to\n",
      "[nltk_data]    |     /Users/amith/nltk_data...\n",
      "[nltk_data]    |   Package wordnet_ic is already up-to-date!\n",
      "[nltk_data]    | Downloading package words to\n",
      "[nltk_data]    |     /Users/amith/nltk_data...\n",
      "[nltk_data]    |   Package words is already up-to-date!\n",
      "[nltk_data]    | Downloading package ycoe to /Users/amith/nltk_data...\n",
      "[nltk_data]    |   Package ycoe is already up-to-date!\n",
      "[nltk_data]    | \n",
      "[nltk_data]  Done downloading collection all\n"
     ]
    }
   ],
   "source": [
    "import numpy as np\n",
    "import pandas as pd\n",
    "import matplotlib.pyplot as plt\n",
    "import seaborn as sns\n",
    "import nltk\n",
    "nltk.download(\"all\")\n",
    "from nltk.stem import *\n",
    "from nltk.tokenize import *\n",
    "from sklearn.feature_extraction.text import *"
   ]
  },
  {
   "cell_type": "code",
   "outputs": [],
   "source": [
    "from nltk.tokenize import word_tokenize\n",
    "from nltk.corpus import stopwords\n",
    "from nltk.stem import WordNetLemmatizer\n",
    "from sklearn.metrics.pairwise import cosine_similarity\n",
    "from sklearn.feature_extraction.text import TfidfVectorizer"
   ],
   "metadata": {
    "collapsed": false,
    "ExecuteTime": {
     "end_time": "2024-01-04T18:42:06.426549Z",
     "start_time": "2024-01-04T18:42:06.422573Z"
    }
   },
   "id": "b60588976fd8e63",
   "execution_count": 241
  },
  {
   "cell_type": "code",
   "outputs": [],
   "source": [
    "df = pd.read_excel(\"IELTS_Success_Stories_Dataset.xlsx\")"
   ],
   "metadata": {
    "collapsed": false,
    "ExecuteTime": {
     "end_time": "2024-01-04T18:42:06.769503Z",
     "start_time": "2024-01-04T18:42:06.751667Z"
    }
   },
   "id": "231ec637487ee4dc",
   "execution_count": 242
  },
  {
   "cell_type": "code",
   "outputs": [
    {
     "data": {
      "text/plain": "   Candidate   Location         Profession  Study Duration (months)  \\\n0      Aisha    Karachi       Grad Student                        3   \n1      Ahmed     Lahore    IT Professional                        4   \n2     Fatima  Islamabad     School Teacher                        2   \n3        Ali   Peshawar    IT Professional                        5   \n4       Saad     Lahore       Eng. Student                        6   \n5       Nida  Islamabad  Marketing Manager                        3   \n6      Bilal    Karachi    Finance Analyst                        4   \n7       Sara     Lahore    Medical Student                        5   \n8      Imran  Islamabad  Software Engineer                        3   \n9       Hina    Karachi         Journalist                        6   \n10     Farid   Peshawar     Civil Engineer                        4   \n11     Aisha    Karachi       Grad Student                        3   \n12     Ahmed     Lahore    IT Professional                        4   \n13    Fatima  Islamabad     School Teacher                        2   \n14       Ali   Peshawar    IT Professional                        5   \n15      Saad     Lahore       Eng. Student                        6   \n16      Nida  Islamabad  Marketing Manager                        3   \n17     Bilal    Karachi    Finance Analyst                        4   \n18      Sara     Lahore    Medical Student                        5   \n19     Imran  Islamabad  Software Engineer                        3   \n20      Hina    Karachi         Journalist                        6   \n21     Farid   Peshawar     Civil Engineer                        4   \n22      Zara     Lahore   Graphic Designer                        3   \n23    Rashid  Islamabad           Educator                        5   \n24      Sana   Peshawar   Environmentalist                        4   \n25     Hasan    Karachi          Architect                        3   \n26    Zainab     Lahore      HR Specialist                        2   \n\n    IELTS Score (Overall)                                     Key Strategies  \\\n0                   8.500                         Practice, forums, tutoring   \n1                   7.500  Balanced schedule, time management, speaking p...   \n2                   9.000  Intensive course, online resources, mock inter...   \n3                   8.000            Focused study, workshops, peer feedback   \n4                   8.250  Consistent practice, private tutor, speaking c...   \n5                   7.875     Online courses, group study, extensive reading   \n6                   7.000  Self-study, vocabulary building, speaking prac...   \n7                   8.750    Daily practice, study groups, extensive reading   \n8                   8.500  Private tutor, mock tests, listening skill imp...   \n9                   7.500  Balanced study routine, writing practice, onli...   \n10                  8.250  Group study, online forums, speaking with nati...   \n11                  8.500                         Practice, forums, tutoring   \n12                  7.500  Balanced schedule, time management, speaking p...   \n13                  9.000  Intensive course, online resources, mock inter...   \n14                  8.000            Focused study, workshops, peer feedback   \n15                  8.250  Consistent practice, private tutor, speaking c...   \n16                  7.875     Online courses, group study, extensive reading   \n17                  7.000  Self-study, vocabulary building, speaking prac...   \n18                  8.750    Daily practice, study groups, extensive reading   \n19                  8.500  Private tutor, mock tests, listening skill imp...   \n20                  7.500  Balanced study routine, writing practice, onli...   \n21                  8.250  Group study, online forums, speaking with nati...   \n22                  8.000  Practice tests, writing workshops, vocabulary ...   \n23                  8.750  Structured study plan, speaking clubs, consist...   \n24                  9.000  Intensive speaking practice, online resources,...   \n25                  8.250  Vocabulary building, daily practice, speaking ...   \n26                  7.500  Self-paced study, online forums, speaking with...   \n\n   Education Level  Age Target Country English Proficiency (Preparation)  ...  \\\n0         Master's   24         Canada                          Advanced  ...   \n1       Bachelor's   29      Australia                      Intermediate  ...   \n2         Master's   32    New Zealand                          Advanced  ...   \n3       Bachelor's   27            USA                          Advanced  ...   \n4       Bachelor's   22             UK                          Advanced  ...   \n5         Master's   30      Singapore                      Intermediate  ...   \n6         Master's   28            UAE                      Intermediate  ...   \n7       Bachelor's   23        Ireland                          Advanced  ...   \n8       Bachelor's   26        Germany                          Advanced  ...   \n9         Master's   31       Malaysia                      Intermediate  ...   \n10        Master's   29         Sweden                          Advanced  ...   \n11        Master's   24         Canada                          Advanced  ...   \n12      Bachelor's   29      Australia                      Intermediate  ...   \n13        Master's   32    New Zealand                          Advanced  ...   \n14      Bachelor's   27            USA                          Advanced  ...   \n15      Bachelor's   22             UK                          Advanced  ...   \n16        Master's   30      Singapore                      Intermediate  ...   \n17        Master's   28            UAE                      Intermediate  ...   \n18      Bachelor's   23        Ireland                          Advanced  ...   \n19      Bachelor's   26        Germany                          Advanced  ...   \n20        Master's   31       Malaysia                      Intermediate  ...   \n21        Master's   29         Sweden                          Advanced  ...   \n22      Bachelor's   25         Norway                          Advanced  ...   \n23        Master's   34          Japan                          Advanced  ...   \n24      Bachelor's   28    Netherlands                          Advanced  ...   \n25        Master's   30            UAE                          Advanced  ...   \n26      Bachelor's   26       Malaysia                      Intermediate  ...   \n\n                     Preferred Learning Resources  Application Status  \\\n0                    Online courses, study guides       Under Process   \n1                   Online forums, practice tests            Approved   \n2                 Study guides, language exchange       Under Process   \n3                      Mock exams, speaking clubs            Rejected   \n4             Online tutorials, speaking practice       Under Process   \n5                     Podcasts, business articles             Pending   \n6               Financial news, language exchange             Pending   \n7             Medical journals, language exchange            Approved   \n8             Coding platforms, language exchange       Under Process   \n9                News articles, language exchange            Rejected   \n10        Engineering journals, language exchange             Pending   \n11                   Online courses, study guides       Under Process   \n12                  Online forums, practice tests            Approved   \n13                Study guides, language exchange       Under Process   \n14                     Mock exams, speaking clubs            Rejected   \n15            Online tutorials, speaking practice       Under Process   \n16                    Podcasts, business articles             Pending   \n17              Financial news, language exchange             Pending   \n18            Medical journals, language exchange            Approved   \n19            Coding platforms, language exchange       Under Process   \n20               News articles, language exchange            Rejected   \n21        Engineering journals, language exchange             Pending   \n22            Design tutorials, language exchange       Under Process   \n23       Educational resources, language exchange            Approved   \n24  Environmental publications, language exchange       Under Process   \n25     Architectural tutorials, language exchange            Approved   \n26             HR publications, language exchange             Pending   \n\n   Job Offer Received          Additional Certifications Volunteer Experience  \\\n0                  No                              TESOL                  Yes   \n1                 Yes                                PMP                   No   \n2                  No                              CELTA                  Yes   \n3                  No  AWS Certified Solutions Architect                   No   \n4                  No                     IELTS Examiner                  Yes   \n5                  No                  Digital Marketing                   No   \n6                  No                        CFA Level I                   No   \n7                  No                  BLS Certification                  Yes   \n8                  No             ISTQB Certified Tester                  Yes   \n9                  No           Journalism Certification                   No   \n10                 No             Structural Engineering                   No   \n11                 No                              TESOL                  Yes   \n12                Yes                                PMP                   No   \n13                 No                              CELTA                  Yes   \n14                 No  AWS Certified Solutions Architect                   No   \n15                 No                     IELTS Examiner                  Yes   \n16                 No                  Digital Marketing                   No   \n17                 No                        CFA Level I                   No   \n18                 No                  BLS Certification                  Yes   \n19                 No             ISTQB Certified Tester                  Yes   \n20                 No           Journalism Certification                   No   \n21                 No             Structural Engineering                   No   \n22                 No             Adobe Certified Expert                  Yes   \n23                 No                               TEFL                  Yes   \n24                 No               Sustainability Cert.                  Yes   \n25                 No               LEED Green Associate                  Yes   \n26                 No                            SHRM-CP                   No   \n\n   Language Fluency     Internship Experience  \\\n0     Urdu, English        Research Assistant   \n1     Urdu, English             IT Consultant   \n2     Urdu, English      Curriculum Developer   \n3     Urdu, English        Software Developer   \n4     Urdu, English        Research Assistant   \n5     Urdu, English     Marketing Coordinator   \n6     Urdu, English         Financial Analyst   \n7     Urdu, English        Research Assistant   \n8     Urdu, English        Software Developer   \n9     Urdu, English            Content Writer   \n10    Urdu, English          Project Engineer   \n11    Urdu, English        Research Assistant   \n12    Urdu, English             IT Consultant   \n13    Urdu, English      Curriculum Developer   \n14    Urdu, English        Software Developer   \n15    Urdu, English        Research Assistant   \n16    Urdu, English     Marketing Coordinator   \n17    Urdu, English         Financial Analyst   \n18    Urdu, English        Research Assistant   \n19    Urdu, English        Software Developer   \n20    Urdu, English            Content Writer   \n21    Urdu, English          Project Engineer   \n22    Urdu, English            UI/UX Designer   \n23    Urdu, English     Curriculum Specialist   \n24    Urdu, English  Environmental Researcher   \n25    Urdu, English    Architectural Designer   \n26    Urdu, English             HR Consultant   \n\n                      Relevant Skills Recommendations       Networking Efforts  \n0             Data Analysis, Teaching          Strong   LinkedIn, Local Events  \n1     Project Management, Programming        Positive       Online Communities  \n2   Lesson Planning, Educational Tech        Positive      Professional Groups  \n3        Cloud Computing, Programming          Strong         Online Platforms  \n4       Lab Techniques, Data Analysis        Positive        University Events  \n5               SEO, Content Creation         Neutral     Industry Conferences  \n6   Financial Modeling, Data Analysis         Neutral            Online Forums  \n7       Lab Techniques, Data Analysis        Positive      Medical Conferences  \n8             Programming, QA Testing        Positive       Coding Communities  \n9                    Writing, Editing         Neutral      Freelance Platforms  \n10       AutoCAD, Structural Analysis        Positive       Engineering Events  \n11            Data Analysis, Teaching          Strong   LinkedIn, Local Events  \n12    Project Management, Programming        Positive       Online Communities  \n13  Lesson Planning, Educational Tech        Positive      Professional Groups  \n14       Cloud Computing, Programming          Strong         Online Platforms  \n15      Lab Techniques, Data Analysis        Positive        University Events  \n16              SEO, Content Creation         Neutral     Industry Conferences  \n17  Financial Modeling, Data Analysis         Neutral            Online Forums  \n18      Lab Techniques, Data Analysis        Positive      Medical Conferences  \n19            Programming, QA Testing        Positive       Coding Communities  \n20                   Writing, Editing         Neutral      Freelance Platforms  \n21       AutoCAD, Structural Analysis        Positive       Engineering Events  \n22  Adobe Creative Suite, Prototyping        Positive       Design Communities  \n23        Lesson Planning, E-Learning        Positive  Educational Conferences  \n24        Data Analysis, Conservation        Positive     Environmental Events  \n25               AutoCAD, 3D Modeling        Positive      Architecture Forums  \n26    Employee Relations, Recruitment         Neutral     HR Networking Events  \n\n[27 rows x 23 columns]",
      "text/html": "<div>\n<style scoped>\n    .dataframe tbody tr th:only-of-type {\n        vertical-align: middle;\n    }\n\n    .dataframe tbody tr th {\n        vertical-align: top;\n    }\n\n    .dataframe thead th {\n        text-align: right;\n    }\n</style>\n<table border=\"1\" class=\"dataframe\">\n  <thead>\n    <tr style=\"text-align: right;\">\n      <th></th>\n      <th>Candidate</th>\n      <th>Location</th>\n      <th>Profession</th>\n      <th>Study Duration (months)</th>\n      <th>IELTS Score (Overall)</th>\n      <th>Key Strategies</th>\n      <th>Education Level</th>\n      <th>Age</th>\n      <th>Target Country</th>\n      <th>English Proficiency (Preparation)</th>\n      <th>...</th>\n      <th>Preferred Learning Resources</th>\n      <th>Application Status</th>\n      <th>Job Offer Received</th>\n      <th>Additional Certifications</th>\n      <th>Volunteer Experience</th>\n      <th>Language Fluency</th>\n      <th>Internship Experience</th>\n      <th>Relevant Skills</th>\n      <th>Recommendations</th>\n      <th>Networking Efforts</th>\n    </tr>\n  </thead>\n  <tbody>\n    <tr>\n      <th>0</th>\n      <td>Aisha</td>\n      <td>Karachi</td>\n      <td>Grad Student</td>\n      <td>3</td>\n      <td>8.500</td>\n      <td>Practice, forums, tutoring</td>\n      <td>Master's</td>\n      <td>24</td>\n      <td>Canada</td>\n      <td>Advanced</td>\n      <td>...</td>\n      <td>Online courses, study guides</td>\n      <td>Under Process</td>\n      <td>No</td>\n      <td>TESOL</td>\n      <td>Yes</td>\n      <td>Urdu, English</td>\n      <td>Research Assistant</td>\n      <td>Data Analysis, Teaching</td>\n      <td>Strong</td>\n      <td>LinkedIn, Local Events</td>\n    </tr>\n    <tr>\n      <th>1</th>\n      <td>Ahmed</td>\n      <td>Lahore</td>\n      <td>IT Professional</td>\n      <td>4</td>\n      <td>7.500</td>\n      <td>Balanced schedule, time management, speaking p...</td>\n      <td>Bachelor's</td>\n      <td>29</td>\n      <td>Australia</td>\n      <td>Intermediate</td>\n      <td>...</td>\n      <td>Online forums, practice tests</td>\n      <td>Approved</td>\n      <td>Yes</td>\n      <td>PMP</td>\n      <td>No</td>\n      <td>Urdu, English</td>\n      <td>IT Consultant</td>\n      <td>Project Management, Programming</td>\n      <td>Positive</td>\n      <td>Online Communities</td>\n    </tr>\n    <tr>\n      <th>2</th>\n      <td>Fatima</td>\n      <td>Islamabad</td>\n      <td>School Teacher</td>\n      <td>2</td>\n      <td>9.000</td>\n      <td>Intensive course, online resources, mock inter...</td>\n      <td>Master's</td>\n      <td>32</td>\n      <td>New Zealand</td>\n      <td>Advanced</td>\n      <td>...</td>\n      <td>Study guides, language exchange</td>\n      <td>Under Process</td>\n      <td>No</td>\n      <td>CELTA</td>\n      <td>Yes</td>\n      <td>Urdu, English</td>\n      <td>Curriculum Developer</td>\n      <td>Lesson Planning, Educational Tech</td>\n      <td>Positive</td>\n      <td>Professional Groups</td>\n    </tr>\n    <tr>\n      <th>3</th>\n      <td>Ali</td>\n      <td>Peshawar</td>\n      <td>IT Professional</td>\n      <td>5</td>\n      <td>8.000</td>\n      <td>Focused study, workshops, peer feedback</td>\n      <td>Bachelor's</td>\n      <td>27</td>\n      <td>USA</td>\n      <td>Advanced</td>\n      <td>...</td>\n      <td>Mock exams, speaking clubs</td>\n      <td>Rejected</td>\n      <td>No</td>\n      <td>AWS Certified Solutions Architect</td>\n      <td>No</td>\n      <td>Urdu, English</td>\n      <td>Software Developer</td>\n      <td>Cloud Computing, Programming</td>\n      <td>Strong</td>\n      <td>Online Platforms</td>\n    </tr>\n    <tr>\n      <th>4</th>\n      <td>Saad</td>\n      <td>Lahore</td>\n      <td>Eng. Student</td>\n      <td>6</td>\n      <td>8.250</td>\n      <td>Consistent practice, private tutor, speaking c...</td>\n      <td>Bachelor's</td>\n      <td>22</td>\n      <td>UK</td>\n      <td>Advanced</td>\n      <td>...</td>\n      <td>Online tutorials, speaking practice</td>\n      <td>Under Process</td>\n      <td>No</td>\n      <td>IELTS Examiner</td>\n      <td>Yes</td>\n      <td>Urdu, English</td>\n      <td>Research Assistant</td>\n      <td>Lab Techniques, Data Analysis</td>\n      <td>Positive</td>\n      <td>University Events</td>\n    </tr>\n    <tr>\n      <th>5</th>\n      <td>Nida</td>\n      <td>Islamabad</td>\n      <td>Marketing Manager</td>\n      <td>3</td>\n      <td>7.875</td>\n      <td>Online courses, group study, extensive reading</td>\n      <td>Master's</td>\n      <td>30</td>\n      <td>Singapore</td>\n      <td>Intermediate</td>\n      <td>...</td>\n      <td>Podcasts, business articles</td>\n      <td>Pending</td>\n      <td>No</td>\n      <td>Digital Marketing</td>\n      <td>No</td>\n      <td>Urdu, English</td>\n      <td>Marketing Coordinator</td>\n      <td>SEO, Content Creation</td>\n      <td>Neutral</td>\n      <td>Industry Conferences</td>\n    </tr>\n    <tr>\n      <th>6</th>\n      <td>Bilal</td>\n      <td>Karachi</td>\n      <td>Finance Analyst</td>\n      <td>4</td>\n      <td>7.000</td>\n      <td>Self-study, vocabulary building, speaking prac...</td>\n      <td>Master's</td>\n      <td>28</td>\n      <td>UAE</td>\n      <td>Intermediate</td>\n      <td>...</td>\n      <td>Financial news, language exchange</td>\n      <td>Pending</td>\n      <td>No</td>\n      <td>CFA Level I</td>\n      <td>No</td>\n      <td>Urdu, English</td>\n      <td>Financial Analyst</td>\n      <td>Financial Modeling, Data Analysis</td>\n      <td>Neutral</td>\n      <td>Online Forums</td>\n    </tr>\n    <tr>\n      <th>7</th>\n      <td>Sara</td>\n      <td>Lahore</td>\n      <td>Medical Student</td>\n      <td>5</td>\n      <td>8.750</td>\n      <td>Daily practice, study groups, extensive reading</td>\n      <td>Bachelor's</td>\n      <td>23</td>\n      <td>Ireland</td>\n      <td>Advanced</td>\n      <td>...</td>\n      <td>Medical journals, language exchange</td>\n      <td>Approved</td>\n      <td>No</td>\n      <td>BLS Certification</td>\n      <td>Yes</td>\n      <td>Urdu, English</td>\n      <td>Research Assistant</td>\n      <td>Lab Techniques, Data Analysis</td>\n      <td>Positive</td>\n      <td>Medical Conferences</td>\n    </tr>\n    <tr>\n      <th>8</th>\n      <td>Imran</td>\n      <td>Islamabad</td>\n      <td>Software Engineer</td>\n      <td>3</td>\n      <td>8.500</td>\n      <td>Private tutor, mock tests, listening skill imp...</td>\n      <td>Bachelor's</td>\n      <td>26</td>\n      <td>Germany</td>\n      <td>Advanced</td>\n      <td>...</td>\n      <td>Coding platforms, language exchange</td>\n      <td>Under Process</td>\n      <td>No</td>\n      <td>ISTQB Certified Tester</td>\n      <td>Yes</td>\n      <td>Urdu, English</td>\n      <td>Software Developer</td>\n      <td>Programming, QA Testing</td>\n      <td>Positive</td>\n      <td>Coding Communities</td>\n    </tr>\n    <tr>\n      <th>9</th>\n      <td>Hina</td>\n      <td>Karachi</td>\n      <td>Journalist</td>\n      <td>6</td>\n      <td>7.500</td>\n      <td>Balanced study routine, writing practice, onli...</td>\n      <td>Master's</td>\n      <td>31</td>\n      <td>Malaysia</td>\n      <td>Intermediate</td>\n      <td>...</td>\n      <td>News articles, language exchange</td>\n      <td>Rejected</td>\n      <td>No</td>\n      <td>Journalism Certification</td>\n      <td>No</td>\n      <td>Urdu, English</td>\n      <td>Content Writer</td>\n      <td>Writing, Editing</td>\n      <td>Neutral</td>\n      <td>Freelance Platforms</td>\n    </tr>\n    <tr>\n      <th>10</th>\n      <td>Farid</td>\n      <td>Peshawar</td>\n      <td>Civil Engineer</td>\n      <td>4</td>\n      <td>8.250</td>\n      <td>Group study, online forums, speaking with nati...</td>\n      <td>Master's</td>\n      <td>29</td>\n      <td>Sweden</td>\n      <td>Advanced</td>\n      <td>...</td>\n      <td>Engineering journals, language exchange</td>\n      <td>Pending</td>\n      <td>No</td>\n      <td>Structural Engineering</td>\n      <td>No</td>\n      <td>Urdu, English</td>\n      <td>Project Engineer</td>\n      <td>AutoCAD, Structural Analysis</td>\n      <td>Positive</td>\n      <td>Engineering Events</td>\n    </tr>\n    <tr>\n      <th>11</th>\n      <td>Aisha</td>\n      <td>Karachi</td>\n      <td>Grad Student</td>\n      <td>3</td>\n      <td>8.500</td>\n      <td>Practice, forums, tutoring</td>\n      <td>Master's</td>\n      <td>24</td>\n      <td>Canada</td>\n      <td>Advanced</td>\n      <td>...</td>\n      <td>Online courses, study guides</td>\n      <td>Under Process</td>\n      <td>No</td>\n      <td>TESOL</td>\n      <td>Yes</td>\n      <td>Urdu, English</td>\n      <td>Research Assistant</td>\n      <td>Data Analysis, Teaching</td>\n      <td>Strong</td>\n      <td>LinkedIn, Local Events</td>\n    </tr>\n    <tr>\n      <th>12</th>\n      <td>Ahmed</td>\n      <td>Lahore</td>\n      <td>IT Professional</td>\n      <td>4</td>\n      <td>7.500</td>\n      <td>Balanced schedule, time management, speaking p...</td>\n      <td>Bachelor's</td>\n      <td>29</td>\n      <td>Australia</td>\n      <td>Intermediate</td>\n      <td>...</td>\n      <td>Online forums, practice tests</td>\n      <td>Approved</td>\n      <td>Yes</td>\n      <td>PMP</td>\n      <td>No</td>\n      <td>Urdu, English</td>\n      <td>IT Consultant</td>\n      <td>Project Management, Programming</td>\n      <td>Positive</td>\n      <td>Online Communities</td>\n    </tr>\n    <tr>\n      <th>13</th>\n      <td>Fatima</td>\n      <td>Islamabad</td>\n      <td>School Teacher</td>\n      <td>2</td>\n      <td>9.000</td>\n      <td>Intensive course, online resources, mock inter...</td>\n      <td>Master's</td>\n      <td>32</td>\n      <td>New Zealand</td>\n      <td>Advanced</td>\n      <td>...</td>\n      <td>Study guides, language exchange</td>\n      <td>Under Process</td>\n      <td>No</td>\n      <td>CELTA</td>\n      <td>Yes</td>\n      <td>Urdu, English</td>\n      <td>Curriculum Developer</td>\n      <td>Lesson Planning, Educational Tech</td>\n      <td>Positive</td>\n      <td>Professional Groups</td>\n    </tr>\n    <tr>\n      <th>14</th>\n      <td>Ali</td>\n      <td>Peshawar</td>\n      <td>IT Professional</td>\n      <td>5</td>\n      <td>8.000</td>\n      <td>Focused study, workshops, peer feedback</td>\n      <td>Bachelor's</td>\n      <td>27</td>\n      <td>USA</td>\n      <td>Advanced</td>\n      <td>...</td>\n      <td>Mock exams, speaking clubs</td>\n      <td>Rejected</td>\n      <td>No</td>\n      <td>AWS Certified Solutions Architect</td>\n      <td>No</td>\n      <td>Urdu, English</td>\n      <td>Software Developer</td>\n      <td>Cloud Computing, Programming</td>\n      <td>Strong</td>\n      <td>Online Platforms</td>\n    </tr>\n    <tr>\n      <th>15</th>\n      <td>Saad</td>\n      <td>Lahore</td>\n      <td>Eng. Student</td>\n      <td>6</td>\n      <td>8.250</td>\n      <td>Consistent practice, private tutor, speaking c...</td>\n      <td>Bachelor's</td>\n      <td>22</td>\n      <td>UK</td>\n      <td>Advanced</td>\n      <td>...</td>\n      <td>Online tutorials, speaking practice</td>\n      <td>Under Process</td>\n      <td>No</td>\n      <td>IELTS Examiner</td>\n      <td>Yes</td>\n      <td>Urdu, English</td>\n      <td>Research Assistant</td>\n      <td>Lab Techniques, Data Analysis</td>\n      <td>Positive</td>\n      <td>University Events</td>\n    </tr>\n    <tr>\n      <th>16</th>\n      <td>Nida</td>\n      <td>Islamabad</td>\n      <td>Marketing Manager</td>\n      <td>3</td>\n      <td>7.875</td>\n      <td>Online courses, group study, extensive reading</td>\n      <td>Master's</td>\n      <td>30</td>\n      <td>Singapore</td>\n      <td>Intermediate</td>\n      <td>...</td>\n      <td>Podcasts, business articles</td>\n      <td>Pending</td>\n      <td>No</td>\n      <td>Digital Marketing</td>\n      <td>No</td>\n      <td>Urdu, English</td>\n      <td>Marketing Coordinator</td>\n      <td>SEO, Content Creation</td>\n      <td>Neutral</td>\n      <td>Industry Conferences</td>\n    </tr>\n    <tr>\n      <th>17</th>\n      <td>Bilal</td>\n      <td>Karachi</td>\n      <td>Finance Analyst</td>\n      <td>4</td>\n      <td>7.000</td>\n      <td>Self-study, vocabulary building, speaking prac...</td>\n      <td>Master's</td>\n      <td>28</td>\n      <td>UAE</td>\n      <td>Intermediate</td>\n      <td>...</td>\n      <td>Financial news, language exchange</td>\n      <td>Pending</td>\n      <td>No</td>\n      <td>CFA Level I</td>\n      <td>No</td>\n      <td>Urdu, English</td>\n      <td>Financial Analyst</td>\n      <td>Financial Modeling, Data Analysis</td>\n      <td>Neutral</td>\n      <td>Online Forums</td>\n    </tr>\n    <tr>\n      <th>18</th>\n      <td>Sara</td>\n      <td>Lahore</td>\n      <td>Medical Student</td>\n      <td>5</td>\n      <td>8.750</td>\n      <td>Daily practice, study groups, extensive reading</td>\n      <td>Bachelor's</td>\n      <td>23</td>\n      <td>Ireland</td>\n      <td>Advanced</td>\n      <td>...</td>\n      <td>Medical journals, language exchange</td>\n      <td>Approved</td>\n      <td>No</td>\n      <td>BLS Certification</td>\n      <td>Yes</td>\n      <td>Urdu, English</td>\n      <td>Research Assistant</td>\n      <td>Lab Techniques, Data Analysis</td>\n      <td>Positive</td>\n      <td>Medical Conferences</td>\n    </tr>\n    <tr>\n      <th>19</th>\n      <td>Imran</td>\n      <td>Islamabad</td>\n      <td>Software Engineer</td>\n      <td>3</td>\n      <td>8.500</td>\n      <td>Private tutor, mock tests, listening skill imp...</td>\n      <td>Bachelor's</td>\n      <td>26</td>\n      <td>Germany</td>\n      <td>Advanced</td>\n      <td>...</td>\n      <td>Coding platforms, language exchange</td>\n      <td>Under Process</td>\n      <td>No</td>\n      <td>ISTQB Certified Tester</td>\n      <td>Yes</td>\n      <td>Urdu, English</td>\n      <td>Software Developer</td>\n      <td>Programming, QA Testing</td>\n      <td>Positive</td>\n      <td>Coding Communities</td>\n    </tr>\n    <tr>\n      <th>20</th>\n      <td>Hina</td>\n      <td>Karachi</td>\n      <td>Journalist</td>\n      <td>6</td>\n      <td>7.500</td>\n      <td>Balanced study routine, writing practice, onli...</td>\n      <td>Master's</td>\n      <td>31</td>\n      <td>Malaysia</td>\n      <td>Intermediate</td>\n      <td>...</td>\n      <td>News articles, language exchange</td>\n      <td>Rejected</td>\n      <td>No</td>\n      <td>Journalism Certification</td>\n      <td>No</td>\n      <td>Urdu, English</td>\n      <td>Content Writer</td>\n      <td>Writing, Editing</td>\n      <td>Neutral</td>\n      <td>Freelance Platforms</td>\n    </tr>\n    <tr>\n      <th>21</th>\n      <td>Farid</td>\n      <td>Peshawar</td>\n      <td>Civil Engineer</td>\n      <td>4</td>\n      <td>8.250</td>\n      <td>Group study, online forums, speaking with nati...</td>\n      <td>Master's</td>\n      <td>29</td>\n      <td>Sweden</td>\n      <td>Advanced</td>\n      <td>...</td>\n      <td>Engineering journals, language exchange</td>\n      <td>Pending</td>\n      <td>No</td>\n      <td>Structural Engineering</td>\n      <td>No</td>\n      <td>Urdu, English</td>\n      <td>Project Engineer</td>\n      <td>AutoCAD, Structural Analysis</td>\n      <td>Positive</td>\n      <td>Engineering Events</td>\n    </tr>\n    <tr>\n      <th>22</th>\n      <td>Zara</td>\n      <td>Lahore</td>\n      <td>Graphic Designer</td>\n      <td>3</td>\n      <td>8.000</td>\n      <td>Practice tests, writing workshops, vocabulary ...</td>\n      <td>Bachelor's</td>\n      <td>25</td>\n      <td>Norway</td>\n      <td>Advanced</td>\n      <td>...</td>\n      <td>Design tutorials, language exchange</td>\n      <td>Under Process</td>\n      <td>No</td>\n      <td>Adobe Certified Expert</td>\n      <td>Yes</td>\n      <td>Urdu, English</td>\n      <td>UI/UX Designer</td>\n      <td>Adobe Creative Suite, Prototyping</td>\n      <td>Positive</td>\n      <td>Design Communities</td>\n    </tr>\n    <tr>\n      <th>23</th>\n      <td>Rashid</td>\n      <td>Islamabad</td>\n      <td>Educator</td>\n      <td>5</td>\n      <td>8.750</td>\n      <td>Structured study plan, speaking clubs, consist...</td>\n      <td>Master's</td>\n      <td>34</td>\n      <td>Japan</td>\n      <td>Advanced</td>\n      <td>...</td>\n      <td>Educational resources, language exchange</td>\n      <td>Approved</td>\n      <td>No</td>\n      <td>TEFL</td>\n      <td>Yes</td>\n      <td>Urdu, English</td>\n      <td>Curriculum Specialist</td>\n      <td>Lesson Planning, E-Learning</td>\n      <td>Positive</td>\n      <td>Educational Conferences</td>\n    </tr>\n    <tr>\n      <th>24</th>\n      <td>Sana</td>\n      <td>Peshawar</td>\n      <td>Environmentalist</td>\n      <td>4</td>\n      <td>9.000</td>\n      <td>Intensive speaking practice, online resources,...</td>\n      <td>Bachelor's</td>\n      <td>28</td>\n      <td>Netherlands</td>\n      <td>Advanced</td>\n      <td>...</td>\n      <td>Environmental publications, language exchange</td>\n      <td>Under Process</td>\n      <td>No</td>\n      <td>Sustainability Cert.</td>\n      <td>Yes</td>\n      <td>Urdu, English</td>\n      <td>Environmental Researcher</td>\n      <td>Data Analysis, Conservation</td>\n      <td>Positive</td>\n      <td>Environmental Events</td>\n    </tr>\n    <tr>\n      <th>25</th>\n      <td>Hasan</td>\n      <td>Karachi</td>\n      <td>Architect</td>\n      <td>3</td>\n      <td>8.250</td>\n      <td>Vocabulary building, daily practice, speaking ...</td>\n      <td>Master's</td>\n      <td>30</td>\n      <td>UAE</td>\n      <td>Advanced</td>\n      <td>...</td>\n      <td>Architectural tutorials, language exchange</td>\n      <td>Approved</td>\n      <td>No</td>\n      <td>LEED Green Associate</td>\n      <td>Yes</td>\n      <td>Urdu, English</td>\n      <td>Architectural Designer</td>\n      <td>AutoCAD, 3D Modeling</td>\n      <td>Positive</td>\n      <td>Architecture Forums</td>\n    </tr>\n    <tr>\n      <th>26</th>\n      <td>Zainab</td>\n      <td>Lahore</td>\n      <td>HR Specialist</td>\n      <td>2</td>\n      <td>7.500</td>\n      <td>Self-paced study, online forums, speaking with...</td>\n      <td>Bachelor's</td>\n      <td>26</td>\n      <td>Malaysia</td>\n      <td>Intermediate</td>\n      <td>...</td>\n      <td>HR publications, language exchange</td>\n      <td>Pending</td>\n      <td>No</td>\n      <td>SHRM-CP</td>\n      <td>No</td>\n      <td>Urdu, English</td>\n      <td>HR Consultant</td>\n      <td>Employee Relations, Recruitment</td>\n      <td>Neutral</td>\n      <td>HR Networking Events</td>\n    </tr>\n  </tbody>\n</table>\n<p>27 rows × 23 columns</p>\n</div>"
     },
     "execution_count": 243,
     "metadata": {},
     "output_type": "execute_result"
    }
   ],
   "source": [
    "df"
   ],
   "metadata": {
    "collapsed": false,
    "ExecuteTime": {
     "end_time": "2024-01-04T18:42:07.123288Z",
     "start_time": "2024-01-04T18:42:07.076576Z"
    }
   },
   "id": "3369eab0b9a106b4",
   "execution_count": 243
  },
  {
   "cell_type": "code",
   "outputs": [],
   "source": [
    "multiple_features = [\"Key Strategies\",\"Preferred Learning Resources\",\"Relevant Skills\"]\n",
    "df_1 = df.copy()\n",
    "\n",
    "col = df.columns.values\n",
    "new_col = []\n",
    "num_col = []\n",
    "start = 0\n",
    "for i in multiple_features:\n",
    "    data = df[i].copy()\n",
    "    d = np.array(list(map(lambda x: [i.strip() for i in x.split(\",\")],data)))\n",
    "    colu = []\n",
    "    for j in range(d.shape[1]):\n",
    "        df_1[i+\" \"+str(j)] = d[:,j]\n",
    "        colu.append(i+\" \"+str(j))\n",
    "    df_1 = df_1.drop(columns=i)\n",
    "    stop = np.where(col==i)[0][0]\n",
    "    new_col += col[start:stop].tolist()\n",
    "    new_col += colu\n",
    "    num_col += colu\n",
    "    start = stop + 1\n",
    "df_2 = df_1[new_col].drop(columns=[\"Language Fluency\"])\n",
    "df_2[\"IELTS Score (Overall)\"] = df_2[\"IELTS Score (Overall)\"].round(2)"
   ],
   "metadata": {
    "collapsed": false,
    "ExecuteTime": {
     "end_time": "2024-01-04T18:42:07.497284Z",
     "start_time": "2024-01-04T18:42:07.494324Z"
    }
   },
   "id": "3275dc24a28c2507",
   "execution_count": 244
  },
  {
   "cell_type": "code",
   "outputs": [],
   "source": [
    "df_3 = df_2.copy()\n",
    "for i in num_col:\n",
    "    df_3[i] = df_2[i].str.lower()"
   ],
   "metadata": {
    "collapsed": false,
    "ExecuteTime": {
     "end_time": "2024-01-04T18:42:08.053953Z",
     "start_time": "2024-01-04T18:42:08.048020Z"
    }
   },
   "id": "3911da4b9dedc012",
   "execution_count": 245
  },
  {
   "cell_type": "code",
   "outputs": [],
   "source": [
    "key_strategies = []\n",
    "\n",
    "key_strategies += df_3[\"Key Strategies 0\"].unique().tolist()\n",
    "key_strategies += df_3[\"Key Strategies 1\"].unique().tolist()\n",
    "key_strategies += df_3[\"Key Strategies 2\"].unique().tolist()\n",
    "\n",
    "key_strategies = np.sort(pd.Series(key_strategies).unique()).tolist()\n",
    "\n",
    "\n",
    "preferred_learning = []\n",
    "\n",
    "preferred_learning += df_3[\"Preferred Learning Resources 0\"].unique().tolist()\n",
    "preferred_learning += df_3[\"Preferred Learning Resources 1\"].unique().tolist()\n",
    "\n",
    "preferred_learning = np.sort(pd.Series(preferred_learning).unique()).tolist()\n",
    "\n",
    "\n",
    "relevant_skills = []\n",
    "\n",
    "relevant_skills += df_3[\"Relevant Skills 0\"].unique().tolist()\n",
    "relevant_skills += df_3[\"Relevant Skills 1\"].unique().tolist()\n",
    "\n",
    "relevant_skills = np.sort(pd.Series(relevant_skills).unique()).tolist()"
   ],
   "metadata": {
    "collapsed": false,
    "ExecuteTime": {
     "end_time": "2024-01-04T18:42:08.418507Z",
     "start_time": "2024-01-04T18:42:08.414164Z"
    }
   },
   "id": "ae75e3a49204adae",
   "execution_count": 246
  },
  {
   "cell_type": "code",
   "outputs": [
    {
     "name": "stdout",
     "output_type": "stream",
     "text": [
      "['balanced schedule', 'balanced study routine', 'consistent practice', 'daily practice', 'extensive reading', 'focused study', 'forums', 'group study', 'intensive course', 'intensive speaking practice', 'listening skill improvement', 'mock interviews', 'mock tests', 'online courses', 'online forums', 'online resources', 'peer feedback', 'practice', 'practice tests', 'private tutor', 'self-paced study', 'self-study', 'speaking clubs', 'speaking practice', 'speaking with native speakers', 'structured study plan', 'study groups', 'time management', 'tutoring', 'vocabulary building', 'vocabulary enhancement', 'workshops', 'writing practice', 'writing workshops']\n"
     ]
    }
   ],
   "source": [
    "print(key_strategies)"
   ],
   "metadata": {
    "collapsed": false,
    "ExecuteTime": {
     "end_time": "2024-01-04T18:42:08.889588Z",
     "start_time": "2024-01-04T18:42:08.886039Z"
    }
   },
   "id": "c9a8bfccc6b81f5f",
   "execution_count": 247
  },
  {
   "cell_type": "code",
   "outputs": [
    {
     "name": "stdout",
     "output_type": "stream",
     "text": [
      "['balanced study routine']\n"
     ]
    }
   ],
   "source": [
    "tfidf = TfidfVectorizer()\n",
    "ppp = tfidf.fit_transform(key_strategies)\n",
    "qqq = cosine_similarity(ppp).round(2)\n",
    "\n",
    "key_strategies_dict = {}\n",
    "for i in key_strategies:\n",
    "    hh = key_strategies.index(i)\n",
    "    n = []\n",
    "    for j in key_strategies[hh+1:]:\n",
    "        ww = key_strategies.index(j)\n",
    "        if qqq[hh,ww] > 0:\n",
    "            n.append(j)\n",
    "        key_strategies_dict[i] = n\n",
    "\n",
    "key_strategies_1 = key_strategies.copy()\n",
    "lis = list(key_strategies_dict.keys())\n",
    "q = lis[0]\n",
    "\n",
    "def remove_extra(key_stra"
   ],
   "metadata": {
    "collapsed": false,
    "ExecuteTime": {
     "end_time": "2024-01-04T19:10:33.109996Z",
     "start_time": "2024-01-04T19:10:33.100997Z"
    }
   },
   "id": "84d5ca2826a673eb",
   "execution_count": 303
  },
  {
   "cell_type": "code",
   "outputs": [],
   "source": [],
   "metadata": {
    "collapsed": false
   },
   "id": "674b3a5b7a61c28e"
  },
  {
   "cell_type": "code",
   "outputs": [
    {
     "data": {
      "text/plain": "14"
     },
     "execution_count": 285,
     "metadata": {},
     "output_type": "execute_result"
    }
   ],
   "source": [
    "len(key_strategies_remove) + len(key_strategies_1)"
   ],
   "metadata": {
    "collapsed": false,
    "ExecuteTime": {
     "end_time": "2024-01-04T19:00:34.071897Z",
     "start_time": "2024-01-04T19:00:34.065489Z"
    }
   },
   "id": "618db7525f7a36a4",
   "execution_count": 285
  },
  {
   "cell_type": "code",
   "outputs": [],
   "source": [],
   "metadata": {
    "collapsed": false
   },
   "id": "5c280db5a83cbfc8"
  },
  {
   "cell_type": "code",
   "outputs": [
    {
     "data": {
      "text/plain": "{0: [1],\n 1: [0, 5, 7, 20, 21, 25, 26],\n 2: [3, 9, 17, 18, 23, 32],\n 3: [2, 9, 17, 18, 23, 32],\n 4: [],\n 5: [1, 7, 20, 21, 25, 26],\n 6: [14],\n 7: [1, 5, 20, 21, 25, 26],\n 8: [9],\n 9: [2, 3, 8, 17, 18, 22, 23, 24, 32],\n 10: [],\n 11: [12],\n 12: [11, 18],\n 13: [14, 15],\n 14: [6, 13, 15],\n 15: [13, 14],\n 16: [],\n 17: [2, 3, 9, 18, 23, 32],\n 18: [2, 3, 9, 12, 17, 23, 32],\n 19: [],\n 20: [1, 5, 7, 21, 25, 26],\n 21: [1, 5, 7, 20, 25, 26],\n 22: [9, 23, 24],\n 23: [2, 3, 9, 17, 18, 22, 24, 32],\n 24: [9, 22, 23],\n 25: [1, 5, 7, 20, 21, 26],\n 26: [1, 5, 7, 20, 21, 25],\n 27: [],\n 28: [],\n 29: [30],\n 30: [29],\n 31: [33],\n 32: [2, 3, 9, 17, 18, 23, 33],\n 33: [31, 32]}"
     },
     "execution_count": 258,
     "metadata": {},
     "output_type": "execute_result"
    }
   ],
   "source": [
    "key_strategies_dict"
   ],
   "metadata": {
    "collapsed": false,
    "ExecuteTime": {
     "end_time": "2024-01-04T18:44:24.940216Z",
     "start_time": "2024-01-04T18:44:24.937590Z"
    }
   },
   "id": "63816129206b49c8",
   "execution_count": 258
  },
  {
   "cell_type": "code",
   "outputs": [
    {
     "data": {
      "text/plain": "['balanced schedule',\n 'balanced study routine',\n 'consistent practice',\n 'daily practice',\n 'extensive reading',\n 'focused study',\n 'forums',\n 'group study',\n 'intensive course',\n 'intensive speaking practice',\n 'listening skill improvement',\n 'mock interviews',\n 'mock tests',\n 'online courses',\n 'online forums',\n 'online resources',\n 'peer feedback',\n 'practice',\n 'practice tests',\n 'private tutor',\n 'self-paced study',\n 'self-study',\n 'speaking clubs',\n 'speaking practice',\n 'speaking with native speakers',\n 'structured study plan',\n 'study groups',\n 'time management',\n 'tutoring',\n 'vocabulary building',\n 'vocabulary enhancement',\n 'workshops',\n 'writing practice',\n 'writing workshops']"
     },
     "execution_count": 251,
     "metadata": {},
     "output_type": "execute_result"
    }
   ],
   "source": [
    "key_strategies"
   ],
   "metadata": {
    "collapsed": false,
    "ExecuteTime": {
     "end_time": "2024-01-04T18:42:36.723043Z",
     "start_time": "2024-01-04T18:42:36.718110Z"
    }
   },
   "id": "ac7b07bf04fd069d",
   "execution_count": 251
  },
  {
   "cell_type": "code",
   "outputs": [],
   "source": [],
   "metadata": {
    "collapsed": false
   },
   "id": "7f9887f41236eeb5"
  }
 ],
 "metadata": {
  "kernelspec": {
   "display_name": "Python 3",
   "language": "python",
   "name": "python3"
  },
  "language_info": {
   "codemirror_mode": {
    "name": "ipython",
    "version": 2
   },
   "file_extension": ".py",
   "mimetype": "text/x-python",
   "name": "python",
   "nbconvert_exporter": "python",
   "pygments_lexer": "ipython2",
   "version": "2.7.6"
  }
 },
 "nbformat": 4,
 "nbformat_minor": 5
}
