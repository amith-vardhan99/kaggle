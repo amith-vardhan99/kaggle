{
 "cells": [
  {
   "cell_type": "code",
   "execution_count": 101,
   "id": "initial_id",
   "metadata": {
    "collapsed": true,
    "jupyter": {
     "outputs_hidden": true
    },
    "ExecuteTime": {
     "end_time": "2024-01-05T20:04:22.478773Z",
     "start_time": "2024-01-05T20:04:22.473481Z"
    }
   },
   "outputs": [
    {
     "name": "stderr",
     "output_type": "stream",
     "text": [
      "[nltk_data] Downloading collection 'all'\n",
      "[nltk_data]    | \n",
      "[nltk_data]    | Downloading package abc to /Users/amith/nltk_data...\n",
      "[nltk_data]    |   Package abc is already up-to-date!\n",
      "[nltk_data]    | Downloading package alpino to\n",
      "[nltk_data]    |     /Users/amith/nltk_data...\n",
      "[nltk_data]    |   Package alpino is already up-to-date!\n",
      "[nltk_data]    | Downloading package averaged_perceptron_tagger to\n",
      "[nltk_data]    |     /Users/amith/nltk_data...\n",
      "[nltk_data]    |   Package averaged_perceptron_tagger is already up-\n",
      "[nltk_data]    |       to-date!\n",
      "[nltk_data]    | Downloading package averaged_perceptron_tagger_ru to\n",
      "[nltk_data]    |     /Users/amith/nltk_data...\n",
      "[nltk_data]    |   Package averaged_perceptron_tagger_ru is already\n",
      "[nltk_data]    |       up-to-date!\n",
      "[nltk_data]    | Downloading package basque_grammars to\n",
      "[nltk_data]    |     /Users/amith/nltk_data...\n",
      "[nltk_data]    |   Package basque_grammars is already up-to-date!\n",
      "[nltk_data]    | Downloading package bcp47 to\n",
      "[nltk_data]    |     /Users/amith/nltk_data...\n",
      "[nltk_data]    |   Package bcp47 is already up-to-date!\n",
      "[nltk_data]    | Downloading package biocreative_ppi to\n",
      "[nltk_data]    |     /Users/amith/nltk_data...\n",
      "[nltk_data]    |   Package biocreative_ppi is already up-to-date!\n",
      "[nltk_data]    | Downloading package bllip_wsj_no_aux to\n",
      "[nltk_data]    |     /Users/amith/nltk_data...\n",
      "[nltk_data]    |   Package bllip_wsj_no_aux is already up-to-date!\n",
      "[nltk_data]    | Downloading package book_grammars to\n",
      "[nltk_data]    |     /Users/amith/nltk_data...\n",
      "[nltk_data]    |   Package book_grammars is already up-to-date!\n",
      "[nltk_data]    | Downloading package brown to\n",
      "[nltk_data]    |     /Users/amith/nltk_data...\n",
      "[nltk_data]    |   Package brown is already up-to-date!\n",
      "[nltk_data]    | Downloading package brown_tei to\n",
      "[nltk_data]    |     /Users/amith/nltk_data...\n",
      "[nltk_data]    |   Package brown_tei is already up-to-date!\n",
      "[nltk_data]    | Downloading package cess_cat to\n",
      "[nltk_data]    |     /Users/amith/nltk_data...\n",
      "[nltk_data]    |   Package cess_cat is already up-to-date!\n",
      "[nltk_data]    | Downloading package cess_esp to\n",
      "[nltk_data]    |     /Users/amith/nltk_data...\n",
      "[nltk_data]    |   Package cess_esp is already up-to-date!\n",
      "[nltk_data]    | Downloading package chat80 to\n",
      "[nltk_data]    |     /Users/amith/nltk_data...\n",
      "[nltk_data]    |   Package chat80 is already up-to-date!\n",
      "[nltk_data]    | Downloading package city_database to\n",
      "[nltk_data]    |     /Users/amith/nltk_data...\n",
      "[nltk_data]    |   Package city_database is already up-to-date!\n",
      "[nltk_data]    | Downloading package cmudict to\n",
      "[nltk_data]    |     /Users/amith/nltk_data...\n",
      "[nltk_data]    |   Package cmudict is already up-to-date!\n",
      "[nltk_data]    | Downloading package comparative_sentences to\n",
      "[nltk_data]    |     /Users/amith/nltk_data...\n",
      "[nltk_data]    |   Package comparative_sentences is already up-to-\n",
      "[nltk_data]    |       date!\n",
      "[nltk_data]    | Downloading package comtrans to\n",
      "[nltk_data]    |     /Users/amith/nltk_data...\n",
      "[nltk_data]    |   Package comtrans is already up-to-date!\n",
      "[nltk_data]    | Downloading package conll2000 to\n",
      "[nltk_data]    |     /Users/amith/nltk_data...\n",
      "[nltk_data]    |   Package conll2000 is already up-to-date!\n",
      "[nltk_data]    | Downloading package conll2002 to\n",
      "[nltk_data]    |     /Users/amith/nltk_data...\n",
      "[nltk_data]    |   Package conll2002 is already up-to-date!\n",
      "[nltk_data]    | Downloading package conll2007 to\n",
      "[nltk_data]    |     /Users/amith/nltk_data...\n",
      "[nltk_data]    |   Package conll2007 is already up-to-date!\n",
      "[nltk_data]    | Downloading package crubadan to\n",
      "[nltk_data]    |     /Users/amith/nltk_data...\n",
      "[nltk_data]    |   Package crubadan is already up-to-date!\n",
      "[nltk_data]    | Downloading package dependency_treebank to\n",
      "[nltk_data]    |     /Users/amith/nltk_data...\n",
      "[nltk_data]    |   Package dependency_treebank is already up-to-date!\n",
      "[nltk_data]    | Downloading package dolch to\n",
      "[nltk_data]    |     /Users/amith/nltk_data...\n",
      "[nltk_data]    |   Package dolch is already up-to-date!\n",
      "[nltk_data]    | Downloading package europarl_raw to\n",
      "[nltk_data]    |     /Users/amith/nltk_data...\n",
      "[nltk_data]    |   Package europarl_raw is already up-to-date!\n",
      "[nltk_data]    | Downloading package extended_omw to\n",
      "[nltk_data]    |     /Users/amith/nltk_data...\n",
      "[nltk_data]    |   Package extended_omw is already up-to-date!\n",
      "[nltk_data]    | Downloading package floresta to\n",
      "[nltk_data]    |     /Users/amith/nltk_data...\n",
      "[nltk_data]    |   Package floresta is already up-to-date!\n",
      "[nltk_data]    | Downloading package framenet_v15 to\n",
      "[nltk_data]    |     /Users/amith/nltk_data...\n",
      "[nltk_data]    |   Package framenet_v15 is already up-to-date!\n",
      "[nltk_data]    | Downloading package framenet_v17 to\n",
      "[nltk_data]    |     /Users/amith/nltk_data...\n",
      "[nltk_data]    |   Package framenet_v17 is already up-to-date!\n",
      "[nltk_data]    | Downloading package gazetteers to\n",
      "[nltk_data]    |     /Users/amith/nltk_data...\n",
      "[nltk_data]    |   Package gazetteers is already up-to-date!\n",
      "[nltk_data]    | Downloading package genesis to\n",
      "[nltk_data]    |     /Users/amith/nltk_data...\n",
      "[nltk_data]    |   Package genesis is already up-to-date!\n",
      "[nltk_data]    | Downloading package gutenberg to\n",
      "[nltk_data]    |     /Users/amith/nltk_data...\n",
      "[nltk_data]    |   Package gutenberg is already up-to-date!\n",
      "[nltk_data]    | Downloading package ieer to /Users/amith/nltk_data...\n",
      "[nltk_data]    |   Package ieer is already up-to-date!\n",
      "[nltk_data]    | Downloading package inaugural to\n",
      "[nltk_data]    |     /Users/amith/nltk_data...\n",
      "[nltk_data]    |   Package inaugural is already up-to-date!\n",
      "[nltk_data]    | Downloading package indian to\n",
      "[nltk_data]    |     /Users/amith/nltk_data...\n",
      "[nltk_data]    |   Package indian is already up-to-date!\n",
      "[nltk_data]    | Downloading package jeita to\n",
      "[nltk_data]    |     /Users/amith/nltk_data...\n",
      "[nltk_data]    |   Package jeita is already up-to-date!\n",
      "[nltk_data]    | Downloading package kimmo to\n",
      "[nltk_data]    |     /Users/amith/nltk_data...\n",
      "[nltk_data]    |   Package kimmo is already up-to-date!\n",
      "[nltk_data]    | Downloading package knbc to /Users/amith/nltk_data...\n",
      "[nltk_data]    |   Package knbc is already up-to-date!\n",
      "[nltk_data]    | Downloading package large_grammars to\n",
      "[nltk_data]    |     /Users/amith/nltk_data...\n",
      "[nltk_data]    |   Package large_grammars is already up-to-date!\n",
      "[nltk_data]    | Downloading package lin_thesaurus to\n",
      "[nltk_data]    |     /Users/amith/nltk_data...\n",
      "[nltk_data]    |   Package lin_thesaurus is already up-to-date!\n",
      "[nltk_data]    | Downloading package mac_morpho to\n",
      "[nltk_data]    |     /Users/amith/nltk_data...\n",
      "[nltk_data]    |   Package mac_morpho is already up-to-date!\n",
      "[nltk_data]    | Downloading package machado to\n",
      "[nltk_data]    |     /Users/amith/nltk_data...\n",
      "[nltk_data]    |   Package machado is already up-to-date!\n",
      "[nltk_data]    | Downloading package masc_tagged to\n",
      "[nltk_data]    |     /Users/amith/nltk_data...\n",
      "[nltk_data]    |   Package masc_tagged is already up-to-date!\n",
      "[nltk_data]    | Downloading package maxent_ne_chunker to\n",
      "[nltk_data]    |     /Users/amith/nltk_data...\n",
      "[nltk_data]    |   Package maxent_ne_chunker is already up-to-date!\n",
      "[nltk_data]    | Downloading package maxent_treebank_pos_tagger to\n",
      "[nltk_data]    |     /Users/amith/nltk_data...\n",
      "[nltk_data]    |   Package maxent_treebank_pos_tagger is already up-\n",
      "[nltk_data]    |       to-date!\n",
      "[nltk_data]    | Downloading package moses_sample to\n",
      "[nltk_data]    |     /Users/amith/nltk_data...\n",
      "[nltk_data]    |   Package moses_sample is already up-to-date!\n",
      "[nltk_data]    | Downloading package movie_reviews to\n",
      "[nltk_data]    |     /Users/amith/nltk_data...\n",
      "[nltk_data]    |   Package movie_reviews is already up-to-date!\n",
      "[nltk_data]    | Downloading package mte_teip5 to\n",
      "[nltk_data]    |     /Users/amith/nltk_data...\n",
      "[nltk_data]    |   Package mte_teip5 is already up-to-date!\n",
      "[nltk_data]    | Downloading package mwa_ppdb to\n",
      "[nltk_data]    |     /Users/amith/nltk_data...\n",
      "[nltk_data]    |   Package mwa_ppdb is already up-to-date!\n",
      "[nltk_data]    | Downloading package names to\n",
      "[nltk_data]    |     /Users/amith/nltk_data...\n",
      "[nltk_data]    |   Package names is already up-to-date!\n",
      "[nltk_data]    | Downloading package nombank.1.0 to\n",
      "[nltk_data]    |     /Users/amith/nltk_data...\n",
      "[nltk_data]    |   Package nombank.1.0 is already up-to-date!\n",
      "[nltk_data]    | Downloading package nonbreaking_prefixes to\n",
      "[nltk_data]    |     /Users/amith/nltk_data...\n",
      "[nltk_data]    |   Package nonbreaking_prefixes is already up-to-date!\n",
      "[nltk_data]    | Downloading package nps_chat to\n",
      "[nltk_data]    |     /Users/amith/nltk_data...\n",
      "[nltk_data]    |   Package nps_chat is already up-to-date!\n",
      "[nltk_data]    | Downloading package omw to /Users/amith/nltk_data...\n",
      "[nltk_data]    |   Package omw is already up-to-date!\n",
      "[nltk_data]    | Downloading package omw-1.4 to\n",
      "[nltk_data]    |     /Users/amith/nltk_data...\n",
      "[nltk_data]    |   Package omw-1.4 is already up-to-date!\n",
      "[nltk_data]    | Downloading package opinion_lexicon to\n",
      "[nltk_data]    |     /Users/amith/nltk_data...\n",
      "[nltk_data]    |   Package opinion_lexicon is already up-to-date!\n",
      "[nltk_data]    | Downloading package panlex_swadesh to\n",
      "[nltk_data]    |     /Users/amith/nltk_data...\n",
      "[nltk_data]    |   Package panlex_swadesh is already up-to-date!\n",
      "[nltk_data]    | Downloading package paradigms to\n",
      "[nltk_data]    |     /Users/amith/nltk_data...\n",
      "[nltk_data]    |   Package paradigms is already up-to-date!\n",
      "[nltk_data]    | Downloading package pe08 to /Users/amith/nltk_data...\n",
      "[nltk_data]    |   Package pe08 is already up-to-date!\n",
      "[nltk_data]    | Downloading package perluniprops to\n",
      "[nltk_data]    |     /Users/amith/nltk_data...\n",
      "[nltk_data]    |   Package perluniprops is already up-to-date!\n",
      "[nltk_data]    | Downloading package pil to /Users/amith/nltk_data...\n",
      "[nltk_data]    |   Package pil is already up-to-date!\n",
      "[nltk_data]    | Downloading package pl196x to\n",
      "[nltk_data]    |     /Users/amith/nltk_data...\n",
      "[nltk_data]    |   Package pl196x is already up-to-date!\n",
      "[nltk_data]    | Downloading package porter_test to\n",
      "[nltk_data]    |     /Users/amith/nltk_data...\n",
      "[nltk_data]    |   Package porter_test is already up-to-date!\n",
      "[nltk_data]    | Downloading package ppattach to\n",
      "[nltk_data]    |     /Users/amith/nltk_data...\n",
      "[nltk_data]    |   Package ppattach is already up-to-date!\n",
      "[nltk_data]    | Downloading package problem_reports to\n",
      "[nltk_data]    |     /Users/amith/nltk_data...\n",
      "[nltk_data]    |   Package problem_reports is already up-to-date!\n",
      "[nltk_data]    | Downloading package product_reviews_1 to\n",
      "[nltk_data]    |     /Users/amith/nltk_data...\n",
      "[nltk_data]    |   Package product_reviews_1 is already up-to-date!\n",
      "[nltk_data]    | Downloading package product_reviews_2 to\n",
      "[nltk_data]    |     /Users/amith/nltk_data...\n",
      "[nltk_data]    |   Package product_reviews_2 is already up-to-date!\n",
      "[nltk_data]    | Downloading package propbank to\n",
      "[nltk_data]    |     /Users/amith/nltk_data...\n",
      "[nltk_data]    |   Package propbank is already up-to-date!\n",
      "[nltk_data]    | Downloading package pros_cons to\n",
      "[nltk_data]    |     /Users/amith/nltk_data...\n",
      "[nltk_data]    |   Package pros_cons is already up-to-date!\n",
      "[nltk_data]    | Downloading package ptb to /Users/amith/nltk_data...\n",
      "[nltk_data]    |   Package ptb is already up-to-date!\n",
      "[nltk_data]    | Downloading package punkt to\n",
      "[nltk_data]    |     /Users/amith/nltk_data...\n",
      "[nltk_data]    |   Package punkt is already up-to-date!\n",
      "[nltk_data]    | Downloading package qc to /Users/amith/nltk_data...\n",
      "[nltk_data]    |   Package qc is already up-to-date!\n",
      "[nltk_data]    | Downloading package reuters to\n",
      "[nltk_data]    |     /Users/amith/nltk_data...\n",
      "[nltk_data]    |   Package reuters is already up-to-date!\n",
      "[nltk_data]    | Downloading package rslp to /Users/amith/nltk_data...\n",
      "[nltk_data]    |   Package rslp is already up-to-date!\n",
      "[nltk_data]    | Downloading package rte to /Users/amith/nltk_data...\n",
      "[nltk_data]    |   Package rte is already up-to-date!\n",
      "[nltk_data]    | Downloading package sample_grammars to\n",
      "[nltk_data]    |     /Users/amith/nltk_data...\n",
      "[nltk_data]    |   Package sample_grammars is already up-to-date!\n",
      "[nltk_data]    | Downloading package semcor to\n",
      "[nltk_data]    |     /Users/amith/nltk_data...\n",
      "[nltk_data]    |   Package semcor is already up-to-date!\n",
      "[nltk_data]    | Downloading package senseval to\n",
      "[nltk_data]    |     /Users/amith/nltk_data...\n",
      "[nltk_data]    |   Package senseval is already up-to-date!\n",
      "[nltk_data]    | Downloading package sentence_polarity to\n",
      "[nltk_data]    |     /Users/amith/nltk_data...\n",
      "[nltk_data]    |   Package sentence_polarity is already up-to-date!\n",
      "[nltk_data]    | Downloading package sentiwordnet to\n",
      "[nltk_data]    |     /Users/amith/nltk_data...\n",
      "[nltk_data]    |   Package sentiwordnet is already up-to-date!\n",
      "[nltk_data]    | Downloading package shakespeare to\n",
      "[nltk_data]    |     /Users/amith/nltk_data...\n",
      "[nltk_data]    |   Package shakespeare is already up-to-date!\n",
      "[nltk_data]    | Downloading package sinica_treebank to\n",
      "[nltk_data]    |     /Users/amith/nltk_data...\n",
      "[nltk_data]    |   Package sinica_treebank is already up-to-date!\n",
      "[nltk_data]    | Downloading package smultron to\n",
      "[nltk_data]    |     /Users/amith/nltk_data...\n",
      "[nltk_data]    |   Package smultron is already up-to-date!\n",
      "[nltk_data]    | Downloading package snowball_data to\n",
      "[nltk_data]    |     /Users/amith/nltk_data...\n",
      "[nltk_data]    |   Package snowball_data is already up-to-date!\n",
      "[nltk_data]    | Downloading package spanish_grammars to\n",
      "[nltk_data]    |     /Users/amith/nltk_data...\n",
      "[nltk_data]    |   Package spanish_grammars is already up-to-date!\n",
      "[nltk_data]    | Downloading package state_union to\n",
      "[nltk_data]    |     /Users/amith/nltk_data...\n",
      "[nltk_data]    |   Package state_union is already up-to-date!\n",
      "[nltk_data]    | Downloading package stopwords to\n",
      "[nltk_data]    |     /Users/amith/nltk_data...\n",
      "[nltk_data]    |   Package stopwords is already up-to-date!\n",
      "[nltk_data]    | Downloading package subjectivity to\n",
      "[nltk_data]    |     /Users/amith/nltk_data...\n",
      "[nltk_data]    |   Package subjectivity is already up-to-date!\n",
      "[nltk_data]    | Downloading package swadesh to\n",
      "[nltk_data]    |     /Users/amith/nltk_data...\n",
      "[nltk_data]    |   Package swadesh is already up-to-date!\n",
      "[nltk_data]    | Downloading package switchboard to\n",
      "[nltk_data]    |     /Users/amith/nltk_data...\n",
      "[nltk_data]    |   Package switchboard is already up-to-date!\n",
      "[nltk_data]    | Downloading package tagsets to\n",
      "[nltk_data]    |     /Users/amith/nltk_data...\n",
      "[nltk_data]    |   Package tagsets is already up-to-date!\n",
      "[nltk_data]    | Downloading package timit to\n",
      "[nltk_data]    |     /Users/amith/nltk_data...\n",
      "[nltk_data]    |   Package timit is already up-to-date!\n",
      "[nltk_data]    | Downloading package toolbox to\n",
      "[nltk_data]    |     /Users/amith/nltk_data...\n",
      "[nltk_data]    |   Package toolbox is already up-to-date!\n",
      "[nltk_data]    | Downloading package treebank to\n",
      "[nltk_data]    |     /Users/amith/nltk_data...\n",
      "[nltk_data]    |   Package treebank is already up-to-date!\n",
      "[nltk_data]    | Downloading package twitter_samples to\n",
      "[nltk_data]    |     /Users/amith/nltk_data...\n",
      "[nltk_data]    |   Package twitter_samples is already up-to-date!\n",
      "[nltk_data]    | Downloading package udhr to /Users/amith/nltk_data...\n",
      "[nltk_data]    |   Package udhr is already up-to-date!\n",
      "[nltk_data]    | Downloading package udhr2 to\n",
      "[nltk_data]    |     /Users/amith/nltk_data...\n",
      "[nltk_data]    |   Package udhr2 is already up-to-date!\n",
      "[nltk_data]    | Downloading package unicode_samples to\n",
      "[nltk_data]    |     /Users/amith/nltk_data...\n",
      "[nltk_data]    |   Package unicode_samples is already up-to-date!\n",
      "[nltk_data]    | Downloading package universal_tagset to\n",
      "[nltk_data]    |     /Users/amith/nltk_data...\n",
      "[nltk_data]    |   Package universal_tagset is already up-to-date!\n",
      "[nltk_data]    | Downloading package universal_treebanks_v20 to\n",
      "[nltk_data]    |     /Users/amith/nltk_data...\n",
      "[nltk_data]    |   Package universal_treebanks_v20 is already up-to-\n",
      "[nltk_data]    |       date!\n",
      "[nltk_data]    | Downloading package vader_lexicon to\n",
      "[nltk_data]    |     /Users/amith/nltk_data...\n",
      "[nltk_data]    |   Package vader_lexicon is already up-to-date!\n",
      "[nltk_data]    | Downloading package verbnet to\n",
      "[nltk_data]    |     /Users/amith/nltk_data...\n",
      "[nltk_data]    |   Package verbnet is already up-to-date!\n",
      "[nltk_data]    | Downloading package verbnet3 to\n",
      "[nltk_data]    |     /Users/amith/nltk_data...\n",
      "[nltk_data]    |   Package verbnet3 is already up-to-date!\n",
      "[nltk_data]    | Downloading package webtext to\n",
      "[nltk_data]    |     /Users/amith/nltk_data...\n",
      "[nltk_data]    |   Package webtext is already up-to-date!\n",
      "[nltk_data]    | Downloading package wmt15_eval to\n",
      "[nltk_data]    |     /Users/amith/nltk_data...\n",
      "[nltk_data]    |   Package wmt15_eval is already up-to-date!\n",
      "[nltk_data]    | Downloading package word2vec_sample to\n",
      "[nltk_data]    |     /Users/amith/nltk_data...\n",
      "[nltk_data]    |   Package word2vec_sample is already up-to-date!\n",
      "[nltk_data]    | Downloading package wordnet to\n",
      "[nltk_data]    |     /Users/amith/nltk_data...\n",
      "[nltk_data]    |   Package wordnet is already up-to-date!\n",
      "[nltk_data]    | Downloading package wordnet2021 to\n",
      "[nltk_data]    |     /Users/amith/nltk_data...\n",
      "[nltk_data]    |   Package wordnet2021 is already up-to-date!\n",
      "[nltk_data]    | Downloading package wordnet2022 to\n",
      "[nltk_data]    |     /Users/amith/nltk_data...\n",
      "[nltk_data]    |   Package wordnet2022 is already up-to-date!\n",
      "[nltk_data]    | Downloading package wordnet31 to\n",
      "[nltk_data]    |     /Users/amith/nltk_data...\n",
      "[nltk_data]    |   Package wordnet31 is already up-to-date!\n",
      "[nltk_data]    | Downloading package wordnet_ic to\n",
      "[nltk_data]    |     /Users/amith/nltk_data...\n",
      "[nltk_data]    |   Package wordnet_ic is already up-to-date!\n",
      "[nltk_data]    | Downloading package words to\n",
      "[nltk_data]    |     /Users/amith/nltk_data...\n",
      "[nltk_data]    |   Package words is already up-to-date!\n",
      "[nltk_data]    | Downloading package ycoe to /Users/amith/nltk_data...\n",
      "[nltk_data]    |   Package ycoe is already up-to-date!\n",
      "[nltk_data]    | \n",
      "[nltk_data]  Done downloading collection all\n"
     ]
    }
   ],
   "source": [
    "import numpy as np\n",
    "import pandas as pd\n",
    "import matplotlib.pyplot as plt\n",
    "import seaborn as sns\n",
    "import nltk\n",
    "nltk.download(\"all\")\n",
    "from nltk.stem import *\n",
    "from nltk.tokenize import *\n",
    "from sklearn.feature_extraction.text import *\n",
    "from sklearn.model_selection import *\n",
    "from sklearn.linear_model import *\n",
    "from sklearn.metrics import *\n",
    "from sklearn.metrics.pairwise import *\n",
    "from sklearn.preprocessing import *\n",
    "import warnings\n",
    "warnings.filterwarnings(\"ignore\")"
   ]
  },
  {
   "cell_type": "code",
   "execution_count": 102,
   "id": "231ec637487ee4dc",
   "metadata": {
    "collapsed": false,
    "ExecuteTime": {
     "end_time": "2024-01-05T20:04:22.994279Z",
     "start_time": "2024-01-05T20:04:22.979722Z"
    }
   },
   "outputs": [],
   "source": [
    "df = pd.read_excel(\"IELTS_Success_Stories_Dataset.xlsx\")"
   ]
  },
  {
   "cell_type": "code",
   "execution_count": 103,
   "id": "3369eab0b9a106b4",
   "metadata": {
    "collapsed": false,
    "ExecuteTime": {
     "end_time": "2024-01-05T20:04:23.627127Z",
     "start_time": "2024-01-05T20:04:23.623911Z"
    }
   },
   "outputs": [
    {
     "data": {
      "text/plain": "  Candidate   Location       Profession  Study Duration (months)  \\\n0     Aisha    Karachi     Grad Student                        3   \n1     Ahmed     Lahore  IT Professional                        4   \n2    Fatima  Islamabad   School Teacher                        2   \n3       Ali   Peshawar  IT Professional                        5   \n4      Saad     Lahore     Eng. Student                        6   \n\n   IELTS Score (Overall)                                     Key Strategies  \\\n0                   8.50                         Practice, forums, tutoring   \n1                   7.50  Balanced schedule, time management, speaking p...   \n2                   9.00  Intensive course, online resources, mock inter...   \n3                   8.00            Focused study, workshops, peer feedback   \n4                   8.25  Consistent practice, private tutor, speaking c...   \n\n  Education Level  Age Target Country English Proficiency (Preparation)  ...  \\\n0        Master's   24         Canada                          Advanced  ...   \n1      Bachelor's   29      Australia                      Intermediate  ...   \n2        Master's   32    New Zealand                          Advanced  ...   \n3      Bachelor's   27            USA                          Advanced  ...   \n4      Bachelor's   22             UK                          Advanced  ...   \n\n          Preferred Learning Resources  Application Status Job Offer Received  \\\n0         Online courses, study guides       Under Process                 No   \n1        Online forums, practice tests            Approved                Yes   \n2      Study guides, language exchange       Under Process                 No   \n3           Mock exams, speaking clubs            Rejected                 No   \n4  Online tutorials, speaking practice       Under Process                 No   \n\n           Additional Certifications Volunteer Experience Language Fluency  \\\n0                              TESOL                  Yes    Urdu, English   \n1                                PMP                   No    Urdu, English   \n2                              CELTA                  Yes    Urdu, English   \n3  AWS Certified Solutions Architect                   No    Urdu, English   \n4                     IELTS Examiner                  Yes    Urdu, English   \n\n  Internship Experience                    Relevant Skills Recommendations  \\\n0    Research Assistant            Data Analysis, Teaching          Strong   \n1         IT Consultant    Project Management, Programming        Positive   \n2  Curriculum Developer  Lesson Planning, Educational Tech        Positive   \n3    Software Developer       Cloud Computing, Programming          Strong   \n4    Research Assistant      Lab Techniques, Data Analysis        Positive   \n\n       Networking Efforts  \n0  LinkedIn, Local Events  \n1      Online Communities  \n2     Professional Groups  \n3        Online Platforms  \n4       University Events  \n\n[5 rows x 23 columns]",
      "text/html": "<div>\n<style scoped>\n    .dataframe tbody tr th:only-of-type {\n        vertical-align: middle;\n    }\n\n    .dataframe tbody tr th {\n        vertical-align: top;\n    }\n\n    .dataframe thead th {\n        text-align: right;\n    }\n</style>\n<table border=\"1\" class=\"dataframe\">\n  <thead>\n    <tr style=\"text-align: right;\">\n      <th></th>\n      <th>Candidate</th>\n      <th>Location</th>\n      <th>Profession</th>\n      <th>Study Duration (months)</th>\n      <th>IELTS Score (Overall)</th>\n      <th>Key Strategies</th>\n      <th>Education Level</th>\n      <th>Age</th>\n      <th>Target Country</th>\n      <th>English Proficiency (Preparation)</th>\n      <th>...</th>\n      <th>Preferred Learning Resources</th>\n      <th>Application Status</th>\n      <th>Job Offer Received</th>\n      <th>Additional Certifications</th>\n      <th>Volunteer Experience</th>\n      <th>Language Fluency</th>\n      <th>Internship Experience</th>\n      <th>Relevant Skills</th>\n      <th>Recommendations</th>\n      <th>Networking Efforts</th>\n    </tr>\n  </thead>\n  <tbody>\n    <tr>\n      <th>0</th>\n      <td>Aisha</td>\n      <td>Karachi</td>\n      <td>Grad Student</td>\n      <td>3</td>\n      <td>8.50</td>\n      <td>Practice, forums, tutoring</td>\n      <td>Master's</td>\n      <td>24</td>\n      <td>Canada</td>\n      <td>Advanced</td>\n      <td>...</td>\n      <td>Online courses, study guides</td>\n      <td>Under Process</td>\n      <td>No</td>\n      <td>TESOL</td>\n      <td>Yes</td>\n      <td>Urdu, English</td>\n      <td>Research Assistant</td>\n      <td>Data Analysis, Teaching</td>\n      <td>Strong</td>\n      <td>LinkedIn, Local Events</td>\n    </tr>\n    <tr>\n      <th>1</th>\n      <td>Ahmed</td>\n      <td>Lahore</td>\n      <td>IT Professional</td>\n      <td>4</td>\n      <td>7.50</td>\n      <td>Balanced schedule, time management, speaking p...</td>\n      <td>Bachelor's</td>\n      <td>29</td>\n      <td>Australia</td>\n      <td>Intermediate</td>\n      <td>...</td>\n      <td>Online forums, practice tests</td>\n      <td>Approved</td>\n      <td>Yes</td>\n      <td>PMP</td>\n      <td>No</td>\n      <td>Urdu, English</td>\n      <td>IT Consultant</td>\n      <td>Project Management, Programming</td>\n      <td>Positive</td>\n      <td>Online Communities</td>\n    </tr>\n    <tr>\n      <th>2</th>\n      <td>Fatima</td>\n      <td>Islamabad</td>\n      <td>School Teacher</td>\n      <td>2</td>\n      <td>9.00</td>\n      <td>Intensive course, online resources, mock inter...</td>\n      <td>Master's</td>\n      <td>32</td>\n      <td>New Zealand</td>\n      <td>Advanced</td>\n      <td>...</td>\n      <td>Study guides, language exchange</td>\n      <td>Under Process</td>\n      <td>No</td>\n      <td>CELTA</td>\n      <td>Yes</td>\n      <td>Urdu, English</td>\n      <td>Curriculum Developer</td>\n      <td>Lesson Planning, Educational Tech</td>\n      <td>Positive</td>\n      <td>Professional Groups</td>\n    </tr>\n    <tr>\n      <th>3</th>\n      <td>Ali</td>\n      <td>Peshawar</td>\n      <td>IT Professional</td>\n      <td>5</td>\n      <td>8.00</td>\n      <td>Focused study, workshops, peer feedback</td>\n      <td>Bachelor's</td>\n      <td>27</td>\n      <td>USA</td>\n      <td>Advanced</td>\n      <td>...</td>\n      <td>Mock exams, speaking clubs</td>\n      <td>Rejected</td>\n      <td>No</td>\n      <td>AWS Certified Solutions Architect</td>\n      <td>No</td>\n      <td>Urdu, English</td>\n      <td>Software Developer</td>\n      <td>Cloud Computing, Programming</td>\n      <td>Strong</td>\n      <td>Online Platforms</td>\n    </tr>\n    <tr>\n      <th>4</th>\n      <td>Saad</td>\n      <td>Lahore</td>\n      <td>Eng. Student</td>\n      <td>6</td>\n      <td>8.25</td>\n      <td>Consistent practice, private tutor, speaking c...</td>\n      <td>Bachelor's</td>\n      <td>22</td>\n      <td>UK</td>\n      <td>Advanced</td>\n      <td>...</td>\n      <td>Online tutorials, speaking practice</td>\n      <td>Under Process</td>\n      <td>No</td>\n      <td>IELTS Examiner</td>\n      <td>Yes</td>\n      <td>Urdu, English</td>\n      <td>Research Assistant</td>\n      <td>Lab Techniques, Data Analysis</td>\n      <td>Positive</td>\n      <td>University Events</td>\n    </tr>\n  </tbody>\n</table>\n<p>5 rows × 23 columns</p>\n</div>"
     },
     "execution_count": 103,
     "metadata": {},
     "output_type": "execute_result"
    }
   ],
   "source": [
    "df.head()"
   ]
  },
  {
   "cell_type": "code",
   "execution_count": 104,
   "id": "3275dc24a28c2507",
   "metadata": {
    "collapsed": false,
    "ExecuteTime": {
     "end_time": "2024-01-05T20:04:24.346649Z",
     "start_time": "2024-01-05T20:04:24.342937Z"
    }
   },
   "outputs": [
    {
     "data": {
      "text/plain": "  Candidate   Location       Profession  Study Duration (months)  \\\n0     Aisha    Karachi     Grad Student                        3   \n1     Ahmed     Lahore  IT Professional                        4   \n2    Fatima  Islamabad   School Teacher                        2   \n3       Ali   Peshawar  IT Professional                        5   \n4      Saad     Lahore     Eng. Student                        6   \n\n   IELTS Score (Overall)     Key Strategies 0  Key Strategies 1  \\\n0                   8.50             Practice            forums   \n1                   7.50    Balanced schedule   time management   \n2                   9.00     Intensive course  online resources   \n3                   8.00        Focused study         workshops   \n4                   8.25  Consistent practice     private tutor   \n\n    Key Strategies 2 Education Level  Age  ... Preferred Learning Resources 1  \\\n0           tutoring        Master's   24  ...                   study guides   \n1  speaking practice      Bachelor's   29  ...                 practice tests   \n2    mock interviews        Master's   32  ...              language exchange   \n3      peer feedback      Bachelor's   27  ...                 speaking clubs   \n4     speaking clubs      Bachelor's   22  ...              speaking practice   \n\n  Application Status  Job Offer Received          Additional Certifications  \\\n0      Under Process                  No                              TESOL   \n1           Approved                 Yes                                PMP   \n2      Under Process                  No                              CELTA   \n3           Rejected                  No  AWS Certified Solutions Architect   \n4      Under Process                  No                     IELTS Examiner   \n\n  Volunteer Experience Language Fluency Internship Experience  \\\n0                  Yes    Urdu, English    Research Assistant   \n1                   No    Urdu, English         IT Consultant   \n2                  Yes    Urdu, English  Curriculum Developer   \n3                   No    Urdu, English    Software Developer   \n4                  Yes    Urdu, English    Research Assistant   \n\n                     Relevant Skills Recommendations      Networking Efforts  \n0            Data Analysis, Teaching          Strong  LinkedIn, Local Events  \n1    Project Management, Programming        Positive      Online Communities  \n2  Lesson Planning, Educational Tech        Positive     Professional Groups  \n3       Cloud Computing, Programming          Strong        Online Platforms  \n4      Lab Techniques, Data Analysis        Positive       University Events  \n\n[5 rows x 26 columns]",
      "text/html": "<div>\n<style scoped>\n    .dataframe tbody tr th:only-of-type {\n        vertical-align: middle;\n    }\n\n    .dataframe tbody tr th {\n        vertical-align: top;\n    }\n\n    .dataframe thead th {\n        text-align: right;\n    }\n</style>\n<table border=\"1\" class=\"dataframe\">\n  <thead>\n    <tr style=\"text-align: right;\">\n      <th></th>\n      <th>Candidate</th>\n      <th>Location</th>\n      <th>Profession</th>\n      <th>Study Duration (months)</th>\n      <th>IELTS Score (Overall)</th>\n      <th>Key Strategies 0</th>\n      <th>Key Strategies 1</th>\n      <th>Key Strategies 2</th>\n      <th>Education Level</th>\n      <th>Age</th>\n      <th>...</th>\n      <th>Preferred Learning Resources 1</th>\n      <th>Application Status</th>\n      <th>Job Offer Received</th>\n      <th>Additional Certifications</th>\n      <th>Volunteer Experience</th>\n      <th>Language Fluency</th>\n      <th>Internship Experience</th>\n      <th>Relevant Skills</th>\n      <th>Recommendations</th>\n      <th>Networking Efforts</th>\n    </tr>\n  </thead>\n  <tbody>\n    <tr>\n      <th>0</th>\n      <td>Aisha</td>\n      <td>Karachi</td>\n      <td>Grad Student</td>\n      <td>3</td>\n      <td>8.50</td>\n      <td>Practice</td>\n      <td>forums</td>\n      <td>tutoring</td>\n      <td>Master's</td>\n      <td>24</td>\n      <td>...</td>\n      <td>study guides</td>\n      <td>Under Process</td>\n      <td>No</td>\n      <td>TESOL</td>\n      <td>Yes</td>\n      <td>Urdu, English</td>\n      <td>Research Assistant</td>\n      <td>Data Analysis, Teaching</td>\n      <td>Strong</td>\n      <td>LinkedIn, Local Events</td>\n    </tr>\n    <tr>\n      <th>1</th>\n      <td>Ahmed</td>\n      <td>Lahore</td>\n      <td>IT Professional</td>\n      <td>4</td>\n      <td>7.50</td>\n      <td>Balanced schedule</td>\n      <td>time management</td>\n      <td>speaking practice</td>\n      <td>Bachelor's</td>\n      <td>29</td>\n      <td>...</td>\n      <td>practice tests</td>\n      <td>Approved</td>\n      <td>Yes</td>\n      <td>PMP</td>\n      <td>No</td>\n      <td>Urdu, English</td>\n      <td>IT Consultant</td>\n      <td>Project Management, Programming</td>\n      <td>Positive</td>\n      <td>Online Communities</td>\n    </tr>\n    <tr>\n      <th>2</th>\n      <td>Fatima</td>\n      <td>Islamabad</td>\n      <td>School Teacher</td>\n      <td>2</td>\n      <td>9.00</td>\n      <td>Intensive course</td>\n      <td>online resources</td>\n      <td>mock interviews</td>\n      <td>Master's</td>\n      <td>32</td>\n      <td>...</td>\n      <td>language exchange</td>\n      <td>Under Process</td>\n      <td>No</td>\n      <td>CELTA</td>\n      <td>Yes</td>\n      <td>Urdu, English</td>\n      <td>Curriculum Developer</td>\n      <td>Lesson Planning, Educational Tech</td>\n      <td>Positive</td>\n      <td>Professional Groups</td>\n    </tr>\n    <tr>\n      <th>3</th>\n      <td>Ali</td>\n      <td>Peshawar</td>\n      <td>IT Professional</td>\n      <td>5</td>\n      <td>8.00</td>\n      <td>Focused study</td>\n      <td>workshops</td>\n      <td>peer feedback</td>\n      <td>Bachelor's</td>\n      <td>27</td>\n      <td>...</td>\n      <td>speaking clubs</td>\n      <td>Rejected</td>\n      <td>No</td>\n      <td>AWS Certified Solutions Architect</td>\n      <td>No</td>\n      <td>Urdu, English</td>\n      <td>Software Developer</td>\n      <td>Cloud Computing, Programming</td>\n      <td>Strong</td>\n      <td>Online Platforms</td>\n    </tr>\n    <tr>\n      <th>4</th>\n      <td>Saad</td>\n      <td>Lahore</td>\n      <td>Eng. Student</td>\n      <td>6</td>\n      <td>8.25</td>\n      <td>Consistent practice</td>\n      <td>private tutor</td>\n      <td>speaking clubs</td>\n      <td>Bachelor's</td>\n      <td>22</td>\n      <td>...</td>\n      <td>speaking practice</td>\n      <td>Under Process</td>\n      <td>No</td>\n      <td>IELTS Examiner</td>\n      <td>Yes</td>\n      <td>Urdu, English</td>\n      <td>Research Assistant</td>\n      <td>Lab Techniques, Data Analysis</td>\n      <td>Positive</td>\n      <td>University Events</td>\n    </tr>\n  </tbody>\n</table>\n<p>5 rows × 26 columns</p>\n</div>"
     },
     "execution_count": 104,
     "metadata": {},
     "output_type": "execute_result"
    }
   ],
   "source": [
    "multiple_features = [\"Key Strategies\",\"Preferred Learning Resources\"]\n",
    "df_1 = df.copy()\n",
    "\n",
    "col = df.columns.values\n",
    "new_col = []\n",
    "num_col = []\n",
    "start = 0\n",
    "for i in multiple_features:\n",
    "    data = df[i].copy()\n",
    "    d = np.array(list(map(lambda x: [i.strip() for i in x.split(\",\")],data)))\n",
    "    colu = []\n",
    "    for j in range(d.shape[1]):\n",
    "        df_1[i+\" \"+str(j)] = d[:,j]\n",
    "        colu.append(i+\" \"+str(j))\n",
    "    df_1 = df_1.drop(columns=i)\n",
    "    stop = np.where(col==i)[0][0]\n",
    "    new_col += col[start:stop].tolist()\n",
    "    new_col += colu\n",
    "    num_col += colu\n",
    "    start = stop + 1\n",
    "new_col += col[start:len(col)].tolist()\n",
    "df_2 = df_1[new_col].copy()\n",
    "df_2[\"IELTS Score (Overall)\"] = df_2[\"IELTS Score (Overall)\"].round(2)\n",
    "df_2.head()"
   ]
  },
  {
   "cell_type": "code",
   "execution_count": 105,
   "id": "3911da4b9dedc012",
   "metadata": {
    "collapsed": false,
    "ExecuteTime": {
     "end_time": "2024-01-05T20:04:24.760613Z",
     "start_time": "2024-01-05T20:04:24.758718Z"
    }
   },
   "outputs": [],
   "source": [
    "df_3 = df_2.copy()\n",
    "for i in num_col:\n",
    "    df_3[i] = df_2[i].str.lower()"
   ]
  },
  {
   "cell_type": "code",
   "execution_count": 106,
   "id": "ae75e3a49204adae",
   "metadata": {
    "collapsed": false,
    "ExecuteTime": {
     "end_time": "2024-01-05T20:04:25.211784Z",
     "start_time": "2024-01-05T20:04:25.206978Z"
    }
   },
   "outputs": [],
   "source": [
    "key_strategies = []\n",
    "\n",
    "key_strategies += df_3[\"Key Strategies 0\"].unique().tolist()\n",
    "key_strategies += df_3[\"Key Strategies 1\"].unique().tolist()\n",
    "key_strategies += df_3[\"Key Strategies 2\"].unique().tolist()\n",
    "\n",
    "key_strategies = np.sort(pd.Series(key_strategies).unique()).tolist()\n",
    "\n",
    "\n",
    "preferred_learning = []\n",
    "\n",
    "preferred_learning += df_3[\"Preferred Learning Resources 0\"].unique().tolist()\n",
    "preferred_learning += df_3[\"Preferred Learning Resources 1\"].unique().tolist()\n",
    "\n",
    "preferred_learning = np.sort(pd.Series(preferred_learning).unique()).tolist()\n"
   ]
  },
  {
   "cell_type": "code",
   "execution_count": 107,
   "id": "84d5ca2826a673eb",
   "metadata": {
    "collapsed": false,
    "ExecuteTime": {
     "end_time": "2024-01-05T20:04:25.627052Z",
     "start_time": "2024-01-05T20:04:25.604415Z"
    }
   },
   "outputs": [],
   "source": [
    "tfidf = TfidfVectorizer()\n",
    "ppp = tfidf.fit_transform(key_strategies)\n",
    "qqq = cosine_similarity(ppp).round(2)\n",
    "dic_list = []\n",
    "j = 0\n",
    "i = 0\n",
    "ctr = 0\n",
    "for i in range(qqq.shape[0]):\n",
    "    n = []\n",
    "    dic = {}\n",
    "    for j in range(i+1,len(qqq[i])):\n",
    "        if qqq[i,j] > 0 and qqq[i,j] < 1:\n",
    "            n.append(j)\n",
    "    if len(n)>0:\n",
    "        dic[key_strategies[n[0]]] = key_strategies[i]\n",
    "    else:\n",
    "        dic[key_strategies[i]] = key_strategies[i]\n",
    "    dic_list.append(dic)\n",
    "\n",
    "df_4 = df_3.copy()\n",
    "for i in dic_list[::-1]:\n",
    "    hg = i.copy()\n",
    "    df_4[\"Key Strategies 0\"] = df_4[\"Key Strategies 0\"].map(hg).fillna(df_4[\"Key Strategies 0\"])\n",
    "    df_4[\"Key Strategies 1\"] = df_4[\"Key Strategies 1\"].map(hg).fillna(df_4[\"Key Strategies 1\"])\n",
    "    df_4[\"Key Strategies 2\"] = df_4[\"Key Strategies 2\"].map(hg).fillna(df_4[\"Key Strategies 2\"])"
   ]
  },
  {
   "cell_type": "code",
   "execution_count": 108,
   "id": "1237fa68deeb8046",
   "metadata": {
    "collapsed": false,
    "ExecuteTime": {
     "end_time": "2024-01-05T20:04:26.019492Z",
     "start_time": "2024-01-05T20:04:26.002062Z"
    }
   },
   "outputs": [],
   "source": [
    "tfidf = TfidfVectorizer()\n",
    "ppp = tfidf.fit_transform(preferred_learning)\n",
    "qqq = cosine_similarity(ppp).round(2)\n",
    "dic_list = []\n",
    "j = 0\n",
    "i = 0\n",
    "ctr = 0\n",
    "for i in range(qqq.shape[0]):\n",
    "    n = []\n",
    "    dic = {}\n",
    "    for j in range(i+1,len(qqq[i])):\n",
    "        if qqq[i,j] > 0 and qqq[i,j] < 1:\n",
    "            n.append(j)\n",
    "    if len(n)>0:\n",
    "        dic[preferred_learning[n[0]]] = preferred_learning[i]\n",
    "    else:\n",
    "        dic[preferred_learning[i]] = preferred_learning[i]\n",
    "    dic_list.append(dic)\n",
    "\n",
    "df_5 = df_4.copy()\n",
    "for i in dic_list[::-1]:\n",
    "    hg = i.copy()\n",
    "    df_5[\"Preferred Learning Resources 0\"] = df_5[\"Preferred Learning Resources 0\"].map(hg).fillna(df_5[\"Preferred Learning Resources 0\"])\n",
    "    df_5[\"Preferred Learning Resources 1\"] = df_5[\"Preferred Learning Resources 1\"].map(hg).fillna(df_5[\"Preferred Learning Resources 1\"])"
   ]
  },
  {
   "cell_type": "code",
   "execution_count": 109,
   "id": "1ec264177b7f9704",
   "metadata": {
    "collapsed": false,
    "ExecuteTime": {
     "end_time": "2024-01-05T20:04:26.426708Z",
     "start_time": "2024-01-05T20:04:26.424525Z"
    }
   },
   "outputs": [],
   "source": [
    "columns_to_remove = [\"Candidate\",\"Location\",\"Target Country\",\"Application Status\",\"Job Offer Received\",\"Additional Certifications\",\"Language Fluency\",\"Relevant Skills\"]\n",
    "df_input = df_5.drop(columns=columns_to_remove)\n",
    "columns_all = df_input.dtypes.reset_index()\n",
    "columns_to_encode = columns_all[columns_all[0]==\"object\"][\"index\"].values\n",
    "\n",
    "for i in columns_to_encode:\n",
    "    encode_dict = pd.Series(np.sort(df_input[i].unique())).reset_index().set_index(0).to_dict()[\"index\"]\n",
    "    df_input[i] = df_input[i].map(encode_dict)\n",
    "\n",
    "df_input[\"Practice Hours per Week\"] = df_5[\"Study Duration (months)\"] * df_5[\"Practice Hours per Week\"]\n",
    "\n",
    "df_input.drop(columns=[\"Study Duration (months)\"],inplace=True)"
   ]
  },
  {
   "cell_type": "code",
   "execution_count": 110,
   "id": "1d60901812a9e307",
   "metadata": {
    "collapsed": false,
    "ExecuteTime": {
     "end_time": "2024-01-05T20:04:26.971378Z",
     "start_time": "2024-01-05T20:04:26.947639Z"
    }
   },
   "outputs": [
    {
     "data": {
      "text/plain": "   Profession  IELTS Score (Overall)  Key Strategies 0  Key Strategies 1  \\\n0           6                   8.50                 2                 2   \n1           9                   7.50                 0                 7   \n2          13                   9.00                 2                 4   \n3           9                   8.00                 0                 9   \n4           3                   8.25                 1                 5   \n\n   Key Strategies 2  Education Level  Age  English Proficiency (Preparation)  \\\n0                 7                1   24                                  0   \n1                 6                0   29                                  1   \n2                 3                1   32                                  0   \n3                 5                0   27                                  0   \n4                 6                0   22                                  0   \n\n   Practice Hours per Week  Mock Tests Taken  Achieved Desired Score  \\\n0                       45                 5                       1   \n1                       40                 3                       1   \n2                       40                 8                       1   \n3                       60                 4                       1   \n4                      108                 6                       1   \n\n   Preferred Learning Resources 0  Preferred Learning Resources 1  \\\n0                               7                               4   \n1                               7                               2   \n2                               9                               1   \n3                               6                               3   \n4                               7                               3   \n\n   Volunteer Experience  Internship Experience  Recommendations  \\\n0                     1                     10                2   \n1                     0                      7                1   \n2                     1                      2                1   \n3                     0                     11                2   \n4                     1                     10                1   \n\n   Networking Efforts  \n0                   9  \n1                  11  \n2                  14  \n3                  13  \n4                  15  ",
      "text/html": "<div>\n<style scoped>\n    .dataframe tbody tr th:only-of-type {\n        vertical-align: middle;\n    }\n\n    .dataframe tbody tr th {\n        vertical-align: top;\n    }\n\n    .dataframe thead th {\n        text-align: right;\n    }\n</style>\n<table border=\"1\" class=\"dataframe\">\n  <thead>\n    <tr style=\"text-align: right;\">\n      <th></th>\n      <th>Profession</th>\n      <th>IELTS Score (Overall)</th>\n      <th>Key Strategies 0</th>\n      <th>Key Strategies 1</th>\n      <th>Key Strategies 2</th>\n      <th>Education Level</th>\n      <th>Age</th>\n      <th>English Proficiency (Preparation)</th>\n      <th>Practice Hours per Week</th>\n      <th>Mock Tests Taken</th>\n      <th>Achieved Desired Score</th>\n      <th>Preferred Learning Resources 0</th>\n      <th>Preferred Learning Resources 1</th>\n      <th>Volunteer Experience</th>\n      <th>Internship Experience</th>\n      <th>Recommendations</th>\n      <th>Networking Efforts</th>\n    </tr>\n  </thead>\n  <tbody>\n    <tr>\n      <th>0</th>\n      <td>6</td>\n      <td>8.50</td>\n      <td>2</td>\n      <td>2</td>\n      <td>7</td>\n      <td>1</td>\n      <td>24</td>\n      <td>0</td>\n      <td>45</td>\n      <td>5</td>\n      <td>1</td>\n      <td>7</td>\n      <td>4</td>\n      <td>1</td>\n      <td>10</td>\n      <td>2</td>\n      <td>9</td>\n    </tr>\n    <tr>\n      <th>1</th>\n      <td>9</td>\n      <td>7.50</td>\n      <td>0</td>\n      <td>7</td>\n      <td>6</td>\n      <td>0</td>\n      <td>29</td>\n      <td>1</td>\n      <td>40</td>\n      <td>3</td>\n      <td>1</td>\n      <td>7</td>\n      <td>2</td>\n      <td>0</td>\n      <td>7</td>\n      <td>1</td>\n      <td>11</td>\n    </tr>\n    <tr>\n      <th>2</th>\n      <td>13</td>\n      <td>9.00</td>\n      <td>2</td>\n      <td>4</td>\n      <td>3</td>\n      <td>1</td>\n      <td>32</td>\n      <td>0</td>\n      <td>40</td>\n      <td>8</td>\n      <td>1</td>\n      <td>9</td>\n      <td>1</td>\n      <td>1</td>\n      <td>2</td>\n      <td>1</td>\n      <td>14</td>\n    </tr>\n    <tr>\n      <th>3</th>\n      <td>9</td>\n      <td>8.00</td>\n      <td>0</td>\n      <td>9</td>\n      <td>5</td>\n      <td>0</td>\n      <td>27</td>\n      <td>0</td>\n      <td>60</td>\n      <td>4</td>\n      <td>1</td>\n      <td>6</td>\n      <td>3</td>\n      <td>0</td>\n      <td>11</td>\n      <td>2</td>\n      <td>13</td>\n    </tr>\n    <tr>\n      <th>4</th>\n      <td>3</td>\n      <td>8.25</td>\n      <td>1</td>\n      <td>5</td>\n      <td>6</td>\n      <td>0</td>\n      <td>22</td>\n      <td>0</td>\n      <td>108</td>\n      <td>6</td>\n      <td>1</td>\n      <td>7</td>\n      <td>3</td>\n      <td>1</td>\n      <td>10</td>\n      <td>1</td>\n      <td>15</td>\n    </tr>\n  </tbody>\n</table>\n</div>"
     },
     "execution_count": 110,
     "metadata": {},
     "output_type": "execute_result"
    }
   ],
   "source": [
    "df_input.head()"
   ]
  },
  {
   "cell_type": "code",
   "execution_count": 111,
   "id": "3094b107d89f39a1",
   "metadata": {
    "collapsed": false,
    "ExecuteTime": {
     "end_time": "2024-01-05T20:04:27.468964Z",
     "start_time": "2024-01-05T20:04:27.462543Z"
    }
   },
   "outputs": [],
   "source": [
    "X = df_input.drop(columns=\"IELTS Score (Overall)\")\n",
    "y = df_input[\"IELTS Score (Overall)\"]\n",
    "\n",
    "mms = MinMaxScaler()\n",
    "X_res = pd.DataFrame(mms.fit_transform(X),columns=X.columns)\n",
    "y_res = y.copy()"
   ]
  },
  {
   "cell_type": "code",
   "execution_count": 112,
   "id": "1c94af04a2561a5d",
   "metadata": {
    "collapsed": false,
    "ExecuteTime": {
     "end_time": "2024-01-05T20:04:27.945026Z",
     "start_time": "2024-01-05T20:04:27.943332Z"
    }
   },
   "outputs": [],
   "source": [
    "X_train, X_test, y_train, y_test = train_test_split(X_res,y_res,test_size=0.25,random_state=np.random.randint(0,1000))"
   ]
  },
  {
   "cell_type": "code",
   "execution_count": 113,
   "id": "69a1a9af9755eb53",
   "metadata": {
    "collapsed": false,
    "ExecuteTime": {
     "end_time": "2024-01-05T20:04:28.285328Z",
     "start_time": "2024-01-05T20:04:28.279622Z"
    }
   },
   "outputs": [],
   "source": [
    "linear_regr = LinearRegression()\n",
    "linear_regr.fit(X_train,y_train)\n",
    "y_pred = (linear_regr.predict(X_test) * 4).round(0)/4"
   ]
  },
  {
   "cell_type": "code",
   "execution_count": 114,
   "id": "e2e0adfd313a9b7f",
   "metadata": {
    "collapsed": false,
    "ExecuteTime": {
     "end_time": "2024-01-05T20:04:28.585793Z",
     "start_time": "2024-01-05T20:04:28.583653Z"
    }
   },
   "outputs": [],
   "source": [
    "df_final = pd.DataFrame(columns=[\"Actual\",\"Predicted\"])\n",
    "df_final[\"Actual\"] = y_test\n",
    "df_final[\"Predicted\"] = y_pred\n",
    "df_final.reset_index(drop=True,inplace=True)"
   ]
  },
  {
   "cell_type": "code",
   "execution_count": 115,
   "id": "8f2a47865f98127b",
   "metadata": {
    "collapsed": false,
    "ExecuteTime": {
     "end_time": "2024-01-05T20:04:29.171179Z",
     "start_time": "2024-01-05T20:04:29.164708Z"
    }
   },
   "outputs": [
    {
     "data": {
      "text/plain": "0.25"
     },
     "execution_count": 115,
     "metadata": {},
     "output_type": "execute_result"
    }
   ],
   "source": [
    "round((np.sqrt(mean_squared_error(y_test,y_pred)) * 4),0)/4"
   ]
  },
  {
   "cell_type": "code",
   "execution_count": null,
   "id": "e3ae6a5951c8a55a",
   "metadata": {
    "collapsed": false
   },
   "outputs": [],
   "source": []
  }
 ],
 "metadata": {
  "kernelspec": {
   "display_name": "Python 3 (ipykernel)",
   "language": "python",
   "name": "python3"
  },
  "language_info": {
   "codemirror_mode": {
    "name": "ipython",
    "version": 3
   },
   "file_extension": ".py",
   "mimetype": "text/x-python",
   "name": "python",
   "nbconvert_exporter": "python",
   "pygments_lexer": "ipython3",
   "version": "3.11.6"
  }
 },
 "nbformat": 4,
 "nbformat_minor": 5
}
