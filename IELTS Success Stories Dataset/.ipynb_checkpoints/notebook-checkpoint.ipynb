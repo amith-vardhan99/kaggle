{
 "cells": [
  {
   "cell_type": "code",
   "execution_count": 22,
   "id": "initial_id",
   "metadata": {
    "collapsed": true,
    "ExecuteTime": {
     "end_time": "2024-01-05T20:01:26.480842Z",
     "start_time": "2024-01-05T20:01:26.475677Z"
    }
   },
   "outputs": [
    {
     "name": "stderr",
     "output_type": "stream",
     "text": [
      "[nltk_data] Downloading collection 'all'\n",
      "[nltk_data]    | \n",
      "[nltk_data]    | Downloading package abc to /Users/amith/nltk_data...\n",
      "[nltk_data]    |   Package abc is already up-to-date!\n",
      "[nltk_data]    | Downloading package alpino to\n",
      "[nltk_data]    |     /Users/amith/nltk_data...\n",
      "[nltk_data]    |   Package alpino is already up-to-date!\n",
      "[nltk_data]    | Downloading package averaged_perceptron_tagger to\n",
      "[nltk_data]    |     /Users/amith/nltk_data...\n",
      "[nltk_data]    |   Package averaged_perceptron_tagger is already up-\n",
      "[nltk_data]    |       to-date!\n",
      "[nltk_data]    | Downloading package averaged_perceptron_tagger_ru to\n",
      "[nltk_data]    |     /Users/amith/nltk_data...\n",
      "[nltk_data]    |   Package averaged_perceptron_tagger_ru is already\n",
      "[nltk_data]    |       up-to-date!\n",
      "[nltk_data]    | Downloading package basque_grammars to\n",
      "[nltk_data]    |     /Users/amith/nltk_data...\n",
      "[nltk_data]    |   Package basque_grammars is already up-to-date!\n",
      "[nltk_data]    | Downloading package bcp47 to\n",
      "[nltk_data]    |     /Users/amith/nltk_data...\n",
      "[nltk_data]    |   Package bcp47 is already up-to-date!\n",
      "[nltk_data]    | Downloading package biocreative_ppi to\n",
      "[nltk_data]    |     /Users/amith/nltk_data...\n",
      "[nltk_data]    |   Package biocreative_ppi is already up-to-date!\n",
      "[nltk_data]    | Downloading package bllip_wsj_no_aux to\n",
      "[nltk_data]    |     /Users/amith/nltk_data...\n",
      "[nltk_data]    |   Package bllip_wsj_no_aux is already up-to-date!\n",
      "[nltk_data]    | Downloading package book_grammars to\n",
      "[nltk_data]    |     /Users/amith/nltk_data...\n",
      "[nltk_data]    |   Package book_grammars is already up-to-date!\n",
      "[nltk_data]    | Downloading package brown to\n",
      "[nltk_data]    |     /Users/amith/nltk_data...\n",
      "[nltk_data]    |   Package brown is already up-to-date!\n",
      "[nltk_data]    | Downloading package brown_tei to\n",
      "[nltk_data]    |     /Users/amith/nltk_data...\n",
      "[nltk_data]    |   Package brown_tei is already up-to-date!\n",
      "[nltk_data]    | Downloading package cess_cat to\n",
      "[nltk_data]    |     /Users/amith/nltk_data...\n",
      "[nltk_data]    |   Package cess_cat is already up-to-date!\n",
      "[nltk_data]    | Downloading package cess_esp to\n",
      "[nltk_data]    |     /Users/amith/nltk_data...\n",
      "[nltk_data]    |   Package cess_esp is already up-to-date!\n",
      "[nltk_data]    | Downloading package chat80 to\n",
      "[nltk_data]    |     /Users/amith/nltk_data...\n",
      "[nltk_data]    |   Package chat80 is already up-to-date!\n",
      "[nltk_data]    | Downloading package city_database to\n",
      "[nltk_data]    |     /Users/amith/nltk_data...\n",
      "[nltk_data]    |   Package city_database is already up-to-date!\n",
      "[nltk_data]    | Downloading package cmudict to\n",
      "[nltk_data]    |     /Users/amith/nltk_data...\n",
      "[nltk_data]    |   Package cmudict is already up-to-date!\n",
      "[nltk_data]    | Downloading package comparative_sentences to\n",
      "[nltk_data]    |     /Users/amith/nltk_data...\n",
      "[nltk_data]    |   Package comparative_sentences is already up-to-\n",
      "[nltk_data]    |       date!\n",
      "[nltk_data]    | Downloading package comtrans to\n",
      "[nltk_data]    |     /Users/amith/nltk_data...\n",
      "[nltk_data]    |   Package comtrans is already up-to-date!\n",
      "[nltk_data]    | Downloading package conll2000 to\n",
      "[nltk_data]    |     /Users/amith/nltk_data...\n",
      "[nltk_data]    |   Package conll2000 is already up-to-date!\n",
      "[nltk_data]    | Downloading package conll2002 to\n",
      "[nltk_data]    |     /Users/amith/nltk_data...\n",
      "[nltk_data]    |   Package conll2002 is already up-to-date!\n",
      "[nltk_data]    | Downloading package conll2007 to\n",
      "[nltk_data]    |     /Users/amith/nltk_data...\n",
      "[nltk_data]    |   Package conll2007 is already up-to-date!\n",
      "[nltk_data]    | Downloading package crubadan to\n",
      "[nltk_data]    |     /Users/amith/nltk_data...\n",
      "[nltk_data]    |   Package crubadan is already up-to-date!\n",
      "[nltk_data]    | Downloading package dependency_treebank to\n",
      "[nltk_data]    |     /Users/amith/nltk_data...\n",
      "[nltk_data]    |   Package dependency_treebank is already up-to-date!\n",
      "[nltk_data]    | Downloading package dolch to\n",
      "[nltk_data]    |     /Users/amith/nltk_data...\n",
      "[nltk_data]    |   Package dolch is already up-to-date!\n",
      "[nltk_data]    | Downloading package europarl_raw to\n",
      "[nltk_data]    |     /Users/amith/nltk_data...\n",
      "[nltk_data]    |   Package europarl_raw is already up-to-date!\n",
      "[nltk_data]    | Downloading package extended_omw to\n",
      "[nltk_data]    |     /Users/amith/nltk_data...\n",
      "[nltk_data]    |   Package extended_omw is already up-to-date!\n",
      "[nltk_data]    | Downloading package floresta to\n",
      "[nltk_data]    |     /Users/amith/nltk_data...\n",
      "[nltk_data]    |   Package floresta is already up-to-date!\n",
      "[nltk_data]    | Downloading package framenet_v15 to\n",
      "[nltk_data]    |     /Users/amith/nltk_data...\n",
      "[nltk_data]    |   Package framenet_v15 is already up-to-date!\n",
      "[nltk_data]    | Downloading package framenet_v17 to\n",
      "[nltk_data]    |     /Users/amith/nltk_data...\n",
      "[nltk_data]    |   Package framenet_v17 is already up-to-date!\n",
      "[nltk_data]    | Downloading package gazetteers to\n",
      "[nltk_data]    |     /Users/amith/nltk_data...\n",
      "[nltk_data]    |   Package gazetteers is already up-to-date!\n",
      "[nltk_data]    | Downloading package genesis to\n",
      "[nltk_data]    |     /Users/amith/nltk_data...\n",
      "[nltk_data]    |   Package genesis is already up-to-date!\n",
      "[nltk_data]    | Downloading package gutenberg to\n",
      "[nltk_data]    |     /Users/amith/nltk_data...\n",
      "[nltk_data]    |   Package gutenberg is already up-to-date!\n",
      "[nltk_data]    | Downloading package ieer to /Users/amith/nltk_data...\n",
      "[nltk_data]    |   Package ieer is already up-to-date!\n",
      "[nltk_data]    | Downloading package inaugural to\n",
      "[nltk_data]    |     /Users/amith/nltk_data...\n",
      "[nltk_data]    |   Package inaugural is already up-to-date!\n",
      "[nltk_data]    | Downloading package indian to\n",
      "[nltk_data]    |     /Users/amith/nltk_data...\n",
      "[nltk_data]    |   Package indian is already up-to-date!\n",
      "[nltk_data]    | Downloading package jeita to\n",
      "[nltk_data]    |     /Users/amith/nltk_data...\n",
      "[nltk_data]    |   Package jeita is already up-to-date!\n",
      "[nltk_data]    | Downloading package kimmo to\n",
      "[nltk_data]    |     /Users/amith/nltk_data...\n",
      "[nltk_data]    |   Package kimmo is already up-to-date!\n",
      "[nltk_data]    | Downloading package knbc to /Users/amith/nltk_data...\n",
      "[nltk_data]    |   Package knbc is already up-to-date!\n",
      "[nltk_data]    | Downloading package large_grammars to\n",
      "[nltk_data]    |     /Users/amith/nltk_data...\n",
      "[nltk_data]    |   Package large_grammars is already up-to-date!\n",
      "[nltk_data]    | Downloading package lin_thesaurus to\n",
      "[nltk_data]    |     /Users/amith/nltk_data...\n",
      "[nltk_data]    |   Package lin_thesaurus is already up-to-date!\n",
      "[nltk_data]    | Downloading package mac_morpho to\n",
      "[nltk_data]    |     /Users/amith/nltk_data...\n",
      "[nltk_data]    |   Package mac_morpho is already up-to-date!\n",
      "[nltk_data]    | Downloading package machado to\n",
      "[nltk_data]    |     /Users/amith/nltk_data...\n",
      "[nltk_data]    |   Package machado is already up-to-date!\n",
      "[nltk_data]    | Downloading package masc_tagged to\n",
      "[nltk_data]    |     /Users/amith/nltk_data...\n",
      "[nltk_data]    |   Package masc_tagged is already up-to-date!\n",
      "[nltk_data]    | Downloading package maxent_ne_chunker to\n",
      "[nltk_data]    |     /Users/amith/nltk_data...\n",
      "[nltk_data]    |   Package maxent_ne_chunker is already up-to-date!\n",
      "[nltk_data]    | Downloading package maxent_treebank_pos_tagger to\n",
      "[nltk_data]    |     /Users/amith/nltk_data...\n",
      "[nltk_data]    |   Package maxent_treebank_pos_tagger is already up-\n",
      "[nltk_data]    |       to-date!\n",
      "[nltk_data]    | Downloading package moses_sample to\n",
      "[nltk_data]    |     /Users/amith/nltk_data...\n",
      "[nltk_data]    |   Package moses_sample is already up-to-date!\n",
      "[nltk_data]    | Downloading package movie_reviews to\n",
      "[nltk_data]    |     /Users/amith/nltk_data...\n",
      "[nltk_data]    |   Package movie_reviews is already up-to-date!\n",
      "[nltk_data]    | Downloading package mte_teip5 to\n",
      "[nltk_data]    |     /Users/amith/nltk_data...\n",
      "[nltk_data]    |   Package mte_teip5 is already up-to-date!\n",
      "[nltk_data]    | Downloading package mwa_ppdb to\n",
      "[nltk_data]    |     /Users/amith/nltk_data...\n",
      "[nltk_data]    |   Package mwa_ppdb is already up-to-date!\n",
      "[nltk_data]    | Downloading package names to\n",
      "[nltk_data]    |     /Users/amith/nltk_data...\n",
      "[nltk_data]    |   Package names is already up-to-date!\n",
      "[nltk_data]    | Downloading package nombank.1.0 to\n",
      "[nltk_data]    |     /Users/amith/nltk_data...\n",
      "[nltk_data]    |   Package nombank.1.0 is already up-to-date!\n",
      "[nltk_data]    | Downloading package nonbreaking_prefixes to\n",
      "[nltk_data]    |     /Users/amith/nltk_data...\n",
      "[nltk_data]    |   Package nonbreaking_prefixes is already up-to-date!\n",
      "[nltk_data]    | Downloading package nps_chat to\n",
      "[nltk_data]    |     /Users/amith/nltk_data...\n",
      "[nltk_data]    |   Package nps_chat is already up-to-date!\n",
      "[nltk_data]    | Downloading package omw to /Users/amith/nltk_data...\n",
      "[nltk_data]    |   Package omw is already up-to-date!\n",
      "[nltk_data]    | Downloading package omw-1.4 to\n",
      "[nltk_data]    |     /Users/amith/nltk_data...\n",
      "[nltk_data]    |   Package omw-1.4 is already up-to-date!\n",
      "[nltk_data]    | Downloading package opinion_lexicon to\n",
      "[nltk_data]    |     /Users/amith/nltk_data...\n",
      "[nltk_data]    |   Package opinion_lexicon is already up-to-date!\n",
      "[nltk_data]    | Downloading package panlex_swadesh to\n",
      "[nltk_data]    |     /Users/amith/nltk_data...\n",
      "[nltk_data]    |   Package panlex_swadesh is already up-to-date!\n",
      "[nltk_data]    | Downloading package paradigms to\n",
      "[nltk_data]    |     /Users/amith/nltk_data...\n",
      "[nltk_data]    |   Package paradigms is already up-to-date!\n",
      "[nltk_data]    | Downloading package pe08 to /Users/amith/nltk_data...\n",
      "[nltk_data]    |   Package pe08 is already up-to-date!\n",
      "[nltk_data]    | Downloading package perluniprops to\n",
      "[nltk_data]    |     /Users/amith/nltk_data...\n",
      "[nltk_data]    |   Package perluniprops is already up-to-date!\n",
      "[nltk_data]    | Downloading package pil to /Users/amith/nltk_data...\n",
      "[nltk_data]    |   Package pil is already up-to-date!\n",
      "[nltk_data]    | Downloading package pl196x to\n",
      "[nltk_data]    |     /Users/amith/nltk_data...\n",
      "[nltk_data]    |   Package pl196x is already up-to-date!\n",
      "[nltk_data]    | Downloading package porter_test to\n",
      "[nltk_data]    |     /Users/amith/nltk_data...\n",
      "[nltk_data]    |   Package porter_test is already up-to-date!\n",
      "[nltk_data]    | Downloading package ppattach to\n",
      "[nltk_data]    |     /Users/amith/nltk_data...\n",
      "[nltk_data]    |   Package ppattach is already up-to-date!\n",
      "[nltk_data]    | Downloading package problem_reports to\n",
      "[nltk_data]    |     /Users/amith/nltk_data...\n",
      "[nltk_data]    |   Package problem_reports is already up-to-date!\n",
      "[nltk_data]    | Downloading package product_reviews_1 to\n",
      "[nltk_data]    |     /Users/amith/nltk_data...\n",
      "[nltk_data]    |   Package product_reviews_1 is already up-to-date!\n",
      "[nltk_data]    | Downloading package product_reviews_2 to\n",
      "[nltk_data]    |     /Users/amith/nltk_data...\n",
      "[nltk_data]    |   Package product_reviews_2 is already up-to-date!\n",
      "[nltk_data]    | Downloading package propbank to\n",
      "[nltk_data]    |     /Users/amith/nltk_data...\n",
      "[nltk_data]    |   Package propbank is already up-to-date!\n",
      "[nltk_data]    | Downloading package pros_cons to\n",
      "[nltk_data]    |     /Users/amith/nltk_data...\n",
      "[nltk_data]    |   Package pros_cons is already up-to-date!\n",
      "[nltk_data]    | Downloading package ptb to /Users/amith/nltk_data...\n",
      "[nltk_data]    |   Package ptb is already up-to-date!\n",
      "[nltk_data]    | Downloading package punkt to\n",
      "[nltk_data]    |     /Users/amith/nltk_data...\n",
      "[nltk_data]    |   Package punkt is already up-to-date!\n",
      "[nltk_data]    | Downloading package qc to /Users/amith/nltk_data...\n",
      "[nltk_data]    |   Package qc is already up-to-date!\n",
      "[nltk_data]    | Downloading package reuters to\n",
      "[nltk_data]    |     /Users/amith/nltk_data...\n",
      "[nltk_data]    |   Package reuters is already up-to-date!\n",
      "[nltk_data]    | Downloading package rslp to /Users/amith/nltk_data...\n",
      "[nltk_data]    |   Package rslp is already up-to-date!\n",
      "[nltk_data]    | Downloading package rte to /Users/amith/nltk_data...\n",
      "[nltk_data]    |   Package rte is already up-to-date!\n",
      "[nltk_data]    | Downloading package sample_grammars to\n",
      "[nltk_data]    |     /Users/amith/nltk_data...\n",
      "[nltk_data]    |   Package sample_grammars is already up-to-date!\n",
      "[nltk_data]    | Downloading package semcor to\n",
      "[nltk_data]    |     /Users/amith/nltk_data...\n",
      "[nltk_data]    |   Package semcor is already up-to-date!\n",
      "[nltk_data]    | Downloading package senseval to\n",
      "[nltk_data]    |     /Users/amith/nltk_data...\n",
      "[nltk_data]    |   Package senseval is already up-to-date!\n",
      "[nltk_data]    | Downloading package sentence_polarity to\n",
      "[nltk_data]    |     /Users/amith/nltk_data...\n",
      "[nltk_data]    |   Package sentence_polarity is already up-to-date!\n",
      "[nltk_data]    | Downloading package sentiwordnet to\n",
      "[nltk_data]    |     /Users/amith/nltk_data...\n",
      "[nltk_data]    |   Package sentiwordnet is already up-to-date!\n",
      "[nltk_data]    | Downloading package shakespeare to\n",
      "[nltk_data]    |     /Users/amith/nltk_data...\n",
      "[nltk_data]    |   Package shakespeare is already up-to-date!\n",
      "[nltk_data]    | Downloading package sinica_treebank to\n",
      "[nltk_data]    |     /Users/amith/nltk_data...\n",
      "[nltk_data]    |   Package sinica_treebank is already up-to-date!\n",
      "[nltk_data]    | Downloading package smultron to\n",
      "[nltk_data]    |     /Users/amith/nltk_data...\n",
      "[nltk_data]    |   Package smultron is already up-to-date!\n",
      "[nltk_data]    | Downloading package snowball_data to\n",
      "[nltk_data]    |     /Users/amith/nltk_data...\n",
      "[nltk_data]    |   Package snowball_data is already up-to-date!\n",
      "[nltk_data]    | Downloading package spanish_grammars to\n",
      "[nltk_data]    |     /Users/amith/nltk_data...\n",
      "[nltk_data]    |   Package spanish_grammars is already up-to-date!\n",
      "[nltk_data]    | Downloading package state_union to\n",
      "[nltk_data]    |     /Users/amith/nltk_data...\n",
      "[nltk_data]    |   Package state_union is already up-to-date!\n",
      "[nltk_data]    | Downloading package stopwords to\n",
      "[nltk_data]    |     /Users/amith/nltk_data...\n",
      "[nltk_data]    |   Package stopwords is already up-to-date!\n",
      "[nltk_data]    | Downloading package subjectivity to\n",
      "[nltk_data]    |     /Users/amith/nltk_data...\n",
      "[nltk_data]    |   Package subjectivity is already up-to-date!\n",
      "[nltk_data]    | Downloading package swadesh to\n",
      "[nltk_data]    |     /Users/amith/nltk_data...\n",
      "[nltk_data]    |   Package swadesh is already up-to-date!\n",
      "[nltk_data]    | Downloading package switchboard to\n",
      "[nltk_data]    |     /Users/amith/nltk_data...\n",
      "[nltk_data]    |   Package switchboard is already up-to-date!\n",
      "[nltk_data]    | Downloading package tagsets to\n",
      "[nltk_data]    |     /Users/amith/nltk_data...\n",
      "[nltk_data]    |   Package tagsets is already up-to-date!\n",
      "[nltk_data]    | Downloading package timit to\n",
      "[nltk_data]    |     /Users/amith/nltk_data...\n",
      "[nltk_data]    |   Package timit is already up-to-date!\n",
      "[nltk_data]    | Downloading package toolbox to\n",
      "[nltk_data]    |     /Users/amith/nltk_data...\n",
      "[nltk_data]    |   Package toolbox is already up-to-date!\n",
      "[nltk_data]    | Downloading package treebank to\n",
      "[nltk_data]    |     /Users/amith/nltk_data...\n",
      "[nltk_data]    |   Package treebank is already up-to-date!\n",
      "[nltk_data]    | Downloading package twitter_samples to\n",
      "[nltk_data]    |     /Users/amith/nltk_data...\n",
      "[nltk_data]    |   Package twitter_samples is already up-to-date!\n",
      "[nltk_data]    | Downloading package udhr to /Users/amith/nltk_data...\n",
      "[nltk_data]    |   Package udhr is already up-to-date!\n",
      "[nltk_data]    | Downloading package udhr2 to\n",
      "[nltk_data]    |     /Users/amith/nltk_data...\n",
      "[nltk_data]    |   Package udhr2 is already up-to-date!\n",
      "[nltk_data]    | Downloading package unicode_samples to\n",
      "[nltk_data]    |     /Users/amith/nltk_data...\n",
      "[nltk_data]    |   Package unicode_samples is already up-to-date!\n",
      "[nltk_data]    | Downloading package universal_tagset to\n",
      "[nltk_data]    |     /Users/amith/nltk_data...\n",
      "[nltk_data]    |   Package universal_tagset is already up-to-date!\n",
      "[nltk_data]    | Downloading package universal_treebanks_v20 to\n",
      "[nltk_data]    |     /Users/amith/nltk_data...\n",
      "[nltk_data]    |   Package universal_treebanks_v20 is already up-to-\n",
      "[nltk_data]    |       date!\n",
      "[nltk_data]    | Downloading package vader_lexicon to\n",
      "[nltk_data]    |     /Users/amith/nltk_data...\n",
      "[nltk_data]    |   Package vader_lexicon is already up-to-date!\n",
      "[nltk_data]    | Downloading package verbnet to\n",
      "[nltk_data]    |     /Users/amith/nltk_data...\n",
      "[nltk_data]    |   Package verbnet is already up-to-date!\n",
      "[nltk_data]    | Downloading package verbnet3 to\n",
      "[nltk_data]    |     /Users/amith/nltk_data...\n",
      "[nltk_data]    |   Package verbnet3 is already up-to-date!\n",
      "[nltk_data]    | Downloading package webtext to\n",
      "[nltk_data]    |     /Users/amith/nltk_data...\n",
      "[nltk_data]    |   Package webtext is already up-to-date!\n",
      "[nltk_data]    | Downloading package wmt15_eval to\n",
      "[nltk_data]    |     /Users/amith/nltk_data...\n",
      "[nltk_data]    |   Package wmt15_eval is already up-to-date!\n",
      "[nltk_data]    | Downloading package word2vec_sample to\n",
      "[nltk_data]    |     /Users/amith/nltk_data...\n",
      "[nltk_data]    |   Package word2vec_sample is already up-to-date!\n",
      "[nltk_data]    | Downloading package wordnet to\n",
      "[nltk_data]    |     /Users/amith/nltk_data...\n",
      "[nltk_data]    |   Package wordnet is already up-to-date!\n",
      "[nltk_data]    | Downloading package wordnet2021 to\n",
      "[nltk_data]    |     /Users/amith/nltk_data...\n",
      "[nltk_data]    |   Package wordnet2021 is already up-to-date!\n",
      "[nltk_data]    | Downloading package wordnet2022 to\n",
      "[nltk_data]    |     /Users/amith/nltk_data...\n",
      "[nltk_data]    |   Package wordnet2022 is already up-to-date!\n",
      "[nltk_data]    | Downloading package wordnet31 to\n",
      "[nltk_data]    |     /Users/amith/nltk_data...\n",
      "[nltk_data]    |   Package wordnet31 is already up-to-date!\n",
      "[nltk_data]    | Downloading package wordnet_ic to\n",
      "[nltk_data]    |     /Users/amith/nltk_data...\n",
      "[nltk_data]    |   Package wordnet_ic is already up-to-date!\n",
      "[nltk_data]    | Downloading package words to\n",
      "[nltk_data]    |     /Users/amith/nltk_data...\n",
      "[nltk_data]    |   Package words is already up-to-date!\n",
      "[nltk_data]    | Downloading package ycoe to /Users/amith/nltk_data...\n",
      "[nltk_data]    |   Package ycoe is already up-to-date!\n",
      "[nltk_data]    | \n",
      "[nltk_data]  Done downloading collection all\n"
     ]
    }
   ],
   "source": [
    "import numpy as np\n",
    "import pandas as pd\n",
    "import matplotlib.pyplot as plt\n",
    "import seaborn as sns\n",
    "import nltk\n",
    "nltk.download(\"all\")\n",
    "from nltk.stem import *\n",
    "from nltk.tokenize import *\n",
    "from sklearn.feature_extraction.text import *\n",
    "from sklearn.model_selection import *\n",
    "from sklearn.linear_model import *\n",
    "from sklearn.metrics import *\n",
    "from sklearn.metrics.pairwise import *\n",
    "from sklearn.preprocessing import *\n",
    "import warnings\n",
    "warnings.filterwarnings(\"ignore\")"
   ]
  },
  {
   "cell_type": "code",
   "outputs": [],
   "source": [
    "df = pd.read_excel(\"IELTS_Success_Stories_Dataset.xlsx\")"
   ],
   "metadata": {
    "collapsed": false,
    "ExecuteTime": {
     "end_time": "2024-01-05T20:01:27.214085Z",
     "start_time": "2024-01-05T20:01:27.146005Z"
    }
   },
   "id": "231ec637487ee4dc",
   "execution_count": 23
  },
  {
   "cell_type": "code",
   "outputs": [
    {
     "data": {
      "text/plain": "   Candidate   Location         Profession  Study Duration (months)  \\\n0      Aisha    Karachi       Grad Student                        3   \n1      Ahmed     Lahore    IT Professional                        4   \n2     Fatima  Islamabad     School Teacher                        2   \n3        Ali   Peshawar    IT Professional                        5   \n4       Saad     Lahore       Eng. Student                        6   \n5       Nida  Islamabad  Marketing Manager                        3   \n6      Bilal    Karachi    Finance Analyst                        4   \n7       Sara     Lahore    Medical Student                        5   \n8      Imran  Islamabad  Software Engineer                        3   \n9       Hina    Karachi         Journalist                        6   \n10     Farid   Peshawar     Civil Engineer                        4   \n11     Aisha    Karachi       Grad Student                        3   \n12     Ahmed     Lahore    IT Professional                        4   \n13    Fatima  Islamabad     School Teacher                        2   \n14       Ali   Peshawar    IT Professional                        5   \n15      Saad     Lahore       Eng. Student                        6   \n16      Nida  Islamabad  Marketing Manager                        3   \n17     Bilal    Karachi    Finance Analyst                        4   \n18      Sara     Lahore    Medical Student                        5   \n19     Imran  Islamabad  Software Engineer                        3   \n20      Hina    Karachi         Journalist                        6   \n21     Farid   Peshawar     Civil Engineer                        4   \n22      Zara     Lahore   Graphic Designer                        3   \n23    Rashid  Islamabad           Educator                        5   \n24      Sana   Peshawar   Environmentalist                        4   \n25     Hasan    Karachi          Architect                        3   \n26    Zainab     Lahore      HR Specialist                        2   \n\n    IELTS Score (Overall)                                     Key Strategies  \\\n0                   8.500                         Practice, forums, tutoring   \n1                   7.500  Balanced schedule, time management, speaking p...   \n2                   9.000  Intensive course, online resources, mock inter...   \n3                   8.000            Focused study, workshops, peer feedback   \n4                   8.250  Consistent practice, private tutor, speaking c...   \n5                   7.875     Online courses, group study, extensive reading   \n6                   7.000  Self-study, vocabulary building, speaking prac...   \n7                   8.750    Daily practice, study groups, extensive reading   \n8                   8.500  Private tutor, mock tests, listening skill imp...   \n9                   7.500  Balanced study routine, writing practice, onli...   \n10                  8.250  Group study, online forums, speaking with nati...   \n11                  8.500                         Practice, forums, tutoring   \n12                  7.500  Balanced schedule, time management, speaking p...   \n13                  9.000  Intensive course, online resources, mock inter...   \n14                  8.000            Focused study, workshops, peer feedback   \n15                  8.250  Consistent practice, private tutor, speaking c...   \n16                  7.875     Online courses, group study, extensive reading   \n17                  7.000  Self-study, vocabulary building, speaking prac...   \n18                  8.750    Daily practice, study groups, extensive reading   \n19                  8.500  Private tutor, mock tests, listening skill imp...   \n20                  7.500  Balanced study routine, writing practice, onli...   \n21                  8.250  Group study, online forums, speaking with nati...   \n22                  8.000  Practice tests, writing workshops, vocabulary ...   \n23                  8.750  Structured study plan, speaking clubs, consist...   \n24                  9.000  Intensive speaking practice, online resources,...   \n25                  8.250  Vocabulary building, daily practice, speaking ...   \n26                  7.500  Self-paced study, online forums, speaking with...   \n\n   Education Level  Age Target Country English Proficiency (Preparation)  ...  \\\n0         Master's   24         Canada                          Advanced  ...   \n1       Bachelor's   29      Australia                      Intermediate  ...   \n2         Master's   32    New Zealand                          Advanced  ...   \n3       Bachelor's   27            USA                          Advanced  ...   \n4       Bachelor's   22             UK                          Advanced  ...   \n5         Master's   30      Singapore                      Intermediate  ...   \n6         Master's   28            UAE                      Intermediate  ...   \n7       Bachelor's   23        Ireland                          Advanced  ...   \n8       Bachelor's   26        Germany                          Advanced  ...   \n9         Master's   31       Malaysia                      Intermediate  ...   \n10        Master's   29         Sweden                          Advanced  ...   \n11        Master's   24         Canada                          Advanced  ...   \n12      Bachelor's   29      Australia                      Intermediate  ...   \n13        Master's   32    New Zealand                          Advanced  ...   \n14      Bachelor's   27            USA                          Advanced  ...   \n15      Bachelor's   22             UK                          Advanced  ...   \n16        Master's   30      Singapore                      Intermediate  ...   \n17        Master's   28            UAE                      Intermediate  ...   \n18      Bachelor's   23        Ireland                          Advanced  ...   \n19      Bachelor's   26        Germany                          Advanced  ...   \n20        Master's   31       Malaysia                      Intermediate  ...   \n21        Master's   29         Sweden                          Advanced  ...   \n22      Bachelor's   25         Norway                          Advanced  ...   \n23        Master's   34          Japan                          Advanced  ...   \n24      Bachelor's   28    Netherlands                          Advanced  ...   \n25        Master's   30            UAE                          Advanced  ...   \n26      Bachelor's   26       Malaysia                      Intermediate  ...   \n\n                     Preferred Learning Resources  Application Status  \\\n0                    Online courses, study guides       Under Process   \n1                   Online forums, practice tests            Approved   \n2                 Study guides, language exchange       Under Process   \n3                      Mock exams, speaking clubs            Rejected   \n4             Online tutorials, speaking practice       Under Process   \n5                     Podcasts, business articles             Pending   \n6               Financial news, language exchange             Pending   \n7             Medical journals, language exchange            Approved   \n8             Coding platforms, language exchange       Under Process   \n9                News articles, language exchange            Rejected   \n10        Engineering journals, language exchange             Pending   \n11                   Online courses, study guides       Under Process   \n12                  Online forums, practice tests            Approved   \n13                Study guides, language exchange       Under Process   \n14                     Mock exams, speaking clubs            Rejected   \n15            Online tutorials, speaking practice       Under Process   \n16                    Podcasts, business articles             Pending   \n17              Financial news, language exchange             Pending   \n18            Medical journals, language exchange            Approved   \n19            Coding platforms, language exchange       Under Process   \n20               News articles, language exchange            Rejected   \n21        Engineering journals, language exchange             Pending   \n22            Design tutorials, language exchange       Under Process   \n23       Educational resources, language exchange            Approved   \n24  Environmental publications, language exchange       Under Process   \n25     Architectural tutorials, language exchange            Approved   \n26             HR publications, language exchange             Pending   \n\n   Job Offer Received          Additional Certifications Volunteer Experience  \\\n0                  No                              TESOL                  Yes   \n1                 Yes                                PMP                   No   \n2                  No                              CELTA                  Yes   \n3                  No  AWS Certified Solutions Architect                   No   \n4                  No                     IELTS Examiner                  Yes   \n5                  No                  Digital Marketing                   No   \n6                  No                        CFA Level I                   No   \n7                  No                  BLS Certification                  Yes   \n8                  No             ISTQB Certified Tester                  Yes   \n9                  No           Journalism Certification                   No   \n10                 No             Structural Engineering                   No   \n11                 No                              TESOL                  Yes   \n12                Yes                                PMP                   No   \n13                 No                              CELTA                  Yes   \n14                 No  AWS Certified Solutions Architect                   No   \n15                 No                     IELTS Examiner                  Yes   \n16                 No                  Digital Marketing                   No   \n17                 No                        CFA Level I                   No   \n18                 No                  BLS Certification                  Yes   \n19                 No             ISTQB Certified Tester                  Yes   \n20                 No           Journalism Certification                   No   \n21                 No             Structural Engineering                   No   \n22                 No             Adobe Certified Expert                  Yes   \n23                 No                               TEFL                  Yes   \n24                 No               Sustainability Cert.                  Yes   \n25                 No               LEED Green Associate                  Yes   \n26                 No                            SHRM-CP                   No   \n\n   Language Fluency     Internship Experience  \\\n0     Urdu, English        Research Assistant   \n1     Urdu, English             IT Consultant   \n2     Urdu, English      Curriculum Developer   \n3     Urdu, English        Software Developer   \n4     Urdu, English        Research Assistant   \n5     Urdu, English     Marketing Coordinator   \n6     Urdu, English         Financial Analyst   \n7     Urdu, English        Research Assistant   \n8     Urdu, English        Software Developer   \n9     Urdu, English            Content Writer   \n10    Urdu, English          Project Engineer   \n11    Urdu, English        Research Assistant   \n12    Urdu, English             IT Consultant   \n13    Urdu, English      Curriculum Developer   \n14    Urdu, English        Software Developer   \n15    Urdu, English        Research Assistant   \n16    Urdu, English     Marketing Coordinator   \n17    Urdu, English         Financial Analyst   \n18    Urdu, English        Research Assistant   \n19    Urdu, English        Software Developer   \n20    Urdu, English            Content Writer   \n21    Urdu, English          Project Engineer   \n22    Urdu, English            UI/UX Designer   \n23    Urdu, English     Curriculum Specialist   \n24    Urdu, English  Environmental Researcher   \n25    Urdu, English    Architectural Designer   \n26    Urdu, English             HR Consultant   \n\n                      Relevant Skills Recommendations       Networking Efforts  \n0             Data Analysis, Teaching          Strong   LinkedIn, Local Events  \n1     Project Management, Programming        Positive       Online Communities  \n2   Lesson Planning, Educational Tech        Positive      Professional Groups  \n3        Cloud Computing, Programming          Strong         Online Platforms  \n4       Lab Techniques, Data Analysis        Positive        University Events  \n5               SEO, Content Creation         Neutral     Industry Conferences  \n6   Financial Modeling, Data Analysis         Neutral            Online Forums  \n7       Lab Techniques, Data Analysis        Positive      Medical Conferences  \n8             Programming, QA Testing        Positive       Coding Communities  \n9                    Writing, Editing         Neutral      Freelance Platforms  \n10       AutoCAD, Structural Analysis        Positive       Engineering Events  \n11            Data Analysis, Teaching          Strong   LinkedIn, Local Events  \n12    Project Management, Programming        Positive       Online Communities  \n13  Lesson Planning, Educational Tech        Positive      Professional Groups  \n14       Cloud Computing, Programming          Strong         Online Platforms  \n15      Lab Techniques, Data Analysis        Positive        University Events  \n16              SEO, Content Creation         Neutral     Industry Conferences  \n17  Financial Modeling, Data Analysis         Neutral            Online Forums  \n18      Lab Techniques, Data Analysis        Positive      Medical Conferences  \n19            Programming, QA Testing        Positive       Coding Communities  \n20                   Writing, Editing         Neutral      Freelance Platforms  \n21       AutoCAD, Structural Analysis        Positive       Engineering Events  \n22  Adobe Creative Suite, Prototyping        Positive       Design Communities  \n23        Lesson Planning, E-Learning        Positive  Educational Conferences  \n24        Data Analysis, Conservation        Positive     Environmental Events  \n25               AutoCAD, 3D Modeling        Positive      Architecture Forums  \n26    Employee Relations, Recruitment         Neutral     HR Networking Events  \n\n[27 rows x 23 columns]",
      "text/html": "<div>\n<style scoped>\n    .dataframe tbody tr th:only-of-type {\n        vertical-align: middle;\n    }\n\n    .dataframe tbody tr th {\n        vertical-align: top;\n    }\n\n    .dataframe thead th {\n        text-align: right;\n    }\n</style>\n<table border=\"1\" class=\"dataframe\">\n  <thead>\n    <tr style=\"text-align: right;\">\n      <th></th>\n      <th>Candidate</th>\n      <th>Location</th>\n      <th>Profession</th>\n      <th>Study Duration (months)</th>\n      <th>IELTS Score (Overall)</th>\n      <th>Key Strategies</th>\n      <th>Education Level</th>\n      <th>Age</th>\n      <th>Target Country</th>\n      <th>English Proficiency (Preparation)</th>\n      <th>...</th>\n      <th>Preferred Learning Resources</th>\n      <th>Application Status</th>\n      <th>Job Offer Received</th>\n      <th>Additional Certifications</th>\n      <th>Volunteer Experience</th>\n      <th>Language Fluency</th>\n      <th>Internship Experience</th>\n      <th>Relevant Skills</th>\n      <th>Recommendations</th>\n      <th>Networking Efforts</th>\n    </tr>\n  </thead>\n  <tbody>\n    <tr>\n      <th>0</th>\n      <td>Aisha</td>\n      <td>Karachi</td>\n      <td>Grad Student</td>\n      <td>3</td>\n      <td>8.500</td>\n      <td>Practice, forums, tutoring</td>\n      <td>Master's</td>\n      <td>24</td>\n      <td>Canada</td>\n      <td>Advanced</td>\n      <td>...</td>\n      <td>Online courses, study guides</td>\n      <td>Under Process</td>\n      <td>No</td>\n      <td>TESOL</td>\n      <td>Yes</td>\n      <td>Urdu, English</td>\n      <td>Research Assistant</td>\n      <td>Data Analysis, Teaching</td>\n      <td>Strong</td>\n      <td>LinkedIn, Local Events</td>\n    </tr>\n    <tr>\n      <th>1</th>\n      <td>Ahmed</td>\n      <td>Lahore</td>\n      <td>IT Professional</td>\n      <td>4</td>\n      <td>7.500</td>\n      <td>Balanced schedule, time management, speaking p...</td>\n      <td>Bachelor's</td>\n      <td>29</td>\n      <td>Australia</td>\n      <td>Intermediate</td>\n      <td>...</td>\n      <td>Online forums, practice tests</td>\n      <td>Approved</td>\n      <td>Yes</td>\n      <td>PMP</td>\n      <td>No</td>\n      <td>Urdu, English</td>\n      <td>IT Consultant</td>\n      <td>Project Management, Programming</td>\n      <td>Positive</td>\n      <td>Online Communities</td>\n    </tr>\n    <tr>\n      <th>2</th>\n      <td>Fatima</td>\n      <td>Islamabad</td>\n      <td>School Teacher</td>\n      <td>2</td>\n      <td>9.000</td>\n      <td>Intensive course, online resources, mock inter...</td>\n      <td>Master's</td>\n      <td>32</td>\n      <td>New Zealand</td>\n      <td>Advanced</td>\n      <td>...</td>\n      <td>Study guides, language exchange</td>\n      <td>Under Process</td>\n      <td>No</td>\n      <td>CELTA</td>\n      <td>Yes</td>\n      <td>Urdu, English</td>\n      <td>Curriculum Developer</td>\n      <td>Lesson Planning, Educational Tech</td>\n      <td>Positive</td>\n      <td>Professional Groups</td>\n    </tr>\n    <tr>\n      <th>3</th>\n      <td>Ali</td>\n      <td>Peshawar</td>\n      <td>IT Professional</td>\n      <td>5</td>\n      <td>8.000</td>\n      <td>Focused study, workshops, peer feedback</td>\n      <td>Bachelor's</td>\n      <td>27</td>\n      <td>USA</td>\n      <td>Advanced</td>\n      <td>...</td>\n      <td>Mock exams, speaking clubs</td>\n      <td>Rejected</td>\n      <td>No</td>\n      <td>AWS Certified Solutions Architect</td>\n      <td>No</td>\n      <td>Urdu, English</td>\n      <td>Software Developer</td>\n      <td>Cloud Computing, Programming</td>\n      <td>Strong</td>\n      <td>Online Platforms</td>\n    </tr>\n    <tr>\n      <th>4</th>\n      <td>Saad</td>\n      <td>Lahore</td>\n      <td>Eng. Student</td>\n      <td>6</td>\n      <td>8.250</td>\n      <td>Consistent practice, private tutor, speaking c...</td>\n      <td>Bachelor's</td>\n      <td>22</td>\n      <td>UK</td>\n      <td>Advanced</td>\n      <td>...</td>\n      <td>Online tutorials, speaking practice</td>\n      <td>Under Process</td>\n      <td>No</td>\n      <td>IELTS Examiner</td>\n      <td>Yes</td>\n      <td>Urdu, English</td>\n      <td>Research Assistant</td>\n      <td>Lab Techniques, Data Analysis</td>\n      <td>Positive</td>\n      <td>University Events</td>\n    </tr>\n    <tr>\n      <th>5</th>\n      <td>Nida</td>\n      <td>Islamabad</td>\n      <td>Marketing Manager</td>\n      <td>3</td>\n      <td>7.875</td>\n      <td>Online courses, group study, extensive reading</td>\n      <td>Master's</td>\n      <td>30</td>\n      <td>Singapore</td>\n      <td>Intermediate</td>\n      <td>...</td>\n      <td>Podcasts, business articles</td>\n      <td>Pending</td>\n      <td>No</td>\n      <td>Digital Marketing</td>\n      <td>No</td>\n      <td>Urdu, English</td>\n      <td>Marketing Coordinator</td>\n      <td>SEO, Content Creation</td>\n      <td>Neutral</td>\n      <td>Industry Conferences</td>\n    </tr>\n    <tr>\n      <th>6</th>\n      <td>Bilal</td>\n      <td>Karachi</td>\n      <td>Finance Analyst</td>\n      <td>4</td>\n      <td>7.000</td>\n      <td>Self-study, vocabulary building, speaking prac...</td>\n      <td>Master's</td>\n      <td>28</td>\n      <td>UAE</td>\n      <td>Intermediate</td>\n      <td>...</td>\n      <td>Financial news, language exchange</td>\n      <td>Pending</td>\n      <td>No</td>\n      <td>CFA Level I</td>\n      <td>No</td>\n      <td>Urdu, English</td>\n      <td>Financial Analyst</td>\n      <td>Financial Modeling, Data Analysis</td>\n      <td>Neutral</td>\n      <td>Online Forums</td>\n    </tr>\n    <tr>\n      <th>7</th>\n      <td>Sara</td>\n      <td>Lahore</td>\n      <td>Medical Student</td>\n      <td>5</td>\n      <td>8.750</td>\n      <td>Daily practice, study groups, extensive reading</td>\n      <td>Bachelor's</td>\n      <td>23</td>\n      <td>Ireland</td>\n      <td>Advanced</td>\n      <td>...</td>\n      <td>Medical journals, language exchange</td>\n      <td>Approved</td>\n      <td>No</td>\n      <td>BLS Certification</td>\n      <td>Yes</td>\n      <td>Urdu, English</td>\n      <td>Research Assistant</td>\n      <td>Lab Techniques, Data Analysis</td>\n      <td>Positive</td>\n      <td>Medical Conferences</td>\n    </tr>\n    <tr>\n      <th>8</th>\n      <td>Imran</td>\n      <td>Islamabad</td>\n      <td>Software Engineer</td>\n      <td>3</td>\n      <td>8.500</td>\n      <td>Private tutor, mock tests, listening skill imp...</td>\n      <td>Bachelor's</td>\n      <td>26</td>\n      <td>Germany</td>\n      <td>Advanced</td>\n      <td>...</td>\n      <td>Coding platforms, language exchange</td>\n      <td>Under Process</td>\n      <td>No</td>\n      <td>ISTQB Certified Tester</td>\n      <td>Yes</td>\n      <td>Urdu, English</td>\n      <td>Software Developer</td>\n      <td>Programming, QA Testing</td>\n      <td>Positive</td>\n      <td>Coding Communities</td>\n    </tr>\n    <tr>\n      <th>9</th>\n      <td>Hina</td>\n      <td>Karachi</td>\n      <td>Journalist</td>\n      <td>6</td>\n      <td>7.500</td>\n      <td>Balanced study routine, writing practice, onli...</td>\n      <td>Master's</td>\n      <td>31</td>\n      <td>Malaysia</td>\n      <td>Intermediate</td>\n      <td>...</td>\n      <td>News articles, language exchange</td>\n      <td>Rejected</td>\n      <td>No</td>\n      <td>Journalism Certification</td>\n      <td>No</td>\n      <td>Urdu, English</td>\n      <td>Content Writer</td>\n      <td>Writing, Editing</td>\n      <td>Neutral</td>\n      <td>Freelance Platforms</td>\n    </tr>\n    <tr>\n      <th>10</th>\n      <td>Farid</td>\n      <td>Peshawar</td>\n      <td>Civil Engineer</td>\n      <td>4</td>\n      <td>8.250</td>\n      <td>Group study, online forums, speaking with nati...</td>\n      <td>Master's</td>\n      <td>29</td>\n      <td>Sweden</td>\n      <td>Advanced</td>\n      <td>...</td>\n      <td>Engineering journals, language exchange</td>\n      <td>Pending</td>\n      <td>No</td>\n      <td>Structural Engineering</td>\n      <td>No</td>\n      <td>Urdu, English</td>\n      <td>Project Engineer</td>\n      <td>AutoCAD, Structural Analysis</td>\n      <td>Positive</td>\n      <td>Engineering Events</td>\n    </tr>\n    <tr>\n      <th>11</th>\n      <td>Aisha</td>\n      <td>Karachi</td>\n      <td>Grad Student</td>\n      <td>3</td>\n      <td>8.500</td>\n      <td>Practice, forums, tutoring</td>\n      <td>Master's</td>\n      <td>24</td>\n      <td>Canada</td>\n      <td>Advanced</td>\n      <td>...</td>\n      <td>Online courses, study guides</td>\n      <td>Under Process</td>\n      <td>No</td>\n      <td>TESOL</td>\n      <td>Yes</td>\n      <td>Urdu, English</td>\n      <td>Research Assistant</td>\n      <td>Data Analysis, Teaching</td>\n      <td>Strong</td>\n      <td>LinkedIn, Local Events</td>\n    </tr>\n    <tr>\n      <th>12</th>\n      <td>Ahmed</td>\n      <td>Lahore</td>\n      <td>IT Professional</td>\n      <td>4</td>\n      <td>7.500</td>\n      <td>Balanced schedule, time management, speaking p...</td>\n      <td>Bachelor's</td>\n      <td>29</td>\n      <td>Australia</td>\n      <td>Intermediate</td>\n      <td>...</td>\n      <td>Online forums, practice tests</td>\n      <td>Approved</td>\n      <td>Yes</td>\n      <td>PMP</td>\n      <td>No</td>\n      <td>Urdu, English</td>\n      <td>IT Consultant</td>\n      <td>Project Management, Programming</td>\n      <td>Positive</td>\n      <td>Online Communities</td>\n    </tr>\n    <tr>\n      <th>13</th>\n      <td>Fatima</td>\n      <td>Islamabad</td>\n      <td>School Teacher</td>\n      <td>2</td>\n      <td>9.000</td>\n      <td>Intensive course, online resources, mock inter...</td>\n      <td>Master's</td>\n      <td>32</td>\n      <td>New Zealand</td>\n      <td>Advanced</td>\n      <td>...</td>\n      <td>Study guides, language exchange</td>\n      <td>Under Process</td>\n      <td>No</td>\n      <td>CELTA</td>\n      <td>Yes</td>\n      <td>Urdu, English</td>\n      <td>Curriculum Developer</td>\n      <td>Lesson Planning, Educational Tech</td>\n      <td>Positive</td>\n      <td>Professional Groups</td>\n    </tr>\n    <tr>\n      <th>14</th>\n      <td>Ali</td>\n      <td>Peshawar</td>\n      <td>IT Professional</td>\n      <td>5</td>\n      <td>8.000</td>\n      <td>Focused study, workshops, peer feedback</td>\n      <td>Bachelor's</td>\n      <td>27</td>\n      <td>USA</td>\n      <td>Advanced</td>\n      <td>...</td>\n      <td>Mock exams, speaking clubs</td>\n      <td>Rejected</td>\n      <td>No</td>\n      <td>AWS Certified Solutions Architect</td>\n      <td>No</td>\n      <td>Urdu, English</td>\n      <td>Software Developer</td>\n      <td>Cloud Computing, Programming</td>\n      <td>Strong</td>\n      <td>Online Platforms</td>\n    </tr>\n    <tr>\n      <th>15</th>\n      <td>Saad</td>\n      <td>Lahore</td>\n      <td>Eng. Student</td>\n      <td>6</td>\n      <td>8.250</td>\n      <td>Consistent practice, private tutor, speaking c...</td>\n      <td>Bachelor's</td>\n      <td>22</td>\n      <td>UK</td>\n      <td>Advanced</td>\n      <td>...</td>\n      <td>Online tutorials, speaking practice</td>\n      <td>Under Process</td>\n      <td>No</td>\n      <td>IELTS Examiner</td>\n      <td>Yes</td>\n      <td>Urdu, English</td>\n      <td>Research Assistant</td>\n      <td>Lab Techniques, Data Analysis</td>\n      <td>Positive</td>\n      <td>University Events</td>\n    </tr>\n    <tr>\n      <th>16</th>\n      <td>Nida</td>\n      <td>Islamabad</td>\n      <td>Marketing Manager</td>\n      <td>3</td>\n      <td>7.875</td>\n      <td>Online courses, group study, extensive reading</td>\n      <td>Master's</td>\n      <td>30</td>\n      <td>Singapore</td>\n      <td>Intermediate</td>\n      <td>...</td>\n      <td>Podcasts, business articles</td>\n      <td>Pending</td>\n      <td>No</td>\n      <td>Digital Marketing</td>\n      <td>No</td>\n      <td>Urdu, English</td>\n      <td>Marketing Coordinator</td>\n      <td>SEO, Content Creation</td>\n      <td>Neutral</td>\n      <td>Industry Conferences</td>\n    </tr>\n    <tr>\n      <th>17</th>\n      <td>Bilal</td>\n      <td>Karachi</td>\n      <td>Finance Analyst</td>\n      <td>4</td>\n      <td>7.000</td>\n      <td>Self-study, vocabulary building, speaking prac...</td>\n      <td>Master's</td>\n      <td>28</td>\n      <td>UAE</td>\n      <td>Intermediate</td>\n      <td>...</td>\n      <td>Financial news, language exchange</td>\n      <td>Pending</td>\n      <td>No</td>\n      <td>CFA Level I</td>\n      <td>No</td>\n      <td>Urdu, English</td>\n      <td>Financial Analyst</td>\n      <td>Financial Modeling, Data Analysis</td>\n      <td>Neutral</td>\n      <td>Online Forums</td>\n    </tr>\n    <tr>\n      <th>18</th>\n      <td>Sara</td>\n      <td>Lahore</td>\n      <td>Medical Student</td>\n      <td>5</td>\n      <td>8.750</td>\n      <td>Daily practice, study groups, extensive reading</td>\n      <td>Bachelor's</td>\n      <td>23</td>\n      <td>Ireland</td>\n      <td>Advanced</td>\n      <td>...</td>\n      <td>Medical journals, language exchange</td>\n      <td>Approved</td>\n      <td>No</td>\n      <td>BLS Certification</td>\n      <td>Yes</td>\n      <td>Urdu, English</td>\n      <td>Research Assistant</td>\n      <td>Lab Techniques, Data Analysis</td>\n      <td>Positive</td>\n      <td>Medical Conferences</td>\n    </tr>\n    <tr>\n      <th>19</th>\n      <td>Imran</td>\n      <td>Islamabad</td>\n      <td>Software Engineer</td>\n      <td>3</td>\n      <td>8.500</td>\n      <td>Private tutor, mock tests, listening skill imp...</td>\n      <td>Bachelor's</td>\n      <td>26</td>\n      <td>Germany</td>\n      <td>Advanced</td>\n      <td>...</td>\n      <td>Coding platforms, language exchange</td>\n      <td>Under Process</td>\n      <td>No</td>\n      <td>ISTQB Certified Tester</td>\n      <td>Yes</td>\n      <td>Urdu, English</td>\n      <td>Software Developer</td>\n      <td>Programming, QA Testing</td>\n      <td>Positive</td>\n      <td>Coding Communities</td>\n    </tr>\n    <tr>\n      <th>20</th>\n      <td>Hina</td>\n      <td>Karachi</td>\n      <td>Journalist</td>\n      <td>6</td>\n      <td>7.500</td>\n      <td>Balanced study routine, writing practice, onli...</td>\n      <td>Master's</td>\n      <td>31</td>\n      <td>Malaysia</td>\n      <td>Intermediate</td>\n      <td>...</td>\n      <td>News articles, language exchange</td>\n      <td>Rejected</td>\n      <td>No</td>\n      <td>Journalism Certification</td>\n      <td>No</td>\n      <td>Urdu, English</td>\n      <td>Content Writer</td>\n      <td>Writing, Editing</td>\n      <td>Neutral</td>\n      <td>Freelance Platforms</td>\n    </tr>\n    <tr>\n      <th>21</th>\n      <td>Farid</td>\n      <td>Peshawar</td>\n      <td>Civil Engineer</td>\n      <td>4</td>\n      <td>8.250</td>\n      <td>Group study, online forums, speaking with nati...</td>\n      <td>Master's</td>\n      <td>29</td>\n      <td>Sweden</td>\n      <td>Advanced</td>\n      <td>...</td>\n      <td>Engineering journals, language exchange</td>\n      <td>Pending</td>\n      <td>No</td>\n      <td>Structural Engineering</td>\n      <td>No</td>\n      <td>Urdu, English</td>\n      <td>Project Engineer</td>\n      <td>AutoCAD, Structural Analysis</td>\n      <td>Positive</td>\n      <td>Engineering Events</td>\n    </tr>\n    <tr>\n      <th>22</th>\n      <td>Zara</td>\n      <td>Lahore</td>\n      <td>Graphic Designer</td>\n      <td>3</td>\n      <td>8.000</td>\n      <td>Practice tests, writing workshops, vocabulary ...</td>\n      <td>Bachelor's</td>\n      <td>25</td>\n      <td>Norway</td>\n      <td>Advanced</td>\n      <td>...</td>\n      <td>Design tutorials, language exchange</td>\n      <td>Under Process</td>\n      <td>No</td>\n      <td>Adobe Certified Expert</td>\n      <td>Yes</td>\n      <td>Urdu, English</td>\n      <td>UI/UX Designer</td>\n      <td>Adobe Creative Suite, Prototyping</td>\n      <td>Positive</td>\n      <td>Design Communities</td>\n    </tr>\n    <tr>\n      <th>23</th>\n      <td>Rashid</td>\n      <td>Islamabad</td>\n      <td>Educator</td>\n      <td>5</td>\n      <td>8.750</td>\n      <td>Structured study plan, speaking clubs, consist...</td>\n      <td>Master's</td>\n      <td>34</td>\n      <td>Japan</td>\n      <td>Advanced</td>\n      <td>...</td>\n      <td>Educational resources, language exchange</td>\n      <td>Approved</td>\n      <td>No</td>\n      <td>TEFL</td>\n      <td>Yes</td>\n      <td>Urdu, English</td>\n      <td>Curriculum Specialist</td>\n      <td>Lesson Planning, E-Learning</td>\n      <td>Positive</td>\n      <td>Educational Conferences</td>\n    </tr>\n    <tr>\n      <th>24</th>\n      <td>Sana</td>\n      <td>Peshawar</td>\n      <td>Environmentalist</td>\n      <td>4</td>\n      <td>9.000</td>\n      <td>Intensive speaking practice, online resources,...</td>\n      <td>Bachelor's</td>\n      <td>28</td>\n      <td>Netherlands</td>\n      <td>Advanced</td>\n      <td>...</td>\n      <td>Environmental publications, language exchange</td>\n      <td>Under Process</td>\n      <td>No</td>\n      <td>Sustainability Cert.</td>\n      <td>Yes</td>\n      <td>Urdu, English</td>\n      <td>Environmental Researcher</td>\n      <td>Data Analysis, Conservation</td>\n      <td>Positive</td>\n      <td>Environmental Events</td>\n    </tr>\n    <tr>\n      <th>25</th>\n      <td>Hasan</td>\n      <td>Karachi</td>\n      <td>Architect</td>\n      <td>3</td>\n      <td>8.250</td>\n      <td>Vocabulary building, daily practice, speaking ...</td>\n      <td>Master's</td>\n      <td>30</td>\n      <td>UAE</td>\n      <td>Advanced</td>\n      <td>...</td>\n      <td>Architectural tutorials, language exchange</td>\n      <td>Approved</td>\n      <td>No</td>\n      <td>LEED Green Associate</td>\n      <td>Yes</td>\n      <td>Urdu, English</td>\n      <td>Architectural Designer</td>\n      <td>AutoCAD, 3D Modeling</td>\n      <td>Positive</td>\n      <td>Architecture Forums</td>\n    </tr>\n    <tr>\n      <th>26</th>\n      <td>Zainab</td>\n      <td>Lahore</td>\n      <td>HR Specialist</td>\n      <td>2</td>\n      <td>7.500</td>\n      <td>Self-paced study, online forums, speaking with...</td>\n      <td>Bachelor's</td>\n      <td>26</td>\n      <td>Malaysia</td>\n      <td>Intermediate</td>\n      <td>...</td>\n      <td>HR publications, language exchange</td>\n      <td>Pending</td>\n      <td>No</td>\n      <td>SHRM-CP</td>\n      <td>No</td>\n      <td>Urdu, English</td>\n      <td>HR Consultant</td>\n      <td>Employee Relations, Recruitment</td>\n      <td>Neutral</td>\n      <td>HR Networking Events</td>\n    </tr>\n  </tbody>\n</table>\n<p>27 rows × 23 columns</p>\n</div>"
     },
     "execution_count": 24,
     "metadata": {},
     "output_type": "execute_result"
    }
   ],
   "source": [
    "df"
   ],
   "metadata": {
    "collapsed": false,
    "ExecuteTime": {
     "end_time": "2024-01-05T20:01:27.535798Z",
     "start_time": "2024-01-05T20:01:27.531755Z"
    }
   },
   "id": "3369eab0b9a106b4",
   "execution_count": 24
  },
  {
   "cell_type": "code",
   "outputs": [
    {
     "data": {
      "text/plain": "   Candidate   Location         Profession  Study Duration (months)  \\\n0      Aisha    Karachi       Grad Student                        3   \n1      Ahmed     Lahore    IT Professional                        4   \n2     Fatima  Islamabad     School Teacher                        2   \n3        Ali   Peshawar    IT Professional                        5   \n4       Saad     Lahore       Eng. Student                        6   \n5       Nida  Islamabad  Marketing Manager                        3   \n6      Bilal    Karachi    Finance Analyst                        4   \n7       Sara     Lahore    Medical Student                        5   \n8      Imran  Islamabad  Software Engineer                        3   \n9       Hina    Karachi         Journalist                        6   \n10     Farid   Peshawar     Civil Engineer                        4   \n11     Aisha    Karachi       Grad Student                        3   \n12     Ahmed     Lahore    IT Professional                        4   \n13    Fatima  Islamabad     School Teacher                        2   \n14       Ali   Peshawar    IT Professional                        5   \n15      Saad     Lahore       Eng. Student                        6   \n16      Nida  Islamabad  Marketing Manager                        3   \n17     Bilal    Karachi    Finance Analyst                        4   \n18      Sara     Lahore    Medical Student                        5   \n19     Imran  Islamabad  Software Engineer                        3   \n20      Hina    Karachi         Journalist                        6   \n21     Farid   Peshawar     Civil Engineer                        4   \n22      Zara     Lahore   Graphic Designer                        3   \n23    Rashid  Islamabad           Educator                        5   \n24      Sana   Peshawar   Environmentalist                        4   \n25     Hasan    Karachi          Architect                        3   \n26    Zainab     Lahore      HR Specialist                        2   \n\n    IELTS Score (Overall)             Key Strategies 0     Key Strategies 1  \\\n0                    8.50                     Practice               forums   \n1                    7.50            Balanced schedule      time management   \n2                    9.00             Intensive course     online resources   \n3                    8.00                Focused study            workshops   \n4                    8.25          Consistent practice        private tutor   \n5                    7.88               Online courses          group study   \n6                    7.00                   Self-study  vocabulary building   \n7                    8.75               Daily practice         study groups   \n8                    8.50                Private tutor           mock tests   \n9                    7.50       Balanced study routine     writing practice   \n10                   8.25                  Group study        online forums   \n11                   8.50                     Practice               forums   \n12                   7.50            Balanced schedule      time management   \n13                   9.00             Intensive course     online resources   \n14                   8.00                Focused study            workshops   \n15                   8.25          Consistent practice        private tutor   \n16                   7.88               Online courses          group study   \n17                   7.00                   Self-study  vocabulary building   \n18                   8.75               Daily practice         study groups   \n19                   8.50                Private tutor           mock tests   \n20                   7.50       Balanced study routine     writing practice   \n21                   8.25                  Group study        online forums   \n22                   8.00               Practice tests    writing workshops   \n23                   8.75        Structured study plan       speaking clubs   \n24                   9.00  Intensive speaking practice     online resources   \n25                   8.25          Vocabulary building       daily practice   \n26                   7.50             Self-paced study        online forums   \n\n                 Key Strategies 2 Education Level  Age  ...  \\\n0                        tutoring        Master's   24  ...   \n1               speaking practice      Bachelor's   29  ...   \n2                 mock interviews        Master's   32  ...   \n3                   peer feedback      Bachelor's   27  ...   \n4                  speaking clubs      Bachelor's   22  ...   \n5               extensive reading        Master's   30  ...   \n6               speaking practice        Master's   28  ...   \n7               extensive reading      Bachelor's   23  ...   \n8     listening skill improvement      Bachelor's   26  ...   \n9                online resources        Master's   31  ...   \n10  speaking with native speakers        Master's   29  ...   \n11                       tutoring        Master's   24  ...   \n12              speaking practice      Bachelor's   29  ...   \n13                mock interviews        Master's   32  ...   \n14                  peer feedback      Bachelor's   27  ...   \n15                 speaking clubs      Bachelor's   22  ...   \n16              extensive reading        Master's   30  ...   \n17              speaking practice        Master's   28  ...   \n18              extensive reading      Bachelor's   23  ...   \n19    listening skill improvement      Bachelor's   26  ...   \n20               online resources        Master's   31  ...   \n21  speaking with native speakers        Master's   29  ...   \n22         vocabulary enhancement      Bachelor's   25  ...   \n23            consistent practice        Master's   34  ...   \n24                     mock tests      Bachelor's   28  ...   \n25                 speaking clubs        Master's   30  ...   \n26  speaking with native speakers      Bachelor's   26  ...   \n\n   Preferred Learning Resources 1 Application Status  Job Offer Received  \\\n0                    study guides      Under Process                  No   \n1                  practice tests           Approved                 Yes   \n2               language exchange      Under Process                  No   \n3                  speaking clubs           Rejected                  No   \n4               speaking practice      Under Process                  No   \n5               business articles            Pending                  No   \n6               language exchange            Pending                  No   \n7               language exchange           Approved                  No   \n8               language exchange      Under Process                  No   \n9               language exchange           Rejected                  No   \n10              language exchange            Pending                  No   \n11                   study guides      Under Process                  No   \n12                 practice tests           Approved                 Yes   \n13              language exchange      Under Process                  No   \n14                 speaking clubs           Rejected                  No   \n15              speaking practice      Under Process                  No   \n16              business articles            Pending                  No   \n17              language exchange            Pending                  No   \n18              language exchange           Approved                  No   \n19              language exchange      Under Process                  No   \n20              language exchange           Rejected                  No   \n21              language exchange            Pending                  No   \n22              language exchange      Under Process                  No   \n23              language exchange           Approved                  No   \n24              language exchange      Under Process                  No   \n25              language exchange           Approved                  No   \n26              language exchange            Pending                  No   \n\n            Additional Certifications Volunteer Experience Language Fluency  \\\n0                               TESOL                  Yes    Urdu, English   \n1                                 PMP                   No    Urdu, English   \n2                               CELTA                  Yes    Urdu, English   \n3   AWS Certified Solutions Architect                   No    Urdu, English   \n4                      IELTS Examiner                  Yes    Urdu, English   \n5                   Digital Marketing                   No    Urdu, English   \n6                         CFA Level I                   No    Urdu, English   \n7                   BLS Certification                  Yes    Urdu, English   \n8              ISTQB Certified Tester                  Yes    Urdu, English   \n9            Journalism Certification                   No    Urdu, English   \n10             Structural Engineering                   No    Urdu, English   \n11                              TESOL                  Yes    Urdu, English   \n12                                PMP                   No    Urdu, English   \n13                              CELTA                  Yes    Urdu, English   \n14  AWS Certified Solutions Architect                   No    Urdu, English   \n15                     IELTS Examiner                  Yes    Urdu, English   \n16                  Digital Marketing                   No    Urdu, English   \n17                        CFA Level I                   No    Urdu, English   \n18                  BLS Certification                  Yes    Urdu, English   \n19             ISTQB Certified Tester                  Yes    Urdu, English   \n20           Journalism Certification                   No    Urdu, English   \n21             Structural Engineering                   No    Urdu, English   \n22             Adobe Certified Expert                  Yes    Urdu, English   \n23                               TEFL                  Yes    Urdu, English   \n24               Sustainability Cert.                  Yes    Urdu, English   \n25               LEED Green Associate                  Yes    Urdu, English   \n26                            SHRM-CP                   No    Urdu, English   \n\n       Internship Experience                    Relevant Skills  \\\n0         Research Assistant            Data Analysis, Teaching   \n1              IT Consultant    Project Management, Programming   \n2       Curriculum Developer  Lesson Planning, Educational Tech   \n3         Software Developer       Cloud Computing, Programming   \n4         Research Assistant      Lab Techniques, Data Analysis   \n5      Marketing Coordinator              SEO, Content Creation   \n6          Financial Analyst  Financial Modeling, Data Analysis   \n7         Research Assistant      Lab Techniques, Data Analysis   \n8         Software Developer            Programming, QA Testing   \n9             Content Writer                   Writing, Editing   \n10          Project Engineer       AutoCAD, Structural Analysis   \n11        Research Assistant            Data Analysis, Teaching   \n12             IT Consultant    Project Management, Programming   \n13      Curriculum Developer  Lesson Planning, Educational Tech   \n14        Software Developer       Cloud Computing, Programming   \n15        Research Assistant      Lab Techniques, Data Analysis   \n16     Marketing Coordinator              SEO, Content Creation   \n17         Financial Analyst  Financial Modeling, Data Analysis   \n18        Research Assistant      Lab Techniques, Data Analysis   \n19        Software Developer            Programming, QA Testing   \n20            Content Writer                   Writing, Editing   \n21          Project Engineer       AutoCAD, Structural Analysis   \n22            UI/UX Designer  Adobe Creative Suite, Prototyping   \n23     Curriculum Specialist        Lesson Planning, E-Learning   \n24  Environmental Researcher        Data Analysis, Conservation   \n25    Architectural Designer               AutoCAD, 3D Modeling   \n26             HR Consultant    Employee Relations, Recruitment   \n\n   Recommendations       Networking Efforts  \n0           Strong   LinkedIn, Local Events  \n1         Positive       Online Communities  \n2         Positive      Professional Groups  \n3           Strong         Online Platforms  \n4         Positive        University Events  \n5          Neutral     Industry Conferences  \n6          Neutral            Online Forums  \n7         Positive      Medical Conferences  \n8         Positive       Coding Communities  \n9          Neutral      Freelance Platforms  \n10        Positive       Engineering Events  \n11          Strong   LinkedIn, Local Events  \n12        Positive       Online Communities  \n13        Positive      Professional Groups  \n14          Strong         Online Platforms  \n15        Positive        University Events  \n16         Neutral     Industry Conferences  \n17         Neutral            Online Forums  \n18        Positive      Medical Conferences  \n19        Positive       Coding Communities  \n20         Neutral      Freelance Platforms  \n21        Positive       Engineering Events  \n22        Positive       Design Communities  \n23        Positive  Educational Conferences  \n24        Positive     Environmental Events  \n25        Positive      Architecture Forums  \n26         Neutral     HR Networking Events  \n\n[27 rows x 26 columns]",
      "text/html": "<div>\n<style scoped>\n    .dataframe tbody tr th:only-of-type {\n        vertical-align: middle;\n    }\n\n    .dataframe tbody tr th {\n        vertical-align: top;\n    }\n\n    .dataframe thead th {\n        text-align: right;\n    }\n</style>\n<table border=\"1\" class=\"dataframe\">\n  <thead>\n    <tr style=\"text-align: right;\">\n      <th></th>\n      <th>Candidate</th>\n      <th>Location</th>\n      <th>Profession</th>\n      <th>Study Duration (months)</th>\n      <th>IELTS Score (Overall)</th>\n      <th>Key Strategies 0</th>\n      <th>Key Strategies 1</th>\n      <th>Key Strategies 2</th>\n      <th>Education Level</th>\n      <th>Age</th>\n      <th>...</th>\n      <th>Preferred Learning Resources 1</th>\n      <th>Application Status</th>\n      <th>Job Offer Received</th>\n      <th>Additional Certifications</th>\n      <th>Volunteer Experience</th>\n      <th>Language Fluency</th>\n      <th>Internship Experience</th>\n      <th>Relevant Skills</th>\n      <th>Recommendations</th>\n      <th>Networking Efforts</th>\n    </tr>\n  </thead>\n  <tbody>\n    <tr>\n      <th>0</th>\n      <td>Aisha</td>\n      <td>Karachi</td>\n      <td>Grad Student</td>\n      <td>3</td>\n      <td>8.50</td>\n      <td>Practice</td>\n      <td>forums</td>\n      <td>tutoring</td>\n      <td>Master's</td>\n      <td>24</td>\n      <td>...</td>\n      <td>study guides</td>\n      <td>Under Process</td>\n      <td>No</td>\n      <td>TESOL</td>\n      <td>Yes</td>\n      <td>Urdu, English</td>\n      <td>Research Assistant</td>\n      <td>Data Analysis, Teaching</td>\n      <td>Strong</td>\n      <td>LinkedIn, Local Events</td>\n    </tr>\n    <tr>\n      <th>1</th>\n      <td>Ahmed</td>\n      <td>Lahore</td>\n      <td>IT Professional</td>\n      <td>4</td>\n      <td>7.50</td>\n      <td>Balanced schedule</td>\n      <td>time management</td>\n      <td>speaking practice</td>\n      <td>Bachelor's</td>\n      <td>29</td>\n      <td>...</td>\n      <td>practice tests</td>\n      <td>Approved</td>\n      <td>Yes</td>\n      <td>PMP</td>\n      <td>No</td>\n      <td>Urdu, English</td>\n      <td>IT Consultant</td>\n      <td>Project Management, Programming</td>\n      <td>Positive</td>\n      <td>Online Communities</td>\n    </tr>\n    <tr>\n      <th>2</th>\n      <td>Fatima</td>\n      <td>Islamabad</td>\n      <td>School Teacher</td>\n      <td>2</td>\n      <td>9.00</td>\n      <td>Intensive course</td>\n      <td>online resources</td>\n      <td>mock interviews</td>\n      <td>Master's</td>\n      <td>32</td>\n      <td>...</td>\n      <td>language exchange</td>\n      <td>Under Process</td>\n      <td>No</td>\n      <td>CELTA</td>\n      <td>Yes</td>\n      <td>Urdu, English</td>\n      <td>Curriculum Developer</td>\n      <td>Lesson Planning, Educational Tech</td>\n      <td>Positive</td>\n      <td>Professional Groups</td>\n    </tr>\n    <tr>\n      <th>3</th>\n      <td>Ali</td>\n      <td>Peshawar</td>\n      <td>IT Professional</td>\n      <td>5</td>\n      <td>8.00</td>\n      <td>Focused study</td>\n      <td>workshops</td>\n      <td>peer feedback</td>\n      <td>Bachelor's</td>\n      <td>27</td>\n      <td>...</td>\n      <td>speaking clubs</td>\n      <td>Rejected</td>\n      <td>No</td>\n      <td>AWS Certified Solutions Architect</td>\n      <td>No</td>\n      <td>Urdu, English</td>\n      <td>Software Developer</td>\n      <td>Cloud Computing, Programming</td>\n      <td>Strong</td>\n      <td>Online Platforms</td>\n    </tr>\n    <tr>\n      <th>4</th>\n      <td>Saad</td>\n      <td>Lahore</td>\n      <td>Eng. Student</td>\n      <td>6</td>\n      <td>8.25</td>\n      <td>Consistent practice</td>\n      <td>private tutor</td>\n      <td>speaking clubs</td>\n      <td>Bachelor's</td>\n      <td>22</td>\n      <td>...</td>\n      <td>speaking practice</td>\n      <td>Under Process</td>\n      <td>No</td>\n      <td>IELTS Examiner</td>\n      <td>Yes</td>\n      <td>Urdu, English</td>\n      <td>Research Assistant</td>\n      <td>Lab Techniques, Data Analysis</td>\n      <td>Positive</td>\n      <td>University Events</td>\n    </tr>\n    <tr>\n      <th>5</th>\n      <td>Nida</td>\n      <td>Islamabad</td>\n      <td>Marketing Manager</td>\n      <td>3</td>\n      <td>7.88</td>\n      <td>Online courses</td>\n      <td>group study</td>\n      <td>extensive reading</td>\n      <td>Master's</td>\n      <td>30</td>\n      <td>...</td>\n      <td>business articles</td>\n      <td>Pending</td>\n      <td>No</td>\n      <td>Digital Marketing</td>\n      <td>No</td>\n      <td>Urdu, English</td>\n      <td>Marketing Coordinator</td>\n      <td>SEO, Content Creation</td>\n      <td>Neutral</td>\n      <td>Industry Conferences</td>\n    </tr>\n    <tr>\n      <th>6</th>\n      <td>Bilal</td>\n      <td>Karachi</td>\n      <td>Finance Analyst</td>\n      <td>4</td>\n      <td>7.00</td>\n      <td>Self-study</td>\n      <td>vocabulary building</td>\n      <td>speaking practice</td>\n      <td>Master's</td>\n      <td>28</td>\n      <td>...</td>\n      <td>language exchange</td>\n      <td>Pending</td>\n      <td>No</td>\n      <td>CFA Level I</td>\n      <td>No</td>\n      <td>Urdu, English</td>\n      <td>Financial Analyst</td>\n      <td>Financial Modeling, Data Analysis</td>\n      <td>Neutral</td>\n      <td>Online Forums</td>\n    </tr>\n    <tr>\n      <th>7</th>\n      <td>Sara</td>\n      <td>Lahore</td>\n      <td>Medical Student</td>\n      <td>5</td>\n      <td>8.75</td>\n      <td>Daily practice</td>\n      <td>study groups</td>\n      <td>extensive reading</td>\n      <td>Bachelor's</td>\n      <td>23</td>\n      <td>...</td>\n      <td>language exchange</td>\n      <td>Approved</td>\n      <td>No</td>\n      <td>BLS Certification</td>\n      <td>Yes</td>\n      <td>Urdu, English</td>\n      <td>Research Assistant</td>\n      <td>Lab Techniques, Data Analysis</td>\n      <td>Positive</td>\n      <td>Medical Conferences</td>\n    </tr>\n    <tr>\n      <th>8</th>\n      <td>Imran</td>\n      <td>Islamabad</td>\n      <td>Software Engineer</td>\n      <td>3</td>\n      <td>8.50</td>\n      <td>Private tutor</td>\n      <td>mock tests</td>\n      <td>listening skill improvement</td>\n      <td>Bachelor's</td>\n      <td>26</td>\n      <td>...</td>\n      <td>language exchange</td>\n      <td>Under Process</td>\n      <td>No</td>\n      <td>ISTQB Certified Tester</td>\n      <td>Yes</td>\n      <td>Urdu, English</td>\n      <td>Software Developer</td>\n      <td>Programming, QA Testing</td>\n      <td>Positive</td>\n      <td>Coding Communities</td>\n    </tr>\n    <tr>\n      <th>9</th>\n      <td>Hina</td>\n      <td>Karachi</td>\n      <td>Journalist</td>\n      <td>6</td>\n      <td>7.50</td>\n      <td>Balanced study routine</td>\n      <td>writing practice</td>\n      <td>online resources</td>\n      <td>Master's</td>\n      <td>31</td>\n      <td>...</td>\n      <td>language exchange</td>\n      <td>Rejected</td>\n      <td>No</td>\n      <td>Journalism Certification</td>\n      <td>No</td>\n      <td>Urdu, English</td>\n      <td>Content Writer</td>\n      <td>Writing, Editing</td>\n      <td>Neutral</td>\n      <td>Freelance Platforms</td>\n    </tr>\n    <tr>\n      <th>10</th>\n      <td>Farid</td>\n      <td>Peshawar</td>\n      <td>Civil Engineer</td>\n      <td>4</td>\n      <td>8.25</td>\n      <td>Group study</td>\n      <td>online forums</td>\n      <td>speaking with native speakers</td>\n      <td>Master's</td>\n      <td>29</td>\n      <td>...</td>\n      <td>language exchange</td>\n      <td>Pending</td>\n      <td>No</td>\n      <td>Structural Engineering</td>\n      <td>No</td>\n      <td>Urdu, English</td>\n      <td>Project Engineer</td>\n      <td>AutoCAD, Structural Analysis</td>\n      <td>Positive</td>\n      <td>Engineering Events</td>\n    </tr>\n    <tr>\n      <th>11</th>\n      <td>Aisha</td>\n      <td>Karachi</td>\n      <td>Grad Student</td>\n      <td>3</td>\n      <td>8.50</td>\n      <td>Practice</td>\n      <td>forums</td>\n      <td>tutoring</td>\n      <td>Master's</td>\n      <td>24</td>\n      <td>...</td>\n      <td>study guides</td>\n      <td>Under Process</td>\n      <td>No</td>\n      <td>TESOL</td>\n      <td>Yes</td>\n      <td>Urdu, English</td>\n      <td>Research Assistant</td>\n      <td>Data Analysis, Teaching</td>\n      <td>Strong</td>\n      <td>LinkedIn, Local Events</td>\n    </tr>\n    <tr>\n      <th>12</th>\n      <td>Ahmed</td>\n      <td>Lahore</td>\n      <td>IT Professional</td>\n      <td>4</td>\n      <td>7.50</td>\n      <td>Balanced schedule</td>\n      <td>time management</td>\n      <td>speaking practice</td>\n      <td>Bachelor's</td>\n      <td>29</td>\n      <td>...</td>\n      <td>practice tests</td>\n      <td>Approved</td>\n      <td>Yes</td>\n      <td>PMP</td>\n      <td>No</td>\n      <td>Urdu, English</td>\n      <td>IT Consultant</td>\n      <td>Project Management, Programming</td>\n      <td>Positive</td>\n      <td>Online Communities</td>\n    </tr>\n    <tr>\n      <th>13</th>\n      <td>Fatima</td>\n      <td>Islamabad</td>\n      <td>School Teacher</td>\n      <td>2</td>\n      <td>9.00</td>\n      <td>Intensive course</td>\n      <td>online resources</td>\n      <td>mock interviews</td>\n      <td>Master's</td>\n      <td>32</td>\n      <td>...</td>\n      <td>language exchange</td>\n      <td>Under Process</td>\n      <td>No</td>\n      <td>CELTA</td>\n      <td>Yes</td>\n      <td>Urdu, English</td>\n      <td>Curriculum Developer</td>\n      <td>Lesson Planning, Educational Tech</td>\n      <td>Positive</td>\n      <td>Professional Groups</td>\n    </tr>\n    <tr>\n      <th>14</th>\n      <td>Ali</td>\n      <td>Peshawar</td>\n      <td>IT Professional</td>\n      <td>5</td>\n      <td>8.00</td>\n      <td>Focused study</td>\n      <td>workshops</td>\n      <td>peer feedback</td>\n      <td>Bachelor's</td>\n      <td>27</td>\n      <td>...</td>\n      <td>speaking clubs</td>\n      <td>Rejected</td>\n      <td>No</td>\n      <td>AWS Certified Solutions Architect</td>\n      <td>No</td>\n      <td>Urdu, English</td>\n      <td>Software Developer</td>\n      <td>Cloud Computing, Programming</td>\n      <td>Strong</td>\n      <td>Online Platforms</td>\n    </tr>\n    <tr>\n      <th>15</th>\n      <td>Saad</td>\n      <td>Lahore</td>\n      <td>Eng. Student</td>\n      <td>6</td>\n      <td>8.25</td>\n      <td>Consistent practice</td>\n      <td>private tutor</td>\n      <td>speaking clubs</td>\n      <td>Bachelor's</td>\n      <td>22</td>\n      <td>...</td>\n      <td>speaking practice</td>\n      <td>Under Process</td>\n      <td>No</td>\n      <td>IELTS Examiner</td>\n      <td>Yes</td>\n      <td>Urdu, English</td>\n      <td>Research Assistant</td>\n      <td>Lab Techniques, Data Analysis</td>\n      <td>Positive</td>\n      <td>University Events</td>\n    </tr>\n    <tr>\n      <th>16</th>\n      <td>Nida</td>\n      <td>Islamabad</td>\n      <td>Marketing Manager</td>\n      <td>3</td>\n      <td>7.88</td>\n      <td>Online courses</td>\n      <td>group study</td>\n      <td>extensive reading</td>\n      <td>Master's</td>\n      <td>30</td>\n      <td>...</td>\n      <td>business articles</td>\n      <td>Pending</td>\n      <td>No</td>\n      <td>Digital Marketing</td>\n      <td>No</td>\n      <td>Urdu, English</td>\n      <td>Marketing Coordinator</td>\n      <td>SEO, Content Creation</td>\n      <td>Neutral</td>\n      <td>Industry Conferences</td>\n    </tr>\n    <tr>\n      <th>17</th>\n      <td>Bilal</td>\n      <td>Karachi</td>\n      <td>Finance Analyst</td>\n      <td>4</td>\n      <td>7.00</td>\n      <td>Self-study</td>\n      <td>vocabulary building</td>\n      <td>speaking practice</td>\n      <td>Master's</td>\n      <td>28</td>\n      <td>...</td>\n      <td>language exchange</td>\n      <td>Pending</td>\n      <td>No</td>\n      <td>CFA Level I</td>\n      <td>No</td>\n      <td>Urdu, English</td>\n      <td>Financial Analyst</td>\n      <td>Financial Modeling, Data Analysis</td>\n      <td>Neutral</td>\n      <td>Online Forums</td>\n    </tr>\n    <tr>\n      <th>18</th>\n      <td>Sara</td>\n      <td>Lahore</td>\n      <td>Medical Student</td>\n      <td>5</td>\n      <td>8.75</td>\n      <td>Daily practice</td>\n      <td>study groups</td>\n      <td>extensive reading</td>\n      <td>Bachelor's</td>\n      <td>23</td>\n      <td>...</td>\n      <td>language exchange</td>\n      <td>Approved</td>\n      <td>No</td>\n      <td>BLS Certification</td>\n      <td>Yes</td>\n      <td>Urdu, English</td>\n      <td>Research Assistant</td>\n      <td>Lab Techniques, Data Analysis</td>\n      <td>Positive</td>\n      <td>Medical Conferences</td>\n    </tr>\n    <tr>\n      <th>19</th>\n      <td>Imran</td>\n      <td>Islamabad</td>\n      <td>Software Engineer</td>\n      <td>3</td>\n      <td>8.50</td>\n      <td>Private tutor</td>\n      <td>mock tests</td>\n      <td>listening skill improvement</td>\n      <td>Bachelor's</td>\n      <td>26</td>\n      <td>...</td>\n      <td>language exchange</td>\n      <td>Under Process</td>\n      <td>No</td>\n      <td>ISTQB Certified Tester</td>\n      <td>Yes</td>\n      <td>Urdu, English</td>\n      <td>Software Developer</td>\n      <td>Programming, QA Testing</td>\n      <td>Positive</td>\n      <td>Coding Communities</td>\n    </tr>\n    <tr>\n      <th>20</th>\n      <td>Hina</td>\n      <td>Karachi</td>\n      <td>Journalist</td>\n      <td>6</td>\n      <td>7.50</td>\n      <td>Balanced study routine</td>\n      <td>writing practice</td>\n      <td>online resources</td>\n      <td>Master's</td>\n      <td>31</td>\n      <td>...</td>\n      <td>language exchange</td>\n      <td>Rejected</td>\n      <td>No</td>\n      <td>Journalism Certification</td>\n      <td>No</td>\n      <td>Urdu, English</td>\n      <td>Content Writer</td>\n      <td>Writing, Editing</td>\n      <td>Neutral</td>\n      <td>Freelance Platforms</td>\n    </tr>\n    <tr>\n      <th>21</th>\n      <td>Farid</td>\n      <td>Peshawar</td>\n      <td>Civil Engineer</td>\n      <td>4</td>\n      <td>8.25</td>\n      <td>Group study</td>\n      <td>online forums</td>\n      <td>speaking with native speakers</td>\n      <td>Master's</td>\n      <td>29</td>\n      <td>...</td>\n      <td>language exchange</td>\n      <td>Pending</td>\n      <td>No</td>\n      <td>Structural Engineering</td>\n      <td>No</td>\n      <td>Urdu, English</td>\n      <td>Project Engineer</td>\n      <td>AutoCAD, Structural Analysis</td>\n      <td>Positive</td>\n      <td>Engineering Events</td>\n    </tr>\n    <tr>\n      <th>22</th>\n      <td>Zara</td>\n      <td>Lahore</td>\n      <td>Graphic Designer</td>\n      <td>3</td>\n      <td>8.00</td>\n      <td>Practice tests</td>\n      <td>writing workshops</td>\n      <td>vocabulary enhancement</td>\n      <td>Bachelor's</td>\n      <td>25</td>\n      <td>...</td>\n      <td>language exchange</td>\n      <td>Under Process</td>\n      <td>No</td>\n      <td>Adobe Certified Expert</td>\n      <td>Yes</td>\n      <td>Urdu, English</td>\n      <td>UI/UX Designer</td>\n      <td>Adobe Creative Suite, Prototyping</td>\n      <td>Positive</td>\n      <td>Design Communities</td>\n    </tr>\n    <tr>\n      <th>23</th>\n      <td>Rashid</td>\n      <td>Islamabad</td>\n      <td>Educator</td>\n      <td>5</td>\n      <td>8.75</td>\n      <td>Structured study plan</td>\n      <td>speaking clubs</td>\n      <td>consistent practice</td>\n      <td>Master's</td>\n      <td>34</td>\n      <td>...</td>\n      <td>language exchange</td>\n      <td>Approved</td>\n      <td>No</td>\n      <td>TEFL</td>\n      <td>Yes</td>\n      <td>Urdu, English</td>\n      <td>Curriculum Specialist</td>\n      <td>Lesson Planning, E-Learning</td>\n      <td>Positive</td>\n      <td>Educational Conferences</td>\n    </tr>\n    <tr>\n      <th>24</th>\n      <td>Sana</td>\n      <td>Peshawar</td>\n      <td>Environmentalist</td>\n      <td>4</td>\n      <td>9.00</td>\n      <td>Intensive speaking practice</td>\n      <td>online resources</td>\n      <td>mock tests</td>\n      <td>Bachelor's</td>\n      <td>28</td>\n      <td>...</td>\n      <td>language exchange</td>\n      <td>Under Process</td>\n      <td>No</td>\n      <td>Sustainability Cert.</td>\n      <td>Yes</td>\n      <td>Urdu, English</td>\n      <td>Environmental Researcher</td>\n      <td>Data Analysis, Conservation</td>\n      <td>Positive</td>\n      <td>Environmental Events</td>\n    </tr>\n    <tr>\n      <th>25</th>\n      <td>Hasan</td>\n      <td>Karachi</td>\n      <td>Architect</td>\n      <td>3</td>\n      <td>8.25</td>\n      <td>Vocabulary building</td>\n      <td>daily practice</td>\n      <td>speaking clubs</td>\n      <td>Master's</td>\n      <td>30</td>\n      <td>...</td>\n      <td>language exchange</td>\n      <td>Approved</td>\n      <td>No</td>\n      <td>LEED Green Associate</td>\n      <td>Yes</td>\n      <td>Urdu, English</td>\n      <td>Architectural Designer</td>\n      <td>AutoCAD, 3D Modeling</td>\n      <td>Positive</td>\n      <td>Architecture Forums</td>\n    </tr>\n    <tr>\n      <th>26</th>\n      <td>Zainab</td>\n      <td>Lahore</td>\n      <td>HR Specialist</td>\n      <td>2</td>\n      <td>7.50</td>\n      <td>Self-paced study</td>\n      <td>online forums</td>\n      <td>speaking with native speakers</td>\n      <td>Bachelor's</td>\n      <td>26</td>\n      <td>...</td>\n      <td>language exchange</td>\n      <td>Pending</td>\n      <td>No</td>\n      <td>SHRM-CP</td>\n      <td>No</td>\n      <td>Urdu, English</td>\n      <td>HR Consultant</td>\n      <td>Employee Relations, Recruitment</td>\n      <td>Neutral</td>\n      <td>HR Networking Events</td>\n    </tr>\n  </tbody>\n</table>\n<p>27 rows × 26 columns</p>\n</div>"
     },
     "execution_count": 25,
     "metadata": {},
     "output_type": "execute_result"
    }
   ],
   "source": [
    "multiple_features = [\"Key Strategies\",\"Preferred Learning Resources\"]\n",
    "df_1 = df.copy()\n",
    "\n",
    "col = df.columns.values\n",
    "new_col = []\n",
    "num_col = []\n",
    "start = 0\n",
    "for i in multiple_features:\n",
    "    data = df[i].copy()\n",
    "    d = np.array(list(map(lambda x: [i.strip() for i in x.split(\",\")],data)))\n",
    "    colu = []\n",
    "    for j in range(d.shape[1]):\n",
    "        df_1[i+\" \"+str(j)] = d[:,j]\n",
    "        colu.append(i+\" \"+str(j))\n",
    "    df_1 = df_1.drop(columns=i)\n",
    "    stop = np.where(col==i)[0][0]\n",
    "    new_col += col[start:stop].tolist()\n",
    "    new_col += colu\n",
    "    num_col += colu\n",
    "    start = stop + 1\n",
    "new_col += col[start:len(col)].tolist()\n",
    "df_2 = df_1[new_col].copy()\n",
    "df_2[\"IELTS Score (Overall)\"] = df_2[\"IELTS Score (Overall)\"].round(2)\n",
    "df_2"
   ],
   "metadata": {
    "collapsed": false,
    "ExecuteTime": {
     "end_time": "2024-01-05T20:01:27.877394Z",
     "start_time": "2024-01-05T20:01:27.865780Z"
    }
   },
   "id": "3275dc24a28c2507",
   "execution_count": 25
  },
  {
   "cell_type": "code",
   "outputs": [],
   "source": [
    "df_3 = df_2.copy()\n",
    "for i in num_col:\n",
    "    df_3[i] = df_2[i].str.lower()"
   ],
   "metadata": {
    "collapsed": false,
    "ExecuteTime": {
     "end_time": "2024-01-05T20:01:28.467232Z",
     "start_time": "2024-01-05T20:01:28.463232Z"
    }
   },
   "id": "3911da4b9dedc012",
   "execution_count": 26
  },
  {
   "cell_type": "code",
   "outputs": [],
   "source": [
    "key_strategies = []\n",
    "\n",
    "key_strategies += df_3[\"Key Strategies 0\"].unique().tolist()\n",
    "key_strategies += df_3[\"Key Strategies 1\"].unique().tolist()\n",
    "key_strategies += df_3[\"Key Strategies 2\"].unique().tolist()\n",
    "\n",
    "key_strategies = np.sort(pd.Series(key_strategies).unique()).tolist()\n",
    "\n",
    "\n",
    "preferred_learning = []\n",
    "\n",
    "preferred_learning += df_3[\"Preferred Learning Resources 0\"].unique().tolist()\n",
    "preferred_learning += df_3[\"Preferred Learning Resources 1\"].unique().tolist()\n",
    "\n",
    "preferred_learning = np.sort(pd.Series(preferred_learning).unique()).tolist()\n"
   ],
   "metadata": {
    "collapsed": false,
    "ExecuteTime": {
     "end_time": "2024-01-05T20:01:28.940813Z",
     "start_time": "2024-01-05T20:01:28.936537Z"
    }
   },
   "id": "ae75e3a49204adae",
   "execution_count": 27
  },
  {
   "cell_type": "code",
   "outputs": [],
   "source": [
    "tfidf = TfidfVectorizer()\n",
    "ppp = tfidf.fit_transform(key_strategies)\n",
    "qqq = cosine_similarity(ppp).round(2)\n",
    "dic_list = []\n",
    "j = 0\n",
    "i = 0\n",
    "ctr = 0\n",
    "for i in range(qqq.shape[0]):\n",
    "    n = []\n",
    "    dic = {}\n",
    "    for j in range(i+1,len(qqq[i])):\n",
    "        if qqq[i,j] > 0 and qqq[i,j] < 1:\n",
    "            n.append(j)\n",
    "    if len(n)>0:\n",
    "        dic[key_strategies[n[0]]] = key_strategies[i]\n",
    "    else:\n",
    "        dic[key_strategies[i]] = key_strategies[i]\n",
    "    dic_list.append(dic)\n",
    "\n",
    "df_4 = df_3.copy()\n",
    "for i in dic_list[::-1]:\n",
    "    hg = i.copy()\n",
    "    df_4[\"Key Strategies 0\"] = df_4[\"Key Strategies 0\"].map(hg).fillna(df_4[\"Key Strategies 0\"])\n",
    "    df_4[\"Key Strategies 1\"] = df_4[\"Key Strategies 1\"].map(hg).fillna(df_4[\"Key Strategies 1\"])\n",
    "    df_4[\"Key Strategies 2\"] = df_4[\"Key Strategies 2\"].map(hg).fillna(df_4[\"Key Strategies 2\"])"
   ],
   "metadata": {
    "collapsed": false,
    "ExecuteTime": {
     "end_time": "2024-01-05T20:01:29.345414Z",
     "start_time": "2024-01-05T20:01:29.324418Z"
    }
   },
   "id": "84d5ca2826a673eb",
   "execution_count": 28
  },
  {
   "cell_type": "code",
   "outputs": [],
   "source": [
    "tfidf = TfidfVectorizer()\n",
    "ppp = tfidf.fit_transform(preferred_learning)\n",
    "qqq = cosine_similarity(ppp).round(2)\n",
    "dic_list = []\n",
    "j = 0\n",
    "i = 0\n",
    "ctr = 0\n",
    "for i in range(qqq.shape[0]):\n",
    "    n = []\n",
    "    dic = {}\n",
    "    for j in range(i+1,len(qqq[i])):\n",
    "        if qqq[i,j] > 0 and qqq[i,j] < 1:\n",
    "            n.append(j)\n",
    "    if len(n)>0:\n",
    "        dic[preferred_learning[n[0]]] = preferred_learning[i]\n",
    "    else:\n",
    "        dic[preferred_learning[i]] = preferred_learning[i]\n",
    "    dic_list.append(dic)\n",
    "\n",
    "df_5 = df_4.copy()\n",
    "for i in dic_list[::-1]:\n",
    "    hg = i.copy()\n",
    "    df_5[\"Preferred Learning Resources 0\"] = df_5[\"Preferred Learning Resources 0\"].map(hg).fillna(df_5[\"Preferred Learning Resources 0\"])\n",
    "    df_5[\"Preferred Learning Resources 1\"] = df_5[\"Preferred Learning Resources 1\"].map(hg).fillna(df_5[\"Preferred Learning Resources 1\"])"
   ],
   "metadata": {
    "collapsed": false,
    "ExecuteTime": {
     "end_time": "2024-01-05T20:01:30.222110Z",
     "start_time": "2024-01-05T20:01:30.213489Z"
    }
   },
   "id": "1237fa68deeb8046",
   "execution_count": 29
  },
  {
   "cell_type": "code",
   "outputs": [],
   "source": [
    "columns_to_remove = [\"Candidate\",\"Location\",\"Target Country\",\"Application Status\",\"Job Offer Received\",\"Additional Certifications\",\"Language Fluency\",\"Relevant Skills\"]\n",
    "df_input = df_5.drop(columns=columns_to_remove)\n",
    "columns_all = df_input.dtypes.reset_index()\n",
    "columns_to_encode = columns_all[columns_all[0]==\"object\"][\"index\"].values\n",
    "\n",
    "for i in columns_to_encode:\n",
    "    encode_dict = pd.Series(np.sort(df_input[i].unique())).reset_index().set_index(0).to_dict()[\"index\"]\n",
    "    df_input[i] = df_input[i].map(encode_dict)\n",
    "\n",
    "df_input[\"Practice Hours per Week\"] = df_5[\"Study Duration (months)\"] * df_5[\"Practice Hours per Week\"]\n",
    "\n",
    "df_input.drop(columns=[\"Study Duration (months)\"],inplace=True)"
   ],
   "metadata": {
    "collapsed": false,
    "ExecuteTime": {
     "end_time": "2024-01-05T20:01:31.030985Z",
     "start_time": "2024-01-05T20:01:31.014887Z"
    }
   },
   "id": "1ec264177b7f9704",
   "execution_count": 30
  },
  {
   "cell_type": "code",
   "outputs": [
    {
     "data": {
      "text/plain": "   Profession  IELTS Score (Overall)  Key Strategies 0  Key Strategies 1  \\\n0           6                   8.50                 2                 2   \n1           9                   7.50                 0                 7   \n2          13                   9.00                 2                 4   \n3           9                   8.00                 0                 9   \n4           3                   8.25                 1                 5   \n\n   Key Strategies 2  Education Level  Age  English Proficiency (Preparation)  \\\n0                 7                1   24                                  0   \n1                 6                0   29                                  1   \n2                 3                1   32                                  0   \n3                 5                0   27                                  0   \n4                 6                0   22                                  0   \n\n   Practice Hours per Week  Mock Tests Taken  Achieved Desired Score  \\\n0                       45                 5                       1   \n1                       40                 3                       1   \n2                       40                 8                       1   \n3                       60                 4                       1   \n4                      108                 6                       1   \n\n   Preferred Learning Resources 0  Preferred Learning Resources 1  \\\n0                               7                               4   \n1                               7                               2   \n2                               9                               1   \n3                               6                               3   \n4                               7                               3   \n\n   Volunteer Experience  Internship Experience  Recommendations  \\\n0                     1                     10                2   \n1                     0                      7                1   \n2                     1                      2                1   \n3                     0                     11                2   \n4                     1                     10                1   \n\n   Networking Efforts  \n0                   9  \n1                  11  \n2                  14  \n3                  13  \n4                  15  ",
      "text/html": "<div>\n<style scoped>\n    .dataframe tbody tr th:only-of-type {\n        vertical-align: middle;\n    }\n\n    .dataframe tbody tr th {\n        vertical-align: top;\n    }\n\n    .dataframe thead th {\n        text-align: right;\n    }\n</style>\n<table border=\"1\" class=\"dataframe\">\n  <thead>\n    <tr style=\"text-align: right;\">\n      <th></th>\n      <th>Profession</th>\n      <th>IELTS Score (Overall)</th>\n      <th>Key Strategies 0</th>\n      <th>Key Strategies 1</th>\n      <th>Key Strategies 2</th>\n      <th>Education Level</th>\n      <th>Age</th>\n      <th>English Proficiency (Preparation)</th>\n      <th>Practice Hours per Week</th>\n      <th>Mock Tests Taken</th>\n      <th>Achieved Desired Score</th>\n      <th>Preferred Learning Resources 0</th>\n      <th>Preferred Learning Resources 1</th>\n      <th>Volunteer Experience</th>\n      <th>Internship Experience</th>\n      <th>Recommendations</th>\n      <th>Networking Efforts</th>\n    </tr>\n  </thead>\n  <tbody>\n    <tr>\n      <th>0</th>\n      <td>6</td>\n      <td>8.50</td>\n      <td>2</td>\n      <td>2</td>\n      <td>7</td>\n      <td>1</td>\n      <td>24</td>\n      <td>0</td>\n      <td>45</td>\n      <td>5</td>\n      <td>1</td>\n      <td>7</td>\n      <td>4</td>\n      <td>1</td>\n      <td>10</td>\n      <td>2</td>\n      <td>9</td>\n    </tr>\n    <tr>\n      <th>1</th>\n      <td>9</td>\n      <td>7.50</td>\n      <td>0</td>\n      <td>7</td>\n      <td>6</td>\n      <td>0</td>\n      <td>29</td>\n      <td>1</td>\n      <td>40</td>\n      <td>3</td>\n      <td>1</td>\n      <td>7</td>\n      <td>2</td>\n      <td>0</td>\n      <td>7</td>\n      <td>1</td>\n      <td>11</td>\n    </tr>\n    <tr>\n      <th>2</th>\n      <td>13</td>\n      <td>9.00</td>\n      <td>2</td>\n      <td>4</td>\n      <td>3</td>\n      <td>1</td>\n      <td>32</td>\n      <td>0</td>\n      <td>40</td>\n      <td>8</td>\n      <td>1</td>\n      <td>9</td>\n      <td>1</td>\n      <td>1</td>\n      <td>2</td>\n      <td>1</td>\n      <td>14</td>\n    </tr>\n    <tr>\n      <th>3</th>\n      <td>9</td>\n      <td>8.00</td>\n      <td>0</td>\n      <td>9</td>\n      <td>5</td>\n      <td>0</td>\n      <td>27</td>\n      <td>0</td>\n      <td>60</td>\n      <td>4</td>\n      <td>1</td>\n      <td>6</td>\n      <td>3</td>\n      <td>0</td>\n      <td>11</td>\n      <td>2</td>\n      <td>13</td>\n    </tr>\n    <tr>\n      <th>4</th>\n      <td>3</td>\n      <td>8.25</td>\n      <td>1</td>\n      <td>5</td>\n      <td>6</td>\n      <td>0</td>\n      <td>22</td>\n      <td>0</td>\n      <td>108</td>\n      <td>6</td>\n      <td>1</td>\n      <td>7</td>\n      <td>3</td>\n      <td>1</td>\n      <td>10</td>\n      <td>1</td>\n      <td>15</td>\n    </tr>\n  </tbody>\n</table>\n</div>"
     },
     "execution_count": 31,
     "metadata": {},
     "output_type": "execute_result"
    }
   ],
   "source": [
    "df_input.head()"
   ],
   "metadata": {
    "collapsed": false,
    "ExecuteTime": {
     "end_time": "2024-01-05T20:01:31.547449Z",
     "start_time": "2024-01-05T20:01:31.542482Z"
    }
   },
   "id": "1d60901812a9e307",
   "execution_count": 31
  },
  {
   "cell_type": "code",
   "outputs": [],
   "source": [
    "X = df_input.drop(columns=\"IELTS Score (Overall)\")\n",
    "y = df_input[\"IELTS Score (Overall)\"]\n",
    "\n",
    "mms = MinMaxScaler()\n",
    "X_res = pd.DataFrame(mms.fit_transform(X),columns=X.columns)\n",
    "y_res = y.copy()"
   ],
   "metadata": {
    "collapsed": false,
    "ExecuteTime": {
     "end_time": "2024-01-05T20:01:33.110359Z",
     "start_time": "2024-01-05T20:01:33.103460Z"
    }
   },
   "id": "3094b107d89f39a1",
   "execution_count": 32
  },
  {
   "cell_type": "code",
   "outputs": [],
   "source": [
    "X_train, X_test, y_train, y_test = train_test_split(X_res,y_res,test_size=0.25,random_state=np.random.randint(0,1000))"
   ],
   "metadata": {
    "collapsed": false,
    "ExecuteTime": {
     "end_time": "2024-01-05T20:01:33.745661Z",
     "start_time": "2024-01-05T20:01:33.742400Z"
    }
   },
   "id": "1c94af04a2561a5d",
   "execution_count": 33
  },
  {
   "cell_type": "code",
   "outputs": [],
   "source": [
    "linear_regr = LinearRegression()\n",
    "linear_regr.fit(X_train,y_train)\n",
    "y_pred = (linear_regr.predict(X_test) * 4).round(0)/4"
   ],
   "metadata": {
    "collapsed": false,
    "ExecuteTime": {
     "end_time": "2024-01-05T20:01:34.176193Z",
     "start_time": "2024-01-05T20:01:34.174151Z"
    }
   },
   "id": "69a1a9af9755eb53",
   "execution_count": 34
  },
  {
   "cell_type": "code",
   "outputs": [],
   "source": [
    "df_final = pd.DataFrame(columns=[\"Actual\",\"Predicted\"])\n",
    "df_final[\"Actual\"] = y_test\n",
    "df_final[\"Predicted\"] = y_pred\n",
    "df_final.reset_index(drop=True,inplace=True)"
   ],
   "metadata": {
    "collapsed": false,
    "ExecuteTime": {
     "end_time": "2024-01-05T20:01:34.516426Z",
     "start_time": "2024-01-05T20:01:34.514128Z"
    }
   },
   "id": "e2e0adfd313a9b7f",
   "execution_count": 35
  },
  {
   "cell_type": "code",
   "outputs": [
    {
     "data": {
      "text/plain": "0.25"
     },
     "execution_count": 36,
     "metadata": {},
     "output_type": "execute_result"
    }
   ],
   "source": [
    "round((np.sqrt(mean_squared_error(y_test,y_pred)) * 4),0)/4"
   ],
   "metadata": {
    "collapsed": false,
    "ExecuteTime": {
     "end_time": "2024-01-05T20:01:35.107762Z",
     "start_time": "2024-01-05T20:01:35.103800Z"
    }
   },
   "id": "8f2a47865f98127b",
   "execution_count": 36
  },
  {
   "cell_type": "code",
   "outputs": [],
   "source": [],
   "metadata": {
    "collapsed": false
   },
   "id": "e3ae6a5951c8a55a"
  }
 ],
 "metadata": {
  "kernelspec": {
   "display_name": "Python 3",
   "language": "python",
   "name": "python3"
  },
  "language_info": {
   "codemirror_mode": {
    "name": "ipython",
    "version": 2
   },
   "file_extension": ".py",
   "mimetype": "text/x-python",
   "name": "python",
   "nbconvert_exporter": "python",
   "pygments_lexer": "ipython2",
   "version": "2.7.6"
  }
 },
 "nbformat": 4,
 "nbformat_minor": 5
}
