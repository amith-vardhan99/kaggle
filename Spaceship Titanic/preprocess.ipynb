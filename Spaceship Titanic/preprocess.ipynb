{
 "cells": [
  {
   "cell_type": "markdown",
   "source": [
    "## Data Preprocessing"
   ],
   "metadata": {
    "collapsed": false
   },
   "id": "3c1436614d76a480"
  },
  {
   "cell_type": "markdown",
   "source": [
    "Now, we are done with exploratory data analysis of both training and testing datasets. Now, we should get into preprocessing for both the datasets as some of the features are not numerical."
   ],
   "metadata": {
    "collapsed": false
   },
   "id": "fa30d52e49859747"
  },
  {
   "cell_type": "markdown",
   "source": [
    "### Importing all packages"
   ],
   "metadata": {
    "collapsed": false
   },
   "id": "b39eb546f3f2a75a"
  },
  {
   "cell_type": "code",
   "execution_count": 3,
   "outputs": [],
   "source": [
    "import numpy as np\n",
    "import pandas as pd\n",
    "import matplotlib.pyplot as plt\n",
    "import seaborn as sns\n",
    "from sklearn.model_selection import *\n",
    "from sklearn.linear_model import *\n",
    "from math import *\n",
    "from sklearn.ensemble import *\n",
    "from sklearn.feature_selection import *\n",
    "from sklearn.feature_extraction import *\n",
    "from sklearn.naive_bayes import *\n",
    "from sklearn.discriminant_analysis import *\n",
    "from sklearn.preprocessing import *\n",
    "from sklearn.metrics import *\n",
    "from sklearn.neighbors import *\n",
    "from sklearn.cluster import *"
   ],
   "metadata": {
    "collapsed": false,
    "ExecuteTime": {
     "end_time": "2023-08-19T20:58:52.672438Z",
     "start_time": "2023-08-19T20:58:52.666260Z"
    }
   },
   "id": "943203979980312"
  },
  {
   "cell_type": "markdown",
   "source": [
    "### Importing all datasets"
   ],
   "metadata": {
    "collapsed": false
   },
   "id": "52ae0dfad44e1d43"
  },
  {
   "cell_type": "code",
   "execution_count": 4,
   "outputs": [],
   "source": [
    "df_train = pd.read_csv(\"train_eda.csv\")\n",
    "df_test = pd.read_csv(\"test_eda.csv\")"
   ],
   "metadata": {
    "collapsed": false,
    "ExecuteTime": {
     "end_time": "2023-08-19T20:58:54.449011Z",
     "start_time": "2023-08-19T20:58:54.425047Z"
    }
   },
   "id": "73d3d262210ae7ec"
  },
  {
   "cell_type": "markdown",
   "source": [
    "### Displaying first 5 elements of training dataset"
   ],
   "metadata": {
    "collapsed": false
   },
   "id": "b86696ebc05df4c8"
  },
  {
   "cell_type": "code",
   "execution_count": 5,
   "outputs": [
    {
     "data": {
      "text/plain": "   index PassengerId HomePlanet Cabin Deck  Cabin Number Cabin Side  \\\n0      0     0001_01     Europa          B             0          P   \n1      1     0002_01      Earth          F             0          S   \n2      2     0003_01     Europa          A             0          S   \n3      3     0003_02     Europa          A             0          S   \n4      4     0004_01      Earth          F             1          S   \n\n   CryoSleep  Destination   Age    VIP  RoomService  FoodCourt  ShoppingMall  \\\n0      False  TRAPPIST-1e  27.0  False          0.0        0.0           0.0   \n1      False  TRAPPIST-1e  27.0  False        109.0        9.0          25.0   \n2      False  TRAPPIST-1e  27.0   True         43.0     3576.0           0.0   \n3      False  TRAPPIST-1e  27.0  False          0.0     1283.0         371.0   \n4      False  TRAPPIST-1e  27.0  False        303.0       70.0         151.0   \n\n      Spa  VRDeck  Transported  \n0     0.0     0.0        False  \n1   549.0    44.0         True  \n2  6715.0    49.0        False  \n3  3329.0   193.0        False  \n4   565.0     2.0         True  ",
      "text/html": "<div>\n<style scoped>\n    .dataframe tbody tr th:only-of-type {\n        vertical-align: middle;\n    }\n\n    .dataframe tbody tr th {\n        vertical-align: top;\n    }\n\n    .dataframe thead th {\n        text-align: right;\n    }\n</style>\n<table border=\"1\" class=\"dataframe\">\n  <thead>\n    <tr style=\"text-align: right;\">\n      <th></th>\n      <th>index</th>\n      <th>PassengerId</th>\n      <th>HomePlanet</th>\n      <th>Cabin Deck</th>\n      <th>Cabin Number</th>\n      <th>Cabin Side</th>\n      <th>CryoSleep</th>\n      <th>Destination</th>\n      <th>Age</th>\n      <th>VIP</th>\n      <th>RoomService</th>\n      <th>FoodCourt</th>\n      <th>ShoppingMall</th>\n      <th>Spa</th>\n      <th>VRDeck</th>\n      <th>Transported</th>\n    </tr>\n  </thead>\n  <tbody>\n    <tr>\n      <th>0</th>\n      <td>0</td>\n      <td>0001_01</td>\n      <td>Europa</td>\n      <td>B</td>\n      <td>0</td>\n      <td>P</td>\n      <td>False</td>\n      <td>TRAPPIST-1e</td>\n      <td>27.0</td>\n      <td>False</td>\n      <td>0.0</td>\n      <td>0.0</td>\n      <td>0.0</td>\n      <td>0.0</td>\n      <td>0.0</td>\n      <td>False</td>\n    </tr>\n    <tr>\n      <th>1</th>\n      <td>1</td>\n      <td>0002_01</td>\n      <td>Earth</td>\n      <td>F</td>\n      <td>0</td>\n      <td>S</td>\n      <td>False</td>\n      <td>TRAPPIST-1e</td>\n      <td>27.0</td>\n      <td>False</td>\n      <td>109.0</td>\n      <td>9.0</td>\n      <td>25.0</td>\n      <td>549.0</td>\n      <td>44.0</td>\n      <td>True</td>\n    </tr>\n    <tr>\n      <th>2</th>\n      <td>2</td>\n      <td>0003_01</td>\n      <td>Europa</td>\n      <td>A</td>\n      <td>0</td>\n      <td>S</td>\n      <td>False</td>\n      <td>TRAPPIST-1e</td>\n      <td>27.0</td>\n      <td>True</td>\n      <td>43.0</td>\n      <td>3576.0</td>\n      <td>0.0</td>\n      <td>6715.0</td>\n      <td>49.0</td>\n      <td>False</td>\n    </tr>\n    <tr>\n      <th>3</th>\n      <td>3</td>\n      <td>0003_02</td>\n      <td>Europa</td>\n      <td>A</td>\n      <td>0</td>\n      <td>S</td>\n      <td>False</td>\n      <td>TRAPPIST-1e</td>\n      <td>27.0</td>\n      <td>False</td>\n      <td>0.0</td>\n      <td>1283.0</td>\n      <td>371.0</td>\n      <td>3329.0</td>\n      <td>193.0</td>\n      <td>False</td>\n    </tr>\n    <tr>\n      <th>4</th>\n      <td>4</td>\n      <td>0004_01</td>\n      <td>Earth</td>\n      <td>F</td>\n      <td>1</td>\n      <td>S</td>\n      <td>False</td>\n      <td>TRAPPIST-1e</td>\n      <td>27.0</td>\n      <td>False</td>\n      <td>303.0</td>\n      <td>70.0</td>\n      <td>151.0</td>\n      <td>565.0</td>\n      <td>2.0</td>\n      <td>True</td>\n    </tr>\n  </tbody>\n</table>\n</div>"
     },
     "execution_count": 5,
     "metadata": {},
     "output_type": "execute_result"
    }
   ],
   "source": [
    "df_train.head()"
   ],
   "metadata": {
    "collapsed": false,
    "ExecuteTime": {
     "end_time": "2023-08-19T20:59:10.812846Z",
     "start_time": "2023-08-19T20:59:10.802304Z"
    }
   },
   "id": "c3bf75fa313674be"
  },
  {
   "cell_type": "markdown",
   "source": [
    "### Displaying first 5 elements of testing dataset"
   ],
   "metadata": {
    "collapsed": false
   },
   "id": "df4ae952716e0e5f"
  },
  {
   "cell_type": "code",
   "execution_count": 6,
   "outputs": [
    {
     "data": {
      "text/plain": "   index PassengerId HomePlanet Cabin Deck  Cabin Number Cabin Side  \\\n0      0     0013_01      Earth          G             3          S   \n1      1     0018_01      Earth          F             4          S   \n2      2     0019_01     Europa          C             0          S   \n3      3     0021_01     Europa          C             1          S   \n4      4     0023_01      Earth          F             5          S   \n\n   CryoSleep  Destination   Age    VIP  RoomService  FoodCourt  ShoppingMall  \\\n0       True  TRAPPIST-1e  26.0  False          0.0        0.0           0.0   \n1      False  TRAPPIST-1e  26.0  False          0.0        9.0           0.0   \n2       True  55 Cancri e  26.0  False          0.0        0.0           0.0   \n3      False  TRAPPIST-1e  26.0  False          0.0     6652.0           0.0   \n4      False  TRAPPIST-1e  26.0  False         10.0        0.0         635.0   \n\n      Spa  VRDeck  \n0     0.0     0.0  \n1  2823.0     0.0  \n2     0.0     0.0  \n3   181.0   585.0  \n4     0.0     0.0  ",
      "text/html": "<div>\n<style scoped>\n    .dataframe tbody tr th:only-of-type {\n        vertical-align: middle;\n    }\n\n    .dataframe tbody tr th {\n        vertical-align: top;\n    }\n\n    .dataframe thead th {\n        text-align: right;\n    }\n</style>\n<table border=\"1\" class=\"dataframe\">\n  <thead>\n    <tr style=\"text-align: right;\">\n      <th></th>\n      <th>index</th>\n      <th>PassengerId</th>\n      <th>HomePlanet</th>\n      <th>Cabin Deck</th>\n      <th>Cabin Number</th>\n      <th>Cabin Side</th>\n      <th>CryoSleep</th>\n      <th>Destination</th>\n      <th>Age</th>\n      <th>VIP</th>\n      <th>RoomService</th>\n      <th>FoodCourt</th>\n      <th>ShoppingMall</th>\n      <th>Spa</th>\n      <th>VRDeck</th>\n    </tr>\n  </thead>\n  <tbody>\n    <tr>\n      <th>0</th>\n      <td>0</td>\n      <td>0013_01</td>\n      <td>Earth</td>\n      <td>G</td>\n      <td>3</td>\n      <td>S</td>\n      <td>True</td>\n      <td>TRAPPIST-1e</td>\n      <td>26.0</td>\n      <td>False</td>\n      <td>0.0</td>\n      <td>0.0</td>\n      <td>0.0</td>\n      <td>0.0</td>\n      <td>0.0</td>\n    </tr>\n    <tr>\n      <th>1</th>\n      <td>1</td>\n      <td>0018_01</td>\n      <td>Earth</td>\n      <td>F</td>\n      <td>4</td>\n      <td>S</td>\n      <td>False</td>\n      <td>TRAPPIST-1e</td>\n      <td>26.0</td>\n      <td>False</td>\n      <td>0.0</td>\n      <td>9.0</td>\n      <td>0.0</td>\n      <td>2823.0</td>\n      <td>0.0</td>\n    </tr>\n    <tr>\n      <th>2</th>\n      <td>2</td>\n      <td>0019_01</td>\n      <td>Europa</td>\n      <td>C</td>\n      <td>0</td>\n      <td>S</td>\n      <td>True</td>\n      <td>55 Cancri e</td>\n      <td>26.0</td>\n      <td>False</td>\n      <td>0.0</td>\n      <td>0.0</td>\n      <td>0.0</td>\n      <td>0.0</td>\n      <td>0.0</td>\n    </tr>\n    <tr>\n      <th>3</th>\n      <td>3</td>\n      <td>0021_01</td>\n      <td>Europa</td>\n      <td>C</td>\n      <td>1</td>\n      <td>S</td>\n      <td>False</td>\n      <td>TRAPPIST-1e</td>\n      <td>26.0</td>\n      <td>False</td>\n      <td>0.0</td>\n      <td>6652.0</td>\n      <td>0.0</td>\n      <td>181.0</td>\n      <td>585.0</td>\n    </tr>\n    <tr>\n      <th>4</th>\n      <td>4</td>\n      <td>0023_01</td>\n      <td>Earth</td>\n      <td>F</td>\n      <td>5</td>\n      <td>S</td>\n      <td>False</td>\n      <td>TRAPPIST-1e</td>\n      <td>26.0</td>\n      <td>False</td>\n      <td>10.0</td>\n      <td>0.0</td>\n      <td>635.0</td>\n      <td>0.0</td>\n      <td>0.0</td>\n    </tr>\n  </tbody>\n</table>\n</div>"
     },
     "execution_count": 6,
     "metadata": {},
     "output_type": "execute_result"
    }
   ],
   "source": [
    "df_test.head()"
   ],
   "metadata": {
    "collapsed": false,
    "ExecuteTime": {
     "end_time": "2023-08-19T20:59:31.625302Z",
     "start_time": "2023-08-19T20:59:31.619853Z"
    }
   },
   "id": "b5fd9fe61599c990"
  },
  {
   "cell_type": "markdown",
   "source": [
    "### Removal of dummy column \"index\" in both the datasets"
   ],
   "metadata": {
    "collapsed": false
   },
   "id": "50c6402cfc1dd397"
  },
  {
   "cell_type": "code",
   "execution_count": 8,
   "outputs": [],
   "source": [
    "train_1 = df_train.drop(\"index\",axis=1,inplace=False)\n",
    "test_1 = df_test.drop(\"index\",axis=1,inplace=False)"
   ],
   "metadata": {
    "collapsed": false,
    "ExecuteTime": {
     "end_time": "2023-08-19T21:01:11.417958Z",
     "start_time": "2023-08-19T21:01:11.406899Z"
    }
   },
   "id": "4cd0094b40d4aefa"
  },
  {
   "cell_type": "code",
   "execution_count": 9,
   "outputs": [
    {
     "data": {
      "text/plain": "  PassengerId HomePlanet Cabin Deck  Cabin Number Cabin Side  CryoSleep  \\\n0     0001_01     Europa          B             0          P      False   \n1     0002_01      Earth          F             0          S      False   \n2     0003_01     Europa          A             0          S      False   \n3     0003_02     Europa          A             0          S      False   \n4     0004_01      Earth          F             1          S      False   \n\n   Destination   Age    VIP  RoomService  FoodCourt  ShoppingMall     Spa  \\\n0  TRAPPIST-1e  27.0  False          0.0        0.0           0.0     0.0   \n1  TRAPPIST-1e  27.0  False        109.0        9.0          25.0   549.0   \n2  TRAPPIST-1e  27.0   True         43.0     3576.0           0.0  6715.0   \n3  TRAPPIST-1e  27.0  False          0.0     1283.0         371.0  3329.0   \n4  TRAPPIST-1e  27.0  False        303.0       70.0         151.0   565.0   \n\n   VRDeck  Transported  \n0     0.0        False  \n1    44.0         True  \n2    49.0        False  \n3   193.0        False  \n4     2.0         True  ",
      "text/html": "<div>\n<style scoped>\n    .dataframe tbody tr th:only-of-type {\n        vertical-align: middle;\n    }\n\n    .dataframe tbody tr th {\n        vertical-align: top;\n    }\n\n    .dataframe thead th {\n        text-align: right;\n    }\n</style>\n<table border=\"1\" class=\"dataframe\">\n  <thead>\n    <tr style=\"text-align: right;\">\n      <th></th>\n      <th>PassengerId</th>\n      <th>HomePlanet</th>\n      <th>Cabin Deck</th>\n      <th>Cabin Number</th>\n      <th>Cabin Side</th>\n      <th>CryoSleep</th>\n      <th>Destination</th>\n      <th>Age</th>\n      <th>VIP</th>\n      <th>RoomService</th>\n      <th>FoodCourt</th>\n      <th>ShoppingMall</th>\n      <th>Spa</th>\n      <th>VRDeck</th>\n      <th>Transported</th>\n    </tr>\n  </thead>\n  <tbody>\n    <tr>\n      <th>0</th>\n      <td>0001_01</td>\n      <td>Europa</td>\n      <td>B</td>\n      <td>0</td>\n      <td>P</td>\n      <td>False</td>\n      <td>TRAPPIST-1e</td>\n      <td>27.0</td>\n      <td>False</td>\n      <td>0.0</td>\n      <td>0.0</td>\n      <td>0.0</td>\n      <td>0.0</td>\n      <td>0.0</td>\n      <td>False</td>\n    </tr>\n    <tr>\n      <th>1</th>\n      <td>0002_01</td>\n      <td>Earth</td>\n      <td>F</td>\n      <td>0</td>\n      <td>S</td>\n      <td>False</td>\n      <td>TRAPPIST-1e</td>\n      <td>27.0</td>\n      <td>False</td>\n      <td>109.0</td>\n      <td>9.0</td>\n      <td>25.0</td>\n      <td>549.0</td>\n      <td>44.0</td>\n      <td>True</td>\n    </tr>\n    <tr>\n      <th>2</th>\n      <td>0003_01</td>\n      <td>Europa</td>\n      <td>A</td>\n      <td>0</td>\n      <td>S</td>\n      <td>False</td>\n      <td>TRAPPIST-1e</td>\n      <td>27.0</td>\n      <td>True</td>\n      <td>43.0</td>\n      <td>3576.0</td>\n      <td>0.0</td>\n      <td>6715.0</td>\n      <td>49.0</td>\n      <td>False</td>\n    </tr>\n    <tr>\n      <th>3</th>\n      <td>0003_02</td>\n      <td>Europa</td>\n      <td>A</td>\n      <td>0</td>\n      <td>S</td>\n      <td>False</td>\n      <td>TRAPPIST-1e</td>\n      <td>27.0</td>\n      <td>False</td>\n      <td>0.0</td>\n      <td>1283.0</td>\n      <td>371.0</td>\n      <td>3329.0</td>\n      <td>193.0</td>\n      <td>False</td>\n    </tr>\n    <tr>\n      <th>4</th>\n      <td>0004_01</td>\n      <td>Earth</td>\n      <td>F</td>\n      <td>1</td>\n      <td>S</td>\n      <td>False</td>\n      <td>TRAPPIST-1e</td>\n      <td>27.0</td>\n      <td>False</td>\n      <td>303.0</td>\n      <td>70.0</td>\n      <td>151.0</td>\n      <td>565.0</td>\n      <td>2.0</td>\n      <td>True</td>\n    </tr>\n  </tbody>\n</table>\n</div>"
     },
     "execution_count": 9,
     "metadata": {},
     "output_type": "execute_result"
    }
   ],
   "source": [
    "train_1.head()"
   ],
   "metadata": {
    "collapsed": false,
    "ExecuteTime": {
     "end_time": "2023-08-19T21:01:15.816123Z",
     "start_time": "2023-08-19T21:01:15.810027Z"
    }
   },
   "id": "bd58bfe1cf8debb3"
  },
  {
   "cell_type": "code",
   "execution_count": 10,
   "outputs": [
    {
     "data": {
      "text/plain": "  PassengerId HomePlanet Cabin Deck  Cabin Number Cabin Side  CryoSleep  \\\n0     0013_01      Earth          G             3          S       True   \n1     0018_01      Earth          F             4          S      False   \n2     0019_01     Europa          C             0          S       True   \n3     0021_01     Europa          C             1          S      False   \n4     0023_01      Earth          F             5          S      False   \n\n   Destination   Age    VIP  RoomService  FoodCourt  ShoppingMall     Spa  \\\n0  TRAPPIST-1e  26.0  False          0.0        0.0           0.0     0.0   \n1  TRAPPIST-1e  26.0  False          0.0        9.0           0.0  2823.0   \n2  55 Cancri e  26.0  False          0.0        0.0           0.0     0.0   \n3  TRAPPIST-1e  26.0  False          0.0     6652.0           0.0   181.0   \n4  TRAPPIST-1e  26.0  False         10.0        0.0         635.0     0.0   \n\n   VRDeck  \n0     0.0  \n1     0.0  \n2     0.0  \n3   585.0  \n4     0.0  ",
      "text/html": "<div>\n<style scoped>\n    .dataframe tbody tr th:only-of-type {\n        vertical-align: middle;\n    }\n\n    .dataframe tbody tr th {\n        vertical-align: top;\n    }\n\n    .dataframe thead th {\n        text-align: right;\n    }\n</style>\n<table border=\"1\" class=\"dataframe\">\n  <thead>\n    <tr style=\"text-align: right;\">\n      <th></th>\n      <th>PassengerId</th>\n      <th>HomePlanet</th>\n      <th>Cabin Deck</th>\n      <th>Cabin Number</th>\n      <th>Cabin Side</th>\n      <th>CryoSleep</th>\n      <th>Destination</th>\n      <th>Age</th>\n      <th>VIP</th>\n      <th>RoomService</th>\n      <th>FoodCourt</th>\n      <th>ShoppingMall</th>\n      <th>Spa</th>\n      <th>VRDeck</th>\n    </tr>\n  </thead>\n  <tbody>\n    <tr>\n      <th>0</th>\n      <td>0013_01</td>\n      <td>Earth</td>\n      <td>G</td>\n      <td>3</td>\n      <td>S</td>\n      <td>True</td>\n      <td>TRAPPIST-1e</td>\n      <td>26.0</td>\n      <td>False</td>\n      <td>0.0</td>\n      <td>0.0</td>\n      <td>0.0</td>\n      <td>0.0</td>\n      <td>0.0</td>\n    </tr>\n    <tr>\n      <th>1</th>\n      <td>0018_01</td>\n      <td>Earth</td>\n      <td>F</td>\n      <td>4</td>\n      <td>S</td>\n      <td>False</td>\n      <td>TRAPPIST-1e</td>\n      <td>26.0</td>\n      <td>False</td>\n      <td>0.0</td>\n      <td>9.0</td>\n      <td>0.0</td>\n      <td>2823.0</td>\n      <td>0.0</td>\n    </tr>\n    <tr>\n      <th>2</th>\n      <td>0019_01</td>\n      <td>Europa</td>\n      <td>C</td>\n      <td>0</td>\n      <td>S</td>\n      <td>True</td>\n      <td>55 Cancri e</td>\n      <td>26.0</td>\n      <td>False</td>\n      <td>0.0</td>\n      <td>0.0</td>\n      <td>0.0</td>\n      <td>0.0</td>\n      <td>0.0</td>\n    </tr>\n    <tr>\n      <th>3</th>\n      <td>0021_01</td>\n      <td>Europa</td>\n      <td>C</td>\n      <td>1</td>\n      <td>S</td>\n      <td>False</td>\n      <td>TRAPPIST-1e</td>\n      <td>26.0</td>\n      <td>False</td>\n      <td>0.0</td>\n      <td>6652.0</td>\n      <td>0.0</td>\n      <td>181.0</td>\n      <td>585.0</td>\n    </tr>\n    <tr>\n      <th>4</th>\n      <td>0023_01</td>\n      <td>Earth</td>\n      <td>F</td>\n      <td>5</td>\n      <td>S</td>\n      <td>False</td>\n      <td>TRAPPIST-1e</td>\n      <td>26.0</td>\n      <td>False</td>\n      <td>10.0</td>\n      <td>0.0</td>\n      <td>635.0</td>\n      <td>0.0</td>\n      <td>0.0</td>\n    </tr>\n  </tbody>\n</table>\n</div>"
     },
     "execution_count": 10,
     "metadata": {},
     "output_type": "execute_result"
    }
   ],
   "source": [
    "test_1.head()"
   ],
   "metadata": {
    "collapsed": false,
    "ExecuteTime": {
     "end_time": "2023-08-19T21:01:19.920603Z",
     "start_time": "2023-08-19T21:01:19.917879Z"
    }
   },
   "id": "e940792307753a5f"
  },
  {
   "cell_type": "markdown",
   "source": [
    "### Checking for unique values in \"HomePlanet\" feature"
   ],
   "metadata": {
    "collapsed": false
   },
   "id": "924419bd9f1f82b0"
  },
  {
   "cell_type": "code",
   "execution_count": 97,
   "outputs": [
    {
     "name": "stdout",
     "output_type": "stream",
     "text": [
      "Training :  ['Earth' 'Europa' 'Mars']\n",
      "Testing  :  ['Earth' 'Europa' 'Mars']\n"
     ]
    }
   ],
   "source": [
    "hp_train = train_1[\"HomePlanet\"].unique()\n",
    "hp_test = test_1[\"HomePlanet\"].unique()\n",
    "hp_train.sort()\n",
    "hp_test.sort()\n",
    "print(\"Training : \",hp_train)\n",
    "print(\"Testing  : \",hp_test)"
   ],
   "metadata": {
    "collapsed": false,
    "ExecuteTime": {
     "end_time": "2023-08-19T21:38:34.990601Z",
     "start_time": "2023-08-19T21:38:34.975787Z"
    }
   },
   "id": "9ed0b140e1026077"
  },
  {
   "cell_type": "markdown",
   "source": [
    "### Performing one-hot encoding for \"HomePlanet\" feature"
   ],
   "metadata": {
    "collapsed": false
   },
   "id": "936cfbf1ab96e867"
  },
  {
   "cell_type": "code",
   "execution_count": 98,
   "outputs": [],
   "source": [
    "ohe = OneHotEncoder(drop=[[\"Earth\"]])\n",
    "train_ohe = ohe.fit_transform(train_1[\"HomePlanet\"].to_numpy().reshape(-1,1)).toarray()\n",
    "test_ohe = ohe.fit_transform(test_1[\"HomePlanet\"].to_numpy().reshape(-1,1)).toarray()\n",
    "home_planet_train = pd.DataFrame(train_ohe,columns=[\"HomePlanet_Europa\",\"HomePlanet_Mars\"])\n",
    "home_planet_test = pd.DataFrame(test_ohe,columns=[\"HomePlanet_Europa\",\"HomePlanet_Mars\"])"
   ],
   "metadata": {
    "collapsed": false,
    "ExecuteTime": {
     "end_time": "2023-08-19T21:38:40.490426Z",
     "start_time": "2023-08-19T21:38:40.479172Z"
    }
   },
   "id": "abb2ba0df8f91929"
  },
  {
   "cell_type": "code",
   "execution_count": 99,
   "outputs": [
    {
     "data": {
      "text/plain": "  PassengerId  HomePlanet_Europa  HomePlanet_Mars Cabin Deck  Cabin Number  \\\n0     0001_01                1.0              0.0          B             0   \n1     0002_01                0.0              0.0          F             0   \n2     0003_01                1.0              0.0          A             0   \n3     0003_02                1.0              0.0          A             0   \n4     0004_01                0.0              0.0          F             1   \n\n  Cabin Side  CryoSleep  Destination   Age    VIP  RoomService  FoodCourt  \\\n0          P      False  TRAPPIST-1e  27.0  False          0.0        0.0   \n1          S      False  TRAPPIST-1e  27.0  False        109.0        9.0   \n2          S      False  TRAPPIST-1e  27.0   True         43.0     3576.0   \n3          S      False  TRAPPIST-1e  27.0  False          0.0     1283.0   \n4          S      False  TRAPPIST-1e  27.0  False        303.0       70.0   \n\n   ShoppingMall     Spa  VRDeck  Transported  \n0           0.0     0.0     0.0        False  \n1          25.0   549.0    44.0         True  \n2           0.0  6715.0    49.0        False  \n3         371.0  3329.0   193.0        False  \n4         151.0   565.0     2.0         True  ",
      "text/html": "<div>\n<style scoped>\n    .dataframe tbody tr th:only-of-type {\n        vertical-align: middle;\n    }\n\n    .dataframe tbody tr th {\n        vertical-align: top;\n    }\n\n    .dataframe thead th {\n        text-align: right;\n    }\n</style>\n<table border=\"1\" class=\"dataframe\">\n  <thead>\n    <tr style=\"text-align: right;\">\n      <th></th>\n      <th>PassengerId</th>\n      <th>HomePlanet_Europa</th>\n      <th>HomePlanet_Mars</th>\n      <th>Cabin Deck</th>\n      <th>Cabin Number</th>\n      <th>Cabin Side</th>\n      <th>CryoSleep</th>\n      <th>Destination</th>\n      <th>Age</th>\n      <th>VIP</th>\n      <th>RoomService</th>\n      <th>FoodCourt</th>\n      <th>ShoppingMall</th>\n      <th>Spa</th>\n      <th>VRDeck</th>\n      <th>Transported</th>\n    </tr>\n  </thead>\n  <tbody>\n    <tr>\n      <th>0</th>\n      <td>0001_01</td>\n      <td>1.0</td>\n      <td>0.0</td>\n      <td>B</td>\n      <td>0</td>\n      <td>P</td>\n      <td>False</td>\n      <td>TRAPPIST-1e</td>\n      <td>27.0</td>\n      <td>False</td>\n      <td>0.0</td>\n      <td>0.0</td>\n      <td>0.0</td>\n      <td>0.0</td>\n      <td>0.0</td>\n      <td>False</td>\n    </tr>\n    <tr>\n      <th>1</th>\n      <td>0002_01</td>\n      <td>0.0</td>\n      <td>0.0</td>\n      <td>F</td>\n      <td>0</td>\n      <td>S</td>\n      <td>False</td>\n      <td>TRAPPIST-1e</td>\n      <td>27.0</td>\n      <td>False</td>\n      <td>109.0</td>\n      <td>9.0</td>\n      <td>25.0</td>\n      <td>549.0</td>\n      <td>44.0</td>\n      <td>True</td>\n    </tr>\n    <tr>\n      <th>2</th>\n      <td>0003_01</td>\n      <td>1.0</td>\n      <td>0.0</td>\n      <td>A</td>\n      <td>0</td>\n      <td>S</td>\n      <td>False</td>\n      <td>TRAPPIST-1e</td>\n      <td>27.0</td>\n      <td>True</td>\n      <td>43.0</td>\n      <td>3576.0</td>\n      <td>0.0</td>\n      <td>6715.0</td>\n      <td>49.0</td>\n      <td>False</td>\n    </tr>\n    <tr>\n      <th>3</th>\n      <td>0003_02</td>\n      <td>1.0</td>\n      <td>0.0</td>\n      <td>A</td>\n      <td>0</td>\n      <td>S</td>\n      <td>False</td>\n      <td>TRAPPIST-1e</td>\n      <td>27.0</td>\n      <td>False</td>\n      <td>0.0</td>\n      <td>1283.0</td>\n      <td>371.0</td>\n      <td>3329.0</td>\n      <td>193.0</td>\n      <td>False</td>\n    </tr>\n    <tr>\n      <th>4</th>\n      <td>0004_01</td>\n      <td>0.0</td>\n      <td>0.0</td>\n      <td>F</td>\n      <td>1</td>\n      <td>S</td>\n      <td>False</td>\n      <td>TRAPPIST-1e</td>\n      <td>27.0</td>\n      <td>False</td>\n      <td>303.0</td>\n      <td>70.0</td>\n      <td>151.0</td>\n      <td>565.0</td>\n      <td>2.0</td>\n      <td>True</td>\n    </tr>\n  </tbody>\n</table>\n</div>"
     },
     "execution_count": 99,
     "metadata": {},
     "output_type": "execute_result"
    }
   ],
   "source": [
    "train_2 = train_1.copy()\n",
    "train_2.drop(columns=[\"HomePlanet\"],axis=1,inplace=True)\n",
    "ctr = 1\n",
    "for i in home_planet_train:\n",
    "    train_2.insert(loc=ctr,column=i,value=home_planet_train[i])\n",
    "    ctr += 1\n",
    "train_2.head()"
   ],
   "metadata": {
    "collapsed": false,
    "ExecuteTime": {
     "end_time": "2023-08-19T21:38:40.856506Z",
     "start_time": "2023-08-19T21:38:40.837368Z"
    }
   },
   "id": "391243dcf2a9758e"
  },
  {
   "cell_type": "code",
   "execution_count": 100,
   "outputs": [
    {
     "data": {
      "text/plain": "  PassengerId  HomePlanet_Europa  HomePlanet_Mars Cabin Deck  Cabin Number  \\\n0     0013_01                0.0              0.0          G             3   \n1     0018_01                0.0              0.0          F             4   \n2     0019_01                1.0              0.0          C             0   \n3     0021_01                1.0              0.0          C             1   \n4     0023_01                0.0              0.0          F             5   \n\n  Cabin Side  CryoSleep  Destination   Age    VIP  RoomService  FoodCourt  \\\n0          S       True  TRAPPIST-1e  26.0  False          0.0        0.0   \n1          S      False  TRAPPIST-1e  26.0  False          0.0        9.0   \n2          S       True  55 Cancri e  26.0  False          0.0        0.0   \n3          S      False  TRAPPIST-1e  26.0  False          0.0     6652.0   \n4          S      False  TRAPPIST-1e  26.0  False         10.0        0.0   \n\n   ShoppingMall     Spa  VRDeck  \n0           0.0     0.0     0.0  \n1           0.0  2823.0     0.0  \n2           0.0     0.0     0.0  \n3           0.0   181.0   585.0  \n4         635.0     0.0     0.0  ",
      "text/html": "<div>\n<style scoped>\n    .dataframe tbody tr th:only-of-type {\n        vertical-align: middle;\n    }\n\n    .dataframe tbody tr th {\n        vertical-align: top;\n    }\n\n    .dataframe thead th {\n        text-align: right;\n    }\n</style>\n<table border=\"1\" class=\"dataframe\">\n  <thead>\n    <tr style=\"text-align: right;\">\n      <th></th>\n      <th>PassengerId</th>\n      <th>HomePlanet_Europa</th>\n      <th>HomePlanet_Mars</th>\n      <th>Cabin Deck</th>\n      <th>Cabin Number</th>\n      <th>Cabin Side</th>\n      <th>CryoSleep</th>\n      <th>Destination</th>\n      <th>Age</th>\n      <th>VIP</th>\n      <th>RoomService</th>\n      <th>FoodCourt</th>\n      <th>ShoppingMall</th>\n      <th>Spa</th>\n      <th>VRDeck</th>\n    </tr>\n  </thead>\n  <tbody>\n    <tr>\n      <th>0</th>\n      <td>0013_01</td>\n      <td>0.0</td>\n      <td>0.0</td>\n      <td>G</td>\n      <td>3</td>\n      <td>S</td>\n      <td>True</td>\n      <td>TRAPPIST-1e</td>\n      <td>26.0</td>\n      <td>False</td>\n      <td>0.0</td>\n      <td>0.0</td>\n      <td>0.0</td>\n      <td>0.0</td>\n      <td>0.0</td>\n    </tr>\n    <tr>\n      <th>1</th>\n      <td>0018_01</td>\n      <td>0.0</td>\n      <td>0.0</td>\n      <td>F</td>\n      <td>4</td>\n      <td>S</td>\n      <td>False</td>\n      <td>TRAPPIST-1e</td>\n      <td>26.0</td>\n      <td>False</td>\n      <td>0.0</td>\n      <td>9.0</td>\n      <td>0.0</td>\n      <td>2823.0</td>\n      <td>0.0</td>\n    </tr>\n    <tr>\n      <th>2</th>\n      <td>0019_01</td>\n      <td>1.0</td>\n      <td>0.0</td>\n      <td>C</td>\n      <td>0</td>\n      <td>S</td>\n      <td>True</td>\n      <td>55 Cancri e</td>\n      <td>26.0</td>\n      <td>False</td>\n      <td>0.0</td>\n      <td>0.0</td>\n      <td>0.0</td>\n      <td>0.0</td>\n      <td>0.0</td>\n    </tr>\n    <tr>\n      <th>3</th>\n      <td>0021_01</td>\n      <td>1.0</td>\n      <td>0.0</td>\n      <td>C</td>\n      <td>1</td>\n      <td>S</td>\n      <td>False</td>\n      <td>TRAPPIST-1e</td>\n      <td>26.0</td>\n      <td>False</td>\n      <td>0.0</td>\n      <td>6652.0</td>\n      <td>0.0</td>\n      <td>181.0</td>\n      <td>585.0</td>\n    </tr>\n    <tr>\n      <th>4</th>\n      <td>0023_01</td>\n      <td>0.0</td>\n      <td>0.0</td>\n      <td>F</td>\n      <td>5</td>\n      <td>S</td>\n      <td>False</td>\n      <td>TRAPPIST-1e</td>\n      <td>26.0</td>\n      <td>False</td>\n      <td>10.0</td>\n      <td>0.0</td>\n      <td>635.0</td>\n      <td>0.0</td>\n      <td>0.0</td>\n    </tr>\n  </tbody>\n</table>\n</div>"
     },
     "execution_count": 100,
     "metadata": {},
     "output_type": "execute_result"
    }
   ],
   "source": [
    "test_2 = test_1.copy()\n",
    "test_2.drop(columns=[\"HomePlanet\"],axis=1,inplace=True)\n",
    "ctr = 1\n",
    "for i in home_planet_test:\n",
    "    test_2.insert(loc=ctr,column=i,value=home_planet_test[i])\n",
    "    ctr += 1\n",
    "test_2.head()"
   ],
   "metadata": {
    "collapsed": false,
    "ExecuteTime": {
     "end_time": "2023-08-19T21:38:41.337029Z",
     "start_time": "2023-08-19T21:38:41.330201Z"
    }
   },
   "id": "4034063e3cd6c653"
  },
  {
   "cell_type": "markdown",
   "source": [
    "### Checking for unique values in \"Cabin Deck\" feature"
   ],
   "metadata": {
    "collapsed": false
   },
   "id": "25f3f20fbe0967df"
  },
  {
   "cell_type": "code",
   "execution_count": 101,
   "outputs": [
    {
     "name": "stdout",
     "output_type": "stream",
     "text": [
      "Training :  ['A' 'B' 'C' 'D' 'E' 'F' 'G' 'T']\n",
      "Testing  :  ['A' 'B' 'C' 'D' 'E' 'F' 'G' 'T']\n"
     ]
    }
   ],
   "source": [
    "cd_train = train_2[\"Cabin Deck\"].unique()\n",
    "cd_test = test_2[\"Cabin Deck\"].unique()\n",
    "cd_train.sort()\n",
    "cd_test.sort()\n",
    "print(\"Training : \",cd_train)\n",
    "print(\"Testing  : \",cd_test)"
   ],
   "metadata": {
    "collapsed": false,
    "ExecuteTime": {
     "end_time": "2023-08-19T21:38:43.320337Z",
     "start_time": "2023-08-19T21:38:43.313400Z"
    }
   },
   "id": "e2fc97f0cb3861d3"
  },
  {
   "cell_type": "markdown",
   "source": [
    "### Decimal to binary converter function for binary encoding"
   ],
   "metadata": {
    "collapsed": false
   },
   "id": "f972992c7ea248dd"
  },
  {
   "cell_type": "code",
   "execution_count": 227,
   "outputs": [],
   "source": [
    "def bin_to_dec(num,num_ele):\n",
    "    size = int(np.floor(np.log2(num_ele)))\n",
    "    n = num\n",
    "    s = []\n",
    "    ctr = 0\n",
    "    while n>0:\n",
    "        r = int(n % 2)\n",
    "        n = int(n / 2)\n",
    "        s.append(r)\n",
    "        ctr += 1\n",
    "    for i in range(ctr,size+1):\n",
    "        s.append(0)\n",
    "    bin = s[::-1]\n",
    "    return bin"
   ],
   "metadata": {
    "collapsed": false,
    "ExecuteTime": {
     "end_time": "2023-08-19T22:05:28.503347Z",
     "start_time": "2023-08-19T22:05:28.493029Z"
    }
   },
   "id": "87ec9d6b8bff82e2"
  },
  {
   "cell_type": "code",
   "execution_count": 228,
   "outputs": [
    {
     "data": {
      "text/plain": "[0, 0, 0, 0, 1]"
     },
     "execution_count": 228,
     "metadata": {},
     "output_type": "execute_result"
    }
   ],
   "source": [
    "bin_to_dec(1,16)"
   ],
   "metadata": {
    "collapsed": false,
    "ExecuteTime": {
     "end_time": "2023-08-19T22:05:29.229689Z",
     "start_time": "2023-08-19T22:05:29.220210Z"
    }
   },
   "id": "ed3ad9c1859f1f78"
  },
  {
   "cell_type": "markdown",
   "source": [
    "### Performing Binary Encoding for \"Cabin Deck\" feature"
   ],
   "metadata": {
    "collapsed": false
   },
   "id": "246c4500e919a88e"
  },
  {
   "cell_type": "code",
   "execution_count": 117,
   "outputs": [],
   "source": [
    "ctr = 0\n",
    "d = dict()\n",
    "for i in cd_train:\n",
    "    d[i] = ctr\n",
    "    ctr += 1\n",
    "train_2[\"Cabin Deck\"] = train_2[\"Cabin Deck\"].map(d)\n",
    "test_2[\"Cabin Deck\"] = test_2[\"Cabin Deck\"].map(d)"
   ],
   "metadata": {
    "collapsed": false,
    "ExecuteTime": {
     "end_time": "2023-08-19T21:46:36.477269Z",
     "start_time": "2023-08-19T21:46:36.472904Z"
    }
   },
   "id": "b3e434bc21e5af71"
  },
  {
   "cell_type": "code",
   "execution_count": 124,
   "outputs": [
    {
     "ename": "TypeError",
     "evalue": "only integer scalar arrays can be converted to a scalar index",
     "output_type": "error",
     "traceback": [
      "\u001B[0;31m---------------------------------------------------------------------------\u001B[0m",
      "\u001B[0;31mTypeError\u001B[0m                                 Traceback (most recent call last)",
      "Cell \u001B[0;32mIn[124], line 1\u001B[0m\n\u001B[0;32m----> 1\u001B[0m np\u001B[38;5;241m.\u001B[39mbinary_repr(train_2[\u001B[38;5;124m\"\u001B[39m\u001B[38;5;124mCabin Deck\u001B[39m\u001B[38;5;124m\"\u001B[39m]\u001B[38;5;241m.\u001B[39mto_numpy())\n",
      "File \u001B[0;32m~/anaconda3/lib/python3.11/site-packages/numpy/core/numeric.py:2040\u001B[0m, in \u001B[0;36mbinary_repr\u001B[0;34m(num, width)\u001B[0m\n\u001B[1;32m   2033\u001B[0m         warnings\u001B[38;5;241m.\u001B[39mwarn(\n\u001B[1;32m   2034\u001B[0m             \u001B[38;5;124m\"\u001B[39m\u001B[38;5;124mInsufficient bit width provided. This behavior \u001B[39m\u001B[38;5;124m\"\u001B[39m\n\u001B[1;32m   2035\u001B[0m             \u001B[38;5;124m\"\u001B[39m\u001B[38;5;124mwill raise an error in the future.\u001B[39m\u001B[38;5;124m\"\u001B[39m, \u001B[38;5;167;01mDeprecationWarning\u001B[39;00m,\n\u001B[1;32m   2036\u001B[0m             stacklevel\u001B[38;5;241m=\u001B[39m\u001B[38;5;241m3\u001B[39m)\n\u001B[1;32m   2038\u001B[0m \u001B[38;5;66;03m# Ensure that num is a Python integer to avoid overflow or unwanted\u001B[39;00m\n\u001B[1;32m   2039\u001B[0m \u001B[38;5;66;03m# casts to floating point.\u001B[39;00m\n\u001B[0;32m-> 2040\u001B[0m num \u001B[38;5;241m=\u001B[39m operator\u001B[38;5;241m.\u001B[39mindex(num)\n\u001B[1;32m   2042\u001B[0m \u001B[38;5;28;01mif\u001B[39;00m num \u001B[38;5;241m==\u001B[39m \u001B[38;5;241m0\u001B[39m:\n\u001B[1;32m   2043\u001B[0m     \u001B[38;5;28;01mreturn\u001B[39;00m \u001B[38;5;124m'\u001B[39m\u001B[38;5;124m0\u001B[39m\u001B[38;5;124m'\u001B[39m \u001B[38;5;241m*\u001B[39m (width \u001B[38;5;129;01mor\u001B[39;00m \u001B[38;5;241m1\u001B[39m)\n",
      "\u001B[0;31mTypeError\u001B[0m: only integer scalar arrays can be converted to a scalar index"
     ]
    }
   ],
   "source": [
    "np.binary_repr(train_2[\"Cabin Deck\"].to_numpy())"
   ],
   "metadata": {
    "collapsed": false,
    "ExecuteTime": {
     "end_time": "2023-08-19T21:48:00.141659Z",
     "start_time": "2023-08-19T21:48:00.124617Z"
    }
   },
   "id": "4db315eee89ba2e4"
  },
  {
   "cell_type": "code",
   "execution_count": null,
   "outputs": [],
   "source": [],
   "metadata": {
    "collapsed": false
   },
   "id": "25275565908bff23"
  }
 ],
 "metadata": {
  "kernelspec": {
   "display_name": "Python 3",
   "language": "python",
   "name": "python3"
  },
  "language_info": {
   "codemirror_mode": {
    "name": "ipython",
    "version": 2
   },
   "file_extension": ".py",
   "mimetype": "text/x-python",
   "name": "python",
   "nbconvert_exporter": "python",
   "pygments_lexer": "ipython2",
   "version": "2.7.6"
  }
 },
 "nbformat": 4,
 "nbformat_minor": 5
}
