{
 "cells": [
  {
   "cell_type": "markdown",
   "source": [
    "## Data Preprocessing"
   ],
   "metadata": {
    "collapsed": false
   },
   "id": "3c1436614d76a480"
  },
  {
   "cell_type": "markdown",
   "source": [
    "Now, we are done with exploratory data analysis of both training and testing datasets. Now, we should get into preprocessing for both the datasets as some of the features are not numerical."
   ],
   "metadata": {
    "collapsed": false
   },
   "id": "fa30d52e49859747"
  },
  {
   "cell_type": "markdown",
   "source": [
    "### Importing all packages"
   ],
   "metadata": {
    "collapsed": false
   },
   "id": "b39eb546f3f2a75a"
  },
  {
   "cell_type": "code",
   "execution_count": 320,
   "outputs": [],
   "source": [
    "import numpy as np\n",
    "import pandas as pd\n",
    "import matplotlib.pyplot as plt\n",
    "import seaborn as sns\n",
    "from sklearn.model_selection import *\n",
    "from sklearn.linear_model import *\n",
    "from math import *\n",
    "from sklearn.ensemble import *\n",
    "from sklearn.feature_selection import *\n",
    "from sklearn.feature_extraction import *\n",
    "from sklearn.naive_bayes import *\n",
    "from sklearn.discriminant_analysis import *\n",
    "from sklearn.preprocessing import *\n",
    "from sklearn.metrics import *\n",
    "from sklearn.neighbors import *\n",
    "from sklearn.cluster import *"
   ],
   "metadata": {
    "collapsed": false,
    "ExecuteTime": {
     "end_time": "2023-08-20T02:18:07.779516Z",
     "start_time": "2023-08-20T02:18:07.773062Z"
    }
   },
   "id": "943203979980312"
  },
  {
   "cell_type": "markdown",
   "source": [
    "### Importing all datasets"
   ],
   "metadata": {
    "collapsed": false
   },
   "id": "52ae0dfad44e1d43"
  },
  {
   "cell_type": "code",
   "execution_count": 321,
   "outputs": [],
   "source": [
    "df_train = pd.read_csv(\"train_eda.csv\")\n",
    "df_test = pd.read_csv(\"test_eda.csv\")"
   ],
   "metadata": {
    "collapsed": false,
    "ExecuteTime": {
     "end_time": "2023-08-20T02:18:08.288960Z",
     "start_time": "2023-08-20T02:18:08.262758Z"
    }
   },
   "id": "73d3d262210ae7ec"
  },
  {
   "cell_type": "markdown",
   "source": [
    "### Displaying first 5 elements of training dataset"
   ],
   "metadata": {
    "collapsed": false
   },
   "id": "b86696ebc05df4c8"
  },
  {
   "cell_type": "code",
   "execution_count": 322,
   "outputs": [
    {
     "data": {
      "text/plain": "   index PassengerId HomePlanet Cabin Deck  Cabin Number Cabin Side  \\\n0      0     0001_01     Europa          B             0          P   \n1      1     0002_01      Earth          F             0          S   \n2      2     0003_01     Europa          A             0          S   \n3      3     0003_02     Europa          A             0          S   \n4      4     0004_01      Earth          F             1          S   \n\n   CryoSleep  Destination   Age    VIP  RoomService  FoodCourt  ShoppingMall  \\\n0      False  TRAPPIST-1e  27.0  False          0.0        0.0           0.0   \n1      False  TRAPPIST-1e  27.0  False        109.0        9.0          25.0   \n2      False  TRAPPIST-1e  27.0   True         43.0     3576.0           0.0   \n3      False  TRAPPIST-1e  27.0  False          0.0     1283.0         371.0   \n4      False  TRAPPIST-1e  27.0  False        303.0       70.0         151.0   \n\n      Spa  VRDeck  Transported  \n0     0.0     0.0        False  \n1   549.0    44.0         True  \n2  6715.0    49.0        False  \n3  3329.0   193.0        False  \n4   565.0     2.0         True  ",
      "text/html": "<div>\n<style scoped>\n    .dataframe tbody tr th:only-of-type {\n        vertical-align: middle;\n    }\n\n    .dataframe tbody tr th {\n        vertical-align: top;\n    }\n\n    .dataframe thead th {\n        text-align: right;\n    }\n</style>\n<table border=\"1\" class=\"dataframe\">\n  <thead>\n    <tr style=\"text-align: right;\">\n      <th></th>\n      <th>index</th>\n      <th>PassengerId</th>\n      <th>HomePlanet</th>\n      <th>Cabin Deck</th>\n      <th>Cabin Number</th>\n      <th>Cabin Side</th>\n      <th>CryoSleep</th>\n      <th>Destination</th>\n      <th>Age</th>\n      <th>VIP</th>\n      <th>RoomService</th>\n      <th>FoodCourt</th>\n      <th>ShoppingMall</th>\n      <th>Spa</th>\n      <th>VRDeck</th>\n      <th>Transported</th>\n    </tr>\n  </thead>\n  <tbody>\n    <tr>\n      <th>0</th>\n      <td>0</td>\n      <td>0001_01</td>\n      <td>Europa</td>\n      <td>B</td>\n      <td>0</td>\n      <td>P</td>\n      <td>False</td>\n      <td>TRAPPIST-1e</td>\n      <td>27.0</td>\n      <td>False</td>\n      <td>0.0</td>\n      <td>0.0</td>\n      <td>0.0</td>\n      <td>0.0</td>\n      <td>0.0</td>\n      <td>False</td>\n    </tr>\n    <tr>\n      <th>1</th>\n      <td>1</td>\n      <td>0002_01</td>\n      <td>Earth</td>\n      <td>F</td>\n      <td>0</td>\n      <td>S</td>\n      <td>False</td>\n      <td>TRAPPIST-1e</td>\n      <td>27.0</td>\n      <td>False</td>\n      <td>109.0</td>\n      <td>9.0</td>\n      <td>25.0</td>\n      <td>549.0</td>\n      <td>44.0</td>\n      <td>True</td>\n    </tr>\n    <tr>\n      <th>2</th>\n      <td>2</td>\n      <td>0003_01</td>\n      <td>Europa</td>\n      <td>A</td>\n      <td>0</td>\n      <td>S</td>\n      <td>False</td>\n      <td>TRAPPIST-1e</td>\n      <td>27.0</td>\n      <td>True</td>\n      <td>43.0</td>\n      <td>3576.0</td>\n      <td>0.0</td>\n      <td>6715.0</td>\n      <td>49.0</td>\n      <td>False</td>\n    </tr>\n    <tr>\n      <th>3</th>\n      <td>3</td>\n      <td>0003_02</td>\n      <td>Europa</td>\n      <td>A</td>\n      <td>0</td>\n      <td>S</td>\n      <td>False</td>\n      <td>TRAPPIST-1e</td>\n      <td>27.0</td>\n      <td>False</td>\n      <td>0.0</td>\n      <td>1283.0</td>\n      <td>371.0</td>\n      <td>3329.0</td>\n      <td>193.0</td>\n      <td>False</td>\n    </tr>\n    <tr>\n      <th>4</th>\n      <td>4</td>\n      <td>0004_01</td>\n      <td>Earth</td>\n      <td>F</td>\n      <td>1</td>\n      <td>S</td>\n      <td>False</td>\n      <td>TRAPPIST-1e</td>\n      <td>27.0</td>\n      <td>False</td>\n      <td>303.0</td>\n      <td>70.0</td>\n      <td>151.0</td>\n      <td>565.0</td>\n      <td>2.0</td>\n      <td>True</td>\n    </tr>\n  </tbody>\n</table>\n</div>"
     },
     "execution_count": 322,
     "metadata": {},
     "output_type": "execute_result"
    }
   ],
   "source": [
    "df_train.head()"
   ],
   "metadata": {
    "collapsed": false,
    "ExecuteTime": {
     "end_time": "2023-08-20T02:18:08.876067Z",
     "start_time": "2023-08-20T02:18:08.872923Z"
    }
   },
   "id": "c3bf75fa313674be"
  },
  {
   "cell_type": "markdown",
   "source": [
    "### Displaying first 5 elements of testing dataset"
   ],
   "metadata": {
    "collapsed": false
   },
   "id": "df4ae952716e0e5f"
  },
  {
   "cell_type": "code",
   "execution_count": 323,
   "outputs": [
    {
     "data": {
      "text/plain": "   index PassengerId HomePlanet Cabin Deck  Cabin Number Cabin Side  \\\n0      0     0013_01      Earth          G             3          S   \n1      1     0018_01      Earth          F             4          S   \n2      2     0019_01     Europa          C             0          S   \n3      3     0021_01     Europa          C             1          S   \n4      4     0023_01      Earth          F             5          S   \n\n   CryoSleep  Destination   Age    VIP  RoomService  FoodCourt  ShoppingMall  \\\n0       True  TRAPPIST-1e  26.0  False          0.0        0.0           0.0   \n1      False  TRAPPIST-1e  26.0  False          0.0        9.0           0.0   \n2       True  55 Cancri e  26.0  False          0.0        0.0           0.0   \n3      False  TRAPPIST-1e  26.0  False          0.0     6652.0           0.0   \n4      False  TRAPPIST-1e  26.0  False         10.0        0.0         635.0   \n\n      Spa  VRDeck  \n0     0.0     0.0  \n1  2823.0     0.0  \n2     0.0     0.0  \n3   181.0   585.0  \n4     0.0     0.0  ",
      "text/html": "<div>\n<style scoped>\n    .dataframe tbody tr th:only-of-type {\n        vertical-align: middle;\n    }\n\n    .dataframe tbody tr th {\n        vertical-align: top;\n    }\n\n    .dataframe thead th {\n        text-align: right;\n    }\n</style>\n<table border=\"1\" class=\"dataframe\">\n  <thead>\n    <tr style=\"text-align: right;\">\n      <th></th>\n      <th>index</th>\n      <th>PassengerId</th>\n      <th>HomePlanet</th>\n      <th>Cabin Deck</th>\n      <th>Cabin Number</th>\n      <th>Cabin Side</th>\n      <th>CryoSleep</th>\n      <th>Destination</th>\n      <th>Age</th>\n      <th>VIP</th>\n      <th>RoomService</th>\n      <th>FoodCourt</th>\n      <th>ShoppingMall</th>\n      <th>Spa</th>\n      <th>VRDeck</th>\n    </tr>\n  </thead>\n  <tbody>\n    <tr>\n      <th>0</th>\n      <td>0</td>\n      <td>0013_01</td>\n      <td>Earth</td>\n      <td>G</td>\n      <td>3</td>\n      <td>S</td>\n      <td>True</td>\n      <td>TRAPPIST-1e</td>\n      <td>26.0</td>\n      <td>False</td>\n      <td>0.0</td>\n      <td>0.0</td>\n      <td>0.0</td>\n      <td>0.0</td>\n      <td>0.0</td>\n    </tr>\n    <tr>\n      <th>1</th>\n      <td>1</td>\n      <td>0018_01</td>\n      <td>Earth</td>\n      <td>F</td>\n      <td>4</td>\n      <td>S</td>\n      <td>False</td>\n      <td>TRAPPIST-1e</td>\n      <td>26.0</td>\n      <td>False</td>\n      <td>0.0</td>\n      <td>9.0</td>\n      <td>0.0</td>\n      <td>2823.0</td>\n      <td>0.0</td>\n    </tr>\n    <tr>\n      <th>2</th>\n      <td>2</td>\n      <td>0019_01</td>\n      <td>Europa</td>\n      <td>C</td>\n      <td>0</td>\n      <td>S</td>\n      <td>True</td>\n      <td>55 Cancri e</td>\n      <td>26.0</td>\n      <td>False</td>\n      <td>0.0</td>\n      <td>0.0</td>\n      <td>0.0</td>\n      <td>0.0</td>\n      <td>0.0</td>\n    </tr>\n    <tr>\n      <th>3</th>\n      <td>3</td>\n      <td>0021_01</td>\n      <td>Europa</td>\n      <td>C</td>\n      <td>1</td>\n      <td>S</td>\n      <td>False</td>\n      <td>TRAPPIST-1e</td>\n      <td>26.0</td>\n      <td>False</td>\n      <td>0.0</td>\n      <td>6652.0</td>\n      <td>0.0</td>\n      <td>181.0</td>\n      <td>585.0</td>\n    </tr>\n    <tr>\n      <th>4</th>\n      <td>4</td>\n      <td>0023_01</td>\n      <td>Earth</td>\n      <td>F</td>\n      <td>5</td>\n      <td>S</td>\n      <td>False</td>\n      <td>TRAPPIST-1e</td>\n      <td>26.0</td>\n      <td>False</td>\n      <td>10.0</td>\n      <td>0.0</td>\n      <td>635.0</td>\n      <td>0.0</td>\n      <td>0.0</td>\n    </tr>\n  </tbody>\n</table>\n</div>"
     },
     "execution_count": 323,
     "metadata": {},
     "output_type": "execute_result"
    }
   ],
   "source": [
    "df_test.head()"
   ],
   "metadata": {
    "collapsed": false,
    "ExecuteTime": {
     "end_time": "2023-08-20T02:18:09.385082Z",
     "start_time": "2023-08-20T02:18:09.382889Z"
    }
   },
   "id": "b5fd9fe61599c990"
  },
  {
   "cell_type": "markdown",
   "source": [
    "### Removal of dummy column \"index\" in both the datasets"
   ],
   "metadata": {
    "collapsed": false
   },
   "id": "50c6402cfc1dd397"
  },
  {
   "cell_type": "code",
   "execution_count": 324,
   "outputs": [],
   "source": [
    "train_1 = df_train.drop(\"index\",axis=1,inplace=False)\n",
    "test_1 = df_test.drop(\"index\",axis=1,inplace=False)"
   ],
   "metadata": {
    "collapsed": false,
    "ExecuteTime": {
     "end_time": "2023-08-20T02:18:09.977261Z",
     "start_time": "2023-08-20T02:18:09.970884Z"
    }
   },
   "id": "4cd0094b40d4aefa"
  },
  {
   "cell_type": "code",
   "execution_count": 325,
   "outputs": [
    {
     "data": {
      "text/plain": "  PassengerId HomePlanet Cabin Deck  Cabin Number Cabin Side  CryoSleep  \\\n0     0001_01     Europa          B             0          P      False   \n1     0002_01      Earth          F             0          S      False   \n2     0003_01     Europa          A             0          S      False   \n3     0003_02     Europa          A             0          S      False   \n4     0004_01      Earth          F             1          S      False   \n\n   Destination   Age    VIP  RoomService  FoodCourt  ShoppingMall     Spa  \\\n0  TRAPPIST-1e  27.0  False          0.0        0.0           0.0     0.0   \n1  TRAPPIST-1e  27.0  False        109.0        9.0          25.0   549.0   \n2  TRAPPIST-1e  27.0   True         43.0     3576.0           0.0  6715.0   \n3  TRAPPIST-1e  27.0  False          0.0     1283.0         371.0  3329.0   \n4  TRAPPIST-1e  27.0  False        303.0       70.0         151.0   565.0   \n\n   VRDeck  Transported  \n0     0.0        False  \n1    44.0         True  \n2    49.0        False  \n3   193.0        False  \n4     2.0         True  ",
      "text/html": "<div>\n<style scoped>\n    .dataframe tbody tr th:only-of-type {\n        vertical-align: middle;\n    }\n\n    .dataframe tbody tr th {\n        vertical-align: top;\n    }\n\n    .dataframe thead th {\n        text-align: right;\n    }\n</style>\n<table border=\"1\" class=\"dataframe\">\n  <thead>\n    <tr style=\"text-align: right;\">\n      <th></th>\n      <th>PassengerId</th>\n      <th>HomePlanet</th>\n      <th>Cabin Deck</th>\n      <th>Cabin Number</th>\n      <th>Cabin Side</th>\n      <th>CryoSleep</th>\n      <th>Destination</th>\n      <th>Age</th>\n      <th>VIP</th>\n      <th>RoomService</th>\n      <th>FoodCourt</th>\n      <th>ShoppingMall</th>\n      <th>Spa</th>\n      <th>VRDeck</th>\n      <th>Transported</th>\n    </tr>\n  </thead>\n  <tbody>\n    <tr>\n      <th>0</th>\n      <td>0001_01</td>\n      <td>Europa</td>\n      <td>B</td>\n      <td>0</td>\n      <td>P</td>\n      <td>False</td>\n      <td>TRAPPIST-1e</td>\n      <td>27.0</td>\n      <td>False</td>\n      <td>0.0</td>\n      <td>0.0</td>\n      <td>0.0</td>\n      <td>0.0</td>\n      <td>0.0</td>\n      <td>False</td>\n    </tr>\n    <tr>\n      <th>1</th>\n      <td>0002_01</td>\n      <td>Earth</td>\n      <td>F</td>\n      <td>0</td>\n      <td>S</td>\n      <td>False</td>\n      <td>TRAPPIST-1e</td>\n      <td>27.0</td>\n      <td>False</td>\n      <td>109.0</td>\n      <td>9.0</td>\n      <td>25.0</td>\n      <td>549.0</td>\n      <td>44.0</td>\n      <td>True</td>\n    </tr>\n    <tr>\n      <th>2</th>\n      <td>0003_01</td>\n      <td>Europa</td>\n      <td>A</td>\n      <td>0</td>\n      <td>S</td>\n      <td>False</td>\n      <td>TRAPPIST-1e</td>\n      <td>27.0</td>\n      <td>True</td>\n      <td>43.0</td>\n      <td>3576.0</td>\n      <td>0.0</td>\n      <td>6715.0</td>\n      <td>49.0</td>\n      <td>False</td>\n    </tr>\n    <tr>\n      <th>3</th>\n      <td>0003_02</td>\n      <td>Europa</td>\n      <td>A</td>\n      <td>0</td>\n      <td>S</td>\n      <td>False</td>\n      <td>TRAPPIST-1e</td>\n      <td>27.0</td>\n      <td>False</td>\n      <td>0.0</td>\n      <td>1283.0</td>\n      <td>371.0</td>\n      <td>3329.0</td>\n      <td>193.0</td>\n      <td>False</td>\n    </tr>\n    <tr>\n      <th>4</th>\n      <td>0004_01</td>\n      <td>Earth</td>\n      <td>F</td>\n      <td>1</td>\n      <td>S</td>\n      <td>False</td>\n      <td>TRAPPIST-1e</td>\n      <td>27.0</td>\n      <td>False</td>\n      <td>303.0</td>\n      <td>70.0</td>\n      <td>151.0</td>\n      <td>565.0</td>\n      <td>2.0</td>\n      <td>True</td>\n    </tr>\n  </tbody>\n</table>\n</div>"
     },
     "execution_count": 325,
     "metadata": {},
     "output_type": "execute_result"
    }
   ],
   "source": [
    "train_1.head()"
   ],
   "metadata": {
    "collapsed": false,
    "ExecuteTime": {
     "end_time": "2023-08-20T02:18:10.304161Z",
     "start_time": "2023-08-20T02:18:10.301158Z"
    }
   },
   "id": "bd58bfe1cf8debb3"
  },
  {
   "cell_type": "code",
   "execution_count": 326,
   "outputs": [
    {
     "data": {
      "text/plain": "  PassengerId HomePlanet Cabin Deck  Cabin Number Cabin Side  CryoSleep  \\\n0     0013_01      Earth          G             3          S       True   \n1     0018_01      Earth          F             4          S      False   \n2     0019_01     Europa          C             0          S       True   \n3     0021_01     Europa          C             1          S      False   \n4     0023_01      Earth          F             5          S      False   \n\n   Destination   Age    VIP  RoomService  FoodCourt  ShoppingMall     Spa  \\\n0  TRAPPIST-1e  26.0  False          0.0        0.0           0.0     0.0   \n1  TRAPPIST-1e  26.0  False          0.0        9.0           0.0  2823.0   \n2  55 Cancri e  26.0  False          0.0        0.0           0.0     0.0   \n3  TRAPPIST-1e  26.0  False          0.0     6652.0           0.0   181.0   \n4  TRAPPIST-1e  26.0  False         10.0        0.0         635.0     0.0   \n\n   VRDeck  \n0     0.0  \n1     0.0  \n2     0.0  \n3   585.0  \n4     0.0  ",
      "text/html": "<div>\n<style scoped>\n    .dataframe tbody tr th:only-of-type {\n        vertical-align: middle;\n    }\n\n    .dataframe tbody tr th {\n        vertical-align: top;\n    }\n\n    .dataframe thead th {\n        text-align: right;\n    }\n</style>\n<table border=\"1\" class=\"dataframe\">\n  <thead>\n    <tr style=\"text-align: right;\">\n      <th></th>\n      <th>PassengerId</th>\n      <th>HomePlanet</th>\n      <th>Cabin Deck</th>\n      <th>Cabin Number</th>\n      <th>Cabin Side</th>\n      <th>CryoSleep</th>\n      <th>Destination</th>\n      <th>Age</th>\n      <th>VIP</th>\n      <th>RoomService</th>\n      <th>FoodCourt</th>\n      <th>ShoppingMall</th>\n      <th>Spa</th>\n      <th>VRDeck</th>\n    </tr>\n  </thead>\n  <tbody>\n    <tr>\n      <th>0</th>\n      <td>0013_01</td>\n      <td>Earth</td>\n      <td>G</td>\n      <td>3</td>\n      <td>S</td>\n      <td>True</td>\n      <td>TRAPPIST-1e</td>\n      <td>26.0</td>\n      <td>False</td>\n      <td>0.0</td>\n      <td>0.0</td>\n      <td>0.0</td>\n      <td>0.0</td>\n      <td>0.0</td>\n    </tr>\n    <tr>\n      <th>1</th>\n      <td>0018_01</td>\n      <td>Earth</td>\n      <td>F</td>\n      <td>4</td>\n      <td>S</td>\n      <td>False</td>\n      <td>TRAPPIST-1e</td>\n      <td>26.0</td>\n      <td>False</td>\n      <td>0.0</td>\n      <td>9.0</td>\n      <td>0.0</td>\n      <td>2823.0</td>\n      <td>0.0</td>\n    </tr>\n    <tr>\n      <th>2</th>\n      <td>0019_01</td>\n      <td>Europa</td>\n      <td>C</td>\n      <td>0</td>\n      <td>S</td>\n      <td>True</td>\n      <td>55 Cancri e</td>\n      <td>26.0</td>\n      <td>False</td>\n      <td>0.0</td>\n      <td>0.0</td>\n      <td>0.0</td>\n      <td>0.0</td>\n      <td>0.0</td>\n    </tr>\n    <tr>\n      <th>3</th>\n      <td>0021_01</td>\n      <td>Europa</td>\n      <td>C</td>\n      <td>1</td>\n      <td>S</td>\n      <td>False</td>\n      <td>TRAPPIST-1e</td>\n      <td>26.0</td>\n      <td>False</td>\n      <td>0.0</td>\n      <td>6652.0</td>\n      <td>0.0</td>\n      <td>181.0</td>\n      <td>585.0</td>\n    </tr>\n    <tr>\n      <th>4</th>\n      <td>0023_01</td>\n      <td>Earth</td>\n      <td>F</td>\n      <td>5</td>\n      <td>S</td>\n      <td>False</td>\n      <td>TRAPPIST-1e</td>\n      <td>26.0</td>\n      <td>False</td>\n      <td>10.0</td>\n      <td>0.0</td>\n      <td>635.0</td>\n      <td>0.0</td>\n      <td>0.0</td>\n    </tr>\n  </tbody>\n</table>\n</div>"
     },
     "execution_count": 326,
     "metadata": {},
     "output_type": "execute_result"
    }
   ],
   "source": [
    "test_1.head()"
   ],
   "metadata": {
    "collapsed": false,
    "ExecuteTime": {
     "end_time": "2023-08-20T02:18:10.602006Z",
     "start_time": "2023-08-20T02:18:10.598180Z"
    }
   },
   "id": "e940792307753a5f"
  },
  {
   "cell_type": "markdown",
   "source": [
    "### Checking for unique values in \"HomePlanet\" feature"
   ],
   "metadata": {
    "collapsed": false
   },
   "id": "924419bd9f1f82b0"
  },
  {
   "cell_type": "code",
   "execution_count": 327,
   "outputs": [
    {
     "name": "stdout",
     "output_type": "stream",
     "text": [
      "Training :  ['Earth' 'Europa' 'Mars']\n",
      "Testing  :  ['Earth' 'Europa' 'Mars']\n"
     ]
    }
   ],
   "source": [
    "hp_train = train_1[\"HomePlanet\"].unique()\n",
    "hp_test = test_1[\"HomePlanet\"].unique()\n",
    "hp_train.sort()\n",
    "hp_test.sort()\n",
    "print(\"Training : \",hp_train)\n",
    "print(\"Testing  : \",hp_test)"
   ],
   "metadata": {
    "collapsed": false,
    "ExecuteTime": {
     "end_time": "2023-08-20T02:18:11.224472Z",
     "start_time": "2023-08-20T02:18:11.211732Z"
    }
   },
   "id": "9ed0b140e1026077"
  },
  {
   "cell_type": "markdown",
   "source": [
    "### Performing one-hot encoding for \"HomePlanet\" feature"
   ],
   "metadata": {
    "collapsed": false
   },
   "id": "936cfbf1ab96e867"
  },
  {
   "cell_type": "code",
   "execution_count": 328,
   "outputs": [],
   "source": [
    "ohe = OneHotEncoder(drop=[[\"Earth\"]])\n",
    "train_ohe = ohe.fit_transform(train_1[\"HomePlanet\"].to_numpy().reshape(-1,1)).toarray()\n",
    "test_ohe = ohe.fit_transform(test_1[\"HomePlanet\"].to_numpy().reshape(-1,1)).toarray()\n",
    "home_planet_train = pd.DataFrame(train_ohe,columns=[\"HomePlanet_Europa\",\"HomePlanet_Mars\"])\n",
    "home_planet_test = pd.DataFrame(test_ohe,columns=[\"HomePlanet_Europa\",\"HomePlanet_Mars\"])"
   ],
   "metadata": {
    "collapsed": false,
    "ExecuteTime": {
     "end_time": "2023-08-20T02:18:11.869230Z",
     "start_time": "2023-08-20T02:18:11.863312Z"
    }
   },
   "id": "abb2ba0df8f91929"
  },
  {
   "cell_type": "code",
   "execution_count": 329,
   "outputs": [
    {
     "data": {
      "text/plain": "  PassengerId  HomePlanet_Europa  HomePlanet_Mars Cabin Deck  Cabin Number  \\\n0     0001_01                1.0              0.0          B             0   \n1     0002_01                0.0              0.0          F             0   \n2     0003_01                1.0              0.0          A             0   \n3     0003_02                1.0              0.0          A             0   \n4     0004_01                0.0              0.0          F             1   \n\n  Cabin Side  CryoSleep  Destination   Age    VIP  RoomService  FoodCourt  \\\n0          P      False  TRAPPIST-1e  27.0  False          0.0        0.0   \n1          S      False  TRAPPIST-1e  27.0  False        109.0        9.0   \n2          S      False  TRAPPIST-1e  27.0   True         43.0     3576.0   \n3          S      False  TRAPPIST-1e  27.0  False          0.0     1283.0   \n4          S      False  TRAPPIST-1e  27.0  False        303.0       70.0   \n\n   ShoppingMall     Spa  VRDeck  Transported  \n0           0.0     0.0     0.0        False  \n1          25.0   549.0    44.0         True  \n2           0.0  6715.0    49.0        False  \n3         371.0  3329.0   193.0        False  \n4         151.0   565.0     2.0         True  ",
      "text/html": "<div>\n<style scoped>\n    .dataframe tbody tr th:only-of-type {\n        vertical-align: middle;\n    }\n\n    .dataframe tbody tr th {\n        vertical-align: top;\n    }\n\n    .dataframe thead th {\n        text-align: right;\n    }\n</style>\n<table border=\"1\" class=\"dataframe\">\n  <thead>\n    <tr style=\"text-align: right;\">\n      <th></th>\n      <th>PassengerId</th>\n      <th>HomePlanet_Europa</th>\n      <th>HomePlanet_Mars</th>\n      <th>Cabin Deck</th>\n      <th>Cabin Number</th>\n      <th>Cabin Side</th>\n      <th>CryoSleep</th>\n      <th>Destination</th>\n      <th>Age</th>\n      <th>VIP</th>\n      <th>RoomService</th>\n      <th>FoodCourt</th>\n      <th>ShoppingMall</th>\n      <th>Spa</th>\n      <th>VRDeck</th>\n      <th>Transported</th>\n    </tr>\n  </thead>\n  <tbody>\n    <tr>\n      <th>0</th>\n      <td>0001_01</td>\n      <td>1.0</td>\n      <td>0.0</td>\n      <td>B</td>\n      <td>0</td>\n      <td>P</td>\n      <td>False</td>\n      <td>TRAPPIST-1e</td>\n      <td>27.0</td>\n      <td>False</td>\n      <td>0.0</td>\n      <td>0.0</td>\n      <td>0.0</td>\n      <td>0.0</td>\n      <td>0.0</td>\n      <td>False</td>\n    </tr>\n    <tr>\n      <th>1</th>\n      <td>0002_01</td>\n      <td>0.0</td>\n      <td>0.0</td>\n      <td>F</td>\n      <td>0</td>\n      <td>S</td>\n      <td>False</td>\n      <td>TRAPPIST-1e</td>\n      <td>27.0</td>\n      <td>False</td>\n      <td>109.0</td>\n      <td>9.0</td>\n      <td>25.0</td>\n      <td>549.0</td>\n      <td>44.0</td>\n      <td>True</td>\n    </tr>\n    <tr>\n      <th>2</th>\n      <td>0003_01</td>\n      <td>1.0</td>\n      <td>0.0</td>\n      <td>A</td>\n      <td>0</td>\n      <td>S</td>\n      <td>False</td>\n      <td>TRAPPIST-1e</td>\n      <td>27.0</td>\n      <td>True</td>\n      <td>43.0</td>\n      <td>3576.0</td>\n      <td>0.0</td>\n      <td>6715.0</td>\n      <td>49.0</td>\n      <td>False</td>\n    </tr>\n    <tr>\n      <th>3</th>\n      <td>0003_02</td>\n      <td>1.0</td>\n      <td>0.0</td>\n      <td>A</td>\n      <td>0</td>\n      <td>S</td>\n      <td>False</td>\n      <td>TRAPPIST-1e</td>\n      <td>27.0</td>\n      <td>False</td>\n      <td>0.0</td>\n      <td>1283.0</td>\n      <td>371.0</td>\n      <td>3329.0</td>\n      <td>193.0</td>\n      <td>False</td>\n    </tr>\n    <tr>\n      <th>4</th>\n      <td>0004_01</td>\n      <td>0.0</td>\n      <td>0.0</td>\n      <td>F</td>\n      <td>1</td>\n      <td>S</td>\n      <td>False</td>\n      <td>TRAPPIST-1e</td>\n      <td>27.0</td>\n      <td>False</td>\n      <td>303.0</td>\n      <td>70.0</td>\n      <td>151.0</td>\n      <td>565.0</td>\n      <td>2.0</td>\n      <td>True</td>\n    </tr>\n  </tbody>\n</table>\n</div>"
     },
     "execution_count": 329,
     "metadata": {},
     "output_type": "execute_result"
    }
   ],
   "source": [
    "train_2 = train_1.copy()\n",
    "train_2.drop(columns=[\"HomePlanet\"],axis=1,inplace=True)\n",
    "ctr = 1\n",
    "for i in home_planet_train:\n",
    "    train_2.insert(loc=ctr,column=i,value=home_planet_train[i])\n",
    "    ctr += 1\n",
    "train_2.head()"
   ],
   "metadata": {
    "collapsed": false,
    "ExecuteTime": {
     "end_time": "2023-08-20T02:18:12.200763Z",
     "start_time": "2023-08-20T02:18:12.189627Z"
    }
   },
   "id": "391243dcf2a9758e"
  },
  {
   "cell_type": "code",
   "execution_count": 330,
   "outputs": [
    {
     "data": {
      "text/plain": "  PassengerId  HomePlanet_Europa  HomePlanet_Mars Cabin Deck  Cabin Number  \\\n0     0013_01                0.0              0.0          G             3   \n1     0018_01                0.0              0.0          F             4   \n2     0019_01                1.0              0.0          C             0   \n3     0021_01                1.0              0.0          C             1   \n4     0023_01                0.0              0.0          F             5   \n\n  Cabin Side  CryoSleep  Destination   Age    VIP  RoomService  FoodCourt  \\\n0          S       True  TRAPPIST-1e  26.0  False          0.0        0.0   \n1          S      False  TRAPPIST-1e  26.0  False          0.0        9.0   \n2          S       True  55 Cancri e  26.0  False          0.0        0.0   \n3          S      False  TRAPPIST-1e  26.0  False          0.0     6652.0   \n4          S      False  TRAPPIST-1e  26.0  False         10.0        0.0   \n\n   ShoppingMall     Spa  VRDeck  \n0           0.0     0.0     0.0  \n1           0.0  2823.0     0.0  \n2           0.0     0.0     0.0  \n3           0.0   181.0   585.0  \n4         635.0     0.0     0.0  ",
      "text/html": "<div>\n<style scoped>\n    .dataframe tbody tr th:only-of-type {\n        vertical-align: middle;\n    }\n\n    .dataframe tbody tr th {\n        vertical-align: top;\n    }\n\n    .dataframe thead th {\n        text-align: right;\n    }\n</style>\n<table border=\"1\" class=\"dataframe\">\n  <thead>\n    <tr style=\"text-align: right;\">\n      <th></th>\n      <th>PassengerId</th>\n      <th>HomePlanet_Europa</th>\n      <th>HomePlanet_Mars</th>\n      <th>Cabin Deck</th>\n      <th>Cabin Number</th>\n      <th>Cabin Side</th>\n      <th>CryoSleep</th>\n      <th>Destination</th>\n      <th>Age</th>\n      <th>VIP</th>\n      <th>RoomService</th>\n      <th>FoodCourt</th>\n      <th>ShoppingMall</th>\n      <th>Spa</th>\n      <th>VRDeck</th>\n    </tr>\n  </thead>\n  <tbody>\n    <tr>\n      <th>0</th>\n      <td>0013_01</td>\n      <td>0.0</td>\n      <td>0.0</td>\n      <td>G</td>\n      <td>3</td>\n      <td>S</td>\n      <td>True</td>\n      <td>TRAPPIST-1e</td>\n      <td>26.0</td>\n      <td>False</td>\n      <td>0.0</td>\n      <td>0.0</td>\n      <td>0.0</td>\n      <td>0.0</td>\n      <td>0.0</td>\n    </tr>\n    <tr>\n      <th>1</th>\n      <td>0018_01</td>\n      <td>0.0</td>\n      <td>0.0</td>\n      <td>F</td>\n      <td>4</td>\n      <td>S</td>\n      <td>False</td>\n      <td>TRAPPIST-1e</td>\n      <td>26.0</td>\n      <td>False</td>\n      <td>0.0</td>\n      <td>9.0</td>\n      <td>0.0</td>\n      <td>2823.0</td>\n      <td>0.0</td>\n    </tr>\n    <tr>\n      <th>2</th>\n      <td>0019_01</td>\n      <td>1.0</td>\n      <td>0.0</td>\n      <td>C</td>\n      <td>0</td>\n      <td>S</td>\n      <td>True</td>\n      <td>55 Cancri e</td>\n      <td>26.0</td>\n      <td>False</td>\n      <td>0.0</td>\n      <td>0.0</td>\n      <td>0.0</td>\n      <td>0.0</td>\n      <td>0.0</td>\n    </tr>\n    <tr>\n      <th>3</th>\n      <td>0021_01</td>\n      <td>1.0</td>\n      <td>0.0</td>\n      <td>C</td>\n      <td>1</td>\n      <td>S</td>\n      <td>False</td>\n      <td>TRAPPIST-1e</td>\n      <td>26.0</td>\n      <td>False</td>\n      <td>0.0</td>\n      <td>6652.0</td>\n      <td>0.0</td>\n      <td>181.0</td>\n      <td>585.0</td>\n    </tr>\n    <tr>\n      <th>4</th>\n      <td>0023_01</td>\n      <td>0.0</td>\n      <td>0.0</td>\n      <td>F</td>\n      <td>5</td>\n      <td>S</td>\n      <td>False</td>\n      <td>TRAPPIST-1e</td>\n      <td>26.0</td>\n      <td>False</td>\n      <td>10.0</td>\n      <td>0.0</td>\n      <td>635.0</td>\n      <td>0.0</td>\n      <td>0.0</td>\n    </tr>\n  </tbody>\n</table>\n</div>"
     },
     "execution_count": 330,
     "metadata": {},
     "output_type": "execute_result"
    }
   ],
   "source": [
    "test_2 = test_1.copy()\n",
    "test_2.drop(columns=[\"HomePlanet\"],axis=1,inplace=True)\n",
    "ctr = 1\n",
    "for i in home_planet_test:\n",
    "    test_2.insert(loc=ctr,column=i,value=home_planet_test[i])\n",
    "    ctr += 1\n",
    "test_2.head()"
   ],
   "metadata": {
    "collapsed": false,
    "ExecuteTime": {
     "end_time": "2023-08-20T02:18:12.563729Z",
     "start_time": "2023-08-20T02:18:12.558220Z"
    }
   },
   "id": "4034063e3cd6c653"
  },
  {
   "cell_type": "markdown",
   "source": [
    "### Checking for unique values in \"Cabin Deck\" feature"
   ],
   "metadata": {
    "collapsed": false
   },
   "id": "25f3f20fbe0967df"
  },
  {
   "cell_type": "code",
   "execution_count": 331,
   "outputs": [
    {
     "name": "stdout",
     "output_type": "stream",
     "text": [
      "Training :  ['A' 'B' 'C' 'D' 'E' 'F' 'G' 'T']\n",
      "Testing  :  ['A' 'B' 'C' 'D' 'E' 'F' 'G' 'T']\n"
     ]
    }
   ],
   "source": [
    "cd_train = train_2[\"Cabin Deck\"].unique()\n",
    "cd_test = test_2[\"Cabin Deck\"].unique()\n",
    "cd_train.sort()\n",
    "cd_test.sort()\n",
    "print(\"Training : \",cd_train)\n",
    "print(\"Testing  : \",cd_test)"
   ],
   "metadata": {
    "collapsed": false,
    "ExecuteTime": {
     "end_time": "2023-08-20T02:18:13.360035Z",
     "start_time": "2023-08-20T02:18:13.356593Z"
    }
   },
   "id": "e2fc97f0cb3861d3"
  },
  {
   "cell_type": "markdown",
   "source": [
    "### Performing One-Hot Encoding for \"Cabin Deck\" feature"
   ],
   "metadata": {
    "collapsed": false
   },
   "id": "246c4500e919a88e"
  },
  {
   "cell_type": "code",
   "execution_count": 332,
   "outputs": [],
   "source": [
    "ohe = OneHotEncoder(drop=[[\"A\"]])\n",
    "train_ohe = ohe.fit_transform(train_2[\"Cabin Deck\"].to_numpy().reshape(-1,1)).toarray()\n",
    "test_ohe = ohe.fit_transform(test_2[\"Cabin Deck\"].to_numpy().reshape(-1,1)).toarray()\n",
    "cabin_deck_train = pd.DataFrame(train_ohe,columns=[\"Cabin Desk B\",\"Cabin Desk C\",\"Cabin Desk D\",\"Cabin Desk E\",\"Cabin Desk F\",\"Cabin Desk G\",\"Cabin Desk T\"])\n",
    "cabin_deck_test = pd.DataFrame(test_ohe,columns=[\"Cabin Desk B\",\"Cabin Desk C\",\"Cabin Desk D\",\"Cabin Desk E\",\"Cabin Desk F\",\"Cabin Desk G\",\"Cabin Desk T\"])"
   ],
   "metadata": {
    "collapsed": false,
    "ExecuteTime": {
     "end_time": "2023-08-20T02:18:14.157371Z",
     "start_time": "2023-08-20T02:18:14.153849Z"
    }
   },
   "id": "98f8640bdfa8afa9"
  },
  {
   "cell_type": "code",
   "execution_count": 333,
   "outputs": [
    {
     "data": {
      "text/plain": "  PassengerId  HomePlanet_Europa  HomePlanet_Mars  Cabin Desk B  Cabin Desk C  \\\n0     0001_01                1.0              0.0           1.0           0.0   \n1     0002_01                0.0              0.0           0.0           0.0   \n2     0003_01                1.0              0.0           0.0           0.0   \n3     0003_02                1.0              0.0           0.0           0.0   \n4     0004_01                0.0              0.0           0.0           0.0   \n\n   Cabin Desk D  Cabin Desk E  Cabin Desk F  Cabin Desk G  Cabin Desk T  ...  \\\n0           0.0           0.0           0.0           0.0           0.0  ...   \n1           0.0           0.0           1.0           0.0           0.0  ...   \n2           0.0           0.0           0.0           0.0           0.0  ...   \n3           0.0           0.0           0.0           0.0           0.0  ...   \n4           0.0           0.0           1.0           0.0           0.0  ...   \n\n   CryoSleep  Destination   Age    VIP  RoomService  FoodCourt  ShoppingMall  \\\n0      False  TRAPPIST-1e  27.0  False          0.0        0.0           0.0   \n1      False  TRAPPIST-1e  27.0  False        109.0        9.0          25.0   \n2      False  TRAPPIST-1e  27.0   True         43.0     3576.0           0.0   \n3      False  TRAPPIST-1e  27.0  False          0.0     1283.0         371.0   \n4      False  TRAPPIST-1e  27.0  False        303.0       70.0         151.0   \n\n      Spa  VRDeck  Transported  \n0     0.0     0.0        False  \n1   549.0    44.0         True  \n2  6715.0    49.0        False  \n3  3329.0   193.0        False  \n4   565.0     2.0         True  \n\n[5 rows x 22 columns]",
      "text/html": "<div>\n<style scoped>\n    .dataframe tbody tr th:only-of-type {\n        vertical-align: middle;\n    }\n\n    .dataframe tbody tr th {\n        vertical-align: top;\n    }\n\n    .dataframe thead th {\n        text-align: right;\n    }\n</style>\n<table border=\"1\" class=\"dataframe\">\n  <thead>\n    <tr style=\"text-align: right;\">\n      <th></th>\n      <th>PassengerId</th>\n      <th>HomePlanet_Europa</th>\n      <th>HomePlanet_Mars</th>\n      <th>Cabin Desk B</th>\n      <th>Cabin Desk C</th>\n      <th>Cabin Desk D</th>\n      <th>Cabin Desk E</th>\n      <th>Cabin Desk F</th>\n      <th>Cabin Desk G</th>\n      <th>Cabin Desk T</th>\n      <th>...</th>\n      <th>CryoSleep</th>\n      <th>Destination</th>\n      <th>Age</th>\n      <th>VIP</th>\n      <th>RoomService</th>\n      <th>FoodCourt</th>\n      <th>ShoppingMall</th>\n      <th>Spa</th>\n      <th>VRDeck</th>\n      <th>Transported</th>\n    </tr>\n  </thead>\n  <tbody>\n    <tr>\n      <th>0</th>\n      <td>0001_01</td>\n      <td>1.0</td>\n      <td>0.0</td>\n      <td>1.0</td>\n      <td>0.0</td>\n      <td>0.0</td>\n      <td>0.0</td>\n      <td>0.0</td>\n      <td>0.0</td>\n      <td>0.0</td>\n      <td>...</td>\n      <td>False</td>\n      <td>TRAPPIST-1e</td>\n      <td>27.0</td>\n      <td>False</td>\n      <td>0.0</td>\n      <td>0.0</td>\n      <td>0.0</td>\n      <td>0.0</td>\n      <td>0.0</td>\n      <td>False</td>\n    </tr>\n    <tr>\n      <th>1</th>\n      <td>0002_01</td>\n      <td>0.0</td>\n      <td>0.0</td>\n      <td>0.0</td>\n      <td>0.0</td>\n      <td>0.0</td>\n      <td>0.0</td>\n      <td>1.0</td>\n      <td>0.0</td>\n      <td>0.0</td>\n      <td>...</td>\n      <td>False</td>\n      <td>TRAPPIST-1e</td>\n      <td>27.0</td>\n      <td>False</td>\n      <td>109.0</td>\n      <td>9.0</td>\n      <td>25.0</td>\n      <td>549.0</td>\n      <td>44.0</td>\n      <td>True</td>\n    </tr>\n    <tr>\n      <th>2</th>\n      <td>0003_01</td>\n      <td>1.0</td>\n      <td>0.0</td>\n      <td>0.0</td>\n      <td>0.0</td>\n      <td>0.0</td>\n      <td>0.0</td>\n      <td>0.0</td>\n      <td>0.0</td>\n      <td>0.0</td>\n      <td>...</td>\n      <td>False</td>\n      <td>TRAPPIST-1e</td>\n      <td>27.0</td>\n      <td>True</td>\n      <td>43.0</td>\n      <td>3576.0</td>\n      <td>0.0</td>\n      <td>6715.0</td>\n      <td>49.0</td>\n      <td>False</td>\n    </tr>\n    <tr>\n      <th>3</th>\n      <td>0003_02</td>\n      <td>1.0</td>\n      <td>0.0</td>\n      <td>0.0</td>\n      <td>0.0</td>\n      <td>0.0</td>\n      <td>0.0</td>\n      <td>0.0</td>\n      <td>0.0</td>\n      <td>0.0</td>\n      <td>...</td>\n      <td>False</td>\n      <td>TRAPPIST-1e</td>\n      <td>27.0</td>\n      <td>False</td>\n      <td>0.0</td>\n      <td>1283.0</td>\n      <td>371.0</td>\n      <td>3329.0</td>\n      <td>193.0</td>\n      <td>False</td>\n    </tr>\n    <tr>\n      <th>4</th>\n      <td>0004_01</td>\n      <td>0.0</td>\n      <td>0.0</td>\n      <td>0.0</td>\n      <td>0.0</td>\n      <td>0.0</td>\n      <td>0.0</td>\n      <td>1.0</td>\n      <td>0.0</td>\n      <td>0.0</td>\n      <td>...</td>\n      <td>False</td>\n      <td>TRAPPIST-1e</td>\n      <td>27.0</td>\n      <td>False</td>\n      <td>303.0</td>\n      <td>70.0</td>\n      <td>151.0</td>\n      <td>565.0</td>\n      <td>2.0</td>\n      <td>True</td>\n    </tr>\n  </tbody>\n</table>\n<p>5 rows × 22 columns</p>\n</div>"
     },
     "execution_count": 333,
     "metadata": {},
     "output_type": "execute_result"
    }
   ],
   "source": [
    "train_3 = train_2.copy()\n",
    "train_3.drop(\"Cabin Deck\",axis=1,inplace=True)\n",
    "ctr = 3\n",
    "for i in cabin_deck_train:\n",
    "    train_3.insert(loc=ctr,column=i,value=cabin_deck_train[i])\n",
    "    ctr += 1\n",
    "train_3.head()"
   ],
   "metadata": {
    "collapsed": false,
    "ExecuteTime": {
     "end_time": "2023-08-20T02:18:14.559988Z",
     "start_time": "2023-08-20T02:18:14.537622Z"
    }
   },
   "id": "3460e5749a610000"
  },
  {
   "cell_type": "code",
   "execution_count": 334,
   "outputs": [
    {
     "data": {
      "text/plain": "  PassengerId  HomePlanet_Europa  HomePlanet_Mars  Cabin Desk B  Cabin Desk C  \\\n0     0013_01                0.0              0.0           0.0           0.0   \n1     0018_01                0.0              0.0           0.0           0.0   \n2     0019_01                1.0              0.0           0.0           1.0   \n3     0021_01                1.0              0.0           0.0           1.0   \n4     0023_01                0.0              0.0           0.0           0.0   \n\n   Cabin Desk D  Cabin Desk E  Cabin Desk F  Cabin Desk G  Cabin Desk T  ...  \\\n0           0.0           0.0           0.0           1.0           0.0  ...   \n1           0.0           0.0           1.0           0.0           0.0  ...   \n2           0.0           0.0           0.0           0.0           0.0  ...   \n3           0.0           0.0           0.0           0.0           0.0  ...   \n4           0.0           0.0           1.0           0.0           0.0  ...   \n\n   Cabin Side CryoSleep  Destination   Age    VIP  RoomService  FoodCourt  \\\n0           S      True  TRAPPIST-1e  26.0  False          0.0        0.0   \n1           S     False  TRAPPIST-1e  26.0  False          0.0        9.0   \n2           S      True  55 Cancri e  26.0  False          0.0        0.0   \n3           S     False  TRAPPIST-1e  26.0  False          0.0     6652.0   \n4           S     False  TRAPPIST-1e  26.0  False         10.0        0.0   \n\n   ShoppingMall     Spa  VRDeck  \n0           0.0     0.0     0.0  \n1           0.0  2823.0     0.0  \n2           0.0     0.0     0.0  \n3           0.0   181.0   585.0  \n4         635.0     0.0     0.0  \n\n[5 rows x 21 columns]",
      "text/html": "<div>\n<style scoped>\n    .dataframe tbody tr th:only-of-type {\n        vertical-align: middle;\n    }\n\n    .dataframe tbody tr th {\n        vertical-align: top;\n    }\n\n    .dataframe thead th {\n        text-align: right;\n    }\n</style>\n<table border=\"1\" class=\"dataframe\">\n  <thead>\n    <tr style=\"text-align: right;\">\n      <th></th>\n      <th>PassengerId</th>\n      <th>HomePlanet_Europa</th>\n      <th>HomePlanet_Mars</th>\n      <th>Cabin Desk B</th>\n      <th>Cabin Desk C</th>\n      <th>Cabin Desk D</th>\n      <th>Cabin Desk E</th>\n      <th>Cabin Desk F</th>\n      <th>Cabin Desk G</th>\n      <th>Cabin Desk T</th>\n      <th>...</th>\n      <th>Cabin Side</th>\n      <th>CryoSleep</th>\n      <th>Destination</th>\n      <th>Age</th>\n      <th>VIP</th>\n      <th>RoomService</th>\n      <th>FoodCourt</th>\n      <th>ShoppingMall</th>\n      <th>Spa</th>\n      <th>VRDeck</th>\n    </tr>\n  </thead>\n  <tbody>\n    <tr>\n      <th>0</th>\n      <td>0013_01</td>\n      <td>0.0</td>\n      <td>0.0</td>\n      <td>0.0</td>\n      <td>0.0</td>\n      <td>0.0</td>\n      <td>0.0</td>\n      <td>0.0</td>\n      <td>1.0</td>\n      <td>0.0</td>\n      <td>...</td>\n      <td>S</td>\n      <td>True</td>\n      <td>TRAPPIST-1e</td>\n      <td>26.0</td>\n      <td>False</td>\n      <td>0.0</td>\n      <td>0.0</td>\n      <td>0.0</td>\n      <td>0.0</td>\n      <td>0.0</td>\n    </tr>\n    <tr>\n      <th>1</th>\n      <td>0018_01</td>\n      <td>0.0</td>\n      <td>0.0</td>\n      <td>0.0</td>\n      <td>0.0</td>\n      <td>0.0</td>\n      <td>0.0</td>\n      <td>1.0</td>\n      <td>0.0</td>\n      <td>0.0</td>\n      <td>...</td>\n      <td>S</td>\n      <td>False</td>\n      <td>TRAPPIST-1e</td>\n      <td>26.0</td>\n      <td>False</td>\n      <td>0.0</td>\n      <td>9.0</td>\n      <td>0.0</td>\n      <td>2823.0</td>\n      <td>0.0</td>\n    </tr>\n    <tr>\n      <th>2</th>\n      <td>0019_01</td>\n      <td>1.0</td>\n      <td>0.0</td>\n      <td>0.0</td>\n      <td>1.0</td>\n      <td>0.0</td>\n      <td>0.0</td>\n      <td>0.0</td>\n      <td>0.0</td>\n      <td>0.0</td>\n      <td>...</td>\n      <td>S</td>\n      <td>True</td>\n      <td>55 Cancri e</td>\n      <td>26.0</td>\n      <td>False</td>\n      <td>0.0</td>\n      <td>0.0</td>\n      <td>0.0</td>\n      <td>0.0</td>\n      <td>0.0</td>\n    </tr>\n    <tr>\n      <th>3</th>\n      <td>0021_01</td>\n      <td>1.0</td>\n      <td>0.0</td>\n      <td>0.0</td>\n      <td>1.0</td>\n      <td>0.0</td>\n      <td>0.0</td>\n      <td>0.0</td>\n      <td>0.0</td>\n      <td>0.0</td>\n      <td>...</td>\n      <td>S</td>\n      <td>False</td>\n      <td>TRAPPIST-1e</td>\n      <td>26.0</td>\n      <td>False</td>\n      <td>0.0</td>\n      <td>6652.0</td>\n      <td>0.0</td>\n      <td>181.0</td>\n      <td>585.0</td>\n    </tr>\n    <tr>\n      <th>4</th>\n      <td>0023_01</td>\n      <td>0.0</td>\n      <td>0.0</td>\n      <td>0.0</td>\n      <td>0.0</td>\n      <td>0.0</td>\n      <td>0.0</td>\n      <td>1.0</td>\n      <td>0.0</td>\n      <td>0.0</td>\n      <td>...</td>\n      <td>S</td>\n      <td>False</td>\n      <td>TRAPPIST-1e</td>\n      <td>26.0</td>\n      <td>False</td>\n      <td>10.0</td>\n      <td>0.0</td>\n      <td>635.0</td>\n      <td>0.0</td>\n      <td>0.0</td>\n    </tr>\n  </tbody>\n</table>\n<p>5 rows × 21 columns</p>\n</div>"
     },
     "execution_count": 334,
     "metadata": {},
     "output_type": "execute_result"
    }
   ],
   "source": [
    "test_3 = test_2.copy()\n",
    "test_3.drop(\"Cabin Deck\",axis=1,inplace=True)\n",
    "ctr = 3\n",
    "for i in cabin_deck_test:\n",
    "    test_3.insert(loc=ctr,column=i,value=cabin_deck_test[i])\n",
    "    ctr += 1\n",
    "test_3.head()"
   ],
   "metadata": {
    "collapsed": false,
    "ExecuteTime": {
     "end_time": "2023-08-20T02:18:14.887225Z",
     "start_time": "2023-08-20T02:18:14.875308Z"
    }
   },
   "id": "9663a29d2a936406"
  },
  {
   "cell_type": "markdown",
   "source": [
    "### Performing One-Hot Encoding for \"Cabin Side\", \"CryoSleep\", \"VIP\", \"Transported\" features"
   ],
   "metadata": {
    "collapsed": false
   },
   "id": "9f65c271463f3a23"
  },
  {
   "cell_type": "code",
   "execution_count": 335,
   "outputs": [],
   "source": [
    "train_4 = train_3.copy()\n",
    "test_4 = test_3.copy()\n",
    "\n",
    "train_4[\"Cabin Side\"] = train_4[\"Cabin Side\"].map({\"P\":0,\"S\":1})\n",
    "test_4[\"Cabin Side\"] = test_4[\"Cabin Side\"].map({\"P\":0,\"S\":1})\n",
    "\n",
    "train_4[\"CryoSleep\"] = train_4[\"CryoSleep\"].map({False:0,True:1})\n",
    "test_4[\"CryoSleep\"] = test_4[\"CryoSleep\"].map({False:0,True:1})\n",
    "\n",
    "train_4[\"VIP\"] = train_4[\"VIP\"].map({False:0,True:1})\n",
    "test_4[\"VIP\"] = test_4[\"VIP\"].map({False:0,True:1})\n",
    "\n",
    "train_4[\"Transported\"] = train_4[\"Transported\"].map({False:0,True:1})"
   ],
   "metadata": {
    "collapsed": false,
    "ExecuteTime": {
     "end_time": "2023-08-20T02:18:15.752247Z",
     "start_time": "2023-08-20T02:18:15.744729Z"
    }
   },
   "id": "bb1372a4fe64124a"
  },
  {
   "cell_type": "code",
   "execution_count": 336,
   "outputs": [
    {
     "data": {
      "text/plain": "  PassengerId  HomePlanet_Europa  HomePlanet_Mars  Cabin Desk B  Cabin Desk C  \\\n0     0001_01                1.0              0.0           1.0           0.0   \n1     0002_01                0.0              0.0           0.0           0.0   \n2     0003_01                1.0              0.0           0.0           0.0   \n3     0003_02                1.0              0.0           0.0           0.0   \n4     0004_01                0.0              0.0           0.0           0.0   \n\n   Cabin Desk D  Cabin Desk E  Cabin Desk F  Cabin Desk G  Cabin Desk T  ...  \\\n0           0.0           0.0           0.0           0.0           0.0  ...   \n1           0.0           0.0           1.0           0.0           0.0  ...   \n2           0.0           0.0           0.0           0.0           0.0  ...   \n3           0.0           0.0           0.0           0.0           0.0  ...   \n4           0.0           0.0           1.0           0.0           0.0  ...   \n\n   CryoSleep  Destination   Age VIP  RoomService  FoodCourt  ShoppingMall  \\\n0          0  TRAPPIST-1e  27.0   0          0.0        0.0           0.0   \n1          0  TRAPPIST-1e  27.0   0        109.0        9.0          25.0   \n2          0  TRAPPIST-1e  27.0   1         43.0     3576.0           0.0   \n3          0  TRAPPIST-1e  27.0   0          0.0     1283.0         371.0   \n4          0  TRAPPIST-1e  27.0   0        303.0       70.0         151.0   \n\n      Spa  VRDeck  Transported  \n0     0.0     0.0            0  \n1   549.0    44.0            1  \n2  6715.0    49.0            0  \n3  3329.0   193.0            0  \n4   565.0     2.0            1  \n\n[5 rows x 22 columns]",
      "text/html": "<div>\n<style scoped>\n    .dataframe tbody tr th:only-of-type {\n        vertical-align: middle;\n    }\n\n    .dataframe tbody tr th {\n        vertical-align: top;\n    }\n\n    .dataframe thead th {\n        text-align: right;\n    }\n</style>\n<table border=\"1\" class=\"dataframe\">\n  <thead>\n    <tr style=\"text-align: right;\">\n      <th></th>\n      <th>PassengerId</th>\n      <th>HomePlanet_Europa</th>\n      <th>HomePlanet_Mars</th>\n      <th>Cabin Desk B</th>\n      <th>Cabin Desk C</th>\n      <th>Cabin Desk D</th>\n      <th>Cabin Desk E</th>\n      <th>Cabin Desk F</th>\n      <th>Cabin Desk G</th>\n      <th>Cabin Desk T</th>\n      <th>...</th>\n      <th>CryoSleep</th>\n      <th>Destination</th>\n      <th>Age</th>\n      <th>VIP</th>\n      <th>RoomService</th>\n      <th>FoodCourt</th>\n      <th>ShoppingMall</th>\n      <th>Spa</th>\n      <th>VRDeck</th>\n      <th>Transported</th>\n    </tr>\n  </thead>\n  <tbody>\n    <tr>\n      <th>0</th>\n      <td>0001_01</td>\n      <td>1.0</td>\n      <td>0.0</td>\n      <td>1.0</td>\n      <td>0.0</td>\n      <td>0.0</td>\n      <td>0.0</td>\n      <td>0.0</td>\n      <td>0.0</td>\n      <td>0.0</td>\n      <td>...</td>\n      <td>0</td>\n      <td>TRAPPIST-1e</td>\n      <td>27.0</td>\n      <td>0</td>\n      <td>0.0</td>\n      <td>0.0</td>\n      <td>0.0</td>\n      <td>0.0</td>\n      <td>0.0</td>\n      <td>0</td>\n    </tr>\n    <tr>\n      <th>1</th>\n      <td>0002_01</td>\n      <td>0.0</td>\n      <td>0.0</td>\n      <td>0.0</td>\n      <td>0.0</td>\n      <td>0.0</td>\n      <td>0.0</td>\n      <td>1.0</td>\n      <td>0.0</td>\n      <td>0.0</td>\n      <td>...</td>\n      <td>0</td>\n      <td>TRAPPIST-1e</td>\n      <td>27.0</td>\n      <td>0</td>\n      <td>109.0</td>\n      <td>9.0</td>\n      <td>25.0</td>\n      <td>549.0</td>\n      <td>44.0</td>\n      <td>1</td>\n    </tr>\n    <tr>\n      <th>2</th>\n      <td>0003_01</td>\n      <td>1.0</td>\n      <td>0.0</td>\n      <td>0.0</td>\n      <td>0.0</td>\n      <td>0.0</td>\n      <td>0.0</td>\n      <td>0.0</td>\n      <td>0.0</td>\n      <td>0.0</td>\n      <td>...</td>\n      <td>0</td>\n      <td>TRAPPIST-1e</td>\n      <td>27.0</td>\n      <td>1</td>\n      <td>43.0</td>\n      <td>3576.0</td>\n      <td>0.0</td>\n      <td>6715.0</td>\n      <td>49.0</td>\n      <td>0</td>\n    </tr>\n    <tr>\n      <th>3</th>\n      <td>0003_02</td>\n      <td>1.0</td>\n      <td>0.0</td>\n      <td>0.0</td>\n      <td>0.0</td>\n      <td>0.0</td>\n      <td>0.0</td>\n      <td>0.0</td>\n      <td>0.0</td>\n      <td>0.0</td>\n      <td>...</td>\n      <td>0</td>\n      <td>TRAPPIST-1e</td>\n      <td>27.0</td>\n      <td>0</td>\n      <td>0.0</td>\n      <td>1283.0</td>\n      <td>371.0</td>\n      <td>3329.0</td>\n      <td>193.0</td>\n      <td>0</td>\n    </tr>\n    <tr>\n      <th>4</th>\n      <td>0004_01</td>\n      <td>0.0</td>\n      <td>0.0</td>\n      <td>0.0</td>\n      <td>0.0</td>\n      <td>0.0</td>\n      <td>0.0</td>\n      <td>1.0</td>\n      <td>0.0</td>\n      <td>0.0</td>\n      <td>...</td>\n      <td>0</td>\n      <td>TRAPPIST-1e</td>\n      <td>27.0</td>\n      <td>0</td>\n      <td>303.0</td>\n      <td>70.0</td>\n      <td>151.0</td>\n      <td>565.0</td>\n      <td>2.0</td>\n      <td>1</td>\n    </tr>\n  </tbody>\n</table>\n<p>5 rows × 22 columns</p>\n</div>"
     },
     "execution_count": 336,
     "metadata": {},
     "output_type": "execute_result"
    }
   ],
   "source": [
    "train_4.head()"
   ],
   "metadata": {
    "collapsed": false,
    "ExecuteTime": {
     "end_time": "2023-08-20T02:18:16.306042Z",
     "start_time": "2023-08-20T02:18:16.301971Z"
    }
   },
   "id": "b18cdf43c855bed9"
  },
  {
   "cell_type": "code",
   "execution_count": 337,
   "outputs": [
    {
     "data": {
      "text/plain": "  PassengerId  HomePlanet_Europa  HomePlanet_Mars  Cabin Desk B  Cabin Desk C  \\\n0     0013_01                0.0              0.0           0.0           0.0   \n1     0018_01                0.0              0.0           0.0           0.0   \n2     0019_01                1.0              0.0           0.0           1.0   \n3     0021_01                1.0              0.0           0.0           1.0   \n4     0023_01                0.0              0.0           0.0           0.0   \n\n   Cabin Desk D  Cabin Desk E  Cabin Desk F  Cabin Desk G  Cabin Desk T  ...  \\\n0           0.0           0.0           0.0           1.0           0.0  ...   \n1           0.0           0.0           1.0           0.0           0.0  ...   \n2           0.0           0.0           0.0           0.0           0.0  ...   \n3           0.0           0.0           0.0           0.0           0.0  ...   \n4           0.0           0.0           1.0           0.0           0.0  ...   \n\n   Cabin Side  CryoSleep  Destination   Age  VIP  RoomService  FoodCourt  \\\n0           1          1  TRAPPIST-1e  26.0    0          0.0        0.0   \n1           1          0  TRAPPIST-1e  26.0    0          0.0        9.0   \n2           1          1  55 Cancri e  26.0    0          0.0        0.0   \n3           1          0  TRAPPIST-1e  26.0    0          0.0     6652.0   \n4           1          0  TRAPPIST-1e  26.0    0         10.0        0.0   \n\n   ShoppingMall     Spa  VRDeck  \n0           0.0     0.0     0.0  \n1           0.0  2823.0     0.0  \n2           0.0     0.0     0.0  \n3           0.0   181.0   585.0  \n4         635.0     0.0     0.0  \n\n[5 rows x 21 columns]",
      "text/html": "<div>\n<style scoped>\n    .dataframe tbody tr th:only-of-type {\n        vertical-align: middle;\n    }\n\n    .dataframe tbody tr th {\n        vertical-align: top;\n    }\n\n    .dataframe thead th {\n        text-align: right;\n    }\n</style>\n<table border=\"1\" class=\"dataframe\">\n  <thead>\n    <tr style=\"text-align: right;\">\n      <th></th>\n      <th>PassengerId</th>\n      <th>HomePlanet_Europa</th>\n      <th>HomePlanet_Mars</th>\n      <th>Cabin Desk B</th>\n      <th>Cabin Desk C</th>\n      <th>Cabin Desk D</th>\n      <th>Cabin Desk E</th>\n      <th>Cabin Desk F</th>\n      <th>Cabin Desk G</th>\n      <th>Cabin Desk T</th>\n      <th>...</th>\n      <th>Cabin Side</th>\n      <th>CryoSleep</th>\n      <th>Destination</th>\n      <th>Age</th>\n      <th>VIP</th>\n      <th>RoomService</th>\n      <th>FoodCourt</th>\n      <th>ShoppingMall</th>\n      <th>Spa</th>\n      <th>VRDeck</th>\n    </tr>\n  </thead>\n  <tbody>\n    <tr>\n      <th>0</th>\n      <td>0013_01</td>\n      <td>0.0</td>\n      <td>0.0</td>\n      <td>0.0</td>\n      <td>0.0</td>\n      <td>0.0</td>\n      <td>0.0</td>\n      <td>0.0</td>\n      <td>1.0</td>\n      <td>0.0</td>\n      <td>...</td>\n      <td>1</td>\n      <td>1</td>\n      <td>TRAPPIST-1e</td>\n      <td>26.0</td>\n      <td>0</td>\n      <td>0.0</td>\n      <td>0.0</td>\n      <td>0.0</td>\n      <td>0.0</td>\n      <td>0.0</td>\n    </tr>\n    <tr>\n      <th>1</th>\n      <td>0018_01</td>\n      <td>0.0</td>\n      <td>0.0</td>\n      <td>0.0</td>\n      <td>0.0</td>\n      <td>0.0</td>\n      <td>0.0</td>\n      <td>1.0</td>\n      <td>0.0</td>\n      <td>0.0</td>\n      <td>...</td>\n      <td>1</td>\n      <td>0</td>\n      <td>TRAPPIST-1e</td>\n      <td>26.0</td>\n      <td>0</td>\n      <td>0.0</td>\n      <td>9.0</td>\n      <td>0.0</td>\n      <td>2823.0</td>\n      <td>0.0</td>\n    </tr>\n    <tr>\n      <th>2</th>\n      <td>0019_01</td>\n      <td>1.0</td>\n      <td>0.0</td>\n      <td>0.0</td>\n      <td>1.0</td>\n      <td>0.0</td>\n      <td>0.0</td>\n      <td>0.0</td>\n      <td>0.0</td>\n      <td>0.0</td>\n      <td>...</td>\n      <td>1</td>\n      <td>1</td>\n      <td>55 Cancri e</td>\n      <td>26.0</td>\n      <td>0</td>\n      <td>0.0</td>\n      <td>0.0</td>\n      <td>0.0</td>\n      <td>0.0</td>\n      <td>0.0</td>\n    </tr>\n    <tr>\n      <th>3</th>\n      <td>0021_01</td>\n      <td>1.0</td>\n      <td>0.0</td>\n      <td>0.0</td>\n      <td>1.0</td>\n      <td>0.0</td>\n      <td>0.0</td>\n      <td>0.0</td>\n      <td>0.0</td>\n      <td>0.0</td>\n      <td>...</td>\n      <td>1</td>\n      <td>0</td>\n      <td>TRAPPIST-1e</td>\n      <td>26.0</td>\n      <td>0</td>\n      <td>0.0</td>\n      <td>6652.0</td>\n      <td>0.0</td>\n      <td>181.0</td>\n      <td>585.0</td>\n    </tr>\n    <tr>\n      <th>4</th>\n      <td>0023_01</td>\n      <td>0.0</td>\n      <td>0.0</td>\n      <td>0.0</td>\n      <td>0.0</td>\n      <td>0.0</td>\n      <td>0.0</td>\n      <td>1.0</td>\n      <td>0.0</td>\n      <td>0.0</td>\n      <td>...</td>\n      <td>1</td>\n      <td>0</td>\n      <td>TRAPPIST-1e</td>\n      <td>26.0</td>\n      <td>0</td>\n      <td>10.0</td>\n      <td>0.0</td>\n      <td>635.0</td>\n      <td>0.0</td>\n      <td>0.0</td>\n    </tr>\n  </tbody>\n</table>\n<p>5 rows × 21 columns</p>\n</div>"
     },
     "execution_count": 337,
     "metadata": {},
     "output_type": "execute_result"
    }
   ],
   "source": [
    "test_4.head()"
   ],
   "metadata": {
    "collapsed": false,
    "ExecuteTime": {
     "end_time": "2023-08-20T02:18:16.717612Z",
     "start_time": "2023-08-20T02:18:16.712784Z"
    }
   },
   "id": "b09ec93ac8f77a8"
  },
  {
   "cell_type": "code",
   "execution_count": 338,
   "outputs": [
    {
     "name": "stdout",
     "output_type": "stream",
     "text": [
      "['TRAPPIST-1e' 'PSO J318.5-22' '55 Cancri e']\n",
      "['TRAPPIST-1e' '55 Cancri e' 'PSO J318.5-22']\n"
     ]
    }
   ],
   "source": [
    "dest_train = train_4[\"Destination\"].unique()\n",
    "dest_test = test_4[\"Destination\"].unique()\n",
    "\n",
    "print(dest_train)\n",
    "print(dest_test)"
   ],
   "metadata": {
    "collapsed": false,
    "ExecuteTime": {
     "end_time": "2023-08-20T02:18:17.113574Z",
     "start_time": "2023-08-20T02:18:17.109362Z"
    }
   },
   "id": "f416ad0027549743"
  },
  {
   "cell_type": "markdown",
   "source": [
    "### Performing One-Hot Encoding for \"Destination\" features"
   ],
   "metadata": {
    "collapsed": false
   },
   "id": "ff510e17e3083b"
  },
  {
   "cell_type": "code",
   "execution_count": 339,
   "outputs": [],
   "source": [
    "ohe = OneHotEncoder(drop=\"first\")\n",
    "train_dest = ohe.fit_transform(train_4[\"Destination\"].to_numpy().reshape(-1,1)).toarray()\n",
    "test_dest = ohe.fit_transform(test_4[\"Destination\"].to_numpy().reshape(-1,1)).toarray()\n",
    "\n",
    "destination_train = pd.DataFrame(train_dest,columns=[\"Destination_PSO J318.5-22\",\"Destination_TRAPPIST-1e\"])\n",
    "destination_test = pd.DataFrame(test_dest,columns=[\"Destination_PSO J318.5-22\",\"Destination_TRAPPIST-1e\"])"
   ],
   "metadata": {
    "collapsed": false,
    "ExecuteTime": {
     "end_time": "2023-08-20T02:18:18.252443Z",
     "start_time": "2023-08-20T02:18:18.248590Z"
    }
   },
   "id": "bbb02de5181f7fb6"
  },
  {
   "cell_type": "code",
   "execution_count": 340,
   "outputs": [
    {
     "data": {
      "text/plain": "   Destination_PSO J318.5-22  Destination_TRAPPIST-1e\n0                        0.0                      1.0\n1                        0.0                      1.0\n2                        0.0                      1.0\n3                        0.0                      1.0\n4                        0.0                      1.0",
      "text/html": "<div>\n<style scoped>\n    .dataframe tbody tr th:only-of-type {\n        vertical-align: middle;\n    }\n\n    .dataframe tbody tr th {\n        vertical-align: top;\n    }\n\n    .dataframe thead th {\n        text-align: right;\n    }\n</style>\n<table border=\"1\" class=\"dataframe\">\n  <thead>\n    <tr style=\"text-align: right;\">\n      <th></th>\n      <th>Destination_PSO J318.5-22</th>\n      <th>Destination_TRAPPIST-1e</th>\n    </tr>\n  </thead>\n  <tbody>\n    <tr>\n      <th>0</th>\n      <td>0.0</td>\n      <td>1.0</td>\n    </tr>\n    <tr>\n      <th>1</th>\n      <td>0.0</td>\n      <td>1.0</td>\n    </tr>\n    <tr>\n      <th>2</th>\n      <td>0.0</td>\n      <td>1.0</td>\n    </tr>\n    <tr>\n      <th>3</th>\n      <td>0.0</td>\n      <td>1.0</td>\n    </tr>\n    <tr>\n      <th>4</th>\n      <td>0.0</td>\n      <td>1.0</td>\n    </tr>\n  </tbody>\n</table>\n</div>"
     },
     "execution_count": 340,
     "metadata": {},
     "output_type": "execute_result"
    }
   ],
   "source": [
    "destination_train.head()"
   ],
   "metadata": {
    "collapsed": false,
    "ExecuteTime": {
     "end_time": "2023-08-20T02:18:18.806330Z",
     "start_time": "2023-08-20T02:18:18.799862Z"
    }
   },
   "id": "e982da0a80edfbb6"
  },
  {
   "cell_type": "code",
   "execution_count": 341,
   "outputs": [
    {
     "data": {
      "text/plain": "   Destination_PSO J318.5-22  Destination_TRAPPIST-1e\n0                        0.0                      1.0\n1                        0.0                      1.0\n2                        0.0                      0.0\n3                        0.0                      1.0\n4                        0.0                      1.0",
      "text/html": "<div>\n<style scoped>\n    .dataframe tbody tr th:only-of-type {\n        vertical-align: middle;\n    }\n\n    .dataframe tbody tr th {\n        vertical-align: top;\n    }\n\n    .dataframe thead th {\n        text-align: right;\n    }\n</style>\n<table border=\"1\" class=\"dataframe\">\n  <thead>\n    <tr style=\"text-align: right;\">\n      <th></th>\n      <th>Destination_PSO J318.5-22</th>\n      <th>Destination_TRAPPIST-1e</th>\n    </tr>\n  </thead>\n  <tbody>\n    <tr>\n      <th>0</th>\n      <td>0.0</td>\n      <td>1.0</td>\n    </tr>\n    <tr>\n      <th>1</th>\n      <td>0.0</td>\n      <td>1.0</td>\n    </tr>\n    <tr>\n      <th>2</th>\n      <td>0.0</td>\n      <td>0.0</td>\n    </tr>\n    <tr>\n      <th>3</th>\n      <td>0.0</td>\n      <td>1.0</td>\n    </tr>\n    <tr>\n      <th>4</th>\n      <td>0.0</td>\n      <td>1.0</td>\n    </tr>\n  </tbody>\n</table>\n</div>"
     },
     "execution_count": 341,
     "metadata": {},
     "output_type": "execute_result"
    }
   ],
   "source": [
    "destination_test.head()"
   ],
   "metadata": {
    "collapsed": false,
    "ExecuteTime": {
     "end_time": "2023-08-20T02:18:19.181038Z",
     "start_time": "2023-08-20T02:18:19.178451Z"
    }
   },
   "id": "c6284d30b51ffdd0"
  },
  {
   "cell_type": "code",
   "execution_count": 342,
   "outputs": [
    {
     "data": {
      "text/plain": "  PassengerId  HomePlanet_Europa  HomePlanet_Mars  Cabin Desk B  Cabin Desk C  \\\n0     0001_01                1.0              0.0           1.0           0.0   \n1     0002_01                0.0              0.0           0.0           0.0   \n2     0003_01                1.0              0.0           0.0           0.0   \n3     0003_02                1.0              0.0           0.0           0.0   \n4     0004_01                0.0              0.0           0.0           0.0   \n\n   Cabin Desk D  Cabin Desk E  Cabin Desk F  Cabin Desk G  Cabin Desk T  ...  \\\n0           0.0           0.0           0.0           0.0           0.0  ...   \n1           0.0           0.0           1.0           0.0           0.0  ...   \n2           0.0           0.0           0.0           0.0           0.0  ...   \n3           0.0           0.0           0.0           0.0           0.0  ...   \n4           0.0           0.0           1.0           0.0           0.0  ...   \n\n   Destination_PSO J318.5-22  Destination_TRAPPIST-1e   Age  VIP  RoomService  \\\n0                        0.0                      1.0  27.0    0          0.0   \n1                        0.0                      1.0  27.0    0        109.0   \n2                        0.0                      1.0  27.0    1         43.0   \n3                        0.0                      1.0  27.0    0          0.0   \n4                        0.0                      1.0  27.0    0        303.0   \n\n   FoodCourt  ShoppingMall     Spa  VRDeck  Transported  \n0        0.0           0.0     0.0     0.0            0  \n1        9.0          25.0   549.0    44.0            1  \n2     3576.0           0.0  6715.0    49.0            0  \n3     1283.0         371.0  3329.0   193.0            0  \n4       70.0         151.0   565.0     2.0            1  \n\n[5 rows x 23 columns]",
      "text/html": "<div>\n<style scoped>\n    .dataframe tbody tr th:only-of-type {\n        vertical-align: middle;\n    }\n\n    .dataframe tbody tr th {\n        vertical-align: top;\n    }\n\n    .dataframe thead th {\n        text-align: right;\n    }\n</style>\n<table border=\"1\" class=\"dataframe\">\n  <thead>\n    <tr style=\"text-align: right;\">\n      <th></th>\n      <th>PassengerId</th>\n      <th>HomePlanet_Europa</th>\n      <th>HomePlanet_Mars</th>\n      <th>Cabin Desk B</th>\n      <th>Cabin Desk C</th>\n      <th>Cabin Desk D</th>\n      <th>Cabin Desk E</th>\n      <th>Cabin Desk F</th>\n      <th>Cabin Desk G</th>\n      <th>Cabin Desk T</th>\n      <th>...</th>\n      <th>Destination_PSO J318.5-22</th>\n      <th>Destination_TRAPPIST-1e</th>\n      <th>Age</th>\n      <th>VIP</th>\n      <th>RoomService</th>\n      <th>FoodCourt</th>\n      <th>ShoppingMall</th>\n      <th>Spa</th>\n      <th>VRDeck</th>\n      <th>Transported</th>\n    </tr>\n  </thead>\n  <tbody>\n    <tr>\n      <th>0</th>\n      <td>0001_01</td>\n      <td>1.0</td>\n      <td>0.0</td>\n      <td>1.0</td>\n      <td>0.0</td>\n      <td>0.0</td>\n      <td>0.0</td>\n      <td>0.0</td>\n      <td>0.0</td>\n      <td>0.0</td>\n      <td>...</td>\n      <td>0.0</td>\n      <td>1.0</td>\n      <td>27.0</td>\n      <td>0</td>\n      <td>0.0</td>\n      <td>0.0</td>\n      <td>0.0</td>\n      <td>0.0</td>\n      <td>0.0</td>\n      <td>0</td>\n    </tr>\n    <tr>\n      <th>1</th>\n      <td>0002_01</td>\n      <td>0.0</td>\n      <td>0.0</td>\n      <td>0.0</td>\n      <td>0.0</td>\n      <td>0.0</td>\n      <td>0.0</td>\n      <td>1.0</td>\n      <td>0.0</td>\n      <td>0.0</td>\n      <td>...</td>\n      <td>0.0</td>\n      <td>1.0</td>\n      <td>27.0</td>\n      <td>0</td>\n      <td>109.0</td>\n      <td>9.0</td>\n      <td>25.0</td>\n      <td>549.0</td>\n      <td>44.0</td>\n      <td>1</td>\n    </tr>\n    <tr>\n      <th>2</th>\n      <td>0003_01</td>\n      <td>1.0</td>\n      <td>0.0</td>\n      <td>0.0</td>\n      <td>0.0</td>\n      <td>0.0</td>\n      <td>0.0</td>\n      <td>0.0</td>\n      <td>0.0</td>\n      <td>0.0</td>\n      <td>...</td>\n      <td>0.0</td>\n      <td>1.0</td>\n      <td>27.0</td>\n      <td>1</td>\n      <td>43.0</td>\n      <td>3576.0</td>\n      <td>0.0</td>\n      <td>6715.0</td>\n      <td>49.0</td>\n      <td>0</td>\n    </tr>\n    <tr>\n      <th>3</th>\n      <td>0003_02</td>\n      <td>1.0</td>\n      <td>0.0</td>\n      <td>0.0</td>\n      <td>0.0</td>\n      <td>0.0</td>\n      <td>0.0</td>\n      <td>0.0</td>\n      <td>0.0</td>\n      <td>0.0</td>\n      <td>...</td>\n      <td>0.0</td>\n      <td>1.0</td>\n      <td>27.0</td>\n      <td>0</td>\n      <td>0.0</td>\n      <td>1283.0</td>\n      <td>371.0</td>\n      <td>3329.0</td>\n      <td>193.0</td>\n      <td>0</td>\n    </tr>\n    <tr>\n      <th>4</th>\n      <td>0004_01</td>\n      <td>0.0</td>\n      <td>0.0</td>\n      <td>0.0</td>\n      <td>0.0</td>\n      <td>0.0</td>\n      <td>0.0</td>\n      <td>1.0</td>\n      <td>0.0</td>\n      <td>0.0</td>\n      <td>...</td>\n      <td>0.0</td>\n      <td>1.0</td>\n      <td>27.0</td>\n      <td>0</td>\n      <td>303.0</td>\n      <td>70.0</td>\n      <td>151.0</td>\n      <td>565.0</td>\n      <td>2.0</td>\n      <td>1</td>\n    </tr>\n  </tbody>\n</table>\n<p>5 rows × 23 columns</p>\n</div>"
     },
     "execution_count": 342,
     "metadata": {},
     "output_type": "execute_result"
    }
   ],
   "source": [
    "train_5 = train_4.copy()\n",
    "train_5.drop(columns=[\"Destination\"],axis=1,inplace=True)\n",
    "ctr = 13\n",
    "for i in destination_train:\n",
    "    train_5.insert(loc=ctr,column=i,value=destination_train[i])\n",
    "    ctr += 1\n",
    "train_5.head()"
   ],
   "metadata": {
    "collapsed": false,
    "ExecuteTime": {
     "end_time": "2023-08-20T02:18:19.621319Z",
     "start_time": "2023-08-20T02:18:19.612140Z"
    }
   },
   "id": "34b859456e636ca3"
  },
  {
   "cell_type": "code",
   "execution_count": 343,
   "outputs": [
    {
     "data": {
      "text/plain": "  PassengerId  HomePlanet_Europa  HomePlanet_Mars  Cabin Desk B  Cabin Desk C  \\\n0     0013_01                0.0              0.0           0.0           0.0   \n1     0018_01                0.0              0.0           0.0           0.0   \n2     0019_01                1.0              0.0           0.0           1.0   \n3     0021_01                1.0              0.0           0.0           1.0   \n4     0023_01                0.0              0.0           0.0           0.0   \n\n   Cabin Desk D  Cabin Desk E  Cabin Desk F  Cabin Desk G  Cabin Desk T  ...  \\\n0           0.0           0.0           0.0           1.0           0.0  ...   \n1           0.0           0.0           1.0           0.0           0.0  ...   \n2           0.0           0.0           0.0           0.0           0.0  ...   \n3           0.0           0.0           0.0           0.0           0.0  ...   \n4           0.0           0.0           1.0           0.0           0.0  ...   \n\n   CryoSleep  Destination_PSO J318.5-22  Destination_TRAPPIST-1e   Age  VIP  \\\n0          1                        0.0                      1.0  26.0    0   \n1          0                        0.0                      1.0  26.0    0   \n2          1                        0.0                      0.0  26.0    0   \n3          0                        0.0                      1.0  26.0    0   \n4          0                        0.0                      1.0  26.0    0   \n\n   RoomService  FoodCourt  ShoppingMall     Spa  VRDeck  \n0          0.0        0.0           0.0     0.0     0.0  \n1          0.0        9.0           0.0  2823.0     0.0  \n2          0.0        0.0           0.0     0.0     0.0  \n3          0.0     6652.0           0.0   181.0   585.0  \n4         10.0        0.0         635.0     0.0     0.0  \n\n[5 rows x 22 columns]",
      "text/html": "<div>\n<style scoped>\n    .dataframe tbody tr th:only-of-type {\n        vertical-align: middle;\n    }\n\n    .dataframe tbody tr th {\n        vertical-align: top;\n    }\n\n    .dataframe thead th {\n        text-align: right;\n    }\n</style>\n<table border=\"1\" class=\"dataframe\">\n  <thead>\n    <tr style=\"text-align: right;\">\n      <th></th>\n      <th>PassengerId</th>\n      <th>HomePlanet_Europa</th>\n      <th>HomePlanet_Mars</th>\n      <th>Cabin Desk B</th>\n      <th>Cabin Desk C</th>\n      <th>Cabin Desk D</th>\n      <th>Cabin Desk E</th>\n      <th>Cabin Desk F</th>\n      <th>Cabin Desk G</th>\n      <th>Cabin Desk T</th>\n      <th>...</th>\n      <th>CryoSleep</th>\n      <th>Destination_PSO J318.5-22</th>\n      <th>Destination_TRAPPIST-1e</th>\n      <th>Age</th>\n      <th>VIP</th>\n      <th>RoomService</th>\n      <th>FoodCourt</th>\n      <th>ShoppingMall</th>\n      <th>Spa</th>\n      <th>VRDeck</th>\n    </tr>\n  </thead>\n  <tbody>\n    <tr>\n      <th>0</th>\n      <td>0013_01</td>\n      <td>0.0</td>\n      <td>0.0</td>\n      <td>0.0</td>\n      <td>0.0</td>\n      <td>0.0</td>\n      <td>0.0</td>\n      <td>0.0</td>\n      <td>1.0</td>\n      <td>0.0</td>\n      <td>...</td>\n      <td>1</td>\n      <td>0.0</td>\n      <td>1.0</td>\n      <td>26.0</td>\n      <td>0</td>\n      <td>0.0</td>\n      <td>0.0</td>\n      <td>0.0</td>\n      <td>0.0</td>\n      <td>0.0</td>\n    </tr>\n    <tr>\n      <th>1</th>\n      <td>0018_01</td>\n      <td>0.0</td>\n      <td>0.0</td>\n      <td>0.0</td>\n      <td>0.0</td>\n      <td>0.0</td>\n      <td>0.0</td>\n      <td>1.0</td>\n      <td>0.0</td>\n      <td>0.0</td>\n      <td>...</td>\n      <td>0</td>\n      <td>0.0</td>\n      <td>1.0</td>\n      <td>26.0</td>\n      <td>0</td>\n      <td>0.0</td>\n      <td>9.0</td>\n      <td>0.0</td>\n      <td>2823.0</td>\n      <td>0.0</td>\n    </tr>\n    <tr>\n      <th>2</th>\n      <td>0019_01</td>\n      <td>1.0</td>\n      <td>0.0</td>\n      <td>0.0</td>\n      <td>1.0</td>\n      <td>0.0</td>\n      <td>0.0</td>\n      <td>0.0</td>\n      <td>0.0</td>\n      <td>0.0</td>\n      <td>...</td>\n      <td>1</td>\n      <td>0.0</td>\n      <td>0.0</td>\n      <td>26.0</td>\n      <td>0</td>\n      <td>0.0</td>\n      <td>0.0</td>\n      <td>0.0</td>\n      <td>0.0</td>\n      <td>0.0</td>\n    </tr>\n    <tr>\n      <th>3</th>\n      <td>0021_01</td>\n      <td>1.0</td>\n      <td>0.0</td>\n      <td>0.0</td>\n      <td>1.0</td>\n      <td>0.0</td>\n      <td>0.0</td>\n      <td>0.0</td>\n      <td>0.0</td>\n      <td>0.0</td>\n      <td>...</td>\n      <td>0</td>\n      <td>0.0</td>\n      <td>1.0</td>\n      <td>26.0</td>\n      <td>0</td>\n      <td>0.0</td>\n      <td>6652.0</td>\n      <td>0.0</td>\n      <td>181.0</td>\n      <td>585.0</td>\n    </tr>\n    <tr>\n      <th>4</th>\n      <td>0023_01</td>\n      <td>0.0</td>\n      <td>0.0</td>\n      <td>0.0</td>\n      <td>0.0</td>\n      <td>0.0</td>\n      <td>0.0</td>\n      <td>1.0</td>\n      <td>0.0</td>\n      <td>0.0</td>\n      <td>...</td>\n      <td>0</td>\n      <td>0.0</td>\n      <td>1.0</td>\n      <td>26.0</td>\n      <td>0</td>\n      <td>10.0</td>\n      <td>0.0</td>\n      <td>635.0</td>\n      <td>0.0</td>\n      <td>0.0</td>\n    </tr>\n  </tbody>\n</table>\n<p>5 rows × 22 columns</p>\n</div>"
     },
     "execution_count": 343,
     "metadata": {},
     "output_type": "execute_result"
    }
   ],
   "source": [
    "test_5 = test_4.copy()\n",
    "test_5.drop(columns=[\"Destination\"],axis=1,inplace=True)\n",
    "ctr = 13\n",
    "for i in destination_test:\n",
    "    test_5.insert(loc=ctr,column=i,value=destination_test[i])\n",
    "    ctr += 1\n",
    "test_5.head()"
   ],
   "metadata": {
    "collapsed": false,
    "ExecuteTime": {
     "end_time": "2023-08-20T02:18:20.076965Z",
     "start_time": "2023-08-20T02:18:20.067306Z"
    }
   },
   "id": "f656c9e225db9702"
  },
  {
   "cell_type": "code",
   "execution_count": 344,
   "outputs": [],
   "source": [
    "train_5.to_csv(\"train_preprocessed.csv\",index=False)\n",
    "test_5.to_csv(\"test_preprocessed.csv\",index=False)"
   ],
   "metadata": {
    "collapsed": false,
    "ExecuteTime": {
     "end_time": "2023-08-20T02:18:20.787517Z",
     "start_time": "2023-08-20T02:18:20.717337Z"
    }
   },
   "id": "882612bc34aae9e4"
  },
  {
   "cell_type": "code",
   "execution_count": null,
   "outputs": [],
   "source": [],
   "metadata": {
    "collapsed": false
   },
   "id": "894a690d1732d0b6"
  }
 ],
 "metadata": {
  "kernelspec": {
   "display_name": "Python 3",
   "language": "python",
   "name": "python3"
  },
  "language_info": {
   "codemirror_mode": {
    "name": "ipython",
    "version": 2
   },
   "file_extension": ".py",
   "mimetype": "text/x-python",
   "name": "python",
   "nbconvert_exporter": "python",
   "pygments_lexer": "ipython2",
   "version": "2.7.6"
  }
 },
 "nbformat": 4,
 "nbformat_minor": 5
}
