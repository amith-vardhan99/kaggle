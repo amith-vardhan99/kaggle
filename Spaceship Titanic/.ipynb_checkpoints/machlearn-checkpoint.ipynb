{
 "cells": [
  {
   "cell_type": "markdown",
   "id": "31a8a98ce2e6124e",
   "metadata": {},
   "source": [
    "## Machine Learning"
   ]
  },
  {
   "cell_type": "markdown",
   "id": "ab8c1adfaafb95b7",
   "metadata": {},
   "source": [
    "Now, we are done with both exploratory data analysis and preprocessing. Now we will go ahead with performing machine learning."
   ]
  },
  {
   "cell_type": "markdown",
   "id": "8764eb5f69c35971",
   "metadata": {},
   "source": [
    "### Importing all packages"
   ]
  },
  {
   "cell_type": "code",
   "execution_count": 51,
   "id": "f6b7c7146d23f869",
   "metadata": {
    "ExecuteTime": {
     "end_time": "2023-08-21T13:31:16.234005Z",
     "start_time": "2023-08-21T13:31:16.230252Z"
    }
   },
   "outputs": [],
   "source": [
    "import numpy as np\n",
    "import pandas as pd\n",
    "import matplotlib.pyplot as plt\n",
    "import seaborn as sns\n",
    "from sklearn.model_selection import *\n",
    "from sklearn.linear_model import *\n",
    "from math import *\n",
    "from sklearn.ensemble import *\n",
    "from sklearn.feature_selection import *\n",
    "from sklearn.feature_extraction import *\n",
    "from sklearn.naive_bayes import *\n",
    "from sklearn.discriminant_analysis import *\n",
    "from sklearn.preprocessing import *\n",
    "from sklearn.metrics import *\n",
    "from sklearn.neighbors import *\n",
    "from sklearn.cluster import *\n",
    "from sklearn.svm import *\n",
    "import warnings\n",
    "warnings.filterwarnings(\"ignore\")"
   ]
  },
  {
   "cell_type": "markdown",
   "id": "e95dfd8a41bd98c1",
   "metadata": {},
   "source": [
    "### Importing all datasets"
   ]
  },
  {
   "cell_type": "code",
   "execution_count": 52,
   "id": "58765559efac9f5d",
   "metadata": {
    "ExecuteTime": {
     "end_time": "2023-08-21T13:31:16.904870Z",
     "start_time": "2023-08-21T13:31:16.887021Z"
    }
   },
   "outputs": [],
   "source": [
    "df_train = pd.read_csv(\"train_preprocessed.csv\")\n",
    "df_test = pd.read_csv(\"test_preprocessed.csv\")"
   ]
  },
  {
   "cell_type": "markdown",
   "id": "544f4f5d884e252d",
   "metadata": {},
   "source": [
    "### Displaying first 5 elements of training dataset"
   ]
  },
  {
   "cell_type": "code",
   "execution_count": 53,
   "id": "a7b834115239282b",
   "metadata": {
    "ExecuteTime": {
     "end_time": "2023-08-21T13:31:17.498365Z",
     "start_time": "2023-08-21T13:31:17.495928Z"
    }
   },
   "outputs": [
    {
     "data": {
      "text/html": [
       "<div>\n",
       "<style scoped>\n",
       "    .dataframe tbody tr th:only-of-type {\n",
       "        vertical-align: middle;\n",
       "    }\n",
       "\n",
       "    .dataframe tbody tr th {\n",
       "        vertical-align: top;\n",
       "    }\n",
       "\n",
       "    .dataframe thead th {\n",
       "        text-align: right;\n",
       "    }\n",
       "</style>\n",
       "<table border=\"1\" class=\"dataframe\">\n",
       "  <thead>\n",
       "    <tr style=\"text-align: right;\">\n",
       "      <th></th>\n",
       "      <th>PassengerId</th>\n",
       "      <th>HomePlanet_Europa</th>\n",
       "      <th>HomePlanet_Mars</th>\n",
       "      <th>Cabin Desk B</th>\n",
       "      <th>Cabin Desk C</th>\n",
       "      <th>Cabin Desk D</th>\n",
       "      <th>Cabin Desk E</th>\n",
       "      <th>Cabin Desk F</th>\n",
       "      <th>Cabin Desk G</th>\n",
       "      <th>Cabin Desk T</th>\n",
       "      <th>...</th>\n",
       "      <th>Destination_PSO J318.5-22</th>\n",
       "      <th>Destination_TRAPPIST-1e</th>\n",
       "      <th>Age</th>\n",
       "      <th>VIP</th>\n",
       "      <th>RoomService</th>\n",
       "      <th>FoodCourt</th>\n",
       "      <th>ShoppingMall</th>\n",
       "      <th>Spa</th>\n",
       "      <th>VRDeck</th>\n",
       "      <th>Transported</th>\n",
       "    </tr>\n",
       "  </thead>\n",
       "  <tbody>\n",
       "    <tr>\n",
       "      <th>0</th>\n",
       "      <td>0001_01</td>\n",
       "      <td>1.0</td>\n",
       "      <td>0.0</td>\n",
       "      <td>1.0</td>\n",
       "      <td>0.0</td>\n",
       "      <td>0.0</td>\n",
       "      <td>0.0</td>\n",
       "      <td>0.0</td>\n",
       "      <td>0.0</td>\n",
       "      <td>0.0</td>\n",
       "      <td>...</td>\n",
       "      <td>0.0</td>\n",
       "      <td>1.0</td>\n",
       "      <td>27.0</td>\n",
       "      <td>0</td>\n",
       "      <td>0.0</td>\n",
       "      <td>0.0</td>\n",
       "      <td>0.0</td>\n",
       "      <td>0.0</td>\n",
       "      <td>0.0</td>\n",
       "      <td>0</td>\n",
       "    </tr>\n",
       "    <tr>\n",
       "      <th>1</th>\n",
       "      <td>0002_01</td>\n",
       "      <td>0.0</td>\n",
       "      <td>0.0</td>\n",
       "      <td>0.0</td>\n",
       "      <td>0.0</td>\n",
       "      <td>0.0</td>\n",
       "      <td>0.0</td>\n",
       "      <td>1.0</td>\n",
       "      <td>0.0</td>\n",
       "      <td>0.0</td>\n",
       "      <td>...</td>\n",
       "      <td>0.0</td>\n",
       "      <td>1.0</td>\n",
       "      <td>27.0</td>\n",
       "      <td>0</td>\n",
       "      <td>109.0</td>\n",
       "      <td>9.0</td>\n",
       "      <td>25.0</td>\n",
       "      <td>549.0</td>\n",
       "      <td>44.0</td>\n",
       "      <td>1</td>\n",
       "    </tr>\n",
       "    <tr>\n",
       "      <th>2</th>\n",
       "      <td>0003_01</td>\n",
       "      <td>1.0</td>\n",
       "      <td>0.0</td>\n",
       "      <td>0.0</td>\n",
       "      <td>0.0</td>\n",
       "      <td>0.0</td>\n",
       "      <td>0.0</td>\n",
       "      <td>0.0</td>\n",
       "      <td>0.0</td>\n",
       "      <td>0.0</td>\n",
       "      <td>...</td>\n",
       "      <td>0.0</td>\n",
       "      <td>1.0</td>\n",
       "      <td>27.0</td>\n",
       "      <td>1</td>\n",
       "      <td>43.0</td>\n",
       "      <td>3576.0</td>\n",
       "      <td>0.0</td>\n",
       "      <td>6715.0</td>\n",
       "      <td>49.0</td>\n",
       "      <td>0</td>\n",
       "    </tr>\n",
       "    <tr>\n",
       "      <th>3</th>\n",
       "      <td>0003_02</td>\n",
       "      <td>1.0</td>\n",
       "      <td>0.0</td>\n",
       "      <td>0.0</td>\n",
       "      <td>0.0</td>\n",
       "      <td>0.0</td>\n",
       "      <td>0.0</td>\n",
       "      <td>0.0</td>\n",
       "      <td>0.0</td>\n",
       "      <td>0.0</td>\n",
       "      <td>...</td>\n",
       "      <td>0.0</td>\n",
       "      <td>1.0</td>\n",
       "      <td>27.0</td>\n",
       "      <td>0</td>\n",
       "      <td>0.0</td>\n",
       "      <td>1283.0</td>\n",
       "      <td>371.0</td>\n",
       "      <td>3329.0</td>\n",
       "      <td>193.0</td>\n",
       "      <td>0</td>\n",
       "    </tr>\n",
       "    <tr>\n",
       "      <th>4</th>\n",
       "      <td>0004_01</td>\n",
       "      <td>0.0</td>\n",
       "      <td>0.0</td>\n",
       "      <td>0.0</td>\n",
       "      <td>0.0</td>\n",
       "      <td>0.0</td>\n",
       "      <td>0.0</td>\n",
       "      <td>1.0</td>\n",
       "      <td>0.0</td>\n",
       "      <td>0.0</td>\n",
       "      <td>...</td>\n",
       "      <td>0.0</td>\n",
       "      <td>1.0</td>\n",
       "      <td>27.0</td>\n",
       "      <td>0</td>\n",
       "      <td>303.0</td>\n",
       "      <td>70.0</td>\n",
       "      <td>151.0</td>\n",
       "      <td>565.0</td>\n",
       "      <td>2.0</td>\n",
       "      <td>1</td>\n",
       "    </tr>\n",
       "  </tbody>\n",
       "</table>\n",
       "<p>5 rows × 23 columns</p>\n",
       "</div>"
      ],
      "text/plain": [
       "  PassengerId  HomePlanet_Europa  HomePlanet_Mars  Cabin Desk B  Cabin Desk C  \\\n",
       "0     0001_01                1.0              0.0           1.0           0.0   \n",
       "1     0002_01                0.0              0.0           0.0           0.0   \n",
       "2     0003_01                1.0              0.0           0.0           0.0   \n",
       "3     0003_02                1.0              0.0           0.0           0.0   \n",
       "4     0004_01                0.0              0.0           0.0           0.0   \n",
       "\n",
       "   Cabin Desk D  Cabin Desk E  Cabin Desk F  Cabin Desk G  Cabin Desk T  ...  \\\n",
       "0           0.0           0.0           0.0           0.0           0.0  ...   \n",
       "1           0.0           0.0           1.0           0.0           0.0  ...   \n",
       "2           0.0           0.0           0.0           0.0           0.0  ...   \n",
       "3           0.0           0.0           0.0           0.0           0.0  ...   \n",
       "4           0.0           0.0           1.0           0.0           0.0  ...   \n",
       "\n",
       "   Destination_PSO J318.5-22  Destination_TRAPPIST-1e   Age  VIP  RoomService  \\\n",
       "0                        0.0                      1.0  27.0    0          0.0   \n",
       "1                        0.0                      1.0  27.0    0        109.0   \n",
       "2                        0.0                      1.0  27.0    1         43.0   \n",
       "3                        0.0                      1.0  27.0    0          0.0   \n",
       "4                        0.0                      1.0  27.0    0        303.0   \n",
       "\n",
       "   FoodCourt  ShoppingMall     Spa  VRDeck  Transported  \n",
       "0        0.0           0.0     0.0     0.0            0  \n",
       "1        9.0          25.0   549.0    44.0            1  \n",
       "2     3576.0           0.0  6715.0    49.0            0  \n",
       "3     1283.0         371.0  3329.0   193.0            0  \n",
       "4       70.0         151.0   565.0     2.0            1  \n",
       "\n",
       "[5 rows x 23 columns]"
      ]
     },
     "execution_count": 53,
     "metadata": {},
     "output_type": "execute_result"
    }
   ],
   "source": [
    "df_train.head()"
   ]
  },
  {
   "cell_type": "markdown",
   "id": "802ee2c4211aeff0",
   "metadata": {},
   "source": [
    "### Displaying first 5 elements of testing dataset"
   ]
  },
  {
   "cell_type": "code",
   "execution_count": 54,
   "id": "96dcb0ff9b189408",
   "metadata": {
    "ExecuteTime": {
     "end_time": "2023-08-21T13:31:18.163366Z",
     "start_time": "2023-08-21T13:31:18.160252Z"
    }
   },
   "outputs": [
    {
     "data": {
      "text/html": [
       "<div>\n",
       "<style scoped>\n",
       "    .dataframe tbody tr th:only-of-type {\n",
       "        vertical-align: middle;\n",
       "    }\n",
       "\n",
       "    .dataframe tbody tr th {\n",
       "        vertical-align: top;\n",
       "    }\n",
       "\n",
       "    .dataframe thead th {\n",
       "        text-align: right;\n",
       "    }\n",
       "</style>\n",
       "<table border=\"1\" class=\"dataframe\">\n",
       "  <thead>\n",
       "    <tr style=\"text-align: right;\">\n",
       "      <th></th>\n",
       "      <th>PassengerId</th>\n",
       "      <th>HomePlanet_Europa</th>\n",
       "      <th>HomePlanet_Mars</th>\n",
       "      <th>Cabin Desk B</th>\n",
       "      <th>Cabin Desk C</th>\n",
       "      <th>Cabin Desk D</th>\n",
       "      <th>Cabin Desk E</th>\n",
       "      <th>Cabin Desk F</th>\n",
       "      <th>Cabin Desk G</th>\n",
       "      <th>Cabin Desk T</th>\n",
       "      <th>...</th>\n",
       "      <th>CryoSleep</th>\n",
       "      <th>Destination_PSO J318.5-22</th>\n",
       "      <th>Destination_TRAPPIST-1e</th>\n",
       "      <th>Age</th>\n",
       "      <th>VIP</th>\n",
       "      <th>RoomService</th>\n",
       "      <th>FoodCourt</th>\n",
       "      <th>ShoppingMall</th>\n",
       "      <th>Spa</th>\n",
       "      <th>VRDeck</th>\n",
       "    </tr>\n",
       "  </thead>\n",
       "  <tbody>\n",
       "    <tr>\n",
       "      <th>0</th>\n",
       "      <td>0013_01</td>\n",
       "      <td>0.0</td>\n",
       "      <td>0.0</td>\n",
       "      <td>0.0</td>\n",
       "      <td>0.0</td>\n",
       "      <td>0.0</td>\n",
       "      <td>0.0</td>\n",
       "      <td>0.0</td>\n",
       "      <td>1.0</td>\n",
       "      <td>0.0</td>\n",
       "      <td>...</td>\n",
       "      <td>1</td>\n",
       "      <td>0.0</td>\n",
       "      <td>1.0</td>\n",
       "      <td>26.0</td>\n",
       "      <td>0</td>\n",
       "      <td>0.0</td>\n",
       "      <td>0.0</td>\n",
       "      <td>0.0</td>\n",
       "      <td>0.0</td>\n",
       "      <td>0.0</td>\n",
       "    </tr>\n",
       "    <tr>\n",
       "      <th>1</th>\n",
       "      <td>0018_01</td>\n",
       "      <td>0.0</td>\n",
       "      <td>0.0</td>\n",
       "      <td>0.0</td>\n",
       "      <td>0.0</td>\n",
       "      <td>0.0</td>\n",
       "      <td>0.0</td>\n",
       "      <td>1.0</td>\n",
       "      <td>0.0</td>\n",
       "      <td>0.0</td>\n",
       "      <td>...</td>\n",
       "      <td>0</td>\n",
       "      <td>0.0</td>\n",
       "      <td>1.0</td>\n",
       "      <td>26.0</td>\n",
       "      <td>0</td>\n",
       "      <td>0.0</td>\n",
       "      <td>9.0</td>\n",
       "      <td>0.0</td>\n",
       "      <td>2823.0</td>\n",
       "      <td>0.0</td>\n",
       "    </tr>\n",
       "    <tr>\n",
       "      <th>2</th>\n",
       "      <td>0019_01</td>\n",
       "      <td>1.0</td>\n",
       "      <td>0.0</td>\n",
       "      <td>0.0</td>\n",
       "      <td>1.0</td>\n",
       "      <td>0.0</td>\n",
       "      <td>0.0</td>\n",
       "      <td>0.0</td>\n",
       "      <td>0.0</td>\n",
       "      <td>0.0</td>\n",
       "      <td>...</td>\n",
       "      <td>1</td>\n",
       "      <td>0.0</td>\n",
       "      <td>0.0</td>\n",
       "      <td>26.0</td>\n",
       "      <td>0</td>\n",
       "      <td>0.0</td>\n",
       "      <td>0.0</td>\n",
       "      <td>0.0</td>\n",
       "      <td>0.0</td>\n",
       "      <td>0.0</td>\n",
       "    </tr>\n",
       "    <tr>\n",
       "      <th>3</th>\n",
       "      <td>0021_01</td>\n",
       "      <td>1.0</td>\n",
       "      <td>0.0</td>\n",
       "      <td>0.0</td>\n",
       "      <td>1.0</td>\n",
       "      <td>0.0</td>\n",
       "      <td>0.0</td>\n",
       "      <td>0.0</td>\n",
       "      <td>0.0</td>\n",
       "      <td>0.0</td>\n",
       "      <td>...</td>\n",
       "      <td>0</td>\n",
       "      <td>0.0</td>\n",
       "      <td>1.0</td>\n",
       "      <td>26.0</td>\n",
       "      <td>0</td>\n",
       "      <td>0.0</td>\n",
       "      <td>6652.0</td>\n",
       "      <td>0.0</td>\n",
       "      <td>181.0</td>\n",
       "      <td>585.0</td>\n",
       "    </tr>\n",
       "    <tr>\n",
       "      <th>4</th>\n",
       "      <td>0023_01</td>\n",
       "      <td>0.0</td>\n",
       "      <td>0.0</td>\n",
       "      <td>0.0</td>\n",
       "      <td>0.0</td>\n",
       "      <td>0.0</td>\n",
       "      <td>0.0</td>\n",
       "      <td>1.0</td>\n",
       "      <td>0.0</td>\n",
       "      <td>0.0</td>\n",
       "      <td>...</td>\n",
       "      <td>0</td>\n",
       "      <td>0.0</td>\n",
       "      <td>1.0</td>\n",
       "      <td>26.0</td>\n",
       "      <td>0</td>\n",
       "      <td>10.0</td>\n",
       "      <td>0.0</td>\n",
       "      <td>635.0</td>\n",
       "      <td>0.0</td>\n",
       "      <td>0.0</td>\n",
       "    </tr>\n",
       "  </tbody>\n",
       "</table>\n",
       "<p>5 rows × 22 columns</p>\n",
       "</div>"
      ],
      "text/plain": [
       "  PassengerId  HomePlanet_Europa  HomePlanet_Mars  Cabin Desk B  Cabin Desk C  \\\n",
       "0     0013_01                0.0              0.0           0.0           0.0   \n",
       "1     0018_01                0.0              0.0           0.0           0.0   \n",
       "2     0019_01                1.0              0.0           0.0           1.0   \n",
       "3     0021_01                1.0              0.0           0.0           1.0   \n",
       "4     0023_01                0.0              0.0           0.0           0.0   \n",
       "\n",
       "   Cabin Desk D  Cabin Desk E  Cabin Desk F  Cabin Desk G  Cabin Desk T  ...  \\\n",
       "0           0.0           0.0           0.0           1.0           0.0  ...   \n",
       "1           0.0           0.0           1.0           0.0           0.0  ...   \n",
       "2           0.0           0.0           0.0           0.0           0.0  ...   \n",
       "3           0.0           0.0           0.0           0.0           0.0  ...   \n",
       "4           0.0           0.0           1.0           0.0           0.0  ...   \n",
       "\n",
       "   CryoSleep  Destination_PSO J318.5-22  Destination_TRAPPIST-1e   Age  VIP  \\\n",
       "0          1                        0.0                      1.0  26.0    0   \n",
       "1          0                        0.0                      1.0  26.0    0   \n",
       "2          1                        0.0                      0.0  26.0    0   \n",
       "3          0                        0.0                      1.0  26.0    0   \n",
       "4          0                        0.0                      1.0  26.0    0   \n",
       "\n",
       "   RoomService  FoodCourt  ShoppingMall     Spa  VRDeck  \n",
       "0          0.0        0.0           0.0     0.0     0.0  \n",
       "1          0.0        9.0           0.0  2823.0     0.0  \n",
       "2          0.0        0.0           0.0     0.0     0.0  \n",
       "3          0.0     6652.0           0.0   181.0   585.0  \n",
       "4         10.0        0.0         635.0     0.0     0.0  \n",
       "\n",
       "[5 rows x 22 columns]"
      ]
     },
     "execution_count": 54,
     "metadata": {},
     "output_type": "execute_result"
    }
   ],
   "source": [
    "df_test.head()"
   ]
  },
  {
   "cell_type": "markdown",
   "id": "bae01afc3d919e33",
   "metadata": {},
   "source": [
    "### Length of training and testing datasets"
   ]
  },
  {
   "cell_type": "code",
   "execution_count": 55,
   "id": "ba1e4dd75cd33a7d",
   "metadata": {
    "ExecuteTime": {
     "end_time": "2023-08-21T13:31:18.774392Z",
     "start_time": "2023-08-21T13:31:18.769494Z"
    }
   },
   "outputs": [
    {
     "name": "stdout",
     "output_type": "stream",
     "text": [
      "Training length :  8122\n",
      "Testing length  :  4017\n"
     ]
    }
   ],
   "source": [
    "print(\"Training length : \",len(df_train))\n",
    "print(\"Testing length  : \",len(df_test))"
   ]
  },
  {
   "cell_type": "code",
   "execution_count": 56,
   "id": "4a55c3b4fca43913",
   "metadata": {
    "ExecuteTime": {
     "end_time": "2023-08-21T13:31:19.089990Z",
     "start_time": "2023-08-21T13:31:19.083610Z"
    }
   },
   "outputs": [
    {
     "name": "stdout",
     "output_type": "stream",
     "text": [
      "Training percentage :  66.91\n",
      "Testing percentage  :  33.09\n"
     ]
    }
   ],
   "source": [
    "print(\"Training percentage : \",round((len(df_train)*100/(len(df_train)+len(df_test))),2))\n",
    "print(\"Testing percentage  : \",round((len(df_test)*100/(len(df_train)+len(df_test))),2))"
   ]
  },
  {
   "cell_type": "markdown",
   "id": "ffd2da72e5fc6dc9",
   "metadata": {},
   "source": [
    "### Splitting the training data into input and output"
   ]
  },
  {
   "cell_type": "code",
   "execution_count": 57,
   "id": "3352336be5e81c35",
   "metadata": {
    "ExecuteTime": {
     "end_time": "2023-08-21T13:31:19.911161Z",
     "start_time": "2023-08-21T13:31:19.903756Z"
    }
   },
   "outputs": [],
   "source": [
    "X_train = df_train.drop(\"Transported\",axis=1,inplace=False)\n",
    "y_train = df_train[\"Transported\"]\n",
    "\n",
    "X_test = df_test.copy()"
   ]
  },
  {
   "cell_type": "code",
   "execution_count": 58,
   "id": "a1a16394b5a07142",
   "metadata": {
    "ExecuteTime": {
     "end_time": "2023-08-21T13:31:21.693567Z",
     "start_time": "2023-08-21T13:31:20.328461Z"
    }
   },
   "outputs": [],
   "source": [
    "lsvc = SVC()\n",
    "model = lsvc.fit(X_train,y_train)"
   ]
  },
  {
   "cell_type": "code",
   "execution_count": 59,
   "id": "24c57febf1e0069d",
   "metadata": {
    "ExecuteTime": {
     "end_time": "2023-08-21T13:31:23.862778Z",
     "start_time": "2023-08-21T13:31:22.682061Z"
    }
   },
   "outputs": [],
   "source": [
    "y_test = pd.Series(model.predict(X_test))"
   ]
  },
  {
   "cell_type": "code",
   "execution_count": 60,
   "id": "82682ab1ee3edb79",
   "metadata": {
    "ExecuteTime": {
     "end_time": "2023-08-21T13:31:23.866403Z",
     "start_time": "2023-08-21T13:31:23.863827Z"
    }
   },
   "outputs": [],
   "source": [
    "y_test = y_test.map({0:False,1:True})"
   ]
  },
  {
   "cell_type": "code",
   "execution_count": 61,
   "id": "6543cc3f4781bae2",
   "metadata": {
    "ExecuteTime": {
     "end_time": "2023-08-21T13:31:24.658781Z",
     "start_time": "2023-08-21T13:31:24.654340Z"
    }
   },
   "outputs": [
    {
     "data": {
      "text/html": [
       "<div>\n",
       "<style scoped>\n",
       "    .dataframe tbody tr th:only-of-type {\n",
       "        vertical-align: middle;\n",
       "    }\n",
       "\n",
       "    .dataframe tbody tr th {\n",
       "        vertical-align: top;\n",
       "    }\n",
       "\n",
       "    .dataframe thead th {\n",
       "        text-align: right;\n",
       "    }\n",
       "</style>\n",
       "<table border=\"1\" class=\"dataframe\">\n",
       "  <thead>\n",
       "    <tr style=\"text-align: right;\">\n",
       "      <th></th>\n",
       "      <th>index</th>\n",
       "      <th>0</th>\n",
       "    </tr>\n",
       "  </thead>\n",
       "  <tbody>\n",
       "    <tr>\n",
       "      <th>0</th>\n",
       "      <td>False</td>\n",
       "      <td>54.97</td>\n",
       "    </tr>\n",
       "    <tr>\n",
       "      <th>1</th>\n",
       "      <td>True</td>\n",
       "      <td>45.03</td>\n",
       "    </tr>\n",
       "  </tbody>\n",
       "</table>\n",
       "</div>"
      ],
      "text/plain": [
       "   index      0\n",
       "0  False  54.97\n",
       "1   True  45.03"
      ]
     },
     "execution_count": 61,
     "metadata": {},
     "output_type": "execute_result"
    }
   ],
   "source": [
    "v = round((y_test.value_counts()*100/y_test.value_counts().sum()),2)\n",
    "v = v.reset_index()\n",
    "v"
   ]
  },
  {
   "cell_type": "code",
   "execution_count": 62,
   "id": "39074c5d2d3018f0",
   "metadata": {
    "ExecuteTime": {
     "end_time": "2023-08-21T13:31:25.276054Z",
     "start_time": "2023-08-21T13:31:25.221109Z"
    }
   },
   "outputs": [
    {
     "data": {
      "image/png": "[encoded data removed]",
      "text/plain": [
       "<Figure size 640x480 with 1 Axes>"
      ]
     },
     "metadata": {},
     "output_type": "display_data"
    }
   ],
   "source": [
    "plot = sns.barplot(x=v[\"index\"],y=v[0])\n",
    "plot.set(ylabel=\"Count\",xlabel=\"Transported\")\n",
    "for i in plot.containers:\n",
    "    plot.bar_label(i,)"
   ]
  },
  {
   "cell_type": "code",
   "execution_count": 63,
   "id": "fe1fca7489ff395e",
   "metadata": {
    "ExecuteTime": {
     "end_time": "2023-08-21T13:31:26.061443Z",
     "start_time": "2023-08-21T13:31:26.057257Z"
    }
   },
   "outputs": [],
   "source": [
    "sub_df = pd.DataFrame(columns=[\"PassengerId\",\"Transported\"])\n",
    "sub_df[\"PassengerId\"] = df_test[\"PassengerId\"]\n",
    "sub_df[\"Transported\"] = y_test"
   ]
  },
  {
   "cell_type": "code",
   "execution_count": 64,
   "id": "54419f6e2d810f87",
   "metadata": {
    "ExecuteTime": {
     "end_time": "2023-08-21T13:31:26.748785Z",
     "start_time": "2023-08-21T13:31:26.745259Z"
    }
   },
   "outputs": [
    {
     "data": {
      "text/html": [
       "<div>\n",
       "<style scoped>\n",
       "    .dataframe tbody tr th:only-of-type {\n",
       "        vertical-align: middle;\n",
       "    }\n",
       "\n",
       "    .dataframe tbody tr th {\n",
       "        vertical-align: top;\n",
       "    }\n",
       "\n",
       "    .dataframe thead th {\n",
       "        text-align: right;\n",
       "    }\n",
       "</style>\n",
       "<table border=\"1\" class=\"dataframe\">\n",
       "  <thead>\n",
       "    <tr style=\"text-align: right;\">\n",
       "      <th></th>\n",
       "      <th>PassengerId</th>\n",
       "      <th>Transported</th>\n",
       "    </tr>\n",
       "  </thead>\n",
       "  <tbody>\n",
       "    <tr>\n",
       "      <th>0</th>\n",
       "      <td>0013_01</td>\n",
       "      <td>False</td>\n",
       "    </tr>\n",
       "    <tr>\n",
       "      <th>1</th>\n",
       "      <td>0018_01</td>\n",
       "      <td>False</td>\n",
       "    </tr>\n",
       "    <tr>\n",
       "      <th>2</th>\n",
       "      <td>0019_01</td>\n",
       "      <td>False</td>\n",
       "    </tr>\n",
       "    <tr>\n",
       "      <th>3</th>\n",
       "      <td>0021_01</td>\n",
       "      <td>False</td>\n",
       "    </tr>\n",
       "    <tr>\n",
       "      <th>4</th>\n",
       "      <td>0023_01</td>\n",
       "      <td>False</td>\n",
       "    </tr>\n",
       "  </tbody>\n",
       "</table>\n",
       "</div>"
      ],
      "text/plain": [
       "  PassengerId  Transported\n",
       "0     0013_01        False\n",
       "1     0018_01        False\n",
       "2     0019_01        False\n",
       "3     0021_01        False\n",
       "4     0023_01        False"
      ]
     },
     "execution_count": 64,
     "metadata": {},
     "output_type": "execute_result"
    }
   ],
   "source": [
    "sub_df.head()"
   ]
  },
  {
   "cell_type": "code",
   "execution_count": 65,
   "id": "48e269784ee1169e",
   "metadata": {
    "ExecuteTime": {
     "end_time": "2023-08-21T13:31:27.345962Z",
     "start_time": "2023-08-21T13:31:27.338725Z"
    }
   },
   "outputs": [],
   "source": [
    "main_df1 = pd.read_csv(\"test.csv\")\n",
    "main_df = main_df1[\"PassengerId\"]"
   ]
  },
  {
   "cell_type": "code",
   "execution_count": 66,
   "id": "e16b66ec67a3a90a",
   "metadata": {
    "ExecuteTime": {
     "end_time": "2023-08-21T13:31:27.730498Z",
     "start_time": "2023-08-21T13:31:27.723339Z"
    }
   },
   "outputs": [
    {
     "data": {
      "text/html": [
       "<div>\n",
       "<style scoped>\n",
       "    .dataframe tbody tr th:only-of-type {\n",
       "        vertical-align: middle;\n",
       "    }\n",
       "\n",
       "    .dataframe tbody tr th {\n",
       "        vertical-align: top;\n",
       "    }\n",
       "\n",
       "    .dataframe thead th {\n",
       "        text-align: right;\n",
       "    }\n",
       "</style>\n",
       "<table border=\"1\" class=\"dataframe\">\n",
       "  <thead>\n",
       "    <tr style=\"text-align: right;\">\n",
       "      <th></th>\n",
       "      <th>PassengerId</th>\n",
       "      <th>Transported</th>\n",
       "    </tr>\n",
       "  </thead>\n",
       "  <tbody>\n",
       "    <tr>\n",
       "      <th>0</th>\n",
       "      <td>0013_01</td>\n",
       "      <td>False</td>\n",
       "    </tr>\n",
       "    <tr>\n",
       "      <th>1</th>\n",
       "      <td>0018_01</td>\n",
       "      <td>False</td>\n",
       "    </tr>\n",
       "    <tr>\n",
       "      <th>2</th>\n",
       "      <td>0019_01</td>\n",
       "      <td>False</td>\n",
       "    </tr>\n",
       "    <tr>\n",
       "      <th>3</th>\n",
       "      <td>0021_01</td>\n",
       "      <td>False</td>\n",
       "    </tr>\n",
       "    <tr>\n",
       "      <th>4</th>\n",
       "      <td>0023_01</td>\n",
       "      <td>False</td>\n",
       "    </tr>\n",
       "  </tbody>\n",
       "</table>\n",
       "</div>"
      ],
      "text/plain": [
       "  PassengerId Transported\n",
       "0     0013_01       False\n",
       "1     0018_01       False\n",
       "2     0019_01       False\n",
       "3     0021_01       False\n",
       "4     0023_01       False"
      ]
     },
     "execution_count": 66,
     "metadata": {},
     "output_type": "execute_result"
    }
   ],
   "source": [
    "merge_df = pd.merge(left=main_df,right=sub_df,how=\"left\",on=\"PassengerId\")\n",
    "merge_df.head()"
   ]
  },
  {
   "cell_type": "code",
   "execution_count": 67,
   "id": "a6db42f71476f124",
   "metadata": {
    "ExecuteTime": {
     "end_time": "2023-08-21T13:31:28.481771Z",
     "start_time": "2023-08-21T13:31:28.475933Z"
    }
   },
   "outputs": [
    {
     "data": {
      "text/plain": [
       "PassengerId      0\n",
       "Transported    260\n",
       "dtype: int64"
      ]
     },
     "execution_count": 67,
     "metadata": {},
     "output_type": "execute_result"
    }
   ],
   "source": [
    "merge_df.isna().sum()"
   ]
  },
  {
   "cell_type": "code",
   "execution_count": 68,
   "id": "7a4ac39c113d0e58",
   "metadata": {
    "ExecuteTime": {
     "end_time": "2023-08-21T13:31:28.927223Z",
     "start_time": "2023-08-21T13:31:28.922242Z"
    }
   },
   "outputs": [
    {
     "data": {
      "text/html": [
       "<div>\n",
       "<style scoped>\n",
       "    .dataframe tbody tr th:only-of-type {\n",
       "        vertical-align: middle;\n",
       "    }\n",
       "\n",
       "    .dataframe tbody tr th {\n",
       "        vertical-align: top;\n",
       "    }\n",
       "\n",
       "    .dataframe thead th {\n",
       "        text-align: right;\n",
       "    }\n",
       "</style>\n",
       "<table border=\"1\" class=\"dataframe\">\n",
       "  <thead>\n",
       "    <tr style=\"text-align: right;\">\n",
       "      <th></th>\n",
       "      <th>PassengerId</th>\n",
       "      <th>Transported</th>\n",
       "    </tr>\n",
       "  </thead>\n",
       "  <tbody>\n",
       "    <tr>\n",
       "      <th>0</th>\n",
       "      <td>0013_01</td>\n",
       "      <td>False</td>\n",
       "    </tr>\n",
       "    <tr>\n",
       "      <th>1</th>\n",
       "      <td>0018_01</td>\n",
       "      <td>False</td>\n",
       "    </tr>\n",
       "    <tr>\n",
       "      <th>2</th>\n",
       "      <td>0019_01</td>\n",
       "      <td>False</td>\n",
       "    </tr>\n",
       "    <tr>\n",
       "      <th>3</th>\n",
       "      <td>0021_01</td>\n",
       "      <td>False</td>\n",
       "    </tr>\n",
       "    <tr>\n",
       "      <th>4</th>\n",
       "      <td>0023_01</td>\n",
       "      <td>False</td>\n",
       "    </tr>\n",
       "  </tbody>\n",
       "</table>\n",
       "</div>"
      ],
      "text/plain": [
       "  PassengerId  Transported\n",
       "0     0013_01        False\n",
       "1     0018_01        False\n",
       "2     0019_01        False\n",
       "3     0021_01        False\n",
       "4     0023_01        False"
      ]
     },
     "execution_count": 68,
     "metadata": {},
     "output_type": "execute_result"
    }
   ],
   "source": [
    "final_df = merge_df.fillna(value=False,inplace=False)\n",
    "final_df.head()"
   ]
  },
  {
   "cell_type": "code",
   "execution_count": 69,
   "id": "db1021379e836b5c",
   "metadata": {
    "ExecuteTime": {
     "end_time": "2023-08-21T13:31:29.889361Z",
     "start_time": "2023-08-21T13:31:29.883821Z"
    }
   },
   "outputs": [
    {
     "data": {
      "text/plain": [
       "PassengerId    0\n",
       "Transported    0\n",
       "dtype: int64"
      ]
     },
     "execution_count": 69,
     "metadata": {},
     "output_type": "execute_result"
    }
   ],
   "source": [
    "final_df.isna().sum()"
   ]
  },
  {
   "cell_type": "code",
   "execution_count": 70,
   "id": "60e13880c70d51ab",
   "metadata": {
    "ExecuteTime": {
     "end_time": "2023-08-21T13:31:30.790891Z",
     "start_time": "2023-08-21T13:31:30.769320Z"
    }
   },
   "outputs": [],
   "source": [
    "final_df.to_csv(\"amith_submission.csv\",index=False)"
   ]
  },
  {
   "cell_type": "code",
   "execution_count": null,
   "id": "314a06c766cca7e",
   "metadata": {},
   "outputs": [],
   "source": []
  }
 ],
 "metadata": {
  "kernelspec": {
   "display_name": "Python 3 (ipykernel)",
   "language": "python",
   "name": "python3"
  },
  "language_info": {
   "codemirror_mode": {
    "name": "ipython",
    "version": 3
   },
   "file_extension": ".py",
   "mimetype": "text/x-python",
   "name": "python",
   "nbconvert_exporter": "python",
   "pygments_lexer": "ipython3",
   "version": "3.11.3"
  }
 },
 "nbformat": 4,
 "nbformat_minor": 5
}
