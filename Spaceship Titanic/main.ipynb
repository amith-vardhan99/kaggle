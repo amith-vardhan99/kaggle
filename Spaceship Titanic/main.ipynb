{
 "cells": [
  {
   "cell_type": "markdown",
   "source": [
    "# Spaceship Titanic\n",
    "\n",
    "### Predict which passengers are transported to an alternate dimension"
   ],
   "metadata": {
    "collapsed": false
   },
   "id": "8a0d96b3e73940c0"
  },
  {
   "cell_type": "markdown",
   "source": [
    "Welcome to the year 2912, where your data science skills are needed to solve a cosmic mystery. We've received a transmission from four lightyears away and things aren't looking good.\n",
    "\n",
    "The Spaceship Titanic was an interstellar passenger liner launched a month ago. With almost 13,000 passengers on board, the vessel set out on its maiden voyage transporting emigrants from our solar system to three newly habitable exoplanets orbiting nearby stars.\n",
    "\n",
    "While rounding Alpha Centauri en route to its first destination—the torrid 55 Cancri E—the unwary Spaceship Titanic collided with a spacetime anomaly hidden within a dust cloud. Sadly, it met a similar fate as its namesake from 1000 years before. Though the ship stayed intact, almost half of the passengers were transported to an alternate dimension!"
   ],
   "metadata": {
    "collapsed": false
   },
   "id": "7e821b0d89ad7667"
  },
  {
   "cell_type": "markdown",
   "source": [
    "![](/Users/amith/Desktop/aaaa.jpeg \"optional-title\")"
   ],
   "metadata": {
    "collapsed": false
   },
   "id": "7330313d0e942138"
  },
  {
   "cell_type": "markdown",
   "source": [
    "To help rescue crews and retrieve the lost passengers, you are challenged to predict which passengers were transported by the anomaly using records recovered from the spaceship’s damaged computer system.\n",
    "\n",
    "Help save them and change history!"
   ],
   "metadata": {
    "collapsed": false
   },
   "id": "9272ebe914e78afc"
  },
  {
   "cell_type": "markdown",
   "source": [
    "## Dataset Description\n",
    "\n",
    "In this competition your task is to predict whether a passenger was transported to an alternate dimension during the Spaceship Titanic's collision with the spacetime anomaly. To help you make these predictions, you're given a set of personal records recovered from the ship's damaged computer system."
   ],
   "metadata": {
    "collapsed": false
   },
   "id": "5549c3f9907d25dc"
  },
  {
   "cell_type": "markdown",
   "source": [
    "## File and Data Field Descriptions\n",
    "\n",
    "**train.csv** - Personal records for about two-thirds (~8700) of the passengers, to be used as training data.\n",
    "\n",
    "**PassengerId** - A unique Id for each passenger. Each Id takes the form gggg_pp where gggg indicates a group the passenger is travelling with and pp is their number within the group. People in a group are often family members, but not always.\n",
    "\n",
    "**HomePlanet** - The planet the passenger departed from, typically their planet of permanent residence.\n",
    "\n",
    "**CryoSleep** - Indicates whether the passenger elected to be put into suspended animation for the duration of the voyage. Passengers in cryosleep are confined to their cabins.\n",
    "\n",
    "**Cabin** - The cabin number where the passenger is staying. Takes the form deck/num/side, where side can be either P for Port or S for Starboard.\n",
    "\n",
    "**Destination** - The planet the passenger will be debarking to.\n",
    "\n",
    "**Age** - The age of the passenger.\n",
    "\n",
    "**VIP** - Whether the passenger has paid for special VIP service during the voyage.\n",
    "\n",
    "**RoomService, FoodCourt, ShoppingMall, Spa, VRDeck** - Amount the passenger has billed at each of the Spaceship Titanic's many luxury amenities.\n",
    "\n",
    "**Name** - The first and last names of the passenger.\n",
    "\n",
    "**Transported** - Whether the passenger was transported to another dimension. This is the target, the column you are trying to predict.\n",
    "\n",
    "**test.csv** - Personal records for the remaining one-third (~4300) of the passengers, to be used as test data. Your task is to predict the value of Transported for the passengers in this set.\n",
    "\n",
    "**sample_submission.csv** - A submission file in the correct format.\n",
    "\n",
    "**PassengerId** - Id for each passenger in the test set.\n",
    "\n",
    "**Transported** - The target. For each passenger, predict either True or False."
   ],
   "metadata": {
    "collapsed": false
   },
   "id": "c319c2b65302c2c0"
  },
  {
   "cell_type": "markdown",
   "source": [
    "### Importing all packages"
   ],
   "metadata": {
    "collapsed": false
   },
   "id": "da4c0718a400ccc2"
  },
  {
   "cell_type": "code",
   "execution_count": 194,
   "outputs": [],
   "source": [
    "import numpy as np\n",
    "import pandas as pd\n",
    "import matplotlib.pyplot as plt\n",
    "import seaborn as sns\n",
    "from sklearn.model_selection import *\n",
    "from sklearn.linear_model import *\n",
    "from math import *\n",
    "from sklearn.ensemble import *\n",
    "from sklearn.feature_selection import *\n",
    "from sklearn.feature_extraction import *\n",
    "from sklearn.naive_bayes import *\n",
    "from sklearn.discriminant_analysis import *\n",
    "from sklearn.preprocessing import *\n",
    "from sklearn.metrics import *\n",
    "from sklearn.neighbors import *\n",
    "from sklearn.cluster import *"
   ],
   "metadata": {
    "collapsed": false,
    "ExecuteTime": {
     "end_time": "2023-08-19T20:56:47.634746Z",
     "start_time": "2023-08-19T20:56:47.630319Z"
    }
   },
   "id": "9cf358b068cb8499"
  },
  {
   "cell_type": "markdown",
   "source": [
    "### Importing all datasets"
   ],
   "metadata": {
    "collapsed": false
   },
   "id": "58778f3d6398e18b"
  },
  {
   "cell_type": "code",
   "execution_count": 195,
   "outputs": [],
   "source": [
    "df_train = pd.read_csv(\"train.csv\")\n",
    "df_test = pd.read_csv(\"test.csv\")"
   ],
   "metadata": {
    "collapsed": false,
    "ExecuteTime": {
     "end_time": "2023-08-19T20:56:48.370211Z",
     "start_time": "2023-08-19T20:56:48.343966Z"
    }
   },
   "id": "c00903c48a93246f"
  },
  {
   "cell_type": "markdown",
   "source": [
    "### Showing the first 5 elements in the training dataset"
   ],
   "metadata": {
    "collapsed": false
   },
   "id": "aa2baf8f66463c4a"
  },
  {
   "cell_type": "code",
   "execution_count": 196,
   "outputs": [
    {
     "data": {
      "text/plain": "  PassengerId HomePlanet CryoSleep  Cabin  Destination   Age    VIP  \\\n0     0001_01     Europa     False  B/0/P  TRAPPIST-1e  39.0  False   \n1     0002_01      Earth     False  F/0/S  TRAPPIST-1e  24.0  False   \n2     0003_01     Europa     False  A/0/S  TRAPPIST-1e  58.0   True   \n3     0003_02     Europa     False  A/0/S  TRAPPIST-1e  33.0  False   \n4     0004_01      Earth     False  F/1/S  TRAPPIST-1e  16.0  False   \n\n   RoomService  FoodCourt  ShoppingMall     Spa  VRDeck               Name  \\\n0          0.0        0.0           0.0     0.0     0.0    Maham Ofracculy   \n1        109.0        9.0          25.0   549.0    44.0       Juanna Vines   \n2         43.0     3576.0           0.0  6715.0    49.0      Altark Susent   \n3          0.0     1283.0         371.0  3329.0   193.0       Solam Susent   \n4        303.0       70.0         151.0   565.0     2.0  Willy Santantines   \n\n   Transported  \n0        False  \n1         True  \n2        False  \n3        False  \n4         True  ",
      "text/html": "<div>\n<style scoped>\n    .dataframe tbody tr th:only-of-type {\n        vertical-align: middle;\n    }\n\n    .dataframe tbody tr th {\n        vertical-align: top;\n    }\n\n    .dataframe thead th {\n        text-align: right;\n    }\n</style>\n<table border=\"1\" class=\"dataframe\">\n  <thead>\n    <tr style=\"text-align: right;\">\n      <th></th>\n      <th>PassengerId</th>\n      <th>HomePlanet</th>\n      <th>CryoSleep</th>\n      <th>Cabin</th>\n      <th>Destination</th>\n      <th>Age</th>\n      <th>VIP</th>\n      <th>RoomService</th>\n      <th>FoodCourt</th>\n      <th>ShoppingMall</th>\n      <th>Spa</th>\n      <th>VRDeck</th>\n      <th>Name</th>\n      <th>Transported</th>\n    </tr>\n  </thead>\n  <tbody>\n    <tr>\n      <th>0</th>\n      <td>0001_01</td>\n      <td>Europa</td>\n      <td>False</td>\n      <td>B/0/P</td>\n      <td>TRAPPIST-1e</td>\n      <td>39.0</td>\n      <td>False</td>\n      <td>0.0</td>\n      <td>0.0</td>\n      <td>0.0</td>\n      <td>0.0</td>\n      <td>0.0</td>\n      <td>Maham Ofracculy</td>\n      <td>False</td>\n    </tr>\n    <tr>\n      <th>1</th>\n      <td>0002_01</td>\n      <td>Earth</td>\n      <td>False</td>\n      <td>F/0/S</td>\n      <td>TRAPPIST-1e</td>\n      <td>24.0</td>\n      <td>False</td>\n      <td>109.0</td>\n      <td>9.0</td>\n      <td>25.0</td>\n      <td>549.0</td>\n      <td>44.0</td>\n      <td>Juanna Vines</td>\n      <td>True</td>\n    </tr>\n    <tr>\n      <th>2</th>\n      <td>0003_01</td>\n      <td>Europa</td>\n      <td>False</td>\n      <td>A/0/S</td>\n      <td>TRAPPIST-1e</td>\n      <td>58.0</td>\n      <td>True</td>\n      <td>43.0</td>\n      <td>3576.0</td>\n      <td>0.0</td>\n      <td>6715.0</td>\n      <td>49.0</td>\n      <td>Altark Susent</td>\n      <td>False</td>\n    </tr>\n    <tr>\n      <th>3</th>\n      <td>0003_02</td>\n      <td>Europa</td>\n      <td>False</td>\n      <td>A/0/S</td>\n      <td>TRAPPIST-1e</td>\n      <td>33.0</td>\n      <td>False</td>\n      <td>0.0</td>\n      <td>1283.0</td>\n      <td>371.0</td>\n      <td>3329.0</td>\n      <td>193.0</td>\n      <td>Solam Susent</td>\n      <td>False</td>\n    </tr>\n    <tr>\n      <th>4</th>\n      <td>0004_01</td>\n      <td>Earth</td>\n      <td>False</td>\n      <td>F/1/S</td>\n      <td>TRAPPIST-1e</td>\n      <td>16.0</td>\n      <td>False</td>\n      <td>303.0</td>\n      <td>70.0</td>\n      <td>151.0</td>\n      <td>565.0</td>\n      <td>2.0</td>\n      <td>Willy Santantines</td>\n      <td>True</td>\n    </tr>\n  </tbody>\n</table>\n</div>"
     },
     "execution_count": 196,
     "metadata": {},
     "output_type": "execute_result"
    }
   ],
   "source": [
    "df_train.head()"
   ],
   "metadata": {
    "collapsed": false,
    "ExecuteTime": {
     "end_time": "2023-08-19T20:56:48.980622Z",
     "start_time": "2023-08-19T20:56:48.966994Z"
    }
   },
   "id": "86e23afb61900df4"
  },
  {
   "cell_type": "markdown",
   "source": [
    "### Showing the first 5 elements in the testing dataset"
   ],
   "metadata": {
    "collapsed": false
   },
   "id": "ef42c2b4db180cd0"
  },
  {
   "cell_type": "code",
   "execution_count": 197,
   "outputs": [
    {
     "data": {
      "text/plain": "  PassengerId HomePlanet CryoSleep  Cabin  Destination   Age    VIP  \\\n0     0013_01      Earth      True  G/3/S  TRAPPIST-1e  27.0  False   \n1     0018_01      Earth     False  F/4/S  TRAPPIST-1e  19.0  False   \n2     0019_01     Europa      True  C/0/S  55 Cancri e  31.0  False   \n3     0021_01     Europa     False  C/1/S  TRAPPIST-1e  38.0  False   \n4     0023_01      Earth     False  F/5/S  TRAPPIST-1e  20.0  False   \n\n   RoomService  FoodCourt  ShoppingMall     Spa  VRDeck              Name  \n0          0.0        0.0           0.0     0.0     0.0   Nelly Carsoning  \n1          0.0        9.0           0.0  2823.0     0.0    Lerome Peckers  \n2          0.0        0.0           0.0     0.0     0.0   Sabih Unhearfus  \n3          0.0     6652.0           0.0   181.0   585.0  Meratz Caltilter  \n4         10.0        0.0         635.0     0.0     0.0   Brence Harperez  ",
      "text/html": "<div>\n<style scoped>\n    .dataframe tbody tr th:only-of-type {\n        vertical-align: middle;\n    }\n\n    .dataframe tbody tr th {\n        vertical-align: top;\n    }\n\n    .dataframe thead th {\n        text-align: right;\n    }\n</style>\n<table border=\"1\" class=\"dataframe\">\n  <thead>\n    <tr style=\"text-align: right;\">\n      <th></th>\n      <th>PassengerId</th>\n      <th>HomePlanet</th>\n      <th>CryoSleep</th>\n      <th>Cabin</th>\n      <th>Destination</th>\n      <th>Age</th>\n      <th>VIP</th>\n      <th>RoomService</th>\n      <th>FoodCourt</th>\n      <th>ShoppingMall</th>\n      <th>Spa</th>\n      <th>VRDeck</th>\n      <th>Name</th>\n    </tr>\n  </thead>\n  <tbody>\n    <tr>\n      <th>0</th>\n      <td>0013_01</td>\n      <td>Earth</td>\n      <td>True</td>\n      <td>G/3/S</td>\n      <td>TRAPPIST-1e</td>\n      <td>27.0</td>\n      <td>False</td>\n      <td>0.0</td>\n      <td>0.0</td>\n      <td>0.0</td>\n      <td>0.0</td>\n      <td>0.0</td>\n      <td>Nelly Carsoning</td>\n    </tr>\n    <tr>\n      <th>1</th>\n      <td>0018_01</td>\n      <td>Earth</td>\n      <td>False</td>\n      <td>F/4/S</td>\n      <td>TRAPPIST-1e</td>\n      <td>19.0</td>\n      <td>False</td>\n      <td>0.0</td>\n      <td>9.0</td>\n      <td>0.0</td>\n      <td>2823.0</td>\n      <td>0.0</td>\n      <td>Lerome Peckers</td>\n    </tr>\n    <tr>\n      <th>2</th>\n      <td>0019_01</td>\n      <td>Europa</td>\n      <td>True</td>\n      <td>C/0/S</td>\n      <td>55 Cancri e</td>\n      <td>31.0</td>\n      <td>False</td>\n      <td>0.0</td>\n      <td>0.0</td>\n      <td>0.0</td>\n      <td>0.0</td>\n      <td>0.0</td>\n      <td>Sabih Unhearfus</td>\n    </tr>\n    <tr>\n      <th>3</th>\n      <td>0021_01</td>\n      <td>Europa</td>\n      <td>False</td>\n      <td>C/1/S</td>\n      <td>TRAPPIST-1e</td>\n      <td>38.0</td>\n      <td>False</td>\n      <td>0.0</td>\n      <td>6652.0</td>\n      <td>0.0</td>\n      <td>181.0</td>\n      <td>585.0</td>\n      <td>Meratz Caltilter</td>\n    </tr>\n    <tr>\n      <th>4</th>\n      <td>0023_01</td>\n      <td>Earth</td>\n      <td>False</td>\n      <td>F/5/S</td>\n      <td>TRAPPIST-1e</td>\n      <td>20.0</td>\n      <td>False</td>\n      <td>10.0</td>\n      <td>0.0</td>\n      <td>635.0</td>\n      <td>0.0</td>\n      <td>0.0</td>\n      <td>Brence Harperez</td>\n    </tr>\n  </tbody>\n</table>\n</div>"
     },
     "execution_count": 197,
     "metadata": {},
     "output_type": "execute_result"
    }
   ],
   "source": [
    "df_test.head()"
   ],
   "metadata": {
    "collapsed": false,
    "ExecuteTime": {
     "end_time": "2023-08-19T20:56:49.591630Z",
     "start_time": "2023-08-19T20:56:49.577589Z"
    }
   },
   "id": "f9a140d37cc9265d"
  },
  {
   "cell_type": "markdown",
   "source": [
    "### Exploratory Data Analysis for the training dataset"
   ],
   "metadata": {
    "collapsed": false
   },
   "id": "82e07fd92ddc5400"
  },
  {
   "cell_type": "code",
   "execution_count": 198,
   "outputs": [
    {
     "name": "stdout",
     "output_type": "stream",
     "text": [
      "<class 'pandas.core.frame.DataFrame'>\n",
      "RangeIndex: 8693 entries, 0 to 8692\n",
      "Data columns (total 14 columns):\n",
      " #   Column        Non-Null Count  Dtype  \n",
      "---  ------        --------------  -----  \n",
      " 0   PassengerId   8693 non-null   object \n",
      " 1   HomePlanet    8492 non-null   object \n",
      " 2   CryoSleep     8476 non-null   object \n",
      " 3   Cabin         8494 non-null   object \n",
      " 4   Destination   8511 non-null   object \n",
      " 5   Age           8514 non-null   float64\n",
      " 6   VIP           8490 non-null   object \n",
      " 7   RoomService   8512 non-null   float64\n",
      " 8   FoodCourt     8510 non-null   float64\n",
      " 9   ShoppingMall  8485 non-null   float64\n",
      " 10  Spa           8510 non-null   float64\n",
      " 11  VRDeck        8505 non-null   float64\n",
      " 12  Name          8493 non-null   object \n",
      " 13  Transported   8693 non-null   bool   \n",
      "dtypes: bool(1), float64(6), object(7)\n",
      "memory usage: 891.5+ KB\n"
     ]
    }
   ],
   "source": [
    "df_train.info()"
   ],
   "metadata": {
    "collapsed": false,
    "ExecuteTime": {
     "end_time": "2023-08-19T20:56:50.328481Z",
     "start_time": "2023-08-19T20:56:50.322069Z"
    }
   },
   "id": "16ef6ffb7bf39dc4"
  },
  {
   "cell_type": "code",
   "execution_count": 199,
   "outputs": [
    {
     "data": {
      "text/plain": "               Age   RoomService     FoodCourt  ShoppingMall           Spa  \\\ncount  8514.000000   8512.000000   8510.000000   8485.000000   8510.000000   \nmean     28.827930    224.687617    458.077203    173.729169    311.138778   \nstd      14.489021    666.717663   1611.489240    604.696458   1136.705535   \nmin       0.000000      0.000000      0.000000      0.000000      0.000000   \n25%      19.000000      0.000000      0.000000      0.000000      0.000000   \n50%      27.000000      0.000000      0.000000      0.000000      0.000000   \n75%      38.000000     47.000000     76.000000     27.000000     59.000000   \nmax      79.000000  14327.000000  29813.000000  23492.000000  22408.000000   \n\n             VRDeck  \ncount   8505.000000  \nmean     304.854791  \nstd     1145.717189  \nmin        0.000000  \n25%        0.000000  \n50%        0.000000  \n75%       46.000000  \nmax    24133.000000  ",
      "text/html": "<div>\n<style scoped>\n    .dataframe tbody tr th:only-of-type {\n        vertical-align: middle;\n    }\n\n    .dataframe tbody tr th {\n        vertical-align: top;\n    }\n\n    .dataframe thead th {\n        text-align: right;\n    }\n</style>\n<table border=\"1\" class=\"dataframe\">\n  <thead>\n    <tr style=\"text-align: right;\">\n      <th></th>\n      <th>Age</th>\n      <th>RoomService</th>\n      <th>FoodCourt</th>\n      <th>ShoppingMall</th>\n      <th>Spa</th>\n      <th>VRDeck</th>\n    </tr>\n  </thead>\n  <tbody>\n    <tr>\n      <th>count</th>\n      <td>8514.000000</td>\n      <td>8512.000000</td>\n      <td>8510.000000</td>\n      <td>8485.000000</td>\n      <td>8510.000000</td>\n      <td>8505.000000</td>\n    </tr>\n    <tr>\n      <th>mean</th>\n      <td>28.827930</td>\n      <td>224.687617</td>\n      <td>458.077203</td>\n      <td>173.729169</td>\n      <td>311.138778</td>\n      <td>304.854791</td>\n    </tr>\n    <tr>\n      <th>std</th>\n      <td>14.489021</td>\n      <td>666.717663</td>\n      <td>1611.489240</td>\n      <td>604.696458</td>\n      <td>1136.705535</td>\n      <td>1145.717189</td>\n    </tr>\n    <tr>\n      <th>min</th>\n      <td>0.000000</td>\n      <td>0.000000</td>\n      <td>0.000000</td>\n      <td>0.000000</td>\n      <td>0.000000</td>\n      <td>0.000000</td>\n    </tr>\n    <tr>\n      <th>25%</th>\n      <td>19.000000</td>\n      <td>0.000000</td>\n      <td>0.000000</td>\n      <td>0.000000</td>\n      <td>0.000000</td>\n      <td>0.000000</td>\n    </tr>\n    <tr>\n      <th>50%</th>\n      <td>27.000000</td>\n      <td>0.000000</td>\n      <td>0.000000</td>\n      <td>0.000000</td>\n      <td>0.000000</td>\n      <td>0.000000</td>\n    </tr>\n    <tr>\n      <th>75%</th>\n      <td>38.000000</td>\n      <td>47.000000</td>\n      <td>76.000000</td>\n      <td>27.000000</td>\n      <td>59.000000</td>\n      <td>46.000000</td>\n    </tr>\n    <tr>\n      <th>max</th>\n      <td>79.000000</td>\n      <td>14327.000000</td>\n      <td>29813.000000</td>\n      <td>23492.000000</td>\n      <td>22408.000000</td>\n      <td>24133.000000</td>\n    </tr>\n  </tbody>\n</table>\n</div>"
     },
     "execution_count": 199,
     "metadata": {},
     "output_type": "execute_result"
    }
   ],
   "source": [
    "df_train.describe()"
   ],
   "metadata": {
    "collapsed": false,
    "ExecuteTime": {
     "end_time": "2023-08-19T20:56:50.732668Z",
     "start_time": "2023-08-19T20:56:50.709637Z"
    }
   },
   "id": "a725a435edf08f28"
  },
  {
   "cell_type": "code",
   "execution_count": 200,
   "outputs": [
    {
     "data": {
      "text/plain": "  PassengerId HomePlanet CryoSleep  Cabin  Destination   Age    VIP  \\\n0     0001_01     Europa     False  B/0/P  TRAPPIST-1e  39.0  False   \n1     0002_01      Earth     False  F/0/S  TRAPPIST-1e  24.0  False   \n2     0003_01     Europa     False  A/0/S  TRAPPIST-1e  58.0   True   \n3     0003_02     Europa     False  A/0/S  TRAPPIST-1e  33.0  False   \n4     0004_01      Earth     False  F/1/S  TRAPPIST-1e  16.0  False   \n\n   RoomService  FoodCourt  ShoppingMall     Spa  VRDeck               Name  \\\n0          0.0        0.0           0.0     0.0     0.0    Maham Ofracculy   \n1        109.0        9.0          25.0   549.0    44.0       Juanna Vines   \n2         43.0     3576.0           0.0  6715.0    49.0      Altark Susent   \n3          0.0     1283.0         371.0  3329.0   193.0       Solam Susent   \n4        303.0       70.0         151.0   565.0     2.0  Willy Santantines   \n\n   Transported  \n0        False  \n1         True  \n2        False  \n3        False  \n4         True  ",
      "text/html": "<div>\n<style scoped>\n    .dataframe tbody tr th:only-of-type {\n        vertical-align: middle;\n    }\n\n    .dataframe tbody tr th {\n        vertical-align: top;\n    }\n\n    .dataframe thead th {\n        text-align: right;\n    }\n</style>\n<table border=\"1\" class=\"dataframe\">\n  <thead>\n    <tr style=\"text-align: right;\">\n      <th></th>\n      <th>PassengerId</th>\n      <th>HomePlanet</th>\n      <th>CryoSleep</th>\n      <th>Cabin</th>\n      <th>Destination</th>\n      <th>Age</th>\n      <th>VIP</th>\n      <th>RoomService</th>\n      <th>FoodCourt</th>\n      <th>ShoppingMall</th>\n      <th>Spa</th>\n      <th>VRDeck</th>\n      <th>Name</th>\n      <th>Transported</th>\n    </tr>\n  </thead>\n  <tbody>\n    <tr>\n      <th>0</th>\n      <td>0001_01</td>\n      <td>Europa</td>\n      <td>False</td>\n      <td>B/0/P</td>\n      <td>TRAPPIST-1e</td>\n      <td>39.0</td>\n      <td>False</td>\n      <td>0.0</td>\n      <td>0.0</td>\n      <td>0.0</td>\n      <td>0.0</td>\n      <td>0.0</td>\n      <td>Maham Ofracculy</td>\n      <td>False</td>\n    </tr>\n    <tr>\n      <th>1</th>\n      <td>0002_01</td>\n      <td>Earth</td>\n      <td>False</td>\n      <td>F/0/S</td>\n      <td>TRAPPIST-1e</td>\n      <td>24.0</td>\n      <td>False</td>\n      <td>109.0</td>\n      <td>9.0</td>\n      <td>25.0</td>\n      <td>549.0</td>\n      <td>44.0</td>\n      <td>Juanna Vines</td>\n      <td>True</td>\n    </tr>\n    <tr>\n      <th>2</th>\n      <td>0003_01</td>\n      <td>Europa</td>\n      <td>False</td>\n      <td>A/0/S</td>\n      <td>TRAPPIST-1e</td>\n      <td>58.0</td>\n      <td>True</td>\n      <td>43.0</td>\n      <td>3576.0</td>\n      <td>0.0</td>\n      <td>6715.0</td>\n      <td>49.0</td>\n      <td>Altark Susent</td>\n      <td>False</td>\n    </tr>\n    <tr>\n      <th>3</th>\n      <td>0003_02</td>\n      <td>Europa</td>\n      <td>False</td>\n      <td>A/0/S</td>\n      <td>TRAPPIST-1e</td>\n      <td>33.0</td>\n      <td>False</td>\n      <td>0.0</td>\n      <td>1283.0</td>\n      <td>371.0</td>\n      <td>3329.0</td>\n      <td>193.0</td>\n      <td>Solam Susent</td>\n      <td>False</td>\n    </tr>\n    <tr>\n      <th>4</th>\n      <td>0004_01</td>\n      <td>Earth</td>\n      <td>False</td>\n      <td>F/1/S</td>\n      <td>TRAPPIST-1e</td>\n      <td>16.0</td>\n      <td>False</td>\n      <td>303.0</td>\n      <td>70.0</td>\n      <td>151.0</td>\n      <td>565.0</td>\n      <td>2.0</td>\n      <td>Willy Santantines</td>\n      <td>True</td>\n    </tr>\n  </tbody>\n</table>\n</div>"
     },
     "execution_count": 200,
     "metadata": {},
     "output_type": "execute_result"
    }
   ],
   "source": [
    "df_train.head()"
   ],
   "metadata": {
    "collapsed": false,
    "ExecuteTime": {
     "end_time": "2023-08-19T20:56:51.043991Z",
     "start_time": "2023-08-19T20:56:51.041432Z"
    }
   },
   "id": "3673c9556809f984"
  },
  {
   "cell_type": "code",
   "execution_count": 201,
   "outputs": [
    {
     "data": {
      "text/plain": "  PassengerId HomePlanet CryoSleep  Cabin  Destination   Age    VIP  \\\n0     0001_01     Europa     False  B/0/P  TRAPPIST-1e  39.0  False   \n1     0002_01      Earth     False  F/0/S  TRAPPIST-1e  24.0  False   \n2     0003_01     Europa     False  A/0/S  TRAPPIST-1e  58.0   True   \n3     0003_02     Europa     False  A/0/S  TRAPPIST-1e  33.0  False   \n4     0004_01      Earth     False  F/1/S  TRAPPIST-1e  16.0  False   \n\n   RoomService  FoodCourt  ShoppingMall     Spa  VRDeck  Transported  \n0          0.0        0.0           0.0     0.0     0.0        False  \n1        109.0        9.0          25.0   549.0    44.0         True  \n2         43.0     3576.0           0.0  6715.0    49.0        False  \n3          0.0     1283.0         371.0  3329.0   193.0        False  \n4        303.0       70.0         151.0   565.0     2.0         True  ",
      "text/html": "<div>\n<style scoped>\n    .dataframe tbody tr th:only-of-type {\n        vertical-align: middle;\n    }\n\n    .dataframe tbody tr th {\n        vertical-align: top;\n    }\n\n    .dataframe thead th {\n        text-align: right;\n    }\n</style>\n<table border=\"1\" class=\"dataframe\">\n  <thead>\n    <tr style=\"text-align: right;\">\n      <th></th>\n      <th>PassengerId</th>\n      <th>HomePlanet</th>\n      <th>CryoSleep</th>\n      <th>Cabin</th>\n      <th>Destination</th>\n      <th>Age</th>\n      <th>VIP</th>\n      <th>RoomService</th>\n      <th>FoodCourt</th>\n      <th>ShoppingMall</th>\n      <th>Spa</th>\n      <th>VRDeck</th>\n      <th>Transported</th>\n    </tr>\n  </thead>\n  <tbody>\n    <tr>\n      <th>0</th>\n      <td>0001_01</td>\n      <td>Europa</td>\n      <td>False</td>\n      <td>B/0/P</td>\n      <td>TRAPPIST-1e</td>\n      <td>39.0</td>\n      <td>False</td>\n      <td>0.0</td>\n      <td>0.0</td>\n      <td>0.0</td>\n      <td>0.0</td>\n      <td>0.0</td>\n      <td>False</td>\n    </tr>\n    <tr>\n      <th>1</th>\n      <td>0002_01</td>\n      <td>Earth</td>\n      <td>False</td>\n      <td>F/0/S</td>\n      <td>TRAPPIST-1e</td>\n      <td>24.0</td>\n      <td>False</td>\n      <td>109.0</td>\n      <td>9.0</td>\n      <td>25.0</td>\n      <td>549.0</td>\n      <td>44.0</td>\n      <td>True</td>\n    </tr>\n    <tr>\n      <th>2</th>\n      <td>0003_01</td>\n      <td>Europa</td>\n      <td>False</td>\n      <td>A/0/S</td>\n      <td>TRAPPIST-1e</td>\n      <td>58.0</td>\n      <td>True</td>\n      <td>43.0</td>\n      <td>3576.0</td>\n      <td>0.0</td>\n      <td>6715.0</td>\n      <td>49.0</td>\n      <td>False</td>\n    </tr>\n    <tr>\n      <th>3</th>\n      <td>0003_02</td>\n      <td>Europa</td>\n      <td>False</td>\n      <td>A/0/S</td>\n      <td>TRAPPIST-1e</td>\n      <td>33.0</td>\n      <td>False</td>\n      <td>0.0</td>\n      <td>1283.0</td>\n      <td>371.0</td>\n      <td>3329.0</td>\n      <td>193.0</td>\n      <td>False</td>\n    </tr>\n    <tr>\n      <th>4</th>\n      <td>0004_01</td>\n      <td>Earth</td>\n      <td>False</td>\n      <td>F/1/S</td>\n      <td>TRAPPIST-1e</td>\n      <td>16.0</td>\n      <td>False</td>\n      <td>303.0</td>\n      <td>70.0</td>\n      <td>151.0</td>\n      <td>565.0</td>\n      <td>2.0</td>\n      <td>True</td>\n    </tr>\n  </tbody>\n</table>\n</div>"
     },
     "execution_count": 201,
     "metadata": {},
     "output_type": "execute_result"
    }
   ],
   "source": [
    "train_1 = df_train.drop(\"Name\",axis=1,inplace=False)\n",
    "train_1.head()"
   ],
   "metadata": {
    "collapsed": false,
    "ExecuteTime": {
     "end_time": "2023-08-19T20:56:51.678015Z",
     "start_time": "2023-08-19T20:56:51.670872Z"
    }
   },
   "id": "5f0de52b8d9ba81"
  },
  {
   "cell_type": "code",
   "execution_count": 202,
   "outputs": [
    {
     "data": {
      "text/plain": "PassengerId       0\nHomePlanet      201\nCryoSleep       217\nCabin           199\nDestination     182\nAge             179\nVIP             203\nRoomService     181\nFoodCourt       183\nShoppingMall    208\nSpa             183\nVRDeck          188\nTransported       0\ndtype: int64"
     },
     "execution_count": 202,
     "metadata": {},
     "output_type": "execute_result"
    }
   ],
   "source": [
    "train_1.isna().sum()"
   ],
   "metadata": {
    "collapsed": false,
    "ExecuteTime": {
     "end_time": "2023-08-19T20:56:52.081261Z",
     "start_time": "2023-08-19T20:56:52.068282Z"
    }
   },
   "id": "7c5ee59978fd98b"
  },
  {
   "cell_type": "code",
   "execution_count": 203,
   "outputs": [
    {
     "data": {
      "text/plain": "  PassengerId HomePlanet CryoSleep  Cabin  Destination   Age    VIP  \\\n0     0001_01     Europa     False  B/0/P  TRAPPIST-1e  39.0  False   \n1     0002_01      Earth     False  F/0/S  TRAPPIST-1e  24.0  False   \n2     0003_01     Europa     False  A/0/S  TRAPPIST-1e  58.0   True   \n3     0003_02     Europa     False  A/0/S  TRAPPIST-1e  33.0  False   \n4     0004_01      Earth     False  F/1/S  TRAPPIST-1e  16.0  False   \n\n   RoomService  FoodCourt  ShoppingMall     Spa  VRDeck  Transported  \n0          0.0        0.0           0.0     0.0     0.0        False  \n1        109.0        9.0          25.0   549.0    44.0         True  \n2         43.0     3576.0           0.0  6715.0    49.0        False  \n3          0.0     1283.0         371.0  3329.0   193.0        False  \n4        303.0       70.0         151.0   565.0     2.0         True  ",
      "text/html": "<div>\n<style scoped>\n    .dataframe tbody tr th:only-of-type {\n        vertical-align: middle;\n    }\n\n    .dataframe tbody tr th {\n        vertical-align: top;\n    }\n\n    .dataframe thead th {\n        text-align: right;\n    }\n</style>\n<table border=\"1\" class=\"dataframe\">\n  <thead>\n    <tr style=\"text-align: right;\">\n      <th></th>\n      <th>PassengerId</th>\n      <th>HomePlanet</th>\n      <th>CryoSleep</th>\n      <th>Cabin</th>\n      <th>Destination</th>\n      <th>Age</th>\n      <th>VIP</th>\n      <th>RoomService</th>\n      <th>FoodCourt</th>\n      <th>ShoppingMall</th>\n      <th>Spa</th>\n      <th>VRDeck</th>\n      <th>Transported</th>\n    </tr>\n  </thead>\n  <tbody>\n    <tr>\n      <th>0</th>\n      <td>0001_01</td>\n      <td>Europa</td>\n      <td>False</td>\n      <td>B/0/P</td>\n      <td>TRAPPIST-1e</td>\n      <td>39.0</td>\n      <td>False</td>\n      <td>0.0</td>\n      <td>0.0</td>\n      <td>0.0</td>\n      <td>0.0</td>\n      <td>0.0</td>\n      <td>False</td>\n    </tr>\n    <tr>\n      <th>1</th>\n      <td>0002_01</td>\n      <td>Earth</td>\n      <td>False</td>\n      <td>F/0/S</td>\n      <td>TRAPPIST-1e</td>\n      <td>24.0</td>\n      <td>False</td>\n      <td>109.0</td>\n      <td>9.0</td>\n      <td>25.0</td>\n      <td>549.0</td>\n      <td>44.0</td>\n      <td>True</td>\n    </tr>\n    <tr>\n      <th>2</th>\n      <td>0003_01</td>\n      <td>Europa</td>\n      <td>False</td>\n      <td>A/0/S</td>\n      <td>TRAPPIST-1e</td>\n      <td>58.0</td>\n      <td>True</td>\n      <td>43.0</td>\n      <td>3576.0</td>\n      <td>0.0</td>\n      <td>6715.0</td>\n      <td>49.0</td>\n      <td>False</td>\n    </tr>\n    <tr>\n      <th>3</th>\n      <td>0003_02</td>\n      <td>Europa</td>\n      <td>False</td>\n      <td>A/0/S</td>\n      <td>TRAPPIST-1e</td>\n      <td>33.0</td>\n      <td>False</td>\n      <td>0.0</td>\n      <td>1283.0</td>\n      <td>371.0</td>\n      <td>3329.0</td>\n      <td>193.0</td>\n      <td>False</td>\n    </tr>\n    <tr>\n      <th>4</th>\n      <td>0004_01</td>\n      <td>Earth</td>\n      <td>False</td>\n      <td>F/1/S</td>\n      <td>TRAPPIST-1e</td>\n      <td>16.0</td>\n      <td>False</td>\n      <td>303.0</td>\n      <td>70.0</td>\n      <td>151.0</td>\n      <td>565.0</td>\n      <td>2.0</td>\n      <td>True</td>\n    </tr>\n  </tbody>\n</table>\n</div>"
     },
     "execution_count": 203,
     "metadata": {},
     "output_type": "execute_result"
    }
   ],
   "source": [
    "train_2 = train_1.copy()\n",
    "train_2 = train_2.dropna(subset=[\"HomePlanet\"],axis=0,inplace=False)\n",
    "train_2.head()"
   ],
   "metadata": {
    "collapsed": false,
    "ExecuteTime": {
     "end_time": "2023-08-19T20:56:52.516792Z",
     "start_time": "2023-08-19T20:56:52.503489Z"
    }
   },
   "id": "6a7d8a5b08aac8d7"
  },
  {
   "cell_type": "code",
   "execution_count": 204,
   "outputs": [
    {
     "data": {
      "text/plain": "PassengerId       0\nHomePlanet        0\nCryoSleep       215\nCabin           193\nDestination     178\nAge             177\nVIP             200\nRoomService     175\nFoodCourt       181\nShoppingMall    201\nSpa             180\nVRDeck          187\nTransported       0\ndtype: int64"
     },
     "execution_count": 204,
     "metadata": {},
     "output_type": "execute_result"
    }
   ],
   "source": [
    "train_2.isna().sum()"
   ],
   "metadata": {
    "collapsed": false,
    "ExecuteTime": {
     "end_time": "2023-08-19T20:56:52.925171Z",
     "start_time": "2023-08-19T20:56:52.913972Z"
    }
   },
   "id": "6f8bbe2c92111cb9"
  },
  {
   "cell_type": "code",
   "execution_count": 205,
   "outputs": [
    {
     "data": {
      "text/plain": "  PassengerId HomePlanet  CryoSleep  Cabin  Destination   Age    VIP  \\\n0     0001_01     Europa      False  B/0/P  TRAPPIST-1e  39.0  False   \n1     0002_01      Earth      False  F/0/S  TRAPPIST-1e  24.0  False   \n2     0003_01     Europa      False  A/0/S  TRAPPIST-1e  58.0   True   \n3     0003_02     Europa      False  A/0/S  TRAPPIST-1e  33.0  False   \n4     0004_01      Earth      False  F/1/S  TRAPPIST-1e  16.0  False   \n\n   RoomService  FoodCourt  ShoppingMall     Spa  VRDeck  Transported  \n0          0.0        0.0           0.0     0.0     0.0        False  \n1        109.0        9.0          25.0   549.0    44.0         True  \n2         43.0     3576.0           0.0  6715.0    49.0        False  \n3          0.0     1283.0         371.0  3329.0   193.0        False  \n4        303.0       70.0         151.0   565.0     2.0         True  ",
      "text/html": "<div>\n<style scoped>\n    .dataframe tbody tr th:only-of-type {\n        vertical-align: middle;\n    }\n\n    .dataframe tbody tr th {\n        vertical-align: top;\n    }\n\n    .dataframe thead th {\n        text-align: right;\n    }\n</style>\n<table border=\"1\" class=\"dataframe\">\n  <thead>\n    <tr style=\"text-align: right;\">\n      <th></th>\n      <th>PassengerId</th>\n      <th>HomePlanet</th>\n      <th>CryoSleep</th>\n      <th>Cabin</th>\n      <th>Destination</th>\n      <th>Age</th>\n      <th>VIP</th>\n      <th>RoomService</th>\n      <th>FoodCourt</th>\n      <th>ShoppingMall</th>\n      <th>Spa</th>\n      <th>VRDeck</th>\n      <th>Transported</th>\n    </tr>\n  </thead>\n  <tbody>\n    <tr>\n      <th>0</th>\n      <td>0001_01</td>\n      <td>Europa</td>\n      <td>False</td>\n      <td>B/0/P</td>\n      <td>TRAPPIST-1e</td>\n      <td>39.0</td>\n      <td>False</td>\n      <td>0.0</td>\n      <td>0.0</td>\n      <td>0.0</td>\n      <td>0.0</td>\n      <td>0.0</td>\n      <td>False</td>\n    </tr>\n    <tr>\n      <th>1</th>\n      <td>0002_01</td>\n      <td>Earth</td>\n      <td>False</td>\n      <td>F/0/S</td>\n      <td>TRAPPIST-1e</td>\n      <td>24.0</td>\n      <td>False</td>\n      <td>109.0</td>\n      <td>9.0</td>\n      <td>25.0</td>\n      <td>549.0</td>\n      <td>44.0</td>\n      <td>True</td>\n    </tr>\n    <tr>\n      <th>2</th>\n      <td>0003_01</td>\n      <td>Europa</td>\n      <td>False</td>\n      <td>A/0/S</td>\n      <td>TRAPPIST-1e</td>\n      <td>58.0</td>\n      <td>True</td>\n      <td>43.0</td>\n      <td>3576.0</td>\n      <td>0.0</td>\n      <td>6715.0</td>\n      <td>49.0</td>\n      <td>False</td>\n    </tr>\n    <tr>\n      <th>3</th>\n      <td>0003_02</td>\n      <td>Europa</td>\n      <td>False</td>\n      <td>A/0/S</td>\n      <td>TRAPPIST-1e</td>\n      <td>33.0</td>\n      <td>False</td>\n      <td>0.0</td>\n      <td>1283.0</td>\n      <td>371.0</td>\n      <td>3329.0</td>\n      <td>193.0</td>\n      <td>False</td>\n    </tr>\n    <tr>\n      <th>4</th>\n      <td>0004_01</td>\n      <td>Earth</td>\n      <td>False</td>\n      <td>F/1/S</td>\n      <td>TRAPPIST-1e</td>\n      <td>16.0</td>\n      <td>False</td>\n      <td>303.0</td>\n      <td>70.0</td>\n      <td>151.0</td>\n      <td>565.0</td>\n      <td>2.0</td>\n      <td>True</td>\n    </tr>\n  </tbody>\n</table>\n</div>"
     },
     "execution_count": 205,
     "metadata": {},
     "output_type": "execute_result"
    }
   ],
   "source": [
    "train_3 = train_2.copy()\n",
    "train_3[\"CryoSleep\"] = train_3[\"CryoSleep\"].fillna(False)\n",
    "train_3.head()"
   ],
   "metadata": {
    "collapsed": false,
    "ExecuteTime": {
     "end_time": "2023-08-19T20:56:53.348449Z",
     "start_time": "2023-08-19T20:56:53.337190Z"
    }
   },
   "id": "7e033a0f87b3cb8e"
  },
  {
   "cell_type": "code",
   "execution_count": 206,
   "outputs": [
    {
     "data": {
      "text/plain": "PassengerId       0\nHomePlanet        0\nCryoSleep         0\nCabin           193\nDestination     178\nAge             177\nVIP             200\nRoomService     175\nFoodCourt       181\nShoppingMall    201\nSpa             180\nVRDeck          187\nTransported       0\ndtype: int64"
     },
     "execution_count": 206,
     "metadata": {},
     "output_type": "execute_result"
    }
   ],
   "source": [
    "train_3.isna().sum()"
   ],
   "metadata": {
    "collapsed": false,
    "ExecuteTime": {
     "end_time": "2023-08-19T20:56:53.781655Z",
     "start_time": "2023-08-19T20:56:53.778200Z"
    }
   },
   "id": "b81b53036c8256dc"
  },
  {
   "cell_type": "code",
   "execution_count": 207,
   "outputs": [
    {
     "data": {
      "text/plain": "F    2724\nG    2498\nE     853\nB     766\nC     734\nD     468\nA     252\nT       4\nName: Cabin Deck, dtype: int64"
     },
     "execution_count": 207,
     "metadata": {},
     "output_type": "execute_result"
    }
   ],
   "source": [
    "cabin = pd.DataFrame(columns=[\"Cabin Deck\",\"Cabin Number\",\"Cabin Side\"])\n",
    "deck = []\n",
    "num = []\n",
    "side = []\n",
    "for i in list(train_3[\"Cabin\"].to_numpy()):\n",
    "    s = str(i)\n",
    "    stri = s.split(\"/\")\n",
    "    if len(stri)<3:\n",
    "        stri.insert(0,np.nan)\n",
    "        stri[1] = np.nan\n",
    "        stri.insert(2,np.nan)\n",
    "    deck.append(stri[0])\n",
    "    num.append(stri[1])\n",
    "    side.append(stri[2])\n",
    "cabin[\"Cabin Deck\"] = deck\n",
    "cabin[\"Cabin Number\"] = num\n",
    "cabin[\"Cabin Side\"] = side\n",
    "\n",
    "cabin[\"Cabin Deck\"].value_counts()"
   ],
   "metadata": {
    "collapsed": false,
    "ExecuteTime": {
     "end_time": "2023-08-19T20:56:54.250365Z",
     "start_time": "2023-08-19T20:56:54.240410Z"
    }
   },
   "id": "6e87bdf71324ec89"
  },
  {
   "cell_type": "code",
   "execution_count": 208,
   "outputs": [
    {
     "data": {
      "text/plain": "     Cabin Number Cabin Side\n2206            1          P\n2670            2          P\n2698            3          P\n4461            2          S",
      "text/html": "<div>\n<style scoped>\n    .dataframe tbody tr th:only-of-type {\n        vertical-align: middle;\n    }\n\n    .dataframe tbody tr th {\n        vertical-align: top;\n    }\n\n    .dataframe thead th {\n        text-align: right;\n    }\n</style>\n<table border=\"1\" class=\"dataframe\">\n  <thead>\n    <tr style=\"text-align: right;\">\n      <th></th>\n      <th>Cabin Number</th>\n      <th>Cabin Side</th>\n    </tr>\n  </thead>\n  <tbody>\n    <tr>\n      <th>2206</th>\n      <td>1</td>\n      <td>P</td>\n    </tr>\n    <tr>\n      <th>2670</th>\n      <td>2</td>\n      <td>P</td>\n    </tr>\n    <tr>\n      <th>2698</th>\n      <td>3</td>\n      <td>P</td>\n    </tr>\n    <tr>\n      <th>4461</th>\n      <td>2</td>\n      <td>S</td>\n    </tr>\n  </tbody>\n</table>\n</div>"
     },
     "execution_count": 208,
     "metadata": {},
     "output_type": "execute_result"
    }
   ],
   "source": [
    "cabin[[\"Cabin Number\",\"Cabin Side\"]][cabin[\"Cabin Deck\"]==\"T\"]"
   ],
   "metadata": {
    "collapsed": false,
    "ExecuteTime": {
     "end_time": "2023-08-19T20:56:54.848581Z",
     "start_time": "2023-08-19T20:56:54.812181Z"
    }
   },
   "id": "9e969907fd9aab2b"
  },
  {
   "cell_type": "code",
   "execution_count": 209,
   "outputs": [
    {
     "data": {
      "text/plain": "array([[  15,   92,  102,  219],\n       [ 223,  246,  255,  267],\n       [ 274,  287,  306,  309],\n       [ 336,  403,  424,  443],\n       [ 449,  472,  645,  659],\n       [ 671,  679,  693,  764],\n       [ 767,  772,  804,  847],\n       [ 904,  922,  925,  935],\n       [ 955, 1000, 1020, 1029],\n       [1031, 1046, 1105, 1131],\n       [1190, 1203, 1296, 1331],\n       [1348, 1429, 1434, 1445],\n       [1458, 1486, 1525, 1553],\n       [1558, 1575, 1589, 1645],\n       [1733, 1743, 1822, 1915],\n       [1927, 1937, 1967, 2028],\n       [2075, 2254, 2264, 2280],\n       [2310, 2329, 2373, 2448],\n       [2644, 2662, 2697, 2749],\n       [2761, 2794, 2835, 2879],\n       [2970, 2974, 3191, 3203],\n       [3204, 3214, 3232, 3254],\n       [3268, 3306, 3379, 3412],\n       [3416, 3473, 3475, 3616],\n       [3619, 3654, 3665, 3684],\n       [3768, 3794, 3825, 3917],\n       [3930, 3965, 4000, 4024],\n       [4069, 4241, 4256, 4269],\n       [4288, 4297, 4314, 4393],\n       [4411, 4424, 4441, 4558],\n       [4622, 4674, 4819, 4859],\n       [4973, 5007, 5013, 5037],\n       [5128, 5163, 5200, 5270],\n       [5345, 5516, 5550, 5580],\n       [5636, 5674, 5774, 5805],\n       [5873, 5898, 5916, 5919],\n       [5929, 5933, 5971, 6135],\n       [6302, 6385, 6451, 6473],\n       [6621, 6642, 6676, 6690],\n       [6772, 6826, 6837, 6867],\n       [7078, 7117, 7159, 7162],\n       [7183, 7206, 7208, 7222],\n       [7242, 7283, 7297, 7350],\n       [7365, 7427, 7451, 7529],\n       [7615, 7653, 7663, 7664],\n       [7716, 7850, 7855, 7859],\n       [7881, 7924, 7982, 8016],\n       [8023, 8280, 8290, 8313]])"
     },
     "execution_count": 209,
     "metadata": {},
     "output_type": "execute_result"
    }
   ],
   "source": [
    "cabin_1 = cabin.copy()\n",
    "cabin_1[\"Cabin Deck\"] = cabin_1[\"Cabin Deck\"].fillna(\"T\")\n",
    "arr = cabin_1[cabin_1[\"Cabin Number\"].isna()].index.values\n",
    "arr_1 = arr[:-1]\n",
    "arr_2 = arr[-1]\n",
    "arr_1 = arr_1.reshape(int(len(arr_1)/4),4)\n",
    "arr_1"
   ],
   "metadata": {
    "collapsed": false,
    "ExecuteTime": {
     "end_time": "2023-08-19T20:56:55.266101Z",
     "start_time": "2023-08-19T20:56:55.249070Z"
    }
   },
   "id": "7adeb717872fa59d"
  },
  {
   "cell_type": "code",
   "execution_count": 210,
   "outputs": [
    {
     "data": {
      "text/plain": "8458"
     },
     "execution_count": 210,
     "metadata": {},
     "output_type": "execute_result"
    }
   ],
   "source": [
    "arr_2"
   ],
   "metadata": {
    "collapsed": false,
    "ExecuteTime": {
     "end_time": "2023-08-19T20:56:55.964230Z",
     "start_time": "2023-08-19T20:56:55.958165Z"
    }
   },
   "id": "b5de3d7400787bdf"
  },
  {
   "cell_type": "code",
   "execution_count": 211,
   "outputs": [],
   "source": [
    "ctr = 4\n",
    "for iter in arr_1:\n",
    "\n",
    "    cabin_1.loc[iter[0],\"Cabin Number\"] = ctr\n",
    "    cabin_1.loc[iter[0],\"Cabin Side\"] = \"P\"\n",
    "    \n",
    "    cabin_1.loc[iter[1],\"Cabin Number\"] = ctr + 1\n",
    "    cabin_1.loc[iter[1],\"Cabin Side\"] = \"S\"\n",
    "    \n",
    "    cabin_1.loc[iter[2],\"Cabin Number\"] = ctr + 2\n",
    "    cabin_1.loc[iter[2],\"Cabin Side\"] = \"P\"\n",
    "    \n",
    "    cabin_1.loc[iter[3],\"Cabin Number\"] = ctr + 3\n",
    "    cabin_1.loc[iter[3],\"Cabin Side\"] = \"S\"\n",
    "    \n",
    "    ctr += 1\n",
    "    \n",
    "cabin_1.loc[arr_2,\"Cabin Number\"] = ctr + 1\n",
    "cabin_1.loc[arr_2,\"Cabin Side\"] = \"P\""
   ],
   "metadata": {
    "collapsed": false,
    "ExecuteTime": {
     "end_time": "2023-08-19T20:56:56.367032Z",
     "start_time": "2023-08-19T20:56:56.364124Z"
    }
   },
   "id": "7d9c07bf576f38c9"
  },
  {
   "cell_type": "code",
   "execution_count": 212,
   "outputs": [
    {
     "data": {
      "text/plain": "Cabin Deck      0\nCabin Number    0\nCabin Side      0\ndtype: int64"
     },
     "execution_count": 212,
     "metadata": {},
     "output_type": "execute_result"
    }
   ],
   "source": [
    "cabin_1.isna().sum()"
   ],
   "metadata": {
    "collapsed": false,
    "ExecuteTime": {
     "end_time": "2023-08-19T20:56:56.900064Z",
     "start_time": "2023-08-19T20:56:56.888673Z"
    }
   },
   "id": "916e8fa2de035d69"
  },
  {
   "cell_type": "code",
   "execution_count": 213,
   "outputs": [
    {
     "data": {
      "text/plain": "   index Cabin Deck Cabin Number Cabin Side\n0      0          B            0          P\n1      1          F            0          S\n2      2          A            0          S\n3      3          A            0          S\n4      4          F            1          S",
      "text/html": "<div>\n<style scoped>\n    .dataframe tbody tr th:only-of-type {\n        vertical-align: middle;\n    }\n\n    .dataframe tbody tr th {\n        vertical-align: top;\n    }\n\n    .dataframe thead th {\n        text-align: right;\n    }\n</style>\n<table border=\"1\" class=\"dataframe\">\n  <thead>\n    <tr style=\"text-align: right;\">\n      <th></th>\n      <th>index</th>\n      <th>Cabin Deck</th>\n      <th>Cabin Number</th>\n      <th>Cabin Side</th>\n    </tr>\n  </thead>\n  <tbody>\n    <tr>\n      <th>0</th>\n      <td>0</td>\n      <td>B</td>\n      <td>0</td>\n      <td>P</td>\n    </tr>\n    <tr>\n      <th>1</th>\n      <td>1</td>\n      <td>F</td>\n      <td>0</td>\n      <td>S</td>\n    </tr>\n    <tr>\n      <th>2</th>\n      <td>2</td>\n      <td>A</td>\n      <td>0</td>\n      <td>S</td>\n    </tr>\n    <tr>\n      <th>3</th>\n      <td>3</td>\n      <td>A</td>\n      <td>0</td>\n      <td>S</td>\n    </tr>\n    <tr>\n      <th>4</th>\n      <td>4</td>\n      <td>F</td>\n      <td>1</td>\n      <td>S</td>\n    </tr>\n  </tbody>\n</table>\n</div>"
     },
     "execution_count": 213,
     "metadata": {},
     "output_type": "execute_result"
    }
   ],
   "source": [
    "cabin_2 = cabin_1.reset_index()\n",
    "cabin_2.head()"
   ],
   "metadata": {
    "collapsed": false,
    "ExecuteTime": {
     "end_time": "2023-08-19T20:56:57.225379Z",
     "start_time": "2023-08-19T20:56:57.220792Z"
    }
   },
   "id": "bce984458748e273"
  },
  {
   "cell_type": "code",
   "execution_count": 214,
   "outputs": [
    {
     "data": {
      "text/plain": "   index PassengerId HomePlanet  CryoSleep  Cabin  Destination   Age    VIP  \\\n0      0     0001_01     Europa      False  B/0/P  TRAPPIST-1e  39.0  False   \n1      1     0002_01      Earth      False  F/0/S  TRAPPIST-1e  24.0  False   \n2      2     0003_01     Europa      False  A/0/S  TRAPPIST-1e  58.0   True   \n3      3     0003_02     Europa      False  A/0/S  TRAPPIST-1e  33.0  False   \n4      4     0004_01      Earth      False  F/1/S  TRAPPIST-1e  16.0  False   \n\n   RoomService  FoodCourt  ShoppingMall     Spa  VRDeck  Transported  \n0          0.0        0.0           0.0     0.0     0.0        False  \n1        109.0        9.0          25.0   549.0    44.0         True  \n2         43.0     3576.0           0.0  6715.0    49.0        False  \n3          0.0     1283.0         371.0  3329.0   193.0        False  \n4        303.0       70.0         151.0   565.0     2.0         True  ",
      "text/html": "<div>\n<style scoped>\n    .dataframe tbody tr th:only-of-type {\n        vertical-align: middle;\n    }\n\n    .dataframe tbody tr th {\n        vertical-align: top;\n    }\n\n    .dataframe thead th {\n        text-align: right;\n    }\n</style>\n<table border=\"1\" class=\"dataframe\">\n  <thead>\n    <tr style=\"text-align: right;\">\n      <th></th>\n      <th>index</th>\n      <th>PassengerId</th>\n      <th>HomePlanet</th>\n      <th>CryoSleep</th>\n      <th>Cabin</th>\n      <th>Destination</th>\n      <th>Age</th>\n      <th>VIP</th>\n      <th>RoomService</th>\n      <th>FoodCourt</th>\n      <th>ShoppingMall</th>\n      <th>Spa</th>\n      <th>VRDeck</th>\n      <th>Transported</th>\n    </tr>\n  </thead>\n  <tbody>\n    <tr>\n      <th>0</th>\n      <td>0</td>\n      <td>0001_01</td>\n      <td>Europa</td>\n      <td>False</td>\n      <td>B/0/P</td>\n      <td>TRAPPIST-1e</td>\n      <td>39.0</td>\n      <td>False</td>\n      <td>0.0</td>\n      <td>0.0</td>\n      <td>0.0</td>\n      <td>0.0</td>\n      <td>0.0</td>\n      <td>False</td>\n    </tr>\n    <tr>\n      <th>1</th>\n      <td>1</td>\n      <td>0002_01</td>\n      <td>Earth</td>\n      <td>False</td>\n      <td>F/0/S</td>\n      <td>TRAPPIST-1e</td>\n      <td>24.0</td>\n      <td>False</td>\n      <td>109.0</td>\n      <td>9.0</td>\n      <td>25.0</td>\n      <td>549.0</td>\n      <td>44.0</td>\n      <td>True</td>\n    </tr>\n    <tr>\n      <th>2</th>\n      <td>2</td>\n      <td>0003_01</td>\n      <td>Europa</td>\n      <td>False</td>\n      <td>A/0/S</td>\n      <td>TRAPPIST-1e</td>\n      <td>58.0</td>\n      <td>True</td>\n      <td>43.0</td>\n      <td>3576.0</td>\n      <td>0.0</td>\n      <td>6715.0</td>\n      <td>49.0</td>\n      <td>False</td>\n    </tr>\n    <tr>\n      <th>3</th>\n      <td>3</td>\n      <td>0003_02</td>\n      <td>Europa</td>\n      <td>False</td>\n      <td>A/0/S</td>\n      <td>TRAPPIST-1e</td>\n      <td>33.0</td>\n      <td>False</td>\n      <td>0.0</td>\n      <td>1283.0</td>\n      <td>371.0</td>\n      <td>3329.0</td>\n      <td>193.0</td>\n      <td>False</td>\n    </tr>\n    <tr>\n      <th>4</th>\n      <td>4</td>\n      <td>0004_01</td>\n      <td>Earth</td>\n      <td>False</td>\n      <td>F/1/S</td>\n      <td>TRAPPIST-1e</td>\n      <td>16.0</td>\n      <td>False</td>\n      <td>303.0</td>\n      <td>70.0</td>\n      <td>151.0</td>\n      <td>565.0</td>\n      <td>2.0</td>\n      <td>True</td>\n    </tr>\n  </tbody>\n</table>\n</div>"
     },
     "execution_count": 214,
     "metadata": {},
     "output_type": "execute_result"
    }
   ],
   "source": [
    "train_4 = train_3.reset_index()\n",
    "train_4.head()"
   ],
   "metadata": {
    "collapsed": false,
    "ExecuteTime": {
     "end_time": "2023-08-19T20:56:57.666678Z",
     "start_time": "2023-08-19T20:56:57.659221Z"
    }
   },
   "id": "b9efc5abb73370dc"
  },
  {
   "cell_type": "code",
   "execution_count": 215,
   "outputs": [
    {
     "data": {
      "text/plain": "index             0\nPassengerId       0\nHomePlanet        0\nCabin Deck        0\nCabin Number      0\nCabin Side        0\nCryoSleep         0\nDestination     174\nAge             176\nVIP             196\nRoomService     172\nFoodCourt       179\nShoppingMall    192\nSpa             175\nVRDeck          184\nTransported       0\ndtype: int64"
     },
     "execution_count": 215,
     "metadata": {},
     "output_type": "execute_result"
    }
   ],
   "source": [
    "train_5 = pd.merge(left=train_4,right=cabin_2,how=\"inner\",on=\"index\")\n",
    "train_5.drop(\"Cabin\",axis=1,inplace=True)\n",
    "train_5 = train_5[[\"index\",\"PassengerId\",\"HomePlanet\",\"Cabin Deck\",\"Cabin Number\",\"Cabin Side\",\"CryoSleep\",\"Destination\",\"Age\",\"VIP\",\"RoomService\",\"FoodCourt\",\"ShoppingMall\",\"Spa\",\"VRDeck\",\"Transported\"]]\n",
    "train_5.isna().sum()"
   ],
   "metadata": {
    "collapsed": false,
    "ExecuteTime": {
     "end_time": "2023-08-19T20:56:58.312716Z",
     "start_time": "2023-08-19T20:56:58.272931Z"
    }
   },
   "id": "99244b51aa031157"
  },
  {
   "cell_type": "code",
   "execution_count": 216,
   "outputs": [
    {
     "data": {
      "text/plain": "array(['TRAPPIST-1e', 'PSO J318.5-22', '55 Cancri e', nan], dtype=object)"
     },
     "execution_count": 216,
     "metadata": {},
     "output_type": "execute_result"
    }
   ],
   "source": [
    "train_5[\"Destination\"].unique()"
   ],
   "metadata": {
    "collapsed": false,
    "ExecuteTime": {
     "end_time": "2023-08-19T20:56:58.629606Z",
     "start_time": "2023-08-19T20:56:58.612806Z"
    }
   },
   "id": "4b2abe389edce944"
  },
  {
   "cell_type": "code",
   "execution_count": 217,
   "outputs": [
    {
     "data": {
      "text/plain": "   index PassengerId HomePlanet Cabin Deck Cabin Number Cabin Side  CryoSleep  \\\n0      0     0001_01     Europa          B            0          P      False   \n1      1     0002_01      Earth          F            0          S      False   \n2      2     0003_01     Europa          A            0          S      False   \n3      3     0003_02     Europa          A            0          S      False   \n4      4     0004_01      Earth          F            1          S      False   \n\n   Destination   Age    VIP  RoomService  FoodCourt  ShoppingMall     Spa  \\\n0  TRAPPIST-1e  39.0  False          0.0        0.0           0.0     0.0   \n1  TRAPPIST-1e  24.0  False        109.0        9.0          25.0   549.0   \n2  TRAPPIST-1e  58.0   True         43.0     3576.0           0.0  6715.0   \n3  TRAPPIST-1e  33.0  False          0.0     1283.0         371.0  3329.0   \n4  TRAPPIST-1e  16.0  False        303.0       70.0         151.0   565.0   \n\n   VRDeck  Transported  \n0     0.0        False  \n1    44.0         True  \n2    49.0        False  \n3   193.0        False  \n4     2.0         True  ",
      "text/html": "<div>\n<style scoped>\n    .dataframe tbody tr th:only-of-type {\n        vertical-align: middle;\n    }\n\n    .dataframe tbody tr th {\n        vertical-align: top;\n    }\n\n    .dataframe thead th {\n        text-align: right;\n    }\n</style>\n<table border=\"1\" class=\"dataframe\">\n  <thead>\n    <tr style=\"text-align: right;\">\n      <th></th>\n      <th>index</th>\n      <th>PassengerId</th>\n      <th>HomePlanet</th>\n      <th>Cabin Deck</th>\n      <th>Cabin Number</th>\n      <th>Cabin Side</th>\n      <th>CryoSleep</th>\n      <th>Destination</th>\n      <th>Age</th>\n      <th>VIP</th>\n      <th>RoomService</th>\n      <th>FoodCourt</th>\n      <th>ShoppingMall</th>\n      <th>Spa</th>\n      <th>VRDeck</th>\n      <th>Transported</th>\n    </tr>\n  </thead>\n  <tbody>\n    <tr>\n      <th>0</th>\n      <td>0</td>\n      <td>0001_01</td>\n      <td>Europa</td>\n      <td>B</td>\n      <td>0</td>\n      <td>P</td>\n      <td>False</td>\n      <td>TRAPPIST-1e</td>\n      <td>39.0</td>\n      <td>False</td>\n      <td>0.0</td>\n      <td>0.0</td>\n      <td>0.0</td>\n      <td>0.0</td>\n      <td>0.0</td>\n      <td>False</td>\n    </tr>\n    <tr>\n      <th>1</th>\n      <td>1</td>\n      <td>0002_01</td>\n      <td>Earth</td>\n      <td>F</td>\n      <td>0</td>\n      <td>S</td>\n      <td>False</td>\n      <td>TRAPPIST-1e</td>\n      <td>24.0</td>\n      <td>False</td>\n      <td>109.0</td>\n      <td>9.0</td>\n      <td>25.0</td>\n      <td>549.0</td>\n      <td>44.0</td>\n      <td>True</td>\n    </tr>\n    <tr>\n      <th>2</th>\n      <td>2</td>\n      <td>0003_01</td>\n      <td>Europa</td>\n      <td>A</td>\n      <td>0</td>\n      <td>S</td>\n      <td>False</td>\n      <td>TRAPPIST-1e</td>\n      <td>58.0</td>\n      <td>True</td>\n      <td>43.0</td>\n      <td>3576.0</td>\n      <td>0.0</td>\n      <td>6715.0</td>\n      <td>49.0</td>\n      <td>False</td>\n    </tr>\n    <tr>\n      <th>3</th>\n      <td>3</td>\n      <td>0003_02</td>\n      <td>Europa</td>\n      <td>A</td>\n      <td>0</td>\n      <td>S</td>\n      <td>False</td>\n      <td>TRAPPIST-1e</td>\n      <td>33.0</td>\n      <td>False</td>\n      <td>0.0</td>\n      <td>1283.0</td>\n      <td>371.0</td>\n      <td>3329.0</td>\n      <td>193.0</td>\n      <td>False</td>\n    </tr>\n    <tr>\n      <th>4</th>\n      <td>4</td>\n      <td>0004_01</td>\n      <td>Earth</td>\n      <td>F</td>\n      <td>1</td>\n      <td>S</td>\n      <td>False</td>\n      <td>TRAPPIST-1e</td>\n      <td>16.0</td>\n      <td>False</td>\n      <td>303.0</td>\n      <td>70.0</td>\n      <td>151.0</td>\n      <td>565.0</td>\n      <td>2.0</td>\n      <td>True</td>\n    </tr>\n  </tbody>\n</table>\n</div>"
     },
     "execution_count": 217,
     "metadata": {},
     "output_type": "execute_result"
    }
   ],
   "source": [
    "train_6 = train_5.dropna(subset=[\"Destination\"],axis=0,inplace=False)\n",
    "train_6.head()"
   ],
   "metadata": {
    "collapsed": false,
    "ExecuteTime": {
     "end_time": "2023-08-19T20:56:59.022865Z",
     "start_time": "2023-08-19T20:56:59.005392Z"
    }
   },
   "id": "f0cd08d27407a982"
  },
  {
   "cell_type": "code",
   "execution_count": 218,
   "outputs": [
    {
     "data": {
      "text/plain": "index             0\nPassengerId       0\nHomePlanet        0\nCabin Deck        0\nCabin Number      0\nCabin Side        0\nCryoSleep         0\nDestination       0\nAge             173\nVIP             193\nRoomService     169\nFoodCourt       173\nShoppingMall    187\nSpa             172\nVRDeck          182\nTransported       0\ndtype: int64"
     },
     "execution_count": 218,
     "metadata": {},
     "output_type": "execute_result"
    }
   ],
   "source": [
    "train_6.isna().sum()"
   ],
   "metadata": {
    "collapsed": false,
    "ExecuteTime": {
     "end_time": "2023-08-19T20:56:59.378943Z",
     "start_time": "2023-08-19T20:56:59.370308Z"
    }
   },
   "id": "3f0877e5269f460f"
  },
  {
   "cell_type": "code",
   "execution_count": 219,
   "outputs": [
    {
     "data": {
      "text/plain": "   index PassengerId HomePlanet Cabin Deck Cabin Number Cabin Side  CryoSleep  \\\n0      0     0001_01     Europa          B            0          P      False   \n1      1     0002_01      Earth          F            0          S      False   \n2      2     0003_01     Europa          A            0          S      False   \n3      3     0003_02     Europa          A            0          S      False   \n4      4     0004_01      Earth          F            1          S      False   \n\n   Destination   Age    VIP  RoomService  FoodCourt  ShoppingMall     Spa  \\\n0  TRAPPIST-1e  27.0  False          0.0        0.0           0.0     0.0   \n1  TRAPPIST-1e  27.0  False        109.0        9.0          25.0   549.0   \n2  TRAPPIST-1e  27.0   True         43.0     3576.0           0.0  6715.0   \n3  TRAPPIST-1e  27.0  False          0.0     1283.0         371.0  3329.0   \n4  TRAPPIST-1e  27.0  False        303.0       70.0         151.0   565.0   \n\n   VRDeck  Transported  \n0     0.0        False  \n1    44.0         True  \n2    49.0        False  \n3   193.0        False  \n4     2.0         True  ",
      "text/html": "<div>\n<style scoped>\n    .dataframe tbody tr th:only-of-type {\n        vertical-align: middle;\n    }\n\n    .dataframe tbody tr th {\n        vertical-align: top;\n    }\n\n    .dataframe thead th {\n        text-align: right;\n    }\n</style>\n<table border=\"1\" class=\"dataframe\">\n  <thead>\n    <tr style=\"text-align: right;\">\n      <th></th>\n      <th>index</th>\n      <th>PassengerId</th>\n      <th>HomePlanet</th>\n      <th>Cabin Deck</th>\n      <th>Cabin Number</th>\n      <th>Cabin Side</th>\n      <th>CryoSleep</th>\n      <th>Destination</th>\n      <th>Age</th>\n      <th>VIP</th>\n      <th>RoomService</th>\n      <th>FoodCourt</th>\n      <th>ShoppingMall</th>\n      <th>Spa</th>\n      <th>VRDeck</th>\n      <th>Transported</th>\n    </tr>\n  </thead>\n  <tbody>\n    <tr>\n      <th>0</th>\n      <td>0</td>\n      <td>0001_01</td>\n      <td>Europa</td>\n      <td>B</td>\n      <td>0</td>\n      <td>P</td>\n      <td>False</td>\n      <td>TRAPPIST-1e</td>\n      <td>27.0</td>\n      <td>False</td>\n      <td>0.0</td>\n      <td>0.0</td>\n      <td>0.0</td>\n      <td>0.0</td>\n      <td>0.0</td>\n      <td>False</td>\n    </tr>\n    <tr>\n      <th>1</th>\n      <td>1</td>\n      <td>0002_01</td>\n      <td>Earth</td>\n      <td>F</td>\n      <td>0</td>\n      <td>S</td>\n      <td>False</td>\n      <td>TRAPPIST-1e</td>\n      <td>27.0</td>\n      <td>False</td>\n      <td>109.0</td>\n      <td>9.0</td>\n      <td>25.0</td>\n      <td>549.0</td>\n      <td>44.0</td>\n      <td>True</td>\n    </tr>\n    <tr>\n      <th>2</th>\n      <td>2</td>\n      <td>0003_01</td>\n      <td>Europa</td>\n      <td>A</td>\n      <td>0</td>\n      <td>S</td>\n      <td>False</td>\n      <td>TRAPPIST-1e</td>\n      <td>27.0</td>\n      <td>True</td>\n      <td>43.0</td>\n      <td>3576.0</td>\n      <td>0.0</td>\n      <td>6715.0</td>\n      <td>49.0</td>\n      <td>False</td>\n    </tr>\n    <tr>\n      <th>3</th>\n      <td>3</td>\n      <td>0003_02</td>\n      <td>Europa</td>\n      <td>A</td>\n      <td>0</td>\n      <td>S</td>\n      <td>False</td>\n      <td>TRAPPIST-1e</td>\n      <td>27.0</td>\n      <td>False</td>\n      <td>0.0</td>\n      <td>1283.0</td>\n      <td>371.0</td>\n      <td>3329.0</td>\n      <td>193.0</td>\n      <td>False</td>\n    </tr>\n    <tr>\n      <th>4</th>\n      <td>4</td>\n      <td>0004_01</td>\n      <td>Earth</td>\n      <td>F</td>\n      <td>1</td>\n      <td>S</td>\n      <td>False</td>\n      <td>TRAPPIST-1e</td>\n      <td>27.0</td>\n      <td>False</td>\n      <td>303.0</td>\n      <td>70.0</td>\n      <td>151.0</td>\n      <td>565.0</td>\n      <td>2.0</td>\n      <td>True</td>\n    </tr>\n  </tbody>\n</table>\n</div>"
     },
     "execution_count": 219,
     "metadata": {},
     "output_type": "execute_result"
    }
   ],
   "source": [
    "train_7 = train_6.copy()\n",
    "train_7[\"Age\"] = train_7[\"Age\"].median()\n",
    "train_7[\"VIP\"] = train_7[\"VIP\"].fillna(False,inplace=False)\n",
    "train_7[\"RoomService\"] = train_7[\"RoomService\"].fillna(0.0,inplace=False)\n",
    "train_7[\"FoodCourt\"] = train_7[\"FoodCourt\"].fillna(0.0,inplace=False)\n",
    "train_7[\"ShoppingMall\"] = train_7[\"ShoppingMall\"].fillna(0.0,inplace=False)\n",
    "train_7[\"Spa\"] = train_7[\"Spa\"].fillna(0.0,inplace=False)\n",
    "train_7[\"VRDeck\"] = train_7[\"VRDeck\"].fillna(0.0,inplace=False)\n",
    "train_7.head()"
   ],
   "metadata": {
    "collapsed": false,
    "ExecuteTime": {
     "end_time": "2023-08-19T20:56:59.796035Z",
     "start_time": "2023-08-19T20:56:59.784218Z"
    }
   },
   "id": "9ff5e0650aa01fe0"
  },
  {
   "cell_type": "code",
   "execution_count": 220,
   "outputs": [
    {
     "data": {
      "text/plain": "index           0\nPassengerId     0\nHomePlanet      0\nCabin Deck      0\nCabin Number    0\nCabin Side      0\nCryoSleep       0\nDestination     0\nAge             0\nVIP             0\nRoomService     0\nFoodCourt       0\nShoppingMall    0\nSpa             0\nVRDeck          0\nTransported     0\ndtype: int64"
     },
     "execution_count": 220,
     "metadata": {},
     "output_type": "execute_result"
    }
   ],
   "source": [
    "train_7.isna().sum()"
   ],
   "metadata": {
    "collapsed": false,
    "ExecuteTime": {
     "end_time": "2023-08-19T20:57:00.198522Z",
     "start_time": "2023-08-19T20:57:00.190656Z"
    }
   },
   "id": "88e4662fff073696"
  },
  {
   "cell_type": "code",
   "execution_count": 221,
   "outputs": [
    {
     "data": {
      "text/plain": "True     50.320118\nFalse    49.679882\nName: Transported, dtype: float64"
     },
     "execution_count": 221,
     "metadata": {},
     "output_type": "execute_result"
    }
   ],
   "source": [
    "vcount = train_7[\"Transported\"].value_counts()\n",
    "vcount*100/len(train_7)"
   ],
   "metadata": {
    "collapsed": false,
    "ExecuteTime": {
     "end_time": "2023-08-19T20:57:00.581725Z",
     "start_time": "2023-08-19T20:57:00.569205Z"
    }
   },
   "id": "38279f00d532b9dd"
  },
  {
   "cell_type": "code",
   "execution_count": 222,
   "outputs": [
    {
     "data": {
      "text/plain": "<Figure size 640x480 with 1 Axes>",
      "image/png": "[encoded data removed]"
     },
     "metadata": {},
     "output_type": "display_data"
    }
   ],
   "source": [
    "plot = sns.barplot(x=vcount.index,y=vcount)\n",
    "for i in plot.containers:\n",
    "    plot.bar_label(i,)"
   ],
   "metadata": {
    "collapsed": false,
    "ExecuteTime": {
     "end_time": "2023-08-19T20:57:00.974856Z",
     "start_time": "2023-08-19T20:57:00.916253Z"
    }
   },
   "id": "fb787414d5b6a07e"
  },
  {
   "cell_type": "markdown",
   "source": [
    "### Exploratory Data Analysis for the testing dataset"
   ],
   "metadata": {
    "collapsed": false
   },
   "id": "60c857444ba011bd"
  },
  {
   "cell_type": "code",
   "execution_count": 223,
   "outputs": [
    {
     "data": {
      "text/plain": "  PassengerId HomePlanet CryoSleep  Cabin  Destination   Age    VIP  \\\n0     0013_01      Earth      True  G/3/S  TRAPPIST-1e  27.0  False   \n1     0018_01      Earth     False  F/4/S  TRAPPIST-1e  19.0  False   \n2     0019_01     Europa      True  C/0/S  55 Cancri e  31.0  False   \n3     0021_01     Europa     False  C/1/S  TRAPPIST-1e  38.0  False   \n4     0023_01      Earth     False  F/5/S  TRAPPIST-1e  20.0  False   \n\n   RoomService  FoodCourt  ShoppingMall     Spa  VRDeck              Name  \n0          0.0        0.0           0.0     0.0     0.0   Nelly Carsoning  \n1          0.0        9.0           0.0  2823.0     0.0    Lerome Peckers  \n2          0.0        0.0           0.0     0.0     0.0   Sabih Unhearfus  \n3          0.0     6652.0           0.0   181.0   585.0  Meratz Caltilter  \n4         10.0        0.0         635.0     0.0     0.0   Brence Harperez  ",
      "text/html": "<div>\n<style scoped>\n    .dataframe tbody tr th:only-of-type {\n        vertical-align: middle;\n    }\n\n    .dataframe tbody tr th {\n        vertical-align: top;\n    }\n\n    .dataframe thead th {\n        text-align: right;\n    }\n</style>\n<table border=\"1\" class=\"dataframe\">\n  <thead>\n    <tr style=\"text-align: right;\">\n      <th></th>\n      <th>PassengerId</th>\n      <th>HomePlanet</th>\n      <th>CryoSleep</th>\n      <th>Cabin</th>\n      <th>Destination</th>\n      <th>Age</th>\n      <th>VIP</th>\n      <th>RoomService</th>\n      <th>FoodCourt</th>\n      <th>ShoppingMall</th>\n      <th>Spa</th>\n      <th>VRDeck</th>\n      <th>Name</th>\n    </tr>\n  </thead>\n  <tbody>\n    <tr>\n      <th>0</th>\n      <td>0013_01</td>\n      <td>Earth</td>\n      <td>True</td>\n      <td>G/3/S</td>\n      <td>TRAPPIST-1e</td>\n      <td>27.0</td>\n      <td>False</td>\n      <td>0.0</td>\n      <td>0.0</td>\n      <td>0.0</td>\n      <td>0.0</td>\n      <td>0.0</td>\n      <td>Nelly Carsoning</td>\n    </tr>\n    <tr>\n      <th>1</th>\n      <td>0018_01</td>\n      <td>Earth</td>\n      <td>False</td>\n      <td>F/4/S</td>\n      <td>TRAPPIST-1e</td>\n      <td>19.0</td>\n      <td>False</td>\n      <td>0.0</td>\n      <td>9.0</td>\n      <td>0.0</td>\n      <td>2823.0</td>\n      <td>0.0</td>\n      <td>Lerome Peckers</td>\n    </tr>\n    <tr>\n      <th>2</th>\n      <td>0019_01</td>\n      <td>Europa</td>\n      <td>True</td>\n      <td>C/0/S</td>\n      <td>55 Cancri e</td>\n      <td>31.0</td>\n      <td>False</td>\n      <td>0.0</td>\n      <td>0.0</td>\n      <td>0.0</td>\n      <td>0.0</td>\n      <td>0.0</td>\n      <td>Sabih Unhearfus</td>\n    </tr>\n    <tr>\n      <th>3</th>\n      <td>0021_01</td>\n      <td>Europa</td>\n      <td>False</td>\n      <td>C/1/S</td>\n      <td>TRAPPIST-1e</td>\n      <td>38.0</td>\n      <td>False</td>\n      <td>0.0</td>\n      <td>6652.0</td>\n      <td>0.0</td>\n      <td>181.0</td>\n      <td>585.0</td>\n      <td>Meratz Caltilter</td>\n    </tr>\n    <tr>\n      <th>4</th>\n      <td>0023_01</td>\n      <td>Earth</td>\n      <td>False</td>\n      <td>F/5/S</td>\n      <td>TRAPPIST-1e</td>\n      <td>20.0</td>\n      <td>False</td>\n      <td>10.0</td>\n      <td>0.0</td>\n      <td>635.0</td>\n      <td>0.0</td>\n      <td>0.0</td>\n      <td>Brence Harperez</td>\n    </tr>\n  </tbody>\n</table>\n</div>"
     },
     "execution_count": 223,
     "metadata": {},
     "output_type": "execute_result"
    }
   ],
   "source": [
    "df_test.head()"
   ],
   "metadata": {
    "collapsed": false,
    "ExecuteTime": {
     "end_time": "2023-08-19T20:57:01.715325Z",
     "start_time": "2023-08-19T20:57:01.707731Z"
    }
   },
   "id": "3843291ff72fae2e"
  },
  {
   "cell_type": "code",
   "execution_count": 224,
   "outputs": [
    {
     "name": "stdout",
     "output_type": "stream",
     "text": [
      "<class 'pandas.core.frame.DataFrame'>\n",
      "RangeIndex: 4277 entries, 0 to 4276\n",
      "Data columns (total 13 columns):\n",
      " #   Column        Non-Null Count  Dtype  \n",
      "---  ------        --------------  -----  \n",
      " 0   PassengerId   4277 non-null   object \n",
      " 1   HomePlanet    4190 non-null   object \n",
      " 2   CryoSleep     4184 non-null   object \n",
      " 3   Cabin         4177 non-null   object \n",
      " 4   Destination   4185 non-null   object \n",
      " 5   Age           4186 non-null   float64\n",
      " 6   VIP           4184 non-null   object \n",
      " 7   RoomService   4195 non-null   float64\n",
      " 8   FoodCourt     4171 non-null   float64\n",
      " 9   ShoppingMall  4179 non-null   float64\n",
      " 10  Spa           4176 non-null   float64\n",
      " 11  VRDeck        4197 non-null   float64\n",
      " 12  Name          4183 non-null   object \n",
      "dtypes: float64(6), object(7)\n",
      "memory usage: 434.5+ KB\n"
     ]
    }
   ],
   "source": [
    "df_test.info()"
   ],
   "metadata": {
    "collapsed": false,
    "ExecuteTime": {
     "end_time": "2023-08-19T20:57:02.491913Z",
     "start_time": "2023-08-19T20:57:02.478197Z"
    }
   },
   "id": "533b2d78e5032cb9"
  },
  {
   "cell_type": "code",
   "execution_count": 225,
   "outputs": [
    {
     "data": {
      "text/plain": "               Age   RoomService     FoodCourt  ShoppingMall           Spa  \\\ncount  4186.000000   4195.000000   4171.000000   4179.000000   4176.000000   \nmean     28.658146    219.266269    439.484296    177.295525    303.052443   \nstd      14.179072    607.011289   1527.663045    560.821123   1117.186015   \nmin       0.000000      0.000000      0.000000      0.000000      0.000000   \n25%      19.000000      0.000000      0.000000      0.000000      0.000000   \n50%      26.000000      0.000000      0.000000      0.000000      0.000000   \n75%      37.000000     53.000000     78.000000     33.000000     50.000000   \nmax      79.000000  11567.000000  25273.000000   8292.000000  19844.000000   \n\n             VRDeck  \ncount   4197.000000  \nmean     310.710031  \nstd     1246.994742  \nmin        0.000000  \n25%        0.000000  \n50%        0.000000  \n75%       36.000000  \nmax    22272.000000  ",
      "text/html": "<div>\n<style scoped>\n    .dataframe tbody tr th:only-of-type {\n        vertical-align: middle;\n    }\n\n    .dataframe tbody tr th {\n        vertical-align: top;\n    }\n\n    .dataframe thead th {\n        text-align: right;\n    }\n</style>\n<table border=\"1\" class=\"dataframe\">\n  <thead>\n    <tr style=\"text-align: right;\">\n      <th></th>\n      <th>Age</th>\n      <th>RoomService</th>\n      <th>FoodCourt</th>\n      <th>ShoppingMall</th>\n      <th>Spa</th>\n      <th>VRDeck</th>\n    </tr>\n  </thead>\n  <tbody>\n    <tr>\n      <th>count</th>\n      <td>4186.000000</td>\n      <td>4195.000000</td>\n      <td>4171.000000</td>\n      <td>4179.000000</td>\n      <td>4176.000000</td>\n      <td>4197.000000</td>\n    </tr>\n    <tr>\n      <th>mean</th>\n      <td>28.658146</td>\n      <td>219.266269</td>\n      <td>439.484296</td>\n      <td>177.295525</td>\n      <td>303.052443</td>\n      <td>310.710031</td>\n    </tr>\n    <tr>\n      <th>std</th>\n      <td>14.179072</td>\n      <td>607.011289</td>\n      <td>1527.663045</td>\n      <td>560.821123</td>\n      <td>1117.186015</td>\n      <td>1246.994742</td>\n    </tr>\n    <tr>\n      <th>min</th>\n      <td>0.000000</td>\n      <td>0.000000</td>\n      <td>0.000000</td>\n      <td>0.000000</td>\n      <td>0.000000</td>\n      <td>0.000000</td>\n    </tr>\n    <tr>\n      <th>25%</th>\n      <td>19.000000</td>\n      <td>0.000000</td>\n      <td>0.000000</td>\n      <td>0.000000</td>\n      <td>0.000000</td>\n      <td>0.000000</td>\n    </tr>\n    <tr>\n      <th>50%</th>\n      <td>26.000000</td>\n      <td>0.000000</td>\n      <td>0.000000</td>\n      <td>0.000000</td>\n      <td>0.000000</td>\n      <td>0.000000</td>\n    </tr>\n    <tr>\n      <th>75%</th>\n      <td>37.000000</td>\n      <td>53.000000</td>\n      <td>78.000000</td>\n      <td>33.000000</td>\n      <td>50.000000</td>\n      <td>36.000000</td>\n    </tr>\n    <tr>\n      <th>max</th>\n      <td>79.000000</td>\n      <td>11567.000000</td>\n      <td>25273.000000</td>\n      <td>8292.000000</td>\n      <td>19844.000000</td>\n      <td>22272.000000</td>\n    </tr>\n  </tbody>\n</table>\n</div>"
     },
     "execution_count": 225,
     "metadata": {},
     "output_type": "execute_result"
    }
   ],
   "source": [
    "df_test.describe()"
   ],
   "metadata": {
    "collapsed": false,
    "ExecuteTime": {
     "end_time": "2023-08-19T20:57:02.901574Z",
     "start_time": "2023-08-19T20:57:02.884777Z"
    }
   },
   "id": "766f7e70d736d5d8"
  },
  {
   "cell_type": "code",
   "execution_count": 226,
   "outputs": [
    {
     "data": {
      "text/plain": "PassengerId       0\nHomePlanet       87\nCryoSleep        93\nCabin           100\nDestination      92\nAge              91\nVIP              93\nRoomService      82\nFoodCourt       106\nShoppingMall     98\nSpa             101\nVRDeck           80\nName             94\ndtype: int64"
     },
     "execution_count": 226,
     "metadata": {},
     "output_type": "execute_result"
    }
   ],
   "source": [
    "df_test.isna().sum()"
   ],
   "metadata": {
    "collapsed": false,
    "ExecuteTime": {
     "end_time": "2023-08-19T20:57:03.332546Z",
     "start_time": "2023-08-19T20:57:03.321694Z"
    }
   },
   "id": "613676ac02e805a2"
  },
  {
   "cell_type": "code",
   "execution_count": 227,
   "outputs": [
    {
     "data": {
      "text/plain": "  PassengerId HomePlanet CryoSleep  Cabin  Destination   Age    VIP  \\\n0     0013_01      Earth      True  G/3/S  TRAPPIST-1e  27.0  False   \n1     0018_01      Earth     False  F/4/S  TRAPPIST-1e  19.0  False   \n2     0019_01     Europa      True  C/0/S  55 Cancri e  31.0  False   \n3     0021_01     Europa     False  C/1/S  TRAPPIST-1e  38.0  False   \n4     0023_01      Earth     False  F/5/S  TRAPPIST-1e  20.0  False   \n\n   RoomService  FoodCourt  ShoppingMall     Spa  VRDeck  \n0          0.0        0.0           0.0     0.0     0.0  \n1          0.0        9.0           0.0  2823.0     0.0  \n2          0.0        0.0           0.0     0.0     0.0  \n3          0.0     6652.0           0.0   181.0   585.0  \n4         10.0        0.0         635.0     0.0     0.0  ",
      "text/html": "<div>\n<style scoped>\n    .dataframe tbody tr th:only-of-type {\n        vertical-align: middle;\n    }\n\n    .dataframe tbody tr th {\n        vertical-align: top;\n    }\n\n    .dataframe thead th {\n        text-align: right;\n    }\n</style>\n<table border=\"1\" class=\"dataframe\">\n  <thead>\n    <tr style=\"text-align: right;\">\n      <th></th>\n      <th>PassengerId</th>\n      <th>HomePlanet</th>\n      <th>CryoSleep</th>\n      <th>Cabin</th>\n      <th>Destination</th>\n      <th>Age</th>\n      <th>VIP</th>\n      <th>RoomService</th>\n      <th>FoodCourt</th>\n      <th>ShoppingMall</th>\n      <th>Spa</th>\n      <th>VRDeck</th>\n    </tr>\n  </thead>\n  <tbody>\n    <tr>\n      <th>0</th>\n      <td>0013_01</td>\n      <td>Earth</td>\n      <td>True</td>\n      <td>G/3/S</td>\n      <td>TRAPPIST-1e</td>\n      <td>27.0</td>\n      <td>False</td>\n      <td>0.0</td>\n      <td>0.0</td>\n      <td>0.0</td>\n      <td>0.0</td>\n      <td>0.0</td>\n    </tr>\n    <tr>\n      <th>1</th>\n      <td>0018_01</td>\n      <td>Earth</td>\n      <td>False</td>\n      <td>F/4/S</td>\n      <td>TRAPPIST-1e</td>\n      <td>19.0</td>\n      <td>False</td>\n      <td>0.0</td>\n      <td>9.0</td>\n      <td>0.0</td>\n      <td>2823.0</td>\n      <td>0.0</td>\n    </tr>\n    <tr>\n      <th>2</th>\n      <td>0019_01</td>\n      <td>Europa</td>\n      <td>True</td>\n      <td>C/0/S</td>\n      <td>55 Cancri e</td>\n      <td>31.0</td>\n      <td>False</td>\n      <td>0.0</td>\n      <td>0.0</td>\n      <td>0.0</td>\n      <td>0.0</td>\n      <td>0.0</td>\n    </tr>\n    <tr>\n      <th>3</th>\n      <td>0021_01</td>\n      <td>Europa</td>\n      <td>False</td>\n      <td>C/1/S</td>\n      <td>TRAPPIST-1e</td>\n      <td>38.0</td>\n      <td>False</td>\n      <td>0.0</td>\n      <td>6652.0</td>\n      <td>0.0</td>\n      <td>181.0</td>\n      <td>585.0</td>\n    </tr>\n    <tr>\n      <th>4</th>\n      <td>0023_01</td>\n      <td>Earth</td>\n      <td>False</td>\n      <td>F/5/S</td>\n      <td>TRAPPIST-1e</td>\n      <td>20.0</td>\n      <td>False</td>\n      <td>10.0</td>\n      <td>0.0</td>\n      <td>635.0</td>\n      <td>0.0</td>\n      <td>0.0</td>\n    </tr>\n  </tbody>\n</table>\n</div>"
     },
     "execution_count": 227,
     "metadata": {},
     "output_type": "execute_result"
    }
   ],
   "source": [
    "test_1 = df_test.drop(\"Name\", axis=1, inplace=False)\n",
    "test_1.head()"
   ],
   "metadata": {
    "collapsed": false,
    "ExecuteTime": {
     "end_time": "2023-08-19T20:57:03.914204Z",
     "start_time": "2023-08-19T20:57:03.905449Z"
    }
   },
   "id": "69ca0d37350211bf"
  },
  {
   "cell_type": "code",
   "execution_count": 228,
   "outputs": [
    {
     "data": {
      "text/plain": "PassengerId       0\nHomePlanet       87\nCryoSleep        93\nCabin           100\nDestination      92\nAge              91\nVIP              93\nRoomService      82\nFoodCourt       106\nShoppingMall     98\nSpa             101\nVRDeck           80\ndtype: int64"
     },
     "execution_count": 228,
     "metadata": {},
     "output_type": "execute_result"
    }
   ],
   "source": [
    "test_1.isna().sum()"
   ],
   "metadata": {
    "collapsed": false,
    "ExecuteTime": {
     "end_time": "2023-08-19T20:57:04.548533Z",
     "start_time": "2023-08-19T20:57:04.531405Z"
    }
   },
   "id": "90a943e25726cdd0"
  },
  {
   "cell_type": "code",
   "execution_count": 229,
   "outputs": [
    {
     "data": {
      "text/plain": "  PassengerId HomePlanet CryoSleep  Cabin  Destination   Age    VIP  \\\n0     0013_01      Earth      True  G/3/S  TRAPPIST-1e  27.0  False   \n1     0018_01      Earth     False  F/4/S  TRAPPIST-1e  19.0  False   \n2     0019_01     Europa      True  C/0/S  55 Cancri e  31.0  False   \n3     0021_01     Europa     False  C/1/S  TRAPPIST-1e  38.0  False   \n4     0023_01      Earth     False  F/5/S  TRAPPIST-1e  20.0  False   \n\n   RoomService  FoodCourt  ShoppingMall     Spa  VRDeck  \n0          0.0        0.0           0.0     0.0     0.0  \n1          0.0        9.0           0.0  2823.0     0.0  \n2          0.0        0.0           0.0     0.0     0.0  \n3          0.0     6652.0           0.0   181.0   585.0  \n4         10.0        0.0         635.0     0.0     0.0  ",
      "text/html": "<div>\n<style scoped>\n    .dataframe tbody tr th:only-of-type {\n        vertical-align: middle;\n    }\n\n    .dataframe tbody tr th {\n        vertical-align: top;\n    }\n\n    .dataframe thead th {\n        text-align: right;\n    }\n</style>\n<table border=\"1\" class=\"dataframe\">\n  <thead>\n    <tr style=\"text-align: right;\">\n      <th></th>\n      <th>PassengerId</th>\n      <th>HomePlanet</th>\n      <th>CryoSleep</th>\n      <th>Cabin</th>\n      <th>Destination</th>\n      <th>Age</th>\n      <th>VIP</th>\n      <th>RoomService</th>\n      <th>FoodCourt</th>\n      <th>ShoppingMall</th>\n      <th>Spa</th>\n      <th>VRDeck</th>\n    </tr>\n  </thead>\n  <tbody>\n    <tr>\n      <th>0</th>\n      <td>0013_01</td>\n      <td>Earth</td>\n      <td>True</td>\n      <td>G/3/S</td>\n      <td>TRAPPIST-1e</td>\n      <td>27.0</td>\n      <td>False</td>\n      <td>0.0</td>\n      <td>0.0</td>\n      <td>0.0</td>\n      <td>0.0</td>\n      <td>0.0</td>\n    </tr>\n    <tr>\n      <th>1</th>\n      <td>0018_01</td>\n      <td>Earth</td>\n      <td>False</td>\n      <td>F/4/S</td>\n      <td>TRAPPIST-1e</td>\n      <td>19.0</td>\n      <td>False</td>\n      <td>0.0</td>\n      <td>9.0</td>\n      <td>0.0</td>\n      <td>2823.0</td>\n      <td>0.0</td>\n    </tr>\n    <tr>\n      <th>2</th>\n      <td>0019_01</td>\n      <td>Europa</td>\n      <td>True</td>\n      <td>C/0/S</td>\n      <td>55 Cancri e</td>\n      <td>31.0</td>\n      <td>False</td>\n      <td>0.0</td>\n      <td>0.0</td>\n      <td>0.0</td>\n      <td>0.0</td>\n      <td>0.0</td>\n    </tr>\n    <tr>\n      <th>3</th>\n      <td>0021_01</td>\n      <td>Europa</td>\n      <td>False</td>\n      <td>C/1/S</td>\n      <td>TRAPPIST-1e</td>\n      <td>38.0</td>\n      <td>False</td>\n      <td>0.0</td>\n      <td>6652.0</td>\n      <td>0.0</td>\n      <td>181.0</td>\n      <td>585.0</td>\n    </tr>\n    <tr>\n      <th>4</th>\n      <td>0023_01</td>\n      <td>Earth</td>\n      <td>False</td>\n      <td>F/5/S</td>\n      <td>TRAPPIST-1e</td>\n      <td>20.0</td>\n      <td>False</td>\n      <td>10.0</td>\n      <td>0.0</td>\n      <td>635.0</td>\n      <td>0.0</td>\n      <td>0.0</td>\n    </tr>\n  </tbody>\n</table>\n</div>"
     },
     "execution_count": 229,
     "metadata": {},
     "output_type": "execute_result"
    }
   ],
   "source": [
    "test_2 = test_1.copy()\n",
    "test_2 = test_2.dropna(subset=[\"HomePlanet\"], axis=0, inplace=False)\n",
    "test_2.head()"
   ],
   "metadata": {
    "collapsed": false,
    "ExecuteTime": {
     "end_time": "2023-08-19T20:57:05.038203Z",
     "start_time": "2023-08-19T20:57:05.023567Z"
    }
   },
   "id": "d23420b43dc08aba"
  },
  {
   "cell_type": "code",
   "execution_count": 230,
   "outputs": [
    {
     "data": {
      "text/plain": "PassengerId       0\nHomePlanet        0\nCryoSleep        90\nCabin            99\nDestination      90\nAge              88\nVIP              93\nRoomService      82\nFoodCourt       104\nShoppingMall     95\nSpa              95\nVRDeck           78\ndtype: int64"
     },
     "execution_count": 230,
     "metadata": {},
     "output_type": "execute_result"
    }
   ],
   "source": [
    "test_2.isna().sum()"
   ],
   "metadata": {
    "collapsed": false,
    "ExecuteTime": {
     "end_time": "2023-08-19T20:57:05.472598Z",
     "start_time": "2023-08-19T20:57:05.460573Z"
    }
   },
   "id": "e8172470cd191fc9"
  },
  {
   "cell_type": "code",
   "execution_count": 231,
   "outputs": [
    {
     "data": {
      "text/plain": "  PassengerId HomePlanet  CryoSleep  Cabin  Destination   Age    VIP  \\\n0     0013_01      Earth       True  G/3/S  TRAPPIST-1e  27.0  False   \n1     0018_01      Earth      False  F/4/S  TRAPPIST-1e  19.0  False   \n2     0019_01     Europa       True  C/0/S  55 Cancri e  31.0  False   \n3     0021_01     Europa      False  C/1/S  TRAPPIST-1e  38.0  False   \n4     0023_01      Earth      False  F/5/S  TRAPPIST-1e  20.0  False   \n\n   RoomService  FoodCourt  ShoppingMall     Spa  VRDeck  \n0          0.0        0.0           0.0     0.0     0.0  \n1          0.0        9.0           0.0  2823.0     0.0  \n2          0.0        0.0           0.0     0.0     0.0  \n3          0.0     6652.0           0.0   181.0   585.0  \n4         10.0        0.0         635.0     0.0     0.0  ",
      "text/html": "<div>\n<style scoped>\n    .dataframe tbody tr th:only-of-type {\n        vertical-align: middle;\n    }\n\n    .dataframe tbody tr th {\n        vertical-align: top;\n    }\n\n    .dataframe thead th {\n        text-align: right;\n    }\n</style>\n<table border=\"1\" class=\"dataframe\">\n  <thead>\n    <tr style=\"text-align: right;\">\n      <th></th>\n      <th>PassengerId</th>\n      <th>HomePlanet</th>\n      <th>CryoSleep</th>\n      <th>Cabin</th>\n      <th>Destination</th>\n      <th>Age</th>\n      <th>VIP</th>\n      <th>RoomService</th>\n      <th>FoodCourt</th>\n      <th>ShoppingMall</th>\n      <th>Spa</th>\n      <th>VRDeck</th>\n    </tr>\n  </thead>\n  <tbody>\n    <tr>\n      <th>0</th>\n      <td>0013_01</td>\n      <td>Earth</td>\n      <td>True</td>\n      <td>G/3/S</td>\n      <td>TRAPPIST-1e</td>\n      <td>27.0</td>\n      <td>False</td>\n      <td>0.0</td>\n      <td>0.0</td>\n      <td>0.0</td>\n      <td>0.0</td>\n      <td>0.0</td>\n    </tr>\n    <tr>\n      <th>1</th>\n      <td>0018_01</td>\n      <td>Earth</td>\n      <td>False</td>\n      <td>F/4/S</td>\n      <td>TRAPPIST-1e</td>\n      <td>19.0</td>\n      <td>False</td>\n      <td>0.0</td>\n      <td>9.0</td>\n      <td>0.0</td>\n      <td>2823.0</td>\n      <td>0.0</td>\n    </tr>\n    <tr>\n      <th>2</th>\n      <td>0019_01</td>\n      <td>Europa</td>\n      <td>True</td>\n      <td>C/0/S</td>\n      <td>55 Cancri e</td>\n      <td>31.0</td>\n      <td>False</td>\n      <td>0.0</td>\n      <td>0.0</td>\n      <td>0.0</td>\n      <td>0.0</td>\n      <td>0.0</td>\n    </tr>\n    <tr>\n      <th>3</th>\n      <td>0021_01</td>\n      <td>Europa</td>\n      <td>False</td>\n      <td>C/1/S</td>\n      <td>TRAPPIST-1e</td>\n      <td>38.0</td>\n      <td>False</td>\n      <td>0.0</td>\n      <td>6652.0</td>\n      <td>0.0</td>\n      <td>181.0</td>\n      <td>585.0</td>\n    </tr>\n    <tr>\n      <th>4</th>\n      <td>0023_01</td>\n      <td>Earth</td>\n      <td>False</td>\n      <td>F/5/S</td>\n      <td>TRAPPIST-1e</td>\n      <td>20.0</td>\n      <td>False</td>\n      <td>10.0</td>\n      <td>0.0</td>\n      <td>635.0</td>\n      <td>0.0</td>\n      <td>0.0</td>\n    </tr>\n  </tbody>\n</table>\n</div>"
     },
     "execution_count": 231,
     "metadata": {},
     "output_type": "execute_result"
    }
   ],
   "source": [
    "test_3 = test_2.copy()\n",
    "test_3[\"CryoSleep\"] = test_3[\"CryoSleep\"].fillna(False)\n",
    "test_3.head()"
   ],
   "metadata": {
    "collapsed": false,
    "ExecuteTime": {
     "end_time": "2023-08-19T20:57:05.893602Z",
     "start_time": "2023-08-19T20:57:05.887025Z"
    }
   },
   "id": "e44ba226f8f265a1"
  },
  {
   "cell_type": "code",
   "execution_count": 232,
   "outputs": [
    {
     "data": {
      "text/plain": "PassengerId       0\nHomePlanet        0\nCryoSleep         0\nCabin            99\nDestination      90\nAge              88\nVIP              93\nRoomService      82\nFoodCourt       104\nShoppingMall     95\nSpa              95\nVRDeck           78\ndtype: int64"
     },
     "execution_count": 232,
     "metadata": {},
     "output_type": "execute_result"
    }
   ],
   "source": [
    "test_3.isna().sum()"
   ],
   "metadata": {
    "collapsed": false,
    "ExecuteTime": {
     "end_time": "2023-08-19T20:57:06.296234Z",
     "start_time": "2023-08-19T20:57:06.281161Z"
    }
   },
   "id": "1a6fab61bf7e43ae"
  },
  {
   "cell_type": "code",
   "execution_count": 233,
   "outputs": [
    {
     "data": {
      "text/plain": "F    1415\nG    1202\nE     435\nB     358\nC     347\nD     234\nA      94\nT       6\nName: Cabin Deck, dtype: int64"
     },
     "execution_count": 233,
     "metadata": {},
     "output_type": "execute_result"
    }
   ],
   "source": [
    "cabin = pd.DataFrame(columns=[\"Cabin Deck\", \"Cabin Number\", \"Cabin Side\"])\n",
    "deck = []\n",
    "num = []\n",
    "side = []\n",
    "for i in list(test_3[\"Cabin\"].to_numpy()):\n",
    "    s = str(i)\n",
    "    stri = s.split(\"/\")\n",
    "    if len(stri) < 3:\n",
    "        stri.insert(0, np.nan)\n",
    "        stri[1] = np.nan\n",
    "        stri.insert(2, np.nan)\n",
    "    deck.append(stri[0])\n",
    "    num.append(stri[1])\n",
    "    side.append(stri[2])\n",
    "cabin[\"Cabin Deck\"] = deck\n",
    "cabin[\"Cabin Number\"] = num\n",
    "cabin[\"Cabin Side\"] = side\n",
    "\n",
    "cabin[\"Cabin Deck\"].value_counts()"
   ],
   "metadata": {
    "collapsed": false,
    "ExecuteTime": {
     "end_time": "2023-08-19T20:57:06.699959Z",
     "start_time": "2023-08-19T20:57:06.690899Z"
    }
   },
   "id": "53d292b698077006"
  },
  {
   "cell_type": "code",
   "execution_count": 234,
   "outputs": [],
   "source": [
    "cabin[[\"Cabin Number\", \"Cabin Side\"]][cabin[\"Cabin Deck\"] == \"T\"]\n",
    "cabin_1 = cabin.copy()\n",
    "cabin_1[\"Cabin Deck\"] = cabin_1[\"Cabin Deck\"].fillna(\"T\")\n",
    "arr = cabin_1[cabin_1[\"Cabin Number\"].isna()].index.values\n",
    "arr_1 = arr[:-3]\n",
    "arr_2 = arr[-3:]\n",
    "arr_1 = arr_1.reshape(int(len(arr_1) / 4), 4)"
   ],
   "metadata": {
    "collapsed": false,
    "ExecuteTime": {
     "end_time": "2023-08-19T20:57:07.167352Z",
     "start_time": "2023-08-19T20:57:07.153450Z"
    }
   },
   "id": "98a76a7d568adc69"
  },
  {
   "cell_type": "code",
   "execution_count": 235,
   "outputs": [
    {
     "data": {
      "text/plain": "array([[  18,   99,  135,  147],\n       [ 180,  184,  241,  263],\n       [ 342,  356,  420,  537],\n       [ 704,  723,  813,  819],\n       [1003, 1013, 1029, 1080],\n       [1136, 1156, 1175, 1183],\n       [1222, 1307, 1449, 1525],\n       [1534, 1557, 1638, 1712],\n       [1728, 1825, 1880, 1984],\n       [1989, 1998, 2091, 2173],\n       [2204, 2226, 2239, 2250],\n       [2265, 2282, 2296, 2326],\n       [2359, 2389, 2430, 2438],\n       [2446, 2484, 2592, 2690],\n       [2722, 2811, 2848, 2900],\n       [2907, 2911, 2953, 2955],\n       [2958, 2991, 3033, 3096],\n       [3138, 3140, 3177, 3181],\n       [3216, 3250, 3301, 3322],\n       [3344, 3349, 3394, 3477],\n       [3508, 3552, 3571, 3572],\n       [3701, 3721, 3784, 3805],\n       [4012, 4044, 4056, 4090],\n       [4092, 4097, 4123, 4161]])"
     },
     "execution_count": 235,
     "metadata": {},
     "output_type": "execute_result"
    }
   ],
   "source": [
    "arr_1"
   ],
   "metadata": {
    "collapsed": false,
    "ExecuteTime": {
     "end_time": "2023-08-19T20:57:07.665295Z",
     "start_time": "2023-08-19T20:57:07.647528Z"
    }
   },
   "id": "235ac3db7995b0a1"
  },
  {
   "cell_type": "code",
   "execution_count": 236,
   "outputs": [
    {
     "data": {
      "text/plain": "array([4162, 4171, 4186])"
     },
     "execution_count": 236,
     "metadata": {},
     "output_type": "execute_result"
    }
   ],
   "source": [
    "arr_2"
   ],
   "metadata": {
    "collapsed": false,
    "ExecuteTime": {
     "end_time": "2023-08-19T20:57:08.042685Z",
     "start_time": "2023-08-19T20:57:08.035418Z"
    }
   },
   "id": "626b558703deb64a"
  },
  {
   "cell_type": "code",
   "execution_count": 237,
   "outputs": [],
   "source": [
    "ctr = 4\n",
    "for iter in arr_1:\n",
    "    cabin_1.loc[iter[0], \"Cabin Number\"] = ctr\n",
    "    cabin_1.loc[iter[0], \"Cabin Side\"] = \"P\"\n",
    "\n",
    "    cabin_1.loc[iter[1], \"Cabin Number\"] = ctr + 1\n",
    "    cabin_1.loc[iter[1], \"Cabin Side\"] = \"S\"\n",
    "\n",
    "    cabin_1.loc[iter[2], \"Cabin Number\"] = ctr + 2\n",
    "    cabin_1.loc[iter[2], \"Cabin Side\"] = \"P\"\n",
    "\n",
    "    cabin_1.loc[iter[3], \"Cabin Number\"] = ctr + 3\n",
    "    cabin_1.loc[iter[3], \"Cabin Side\"] = \"S\"\n",
    "\n",
    "    ctr += 1"
   ],
   "metadata": {
    "collapsed": false,
    "ExecuteTime": {
     "end_time": "2023-08-19T20:57:08.529023Z",
     "start_time": "2023-08-19T20:57:08.519412Z"
    }
   },
   "id": "d4738a4a7a1e7121"
  },
  {
   "cell_type": "code",
   "execution_count": 238,
   "outputs": [],
   "source": [
    "cabin_1.loc[arr_2[0], \"Cabin Number\"] = ctr + 1\n",
    "cabin_1.loc[arr_2[0], \"Cabin Side\"] = \"P\"\n",
    "cabin_1.loc[arr_2[1], \"Cabin Number\"] = ctr + 2\n",
    "cabin_1.loc[arr_2[1], \"Cabin Side\"] = \"S\"\n",
    "cabin_1.loc[arr_2[2], \"Cabin Number\"] = ctr + 3\n",
    "cabin_1.loc[arr_2[2], \"Cabin Side\"] = \"P\""
   ],
   "metadata": {
    "collapsed": false,
    "ExecuteTime": {
     "end_time": "2023-08-19T20:57:08.986904Z",
     "start_time": "2023-08-19T20:57:08.973178Z"
    }
   },
   "id": "6905ac5392161b3e"
  },
  {
   "cell_type": "code",
   "execution_count": 239,
   "outputs": [
    {
     "data": {
      "text/plain": "Cabin Deck      0\nCabin Number    0\nCabin Side      0\ndtype: int64"
     },
     "execution_count": 239,
     "metadata": {},
     "output_type": "execute_result"
    }
   ],
   "source": [
    "cabin_1.isna().sum()"
   ],
   "metadata": {
    "collapsed": false,
    "ExecuteTime": {
     "end_time": "2023-08-19T20:57:09.373791Z",
     "start_time": "2023-08-19T20:57:09.368083Z"
    }
   },
   "id": "89493559ff687aca"
  },
  {
   "cell_type": "code",
   "execution_count": 240,
   "outputs": [
    {
     "data": {
      "text/plain": "   index Cabin Deck Cabin Number Cabin Side\n0      0          G            3          S\n1      1          F            4          S\n2      2          C            0          S\n3      3          C            1          S\n4      4          F            5          S",
      "text/html": "<div>\n<style scoped>\n    .dataframe tbody tr th:only-of-type {\n        vertical-align: middle;\n    }\n\n    .dataframe tbody tr th {\n        vertical-align: top;\n    }\n\n    .dataframe thead th {\n        text-align: right;\n    }\n</style>\n<table border=\"1\" class=\"dataframe\">\n  <thead>\n    <tr style=\"text-align: right;\">\n      <th></th>\n      <th>index</th>\n      <th>Cabin Deck</th>\n      <th>Cabin Number</th>\n      <th>Cabin Side</th>\n    </tr>\n  </thead>\n  <tbody>\n    <tr>\n      <th>0</th>\n      <td>0</td>\n      <td>G</td>\n      <td>3</td>\n      <td>S</td>\n    </tr>\n    <tr>\n      <th>1</th>\n      <td>1</td>\n      <td>F</td>\n      <td>4</td>\n      <td>S</td>\n    </tr>\n    <tr>\n      <th>2</th>\n      <td>2</td>\n      <td>C</td>\n      <td>0</td>\n      <td>S</td>\n    </tr>\n    <tr>\n      <th>3</th>\n      <td>3</td>\n      <td>C</td>\n      <td>1</td>\n      <td>S</td>\n    </tr>\n    <tr>\n      <th>4</th>\n      <td>4</td>\n      <td>F</td>\n      <td>5</td>\n      <td>S</td>\n    </tr>\n  </tbody>\n</table>\n</div>"
     },
     "execution_count": 240,
     "metadata": {},
     "output_type": "execute_result"
    }
   ],
   "source": [
    "cabin_2 = cabin_1.reset_index()\n",
    "cabin_2.head()"
   ],
   "metadata": {
    "collapsed": false,
    "ExecuteTime": {
     "end_time": "2023-08-19T20:57:09.791330Z",
     "start_time": "2023-08-19T20:57:09.770329Z"
    }
   },
   "id": "ad8cff2cae9c6e4c"
  },
  {
   "cell_type": "code",
   "execution_count": 241,
   "outputs": [
    {
     "data": {
      "text/plain": "   index PassengerId HomePlanet  CryoSleep  Cabin  Destination   Age    VIP  \\\n0      0     0013_01      Earth       True  G/3/S  TRAPPIST-1e  27.0  False   \n1      1     0018_01      Earth      False  F/4/S  TRAPPIST-1e  19.0  False   \n2      2     0019_01     Europa       True  C/0/S  55 Cancri e  31.0  False   \n3      3     0021_01     Europa      False  C/1/S  TRAPPIST-1e  38.0  False   \n4      4     0023_01      Earth      False  F/5/S  TRAPPIST-1e  20.0  False   \n\n   RoomService  FoodCourt  ShoppingMall     Spa  VRDeck  \n0          0.0        0.0           0.0     0.0     0.0  \n1          0.0        9.0           0.0  2823.0     0.0  \n2          0.0        0.0           0.0     0.0     0.0  \n3          0.0     6652.0           0.0   181.0   585.0  \n4         10.0        0.0         635.0     0.0     0.0  ",
      "text/html": "<div>\n<style scoped>\n    .dataframe tbody tr th:only-of-type {\n        vertical-align: middle;\n    }\n\n    .dataframe tbody tr th {\n        vertical-align: top;\n    }\n\n    .dataframe thead th {\n        text-align: right;\n    }\n</style>\n<table border=\"1\" class=\"dataframe\">\n  <thead>\n    <tr style=\"text-align: right;\">\n      <th></th>\n      <th>index</th>\n      <th>PassengerId</th>\n      <th>HomePlanet</th>\n      <th>CryoSleep</th>\n      <th>Cabin</th>\n      <th>Destination</th>\n      <th>Age</th>\n      <th>VIP</th>\n      <th>RoomService</th>\n      <th>FoodCourt</th>\n      <th>ShoppingMall</th>\n      <th>Spa</th>\n      <th>VRDeck</th>\n    </tr>\n  </thead>\n  <tbody>\n    <tr>\n      <th>0</th>\n      <td>0</td>\n      <td>0013_01</td>\n      <td>Earth</td>\n      <td>True</td>\n      <td>G/3/S</td>\n      <td>TRAPPIST-1e</td>\n      <td>27.0</td>\n      <td>False</td>\n      <td>0.0</td>\n      <td>0.0</td>\n      <td>0.0</td>\n      <td>0.0</td>\n      <td>0.0</td>\n    </tr>\n    <tr>\n      <th>1</th>\n      <td>1</td>\n      <td>0018_01</td>\n      <td>Earth</td>\n      <td>False</td>\n      <td>F/4/S</td>\n      <td>TRAPPIST-1e</td>\n      <td>19.0</td>\n      <td>False</td>\n      <td>0.0</td>\n      <td>9.0</td>\n      <td>0.0</td>\n      <td>2823.0</td>\n      <td>0.0</td>\n    </tr>\n    <tr>\n      <th>2</th>\n      <td>2</td>\n      <td>0019_01</td>\n      <td>Europa</td>\n      <td>True</td>\n      <td>C/0/S</td>\n      <td>55 Cancri e</td>\n      <td>31.0</td>\n      <td>False</td>\n      <td>0.0</td>\n      <td>0.0</td>\n      <td>0.0</td>\n      <td>0.0</td>\n      <td>0.0</td>\n    </tr>\n    <tr>\n      <th>3</th>\n      <td>3</td>\n      <td>0021_01</td>\n      <td>Europa</td>\n      <td>False</td>\n      <td>C/1/S</td>\n      <td>TRAPPIST-1e</td>\n      <td>38.0</td>\n      <td>False</td>\n      <td>0.0</td>\n      <td>6652.0</td>\n      <td>0.0</td>\n      <td>181.0</td>\n      <td>585.0</td>\n    </tr>\n    <tr>\n      <th>4</th>\n      <td>4</td>\n      <td>0023_01</td>\n      <td>Earth</td>\n      <td>False</td>\n      <td>F/5/S</td>\n      <td>TRAPPIST-1e</td>\n      <td>20.0</td>\n      <td>False</td>\n      <td>10.0</td>\n      <td>0.0</td>\n      <td>635.0</td>\n      <td>0.0</td>\n      <td>0.0</td>\n    </tr>\n  </tbody>\n</table>\n</div>"
     },
     "execution_count": 241,
     "metadata": {},
     "output_type": "execute_result"
    }
   ],
   "source": [
    "test_4 = test_3.reset_index()\n",
    "test_4.head()"
   ],
   "metadata": {
    "collapsed": false,
    "ExecuteTime": {
     "end_time": "2023-08-19T20:57:10.209158Z",
     "start_time": "2023-08-19T20:57:10.198825Z"
    }
   },
   "id": "a95d748d9fe441da"
  },
  {
   "cell_type": "code",
   "execution_count": 242,
   "outputs": [
    {
     "data": {
      "text/plain": "index             0\nPassengerId       0\nHomePlanet        0\nCabin Deck        0\nCabin Number      0\nCabin Side        0\nCryoSleep         0\nDestination      87\nAge              84\nVIP              91\nRoomService      79\nFoodCourt       103\nShoppingMall     90\nSpa              95\nVRDeck           77\ndtype: int64"
     },
     "execution_count": 242,
     "metadata": {},
     "output_type": "execute_result"
    }
   ],
   "source": [
    "test_5 = pd.merge(left=test_4, right=cabin_2, how=\"inner\", on=\"index\")\n",
    "test_5.drop(\"Cabin\", axis=1, inplace=True)\n",
    "test_5 = test_5[\n",
    "    [\"index\", \"PassengerId\", \"HomePlanet\", \"Cabin Deck\", \"Cabin Number\", \"Cabin Side\", \"CryoSleep\", \"Destination\",\n",
    "     \"Age\", \"VIP\", \"RoomService\", \"FoodCourt\", \"ShoppingMall\", \"Spa\", \"VRDeck\"]]\n",
    "test_5.isna().sum()"
   ],
   "metadata": {
    "collapsed": false,
    "ExecuteTime": {
     "end_time": "2023-08-19T20:57:10.663360Z",
     "start_time": "2023-08-19T20:57:10.648764Z"
    }
   },
   "id": "a5aa0a3f7079fe40"
  },
  {
   "cell_type": "code",
   "execution_count": 243,
   "outputs": [
    {
     "data": {
      "text/plain": "array(['TRAPPIST-1e', '55 Cancri e', 'PSO J318.5-22', nan], dtype=object)"
     },
     "execution_count": 243,
     "metadata": {},
     "output_type": "execute_result"
    }
   ],
   "source": [
    "test_5[\"Destination\"].unique()"
   ],
   "metadata": {
    "collapsed": false,
    "ExecuteTime": {
     "end_time": "2023-08-19T20:57:11.047912Z",
     "start_time": "2023-08-19T20:57:11.040098Z"
    }
   },
   "id": "94c229a585fab71b"
  },
  {
   "cell_type": "code",
   "execution_count": 244,
   "outputs": [
    {
     "data": {
      "text/plain": "   index PassengerId HomePlanet Cabin Deck Cabin Number Cabin Side  CryoSleep  \\\n0      0     0013_01      Earth          G            3          S       True   \n1      1     0018_01      Earth          F            4          S      False   \n2      2     0019_01     Europa          C            0          S       True   \n3      3     0021_01     Europa          C            1          S      False   \n4      4     0023_01      Earth          F            5          S      False   \n\n   Destination   Age    VIP  RoomService  FoodCourt  ShoppingMall     Spa  \\\n0  TRAPPIST-1e  27.0  False          0.0        0.0           0.0     0.0   \n1  TRAPPIST-1e  19.0  False          0.0        9.0           0.0  2823.0   \n2  55 Cancri e  31.0  False          0.0        0.0           0.0     0.0   \n3  TRAPPIST-1e  38.0  False          0.0     6652.0           0.0   181.0   \n4  TRAPPIST-1e  20.0  False         10.0        0.0         635.0     0.0   \n\n   VRDeck  \n0     0.0  \n1     0.0  \n2     0.0  \n3   585.0  \n4     0.0  ",
      "text/html": "<div>\n<style scoped>\n    .dataframe tbody tr th:only-of-type {\n        vertical-align: middle;\n    }\n\n    .dataframe tbody tr th {\n        vertical-align: top;\n    }\n\n    .dataframe thead th {\n        text-align: right;\n    }\n</style>\n<table border=\"1\" class=\"dataframe\">\n  <thead>\n    <tr style=\"text-align: right;\">\n      <th></th>\n      <th>index</th>\n      <th>PassengerId</th>\n      <th>HomePlanet</th>\n      <th>Cabin Deck</th>\n      <th>Cabin Number</th>\n      <th>Cabin Side</th>\n      <th>CryoSleep</th>\n      <th>Destination</th>\n      <th>Age</th>\n      <th>VIP</th>\n      <th>RoomService</th>\n      <th>FoodCourt</th>\n      <th>ShoppingMall</th>\n      <th>Spa</th>\n      <th>VRDeck</th>\n    </tr>\n  </thead>\n  <tbody>\n    <tr>\n      <th>0</th>\n      <td>0</td>\n      <td>0013_01</td>\n      <td>Earth</td>\n      <td>G</td>\n      <td>3</td>\n      <td>S</td>\n      <td>True</td>\n      <td>TRAPPIST-1e</td>\n      <td>27.0</td>\n      <td>False</td>\n      <td>0.0</td>\n      <td>0.0</td>\n      <td>0.0</td>\n      <td>0.0</td>\n      <td>0.0</td>\n    </tr>\n    <tr>\n      <th>1</th>\n      <td>1</td>\n      <td>0018_01</td>\n      <td>Earth</td>\n      <td>F</td>\n      <td>4</td>\n      <td>S</td>\n      <td>False</td>\n      <td>TRAPPIST-1e</td>\n      <td>19.0</td>\n      <td>False</td>\n      <td>0.0</td>\n      <td>9.0</td>\n      <td>0.0</td>\n      <td>2823.0</td>\n      <td>0.0</td>\n    </tr>\n    <tr>\n      <th>2</th>\n      <td>2</td>\n      <td>0019_01</td>\n      <td>Europa</td>\n      <td>C</td>\n      <td>0</td>\n      <td>S</td>\n      <td>True</td>\n      <td>55 Cancri e</td>\n      <td>31.0</td>\n      <td>False</td>\n      <td>0.0</td>\n      <td>0.0</td>\n      <td>0.0</td>\n      <td>0.0</td>\n      <td>0.0</td>\n    </tr>\n    <tr>\n      <th>3</th>\n      <td>3</td>\n      <td>0021_01</td>\n      <td>Europa</td>\n      <td>C</td>\n      <td>1</td>\n      <td>S</td>\n      <td>False</td>\n      <td>TRAPPIST-1e</td>\n      <td>38.0</td>\n      <td>False</td>\n      <td>0.0</td>\n      <td>6652.0</td>\n      <td>0.0</td>\n      <td>181.0</td>\n      <td>585.0</td>\n    </tr>\n    <tr>\n      <th>4</th>\n      <td>4</td>\n      <td>0023_01</td>\n      <td>Earth</td>\n      <td>F</td>\n      <td>5</td>\n      <td>S</td>\n      <td>False</td>\n      <td>TRAPPIST-1e</td>\n      <td>20.0</td>\n      <td>False</td>\n      <td>10.0</td>\n      <td>0.0</td>\n      <td>635.0</td>\n      <td>0.0</td>\n      <td>0.0</td>\n    </tr>\n  </tbody>\n</table>\n</div>"
     },
     "execution_count": 244,
     "metadata": {},
     "output_type": "execute_result"
    }
   ],
   "source": [
    "test_6 = test_5.dropna(subset=[\"Destination\"], axis=0, inplace=False)\n",
    "test_6.head()"
   ],
   "metadata": {
    "collapsed": false,
    "ExecuteTime": {
     "end_time": "2023-08-19T20:57:11.448384Z",
     "start_time": "2023-08-19T20:57:11.435759Z"
    }
   },
   "id": "1aff602c1dc8e365"
  },
  {
   "cell_type": "code",
   "execution_count": 245,
   "outputs": [
    {
     "data": {
      "text/plain": "index             0\nPassengerId       0\nHomePlanet        0\nCabin Deck        0\nCabin Number      0\nCabin Side        0\nCryoSleep         0\nDestination       0\nAge              80\nVIP              88\nRoomService      78\nFoodCourt       103\nShoppingMall     89\nSpa              93\nVRDeck           71\ndtype: int64"
     },
     "execution_count": 245,
     "metadata": {},
     "output_type": "execute_result"
    }
   ],
   "source": [
    "test_6.isna().sum()"
   ],
   "metadata": {
    "collapsed": false,
    "ExecuteTime": {
     "end_time": "2023-08-19T20:57:11.859733Z",
     "start_time": "2023-08-19T20:57:11.847427Z"
    }
   },
   "id": "7ec087c0a8e031dc"
  },
  {
   "cell_type": "code",
   "execution_count": 246,
   "outputs": [
    {
     "data": {
      "text/plain": "   index PassengerId HomePlanet Cabin Deck Cabin Number Cabin Side  CryoSleep  \\\n0      0     0013_01      Earth          G            3          S       True   \n1      1     0018_01      Earth          F            4          S      False   \n2      2     0019_01     Europa          C            0          S       True   \n3      3     0021_01     Europa          C            1          S      False   \n4      4     0023_01      Earth          F            5          S      False   \n\n   Destination   Age    VIP  RoomService  FoodCourt  ShoppingMall     Spa  \\\n0  TRAPPIST-1e  26.0  False          0.0        0.0           0.0     0.0   \n1  TRAPPIST-1e  26.0  False          0.0        9.0           0.0  2823.0   \n2  55 Cancri e  26.0  False          0.0        0.0           0.0     0.0   \n3  TRAPPIST-1e  26.0  False          0.0     6652.0           0.0   181.0   \n4  TRAPPIST-1e  26.0  False         10.0        0.0         635.0     0.0   \n\n   VRDeck  \n0     0.0  \n1     0.0  \n2     0.0  \n3   585.0  \n4     0.0  ",
      "text/html": "<div>\n<style scoped>\n    .dataframe tbody tr th:only-of-type {\n        vertical-align: middle;\n    }\n\n    .dataframe tbody tr th {\n        vertical-align: top;\n    }\n\n    .dataframe thead th {\n        text-align: right;\n    }\n</style>\n<table border=\"1\" class=\"dataframe\">\n  <thead>\n    <tr style=\"text-align: right;\">\n      <th></th>\n      <th>index</th>\n      <th>PassengerId</th>\n      <th>HomePlanet</th>\n      <th>Cabin Deck</th>\n      <th>Cabin Number</th>\n      <th>Cabin Side</th>\n      <th>CryoSleep</th>\n      <th>Destination</th>\n      <th>Age</th>\n      <th>VIP</th>\n      <th>RoomService</th>\n      <th>FoodCourt</th>\n      <th>ShoppingMall</th>\n      <th>Spa</th>\n      <th>VRDeck</th>\n    </tr>\n  </thead>\n  <tbody>\n    <tr>\n      <th>0</th>\n      <td>0</td>\n      <td>0013_01</td>\n      <td>Earth</td>\n      <td>G</td>\n      <td>3</td>\n      <td>S</td>\n      <td>True</td>\n      <td>TRAPPIST-1e</td>\n      <td>26.0</td>\n      <td>False</td>\n      <td>0.0</td>\n      <td>0.0</td>\n      <td>0.0</td>\n      <td>0.0</td>\n      <td>0.0</td>\n    </tr>\n    <tr>\n      <th>1</th>\n      <td>1</td>\n      <td>0018_01</td>\n      <td>Earth</td>\n      <td>F</td>\n      <td>4</td>\n      <td>S</td>\n      <td>False</td>\n      <td>TRAPPIST-1e</td>\n      <td>26.0</td>\n      <td>False</td>\n      <td>0.0</td>\n      <td>9.0</td>\n      <td>0.0</td>\n      <td>2823.0</td>\n      <td>0.0</td>\n    </tr>\n    <tr>\n      <th>2</th>\n      <td>2</td>\n      <td>0019_01</td>\n      <td>Europa</td>\n      <td>C</td>\n      <td>0</td>\n      <td>S</td>\n      <td>True</td>\n      <td>55 Cancri e</td>\n      <td>26.0</td>\n      <td>False</td>\n      <td>0.0</td>\n      <td>0.0</td>\n      <td>0.0</td>\n      <td>0.0</td>\n      <td>0.0</td>\n    </tr>\n    <tr>\n      <th>3</th>\n      <td>3</td>\n      <td>0021_01</td>\n      <td>Europa</td>\n      <td>C</td>\n      <td>1</td>\n      <td>S</td>\n      <td>False</td>\n      <td>TRAPPIST-1e</td>\n      <td>26.0</td>\n      <td>False</td>\n      <td>0.0</td>\n      <td>6652.0</td>\n      <td>0.0</td>\n      <td>181.0</td>\n      <td>585.0</td>\n    </tr>\n    <tr>\n      <th>4</th>\n      <td>4</td>\n      <td>0023_01</td>\n      <td>Earth</td>\n      <td>F</td>\n      <td>5</td>\n      <td>S</td>\n      <td>False</td>\n      <td>TRAPPIST-1e</td>\n      <td>26.0</td>\n      <td>False</td>\n      <td>10.0</td>\n      <td>0.0</td>\n      <td>635.0</td>\n      <td>0.0</td>\n      <td>0.0</td>\n    </tr>\n  </tbody>\n</table>\n</div>"
     },
     "execution_count": 246,
     "metadata": {},
     "output_type": "execute_result"
    }
   ],
   "source": [
    "test_7 = test_6.copy()\n",
    "test_7[\"Age\"] = test_7[\"Age\"].median()\n",
    "test_7[\"VIP\"] = test_7[\"VIP\"].fillna(False, inplace=False)\n",
    "test_7[\"RoomService\"] = test_7[\"RoomService\"].fillna(0.0, inplace=False)\n",
    "test_7[\"FoodCourt\"] = test_7[\"FoodCourt\"].fillna(0.0, inplace=False)\n",
    "test_7[\"ShoppingMall\"] = test_7[\"ShoppingMall\"].fillna(0.0, inplace=False)\n",
    "test_7[\"Spa\"] = test_7[\"Spa\"].fillna(0.0, inplace=False)\n",
    "test_7[\"VRDeck\"] = test_7[\"VRDeck\"].fillna(0.0, inplace=False)\n",
    "test_7.head()"
   ],
   "metadata": {
    "collapsed": false,
    "ExecuteTime": {
     "end_time": "2023-08-19T20:57:12.264412Z",
     "start_time": "2023-08-19T20:57:12.249744Z"
    }
   },
   "id": "7caa52594cb019e7"
  },
  {
   "cell_type": "code",
   "execution_count": 247,
   "outputs": [
    {
     "data": {
      "text/plain": "index           0\nPassengerId     0\nHomePlanet      0\nCabin Deck      0\nCabin Number    0\nCabin Side      0\nCryoSleep       0\nDestination     0\nAge             0\nVIP             0\nRoomService     0\nFoodCourt       0\nShoppingMall    0\nSpa             0\nVRDeck          0\ndtype: int64"
     },
     "execution_count": 247,
     "metadata": {},
     "output_type": "execute_result"
    }
   ],
   "source": [
    "test_7.isna().sum()"
   ],
   "metadata": {
    "collapsed": false,
    "ExecuteTime": {
     "end_time": "2023-08-19T20:57:12.763247Z",
     "start_time": "2023-08-19T20:57:12.727213Z"
    }
   },
   "id": "22b24c9c048bfdb6"
  },
  {
   "cell_type": "markdown",
   "source": [
    "### Saving training and testing datasets"
   ],
   "metadata": {
    "collapsed": false
   },
   "id": "85b77c1b6c43ef2f"
  },
  {
   "cell_type": "code",
   "execution_count": 248,
   "outputs": [],
   "source": [
    "train_7.to_csv(\"train_eda.csv\",index=False)\n",
    "test_7.to_csv(\"test_eda.csv\",index=False)"
   ],
   "metadata": {
    "collapsed": false,
    "ExecuteTime": {
     "end_time": "2023-08-19T20:57:13.928858Z",
     "start_time": "2023-08-19T20:57:13.875799Z"
    }
   },
   "id": "3858a8702e5cd739"
  },
  {
   "cell_type": "code",
   "execution_count": null,
   "outputs": [],
   "source": [],
   "metadata": {
    "collapsed": false
   },
   "id": "b618696473c3abe7"
  }
 ],
 "metadata": {
  "kernelspec": {
   "display_name": "Python 3",
   "language": "python",
   "name": "python3"
  },
  "language_info": {
   "codemirror_mode": {
    "name": "ipython",
    "version": 2
   },
   "file_extension": ".py",
   "mimetype": "text/x-python",
   "name": "python",
   "nbconvert_exporter": "python",
   "pygments_lexer": "ipython2",
   "version": "2.7.6"
  }
 },
 "nbformat": 4,
 "nbformat_minor": 5
}
