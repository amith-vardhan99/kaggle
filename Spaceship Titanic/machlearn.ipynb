{
 "cells": [
  {
   "cell_type": "markdown",
   "source": [
    "## Machine Learning"
   ],
   "metadata": {
    "collapsed": false
   },
   "id": "31a8a98ce2e6124e"
  },
  {
   "cell_type": "markdown",
   "source": [
    "Now, we are done with both exploratory data analysis and preprocessing. Now we will go ahead with performing machine learning."
   ],
   "metadata": {
    "collapsed": false
   },
   "id": "ab8c1adfaafb95b7"
  },
  {
   "cell_type": "markdown",
   "source": [
    "### Importing all packages"
   ],
   "metadata": {
    "collapsed": false
   },
   "id": "8764eb5f69c35971"
  },
  {
   "cell_type": "code",
   "execution_count": 120,
   "outputs": [],
   "source": [
    "import numpy as np\n",
    "import pandas as pd\n",
    "import matplotlib.pyplot as plt\n",
    "import seaborn as sns\n",
    "from sklearn.model_selection import *\n",
    "from sklearn.linear_model import *\n",
    "from math import *\n",
    "from sklearn.ensemble import *\n",
    "from sklearn.feature_selection import *\n",
    "from sklearn.feature_extraction import *\n",
    "from sklearn.naive_bayes import *\n",
    "from sklearn.discriminant_analysis import *\n",
    "from sklearn.preprocessing import *\n",
    "from sklearn.metrics import *\n",
    "from sklearn.neighbors import *\n",
    "from sklearn.cluster import *\n",
    "from sklearn.svm import *"
   ],
   "metadata": {
    "collapsed": false,
    "ExecuteTime": {
     "end_time": "2023-08-20T03:03:04.378268Z",
     "start_time": "2023-08-20T03:03:04.374680Z"
    }
   },
   "id": "f6b7c7146d23f869"
  },
  {
   "cell_type": "markdown",
   "source": [
    "### Importing all datasets"
   ],
   "metadata": {
    "collapsed": false
   },
   "id": "e95dfd8a41bd98c1"
  },
  {
   "cell_type": "code",
   "execution_count": 121,
   "outputs": [],
   "source": [
    "df_train = pd.read_csv(\"train_preprocessed.csv\")\n",
    "df_test = pd.read_csv(\"test_preprocessed.csv\")"
   ],
   "metadata": {
    "collapsed": false,
    "ExecuteTime": {
     "end_time": "2023-08-20T03:03:04.822994Z",
     "start_time": "2023-08-20T03:03:04.796434Z"
    }
   },
   "id": "58765559efac9f5d"
  },
  {
   "cell_type": "markdown",
   "source": [
    "### Displaying first 5 elements of training dataset"
   ],
   "metadata": {
    "collapsed": false
   },
   "id": "544f4f5d884e252d"
  },
  {
   "cell_type": "code",
   "execution_count": 122,
   "outputs": [
    {
     "data": {
      "text/plain": "  PassengerId  HomePlanet_Europa  HomePlanet_Mars  Cabin Desk B  Cabin Desk C  \\\n0     0001_01                1.0              0.0           1.0           0.0   \n1     0002_01                0.0              0.0           0.0           0.0   \n2     0003_01                1.0              0.0           0.0           0.0   \n3     0003_02                1.0              0.0           0.0           0.0   \n4     0004_01                0.0              0.0           0.0           0.0   \n\n   Cabin Desk D  Cabin Desk E  Cabin Desk F  Cabin Desk G  Cabin Desk T  ...  \\\n0           0.0           0.0           0.0           0.0           0.0  ...   \n1           0.0           0.0           1.0           0.0           0.0  ...   \n2           0.0           0.0           0.0           0.0           0.0  ...   \n3           0.0           0.0           0.0           0.0           0.0  ...   \n4           0.0           0.0           1.0           0.0           0.0  ...   \n\n   Destination_PSO J318.5-22  Destination_TRAPPIST-1e   Age  VIP  RoomService  \\\n0                        0.0                      1.0  27.0    0          0.0   \n1                        0.0                      1.0  27.0    0        109.0   \n2                        0.0                      1.0  27.0    1         43.0   \n3                        0.0                      1.0  27.0    0          0.0   \n4                        0.0                      1.0  27.0    0        303.0   \n\n   FoodCourt  ShoppingMall     Spa  VRDeck  Transported  \n0        0.0           0.0     0.0     0.0            0  \n1        9.0          25.0   549.0    44.0            1  \n2     3576.0           0.0  6715.0    49.0            0  \n3     1283.0         371.0  3329.0   193.0            0  \n4       70.0         151.0   565.0     2.0            1  \n\n[5 rows x 23 columns]",
      "text/html": "<div>\n<style scoped>\n    .dataframe tbody tr th:only-of-type {\n        vertical-align: middle;\n    }\n\n    .dataframe tbody tr th {\n        vertical-align: top;\n    }\n\n    .dataframe thead th {\n        text-align: right;\n    }\n</style>\n<table border=\"1\" class=\"dataframe\">\n  <thead>\n    <tr style=\"text-align: right;\">\n      <th></th>\n      <th>PassengerId</th>\n      <th>HomePlanet_Europa</th>\n      <th>HomePlanet_Mars</th>\n      <th>Cabin Desk B</th>\n      <th>Cabin Desk C</th>\n      <th>Cabin Desk D</th>\n      <th>Cabin Desk E</th>\n      <th>Cabin Desk F</th>\n      <th>Cabin Desk G</th>\n      <th>Cabin Desk T</th>\n      <th>...</th>\n      <th>Destination_PSO J318.5-22</th>\n      <th>Destination_TRAPPIST-1e</th>\n      <th>Age</th>\n      <th>VIP</th>\n      <th>RoomService</th>\n      <th>FoodCourt</th>\n      <th>ShoppingMall</th>\n      <th>Spa</th>\n      <th>VRDeck</th>\n      <th>Transported</th>\n    </tr>\n  </thead>\n  <tbody>\n    <tr>\n      <th>0</th>\n      <td>0001_01</td>\n      <td>1.0</td>\n      <td>0.0</td>\n      <td>1.0</td>\n      <td>0.0</td>\n      <td>0.0</td>\n      <td>0.0</td>\n      <td>0.0</td>\n      <td>0.0</td>\n      <td>0.0</td>\n      <td>...</td>\n      <td>0.0</td>\n      <td>1.0</td>\n      <td>27.0</td>\n      <td>0</td>\n      <td>0.0</td>\n      <td>0.0</td>\n      <td>0.0</td>\n      <td>0.0</td>\n      <td>0.0</td>\n      <td>0</td>\n    </tr>\n    <tr>\n      <th>1</th>\n      <td>0002_01</td>\n      <td>0.0</td>\n      <td>0.0</td>\n      <td>0.0</td>\n      <td>0.0</td>\n      <td>0.0</td>\n      <td>0.0</td>\n      <td>1.0</td>\n      <td>0.0</td>\n      <td>0.0</td>\n      <td>...</td>\n      <td>0.0</td>\n      <td>1.0</td>\n      <td>27.0</td>\n      <td>0</td>\n      <td>109.0</td>\n      <td>9.0</td>\n      <td>25.0</td>\n      <td>549.0</td>\n      <td>44.0</td>\n      <td>1</td>\n    </tr>\n    <tr>\n      <th>2</th>\n      <td>0003_01</td>\n      <td>1.0</td>\n      <td>0.0</td>\n      <td>0.0</td>\n      <td>0.0</td>\n      <td>0.0</td>\n      <td>0.0</td>\n      <td>0.0</td>\n      <td>0.0</td>\n      <td>0.0</td>\n      <td>...</td>\n      <td>0.0</td>\n      <td>1.0</td>\n      <td>27.0</td>\n      <td>1</td>\n      <td>43.0</td>\n      <td>3576.0</td>\n      <td>0.0</td>\n      <td>6715.0</td>\n      <td>49.0</td>\n      <td>0</td>\n    </tr>\n    <tr>\n      <th>3</th>\n      <td>0003_02</td>\n      <td>1.0</td>\n      <td>0.0</td>\n      <td>0.0</td>\n      <td>0.0</td>\n      <td>0.0</td>\n      <td>0.0</td>\n      <td>0.0</td>\n      <td>0.0</td>\n      <td>0.0</td>\n      <td>...</td>\n      <td>0.0</td>\n      <td>1.0</td>\n      <td>27.0</td>\n      <td>0</td>\n      <td>0.0</td>\n      <td>1283.0</td>\n      <td>371.0</td>\n      <td>3329.0</td>\n      <td>193.0</td>\n      <td>0</td>\n    </tr>\n    <tr>\n      <th>4</th>\n      <td>0004_01</td>\n      <td>0.0</td>\n      <td>0.0</td>\n      <td>0.0</td>\n      <td>0.0</td>\n      <td>0.0</td>\n      <td>0.0</td>\n      <td>1.0</td>\n      <td>0.0</td>\n      <td>0.0</td>\n      <td>...</td>\n      <td>0.0</td>\n      <td>1.0</td>\n      <td>27.0</td>\n      <td>0</td>\n      <td>303.0</td>\n      <td>70.0</td>\n      <td>151.0</td>\n      <td>565.0</td>\n      <td>2.0</td>\n      <td>1</td>\n    </tr>\n  </tbody>\n</table>\n<p>5 rows × 23 columns</p>\n</div>"
     },
     "execution_count": 122,
     "metadata": {},
     "output_type": "execute_result"
    }
   ],
   "source": [
    "df_train.head()"
   ],
   "metadata": {
    "collapsed": false,
    "ExecuteTime": {
     "end_time": "2023-08-20T03:03:05.308053Z",
     "start_time": "2023-08-20T03:03:05.305478Z"
    }
   },
   "id": "a7b834115239282b"
  },
  {
   "cell_type": "markdown",
   "source": [
    "### Displaying first 5 elements of testing dataset"
   ],
   "metadata": {
    "collapsed": false
   },
   "id": "802ee2c4211aeff0"
  },
  {
   "cell_type": "code",
   "execution_count": 123,
   "outputs": [
    {
     "data": {
      "text/plain": "  PassengerId  HomePlanet_Europa  HomePlanet_Mars  Cabin Desk B  Cabin Desk C  \\\n0     0013_01                0.0              0.0           0.0           0.0   \n1     0018_01                0.0              0.0           0.0           0.0   \n2     0019_01                1.0              0.0           0.0           1.0   \n3     0021_01                1.0              0.0           0.0           1.0   \n4     0023_01                0.0              0.0           0.0           0.0   \n\n   Cabin Desk D  Cabin Desk E  Cabin Desk F  Cabin Desk G  Cabin Desk T  ...  \\\n0           0.0           0.0           0.0           1.0           0.0  ...   \n1           0.0           0.0           1.0           0.0           0.0  ...   \n2           0.0           0.0           0.0           0.0           0.0  ...   \n3           0.0           0.0           0.0           0.0           0.0  ...   \n4           0.0           0.0           1.0           0.0           0.0  ...   \n\n   CryoSleep  Destination_PSO J318.5-22  Destination_TRAPPIST-1e   Age  VIP  \\\n0          1                        0.0                      1.0  26.0    0   \n1          0                        0.0                      1.0  26.0    0   \n2          1                        0.0                      0.0  26.0    0   \n3          0                        0.0                      1.0  26.0    0   \n4          0                        0.0                      1.0  26.0    0   \n\n   RoomService  FoodCourt  ShoppingMall     Spa  VRDeck  \n0          0.0        0.0           0.0     0.0     0.0  \n1          0.0        9.0           0.0  2823.0     0.0  \n2          0.0        0.0           0.0     0.0     0.0  \n3          0.0     6652.0           0.0   181.0   585.0  \n4         10.0        0.0         635.0     0.0     0.0  \n\n[5 rows x 22 columns]",
      "text/html": "<div>\n<style scoped>\n    .dataframe tbody tr th:only-of-type {\n        vertical-align: middle;\n    }\n\n    .dataframe tbody tr th {\n        vertical-align: top;\n    }\n\n    .dataframe thead th {\n        text-align: right;\n    }\n</style>\n<table border=\"1\" class=\"dataframe\">\n  <thead>\n    <tr style=\"text-align: right;\">\n      <th></th>\n      <th>PassengerId</th>\n      <th>HomePlanet_Europa</th>\n      <th>HomePlanet_Mars</th>\n      <th>Cabin Desk B</th>\n      <th>Cabin Desk C</th>\n      <th>Cabin Desk D</th>\n      <th>Cabin Desk E</th>\n      <th>Cabin Desk F</th>\n      <th>Cabin Desk G</th>\n      <th>Cabin Desk T</th>\n      <th>...</th>\n      <th>CryoSleep</th>\n      <th>Destination_PSO J318.5-22</th>\n      <th>Destination_TRAPPIST-1e</th>\n      <th>Age</th>\n      <th>VIP</th>\n      <th>RoomService</th>\n      <th>FoodCourt</th>\n      <th>ShoppingMall</th>\n      <th>Spa</th>\n      <th>VRDeck</th>\n    </tr>\n  </thead>\n  <tbody>\n    <tr>\n      <th>0</th>\n      <td>0013_01</td>\n      <td>0.0</td>\n      <td>0.0</td>\n      <td>0.0</td>\n      <td>0.0</td>\n      <td>0.0</td>\n      <td>0.0</td>\n      <td>0.0</td>\n      <td>1.0</td>\n      <td>0.0</td>\n      <td>...</td>\n      <td>1</td>\n      <td>0.0</td>\n      <td>1.0</td>\n      <td>26.0</td>\n      <td>0</td>\n      <td>0.0</td>\n      <td>0.0</td>\n      <td>0.0</td>\n      <td>0.0</td>\n      <td>0.0</td>\n    </tr>\n    <tr>\n      <th>1</th>\n      <td>0018_01</td>\n      <td>0.0</td>\n      <td>0.0</td>\n      <td>0.0</td>\n      <td>0.0</td>\n      <td>0.0</td>\n      <td>0.0</td>\n      <td>1.0</td>\n      <td>0.0</td>\n      <td>0.0</td>\n      <td>...</td>\n      <td>0</td>\n      <td>0.0</td>\n      <td>1.0</td>\n      <td>26.0</td>\n      <td>0</td>\n      <td>0.0</td>\n      <td>9.0</td>\n      <td>0.0</td>\n      <td>2823.0</td>\n      <td>0.0</td>\n    </tr>\n    <tr>\n      <th>2</th>\n      <td>0019_01</td>\n      <td>1.0</td>\n      <td>0.0</td>\n      <td>0.0</td>\n      <td>1.0</td>\n      <td>0.0</td>\n      <td>0.0</td>\n      <td>0.0</td>\n      <td>0.0</td>\n      <td>0.0</td>\n      <td>...</td>\n      <td>1</td>\n      <td>0.0</td>\n      <td>0.0</td>\n      <td>26.0</td>\n      <td>0</td>\n      <td>0.0</td>\n      <td>0.0</td>\n      <td>0.0</td>\n      <td>0.0</td>\n      <td>0.0</td>\n    </tr>\n    <tr>\n      <th>3</th>\n      <td>0021_01</td>\n      <td>1.0</td>\n      <td>0.0</td>\n      <td>0.0</td>\n      <td>1.0</td>\n      <td>0.0</td>\n      <td>0.0</td>\n      <td>0.0</td>\n      <td>0.0</td>\n      <td>0.0</td>\n      <td>...</td>\n      <td>0</td>\n      <td>0.0</td>\n      <td>1.0</td>\n      <td>26.0</td>\n      <td>0</td>\n      <td>0.0</td>\n      <td>6652.0</td>\n      <td>0.0</td>\n      <td>181.0</td>\n      <td>585.0</td>\n    </tr>\n    <tr>\n      <th>4</th>\n      <td>0023_01</td>\n      <td>0.0</td>\n      <td>0.0</td>\n      <td>0.0</td>\n      <td>0.0</td>\n      <td>0.0</td>\n      <td>0.0</td>\n      <td>1.0</td>\n      <td>0.0</td>\n      <td>0.0</td>\n      <td>...</td>\n      <td>0</td>\n      <td>0.0</td>\n      <td>1.0</td>\n      <td>26.0</td>\n      <td>0</td>\n      <td>10.0</td>\n      <td>0.0</td>\n      <td>635.0</td>\n      <td>0.0</td>\n      <td>0.0</td>\n    </tr>\n  </tbody>\n</table>\n<p>5 rows × 22 columns</p>\n</div>"
     },
     "execution_count": 123,
     "metadata": {},
     "output_type": "execute_result"
    }
   ],
   "source": [
    "df_test.head()"
   ],
   "metadata": {
    "collapsed": false,
    "ExecuteTime": {
     "end_time": "2023-08-20T03:03:05.995659Z",
     "start_time": "2023-08-20T03:03:05.991815Z"
    }
   },
   "id": "96dcb0ff9b189408"
  },
  {
   "cell_type": "markdown",
   "source": [
    "### Length of training and testing datasets"
   ],
   "metadata": {
    "collapsed": false
   },
   "id": "bae01afc3d919e33"
  },
  {
   "cell_type": "code",
   "execution_count": 124,
   "outputs": [
    {
     "name": "stdout",
     "output_type": "stream",
     "text": [
      "Training length :  8122\n",
      "Testing length  :  4017\n"
     ]
    }
   ],
   "source": [
    "print(\"Training length : \",len(df_train))\n",
    "print(\"Testing length  : \",len(df_test))"
   ],
   "metadata": {
    "collapsed": false,
    "ExecuteTime": {
     "end_time": "2023-08-20T03:03:06.961111Z",
     "start_time": "2023-08-20T03:03:06.956625Z"
    }
   },
   "id": "ba1e4dd75cd33a7d"
  },
  {
   "cell_type": "code",
   "execution_count": 125,
   "outputs": [
    {
     "name": "stdout",
     "output_type": "stream",
     "text": [
      "Training percentage :  66.91\n",
      "Testing percentage  :  33.09\n"
     ]
    }
   ],
   "source": [
    "print(\"Training percentage : \",round((len(df_train)*100/(len(df_train)+len(df_test))),2))\n",
    "print(\"Testing percentage  : \",round((len(df_test)*100/(len(df_train)+len(df_test))),2))"
   ],
   "metadata": {
    "collapsed": false,
    "ExecuteTime": {
     "end_time": "2023-08-20T03:03:07.358012Z",
     "start_time": "2023-08-20T03:03:07.353151Z"
    }
   },
   "id": "4a55c3b4fca43913"
  },
  {
   "cell_type": "markdown",
   "source": [
    "### Splitting the training data into input and output"
   ],
   "metadata": {
    "collapsed": false
   },
   "id": "ffd2da72e5fc6dc9"
  },
  {
   "cell_type": "code",
   "execution_count": 126,
   "outputs": [],
   "source": [
    "X_train = df_train.drop(\"Transported\",axis=1,inplace=False)\n",
    "y_train = df_train[\"Transported\"]\n",
    "\n",
    "X_test = df_test.copy()"
   ],
   "metadata": {
    "collapsed": false,
    "ExecuteTime": {
     "end_time": "2023-08-20T03:03:08.648152Z",
     "start_time": "2023-08-20T03:03:08.643629Z"
    }
   },
   "id": "3352336be5e81c35"
  },
  {
   "cell_type": "code",
   "execution_count": 168,
   "outputs": [],
   "source": [
    "lsvc = SVC()\n",
    "model = lsvc.fit(X_train,y_train)"
   ],
   "metadata": {
    "collapsed": false,
    "ExecuteTime": {
     "end_time": "2023-08-20T03:06:47.929009Z",
     "start_time": "2023-08-20T03:06:46.502326Z"
    }
   },
   "id": "a1a16394b5a07142"
  },
  {
   "cell_type": "code",
   "execution_count": 169,
   "outputs": [],
   "source": [
    "y_test = pd.Series(model.predict(X_test))"
   ],
   "metadata": {
    "collapsed": false,
    "ExecuteTime": {
     "end_time": "2023-08-20T03:06:49.069069Z",
     "start_time": "2023-08-20T03:06:47.930624Z"
    }
   },
   "id": "24c57febf1e0069d"
  },
  {
   "cell_type": "code",
   "execution_count": 170,
   "outputs": [
    {
     "data": {
      "text/plain": "0       0\n1       0\n2       0\n3       0\n4       0\n       ..\n4012    0\n4013    0\n4014    0\n4015    0\n4016    0\nLength: 4017, dtype: int64"
     },
     "execution_count": 170,
     "metadata": {},
     "output_type": "execute_result"
    }
   ],
   "source": [
    "y_test"
   ],
   "metadata": {
    "collapsed": false,
    "ExecuteTime": {
     "end_time": "2023-08-20T03:06:49.973152Z",
     "start_time": "2023-08-20T03:06:49.966521Z"
    }
   },
   "id": "82682ab1ee3edb79"
  },
  {
   "cell_type": "code",
   "execution_count": 171,
   "outputs": [
    {
     "data": {
      "text/plain": "   index      0\n0      0  54.97\n1      1  45.03",
      "text/html": "<div>\n<style scoped>\n    .dataframe tbody tr th:only-of-type {\n        vertical-align: middle;\n    }\n\n    .dataframe tbody tr th {\n        vertical-align: top;\n    }\n\n    .dataframe thead th {\n        text-align: right;\n    }\n</style>\n<table border=\"1\" class=\"dataframe\">\n  <thead>\n    <tr style=\"text-align: right;\">\n      <th></th>\n      <th>index</th>\n      <th>0</th>\n    </tr>\n  </thead>\n  <tbody>\n    <tr>\n      <th>0</th>\n      <td>0</td>\n      <td>54.97</td>\n    </tr>\n    <tr>\n      <th>1</th>\n      <td>1</td>\n      <td>45.03</td>\n    </tr>\n  </tbody>\n</table>\n</div>"
     },
     "execution_count": 171,
     "metadata": {},
     "output_type": "execute_result"
    }
   ],
   "source": [
    "v = round((y_test.value_counts()*100/y_test.value_counts().sum()),2)\n",
    "v = v.reset_index()\n",
    "v"
   ],
   "metadata": {
    "collapsed": false,
    "ExecuteTime": {
     "end_time": "2023-08-20T03:06:50.477257Z",
     "start_time": "2023-08-20T03:06:50.474406Z"
    }
   },
   "id": "6543cc3f4781bae2"
  },
  {
   "cell_type": "code",
   "execution_count": 172,
   "outputs": [
    {
     "data": {
      "text/plain": "<Figure size 640x480 with 1 Axes>",
      "image/png": "[encoded data removed]"
     },
     "metadata": {},
     "output_type": "display_data"
    }
   ],
   "source": [
    "plot = sns.barplot(x=v[\"index\"],y=v[0])\n",
    "plot.set(ylabel=\"Count\",xlabel=\"Transported\")\n",
    "for i in plot.containers:\n",
    "    plot.bar_label(i,)"
   ],
   "metadata": {
    "collapsed": false,
    "ExecuteTime": {
     "end_time": "2023-08-20T03:06:51.119291Z",
     "start_time": "2023-08-20T03:06:51.060370Z"
    }
   },
   "id": "39074c5d2d3018f0"
  },
  {
   "cell_type": "code",
   "execution_count": 173,
   "outputs": [],
   "source": [
    "sub_df = pd.DataFrame(columns=[\"PassengerId\",\"Transported\"])\n",
    "sub_df[\"PassengerId\"] = df_test[\"PassengerId\"]\n",
    "sub_df[\"Transported\"] = y_test"
   ],
   "metadata": {
    "collapsed": false,
    "ExecuteTime": {
     "end_time": "2023-08-20T03:09:10.292173Z",
     "start_time": "2023-08-20T03:09:10.289098Z"
    }
   },
   "id": "fe1fca7489ff395e"
  },
  {
   "cell_type": "code",
   "execution_count": 174,
   "outputs": [
    {
     "data": {
      "text/plain": "  PassengerId  Transported\n0     0013_01            0\n1     0018_01            0\n2     0019_01            0\n3     0021_01            0\n4     0023_01            0",
      "text/html": "<div>\n<style scoped>\n    .dataframe tbody tr th:only-of-type {\n        vertical-align: middle;\n    }\n\n    .dataframe tbody tr th {\n        vertical-align: top;\n    }\n\n    .dataframe thead th {\n        text-align: right;\n    }\n</style>\n<table border=\"1\" class=\"dataframe\">\n  <thead>\n    <tr style=\"text-align: right;\">\n      <th></th>\n      <th>PassengerId</th>\n      <th>Transported</th>\n    </tr>\n  </thead>\n  <tbody>\n    <tr>\n      <th>0</th>\n      <td>0013_01</td>\n      <td>0</td>\n    </tr>\n    <tr>\n      <th>1</th>\n      <td>0018_01</td>\n      <td>0</td>\n    </tr>\n    <tr>\n      <th>2</th>\n      <td>0019_01</td>\n      <td>0</td>\n    </tr>\n    <tr>\n      <th>3</th>\n      <td>0021_01</td>\n      <td>0</td>\n    </tr>\n    <tr>\n      <th>4</th>\n      <td>0023_01</td>\n      <td>0</td>\n    </tr>\n  </tbody>\n</table>\n</div>"
     },
     "execution_count": 174,
     "metadata": {},
     "output_type": "execute_result"
    }
   ],
   "source": [
    "sub_df.head()"
   ],
   "metadata": {
    "collapsed": false,
    "ExecuteTime": {
     "end_time": "2023-08-20T03:09:14.243167Z",
     "start_time": "2023-08-20T03:09:14.228Z"
    }
   },
   "id": "54419f6e2d810f87"
  },
  {
   "cell_type": "code",
   "execution_count": 175,
   "outputs": [],
   "source": [
    "sub_df.to_csv(\"amith_submission.csv\",index=False)"
   ],
   "metadata": {
    "collapsed": false,
    "ExecuteTime": {
     "end_time": "2023-08-20T03:09:53.597730Z",
     "start_time": "2023-08-20T03:09:53.577121Z"
    }
   },
   "id": "a7da74b0fa4d388f"
  },
  {
   "cell_type": "code",
   "execution_count": null,
   "outputs": [],
   "source": [],
   "metadata": {
    "collapsed": false
   },
   "id": "48e269784ee1169e"
  }
 ],
 "metadata": {
  "kernelspec": {
   "display_name": "Python 3",
   "language": "python",
   "name": "python3"
  },
  "language_info": {
   "codemirror_mode": {
    "name": "ipython",
    "version": 2
   },
   "file_extension": ".py",
   "mimetype": "text/x-python",
   "name": "python",
   "nbconvert_exporter": "python",
   "pygments_lexer": "ipython2",
   "version": "2.7.6"
  }
 },
 "nbformat": 4,
 "nbformat_minor": 5
}
