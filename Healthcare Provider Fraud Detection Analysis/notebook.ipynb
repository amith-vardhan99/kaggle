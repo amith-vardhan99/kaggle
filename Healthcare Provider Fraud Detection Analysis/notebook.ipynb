{
 "cells": [
  {
   "cell_type": "code",
   "execution_count": 423,
   "id": "initial_id",
   "metadata": {
    "collapsed": true,
    "ExecuteTime": {
     "end_time": "2023-12-03T21:05:30.741492Z",
     "start_time": "2023-12-03T21:05:30.737526Z"
    }
   },
   "outputs": [],
   "source": [
    "import numpy as np\n",
    "import pandas as pd\n",
    "import matplotlib.pyplot as plt\n",
    "import seaborn as sns\n",
    "from datetime import *\n",
    "import warnings\n",
    "warnings.filterwarnings(\"ignore\")\n",
    "import math\n",
    "from sklearn.model_selection import *\n",
    "from sklearn.linear_model import *\n",
    "from sklearn.ensemble import *"
   ]
  },
  {
   "cell_type": "markdown",
   "source": [
    "### Importing all the Data"
   ],
   "metadata": {
    "collapsed": false
   },
   "id": "75914d465db5b636"
  },
  {
   "cell_type": "code",
   "execution_count": 424,
   "outputs": [],
   "source": [
    "df_train = pd.read_csv(\"Train-1542865627584.csv\")\n",
    "df_test = pd.read_csv(\"Test-1542969243754.csv\")\n",
    "\n",
    "df_train_beneficiary_1 = pd.read_csv(\"Train_Beneficiarydata-1542865627584.csv\")\n",
    "df_test_beneficiary_1 = pd.read_csv(\"Test_Beneficiarydata-1542969243754.csv\")\n",
    "\n",
    "df_train_inpatient_1 = pd.read_csv(\"Train_Inpatientdata-1542865627584.csv\")\n",
    "df_test_inpatient_1 = pd.read_csv(\"Test_Inpatientdata-1542969243754.csv\")\n",
    "\n",
    "df_train_outpatient_1 = pd.read_csv(\"Train_Outpatientdata-1542865627584.csv\")\n",
    "df_test_outpatient_1 = pd.read_csv(\"Test_Outpatientdata-1542969243754.csv\")\n",
    "\n",
    "ben_train = df_train_beneficiary_1.copy()\n",
    "ben_train[\"DOD\"] = ben_train[\"DOD\"].fillna(\"N/A\")\n",
    "ben_test = df_test_beneficiary_1.copy()\n",
    "ben_test[\"DOD\"] = ben_test[\"DOD\"].fillna(\"N/A\")"
   ],
   "metadata": {
    "collapsed": false,
    "ExecuteTime": {
     "end_time": "2023-12-03T21:05:33.601330Z",
     "start_time": "2023-12-03T21:05:31.476350Z"
    }
   },
   "id": "3dd55de2dc8283c2"
  },
  {
   "cell_type": "markdown",
   "source": [
    "### Functions for Application"
   ],
   "metadata": {
    "collapsed": false
   },
   "id": "2c0b47f459c12fda"
  },
  {
   "cell_type": "code",
   "execution_count": 425,
   "outputs": [],
   "source": [
    "def calculate_age(df):\n",
    "    p = int(math.floor(df.days/365))\n",
    "    return p\n",
    "\n",
    "def alive_or_dead(df):\n",
    "    if df[\"DOD\"] == \"N/A\":\n",
    "        return 1\n",
    "    else:\n",
    "        return 0\n",
    "\n",
    "def calculate_time_duration(df):\n",
    "    p = df.days\n",
    "    return p"
   ],
   "metadata": {
    "collapsed": false,
    "ExecuteTime": {
     "end_time": "2023-12-03T21:05:33.610651Z",
     "start_time": "2023-12-03T21:05:33.602953Z"
    }
   },
   "id": "7962b35bf2f74138"
  },
  {
   "cell_type": "markdown",
   "source": [
    "### Training Data"
   ],
   "metadata": {
    "collapsed": false
   },
   "id": "bb484d9a94a5b669"
  },
  {
   "cell_type": "markdown",
   "source": [
    "#### Beneficiary Data"
   ],
   "metadata": {
    "collapsed": false
   },
   "id": "d23433bbff36c331"
  },
  {
   "cell_type": "code",
   "execution_count": 426,
   "outputs": [],
   "source": [
    "df_train_beneficiary = df_train_beneficiary_1.copy()\n",
    "\n",
    "df_train_beneficiary[\"DOB\"] = pd.to_datetime(df_train_beneficiary[\"DOB\"])\n",
    "\n",
    "df_train_beneficiary[\"DOD\"] = pd.to_datetime(df_train_beneficiary[\"DOD\"])\n",
    "\n",
    "df_train_beneficiary[\"DOD\"] = df_train_beneficiary[\"DOD\"].fillna(pd.Timestamp(date.today().year,date.today().month,date.today().day,0,0,0,0))\n",
    "\n",
    "date_diff = (df_train_beneficiary[\"DOD\"] - df_train_beneficiary[\"DOB\"])\n",
    "\n",
    "ben_train[\"Alive\"] = ben_train.apply(lambda x: alive_or_dead(x),axis=1)\n",
    "df_train_beneficiary[\"Alive\"] = ben_train[\"Alive\"].copy()\n",
    "df_train_beneficiary.drop([\"DOB\",\"DOD\",\"State\",\"County\"],axis=1,inplace=True)\n",
    "df_train_beneficiary[\"Age\"] = date_diff.apply(lambda x: calculate_age(x))\n",
    "\n",
    "df_train_beneficiary[\"Gender\"] = df_train_beneficiary[\"Gender\"].map({1:1,2:0})\n",
    "df_train_beneficiary[\"Race\"] = df_train_beneficiary[\"Race\"].map({1:0,2:1,3:2,5:3})\n",
    "\n",
    "df_train_beneficiary[\"ChronicCond_Alzheimer\"] = df_train_beneficiary[\"ChronicCond_Alzheimer\"].map({1:1,2:0})\n",
    "df_train_beneficiary[\"ChronicCond_Heartfailure\"] = df_train_beneficiary[\"ChronicCond_Heartfailure\"].map({1:1,2:0})\n",
    "df_train_beneficiary[\"ChronicCond_KidneyDisease\"] = df_train_beneficiary[\"ChronicCond_KidneyDisease\"].map({1:1,2:0})\n",
    "df_train_beneficiary[\"ChronicCond_Cancer\"] = df_train_beneficiary[\"ChronicCond_Cancer\"].map({1:1,2:0})\n",
    "df_train_beneficiary[\"ChronicCond_ObstrPulmonary\"] = df_train_beneficiary[\"ChronicCond_ObstrPulmonary\"].map({1:1,2:0})\n",
    "df_train_beneficiary[\"ChronicCond_Depression\"] = df_train_beneficiary[\"ChronicCond_Depression\"].map({1:1,2:0})\n",
    "df_train_beneficiary[\"ChronicCond_Diabetes\"] = df_train_beneficiary[\"ChronicCond_Diabetes\"].map({1:1,2:0})\n",
    "df_train_beneficiary[\"ChronicCond_IschemicHeart\"] = df_train_beneficiary[\"ChronicCond_IschemicHeart\"].map({1:1,2:0})\n",
    "df_train_beneficiary[\"ChronicCond_Osteoporasis\"] = df_train_beneficiary[\"ChronicCond_Osteoporasis\"].map({1:1,2:0})\n",
    "df_train_beneficiary[\"ChronicCond_rheumatoidarthritis\"] = df_train_beneficiary[\"ChronicCond_rheumatoidarthritis\"].map({1:1,2:0})\n",
    "df_train_beneficiary[\"ChronicCond_stroke\"] = df_train_beneficiary[\"ChronicCond_stroke\"].map({1:1,2:0})\n",
    "\n",
    "df_train_beneficiary[\"RenalDiseaseIndicator\"] = df_train_beneficiary[\"RenalDiseaseIndicator\"].map({\"0\":0,\"Y\":1})"
   ],
   "metadata": {
    "collapsed": false,
    "ExecuteTime": {
     "end_time": "2023-12-03T21:05:34.411623Z",
     "start_time": "2023-12-03T21:05:33.609588Z"
    }
   },
   "id": "9ca8fc5fc2fc8afa"
  },
  {
   "cell_type": "code",
   "execution_count": 427,
   "outputs": [
    {
     "data": {
      "text/plain": "            BeneID  Gender  Race  RenalDiseaseIndicator  NoOfMonths_PartACov  \\\n0        BENE11001       1     0                      0                   12   \n1        BENE11002       0     0                      0                   12   \n2        BENE11003       1     0                      0                   12   \n3        BENE11004       1     0                      0                   12   \n4        BENE11005       1     0                      0                   12   \n...            ...     ...   ...                    ...                  ...   \n138551  BENE159194       1     0                      0                   12   \n138552  BENE159195       0     0                      0                   12   \n138553  BENE159196       0     0                      0                   12   \n138554  BENE159197       1     0                      0                   12   \n138555  BENE159198       0     0                      0                   12   \n\n        NoOfMonths_PartBCov  ChronicCond_Alzheimer  ChronicCond_Heartfailure  \\\n0                        12                      1                         0   \n1                        12                      0                         0   \n2                        12                      1                         0   \n3                        12                      1                         1   \n4                        12                      0                         0   \n...                     ...                    ...                       ...   \n138551                   12                      1                         0   \n138552                   12                      1                         0   \n138553                   12                      0                         1   \n138554                   12                      1                         1   \n138555                   12                      1                         1   \n\n        ChronicCond_KidneyDisease  ChronicCond_Cancer  ...  \\\n0                               1                   0  ...   \n1                               0                   0  ...   \n2                               0                   0  ...   \n3                               0                   0  ...   \n4                               0                   0  ...   \n...                           ...                 ...  ...   \n138551                          0                   0  ...   \n138552                          0                   0  ...   \n138553                          1                   1  ...   \n138554                          0                   0  ...   \n138555                          0                   0  ...   \n\n        ChronicCond_IschemicHeart  ChronicCond_Osteoporasis  \\\n0                               1                         0   \n1                               0                         0   \n2                               1                         0   \n3                               1                         1   \n4                               0                         0   \n...                           ...                       ...   \n138551                          0                         0   \n138552                          0                         0   \n138553                          1                         0   \n138554                          1                         0   \n138555                          0                         0   \n\n        ChronicCond_rheumatoidarthritis  ChronicCond_stroke  \\\n0                                     1                   1   \n1                                     0                   0   \n2                                     0                   0   \n3                                     1                   0   \n4                                     0                   0   \n...                                 ...                 ...   \n138551                                0                   0   \n138552                                0                   0   \n138553                                0                   0   \n138554                                0                   0   \n138555                                1                   0   \n\n        IPAnnualReimbursementAmt  IPAnnualDeductibleAmt  \\\n0                          36000                   3204   \n1                              0                      0   \n2                              0                      0   \n3                              0                      0   \n4                              0                      0   \n...                          ...                    ...   \n138551                         0                      0   \n138552                         0                      0   \n138553                      2000                   1068   \n138554                         0                      0   \n138555                         0                      0   \n\n        OPAnnualReimbursementAmt  OPAnnualDeductibleAmt  Alive  Age  \n0                             60                     70      1   80  \n1                             30                     50      1   87  \n2                             90                     40      1   87  \n3                           1810                    760      1  101  \n4                           1790                   1200      1   88  \n...                          ...                    ...    ...  ...  \n138551                       430                    460      1   84  \n138552                       880                    100      1   85  \n138553                      3240                   1390      1  107  \n138554                      2650                     10      1   93  \n138555                      5470                   1870      1   71  \n\n[138556 rows x 23 columns]",
      "text/html": "<div>\n<style scoped>\n    .dataframe tbody tr th:only-of-type {\n        vertical-align: middle;\n    }\n\n    .dataframe tbody tr th {\n        vertical-align: top;\n    }\n\n    .dataframe thead th {\n        text-align: right;\n    }\n</style>\n<table border=\"1\" class=\"dataframe\">\n  <thead>\n    <tr style=\"text-align: right;\">\n      <th></th>\n      <th>BeneID</th>\n      <th>Gender</th>\n      <th>Race</th>\n      <th>RenalDiseaseIndicator</th>\n      <th>NoOfMonths_PartACov</th>\n      <th>NoOfMonths_PartBCov</th>\n      <th>ChronicCond_Alzheimer</th>\n      <th>ChronicCond_Heartfailure</th>\n      <th>ChronicCond_KidneyDisease</th>\n      <th>ChronicCond_Cancer</th>\n      <th>...</th>\n      <th>ChronicCond_IschemicHeart</th>\n      <th>ChronicCond_Osteoporasis</th>\n      <th>ChronicCond_rheumatoidarthritis</th>\n      <th>ChronicCond_stroke</th>\n      <th>IPAnnualReimbursementAmt</th>\n      <th>IPAnnualDeductibleAmt</th>\n      <th>OPAnnualReimbursementAmt</th>\n      <th>OPAnnualDeductibleAmt</th>\n      <th>Alive</th>\n      <th>Age</th>\n    </tr>\n  </thead>\n  <tbody>\n    <tr>\n      <th>0</th>\n      <td>BENE11001</td>\n      <td>1</td>\n      <td>0</td>\n      <td>0</td>\n      <td>12</td>\n      <td>12</td>\n      <td>1</td>\n      <td>0</td>\n      <td>1</td>\n      <td>0</td>\n      <td>...</td>\n      <td>1</td>\n      <td>0</td>\n      <td>1</td>\n      <td>1</td>\n      <td>36000</td>\n      <td>3204</td>\n      <td>60</td>\n      <td>70</td>\n      <td>1</td>\n      <td>80</td>\n    </tr>\n    <tr>\n      <th>1</th>\n      <td>BENE11002</td>\n      <td>0</td>\n      <td>0</td>\n      <td>0</td>\n      <td>12</td>\n      <td>12</td>\n      <td>0</td>\n      <td>0</td>\n      <td>0</td>\n      <td>0</td>\n      <td>...</td>\n      <td>0</td>\n      <td>0</td>\n      <td>0</td>\n      <td>0</td>\n      <td>0</td>\n      <td>0</td>\n      <td>30</td>\n      <td>50</td>\n      <td>1</td>\n      <td>87</td>\n    </tr>\n    <tr>\n      <th>2</th>\n      <td>BENE11003</td>\n      <td>1</td>\n      <td>0</td>\n      <td>0</td>\n      <td>12</td>\n      <td>12</td>\n      <td>1</td>\n      <td>0</td>\n      <td>0</td>\n      <td>0</td>\n      <td>...</td>\n      <td>1</td>\n      <td>0</td>\n      <td>0</td>\n      <td>0</td>\n      <td>0</td>\n      <td>0</td>\n      <td>90</td>\n      <td>40</td>\n      <td>1</td>\n      <td>87</td>\n    </tr>\n    <tr>\n      <th>3</th>\n      <td>BENE11004</td>\n      <td>1</td>\n      <td>0</td>\n      <td>0</td>\n      <td>12</td>\n      <td>12</td>\n      <td>1</td>\n      <td>1</td>\n      <td>0</td>\n      <td>0</td>\n      <td>...</td>\n      <td>1</td>\n      <td>1</td>\n      <td>1</td>\n      <td>0</td>\n      <td>0</td>\n      <td>0</td>\n      <td>1810</td>\n      <td>760</td>\n      <td>1</td>\n      <td>101</td>\n    </tr>\n    <tr>\n      <th>4</th>\n      <td>BENE11005</td>\n      <td>1</td>\n      <td>0</td>\n      <td>0</td>\n      <td>12</td>\n      <td>12</td>\n      <td>0</td>\n      <td>0</td>\n      <td>0</td>\n      <td>0</td>\n      <td>...</td>\n      <td>0</td>\n      <td>0</td>\n      <td>0</td>\n      <td>0</td>\n      <td>0</td>\n      <td>0</td>\n      <td>1790</td>\n      <td>1200</td>\n      <td>1</td>\n      <td>88</td>\n    </tr>\n    <tr>\n      <th>...</th>\n      <td>...</td>\n      <td>...</td>\n      <td>...</td>\n      <td>...</td>\n      <td>...</td>\n      <td>...</td>\n      <td>...</td>\n      <td>...</td>\n      <td>...</td>\n      <td>...</td>\n      <td>...</td>\n      <td>...</td>\n      <td>...</td>\n      <td>...</td>\n      <td>...</td>\n      <td>...</td>\n      <td>...</td>\n      <td>...</td>\n      <td>...</td>\n      <td>...</td>\n      <td>...</td>\n    </tr>\n    <tr>\n      <th>138551</th>\n      <td>BENE159194</td>\n      <td>1</td>\n      <td>0</td>\n      <td>0</td>\n      <td>12</td>\n      <td>12</td>\n      <td>1</td>\n      <td>0</td>\n      <td>0</td>\n      <td>0</td>\n      <td>...</td>\n      <td>0</td>\n      <td>0</td>\n      <td>0</td>\n      <td>0</td>\n      <td>0</td>\n      <td>0</td>\n      <td>430</td>\n      <td>460</td>\n      <td>1</td>\n      <td>84</td>\n    </tr>\n    <tr>\n      <th>138552</th>\n      <td>BENE159195</td>\n      <td>0</td>\n      <td>0</td>\n      <td>0</td>\n      <td>12</td>\n      <td>12</td>\n      <td>1</td>\n      <td>0</td>\n      <td>0</td>\n      <td>0</td>\n      <td>...</td>\n      <td>0</td>\n      <td>0</td>\n      <td>0</td>\n      <td>0</td>\n      <td>0</td>\n      <td>0</td>\n      <td>880</td>\n      <td>100</td>\n      <td>1</td>\n      <td>85</td>\n    </tr>\n    <tr>\n      <th>138553</th>\n      <td>BENE159196</td>\n      <td>0</td>\n      <td>0</td>\n      <td>0</td>\n      <td>12</td>\n      <td>12</td>\n      <td>0</td>\n      <td>1</td>\n      <td>1</td>\n      <td>1</td>\n      <td>...</td>\n      <td>1</td>\n      <td>0</td>\n      <td>0</td>\n      <td>0</td>\n      <td>2000</td>\n      <td>1068</td>\n      <td>3240</td>\n      <td>1390</td>\n      <td>1</td>\n      <td>107</td>\n    </tr>\n    <tr>\n      <th>138554</th>\n      <td>BENE159197</td>\n      <td>1</td>\n      <td>0</td>\n      <td>0</td>\n      <td>12</td>\n      <td>12</td>\n      <td>1</td>\n      <td>1</td>\n      <td>0</td>\n      <td>0</td>\n      <td>...</td>\n      <td>1</td>\n      <td>0</td>\n      <td>0</td>\n      <td>0</td>\n      <td>0</td>\n      <td>0</td>\n      <td>2650</td>\n      <td>10</td>\n      <td>1</td>\n      <td>93</td>\n    </tr>\n    <tr>\n      <th>138555</th>\n      <td>BENE159198</td>\n      <td>0</td>\n      <td>0</td>\n      <td>0</td>\n      <td>12</td>\n      <td>12</td>\n      <td>1</td>\n      <td>1</td>\n      <td>0</td>\n      <td>0</td>\n      <td>...</td>\n      <td>0</td>\n      <td>0</td>\n      <td>1</td>\n      <td>0</td>\n      <td>0</td>\n      <td>0</td>\n      <td>5470</td>\n      <td>1870</td>\n      <td>1</td>\n      <td>71</td>\n    </tr>\n  </tbody>\n</table>\n<p>138556 rows × 23 columns</p>\n</div>"
     },
     "execution_count": 427,
     "metadata": {},
     "output_type": "execute_result"
    }
   ],
   "source": [
    "df_train_beneficiary"
   ],
   "metadata": {
    "collapsed": false,
    "ExecuteTime": {
     "end_time": "2023-12-03T21:05:34.446469Z",
     "start_time": "2023-12-03T21:05:34.410180Z"
    }
   },
   "id": "d8030395f6596380"
  },
  {
   "cell_type": "markdown",
   "source": [
    "#### Inpatient Data"
   ],
   "metadata": {
    "collapsed": false
   },
   "id": "d1ee54cfbf9c17f7"
  },
  {
   "cell_type": "code",
   "execution_count": 428,
   "outputs": [],
   "source": [
    "df_train_inpatient = df_train_inpatient_1[[\"BeneID\",\"Provider\",\"ClaimStartDt\",\"ClaimEndDt\",\"InscClaimAmtReimbursed\",\"AdmissionDt\",\"DeductibleAmtPaid\",\"DischargeDt\"]]\n",
    "df_train_inpatient[\"ClaimStartDt\"] = pd.to_datetime(df_train_inpatient[\"ClaimStartDt\"])\n",
    "df_train_inpatient[\"ClaimEndDt\"] = pd.to_datetime(df_train_inpatient[\"ClaimEndDt\"])\n",
    "df_train_inpatient[\"AdmissionDt\"] = pd.to_datetime(df_train_inpatient[\"AdmissionDt\"])\n",
    "df_train_inpatient[\"DischargeDt\"] = pd.to_datetime(df_train_inpatient[\"DischargeDt\"])\n",
    "\n",
    "inp_diff = df_train_inpatient[\"ClaimEndDt\"] - df_train_inpatient[\"ClaimStartDt\"]\n",
    "admin_diff = df_train_inpatient[\"DischargeDt\"] - df_train_inpatient[\"AdmissionDt\"]\n",
    "\n",
    "df_train_inpatient[\"ClaimTime\"] = inp_diff.apply(lambda x: calculate_time_duration(x))\n",
    "df_train_inpatient[\"AdmissionTime\"] = admin_diff.apply(lambda x: calculate_time_duration(x))\n",
    "df_train_inpatient.drop([\"ClaimStartDt\",\"ClaimEndDt\",\"AdmissionDt\",\"DischargeDt\"],axis=1,inplace=True)"
   ],
   "metadata": {
    "collapsed": false,
    "ExecuteTime": {
     "end_time": "2023-12-03T21:05:35.454820Z",
     "start_time": "2023-12-03T21:05:35.375642Z"
    }
   },
   "id": "b342029deb5577a2"
  },
  {
   "cell_type": "code",
   "execution_count": 429,
   "outputs": [
    {
     "data": {
      "text/plain": "           BeneID  Provider  InscClaimAmtReimbursed  DeductibleAmtPaid  \\\n0       BENE11001  PRV55912                   26000             1068.0   \n1       BENE11001  PRV55907                    5000             1068.0   \n2       BENE11001  PRV56046                    5000             1068.0   \n3       BENE11011  PRV52405                    5000             1068.0   \n4       BENE11014  PRV56614                   10000             1068.0   \n...           ...       ...                     ...                ...   \n40469  BENE159167  PRV53671                    7000             1068.0   \n40470  BENE159175  PRV54981                    4000             1068.0   \n40471  BENE159177  PRV56588                    3000             1068.0   \n40472  BENE159177  PRV56575                    5000             1068.0   \n40473  BENE159188  PRV54765                   15000             1068.0   \n\n       ClaimTime  AdmissionTime  \n0              6              6  \n1              2              2  \n2              3              3  \n3              8              8  \n4             17             17  \n...          ...            ...  \n40469          4              4  \n40470          3              3  \n40471          4              4  \n40472          1              1  \n40473          8              8  \n\n[40474 rows x 6 columns]",
      "text/html": "<div>\n<style scoped>\n    .dataframe tbody tr th:only-of-type {\n        vertical-align: middle;\n    }\n\n    .dataframe tbody tr th {\n        vertical-align: top;\n    }\n\n    .dataframe thead th {\n        text-align: right;\n    }\n</style>\n<table border=\"1\" class=\"dataframe\">\n  <thead>\n    <tr style=\"text-align: right;\">\n      <th></th>\n      <th>BeneID</th>\n      <th>Provider</th>\n      <th>InscClaimAmtReimbursed</th>\n      <th>DeductibleAmtPaid</th>\n      <th>ClaimTime</th>\n      <th>AdmissionTime</th>\n    </tr>\n  </thead>\n  <tbody>\n    <tr>\n      <th>0</th>\n      <td>BENE11001</td>\n      <td>PRV55912</td>\n      <td>26000</td>\n      <td>1068.0</td>\n      <td>6</td>\n      <td>6</td>\n    </tr>\n    <tr>\n      <th>1</th>\n      <td>BENE11001</td>\n      <td>PRV55907</td>\n      <td>5000</td>\n      <td>1068.0</td>\n      <td>2</td>\n      <td>2</td>\n    </tr>\n    <tr>\n      <th>2</th>\n      <td>BENE11001</td>\n      <td>PRV56046</td>\n      <td>5000</td>\n      <td>1068.0</td>\n      <td>3</td>\n      <td>3</td>\n    </tr>\n    <tr>\n      <th>3</th>\n      <td>BENE11011</td>\n      <td>PRV52405</td>\n      <td>5000</td>\n      <td>1068.0</td>\n      <td>8</td>\n      <td>8</td>\n    </tr>\n    <tr>\n      <th>4</th>\n      <td>BENE11014</td>\n      <td>PRV56614</td>\n      <td>10000</td>\n      <td>1068.0</td>\n      <td>17</td>\n      <td>17</td>\n    </tr>\n    <tr>\n      <th>...</th>\n      <td>...</td>\n      <td>...</td>\n      <td>...</td>\n      <td>...</td>\n      <td>...</td>\n      <td>...</td>\n    </tr>\n    <tr>\n      <th>40469</th>\n      <td>BENE159167</td>\n      <td>PRV53671</td>\n      <td>7000</td>\n      <td>1068.0</td>\n      <td>4</td>\n      <td>4</td>\n    </tr>\n    <tr>\n      <th>40470</th>\n      <td>BENE159175</td>\n      <td>PRV54981</td>\n      <td>4000</td>\n      <td>1068.0</td>\n      <td>3</td>\n      <td>3</td>\n    </tr>\n    <tr>\n      <th>40471</th>\n      <td>BENE159177</td>\n      <td>PRV56588</td>\n      <td>3000</td>\n      <td>1068.0</td>\n      <td>4</td>\n      <td>4</td>\n    </tr>\n    <tr>\n      <th>40472</th>\n      <td>BENE159177</td>\n      <td>PRV56575</td>\n      <td>5000</td>\n      <td>1068.0</td>\n      <td>1</td>\n      <td>1</td>\n    </tr>\n    <tr>\n      <th>40473</th>\n      <td>BENE159188</td>\n      <td>PRV54765</td>\n      <td>15000</td>\n      <td>1068.0</td>\n      <td>8</td>\n      <td>8</td>\n    </tr>\n  </tbody>\n</table>\n<p>40474 rows × 6 columns</p>\n</div>"
     },
     "execution_count": 429,
     "metadata": {},
     "output_type": "execute_result"
    }
   ],
   "source": [
    "df_train_inpatient"
   ],
   "metadata": {
    "collapsed": false,
    "ExecuteTime": {
     "end_time": "2023-12-03T21:05:36.203159Z",
     "start_time": "2023-12-03T21:05:36.177513Z"
    }
   },
   "id": "b612ad8029721277"
  },
  {
   "cell_type": "markdown",
   "source": [
    "#### Outpatient Data"
   ],
   "metadata": {
    "collapsed": false
   },
   "id": "960bbf99dff177c3"
  },
  {
   "cell_type": "code",
   "execution_count": 430,
   "outputs": [],
   "source": [
    "df_train_outpatient = df_train_outpatient_1[[\"BeneID\",\"Provider\",\"ClaimStartDt\",\"ClaimEndDt\",\"InscClaimAmtReimbursed\",\"DeductibleAmtPaid\"]]\n",
    "df_train_outpatient[\"ClaimStartDt\"] = pd.to_datetime(df_train_outpatient[\"ClaimStartDt\"])\n",
    "df_train_outpatient[\"ClaimEndDt\"] = pd.to_datetime(df_train_outpatient[\"ClaimEndDt\"])\n",
    "\n",
    "inp_diff = df_train_outpatient[\"ClaimEndDt\"] - df_train_outpatient[\"ClaimStartDt\"]\n",
    "\n",
    "df_train_outpatient[\"ClaimTime\"] = inp_diff.apply(lambda x: calculate_time_duration(x))\n",
    "df_train_outpatient[\"AdmissionTime\"] = 1\n",
    "df_train_outpatient.drop([\"ClaimStartDt\",\"ClaimEndDt\"],axis=1,inplace=True)"
   ],
   "metadata": {
    "collapsed": false,
    "ExecuteTime": {
     "end_time": "2023-12-03T21:05:38.546897Z",
     "start_time": "2023-12-03T21:05:37.085071Z"
    }
   },
   "id": "a5e1aaaa982b807e"
  },
  {
   "cell_type": "code",
   "execution_count": 431,
   "outputs": [
    {
     "data": {
      "text/plain": "            BeneID  Provider  InscClaimAmtReimbursed  DeductibleAmtPaid  \\\n0        BENE11002  PRV56011                      30                  0   \n1        BENE11003  PRV57610                      80                  0   \n2        BENE11003  PRV57595                      10                  0   \n3        BENE11004  PRV56011                      40                  0   \n4        BENE11004  PRV56011                     200                  0   \n...            ...       ...                     ...                ...   \n517732  BENE159198  PRV53699                     800                  0   \n517733  BENE159198  PRV53702                     400                  0   \n517734  BENE159198  PRV53676                      60                  0   \n517735  BENE159198  PRV53689                      70                  0   \n517736  BENE159198  PRV53689                      80                  0   \n\n        ClaimTime  AdmissionTime  \n0               0              1  \n1               0              1  \n2               0              1  \n3               0              1  \n4               0              1  \n...           ...            ...  \n517732          0              1  \n517733          0              1  \n517734          0              1  \n517735          0              1  \n517736          1              1  \n\n[517737 rows x 6 columns]",
      "text/html": "<div>\n<style scoped>\n    .dataframe tbody tr th:only-of-type {\n        vertical-align: middle;\n    }\n\n    .dataframe tbody tr th {\n        vertical-align: top;\n    }\n\n    .dataframe thead th {\n        text-align: right;\n    }\n</style>\n<table border=\"1\" class=\"dataframe\">\n  <thead>\n    <tr style=\"text-align: right;\">\n      <th></th>\n      <th>BeneID</th>\n      <th>Provider</th>\n      <th>InscClaimAmtReimbursed</th>\n      <th>DeductibleAmtPaid</th>\n      <th>ClaimTime</th>\n      <th>AdmissionTime</th>\n    </tr>\n  </thead>\n  <tbody>\n    <tr>\n      <th>0</th>\n      <td>BENE11002</td>\n      <td>PRV56011</td>\n      <td>30</td>\n      <td>0</td>\n      <td>0</td>\n      <td>1</td>\n    </tr>\n    <tr>\n      <th>1</th>\n      <td>BENE11003</td>\n      <td>PRV57610</td>\n      <td>80</td>\n      <td>0</td>\n      <td>0</td>\n      <td>1</td>\n    </tr>\n    <tr>\n      <th>2</th>\n      <td>BENE11003</td>\n      <td>PRV57595</td>\n      <td>10</td>\n      <td>0</td>\n      <td>0</td>\n      <td>1</td>\n    </tr>\n    <tr>\n      <th>3</th>\n      <td>BENE11004</td>\n      <td>PRV56011</td>\n      <td>40</td>\n      <td>0</td>\n      <td>0</td>\n      <td>1</td>\n    </tr>\n    <tr>\n      <th>4</th>\n      <td>BENE11004</td>\n      <td>PRV56011</td>\n      <td>200</td>\n      <td>0</td>\n      <td>0</td>\n      <td>1</td>\n    </tr>\n    <tr>\n      <th>...</th>\n      <td>...</td>\n      <td>...</td>\n      <td>...</td>\n      <td>...</td>\n      <td>...</td>\n      <td>...</td>\n    </tr>\n    <tr>\n      <th>517732</th>\n      <td>BENE159198</td>\n      <td>PRV53699</td>\n      <td>800</td>\n      <td>0</td>\n      <td>0</td>\n      <td>1</td>\n    </tr>\n    <tr>\n      <th>517733</th>\n      <td>BENE159198</td>\n      <td>PRV53702</td>\n      <td>400</td>\n      <td>0</td>\n      <td>0</td>\n      <td>1</td>\n    </tr>\n    <tr>\n      <th>517734</th>\n      <td>BENE159198</td>\n      <td>PRV53676</td>\n      <td>60</td>\n      <td>0</td>\n      <td>0</td>\n      <td>1</td>\n    </tr>\n    <tr>\n      <th>517735</th>\n      <td>BENE159198</td>\n      <td>PRV53689</td>\n      <td>70</td>\n      <td>0</td>\n      <td>0</td>\n      <td>1</td>\n    </tr>\n    <tr>\n      <th>517736</th>\n      <td>BENE159198</td>\n      <td>PRV53689</td>\n      <td>80</td>\n      <td>0</td>\n      <td>1</td>\n      <td>1</td>\n    </tr>\n  </tbody>\n</table>\n<p>517737 rows × 6 columns</p>\n</div>"
     },
     "execution_count": 431,
     "metadata": {},
     "output_type": "execute_result"
    }
   ],
   "source": [
    "df_train_outpatient"
   ],
   "metadata": {
    "collapsed": false,
    "ExecuteTime": {
     "end_time": "2023-12-03T21:05:38.558886Z",
     "start_time": "2023-12-03T21:05:38.548219Z"
    }
   },
   "id": "bfdd1da6bd20e0e1"
  },
  {
   "cell_type": "markdown",
   "source": [
    "### Testing Data"
   ],
   "metadata": {
    "collapsed": false
   },
   "id": "3313a31b6b5c5001"
  },
  {
   "cell_type": "markdown",
   "source": [
    "#### Beneficiary Data"
   ],
   "metadata": {
    "collapsed": false
   },
   "id": "15ca732a4c7ca798"
  },
  {
   "cell_type": "code",
   "execution_count": 432,
   "outputs": [],
   "source": [
    "df_test_beneficiary = df_test_beneficiary_1.copy()\n",
    "\n",
    "df_test_beneficiary[\"DOB\"] = pd.to_datetime(df_test_beneficiary[\"DOB\"])\n",
    "\n",
    "df_test_beneficiary[\"DOD\"] = pd.to_datetime(df_test_beneficiary[\"DOD\"])\n",
    "\n",
    "df_test_beneficiary[\"DOD\"] = df_test_beneficiary[\"DOD\"].fillna(pd.Timestamp(date.today().year,date.today().month,date.today().day,0,0,0,0))\n",
    "\n",
    "date_diff = (df_test_beneficiary[\"DOD\"] - df_test_beneficiary[\"DOB\"])\n",
    "\n",
    "ben_test[\"Alive\"] = ben_test.apply(lambda x: alive_or_dead(x),axis=1)\n",
    "df_test_beneficiary[\"Alive\"] = ben_test[\"Alive\"].copy()\n",
    "df_test_beneficiary.drop([\"DOB\",\"DOD\",\"State\",\"County\"],axis=1,inplace=True)\n",
    "df_test_beneficiary[\"Age\"] = date_diff.apply(lambda x: calculate_age(x))\n",
    "\n",
    "df_test_beneficiary[\"Gender\"] = df_test_beneficiary[\"Gender\"].map({1:1,2:0})\n",
    "df_test_beneficiary[\"Race\"] = df_test_beneficiary[\"Race\"].map({1:0,2:1,3:2,5:3})\n",
    "\n",
    "df_test_beneficiary[\"ChronicCond_Alzheimer\"] = df_test_beneficiary[\"ChronicCond_Alzheimer\"].map({1:1,2:0})\n",
    "df_test_beneficiary[\"ChronicCond_Heartfailure\"] = df_test_beneficiary[\"ChronicCond_Heartfailure\"].map({1:1,2:0})\n",
    "df_test_beneficiary[\"ChronicCond_KidneyDisease\"] = df_test_beneficiary[\"ChronicCond_KidneyDisease\"].map({1:1,2:0})\n",
    "df_test_beneficiary[\"ChronicCond_Cancer\"] = df_test_beneficiary[\"ChronicCond_Cancer\"].map({1:1,2:0})\n",
    "df_test_beneficiary[\"ChronicCond_ObstrPulmonary\"] = df_test_beneficiary[\"ChronicCond_ObstrPulmonary\"].map({1:1,2:0})\n",
    "df_test_beneficiary[\"ChronicCond_Depression\"] = df_test_beneficiary[\"ChronicCond_Depression\"].map({1:1,2:0})\n",
    "df_test_beneficiary[\"ChronicCond_Diabetes\"] = df_test_beneficiary[\"ChronicCond_Diabetes\"].map({1:1,2:0})\n",
    "df_test_beneficiary[\"ChronicCond_IschemicHeart\"] = df_test_beneficiary[\"ChronicCond_IschemicHeart\"].map({1:1,2:0})\n",
    "df_test_beneficiary[\"ChronicCond_Osteoporasis\"] = df_test_beneficiary[\"ChronicCond_Osteoporasis\"].map({1:1,2:0})\n",
    "df_test_beneficiary[\"ChronicCond_rheumatoidarthritis\"] = df_test_beneficiary[\"ChronicCond_rheumatoidarthritis\"].map({1:1,2:0})\n",
    "df_test_beneficiary[\"ChronicCond_stroke\"] = df_test_beneficiary[\"ChronicCond_stroke\"].map({1:1,2:0})\n",
    "\n",
    "df_test_beneficiary[\"RenalDiseaseIndicator\"] = df_test_beneficiary[\"RenalDiseaseIndicator\"].map({\"0\":0,\"Y\":1})"
   ],
   "metadata": {
    "collapsed": false,
    "ExecuteTime": {
     "end_time": "2023-12-03T21:05:39.857889Z",
     "start_time": "2023-12-03T21:05:39.592757Z"
    }
   },
   "id": "5010ece0c55ce53f"
  },
  {
   "cell_type": "code",
   "execution_count": 433,
   "outputs": [
    {
     "data": {
      "text/plain": "           BeneID  Gender  Race  RenalDiseaseIndicator  NoOfMonths_PartACov  \\\n0       BENE11001       1     0                      0                   12   \n1       BENE11007       1     1                      0                   12   \n2       BENE11010       0     0                      0                   12   \n3       BENE11011       0     1                      0                   12   \n4       BENE11014       0     0                      1                   12   \n...           ...     ...   ...                    ...                  ...   \n63963  BENE159187       1     0                      0                   12   \n63964  BENE159193       0     0                      0                   12   \n63965  BENE159194       1     0                      0                   12   \n63966  BENE159196       0     0                      0                   12   \n63967  BENE159197       1     0                      0                   12   \n\n       NoOfMonths_PartBCov  ChronicCond_Alzheimer  ChronicCond_Heartfailure  \\\n0                       12                      1                         0   \n1                       12                      1                         1   \n2                       12                      0                         1   \n3                       12                      0                         1   \n4                       12                      0                         1   \n...                    ...                    ...                       ...   \n63963                   12                      0                         1   \n63964                   12                      0                         0   \n63965                   12                      1                         0   \n63966                   12                      0                         1   \n63967                   12                      1                         1   \n\n       ChronicCond_KidneyDisease  ChronicCond_Cancer  ...  \\\n0                              1                   0  ...   \n1                              0                   0  ...   \n2                              0                   1  ...   \n3                              1                   0  ...   \n4                              1                   0  ...   \n...                          ...                 ...  ...   \n63963                          0                   0  ...   \n63964                          0                   0  ...   \n63965                          0                   0  ...   \n63966                          1                   1  ...   \n63967                          0                   0  ...   \n\n       ChronicCond_IschemicHeart  ChronicCond_Osteoporasis  \\\n0                              1                         0   \n1                              0                         1   \n2                              1                         1   \n3                              0                         0   \n4                              1                         0   \n...                          ...                       ...   \n63963                          1                         0   \n63964                          0                         0   \n63965                          0                         0   \n63966                          1                         0   \n63967                          1                         0   \n\n       ChronicCond_rheumatoidarthritis  ChronicCond_stroke  \\\n0                                    1                   1   \n1                                    1                   0   \n2                                    0                   0   \n3                                    1                   1   \n4                                    0                   0   \n...                                ...                 ...   \n63963                                0                   0   \n63964                                0                   0   \n63965                                0                   0   \n63966                                0                   0   \n63967                                0                   0   \n\n       IPAnnualReimbursementAmt  IPAnnualDeductibleAmt  \\\n0                         36000                   3204   \n1                             0                      0   \n2                             0                      0   \n3                          5000                   1068   \n4                         21260                   2136   \n...                         ...                    ...   \n63963                         0                      0   \n63964                         0                      0   \n63965                         0                      0   \n63966                      2000                   1068   \n63967                         0                      0   \n\n       OPAnnualReimbursementAmt  OPAnnualDeductibleAmt  Alive  Age  \n0                            60                     70      1   80  \n1                          1490                    160      0   69  \n2                          1170                    660      1   87  \n3                           250                    320      1  109  \n4                           120                    100      1   85  \n...                         ...                    ...    ...  ...  \n63963                      2650                    450      1   64  \n63964                       110                     50      1   87  \n63965                       430                    460      1   84  \n63966                      3240                   1390      1  107  \n63967                      2650                     10      1   93  \n\n[63968 rows x 23 columns]",
      "text/html": "<div>\n<style scoped>\n    .dataframe tbody tr th:only-of-type {\n        vertical-align: middle;\n    }\n\n    .dataframe tbody tr th {\n        vertical-align: top;\n    }\n\n    .dataframe thead th {\n        text-align: right;\n    }\n</style>\n<table border=\"1\" class=\"dataframe\">\n  <thead>\n    <tr style=\"text-align: right;\">\n      <th></th>\n      <th>BeneID</th>\n      <th>Gender</th>\n      <th>Race</th>\n      <th>RenalDiseaseIndicator</th>\n      <th>NoOfMonths_PartACov</th>\n      <th>NoOfMonths_PartBCov</th>\n      <th>ChronicCond_Alzheimer</th>\n      <th>ChronicCond_Heartfailure</th>\n      <th>ChronicCond_KidneyDisease</th>\n      <th>ChronicCond_Cancer</th>\n      <th>...</th>\n      <th>ChronicCond_IschemicHeart</th>\n      <th>ChronicCond_Osteoporasis</th>\n      <th>ChronicCond_rheumatoidarthritis</th>\n      <th>ChronicCond_stroke</th>\n      <th>IPAnnualReimbursementAmt</th>\n      <th>IPAnnualDeductibleAmt</th>\n      <th>OPAnnualReimbursementAmt</th>\n      <th>OPAnnualDeductibleAmt</th>\n      <th>Alive</th>\n      <th>Age</th>\n    </tr>\n  </thead>\n  <tbody>\n    <tr>\n      <th>0</th>\n      <td>BENE11001</td>\n      <td>1</td>\n      <td>0</td>\n      <td>0</td>\n      <td>12</td>\n      <td>12</td>\n      <td>1</td>\n      <td>0</td>\n      <td>1</td>\n      <td>0</td>\n      <td>...</td>\n      <td>1</td>\n      <td>0</td>\n      <td>1</td>\n      <td>1</td>\n      <td>36000</td>\n      <td>3204</td>\n      <td>60</td>\n      <td>70</td>\n      <td>1</td>\n      <td>80</td>\n    </tr>\n    <tr>\n      <th>1</th>\n      <td>BENE11007</td>\n      <td>1</td>\n      <td>1</td>\n      <td>0</td>\n      <td>12</td>\n      <td>12</td>\n      <td>1</td>\n      <td>1</td>\n      <td>0</td>\n      <td>0</td>\n      <td>...</td>\n      <td>0</td>\n      <td>1</td>\n      <td>1</td>\n      <td>0</td>\n      <td>0</td>\n      <td>0</td>\n      <td>1490</td>\n      <td>160</td>\n      <td>0</td>\n      <td>69</td>\n    </tr>\n    <tr>\n      <th>2</th>\n      <td>BENE11010</td>\n      <td>0</td>\n      <td>0</td>\n      <td>0</td>\n      <td>12</td>\n      <td>12</td>\n      <td>0</td>\n      <td>1</td>\n      <td>0</td>\n      <td>1</td>\n      <td>...</td>\n      <td>1</td>\n      <td>1</td>\n      <td>0</td>\n      <td>0</td>\n      <td>0</td>\n      <td>0</td>\n      <td>1170</td>\n      <td>660</td>\n      <td>1</td>\n      <td>87</td>\n    </tr>\n    <tr>\n      <th>3</th>\n      <td>BENE11011</td>\n      <td>0</td>\n      <td>1</td>\n      <td>0</td>\n      <td>12</td>\n      <td>12</td>\n      <td>0</td>\n      <td>1</td>\n      <td>1</td>\n      <td>0</td>\n      <td>...</td>\n      <td>0</td>\n      <td>0</td>\n      <td>1</td>\n      <td>1</td>\n      <td>5000</td>\n      <td>1068</td>\n      <td>250</td>\n      <td>320</td>\n      <td>1</td>\n      <td>109</td>\n    </tr>\n    <tr>\n      <th>4</th>\n      <td>BENE11014</td>\n      <td>0</td>\n      <td>0</td>\n      <td>1</td>\n      <td>12</td>\n      <td>12</td>\n      <td>0</td>\n      <td>1</td>\n      <td>1</td>\n      <td>0</td>\n      <td>...</td>\n      <td>1</td>\n      <td>0</td>\n      <td>0</td>\n      <td>0</td>\n      <td>21260</td>\n      <td>2136</td>\n      <td>120</td>\n      <td>100</td>\n      <td>1</td>\n      <td>85</td>\n    </tr>\n    <tr>\n      <th>...</th>\n      <td>...</td>\n      <td>...</td>\n      <td>...</td>\n      <td>...</td>\n      <td>...</td>\n      <td>...</td>\n      <td>...</td>\n      <td>...</td>\n      <td>...</td>\n      <td>...</td>\n      <td>...</td>\n      <td>...</td>\n      <td>...</td>\n      <td>...</td>\n      <td>...</td>\n      <td>...</td>\n      <td>...</td>\n      <td>...</td>\n      <td>...</td>\n      <td>...</td>\n      <td>...</td>\n    </tr>\n    <tr>\n      <th>63963</th>\n      <td>BENE159187</td>\n      <td>1</td>\n      <td>0</td>\n      <td>0</td>\n      <td>12</td>\n      <td>12</td>\n      <td>0</td>\n      <td>1</td>\n      <td>0</td>\n      <td>0</td>\n      <td>...</td>\n      <td>1</td>\n      <td>0</td>\n      <td>0</td>\n      <td>0</td>\n      <td>0</td>\n      <td>0</td>\n      <td>2650</td>\n      <td>450</td>\n      <td>1</td>\n      <td>64</td>\n    </tr>\n    <tr>\n      <th>63964</th>\n      <td>BENE159193</td>\n      <td>0</td>\n      <td>0</td>\n      <td>0</td>\n      <td>12</td>\n      <td>12</td>\n      <td>0</td>\n      <td>0</td>\n      <td>0</td>\n      <td>0</td>\n      <td>...</td>\n      <td>0</td>\n      <td>0</td>\n      <td>0</td>\n      <td>0</td>\n      <td>0</td>\n      <td>0</td>\n      <td>110</td>\n      <td>50</td>\n      <td>1</td>\n      <td>87</td>\n    </tr>\n    <tr>\n      <th>63965</th>\n      <td>BENE159194</td>\n      <td>1</td>\n      <td>0</td>\n      <td>0</td>\n      <td>12</td>\n      <td>12</td>\n      <td>1</td>\n      <td>0</td>\n      <td>0</td>\n      <td>0</td>\n      <td>...</td>\n      <td>0</td>\n      <td>0</td>\n      <td>0</td>\n      <td>0</td>\n      <td>0</td>\n      <td>0</td>\n      <td>430</td>\n      <td>460</td>\n      <td>1</td>\n      <td>84</td>\n    </tr>\n    <tr>\n      <th>63966</th>\n      <td>BENE159196</td>\n      <td>0</td>\n      <td>0</td>\n      <td>0</td>\n      <td>12</td>\n      <td>12</td>\n      <td>0</td>\n      <td>1</td>\n      <td>1</td>\n      <td>1</td>\n      <td>...</td>\n      <td>1</td>\n      <td>0</td>\n      <td>0</td>\n      <td>0</td>\n      <td>2000</td>\n      <td>1068</td>\n      <td>3240</td>\n      <td>1390</td>\n      <td>1</td>\n      <td>107</td>\n    </tr>\n    <tr>\n      <th>63967</th>\n      <td>BENE159197</td>\n      <td>1</td>\n      <td>0</td>\n      <td>0</td>\n      <td>12</td>\n      <td>12</td>\n      <td>1</td>\n      <td>1</td>\n      <td>0</td>\n      <td>0</td>\n      <td>...</td>\n      <td>1</td>\n      <td>0</td>\n      <td>0</td>\n      <td>0</td>\n      <td>0</td>\n      <td>0</td>\n      <td>2650</td>\n      <td>10</td>\n      <td>1</td>\n      <td>93</td>\n    </tr>\n  </tbody>\n</table>\n<p>63968 rows × 23 columns</p>\n</div>"
     },
     "execution_count": 433,
     "metadata": {},
     "output_type": "execute_result"
    }
   ],
   "source": [
    "df_test_beneficiary"
   ],
   "metadata": {
    "collapsed": false,
    "ExecuteTime": {
     "end_time": "2023-12-03T21:05:40.524771Z",
     "start_time": "2023-12-03T21:05:40.503247Z"
    }
   },
   "id": "28bd7230cc7304b0"
  },
  {
   "cell_type": "markdown",
   "source": [
    "#### Inpatient Data"
   ],
   "metadata": {
    "collapsed": false
   },
   "id": "3a6eae646522b510"
  },
  {
   "cell_type": "code",
   "execution_count": 434,
   "outputs": [],
   "source": [
    "df_test_inpatient = df_test_inpatient_1[[\"BeneID\",\"Provider\",\"ClaimStartDt\",\"ClaimEndDt\",\"InscClaimAmtReimbursed\",\"AdmissionDt\",\"DeductibleAmtPaid\",\"DischargeDt\"]]\n",
    "df_test_inpatient[\"ClaimStartDt\"] = pd.to_datetime(df_test_inpatient[\"ClaimStartDt\"])\n",
    "df_test_inpatient[\"ClaimEndDt\"] = pd.to_datetime(df_test_inpatient[\"ClaimEndDt\"])\n",
    "df_test_inpatient[\"AdmissionDt\"] = pd.to_datetime(df_test_inpatient[\"AdmissionDt\"])\n",
    "df_test_inpatient[\"DischargeDt\"] = pd.to_datetime(df_test_inpatient[\"DischargeDt\"])\n",
    "\n",
    "inp_diff = df_test_inpatient[\"ClaimEndDt\"] - df_test_inpatient[\"ClaimStartDt\"]\n",
    "admin_diff = df_test_inpatient[\"DischargeDt\"] - df_test_inpatient[\"AdmissionDt\"]\n",
    "\n",
    "df_test_inpatient[\"ClaimTime\"] = inp_diff.apply(lambda x: calculate_time_duration(x))\n",
    "df_test_inpatient[\"AdmissionTime\"] = admin_diff.apply(lambda x: calculate_time_duration(x))\n",
    "df_test_inpatient.drop([\"ClaimStartDt\",\"ClaimEndDt\",\"AdmissionDt\",\"DischargeDt\"],axis=1,inplace=True)"
   ],
   "metadata": {
    "collapsed": false,
    "ExecuteTime": {
     "end_time": "2023-12-03T21:05:41.904787Z",
     "start_time": "2023-12-03T21:05:41.884536Z"
    }
   },
   "id": "362f1374d4a30691"
  },
  {
   "cell_type": "code",
   "execution_count": 435,
   "outputs": [
    {
     "data": {
      "text/plain": "          BeneID  Provider  InscClaimAmtReimbursed  DeductibleAmtPaid  \\\n0      BENE11014  PRV57070                    9000             1068.0   \n1      BENE11017  PRV54750                   14000             1068.0   \n2      BENE11026  PRV53758                    2000             1068.0   \n3      BENE11031  PRV55825                   16000             1068.0   \n4      BENE11085  PRV52338                   19000             1068.0   \n...          ...       ...                     ...                ...   \n9546  BENE159139  PRV55021                   23000             1068.0   \n9547  BENE159143  PRV55017                   34000             1068.0   \n9548  BENE159155  PRV53758                    5000             1068.0   \n9549  BENE159181  PRV57195                    3000             1068.0   \n9550  BENE159196  PRV51854                    2000             1068.0   \n\n      ClaimTime  AdmissionTime  \n0             7              7  \n1            14             14  \n2             4              4  \n3            13             13  \n4            11             11  \n...         ...            ...  \n9546          2              2  \n9547         13             13  \n9548         35             35  \n9549          3              3  \n9550          1              1  \n\n[9551 rows x 6 columns]",
      "text/html": "<div>\n<style scoped>\n    .dataframe tbody tr th:only-of-type {\n        vertical-align: middle;\n    }\n\n    .dataframe tbody tr th {\n        vertical-align: top;\n    }\n\n    .dataframe thead th {\n        text-align: right;\n    }\n</style>\n<table border=\"1\" class=\"dataframe\">\n  <thead>\n    <tr style=\"text-align: right;\">\n      <th></th>\n      <th>BeneID</th>\n      <th>Provider</th>\n      <th>InscClaimAmtReimbursed</th>\n      <th>DeductibleAmtPaid</th>\n      <th>ClaimTime</th>\n      <th>AdmissionTime</th>\n    </tr>\n  </thead>\n  <tbody>\n    <tr>\n      <th>0</th>\n      <td>BENE11014</td>\n      <td>PRV57070</td>\n      <td>9000</td>\n      <td>1068.0</td>\n      <td>7</td>\n      <td>7</td>\n    </tr>\n    <tr>\n      <th>1</th>\n      <td>BENE11017</td>\n      <td>PRV54750</td>\n      <td>14000</td>\n      <td>1068.0</td>\n      <td>14</td>\n      <td>14</td>\n    </tr>\n    <tr>\n      <th>2</th>\n      <td>BENE11026</td>\n      <td>PRV53758</td>\n      <td>2000</td>\n      <td>1068.0</td>\n      <td>4</td>\n      <td>4</td>\n    </tr>\n    <tr>\n      <th>3</th>\n      <td>BENE11031</td>\n      <td>PRV55825</td>\n      <td>16000</td>\n      <td>1068.0</td>\n      <td>13</td>\n      <td>13</td>\n    </tr>\n    <tr>\n      <th>4</th>\n      <td>BENE11085</td>\n      <td>PRV52338</td>\n      <td>19000</td>\n      <td>1068.0</td>\n      <td>11</td>\n      <td>11</td>\n    </tr>\n    <tr>\n      <th>...</th>\n      <td>...</td>\n      <td>...</td>\n      <td>...</td>\n      <td>...</td>\n      <td>...</td>\n      <td>...</td>\n    </tr>\n    <tr>\n      <th>9546</th>\n      <td>BENE159139</td>\n      <td>PRV55021</td>\n      <td>23000</td>\n      <td>1068.0</td>\n      <td>2</td>\n      <td>2</td>\n    </tr>\n    <tr>\n      <th>9547</th>\n      <td>BENE159143</td>\n      <td>PRV55017</td>\n      <td>34000</td>\n      <td>1068.0</td>\n      <td>13</td>\n      <td>13</td>\n    </tr>\n    <tr>\n      <th>9548</th>\n      <td>BENE159155</td>\n      <td>PRV53758</td>\n      <td>5000</td>\n      <td>1068.0</td>\n      <td>35</td>\n      <td>35</td>\n    </tr>\n    <tr>\n      <th>9549</th>\n      <td>BENE159181</td>\n      <td>PRV57195</td>\n      <td>3000</td>\n      <td>1068.0</td>\n      <td>3</td>\n      <td>3</td>\n    </tr>\n    <tr>\n      <th>9550</th>\n      <td>BENE159196</td>\n      <td>PRV51854</td>\n      <td>2000</td>\n      <td>1068.0</td>\n      <td>1</td>\n      <td>1</td>\n    </tr>\n  </tbody>\n</table>\n<p>9551 rows × 6 columns</p>\n</div>"
     },
     "execution_count": 435,
     "metadata": {},
     "output_type": "execute_result"
    }
   ],
   "source": [
    "df_test_inpatient"
   ],
   "metadata": {
    "collapsed": false,
    "ExecuteTime": {
     "end_time": "2023-12-03T21:05:42.617863Z",
     "start_time": "2023-12-03T21:05:42.609124Z"
    }
   },
   "id": "ffe17dc88247546f"
  },
  {
   "cell_type": "markdown",
   "source": [
    "#### Outpatient Data"
   ],
   "metadata": {
    "collapsed": false
   },
   "id": "d3e4e59a808129ac"
  },
  {
   "cell_type": "code",
   "execution_count": 436,
   "outputs": [],
   "source": [
    "df_test_outpatient = df_test_outpatient_1[[\"BeneID\",\"Provider\",\"ClaimStartDt\",\"ClaimEndDt\",\"InscClaimAmtReimbursed\",\"DeductibleAmtPaid\"]]\n",
    "df_test_outpatient[\"ClaimStartDt\"] = pd.to_datetime(df_test_outpatient[\"ClaimStartDt\"])\n",
    "df_test_outpatient[\"ClaimEndDt\"] = pd.to_datetime(df_test_outpatient[\"ClaimEndDt\"])\n",
    "\n",
    "inp_diff = df_test_outpatient[\"ClaimEndDt\"] - df_test_outpatient[\"ClaimStartDt\"]\n",
    "\n",
    "df_test_outpatient[\"ClaimTime\"] = inp_diff.apply(lambda x: calculate_time_duration(x))\n",
    "df_test_outpatient[\"AdmissionTime\"] = 1\n",
    "df_test_outpatient.drop([\"ClaimStartDt\",\"ClaimEndDt\"],axis=1,inplace=True)"
   ],
   "metadata": {
    "collapsed": false,
    "ExecuteTime": {
     "end_time": "2023-12-03T21:05:44.111882Z",
     "start_time": "2023-12-03T21:05:43.714287Z"
    }
   },
   "id": "d0517b14aff8a9fa"
  },
  {
   "cell_type": "code",
   "execution_count": 437,
   "outputs": [
    {
     "data": {
      "text/plain": "            BeneID  Provider  InscClaimAmtReimbursed  DeductibleAmtPaid  \\\n0        BENE11001  PRV55962                      30                  0   \n1        BENE11001  PRV56112                      30                  0   \n2        BENE11007  PRV56979                     200                  0   \n3        BENE11007  PRV56573                      10                  0   \n4        BENE11007  PRV56573                      10                  0   \n...            ...       ...                     ...                ...   \n125836  BENE159193  PRV55485                      70                  0   \n125837  BENE159193  PRV55485                      10                  0   \n125838  BENE159193  PRV55485                      30                  0   \n125839  BENE159194  PRV55889                      30                  0   \n125840  BENE159197  PRV52983                    2500                  0   \n\n        ClaimTime  AdmissionTime  \n0               0              1  \n1               0              1  \n2               0              1  \n3               0              1  \n4               0              1  \n...           ...            ...  \n125836          0              1  \n125837          0              1  \n125838          0              1  \n125839          0              1  \n125840          0              1  \n\n[125841 rows x 6 columns]",
      "text/html": "<div>\n<style scoped>\n    .dataframe tbody tr th:only-of-type {\n        vertical-align: middle;\n    }\n\n    .dataframe tbody tr th {\n        vertical-align: top;\n    }\n\n    .dataframe thead th {\n        text-align: right;\n    }\n</style>\n<table border=\"1\" class=\"dataframe\">\n  <thead>\n    <tr style=\"text-align: right;\">\n      <th></th>\n      <th>BeneID</th>\n      <th>Provider</th>\n      <th>InscClaimAmtReimbursed</th>\n      <th>DeductibleAmtPaid</th>\n      <th>ClaimTime</th>\n      <th>AdmissionTime</th>\n    </tr>\n  </thead>\n  <tbody>\n    <tr>\n      <th>0</th>\n      <td>BENE11001</td>\n      <td>PRV55962</td>\n      <td>30</td>\n      <td>0</td>\n      <td>0</td>\n      <td>1</td>\n    </tr>\n    <tr>\n      <th>1</th>\n      <td>BENE11001</td>\n      <td>PRV56112</td>\n      <td>30</td>\n      <td>0</td>\n      <td>0</td>\n      <td>1</td>\n    </tr>\n    <tr>\n      <th>2</th>\n      <td>BENE11007</td>\n      <td>PRV56979</td>\n      <td>200</td>\n      <td>0</td>\n      <td>0</td>\n      <td>1</td>\n    </tr>\n    <tr>\n      <th>3</th>\n      <td>BENE11007</td>\n      <td>PRV56573</td>\n      <td>10</td>\n      <td>0</td>\n      <td>0</td>\n      <td>1</td>\n    </tr>\n    <tr>\n      <th>4</th>\n      <td>BENE11007</td>\n      <td>PRV56573</td>\n      <td>10</td>\n      <td>0</td>\n      <td>0</td>\n      <td>1</td>\n    </tr>\n    <tr>\n      <th>...</th>\n      <td>...</td>\n      <td>...</td>\n      <td>...</td>\n      <td>...</td>\n      <td>...</td>\n      <td>...</td>\n    </tr>\n    <tr>\n      <th>125836</th>\n      <td>BENE159193</td>\n      <td>PRV55485</td>\n      <td>70</td>\n      <td>0</td>\n      <td>0</td>\n      <td>1</td>\n    </tr>\n    <tr>\n      <th>125837</th>\n      <td>BENE159193</td>\n      <td>PRV55485</td>\n      <td>10</td>\n      <td>0</td>\n      <td>0</td>\n      <td>1</td>\n    </tr>\n    <tr>\n      <th>125838</th>\n      <td>BENE159193</td>\n      <td>PRV55485</td>\n      <td>30</td>\n      <td>0</td>\n      <td>0</td>\n      <td>1</td>\n    </tr>\n    <tr>\n      <th>125839</th>\n      <td>BENE159194</td>\n      <td>PRV55889</td>\n      <td>30</td>\n      <td>0</td>\n      <td>0</td>\n      <td>1</td>\n    </tr>\n    <tr>\n      <th>125840</th>\n      <td>BENE159197</td>\n      <td>PRV52983</td>\n      <td>2500</td>\n      <td>0</td>\n      <td>0</td>\n      <td>1</td>\n    </tr>\n  </tbody>\n</table>\n<p>125841 rows × 6 columns</p>\n</div>"
     },
     "execution_count": 437,
     "metadata": {},
     "output_type": "execute_result"
    }
   ],
   "source": [
    "df_test_outpatient"
   ],
   "metadata": {
    "collapsed": false,
    "ExecuteTime": {
     "end_time": "2023-12-03T21:05:44.786031Z",
     "start_time": "2023-12-03T21:05:44.781370Z"
    }
   },
   "id": "2376e80a394144c3"
  },
  {
   "cell_type": "markdown",
   "source": [
    "### Merging Beneficiary Data with Inpatient and Outpatient Data"
   ],
   "metadata": {
    "collapsed": false
   },
   "id": "2312a21ba548a4f8"
  },
  {
   "cell_type": "code",
   "execution_count": 438,
   "outputs": [],
   "source": [
    "df_train_final_inpatient_1 = pd.merge(left=df_train_beneficiary,right=df_train_inpatient,how=\"inner\",on=\"BeneID\")\n",
    "df_train_final_outpatient_1 = pd.merge(left=df_train_beneficiary,right=df_train_outpatient,how=\"inner\",on=\"BeneID\")\n",
    "\n",
    "df_train_final_inpatient = pd.merge(left=df_train,right=df_train_final_inpatient_1,how=\"inner\",on=\"Provider\")\n",
    "df_train_final_outpatient = pd.merge(left=df_train,right=df_train_final_outpatient_1,how=\"inner\",on=\"Provider\")\n",
    "\n",
    "df_train_final_inpatient.drop([\"BeneID\"],axis=1,inplace=True)\n",
    "df_train_final_outpatient.drop([\"BeneID\"],axis=1,inplace=True)\n",
    "\n",
    "df_train_final_inpatient[\"PotentialFraud\"] = df_train_final_inpatient[\"PotentialFraud\"].map({\"No\":0,\"Yes\":1})\n",
    "df_train_final_outpatient[\"PotentialFraud\"] = df_train_final_outpatient[\"PotentialFraud\"].map({\"No\":0,\"Yes\":1})\n",
    "\n",
    "\n",
    "\n",
    "df_test_final_inpatient_1 = pd.merge(left=df_test_beneficiary,right=df_test_inpatient,how=\"inner\",on=\"BeneID\")\n",
    "df_test_final_outpatient_1 = pd.merge(left=df_test_beneficiary,right=df_test_outpatient,how=\"inner\",on=\"BeneID\")\n",
    "\n",
    "df_test_final_inpatient = pd.merge(left=df_test,right=df_test_final_inpatient_1,how=\"inner\",on=\"Provider\")\n",
    "df_test_final_outpatient = pd.merge(left=df_test,right=df_test_final_outpatient_1,how=\"inner\",on=\"Provider\")\n",
    "\n",
    "df_test_final_inpatient.drop([\"BeneID\"],axis=1,inplace=True)\n",
    "df_test_final_outpatient.drop([\"BeneID\"],axis=1,inplace=True)\n",
    "\n",
    "\n",
    "df_final_train = pd.concat([df_train_final_inpatient,df_train_final_outpatient],axis=0,ignore_index=True)\n",
    "df_final_test = pd.concat([df_test_final_inpatient,df_test_final_outpatient],axis=0,ignore_index=True)\n",
    "df_final_train.reset_index(drop=True,inplace=True)\n",
    "df_final_test.reset_index(drop=True,inplace=True)"
   ],
   "metadata": {
    "collapsed": false,
    "ExecuteTime": {
     "end_time": "2023-12-03T21:05:46.573369Z",
     "start_time": "2023-12-03T21:05:45.803421Z"
    }
   },
   "id": "e06ebc1d7cca1fe2"
  },
  {
   "cell_type": "code",
   "execution_count": 439,
   "outputs": [
    {
     "data": {
      "text/plain": "        Provider  PotentialFraud  Gender  Race  RenalDiseaseIndicator  \\\n0       PRV51001               0       1     0                      0   \n1       PRV51001               0       1     0                      0   \n2       PRV51001               0       0     0                      0   \n3       PRV51001               0       0     0                      1   \n4       PRV51001               0       0     0                      1   \n...          ...             ...     ...   ...                    ...   \n558206  PRV57763               0       0     1                      0   \n558207  PRV57763               0       1     1                      0   \n558208  PRV57763               0       0     0                      1   \n558209  PRV57763               0       0     1                      0   \n558210  PRV57763               0       0     1                      0   \n\n        NoOfMonths_PartACov  NoOfMonths_PartBCov  ChronicCond_Alzheimer  \\\n0                        12                   12                      0   \n1                        12                   12                      0   \n2                        12                   12                      1   \n3                        12                   12                      0   \n4                        12                   12                      1   \n...                     ...                  ...                    ...   \n558206                   12                   12                      1   \n558207                   12                   12                      0   \n558208                   12                   12                      0   \n558209                   12                   12                      0   \n558210                   12                   12                      0   \n\n        ChronicCond_Heartfailure  ChronicCond_KidneyDisease  ...  \\\n0                              1                          1  ...   \n1                              0                          1  ...   \n2                              1                          0  ...   \n3                              1                          1  ...   \n4                              1                          1  ...   \n...                          ...                        ...  ...   \n558206                         0                          0  ...   \n558207                         0                          0  ...   \n558208                         0                          1  ...   \n558209                         0                          0  ...   \n558210                         0                          0  ...   \n\n        IPAnnualReimbursementAmt  IPAnnualDeductibleAmt  \\\n0                          36000                   1068   \n1                          95000                   2136   \n2                           3000                   1068   \n3                         143800                   4272   \n4                         111710                   4272   \n...                          ...                    ...   \n558206                         0                      0   \n558207                         0                      0   \n558208                     28150                   2136   \n558209                         0                      0   \n558210                         0                      0   \n\n        OPAnnualReimbursementAmt  OPAnnualDeductibleAmt  Alive  Age  \\\n0                           3520                    140      1   83   \n1                           2270                    900      1   85   \n2                              0                      0      1   89   \n3                            880                     70      1   94   \n4                             80                     70      1  110   \n...                          ...                    ...    ...  ...   \n558206                      1780                    320      1   83   \n558207                       200                    200      1   65   \n558208                      1980                    500      1   60   \n558209                      3700                    240      1   71   \n558210                      3700                    240      1   71   \n\n        InscClaimAmtReimbursed  DeductibleAmtPaid  ClaimTime  AdmissionTime  \n0                        36000             1068.0          4              4  \n1                        12000             1068.0          2              2  \n2                         3000             1068.0          5              5  \n3                        42000             1068.0         14             14  \n4                         4000             1068.0          0              0  \n...                        ...                ...        ...            ...  \n558206                    1100               40.0          9              1  \n558207                     200                0.0          0              1  \n558208                      80                0.0          0              1  \n558209                    3300                0.0          0              1  \n558210                      40                0.0          0              1  \n\n[558211 rows x 28 columns]",
      "text/html": "<div>\n<style scoped>\n    .dataframe tbody tr th:only-of-type {\n        vertical-align: middle;\n    }\n\n    .dataframe tbody tr th {\n        vertical-align: top;\n    }\n\n    .dataframe thead th {\n        text-align: right;\n    }\n</style>\n<table border=\"1\" class=\"dataframe\">\n  <thead>\n    <tr style=\"text-align: right;\">\n      <th></th>\n      <th>Provider</th>\n      <th>PotentialFraud</th>\n      <th>Gender</th>\n      <th>Race</th>\n      <th>RenalDiseaseIndicator</th>\n      <th>NoOfMonths_PartACov</th>\n      <th>NoOfMonths_PartBCov</th>\n      <th>ChronicCond_Alzheimer</th>\n      <th>ChronicCond_Heartfailure</th>\n      <th>ChronicCond_KidneyDisease</th>\n      <th>...</th>\n      <th>IPAnnualReimbursementAmt</th>\n      <th>IPAnnualDeductibleAmt</th>\n      <th>OPAnnualReimbursementAmt</th>\n      <th>OPAnnualDeductibleAmt</th>\n      <th>Alive</th>\n      <th>Age</th>\n      <th>InscClaimAmtReimbursed</th>\n      <th>DeductibleAmtPaid</th>\n      <th>ClaimTime</th>\n      <th>AdmissionTime</th>\n    </tr>\n  </thead>\n  <tbody>\n    <tr>\n      <th>0</th>\n      <td>PRV51001</td>\n      <td>0</td>\n      <td>1</td>\n      <td>0</td>\n      <td>0</td>\n      <td>12</td>\n      <td>12</td>\n      <td>0</td>\n      <td>1</td>\n      <td>1</td>\n      <td>...</td>\n      <td>36000</td>\n      <td>1068</td>\n      <td>3520</td>\n      <td>140</td>\n      <td>1</td>\n      <td>83</td>\n      <td>36000</td>\n      <td>1068.0</td>\n      <td>4</td>\n      <td>4</td>\n    </tr>\n    <tr>\n      <th>1</th>\n      <td>PRV51001</td>\n      <td>0</td>\n      <td>1</td>\n      <td>0</td>\n      <td>0</td>\n      <td>12</td>\n      <td>12</td>\n      <td>0</td>\n      <td>0</td>\n      <td>1</td>\n      <td>...</td>\n      <td>95000</td>\n      <td>2136</td>\n      <td>2270</td>\n      <td>900</td>\n      <td>1</td>\n      <td>85</td>\n      <td>12000</td>\n      <td>1068.0</td>\n      <td>2</td>\n      <td>2</td>\n    </tr>\n    <tr>\n      <th>2</th>\n      <td>PRV51001</td>\n      <td>0</td>\n      <td>0</td>\n      <td>0</td>\n      <td>0</td>\n      <td>12</td>\n      <td>12</td>\n      <td>1</td>\n      <td>1</td>\n      <td>0</td>\n      <td>...</td>\n      <td>3000</td>\n      <td>1068</td>\n      <td>0</td>\n      <td>0</td>\n      <td>1</td>\n      <td>89</td>\n      <td>3000</td>\n      <td>1068.0</td>\n      <td>5</td>\n      <td>5</td>\n    </tr>\n    <tr>\n      <th>3</th>\n      <td>PRV51001</td>\n      <td>0</td>\n      <td>0</td>\n      <td>0</td>\n      <td>1</td>\n      <td>12</td>\n      <td>12</td>\n      <td>0</td>\n      <td>1</td>\n      <td>1</td>\n      <td>...</td>\n      <td>143800</td>\n      <td>4272</td>\n      <td>880</td>\n      <td>70</td>\n      <td>1</td>\n      <td>94</td>\n      <td>42000</td>\n      <td>1068.0</td>\n      <td>14</td>\n      <td>14</td>\n    </tr>\n    <tr>\n      <th>4</th>\n      <td>PRV51001</td>\n      <td>0</td>\n      <td>0</td>\n      <td>0</td>\n      <td>1</td>\n      <td>12</td>\n      <td>12</td>\n      <td>1</td>\n      <td>1</td>\n      <td>1</td>\n      <td>...</td>\n      <td>111710</td>\n      <td>4272</td>\n      <td>80</td>\n      <td>70</td>\n      <td>1</td>\n      <td>110</td>\n      <td>4000</td>\n      <td>1068.0</td>\n      <td>0</td>\n      <td>0</td>\n    </tr>\n    <tr>\n      <th>...</th>\n      <td>...</td>\n      <td>...</td>\n      <td>...</td>\n      <td>...</td>\n      <td>...</td>\n      <td>...</td>\n      <td>...</td>\n      <td>...</td>\n      <td>...</td>\n      <td>...</td>\n      <td>...</td>\n      <td>...</td>\n      <td>...</td>\n      <td>...</td>\n      <td>...</td>\n      <td>...</td>\n      <td>...</td>\n      <td>...</td>\n      <td>...</td>\n      <td>...</td>\n      <td>...</td>\n    </tr>\n    <tr>\n      <th>558206</th>\n      <td>PRV57763</td>\n      <td>0</td>\n      <td>0</td>\n      <td>1</td>\n      <td>0</td>\n      <td>12</td>\n      <td>12</td>\n      <td>1</td>\n      <td>0</td>\n      <td>0</td>\n      <td>...</td>\n      <td>0</td>\n      <td>0</td>\n      <td>1780</td>\n      <td>320</td>\n      <td>1</td>\n      <td>83</td>\n      <td>1100</td>\n      <td>40.0</td>\n      <td>9</td>\n      <td>1</td>\n    </tr>\n    <tr>\n      <th>558207</th>\n      <td>PRV57763</td>\n      <td>0</td>\n      <td>1</td>\n      <td>1</td>\n      <td>0</td>\n      <td>12</td>\n      <td>12</td>\n      <td>0</td>\n      <td>0</td>\n      <td>0</td>\n      <td>...</td>\n      <td>0</td>\n      <td>0</td>\n      <td>200</td>\n      <td>200</td>\n      <td>1</td>\n      <td>65</td>\n      <td>200</td>\n      <td>0.0</td>\n      <td>0</td>\n      <td>1</td>\n    </tr>\n    <tr>\n      <th>558208</th>\n      <td>PRV57763</td>\n      <td>0</td>\n      <td>0</td>\n      <td>0</td>\n      <td>1</td>\n      <td>12</td>\n      <td>12</td>\n      <td>0</td>\n      <td>0</td>\n      <td>1</td>\n      <td>...</td>\n      <td>28150</td>\n      <td>2136</td>\n      <td>1980</td>\n      <td>500</td>\n      <td>1</td>\n      <td>60</td>\n      <td>80</td>\n      <td>0.0</td>\n      <td>0</td>\n      <td>1</td>\n    </tr>\n    <tr>\n      <th>558209</th>\n      <td>PRV57763</td>\n      <td>0</td>\n      <td>0</td>\n      <td>1</td>\n      <td>0</td>\n      <td>12</td>\n      <td>12</td>\n      <td>0</td>\n      <td>0</td>\n      <td>0</td>\n      <td>...</td>\n      <td>0</td>\n      <td>0</td>\n      <td>3700</td>\n      <td>240</td>\n      <td>1</td>\n      <td>71</td>\n      <td>3300</td>\n      <td>0.0</td>\n      <td>0</td>\n      <td>1</td>\n    </tr>\n    <tr>\n      <th>558210</th>\n      <td>PRV57763</td>\n      <td>0</td>\n      <td>0</td>\n      <td>1</td>\n      <td>0</td>\n      <td>12</td>\n      <td>12</td>\n      <td>0</td>\n      <td>0</td>\n      <td>0</td>\n      <td>...</td>\n      <td>0</td>\n      <td>0</td>\n      <td>3700</td>\n      <td>240</td>\n      <td>1</td>\n      <td>71</td>\n      <td>40</td>\n      <td>0.0</td>\n      <td>0</td>\n      <td>1</td>\n    </tr>\n  </tbody>\n</table>\n<p>558211 rows × 28 columns</p>\n</div>"
     },
     "execution_count": 439,
     "metadata": {},
     "output_type": "execute_result"
    }
   ],
   "source": [
    "df_final_train"
   ],
   "metadata": {
    "collapsed": false,
    "ExecuteTime": {
     "end_time": "2023-12-03T21:05:47.381113Z",
     "start_time": "2023-12-03T21:05:47.251662Z"
    }
   },
   "id": "62bb886e34acff1d"
  },
  {
   "cell_type": "code",
   "execution_count": 440,
   "outputs": [
    {
     "data": {
      "text/plain": "        Provider  Gender  Race  RenalDiseaseIndicator  NoOfMonths_PartACov  \\\n0       PRV51009       0     0                      1                   12   \n1       PRV51009       0     0                      0                   12   \n2       PRV51010       0     0                      0                   12   \n3       PRV51010       1     0                      0                   12   \n4       PRV51010       1     0                      0                   12   \n...          ...     ...   ...                    ...                  ...   \n135387  PRV57750       0     0                      0                   12   \n135388  PRV57750       0     0                      0                   12   \n135389  PRV57750       0     1                      0                   12   \n135390  PRV57750       0     0                      0                   12   \n135391  PRV57750       0     2                      0                   12   \n\n        NoOfMonths_PartBCov  ChronicCond_Alzheimer  ChronicCond_Heartfailure  \\\n0                        12                      1                         1   \n1                        12                      0                         0   \n2                        12                      0                         1   \n3                        12                      0                         1   \n4                        12                      1                         1   \n...                     ...                    ...                       ...   \n135387                   12                      0                         1   \n135388                   12                      0                         0   \n135389                   12                      0                         0   \n135390                   12                      1                         0   \n135391                   12                      0                         1   \n\n        ChronicCond_KidneyDisease  ChronicCond_Cancer  ...  \\\n0                               1                   0  ...   \n1                               0                   0  ...   \n2                               0                   1  ...   \n3                               0                   0  ...   \n4                               1                   0  ...   \n...                           ...                 ...  ...   \n135387                          0                   0  ...   \n135388                          0                   0  ...   \n135389                          0                   0  ...   \n135390                          1                   0  ...   \n135391                          0                   0  ...   \n\n        IPAnnualReimbursementAmt  IPAnnualDeductibleAmt  \\\n0                          65000                   4272   \n1                          11000                   1068   \n2                           4000                   1068   \n3                           3000                   1068   \n4                          31000                   3204   \n...                          ...                    ...   \n135387                         0                      0   \n135388                         0                      0   \n135389                         0                      0   \n135390                         0                      0   \n135391                         0                      0   \n\n        OPAnnualReimbursementAmt  OPAnnualDeductibleAmt  Alive  Age  \\\n0                           2240                   1690      1   88   \n1                              0                      0      1   84   \n2                             90                    600      1  102   \n3                            520                    620      1   96   \n4                           2170                    570      1   89   \n...                          ...                    ...    ...  ...   \n135387                      2300                     60      1   81   \n135388                      2970                    760      1  111   \n135389                       200                     60      1   63   \n135390                      5640                    830      1   60   \n135391                       290                   1120      1   80   \n\n        InscClaimAmtReimbursed  DeductibleAmtPaid  ClaimTime  AdmissionTime  \n0                         4000                NaN          3              3  \n1                        11000             1068.0          3              3  \n2                         4000             1068.0          0              0  \n3                         3000             1068.0          6              6  \n4                        19000             1068.0          3              3  \n...                        ...                ...        ...            ...  \n135387                    1300                0.0          1              1  \n135388                      10                0.0          0              1  \n135389                     200                0.0          0              1  \n135390                    2300                0.0          2              1  \n135391                     200                0.0          0              1  \n\n[135392 rows x 27 columns]",
      "text/html": "<div>\n<style scoped>\n    .dataframe tbody tr th:only-of-type {\n        vertical-align: middle;\n    }\n\n    .dataframe tbody tr th {\n        vertical-align: top;\n    }\n\n    .dataframe thead th {\n        text-align: right;\n    }\n</style>\n<table border=\"1\" class=\"dataframe\">\n  <thead>\n    <tr style=\"text-align: right;\">\n      <th></th>\n      <th>Provider</th>\n      <th>Gender</th>\n      <th>Race</th>\n      <th>RenalDiseaseIndicator</th>\n      <th>NoOfMonths_PartACov</th>\n      <th>NoOfMonths_PartBCov</th>\n      <th>ChronicCond_Alzheimer</th>\n      <th>ChronicCond_Heartfailure</th>\n      <th>ChronicCond_KidneyDisease</th>\n      <th>ChronicCond_Cancer</th>\n      <th>...</th>\n      <th>IPAnnualReimbursementAmt</th>\n      <th>IPAnnualDeductibleAmt</th>\n      <th>OPAnnualReimbursementAmt</th>\n      <th>OPAnnualDeductibleAmt</th>\n      <th>Alive</th>\n      <th>Age</th>\n      <th>InscClaimAmtReimbursed</th>\n      <th>DeductibleAmtPaid</th>\n      <th>ClaimTime</th>\n      <th>AdmissionTime</th>\n    </tr>\n  </thead>\n  <tbody>\n    <tr>\n      <th>0</th>\n      <td>PRV51009</td>\n      <td>0</td>\n      <td>0</td>\n      <td>1</td>\n      <td>12</td>\n      <td>12</td>\n      <td>1</td>\n      <td>1</td>\n      <td>1</td>\n      <td>0</td>\n      <td>...</td>\n      <td>65000</td>\n      <td>4272</td>\n      <td>2240</td>\n      <td>1690</td>\n      <td>1</td>\n      <td>88</td>\n      <td>4000</td>\n      <td>NaN</td>\n      <td>3</td>\n      <td>3</td>\n    </tr>\n    <tr>\n      <th>1</th>\n      <td>PRV51009</td>\n      <td>0</td>\n      <td>0</td>\n      <td>0</td>\n      <td>12</td>\n      <td>12</td>\n      <td>0</td>\n      <td>0</td>\n      <td>0</td>\n      <td>0</td>\n      <td>...</td>\n      <td>11000</td>\n      <td>1068</td>\n      <td>0</td>\n      <td>0</td>\n      <td>1</td>\n      <td>84</td>\n      <td>11000</td>\n      <td>1068.0</td>\n      <td>3</td>\n      <td>3</td>\n    </tr>\n    <tr>\n      <th>2</th>\n      <td>PRV51010</td>\n      <td>0</td>\n      <td>0</td>\n      <td>0</td>\n      <td>12</td>\n      <td>12</td>\n      <td>0</td>\n      <td>1</td>\n      <td>0</td>\n      <td>1</td>\n      <td>...</td>\n      <td>4000</td>\n      <td>1068</td>\n      <td>90</td>\n      <td>600</td>\n      <td>1</td>\n      <td>102</td>\n      <td>4000</td>\n      <td>1068.0</td>\n      <td>0</td>\n      <td>0</td>\n    </tr>\n    <tr>\n      <th>3</th>\n      <td>PRV51010</td>\n      <td>1</td>\n      <td>0</td>\n      <td>0</td>\n      <td>12</td>\n      <td>12</td>\n      <td>0</td>\n      <td>1</td>\n      <td>0</td>\n      <td>0</td>\n      <td>...</td>\n      <td>3000</td>\n      <td>1068</td>\n      <td>520</td>\n      <td>620</td>\n      <td>1</td>\n      <td>96</td>\n      <td>3000</td>\n      <td>1068.0</td>\n      <td>6</td>\n      <td>6</td>\n    </tr>\n    <tr>\n      <th>4</th>\n      <td>PRV51010</td>\n      <td>1</td>\n      <td>0</td>\n      <td>0</td>\n      <td>12</td>\n      <td>12</td>\n      <td>1</td>\n      <td>1</td>\n      <td>1</td>\n      <td>0</td>\n      <td>...</td>\n      <td>31000</td>\n      <td>3204</td>\n      <td>2170</td>\n      <td>570</td>\n      <td>1</td>\n      <td>89</td>\n      <td>19000</td>\n      <td>1068.0</td>\n      <td>3</td>\n      <td>3</td>\n    </tr>\n    <tr>\n      <th>...</th>\n      <td>...</td>\n      <td>...</td>\n      <td>...</td>\n      <td>...</td>\n      <td>...</td>\n      <td>...</td>\n      <td>...</td>\n      <td>...</td>\n      <td>...</td>\n      <td>...</td>\n      <td>...</td>\n      <td>...</td>\n      <td>...</td>\n      <td>...</td>\n      <td>...</td>\n      <td>...</td>\n      <td>...</td>\n      <td>...</td>\n      <td>...</td>\n      <td>...</td>\n      <td>...</td>\n    </tr>\n    <tr>\n      <th>135387</th>\n      <td>PRV57750</td>\n      <td>0</td>\n      <td>0</td>\n      <td>0</td>\n      <td>12</td>\n      <td>12</td>\n      <td>0</td>\n      <td>1</td>\n      <td>0</td>\n      <td>0</td>\n      <td>...</td>\n      <td>0</td>\n      <td>0</td>\n      <td>2300</td>\n      <td>60</td>\n      <td>1</td>\n      <td>81</td>\n      <td>1300</td>\n      <td>0.0</td>\n      <td>1</td>\n      <td>1</td>\n    </tr>\n    <tr>\n      <th>135388</th>\n      <td>PRV57750</td>\n      <td>0</td>\n      <td>0</td>\n      <td>0</td>\n      <td>12</td>\n      <td>12</td>\n      <td>0</td>\n      <td>0</td>\n      <td>0</td>\n      <td>0</td>\n      <td>...</td>\n      <td>0</td>\n      <td>0</td>\n      <td>2970</td>\n      <td>760</td>\n      <td>1</td>\n      <td>111</td>\n      <td>10</td>\n      <td>0.0</td>\n      <td>0</td>\n      <td>1</td>\n    </tr>\n    <tr>\n      <th>135389</th>\n      <td>PRV57750</td>\n      <td>0</td>\n      <td>1</td>\n      <td>0</td>\n      <td>12</td>\n      <td>12</td>\n      <td>0</td>\n      <td>0</td>\n      <td>0</td>\n      <td>0</td>\n      <td>...</td>\n      <td>0</td>\n      <td>0</td>\n      <td>200</td>\n      <td>60</td>\n      <td>1</td>\n      <td>63</td>\n      <td>200</td>\n      <td>0.0</td>\n      <td>0</td>\n      <td>1</td>\n    </tr>\n    <tr>\n      <th>135390</th>\n      <td>PRV57750</td>\n      <td>0</td>\n      <td>0</td>\n      <td>0</td>\n      <td>12</td>\n      <td>12</td>\n      <td>1</td>\n      <td>0</td>\n      <td>1</td>\n      <td>0</td>\n      <td>...</td>\n      <td>0</td>\n      <td>0</td>\n      <td>5640</td>\n      <td>830</td>\n      <td>1</td>\n      <td>60</td>\n      <td>2300</td>\n      <td>0.0</td>\n      <td>2</td>\n      <td>1</td>\n    </tr>\n    <tr>\n      <th>135391</th>\n      <td>PRV57750</td>\n      <td>0</td>\n      <td>2</td>\n      <td>0</td>\n      <td>12</td>\n      <td>12</td>\n      <td>0</td>\n      <td>1</td>\n      <td>0</td>\n      <td>0</td>\n      <td>...</td>\n      <td>0</td>\n      <td>0</td>\n      <td>290</td>\n      <td>1120</td>\n      <td>1</td>\n      <td>80</td>\n      <td>200</td>\n      <td>0.0</td>\n      <td>0</td>\n      <td>1</td>\n    </tr>\n  </tbody>\n</table>\n<p>135392 rows × 27 columns</p>\n</div>"
     },
     "execution_count": 440,
     "metadata": {},
     "output_type": "execute_result"
    }
   ],
   "source": [
    "df_final_test"
   ],
   "metadata": {
    "collapsed": false,
    "ExecuteTime": {
     "end_time": "2023-12-03T21:05:48.793028Z",
     "start_time": "2023-12-03T21:05:48.744707Z"
    }
   },
   "id": "641ac0b40c25fd02"
  },
  {
   "cell_type": "code",
   "execution_count": null,
   "outputs": [],
   "source": [],
   "metadata": {
    "collapsed": false
   },
   "id": "48973e62c066c772"
  }
 ],
 "metadata": {
  "kernelspec": {
   "display_name": "Python 3",
   "language": "python",
   "name": "python3"
  },
  "language_info": {
   "codemirror_mode": {
    "name": "ipython",
    "version": 2
   },
   "file_extension": ".py",
   "mimetype": "text/x-python",
   "name": "python",
   "nbconvert_exporter": "python",
   "pygments_lexer": "ipython2",
   "version": "2.7.6"
  }
 },
 "nbformat": 4,
 "nbformat_minor": 5
}
