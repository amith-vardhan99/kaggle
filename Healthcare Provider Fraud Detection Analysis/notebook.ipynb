{
 "cells": [
  {
   "cell_type": "code",
   "execution_count": 306,
   "id": "initial_id",
   "metadata": {
    "collapsed": true,
    "ExecuteTime": {
     "end_time": "2023-12-03T01:35:33.159672Z",
     "start_time": "2023-12-03T01:35:33.154223Z"
    }
   },
   "outputs": [],
   "source": [
    "import numpy as np\n",
    "import pandas as pd\n",
    "import matplotlib.pyplot as plt\n",
    "import seaborn as sns\n",
    "from datetime import *"
   ]
  },
  {
   "cell_type": "code",
   "execution_count": 319,
   "outputs": [],
   "source": [
    "df_train = pd.read_csv(\"Train-1542865627584.csv\")\n",
    "df_test = pd.read_csv(\"Test-1542969243754.csv\")\n",
    "\n",
    "df_train_beneficiary = pd.read_csv(\"Train_Beneficiarydata-1542865627584.csv\")\n",
    "df_test_beneficiary = pd.read_csv(\"Test_Beneficiarydata-1542969243754.csv\")\n",
    "\n",
    "df_train_inpatient = pd.read_csv(\"Train_Inpatientdata-1542865627584.csv\")\n",
    "df_test_inpatient = pd.read_csv(\"Test_Inpatientdata-1542969243754.csv\")\n",
    "\n",
    "df_train_outpatient = pd.read_csv(\"Train_Outpatientdata-1542865627584.csv\")\n",
    "df_test_outpatient = pd.read_csv(\"Test_Outpatientdata-1542969243754.csv\")\n",
    "\n",
    "ben_train = df_train_beneficiary.copy()\n",
    "ben_train[\"DOD\"] = ben_train[\"DOD\"].fillna(\"N/A\")\n",
    "ben_test = df_test_beneficiary.copy()\n",
    "ben_test[\"DOD\"] = ben_test[\"DOD\"].fillna(\"N/A\")"
   ],
   "metadata": {
    "collapsed": false,
    "ExecuteTime": {
     "end_time": "2023-12-03T01:43:31.105702Z",
     "start_time": "2023-12-03T01:43:29.216890Z"
    }
   },
   "id": "3dd55de2dc8283c2"
  },
  {
   "cell_type": "code",
   "execution_count": 320,
   "outputs": [
    {
     "data": {
      "text/plain": "            BeneID        DOB        DOD  Gender  Race RenalDiseaseIndicator  \\\n0        BENE11001 1943-01-01 2023-12-02       1     1                     0   \n1        BENE11002 1936-09-01 2023-12-02       2     1                     0   \n2        BENE11003 1936-08-01 2023-12-02       1     1                     0   \n3        BENE11004 1922-07-01 2023-12-02       1     1                     0   \n4        BENE11005 1935-09-01 2023-12-02       1     1                     0   \n...            ...        ...        ...     ...   ...                   ...   \n138551  BENE159194 1939-07-01 2023-12-02       1     1                     0   \n138552  BENE159195 1938-12-01 2023-12-02       2     1                     0   \n138553  BENE159196 1916-06-01 2023-12-02       2     1                     0   \n138554  BENE159197 1930-01-01 2023-12-02       1     1                     0   \n138555  BENE159198 1952-04-01 2023-12-02       2     1                     0   \n\n        State  County  NoOfMonths_PartACov  NoOfMonths_PartBCov  ...  \\\n0          39     230                   12                   12  ...   \n1          39     280                   12                   12  ...   \n2          52     590                   12                   12  ...   \n3          39     270                   12                   12  ...   \n4          24     680                   12                   12  ...   \n...       ...     ...                  ...                  ...  ...   \n138551     39     140                   12                   12  ...   \n138552     49     530                   12                   12  ...   \n138553      6     150                   12                   12  ...   \n138554     16     560                   12                   12  ...   \n138555     21      20                   12                   12  ...   \n\n        ChronicCond_Depression  ChronicCond_Diabetes  \\\n0                            1                     1   \n1                            2                     2   \n2                            2                     2   \n3                            2                     1   \n4                            2                     1   \n...                        ...                   ...   \n138551                       2                     2   \n138552                       2                     1   \n138553                       1                     1   \n138554                       2                     2   \n138555                       1                     1   \n\n        ChronicCond_IschemicHeart  ChronicCond_Osteoporasis  \\\n0                               1                         2   \n1                               2                         2   \n2                               1                         2   \n3                               1                         1   \n4                               2                         2   \n...                           ...                       ...   \n138551                          2                         2   \n138552                          2                         2   \n138553                          1                         2   \n138554                          1                         2   \n138555                          2                         2   \n\n        ChronicCond_rheumatoidarthritis  ChronicCond_stroke  \\\n0                                     1                   1   \n1                                     2                   2   \n2                                     2                   2   \n3                                     1                   2   \n4                                     2                   2   \n...                                 ...                 ...   \n138551                                2                   2   \n138552                                2                   2   \n138553                                2                   2   \n138554                                2                   2   \n138555                                1                   2   \n\n        IPAnnualReimbursementAmt  IPAnnualDeductibleAmt  \\\n0                          36000                   3204   \n1                              0                      0   \n2                              0                      0   \n3                              0                      0   \n4                              0                      0   \n...                          ...                    ...   \n138551                         0                      0   \n138552                         0                      0   \n138553                      2000                   1068   \n138554                         0                      0   \n138555                         0                      0   \n\n        OPAnnualReimbursementAmt  OPAnnualDeductibleAmt  \n0                             60                     70  \n1                             30                     50  \n2                             90                     40  \n3                           1810                    760  \n4                           1790                   1200  \n...                          ...                    ...  \n138551                       430                    460  \n138552                       880                    100  \n138553                      3240                   1390  \n138554                      2650                     10  \n138555                      5470                   1870  \n\n[138556 rows x 25 columns]",
      "text/html": "<div>\n<style scoped>\n    .dataframe tbody tr th:only-of-type {\n        vertical-align: middle;\n    }\n\n    .dataframe tbody tr th {\n        vertical-align: top;\n    }\n\n    .dataframe thead th {\n        text-align: right;\n    }\n</style>\n<table border=\"1\" class=\"dataframe\">\n  <thead>\n    <tr style=\"text-align: right;\">\n      <th></th>\n      <th>BeneID</th>\n      <th>DOB</th>\n      <th>DOD</th>\n      <th>Gender</th>\n      <th>Race</th>\n      <th>RenalDiseaseIndicator</th>\n      <th>State</th>\n      <th>County</th>\n      <th>NoOfMonths_PartACov</th>\n      <th>NoOfMonths_PartBCov</th>\n      <th>...</th>\n      <th>ChronicCond_Depression</th>\n      <th>ChronicCond_Diabetes</th>\n      <th>ChronicCond_IschemicHeart</th>\n      <th>ChronicCond_Osteoporasis</th>\n      <th>ChronicCond_rheumatoidarthritis</th>\n      <th>ChronicCond_stroke</th>\n      <th>IPAnnualReimbursementAmt</th>\n      <th>IPAnnualDeductibleAmt</th>\n      <th>OPAnnualReimbursementAmt</th>\n      <th>OPAnnualDeductibleAmt</th>\n    </tr>\n  </thead>\n  <tbody>\n    <tr>\n      <th>0</th>\n      <td>BENE11001</td>\n      <td>1943-01-01</td>\n      <td>2023-12-02</td>\n      <td>1</td>\n      <td>1</td>\n      <td>0</td>\n      <td>39</td>\n      <td>230</td>\n      <td>12</td>\n      <td>12</td>\n      <td>...</td>\n      <td>1</td>\n      <td>1</td>\n      <td>1</td>\n      <td>2</td>\n      <td>1</td>\n      <td>1</td>\n      <td>36000</td>\n      <td>3204</td>\n      <td>60</td>\n      <td>70</td>\n    </tr>\n    <tr>\n      <th>1</th>\n      <td>BENE11002</td>\n      <td>1936-09-01</td>\n      <td>2023-12-02</td>\n      <td>2</td>\n      <td>1</td>\n      <td>0</td>\n      <td>39</td>\n      <td>280</td>\n      <td>12</td>\n      <td>12</td>\n      <td>...</td>\n      <td>2</td>\n      <td>2</td>\n      <td>2</td>\n      <td>2</td>\n      <td>2</td>\n      <td>2</td>\n      <td>0</td>\n      <td>0</td>\n      <td>30</td>\n      <td>50</td>\n    </tr>\n    <tr>\n      <th>2</th>\n      <td>BENE11003</td>\n      <td>1936-08-01</td>\n      <td>2023-12-02</td>\n      <td>1</td>\n      <td>1</td>\n      <td>0</td>\n      <td>52</td>\n      <td>590</td>\n      <td>12</td>\n      <td>12</td>\n      <td>...</td>\n      <td>2</td>\n      <td>2</td>\n      <td>1</td>\n      <td>2</td>\n      <td>2</td>\n      <td>2</td>\n      <td>0</td>\n      <td>0</td>\n      <td>90</td>\n      <td>40</td>\n    </tr>\n    <tr>\n      <th>3</th>\n      <td>BENE11004</td>\n      <td>1922-07-01</td>\n      <td>2023-12-02</td>\n      <td>1</td>\n      <td>1</td>\n      <td>0</td>\n      <td>39</td>\n      <td>270</td>\n      <td>12</td>\n      <td>12</td>\n      <td>...</td>\n      <td>2</td>\n      <td>1</td>\n      <td>1</td>\n      <td>1</td>\n      <td>1</td>\n      <td>2</td>\n      <td>0</td>\n      <td>0</td>\n      <td>1810</td>\n      <td>760</td>\n    </tr>\n    <tr>\n      <th>4</th>\n      <td>BENE11005</td>\n      <td>1935-09-01</td>\n      <td>2023-12-02</td>\n      <td>1</td>\n      <td>1</td>\n      <td>0</td>\n      <td>24</td>\n      <td>680</td>\n      <td>12</td>\n      <td>12</td>\n      <td>...</td>\n      <td>2</td>\n      <td>1</td>\n      <td>2</td>\n      <td>2</td>\n      <td>2</td>\n      <td>2</td>\n      <td>0</td>\n      <td>0</td>\n      <td>1790</td>\n      <td>1200</td>\n    </tr>\n    <tr>\n      <th>...</th>\n      <td>...</td>\n      <td>...</td>\n      <td>...</td>\n      <td>...</td>\n      <td>...</td>\n      <td>...</td>\n      <td>...</td>\n      <td>...</td>\n      <td>...</td>\n      <td>...</td>\n      <td>...</td>\n      <td>...</td>\n      <td>...</td>\n      <td>...</td>\n      <td>...</td>\n      <td>...</td>\n      <td>...</td>\n      <td>...</td>\n      <td>...</td>\n      <td>...</td>\n      <td>...</td>\n    </tr>\n    <tr>\n      <th>138551</th>\n      <td>BENE159194</td>\n      <td>1939-07-01</td>\n      <td>2023-12-02</td>\n      <td>1</td>\n      <td>1</td>\n      <td>0</td>\n      <td>39</td>\n      <td>140</td>\n      <td>12</td>\n      <td>12</td>\n      <td>...</td>\n      <td>2</td>\n      <td>2</td>\n      <td>2</td>\n      <td>2</td>\n      <td>2</td>\n      <td>2</td>\n      <td>0</td>\n      <td>0</td>\n      <td>430</td>\n      <td>460</td>\n    </tr>\n    <tr>\n      <th>138552</th>\n      <td>BENE159195</td>\n      <td>1938-12-01</td>\n      <td>2023-12-02</td>\n      <td>2</td>\n      <td>1</td>\n      <td>0</td>\n      <td>49</td>\n      <td>530</td>\n      <td>12</td>\n      <td>12</td>\n      <td>...</td>\n      <td>2</td>\n      <td>1</td>\n      <td>2</td>\n      <td>2</td>\n      <td>2</td>\n      <td>2</td>\n      <td>0</td>\n      <td>0</td>\n      <td>880</td>\n      <td>100</td>\n    </tr>\n    <tr>\n      <th>138553</th>\n      <td>BENE159196</td>\n      <td>1916-06-01</td>\n      <td>2023-12-02</td>\n      <td>2</td>\n      <td>1</td>\n      <td>0</td>\n      <td>6</td>\n      <td>150</td>\n      <td>12</td>\n      <td>12</td>\n      <td>...</td>\n      <td>1</td>\n      <td>1</td>\n      <td>1</td>\n      <td>2</td>\n      <td>2</td>\n      <td>2</td>\n      <td>2000</td>\n      <td>1068</td>\n      <td>3240</td>\n      <td>1390</td>\n    </tr>\n    <tr>\n      <th>138554</th>\n      <td>BENE159197</td>\n      <td>1930-01-01</td>\n      <td>2023-12-02</td>\n      <td>1</td>\n      <td>1</td>\n      <td>0</td>\n      <td>16</td>\n      <td>560</td>\n      <td>12</td>\n      <td>12</td>\n      <td>...</td>\n      <td>2</td>\n      <td>2</td>\n      <td>1</td>\n      <td>2</td>\n      <td>2</td>\n      <td>2</td>\n      <td>0</td>\n      <td>0</td>\n      <td>2650</td>\n      <td>10</td>\n    </tr>\n    <tr>\n      <th>138555</th>\n      <td>BENE159198</td>\n      <td>1952-04-01</td>\n      <td>2023-12-02</td>\n      <td>2</td>\n      <td>1</td>\n      <td>0</td>\n      <td>21</td>\n      <td>20</td>\n      <td>12</td>\n      <td>12</td>\n      <td>...</td>\n      <td>1</td>\n      <td>1</td>\n      <td>2</td>\n      <td>2</td>\n      <td>1</td>\n      <td>2</td>\n      <td>0</td>\n      <td>0</td>\n      <td>5470</td>\n      <td>1870</td>\n    </tr>\n  </tbody>\n</table>\n<p>138556 rows × 25 columns</p>\n</div>"
     },
     "execution_count": 320,
     "metadata": {},
     "output_type": "execute_result"
    }
   ],
   "source": [
    "df_train_beneficiary[\"DOB\"] = pd.to_datetime(df_train_beneficiary[\"DOB\"])\n",
    "\n",
    "df_train_beneficiary[\"DOD\"] = pd.to_datetime(df_train_beneficiary[\"DOD\"])\n",
    "\n",
    "df_train_beneficiary[\"DOD\"] = df_train_beneficiary[\"DOD\"].fillna(pd.Timestamp(date.today().year,date.today().month,date.today().day,0,0,0,0))\n",
    "df_train_beneficiary"
   ],
   "metadata": {
    "collapsed": false,
    "ExecuteTime": {
     "end_time": "2023-12-03T01:43:31.163283Z",
     "start_time": "2023-12-03T01:43:31.108721Z"
    }
   },
   "id": "9ca8fc5fc2fc8afa"
  },
  {
   "cell_type": "code",
   "execution_count": 321,
   "outputs": [],
   "source": [
    "def calculate_age(df):\n",
    "    p = round((df[\"DOD\"] - df[\"DOB\"]).days/365,2)\n",
    "    return p"
   ],
   "metadata": {
    "collapsed": false,
    "ExecuteTime": {
     "end_time": "2023-12-03T01:43:31.667115Z",
     "start_time": "2023-12-03T01:43:31.659539Z"
    }
   },
   "id": "ab9a5f748ab3c9f9"
  },
  {
   "cell_type": "code",
   "execution_count": 322,
   "outputs": [],
   "source": [
    "df_train_beneficiary[\"Age\"] = df_train_beneficiary.apply(lambda x: calculate_age(x),axis=1)"
   ],
   "metadata": {
    "collapsed": false,
    "ExecuteTime": {
     "end_time": "2023-12-03T01:43:33.907886Z",
     "start_time": "2023-12-03T01:43:32.283683Z"
    }
   },
   "id": "b3232db70f9325b1"
  },
  {
   "cell_type": "code",
   "execution_count": 323,
   "outputs": [],
   "source": [
    "def alive_or_dead(df):\n",
    "    if df[\"DOD\"] == \"N/A\":\n",
    "        return 1\n",
    "    else:\n",
    "        return 0"
   ],
   "metadata": {
    "collapsed": false,
    "ExecuteTime": {
     "end_time": "2023-12-03T01:43:33.913379Z",
     "start_time": "2023-12-03T01:43:33.908581Z"
    }
   },
   "id": "90a10798a65a7572"
  },
  {
   "cell_type": "code",
   "execution_count": 324,
   "outputs": [
    {
     "data": {
      "text/plain": "            BeneID  Gender  Race RenalDiseaseIndicator  NoOfMonths_PartACov  \\\n0        BENE11001       1     1                     0                   12   \n1        BENE11002       2     1                     0                   12   \n2        BENE11003       1     1                     0                   12   \n3        BENE11004       1     1                     0                   12   \n4        BENE11005       1     1                     0                   12   \n...            ...     ...   ...                   ...                  ...   \n138551  BENE159194       1     1                     0                   12   \n138552  BENE159195       2     1                     0                   12   \n138553  BENE159196       2     1                     0                   12   \n138554  BENE159197       1     1                     0                   12   \n138555  BENE159198       2     1                     0                   12   \n\n        NoOfMonths_PartBCov  ChronicCond_Alzheimer  ChronicCond_Heartfailure  \\\n0                        12                      1                         2   \n1                        12                      2                         2   \n2                        12                      1                         2   \n3                        12                      1                         1   \n4                        12                      2                         2   \n...                     ...                    ...                       ...   \n138551                   12                      1                         2   \n138552                   12                      1                         2   \n138553                   12                      2                         1   \n138554                   12                      1                         1   \n138555                   12                      1                         1   \n\n        ChronicCond_KidneyDisease  ChronicCond_Cancer  ...  \\\n0                               1                   2  ...   \n1                               2                   2  ...   \n2                               2                   2  ...   \n3                               2                   2  ...   \n4                               2                   2  ...   \n...                           ...                 ...  ...   \n138551                          2                   2  ...   \n138552                          2                   2  ...   \n138553                          1                   1  ...   \n138554                          2                   2  ...   \n138555                          2                   2  ...   \n\n        ChronicCond_IschemicHeart  ChronicCond_Osteoporasis  \\\n0                               1                         2   \n1                               2                         2   \n2                               1                         2   \n3                               1                         1   \n4                               2                         2   \n...                           ...                       ...   \n138551                          2                         2   \n138552                          2                         2   \n138553                          1                         2   \n138554                          1                         2   \n138555                          2                         2   \n\n        ChronicCond_rheumatoidarthritis  ChronicCond_stroke  \\\n0                                     1                   1   \n1                                     2                   2   \n2                                     2                   2   \n3                                     1                   2   \n4                                     2                   2   \n...                                 ...                 ...   \n138551                                2                   2   \n138552                                2                   2   \n138553                                2                   2   \n138554                                2                   2   \n138555                                1                   2   \n\n        IPAnnualReimbursementAmt  IPAnnualDeductibleAmt  \\\n0                          36000                   3204   \n1                              0                      0   \n2                              0                      0   \n3                              0                      0   \n4                              0                      0   \n...                          ...                    ...   \n138551                         0                      0   \n138552                         0                      0   \n138553                      2000                   1068   \n138554                         0                      0   \n138555                         0                      0   \n\n        OPAnnualReimbursementAmt  OPAnnualDeductibleAmt     Age  Alive  \n0                             60                     70   80.97      1  \n1                             30                     50   87.31      1  \n2                             90                     40   87.39      1  \n3                           1810                    760  101.49      1  \n4                           1790                   1200   88.31      1  \n...                          ...                    ...     ...    ...  \n138551                       430                    460   84.48      1  \n138552                       880                    100   85.06      1  \n138553                      3240                   1390  107.58      1  \n138554                      2650                     10   93.98      1  \n138555                      5470                   1870   71.72      1  \n\n[138556 rows x 23 columns]",
      "text/html": "<div>\n<style scoped>\n    .dataframe tbody tr th:only-of-type {\n        vertical-align: middle;\n    }\n\n    .dataframe tbody tr th {\n        vertical-align: top;\n    }\n\n    .dataframe thead th {\n        text-align: right;\n    }\n</style>\n<table border=\"1\" class=\"dataframe\">\n  <thead>\n    <tr style=\"text-align: right;\">\n      <th></th>\n      <th>BeneID</th>\n      <th>Gender</th>\n      <th>Race</th>\n      <th>RenalDiseaseIndicator</th>\n      <th>NoOfMonths_PartACov</th>\n      <th>NoOfMonths_PartBCov</th>\n      <th>ChronicCond_Alzheimer</th>\n      <th>ChronicCond_Heartfailure</th>\n      <th>ChronicCond_KidneyDisease</th>\n      <th>ChronicCond_Cancer</th>\n      <th>...</th>\n      <th>ChronicCond_IschemicHeart</th>\n      <th>ChronicCond_Osteoporasis</th>\n      <th>ChronicCond_rheumatoidarthritis</th>\n      <th>ChronicCond_stroke</th>\n      <th>IPAnnualReimbursementAmt</th>\n      <th>IPAnnualDeductibleAmt</th>\n      <th>OPAnnualReimbursementAmt</th>\n      <th>OPAnnualDeductibleAmt</th>\n      <th>Age</th>\n      <th>Alive</th>\n    </tr>\n  </thead>\n  <tbody>\n    <tr>\n      <th>0</th>\n      <td>BENE11001</td>\n      <td>1</td>\n      <td>1</td>\n      <td>0</td>\n      <td>12</td>\n      <td>12</td>\n      <td>1</td>\n      <td>2</td>\n      <td>1</td>\n      <td>2</td>\n      <td>...</td>\n      <td>1</td>\n      <td>2</td>\n      <td>1</td>\n      <td>1</td>\n      <td>36000</td>\n      <td>3204</td>\n      <td>60</td>\n      <td>70</td>\n      <td>80.97</td>\n      <td>1</td>\n    </tr>\n    <tr>\n      <th>1</th>\n      <td>BENE11002</td>\n      <td>2</td>\n      <td>1</td>\n      <td>0</td>\n      <td>12</td>\n      <td>12</td>\n      <td>2</td>\n      <td>2</td>\n      <td>2</td>\n      <td>2</td>\n      <td>...</td>\n      <td>2</td>\n      <td>2</td>\n      <td>2</td>\n      <td>2</td>\n      <td>0</td>\n      <td>0</td>\n      <td>30</td>\n      <td>50</td>\n      <td>87.31</td>\n      <td>1</td>\n    </tr>\n    <tr>\n      <th>2</th>\n      <td>BENE11003</td>\n      <td>1</td>\n      <td>1</td>\n      <td>0</td>\n      <td>12</td>\n      <td>12</td>\n      <td>1</td>\n      <td>2</td>\n      <td>2</td>\n      <td>2</td>\n      <td>...</td>\n      <td>1</td>\n      <td>2</td>\n      <td>2</td>\n      <td>2</td>\n      <td>0</td>\n      <td>0</td>\n      <td>90</td>\n      <td>40</td>\n      <td>87.39</td>\n      <td>1</td>\n    </tr>\n    <tr>\n      <th>3</th>\n      <td>BENE11004</td>\n      <td>1</td>\n      <td>1</td>\n      <td>0</td>\n      <td>12</td>\n      <td>12</td>\n      <td>1</td>\n      <td>1</td>\n      <td>2</td>\n      <td>2</td>\n      <td>...</td>\n      <td>1</td>\n      <td>1</td>\n      <td>1</td>\n      <td>2</td>\n      <td>0</td>\n      <td>0</td>\n      <td>1810</td>\n      <td>760</td>\n      <td>101.49</td>\n      <td>1</td>\n    </tr>\n    <tr>\n      <th>4</th>\n      <td>BENE11005</td>\n      <td>1</td>\n      <td>1</td>\n      <td>0</td>\n      <td>12</td>\n      <td>12</td>\n      <td>2</td>\n      <td>2</td>\n      <td>2</td>\n      <td>2</td>\n      <td>...</td>\n      <td>2</td>\n      <td>2</td>\n      <td>2</td>\n      <td>2</td>\n      <td>0</td>\n      <td>0</td>\n      <td>1790</td>\n      <td>1200</td>\n      <td>88.31</td>\n      <td>1</td>\n    </tr>\n    <tr>\n      <th>...</th>\n      <td>...</td>\n      <td>...</td>\n      <td>...</td>\n      <td>...</td>\n      <td>...</td>\n      <td>...</td>\n      <td>...</td>\n      <td>...</td>\n      <td>...</td>\n      <td>...</td>\n      <td>...</td>\n      <td>...</td>\n      <td>...</td>\n      <td>...</td>\n      <td>...</td>\n      <td>...</td>\n      <td>...</td>\n      <td>...</td>\n      <td>...</td>\n      <td>...</td>\n      <td>...</td>\n    </tr>\n    <tr>\n      <th>138551</th>\n      <td>BENE159194</td>\n      <td>1</td>\n      <td>1</td>\n      <td>0</td>\n      <td>12</td>\n      <td>12</td>\n      <td>1</td>\n      <td>2</td>\n      <td>2</td>\n      <td>2</td>\n      <td>...</td>\n      <td>2</td>\n      <td>2</td>\n      <td>2</td>\n      <td>2</td>\n      <td>0</td>\n      <td>0</td>\n      <td>430</td>\n      <td>460</td>\n      <td>84.48</td>\n      <td>1</td>\n    </tr>\n    <tr>\n      <th>138552</th>\n      <td>BENE159195</td>\n      <td>2</td>\n      <td>1</td>\n      <td>0</td>\n      <td>12</td>\n      <td>12</td>\n      <td>1</td>\n      <td>2</td>\n      <td>2</td>\n      <td>2</td>\n      <td>...</td>\n      <td>2</td>\n      <td>2</td>\n      <td>2</td>\n      <td>2</td>\n      <td>0</td>\n      <td>0</td>\n      <td>880</td>\n      <td>100</td>\n      <td>85.06</td>\n      <td>1</td>\n    </tr>\n    <tr>\n      <th>138553</th>\n      <td>BENE159196</td>\n      <td>2</td>\n      <td>1</td>\n      <td>0</td>\n      <td>12</td>\n      <td>12</td>\n      <td>2</td>\n      <td>1</td>\n      <td>1</td>\n      <td>1</td>\n      <td>...</td>\n      <td>1</td>\n      <td>2</td>\n      <td>2</td>\n      <td>2</td>\n      <td>2000</td>\n      <td>1068</td>\n      <td>3240</td>\n      <td>1390</td>\n      <td>107.58</td>\n      <td>1</td>\n    </tr>\n    <tr>\n      <th>138554</th>\n      <td>BENE159197</td>\n      <td>1</td>\n      <td>1</td>\n      <td>0</td>\n      <td>12</td>\n      <td>12</td>\n      <td>1</td>\n      <td>1</td>\n      <td>2</td>\n      <td>2</td>\n      <td>...</td>\n      <td>1</td>\n      <td>2</td>\n      <td>2</td>\n      <td>2</td>\n      <td>0</td>\n      <td>0</td>\n      <td>2650</td>\n      <td>10</td>\n      <td>93.98</td>\n      <td>1</td>\n    </tr>\n    <tr>\n      <th>138555</th>\n      <td>BENE159198</td>\n      <td>2</td>\n      <td>1</td>\n      <td>0</td>\n      <td>12</td>\n      <td>12</td>\n      <td>1</td>\n      <td>1</td>\n      <td>2</td>\n      <td>2</td>\n      <td>...</td>\n      <td>2</td>\n      <td>2</td>\n      <td>1</td>\n      <td>2</td>\n      <td>0</td>\n      <td>0</td>\n      <td>5470</td>\n      <td>1870</td>\n      <td>71.72</td>\n      <td>1</td>\n    </tr>\n  </tbody>\n</table>\n<p>138556 rows × 23 columns</p>\n</div>"
     },
     "execution_count": 324,
     "metadata": {},
     "output_type": "execute_result"
    }
   ],
   "source": [
    "ben_train[\"Alive\"] = ben_train.apply(lambda x: alive_or_dead(x),axis=1)\n",
    "df_train_beneficiary[\"Alive\"] = ben_train[\"Alive\"].copy()\n",
    "df_train_beneficiary.drop([\"DOB\",\"DOD\",\"State\",\"County\"],axis=1,inplace=True)\n",
    "df_train_beneficiary"
   ],
   "metadata": {
    "collapsed": false,
    "ExecuteTime": {
     "end_time": "2023-12-03T01:43:34.276199Z",
     "start_time": "2023-12-03T01:43:33.911476Z"
    }
   },
   "id": "51c6aca84f2385c5"
  },
  {
   "cell_type": "code",
   "execution_count": 325,
   "outputs": [
    {
     "data": {
      "text/plain": "BeneID                              object\nGender                               int64\nRace                                 int64\nRenalDiseaseIndicator               object\nNoOfMonths_PartACov                  int64\nNoOfMonths_PartBCov                  int64\nChronicCond_Alzheimer                int64\nChronicCond_Heartfailure             int64\nChronicCond_KidneyDisease            int64\nChronicCond_Cancer                   int64\nChronicCond_ObstrPulmonary           int64\nChronicCond_Depression               int64\nChronicCond_Diabetes                 int64\nChronicCond_IschemicHeart            int64\nChronicCond_Osteoporasis             int64\nChronicCond_rheumatoidarthritis      int64\nChronicCond_stroke                   int64\nIPAnnualReimbursementAmt             int64\nIPAnnualDeductibleAmt                int64\nOPAnnualReimbursementAmt             int64\nOPAnnualDeductibleAmt                int64\nAge                                float64\nAlive                                int64\ndtype: object"
     },
     "execution_count": 325,
     "metadata": {},
     "output_type": "execute_result"
    }
   ],
   "source": [
    "df_train_beneficiary.dtypes"
   ],
   "metadata": {
    "collapsed": false,
    "ExecuteTime": {
     "end_time": "2023-12-03T01:43:34.276447Z",
     "start_time": "2023-12-03T01:43:34.274091Z"
    }
   },
   "id": "9e02b7d8f8a305ed"
  },
  {
   "cell_type": "code",
   "execution_count": 326,
   "outputs": [],
   "source": [
    "df_train_beneficiary[\"Gender\"] = df_train_beneficiary[\"Gender\"].map({1:1,2:0})\n",
    "df_train_beneficiary[\"Race\"] = df_train_beneficiary[\"Race\"].map({1:0,2:1,3:2,5:3})\n",
    "\n",
    "df_train_beneficiary[\"ChronicCond_Alzheimer\"] = df_train_beneficiary[\"ChronicCond_Alzheimer\"].map({1:1,2:0})\n",
    "df_train_beneficiary[\"ChronicCond_Heartfailure\"] = df_train_beneficiary[\"ChronicCond_Heartfailure\"].map({1:1,2:0})\n",
    "df_train_beneficiary[\"ChronicCond_KidneyDisease\"] = df_train_beneficiary[\"ChronicCond_KidneyDisease\"].map({1:1,2:0})\n",
    "df_train_beneficiary[\"ChronicCond_Cancer\"] = df_train_beneficiary[\"ChronicCond_Cancer\"].map({1:1,2:0})\n",
    "df_train_beneficiary[\"ChronicCond_ObstrPulmonary\"] = df_train_beneficiary[\"ChronicCond_ObstrPulmonary\"].map({1:1,2:0})\n",
    "df_train_beneficiary[\"ChronicCond_Depression\"] = df_train_beneficiary[\"ChronicCond_Depression\"].map({1:1,2:0})\n",
    "df_train_beneficiary[\"ChronicCond_Diabetes\"] = df_train_beneficiary[\"ChronicCond_Diabetes\"].map({1:1,2:0})\n",
    "df_train_beneficiary[\"ChronicCond_IschemicHeart\"] = df_train_beneficiary[\"ChronicCond_IschemicHeart\"].map({1:1,2:0})\n",
    "df_train_beneficiary[\"ChronicCond_Osteoporasis\"] = df_train_beneficiary[\"ChronicCond_Osteoporasis\"].map({1:1,2:0})\n",
    "df_train_beneficiary[\"ChronicCond_rheumatoidarthritis\"] = df_train_beneficiary[\"ChronicCond_rheumatoidarthritis\"].map({1:1,2:0})\n",
    "df_train_beneficiary[\"ChronicCond_stroke\"] = df_train_beneficiary[\"ChronicCond_stroke\"].map({1:1,2:0})\n",
    "\n"
   ],
   "metadata": {
    "collapsed": false,
    "ExecuteTime": {
     "end_time": "2023-12-03T01:43:35.541028Z",
     "start_time": "2023-12-03T01:43:35.510536Z"
    }
   },
   "id": "3f12dd4d8eb8cd4a"
  },
  {
   "cell_type": "code",
   "execution_count": 327,
   "outputs": [
    {
     "data": {
      "text/plain": "            BeneID  Gender  Race RenalDiseaseIndicator  NoOfMonths_PartACov  \\\n0        BENE11001       1     0                     0                   12   \n1        BENE11002       0     0                     0                   12   \n2        BENE11003       1     0                     0                   12   \n3        BENE11004       1     0                     0                   12   \n4        BENE11005       1     0                     0                   12   \n...            ...     ...   ...                   ...                  ...   \n138551  BENE159194       1     0                     0                   12   \n138552  BENE159195       0     0                     0                   12   \n138553  BENE159196       0     0                     0                   12   \n138554  BENE159197       1     0                     0                   12   \n138555  BENE159198       0     0                     0                   12   \n\n        NoOfMonths_PartBCov  ChronicCond_Alzheimer  ChronicCond_Heartfailure  \\\n0                        12                      1                         0   \n1                        12                      0                         0   \n2                        12                      1                         0   \n3                        12                      1                         1   \n4                        12                      0                         0   \n...                     ...                    ...                       ...   \n138551                   12                      1                         0   \n138552                   12                      1                         0   \n138553                   12                      0                         1   \n138554                   12                      1                         1   \n138555                   12                      1                         1   \n\n        ChronicCond_KidneyDisease  ChronicCond_Cancer  ...  \\\n0                               1                   0  ...   \n1                               0                   0  ...   \n2                               0                   0  ...   \n3                               0                   0  ...   \n4                               0                   0  ...   \n...                           ...                 ...  ...   \n138551                          0                   0  ...   \n138552                          0                   0  ...   \n138553                          1                   1  ...   \n138554                          0                   0  ...   \n138555                          0                   0  ...   \n\n        ChronicCond_IschemicHeart  ChronicCond_Osteoporasis  \\\n0                               1                         0   \n1                               0                         0   \n2                               1                         0   \n3                               1                         1   \n4                               0                         0   \n...                           ...                       ...   \n138551                          0                         0   \n138552                          0                         0   \n138553                          1                         0   \n138554                          1                         0   \n138555                          0                         0   \n\n        ChronicCond_rheumatoidarthritis  ChronicCond_stroke  \\\n0                                     1                   1   \n1                                     0                   0   \n2                                     0                   0   \n3                                     1                   0   \n4                                     0                   0   \n...                                 ...                 ...   \n138551                                0                   0   \n138552                                0                   0   \n138553                                0                   0   \n138554                                0                   0   \n138555                                1                   0   \n\n        IPAnnualReimbursementAmt  IPAnnualDeductibleAmt  \\\n0                          36000                   3204   \n1                              0                      0   \n2                              0                      0   \n3                              0                      0   \n4                              0                      0   \n...                          ...                    ...   \n138551                         0                      0   \n138552                         0                      0   \n138553                      2000                   1068   \n138554                         0                      0   \n138555                         0                      0   \n\n        OPAnnualReimbursementAmt  OPAnnualDeductibleAmt     Age  Alive  \n0                             60                     70   80.97      1  \n1                             30                     50   87.31      1  \n2                             90                     40   87.39      1  \n3                           1810                    760  101.49      1  \n4                           1790                   1200   88.31      1  \n...                          ...                    ...     ...    ...  \n138551                       430                    460   84.48      1  \n138552                       880                    100   85.06      1  \n138553                      3240                   1390  107.58      1  \n138554                      2650                     10   93.98      1  \n138555                      5470                   1870   71.72      1  \n\n[138556 rows x 23 columns]",
      "text/html": "<div>\n<style scoped>\n    .dataframe tbody tr th:only-of-type {\n        vertical-align: middle;\n    }\n\n    .dataframe tbody tr th {\n        vertical-align: top;\n    }\n\n    .dataframe thead th {\n        text-align: right;\n    }\n</style>\n<table border=\"1\" class=\"dataframe\">\n  <thead>\n    <tr style=\"text-align: right;\">\n      <th></th>\n      <th>BeneID</th>\n      <th>Gender</th>\n      <th>Race</th>\n      <th>RenalDiseaseIndicator</th>\n      <th>NoOfMonths_PartACov</th>\n      <th>NoOfMonths_PartBCov</th>\n      <th>ChronicCond_Alzheimer</th>\n      <th>ChronicCond_Heartfailure</th>\n      <th>ChronicCond_KidneyDisease</th>\n      <th>ChronicCond_Cancer</th>\n      <th>...</th>\n      <th>ChronicCond_IschemicHeart</th>\n      <th>ChronicCond_Osteoporasis</th>\n      <th>ChronicCond_rheumatoidarthritis</th>\n      <th>ChronicCond_stroke</th>\n      <th>IPAnnualReimbursementAmt</th>\n      <th>IPAnnualDeductibleAmt</th>\n      <th>OPAnnualReimbursementAmt</th>\n      <th>OPAnnualDeductibleAmt</th>\n      <th>Age</th>\n      <th>Alive</th>\n    </tr>\n  </thead>\n  <tbody>\n    <tr>\n      <th>0</th>\n      <td>BENE11001</td>\n      <td>1</td>\n      <td>0</td>\n      <td>0</td>\n      <td>12</td>\n      <td>12</td>\n      <td>1</td>\n      <td>0</td>\n      <td>1</td>\n      <td>0</td>\n      <td>...</td>\n      <td>1</td>\n      <td>0</td>\n      <td>1</td>\n      <td>1</td>\n      <td>36000</td>\n      <td>3204</td>\n      <td>60</td>\n      <td>70</td>\n      <td>80.97</td>\n      <td>1</td>\n    </tr>\n    <tr>\n      <th>1</th>\n      <td>BENE11002</td>\n      <td>0</td>\n      <td>0</td>\n      <td>0</td>\n      <td>12</td>\n      <td>12</td>\n      <td>0</td>\n      <td>0</td>\n      <td>0</td>\n      <td>0</td>\n      <td>...</td>\n      <td>0</td>\n      <td>0</td>\n      <td>0</td>\n      <td>0</td>\n      <td>0</td>\n      <td>0</td>\n      <td>30</td>\n      <td>50</td>\n      <td>87.31</td>\n      <td>1</td>\n    </tr>\n    <tr>\n      <th>2</th>\n      <td>BENE11003</td>\n      <td>1</td>\n      <td>0</td>\n      <td>0</td>\n      <td>12</td>\n      <td>12</td>\n      <td>1</td>\n      <td>0</td>\n      <td>0</td>\n      <td>0</td>\n      <td>...</td>\n      <td>1</td>\n      <td>0</td>\n      <td>0</td>\n      <td>0</td>\n      <td>0</td>\n      <td>0</td>\n      <td>90</td>\n      <td>40</td>\n      <td>87.39</td>\n      <td>1</td>\n    </tr>\n    <tr>\n      <th>3</th>\n      <td>BENE11004</td>\n      <td>1</td>\n      <td>0</td>\n      <td>0</td>\n      <td>12</td>\n      <td>12</td>\n      <td>1</td>\n      <td>1</td>\n      <td>0</td>\n      <td>0</td>\n      <td>...</td>\n      <td>1</td>\n      <td>1</td>\n      <td>1</td>\n      <td>0</td>\n      <td>0</td>\n      <td>0</td>\n      <td>1810</td>\n      <td>760</td>\n      <td>101.49</td>\n      <td>1</td>\n    </tr>\n    <tr>\n      <th>4</th>\n      <td>BENE11005</td>\n      <td>1</td>\n      <td>0</td>\n      <td>0</td>\n      <td>12</td>\n      <td>12</td>\n      <td>0</td>\n      <td>0</td>\n      <td>0</td>\n      <td>0</td>\n      <td>...</td>\n      <td>0</td>\n      <td>0</td>\n      <td>0</td>\n      <td>0</td>\n      <td>0</td>\n      <td>0</td>\n      <td>1790</td>\n      <td>1200</td>\n      <td>88.31</td>\n      <td>1</td>\n    </tr>\n    <tr>\n      <th>...</th>\n      <td>...</td>\n      <td>...</td>\n      <td>...</td>\n      <td>...</td>\n      <td>...</td>\n      <td>...</td>\n      <td>...</td>\n      <td>...</td>\n      <td>...</td>\n      <td>...</td>\n      <td>...</td>\n      <td>...</td>\n      <td>...</td>\n      <td>...</td>\n      <td>...</td>\n      <td>...</td>\n      <td>...</td>\n      <td>...</td>\n      <td>...</td>\n      <td>...</td>\n      <td>...</td>\n    </tr>\n    <tr>\n      <th>138551</th>\n      <td>BENE159194</td>\n      <td>1</td>\n      <td>0</td>\n      <td>0</td>\n      <td>12</td>\n      <td>12</td>\n      <td>1</td>\n      <td>0</td>\n      <td>0</td>\n      <td>0</td>\n      <td>...</td>\n      <td>0</td>\n      <td>0</td>\n      <td>0</td>\n      <td>0</td>\n      <td>0</td>\n      <td>0</td>\n      <td>430</td>\n      <td>460</td>\n      <td>84.48</td>\n      <td>1</td>\n    </tr>\n    <tr>\n      <th>138552</th>\n      <td>BENE159195</td>\n      <td>0</td>\n      <td>0</td>\n      <td>0</td>\n      <td>12</td>\n      <td>12</td>\n      <td>1</td>\n      <td>0</td>\n      <td>0</td>\n      <td>0</td>\n      <td>...</td>\n      <td>0</td>\n      <td>0</td>\n      <td>0</td>\n      <td>0</td>\n      <td>0</td>\n      <td>0</td>\n      <td>880</td>\n      <td>100</td>\n      <td>85.06</td>\n      <td>1</td>\n    </tr>\n    <tr>\n      <th>138553</th>\n      <td>BENE159196</td>\n      <td>0</td>\n      <td>0</td>\n      <td>0</td>\n      <td>12</td>\n      <td>12</td>\n      <td>0</td>\n      <td>1</td>\n      <td>1</td>\n      <td>1</td>\n      <td>...</td>\n      <td>1</td>\n      <td>0</td>\n      <td>0</td>\n      <td>0</td>\n      <td>2000</td>\n      <td>1068</td>\n      <td>3240</td>\n      <td>1390</td>\n      <td>107.58</td>\n      <td>1</td>\n    </tr>\n    <tr>\n      <th>138554</th>\n      <td>BENE159197</td>\n      <td>1</td>\n      <td>0</td>\n      <td>0</td>\n      <td>12</td>\n      <td>12</td>\n      <td>1</td>\n      <td>1</td>\n      <td>0</td>\n      <td>0</td>\n      <td>...</td>\n      <td>1</td>\n      <td>0</td>\n      <td>0</td>\n      <td>0</td>\n      <td>0</td>\n      <td>0</td>\n      <td>2650</td>\n      <td>10</td>\n      <td>93.98</td>\n      <td>1</td>\n    </tr>\n    <tr>\n      <th>138555</th>\n      <td>BENE159198</td>\n      <td>0</td>\n      <td>0</td>\n      <td>0</td>\n      <td>12</td>\n      <td>12</td>\n      <td>1</td>\n      <td>1</td>\n      <td>0</td>\n      <td>0</td>\n      <td>...</td>\n      <td>0</td>\n      <td>0</td>\n      <td>1</td>\n      <td>0</td>\n      <td>0</td>\n      <td>0</td>\n      <td>5470</td>\n      <td>1870</td>\n      <td>71.72</td>\n      <td>1</td>\n    </tr>\n  </tbody>\n</table>\n<p>138556 rows × 23 columns</p>\n</div>"
     },
     "execution_count": 327,
     "metadata": {},
     "output_type": "execute_result"
    }
   ],
   "source": [
    "df_train_beneficiary"
   ],
   "metadata": {
    "collapsed": false,
    "ExecuteTime": {
     "end_time": "2023-12-03T01:43:36.451851Z",
     "start_time": "2023-12-03T01:43:36.396870Z"
    }
   },
   "id": "d8030395f6596380"
  },
  {
   "cell_type": "code",
   "execution_count": 334,
   "outputs": [
    {
     "data": {
      "text/plain": "array([1, 2, 3, 5])"
     },
     "execution_count": 334,
     "metadata": {},
     "output_type": "execute_result"
    }
   ],
   "source": [
    "df_test_beneficiary[\"Race\"].unique()"
   ],
   "metadata": {
    "collapsed": false,
    "ExecuteTime": {
     "end_time": "2023-12-03T01:46:12.897838Z",
     "start_time": "2023-12-03T01:46:12.892932Z"
    }
   },
   "id": "5f0cf3831651b1a"
  },
  {
   "cell_type": "code",
   "execution_count": 345,
   "outputs": [
    {
     "data": {
      "text/plain": "          BeneID   ClaimID ClaimStartDt  ClaimEndDt  Provider  \\\n0      BENE11014  CLM67387   2009-09-09  2009-09-16  PRV57070   \n1      BENE11017  CLM31237   2008-12-25  2009-01-08  PRV54750   \n2      BENE11026  CLM78930   2009-12-09  2009-12-13  PRV53758   \n3      BENE11031  CLM56810   2009-06-23  2009-07-06  PRV55825   \n4      BENE11085  CLM34625   2009-01-20  2009-01-31  PRV52338   \n...          ...       ...          ...         ...       ...   \n9546  BENE159139  CLM61015   2009-07-24  2009-07-26  PRV55021   \n9547  BENE159143  CLM42885   2009-03-16  2009-03-29  PRV55017   \n9548  BENE159155  CLM67124   2009-09-07  2009-10-12  PRV53758   \n9549  BENE159181  CLM72016   2009-10-14  2009-10-17  PRV57195   \n9550  BENE159196  CLM47313   2009-04-17  2009-04-18  PRV51854   \n\n      InscClaimAmtReimbursed AttendingPhysician OperatingPhysician  \\\n0                       9000          PHY317786          PHY427017   \n1                      14000          PHY314656          PHY426644   \n2                       2000          PHY349495                NaN   \n3                      16000          PHY429538          PHY371893   \n4                      19000          PHY397161                NaN   \n...                      ...                ...                ...   \n9546                   23000          PHY406228          PHY406228   \n9547                   34000          PHY354080                NaN   \n9548                    5000          PHY338118                NaN   \n9549                    3000          PHY328451                NaN   \n9550                    2000          PHY377087                NaN   \n\n     OtherPhysician AdmissionDt  ... ClmDiagnosisCode_7  ClmDiagnosisCode_8  \\\n0               NaN  2009-09-09  ...               5990                 570   \n1               NaN  2008-12-25  ...               4549               29570   \n2               NaN  2009-12-09  ...              78650                7813   \n3               NaN  2009-06-23  ...               4254               41400   \n4               NaN  2009-01-20  ...              V6109                7242   \n...             ...         ...  ...                ...                 ...   \n9546            NaN  2009-07-24  ...              53540                5715   \n9547            NaN  2009-03-16  ...              78720               72402   \n9548            NaN  2009-09-07  ...              E8798               60000   \n9549            NaN  2009-10-14  ...               2724               25080   \n9550            NaN  2009-04-17  ...              25000               V1251   \n\n     ClmDiagnosisCode_9 ClmDiagnosisCode_10 ClmProcedureCode_1  \\\n0                 41071                4280             4443.0   \n1                 34831                 NaN             5551.0   \n2                  4254                 NaN                NaN   \n3                  5849               41401             8152.0   \n4                   NaN                 NaN                NaN   \n...                 ...                 ...                ...   \n9546              56210                 NaN             5122.0   \n9547              V5413                 NaN                NaN   \n9548              28521                4280                NaN   \n9549              29383                 NaN                NaN   \n9550               2720                 NaN                NaN   \n\n     ClmProcedureCode_2 ClmProcedureCode_3 ClmProcedureCode_4  \\\n0                5849.0                NaN                NaN   \n1                   NaN                NaN                NaN   \n2                   NaN                NaN                NaN   \n3                3320.0                NaN                NaN   \n4                   NaN                NaN                NaN   \n...                 ...                ...                ...   \n9546             4019.0                NaN                NaN   \n9547                NaN                NaN                NaN   \n9548                NaN                NaN                NaN   \n9549                NaN                NaN                NaN   \n9550                NaN                NaN                NaN   \n\n     ClmProcedureCode_5 ClmProcedureCode_6  \n0                   NaN                NaN  \n1                   NaN                NaN  \n2                   NaN                NaN  \n3                   NaN                NaN  \n4                   NaN                NaN  \n...                 ...                ...  \n9546                NaN                NaN  \n9547                NaN                NaN  \n9548                NaN                NaN  \n9549                NaN                NaN  \n9550                NaN                NaN  \n\n[9551 rows x 30 columns]",
      "text/html": "<div>\n<style scoped>\n    .dataframe tbody tr th:only-of-type {\n        vertical-align: middle;\n    }\n\n    .dataframe tbody tr th {\n        vertical-align: top;\n    }\n\n    .dataframe thead th {\n        text-align: right;\n    }\n</style>\n<table border=\"1\" class=\"dataframe\">\n  <thead>\n    <tr style=\"text-align: right;\">\n      <th></th>\n      <th>BeneID</th>\n      <th>ClaimID</th>\n      <th>ClaimStartDt</th>\n      <th>ClaimEndDt</th>\n      <th>Provider</th>\n      <th>InscClaimAmtReimbursed</th>\n      <th>AttendingPhysician</th>\n      <th>OperatingPhysician</th>\n      <th>OtherPhysician</th>\n      <th>AdmissionDt</th>\n      <th>...</th>\n      <th>ClmDiagnosisCode_7</th>\n      <th>ClmDiagnosisCode_8</th>\n      <th>ClmDiagnosisCode_9</th>\n      <th>ClmDiagnosisCode_10</th>\n      <th>ClmProcedureCode_1</th>\n      <th>ClmProcedureCode_2</th>\n      <th>ClmProcedureCode_3</th>\n      <th>ClmProcedureCode_4</th>\n      <th>ClmProcedureCode_5</th>\n      <th>ClmProcedureCode_6</th>\n    </tr>\n  </thead>\n  <tbody>\n    <tr>\n      <th>0</th>\n      <td>BENE11014</td>\n      <td>CLM67387</td>\n      <td>2009-09-09</td>\n      <td>2009-09-16</td>\n      <td>PRV57070</td>\n      <td>9000</td>\n      <td>PHY317786</td>\n      <td>PHY427017</td>\n      <td>NaN</td>\n      <td>2009-09-09</td>\n      <td>...</td>\n      <td>5990</td>\n      <td>570</td>\n      <td>41071</td>\n      <td>4280</td>\n      <td>4443.0</td>\n      <td>5849.0</td>\n      <td>NaN</td>\n      <td>NaN</td>\n      <td>NaN</td>\n      <td>NaN</td>\n    </tr>\n    <tr>\n      <th>1</th>\n      <td>BENE11017</td>\n      <td>CLM31237</td>\n      <td>2008-12-25</td>\n      <td>2009-01-08</td>\n      <td>PRV54750</td>\n      <td>14000</td>\n      <td>PHY314656</td>\n      <td>PHY426644</td>\n      <td>NaN</td>\n      <td>2008-12-25</td>\n      <td>...</td>\n      <td>4549</td>\n      <td>29570</td>\n      <td>34831</td>\n      <td>NaN</td>\n      <td>5551.0</td>\n      <td>NaN</td>\n      <td>NaN</td>\n      <td>NaN</td>\n      <td>NaN</td>\n      <td>NaN</td>\n    </tr>\n    <tr>\n      <th>2</th>\n      <td>BENE11026</td>\n      <td>CLM78930</td>\n      <td>2009-12-09</td>\n      <td>2009-12-13</td>\n      <td>PRV53758</td>\n      <td>2000</td>\n      <td>PHY349495</td>\n      <td>NaN</td>\n      <td>NaN</td>\n      <td>2009-12-09</td>\n      <td>...</td>\n      <td>78650</td>\n      <td>7813</td>\n      <td>4254</td>\n      <td>NaN</td>\n      <td>NaN</td>\n      <td>NaN</td>\n      <td>NaN</td>\n      <td>NaN</td>\n      <td>NaN</td>\n      <td>NaN</td>\n    </tr>\n    <tr>\n      <th>3</th>\n      <td>BENE11031</td>\n      <td>CLM56810</td>\n      <td>2009-06-23</td>\n      <td>2009-07-06</td>\n      <td>PRV55825</td>\n      <td>16000</td>\n      <td>PHY429538</td>\n      <td>PHY371893</td>\n      <td>NaN</td>\n      <td>2009-06-23</td>\n      <td>...</td>\n      <td>4254</td>\n      <td>41400</td>\n      <td>5849</td>\n      <td>41401</td>\n      <td>8152.0</td>\n      <td>3320.0</td>\n      <td>NaN</td>\n      <td>NaN</td>\n      <td>NaN</td>\n      <td>NaN</td>\n    </tr>\n    <tr>\n      <th>4</th>\n      <td>BENE11085</td>\n      <td>CLM34625</td>\n      <td>2009-01-20</td>\n      <td>2009-01-31</td>\n      <td>PRV52338</td>\n      <td>19000</td>\n      <td>PHY397161</td>\n      <td>NaN</td>\n      <td>NaN</td>\n      <td>2009-01-20</td>\n      <td>...</td>\n      <td>V6109</td>\n      <td>7242</td>\n      <td>NaN</td>\n      <td>NaN</td>\n      <td>NaN</td>\n      <td>NaN</td>\n      <td>NaN</td>\n      <td>NaN</td>\n      <td>NaN</td>\n      <td>NaN</td>\n    </tr>\n    <tr>\n      <th>...</th>\n      <td>...</td>\n      <td>...</td>\n      <td>...</td>\n      <td>...</td>\n      <td>...</td>\n      <td>...</td>\n      <td>...</td>\n      <td>...</td>\n      <td>...</td>\n      <td>...</td>\n      <td>...</td>\n      <td>...</td>\n      <td>...</td>\n      <td>...</td>\n      <td>...</td>\n      <td>...</td>\n      <td>...</td>\n      <td>...</td>\n      <td>...</td>\n      <td>...</td>\n      <td>...</td>\n    </tr>\n    <tr>\n      <th>9546</th>\n      <td>BENE159139</td>\n      <td>CLM61015</td>\n      <td>2009-07-24</td>\n      <td>2009-07-26</td>\n      <td>PRV55021</td>\n      <td>23000</td>\n      <td>PHY406228</td>\n      <td>PHY406228</td>\n      <td>NaN</td>\n      <td>2009-07-24</td>\n      <td>...</td>\n      <td>53540</td>\n      <td>5715</td>\n      <td>56210</td>\n      <td>NaN</td>\n      <td>5122.0</td>\n      <td>4019.0</td>\n      <td>NaN</td>\n      <td>NaN</td>\n      <td>NaN</td>\n      <td>NaN</td>\n    </tr>\n    <tr>\n      <th>9547</th>\n      <td>BENE159143</td>\n      <td>CLM42885</td>\n      <td>2009-03-16</td>\n      <td>2009-03-29</td>\n      <td>PRV55017</td>\n      <td>34000</td>\n      <td>PHY354080</td>\n      <td>NaN</td>\n      <td>NaN</td>\n      <td>2009-03-16</td>\n      <td>...</td>\n      <td>78720</td>\n      <td>72402</td>\n      <td>V5413</td>\n      <td>NaN</td>\n      <td>NaN</td>\n      <td>NaN</td>\n      <td>NaN</td>\n      <td>NaN</td>\n      <td>NaN</td>\n      <td>NaN</td>\n    </tr>\n    <tr>\n      <th>9548</th>\n      <td>BENE159155</td>\n      <td>CLM67124</td>\n      <td>2009-09-07</td>\n      <td>2009-10-12</td>\n      <td>PRV53758</td>\n      <td>5000</td>\n      <td>PHY338118</td>\n      <td>NaN</td>\n      <td>NaN</td>\n      <td>2009-09-07</td>\n      <td>...</td>\n      <td>E8798</td>\n      <td>60000</td>\n      <td>28521</td>\n      <td>4280</td>\n      <td>NaN</td>\n      <td>NaN</td>\n      <td>NaN</td>\n      <td>NaN</td>\n      <td>NaN</td>\n      <td>NaN</td>\n    </tr>\n    <tr>\n      <th>9549</th>\n      <td>BENE159181</td>\n      <td>CLM72016</td>\n      <td>2009-10-14</td>\n      <td>2009-10-17</td>\n      <td>PRV57195</td>\n      <td>3000</td>\n      <td>PHY328451</td>\n      <td>NaN</td>\n      <td>NaN</td>\n      <td>2009-10-14</td>\n      <td>...</td>\n      <td>2724</td>\n      <td>25080</td>\n      <td>29383</td>\n      <td>NaN</td>\n      <td>NaN</td>\n      <td>NaN</td>\n      <td>NaN</td>\n      <td>NaN</td>\n      <td>NaN</td>\n      <td>NaN</td>\n    </tr>\n    <tr>\n      <th>9550</th>\n      <td>BENE159196</td>\n      <td>CLM47313</td>\n      <td>2009-04-17</td>\n      <td>2009-04-18</td>\n      <td>PRV51854</td>\n      <td>2000</td>\n      <td>PHY377087</td>\n      <td>NaN</td>\n      <td>NaN</td>\n      <td>2009-04-17</td>\n      <td>...</td>\n      <td>25000</td>\n      <td>V1251</td>\n      <td>2720</td>\n      <td>NaN</td>\n      <td>NaN</td>\n      <td>NaN</td>\n      <td>NaN</td>\n      <td>NaN</td>\n      <td>NaN</td>\n      <td>NaN</td>\n    </tr>\n  </tbody>\n</table>\n<p>9551 rows × 30 columns</p>\n</div>"
     },
     "execution_count": 345,
     "metadata": {},
     "output_type": "execute_result"
    }
   ],
   "source": [
    "df_test_inpatient"
   ],
   "metadata": {
    "collapsed": false,
    "ExecuteTime": {
     "end_time": "2023-12-03T01:52:01.548369Z",
     "start_time": "2023-12-03T01:52:01.526314Z"
    }
   },
   "id": "c7885e74237b343b"
  },
  {
   "cell_type": "code",
   "execution_count": 346,
   "outputs": [
    {
     "data": {
      "text/plain": "           BeneID ClaimStartDt  ClaimEndDt  InscClaimAmtReimbursed  \\\n0       BENE11001   2009-04-12  2009-04-18                   26000   \n1       BENE11001   2009-08-31  2009-09-02                    5000   \n2       BENE11001   2009-09-17  2009-09-20                    5000   \n3       BENE11011   2009-02-14  2009-02-22                    5000   \n4       BENE11014   2009-08-13  2009-08-30                   10000   \n...           ...          ...         ...                     ...   \n40469  BENE159167   2009-09-28  2009-10-02                    7000   \n40470  BENE159175   2009-11-03  2009-11-06                    4000   \n40471  BENE159177   2009-11-18  2009-11-22                    3000   \n40472  BENE159177   2009-12-17  2009-12-18                    5000   \n40473  BENE159188   2009-09-28  2009-10-06                   15000   \n\n      AdmissionDt  DeductibleAmtPaid DischargeDt  \n0      2009-04-12             1068.0  2009-04-18  \n1      2009-08-31             1068.0  2009-09-02  \n2      2009-09-17             1068.0  2009-09-20  \n3      2009-02-14             1068.0  2009-02-22  \n4      2009-08-13             1068.0  2009-08-30  \n...           ...                ...         ...  \n40469  2009-09-28             1068.0  2009-10-02  \n40470  2009-11-03             1068.0  2009-11-06  \n40471  2009-11-18             1068.0  2009-11-22  \n40472  2009-12-17             1068.0  2009-12-18  \n40473  2009-09-28             1068.0  2009-10-06  \n\n[40474 rows x 7 columns]",
      "text/html": "<div>\n<style scoped>\n    .dataframe tbody tr th:only-of-type {\n        vertical-align: middle;\n    }\n\n    .dataframe tbody tr th {\n        vertical-align: top;\n    }\n\n    .dataframe thead th {\n        text-align: right;\n    }\n</style>\n<table border=\"1\" class=\"dataframe\">\n  <thead>\n    <tr style=\"text-align: right;\">\n      <th></th>\n      <th>BeneID</th>\n      <th>ClaimStartDt</th>\n      <th>ClaimEndDt</th>\n      <th>InscClaimAmtReimbursed</th>\n      <th>AdmissionDt</th>\n      <th>DeductibleAmtPaid</th>\n      <th>DischargeDt</th>\n    </tr>\n  </thead>\n  <tbody>\n    <tr>\n      <th>0</th>\n      <td>BENE11001</td>\n      <td>2009-04-12</td>\n      <td>2009-04-18</td>\n      <td>26000</td>\n      <td>2009-04-12</td>\n      <td>1068.0</td>\n      <td>2009-04-18</td>\n    </tr>\n    <tr>\n      <th>1</th>\n      <td>BENE11001</td>\n      <td>2009-08-31</td>\n      <td>2009-09-02</td>\n      <td>5000</td>\n      <td>2009-08-31</td>\n      <td>1068.0</td>\n      <td>2009-09-02</td>\n    </tr>\n    <tr>\n      <th>2</th>\n      <td>BENE11001</td>\n      <td>2009-09-17</td>\n      <td>2009-09-20</td>\n      <td>5000</td>\n      <td>2009-09-17</td>\n      <td>1068.0</td>\n      <td>2009-09-20</td>\n    </tr>\n    <tr>\n      <th>3</th>\n      <td>BENE11011</td>\n      <td>2009-02-14</td>\n      <td>2009-02-22</td>\n      <td>5000</td>\n      <td>2009-02-14</td>\n      <td>1068.0</td>\n      <td>2009-02-22</td>\n    </tr>\n    <tr>\n      <th>4</th>\n      <td>BENE11014</td>\n      <td>2009-08-13</td>\n      <td>2009-08-30</td>\n      <td>10000</td>\n      <td>2009-08-13</td>\n      <td>1068.0</td>\n      <td>2009-08-30</td>\n    </tr>\n    <tr>\n      <th>...</th>\n      <td>...</td>\n      <td>...</td>\n      <td>...</td>\n      <td>...</td>\n      <td>...</td>\n      <td>...</td>\n      <td>...</td>\n    </tr>\n    <tr>\n      <th>40469</th>\n      <td>BENE159167</td>\n      <td>2009-09-28</td>\n      <td>2009-10-02</td>\n      <td>7000</td>\n      <td>2009-09-28</td>\n      <td>1068.0</td>\n      <td>2009-10-02</td>\n    </tr>\n    <tr>\n      <th>40470</th>\n      <td>BENE159175</td>\n      <td>2009-11-03</td>\n      <td>2009-11-06</td>\n      <td>4000</td>\n      <td>2009-11-03</td>\n      <td>1068.0</td>\n      <td>2009-11-06</td>\n    </tr>\n    <tr>\n      <th>40471</th>\n      <td>BENE159177</td>\n      <td>2009-11-18</td>\n      <td>2009-11-22</td>\n      <td>3000</td>\n      <td>2009-11-18</td>\n      <td>1068.0</td>\n      <td>2009-11-22</td>\n    </tr>\n    <tr>\n      <th>40472</th>\n      <td>BENE159177</td>\n      <td>2009-12-17</td>\n      <td>2009-12-18</td>\n      <td>5000</td>\n      <td>2009-12-17</td>\n      <td>1068.0</td>\n      <td>2009-12-18</td>\n    </tr>\n    <tr>\n      <th>40473</th>\n      <td>BENE159188</td>\n      <td>2009-09-28</td>\n      <td>2009-10-06</td>\n      <td>15000</td>\n      <td>2009-09-28</td>\n      <td>1068.0</td>\n      <td>2009-10-06</td>\n    </tr>\n  </tbody>\n</table>\n<p>40474 rows × 7 columns</p>\n</div>"
     },
     "execution_count": 346,
     "metadata": {},
     "output_type": "execute_result"
    }
   ],
   "source": [
    "df_train_inpatient[[\"BeneID\",\"ClaimStartDt\",\"ClaimEndDt\",\"InscClaimAmtReimbursed\",\"AdmissionDt\",\"DeductibleAmtPaid\",\"DischargeDt\"]]"
   ],
   "metadata": {
    "collapsed": false,
    "ExecuteTime": {
     "end_time": "2023-12-03T01:52:02.344806Z",
     "start_time": "2023-12-03T01:52:02.223152Z"
    }
   },
   "id": "b342029deb5577a2"
  },
  {
   "cell_type": "code",
   "execution_count": 339,
   "outputs": [
    {
     "data": {
      "text/plain": "array(['201', '750', '883', '067', '975', '597', '390', '379', '294',\n       '262', '857', '876', '030', '202', '165', '482', '882', '226',\n       '627', '346', '167', '853', '247', '198', '688', '175', '240',\n       '206', '500', '712', '897', '101', '307', '255', '183', '302',\n       '190', '884', '655', '368', '548', '186', '256', '216', '535',\n       '166', '095', '022', '986', '357', '637', '102', '630', '409',\n       '316', '241', '230', '208', '541', '624', '869', '698', '653',\n       '440', '575', '654', '381', '288', '344', '663', '187', '306',\n       '225', '093', '184', '078', '895', '337', '197', '872', '199',\n       '281', '200', '871', '887', '351', '643', '289', '094', '592',\n       '295', '484', '242', '618', '485', '290', '673', '421', '909',\n       '229', '308', '453', '638', '454', '840', '558', '377', '940',\n       '259', '311', '231', '461', '951', '303', '714', '446', '207',\n       '356', '867', '434', '620', '180', '866', '553', '205', '561',\n       '194', '031', '406', '475', '830', '858', '668', '296', '988',\n       '467', '470', '693', '089', '236', '435', '989', '711', '472',\n       '257', '394', '353', '675', '234', '802', '584', '181', '945',\n       '292', '376', '239', '740', '550', '130', '950', '253', '619',\n       '039', '195', '188', '728', '056', '036', '164', '658', '168',\n       '098', '285', '456', '347', '539', '410', '385', '380', '659',\n       '727', '639', '176', '055', '100', '442', '177', '984', '625',\n       '814', '383', '471', '666', '339', '179', '616', '235', '305',\n       '309', '941', '222', '298', '579', '465', '329', '689', '373',\n       '335', '443', '657', '672', '099', '499', '414', '280', '392',\n       '301', '189', '034', '387', '739', '424', '917', 'OTH', '283',\n       '286', '077', '466', '816', '059', '808', '038', '881', '071',\n       '595', '389', '075', '326', '310', '863', '355', '315', '885',\n       '644', '384', '652', '221', '312', '420', '583', '345', '656',\n       '021', '629', '870', '717', '491', '372', '626', '244', '947',\n       '999', '585', '747', '694', '343', '374', '903', '223', '218',\n       '232', '254', '730', '282', '534', '338', '854', '855', '959',\n       '669', '263', '598', '264', '237', '391', '348', '027', '204',\n       '741', '744', '551', '134', '674', '508', '564', '182', '352',\n       '375', '578', '382', '386', '243', '000', '949', '987', '868',\n       '939', '245', '332', '252', '665', '069', '699', '299', '349',\n       '196', '054', '193', '498', '849', '238', '755', '090', '946',\n       '692', '504', '660', '001', '358', '515', '642', '088', '058',\n       '682', '074', '070', '378', '129', '458', '623', '053', '617',\n       '661', '096', '336', '192', '249', '395', '009', '423', '488',\n       '191', '417', '433', '251', '486', '203', '856', '880', '462',\n       '915', '503', '331', '219', '667', '217', '233', '304', '066',\n       '514', '886', '557', '432', '487', '250', '835', '291', '685',\n       '542', '341', '580', '864', '695', '418', '439', '599', '862',\n       '087', '012', '497', '734', '671', '540', '687', '388', '573',\n       '509', '981', '496', '135', '008', '919', '837', '549', '460',\n       '641', '920', '894', '416', '804', '748', '063', '023', '813',\n       '603', '628', '313', '533', '086', '615', '686', '157', '502',\n       '438', '091', '545', '248', '261', '178', '082', '552', '370',\n       '065', '684', '412', '821', '908', '640', '606', '501', '328',\n       '060', '477', '547', '809', '463', '476', '156', '948', '662',\n       '726', '227', '468', '020', '799', '690', '437', '537', '072',\n       '670', '544', '228', '645', '185', '079', '922', '700', '607',\n       '935', '284', '300', '445', '478', '546', '002', '596', '334',\n       '444', '811', '480', '425', '691', '163', '536', '393', '511',\n       '085', '555', '983', '407', '506', '622', '260', '459', '068',\n       '576', '333', '297', '287', '330', '340', '916', '064', '354',\n       '092', '220', '029', '005', '724', '415', '566', '441', '563',\n       '577', '081', '621', '729', '556', '490', '153', '565', '224',\n       '815', '097', '146', '904', '479', '342', '574', '084', '507',\n       '517', '823', '605', '024', '614', '982', '865', '495', '419',\n       '293', '560', '839', '057', '215', '246', '512', '543', '132',\n       '559', '037', '117', '538', '516', '510', '722', '369', '062',\n       '906', '494', '464', '683', '083', '314', '026', '746', '756',\n       '769', '125', '754', '155', '052', '489', '505', '582', '847',\n       '073', '969', '028', '696', '150', '408', '151', '664', '958',\n       '985', '913', '921', '757', '483', '697', '032', '327', '820',\n       '749', '103', '736', '042', '896', '907', '735', '801', '602',\n       '923', '826', '258', '041', '493', '474', '998', '011', '594',\n       '113', '076', '760', '371', '810', '158', '061', '800', '137',\n       '905', '554', '963', '562', '455', '713', '604', '350', '080',\n       '848', '033', '825', '136', '708', '513', '469', '436', '738',\n       '844', '492', '723', '836', '600', '782', '914', '822', '025',\n       '974', '759', '902', '843', '812', '766', '901', '977', '918',\n       '803', '133', '413', '003', '718', '035', '138', '593', '581',\n       '422', '737', '827', '745', '457', '725', '970', '976', '709',\n       '824', '481', '040', '139', '114', '845', '148', '405', '147',\n       '007', '006', '774', '716', '411', '742', '004', '761', '154',\n       '131', '834', '781', '715', '013', '841', '601', '473', '829',\n       '743', '828', '159', '770', '010', '957', '124', '758', '842',\n       '965', '964', '956', '929', '707', '149', '955', '777', '122',\n       '846', '152', '779', '115', '710', '927', '778', '116', '934',\n       '928', '776', '933', '838', '765', '775', '768'], dtype=object)"
     },
     "execution_count": 339,
     "metadata": {},
     "output_type": "execute_result"
    }
   ],
   "source": [
    "df_train_inpatient[\"DiagnosisGroupCode\"].unique()"
   ],
   "metadata": {
    "collapsed": false,
    "ExecuteTime": {
     "end_time": "2023-12-03T01:48:25.049214Z",
     "start_time": "2023-12-03T01:48:25.046441Z"
    }
   },
   "id": "ab844c7f50fb1abf"
  },
  {
   "cell_type": "code",
   "execution_count": null,
   "outputs": [],
   "source": [],
   "metadata": {
    "collapsed": false
   },
   "id": "61b94a03e48889fd"
  }
 ],
 "metadata": {
  "kernelspec": {
   "display_name": "Python 3",
   "language": "python",
   "name": "python3"
  },
  "language_info": {
   "codemirror_mode": {
    "name": "ipython",
    "version": 2
   },
   "file_extension": ".py",
   "mimetype": "text/x-python",
   "name": "python",
   "nbconvert_exporter": "python",
   "pygments_lexer": "ipython2",
   "version": "2.7.6"
  }
 },
 "nbformat": 4,
 "nbformat_minor": 5
}
