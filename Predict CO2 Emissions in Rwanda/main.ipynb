{
 "cells": [
  {
   "cell_type": "code",
   "execution_count": 1,
   "id": "initial_id",
   "metadata": {
    "collapsed": true,
    "ExecuteTime": {
     "end_time": "2023-08-15T18:16:49.358234Z",
     "start_time": "2023-08-15T18:16:48.582622Z"
    }
   },
   "outputs": [],
   "source": [
    "import numpy as np\n",
    "import pandas as pd\n",
    "import matplotlib.pyplot as plt\n",
    "import seaborn as sns\n",
    "from math import *\n",
    "from sklearn.preprocessing import *\n",
    "from sklearn.model_selection import *\n",
    "from sklearn.linear_model import *\n",
    "from sklearn.ensemble import *\n",
    "from sklearn.naive_bayes import *\n",
    "from sklearn.metrics import *\n",
    "from sklearn.discriminant_analysis import *"
   ]
  },
  {
   "cell_type": "code",
   "execution_count": 2,
   "outputs": [],
   "source": [
    "df_train = pd.read_csv(\"train.csv\")"
   ],
   "metadata": {
    "collapsed": false,
    "ExecuteTime": {
     "end_time": "2023-08-15T18:17:51.686569Z",
     "start_time": "2023-08-15T18:17:51.203951Z"
    }
   },
   "id": "5d096df864c67743"
  },
  {
   "cell_type": "code",
   "execution_count": 4,
   "outputs": [
    {
     "data": {
      "text/plain": "       ID_LAT_LON_YEAR_WEEK  latitude  longitude   year  week_no  \\\n0                     False     False      False  False    False   \n1                     False     False      False  False    False   \n2                     False     False      False  False    False   \n3                     False     False      False  False    False   \n4                     False     False      False  False    False   \n...                     ...       ...        ...    ...      ...   \n79018                 False     False      False  False    False   \n79019                 False     False      False  False    False   \n79020                 False     False      False  False    False   \n79021                 False     False      False  False    False   \n79022                 False     False      False  False    False   \n\n       SulphurDioxide_SO2_column_number_density  \\\n0                                         False   \n1                                         False   \n2                                         False   \n3                                          True   \n4                                         False   \n...                                         ...   \n79018                                     False   \n79019                                     False   \n79020                                      True   \n79021                                     False   \n79022                                     False   \n\n       SulphurDioxide_SO2_column_number_density_amf  \\\n0                                             False   \n1                                             False   \n2                                             False   \n3                                              True   \n4                                             False   \n...                                             ...   \n79018                                         False   \n79019                                         False   \n79020                                          True   \n79021                                         False   \n79022                                         False   \n\n       SulphurDioxide_SO2_slant_column_number_density  \\\n0                                               False   \n1                                               False   \n2                                               False   \n3                                                True   \n4                                               False   \n...                                               ...   \n79018                                           False   \n79019                                           False   \n79020                                            True   \n79021                                           False   \n79022                                           False   \n\n       SulphurDioxide_cloud_fraction  SulphurDioxide_sensor_azimuth_angle  \\\n0                              False                                False   \n1                              False                                False   \n2                              False                                False   \n3                               True                                 True   \n4                              False                                False   \n...                              ...                                  ...   \n79018                          False                                False   \n79019                          False                                False   \n79020                           True                                 True   \n79021                          False                                False   \n79022                          False                                False   \n\n       ...  Cloud_cloud_top_height  Cloud_cloud_base_pressure  \\\n0      ...                   False                      False   \n1      ...                   False                      False   \n2      ...                   False                      False   \n3      ...                   False                      False   \n4      ...                   False                      False   \n...    ...                     ...                        ...   \n79018  ...                   False                      False   \n79019  ...                   False                      False   \n79020  ...                   False                      False   \n79021  ...                   False                      False   \n79022  ...                   False                      False   \n\n       Cloud_cloud_base_height  Cloud_cloud_optical_depth  \\\n0                        False                      False   \n1                        False                      False   \n2                        False                      False   \n3                        False                      False   \n4                        False                      False   \n...                        ...                        ...   \n79018                    False                      False   \n79019                    False                      False   \n79020                    False                      False   \n79021                    False                      False   \n79022                    False                      False   \n\n       Cloud_surface_albedo  Cloud_sensor_azimuth_angle  \\\n0                     False                       False   \n1                     False                       False   \n2                     False                       False   \n3                     False                       False   \n4                     False                       False   \n...                     ...                         ...   \n79018                 False                       False   \n79019                 False                       False   \n79020                 False                       False   \n79021                 False                       False   \n79022                 False                       False   \n\n       Cloud_sensor_zenith_angle  Cloud_solar_azimuth_angle  \\\n0                          False                      False   \n1                          False                      False   \n2                          False                      False   \n3                          False                      False   \n4                          False                      False   \n...                          ...                        ...   \n79018                      False                      False   \n79019                      False                      False   \n79020                      False                      False   \n79021                      False                      False   \n79022                      False                      False   \n\n       Cloud_solar_zenith_angle  emission  \n0                         False     False  \n1                         False     False  \n2                         False     False  \n3                         False     False  \n4                         False     False  \n...                         ...       ...  \n79018                     False     False  \n79019                     False     False  \n79020                     False     False  \n79021                     False     False  \n79022                     False     False  \n\n[79023 rows x 76 columns]",
      "text/html": "<div>\n<style scoped>\n    .dataframe tbody tr th:only-of-type {\n        vertical-align: middle;\n    }\n\n    .dataframe tbody tr th {\n        vertical-align: top;\n    }\n\n    .dataframe thead th {\n        text-align: right;\n    }\n</style>\n<table border=\"1\" class=\"dataframe\">\n  <thead>\n    <tr style=\"text-align: right;\">\n      <th></th>\n      <th>ID_LAT_LON_YEAR_WEEK</th>\n      <th>latitude</th>\n      <th>longitude</th>\n      <th>year</th>\n      <th>week_no</th>\n      <th>SulphurDioxide_SO2_column_number_density</th>\n      <th>SulphurDioxide_SO2_column_number_density_amf</th>\n      <th>SulphurDioxide_SO2_slant_column_number_density</th>\n      <th>SulphurDioxide_cloud_fraction</th>\n      <th>SulphurDioxide_sensor_azimuth_angle</th>\n      <th>...</th>\n      <th>Cloud_cloud_top_height</th>\n      <th>Cloud_cloud_base_pressure</th>\n      <th>Cloud_cloud_base_height</th>\n      <th>Cloud_cloud_optical_depth</th>\n      <th>Cloud_surface_albedo</th>\n      <th>Cloud_sensor_azimuth_angle</th>\n      <th>Cloud_sensor_zenith_angle</th>\n      <th>Cloud_solar_azimuth_angle</th>\n      <th>Cloud_solar_zenith_angle</th>\n      <th>emission</th>\n    </tr>\n  </thead>\n  <tbody>\n    <tr>\n      <th>0</th>\n      <td>False</td>\n      <td>False</td>\n      <td>False</td>\n      <td>False</td>\n      <td>False</td>\n      <td>False</td>\n      <td>False</td>\n      <td>False</td>\n      <td>False</td>\n      <td>False</td>\n      <td>...</td>\n      <td>False</td>\n      <td>False</td>\n      <td>False</td>\n      <td>False</td>\n      <td>False</td>\n      <td>False</td>\n      <td>False</td>\n      <td>False</td>\n      <td>False</td>\n      <td>False</td>\n    </tr>\n    <tr>\n      <th>1</th>\n      <td>False</td>\n      <td>False</td>\n      <td>False</td>\n      <td>False</td>\n      <td>False</td>\n      <td>False</td>\n      <td>False</td>\n      <td>False</td>\n      <td>False</td>\n      <td>False</td>\n      <td>...</td>\n      <td>False</td>\n      <td>False</td>\n      <td>False</td>\n      <td>False</td>\n      <td>False</td>\n      <td>False</td>\n      <td>False</td>\n      <td>False</td>\n      <td>False</td>\n      <td>False</td>\n    </tr>\n    <tr>\n      <th>2</th>\n      <td>False</td>\n      <td>False</td>\n      <td>False</td>\n      <td>False</td>\n      <td>False</td>\n      <td>False</td>\n      <td>False</td>\n      <td>False</td>\n      <td>False</td>\n      <td>False</td>\n      <td>...</td>\n      <td>False</td>\n      <td>False</td>\n      <td>False</td>\n      <td>False</td>\n      <td>False</td>\n      <td>False</td>\n      <td>False</td>\n      <td>False</td>\n      <td>False</td>\n      <td>False</td>\n    </tr>\n    <tr>\n      <th>3</th>\n      <td>False</td>\n      <td>False</td>\n      <td>False</td>\n      <td>False</td>\n      <td>False</td>\n      <td>True</td>\n      <td>True</td>\n      <td>True</td>\n      <td>True</td>\n      <td>True</td>\n      <td>...</td>\n      <td>False</td>\n      <td>False</td>\n      <td>False</td>\n      <td>False</td>\n      <td>False</td>\n      <td>False</td>\n      <td>False</td>\n      <td>False</td>\n      <td>False</td>\n      <td>False</td>\n    </tr>\n    <tr>\n      <th>4</th>\n      <td>False</td>\n      <td>False</td>\n      <td>False</td>\n      <td>False</td>\n      <td>False</td>\n      <td>False</td>\n      <td>False</td>\n      <td>False</td>\n      <td>False</td>\n      <td>False</td>\n      <td>...</td>\n      <td>False</td>\n      <td>False</td>\n      <td>False</td>\n      <td>False</td>\n      <td>False</td>\n      <td>False</td>\n      <td>False</td>\n      <td>False</td>\n      <td>False</td>\n      <td>False</td>\n    </tr>\n    <tr>\n      <th>...</th>\n      <td>...</td>\n      <td>...</td>\n      <td>...</td>\n      <td>...</td>\n      <td>...</td>\n      <td>...</td>\n      <td>...</td>\n      <td>...</td>\n      <td>...</td>\n      <td>...</td>\n      <td>...</td>\n      <td>...</td>\n      <td>...</td>\n      <td>...</td>\n      <td>...</td>\n      <td>...</td>\n      <td>...</td>\n      <td>...</td>\n      <td>...</td>\n      <td>...</td>\n      <td>...</td>\n    </tr>\n    <tr>\n      <th>79018</th>\n      <td>False</td>\n      <td>False</td>\n      <td>False</td>\n      <td>False</td>\n      <td>False</td>\n      <td>False</td>\n      <td>False</td>\n      <td>False</td>\n      <td>False</td>\n      <td>False</td>\n      <td>...</td>\n      <td>False</td>\n      <td>False</td>\n      <td>False</td>\n      <td>False</td>\n      <td>False</td>\n      <td>False</td>\n      <td>False</td>\n      <td>False</td>\n      <td>False</td>\n      <td>False</td>\n    </tr>\n    <tr>\n      <th>79019</th>\n      <td>False</td>\n      <td>False</td>\n      <td>False</td>\n      <td>False</td>\n      <td>False</td>\n      <td>False</td>\n      <td>False</td>\n      <td>False</td>\n      <td>False</td>\n      <td>False</td>\n      <td>...</td>\n      <td>False</td>\n      <td>False</td>\n      <td>False</td>\n      <td>False</td>\n      <td>False</td>\n      <td>False</td>\n      <td>False</td>\n      <td>False</td>\n      <td>False</td>\n      <td>False</td>\n    </tr>\n    <tr>\n      <th>79020</th>\n      <td>False</td>\n      <td>False</td>\n      <td>False</td>\n      <td>False</td>\n      <td>False</td>\n      <td>True</td>\n      <td>True</td>\n      <td>True</td>\n      <td>True</td>\n      <td>True</td>\n      <td>...</td>\n      <td>False</td>\n      <td>False</td>\n      <td>False</td>\n      <td>False</td>\n      <td>False</td>\n      <td>False</td>\n      <td>False</td>\n      <td>False</td>\n      <td>False</td>\n      <td>False</td>\n    </tr>\n    <tr>\n      <th>79021</th>\n      <td>False</td>\n      <td>False</td>\n      <td>False</td>\n      <td>False</td>\n      <td>False</td>\n      <td>False</td>\n      <td>False</td>\n      <td>False</td>\n      <td>False</td>\n      <td>False</td>\n      <td>...</td>\n      <td>False</td>\n      <td>False</td>\n      <td>False</td>\n      <td>False</td>\n      <td>False</td>\n      <td>False</td>\n      <td>False</td>\n      <td>False</td>\n      <td>False</td>\n      <td>False</td>\n    </tr>\n    <tr>\n      <th>79022</th>\n      <td>False</td>\n      <td>False</td>\n      <td>False</td>\n      <td>False</td>\n      <td>False</td>\n      <td>False</td>\n      <td>False</td>\n      <td>False</td>\n      <td>False</td>\n      <td>False</td>\n      <td>...</td>\n      <td>False</td>\n      <td>False</td>\n      <td>False</td>\n      <td>False</td>\n      <td>False</td>\n      <td>False</td>\n      <td>False</td>\n      <td>False</td>\n      <td>False</td>\n      <td>False</td>\n    </tr>\n  </tbody>\n</table>\n<p>79023 rows × 76 columns</p>\n</div>"
     },
     "execution_count": 4,
     "metadata": {},
     "output_type": "execute_result"
    }
   ],
   "source": [
    "df_train.isna()"
   ],
   "metadata": {
    "collapsed": false,
    "ExecuteTime": {
     "end_time": "2023-08-15T18:18:06.726919Z",
     "start_time": "2023-08-15T18:18:06.701247Z"
    }
   },
   "id": "ef5077349c676080"
  },
  {
   "cell_type": "code",
   "execution_count": null,
   "outputs": [],
   "source": [],
   "metadata": {
    "collapsed": false
   },
   "id": "ff7e34a590fb7739"
  }
 ],
 "metadata": {
  "kernelspec": {
   "display_name": "Python 3",
   "language": "python",
   "name": "python3"
  },
  "language_info": {
   "codemirror_mode": {
    "name": "ipython",
    "version": 2
   },
   "file_extension": ".py",
   "mimetype": "text/x-python",
   "name": "python",
   "nbconvert_exporter": "python",
   "pygments_lexer": "ipython2",
   "version": "2.7.6"
  }
 },
 "nbformat": 4,
 "nbformat_minor": 5
}
