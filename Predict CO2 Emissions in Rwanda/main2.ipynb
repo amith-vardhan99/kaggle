{
 "cells": [
  {
   "cell_type": "code",
   "execution_count": 1,
   "id": "initial_id",
   "metadata": {
    "collapsed": true,
    "ExecuteTime": {
     "end_time": "2023-08-15T23:30:37.840499Z",
     "start_time": "2023-08-15T23:30:37.675810Z"
    }
   },
   "outputs": [],
   "source": [
    "import numpy as np\n",
    "import pandas as pd\n",
    "import matplotlib.pyplot as plt\n",
    "import seaborn as sns\n",
    "from math import *\n",
    "from sklearn.preprocessing import *\n",
    "from sklearn.model_selection import *\n",
    "from sklearn.linear_model import *\n",
    "from sklearn.ensemble import *\n",
    "from sklearn.naive_bayes import *\n",
    "from sklearn.metrics import *\n",
    "from sklearn.discriminant_analysis import *\n",
    "from sklearn.feature_selection import *\n",
    "import warnings\n",
    "warnings.filterwarnings(\"ignore\")\n",
    "from sklearn.svm import *"
   ]
  },
  {
   "cell_type": "code",
   "execution_count": 2,
   "outputs": [],
   "source": [
    "df_train = pd.read_csv(\"train.csv\")\n",
    "df_train_na = df_train.isna().sum()\n",
    "for i in df_train:\n",
    "    if df_train_na[i] > 0:\n",
    "        avg = df_train[i].median()\n",
    "        df_train[i] = df_train[i].fillna(avg)\n",
    "\n",
    "col = list(df_train.columns.values[1:3])\n",
    "col += list(df_train.columns.values[5:75])\n",
    "\n",
    "df_train_pre = df_train.copy()\n",
    "\n",
    "ss = StandardScaler()\n",
    "scale = ss.fit(df_train[col])\n",
    "\n",
    "g = pd.DataFrame(scale.transform(df_train[col]),columns=col)\n",
    "df_train_pre[col] = g"
   ],
   "metadata": {
    "collapsed": false,
    "ExecuteTime": {
     "end_time": "2023-08-15T23:30:38.667782Z",
     "start_time": "2023-08-15T23:30:37.841054Z"
    }
   },
   "id": "74a38a097cca4418"
  },
  {
   "cell_type": "code",
   "execution_count": 3,
   "outputs": [],
   "source": [
    "df_test = pd.read_csv(\"test.csv\")\n",
    "df_test_na = df_test.isna().sum()\n",
    "for i in df_test:\n",
    "    if df_test_na[i] > 0:\n",
    "        avg = df_test[i].median()\n",
    "        df_test[i] = df_test[i].fillna(avg)\n",
    "\n",
    "col = list(df_test.columns.values[1:3])\n",
    "col += list(df_test.columns.values[5:75])\n",
    "\n",
    "df_test_pre = df_test.copy()\n",
    "\n",
    "ss = StandardScaler()\n",
    "scale = ss.fit(df_test[col])\n",
    "\n",
    "g = pd.DataFrame(scale.transform(df_test[col]),columns=col)\n",
    "df_test_pre[col] = g"
   ],
   "metadata": {
    "collapsed": false,
    "ExecuteTime": {
     "end_time": "2023-08-15T23:30:38.905391Z",
     "start_time": "2023-08-15T23:30:38.668794Z"
    }
   },
   "id": "d8cefe730d29264c"
  },
  {
   "cell_type": "code",
   "execution_count": 4,
   "outputs": [
    {
     "data": {
      "text/plain": "           ID_LAT_LON_YEAR_WEEK  latitude  longitude  year  week_no  \\\n0      ID_-0.510_29.290_2019_00  1.988534  -0.728253  2019        0   \n1      ID_-0.510_29.290_2019_01  1.988534  -0.728253  2019        1   \n2      ID_-0.510_29.290_2019_02  1.988534  -0.728253  2019        2   \n3      ID_-0.510_29.290_2019_03  1.988534  -0.728253  2019        3   \n4      ID_-0.510_29.290_2019_04  1.988534  -0.728253  2019        4   \n...                         ...       ...        ...   ...      ...   \n79018  ID_-3.299_30.301_2021_48 -2.027202   0.519324  2021       48   \n79019  ID_-3.299_30.301_2021_49 -2.027202   0.519324  2021       49   \n79020  ID_-3.299_30.301_2021_50 -2.027202   0.519324  2021       50   \n79021  ID_-3.299_30.301_2021_51 -2.027202   0.519324  2021       51   \n79022  ID_-3.299_30.301_2021_52 -2.027202   0.519324  2021       52   \n\n       SulphurDioxide_SO2_column_number_density  \\\n0                                     -0.617429   \n1                                     -0.093107   \n2                                      1.915273   \n3                                     -0.080220   \n4                                     -0.497103   \n...                                         ...   \n79018                                  0.978793   \n79019                                  0.161565   \n79020                                 -0.080220   \n79021                                 -0.314655   \n79022                                 -0.547577   \n\n       SulphurDioxide_SO2_column_number_density_amf  \\\n0                                         -1.354297   \n1                                         -0.607616   \n2                                         -0.488422   \n3                                         -0.125087   \n4                                         -0.917262   \n...                                             ...   \n79018                                      2.180216   \n79019                                      1.793890   \n79020                                     -0.125087   \n79021                                      0.294071   \n79022                                      0.249662   \n\n       SulphurDioxide_SO2_slant_column_number_density  \\\n0                                           -0.524140   \n1                                           -0.099088   \n2                                            1.898900   \n3                                           -0.072069   \n4                                           -0.428799   \n...                                               ...   \n79018                                        1.655813   \n79019                                        0.168347   \n79020                                       -0.072069   \n79021                                       -0.322746   \n79022                                       -0.600417   \n\n       SulphurDioxide_cloud_fraction  SulphurDioxide_sensor_azimuth_angle  \\\n0                           1.499215                            -1.547623   \n1                          -0.435488                             0.436785   \n2                          -0.760890                             1.405035   \n3                           0.043473                            -0.063415   \n4                          -0.587935                             0.221928   \n...                              ...                                  ...   \n79018                       0.500590                             1.405460   \n79019                       0.281941                            -0.070565   \n79020                       0.043473                            -0.063415   \n79021                       0.390361                            -1.577787   \n79022                      -2.468084                             1.474460   \n\n       ...  Cloud_cloud_top_height  Cloud_cloud_base_pressure  \\\n0      ...               -1.353704                   0.184638   \n1      ...               -1.363005                   0.836687   \n2      ...               -0.965708                   0.071939   \n3      ...               -0.255427                  -0.925955   \n4      ...               -1.131698                   0.480018   \n...    ...                     ...                        ...   \n79018  ...               -0.093447                   0.137127   \n79019  ...                0.009961                   0.082944   \n79020  ...                0.442649                  -0.312936   \n79021  ...                1.617984                  -1.428119   \n79022  ...                1.377019                  -1.290882   \n\n       Cloud_cloud_base_height  Cloud_cloud_optical_depth  \\\n0                    -1.516525                  -0.262503   \n1                    -1.103670                  -0.771638   \n2                    -0.851500                   0.147214   \n3                    -0.360982                  -0.275948   \n4                    -0.969997                  -0.814270   \n...                        ...                        ...   \n79018                -0.058486                   0.083741   \n79019                -0.008119                  -0.963065   \n79020                 0.407736                  -0.318069   \n79021                 1.680142                   0.997857   \n79022                 1.389706                   0.025860   \n\n       Cloud_surface_albedo  Cloud_sensor_azimuth_angle  \\\n0                  0.016720                   -0.060518   \n1                 -0.297013                    1.359108   \n2                 -0.413264                    0.864367   \n3                 -0.191248                   -0.016413   \n4                 -0.722791                    1.629005   \n...                     ...                         ...   \n79018              0.676288                   -0.803923   \n79019              0.863338                    0.510658   \n79020              0.336646                    0.345277   \n79021              0.052346                    0.634847   \n79022             -0.916996                   -0.066447   \n\n       Cloud_sensor_zenith_angle  Cloud_solar_azimuth_angle  \\\n0                      -0.750348                  -1.378504   \n1                      -0.137864                  -1.548103   \n2                      -1.566521                  -1.477470   \n3                      -2.506101                  -1.216246   \n4                      -0.475633                  -1.450702   \n...                          ...                        ...   \n79018                  -0.051122                  -1.143865   \n79019                   1.105887                  -1.258319   \n79020                  -0.797833                  -1.271013   \n79021                   1.225602                  -1.396039   \n79022                   1.167523                  -1.312588   \n\n       Cloud_solar_zenith_angle   emission  \n0                      0.643142   3.750994  \n1                     -0.154131   4.025176  \n2                     -0.395221   4.231381  \n3                      0.205146   4.305286  \n4                     -1.303718   4.347317  \n...                         ...        ...  \n79018                  0.949053  29.404171  \n79019                  0.647545  29.186497  \n79020                  0.634948  29.131205  \n79021                  0.269767  28.125792  \n79022                  0.527947  27.239302  \n\n[79023 rows x 76 columns]",
      "text/html": "<div>\n<style scoped>\n    .dataframe tbody tr th:only-of-type {\n        vertical-align: middle;\n    }\n\n    .dataframe tbody tr th {\n        vertical-align: top;\n    }\n\n    .dataframe thead th {\n        text-align: right;\n    }\n</style>\n<table border=\"1\" class=\"dataframe\">\n  <thead>\n    <tr style=\"text-align: right;\">\n      <th></th>\n      <th>ID_LAT_LON_YEAR_WEEK</th>\n      <th>latitude</th>\n      <th>longitude</th>\n      <th>year</th>\n      <th>week_no</th>\n      <th>SulphurDioxide_SO2_column_number_density</th>\n      <th>SulphurDioxide_SO2_column_number_density_amf</th>\n      <th>SulphurDioxide_SO2_slant_column_number_density</th>\n      <th>SulphurDioxide_cloud_fraction</th>\n      <th>SulphurDioxide_sensor_azimuth_angle</th>\n      <th>...</th>\n      <th>Cloud_cloud_top_height</th>\n      <th>Cloud_cloud_base_pressure</th>\n      <th>Cloud_cloud_base_height</th>\n      <th>Cloud_cloud_optical_depth</th>\n      <th>Cloud_surface_albedo</th>\n      <th>Cloud_sensor_azimuth_angle</th>\n      <th>Cloud_sensor_zenith_angle</th>\n      <th>Cloud_solar_azimuth_angle</th>\n      <th>Cloud_solar_zenith_angle</th>\n      <th>emission</th>\n    </tr>\n  </thead>\n  <tbody>\n    <tr>\n      <th>0</th>\n      <td>ID_-0.510_29.290_2019_00</td>\n      <td>1.988534</td>\n      <td>-0.728253</td>\n      <td>2019</td>\n      <td>0</td>\n      <td>-0.617429</td>\n      <td>-1.354297</td>\n      <td>-0.524140</td>\n      <td>1.499215</td>\n      <td>-1.547623</td>\n      <td>...</td>\n      <td>-1.353704</td>\n      <td>0.184638</td>\n      <td>-1.516525</td>\n      <td>-0.262503</td>\n      <td>0.016720</td>\n      <td>-0.060518</td>\n      <td>-0.750348</td>\n      <td>-1.378504</td>\n      <td>0.643142</td>\n      <td>3.750994</td>\n    </tr>\n    <tr>\n      <th>1</th>\n      <td>ID_-0.510_29.290_2019_01</td>\n      <td>1.988534</td>\n      <td>-0.728253</td>\n      <td>2019</td>\n      <td>1</td>\n      <td>-0.093107</td>\n      <td>-0.607616</td>\n      <td>-0.099088</td>\n      <td>-0.435488</td>\n      <td>0.436785</td>\n      <td>...</td>\n      <td>-1.363005</td>\n      <td>0.836687</td>\n      <td>-1.103670</td>\n      <td>-0.771638</td>\n      <td>-0.297013</td>\n      <td>1.359108</td>\n      <td>-0.137864</td>\n      <td>-1.548103</td>\n      <td>-0.154131</td>\n      <td>4.025176</td>\n    </tr>\n    <tr>\n      <th>2</th>\n      <td>ID_-0.510_29.290_2019_02</td>\n      <td>1.988534</td>\n      <td>-0.728253</td>\n      <td>2019</td>\n      <td>2</td>\n      <td>1.915273</td>\n      <td>-0.488422</td>\n      <td>1.898900</td>\n      <td>-0.760890</td>\n      <td>1.405035</td>\n      <td>...</td>\n      <td>-0.965708</td>\n      <td>0.071939</td>\n      <td>-0.851500</td>\n      <td>0.147214</td>\n      <td>-0.413264</td>\n      <td>0.864367</td>\n      <td>-1.566521</td>\n      <td>-1.477470</td>\n      <td>-0.395221</td>\n      <td>4.231381</td>\n    </tr>\n    <tr>\n      <th>3</th>\n      <td>ID_-0.510_29.290_2019_03</td>\n      <td>1.988534</td>\n      <td>-0.728253</td>\n      <td>2019</td>\n      <td>3</td>\n      <td>-0.080220</td>\n      <td>-0.125087</td>\n      <td>-0.072069</td>\n      <td>0.043473</td>\n      <td>-0.063415</td>\n      <td>...</td>\n      <td>-0.255427</td>\n      <td>-0.925955</td>\n      <td>-0.360982</td>\n      <td>-0.275948</td>\n      <td>-0.191248</td>\n      <td>-0.016413</td>\n      <td>-2.506101</td>\n      <td>-1.216246</td>\n      <td>0.205146</td>\n      <td>4.305286</td>\n    </tr>\n    <tr>\n      <th>4</th>\n      <td>ID_-0.510_29.290_2019_04</td>\n      <td>1.988534</td>\n      <td>-0.728253</td>\n      <td>2019</td>\n      <td>4</td>\n      <td>-0.497103</td>\n      <td>-0.917262</td>\n      <td>-0.428799</td>\n      <td>-0.587935</td>\n      <td>0.221928</td>\n      <td>...</td>\n      <td>-1.131698</td>\n      <td>0.480018</td>\n      <td>-0.969997</td>\n      <td>-0.814270</td>\n      <td>-0.722791</td>\n      <td>1.629005</td>\n      <td>-0.475633</td>\n      <td>-1.450702</td>\n      <td>-1.303718</td>\n      <td>4.347317</td>\n    </tr>\n    <tr>\n      <th>...</th>\n      <td>...</td>\n      <td>...</td>\n      <td>...</td>\n      <td>...</td>\n      <td>...</td>\n      <td>...</td>\n      <td>...</td>\n      <td>...</td>\n      <td>...</td>\n      <td>...</td>\n      <td>...</td>\n      <td>...</td>\n      <td>...</td>\n      <td>...</td>\n      <td>...</td>\n      <td>...</td>\n      <td>...</td>\n      <td>...</td>\n      <td>...</td>\n      <td>...</td>\n      <td>...</td>\n    </tr>\n    <tr>\n      <th>79018</th>\n      <td>ID_-3.299_30.301_2021_48</td>\n      <td>-2.027202</td>\n      <td>0.519324</td>\n      <td>2021</td>\n      <td>48</td>\n      <td>0.978793</td>\n      <td>2.180216</td>\n      <td>1.655813</td>\n      <td>0.500590</td>\n      <td>1.405460</td>\n      <td>...</td>\n      <td>-0.093447</td>\n      <td>0.137127</td>\n      <td>-0.058486</td>\n      <td>0.083741</td>\n      <td>0.676288</td>\n      <td>-0.803923</td>\n      <td>-0.051122</td>\n      <td>-1.143865</td>\n      <td>0.949053</td>\n      <td>29.404171</td>\n    </tr>\n    <tr>\n      <th>79019</th>\n      <td>ID_-3.299_30.301_2021_49</td>\n      <td>-2.027202</td>\n      <td>0.519324</td>\n      <td>2021</td>\n      <td>49</td>\n      <td>0.161565</td>\n      <td>1.793890</td>\n      <td>0.168347</td>\n      <td>0.281941</td>\n      <td>-0.070565</td>\n      <td>...</td>\n      <td>0.009961</td>\n      <td>0.082944</td>\n      <td>-0.008119</td>\n      <td>-0.963065</td>\n      <td>0.863338</td>\n      <td>0.510658</td>\n      <td>1.105887</td>\n      <td>-1.258319</td>\n      <td>0.647545</td>\n      <td>29.186497</td>\n    </tr>\n    <tr>\n      <th>79020</th>\n      <td>ID_-3.299_30.301_2021_50</td>\n      <td>-2.027202</td>\n      <td>0.519324</td>\n      <td>2021</td>\n      <td>50</td>\n      <td>-0.080220</td>\n      <td>-0.125087</td>\n      <td>-0.072069</td>\n      <td>0.043473</td>\n      <td>-0.063415</td>\n      <td>...</td>\n      <td>0.442649</td>\n      <td>-0.312936</td>\n      <td>0.407736</td>\n      <td>-0.318069</td>\n      <td>0.336646</td>\n      <td>0.345277</td>\n      <td>-0.797833</td>\n      <td>-1.271013</td>\n      <td>0.634948</td>\n      <td>29.131205</td>\n    </tr>\n    <tr>\n      <th>79021</th>\n      <td>ID_-3.299_30.301_2021_51</td>\n      <td>-2.027202</td>\n      <td>0.519324</td>\n      <td>2021</td>\n      <td>51</td>\n      <td>-0.314655</td>\n      <td>0.294071</td>\n      <td>-0.322746</td>\n      <td>0.390361</td>\n      <td>-1.577787</td>\n      <td>...</td>\n      <td>1.617984</td>\n      <td>-1.428119</td>\n      <td>1.680142</td>\n      <td>0.997857</td>\n      <td>0.052346</td>\n      <td>0.634847</td>\n      <td>1.225602</td>\n      <td>-1.396039</td>\n      <td>0.269767</td>\n      <td>28.125792</td>\n    </tr>\n    <tr>\n      <th>79022</th>\n      <td>ID_-3.299_30.301_2021_52</td>\n      <td>-2.027202</td>\n      <td>0.519324</td>\n      <td>2021</td>\n      <td>52</td>\n      <td>-0.547577</td>\n      <td>0.249662</td>\n      <td>-0.600417</td>\n      <td>-2.468084</td>\n      <td>1.474460</td>\n      <td>...</td>\n      <td>1.377019</td>\n      <td>-1.290882</td>\n      <td>1.389706</td>\n      <td>0.025860</td>\n      <td>-0.916996</td>\n      <td>-0.066447</td>\n      <td>1.167523</td>\n      <td>-1.312588</td>\n      <td>0.527947</td>\n      <td>27.239302</td>\n    </tr>\n  </tbody>\n</table>\n<p>79023 rows × 76 columns</p>\n</div>"
     },
     "execution_count": 4,
     "metadata": {},
     "output_type": "execute_result"
    }
   ],
   "source": [
    "df_train_pre"
   ],
   "metadata": {
    "collapsed": false,
    "ExecuteTime": {
     "end_time": "2023-08-15T23:30:38.924509Z",
     "start_time": "2023-08-15T23:30:38.906444Z"
    }
   },
   "id": "9dc2b62a6431df3d"
  },
  {
   "cell_type": "code",
   "execution_count": 5,
   "outputs": [
    {
     "data": {
      "text/plain": "           ID_LAT_LON_YEAR_WEEK  latitude  longitude  year  week_no  \\\n0      ID_-0.510_29.290_2022_00  1.988534  -0.728253  2022        0   \n1      ID_-0.510_29.290_2022_01  1.988534  -0.728253  2022        1   \n2      ID_-0.510_29.290_2022_02  1.988534  -0.728253  2022        2   \n3      ID_-0.510_29.290_2022_03  1.988534  -0.728253  2022        3   \n4      ID_-0.510_29.290_2022_04  1.988534  -0.728253  2022        4   \n...                         ...       ...        ...   ...      ...   \n24348  ID_-3.299_30.301_2022_44 -2.027202   0.519324  2022       44   \n24349  ID_-3.299_30.301_2022_45 -2.027202   0.519324  2022       45   \n24350  ID_-3.299_30.301_2022_46 -2.027202   0.519324  2022       46   \n24351  ID_-3.299_30.301_2022_47 -2.027202   0.519324  2022       47   \n24352  ID_-3.299_30.301_2022_48 -2.027202   0.519324  2022       48   \n\n       SulphurDioxide_SO2_column_number_density  \\\n0                                     -0.025672   \n1                                      2.195286   \n2                                      0.735284   \n3                                      1.671615   \n4                                     -1.625046   \n...                                         ...   \n24348                                 -3.112871   \n24349                                 -0.025672   \n24350                                 -0.025672   \n24351                                  0.291813   \n24352                                 -0.025672   \n\n       SulphurDioxide_SO2_column_number_density_amf  \\\n0                                         -0.150017   \n1                                         -0.644598   \n2                                         -1.234576   \n3                                         -0.605161   \n4                                         -1.403085   \n...                                             ...   \n24348                                     -0.271756   \n24349                                     -0.150017   \n24350                                     -0.150017   \n24351                                      1.498745   \n24352                                     -0.150017   \n\n       SulphurDioxide_SO2_slant_column_number_density  \\\n0                                           -0.024796   \n1                                            2.095942   \n2                                            0.667438   \n3                                            1.602440   \n4                                           -1.306322   \n...                                               ...   \n24348                                       -3.190818   \n24349                                       -0.024796   \n24350                                       -0.024796   \n24351                                        0.473318   \n24352                                       -0.024796   \n\n       SulphurDioxide_cloud_fraction  SulphurDioxide_sensor_azimuth_angle  \\\n0                          -0.002374                             0.097206   \n1                          -2.015056                             1.118246   \n2                          -0.858553                            -0.915789   \n3                           0.895806                             1.048270   \n4                           0.943939                             1.117415   \n...                              ...                                  ...   \n24348                       1.380359                             1.050620   \n24349                      -0.002374                             0.097206   \n24350                      -0.002374                             0.097206   \n24351                       0.954438                             1.085374   \n24352                      -0.002374                             0.097206   \n\n       ...  Cloud_cloud_top_pressure  Cloud_cloud_top_height  \\\n0      ...                 -1.926239                1.899041   \n1      ...                 -0.444017                0.453279   \n2      ...                 -2.149909                2.270216   \n3      ...                 -0.169868                0.119084   \n4      ...                 -0.674331                0.723528   \n...    ...                       ...                     ...   \n24348  ...                 -0.408531                0.296817   \n24349  ...                 -0.621282                0.600085   \n24350  ...                  0.360864               -0.372291   \n24351  ...                 -0.885218                0.969271   \n24352  ...                 -1.392604                1.396072   \n\n       Cloud_cloud_base_pressure  Cloud_cloud_base_height  \\\n0                      -1.961927                 1.910157   \n1                      -0.439019                 0.441641   \n2                      -2.186155                 2.287173   \n3                      -0.139147                 0.102187   \n4                      -0.660756                 0.716143   \n...                          ...                      ...   \n24348                  -0.376670                 0.282717   \n24349                  -0.584612                 0.590837   \n24350                   0.409978                -0.396921   \n24351                  -0.898863                 0.965754   \n24352                  -1.389553                 1.399272   \n\n       Cloud_cloud_optical_depth  Cloud_surface_albedo  \\\n0                      -0.838383             -0.328377   \n1                      -0.551341              0.798469   \n2                      -0.608153              0.239004   \n3                      -0.525510              1.047326   \n4                      -0.419222              0.606925   \n...                          ...                   ...   \n24348                   0.997118             -1.635628   \n24349                   0.084007             -1.683265   \n24350                  -0.359091             -0.786935   \n24351                   0.791936             -0.188414   \n24352                   0.455589             -0.351815   \n\n       Cloud_sensor_azimuth_angle  Cloud_sensor_zenith_angle  \\\n0                       -2.700310                  -1.019200   \n1                       -0.468734                   0.369579   \n2                        1.762656                   0.933333   \n3                       -0.274918                   0.327755   \n4                        0.095623                  -1.589418   \n...                           ...                        ...   \n24348                   -0.309014                   0.829336   \n24349                    0.080486                   0.587775   \n24350                    0.346849                  -1.094273   \n24351                    0.488026                   0.925219   \n24352                   -0.799472                  -1.500495   \n\n       Cloud_solar_azimuth_angle  Cloud_solar_zenith_angle  \n0                      -1.425006                  1.307123  \n1                      -1.582048                  0.682613  \n2                      -1.755028                 -0.280830  \n3                      -1.480688                  0.364941  \n4                      -1.493965                 -0.386123  \n...                          ...                       ...  \n24348                  -0.960340                  0.452458  \n24349                  -1.125790                  0.232511  \n24350                  -1.185536                  0.496446  \n24351                  -1.311392                  0.550606  \n24352                  -1.195794                  1.460167  \n\n[24353 rows x 75 columns]",
      "text/html": "<div>\n<style scoped>\n    .dataframe tbody tr th:only-of-type {\n        vertical-align: middle;\n    }\n\n    .dataframe tbody tr th {\n        vertical-align: top;\n    }\n\n    .dataframe thead th {\n        text-align: right;\n    }\n</style>\n<table border=\"1\" class=\"dataframe\">\n  <thead>\n    <tr style=\"text-align: right;\">\n      <th></th>\n      <th>ID_LAT_LON_YEAR_WEEK</th>\n      <th>latitude</th>\n      <th>longitude</th>\n      <th>year</th>\n      <th>week_no</th>\n      <th>SulphurDioxide_SO2_column_number_density</th>\n      <th>SulphurDioxide_SO2_column_number_density_amf</th>\n      <th>SulphurDioxide_SO2_slant_column_number_density</th>\n      <th>SulphurDioxide_cloud_fraction</th>\n      <th>SulphurDioxide_sensor_azimuth_angle</th>\n      <th>...</th>\n      <th>Cloud_cloud_top_pressure</th>\n      <th>Cloud_cloud_top_height</th>\n      <th>Cloud_cloud_base_pressure</th>\n      <th>Cloud_cloud_base_height</th>\n      <th>Cloud_cloud_optical_depth</th>\n      <th>Cloud_surface_albedo</th>\n      <th>Cloud_sensor_azimuth_angle</th>\n      <th>Cloud_sensor_zenith_angle</th>\n      <th>Cloud_solar_azimuth_angle</th>\n      <th>Cloud_solar_zenith_angle</th>\n    </tr>\n  </thead>\n  <tbody>\n    <tr>\n      <th>0</th>\n      <td>ID_-0.510_29.290_2022_00</td>\n      <td>1.988534</td>\n      <td>-0.728253</td>\n      <td>2022</td>\n      <td>0</td>\n      <td>-0.025672</td>\n      <td>-0.150017</td>\n      <td>-0.024796</td>\n      <td>-0.002374</td>\n      <td>0.097206</td>\n      <td>...</td>\n      <td>-1.926239</td>\n      <td>1.899041</td>\n      <td>-1.961927</td>\n      <td>1.910157</td>\n      <td>-0.838383</td>\n      <td>-0.328377</td>\n      <td>-2.700310</td>\n      <td>-1.019200</td>\n      <td>-1.425006</td>\n      <td>1.307123</td>\n    </tr>\n    <tr>\n      <th>1</th>\n      <td>ID_-0.510_29.290_2022_01</td>\n      <td>1.988534</td>\n      <td>-0.728253</td>\n      <td>2022</td>\n      <td>1</td>\n      <td>2.195286</td>\n      <td>-0.644598</td>\n      <td>2.095942</td>\n      <td>-2.015056</td>\n      <td>1.118246</td>\n      <td>...</td>\n      <td>-0.444017</td>\n      <td>0.453279</td>\n      <td>-0.439019</td>\n      <td>0.441641</td>\n      <td>-0.551341</td>\n      <td>0.798469</td>\n      <td>-0.468734</td>\n      <td>0.369579</td>\n      <td>-1.582048</td>\n      <td>0.682613</td>\n    </tr>\n    <tr>\n      <th>2</th>\n      <td>ID_-0.510_29.290_2022_02</td>\n      <td>1.988534</td>\n      <td>-0.728253</td>\n      <td>2022</td>\n      <td>2</td>\n      <td>0.735284</td>\n      <td>-1.234576</td>\n      <td>0.667438</td>\n      <td>-0.858553</td>\n      <td>-0.915789</td>\n      <td>...</td>\n      <td>-2.149909</td>\n      <td>2.270216</td>\n      <td>-2.186155</td>\n      <td>2.287173</td>\n      <td>-0.608153</td>\n      <td>0.239004</td>\n      <td>1.762656</td>\n      <td>0.933333</td>\n      <td>-1.755028</td>\n      <td>-0.280830</td>\n    </tr>\n    <tr>\n      <th>3</th>\n      <td>ID_-0.510_29.290_2022_03</td>\n      <td>1.988534</td>\n      <td>-0.728253</td>\n      <td>2022</td>\n      <td>3</td>\n      <td>1.671615</td>\n      <td>-0.605161</td>\n      <td>1.602440</td>\n      <td>0.895806</td>\n      <td>1.048270</td>\n      <td>...</td>\n      <td>-0.169868</td>\n      <td>0.119084</td>\n      <td>-0.139147</td>\n      <td>0.102187</td>\n      <td>-0.525510</td>\n      <td>1.047326</td>\n      <td>-0.274918</td>\n      <td>0.327755</td>\n      <td>-1.480688</td>\n      <td>0.364941</td>\n    </tr>\n    <tr>\n      <th>4</th>\n      <td>ID_-0.510_29.290_2022_04</td>\n      <td>1.988534</td>\n      <td>-0.728253</td>\n      <td>2022</td>\n      <td>4</td>\n      <td>-1.625046</td>\n      <td>-1.403085</td>\n      <td>-1.306322</td>\n      <td>0.943939</td>\n      <td>1.117415</td>\n      <td>...</td>\n      <td>-0.674331</td>\n      <td>0.723528</td>\n      <td>-0.660756</td>\n      <td>0.716143</td>\n      <td>-0.419222</td>\n      <td>0.606925</td>\n      <td>0.095623</td>\n      <td>-1.589418</td>\n      <td>-1.493965</td>\n      <td>-0.386123</td>\n    </tr>\n    <tr>\n      <th>...</th>\n      <td>...</td>\n      <td>...</td>\n      <td>...</td>\n      <td>...</td>\n      <td>...</td>\n      <td>...</td>\n      <td>...</td>\n      <td>...</td>\n      <td>...</td>\n      <td>...</td>\n      <td>...</td>\n      <td>...</td>\n      <td>...</td>\n      <td>...</td>\n      <td>...</td>\n      <td>...</td>\n      <td>...</td>\n      <td>...</td>\n      <td>...</td>\n      <td>...</td>\n      <td>...</td>\n    </tr>\n    <tr>\n      <th>24348</th>\n      <td>ID_-3.299_30.301_2022_44</td>\n      <td>-2.027202</td>\n      <td>0.519324</td>\n      <td>2022</td>\n      <td>44</td>\n      <td>-3.112871</td>\n      <td>-0.271756</td>\n      <td>-3.190818</td>\n      <td>1.380359</td>\n      <td>1.050620</td>\n      <td>...</td>\n      <td>-0.408531</td>\n      <td>0.296817</td>\n      <td>-0.376670</td>\n      <td>0.282717</td>\n      <td>0.997118</td>\n      <td>-1.635628</td>\n      <td>-0.309014</td>\n      <td>0.829336</td>\n      <td>-0.960340</td>\n      <td>0.452458</td>\n    </tr>\n    <tr>\n      <th>24349</th>\n      <td>ID_-3.299_30.301_2022_45</td>\n      <td>-2.027202</td>\n      <td>0.519324</td>\n      <td>2022</td>\n      <td>45</td>\n      <td>-0.025672</td>\n      <td>-0.150017</td>\n      <td>-0.024796</td>\n      <td>-0.002374</td>\n      <td>0.097206</td>\n      <td>...</td>\n      <td>-0.621282</td>\n      <td>0.600085</td>\n      <td>-0.584612</td>\n      <td>0.590837</td>\n      <td>0.084007</td>\n      <td>-1.683265</td>\n      <td>0.080486</td>\n      <td>0.587775</td>\n      <td>-1.125790</td>\n      <td>0.232511</td>\n    </tr>\n    <tr>\n      <th>24350</th>\n      <td>ID_-3.299_30.301_2022_46</td>\n      <td>-2.027202</td>\n      <td>0.519324</td>\n      <td>2022</td>\n      <td>46</td>\n      <td>-0.025672</td>\n      <td>-0.150017</td>\n      <td>-0.024796</td>\n      <td>-0.002374</td>\n      <td>0.097206</td>\n      <td>...</td>\n      <td>0.360864</td>\n      <td>-0.372291</td>\n      <td>0.409978</td>\n      <td>-0.396921</td>\n      <td>-0.359091</td>\n      <td>-0.786935</td>\n      <td>0.346849</td>\n      <td>-1.094273</td>\n      <td>-1.185536</td>\n      <td>0.496446</td>\n    </tr>\n    <tr>\n      <th>24351</th>\n      <td>ID_-3.299_30.301_2022_47</td>\n      <td>-2.027202</td>\n      <td>0.519324</td>\n      <td>2022</td>\n      <td>47</td>\n      <td>0.291813</td>\n      <td>1.498745</td>\n      <td>0.473318</td>\n      <td>0.954438</td>\n      <td>1.085374</td>\n      <td>...</td>\n      <td>-0.885218</td>\n      <td>0.969271</td>\n      <td>-0.898863</td>\n      <td>0.965754</td>\n      <td>0.791936</td>\n      <td>-0.188414</td>\n      <td>0.488026</td>\n      <td>0.925219</td>\n      <td>-1.311392</td>\n      <td>0.550606</td>\n    </tr>\n    <tr>\n      <th>24352</th>\n      <td>ID_-3.299_30.301_2022_48</td>\n      <td>-2.027202</td>\n      <td>0.519324</td>\n      <td>2022</td>\n      <td>48</td>\n      <td>-0.025672</td>\n      <td>-0.150017</td>\n      <td>-0.024796</td>\n      <td>-0.002374</td>\n      <td>0.097206</td>\n      <td>...</td>\n      <td>-1.392604</td>\n      <td>1.396072</td>\n      <td>-1.389553</td>\n      <td>1.399272</td>\n      <td>0.455589</td>\n      <td>-0.351815</td>\n      <td>-0.799472</td>\n      <td>-1.500495</td>\n      <td>-1.195794</td>\n      <td>1.460167</td>\n    </tr>\n  </tbody>\n</table>\n<p>24353 rows × 75 columns</p>\n</div>"
     },
     "execution_count": 5,
     "metadata": {},
     "output_type": "execute_result"
    }
   ],
   "source": [
    "df_test_pre"
   ],
   "metadata": {
    "collapsed": false,
    "ExecuteTime": {
     "end_time": "2023-08-15T23:30:38.962313Z",
     "start_time": "2023-08-15T23:30:38.925178Z"
    }
   },
   "id": "a15110ee59ad90fb"
  },
  {
   "cell_type": "code",
   "execution_count": 6,
   "outputs": [],
   "source": [
    "X_train = df_train_pre.drop([\"emission\",\"ID_LAT_LON_YEAR_WEEK\"],axis=1,inplace=False)\n",
    "y_train = df_train_pre[\"emission\"]\n",
    "X_test = df_test_pre.drop([\"ID_LAT_LON_YEAR_WEEK\"],axis=1,inplace=False)"
   ],
   "metadata": {
    "collapsed": false,
    "ExecuteTime": {
     "end_time": "2023-08-15T23:30:39.048300Z",
     "start_time": "2023-08-15T23:30:38.952122Z"
    }
   },
   "id": "7531a3679f45d181"
  },
  {
   "cell_type": "code",
   "execution_count": 7,
   "outputs": [
    {
     "data": {
      "text/plain": "array([56.63910694, 64.16751473, 51.42587933, ..., 92.10522717,\n       96.76304125, 84.67791115])"
     },
     "execution_count": 7,
     "metadata": {},
     "output_type": "execute_result"
    }
   ],
   "source": [
    "la = Lasso()\n",
    "model = la.fit(X_train,y_train)\n",
    "y_test = model.predict(X_test)\n",
    "y_test"
   ],
   "metadata": {
    "collapsed": false,
    "ExecuteTime": {
     "end_time": "2023-08-15T23:30:39.661738Z",
     "start_time": "2023-08-15T23:30:38.955357Z"
    }
   },
   "id": "3650384b94949697"
  },
  {
   "cell_type": "code",
   "execution_count": 8,
   "outputs": [],
   "source": [
    "final_df = pd.DataFrame(columns=[\"ID_LAT_LON_YEAR_WEEK\",\"emission\"])\n",
    "final_df[\"ID_LAT_LON_YEAR_WEEK\"] = df_test[\"ID_LAT_LON_YEAR_WEEK\"]\n",
    "final_df[\"emission\"] = y_test"
   ],
   "metadata": {
    "collapsed": false,
    "ExecuteTime": {
     "end_time": "2023-08-15T23:30:41.643707Z",
     "start_time": "2023-08-15T23:30:41.638020Z"
    }
   },
   "id": "3fad2d75b9ff4cb1"
  },
  {
   "cell_type": "code",
   "execution_count": 9,
   "outputs": [],
   "source": [
    "final_df.to_csv(\"amith_submission_4.csv\",index=False)"
   ],
   "metadata": {
    "collapsed": false,
    "ExecuteTime": {
     "end_time": "2023-08-15T23:30:44.432364Z",
     "start_time": "2023-08-15T23:30:44.393411Z"
    }
   },
   "id": "5091153baad5f0c7"
  },
  {
   "cell_type": "code",
   "execution_count": null,
   "outputs": [],
   "source": [],
   "metadata": {
    "collapsed": false
   },
   "id": "7d84f8f14990f82a"
  }
 ],
 "metadata": {
  "kernelspec": {
   "display_name": "Python 3",
   "language": "python",
   "name": "python3"
  },
  "language_info": {
   "codemirror_mode": {
    "name": "ipython",
    "version": 2
   },
   "file_extension": ".py",
   "mimetype": "text/x-python",
   "name": "python",
   "nbconvert_exporter": "python",
   "pygments_lexer": "ipython2",
   "version": "2.7.6"
  }
 },
 "nbformat": 4,
 "nbformat_minor": 5
}
