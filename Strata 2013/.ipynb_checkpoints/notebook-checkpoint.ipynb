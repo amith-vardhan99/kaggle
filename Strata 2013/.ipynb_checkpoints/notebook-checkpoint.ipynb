{
 "cells": [
  {
   "cell_type": "code",
   "execution_count": 1,
   "id": "initial_id",
   "metadata": {
    "collapsed": true,
    "ExecuteTime": {
     "end_time": "2024-01-06T19:21:25.818175Z",
     "start_time": "2024-01-06T19:21:25.635231Z"
    }
   },
   "outputs": [],
   "source": [
    "import numpy as np\n",
    "import pandas as pd\n",
    "import matplotlib.pyplot as plt\n",
    "import seaborn as sns\n",
    "from sklearn.model_selection import *\n",
    "from sklearn.preprocessing import *\n",
    "from sklearn.svm import *\n",
    "import warnings\n",
    "warnings.filterwarnings(\"ignore\")"
   ]
  },
  {
   "cell_type": "code",
   "outputs": [],
   "source": [
    "train_input = np.loadtxt('train.csv', delimiter=\",\")\n",
    "train_output = np.loadtxt(\"train_labels.csv\")\n",
    "test_input = np.loadtxt(\"test.csv\", delimiter=\",\")"
   ],
   "metadata": {
    "collapsed": false,
    "ExecuteTime": {
     "end_time": "2024-01-06T19:21:25.849452Z",
     "start_time": "2024-01-06T19:21:25.818595Z"
    }
   },
   "id": "556a3bf590bdbb7e",
   "execution_count": 2
  },
  {
   "cell_type": "code",
   "outputs": [
    {
     "data": {
      "text/plain": "array([[9.7094e-02, 1.1133e+00, 4.5038e+01, 8.8184e-01, 8.7009e-02,\n        1.0410e+00, 1.5486e+00, 3.4980e+00, 1.8578e+00, 9.6729e-03,\n        4.5162e+00, 2.4716e+00, 7.9630e-02, 4.0896e+00, 1.6902e+00,\n        9.1547e-01, 9.1189e-02, 1.4153e+00, 3.1192e+00, 6.0186e-03,\n        1.4375e-02, 3.7306e-02, 6.1815e-01, 5.5585e-02, 1.0740e-02,\n        3.0279e+00, 1.8636e+00, 1.4393e-02, 2.1286e-01, 2.5653e+00,\n               nan, 2.8234e-02, 4.0381e-02, 6.5676e-02, 7.9874e-01,\n        6.0681e+00, 1.3486e+00, 7.8914e-01, 4.8925e-01, 4.4965e-02,\n        3.6954e+00, 1.6518e+00,        nan, 2.0031e+00, 1.6097e+00,\n        4.2557e+00, 1.6952e-02, 1.6888e+00, 7.0763e-02, 2.8963e-02,\n        3.4690e+00, 4.0130e-02, 6.5100e-01, 7.6915e-02, 8.2981e-01,\n        2.6242e+00, 7.7223e-03, 1.9591e+00, 9.1773e-02, 1.4508e-03,\n        6.2135e-02, 9.7433e-02, 8.1459e-02, 8.9605e-02, 1.9517e-02,\n        3.9503e-01, 2.2010e+00, 3.6572e+00, 2.2237e-02, 4.2535e-02,\n        4.5250e+00, 1.6949e-01, 6.7231e-01, 5.2349e-02, 4.6379e+00,\n        1.2962e-02, 1.9132e-02, 4.5504e+00, 5.6370e-03, 2.6957e-01,\n        3.5743e+00, 4.0547e-02, 3.4724e+00, 4.9949e-03, 2.3048e-02,\n        1.9160e+00, 7.7773e-01, 3.2171e-02,        nan, 4.1627e-02,\n        7.6209e-02, 3.6654e+00, 6.1607e-02, 3.1605e-03, 3.6038e-02,\n        8.4500e-02, 2.4517e+00, 3.3373e+00, 6.5201e-02, 9.1158e-02],\n       [5.0086e-02, 1.1158e-01, 9.4080e+01, 1.7650e+00, 8.9417e-02,\n        4.8047e+00, 2.6742e-01,        nan, 5.6473e-01, 3.5123e-02,\n        1.4827e+00, 2.5929e+00, 2.2398e-01, 3.9993e+00, 3.4247e+00,\n        1.7945e+00, 7.0337e-02, 7.1350e-01, 1.1426e+00, 1.8661e-02,\n        6.5120e-02, 8.1132e-02,        nan, 6.0869e-02, 8.3399e-02,\n        2.1228e+00, 7.3517e-01, 9.6963e-02, 1.1055e-02, 3.9510e+00,\n        9.1110e-02, 1.8081e-02, 3.8182e-02, 1.7668e-02, 9.1469e-01,\n        4.1014e+01, 3.7070e+00, 2.0693e+00, 4.9571e+00, 1.6032e-02,\n        4.3729e+00, 3.2356e+00, 9.2688e-02, 2.2587e-01, 6.3327e+00,\n        2.5621e+00, 3.0500e-02, 4.1712e+00, 4.3128e-02, 1.8959e+00,\n        1.9076e-01, 4.9980e-02, 9.6831e-01, 9.5265e-02, 4.9342e+00,\n        3.6403e+00, 8.5841e-02, 2.5845e+00, 3.8742e-02, 3.1918e-04,\n        5.2713e-02, 1.9645e-02, 9.4237e-02, 3.6511e-02, 7.1179e-02,\n        2.3586e-01, 4.0732e+00, 1.2444e+00, 9.4579e-02, 9.3198e-01,\n        2.3565e+00, 8.2129e-01, 4.9131e-02, 2.7010e-02, 1.8648e+00,\n        1.1165e-02, 4.8432e-02, 7.3120e-01, 9.9694e-02, 1.6896e-01,\n        1.6389e+00, 2.7395e+00, 5.5716e-01, 7.0742e-02, 2.2589e-02,\n        1.6064e+00, 3.0345e+00, 6.3698e-02, 9.5168e-01, 6.5822e-02,\n        5.4712e-02, 4.1687e+00, 7.5432e-02, 1.0869e-02, 6.3972e-02,\n        7.9892e-02, 1.9795e+00, 3.5064e+00, 7.2132e-02, 9.1950e-02],\n       [8.8447e-02, 2.3634e+00, 5.0580e+00, 1.4436e-01, 6.4547e-02,\n        2.4440e+00, 4.2545e+00, 3.6506e-01, 1.8609e+00, 9.7593e-03,\n        3.5075e+00, 3.6126e+00, 1.9720e-02, 2.2723e+00, 1.1937e+00,\n        1.0369e+00, 8.6313e-02, 1.5003e+00, 2.3868e+00, 5.2785e-02,\n        8.7950e-02, 6.7695e-02, 1.4660e+00, 2.4131e-02, 3.5304e-02,\n        1.4450e+00, 3.8390e+00, 3.2520e-04, 9.2129e-02, 4.7438e+00,\n        3.3202e-02, 8.3371e-02, 1.4163e-02, 5.5091e-02, 5.0602e+00,\n        1.0771e+00, 3.9658e-03, 4.0361e+00,        nan, 1.9126e-02,\n        1.9285e+00, 7.7643e-01, 1.8482e-02, 4.5763e+00, 1.0067e+00,\n        1.5745e+00, 5.4700e-02, 3.4146e-01, 4.8967e-02, 1.9560e-02,\n        2.0155e+00, 7.2080e-02, 8.7619e-02, 9.4343e-02, 3.9453e+00,\n        5.2480e-01, 8.2408e-02, 1.3841e+00, 3.2529e-02, 2.4050e-02,\n        9.9099e-04, 6.7660e-02, 2.3938e-02, 9.0783e-02, 3.3420e-03,\n        2.9558e+00, 3.8611e+00, 3.7686e+00, 7.1469e-02, 8.9305e-02,\n        1.7302e+00, 3.7683e+00, 4.7478e-02, 9.0466e-02, 5.0165e+00,\n        8.8609e-02, 3.6006e-03, 1.0453e+00, 3.2310e-02, 9.0294e-02,\n        5.0259e+00, 8.1161e-02, 1.0509e+00, 1.5816e-02, 2.0088e+01,\n        1.0700e+00, 4.3468e+00, 6.1113e-02, 7.3222e-02, 9.8675e-02,\n        1.7203e-02, 4.5613e+00, 4.6505e-02,        nan, 8.4066e-02,\n        6.4829e-02, 3.3087e+00, 2.9969e+00, 6.4328e-02, 3.6793e-02],\n       [7.7254e-01, 5.9469e-01,        nan, 9.7515e-01, 1.5987e-02,\n        5.2884e-01, 1.4884e+00, 3.9610e+00, 4.8063e+00, 4.8617e-02,\n        2.7212e+00, 2.5029e+00, 2.3355e-02, 4.5088e+00, 3.1327e+00,\n        3.8627e+00, 9.0923e-02, 4.3838e+00, 2.1928e+00, 2.6211e-02,\n        9.9073e-02, 1.9689e-02, 2.2198e+00, 4.2799e-02, 3.7704e-02,\n        4.1482e+00, 4.0718e+00, 1.7883e-02, 9.2244e-02, 3.6523e+00,\n        1.0751e-02, 5.5596e-02, 1.5418e-02, 9.3861e-02, 9.4272e-01,\n        1.0224e+00, 7.5641e+00, 2.6595e+00, 1.4756e+00, 7.7209e-01,\n        2.9316e+00, 1.8214e+00, 3.6775e-02, 3.8538e+00, 1.0653e+00,\n               nan, 3.9000e-02, 4.5147e+00, 8.8371e-02, 9.8904e-02,\n        4.1317e+00, 2.0435e-02, 3.6422e-01, 4.9476e-02, 4.0500e-01,\n        3.1788e+00, 4.0688e-02, 2.2262e+00, 5.0689e-02, 5.5853e-03,\n        8.7453e-02, 2.2281e-02, 4.1949e-02, 2.2086e-02, 8.2986e-03,\n        2.9410e+00, 9.8445e-01, 9.1658e-01, 5.0185e-02, 4.0575e-02,\n        1.5254e+00, 1.2796e+00, 1.4323e-02, 4.9586e-03, 9.1570e-01,\n        1.9139e-02,        nan, 3.4943e+00, 8.1137e-02, 1.6771e-02,\n        1.3016e-01, 1.0637e+00, 4.9441e+00, 3.7700e-01, 4.1079e-02,\n        1.5943e+00, 4.6241e+00, 4.0708e-01, 5.1634e-02, 5.7662e-02,\n        2.2891e-02, 1.2832e-01, 6.5028e-02, 3.6862e-02, 1.0010e-02,\n        2.0709e-02, 2.5237e+00, 2.1711e+00, 8.0865e-02, 8.1553e-02],\n       [3.8241e-01, 4.8109e+00, 1.9551e+03, 4.6050e-01, 2.4453e-02,\n        2.0298e+00, 3.7403e+00, 4.2281e+00, 2.4292e+00, 1.5683e-01,\n        4.6799e+00, 1.2061e+00, 1.6048e-01, 4.3383e+00, 1.7294e+00,\n        4.1555e+00, 4.2596e-03, 4.9250e+00, 4.3986e+00, 7.0821e-02,\n        3.4121e-02, 8.7522e-02, 1.7924e-01, 9.7594e-02, 3.1043e-01,\n        5.0021e+00, 7.9369e-01, 1.0047e-01, 1.3413e-01, 3.0778e+00,\n        5.3728e-02, 6.6446e-02, 3.9144e-01, 2.8428e-02, 3.1873e+00,\n        1.8106e+02, 2.7944e+00,        nan, 1.3476e+00, 6.4690e-01,\n        4.6828e+00, 3.8963e+00, 7.2960e-02, 6.1090e-01, 3.3776e+00,\n        2.9307e-01, 8.3117e-02, 4.0029e+00, 3.6980e-01, 3.9722e-01,\n        4.2858e+00,        nan, 6.6497e-02, 7.5469e-01, 2.8442e+00,\n        3.9069e+00, 6.6547e-02, 3.6738e+00, 9.3712e-02, 2.6305e-02,\n        1.8615e-01, 4.9486e-02, 4.2992e-02, 2.5642e-01, 2.9486e-01,\n        1.2870e+00, 8.0866e-01, 4.2315e-01, 9.4649e-02, 2.1758e-01,\n        2.7112e+00, 2.1470e+00, 4.3017e-01, 4.2579e-02,        nan,\n        4.3946e-02, 6.7050e-02, 4.9796e+00, 6.1703e-02, 4.7857e-01,\n        1.7065e+00, 1.4378e+00, 3.8290e+00, 4.0563e-01,        nan,\n        1.6429e+00, 4.7505e+00, 3.7756e-01, 5.2042e-01, 3.8938e-02,\n        3.2051e-02, 4.3701e+00, 1.0011e+00, 6.5750e-02, 4.3547e-02,\n        6.2943e-01, 4.6262e+00, 3.1947e+00,        nan, 1.8718e-01]])"
     },
     "execution_count": 3,
     "metadata": {},
     "output_type": "execute_result"
    }
   ],
   "source": [
    "train_input[0:5,:]"
   ],
   "metadata": {
    "collapsed": false,
    "ExecuteTime": {
     "end_time": "2024-01-06T19:21:25.860543Z",
     "start_time": "2024-01-06T19:21:25.855617Z"
    }
   },
   "id": "85a321ecf25c8c17",
   "execution_count": 3
  },
  {
   "cell_type": "code",
   "outputs": [],
   "source": [
    "def deal_with_array_null_values(a):\n",
    "    arr = a.copy()\n",
    "    for i in range(arr.shape[1]):\n",
    "        col = arr[:,i]\n",
    "        avg = np.nanmean(col)\n",
    "        col[np.isnan(col)] = avg\n",
    "        arr[:,i] = col\n",
    "    return arr"
   ],
   "metadata": {
    "collapsed": false,
    "ExecuteTime": {
     "end_time": "2024-01-06T19:21:25.867768Z",
     "start_time": "2024-01-06T19:21:25.861707Z"
    }
   },
   "id": "f4016588a2c235cd",
   "execution_count": 4
  },
  {
   "cell_type": "code",
   "outputs": [],
   "source": [
    "train_input_1 = deal_with_array_null_values(train_input)\n",
    "test_input_1 = deal_with_array_null_values(test_input)\n",
    "\n",
    "min_train = np.nanmin(train_input_1[:,0])\n",
    "max_train = np.nanmax(train_input_1[:,0])\n",
    "min_test = np.nanmin(test_input_1[:,0])\n",
    "max_test = np.nanmax(test_input_1[:,0])\n",
    "\n",
    "for i in range(1,train_input_1.shape[1]):\n",
    "    \n",
    "    col_train = train_input_1[:,i]\n",
    "    col_test = test_input_1[:,i]\n",
    "    \n",
    "    min_train_input = np.nanmin(col_train)\n",
    "    max_train_input = np.nanmax(col_train)\n",
    "    min_test_input = np.nanmin(col_test)\n",
    "    max_test_input = np.nanmax(col_test)\n",
    "    \n",
    "    min_train = min(min_train,min_train_input)\n",
    "    max_train = max(max_train,max_train_input)\n",
    "    min_test = min(min_test,min_test_input)\n",
    "    max_test = max(max_test,max_test_input)"
   ],
   "metadata": {
    "collapsed": false,
    "ExecuteTime": {
     "end_time": "2024-01-06T19:21:25.890085Z",
     "start_time": "2024-01-06T19:21:25.867097Z"
    }
   },
   "id": "2a40843217705ca7",
   "execution_count": 5
  },
  {
   "cell_type": "code",
   "outputs": [
    {
     "name": "stdout",
     "output_type": "stream",
     "text": [
      "Train extremes : \n",
      "Min :  2.3545e-07 \n",
      "Max :  9163.1\n",
      "\n",
      "Test extremes : \n",
      "Min :  9.3993e-07 \n",
      "Max :  15841.0\n"
     ]
    }
   ],
   "source": [
    "print(\"Train extremes : \\nMin : \",min_train,\"\\nMax : \",max_train)\n",
    "print()\n",
    "print(\"Test extremes : \\nMin : \",min_test,\"\\nMax : \",max_test)"
   ],
   "metadata": {
    "collapsed": false,
    "ExecuteTime": {
     "end_time": "2024-01-06T19:21:25.891810Z",
     "start_time": "2024-01-06T19:21:25.880131Z"
    }
   },
   "id": "80d8e498d7b84a5b",
   "execution_count": 6
  },
  {
   "cell_type": "code",
   "outputs": [],
   "source": [
    "mms = MinMaxScaler()\n",
    "\n",
    "X_train = mms.fit_transform(train_input_1)\n",
    "y_train = train_output.copy()\n",
    "X_test = mms.fit_transform(test_input_1)"
   ],
   "metadata": {
    "collapsed": false,
    "ExecuteTime": {
     "end_time": "2024-01-06T19:21:26.085846Z",
     "start_time": "2024-01-06T19:21:26.080432Z"
    }
   },
   "id": "b590ee5a1ace4851",
   "execution_count": 7
  },
  {
   "cell_type": "code",
   "outputs": [
    {
     "data": {
      "text/plain": "600"
     },
     "execution_count": 8,
     "metadata": {},
     "output_type": "execute_result"
    }
   ],
   "source": [
    "X_train.shape[0]"
   ],
   "metadata": {
    "collapsed": false,
    "ExecuteTime": {
     "end_time": "2024-01-06T19:21:26.573314Z",
     "start_time": "2024-01-06T19:21:26.570154Z"
    }
   },
   "id": "3d68de918e0ce04d",
   "execution_count": 8
  },
  {
   "cell_type": "code",
   "outputs": [],
   "source": [
    "linear_svc = LinearSVC()\n",
    "linear_svc.fit(X_train, y_train)\n",
    "y_pred = linear_svc.predict(X_test)"
   ],
   "metadata": {
    "collapsed": false,
    "ExecuteTime": {
     "end_time": "2024-01-06T19:21:27.111908Z",
     "start_time": "2024-01-06T19:21:27.012367Z"
    }
   },
   "id": "fdc2c9dc636f0281",
   "execution_count": 9
  },
  {
   "cell_type": "code",
   "outputs": [
    {
     "data": {
      "text/plain": "array([1., 0., 0., 0., 0.])"
     },
     "execution_count": 10,
     "metadata": {},
     "output_type": "execute_result"
    }
   ],
   "source": [
    "y_pred[0:5]"
   ],
   "metadata": {
    "collapsed": false,
    "ExecuteTime": {
     "end_time": "2024-01-06T19:21:27.471346Z",
     "start_time": "2024-01-06T19:21:27.468063Z"
    }
   },
   "id": "28b5a74f3124e471",
   "execution_count": 10
  },
  {
   "cell_type": "code",
   "outputs": [],
   "source": [],
   "metadata": {
    "collapsed": false
   },
   "id": "1dc89a88c28abddf"
  }
 ],
 "metadata": {
  "kernelspec": {
   "display_name": "Python 3",
   "language": "python",
   "name": "python3"
  },
  "language_info": {
   "codemirror_mode": {
    "name": "ipython",
    "version": 2
   },
   "file_extension": ".py",
   "mimetype": "text/x-python",
   "name": "python",
   "nbconvert_exporter": "python",
   "pygments_lexer": "ipython2",
   "version": "2.7.6"
  }
 },
 "nbformat": 4,
 "nbformat_minor": 5
}
