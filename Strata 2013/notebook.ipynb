{
 "cells": [
  {
   "cell_type": "code",
   "execution_count": 135,
   "id": "initial_id",
   "metadata": {
    "collapsed": true,
    "ExecuteTime": {
     "end_time": "2024-01-06T17:56:24.118096Z",
     "start_time": "2024-01-06T17:56:24.114192Z"
    }
   },
   "outputs": [],
   "source": [
    "import numpy as np\n",
    "import pandas as pd\n",
    "import matplotlib.pyplot as plt\n",
    "import seaborn as sns"
   ]
  },
  {
   "cell_type": "code",
   "outputs": [],
   "source": [
    "train_input = np.loadtxt('train.csv', delimiter=\",\")\n",
    "train_output = np.loadtxt(\"train_labels.csv\")\n",
    "test_input = np.loadtxt(\"test.csv\", delimiter=\",\")"
   ],
   "metadata": {
    "collapsed": false,
    "ExecuteTime": {
     "end_time": "2024-01-06T17:56:24.416130Z",
     "start_time": "2024-01-06T17:56:24.379171Z"
    }
   },
   "id": "556a3bf590bdbb7e",
   "execution_count": 136
  },
  {
   "cell_type": "code",
   "outputs": [
    {
     "data": {
      "text/plain": "array([[9.7094e-02, 1.1133e+00, 4.5038e+01, ..., 3.3373e+00, 6.5201e-02,\n        9.1158e-02],\n       [5.0086e-02, 1.1158e-01, 9.4080e+01, ..., 3.5064e+00, 7.2132e-02,\n        9.1950e-02],\n       [8.8447e-02, 2.3634e+00, 5.0580e+00, ..., 2.9969e+00, 6.4328e-02,\n        3.6793e-02],\n       ...,\n       [9.9551e-01, 1.6062e+00, 4.6409e+02, ..., 4.6044e+00, 7.1155e-02,\n        5.3476e-02],\n       [1.2080e+00, 2.1000e+00, 2.4011e+01, ..., 4.5994e+00, 4.5182e-02,\n        3.1991e-02],\n       [8.3476e-02, 2.8698e+00, 3.7074e+01, ..., 1.7190e+00, 5.4735e-02,\n        3.5035e-02]])"
     },
     "execution_count": 137,
     "metadata": {},
     "output_type": "execute_result"
    }
   ],
   "source": [
    "train_input"
   ],
   "metadata": {
    "collapsed": false,
    "ExecuteTime": {
     "end_time": "2024-01-06T17:56:24.653335Z",
     "start_time": "2024-01-06T17:56:24.650355Z"
    }
   },
   "id": "85a321ecf25c8c17",
   "execution_count": 137
  },
  {
   "cell_type": "code",
   "outputs": [
    {
     "name": "stdout",
     "output_type": "stream",
     "text": [
      "0.0004455 5.1766 nan nan\n"
     ]
    }
   ],
   "source": [
    "train_input_mini = train_input_1[:,0].min()\n",
    "train_input_maxi = train_input_1[:,0].max()\n",
    "test_input_mini = test_input_1[:,0].min()\n",
    "test_input_maxi = test_input_1[:,0].max()\n",
    "\n",
    "print(train_input_mini, train_input_maxi,test_input_mini, test_input_maxi)"
   ],
   "metadata": {
    "collapsed": false,
    "ExecuteTime": {
     "end_time": "2024-01-06T17:56:25.118731Z",
     "start_time": "2024-01-06T17:56:25.116693Z"
    }
   },
   "id": "4108e84d23b30966",
   "execution_count": 138
  },
  {
   "cell_type": "code",
   "outputs": [],
   "source": [
    "inp = train_input_1"
   ],
   "metadata": {
    "collapsed": false,
    "ExecuteTime": {
     "end_time": "2024-01-06T17:56:25.440465Z",
     "start_time": "2024-01-06T17:56:25.435827Z"
    }
   },
   "id": "e0dde4e54f5fdfbd",
   "execution_count": 139
  },
  {
   "cell_type": "code",
   "outputs": [],
   "source": [
    "def deal_with_array_null_values(arr):\n",
    "    arr[np.isnan(arr)] = np.nanmean(arr)"
   ],
   "metadata": {
    "collapsed": false,
    "ExecuteTime": {
     "end_time": "2024-01-06T17:56:25.843357Z",
     "start_time": "2024-01-06T17:56:25.837393Z"
    }
   },
   "id": "187c54530ba4dcec",
   "execution_count": 140
  },
  {
   "cell_type": "code",
   "outputs": [
    {
     "ename": "AttributeError",
     "evalue": "'numpy.ndarray' object has no attribute 'columns'",
     "output_type": "error",
     "traceback": [
      "\u001B[0;31m---------------------------------------------------------------------------\u001B[0m",
      "\u001B[0;31mAttributeError\u001B[0m                            Traceback (most recent call last)",
      "Cell \u001B[0;32mIn[141], line 9\u001B[0m\n\u001B[1;32m      6\u001B[0m test_input_mini \u001B[38;5;241m=\u001B[39m test_input_1[:,\u001B[38;5;241m0\u001B[39m]\u001B[38;5;241m.\u001B[39mmin()\n\u001B[1;32m      7\u001B[0m test_input_maxi \u001B[38;5;241m=\u001B[39m test_input_1[:,\u001B[38;5;241m0\u001B[39m]\u001B[38;5;241m.\u001B[39mmax()\n\u001B[0;32m----> 9\u001B[0m \u001B[38;5;28;01mfor\u001B[39;00m i \u001B[38;5;129;01min\u001B[39;00m \u001B[43mtrain_input\u001B[49m\u001B[38;5;241;43m.\u001B[39;49m\u001B[43mcolumns\u001B[49m[\u001B[38;5;241m1\u001B[39m:]:\n\u001B[1;32m     10\u001B[0m     train_input_1[i] \u001B[38;5;241m=\u001B[39m train_input_1[i]\u001B[38;5;241m.\u001B[39mfillna(train_input_1[i]\u001B[38;5;241m.\u001B[39mmean())\n\u001B[1;32m     11\u001B[0m     test_input_1[i] \u001B[38;5;241m=\u001B[39m test_input_1[i]\u001B[38;5;241m.\u001B[39mfillna(test_input_1[i]\u001B[38;5;241m.\u001B[39mmean())\n",
      "\u001B[0;31mAttributeError\u001B[0m: 'numpy.ndarray' object has no attribute 'columns'"
     ]
    }
   ],
   "source": [
    "train_input_1 = train_input.copy()\n",
    "test_input_1 = test_input.copy()\n",
    "\n",
    "train_input_mini = train_input_1[:,0].min()\n",
    "train_input_maxi = train_input_1[:,0].max()\n",
    "test_input_mini = test_input_1[:,0].min()\n",
    "test_input_maxi = test_input_1[:,0].max()\n",
    "\n",
    "for i in train_input.columns[1:]:\n",
    "    train_input_1[i] = train_input_1[i].fillna(train_input_1[i].mean())\n",
    "    test_input_1[i] = test_input_1[i].fillna(test_input_1[i].mean())\n",
    "    \n",
    "    train_mini = train_input_1[i].min()\n",
    "    train_maxi = train_input_1[i].max()\n",
    "    test_mini = test_input_1[i].min()\n",
    "    test_maxi = test_input_1[i].max()\n",
    "\n",
    "    train_input_mini = min(train_mini, train_input_mini)\n",
    "    train_input_maxi = max(train_maxi, train_input_maxi)\n",
    "    test_input_mini = min(test_mini, test_input_mini)\n",
    "    test_input_maxi = max(test_maxi, test_input_maxi)"
   ],
   "metadata": {
    "collapsed": false,
    "ExecuteTime": {
     "end_time": "2024-01-06T17:56:26.136454Z",
     "start_time": "2024-01-06T17:56:26.108342Z"
    }
   },
   "id": "796bd130b469b645",
   "execution_count": 141
  },
  {
   "cell_type": "code",
   "outputs": [
    {
     "name": "stdout",
     "output_type": "stream",
     "text": [
      "nan nan nan nan\n"
     ]
    }
   ],
   "source": [
    "print(train_input_mini, train_input_maxi,test_input_mini, test_input_maxi)"
   ],
   "metadata": {
    "collapsed": false,
    "ExecuteTime": {
     "end_time": "2024-01-06T17:56:26.302179Z",
     "start_time": "2024-01-06T17:56:26.298801Z"
    }
   },
   "id": "fc9b752a6d6c5c62",
   "execution_count": 142
  },
  {
   "cell_type": "code",
   "outputs": [],
   "source": [],
   "metadata": {
    "collapsed": false,
    "ExecuteTime": {
     "end_time": "2024-01-06T17:56:26.473174Z",
     "start_time": "2024-01-06T17:56:26.469745Z"
    }
   },
   "id": "57ffd8de35f77d0",
   "execution_count": 142
  },
  {
   "cell_type": "code",
   "outputs": [],
   "source": [],
   "metadata": {
    "collapsed": false,
    "ExecuteTime": {
     "end_time": "2024-01-06T17:56:26.687879Z",
     "start_time": "2024-01-06T17:56:26.682351Z"
    }
   },
   "id": "197743dfe6b2002a",
   "execution_count": 142
  },
  {
   "cell_type": "code",
   "outputs": [],
   "source": [],
   "metadata": {
    "collapsed": false
   },
   "id": "f4016588a2c235cd"
  }
 ],
 "metadata": {
  "kernelspec": {
   "display_name": "Python 3",
   "language": "python",
   "name": "python3"
  },
  "language_info": {
   "codemirror_mode": {
    "name": "ipython",
    "version": 2
   },
   "file_extension": ".py",
   "mimetype": "text/x-python",
   "name": "python",
   "nbconvert_exporter": "python",
   "pygments_lexer": "ipython2",
   "version": "2.7.6"
  }
 },
 "nbformat": 4,
 "nbformat_minor": 5
}
