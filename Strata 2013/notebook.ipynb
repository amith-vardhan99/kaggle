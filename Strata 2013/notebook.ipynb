{
 "cells": [
  {
   "cell_type": "code",
   "execution_count": 48,
   "id": "initial_id",
   "metadata": {
    "collapsed": true,
    "ExecuteTime": {
     "end_time": "2024-01-06T18:33:08.678497Z",
     "start_time": "2024-01-06T18:33:08.675765Z"
    }
   },
   "outputs": [],
   "source": [
    "import numpy as np\n",
    "import pandas as pd\n",
    "import matplotlib.pyplot as plt\n",
    "import seaborn as sns\n",
    "from sklearn.model_selection import *\n",
    "from sklearn.preprocessing import *"
   ]
  },
  {
   "cell_type": "code",
   "outputs": [],
   "source": [
    "train_input = np.loadtxt('train.csv', delimiter=\",\")\n",
    "train_output = np.loadtxt(\"train_labels.csv\")\n",
    "test_input = np.loadtxt(\"test.csv\", delimiter=\",\")"
   ],
   "metadata": {
    "collapsed": false,
    "ExecuteTime": {
     "end_time": "2024-01-06T18:33:09.035023Z",
     "start_time": "2024-01-06T18:33:09.009180Z"
    }
   },
   "id": "556a3bf590bdbb7e",
   "execution_count": 49
  },
  {
   "cell_type": "code",
   "outputs": [
    {
     "data": {
      "text/plain": "array([[9.7094e-02, 1.1133e+00, 4.5038e+01, ..., 3.3373e+00, 6.5201e-02,\n        9.1158e-02],\n       [5.0086e-02, 1.1158e-01, 9.4080e+01, ..., 3.5064e+00, 7.2132e-02,\n        9.1950e-02],\n       [8.8447e-02, 2.3634e+00, 5.0580e+00, ..., 2.9969e+00, 6.4328e-02,\n        3.6793e-02],\n       ...,\n       [9.9551e-01, 1.6062e+00, 4.6409e+02, ..., 4.6044e+00, 7.1155e-02,\n        5.3476e-02],\n       [1.2080e+00, 2.1000e+00, 2.4011e+01, ..., 4.5994e+00, 4.5182e-02,\n        3.1991e-02],\n       [8.3476e-02, 2.8698e+00, 3.7074e+01, ..., 1.7190e+00, 5.4735e-02,\n        3.5035e-02]])"
     },
     "execution_count": 50,
     "metadata": {},
     "output_type": "execute_result"
    }
   ],
   "source": [
    "train_input"
   ],
   "metadata": {
    "collapsed": false,
    "ExecuteTime": {
     "end_time": "2024-01-06T18:33:09.374173Z",
     "start_time": "2024-01-06T18:33:09.371040Z"
    }
   },
   "id": "85a321ecf25c8c17",
   "execution_count": 50
  },
  {
   "cell_type": "code",
   "outputs": [],
   "source": [
    "def deal_with_array_null_values(a):\n",
    "    arr = a.copy()\n",
    "    for i in range(arr.shape[1]):\n",
    "        col = arr[:,i]\n",
    "        avg = np.nanmean(col)\n",
    "        col[np.isnan(col)] = avg\n",
    "        arr[:,i] = col\n",
    "    return arr"
   ],
   "metadata": {
    "collapsed": false,
    "ExecuteTime": {
     "end_time": "2024-01-06T18:33:09.883111Z",
     "start_time": "2024-01-06T18:33:09.879989Z"
    }
   },
   "id": "f4016588a2c235cd",
   "execution_count": 51
  },
  {
   "cell_type": "code",
   "outputs": [],
   "source": [
    "train_input_1 = deal_with_array_null_values(train_input)\n",
    "test_input_1 = deal_with_array_null_values(test_input)\n",
    "\n",
    "min_train = np.nanmin(train_input_1[:,0])\n",
    "max_train = np.nanmax(train_input_1[:,0])\n",
    "min_test = np.nanmin(test_input_1[:,0])\n",
    "max_test = np.nanmax(test_input_1[:,0])\n",
    "\n",
    "for i in range(1,train_input_1.shape[1]):\n",
    "    \n",
    "    col_train = train_input_1[:,i]\n",
    "    col_test = test_input_1[:,i]\n",
    "    \n",
    "    min_train_input = np.nanmin(col_train)\n",
    "    max_train_input = np.nanmax(col_train)\n",
    "    min_test_input = np.nanmin(col_test)\n",
    "    max_test_input = np.nanmax(col_test)\n",
    "    \n",
    "    min_train = min(min_train,min_train_input)\n",
    "    max_train = max(max_train,max_train_input)\n",
    "    min_test = min(min_test,min_test_input)\n",
    "    max_test = max(max_test,max_test_input)"
   ],
   "metadata": {
    "collapsed": false,
    "ExecuteTime": {
     "end_time": "2024-01-06T18:33:10.372164Z",
     "start_time": "2024-01-06T18:33:10.361121Z"
    }
   },
   "id": "2a40843217705ca7",
   "execution_count": 52
  },
  {
   "cell_type": "code",
   "outputs": [
    {
     "name": "stdout",
     "output_type": "stream",
     "text": [
      "Train extremes : \n",
      "Min :  2.3545e-07 \n",
      "Max :  9163.1\n",
      "\n",
      "Test extremes : \n",
      "Min :  9.3993e-07 \n",
      "Max :  15841.0\n"
     ]
    }
   ],
   "source": [
    "print(\"Train extremes : \\nMin : \",min_train,\"\\nMax : \",max_train)\n",
    "print()\n",
    "print(\"Test extremes : \\nMin : \",min_test,\"\\nMax : \",max_test)"
   ],
   "metadata": {
    "collapsed": false,
    "ExecuteTime": {
     "end_time": "2024-01-06T18:33:10.826005Z",
     "start_time": "2024-01-06T18:33:10.820862Z"
    }
   },
   "id": "80d8e498d7b84a5b",
   "execution_count": 53
  },
  {
   "cell_type": "code",
   "outputs": [],
   "source": [
    "mms = MinMaxScaler()\n",
    "\n",
    "X_train = mms.fit_transform(train_input_1)\n",
    "y_train = train_output.copy()\n",
    "X_test = mms.fit_transform(test_input_1)"
   ],
   "metadata": {
    "collapsed": false,
    "ExecuteTime": {
     "end_time": "2024-01-06T18:33:11.221020Z",
     "start_time": "2024-01-06T18:33:11.208257Z"
    }
   },
   "id": "b590ee5a1ace4851",
   "execution_count": 54
  },
  {
   "cell_type": "code",
   "outputs": [
    {
     "data": {
      "text/plain": "array([[1.86718731e-02, 2.11154957e-01, 4.80569274e-03, ...,\n        6.53578186e-01, 8.40369078e-03, 2.54007233e-02],\n       [9.59022765e-03, 1.11595489e-02, 1.01584003e-02, ...,\n        6.87156043e-01, 9.30465758e-03, 2.56214541e-02],\n       [1.70013279e-02, 4.60739930e-01, 4.42060603e-04, ...,\n        5.85985623e-01, 8.29020874e-03, 1.02491739e-02],\n       ...,\n       [1.92240108e-01, 3.09563431e-01, 5.05432809e-02, ...,\n        9.05183758e-01, 9.17765648e-03, 1.48987333e-02],\n       [2.33291819e-01, 4.08151592e-01, 2.51069292e-03, ...,\n        9.04190918e-01, 5.80140333e-03, 8.91085435e-03],\n       [1.60409625e-02, 5.61843706e-01, 3.93645897e-03, ...,\n        3.32235517e-01, 7.04320622e-03, 9.75921850e-03]])"
     },
     "execution_count": 55,
     "metadata": {},
     "output_type": "execute_result"
    }
   ],
   "source": [
    "X_train"
   ],
   "metadata": {
    "collapsed": false,
    "ExecuteTime": {
     "end_time": "2024-01-06T18:33:14.183421Z",
     "start_time": "2024-01-06T18:33:14.180260Z"
    }
   },
   "id": "3d68de918e0ce04d",
   "execution_count": 55
  },
  {
   "cell_type": "code",
   "outputs": [],
   "source": [],
   "metadata": {
    "collapsed": false
   },
   "id": "fdc2c9dc636f0281"
  }
 ],
 "metadata": {
  "kernelspec": {
   "display_name": "Python 3",
   "language": "python",
   "name": "python3"
  },
  "language_info": {
   "codemirror_mode": {
    "name": "ipython",
    "version": 2
   },
   "file_extension": ".py",
   "mimetype": "text/x-python",
   "name": "python",
   "nbconvert_exporter": "python",
   "pygments_lexer": "ipython2",
   "version": "2.7.6"
  }
 },
 "nbformat": 4,
 "nbformat_minor": 5
}
