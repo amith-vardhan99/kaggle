{
 "cells": [
  {
   "cell_type": "code",
   "execution_count": 77,
   "id": "initial_id",
   "metadata": {
    "collapsed": true,
    "ExecuteTime": {
     "end_time": "2023-09-17T23:29:14.345703Z",
     "start_time": "2023-09-17T23:29:14.340618Z"
    }
   },
   "outputs": [],
   "source": [
    "import numpy as np\n",
    "import pandas as pd\n",
    "import matplotlib.pyplot as plt\n",
    "import seaborn as sns\n",
    "import tensorflow as tf\n",
    "import tensorflow_datasets as tfds"
   ]
  },
  {
   "cell_type": "code",
   "execution_count": 103,
   "outputs": [],
   "source": [
    "df = tf.data.TFRecordDataset(\"/Users/amith/Documents/GitHub/kaggle/Petals to the Metal - Flower Classification on TPU/tpu-getting-started/tfrecords-jpeg-192x192/train/00-192x192-798.tfrec\")"
   ],
   "metadata": {
    "collapsed": false,
    "ExecuteTime": {
     "end_time": "2023-09-17T23:36:32.443270Z",
     "start_time": "2023-09-17T23:36:32.443042Z"
    }
   },
   "id": "2368a17a2dc2aaf7"
  },
  {
   "cell_type": "code",
   "execution_count": 107,
   "outputs": [],
   "source": [
    "p = []\n",
    "dat = pd.DataFrame()\n",
    "maxi = 0\n",
    "for i in df.as_numpy_iterator():\n",
    "    for j in i:\n",
    "        q.append\n",
    "    maxi = max(maxi,len(i))"
   ],
   "metadata": {
    "collapsed": false,
    "ExecuteTime": {
     "end_time": "2023-09-17T23:38:24.116406Z",
     "start_time": "2023-09-17T23:38:24.074945Z"
    }
   },
   "id": "9ee6eb2e0d168368"
  },
  {
   "cell_type": "code",
   "execution_count": 109,
   "outputs": [
    {
     "data": {
      "text/plain": "50789"
     },
     "execution_count": 109,
     "metadata": {},
     "output_type": "execute_result"
    }
   ],
   "source": [
    "maxi"
   ],
   "metadata": {
    "collapsed": false,
    "ExecuteTime": {
     "end_time": "2023-09-17T23:38:27.434756Z",
     "start_time": "2023-09-17T23:38:27.421637Z"
    }
   },
   "id": "1965698c01e78ba2"
  },
  {
   "cell_type": "code",
   "execution_count": 101,
   "outputs": [
    {
     "data": {
      "text/plain": "     0      1      2      3      4      5      6      7      8      9      \\\n0       10    144    163      1     10     19     10      2    105    100   \n1       10    249    200      1     10     19     10      2    105    100   \n2       10    201    167      1     10    160    167      1     10      5   \n3       10    153    157      2     10     19     10      2    105    100   \n4       10    219    163      1     10     19     10      2    105    100   \n..     ...    ...    ...    ...    ...    ...    ...    ...    ...    ...   \n793     10    175    206      1     10     19     10      2    105    100   \n794     10    221    140      1     10     19     10      2    105    100   \n795     10    237    242      1     10    196    242      1     10      5   \n796     10    184    132      1     10     19     10      2    105    100   \n797     10    239    199      1     10     19     10      2    105    100   \n\n     ...  50779  50780  50781  50782  50783  50784  50785  50786  50787  50788  \n0    ...    NaN    NaN    NaN    NaN    NaN    NaN    NaN    NaN    NaN    NaN  \n1    ...    NaN    NaN    NaN    NaN    NaN    NaN    NaN    NaN    NaN    NaN  \n2    ...    NaN    NaN    NaN    NaN    NaN    NaN    NaN    NaN    NaN    NaN  \n3    ...    NaN    NaN    NaN    NaN    NaN    NaN    NaN    NaN    NaN    NaN  \n4    ...    NaN    NaN    NaN    NaN    NaN    NaN    NaN    NaN    NaN    NaN  \n..   ...    ...    ...    ...    ...    ...    ...    ...    ...    ...    ...  \n793  ...    NaN    NaN    NaN    NaN    NaN    NaN    NaN    NaN    NaN    NaN  \n794  ...    NaN    NaN    NaN    NaN    NaN    NaN    NaN    NaN    NaN    NaN  \n795  ...    NaN    NaN    NaN    NaN    NaN    NaN    NaN    NaN    NaN    NaN  \n796  ...    NaN    NaN    NaN    NaN    NaN    NaN    NaN    NaN    NaN    NaN  \n797  ...    NaN    NaN    NaN    NaN    NaN    NaN    NaN    NaN    NaN    NaN  \n\n[798 rows x 50789 columns]",
      "text/html": "<div>\n<style scoped>\n    .dataframe tbody tr th:only-of-type {\n        vertical-align: middle;\n    }\n\n    .dataframe tbody tr th {\n        vertical-align: top;\n    }\n\n    .dataframe thead th {\n        text-align: right;\n    }\n</style>\n<table border=\"1\" class=\"dataframe\">\n  <thead>\n    <tr style=\"text-align: right;\">\n      <th></th>\n      <th>0</th>\n      <th>1</th>\n      <th>2</th>\n      <th>3</th>\n      <th>4</th>\n      <th>5</th>\n      <th>6</th>\n      <th>7</th>\n      <th>8</th>\n      <th>9</th>\n      <th>...</th>\n      <th>50779</th>\n      <th>50780</th>\n      <th>50781</th>\n      <th>50782</th>\n      <th>50783</th>\n      <th>50784</th>\n      <th>50785</th>\n      <th>50786</th>\n      <th>50787</th>\n      <th>50788</th>\n    </tr>\n  </thead>\n  <tbody>\n    <tr>\n      <th>0</th>\n      <td>10</td>\n      <td>144</td>\n      <td>163</td>\n      <td>1</td>\n      <td>10</td>\n      <td>19</td>\n      <td>10</td>\n      <td>2</td>\n      <td>105</td>\n      <td>100</td>\n      <td>...</td>\n      <td>NaN</td>\n      <td>NaN</td>\n      <td>NaN</td>\n      <td>NaN</td>\n      <td>NaN</td>\n      <td>NaN</td>\n      <td>NaN</td>\n      <td>NaN</td>\n      <td>NaN</td>\n      <td>NaN</td>\n    </tr>\n    <tr>\n      <th>1</th>\n      <td>10</td>\n      <td>249</td>\n      <td>200</td>\n      <td>1</td>\n      <td>10</td>\n      <td>19</td>\n      <td>10</td>\n      <td>2</td>\n      <td>105</td>\n      <td>100</td>\n      <td>...</td>\n      <td>NaN</td>\n      <td>NaN</td>\n      <td>NaN</td>\n      <td>NaN</td>\n      <td>NaN</td>\n      <td>NaN</td>\n      <td>NaN</td>\n      <td>NaN</td>\n      <td>NaN</td>\n      <td>NaN</td>\n    </tr>\n    <tr>\n      <th>2</th>\n      <td>10</td>\n      <td>201</td>\n      <td>167</td>\n      <td>1</td>\n      <td>10</td>\n      <td>160</td>\n      <td>167</td>\n      <td>1</td>\n      <td>10</td>\n      <td>5</td>\n      <td>...</td>\n      <td>NaN</td>\n      <td>NaN</td>\n      <td>NaN</td>\n      <td>NaN</td>\n      <td>NaN</td>\n      <td>NaN</td>\n      <td>NaN</td>\n      <td>NaN</td>\n      <td>NaN</td>\n      <td>NaN</td>\n    </tr>\n    <tr>\n      <th>3</th>\n      <td>10</td>\n      <td>153</td>\n      <td>157</td>\n      <td>2</td>\n      <td>10</td>\n      <td>19</td>\n      <td>10</td>\n      <td>2</td>\n      <td>105</td>\n      <td>100</td>\n      <td>...</td>\n      <td>NaN</td>\n      <td>NaN</td>\n      <td>NaN</td>\n      <td>NaN</td>\n      <td>NaN</td>\n      <td>NaN</td>\n      <td>NaN</td>\n      <td>NaN</td>\n      <td>NaN</td>\n      <td>NaN</td>\n    </tr>\n    <tr>\n      <th>4</th>\n      <td>10</td>\n      <td>219</td>\n      <td>163</td>\n      <td>1</td>\n      <td>10</td>\n      <td>19</td>\n      <td>10</td>\n      <td>2</td>\n      <td>105</td>\n      <td>100</td>\n      <td>...</td>\n      <td>NaN</td>\n      <td>NaN</td>\n      <td>NaN</td>\n      <td>NaN</td>\n      <td>NaN</td>\n      <td>NaN</td>\n      <td>NaN</td>\n      <td>NaN</td>\n      <td>NaN</td>\n      <td>NaN</td>\n    </tr>\n    <tr>\n      <th>...</th>\n      <td>...</td>\n      <td>...</td>\n      <td>...</td>\n      <td>...</td>\n      <td>...</td>\n      <td>...</td>\n      <td>...</td>\n      <td>...</td>\n      <td>...</td>\n      <td>...</td>\n      <td>...</td>\n      <td>...</td>\n      <td>...</td>\n      <td>...</td>\n      <td>...</td>\n      <td>...</td>\n      <td>...</td>\n      <td>...</td>\n      <td>...</td>\n      <td>...</td>\n      <td>...</td>\n    </tr>\n    <tr>\n      <th>793</th>\n      <td>10</td>\n      <td>175</td>\n      <td>206</td>\n      <td>1</td>\n      <td>10</td>\n      <td>19</td>\n      <td>10</td>\n      <td>2</td>\n      <td>105</td>\n      <td>100</td>\n      <td>...</td>\n      <td>NaN</td>\n      <td>NaN</td>\n      <td>NaN</td>\n      <td>NaN</td>\n      <td>NaN</td>\n      <td>NaN</td>\n      <td>NaN</td>\n      <td>NaN</td>\n      <td>NaN</td>\n      <td>NaN</td>\n    </tr>\n    <tr>\n      <th>794</th>\n      <td>10</td>\n      <td>221</td>\n      <td>140</td>\n      <td>1</td>\n      <td>10</td>\n      <td>19</td>\n      <td>10</td>\n      <td>2</td>\n      <td>105</td>\n      <td>100</td>\n      <td>...</td>\n      <td>NaN</td>\n      <td>NaN</td>\n      <td>NaN</td>\n      <td>NaN</td>\n      <td>NaN</td>\n      <td>NaN</td>\n      <td>NaN</td>\n      <td>NaN</td>\n      <td>NaN</td>\n      <td>NaN</td>\n    </tr>\n    <tr>\n      <th>795</th>\n      <td>10</td>\n      <td>237</td>\n      <td>242</td>\n      <td>1</td>\n      <td>10</td>\n      <td>196</td>\n      <td>242</td>\n      <td>1</td>\n      <td>10</td>\n      <td>5</td>\n      <td>...</td>\n      <td>NaN</td>\n      <td>NaN</td>\n      <td>NaN</td>\n      <td>NaN</td>\n      <td>NaN</td>\n      <td>NaN</td>\n      <td>NaN</td>\n      <td>NaN</td>\n      <td>NaN</td>\n      <td>NaN</td>\n    </tr>\n    <tr>\n      <th>796</th>\n      <td>10</td>\n      <td>184</td>\n      <td>132</td>\n      <td>1</td>\n      <td>10</td>\n      <td>19</td>\n      <td>10</td>\n      <td>2</td>\n      <td>105</td>\n      <td>100</td>\n      <td>...</td>\n      <td>NaN</td>\n      <td>NaN</td>\n      <td>NaN</td>\n      <td>NaN</td>\n      <td>NaN</td>\n      <td>NaN</td>\n      <td>NaN</td>\n      <td>NaN</td>\n      <td>NaN</td>\n      <td>NaN</td>\n    </tr>\n    <tr>\n      <th>797</th>\n      <td>10</td>\n      <td>239</td>\n      <td>199</td>\n      <td>1</td>\n      <td>10</td>\n      <td>19</td>\n      <td>10</td>\n      <td>2</td>\n      <td>105</td>\n      <td>100</td>\n      <td>...</td>\n      <td>NaN</td>\n      <td>NaN</td>\n      <td>NaN</td>\n      <td>NaN</td>\n      <td>NaN</td>\n      <td>NaN</td>\n      <td>NaN</td>\n      <td>NaN</td>\n      <td>NaN</td>\n      <td>NaN</td>\n    </tr>\n  </tbody>\n</table>\n<p>798 rows × 50789 columns</p>\n</div>"
     },
     "execution_count": 101,
     "metadata": {},
     "output_type": "execute_result"
    }
   ],
   "source": [],
   "metadata": {
    "collapsed": false,
    "ExecuteTime": {
     "end_time": "2023-09-17T23:34:28.079501Z",
     "start_time": "2023-09-17T23:34:25.701720Z"
    }
   },
   "id": "122fa2912dcc0ac1"
  },
  {
   "cell_type": "code",
   "execution_count": null,
   "outputs": [],
   "source": [],
   "metadata": {
    "collapsed": false
   },
   "id": "badf13d3d65134aa"
  }
 ],
 "metadata": {
  "kernelspec": {
   "display_name": "Python 3",
   "language": "python",
   "name": "python3"
  },
  "language_info": {
   "codemirror_mode": {
    "name": "ipython",
    "version": 2
   },
   "file_extension": ".py",
   "mimetype": "text/x-python",
   "name": "python",
   "nbconvert_exporter": "python",
   "pygments_lexer": "ipython2",
   "version": "2.7.6"
  }
 },
 "nbformat": 4,
 "nbformat_minor": 5
}
