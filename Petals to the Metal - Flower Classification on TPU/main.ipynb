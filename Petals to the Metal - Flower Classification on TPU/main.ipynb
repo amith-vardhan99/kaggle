{
 "cells": [
  {
   "cell_type": "code",
   "execution_count": 1,
   "id": "initial_id",
   "metadata": {
    "collapsed": true,
    "ExecuteTime": {
     "end_time": "2023-09-19T00:45:30.443616Z",
     "start_time": "2023-09-19T00:45:26.492402Z"
    }
   },
   "outputs": [],
   "source": [
    "import re\n",
    "\n",
    "import numpy as np\n",
    "import pandas as pd\n",
    "import matplotlib.pyplot as plt\n",
    "import seaborn as sns\n",
    "import tensorflow as tf\n",
    "import tensorflow_datasets as tfds\n",
    "import os\n",
    "import nltk"
   ]
  },
  {
   "cell_type": "code",
   "execution_count": 2,
   "outputs": [],
   "source": [
    "k1 = os.listdir(\"/Users/amith/Documents/GitHub/kaggle/Petals to the Metal - Flower Classification on TPU/tpu-getting-started/\")\n",
    "k = \"/Users/amith/Documents/GitHub/kaggle/Petals to the Metal - Flower Classification on TPU/tpu-getting-started/\"\n",
    "dirs = []\n",
    "for i in k1:\n",
    "    if i.count(\"tfrecords-jpeg\")>0:\n",
    "        dirs.append(i)"
   ],
   "metadata": {
    "collapsed": false,
    "ExecuteTime": {
     "end_time": "2023-09-19T00:45:30.444585Z",
     "start_time": "2023-09-19T00:45:30.441516Z"
    }
   },
   "id": "1be57e0ce16343e0"
  },
  {
   "cell_type": "code",
   "execution_count": 3,
   "outputs": [
    {
     "data": {
      "text/plain": "['tfrecords-jpeg-192x192',\n 'tfrecords-jpeg-331x331',\n 'tfrecords-jpeg-512x512',\n 'tfrecords-jpeg-224x224']"
     },
     "execution_count": 3,
     "metadata": {},
     "output_type": "execute_result"
    }
   ],
   "source": [
    "dirs"
   ],
   "metadata": {
    "collapsed": false,
    "ExecuteTime": {
     "end_time": "2023-09-19T00:45:30.460561Z",
     "start_time": "2023-09-19T00:45:30.444952Z"
    }
   },
   "id": "4f76c60ff1be1b84"
  },
  {
   "cell_type": "code",
   "execution_count": 4,
   "outputs": [
    {
     "data": {
      "text/plain": "['tfrecords-jpeg-192x192',\n 'tfrecords-jpeg-331x331',\n 'tfrecords-jpeg-512x512',\n 'tfrecords-jpeg-224x224']"
     },
     "execution_count": 4,
     "metadata": {},
     "output_type": "execute_result"
    }
   ],
   "source": [
    "dirs"
   ],
   "metadata": {
    "collapsed": false,
    "ExecuteTime": {
     "end_time": "2023-09-19T00:45:30.461011Z",
     "start_time": "2023-09-19T00:45:30.450962Z"
    }
   },
   "id": "6ffec38bbc9991bb"
  },
  {
   "cell_type": "code",
   "execution_count": 5,
   "outputs": [],
   "source": [
    "dir_224 = k+dirs[0]\n",
    "dir_331 = k+dirs[1]\n",
    "dir_192 = k+dirs[2]\n",
    "dir_512 = k+dirs[3]"
   ],
   "metadata": {
    "collapsed": false,
    "ExecuteTime": {
     "end_time": "2023-09-19T00:45:30.461127Z",
     "start_time": "2023-09-19T00:45:30.452929Z"
    }
   },
   "id": "aa17f9b4d2403a31"
  },
  {
   "cell_type": "code",
   "execution_count": 6,
   "outputs": [
    {
     "data": {
      "text/plain": "'/Users/amith/Documents/GitHub/kaggle/Petals to the Metal - Flower Classification on TPU/tpu-getting-started/tfrecords-jpeg-512x512'"
     },
     "execution_count": 6,
     "metadata": {},
     "output_type": "execute_result"
    }
   ],
   "source": [
    "dir_192"
   ],
   "metadata": {
    "collapsed": false,
    "ExecuteTime": {
     "end_time": "2023-09-19T00:45:30.461316Z",
     "start_time": "2023-09-19T00:45:30.454961Z"
    }
   },
   "id": "2bdd889494a87707"
  },
  {
   "cell_type": "code",
   "execution_count": 7,
   "outputs": [],
   "source": [
    "dir_192_train = dir_192+\"/train/\"\n",
    "dir_192_val = dir_192+\"/val/\"\n",
    "dir_192_test = dir_192+\"/test/\"\n",
    "\n",
    "dir_331_train = dir_331+\"/train/\"\n",
    "dir_331_val = dir_331+\"/val/\"\n",
    "dir_331_test = dir_331+\"/test/\"\n",
    "\n",
    "dir_512_train = dir_512+\"/train/\"\n",
    "dir_512_val = dir_512+\"/val/\"\n",
    "dir_512_test = dir_512+\"/test/\"\n",
    "\n",
    "dir_224_train = dir_224+\"/train/\"\n",
    "dir_224_val = dir_224+\"/val/\"\n",
    "dir_224_test = dir_224+\"/test/\""
   ],
   "metadata": {
    "collapsed": false,
    "ExecuteTime": {
     "end_time": "2023-09-19T00:45:30.461399Z",
     "start_time": "2023-09-19T00:45:30.457153Z"
    }
   },
   "id": "ef7992956a6ec76f"
  },
  {
   "cell_type": "code",
   "execution_count": 8,
   "outputs": [],
   "source": [
    "dir_train = []\n",
    "\n",
    "for i in os.listdir(dir_192_train):\n",
    "    dir_train.append(dir_192_train+i)\n",
    "\n",
    "for i in os.listdir(dir_331_train):\n",
    "    dir_train.append(dir_331_train+i)\n",
    "\n",
    "for i in os.listdir(dir_512_train):\n",
    "    dir_train.append(dir_512_train+i)\n",
    "\n",
    "for i in os.listdir(dir_224_train):\n",
    "    dir_train.append(dir_224_train+i)\n",
    "\n",
    "dir_val = []\n",
    "\n",
    "for i in os.listdir(dir_192_val):\n",
    "    dir_val.append(dir_192_val+i)\n",
    "\n",
    "for i in os.listdir(dir_331_val):\n",
    "    dir_val.append(dir_331_val+i)\n",
    "\n",
    "for i in os.listdir(dir_512_val):\n",
    "    dir_val.append(dir_512_val+i)\n",
    "\n",
    "for i in os.listdir(dir_224_val):\n",
    "    dir_val.append(dir_224_val+i)\n",
    "\n",
    "dir_test = []\n",
    "\n",
    "for i in os.listdir(dir_192_test):\n",
    "    dir_test.append(dir_192_test+i)\n",
    "\n",
    "for i in os.listdir(dir_331_test):\n",
    "    dir_test.append(dir_331_test+i)\n",
    "\n",
    "for i in os.listdir(dir_512_test):\n",
    "    dir_test.append(dir_512_test+i)\n",
    "\n",
    "for i in os.listdir(dir_224_test):\n",
    "    dir_test.append(dir_224_test+i)"
   ],
   "metadata": {
    "collapsed": false,
    "ExecuteTime": {
     "end_time": "2023-09-19T00:45:30.464329Z",
     "start_time": "2023-09-19T00:45:30.460751Z"
    }
   },
   "id": "b30e7701f4852a04"
  },
  {
   "cell_type": "code",
   "execution_count": 9,
   "outputs": [],
   "source": [
    "df = []\n",
    "for i in dir_train:\n",
    "    df.append(tf.data.TFRecordDataset(i))\n",
    "df_train = np.array(df)\n",
    "\n",
    "df = []\n",
    "for i in dir_val:\n",
    "    df.append(tf.data.TFRecordDataset(i))\n",
    "df_val = np.array(df)\n",
    "\n",
    "df = []\n",
    "for i in dir_test:\n",
    "    df.append(tf.data.TFRecordDataset(i))\n",
    "df_test = np.array(df)"
   ],
   "metadata": {
    "collapsed": false,
    "ExecuteTime": {
     "end_time": "2023-09-19T00:45:31.176742Z",
     "start_time": "2023-09-19T00:45:30.463914Z"
    }
   },
   "id": "84fe30048805ec2e"
  },
  {
   "cell_type": "code",
   "execution_count": 10,
   "outputs": [
    {
     "data": {
      "text/plain": "<TFRecordDatasetV2 element_spec=TensorSpec(shape=(), dtype=tf.string, name=None)>"
     },
     "execution_count": 10,
     "metadata": {},
     "output_type": "execute_result"
    }
   ],
   "source": [
    "df_train[0]"
   ],
   "metadata": {
    "collapsed": false,
    "ExecuteTime": {
     "end_time": "2023-09-19T00:45:31.177159Z",
     "start_time": "2023-09-19T00:45:31.168742Z"
    }
   },
   "id": "5e1303b5905aa054"
  },
  {
   "cell_type": "code",
   "execution_count": 11,
   "outputs": [],
   "source": [
    "image_description = {\n",
    "    \"id\" : tf.io.FixedLenFeature([],tf.string),\n",
    "    \"class\" : tf.io.FixedLenFeature([],tf.int64),\n",
    "    \"image\": tf.io.FixedLenFeature([],tf.string)\n",
    "}"
   ],
   "metadata": {
    "collapsed": false,
    "ExecuteTime": {
     "end_time": "2023-09-19T00:45:31.177250Z",
     "start_time": "2023-09-19T00:45:31.171517Z"
    }
   },
   "id": "574652b3e99b0454"
  },
  {
   "cell_type": "code",
   "execution_count": 12,
   "outputs": [],
   "source": [
    "y = lambda x: tf.io.parse_single_example(x,image_description)"
   ],
   "metadata": {
    "collapsed": false,
    "ExecuteTime": {
     "end_time": "2023-09-19T00:45:31.667842Z",
     "start_time": "2023-09-19T00:45:31.666010Z"
    }
   },
   "id": "648a1c9e3a9d13d8"
  },
  {
   "cell_type": "code",
   "execution_count": 13,
   "outputs": [],
   "source": [
    "img = df_train[0].map(y)"
   ],
   "metadata": {
    "collapsed": false,
    "ExecuteTime": {
     "end_time": "2023-09-19T00:45:32.182760Z",
     "start_time": "2023-09-19T00:45:32.166196Z"
    }
   },
   "id": "4e009f0a971e3b24"
  },
  {
   "cell_type": "code",
   "execution_count": 14,
   "outputs": [
    {
     "data": {
      "text/plain": "{'class': TensorSpec(shape=(), dtype=tf.int64, name=None),\n 'id': TensorSpec(shape=(), dtype=tf.string, name=None),\n 'image': TensorSpec(shape=(), dtype=tf.string, name=None)}"
     },
     "execution_count": 14,
     "metadata": {},
     "output_type": "execute_result"
    }
   ],
   "source": [
    "img.element_spec"
   ],
   "metadata": {
    "collapsed": false,
    "ExecuteTime": {
     "end_time": "2023-09-19T00:45:33.068831Z",
     "start_time": "2023-09-19T00:45:33.063765Z"
    }
   },
   "id": "11fb8d306653a7ff"
  },
  {
   "cell_type": "code",
   "execution_count": 68,
   "outputs": [],
   "source": [
    "ctr = 0\n",
    "cls = []\n",
    "id = []\n",
    "image = []\n",
    "for i in img.take(1):\n",
    "    cls.append(i[\"class\"].numpy())\n",
    "    q = \"\"\n",
    "    for j in i[\"id\"].numpy():\n",
    "        q += chr(j)\n",
    "    id.append(q)\n",
    "    q = []\n",
    "    image.append(i[\"image\"].numpy())"
   ],
   "metadata": {
    "collapsed": false,
    "ExecuteTime": {
     "end_time": "2023-09-19T00:56:07.771399Z",
     "start_time": "2023-09-19T00:56:07.658374Z"
    }
   },
   "id": "489bd6627a47f2a"
  },
  {
   "cell_type": "code",
   "execution_count": null,
   "outputs": [],
   "source": [],
   "metadata": {
    "collapsed": false
   },
   "id": "ecd83c2fb92c94f6"
  }
 ],
 "metadata": {
  "kernelspec": {
   "display_name": "Python 3",
   "language": "python",
   "name": "python3"
  },
  "language_info": {
   "codemirror_mode": {
    "name": "ipython",
    "version": 2
   },
   "file_extension": ".py",
   "mimetype": "text/x-python",
   "name": "python",
   "nbconvert_exporter": "python",
   "pygments_lexer": "ipython2",
   "version": "2.7.6"
  }
 },
 "nbformat": 4,
 "nbformat_minor": 5
}
