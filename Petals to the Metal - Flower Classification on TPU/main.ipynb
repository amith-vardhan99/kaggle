{
 "cells": [
  {
   "cell_type": "code",
   "execution_count": 1,
   "id": "initial_id",
   "metadata": {
    "collapsed": true,
    "ExecuteTime": {
     "end_time": "2023-09-18T17:41:13.955788Z",
     "start_time": "2023-09-18T17:41:05.955082Z"
    }
   },
   "outputs": [],
   "source": [
    "import numpy as np\n",
    "import pandas as pd\n",
    "import matplotlib.pyplot as plt\n",
    "import seaborn as sns\n",
    "import tensorflow as tf\n",
    "import tensorflow_datasets as tfds\n",
    "import os"
   ]
  },
  {
   "cell_type": "code",
   "execution_count": 2,
   "outputs": [],
   "source": [
    "k1 = os.listdir(\"/Users/amith/Documents/GitHub/kaggle/Petals to the Metal - Flower Classification on TPU/tpu-getting-started/\")\n",
    "k = \"/Users/amith/Documents/GitHub/kaggle/Petals to the Metal - Flower Classification on TPU/tpu-getting-started/\"\n",
    "dirs = []\n",
    "for i in k1:\n",
    "    if i.count(\"tfrecords-jpeg\")>0:\n",
    "        dirs.append(i)"
   ],
   "metadata": {
    "collapsed": false,
    "ExecuteTime": {
     "end_time": "2023-09-18T17:41:13.960315Z",
     "start_time": "2023-09-18T17:41:13.955690Z"
    }
   },
   "id": "3969d3e61342879f"
  },
  {
   "cell_type": "code",
   "execution_count": 3,
   "outputs": [],
   "source": [
    "dir_192 = k+dirs[0]\n",
    "dir_331 = k+dirs[1]\n",
    "dir_512 = k+dirs[2]\n",
    "dir_224 = k+dirs[3]"
   ],
   "metadata": {
    "collapsed": false,
    "ExecuteTime": {
     "end_time": "2023-09-18T17:41:13.960898Z",
     "start_time": "2023-09-18T17:41:13.959359Z"
    }
   },
   "id": "bef32a3a909e8b8e"
  },
  {
   "cell_type": "code",
   "execution_count": 4,
   "outputs": [],
   "source": [
    "dir_192_train = dir_192+\"/train\"\n",
    "dir_192_val = dir_192+\"/val\"\n",
    "dir_192_test = dir_192+\"/test\"\n",
    "\n",
    "dir_331_train = dir_331+\"/train\"\n",
    "dir_331_val = dir_331+\"/val\"\n",
    "dir_331_test = dir_331+\"/test\"\n",
    "\n",
    "dir_512_train = dir_512+\"/train\"\n",
    "dir_512_val = dir_512+\"/val\"\n",
    "dir_512_test = dir_512+\"/test\"\n",
    "\n",
    "dir_224_train = dir_224+\"/train\"\n",
    "dir_224_val = dir_224+\"/val\"\n",
    "dir_224_test = dir_224+\"/test\""
   ],
   "metadata": {
    "collapsed": false,
    "ExecuteTime": {
     "end_time": "2023-09-18T17:41:28.417197Z",
     "start_time": "2023-09-18T17:41:28.409031Z"
    }
   },
   "id": "89ed2bb8d8dd8a30"
  },
  {
   "cell_type": "code",
   "execution_count": 5,
   "outputs": [],
   "source": [
    "dir_train = []\n",
    "\n",
    "for i in os.listdir(dir_192_train):\n",
    "    dir_train.append(dir_192_train+i)\n",
    "\n",
    "for i in os.listdir(dir_331_train):\n",
    "    dir_train.append(dir_331_train+i)\n",
    "\n",
    "for i in os.listdir(dir_512_train):\n",
    "    dir_train.append(dir_512_train+i)\n",
    "\n",
    "for i in os.listdir(dir_224_train):\n",
    "    dir_train.append(dir_224_train+i)\n",
    "\n",
    "dir_val = []\n",
    "\n",
    "for i in os.listdir(dir_192_val):\n",
    "    dir_val.append(dir_192_val+i)\n",
    "\n",
    "for i in os.listdir(dir_331_val):\n",
    "    dir_val.append(dir_331_val+i)\n",
    "\n",
    "for i in os.listdir(dir_512_val):\n",
    "    dir_val.append(dir_512_val+i)\n",
    "\n",
    "for i in os.listdir(dir_224_val):\n",
    "    dir_val.append(dir_224_val+i)\n",
    "\n",
    "dir_test = []\n",
    "\n",
    "for i in os.listdir(dir_192_test):\n",
    "    dir_test.append(dir_192_test+i)\n",
    "\n",
    "for i in os.listdir(dir_331_test):\n",
    "    dir_test.append(dir_331_test+i)\n",
    "\n",
    "for i in os.listdir(dir_512_test):\n",
    "    dir_test.append(dir_512_test+i)\n",
    "\n",
    "for i in os.listdir(dir_224_test):\n",
    "    dir_test.append(dir_224_test+i)"
   ],
   "metadata": {
    "collapsed": false,
    "ExecuteTime": {
     "end_time": "2023-09-18T17:41:55.950059Z",
     "start_time": "2023-09-18T17:41:55.945194Z"
    }
   },
   "id": "5868344676d43285"
  },
  {
   "cell_type": "code",
   "execution_count": 6,
   "outputs": [],
   "source": [
    "df = []\n",
    "for i in dir_train:\n",
    "    df.append(tf.data.TFRecordDataset(i))\n",
    "df_train = np.array(df)\n",
    "\n",
    "df = []\n",
    "for i in dir_val:\n",
    "    df.append(tf.data.TFRecordDataset(i))\n",
    "df_val = np.array(df)\n",
    "\n",
    "df = []\n",
    "for i in dir_test:\n",
    "    df.append(tf.data.TFRecordDataset(i))\n",
    "df_test = np.array(df)"
   ],
   "metadata": {
    "collapsed": false,
    "ExecuteTime": {
     "end_time": "2023-09-18T17:42:05.825487Z",
     "start_time": "2023-09-18T17:42:05.179559Z"
    }
   },
   "id": "481a45de16ab971e"
  },
  {
   "cell_type": "code",
   "execution_count": 7,
   "outputs": [
    {
     "data": {
      "text/plain": "array([<TFRecordDatasetV2 element_spec=TensorSpec(shape=(), dtype=tf.string, name=None)>,\n       <TFRecordDatasetV2 element_spec=TensorSpec(shape=(), dtype=tf.string, name=None)>,\n       <TFRecordDatasetV2 element_spec=TensorSpec(shape=(), dtype=tf.string, name=None)>,\n       <TFRecordDatasetV2 element_spec=TensorSpec(shape=(), dtype=tf.string, name=None)>,\n       <TFRecordDatasetV2 element_spec=TensorSpec(shape=(), dtype=tf.string, name=None)>,\n       <TFRecordDatasetV2 element_spec=TensorSpec(shape=(), dtype=tf.string, name=None)>,\n       <TFRecordDatasetV2 element_spec=TensorSpec(shape=(), dtype=tf.string, name=None)>,\n       <TFRecordDatasetV2 element_spec=TensorSpec(shape=(), dtype=tf.string, name=None)>,\n       <TFRecordDatasetV2 element_spec=TensorSpec(shape=(), dtype=tf.string, name=None)>,\n       <TFRecordDatasetV2 element_spec=TensorSpec(shape=(), dtype=tf.string, name=None)>,\n       <TFRecordDatasetV2 element_spec=TensorSpec(shape=(), dtype=tf.string, name=None)>,\n       <TFRecordDatasetV2 element_spec=TensorSpec(shape=(), dtype=tf.string, name=None)>,\n       <TFRecordDatasetV2 element_spec=TensorSpec(shape=(), dtype=tf.string, name=None)>,\n       <TFRecordDatasetV2 element_spec=TensorSpec(shape=(), dtype=tf.string, name=None)>,\n       <TFRecordDatasetV2 element_spec=TensorSpec(shape=(), dtype=tf.string, name=None)>,\n       <TFRecordDatasetV2 element_spec=TensorSpec(shape=(), dtype=tf.string, name=None)>,\n       <TFRecordDatasetV2 element_spec=TensorSpec(shape=(), dtype=tf.string, name=None)>,\n       <TFRecordDatasetV2 element_spec=TensorSpec(shape=(), dtype=tf.string, name=None)>,\n       <TFRecordDatasetV2 element_spec=TensorSpec(shape=(), dtype=tf.string, name=None)>,\n       <TFRecordDatasetV2 element_spec=TensorSpec(shape=(), dtype=tf.string, name=None)>,\n       <TFRecordDatasetV2 element_spec=TensorSpec(shape=(), dtype=tf.string, name=None)>,\n       <TFRecordDatasetV2 element_spec=TensorSpec(shape=(), dtype=tf.string, name=None)>,\n       <TFRecordDatasetV2 element_spec=TensorSpec(shape=(), dtype=tf.string, name=None)>,\n       <TFRecordDatasetV2 element_spec=TensorSpec(shape=(), dtype=tf.string, name=None)>,\n       <TFRecordDatasetV2 element_spec=TensorSpec(shape=(), dtype=tf.string, name=None)>,\n       <TFRecordDatasetV2 element_spec=TensorSpec(shape=(), dtype=tf.string, name=None)>,\n       <TFRecordDatasetV2 element_spec=TensorSpec(shape=(), dtype=tf.string, name=None)>,\n       <TFRecordDatasetV2 element_spec=TensorSpec(shape=(), dtype=tf.string, name=None)>,\n       <TFRecordDatasetV2 element_spec=TensorSpec(shape=(), dtype=tf.string, name=None)>,\n       <TFRecordDatasetV2 element_spec=TensorSpec(shape=(), dtype=tf.string, name=None)>,\n       <TFRecordDatasetV2 element_spec=TensorSpec(shape=(), dtype=tf.string, name=None)>,\n       <TFRecordDatasetV2 element_spec=TensorSpec(shape=(), dtype=tf.string, name=None)>,\n       <TFRecordDatasetV2 element_spec=TensorSpec(shape=(), dtype=tf.string, name=None)>,\n       <TFRecordDatasetV2 element_spec=TensorSpec(shape=(), dtype=tf.string, name=None)>,\n       <TFRecordDatasetV2 element_spec=TensorSpec(shape=(), dtype=tf.string, name=None)>,\n       <TFRecordDatasetV2 element_spec=TensorSpec(shape=(), dtype=tf.string, name=None)>,\n       <TFRecordDatasetV2 element_spec=TensorSpec(shape=(), dtype=tf.string, name=None)>,\n       <TFRecordDatasetV2 element_spec=TensorSpec(shape=(), dtype=tf.string, name=None)>,\n       <TFRecordDatasetV2 element_spec=TensorSpec(shape=(), dtype=tf.string, name=None)>,\n       <TFRecordDatasetV2 element_spec=TensorSpec(shape=(), dtype=tf.string, name=None)>,\n       <TFRecordDatasetV2 element_spec=TensorSpec(shape=(), dtype=tf.string, name=None)>,\n       <TFRecordDatasetV2 element_spec=TensorSpec(shape=(), dtype=tf.string, name=None)>,\n       <TFRecordDatasetV2 element_spec=TensorSpec(shape=(), dtype=tf.string, name=None)>,\n       <TFRecordDatasetV2 element_spec=TensorSpec(shape=(), dtype=tf.string, name=None)>,\n       <TFRecordDatasetV2 element_spec=TensorSpec(shape=(), dtype=tf.string, name=None)>,\n       <TFRecordDatasetV2 element_spec=TensorSpec(shape=(), dtype=tf.string, name=None)>,\n       <TFRecordDatasetV2 element_spec=TensorSpec(shape=(), dtype=tf.string, name=None)>,\n       <TFRecordDatasetV2 element_spec=TensorSpec(shape=(), dtype=tf.string, name=None)>,\n       <TFRecordDatasetV2 element_spec=TensorSpec(shape=(), dtype=tf.string, name=None)>,\n       <TFRecordDatasetV2 element_spec=TensorSpec(shape=(), dtype=tf.string, name=None)>,\n       <TFRecordDatasetV2 element_spec=TensorSpec(shape=(), dtype=tf.string, name=None)>,\n       <TFRecordDatasetV2 element_spec=TensorSpec(shape=(), dtype=tf.string, name=None)>,\n       <TFRecordDatasetV2 element_spec=TensorSpec(shape=(), dtype=tf.string, name=None)>,\n       <TFRecordDatasetV2 element_spec=TensorSpec(shape=(), dtype=tf.string, name=None)>,\n       <TFRecordDatasetV2 element_spec=TensorSpec(shape=(), dtype=tf.string, name=None)>,\n       <TFRecordDatasetV2 element_spec=TensorSpec(shape=(), dtype=tf.string, name=None)>,\n       <TFRecordDatasetV2 element_spec=TensorSpec(shape=(), dtype=tf.string, name=None)>,\n       <TFRecordDatasetV2 element_spec=TensorSpec(shape=(), dtype=tf.string, name=None)>,\n       <TFRecordDatasetV2 element_spec=TensorSpec(shape=(), dtype=tf.string, name=None)>,\n       <TFRecordDatasetV2 element_spec=TensorSpec(shape=(), dtype=tf.string, name=None)>,\n       <TFRecordDatasetV2 element_spec=TensorSpec(shape=(), dtype=tf.string, name=None)>,\n       <TFRecordDatasetV2 element_spec=TensorSpec(shape=(), dtype=tf.string, name=None)>,\n       <TFRecordDatasetV2 element_spec=TensorSpec(shape=(), dtype=tf.string, name=None)>,\n       <TFRecordDatasetV2 element_spec=TensorSpec(shape=(), dtype=tf.string, name=None)>],\n      dtype=object)"
     },
     "execution_count": 7,
     "metadata": {},
     "output_type": "execute_result"
    }
   ],
   "source": [
    "df_train"
   ],
   "metadata": {
    "collapsed": false,
    "ExecuteTime": {
     "end_time": "2023-09-18T17:42:08.476226Z",
     "start_time": "2023-09-18T17:42:08.470820Z"
    }
   },
   "id": "d4c543ec3414d714"
  },
  {
   "cell_type": "code",
   "execution_count": 8,
   "outputs": [
    {
     "data": {
      "text/plain": "array([<TFRecordDatasetV2 element_spec=TensorSpec(shape=(), dtype=tf.string, name=None)>,\n       <TFRecordDatasetV2 element_spec=TensorSpec(shape=(), dtype=tf.string, name=None)>,\n       <TFRecordDatasetV2 element_spec=TensorSpec(shape=(), dtype=tf.string, name=None)>,\n       <TFRecordDatasetV2 element_spec=TensorSpec(shape=(), dtype=tf.string, name=None)>,\n       <TFRecordDatasetV2 element_spec=TensorSpec(shape=(), dtype=tf.string, name=None)>,\n       <TFRecordDatasetV2 element_spec=TensorSpec(shape=(), dtype=tf.string, name=None)>,\n       <TFRecordDatasetV2 element_spec=TensorSpec(shape=(), dtype=tf.string, name=None)>,\n       <TFRecordDatasetV2 element_spec=TensorSpec(shape=(), dtype=tf.string, name=None)>,\n       <TFRecordDatasetV2 element_spec=TensorSpec(shape=(), dtype=tf.string, name=None)>,\n       <TFRecordDatasetV2 element_spec=TensorSpec(shape=(), dtype=tf.string, name=None)>,\n       <TFRecordDatasetV2 element_spec=TensorSpec(shape=(), dtype=tf.string, name=None)>,\n       <TFRecordDatasetV2 element_spec=TensorSpec(shape=(), dtype=tf.string, name=None)>,\n       <TFRecordDatasetV2 element_spec=TensorSpec(shape=(), dtype=tf.string, name=None)>,\n       <TFRecordDatasetV2 element_spec=TensorSpec(shape=(), dtype=tf.string, name=None)>,\n       <TFRecordDatasetV2 element_spec=TensorSpec(shape=(), dtype=tf.string, name=None)>,\n       <TFRecordDatasetV2 element_spec=TensorSpec(shape=(), dtype=tf.string, name=None)>,\n       <TFRecordDatasetV2 element_spec=TensorSpec(shape=(), dtype=tf.string, name=None)>,\n       <TFRecordDatasetV2 element_spec=TensorSpec(shape=(), dtype=tf.string, name=None)>,\n       <TFRecordDatasetV2 element_spec=TensorSpec(shape=(), dtype=tf.string, name=None)>,\n       <TFRecordDatasetV2 element_spec=TensorSpec(shape=(), dtype=tf.string, name=None)>,\n       <TFRecordDatasetV2 element_spec=TensorSpec(shape=(), dtype=tf.string, name=None)>,\n       <TFRecordDatasetV2 element_spec=TensorSpec(shape=(), dtype=tf.string, name=None)>,\n       <TFRecordDatasetV2 element_spec=TensorSpec(shape=(), dtype=tf.string, name=None)>,\n       <TFRecordDatasetV2 element_spec=TensorSpec(shape=(), dtype=tf.string, name=None)>,\n       <TFRecordDatasetV2 element_spec=TensorSpec(shape=(), dtype=tf.string, name=None)>,\n       <TFRecordDatasetV2 element_spec=TensorSpec(shape=(), dtype=tf.string, name=None)>,\n       <TFRecordDatasetV2 element_spec=TensorSpec(shape=(), dtype=tf.string, name=None)>,\n       <TFRecordDatasetV2 element_spec=TensorSpec(shape=(), dtype=tf.string, name=None)>,\n       <TFRecordDatasetV2 element_spec=TensorSpec(shape=(), dtype=tf.string, name=None)>,\n       <TFRecordDatasetV2 element_spec=TensorSpec(shape=(), dtype=tf.string, name=None)>,\n       <TFRecordDatasetV2 element_spec=TensorSpec(shape=(), dtype=tf.string, name=None)>,\n       <TFRecordDatasetV2 element_spec=TensorSpec(shape=(), dtype=tf.string, name=None)>,\n       <TFRecordDatasetV2 element_spec=TensorSpec(shape=(), dtype=tf.string, name=None)>,\n       <TFRecordDatasetV2 element_spec=TensorSpec(shape=(), dtype=tf.string, name=None)>,\n       <TFRecordDatasetV2 element_spec=TensorSpec(shape=(), dtype=tf.string, name=None)>,\n       <TFRecordDatasetV2 element_spec=TensorSpec(shape=(), dtype=tf.string, name=None)>,\n       <TFRecordDatasetV2 element_spec=TensorSpec(shape=(), dtype=tf.string, name=None)>,\n       <TFRecordDatasetV2 element_spec=TensorSpec(shape=(), dtype=tf.string, name=None)>,\n       <TFRecordDatasetV2 element_spec=TensorSpec(shape=(), dtype=tf.string, name=None)>,\n       <TFRecordDatasetV2 element_spec=TensorSpec(shape=(), dtype=tf.string, name=None)>,\n       <TFRecordDatasetV2 element_spec=TensorSpec(shape=(), dtype=tf.string, name=None)>,\n       <TFRecordDatasetV2 element_spec=TensorSpec(shape=(), dtype=tf.string, name=None)>,\n       <TFRecordDatasetV2 element_spec=TensorSpec(shape=(), dtype=tf.string, name=None)>,\n       <TFRecordDatasetV2 element_spec=TensorSpec(shape=(), dtype=tf.string, name=None)>,\n       <TFRecordDatasetV2 element_spec=TensorSpec(shape=(), dtype=tf.string, name=None)>,\n       <TFRecordDatasetV2 element_spec=TensorSpec(shape=(), dtype=tf.string, name=None)>,\n       <TFRecordDatasetV2 element_spec=TensorSpec(shape=(), dtype=tf.string, name=None)>,\n       <TFRecordDatasetV2 element_spec=TensorSpec(shape=(), dtype=tf.string, name=None)>,\n       <TFRecordDatasetV2 element_spec=TensorSpec(shape=(), dtype=tf.string, name=None)>,\n       <TFRecordDatasetV2 element_spec=TensorSpec(shape=(), dtype=tf.string, name=None)>,\n       <TFRecordDatasetV2 element_spec=TensorSpec(shape=(), dtype=tf.string, name=None)>,\n       <TFRecordDatasetV2 element_spec=TensorSpec(shape=(), dtype=tf.string, name=None)>,\n       <TFRecordDatasetV2 element_spec=TensorSpec(shape=(), dtype=tf.string, name=None)>,\n       <TFRecordDatasetV2 element_spec=TensorSpec(shape=(), dtype=tf.string, name=None)>,\n       <TFRecordDatasetV2 element_spec=TensorSpec(shape=(), dtype=tf.string, name=None)>,\n       <TFRecordDatasetV2 element_spec=TensorSpec(shape=(), dtype=tf.string, name=None)>,\n       <TFRecordDatasetV2 element_spec=TensorSpec(shape=(), dtype=tf.string, name=None)>,\n       <TFRecordDatasetV2 element_spec=TensorSpec(shape=(), dtype=tf.string, name=None)>,\n       <TFRecordDatasetV2 element_spec=TensorSpec(shape=(), dtype=tf.string, name=None)>,\n       <TFRecordDatasetV2 element_spec=TensorSpec(shape=(), dtype=tf.string, name=None)>,\n       <TFRecordDatasetV2 element_spec=TensorSpec(shape=(), dtype=tf.string, name=None)>,\n       <TFRecordDatasetV2 element_spec=TensorSpec(shape=(), dtype=tf.string, name=None)>,\n       <TFRecordDatasetV2 element_spec=TensorSpec(shape=(), dtype=tf.string, name=None)>,\n       <TFRecordDatasetV2 element_spec=TensorSpec(shape=(), dtype=tf.string, name=None)>],\n      dtype=object)"
     },
     "execution_count": 8,
     "metadata": {},
     "output_type": "execute_result"
    }
   ],
   "source": [
    "df_val"
   ],
   "metadata": {
    "collapsed": false,
    "ExecuteTime": {
     "end_time": "2023-09-18T17:42:10.069230Z",
     "start_time": "2023-09-18T17:42:10.062878Z"
    }
   },
   "id": "bd645df3e0cc698d"
  },
  {
   "cell_type": "code",
   "execution_count": 9,
   "outputs": [
    {
     "data": {
      "text/plain": "array([<TFRecordDatasetV2 element_spec=TensorSpec(shape=(), dtype=tf.string, name=None)>,\n       <TFRecordDatasetV2 element_spec=TensorSpec(shape=(), dtype=tf.string, name=None)>,\n       <TFRecordDatasetV2 element_spec=TensorSpec(shape=(), dtype=tf.string, name=None)>,\n       <TFRecordDatasetV2 element_spec=TensorSpec(shape=(), dtype=tf.string, name=None)>,\n       <TFRecordDatasetV2 element_spec=TensorSpec(shape=(), dtype=tf.string, name=None)>,\n       <TFRecordDatasetV2 element_spec=TensorSpec(shape=(), dtype=tf.string, name=None)>,\n       <TFRecordDatasetV2 element_spec=TensorSpec(shape=(), dtype=tf.string, name=None)>,\n       <TFRecordDatasetV2 element_spec=TensorSpec(shape=(), dtype=tf.string, name=None)>,\n       <TFRecordDatasetV2 element_spec=TensorSpec(shape=(), dtype=tf.string, name=None)>,\n       <TFRecordDatasetV2 element_spec=TensorSpec(shape=(), dtype=tf.string, name=None)>,\n       <TFRecordDatasetV2 element_spec=TensorSpec(shape=(), dtype=tf.string, name=None)>,\n       <TFRecordDatasetV2 element_spec=TensorSpec(shape=(), dtype=tf.string, name=None)>,\n       <TFRecordDatasetV2 element_spec=TensorSpec(shape=(), dtype=tf.string, name=None)>,\n       <TFRecordDatasetV2 element_spec=TensorSpec(shape=(), dtype=tf.string, name=None)>,\n       <TFRecordDatasetV2 element_spec=TensorSpec(shape=(), dtype=tf.string, name=None)>,\n       <TFRecordDatasetV2 element_spec=TensorSpec(shape=(), dtype=tf.string, name=None)>,\n       <TFRecordDatasetV2 element_spec=TensorSpec(shape=(), dtype=tf.string, name=None)>,\n       <TFRecordDatasetV2 element_spec=TensorSpec(shape=(), dtype=tf.string, name=None)>,\n       <TFRecordDatasetV2 element_spec=TensorSpec(shape=(), dtype=tf.string, name=None)>,\n       <TFRecordDatasetV2 element_spec=TensorSpec(shape=(), dtype=tf.string, name=None)>,\n       <TFRecordDatasetV2 element_spec=TensorSpec(shape=(), dtype=tf.string, name=None)>,\n       <TFRecordDatasetV2 element_spec=TensorSpec(shape=(), dtype=tf.string, name=None)>,\n       <TFRecordDatasetV2 element_spec=TensorSpec(shape=(), dtype=tf.string, name=None)>,\n       <TFRecordDatasetV2 element_spec=TensorSpec(shape=(), dtype=tf.string, name=None)>,\n       <TFRecordDatasetV2 element_spec=TensorSpec(shape=(), dtype=tf.string, name=None)>,\n       <TFRecordDatasetV2 element_spec=TensorSpec(shape=(), dtype=tf.string, name=None)>,\n       <TFRecordDatasetV2 element_spec=TensorSpec(shape=(), dtype=tf.string, name=None)>,\n       <TFRecordDatasetV2 element_spec=TensorSpec(shape=(), dtype=tf.string, name=None)>,\n       <TFRecordDatasetV2 element_spec=TensorSpec(shape=(), dtype=tf.string, name=None)>,\n       <TFRecordDatasetV2 element_spec=TensorSpec(shape=(), dtype=tf.string, name=None)>,\n       <TFRecordDatasetV2 element_spec=TensorSpec(shape=(), dtype=tf.string, name=None)>,\n       <TFRecordDatasetV2 element_spec=TensorSpec(shape=(), dtype=tf.string, name=None)>,\n       <TFRecordDatasetV2 element_spec=TensorSpec(shape=(), dtype=tf.string, name=None)>,\n       <TFRecordDatasetV2 element_spec=TensorSpec(shape=(), dtype=tf.string, name=None)>,\n       <TFRecordDatasetV2 element_spec=TensorSpec(shape=(), dtype=tf.string, name=None)>,\n       <TFRecordDatasetV2 element_spec=TensorSpec(shape=(), dtype=tf.string, name=None)>,\n       <TFRecordDatasetV2 element_spec=TensorSpec(shape=(), dtype=tf.string, name=None)>,\n       <TFRecordDatasetV2 element_spec=TensorSpec(shape=(), dtype=tf.string, name=None)>,\n       <TFRecordDatasetV2 element_spec=TensorSpec(shape=(), dtype=tf.string, name=None)>,\n       <TFRecordDatasetV2 element_spec=TensorSpec(shape=(), dtype=tf.string, name=None)>,\n       <TFRecordDatasetV2 element_spec=TensorSpec(shape=(), dtype=tf.string, name=None)>,\n       <TFRecordDatasetV2 element_spec=TensorSpec(shape=(), dtype=tf.string, name=None)>,\n       <TFRecordDatasetV2 element_spec=TensorSpec(shape=(), dtype=tf.string, name=None)>,\n       <TFRecordDatasetV2 element_spec=TensorSpec(shape=(), dtype=tf.string, name=None)>,\n       <TFRecordDatasetV2 element_spec=TensorSpec(shape=(), dtype=tf.string, name=None)>,\n       <TFRecordDatasetV2 element_spec=TensorSpec(shape=(), dtype=tf.string, name=None)>,\n       <TFRecordDatasetV2 element_spec=TensorSpec(shape=(), dtype=tf.string, name=None)>,\n       <TFRecordDatasetV2 element_spec=TensorSpec(shape=(), dtype=tf.string, name=None)>,\n       <TFRecordDatasetV2 element_spec=TensorSpec(shape=(), dtype=tf.string, name=None)>,\n       <TFRecordDatasetV2 element_spec=TensorSpec(shape=(), dtype=tf.string, name=None)>,\n       <TFRecordDatasetV2 element_spec=TensorSpec(shape=(), dtype=tf.string, name=None)>,\n       <TFRecordDatasetV2 element_spec=TensorSpec(shape=(), dtype=tf.string, name=None)>,\n       <TFRecordDatasetV2 element_spec=TensorSpec(shape=(), dtype=tf.string, name=None)>,\n       <TFRecordDatasetV2 element_spec=TensorSpec(shape=(), dtype=tf.string, name=None)>,\n       <TFRecordDatasetV2 element_spec=TensorSpec(shape=(), dtype=tf.string, name=None)>,\n       <TFRecordDatasetV2 element_spec=TensorSpec(shape=(), dtype=tf.string, name=None)>,\n       <TFRecordDatasetV2 element_spec=TensorSpec(shape=(), dtype=tf.string, name=None)>,\n       <TFRecordDatasetV2 element_spec=TensorSpec(shape=(), dtype=tf.string, name=None)>,\n       <TFRecordDatasetV2 element_spec=TensorSpec(shape=(), dtype=tf.string, name=None)>,\n       <TFRecordDatasetV2 element_spec=TensorSpec(shape=(), dtype=tf.string, name=None)>,\n       <TFRecordDatasetV2 element_spec=TensorSpec(shape=(), dtype=tf.string, name=None)>,\n       <TFRecordDatasetV2 element_spec=TensorSpec(shape=(), dtype=tf.string, name=None)>,\n       <TFRecordDatasetV2 element_spec=TensorSpec(shape=(), dtype=tf.string, name=None)>,\n       <TFRecordDatasetV2 element_spec=TensorSpec(shape=(), dtype=tf.string, name=None)>],\n      dtype=object)"
     },
     "execution_count": 9,
     "metadata": {},
     "output_type": "execute_result"
    }
   ],
   "source": [
    "df_test"
   ],
   "metadata": {
    "collapsed": false,
    "ExecuteTime": {
     "end_time": "2023-09-18T17:42:10.564783Z",
     "start_time": "2023-09-18T17:42:10.561986Z"
    }
   },
   "id": "b38a10750982a8e3"
  },
  {
   "cell_type": "code",
   "execution_count": 36,
   "outputs": [],
   "source": [
    "img_describe = {\n",
    "    \"height\": tf.io.FixedLenFeature([],dtype=tf.int64),\n",
    "    \"width\": tf.io.FixedLenFeature([],dtype=tf.int64),\n",
    "    \"depth\": tf.io.FixedLenFeature([],dtype=tf.int64),\n",
    "    \"label\": tf.io.FixedLenFeature([],dtype=tf.float32),\n",
    "    \"image_raw\": tf.io.FixedLenFeature([],dtype=tf.string),\n",
    "}"
   ],
   "metadata": {
    "collapsed": false,
    "ExecuteTime": {
     "end_time": "2023-09-18T17:50:46.719562Z",
     "start_time": "2023-09-18T17:50:46.717915Z"
    }
   },
   "id": "c4b168479836a134"
  },
  {
   "cell_type": "code",
   "execution_count": 37,
   "outputs": [],
   "source": [
    "y = lambda x: tf.io.parse_single_example(x,img_describe)"
   ],
   "metadata": {
    "collapsed": false,
    "ExecuteTime": {
     "end_time": "2023-09-18T17:50:46.985774Z",
     "start_time": "2023-09-18T17:50:46.982594Z"
    }
   },
   "id": "b356af1f9672547"
  },
  {
   "cell_type": "code",
   "execution_count": 39,
   "outputs": [],
   "source": [
    "df_train_parsed = df_train[0].map(y)"
   ],
   "metadata": {
    "collapsed": false,
    "ExecuteTime": {
     "end_time": "2023-09-18T17:51:07.591869Z",
     "start_time": "2023-09-18T17:51:07.571773Z"
    }
   },
   "id": "3341deefccd70eb"
  },
  {
   "cell_type": "code",
   "execution_count": 41,
   "outputs": [
    {
     "ename": "NotFoundError",
     "evalue": "{{function_node __wrapped__IteratorGetNext_output_types_5_device_/job:localhost/replica:0/task:0/device:CPU:0}} /Users/amith/Documents/GitHub/kaggle/Petals to the Metal - Flower Classification on TPU/tpu-getting-started/tfrecords-jpeg-192x192/train07-192x192-798.tfrec; No such file or directory [Op:IteratorGetNext] name: ",
     "output_type": "error",
     "traceback": [
      "\u001B[0;31m---------------------------------------------------------------------------\u001B[0m",
      "\u001B[0;31mNotFoundError\u001B[0m                             Traceback (most recent call last)",
      "Cell \u001B[0;32mIn[41], line 1\u001B[0m\n\u001B[0;32m----> 1\u001B[0m \u001B[38;5;28;01mfor\u001B[39;00m i \u001B[38;5;129;01min\u001B[39;00m df_train_parsed\u001B[38;5;241m.\u001B[39mtake(\u001B[38;5;241m10\u001B[39m):\n\u001B[1;32m      2\u001B[0m     \u001B[38;5;28mprint\u001B[39m(\u001B[38;5;28mrepr\u001B[39m(i))\n",
      "File \u001B[0;32m/Library/Frameworks/Python.framework/Versions/3.11/lib/python3.11/site-packages/tensorflow/python/data/ops/iterator_ops.py:814\u001B[0m, in \u001B[0;36mOwnedIterator.__next__\u001B[0;34m(self)\u001B[0m\n\u001B[1;32m    812\u001B[0m \u001B[38;5;28;01mdef\u001B[39;00m \u001B[38;5;21m__next__\u001B[39m(\u001B[38;5;28mself\u001B[39m):\n\u001B[1;32m    813\u001B[0m   \u001B[38;5;28;01mtry\u001B[39;00m:\n\u001B[0;32m--> 814\u001B[0m     \u001B[38;5;28;01mreturn\u001B[39;00m \u001B[38;5;28;43mself\u001B[39;49m\u001B[38;5;241;43m.\u001B[39;49m\u001B[43m_next_internal\u001B[49m\u001B[43m(\u001B[49m\u001B[43m)\u001B[49m\n\u001B[1;32m    815\u001B[0m   \u001B[38;5;28;01mexcept\u001B[39;00m errors\u001B[38;5;241m.\u001B[39mOutOfRangeError:\n\u001B[1;32m    816\u001B[0m     \u001B[38;5;28;01mraise\u001B[39;00m \u001B[38;5;167;01mStopIteration\u001B[39;00m\n",
      "File \u001B[0;32m/Library/Frameworks/Python.framework/Versions/3.11/lib/python3.11/site-packages/tensorflow/python/data/ops/iterator_ops.py:777\u001B[0m, in \u001B[0;36mOwnedIterator._next_internal\u001B[0;34m(self)\u001B[0m\n\u001B[1;32m    774\u001B[0m \u001B[38;5;66;03m# TODO(b/77291417): This runs in sync mode as iterators use an error status\u001B[39;00m\n\u001B[1;32m    775\u001B[0m \u001B[38;5;66;03m# to communicate that there is no more data to iterate over.\u001B[39;00m\n\u001B[1;32m    776\u001B[0m \u001B[38;5;28;01mwith\u001B[39;00m context\u001B[38;5;241m.\u001B[39mexecution_mode(context\u001B[38;5;241m.\u001B[39mSYNC):\n\u001B[0;32m--> 777\u001B[0m   ret \u001B[38;5;241m=\u001B[39m \u001B[43mgen_dataset_ops\u001B[49m\u001B[38;5;241;43m.\u001B[39;49m\u001B[43miterator_get_next\u001B[49m\u001B[43m(\u001B[49m\n\u001B[1;32m    778\u001B[0m \u001B[43m      \u001B[49m\u001B[38;5;28;43mself\u001B[39;49m\u001B[38;5;241;43m.\u001B[39;49m\u001B[43m_iterator_resource\u001B[49m\u001B[43m,\u001B[49m\n\u001B[1;32m    779\u001B[0m \u001B[43m      \u001B[49m\u001B[43moutput_types\u001B[49m\u001B[38;5;241;43m=\u001B[39;49m\u001B[38;5;28;43mself\u001B[39;49m\u001B[38;5;241;43m.\u001B[39;49m\u001B[43m_flat_output_types\u001B[49m\u001B[43m,\u001B[49m\n\u001B[1;32m    780\u001B[0m \u001B[43m      \u001B[49m\u001B[43moutput_shapes\u001B[49m\u001B[38;5;241;43m=\u001B[39;49m\u001B[38;5;28;43mself\u001B[39;49m\u001B[38;5;241;43m.\u001B[39;49m\u001B[43m_flat_output_shapes\u001B[49m\u001B[43m)\u001B[49m\n\u001B[1;32m    782\u001B[0m   \u001B[38;5;28;01mtry\u001B[39;00m:\n\u001B[1;32m    783\u001B[0m     \u001B[38;5;66;03m# Fast path for the case `self._structure` is not a nested structure.\u001B[39;00m\n\u001B[1;32m    784\u001B[0m     \u001B[38;5;28;01mreturn\u001B[39;00m \u001B[38;5;28mself\u001B[39m\u001B[38;5;241m.\u001B[39m_element_spec\u001B[38;5;241m.\u001B[39m_from_compatible_tensor_list(ret)  \u001B[38;5;66;03m# pylint: disable=protected-access\u001B[39;00m\n",
      "File \u001B[0;32m/Library/Frameworks/Python.framework/Versions/3.11/lib/python3.11/site-packages/tensorflow/python/ops/gen_dataset_ops.py:3028\u001B[0m, in \u001B[0;36miterator_get_next\u001B[0;34m(iterator, output_types, output_shapes, name)\u001B[0m\n\u001B[1;32m   3026\u001B[0m   \u001B[38;5;28;01mreturn\u001B[39;00m _result\n\u001B[1;32m   3027\u001B[0m \u001B[38;5;28;01mexcept\u001B[39;00m _core\u001B[38;5;241m.\u001B[39m_NotOkStatusException \u001B[38;5;28;01mas\u001B[39;00m e:\n\u001B[0;32m-> 3028\u001B[0m   \u001B[43m_ops\u001B[49m\u001B[38;5;241;43m.\u001B[39;49m\u001B[43mraise_from_not_ok_status\u001B[49m\u001B[43m(\u001B[49m\u001B[43me\u001B[49m\u001B[43m,\u001B[49m\u001B[43m \u001B[49m\u001B[43mname\u001B[49m\u001B[43m)\u001B[49m\n\u001B[1;32m   3029\u001B[0m \u001B[38;5;28;01mexcept\u001B[39;00m _core\u001B[38;5;241m.\u001B[39m_FallbackException:\n\u001B[1;32m   3030\u001B[0m   \u001B[38;5;28;01mpass\u001B[39;00m\n",
      "File \u001B[0;32m/Library/Frameworks/Python.framework/Versions/3.11/lib/python3.11/site-packages/tensorflow/python/framework/ops.py:6656\u001B[0m, in \u001B[0;36mraise_from_not_ok_status\u001B[0;34m(e, name)\u001B[0m\n\u001B[1;32m   6654\u001B[0m \u001B[38;5;28;01mdef\u001B[39;00m \u001B[38;5;21mraise_from_not_ok_status\u001B[39m(e, name):\n\u001B[1;32m   6655\u001B[0m   e\u001B[38;5;241m.\u001B[39mmessage \u001B[38;5;241m+\u001B[39m\u001B[38;5;241m=\u001B[39m (\u001B[38;5;124m\"\u001B[39m\u001B[38;5;124m name: \u001B[39m\u001B[38;5;124m\"\u001B[39m \u001B[38;5;241m+\u001B[39m \u001B[38;5;28mstr\u001B[39m(name \u001B[38;5;28;01mif\u001B[39;00m name \u001B[38;5;129;01mis\u001B[39;00m \u001B[38;5;129;01mnot\u001B[39;00m \u001B[38;5;28;01mNone\u001B[39;00m \u001B[38;5;28;01melse\u001B[39;00m \u001B[38;5;124m\"\u001B[39m\u001B[38;5;124m\"\u001B[39m))\n\u001B[0;32m-> 6656\u001B[0m   \u001B[38;5;28;01mraise\u001B[39;00m core\u001B[38;5;241m.\u001B[39m_status_to_exception(e) \u001B[38;5;28;01mfrom\u001B[39;00m \u001B[38;5;28;01mNone\u001B[39;00m\n",
      "\u001B[0;31mNotFoundError\u001B[0m: {{function_node __wrapped__IteratorGetNext_output_types_5_device_/job:localhost/replica:0/task:0/device:CPU:0}} /Users/amith/Documents/GitHub/kaggle/Petals to the Metal - Flower Classification on TPU/tpu-getting-started/tfrecords-jpeg-192x192/train07-192x192-798.tfrec; No such file or directory [Op:IteratorGetNext] name: "
     ]
    }
   ],
   "source": [
    "for i in df_train_parsed.take(10):\n",
    "    print(repr(i))"
   ],
   "metadata": {
    "collapsed": false,
    "ExecuteTime": {
     "end_time": "2023-09-18T17:51:27.005887Z",
     "start_time": "2023-09-18T17:51:26.958773Z"
    }
   },
   "id": "f85a4096b81aaa91"
  },
  {
   "cell_type": "code",
   "execution_count": null,
   "outputs": [],
   "source": [],
   "metadata": {
    "collapsed": false
   },
   "id": "d3e512163d01b384"
  }
 ],
 "metadata": {
  "kernelspec": {
   "display_name": "Python 3",
   "language": "python",
   "name": "python3"
  },
  "language_info": {
   "codemirror_mode": {
    "name": "ipython",
    "version": 2
   },
   "file_extension": ".py",
   "mimetype": "text/x-python",
   "name": "python",
   "nbconvert_exporter": "python",
   "pygments_lexer": "ipython2",
   "version": "2.7.6"
  }
 },
 "nbformat": 4,
 "nbformat_minor": 5
}
