{
 "cells": [
  {
   "cell_type": "code",
   "execution_count": 1,
   "id": "initial_id",
   "metadata": {
    "collapsed": true,
    "ExecuteTime": {
     "end_time": "2023-09-19T00:58:10.249754Z",
     "start_time": "2023-09-19T00:58:06.131949Z"
    }
   },
   "outputs": [],
   "source": [
    "import re\n",
    "\n",
    "import numpy as np\n",
    "import pandas as pd\n",
    "import matplotlib.pyplot as plt\n",
    "import seaborn as sns\n",
    "import tensorflow as tf\n",
    "import tensorflow_datasets as tfds\n",
    "import os\n",
    "import nltk"
   ]
  },
  {
   "cell_type": "code",
   "execution_count": 117,
   "outputs": [],
   "source": [
    "def images_list(df,num):\n",
    "    image_description = {\n",
    "        \"id\" : tf.io.FixedLenFeature([],tf.string),\n",
    "        \"class\" : tf.io.FixedLenFeature([],tf.int64),\n",
    "        \"image\": tf.io.FixedLenFeature([],tf.string)\n",
    "    }\n",
    "    y = lambda x: tf.io.parse_single_example(x,image_description)\n",
    "    img = df.map(y)\n",
    "    cls = []\n",
    "    id = []\n",
    "    image = []\n",
    "    dataframe = pd.DataFrame(columns=[\"id\",\"class\",\"image\"])\n",
    "    for i in img.take(num):\n",
    "        cls.append(i[\"class\"].numpy())\n",
    "        q = \"\"\n",
    "        for j in i[\"id\"].numpy():\n",
    "            q += chr(j)\n",
    "        id.append(q)\n",
    "        q = []\n",
    "        for j in i[\"image\"].numpy():\n",
    "            q.append(chr(j))\n",
    "        image.append(np.array(q))\n",
    "    dataframe[\"id\"] = id\n",
    "    dataframe[\"class\"] = cls\n",
    "    dataframe[\"image\"] = image\n",
    "    return dataframe"
   ],
   "metadata": {
    "collapsed": false,
    "ExecuteTime": {
     "end_time": "2023-09-19T01:25:39.132887Z",
     "start_time": "2023-09-19T01:25:39.129565Z"
    }
   },
   "id": "a8bc4079a8894f5f"
  },
  {
   "cell_type": "code",
   "execution_count": 178,
   "outputs": [],
   "source": [
    "def images_list_test(df,num):\n",
    "    image_description = {\n",
    "        \"id\" : tf.io.FixedLenFeature([],tf.string),\n",
    "        \"image\": tf.io.FixedLenFeature([],tf.string)\n",
    "    }\n",
    "    y = lambda x: tf.io.parse_single_example(x,image_description)\n",
    "    img = df.map(y)\n",
    "    id = []\n",
    "    image = []\n",
    "    dataframe = pd.DataFrame(columns=[\"id\",\"image\"])\n",
    "    for i in img.take(num):\n",
    "        q = \"\"\n",
    "        for j in i[\"id\"].numpy():\n",
    "            q += chr(j)\n",
    "        id.append(q)\n",
    "        q = []\n",
    "        for j in i[\"image\"].numpy():\n",
    "            q.append(chr(j))\n",
    "        image.append(np.array(q))\n",
    "    dataframe[\"id\"] = id\n",
    "    dataframe[\"image\"] = image\n",
    "    return dataframe"
   ],
   "metadata": {
    "collapsed": false,
    "ExecuteTime": {
     "end_time": "2023-09-19T02:31:50.938416Z",
     "start_time": "2023-09-19T02:31:50.937320Z"
    }
   },
   "id": "da73d9b47808a16"
  },
  {
   "cell_type": "markdown",
   "source": [
    "### Training Dataset"
   ],
   "metadata": {
    "collapsed": false
   },
   "id": "5fdab374e27fbd3e"
  },
  {
   "cell_type": "code",
   "execution_count": 169,
   "outputs": [],
   "source": [
    "dir_train_192 = os.listdir(\"/Users/amith/Documents/GitHub/kaggle/Petals to the Metal - Flower Classification on TPU/tpu-getting-started/tfrecords-jpeg-192x192/train/\")\n",
    "full = \"/Users/amith/Documents/GitHub/kaggle/Petals to the Metal - Flower Classification on TPU/tpu-getting-started/tfrecords-jpeg-192x192/train/\"\n",
    "tfrec_train_192 = []\n",
    "for i in dir_train_192:\n",
    "    path = full+i\n",
    "    tfrec_train_192.append(tf.data.TFRecordDataset(path))\n",
    "df_train_192 = []\n",
    "for i in tfrec_train_192:\n",
    "    df_train_192.append(images_list(i,798))"
   ],
   "metadata": {
    "collapsed": false,
    "ExecuteTime": {
     "end_time": "2023-09-19T01:58:12.974693Z",
     "start_time": "2023-09-19T01:57:43.336046Z"
    }
   },
   "id": "4e009f0a971e3b24"
  },
  {
   "cell_type": "code",
   "execution_count": 170,
   "outputs": [],
   "source": [
    "dir_train_224 = os.listdir(\"/Users/amith/Documents/GitHub/kaggle/Petals to the Metal - Flower Classification on TPU/tpu-getting-started/tfrecords-jpeg-224x224/train/\")\n",
    "full = \"/Users/amith/Documents/GitHub/kaggle/Petals to the Metal - Flower Classification on TPU/tpu-getting-started/tfrecords-jpeg-224x224/train/\"\n",
    "tfrec_train_224 = []\n",
    "for i in dir_train_224:\n",
    "    path = full+i\n",
    "    tfrec_train_224.append(tf.data.TFRecordDataset(path))\n",
    "df_train_224 = []\n",
    "for i in tfrec_train_224:\n",
    "    df_train_224.append(images_list(i,798))"
   ],
   "metadata": {
    "collapsed": false,
    "ExecuteTime": {
     "end_time": "2023-09-19T01:58:50.378581Z",
     "start_time": "2023-09-19T01:58:12.985470Z"
    }
   },
   "id": "921b3b7323775a6a"
  },
  {
   "cell_type": "code",
   "execution_count": 171,
   "outputs": [],
   "source": [
    "dir_train_331 = os.listdir(\"/Users/amith/Documents/GitHub/kaggle/Petals to the Metal - Flower Classification on TPU/tpu-getting-started/tfrecords-jpeg-331x331/train/\")\n",
    "full = \"/Users/amith/Documents/GitHub/kaggle/Petals to the Metal - Flower Classification on TPU/tpu-getting-started/tfrecords-jpeg-331x331/train/\"\n",
    "tfrec_train_331 = []\n",
    "for i in dir_train_331:\n",
    "    path = full+i\n",
    "    tfrec_train_331.append(tf.data.TFRecordDataset(path))\n",
    "df_train_331 = []\n",
    "for i in tfrec_train_331:\n",
    "    df_train_331.append(images_list(i,798))"
   ],
   "metadata": {
    "collapsed": false,
    "ExecuteTime": {
     "end_time": "2023-09-19T01:59:56.519267Z",
     "start_time": "2023-09-19T01:58:50.380535Z"
    }
   },
   "id": "f721724684387ef5"
  },
  {
   "cell_type": "code",
   "execution_count": 172,
   "outputs": [],
   "source": [
    "dir_train_512 = os.listdir(\"/Users/amith/Documents/GitHub/kaggle/Petals to the Metal - Flower Classification on TPU/tpu-getting-started/tfrecords-jpeg-512x512/train/\")\n",
    "full = \"/Users/amith/Documents/GitHub/kaggle/Petals to the Metal - Flower Classification on TPU/tpu-getting-started/tfrecords-jpeg-512x512/train/\"\n",
    "tfrec_train_512 = []\n",
    "for i in dir_train_512:\n",
    "    path = full+i\n",
    "    tfrec_train_512.append(tf.data.TFRecordDataset(path))\n",
    "df_train_512 = []\n",
    "for i in tfrec_train_512:\n",
    "    df_train_512.append(images_list(i,798))"
   ],
   "metadata": {
    "collapsed": false,
    "ExecuteTime": {
     "end_time": "2023-09-19T02:01:55.037640Z",
     "start_time": "2023-09-19T01:59:56.524670Z"
    }
   },
   "id": "83d3ee08413a363f"
  },
  {
   "cell_type": "markdown",
   "source": [
    "### Validation Dataset"
   ],
   "metadata": {
    "collapsed": false
   },
   "id": "7e357ba788baeeb8"
  },
  {
   "cell_type": "code",
   "execution_count": 173,
   "outputs": [],
   "source": [
    "dir_val_192 = os.listdir(\"/Users/amith/Documents/GitHub/kaggle/Petals to the Metal - Flower Classification on TPU/tpu-getting-started/tfrecords-jpeg-192x192/val/\")\n",
    "full = \"/Users/amith/Documents/GitHub/kaggle/Petals to the Metal - Flower Classification on TPU/tpu-getting-started/tfrecords-jpeg-192x192/val/\"\n",
    "tfrec_val_192 = []\n",
    "for i in dir_val_192:\n",
    "    path = full+i\n",
    "    tfrec_val_192.append(tf.data.TFRecordDataset(path))\n",
    "df_val_192 = []\n",
    "for i in tfrec_val_192:\n",
    "    df_val_192.append(images_list(i,232))"
   ],
   "metadata": {
    "collapsed": false,
    "ExecuteTime": {
     "end_time": "2023-09-19T02:02:04.477269Z",
     "start_time": "2023-09-19T02:01:55.047888Z"
    }
   },
   "id": "ea14afd94966a060"
  },
  {
   "cell_type": "code",
   "execution_count": 174,
   "outputs": [],
   "source": [
    "dir_val_224 = os.listdir(\"/Users/amith/Documents/GitHub/kaggle/Petals to the Metal - Flower Classification on TPU/tpu-getting-started/tfrecords-jpeg-224x224/val/\")\n",
    "full = \"/Users/amith/Documents/GitHub/kaggle/Petals to the Metal - Flower Classification on TPU/tpu-getting-started/tfrecords-jpeg-224x224/val/\"\n",
    "tfrec_val_224 = []\n",
    "for i in dir_val_224:\n",
    "    path = full+i\n",
    "    tfrec_val_224.append(tf.data.TFRecordDataset(path))\n",
    "df_val_224 = []\n",
    "for i in tfrec_val_224:\n",
    "    df_val_224.append(images_list(i,232))"
   ],
   "metadata": {
    "collapsed": false,
    "ExecuteTime": {
     "end_time": "2023-09-19T02:02:22.575952Z",
     "start_time": "2023-09-19T02:02:04.477872Z"
    }
   },
   "id": "58ade48b02df4054"
  },
  {
   "cell_type": "code",
   "execution_count": 175,
   "outputs": [],
   "source": [
    "dir_val_331 = os.listdir(\"/Users/amith/Documents/GitHub/kaggle/Petals to the Metal - Flower Classification on TPU/tpu-getting-started/tfrecords-jpeg-331x331/val/\")\n",
    "full = \"/Users/amith/Documents/GitHub/kaggle/Petals to the Metal - Flower Classification on TPU/tpu-getting-started/tfrecords-jpeg-331x331/val/\"\n",
    "tfrec_val_331 = []\n",
    "for i in dir_val_331:\n",
    "    path = full+i\n",
    "    tfrec_val_331.append(tf.data.TFRecordDataset(path))\n",
    "df_val_331 = []\n",
    "for i in tfrec_val_331:\n",
    "    df_val_331.append(images_list(i,232))"
   ],
   "metadata": {
    "collapsed": false,
    "ExecuteTime": {
     "end_time": "2023-09-19T02:02:42.140999Z",
     "start_time": "2023-09-19T02:02:22.575263Z"
    }
   },
   "id": "2f5b04654a00b952"
  },
  {
   "cell_type": "code",
   "execution_count": 176,
   "outputs": [],
   "source": [
    "dir_val_512 = os.listdir(\"/Users/amith/Documents/GitHub/kaggle/Petals to the Metal - Flower Classification on TPU/tpu-getting-started/tfrecords-jpeg-512x512/val/\")\n",
    "full = \"/Users/amith/Documents/GitHub/kaggle/Petals to the Metal - Flower Classification on TPU/tpu-getting-started/tfrecords-jpeg-512x512/val/\"\n",
    "tfrec_val_512 = []\n",
    "for i in dir_val_512:\n",
    "    path = full+i\n",
    "    tfrec_val_512.append(tf.data.TFRecordDataset(path))\n",
    "df_val_512 = []\n",
    "for i in tfrec_val_512:\n",
    "    df_val_512.append(images_list(i,232))"
   ],
   "metadata": {
    "collapsed": false,
    "ExecuteTime": {
     "end_time": "2023-09-19T02:03:16.574705Z",
     "start_time": "2023-09-19T02:02:42.141584Z"
    }
   },
   "id": "60848d6cd686944b"
  },
  {
   "cell_type": "markdown",
   "source": [
    "### Testing Dataset"
   ],
   "metadata": {
    "collapsed": false
   },
   "id": "4a980d8b24ba1481"
  },
  {
   "cell_type": "code",
   "execution_count": 180,
   "outputs": [],
   "source": [
    "dir_test_192 = os.listdir(\"/Users/amith/Documents/GitHub/kaggle/Petals to the Metal - Flower Classification on TPU/tpu-getting-started/tfrecords-jpeg-192x192/test/\")\n",
    "full = \"/Users/amith/Documents/GitHub/kaggle/Petals to the Metal - Flower Classification on TPU/tpu-getting-started/tfrecords-jpeg-192x192/test/\"\n",
    "tfrec_test_192 = []\n",
    "for i in dir_test_192:\n",
    "    path = full+i\n",
    "    tfrec_test_192.append(tf.data.TFRecordDataset(path))\n",
    "df_test_192 = []\n",
    "for i in tfrec_test_192:\n",
    "    df_test_192.append(images_list_test(i,462))"
   ],
   "metadata": {
    "collapsed": false,
    "ExecuteTime": {
     "end_time": "2023-09-19T02:32:24.288593Z",
     "start_time": "2023-09-19T02:32:05.778634Z"
    }
   },
   "id": "36094a00ffa615b7"
  },
  {
   "cell_type": "code",
   "execution_count": 181,
   "outputs": [],
   "source": [
    "dir_test_224 = os.listdir(\"/Users/amith/Documents/GitHub/kaggle/Petals to the Metal - Flower Classification on TPU/tpu-getting-started/tfrecords-jpeg-224x224/test/\")\n",
    "full = \"/Users/amith/Documents/GitHub/kaggle/Petals to the Metal - Flower Classification on TPU/tpu-getting-started/tfrecords-jpeg-224x224/test/\"\n",
    "tfrec_test_224 = []\n",
    "for i in dir_test_224:\n",
    "    path = full+i\n",
    "    tfrec_test_224.append(tf.data.TFRecordDataset(path))\n",
    "df_test_224 = []\n",
    "for i in tfrec_test_224:\n",
    "    df_test_224.append(images_list_test(i,462))"
   ],
   "metadata": {
    "collapsed": false,
    "ExecuteTime": {
     "end_time": "2023-09-19T02:33:00.846721Z",
     "start_time": "2023-09-19T02:32:37.948469Z"
    }
   },
   "id": "d02ba880aea7e817"
  },
  {
   "cell_type": "code",
   "execution_count": 182,
   "outputs": [],
   "source": [
    "dir_test_331 = os.listdir(\"/Users/amith/Documents/GitHub/kaggle/Petals to the Metal - Flower Classification on TPU/tpu-getting-started/tfrecords-jpeg-331x331/test/\")\n",
    "full = \"/Users/amith/Documents/GitHub/kaggle/Petals to the Metal - Flower Classification on TPU/tpu-getting-started/tfrecords-jpeg-331x331/test/\"\n",
    "tfrec_test_331 = []\n",
    "for i in dir_test_331:\n",
    "    path = full+i\n",
    "    tfrec_test_331.append(tf.data.TFRecordDataset(path))\n",
    "df_test_331 = []\n",
    "for i in tfrec_test_331:\n",
    "    df_test_331.append(images_list_test(i,462))"
   ],
   "metadata": {
    "collapsed": false,
    "ExecuteTime": {
     "end_time": "2023-09-19T02:33:40.725425Z",
     "start_time": "2023-09-19T02:33:00.844916Z"
    }
   },
   "id": "264e3805a1508a2c"
  },
  {
   "cell_type": "code",
   "execution_count": 183,
   "outputs": [],
   "source": [
    "dir_test_512 = os.listdir(\"/Users/amith/Documents/GitHub/kaggle/Petals to the Metal - Flower Classification on TPU/tpu-getting-started/tfrecords-jpeg-512x512/test/\")\n",
    "full = \"/Users/amith/Documents/GitHub/kaggle/Petals to the Metal - Flower Classification on TPU/tpu-getting-started/tfrecords-jpeg-512x512/test/\"\n",
    "tfrec_test_512 = []\n",
    "for i in dir_test_512:\n",
    "    path = full+i\n",
    "    tfrec_test_512.append(tf.data.TFRecordDataset(path))\n",
    "df_test_512 = []\n",
    "for i in tfrec_test_192:\n",
    "    df_test_512.append(images_list_test(i,462))"
   ],
   "metadata": {
    "collapsed": false,
    "ExecuteTime": {
     "end_time": "2023-09-19T02:33:58.755187Z",
     "start_time": "2023-09-19T02:33:40.739081Z"
    }
   },
   "id": "be520c3b38c67899"
  },
  {
   "cell_type": "code",
   "execution_count": null,
   "outputs": [],
   "source": [],
   "metadata": {
    "collapsed": false
   },
   "id": "cc3226d8dbd48621"
  }
 ],
 "metadata": {
  "kernelspec": {
   "display_name": "Python 3",
   "language": "python",
   "name": "python3"
  },
  "language_info": {
   "codemirror_mode": {
    "name": "ipython",
    "version": 2
   },
   "file_extension": ".py",
   "mimetype": "text/x-python",
   "name": "python",
   "nbconvert_exporter": "python",
   "pygments_lexer": "ipython2",
   "version": "2.7.6"
  }
 },
 "nbformat": 4,
 "nbformat_minor": 5
}
