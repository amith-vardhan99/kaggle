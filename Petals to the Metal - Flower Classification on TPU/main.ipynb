{
 "cells": [
  {
   "cell_type": "code",
   "execution_count": 1,
   "id": "initial_id",
   "metadata": {
    "collapsed": true,
    "ExecuteTime": {
     "end_time": "2023-09-17T23:47:32.186003Z",
     "start_time": "2023-09-17T23:47:24.318795Z"
    }
   },
   "outputs": [],
   "source": [
    "import numpy as np\n",
    "import pandas as pd\n",
    "import matplotlib.pyplot as plt\n",
    "import seaborn as sns\n",
    "import tensorflow as tf\n",
    "import tensorflow_datasets as tfds"
   ]
  },
  {
   "cell_type": "code",
   "execution_count": 2,
   "outputs": [],
   "source": [
    "df = tf.data.TFRecordDataset(\"/Users/amith/Documents/GitHub/kaggle/Petals to the Metal - Flower Classification on TPU/tpu-getting-started/tfrecords-jpeg-192x192/train/00-192x192-798.tfrec\")"
   ],
   "metadata": {
    "collapsed": false,
    "ExecuteTime": {
     "end_time": "2023-09-17T23:47:34.433646Z",
     "start_time": "2023-09-17T23:47:34.420629Z"
    }
   },
   "id": "2368a17a2dc2aaf7"
  },
  {
   "cell_type": "code",
   "execution_count": 3,
   "outputs": [],
   "source": [
    "p = []\n",
    "dat = pd.DataFrame()\n",
    "maxi = 0\n",
    "for i in df.as_numpy_iterator():\n",
    "    q = []\n",
    "    ct = 0\n",
    "    for j in i:\n",
    "        q.append(j)\n",
    "        ct += 1\n",
    "    for j in range(ct,50789):\n",
    "        q.append(0)\n",
    "    p.append(q)"
   ],
   "metadata": {
    "collapsed": false,
    "ExecuteTime": {
     "end_time": "2023-09-17T23:48:41.472044Z",
     "start_time": "2023-09-17T23:48:39.624167Z"
    }
   },
   "id": "9ee6eb2e0d168368"
  },
  {
   "cell_type": "code",
   "execution_count": null,
   "outputs": [],
   "source": [
    "for i in p:\n",
    "    for j in i:\n",
    "        print(j,end=\" \")\n",
    "    print()"
   ],
   "metadata": {
    "collapsed": false
   },
   "id": "91fb86b89b8b55ba"
  }
 ],
 "metadata": {
  "kernelspec": {
   "display_name": "Python 3",
   "language": "python",
   "name": "python3"
  },
  "language_info": {
   "codemirror_mode": {
    "name": "ipython",
    "version": 2
   },
   "file_extension": ".py",
   "mimetype": "text/x-python",
   "name": "python",
   "nbconvert_exporter": "python",
   "pygments_lexer": "ipython2",
   "version": "2.7.6"
  }
 },
 "nbformat": 4,
 "nbformat_minor": 5
}
