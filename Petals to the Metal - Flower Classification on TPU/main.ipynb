{
 "cells": [
  {
   "cell_type": "code",
   "execution_count": 1,
   "id": "initial_id",
   "metadata": {
    "collapsed": true,
    "ExecuteTime": {
     "end_time": "2023-09-19T23:31:08.532448Z",
     "start_time": "2023-09-19T23:31:04.922014Z"
    }
   },
   "outputs": [],
   "source": [
    "import re\n",
    "\n",
    "import numpy as np\n",
    "import pandas as pd\n",
    "import matplotlib.pyplot as plt\n",
    "import seaborn as sns\n",
    "import tensorflow as tf\n",
    "import tensorflow_datasets as tfds\n",
    "import os\n",
    "import nltk"
   ]
  },
  {
   "cell_type": "code",
   "execution_count": 37,
   "outputs": [],
   "source": [
    "def images_list(df,num):\n",
    "    image_description = {\n",
    "        \"id\" : tf.io.FixedLenFeature([],tf.string),\n",
    "        \"class\" : tf.io.FixedLenFeature([],tf.int64),\n",
    "        \"image\": tf.io.FixedLenFeature([],tf.string)\n",
    "    }\n",
    "    y = lambda x: tf.io.parse_single_example(x,image_description)\n",
    "    img = df.map(y)\n",
    "    cls = []\n",
    "    id = []\n",
    "    image = []\n",
    "    dataframe = pd.DataFrame(columns=[\"id\",\"class\",\"image\"])\n",
    "    for i in img.take(num):\n",
    "        cls.append(i[\"class\"].numpy())\n",
    "        q = \"\"\n",
    "        for j in i[\"id\"].numpy():\n",
    "            q += chr(j)\n",
    "        id.append(q)\n",
    "        q = []\n",
    "        for j in i[\"image\"].numpy():\n",
    "            q.append(j)\n",
    "        image.append(np.array(q))\n",
    "    dataframe[\"id\"] = id\n",
    "    dataframe[\"class\"] = cls\n",
    "    dataframe[\"image\"] = image\n",
    "    return dataframe"
   ],
   "metadata": {
    "collapsed": false,
    "ExecuteTime": {
     "end_time": "2023-09-19T23:44:25.571525Z",
     "start_time": "2023-09-19T23:44:25.565879Z"
    }
   },
   "id": "a8bc4079a8894f5f"
  },
  {
   "cell_type": "code",
   "execution_count": 38,
   "outputs": [],
   "source": [
    "def images_list_test(df,num):\n",
    "    image_description = {\n",
    "        \"id\" : tf.io.FixedLenFeature([],tf.string),\n",
    "        \"image\": tf.io.FixedLenFeature([],tf.string)\n",
    "    }\n",
    "    y = lambda x: tf.io.parse_single_example(x,image_description)\n",
    "    img = df.map(y)\n",
    "    id = []\n",
    "    image = []\n",
    "    dataframe = pd.DataFrame(columns=[\"id\",\"image\"])\n",
    "    for i in img.take(num):\n",
    "        q = \"\"\n",
    "        for j in i[\"id\"].numpy():\n",
    "            q += chr(j)\n",
    "        id.append(q)\n",
    "        q = []\n",
    "        for j in i[\"image\"].numpy():\n",
    "            q.append(j)\n",
    "        image.append(np.array(q))\n",
    "    dataframe[\"id\"] = id\n",
    "    dataframe[\"image\"] = image\n",
    "    return dataframe"
   ],
   "metadata": {
    "collapsed": false,
    "ExecuteTime": {
     "end_time": "2023-09-19T23:44:26.130793Z",
     "start_time": "2023-09-19T23:44:26.127568Z"
    }
   },
   "id": "da73d9b47808a16"
  },
  {
   "cell_type": "markdown",
   "source": [
    "### Training Dataset"
   ],
   "metadata": {
    "collapsed": false
   },
   "id": "5fdab374e27fbd3e"
  },
  {
   "cell_type": "code",
   "execution_count": 39,
   "outputs": [],
   "source": [
    "dir_train_192 = os.listdir(\"/Users/amith/Documents/GitHub/kaggle/Petals to the Metal - Flower Classification on TPU/tpu-getting-started/tfrecords-jpeg-192x192/train/\")\n",
    "full = \"/Users/amith/Documents/GitHub/kaggle/Petals to the Metal - Flower Classification on TPU/tpu-getting-started/tfrecords-jpeg-192x192/train/\"\n",
    "tfrec_train_192 = []\n",
    "for i in dir_train_192:\n",
    "    path = full+i\n",
    "    tfrec_train_192.append(tf.data.TFRecordDataset(path))\n",
    "df_train_192 = []\n",
    "for i in tfrec_train_192:\n",
    "    df_train_192.append(images_list(i,798))"
   ],
   "metadata": {
    "collapsed": false,
    "ExecuteTime": {
     "end_time": "2023-09-19T23:44:42.021424Z",
     "start_time": "2023-09-19T23:44:27.163979Z"
    }
   },
   "id": "4e009f0a971e3b24"
  },
  {
   "cell_type": "code",
   "execution_count": 40,
   "outputs": [],
   "source": [
    "dir_train_224 = os.listdir(\"/Users/amith/Documents/GitHub/kaggle/Petals to the Metal - Flower Classification on TPU/tpu-getting-started/tfrecords-jpeg-224x224/train/\")\n",
    "full = \"/Users/amith/Documents/GitHub/kaggle/Petals to the Metal - Flower Classification on TPU/tpu-getting-started/tfrecords-jpeg-224x224/train/\"\n",
    "tfrec_train_224 = []\n",
    "for i in dir_train_224:\n",
    "    path = full+i\n",
    "    tfrec_train_224.append(tf.data.TFRecordDataset(path))\n",
    "df_train_224 = []\n",
    "for i in tfrec_train_224:\n",
    "    df_train_224.append(images_list(i,798))"
   ],
   "metadata": {
    "collapsed": false,
    "ExecuteTime": {
     "end_time": "2023-09-19T23:44:57.283015Z",
     "start_time": "2023-09-19T23:44:42.022945Z"
    }
   },
   "id": "921b3b7323775a6a"
  },
  {
   "cell_type": "code",
   "execution_count": 41,
   "outputs": [],
   "source": [
    "dir_train_331 = os.listdir(\"/Users/amith/Documents/GitHub/kaggle/Petals to the Metal - Flower Classification on TPU/tpu-getting-started/tfrecords-jpeg-331x331/train/\")\n",
    "full = \"/Users/amith/Documents/GitHub/kaggle/Petals to the Metal - Flower Classification on TPU/tpu-getting-started/tfrecords-jpeg-331x331/train/\"\n",
    "tfrec_train_331 = []\n",
    "for i in dir_train_331:\n",
    "    path = full+i\n",
    "    tfrec_train_331.append(tf.data.TFRecordDataset(path))\n",
    "df_train_331 = []\n",
    "for i in tfrec_train_331:\n",
    "    df_train_331.append(images_list(i,798))"
   ],
   "metadata": {
    "collapsed": false,
    "ExecuteTime": {
     "end_time": "2023-09-19T23:45:25.052286Z",
     "start_time": "2023-09-19T23:44:57.281911Z"
    }
   },
   "id": "f721724684387ef5"
  },
  {
   "cell_type": "code",
   "execution_count": null,
   "outputs": [],
   "source": [
    "dir_train_512 = os.listdir(\"/Users/amith/Documents/GitHub/kaggle/Petals to the Metal - Flower Classification on TPU/tpu-getting-started/tfrecords-jpeg-512x512/train/\")\n",
    "full = \"/Users/amith/Documents/GitHub/kaggle/Petals to the Metal - Flower Classification on TPU/tpu-getting-started/tfrecords-jpeg-512x512/train/\"\n",
    "tfrec_train_512 = []\n",
    "for i in dir_train_512:\n",
    "    path = full+i\n",
    "    tfrec_train_512.append(tf.data.TFRecordDataset(path))\n",
    "df_train_512 = []\n",
    "for i in tfrec_train_512:\n",
    "    df_train_512.append(images_list(i,798))"
   ],
   "metadata": {
    "collapsed": false,
    "is_executing": true,
    "ExecuteTime": {
     "start_time": "2023-09-19T23:45:25.051663Z"
    }
   },
   "id": "83d3ee08413a363f"
  },
  {
   "cell_type": "markdown",
   "source": [
    "### Validation Dataset"
   ],
   "metadata": {
    "collapsed": false
   },
   "id": "7e357ba788baeeb8"
  },
  {
   "cell_type": "code",
   "execution_count": null,
   "outputs": [],
   "source": [
    "dir_val_192 = os.listdir(\"/Users/amith/Documents/GitHub/kaggle/Petals to the Metal - Flower Classification on TPU/tpu-getting-started/tfrecords-jpeg-192x192/val/\")\n",
    "full = \"/Users/amith/Documents/GitHub/kaggle/Petals to the Metal - Flower Classification on TPU/tpu-getting-started/tfrecords-jpeg-192x192/val/\"\n",
    "tfrec_val_192 = []\n",
    "for i in dir_val_192:\n",
    "    path = full+i\n",
    "    tfrec_val_192.append(tf.data.TFRecordDataset(path))\n",
    "df_val_192 = []\n",
    "for i in tfrec_val_192:\n",
    "    df_val_192.append(images_list(i,232))"
   ],
   "metadata": {
    "collapsed": false,
    "is_executing": true
   },
   "id": "ea14afd94966a060"
  },
  {
   "cell_type": "code",
   "execution_count": null,
   "outputs": [],
   "source": [
    "dir_val_224 = os.listdir(\"/Users/amith/Documents/GitHub/kaggle/Petals to the Metal - Flower Classification on TPU/tpu-getting-started/tfrecords-jpeg-224x224/val/\")\n",
    "full = \"/Users/amith/Documents/GitHub/kaggle/Petals to the Metal - Flower Classification on TPU/tpu-getting-started/tfrecords-jpeg-224x224/val/\"\n",
    "tfrec_val_224 = []\n",
    "for i in dir_val_224:\n",
    "    path = full+i\n",
    "    tfrec_val_224.append(tf.data.TFRecordDataset(path))\n",
    "df_val_224 = []\n",
    "for i in tfrec_val_224:\n",
    "    df_val_224.append(images_list(i,232))"
   ],
   "metadata": {
    "collapsed": false,
    "is_executing": true
   },
   "id": "58ade48b02df4054"
  },
  {
   "cell_type": "code",
   "execution_count": null,
   "outputs": [],
   "source": [
    "dir_val_331 = os.listdir(\"/Users/amith/Documents/GitHub/kaggle/Petals to the Metal - Flower Classification on TPU/tpu-getting-started/tfrecords-jpeg-331x331/val/\")\n",
    "full = \"/Users/amith/Documents/GitHub/kaggle/Petals to the Metal - Flower Classification on TPU/tpu-getting-started/tfrecords-jpeg-331x331/val/\"\n",
    "tfrec_val_331 = []\n",
    "for i in dir_val_331:\n",
    "    path = full+i\n",
    "    tfrec_val_331.append(tf.data.TFRecordDataset(path))\n",
    "df_val_331 = []\n",
    "for i in tfrec_val_331:\n",
    "    df_val_331.append(images_list(i,232))"
   ],
   "metadata": {
    "collapsed": false,
    "is_executing": true
   },
   "id": "2f5b04654a00b952"
  },
  {
   "cell_type": "code",
   "execution_count": null,
   "outputs": [],
   "source": [
    "dir_val_512 = os.listdir(\"/Users/amith/Documents/GitHub/kaggle/Petals to the Metal - Flower Classification on TPU/tpu-getting-started/tfrecords-jpeg-512x512/val/\")\n",
    "full = \"/Users/amith/Documents/GitHub/kaggle/Petals to the Metal - Flower Classification on TPU/tpu-getting-started/tfrecords-jpeg-512x512/val/\"\n",
    "tfrec_val_512 = []\n",
    "for i in dir_val_512:\n",
    "    path = full+i\n",
    "    tfrec_val_512.append(tf.data.TFRecordDataset(path))\n",
    "df_val_512 = []\n",
    "for i in tfrec_val_512:\n",
    "    df_val_512.append(images_list(i,232))"
   ],
   "metadata": {
    "collapsed": false,
    "is_executing": true
   },
   "id": "60848d6cd686944b"
  },
  {
   "cell_type": "markdown",
   "source": [
    "### Testing Dataset"
   ],
   "metadata": {
    "collapsed": false
   },
   "id": "4a980d8b24ba1481"
  },
  {
   "cell_type": "code",
   "execution_count": null,
   "outputs": [],
   "source": [
    "dir_test_192 = os.listdir(\"/Users/amith/Documents/GitHub/kaggle/Petals to the Metal - Flower Classification on TPU/tpu-getting-started/tfrecords-jpeg-192x192/test/\")\n",
    "full = \"/Users/amith/Documents/GitHub/kaggle/Petals to the Metal - Flower Classification on TPU/tpu-getting-started/tfrecords-jpeg-192x192/test/\"\n",
    "tfrec_test_192 = []\n",
    "for i in dir_test_192:\n",
    "    path = full+i\n",
    "    tfrec_test_192.append(tf.data.TFRecordDataset(path))\n",
    "df_test_192 = []\n",
    "for i in tfrec_test_192:\n",
    "    df_test_192.append(images_list_test(i,462))"
   ],
   "metadata": {
    "collapsed": false,
    "is_executing": true
   },
   "id": "36094a00ffa615b7"
  },
  {
   "cell_type": "code",
   "execution_count": null,
   "outputs": [],
   "source": [
    "dir_test_224 = os.listdir(\"/Users/amith/Documents/GitHub/kaggle/Petals to the Metal - Flower Classification on TPU/tpu-getting-started/tfrecords-jpeg-224x224/test/\")\n",
    "full = \"/Users/amith/Documents/GitHub/kaggle/Petals to the Metal - Flower Classification on TPU/tpu-getting-started/tfrecords-jpeg-224x224/test/\"\n",
    "tfrec_test_224 = []\n",
    "for i in dir_test_224:\n",
    "    path = full+i\n",
    "    tfrec_test_224.append(tf.data.TFRecordDataset(path))\n",
    "df_test_224 = []\n",
    "for i in tfrec_test_224:\n",
    "    df_test_224.append(images_list_test(i,462))"
   ],
   "metadata": {
    "collapsed": false,
    "is_executing": true
   },
   "id": "d02ba880aea7e817"
  },
  {
   "cell_type": "code",
   "execution_count": null,
   "outputs": [],
   "source": [
    "dir_test_331 = os.listdir(\"/Users/amith/Documents/GitHub/kaggle/Petals to the Metal - Flower Classification on TPU/tpu-getting-started/tfrecords-jpeg-331x331/test/\")\n",
    "full = \"/Users/amith/Documents/GitHub/kaggle/Petals to the Metal - Flower Classification on TPU/tpu-getting-started/tfrecords-jpeg-331x331/test/\"\n",
    "tfrec_test_331 = []\n",
    "for i in dir_test_331:\n",
    "    path = full+i\n",
    "    tfrec_test_331.append(tf.data.TFRecordDataset(path))\n",
    "df_test_331 = []\n",
    "for i in tfrec_test_331:\n",
    "    df_test_331.append(images_list_test(i,462))"
   ],
   "metadata": {
    "collapsed": false,
    "is_executing": true
   },
   "id": "264e3805a1508a2c"
  },
  {
   "cell_type": "code",
   "execution_count": null,
   "outputs": [],
   "source": [
    "dir_test_512 = os.listdir(\"/Users/amith/Documents/GitHub/kaggle/Petals to the Metal - Flower Classification on TPU/tpu-getting-started/tfrecords-jpeg-512x512/test/\")\n",
    "full = \"/Users/amith/Documents/GitHub/kaggle/Petals to the Metal - Flower Classification on TPU/tpu-getting-started/tfrecords-jpeg-512x512/test/\"\n",
    "tfrec_test_512 = []\n",
    "for i in dir_test_512:\n",
    "    path = full+i\n",
    "    tfrec_test_512.append(tf.data.TFRecordDataset(path))\n",
    "df_test_512 = []\n",
    "for i in tfrec_test_192:\n",
    "    df_test_512.append(images_list_test(i,462))"
   ],
   "metadata": {
    "collapsed": false,
    "is_executing": true
   },
   "id": "be520c3b38c67899"
  },
  {
   "cell_type": "code",
   "execution_count": null,
   "outputs": [],
   "source": [
    "a = ['a','b']\n",
    "b = ['c','d']\n",
    "a+b"
   ],
   "metadata": {
    "collapsed": false,
    "is_executing": true
   },
   "id": "cc3226d8dbd48621"
  },
  {
   "cell_type": "code",
   "execution_count": null,
   "outputs": [],
   "source": [
    "list_train = df_train_192 + df_train_224 + df_train_331 + df_train_512\n",
    "list_val   = df_val_192 + df_val_224 + df_val_331 + df_val_512\n",
    "list_test  = df_test_192 + df_test_224 + df_test_331 + df_test_512"
   ],
   "metadata": {
    "collapsed": false,
    "is_executing": true
   },
   "id": "c0a42e5bc9af0123"
  },
  {
   "cell_type": "code",
   "execution_count": null,
   "outputs": [],
   "source": [
    "list_train[0]"
   ],
   "metadata": {
    "collapsed": false,
    "is_executing": true
   },
   "id": "8538d2701b6457e7"
  },
  {
   "cell_type": "code",
   "execution_count": null,
   "outputs": [],
   "source": [
    "df_train = pd.DataFrame(columns=list_train[0].columns)\n",
    "df_val = pd.DataFrame(columns=list_val[0].columns)\n",
    "df_test = pd.DataFrame(columns=list_test[0].columns)\n",
    "\n",
    "for i in list_train:\n",
    "    df_train = pd.concat([df_train,i],ignore_index=True,axis=0)\n",
    "for i in list_val:\n",
    "    df_val = pd.concat([df_val,i],ignore_index=True,axis=0)\n",
    "for i in list_test:\n",
    "    df_test = pd.concat([df_test,i],ignore_index=True,axis=0)"
   ],
   "metadata": {
    "collapsed": false,
    "is_executing": true
   },
   "id": "35b359370022e672"
  },
  {
   "cell_type": "code",
   "execution_count": null,
   "outputs": [],
   "source": [
    "df_train.head()"
   ],
   "metadata": {
    "collapsed": false,
    "is_executing": true
   },
   "id": "69445f2382a06be0"
  },
  {
   "cell_type": "code",
   "execution_count": null,
   "outputs": [],
   "source": [
    "df_test.head()"
   ],
   "metadata": {
    "collapsed": false,
    "is_executing": true
   },
   "id": "bbeedfae047479e7"
  },
  {
   "cell_type": "code",
   "execution_count": 28,
   "outputs": [
    {
     "ename": "ValueError",
     "evalue": "could not convert string to float: 'ÿ'",
     "output_type": "error",
     "traceback": [
      "\u001B[0;31m---------------------------------------------------------------------------\u001B[0m",
      "\u001B[0;31mValueError\u001B[0m                                Traceback (most recent call last)",
      "Cell \u001B[0;32mIn[28], line 1\u001B[0m\n\u001B[0;32m----> 1\u001B[0m \u001B[43mtf\u001B[49m\u001B[38;5;241;43m.\u001B[39;49m\u001B[43mkeras\u001B[49m\u001B[38;5;241;43m.\u001B[39;49m\u001B[43mutils\u001B[49m\u001B[38;5;241;43m.\u001B[39;49m\u001B[43marray_to_img\u001B[49m\u001B[43m(\u001B[49m\u001B[43mdf_train\u001B[49m\u001B[38;5;241;43m.\u001B[39;49m\u001B[43mloc\u001B[49m\u001B[43m[\u001B[49m\u001B[38;5;241;43m0\u001B[39;49m\u001B[43m,\u001B[49m\u001B[38;5;124;43m\"\u001B[39;49m\u001B[38;5;124;43mimage\u001B[39;49m\u001B[38;5;124;43m\"\u001B[39;49m\u001B[43m]\u001B[49m\u001B[43m)\u001B[49m\n",
      "File \u001B[0;32m/Library/Frameworks/Python.framework/Versions/3.11/lib/python3.11/site-packages/keras/src/utils/image_utils.py:245\u001B[0m, in \u001B[0;36marray_to_img\u001B[0;34m(x, data_format, scale, dtype)\u001B[0m\n\u001B[1;32m    240\u001B[0m \u001B[38;5;28;01mif\u001B[39;00m pil_image \u001B[38;5;129;01mis\u001B[39;00m \u001B[38;5;28;01mNone\u001B[39;00m:\n\u001B[1;32m    241\u001B[0m     \u001B[38;5;28;01mraise\u001B[39;00m \u001B[38;5;167;01mImportError\u001B[39;00m(\n\u001B[1;32m    242\u001B[0m         \u001B[38;5;124m\"\u001B[39m\u001B[38;5;124mCould not import PIL.Image. \u001B[39m\u001B[38;5;124m\"\u001B[39m\n\u001B[1;32m    243\u001B[0m         \u001B[38;5;124m\"\u001B[39m\u001B[38;5;124mThe use of `array_to_img` requires PIL.\u001B[39m\u001B[38;5;124m\"\u001B[39m\n\u001B[1;32m    244\u001B[0m     )\n\u001B[0;32m--> 245\u001B[0m x \u001B[38;5;241m=\u001B[39m \u001B[43mnp\u001B[49m\u001B[38;5;241;43m.\u001B[39;49m\u001B[43masarray\u001B[49m\u001B[43m(\u001B[49m\u001B[43mx\u001B[49m\u001B[43m,\u001B[49m\u001B[43m \u001B[49m\u001B[43mdtype\u001B[49m\u001B[38;5;241;43m=\u001B[39;49m\u001B[43mdtype\u001B[49m\u001B[43m)\u001B[49m\n\u001B[1;32m    246\u001B[0m \u001B[38;5;28;01mif\u001B[39;00m x\u001B[38;5;241m.\u001B[39mndim \u001B[38;5;241m!=\u001B[39m \u001B[38;5;241m3\u001B[39m:\n\u001B[1;32m    247\u001B[0m     \u001B[38;5;28;01mraise\u001B[39;00m \u001B[38;5;167;01mValueError\u001B[39;00m(\n\u001B[1;32m    248\u001B[0m         \u001B[38;5;124m\"\u001B[39m\u001B[38;5;124mExpected image array to have rank 3 (single image). \u001B[39m\u001B[38;5;124m\"\u001B[39m\n\u001B[1;32m    249\u001B[0m         \u001B[38;5;124mf\u001B[39m\u001B[38;5;124m\"\u001B[39m\u001B[38;5;124mGot array with shape: \u001B[39m\u001B[38;5;132;01m{\u001B[39;00mx\u001B[38;5;241m.\u001B[39mshape\u001B[38;5;132;01m}\u001B[39;00m\u001B[38;5;124m\"\u001B[39m\n\u001B[1;32m    250\u001B[0m     )\n",
      "\u001B[0;31mValueError\u001B[0m: could not convert string to float: 'ÿ'"
     ]
    }
   ],
   "source": [
    "tf.keras.utils.array_to_img(df_train.loc[0,\"image\"])"
   ],
   "metadata": {
    "collapsed": false,
    "ExecuteTime": {
     "end_time": "2023-09-19T23:41:04.589533Z",
     "start_time": "2023-09-19T23:41:03.647185Z"
    }
   },
   "id": "9ef52abba063d2ef"
  },
  {
   "cell_type": "code",
   "execution_count": null,
   "outputs": [],
   "source": [],
   "metadata": {
    "collapsed": false
   },
   "id": "469ae8ce233377c5"
  }
 ],
 "metadata": {
  "kernelspec": {
   "display_name": "Python 3",
   "language": "python",
   "name": "python3"
  },
  "language_info": {
   "codemirror_mode": {
    "name": "ipython",
    "version": 2
   },
   "file_extension": ".py",
   "mimetype": "text/x-python",
   "name": "python",
   "nbconvert_exporter": "python",
   "pygments_lexer": "ipython2",
   "version": "2.7.6"
  }
 },
 "nbformat": 4,
 "nbformat_minor": 5
}
