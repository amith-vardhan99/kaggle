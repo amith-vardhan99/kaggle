{
 "cells": [
  {
   "cell_type": "code",
   "execution_count": 23,
   "id": "initial_id",
   "metadata": {
    "collapsed": true,
    "ExecuteTime": {
     "end_time": "2023-09-18T01:25:39.030229Z",
     "start_time": "2023-09-18T01:25:39.028073Z"
    }
   },
   "outputs": [],
   "source": [
    "import numpy as np\n",
    "import pandas as pd\n",
    "import matplotlib.pyplot as plt\n",
    "import seaborn as sns\n",
    "import tensorflow as tf\n",
    "import tensorflow_datasets as tfds\n",
    "import os"
   ]
  },
  {
   "cell_type": "code",
   "execution_count": 39,
   "outputs": [],
   "source": [
    "k1 = os.listdir(\"/Users/amith/Documents/GitHub/kaggle/Petals to the Metal - Flower Classification on TPU/tpu-getting-started/\")\n",
    "k = \"/Users/amith/Documents/GitHub/kaggle/Petals to the Metal - Flower Classification on TPU/tpu-getting-started/\"\n",
    "dirs = []\n",
    "for i in k1:\n",
    "    if i.count(\"tfrecords-jpeg\")>0:\n",
    "        dirs.append(i)"
   ],
   "metadata": {
    "collapsed": false,
    "ExecuteTime": {
     "end_time": "2023-09-18T01:31:44.445876Z",
     "start_time": "2023-09-18T01:31:44.440129Z"
    }
   },
   "id": "3969d3e61342879f"
  },
  {
   "cell_type": "code",
   "execution_count": 40,
   "outputs": [],
   "source": [
    "dir_192 = k+dirs[0]\n",
    "dir_331 = k+dirs[1]\n",
    "dir_512 = k+dirs[2]\n",
    "dir_224 = k+dirs[3]"
   ],
   "metadata": {
    "collapsed": false,
    "ExecuteTime": {
     "end_time": "2023-09-18T01:31:44.908978Z",
     "start_time": "2023-09-18T01:31:44.907124Z"
    }
   },
   "id": "bef32a3a909e8b8e"
  },
  {
   "cell_type": "code",
   "execution_count": 60,
   "outputs": [],
   "source": [
    "dir_192_train = dir_192+\"/train\"\n",
    "dir_192_val = dir_192+\"/val\"\n",
    "dir_192_test = dir_192+\"/test\""
   ],
   "metadata": {
    "collapsed": false,
    "ExecuteTime": {
     "end_time": "2023-09-18T01:34:32.751491Z",
     "start_time": "2023-09-18T01:34:32.748422Z"
    }
   },
   "id": "89ed2bb8d8dd8a30"
  },
  {
   "cell_type": "code",
   "execution_count": 61,
   "outputs": [],
   "source": [
    "dir_331_train = dir_331+\"/train\"\n",
    "dir_331_val = dir_331+\"/val\"\n",
    "dir_331_test = dir_331+\"/test\""
   ],
   "metadata": {
    "collapsed": false,
    "ExecuteTime": {
     "end_time": "2023-09-18T01:34:33.061043Z",
     "start_time": "2023-09-18T01:34:33.056354Z"
    }
   },
   "id": "fca6d406d4898811"
  },
  {
   "cell_type": "code",
   "execution_count": 62,
   "outputs": [],
   "source": [
    "dir_512_train = dir_512+\"/train\"\n",
    "dir_512_val = dir_512+\"/val\"\n",
    "dir_512_test = dir_512+\"/test\""
   ],
   "metadata": {
    "collapsed": false,
    "ExecuteTime": {
     "end_time": "2023-09-18T01:34:33.446838Z",
     "start_time": "2023-09-18T01:34:33.443691Z"
    }
   },
   "id": "8c64f0dbccfce679"
  },
  {
   "cell_type": "code",
   "execution_count": 63,
   "outputs": [],
   "source": [
    "dir_224_train = dir_224+\"/train\"\n",
    "dir_224_val = dir_224+\"/val\"\n",
    "dir_224_test = dir_224+\"/test\""
   ],
   "metadata": {
    "collapsed": false,
    "ExecuteTime": {
     "end_time": "2023-09-18T01:34:33.822610Z",
     "start_time": "2023-09-18T01:34:33.819558Z"
    }
   },
   "id": "205eb43d042a6e79"
  },
  {
   "cell_type": "code",
   "execution_count": 97,
   "outputs": [
    {
     "data": {
      "text/plain": "64"
     },
     "execution_count": 97,
     "metadata": {},
     "output_type": "execute_result"
    }
   ],
   "source": [
    "dir_train = []\n",
    "\n",
    "for i in os.listdir(dir_192_train):\n",
    "    dir_train.append(dir_192_train+i)\n",
    "\n",
    "for i in os.listdir(dir_331_train):\n",
    "    dir_train.append(dir_331_train+i)\n",
    "\n",
    "for i in os.listdir(dir_512_train):\n",
    "    dir_train.append(dir_512_train+i)\n",
    "\n",
    "for i in os.listdir(dir_224_train):\n",
    "    dir_train.append(dir_224_train+i)\n",
    "\n",
    "len(dir_train)"
   ],
   "metadata": {
    "collapsed": false,
    "ExecuteTime": {
     "end_time": "2023-09-18T01:44:23.863337Z",
     "start_time": "2023-09-18T01:44:23.855369Z"
    }
   },
   "id": "5868344676d43285"
  },
  {
   "cell_type": "code",
   "execution_count": 98,
   "outputs": [
    {
     "data": {
      "text/plain": "64"
     },
     "execution_count": 98,
     "metadata": {},
     "output_type": "execute_result"
    }
   ],
   "source": [
    "dir_val = []\n",
    "\n",
    "for i in os.listdir(dir_192_val):\n",
    "    dir_val.append(dir_192_val+i)\n",
    "\n",
    "for i in os.listdir(dir_331_val):\n",
    "    dir_val.append(dir_331_val+i)\n",
    "\n",
    "for i in os.listdir(dir_512_val):\n",
    "    dir_val.append(dir_512_val+i)\n",
    "\n",
    "for i in os.listdir(dir_224_val):\n",
    "    dir_val.append(dir_224_val+i)\n",
    "\n",
    "len(dir_val)"
   ],
   "metadata": {
    "collapsed": false,
    "ExecuteTime": {
     "end_time": "2023-09-18T01:44:24.414422Z",
     "start_time": "2023-09-18T01:44:24.406784Z"
    }
   },
   "id": "74daaddb8e88dc84"
  },
  {
   "cell_type": "code",
   "execution_count": 99,
   "outputs": [
    {
     "data": {
      "text/plain": "64"
     },
     "execution_count": 99,
     "metadata": {},
     "output_type": "execute_result"
    }
   ],
   "source": [
    "dir_test = []\n",
    "\n",
    "for i in os.listdir(dir_192_test):\n",
    "    dir_test.append(dir_192_test+i)\n",
    "\n",
    "for i in os.listdir(dir_331_test):\n",
    "    dir_test.append(dir_331_test+i)\n",
    "\n",
    "for i in os.listdir(dir_512_test):\n",
    "    dir_test.append(dir_512_test+i)\n",
    "\n",
    "for i in os.listdir(dir_224_test):\n",
    "    dir_test.append(dir_224_test+i)\n",
    "\n",
    "len(dir_test)"
   ],
   "metadata": {
    "collapsed": false,
    "ExecuteTime": {
     "end_time": "2023-09-18T01:44:25.082074Z",
     "start_time": "2023-09-18T01:44:25.072238Z"
    }
   },
   "id": "5e78830048d414eb"
  },
  {
   "cell_type": "code",
   "execution_count": 102,
   "outputs": [],
   "source": [
    "df = []\n",
    "for i in dir_train:\n",
    "    df.append(tf.data.TFRecordDataset(i))\n",
    "df_train = np.array(df)"
   ],
   "metadata": {
    "collapsed": false,
    "ExecuteTime": {
     "end_time": "2023-09-18T01:44:45.747614Z",
     "start_time": "2023-09-18T01:44:45.561320Z"
    }
   },
   "id": "481a45de16ab971e"
  },
  {
   "cell_type": "code",
   "execution_count": 103,
   "outputs": [],
   "source": [
    "df = []\n",
    "for i in dir_val:\n",
    "    df.append(tf.data.TFRecordDataset(i))\n",
    "df_val = np.array(df)"
   ],
   "metadata": {
    "collapsed": false,
    "ExecuteTime": {
     "end_time": "2023-09-18T01:44:49.324282Z",
     "start_time": "2023-09-18T01:44:49.148630Z"
    }
   },
   "id": "2e1ce9052671d161"
  },
  {
   "cell_type": "code",
   "execution_count": 104,
   "outputs": [],
   "source": [
    "df = []\n",
    "for i in dir_test:\n",
    "    df.append(tf.data.TFRecordDataset(i))\n",
    "df_test = np.array(df)"
   ],
   "metadata": {
    "collapsed": false,
    "ExecuteTime": {
     "end_time": "2023-09-18T01:44:50.141585Z",
     "start_time": "2023-09-18T01:44:49.976174Z"
    }
   },
   "id": "e7c2fbcd983f3df"
  },
  {
   "cell_type": "code",
   "execution_count": 110,
   "outputs": [
    {
     "data": {
      "text/plain": "array([<TFRecordDatasetV2 element_spec=TensorSpec(shape=(), dtype=tf.string, name=None)>,\n       <TFRecordDatasetV2 element_spec=TensorSpec(shape=(), dtype=tf.string, name=None)>,\n       <TFRecordDatasetV2 element_spec=TensorSpec(shape=(), dtype=tf.string, name=None)>,\n       <TFRecordDatasetV2 element_spec=TensorSpec(shape=(), dtype=tf.string, name=None)>,\n       <TFRecordDatasetV2 element_spec=TensorSpec(shape=(), dtype=tf.string, name=None)>,\n       <TFRecordDatasetV2 element_spec=TensorSpec(shape=(), dtype=tf.string, name=None)>,\n       <TFRecordDatasetV2 element_spec=TensorSpec(shape=(), dtype=tf.string, name=None)>,\n       <TFRecordDatasetV2 element_spec=TensorSpec(shape=(), dtype=tf.string, name=None)>,\n       <TFRecordDatasetV2 element_spec=TensorSpec(shape=(), dtype=tf.string, name=None)>,\n       <TFRecordDatasetV2 element_spec=TensorSpec(shape=(), dtype=tf.string, name=None)>,\n       <TFRecordDatasetV2 element_spec=TensorSpec(shape=(), dtype=tf.string, name=None)>,\n       <TFRecordDatasetV2 element_spec=TensorSpec(shape=(), dtype=tf.string, name=None)>,\n       <TFRecordDatasetV2 element_spec=TensorSpec(shape=(), dtype=tf.string, name=None)>,\n       <TFRecordDatasetV2 element_spec=TensorSpec(shape=(), dtype=tf.string, name=None)>,\n       <TFRecordDatasetV2 element_spec=TensorSpec(shape=(), dtype=tf.string, name=None)>,\n       <TFRecordDatasetV2 element_spec=TensorSpec(shape=(), dtype=tf.string, name=None)>,\n       <TFRecordDatasetV2 element_spec=TensorSpec(shape=(), dtype=tf.string, name=None)>,\n       <TFRecordDatasetV2 element_spec=TensorSpec(shape=(), dtype=tf.string, name=None)>,\n       <TFRecordDatasetV2 element_spec=TensorSpec(shape=(), dtype=tf.string, name=None)>,\n       <TFRecordDatasetV2 element_spec=TensorSpec(shape=(), dtype=tf.string, name=None)>,\n       <TFRecordDatasetV2 element_spec=TensorSpec(shape=(), dtype=tf.string, name=None)>,\n       <TFRecordDatasetV2 element_spec=TensorSpec(shape=(), dtype=tf.string, name=None)>,\n       <TFRecordDatasetV2 element_spec=TensorSpec(shape=(), dtype=tf.string, name=None)>,\n       <TFRecordDatasetV2 element_spec=TensorSpec(shape=(), dtype=tf.string, name=None)>,\n       <TFRecordDatasetV2 element_spec=TensorSpec(shape=(), dtype=tf.string, name=None)>,\n       <TFRecordDatasetV2 element_spec=TensorSpec(shape=(), dtype=tf.string, name=None)>,\n       <TFRecordDatasetV2 element_spec=TensorSpec(shape=(), dtype=tf.string, name=None)>,\n       <TFRecordDatasetV2 element_spec=TensorSpec(shape=(), dtype=tf.string, name=None)>,\n       <TFRecordDatasetV2 element_spec=TensorSpec(shape=(), dtype=tf.string, name=None)>,\n       <TFRecordDatasetV2 element_spec=TensorSpec(shape=(), dtype=tf.string, name=None)>,\n       <TFRecordDatasetV2 element_spec=TensorSpec(shape=(), dtype=tf.string, name=None)>,\n       <TFRecordDatasetV2 element_spec=TensorSpec(shape=(), dtype=tf.string, name=None)>,\n       <TFRecordDatasetV2 element_spec=TensorSpec(shape=(), dtype=tf.string, name=None)>,\n       <TFRecordDatasetV2 element_spec=TensorSpec(shape=(), dtype=tf.string, name=None)>,\n       <TFRecordDatasetV2 element_spec=TensorSpec(shape=(), dtype=tf.string, name=None)>,\n       <TFRecordDatasetV2 element_spec=TensorSpec(shape=(), dtype=tf.string, name=None)>,\n       <TFRecordDatasetV2 element_spec=TensorSpec(shape=(), dtype=tf.string, name=None)>,\n       <TFRecordDatasetV2 element_spec=TensorSpec(shape=(), dtype=tf.string, name=None)>,\n       <TFRecordDatasetV2 element_spec=TensorSpec(shape=(), dtype=tf.string, name=None)>,\n       <TFRecordDatasetV2 element_spec=TensorSpec(shape=(), dtype=tf.string, name=None)>,\n       <TFRecordDatasetV2 element_spec=TensorSpec(shape=(), dtype=tf.string, name=None)>,\n       <TFRecordDatasetV2 element_spec=TensorSpec(shape=(), dtype=tf.string, name=None)>,\n       <TFRecordDatasetV2 element_spec=TensorSpec(shape=(), dtype=tf.string, name=None)>,\n       <TFRecordDatasetV2 element_spec=TensorSpec(shape=(), dtype=tf.string, name=None)>,\n       <TFRecordDatasetV2 element_spec=TensorSpec(shape=(), dtype=tf.string, name=None)>,\n       <TFRecordDatasetV2 element_spec=TensorSpec(shape=(), dtype=tf.string, name=None)>,\n       <TFRecordDatasetV2 element_spec=TensorSpec(shape=(), dtype=tf.string, name=None)>,\n       <TFRecordDatasetV2 element_spec=TensorSpec(shape=(), dtype=tf.string, name=None)>,\n       <TFRecordDatasetV2 element_spec=TensorSpec(shape=(), dtype=tf.string, name=None)>,\n       <TFRecordDatasetV2 element_spec=TensorSpec(shape=(), dtype=tf.string, name=None)>,\n       <TFRecordDatasetV2 element_spec=TensorSpec(shape=(), dtype=tf.string, name=None)>,\n       <TFRecordDatasetV2 element_spec=TensorSpec(shape=(), dtype=tf.string, name=None)>,\n       <TFRecordDatasetV2 element_spec=TensorSpec(shape=(), dtype=tf.string, name=None)>,\n       <TFRecordDatasetV2 element_spec=TensorSpec(shape=(), dtype=tf.string, name=None)>,\n       <TFRecordDatasetV2 element_spec=TensorSpec(shape=(), dtype=tf.string, name=None)>,\n       <TFRecordDatasetV2 element_spec=TensorSpec(shape=(), dtype=tf.string, name=None)>,\n       <TFRecordDatasetV2 element_spec=TensorSpec(shape=(), dtype=tf.string, name=None)>,\n       <TFRecordDatasetV2 element_spec=TensorSpec(shape=(), dtype=tf.string, name=None)>,\n       <TFRecordDatasetV2 element_spec=TensorSpec(shape=(), dtype=tf.string, name=None)>,\n       <TFRecordDatasetV2 element_spec=TensorSpec(shape=(), dtype=tf.string, name=None)>,\n       <TFRecordDatasetV2 element_spec=TensorSpec(shape=(), dtype=tf.string, name=None)>,\n       <TFRecordDatasetV2 element_spec=TensorSpec(shape=(), dtype=tf.string, name=None)>,\n       <TFRecordDatasetV2 element_spec=TensorSpec(shape=(), dtype=tf.string, name=None)>,\n       <TFRecordDatasetV2 element_spec=TensorSpec(shape=(), dtype=tf.string, name=None)>],\n      dtype=object)"
     },
     "execution_count": 110,
     "metadata": {},
     "output_type": "execute_result"
    }
   ],
   "source": [
    "df_train"
   ],
   "metadata": {
    "collapsed": false,
    "ExecuteTime": {
     "end_time": "2023-09-18T01:45:25.867584Z",
     "start_time": "2023-09-18T01:45:25.865136Z"
    }
   },
   "id": "d4c543ec3414d714"
  },
  {
   "cell_type": "code",
   "execution_count": 111,
   "outputs": [
    {
     "data": {
      "text/plain": "array([<TFRecordDatasetV2 element_spec=TensorSpec(shape=(), dtype=tf.string, name=None)>,\n       <TFRecordDatasetV2 element_spec=TensorSpec(shape=(), dtype=tf.string, name=None)>,\n       <TFRecordDatasetV2 element_spec=TensorSpec(shape=(), dtype=tf.string, name=None)>,\n       <TFRecordDatasetV2 element_spec=TensorSpec(shape=(), dtype=tf.string, name=None)>,\n       <TFRecordDatasetV2 element_spec=TensorSpec(shape=(), dtype=tf.string, name=None)>,\n       <TFRecordDatasetV2 element_spec=TensorSpec(shape=(), dtype=tf.string, name=None)>,\n       <TFRecordDatasetV2 element_spec=TensorSpec(shape=(), dtype=tf.string, name=None)>,\n       <TFRecordDatasetV2 element_spec=TensorSpec(shape=(), dtype=tf.string, name=None)>,\n       <TFRecordDatasetV2 element_spec=TensorSpec(shape=(), dtype=tf.string, name=None)>,\n       <TFRecordDatasetV2 element_spec=TensorSpec(shape=(), dtype=tf.string, name=None)>,\n       <TFRecordDatasetV2 element_spec=TensorSpec(shape=(), dtype=tf.string, name=None)>,\n       <TFRecordDatasetV2 element_spec=TensorSpec(shape=(), dtype=tf.string, name=None)>,\n       <TFRecordDatasetV2 element_spec=TensorSpec(shape=(), dtype=tf.string, name=None)>,\n       <TFRecordDatasetV2 element_spec=TensorSpec(shape=(), dtype=tf.string, name=None)>,\n       <TFRecordDatasetV2 element_spec=TensorSpec(shape=(), dtype=tf.string, name=None)>,\n       <TFRecordDatasetV2 element_spec=TensorSpec(shape=(), dtype=tf.string, name=None)>,\n       <TFRecordDatasetV2 element_spec=TensorSpec(shape=(), dtype=tf.string, name=None)>,\n       <TFRecordDatasetV2 element_spec=TensorSpec(shape=(), dtype=tf.string, name=None)>,\n       <TFRecordDatasetV2 element_spec=TensorSpec(shape=(), dtype=tf.string, name=None)>,\n       <TFRecordDatasetV2 element_spec=TensorSpec(shape=(), dtype=tf.string, name=None)>,\n       <TFRecordDatasetV2 element_spec=TensorSpec(shape=(), dtype=tf.string, name=None)>,\n       <TFRecordDatasetV2 element_spec=TensorSpec(shape=(), dtype=tf.string, name=None)>,\n       <TFRecordDatasetV2 element_spec=TensorSpec(shape=(), dtype=tf.string, name=None)>,\n       <TFRecordDatasetV2 element_spec=TensorSpec(shape=(), dtype=tf.string, name=None)>,\n       <TFRecordDatasetV2 element_spec=TensorSpec(shape=(), dtype=tf.string, name=None)>,\n       <TFRecordDatasetV2 element_spec=TensorSpec(shape=(), dtype=tf.string, name=None)>,\n       <TFRecordDatasetV2 element_spec=TensorSpec(shape=(), dtype=tf.string, name=None)>,\n       <TFRecordDatasetV2 element_spec=TensorSpec(shape=(), dtype=tf.string, name=None)>,\n       <TFRecordDatasetV2 element_spec=TensorSpec(shape=(), dtype=tf.string, name=None)>,\n       <TFRecordDatasetV2 element_spec=TensorSpec(shape=(), dtype=tf.string, name=None)>,\n       <TFRecordDatasetV2 element_spec=TensorSpec(shape=(), dtype=tf.string, name=None)>,\n       <TFRecordDatasetV2 element_spec=TensorSpec(shape=(), dtype=tf.string, name=None)>,\n       <TFRecordDatasetV2 element_spec=TensorSpec(shape=(), dtype=tf.string, name=None)>,\n       <TFRecordDatasetV2 element_spec=TensorSpec(shape=(), dtype=tf.string, name=None)>,\n       <TFRecordDatasetV2 element_spec=TensorSpec(shape=(), dtype=tf.string, name=None)>,\n       <TFRecordDatasetV2 element_spec=TensorSpec(shape=(), dtype=tf.string, name=None)>,\n       <TFRecordDatasetV2 element_spec=TensorSpec(shape=(), dtype=tf.string, name=None)>,\n       <TFRecordDatasetV2 element_spec=TensorSpec(shape=(), dtype=tf.string, name=None)>,\n       <TFRecordDatasetV2 element_spec=TensorSpec(shape=(), dtype=tf.string, name=None)>,\n       <TFRecordDatasetV2 element_spec=TensorSpec(shape=(), dtype=tf.string, name=None)>,\n       <TFRecordDatasetV2 element_spec=TensorSpec(shape=(), dtype=tf.string, name=None)>,\n       <TFRecordDatasetV2 element_spec=TensorSpec(shape=(), dtype=tf.string, name=None)>,\n       <TFRecordDatasetV2 element_spec=TensorSpec(shape=(), dtype=tf.string, name=None)>,\n       <TFRecordDatasetV2 element_spec=TensorSpec(shape=(), dtype=tf.string, name=None)>,\n       <TFRecordDatasetV2 element_spec=TensorSpec(shape=(), dtype=tf.string, name=None)>,\n       <TFRecordDatasetV2 element_spec=TensorSpec(shape=(), dtype=tf.string, name=None)>,\n       <TFRecordDatasetV2 element_spec=TensorSpec(shape=(), dtype=tf.string, name=None)>,\n       <TFRecordDatasetV2 element_spec=TensorSpec(shape=(), dtype=tf.string, name=None)>,\n       <TFRecordDatasetV2 element_spec=TensorSpec(shape=(), dtype=tf.string, name=None)>,\n       <TFRecordDatasetV2 element_spec=TensorSpec(shape=(), dtype=tf.string, name=None)>,\n       <TFRecordDatasetV2 element_spec=TensorSpec(shape=(), dtype=tf.string, name=None)>,\n       <TFRecordDatasetV2 element_spec=TensorSpec(shape=(), dtype=tf.string, name=None)>,\n       <TFRecordDatasetV2 element_spec=TensorSpec(shape=(), dtype=tf.string, name=None)>,\n       <TFRecordDatasetV2 element_spec=TensorSpec(shape=(), dtype=tf.string, name=None)>,\n       <TFRecordDatasetV2 element_spec=TensorSpec(shape=(), dtype=tf.string, name=None)>,\n       <TFRecordDatasetV2 element_spec=TensorSpec(shape=(), dtype=tf.string, name=None)>,\n       <TFRecordDatasetV2 element_spec=TensorSpec(shape=(), dtype=tf.string, name=None)>,\n       <TFRecordDatasetV2 element_spec=TensorSpec(shape=(), dtype=tf.string, name=None)>,\n       <TFRecordDatasetV2 element_spec=TensorSpec(shape=(), dtype=tf.string, name=None)>,\n       <TFRecordDatasetV2 element_spec=TensorSpec(shape=(), dtype=tf.string, name=None)>,\n       <TFRecordDatasetV2 element_spec=TensorSpec(shape=(), dtype=tf.string, name=None)>,\n       <TFRecordDatasetV2 element_spec=TensorSpec(shape=(), dtype=tf.string, name=None)>,\n       <TFRecordDatasetV2 element_spec=TensorSpec(shape=(), dtype=tf.string, name=None)>,\n       <TFRecordDatasetV2 element_spec=TensorSpec(shape=(), dtype=tf.string, name=None)>],\n      dtype=object)"
     },
     "execution_count": 111,
     "metadata": {},
     "output_type": "execute_result"
    }
   ],
   "source": [
    "df_val"
   ],
   "metadata": {
    "collapsed": false,
    "ExecuteTime": {
     "end_time": "2023-09-18T01:45:30.620086Z",
     "start_time": "2023-09-18T01:45:30.606263Z"
    }
   },
   "id": "bd645df3e0cc698d"
  },
  {
   "cell_type": "code",
   "execution_count": 112,
   "outputs": [
    {
     "data": {
      "text/plain": "array([<TFRecordDatasetV2 element_spec=TensorSpec(shape=(), dtype=tf.string, name=None)>,\n       <TFRecordDatasetV2 element_spec=TensorSpec(shape=(), dtype=tf.string, name=None)>,\n       <TFRecordDatasetV2 element_spec=TensorSpec(shape=(), dtype=tf.string, name=None)>,\n       <TFRecordDatasetV2 element_spec=TensorSpec(shape=(), dtype=tf.string, name=None)>,\n       <TFRecordDatasetV2 element_spec=TensorSpec(shape=(), dtype=tf.string, name=None)>,\n       <TFRecordDatasetV2 element_spec=TensorSpec(shape=(), dtype=tf.string, name=None)>,\n       <TFRecordDatasetV2 element_spec=TensorSpec(shape=(), dtype=tf.string, name=None)>,\n       <TFRecordDatasetV2 element_spec=TensorSpec(shape=(), dtype=tf.string, name=None)>,\n       <TFRecordDatasetV2 element_spec=TensorSpec(shape=(), dtype=tf.string, name=None)>,\n       <TFRecordDatasetV2 element_spec=TensorSpec(shape=(), dtype=tf.string, name=None)>,\n       <TFRecordDatasetV2 element_spec=TensorSpec(shape=(), dtype=tf.string, name=None)>,\n       <TFRecordDatasetV2 element_spec=TensorSpec(shape=(), dtype=tf.string, name=None)>,\n       <TFRecordDatasetV2 element_spec=TensorSpec(shape=(), dtype=tf.string, name=None)>,\n       <TFRecordDatasetV2 element_spec=TensorSpec(shape=(), dtype=tf.string, name=None)>,\n       <TFRecordDatasetV2 element_spec=TensorSpec(shape=(), dtype=tf.string, name=None)>,\n       <TFRecordDatasetV2 element_spec=TensorSpec(shape=(), dtype=tf.string, name=None)>,\n       <TFRecordDatasetV2 element_spec=TensorSpec(shape=(), dtype=tf.string, name=None)>,\n       <TFRecordDatasetV2 element_spec=TensorSpec(shape=(), dtype=tf.string, name=None)>,\n       <TFRecordDatasetV2 element_spec=TensorSpec(shape=(), dtype=tf.string, name=None)>,\n       <TFRecordDatasetV2 element_spec=TensorSpec(shape=(), dtype=tf.string, name=None)>,\n       <TFRecordDatasetV2 element_spec=TensorSpec(shape=(), dtype=tf.string, name=None)>,\n       <TFRecordDatasetV2 element_spec=TensorSpec(shape=(), dtype=tf.string, name=None)>,\n       <TFRecordDatasetV2 element_spec=TensorSpec(shape=(), dtype=tf.string, name=None)>,\n       <TFRecordDatasetV2 element_spec=TensorSpec(shape=(), dtype=tf.string, name=None)>,\n       <TFRecordDatasetV2 element_spec=TensorSpec(shape=(), dtype=tf.string, name=None)>,\n       <TFRecordDatasetV2 element_spec=TensorSpec(shape=(), dtype=tf.string, name=None)>,\n       <TFRecordDatasetV2 element_spec=TensorSpec(shape=(), dtype=tf.string, name=None)>,\n       <TFRecordDatasetV2 element_spec=TensorSpec(shape=(), dtype=tf.string, name=None)>,\n       <TFRecordDatasetV2 element_spec=TensorSpec(shape=(), dtype=tf.string, name=None)>,\n       <TFRecordDatasetV2 element_spec=TensorSpec(shape=(), dtype=tf.string, name=None)>,\n       <TFRecordDatasetV2 element_spec=TensorSpec(shape=(), dtype=tf.string, name=None)>,\n       <TFRecordDatasetV2 element_spec=TensorSpec(shape=(), dtype=tf.string, name=None)>,\n       <TFRecordDatasetV2 element_spec=TensorSpec(shape=(), dtype=tf.string, name=None)>,\n       <TFRecordDatasetV2 element_spec=TensorSpec(shape=(), dtype=tf.string, name=None)>,\n       <TFRecordDatasetV2 element_spec=TensorSpec(shape=(), dtype=tf.string, name=None)>,\n       <TFRecordDatasetV2 element_spec=TensorSpec(shape=(), dtype=tf.string, name=None)>,\n       <TFRecordDatasetV2 element_spec=TensorSpec(shape=(), dtype=tf.string, name=None)>,\n       <TFRecordDatasetV2 element_spec=TensorSpec(shape=(), dtype=tf.string, name=None)>,\n       <TFRecordDatasetV2 element_spec=TensorSpec(shape=(), dtype=tf.string, name=None)>,\n       <TFRecordDatasetV2 element_spec=TensorSpec(shape=(), dtype=tf.string, name=None)>,\n       <TFRecordDatasetV2 element_spec=TensorSpec(shape=(), dtype=tf.string, name=None)>,\n       <TFRecordDatasetV2 element_spec=TensorSpec(shape=(), dtype=tf.string, name=None)>,\n       <TFRecordDatasetV2 element_spec=TensorSpec(shape=(), dtype=tf.string, name=None)>,\n       <TFRecordDatasetV2 element_spec=TensorSpec(shape=(), dtype=tf.string, name=None)>,\n       <TFRecordDatasetV2 element_spec=TensorSpec(shape=(), dtype=tf.string, name=None)>,\n       <TFRecordDatasetV2 element_spec=TensorSpec(shape=(), dtype=tf.string, name=None)>,\n       <TFRecordDatasetV2 element_spec=TensorSpec(shape=(), dtype=tf.string, name=None)>,\n       <TFRecordDatasetV2 element_spec=TensorSpec(shape=(), dtype=tf.string, name=None)>,\n       <TFRecordDatasetV2 element_spec=TensorSpec(shape=(), dtype=tf.string, name=None)>,\n       <TFRecordDatasetV2 element_spec=TensorSpec(shape=(), dtype=tf.string, name=None)>,\n       <TFRecordDatasetV2 element_spec=TensorSpec(shape=(), dtype=tf.string, name=None)>,\n       <TFRecordDatasetV2 element_spec=TensorSpec(shape=(), dtype=tf.string, name=None)>,\n       <TFRecordDatasetV2 element_spec=TensorSpec(shape=(), dtype=tf.string, name=None)>,\n       <TFRecordDatasetV2 element_spec=TensorSpec(shape=(), dtype=tf.string, name=None)>,\n       <TFRecordDatasetV2 element_spec=TensorSpec(shape=(), dtype=tf.string, name=None)>,\n       <TFRecordDatasetV2 element_spec=TensorSpec(shape=(), dtype=tf.string, name=None)>,\n       <TFRecordDatasetV2 element_spec=TensorSpec(shape=(), dtype=tf.string, name=None)>,\n       <TFRecordDatasetV2 element_spec=TensorSpec(shape=(), dtype=tf.string, name=None)>,\n       <TFRecordDatasetV2 element_spec=TensorSpec(shape=(), dtype=tf.string, name=None)>,\n       <TFRecordDatasetV2 element_spec=TensorSpec(shape=(), dtype=tf.string, name=None)>,\n       <TFRecordDatasetV2 element_spec=TensorSpec(shape=(), dtype=tf.string, name=None)>,\n       <TFRecordDatasetV2 element_spec=TensorSpec(shape=(), dtype=tf.string, name=None)>,\n       <TFRecordDatasetV2 element_spec=TensorSpec(shape=(), dtype=tf.string, name=None)>,\n       <TFRecordDatasetV2 element_spec=TensorSpec(shape=(), dtype=tf.string, name=None)>],\n      dtype=object)"
     },
     "execution_count": 112,
     "metadata": {},
     "output_type": "execute_result"
    }
   ],
   "source": [
    "df_test"
   ],
   "metadata": {
    "collapsed": false,
    "ExecuteTime": {
     "end_time": "2023-09-18T01:45:35.328402Z",
     "start_time": "2023-09-18T01:45:35.297356Z"
    }
   },
   "id": "b38a10750982a8e3"
  },
  {
   "cell_type": "code",
   "execution_count": 113,
   "outputs": [
    {
     "data": {
      "text/plain": "<TFRecordDatasetV2 element_spec=TensorSpec(shape=(), dtype=tf.string, name=None)>"
     },
     "execution_count": 113,
     "metadata": {},
     "output_type": "execute_result"
    }
   ],
   "source": [
    "model = tf.keras.models.Sequential()"
   ],
   "metadata": {
    "collapsed": false,
    "ExecuteTime": {
     "end_time": "2023-09-18T01:48:12.913224Z",
     "start_time": "2023-09-18T01:48:12.898037Z"
    }
   },
   "id": "9d21b2c505feac98"
  },
  {
   "cell_type": "code",
   "execution_count": null,
   "outputs": [],
   "source": [],
   "metadata": {
    "collapsed": false
   },
   "id": "46cd433e0fa56d41"
  }
 ],
 "metadata": {
  "kernelspec": {
   "display_name": "Python 3",
   "language": "python",
   "name": "python3"
  },
  "language_info": {
   "codemirror_mode": {
    "name": "ipython",
    "version": 2
   },
   "file_extension": ".py",
   "mimetype": "text/x-python",
   "name": "python",
   "nbconvert_exporter": "python",
   "pygments_lexer": "ipython2",
   "version": "2.7.6"
  }
 },
 "nbformat": 4,
 "nbformat_minor": 5
}
