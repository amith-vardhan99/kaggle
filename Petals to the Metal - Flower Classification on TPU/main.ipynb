{
 "cells": [
  {
   "cell_type": "code",
   "execution_count": 2,
   "id": "initial_id",
   "metadata": {
    "collapsed": true,
    "ExecuteTime": {
     "end_time": "2023-09-18T17:00:06.708751Z",
     "start_time": "2023-09-18T16:59:58.545218Z"
    }
   },
   "outputs": [],
   "source": [
    "import numpy as np\n",
    "import pandas as pd\n",
    "import matplotlib.pyplot as plt\n",
    "import seaborn as sns\n",
    "import tensorflow as tf\n",
    "import tensorflow_datasets as tfds\n",
    "import os"
   ]
  },
  {
   "cell_type": "code",
   "execution_count": 3,
   "outputs": [],
   "source": [
    "k1 = os.listdir(\"/Users/amith/Documents/GitHub/kaggle/Petals to the Metal - Flower Classification on TPU/tpu-getting-started/\")\n",
    "k = \"/Users/amith/Documents/GitHub/kaggle/Petals to the Metal - Flower Classification on TPU/tpu-getting-started/\"\n",
    "dirs = []\n",
    "for i in k1:\n",
    "    if i.count(\"tfrecords-jpeg\")>0:\n",
    "        dirs.append(i)"
   ],
   "metadata": {
    "collapsed": false,
    "ExecuteTime": {
     "end_time": "2023-09-18T17:00:06.721062Z",
     "start_time": "2023-09-18T17:00:06.709784Z"
    }
   },
   "id": "3969d3e61342879f"
  },
  {
   "cell_type": "code",
   "execution_count": 4,
   "outputs": [],
   "source": [
    "dir_192 = k+dirs[0]\n",
    "dir_331 = k+dirs[1]\n",
    "dir_512 = k+dirs[2]\n",
    "dir_224 = k+dirs[3]"
   ],
   "metadata": {
    "collapsed": false,
    "ExecuteTime": {
     "end_time": "2023-09-18T17:00:06.721263Z",
     "start_time": "2023-09-18T17:00:06.711784Z"
    }
   },
   "id": "bef32a3a909e8b8e"
  },
  {
   "cell_type": "code",
   "execution_count": 5,
   "outputs": [],
   "source": [
    "dir_192_train = dir_192+\"/train\"\n",
    "dir_192_val = dir_192+\"/val\"\n",
    "dir_192_test = dir_192+\"/test\""
   ],
   "metadata": {
    "collapsed": false,
    "ExecuteTime": {
     "end_time": "2023-09-18T17:00:06.721437Z",
     "start_time": "2023-09-18T17:00:06.714043Z"
    }
   },
   "id": "89ed2bb8d8dd8a30"
  },
  {
   "cell_type": "code",
   "execution_count": 6,
   "outputs": [],
   "source": [
    "dir_331_train = dir_331+\"/train\"\n",
    "dir_331_val = dir_331+\"/val\"\n",
    "dir_331_test = dir_331+\"/test\""
   ],
   "metadata": {
    "collapsed": false,
    "ExecuteTime": {
     "end_time": "2023-09-18T17:00:06.721499Z",
     "start_time": "2023-09-18T17:00:06.715715Z"
    }
   },
   "id": "fca6d406d4898811"
  },
  {
   "cell_type": "code",
   "execution_count": 7,
   "outputs": [],
   "source": [
    "dir_512_train = dir_512+\"/train\"\n",
    "dir_512_val = dir_512+\"/val\"\n",
    "dir_512_test = dir_512+\"/test\""
   ],
   "metadata": {
    "collapsed": false,
    "ExecuteTime": {
     "end_time": "2023-09-18T17:00:06.721566Z",
     "start_time": "2023-09-18T17:00:06.717517Z"
    }
   },
   "id": "8c64f0dbccfce679"
  },
  {
   "cell_type": "code",
   "execution_count": 8,
   "outputs": [],
   "source": [
    "dir_224_train = dir_224+\"/train\"\n",
    "dir_224_val = dir_224+\"/val\"\n",
    "dir_224_test = dir_224+\"/test\""
   ],
   "metadata": {
    "collapsed": false,
    "ExecuteTime": {
     "end_time": "2023-09-18T17:00:06.721667Z",
     "start_time": "2023-09-18T17:00:06.719654Z"
    }
   },
   "id": "205eb43d042a6e79"
  },
  {
   "cell_type": "code",
   "execution_count": 9,
   "outputs": [
    {
     "data": {
      "text/plain": "64"
     },
     "execution_count": 9,
     "metadata": {},
     "output_type": "execute_result"
    }
   ],
   "source": [
    "dir_train = []\n",
    "\n",
    "for i in os.listdir(dir_192_train):\n",
    "    dir_train.append(dir_192_train+i)\n",
    "\n",
    "for i in os.listdir(dir_331_train):\n",
    "    dir_train.append(dir_331_train+i)\n",
    "\n",
    "for i in os.listdir(dir_512_train):\n",
    "    dir_train.append(dir_512_train+i)\n",
    "\n",
    "for i in os.listdir(dir_224_train):\n",
    "    dir_train.append(dir_224_train+i)\n",
    "\n",
    "len(dir_train)"
   ],
   "metadata": {
    "collapsed": false,
    "ExecuteTime": {
     "end_time": "2023-09-18T17:00:06.736966Z",
     "start_time": "2023-09-18T17:00:06.722899Z"
    }
   },
   "id": "5868344676d43285"
  },
  {
   "cell_type": "code",
   "execution_count": 10,
   "outputs": [
    {
     "data": {
      "text/plain": "64"
     },
     "execution_count": 10,
     "metadata": {},
     "output_type": "execute_result"
    }
   ],
   "source": [
    "dir_val = []\n",
    "\n",
    "for i in os.listdir(dir_192_val):\n",
    "    dir_val.append(dir_192_val+i)\n",
    "\n",
    "for i in os.listdir(dir_331_val):\n",
    "    dir_val.append(dir_331_val+i)\n",
    "\n",
    "for i in os.listdir(dir_512_val):\n",
    "    dir_val.append(dir_512_val+i)\n",
    "\n",
    "for i in os.listdir(dir_224_val):\n",
    "    dir_val.append(dir_224_val+i)\n",
    "\n",
    "len(dir_val)"
   ],
   "metadata": {
    "collapsed": false,
    "ExecuteTime": {
     "end_time": "2023-09-18T17:00:06.772892Z",
     "start_time": "2023-09-18T17:00:06.728343Z"
    }
   },
   "id": "74daaddb8e88dc84"
  },
  {
   "cell_type": "code",
   "execution_count": 11,
   "outputs": [
    {
     "data": {
      "text/plain": "64"
     },
     "execution_count": 11,
     "metadata": {},
     "output_type": "execute_result"
    }
   ],
   "source": [
    "dir_test = []\n",
    "\n",
    "for i in os.listdir(dir_192_test):\n",
    "    dir_test.append(dir_192_test+i)\n",
    "\n",
    "for i in os.listdir(dir_331_test):\n",
    "    dir_test.append(dir_331_test+i)\n",
    "\n",
    "for i in os.listdir(dir_512_test):\n",
    "    dir_test.append(dir_512_test+i)\n",
    "\n",
    "for i in os.listdir(dir_224_test):\n",
    "    dir_test.append(dir_224_test+i)\n",
    "\n",
    "len(dir_test)"
   ],
   "metadata": {
    "collapsed": false,
    "ExecuteTime": {
     "end_time": "2023-09-18T17:00:06.773214Z",
     "start_time": "2023-09-18T17:00:06.733630Z"
    }
   },
   "id": "5e78830048d414eb"
  },
  {
   "cell_type": "code",
   "execution_count": 12,
   "outputs": [],
   "source": [
    "df = []\n",
    "for i in dir_train:\n",
    "    df.append(tf.data.TFRecordDataset(i))\n",
    "df_train = np.array(df)"
   ],
   "metadata": {
    "collapsed": false,
    "ExecuteTime": {
     "end_time": "2023-09-18T17:00:06.900323Z",
     "start_time": "2023-09-18T17:00:06.746115Z"
    }
   },
   "id": "481a45de16ab971e"
  },
  {
   "cell_type": "code",
   "execution_count": 13,
   "outputs": [],
   "source": [
    "df = []\n",
    "for i in dir_val:\n",
    "    df.append(tf.data.TFRecordDataset(i))\n",
    "df_val = np.array(df)"
   ],
   "metadata": {
    "collapsed": false,
    "ExecuteTime": {
     "end_time": "2023-09-18T17:00:07.039312Z",
     "start_time": "2023-09-18T17:00:06.899898Z"
    }
   },
   "id": "2e1ce9052671d161"
  },
  {
   "cell_type": "code",
   "execution_count": 14,
   "outputs": [],
   "source": [
    "df = []\n",
    "for i in dir_test:\n",
    "    df.append(tf.data.TFRecordDataset(i))\n",
    "df_test = np.array(df)"
   ],
   "metadata": {
    "collapsed": false,
    "ExecuteTime": {
     "end_time": "2023-09-18T17:00:07.276347Z",
     "start_time": "2023-09-18T17:00:07.042822Z"
    }
   },
   "id": "e7c2fbcd983f3df"
  },
  {
   "cell_type": "code",
   "execution_count": 15,
   "outputs": [
    {
     "data": {
      "text/plain": "array([<TFRecordDatasetV2 element_spec=TensorSpec(shape=(), dtype=tf.string, name=None)>,\n       <TFRecordDatasetV2 element_spec=TensorSpec(shape=(), dtype=tf.string, name=None)>,\n       <TFRecordDatasetV2 element_spec=TensorSpec(shape=(), dtype=tf.string, name=None)>,\n       <TFRecordDatasetV2 element_spec=TensorSpec(shape=(), dtype=tf.string, name=None)>,\n       <TFRecordDatasetV2 element_spec=TensorSpec(shape=(), dtype=tf.string, name=None)>,\n       <TFRecordDatasetV2 element_spec=TensorSpec(shape=(), dtype=tf.string, name=None)>,\n       <TFRecordDatasetV2 element_spec=TensorSpec(shape=(), dtype=tf.string, name=None)>,\n       <TFRecordDatasetV2 element_spec=TensorSpec(shape=(), dtype=tf.string, name=None)>,\n       <TFRecordDatasetV2 element_spec=TensorSpec(shape=(), dtype=tf.string, name=None)>,\n       <TFRecordDatasetV2 element_spec=TensorSpec(shape=(), dtype=tf.string, name=None)>,\n       <TFRecordDatasetV2 element_spec=TensorSpec(shape=(), dtype=tf.string, name=None)>,\n       <TFRecordDatasetV2 element_spec=TensorSpec(shape=(), dtype=tf.string, name=None)>,\n       <TFRecordDatasetV2 element_spec=TensorSpec(shape=(), dtype=tf.string, name=None)>,\n       <TFRecordDatasetV2 element_spec=TensorSpec(shape=(), dtype=tf.string, name=None)>,\n       <TFRecordDatasetV2 element_spec=TensorSpec(shape=(), dtype=tf.string, name=None)>,\n       <TFRecordDatasetV2 element_spec=TensorSpec(shape=(), dtype=tf.string, name=None)>,\n       <TFRecordDatasetV2 element_spec=TensorSpec(shape=(), dtype=tf.string, name=None)>,\n       <TFRecordDatasetV2 element_spec=TensorSpec(shape=(), dtype=tf.string, name=None)>,\n       <TFRecordDatasetV2 element_spec=TensorSpec(shape=(), dtype=tf.string, name=None)>,\n       <TFRecordDatasetV2 element_spec=TensorSpec(shape=(), dtype=tf.string, name=None)>,\n       <TFRecordDatasetV2 element_spec=TensorSpec(shape=(), dtype=tf.string, name=None)>,\n       <TFRecordDatasetV2 element_spec=TensorSpec(shape=(), dtype=tf.string, name=None)>,\n       <TFRecordDatasetV2 element_spec=TensorSpec(shape=(), dtype=tf.string, name=None)>,\n       <TFRecordDatasetV2 element_spec=TensorSpec(shape=(), dtype=tf.string, name=None)>,\n       <TFRecordDatasetV2 element_spec=TensorSpec(shape=(), dtype=tf.string, name=None)>,\n       <TFRecordDatasetV2 element_spec=TensorSpec(shape=(), dtype=tf.string, name=None)>,\n       <TFRecordDatasetV2 element_spec=TensorSpec(shape=(), dtype=tf.string, name=None)>,\n       <TFRecordDatasetV2 element_spec=TensorSpec(shape=(), dtype=tf.string, name=None)>,\n       <TFRecordDatasetV2 element_spec=TensorSpec(shape=(), dtype=tf.string, name=None)>,\n       <TFRecordDatasetV2 element_spec=TensorSpec(shape=(), dtype=tf.string, name=None)>,\n       <TFRecordDatasetV2 element_spec=TensorSpec(shape=(), dtype=tf.string, name=None)>,\n       <TFRecordDatasetV2 element_spec=TensorSpec(shape=(), dtype=tf.string, name=None)>,\n       <TFRecordDatasetV2 element_spec=TensorSpec(shape=(), dtype=tf.string, name=None)>,\n       <TFRecordDatasetV2 element_spec=TensorSpec(shape=(), dtype=tf.string, name=None)>,\n       <TFRecordDatasetV2 element_spec=TensorSpec(shape=(), dtype=tf.string, name=None)>,\n       <TFRecordDatasetV2 element_spec=TensorSpec(shape=(), dtype=tf.string, name=None)>,\n       <TFRecordDatasetV2 element_spec=TensorSpec(shape=(), dtype=tf.string, name=None)>,\n       <TFRecordDatasetV2 element_spec=TensorSpec(shape=(), dtype=tf.string, name=None)>,\n       <TFRecordDatasetV2 element_spec=TensorSpec(shape=(), dtype=tf.string, name=None)>,\n       <TFRecordDatasetV2 element_spec=TensorSpec(shape=(), dtype=tf.string, name=None)>,\n       <TFRecordDatasetV2 element_spec=TensorSpec(shape=(), dtype=tf.string, name=None)>,\n       <TFRecordDatasetV2 element_spec=TensorSpec(shape=(), dtype=tf.string, name=None)>,\n       <TFRecordDatasetV2 element_spec=TensorSpec(shape=(), dtype=tf.string, name=None)>,\n       <TFRecordDatasetV2 element_spec=TensorSpec(shape=(), dtype=tf.string, name=None)>,\n       <TFRecordDatasetV2 element_spec=TensorSpec(shape=(), dtype=tf.string, name=None)>,\n       <TFRecordDatasetV2 element_spec=TensorSpec(shape=(), dtype=tf.string, name=None)>,\n       <TFRecordDatasetV2 element_spec=TensorSpec(shape=(), dtype=tf.string, name=None)>,\n       <TFRecordDatasetV2 element_spec=TensorSpec(shape=(), dtype=tf.string, name=None)>,\n       <TFRecordDatasetV2 element_spec=TensorSpec(shape=(), dtype=tf.string, name=None)>,\n       <TFRecordDatasetV2 element_spec=TensorSpec(shape=(), dtype=tf.string, name=None)>,\n       <TFRecordDatasetV2 element_spec=TensorSpec(shape=(), dtype=tf.string, name=None)>,\n       <TFRecordDatasetV2 element_spec=TensorSpec(shape=(), dtype=tf.string, name=None)>,\n       <TFRecordDatasetV2 element_spec=TensorSpec(shape=(), dtype=tf.string, name=None)>,\n       <TFRecordDatasetV2 element_spec=TensorSpec(shape=(), dtype=tf.string, name=None)>,\n       <TFRecordDatasetV2 element_spec=TensorSpec(shape=(), dtype=tf.string, name=None)>,\n       <TFRecordDatasetV2 element_spec=TensorSpec(shape=(), dtype=tf.string, name=None)>,\n       <TFRecordDatasetV2 element_spec=TensorSpec(shape=(), dtype=tf.string, name=None)>,\n       <TFRecordDatasetV2 element_spec=TensorSpec(shape=(), dtype=tf.string, name=None)>,\n       <TFRecordDatasetV2 element_spec=TensorSpec(shape=(), dtype=tf.string, name=None)>,\n       <TFRecordDatasetV2 element_spec=TensorSpec(shape=(), dtype=tf.string, name=None)>,\n       <TFRecordDatasetV2 element_spec=TensorSpec(shape=(), dtype=tf.string, name=None)>,\n       <TFRecordDatasetV2 element_spec=TensorSpec(shape=(), dtype=tf.string, name=None)>,\n       <TFRecordDatasetV2 element_spec=TensorSpec(shape=(), dtype=tf.string, name=None)>,\n       <TFRecordDatasetV2 element_spec=TensorSpec(shape=(), dtype=tf.string, name=None)>],\n      dtype=object)"
     },
     "execution_count": 15,
     "metadata": {},
     "output_type": "execute_result"
    }
   ],
   "source": [
    "df_train"
   ],
   "metadata": {
    "collapsed": false,
    "ExecuteTime": {
     "end_time": "2023-09-18T17:00:07.288139Z",
     "start_time": "2023-09-18T17:00:07.277242Z"
    }
   },
   "id": "d4c543ec3414d714"
  },
  {
   "cell_type": "code",
   "execution_count": 16,
   "outputs": [
    {
     "data": {
      "text/plain": "array([<TFRecordDatasetV2 element_spec=TensorSpec(shape=(), dtype=tf.string, name=None)>,\n       <TFRecordDatasetV2 element_spec=TensorSpec(shape=(), dtype=tf.string, name=None)>,\n       <TFRecordDatasetV2 element_spec=TensorSpec(shape=(), dtype=tf.string, name=None)>,\n       <TFRecordDatasetV2 element_spec=TensorSpec(shape=(), dtype=tf.string, name=None)>,\n       <TFRecordDatasetV2 element_spec=TensorSpec(shape=(), dtype=tf.string, name=None)>,\n       <TFRecordDatasetV2 element_spec=TensorSpec(shape=(), dtype=tf.string, name=None)>,\n       <TFRecordDatasetV2 element_spec=TensorSpec(shape=(), dtype=tf.string, name=None)>,\n       <TFRecordDatasetV2 element_spec=TensorSpec(shape=(), dtype=tf.string, name=None)>,\n       <TFRecordDatasetV2 element_spec=TensorSpec(shape=(), dtype=tf.string, name=None)>,\n       <TFRecordDatasetV2 element_spec=TensorSpec(shape=(), dtype=tf.string, name=None)>,\n       <TFRecordDatasetV2 element_spec=TensorSpec(shape=(), dtype=tf.string, name=None)>,\n       <TFRecordDatasetV2 element_spec=TensorSpec(shape=(), dtype=tf.string, name=None)>,\n       <TFRecordDatasetV2 element_spec=TensorSpec(shape=(), dtype=tf.string, name=None)>,\n       <TFRecordDatasetV2 element_spec=TensorSpec(shape=(), dtype=tf.string, name=None)>,\n       <TFRecordDatasetV2 element_spec=TensorSpec(shape=(), dtype=tf.string, name=None)>,\n       <TFRecordDatasetV2 element_spec=TensorSpec(shape=(), dtype=tf.string, name=None)>,\n       <TFRecordDatasetV2 element_spec=TensorSpec(shape=(), dtype=tf.string, name=None)>,\n       <TFRecordDatasetV2 element_spec=TensorSpec(shape=(), dtype=tf.string, name=None)>,\n       <TFRecordDatasetV2 element_spec=TensorSpec(shape=(), dtype=tf.string, name=None)>,\n       <TFRecordDatasetV2 element_spec=TensorSpec(shape=(), dtype=tf.string, name=None)>,\n       <TFRecordDatasetV2 element_spec=TensorSpec(shape=(), dtype=tf.string, name=None)>,\n       <TFRecordDatasetV2 element_spec=TensorSpec(shape=(), dtype=tf.string, name=None)>,\n       <TFRecordDatasetV2 element_spec=TensorSpec(shape=(), dtype=tf.string, name=None)>,\n       <TFRecordDatasetV2 element_spec=TensorSpec(shape=(), dtype=tf.string, name=None)>,\n       <TFRecordDatasetV2 element_spec=TensorSpec(shape=(), dtype=tf.string, name=None)>,\n       <TFRecordDatasetV2 element_spec=TensorSpec(shape=(), dtype=tf.string, name=None)>,\n       <TFRecordDatasetV2 element_spec=TensorSpec(shape=(), dtype=tf.string, name=None)>,\n       <TFRecordDatasetV2 element_spec=TensorSpec(shape=(), dtype=tf.string, name=None)>,\n       <TFRecordDatasetV2 element_spec=TensorSpec(shape=(), dtype=tf.string, name=None)>,\n       <TFRecordDatasetV2 element_spec=TensorSpec(shape=(), dtype=tf.string, name=None)>,\n       <TFRecordDatasetV2 element_spec=TensorSpec(shape=(), dtype=tf.string, name=None)>,\n       <TFRecordDatasetV2 element_spec=TensorSpec(shape=(), dtype=tf.string, name=None)>,\n       <TFRecordDatasetV2 element_spec=TensorSpec(shape=(), dtype=tf.string, name=None)>,\n       <TFRecordDatasetV2 element_spec=TensorSpec(shape=(), dtype=tf.string, name=None)>,\n       <TFRecordDatasetV2 element_spec=TensorSpec(shape=(), dtype=tf.string, name=None)>,\n       <TFRecordDatasetV2 element_spec=TensorSpec(shape=(), dtype=tf.string, name=None)>,\n       <TFRecordDatasetV2 element_spec=TensorSpec(shape=(), dtype=tf.string, name=None)>,\n       <TFRecordDatasetV2 element_spec=TensorSpec(shape=(), dtype=tf.string, name=None)>,\n       <TFRecordDatasetV2 element_spec=TensorSpec(shape=(), dtype=tf.string, name=None)>,\n       <TFRecordDatasetV2 element_spec=TensorSpec(shape=(), dtype=tf.string, name=None)>,\n       <TFRecordDatasetV2 element_spec=TensorSpec(shape=(), dtype=tf.string, name=None)>,\n       <TFRecordDatasetV2 element_spec=TensorSpec(shape=(), dtype=tf.string, name=None)>,\n       <TFRecordDatasetV2 element_spec=TensorSpec(shape=(), dtype=tf.string, name=None)>,\n       <TFRecordDatasetV2 element_spec=TensorSpec(shape=(), dtype=tf.string, name=None)>,\n       <TFRecordDatasetV2 element_spec=TensorSpec(shape=(), dtype=tf.string, name=None)>,\n       <TFRecordDatasetV2 element_spec=TensorSpec(shape=(), dtype=tf.string, name=None)>,\n       <TFRecordDatasetV2 element_spec=TensorSpec(shape=(), dtype=tf.string, name=None)>,\n       <TFRecordDatasetV2 element_spec=TensorSpec(shape=(), dtype=tf.string, name=None)>,\n       <TFRecordDatasetV2 element_spec=TensorSpec(shape=(), dtype=tf.string, name=None)>,\n       <TFRecordDatasetV2 element_spec=TensorSpec(shape=(), dtype=tf.string, name=None)>,\n       <TFRecordDatasetV2 element_spec=TensorSpec(shape=(), dtype=tf.string, name=None)>,\n       <TFRecordDatasetV2 element_spec=TensorSpec(shape=(), dtype=tf.string, name=None)>,\n       <TFRecordDatasetV2 element_spec=TensorSpec(shape=(), dtype=tf.string, name=None)>,\n       <TFRecordDatasetV2 element_spec=TensorSpec(shape=(), dtype=tf.string, name=None)>,\n       <TFRecordDatasetV2 element_spec=TensorSpec(shape=(), dtype=tf.string, name=None)>,\n       <TFRecordDatasetV2 element_spec=TensorSpec(shape=(), dtype=tf.string, name=None)>,\n       <TFRecordDatasetV2 element_spec=TensorSpec(shape=(), dtype=tf.string, name=None)>,\n       <TFRecordDatasetV2 element_spec=TensorSpec(shape=(), dtype=tf.string, name=None)>,\n       <TFRecordDatasetV2 element_spec=TensorSpec(shape=(), dtype=tf.string, name=None)>,\n       <TFRecordDatasetV2 element_spec=TensorSpec(shape=(), dtype=tf.string, name=None)>,\n       <TFRecordDatasetV2 element_spec=TensorSpec(shape=(), dtype=tf.string, name=None)>,\n       <TFRecordDatasetV2 element_spec=TensorSpec(shape=(), dtype=tf.string, name=None)>,\n       <TFRecordDatasetV2 element_spec=TensorSpec(shape=(), dtype=tf.string, name=None)>,\n       <TFRecordDatasetV2 element_spec=TensorSpec(shape=(), dtype=tf.string, name=None)>],\n      dtype=object)"
     },
     "execution_count": 16,
     "metadata": {},
     "output_type": "execute_result"
    }
   ],
   "source": [
    "df_val"
   ],
   "metadata": {
    "collapsed": false,
    "ExecuteTime": {
     "end_time": "2023-09-18T17:00:07.288597Z",
     "start_time": "2023-09-18T17:00:07.279712Z"
    }
   },
   "id": "bd645df3e0cc698d"
  },
  {
   "cell_type": "code",
   "execution_count": 17,
   "outputs": [
    {
     "data": {
      "text/plain": "array([<TFRecordDatasetV2 element_spec=TensorSpec(shape=(), dtype=tf.string, name=None)>,\n       <TFRecordDatasetV2 element_spec=TensorSpec(shape=(), dtype=tf.string, name=None)>,\n       <TFRecordDatasetV2 element_spec=TensorSpec(shape=(), dtype=tf.string, name=None)>,\n       <TFRecordDatasetV2 element_spec=TensorSpec(shape=(), dtype=tf.string, name=None)>,\n       <TFRecordDatasetV2 element_spec=TensorSpec(shape=(), dtype=tf.string, name=None)>,\n       <TFRecordDatasetV2 element_spec=TensorSpec(shape=(), dtype=tf.string, name=None)>,\n       <TFRecordDatasetV2 element_spec=TensorSpec(shape=(), dtype=tf.string, name=None)>,\n       <TFRecordDatasetV2 element_spec=TensorSpec(shape=(), dtype=tf.string, name=None)>,\n       <TFRecordDatasetV2 element_spec=TensorSpec(shape=(), dtype=tf.string, name=None)>,\n       <TFRecordDatasetV2 element_spec=TensorSpec(shape=(), dtype=tf.string, name=None)>,\n       <TFRecordDatasetV2 element_spec=TensorSpec(shape=(), dtype=tf.string, name=None)>,\n       <TFRecordDatasetV2 element_spec=TensorSpec(shape=(), dtype=tf.string, name=None)>,\n       <TFRecordDatasetV2 element_spec=TensorSpec(shape=(), dtype=tf.string, name=None)>,\n       <TFRecordDatasetV2 element_spec=TensorSpec(shape=(), dtype=tf.string, name=None)>,\n       <TFRecordDatasetV2 element_spec=TensorSpec(shape=(), dtype=tf.string, name=None)>,\n       <TFRecordDatasetV2 element_spec=TensorSpec(shape=(), dtype=tf.string, name=None)>,\n       <TFRecordDatasetV2 element_spec=TensorSpec(shape=(), dtype=tf.string, name=None)>,\n       <TFRecordDatasetV2 element_spec=TensorSpec(shape=(), dtype=tf.string, name=None)>,\n       <TFRecordDatasetV2 element_spec=TensorSpec(shape=(), dtype=tf.string, name=None)>,\n       <TFRecordDatasetV2 element_spec=TensorSpec(shape=(), dtype=tf.string, name=None)>,\n       <TFRecordDatasetV2 element_spec=TensorSpec(shape=(), dtype=tf.string, name=None)>,\n       <TFRecordDatasetV2 element_spec=TensorSpec(shape=(), dtype=tf.string, name=None)>,\n       <TFRecordDatasetV2 element_spec=TensorSpec(shape=(), dtype=tf.string, name=None)>,\n       <TFRecordDatasetV2 element_spec=TensorSpec(shape=(), dtype=tf.string, name=None)>,\n       <TFRecordDatasetV2 element_spec=TensorSpec(shape=(), dtype=tf.string, name=None)>,\n       <TFRecordDatasetV2 element_spec=TensorSpec(shape=(), dtype=tf.string, name=None)>,\n       <TFRecordDatasetV2 element_spec=TensorSpec(shape=(), dtype=tf.string, name=None)>,\n       <TFRecordDatasetV2 element_spec=TensorSpec(shape=(), dtype=tf.string, name=None)>,\n       <TFRecordDatasetV2 element_spec=TensorSpec(shape=(), dtype=tf.string, name=None)>,\n       <TFRecordDatasetV2 element_spec=TensorSpec(shape=(), dtype=tf.string, name=None)>,\n       <TFRecordDatasetV2 element_spec=TensorSpec(shape=(), dtype=tf.string, name=None)>,\n       <TFRecordDatasetV2 element_spec=TensorSpec(shape=(), dtype=tf.string, name=None)>,\n       <TFRecordDatasetV2 element_spec=TensorSpec(shape=(), dtype=tf.string, name=None)>,\n       <TFRecordDatasetV2 element_spec=TensorSpec(shape=(), dtype=tf.string, name=None)>,\n       <TFRecordDatasetV2 element_spec=TensorSpec(shape=(), dtype=tf.string, name=None)>,\n       <TFRecordDatasetV2 element_spec=TensorSpec(shape=(), dtype=tf.string, name=None)>,\n       <TFRecordDatasetV2 element_spec=TensorSpec(shape=(), dtype=tf.string, name=None)>,\n       <TFRecordDatasetV2 element_spec=TensorSpec(shape=(), dtype=tf.string, name=None)>,\n       <TFRecordDatasetV2 element_spec=TensorSpec(shape=(), dtype=tf.string, name=None)>,\n       <TFRecordDatasetV2 element_spec=TensorSpec(shape=(), dtype=tf.string, name=None)>,\n       <TFRecordDatasetV2 element_spec=TensorSpec(shape=(), dtype=tf.string, name=None)>,\n       <TFRecordDatasetV2 element_spec=TensorSpec(shape=(), dtype=tf.string, name=None)>,\n       <TFRecordDatasetV2 element_spec=TensorSpec(shape=(), dtype=tf.string, name=None)>,\n       <TFRecordDatasetV2 element_spec=TensorSpec(shape=(), dtype=tf.string, name=None)>,\n       <TFRecordDatasetV2 element_spec=TensorSpec(shape=(), dtype=tf.string, name=None)>,\n       <TFRecordDatasetV2 element_spec=TensorSpec(shape=(), dtype=tf.string, name=None)>,\n       <TFRecordDatasetV2 element_spec=TensorSpec(shape=(), dtype=tf.string, name=None)>,\n       <TFRecordDatasetV2 element_spec=TensorSpec(shape=(), dtype=tf.string, name=None)>,\n       <TFRecordDatasetV2 element_spec=TensorSpec(shape=(), dtype=tf.string, name=None)>,\n       <TFRecordDatasetV2 element_spec=TensorSpec(shape=(), dtype=tf.string, name=None)>,\n       <TFRecordDatasetV2 element_spec=TensorSpec(shape=(), dtype=tf.string, name=None)>,\n       <TFRecordDatasetV2 element_spec=TensorSpec(shape=(), dtype=tf.string, name=None)>,\n       <TFRecordDatasetV2 element_spec=TensorSpec(shape=(), dtype=tf.string, name=None)>,\n       <TFRecordDatasetV2 element_spec=TensorSpec(shape=(), dtype=tf.string, name=None)>,\n       <TFRecordDatasetV2 element_spec=TensorSpec(shape=(), dtype=tf.string, name=None)>,\n       <TFRecordDatasetV2 element_spec=TensorSpec(shape=(), dtype=tf.string, name=None)>,\n       <TFRecordDatasetV2 element_spec=TensorSpec(shape=(), dtype=tf.string, name=None)>,\n       <TFRecordDatasetV2 element_spec=TensorSpec(shape=(), dtype=tf.string, name=None)>,\n       <TFRecordDatasetV2 element_spec=TensorSpec(shape=(), dtype=tf.string, name=None)>,\n       <TFRecordDatasetV2 element_spec=TensorSpec(shape=(), dtype=tf.string, name=None)>,\n       <TFRecordDatasetV2 element_spec=TensorSpec(shape=(), dtype=tf.string, name=None)>,\n       <TFRecordDatasetV2 element_spec=TensorSpec(shape=(), dtype=tf.string, name=None)>,\n       <TFRecordDatasetV2 element_spec=TensorSpec(shape=(), dtype=tf.string, name=None)>,\n       <TFRecordDatasetV2 element_spec=TensorSpec(shape=(), dtype=tf.string, name=None)>],\n      dtype=object)"
     },
     "execution_count": 17,
     "metadata": {},
     "output_type": "execute_result"
    }
   ],
   "source": [
    "df_test"
   ],
   "metadata": {
    "collapsed": false,
    "ExecuteTime": {
     "end_time": "2023-09-18T17:00:07.289074Z",
     "start_time": "2023-09-18T17:00:07.282082Z"
    }
   },
   "id": "b38a10750982a8e3"
  },
  {
   "cell_type": "code",
   "execution_count": null,
   "outputs": [],
   "source": [
    "img_describe = {\n",
    "    \"height\": tf.io.FixedLenFeature([],dtype=\"float64\"),\n",
    "}"
   ],
   "metadata": {
    "collapsed": false
   },
   "id": "c4b168479836a134"
  }
 ],
 "metadata": {
  "kernelspec": {
   "display_name": "Python 3",
   "language": "python",
   "name": "python3"
  },
  "language_info": {
   "codemirror_mode": {
    "name": "ipython",
    "version": 2
   },
   "file_extension": ".py",
   "mimetype": "text/x-python",
   "name": "python",
   "nbconvert_exporter": "python",
   "pygments_lexer": "ipython2",
   "version": "2.7.6"
  }
 },
 "nbformat": 4,
 "nbformat_minor": 5
}
