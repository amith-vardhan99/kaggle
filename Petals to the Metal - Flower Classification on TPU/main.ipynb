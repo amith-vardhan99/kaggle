{
 "cells": [
  {
   "cell_type": "code",
   "execution_count": 1,
   "id": "initial_id",
   "metadata": {
    "collapsed": true,
    "ExecuteTime": {
     "end_time": "2023-09-19T23:09:26.308197Z",
     "start_time": "2023-09-19T23:09:17.482099Z"
    }
   },
   "outputs": [],
   "source": [
    "import re\n",
    "\n",
    "import numpy as np\n",
    "import pandas as pd\n",
    "import matplotlib.pyplot as plt\n",
    "import seaborn as sns\n",
    "import tensorflow as tf\n",
    "import tensorflow_datasets as tfds\n",
    "import os\n",
    "import nltk"
   ]
  },
  {
   "cell_type": "code",
   "execution_count": 2,
   "outputs": [],
   "source": [
    "def images_list(df,num):\n",
    "    image_description = {\n",
    "        \"id\" : tf.io.FixedLenFeature([],tf.string),\n",
    "        \"class\" : tf.io.FixedLenFeature([],tf.int64),\n",
    "        \"image\": tf.io.FixedLenFeature([],tf.string)\n",
    "    }\n",
    "    y = lambda x: tf.io.parse_single_example(x,image_description)\n",
    "    img = df.map(y)\n",
    "    cls = []\n",
    "    id = []\n",
    "    image = []\n",
    "    dataframe = pd.DataFrame(columns=[\"id\",\"class\",\"image\"])\n",
    "    for i in img.take(num):\n",
    "        cls.append(i[\"class\"].numpy())\n",
    "        q = \"\"\n",
    "        for j in i[\"id\"].numpy():\n",
    "            q += chr(j)\n",
    "        id.append(q)\n",
    "        q = []\n",
    "        for j in i[\"image\"].numpy():\n",
    "            q.append(chr(j))\n",
    "        image.append(np.array(q))\n",
    "    dataframe[\"id\"] = id\n",
    "    dataframe[\"class\"] = cls\n",
    "    dataframe[\"image\"] = image\n",
    "    return dataframe"
   ],
   "metadata": {
    "collapsed": false,
    "ExecuteTime": {
     "end_time": "2023-09-19T23:09:39.573652Z",
     "start_time": "2023-09-19T23:09:39.570489Z"
    }
   },
   "id": "a8bc4079a8894f5f"
  },
  {
   "cell_type": "code",
   "execution_count": 3,
   "outputs": [],
   "source": [
    "def images_list_test(df,num):\n",
    "    image_description = {\n",
    "        \"id\" : tf.io.FixedLenFeature([],tf.string),\n",
    "        \"image\": tf.io.FixedLenFeature([],tf.string)\n",
    "    }\n",
    "    y = lambda x: tf.io.parse_single_example(x,image_description)\n",
    "    img = df.map(y)\n",
    "    id = []\n",
    "    image = []\n",
    "    dataframe = pd.DataFrame(columns=[\"id\",\"image\"])\n",
    "    for i in img.take(num):\n",
    "        q = \"\"\n",
    "        for j in i[\"id\"].numpy():\n",
    "            q += chr(j)\n",
    "        id.append(q)\n",
    "        q = []\n",
    "        for j in i[\"image\"].numpy():\n",
    "            q.append(chr(j))\n",
    "        image.append(np.array(q))\n",
    "    dataframe[\"id\"] = id\n",
    "    dataframe[\"image\"] = image\n",
    "    return dataframe"
   ],
   "metadata": {
    "collapsed": false,
    "ExecuteTime": {
     "end_time": "2023-09-19T23:09:40.060002Z",
     "start_time": "2023-09-19T23:09:40.045604Z"
    }
   },
   "id": "da73d9b47808a16"
  },
  {
   "cell_type": "markdown",
   "source": [
    "### Training Dataset"
   ],
   "metadata": {
    "collapsed": false
   },
   "id": "5fdab374e27fbd3e"
  },
  {
   "cell_type": "code",
   "execution_count": 4,
   "outputs": [],
   "source": [
    "dir_train_192 = os.listdir(\"/Users/amith/Documents/GitHub/kaggle/Petals to the Metal - Flower Classification on TPU/tpu-getting-started/tfrecords-jpeg-192x192/train/\")\n",
    "full = \"/Users/amith/Documents/GitHub/kaggle/Petals to the Metal - Flower Classification on TPU/tpu-getting-started/tfrecords-jpeg-192x192/train/\"\n",
    "tfrec_train_192 = []\n",
    "for i in dir_train_192:\n",
    "    path = full+i\n",
    "    tfrec_train_192.append(tf.data.TFRecordDataset(path))\n",
    "df_train_192 = []\n",
    "for i in tfrec_train_192:\n",
    "    df_train_192.append(images_list(i,798))"
   ],
   "metadata": {
    "collapsed": false,
    "ExecuteTime": {
     "end_time": "2023-09-19T23:10:10.947201Z",
     "start_time": "2023-09-19T23:09:40.902119Z"
    }
   },
   "id": "4e009f0a971e3b24"
  },
  {
   "cell_type": "code",
   "execution_count": 5,
   "outputs": [],
   "source": [
    "dir_train_224 = os.listdir(\"/Users/amith/Documents/GitHub/kaggle/Petals to the Metal - Flower Classification on TPU/tpu-getting-started/tfrecords-jpeg-224x224/train/\")\n",
    "full = \"/Users/amith/Documents/GitHub/kaggle/Petals to the Metal - Flower Classification on TPU/tpu-getting-started/tfrecords-jpeg-224x224/train/\"\n",
    "tfrec_train_224 = []\n",
    "for i in dir_train_224:\n",
    "    path = full+i\n",
    "    tfrec_train_224.append(tf.data.TFRecordDataset(path))\n",
    "df_train_224 = []\n",
    "for i in tfrec_train_224:\n",
    "    df_train_224.append(images_list(i,798))"
   ],
   "metadata": {
    "collapsed": false,
    "ExecuteTime": {
     "end_time": "2023-09-19T23:10:47.548466Z",
     "start_time": "2023-09-19T23:10:10.946884Z"
    }
   },
   "id": "921b3b7323775a6a"
  },
  {
   "cell_type": "code",
   "execution_count": 6,
   "outputs": [],
   "source": [
    "dir_train_331 = os.listdir(\"/Users/amith/Documents/GitHub/kaggle/Petals to the Metal - Flower Classification on TPU/tpu-getting-started/tfrecords-jpeg-331x331/train/\")\n",
    "full = \"/Users/amith/Documents/GitHub/kaggle/Petals to the Metal - Flower Classification on TPU/tpu-getting-started/tfrecords-jpeg-331x331/train/\"\n",
    "tfrec_train_331 = []\n",
    "for i in dir_train_331:\n",
    "    path = full+i\n",
    "    tfrec_train_331.append(tf.data.TFRecordDataset(path))\n",
    "df_train_331 = []\n",
    "for i in tfrec_train_331:\n",
    "    df_train_331.append(images_list(i,798))"
   ],
   "metadata": {
    "collapsed": false,
    "ExecuteTime": {
     "end_time": "2023-09-19T23:11:50.780629Z",
     "start_time": "2023-09-19T23:10:47.546589Z"
    }
   },
   "id": "f721724684387ef5"
  },
  {
   "cell_type": "code",
   "execution_count": 7,
   "outputs": [],
   "source": [
    "dir_train_512 = os.listdir(\"/Users/amith/Documents/GitHub/kaggle/Petals to the Metal - Flower Classification on TPU/tpu-getting-started/tfrecords-jpeg-512x512/train/\")\n",
    "full = \"/Users/amith/Documents/GitHub/kaggle/Petals to the Metal - Flower Classification on TPU/tpu-getting-started/tfrecords-jpeg-512x512/train/\"\n",
    "tfrec_train_512 = []\n",
    "for i in dir_train_512:\n",
    "    path = full+i\n",
    "    tfrec_train_512.append(tf.data.TFRecordDataset(path))\n",
    "df_train_512 = []\n",
    "for i in tfrec_train_512:\n",
    "    df_train_512.append(images_list(i,798))"
   ],
   "metadata": {
    "collapsed": false,
    "ExecuteTime": {
     "end_time": "2023-09-19T23:13:43.521402Z",
     "start_time": "2023-09-19T23:11:50.787538Z"
    }
   },
   "id": "83d3ee08413a363f"
  },
  {
   "cell_type": "markdown",
   "source": [
    "### Validation Dataset"
   ],
   "metadata": {
    "collapsed": false
   },
   "id": "7e357ba788baeeb8"
  },
  {
   "cell_type": "code",
   "execution_count": 8,
   "outputs": [],
   "source": [
    "dir_val_192 = os.listdir(\"/Users/amith/Documents/GitHub/kaggle/Petals to the Metal - Flower Classification on TPU/tpu-getting-started/tfrecords-jpeg-192x192/val/\")\n",
    "full = \"/Users/amith/Documents/GitHub/kaggle/Petals to the Metal - Flower Classification on TPU/tpu-getting-started/tfrecords-jpeg-192x192/val/\"\n",
    "tfrec_val_192 = []\n",
    "for i in dir_val_192:\n",
    "    path = full+i\n",
    "    tfrec_val_192.append(tf.data.TFRecordDataset(path))\n",
    "df_val_192 = []\n",
    "for i in tfrec_val_192:\n",
    "    df_val_192.append(images_list(i,232))"
   ],
   "metadata": {
    "collapsed": false,
    "ExecuteTime": {
     "end_time": "2023-09-19T23:13:52.025091Z",
     "start_time": "2023-09-19T23:13:43.520467Z"
    }
   },
   "id": "ea14afd94966a060"
  },
  {
   "cell_type": "code",
   "execution_count": 9,
   "outputs": [],
   "source": [
    "dir_val_224 = os.listdir(\"/Users/amith/Documents/GitHub/kaggle/Petals to the Metal - Flower Classification on TPU/tpu-getting-started/tfrecords-jpeg-224x224/val/\")\n",
    "full = \"/Users/amith/Documents/GitHub/kaggle/Petals to the Metal - Flower Classification on TPU/tpu-getting-started/tfrecords-jpeg-224x224/val/\"\n",
    "tfrec_val_224 = []\n",
    "for i in dir_val_224:\n",
    "    path = full+i\n",
    "    tfrec_val_224.append(tf.data.TFRecordDataset(path))\n",
    "df_val_224 = []\n",
    "for i in tfrec_val_224:\n",
    "    df_val_224.append(images_list(i,232))"
   ],
   "metadata": {
    "collapsed": false,
    "ExecuteTime": {
     "end_time": "2023-09-19T23:14:02.388531Z",
     "start_time": "2023-09-19T23:13:52.025617Z"
    }
   },
   "id": "58ade48b02df4054"
  },
  {
   "cell_type": "code",
   "execution_count": 10,
   "outputs": [],
   "source": [
    "dir_val_331 = os.listdir(\"/Users/amith/Documents/GitHub/kaggle/Petals to the Metal - Flower Classification on TPU/tpu-getting-started/tfrecords-jpeg-331x331/val/\")\n",
    "full = \"/Users/amith/Documents/GitHub/kaggle/Petals to the Metal - Flower Classification on TPU/tpu-getting-started/tfrecords-jpeg-331x331/val/\"\n",
    "tfrec_val_331 = []\n",
    "for i in dir_val_331:\n",
    "    path = full+i\n",
    "    tfrec_val_331.append(tf.data.TFRecordDataset(path))\n",
    "df_val_331 = []\n",
    "for i in tfrec_val_331:\n",
    "    df_val_331.append(images_list(i,232))"
   ],
   "metadata": {
    "collapsed": false,
    "ExecuteTime": {
     "end_time": "2023-09-19T23:14:20.692657Z",
     "start_time": "2023-09-19T23:14:02.394761Z"
    }
   },
   "id": "2f5b04654a00b952"
  },
  {
   "cell_type": "code",
   "execution_count": 11,
   "outputs": [],
   "source": [
    "dir_val_512 = os.listdir(\"/Users/amith/Documents/GitHub/kaggle/Petals to the Metal - Flower Classification on TPU/tpu-getting-started/tfrecords-jpeg-512x512/val/\")\n",
    "full = \"/Users/amith/Documents/GitHub/kaggle/Petals to the Metal - Flower Classification on TPU/tpu-getting-started/tfrecords-jpeg-512x512/val/\"\n",
    "tfrec_val_512 = []\n",
    "for i in dir_val_512:\n",
    "    path = full+i\n",
    "    tfrec_val_512.append(tf.data.TFRecordDataset(path))\n",
    "df_val_512 = []\n",
    "for i in tfrec_val_512:\n",
    "    df_val_512.append(images_list(i,232))"
   ],
   "metadata": {
    "collapsed": false,
    "ExecuteTime": {
     "end_time": "2023-09-19T23:14:53.682254Z",
     "start_time": "2023-09-19T23:14:20.691965Z"
    }
   },
   "id": "60848d6cd686944b"
  },
  {
   "cell_type": "markdown",
   "source": [
    "### Testing Dataset"
   ],
   "metadata": {
    "collapsed": false
   },
   "id": "4a980d8b24ba1481"
  },
  {
   "cell_type": "code",
   "execution_count": 12,
   "outputs": [],
   "source": [
    "dir_test_192 = os.listdir(\"/Users/amith/Documents/GitHub/kaggle/Petals to the Metal - Flower Classification on TPU/tpu-getting-started/tfrecords-jpeg-192x192/test/\")\n",
    "full = \"/Users/amith/Documents/GitHub/kaggle/Petals to the Metal - Flower Classification on TPU/tpu-getting-started/tfrecords-jpeg-192x192/test/\"\n",
    "tfrec_test_192 = []\n",
    "for i in dir_test_192:\n",
    "    path = full+i\n",
    "    tfrec_test_192.append(tf.data.TFRecordDataset(path))\n",
    "df_test_192 = []\n",
    "for i in tfrec_test_192:\n",
    "    df_test_192.append(images_list_test(i,462))"
   ],
   "metadata": {
    "collapsed": false,
    "ExecuteTime": {
     "end_time": "2023-09-19T23:15:10.233070Z",
     "start_time": "2023-09-19T23:14:53.681247Z"
    }
   },
   "id": "36094a00ffa615b7"
  },
  {
   "cell_type": "code",
   "execution_count": 13,
   "outputs": [],
   "source": [
    "dir_test_224 = os.listdir(\"/Users/amith/Documents/GitHub/kaggle/Petals to the Metal - Flower Classification on TPU/tpu-getting-started/tfrecords-jpeg-224x224/test/\")\n",
    "full = \"/Users/amith/Documents/GitHub/kaggle/Petals to the Metal - Flower Classification on TPU/tpu-getting-started/tfrecords-jpeg-224x224/test/\"\n",
    "tfrec_test_224 = []\n",
    "for i in dir_test_224:\n",
    "    path = full+i\n",
    "    tfrec_test_224.append(tf.data.TFRecordDataset(path))\n",
    "df_test_224 = []\n",
    "for i in tfrec_test_224:\n",
    "    df_test_224.append(images_list_test(i,462))"
   ],
   "metadata": {
    "collapsed": false,
    "ExecuteTime": {
     "end_time": "2023-09-19T23:15:32.118728Z",
     "start_time": "2023-09-19T23:15:10.231847Z"
    }
   },
   "id": "d02ba880aea7e817"
  },
  {
   "cell_type": "code",
   "execution_count": 14,
   "outputs": [],
   "source": [
    "dir_test_331 = os.listdir(\"/Users/amith/Documents/GitHub/kaggle/Petals to the Metal - Flower Classification on TPU/tpu-getting-started/tfrecords-jpeg-331x331/test/\")\n",
    "full = \"/Users/amith/Documents/GitHub/kaggle/Petals to the Metal - Flower Classification on TPU/tpu-getting-started/tfrecords-jpeg-331x331/test/\"\n",
    "tfrec_test_331 = []\n",
    "for i in dir_test_331:\n",
    "    path = full+i\n",
    "    tfrec_test_331.append(tf.data.TFRecordDataset(path))\n",
    "df_test_331 = []\n",
    "for i in tfrec_test_331:\n",
    "    df_test_331.append(images_list_test(i,462))"
   ],
   "metadata": {
    "collapsed": false,
    "ExecuteTime": {
     "end_time": "2023-09-19T23:16:09.215829Z",
     "start_time": "2023-09-19T23:15:32.128661Z"
    }
   },
   "id": "264e3805a1508a2c"
  },
  {
   "cell_type": "code",
   "execution_count": 15,
   "outputs": [],
   "source": [
    "dir_test_512 = os.listdir(\"/Users/amith/Documents/GitHub/kaggle/Petals to the Metal - Flower Classification on TPU/tpu-getting-started/tfrecords-jpeg-512x512/test/\")\n",
    "full = \"/Users/amith/Documents/GitHub/kaggle/Petals to the Metal - Flower Classification on TPU/tpu-getting-started/tfrecords-jpeg-512x512/test/\"\n",
    "tfrec_test_512 = []\n",
    "for i in dir_test_512:\n",
    "    path = full+i\n",
    "    tfrec_test_512.append(tf.data.TFRecordDataset(path))\n",
    "df_test_512 = []\n",
    "for i in tfrec_test_192:\n",
    "    df_test_512.append(images_list_test(i,462))"
   ],
   "metadata": {
    "collapsed": false,
    "ExecuteTime": {
     "end_time": "2023-09-19T23:16:26.893305Z",
     "start_time": "2023-09-19T23:16:09.215506Z"
    }
   },
   "id": "be520c3b38c67899"
  },
  {
   "cell_type": "code",
   "execution_count": 18,
   "outputs": [
    {
     "data": {
      "text/plain": "['a', 'b', 'c', 'd']"
     },
     "execution_count": 18,
     "metadata": {},
     "output_type": "execute_result"
    }
   ],
   "source": [
    "a = ['a','b']\n",
    "b = ['c','d']\n",
    "a+b"
   ],
   "metadata": {
    "collapsed": false,
    "ExecuteTime": {
     "end_time": "2023-09-19T23:17:25.788156Z",
     "start_time": "2023-09-19T23:17:25.783220Z"
    }
   },
   "id": "cc3226d8dbd48621"
  },
  {
   "cell_type": "code",
   "execution_count": 24,
   "outputs": [],
   "source": [
    "list_train = df_train_192 + df_train_224 + df_train_331 + df_train_512\n",
    "list_val   = df_val_192 + df_val_224 + df_val_331 + df_val_512\n",
    "list_test  = df_test_192 + df_test_224 + df_test_331 + df_test_512"
   ],
   "metadata": {
    "collapsed": false,
    "ExecuteTime": {
     "end_time": "2023-09-19T23:20:14.459507Z",
     "start_time": "2023-09-19T23:20:14.450597Z"
    }
   },
   "id": "c0a42e5bc9af0123"
  },
  {
   "cell_type": "code",
   "execution_count": 25,
   "outputs": [
    {
     "data": {
      "text/plain": "            id  class                                              image\n0    53b57c02f     47  [ÿ, Ø, ÿ, à, , \u0010, J, F, I, F, , \u0001, \u0001, \u0001, \u0001, ,,...\n1    10d68e426     53  [ÿ, Ø, ÿ, à, , \u0010, J, F, I, F, , \u0001, \u0001, \u0001, \u0001, ,,...\n2    566f0f7b8     37  [ÿ, Ø, ÿ, à, , \u0010, J, F, I, F, , \u0001, \u0001, \u0001, \u0001, ,,...\n3    25993e867     50  [ÿ, Ø, ÿ, à, , \u0010, J, F, I, F, , \u0001, \u0001, \u0001, \u0001, ,,...\n4    15282c04f     49  [ÿ, Ø, ÿ, à, , \u0010, J, F, I, F, , \u0001, \u0001, \u0001, \u0001, ,,...\n..         ...    ...                                                ...\n793  767011e07      4  [ÿ, Ø, ÿ, à, , \u0010, J, F, I, F, , \u0001, \u0001, \u0001, \u0001, ,,...\n794  2cdb4754b     69  [ÿ, Ø, ÿ, à, , \u0010, J, F, I, F, , \u0001, \u0001, \u0001, \u0001, ,,...\n795  017b15b7e     56  [ÿ, Ø, ÿ, à, , \u0010, J, F, I, F, , \u0001, \u0001, \u0001, \u0001, ,,...\n796  9604624dd    103  [ÿ, Ø, ÿ, à, , \u0010, J, F, I, F, , \u0001, \u0001, \u0001, \u0001, ,,...\n797  64ddfc039     73  [ÿ, Ø, ÿ, à, , \u0010, J, F, I, F, , \u0001, \u0001, \u0001, \u0001, ,,...\n\n[798 rows x 3 columns]",
      "text/html": "<div>\n<style scoped>\n    .dataframe tbody tr th:only-of-type {\n        vertical-align: middle;\n    }\n\n    .dataframe tbody tr th {\n        vertical-align: top;\n    }\n\n    .dataframe thead th {\n        text-align: right;\n    }\n</style>\n<table border=\"1\" class=\"dataframe\">\n  <thead>\n    <tr style=\"text-align: right;\">\n      <th></th>\n      <th>id</th>\n      <th>class</th>\n      <th>image</th>\n    </tr>\n  </thead>\n  <tbody>\n    <tr>\n      <th>0</th>\n      <td>53b57c02f</td>\n      <td>47</td>\n      <td>[ÿ, Ø, ÿ, à, , \u0010, J, F, I, F, , \u0001, \u0001, \u0001, \u0001, ,,...</td>\n    </tr>\n    <tr>\n      <th>1</th>\n      <td>10d68e426</td>\n      <td>53</td>\n      <td>[ÿ, Ø, ÿ, à, , \u0010, J, F, I, F, , \u0001, \u0001, \u0001, \u0001, ,,...</td>\n    </tr>\n    <tr>\n      <th>2</th>\n      <td>566f0f7b8</td>\n      <td>37</td>\n      <td>[ÿ, Ø, ÿ, à, , \u0010, J, F, I, F, , \u0001, \u0001, \u0001, \u0001, ,,...</td>\n    </tr>\n    <tr>\n      <th>3</th>\n      <td>25993e867</td>\n      <td>50</td>\n      <td>[ÿ, Ø, ÿ, à, , \u0010, J, F, I, F, , \u0001, \u0001, \u0001, \u0001, ,,...</td>\n    </tr>\n    <tr>\n      <th>4</th>\n      <td>15282c04f</td>\n      <td>49</td>\n      <td>[ÿ, Ø, ÿ, à, , \u0010, J, F, I, F, , \u0001, \u0001, \u0001, \u0001, ,,...</td>\n    </tr>\n    <tr>\n      <th>...</th>\n      <td>...</td>\n      <td>...</td>\n      <td>...</td>\n    </tr>\n    <tr>\n      <th>793</th>\n      <td>767011e07</td>\n      <td>4</td>\n      <td>[ÿ, Ø, ÿ, à, , \u0010, J, F, I, F, , \u0001, \u0001, \u0001, \u0001, ,,...</td>\n    </tr>\n    <tr>\n      <th>794</th>\n      <td>2cdb4754b</td>\n      <td>69</td>\n      <td>[ÿ, Ø, ÿ, à, , \u0010, J, F, I, F, , \u0001, \u0001, \u0001, \u0001, ,,...</td>\n    </tr>\n    <tr>\n      <th>795</th>\n      <td>017b15b7e</td>\n      <td>56</td>\n      <td>[ÿ, Ø, ÿ, à, , \u0010, J, F, I, F, , \u0001, \u0001, \u0001, \u0001, ,,...</td>\n    </tr>\n    <tr>\n      <th>796</th>\n      <td>9604624dd</td>\n      <td>103</td>\n      <td>[ÿ, Ø, ÿ, à, , \u0010, J, F, I, F, , \u0001, \u0001, \u0001, \u0001, ,,...</td>\n    </tr>\n    <tr>\n      <th>797</th>\n      <td>64ddfc039</td>\n      <td>73</td>\n      <td>[ÿ, Ø, ÿ, à, , \u0010, J, F, I, F, , \u0001, \u0001, \u0001, \u0001, ,,...</td>\n    </tr>\n  </tbody>\n</table>\n<p>798 rows × 3 columns</p>\n</div>"
     },
     "execution_count": 25,
     "metadata": {},
     "output_type": "execute_result"
    }
   ],
   "source": [
    "list_train[0]"
   ],
   "metadata": {
    "collapsed": false,
    "ExecuteTime": {
     "end_time": "2023-09-19T23:20:15.140602Z",
     "start_time": "2023-09-19T23:20:15.136312Z"
    }
   },
   "id": "8538d2701b6457e7"
  },
  {
   "cell_type": "code",
   "execution_count": 36,
   "outputs": [],
   "source": [
    "df_train = pd.DataFrame(columns=list_train[0].columns)\n",
    "df_val = pd.DataFrame(columns=list_val[0].columns)\n",
    "df_test = pd.DataFrame(columns=list_test[0].columns)\n",
    "\n",
    "for i in list_train:\n",
    "    df_train = pd.concat([df_train,i])\n",
    "for i in list_val:\n",
    "    df_val = pd.concat([df_val,i])\n",
    "for i in list_test:\n",
    "    df_test = pd.concat([df_test,i])"
   ],
   "metadata": {
    "collapsed": false,
    "ExecuteTime": {
     "end_time": "2023-09-19T23:26:48.408932Z",
     "start_time": "2023-09-19T23:26:48.178304Z"
    }
   },
   "id": "35b359370022e672"
  },
  {
   "cell_type": "code",
   "execution_count": null,
   "outputs": [],
   "source": [],
   "metadata": {
    "collapsed": false
   },
   "id": "69445f2382a06be0"
  }
 ],
 "metadata": {
  "kernelspec": {
   "display_name": "Python 3",
   "language": "python",
   "name": "python3"
  },
  "language_info": {
   "codemirror_mode": {
    "name": "ipython",
    "version": 2
   },
   "file_extension": ".py",
   "mimetype": "text/x-python",
   "name": "python",
   "nbconvert_exporter": "python",
   "pygments_lexer": "ipython2",
   "version": "2.7.6"
  }
 },
 "nbformat": 4,
 "nbformat_minor": 5
}
