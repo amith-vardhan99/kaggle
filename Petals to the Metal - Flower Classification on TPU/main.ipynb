{
 "cells": [
  {
   "cell_type": "code",
   "execution_count": 1,
   "id": "initial_id",
   "metadata": {
    "collapsed": true,
    "ExecuteTime": {
     "end_time": "2023-09-17T23:51:06.110053Z",
     "start_time": "2023-09-17T23:51:03.357143Z"
    }
   },
   "outputs": [],
   "source": [
    "import numpy as np\n",
    "import pandas as pd\n",
    "import matplotlib.pyplot as plt\n",
    "import seaborn as sns\n",
    "import tensorflow as tf\n",
    "import tensorflow_datasets as tfds"
   ]
  },
  {
   "cell_type": "code",
   "execution_count": 2,
   "outputs": [],
   "source": [
    "df = tf.data.TFRecordDataset(\"/Users/amith/Documents/GitHub/kaggle/Petals to the Metal - Flower Classification on TPU/tpu-getting-started/tfrecords-jpeg-192x192/train/00-192x192-798.tfrec\")"
   ],
   "metadata": {
    "collapsed": false,
    "ExecuteTime": {
     "end_time": "2023-09-17T23:51:10.012683Z",
     "start_time": "2023-09-17T23:51:09.994164Z"
    }
   },
   "id": "2368a17a2dc2aaf7"
  },
  {
   "cell_type": "code",
   "execution_count": 3,
   "outputs": [],
   "source": [
    "p = []\n",
    "dat = pd.DataFrame()\n",
    "maxi = 0\n",
    "for i in df.as_numpy_iterator():\n",
    "    q = []\n",
    "    ct = 0\n",
    "    for j in i:\n",
    "        q.append(j)\n",
    "        ct += 1\n",
    "    for j in range(ct,50789):\n",
    "        q.append(0)\n",
    "    p.append(q)"
   ],
   "metadata": {
    "collapsed": false,
    "ExecuteTime": {
     "end_time": "2023-09-17T23:51:13.256701Z",
     "start_time": "2023-09-17T23:51:11.319821Z"
    }
   },
   "id": "9ee6eb2e0d168368"
  },
  {
   "cell_type": "code",
   "execution_count": 5,
   "outputs": [],
   "source": [
    "img = np.array(p)"
   ],
   "metadata": {
    "collapsed": false,
    "ExecuteTime": {
     "end_time": "2023-09-17T23:52:15.138930Z",
     "start_time": "2023-09-17T23:52:07.755207Z"
    }
   },
   "id": "1aaf1e7dea768010"
  },
  {
   "cell_type": "code",
   "execution_count": 6,
   "outputs": [
    {
     "data": {
      "text/plain": "array([[ 10, 144, 163, ...,   0,   0,   0],\n       [ 10, 249, 200, ...,   0,   0,   0],\n       [ 10, 201, 167, ...,   0,   0,   0],\n       ...,\n       [ 10, 237, 242, ...,   0,   0,   0],\n       [ 10, 184, 132, ...,   0,   0,   0],\n       [ 10, 239, 199, ...,   0,   0,   0]])"
     },
     "execution_count": 6,
     "metadata": {},
     "output_type": "execute_result"
    }
   ],
   "source": [
    "img"
   ],
   "metadata": {
    "collapsed": false,
    "ExecuteTime": {
     "end_time": "2023-09-17T23:52:37.843309Z",
     "start_time": "2023-09-17T23:52:37.830059Z"
    }
   },
   "id": "422dbde584cfeb1f"
  },
  {
   "cell_type": "code",
   "execution_count": null,
   "outputs": [],
   "source": [],
   "metadata": {
    "collapsed": false
   },
   "id": "b7c5834281eebb30"
  }
 ],
 "metadata": {
  "kernelspec": {
   "display_name": "Python 3",
   "language": "python",
   "name": "python3"
  },
  "language_info": {
   "codemirror_mode": {
    "name": "ipython",
    "version": 2
   },
   "file_extension": ".py",
   "mimetype": "text/x-python",
   "name": "python",
   "nbconvert_exporter": "python",
   "pygments_lexer": "ipython2",
   "version": "2.7.6"
  }
 },
 "nbformat": 4,
 "nbformat_minor": 5
}
