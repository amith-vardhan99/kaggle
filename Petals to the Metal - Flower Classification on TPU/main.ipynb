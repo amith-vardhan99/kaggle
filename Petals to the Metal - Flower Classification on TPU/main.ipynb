{
 "cells": [
  {
   "cell_type": "code",
   "execution_count": 1,
   "id": "initial_id",
   "metadata": {
    "collapsed": true,
    "ExecuteTime": {
     "end_time": "2023-09-17T23:57:40.179078Z",
     "start_time": "2023-09-17T23:57:31.807017Z"
    }
   },
   "outputs": [],
   "source": [
    "import numpy as np\n",
    "import pandas as pd\n",
    "import matplotlib.pyplot as plt\n",
    "import seaborn as sns\n",
    "import tensorflow as tf\n",
    "import tensorflow_datasets as tfds"
   ]
  },
  {
   "cell_type": "code",
   "execution_count": 24,
   "outputs": [],
   "source": [
    "df = tf.data.TFRecordDataset(\"/Users/amith/Documents/GitHub/kaggle/Petals to the Metal - Flower Classification on TPU/tpu-getting-started/tfrecords-jpeg-192x192/train/00-192x192-798.tfrec\")"
   ],
   "metadata": {
    "collapsed": false,
    "ExecuteTime": {
     "end_time": "2023-09-18T00:05:40.553314Z",
     "start_time": "2023-09-18T00:05:40.540800Z"
    }
   },
   "id": "2368a17a2dc2aaf7"
  },
  {
   "cell_type": "code",
   "execution_count": 31,
   "outputs": [],
   "source": [
    "img_describe = {\n",
    "    \"height\"    : tf.io.FixedLenFeature([], tf.int64),\n",
    "    \"width\"     : tf.io.FixedLenFeature([], tf.int64),\n",
    "    \"depth\"     : tf.io.FixedLenFeature([], tf.int64),\n",
    "    \"label\"     : tf.io.FixedLenFeature([], tf.int64),\n",
    "    \"image_raw\" : tf.io.FixedLenFeature([], tf.string),\n",
    "}"
   ],
   "metadata": {
    "collapsed": false,
    "ExecuteTime": {
     "end_time": "2023-09-18T00:08:53.856762Z",
     "start_time": "2023-09-18T00:08:53.855288Z"
    }
   },
   "id": "473bb987ad89ae84"
  },
  {
   "cell_type": "code",
   "execution_count": 32,
   "outputs": [],
   "source": [
    "y = lambda x: tf.io.parse_single_example(x,img_describe)"
   ],
   "metadata": {
    "collapsed": false,
    "ExecuteTime": {
     "end_time": "2023-09-18T00:09:19.613787Z",
     "start_time": "2023-09-18T00:09:19.607064Z"
    }
   },
   "id": "be6b48317cabc42a"
  },
  {
   "cell_type": "code",
   "execution_count": 34,
   "outputs": [],
   "source": [
    "img = df.map(y)"
   ],
   "metadata": {
    "collapsed": false,
    "ExecuteTime": {
     "end_time": "2023-09-18T00:09:28.248802Z",
     "start_time": "2023-09-18T00:09:28.229497Z"
    }
   },
   "id": "e4a0361bc9ceb779"
  },
  {
   "cell_type": "code",
   "execution_count": 42,
   "outputs": [
    {
     "ename": "TypeError",
     "evalue": "'int' object is not iterable",
     "output_type": "error",
     "traceback": [
      "\u001B[0;31m---------------------------------------------------------------------------\u001B[0m",
      "\u001B[0;31mTypeError\u001B[0m                                 Traceback (most recent call last)",
      "Cell \u001B[0;32mIn[42], line 3\u001B[0m\n\u001B[1;32m      1\u001B[0m \u001B[38;5;28;01mfor\u001B[39;00m i \u001B[38;5;129;01min\u001B[39;00m df\u001B[38;5;241m.\u001B[39mas_numpy_iterator():\n\u001B[1;32m      2\u001B[0m     \u001B[38;5;28;01mfor\u001B[39;00m j \u001B[38;5;129;01min\u001B[39;00m i:\n\u001B[0;32m----> 3\u001B[0m         \u001B[38;5;28;01mfor\u001B[39;00m k \u001B[38;5;129;01min\u001B[39;00m j:\n\u001B[1;32m      4\u001B[0m             \u001B[38;5;28mprint\u001B[39m(k)\n",
      "\u001B[0;31mTypeError\u001B[0m: 'int' object is not iterable"
     ]
    }
   ],
   "source": [
    "for i in df.as_numpy_iterator():\n",
    "    for j in i:\n",
    "        for k in j:\n",
    "            if type(k)!=int and type(k)!=float:\n",
    "                print(k)"
   ],
   "metadata": {
    "collapsed": false,
    "ExecuteTime": {
     "end_time": "2023-09-18T00:14:09.751275Z",
     "start_time": "2023-09-18T00:14:09.669792Z"
    }
   },
   "id": "27b75e9d9905d670"
  },
  {
   "cell_type": "code",
   "execution_count": 40,
   "outputs": [
    {
     "data": {
      "text/plain": "2"
     },
     "execution_count": 40,
     "metadata": {},
     "output_type": "execute_result"
    }
   ],
   "source": [
    "k = [[1,2,3],[4,5,6]]\n",
    "len(k)"
   ],
   "metadata": {
    "collapsed": false,
    "ExecuteTime": {
     "end_time": "2023-09-18T00:12:28.418885Z",
     "start_time": "2023-09-18T00:12:12.725143Z"
    }
   },
   "id": "b029b6b6194c0ea7"
  },
  {
   "cell_type": "code",
   "execution_count": 41,
   "outputs": [
    {
     "ename": "NameError",
     "evalue": "name 'dim' is not defined",
     "output_type": "error",
     "traceback": [
      "\u001B[0;31m---------------------------------------------------------------------------\u001B[0m",
      "\u001B[0;31mNameError\u001B[0m                                 Traceback (most recent call last)",
      "Cell \u001B[0;32mIn[41], line 1\u001B[0m\n\u001B[0;32m----> 1\u001B[0m \u001B[43mdim\u001B[49m(k)\n",
      "\u001B[0;31mNameError\u001B[0m: name 'dim' is not defined"
     ]
    }
   ],
   "source": [
    "dim(k)"
   ],
   "metadata": {
    "collapsed": false,
    "ExecuteTime": {
     "end_time": "2023-09-18T00:13:24.441228Z",
     "start_time": "2023-09-18T00:13:16.654692Z"
    }
   },
   "id": "a28e0a2156ee7039"
  },
  {
   "cell_type": "code",
   "execution_count": null,
   "outputs": [],
   "source": [],
   "metadata": {
    "collapsed": false
   },
   "id": "e374257d16cbdb08"
  }
 ],
 "metadata": {
  "kernelspec": {
   "display_name": "Python 3",
   "language": "python",
   "name": "python3"
  },
  "language_info": {
   "codemirror_mode": {
    "name": "ipython",
    "version": 2
   },
   "file_extension": ".py",
   "mimetype": "text/x-python",
   "name": "python",
   "nbconvert_exporter": "python",
   "pygments_lexer": "ipython2",
   "version": "2.7.6"
  }
 },
 "nbformat": 4,
 "nbformat_minor": 5
}
