{
 "cells": [
  {
   "cell_type": "code",
   "execution_count": 47,
   "id": "initial_id",
   "metadata": {
    "collapsed": true,
    "ExecuteTime": {
     "end_time": "2023-09-29T19:58:43.725968Z",
     "start_time": "2023-09-29T19:58:43.712698Z"
    }
   },
   "outputs": [],
   "source": [
    "import numpy as np\n",
    "import pandas as pd\n",
    "import os\n",
    "import tensorflow as tf"
   ]
  },
  {
   "cell_type": "code",
   "execution_count": 48,
   "outputs": [],
   "source": [
    "path = \"/Users/amith/Documents/GitHub/kaggle/Petals to the Metal - Flower Classification on TPU/tpu-getting-started/tfrecords-jpeg-192x192/train\""
   ],
   "metadata": {
    "collapsed": false,
    "ExecuteTime": {
     "end_time": "2023-09-29T19:58:43.897714Z",
     "start_time": "2023-09-29T19:58:43.895132Z"
    }
   },
   "id": "df3bbb3a0f830de1"
  },
  {
   "cell_type": "code",
   "execution_count": 49,
   "outputs": [],
   "source": [
    "file_list = np.array([])\n",
    "\n",
    "for i in os.listdir(path):\n",
    "    file_list = np.append(file_list,path+\"/\"+i)"
   ],
   "metadata": {
    "collapsed": false,
    "ExecuteTime": {
     "end_time": "2023-09-29T19:58:44.074957Z",
     "start_time": "2023-09-29T19:58:44.071467Z"
    }
   },
   "id": "db26da6819512a0e"
  },
  {
   "cell_type": "code",
   "execution_count": 50,
   "outputs": [
    {
     "name": "stdout",
     "output_type": "stream",
     "text": [
      "['/Users/amith/Documents/GitHub/kaggle/Petals to the Metal - Flower Classification on TPU/tpu-getting-started/tfrecords-jpeg-192x192/train/07-192x192-798.tfrec'\n",
      " '/Users/amith/Documents/GitHub/kaggle/Petals to the Metal - Flower Classification on TPU/tpu-getting-started/tfrecords-jpeg-192x192/train/02-192x192-798.tfrec'\n",
      " '/Users/amith/Documents/GitHub/kaggle/Petals to the Metal - Flower Classification on TPU/tpu-getting-started/tfrecords-jpeg-192x192/train/06-192x192-798.tfrec'\n",
      " '/Users/amith/Documents/GitHub/kaggle/Petals to the Metal - Flower Classification on TPU/tpu-getting-started/tfrecords-jpeg-192x192/train/03-192x192-798.tfrec'\n",
      " '/Users/amith/Documents/GitHub/kaggle/Petals to the Metal - Flower Classification on TPU/tpu-getting-started/tfrecords-jpeg-192x192/train/05-192x192-798.tfrec'\n",
      " '/Users/amith/Documents/GitHub/kaggle/Petals to the Metal - Flower Classification on TPU/tpu-getting-started/tfrecords-jpeg-192x192/train/00-192x192-798.tfrec'\n",
      " '/Users/amith/Documents/GitHub/kaggle/Petals to the Metal - Flower Classification on TPU/tpu-getting-started/tfrecords-jpeg-192x192/train/04-192x192-798.tfrec'\n",
      " '/Users/amith/Documents/GitHub/kaggle/Petals to the Metal - Flower Classification on TPU/tpu-getting-started/tfrecords-jpeg-192x192/train/01-192x192-798.tfrec'\n",
      " '/Users/amith/Documents/GitHub/kaggle/Petals to the Metal - Flower Classification on TPU/tpu-getting-started/tfrecords-jpeg-192x192/train/14-192x192-798.tfrec'\n",
      " '/Users/amith/Documents/GitHub/kaggle/Petals to the Metal - Flower Classification on TPU/tpu-getting-started/tfrecords-jpeg-192x192/train/08-192x192-798.tfrec'\n",
      " '/Users/amith/Documents/GitHub/kaggle/Petals to the Metal - Flower Classification on TPU/tpu-getting-started/tfrecords-jpeg-192x192/train/11-192x192-798.tfrec'\n",
      " '/Users/amith/Documents/GitHub/kaggle/Petals to the Metal - Flower Classification on TPU/tpu-getting-started/tfrecords-jpeg-192x192/train/09-192x192-798.tfrec'\n",
      " '/Users/amith/Documents/GitHub/kaggle/Petals to the Metal - Flower Classification on TPU/tpu-getting-started/tfrecords-jpeg-192x192/train/15-192x192-783.tfrec'\n",
      " '/Users/amith/Documents/GitHub/kaggle/Petals to the Metal - Flower Classification on TPU/tpu-getting-started/tfrecords-jpeg-192x192/train/10-192x192-798.tfrec'\n",
      " '/Users/amith/Documents/GitHub/kaggle/Petals to the Metal - Flower Classification on TPU/tpu-getting-started/tfrecords-jpeg-192x192/train/13-192x192-798.tfrec'\n",
      " '/Users/amith/Documents/GitHub/kaggle/Petals to the Metal - Flower Classification on TPU/tpu-getting-started/tfrecords-jpeg-192x192/train/12-192x192-798.tfrec']\n"
     ]
    }
   ],
   "source": [
    "print(file_list)"
   ],
   "metadata": {
    "collapsed": false,
    "ExecuteTime": {
     "end_time": "2023-09-29T19:58:44.252508Z",
     "start_time": "2023-09-29T19:58:44.248741Z"
    }
   },
   "id": "d1772e4a40aec4c3"
  },
  {
   "cell_type": "code",
   "execution_count": 51,
   "outputs": [],
   "source": [
    "image_description = {\n",
    "    \"id\"    : tf.io.FixedLenFeature([],dtype=tf.string),\n",
    "    \"class\" : tf.io.FixedLenFeature([],dtype=tf.int64),\n",
    "    \"image\" : tf.io.FixedLenFeature([],dtype=tf.string)\n",
    "}"
   ],
   "metadata": {
    "collapsed": false,
    "ExecuteTime": {
     "end_time": "2023-09-29T19:58:44.485801Z",
     "start_time": "2023-09-29T19:58:44.481983Z"
    }
   },
   "id": "750aa1a43a145736"
  },
  {
   "cell_type": "code",
   "execution_count": 52,
   "outputs": [],
   "source": [
    "y = lambda x : tf.io.parse_single_example(x,image_description)"
   ],
   "metadata": {
    "collapsed": false,
    "ExecuteTime": {
     "end_time": "2023-09-29T19:58:45.047117Z",
     "start_time": "2023-09-29T19:58:45.044304Z"
    }
   },
   "id": "34fc1cddca1af933"
  },
  {
   "cell_type": "code",
   "execution_count": 53,
   "outputs": [],
   "source": [
    "img_file = tf.data.TFRecordDataset(file_list[0])\n",
    "img = img_file.map(y)"
   ],
   "metadata": {
    "collapsed": false,
    "ExecuteTime": {
     "end_time": "2023-09-29T19:58:45.500571Z",
     "start_time": "2023-09-29T19:58:45.484576Z"
    }
   },
   "id": "a54f6da7c02a7329"
  },
  {
   "cell_type": "code",
   "execution_count": 54,
   "outputs": [],
   "source": [
    "id = np.array([])\n",
    "label = np.array([])\n",
    "image = []"
   ],
   "metadata": {
    "collapsed": false,
    "ExecuteTime": {
     "end_time": "2023-09-29T19:58:45.755086Z",
     "start_time": "2023-09-29T19:58:45.751611Z"
    }
   },
   "id": "afb7c4ac93c5e6a"
  },
  {
   "cell_type": "code",
   "execution_count": 68,
   "outputs": [],
   "source": [
    "for ef in img.take(798):\n",
    "    id = np.append(id,ef[\"id\"].numpy())\n",
    "    label = np.append(label,ef[\"class\"].numpy())\n",
    "    image.append(ef[\"image\"])\n",
    "    break"
   ],
   "metadata": {
    "collapsed": false,
    "ExecuteTime": {
     "end_time": "2023-09-29T20:00:04.418749Z",
     "start_time": "2023-09-29T20:00:04.399516Z"
    }
   },
   "id": "90e77aaa52a9173e"
  },
  {
   "cell_type": "code",
   "execution_count": 69,
   "outputs": [
    {
     "data": {
      "text/plain": "<tf.Tensor: shape=(192, 192, 3), dtype=uint8, numpy=\narray([[[ 97, 115,  31],\n        [ 93, 111,  27],\n        [ 89, 109,  24],\n        ...,\n        [ 52,  87,   0],\n        [ 51,  85,   0],\n        [ 53,  87,   3]],\n\n       [[ 96, 114,  30],\n        [ 93, 111,  27],\n        [ 90, 110,  25],\n        ...,\n        [ 49,  83,   0],\n        [ 49,  83,   0],\n        [ 50,  83,   2]],\n\n       [[ 95, 113,  27],\n        [ 94, 112,  28],\n        [ 92, 110,  26],\n        ...,\n        [ 46,  79,   0],\n        [ 45,  77,   1],\n        [ 46,  76,   2]],\n\n       ...,\n\n       [[ 93, 118,  14],\n        [ 93, 118,  14],\n        [ 91, 116,  12],\n        ...,\n        [ 94, 111,  19],\n        [ 92, 109,  17],\n        [ 90, 107,  15]],\n\n       [[ 92, 117,  16],\n        [ 90, 115,  14],\n        [ 89, 114,  13],\n        ...,\n        [ 95, 112,  20],\n        [ 91, 110,  20],\n        [ 89, 108,  18]],\n\n       [[ 90, 114,  16],\n        [ 89, 113,  15],\n        [ 88, 112,  14],\n        ...,\n        [ 95, 114,  24],\n        [ 93, 112,  22],\n        [ 91, 110,  20]]], dtype=uint8)>"
     },
     "execution_count": 69,
     "metadata": {},
     "output_type": "execute_result"
    }
   ],
   "source": [
    "image[0]"
   ],
   "metadata": {
    "collapsed": false,
    "ExecuteTime": {
     "end_time": "2023-09-29T20:00:04.816870Z",
     "start_time": "2023-09-29T20:00:04.811685Z"
    }
   },
   "id": "647ea5178034fb4b"
  },
  {
   "cell_type": "code",
   "execution_count": null,
   "outputs": [],
   "source": [],
   "metadata": {
    "collapsed": false
   },
   "id": "79d52205797b9d77"
  }
 ],
 "metadata": {
  "kernelspec": {
   "display_name": "Python 3",
   "language": "python",
   "name": "python3"
  },
  "language_info": {
   "codemirror_mode": {
    "name": "ipython",
    "version": 2
   },
   "file_extension": ".py",
   "mimetype": "text/x-python",
   "name": "python",
   "nbconvert_exporter": "python",
   "pygments_lexer": "ipython2",
   "version": "2.7.6"
  }
 },
 "nbformat": 4,
 "nbformat_minor": 5
}
