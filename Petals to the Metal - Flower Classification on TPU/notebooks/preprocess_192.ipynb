{
 "cells": [
  {
   "cell_type": "code",
   "execution_count": 1,
   "id": "initial_id",
   "metadata": {
    "collapsed": true,
    "ExecuteTime": {
     "end_time": "2023-09-24T19:30:24.836128Z",
     "start_time": "2023-09-24T19:30:21.561579Z"
    }
   },
   "outputs": [],
   "source": [
    "import re\n",
    "import numpy as np\n",
    "import pandas as pd\n",
    "import matplotlib.pyplot as plt\n",
    "import seaborn as sns\n",
    "import tensorflow as tf\n",
    "import tensorflow_datasets as tfds\n",
    "import os\n",
    "import nltk\n",
    "import math"
   ]
  },
  {
   "cell_type": "code",
   "execution_count": 2,
   "outputs": [],
   "source": [
    "def conv_to_char(n):\n",
    "    s = list(n)\n",
    "    st = \"\"\n",
    "    for i in s:\n",
    "        st += chr(i)\n",
    "    return st"
   ],
   "metadata": {
    "collapsed": false,
    "ExecuteTime": {
     "end_time": "2023-09-24T19:30:27.907390Z",
     "start_time": "2023-09-24T19:30:27.900189Z"
    }
   },
   "id": "9ca83876c541b81f"
  },
  {
   "cell_type": "code",
   "execution_count": 3,
   "outputs": [],
   "source": [
    "def features_of_images_train_val(location_folder):\n",
    "    \n",
    "    list_of_files = os.listdir(location_folder)\n",
    "    \n",
    "    full_file_path = []\n",
    "    for i in list_of_files:\n",
    "        full_file_path.append(location_folder+i)\n",
    "\n",
    "    id = []\n",
    "    cls = []\n",
    "    image = []\n",
    "\n",
    "    for i in full_file_path:\n",
    "        raw_img = tf.data.TFRecordDataset(i)\n",
    "        image_description = {\n",
    "            \"id\" : tf.io.FixedLenFeature([],tf.string),\n",
    "            \"class\": tf.io.FixedLenFeature([],tf.int64),\n",
    "            \"image\": tf.io.FixedLenFeature([],tf.string)\n",
    "        }\n",
    "        y = lambda x: tf.io.parse_single_example(x,image_description)\n",
    "        img = raw_img.map(y)\n",
    "\n",
    "        begin = i.rindex(\"-\")+1\n",
    "        end = i.index(\".tfrec\")\n",
    "        num = int(i[begin:end])\n",
    "\n",
    "        for dr in img.take(num):\n",
    "            id.append(conv_to_char(dr[\"id\"].numpy()))\n",
    "            cls.append(int(dr[\"class\"].numpy()))\n",
    "            image.append(tf.io.decode_image(dr[\"image\"]).numpy())\n",
    "    \n",
    "    return id,cls,image"
   ],
   "metadata": {
    "collapsed": false,
    "ExecuteTime": {
     "end_time": "2023-09-24T19:30:37.828286Z",
     "start_time": "2023-09-24T19:30:37.818330Z"
    }
   },
   "id": "b25c944d65b47cd"
  },
  {
   "cell_type": "code",
   "execution_count": 4,
   "outputs": [],
   "source": [
    "def features_of_images_test(location_folder):\n",
    "\n",
    "    list_of_files = os.listdir(location_folder)\n",
    "\n",
    "    full_file_path = []\n",
    "    for i in list_of_files:\n",
    "        full_file_path.append(location_folder+i)\n",
    "\n",
    "    id = []\n",
    "    image = []\n",
    "\n",
    "    for i in full_file_path:\n",
    "        raw_img = tf.data.TFRecordDataset(i)\n",
    "        image_description = {\n",
    "            \"id\" : tf.io.FixedLenFeature([],tf.string),\n",
    "            \"image\": tf.io.FixedLenFeature([],tf.string)\n",
    "        }\n",
    "        y = lambda x: tf.io.parse_single_example(x,image_description)\n",
    "        img = raw_img.map(y)\n",
    "\n",
    "        begin = i.rindex(\"-\")+1\n",
    "        end = i.index(\".tfrec\")\n",
    "        num = int(i[begin:end])\n",
    "\n",
    "        for dr in img.take(num):\n",
    "            id.append(conv_to_char(dr[\"id\"].numpy()))\n",
    "            image.append(tf.io.decode_image(dr[\"image\"]).numpy())\n",
    "\n",
    "    return id,image"
   ],
   "metadata": {
    "collapsed": false,
    "ExecuteTime": {
     "end_time": "2023-09-24T19:30:38.180641Z",
     "start_time": "2023-09-24T19:30:38.175560Z"
    }
   },
   "id": "a3368db50e46ca11"
  },
  {
   "cell_type": "code",
   "execution_count": 5,
   "outputs": [],
   "source": [
    "location_folder_train_192 = \"/Users/amith/Documents/GitHub/kaggle/Petals to the Metal - Flower Classification on TPU/tpu-getting-started/tfrecords-jpeg-192x192/train/\"\n",
    "\n",
    "location_folder_train_224 = \"/Users/amith/Documents/GitHub/kaggle/Petals to the Metal - Flower Classification on TPU/tpu-getting-started/tfrecords-jpeg-224x224/train/\"\n",
    "\n",
    "location_folder_train_331 = \"/Users/amith/Documents/GitHub/kaggle/Petals to the Metal - Flower Classification on TPU/tpu-getting-started/tfrecords-jpeg-331x331/train/\"\n",
    "\n",
    "location_folder_train_512 = \"/Users/amith/Documents/GitHub/kaggle/Petals to the Metal - Flower Classification on TPU/tpu-getting-started/tfrecords-jpeg-512x512/train/\""
   ],
   "metadata": {
    "collapsed": false,
    "ExecuteTime": {
     "end_time": "2023-09-24T19:30:38.554338Z",
     "start_time": "2023-09-24T19:30:38.550617Z"
    }
   },
   "id": "9023735b9f7670c6"
  },
  {
   "cell_type": "code",
   "execution_count": 6,
   "outputs": [],
   "source": [
    "location_folder_val_192 = \"/Users/amith/Documents/GitHub/kaggle/Petals to the Metal - Flower Classification on TPU/tpu-getting-started/tfrecords-jpeg-192x192/val/\"\n",
    "\n",
    "location_folder_val_224 = \"/Users/amith/Documents/GitHub/kaggle/Petals to the Metal - Flower Classification on TPU/tpu-getting-started/tfrecords-jpeg-224x224/val/\"\n",
    "\n",
    "location_folder_val_331 = \"/Users/amith/Documents/GitHub/kaggle/Petals to the Metal - Flower Classification on TPU/tpu-getting-started/tfrecords-jpeg-331x331/val/\"\n",
    "\n",
    "location_folder_val_512 = \"/Users/amith/Documents/GitHub/kaggle/Petals to the Metal - Flower Classification on TPU/tpu-getting-started/tfrecords-jpeg-512x512/val/\""
   ],
   "metadata": {
    "collapsed": false,
    "ExecuteTime": {
     "end_time": "2023-09-24T19:30:38.860932Z",
     "start_time": "2023-09-24T19:30:38.854672Z"
    }
   },
   "id": "f5e6cfc358f4a77"
  },
  {
   "cell_type": "code",
   "execution_count": 7,
   "outputs": [],
   "source": [
    "location_folder_test_192 = \"/Users/amith/Documents/GitHub/kaggle/Petals to the Metal - Flower Classification on TPU/tpu-getting-started/tfrecords-jpeg-192x192/test/\"\n",
    "\n",
    "location_folder_test_224 = \"/Users/amith/Documents/GitHub/kaggle/Petals to the Metal - Flower Classification on TPU/tpu-getting-started/tfrecords-jpeg-224x224/test/\"\n",
    "\n",
    "location_folder_test_331 = \"/Users/amith/Documents/GitHub/kaggle/Petals to the Metal - Flower Classification on TPU/tpu-getting-started/tfrecords-jpeg-331x331/test/\"\n",
    "\n",
    "location_folder_test_512 = \"/Users/amith/Documents/GitHub/kaggle/Petals to the Metal - Flower Classification on TPU/tpu-getting-started/tfrecords-jpeg-512x512/test/\""
   ],
   "metadata": {
    "collapsed": false,
    "ExecuteTime": {
     "end_time": "2023-09-24T19:30:39.177835Z",
     "start_time": "2023-09-24T19:30:39.164901Z"
    }
   },
   "id": "39bffd3f10463c88"
  },
  {
   "cell_type": "markdown",
   "source": [
    "### Trainign Dataset"
   ],
   "metadata": {
    "collapsed": false
   },
   "id": "8f2a0063f9f7b8c0"
  },
  {
   "cell_type": "code",
   "execution_count": 8,
   "outputs": [],
   "source": [
    "id_train_192,cls_train_192,image_train_192 = features_of_images_train_val(location_folder_train_192)"
   ],
   "metadata": {
    "collapsed": false,
    "ExecuteTime": {
     "end_time": "2023-09-24T19:30:46.026205Z",
     "start_time": "2023-09-24T19:30:39.833713Z"
    }
   },
   "id": "b51c6c0efac0912"
  },
  {
   "cell_type": "code",
   "execution_count": 9,
   "outputs": [],
   "source": [
    "id_train_192_mod = np.array(id_train_192)"
   ],
   "metadata": {
    "collapsed": false,
    "ExecuteTime": {
     "end_time": "2023-09-24T19:30:46.036923Z",
     "start_time": "2023-09-24T19:30:46.031803Z"
    }
   },
   "id": "5225ce6802987a38"
  },
  {
   "cell_type": "code",
   "execution_count": 10,
   "outputs": [],
   "source": [
    "cls_train_192_mod = np.array(cls_train_192)"
   ],
   "metadata": {
    "collapsed": false,
    "ExecuteTime": {
     "end_time": "2023-09-24T19:30:46.038871Z",
     "start_time": "2023-09-24T19:30:46.035405Z"
    }
   },
   "id": "1f3a74efb7681fda"
  },
  {
   "cell_type": "code",
   "execution_count": 11,
   "outputs": [],
   "source": [
    "image_train_192_mod = np.array(image_train_192)"
   ],
   "metadata": {
    "collapsed": false,
    "ExecuteTime": {
     "end_time": "2023-09-24T19:30:47.275559Z",
     "start_time": "2023-09-24T19:30:46.042210Z"
    }
   },
   "id": "973c8621c30ee381"
  },
  {
   "cell_type": "code",
   "execution_count": 12,
   "outputs": [],
   "source": [
    "id_train_224,cls_train_224,image_train_224 = features_of_images_train_val(location_folder_train_224)"
   ],
   "metadata": {
    "collapsed": false,
    "ExecuteTime": {
     "end_time": "2023-09-24T19:30:56.121658Z",
     "start_time": "2023-09-24T19:30:47.278280Z"
    }
   },
   "id": "cb6c0a694edd9ed0"
  },
  {
   "cell_type": "code",
   "execution_count": 13,
   "outputs": [],
   "source": [
    "id_train_224_mod = np.array(id_train_224)"
   ],
   "metadata": {
    "collapsed": false,
    "ExecuteTime": {
     "end_time": "2023-09-24T19:30:56.125768Z",
     "start_time": "2023-09-24T19:30:56.120247Z"
    }
   },
   "id": "f7cf477aefe4d2c2"
  },
  {
   "cell_type": "code",
   "execution_count": 14,
   "outputs": [],
   "source": [
    "cls_train_224_mod = np.array(cls_train_224)"
   ],
   "metadata": {
    "collapsed": false,
    "ExecuteTime": {
     "end_time": "2023-09-24T19:30:56.139730Z",
     "start_time": "2023-09-24T19:30:56.125151Z"
    }
   },
   "id": "61de1f1d987e19e3"
  },
  {
   "cell_type": "code",
   "execution_count": 15,
   "outputs": [],
   "source": [
    "image_train_224_mod = np.array(image_train_224)"
   ],
   "metadata": {
    "collapsed": false,
    "ExecuteTime": {
     "end_time": "2023-09-24T19:31:01.721873Z",
     "start_time": "2023-09-24T19:30:56.137084Z"
    }
   },
   "id": "c394cb41bc7b2eb1"
  },
  {
   "cell_type": "code",
   "execution_count": 16,
   "outputs": [],
   "source": [
    "id_train_331,cls_train_331,image_train_331 = features_of_images_train_val(location_folder_train_331)"
   ],
   "metadata": {
    "collapsed": false,
    "ExecuteTime": {
     "end_time": "2023-09-24T19:31:18.887917Z",
     "start_time": "2023-09-24T19:31:01.724704Z"
    }
   },
   "id": "82e73154eb98995"
  },
  {
   "cell_type": "code",
   "execution_count": 17,
   "outputs": [],
   "source": [
    "id_train_331_mod = np.array(id_train_331)"
   ],
   "metadata": {
    "collapsed": false,
    "ExecuteTime": {
     "end_time": "2023-09-24T19:31:18.916473Z",
     "start_time": "2023-09-24T19:31:18.860631Z"
    }
   },
   "id": "142dcd5ee5a0d172"
  },
  {
   "cell_type": "code",
   "execution_count": 18,
   "outputs": [],
   "source": [
    "cls_train_331_mod = np.array(cls_train_331)"
   ],
   "metadata": {
    "collapsed": false,
    "ExecuteTime": {
     "end_time": "2023-09-24T19:31:19.254640Z",
     "start_time": "2023-09-24T19:31:18.902497Z"
    }
   },
   "id": "1b2e35c5cc2ed2e0"
  },
  {
   "cell_type": "code",
   "execution_count": 19,
   "outputs": [],
   "source": [
    "image_train_331_mod = np.array(image_train_331)"
   ],
   "metadata": {
    "collapsed": false,
    "ExecuteTime": {
     "end_time": "2023-09-24T19:32:06.309120Z",
     "start_time": "2023-09-24T19:31:19.257382Z"
    }
   },
   "id": "fd6e9efdf297e52a"
  },
  {
   "cell_type": "code",
   "execution_count": 20,
   "outputs": [],
   "source": [
    "id_train_512,cls_train_512,image_train_512 = features_of_images_train_val(location_folder_train_512)"
   ],
   "metadata": {
    "collapsed": false,
    "ExecuteTime": {
     "end_time": "2023-09-24T19:32:35.532564Z",
     "start_time": "2023-09-24T19:32:06.110263Z"
    }
   },
   "id": "6c6ec45f3090140a"
  },
  {
   "cell_type": "code",
   "execution_count": 21,
   "outputs": [],
   "source": [
    "id_train_512_mod = np.array(id_train_512)"
   ],
   "metadata": {
    "collapsed": false,
    "ExecuteTime": {
     "end_time": "2023-09-24T19:32:35.652988Z",
     "start_time": "2023-09-24T19:32:35.560915Z"
    }
   },
   "id": "439fae5e311f5546"
  },
  {
   "cell_type": "code",
   "execution_count": 22,
   "outputs": [],
   "source": [
    "cls_train_512_mod = np.array(cls_train_512)"
   ],
   "metadata": {
    "collapsed": false,
    "ExecuteTime": {
     "end_time": "2023-09-24T19:32:35.654393Z",
     "start_time": "2023-09-24T19:32:35.566534Z"
    }
   },
   "id": "d884eb9c61ad1665"
  },
  {
   "cell_type": "code",
   "execution_count": null,
   "outputs": [],
   "source": [
    "image_train_512_mod = np.array(image_train_512)"
   ],
   "metadata": {
    "collapsed": false,
    "is_executing": true,
    "ExecuteTime": {
     "start_time": "2023-09-24T19:32:35.674032Z"
    }
   },
   "id": "26946017bcc121e"
  },
  {
   "cell_type": "markdown",
   "source": [
    "### Validation Dataset"
   ],
   "metadata": {
    "collapsed": false
   },
   "id": "c77cd770ad4c213c"
  },
  {
   "cell_type": "code",
   "execution_count": null,
   "outputs": [],
   "source": [
    "id_val_192,cls_val_192,image_val_192 = features_of_images_train_val(location_folder_val_192)"
   ],
   "metadata": {
    "collapsed": false,
    "is_executing": true
   },
   "id": "2893568b5f0d1b19"
  },
  {
   "cell_type": "code",
   "execution_count": null,
   "outputs": [],
   "source": [
    "id_val_192_mod = np.array(id_val_192)"
   ],
   "metadata": {
    "collapsed": false,
    "is_executing": true
   },
   "id": "4c53a895783eaf6a"
  },
  {
   "cell_type": "code",
   "execution_count": null,
   "outputs": [],
   "source": [
    "cls_val_192_mod = np.array(cls_val_192)"
   ],
   "metadata": {
    "collapsed": false,
    "is_executing": true
   },
   "id": "a3b1f0a9cd070bb2"
  },
  {
   "cell_type": "code",
   "execution_count": null,
   "outputs": [],
   "source": [
    "image_val_192_mod = np.array(image_val_192)"
   ],
   "metadata": {
    "collapsed": false,
    "is_executing": true
   },
   "id": "fe90fe1b3b6a0294"
  },
  {
   "cell_type": "code",
   "execution_count": null,
   "outputs": [],
   "source": [
    "id_val_224,cls_val_224,image_val_224 = features_of_images_train_val(location_folder_val_224)"
   ],
   "metadata": {
    "collapsed": false,
    "is_executing": true
   },
   "id": "eff51226d3f27372"
  },
  {
   "cell_type": "code",
   "execution_count": null,
   "outputs": [],
   "source": [
    "id_val_224_mod = np.array(id_val_224)"
   ],
   "metadata": {
    "collapsed": false,
    "is_executing": true
   },
   "id": "9334ffe5cfb3b5f7"
  },
  {
   "cell_type": "code",
   "execution_count": null,
   "outputs": [],
   "source": [
    "cls_val_224_mod = np.array(cls_val_224)"
   ],
   "metadata": {
    "collapsed": false,
    "is_executing": true
   },
   "id": "30be0524d6f9fc27"
  },
  {
   "cell_type": "code",
   "execution_count": null,
   "outputs": [],
   "source": [
    "image_val_224_mod = np.array(image_val_224)"
   ],
   "metadata": {
    "collapsed": false,
    "is_executing": true
   },
   "id": "76402ffb9bfeee8c"
  },
  {
   "cell_type": "code",
   "execution_count": null,
   "outputs": [],
   "source": [
    "id_val_331,cls_val_331,image_val_331 = features_of_images_train_val(location_folder_val_331)"
   ],
   "metadata": {
    "collapsed": false,
    "is_executing": true
   },
   "id": "3d56b309b82d5a32"
  },
  {
   "cell_type": "code",
   "execution_count": null,
   "outputs": [],
   "source": [
    "id_val_331_mod = np.array(id_val_331)"
   ],
   "metadata": {
    "collapsed": false,
    "is_executing": true
   },
   "id": "66148928675d0e81"
  },
  {
   "cell_type": "code",
   "execution_count": null,
   "outputs": [],
   "source": [
    "cls_val_331_mod = np.array(cls_val_331)"
   ],
   "metadata": {
    "collapsed": false,
    "is_executing": true
   },
   "id": "889f699b0049eab7"
  },
  {
   "cell_type": "code",
   "execution_count": null,
   "outputs": [],
   "source": [
    "image_val_331_mod = np.array(image_val_331)"
   ],
   "metadata": {
    "collapsed": false,
    "is_executing": true
   },
   "id": "96c0c83d193b7e54"
  },
  {
   "cell_type": "code",
   "execution_count": null,
   "outputs": [],
   "source": [
    "id_val_512,cls_val_512,image_val_512 = features_of_images_train_val(location_folder_val_512)"
   ],
   "metadata": {
    "collapsed": false,
    "is_executing": true
   },
   "id": "6e07ee7389e39101"
  },
  {
   "cell_type": "code",
   "execution_count": null,
   "outputs": [],
   "source": [
    "id_val_512_mod = np.array(id_val_512)"
   ],
   "metadata": {
    "collapsed": false,
    "is_executing": true
   },
   "id": "7b005edd6214a23e"
  },
  {
   "cell_type": "code",
   "execution_count": null,
   "outputs": [],
   "source": [
    "cls_val_512_mod = np.array(cls_val_512)"
   ],
   "metadata": {
    "collapsed": false,
    "is_executing": true
   },
   "id": "73bed38bab6bedb"
  },
  {
   "cell_type": "code",
   "execution_count": null,
   "outputs": [],
   "source": [
    "image_val_512_mod = np.array(image_val_512)"
   ],
   "metadata": {
    "collapsed": false,
    "is_executing": true
   },
   "id": "1f60e51a7d41e75d"
  },
  {
   "cell_type": "markdown",
   "source": [
    "### Testing Dataset"
   ],
   "metadata": {
    "collapsed": false
   },
   "id": "253fb48bdc122624"
  },
  {
   "cell_type": "code",
   "execution_count": null,
   "outputs": [],
   "source": [
    "id_test_192,image_test_192 = features_of_images_test(location_folder_test_192)"
   ],
   "metadata": {
    "collapsed": false,
    "is_executing": true
   },
   "id": "efa4607c16654399"
  },
  {
   "cell_type": "code",
   "execution_count": null,
   "outputs": [],
   "source": [
    "id_test_192_mod = np.array(id_test_192)"
   ],
   "metadata": {
    "collapsed": false,
    "is_executing": true
   },
   "id": "d6bfc0b84a09b38"
  },
  {
   "cell_type": "code",
   "execution_count": null,
   "outputs": [],
   "source": [
    "image_test_192_mod = np.array(image_test_192)"
   ],
   "metadata": {
    "collapsed": false,
    "is_executing": true
   },
   "id": "d38b6f0b8b9d27d3"
  },
  {
   "cell_type": "code",
   "execution_count": null,
   "outputs": [],
   "source": [
    "id_test_224,image_test_224 = features_of_images_test(location_folder_test_224)"
   ],
   "metadata": {
    "collapsed": false,
    "is_executing": true
   },
   "id": "e3fd18687173966c"
  },
  {
   "cell_type": "code",
   "execution_count": null,
   "outputs": [],
   "source": [
    "id_test_224_mod = np.array(id_test_224)"
   ],
   "metadata": {
    "collapsed": false,
    "is_executing": true
   },
   "id": "a06d5d3848a46b10"
  },
  {
   "cell_type": "code",
   "execution_count": null,
   "outputs": [],
   "source": [
    "image_test_224_mod = np.array(image_test_224)"
   ],
   "metadata": {
    "collapsed": false,
    "is_executing": true
   },
   "id": "52fbf1eee2c1be11"
  },
  {
   "cell_type": "code",
   "execution_count": null,
   "outputs": [],
   "source": [
    "id_test_331,image_test_331 = features_of_images_test(location_folder_test_331)"
   ],
   "metadata": {
    "collapsed": false,
    "is_executing": true
   },
   "id": "2cb7fe228dd537db"
  },
  {
   "cell_type": "code",
   "execution_count": null,
   "outputs": [],
   "source": [
    "id_test_331_mod = np.array(id_test_331)"
   ],
   "metadata": {
    "collapsed": false,
    "is_executing": true
   },
   "id": "a4c1eb0ecbb2d758"
  },
  {
   "cell_type": "code",
   "execution_count": null,
   "outputs": [],
   "source": [
    "image_test_331_mod = np.array(image_test_331)"
   ],
   "metadata": {
    "collapsed": false,
    "is_executing": true
   },
   "id": "2cd74a3700311455"
  },
  {
   "cell_type": "code",
   "execution_count": null,
   "outputs": [],
   "source": [
    "id_test_512,image_test_512 = features_of_images_test(location_folder_test_512)"
   ],
   "metadata": {
    "collapsed": false,
    "is_executing": true
   },
   "id": "3a3294508d3ce712"
  },
  {
   "cell_type": "code",
   "execution_count": null,
   "outputs": [],
   "source": [
    "id_test_512_mod = np.array(id_test_512)"
   ],
   "metadata": {
    "collapsed": false,
    "is_executing": true
   },
   "id": "13818742f1ebd907"
  },
  {
   "cell_type": "code",
   "execution_count": null,
   "outputs": [],
   "source": [
    "image_test_512_mod = np.array(image_test_512)"
   ],
   "metadata": {
    "collapsed": false,
    "is_executing": true
   },
   "id": "8e4552c44476a3f6"
  },
  {
   "cell_type": "code",
   "execution_count": null,
   "outputs": [],
   "source": [],
   "metadata": {
    "collapsed": false
   },
   "id": "21aecb1ca6ea180f"
  }
 ],
 "metadata": {
  "kernelspec": {
   "display_name": "Python 3",
   "language": "python",
   "name": "python3"
  },
  "language_info": {
   "codemirror_mode": {
    "name": "ipython",
    "version": 2
   },
   "file_extension": ".py",
   "mimetype": "text/x-python",
   "name": "python",
   "nbconvert_exporter": "python",
   "pygments_lexer": "ipython2",
   "version": "2.7.6"
  }
 },
 "nbformat": 4,
 "nbformat_minor": 5
}
