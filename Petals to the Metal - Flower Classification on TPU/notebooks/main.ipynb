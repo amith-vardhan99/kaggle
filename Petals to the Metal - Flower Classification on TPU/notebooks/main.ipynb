{
 "cells": [
  {
   "cell_type": "code",
   "execution_count": 1,
   "id": "initial_id",
   "metadata": {
    "collapsed": true,
    "ExecuteTime": {
     "end_time": "2023-09-25T19:25:39.221714Z",
     "start_time": "2023-09-25T19:25:35.858021Z"
    }
   },
   "outputs": [],
   "source": [
    "import re\n",
    "import numpy as np\n",
    "import pandas as pd\n",
    "import matplotlib.pyplot as plt\n",
    "import seaborn as sns\n",
    "import tensorflow as tf\n",
    "import tensorflow_datasets as tfds\n",
    "import os\n",
    "import nltk\n",
    "import math"
   ]
  },
  {
   "cell_type": "code",
   "execution_count": 2,
   "outputs": [],
   "source": [
    "def conv_to_char(n):\n",
    "    s = np.array(list(n))\n",
    "    st = \"\"\n",
    "    for i in s:\n",
    "        st += chr(i)\n",
    "    return st"
   ],
   "metadata": {
    "collapsed": false,
    "ExecuteTime": {
     "end_time": "2023-09-25T19:25:39.225027Z",
     "start_time": "2023-09-25T19:25:39.222333Z"
    }
   },
   "id": "7ec2448f2c597df0"
  },
  {
   "cell_type": "code",
   "execution_count": 3,
   "outputs": [],
   "source": [
    "training_files_1 = np.array([])\n",
    "validation_files_1 = np.array([])\n",
    "testing_files_1 = np.array([])"
   ],
   "metadata": {
    "collapsed": false,
    "ExecuteTime": {
     "end_time": "2023-09-25T19:25:39.227723Z",
     "start_time": "2023-09-25T19:25:39.224498Z"
    }
   },
   "id": "219c1c0793cd8793"
  },
  {
   "cell_type": "code",
   "execution_count": 4,
   "outputs": [],
   "source": [
    "data_folder_train_192 = \"/Users/amith/Documents/GitHub/kaggle/Petals to the Metal - Flower Classification on TPU/tpu-getting-started/tfrecords-jpeg-192x192/train\"\n",
    "data_folder_train_224 = \"/Users/amith/Documents/GitHub/kaggle/Petals to the Metal - Flower Classification on TPU/tpu-getting-started/tfrecords-jpeg-224x224/train\"\n",
    "data_folder_train_331 = \"/Users/amith/Documents/GitHub/kaggle/Petals to the Metal - Flower Classification on TPU/tpu-getting-started/tfrecords-jpeg-331x331/train\"\n",
    "data_folder_train_512 = \"/Users/amith/Documents/GitHub/kaggle/Petals to the Metal - Flower Classification on TPU/tpu-getting-started/tfrecords-jpeg-512x512/train\""
   ],
   "metadata": {
    "collapsed": false,
    "ExecuteTime": {
     "end_time": "2023-09-25T19:25:39.230610Z",
     "start_time": "2023-09-25T19:25:39.227067Z"
    }
   },
   "id": "2a2eed3360a314cd"
  },
  {
   "cell_type": "code",
   "execution_count": 5,
   "outputs": [],
   "source": [
    "data_folder_val_192 = \"/Users/amith/Documents/GitHub/kaggle/Petals to the Metal - Flower Classification on TPU/tpu-getting-started/tfrecords-jpeg-192x192/val\"\n",
    "data_folder_val_224 = \"/Users/amith/Documents/GitHub/kaggle/Petals to the Metal - Flower Classification on TPU/tpu-getting-started/tfrecords-jpeg-224x224/val\"\n",
    "data_folder_val_331 = \"/Users/amith/Documents/GitHub/kaggle/Petals to the Metal - Flower Classification on TPU/tpu-getting-started/tfrecords-jpeg-331x331/val\"\n",
    "data_folder_val_512 = \"/Users/amith/Documents/GitHub/kaggle/Petals to the Metal - Flower Classification on TPU/tpu-getting-started/tfrecords-jpeg-512x512/val\""
   ],
   "metadata": {
    "collapsed": false,
    "ExecuteTime": {
     "end_time": "2023-09-25T19:25:39.231231Z",
     "start_time": "2023-09-25T19:25:39.229104Z"
    }
   },
   "id": "c1cf0c5ce2a83819"
  },
  {
   "cell_type": "code",
   "execution_count": 6,
   "outputs": [],
   "source": [
    "data_folder_test_192 = \"/Users/amith/Documents/GitHub/kaggle/Petals to the Metal - Flower Classification on TPU/tpu-getting-started/tfrecords-jpeg-192x192/test\"\n",
    "data_folder_test_224 = \"/Users/amith/Documents/GitHub/kaggle/Petals to the Metal - Flower Classification on TPU/tpu-getting-started/tfrecords-jpeg-224x224/test\"\n",
    "data_folder_test_331 = \"/Users/amith/Documents/GitHub/kaggle/Petals to the Metal - Flower Classification on TPU/tpu-getting-started/tfrecords-jpeg-331x331/test\"\n",
    "data_folder_test_512 = \"/Users/amith/Documents/GitHub/kaggle/Petals to the Metal - Flower Classification on TPU/tpu-getting-started/tfrecords-jpeg-512x512/test\""
   ],
   "metadata": {
    "collapsed": false,
    "ExecuteTime": {
     "end_time": "2023-09-25T19:25:39.233732Z",
     "start_time": "2023-09-25T19:25:39.231576Z"
    }
   },
   "id": "697e83b307297b06"
  },
  {
   "cell_type": "code",
   "execution_count": 7,
   "outputs": [],
   "source": [
    "training_files = training_files_1.copy()\n",
    "validation_files = validation_files_1.copy()\n",
    "testing_files = testing_files_1.copy()\n",
    "\n",
    "\n",
    "for i in os.listdir(data_folder_train_192):\n",
    "    training_files = np.append(training_files,data_folder_train_192+\"/\"+i)\n",
    "for i in os.listdir(data_folder_train_224):\n",
    "    training_files = np.append(training_files,data_folder_train_224+\"/\"+i)\n",
    "for i in os.listdir(data_folder_train_331):\n",
    "    training_files = np.append(training_files,data_folder_train_331+\"/\"+i)\n",
    "for i in os.listdir(data_folder_train_512):\n",
    "    training_files = np.append(training_files,data_folder_train_512+\"/\"+i)\n",
    "\n",
    "\n",
    "for i in os.listdir(data_folder_val_192):\n",
    "    validation_files = np.append(validation_files,data_folder_val_192+\"/\"+i)\n",
    "for i in os.listdir(data_folder_val_224):\n",
    "    validation_files = np.append(validation_files,data_folder_val_224+\"/\"+i)\n",
    "for i in os.listdir(data_folder_val_331):\n",
    "    validation_files = np.append(validation_files,data_folder_val_331+\"/\"+i)\n",
    "for i in os.listdir(data_folder_val_512):\n",
    "    validation_files = np.append(validation_files,data_folder_val_512+\"/\"+i)\n",
    "\n",
    "\n",
    "for i in os.listdir(data_folder_test_192):\n",
    "    testing_files = np.append(testing_files,data_folder_test_192+\"/\"+i)\n",
    "for i in os.listdir(data_folder_test_224):\n",
    "    testing_files = np.append(testing_files,data_folder_test_224+\"/\"+i)\n",
    "for i in os.listdir(data_folder_test_331):\n",
    "    testing_files = np.append(testing_files,data_folder_test_331+\"/\"+i)\n",
    "for i in os.listdir(data_folder_test_512):\n",
    "    testing_files = np.append(testing_files,data_folder_test_512+\"/\"+i)  "
   ],
   "metadata": {
    "collapsed": false,
    "ExecuteTime": {
     "end_time": "2023-09-25T19:25:41.353119Z",
     "start_time": "2023-09-25T19:25:41.340594Z"
    }
   },
   "id": "6b612b20af1ce952"
  },
  {
   "cell_type": "code",
   "execution_count": 8,
   "outputs": [
    {
     "name": "stdout",
     "output_type": "stream",
     "text": [
      "Number of training files    :  64\n",
      "Number of validation files  :  64\n",
      "Number of testing files     :  64\n"
     ]
    }
   ],
   "source": [
    "print(\"Number of training files    : \",len(training_files))\n",
    "print(\"Number of validation files  : \",len(validation_files))\n",
    "print(\"Number of testing files     : \",len(testing_files))"
   ],
   "metadata": {
    "collapsed": false,
    "ExecuteTime": {
     "end_time": "2023-09-25T19:25:45.149345Z",
     "start_time": "2023-09-25T19:25:45.144210Z"
    }
   },
   "id": "4c056ce9bab9c00b"
  },
  {
   "cell_type": "code",
   "execution_count": 39,
   "outputs": [],
   "source": [
    "def features_of_images(files,mode):\n",
    "    \n",
    "    image_description = {\n",
    "        \"id\": tf.io.FixedLenFeature([],tf.string),\n",
    "        \"class\": tf.io.FixedLenFeature([],tf.int64),\n",
    "        \"image\": tf.io.FixedLenFeature([],tf.string)\n",
    "    }\n",
    "\n",
    "    y = lambda x: tf.io.parse_single_example(x,image_description)\n",
    "    \n",
    "    id = np.array([])\n",
    "    label = np.array([])\n",
    "    image = np.array([])\n",
    "    \n",
    "    ctr = 1\n",
    "\n",
    "    for i in files:\n",
    "        img = tf.data.TFRecordDataset(i)\n",
    "        images = img.map(y)\n",
    "\n",
    "        begin_1 = i.rindex(\"-\") + 1\n",
    "        end_1 = i.rindex(\".tfrec\")\n",
    "        no_of_images = int(i[begin_1:end_1])\n",
    "\n",
    "        begin_2 = i.rindex(\"x\") + 1\n",
    "        end_2 = i.rindex(\"-\")\n",
    "        size_of_image = int(i[begin_2:end_2])\n",
    "\n",
    "        for j in images.take(no_of_images):\n",
    "            id = np.append(id,j[\"class\"].numpy())\n",
    "            if mode.lower() != \"test\" :\n",
    "                label = np.append(label,conv_to_char(j[\"id\"].numpy()))\n",
    "            image = np.append(image,tf.io.decode_image(j[\"image\"].numpy()))\n",
    "            print(ctr)\n",
    "            ctr += 1\n",
    "    \n",
    "    if mode.lower() == \"test\":\n",
    "        return id,image\n",
    "    else:\n",
    "        return id,label,image"
   ],
   "metadata": {
    "collapsed": false,
    "ExecuteTime": {
     "end_time": "2023-09-25T19:43:34.959319Z",
     "start_time": "2023-09-25T19:43:34.952909Z"
    }
   },
   "id": "69278e900b736dad"
  },
  {
   "cell_type": "code",
   "execution_count": null,
   "outputs": [],
   "source": [
    "image_train = features_of_images(training_files,\"train\")"
   ],
   "metadata": {
    "collapsed": false
   },
   "id": "fbfba93baa6702b0"
  }
 ],
 "metadata": {
  "kernelspec": {
   "display_name": "Python 3",
   "language": "python",
   "name": "python3"
  },
  "language_info": {
   "codemirror_mode": {
    "name": "ipython",
    "version": 2
   },
   "file_extension": ".py",
   "mimetype": "text/x-python",
   "name": "python",
   "nbconvert_exporter": "python",
   "pygments_lexer": "ipython2",
   "version": "2.7.6"
  }
 },
 "nbformat": 4,
 "nbformat_minor": 5
}
