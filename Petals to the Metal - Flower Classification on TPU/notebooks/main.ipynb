{
 "cells": [
  {
   "cell_type": "code",
   "execution_count": 2,
   "id": "initial_id",
   "metadata": {
    "collapsed": true,
    "ExecuteTime": {
     "end_time": "2023-09-25T22:16:04.199975Z",
     "start_time": "2023-09-25T22:16:00.718036Z"
    }
   },
   "outputs": [],
   "source": [
    "import re\n",
    "import numpy as np\n",
    "import pandas as pd\n",
    "import matplotlib.pyplot as plt\n",
    "import seaborn as sns\n",
    "import tensorflow as tf\n",
    "import tensorflow_datasets as tfds\n",
    "import os\n",
    "import nltk\n",
    "import math"
   ]
  },
  {
   "cell_type": "code",
   "execution_count": 3,
   "outputs": [],
   "source": [
    "def conv_to_char(n):\n",
    "    s = np.array(list(n))\n",
    "    st = \"\"\n",
    "    for i in s:\n",
    "        st += chr(i)\n",
    "    return st"
   ],
   "metadata": {
    "collapsed": false,
    "ExecuteTime": {
     "end_time": "2023-09-25T22:16:04.200579Z",
     "start_time": "2023-09-25T22:16:04.200144Z"
    }
   },
   "id": "7ec2448f2c597df0"
  },
  {
   "cell_type": "code",
   "execution_count": 4,
   "outputs": [],
   "source": [
    "location_train_192 = \"/Users/amith/Documents/GitHub/kaggle/Petals to the Metal - Flower Classification on TPU/tpu-getting-started/tfrecords-jpeg-192x192/train\"\n",
    "\n",
    "location_val_192 = \"/Users/amith/Documents/GitHub/kaggle/Petals to the Metal - Flower Classification on TPU/tpu-getting-started/tfrecords-jpeg-192x192/val\"\n",
    "\n",
    "location_test_192 = \"/Users/amith/Documents/GitHub/kaggle/Petals to the Metal - Flower Classification on TPU/tpu-getting-started/tfrecords-jpeg-192x192/test\""
   ],
   "metadata": {
    "collapsed": false,
    "ExecuteTime": {
     "end_time": "2023-09-25T22:16:05.564401Z",
     "start_time": "2023-09-25T22:16:05.559124Z"
    }
   },
   "id": "92ee5340dba0efdc"
  },
  {
   "cell_type": "code",
   "execution_count": 5,
   "outputs": [],
   "source": [
    "location_train_224 = \"/Users/amith/Documents/GitHub/kaggle/Petals to the Metal - Flower Classification on TPU/tpu-getting-started/tfrecords-jpeg-224x224/train\"\n",
    "\n",
    "location_val_224 = \"/Users/amith/Documents/GitHub/kaggle/Petals to the Metal - Flower Classification on TPU/tpu-getting-started/tfrecords-jpeg-224x224/val\"\n",
    "\n",
    "location_test_224 = \"/Users/amith/Documents/GitHub/kaggle/Petals to the Metal - Flower Classification on TPU/tpu-getting-started/tfrecords-jpeg-224x224/test\""
   ],
   "metadata": {
    "collapsed": false,
    "ExecuteTime": {
     "end_time": "2023-09-25T22:16:05.967102Z",
     "start_time": "2023-09-25T22:16:05.964624Z"
    }
   },
   "id": "7ec71fe24b886f8b"
  },
  {
   "cell_type": "code",
   "execution_count": 6,
   "outputs": [],
   "source": [
    "location_train_331 = \"/Users/amith/Documents/GitHub/kaggle/Petals to the Metal - Flower Classification on TPU/tpu-getting-started/tfrecords-jpeg-331x331/train\"\n",
    "\n",
    "location_val_331 = \"/Users/amith/Documents/GitHub/kaggle/Petals to the Metal - Flower Classification on TPU/tpu-getting-started/tfrecords-jpeg-331x331/val\"\n",
    "\n",
    "location_test_331 = \"/Users/amith/Documents/GitHub/kaggle/Petals to the Metal - Flower Classification on TPU/tpu-getting-started/tfrecords-jpeg-331x331/test\""
   ],
   "metadata": {
    "collapsed": false,
    "ExecuteTime": {
     "end_time": "2023-09-25T22:16:06.297667Z",
     "start_time": "2023-09-25T22:16:06.291785Z"
    }
   },
   "id": "634b358ea83bbec0"
  },
  {
   "cell_type": "code",
   "execution_count": 7,
   "outputs": [],
   "source": [
    "location_train_512 = \"/Users/amith/Documents/GitHub/kaggle/Petals to the Metal - Flower Classification on TPU/tpu-getting-started/tfrecords-jpeg-512x512/train\"\n",
    "\n",
    "location_val_512 = \"/Users/amith/Documents/GitHub/kaggle/Petals to the Metal - Flower Classification on TPU/tpu-getting-started/tfrecords-jpeg-512x512/val\"\n",
    "\n",
    "location_test_512 = \"/Users/amith/Documents/GitHub/kaggle/Petals to the Metal - Flower Classification on TPU/tpu-getting-started/tfrecords-jpeg-512x512/test\""
   ],
   "metadata": {
    "collapsed": false,
    "ExecuteTime": {
     "end_time": "2023-09-25T22:16:06.928764Z",
     "start_time": "2023-09-25T22:16:06.923261Z"
    }
   },
   "id": "61ce89f9f5a14e75"
  },
  {
   "cell_type": "code",
   "execution_count": 8,
   "outputs": [],
   "source": [
    "def full_file_path(location):\n",
    "    p = np.array([])\n",
    "    lis = os.listdir(location)\n",
    "    for i in lis:\n",
    "        p = np.append(p,location+\"/\"+i)\n",
    "    return p"
   ],
   "metadata": {
    "collapsed": false,
    "ExecuteTime": {
     "end_time": "2023-09-25T22:16:07.317414Z",
     "start_time": "2023-09-25T22:16:07.312523Z"
    }
   },
   "id": "9064542efa000afb"
  },
  {
   "cell_type": "code",
   "execution_count": 9,
   "outputs": [],
   "source": [
    "train_file_192 = full_file_path(location_train_192)\n",
    "val_file_192 = full_file_path(location_val_192)\n",
    "test_file_192 = full_file_path(location_test_192)"
   ],
   "metadata": {
    "collapsed": false,
    "ExecuteTime": {
     "end_time": "2023-09-25T22:16:07.703349Z",
     "start_time": "2023-09-25T22:16:07.697457Z"
    }
   },
   "id": "7e3be086a777a0b"
  },
  {
   "cell_type": "code",
   "execution_count": 10,
   "outputs": [],
   "source": [
    "train_file_224 = full_file_path(location_train_224)\n",
    "val_file_224 = full_file_path(location_val_224)\n",
    "test_file_224 = full_file_path(location_test_224)"
   ],
   "metadata": {
    "collapsed": false,
    "ExecuteTime": {
     "end_time": "2023-09-25T22:16:08.161519Z",
     "start_time": "2023-09-25T22:16:08.147220Z"
    }
   },
   "id": "85bb9eaf4d6db2f7"
  },
  {
   "cell_type": "code",
   "execution_count": 11,
   "outputs": [],
   "source": [
    "train_file_331 = full_file_path(location_train_331)\n",
    "val_file_331 = full_file_path(location_val_331)\n",
    "test_file_331 = full_file_path(location_test_331)"
   ],
   "metadata": {
    "collapsed": false,
    "ExecuteTime": {
     "end_time": "2023-09-25T22:16:08.536888Z",
     "start_time": "2023-09-25T22:16:08.533429Z"
    }
   },
   "id": "5968fff31b78cf2c"
  },
  {
   "cell_type": "code",
   "execution_count": 12,
   "outputs": [],
   "source": [
    "train_file_512 = full_file_path(location_train_512)\n",
    "val_file_512 = full_file_path(location_val_512)\n",
    "test_file_512 = full_file_path(location_test_512)"
   ],
   "metadata": {
    "collapsed": false,
    "ExecuteTime": {
     "end_time": "2023-09-25T22:16:08.863709Z",
     "start_time": "2023-09-25T22:16:08.859432Z"
    }
   },
   "id": "8e58fc20f55c35"
  },
  {
   "cell_type": "code",
   "execution_count": 13,
   "outputs": [
    {
     "name": "stdout",
     "output_type": "stream",
     "text": [
      "['/Users/amith/Documents/GitHub/kaggle/Petals to the Metal - Flower Classification on TPU/tpu-getting-started/tfrecords-jpeg-192x192/train/07-192x192-798.tfrec'\n",
      " '/Users/amith/Documents/GitHub/kaggle/Petals to the Metal - Flower Classification on TPU/tpu-getting-started/tfrecords-jpeg-192x192/train/02-192x192-798.tfrec'\n",
      " '/Users/amith/Documents/GitHub/kaggle/Petals to the Metal - Flower Classification on TPU/tpu-getting-started/tfrecords-jpeg-192x192/train/06-192x192-798.tfrec'\n",
      " '/Users/amith/Documents/GitHub/kaggle/Petals to the Metal - Flower Classification on TPU/tpu-getting-started/tfrecords-jpeg-192x192/train/03-192x192-798.tfrec'\n",
      " '/Users/amith/Documents/GitHub/kaggle/Petals to the Metal - Flower Classification on TPU/tpu-getting-started/tfrecords-jpeg-192x192/train/05-192x192-798.tfrec'\n",
      " '/Users/amith/Documents/GitHub/kaggle/Petals to the Metal - Flower Classification on TPU/tpu-getting-started/tfrecords-jpeg-192x192/train/00-192x192-798.tfrec'\n",
      " '/Users/amith/Documents/GitHub/kaggle/Petals to the Metal - Flower Classification on TPU/tpu-getting-started/tfrecords-jpeg-192x192/train/04-192x192-798.tfrec'\n",
      " '/Users/amith/Documents/GitHub/kaggle/Petals to the Metal - Flower Classification on TPU/tpu-getting-started/tfrecords-jpeg-192x192/train/01-192x192-798.tfrec'\n",
      " '/Users/amith/Documents/GitHub/kaggle/Petals to the Metal - Flower Classification on TPU/tpu-getting-started/tfrecords-jpeg-192x192/train/14-192x192-798.tfrec'\n",
      " '/Users/amith/Documents/GitHub/kaggle/Petals to the Metal - Flower Classification on TPU/tpu-getting-started/tfrecords-jpeg-192x192/train/08-192x192-798.tfrec'\n",
      " '/Users/amith/Documents/GitHub/kaggle/Petals to the Metal - Flower Classification on TPU/tpu-getting-started/tfrecords-jpeg-192x192/train/11-192x192-798.tfrec'\n",
      " '/Users/amith/Documents/GitHub/kaggle/Petals to the Metal - Flower Classification on TPU/tpu-getting-started/tfrecords-jpeg-192x192/train/09-192x192-798.tfrec'\n",
      " '/Users/amith/Documents/GitHub/kaggle/Petals to the Metal - Flower Classification on TPU/tpu-getting-started/tfrecords-jpeg-192x192/train/15-192x192-783.tfrec'\n",
      " '/Users/amith/Documents/GitHub/kaggle/Petals to the Metal - Flower Classification on TPU/tpu-getting-started/tfrecords-jpeg-192x192/train/10-192x192-798.tfrec'\n",
      " '/Users/amith/Documents/GitHub/kaggle/Petals to the Metal - Flower Classification on TPU/tpu-getting-started/tfrecords-jpeg-192x192/train/13-192x192-798.tfrec'\n",
      " '/Users/amith/Documents/GitHub/kaggle/Petals to the Metal - Flower Classification on TPU/tpu-getting-started/tfrecords-jpeg-192x192/train/12-192x192-798.tfrec']\n"
     ]
    }
   ],
   "source": [
    "print(train_file_192)"
   ],
   "metadata": {
    "collapsed": false,
    "ExecuteTime": {
     "end_time": "2023-09-25T22:16:09.237431Z",
     "start_time": "2023-09-25T22:16:09.234664Z"
    }
   },
   "id": "837c01c6837aa9cd"
  },
  {
   "cell_type": "code",
   "execution_count": 14,
   "outputs": [],
   "source": [
    "image_description = {\n",
    "    \"id\" : tf.io.FixedLenFeature([],dtype=tf.string),\n",
    "    \"class\" : tf.io.FixedLenFeature([],dtype=tf.int64),\n",
    "    \"image\" : tf.io.FixedLenFeature([],dtype=tf.string)\n",
    "}"
   ],
   "metadata": {
    "collapsed": false,
    "ExecuteTime": {
     "end_time": "2023-09-25T22:16:09.812595Z",
     "start_time": "2023-09-25T22:16:09.807394Z"
    }
   },
   "id": "407c1e69556b84ab"
  },
  {
   "cell_type": "code",
   "execution_count": 15,
   "outputs": [],
   "source": [
    "y = lambda x : tf.io.parse_single_example(x,image_description)"
   ],
   "metadata": {
    "collapsed": false,
    "ExecuteTime": {
     "end_time": "2023-09-25T22:16:10.598123Z",
     "start_time": "2023-09-25T22:16:10.589814Z"
    }
   },
   "id": "36cf44e0b4994"
  },
  {
   "cell_type": "code",
   "execution_count": 16,
   "outputs": [],
   "source": [
    "i = train_file_192[0]\n",
    "img = tf.data.TFRecordDataset(i)"
   ],
   "metadata": {
    "collapsed": false,
    "ExecuteTime": {
     "end_time": "2023-09-25T22:16:11.062588Z",
     "start_time": "2023-09-25T22:16:11.048147Z"
    }
   },
   "id": "371122a5b36a2c5a"
  },
  {
   "cell_type": "code",
   "execution_count": 17,
   "outputs": [],
   "source": [
    "img_train_192 = img.map(y)"
   ],
   "metadata": {
    "collapsed": false,
    "ExecuteTime": {
     "end_time": "2023-09-25T22:16:11.508893Z",
     "start_time": "2023-09-25T22:16:11.392429Z"
    }
   },
   "id": "774393a69a7fccf0"
  },
  {
   "cell_type": "code",
   "execution_count": 18,
   "outputs": [
    {
     "data": {
      "text/plain": "'/Users/amith/Documents/GitHub/kaggle/Petals to the Metal - Flower Classification on TPU/tpu-getting-started/tfrecords-jpeg-192x192/train/07-192x192-798.tfrec'"
     },
     "execution_count": 18,
     "metadata": {},
     "output_type": "execute_result"
    }
   ],
   "source": [
    "i"
   ],
   "metadata": {
    "collapsed": false,
    "ExecuteTime": {
     "end_time": "2023-09-25T22:16:12.029376Z",
     "start_time": "2023-09-25T22:16:12.025256Z"
    }
   },
   "id": "2259514f655d9ca7"
  },
  {
   "cell_type": "code",
   "execution_count": 19,
   "outputs": [],
   "source": [
    "begin = i.rindex(\"-\") + 1\n",
    "end = i.rindex(\".tfrec\")\n",
    "no_of_images = int(i[begin:end])"
   ],
   "metadata": {
    "collapsed": false,
    "ExecuteTime": {
     "end_time": "2023-09-25T22:16:12.551959Z",
     "start_time": "2023-09-25T22:16:12.547495Z"
    }
   },
   "id": "8a97d84443ac780a"
  },
  {
   "cell_type": "code",
   "execution_count": 24,
   "outputs": [],
   "source": [
    "id_1 = np.array([])\n",
    "label_1 = np.array([])\n",
    "image_1 = np.array([])"
   ],
   "metadata": {
    "collapsed": false,
    "ExecuteTime": {
     "end_time": "2023-09-25T22:17:05.350928Z",
     "start_time": "2023-09-25T22:17:05.349814Z"
    }
   },
   "id": "49e50489de03f9f6"
  },
  {
   "cell_type": "code",
   "execution_count": null,
   "outputs": [],
   "source": [
    "id = id_1.copy()\n",
    "label = label_1.copy()\n",
    "image = image_1.copy()\n",
    "\n",
    "ctr = 1\n",
    "\n",
    "for i in train_file_192:\n",
    "\n",
    "    begin = i.rindex(\"-\") + 1\n",
    "    end = i.rindex(\".tfrec\")\n",
    "    no_of_images = int(i[begin:end])\n",
    "\n",
    "    img_tfrec = tf.data.TFRecordDataset(i)\n",
    "    img = img_tfrec.map(y)\n",
    "\n",
    "    for j in img.take(no_of_images):\n",
    "        id = np.append(id,conv_to_char(j[\"id\"].numpy()))\n",
    "        label = np.append(label,j[\"class\"].numpy())\n",
    "        image = np.append(image,tf.io.decode_image(j[\"image\"].numpy(),dtype=\"float64\"))\n",
    "        print(ctr)\n",
    "        ctr += 1"
   ],
   "metadata": {
    "collapsed": false
   },
   "id": "4c9e66ad4c2c782c"
  }
 ],
 "metadata": {
  "kernelspec": {
   "display_name": "Python 3",
   "language": "python",
   "name": "python3"
  },
  "language_info": {
   "codemirror_mode": {
    "name": "ipython",
    "version": 2
   },
   "file_extension": ".py",
   "mimetype": "text/x-python",
   "name": "python",
   "nbconvert_exporter": "python",
   "pygments_lexer": "ipython2",
   "version": "2.7.6"
  }
 },
 "nbformat": 4,
 "nbformat_minor": 5
}
