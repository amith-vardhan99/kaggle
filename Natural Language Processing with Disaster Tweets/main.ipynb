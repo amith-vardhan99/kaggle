{
 "cells": [
  {
   "cell_type": "markdown",
   "source": [
    "# Natural Language Processing with Disaster Tweets"
   ],
   "metadata": {
    "collapsed": false
   },
   "id": "105228f8d8c382d7"
  },
  {
   "cell_type": "markdown",
   "source": [
    "## Overview"
   ],
   "metadata": {
    "collapsed": false
   },
   "id": "d50c83d028455497"
  },
  {
   "cell_type": "markdown",
   "source": [
    "### Description\n",
    "\n",
    "Welcome to one of our \"Getting Started\" competitions 👋\n",
    "This particular challenge is perfect for data scientists looking to get started with Natural Language Processing. The competition dataset is not too big, and even if you don’t have much personal computing power, you can do all of the work in our free, no-setup, Jupyter Notebooks environment called Kaggle Notebooks.\n",
    "\n",
    "If you want to talk with other users about this competition, come join our Discord! We've got channels for competitions, job postings and career discussions, resources, and socializing with your fellow data scientists. Follow the link here: https://discord.gg/kaggle"
   ],
   "metadata": {
    "collapsed": false
   },
   "id": "ef1040b95e4f379"
  },
  {
   "cell_type": "markdown",
   "source": [
    "### Competition Description\n",
    "\n",
    "Twitter has become an important communication channel in times of emergency.\n",
    "The ubiquitousness of smartphones enables people to announce an emergency they’re observing in real-time. Because of this, more agencies are interested in programatically monitoring Twitter (i.e. disaster relief organizations and news agencies).\n",
    "\n",
    "But, it’s not always clear whether a person’s words are actually announcing a disaster. Take this example:"
   ],
   "metadata": {
    "collapsed": false
   },
   "id": "8f6077cf48296835"
  },
  {
   "cell_type": "markdown",
   "source": [],
   "metadata": {
    "collapsed": false
   },
   "id": "74b839c45a8717f4"
  }
 ],
 "metadata": {
  "kernelspec": {
   "display_name": "Python 3",
   "language": "python",
   "name": "python3"
  },
  "language_info": {
   "codemirror_mode": {
    "name": "ipython",
    "version": 2
   },
   "file_extension": ".py",
   "mimetype": "text/x-python",
   "name": "python",
   "nbconvert_exporter": "python",
   "pygments_lexer": "ipython2",
   "version": "2.7.6"
  }
 },
 "nbformat": 4,
 "nbformat_minor": 5
}
