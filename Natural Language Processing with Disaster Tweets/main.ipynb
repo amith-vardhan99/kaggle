{
 "cells": [
  {
   "cell_type": "markdown",
   "source": [
    "# Natural Language Processing with Disaster Tweets"
   ],
   "metadata": {
    "collapsed": false
   },
   "id": "105228f8d8c382d7"
  },
  {
   "cell_type": "markdown",
   "source": [
    "## Overview"
   ],
   "metadata": {
    "collapsed": false
   },
   "id": "d50c83d028455497"
  },
  {
   "cell_type": "markdown",
   "source": [
    "### Description\n",
    "\n",
    "Welcome to one of our \"Getting Started\" competitions 👋\n",
    "This particular challenge is perfect for data scientists looking to get started with Natural Language Processing. The competition dataset is not too big, and even if you don’t have much personal computing power, you can do all of the work in our free, no-setup, Jupyter Notebooks environment called Kaggle Notebooks.\n",
    "\n",
    "If you want to talk with other users about this competition, come join our Discord! We've got channels for competitions, job postings and career discussions, resources, and socializing with your fellow data scientists. Follow the link here: https://discord.gg/kaggle"
   ],
   "metadata": {
    "collapsed": false
   },
   "id": "ef1040b95e4f379"
  },
  {
   "cell_type": "markdown",
   "source": [
    "### Competition Description\n",
    "\n",
    "Twitter has become an important communication channel in times of emergency.\n",
    "The ubiquitousness of smartphones enables people to announce an emergency they’re observing in real-time. Because of this, more agencies are interested in programatically monitoring Twitter (i.e. disaster relief organizations and news agencies).\n",
    "\n",
    "But, it’s not always clear whether a person’s words are actually announcing a disaster. Take this example:"
   ],
   "metadata": {
    "collapsed": false
   },
   "id": "8f6077cf48296835"
  },
  {
   "cell_type": "markdown",
   "source": [
    "![alt-text](/Users/amith/Downloads/tweet_screenshot.png \"optional-title\")"
   ],
   "metadata": {
    "collapsed": false
   },
   "id": "74b839c45a8717f4"
  },
  {
   "cell_type": "markdown",
   "source": [
    "The author explicitly uses the word “ABLAZE” but means it metaphorically. This is clear to a human right away, especially with the visual aid. But it’s less clear to a machine.\n",
    "\n",
    "In this competition, you’re challenged to build a machine learning model that predicts which Tweets are about real disasters and which one’s aren’t. You’ll have access to a dataset of 10,000 tweets that were hand classified. If this is your first time working on an NLP problem, we've created a quick tutorial to get you up and running.\n",
    "\n",
    "Disclaimer: The dataset for this competition contains text that may be considered profane, vulgar, or offensive."
   ],
   "metadata": {
    "collapsed": false
   },
   "id": "45622a77f71b9354"
  },
  {
   "cell_type": "markdown",
   "source": [
    "### Acknowledgments\n",
    "This dataset was created by the company figure-eight and originally shared on their ‘Data For Everyone’ website here.\n",
    "\n",
    "Tweet source: https://twitter.com/AnyOtherAnnaK/status/629195955506708480"
   ],
   "metadata": {
    "collapsed": false
   },
   "id": "6421174714aefb61"
  },
  {
   "cell_type": "markdown",
   "source": [
    "## Dataset Description\n",
    "\n",
    "What files do I need?\n",
    "You'll need train.csv, test.csv and sample_submission.csv.\n",
    "\n",
    "What should I expect the data format to be?\n",
    "Each sample in the train and test set has the following information:\n",
    "\n",
    "The text of a tweet\n",
    "A keyword from that tweet (although this may be blank!)\n",
    "The location the tweet was sent from (may also be blank)\n",
    "What am I predicting?\n",
    "You are predicting whether a given tweet is about a real disaster or not. If so, predict a 1. If not, predict a 0."
   ],
   "metadata": {
    "collapsed": false
   },
   "id": "7d7b2c91f9e82589"
  },
  {
   "cell_type": "markdown",
   "source": [
    "### Files\n",
    "\n",
    "**train.csv** - the training set\n",
    "**test.csv** - the test set\n",
    "**sample_submission.csv** - a sample submission file in the correct format"
   ],
   "metadata": {
    "collapsed": false
   },
   "id": "786c28f1acb24f94"
  },
  {
   "cell_type": "markdown",
   "source": [
    "### Columns\n",
    "**id** - a unique identifier for each tweet\n",
    "**text** - the text of the tweet\n",
    "**location** - the location the tweet was sent from (may be blank)\n",
    "**keyword** - a particular keyword from the tweet (may be blank)\n",
    "**target** - in train.csv only, this denotes whether a tweet is about a real disaster (1) or not (0)"
   ],
   "metadata": {
    "collapsed": false
   },
   "id": "ab6a758122a25120"
  },
  {
   "cell_type": "code",
   "execution_count": 240,
   "outputs": [],
   "source": [
    "import numpy as np\n",
    "import pandas as pd\n",
    "import matplotlib.pyplot as plt\n",
    "import seaborn as sns\n",
    "import tensorflow as tf\n",
    "import nltk\n",
    "import warnings\n",
    "warnings.filterwarnings(\"ignore\")"
   ],
   "metadata": {
    "collapsed": false,
    "ExecuteTime": {
     "end_time": "2023-10-01T20:43:34.198521Z",
     "start_time": "2023-10-01T20:43:34.195867Z"
    }
   },
   "id": "2c35a7f1b15210d4"
  },
  {
   "cell_type": "code",
   "execution_count": 241,
   "outputs": [],
   "source": [
    "df_train = pd.read_csv(\"nlp-getting-started/train.csv\")"
   ],
   "metadata": {
    "collapsed": false,
    "ExecuteTime": {
     "end_time": "2023-10-01T20:43:34.645986Z",
     "start_time": "2023-10-01T20:43:34.622506Z"
    }
   },
   "id": "986722060fb36f2e"
  },
  {
   "cell_type": "code",
   "execution_count": 242,
   "outputs": [
    {
     "data": {
      "text/plain": "         id keyword location  \\\n0         1     NaN      NaN   \n1         4     NaN      NaN   \n2         5     NaN      NaN   \n3         6     NaN      NaN   \n4         7     NaN      NaN   \n...     ...     ...      ...   \n7608  10869     NaN      NaN   \n7609  10870     NaN      NaN   \n7610  10871     NaN      NaN   \n7611  10872     NaN      NaN   \n7612  10873     NaN      NaN   \n\n                                                   text  target  \n0     Our Deeds are the Reason of this #earthquake M...       1  \n1                Forest fire near La Ronge Sask. Canada       1  \n2     All residents asked to 'shelter in place' are ...       1  \n3     13,000 people receive #wildfires evacuation or...       1  \n4     Just got sent this photo from Ruby #Alaska as ...       1  \n...                                                 ...     ...  \n7608  Two giant cranes holding a bridge collapse int...       1  \n7609  @aria_ahrary @TheTawniest The out of control w...       1  \n7610  M1.94 [01:04 UTC]?5km S of Volcano Hawaii. htt...       1  \n7611  Police investigating after an e-bike collided ...       1  \n7612  The Latest: More Homes Razed by Northern Calif...       1  \n\n[7613 rows x 5 columns]",
      "text/html": "<div>\n<style scoped>\n    .dataframe tbody tr th:only-of-type {\n        vertical-align: middle;\n    }\n\n    .dataframe tbody tr th {\n        vertical-align: top;\n    }\n\n    .dataframe thead th {\n        text-align: right;\n    }\n</style>\n<table border=\"1\" class=\"dataframe\">\n  <thead>\n    <tr style=\"text-align: right;\">\n      <th></th>\n      <th>id</th>\n      <th>keyword</th>\n      <th>location</th>\n      <th>text</th>\n      <th>target</th>\n    </tr>\n  </thead>\n  <tbody>\n    <tr>\n      <th>0</th>\n      <td>1</td>\n      <td>NaN</td>\n      <td>NaN</td>\n      <td>Our Deeds are the Reason of this #earthquake M...</td>\n      <td>1</td>\n    </tr>\n    <tr>\n      <th>1</th>\n      <td>4</td>\n      <td>NaN</td>\n      <td>NaN</td>\n      <td>Forest fire near La Ronge Sask. Canada</td>\n      <td>1</td>\n    </tr>\n    <tr>\n      <th>2</th>\n      <td>5</td>\n      <td>NaN</td>\n      <td>NaN</td>\n      <td>All residents asked to 'shelter in place' are ...</td>\n      <td>1</td>\n    </tr>\n    <tr>\n      <th>3</th>\n      <td>6</td>\n      <td>NaN</td>\n      <td>NaN</td>\n      <td>13,000 people receive #wildfires evacuation or...</td>\n      <td>1</td>\n    </tr>\n    <tr>\n      <th>4</th>\n      <td>7</td>\n      <td>NaN</td>\n      <td>NaN</td>\n      <td>Just got sent this photo from Ruby #Alaska as ...</td>\n      <td>1</td>\n    </tr>\n    <tr>\n      <th>...</th>\n      <td>...</td>\n      <td>...</td>\n      <td>...</td>\n      <td>...</td>\n      <td>...</td>\n    </tr>\n    <tr>\n      <th>7608</th>\n      <td>10869</td>\n      <td>NaN</td>\n      <td>NaN</td>\n      <td>Two giant cranes holding a bridge collapse int...</td>\n      <td>1</td>\n    </tr>\n    <tr>\n      <th>7609</th>\n      <td>10870</td>\n      <td>NaN</td>\n      <td>NaN</td>\n      <td>@aria_ahrary @TheTawniest The out of control w...</td>\n      <td>1</td>\n    </tr>\n    <tr>\n      <th>7610</th>\n      <td>10871</td>\n      <td>NaN</td>\n      <td>NaN</td>\n      <td>M1.94 [01:04 UTC]?5km S of Volcano Hawaii. htt...</td>\n      <td>1</td>\n    </tr>\n    <tr>\n      <th>7611</th>\n      <td>10872</td>\n      <td>NaN</td>\n      <td>NaN</td>\n      <td>Police investigating after an e-bike collided ...</td>\n      <td>1</td>\n    </tr>\n    <tr>\n      <th>7612</th>\n      <td>10873</td>\n      <td>NaN</td>\n      <td>NaN</td>\n      <td>The Latest: More Homes Razed by Northern Calif...</td>\n      <td>1</td>\n    </tr>\n  </tbody>\n</table>\n<p>7613 rows × 5 columns</p>\n</div>"
     },
     "execution_count": 242,
     "metadata": {},
     "output_type": "execute_result"
    }
   ],
   "source": [
    "df_train"
   ],
   "metadata": {
    "collapsed": false,
    "ExecuteTime": {
     "end_time": "2023-10-01T20:43:34.987328Z",
     "start_time": "2023-10-01T20:43:34.984340Z"
    }
   },
   "id": "a74642e6b10bfee3"
  },
  {
   "cell_type": "code",
   "execution_count": 243,
   "outputs": [
    {
     "data": {
      "text/plain": "id             0\nkeyword       61\nlocation    2533\ntext           0\ntarget         0\ndtype: int64"
     },
     "execution_count": 243,
     "metadata": {},
     "output_type": "execute_result"
    }
   ],
   "source": [
    "df_train.isna().sum()"
   ],
   "metadata": {
    "collapsed": false,
    "ExecuteTime": {
     "end_time": "2023-10-01T20:43:35.448940Z",
     "start_time": "2023-10-01T20:43:35.444447Z"
    }
   },
   "id": "87257e0ee3dfe9d3"
  },
  {
   "cell_type": "code",
   "execution_count": 244,
   "outputs": [
    {
     "data": {
      "text/plain": "         id  keyword                       location  \\\n0        48   ablaze                     Birmingham   \n1        49   ablaze  Est. September 2012 - Bristol   \n2        50   ablaze                         AFRICA   \n3        52   ablaze               Philadelphia, PA   \n4        53   ablaze                     London, UK   \n...     ...      ...                            ...   \n7547  10830  wrecked                            NaN   \n7548  10831  wrecked              Vancouver, Canada   \n7549  10832  wrecked                        London    \n7550  10833  wrecked                        Lincoln   \n7551  10834  wrecked                            NaN   \n\n                                                   text  target  \n0     @bbcmtd Wholesale Markets ablaze http://t.co/l...       1  \n1     We always try to bring the heavy. #metal #RT h...       0  \n2     #AFRICANBAZE: Breaking news:Nigeria flag set a...       1  \n3                    Crying out for more! Set me ablaze       0  \n4     On plus side LOOK AT THE SKY LAST NIGHT IT WAS...       0  \n...                                                 ...     ...  \n7547   @jt_ruff23 @cameronhacker and I wrecked you both       0  \n7548  Three days off from work and they've pretty mu...       0  \n7549  #FX #forex #trading Cramer: Iger's 3 words tha...       0  \n7550  @engineshed Great atmosphere at the British Li...       0  \n7551  Cramer: Iger's 3 words that wrecked Disney's s...       0  \n\n[7552 rows x 5 columns]",
      "text/html": "<div>\n<style scoped>\n    .dataframe tbody tr th:only-of-type {\n        vertical-align: middle;\n    }\n\n    .dataframe tbody tr th {\n        vertical-align: top;\n    }\n\n    .dataframe thead th {\n        text-align: right;\n    }\n</style>\n<table border=\"1\" class=\"dataframe\">\n  <thead>\n    <tr style=\"text-align: right;\">\n      <th></th>\n      <th>id</th>\n      <th>keyword</th>\n      <th>location</th>\n      <th>text</th>\n      <th>target</th>\n    </tr>\n  </thead>\n  <tbody>\n    <tr>\n      <th>0</th>\n      <td>48</td>\n      <td>ablaze</td>\n      <td>Birmingham</td>\n      <td>@bbcmtd Wholesale Markets ablaze http://t.co/l...</td>\n      <td>1</td>\n    </tr>\n    <tr>\n      <th>1</th>\n      <td>49</td>\n      <td>ablaze</td>\n      <td>Est. September 2012 - Bristol</td>\n      <td>We always try to bring the heavy. #metal #RT h...</td>\n      <td>0</td>\n    </tr>\n    <tr>\n      <th>2</th>\n      <td>50</td>\n      <td>ablaze</td>\n      <td>AFRICA</td>\n      <td>#AFRICANBAZE: Breaking news:Nigeria flag set a...</td>\n      <td>1</td>\n    </tr>\n    <tr>\n      <th>3</th>\n      <td>52</td>\n      <td>ablaze</td>\n      <td>Philadelphia, PA</td>\n      <td>Crying out for more! Set me ablaze</td>\n      <td>0</td>\n    </tr>\n    <tr>\n      <th>4</th>\n      <td>53</td>\n      <td>ablaze</td>\n      <td>London, UK</td>\n      <td>On plus side LOOK AT THE SKY LAST NIGHT IT WAS...</td>\n      <td>0</td>\n    </tr>\n    <tr>\n      <th>...</th>\n      <td>...</td>\n      <td>...</td>\n      <td>...</td>\n      <td>...</td>\n      <td>...</td>\n    </tr>\n    <tr>\n      <th>7547</th>\n      <td>10830</td>\n      <td>wrecked</td>\n      <td>NaN</td>\n      <td>@jt_ruff23 @cameronhacker and I wrecked you both</td>\n      <td>0</td>\n    </tr>\n    <tr>\n      <th>7548</th>\n      <td>10831</td>\n      <td>wrecked</td>\n      <td>Vancouver, Canada</td>\n      <td>Three days off from work and they've pretty mu...</td>\n      <td>0</td>\n    </tr>\n    <tr>\n      <th>7549</th>\n      <td>10832</td>\n      <td>wrecked</td>\n      <td>London</td>\n      <td>#FX #forex #trading Cramer: Iger's 3 words tha...</td>\n      <td>0</td>\n    </tr>\n    <tr>\n      <th>7550</th>\n      <td>10833</td>\n      <td>wrecked</td>\n      <td>Lincoln</td>\n      <td>@engineshed Great atmosphere at the British Li...</td>\n      <td>0</td>\n    </tr>\n    <tr>\n      <th>7551</th>\n      <td>10834</td>\n      <td>wrecked</td>\n      <td>NaN</td>\n      <td>Cramer: Iger's 3 words that wrecked Disney's s...</td>\n      <td>0</td>\n    </tr>\n  </tbody>\n</table>\n<p>7552 rows × 5 columns</p>\n</div>"
     },
     "execution_count": 244,
     "metadata": {},
     "output_type": "execute_result"
    }
   ],
   "source": [
    "df_train_1 = df_train[~(df_train[\"keyword\"].isna() & df_train[\"keyword\"].isna())].reset_index(drop=True)\n",
    "df_train_1"
   ],
   "metadata": {
    "collapsed": false,
    "ExecuteTime": {
     "end_time": "2023-10-01T20:43:35.816412Z",
     "start_time": "2023-10-01T20:43:35.799727Z"
    }
   },
   "id": "250847ec481e6e0a"
  },
  {
   "cell_type": "code",
   "execution_count": 245,
   "outputs": [
    {
     "data": {
      "text/plain": "target\n0    4323\n1    3229\nName: count, dtype: int64"
     },
     "execution_count": 245,
     "metadata": {},
     "output_type": "execute_result"
    }
   ],
   "source": [
    "df_train_1[\"target\"].value_counts()"
   ],
   "metadata": {
    "collapsed": false,
    "ExecuteTime": {
     "end_time": "2023-10-01T20:43:36.170747Z",
     "start_time": "2023-10-01T20:43:36.161375Z"
    }
   },
   "id": "37fe07be44f346a3"
  },
  {
   "cell_type": "code",
   "execution_count": 246,
   "outputs": [
    {
     "data": {
      "text/plain": "target\n0    57.243114\n1    42.756886\nName: count, dtype: float64"
     },
     "execution_count": 246,
     "metadata": {},
     "output_type": "execute_result"
    }
   ],
   "source": [
    "df_train_1[\"target\"].value_counts()*100/len(df_train_1[\"target\"])"
   ],
   "metadata": {
    "collapsed": false,
    "ExecuteTime": {
     "end_time": "2023-10-01T20:43:36.575412Z",
     "start_time": "2023-10-01T20:43:36.571543Z"
    }
   },
   "id": "e397d39b4309e89"
  },
  {
   "cell_type": "code",
   "execution_count": 247,
   "outputs": [
    {
     "data": {
      "text/plain": "array([1094])"
     },
     "execution_count": 247,
     "metadata": {},
     "output_type": "execute_result"
    }
   ],
   "source": [
    "np.abs(np.diff(df_train_1[\"target\"].value_counts()))"
   ],
   "metadata": {
    "collapsed": false,
    "ExecuteTime": {
     "end_time": "2023-10-01T20:43:36.976234Z",
     "start_time": "2023-10-01T20:43:36.973311Z"
    }
   },
   "id": "80eed50d92c16d00"
  },
  {
   "cell_type": "code",
   "execution_count": 248,
   "outputs": [
    {
     "data": {
      "text/plain": "id             0\nkeyword        0\nlocation    2472\ntext           0\ntarget         0\ndtype: int64"
     },
     "execution_count": 248,
     "metadata": {},
     "output_type": "execute_result"
    }
   ],
   "source": [
    "df_train_1.isna().sum()"
   ],
   "metadata": {
    "collapsed": false,
    "ExecuteTime": {
     "end_time": "2023-10-01T20:43:37.429449Z",
     "start_time": "2023-10-01T20:43:37.409206Z"
    }
   },
   "id": "1d3b104a4223ca05"
  },
  {
   "cell_type": "code",
   "execution_count": 250,
   "outputs": [
    {
     "data": {
      "text/plain": "         id  keyword location  \\\n10       61   ablaze      NaN   \n12       63   ablaze      NaN   \n13       64   ablaze      NaN   \n14       65   ablaze      NaN   \n16       67   ablaze      NaN   \n...     ...      ...      ...   \n7534  10814  wrecked      NaN   \n7537  10818  wrecked      NaN   \n7545  10827  wrecked      NaN   \n7547  10830  wrecked      NaN   \n7551  10834  wrecked      NaN   \n\n                                                   text  target  \n10    on the outside you're ablaze and alive\\nbut yo...       0  \n12         SOOOO PUMPED FOR ABLAZE ???? @southridgelife       0  \n13    I wanted to set Chicago ablaze with my preachi...       0  \n14    I gained 3 followers in the last week. You? Kn...       0  \n16    Building the perfect tracklist to life leave t...       0  \n...                                                 ...     ...  \n7534   Wrecked tired but not gonna be asleep before 3??       0  \n7537  The Riddler would be the best early-exit prima...       0  \n7545  He just wrecked all of you http://t.co/y46isyZkC8       0  \n7547   @jt_ruff23 @cameronhacker and I wrecked you both       0  \n7551  Cramer: Iger's 3 words that wrecked Disney's s...       0  \n\n[1439 rows x 5 columns]",
      "text/html": "<div>\n<style scoped>\n    .dataframe tbody tr th:only-of-type {\n        vertical-align: middle;\n    }\n\n    .dataframe tbody tr th {\n        vertical-align: top;\n    }\n\n    .dataframe thead th {\n        text-align: right;\n    }\n</style>\n<table border=\"1\" class=\"dataframe\">\n  <thead>\n    <tr style=\"text-align: right;\">\n      <th></th>\n      <th>id</th>\n      <th>keyword</th>\n      <th>location</th>\n      <th>text</th>\n      <th>target</th>\n    </tr>\n  </thead>\n  <tbody>\n    <tr>\n      <th>10</th>\n      <td>61</td>\n      <td>ablaze</td>\n      <td>NaN</td>\n      <td>on the outside you're ablaze and alive\\nbut yo...</td>\n      <td>0</td>\n    </tr>\n    <tr>\n      <th>12</th>\n      <td>63</td>\n      <td>ablaze</td>\n      <td>NaN</td>\n      <td>SOOOO PUMPED FOR ABLAZE ???? @southridgelife</td>\n      <td>0</td>\n    </tr>\n    <tr>\n      <th>13</th>\n      <td>64</td>\n      <td>ablaze</td>\n      <td>NaN</td>\n      <td>I wanted to set Chicago ablaze with my preachi...</td>\n      <td>0</td>\n    </tr>\n    <tr>\n      <th>14</th>\n      <td>65</td>\n      <td>ablaze</td>\n      <td>NaN</td>\n      <td>I gained 3 followers in the last week. You? Kn...</td>\n      <td>0</td>\n    </tr>\n    <tr>\n      <th>16</th>\n      <td>67</td>\n      <td>ablaze</td>\n      <td>NaN</td>\n      <td>Building the perfect tracklist to life leave t...</td>\n      <td>0</td>\n    </tr>\n    <tr>\n      <th>...</th>\n      <td>...</td>\n      <td>...</td>\n      <td>...</td>\n      <td>...</td>\n      <td>...</td>\n    </tr>\n    <tr>\n      <th>7534</th>\n      <td>10814</td>\n      <td>wrecked</td>\n      <td>NaN</td>\n      <td>Wrecked tired but not gonna be asleep before 3??</td>\n      <td>0</td>\n    </tr>\n    <tr>\n      <th>7537</th>\n      <td>10818</td>\n      <td>wrecked</td>\n      <td>NaN</td>\n      <td>The Riddler would be the best early-exit prima...</td>\n      <td>0</td>\n    </tr>\n    <tr>\n      <th>7545</th>\n      <td>10827</td>\n      <td>wrecked</td>\n      <td>NaN</td>\n      <td>He just wrecked all of you http://t.co/y46isyZkC8</td>\n      <td>0</td>\n    </tr>\n    <tr>\n      <th>7547</th>\n      <td>10830</td>\n      <td>wrecked</td>\n      <td>NaN</td>\n      <td>@jt_ruff23 @cameronhacker and I wrecked you both</td>\n      <td>0</td>\n    </tr>\n    <tr>\n      <th>7551</th>\n      <td>10834</td>\n      <td>wrecked</td>\n      <td>NaN</td>\n      <td>Cramer: Iger's 3 words that wrecked Disney's s...</td>\n      <td>0</td>\n    </tr>\n  </tbody>\n</table>\n<p>1439 rows × 5 columns</p>\n</div>"
     },
     "execution_count": 250,
     "metadata": {},
     "output_type": "execute_result"
    }
   ],
   "source": [
    "df_target_no_location = df_train_1[df_train_1[\"location\"].isna()][df_train_1[\"target\"]==0]\n",
    "df_target_no_location"
   ],
   "metadata": {
    "collapsed": false,
    "ExecuteTime": {
     "end_time": "2023-10-01T20:46:15.091110Z",
     "start_time": "2023-10-01T20:46:15.078569Z"
    }
   },
   "id": "a24b2720b34593a4"
  },
  {
   "cell_type": "code",
   "execution_count": 340,
   "outputs": [
    {
     "data": {
      "text/plain": "array([76.02501737])"
     },
     "execution_count": 340,
     "metadata": {},
     "output_type": "execute_result"
    }
   ],
   "source": [
    "per_to_remove = np.abs(np.diff(df_train_1[\"target\"].value_counts()))*100/len(df_target_no_location)\n",
    "per_to_remove"
   ],
   "metadata": {
    "collapsed": false,
    "ExecuteTime": {
     "end_time": "2023-10-01T21:11:23.979290Z",
     "start_time": "2023-10-01T21:11:23.973853Z"
    }
   },
   "id": "9dc100633a76b0cc"
  },
  {
   "cell_type": "code",
   "execution_count": 341,
   "outputs": [
    {
     "data": {
      "text/plain": "keyword\nbody%20bags              18\ndetonation               18\nblizzard                 17\ntwister                  17\narmy                     17\n                         ..\nbuildings%20on%20fire     1\nnuclear%20disaster        1\nrazed                     1\nradiation%20emergency     1\nsuicide%20bombing         1\nName: count, Length: 211, dtype: int64"
     },
     "execution_count": 341,
     "metadata": {},
     "output_type": "execute_result"
    }
   ],
   "source": [
    "df_target_no_location[\"keyword\"].value_counts()"
   ],
   "metadata": {
    "collapsed": false,
    "ExecuteTime": {
     "end_time": "2023-10-01T21:11:24.998775Z",
     "start_time": "2023-10-01T21:11:24.985585Z"
    }
   },
   "id": "4835cf8bd5dcc71d"
  },
  {
   "cell_type": "code",
   "execution_count": 342,
   "outputs": [
    {
     "data": {
      "text/plain": "<pandas.core.groupby.generic.DataFrameGroupBy object at 0x29309dd90>"
     },
     "execution_count": 342,
     "metadata": {},
     "output_type": "execute_result"
    }
   ],
   "source": [
    "key_group = df_target_no_location.groupby(\"keyword\")\n",
    "key_group"
   ],
   "metadata": {
    "collapsed": false,
    "ExecuteTime": {
     "end_time": "2023-10-01T21:11:25.749352Z",
     "start_time": "2023-10-01T21:11:25.743129Z"
    }
   },
   "id": "d1775d072e035d0"
  },
  {
   "cell_type": "code",
   "execution_count": 343,
   "outputs": [
    {
     "data": {
      "text/plain": "{'ablaze': [10, 12, 13, 14, 16, 29], 'accident': [44, 49, 51, 59], 'aftershock': [79, 81, 85, 91, 92, 99, 100, 101, 104], 'ambulance': [154, 167, 174, 175], 'annihilated': [182, 184, 188, 191, 200, 205, 209], 'annihilation': [213, 214, 215, 219, 230, 231, 236, 237], 'apocalypse': [243, 244, 248, 252, 253, 255, 257, 258, 264, 265, 266, 272], 'armageddon': [276, 277, 279, 281, 287, 296, 301, 306, 310], 'army': [315, 316, 317, 318, 319, 320, 324, 329, 333, 334, 336, 339, 340, 341, 342, 346, 347], 'arson': [349], 'arsonist': [398, 402, 407, 411, 413], 'attack': [433, 446, 448], 'attacked': [466, 476], 'avalanche': [489, 493, 497, 500, 503], 'battle': [518, 522, 523, 527, 533], 'bioterror': [544, 560, 563, 575], 'bioterrorism': [582, 587, 593, 596, 598, 603, 605], 'blaze': [610, 611, 612, 615, 619, 620, 621, 625, 627, 631, 640, 642, 645], 'blazing': [648, 651, 653, 654, 655, 657, 660, 663, 664, 666, 667, 669, 670, 679], 'bleeding': [681, 683, 685, 686, 689, 695, 698, 699, 700, 703, 705, 709, 714], 'blew%20up': [716, 718, 723, 724, 731, 732, 733, 735, 739, 745], 'blight': [752, 760, 764, 768, 779, 780], 'blizzard': [781, 782, 789, 791, 793, 795, 796, 797, 799, 800, 807, 808, 810, 812, 813, 814, 815], 'blood': [818, 819, 821, 822, 824, 827, 828, 829, 830, 834, 836, 838, 841, 842, 849], 'bloody': [854, 860, 862, 871, 874, 879, 880], 'blown%20up': [892, 899, 910, 911, 912, 917, 919], 'body%20bag': [923, 925, 931, 932, 937, 939, 942, 944, 945, 947, 951, 953], 'body%20bagging': [958, 964, 967, 969, 970, 971, 973, 978], 'body%20bags': [990, 997, 1000, 1001, 1002, 1006, 1008, 1009, 1010, 1011, 1013, 1014, 1016, 1019, 1021, 1022, 1025, 1027], 'bomb': [1029, 1047, 1048, 1055, 1056], 'bombed': [1063, 1067, 1074, 1075, 1077, 1078, 1081, 1086, 1087, 1091], 'bombing': [1126], 'bridge%20collapse': [1155, 1162], 'buildings%20burning': [1164, 1169, 1181, 1195], 'buildings%20on%20fire': [1207], 'burned': [1235, 1239, 1247, 1251, 1254, 1255, 1256, 1260, 1262, 1263], 'burning': [1266, 1270, 1274, 1276, 1277, 1280, 1283, 1287, 1291, 1296, 1298], 'burning%20buildings': [1305, 1310, 1311, 1317, 1319, 1324], 'bush%20fires': [1343, 1352, 1355, 1359], 'casualty': [1405, 1414, 1415, 1416, 1417, 1419, 1424, 1425, 1429], 'catastrophe': [1433, 1435, 1437, 1438, 1447, 1448, 1450, 1451, 1457, 1463], 'catastrophic': [1469, 1476, 1492], 'chemical%20emergency': [1496, 1503, 1510, 1523, 1525], 'cliff%20fall': [1530, 1532, 1537, 1541, 1545, 1548, 1553, 1561], 'collapse': [1580, 1588], 'collapsed': [1603, 1613, 1618, 1620, 1629], 'collide': [1634, 1635, 1637, 1640, 1643, 1647, 1664, 1665], 'collided': [1669, 1671, 1687, 1692, 1698, 1700], 'crash': [1747, 1748, 1749, 1752, 1753, 1762, 1765, 1769, 1771, 1772, 1773, 1775, 1778], 'crashed': [1783, 1794, 1805, 1809], 'crush': [1817, 1821, 1824, 1829, 1835, 1836, 1839, 1841, 1843, 1848, 1849, 1850], 'crushed': [1851, 1852, 1855, 1856, 1859, 1862, 1863, 1865, 1876], 'curfew': [1882, 1884, 1885, 1889, 1894, 1895, 1897, 1905, 1914, 1917], 'cyclone': [1924, 1940, 1941, 1942], 'damage': [1952, 1958, 1960, 1962, 1980, 1981, 1983], 'danger': [1992, 2005, 2016, 2017, 2027], 'dead': [2028, 2031, 2032, 2035, 2039, 2044, 2052, 2055], 'death': [2058, 2061, 2067, 2068, 2070, 2071, 2075, 2077, 2078, 2079, 2080, 2090], 'deaths': [2095, 2104, 2119], 'deluge': [2173, 2177, 2187, 2188, 2192, 2194, 2196, 2197, 2198, 2199, 2202, 2207], 'deluged': [2213, 2215, 2217, 2218, 2220, 2225, 2227, 2228, 2230, 2232, 2233], 'demolish': [2243, 2244, 2245, 2246, 2253, 2264], 'demolished': [2284, 2285, 2288, 2291, 2297], 'demolition': [2301, 2305, 2306, 2314, 2316, 2318, 2320, 2321, 2331, 2333], 'derail': [2339, 2341], 'derailed': [2382, 2390, 2398], 'desolate': [2451, 2453, 2458, 2465, 2467, 2470, 2471, 2472, 2475], 'desolation': [2484, 2490, 2502, 2503, 2506], 'destroy': [2520, 2522, 2527, 2529, 2531, 2534, 2535, 2536, 2543, 2547], 'destroyed': [2549, 2552, 2553, 2554, 2555, 2561, 2575], 'destruction': [2583, 2587, 2592, 2594, 2599, 2600, 2603, 2606, 2610, 2611], 'detonate': [2621, 2628, 2632, 2634, 2638, 2641], 'detonation': [2651, 2652, 2653, 2654, 2657, 2659, 2662, 2663, 2665, 2666, 2667, 2669, 2670, 2674, 2675, 2677, 2681, 2682], 'devastated': [2696, 2702, 2704, 2711], 'devastation': [2725], 'disaster': [2753, 2759, 2761, 2771, 2774, 2782], 'displaced': [2807], 'drought': [2835, 2843], 'drown': [2856, 2859, 2862, 2866, 2867, 2868, 2869, 2870, 2872, 2873, 2877, 2881, 2883], 'drowned': [2888, 2889, 2897, 2898, 2911, 2912, 2920, 2922], 'drowning': [2926, 2928, 2935, 2947, 2953, 2954, 2956, 2957], 'dust%20storm': [2971, 2972, 2978], 'earthquake': [3000, 3024, 3025], 'electrocute': [3036, 3037, 3039, 3044, 3046, 3047, 3048, 3051, 3052, 3054, 3055, 3066], 'electrocuted': [3067, 3069, 3070, 3071, 3072, 3073, 3080, 3082, 3091, 3094, 3097, 3098, 3099], 'emergency': [3114, 3119, 3120, 3124, 3126, 3130, 3135], 'emergency%20plan': [3166], 'emergency%20services': [3173, 3180, 3185], 'engulfed': [3209, 3215, 3220, 3221, 3227, 3230, 3232, 3235], 'epicentre': [3243, 3251, 3252], 'evacuate': [3267, 3268, 3269, 3275, 3280, 3286, 3293], 'evacuated': [3321, 3327], 'evacuation': [3332, 3361], 'explode': [3367, 3368, 3371, 3375, 3379, 3383, 3387, 3390, 3395, 3397, 3398, 3399, 3400, 3403], 'exploded': [3409, 3414, 3417, 3418, 3420, 3421, 3427, 3429, 3430, 3433, 3435, 3436], 'explosion': [3452, 3453, 3458, 3460, 3461, 3464, 3468, 3469, 3473, 3474], 'eyewitness': [3476, 3478, 3482, 3489, 3497, 3498, 3500, 3502, 3504], 'famine': [3512, 3513, 3517, 3529, 3535, 3540, 3542, 3545], 'fatal': [3550, 3568, 3574, 3576], 'fatalities': [3588, 3591, 3600, 3604, 3608, 3619], ...}"
     },
     "execution_count": 343,
     "metadata": {},
     "output_type": "execute_result"
    }
   ],
   "source": [
    "keyword_groups = key_group.groups\n",
    "keyword_groups"
   ],
   "metadata": {
    "collapsed": false,
    "ExecuteTime": {
     "end_time": "2023-10-01T21:11:26.283744Z",
     "start_time": "2023-10-01T21:11:26.274994Z"
    }
   },
   "id": "302a9f6001185231"
  },
  {
   "cell_type": "code",
   "execution_count": 344,
   "outputs": [],
   "source": [
    "key_group_1 = dict()\n",
    "ele_group_1 = np.array([])\n",
    "for i in keyword_groups:\n",
    "    ele = keyword_groups[i].values\n",
    "    key_group_1[i] = list(ele[0:int(len(ele)*per_to_remove/100)])\n",
    "    ele_group_1 = np.append(ele_group_1,key_group_1[i])"
   ],
   "metadata": {
    "collapsed": false,
    "ExecuteTime": {
     "end_time": "2023-10-01T21:11:26.832363Z",
     "start_time": "2023-10-01T21:11:26.825455Z"
    }
   },
   "id": "bcd958b8d36b3a2c"
  },
  {
   "cell_type": "code",
   "execution_count": 345,
   "outputs": [
    {
     "data": {
      "text/plain": "array([  10.,   12.,   13.,   14.,   44.,   49.,   51.,   79.,   81.,\n         85.,   91.,   92.,   99.,  154.,  167.,  174.,  182.,  184.,\n        188.,  191.,  200.,  213.,  214.,  215.,  219.,  230.,  231.,\n        243.,  244.,  248.,  252.,  253.,  255.,  257.,  258.,  264.,\n        276.,  277.,  279.,  281.,  287.,  296.,  315.,  316.,  317.,\n        318.,  319.,  320.,  324.,  329.,  333.,  334.,  336.,  339.,\n        398.,  402.,  407.,  433.,  446.,  466.,  489.,  493.,  497.,\n        518.,  522.,  523.,  544.,  560.,  563.,  582.,  587.,  593.,\n        596.,  598.,  610.,  611.,  612.,  615.,  619.,  620.,  621.,\n        625.,  627.,  648.,  651.,  653.,  654.,  655.,  657.,  660.,\n        663.,  664.,  666.,  681.,  683.,  685.,  686.,  689.,  695.,\n        698.,  699.,  700.,  716.,  718.,  723.,  724.,  731.,  732.,\n        733.,  752.,  760.,  764.,  768.,  781.,  782.,  789.,  791.,\n        793.,  795.,  796.,  797.,  799.,  800.,  807.,  808.,  818.,\n        819.,  821.,  822.,  824.,  827.,  828.,  829.,  830.,  834.,\n        836.,  854.,  860.,  862.,  871.,  874.,  892.,  899.,  910.,\n        911.,  912.,  923.,  925.,  931.,  932.,  937.,  939.,  942.,\n        944.,  945.,  958.,  964.,  967.,  969.,  970.,  971.,  990.,\n        997., 1000., 1001., 1002., 1006., 1008., 1009., 1010., 1011.,\n       1013., 1014., 1016., 1029., 1047., 1048., 1063., 1067., 1074.,\n       1075., 1077., 1078., 1081., 1155., 1164., 1169., 1181., 1235.,\n       1239., 1247., 1251., 1254., 1255., 1256., 1266., 1270., 1274.,\n       1276., 1277., 1280., 1283., 1287., 1305., 1310., 1311., 1317.,\n       1343., 1352., 1355., 1405., 1414., 1415., 1416., 1417., 1419.,\n       1433., 1435., 1437., 1438., 1447., 1448., 1450., 1469., 1476.,\n       1496., 1503., 1510., 1530., 1532., 1537., 1541., 1545., 1548.,\n       1580., 1603., 1613., 1618., 1634., 1635., 1637., 1640., 1643.,\n       1647., 1669., 1671., 1687., 1692., 1747., 1748., 1749., 1752.,\n       1753., 1762., 1765., 1769., 1771., 1783., 1794., 1805., 1817.,\n       1821., 1824., 1829., 1835., 1836., 1839., 1841., 1843., 1851.,\n       1852., 1855., 1856., 1859., 1862., 1882., 1884., 1885., 1889.,\n       1894., 1895., 1897., 1924., 1940., 1941., 1952., 1958., 1960.,\n       1962., 1980., 1992., 2005., 2016., 2028., 2031., 2032., 2035.,\n       2039., 2044., 2058., 2061., 2067., 2068., 2070., 2071., 2075.,\n       2077., 2078., 2095., 2104., 2173., 2177., 2187., 2188., 2192.,\n       2194., 2196., 2197., 2198., 2213., 2215., 2217., 2218., 2220.,\n       2225., 2227., 2228., 2243., 2244., 2245., 2246., 2284., 2285.,\n       2288., 2301., 2305., 2306., 2314., 2316., 2318., 2320., 2339.,\n       2382., 2390., 2451., 2453., 2458., 2465., 2467., 2470., 2484.,\n       2490., 2502., 2520., 2522., 2527., 2529., 2531., 2534., 2535.,\n       2549., 2552., 2553., 2554., 2555., 2583., 2587., 2592., 2594.,\n       2599., 2600., 2603., 2621., 2628., 2632., 2634., 2651., 2652.,\n       2653., 2654., 2657., 2659., 2662., 2663., 2665., 2666., 2667.,\n       2669., 2670., 2696., 2702., 2704., 2753., 2759., 2761., 2771.,\n       2835., 2856., 2859., 2862., 2866., 2867., 2868., 2869., 2870.,\n       2872., 2888., 2889., 2897., 2898., 2911., 2912., 2926., 2928.,\n       2935., 2947., 2953., 2954., 2971., 2972., 3000., 3024., 3036.,\n       3037., 3039., 3044., 3046., 3047., 3048., 3051., 3052., 3067.,\n       3069., 3070., 3071., 3072., 3073., 3080., 3082., 3091., 3114.,\n       3119., 3120., 3124., 3126., 3173., 3180., 3209., 3215., 3220.,\n       3221., 3227., 3230., 3243., 3251., 3267., 3268., 3269., 3275.,\n       3280., 3321., 3332., 3367., 3368., 3371., 3375., 3379., 3383.,\n       3387., 3390., 3395., 3397., 3409., 3414., 3417., 3418., 3420.,\n       3421., 3427., 3429., 3430., 3452., 3453., 3458., 3460., 3461.,\n       3464., 3468., 3476., 3478., 3482., 3489., 3497., 3498., 3512.,\n       3513., 3517., 3529., 3535., 3540., 3550., 3568., 3574., 3588.,\n       3591., 3600., 3604., 3635., 3644., 3645., 3652., 3668., 3671.,\n       3672., 3675., 3681., 3685., 3687., 3707., 3709., 3710., 3712.,\n       3714., 3717., 3718., 3723., 3755., 3761., 3766., 3773., 3778.,\n       3783., 3790., 3811., 3815., 3817., 3828., 3836., 3859., 3862.,\n       3864., 3886., 3887., 3896., 3918., 3928., 3930., 3942., 3964.,\n       3982., 4010., 4016., 4041., 4048., 4051., 4080., 4109., 4110.,\n       4114., 4119., 4121., 4126., 4127., 4136., 4148., 4150., 4156.,\n       4159., 4160., 4163., 4164., 4166., 4169., 4186., 4187., 4191.,\n       4218., 4223., 4239., 4252., 4253., 4254., 4260., 4262., 4263.,\n       4265., 4266., 4272., 4273., 4295., 4296., 4306., 4308., 4337.,\n       4338., 4341., 4352., 4374., 4375., 4392., 4398., 4400., 4401.,\n       4409., 4427., 4432., 4433., 4435., 4458., 4462., 4464., 4465.,\n       4470., 4471., 4504., 4506., 4507., 4539., 4544., 4549., 4564.,\n       4567., 4572., 4576., 4579., 4586., 4614., 4617., 4623., 4638.,\n       4639., 4645., 4650., 4663., 4669., 4673., 4674., 4675., 4684.,\n       4687., 4688., 4689., 4691., 4694., 4724., 4731., 4749., 4750.,\n       4756., 4757., 4774., 4790., 4822., 4859., 4860., 4870., 4882.,\n       4884., 4890., 4891., 4914., 4916., 4919., 4920., 4921., 4922.,\n       4923., 4929., 4945., 4947., 4949., 4952., 4955., 4960., 4961.,\n       4963., 4990., 4998., 5001., 5005., 5008., 5009., 5024., 5039.,\n       5084., 5085., 5086., 5090., 5095., 5102., 5127., 5135., 5139.,\n       5140., 5142., 5154., 5155., 5161., 5164., 5184., 5196., 5197.,\n       5200., 5203., 5289., 5298., 5299., 5304., 5305., 5307., 5315.,\n       5317., 5328., 5329., 5330., 5331., 5338., 5340., 5351., 5354.,\n       5367., 5373., 5375., 5377., 5384., 5386., 5389., 5399., 5403.,\n       5404., 5407., 5437., 5441., 5443., 5445., 5452., 5454., 5455.,\n       5467., 5468., 5477., 5480., 5485., 5486., 5519., 5527., 5601.,\n       5625., 5626., 5630., 5653., 5654., 5668., 5682., 5713., 5714.,\n       5721., 5722., 5723., 5724., 5725., 5751., 5763., 5781., 5783.,\n       5784., 5785., 5809., 5815., 5816., 5819., 5822., 5828., 5861.,\n       5881., 5883., 5884., 5885., 5889., 5893., 5894., 5896., 5902.,\n       5915., 5916., 5920., 5921., 5925., 5928., 5954., 5959., 5961.,\n       5963., 5968., 5970., 5971., 5991., 5996., 5998., 6000., 6029.,\n       6056., 6058., 6062., 6063., 6065., 6066., 6067., 6070., 6071.,\n       6072., 6073., 6075., 6096., 6101., 6102., 6113., 6116., 6120.,\n       6122., 6125., 6143., 6153., 6160., 6164., 6165., 6169., 6170.,\n       6171., 6173., 6174., 6175., 6177., 6179., 6180., 6182., 6227.,\n       6228., 6232., 6237., 6263., 6264., 6274., 6275., 6277., 6278.,\n       6280., 6303., 6316., 6430., 6435., 6436., 6438., 6449., 6451.,\n       6453., 6470., 6471., 6474., 6478., 6479., 6486., 6493., 6502.,\n       6510., 6512., 6513., 6519., 6534., 6543., 6563., 6571., 6577.,\n       6591., 6603., 6642., 6645., 6651., 6653., 6656., 6658., 6663.,\n       6664., 6666., 6679., 6685., 6715., 6716., 6720., 6730., 6731.,\n       6733., 6735., 6747., 6750., 6789., 6790., 6791., 6796., 6799.,\n       6801., 6819., 6828., 6834., 6847., 6856., 6857., 6861., 6862.,\n       6865., 6867., 6869., 6872., 6881., 6886., 6896., 6900., 6901.,\n       6902., 6912., 6917., 6920., 6924., 6925., 6928., 6939., 6948.,\n       6952., 6955., 6956., 6959., 6960., 6961., 6963., 6964., 6968.,\n       6970., 6971., 7027., 7028., 7039., 7041., 7043., 7070., 7099.,\n       7103., 7118., 7124., 7130., 7132., 7140., 7150., 7151., 7157.,\n       7165., 7167., 7170., 7195., 7198., 7205., 7210., 7212., 7228.,\n       7246., 7331., 7336., 7345., 7351., 7353., 7381., 7384., 7385.,\n       7408., 7412., 7417., 7439., 7441., 7449., 7455., 7456., 7515.,\n       7518., 7519., 7520., 7522., 7523., 7526., 7529., 7531., 7532.,\n       7533., 7534.])"
     },
     "execution_count": 345,
     "metadata": {},
     "output_type": "execute_result"
    }
   ],
   "source": [
    "ele_group_1"
   ],
   "metadata": {
    "collapsed": false,
    "ExecuteTime": {
     "end_time": "2023-10-01T21:11:27.355024Z",
     "start_time": "2023-10-01T21:11:27.351811Z"
    }
   },
   "id": "d23f56329461eaa3"
  },
  {
   "cell_type": "code",
   "execution_count": 346,
   "outputs": [],
   "source": [
    "df_target_location_index = np.setdiff1d(df_train_1.index.values,ele_group_1)"
   ],
   "metadata": {
    "collapsed": false,
    "ExecuteTime": {
     "end_time": "2023-10-01T21:11:27.897731Z",
     "start_time": "2023-10-01T21:11:27.894094Z"
    }
   },
   "id": "6a5607175c962e5e"
  },
  {
   "cell_type": "code",
   "execution_count": 356,
   "outputs": [
    {
     "data": {
      "text/plain": "         id  keyword                       location  \\\n0        48   ablaze                     Birmingham   \n1        49   ablaze  Est. September 2012 - Bristol   \n2        50   ablaze                         AFRICA   \n3        52   ablaze               Philadelphia, PA   \n4        53   ablaze                     London, UK   \n...     ...      ...                            ...   \n6555  10830  wrecked                            NaN   \n6556  10831  wrecked              Vancouver, Canada   \n6557  10832  wrecked                        London    \n6558  10833  wrecked                        Lincoln   \n6559  10834  wrecked                            NaN   \n\n                                                   text  target  \n0     @bbcmtd Wholesale Markets ablaze http://t.co/l...       1  \n1     We always try to bring the heavy. #metal #RT h...       0  \n2     #AFRICANBAZE: Breaking news:Nigeria flag set a...       1  \n3                    Crying out for more! Set me ablaze       0  \n4     On plus side LOOK AT THE SKY LAST NIGHT IT WAS...       0  \n...                                                 ...     ...  \n6555   @jt_ruff23 @cameronhacker and I wrecked you both       0  \n6556  Three days off from work and they've pretty mu...       0  \n6557  #FX #forex #trading Cramer: Iger's 3 words tha...       0  \n6558  @engineshed Great atmosphere at the British Li...       0  \n6559  Cramer: Iger's 3 words that wrecked Disney's s...       0  \n\n[6560 rows x 5 columns]",
      "text/html": "<div>\n<style scoped>\n    .dataframe tbody tr th:only-of-type {\n        vertical-align: middle;\n    }\n\n    .dataframe tbody tr th {\n        vertical-align: top;\n    }\n\n    .dataframe thead th {\n        text-align: right;\n    }\n</style>\n<table border=\"1\" class=\"dataframe\">\n  <thead>\n    <tr style=\"text-align: right;\">\n      <th></th>\n      <th>id</th>\n      <th>keyword</th>\n      <th>location</th>\n      <th>text</th>\n      <th>target</th>\n    </tr>\n  </thead>\n  <tbody>\n    <tr>\n      <th>0</th>\n      <td>48</td>\n      <td>ablaze</td>\n      <td>Birmingham</td>\n      <td>@bbcmtd Wholesale Markets ablaze http://t.co/l...</td>\n      <td>1</td>\n    </tr>\n    <tr>\n      <th>1</th>\n      <td>49</td>\n      <td>ablaze</td>\n      <td>Est. September 2012 - Bristol</td>\n      <td>We always try to bring the heavy. #metal #RT h...</td>\n      <td>0</td>\n    </tr>\n    <tr>\n      <th>2</th>\n      <td>50</td>\n      <td>ablaze</td>\n      <td>AFRICA</td>\n      <td>#AFRICANBAZE: Breaking news:Nigeria flag set a...</td>\n      <td>1</td>\n    </tr>\n    <tr>\n      <th>3</th>\n      <td>52</td>\n      <td>ablaze</td>\n      <td>Philadelphia, PA</td>\n      <td>Crying out for more! Set me ablaze</td>\n      <td>0</td>\n    </tr>\n    <tr>\n      <th>4</th>\n      <td>53</td>\n      <td>ablaze</td>\n      <td>London, UK</td>\n      <td>On plus side LOOK AT THE SKY LAST NIGHT IT WAS...</td>\n      <td>0</td>\n    </tr>\n    <tr>\n      <th>...</th>\n      <td>...</td>\n      <td>...</td>\n      <td>...</td>\n      <td>...</td>\n      <td>...</td>\n    </tr>\n    <tr>\n      <th>6555</th>\n      <td>10830</td>\n      <td>wrecked</td>\n      <td>NaN</td>\n      <td>@jt_ruff23 @cameronhacker and I wrecked you both</td>\n      <td>0</td>\n    </tr>\n    <tr>\n      <th>6556</th>\n      <td>10831</td>\n      <td>wrecked</td>\n      <td>Vancouver, Canada</td>\n      <td>Three days off from work and they've pretty mu...</td>\n      <td>0</td>\n    </tr>\n    <tr>\n      <th>6557</th>\n      <td>10832</td>\n      <td>wrecked</td>\n      <td>London</td>\n      <td>#FX #forex #trading Cramer: Iger's 3 words tha...</td>\n      <td>0</td>\n    </tr>\n    <tr>\n      <th>6558</th>\n      <td>10833</td>\n      <td>wrecked</td>\n      <td>Lincoln</td>\n      <td>@engineshed Great atmosphere at the British Li...</td>\n      <td>0</td>\n    </tr>\n    <tr>\n      <th>6559</th>\n      <td>10834</td>\n      <td>wrecked</td>\n      <td>NaN</td>\n      <td>Cramer: Iger's 3 words that wrecked Disney's s...</td>\n      <td>0</td>\n    </tr>\n  </tbody>\n</table>\n<p>6560 rows × 5 columns</p>\n</div>"
     },
     "execution_count": 356,
     "metadata": {},
     "output_type": "execute_result"
    }
   ],
   "source": [
    "df_train_2 = df_train_1.loc[df_target_location_index,]\n",
    "df_train_2 = df_train_2.reset_index(drop=True)\n",
    "df_train_2"
   ],
   "metadata": {
    "collapsed": false,
    "ExecuteTime": {
     "end_time": "2023-10-01T21:15:17.275933Z",
     "start_time": "2023-10-01T21:15:17.261529Z"
    }
   },
   "id": "b65ac5b080e39779"
  },
  {
   "cell_type": "code",
   "execution_count": 357,
   "outputs": [
    {
     "data": {
      "text/plain": "target\n0    50.777439\n1    49.222561\nName: count, dtype: float64"
     },
     "execution_count": 357,
     "metadata": {},
     "output_type": "execute_result"
    }
   ],
   "source": [
    "df_train_2[\"target\"].value_counts()*100/len(df_train_2)"
   ],
   "metadata": {
    "collapsed": false,
    "ExecuteTime": {
     "end_time": "2023-10-01T21:15:19.210270Z",
     "start_time": "2023-10-01T21:15:19.205404Z"
    }
   },
   "id": "896a5e30f1d578e3"
  },
  {
   "cell_type": "code",
   "execution_count": 358,
   "outputs": [
    {
     "data": {
      "text/plain": "         id  keyword                       location  \\\n0        48   ablaze                     Birmingham   \n1        49   ablaze  Est. September 2012 - Bristol   \n2        50   ablaze                         AFRICA   \n3        52   ablaze               Philadelphia, PA   \n4        53   ablaze                     London, UK   \n...     ...      ...                            ...   \n6555  10830  wrecked                            NaN   \n6556  10831  wrecked              Vancouver, Canada   \n6557  10832  wrecked                        London    \n6558  10833  wrecked                        Lincoln   \n6559  10834  wrecked                            NaN   \n\n                                                   text  target  \n0     @bbcmtd Wholesale Markets ablaze http://t.co/l...       1  \n1     We always try to bring the heavy. #metal #RT h...       0  \n2     #AFRICANBAZE: Breaking news:Nigeria flag set a...       1  \n3                    Crying out for more! Set me ablaze       0  \n4     On plus side LOOK AT THE SKY LAST NIGHT IT WAS...       0  \n...                                                 ...     ...  \n6555   @jt_ruff23 @cameronhacker and I wrecked you both       0  \n6556  Three days off from work and they've pretty mu...       0  \n6557  #FX #forex #trading Cramer: Iger's 3 words tha...       0  \n6558  @engineshed Great atmosphere at the British Li...       0  \n6559  Cramer: Iger's 3 words that wrecked Disney's s...       0  \n\n[6560 rows x 5 columns]",
      "text/html": "<div>\n<style scoped>\n    .dataframe tbody tr th:only-of-type {\n        vertical-align: middle;\n    }\n\n    .dataframe tbody tr th {\n        vertical-align: top;\n    }\n\n    .dataframe thead th {\n        text-align: right;\n    }\n</style>\n<table border=\"1\" class=\"dataframe\">\n  <thead>\n    <tr style=\"text-align: right;\">\n      <th></th>\n      <th>id</th>\n      <th>keyword</th>\n      <th>location</th>\n      <th>text</th>\n      <th>target</th>\n    </tr>\n  </thead>\n  <tbody>\n    <tr>\n      <th>0</th>\n      <td>48</td>\n      <td>ablaze</td>\n      <td>Birmingham</td>\n      <td>@bbcmtd Wholesale Markets ablaze http://t.co/l...</td>\n      <td>1</td>\n    </tr>\n    <tr>\n      <th>1</th>\n      <td>49</td>\n      <td>ablaze</td>\n      <td>Est. September 2012 - Bristol</td>\n      <td>We always try to bring the heavy. #metal #RT h...</td>\n      <td>0</td>\n    </tr>\n    <tr>\n      <th>2</th>\n      <td>50</td>\n      <td>ablaze</td>\n      <td>AFRICA</td>\n      <td>#AFRICANBAZE: Breaking news:Nigeria flag set a...</td>\n      <td>1</td>\n    </tr>\n    <tr>\n      <th>3</th>\n      <td>52</td>\n      <td>ablaze</td>\n      <td>Philadelphia, PA</td>\n      <td>Crying out for more! Set me ablaze</td>\n      <td>0</td>\n    </tr>\n    <tr>\n      <th>4</th>\n      <td>53</td>\n      <td>ablaze</td>\n      <td>London, UK</td>\n      <td>On plus side LOOK AT THE SKY LAST NIGHT IT WAS...</td>\n      <td>0</td>\n    </tr>\n    <tr>\n      <th>...</th>\n      <td>...</td>\n      <td>...</td>\n      <td>...</td>\n      <td>...</td>\n      <td>...</td>\n    </tr>\n    <tr>\n      <th>6555</th>\n      <td>10830</td>\n      <td>wrecked</td>\n      <td>NaN</td>\n      <td>@jt_ruff23 @cameronhacker and I wrecked you both</td>\n      <td>0</td>\n    </tr>\n    <tr>\n      <th>6556</th>\n      <td>10831</td>\n      <td>wrecked</td>\n      <td>Vancouver, Canada</td>\n      <td>Three days off from work and they've pretty mu...</td>\n      <td>0</td>\n    </tr>\n    <tr>\n      <th>6557</th>\n      <td>10832</td>\n      <td>wrecked</td>\n      <td>London</td>\n      <td>#FX #forex #trading Cramer: Iger's 3 words tha...</td>\n      <td>0</td>\n    </tr>\n    <tr>\n      <th>6558</th>\n      <td>10833</td>\n      <td>wrecked</td>\n      <td>Lincoln</td>\n      <td>@engineshed Great atmosphere at the British Li...</td>\n      <td>0</td>\n    </tr>\n    <tr>\n      <th>6559</th>\n      <td>10834</td>\n      <td>wrecked</td>\n      <td>NaN</td>\n      <td>Cramer: Iger's 3 words that wrecked Disney's s...</td>\n      <td>0</td>\n    </tr>\n  </tbody>\n</table>\n<p>6560 rows × 5 columns</p>\n</div>"
     },
     "execution_count": 358,
     "metadata": {},
     "output_type": "execute_result"
    }
   ],
   "source": [
    "df_train_2"
   ],
   "metadata": {
    "collapsed": false,
    "ExecuteTime": {
     "end_time": "2023-10-01T21:18:06.672621Z",
     "start_time": "2023-10-01T21:18:06.654651Z"
    }
   },
   "id": "59b803c04549782"
  },
  {
   "cell_type": "code",
   "execution_count": 360,
   "outputs": [
    {
     "data": {
      "text/plain": "      keyword                       location  \\\n0      ablaze                     Birmingham   \n1      ablaze  Est. September 2012 - Bristol   \n2      ablaze                         AFRICA   \n3      ablaze               Philadelphia, PA   \n4      ablaze                     London, UK   \n...       ...                            ...   \n6555  wrecked                            NaN   \n6556  wrecked              Vancouver, Canada   \n6557  wrecked                        London    \n6558  wrecked                        Lincoln   \n6559  wrecked                            NaN   \n\n                                                   text  target  \n0     @bbcmtd Wholesale Markets ablaze http://t.co/l...       1  \n1     We always try to bring the heavy. #metal #RT h...       0  \n2     #AFRICANBAZE: Breaking news:Nigeria flag set a...       1  \n3                    Crying out for more! Set me ablaze       0  \n4     On plus side LOOK AT THE SKY LAST NIGHT IT WAS...       0  \n...                                                 ...     ...  \n6555   @jt_ruff23 @cameronhacker and I wrecked you both       0  \n6556  Three days off from work and they've pretty mu...       0  \n6557  #FX #forex #trading Cramer: Iger's 3 words tha...       0  \n6558  @engineshed Great atmosphere at the British Li...       0  \n6559  Cramer: Iger's 3 words that wrecked Disney's s...       0  \n\n[6560 rows x 4 columns]",
      "text/html": "<div>\n<style scoped>\n    .dataframe tbody tr th:only-of-type {\n        vertical-align: middle;\n    }\n\n    .dataframe tbody tr th {\n        vertical-align: top;\n    }\n\n    .dataframe thead th {\n        text-align: right;\n    }\n</style>\n<table border=\"1\" class=\"dataframe\">\n  <thead>\n    <tr style=\"text-align: right;\">\n      <th></th>\n      <th>keyword</th>\n      <th>location</th>\n      <th>text</th>\n      <th>target</th>\n    </tr>\n  </thead>\n  <tbody>\n    <tr>\n      <th>0</th>\n      <td>ablaze</td>\n      <td>Birmingham</td>\n      <td>@bbcmtd Wholesale Markets ablaze http://t.co/l...</td>\n      <td>1</td>\n    </tr>\n    <tr>\n      <th>1</th>\n      <td>ablaze</td>\n      <td>Est. September 2012 - Bristol</td>\n      <td>We always try to bring the heavy. #metal #RT h...</td>\n      <td>0</td>\n    </tr>\n    <tr>\n      <th>2</th>\n      <td>ablaze</td>\n      <td>AFRICA</td>\n      <td>#AFRICANBAZE: Breaking news:Nigeria flag set a...</td>\n      <td>1</td>\n    </tr>\n    <tr>\n      <th>3</th>\n      <td>ablaze</td>\n      <td>Philadelphia, PA</td>\n      <td>Crying out for more! Set me ablaze</td>\n      <td>0</td>\n    </tr>\n    <tr>\n      <th>4</th>\n      <td>ablaze</td>\n      <td>London, UK</td>\n      <td>On plus side LOOK AT THE SKY LAST NIGHT IT WAS...</td>\n      <td>0</td>\n    </tr>\n    <tr>\n      <th>...</th>\n      <td>...</td>\n      <td>...</td>\n      <td>...</td>\n      <td>...</td>\n    </tr>\n    <tr>\n      <th>6555</th>\n      <td>wrecked</td>\n      <td>NaN</td>\n      <td>@jt_ruff23 @cameronhacker and I wrecked you both</td>\n      <td>0</td>\n    </tr>\n    <tr>\n      <th>6556</th>\n      <td>wrecked</td>\n      <td>Vancouver, Canada</td>\n      <td>Three days off from work and they've pretty mu...</td>\n      <td>0</td>\n    </tr>\n    <tr>\n      <th>6557</th>\n      <td>wrecked</td>\n      <td>London</td>\n      <td>#FX #forex #trading Cramer: Iger's 3 words tha...</td>\n      <td>0</td>\n    </tr>\n    <tr>\n      <th>6558</th>\n      <td>wrecked</td>\n      <td>Lincoln</td>\n      <td>@engineshed Great atmosphere at the British Li...</td>\n      <td>0</td>\n    </tr>\n    <tr>\n      <th>6559</th>\n      <td>wrecked</td>\n      <td>NaN</td>\n      <td>Cramer: Iger's 3 words that wrecked Disney's s...</td>\n      <td>0</td>\n    </tr>\n  </tbody>\n</table>\n<p>6560 rows × 4 columns</p>\n</div>"
     },
     "execution_count": 360,
     "metadata": {},
     "output_type": "execute_result"
    }
   ],
   "source": [
    "df_train_3 = df_train_2.drop(\"id\",axis=1,inplace=False)\n",
    "df_train_3"
   ],
   "metadata": {
    "collapsed": false,
    "ExecuteTime": {
     "end_time": "2023-10-01T21:21:00.194662Z",
     "start_time": "2023-10-01T21:21:00.188617Z"
    }
   },
   "id": "3bf72d7bb0c48b53"
  },
  {
   "cell_type": "code",
   "execution_count": 361,
   "outputs": [
    {
     "data": {
      "text/plain": "      keyword                       location  \\\n0      ablaze                     Birmingham   \n1      ablaze  Est. September 2012 - Bristol   \n2      ablaze                         AFRICA   \n3      ablaze               Philadelphia, PA   \n4      ablaze                     London, UK   \n...       ...                            ...   \n6555  wrecked                  Not Specified   \n6556  wrecked              Vancouver, Canada   \n6557  wrecked                        London    \n6558  wrecked                        Lincoln   \n6559  wrecked                  Not Specified   \n\n                                                   text  target  \n0     @bbcmtd Wholesale Markets ablaze http://t.co/l...       1  \n1     We always try to bring the heavy. #metal #RT h...       0  \n2     #AFRICANBAZE: Breaking news:Nigeria flag set a...       1  \n3                    Crying out for more! Set me ablaze       0  \n4     On plus side LOOK AT THE SKY LAST NIGHT IT WAS...       0  \n...                                                 ...     ...  \n6555   @jt_ruff23 @cameronhacker and I wrecked you both       0  \n6556  Three days off from work and they've pretty mu...       0  \n6557  #FX #forex #trading Cramer: Iger's 3 words tha...       0  \n6558  @engineshed Great atmosphere at the British Li...       0  \n6559  Cramer: Iger's 3 words that wrecked Disney's s...       0  \n\n[6560 rows x 4 columns]",
      "text/html": "<div>\n<style scoped>\n    .dataframe tbody tr th:only-of-type {\n        vertical-align: middle;\n    }\n\n    .dataframe tbody tr th {\n        vertical-align: top;\n    }\n\n    .dataframe thead th {\n        text-align: right;\n    }\n</style>\n<table border=\"1\" class=\"dataframe\">\n  <thead>\n    <tr style=\"text-align: right;\">\n      <th></th>\n      <th>keyword</th>\n      <th>location</th>\n      <th>text</th>\n      <th>target</th>\n    </tr>\n  </thead>\n  <tbody>\n    <tr>\n      <th>0</th>\n      <td>ablaze</td>\n      <td>Birmingham</td>\n      <td>@bbcmtd Wholesale Markets ablaze http://t.co/l...</td>\n      <td>1</td>\n    </tr>\n    <tr>\n      <th>1</th>\n      <td>ablaze</td>\n      <td>Est. September 2012 - Bristol</td>\n      <td>We always try to bring the heavy. #metal #RT h...</td>\n      <td>0</td>\n    </tr>\n    <tr>\n      <th>2</th>\n      <td>ablaze</td>\n      <td>AFRICA</td>\n      <td>#AFRICANBAZE: Breaking news:Nigeria flag set a...</td>\n      <td>1</td>\n    </tr>\n    <tr>\n      <th>3</th>\n      <td>ablaze</td>\n      <td>Philadelphia, PA</td>\n      <td>Crying out for more! Set me ablaze</td>\n      <td>0</td>\n    </tr>\n    <tr>\n      <th>4</th>\n      <td>ablaze</td>\n      <td>London, UK</td>\n      <td>On plus side LOOK AT THE SKY LAST NIGHT IT WAS...</td>\n      <td>0</td>\n    </tr>\n    <tr>\n      <th>...</th>\n      <td>...</td>\n      <td>...</td>\n      <td>...</td>\n      <td>...</td>\n    </tr>\n    <tr>\n      <th>6555</th>\n      <td>wrecked</td>\n      <td>Not Specified</td>\n      <td>@jt_ruff23 @cameronhacker and I wrecked you both</td>\n      <td>0</td>\n    </tr>\n    <tr>\n      <th>6556</th>\n      <td>wrecked</td>\n      <td>Vancouver, Canada</td>\n      <td>Three days off from work and they've pretty mu...</td>\n      <td>0</td>\n    </tr>\n    <tr>\n      <th>6557</th>\n      <td>wrecked</td>\n      <td>London</td>\n      <td>#FX #forex #trading Cramer: Iger's 3 words tha...</td>\n      <td>0</td>\n    </tr>\n    <tr>\n      <th>6558</th>\n      <td>wrecked</td>\n      <td>Lincoln</td>\n      <td>@engineshed Great atmosphere at the British Li...</td>\n      <td>0</td>\n    </tr>\n    <tr>\n      <th>6559</th>\n      <td>wrecked</td>\n      <td>Not Specified</td>\n      <td>Cramer: Iger's 3 words that wrecked Disney's s...</td>\n      <td>0</td>\n    </tr>\n  </tbody>\n</table>\n<p>6560 rows × 4 columns</p>\n</div>"
     },
     "execution_count": 361,
     "metadata": {},
     "output_type": "execute_result"
    }
   ],
   "source": [
    "df_train_4 = df_train_3.fillna(\"Not Specified\")\n",
    "df_train_4"
   ],
   "metadata": {
    "collapsed": false,
    "ExecuteTime": {
     "end_time": "2023-10-01T21:21:29.849512Z",
     "start_time": "2023-10-01T21:21:29.828052Z"
    }
   },
   "id": "5bd6a451d77b759b"
  },
  {
   "cell_type": "code",
   "execution_count": 362,
   "outputs": [
    {
     "data": {
      "text/plain": "keyword     0\nlocation    0\ntext        0\ntarget      0\ndtype: int64"
     },
     "execution_count": 362,
     "metadata": {},
     "output_type": "execute_result"
    }
   ],
   "source": [
    "df_train_4.isna().sum()"
   ],
   "metadata": {
    "collapsed": false,
    "ExecuteTime": {
     "end_time": "2023-10-01T21:21:44.076197Z",
     "start_time": "2023-10-01T21:21:44.061267Z"
    }
   },
   "id": "f25b2a955690a327"
  },
  {
   "cell_type": "code",
   "execution_count": 363,
   "outputs": [
    {
     "data": {
      "text/plain": "0       @bbcmtd Wholesale Markets ablaze http://t.co/l...\n1       We always try to bring the heavy. #metal #RT h...\n2       #AFRICANBAZE: Breaking news:Nigeria flag set a...\n3                      Crying out for more! Set me ablaze\n4       On plus side LOOK AT THE SKY LAST NIGHT IT WAS...\n                              ...                        \n6555     @jt_ruff23 @cameronhacker and I wrecked you both\n6556    Three days off from work and they've pretty mu...\n6557    #FX #forex #trading Cramer: Iger's 3 words tha...\n6558    @engineshed Great atmosphere at the British Li...\n6559    Cramer: Iger's 3 words that wrecked Disney's s...\nName: text, Length: 6560, dtype: object"
     },
     "execution_count": 363,
     "metadata": {},
     "output_type": "execute_result"
    }
   ],
   "source": [
    "df_train_4[\"text\"]"
   ],
   "metadata": {
    "collapsed": false,
    "ExecuteTime": {
     "end_time": "2023-10-01T21:27:03.213961Z",
     "start_time": "2023-10-01T21:27:03.182047Z"
    }
   },
   "id": "d9597814717b583e"
  },
  {
   "cell_type": "code",
   "execution_count": 380,
   "outputs": [
    {
     "data": {
      "text/plain": "'@bbcmtd Wholesale Markets ablaze http://t.co/lHYXEOHY6C'"
     },
     "execution_count": 380,
     "metadata": {},
     "output_type": "execute_result"
    }
   ],
   "source": [
    "df_train_4.loc[0,\"text\"]"
   ],
   "metadata": {
    "collapsed": false,
    "ExecuteTime": {
     "end_time": "2023-10-01T21:42:37.529101Z",
     "start_time": "2023-10-01T21:42:37.526218Z"
    }
   },
   "id": "354306ab44b5dc7"
  },
  {
   "cell_type": "code",
   "execution_count": 381,
   "outputs": [
    {
     "data": {
      "text/plain": "[('http://t.co/lHYXEOHY6C', '', '', '', '')]"
     },
     "execution_count": 381,
     "metadata": {},
     "output_type": "execute_result"
    }
   ],
   "source": [
    "nltk.regexp_tokenize(df_train_4.loc[0,\"text\"],r\"(?i)\\b((?:https?://|www\\d{0,3}[.]|[a-z0-9.\\-]+[.][a-z]{2,4}/)(?:[^\\s()<>]+|\\(([^\\s()<>]+|(\\([^\\s()<>]+\\)))*\\))+(?:\\(([^\\s()<>]+|(\\([^\\s()<>]+\\)))*\\)|[^\\s`!()\\[\\]{};:'\\\".,<>?«»“”‘’]))\")"
   ],
   "metadata": {
    "collapsed": false,
    "ExecuteTime": {
     "end_time": "2023-10-01T21:42:37.762012Z",
     "start_time": "2023-10-01T21:42:37.756920Z"
    }
   },
   "id": "56db3b68809fba05"
  },
  {
   "cell_type": "code",
   "execution_count": 375,
   "outputs": [
    {
     "data": {
      "text/plain": "'co'"
     },
     "execution_count": 375,
     "metadata": {},
     "output_type": "execute_result"
    }
   ],
   "source": [
    "wl = nltk.stem.WordNetLemmatizer()\n",
    "wl.lemmatize(\"co\")"
   ],
   "metadata": {
    "collapsed": false,
    "ExecuteTime": {
     "end_time": "2023-10-01T21:40:42.545408Z",
     "start_time": "2023-10-01T21:40:42.529332Z"
    }
   },
   "id": "abc591692e07f86e"
  },
  {
   "cell_type": "code",
   "execution_count": 378,
   "outputs": [
    {
     "data": {
      "text/plain": "[Lemma('thymine.n.01.T'),\n Lemma('deoxythymidine_monophosphate.n.01.T'),\n Lemma('metric_ton.n.01.t'),\n Lemma('t.n.04.T'),\n Lemma('t.n.04.t'),\n Lemma('triiodothyronine.n.01.T'),\n Lemma('thyroxine.n.01.T')]"
     },
     "execution_count": 378,
     "metadata": {},
     "output_type": "execute_result"
    }
   ],
   "source": [
    "nltk.corpus.wordnet.lemmas(\"t\")"
   ],
   "metadata": {
    "collapsed": false,
    "ExecuteTime": {
     "end_time": "2023-10-01T21:41:36.224161Z",
     "start_time": "2023-10-01T21:41:36.222556Z"
    }
   },
   "id": "8358a2c46ca48bef"
  },
  {
   "cell_type": "code",
   "execution_count": null,
   "outputs": [],
   "source": [],
   "metadata": {
    "collapsed": false
   },
   "id": "94f92002123d6498"
  }
 ],
 "metadata": {
  "kernelspec": {
   "display_name": "Python 3",
   "language": "python",
   "name": "python3"
  },
  "language_info": {
   "codemirror_mode": {
    "name": "ipython",
    "version": 2
   },
   "file_extension": ".py",
   "mimetype": "text/x-python",
   "name": "python",
   "nbconvert_exporter": "python",
   "pygments_lexer": "ipython2",
   "version": "2.7.6"
  }
 },
 "nbformat": 4,
 "nbformat_minor": 5
}
