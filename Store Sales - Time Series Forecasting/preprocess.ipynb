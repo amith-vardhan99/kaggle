{
 "cells": [
  {
   "cell_type": "markdown",
   "source": [
    "## Data Preprocessing"
   ],
   "metadata": {
    "collapsed": false
   },
   "id": "70d75e05ec6a38e6"
  },
  {
   "cell_type": "markdown",
   "source": [
    "Now, we are done with exploratory data analysis of both training and testing datasets. Now, we should get into preprocessing for both the datasets as some of the features are not numerical."
   ],
   "metadata": {
    "collapsed": false
   },
   "id": "8b44fd20d813f38c"
  },
  {
   "cell_type": "markdown",
   "source": [
    "### Importing all packages"
   ],
   "metadata": {
    "collapsed": false
   },
   "id": "8df7d8eb34705c7c"
  },
  {
   "cell_type": "code",
   "execution_count": 19,
   "outputs": [],
   "source": [
    "import numpy as np\n",
    "import pandas as pd\n",
    "import matplotlib.pyplot as plt\n",
    "import seaborn as sns\n",
    "from sklearn.model_selection import *\n",
    "from sklearn.linear_model import *\n",
    "from math import *\n",
    "from sklearn.ensemble import *\n",
    "from sklearn.feature_selection import *\n",
    "from sklearn.feature_extraction import *\n",
    "from sklearn.naive_bayes import *\n",
    "from sklearn.discriminant_analysis import *\n",
    "from sklearn.preprocessing import *\n",
    "from sklearn.metrics import *\n",
    "from sklearn.neighbors import *\n",
    "from sklearn.cluster import *"
   ],
   "metadata": {
    "collapsed": false,
    "ExecuteTime": {
     "end_time": "2023-08-24T02:18:04.087938Z",
     "start_time": "2023-08-24T02:18:04.084999Z"
    }
   },
   "id": "1c3770d529797ef1"
  },
  {
   "cell_type": "code",
   "execution_count": 20,
   "outputs": [],
   "source": [
    "df_train = pd.read_csv(\"train_eda.csv\")\n",
    "df_test = pd.read_csv(\"test_eda.csv\")"
   ],
   "metadata": {
    "collapsed": false,
    "ExecuteTime": {
     "end_time": "2023-08-24T02:18:04.797116Z",
     "start_time": "2023-08-24T02:18:04.285752Z"
    }
   },
   "id": "dac6517ca6863a08"
  },
  {
   "cell_type": "code",
   "execution_count": 21,
   "outputs": [
    {
     "data": {
      "text/plain": "   id        date  store_nbr      family  onpromotion   city      state type  \\\n0   0  2013-01-01          1  AUTOMOTIVE            0  Quito  Pichincha    D   \n1   1  2013-01-01          1   BABY CARE            0  Quito  Pichincha    D   \n2   2  2013-01-01          1      BEAUTY            0  Quito  Pichincha    D   \n3   3  2013-01-01          1   BEVERAGES            0  Quito  Pichincha    D   \n4   4  2013-01-01          1       BOOKS            0  Quito  Pichincha    D   \n\n   cluster  dcoilwtico  holiday?  sales  \n0       13      93.366       1.0    0.0  \n1       13      93.366       1.0    0.0  \n2       13      93.366       1.0    0.0  \n3       13      93.366       1.0    0.0  \n4       13      93.366       1.0    0.0  ",
      "text/html": "<div>\n<style scoped>\n    .dataframe tbody tr th:only-of-type {\n        vertical-align: middle;\n    }\n\n    .dataframe tbody tr th {\n        vertical-align: top;\n    }\n\n    .dataframe thead th {\n        text-align: right;\n    }\n</style>\n<table border=\"1\" class=\"dataframe\">\n  <thead>\n    <tr style=\"text-align: right;\">\n      <th></th>\n      <th>id</th>\n      <th>date</th>\n      <th>store_nbr</th>\n      <th>family</th>\n      <th>onpromotion</th>\n      <th>city</th>\n      <th>state</th>\n      <th>type</th>\n      <th>cluster</th>\n      <th>dcoilwtico</th>\n      <th>holiday?</th>\n      <th>sales</th>\n    </tr>\n  </thead>\n  <tbody>\n    <tr>\n      <th>0</th>\n      <td>0</td>\n      <td>2013-01-01</td>\n      <td>1</td>\n      <td>AUTOMOTIVE</td>\n      <td>0</td>\n      <td>Quito</td>\n      <td>Pichincha</td>\n      <td>D</td>\n      <td>13</td>\n      <td>93.366</td>\n      <td>1.0</td>\n      <td>0.0</td>\n    </tr>\n    <tr>\n      <th>1</th>\n      <td>1</td>\n      <td>2013-01-01</td>\n      <td>1</td>\n      <td>BABY CARE</td>\n      <td>0</td>\n      <td>Quito</td>\n      <td>Pichincha</td>\n      <td>D</td>\n      <td>13</td>\n      <td>93.366</td>\n      <td>1.0</td>\n      <td>0.0</td>\n    </tr>\n    <tr>\n      <th>2</th>\n      <td>2</td>\n      <td>2013-01-01</td>\n      <td>1</td>\n      <td>BEAUTY</td>\n      <td>0</td>\n      <td>Quito</td>\n      <td>Pichincha</td>\n      <td>D</td>\n      <td>13</td>\n      <td>93.366</td>\n      <td>1.0</td>\n      <td>0.0</td>\n    </tr>\n    <tr>\n      <th>3</th>\n      <td>3</td>\n      <td>2013-01-01</td>\n      <td>1</td>\n      <td>BEVERAGES</td>\n      <td>0</td>\n      <td>Quito</td>\n      <td>Pichincha</td>\n      <td>D</td>\n      <td>13</td>\n      <td>93.366</td>\n      <td>1.0</td>\n      <td>0.0</td>\n    </tr>\n    <tr>\n      <th>4</th>\n      <td>4</td>\n      <td>2013-01-01</td>\n      <td>1</td>\n      <td>BOOKS</td>\n      <td>0</td>\n      <td>Quito</td>\n      <td>Pichincha</td>\n      <td>D</td>\n      <td>13</td>\n      <td>93.366</td>\n      <td>1.0</td>\n      <td>0.0</td>\n    </tr>\n  </tbody>\n</table>\n</div>"
     },
     "execution_count": 21,
     "metadata": {},
     "output_type": "execute_result"
    }
   ],
   "source": [
    "df_train.head()"
   ],
   "metadata": {
    "collapsed": false,
    "ExecuteTime": {
     "end_time": "2023-08-24T02:18:04.810519Z",
     "start_time": "2023-08-24T02:18:04.800269Z"
    }
   },
   "id": "f2aad5bbb7d2bee3"
  },
  {
   "cell_type": "code",
   "execution_count": 22,
   "outputs": [
    {
     "data": {
      "text/plain": "        id        date  store_nbr      family  onpromotion   city      state  \\\n0  3000888  2017-08-16          1  AUTOMOTIVE            0  Quito  Pichincha   \n1  3000889  2017-08-16          1   BABY CARE            0  Quito  Pichincha   \n2  3000890  2017-08-16          1      BEAUTY            2  Quito  Pichincha   \n3  3000891  2017-08-16          1   BEVERAGES           20  Quito  Pichincha   \n4  3000892  2017-08-16          1       BOOKS            0  Quito  Pichincha   \n\n  type  cluster  dcoilwtico  holiday?  \n0    D       13        46.8       0.0  \n1    D       13        46.8       0.0  \n2    D       13        46.8       0.0  \n3    D       13        46.8       0.0  \n4    D       13        46.8       0.0  ",
      "text/html": "<div>\n<style scoped>\n    .dataframe tbody tr th:only-of-type {\n        vertical-align: middle;\n    }\n\n    .dataframe tbody tr th {\n        vertical-align: top;\n    }\n\n    .dataframe thead th {\n        text-align: right;\n    }\n</style>\n<table border=\"1\" class=\"dataframe\">\n  <thead>\n    <tr style=\"text-align: right;\">\n      <th></th>\n      <th>id</th>\n      <th>date</th>\n      <th>store_nbr</th>\n      <th>family</th>\n      <th>onpromotion</th>\n      <th>city</th>\n      <th>state</th>\n      <th>type</th>\n      <th>cluster</th>\n      <th>dcoilwtico</th>\n      <th>holiday?</th>\n    </tr>\n  </thead>\n  <tbody>\n    <tr>\n      <th>0</th>\n      <td>3000888</td>\n      <td>2017-08-16</td>\n      <td>1</td>\n      <td>AUTOMOTIVE</td>\n      <td>0</td>\n      <td>Quito</td>\n      <td>Pichincha</td>\n      <td>D</td>\n      <td>13</td>\n      <td>46.8</td>\n      <td>0.0</td>\n    </tr>\n    <tr>\n      <th>1</th>\n      <td>3000889</td>\n      <td>2017-08-16</td>\n      <td>1</td>\n      <td>BABY CARE</td>\n      <td>0</td>\n      <td>Quito</td>\n      <td>Pichincha</td>\n      <td>D</td>\n      <td>13</td>\n      <td>46.8</td>\n      <td>0.0</td>\n    </tr>\n    <tr>\n      <th>2</th>\n      <td>3000890</td>\n      <td>2017-08-16</td>\n      <td>1</td>\n      <td>BEAUTY</td>\n      <td>2</td>\n      <td>Quito</td>\n      <td>Pichincha</td>\n      <td>D</td>\n      <td>13</td>\n      <td>46.8</td>\n      <td>0.0</td>\n    </tr>\n    <tr>\n      <th>3</th>\n      <td>3000891</td>\n      <td>2017-08-16</td>\n      <td>1</td>\n      <td>BEVERAGES</td>\n      <td>20</td>\n      <td>Quito</td>\n      <td>Pichincha</td>\n      <td>D</td>\n      <td>13</td>\n      <td>46.8</td>\n      <td>0.0</td>\n    </tr>\n    <tr>\n      <th>4</th>\n      <td>3000892</td>\n      <td>2017-08-16</td>\n      <td>1</td>\n      <td>BOOKS</td>\n      <td>0</td>\n      <td>Quito</td>\n      <td>Pichincha</td>\n      <td>D</td>\n      <td>13</td>\n      <td>46.8</td>\n      <td>0.0</td>\n    </tr>\n  </tbody>\n</table>\n</div>"
     },
     "execution_count": 22,
     "metadata": {},
     "output_type": "execute_result"
    }
   ],
   "source": [
    "df_test.head()"
   ],
   "metadata": {
    "collapsed": false,
    "ExecuteTime": {
     "end_time": "2023-08-24T02:18:04.810855Z",
     "start_time": "2023-08-24T02:18:04.804853Z"
    }
   },
   "id": "2906a20c0ed83a3a"
  },
  {
   "cell_type": "code",
   "execution_count": 23,
   "outputs": [
    {
     "name": "stdout",
     "output_type": "stream",
     "text": [
      "Length of training dataset :  1048575\n",
      "Length of testing dataset  :  28512\n"
     ]
    }
   ],
   "source": [
    "print(\"Length of training dataset : \",len(df_train))\n",
    "print(\"Length of testing dataset  : \",len(df_test))"
   ],
   "metadata": {
    "collapsed": false,
    "ExecuteTime": {
     "end_time": "2023-08-24T02:18:04.998720Z",
     "start_time": "2023-08-24T02:18:04.984931Z"
    }
   },
   "id": "59c80dc76f077c78"
  },
  {
   "cell_type": "markdown",
   "source": [
    "### Description on both training and testing datasets"
   ],
   "metadata": {
    "collapsed": false
   },
   "id": "431cae607e7cf7fe"
  },
  {
   "cell_type": "code",
   "execution_count": 24,
   "outputs": [
    {
     "data": {
      "text/plain": "               id   store_nbr  onpromotion     cluster  dcoilwtico  \\\ncount  1048575.00  1048575.00   1048575.00  1048575.00  1048575.00   \nmean    524287.00       27.49         0.11        8.48       99.19   \nstd     302697.67       15.58         2.38        4.65        4.31   \nmin          0.00        1.00         0.00        1.00       86.65   \n25%     262143.50       14.00         0.00        4.00       96.29   \n50%     524287.00       27.00         0.00        9.00       99.19   \n75%     786430.50       41.00         0.00       13.00      101.92   \nmax    1048574.00       54.00       196.00       17.00      110.62   \n\n         holiday?       sales  \ncount  1048575.00  1048575.00  \nmean         0.13      244.53  \nstd          0.34      806.59  \nmin          0.00        0.00  \n25%          0.00        0.00  \n50%          0.00        1.00  \n75%          0.00      120.00  \nmax          1.00    46271.00  ",
      "text/html": "<div>\n<style scoped>\n    .dataframe tbody tr th:only-of-type {\n        vertical-align: middle;\n    }\n\n    .dataframe tbody tr th {\n        vertical-align: top;\n    }\n\n    .dataframe thead th {\n        text-align: right;\n    }\n</style>\n<table border=\"1\" class=\"dataframe\">\n  <thead>\n    <tr style=\"text-align: right;\">\n      <th></th>\n      <th>id</th>\n      <th>store_nbr</th>\n      <th>onpromotion</th>\n      <th>cluster</th>\n      <th>dcoilwtico</th>\n      <th>holiday?</th>\n      <th>sales</th>\n    </tr>\n  </thead>\n  <tbody>\n    <tr>\n      <th>count</th>\n      <td>1048575.00</td>\n      <td>1048575.00</td>\n      <td>1048575.00</td>\n      <td>1048575.00</td>\n      <td>1048575.00</td>\n      <td>1048575.00</td>\n      <td>1048575.00</td>\n    </tr>\n    <tr>\n      <th>mean</th>\n      <td>524287.00</td>\n      <td>27.49</td>\n      <td>0.11</td>\n      <td>8.48</td>\n      <td>99.19</td>\n      <td>0.13</td>\n      <td>244.53</td>\n    </tr>\n    <tr>\n      <th>std</th>\n      <td>302697.67</td>\n      <td>15.58</td>\n      <td>2.38</td>\n      <td>4.65</td>\n      <td>4.31</td>\n      <td>0.34</td>\n      <td>806.59</td>\n    </tr>\n    <tr>\n      <th>min</th>\n      <td>0.00</td>\n      <td>1.00</td>\n      <td>0.00</td>\n      <td>1.00</td>\n      <td>86.65</td>\n      <td>0.00</td>\n      <td>0.00</td>\n    </tr>\n    <tr>\n      <th>25%</th>\n      <td>262143.50</td>\n      <td>14.00</td>\n      <td>0.00</td>\n      <td>4.00</td>\n      <td>96.29</td>\n      <td>0.00</td>\n      <td>0.00</td>\n    </tr>\n    <tr>\n      <th>50%</th>\n      <td>524287.00</td>\n      <td>27.00</td>\n      <td>0.00</td>\n      <td>9.00</td>\n      <td>99.19</td>\n      <td>0.00</td>\n      <td>1.00</td>\n    </tr>\n    <tr>\n      <th>75%</th>\n      <td>786430.50</td>\n      <td>41.00</td>\n      <td>0.00</td>\n      <td>13.00</td>\n      <td>101.92</td>\n      <td>0.00</td>\n      <td>120.00</td>\n    </tr>\n    <tr>\n      <th>max</th>\n      <td>1048574.00</td>\n      <td>54.00</td>\n      <td>196.00</td>\n      <td>17.00</td>\n      <td>110.62</td>\n      <td>1.00</td>\n      <td>46271.00</td>\n    </tr>\n  </tbody>\n</table>\n</div>"
     },
     "execution_count": 24,
     "metadata": {},
     "output_type": "execute_result"
    }
   ],
   "source": [
    "df_train.describe().round(2)"
   ],
   "metadata": {
    "collapsed": false,
    "ExecuteTime": {
     "end_time": "2023-08-24T02:18:05.694985Z",
     "start_time": "2023-08-24T02:18:05.574903Z"
    }
   },
   "id": "a4b57c192b2aa16e"
  },
  {
   "cell_type": "code",
   "execution_count": 25,
   "outputs": [
    {
     "data": {
      "text/plain": "               id  store_nbr  onpromotion   cluster  dcoilwtico  holiday?\ncount    28512.00   28512.00     28512.00  28512.00    28512.00  28512.00\nmean   3015143.50      27.50         6.97      8.48       47.24      0.06\nstd       8230.85      15.59        20.68      4.65        0.65      0.24\nmin    3000888.00       1.00         0.00      1.00       45.96      0.00\n25%    3008015.75      14.00         0.00      4.00       47.00      0.00\n50%    3015143.50      27.50         0.00      8.50       47.24      0.00\n75%    3022271.25      41.00         6.00     13.00       47.46      0.00\nmax    3029399.00      54.00       646.00     17.00       48.59      1.00",
      "text/html": "<div>\n<style scoped>\n    .dataframe tbody tr th:only-of-type {\n        vertical-align: middle;\n    }\n\n    .dataframe tbody tr th {\n        vertical-align: top;\n    }\n\n    .dataframe thead th {\n        text-align: right;\n    }\n</style>\n<table border=\"1\" class=\"dataframe\">\n  <thead>\n    <tr style=\"text-align: right;\">\n      <th></th>\n      <th>id</th>\n      <th>store_nbr</th>\n      <th>onpromotion</th>\n      <th>cluster</th>\n      <th>dcoilwtico</th>\n      <th>holiday?</th>\n    </tr>\n  </thead>\n  <tbody>\n    <tr>\n      <th>count</th>\n      <td>28512.00</td>\n      <td>28512.00</td>\n      <td>28512.00</td>\n      <td>28512.00</td>\n      <td>28512.00</td>\n      <td>28512.00</td>\n    </tr>\n    <tr>\n      <th>mean</th>\n      <td>3015143.50</td>\n      <td>27.50</td>\n      <td>6.97</td>\n      <td>8.48</td>\n      <td>47.24</td>\n      <td>0.06</td>\n    </tr>\n    <tr>\n      <th>std</th>\n      <td>8230.85</td>\n      <td>15.59</td>\n      <td>20.68</td>\n      <td>4.65</td>\n      <td>0.65</td>\n      <td>0.24</td>\n    </tr>\n    <tr>\n      <th>min</th>\n      <td>3000888.00</td>\n      <td>1.00</td>\n      <td>0.00</td>\n      <td>1.00</td>\n      <td>45.96</td>\n      <td>0.00</td>\n    </tr>\n    <tr>\n      <th>25%</th>\n      <td>3008015.75</td>\n      <td>14.00</td>\n      <td>0.00</td>\n      <td>4.00</td>\n      <td>47.00</td>\n      <td>0.00</td>\n    </tr>\n    <tr>\n      <th>50%</th>\n      <td>3015143.50</td>\n      <td>27.50</td>\n      <td>0.00</td>\n      <td>8.50</td>\n      <td>47.24</td>\n      <td>0.00</td>\n    </tr>\n    <tr>\n      <th>75%</th>\n      <td>3022271.25</td>\n      <td>41.00</td>\n      <td>6.00</td>\n      <td>13.00</td>\n      <td>47.46</td>\n      <td>0.00</td>\n    </tr>\n    <tr>\n      <th>max</th>\n      <td>3029399.00</td>\n      <td>54.00</td>\n      <td>646.00</td>\n      <td>17.00</td>\n      <td>48.59</td>\n      <td>1.00</td>\n    </tr>\n  </tbody>\n</table>\n</div>"
     },
     "execution_count": 25,
     "metadata": {},
     "output_type": "execute_result"
    }
   ],
   "source": [
    "df_test.describe().round(2)"
   ],
   "metadata": {
    "collapsed": false,
    "ExecuteTime": {
     "end_time": "2023-08-24T02:18:05.870424Z",
     "start_time": "2023-08-24T02:18:05.858972Z"
    }
   },
   "id": "eceac70ee0691c1c"
  },
  {
   "cell_type": "markdown",
   "source": [
    "### Information about both training and testing datasets"
   ],
   "metadata": {
    "collapsed": false
   },
   "id": "96fb00b0cedd8261"
  },
  {
   "cell_type": "code",
   "execution_count": 26,
   "outputs": [
    {
     "name": "stdout",
     "output_type": "stream",
     "text": [
      "<class 'pandas.core.frame.DataFrame'>\n",
      "RangeIndex: 1048575 entries, 0 to 1048574\n",
      "Data columns (total 12 columns):\n",
      " #   Column       Non-Null Count    Dtype  \n",
      "---  ------       --------------    -----  \n",
      " 0   id           1048575 non-null  int64  \n",
      " 1   date         1048575 non-null  object \n",
      " 2   store_nbr    1048575 non-null  int64  \n",
      " 3   family       1048575 non-null  object \n",
      " 4   onpromotion  1048575 non-null  int64  \n",
      " 5   city         1048575 non-null  object \n",
      " 6   state        1048575 non-null  object \n",
      " 7   type         1048575 non-null  object \n",
      " 8   cluster      1048575 non-null  int64  \n",
      " 9   dcoilwtico   1048575 non-null  float64\n",
      " 10  holiday?     1048575 non-null  float64\n",
      " 11  sales        1048575 non-null  float64\n",
      "dtypes: float64(3), int64(4), object(5)\n",
      "memory usage: 96.0+ MB\n"
     ]
    }
   ],
   "source": [
    "df_train.info()"
   ],
   "metadata": {
    "collapsed": false,
    "ExecuteTime": {
     "end_time": "2023-08-24T02:18:06.758179Z",
     "start_time": "2023-08-24T02:18:06.665416Z"
    }
   },
   "id": "9a2a2c26e42d8e23"
  },
  {
   "cell_type": "code",
   "execution_count": 27,
   "outputs": [
    {
     "name": "stdout",
     "output_type": "stream",
     "text": [
      "<class 'pandas.core.frame.DataFrame'>\n",
      "RangeIndex: 28512 entries, 0 to 28511\n",
      "Data columns (total 11 columns):\n",
      " #   Column       Non-Null Count  Dtype  \n",
      "---  ------       --------------  -----  \n",
      " 0   id           28512 non-null  int64  \n",
      " 1   date         28512 non-null  object \n",
      " 2   store_nbr    28512 non-null  int64  \n",
      " 3   family       28512 non-null  object \n",
      " 4   onpromotion  28512 non-null  int64  \n",
      " 5   city         28512 non-null  object \n",
      " 6   state        28512 non-null  object \n",
      " 7   type         28512 non-null  object \n",
      " 8   cluster      28512 non-null  int64  \n",
      " 9   dcoilwtico   28512 non-null  float64\n",
      " 10  holiday?     28512 non-null  float64\n",
      "dtypes: float64(2), int64(4), object(5)\n",
      "memory usage: 2.4+ MB\n"
     ]
    }
   ],
   "source": [
    "df_test.info()"
   ],
   "metadata": {
    "collapsed": false,
    "ExecuteTime": {
     "end_time": "2023-08-24T02:18:06.981156Z",
     "start_time": "2023-08-24T02:18:06.968960Z"
    }
   },
   "id": "23f0cc504eda6add"
  },
  {
   "cell_type": "markdown",
   "source": [
    "### Conversion of date from object type to datetime[64ns] type"
   ],
   "metadata": {
    "collapsed": false
   },
   "id": "88f11b2972fa6fb9"
  },
  {
   "cell_type": "code",
   "execution_count": 28,
   "outputs": [],
   "source": [
    "df_train[\"date\"] = pd.to_datetime(df_train[\"date\"])\n",
    "df_test[\"date\"] = pd.to_datetime(df_test[\"date\"])"
   ],
   "metadata": {
    "collapsed": false,
    "ExecuteTime": {
     "end_time": "2023-08-24T02:18:07.847405Z",
     "start_time": "2023-08-24T02:18:07.811573Z"
    }
   },
   "id": "4e987cbe129c4b1c"
  },
  {
   "cell_type": "markdown",
   "source": [
    "### Checking for \"store\" column"
   ],
   "metadata": {
    "collapsed": false
   },
   "id": "4ab5ef06bb0c7949"
  },
  {
   "cell_type": "code",
   "execution_count": 29,
   "outputs": [
    {
     "data": {
      "text/plain": "array([ 1,  2,  3,  4,  5,  6,  7,  8,  9, 10, 11, 12, 13, 14, 15, 16, 17,\n       18, 19, 20, 21, 22, 23, 24, 25, 26, 27, 28, 29, 30, 31, 32, 33, 34,\n       35, 36, 37, 38, 39, 40, 41, 42, 43, 44, 45, 46, 47, 48, 49, 50, 51,\n       52, 53, 54])"
     },
     "execution_count": 29,
     "metadata": {},
     "output_type": "execute_result"
    }
   ],
   "source": [
    "store_num_train = df_train[\"store_nbr\"].unique()\n",
    "store_num_train.sort()\n",
    "store_num_train"
   ],
   "metadata": {
    "collapsed": false,
    "ExecuteTime": {
     "end_time": "2023-08-24T02:18:08.626538Z",
     "start_time": "2023-08-24T02:18:08.618016Z"
    }
   },
   "id": "bcc307c46bb26582"
  },
  {
   "cell_type": "code",
   "execution_count": 30,
   "outputs": [
    {
     "data": {
      "text/plain": "array([ 1,  2,  3,  4,  5,  6,  7,  8,  9, 10, 11, 12, 13, 14, 15, 16, 17,\n       18, 19, 20, 21, 22, 23, 24, 25, 26, 27, 28, 29, 30, 31, 32, 33, 34,\n       35, 36, 37, 38, 39, 40, 41, 42, 43, 44, 45, 46, 47, 48, 49, 50, 51,\n       52, 53, 54])"
     },
     "execution_count": 30,
     "metadata": {},
     "output_type": "execute_result"
    }
   ],
   "source": [
    "store_num_test = df_test[\"store_nbr\"].unique()\n",
    "store_num_test.sort()\n",
    "store_num_test"
   ],
   "metadata": {
    "collapsed": false,
    "ExecuteTime": {
     "end_time": "2023-08-24T02:18:09.001511Z",
     "start_time": "2023-08-24T02:18:08.992196Z"
    }
   },
   "id": "1cbb9e3f4f8f77f9"
  },
  {
   "cell_type": "markdown",
   "source": [
    "### Subtracting each element of store numbers for convenience"
   ],
   "metadata": {
    "collapsed": false
   },
   "id": "9ab807f199ed9968"
  },
  {
   "cell_type": "code",
   "execution_count": 59,
   "outputs": [],
   "source": [
    "df_train_1 = df_train.copy()\n",
    "df_test_1 = df_test.copy()\n",
    "df_train_1[\"store_nbr\"] = df_train_1[\"store_nbr\"] - 1\n",
    "df_test_1[\"store_nbr\"] = df_test_1[\"store_nbr\"] - 1"
   ],
   "metadata": {
    "collapsed": false,
    "ExecuteTime": {
     "end_time": "2023-08-24T02:27:47.379189Z",
     "start_time": "2023-08-24T02:27:47.309677Z"
    }
   },
   "id": "39b6ade447203d23"
  },
  {
   "cell_type": "markdown",
   "source": [
    "### Binary encoding function"
   ],
   "metadata": {
    "collapsed": false
   },
   "id": "1bb354b873e3390"
  },
  {
   "cell_type": "code",
   "execution_count": 60,
   "outputs": [],
   "source": [
    "def binary_enc(self, df):\n",
    "    bin_convert = lambda x: self.dec_to_bin(x)\n",
    "    bin_list = list(map(bin_convert, df))\n",
    "    len_of_each_ele = lambda x: len(x)\n",
    "    max_len = max(list(map(len_of_each_ele, bin_list)))\n",
    "    optimi_bin = lambda x: self.max_len_bin(df, max_len)\n",
    "    bin_stabi = list(map(optimi_bin, bin_list))\n",
    "    cols = self.column_names(df.name, max_len)\n",
    "    df_num = pd.DataFrame(bin_stabi, columns=cols)\n",
    "    return df_num"
   ],
   "metadata": {
    "collapsed": false,
    "ExecuteTime": {
     "end_time": "2023-08-24T02:27:52.502168Z",
     "start_time": "2023-08-24T02:27:52.490702Z"
    }
   },
   "id": "54c9678de3127f75"
  },
  {
   "cell_type": "markdown",
   "source": [
    "### Performing binary encoding for \"store_nbr\" column"
   ],
   "metadata": {
    "collapsed": false
   },
   "id": "f320c0e9ddac976f"
  },
  {
   "cell_type": "code",
   "execution_count": 54,
   "outputs": [],
   "source": [
    "eb1 = EncodeBinary()\n",
    "store_num_train = binary_enc(df_train_1[\"store_nbr\"])\n",
    "store_num_train.head()"
   ],
   "metadata": {
    "collapsed": false,
    "ExecuteTime": {
     "end_time": "2023-08-24T02:26:25.819090Z",
     "start_time": "2023-08-24T02:26:25.812767Z"
    }
   },
   "id": "a38c391f13f3947a"
  },
  {
   "cell_type": "code",
   "execution_count": 41,
   "outputs": [],
   "source": [
    "bin_convert = lambda x: eb1.dec_to_bin(x)\n",
    "bin_list = list(map(bin_convert,df_train_1[\"store_nbr\"]))\n",
    "len_of_each_ele = lambda x: len(x)\n",
    "max_len = max(list(map(len_of_each_ele,bin_list)))\n",
    "optimi_bin = lambda x: eb1.max_len_bin(x,max_len)\n",
    "bin_stabi = list(map(optimi_bin,bin_list))\n",
    "cols = eb1.column_names(df_train_1[\"store_nbr\"].name,max_len)\n",
    "store_num_train = pd.DataFrame(bin_stabi,columns=cols)\n",
    "store_num_train.head()"
   ],
   "metadata": {
    "collapsed": false
   },
   "id": "c270e54e60777bd5"
  },
  {
   "cell_type": "code",
   "execution_count": 42,
   "outputs": [],
   "source": [
    "bin_convert = lambda x: eb1.dec_to_bin(x)\n",
    "bin_list = list(map(bin_convert,df_test_1[\"store_nbr\"]))\n",
    "len_of_each_ele = lambda x: len(x)\n",
    "max_len = max(list(map(len_of_each_ele,bin_list)))\n",
    "optimi_bin = lambda x: eb1.max_len_bin(x,max_len)\n",
    "bin_stabi = list(map(optimi_bin,bin_list))\n",
    "cols = eb1.column_names(df_test_1[\"store_nbr\"].name,max_len)\n",
    "store_num_test = pd.DataFrame(bin_stabi,columns=cols)\n",
    "store_num_test.head()"
   ],
   "metadata": {
    "collapsed": false
   },
   "id": "90051f396c336f55"
  },
  {
   "cell_type": "code",
   "execution_count": 43,
   "outputs": [
    {
     "name": "stdout",
     "output_type": "stream",
     "text": [
      "Number of rows in training set :  1048575\n",
      "Number of rows in testing set  :  28512\n"
     ]
    }
   ],
   "source": [
    "print(\"Number of rows in training set : \",len(store_num_train))\n",
    "print(\"Number of rows in testing set  : \",len(store_num_test))"
   ],
   "metadata": {
    "collapsed": false,
    "ExecuteTime": {
     "end_time": "2023-08-24T01:57:52.065752Z",
     "start_time": "2023-08-24T01:57:52.055736Z"
    }
   },
   "id": "2a389f87b64b58c0"
  },
  {
   "cell_type": "code",
   "execution_count": 50,
   "outputs": [],
   "source": [
    "df_train_2 = df_train_1.copy()\n",
    "df_test_2 = df_test_1.copy()\n",
    "df_train_2[store_num_train.columns.values] = store_num_train\n",
    "df_test_2[store_num_test.columns.values] = store_num_test\n",
    "df_train_2.drop(\"store_nbr\",axis=1,inplace=True)\n",
    "df_test_2.drop(\"store_nbr\",axis=1,inplace=True)\n",
    "df_train_2 = df_train_2[[\"id\",\"date\",\"store_nbr_0\",\"store_nbr_1\",\"store_nbr_2\",\"store_nbr_3\",\"store_nbr_4\",\"store_nbr_5\",\"family\",\"onpromotion\",\"city\",\"state\",\"type\",\"cluster\",\"dcoilwtico\",\"holiday?\",\"sales\"]]\n",
    "df_test_2 = df_test_2[[\"id\",\"date\",\"store_nbr_0\",\"store_nbr_1\",\"store_nbr_2\",\"store_nbr_3\",\"store_nbr_4\",\"store_nbr_5\",\"family\",\"onpromotion\",\"city\",\"state\",\"type\",\"cluster\",\"dcoilwtico\",\"holiday?\"]]"
   ],
   "metadata": {
    "collapsed": false,
    "ExecuteTime": {
     "end_time": "2023-08-24T02:00:15.782351Z",
     "start_time": "2023-08-24T02:00:15.641391Z"
    }
   },
   "id": "6ec816d6e2c9a372"
  },
  {
   "cell_type": "code",
   "execution_count": 51,
   "outputs": [
    {
     "data": {
      "text/plain": "   id       date  store_nbr_0  store_nbr_1  store_nbr_2  store_nbr_3  \\\n0   0 2013-01-01            0            0            0            0   \n1   1 2013-01-01            0            0            0            0   \n2   2 2013-01-01            0            0            0            0   \n3   3 2013-01-01            0            0            0            0   \n4   4 2013-01-01            0            0            0            0   \n\n   store_nbr_4  store_nbr_5      family  onpromotion   city      state type  \\\n0            0            0  AUTOMOTIVE            0  Quito  Pichincha    D   \n1            0            0   BABY CARE            0  Quito  Pichincha    D   \n2            0            0      BEAUTY            0  Quito  Pichincha    D   \n3            0            0   BEVERAGES            0  Quito  Pichincha    D   \n4            0            0       BOOKS            0  Quito  Pichincha    D   \n\n   cluster  dcoilwtico  holiday?  sales  \n0       13      93.366       1.0    0.0  \n1       13      93.366       1.0    0.0  \n2       13      93.366       1.0    0.0  \n3       13      93.366       1.0    0.0  \n4       13      93.366       1.0    0.0  ",
      "text/html": "<div>\n<style scoped>\n    .dataframe tbody tr th:only-of-type {\n        vertical-align: middle;\n    }\n\n    .dataframe tbody tr th {\n        vertical-align: top;\n    }\n\n    .dataframe thead th {\n        text-align: right;\n    }\n</style>\n<table border=\"1\" class=\"dataframe\">\n  <thead>\n    <tr style=\"text-align: right;\">\n      <th></th>\n      <th>id</th>\n      <th>date</th>\n      <th>store_nbr_0</th>\n      <th>store_nbr_1</th>\n      <th>store_nbr_2</th>\n      <th>store_nbr_3</th>\n      <th>store_nbr_4</th>\n      <th>store_nbr_5</th>\n      <th>family</th>\n      <th>onpromotion</th>\n      <th>city</th>\n      <th>state</th>\n      <th>type</th>\n      <th>cluster</th>\n      <th>dcoilwtico</th>\n      <th>holiday?</th>\n      <th>sales</th>\n    </tr>\n  </thead>\n  <tbody>\n    <tr>\n      <th>0</th>\n      <td>0</td>\n      <td>2013-01-01</td>\n      <td>0</td>\n      <td>0</td>\n      <td>0</td>\n      <td>0</td>\n      <td>0</td>\n      <td>0</td>\n      <td>AUTOMOTIVE</td>\n      <td>0</td>\n      <td>Quito</td>\n      <td>Pichincha</td>\n      <td>D</td>\n      <td>13</td>\n      <td>93.366</td>\n      <td>1.0</td>\n      <td>0.0</td>\n    </tr>\n    <tr>\n      <th>1</th>\n      <td>1</td>\n      <td>2013-01-01</td>\n      <td>0</td>\n      <td>0</td>\n      <td>0</td>\n      <td>0</td>\n      <td>0</td>\n      <td>0</td>\n      <td>BABY CARE</td>\n      <td>0</td>\n      <td>Quito</td>\n      <td>Pichincha</td>\n      <td>D</td>\n      <td>13</td>\n      <td>93.366</td>\n      <td>1.0</td>\n      <td>0.0</td>\n    </tr>\n    <tr>\n      <th>2</th>\n      <td>2</td>\n      <td>2013-01-01</td>\n      <td>0</td>\n      <td>0</td>\n      <td>0</td>\n      <td>0</td>\n      <td>0</td>\n      <td>0</td>\n      <td>BEAUTY</td>\n      <td>0</td>\n      <td>Quito</td>\n      <td>Pichincha</td>\n      <td>D</td>\n      <td>13</td>\n      <td>93.366</td>\n      <td>1.0</td>\n      <td>0.0</td>\n    </tr>\n    <tr>\n      <th>3</th>\n      <td>3</td>\n      <td>2013-01-01</td>\n      <td>0</td>\n      <td>0</td>\n      <td>0</td>\n      <td>0</td>\n      <td>0</td>\n      <td>0</td>\n      <td>BEVERAGES</td>\n      <td>0</td>\n      <td>Quito</td>\n      <td>Pichincha</td>\n      <td>D</td>\n      <td>13</td>\n      <td>93.366</td>\n      <td>1.0</td>\n      <td>0.0</td>\n    </tr>\n    <tr>\n      <th>4</th>\n      <td>4</td>\n      <td>2013-01-01</td>\n      <td>0</td>\n      <td>0</td>\n      <td>0</td>\n      <td>0</td>\n      <td>0</td>\n      <td>0</td>\n      <td>BOOKS</td>\n      <td>0</td>\n      <td>Quito</td>\n      <td>Pichincha</td>\n      <td>D</td>\n      <td>13</td>\n      <td>93.366</td>\n      <td>1.0</td>\n      <td>0.0</td>\n    </tr>\n  </tbody>\n</table>\n</div>"
     },
     "execution_count": 51,
     "metadata": {},
     "output_type": "execute_result"
    }
   ],
   "source": [
    "df_train_2.head()"
   ],
   "metadata": {
    "collapsed": false,
    "ExecuteTime": {
     "end_time": "2023-08-24T02:00:16.777160Z",
     "start_time": "2023-08-24T02:00:16.770843Z"
    }
   },
   "id": "35d6cc7b318f111"
  },
  {
   "cell_type": "code",
   "execution_count": 52,
   "outputs": [
    {
     "data": {
      "text/plain": "        id       date  store_nbr_0  store_nbr_1  store_nbr_2  store_nbr_3  \\\n0  3000888 2017-08-16            0            0            0            0   \n1  3000889 2017-08-16            0            0            0            0   \n2  3000890 2017-08-16            0            0            0            0   \n3  3000891 2017-08-16            0            0            0            0   \n4  3000892 2017-08-16            0            0            0            0   \n\n   store_nbr_4  store_nbr_5      family  onpromotion   city      state type  \\\n0            0            0  AUTOMOTIVE            0  Quito  Pichincha    D   \n1            0            0   BABY CARE            0  Quito  Pichincha    D   \n2            0            0      BEAUTY            2  Quito  Pichincha    D   \n3            0            0   BEVERAGES           20  Quito  Pichincha    D   \n4            0            0       BOOKS            0  Quito  Pichincha    D   \n\n   cluster  dcoilwtico  holiday?  \n0       13        46.8       0.0  \n1       13        46.8       0.0  \n2       13        46.8       0.0  \n3       13        46.8       0.0  \n4       13        46.8       0.0  ",
      "text/html": "<div>\n<style scoped>\n    .dataframe tbody tr th:only-of-type {\n        vertical-align: middle;\n    }\n\n    .dataframe tbody tr th {\n        vertical-align: top;\n    }\n\n    .dataframe thead th {\n        text-align: right;\n    }\n</style>\n<table border=\"1\" class=\"dataframe\">\n  <thead>\n    <tr style=\"text-align: right;\">\n      <th></th>\n      <th>id</th>\n      <th>date</th>\n      <th>store_nbr_0</th>\n      <th>store_nbr_1</th>\n      <th>store_nbr_2</th>\n      <th>store_nbr_3</th>\n      <th>store_nbr_4</th>\n      <th>store_nbr_5</th>\n      <th>family</th>\n      <th>onpromotion</th>\n      <th>city</th>\n      <th>state</th>\n      <th>type</th>\n      <th>cluster</th>\n      <th>dcoilwtico</th>\n      <th>holiday?</th>\n    </tr>\n  </thead>\n  <tbody>\n    <tr>\n      <th>0</th>\n      <td>3000888</td>\n      <td>2017-08-16</td>\n      <td>0</td>\n      <td>0</td>\n      <td>0</td>\n      <td>0</td>\n      <td>0</td>\n      <td>0</td>\n      <td>AUTOMOTIVE</td>\n      <td>0</td>\n      <td>Quito</td>\n      <td>Pichincha</td>\n      <td>D</td>\n      <td>13</td>\n      <td>46.8</td>\n      <td>0.0</td>\n    </tr>\n    <tr>\n      <th>1</th>\n      <td>3000889</td>\n      <td>2017-08-16</td>\n      <td>0</td>\n      <td>0</td>\n      <td>0</td>\n      <td>0</td>\n      <td>0</td>\n      <td>0</td>\n      <td>BABY CARE</td>\n      <td>0</td>\n      <td>Quito</td>\n      <td>Pichincha</td>\n      <td>D</td>\n      <td>13</td>\n      <td>46.8</td>\n      <td>0.0</td>\n    </tr>\n    <tr>\n      <th>2</th>\n      <td>3000890</td>\n      <td>2017-08-16</td>\n      <td>0</td>\n      <td>0</td>\n      <td>0</td>\n      <td>0</td>\n      <td>0</td>\n      <td>0</td>\n      <td>BEAUTY</td>\n      <td>2</td>\n      <td>Quito</td>\n      <td>Pichincha</td>\n      <td>D</td>\n      <td>13</td>\n      <td>46.8</td>\n      <td>0.0</td>\n    </tr>\n    <tr>\n      <th>3</th>\n      <td>3000891</td>\n      <td>2017-08-16</td>\n      <td>0</td>\n      <td>0</td>\n      <td>0</td>\n      <td>0</td>\n      <td>0</td>\n      <td>0</td>\n      <td>BEVERAGES</td>\n      <td>20</td>\n      <td>Quito</td>\n      <td>Pichincha</td>\n      <td>D</td>\n      <td>13</td>\n      <td>46.8</td>\n      <td>0.0</td>\n    </tr>\n    <tr>\n      <th>4</th>\n      <td>3000892</td>\n      <td>2017-08-16</td>\n      <td>0</td>\n      <td>0</td>\n      <td>0</td>\n      <td>0</td>\n      <td>0</td>\n      <td>0</td>\n      <td>BOOKS</td>\n      <td>0</td>\n      <td>Quito</td>\n      <td>Pichincha</td>\n      <td>D</td>\n      <td>13</td>\n      <td>46.8</td>\n      <td>0.0</td>\n    </tr>\n  </tbody>\n</table>\n</div>"
     },
     "execution_count": 52,
     "metadata": {},
     "output_type": "execute_result"
    }
   ],
   "source": [
    "df_test_2.head()"
   ],
   "metadata": {
    "collapsed": false,
    "ExecuteTime": {
     "end_time": "2023-08-24T02:00:21.505675Z",
     "start_time": "2023-08-24T02:00:21.485336Z"
    }
   },
   "id": "6ab21461dd1eefd6"
  },
  {
   "cell_type": "code",
   "execution_count": 54,
   "outputs": [
    {
     "name": "stdout",
     "output_type": "stream",
     "text": [
      "Number of rows in training set :  1048575\n",
      "Number of rows in testing set  :  28512\n"
     ]
    }
   ],
   "source": [
    "print(\"Number of rows in training set : \",len(df_train_2))\n",
    "print(\"Number of rows in testing set  : \",len(df_test_2))"
   ],
   "metadata": {
    "collapsed": false,
    "ExecuteTime": {
     "end_time": "2023-08-24T02:00:56.357639Z",
     "start_time": "2023-08-24T02:00:56.346701Z"
    }
   },
   "id": "bbc9a524a4271128"
  },
  {
   "cell_type": "markdown",
   "source": [
    "### Checking for \"family\" column"
   ],
   "metadata": {
    "collapsed": false
   },
   "id": "8b00641f3bca6bd5"
  },
  {
   "cell_type": "code",
   "execution_count": 66,
   "outputs": [
    {
     "data": {
      "text/plain": "array(['AUTOMOTIVE', 'BABY CARE', 'BEAUTY', 'BEVERAGES', 'BOOKS',\n       'BREAD/BAKERY', 'CELEBRATION', 'CLEANING', 'DAIRY', 'DELI', 'EGGS',\n       'FROZEN FOODS', 'GROCERY I', 'GROCERY II', 'HARDWARE',\n       'HOME AND KITCHEN I', 'HOME AND KITCHEN II', 'HOME APPLIANCES',\n       'HOME CARE', 'LADIESWEAR', 'LAWN AND GARDEN', 'LINGERIE',\n       'LIQUOR,WINE,BEER', 'MAGAZINES', 'MEATS', 'PERSONAL CARE',\n       'PET SUPPLIES', 'PLAYERS AND ELECTRONICS', 'POULTRY',\n       'PREPARED FOODS', 'PRODUCE', 'SCHOOL AND OFFICE SUPPLIES',\n       'SEAFOOD'], dtype=object)"
     },
     "execution_count": 66,
     "metadata": {},
     "output_type": "execute_result"
    }
   ],
   "source": [
    "df_train_2[\"family\"].unique()"
   ],
   "metadata": {
    "collapsed": false,
    "ExecuteTime": {
     "end_time": "2023-08-24T02:07:29.360522Z",
     "start_time": "2023-08-24T02:07:29.341850Z"
    }
   },
   "id": "b04472e0d65c225b"
  },
  {
   "cell_type": "code",
   "execution_count": 67,
   "outputs": [
    {
     "data": {
      "text/plain": "array(['AUTOMOTIVE', 'BABY CARE', 'BEAUTY', 'BEVERAGES', 'BOOKS',\n       'BREAD/BAKERY', 'CELEBRATION', 'CLEANING', 'DAIRY', 'DELI', 'EGGS',\n       'FROZEN FOODS', 'GROCERY I', 'GROCERY II', 'HARDWARE',\n       'HOME AND KITCHEN I', 'HOME AND KITCHEN II', 'HOME APPLIANCES',\n       'HOME CARE', 'LADIESWEAR', 'LAWN AND GARDEN', 'LINGERIE',\n       'LIQUOR,WINE,BEER', 'MAGAZINES', 'MEATS', 'PERSONAL CARE',\n       'PET SUPPLIES', 'PLAYERS AND ELECTRONICS', 'POULTRY',\n       'PREPARED FOODS', 'PRODUCE', 'SCHOOL AND OFFICE SUPPLIES',\n       'SEAFOOD'], dtype=object)"
     },
     "execution_count": 67,
     "metadata": {},
     "output_type": "execute_result"
    }
   ],
   "source": [
    "df_test_2[\"family\"].unique()"
   ],
   "metadata": {
    "collapsed": false,
    "ExecuteTime": {
     "end_time": "2023-08-24T02:07:29.827380Z",
     "start_time": "2023-08-24T02:07:29.823632Z"
    }
   },
   "id": "9a693f0d06b39a2f"
  },
  {
   "cell_type": "markdown",
   "source": [
    "### Mapping family elements to numbers"
   ],
   "metadata": {
    "collapsed": false
   },
   "id": "c63cb66695468c22"
  },
  {
   "cell_type": "code",
   "execution_count": 68,
   "outputs": [
    {
     "data": {
      "text/plain": "{'AUTOMOTIVE': 0,\n 'BABY CARE': 1,\n 'BEAUTY': 2,\n 'BEVERAGES': 3,\n 'BOOKS': 4,\n 'BREAD/BAKERY': 5,\n 'CELEBRATION': 6,\n 'CLEANING': 7,\n 'DAIRY': 8,\n 'DELI': 9,\n 'EGGS': 10,\n 'FROZEN FOODS': 11,\n 'GROCERY I': 12,\n 'GROCERY II': 13,\n 'HARDWARE': 14,\n 'HOME AND KITCHEN I': 15,\n 'HOME AND KITCHEN II': 16,\n 'HOME APPLIANCES': 17,\n 'HOME CARE': 18,\n 'LADIESWEAR': 19,\n 'LAWN AND GARDEN': 20,\n 'LINGERIE': 21,\n 'LIQUOR,WINE,BEER': 22,\n 'MAGAZINES': 23,\n 'MEATS': 24,\n 'PERSONAL CARE': 25,\n 'PET SUPPLIES': 26,\n 'PLAYERS AND ELECTRONICS': 27,\n 'POULTRY': 28,\n 'PREPARED FOODS': 29,\n 'PRODUCE': 30,\n 'SCHOOL AND OFFICE SUPPLIES': 31,\n 'SEAFOOD': 32}"
     },
     "execution_count": 68,
     "metadata": {},
     "output_type": "execute_result"
    }
   ],
   "source": [
    "ctr = 0\n",
    "diction = dict()\n",
    "for i in df_train_2[\"family\"].unique():\n",
    "    diction[i] = ctr\n",
    "    ctr += 1\n",
    "diction"
   ],
   "metadata": {
    "collapsed": false,
    "ExecuteTime": {
     "end_time": "2023-08-24T02:07:30.942675Z",
     "start_time": "2023-08-24T02:07:30.920454Z"
    }
   },
   "id": "72b2b8368be2ed4a"
  },
  {
   "cell_type": "code",
   "execution_count": 69,
   "outputs": [],
   "source": [
    "fam_train = df_train_2[\"family\"].map(diction)\n",
    "fam_test = df_test_2[\"family\"].map(diction)"
   ],
   "metadata": {
    "collapsed": false,
    "ExecuteTime": {
     "end_time": "2023-08-24T02:07:32.690492Z",
     "start_time": "2023-08-24T02:07:32.655065Z"
    }
   },
   "id": "66624f27d924089c"
  },
  {
   "cell_type": "code",
   "execution_count": 70,
   "outputs": [
    {
     "data": {
      "text/plain": "0    0\n1    1\n2    2\n3    3\n4    4\nName: family, dtype: int64"
     },
     "execution_count": 70,
     "metadata": {},
     "output_type": "execute_result"
    }
   ],
   "source": [
    "fam_train.head()"
   ],
   "metadata": {
    "collapsed": false,
    "ExecuteTime": {
     "end_time": "2023-08-24T02:07:33.864665Z",
     "start_time": "2023-08-24T02:07:33.862957Z"
    }
   },
   "id": "f9324560434303b6"
  },
  {
   "cell_type": "code",
   "execution_count": 71,
   "outputs": [
    {
     "data": {
      "text/plain": "0    0\n1    1\n2    2\n3    3\n4    4\nName: family, dtype: int64"
     },
     "execution_count": 71,
     "metadata": {},
     "output_type": "execute_result"
    }
   ],
   "source": [
    "fam_test.head()"
   ],
   "metadata": {
    "collapsed": false,
    "ExecuteTime": {
     "end_time": "2023-08-24T02:07:38.565174Z",
     "start_time": "2023-08-24T02:07:38.558294Z"
    }
   },
   "id": "a63cb7c6321451e9"
  },
  {
   "cell_type": "code",
   "execution_count": 72,
   "outputs": [
    {
     "name": "stdout",
     "output_type": "stream",
     "text": [
      "Number of rows in training set :  1048575\n",
      "Number of rows in testing set  :  28512\n"
     ]
    }
   ],
   "source": [
    "print(\"Number of rows in training set : \",len(fam_train))\n",
    "print(\"Number of rows in testing set  : \",len(fam_test))"
   ],
   "metadata": {
    "collapsed": false,
    "ExecuteTime": {
     "end_time": "2023-08-24T02:07:56.374930Z",
     "start_time": "2023-08-24T02:07:56.360244Z"
    }
   },
   "id": "78a8f7b0c0801423"
  },
  {
   "cell_type": "markdown",
   "source": [
    "### Performing binary encoding on \"family\" column"
   ],
   "metadata": {
    "collapsed": false
   },
   "id": "dc5b94b064eaaf01"
  },
  {
   "cell_type": "code",
   "execution_count": null,
   "outputs": [],
   "source": [
    "bin_convert = lambda x: eb1.dec_to_bin(x)\n",
    "bin_list = list(map(bin_convert,df_train_1[\"store_nbr\"]))\n",
    "len_of_each_ele = lambda x: len(x)\n",
    "max_len = max(list(map(len_of_each_ele,bin_list)))\n",
    "optimi_bin = lambda x: eb1.max_len_bin(x,max_len)\n",
    "bin_stabi = list(map(optimi_bin,bin_list))\n",
    "cols = eb1.column_names(df_train_1[\"store_nbr\"].name,max_len)\n",
    "store_num_train = pd.DataFrame(bin_stabi,columns=cols)\n",
    "store_num_train.head()"
   ],
   "metadata": {
    "collapsed": false
   },
   "id": "92d673495cf47a6e"
  }
 ],
 "metadata": {
  "kernelspec": {
   "display_name": "Python 3",
   "language": "python",
   "name": "python3"
  },
  "language_info": {
   "codemirror_mode": {
    "name": "ipython",
    "version": 2
   },
   "file_extension": ".py",
   "mimetype": "text/x-python",
   "name": "python",
   "nbconvert_exporter": "python",
   "pygments_lexer": "ipython2",
   "version": "2.7.6"
  }
 },
 "nbformat": 4,
 "nbformat_minor": 5
}
