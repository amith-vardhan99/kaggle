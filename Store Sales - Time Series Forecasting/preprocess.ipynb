{
 "cells": [
  {
   "cell_type": "markdown",
   "source": [
    "## Data Preprocessing"
   ],
   "metadata": {
    "collapsed": false
   },
   "id": "70d75e05ec6a38e6"
  },
  {
   "cell_type": "markdown",
   "source": [
    "Now, we are done with exploratory data analysis of both training and testing datasets. Now, we should get into preprocessing for both the datasets as some of the features are not numerical."
   ],
   "metadata": {
    "collapsed": false
   },
   "id": "8b44fd20d813f38c"
  },
  {
   "cell_type": "markdown",
   "source": [
    "### Importing all packages"
   ],
   "metadata": {
    "collapsed": false
   },
   "id": "8df7d8eb34705c7c"
  },
  {
   "cell_type": "code",
   "execution_count": 231,
   "outputs": [],
   "source": [
    "import numpy as np\n",
    "import pandas as pd\n",
    "import matplotlib.pyplot as plt\n",
    "import seaborn as sns\n",
    "from sklearn.model_selection import *\n",
    "from sklearn.linear_model import *\n",
    "from math import *\n",
    "from sklearn.ensemble import *\n",
    "from sklearn.feature_selection import *\n",
    "from sklearn.feature_extraction import *\n",
    "from sklearn.naive_bayes import *\n",
    "from sklearn.discriminant_analysis import *\n",
    "from sklearn.preprocessing import *\n",
    "from sklearn.metrics import *\n",
    "from sklearn.neighbors import *\n",
    "from sklearn.cluster import *\n",
    "from category_encoders import *\n",
    "from binary_encoding import EncodeBinary"
   ],
   "metadata": {
    "collapsed": false,
    "ExecuteTime": {
     "end_time": "2023-08-24T01:08:09.806451Z",
     "start_time": "2023-08-24T01:08:09.797539Z"
    }
   },
   "id": "1c3770d529797ef1"
  },
  {
   "cell_type": "code",
   "execution_count": 232,
   "outputs": [],
   "source": [
    "df_train = pd.read_csv(\"train_eda.csv\")\n",
    "df_test = pd.read_csv(\"test_eda.csv\")"
   ],
   "metadata": {
    "collapsed": false,
    "ExecuteTime": {
     "end_time": "2023-08-24T01:08:11.301968Z",
     "start_time": "2023-08-24T01:08:10.764721Z"
    }
   },
   "id": "dac6517ca6863a08"
  },
  {
   "cell_type": "code",
   "execution_count": 233,
   "outputs": [
    {
     "data": {
      "text/plain": "   id        date  store_nbr      family  onpromotion   city      state type  \\\n0   0  2013-01-01          1  AUTOMOTIVE            0  Quito  Pichincha    D   \n1   1  2013-01-01          1   BABY CARE            0  Quito  Pichincha    D   \n2   2  2013-01-01          1      BEAUTY            0  Quito  Pichincha    D   \n3   3  2013-01-01          1   BEVERAGES            0  Quito  Pichincha    D   \n4   4  2013-01-01          1       BOOKS            0  Quito  Pichincha    D   \n\n   cluster  dcoilwtico  holiday?  sales  \n0       13      93.366       1.0    0.0  \n1       13      93.366       1.0    0.0  \n2       13      93.366       1.0    0.0  \n3       13      93.366       1.0    0.0  \n4       13      93.366       1.0    0.0  ",
      "text/html": "<div>\n<style scoped>\n    .dataframe tbody tr th:only-of-type {\n        vertical-align: middle;\n    }\n\n    .dataframe tbody tr th {\n        vertical-align: top;\n    }\n\n    .dataframe thead th {\n        text-align: right;\n    }\n</style>\n<table border=\"1\" class=\"dataframe\">\n  <thead>\n    <tr style=\"text-align: right;\">\n      <th></th>\n      <th>id</th>\n      <th>date</th>\n      <th>store_nbr</th>\n      <th>family</th>\n      <th>onpromotion</th>\n      <th>city</th>\n      <th>state</th>\n      <th>type</th>\n      <th>cluster</th>\n      <th>dcoilwtico</th>\n      <th>holiday?</th>\n      <th>sales</th>\n    </tr>\n  </thead>\n  <tbody>\n    <tr>\n      <th>0</th>\n      <td>0</td>\n      <td>2013-01-01</td>\n      <td>1</td>\n      <td>AUTOMOTIVE</td>\n      <td>0</td>\n      <td>Quito</td>\n      <td>Pichincha</td>\n      <td>D</td>\n      <td>13</td>\n      <td>93.366</td>\n      <td>1.0</td>\n      <td>0.0</td>\n    </tr>\n    <tr>\n      <th>1</th>\n      <td>1</td>\n      <td>2013-01-01</td>\n      <td>1</td>\n      <td>BABY CARE</td>\n      <td>0</td>\n      <td>Quito</td>\n      <td>Pichincha</td>\n      <td>D</td>\n      <td>13</td>\n      <td>93.366</td>\n      <td>1.0</td>\n      <td>0.0</td>\n    </tr>\n    <tr>\n      <th>2</th>\n      <td>2</td>\n      <td>2013-01-01</td>\n      <td>1</td>\n      <td>BEAUTY</td>\n      <td>0</td>\n      <td>Quito</td>\n      <td>Pichincha</td>\n      <td>D</td>\n      <td>13</td>\n      <td>93.366</td>\n      <td>1.0</td>\n      <td>0.0</td>\n    </tr>\n    <tr>\n      <th>3</th>\n      <td>3</td>\n      <td>2013-01-01</td>\n      <td>1</td>\n      <td>BEVERAGES</td>\n      <td>0</td>\n      <td>Quito</td>\n      <td>Pichincha</td>\n      <td>D</td>\n      <td>13</td>\n      <td>93.366</td>\n      <td>1.0</td>\n      <td>0.0</td>\n    </tr>\n    <tr>\n      <th>4</th>\n      <td>4</td>\n      <td>2013-01-01</td>\n      <td>1</td>\n      <td>BOOKS</td>\n      <td>0</td>\n      <td>Quito</td>\n      <td>Pichincha</td>\n      <td>D</td>\n      <td>13</td>\n      <td>93.366</td>\n      <td>1.0</td>\n      <td>0.0</td>\n    </tr>\n  </tbody>\n</table>\n</div>"
     },
     "execution_count": 233,
     "metadata": {},
     "output_type": "execute_result"
    }
   ],
   "source": [
    "df_train.head()"
   ],
   "metadata": {
    "collapsed": false,
    "ExecuteTime": {
     "end_time": "2023-08-24T01:08:11.307740Z",
     "start_time": "2023-08-24T01:08:11.305900Z"
    }
   },
   "id": "f2aad5bbb7d2bee3"
  },
  {
   "cell_type": "code",
   "execution_count": 234,
   "outputs": [
    {
     "data": {
      "text/plain": "        id        date  store_nbr      family  onpromotion   city      state  \\\n0  3000888  2017-08-16          1  AUTOMOTIVE            0  Quito  Pichincha   \n1  3000889  2017-08-16          1   BABY CARE            0  Quito  Pichincha   \n2  3000890  2017-08-16          1      BEAUTY            2  Quito  Pichincha   \n3  3000891  2017-08-16          1   BEVERAGES           20  Quito  Pichincha   \n4  3000892  2017-08-16          1       BOOKS            0  Quito  Pichincha   \n\n  type  cluster  dcoilwtico  holiday?  \n0    D       13        46.8       0.0  \n1    D       13        46.8       0.0  \n2    D       13        46.8       0.0  \n3    D       13        46.8       0.0  \n4    D       13        46.8       0.0  ",
      "text/html": "<div>\n<style scoped>\n    .dataframe tbody tr th:only-of-type {\n        vertical-align: middle;\n    }\n\n    .dataframe tbody tr th {\n        vertical-align: top;\n    }\n\n    .dataframe thead th {\n        text-align: right;\n    }\n</style>\n<table border=\"1\" class=\"dataframe\">\n  <thead>\n    <tr style=\"text-align: right;\">\n      <th></th>\n      <th>id</th>\n      <th>date</th>\n      <th>store_nbr</th>\n      <th>family</th>\n      <th>onpromotion</th>\n      <th>city</th>\n      <th>state</th>\n      <th>type</th>\n      <th>cluster</th>\n      <th>dcoilwtico</th>\n      <th>holiday?</th>\n    </tr>\n  </thead>\n  <tbody>\n    <tr>\n      <th>0</th>\n      <td>3000888</td>\n      <td>2017-08-16</td>\n      <td>1</td>\n      <td>AUTOMOTIVE</td>\n      <td>0</td>\n      <td>Quito</td>\n      <td>Pichincha</td>\n      <td>D</td>\n      <td>13</td>\n      <td>46.8</td>\n      <td>0.0</td>\n    </tr>\n    <tr>\n      <th>1</th>\n      <td>3000889</td>\n      <td>2017-08-16</td>\n      <td>1</td>\n      <td>BABY CARE</td>\n      <td>0</td>\n      <td>Quito</td>\n      <td>Pichincha</td>\n      <td>D</td>\n      <td>13</td>\n      <td>46.8</td>\n      <td>0.0</td>\n    </tr>\n    <tr>\n      <th>2</th>\n      <td>3000890</td>\n      <td>2017-08-16</td>\n      <td>1</td>\n      <td>BEAUTY</td>\n      <td>2</td>\n      <td>Quito</td>\n      <td>Pichincha</td>\n      <td>D</td>\n      <td>13</td>\n      <td>46.8</td>\n      <td>0.0</td>\n    </tr>\n    <tr>\n      <th>3</th>\n      <td>3000891</td>\n      <td>2017-08-16</td>\n      <td>1</td>\n      <td>BEVERAGES</td>\n      <td>20</td>\n      <td>Quito</td>\n      <td>Pichincha</td>\n      <td>D</td>\n      <td>13</td>\n      <td>46.8</td>\n      <td>0.0</td>\n    </tr>\n    <tr>\n      <th>4</th>\n      <td>3000892</td>\n      <td>2017-08-16</td>\n      <td>1</td>\n      <td>BOOKS</td>\n      <td>0</td>\n      <td>Quito</td>\n      <td>Pichincha</td>\n      <td>D</td>\n      <td>13</td>\n      <td>46.8</td>\n      <td>0.0</td>\n    </tr>\n  </tbody>\n</table>\n</div>"
     },
     "execution_count": 234,
     "metadata": {},
     "output_type": "execute_result"
    }
   ],
   "source": [
    "df_test.head()"
   ],
   "metadata": {
    "collapsed": false,
    "ExecuteTime": {
     "end_time": "2023-08-24T01:08:11.908759Z",
     "start_time": "2023-08-24T01:08:11.898169Z"
    }
   },
   "id": "2906a20c0ed83a3a"
  },
  {
   "cell_type": "code",
   "execution_count": 235,
   "outputs": [
    {
     "name": "stdout",
     "output_type": "stream",
     "text": [
      "Length of training dataset :  1048575\n",
      "Length of testing dataset  :  28512\n"
     ]
    }
   ],
   "source": [
    "print(\"Length of training dataset : \",len(df_train))\n",
    "print(\"Length of testing dataset  : \",len(df_test))"
   ],
   "metadata": {
    "collapsed": false,
    "ExecuteTime": {
     "end_time": "2023-08-24T01:08:12.506102Z",
     "start_time": "2023-08-24T01:08:12.502197Z"
    }
   },
   "id": "59c80dc76f077c78"
  },
  {
   "cell_type": "markdown",
   "source": [
    "### Description on both training and testing datasets"
   ],
   "metadata": {
    "collapsed": false
   },
   "id": "431cae607e7cf7fe"
  },
  {
   "cell_type": "code",
   "execution_count": 236,
   "outputs": [
    {
     "data": {
      "text/plain": "               id   store_nbr  onpromotion     cluster  dcoilwtico  \\\ncount  1048575.00  1048575.00   1048575.00  1048575.00  1048575.00   \nmean    524287.00       27.49         0.11        8.48       99.19   \nstd     302697.67       15.58         2.38        4.65        4.31   \nmin          0.00        1.00         0.00        1.00       86.65   \n25%     262143.50       14.00         0.00        4.00       96.29   \n50%     524287.00       27.00         0.00        9.00       99.19   \n75%     786430.50       41.00         0.00       13.00      101.92   \nmax    1048574.00       54.00       196.00       17.00      110.62   \n\n         holiday?       sales  \ncount  1048575.00  1048575.00  \nmean         0.13      244.53  \nstd          0.34      806.59  \nmin          0.00        0.00  \n25%          0.00        0.00  \n50%          0.00        1.00  \n75%          0.00      120.00  \nmax          1.00    46271.00  ",
      "text/html": "<div>\n<style scoped>\n    .dataframe tbody tr th:only-of-type {\n        vertical-align: middle;\n    }\n\n    .dataframe tbody tr th {\n        vertical-align: top;\n    }\n\n    .dataframe thead th {\n        text-align: right;\n    }\n</style>\n<table border=\"1\" class=\"dataframe\">\n  <thead>\n    <tr style=\"text-align: right;\">\n      <th></th>\n      <th>id</th>\n      <th>store_nbr</th>\n      <th>onpromotion</th>\n      <th>cluster</th>\n      <th>dcoilwtico</th>\n      <th>holiday?</th>\n      <th>sales</th>\n    </tr>\n  </thead>\n  <tbody>\n    <tr>\n      <th>count</th>\n      <td>1048575.00</td>\n      <td>1048575.00</td>\n      <td>1048575.00</td>\n      <td>1048575.00</td>\n      <td>1048575.00</td>\n      <td>1048575.00</td>\n      <td>1048575.00</td>\n    </tr>\n    <tr>\n      <th>mean</th>\n      <td>524287.00</td>\n      <td>27.49</td>\n      <td>0.11</td>\n      <td>8.48</td>\n      <td>99.19</td>\n      <td>0.13</td>\n      <td>244.53</td>\n    </tr>\n    <tr>\n      <th>std</th>\n      <td>302697.67</td>\n      <td>15.58</td>\n      <td>2.38</td>\n      <td>4.65</td>\n      <td>4.31</td>\n      <td>0.34</td>\n      <td>806.59</td>\n    </tr>\n    <tr>\n      <th>min</th>\n      <td>0.00</td>\n      <td>1.00</td>\n      <td>0.00</td>\n      <td>1.00</td>\n      <td>86.65</td>\n      <td>0.00</td>\n      <td>0.00</td>\n    </tr>\n    <tr>\n      <th>25%</th>\n      <td>262143.50</td>\n      <td>14.00</td>\n      <td>0.00</td>\n      <td>4.00</td>\n      <td>96.29</td>\n      <td>0.00</td>\n      <td>0.00</td>\n    </tr>\n    <tr>\n      <th>50%</th>\n      <td>524287.00</td>\n      <td>27.00</td>\n      <td>0.00</td>\n      <td>9.00</td>\n      <td>99.19</td>\n      <td>0.00</td>\n      <td>1.00</td>\n    </tr>\n    <tr>\n      <th>75%</th>\n      <td>786430.50</td>\n      <td>41.00</td>\n      <td>0.00</td>\n      <td>13.00</td>\n      <td>101.92</td>\n      <td>0.00</td>\n      <td>120.00</td>\n    </tr>\n    <tr>\n      <th>max</th>\n      <td>1048574.00</td>\n      <td>54.00</td>\n      <td>196.00</td>\n      <td>17.00</td>\n      <td>110.62</td>\n      <td>1.00</td>\n      <td>46271.00</td>\n    </tr>\n  </tbody>\n</table>\n</div>"
     },
     "execution_count": 236,
     "metadata": {},
     "output_type": "execute_result"
    }
   ],
   "source": [
    "df_train.describe().round(2)"
   ],
   "metadata": {
    "collapsed": false,
    "ExecuteTime": {
     "end_time": "2023-08-24T01:08:13.544825Z",
     "start_time": "2023-08-24T01:08:13.396344Z"
    }
   },
   "id": "a4b57c192b2aa16e"
  },
  {
   "cell_type": "code",
   "execution_count": 237,
   "outputs": [
    {
     "data": {
      "text/plain": "               id  store_nbr  onpromotion   cluster  dcoilwtico  holiday?\ncount    28512.00   28512.00     28512.00  28512.00    28512.00  28512.00\nmean   3015143.50      27.50         6.97      8.48       47.24      0.06\nstd       8230.85      15.59        20.68      4.65        0.65      0.24\nmin    3000888.00       1.00         0.00      1.00       45.96      0.00\n25%    3008015.75      14.00         0.00      4.00       47.00      0.00\n50%    3015143.50      27.50         0.00      8.50       47.24      0.00\n75%    3022271.25      41.00         6.00     13.00       47.46      0.00\nmax    3029399.00      54.00       646.00     17.00       48.59      1.00",
      "text/html": "<div>\n<style scoped>\n    .dataframe tbody tr th:only-of-type {\n        vertical-align: middle;\n    }\n\n    .dataframe tbody tr th {\n        vertical-align: top;\n    }\n\n    .dataframe thead th {\n        text-align: right;\n    }\n</style>\n<table border=\"1\" class=\"dataframe\">\n  <thead>\n    <tr style=\"text-align: right;\">\n      <th></th>\n      <th>id</th>\n      <th>store_nbr</th>\n      <th>onpromotion</th>\n      <th>cluster</th>\n      <th>dcoilwtico</th>\n      <th>holiday?</th>\n    </tr>\n  </thead>\n  <tbody>\n    <tr>\n      <th>count</th>\n      <td>28512.00</td>\n      <td>28512.00</td>\n      <td>28512.00</td>\n      <td>28512.00</td>\n      <td>28512.00</td>\n      <td>28512.00</td>\n    </tr>\n    <tr>\n      <th>mean</th>\n      <td>3015143.50</td>\n      <td>27.50</td>\n      <td>6.97</td>\n      <td>8.48</td>\n      <td>47.24</td>\n      <td>0.06</td>\n    </tr>\n    <tr>\n      <th>std</th>\n      <td>8230.85</td>\n      <td>15.59</td>\n      <td>20.68</td>\n      <td>4.65</td>\n      <td>0.65</td>\n      <td>0.24</td>\n    </tr>\n    <tr>\n      <th>min</th>\n      <td>3000888.00</td>\n      <td>1.00</td>\n      <td>0.00</td>\n      <td>1.00</td>\n      <td>45.96</td>\n      <td>0.00</td>\n    </tr>\n    <tr>\n      <th>25%</th>\n      <td>3008015.75</td>\n      <td>14.00</td>\n      <td>0.00</td>\n      <td>4.00</td>\n      <td>47.00</td>\n      <td>0.00</td>\n    </tr>\n    <tr>\n      <th>50%</th>\n      <td>3015143.50</td>\n      <td>27.50</td>\n      <td>0.00</td>\n      <td>8.50</td>\n      <td>47.24</td>\n      <td>0.00</td>\n    </tr>\n    <tr>\n      <th>75%</th>\n      <td>3022271.25</td>\n      <td>41.00</td>\n      <td>6.00</td>\n      <td>13.00</td>\n      <td>47.46</td>\n      <td>0.00</td>\n    </tr>\n    <tr>\n      <th>max</th>\n      <td>3029399.00</td>\n      <td>54.00</td>\n      <td>646.00</td>\n      <td>17.00</td>\n      <td>48.59</td>\n      <td>1.00</td>\n    </tr>\n  </tbody>\n</table>\n</div>"
     },
     "execution_count": 237,
     "metadata": {},
     "output_type": "execute_result"
    }
   ],
   "source": [
    "df_test.describe().round(2)"
   ],
   "metadata": {
    "collapsed": false,
    "ExecuteTime": {
     "end_time": "2023-08-24T01:08:13.819586Z",
     "start_time": "2023-08-24T01:08:13.804379Z"
    }
   },
   "id": "eceac70ee0691c1c"
  },
  {
   "cell_type": "markdown",
   "source": [
    "### Information about both training and testing datasets"
   ],
   "metadata": {
    "collapsed": false
   },
   "id": "96fb00b0cedd8261"
  },
  {
   "cell_type": "code",
   "execution_count": 238,
   "outputs": [
    {
     "name": "stdout",
     "output_type": "stream",
     "text": [
      "<class 'pandas.core.frame.DataFrame'>\n",
      "RangeIndex: 1048575 entries, 0 to 1048574\n",
      "Data columns (total 12 columns):\n",
      " #   Column       Non-Null Count    Dtype  \n",
      "---  ------       --------------    -----  \n",
      " 0   id           1048575 non-null  int64  \n",
      " 1   date         1048575 non-null  object \n",
      " 2   store_nbr    1048575 non-null  int64  \n",
      " 3   family       1048575 non-null  object \n",
      " 4   onpromotion  1048575 non-null  int64  \n",
      " 5   city         1048575 non-null  object \n",
      " 6   state        1048575 non-null  object \n",
      " 7   type         1048575 non-null  object \n",
      " 8   cluster      1048575 non-null  int64  \n",
      " 9   dcoilwtico   1048575 non-null  float64\n",
      " 10  holiday?     1048575 non-null  float64\n",
      " 11  sales        1048575 non-null  float64\n",
      "dtypes: float64(3), int64(4), object(5)\n",
      "memory usage: 96.0+ MB\n"
     ]
    }
   ],
   "source": [
    "df_train.info()"
   ],
   "metadata": {
    "collapsed": false,
    "ExecuteTime": {
     "end_time": "2023-08-24T01:08:14.868630Z",
     "start_time": "2023-08-24T01:08:14.764047Z"
    }
   },
   "id": "9a2a2c26e42d8e23"
  },
  {
   "cell_type": "code",
   "execution_count": 239,
   "outputs": [
    {
     "name": "stdout",
     "output_type": "stream",
     "text": [
      "<class 'pandas.core.frame.DataFrame'>\n",
      "RangeIndex: 28512 entries, 0 to 28511\n",
      "Data columns (total 11 columns):\n",
      " #   Column       Non-Null Count  Dtype  \n",
      "---  ------       --------------  -----  \n",
      " 0   id           28512 non-null  int64  \n",
      " 1   date         28512 non-null  object \n",
      " 2   store_nbr    28512 non-null  int64  \n",
      " 3   family       28512 non-null  object \n",
      " 4   onpromotion  28512 non-null  int64  \n",
      " 5   city         28512 non-null  object \n",
      " 6   state        28512 non-null  object \n",
      " 7   type         28512 non-null  object \n",
      " 8   cluster      28512 non-null  int64  \n",
      " 9   dcoilwtico   28512 non-null  float64\n",
      " 10  holiday?     28512 non-null  float64\n",
      "dtypes: float64(2), int64(4), object(5)\n",
      "memory usage: 2.4+ MB\n"
     ]
    }
   ],
   "source": [
    "df_test.info()"
   ],
   "metadata": {
    "collapsed": false,
    "ExecuteTime": {
     "end_time": "2023-08-24T01:08:15.293557Z",
     "start_time": "2023-08-24T01:08:15.282924Z"
    }
   },
   "id": "23f0cc504eda6add"
  },
  {
   "cell_type": "markdown",
   "source": [
    "### Conversion of date from object type to datetime[64ns] type"
   ],
   "metadata": {
    "collapsed": false
   },
   "id": "88f11b2972fa6fb9"
  },
  {
   "cell_type": "code",
   "execution_count": 240,
   "outputs": [],
   "source": [
    "df_train[\"date\"] = pd.to_datetime(df_train[\"date\"])\n",
    "df_test[\"date\"] = pd.to_datetime(df_test[\"date\"])"
   ],
   "metadata": {
    "collapsed": false,
    "ExecuteTime": {
     "end_time": "2023-08-24T01:08:16.444809Z",
     "start_time": "2023-08-24T01:08:16.405265Z"
    }
   },
   "id": "4e987cbe129c4b1c"
  },
  {
   "cell_type": "markdown",
   "source": [
    "### Checking for \"store\" column"
   ],
   "metadata": {
    "collapsed": false
   },
   "id": "4ab5ef06bb0c7949"
  },
  {
   "cell_type": "code",
   "execution_count": 241,
   "outputs": [
    {
     "data": {
      "text/plain": "array([ 1,  2,  3,  4,  5,  6,  7,  8,  9, 10, 11, 12, 13, 14, 15, 16, 17,\n       18, 19, 20, 21, 22, 23, 24, 25, 26, 27, 28, 29, 30, 31, 32, 33, 34,\n       35, 36, 37, 38, 39, 40, 41, 42, 43, 44, 45, 46, 47, 48, 49, 50, 51,\n       52, 53, 54])"
     },
     "execution_count": 241,
     "metadata": {},
     "output_type": "execute_result"
    }
   ],
   "source": [
    "store_num_train = df_train[\"store_nbr\"].unique()\n",
    "store_num_train.sort()\n",
    "store_num_train"
   ],
   "metadata": {
    "collapsed": false,
    "ExecuteTime": {
     "end_time": "2023-08-24T01:08:17.106007Z",
     "start_time": "2023-08-24T01:08:17.100363Z"
    }
   },
   "id": "bcc307c46bb26582"
  },
  {
   "cell_type": "code",
   "execution_count": 242,
   "outputs": [
    {
     "data": {
      "text/plain": "array([ 1,  2,  3,  4,  5,  6,  7,  8,  9, 10, 11, 12, 13, 14, 15, 16, 17,\n       18, 19, 20, 21, 22, 23, 24, 25, 26, 27, 28, 29, 30, 31, 32, 33, 34,\n       35, 36, 37, 38, 39, 40, 41, 42, 43, 44, 45, 46, 47, 48, 49, 50, 51,\n       52, 53, 54])"
     },
     "execution_count": 242,
     "metadata": {},
     "output_type": "execute_result"
    }
   ],
   "source": [
    "store_num_test = df_test[\"store_nbr\"].unique()\n",
    "store_num_test.sort()\n",
    "store_num_test"
   ],
   "metadata": {
    "collapsed": false,
    "ExecuteTime": {
     "end_time": "2023-08-24T01:08:17.474956Z",
     "start_time": "2023-08-24T01:08:17.467449Z"
    }
   },
   "id": "1cbb9e3f4f8f77f9"
  },
  {
   "cell_type": "code",
   "execution_count": 242,
   "outputs": [],
   "source": [],
   "metadata": {
    "collapsed": false,
    "ExecuteTime": {
     "end_time": "2023-08-24T01:08:17.966680Z",
     "start_time": "2023-08-24T01:08:17.963879Z"
    }
   },
   "id": "47788f9ceabf126f"
  },
  {
   "cell_type": "code",
   "execution_count": 243,
   "outputs": [
    {
     "ename": "TypeError",
     "evalue": "EncodeBinary.column_names() takes 2 positional arguments but 3 were given",
     "output_type": "error",
     "traceback": [
      "\u001B[0;31m---------------------------------------------------------------------------\u001B[0m",
      "\u001B[0;31mTypeError\u001B[0m                                 Traceback (most recent call last)",
      "Cell \u001B[0;32mIn[243], line 6\u001B[0m\n\u001B[1;32m      4\u001B[0m o \u001B[38;5;241m=\u001B[39m eb1\u001B[38;5;241m.\u001B[39munify_binary_length(m)\n\u001B[1;32m      5\u001B[0m leng \u001B[38;5;241m=\u001B[39m \u001B[38;5;28mlen\u001B[39m(o[\u001B[38;5;241m0\u001B[39m])\n\u001B[0;32m----> 6\u001B[0m cols \u001B[38;5;241m=\u001B[39m eb1\u001B[38;5;241m.\u001B[39mcolumn_names(\u001B[38;5;124m\"\u001B[39m\u001B[38;5;124mstore_nbr\u001B[39m\u001B[38;5;124m\"\u001B[39m,leng)\n\u001B[1;32m      7\u001B[0m store_num \u001B[38;5;241m=\u001B[39m pd\u001B[38;5;241m.\u001B[39mDataFrame(o,columns\u001B[38;5;241m=\u001B[39mcols)\n",
      "\u001B[0;31mTypeError\u001B[0m: EncodeBinary.column_names() takes 2 positional arguments but 3 were given"
     ]
    }
   ],
   "source": [
    "eb1 = EncodeBinary()\n",
    "y = lambda x: eb1.bin_to_dec(x)\n",
    "m = list(map(y,store_num_train))\n",
    "o = eb1.unify_binary_length(m)\n",
    "leng = len(o[0])\n",
    "cols = eb1.column_names(\"store_nbr\",leng)\n",
    "store_num = pd.DataFrame(o,columns=cols)"
   ],
   "metadata": {
    "collapsed": false,
    "ExecuteTime": {
     "end_time": "2023-08-24T01:08:18.602848Z",
     "start_time": "2023-08-24T01:08:18.528951Z"
    }
   },
   "id": "c270e54e60777bd5"
  },
  {
   "cell_type": "code",
   "execution_count": null,
   "outputs": [],
   "source": [],
   "metadata": {
    "collapsed": false
   },
   "id": "b21a7f325e615f94"
  }
 ],
 "metadata": {
  "kernelspec": {
   "display_name": "Python 3",
   "language": "python",
   "name": "python3"
  },
  "language_info": {
   "codemirror_mode": {
    "name": "ipython",
    "version": 2
   },
   "file_extension": ".py",
   "mimetype": "text/x-python",
   "name": "python",
   "nbconvert_exporter": "python",
   "pygments_lexer": "ipython2",
   "version": "2.7.6"
  }
 },
 "nbformat": 4,
 "nbformat_minor": 5
}
