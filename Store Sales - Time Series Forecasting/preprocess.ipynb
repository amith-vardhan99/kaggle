{
 "cells": [
  {
   "cell_type": "markdown",
   "source": [
    "## Data Preprocessing"
   ],
   "metadata": {
    "collapsed": false
   },
   "id": "7d8f9514592863f7"
  },
  {
   "cell_type": "markdown",
   "source": [
    "Now, we are done with exploratory data analysis of both training and testing datasets. Now, we should get into preprocessing for both the datasets as some of the features are not numerical."
   ],
   "metadata": {
    "collapsed": false
   },
   "id": "fbb45290a653e5d4"
  },
  {
   "cell_type": "markdown",
   "source": [
    "### Importing all packages"
   ],
   "metadata": {
    "collapsed": false
   },
   "id": "2dfee6f78ce8ee65"
  },
  {
   "cell_type": "code",
   "execution_count": 1,
   "outputs": [],
   "source": [
    "import numpy as np\n",
    "import pandas as pd\n",
    "import matplotlib.pyplot as plt\n",
    "import seaborn as sns\n",
    "from sklearn.model_selection import *\n",
    "from sklearn.linear_model import *\n",
    "from math import *\n",
    "from sklearn.ensemble import *\n",
    "from sklearn.feature_selection import *\n",
    "from sklearn.feature_extraction import *\n",
    "from sklearn.naive_bayes import *\n",
    "from sklearn.discriminant_analysis import *\n",
    "from sklearn.preprocessing import *\n",
    "from sklearn.metrics import *\n",
    "from sklearn.neighbors import *\n",
    "from sklearn.cluster import *\n",
    "from category_encoders import *"
   ],
   "metadata": {
    "collapsed": false,
    "ExecuteTime": {
     "end_time": "2023-08-23T23:00:16.208062Z",
     "start_time": "2023-08-23T23:00:15.859304Z"
    }
   },
   "id": "ed6ffa674f776a3a"
  },
  {
   "cell_type": "markdown",
   "source": [
    "### Importing training and testing datasets"
   ],
   "metadata": {
    "collapsed": false
   },
   "id": "c971351e5506d816"
  },
  {
   "cell_type": "code",
   "execution_count": 2,
   "outputs": [],
   "source": [
    "df_train = pd.read_csv(\"train_eda.csv\")\n",
    "df_test = pd.read_csv(\"test_eda.csv\")"
   ],
   "metadata": {
    "collapsed": false,
    "ExecuteTime": {
     "end_time": "2023-08-23T23:00:18.111223Z",
     "start_time": "2023-08-23T23:00:17.507128Z"
    }
   },
   "id": "344b59ed2cc54d06"
  },
  {
   "cell_type": "code",
   "execution_count": 3,
   "outputs": [
    {
     "data": {
      "text/plain": "   id        date  store_nbr      family  onpromotion   city      state type  \\\n0   0  2013-01-01          1  AUTOMOTIVE            0  Quito  Pichincha    D   \n1   1  2013-01-01          1   BABY CARE            0  Quito  Pichincha    D   \n2   2  2013-01-01          1      BEAUTY            0  Quito  Pichincha    D   \n3   3  2013-01-01          1   BEVERAGES            0  Quito  Pichincha    D   \n4   4  2013-01-01          1       BOOKS            0  Quito  Pichincha    D   \n\n   cluster  dcoilwtico  holiday?  sales  \n0       13      93.366       1.0    0.0  \n1       13      93.366       1.0    0.0  \n2       13      93.366       1.0    0.0  \n3       13      93.366       1.0    0.0  \n4       13      93.366       1.0    0.0  ",
      "text/html": "<div>\n<style scoped>\n    .dataframe tbody tr th:only-of-type {\n        vertical-align: middle;\n    }\n\n    .dataframe tbody tr th {\n        vertical-align: top;\n    }\n\n    .dataframe thead th {\n        text-align: right;\n    }\n</style>\n<table border=\"1\" class=\"dataframe\">\n  <thead>\n    <tr style=\"text-align: right;\">\n      <th></th>\n      <th>id</th>\n      <th>date</th>\n      <th>store_nbr</th>\n      <th>family</th>\n      <th>onpromotion</th>\n      <th>city</th>\n      <th>state</th>\n      <th>type</th>\n      <th>cluster</th>\n      <th>dcoilwtico</th>\n      <th>holiday?</th>\n      <th>sales</th>\n    </tr>\n  </thead>\n  <tbody>\n    <tr>\n      <th>0</th>\n      <td>0</td>\n      <td>2013-01-01</td>\n      <td>1</td>\n      <td>AUTOMOTIVE</td>\n      <td>0</td>\n      <td>Quito</td>\n      <td>Pichincha</td>\n      <td>D</td>\n      <td>13</td>\n      <td>93.366</td>\n      <td>1.0</td>\n      <td>0.0</td>\n    </tr>\n    <tr>\n      <th>1</th>\n      <td>1</td>\n      <td>2013-01-01</td>\n      <td>1</td>\n      <td>BABY CARE</td>\n      <td>0</td>\n      <td>Quito</td>\n      <td>Pichincha</td>\n      <td>D</td>\n      <td>13</td>\n      <td>93.366</td>\n      <td>1.0</td>\n      <td>0.0</td>\n    </tr>\n    <tr>\n      <th>2</th>\n      <td>2</td>\n      <td>2013-01-01</td>\n      <td>1</td>\n      <td>BEAUTY</td>\n      <td>0</td>\n      <td>Quito</td>\n      <td>Pichincha</td>\n      <td>D</td>\n      <td>13</td>\n      <td>93.366</td>\n      <td>1.0</td>\n      <td>0.0</td>\n    </tr>\n    <tr>\n      <th>3</th>\n      <td>3</td>\n      <td>2013-01-01</td>\n      <td>1</td>\n      <td>BEVERAGES</td>\n      <td>0</td>\n      <td>Quito</td>\n      <td>Pichincha</td>\n      <td>D</td>\n      <td>13</td>\n      <td>93.366</td>\n      <td>1.0</td>\n      <td>0.0</td>\n    </tr>\n    <tr>\n      <th>4</th>\n      <td>4</td>\n      <td>2013-01-01</td>\n      <td>1</td>\n      <td>BOOKS</td>\n      <td>0</td>\n      <td>Quito</td>\n      <td>Pichincha</td>\n      <td>D</td>\n      <td>13</td>\n      <td>93.366</td>\n      <td>1.0</td>\n      <td>0.0</td>\n    </tr>\n  </tbody>\n</table>\n</div>"
     },
     "execution_count": 3,
     "metadata": {},
     "output_type": "execute_result"
    }
   ],
   "source": [
    "df_train.head()"
   ],
   "metadata": {
    "collapsed": false,
    "ExecuteTime": {
     "end_time": "2023-08-23T23:00:18.878938Z",
     "start_time": "2023-08-23T23:00:18.870354Z"
    }
   },
   "id": "43b0efa27068a04f"
  },
  {
   "cell_type": "code",
   "execution_count": 4,
   "outputs": [
    {
     "data": {
      "text/plain": "        id        date  store_nbr      family  onpromotion   city      state  \\\n0  3000888  2017-08-16          1  AUTOMOTIVE            0  Quito  Pichincha   \n1  3000889  2017-08-16          1   BABY CARE            0  Quito  Pichincha   \n2  3000890  2017-08-16          1      BEAUTY            2  Quito  Pichincha   \n3  3000891  2017-08-16          1   BEVERAGES           20  Quito  Pichincha   \n4  3000892  2017-08-16          1       BOOKS            0  Quito  Pichincha   \n\n  type  cluster  dcoilwtico  holiday?  \n0    D       13        46.8       0.0  \n1    D       13        46.8       0.0  \n2    D       13        46.8       0.0  \n3    D       13        46.8       0.0  \n4    D       13        46.8       0.0  ",
      "text/html": "<div>\n<style scoped>\n    .dataframe tbody tr th:only-of-type {\n        vertical-align: middle;\n    }\n\n    .dataframe tbody tr th {\n        vertical-align: top;\n    }\n\n    .dataframe thead th {\n        text-align: right;\n    }\n</style>\n<table border=\"1\" class=\"dataframe\">\n  <thead>\n    <tr style=\"text-align: right;\">\n      <th></th>\n      <th>id</th>\n      <th>date</th>\n      <th>store_nbr</th>\n      <th>family</th>\n      <th>onpromotion</th>\n      <th>city</th>\n      <th>state</th>\n      <th>type</th>\n      <th>cluster</th>\n      <th>dcoilwtico</th>\n      <th>holiday?</th>\n    </tr>\n  </thead>\n  <tbody>\n    <tr>\n      <th>0</th>\n      <td>3000888</td>\n      <td>2017-08-16</td>\n      <td>1</td>\n      <td>AUTOMOTIVE</td>\n      <td>0</td>\n      <td>Quito</td>\n      <td>Pichincha</td>\n      <td>D</td>\n      <td>13</td>\n      <td>46.8</td>\n      <td>0.0</td>\n    </tr>\n    <tr>\n      <th>1</th>\n      <td>3000889</td>\n      <td>2017-08-16</td>\n      <td>1</td>\n      <td>BABY CARE</td>\n      <td>0</td>\n      <td>Quito</td>\n      <td>Pichincha</td>\n      <td>D</td>\n      <td>13</td>\n      <td>46.8</td>\n      <td>0.0</td>\n    </tr>\n    <tr>\n      <th>2</th>\n      <td>3000890</td>\n      <td>2017-08-16</td>\n      <td>1</td>\n      <td>BEAUTY</td>\n      <td>2</td>\n      <td>Quito</td>\n      <td>Pichincha</td>\n      <td>D</td>\n      <td>13</td>\n      <td>46.8</td>\n      <td>0.0</td>\n    </tr>\n    <tr>\n      <th>3</th>\n      <td>3000891</td>\n      <td>2017-08-16</td>\n      <td>1</td>\n      <td>BEVERAGES</td>\n      <td>20</td>\n      <td>Quito</td>\n      <td>Pichincha</td>\n      <td>D</td>\n      <td>13</td>\n      <td>46.8</td>\n      <td>0.0</td>\n    </tr>\n    <tr>\n      <th>4</th>\n      <td>3000892</td>\n      <td>2017-08-16</td>\n      <td>1</td>\n      <td>BOOKS</td>\n      <td>0</td>\n      <td>Quito</td>\n      <td>Pichincha</td>\n      <td>D</td>\n      <td>13</td>\n      <td>46.8</td>\n      <td>0.0</td>\n    </tr>\n  </tbody>\n</table>\n</div>"
     },
     "execution_count": 4,
     "metadata": {},
     "output_type": "execute_result"
    }
   ],
   "source": [
    "df_test.head()"
   ],
   "metadata": {
    "collapsed": false,
    "ExecuteTime": {
     "end_time": "2023-08-23T23:00:19.669990Z",
     "start_time": "2023-08-23T23:00:19.664119Z"
    }
   },
   "id": "2c0c83e4a7c6e5b7"
  },
  {
   "cell_type": "code",
   "execution_count": 5,
   "outputs": [
    {
     "name": "stdout",
     "output_type": "stream",
     "text": [
      "Length of training dataset :  1048575\n",
      "Length of testing dataset  :  28512\n"
     ]
    }
   ],
   "source": [
    "print(\"Length of training dataset : \",len(df_train))\n",
    "print(\"Length of testing dataset  : \",len(df_test))"
   ],
   "metadata": {
    "collapsed": false,
    "ExecuteTime": {
     "end_time": "2023-08-23T23:00:20.332944Z",
     "start_time": "2023-08-23T23:00:20.327738Z"
    }
   },
   "id": "3f6a57c5ac3aa39e"
  },
  {
   "cell_type": "markdown",
   "source": [
    "### Description on both training and testing datasets"
   ],
   "metadata": {
    "collapsed": false
   },
   "id": "77067667089b87b7"
  },
  {
   "cell_type": "code",
   "execution_count": 6,
   "outputs": [
    {
     "data": {
      "text/plain": "               id   store_nbr  onpromotion     cluster  dcoilwtico  \\\ncount  1048575.00  1048575.00   1048575.00  1048575.00  1048575.00   \nmean    524287.00       27.49         0.11        8.48       99.19   \nstd     302697.67       15.58         2.38        4.65        4.31   \nmin          0.00        1.00         0.00        1.00       86.65   \n25%     262143.50       14.00         0.00        4.00       96.29   \n50%     524287.00       27.00         0.00        9.00       99.19   \n75%     786430.50       41.00         0.00       13.00      101.92   \nmax    1048574.00       54.00       196.00       17.00      110.62   \n\n         holiday?       sales  \ncount  1048575.00  1048575.00  \nmean         0.13      244.53  \nstd          0.34      806.59  \nmin          0.00        0.00  \n25%          0.00        0.00  \n50%          0.00        1.00  \n75%          0.00      120.00  \nmax          1.00    46271.00  ",
      "text/html": "<div>\n<style scoped>\n    .dataframe tbody tr th:only-of-type {\n        vertical-align: middle;\n    }\n\n    .dataframe tbody tr th {\n        vertical-align: top;\n    }\n\n    .dataframe thead th {\n        text-align: right;\n    }\n</style>\n<table border=\"1\" class=\"dataframe\">\n  <thead>\n    <tr style=\"text-align: right;\">\n      <th></th>\n      <th>id</th>\n      <th>store_nbr</th>\n      <th>onpromotion</th>\n      <th>cluster</th>\n      <th>dcoilwtico</th>\n      <th>holiday?</th>\n      <th>sales</th>\n    </tr>\n  </thead>\n  <tbody>\n    <tr>\n      <th>count</th>\n      <td>1048575.00</td>\n      <td>1048575.00</td>\n      <td>1048575.00</td>\n      <td>1048575.00</td>\n      <td>1048575.00</td>\n      <td>1048575.00</td>\n      <td>1048575.00</td>\n    </tr>\n    <tr>\n      <th>mean</th>\n      <td>524287.00</td>\n      <td>27.49</td>\n      <td>0.11</td>\n      <td>8.48</td>\n      <td>99.19</td>\n      <td>0.13</td>\n      <td>244.53</td>\n    </tr>\n    <tr>\n      <th>std</th>\n      <td>302697.67</td>\n      <td>15.58</td>\n      <td>2.38</td>\n      <td>4.65</td>\n      <td>4.31</td>\n      <td>0.34</td>\n      <td>806.59</td>\n    </tr>\n    <tr>\n      <th>min</th>\n      <td>0.00</td>\n      <td>1.00</td>\n      <td>0.00</td>\n      <td>1.00</td>\n      <td>86.65</td>\n      <td>0.00</td>\n      <td>0.00</td>\n    </tr>\n    <tr>\n      <th>25%</th>\n      <td>262143.50</td>\n      <td>14.00</td>\n      <td>0.00</td>\n      <td>4.00</td>\n      <td>96.29</td>\n      <td>0.00</td>\n      <td>0.00</td>\n    </tr>\n    <tr>\n      <th>50%</th>\n      <td>524287.00</td>\n      <td>27.00</td>\n      <td>0.00</td>\n      <td>9.00</td>\n      <td>99.19</td>\n      <td>0.00</td>\n      <td>1.00</td>\n    </tr>\n    <tr>\n      <th>75%</th>\n      <td>786430.50</td>\n      <td>41.00</td>\n      <td>0.00</td>\n      <td>13.00</td>\n      <td>101.92</td>\n      <td>0.00</td>\n      <td>120.00</td>\n    </tr>\n    <tr>\n      <th>max</th>\n      <td>1048574.00</td>\n      <td>54.00</td>\n      <td>196.00</td>\n      <td>17.00</td>\n      <td>110.62</td>\n      <td>1.00</td>\n      <td>46271.00</td>\n    </tr>\n  </tbody>\n</table>\n</div>"
     },
     "execution_count": 6,
     "metadata": {},
     "output_type": "execute_result"
    }
   ],
   "source": [
    "df_train.describe().round(2)"
   ],
   "metadata": {
    "collapsed": false,
    "ExecuteTime": {
     "end_time": "2023-08-23T23:00:22.605978Z",
     "start_time": "2023-08-23T23:00:22.471739Z"
    }
   },
   "id": "29e748aea713f4"
  },
  {
   "cell_type": "code",
   "execution_count": 7,
   "outputs": [
    {
     "data": {
      "text/plain": "               id  store_nbr  onpromotion   cluster  dcoilwtico  holiday?\ncount    28512.00   28512.00     28512.00  28512.00    28512.00  28512.00\nmean   3015143.50      27.50         6.97      8.48       47.24      0.06\nstd       8230.85      15.59        20.68      4.65        0.65      0.24\nmin    3000888.00       1.00         0.00      1.00       45.96      0.00\n25%    3008015.75      14.00         0.00      4.00       47.00      0.00\n50%    3015143.50      27.50         0.00      8.50       47.24      0.00\n75%    3022271.25      41.00         6.00     13.00       47.46      0.00\nmax    3029399.00      54.00       646.00     17.00       48.59      1.00",
      "text/html": "<div>\n<style scoped>\n    .dataframe tbody tr th:only-of-type {\n        vertical-align: middle;\n    }\n\n    .dataframe tbody tr th {\n        vertical-align: top;\n    }\n\n    .dataframe thead th {\n        text-align: right;\n    }\n</style>\n<table border=\"1\" class=\"dataframe\">\n  <thead>\n    <tr style=\"text-align: right;\">\n      <th></th>\n      <th>id</th>\n      <th>store_nbr</th>\n      <th>onpromotion</th>\n      <th>cluster</th>\n      <th>dcoilwtico</th>\n      <th>holiday?</th>\n    </tr>\n  </thead>\n  <tbody>\n    <tr>\n      <th>count</th>\n      <td>28512.00</td>\n      <td>28512.00</td>\n      <td>28512.00</td>\n      <td>28512.00</td>\n      <td>28512.00</td>\n      <td>28512.00</td>\n    </tr>\n    <tr>\n      <th>mean</th>\n      <td>3015143.50</td>\n      <td>27.50</td>\n      <td>6.97</td>\n      <td>8.48</td>\n      <td>47.24</td>\n      <td>0.06</td>\n    </tr>\n    <tr>\n      <th>std</th>\n      <td>8230.85</td>\n      <td>15.59</td>\n      <td>20.68</td>\n      <td>4.65</td>\n      <td>0.65</td>\n      <td>0.24</td>\n    </tr>\n    <tr>\n      <th>min</th>\n      <td>3000888.00</td>\n      <td>1.00</td>\n      <td>0.00</td>\n      <td>1.00</td>\n      <td>45.96</td>\n      <td>0.00</td>\n    </tr>\n    <tr>\n      <th>25%</th>\n      <td>3008015.75</td>\n      <td>14.00</td>\n      <td>0.00</td>\n      <td>4.00</td>\n      <td>47.00</td>\n      <td>0.00</td>\n    </tr>\n    <tr>\n      <th>50%</th>\n      <td>3015143.50</td>\n      <td>27.50</td>\n      <td>0.00</td>\n      <td>8.50</td>\n      <td>47.24</td>\n      <td>0.00</td>\n    </tr>\n    <tr>\n      <th>75%</th>\n      <td>3022271.25</td>\n      <td>41.00</td>\n      <td>6.00</td>\n      <td>13.00</td>\n      <td>47.46</td>\n      <td>0.00</td>\n    </tr>\n    <tr>\n      <th>max</th>\n      <td>3029399.00</td>\n      <td>54.00</td>\n      <td>646.00</td>\n      <td>17.00</td>\n      <td>48.59</td>\n      <td>1.00</td>\n    </tr>\n  </tbody>\n</table>\n</div>"
     },
     "execution_count": 7,
     "metadata": {},
     "output_type": "execute_result"
    }
   ],
   "source": [
    "df_test.describe().round(2)"
   ],
   "metadata": {
    "collapsed": false,
    "ExecuteTime": {
     "end_time": "2023-08-23T23:00:23.237100Z",
     "start_time": "2023-08-23T23:00:23.221382Z"
    }
   },
   "id": "11a6f8b22349567"
  },
  {
   "cell_type": "markdown",
   "source": [
    "### Information about both training and testing datasets"
   ],
   "metadata": {
    "collapsed": false
   },
   "id": "ac5e50455dc83fff"
  },
  {
   "cell_type": "code",
   "execution_count": 8,
   "outputs": [
    {
     "name": "stdout",
     "output_type": "stream",
     "text": [
      "<class 'pandas.core.frame.DataFrame'>\n",
      "RangeIndex: 1048575 entries, 0 to 1048574\n",
      "Data columns (total 12 columns):\n",
      " #   Column       Non-Null Count    Dtype  \n",
      "---  ------       --------------    -----  \n",
      " 0   id           1048575 non-null  int64  \n",
      " 1   date         1048575 non-null  object \n",
      " 2   store_nbr    1048575 non-null  int64  \n",
      " 3   family       1048575 non-null  object \n",
      " 4   onpromotion  1048575 non-null  int64  \n",
      " 5   city         1048575 non-null  object \n",
      " 6   state        1048575 non-null  object \n",
      " 7   type         1048575 non-null  object \n",
      " 8   cluster      1048575 non-null  int64  \n",
      " 9   dcoilwtico   1048575 non-null  float64\n",
      " 10  holiday?     1048575 non-null  float64\n",
      " 11  sales        1048575 non-null  float64\n",
      "dtypes: float64(3), int64(4), object(5)\n",
      "memory usage: 96.0+ MB\n"
     ]
    }
   ],
   "source": [
    "df_train.info()"
   ],
   "metadata": {
    "collapsed": false,
    "ExecuteTime": {
     "end_time": "2023-08-23T23:00:24.722671Z",
     "start_time": "2023-08-23T23:00:24.606125Z"
    }
   },
   "id": "59a9e39cdb5ab33e"
  },
  {
   "cell_type": "code",
   "execution_count": 9,
   "outputs": [
    {
     "name": "stdout",
     "output_type": "stream",
     "text": [
      "<class 'pandas.core.frame.DataFrame'>\n",
      "RangeIndex: 28512 entries, 0 to 28511\n",
      "Data columns (total 11 columns):\n",
      " #   Column       Non-Null Count  Dtype  \n",
      "---  ------       --------------  -----  \n",
      " 0   id           28512 non-null  int64  \n",
      " 1   date         28512 non-null  object \n",
      " 2   store_nbr    28512 non-null  int64  \n",
      " 3   family       28512 non-null  object \n",
      " 4   onpromotion  28512 non-null  int64  \n",
      " 5   city         28512 non-null  object \n",
      " 6   state        28512 non-null  object \n",
      " 7   type         28512 non-null  object \n",
      " 8   cluster      28512 non-null  int64  \n",
      " 9   dcoilwtico   28512 non-null  float64\n",
      " 10  holiday?     28512 non-null  float64\n",
      "dtypes: float64(2), int64(4), object(5)\n",
      "memory usage: 2.4+ MB\n"
     ]
    }
   ],
   "source": [
    "df_test.info()"
   ],
   "metadata": {
    "collapsed": false,
    "ExecuteTime": {
     "end_time": "2023-08-23T23:00:25.285220Z",
     "start_time": "2023-08-23T23:00:25.274597Z"
    }
   },
   "id": "ac7eaec1d8303e77"
  },
  {
   "cell_type": "markdown",
   "source": [
    "### Conversion of date from object type to datetime[64ns] type"
   ],
   "metadata": {
    "collapsed": false
   },
   "id": "be506b935d8654be"
  },
  {
   "cell_type": "code",
   "execution_count": 10,
   "outputs": [],
   "source": [
    "df_train[\"date\"] = pd.to_datetime(df_train[\"date\"])\n",
    "df_test[\"date\"] = pd.to_datetime(df_test[\"date\"])"
   ],
   "metadata": {
    "collapsed": false,
    "ExecuteTime": {
     "end_time": "2023-08-23T23:00:27.005912Z",
     "start_time": "2023-08-23T23:00:26.969851Z"
    }
   },
   "id": "e0688cb9754942fe"
  },
  {
   "cell_type": "markdown",
   "source": [
    "### Checking for \"store\" column"
   ],
   "metadata": {
    "collapsed": false
   },
   "id": "706d848d5c445423"
  },
  {
   "cell_type": "code",
   "execution_count": 13,
   "outputs": [
    {
     "data": {
      "text/plain": "array([ 1,  2,  3,  4,  5,  6,  7,  8,  9, 10, 11, 12, 13, 14, 15, 16, 17,\n       18, 19, 20, 21, 22, 23, 24, 25, 26, 27, 28, 29, 30, 31, 32, 33, 34,\n       35, 36, 37, 38, 39, 40, 41, 42, 43, 44, 45, 46, 47, 48, 49, 50, 51,\n       52, 53, 54])"
     },
     "execution_count": 13,
     "metadata": {},
     "output_type": "execute_result"
    }
   ],
   "source": [
    "store_num_train = df_train[\"store_nbr\"].unique()\n",
    "store_num_train.sort()\n",
    "store_num_train"
   ],
   "metadata": {
    "collapsed": false,
    "ExecuteTime": {
     "end_time": "2023-08-23T23:01:56.466236Z",
     "start_time": "2023-08-23T23:01:56.453237Z"
    }
   },
   "id": "9333d3f29285e022"
  },
  {
   "cell_type": "code",
   "execution_count": 14,
   "outputs": [
    {
     "data": {
      "text/plain": "array([ 1,  2,  3,  4,  5,  6,  7,  8,  9, 10, 11, 12, 13, 14, 15, 16, 17,\n       18, 19, 20, 21, 22, 23, 24, 25, 26, 27, 28, 29, 30, 31, 32, 33, 34,\n       35, 36, 37, 38, 39, 40, 41, 42, 43, 44, 45, 46, 47, 48, 49, 50, 51,\n       52, 53, 54])"
     },
     "execution_count": 14,
     "metadata": {},
     "output_type": "execute_result"
    }
   ],
   "source": [
    "store_num_test = df_test[\"store_nbr\"].unique()\n",
    "store_num_test.sort()\n",
    "store_num_test"
   ],
   "metadata": {
    "collapsed": false,
    "ExecuteTime": {
     "end_time": "2023-08-23T23:02:31.278661Z",
     "start_time": "2023-08-23T23:02:31.272239Z"
    }
   },
   "id": "ad99014f57eb7356"
  },
  {
   "cell_type": "code",
   "execution_count": null,
   "outputs": [],
   "source": [
    "n = 2\n",
    "dig = int(np.floor(np.log2(63)))\n",
    "st = []\n",
    "ctr = 0\n",
    "while n > 0:\n",
    "    r = int(n % 2)\n",
    "    n = int(n / 2)\n",
    "    st.insert(0,r)\n",
    "ctr = len(st)\n",
    "while ctr < dig:\n",
    "    st.insert(0,0)\n",
    "print(st)\n",
    "print(dig)"
   ],
   "metadata": {
    "collapsed": false,
    "is_executing": true,
    "ExecuteTime": {
     "start_time": "2023-08-23T23:32:49.889838Z"
    }
   },
   "id": "f8f29f0598796dc3"
  },
  {
   "cell_type": "code",
   "execution_count": null,
   "outputs": [],
   "source": [],
   "metadata": {
    "collapsed": false
   },
   "id": "7435cef3d9f030e7"
  }
 ],
 "metadata": {
  "kernelspec": {
   "display_name": "Python 3",
   "language": "python",
   "name": "python3"
  },
  "language_info": {
   "codemirror_mode": {
    "name": "ipython",
    "version": 2
   },
   "file_extension": ".py",
   "mimetype": "text/x-python",
   "name": "python",
   "nbconvert_exporter": "python",
   "pygments_lexer": "ipython2",
   "version": "2.7.6"
  }
 },
 "nbformat": 4,
 "nbformat_minor": 5
}
