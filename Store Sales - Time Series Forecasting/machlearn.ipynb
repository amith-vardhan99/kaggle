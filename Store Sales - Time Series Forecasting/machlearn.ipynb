{
 "cells": [
  {
   "cell_type": "markdown",
   "source": [
    "## Machine Learning"
   ],
   "metadata": {
    "collapsed": false
   },
   "id": "12cffaefad3fa9fc"
  },
  {
   "cell_type": "markdown",
   "source": [
    "Now, we are done with both exploratory data analysis and preprocessing. Now we will go ahead with performing machine learning."
   ],
   "metadata": {
    "collapsed": false
   },
   "id": "cf0e91e0bf2895c2"
  },
  {
   "cell_type": "markdown",
   "source": [
    "### Importing all packages"
   ],
   "metadata": {
    "collapsed": false
   },
   "id": "1019269a95cfc675"
  },
  {
   "cell_type": "code",
   "execution_count": 1,
   "outputs": [],
   "source": [
    "import numpy as np\n",
    "import pandas as pd\n",
    "import matplotlib.pyplot as plt\n",
    "import seaborn as sns\n",
    "from sklearn.model_selection import *\n",
    "from sklearn.linear_model import *\n",
    "from math import *\n",
    "from sklearn.ensemble import *\n",
    "from sklearn.feature_selection import *\n",
    "from sklearn.feature_extraction import *\n",
    "from sklearn.naive_bayes import *\n",
    "from sklearn.discriminant_analysis import *\n",
    "from sklearn.preprocessing import *\n",
    "from sklearn.metrics import *\n",
    "from sklearn.neighbors import *\n",
    "from sklearn.cluster import *\n",
    "from sklearn.kernel_approximation import *\n",
    "from sklearn.svm import *"
   ],
   "metadata": {
    "collapsed": false,
    "ExecuteTime": {
     "end_time": "2023-08-26T17:39:52.648335Z",
     "start_time": "2023-08-26T17:39:51.571287Z"
    }
   },
   "id": "9677d33d3d77416f"
  },
  {
   "cell_type": "code",
   "execution_count": 2,
   "outputs": [],
   "source": [
    "X_train = pd.read_csv(\"train_X_preprocessed.csv\")\n",
    "y_train = pd.read_csv(\"train_y_preprocessed.csv\")\n",
    "X_test = pd.read_csv(\"test_preprocessed.csv\")"
   ],
   "metadata": {
    "collapsed": false,
    "ExecuteTime": {
     "end_time": "2023-08-26T17:39:53.433446Z",
     "start_time": "2023-08-26T17:39:52.648717Z"
    }
   },
   "id": "d755f7d863313f08"
  },
  {
   "cell_type": "code",
   "execution_count": 3,
   "outputs": [
    {
     "data": {
      "text/plain": "   date_year  date_month  date_day  store_nbr_0  store_nbr_1  store_nbr_2  \\\n0       2013           1         1            0            0            0   \n1       2013           1         1            0            0            0   \n2       2013           1         1            0            0            0   \n3       2013           1         1            0            0            0   \n4       2013           1         1            0            0            0   \n\n   store_nbr_3  store_nbr_4  store_nbr_5  family_0  ...  type_0  type_1  \\\n0            0            0            0         0  ...       0       1   \n1            0            0            0         0  ...       0       1   \n2            0            0            0         0  ...       0       1   \n3            0            0            0         0  ...       0       1   \n4            0            0            0         0  ...       0       1   \n\n   type_2  cluster_0  cluster_1  cluster_2  cluster_3  cluster_4  dcoilwtico  \\\n0       1          0          1          1          0          0      93.366   \n1       1          0          1          1          0          0      93.366   \n2       1          0          1          1          0          0      93.366   \n3       1          0          1          1          0          0      93.366   \n4       1          0          1          1          0          0      93.366   \n\n   holiday?  \n0       1.0  \n1       1.0  \n2       1.0  \n3       1.0  \n4       1.0  \n\n[5 rows x 35 columns]",
      "text/html": "<div>\n<style scoped>\n    .dataframe tbody tr th:only-of-type {\n        vertical-align: middle;\n    }\n\n    .dataframe tbody tr th {\n        vertical-align: top;\n    }\n\n    .dataframe thead th {\n        text-align: right;\n    }\n</style>\n<table border=\"1\" class=\"dataframe\">\n  <thead>\n    <tr style=\"text-align: right;\">\n      <th></th>\n      <th>date_year</th>\n      <th>date_month</th>\n      <th>date_day</th>\n      <th>store_nbr_0</th>\n      <th>store_nbr_1</th>\n      <th>store_nbr_2</th>\n      <th>store_nbr_3</th>\n      <th>store_nbr_4</th>\n      <th>store_nbr_5</th>\n      <th>family_0</th>\n      <th>...</th>\n      <th>type_0</th>\n      <th>type_1</th>\n      <th>type_2</th>\n      <th>cluster_0</th>\n      <th>cluster_1</th>\n      <th>cluster_2</th>\n      <th>cluster_3</th>\n      <th>cluster_4</th>\n      <th>dcoilwtico</th>\n      <th>holiday?</th>\n    </tr>\n  </thead>\n  <tbody>\n    <tr>\n      <th>0</th>\n      <td>2013</td>\n      <td>1</td>\n      <td>1</td>\n      <td>0</td>\n      <td>0</td>\n      <td>0</td>\n      <td>0</td>\n      <td>0</td>\n      <td>0</td>\n      <td>0</td>\n      <td>...</td>\n      <td>0</td>\n      <td>1</td>\n      <td>1</td>\n      <td>0</td>\n      <td>1</td>\n      <td>1</td>\n      <td>0</td>\n      <td>0</td>\n      <td>93.366</td>\n      <td>1.0</td>\n    </tr>\n    <tr>\n      <th>1</th>\n      <td>2013</td>\n      <td>1</td>\n      <td>1</td>\n      <td>0</td>\n      <td>0</td>\n      <td>0</td>\n      <td>0</td>\n      <td>0</td>\n      <td>0</td>\n      <td>0</td>\n      <td>...</td>\n      <td>0</td>\n      <td>1</td>\n      <td>1</td>\n      <td>0</td>\n      <td>1</td>\n      <td>1</td>\n      <td>0</td>\n      <td>0</td>\n      <td>93.366</td>\n      <td>1.0</td>\n    </tr>\n    <tr>\n      <th>2</th>\n      <td>2013</td>\n      <td>1</td>\n      <td>1</td>\n      <td>0</td>\n      <td>0</td>\n      <td>0</td>\n      <td>0</td>\n      <td>0</td>\n      <td>0</td>\n      <td>0</td>\n      <td>...</td>\n      <td>0</td>\n      <td>1</td>\n      <td>1</td>\n      <td>0</td>\n      <td>1</td>\n      <td>1</td>\n      <td>0</td>\n      <td>0</td>\n      <td>93.366</td>\n      <td>1.0</td>\n    </tr>\n    <tr>\n      <th>3</th>\n      <td>2013</td>\n      <td>1</td>\n      <td>1</td>\n      <td>0</td>\n      <td>0</td>\n      <td>0</td>\n      <td>0</td>\n      <td>0</td>\n      <td>0</td>\n      <td>0</td>\n      <td>...</td>\n      <td>0</td>\n      <td>1</td>\n      <td>1</td>\n      <td>0</td>\n      <td>1</td>\n      <td>1</td>\n      <td>0</td>\n      <td>0</td>\n      <td>93.366</td>\n      <td>1.0</td>\n    </tr>\n    <tr>\n      <th>4</th>\n      <td>2013</td>\n      <td>1</td>\n      <td>1</td>\n      <td>0</td>\n      <td>0</td>\n      <td>0</td>\n      <td>0</td>\n      <td>0</td>\n      <td>0</td>\n      <td>0</td>\n      <td>...</td>\n      <td>0</td>\n      <td>1</td>\n      <td>1</td>\n      <td>0</td>\n      <td>1</td>\n      <td>1</td>\n      <td>0</td>\n      <td>0</td>\n      <td>93.366</td>\n      <td>1.0</td>\n    </tr>\n  </tbody>\n</table>\n<p>5 rows × 35 columns</p>\n</div>"
     },
     "execution_count": 3,
     "metadata": {},
     "output_type": "execute_result"
    }
   ],
   "source": [
    "X_train.head()"
   ],
   "metadata": {
    "collapsed": false,
    "ExecuteTime": {
     "end_time": "2023-08-26T17:39:53.439517Z",
     "start_time": "2023-08-26T17:39:53.431562Z"
    }
   },
   "id": "9a2e9a36e346443d"
  },
  {
   "cell_type": "code",
   "execution_count": 4,
   "outputs": [
    {
     "data": {
      "text/plain": "   sales\n0    0.0\n1    0.0\n2    0.0\n3    0.0\n4    0.0",
      "text/html": "<div>\n<style scoped>\n    .dataframe tbody tr th:only-of-type {\n        vertical-align: middle;\n    }\n\n    .dataframe tbody tr th {\n        vertical-align: top;\n    }\n\n    .dataframe thead th {\n        text-align: right;\n    }\n</style>\n<table border=\"1\" class=\"dataframe\">\n  <thead>\n    <tr style=\"text-align: right;\">\n      <th></th>\n      <th>sales</th>\n    </tr>\n  </thead>\n  <tbody>\n    <tr>\n      <th>0</th>\n      <td>0.0</td>\n    </tr>\n    <tr>\n      <th>1</th>\n      <td>0.0</td>\n    </tr>\n    <tr>\n      <th>2</th>\n      <td>0.0</td>\n    </tr>\n    <tr>\n      <th>3</th>\n      <td>0.0</td>\n    </tr>\n    <tr>\n      <th>4</th>\n      <td>0.0</td>\n    </tr>\n  </tbody>\n</table>\n</div>"
     },
     "execution_count": 4,
     "metadata": {},
     "output_type": "execute_result"
    }
   ],
   "source": [
    "y_train.head()"
   ],
   "metadata": {
    "collapsed": false,
    "ExecuteTime": {
     "end_time": "2023-08-26T17:39:53.453661Z",
     "start_time": "2023-08-26T17:39:53.439794Z"
    }
   },
   "id": "d36bfbac93d780c9"
  },
  {
   "cell_type": "code",
   "execution_count": 5,
   "outputs": [
    {
     "data": {
      "text/plain": "   date_year  date_month  date_day  store_nbr_0  store_nbr_1  store_nbr_2  \\\n0       2017           8        16            0            0            0   \n1       2017           8        16            0            0            0   \n2       2017           8        16            0            0            0   \n3       2017           8        16            0            0            0   \n4       2017           8        16            0            0            0   \n\n   store_nbr_3  store_nbr_4  store_nbr_5  family_0  ...  type_0  type_1  \\\n0            0            0            0         0  ...       0       1   \n1            0            0            0         0  ...       0       1   \n2            0            0            0         0  ...       0       1   \n3            0            0            0         0  ...       0       1   \n4            0            0            0         0  ...       0       1   \n\n   type_2  cluster_0  cluster_1  cluster_2  cluster_3  cluster_4  dcoilwtico  \\\n0       1          0          1          1          0          0        46.8   \n1       1          0          1          1          0          0        46.8   \n2       1          0          1          1          0          0        46.8   \n3       1          0          1          1          0          0        46.8   \n4       1          0          1          1          0          0        46.8   \n\n   holiday?  \n0       0.0  \n1       0.0  \n2       0.0  \n3       0.0  \n4       0.0  \n\n[5 rows x 35 columns]",
      "text/html": "<div>\n<style scoped>\n    .dataframe tbody tr th:only-of-type {\n        vertical-align: middle;\n    }\n\n    .dataframe tbody tr th {\n        vertical-align: top;\n    }\n\n    .dataframe thead th {\n        text-align: right;\n    }\n</style>\n<table border=\"1\" class=\"dataframe\">\n  <thead>\n    <tr style=\"text-align: right;\">\n      <th></th>\n      <th>date_year</th>\n      <th>date_month</th>\n      <th>date_day</th>\n      <th>store_nbr_0</th>\n      <th>store_nbr_1</th>\n      <th>store_nbr_2</th>\n      <th>store_nbr_3</th>\n      <th>store_nbr_4</th>\n      <th>store_nbr_5</th>\n      <th>family_0</th>\n      <th>...</th>\n      <th>type_0</th>\n      <th>type_1</th>\n      <th>type_2</th>\n      <th>cluster_0</th>\n      <th>cluster_1</th>\n      <th>cluster_2</th>\n      <th>cluster_3</th>\n      <th>cluster_4</th>\n      <th>dcoilwtico</th>\n      <th>holiday?</th>\n    </tr>\n  </thead>\n  <tbody>\n    <tr>\n      <th>0</th>\n      <td>2017</td>\n      <td>8</td>\n      <td>16</td>\n      <td>0</td>\n      <td>0</td>\n      <td>0</td>\n      <td>0</td>\n      <td>0</td>\n      <td>0</td>\n      <td>0</td>\n      <td>...</td>\n      <td>0</td>\n      <td>1</td>\n      <td>1</td>\n      <td>0</td>\n      <td>1</td>\n      <td>1</td>\n      <td>0</td>\n      <td>0</td>\n      <td>46.8</td>\n      <td>0.0</td>\n    </tr>\n    <tr>\n      <th>1</th>\n      <td>2017</td>\n      <td>8</td>\n      <td>16</td>\n      <td>0</td>\n      <td>0</td>\n      <td>0</td>\n      <td>0</td>\n      <td>0</td>\n      <td>0</td>\n      <td>0</td>\n      <td>...</td>\n      <td>0</td>\n      <td>1</td>\n      <td>1</td>\n      <td>0</td>\n      <td>1</td>\n      <td>1</td>\n      <td>0</td>\n      <td>0</td>\n      <td>46.8</td>\n      <td>0.0</td>\n    </tr>\n    <tr>\n      <th>2</th>\n      <td>2017</td>\n      <td>8</td>\n      <td>16</td>\n      <td>0</td>\n      <td>0</td>\n      <td>0</td>\n      <td>0</td>\n      <td>0</td>\n      <td>0</td>\n      <td>0</td>\n      <td>...</td>\n      <td>0</td>\n      <td>1</td>\n      <td>1</td>\n      <td>0</td>\n      <td>1</td>\n      <td>1</td>\n      <td>0</td>\n      <td>0</td>\n      <td>46.8</td>\n      <td>0.0</td>\n    </tr>\n    <tr>\n      <th>3</th>\n      <td>2017</td>\n      <td>8</td>\n      <td>16</td>\n      <td>0</td>\n      <td>0</td>\n      <td>0</td>\n      <td>0</td>\n      <td>0</td>\n      <td>0</td>\n      <td>0</td>\n      <td>...</td>\n      <td>0</td>\n      <td>1</td>\n      <td>1</td>\n      <td>0</td>\n      <td>1</td>\n      <td>1</td>\n      <td>0</td>\n      <td>0</td>\n      <td>46.8</td>\n      <td>0.0</td>\n    </tr>\n    <tr>\n      <th>4</th>\n      <td>2017</td>\n      <td>8</td>\n      <td>16</td>\n      <td>0</td>\n      <td>0</td>\n      <td>0</td>\n      <td>0</td>\n      <td>0</td>\n      <td>0</td>\n      <td>0</td>\n      <td>...</td>\n      <td>0</td>\n      <td>1</td>\n      <td>1</td>\n      <td>0</td>\n      <td>1</td>\n      <td>1</td>\n      <td>0</td>\n      <td>0</td>\n      <td>46.8</td>\n      <td>0.0</td>\n    </tr>\n  </tbody>\n</table>\n<p>5 rows × 35 columns</p>\n</div>"
     },
     "execution_count": 5,
     "metadata": {},
     "output_type": "execute_result"
    }
   ],
   "source": [
    "X_test.head()"
   ],
   "metadata": {
    "collapsed": false,
    "ExecuteTime": {
     "end_time": "2023-08-26T17:39:53.454357Z",
     "start_time": "2023-08-26T17:39:53.444719Z"
    }
   },
   "id": "b773e1059b153627"
  },
  {
   "cell_type": "code",
   "execution_count": 6,
   "outputs": [
    {
     "name": "stdout",
     "output_type": "stream",
     "text": [
      "Number of rows in X_train :  1048575\n",
      "Number of rows in y_train :  1048575\n",
      "Number of rows in X_test  :  28512\n"
     ]
    }
   ],
   "source": [
    "print(\"Number of rows in X_train : \",len(X_train))\n",
    "print(\"Number of rows in y_train : \",len(y_train))\n",
    "print(\"Number of rows in X_test  : \",len(X_test))"
   ],
   "metadata": {
    "collapsed": false,
    "ExecuteTime": {
     "end_time": "2023-08-26T17:39:53.454860Z",
     "start_time": "2023-08-26T17:39:53.446685Z"
    }
   },
   "id": "4245b75f318c873e"
  },
  {
   "cell_type": "code",
   "execution_count": 7,
   "outputs": [
    {
     "data": {
      "text/plain": "date_year        int64\ndate_month       int64\ndate_day         int64\nstore_nbr_0      int64\nstore_nbr_1      int64\nstore_nbr_2      int64\nstore_nbr_3      int64\nstore_nbr_4      int64\nstore_nbr_5      int64\nfamily_0         int64\nfamily_1         int64\nfamily_2         int64\nfamily_3         int64\nfamily_4         int64\nfamily_5         int64\nonpromotion      int64\ncity_0           int64\ncity_1           int64\ncity_2           int64\ncity_3           int64\ncity_4           int64\nstate_0          int64\nstate_1          int64\nstate_2          int64\nstate_3          int64\ntype_0           int64\ntype_1           int64\ntype_2           int64\ncluster_0        int64\ncluster_1        int64\ncluster_2        int64\ncluster_3        int64\ncluster_4        int64\ndcoilwtico     float64\nholiday?       float64\ndtype: object"
     },
     "execution_count": 7,
     "metadata": {},
     "output_type": "execute_result"
    }
   ],
   "source": [
    "X_train.dtypes"
   ],
   "metadata": {
    "collapsed": false,
    "ExecuteTime": {
     "end_time": "2023-08-26T17:39:53.455089Z",
     "start_time": "2023-08-26T17:39:53.449037Z"
    }
   },
   "id": "98d3497b57063f4a"
  },
  {
   "cell_type": "code",
   "execution_count": 8,
   "outputs": [
    {
     "data": {
      "text/plain": "date_year        int64\ndate_month       int64\ndate_day         int64\nstore_nbr_0      int64\nstore_nbr_1      int64\nstore_nbr_2      int64\nstore_nbr_3      int64\nstore_nbr_4      int64\nstore_nbr_5      int64\nfamily_0         int64\nfamily_1         int64\nfamily_2         int64\nfamily_3         int64\nfamily_4         int64\nfamily_5         int64\nonpromotion      int64\ncity_0           int64\ncity_1           int64\ncity_2           int64\ncity_3           int64\ncity_4           int64\nstate_0          int64\nstate_1          int64\nstate_2          int64\nstate_3          int64\ntype_0           int64\ntype_1           int64\ntype_2           int64\ncluster_0        int64\ncluster_1        int64\ncluster_2        int64\ncluster_3        int64\ncluster_4        int64\ndcoilwtico     float64\nholiday?       float64\ndtype: object"
     },
     "execution_count": 8,
     "metadata": {},
     "output_type": "execute_result"
    }
   ],
   "source": [
    "X_test.dtypes"
   ],
   "metadata": {
    "collapsed": false,
    "ExecuteTime": {
     "end_time": "2023-08-26T17:39:53.455281Z",
     "start_time": "2023-08-26T17:39:53.451593Z"
    }
   },
   "id": "bdc980e80e633626"
  },
  {
   "cell_type": "code",
   "execution_count": 9,
   "outputs": [
    {
     "data": {
      "text/plain": "sales    float64\ndtype: object"
     },
     "execution_count": 9,
     "metadata": {},
     "output_type": "execute_result"
    }
   ],
   "source": [
    "y_train.dtypes"
   ],
   "metadata": {
    "collapsed": false,
    "ExecuteTime": {
     "end_time": "2023-08-26T17:39:53.475941Z",
     "start_time": "2023-08-26T17:39:53.454461Z"
    }
   },
   "id": "784a6e56e97c3b9c"
  },
  {
   "cell_type": "code",
   "execution_count": 10,
   "outputs": [
    {
     "data": {
      "text/plain": "   date_year  date_month  date_day  store_nbr_0  store_nbr_1  store_nbr_2  \\\n0       2013           1         1            0            0            0   \n1       2013           1         1            0            0            0   \n2       2013           1         1            0            0            0   \n3       2013           1         1            0            0            0   \n4       2013           1         1            0            0            0   \n\n   store_nbr_3  store_nbr_4  store_nbr_5  family_0  ...  type_0  type_1  \\\n0            0            0            0         0  ...       0       1   \n1            0            0            0         0  ...       0       1   \n2            0            0            0         0  ...       0       1   \n3            0            0            0         0  ...       0       1   \n4            0            0            0         0  ...       0       1   \n\n   type_2  cluster_0  cluster_1  cluster_2  cluster_3  cluster_4  dcoilwtico  \\\n0       1          0          1          1          0          0      93.366   \n1       1          0          1          1          0          0      93.366   \n2       1          0          1          1          0          0      93.366   \n3       1          0          1          1          0          0      93.366   \n4       1          0          1          1          0          0      93.366   \n\n   holiday?  \n0       1.0  \n1       1.0  \n2       1.0  \n3       1.0  \n4       1.0  \n\n[5 rows x 35 columns]",
      "text/html": "<div>\n<style scoped>\n    .dataframe tbody tr th:only-of-type {\n        vertical-align: middle;\n    }\n\n    .dataframe tbody tr th {\n        vertical-align: top;\n    }\n\n    .dataframe thead th {\n        text-align: right;\n    }\n</style>\n<table border=\"1\" class=\"dataframe\">\n  <thead>\n    <tr style=\"text-align: right;\">\n      <th></th>\n      <th>date_year</th>\n      <th>date_month</th>\n      <th>date_day</th>\n      <th>store_nbr_0</th>\n      <th>store_nbr_1</th>\n      <th>store_nbr_2</th>\n      <th>store_nbr_3</th>\n      <th>store_nbr_4</th>\n      <th>store_nbr_5</th>\n      <th>family_0</th>\n      <th>...</th>\n      <th>type_0</th>\n      <th>type_1</th>\n      <th>type_2</th>\n      <th>cluster_0</th>\n      <th>cluster_1</th>\n      <th>cluster_2</th>\n      <th>cluster_3</th>\n      <th>cluster_4</th>\n      <th>dcoilwtico</th>\n      <th>holiday?</th>\n    </tr>\n  </thead>\n  <tbody>\n    <tr>\n      <th>0</th>\n      <td>2013</td>\n      <td>1</td>\n      <td>1</td>\n      <td>0</td>\n      <td>0</td>\n      <td>0</td>\n      <td>0</td>\n      <td>0</td>\n      <td>0</td>\n      <td>0</td>\n      <td>...</td>\n      <td>0</td>\n      <td>1</td>\n      <td>1</td>\n      <td>0</td>\n      <td>1</td>\n      <td>1</td>\n      <td>0</td>\n      <td>0</td>\n      <td>93.366</td>\n      <td>1.0</td>\n    </tr>\n    <tr>\n      <th>1</th>\n      <td>2013</td>\n      <td>1</td>\n      <td>1</td>\n      <td>0</td>\n      <td>0</td>\n      <td>0</td>\n      <td>0</td>\n      <td>0</td>\n      <td>0</td>\n      <td>0</td>\n      <td>...</td>\n      <td>0</td>\n      <td>1</td>\n      <td>1</td>\n      <td>0</td>\n      <td>1</td>\n      <td>1</td>\n      <td>0</td>\n      <td>0</td>\n      <td>93.366</td>\n      <td>1.0</td>\n    </tr>\n    <tr>\n      <th>2</th>\n      <td>2013</td>\n      <td>1</td>\n      <td>1</td>\n      <td>0</td>\n      <td>0</td>\n      <td>0</td>\n      <td>0</td>\n      <td>0</td>\n      <td>0</td>\n      <td>0</td>\n      <td>...</td>\n      <td>0</td>\n      <td>1</td>\n      <td>1</td>\n      <td>0</td>\n      <td>1</td>\n      <td>1</td>\n      <td>0</td>\n      <td>0</td>\n      <td>93.366</td>\n      <td>1.0</td>\n    </tr>\n    <tr>\n      <th>3</th>\n      <td>2013</td>\n      <td>1</td>\n      <td>1</td>\n      <td>0</td>\n      <td>0</td>\n      <td>0</td>\n      <td>0</td>\n      <td>0</td>\n      <td>0</td>\n      <td>0</td>\n      <td>...</td>\n      <td>0</td>\n      <td>1</td>\n      <td>1</td>\n      <td>0</td>\n      <td>1</td>\n      <td>1</td>\n      <td>0</td>\n      <td>0</td>\n      <td>93.366</td>\n      <td>1.0</td>\n    </tr>\n    <tr>\n      <th>4</th>\n      <td>2013</td>\n      <td>1</td>\n      <td>1</td>\n      <td>0</td>\n      <td>0</td>\n      <td>0</td>\n      <td>0</td>\n      <td>0</td>\n      <td>0</td>\n      <td>0</td>\n      <td>...</td>\n      <td>0</td>\n      <td>1</td>\n      <td>1</td>\n      <td>0</td>\n      <td>1</td>\n      <td>1</td>\n      <td>0</td>\n      <td>0</td>\n      <td>93.366</td>\n      <td>1.0</td>\n    </tr>\n  </tbody>\n</table>\n<p>5 rows × 35 columns</p>\n</div>"
     },
     "execution_count": 10,
     "metadata": {},
     "output_type": "execute_result"
    }
   ],
   "source": [
    "X_total = pd.concat([X_train,X_test])\n",
    "X_total.head()"
   ],
   "metadata": {
    "collapsed": false,
    "ExecuteTime": {
     "end_time": "2023-08-26T17:39:53.655820Z",
     "start_time": "2023-08-26T17:39:53.456932Z"
    }
   },
   "id": "21ffaf642d167fb4"
  },
  {
   "cell_type": "code",
   "execution_count": 11,
   "outputs": [],
   "source": [
    "col1 = [\"store_nbr_0\",\"store_nbr_1\",\"store_nbr_2\",\"store_nbr_3\",\"store_nbr_4\",\"store_nbr_5\",\"family_0\",\"family_1\",\"family_2\",\"family_3\",\"family_4\",\"family_5\",\"onpromotion\",\"city_0\",\"city_1\",\"city_2\",\"city_3\",\"city_4\",\"state_0\",\"state_1\",\"state_2\",\"state_3\",\"type_0\",\"type_1\",\"type_2\",\"cluster_0\",\"cluster_1\",\"cluster_2\",\"cluster_3\",\"cluster_4\",\"holiday?\"]"
   ],
   "metadata": {
    "collapsed": false,
    "ExecuteTime": {
     "end_time": "2023-08-26T17:39:53.656344Z",
     "start_time": "2023-08-26T17:39:53.530493Z"
    }
   },
   "id": "bc1257cc51aa67e0"
  },
  {
   "cell_type": "code",
   "execution_count": 12,
   "outputs": [],
   "source": [
    "col2 = [\"date_year\",\"date_month\",\"date_day\",\"dcoilwtico\"]"
   ],
   "metadata": {
    "collapsed": false,
    "ExecuteTime": {
     "end_time": "2023-08-26T17:39:53.668443Z",
     "start_time": "2023-08-26T17:39:53.536455Z"
    }
   },
   "id": "331c8895f8c6c3e"
  },
  {
   "cell_type": "code",
   "execution_count": 13,
   "outputs": [
    {
     "data": {
      "text/plain": "35"
     },
     "execution_count": 13,
     "metadata": {},
     "output_type": "execute_result"
    }
   ],
   "source": [
    "len(col1)+len(col2)"
   ],
   "metadata": {
    "collapsed": false,
    "ExecuteTime": {
     "end_time": "2023-08-26T17:39:53.668952Z",
     "start_time": "2023-08-26T17:39:53.538796Z"
    }
   },
   "id": "4b42092cd300ba17"
  },
  {
   "cell_type": "code",
   "execution_count": 14,
   "outputs": [],
   "source": [
    "ss = StandardScaler()\n",
    "\n",
    "X_total_1 = X_total.copy()\n",
    "h = X_total[col2].to_numpy()\n",
    "g = ss.fit_transform(h)\n",
    "o = pd.DataFrame(g,columns=col2)\n",
    "X_total_1[col2] = o\n",
    "X_total_1 = X_total_1[X_total.columns.values]\n",
    "X_total_1 = X_total_1.to_numpy()"
   ],
   "metadata": {
    "collapsed": false,
    "ExecuteTime": {
     "end_time": "2023-08-26T17:39:53.966779Z",
     "start_time": "2023-08-26T17:39:53.541360Z"
    }
   },
   "id": "be1f7eda85eaf6de"
  },
  {
   "cell_type": "code",
   "execution_count": 15,
   "outputs": [],
   "source": [
    "X_train_1 = pd.DataFrame(X_total_1[0:len(X_train),:],columns=X_train.columns.values)\n",
    "X_test_1 = pd.DataFrame(X_total_1[len(X_train):,:],columns=X_test.columns.values)\n",
    "y_train_1 = y_train[\"sales\"]"
   ],
   "metadata": {
    "collapsed": false,
    "ExecuteTime": {
     "end_time": "2023-08-26T17:39:53.967817Z",
     "start_time": "2023-08-26T17:39:53.965860Z"
    }
   },
   "id": "73432f22e2d0b316"
  },
  {
   "cell_type": "code",
   "execution_count": 16,
   "outputs": [
    {
     "data": {
      "text/plain": "   date_year  date_month  date_day  store_nbr_0  store_nbr_1  store_nbr_2  \\\n0  -0.633647   -1.475632 -1.668899          0.0          0.0          0.0   \n1  -0.633647   -1.475632 -1.668899          0.0          0.0          0.0   \n2  -0.633647   -1.475632 -1.668899          0.0          0.0          0.0   \n3  -0.633647   -1.475632 -1.668899          0.0          0.0          0.0   \n4  -0.633647   -1.475632 -1.668899          0.0          0.0          0.0   \n\n   store_nbr_3  store_nbr_4  store_nbr_5  family_0  ...  type_0  type_1  \\\n0          0.0          0.0          0.0       0.0  ...     0.0     1.0   \n1          0.0          0.0          0.0       0.0  ...     0.0     1.0   \n2          0.0          0.0          0.0       0.0  ...     0.0     1.0   \n3          0.0          0.0          0.0       0.0  ...     0.0     1.0   \n4          0.0          0.0          0.0       0.0  ...     0.0     1.0   \n\n   type_2  cluster_0  cluster_1  cluster_2  cluster_3  cluster_4  dcoilwtico  \\\n0     1.0        0.0        1.0        1.0        0.0        0.0   -0.474854   \n1     1.0        0.0        1.0        1.0        0.0        0.0   -0.474854   \n2     1.0        0.0        1.0        1.0        0.0        0.0   -0.474854   \n3     1.0        0.0        1.0        1.0        0.0        0.0   -0.474854   \n4     1.0        0.0        1.0        1.0        0.0        0.0   -0.474854   \n\n   holiday?  \n0       1.0  \n1       1.0  \n2       1.0  \n3       1.0  \n4       1.0  \n\n[5 rows x 35 columns]",
      "text/html": "<div>\n<style scoped>\n    .dataframe tbody tr th:only-of-type {\n        vertical-align: middle;\n    }\n\n    .dataframe tbody tr th {\n        vertical-align: top;\n    }\n\n    .dataframe thead th {\n        text-align: right;\n    }\n</style>\n<table border=\"1\" class=\"dataframe\">\n  <thead>\n    <tr style=\"text-align: right;\">\n      <th></th>\n      <th>date_year</th>\n      <th>date_month</th>\n      <th>date_day</th>\n      <th>store_nbr_0</th>\n      <th>store_nbr_1</th>\n      <th>store_nbr_2</th>\n      <th>store_nbr_3</th>\n      <th>store_nbr_4</th>\n      <th>store_nbr_5</th>\n      <th>family_0</th>\n      <th>...</th>\n      <th>type_0</th>\n      <th>type_1</th>\n      <th>type_2</th>\n      <th>cluster_0</th>\n      <th>cluster_1</th>\n      <th>cluster_2</th>\n      <th>cluster_3</th>\n      <th>cluster_4</th>\n      <th>dcoilwtico</th>\n      <th>holiday?</th>\n    </tr>\n  </thead>\n  <tbody>\n    <tr>\n      <th>0</th>\n      <td>-0.633647</td>\n      <td>-1.475632</td>\n      <td>-1.668899</td>\n      <td>0.0</td>\n      <td>0.0</td>\n      <td>0.0</td>\n      <td>0.0</td>\n      <td>0.0</td>\n      <td>0.0</td>\n      <td>0.0</td>\n      <td>...</td>\n      <td>0.0</td>\n      <td>1.0</td>\n      <td>1.0</td>\n      <td>0.0</td>\n      <td>1.0</td>\n      <td>1.0</td>\n      <td>0.0</td>\n      <td>0.0</td>\n      <td>-0.474854</td>\n      <td>1.0</td>\n    </tr>\n    <tr>\n      <th>1</th>\n      <td>-0.633647</td>\n      <td>-1.475632</td>\n      <td>-1.668899</td>\n      <td>0.0</td>\n      <td>0.0</td>\n      <td>0.0</td>\n      <td>0.0</td>\n      <td>0.0</td>\n      <td>0.0</td>\n      <td>0.0</td>\n      <td>...</td>\n      <td>0.0</td>\n      <td>1.0</td>\n      <td>1.0</td>\n      <td>0.0</td>\n      <td>1.0</td>\n      <td>1.0</td>\n      <td>0.0</td>\n      <td>0.0</td>\n      <td>-0.474854</td>\n      <td>1.0</td>\n    </tr>\n    <tr>\n      <th>2</th>\n      <td>-0.633647</td>\n      <td>-1.475632</td>\n      <td>-1.668899</td>\n      <td>0.0</td>\n      <td>0.0</td>\n      <td>0.0</td>\n      <td>0.0</td>\n      <td>0.0</td>\n      <td>0.0</td>\n      <td>0.0</td>\n      <td>...</td>\n      <td>0.0</td>\n      <td>1.0</td>\n      <td>1.0</td>\n      <td>0.0</td>\n      <td>1.0</td>\n      <td>1.0</td>\n      <td>0.0</td>\n      <td>0.0</td>\n      <td>-0.474854</td>\n      <td>1.0</td>\n    </tr>\n    <tr>\n      <th>3</th>\n      <td>-0.633647</td>\n      <td>-1.475632</td>\n      <td>-1.668899</td>\n      <td>0.0</td>\n      <td>0.0</td>\n      <td>0.0</td>\n      <td>0.0</td>\n      <td>0.0</td>\n      <td>0.0</td>\n      <td>0.0</td>\n      <td>...</td>\n      <td>0.0</td>\n      <td>1.0</td>\n      <td>1.0</td>\n      <td>0.0</td>\n      <td>1.0</td>\n      <td>1.0</td>\n      <td>0.0</td>\n      <td>0.0</td>\n      <td>-0.474854</td>\n      <td>1.0</td>\n    </tr>\n    <tr>\n      <th>4</th>\n      <td>-0.633647</td>\n      <td>-1.475632</td>\n      <td>-1.668899</td>\n      <td>0.0</td>\n      <td>0.0</td>\n      <td>0.0</td>\n      <td>0.0</td>\n      <td>0.0</td>\n      <td>0.0</td>\n      <td>0.0</td>\n      <td>...</td>\n      <td>0.0</td>\n      <td>1.0</td>\n      <td>1.0</td>\n      <td>0.0</td>\n      <td>1.0</td>\n      <td>1.0</td>\n      <td>0.0</td>\n      <td>0.0</td>\n      <td>-0.474854</td>\n      <td>1.0</td>\n    </tr>\n  </tbody>\n</table>\n<p>5 rows × 35 columns</p>\n</div>"
     },
     "execution_count": 16,
     "metadata": {},
     "output_type": "execute_result"
    }
   ],
   "source": [
    "X_train_1.head()"
   ],
   "metadata": {
    "collapsed": false,
    "ExecuteTime": {
     "end_time": "2023-08-26T17:39:53.975357Z",
     "start_time": "2023-08-26T17:39:53.968469Z"
    }
   },
   "id": "bc0d3129cee59ece"
  },
  {
   "cell_type": "code",
   "execution_count": 17,
   "outputs": [
    {
     "data": {
      "text/plain": "   date_year  date_month  date_day  store_nbr_0  store_nbr_1  store_nbr_2  \\\n0  -0.633647   -1.475632 -1.668899          0.0          0.0          0.0   \n1  -0.633647   -1.475632 -1.668899          0.0          0.0          0.0   \n2  -0.633647   -1.475632 -1.668899          0.0          0.0          0.0   \n3  -0.633647   -1.475632 -1.668899          0.0          0.0          0.0   \n4  -0.633647   -1.475632 -1.668899          0.0          0.0          0.0   \n\n   store_nbr_3  store_nbr_4  store_nbr_5  family_0  ...  type_0  type_1  \\\n0          0.0          0.0          0.0       0.0  ...     0.0     1.0   \n1          0.0          0.0          0.0       0.0  ...     0.0     1.0   \n2          0.0          0.0          0.0       0.0  ...     0.0     1.0   \n3          0.0          0.0          0.0       0.0  ...     0.0     1.0   \n4          0.0          0.0          0.0       0.0  ...     0.0     1.0   \n\n   type_2  cluster_0  cluster_1  cluster_2  cluster_3  cluster_4  dcoilwtico  \\\n0     1.0        0.0        1.0        1.0        0.0        0.0   -0.474854   \n1     1.0        0.0        1.0        1.0        0.0        0.0   -0.474854   \n2     1.0        0.0        1.0        1.0        0.0        0.0   -0.474854   \n3     1.0        0.0        1.0        1.0        0.0        0.0   -0.474854   \n4     1.0        0.0        1.0        1.0        0.0        0.0   -0.474854   \n\n   holiday?  \n0       0.0  \n1       0.0  \n2       0.0  \n3       0.0  \n4       0.0  \n\n[5 rows x 35 columns]",
      "text/html": "<div>\n<style scoped>\n    .dataframe tbody tr th:only-of-type {\n        vertical-align: middle;\n    }\n\n    .dataframe tbody tr th {\n        vertical-align: top;\n    }\n\n    .dataframe thead th {\n        text-align: right;\n    }\n</style>\n<table border=\"1\" class=\"dataframe\">\n  <thead>\n    <tr style=\"text-align: right;\">\n      <th></th>\n      <th>date_year</th>\n      <th>date_month</th>\n      <th>date_day</th>\n      <th>store_nbr_0</th>\n      <th>store_nbr_1</th>\n      <th>store_nbr_2</th>\n      <th>store_nbr_3</th>\n      <th>store_nbr_4</th>\n      <th>store_nbr_5</th>\n      <th>family_0</th>\n      <th>...</th>\n      <th>type_0</th>\n      <th>type_1</th>\n      <th>type_2</th>\n      <th>cluster_0</th>\n      <th>cluster_1</th>\n      <th>cluster_2</th>\n      <th>cluster_3</th>\n      <th>cluster_4</th>\n      <th>dcoilwtico</th>\n      <th>holiday?</th>\n    </tr>\n  </thead>\n  <tbody>\n    <tr>\n      <th>0</th>\n      <td>-0.633647</td>\n      <td>-1.475632</td>\n      <td>-1.668899</td>\n      <td>0.0</td>\n      <td>0.0</td>\n      <td>0.0</td>\n      <td>0.0</td>\n      <td>0.0</td>\n      <td>0.0</td>\n      <td>0.0</td>\n      <td>...</td>\n      <td>0.0</td>\n      <td>1.0</td>\n      <td>1.0</td>\n      <td>0.0</td>\n      <td>1.0</td>\n      <td>1.0</td>\n      <td>0.0</td>\n      <td>0.0</td>\n      <td>-0.474854</td>\n      <td>0.0</td>\n    </tr>\n    <tr>\n      <th>1</th>\n      <td>-0.633647</td>\n      <td>-1.475632</td>\n      <td>-1.668899</td>\n      <td>0.0</td>\n      <td>0.0</td>\n      <td>0.0</td>\n      <td>0.0</td>\n      <td>0.0</td>\n      <td>0.0</td>\n      <td>0.0</td>\n      <td>...</td>\n      <td>0.0</td>\n      <td>1.0</td>\n      <td>1.0</td>\n      <td>0.0</td>\n      <td>1.0</td>\n      <td>1.0</td>\n      <td>0.0</td>\n      <td>0.0</td>\n      <td>-0.474854</td>\n      <td>0.0</td>\n    </tr>\n    <tr>\n      <th>2</th>\n      <td>-0.633647</td>\n      <td>-1.475632</td>\n      <td>-1.668899</td>\n      <td>0.0</td>\n      <td>0.0</td>\n      <td>0.0</td>\n      <td>0.0</td>\n      <td>0.0</td>\n      <td>0.0</td>\n      <td>0.0</td>\n      <td>...</td>\n      <td>0.0</td>\n      <td>1.0</td>\n      <td>1.0</td>\n      <td>0.0</td>\n      <td>1.0</td>\n      <td>1.0</td>\n      <td>0.0</td>\n      <td>0.0</td>\n      <td>-0.474854</td>\n      <td>0.0</td>\n    </tr>\n    <tr>\n      <th>3</th>\n      <td>-0.633647</td>\n      <td>-1.475632</td>\n      <td>-1.668899</td>\n      <td>0.0</td>\n      <td>0.0</td>\n      <td>0.0</td>\n      <td>0.0</td>\n      <td>0.0</td>\n      <td>0.0</td>\n      <td>0.0</td>\n      <td>...</td>\n      <td>0.0</td>\n      <td>1.0</td>\n      <td>1.0</td>\n      <td>0.0</td>\n      <td>1.0</td>\n      <td>1.0</td>\n      <td>0.0</td>\n      <td>0.0</td>\n      <td>-0.474854</td>\n      <td>0.0</td>\n    </tr>\n    <tr>\n      <th>4</th>\n      <td>-0.633647</td>\n      <td>-1.475632</td>\n      <td>-1.668899</td>\n      <td>0.0</td>\n      <td>0.0</td>\n      <td>0.0</td>\n      <td>0.0</td>\n      <td>0.0</td>\n      <td>0.0</td>\n      <td>0.0</td>\n      <td>...</td>\n      <td>0.0</td>\n      <td>1.0</td>\n      <td>1.0</td>\n      <td>0.0</td>\n      <td>1.0</td>\n      <td>1.0</td>\n      <td>0.0</td>\n      <td>0.0</td>\n      <td>-0.474854</td>\n      <td>0.0</td>\n    </tr>\n  </tbody>\n</table>\n<p>5 rows × 35 columns</p>\n</div>"
     },
     "execution_count": 17,
     "metadata": {},
     "output_type": "execute_result"
    }
   ],
   "source": [
    "X_test_1.head()"
   ],
   "metadata": {
    "collapsed": false,
    "ExecuteTime": {
     "end_time": "2023-08-26T17:39:53.987721Z",
     "start_time": "2023-08-26T17:39:53.980526Z"
    }
   },
   "id": "b542a8310c99ae9c"
  },
  {
   "cell_type": "code",
   "execution_count": 18,
   "outputs": [
    {
     "data": {
      "text/plain": "0    0.0\n1    0.0\n2    0.0\n3    0.0\n4    0.0\nName: sales, dtype: float64"
     },
     "execution_count": 18,
     "metadata": {},
     "output_type": "execute_result"
    }
   ],
   "source": [
    "y_train_1.head()"
   ],
   "metadata": {
    "collapsed": false,
    "ExecuteTime": {
     "end_time": "2023-08-26T17:39:53.988120Z",
     "start_time": "2023-08-26T17:39:53.983132Z"
    }
   },
   "id": "8bbbd5819f73b04b"
  },
  {
   "cell_type": "code",
   "execution_count": 19,
   "outputs": [
    {
     "name": "stdout",
     "output_type": "stream",
     "text": [
      "Number of rows in X_train :  1048575\n",
      "Number of rows in y_train :  1048575\n",
      "Number of rows in X_test  :  28512\n"
     ]
    }
   ],
   "source": [
    "print(\"Number of rows in X_train : \",len(X_train_1))\n",
    "print(\"Number of rows in y_train : \",len(y_train_1))\n",
    "print(\"Number of rows in X_test  : \",len(X_test_1))"
   ],
   "metadata": {
    "collapsed": false,
    "ExecuteTime": {
     "end_time": "2023-08-26T17:39:53.988763Z",
     "start_time": "2023-08-26T17:39:53.985458Z"
    }
   },
   "id": "440056de78b4d0dd"
  },
  {
   "cell_type": "code",
   "execution_count": 20,
   "outputs": [],
   "source": [
    "sgd = SGDRegressor()\n",
    "model = sgd.fit(X_train_1,y_train_1)"
   ],
   "metadata": {
    "collapsed": false,
    "ExecuteTime": {
     "end_time": "2023-08-26T17:39:59.118686Z",
     "start_time": "2023-08-26T17:39:53.989733Z"
    }
   },
   "id": "4222e1036d553379"
  },
  {
   "cell_type": "code",
   "execution_count": 21,
   "outputs": [],
   "source": [
    "y_test_1 = model.predict(X_test_1)"
   ],
   "metadata": {
    "collapsed": false,
    "ExecuteTime": {
     "end_time": "2023-08-26T17:39:59.133211Z",
     "start_time": "2023-08-26T17:39:59.125398Z"
    }
   },
   "id": "cbbd63c95e7d7772"
  },
  {
   "cell_type": "code",
   "execution_count": 22,
   "outputs": [
    {
     "data": {
      "text/plain": "array([356.97883586, 269.66602761, 288.34827773, ..., 218.09859663,\n       347.65563895,   9.59378225])"
     },
     "execution_count": 22,
     "metadata": {},
     "output_type": "execute_result"
    }
   ],
   "source": [
    "y_test_1"
   ],
   "metadata": {
    "collapsed": false,
    "ExecuteTime": {
     "end_time": "2023-08-26T17:39:59.133829Z",
     "start_time": "2023-08-26T17:39:59.129469Z"
    }
   },
   "id": "45362540faf72fb7"
  },
  {
   "cell_type": "code",
   "execution_count": 23,
   "outputs": [
    {
     "data": {
      "text/plain": "0    3000888\n1    3000889\n2    3000890\n3    3000891\n4    3000892\nName: id, dtype: int64"
     },
     "execution_count": 23,
     "metadata": {},
     "output_type": "execute_result"
    }
   ],
   "source": [
    "org = pd.read_csv(\"test.csv\")\n",
    "id = org[\"id\"]\n",
    "id.head()"
   ],
   "metadata": {
    "collapsed": false,
    "ExecuteTime": {
     "end_time": "2023-08-26T17:39:59.145778Z",
     "start_time": "2023-08-26T17:39:59.132430Z"
    }
   },
   "id": "bffb4493779c750a"
  },
  {
   "cell_type": "code",
   "execution_count": 24,
   "outputs": [],
   "source": [
    "final_df = pd.DataFrame(columns=[\"id\",\"sales\"])\n",
    "final_df[\"id\"] = id\n",
    "final_df[\"sales\"] = y_test_1.round(2)"
   ],
   "metadata": {
    "collapsed": false,
    "ExecuteTime": {
     "end_time": "2023-08-26T17:39:59.154654Z",
     "start_time": "2023-08-26T17:39:59.147344Z"
    }
   },
   "id": "b877410ff0fcde14"
  },
  {
   "cell_type": "code",
   "execution_count": 25,
   "outputs": [
    {
     "data": {
      "text/plain": "        id   sales\n0  3000888  356.98\n1  3000889  269.67\n2  3000890  288.35\n3  3000891  688.99\n4  3000892  497.23",
      "text/html": "<div>\n<style scoped>\n    .dataframe tbody tr th:only-of-type {\n        vertical-align: middle;\n    }\n\n    .dataframe tbody tr th {\n        vertical-align: top;\n    }\n\n    .dataframe thead th {\n        text-align: right;\n    }\n</style>\n<table border=\"1\" class=\"dataframe\">\n  <thead>\n    <tr style=\"text-align: right;\">\n      <th></th>\n      <th>id</th>\n      <th>sales</th>\n    </tr>\n  </thead>\n  <tbody>\n    <tr>\n      <th>0</th>\n      <td>3000888</td>\n      <td>356.98</td>\n    </tr>\n    <tr>\n      <th>1</th>\n      <td>3000889</td>\n      <td>269.67</td>\n    </tr>\n    <tr>\n      <th>2</th>\n      <td>3000890</td>\n      <td>288.35</td>\n    </tr>\n    <tr>\n      <th>3</th>\n      <td>3000891</td>\n      <td>688.99</td>\n    </tr>\n    <tr>\n      <th>4</th>\n      <td>3000892</td>\n      <td>497.23</td>\n    </tr>\n  </tbody>\n</table>\n</div>"
     },
     "execution_count": 25,
     "metadata": {},
     "output_type": "execute_result"
    }
   ],
   "source": [
    "final_df.head()"
   ],
   "metadata": {
    "collapsed": false,
    "ExecuteTime": {
     "end_time": "2023-08-26T17:39:59.155521Z",
     "start_time": "2023-08-26T17:39:59.151794Z"
    }
   },
   "id": "f94381cb61024e2"
  },
  {
   "cell_type": "code",
   "execution_count": 26,
   "outputs": [],
   "source": [
    "final_df.to_csv(\"amith_submission.csv\",index=False)"
   ],
   "metadata": {
    "collapsed": false,
    "ExecuteTime": {
     "end_time": "2023-08-26T17:39:59.220757Z",
     "start_time": "2023-08-26T17:39:59.155160Z"
    }
   },
   "id": "a86ce9a3e9742c64"
  },
  {
   "cell_type": "code",
   "execution_count": 27,
   "outputs": [],
   "source": [
    "final_df2 = pd.DataFrame(columns=[\"id\",\"sales\"])\n",
    "final_df2[\"id\"] = id\n",
    "final_df2[\"sales\"] = y_test_1"
   ],
   "metadata": {
    "collapsed": false,
    "ExecuteTime": {
     "end_time": "2023-08-26T17:39:59.223714Z",
     "start_time": "2023-08-26T17:39:59.181849Z"
    }
   },
   "id": "4438a600cb500b72"
  },
  {
   "cell_type": "code",
   "execution_count": 28,
   "outputs": [
    {
     "data": {
      "text/plain": "        id       sales\n0  3000888  356.978836\n1  3000889  269.666028\n2  3000890  288.348278\n3  3000891  688.992633\n4  3000892  497.230492",
      "text/html": "<div>\n<style scoped>\n    .dataframe tbody tr th:only-of-type {\n        vertical-align: middle;\n    }\n\n    .dataframe tbody tr th {\n        vertical-align: top;\n    }\n\n    .dataframe thead th {\n        text-align: right;\n    }\n</style>\n<table border=\"1\" class=\"dataframe\">\n  <thead>\n    <tr style=\"text-align: right;\">\n      <th></th>\n      <th>id</th>\n      <th>sales</th>\n    </tr>\n  </thead>\n  <tbody>\n    <tr>\n      <th>0</th>\n      <td>3000888</td>\n      <td>356.978836</td>\n    </tr>\n    <tr>\n      <th>1</th>\n      <td>3000889</td>\n      <td>269.666028</td>\n    </tr>\n    <tr>\n      <th>2</th>\n      <td>3000890</td>\n      <td>288.348278</td>\n    </tr>\n    <tr>\n      <th>3</th>\n      <td>3000891</td>\n      <td>688.992633</td>\n    </tr>\n    <tr>\n      <th>4</th>\n      <td>3000892</td>\n      <td>497.230492</td>\n    </tr>\n  </tbody>\n</table>\n</div>"
     },
     "execution_count": 28,
     "metadata": {},
     "output_type": "execute_result"
    }
   ],
   "source": [
    "final_df2.head()"
   ],
   "metadata": {
    "collapsed": false,
    "ExecuteTime": {
     "end_time": "2023-08-26T17:39:59.224157Z",
     "start_time": "2023-08-26T17:39:59.187092Z"
    }
   },
   "id": "94aa9d0ffe2322c7"
  },
  {
   "cell_type": "code",
   "execution_count": 29,
   "outputs": [],
   "source": [
    "final_df2.to_csv(\"amith_submission2.csv\",index=False)"
   ],
   "metadata": {
    "collapsed": false,
    "ExecuteTime": {
     "end_time": "2023-08-26T17:39:59.224822Z",
     "start_time": "2023-08-26T17:39:59.189332Z"
    }
   },
   "id": "7ad5faef389874e1"
  },
  {
   "cell_type": "code",
   "execution_count": null,
   "outputs": [],
   "source": [],
   "metadata": {
    "collapsed": false
   },
   "id": "b0e45832c85d06a3"
  }
 ],
 "metadata": {
  "kernelspec": {
   "display_name": "Python 3",
   "language": "python",
   "name": "python3"
  },
  "language_info": {
   "codemirror_mode": {
    "name": "ipython",
    "version": 2
   },
   "file_extension": ".py",
   "mimetype": "text/x-python",
   "name": "python",
   "nbconvert_exporter": "python",
   "pygments_lexer": "ipython2",
   "version": "2.7.6"
  }
 },
 "nbformat": 4,
 "nbformat_minor": 5
}
