{
 "cells": [
  {
   "cell_type": "markdown",
   "source": [
    "## Machine Learning"
   ],
   "metadata": {
    "collapsed": false
   },
   "id": "12cffaefad3fa9fc"
  },
  {
   "cell_type": "markdown",
   "source": [
    "Now, we are done with both exploratory data analysis and preprocessing. Now we will go ahead with performing machine learning."
   ],
   "metadata": {
    "collapsed": false
   },
   "id": "cf0e91e0bf2895c2"
  },
  {
   "cell_type": "markdown",
   "source": [
    "### Importing all packages"
   ],
   "metadata": {
    "collapsed": false
   },
   "id": "1019269a95cfc675"
  },
  {
   "cell_type": "code",
   "execution_count": 58,
   "outputs": [],
   "source": [
    "import numpy as np\n",
    "import pandas as pd\n",
    "import matplotlib.pyplot as plt\n",
    "import seaborn as sns\n",
    "from sklearn.model_selection import *\n",
    "from sklearn.linear_model import *\n",
    "from math import *\n",
    "from sklearn.ensemble import *\n",
    "from sklearn.feature_selection import *\n",
    "from sklearn.feature_extraction import *\n",
    "from sklearn.naive_bayes import *\n",
    "from sklearn.discriminant_analysis import *\n",
    "from sklearn.preprocessing import *\n",
    "from sklearn.metrics import *\n",
    "from sklearn.neighbors import *\n",
    "from sklearn.cluster import *\n",
    "from sklearn.kernel_approximation import *\n",
    "from sklearn.svm import *"
   ],
   "metadata": {
    "collapsed": false,
    "ExecuteTime": {
     "end_time": "2023-08-26T01:26:27.366912Z",
     "start_time": "2023-08-26T01:26:27.363335Z"
    }
   },
   "id": "9677d33d3d77416f"
  },
  {
   "cell_type": "code",
   "execution_count": 59,
   "outputs": [],
   "source": [
    "X_train = pd.read_csv(\"train_X_preprocessed.csv\")\n",
    "y_train = pd.read_csv(\"train_y_preprocessed.csv\")\n",
    "X_test = pd.read_csv(\"test_preprocessed.csv\")"
   ],
   "metadata": {
    "collapsed": false,
    "ExecuteTime": {
     "end_time": "2023-08-26T01:26:28.832049Z",
     "start_time": "2023-08-26T01:26:27.888655Z"
    }
   },
   "id": "d755f7d863313f08"
  },
  {
   "cell_type": "code",
   "execution_count": 60,
   "outputs": [
    {
     "data": {
      "text/plain": "   date_year  date_month  date_day  store_nbr_0  store_nbr_1  store_nbr_2  \\\n0       2013           1         1            0            0            0   \n1       2013           1         1            0            0            0   \n2       2013           1         1            0            0            0   \n3       2013           1         1            0            0            0   \n4       2013           1         1            0            0            0   \n\n   store_nbr_3  store_nbr_4  store_nbr_5  family_0  ...  type_0  type_1  \\\n0            0            0            0         0  ...       0       1   \n1            0            0            0         0  ...       0       1   \n2            0            0            0         0  ...       0       1   \n3            0            0            0         0  ...       0       1   \n4            0            0            0         0  ...       0       1   \n\n   type_2  cluster_0  cluster_1  cluster_2  cluster_3  cluster_4  dcoilwtico  \\\n0       1          0          1          1          0          0      93.366   \n1       1          0          1          1          0          0      93.366   \n2       1          0          1          1          0          0      93.366   \n3       1          0          1          1          0          0      93.366   \n4       1          0          1          1          0          0      93.366   \n\n   holiday?  \n0       1.0  \n1       1.0  \n2       1.0  \n3       1.0  \n4       1.0  \n\n[5 rows x 35 columns]",
      "text/html": "<div>\n<style scoped>\n    .dataframe tbody tr th:only-of-type {\n        vertical-align: middle;\n    }\n\n    .dataframe tbody tr th {\n        vertical-align: top;\n    }\n\n    .dataframe thead th {\n        text-align: right;\n    }\n</style>\n<table border=\"1\" class=\"dataframe\">\n  <thead>\n    <tr style=\"text-align: right;\">\n      <th></th>\n      <th>date_year</th>\n      <th>date_month</th>\n      <th>date_day</th>\n      <th>store_nbr_0</th>\n      <th>store_nbr_1</th>\n      <th>store_nbr_2</th>\n      <th>store_nbr_3</th>\n      <th>store_nbr_4</th>\n      <th>store_nbr_5</th>\n      <th>family_0</th>\n      <th>...</th>\n      <th>type_0</th>\n      <th>type_1</th>\n      <th>type_2</th>\n      <th>cluster_0</th>\n      <th>cluster_1</th>\n      <th>cluster_2</th>\n      <th>cluster_3</th>\n      <th>cluster_4</th>\n      <th>dcoilwtico</th>\n      <th>holiday?</th>\n    </tr>\n  </thead>\n  <tbody>\n    <tr>\n      <th>0</th>\n      <td>2013</td>\n      <td>1</td>\n      <td>1</td>\n      <td>0</td>\n      <td>0</td>\n      <td>0</td>\n      <td>0</td>\n      <td>0</td>\n      <td>0</td>\n      <td>0</td>\n      <td>...</td>\n      <td>0</td>\n      <td>1</td>\n      <td>1</td>\n      <td>0</td>\n      <td>1</td>\n      <td>1</td>\n      <td>0</td>\n      <td>0</td>\n      <td>93.366</td>\n      <td>1.0</td>\n    </tr>\n    <tr>\n      <th>1</th>\n      <td>2013</td>\n      <td>1</td>\n      <td>1</td>\n      <td>0</td>\n      <td>0</td>\n      <td>0</td>\n      <td>0</td>\n      <td>0</td>\n      <td>0</td>\n      <td>0</td>\n      <td>...</td>\n      <td>0</td>\n      <td>1</td>\n      <td>1</td>\n      <td>0</td>\n      <td>1</td>\n      <td>1</td>\n      <td>0</td>\n      <td>0</td>\n      <td>93.366</td>\n      <td>1.0</td>\n    </tr>\n    <tr>\n      <th>2</th>\n      <td>2013</td>\n      <td>1</td>\n      <td>1</td>\n      <td>0</td>\n      <td>0</td>\n      <td>0</td>\n      <td>0</td>\n      <td>0</td>\n      <td>0</td>\n      <td>0</td>\n      <td>...</td>\n      <td>0</td>\n      <td>1</td>\n      <td>1</td>\n      <td>0</td>\n      <td>1</td>\n      <td>1</td>\n      <td>0</td>\n      <td>0</td>\n      <td>93.366</td>\n      <td>1.0</td>\n    </tr>\n    <tr>\n      <th>3</th>\n      <td>2013</td>\n      <td>1</td>\n      <td>1</td>\n      <td>0</td>\n      <td>0</td>\n      <td>0</td>\n      <td>0</td>\n      <td>0</td>\n      <td>0</td>\n      <td>0</td>\n      <td>...</td>\n      <td>0</td>\n      <td>1</td>\n      <td>1</td>\n      <td>0</td>\n      <td>1</td>\n      <td>1</td>\n      <td>0</td>\n      <td>0</td>\n      <td>93.366</td>\n      <td>1.0</td>\n    </tr>\n    <tr>\n      <th>4</th>\n      <td>2013</td>\n      <td>1</td>\n      <td>1</td>\n      <td>0</td>\n      <td>0</td>\n      <td>0</td>\n      <td>0</td>\n      <td>0</td>\n      <td>0</td>\n      <td>0</td>\n      <td>...</td>\n      <td>0</td>\n      <td>1</td>\n      <td>1</td>\n      <td>0</td>\n      <td>1</td>\n      <td>1</td>\n      <td>0</td>\n      <td>0</td>\n      <td>93.366</td>\n      <td>1.0</td>\n    </tr>\n  </tbody>\n</table>\n<p>5 rows × 35 columns</p>\n</div>"
     },
     "execution_count": 60,
     "metadata": {},
     "output_type": "execute_result"
    }
   ],
   "source": [
    "X_train.head()"
   ],
   "metadata": {
    "collapsed": false,
    "ExecuteTime": {
     "end_time": "2023-08-26T01:26:28.846636Z",
     "start_time": "2023-08-26T01:26:28.834123Z"
    }
   },
   "id": "9a2e9a36e346443d"
  },
  {
   "cell_type": "code",
   "execution_count": 61,
   "outputs": [
    {
     "data": {
      "text/plain": "   sales\n0    0.0\n1    0.0\n2    0.0\n3    0.0\n4    0.0",
      "text/html": "<div>\n<style scoped>\n    .dataframe tbody tr th:only-of-type {\n        vertical-align: middle;\n    }\n\n    .dataframe tbody tr th {\n        vertical-align: top;\n    }\n\n    .dataframe thead th {\n        text-align: right;\n    }\n</style>\n<table border=\"1\" class=\"dataframe\">\n  <thead>\n    <tr style=\"text-align: right;\">\n      <th></th>\n      <th>sales</th>\n    </tr>\n  </thead>\n  <tbody>\n    <tr>\n      <th>0</th>\n      <td>0.0</td>\n    </tr>\n    <tr>\n      <th>1</th>\n      <td>0.0</td>\n    </tr>\n    <tr>\n      <th>2</th>\n      <td>0.0</td>\n    </tr>\n    <tr>\n      <th>3</th>\n      <td>0.0</td>\n    </tr>\n    <tr>\n      <th>4</th>\n      <td>0.0</td>\n    </tr>\n  </tbody>\n</table>\n</div>"
     },
     "execution_count": 61,
     "metadata": {},
     "output_type": "execute_result"
    }
   ],
   "source": [
    "y_train.head()"
   ],
   "metadata": {
    "collapsed": false,
    "ExecuteTime": {
     "end_time": "2023-08-26T01:26:29.573842Z",
     "start_time": "2023-08-26T01:26:29.568914Z"
    }
   },
   "id": "d36bfbac93d780c9"
  },
  {
   "cell_type": "code",
   "execution_count": 62,
   "outputs": [
    {
     "data": {
      "text/plain": "   date_year  date_month  date_day  store_nbr_0  store_nbr_1  store_nbr_2  \\\n0       2017           8        16            0            0            0   \n1       2017           8        16            0            0            0   \n2       2017           8        16            0            0            0   \n3       2017           8        16            0            0            0   \n4       2017           8        16            0            0            0   \n\n   store_nbr_3  store_nbr_4  store_nbr_5  family_0  ...  type_0  type_1  \\\n0            0            0            0         0  ...       0       1   \n1            0            0            0         0  ...       0       1   \n2            0            0            0         0  ...       0       1   \n3            0            0            0         0  ...       0       1   \n4            0            0            0         0  ...       0       1   \n\n   type_2  cluster_0  cluster_1  cluster_2  cluster_3  cluster_4  dcoilwtico  \\\n0       1          0          1          1          0          0        46.8   \n1       1          0          1          1          0          0        46.8   \n2       1          0          1          1          0          0        46.8   \n3       1          0          1          1          0          0        46.8   \n4       1          0          1          1          0          0        46.8   \n\n   holiday?  \n0       0.0  \n1       0.0  \n2       0.0  \n3       0.0  \n4       0.0  \n\n[5 rows x 35 columns]",
      "text/html": "<div>\n<style scoped>\n    .dataframe tbody tr th:only-of-type {\n        vertical-align: middle;\n    }\n\n    .dataframe tbody tr th {\n        vertical-align: top;\n    }\n\n    .dataframe thead th {\n        text-align: right;\n    }\n</style>\n<table border=\"1\" class=\"dataframe\">\n  <thead>\n    <tr style=\"text-align: right;\">\n      <th></th>\n      <th>date_year</th>\n      <th>date_month</th>\n      <th>date_day</th>\n      <th>store_nbr_0</th>\n      <th>store_nbr_1</th>\n      <th>store_nbr_2</th>\n      <th>store_nbr_3</th>\n      <th>store_nbr_4</th>\n      <th>store_nbr_5</th>\n      <th>family_0</th>\n      <th>...</th>\n      <th>type_0</th>\n      <th>type_1</th>\n      <th>type_2</th>\n      <th>cluster_0</th>\n      <th>cluster_1</th>\n      <th>cluster_2</th>\n      <th>cluster_3</th>\n      <th>cluster_4</th>\n      <th>dcoilwtico</th>\n      <th>holiday?</th>\n    </tr>\n  </thead>\n  <tbody>\n    <tr>\n      <th>0</th>\n      <td>2017</td>\n      <td>8</td>\n      <td>16</td>\n      <td>0</td>\n      <td>0</td>\n      <td>0</td>\n      <td>0</td>\n      <td>0</td>\n      <td>0</td>\n      <td>0</td>\n      <td>...</td>\n      <td>0</td>\n      <td>1</td>\n      <td>1</td>\n      <td>0</td>\n      <td>1</td>\n      <td>1</td>\n      <td>0</td>\n      <td>0</td>\n      <td>46.8</td>\n      <td>0.0</td>\n    </tr>\n    <tr>\n      <th>1</th>\n      <td>2017</td>\n      <td>8</td>\n      <td>16</td>\n      <td>0</td>\n      <td>0</td>\n      <td>0</td>\n      <td>0</td>\n      <td>0</td>\n      <td>0</td>\n      <td>0</td>\n      <td>...</td>\n      <td>0</td>\n      <td>1</td>\n      <td>1</td>\n      <td>0</td>\n      <td>1</td>\n      <td>1</td>\n      <td>0</td>\n      <td>0</td>\n      <td>46.8</td>\n      <td>0.0</td>\n    </tr>\n    <tr>\n      <th>2</th>\n      <td>2017</td>\n      <td>8</td>\n      <td>16</td>\n      <td>0</td>\n      <td>0</td>\n      <td>0</td>\n      <td>0</td>\n      <td>0</td>\n      <td>0</td>\n      <td>0</td>\n      <td>...</td>\n      <td>0</td>\n      <td>1</td>\n      <td>1</td>\n      <td>0</td>\n      <td>1</td>\n      <td>1</td>\n      <td>0</td>\n      <td>0</td>\n      <td>46.8</td>\n      <td>0.0</td>\n    </tr>\n    <tr>\n      <th>3</th>\n      <td>2017</td>\n      <td>8</td>\n      <td>16</td>\n      <td>0</td>\n      <td>0</td>\n      <td>0</td>\n      <td>0</td>\n      <td>0</td>\n      <td>0</td>\n      <td>0</td>\n      <td>...</td>\n      <td>0</td>\n      <td>1</td>\n      <td>1</td>\n      <td>0</td>\n      <td>1</td>\n      <td>1</td>\n      <td>0</td>\n      <td>0</td>\n      <td>46.8</td>\n      <td>0.0</td>\n    </tr>\n    <tr>\n      <th>4</th>\n      <td>2017</td>\n      <td>8</td>\n      <td>16</td>\n      <td>0</td>\n      <td>0</td>\n      <td>0</td>\n      <td>0</td>\n      <td>0</td>\n      <td>0</td>\n      <td>0</td>\n      <td>...</td>\n      <td>0</td>\n      <td>1</td>\n      <td>1</td>\n      <td>0</td>\n      <td>1</td>\n      <td>1</td>\n      <td>0</td>\n      <td>0</td>\n      <td>46.8</td>\n      <td>0.0</td>\n    </tr>\n  </tbody>\n</table>\n<p>5 rows × 35 columns</p>\n</div>"
     },
     "execution_count": 62,
     "metadata": {},
     "output_type": "execute_result"
    }
   ],
   "source": [
    "X_test.head()"
   ],
   "metadata": {
    "collapsed": false,
    "ExecuteTime": {
     "end_time": "2023-08-26T01:26:31.480558Z",
     "start_time": "2023-08-26T01:26:31.476815Z"
    }
   },
   "id": "b773e1059b153627"
  },
  {
   "cell_type": "code",
   "execution_count": 63,
   "outputs": [
    {
     "name": "stdout",
     "output_type": "stream",
     "text": [
      "Number of rows in X_train :  1048575\n",
      "Number of rows in y_train :  1048575\n",
      "Number of rows in X_test  :  28512\n"
     ]
    }
   ],
   "source": [
    "print(\"Number of rows in X_train : \",len(X_train))\n",
    "print(\"Number of rows in y_train : \",len(y_train))\n",
    "print(\"Number of rows in X_test  : \",len(X_test))"
   ],
   "metadata": {
    "collapsed": false,
    "ExecuteTime": {
     "end_time": "2023-08-26T01:26:32.097905Z",
     "start_time": "2023-08-26T01:26:32.089437Z"
    }
   },
   "id": "4245b75f318c873e"
  },
  {
   "cell_type": "code",
   "execution_count": 64,
   "outputs": [
    {
     "data": {
      "text/plain": "date_year        int64\ndate_month       int64\ndate_day         int64\nstore_nbr_0      int64\nstore_nbr_1      int64\nstore_nbr_2      int64\nstore_nbr_3      int64\nstore_nbr_4      int64\nstore_nbr_5      int64\nfamily_0         int64\nfamily_1         int64\nfamily_2         int64\nfamily_3         int64\nfamily_4         int64\nfamily_5         int64\nonpromotion      int64\ncity_0           int64\ncity_1           int64\ncity_2           int64\ncity_3           int64\ncity_4           int64\nstate_0          int64\nstate_1          int64\nstate_2          int64\nstate_3          int64\ntype_0           int64\ntype_1           int64\ntype_2           int64\ncluster_0        int64\ncluster_1        int64\ncluster_2        int64\ncluster_3        int64\ncluster_4        int64\ndcoilwtico     float64\nholiday?       float64\ndtype: object"
     },
     "execution_count": 64,
     "metadata": {},
     "output_type": "execute_result"
    }
   ],
   "source": [
    "X_train.dtypes"
   ],
   "metadata": {
    "collapsed": false,
    "ExecuteTime": {
     "end_time": "2023-08-26T01:26:32.735509Z",
     "start_time": "2023-08-26T01:26:32.723042Z"
    }
   },
   "id": "98d3497b57063f4a"
  },
  {
   "cell_type": "code",
   "execution_count": 65,
   "outputs": [
    {
     "data": {
      "text/plain": "date_year        int64\ndate_month       int64\ndate_day         int64\nstore_nbr_0      int64\nstore_nbr_1      int64\nstore_nbr_2      int64\nstore_nbr_3      int64\nstore_nbr_4      int64\nstore_nbr_5      int64\nfamily_0         int64\nfamily_1         int64\nfamily_2         int64\nfamily_3         int64\nfamily_4         int64\nfamily_5         int64\nonpromotion      int64\ncity_0           int64\ncity_1           int64\ncity_2           int64\ncity_3           int64\ncity_4           int64\nstate_0          int64\nstate_1          int64\nstate_2          int64\nstate_3          int64\ntype_0           int64\ntype_1           int64\ntype_2           int64\ncluster_0        int64\ncluster_1        int64\ncluster_2        int64\ncluster_3        int64\ncluster_4        int64\ndcoilwtico     float64\nholiday?       float64\ndtype: object"
     },
     "execution_count": 65,
     "metadata": {},
     "output_type": "execute_result"
    }
   ],
   "source": [
    "X_test.dtypes"
   ],
   "metadata": {
    "collapsed": false,
    "ExecuteTime": {
     "end_time": "2023-08-26T01:26:33.299Z",
     "start_time": "2023-08-26T01:26:33.295445Z"
    }
   },
   "id": "bdc980e80e633626"
  },
  {
   "cell_type": "code",
   "execution_count": 66,
   "outputs": [
    {
     "data": {
      "text/plain": "sales    float64\ndtype: object"
     },
     "execution_count": 66,
     "metadata": {},
     "output_type": "execute_result"
    }
   ],
   "source": [
    "y_train.dtypes"
   ],
   "metadata": {
    "collapsed": false,
    "ExecuteTime": {
     "end_time": "2023-08-26T01:26:33.859588Z",
     "start_time": "2023-08-26T01:26:33.846774Z"
    }
   },
   "id": "784a6e56e97c3b9c"
  },
  {
   "cell_type": "markdown",
   "source": [
    "### Performing feature scaling"
   ],
   "metadata": {
    "collapsed": false
   },
   "id": "fba891cac14be561"
  },
  {
   "cell_type": "code",
   "execution_count": 68,
   "outputs": [],
   "source": [
    "ss = StandardScaler()\n",
    "X_total = pd.concat([X_train,X_test])\n",
    "X_total_1 = ss.fit_transform(X_total)\n",
    "X_train_1 = pd.DataFrame(X_total_1[0:len(X_train),:],columns=X_total.columns.values)\n",
    "X_test_1 = pd.DataFrame(X_total_1[len(X_train):,:],columns=X_total.columns.values)\n",
    "y_train_1 = y_train[\"sales\"]"
   ],
   "metadata": {
    "collapsed": false,
    "ExecuteTime": {
     "end_time": "2023-08-26T01:26:41.715956Z",
     "start_time": "2023-08-26T01:26:40.975111Z"
    }
   },
   "id": "be1f7eda85eaf6de"
  },
  {
   "cell_type": "code",
   "execution_count": 69,
   "outputs": [
    {
     "data": {
      "text/plain": "   date_year  date_month  date_day  store_nbr_0  store_nbr_1  store_nbr_2  \\\n0  -0.633647   -1.475632 -1.668899    -0.828663    -0.829347    -0.894526   \n1  -0.633647   -1.475632 -1.668899    -0.828663    -0.829347    -0.894526   \n2  -0.633647   -1.475632 -1.668899    -0.828663    -0.829347    -0.894526   \n3  -0.633647   -1.475632 -1.668899    -0.828663    -0.829347    -0.894526   \n4  -0.633647   -1.475632 -1.668899    -0.828663    -0.829347    -0.894526   \n\n   store_nbr_3  store_nbr_4  store_nbr_5  family_0  ...    type_0    type_1  \\\n0    -0.963501     -0.96362    -0.999969 -0.176777  ... -0.282861  0.797573   \n1    -0.963501     -0.96362    -0.999969 -0.176777  ... -0.282861  0.797573   \n2    -0.963501     -0.96362    -0.999969 -0.176777  ... -0.282861  0.797573   \n3    -0.963501     -0.96362    -0.999969 -0.176777  ... -0.282861  0.797573   \n4    -0.963501     -0.96362    -0.999969 -0.176777  ... -0.282861  0.797573   \n\n    type_2  cluster_0  cluster_1  cluster_2  cluster_3  cluster_4  dcoilwtico  \\\n0  1.03769  -0.137311   1.037626   1.037563  -0.928497  -0.963501   -0.474854   \n1  1.03769  -0.137311   1.037626   1.037563  -0.928497  -0.963501   -0.474854   \n2  1.03769  -0.137311   1.037626   1.037563  -0.928497  -0.963501   -0.474854   \n3  1.03769  -0.137311   1.037626   1.037563  -0.928497  -0.963501   -0.474854   \n4  1.03769  -0.137311   1.037626   1.037563  -0.928497  -0.963501   -0.474854   \n\n   holiday?  \n0  2.597893  \n1  2.597893  \n2  2.597893  \n3  2.597893  \n4  2.597893  \n\n[5 rows x 35 columns]",
      "text/html": "<div>\n<style scoped>\n    .dataframe tbody tr th:only-of-type {\n        vertical-align: middle;\n    }\n\n    .dataframe tbody tr th {\n        vertical-align: top;\n    }\n\n    .dataframe thead th {\n        text-align: right;\n    }\n</style>\n<table border=\"1\" class=\"dataframe\">\n  <thead>\n    <tr style=\"text-align: right;\">\n      <th></th>\n      <th>date_year</th>\n      <th>date_month</th>\n      <th>date_day</th>\n      <th>store_nbr_0</th>\n      <th>store_nbr_1</th>\n      <th>store_nbr_2</th>\n      <th>store_nbr_3</th>\n      <th>store_nbr_4</th>\n      <th>store_nbr_5</th>\n      <th>family_0</th>\n      <th>...</th>\n      <th>type_0</th>\n      <th>type_1</th>\n      <th>type_2</th>\n      <th>cluster_0</th>\n      <th>cluster_1</th>\n      <th>cluster_2</th>\n      <th>cluster_3</th>\n      <th>cluster_4</th>\n      <th>dcoilwtico</th>\n      <th>holiday?</th>\n    </tr>\n  </thead>\n  <tbody>\n    <tr>\n      <th>0</th>\n      <td>-0.633647</td>\n      <td>-1.475632</td>\n      <td>-1.668899</td>\n      <td>-0.828663</td>\n      <td>-0.829347</td>\n      <td>-0.894526</td>\n      <td>-0.963501</td>\n      <td>-0.96362</td>\n      <td>-0.999969</td>\n      <td>-0.176777</td>\n      <td>...</td>\n      <td>-0.282861</td>\n      <td>0.797573</td>\n      <td>1.03769</td>\n      <td>-0.137311</td>\n      <td>1.037626</td>\n      <td>1.037563</td>\n      <td>-0.928497</td>\n      <td>-0.963501</td>\n      <td>-0.474854</td>\n      <td>2.597893</td>\n    </tr>\n    <tr>\n      <th>1</th>\n      <td>-0.633647</td>\n      <td>-1.475632</td>\n      <td>-1.668899</td>\n      <td>-0.828663</td>\n      <td>-0.829347</td>\n      <td>-0.894526</td>\n      <td>-0.963501</td>\n      <td>-0.96362</td>\n      <td>-0.999969</td>\n      <td>-0.176777</td>\n      <td>...</td>\n      <td>-0.282861</td>\n      <td>0.797573</td>\n      <td>1.03769</td>\n      <td>-0.137311</td>\n      <td>1.037626</td>\n      <td>1.037563</td>\n      <td>-0.928497</td>\n      <td>-0.963501</td>\n      <td>-0.474854</td>\n      <td>2.597893</td>\n    </tr>\n    <tr>\n      <th>2</th>\n      <td>-0.633647</td>\n      <td>-1.475632</td>\n      <td>-1.668899</td>\n      <td>-0.828663</td>\n      <td>-0.829347</td>\n      <td>-0.894526</td>\n      <td>-0.963501</td>\n      <td>-0.96362</td>\n      <td>-0.999969</td>\n      <td>-0.176777</td>\n      <td>...</td>\n      <td>-0.282861</td>\n      <td>0.797573</td>\n      <td>1.03769</td>\n      <td>-0.137311</td>\n      <td>1.037626</td>\n      <td>1.037563</td>\n      <td>-0.928497</td>\n      <td>-0.963501</td>\n      <td>-0.474854</td>\n      <td>2.597893</td>\n    </tr>\n    <tr>\n      <th>3</th>\n      <td>-0.633647</td>\n      <td>-1.475632</td>\n      <td>-1.668899</td>\n      <td>-0.828663</td>\n      <td>-0.829347</td>\n      <td>-0.894526</td>\n      <td>-0.963501</td>\n      <td>-0.96362</td>\n      <td>-0.999969</td>\n      <td>-0.176777</td>\n      <td>...</td>\n      <td>-0.282861</td>\n      <td>0.797573</td>\n      <td>1.03769</td>\n      <td>-0.137311</td>\n      <td>1.037626</td>\n      <td>1.037563</td>\n      <td>-0.928497</td>\n      <td>-0.963501</td>\n      <td>-0.474854</td>\n      <td>2.597893</td>\n    </tr>\n    <tr>\n      <th>4</th>\n      <td>-0.633647</td>\n      <td>-1.475632</td>\n      <td>-1.668899</td>\n      <td>-0.828663</td>\n      <td>-0.829347</td>\n      <td>-0.894526</td>\n      <td>-0.963501</td>\n      <td>-0.96362</td>\n      <td>-0.999969</td>\n      <td>-0.176777</td>\n      <td>...</td>\n      <td>-0.282861</td>\n      <td>0.797573</td>\n      <td>1.03769</td>\n      <td>-0.137311</td>\n      <td>1.037626</td>\n      <td>1.037563</td>\n      <td>-0.928497</td>\n      <td>-0.963501</td>\n      <td>-0.474854</td>\n      <td>2.597893</td>\n    </tr>\n  </tbody>\n</table>\n<p>5 rows × 35 columns</p>\n</div>"
     },
     "execution_count": 69,
     "metadata": {},
     "output_type": "execute_result"
    }
   ],
   "source": [
    "X_train_1.head()"
   ],
   "metadata": {
    "collapsed": false,
    "ExecuteTime": {
     "end_time": "2023-08-26T01:26:42.966878Z",
     "start_time": "2023-08-26T01:26:42.957577Z"
    }
   },
   "id": "bc0d3129cee59ece"
  },
  {
   "cell_type": "code",
   "execution_count": 70,
   "outputs": [
    {
     "data": {
      "text/plain": "   date_year  date_month  date_day  store_nbr_0  store_nbr_1  store_nbr_2  \\\n0   4.677841    0.718889  0.033475    -0.828663    -0.829347    -0.894526   \n1   4.677841    0.718889  0.033475    -0.828663    -0.829347    -0.894526   \n2   4.677841    0.718889  0.033475    -0.828663    -0.829347    -0.894526   \n3   4.677841    0.718889  0.033475    -0.828663    -0.829347    -0.894526   \n4   4.677841    0.718889  0.033475    -0.828663    -0.829347    -0.894526   \n\n   store_nbr_3  store_nbr_4  store_nbr_5  family_0  ...    type_0    type_1  \\\n0    -0.963501     -0.96362    -0.999969 -0.176777  ... -0.282861  0.797573   \n1    -0.963501     -0.96362    -0.999969 -0.176777  ... -0.282861  0.797573   \n2    -0.963501     -0.96362    -0.999969 -0.176777  ... -0.282861  0.797573   \n3    -0.963501     -0.96362    -0.999969 -0.176777  ... -0.282861  0.797573   \n4    -0.963501     -0.96362    -0.999969 -0.176777  ... -0.282861  0.797573   \n\n    type_2  cluster_0  cluster_1  cluster_2  cluster_3  cluster_4  dcoilwtico  \\\n0  1.03769  -0.137311   1.037626   1.037563  -0.928497  -0.963501   -5.449875   \n1  1.03769  -0.137311   1.037626   1.037563  -0.928497  -0.963501   -5.449875   \n2  1.03769  -0.137311   1.037626   1.037563  -0.928497  -0.963501   -5.449875   \n3  1.03769  -0.137311   1.037626   1.037563  -0.928497  -0.963501   -5.449875   \n4  1.03769  -0.137311   1.037626   1.037563  -0.928497  -0.963501   -5.449875   \n\n   holiday?  \n0 -0.384927  \n1 -0.384927  \n2 -0.384927  \n3 -0.384927  \n4 -0.384927  \n\n[5 rows x 35 columns]",
      "text/html": "<div>\n<style scoped>\n    .dataframe tbody tr th:only-of-type {\n        vertical-align: middle;\n    }\n\n    .dataframe tbody tr th {\n        vertical-align: top;\n    }\n\n    .dataframe thead th {\n        text-align: right;\n    }\n</style>\n<table border=\"1\" class=\"dataframe\">\n  <thead>\n    <tr style=\"text-align: right;\">\n      <th></th>\n      <th>date_year</th>\n      <th>date_month</th>\n      <th>date_day</th>\n      <th>store_nbr_0</th>\n      <th>store_nbr_1</th>\n      <th>store_nbr_2</th>\n      <th>store_nbr_3</th>\n      <th>store_nbr_4</th>\n      <th>store_nbr_5</th>\n      <th>family_0</th>\n      <th>...</th>\n      <th>type_0</th>\n      <th>type_1</th>\n      <th>type_2</th>\n      <th>cluster_0</th>\n      <th>cluster_1</th>\n      <th>cluster_2</th>\n      <th>cluster_3</th>\n      <th>cluster_4</th>\n      <th>dcoilwtico</th>\n      <th>holiday?</th>\n    </tr>\n  </thead>\n  <tbody>\n    <tr>\n      <th>0</th>\n      <td>4.677841</td>\n      <td>0.718889</td>\n      <td>0.033475</td>\n      <td>-0.828663</td>\n      <td>-0.829347</td>\n      <td>-0.894526</td>\n      <td>-0.963501</td>\n      <td>-0.96362</td>\n      <td>-0.999969</td>\n      <td>-0.176777</td>\n      <td>...</td>\n      <td>-0.282861</td>\n      <td>0.797573</td>\n      <td>1.03769</td>\n      <td>-0.137311</td>\n      <td>1.037626</td>\n      <td>1.037563</td>\n      <td>-0.928497</td>\n      <td>-0.963501</td>\n      <td>-5.449875</td>\n      <td>-0.384927</td>\n    </tr>\n    <tr>\n      <th>1</th>\n      <td>4.677841</td>\n      <td>0.718889</td>\n      <td>0.033475</td>\n      <td>-0.828663</td>\n      <td>-0.829347</td>\n      <td>-0.894526</td>\n      <td>-0.963501</td>\n      <td>-0.96362</td>\n      <td>-0.999969</td>\n      <td>-0.176777</td>\n      <td>...</td>\n      <td>-0.282861</td>\n      <td>0.797573</td>\n      <td>1.03769</td>\n      <td>-0.137311</td>\n      <td>1.037626</td>\n      <td>1.037563</td>\n      <td>-0.928497</td>\n      <td>-0.963501</td>\n      <td>-5.449875</td>\n      <td>-0.384927</td>\n    </tr>\n    <tr>\n      <th>2</th>\n      <td>4.677841</td>\n      <td>0.718889</td>\n      <td>0.033475</td>\n      <td>-0.828663</td>\n      <td>-0.829347</td>\n      <td>-0.894526</td>\n      <td>-0.963501</td>\n      <td>-0.96362</td>\n      <td>-0.999969</td>\n      <td>-0.176777</td>\n      <td>...</td>\n      <td>-0.282861</td>\n      <td>0.797573</td>\n      <td>1.03769</td>\n      <td>-0.137311</td>\n      <td>1.037626</td>\n      <td>1.037563</td>\n      <td>-0.928497</td>\n      <td>-0.963501</td>\n      <td>-5.449875</td>\n      <td>-0.384927</td>\n    </tr>\n    <tr>\n      <th>3</th>\n      <td>4.677841</td>\n      <td>0.718889</td>\n      <td>0.033475</td>\n      <td>-0.828663</td>\n      <td>-0.829347</td>\n      <td>-0.894526</td>\n      <td>-0.963501</td>\n      <td>-0.96362</td>\n      <td>-0.999969</td>\n      <td>-0.176777</td>\n      <td>...</td>\n      <td>-0.282861</td>\n      <td>0.797573</td>\n      <td>1.03769</td>\n      <td>-0.137311</td>\n      <td>1.037626</td>\n      <td>1.037563</td>\n      <td>-0.928497</td>\n      <td>-0.963501</td>\n      <td>-5.449875</td>\n      <td>-0.384927</td>\n    </tr>\n    <tr>\n      <th>4</th>\n      <td>4.677841</td>\n      <td>0.718889</td>\n      <td>0.033475</td>\n      <td>-0.828663</td>\n      <td>-0.829347</td>\n      <td>-0.894526</td>\n      <td>-0.963501</td>\n      <td>-0.96362</td>\n      <td>-0.999969</td>\n      <td>-0.176777</td>\n      <td>...</td>\n      <td>-0.282861</td>\n      <td>0.797573</td>\n      <td>1.03769</td>\n      <td>-0.137311</td>\n      <td>1.037626</td>\n      <td>1.037563</td>\n      <td>-0.928497</td>\n      <td>-0.963501</td>\n      <td>-5.449875</td>\n      <td>-0.384927</td>\n    </tr>\n  </tbody>\n</table>\n<p>5 rows × 35 columns</p>\n</div>"
     },
     "execution_count": 70,
     "metadata": {},
     "output_type": "execute_result"
    }
   ],
   "source": [
    "X_test_1.head()"
   ],
   "metadata": {
    "collapsed": false,
    "ExecuteTime": {
     "end_time": "2023-08-26T01:26:43.665534Z",
     "start_time": "2023-08-26T01:26:43.661396Z"
    }
   },
   "id": "b542a8310c99ae9c"
  },
  {
   "cell_type": "code",
   "execution_count": 71,
   "outputs": [],
   "source": [
    "sgd = SGDRegressor()\n",
    "model = sgd.fit(X_train_1,y_train_1)"
   ],
   "metadata": {
    "collapsed": false,
    "ExecuteTime": {
     "end_time": "2023-08-26T01:26:54.417321Z",
     "start_time": "2023-08-26T01:26:44.364366Z"
    }
   },
   "id": "4222e1036d553379"
  },
  {
   "cell_type": "code",
   "execution_count": 72,
   "outputs": [],
   "source": [
    "y_test_1 = model.predict(X_test_1)"
   ],
   "metadata": {
    "collapsed": false,
    "ExecuteTime": {
     "end_time": "2023-08-26T01:27:29.117692Z",
     "start_time": "2023-08-26T01:27:29.091752Z"
    }
   },
   "id": "cbbd63c95e7d7772"
  },
  {
   "cell_type": "code",
   "execution_count": 75,
   "outputs": [
    {
     "data": {
      "text/plain": "array([796.14297913, 715.04069319, 712.33082287, ..., 646.14872518,\n       734.64504371, 455.93459336])"
     },
     "execution_count": 75,
     "metadata": {},
     "output_type": "execute_result"
    }
   ],
   "source": [
    "y_test_1"
   ],
   "metadata": {
    "collapsed": false,
    "ExecuteTime": {
     "end_time": "2023-08-26T01:28:15.552824Z",
     "start_time": "2023-08-26T01:28:15.549528Z"
    }
   },
   "id": "45362540faf72fb7"
  },
  {
   "cell_type": "code",
   "execution_count": 78,
   "outputs": [
    {
     "data": {
      "text/plain": "0    3000888\n1    3000889\n2    3000890\n3    3000891\n4    3000892\nName: id, dtype: int64"
     },
     "execution_count": 78,
     "metadata": {},
     "output_type": "execute_result"
    }
   ],
   "source": [
    "org = pd.read_csv(\"test.csv\")\n",
    "id = org[\"id\"]\n",
    "id.head()"
   ],
   "metadata": {
    "collapsed": false,
    "ExecuteTime": {
     "end_time": "2023-08-26T01:29:00.590623Z",
     "start_time": "2023-08-26T01:29:00.575679Z"
    }
   },
   "id": "bffb4493779c750a"
  },
  {
   "cell_type": "code",
   "execution_count": 82,
   "outputs": [],
   "source": [
    "final_df = pd.DataFrame(columns=[\"id\",\"sales\"])\n",
    "final_df[\"id\"] = id\n",
    "final_df[\"sales\"] = y_test_1.round(2)"
   ],
   "metadata": {
    "collapsed": false,
    "ExecuteTime": {
     "end_time": "2023-08-26T01:32:11.619442Z",
     "start_time": "2023-08-26T01:32:11.617372Z"
    }
   },
   "id": "b877410ff0fcde14"
  },
  {
   "cell_type": "code",
   "execution_count": 85,
   "outputs": [
    {
     "data": {
      "text/plain": "        id    sales\n0  3000888   796.14\n1  3000889   715.04\n2  3000890   712.33\n3  3000891  1012.83\n4  3000892   922.97",
      "text/html": "<div>\n<style scoped>\n    .dataframe tbody tr th:only-of-type {\n        vertical-align: middle;\n    }\n\n    .dataframe tbody tr th {\n        vertical-align: top;\n    }\n\n    .dataframe thead th {\n        text-align: right;\n    }\n</style>\n<table border=\"1\" class=\"dataframe\">\n  <thead>\n    <tr style=\"text-align: right;\">\n      <th></th>\n      <th>id</th>\n      <th>sales</th>\n    </tr>\n  </thead>\n  <tbody>\n    <tr>\n      <th>0</th>\n      <td>3000888</td>\n      <td>796.14</td>\n    </tr>\n    <tr>\n      <th>1</th>\n      <td>3000889</td>\n      <td>715.04</td>\n    </tr>\n    <tr>\n      <th>2</th>\n      <td>3000890</td>\n      <td>712.33</td>\n    </tr>\n    <tr>\n      <th>3</th>\n      <td>3000891</td>\n      <td>1012.83</td>\n    </tr>\n    <tr>\n      <th>4</th>\n      <td>3000892</td>\n      <td>922.97</td>\n    </tr>\n  </tbody>\n</table>\n</div>"
     },
     "execution_count": 85,
     "metadata": {},
     "output_type": "execute_result"
    }
   ],
   "source": [
    "final_df.head()"
   ],
   "metadata": {
    "collapsed": false,
    "ExecuteTime": {
     "end_time": "2023-08-26T01:32:21.116066Z",
     "start_time": "2023-08-26T01:32:21.112690Z"
    }
   },
   "id": "f94381cb61024e2"
  },
  {
   "cell_type": "code",
   "execution_count": 86,
   "outputs": [],
   "source": [
    "final_df.to_csv(\"amith_submission.csv\",index=False)"
   ],
   "metadata": {
    "collapsed": false,
    "ExecuteTime": {
     "end_time": "2023-08-26T01:32:21.697178Z",
     "start_time": "2023-08-26T01:32:21.672960Z"
    }
   },
   "id": "a86ce9a3e9742c64"
  },
  {
   "cell_type": "code",
   "execution_count": null,
   "outputs": [],
   "source": [],
   "metadata": {
    "collapsed": false
   },
   "id": "4438a600cb500b72"
  }
 ],
 "metadata": {
  "kernelspec": {
   "display_name": "Python 3",
   "language": "python",
   "name": "python3"
  },
  "language_info": {
   "codemirror_mode": {
    "name": "ipython",
    "version": 2
   },
   "file_extension": ".py",
   "mimetype": "text/x-python",
   "name": "python",
   "nbconvert_exporter": "python",
   "pygments_lexer": "ipython2",
   "version": "2.7.6"
  }
 },
 "nbformat": 4,
 "nbformat_minor": 5
}
