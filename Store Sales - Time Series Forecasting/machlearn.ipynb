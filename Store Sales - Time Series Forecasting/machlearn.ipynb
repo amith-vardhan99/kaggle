{
 "cells": [
  {
   "cell_type": "markdown",
   "source": [
    "## Machine Learning"
   ],
   "metadata": {
    "collapsed": false
   },
   "id": "12cffaefad3fa9fc"
  },
  {
   "cell_type": "markdown",
   "source": [
    "Now, we are done with both exploratory data analysis and preprocessing. Now we will go ahead with performing machine learning."
   ],
   "metadata": {
    "collapsed": false
   },
   "id": "cf0e91e0bf2895c2"
  },
  {
   "cell_type": "markdown",
   "source": [
    "### Importing all packages"
   ],
   "metadata": {
    "collapsed": false
   },
   "id": "1019269a95cfc675"
  },
  {
   "cell_type": "code",
   "execution_count": 1,
   "outputs": [],
   "source": [
    "import numpy as np\n",
    "import pandas as pd\n",
    "import matplotlib.pyplot as plt\n",
    "import seaborn as sns\n",
    "from sklearn.model_selection import *\n",
    "from sklearn.linear_model import *\n",
    "from math import *\n",
    "from sklearn.ensemble import *\n",
    "from sklearn.feature_selection import *\n",
    "from sklearn.feature_extraction import *\n",
    "from sklearn.naive_bayes import *\n",
    "from sklearn.discriminant_analysis import *\n",
    "from sklearn.preprocessing import *\n",
    "from sklearn.metrics import *\n",
    "from sklearn.neighbors import *\n",
    "from sklearn.cluster import *\n",
    "from sklearn.kernel_approximation import *\n",
    "from sklearn.svm import *"
   ],
   "metadata": {
    "collapsed": false,
    "ExecuteTime": {
     "end_time": "2023-08-25T01:36:07.312381Z",
     "start_time": "2023-08-25T01:36:06.977350Z"
    }
   },
   "id": "9677d33d3d77416f"
  },
  {
   "cell_type": "code",
   "execution_count": 2,
   "outputs": [],
   "source": [
    "df_X = pd.read_csv(\"train_X_preprocessed.csv\")\n",
    "df_y = pd.read_csv(\"train_y_preprocessed.csv\")\n",
    "df_test = pd.read_csv(\"test_preprocessed.csv\")"
   ],
   "metadata": {
    "collapsed": false,
    "ExecuteTime": {
     "end_time": "2023-08-25T01:36:08.131327Z",
     "start_time": "2023-08-25T01:36:07.311758Z"
    }
   },
   "id": "cc745565fa02dce1"
  },
  {
   "cell_type": "code",
   "execution_count": 3,
   "outputs": [
    {
     "data": {
      "text/plain": "   date_year  date_month  date_day  store_nbr_0  store_nbr_1  store_nbr_2  \\\n0       2013           1         1            0            0            0   \n1       2013           1         1            0            0            0   \n2       2013           1         1            0            0            0   \n3       2013           1         1            0            0            0   \n4       2013           1         1            0            0            0   \n\n   store_nbr_3  store_nbr_4  store_nbr_5  family_0  ...  type_0  type_1  \\\n0            0            0            0         0  ...       0       1   \n1            0            0            0         0  ...       0       1   \n2            0            0            0         0  ...       0       1   \n3            0            0            0         0  ...       0       1   \n4            0            0            0         0  ...       0       1   \n\n   type_2  cluster_0  cluster_1  cluster_2  cluster_3  cluster_4  dcoilwtico  \\\n0       1          0          1          1          0          0      93.366   \n1       1          0          1          1          0          0      93.366   \n2       1          0          1          1          0          0      93.366   \n3       1          0          1          1          0          0      93.366   \n4       1          0          1          1          0          0      93.366   \n\n   holiday?  \n0       1.0  \n1       1.0  \n2       1.0  \n3       1.0  \n4       1.0  \n\n[5 rows x 35 columns]",
      "text/html": "<div>\n<style scoped>\n    .dataframe tbody tr th:only-of-type {\n        vertical-align: middle;\n    }\n\n    .dataframe tbody tr th {\n        vertical-align: top;\n    }\n\n    .dataframe thead th {\n        text-align: right;\n    }\n</style>\n<table border=\"1\" class=\"dataframe\">\n  <thead>\n    <tr style=\"text-align: right;\">\n      <th></th>\n      <th>date_year</th>\n      <th>date_month</th>\n      <th>date_day</th>\n      <th>store_nbr_0</th>\n      <th>store_nbr_1</th>\n      <th>store_nbr_2</th>\n      <th>store_nbr_3</th>\n      <th>store_nbr_4</th>\n      <th>store_nbr_5</th>\n      <th>family_0</th>\n      <th>...</th>\n      <th>type_0</th>\n      <th>type_1</th>\n      <th>type_2</th>\n      <th>cluster_0</th>\n      <th>cluster_1</th>\n      <th>cluster_2</th>\n      <th>cluster_3</th>\n      <th>cluster_4</th>\n      <th>dcoilwtico</th>\n      <th>holiday?</th>\n    </tr>\n  </thead>\n  <tbody>\n    <tr>\n      <th>0</th>\n      <td>2013</td>\n      <td>1</td>\n      <td>1</td>\n      <td>0</td>\n      <td>0</td>\n      <td>0</td>\n      <td>0</td>\n      <td>0</td>\n      <td>0</td>\n      <td>0</td>\n      <td>...</td>\n      <td>0</td>\n      <td>1</td>\n      <td>1</td>\n      <td>0</td>\n      <td>1</td>\n      <td>1</td>\n      <td>0</td>\n      <td>0</td>\n      <td>93.366</td>\n      <td>1.0</td>\n    </tr>\n    <tr>\n      <th>1</th>\n      <td>2013</td>\n      <td>1</td>\n      <td>1</td>\n      <td>0</td>\n      <td>0</td>\n      <td>0</td>\n      <td>0</td>\n      <td>0</td>\n      <td>0</td>\n      <td>0</td>\n      <td>...</td>\n      <td>0</td>\n      <td>1</td>\n      <td>1</td>\n      <td>0</td>\n      <td>1</td>\n      <td>1</td>\n      <td>0</td>\n      <td>0</td>\n      <td>93.366</td>\n      <td>1.0</td>\n    </tr>\n    <tr>\n      <th>2</th>\n      <td>2013</td>\n      <td>1</td>\n      <td>1</td>\n      <td>0</td>\n      <td>0</td>\n      <td>0</td>\n      <td>0</td>\n      <td>0</td>\n      <td>0</td>\n      <td>0</td>\n      <td>...</td>\n      <td>0</td>\n      <td>1</td>\n      <td>1</td>\n      <td>0</td>\n      <td>1</td>\n      <td>1</td>\n      <td>0</td>\n      <td>0</td>\n      <td>93.366</td>\n      <td>1.0</td>\n    </tr>\n    <tr>\n      <th>3</th>\n      <td>2013</td>\n      <td>1</td>\n      <td>1</td>\n      <td>0</td>\n      <td>0</td>\n      <td>0</td>\n      <td>0</td>\n      <td>0</td>\n      <td>0</td>\n      <td>0</td>\n      <td>...</td>\n      <td>0</td>\n      <td>1</td>\n      <td>1</td>\n      <td>0</td>\n      <td>1</td>\n      <td>1</td>\n      <td>0</td>\n      <td>0</td>\n      <td>93.366</td>\n      <td>1.0</td>\n    </tr>\n    <tr>\n      <th>4</th>\n      <td>2013</td>\n      <td>1</td>\n      <td>1</td>\n      <td>0</td>\n      <td>0</td>\n      <td>0</td>\n      <td>0</td>\n      <td>0</td>\n      <td>0</td>\n      <td>0</td>\n      <td>...</td>\n      <td>0</td>\n      <td>1</td>\n      <td>1</td>\n      <td>0</td>\n      <td>1</td>\n      <td>1</td>\n      <td>0</td>\n      <td>0</td>\n      <td>93.366</td>\n      <td>1.0</td>\n    </tr>\n  </tbody>\n</table>\n<p>5 rows × 35 columns</p>\n</div>"
     },
     "execution_count": 3,
     "metadata": {},
     "output_type": "execute_result"
    }
   ],
   "source": [
    "df_X.head()"
   ],
   "metadata": {
    "collapsed": false,
    "ExecuteTime": {
     "end_time": "2023-08-25T01:36:08.142858Z",
     "start_time": "2023-08-25T01:36:08.135040Z"
    }
   },
   "id": "57716ba28538e09e"
  },
  {
   "cell_type": "code",
   "execution_count": 4,
   "outputs": [
    {
     "data": {
      "text/plain": "   sales\n0    0.0\n1    0.0\n2    0.0\n3    0.0\n4    0.0",
      "text/html": "<div>\n<style scoped>\n    .dataframe tbody tr th:only-of-type {\n        vertical-align: middle;\n    }\n\n    .dataframe tbody tr th {\n        vertical-align: top;\n    }\n\n    .dataframe thead th {\n        text-align: right;\n    }\n</style>\n<table border=\"1\" class=\"dataframe\">\n  <thead>\n    <tr style=\"text-align: right;\">\n      <th></th>\n      <th>sales</th>\n    </tr>\n  </thead>\n  <tbody>\n    <tr>\n      <th>0</th>\n      <td>0.0</td>\n    </tr>\n    <tr>\n      <th>1</th>\n      <td>0.0</td>\n    </tr>\n    <tr>\n      <th>2</th>\n      <td>0.0</td>\n    </tr>\n    <tr>\n      <th>3</th>\n      <td>0.0</td>\n    </tr>\n    <tr>\n      <th>4</th>\n      <td>0.0</td>\n    </tr>\n  </tbody>\n</table>\n</div>"
     },
     "execution_count": 4,
     "metadata": {},
     "output_type": "execute_result"
    }
   ],
   "source": [
    "df_y.head()"
   ],
   "metadata": {
    "collapsed": false,
    "ExecuteTime": {
     "end_time": "2023-08-25T01:36:08.149546Z",
     "start_time": "2023-08-25T01:36:08.143742Z"
    }
   },
   "id": "6e509f50f094592"
  },
  {
   "cell_type": "code",
   "execution_count": 5,
   "outputs": [
    {
     "data": {
      "text/plain": "   date_year  date_month  date_day  store_nbr_0  store_nbr_1  store_nbr_2  \\\n0       2017           8        16            0            0            0   \n1       2017           8        16            0            0            0   \n2       2017           8        16            0            0            0   \n3       2017           8        16            0            0            0   \n4       2017           8        16            0            0            0   \n\n   store_nbr_3  store_nbr_4  store_nbr_5  family_0  ...  type_0  type_1  \\\n0            0            0            0         0  ...       0       1   \n1            0            0            0         0  ...       0       1   \n2            0            0            0         0  ...       0       1   \n3            0            0            0         0  ...       0       1   \n4            0            0            0         0  ...       0       1   \n\n   type_2  cluster_0  cluster_1  cluster_2  cluster_3  cluster_4  dcoilwtico  \\\n0       1          0          1          1          0          0        46.8   \n1       1          0          1          1          0          0        46.8   \n2       1          0          1          1          0          0        46.8   \n3       1          0          1          1          0          0        46.8   \n4       1          0          1          1          0          0        46.8   \n\n   holiday?  \n0       0.0  \n1       0.0  \n2       0.0  \n3       0.0  \n4       0.0  \n\n[5 rows x 35 columns]",
      "text/html": "<div>\n<style scoped>\n    .dataframe tbody tr th:only-of-type {\n        vertical-align: middle;\n    }\n\n    .dataframe tbody tr th {\n        vertical-align: top;\n    }\n\n    .dataframe thead th {\n        text-align: right;\n    }\n</style>\n<table border=\"1\" class=\"dataframe\">\n  <thead>\n    <tr style=\"text-align: right;\">\n      <th></th>\n      <th>date_year</th>\n      <th>date_month</th>\n      <th>date_day</th>\n      <th>store_nbr_0</th>\n      <th>store_nbr_1</th>\n      <th>store_nbr_2</th>\n      <th>store_nbr_3</th>\n      <th>store_nbr_4</th>\n      <th>store_nbr_5</th>\n      <th>family_0</th>\n      <th>...</th>\n      <th>type_0</th>\n      <th>type_1</th>\n      <th>type_2</th>\n      <th>cluster_0</th>\n      <th>cluster_1</th>\n      <th>cluster_2</th>\n      <th>cluster_3</th>\n      <th>cluster_4</th>\n      <th>dcoilwtico</th>\n      <th>holiday?</th>\n    </tr>\n  </thead>\n  <tbody>\n    <tr>\n      <th>0</th>\n      <td>2017</td>\n      <td>8</td>\n      <td>16</td>\n      <td>0</td>\n      <td>0</td>\n      <td>0</td>\n      <td>0</td>\n      <td>0</td>\n      <td>0</td>\n      <td>0</td>\n      <td>...</td>\n      <td>0</td>\n      <td>1</td>\n      <td>1</td>\n      <td>0</td>\n      <td>1</td>\n      <td>1</td>\n      <td>0</td>\n      <td>0</td>\n      <td>46.8</td>\n      <td>0.0</td>\n    </tr>\n    <tr>\n      <th>1</th>\n      <td>2017</td>\n      <td>8</td>\n      <td>16</td>\n      <td>0</td>\n      <td>0</td>\n      <td>0</td>\n      <td>0</td>\n      <td>0</td>\n      <td>0</td>\n      <td>0</td>\n      <td>...</td>\n      <td>0</td>\n      <td>1</td>\n      <td>1</td>\n      <td>0</td>\n      <td>1</td>\n      <td>1</td>\n      <td>0</td>\n      <td>0</td>\n      <td>46.8</td>\n      <td>0.0</td>\n    </tr>\n    <tr>\n      <th>2</th>\n      <td>2017</td>\n      <td>8</td>\n      <td>16</td>\n      <td>0</td>\n      <td>0</td>\n      <td>0</td>\n      <td>0</td>\n      <td>0</td>\n      <td>0</td>\n      <td>0</td>\n      <td>...</td>\n      <td>0</td>\n      <td>1</td>\n      <td>1</td>\n      <td>0</td>\n      <td>1</td>\n      <td>1</td>\n      <td>0</td>\n      <td>0</td>\n      <td>46.8</td>\n      <td>0.0</td>\n    </tr>\n    <tr>\n      <th>3</th>\n      <td>2017</td>\n      <td>8</td>\n      <td>16</td>\n      <td>0</td>\n      <td>0</td>\n      <td>0</td>\n      <td>0</td>\n      <td>0</td>\n      <td>0</td>\n      <td>0</td>\n      <td>...</td>\n      <td>0</td>\n      <td>1</td>\n      <td>1</td>\n      <td>0</td>\n      <td>1</td>\n      <td>1</td>\n      <td>0</td>\n      <td>0</td>\n      <td>46.8</td>\n      <td>0.0</td>\n    </tr>\n    <tr>\n      <th>4</th>\n      <td>2017</td>\n      <td>8</td>\n      <td>16</td>\n      <td>0</td>\n      <td>0</td>\n      <td>0</td>\n      <td>0</td>\n      <td>0</td>\n      <td>0</td>\n      <td>0</td>\n      <td>...</td>\n      <td>0</td>\n      <td>1</td>\n      <td>1</td>\n      <td>0</td>\n      <td>1</td>\n      <td>1</td>\n      <td>0</td>\n      <td>0</td>\n      <td>46.8</td>\n      <td>0.0</td>\n    </tr>\n  </tbody>\n</table>\n<p>5 rows × 35 columns</p>\n</div>"
     },
     "execution_count": 5,
     "metadata": {},
     "output_type": "execute_result"
    }
   ],
   "source": [
    "df_test.head()"
   ],
   "metadata": {
    "collapsed": false,
    "ExecuteTime": {
     "end_time": "2023-08-25T01:36:08.168446Z",
     "start_time": "2023-08-25T01:36:08.151203Z"
    }
   },
   "id": "9e9a7f47aedd5269"
  },
  {
   "cell_type": "code",
   "execution_count": 6,
   "outputs": [
    {
     "name": "stdout",
     "output_type": "stream",
     "text": [
      "Number of rows in X_train :  1048575\n",
      "Number of rows in y_train :  1048575\n",
      "Number of rows in X_test  :  28512\n"
     ]
    }
   ],
   "source": [
    "print(\"Number of rows in X_train : \",len(df_X))\n",
    "print(\"Number of rows in y_train : \",len(df_y))\n",
    "print(\"Number of rows in X_test  : \",len(df_test))"
   ],
   "metadata": {
    "collapsed": false,
    "ExecuteTime": {
     "end_time": "2023-08-25T01:36:08.169555Z",
     "start_time": "2023-08-25T01:36:08.156329Z"
    }
   },
   "id": "976f613d5d9c53d4"
  },
  {
   "cell_type": "code",
   "execution_count": 7,
   "outputs": [
    {
     "data": {
      "text/plain": "date_year        int64\ndate_month       int64\ndate_day         int64\nstore_nbr_0      int64\nstore_nbr_1      int64\nstore_nbr_2      int64\nstore_nbr_3      int64\nstore_nbr_4      int64\nstore_nbr_5      int64\nfamily_0         int64\nfamily_1         int64\nfamily_2         int64\nfamily_3         int64\nfamily_4         int64\nfamily_5         int64\nonpromotion      int64\ncity_0           int64\ncity_1           int64\ncity_2           int64\ncity_3           int64\ncity_4           int64\nstate_0          int64\nstate_1          int64\nstate_2          int64\nstate_3          int64\ntype_0           int64\ntype_1           int64\ntype_2           int64\ncluster_0        int64\ncluster_1        int64\ncluster_2        int64\ncluster_3        int64\ncluster_4        int64\ndcoilwtico     float64\nholiday?       float64\ndtype: object"
     },
     "execution_count": 7,
     "metadata": {},
     "output_type": "execute_result"
    }
   ],
   "source": [
    "df_X.dtypes"
   ],
   "metadata": {
    "collapsed": false,
    "ExecuteTime": {
     "end_time": "2023-08-25T01:36:08.237039Z",
     "start_time": "2023-08-25T01:36:08.160739Z"
    }
   },
   "id": "9c588384e9b1bae3"
  },
  {
   "cell_type": "code",
   "execution_count": 8,
   "outputs": [
    {
     "data": {
      "text/plain": "date_year        int64\ndate_month       int64\ndate_day         int64\nstore_nbr_0      int64\nstore_nbr_1      int64\nstore_nbr_2      int64\nstore_nbr_3      int64\nstore_nbr_4      int64\nstore_nbr_5      int64\nfamily_0         int64\nfamily_1         int64\nfamily_2         int64\nfamily_3         int64\nfamily_4         int64\nfamily_5         int64\nonpromotion      int64\ncity_0           int64\ncity_1           int64\ncity_2           int64\ncity_3           int64\ncity_4           int64\nstate_0          int64\nstate_1          int64\nstate_2          int64\nstate_3          int64\ntype_0           int64\ntype_1           int64\ntype_2           int64\ncluster_0        int64\ncluster_1        int64\ncluster_2        int64\ncluster_3        int64\ncluster_4        int64\ndcoilwtico     float64\nholiday?       float64\ndtype: object"
     },
     "execution_count": 8,
     "metadata": {},
     "output_type": "execute_result"
    }
   ],
   "source": [
    "df_test.dtypes"
   ],
   "metadata": {
    "collapsed": false,
    "ExecuteTime": {
     "end_time": "2023-08-25T01:36:08.287751Z",
     "start_time": "2023-08-25T01:36:08.165008Z"
    }
   },
   "id": "f0ed1ad7cac86b66"
  },
  {
   "cell_type": "code",
   "execution_count": 9,
   "outputs": [
    {
     "data": {
      "text/plain": "sales    float64\ndtype: object"
     },
     "execution_count": 9,
     "metadata": {},
     "output_type": "execute_result"
    }
   ],
   "source": [
    "df_y.dtypes"
   ],
   "metadata": {
    "collapsed": false,
    "ExecuteTime": {
     "end_time": "2023-08-25T01:36:08.301256Z",
     "start_time": "2023-08-25T01:36:08.170848Z"
    }
   },
   "id": "17365f40d8f287c5"
  },
  {
   "cell_type": "markdown",
   "source": [
    "### Performing feature engineering in both training and testing datasets"
   ],
   "metadata": {
    "collapsed": false
   },
   "id": "a6b738979396d45"
  },
  {
   "cell_type": "code",
   "execution_count": 10,
   "outputs": [],
   "source": [
    "ss = StandardScaler()\n",
    "df_X_1 = ss.fit_transform(df_X)\n",
    "df_test_1 = ss.fit_transform(df_test)\n",
    "df_y_1 = df_y[\"sales\"].astype(\"int64\")\n",
    "\n",
    "df_X_1 = pd.DataFrame(df_X_1,columns=df_X.columns.values)\n",
    "df_test_1 = pd.DataFrame(df_test_1,columns=df_test.columns.values)"
   ],
   "metadata": {
    "collapsed": false,
    "ExecuteTime": {
     "end_time": "2023-08-25T01:36:08.554881Z",
     "start_time": "2023-08-25T01:36:08.175288Z"
    }
   },
   "id": "6954d0805b776bd9"
  },
  {
   "cell_type": "code",
   "execution_count": 11,
   "outputs": [
    {
     "data": {
      "text/plain": "   date_year  date_month  date_day  store_nbr_0  store_nbr_1  store_nbr_2  \\\n0   -0.78521   -1.446885 -1.646582     -0.82865    -0.829352    -0.894529   \n1   -0.78521   -1.446885 -1.646582     -0.82865    -0.829352    -0.894529   \n2   -0.78521   -1.446885 -1.646582     -0.82865    -0.829352    -0.894529   \n3   -0.78521   -1.446885 -1.646582     -0.82865    -0.829352    -0.894529   \n4   -0.78521   -1.446885 -1.646582     -0.82865    -0.829352    -0.894529   \n\n   store_nbr_3  store_nbr_4  store_nbr_5  family_0  ...    type_0    type_1  \\\n0    -0.963498     -0.96362    -0.999969 -0.176777  ... -0.282862  0.797569   \n1    -0.963498     -0.96362    -0.999969 -0.176777  ... -0.282862  0.797569   \n2    -0.963498     -0.96362    -0.999969 -0.176777  ... -0.282862  0.797569   \n3    -0.963498     -0.96362    -0.999969 -0.176777  ... -0.282862  0.797569   \n4    -0.963498     -0.96362    -0.999969 -0.176777  ... -0.282862  0.797569   \n\n     type_2  cluster_0  cluster_1  cluster_2  cluster_3  cluster_4  \\\n0  1.037688   -0.13731   1.037623   1.037558  -0.928497  -0.963498   \n1  1.037688   -0.13731   1.037623   1.037558  -0.928497  -0.963498   \n2  1.037688   -0.13731   1.037623   1.037558  -0.928497  -0.963498   \n3  1.037688   -0.13731   1.037623   1.037558  -0.928497  -0.963498   \n4  1.037688   -0.13731   1.037623   1.037558  -0.928497  -0.963498   \n\n   dcoilwtico  holiday?  \n0   -1.350853  2.577187  \n1   -1.350853  2.577187  \n2   -1.350853  2.577187  \n3   -1.350853  2.577187  \n4   -1.350853  2.577187  \n\n[5 rows x 35 columns]",
      "text/html": "<div>\n<style scoped>\n    .dataframe tbody tr th:only-of-type {\n        vertical-align: middle;\n    }\n\n    .dataframe tbody tr th {\n        vertical-align: top;\n    }\n\n    .dataframe thead th {\n        text-align: right;\n    }\n</style>\n<table border=\"1\" class=\"dataframe\">\n  <thead>\n    <tr style=\"text-align: right;\">\n      <th></th>\n      <th>date_year</th>\n      <th>date_month</th>\n      <th>date_day</th>\n      <th>store_nbr_0</th>\n      <th>store_nbr_1</th>\n      <th>store_nbr_2</th>\n      <th>store_nbr_3</th>\n      <th>store_nbr_4</th>\n      <th>store_nbr_5</th>\n      <th>family_0</th>\n      <th>...</th>\n      <th>type_0</th>\n      <th>type_1</th>\n      <th>type_2</th>\n      <th>cluster_0</th>\n      <th>cluster_1</th>\n      <th>cluster_2</th>\n      <th>cluster_3</th>\n      <th>cluster_4</th>\n      <th>dcoilwtico</th>\n      <th>holiday?</th>\n    </tr>\n  </thead>\n  <tbody>\n    <tr>\n      <th>0</th>\n      <td>-0.78521</td>\n      <td>-1.446885</td>\n      <td>-1.646582</td>\n      <td>-0.82865</td>\n      <td>-0.829352</td>\n      <td>-0.894529</td>\n      <td>-0.963498</td>\n      <td>-0.96362</td>\n      <td>-0.999969</td>\n      <td>-0.176777</td>\n      <td>...</td>\n      <td>-0.282862</td>\n      <td>0.797569</td>\n      <td>1.037688</td>\n      <td>-0.13731</td>\n      <td>1.037623</td>\n      <td>1.037558</td>\n      <td>-0.928497</td>\n      <td>-0.963498</td>\n      <td>-1.350853</td>\n      <td>2.577187</td>\n    </tr>\n    <tr>\n      <th>1</th>\n      <td>-0.78521</td>\n      <td>-1.446885</td>\n      <td>-1.646582</td>\n      <td>-0.82865</td>\n      <td>-0.829352</td>\n      <td>-0.894529</td>\n      <td>-0.963498</td>\n      <td>-0.96362</td>\n      <td>-0.999969</td>\n      <td>-0.176777</td>\n      <td>...</td>\n      <td>-0.282862</td>\n      <td>0.797569</td>\n      <td>1.037688</td>\n      <td>-0.13731</td>\n      <td>1.037623</td>\n      <td>1.037558</td>\n      <td>-0.928497</td>\n      <td>-0.963498</td>\n      <td>-1.350853</td>\n      <td>2.577187</td>\n    </tr>\n    <tr>\n      <th>2</th>\n      <td>-0.78521</td>\n      <td>-1.446885</td>\n      <td>-1.646582</td>\n      <td>-0.82865</td>\n      <td>-0.829352</td>\n      <td>-0.894529</td>\n      <td>-0.963498</td>\n      <td>-0.96362</td>\n      <td>-0.999969</td>\n      <td>-0.176777</td>\n      <td>...</td>\n      <td>-0.282862</td>\n      <td>0.797569</td>\n      <td>1.037688</td>\n      <td>-0.13731</td>\n      <td>1.037623</td>\n      <td>1.037558</td>\n      <td>-0.928497</td>\n      <td>-0.963498</td>\n      <td>-1.350853</td>\n      <td>2.577187</td>\n    </tr>\n    <tr>\n      <th>3</th>\n      <td>-0.78521</td>\n      <td>-1.446885</td>\n      <td>-1.646582</td>\n      <td>-0.82865</td>\n      <td>-0.829352</td>\n      <td>-0.894529</td>\n      <td>-0.963498</td>\n      <td>-0.96362</td>\n      <td>-0.999969</td>\n      <td>-0.176777</td>\n      <td>...</td>\n      <td>-0.282862</td>\n      <td>0.797569</td>\n      <td>1.037688</td>\n      <td>-0.13731</td>\n      <td>1.037623</td>\n      <td>1.037558</td>\n      <td>-0.928497</td>\n      <td>-0.963498</td>\n      <td>-1.350853</td>\n      <td>2.577187</td>\n    </tr>\n    <tr>\n      <th>4</th>\n      <td>-0.78521</td>\n      <td>-1.446885</td>\n      <td>-1.646582</td>\n      <td>-0.82865</td>\n      <td>-0.829352</td>\n      <td>-0.894529</td>\n      <td>-0.963498</td>\n      <td>-0.96362</td>\n      <td>-0.999969</td>\n      <td>-0.176777</td>\n      <td>...</td>\n      <td>-0.282862</td>\n      <td>0.797569</td>\n      <td>1.037688</td>\n      <td>-0.13731</td>\n      <td>1.037623</td>\n      <td>1.037558</td>\n      <td>-0.928497</td>\n      <td>-0.963498</td>\n      <td>-1.350853</td>\n      <td>2.577187</td>\n    </tr>\n  </tbody>\n</table>\n<p>5 rows × 35 columns</p>\n</div>"
     },
     "execution_count": 11,
     "metadata": {},
     "output_type": "execute_result"
    }
   ],
   "source": [
    "df_X_1.head()"
   ],
   "metadata": {
    "collapsed": false,
    "ExecuteTime": {
     "end_time": "2023-08-25T01:36:08.563881Z",
     "start_time": "2023-08-25T01:36:08.559465Z"
    }
   },
   "id": "740042e052f7efbf"
  },
  {
   "cell_type": "code",
   "execution_count": 12,
   "outputs": [
    {
     "data": {
      "text/plain": "   date_year  date_month  date_day  store_nbr_0  store_nbr_1  store_nbr_2  \\\n0        0.0         0.0 -1.626978    -0.829156    -0.829156    -0.894427   \n1        0.0         0.0 -1.626978    -0.829156    -0.829156    -0.894427   \n2        0.0         0.0 -1.626978    -0.829156    -0.829156    -0.894427   \n3        0.0         0.0 -1.626978    -0.829156    -0.829156    -0.894427   \n4        0.0         0.0 -1.626978    -0.829156    -0.829156    -0.894427   \n\n   store_nbr_3  store_nbr_4  store_nbr_5  family_0  ...    type_0    type_1  \\\n0    -0.963624    -0.963624         -1.0 -0.176777  ... -0.282843  0.797724   \n1    -0.963624    -0.963624         -1.0 -0.176777  ... -0.282843  0.797724   \n2    -0.963624    -0.963624         -1.0 -0.176777  ... -0.282843  0.797724   \n3    -0.963624    -0.963624         -1.0 -0.176777  ... -0.282843  0.797724   \n4    -0.963624    -0.963624         -1.0 -0.176777  ... -0.282843  0.797724   \n\n     type_2  cluster_0  cluster_1  cluster_2  cluster_3  cluster_4  \\\n0  1.037749  -0.137361   1.037749   1.037749  -0.928477  -0.963624   \n1  1.037749  -0.137361   1.037749   1.037749  -0.928477  -0.963624   \n2  1.037749  -0.137361   1.037749   1.037749  -0.928477  -0.963624   \n3  1.037749  -0.137361   1.037749   1.037749  -0.928477  -0.963624   \n4  1.037749  -0.137361   1.037749   1.037749  -0.928477  -0.963624   \n\n   dcoilwtico  holiday?  \n0   -0.679021 -0.258199  \n1   -0.679021 -0.258199  \n2   -0.679021 -0.258199  \n3   -0.679021 -0.258199  \n4   -0.679021 -0.258199  \n\n[5 rows x 35 columns]",
      "text/html": "<div>\n<style scoped>\n    .dataframe tbody tr th:only-of-type {\n        vertical-align: middle;\n    }\n\n    .dataframe tbody tr th {\n        vertical-align: top;\n    }\n\n    .dataframe thead th {\n        text-align: right;\n    }\n</style>\n<table border=\"1\" class=\"dataframe\">\n  <thead>\n    <tr style=\"text-align: right;\">\n      <th></th>\n      <th>date_year</th>\n      <th>date_month</th>\n      <th>date_day</th>\n      <th>store_nbr_0</th>\n      <th>store_nbr_1</th>\n      <th>store_nbr_2</th>\n      <th>store_nbr_3</th>\n      <th>store_nbr_4</th>\n      <th>store_nbr_5</th>\n      <th>family_0</th>\n      <th>...</th>\n      <th>type_0</th>\n      <th>type_1</th>\n      <th>type_2</th>\n      <th>cluster_0</th>\n      <th>cluster_1</th>\n      <th>cluster_2</th>\n      <th>cluster_3</th>\n      <th>cluster_4</th>\n      <th>dcoilwtico</th>\n      <th>holiday?</th>\n    </tr>\n  </thead>\n  <tbody>\n    <tr>\n      <th>0</th>\n      <td>0.0</td>\n      <td>0.0</td>\n      <td>-1.626978</td>\n      <td>-0.829156</td>\n      <td>-0.829156</td>\n      <td>-0.894427</td>\n      <td>-0.963624</td>\n      <td>-0.963624</td>\n      <td>-1.0</td>\n      <td>-0.176777</td>\n      <td>...</td>\n      <td>-0.282843</td>\n      <td>0.797724</td>\n      <td>1.037749</td>\n      <td>-0.137361</td>\n      <td>1.037749</td>\n      <td>1.037749</td>\n      <td>-0.928477</td>\n      <td>-0.963624</td>\n      <td>-0.679021</td>\n      <td>-0.258199</td>\n    </tr>\n    <tr>\n      <th>1</th>\n      <td>0.0</td>\n      <td>0.0</td>\n      <td>-1.626978</td>\n      <td>-0.829156</td>\n      <td>-0.829156</td>\n      <td>-0.894427</td>\n      <td>-0.963624</td>\n      <td>-0.963624</td>\n      <td>-1.0</td>\n      <td>-0.176777</td>\n      <td>...</td>\n      <td>-0.282843</td>\n      <td>0.797724</td>\n      <td>1.037749</td>\n      <td>-0.137361</td>\n      <td>1.037749</td>\n      <td>1.037749</td>\n      <td>-0.928477</td>\n      <td>-0.963624</td>\n      <td>-0.679021</td>\n      <td>-0.258199</td>\n    </tr>\n    <tr>\n      <th>2</th>\n      <td>0.0</td>\n      <td>0.0</td>\n      <td>-1.626978</td>\n      <td>-0.829156</td>\n      <td>-0.829156</td>\n      <td>-0.894427</td>\n      <td>-0.963624</td>\n      <td>-0.963624</td>\n      <td>-1.0</td>\n      <td>-0.176777</td>\n      <td>...</td>\n      <td>-0.282843</td>\n      <td>0.797724</td>\n      <td>1.037749</td>\n      <td>-0.137361</td>\n      <td>1.037749</td>\n      <td>1.037749</td>\n      <td>-0.928477</td>\n      <td>-0.963624</td>\n      <td>-0.679021</td>\n      <td>-0.258199</td>\n    </tr>\n    <tr>\n      <th>3</th>\n      <td>0.0</td>\n      <td>0.0</td>\n      <td>-1.626978</td>\n      <td>-0.829156</td>\n      <td>-0.829156</td>\n      <td>-0.894427</td>\n      <td>-0.963624</td>\n      <td>-0.963624</td>\n      <td>-1.0</td>\n      <td>-0.176777</td>\n      <td>...</td>\n      <td>-0.282843</td>\n      <td>0.797724</td>\n      <td>1.037749</td>\n      <td>-0.137361</td>\n      <td>1.037749</td>\n      <td>1.037749</td>\n      <td>-0.928477</td>\n      <td>-0.963624</td>\n      <td>-0.679021</td>\n      <td>-0.258199</td>\n    </tr>\n    <tr>\n      <th>4</th>\n      <td>0.0</td>\n      <td>0.0</td>\n      <td>-1.626978</td>\n      <td>-0.829156</td>\n      <td>-0.829156</td>\n      <td>-0.894427</td>\n      <td>-0.963624</td>\n      <td>-0.963624</td>\n      <td>-1.0</td>\n      <td>-0.176777</td>\n      <td>...</td>\n      <td>-0.282843</td>\n      <td>0.797724</td>\n      <td>1.037749</td>\n      <td>-0.137361</td>\n      <td>1.037749</td>\n      <td>1.037749</td>\n      <td>-0.928477</td>\n      <td>-0.963624</td>\n      <td>-0.679021</td>\n      <td>-0.258199</td>\n    </tr>\n  </tbody>\n</table>\n<p>5 rows × 35 columns</p>\n</div>"
     },
     "execution_count": 12,
     "metadata": {},
     "output_type": "execute_result"
    }
   ],
   "source": [
    "df_test_1.head()"
   ],
   "metadata": {
    "collapsed": false,
    "ExecuteTime": {
     "end_time": "2023-08-25T01:36:09.754731Z",
     "start_time": "2023-08-25T01:36:09.746104Z"
    }
   },
   "id": "c3fa67666c1253e5"
  },
  {
   "cell_type": "code",
   "execution_count": 13,
   "outputs": [
    {
     "data": {
      "text/plain": "0    0\n1    0\n2    0\n3    0\n4    0\nName: sales, dtype: int64"
     },
     "execution_count": 13,
     "metadata": {},
     "output_type": "execute_result"
    }
   ],
   "source": [
    "df_y_1.head()"
   ],
   "metadata": {
    "collapsed": false,
    "ExecuteTime": {
     "end_time": "2023-08-25T01:36:10.534051Z",
     "start_time": "2023-08-25T01:36:10.528636Z"
    }
   },
   "id": "2330d44153925dfa"
  },
  {
   "cell_type": "code",
   "execution_count": 14,
   "outputs": [
    {
     "name": "stdout",
     "output_type": "stream",
     "text": [
      "Number of rows in scaled X_train :  1048575\n",
      "Number of rows in scaled y_train :  1048575\n",
      "Number of rows in scaled X_test  :  28512\n"
     ]
    }
   ],
   "source": [
    "print(\"Number of rows in scaled X_train : \",len(df_X_1))\n",
    "print(\"Number of rows in scaled y_train : \",len(df_y_1))\n",
    "print(\"Number of rows in scaled X_test  : \",len(df_test_1))"
   ],
   "metadata": {
    "collapsed": false,
    "ExecuteTime": {
     "end_time": "2023-08-25T01:36:11.209134Z",
     "start_time": "2023-08-25T01:36:11.198277Z"
    }
   },
   "id": "2fe7e52b28075c54"
  },
  {
   "cell_type": "code",
   "execution_count": 15,
   "outputs": [],
   "source": [
    "X_train = df_X_1.copy()\n",
    "y_train = df_y_1.copy()\n",
    "X_test = df_test_1.copy()"
   ],
   "metadata": {
    "collapsed": false,
    "ExecuteTime": {
     "end_time": "2023-08-25T01:36:12.759445Z",
     "start_time": "2023-08-25T01:36:12.716476Z"
    }
   },
   "id": "334a2436149b0adc"
  },
  {
   "cell_type": "code",
   "execution_count": 16,
   "outputs": [
    {
     "ename": "KeyboardInterrupt",
     "evalue": "",
     "output_type": "error",
     "traceback": [
      "\u001B[0;31m---------------------------------------------------------------------------\u001B[0m",
      "\u001B[0;31mKeyboardInterrupt\u001B[0m                         Traceback (most recent call last)",
      "Cell \u001B[0;32mIn[16], line 2\u001B[0m\n\u001B[1;32m      1\u001B[0m sgd \u001B[38;5;241m=\u001B[39m SGDClassifier()\n\u001B[0;32m----> 2\u001B[0m model \u001B[38;5;241m=\u001B[39m sgd\u001B[38;5;241m.\u001B[39mfit(X_train,y_train)\n\u001B[1;32m      3\u001B[0m y_test \u001B[38;5;241m=\u001B[39m model\u001B[38;5;241m.\u001B[39mpredict(X_test)\n",
      "File \u001B[0;32m~/anaconda3/lib/python3.11/site-packages/sklearn/base.py:1151\u001B[0m, in \u001B[0;36m_fit_context.<locals>.decorator.<locals>.wrapper\u001B[0;34m(estimator, *args, **kwargs)\u001B[0m\n\u001B[1;32m   1144\u001B[0m     estimator\u001B[38;5;241m.\u001B[39m_validate_params()\n\u001B[1;32m   1146\u001B[0m \u001B[38;5;28;01mwith\u001B[39;00m config_context(\n\u001B[1;32m   1147\u001B[0m     skip_parameter_validation\u001B[38;5;241m=\u001B[39m(\n\u001B[1;32m   1148\u001B[0m         prefer_skip_nested_validation \u001B[38;5;129;01mor\u001B[39;00m global_skip_validation\n\u001B[1;32m   1149\u001B[0m     )\n\u001B[1;32m   1150\u001B[0m ):\n\u001B[0;32m-> 1151\u001B[0m     \u001B[38;5;28;01mreturn\u001B[39;00m fit_method(estimator, \u001B[38;5;241m*\u001B[39margs, \u001B[38;5;241m*\u001B[39m\u001B[38;5;241m*\u001B[39mkwargs)\n",
      "File \u001B[0;32m~/anaconda3/lib/python3.11/site-packages/sklearn/linear_model/_stochastic_gradient.py:907\u001B[0m, in \u001B[0;36mBaseSGDClassifier.fit\u001B[0;34m(self, X, y, coef_init, intercept_init, sample_weight)\u001B[0m\n\u001B[1;32m    878\u001B[0m \u001B[38;5;250m\u001B[39m\u001B[38;5;124;03m\"\"\"Fit linear model with Stochastic Gradient Descent.\u001B[39;00m\n\u001B[1;32m    879\u001B[0m \n\u001B[1;32m    880\u001B[0m \u001B[38;5;124;03mParameters\u001B[39;00m\n\u001B[0;32m   (...)\u001B[0m\n\u001B[1;32m    903\u001B[0m \u001B[38;5;124;03m    Returns an instance of self.\u001B[39;00m\n\u001B[1;32m    904\u001B[0m \u001B[38;5;124;03m\"\"\"\u001B[39;00m\n\u001B[1;32m    905\u001B[0m \u001B[38;5;28mself\u001B[39m\u001B[38;5;241m.\u001B[39m_more_validate_params()\n\u001B[0;32m--> 907\u001B[0m \u001B[38;5;28;01mreturn\u001B[39;00m \u001B[38;5;28mself\u001B[39m\u001B[38;5;241m.\u001B[39m_fit(\n\u001B[1;32m    908\u001B[0m     X,\n\u001B[1;32m    909\u001B[0m     y,\n\u001B[1;32m    910\u001B[0m     alpha\u001B[38;5;241m=\u001B[39m\u001B[38;5;28mself\u001B[39m\u001B[38;5;241m.\u001B[39malpha,\n\u001B[1;32m    911\u001B[0m     C\u001B[38;5;241m=\u001B[39m\u001B[38;5;241m1.0\u001B[39m,\n\u001B[1;32m    912\u001B[0m     loss\u001B[38;5;241m=\u001B[39m\u001B[38;5;28mself\u001B[39m\u001B[38;5;241m.\u001B[39mloss,\n\u001B[1;32m    913\u001B[0m     learning_rate\u001B[38;5;241m=\u001B[39m\u001B[38;5;28mself\u001B[39m\u001B[38;5;241m.\u001B[39mlearning_rate,\n\u001B[1;32m    914\u001B[0m     coef_init\u001B[38;5;241m=\u001B[39mcoef_init,\n\u001B[1;32m    915\u001B[0m     intercept_init\u001B[38;5;241m=\u001B[39mintercept_init,\n\u001B[1;32m    916\u001B[0m     sample_weight\u001B[38;5;241m=\u001B[39msample_weight,\n\u001B[1;32m    917\u001B[0m )\n",
      "File \u001B[0;32m~/anaconda3/lib/python3.11/site-packages/sklearn/linear_model/_stochastic_gradient.py:694\u001B[0m, in \u001B[0;36mBaseSGDClassifier._fit\u001B[0;34m(self, X, y, alpha, C, loss, learning_rate, coef_init, intercept_init, sample_weight)\u001B[0m\n\u001B[1;32m    691\u001B[0m \u001B[38;5;66;03m# Clear iteration count for multiple call to fit.\u001B[39;00m\n\u001B[1;32m    692\u001B[0m \u001B[38;5;28mself\u001B[39m\u001B[38;5;241m.\u001B[39mt_ \u001B[38;5;241m=\u001B[39m \u001B[38;5;241m1.0\u001B[39m\n\u001B[0;32m--> 694\u001B[0m \u001B[38;5;28mself\u001B[39m\u001B[38;5;241m.\u001B[39m_partial_fit(\n\u001B[1;32m    695\u001B[0m     X,\n\u001B[1;32m    696\u001B[0m     y,\n\u001B[1;32m    697\u001B[0m     alpha,\n\u001B[1;32m    698\u001B[0m     C,\n\u001B[1;32m    699\u001B[0m     loss,\n\u001B[1;32m    700\u001B[0m     learning_rate,\n\u001B[1;32m    701\u001B[0m     \u001B[38;5;28mself\u001B[39m\u001B[38;5;241m.\u001B[39mmax_iter,\n\u001B[1;32m    702\u001B[0m     classes,\n\u001B[1;32m    703\u001B[0m     sample_weight,\n\u001B[1;32m    704\u001B[0m     coef_init,\n\u001B[1;32m    705\u001B[0m     intercept_init,\n\u001B[1;32m    706\u001B[0m )\n\u001B[1;32m    708\u001B[0m \u001B[38;5;28;01mif\u001B[39;00m (\n\u001B[1;32m    709\u001B[0m     \u001B[38;5;28mself\u001B[39m\u001B[38;5;241m.\u001B[39mtol \u001B[38;5;129;01mis\u001B[39;00m \u001B[38;5;129;01mnot\u001B[39;00m \u001B[38;5;28;01mNone\u001B[39;00m\n\u001B[1;32m    710\u001B[0m     \u001B[38;5;129;01mand\u001B[39;00m \u001B[38;5;28mself\u001B[39m\u001B[38;5;241m.\u001B[39mtol \u001B[38;5;241m>\u001B[39m \u001B[38;5;241m-\u001B[39mnp\u001B[38;5;241m.\u001B[39minf\n\u001B[1;32m    711\u001B[0m     \u001B[38;5;129;01mand\u001B[39;00m \u001B[38;5;28mself\u001B[39m\u001B[38;5;241m.\u001B[39mn_iter_ \u001B[38;5;241m==\u001B[39m \u001B[38;5;28mself\u001B[39m\u001B[38;5;241m.\u001B[39mmax_iter\n\u001B[1;32m    712\u001B[0m ):\n\u001B[1;32m    713\u001B[0m     warnings\u001B[38;5;241m.\u001B[39mwarn(\n\u001B[1;32m    714\u001B[0m         (\n\u001B[1;32m    715\u001B[0m             \u001B[38;5;124m\"\u001B[39m\u001B[38;5;124mMaximum number of iteration reached before \u001B[39m\u001B[38;5;124m\"\u001B[39m\n\u001B[0;32m   (...)\u001B[0m\n\u001B[1;32m    719\u001B[0m         ConvergenceWarning,\n\u001B[1;32m    720\u001B[0m     )\n",
      "File \u001B[0;32m~/anaconda3/lib/python3.11/site-packages/sklearn/linear_model/_stochastic_gradient.py:628\u001B[0m, in \u001B[0;36mBaseSGDClassifier._partial_fit\u001B[0;34m(self, X, y, alpha, C, loss, learning_rate, max_iter, classes, sample_weight, coef_init, intercept_init)\u001B[0m\n\u001B[1;32m    626\u001B[0m \u001B[38;5;66;03m# delegate to concrete training procedure\u001B[39;00m\n\u001B[1;32m    627\u001B[0m \u001B[38;5;28;01mif\u001B[39;00m n_classes \u001B[38;5;241m>\u001B[39m \u001B[38;5;241m2\u001B[39m:\n\u001B[0;32m--> 628\u001B[0m     \u001B[38;5;28mself\u001B[39m\u001B[38;5;241m.\u001B[39m_fit_multiclass(\n\u001B[1;32m    629\u001B[0m         X,\n\u001B[1;32m    630\u001B[0m         y,\n\u001B[1;32m    631\u001B[0m         alpha\u001B[38;5;241m=\u001B[39malpha,\n\u001B[1;32m    632\u001B[0m         C\u001B[38;5;241m=\u001B[39mC,\n\u001B[1;32m    633\u001B[0m         learning_rate\u001B[38;5;241m=\u001B[39mlearning_rate,\n\u001B[1;32m    634\u001B[0m         sample_weight\u001B[38;5;241m=\u001B[39msample_weight,\n\u001B[1;32m    635\u001B[0m         max_iter\u001B[38;5;241m=\u001B[39mmax_iter,\n\u001B[1;32m    636\u001B[0m     )\n\u001B[1;32m    637\u001B[0m \u001B[38;5;28;01melif\u001B[39;00m n_classes \u001B[38;5;241m==\u001B[39m \u001B[38;5;241m2\u001B[39m:\n\u001B[1;32m    638\u001B[0m     \u001B[38;5;28mself\u001B[39m\u001B[38;5;241m.\u001B[39m_fit_binary(\n\u001B[1;32m    639\u001B[0m         X,\n\u001B[1;32m    640\u001B[0m         y,\n\u001B[0;32m   (...)\u001B[0m\n\u001B[1;32m    645\u001B[0m         max_iter\u001B[38;5;241m=\u001B[39mmax_iter,\n\u001B[1;32m    646\u001B[0m     )\n",
      "File \u001B[0;32m~/anaconda3/lib/python3.11/site-packages/sklearn/linear_model/_stochastic_gradient.py:773\u001B[0m, in \u001B[0;36mBaseSGDClassifier._fit_multiclass\u001B[0;34m(self, X, y, alpha, C, learning_rate, sample_weight, max_iter)\u001B[0m\n\u001B[1;32m    771\u001B[0m random_state \u001B[38;5;241m=\u001B[39m check_random_state(\u001B[38;5;28mself\u001B[39m\u001B[38;5;241m.\u001B[39mrandom_state)\n\u001B[1;32m    772\u001B[0m seeds \u001B[38;5;241m=\u001B[39m random_state\u001B[38;5;241m.\u001B[39mrandint(MAX_INT, size\u001B[38;5;241m=\u001B[39m\u001B[38;5;28mlen\u001B[39m(\u001B[38;5;28mself\u001B[39m\u001B[38;5;241m.\u001B[39mclasses_))\n\u001B[0;32m--> 773\u001B[0m result \u001B[38;5;241m=\u001B[39m Parallel(\n\u001B[1;32m    774\u001B[0m     n_jobs\u001B[38;5;241m=\u001B[39m\u001B[38;5;28mself\u001B[39m\u001B[38;5;241m.\u001B[39mn_jobs, verbose\u001B[38;5;241m=\u001B[39m\u001B[38;5;28mself\u001B[39m\u001B[38;5;241m.\u001B[39mverbose, require\u001B[38;5;241m=\u001B[39m\u001B[38;5;124m\"\u001B[39m\u001B[38;5;124msharedmem\u001B[39m\u001B[38;5;124m\"\u001B[39m\n\u001B[1;32m    775\u001B[0m )(\n\u001B[1;32m    776\u001B[0m     delayed(fit_binary)(\n\u001B[1;32m    777\u001B[0m         \u001B[38;5;28mself\u001B[39m,\n\u001B[1;32m    778\u001B[0m         i,\n\u001B[1;32m    779\u001B[0m         X,\n\u001B[1;32m    780\u001B[0m         y,\n\u001B[1;32m    781\u001B[0m         alpha,\n\u001B[1;32m    782\u001B[0m         C,\n\u001B[1;32m    783\u001B[0m         learning_rate,\n\u001B[1;32m    784\u001B[0m         max_iter,\n\u001B[1;32m    785\u001B[0m         \u001B[38;5;28mself\u001B[39m\u001B[38;5;241m.\u001B[39m_expanded_class_weight[i],\n\u001B[1;32m    786\u001B[0m         \u001B[38;5;241m1.0\u001B[39m,\n\u001B[1;32m    787\u001B[0m         sample_weight,\n\u001B[1;32m    788\u001B[0m         validation_mask\u001B[38;5;241m=\u001B[39mvalidation_mask,\n\u001B[1;32m    789\u001B[0m         random_state\u001B[38;5;241m=\u001B[39mseed,\n\u001B[1;32m    790\u001B[0m     )\n\u001B[1;32m    791\u001B[0m     \u001B[38;5;28;01mfor\u001B[39;00m i, seed \u001B[38;5;129;01min\u001B[39;00m \u001B[38;5;28menumerate\u001B[39m(seeds)\n\u001B[1;32m    792\u001B[0m )\n\u001B[1;32m    794\u001B[0m \u001B[38;5;66;03m# take the maximum of n_iter_ over every binary fit\u001B[39;00m\n\u001B[1;32m    795\u001B[0m n_iter_ \u001B[38;5;241m=\u001B[39m \u001B[38;5;241m0.0\u001B[39m\n",
      "File \u001B[0;32m~/anaconda3/lib/python3.11/site-packages/sklearn/utils/parallel.py:65\u001B[0m, in \u001B[0;36mParallel.__call__\u001B[0;34m(self, iterable)\u001B[0m\n\u001B[1;32m     60\u001B[0m config \u001B[38;5;241m=\u001B[39m get_config()\n\u001B[1;32m     61\u001B[0m iterable_with_config \u001B[38;5;241m=\u001B[39m (\n\u001B[1;32m     62\u001B[0m     (_with_config(delayed_func, config), args, kwargs)\n\u001B[1;32m     63\u001B[0m     \u001B[38;5;28;01mfor\u001B[39;00m delayed_func, args, kwargs \u001B[38;5;129;01min\u001B[39;00m iterable\n\u001B[1;32m     64\u001B[0m )\n\u001B[0;32m---> 65\u001B[0m \u001B[38;5;28;01mreturn\u001B[39;00m \u001B[38;5;28msuper\u001B[39m()\u001B[38;5;241m.\u001B[39m\u001B[38;5;21m__call__\u001B[39m(iterable_with_config)\n",
      "File \u001B[0;32m~/anaconda3/lib/python3.11/site-packages/joblib/parallel.py:1088\u001B[0m, in \u001B[0;36mParallel.__call__\u001B[0;34m(self, iterable)\u001B[0m\n\u001B[1;32m   1085\u001B[0m \u001B[38;5;28;01mif\u001B[39;00m \u001B[38;5;28mself\u001B[39m\u001B[38;5;241m.\u001B[39mdispatch_one_batch(iterator):\n\u001B[1;32m   1086\u001B[0m     \u001B[38;5;28mself\u001B[39m\u001B[38;5;241m.\u001B[39m_iterating \u001B[38;5;241m=\u001B[39m \u001B[38;5;28mself\u001B[39m\u001B[38;5;241m.\u001B[39m_original_iterator \u001B[38;5;129;01mis\u001B[39;00m \u001B[38;5;129;01mnot\u001B[39;00m \u001B[38;5;28;01mNone\u001B[39;00m\n\u001B[0;32m-> 1088\u001B[0m \u001B[38;5;28;01mwhile\u001B[39;00m \u001B[38;5;28mself\u001B[39m\u001B[38;5;241m.\u001B[39mdispatch_one_batch(iterator):\n\u001B[1;32m   1089\u001B[0m     \u001B[38;5;28;01mpass\u001B[39;00m\n\u001B[1;32m   1091\u001B[0m \u001B[38;5;28;01mif\u001B[39;00m pre_dispatch \u001B[38;5;241m==\u001B[39m \u001B[38;5;124m\"\u001B[39m\u001B[38;5;124mall\u001B[39m\u001B[38;5;124m\"\u001B[39m \u001B[38;5;129;01mor\u001B[39;00m n_jobs \u001B[38;5;241m==\u001B[39m \u001B[38;5;241m1\u001B[39m:\n\u001B[1;32m   1092\u001B[0m     \u001B[38;5;66;03m# The iterable was consumed all at once by the above for loop.\u001B[39;00m\n\u001B[1;32m   1093\u001B[0m     \u001B[38;5;66;03m# No need to wait for async callbacks to trigger to\u001B[39;00m\n\u001B[1;32m   1094\u001B[0m     \u001B[38;5;66;03m# consumption.\u001B[39;00m\n",
      "File \u001B[0;32m~/anaconda3/lib/python3.11/site-packages/joblib/parallel.py:901\u001B[0m, in \u001B[0;36mParallel.dispatch_one_batch\u001B[0;34m(self, iterator)\u001B[0m\n\u001B[1;32m    899\u001B[0m     \u001B[38;5;28;01mreturn\u001B[39;00m \u001B[38;5;28;01mFalse\u001B[39;00m\n\u001B[1;32m    900\u001B[0m \u001B[38;5;28;01melse\u001B[39;00m:\n\u001B[0;32m--> 901\u001B[0m     \u001B[38;5;28mself\u001B[39m\u001B[38;5;241m.\u001B[39m_dispatch(tasks)\n\u001B[1;32m    902\u001B[0m     \u001B[38;5;28;01mreturn\u001B[39;00m \u001B[38;5;28;01mTrue\u001B[39;00m\n",
      "File \u001B[0;32m~/anaconda3/lib/python3.11/site-packages/joblib/parallel.py:819\u001B[0m, in \u001B[0;36mParallel._dispatch\u001B[0;34m(self, batch)\u001B[0m\n\u001B[1;32m    817\u001B[0m \u001B[38;5;28;01mwith\u001B[39;00m \u001B[38;5;28mself\u001B[39m\u001B[38;5;241m.\u001B[39m_lock:\n\u001B[1;32m    818\u001B[0m     job_idx \u001B[38;5;241m=\u001B[39m \u001B[38;5;28mlen\u001B[39m(\u001B[38;5;28mself\u001B[39m\u001B[38;5;241m.\u001B[39m_jobs)\n\u001B[0;32m--> 819\u001B[0m     job \u001B[38;5;241m=\u001B[39m \u001B[38;5;28mself\u001B[39m\u001B[38;5;241m.\u001B[39m_backend\u001B[38;5;241m.\u001B[39mapply_async(batch, callback\u001B[38;5;241m=\u001B[39mcb)\n\u001B[1;32m    820\u001B[0m     \u001B[38;5;66;03m# A job can complete so quickly than its callback is\u001B[39;00m\n\u001B[1;32m    821\u001B[0m     \u001B[38;5;66;03m# called before we get here, causing self._jobs to\u001B[39;00m\n\u001B[1;32m    822\u001B[0m     \u001B[38;5;66;03m# grow. To ensure correct results ordering, .insert is\u001B[39;00m\n\u001B[1;32m    823\u001B[0m     \u001B[38;5;66;03m# used (rather than .append) in the following line\u001B[39;00m\n\u001B[1;32m    824\u001B[0m     \u001B[38;5;28mself\u001B[39m\u001B[38;5;241m.\u001B[39m_jobs\u001B[38;5;241m.\u001B[39minsert(job_idx, job)\n",
      "File \u001B[0;32m~/anaconda3/lib/python3.11/site-packages/joblib/_parallel_backends.py:208\u001B[0m, in \u001B[0;36mSequentialBackend.apply_async\u001B[0;34m(self, func, callback)\u001B[0m\n\u001B[1;32m    206\u001B[0m \u001B[38;5;28;01mdef\u001B[39;00m \u001B[38;5;21mapply_async\u001B[39m(\u001B[38;5;28mself\u001B[39m, func, callback\u001B[38;5;241m=\u001B[39m\u001B[38;5;28;01mNone\u001B[39;00m):\n\u001B[1;32m    207\u001B[0m \u001B[38;5;250m    \u001B[39m\u001B[38;5;124;03m\"\"\"Schedule a func to be run\"\"\"\u001B[39;00m\n\u001B[0;32m--> 208\u001B[0m     result \u001B[38;5;241m=\u001B[39m ImmediateResult(func)\n\u001B[1;32m    209\u001B[0m     \u001B[38;5;28;01mif\u001B[39;00m callback:\n\u001B[1;32m    210\u001B[0m         callback(result)\n",
      "File \u001B[0;32m~/anaconda3/lib/python3.11/site-packages/joblib/_parallel_backends.py:597\u001B[0m, in \u001B[0;36mImmediateResult.__init__\u001B[0;34m(self, batch)\u001B[0m\n\u001B[1;32m    594\u001B[0m \u001B[38;5;28;01mdef\u001B[39;00m \u001B[38;5;21m__init__\u001B[39m(\u001B[38;5;28mself\u001B[39m, batch):\n\u001B[1;32m    595\u001B[0m     \u001B[38;5;66;03m# Don't delay the application, to avoid keeping the input\u001B[39;00m\n\u001B[1;32m    596\u001B[0m     \u001B[38;5;66;03m# arguments in memory\u001B[39;00m\n\u001B[0;32m--> 597\u001B[0m     \u001B[38;5;28mself\u001B[39m\u001B[38;5;241m.\u001B[39mresults \u001B[38;5;241m=\u001B[39m batch()\n",
      "File \u001B[0;32m~/anaconda3/lib/python3.11/site-packages/joblib/parallel.py:288\u001B[0m, in \u001B[0;36mBatchedCalls.__call__\u001B[0;34m(self)\u001B[0m\n\u001B[1;32m    284\u001B[0m \u001B[38;5;28;01mdef\u001B[39;00m \u001B[38;5;21m__call__\u001B[39m(\u001B[38;5;28mself\u001B[39m):\n\u001B[1;32m    285\u001B[0m     \u001B[38;5;66;03m# Set the default nested backend to self._backend but do not set the\u001B[39;00m\n\u001B[1;32m    286\u001B[0m     \u001B[38;5;66;03m# change the default number of processes to -1\u001B[39;00m\n\u001B[1;32m    287\u001B[0m     \u001B[38;5;28;01mwith\u001B[39;00m parallel_backend(\u001B[38;5;28mself\u001B[39m\u001B[38;5;241m.\u001B[39m_backend, n_jobs\u001B[38;5;241m=\u001B[39m\u001B[38;5;28mself\u001B[39m\u001B[38;5;241m.\u001B[39m_n_jobs):\n\u001B[0;32m--> 288\u001B[0m         \u001B[38;5;28;01mreturn\u001B[39;00m [func(\u001B[38;5;241m*\u001B[39margs, \u001B[38;5;241m*\u001B[39m\u001B[38;5;241m*\u001B[39mkwargs)\n\u001B[1;32m    289\u001B[0m                 \u001B[38;5;28;01mfor\u001B[39;00m func, args, kwargs \u001B[38;5;129;01min\u001B[39;00m \u001B[38;5;28mself\u001B[39m\u001B[38;5;241m.\u001B[39mitems]\n",
      "File \u001B[0;32m~/anaconda3/lib/python3.11/site-packages/joblib/parallel.py:288\u001B[0m, in \u001B[0;36m<listcomp>\u001B[0;34m(.0)\u001B[0m\n\u001B[1;32m    284\u001B[0m \u001B[38;5;28;01mdef\u001B[39;00m \u001B[38;5;21m__call__\u001B[39m(\u001B[38;5;28mself\u001B[39m):\n\u001B[1;32m    285\u001B[0m     \u001B[38;5;66;03m# Set the default nested backend to self._backend but do not set the\u001B[39;00m\n\u001B[1;32m    286\u001B[0m     \u001B[38;5;66;03m# change the default number of processes to -1\u001B[39;00m\n\u001B[1;32m    287\u001B[0m     \u001B[38;5;28;01mwith\u001B[39;00m parallel_backend(\u001B[38;5;28mself\u001B[39m\u001B[38;5;241m.\u001B[39m_backend, n_jobs\u001B[38;5;241m=\u001B[39m\u001B[38;5;28mself\u001B[39m\u001B[38;5;241m.\u001B[39m_n_jobs):\n\u001B[0;32m--> 288\u001B[0m         \u001B[38;5;28;01mreturn\u001B[39;00m [func(\u001B[38;5;241m*\u001B[39margs, \u001B[38;5;241m*\u001B[39m\u001B[38;5;241m*\u001B[39mkwargs)\n\u001B[1;32m    289\u001B[0m                 \u001B[38;5;28;01mfor\u001B[39;00m func, args, kwargs \u001B[38;5;129;01min\u001B[39;00m \u001B[38;5;28mself\u001B[39m\u001B[38;5;241m.\u001B[39mitems]\n",
      "File \u001B[0;32m~/anaconda3/lib/python3.11/site-packages/sklearn/utils/parallel.py:127\u001B[0m, in \u001B[0;36m_FuncWrapper.__call__\u001B[0;34m(self, *args, **kwargs)\u001B[0m\n\u001B[1;32m    125\u001B[0m     config \u001B[38;5;241m=\u001B[39m {}\n\u001B[1;32m    126\u001B[0m \u001B[38;5;28;01mwith\u001B[39;00m config_context(\u001B[38;5;241m*\u001B[39m\u001B[38;5;241m*\u001B[39mconfig):\n\u001B[0;32m--> 127\u001B[0m     \u001B[38;5;28;01mreturn\u001B[39;00m \u001B[38;5;28mself\u001B[39m\u001B[38;5;241m.\u001B[39mfunction(\u001B[38;5;241m*\u001B[39margs, \u001B[38;5;241m*\u001B[39m\u001B[38;5;241m*\u001B[39mkwargs)\n",
      "File \u001B[0;32m~/anaconda3/lib/python3.11/site-packages/sklearn/linear_model/_stochastic_gradient.py:453\u001B[0m, in \u001B[0;36mfit_binary\u001B[0;34m(est, i, X, y, alpha, C, learning_rate, max_iter, pos_weight, neg_weight, sample_weight, validation_mask, random_state)\u001B[0m\n\u001B[1;32m    450\u001B[0m tol \u001B[38;5;241m=\u001B[39m est\u001B[38;5;241m.\u001B[39mtol \u001B[38;5;28;01mif\u001B[39;00m est\u001B[38;5;241m.\u001B[39mtol \u001B[38;5;129;01mis\u001B[39;00m \u001B[38;5;129;01mnot\u001B[39;00m \u001B[38;5;28;01mNone\u001B[39;00m \u001B[38;5;28;01melse\u001B[39;00m \u001B[38;5;241m-\u001B[39mnp\u001B[38;5;241m.\u001B[39minf\n\u001B[1;32m    452\u001B[0m _plain_sgd \u001B[38;5;241m=\u001B[39m _get_plain_sgd_function(input_dtype\u001B[38;5;241m=\u001B[39mcoef\u001B[38;5;241m.\u001B[39mdtype)\n\u001B[0;32m--> 453\u001B[0m coef, intercept, average_coef, average_intercept, n_iter_ \u001B[38;5;241m=\u001B[39m _plain_sgd(\n\u001B[1;32m    454\u001B[0m     coef,\n\u001B[1;32m    455\u001B[0m     intercept,\n\u001B[1;32m    456\u001B[0m     average_coef,\n\u001B[1;32m    457\u001B[0m     average_intercept,\n\u001B[1;32m    458\u001B[0m     est\u001B[38;5;241m.\u001B[39mloss_function_,\n\u001B[1;32m    459\u001B[0m     penalty_type,\n\u001B[1;32m    460\u001B[0m     alpha,\n\u001B[1;32m    461\u001B[0m     C,\n\u001B[1;32m    462\u001B[0m     est\u001B[38;5;241m.\u001B[39ml1_ratio,\n\u001B[1;32m    463\u001B[0m     dataset,\n\u001B[1;32m    464\u001B[0m     validation_mask,\n\u001B[1;32m    465\u001B[0m     est\u001B[38;5;241m.\u001B[39mearly_stopping,\n\u001B[1;32m    466\u001B[0m     validation_score_cb,\n\u001B[1;32m    467\u001B[0m     \u001B[38;5;28mint\u001B[39m(est\u001B[38;5;241m.\u001B[39mn_iter_no_change),\n\u001B[1;32m    468\u001B[0m     max_iter,\n\u001B[1;32m    469\u001B[0m     tol,\n\u001B[1;32m    470\u001B[0m     \u001B[38;5;28mint\u001B[39m(est\u001B[38;5;241m.\u001B[39mfit_intercept),\n\u001B[1;32m    471\u001B[0m     \u001B[38;5;28mint\u001B[39m(est\u001B[38;5;241m.\u001B[39mverbose),\n\u001B[1;32m    472\u001B[0m     \u001B[38;5;28mint\u001B[39m(est\u001B[38;5;241m.\u001B[39mshuffle),\n\u001B[1;32m    473\u001B[0m     seed,\n\u001B[1;32m    474\u001B[0m     pos_weight,\n\u001B[1;32m    475\u001B[0m     neg_weight,\n\u001B[1;32m    476\u001B[0m     learning_rate_type,\n\u001B[1;32m    477\u001B[0m     est\u001B[38;5;241m.\u001B[39meta0,\n\u001B[1;32m    478\u001B[0m     est\u001B[38;5;241m.\u001B[39mpower_t,\n\u001B[1;32m    479\u001B[0m     \u001B[38;5;241m0\u001B[39m,\n\u001B[1;32m    480\u001B[0m     est\u001B[38;5;241m.\u001B[39mt_,\n\u001B[1;32m    481\u001B[0m     intercept_decay,\n\u001B[1;32m    482\u001B[0m     est\u001B[38;5;241m.\u001B[39maverage,\n\u001B[1;32m    483\u001B[0m )\n\u001B[1;32m    485\u001B[0m \u001B[38;5;28;01mif\u001B[39;00m est\u001B[38;5;241m.\u001B[39maverage:\n\u001B[1;32m    486\u001B[0m     \u001B[38;5;28;01mif\u001B[39;00m \u001B[38;5;28mlen\u001B[39m(est\u001B[38;5;241m.\u001B[39mclasses_) \u001B[38;5;241m==\u001B[39m \u001B[38;5;241m2\u001B[39m:\n",
      "\u001B[0;31mKeyboardInterrupt\u001B[0m: "
     ]
    }
   ],
   "source": [
    "sgd = SGDClassifier()\n",
    "model = sgd.fit(X_train,y_train)\n",
    "y_test = model.predict(X_test)"
   ],
   "metadata": {
    "collapsed": false,
    "ExecuteTime": {
     "end_time": "2023-08-25T01:30:40.018437Z",
     "start_time": "2023-08-25T01:30:35.252449Z"
    }
   },
   "id": "510984e2002c7a53"
  },
  {
   "cell_type": "markdown",
   "source": [
    "SGDClassifier is taking a lot of time. Let us consider kernel approximation."
   ],
   "metadata": {
    "collapsed": false
   },
   "id": "2d90a72d99ec2dfd"
  },
  {
   "cell_type": "code",
   "execution_count": 16,
   "outputs": [],
   "source": [
    "rbf = RBFSampler()\n",
    "X_train_mod = rbf.fit_transform(X_train)\n",
    "X_test_mod = rbf.fit_transform(X_test)"
   ],
   "metadata": {
    "collapsed": false,
    "ExecuteTime": {
     "end_time": "2023-08-25T01:36:17.588930Z",
     "start_time": "2023-08-25T01:36:16.019769Z"
    }
   },
   "id": "fcec322e72a6620f"
  },
  {
   "cell_type": "code",
   "execution_count": 17,
   "outputs": [
    {
     "ename": "KeyboardInterrupt",
     "evalue": "",
     "output_type": "error",
     "traceback": [
      "\u001B[0;31m---------------------------------------------------------------------------\u001B[0m",
      "\u001B[0;31mKeyboardInterrupt\u001B[0m                         Traceback (most recent call last)",
      "Cell \u001B[0;32mIn[17], line 2\u001B[0m\n\u001B[1;32m      1\u001B[0m sgd \u001B[38;5;241m=\u001B[39m SGDClassifier(max_iter\u001B[38;5;241m=\u001B[39m\u001B[38;5;241m5\u001B[39m)\n\u001B[0;32m----> 2\u001B[0m model \u001B[38;5;241m=\u001B[39m sgd\u001B[38;5;241m.\u001B[39mfit(X_train_mod,y_train)\n\u001B[1;32m      3\u001B[0m y_test \u001B[38;5;241m=\u001B[39m model\u001B[38;5;241m.\u001B[39mpredict(X_test)\n",
      "File \u001B[0;32m~/anaconda3/lib/python3.11/site-packages/sklearn/base.py:1151\u001B[0m, in \u001B[0;36m_fit_context.<locals>.decorator.<locals>.wrapper\u001B[0;34m(estimator, *args, **kwargs)\u001B[0m\n\u001B[1;32m   1144\u001B[0m     estimator\u001B[38;5;241m.\u001B[39m_validate_params()\n\u001B[1;32m   1146\u001B[0m \u001B[38;5;28;01mwith\u001B[39;00m config_context(\n\u001B[1;32m   1147\u001B[0m     skip_parameter_validation\u001B[38;5;241m=\u001B[39m(\n\u001B[1;32m   1148\u001B[0m         prefer_skip_nested_validation \u001B[38;5;129;01mor\u001B[39;00m global_skip_validation\n\u001B[1;32m   1149\u001B[0m     )\n\u001B[1;32m   1150\u001B[0m ):\n\u001B[0;32m-> 1151\u001B[0m     \u001B[38;5;28;01mreturn\u001B[39;00m fit_method(estimator, \u001B[38;5;241m*\u001B[39margs, \u001B[38;5;241m*\u001B[39m\u001B[38;5;241m*\u001B[39mkwargs)\n",
      "File \u001B[0;32m~/anaconda3/lib/python3.11/site-packages/sklearn/linear_model/_stochastic_gradient.py:907\u001B[0m, in \u001B[0;36mBaseSGDClassifier.fit\u001B[0;34m(self, X, y, coef_init, intercept_init, sample_weight)\u001B[0m\n\u001B[1;32m    878\u001B[0m \u001B[38;5;250m\u001B[39m\u001B[38;5;124;03m\"\"\"Fit linear model with Stochastic Gradient Descent.\u001B[39;00m\n\u001B[1;32m    879\u001B[0m \n\u001B[1;32m    880\u001B[0m \u001B[38;5;124;03mParameters\u001B[39;00m\n\u001B[0;32m   (...)\u001B[0m\n\u001B[1;32m    903\u001B[0m \u001B[38;5;124;03m    Returns an instance of self.\u001B[39;00m\n\u001B[1;32m    904\u001B[0m \u001B[38;5;124;03m\"\"\"\u001B[39;00m\n\u001B[1;32m    905\u001B[0m \u001B[38;5;28mself\u001B[39m\u001B[38;5;241m.\u001B[39m_more_validate_params()\n\u001B[0;32m--> 907\u001B[0m \u001B[38;5;28;01mreturn\u001B[39;00m \u001B[38;5;28mself\u001B[39m\u001B[38;5;241m.\u001B[39m_fit(\n\u001B[1;32m    908\u001B[0m     X,\n\u001B[1;32m    909\u001B[0m     y,\n\u001B[1;32m    910\u001B[0m     alpha\u001B[38;5;241m=\u001B[39m\u001B[38;5;28mself\u001B[39m\u001B[38;5;241m.\u001B[39malpha,\n\u001B[1;32m    911\u001B[0m     C\u001B[38;5;241m=\u001B[39m\u001B[38;5;241m1.0\u001B[39m,\n\u001B[1;32m    912\u001B[0m     loss\u001B[38;5;241m=\u001B[39m\u001B[38;5;28mself\u001B[39m\u001B[38;5;241m.\u001B[39mloss,\n\u001B[1;32m    913\u001B[0m     learning_rate\u001B[38;5;241m=\u001B[39m\u001B[38;5;28mself\u001B[39m\u001B[38;5;241m.\u001B[39mlearning_rate,\n\u001B[1;32m    914\u001B[0m     coef_init\u001B[38;5;241m=\u001B[39mcoef_init,\n\u001B[1;32m    915\u001B[0m     intercept_init\u001B[38;5;241m=\u001B[39mintercept_init,\n\u001B[1;32m    916\u001B[0m     sample_weight\u001B[38;5;241m=\u001B[39msample_weight,\n\u001B[1;32m    917\u001B[0m )\n",
      "File \u001B[0;32m~/anaconda3/lib/python3.11/site-packages/sklearn/linear_model/_stochastic_gradient.py:694\u001B[0m, in \u001B[0;36mBaseSGDClassifier._fit\u001B[0;34m(self, X, y, alpha, C, loss, learning_rate, coef_init, intercept_init, sample_weight)\u001B[0m\n\u001B[1;32m    691\u001B[0m \u001B[38;5;66;03m# Clear iteration count for multiple call to fit.\u001B[39;00m\n\u001B[1;32m    692\u001B[0m \u001B[38;5;28mself\u001B[39m\u001B[38;5;241m.\u001B[39mt_ \u001B[38;5;241m=\u001B[39m \u001B[38;5;241m1.0\u001B[39m\n\u001B[0;32m--> 694\u001B[0m \u001B[38;5;28mself\u001B[39m\u001B[38;5;241m.\u001B[39m_partial_fit(\n\u001B[1;32m    695\u001B[0m     X,\n\u001B[1;32m    696\u001B[0m     y,\n\u001B[1;32m    697\u001B[0m     alpha,\n\u001B[1;32m    698\u001B[0m     C,\n\u001B[1;32m    699\u001B[0m     loss,\n\u001B[1;32m    700\u001B[0m     learning_rate,\n\u001B[1;32m    701\u001B[0m     \u001B[38;5;28mself\u001B[39m\u001B[38;5;241m.\u001B[39mmax_iter,\n\u001B[1;32m    702\u001B[0m     classes,\n\u001B[1;32m    703\u001B[0m     sample_weight,\n\u001B[1;32m    704\u001B[0m     coef_init,\n\u001B[1;32m    705\u001B[0m     intercept_init,\n\u001B[1;32m    706\u001B[0m )\n\u001B[1;32m    708\u001B[0m \u001B[38;5;28;01mif\u001B[39;00m (\n\u001B[1;32m    709\u001B[0m     \u001B[38;5;28mself\u001B[39m\u001B[38;5;241m.\u001B[39mtol \u001B[38;5;129;01mis\u001B[39;00m \u001B[38;5;129;01mnot\u001B[39;00m \u001B[38;5;28;01mNone\u001B[39;00m\n\u001B[1;32m    710\u001B[0m     \u001B[38;5;129;01mand\u001B[39;00m \u001B[38;5;28mself\u001B[39m\u001B[38;5;241m.\u001B[39mtol \u001B[38;5;241m>\u001B[39m \u001B[38;5;241m-\u001B[39mnp\u001B[38;5;241m.\u001B[39minf\n\u001B[1;32m    711\u001B[0m     \u001B[38;5;129;01mand\u001B[39;00m \u001B[38;5;28mself\u001B[39m\u001B[38;5;241m.\u001B[39mn_iter_ \u001B[38;5;241m==\u001B[39m \u001B[38;5;28mself\u001B[39m\u001B[38;5;241m.\u001B[39mmax_iter\n\u001B[1;32m    712\u001B[0m ):\n\u001B[1;32m    713\u001B[0m     warnings\u001B[38;5;241m.\u001B[39mwarn(\n\u001B[1;32m    714\u001B[0m         (\n\u001B[1;32m    715\u001B[0m             \u001B[38;5;124m\"\u001B[39m\u001B[38;5;124mMaximum number of iteration reached before \u001B[39m\u001B[38;5;124m\"\u001B[39m\n\u001B[0;32m   (...)\u001B[0m\n\u001B[1;32m    719\u001B[0m         ConvergenceWarning,\n\u001B[1;32m    720\u001B[0m     )\n",
      "File \u001B[0;32m~/anaconda3/lib/python3.11/site-packages/sklearn/linear_model/_stochastic_gradient.py:628\u001B[0m, in \u001B[0;36mBaseSGDClassifier._partial_fit\u001B[0;34m(self, X, y, alpha, C, loss, learning_rate, max_iter, classes, sample_weight, coef_init, intercept_init)\u001B[0m\n\u001B[1;32m    626\u001B[0m \u001B[38;5;66;03m# delegate to concrete training procedure\u001B[39;00m\n\u001B[1;32m    627\u001B[0m \u001B[38;5;28;01mif\u001B[39;00m n_classes \u001B[38;5;241m>\u001B[39m \u001B[38;5;241m2\u001B[39m:\n\u001B[0;32m--> 628\u001B[0m     \u001B[38;5;28mself\u001B[39m\u001B[38;5;241m.\u001B[39m_fit_multiclass(\n\u001B[1;32m    629\u001B[0m         X,\n\u001B[1;32m    630\u001B[0m         y,\n\u001B[1;32m    631\u001B[0m         alpha\u001B[38;5;241m=\u001B[39malpha,\n\u001B[1;32m    632\u001B[0m         C\u001B[38;5;241m=\u001B[39mC,\n\u001B[1;32m    633\u001B[0m         learning_rate\u001B[38;5;241m=\u001B[39mlearning_rate,\n\u001B[1;32m    634\u001B[0m         sample_weight\u001B[38;5;241m=\u001B[39msample_weight,\n\u001B[1;32m    635\u001B[0m         max_iter\u001B[38;5;241m=\u001B[39mmax_iter,\n\u001B[1;32m    636\u001B[0m     )\n\u001B[1;32m    637\u001B[0m \u001B[38;5;28;01melif\u001B[39;00m n_classes \u001B[38;5;241m==\u001B[39m \u001B[38;5;241m2\u001B[39m:\n\u001B[1;32m    638\u001B[0m     \u001B[38;5;28mself\u001B[39m\u001B[38;5;241m.\u001B[39m_fit_binary(\n\u001B[1;32m    639\u001B[0m         X,\n\u001B[1;32m    640\u001B[0m         y,\n\u001B[0;32m   (...)\u001B[0m\n\u001B[1;32m    645\u001B[0m         max_iter\u001B[38;5;241m=\u001B[39mmax_iter,\n\u001B[1;32m    646\u001B[0m     )\n",
      "File \u001B[0;32m~/anaconda3/lib/python3.11/site-packages/sklearn/linear_model/_stochastic_gradient.py:773\u001B[0m, in \u001B[0;36mBaseSGDClassifier._fit_multiclass\u001B[0;34m(self, X, y, alpha, C, learning_rate, sample_weight, max_iter)\u001B[0m\n\u001B[1;32m    771\u001B[0m random_state \u001B[38;5;241m=\u001B[39m check_random_state(\u001B[38;5;28mself\u001B[39m\u001B[38;5;241m.\u001B[39mrandom_state)\n\u001B[1;32m    772\u001B[0m seeds \u001B[38;5;241m=\u001B[39m random_state\u001B[38;5;241m.\u001B[39mrandint(MAX_INT, size\u001B[38;5;241m=\u001B[39m\u001B[38;5;28mlen\u001B[39m(\u001B[38;5;28mself\u001B[39m\u001B[38;5;241m.\u001B[39mclasses_))\n\u001B[0;32m--> 773\u001B[0m result \u001B[38;5;241m=\u001B[39m Parallel(\n\u001B[1;32m    774\u001B[0m     n_jobs\u001B[38;5;241m=\u001B[39m\u001B[38;5;28mself\u001B[39m\u001B[38;5;241m.\u001B[39mn_jobs, verbose\u001B[38;5;241m=\u001B[39m\u001B[38;5;28mself\u001B[39m\u001B[38;5;241m.\u001B[39mverbose, require\u001B[38;5;241m=\u001B[39m\u001B[38;5;124m\"\u001B[39m\u001B[38;5;124msharedmem\u001B[39m\u001B[38;5;124m\"\u001B[39m\n\u001B[1;32m    775\u001B[0m )(\n\u001B[1;32m    776\u001B[0m     delayed(fit_binary)(\n\u001B[1;32m    777\u001B[0m         \u001B[38;5;28mself\u001B[39m,\n\u001B[1;32m    778\u001B[0m         i,\n\u001B[1;32m    779\u001B[0m         X,\n\u001B[1;32m    780\u001B[0m         y,\n\u001B[1;32m    781\u001B[0m         alpha,\n\u001B[1;32m    782\u001B[0m         C,\n\u001B[1;32m    783\u001B[0m         learning_rate,\n\u001B[1;32m    784\u001B[0m         max_iter,\n\u001B[1;32m    785\u001B[0m         \u001B[38;5;28mself\u001B[39m\u001B[38;5;241m.\u001B[39m_expanded_class_weight[i],\n\u001B[1;32m    786\u001B[0m         \u001B[38;5;241m1.0\u001B[39m,\n\u001B[1;32m    787\u001B[0m         sample_weight,\n\u001B[1;32m    788\u001B[0m         validation_mask\u001B[38;5;241m=\u001B[39mvalidation_mask,\n\u001B[1;32m    789\u001B[0m         random_state\u001B[38;5;241m=\u001B[39mseed,\n\u001B[1;32m    790\u001B[0m     )\n\u001B[1;32m    791\u001B[0m     \u001B[38;5;28;01mfor\u001B[39;00m i, seed \u001B[38;5;129;01min\u001B[39;00m \u001B[38;5;28menumerate\u001B[39m(seeds)\n\u001B[1;32m    792\u001B[0m )\n\u001B[1;32m    794\u001B[0m \u001B[38;5;66;03m# take the maximum of n_iter_ over every binary fit\u001B[39;00m\n\u001B[1;32m    795\u001B[0m n_iter_ \u001B[38;5;241m=\u001B[39m \u001B[38;5;241m0.0\u001B[39m\n",
      "File \u001B[0;32m~/anaconda3/lib/python3.11/site-packages/sklearn/utils/parallel.py:65\u001B[0m, in \u001B[0;36mParallel.__call__\u001B[0;34m(self, iterable)\u001B[0m\n\u001B[1;32m     60\u001B[0m config \u001B[38;5;241m=\u001B[39m get_config()\n\u001B[1;32m     61\u001B[0m iterable_with_config \u001B[38;5;241m=\u001B[39m (\n\u001B[1;32m     62\u001B[0m     (_with_config(delayed_func, config), args, kwargs)\n\u001B[1;32m     63\u001B[0m     \u001B[38;5;28;01mfor\u001B[39;00m delayed_func, args, kwargs \u001B[38;5;129;01min\u001B[39;00m iterable\n\u001B[1;32m     64\u001B[0m )\n\u001B[0;32m---> 65\u001B[0m \u001B[38;5;28;01mreturn\u001B[39;00m \u001B[38;5;28msuper\u001B[39m()\u001B[38;5;241m.\u001B[39m\u001B[38;5;21m__call__\u001B[39m(iterable_with_config)\n",
      "File \u001B[0;32m~/anaconda3/lib/python3.11/site-packages/joblib/parallel.py:1088\u001B[0m, in \u001B[0;36mParallel.__call__\u001B[0;34m(self, iterable)\u001B[0m\n\u001B[1;32m   1085\u001B[0m \u001B[38;5;28;01mif\u001B[39;00m \u001B[38;5;28mself\u001B[39m\u001B[38;5;241m.\u001B[39mdispatch_one_batch(iterator):\n\u001B[1;32m   1086\u001B[0m     \u001B[38;5;28mself\u001B[39m\u001B[38;5;241m.\u001B[39m_iterating \u001B[38;5;241m=\u001B[39m \u001B[38;5;28mself\u001B[39m\u001B[38;5;241m.\u001B[39m_original_iterator \u001B[38;5;129;01mis\u001B[39;00m \u001B[38;5;129;01mnot\u001B[39;00m \u001B[38;5;28;01mNone\u001B[39;00m\n\u001B[0;32m-> 1088\u001B[0m \u001B[38;5;28;01mwhile\u001B[39;00m \u001B[38;5;28mself\u001B[39m\u001B[38;5;241m.\u001B[39mdispatch_one_batch(iterator):\n\u001B[1;32m   1089\u001B[0m     \u001B[38;5;28;01mpass\u001B[39;00m\n\u001B[1;32m   1091\u001B[0m \u001B[38;5;28;01mif\u001B[39;00m pre_dispatch \u001B[38;5;241m==\u001B[39m \u001B[38;5;124m\"\u001B[39m\u001B[38;5;124mall\u001B[39m\u001B[38;5;124m\"\u001B[39m \u001B[38;5;129;01mor\u001B[39;00m n_jobs \u001B[38;5;241m==\u001B[39m \u001B[38;5;241m1\u001B[39m:\n\u001B[1;32m   1092\u001B[0m     \u001B[38;5;66;03m# The iterable was consumed all at once by the above for loop.\u001B[39;00m\n\u001B[1;32m   1093\u001B[0m     \u001B[38;5;66;03m# No need to wait for async callbacks to trigger to\u001B[39;00m\n\u001B[1;32m   1094\u001B[0m     \u001B[38;5;66;03m# consumption.\u001B[39;00m\n",
      "File \u001B[0;32m~/anaconda3/lib/python3.11/site-packages/joblib/parallel.py:901\u001B[0m, in \u001B[0;36mParallel.dispatch_one_batch\u001B[0;34m(self, iterator)\u001B[0m\n\u001B[1;32m    899\u001B[0m     \u001B[38;5;28;01mreturn\u001B[39;00m \u001B[38;5;28;01mFalse\u001B[39;00m\n\u001B[1;32m    900\u001B[0m \u001B[38;5;28;01melse\u001B[39;00m:\n\u001B[0;32m--> 901\u001B[0m     \u001B[38;5;28mself\u001B[39m\u001B[38;5;241m.\u001B[39m_dispatch(tasks)\n\u001B[1;32m    902\u001B[0m     \u001B[38;5;28;01mreturn\u001B[39;00m \u001B[38;5;28;01mTrue\u001B[39;00m\n",
      "File \u001B[0;32m~/anaconda3/lib/python3.11/site-packages/joblib/parallel.py:819\u001B[0m, in \u001B[0;36mParallel._dispatch\u001B[0;34m(self, batch)\u001B[0m\n\u001B[1;32m    817\u001B[0m \u001B[38;5;28;01mwith\u001B[39;00m \u001B[38;5;28mself\u001B[39m\u001B[38;5;241m.\u001B[39m_lock:\n\u001B[1;32m    818\u001B[0m     job_idx \u001B[38;5;241m=\u001B[39m \u001B[38;5;28mlen\u001B[39m(\u001B[38;5;28mself\u001B[39m\u001B[38;5;241m.\u001B[39m_jobs)\n\u001B[0;32m--> 819\u001B[0m     job \u001B[38;5;241m=\u001B[39m \u001B[38;5;28mself\u001B[39m\u001B[38;5;241m.\u001B[39m_backend\u001B[38;5;241m.\u001B[39mapply_async(batch, callback\u001B[38;5;241m=\u001B[39mcb)\n\u001B[1;32m    820\u001B[0m     \u001B[38;5;66;03m# A job can complete so quickly than its callback is\u001B[39;00m\n\u001B[1;32m    821\u001B[0m     \u001B[38;5;66;03m# called before we get here, causing self._jobs to\u001B[39;00m\n\u001B[1;32m    822\u001B[0m     \u001B[38;5;66;03m# grow. To ensure correct results ordering, .insert is\u001B[39;00m\n\u001B[1;32m    823\u001B[0m     \u001B[38;5;66;03m# used (rather than .append) in the following line\u001B[39;00m\n\u001B[1;32m    824\u001B[0m     \u001B[38;5;28mself\u001B[39m\u001B[38;5;241m.\u001B[39m_jobs\u001B[38;5;241m.\u001B[39minsert(job_idx, job)\n",
      "File \u001B[0;32m~/anaconda3/lib/python3.11/site-packages/joblib/_parallel_backends.py:208\u001B[0m, in \u001B[0;36mSequentialBackend.apply_async\u001B[0;34m(self, func, callback)\u001B[0m\n\u001B[1;32m    206\u001B[0m \u001B[38;5;28;01mdef\u001B[39;00m \u001B[38;5;21mapply_async\u001B[39m(\u001B[38;5;28mself\u001B[39m, func, callback\u001B[38;5;241m=\u001B[39m\u001B[38;5;28;01mNone\u001B[39;00m):\n\u001B[1;32m    207\u001B[0m \u001B[38;5;250m    \u001B[39m\u001B[38;5;124;03m\"\"\"Schedule a func to be run\"\"\"\u001B[39;00m\n\u001B[0;32m--> 208\u001B[0m     result \u001B[38;5;241m=\u001B[39m ImmediateResult(func)\n\u001B[1;32m    209\u001B[0m     \u001B[38;5;28;01mif\u001B[39;00m callback:\n\u001B[1;32m    210\u001B[0m         callback(result)\n",
      "File \u001B[0;32m~/anaconda3/lib/python3.11/site-packages/joblib/_parallel_backends.py:597\u001B[0m, in \u001B[0;36mImmediateResult.__init__\u001B[0;34m(self, batch)\u001B[0m\n\u001B[1;32m    594\u001B[0m \u001B[38;5;28;01mdef\u001B[39;00m \u001B[38;5;21m__init__\u001B[39m(\u001B[38;5;28mself\u001B[39m, batch):\n\u001B[1;32m    595\u001B[0m     \u001B[38;5;66;03m# Don't delay the application, to avoid keeping the input\u001B[39;00m\n\u001B[1;32m    596\u001B[0m     \u001B[38;5;66;03m# arguments in memory\u001B[39;00m\n\u001B[0;32m--> 597\u001B[0m     \u001B[38;5;28mself\u001B[39m\u001B[38;5;241m.\u001B[39mresults \u001B[38;5;241m=\u001B[39m batch()\n",
      "File \u001B[0;32m~/anaconda3/lib/python3.11/site-packages/joblib/parallel.py:288\u001B[0m, in \u001B[0;36mBatchedCalls.__call__\u001B[0;34m(self)\u001B[0m\n\u001B[1;32m    284\u001B[0m \u001B[38;5;28;01mdef\u001B[39;00m \u001B[38;5;21m__call__\u001B[39m(\u001B[38;5;28mself\u001B[39m):\n\u001B[1;32m    285\u001B[0m     \u001B[38;5;66;03m# Set the default nested backend to self._backend but do not set the\u001B[39;00m\n\u001B[1;32m    286\u001B[0m     \u001B[38;5;66;03m# change the default number of processes to -1\u001B[39;00m\n\u001B[1;32m    287\u001B[0m     \u001B[38;5;28;01mwith\u001B[39;00m parallel_backend(\u001B[38;5;28mself\u001B[39m\u001B[38;5;241m.\u001B[39m_backend, n_jobs\u001B[38;5;241m=\u001B[39m\u001B[38;5;28mself\u001B[39m\u001B[38;5;241m.\u001B[39m_n_jobs):\n\u001B[0;32m--> 288\u001B[0m         \u001B[38;5;28;01mreturn\u001B[39;00m [func(\u001B[38;5;241m*\u001B[39margs, \u001B[38;5;241m*\u001B[39m\u001B[38;5;241m*\u001B[39mkwargs)\n\u001B[1;32m    289\u001B[0m                 \u001B[38;5;28;01mfor\u001B[39;00m func, args, kwargs \u001B[38;5;129;01min\u001B[39;00m \u001B[38;5;28mself\u001B[39m\u001B[38;5;241m.\u001B[39mitems]\n",
      "File \u001B[0;32m~/anaconda3/lib/python3.11/site-packages/joblib/parallel.py:288\u001B[0m, in \u001B[0;36m<listcomp>\u001B[0;34m(.0)\u001B[0m\n\u001B[1;32m    284\u001B[0m \u001B[38;5;28;01mdef\u001B[39;00m \u001B[38;5;21m__call__\u001B[39m(\u001B[38;5;28mself\u001B[39m):\n\u001B[1;32m    285\u001B[0m     \u001B[38;5;66;03m# Set the default nested backend to self._backend but do not set the\u001B[39;00m\n\u001B[1;32m    286\u001B[0m     \u001B[38;5;66;03m# change the default number of processes to -1\u001B[39;00m\n\u001B[1;32m    287\u001B[0m     \u001B[38;5;28;01mwith\u001B[39;00m parallel_backend(\u001B[38;5;28mself\u001B[39m\u001B[38;5;241m.\u001B[39m_backend, n_jobs\u001B[38;5;241m=\u001B[39m\u001B[38;5;28mself\u001B[39m\u001B[38;5;241m.\u001B[39m_n_jobs):\n\u001B[0;32m--> 288\u001B[0m         \u001B[38;5;28;01mreturn\u001B[39;00m [func(\u001B[38;5;241m*\u001B[39margs, \u001B[38;5;241m*\u001B[39m\u001B[38;5;241m*\u001B[39mkwargs)\n\u001B[1;32m    289\u001B[0m                 \u001B[38;5;28;01mfor\u001B[39;00m func, args, kwargs \u001B[38;5;129;01min\u001B[39;00m \u001B[38;5;28mself\u001B[39m\u001B[38;5;241m.\u001B[39mitems]\n",
      "File \u001B[0;32m~/anaconda3/lib/python3.11/site-packages/sklearn/utils/parallel.py:127\u001B[0m, in \u001B[0;36m_FuncWrapper.__call__\u001B[0;34m(self, *args, **kwargs)\u001B[0m\n\u001B[1;32m    125\u001B[0m     config \u001B[38;5;241m=\u001B[39m {}\n\u001B[1;32m    126\u001B[0m \u001B[38;5;28;01mwith\u001B[39;00m config_context(\u001B[38;5;241m*\u001B[39m\u001B[38;5;241m*\u001B[39mconfig):\n\u001B[0;32m--> 127\u001B[0m     \u001B[38;5;28;01mreturn\u001B[39;00m \u001B[38;5;28mself\u001B[39m\u001B[38;5;241m.\u001B[39mfunction(\u001B[38;5;241m*\u001B[39margs, \u001B[38;5;241m*\u001B[39m\u001B[38;5;241m*\u001B[39mkwargs)\n",
      "File \u001B[0;32m~/anaconda3/lib/python3.11/site-packages/sklearn/linear_model/_stochastic_gradient.py:453\u001B[0m, in \u001B[0;36mfit_binary\u001B[0;34m(est, i, X, y, alpha, C, learning_rate, max_iter, pos_weight, neg_weight, sample_weight, validation_mask, random_state)\u001B[0m\n\u001B[1;32m    450\u001B[0m tol \u001B[38;5;241m=\u001B[39m est\u001B[38;5;241m.\u001B[39mtol \u001B[38;5;28;01mif\u001B[39;00m est\u001B[38;5;241m.\u001B[39mtol \u001B[38;5;129;01mis\u001B[39;00m \u001B[38;5;129;01mnot\u001B[39;00m \u001B[38;5;28;01mNone\u001B[39;00m \u001B[38;5;28;01melse\u001B[39;00m \u001B[38;5;241m-\u001B[39mnp\u001B[38;5;241m.\u001B[39minf\n\u001B[1;32m    452\u001B[0m _plain_sgd \u001B[38;5;241m=\u001B[39m _get_plain_sgd_function(input_dtype\u001B[38;5;241m=\u001B[39mcoef\u001B[38;5;241m.\u001B[39mdtype)\n\u001B[0;32m--> 453\u001B[0m coef, intercept, average_coef, average_intercept, n_iter_ \u001B[38;5;241m=\u001B[39m _plain_sgd(\n\u001B[1;32m    454\u001B[0m     coef,\n\u001B[1;32m    455\u001B[0m     intercept,\n\u001B[1;32m    456\u001B[0m     average_coef,\n\u001B[1;32m    457\u001B[0m     average_intercept,\n\u001B[1;32m    458\u001B[0m     est\u001B[38;5;241m.\u001B[39mloss_function_,\n\u001B[1;32m    459\u001B[0m     penalty_type,\n\u001B[1;32m    460\u001B[0m     alpha,\n\u001B[1;32m    461\u001B[0m     C,\n\u001B[1;32m    462\u001B[0m     est\u001B[38;5;241m.\u001B[39ml1_ratio,\n\u001B[1;32m    463\u001B[0m     dataset,\n\u001B[1;32m    464\u001B[0m     validation_mask,\n\u001B[1;32m    465\u001B[0m     est\u001B[38;5;241m.\u001B[39mearly_stopping,\n\u001B[1;32m    466\u001B[0m     validation_score_cb,\n\u001B[1;32m    467\u001B[0m     \u001B[38;5;28mint\u001B[39m(est\u001B[38;5;241m.\u001B[39mn_iter_no_change),\n\u001B[1;32m    468\u001B[0m     max_iter,\n\u001B[1;32m    469\u001B[0m     tol,\n\u001B[1;32m    470\u001B[0m     \u001B[38;5;28mint\u001B[39m(est\u001B[38;5;241m.\u001B[39mfit_intercept),\n\u001B[1;32m    471\u001B[0m     \u001B[38;5;28mint\u001B[39m(est\u001B[38;5;241m.\u001B[39mverbose),\n\u001B[1;32m    472\u001B[0m     \u001B[38;5;28mint\u001B[39m(est\u001B[38;5;241m.\u001B[39mshuffle),\n\u001B[1;32m    473\u001B[0m     seed,\n\u001B[1;32m    474\u001B[0m     pos_weight,\n\u001B[1;32m    475\u001B[0m     neg_weight,\n\u001B[1;32m    476\u001B[0m     learning_rate_type,\n\u001B[1;32m    477\u001B[0m     est\u001B[38;5;241m.\u001B[39meta0,\n\u001B[1;32m    478\u001B[0m     est\u001B[38;5;241m.\u001B[39mpower_t,\n\u001B[1;32m    479\u001B[0m     \u001B[38;5;241m0\u001B[39m,\n\u001B[1;32m    480\u001B[0m     est\u001B[38;5;241m.\u001B[39mt_,\n\u001B[1;32m    481\u001B[0m     intercept_decay,\n\u001B[1;32m    482\u001B[0m     est\u001B[38;5;241m.\u001B[39maverage,\n\u001B[1;32m    483\u001B[0m )\n\u001B[1;32m    485\u001B[0m \u001B[38;5;28;01mif\u001B[39;00m est\u001B[38;5;241m.\u001B[39maverage:\n\u001B[1;32m    486\u001B[0m     \u001B[38;5;28;01mif\u001B[39;00m \u001B[38;5;28mlen\u001B[39m(est\u001B[38;5;241m.\u001B[39mclasses_) \u001B[38;5;241m==\u001B[39m \u001B[38;5;241m2\u001B[39m:\n",
      "\u001B[0;31mKeyboardInterrupt\u001B[0m: "
     ]
    }
   ],
   "source": [
    "sgd = SGDClassifier(max_iter=5)\n",
    "model = sgd.fit(X_train_mod,y_train)\n",
    "y_test = model.predict(X_test)"
   ],
   "metadata": {
    "collapsed": false,
    "ExecuteTime": {
     "end_time": "2023-08-25T01:37:39.653826Z",
     "start_time": "2023-08-25T01:36:18.574247Z"
    }
   },
   "id": "25a49367c491f588"
  },
  {
   "cell_type": "markdown",
   "source": [
    "Sci-kit learn is taking a lot of time to perform machine learning. Hence, let us go for deep learning using tensorflow."
   ],
   "metadata": {
    "collapsed": false
   },
   "id": "78cd571e74d869b9"
  },
  {
   "cell_type": "markdown",
   "source": [
    "### Saving the datasets as tensors"
   ],
   "metadata": {
    "collapsed": false
   },
   "id": "33cea90ce8d396dc"
  },
  {
   "cell_type": "code",
   "execution_count": 18,
   "outputs": [],
   "source": [
    "X_train_np = df_X.to_numpy()\n",
    "y_train_np = df_y.to_numpy()\n",
    "X_test_np = df_test.to_numpy()"
   ],
   "metadata": {
    "collapsed": false,
    "ExecuteTime": {
     "end_time": "2023-08-25T01:42:20.242550Z",
     "start_time": "2023-08-25T01:42:20.059874Z"
    }
   },
   "id": "f5dcb16058c14ef5"
  },
  {
   "cell_type": "code",
   "execution_count": 21,
   "outputs": [
    {
     "data": {
      "text/plain": "array([[2.0130e+03, 1.0000e+00, 1.0000e+00, 0.0000e+00, 0.0000e+00,\n        0.0000e+00, 0.0000e+00, 0.0000e+00, 0.0000e+00, 0.0000e+00,\n        0.0000e+00, 0.0000e+00, 0.0000e+00, 0.0000e+00, 0.0000e+00,\n        0.0000e+00, 0.0000e+00, 0.0000e+00, 0.0000e+00, 0.0000e+00,\n        0.0000e+00, 0.0000e+00, 0.0000e+00, 0.0000e+00, 0.0000e+00,\n        0.0000e+00, 1.0000e+00, 1.0000e+00, 0.0000e+00, 1.0000e+00,\n        1.0000e+00, 0.0000e+00, 0.0000e+00, 9.3366e+01, 1.0000e+00],\n       [2.0130e+03, 1.0000e+00, 1.0000e+00, 0.0000e+00, 0.0000e+00,\n        0.0000e+00, 0.0000e+00, 0.0000e+00, 0.0000e+00, 0.0000e+00,\n        0.0000e+00, 0.0000e+00, 0.0000e+00, 0.0000e+00, 1.0000e+00,\n        0.0000e+00, 0.0000e+00, 0.0000e+00, 0.0000e+00, 0.0000e+00,\n        0.0000e+00, 0.0000e+00, 0.0000e+00, 0.0000e+00, 0.0000e+00,\n        0.0000e+00, 1.0000e+00, 1.0000e+00, 0.0000e+00, 1.0000e+00,\n        1.0000e+00, 0.0000e+00, 0.0000e+00, 9.3366e+01, 1.0000e+00],\n       [2.0130e+03, 1.0000e+00, 1.0000e+00, 0.0000e+00, 0.0000e+00,\n        0.0000e+00, 0.0000e+00, 0.0000e+00, 0.0000e+00, 0.0000e+00,\n        0.0000e+00, 0.0000e+00, 0.0000e+00, 1.0000e+00, 0.0000e+00,\n        0.0000e+00, 0.0000e+00, 0.0000e+00, 0.0000e+00, 0.0000e+00,\n        0.0000e+00, 0.0000e+00, 0.0000e+00, 0.0000e+00, 0.0000e+00,\n        0.0000e+00, 1.0000e+00, 1.0000e+00, 0.0000e+00, 1.0000e+00,\n        1.0000e+00, 0.0000e+00, 0.0000e+00, 9.3366e+01, 1.0000e+00],\n       [2.0130e+03, 1.0000e+00, 1.0000e+00, 0.0000e+00, 0.0000e+00,\n        0.0000e+00, 0.0000e+00, 0.0000e+00, 0.0000e+00, 0.0000e+00,\n        0.0000e+00, 0.0000e+00, 0.0000e+00, 1.0000e+00, 1.0000e+00,\n        0.0000e+00, 0.0000e+00, 0.0000e+00, 0.0000e+00, 0.0000e+00,\n        0.0000e+00, 0.0000e+00, 0.0000e+00, 0.0000e+00, 0.0000e+00,\n        0.0000e+00, 1.0000e+00, 1.0000e+00, 0.0000e+00, 1.0000e+00,\n        1.0000e+00, 0.0000e+00, 0.0000e+00, 9.3366e+01, 1.0000e+00],\n       [2.0130e+03, 1.0000e+00, 1.0000e+00, 0.0000e+00, 0.0000e+00,\n        0.0000e+00, 0.0000e+00, 0.0000e+00, 0.0000e+00, 0.0000e+00,\n        0.0000e+00, 0.0000e+00, 1.0000e+00, 0.0000e+00, 0.0000e+00,\n        0.0000e+00, 0.0000e+00, 0.0000e+00, 0.0000e+00, 0.0000e+00,\n        0.0000e+00, 0.0000e+00, 0.0000e+00, 0.0000e+00, 0.0000e+00,\n        0.0000e+00, 1.0000e+00, 1.0000e+00, 0.0000e+00, 1.0000e+00,\n        1.0000e+00, 0.0000e+00, 0.0000e+00, 9.3366e+01, 1.0000e+00]])"
     },
     "execution_count": 21,
     "metadata": {},
     "output_type": "execute_result"
    }
   ],
   "source": [
    "X_train_np[0:5,:]"
   ],
   "metadata": {
    "collapsed": false,
    "ExecuteTime": {
     "end_time": "2023-08-25T01:42:42.504327Z",
     "start_time": "2023-08-25T01:42:42.494271Z"
    }
   },
   "id": "bf6393c34f8b4811"
  },
  {
   "cell_type": "code",
   "execution_count": 22,
   "outputs": [
    {
     "data": {
      "text/plain": "array([[0.],\n       [0.],\n       [0.],\n       [0.],\n       [0.]])"
     },
     "execution_count": 22,
     "metadata": {},
     "output_type": "execute_result"
    }
   ],
   "source": [
    "y_train_np[0:5,:]"
   ],
   "metadata": {
    "collapsed": false,
    "ExecuteTime": {
     "end_time": "2023-08-25T01:42:48.707920Z",
     "start_time": "2023-08-25T01:42:48.701389Z"
    }
   },
   "id": "6de30dde0951ec06"
  },
  {
   "cell_type": "code",
   "execution_count": 23,
   "outputs": [
    {
     "data": {
      "text/plain": "array([[2.017e+03, 8.000e+00, 1.600e+01, 0.000e+00, 0.000e+00, 0.000e+00,\n        0.000e+00, 0.000e+00, 0.000e+00, 0.000e+00, 0.000e+00, 0.000e+00,\n        0.000e+00, 0.000e+00, 0.000e+00, 0.000e+00, 0.000e+00, 0.000e+00,\n        0.000e+00, 0.000e+00, 0.000e+00, 0.000e+00, 0.000e+00, 0.000e+00,\n        0.000e+00, 0.000e+00, 1.000e+00, 1.000e+00, 0.000e+00, 1.000e+00,\n        1.000e+00, 0.000e+00, 0.000e+00, 4.680e+01, 0.000e+00],\n       [2.017e+03, 8.000e+00, 1.600e+01, 0.000e+00, 0.000e+00, 0.000e+00,\n        0.000e+00, 0.000e+00, 0.000e+00, 0.000e+00, 0.000e+00, 0.000e+00,\n        0.000e+00, 0.000e+00, 1.000e+00, 0.000e+00, 0.000e+00, 0.000e+00,\n        0.000e+00, 0.000e+00, 0.000e+00, 0.000e+00, 0.000e+00, 0.000e+00,\n        0.000e+00, 0.000e+00, 1.000e+00, 1.000e+00, 0.000e+00, 1.000e+00,\n        1.000e+00, 0.000e+00, 0.000e+00, 4.680e+01, 0.000e+00],\n       [2.017e+03, 8.000e+00, 1.600e+01, 0.000e+00, 0.000e+00, 0.000e+00,\n        0.000e+00, 0.000e+00, 0.000e+00, 0.000e+00, 0.000e+00, 0.000e+00,\n        0.000e+00, 1.000e+00, 0.000e+00, 2.000e+00, 0.000e+00, 0.000e+00,\n        0.000e+00, 0.000e+00, 0.000e+00, 0.000e+00, 0.000e+00, 0.000e+00,\n        0.000e+00, 0.000e+00, 1.000e+00, 1.000e+00, 0.000e+00, 1.000e+00,\n        1.000e+00, 0.000e+00, 0.000e+00, 4.680e+01, 0.000e+00],\n       [2.017e+03, 8.000e+00, 1.600e+01, 0.000e+00, 0.000e+00, 0.000e+00,\n        0.000e+00, 0.000e+00, 0.000e+00, 0.000e+00, 0.000e+00, 0.000e+00,\n        0.000e+00, 1.000e+00, 1.000e+00, 2.000e+01, 0.000e+00, 0.000e+00,\n        0.000e+00, 0.000e+00, 0.000e+00, 0.000e+00, 0.000e+00, 0.000e+00,\n        0.000e+00, 0.000e+00, 1.000e+00, 1.000e+00, 0.000e+00, 1.000e+00,\n        1.000e+00, 0.000e+00, 0.000e+00, 4.680e+01, 0.000e+00],\n       [2.017e+03, 8.000e+00, 1.600e+01, 0.000e+00, 0.000e+00, 0.000e+00,\n        0.000e+00, 0.000e+00, 0.000e+00, 0.000e+00, 0.000e+00, 0.000e+00,\n        1.000e+00, 0.000e+00, 0.000e+00, 0.000e+00, 0.000e+00, 0.000e+00,\n        0.000e+00, 0.000e+00, 0.000e+00, 0.000e+00, 0.000e+00, 0.000e+00,\n        0.000e+00, 0.000e+00, 1.000e+00, 1.000e+00, 0.000e+00, 1.000e+00,\n        1.000e+00, 0.000e+00, 0.000e+00, 4.680e+01, 0.000e+00]])"
     },
     "execution_count": 23,
     "metadata": {},
     "output_type": "execute_result"
    }
   ],
   "source": [
    "X_test_np[0:5,:]"
   ],
   "metadata": {
    "collapsed": false,
    "ExecuteTime": {
     "end_time": "2023-08-25T01:43:02.141276Z",
     "start_time": "2023-08-25T01:43:02.131316Z"
    }
   },
   "id": "7062db3abca69ac9"
  },
  {
   "cell_type": "code",
   "execution_count": 28,
   "outputs": [
    {
     "name": "stdout",
     "output_type": "stream",
     "text": [
      "Number of rows in tensor X_train :  1048575\n",
      "Number of rows in tensor y_train :  1048575\n",
      "Number of rows in tensor X_test  :  28512\n"
     ]
    }
   ],
   "source": [
    "print(\"Number of rows in tensor X_train : \",X_train_np.shape[0])\n",
    "print(\"Number of rows in tensor y_train : \",y_train_np.shape[0])\n",
    "print(\"Number of rows in tensor X_test  : \",X_test_np.shape[0])"
   ],
   "metadata": {
    "collapsed": false,
    "ExecuteTime": {
     "end_time": "2023-08-25T01:44:20.384737Z",
     "start_time": "2023-08-25T01:44:20.376881Z"
    }
   },
   "id": "3cb752237d8f5a88"
  },
  {
   "cell_type": "code",
   "execution_count": null,
   "outputs": [],
   "source": [],
   "metadata": {
    "collapsed": false
   },
   "id": "b55b9bbf9b53f931"
  }
 ],
 "metadata": {
  "kernelspec": {
   "display_name": "Python 3",
   "language": "python",
   "name": "python3"
  },
  "language_info": {
   "codemirror_mode": {
    "name": "ipython",
    "version": 2
   },
   "file_extension": ".py",
   "mimetype": "text/x-python",
   "name": "python",
   "nbconvert_exporter": "python",
   "pygments_lexer": "ipython2",
   "version": "2.7.6"
  }
 },
 "nbformat": 4,
 "nbformat_minor": 5
}
