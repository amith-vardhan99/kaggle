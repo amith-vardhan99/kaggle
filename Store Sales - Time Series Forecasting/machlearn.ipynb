{
 "cells": [
  {
   "cell_type": "markdown",
   "source": [
    "## Machine Learning"
   ],
   "metadata": {
    "collapsed": false
   },
   "id": "12cffaefad3fa9fc"
  },
  {
   "cell_type": "markdown",
   "source": [
    "Now, we are done with both exploratory data analysis and preprocessing. Now we will go ahead with performing machine learning."
   ],
   "metadata": {
    "collapsed": false
   },
   "id": "cf0e91e0bf2895c2"
  },
  {
   "cell_type": "markdown",
   "source": [
    "### Importing all packages"
   ],
   "metadata": {
    "collapsed": false
   },
   "id": "1019269a95cfc675"
  },
  {
   "cell_type": "code",
   "execution_count": null,
   "outputs": [],
   "source": [
    "import numpy as np\n",
    "import pandas as pd\n",
    "import matplotlib.pyplot as plt\n",
    "import seaborn as sns\n",
    "from sklearn.model_selection import *\n",
    "from sklearn.linear_model import *\n",
    "from math import *\n",
    "from sklearn.ensemble import *\n",
    "from sklearn.feature_selection import *\n",
    "from sklearn.feature_extraction import *\n",
    "from sklearn.naive_bayes import *\n",
    "from sklearn.discriminant_analysis import *\n",
    "from sklearn.preprocessing import *\n",
    "from sklearn.metrics import *\n",
    "from sklearn.neighbors import *\n",
    "from sklearn.cluster import *"
   ],
   "metadata": {
    "collapsed": false,
    "is_executing": true
   },
   "id": "9677d33d3d77416f"
  },
  {
   "cell_type": "code",
   "execution_count": 42,
   "outputs": [],
   "source": [
    "df_x = pd.read_csv(\"train_X_preprocessed.csv\")\n",
    "df_y = pd.read_csv(\"train_y_preprocessed.csv\")\n",
    "df_test = pd.read_csv(\"test_preprocessed.csv\")"
   ],
   "metadata": {
    "collapsed": false,
    "ExecuteTime": {
     "end_time": "2023-08-25T01:04:31.098727Z",
     "start_time": "2023-08-25T01:04:30.321617Z"
    }
   },
   "id": "cc745565fa02dce1"
  },
  {
   "cell_type": "code",
   "execution_count": 43,
   "outputs": [
    {
     "data": {
      "text/plain": "   date_year  date_month  date_day  store_nbr_0  store_nbr_1  store_nbr_2  \\\n0       2013           1         1            0            0            0   \n1       2013           1         1            0            0            0   \n2       2013           1         1            0            0            0   \n3       2013           1         1            0            0            0   \n4       2013           1         1            0            0            0   \n\n   store_nbr_3  store_nbr_4  store_nbr_5  family_0  ...  type_0  type_1  \\\n0            0            0            0         0  ...       0       1   \n1            0            0            0         0  ...       0       1   \n2            0            0            0         0  ...       0       1   \n3            0            0            0         0  ...       0       1   \n4            0            0            0         0  ...       0       1   \n\n   type_2  cluster_0  cluster_1  cluster_2  cluster_3  cluster_4  dcoilwtico  \\\n0       1          0          1          1          0          0      93.366   \n1       1          0          1          1          0          0      93.366   \n2       1          0          1          1          0          0      93.366   \n3       1          0          1          1          0          0      93.366   \n4       1          0          1          1          0          0      93.366   \n\n   holiday?  \n0       1.0  \n1       1.0  \n2       1.0  \n3       1.0  \n4       1.0  \n\n[5 rows x 35 columns]",
      "text/html": "<div>\n<style scoped>\n    .dataframe tbody tr th:only-of-type {\n        vertical-align: middle;\n    }\n\n    .dataframe tbody tr th {\n        vertical-align: top;\n    }\n\n    .dataframe thead th {\n        text-align: right;\n    }\n</style>\n<table border=\"1\" class=\"dataframe\">\n  <thead>\n    <tr style=\"text-align: right;\">\n      <th></th>\n      <th>date_year</th>\n      <th>date_month</th>\n      <th>date_day</th>\n      <th>store_nbr_0</th>\n      <th>store_nbr_1</th>\n      <th>store_nbr_2</th>\n      <th>store_nbr_3</th>\n      <th>store_nbr_4</th>\n      <th>store_nbr_5</th>\n      <th>family_0</th>\n      <th>...</th>\n      <th>type_0</th>\n      <th>type_1</th>\n      <th>type_2</th>\n      <th>cluster_0</th>\n      <th>cluster_1</th>\n      <th>cluster_2</th>\n      <th>cluster_3</th>\n      <th>cluster_4</th>\n      <th>dcoilwtico</th>\n      <th>holiday?</th>\n    </tr>\n  </thead>\n  <tbody>\n    <tr>\n      <th>0</th>\n      <td>2013</td>\n      <td>1</td>\n      <td>1</td>\n      <td>0</td>\n      <td>0</td>\n      <td>0</td>\n      <td>0</td>\n      <td>0</td>\n      <td>0</td>\n      <td>0</td>\n      <td>...</td>\n      <td>0</td>\n      <td>1</td>\n      <td>1</td>\n      <td>0</td>\n      <td>1</td>\n      <td>1</td>\n      <td>0</td>\n      <td>0</td>\n      <td>93.366</td>\n      <td>1.0</td>\n    </tr>\n    <tr>\n      <th>1</th>\n      <td>2013</td>\n      <td>1</td>\n      <td>1</td>\n      <td>0</td>\n      <td>0</td>\n      <td>0</td>\n      <td>0</td>\n      <td>0</td>\n      <td>0</td>\n      <td>0</td>\n      <td>...</td>\n      <td>0</td>\n      <td>1</td>\n      <td>1</td>\n      <td>0</td>\n      <td>1</td>\n      <td>1</td>\n      <td>0</td>\n      <td>0</td>\n      <td>93.366</td>\n      <td>1.0</td>\n    </tr>\n    <tr>\n      <th>2</th>\n      <td>2013</td>\n      <td>1</td>\n      <td>1</td>\n      <td>0</td>\n      <td>0</td>\n      <td>0</td>\n      <td>0</td>\n      <td>0</td>\n      <td>0</td>\n      <td>0</td>\n      <td>...</td>\n      <td>0</td>\n      <td>1</td>\n      <td>1</td>\n      <td>0</td>\n      <td>1</td>\n      <td>1</td>\n      <td>0</td>\n      <td>0</td>\n      <td>93.366</td>\n      <td>1.0</td>\n    </tr>\n    <tr>\n      <th>3</th>\n      <td>2013</td>\n      <td>1</td>\n      <td>1</td>\n      <td>0</td>\n      <td>0</td>\n      <td>0</td>\n      <td>0</td>\n      <td>0</td>\n      <td>0</td>\n      <td>0</td>\n      <td>...</td>\n      <td>0</td>\n      <td>1</td>\n      <td>1</td>\n      <td>0</td>\n      <td>1</td>\n      <td>1</td>\n      <td>0</td>\n      <td>0</td>\n      <td>93.366</td>\n      <td>1.0</td>\n    </tr>\n    <tr>\n      <th>4</th>\n      <td>2013</td>\n      <td>1</td>\n      <td>1</td>\n      <td>0</td>\n      <td>0</td>\n      <td>0</td>\n      <td>0</td>\n      <td>0</td>\n      <td>0</td>\n      <td>0</td>\n      <td>...</td>\n      <td>0</td>\n      <td>1</td>\n      <td>1</td>\n      <td>0</td>\n      <td>1</td>\n      <td>1</td>\n      <td>0</td>\n      <td>0</td>\n      <td>93.366</td>\n      <td>1.0</td>\n    </tr>\n  </tbody>\n</table>\n<p>5 rows × 35 columns</p>\n</div>"
     },
     "execution_count": 43,
     "metadata": {},
     "output_type": "execute_result"
    }
   ],
   "source": [
    "X_train.head()"
   ],
   "metadata": {
    "collapsed": false,
    "ExecuteTime": {
     "end_time": "2023-08-25T01:04:31.105865Z",
     "start_time": "2023-08-25T01:04:31.102241Z"
    }
   },
   "id": "57716ba28538e09e"
  },
  {
   "cell_type": "code",
   "execution_count": 44,
   "outputs": [
    {
     "data": {
      "text/plain": "   sales\n0    0.0\n1    0.0\n2    0.0\n3    0.0\n4    0.0",
      "text/html": "<div>\n<style scoped>\n    .dataframe tbody tr th:only-of-type {\n        vertical-align: middle;\n    }\n\n    .dataframe tbody tr th {\n        vertical-align: top;\n    }\n\n    .dataframe thead th {\n        text-align: right;\n    }\n</style>\n<table border=\"1\" class=\"dataframe\">\n  <thead>\n    <tr style=\"text-align: right;\">\n      <th></th>\n      <th>sales</th>\n    </tr>\n  </thead>\n  <tbody>\n    <tr>\n      <th>0</th>\n      <td>0.0</td>\n    </tr>\n    <tr>\n      <th>1</th>\n      <td>0.0</td>\n    </tr>\n    <tr>\n      <th>2</th>\n      <td>0.0</td>\n    </tr>\n    <tr>\n      <th>3</th>\n      <td>0.0</td>\n    </tr>\n    <tr>\n      <th>4</th>\n      <td>0.0</td>\n    </tr>\n  </tbody>\n</table>\n</div>"
     },
     "execution_count": 44,
     "metadata": {},
     "output_type": "execute_result"
    }
   ],
   "source": [
    "y_train.head()"
   ],
   "metadata": {
    "collapsed": false,
    "ExecuteTime": {
     "end_time": "2023-08-25T01:04:31.109626Z",
     "start_time": "2023-08-25T01:04:31.105803Z"
    }
   },
   "id": "6e509f50f094592"
  },
  {
   "cell_type": "code",
   "execution_count": 45,
   "outputs": [
    {
     "data": {
      "text/plain": "   date_year  date_month  date_day  store_nbr_0  store_nbr_1  store_nbr_2  \\\n0       2017           8        16            0            0            0   \n1       2017           8        16            0            0            0   \n2       2017           8        16            0            0            0   \n3       2017           8        16            0            0            0   \n4       2017           8        16            0            0            0   \n\n   store_nbr_3  store_nbr_4  store_nbr_5  family_0  ...  type_0  type_1  \\\n0            0            0            0         0  ...       0       1   \n1            0            0            0         0  ...       0       1   \n2            0            0            0         0  ...       0       1   \n3            0            0            0         0  ...       0       1   \n4            0            0            0         0  ...       0       1   \n\n   type_2  cluster_0  cluster_1  cluster_2  cluster_3  cluster_4  dcoilwtico  \\\n0       1          0          1          1          0          0        46.8   \n1       1          0          1          1          0          0        46.8   \n2       1          0          1          1          0          0        46.8   \n3       1          0          1          1          0          0        46.8   \n4       1          0          1          1          0          0        46.8   \n\n   holiday?  \n0       0.0  \n1       0.0  \n2       0.0  \n3       0.0  \n4       0.0  \n\n[5 rows x 35 columns]",
      "text/html": "<div>\n<style scoped>\n    .dataframe tbody tr th:only-of-type {\n        vertical-align: middle;\n    }\n\n    .dataframe tbody tr th {\n        vertical-align: top;\n    }\n\n    .dataframe thead th {\n        text-align: right;\n    }\n</style>\n<table border=\"1\" class=\"dataframe\">\n  <thead>\n    <tr style=\"text-align: right;\">\n      <th></th>\n      <th>date_year</th>\n      <th>date_month</th>\n      <th>date_day</th>\n      <th>store_nbr_0</th>\n      <th>store_nbr_1</th>\n      <th>store_nbr_2</th>\n      <th>store_nbr_3</th>\n      <th>store_nbr_4</th>\n      <th>store_nbr_5</th>\n      <th>family_0</th>\n      <th>...</th>\n      <th>type_0</th>\n      <th>type_1</th>\n      <th>type_2</th>\n      <th>cluster_0</th>\n      <th>cluster_1</th>\n      <th>cluster_2</th>\n      <th>cluster_3</th>\n      <th>cluster_4</th>\n      <th>dcoilwtico</th>\n      <th>holiday?</th>\n    </tr>\n  </thead>\n  <tbody>\n    <tr>\n      <th>0</th>\n      <td>2017</td>\n      <td>8</td>\n      <td>16</td>\n      <td>0</td>\n      <td>0</td>\n      <td>0</td>\n      <td>0</td>\n      <td>0</td>\n      <td>0</td>\n      <td>0</td>\n      <td>...</td>\n      <td>0</td>\n      <td>1</td>\n      <td>1</td>\n      <td>0</td>\n      <td>1</td>\n      <td>1</td>\n      <td>0</td>\n      <td>0</td>\n      <td>46.8</td>\n      <td>0.0</td>\n    </tr>\n    <tr>\n      <th>1</th>\n      <td>2017</td>\n      <td>8</td>\n      <td>16</td>\n      <td>0</td>\n      <td>0</td>\n      <td>0</td>\n      <td>0</td>\n      <td>0</td>\n      <td>0</td>\n      <td>0</td>\n      <td>...</td>\n      <td>0</td>\n      <td>1</td>\n      <td>1</td>\n      <td>0</td>\n      <td>1</td>\n      <td>1</td>\n      <td>0</td>\n      <td>0</td>\n      <td>46.8</td>\n      <td>0.0</td>\n    </tr>\n    <tr>\n      <th>2</th>\n      <td>2017</td>\n      <td>8</td>\n      <td>16</td>\n      <td>0</td>\n      <td>0</td>\n      <td>0</td>\n      <td>0</td>\n      <td>0</td>\n      <td>0</td>\n      <td>0</td>\n      <td>...</td>\n      <td>0</td>\n      <td>1</td>\n      <td>1</td>\n      <td>0</td>\n      <td>1</td>\n      <td>1</td>\n      <td>0</td>\n      <td>0</td>\n      <td>46.8</td>\n      <td>0.0</td>\n    </tr>\n    <tr>\n      <th>3</th>\n      <td>2017</td>\n      <td>8</td>\n      <td>16</td>\n      <td>0</td>\n      <td>0</td>\n      <td>0</td>\n      <td>0</td>\n      <td>0</td>\n      <td>0</td>\n      <td>0</td>\n      <td>...</td>\n      <td>0</td>\n      <td>1</td>\n      <td>1</td>\n      <td>0</td>\n      <td>1</td>\n      <td>1</td>\n      <td>0</td>\n      <td>0</td>\n      <td>46.8</td>\n      <td>0.0</td>\n    </tr>\n    <tr>\n      <th>4</th>\n      <td>2017</td>\n      <td>8</td>\n      <td>16</td>\n      <td>0</td>\n      <td>0</td>\n      <td>0</td>\n      <td>0</td>\n      <td>0</td>\n      <td>0</td>\n      <td>0</td>\n      <td>...</td>\n      <td>0</td>\n      <td>1</td>\n      <td>1</td>\n      <td>0</td>\n      <td>1</td>\n      <td>1</td>\n      <td>0</td>\n      <td>0</td>\n      <td>46.8</td>\n      <td>0.0</td>\n    </tr>\n  </tbody>\n</table>\n<p>5 rows × 35 columns</p>\n</div>"
     },
     "execution_count": 45,
     "metadata": {},
     "output_type": "execute_result"
    }
   ],
   "source": [
    "X_test.head()"
   ],
   "metadata": {
    "collapsed": false,
    "ExecuteTime": {
     "end_time": "2023-08-25T01:04:31.416789Z",
     "start_time": "2023-08-25T01:04:31.407191Z"
    }
   },
   "id": "9e9a7f47aedd5269"
  },
  {
   "cell_type": "code",
   "execution_count": 46,
   "outputs": [
    {
     "name": "stdout",
     "output_type": "stream",
     "text": [
      "Number of rows in X_train :  1048575\n",
      "Number of rows in y_train :  1048575\n",
      "Number of rows in X_test  :  28512\n"
     ]
    }
   ],
   "source": [
    "print(\"Number of rows in X_train : \",len(X_train))\n",
    "print(\"Number of rows in y_train : \",len(y_train))\n",
    "print(\"Number of rows in X_test  : \",len(X_test))"
   ],
   "metadata": {
    "collapsed": false,
    "ExecuteTime": {
     "end_time": "2023-08-25T01:04:31.800418Z",
     "start_time": "2023-08-25T01:04:31.789304Z"
    }
   },
   "id": "976f613d5d9c53d4"
  },
  {
   "cell_type": "code",
   "execution_count": 47,
   "outputs": [
    {
     "data": {
      "text/plain": "date_year        int64\ndate_month       int64\ndate_day         int64\nstore_nbr_0      int64\nstore_nbr_1      int64\nstore_nbr_2      int64\nstore_nbr_3      int64\nstore_nbr_4      int64\nstore_nbr_5      int64\nfamily_0         int64\nfamily_1         int64\nfamily_2         int64\nfamily_3         int64\nfamily_4         int64\nfamily_5         int64\nonpromotion      int64\ncity_0           int64\ncity_1           int64\ncity_2           int64\ncity_3           int64\ncity_4           int64\nstate_0          int64\nstate_1          int64\nstate_2          int64\nstate_3          int64\ntype_0           int64\ntype_1           int64\ntype_2           int64\ncluster_0        int64\ncluster_1        int64\ncluster_2        int64\ncluster_3        int64\ncluster_4        int64\ndcoilwtico     float64\nholiday?       float64\ndtype: object"
     },
     "execution_count": 47,
     "metadata": {},
     "output_type": "execute_result"
    }
   ],
   "source": [
    "X_train.dtypes"
   ],
   "metadata": {
    "collapsed": false,
    "ExecuteTime": {
     "end_time": "2023-08-25T01:04:32.141359Z",
     "start_time": "2023-08-25T01:04:32.131918Z"
    }
   },
   "id": "9c588384e9b1bae3"
  },
  {
   "cell_type": "code",
   "execution_count": 48,
   "outputs": [
    {
     "data": {
      "text/plain": "date_year        int64\ndate_month       int64\ndate_day         int64\nstore_nbr_0      int64\nstore_nbr_1      int64\nstore_nbr_2      int64\nstore_nbr_3      int64\nstore_nbr_4      int64\nstore_nbr_5      int64\nfamily_0         int64\nfamily_1         int64\nfamily_2         int64\nfamily_3         int64\nfamily_4         int64\nfamily_5         int64\nonpromotion      int64\ncity_0           int64\ncity_1           int64\ncity_2           int64\ncity_3           int64\ncity_4           int64\nstate_0          int64\nstate_1          int64\nstate_2          int64\nstate_3          int64\ntype_0           int64\ntype_1           int64\ntype_2           int64\ncluster_0        int64\ncluster_1        int64\ncluster_2        int64\ncluster_3        int64\ncluster_4        int64\ndcoilwtico     float64\nholiday?       float64\ndtype: object"
     },
     "execution_count": 48,
     "metadata": {},
     "output_type": "execute_result"
    }
   ],
   "source": [
    "X_test.dtypes"
   ],
   "metadata": {
    "collapsed": false,
    "ExecuteTime": {
     "end_time": "2023-08-25T01:04:32.499890Z",
     "start_time": "2023-08-25T01:04:32.491730Z"
    }
   },
   "id": "f0ed1ad7cac86b66"
  },
  {
   "cell_type": "code",
   "execution_count": 49,
   "outputs": [
    {
     "data": {
      "text/plain": "sales    float64\ndtype: object"
     },
     "execution_count": 49,
     "metadata": {},
     "output_type": "execute_result"
    }
   ],
   "source": [
    "y_train.dtypes"
   ],
   "metadata": {
    "collapsed": false,
    "ExecuteTime": {
     "end_time": "2023-08-25T01:04:32.912126Z",
     "start_time": "2023-08-25T01:04:32.903743Z"
    }
   },
   "id": "17365f40d8f287c5"
  },
  {
   "cell_type": "code",
   "execution_count": 50,
   "outputs": [
    {
     "name": "stderr",
     "output_type": "stream",
     "text": [
      "/Users/amith/anaconda3/lib/python3.11/site-packages/sklearn/utils/validation.py:1184: DataConversionWarning: A column-vector y was passed when a 1d array was expected. Please change the shape of y to (n_samples, ), for example using ravel().\n",
      "  y = column_or_1d(y, warn=True)\n"
     ]
    },
    {
     "ename": "ValueError",
     "evalue": "Unknown label type: (array([0.0000e+00, 1.2200e-01, 1.4600e-01, ..., 2.2534e+04, 2.6067e+04,\n       4.6271e+04]),)",
     "output_type": "error",
     "traceback": [
      "\u001B[0;31m---------------------------------------------------------------------------\u001B[0m",
      "\u001B[0;31mValueError\u001B[0m                                Traceback (most recent call last)",
      "Cell \u001B[0;32mIn[50], line 2\u001B[0m\n\u001B[1;32m      1\u001B[0m sgd \u001B[38;5;241m=\u001B[39m SGDClassifier()\n\u001B[0;32m----> 2\u001B[0m model \u001B[38;5;241m=\u001B[39m sgd\u001B[38;5;241m.\u001B[39mfit(X_train,y_train)\n\u001B[1;32m      3\u001B[0m y_pred \u001B[38;5;241m=\u001B[39m model\u001B[38;5;241m.\u001B[39mpredict(X_test)\n",
      "File \u001B[0;32m~/anaconda3/lib/python3.11/site-packages/sklearn/base.py:1151\u001B[0m, in \u001B[0;36m_fit_context.<locals>.decorator.<locals>.wrapper\u001B[0;34m(estimator, *args, **kwargs)\u001B[0m\n\u001B[1;32m   1144\u001B[0m     estimator\u001B[38;5;241m.\u001B[39m_validate_params()\n\u001B[1;32m   1146\u001B[0m \u001B[38;5;28;01mwith\u001B[39;00m config_context(\n\u001B[1;32m   1147\u001B[0m     skip_parameter_validation\u001B[38;5;241m=\u001B[39m(\n\u001B[1;32m   1148\u001B[0m         prefer_skip_nested_validation \u001B[38;5;129;01mor\u001B[39;00m global_skip_validation\n\u001B[1;32m   1149\u001B[0m     )\n\u001B[1;32m   1150\u001B[0m ):\n\u001B[0;32m-> 1151\u001B[0m     \u001B[38;5;28;01mreturn\u001B[39;00m fit_method(estimator, \u001B[38;5;241m*\u001B[39margs, \u001B[38;5;241m*\u001B[39m\u001B[38;5;241m*\u001B[39mkwargs)\n",
      "File \u001B[0;32m~/anaconda3/lib/python3.11/site-packages/sklearn/linear_model/_stochastic_gradient.py:907\u001B[0m, in \u001B[0;36mBaseSGDClassifier.fit\u001B[0;34m(self, X, y, coef_init, intercept_init, sample_weight)\u001B[0m\n\u001B[1;32m    878\u001B[0m \u001B[38;5;250m\u001B[39m\u001B[38;5;124;03m\"\"\"Fit linear model with Stochastic Gradient Descent.\u001B[39;00m\n\u001B[1;32m    879\u001B[0m \n\u001B[1;32m    880\u001B[0m \u001B[38;5;124;03mParameters\u001B[39;00m\n\u001B[0;32m   (...)\u001B[0m\n\u001B[1;32m    903\u001B[0m \u001B[38;5;124;03m    Returns an instance of self.\u001B[39;00m\n\u001B[1;32m    904\u001B[0m \u001B[38;5;124;03m\"\"\"\u001B[39;00m\n\u001B[1;32m    905\u001B[0m \u001B[38;5;28mself\u001B[39m\u001B[38;5;241m.\u001B[39m_more_validate_params()\n\u001B[0;32m--> 907\u001B[0m \u001B[38;5;28;01mreturn\u001B[39;00m \u001B[38;5;28mself\u001B[39m\u001B[38;5;241m.\u001B[39m_fit(\n\u001B[1;32m    908\u001B[0m     X,\n\u001B[1;32m    909\u001B[0m     y,\n\u001B[1;32m    910\u001B[0m     alpha\u001B[38;5;241m=\u001B[39m\u001B[38;5;28mself\u001B[39m\u001B[38;5;241m.\u001B[39malpha,\n\u001B[1;32m    911\u001B[0m     C\u001B[38;5;241m=\u001B[39m\u001B[38;5;241m1.0\u001B[39m,\n\u001B[1;32m    912\u001B[0m     loss\u001B[38;5;241m=\u001B[39m\u001B[38;5;28mself\u001B[39m\u001B[38;5;241m.\u001B[39mloss,\n\u001B[1;32m    913\u001B[0m     learning_rate\u001B[38;5;241m=\u001B[39m\u001B[38;5;28mself\u001B[39m\u001B[38;5;241m.\u001B[39mlearning_rate,\n\u001B[1;32m    914\u001B[0m     coef_init\u001B[38;5;241m=\u001B[39mcoef_init,\n\u001B[1;32m    915\u001B[0m     intercept_init\u001B[38;5;241m=\u001B[39mintercept_init,\n\u001B[1;32m    916\u001B[0m     sample_weight\u001B[38;5;241m=\u001B[39msample_weight,\n\u001B[1;32m    917\u001B[0m )\n",
      "File \u001B[0;32m~/anaconda3/lib/python3.11/site-packages/sklearn/linear_model/_stochastic_gradient.py:694\u001B[0m, in \u001B[0;36mBaseSGDClassifier._fit\u001B[0;34m(self, X, y, alpha, C, loss, learning_rate, coef_init, intercept_init, sample_weight)\u001B[0m\n\u001B[1;32m    691\u001B[0m \u001B[38;5;66;03m# Clear iteration count for multiple call to fit.\u001B[39;00m\n\u001B[1;32m    692\u001B[0m \u001B[38;5;28mself\u001B[39m\u001B[38;5;241m.\u001B[39mt_ \u001B[38;5;241m=\u001B[39m \u001B[38;5;241m1.0\u001B[39m\n\u001B[0;32m--> 694\u001B[0m \u001B[38;5;28mself\u001B[39m\u001B[38;5;241m.\u001B[39m_partial_fit(\n\u001B[1;32m    695\u001B[0m     X,\n\u001B[1;32m    696\u001B[0m     y,\n\u001B[1;32m    697\u001B[0m     alpha,\n\u001B[1;32m    698\u001B[0m     C,\n\u001B[1;32m    699\u001B[0m     loss,\n\u001B[1;32m    700\u001B[0m     learning_rate,\n\u001B[1;32m    701\u001B[0m     \u001B[38;5;28mself\u001B[39m\u001B[38;5;241m.\u001B[39mmax_iter,\n\u001B[1;32m    702\u001B[0m     classes,\n\u001B[1;32m    703\u001B[0m     sample_weight,\n\u001B[1;32m    704\u001B[0m     coef_init,\n\u001B[1;32m    705\u001B[0m     intercept_init,\n\u001B[1;32m    706\u001B[0m )\n\u001B[1;32m    708\u001B[0m \u001B[38;5;28;01mif\u001B[39;00m (\n\u001B[1;32m    709\u001B[0m     \u001B[38;5;28mself\u001B[39m\u001B[38;5;241m.\u001B[39mtol \u001B[38;5;129;01mis\u001B[39;00m \u001B[38;5;129;01mnot\u001B[39;00m \u001B[38;5;28;01mNone\u001B[39;00m\n\u001B[1;32m    710\u001B[0m     \u001B[38;5;129;01mand\u001B[39;00m \u001B[38;5;28mself\u001B[39m\u001B[38;5;241m.\u001B[39mtol \u001B[38;5;241m>\u001B[39m \u001B[38;5;241m-\u001B[39mnp\u001B[38;5;241m.\u001B[39minf\n\u001B[1;32m    711\u001B[0m     \u001B[38;5;129;01mand\u001B[39;00m \u001B[38;5;28mself\u001B[39m\u001B[38;5;241m.\u001B[39mn_iter_ \u001B[38;5;241m==\u001B[39m \u001B[38;5;28mself\u001B[39m\u001B[38;5;241m.\u001B[39mmax_iter\n\u001B[1;32m    712\u001B[0m ):\n\u001B[1;32m    713\u001B[0m     warnings\u001B[38;5;241m.\u001B[39mwarn(\n\u001B[1;32m    714\u001B[0m         (\n\u001B[1;32m    715\u001B[0m             \u001B[38;5;124m\"\u001B[39m\u001B[38;5;124mMaximum number of iteration reached before \u001B[39m\u001B[38;5;124m\"\u001B[39m\n\u001B[0;32m   (...)\u001B[0m\n\u001B[1;32m    719\u001B[0m         ConvergenceWarning,\n\u001B[1;32m    720\u001B[0m     )\n",
      "File \u001B[0;32m~/anaconda3/lib/python3.11/site-packages/sklearn/linear_model/_stochastic_gradient.py:598\u001B[0m, in \u001B[0;36mBaseSGDClassifier._partial_fit\u001B[0;34m(self, X, y, alpha, C, loss, learning_rate, max_iter, classes, sample_weight, coef_init, intercept_init)\u001B[0m\n\u001B[1;32m    586\u001B[0m X, y \u001B[38;5;241m=\u001B[39m \u001B[38;5;28mself\u001B[39m\u001B[38;5;241m.\u001B[39m_validate_data(\n\u001B[1;32m    587\u001B[0m     X,\n\u001B[1;32m    588\u001B[0m     y,\n\u001B[0;32m   (...)\u001B[0m\n\u001B[1;32m    593\u001B[0m     reset\u001B[38;5;241m=\u001B[39mfirst_call,\n\u001B[1;32m    594\u001B[0m )\n\u001B[1;32m    596\u001B[0m n_samples, n_features \u001B[38;5;241m=\u001B[39m X\u001B[38;5;241m.\u001B[39mshape\n\u001B[0;32m--> 598\u001B[0m _check_partial_fit_first_call(\u001B[38;5;28mself\u001B[39m, classes)\n\u001B[1;32m    600\u001B[0m n_classes \u001B[38;5;241m=\u001B[39m \u001B[38;5;28mself\u001B[39m\u001B[38;5;241m.\u001B[39mclasses_\u001B[38;5;241m.\u001B[39mshape[\u001B[38;5;241m0\u001B[39m]\n\u001B[1;32m    602\u001B[0m \u001B[38;5;66;03m# Allocate datastructures from input arguments\u001B[39;00m\n",
      "File \u001B[0;32m~/anaconda3/lib/python3.11/site-packages/sklearn/utils/multiclass.py:421\u001B[0m, in \u001B[0;36m_check_partial_fit_first_call\u001B[0;34m(clf, classes)\u001B[0m\n\u001B[1;32m    414\u001B[0m             \u001B[38;5;28;01mraise\u001B[39;00m \u001B[38;5;167;01mValueError\u001B[39;00m(\n\u001B[1;32m    415\u001B[0m                 \u001B[38;5;124m\"\u001B[39m\u001B[38;5;124m`classes=\u001B[39m\u001B[38;5;132;01m%r\u001B[39;00m\u001B[38;5;124m` is not the same as on last call \u001B[39m\u001B[38;5;124m\"\u001B[39m\n\u001B[1;32m    416\u001B[0m                 \u001B[38;5;124m\"\u001B[39m\u001B[38;5;124mto partial_fit, was: \u001B[39m\u001B[38;5;132;01m%r\u001B[39;00m\u001B[38;5;124m\"\u001B[39m \u001B[38;5;241m%\u001B[39m (classes, clf\u001B[38;5;241m.\u001B[39mclasses_)\n\u001B[1;32m    417\u001B[0m             )\n\u001B[1;32m    419\u001B[0m     \u001B[38;5;28;01melse\u001B[39;00m:\n\u001B[1;32m    420\u001B[0m         \u001B[38;5;66;03m# This is the first call to partial_fit\u001B[39;00m\n\u001B[0;32m--> 421\u001B[0m         clf\u001B[38;5;241m.\u001B[39mclasses_ \u001B[38;5;241m=\u001B[39m unique_labels(classes)\n\u001B[1;32m    422\u001B[0m         \u001B[38;5;28;01mreturn\u001B[39;00m \u001B[38;5;28;01mTrue\u001B[39;00m\n\u001B[1;32m    424\u001B[0m \u001B[38;5;66;03m# classes is None and clf.classes_ has already previously been set:\u001B[39;00m\n\u001B[1;32m    425\u001B[0m \u001B[38;5;66;03m# nothing to do\u001B[39;00m\n",
      "File \u001B[0;32m~/anaconda3/lib/python3.11/site-packages/sklearn/utils/multiclass.py:104\u001B[0m, in \u001B[0;36munique_labels\u001B[0;34m(*ys)\u001B[0m\n\u001B[1;32m    102\u001B[0m _unique_labels \u001B[38;5;241m=\u001B[39m _FN_UNIQUE_LABELS\u001B[38;5;241m.\u001B[39mget(label_type, \u001B[38;5;28;01mNone\u001B[39;00m)\n\u001B[1;32m    103\u001B[0m \u001B[38;5;28;01mif\u001B[39;00m \u001B[38;5;129;01mnot\u001B[39;00m _unique_labels:\n\u001B[0;32m--> 104\u001B[0m     \u001B[38;5;28;01mraise\u001B[39;00m \u001B[38;5;167;01mValueError\u001B[39;00m(\u001B[38;5;124m\"\u001B[39m\u001B[38;5;124mUnknown label type: \u001B[39m\u001B[38;5;132;01m%s\u001B[39;00m\u001B[38;5;124m\"\u001B[39m \u001B[38;5;241m%\u001B[39m \u001B[38;5;28mrepr\u001B[39m(ys))\n\u001B[1;32m    106\u001B[0m \u001B[38;5;28;01mif\u001B[39;00m is_array_api_compliant:\n\u001B[1;32m    107\u001B[0m     \u001B[38;5;66;03m# array_api does not allow for mixed dtypes\u001B[39;00m\n\u001B[1;32m    108\u001B[0m     unique_ys \u001B[38;5;241m=\u001B[39m xp\u001B[38;5;241m.\u001B[39mconcat([_unique_labels(y) \u001B[38;5;28;01mfor\u001B[39;00m y \u001B[38;5;129;01min\u001B[39;00m ys])\n",
      "\u001B[0;31mValueError\u001B[0m: Unknown label type: (array([0.0000e+00, 1.2200e-01, 1.4600e-01, ..., 2.2534e+04, 2.6067e+04,\n       4.6271e+04]),)"
     ]
    }
   ],
   "source": [
    "sgd = SGDClassifier()\n",
    "model = sgd.fit(X_train,y_train)\n",
    "y_pred = model.predict(X_test)"
   ],
   "metadata": {
    "collapsed": false,
    "ExecuteTime": {
     "end_time": "2023-08-25T01:04:35.068137Z",
     "start_time": "2023-08-25T01:04:34.698079Z"
    }
   },
   "id": "b288829658c20de"
  },
  {
   "cell_type": "code",
   "execution_count": 53,
   "outputs": [
    {
     "data": {
      "text/plain": "array([[ 0.   ],\n       [ 0.   ],\n       [ 0.   ],\n       ...,\n       [10.   ],\n       [ 0.   ],\n       [69.116]])"
     },
     "execution_count": 53,
     "metadata": {},
     "output_type": "execute_result"
    }
   ],
   "source": [
    "y_train_1 = y_train.to_numpy()\n",
    "y_train_1"
   ],
   "metadata": {
    "collapsed": false,
    "ExecuteTime": {
     "end_time": "2023-08-25T01:05:06.545330Z",
     "start_time": "2023-08-25T01:05:06.535708Z"
    }
   },
   "id": "cb4b3dbe693737dd"
  },
  {
   "cell_type": "code",
   "execution_count": 54,
   "outputs": [
    {
     "name": "stderr",
     "output_type": "stream",
     "text": [
      "/Users/amith/anaconda3/lib/python3.11/site-packages/sklearn/utils/validation.py:1184: DataConversionWarning: A column-vector y was passed when a 1d array was expected. Please change the shape of y to (n_samples, ), for example using ravel().\n",
      "  y = column_or_1d(y, warn=True)\n"
     ]
    },
    {
     "ename": "ValueError",
     "evalue": "Unknown label type: (array([0.0000e+00, 1.2200e-01, 1.4600e-01, ..., 2.2534e+04, 2.6067e+04,\n       4.6271e+04]),)",
     "output_type": "error",
     "traceback": [
      "\u001B[0;31m---------------------------------------------------------------------------\u001B[0m",
      "\u001B[0;31mValueError\u001B[0m                                Traceback (most recent call last)",
      "Cell \u001B[0;32mIn[54], line 2\u001B[0m\n\u001B[1;32m      1\u001B[0m sgd \u001B[38;5;241m=\u001B[39m SGDClassifier()\n\u001B[0;32m----> 2\u001B[0m model \u001B[38;5;241m=\u001B[39m sgd\u001B[38;5;241m.\u001B[39mfit(X_train, y_train_1)\n\u001B[1;32m      3\u001B[0m y_pred \u001B[38;5;241m=\u001B[39m model\u001B[38;5;241m.\u001B[39mpredict(X_test)\n",
      "File \u001B[0;32m~/anaconda3/lib/python3.11/site-packages/sklearn/base.py:1151\u001B[0m, in \u001B[0;36m_fit_context.<locals>.decorator.<locals>.wrapper\u001B[0;34m(estimator, *args, **kwargs)\u001B[0m\n\u001B[1;32m   1144\u001B[0m     estimator\u001B[38;5;241m.\u001B[39m_validate_params()\n\u001B[1;32m   1146\u001B[0m \u001B[38;5;28;01mwith\u001B[39;00m config_context(\n\u001B[1;32m   1147\u001B[0m     skip_parameter_validation\u001B[38;5;241m=\u001B[39m(\n\u001B[1;32m   1148\u001B[0m         prefer_skip_nested_validation \u001B[38;5;129;01mor\u001B[39;00m global_skip_validation\n\u001B[1;32m   1149\u001B[0m     )\n\u001B[1;32m   1150\u001B[0m ):\n\u001B[0;32m-> 1151\u001B[0m     \u001B[38;5;28;01mreturn\u001B[39;00m fit_method(estimator, \u001B[38;5;241m*\u001B[39margs, \u001B[38;5;241m*\u001B[39m\u001B[38;5;241m*\u001B[39mkwargs)\n",
      "File \u001B[0;32m~/anaconda3/lib/python3.11/site-packages/sklearn/linear_model/_stochastic_gradient.py:907\u001B[0m, in \u001B[0;36mBaseSGDClassifier.fit\u001B[0;34m(self, X, y, coef_init, intercept_init, sample_weight)\u001B[0m\n\u001B[1;32m    878\u001B[0m \u001B[38;5;250m\u001B[39m\u001B[38;5;124;03m\"\"\"Fit linear model with Stochastic Gradient Descent.\u001B[39;00m\n\u001B[1;32m    879\u001B[0m \n\u001B[1;32m    880\u001B[0m \u001B[38;5;124;03mParameters\u001B[39;00m\n\u001B[0;32m   (...)\u001B[0m\n\u001B[1;32m    903\u001B[0m \u001B[38;5;124;03m    Returns an instance of self.\u001B[39;00m\n\u001B[1;32m    904\u001B[0m \u001B[38;5;124;03m\"\"\"\u001B[39;00m\n\u001B[1;32m    905\u001B[0m \u001B[38;5;28mself\u001B[39m\u001B[38;5;241m.\u001B[39m_more_validate_params()\n\u001B[0;32m--> 907\u001B[0m \u001B[38;5;28;01mreturn\u001B[39;00m \u001B[38;5;28mself\u001B[39m\u001B[38;5;241m.\u001B[39m_fit(\n\u001B[1;32m    908\u001B[0m     X,\n\u001B[1;32m    909\u001B[0m     y,\n\u001B[1;32m    910\u001B[0m     alpha\u001B[38;5;241m=\u001B[39m\u001B[38;5;28mself\u001B[39m\u001B[38;5;241m.\u001B[39malpha,\n\u001B[1;32m    911\u001B[0m     C\u001B[38;5;241m=\u001B[39m\u001B[38;5;241m1.0\u001B[39m,\n\u001B[1;32m    912\u001B[0m     loss\u001B[38;5;241m=\u001B[39m\u001B[38;5;28mself\u001B[39m\u001B[38;5;241m.\u001B[39mloss,\n\u001B[1;32m    913\u001B[0m     learning_rate\u001B[38;5;241m=\u001B[39m\u001B[38;5;28mself\u001B[39m\u001B[38;5;241m.\u001B[39mlearning_rate,\n\u001B[1;32m    914\u001B[0m     coef_init\u001B[38;5;241m=\u001B[39mcoef_init,\n\u001B[1;32m    915\u001B[0m     intercept_init\u001B[38;5;241m=\u001B[39mintercept_init,\n\u001B[1;32m    916\u001B[0m     sample_weight\u001B[38;5;241m=\u001B[39msample_weight,\n\u001B[1;32m    917\u001B[0m )\n",
      "File \u001B[0;32m~/anaconda3/lib/python3.11/site-packages/sklearn/linear_model/_stochastic_gradient.py:694\u001B[0m, in \u001B[0;36mBaseSGDClassifier._fit\u001B[0;34m(self, X, y, alpha, C, loss, learning_rate, coef_init, intercept_init, sample_weight)\u001B[0m\n\u001B[1;32m    691\u001B[0m \u001B[38;5;66;03m# Clear iteration count for multiple call to fit.\u001B[39;00m\n\u001B[1;32m    692\u001B[0m \u001B[38;5;28mself\u001B[39m\u001B[38;5;241m.\u001B[39mt_ \u001B[38;5;241m=\u001B[39m \u001B[38;5;241m1.0\u001B[39m\n\u001B[0;32m--> 694\u001B[0m \u001B[38;5;28mself\u001B[39m\u001B[38;5;241m.\u001B[39m_partial_fit(\n\u001B[1;32m    695\u001B[0m     X,\n\u001B[1;32m    696\u001B[0m     y,\n\u001B[1;32m    697\u001B[0m     alpha,\n\u001B[1;32m    698\u001B[0m     C,\n\u001B[1;32m    699\u001B[0m     loss,\n\u001B[1;32m    700\u001B[0m     learning_rate,\n\u001B[1;32m    701\u001B[0m     \u001B[38;5;28mself\u001B[39m\u001B[38;5;241m.\u001B[39mmax_iter,\n\u001B[1;32m    702\u001B[0m     classes,\n\u001B[1;32m    703\u001B[0m     sample_weight,\n\u001B[1;32m    704\u001B[0m     coef_init,\n\u001B[1;32m    705\u001B[0m     intercept_init,\n\u001B[1;32m    706\u001B[0m )\n\u001B[1;32m    708\u001B[0m \u001B[38;5;28;01mif\u001B[39;00m (\n\u001B[1;32m    709\u001B[0m     \u001B[38;5;28mself\u001B[39m\u001B[38;5;241m.\u001B[39mtol \u001B[38;5;129;01mis\u001B[39;00m \u001B[38;5;129;01mnot\u001B[39;00m \u001B[38;5;28;01mNone\u001B[39;00m\n\u001B[1;32m    710\u001B[0m     \u001B[38;5;129;01mand\u001B[39;00m \u001B[38;5;28mself\u001B[39m\u001B[38;5;241m.\u001B[39mtol \u001B[38;5;241m>\u001B[39m \u001B[38;5;241m-\u001B[39mnp\u001B[38;5;241m.\u001B[39minf\n\u001B[1;32m    711\u001B[0m     \u001B[38;5;129;01mand\u001B[39;00m \u001B[38;5;28mself\u001B[39m\u001B[38;5;241m.\u001B[39mn_iter_ \u001B[38;5;241m==\u001B[39m \u001B[38;5;28mself\u001B[39m\u001B[38;5;241m.\u001B[39mmax_iter\n\u001B[1;32m    712\u001B[0m ):\n\u001B[1;32m    713\u001B[0m     warnings\u001B[38;5;241m.\u001B[39mwarn(\n\u001B[1;32m    714\u001B[0m         (\n\u001B[1;32m    715\u001B[0m             \u001B[38;5;124m\"\u001B[39m\u001B[38;5;124mMaximum number of iteration reached before \u001B[39m\u001B[38;5;124m\"\u001B[39m\n\u001B[0;32m   (...)\u001B[0m\n\u001B[1;32m    719\u001B[0m         ConvergenceWarning,\n\u001B[1;32m    720\u001B[0m     )\n",
      "File \u001B[0;32m~/anaconda3/lib/python3.11/site-packages/sklearn/linear_model/_stochastic_gradient.py:598\u001B[0m, in \u001B[0;36mBaseSGDClassifier._partial_fit\u001B[0;34m(self, X, y, alpha, C, loss, learning_rate, max_iter, classes, sample_weight, coef_init, intercept_init)\u001B[0m\n\u001B[1;32m    586\u001B[0m X, y \u001B[38;5;241m=\u001B[39m \u001B[38;5;28mself\u001B[39m\u001B[38;5;241m.\u001B[39m_validate_data(\n\u001B[1;32m    587\u001B[0m     X,\n\u001B[1;32m    588\u001B[0m     y,\n\u001B[0;32m   (...)\u001B[0m\n\u001B[1;32m    593\u001B[0m     reset\u001B[38;5;241m=\u001B[39mfirst_call,\n\u001B[1;32m    594\u001B[0m )\n\u001B[1;32m    596\u001B[0m n_samples, n_features \u001B[38;5;241m=\u001B[39m X\u001B[38;5;241m.\u001B[39mshape\n\u001B[0;32m--> 598\u001B[0m _check_partial_fit_first_call(\u001B[38;5;28mself\u001B[39m, classes)\n\u001B[1;32m    600\u001B[0m n_classes \u001B[38;5;241m=\u001B[39m \u001B[38;5;28mself\u001B[39m\u001B[38;5;241m.\u001B[39mclasses_\u001B[38;5;241m.\u001B[39mshape[\u001B[38;5;241m0\u001B[39m]\n\u001B[1;32m    602\u001B[0m \u001B[38;5;66;03m# Allocate datastructures from input arguments\u001B[39;00m\n",
      "File \u001B[0;32m~/anaconda3/lib/python3.11/site-packages/sklearn/utils/multiclass.py:421\u001B[0m, in \u001B[0;36m_check_partial_fit_first_call\u001B[0;34m(clf, classes)\u001B[0m\n\u001B[1;32m    414\u001B[0m             \u001B[38;5;28;01mraise\u001B[39;00m \u001B[38;5;167;01mValueError\u001B[39;00m(\n\u001B[1;32m    415\u001B[0m                 \u001B[38;5;124m\"\u001B[39m\u001B[38;5;124m`classes=\u001B[39m\u001B[38;5;132;01m%r\u001B[39;00m\u001B[38;5;124m` is not the same as on last call \u001B[39m\u001B[38;5;124m\"\u001B[39m\n\u001B[1;32m    416\u001B[0m                 \u001B[38;5;124m\"\u001B[39m\u001B[38;5;124mto partial_fit, was: \u001B[39m\u001B[38;5;132;01m%r\u001B[39;00m\u001B[38;5;124m\"\u001B[39m \u001B[38;5;241m%\u001B[39m (classes, clf\u001B[38;5;241m.\u001B[39mclasses_)\n\u001B[1;32m    417\u001B[0m             )\n\u001B[1;32m    419\u001B[0m     \u001B[38;5;28;01melse\u001B[39;00m:\n\u001B[1;32m    420\u001B[0m         \u001B[38;5;66;03m# This is the first call to partial_fit\u001B[39;00m\n\u001B[0;32m--> 421\u001B[0m         clf\u001B[38;5;241m.\u001B[39mclasses_ \u001B[38;5;241m=\u001B[39m unique_labels(classes)\n\u001B[1;32m    422\u001B[0m         \u001B[38;5;28;01mreturn\u001B[39;00m \u001B[38;5;28;01mTrue\u001B[39;00m\n\u001B[1;32m    424\u001B[0m \u001B[38;5;66;03m# classes is None and clf.classes_ has already previously been set:\u001B[39;00m\n\u001B[1;32m    425\u001B[0m \u001B[38;5;66;03m# nothing to do\u001B[39;00m\n",
      "File \u001B[0;32m~/anaconda3/lib/python3.11/site-packages/sklearn/utils/multiclass.py:104\u001B[0m, in \u001B[0;36munique_labels\u001B[0;34m(*ys)\u001B[0m\n\u001B[1;32m    102\u001B[0m _unique_labels \u001B[38;5;241m=\u001B[39m _FN_UNIQUE_LABELS\u001B[38;5;241m.\u001B[39mget(label_type, \u001B[38;5;28;01mNone\u001B[39;00m)\n\u001B[1;32m    103\u001B[0m \u001B[38;5;28;01mif\u001B[39;00m \u001B[38;5;129;01mnot\u001B[39;00m _unique_labels:\n\u001B[0;32m--> 104\u001B[0m     \u001B[38;5;28;01mraise\u001B[39;00m \u001B[38;5;167;01mValueError\u001B[39;00m(\u001B[38;5;124m\"\u001B[39m\u001B[38;5;124mUnknown label type: \u001B[39m\u001B[38;5;132;01m%s\u001B[39;00m\u001B[38;5;124m\"\u001B[39m \u001B[38;5;241m%\u001B[39m \u001B[38;5;28mrepr\u001B[39m(ys))\n\u001B[1;32m    106\u001B[0m \u001B[38;5;28;01mif\u001B[39;00m is_array_api_compliant:\n\u001B[1;32m    107\u001B[0m     \u001B[38;5;66;03m# array_api does not allow for mixed dtypes\u001B[39;00m\n\u001B[1;32m    108\u001B[0m     unique_ys \u001B[38;5;241m=\u001B[39m xp\u001B[38;5;241m.\u001B[39mconcat([_unique_labels(y) \u001B[38;5;28;01mfor\u001B[39;00m y \u001B[38;5;129;01min\u001B[39;00m ys])\n",
      "\u001B[0;31mValueError\u001B[0m: Unknown label type: (array([0.0000e+00, 1.2200e-01, 1.4600e-01, ..., 2.2534e+04, 2.6067e+04,\n       4.6271e+04]),)"
     ]
    }
   ],
   "source": [
    "sgd = SGDClassifier()\n",
    "model = sgd.fit(X_train, y_train_1)\n",
    "y_pred = model.predict(X_test)"
   ],
   "metadata": {
    "collapsed": false,
    "ExecuteTime": {
     "end_time": "2023-08-25T01:05:08.112349Z",
     "start_time": "2023-08-25T01:05:07.782030Z"
    }
   },
   "id": "38ba6a137092a126"
  },
  {
   "cell_type": "code",
   "execution_count": 55,
   "outputs": [
    {
     "data": {
      "text/plain": "[array([0.]),\n array([0.]),\n array([0.]),\n array([0.]),\n array([0.]),\n array([0.]),\n array([0.]),\n array([0.]),\n array([0.]),\n array([0.]),\n array([0.]),\n array([0.]),\n array([0.]),\n array([0.]),\n array([0.]),\n array([0.]),\n array([0.]),\n array([0.]),\n array([0.]),\n array([0.]),\n array([0.]),\n array([0.]),\n array([0.]),\n array([0.]),\n array([0.]),\n array([0.]),\n array([0.]),\n array([0.]),\n array([0.]),\n array([0.]),\n array([0.]),\n array([0.]),\n array([0.]),\n array([0.]),\n array([0.]),\n array([0.]),\n array([0.]),\n array([0.]),\n array([0.]),\n array([0.]),\n array([0.]),\n array([0.]),\n array([0.]),\n array([0.]),\n array([0.]),\n array([0.]),\n array([0.]),\n array([0.]),\n array([0.]),\n array([0.]),\n array([0.]),\n array([0.]),\n array([0.]),\n array([0.]),\n array([0.]),\n array([0.]),\n array([0.]),\n array([0.]),\n array([0.]),\n array([0.]),\n array([0.]),\n array([0.]),\n array([0.]),\n array([0.]),\n array([0.]),\n array([0.]),\n array([0.]),\n array([0.]),\n array([0.]),\n array([0.]),\n array([0.]),\n array([0.]),\n array([0.]),\n array([0.]),\n array([0.]),\n array([0.]),\n array([0.]),\n array([0.]),\n array([0.]),\n array([0.]),\n array([0.]),\n array([0.]),\n array([0.]),\n array([0.]),\n array([0.]),\n array([0.]),\n array([0.]),\n array([0.]),\n array([0.]),\n array([0.]),\n array([0.]),\n array([0.]),\n array([0.]),\n array([0.]),\n array([0.]),\n array([0.]),\n array([0.]),\n array([0.]),\n array([0.]),\n array([0.]),\n array([0.]),\n array([0.]),\n array([0.]),\n array([0.]),\n array([0.]),\n array([0.]),\n array([0.]),\n array([0.]),\n array([0.]),\n array([0.]),\n array([0.]),\n array([0.]),\n array([0.]),\n array([0.]),\n array([0.]),\n array([0.]),\n array([0.]),\n array([0.]),\n array([0.]),\n array([0.]),\n array([0.]),\n array([0.]),\n array([0.]),\n array([0.]),\n array([0.]),\n array([0.]),\n array([0.]),\n array([0.]),\n array([0.]),\n array([0.]),\n array([0.]),\n array([0.]),\n array([0.]),\n array([0.]),\n array([0.]),\n array([0.]),\n array([0.]),\n array([0.]),\n array([0.]),\n array([0.]),\n array([0.]),\n array([0.]),\n array([0.]),\n array([0.]),\n array([0.]),\n array([0.]),\n array([0.]),\n array([0.]),\n array([0.]),\n array([0.]),\n array([0.]),\n array([0.]),\n array([0.]),\n array([0.]),\n array([0.]),\n array([0.]),\n array([0.]),\n array([0.]),\n array([0.]),\n array([0.]),\n array([0.]),\n array([0.]),\n array([0.]),\n array([0.]),\n array([0.]),\n array([0.]),\n array([0.]),\n array([0.]),\n array([0.]),\n array([0.]),\n array([0.]),\n array([0.]),\n array([0.]),\n array([0.]),\n array([0.]),\n array([0.]),\n array([0.]),\n array([0.]),\n array([0.]),\n array([0.]),\n array([0.]),\n array([0.]),\n array([0.]),\n array([0.]),\n array([0.]),\n array([0.]),\n array([0.]),\n array([0.]),\n array([0.]),\n array([0.]),\n array([0.]),\n array([0.]),\n array([0.]),\n array([0.]),\n array([0.]),\n array([0.]),\n array([0.]),\n array([0.]),\n array([0.]),\n array([0.]),\n array([0.]),\n array([0.]),\n array([0.]),\n array([0.]),\n array([0.]),\n array([0.]),\n array([0.]),\n array([0.]),\n array([0.]),\n array([0.]),\n array([0.]),\n array([0.]),\n array([0.]),\n array([0.]),\n array([0.]),\n array([0.]),\n array([0.]),\n array([0.]),\n array([0.]),\n array([0.]),\n array([0.]),\n array([0.]),\n array([0.]),\n array([0.]),\n array([0.]),\n array([0.]),\n array([0.]),\n array([0.]),\n array([0.]),\n array([0.]),\n array([0.]),\n array([0.]),\n array([0.]),\n array([0.]),\n array([0.]),\n array([0.]),\n array([0.]),\n array([0.]),\n array([0.]),\n array([0.]),\n array([0.]),\n array([0.]),\n array([0.]),\n array([0.]),\n array([0.]),\n array([0.]),\n array([0.]),\n array([0.]),\n array([0.]),\n array([0.]),\n array([0.]),\n array([0.]),\n array([0.]),\n array([0.]),\n array([0.]),\n array([0.]),\n array([0.]),\n array([0.]),\n array([0.]),\n array([0.]),\n array([0.]),\n array([0.]),\n array([0.]),\n array([0.]),\n array([0.]),\n array([0.]),\n array([0.]),\n array([0.]),\n array([0.]),\n array([0.]),\n array([0.]),\n array([0.]),\n array([0.]),\n array([0.]),\n array([0.]),\n array([0.]),\n array([0.]),\n array([0.]),\n array([0.]),\n array([0.]),\n array([0.]),\n array([0.]),\n array([0.]),\n array([0.]),\n array([0.]),\n array([0.]),\n array([0.]),\n array([0.]),\n array([0.]),\n array([0.]),\n array([0.]),\n array([0.]),\n array([0.]),\n array([0.]),\n array([0.]),\n array([0.]),\n array([0.]),\n array([0.]),\n array([0.]),\n array([0.]),\n array([0.]),\n array([0.]),\n array([0.]),\n array([0.]),\n array([0.]),\n array([0.]),\n array([0.]),\n array([0.]),\n array([0.]),\n array([0.]),\n array([0.]),\n array([0.]),\n array([0.]),\n array([0.]),\n array([0.]),\n array([0.]),\n array([0.]),\n array([0.]),\n array([0.]),\n array([0.]),\n array([0.]),\n array([0.]),\n array([0.]),\n array([0.]),\n array([0.]),\n array([0.]),\n array([0.]),\n array([0.]),\n array([0.]),\n array([0.]),\n array([0.]),\n array([0.]),\n array([0.]),\n array([0.]),\n array([0.]),\n array([0.]),\n array([0.]),\n array([0.]),\n array([0.]),\n array([0.]),\n array([0.]),\n array([0.]),\n array([0.]),\n array([0.]),\n array([0.]),\n array([0.]),\n array([0.]),\n array([0.]),\n array([0.]),\n array([0.]),\n array([0.]),\n array([0.]),\n array([0.]),\n array([0.]),\n array([0.]),\n array([0.]),\n array([0.]),\n array([0.]),\n array([0.]),\n array([0.]),\n array([0.]),\n array([0.]),\n array([0.]),\n array([0.]),\n array([0.]),\n array([0.]),\n array([0.]),\n array([0.]),\n array([0.]),\n array([0.]),\n array([0.]),\n array([0.]),\n array([0.]),\n array([0.]),\n array([0.]),\n array([0.]),\n array([0.]),\n array([0.]),\n array([0.]),\n array([0.]),\n array([0.]),\n array([0.]),\n array([0.]),\n array([0.]),\n array([0.]),\n array([0.]),\n array([0.]),\n array([0.]),\n array([0.]),\n array([0.]),\n array([0.]),\n array([0.]),\n array([0.]),\n array([0.]),\n array([0.]),\n array([0.]),\n array([0.]),\n array([0.]),\n array([0.]),\n array([0.]),\n array([0.]),\n array([0.]),\n array([0.]),\n array([0.]),\n array([0.]),\n array([0.]),\n array([0.]),\n array([0.]),\n array([0.]),\n array([0.]),\n array([0.]),\n array([0.]),\n array([0.]),\n array([0.]),\n array([0.]),\n array([0.]),\n array([0.]),\n array([0.]),\n array([0.]),\n array([0.]),\n array([0.]),\n array([0.]),\n array([0.]),\n array([0.]),\n array([0.]),\n array([0.]),\n array([0.]),\n array([0.]),\n array([0.]),\n array([0.]),\n array([0.]),\n array([0.]),\n array([0.]),\n array([0.]),\n array([0.]),\n array([0.]),\n array([0.]),\n array([0.]),\n array([0.]),\n array([0.]),\n array([0.]),\n array([0.]),\n array([0.]),\n array([0.]),\n array([0.]),\n array([0.]),\n array([0.]),\n array([0.]),\n array([0.]),\n array([0.]),\n array([0.]),\n array([0.]),\n array([0.]),\n array([0.]),\n array([0.]),\n array([0.]),\n array([0.]),\n array([0.]),\n array([0.]),\n array([0.]),\n array([0.]),\n array([0.]),\n array([0.]),\n array([0.]),\n array([0.]),\n array([0.]),\n array([0.]),\n array([0.]),\n array([0.]),\n array([0.]),\n array([0.]),\n array([0.]),\n array([0.]),\n array([0.]),\n array([0.]),\n array([0.]),\n array([0.]),\n array([0.]),\n array([0.]),\n array([0.]),\n array([0.]),\n array([0.]),\n array([0.]),\n array([0.]),\n array([0.]),\n array([0.]),\n array([0.]),\n array([0.]),\n array([0.]),\n array([0.]),\n array([0.]),\n array([0.]),\n array([0.]),\n array([0.]),\n array([0.]),\n array([0.]),\n array([0.]),\n array([0.]),\n array([0.]),\n array([0.]),\n array([0.]),\n array([0.]),\n array([0.]),\n array([0.]),\n array([0.]),\n array([0.]),\n array([0.]),\n array([0.]),\n array([0.]),\n array([0.]),\n array([0.]),\n array([0.]),\n array([0.]),\n array([0.]),\n array([0.]),\n array([0.]),\n array([0.]),\n array([0.]),\n array([0.]),\n array([0.]),\n array([0.]),\n array([0.]),\n array([0.]),\n array([0.]),\n array([0.]),\n array([0.]),\n array([0.]),\n array([0.]),\n array([0.]),\n array([0.]),\n array([0.]),\n array([0.]),\n array([0.]),\n array([0.]),\n array([0.]),\n array([0.]),\n array([0.]),\n array([0.]),\n array([0.]),\n array([0.]),\n array([0.]),\n array([0.]),\n array([0.]),\n array([0.]),\n array([0.]),\n array([0.]),\n array([0.]),\n array([0.]),\n array([0.]),\n array([0.]),\n array([0.]),\n array([0.]),\n array([0.]),\n array([0.]),\n array([0.]),\n array([0.]),\n array([0.]),\n array([0.]),\n array([0.]),\n array([0.]),\n array([0.]),\n array([0.]),\n array([0.]),\n array([2.]),\n array([810.]),\n array([0.]),\n array([180.589]),\n array([0.]),\n array([186.]),\n array([143.]),\n array([71.09]),\n array([46.]),\n array([29.654999]),\n array([700.]),\n array([15.]),\n array([0.]),\n array([0.]),\n array([0.]),\n array([0.]),\n array([0.]),\n array([0.]),\n array([2.]),\n array([5.]),\n array([105.]),\n array([0.]),\n array([110.801]),\n array([25.]),\n array([0.]),\n array([0.]),\n array([42.637]),\n array([37.847]),\n array([0.]),\n array([0.]),\n array([0.]),\n array([0.]),\n array([0.]),\n array([0.]),\n array([0.]),\n array([0.]),\n array([0.]),\n array([0.]),\n array([0.]),\n array([0.]),\n array([0.]),\n array([0.]),\n array([0.]),\n array([0.]),\n array([0.]),\n array([0.]),\n array([0.]),\n array([0.]),\n array([0.]),\n array([0.]),\n array([0.]),\n array([0.]),\n array([0.]),\n array([0.]),\n array([0.]),\n array([0.]),\n array([0.]),\n array([0.]),\n array([0.]),\n array([0.]),\n array([0.]),\n array([0.]),\n array([0.]),\n array([0.]),\n array([0.]),\n array([0.]),\n array([0.]),\n array([0.]),\n array([0.]),\n array([0.]),\n array([0.]),\n array([0.]),\n array([0.]),\n array([0.]),\n array([0.]),\n array([0.]),\n array([0.]),\n array([0.]),\n array([0.]),\n array([0.]),\n array([0.]),\n array([0.]),\n array([0.]),\n array([0.]),\n array([0.]),\n array([0.]),\n array([0.]),\n array([0.]),\n array([0.]),\n array([0.]),\n array([0.]),\n array([0.]),\n array([0.]),\n array([0.]),\n array([0.]),\n array([0.]),\n array([0.]),\n array([0.]),\n array([0.]),\n array([0.]),\n array([0.]),\n array([0.]),\n array([0.]),\n array([0.]),\n array([0.]),\n array([0.]),\n array([0.]),\n array([0.]),\n array([0.]),\n array([0.]),\n array([0.]),\n array([0.]),\n array([0.]),\n array([0.]),\n array([0.]),\n array([0.]),\n array([0.]),\n array([0.]),\n array([0.]),\n array([0.]),\n array([0.]),\n array([0.]),\n array([0.]),\n array([0.]),\n array([0.]),\n array([0.]),\n array([0.]),\n array([0.]),\n array([0.]),\n array([0.]),\n array([0.]),\n array([0.]),\n array([0.]),\n array([0.]),\n array([0.]),\n array([0.]),\n array([0.]),\n array([0.]),\n array([0.]),\n array([0.]),\n array([0.]),\n array([0.]),\n array([0.]),\n array([0.]),\n array([0.]),\n array([0.]),\n array([0.]),\n array([0.]),\n array([0.]),\n array([0.]),\n array([0.]),\n array([0.]),\n array([0.]),\n array([0.]),\n array([0.]),\n array([0.]),\n array([0.]),\n array([0.]),\n array([0.]),\n array([0.]),\n array([0.]),\n array([0.]),\n array([0.]),\n array([0.]),\n array([0.]),\n array([0.]),\n array([0.]),\n array([0.]),\n array([0.]),\n array([0.]),\n array([0.]),\n array([0.]),\n array([0.]),\n array([0.]),\n array([0.]),\n array([0.]),\n array([0.]),\n array([0.]),\n array([0.]),\n array([0.]),\n array([0.]),\n array([0.]),\n array([0.]),\n array([0.]),\n array([0.]),\n array([0.]),\n array([0.]),\n array([0.]),\n array([0.]),\n array([0.]),\n array([0.]),\n array([0.]),\n array([0.]),\n array([0.]),\n array([0.]),\n array([0.]),\n array([0.]),\n array([0.]),\n array([0.]),\n array([0.]),\n array([0.]),\n array([0.]),\n array([0.]),\n array([0.]),\n array([0.]),\n array([0.]),\n array([0.]),\n array([0.]),\n array([0.]),\n array([0.]),\n array([0.]),\n array([0.]),\n array([0.]),\n array([0.]),\n array([0.]),\n array([0.]),\n array([0.]),\n array([0.]),\n array([0.]),\n array([0.]),\n array([0.]),\n array([0.]),\n array([0.]),\n array([0.]),\n array([0.]),\n array([0.]),\n array([0.]),\n array([0.]),\n array([0.]),\n array([0.]),\n array([0.]),\n array([0.]),\n array([0.]),\n array([0.]),\n array([0.]),\n array([0.]),\n array([0.]),\n array([0.]),\n array([0.]),\n array([0.]),\n array([0.]),\n array([0.]),\n array([0.]),\n array([0.]),\n array([0.]),\n array([0.]),\n array([0.]),\n array([0.]),\n array([0.]),\n array([0.]),\n array([0.]),\n array([0.]),\n array([0.]),\n array([0.]),\n array([0.]),\n array([0.]),\n array([0.]),\n array([0.]),\n array([0.]),\n array([0.]),\n array([0.]),\n array([0.]),\n array([0.]),\n array([0.]),\n array([0.]),\n array([0.]),\n array([0.]),\n array([0.]),\n array([0.]),\n array([0.]),\n array([0.]),\n array([0.]),\n array([0.]),\n array([0.]),\n array([0.]),\n array([0.]),\n array([0.]),\n array([0.]),\n array([0.]),\n array([0.]),\n array([0.]),\n array([0.]),\n array([0.]),\n array([0.]),\n array([0.]),\n array([0.]),\n array([0.]),\n array([0.]),\n array([0.]),\n array([0.]),\n array([0.]),\n array([0.]),\n array([0.]),\n array([0.]),\n array([0.]),\n array([0.]),\n array([0.]),\n array([0.]),\n array([0.]),\n array([0.]),\n array([0.]),\n array([0.]),\n array([0.]),\n array([0.]),\n array([0.]),\n array([0.]),\n array([0.]),\n array([0.]),\n array([0.]),\n array([0.]),\n array([0.]),\n array([0.]),\n array([0.]),\n array([0.]),\n array([0.]),\n array([0.]),\n array([0.]),\n array([0.]),\n array([0.]),\n array([0.]),\n array([0.]),\n array([0.]),\n array([0.]),\n array([0.]),\n array([0.]),\n array([0.]),\n array([0.]),\n array([0.]),\n array([0.]),\n array([0.]),\n array([0.]),\n array([0.]),\n array([0.]),\n array([0.]),\n array([0.]),\n array([0.]),\n array([0.]),\n array([0.]),\n array([0.]),\n array([0.]),\n array([0.]),\n array([0.]),\n array([0.]),\n array([0.]),\n array([0.]),\n array([0.]),\n array([0.]),\n array([0.]),\n array([0.]),\n array([0.]),\n array([0.]),\n array([0.]),\n array([0.]),\n array([0.]),\n array([0.]),\n array([0.]),\n array([0.]),\n array([0.]),\n array([0.]),\n array([0.]),\n array([0.]),\n array([0.]),\n array([0.]),\n array([0.]),\n array([0.]),\n array([0.]),\n array([0.]),\n array([0.]),\n array([0.]),\n array([0.]),\n array([0.]),\n array([0.]),\n array([0.]),\n array([0.]),\n array([0.]),\n array([0.]),\n array([0.]),\n array([0.]),\n array([0.]),\n array([0.]),\n array([0.]),\n array([0.]),\n array([0.]),\n array([0.]),\n array([0.]),\n array([0.]),\n array([0.]),\n array([0.]),\n array([0.]),\n array([0.]),\n array([0.]),\n array([0.]),\n array([0.]),\n array([0.]),\n array([0.]),\n array([0.]),\n array([0.]),\n array([0.]),\n array([0.]),\n array([0.]),\n array([0.]),\n array([0.]),\n array([0.]),\n array([0.]),\n array([0.]),\n array([0.]),\n array([0.]),\n array([0.]),\n array([0.]),\n array([0.]),\n array([0.]),\n array([0.]),\n array([0.]),\n array([0.]),\n array([0.]),\n array([0.]),\n array([0.]),\n array([0.]),\n array([0.]),\n array([0.]),\n array([0.]),\n array([0.]),\n array([0.]),\n array([0.]),\n array([0.]),\n array([0.]),\n array([0.]),\n array([0.]),\n array([0.]),\n array([0.]),\n array([0.]),\n array([0.]),\n array([0.]),\n array([0.]),\n array([0.]),\n array([0.]),\n array([0.]),\n ...]"
     },
     "execution_count": 55,
     "metadata": {},
     "output_type": "execute_result"
    }
   ],
   "source": [
    "y_train_2 = list(y_train_1)\n",
    "y_train_2"
   ],
   "metadata": {
    "collapsed": false,
    "ExecuteTime": {
     "end_time": "2023-08-25T01:05:16.697274Z",
     "start_time": "2023-08-25T01:05:16.694335Z"
    }
   },
   "id": "5a7b4b82d3580f96"
  },
  {
   "cell_type": "code",
   "execution_count": 65,
   "outputs": [],
   "source": [
    "y_train_3 = y_train[\"sales\"]"
   ],
   "metadata": {
    "collapsed": false,
    "ExecuteTime": {
     "end_time": "2023-08-25T01:07:05.444799Z",
     "start_time": "2023-08-25T01:07:05.431047Z"
    }
   },
   "id": "565e7d8a7cc8214e"
  },
  {
   "cell_type": "code",
   "execution_count": 67,
   "outputs": [
    {
     "ename": "ValueError",
     "evalue": "Unknown label type: (array([0.0000e+00, 1.2200e-01, 1.4600e-01, ..., 2.2534e+04, 2.6067e+04,\n       4.6271e+04]),)",
     "output_type": "error",
     "traceback": [
      "\u001B[0;31m---------------------------------------------------------------------------\u001B[0m",
      "\u001B[0;31mValueError\u001B[0m                                Traceback (most recent call last)",
      "Cell \u001B[0;32mIn[67], line 2\u001B[0m\n\u001B[1;32m      1\u001B[0m sgd \u001B[38;5;241m=\u001B[39m SGDClassifier()\n\u001B[0;32m----> 2\u001B[0m model \u001B[38;5;241m=\u001B[39m sgd\u001B[38;5;241m.\u001B[39mfit(X_train, y_train_3)\n\u001B[1;32m      3\u001B[0m y_pred \u001B[38;5;241m=\u001B[39m model\u001B[38;5;241m.\u001B[39mpredict(X_test)\n",
      "File \u001B[0;32m~/anaconda3/lib/python3.11/site-packages/sklearn/base.py:1151\u001B[0m, in \u001B[0;36m_fit_context.<locals>.decorator.<locals>.wrapper\u001B[0;34m(estimator, *args, **kwargs)\u001B[0m\n\u001B[1;32m   1144\u001B[0m     estimator\u001B[38;5;241m.\u001B[39m_validate_params()\n\u001B[1;32m   1146\u001B[0m \u001B[38;5;28;01mwith\u001B[39;00m config_context(\n\u001B[1;32m   1147\u001B[0m     skip_parameter_validation\u001B[38;5;241m=\u001B[39m(\n\u001B[1;32m   1148\u001B[0m         prefer_skip_nested_validation \u001B[38;5;129;01mor\u001B[39;00m global_skip_validation\n\u001B[1;32m   1149\u001B[0m     )\n\u001B[1;32m   1150\u001B[0m ):\n\u001B[0;32m-> 1151\u001B[0m     \u001B[38;5;28;01mreturn\u001B[39;00m fit_method(estimator, \u001B[38;5;241m*\u001B[39margs, \u001B[38;5;241m*\u001B[39m\u001B[38;5;241m*\u001B[39mkwargs)\n",
      "File \u001B[0;32m~/anaconda3/lib/python3.11/site-packages/sklearn/linear_model/_stochastic_gradient.py:907\u001B[0m, in \u001B[0;36mBaseSGDClassifier.fit\u001B[0;34m(self, X, y, coef_init, intercept_init, sample_weight)\u001B[0m\n\u001B[1;32m    878\u001B[0m \u001B[38;5;250m\u001B[39m\u001B[38;5;124;03m\"\"\"Fit linear model with Stochastic Gradient Descent.\u001B[39;00m\n\u001B[1;32m    879\u001B[0m \n\u001B[1;32m    880\u001B[0m \u001B[38;5;124;03mParameters\u001B[39;00m\n\u001B[0;32m   (...)\u001B[0m\n\u001B[1;32m    903\u001B[0m \u001B[38;5;124;03m    Returns an instance of self.\u001B[39;00m\n\u001B[1;32m    904\u001B[0m \u001B[38;5;124;03m\"\"\"\u001B[39;00m\n\u001B[1;32m    905\u001B[0m \u001B[38;5;28mself\u001B[39m\u001B[38;5;241m.\u001B[39m_more_validate_params()\n\u001B[0;32m--> 907\u001B[0m \u001B[38;5;28;01mreturn\u001B[39;00m \u001B[38;5;28mself\u001B[39m\u001B[38;5;241m.\u001B[39m_fit(\n\u001B[1;32m    908\u001B[0m     X,\n\u001B[1;32m    909\u001B[0m     y,\n\u001B[1;32m    910\u001B[0m     alpha\u001B[38;5;241m=\u001B[39m\u001B[38;5;28mself\u001B[39m\u001B[38;5;241m.\u001B[39malpha,\n\u001B[1;32m    911\u001B[0m     C\u001B[38;5;241m=\u001B[39m\u001B[38;5;241m1.0\u001B[39m,\n\u001B[1;32m    912\u001B[0m     loss\u001B[38;5;241m=\u001B[39m\u001B[38;5;28mself\u001B[39m\u001B[38;5;241m.\u001B[39mloss,\n\u001B[1;32m    913\u001B[0m     learning_rate\u001B[38;5;241m=\u001B[39m\u001B[38;5;28mself\u001B[39m\u001B[38;5;241m.\u001B[39mlearning_rate,\n\u001B[1;32m    914\u001B[0m     coef_init\u001B[38;5;241m=\u001B[39mcoef_init,\n\u001B[1;32m    915\u001B[0m     intercept_init\u001B[38;5;241m=\u001B[39mintercept_init,\n\u001B[1;32m    916\u001B[0m     sample_weight\u001B[38;5;241m=\u001B[39msample_weight,\n\u001B[1;32m    917\u001B[0m )\n",
      "File \u001B[0;32m~/anaconda3/lib/python3.11/site-packages/sklearn/linear_model/_stochastic_gradient.py:694\u001B[0m, in \u001B[0;36mBaseSGDClassifier._fit\u001B[0;34m(self, X, y, alpha, C, loss, learning_rate, coef_init, intercept_init, sample_weight)\u001B[0m\n\u001B[1;32m    691\u001B[0m \u001B[38;5;66;03m# Clear iteration count for multiple call to fit.\u001B[39;00m\n\u001B[1;32m    692\u001B[0m \u001B[38;5;28mself\u001B[39m\u001B[38;5;241m.\u001B[39mt_ \u001B[38;5;241m=\u001B[39m \u001B[38;5;241m1.0\u001B[39m\n\u001B[0;32m--> 694\u001B[0m \u001B[38;5;28mself\u001B[39m\u001B[38;5;241m.\u001B[39m_partial_fit(\n\u001B[1;32m    695\u001B[0m     X,\n\u001B[1;32m    696\u001B[0m     y,\n\u001B[1;32m    697\u001B[0m     alpha,\n\u001B[1;32m    698\u001B[0m     C,\n\u001B[1;32m    699\u001B[0m     loss,\n\u001B[1;32m    700\u001B[0m     learning_rate,\n\u001B[1;32m    701\u001B[0m     \u001B[38;5;28mself\u001B[39m\u001B[38;5;241m.\u001B[39mmax_iter,\n\u001B[1;32m    702\u001B[0m     classes,\n\u001B[1;32m    703\u001B[0m     sample_weight,\n\u001B[1;32m    704\u001B[0m     coef_init,\n\u001B[1;32m    705\u001B[0m     intercept_init,\n\u001B[1;32m    706\u001B[0m )\n\u001B[1;32m    708\u001B[0m \u001B[38;5;28;01mif\u001B[39;00m (\n\u001B[1;32m    709\u001B[0m     \u001B[38;5;28mself\u001B[39m\u001B[38;5;241m.\u001B[39mtol \u001B[38;5;129;01mis\u001B[39;00m \u001B[38;5;129;01mnot\u001B[39;00m \u001B[38;5;28;01mNone\u001B[39;00m\n\u001B[1;32m    710\u001B[0m     \u001B[38;5;129;01mand\u001B[39;00m \u001B[38;5;28mself\u001B[39m\u001B[38;5;241m.\u001B[39mtol \u001B[38;5;241m>\u001B[39m \u001B[38;5;241m-\u001B[39mnp\u001B[38;5;241m.\u001B[39minf\n\u001B[1;32m    711\u001B[0m     \u001B[38;5;129;01mand\u001B[39;00m \u001B[38;5;28mself\u001B[39m\u001B[38;5;241m.\u001B[39mn_iter_ \u001B[38;5;241m==\u001B[39m \u001B[38;5;28mself\u001B[39m\u001B[38;5;241m.\u001B[39mmax_iter\n\u001B[1;32m    712\u001B[0m ):\n\u001B[1;32m    713\u001B[0m     warnings\u001B[38;5;241m.\u001B[39mwarn(\n\u001B[1;32m    714\u001B[0m         (\n\u001B[1;32m    715\u001B[0m             \u001B[38;5;124m\"\u001B[39m\u001B[38;5;124mMaximum number of iteration reached before \u001B[39m\u001B[38;5;124m\"\u001B[39m\n\u001B[0;32m   (...)\u001B[0m\n\u001B[1;32m    719\u001B[0m         ConvergenceWarning,\n\u001B[1;32m    720\u001B[0m     )\n",
      "File \u001B[0;32m~/anaconda3/lib/python3.11/site-packages/sklearn/linear_model/_stochastic_gradient.py:598\u001B[0m, in \u001B[0;36mBaseSGDClassifier._partial_fit\u001B[0;34m(self, X, y, alpha, C, loss, learning_rate, max_iter, classes, sample_weight, coef_init, intercept_init)\u001B[0m\n\u001B[1;32m    586\u001B[0m X, y \u001B[38;5;241m=\u001B[39m \u001B[38;5;28mself\u001B[39m\u001B[38;5;241m.\u001B[39m_validate_data(\n\u001B[1;32m    587\u001B[0m     X,\n\u001B[1;32m    588\u001B[0m     y,\n\u001B[0;32m   (...)\u001B[0m\n\u001B[1;32m    593\u001B[0m     reset\u001B[38;5;241m=\u001B[39mfirst_call,\n\u001B[1;32m    594\u001B[0m )\n\u001B[1;32m    596\u001B[0m n_samples, n_features \u001B[38;5;241m=\u001B[39m X\u001B[38;5;241m.\u001B[39mshape\n\u001B[0;32m--> 598\u001B[0m _check_partial_fit_first_call(\u001B[38;5;28mself\u001B[39m, classes)\n\u001B[1;32m    600\u001B[0m n_classes \u001B[38;5;241m=\u001B[39m \u001B[38;5;28mself\u001B[39m\u001B[38;5;241m.\u001B[39mclasses_\u001B[38;5;241m.\u001B[39mshape[\u001B[38;5;241m0\u001B[39m]\n\u001B[1;32m    602\u001B[0m \u001B[38;5;66;03m# Allocate datastructures from input arguments\u001B[39;00m\n",
      "File \u001B[0;32m~/anaconda3/lib/python3.11/site-packages/sklearn/utils/multiclass.py:421\u001B[0m, in \u001B[0;36m_check_partial_fit_first_call\u001B[0;34m(clf, classes)\u001B[0m\n\u001B[1;32m    414\u001B[0m             \u001B[38;5;28;01mraise\u001B[39;00m \u001B[38;5;167;01mValueError\u001B[39;00m(\n\u001B[1;32m    415\u001B[0m                 \u001B[38;5;124m\"\u001B[39m\u001B[38;5;124m`classes=\u001B[39m\u001B[38;5;132;01m%r\u001B[39;00m\u001B[38;5;124m` is not the same as on last call \u001B[39m\u001B[38;5;124m\"\u001B[39m\n\u001B[1;32m    416\u001B[0m                 \u001B[38;5;124m\"\u001B[39m\u001B[38;5;124mto partial_fit, was: \u001B[39m\u001B[38;5;132;01m%r\u001B[39;00m\u001B[38;5;124m\"\u001B[39m \u001B[38;5;241m%\u001B[39m (classes, clf\u001B[38;5;241m.\u001B[39mclasses_)\n\u001B[1;32m    417\u001B[0m             )\n\u001B[1;32m    419\u001B[0m     \u001B[38;5;28;01melse\u001B[39;00m:\n\u001B[1;32m    420\u001B[0m         \u001B[38;5;66;03m# This is the first call to partial_fit\u001B[39;00m\n\u001B[0;32m--> 421\u001B[0m         clf\u001B[38;5;241m.\u001B[39mclasses_ \u001B[38;5;241m=\u001B[39m unique_labels(classes)\n\u001B[1;32m    422\u001B[0m         \u001B[38;5;28;01mreturn\u001B[39;00m \u001B[38;5;28;01mTrue\u001B[39;00m\n\u001B[1;32m    424\u001B[0m \u001B[38;5;66;03m# classes is None and clf.classes_ has already previously been set:\u001B[39;00m\n\u001B[1;32m    425\u001B[0m \u001B[38;5;66;03m# nothing to do\u001B[39;00m\n",
      "File \u001B[0;32m~/anaconda3/lib/python3.11/site-packages/sklearn/utils/multiclass.py:104\u001B[0m, in \u001B[0;36munique_labels\u001B[0;34m(*ys)\u001B[0m\n\u001B[1;32m    102\u001B[0m _unique_labels \u001B[38;5;241m=\u001B[39m _FN_UNIQUE_LABELS\u001B[38;5;241m.\u001B[39mget(label_type, \u001B[38;5;28;01mNone\u001B[39;00m)\n\u001B[1;32m    103\u001B[0m \u001B[38;5;28;01mif\u001B[39;00m \u001B[38;5;129;01mnot\u001B[39;00m _unique_labels:\n\u001B[0;32m--> 104\u001B[0m     \u001B[38;5;28;01mraise\u001B[39;00m \u001B[38;5;167;01mValueError\u001B[39;00m(\u001B[38;5;124m\"\u001B[39m\u001B[38;5;124mUnknown label type: \u001B[39m\u001B[38;5;132;01m%s\u001B[39;00m\u001B[38;5;124m\"\u001B[39m \u001B[38;5;241m%\u001B[39m \u001B[38;5;28mrepr\u001B[39m(ys))\n\u001B[1;32m    106\u001B[0m \u001B[38;5;28;01mif\u001B[39;00m is_array_api_compliant:\n\u001B[1;32m    107\u001B[0m     \u001B[38;5;66;03m# array_api does not allow for mixed dtypes\u001B[39;00m\n\u001B[1;32m    108\u001B[0m     unique_ys \u001B[38;5;241m=\u001B[39m xp\u001B[38;5;241m.\u001B[39mconcat([_unique_labels(y) \u001B[38;5;28;01mfor\u001B[39;00m y \u001B[38;5;129;01min\u001B[39;00m ys])\n",
      "\u001B[0;31mValueError\u001B[0m: Unknown label type: (array([0.0000e+00, 1.2200e-01, 1.4600e-01, ..., 2.2534e+04, 2.6067e+04,\n       4.6271e+04]),)"
     ]
    }
   ],
   "source": [
    "sgd = SGDClassifier()\n",
    "model = sgd.fit(X_train, y_train_3)\n",
    "y_pred = model.predict(X_test)"
   ],
   "metadata": {
    "collapsed": false,
    "ExecuteTime": {
     "end_time": "2023-08-25T01:07:36.325321Z",
     "start_time": "2023-08-25T01:07:36.050141Z"
    }
   },
   "id": "d6e87af2cf2d5294"
  },
  {
   "cell_type": "code",
   "execution_count": 73,
   "outputs": [
    {
     "data": {
      "text/plain": "   date_year  date_month  date_day  store_nbr_0  store_nbr_1  store_nbr_2  \\\n0       2013           1         1            0            0            0   \n1       2013           1         1            0            0            0   \n2       2013           1         1            0            0            0   \n3       2013           1         1            0            0            0   \n4       2013           1         1            0            0            0   \n\n   store_nbr_3  store_nbr_4  store_nbr_5  family_0  ...  type_0  type_1  \\\n0            0            0            0         0  ...       0       1   \n1            0            0            0         0  ...       0       1   \n2            0            0            0         0  ...       0       1   \n3            0            0            0         0  ...       0       1   \n4            0            0            0         0  ...       0       1   \n\n   type_2  cluster_0  cluster_1  cluster_2  cluster_3  cluster_4  dcoilwtico  \\\n0       1          0          1          1          0          0      93.366   \n1       1          0          1          1          0          0      93.366   \n2       1          0          1          1          0          0      93.366   \n3       1          0          1          1          0          0      93.366   \n4       1          0          1          1          0          0      93.366   \n\n   holiday?  \n0       1.0  \n1       1.0  \n2       1.0  \n3       1.0  \n4       1.0  \n\n[5 rows x 35 columns]",
      "text/html": "<div>\n<style scoped>\n    .dataframe tbody tr th:only-of-type {\n        vertical-align: middle;\n    }\n\n    .dataframe tbody tr th {\n        vertical-align: top;\n    }\n\n    .dataframe thead th {\n        text-align: right;\n    }\n</style>\n<table border=\"1\" class=\"dataframe\">\n  <thead>\n    <tr style=\"text-align: right;\">\n      <th></th>\n      <th>date_year</th>\n      <th>date_month</th>\n      <th>date_day</th>\n      <th>store_nbr_0</th>\n      <th>store_nbr_1</th>\n      <th>store_nbr_2</th>\n      <th>store_nbr_3</th>\n      <th>store_nbr_4</th>\n      <th>store_nbr_5</th>\n      <th>family_0</th>\n      <th>...</th>\n      <th>type_0</th>\n      <th>type_1</th>\n      <th>type_2</th>\n      <th>cluster_0</th>\n      <th>cluster_1</th>\n      <th>cluster_2</th>\n      <th>cluster_3</th>\n      <th>cluster_4</th>\n      <th>dcoilwtico</th>\n      <th>holiday?</th>\n    </tr>\n  </thead>\n  <tbody>\n    <tr>\n      <th>0</th>\n      <td>2013</td>\n      <td>1</td>\n      <td>1</td>\n      <td>0</td>\n      <td>0</td>\n      <td>0</td>\n      <td>0</td>\n      <td>0</td>\n      <td>0</td>\n      <td>0</td>\n      <td>...</td>\n      <td>0</td>\n      <td>1</td>\n      <td>1</td>\n      <td>0</td>\n      <td>1</td>\n      <td>1</td>\n      <td>0</td>\n      <td>0</td>\n      <td>93.366</td>\n      <td>1.0</td>\n    </tr>\n    <tr>\n      <th>1</th>\n      <td>2013</td>\n      <td>1</td>\n      <td>1</td>\n      <td>0</td>\n      <td>0</td>\n      <td>0</td>\n      <td>0</td>\n      <td>0</td>\n      <td>0</td>\n      <td>0</td>\n      <td>...</td>\n      <td>0</td>\n      <td>1</td>\n      <td>1</td>\n      <td>0</td>\n      <td>1</td>\n      <td>1</td>\n      <td>0</td>\n      <td>0</td>\n      <td>93.366</td>\n      <td>1.0</td>\n    </tr>\n    <tr>\n      <th>2</th>\n      <td>2013</td>\n      <td>1</td>\n      <td>1</td>\n      <td>0</td>\n      <td>0</td>\n      <td>0</td>\n      <td>0</td>\n      <td>0</td>\n      <td>0</td>\n      <td>0</td>\n      <td>...</td>\n      <td>0</td>\n      <td>1</td>\n      <td>1</td>\n      <td>0</td>\n      <td>1</td>\n      <td>1</td>\n      <td>0</td>\n      <td>0</td>\n      <td>93.366</td>\n      <td>1.0</td>\n    </tr>\n    <tr>\n      <th>3</th>\n      <td>2013</td>\n      <td>1</td>\n      <td>1</td>\n      <td>0</td>\n      <td>0</td>\n      <td>0</td>\n      <td>0</td>\n      <td>0</td>\n      <td>0</td>\n      <td>0</td>\n      <td>...</td>\n      <td>0</td>\n      <td>1</td>\n      <td>1</td>\n      <td>0</td>\n      <td>1</td>\n      <td>1</td>\n      <td>0</td>\n      <td>0</td>\n      <td>93.366</td>\n      <td>1.0</td>\n    </tr>\n    <tr>\n      <th>4</th>\n      <td>2013</td>\n      <td>1</td>\n      <td>1</td>\n      <td>0</td>\n      <td>0</td>\n      <td>0</td>\n      <td>0</td>\n      <td>0</td>\n      <td>0</td>\n      <td>0</td>\n      <td>...</td>\n      <td>0</td>\n      <td>1</td>\n      <td>1</td>\n      <td>0</td>\n      <td>1</td>\n      <td>1</td>\n      <td>0</td>\n      <td>0</td>\n      <td>93.366</td>\n      <td>1.0</td>\n    </tr>\n  </tbody>\n</table>\n<p>5 rows × 35 columns</p>\n</div>"
     },
     "execution_count": 73,
     "metadata": {},
     "output_type": "execute_result"
    }
   ],
   "source": [
    "X_train.head()"
   ],
   "metadata": {
    "collapsed": false,
    "ExecuteTime": {
     "end_time": "2023-08-25T01:09:38.611427Z",
     "start_time": "2023-08-25T01:09:38.592345Z"
    }
   },
   "id": "349ee35fd5b4d356"
  },
  {
   "cell_type": "code",
   "execution_count": 74,
   "outputs": [],
   "source": [
    "X_train[\"dcoilwtico\"] = X_train[\"dcoilwtico\"].round(2)\n",
    "X_test[\"dcoilwtico\"] = X_test[\"dcoilwtico\"].round(2)\n",
    "X_train[\"holiday?\"] = X_train[\"holiday?\"].astype(\"int64\")\n",
    "X_test[\"holiday?\"] = X_test[\"holiday?\"].astype(\"int64\")\n",
    "y_train = y_train[\"sales\"]\n",
    "y_train = y_train.astype(\"int64\")"
   ],
   "metadata": {
    "collapsed": false,
    "ExecuteTime": {
     "end_time": "2023-08-25T01:12:51.992560Z",
     "start_time": "2023-08-25T01:12:51.962399Z"
    }
   },
   "id": "4e408bdf96e6568a"
  },
  {
   "cell_type": "code",
   "execution_count": 75,
   "outputs": [
    {
     "data": {
      "text/plain": "   date_year  date_month  date_day  store_nbr_0  store_nbr_1  store_nbr_2  \\\n0       2013           1         1            0            0            0   \n1       2013           1         1            0            0            0   \n2       2013           1         1            0            0            0   \n3       2013           1         1            0            0            0   \n4       2013           1         1            0            0            0   \n\n   store_nbr_3  store_nbr_4  store_nbr_5  family_0  ...  type_0  type_1  \\\n0            0            0            0         0  ...       0       1   \n1            0            0            0         0  ...       0       1   \n2            0            0            0         0  ...       0       1   \n3            0            0            0         0  ...       0       1   \n4            0            0            0         0  ...       0       1   \n\n   type_2  cluster_0  cluster_1  cluster_2  cluster_3  cluster_4  dcoilwtico  \\\n0       1          0          1          1          0          0       93.37   \n1       1          0          1          1          0          0       93.37   \n2       1          0          1          1          0          0       93.37   \n3       1          0          1          1          0          0       93.37   \n4       1          0          1          1          0          0       93.37   \n\n   holiday?  \n0         1  \n1         1  \n2         1  \n3         1  \n4         1  \n\n[5 rows x 35 columns]",
      "text/html": "<div>\n<style scoped>\n    .dataframe tbody tr th:only-of-type {\n        vertical-align: middle;\n    }\n\n    .dataframe tbody tr th {\n        vertical-align: top;\n    }\n\n    .dataframe thead th {\n        text-align: right;\n    }\n</style>\n<table border=\"1\" class=\"dataframe\">\n  <thead>\n    <tr style=\"text-align: right;\">\n      <th></th>\n      <th>date_year</th>\n      <th>date_month</th>\n      <th>date_day</th>\n      <th>store_nbr_0</th>\n      <th>store_nbr_1</th>\n      <th>store_nbr_2</th>\n      <th>store_nbr_3</th>\n      <th>store_nbr_4</th>\n      <th>store_nbr_5</th>\n      <th>family_0</th>\n      <th>...</th>\n      <th>type_0</th>\n      <th>type_1</th>\n      <th>type_2</th>\n      <th>cluster_0</th>\n      <th>cluster_1</th>\n      <th>cluster_2</th>\n      <th>cluster_3</th>\n      <th>cluster_4</th>\n      <th>dcoilwtico</th>\n      <th>holiday?</th>\n    </tr>\n  </thead>\n  <tbody>\n    <tr>\n      <th>0</th>\n      <td>2013</td>\n      <td>1</td>\n      <td>1</td>\n      <td>0</td>\n      <td>0</td>\n      <td>0</td>\n      <td>0</td>\n      <td>0</td>\n      <td>0</td>\n      <td>0</td>\n      <td>...</td>\n      <td>0</td>\n      <td>1</td>\n      <td>1</td>\n      <td>0</td>\n      <td>1</td>\n      <td>1</td>\n      <td>0</td>\n      <td>0</td>\n      <td>93.37</td>\n      <td>1</td>\n    </tr>\n    <tr>\n      <th>1</th>\n      <td>2013</td>\n      <td>1</td>\n      <td>1</td>\n      <td>0</td>\n      <td>0</td>\n      <td>0</td>\n      <td>0</td>\n      <td>0</td>\n      <td>0</td>\n      <td>0</td>\n      <td>...</td>\n      <td>0</td>\n      <td>1</td>\n      <td>1</td>\n      <td>0</td>\n      <td>1</td>\n      <td>1</td>\n      <td>0</td>\n      <td>0</td>\n      <td>93.37</td>\n      <td>1</td>\n    </tr>\n    <tr>\n      <th>2</th>\n      <td>2013</td>\n      <td>1</td>\n      <td>1</td>\n      <td>0</td>\n      <td>0</td>\n      <td>0</td>\n      <td>0</td>\n      <td>0</td>\n      <td>0</td>\n      <td>0</td>\n      <td>...</td>\n      <td>0</td>\n      <td>1</td>\n      <td>1</td>\n      <td>0</td>\n      <td>1</td>\n      <td>1</td>\n      <td>0</td>\n      <td>0</td>\n      <td>93.37</td>\n      <td>1</td>\n    </tr>\n    <tr>\n      <th>3</th>\n      <td>2013</td>\n      <td>1</td>\n      <td>1</td>\n      <td>0</td>\n      <td>0</td>\n      <td>0</td>\n      <td>0</td>\n      <td>0</td>\n      <td>0</td>\n      <td>0</td>\n      <td>...</td>\n      <td>0</td>\n      <td>1</td>\n      <td>1</td>\n      <td>0</td>\n      <td>1</td>\n      <td>1</td>\n      <td>0</td>\n      <td>0</td>\n      <td>93.37</td>\n      <td>1</td>\n    </tr>\n    <tr>\n      <th>4</th>\n      <td>2013</td>\n      <td>1</td>\n      <td>1</td>\n      <td>0</td>\n      <td>0</td>\n      <td>0</td>\n      <td>0</td>\n      <td>0</td>\n      <td>0</td>\n      <td>0</td>\n      <td>...</td>\n      <td>0</td>\n      <td>1</td>\n      <td>1</td>\n      <td>0</td>\n      <td>1</td>\n      <td>1</td>\n      <td>0</td>\n      <td>0</td>\n      <td>93.37</td>\n      <td>1</td>\n    </tr>\n  </tbody>\n</table>\n<p>5 rows × 35 columns</p>\n</div>"
     },
     "execution_count": 75,
     "metadata": {},
     "output_type": "execute_result"
    }
   ],
   "source": [
    "X_train.head()"
   ],
   "metadata": {
    "collapsed": false,
    "ExecuteTime": {
     "end_time": "2023-08-25T01:12:57.062173Z",
     "start_time": "2023-08-25T01:12:57.043325Z"
    }
   },
   "id": "cf097b51b969b7fa"
  },
  {
   "cell_type": "code",
   "execution_count": 76,
   "outputs": [
    {
     "data": {
      "text/plain": "   date_year  date_month  date_day  store_nbr_0  store_nbr_1  store_nbr_2  \\\n0       2017           8        16            0            0            0   \n1       2017           8        16            0            0            0   \n2       2017           8        16            0            0            0   \n3       2017           8        16            0            0            0   \n4       2017           8        16            0            0            0   \n\n   store_nbr_3  store_nbr_4  store_nbr_5  family_0  ...  type_0  type_1  \\\n0            0            0            0         0  ...       0       1   \n1            0            0            0         0  ...       0       1   \n2            0            0            0         0  ...       0       1   \n3            0            0            0         0  ...       0       1   \n4            0            0            0         0  ...       0       1   \n\n   type_2  cluster_0  cluster_1  cluster_2  cluster_3  cluster_4  dcoilwtico  \\\n0       1          0          1          1          0          0        46.8   \n1       1          0          1          1          0          0        46.8   \n2       1          0          1          1          0          0        46.8   \n3       1          0          1          1          0          0        46.8   \n4       1          0          1          1          0          0        46.8   \n\n   holiday?  \n0         0  \n1         0  \n2         0  \n3         0  \n4         0  \n\n[5 rows x 35 columns]",
      "text/html": "<div>\n<style scoped>\n    .dataframe tbody tr th:only-of-type {\n        vertical-align: middle;\n    }\n\n    .dataframe tbody tr th {\n        vertical-align: top;\n    }\n\n    .dataframe thead th {\n        text-align: right;\n    }\n</style>\n<table border=\"1\" class=\"dataframe\">\n  <thead>\n    <tr style=\"text-align: right;\">\n      <th></th>\n      <th>date_year</th>\n      <th>date_month</th>\n      <th>date_day</th>\n      <th>store_nbr_0</th>\n      <th>store_nbr_1</th>\n      <th>store_nbr_2</th>\n      <th>store_nbr_3</th>\n      <th>store_nbr_4</th>\n      <th>store_nbr_5</th>\n      <th>family_0</th>\n      <th>...</th>\n      <th>type_0</th>\n      <th>type_1</th>\n      <th>type_2</th>\n      <th>cluster_0</th>\n      <th>cluster_1</th>\n      <th>cluster_2</th>\n      <th>cluster_3</th>\n      <th>cluster_4</th>\n      <th>dcoilwtico</th>\n      <th>holiday?</th>\n    </tr>\n  </thead>\n  <tbody>\n    <tr>\n      <th>0</th>\n      <td>2017</td>\n      <td>8</td>\n      <td>16</td>\n      <td>0</td>\n      <td>0</td>\n      <td>0</td>\n      <td>0</td>\n      <td>0</td>\n      <td>0</td>\n      <td>0</td>\n      <td>...</td>\n      <td>0</td>\n      <td>1</td>\n      <td>1</td>\n      <td>0</td>\n      <td>1</td>\n      <td>1</td>\n      <td>0</td>\n      <td>0</td>\n      <td>46.8</td>\n      <td>0</td>\n    </tr>\n    <tr>\n      <th>1</th>\n      <td>2017</td>\n      <td>8</td>\n      <td>16</td>\n      <td>0</td>\n      <td>0</td>\n      <td>0</td>\n      <td>0</td>\n      <td>0</td>\n      <td>0</td>\n      <td>0</td>\n      <td>...</td>\n      <td>0</td>\n      <td>1</td>\n      <td>1</td>\n      <td>0</td>\n      <td>1</td>\n      <td>1</td>\n      <td>0</td>\n      <td>0</td>\n      <td>46.8</td>\n      <td>0</td>\n    </tr>\n    <tr>\n      <th>2</th>\n      <td>2017</td>\n      <td>8</td>\n      <td>16</td>\n      <td>0</td>\n      <td>0</td>\n      <td>0</td>\n      <td>0</td>\n      <td>0</td>\n      <td>0</td>\n      <td>0</td>\n      <td>...</td>\n      <td>0</td>\n      <td>1</td>\n      <td>1</td>\n      <td>0</td>\n      <td>1</td>\n      <td>1</td>\n      <td>0</td>\n      <td>0</td>\n      <td>46.8</td>\n      <td>0</td>\n    </tr>\n    <tr>\n      <th>3</th>\n      <td>2017</td>\n      <td>8</td>\n      <td>16</td>\n      <td>0</td>\n      <td>0</td>\n      <td>0</td>\n      <td>0</td>\n      <td>0</td>\n      <td>0</td>\n      <td>0</td>\n      <td>...</td>\n      <td>0</td>\n      <td>1</td>\n      <td>1</td>\n      <td>0</td>\n      <td>1</td>\n      <td>1</td>\n      <td>0</td>\n      <td>0</td>\n      <td>46.8</td>\n      <td>0</td>\n    </tr>\n    <tr>\n      <th>4</th>\n      <td>2017</td>\n      <td>8</td>\n      <td>16</td>\n      <td>0</td>\n      <td>0</td>\n      <td>0</td>\n      <td>0</td>\n      <td>0</td>\n      <td>0</td>\n      <td>0</td>\n      <td>...</td>\n      <td>0</td>\n      <td>1</td>\n      <td>1</td>\n      <td>0</td>\n      <td>1</td>\n      <td>1</td>\n      <td>0</td>\n      <td>0</td>\n      <td>46.8</td>\n      <td>0</td>\n    </tr>\n  </tbody>\n</table>\n<p>5 rows × 35 columns</p>\n</div>"
     },
     "execution_count": 76,
     "metadata": {},
     "output_type": "execute_result"
    }
   ],
   "source": [
    "X_test.head()"
   ],
   "metadata": {
    "collapsed": false,
    "ExecuteTime": {
     "end_time": "2023-08-25T01:13:04.309980Z",
     "start_time": "2023-08-25T01:13:04.280063Z"
    }
   },
   "id": "303272ab104299a"
  },
  {
   "cell_type": "code",
   "execution_count": 77,
   "outputs": [
    {
     "data": {
      "text/plain": "0    0\n1    0\n2    0\n3    0\n4    0\nName: sales, dtype: int64"
     },
     "execution_count": 77,
     "metadata": {},
     "output_type": "execute_result"
    }
   ],
   "source": [
    "y_train.head()"
   ],
   "metadata": {
    "collapsed": false,
    "ExecuteTime": {
     "end_time": "2023-08-25T01:13:13.567947Z",
     "start_time": "2023-08-25T01:13:13.549339Z"
    }
   },
   "id": "617311282728c6bf"
  },
  {
   "cell_type": "code",
   "execution_count": null,
   "outputs": [],
   "source": [],
   "metadata": {
    "collapsed": false
   },
   "id": "d16aeca35bf6e408"
  }
 ],
 "metadata": {
  "kernelspec": {
   "display_name": "Python 3",
   "language": "python",
   "name": "python3"
  },
  "language_info": {
   "codemirror_mode": {
    "name": "ipython",
    "version": 2
   },
   "file_extension": ".py",
   "mimetype": "text/x-python",
   "name": "python",
   "nbconvert_exporter": "python",
   "pygments_lexer": "ipython2",
   "version": "2.7.6"
  }
 },
 "nbformat": 4,
 "nbformat_minor": 5
}
