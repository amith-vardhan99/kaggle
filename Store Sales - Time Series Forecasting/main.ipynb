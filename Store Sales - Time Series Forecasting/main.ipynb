{
 "cells": [
  {
   "cell_type": "markdown",
   "source": [
    "# Store Sales - Time Series Forecasting"
   ],
   "metadata": {
    "collapsed": false
   },
   "id": "cbbaa856b210c073"
  },
  {
   "cell_type": "markdown",
   "source": [
    "### Use machine learning to predict grocery sales"
   ],
   "metadata": {
    "collapsed": false
   },
   "id": "78ce9990408ff9c3"
  },
  {
   "cell_type": "markdown",
   "source": [
    "Kaggle link: [Store Sales - Time Series Forecasting](https://www.kaggle.com/competitions/store-sales-time-series-forecasting)"
   ],
   "metadata": {
    "collapsed": false
   },
   "id": "fe65d401b733a079"
  },
  {
   "cell_type": "markdown",
   "source": [
    "### Context\n",
    "Forecasts aren’t just for meteorologists. Governments forecast economic growth. Scientists attempt to predict the future population. And businesses forecast product demand—a common task of professional data scientists. Forecasts are especially relevant to brick-and-mortar grocery stores, which must dance delicately with how much inventory to buy. Predict a little over, and grocers are stuck with overstocked, perishable goods. Guess a little under, and popular items quickly sell out, leading to lost revenue and upset customers. More accurate forecasting, thanks to machine learning, could help ensure retailers please customers by having just enough of the right products at the right time.\n",
    "\n",
    "Current subjective forecasting methods for retail have little data to back them up and are unlikely to be automated. The problem becomes even more complex as retailers add new locations with unique needs, new products, ever-transitioning seasonal tastes, and unpredictable product marketing."
   ],
   "metadata": {
    "collapsed": false
   },
   "id": "a6d1514cea2f0780"
  },
  {
   "cell_type": "markdown",
   "source": [
    "### Potential Impact\n",
    "If successful, you'll have flexed some new skills in a real world example. For grocery stores, more accurate forecasting can decrease food waste related to overstocking and improve customer satisfaction. The results of this ongoing competition, over time, might even ensure your local store has exactly what you need the next time you shop."
   ],
   "metadata": {
    "collapsed": false
   },
   "id": "a615fac69b9ca5f"
  },
  {
   "cell_type": "markdown",
   "source": [
    "### Dataset Description\n",
    "In this competition, you will predict sales for the thousands of product families sold at Favorita stores located in Ecuador. The training data includes dates, store and product information, whether that item was being promoted, as well as the sales numbers. Additional files include supplementary information that may be useful in building your models."
   ],
   "metadata": {
    "collapsed": false
   },
   "id": "ecaa60347fc104d0"
  },
  {
   "cell_type": "markdown",
   "source": [
    "### File Descriptions and Data Field Information\n",
    "\n",
    "**train.csv**\n",
    "The training data, comprising time series of features store_nbr, family, and onpromotion as well as the target sales.\n",
    "**store_nbr** identifies the store at which the products are sold.\n",
    "**family** identifies the type of product sold.\n",
    "**sales** gives the total sales for a product family at a particular store at a given date. Fractional values are possible since products can be sold in fractional units (1.5 kg of cheese, for instance, as opposed to 1 bag of chips).\n",
    "**onpromotion** gives the total number of items in a product family that were being promoted at a store at a given date.\n",
    "\n",
    "**test.csv**\n",
    "The test data, having the same features as the training data. You will predict the target sales for the dates in this file.\n",
    "The dates in the test data are for the 15 days after the last date in the training data.\n",
    "\n",
    "**sample_submission.csv**\n",
    "A sample submission file in the correct format.\n",
    "\n",
    "**stores.csv**\n",
    "Store metadata, including city, state, type, and cluster.\n",
    "cluster is a grouping of similar stores.\n",
    "\n",
    "**oil.csv**\n",
    "Daily oil price. Includes values during both the train and test data timeframes. (Ecuador is an oil-dependent country and it's economical health is highly vulnerable to shocks in oil prices.)\n",
    "\n",
    "**holidays_events.csv**\n",
    "* Holidays and Events, with metadata\n",
    "* NOTE: Pay special attention to the transferred column. A holiday that is transferred officially falls on that calendar day, but was moved to another date by the government. A transferred day is more like a normal day than a holiday. To find the day that it was actually celebrated, look for the corresponding row where type is Transfer. For example, the holiday Independencia de Guayaquil was transferred from 2012-10-09 to 2012-10-12, which means it was celebrated on 2012-10-12. Days that are type Bridge are extra days that are added to a holiday (e.g., to extend the break across a long weekend). These are frequently made up by the type Work Day which is a day not normally scheduled for work (e.g., Saturday) that is meant to payback the Bridge.\n",
    "* Additional holidays are days added a regular calendar holiday, for example, as typically happens around Christmas (making Christmas Eve a holiday)."
   ],
   "metadata": {
    "collapsed": false
   },
   "id": "86d2119a0df9f8e7"
  },
  {
   "cell_type": "markdown",
   "source": [
    "### Additional Notes\n",
    "\n",
    "* Wages in the public sector are paid every two weeks on the 15 th and on the last day of the month. Supermarket sales could be affected by this.\n",
    "* A magnitude 7.8 earthquake struck Ecuador on April 16, 2016. People rallied in relief efforts donating water and other first need products which greatly affected supermarket sales for several weeks after the earthquake."
   ],
   "metadata": {
    "collapsed": false
   },
   "id": "4b76a30b8e450ff8"
  },
  {
   "cell_type": "markdown",
   "source": [
    "### Importing all libraries"
   ],
   "metadata": {
    "collapsed": false
   },
   "id": "1286d038b63cd9ca"
  },
  {
   "cell_type": "code",
   "execution_count": 101,
   "outputs": [],
   "source": [
    "import numpy as np\n",
    "import pandas as pd\n",
    "import matplotlib.pyplot as plt\n",
    "import seaborn as sns\n",
    "from sklearn.model_selection import *\n",
    "from sklearn.linear_model import *\n",
    "from math import *\n",
    "from sklearn.ensemble import *\n",
    "from sklearn.feature_selection import *\n",
    "from sklearn.feature_extraction import *\n",
    "from sklearn.naive_bayes import *\n",
    "from sklearn.discriminant_analysis import *\n",
    "from sklearn.preprocessing import *\n",
    "from sklearn.metrics import *\n",
    "from sklearn.neighbors import *\n",
    "from sklearn.cluster import *\n",
    "from sklearn.svm import *\n",
    "import warnings\n",
    "warnings.filterwarnings(\"ignore\")"
   ],
   "metadata": {
    "collapsed": false,
    "ExecuteTime": {
     "end_time": "2023-08-21T21:00:02.338786Z",
     "start_time": "2023-08-21T21:00:02.334677Z"
    }
   },
   "id": "877982056381b1d0"
  },
  {
   "cell_type": "markdown",
   "source": [
    "### Importing the training datasets"
   ],
   "metadata": {
    "collapsed": false
   },
   "id": "2eb54b99d2966bcb"
  },
  {
   "cell_type": "code",
   "execution_count": 102,
   "outputs": [
    {
     "data": {
      "text/plain": "   id    date  store_nbr      family  sales  onpromotion\n0   0  1/1/13          1  AUTOMOTIVE    0.0            0\n1   1  1/1/13          1   BABY CARE    0.0            0\n2   2  1/1/13          1      BEAUTY    0.0            0\n3   3  1/1/13          1   BEVERAGES    0.0            0\n4   4  1/1/13          1       BOOKS    0.0            0",
      "text/html": "<div>\n<style scoped>\n    .dataframe tbody tr th:only-of-type {\n        vertical-align: middle;\n    }\n\n    .dataframe tbody tr th {\n        vertical-align: top;\n    }\n\n    .dataframe thead th {\n        text-align: right;\n    }\n</style>\n<table border=\"1\" class=\"dataframe\">\n  <thead>\n    <tr style=\"text-align: right;\">\n      <th></th>\n      <th>id</th>\n      <th>date</th>\n      <th>store_nbr</th>\n      <th>family</th>\n      <th>sales</th>\n      <th>onpromotion</th>\n    </tr>\n  </thead>\n  <tbody>\n    <tr>\n      <th>0</th>\n      <td>0</td>\n      <td>1/1/13</td>\n      <td>1</td>\n      <td>AUTOMOTIVE</td>\n      <td>0.0</td>\n      <td>0</td>\n    </tr>\n    <tr>\n      <th>1</th>\n      <td>1</td>\n      <td>1/1/13</td>\n      <td>1</td>\n      <td>BABY CARE</td>\n      <td>0.0</td>\n      <td>0</td>\n    </tr>\n    <tr>\n      <th>2</th>\n      <td>2</td>\n      <td>1/1/13</td>\n      <td>1</td>\n      <td>BEAUTY</td>\n      <td>0.0</td>\n      <td>0</td>\n    </tr>\n    <tr>\n      <th>3</th>\n      <td>3</td>\n      <td>1/1/13</td>\n      <td>1</td>\n      <td>BEVERAGES</td>\n      <td>0.0</td>\n      <td>0</td>\n    </tr>\n    <tr>\n      <th>4</th>\n      <td>4</td>\n      <td>1/1/13</td>\n      <td>1</td>\n      <td>BOOKS</td>\n      <td>0.0</td>\n      <td>0</td>\n    </tr>\n  </tbody>\n</table>\n</div>"
     },
     "execution_count": 102,
     "metadata": {},
     "output_type": "execute_result"
    }
   ],
   "source": [
    "df_train_1 = pd.read_csv(\"train1.csv\")\n",
    "df_train_1.head()"
   ],
   "metadata": {
    "collapsed": false,
    "ExecuteTime": {
     "end_time": "2023-08-21T21:00:02.949668Z",
     "start_time": "2023-08-21T21:00:02.860415Z"
    }
   },
   "id": "29a2e4fba8dbb7ca"
  },
  {
   "cell_type": "code",
   "execution_count": 103,
   "outputs": [
    {
     "data": {
      "text/plain": "       id     date  store_nbr                   family       sales  \\\n0  262143  5/28/13         14                    MEATS  310.173000   \n1  262144  5/28/13         14            PERSONAL CARE  227.000000   \n2  262145  5/28/13         14             PET SUPPLIES    0.000000   \n3  262146  5/28/13         14  PLAYERS AND ELECTRONICS    0.000000   \n4  262147  5/28/13         14                  POULTRY   47.809002   \n\n   onpromotion  \n0            0  \n1            0  \n2            0  \n3            0  \n4            0  ",
      "text/html": "<div>\n<style scoped>\n    .dataframe tbody tr th:only-of-type {\n        vertical-align: middle;\n    }\n\n    .dataframe tbody tr th {\n        vertical-align: top;\n    }\n\n    .dataframe thead th {\n        text-align: right;\n    }\n</style>\n<table border=\"1\" class=\"dataframe\">\n  <thead>\n    <tr style=\"text-align: right;\">\n      <th></th>\n      <th>id</th>\n      <th>date</th>\n      <th>store_nbr</th>\n      <th>family</th>\n      <th>sales</th>\n      <th>onpromotion</th>\n    </tr>\n  </thead>\n  <tbody>\n    <tr>\n      <th>0</th>\n      <td>262143</td>\n      <td>5/28/13</td>\n      <td>14</td>\n      <td>MEATS</td>\n      <td>310.173000</td>\n      <td>0</td>\n    </tr>\n    <tr>\n      <th>1</th>\n      <td>262144</td>\n      <td>5/28/13</td>\n      <td>14</td>\n      <td>PERSONAL CARE</td>\n      <td>227.000000</td>\n      <td>0</td>\n    </tr>\n    <tr>\n      <th>2</th>\n      <td>262145</td>\n      <td>5/28/13</td>\n      <td>14</td>\n      <td>PET SUPPLIES</td>\n      <td>0.000000</td>\n      <td>0</td>\n    </tr>\n    <tr>\n      <th>3</th>\n      <td>262146</td>\n      <td>5/28/13</td>\n      <td>14</td>\n      <td>PLAYERS AND ELECTRONICS</td>\n      <td>0.000000</td>\n      <td>0</td>\n    </tr>\n    <tr>\n      <th>4</th>\n      <td>262147</td>\n      <td>5/28/13</td>\n      <td>14</td>\n      <td>POULTRY</td>\n      <td>47.809002</td>\n      <td>0</td>\n    </tr>\n  </tbody>\n</table>\n</div>"
     },
     "execution_count": 103,
     "metadata": {},
     "output_type": "execute_result"
    }
   ],
   "source": [
    "df_train_2 = pd.read_csv(\"train2.csv\")\n",
    "df_train_2.head()"
   ],
   "metadata": {
    "collapsed": false,
    "ExecuteTime": {
     "end_time": "2023-08-21T21:00:03.173414Z",
     "start_time": "2023-08-21T21:00:03.102711Z"
    }
   },
   "id": "e10c18bafc404ec"
  },
  {
   "cell_type": "code",
   "execution_count": 104,
   "outputs": [
    {
     "data": {
      "text/plain": "       id      date  store_nbr               family  sales  onpromotion\n0  524286  10/22/13          2   HOME AND KITCHEN I    0.0            0\n1  524287  10/22/13          2  HOME AND KITCHEN II    0.0            0\n2  524288  10/22/13          2      HOME APPLIANCES    0.0            0\n3  524289  10/22/13          2            HOME CARE    0.0            0\n4  524290  10/22/13          2           LADIESWEAR    0.0            0",
      "text/html": "<div>\n<style scoped>\n    .dataframe tbody tr th:only-of-type {\n        vertical-align: middle;\n    }\n\n    .dataframe tbody tr th {\n        vertical-align: top;\n    }\n\n    .dataframe thead th {\n        text-align: right;\n    }\n</style>\n<table border=\"1\" class=\"dataframe\">\n  <thead>\n    <tr style=\"text-align: right;\">\n      <th></th>\n      <th>id</th>\n      <th>date</th>\n      <th>store_nbr</th>\n      <th>family</th>\n      <th>sales</th>\n      <th>onpromotion</th>\n    </tr>\n  </thead>\n  <tbody>\n    <tr>\n      <th>0</th>\n      <td>524286</td>\n      <td>10/22/13</td>\n      <td>2</td>\n      <td>HOME AND KITCHEN I</td>\n      <td>0.0</td>\n      <td>0</td>\n    </tr>\n    <tr>\n      <th>1</th>\n      <td>524287</td>\n      <td>10/22/13</td>\n      <td>2</td>\n      <td>HOME AND KITCHEN II</td>\n      <td>0.0</td>\n      <td>0</td>\n    </tr>\n    <tr>\n      <th>2</th>\n      <td>524288</td>\n      <td>10/22/13</td>\n      <td>2</td>\n      <td>HOME APPLIANCES</td>\n      <td>0.0</td>\n      <td>0</td>\n    </tr>\n    <tr>\n      <th>3</th>\n      <td>524289</td>\n      <td>10/22/13</td>\n      <td>2</td>\n      <td>HOME CARE</td>\n      <td>0.0</td>\n      <td>0</td>\n    </tr>\n    <tr>\n      <th>4</th>\n      <td>524290</td>\n      <td>10/22/13</td>\n      <td>2</td>\n      <td>LADIESWEAR</td>\n      <td>0.0</td>\n      <td>0</td>\n    </tr>\n  </tbody>\n</table>\n</div>"
     },
     "execution_count": 104,
     "metadata": {},
     "output_type": "execute_result"
    }
   ],
   "source": [
    "df_train_3 = pd.read_csv(\"train3.csv\")\n",
    "df_train_3.head()"
   ],
   "metadata": {
    "collapsed": false,
    "ExecuteTime": {
     "end_time": "2023-08-21T21:00:03.435303Z",
     "start_time": "2023-08-21T21:00:03.351558Z"
    }
   },
   "id": "d51574b582a925e5"
  },
  {
   "cell_type": "code",
   "execution_count": 105,
   "outputs": [
    {
     "data": {
      "text/plain": "       id     date  store_nbr       family    sales  onpromotion\n0  786429  3/19/14         25  CELEBRATION    8.000            0\n1  786430  3/19/14         25     CLEANING  485.000            0\n2  786431  3/19/14         25        DAIRY  588.000            0\n3  786432  3/19/14         25         DELI  116.357            0\n4  786433  3/19/14         25         EGGS  119.000            0",
      "text/html": "<div>\n<style scoped>\n    .dataframe tbody tr th:only-of-type {\n        vertical-align: middle;\n    }\n\n    .dataframe tbody tr th {\n        vertical-align: top;\n    }\n\n    .dataframe thead th {\n        text-align: right;\n    }\n</style>\n<table border=\"1\" class=\"dataframe\">\n  <thead>\n    <tr style=\"text-align: right;\">\n      <th></th>\n      <th>id</th>\n      <th>date</th>\n      <th>store_nbr</th>\n      <th>family</th>\n      <th>sales</th>\n      <th>onpromotion</th>\n    </tr>\n  </thead>\n  <tbody>\n    <tr>\n      <th>0</th>\n      <td>786429</td>\n      <td>3/19/14</td>\n      <td>25</td>\n      <td>CELEBRATION</td>\n      <td>8.000</td>\n      <td>0</td>\n    </tr>\n    <tr>\n      <th>1</th>\n      <td>786430</td>\n      <td>3/19/14</td>\n      <td>25</td>\n      <td>CLEANING</td>\n      <td>485.000</td>\n      <td>0</td>\n    </tr>\n    <tr>\n      <th>2</th>\n      <td>786431</td>\n      <td>3/19/14</td>\n      <td>25</td>\n      <td>DAIRY</td>\n      <td>588.000</td>\n      <td>0</td>\n    </tr>\n    <tr>\n      <th>3</th>\n      <td>786432</td>\n      <td>3/19/14</td>\n      <td>25</td>\n      <td>DELI</td>\n      <td>116.357</td>\n      <td>0</td>\n    </tr>\n    <tr>\n      <th>4</th>\n      <td>786433</td>\n      <td>3/19/14</td>\n      <td>25</td>\n      <td>EGGS</td>\n      <td>119.000</td>\n      <td>0</td>\n    </tr>\n  </tbody>\n</table>\n</div>"
     },
     "execution_count": 105,
     "metadata": {},
     "output_type": "execute_result"
    }
   ],
   "source": [
    "df_train_4 = pd.read_csv(\"train4.csv\")\n",
    "df_train_4.head()"
   ],
   "metadata": {
    "collapsed": false,
    "ExecuteTime": {
     "end_time": "2023-08-21T21:00:03.721987Z",
     "start_time": "2023-08-21T21:00:03.645602Z"
    }
   },
   "id": "ea23efb901168244"
  },
  {
   "cell_type": "code",
   "execution_count": 106,
   "outputs": [
    {
     "name": "stdout",
     "output_type": "stream",
     "text": [
      "Total length of training dataframes :  1048575\n"
     ]
    }
   ],
   "source": [
    "print(\"Total length of training dataframes : \",(len(df_train_1)+len(df_train_2)+len(df_train_3)+len(df_train_4)))"
   ],
   "metadata": {
    "collapsed": false,
    "ExecuteTime": {
     "end_time": "2023-08-21T21:00:04.023660Z",
     "start_time": "2023-08-21T21:00:04.016545Z"
    }
   },
   "id": "881b17b9b43cf387"
  },
  {
   "cell_type": "markdown",
   "source": [
    "### Merging all training dataframes into one single dataframe"
   ],
   "metadata": {
    "collapsed": false
   },
   "id": "cca2c5005a212006"
  },
  {
   "cell_type": "code",
   "execution_count": 107,
   "outputs": [
    {
     "data": {
      "text/plain": "   id    date  store_nbr      family  sales  onpromotion\n0   0  1/1/13          1  AUTOMOTIVE    0.0            0\n1   1  1/1/13          1   BABY CARE    0.0            0\n2   2  1/1/13          1      BEAUTY    0.0            0\n3   3  1/1/13          1   BEVERAGES    0.0            0\n4   4  1/1/13          1       BOOKS    0.0            0",
      "text/html": "<div>\n<style scoped>\n    .dataframe tbody tr th:only-of-type {\n        vertical-align: middle;\n    }\n\n    .dataframe tbody tr th {\n        vertical-align: top;\n    }\n\n    .dataframe thead th {\n        text-align: right;\n    }\n</style>\n<table border=\"1\" class=\"dataframe\">\n  <thead>\n    <tr style=\"text-align: right;\">\n      <th></th>\n      <th>id</th>\n      <th>date</th>\n      <th>store_nbr</th>\n      <th>family</th>\n      <th>sales</th>\n      <th>onpromotion</th>\n    </tr>\n  </thead>\n  <tbody>\n    <tr>\n      <th>0</th>\n      <td>0</td>\n      <td>1/1/13</td>\n      <td>1</td>\n      <td>AUTOMOTIVE</td>\n      <td>0.0</td>\n      <td>0</td>\n    </tr>\n    <tr>\n      <th>1</th>\n      <td>1</td>\n      <td>1/1/13</td>\n      <td>1</td>\n      <td>BABY CARE</td>\n      <td>0.0</td>\n      <td>0</td>\n    </tr>\n    <tr>\n      <th>2</th>\n      <td>2</td>\n      <td>1/1/13</td>\n      <td>1</td>\n      <td>BEAUTY</td>\n      <td>0.0</td>\n      <td>0</td>\n    </tr>\n    <tr>\n      <th>3</th>\n      <td>3</td>\n      <td>1/1/13</td>\n      <td>1</td>\n      <td>BEVERAGES</td>\n      <td>0.0</td>\n      <td>0</td>\n    </tr>\n    <tr>\n      <th>4</th>\n      <td>4</td>\n      <td>1/1/13</td>\n      <td>1</td>\n      <td>BOOKS</td>\n      <td>0.0</td>\n      <td>0</td>\n    </tr>\n  </tbody>\n</table>\n</div>"
     },
     "execution_count": 107,
     "metadata": {},
     "output_type": "execute_result"
    }
   ],
   "source": [
    "a = df_train_1.append(df_train_2)\n",
    "b = df_train_3.append(df_train_4)\n",
    "df_train = a.append(b)\n",
    "df_train.head()"
   ],
   "metadata": {
    "collapsed": false,
    "ExecuteTime": {
     "end_time": "2023-08-21T21:00:04.807998Z",
     "start_time": "2023-08-21T21:00:04.746625Z"
    }
   },
   "id": "5c02280afe6354f7"
  },
  {
   "cell_type": "code",
   "execution_count": 108,
   "outputs": [
    {
     "name": "stdout",
     "output_type": "stream",
     "text": [
      "Total length of merged dataframe :  1048575\n"
     ]
    }
   ],
   "source": [
    "print(\"Total length of merged dataframe : \",(len(df_train)))"
   ],
   "metadata": {
    "collapsed": false,
    "ExecuteTime": {
     "end_time": "2023-08-21T21:00:05.060650Z",
     "start_time": "2023-08-21T21:00:05.049497Z"
    }
   },
   "id": "d6cd26419e639ba0"
  },
  {
   "cell_type": "markdown",
   "source": [
    "### Importing testing dataset"
   ],
   "metadata": {
    "collapsed": false
   },
   "id": "35638e1c8c6290e9"
  },
  {
   "cell_type": "code",
   "execution_count": 109,
   "outputs": [
    {
     "data": {
      "text/plain": "        id        date  store_nbr      family  onpromotion\n0  3000888  2017-08-16          1  AUTOMOTIVE            0\n1  3000889  2017-08-16          1   BABY CARE            0\n2  3000890  2017-08-16          1      BEAUTY            2\n3  3000891  2017-08-16          1   BEVERAGES           20\n4  3000892  2017-08-16          1       BOOKS            0",
      "text/html": "<div>\n<style scoped>\n    .dataframe tbody tr th:only-of-type {\n        vertical-align: middle;\n    }\n\n    .dataframe tbody tr th {\n        vertical-align: top;\n    }\n\n    .dataframe thead th {\n        text-align: right;\n    }\n</style>\n<table border=\"1\" class=\"dataframe\">\n  <thead>\n    <tr style=\"text-align: right;\">\n      <th></th>\n      <th>id</th>\n      <th>date</th>\n      <th>store_nbr</th>\n      <th>family</th>\n      <th>onpromotion</th>\n    </tr>\n  </thead>\n  <tbody>\n    <tr>\n      <th>0</th>\n      <td>3000888</td>\n      <td>2017-08-16</td>\n      <td>1</td>\n      <td>AUTOMOTIVE</td>\n      <td>0</td>\n    </tr>\n    <tr>\n      <th>1</th>\n      <td>3000889</td>\n      <td>2017-08-16</td>\n      <td>1</td>\n      <td>BABY CARE</td>\n      <td>0</td>\n    </tr>\n    <tr>\n      <th>2</th>\n      <td>3000890</td>\n      <td>2017-08-16</td>\n      <td>1</td>\n      <td>BEAUTY</td>\n      <td>2</td>\n    </tr>\n    <tr>\n      <th>3</th>\n      <td>3000891</td>\n      <td>2017-08-16</td>\n      <td>1</td>\n      <td>BEVERAGES</td>\n      <td>20</td>\n    </tr>\n    <tr>\n      <th>4</th>\n      <td>3000892</td>\n      <td>2017-08-16</td>\n      <td>1</td>\n      <td>BOOKS</td>\n      <td>0</td>\n    </tr>\n  </tbody>\n</table>\n</div>"
     },
     "execution_count": 109,
     "metadata": {},
     "output_type": "execute_result"
    }
   ],
   "source": [
    "df_test = pd.read_csv(\"test.csv\")\n",
    "df_test.head()"
   ],
   "metadata": {
    "collapsed": false,
    "ExecuteTime": {
     "end_time": "2023-08-21T21:00:05.776809Z",
     "start_time": "2023-08-21T21:00:05.761788Z"
    }
   },
   "id": "856cdbdf251a6c4"
  },
  {
   "cell_type": "code",
   "execution_count": 110,
   "outputs": [
    {
     "name": "stdout",
     "output_type": "stream",
     "text": [
      "Total length of testing dataframe :  28512\n"
     ]
    }
   ],
   "source": [
    "print(\"Total length of testing dataframe : \",(len(df_test)))"
   ],
   "metadata": {
    "collapsed": false,
    "ExecuteTime": {
     "end_time": "2023-08-21T21:00:06.095773Z",
     "start_time": "2023-08-21T21:00:06.087811Z"
    }
   },
   "id": "5198b8ec4cd2800f"
  },
  {
   "cell_type": "markdown",
   "source": [
    "### Checking for null values in both training and testing datasets"
   ],
   "metadata": {
    "collapsed": false
   },
   "id": "d47994bab4789bba"
  },
  {
   "cell_type": "code",
   "execution_count": 111,
   "outputs": [
    {
     "data": {
      "text/plain": "id             0\ndate           0\nstore_nbr      0\nfamily         0\nsales          0\nonpromotion    0\ndtype: int64"
     },
     "execution_count": 111,
     "metadata": {},
     "output_type": "execute_result"
    }
   ],
   "source": [
    "df_train.isna().sum()"
   ],
   "metadata": {
    "collapsed": false,
    "ExecuteTime": {
     "end_time": "2023-08-21T21:00:06.914584Z",
     "start_time": "2023-08-21T21:00:06.837715Z"
    }
   },
   "id": "8bd7a636df937a90"
  },
  {
   "cell_type": "code",
   "execution_count": 112,
   "outputs": [
    {
     "data": {
      "text/plain": "id             0\ndate           0\nstore_nbr      0\nfamily         0\nonpromotion    0\ndtype: int64"
     },
     "execution_count": 112,
     "metadata": {},
     "output_type": "execute_result"
    }
   ],
   "source": [
    "df_test.isna().sum()"
   ],
   "metadata": {
    "collapsed": false,
    "ExecuteTime": {
     "end_time": "2023-08-21T21:00:07.068378Z",
     "start_time": "2023-08-21T21:00:07.066304Z"
    }
   },
   "id": "dcce62c23b9edbed"
  },
  {
   "cell_type": "markdown",
   "source": [
    "### Exploring other datasets"
   ],
   "metadata": {
    "collapsed": false
   },
   "id": "62059f032ac8c313"
  },
  {
   "cell_type": "code",
   "execution_count": 113,
   "outputs": [
    {
     "data": {
      "text/plain": "   store_nbr           city                           state type  cluster\n0          1          Quito                       Pichincha    D       13\n1          2          Quito                       Pichincha    D       13\n2          3          Quito                       Pichincha    D        8\n3          4          Quito                       Pichincha    D        9\n4          5  Santo Domingo  Santo Domingo de los Tsachilas    D        4",
      "text/html": "<div>\n<style scoped>\n    .dataframe tbody tr th:only-of-type {\n        vertical-align: middle;\n    }\n\n    .dataframe tbody tr th {\n        vertical-align: top;\n    }\n\n    .dataframe thead th {\n        text-align: right;\n    }\n</style>\n<table border=\"1\" class=\"dataframe\">\n  <thead>\n    <tr style=\"text-align: right;\">\n      <th></th>\n      <th>store_nbr</th>\n      <th>city</th>\n      <th>state</th>\n      <th>type</th>\n      <th>cluster</th>\n    </tr>\n  </thead>\n  <tbody>\n    <tr>\n      <th>0</th>\n      <td>1</td>\n      <td>Quito</td>\n      <td>Pichincha</td>\n      <td>D</td>\n      <td>13</td>\n    </tr>\n    <tr>\n      <th>1</th>\n      <td>2</td>\n      <td>Quito</td>\n      <td>Pichincha</td>\n      <td>D</td>\n      <td>13</td>\n    </tr>\n    <tr>\n      <th>2</th>\n      <td>3</td>\n      <td>Quito</td>\n      <td>Pichincha</td>\n      <td>D</td>\n      <td>8</td>\n    </tr>\n    <tr>\n      <th>3</th>\n      <td>4</td>\n      <td>Quito</td>\n      <td>Pichincha</td>\n      <td>D</td>\n      <td>9</td>\n    </tr>\n    <tr>\n      <th>4</th>\n      <td>5</td>\n      <td>Santo Domingo</td>\n      <td>Santo Domingo de los Tsachilas</td>\n      <td>D</td>\n      <td>4</td>\n    </tr>\n  </tbody>\n</table>\n</div>"
     },
     "execution_count": 113,
     "metadata": {},
     "output_type": "execute_result"
    }
   ],
   "source": [
    "df_stores = pd.read_csv(\"stores.csv\")\n",
    "df_stores.head()"
   ],
   "metadata": {
    "collapsed": false,
    "ExecuteTime": {
     "end_time": "2023-08-21T21:00:07.734273Z",
     "start_time": "2023-08-21T21:00:07.727771Z"
    }
   },
   "id": "4512c2c1711201f3"
  },
  {
   "cell_type": "code",
   "execution_count": 114,
   "outputs": [
    {
     "data": {
      "text/plain": "         date  dcoilwtico\n0  2013-01-01         NaN\n1  2013-01-02       93.14\n2  2013-01-03       92.97\n3  2013-01-04       93.12\n4  2013-01-07       93.20",
      "text/html": "<div>\n<style scoped>\n    .dataframe tbody tr th:only-of-type {\n        vertical-align: middle;\n    }\n\n    .dataframe tbody tr th {\n        vertical-align: top;\n    }\n\n    .dataframe thead th {\n        text-align: right;\n    }\n</style>\n<table border=\"1\" class=\"dataframe\">\n  <thead>\n    <tr style=\"text-align: right;\">\n      <th></th>\n      <th>date</th>\n      <th>dcoilwtico</th>\n    </tr>\n  </thead>\n  <tbody>\n    <tr>\n      <th>0</th>\n      <td>2013-01-01</td>\n      <td>NaN</td>\n    </tr>\n    <tr>\n      <th>1</th>\n      <td>2013-01-02</td>\n      <td>93.14</td>\n    </tr>\n    <tr>\n      <th>2</th>\n      <td>2013-01-03</td>\n      <td>92.97</td>\n    </tr>\n    <tr>\n      <th>3</th>\n      <td>2013-01-04</td>\n      <td>93.12</td>\n    </tr>\n    <tr>\n      <th>4</th>\n      <td>2013-01-07</td>\n      <td>93.20</td>\n    </tr>\n  </tbody>\n</table>\n</div>"
     },
     "execution_count": 114,
     "metadata": {},
     "output_type": "execute_result"
    }
   ],
   "source": [
    "df_oil = pd.read_csv(\"oil.csv\")\n",
    "df_oil.head()"
   ],
   "metadata": {
    "collapsed": false,
    "ExecuteTime": {
     "end_time": "2023-08-21T21:00:08.114913Z",
     "start_time": "2023-08-21T21:00:08.103633Z"
    }
   },
   "id": "8bc6652671614e1a"
  },
  {
   "cell_type": "code",
   "execution_count": 115,
   "outputs": [
    {
     "data": {
      "text/plain": "         date     type    locale locale_name                    description  \\\n0  2012-03-02  Holiday     Local       Manta             Fundacion de Manta   \n1  2012-04-01  Holiday  Regional    Cotopaxi  Provincializacion de Cotopaxi   \n2  2012-04-12  Holiday     Local      Cuenca            Fundacion de Cuenca   \n3  2012-04-14  Holiday     Local    Libertad      Cantonizacion de Libertad   \n4  2012-04-21  Holiday     Local    Riobamba      Cantonizacion de Riobamba   \n\n   transferred  \n0        False  \n1        False  \n2        False  \n3        False  \n4        False  ",
      "text/html": "<div>\n<style scoped>\n    .dataframe tbody tr th:only-of-type {\n        vertical-align: middle;\n    }\n\n    .dataframe tbody tr th {\n        vertical-align: top;\n    }\n\n    .dataframe thead th {\n        text-align: right;\n    }\n</style>\n<table border=\"1\" class=\"dataframe\">\n  <thead>\n    <tr style=\"text-align: right;\">\n      <th></th>\n      <th>date</th>\n      <th>type</th>\n      <th>locale</th>\n      <th>locale_name</th>\n      <th>description</th>\n      <th>transferred</th>\n    </tr>\n  </thead>\n  <tbody>\n    <tr>\n      <th>0</th>\n      <td>2012-03-02</td>\n      <td>Holiday</td>\n      <td>Local</td>\n      <td>Manta</td>\n      <td>Fundacion de Manta</td>\n      <td>False</td>\n    </tr>\n    <tr>\n      <th>1</th>\n      <td>2012-04-01</td>\n      <td>Holiday</td>\n      <td>Regional</td>\n      <td>Cotopaxi</td>\n      <td>Provincializacion de Cotopaxi</td>\n      <td>False</td>\n    </tr>\n    <tr>\n      <th>2</th>\n      <td>2012-04-12</td>\n      <td>Holiday</td>\n      <td>Local</td>\n      <td>Cuenca</td>\n      <td>Fundacion de Cuenca</td>\n      <td>False</td>\n    </tr>\n    <tr>\n      <th>3</th>\n      <td>2012-04-14</td>\n      <td>Holiday</td>\n      <td>Local</td>\n      <td>Libertad</td>\n      <td>Cantonizacion de Libertad</td>\n      <td>False</td>\n    </tr>\n    <tr>\n      <th>4</th>\n      <td>2012-04-21</td>\n      <td>Holiday</td>\n      <td>Local</td>\n      <td>Riobamba</td>\n      <td>Cantonizacion de Riobamba</td>\n      <td>False</td>\n    </tr>\n  </tbody>\n</table>\n</div>"
     },
     "execution_count": 115,
     "metadata": {},
     "output_type": "execute_result"
    }
   ],
   "source": [
    "df_holiday_events = pd.read_csv(\"holidays_events.csv\")\n",
    "df_holiday_events.head()"
   ],
   "metadata": {
    "collapsed": false,
    "ExecuteTime": {
     "end_time": "2023-08-21T21:00:08.602694Z",
     "start_time": "2023-08-21T21:00:08.597309Z"
    }
   },
   "id": "e66c6a7d75b75107"
  },
  {
   "cell_type": "code",
   "execution_count": 116,
   "outputs": [
    {
     "data": {
      "text/plain": "         date  store_nbr  transactions\n0  2013-01-01         25           770\n1  2013-01-02          1          2111\n2  2013-01-02          2          2358\n3  2013-01-02          3          3487\n4  2013-01-02          4          1922",
      "text/html": "<div>\n<style scoped>\n    .dataframe tbody tr th:only-of-type {\n        vertical-align: middle;\n    }\n\n    .dataframe tbody tr th {\n        vertical-align: top;\n    }\n\n    .dataframe thead th {\n        text-align: right;\n    }\n</style>\n<table border=\"1\" class=\"dataframe\">\n  <thead>\n    <tr style=\"text-align: right;\">\n      <th></th>\n      <th>date</th>\n      <th>store_nbr</th>\n      <th>transactions</th>\n    </tr>\n  </thead>\n  <tbody>\n    <tr>\n      <th>0</th>\n      <td>2013-01-01</td>\n      <td>25</td>\n      <td>770</td>\n    </tr>\n    <tr>\n      <th>1</th>\n      <td>2013-01-02</td>\n      <td>1</td>\n      <td>2111</td>\n    </tr>\n    <tr>\n      <th>2</th>\n      <td>2013-01-02</td>\n      <td>2</td>\n      <td>2358</td>\n    </tr>\n    <tr>\n      <th>3</th>\n      <td>2013-01-02</td>\n      <td>3</td>\n      <td>3487</td>\n    </tr>\n    <tr>\n      <th>4</th>\n      <td>2013-01-02</td>\n      <td>4</td>\n      <td>1922</td>\n    </tr>\n  </tbody>\n</table>\n</div>"
     },
     "execution_count": 116,
     "metadata": {},
     "output_type": "execute_result"
    }
   ],
   "source": [
    "df_transactions = pd.read_csv(\"transactions.csv\")\n",
    "df_transactions.head()"
   ],
   "metadata": {
    "collapsed": false,
    "ExecuteTime": {
     "end_time": "2023-08-21T21:00:09.160793Z",
     "start_time": "2023-08-21T21:00:09.145193Z"
    }
   },
   "id": "e876c03a7755cdea"
  },
  {
   "cell_type": "code",
   "execution_count": 117,
   "outputs": [
    {
     "name": "stdout",
     "output_type": "stream",
     "text": [
      "Total length of stores dataframe         :   54\n",
      "Total length of oil dataframe            :   1218\n",
      "Total length of holiday events dataframe :   350\n",
      "Total length of transactions dataframe   :   83488\n"
     ]
    }
   ],
   "source": [
    "print(\"Total length of stores dataframe         :  \",len(df_stores))\n",
    "print(\"Total length of oil dataframe            :  \",len(df_oil))\n",
    "print(\"Total length of holiday events dataframe :  \",len(df_holiday_events))\n",
    "print(\"Total length of transactions dataframe   :  \",len(df_transactions))"
   ],
   "metadata": {
    "collapsed": false,
    "ExecuteTime": {
     "end_time": "2023-08-21T21:00:09.749991Z",
     "start_time": "2023-08-21T21:00:09.704Z"
    }
   },
   "id": "d343856a74848dc3"
  },
  {
   "cell_type": "markdown",
   "source": [
    "### Checking for null values in stores, oil, holiday events, transactions dataframes"
   ],
   "metadata": {
    "collapsed": false
   },
   "id": "58b57e0200f390ae"
  },
  {
   "cell_type": "code",
   "execution_count": 118,
   "outputs": [
    {
     "data": {
      "text/plain": "store_nbr    0\ncity         0\nstate        0\ntype         0\ncluster      0\ndtype: int64"
     },
     "execution_count": 118,
     "metadata": {},
     "output_type": "execute_result"
    }
   ],
   "source": [
    "df_stores.isna().sum()"
   ],
   "metadata": {
    "collapsed": false,
    "ExecuteTime": {
     "end_time": "2023-08-21T21:00:11.427148Z",
     "start_time": "2023-08-21T21:00:11.423539Z"
    }
   },
   "id": "5abe308a6ede10c7"
  },
  {
   "cell_type": "code",
   "execution_count": 119,
   "outputs": [
    {
     "data": {
      "text/plain": "date           0\ndcoilwtico    43\ndtype: int64"
     },
     "execution_count": 119,
     "metadata": {},
     "output_type": "execute_result"
    }
   ],
   "source": [
    "df_oil.isna().sum()"
   ],
   "metadata": {
    "collapsed": false,
    "ExecuteTime": {
     "end_time": "2023-08-21T21:00:11.739228Z",
     "start_time": "2023-08-21T21:00:11.733003Z"
    }
   },
   "id": "d45dd4ea5bd6c42f"
  },
  {
   "cell_type": "code",
   "execution_count": 120,
   "outputs": [
    {
     "data": {
      "text/plain": "date           0\ntype           0\nlocale         0\nlocale_name    0\ndescription    0\ntransferred    0\ndtype: int64"
     },
     "execution_count": 120,
     "metadata": {},
     "output_type": "execute_result"
    }
   ],
   "source": [
    "df_holiday_events.isna().sum()"
   ],
   "metadata": {
    "collapsed": false,
    "ExecuteTime": {
     "end_time": "2023-08-21T21:00:12.170331Z",
     "start_time": "2023-08-21T21:00:12.163347Z"
    }
   },
   "id": "cfa083fbcbcefdcb"
  },
  {
   "cell_type": "code",
   "execution_count": 121,
   "outputs": [
    {
     "data": {
      "text/plain": "date            0\nstore_nbr       0\ntransactions    0\ndtype: int64"
     },
     "execution_count": 121,
     "metadata": {},
     "output_type": "execute_result"
    }
   ],
   "source": [
    "df_transactions.isna().sum()"
   ],
   "metadata": {
    "collapsed": false,
    "ExecuteTime": {
     "end_time": "2023-08-21T21:00:12.570035Z",
     "start_time": "2023-08-21T21:00:12.560790Z"
    }
   },
   "id": "cf929ebf8ce27672"
  },
  {
   "cell_type": "markdown",
   "source": [
    "### Filling in null values in oil dataset"
   ],
   "metadata": {
    "collapsed": false
   },
   "id": "f7b842c9ae5be0ef"
  },
  {
   "cell_type": "code",
   "execution_count": 122,
   "outputs": [
    {
     "data": {
      "text/plain": "         date  dcoilwtico\n0  2013-01-01      93.366\n1  2013-01-02      93.140\n2  2013-01-03      92.970\n3  2013-01-04      93.120\n4  2013-01-07      93.200",
      "text/html": "<div>\n<style scoped>\n    .dataframe tbody tr th:only-of-type {\n        vertical-align: middle;\n    }\n\n    .dataframe tbody tr th {\n        vertical-align: top;\n    }\n\n    .dataframe thead th {\n        text-align: right;\n    }\n</style>\n<table border=\"1\" class=\"dataframe\">\n  <thead>\n    <tr style=\"text-align: right;\">\n      <th></th>\n      <th>date</th>\n      <th>dcoilwtico</th>\n    </tr>\n  </thead>\n  <tbody>\n    <tr>\n      <th>0</th>\n      <td>2013-01-01</td>\n      <td>93.366</td>\n    </tr>\n    <tr>\n      <th>1</th>\n      <td>2013-01-02</td>\n      <td>93.140</td>\n    </tr>\n    <tr>\n      <th>2</th>\n      <td>2013-01-03</td>\n      <td>92.970</td>\n    </tr>\n    <tr>\n      <th>3</th>\n      <td>2013-01-04</td>\n      <td>93.120</td>\n    </tr>\n    <tr>\n      <th>4</th>\n      <td>2013-01-07</td>\n      <td>93.200</td>\n    </tr>\n  </tbody>\n</table>\n</div>"
     },
     "execution_count": 122,
     "metadata": {},
     "output_type": "execute_result"
    }
   ],
   "source": [
    "df_oil_nona = df_oil.copy()\n",
    "modal = df_oil_nona[\"dcoilwtico\"].mode()\n",
    "na = df_oil_nona[df_oil_nona[\"dcoilwtico\"].isna()==True].index.values\n",
    "df_oil_nona.loc[0,\"dcoilwtico\"] = df_oil_nona.loc[0:10,\"dcoilwtico\"].mean()\n",
    "for i in na[1:]:\n",
    "    df_oil_nona.loc[i,\"dcoilwtico\"] = df_oil_nona.loc[(i-10):(i+10),\"dcoilwtico\"].mean()\n",
    "df_oil_nona.head()"
   ],
   "metadata": {
    "collapsed": false,
    "ExecuteTime": {
     "end_time": "2023-08-21T21:00:13.526670Z",
     "start_time": "2023-08-21T21:00:13.518569Z"
    }
   },
   "id": "a032f96b239678c4"
  },
  {
   "cell_type": "code",
   "execution_count": 123,
   "outputs": [
    {
     "data": {
      "text/plain": "date          0\ndcoilwtico    0\ndtype: int64"
     },
     "execution_count": 123,
     "metadata": {},
     "output_type": "execute_result"
    }
   ],
   "source": [
    "df_oil_nona.isna().sum()"
   ],
   "metadata": {
    "collapsed": false,
    "ExecuteTime": {
     "end_time": "2023-08-21T21:00:14.420522Z",
     "start_time": "2023-08-21T21:00:14.417419Z"
    }
   },
   "id": "638be9eda19b4b77"
  },
  {
   "cell_type": "code",
   "execution_count": 124,
   "outputs": [
    {
     "data": {
      "text/plain": "           date        type    locale locale_name  \\\n0    2012-03-02     Holiday     Local       Manta   \n1    2012-04-01     Holiday  Regional    Cotopaxi   \n2    2012-04-12     Holiday     Local      Cuenca   \n3    2012-04-14     Holiday     Local    Libertad   \n4    2012-04-21     Holiday     Local    Riobamba   \n..          ...         ...       ...         ...   \n345  2017-12-22  Additional  National     Ecuador   \n346  2017-12-23  Additional  National     Ecuador   \n347  2017-12-24  Additional  National     Ecuador   \n348  2017-12-25     Holiday  National     Ecuador   \n349  2017-12-26  Additional  National     Ecuador   \n\n                       description  transferred  \n0               Fundacion de Manta        False  \n1    Provincializacion de Cotopaxi        False  \n2              Fundacion de Cuenca        False  \n3        Cantonizacion de Libertad        False  \n4        Cantonizacion de Riobamba        False  \n..                             ...          ...  \n345                      Navidad-3        False  \n346                      Navidad-2        False  \n347                      Navidad-1        False  \n348                        Navidad        False  \n349                      Navidad+1        False  \n\n[350 rows x 6 columns]",
      "text/html": "<div>\n<style scoped>\n    .dataframe tbody tr th:only-of-type {\n        vertical-align: middle;\n    }\n\n    .dataframe tbody tr th {\n        vertical-align: top;\n    }\n\n    .dataframe thead th {\n        text-align: right;\n    }\n</style>\n<table border=\"1\" class=\"dataframe\">\n  <thead>\n    <tr style=\"text-align: right;\">\n      <th></th>\n      <th>date</th>\n      <th>type</th>\n      <th>locale</th>\n      <th>locale_name</th>\n      <th>description</th>\n      <th>transferred</th>\n    </tr>\n  </thead>\n  <tbody>\n    <tr>\n      <th>0</th>\n      <td>2012-03-02</td>\n      <td>Holiday</td>\n      <td>Local</td>\n      <td>Manta</td>\n      <td>Fundacion de Manta</td>\n      <td>False</td>\n    </tr>\n    <tr>\n      <th>1</th>\n      <td>2012-04-01</td>\n      <td>Holiday</td>\n      <td>Regional</td>\n      <td>Cotopaxi</td>\n      <td>Provincializacion de Cotopaxi</td>\n      <td>False</td>\n    </tr>\n    <tr>\n      <th>2</th>\n      <td>2012-04-12</td>\n      <td>Holiday</td>\n      <td>Local</td>\n      <td>Cuenca</td>\n      <td>Fundacion de Cuenca</td>\n      <td>False</td>\n    </tr>\n    <tr>\n      <th>3</th>\n      <td>2012-04-14</td>\n      <td>Holiday</td>\n      <td>Local</td>\n      <td>Libertad</td>\n      <td>Cantonizacion de Libertad</td>\n      <td>False</td>\n    </tr>\n    <tr>\n      <th>4</th>\n      <td>2012-04-21</td>\n      <td>Holiday</td>\n      <td>Local</td>\n      <td>Riobamba</td>\n      <td>Cantonizacion de Riobamba</td>\n      <td>False</td>\n    </tr>\n    <tr>\n      <th>...</th>\n      <td>...</td>\n      <td>...</td>\n      <td>...</td>\n      <td>...</td>\n      <td>...</td>\n      <td>...</td>\n    </tr>\n    <tr>\n      <th>345</th>\n      <td>2017-12-22</td>\n      <td>Additional</td>\n      <td>National</td>\n      <td>Ecuador</td>\n      <td>Navidad-3</td>\n      <td>False</td>\n    </tr>\n    <tr>\n      <th>346</th>\n      <td>2017-12-23</td>\n      <td>Additional</td>\n      <td>National</td>\n      <td>Ecuador</td>\n      <td>Navidad-2</td>\n      <td>False</td>\n    </tr>\n    <tr>\n      <th>347</th>\n      <td>2017-12-24</td>\n      <td>Additional</td>\n      <td>National</td>\n      <td>Ecuador</td>\n      <td>Navidad-1</td>\n      <td>False</td>\n    </tr>\n    <tr>\n      <th>348</th>\n      <td>2017-12-25</td>\n      <td>Holiday</td>\n      <td>National</td>\n      <td>Ecuador</td>\n      <td>Navidad</td>\n      <td>False</td>\n    </tr>\n    <tr>\n      <th>349</th>\n      <td>2017-12-26</td>\n      <td>Additional</td>\n      <td>National</td>\n      <td>Ecuador</td>\n      <td>Navidad+1</td>\n      <td>False</td>\n    </tr>\n  </tbody>\n</table>\n<p>350 rows × 6 columns</p>\n</div>"
     },
     "execution_count": 124,
     "metadata": {},
     "output_type": "execute_result"
    }
   ],
   "source": [
    "df_holiday_events"
   ],
   "metadata": {
    "collapsed": false,
    "ExecuteTime": {
     "end_time": "2023-08-21T21:00:15.480883Z",
     "start_time": "2023-08-21T21:00:15.472242Z"
    }
   },
   "id": "35319590d3bcfd3d"
  },
  {
   "cell_type": "markdown",
   "source": [
    "### Preprocessing the holiday events dataset"
   ],
   "metadata": {
    "collapsed": false
   },
   "id": "9cd59cb976c0716a"
  },
  {
   "cell_type": "code",
   "execution_count": 139,
   "outputs": [
    {
     "data": {
      "text/plain": "           date     type    locale locale_name                    description  \\\n19   2012-10-09  Holiday  National     Ecuador     Independencia de Guayaquil   \n72   2013-10-09  Holiday  National     Ecuador     Independencia de Guayaquil   \n135  2014-10-09  Holiday  National     Ecuador     Independencia de Guayaquil   \n255  2016-05-24  Holiday  National     Ecuador           Batalla de Pichincha   \n266  2016-07-25  Holiday     Local   Guayaquil         Fundacion de Guayaquil   \n268  2016-08-10  Holiday  National     Ecuador  Primer Grito de Independencia   \n297  2017-01-01  Holiday  National     Ecuador             Primer dia del ano   \n303  2017-04-12  Holiday     Local      Cuenca            Fundacion de Cuenca   \n312  2017-05-24  Holiday  National     Ecuador           Batalla de Pichincha   \n324  2017-08-10  Holiday  National     Ecuador  Primer Grito de Independencia   \n328  2017-09-28  Holiday     Local      Ibarra            Fundacion de Ibarra   \n340  2017-12-06  Holiday     Local       Quito             Fundacion de Quito   \n\n     transferred  \n19          True  \n72          True  \n135         True  \n255         True  \n266         True  \n268         True  \n297         True  \n303         True  \n312         True  \n324         True  \n328         True  \n340         True  ",
      "text/html": "<div>\n<style scoped>\n    .dataframe tbody tr th:only-of-type {\n        vertical-align: middle;\n    }\n\n    .dataframe tbody tr th {\n        vertical-align: top;\n    }\n\n    .dataframe thead th {\n        text-align: right;\n    }\n</style>\n<table border=\"1\" class=\"dataframe\">\n  <thead>\n    <tr style=\"text-align: right;\">\n      <th></th>\n      <th>date</th>\n      <th>type</th>\n      <th>locale</th>\n      <th>locale_name</th>\n      <th>description</th>\n      <th>transferred</th>\n    </tr>\n  </thead>\n  <tbody>\n    <tr>\n      <th>19</th>\n      <td>2012-10-09</td>\n      <td>Holiday</td>\n      <td>National</td>\n      <td>Ecuador</td>\n      <td>Independencia de Guayaquil</td>\n      <td>True</td>\n    </tr>\n    <tr>\n      <th>72</th>\n      <td>2013-10-09</td>\n      <td>Holiday</td>\n      <td>National</td>\n      <td>Ecuador</td>\n      <td>Independencia de Guayaquil</td>\n      <td>True</td>\n    </tr>\n    <tr>\n      <th>135</th>\n      <td>2014-10-09</td>\n      <td>Holiday</td>\n      <td>National</td>\n      <td>Ecuador</td>\n      <td>Independencia de Guayaquil</td>\n      <td>True</td>\n    </tr>\n    <tr>\n      <th>255</th>\n      <td>2016-05-24</td>\n      <td>Holiday</td>\n      <td>National</td>\n      <td>Ecuador</td>\n      <td>Batalla de Pichincha</td>\n      <td>True</td>\n    </tr>\n    <tr>\n      <th>266</th>\n      <td>2016-07-25</td>\n      <td>Holiday</td>\n      <td>Local</td>\n      <td>Guayaquil</td>\n      <td>Fundacion de Guayaquil</td>\n      <td>True</td>\n    </tr>\n    <tr>\n      <th>268</th>\n      <td>2016-08-10</td>\n      <td>Holiday</td>\n      <td>National</td>\n      <td>Ecuador</td>\n      <td>Primer Grito de Independencia</td>\n      <td>True</td>\n    </tr>\n    <tr>\n      <th>297</th>\n      <td>2017-01-01</td>\n      <td>Holiday</td>\n      <td>National</td>\n      <td>Ecuador</td>\n      <td>Primer dia del ano</td>\n      <td>True</td>\n    </tr>\n    <tr>\n      <th>303</th>\n      <td>2017-04-12</td>\n      <td>Holiday</td>\n      <td>Local</td>\n      <td>Cuenca</td>\n      <td>Fundacion de Cuenca</td>\n      <td>True</td>\n    </tr>\n    <tr>\n      <th>312</th>\n      <td>2017-05-24</td>\n      <td>Holiday</td>\n      <td>National</td>\n      <td>Ecuador</td>\n      <td>Batalla de Pichincha</td>\n      <td>True</td>\n    </tr>\n    <tr>\n      <th>324</th>\n      <td>2017-08-10</td>\n      <td>Holiday</td>\n      <td>National</td>\n      <td>Ecuador</td>\n      <td>Primer Grito de Independencia</td>\n      <td>True</td>\n    </tr>\n    <tr>\n      <th>328</th>\n      <td>2017-09-28</td>\n      <td>Holiday</td>\n      <td>Local</td>\n      <td>Ibarra</td>\n      <td>Fundacion de Ibarra</td>\n      <td>True</td>\n    </tr>\n    <tr>\n      <th>340</th>\n      <td>2017-12-06</td>\n      <td>Holiday</td>\n      <td>Local</td>\n      <td>Quito</td>\n      <td>Fundacion de Quito</td>\n      <td>True</td>\n    </tr>\n  </tbody>\n</table>\n</div>"
     },
     "execution_count": 139,
     "metadata": {},
     "output_type": "execute_result"
    }
   ],
   "source": [
    "before_transfer = df_holiday_events[df_holiday_events[\"transferred\"]==True]\n",
    "before_transfer"
   ],
   "metadata": {
    "collapsed": false,
    "ExecuteTime": {
     "end_time": "2023-08-21T21:05:30.232801Z",
     "start_time": "2023-08-21T21:05:30.184982Z"
    }
   },
   "id": "f965fdcafa3f3244"
  },
  {
   "cell_type": "code",
   "execution_count": 140,
   "outputs": [
    {
     "data": {
      "text/plain": "           date      type    locale locale_name  \\\n20   2012-10-12  Transfer  National     Ecuador   \n73   2013-10-11  Transfer  National     Ecuador   \n136  2014-10-10  Transfer  National     Ecuador   \n256  2016-05-27  Transfer  National     Ecuador   \n265  2016-07-24  Transfer     Local   Guayaquil   \n269  2016-08-12  Transfer  National     Ecuador   \n298  2017-01-02  Transfer  National     Ecuador   \n304  2017-04-13  Transfer     Local      Cuenca   \n313  2017-05-26  Transfer  National     Ecuador   \n325  2017-08-11  Transfer  National     Ecuador   \n329  2017-09-29  Transfer     Local      Ibarra   \n342  2017-12-08  Transfer     Local       Quito   \n\n                                description  transferred  \n20      Traslado Independencia de Guayaquil        False  \n73      Traslado Independencia de Guayaquil        False  \n136     Traslado Independencia de Guayaquil        False  \n256           Traslado Batalla de Pichincha        False  \n265         Traslado Fundacion de Guayaquil        False  \n269  Traslado Primer Grito de Independencia        False  \n298             Traslado Primer dia del ano        False  \n304                     Fundacion de Cuenca        False  \n313           Traslado Batalla de Pichincha        False  \n325  Traslado Primer Grito de Independencia        False  \n329                     Fundacion de Ibarra        False  \n342             Traslado Fundacion de Quito        False  ",
      "text/html": "<div>\n<style scoped>\n    .dataframe tbody tr th:only-of-type {\n        vertical-align: middle;\n    }\n\n    .dataframe tbody tr th {\n        vertical-align: top;\n    }\n\n    .dataframe thead th {\n        text-align: right;\n    }\n</style>\n<table border=\"1\" class=\"dataframe\">\n  <thead>\n    <tr style=\"text-align: right;\">\n      <th></th>\n      <th>date</th>\n      <th>type</th>\n      <th>locale</th>\n      <th>locale_name</th>\n      <th>description</th>\n      <th>transferred</th>\n    </tr>\n  </thead>\n  <tbody>\n    <tr>\n      <th>20</th>\n      <td>2012-10-12</td>\n      <td>Transfer</td>\n      <td>National</td>\n      <td>Ecuador</td>\n      <td>Traslado Independencia de Guayaquil</td>\n      <td>False</td>\n    </tr>\n    <tr>\n      <th>73</th>\n      <td>2013-10-11</td>\n      <td>Transfer</td>\n      <td>National</td>\n      <td>Ecuador</td>\n      <td>Traslado Independencia de Guayaquil</td>\n      <td>False</td>\n    </tr>\n    <tr>\n      <th>136</th>\n      <td>2014-10-10</td>\n      <td>Transfer</td>\n      <td>National</td>\n      <td>Ecuador</td>\n      <td>Traslado Independencia de Guayaquil</td>\n      <td>False</td>\n    </tr>\n    <tr>\n      <th>256</th>\n      <td>2016-05-27</td>\n      <td>Transfer</td>\n      <td>National</td>\n      <td>Ecuador</td>\n      <td>Traslado Batalla de Pichincha</td>\n      <td>False</td>\n    </tr>\n    <tr>\n      <th>265</th>\n      <td>2016-07-24</td>\n      <td>Transfer</td>\n      <td>Local</td>\n      <td>Guayaquil</td>\n      <td>Traslado Fundacion de Guayaquil</td>\n      <td>False</td>\n    </tr>\n    <tr>\n      <th>269</th>\n      <td>2016-08-12</td>\n      <td>Transfer</td>\n      <td>National</td>\n      <td>Ecuador</td>\n      <td>Traslado Primer Grito de Independencia</td>\n      <td>False</td>\n    </tr>\n    <tr>\n      <th>298</th>\n      <td>2017-01-02</td>\n      <td>Transfer</td>\n      <td>National</td>\n      <td>Ecuador</td>\n      <td>Traslado Primer dia del ano</td>\n      <td>False</td>\n    </tr>\n    <tr>\n      <th>304</th>\n      <td>2017-04-13</td>\n      <td>Transfer</td>\n      <td>Local</td>\n      <td>Cuenca</td>\n      <td>Fundacion de Cuenca</td>\n      <td>False</td>\n    </tr>\n    <tr>\n      <th>313</th>\n      <td>2017-05-26</td>\n      <td>Transfer</td>\n      <td>National</td>\n      <td>Ecuador</td>\n      <td>Traslado Batalla de Pichincha</td>\n      <td>False</td>\n    </tr>\n    <tr>\n      <th>325</th>\n      <td>2017-08-11</td>\n      <td>Transfer</td>\n      <td>National</td>\n      <td>Ecuador</td>\n      <td>Traslado Primer Grito de Independencia</td>\n      <td>False</td>\n    </tr>\n    <tr>\n      <th>329</th>\n      <td>2017-09-29</td>\n      <td>Transfer</td>\n      <td>Local</td>\n      <td>Ibarra</td>\n      <td>Fundacion de Ibarra</td>\n      <td>False</td>\n    </tr>\n    <tr>\n      <th>342</th>\n      <td>2017-12-08</td>\n      <td>Transfer</td>\n      <td>Local</td>\n      <td>Quito</td>\n      <td>Traslado Fundacion de Quito</td>\n      <td>False</td>\n    </tr>\n  </tbody>\n</table>\n</div>"
     },
     "execution_count": 140,
     "metadata": {},
     "output_type": "execute_result"
    }
   ],
   "source": [
    "after_transfer = df_holiday_events[df_holiday_events[\"type\"]==\"Transfer\"]\n",
    "after_transfer"
   ],
   "metadata": {
    "collapsed": false,
    "ExecuteTime": {
     "end_time": "2023-08-21T21:05:32.164741Z",
     "start_time": "2023-08-21T21:05:32.156273Z"
    }
   },
   "id": "c5670eaee32171a0"
  },
  {
   "cell_type": "code",
   "execution_count": 141,
   "outputs": [],
   "source": [
    "df_holiday_trans = df_holiday_events.drop(before_transfer.index.values,axis=0,inplace=False)\n",
    "ts = after_transfer.index.values\n",
    "for i in ts:\n",
    "    st = df_holiday_trans.loc[i,\"description\"]\n",
    "    ls = st.split(\" \")\n",
    "    if \"Traslado\" in ls:\n",
    "        ls.remove(\"Traslado\")\n",
    "    df_holiday_trans.loc[i,\"description\"] = \" \".join(ls)"
   ],
   "metadata": {
    "collapsed": false,
    "ExecuteTime": {
     "end_time": "2023-08-21T21:05:35.967052Z",
     "start_time": "2023-08-21T21:05:35.959430Z"
    }
   },
   "id": "891d273321562944"
  },
  {
   "cell_type": "code",
   "execution_count": 142,
   "outputs": [
    {
     "data": {
      "text/plain": "           date    type    locale locale_name                description  \\\n35   2012-12-24  Bridge  National     Ecuador             Puente Navidad   \n39   2012-12-31  Bridge  National     Ecuador  Puente Primer dia del ano   \n156  2014-12-26  Bridge  National     Ecuador             Puente Navidad   \n160  2015-01-02  Bridge  National     Ecuador  Puente Primer dia del ano   \n277  2016-11-04  Bridge  National     Ecuador     Puente Dia de Difuntos   \n\n     transferred  \n35         False  \n39         False  \n156        False  \n160        False  \n277        False  ",
      "text/html": "<div>\n<style scoped>\n    .dataframe tbody tr th:only-of-type {\n        vertical-align: middle;\n    }\n\n    .dataframe tbody tr th {\n        vertical-align: top;\n    }\n\n    .dataframe thead th {\n        text-align: right;\n    }\n</style>\n<table border=\"1\" class=\"dataframe\">\n  <thead>\n    <tr style=\"text-align: right;\">\n      <th></th>\n      <th>date</th>\n      <th>type</th>\n      <th>locale</th>\n      <th>locale_name</th>\n      <th>description</th>\n      <th>transferred</th>\n    </tr>\n  </thead>\n  <tbody>\n    <tr>\n      <th>35</th>\n      <td>2012-12-24</td>\n      <td>Bridge</td>\n      <td>National</td>\n      <td>Ecuador</td>\n      <td>Puente Navidad</td>\n      <td>False</td>\n    </tr>\n    <tr>\n      <th>39</th>\n      <td>2012-12-31</td>\n      <td>Bridge</td>\n      <td>National</td>\n      <td>Ecuador</td>\n      <td>Puente Primer dia del ano</td>\n      <td>False</td>\n    </tr>\n    <tr>\n      <th>156</th>\n      <td>2014-12-26</td>\n      <td>Bridge</td>\n      <td>National</td>\n      <td>Ecuador</td>\n      <td>Puente Navidad</td>\n      <td>False</td>\n    </tr>\n    <tr>\n      <th>160</th>\n      <td>2015-01-02</td>\n      <td>Bridge</td>\n      <td>National</td>\n      <td>Ecuador</td>\n      <td>Puente Primer dia del ano</td>\n      <td>False</td>\n    </tr>\n    <tr>\n      <th>277</th>\n      <td>2016-11-04</td>\n      <td>Bridge</td>\n      <td>National</td>\n      <td>Ecuador</td>\n      <td>Puente Dia de Difuntos</td>\n      <td>False</td>\n    </tr>\n  </tbody>\n</table>\n</div>"
     },
     "execution_count": 142,
     "metadata": {},
     "output_type": "execute_result"
    }
   ],
   "source": [
    "df_holiday_trans[df_holiday_trans[\"type\"]==\"Bridge\"]"
   ],
   "metadata": {
    "collapsed": false,
    "ExecuteTime": {
     "end_time": "2023-08-21T21:05:36.822751Z",
     "start_time": "2023-08-21T21:05:36.814854Z"
    }
   },
   "id": "9d11710ffe5e2f14"
  },
  {
   "cell_type": "code",
   "execution_count": 143,
   "outputs": [
    {
     "data": {
      "text/plain": "array(['Holiday', 'Transfer', 'Additional', 'Bridge', 'Work Day', 'Event'],\n      dtype=object)"
     },
     "execution_count": 143,
     "metadata": {},
     "output_type": "execute_result"
    }
   ],
   "source": [
    "df_holiday_trans[\"type\"].unique()"
   ],
   "metadata": {
    "collapsed": false,
    "ExecuteTime": {
     "end_time": "2023-08-21T21:05:41.914734Z",
     "start_time": "2023-08-21T21:05:41.898712Z"
    }
   },
   "id": "7d24e3314f06de7a"
  },
  {
   "cell_type": "code",
   "execution_count": 144,
   "outputs": [
    {
     "data": {
      "text/plain": "           date        type    locale locale_name               description  \\\n28   2012-12-05  Additional     Local       Quito      Fundacion de Quito-1   \n31   2012-12-21  Additional  National     Ecuador                 Navidad-4   \n33   2012-12-22  Additional  National     Ecuador                 Navidad-3   \n34   2012-12-23  Additional  National     Ecuador                 Navidad-2   \n36   2012-12-24  Additional  National     Ecuador                 Navidad-1   \n38   2012-12-26  Additional  National     Ecuador                 Navidad+1   \n40   2012-12-31  Additional  National     Ecuador      Primer dia del ano-1   \n53   2013-05-11  Additional  National     Ecuador         Dia de la Madre-1   \n64   2013-07-24  Additional     Local   Guayaquil  Fundacion de Guayaquil-1   \n81   2013-12-05  Additional     Local       Quito      Fundacion de Quito-1   \n84   2013-12-21  Additional  National     Ecuador                 Navidad-4   \n85   2013-12-22  Additional  National     Ecuador                 Navidad-3   \n87   2013-12-23  Additional  National     Ecuador                 Navidad-2   \n88   2013-12-24  Additional  National     Ecuador                 Navidad-1   \n90   2013-12-26  Additional  National     Ecuador                 Navidad+1   \n91   2013-12-31  Additional  National     Ecuador      Primer dia del ano-1   \n102  2014-05-10  Additional  National     Ecuador         Dia de la Madre-1   \n127  2014-07-24  Additional     Local   Guayaquil  Fundacion de Guayaquil-1   \n146  2014-12-05  Additional     Local       Quito      Fundacion de Quito-1   \n150  2014-12-21  Additional  National     Ecuador                 Navidad-4   \n152  2014-12-22  Additional  National     Ecuador                 Navidad-3   \n153  2014-12-23  Additional  National     Ecuador                 Navidad-2   \n154  2014-12-24  Additional  National     Ecuador                 Navidad-1   \n157  2014-12-26  Additional  National     Ecuador                 Navidad+1   \n158  2014-12-31  Additional  National     Ecuador      Primer dia del ano-1   \n171  2015-05-09  Additional  National     Ecuador         Dia de la Madre-1   \n200  2015-12-05  Additional     Local       Quito      Fundacion de Quito-1   \n203  2015-12-21  Additional  National     Ecuador                 Navidad-4   \n204  2015-12-22  Additional  National     Ecuador                 Navidad-3   \n206  2015-12-23  Additional  National     Ecuador                 Navidad-2   \n207  2015-12-24  Additional  National     Ecuador                 Navidad-1   \n209  2015-12-26  Additional  National     Ecuador                 Navidad+1   \n210  2015-12-31  Additional  National     Ecuador      Primer dia del ano-1   \n242  2016-05-07  Additional  National     Ecuador         Dia de la Madre-1   \n264  2016-07-24  Additional     Local   Guayaquil  Fundacion de Guayaquil-1   \n286  2016-12-05  Additional     Local       Quito      Fundacion de Quito-1   \n289  2016-12-21  Additional  National     Ecuador                 Navidad-4   \n290  2016-12-22  Additional  National     Ecuador                 Navidad-3   \n292  2016-12-23  Additional  National     Ecuador                 Navidad-2   \n293  2016-12-24  Additional  National     Ecuador                 Navidad-1   \n295  2016-12-26  Additional  National     Ecuador                 Navidad+1   \n296  2016-12-31  Additional  National     Ecuador      Primer dia del ano-1   \n310  2017-05-13  Additional  National     Ecuador         Dia de la Madre-1   \n321  2017-07-24  Additional     Local   Guayaquil  Fundacion de Guayaquil-1   \n322  2017-07-25  Additional     Local   Guayaquil    Fundacion de Guayaquil   \n339  2017-12-05  Additional     Local       Quito      Fundacion de Quito-1   \n343  2017-12-21  Additional  National     Ecuador                 Navidad-4   \n345  2017-12-22  Additional  National     Ecuador                 Navidad-3   \n346  2017-12-23  Additional  National     Ecuador                 Navidad-2   \n347  2017-12-24  Additional  National     Ecuador                 Navidad-1   \n349  2017-12-26  Additional  National     Ecuador                 Navidad+1   \n\n     transferred  \n28         False  \n31         False  \n33         False  \n34         False  \n36         False  \n38         False  \n40         False  \n53         False  \n64         False  \n81         False  \n84         False  \n85         False  \n87         False  \n88         False  \n90         False  \n91         False  \n102        False  \n127        False  \n146        False  \n150        False  \n152        False  \n153        False  \n154        False  \n157        False  \n158        False  \n171        False  \n200        False  \n203        False  \n204        False  \n206        False  \n207        False  \n209        False  \n210        False  \n242        False  \n264        False  \n286        False  \n289        False  \n290        False  \n292        False  \n293        False  \n295        False  \n296        False  \n310        False  \n321        False  \n322        False  \n339        False  \n343        False  \n345        False  \n346        False  \n347        False  \n349        False  ",
      "text/html": "<div>\n<style scoped>\n    .dataframe tbody tr th:only-of-type {\n        vertical-align: middle;\n    }\n\n    .dataframe tbody tr th {\n        vertical-align: top;\n    }\n\n    .dataframe thead th {\n        text-align: right;\n    }\n</style>\n<table border=\"1\" class=\"dataframe\">\n  <thead>\n    <tr style=\"text-align: right;\">\n      <th></th>\n      <th>date</th>\n      <th>type</th>\n      <th>locale</th>\n      <th>locale_name</th>\n      <th>description</th>\n      <th>transferred</th>\n    </tr>\n  </thead>\n  <tbody>\n    <tr>\n      <th>28</th>\n      <td>2012-12-05</td>\n      <td>Additional</td>\n      <td>Local</td>\n      <td>Quito</td>\n      <td>Fundacion de Quito-1</td>\n      <td>False</td>\n    </tr>\n    <tr>\n      <th>31</th>\n      <td>2012-12-21</td>\n      <td>Additional</td>\n      <td>National</td>\n      <td>Ecuador</td>\n      <td>Navidad-4</td>\n      <td>False</td>\n    </tr>\n    <tr>\n      <th>33</th>\n      <td>2012-12-22</td>\n      <td>Additional</td>\n      <td>National</td>\n      <td>Ecuador</td>\n      <td>Navidad-3</td>\n      <td>False</td>\n    </tr>\n    <tr>\n      <th>34</th>\n      <td>2012-12-23</td>\n      <td>Additional</td>\n      <td>National</td>\n      <td>Ecuador</td>\n      <td>Navidad-2</td>\n      <td>False</td>\n    </tr>\n    <tr>\n      <th>36</th>\n      <td>2012-12-24</td>\n      <td>Additional</td>\n      <td>National</td>\n      <td>Ecuador</td>\n      <td>Navidad-1</td>\n      <td>False</td>\n    </tr>\n    <tr>\n      <th>38</th>\n      <td>2012-12-26</td>\n      <td>Additional</td>\n      <td>National</td>\n      <td>Ecuador</td>\n      <td>Navidad+1</td>\n      <td>False</td>\n    </tr>\n    <tr>\n      <th>40</th>\n      <td>2012-12-31</td>\n      <td>Additional</td>\n      <td>National</td>\n      <td>Ecuador</td>\n      <td>Primer dia del ano-1</td>\n      <td>False</td>\n    </tr>\n    <tr>\n      <th>53</th>\n      <td>2013-05-11</td>\n      <td>Additional</td>\n      <td>National</td>\n      <td>Ecuador</td>\n      <td>Dia de la Madre-1</td>\n      <td>False</td>\n    </tr>\n    <tr>\n      <th>64</th>\n      <td>2013-07-24</td>\n      <td>Additional</td>\n      <td>Local</td>\n      <td>Guayaquil</td>\n      <td>Fundacion de Guayaquil-1</td>\n      <td>False</td>\n    </tr>\n    <tr>\n      <th>81</th>\n      <td>2013-12-05</td>\n      <td>Additional</td>\n      <td>Local</td>\n      <td>Quito</td>\n      <td>Fundacion de Quito-1</td>\n      <td>False</td>\n    </tr>\n    <tr>\n      <th>84</th>\n      <td>2013-12-21</td>\n      <td>Additional</td>\n      <td>National</td>\n      <td>Ecuador</td>\n      <td>Navidad-4</td>\n      <td>False</td>\n    </tr>\n    <tr>\n      <th>85</th>\n      <td>2013-12-22</td>\n      <td>Additional</td>\n      <td>National</td>\n      <td>Ecuador</td>\n      <td>Navidad-3</td>\n      <td>False</td>\n    </tr>\n    <tr>\n      <th>87</th>\n      <td>2013-12-23</td>\n      <td>Additional</td>\n      <td>National</td>\n      <td>Ecuador</td>\n      <td>Navidad-2</td>\n      <td>False</td>\n    </tr>\n    <tr>\n      <th>88</th>\n      <td>2013-12-24</td>\n      <td>Additional</td>\n      <td>National</td>\n      <td>Ecuador</td>\n      <td>Navidad-1</td>\n      <td>False</td>\n    </tr>\n    <tr>\n      <th>90</th>\n      <td>2013-12-26</td>\n      <td>Additional</td>\n      <td>National</td>\n      <td>Ecuador</td>\n      <td>Navidad+1</td>\n      <td>False</td>\n    </tr>\n    <tr>\n      <th>91</th>\n      <td>2013-12-31</td>\n      <td>Additional</td>\n      <td>National</td>\n      <td>Ecuador</td>\n      <td>Primer dia del ano-1</td>\n      <td>False</td>\n    </tr>\n    <tr>\n      <th>102</th>\n      <td>2014-05-10</td>\n      <td>Additional</td>\n      <td>National</td>\n      <td>Ecuador</td>\n      <td>Dia de la Madre-1</td>\n      <td>False</td>\n    </tr>\n    <tr>\n      <th>127</th>\n      <td>2014-07-24</td>\n      <td>Additional</td>\n      <td>Local</td>\n      <td>Guayaquil</td>\n      <td>Fundacion de Guayaquil-1</td>\n      <td>False</td>\n    </tr>\n    <tr>\n      <th>146</th>\n      <td>2014-12-05</td>\n      <td>Additional</td>\n      <td>Local</td>\n      <td>Quito</td>\n      <td>Fundacion de Quito-1</td>\n      <td>False</td>\n    </tr>\n    <tr>\n      <th>150</th>\n      <td>2014-12-21</td>\n      <td>Additional</td>\n      <td>National</td>\n      <td>Ecuador</td>\n      <td>Navidad-4</td>\n      <td>False</td>\n    </tr>\n    <tr>\n      <th>152</th>\n      <td>2014-12-22</td>\n      <td>Additional</td>\n      <td>National</td>\n      <td>Ecuador</td>\n      <td>Navidad-3</td>\n      <td>False</td>\n    </tr>\n    <tr>\n      <th>153</th>\n      <td>2014-12-23</td>\n      <td>Additional</td>\n      <td>National</td>\n      <td>Ecuador</td>\n      <td>Navidad-2</td>\n      <td>False</td>\n    </tr>\n    <tr>\n      <th>154</th>\n      <td>2014-12-24</td>\n      <td>Additional</td>\n      <td>National</td>\n      <td>Ecuador</td>\n      <td>Navidad-1</td>\n      <td>False</td>\n    </tr>\n    <tr>\n      <th>157</th>\n      <td>2014-12-26</td>\n      <td>Additional</td>\n      <td>National</td>\n      <td>Ecuador</td>\n      <td>Navidad+1</td>\n      <td>False</td>\n    </tr>\n    <tr>\n      <th>158</th>\n      <td>2014-12-31</td>\n      <td>Additional</td>\n      <td>National</td>\n      <td>Ecuador</td>\n      <td>Primer dia del ano-1</td>\n      <td>False</td>\n    </tr>\n    <tr>\n      <th>171</th>\n      <td>2015-05-09</td>\n      <td>Additional</td>\n      <td>National</td>\n      <td>Ecuador</td>\n      <td>Dia de la Madre-1</td>\n      <td>False</td>\n    </tr>\n    <tr>\n      <th>200</th>\n      <td>2015-12-05</td>\n      <td>Additional</td>\n      <td>Local</td>\n      <td>Quito</td>\n      <td>Fundacion de Quito-1</td>\n      <td>False</td>\n    </tr>\n    <tr>\n      <th>203</th>\n      <td>2015-12-21</td>\n      <td>Additional</td>\n      <td>National</td>\n      <td>Ecuador</td>\n      <td>Navidad-4</td>\n      <td>False</td>\n    </tr>\n    <tr>\n      <th>204</th>\n      <td>2015-12-22</td>\n      <td>Additional</td>\n      <td>National</td>\n      <td>Ecuador</td>\n      <td>Navidad-3</td>\n      <td>False</td>\n    </tr>\n    <tr>\n      <th>206</th>\n      <td>2015-12-23</td>\n      <td>Additional</td>\n      <td>National</td>\n      <td>Ecuador</td>\n      <td>Navidad-2</td>\n      <td>False</td>\n    </tr>\n    <tr>\n      <th>207</th>\n      <td>2015-12-24</td>\n      <td>Additional</td>\n      <td>National</td>\n      <td>Ecuador</td>\n      <td>Navidad-1</td>\n      <td>False</td>\n    </tr>\n    <tr>\n      <th>209</th>\n      <td>2015-12-26</td>\n      <td>Additional</td>\n      <td>National</td>\n      <td>Ecuador</td>\n      <td>Navidad+1</td>\n      <td>False</td>\n    </tr>\n    <tr>\n      <th>210</th>\n      <td>2015-12-31</td>\n      <td>Additional</td>\n      <td>National</td>\n      <td>Ecuador</td>\n      <td>Primer dia del ano-1</td>\n      <td>False</td>\n    </tr>\n    <tr>\n      <th>242</th>\n      <td>2016-05-07</td>\n      <td>Additional</td>\n      <td>National</td>\n      <td>Ecuador</td>\n      <td>Dia de la Madre-1</td>\n      <td>False</td>\n    </tr>\n    <tr>\n      <th>264</th>\n      <td>2016-07-24</td>\n      <td>Additional</td>\n      <td>Local</td>\n      <td>Guayaquil</td>\n      <td>Fundacion de Guayaquil-1</td>\n      <td>False</td>\n    </tr>\n    <tr>\n      <th>286</th>\n      <td>2016-12-05</td>\n      <td>Additional</td>\n      <td>Local</td>\n      <td>Quito</td>\n      <td>Fundacion de Quito-1</td>\n      <td>False</td>\n    </tr>\n    <tr>\n      <th>289</th>\n      <td>2016-12-21</td>\n      <td>Additional</td>\n      <td>National</td>\n      <td>Ecuador</td>\n      <td>Navidad-4</td>\n      <td>False</td>\n    </tr>\n    <tr>\n      <th>290</th>\n      <td>2016-12-22</td>\n      <td>Additional</td>\n      <td>National</td>\n      <td>Ecuador</td>\n      <td>Navidad-3</td>\n      <td>False</td>\n    </tr>\n    <tr>\n      <th>292</th>\n      <td>2016-12-23</td>\n      <td>Additional</td>\n      <td>National</td>\n      <td>Ecuador</td>\n      <td>Navidad-2</td>\n      <td>False</td>\n    </tr>\n    <tr>\n      <th>293</th>\n      <td>2016-12-24</td>\n      <td>Additional</td>\n      <td>National</td>\n      <td>Ecuador</td>\n      <td>Navidad-1</td>\n      <td>False</td>\n    </tr>\n    <tr>\n      <th>295</th>\n      <td>2016-12-26</td>\n      <td>Additional</td>\n      <td>National</td>\n      <td>Ecuador</td>\n      <td>Navidad+1</td>\n      <td>False</td>\n    </tr>\n    <tr>\n      <th>296</th>\n      <td>2016-12-31</td>\n      <td>Additional</td>\n      <td>National</td>\n      <td>Ecuador</td>\n      <td>Primer dia del ano-1</td>\n      <td>False</td>\n    </tr>\n    <tr>\n      <th>310</th>\n      <td>2017-05-13</td>\n      <td>Additional</td>\n      <td>National</td>\n      <td>Ecuador</td>\n      <td>Dia de la Madre-1</td>\n      <td>False</td>\n    </tr>\n    <tr>\n      <th>321</th>\n      <td>2017-07-24</td>\n      <td>Additional</td>\n      <td>Local</td>\n      <td>Guayaquil</td>\n      <td>Fundacion de Guayaquil-1</td>\n      <td>False</td>\n    </tr>\n    <tr>\n      <th>322</th>\n      <td>2017-07-25</td>\n      <td>Additional</td>\n      <td>Local</td>\n      <td>Guayaquil</td>\n      <td>Fundacion de Guayaquil</td>\n      <td>False</td>\n    </tr>\n    <tr>\n      <th>339</th>\n      <td>2017-12-05</td>\n      <td>Additional</td>\n      <td>Local</td>\n      <td>Quito</td>\n      <td>Fundacion de Quito-1</td>\n      <td>False</td>\n    </tr>\n    <tr>\n      <th>343</th>\n      <td>2017-12-21</td>\n      <td>Additional</td>\n      <td>National</td>\n      <td>Ecuador</td>\n      <td>Navidad-4</td>\n      <td>False</td>\n    </tr>\n    <tr>\n      <th>345</th>\n      <td>2017-12-22</td>\n      <td>Additional</td>\n      <td>National</td>\n      <td>Ecuador</td>\n      <td>Navidad-3</td>\n      <td>False</td>\n    </tr>\n    <tr>\n      <th>346</th>\n      <td>2017-12-23</td>\n      <td>Additional</td>\n      <td>National</td>\n      <td>Ecuador</td>\n      <td>Navidad-2</td>\n      <td>False</td>\n    </tr>\n    <tr>\n      <th>347</th>\n      <td>2017-12-24</td>\n      <td>Additional</td>\n      <td>National</td>\n      <td>Ecuador</td>\n      <td>Navidad-1</td>\n      <td>False</td>\n    </tr>\n    <tr>\n      <th>349</th>\n      <td>2017-12-26</td>\n      <td>Additional</td>\n      <td>National</td>\n      <td>Ecuador</td>\n      <td>Navidad+1</td>\n      <td>False</td>\n    </tr>\n  </tbody>\n</table>\n</div>"
     },
     "execution_count": 144,
     "metadata": {},
     "output_type": "execute_result"
    }
   ],
   "source": [
    "df_holiday_trans[df_holiday_trans[\"type\"]==\"Additional\"]"
   ],
   "metadata": {
    "collapsed": false,
    "ExecuteTime": {
     "end_time": "2023-08-21T21:05:43.613372Z",
     "start_time": "2023-08-21T21:05:43.608811Z"
    }
   },
   "id": "d1b2e6e26adcef59"
  },
  {
   "cell_type": "code",
   "execution_count": 146,
   "outputs": [
    {
     "data": {
      "text/plain": "array([ 42,  43, 149, 161, 283])"
     },
     "execution_count": 146,
     "metadata": {},
     "output_type": "execute_result"
    }
   ],
   "source": [
    "work = df_holiday_trans[df_holiday_trans[\"type\"]==\"Work Day\"].index.values\n",
    "work"
   ],
   "metadata": {
    "collapsed": false,
    "ExecuteTime": {
     "end_time": "2023-08-21T21:06:08.032277Z",
     "start_time": "2023-08-21T21:06:08.026219Z"
    }
   },
   "id": "a0424f95b3f65f54"
  },
  {
   "cell_type": "code",
   "execution_count": null,
   "outputs": [],
   "source": [
    "df_holiday = df_holiday_trans.drop(work,axis=0,inplace=)"
   ],
   "metadata": {
    "collapsed": false
   },
   "id": "425f88185889374a"
  }
 ],
 "metadata": {
  "kernelspec": {
   "display_name": "Python 3",
   "language": "python",
   "name": "python3"
  },
  "language_info": {
   "codemirror_mode": {
    "name": "ipython",
    "version": 2
   },
   "file_extension": ".py",
   "mimetype": "text/x-python",
   "name": "python",
   "nbconvert_exporter": "python",
   "pygments_lexer": "ipython2",
   "version": "2.7.6"
  }
 },
 "nbformat": 4,
 "nbformat_minor": 5
}
