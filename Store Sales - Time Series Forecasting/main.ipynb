{
 "cells": [
  {
   "cell_type": "markdown",
   "source": [
    "# Store Sales - Time Series Forecasting"
   ],
   "metadata": {
    "collapsed": false
   },
   "id": "cbbaa856b210c073"
  },
  {
   "cell_type": "markdown",
   "source": [
    "### Use machine learning to predict grocery sales"
   ],
   "metadata": {
    "collapsed": false
   },
   "id": "78ce9990408ff9c3"
  },
  {
   "cell_type": "markdown",
   "source": [
    "Kaggle link: [Store Sales - Time Series Forecasting](https://www.kaggle.com/competitions/store-sales-time-series-forecasting)"
   ],
   "metadata": {
    "collapsed": false
   },
   "id": "fe65d401b733a079"
  },
  {
   "cell_type": "markdown",
   "source": [
    "### Context\n",
    "Forecasts aren’t just for meteorologists. Governments forecast economic growth. Scientists attempt to predict the future population. And businesses forecast product demand—a common task of professional data scientists. Forecasts are especially relevant to brick-and-mortar grocery stores, which must dance delicately with how much inventory to buy. Predict a little over, and grocers are stuck with overstocked, perishable goods. Guess a little under, and popular items quickly sell out, leading to lost revenue and upset customers. More accurate forecasting, thanks to machine learning, could help ensure retailers please customers by having just enough of the right products at the right time.\n",
    "\n",
    "Current subjective forecasting methods for retail have little data to back them up and are unlikely to be automated. The problem becomes even more complex as retailers add new locations with unique needs, new products, ever-transitioning seasonal tastes, and unpredictable product marketing."
   ],
   "metadata": {
    "collapsed": false
   },
   "id": "a6d1514cea2f0780"
  },
  {
   "cell_type": "markdown",
   "source": [
    "### Potential Impact\n",
    "If successful, you'll have flexed some new skills in a real world example. For grocery stores, more accurate forecasting can decrease food waste related to overstocking and improve customer satisfaction. The results of this ongoing competition, over time, might even ensure your local store has exactly what you need the next time you shop."
   ],
   "metadata": {
    "collapsed": false
   },
   "id": "a615fac69b9ca5f"
  },
  {
   "cell_type": "markdown",
   "source": [
    "### Dataset Description\n",
    "In this competition, you will predict sales for the thousands of product families sold at Favorita stores located in Ecuador. The training data includes dates, store and product information, whether that item was being promoted, as well as the sales numbers. Additional files include supplementary information that may be useful in building your models."
   ],
   "metadata": {
    "collapsed": false
   },
   "id": "ecaa60347fc104d0"
  },
  {
   "cell_type": "markdown",
   "source": [
    "### File Descriptions and Data Field Information\n",
    "\n",
    "**train.csv**\n",
    "The training data, comprising time series of features store_nbr, family, and onpromotion as well as the target sales.\n",
    "**store_nbr** identifies the store at which the products are sold.\n",
    "**family** identifies the type of product sold.\n",
    "**sales** gives the total sales for a product family at a particular store at a given date. Fractional values are possible since products can be sold in fractional units (1.5 kg of cheese, for instance, as opposed to 1 bag of chips).\n",
    "**onpromotion** gives the total number of items in a product family that were being promoted at a store at a given date.\n",
    "\n",
    "**test.csv**\n",
    "The test data, having the same features as the training data. You will predict the target sales for the dates in this file.\n",
    "The dates in the test data are for the 15 days after the last date in the training data.\n",
    "\n",
    "**sample_submission.csv**\n",
    "A sample submission file in the correct format.\n",
    "\n",
    "**stores.csv**\n",
    "Store metadata, including city, state, type, and cluster.\n",
    "cluster is a grouping of similar stores.\n",
    "\n",
    "**oil.csv**\n",
    "Daily oil price. Includes values during both the train and test data timeframes. (Ecuador is an oil-dependent country and it's economical health is highly vulnerable to shocks in oil prices.)\n",
    "\n",
    "**holidays_events.csv**\n",
    "* Holidays and Events, with metadata\n",
    "* NOTE: Pay special attention to the transferred column. A holiday that is transferred officially falls on that calendar day, but was moved to another date by the government. A transferred day is more like a normal day than a holiday. To find the day that it was actually celebrated, look for the corresponding row where type is Transfer. For example, the holiday Independencia de Guayaquil was transferred from 2012-10-09 to 2012-10-12, which means it was celebrated on 2012-10-12. Days that are type Bridge are extra days that are added to a holiday (e.g., to extend the break across a long weekend). These are frequently made up by the type Work Day which is a day not normally scheduled for work (e.g., Saturday) that is meant to payback the Bridge.\n",
    "* Additional holidays are days added a regular calendar holiday, for example, as typically happens around Christmas (making Christmas Eve a holiday)."
   ],
   "metadata": {
    "collapsed": false
   },
   "id": "86d2119a0df9f8e7"
  },
  {
   "cell_type": "markdown",
   "source": [
    "### Additional Notes\n",
    "\n",
    "* Wages in the public sector are paid every two weeks on the 15 th and on the last day of the month. Supermarket sales could be affected by this.\n",
    "* A magnitude 7.8 earthquake struck Ecuador on April 16, 2016. People rallied in relief efforts donating water and other first need products which greatly affected supermarket sales for several weeks after the earthquake."
   ],
   "metadata": {
    "collapsed": false
   },
   "id": "4b76a30b8e450ff8"
  },
  {
   "cell_type": "code",
   "execution_count": 1,
   "outputs": [],
   "source": [
    "import numpy as np\n",
    "import pandas as pd\n",
    "import matplotlib.pyplot as plt\n",
    "import seaborn as sns\n",
    "from sklearn.model_selection import *\n",
    "from sklearn.linear_model import *\n",
    "from math import *\n",
    "from sklearn.ensemble import *\n",
    "from sklearn.feature_selection import *\n",
    "from sklearn.feature_extraction import *\n",
    "from sklearn.naive_bayes import *\n",
    "from sklearn.discriminant_analysis import *\n",
    "from sklearn.preprocessing import *\n",
    "from sklearn.metrics import *\n",
    "from sklearn.neighbors import *\n",
    "from sklearn.cluster import *\n",
    "from sklearn.svm import *\n",
    "import warnings\n",
    "warnings.filterwarnings(\"ignore\")"
   ],
   "metadata": {
    "collapsed": false,
    "ExecuteTime": {
     "end_time": "2023-08-21T18:22:17.538429Z",
     "start_time": "2023-08-21T18:22:17.297884Z"
    }
   },
   "id": "877982056381b1d0"
  },
  {
   "cell_type": "code",
   "execution_count": 2,
   "outputs": [
    {
     "data": {
      "text/plain": "            id     date  store_nbr            family  sales  onpromotion\n0            0   1/1/13          1        AUTOMOTIVE    0.0            0\n1            1   1/1/13          1         BABY CARE    0.0            0\n2            2   1/1/13          1            BEAUTY    0.0            0\n3            3   1/1/13          1         BEVERAGES    0.0            0\n4            4   1/1/13          1             BOOKS    0.0            0\n...        ...      ...        ...               ...    ...          ...\n262138  262138  5/28/13         14        LADIESWEAR    0.0            0\n262139  262139  5/28/13         14   LAWN AND GARDEN    0.0            0\n262140  262140  5/28/13         14          LINGERIE    4.0            0\n262141  262141  5/28/13         14  LIQUOR,WINE,BEER   13.0            0\n262142  262142  5/28/13         14         MAGAZINES    0.0            0\n\n[262143 rows x 6 columns]",
      "text/html": "<div>\n<style scoped>\n    .dataframe tbody tr th:only-of-type {\n        vertical-align: middle;\n    }\n\n    .dataframe tbody tr th {\n        vertical-align: top;\n    }\n\n    .dataframe thead th {\n        text-align: right;\n    }\n</style>\n<table border=\"1\" class=\"dataframe\">\n  <thead>\n    <tr style=\"text-align: right;\">\n      <th></th>\n      <th>id</th>\n      <th>date</th>\n      <th>store_nbr</th>\n      <th>family</th>\n      <th>sales</th>\n      <th>onpromotion</th>\n    </tr>\n  </thead>\n  <tbody>\n    <tr>\n      <th>0</th>\n      <td>0</td>\n      <td>1/1/13</td>\n      <td>1</td>\n      <td>AUTOMOTIVE</td>\n      <td>0.0</td>\n      <td>0</td>\n    </tr>\n    <tr>\n      <th>1</th>\n      <td>1</td>\n      <td>1/1/13</td>\n      <td>1</td>\n      <td>BABY CARE</td>\n      <td>0.0</td>\n      <td>0</td>\n    </tr>\n    <tr>\n      <th>2</th>\n      <td>2</td>\n      <td>1/1/13</td>\n      <td>1</td>\n      <td>BEAUTY</td>\n      <td>0.0</td>\n      <td>0</td>\n    </tr>\n    <tr>\n      <th>3</th>\n      <td>3</td>\n      <td>1/1/13</td>\n      <td>1</td>\n      <td>BEVERAGES</td>\n      <td>0.0</td>\n      <td>0</td>\n    </tr>\n    <tr>\n      <th>4</th>\n      <td>4</td>\n      <td>1/1/13</td>\n      <td>1</td>\n      <td>BOOKS</td>\n      <td>0.0</td>\n      <td>0</td>\n    </tr>\n    <tr>\n      <th>...</th>\n      <td>...</td>\n      <td>...</td>\n      <td>...</td>\n      <td>...</td>\n      <td>...</td>\n      <td>...</td>\n    </tr>\n    <tr>\n      <th>262138</th>\n      <td>262138</td>\n      <td>5/28/13</td>\n      <td>14</td>\n      <td>LADIESWEAR</td>\n      <td>0.0</td>\n      <td>0</td>\n    </tr>\n    <tr>\n      <th>262139</th>\n      <td>262139</td>\n      <td>5/28/13</td>\n      <td>14</td>\n      <td>LAWN AND GARDEN</td>\n      <td>0.0</td>\n      <td>0</td>\n    </tr>\n    <tr>\n      <th>262140</th>\n      <td>262140</td>\n      <td>5/28/13</td>\n      <td>14</td>\n      <td>LINGERIE</td>\n      <td>4.0</td>\n      <td>0</td>\n    </tr>\n    <tr>\n      <th>262141</th>\n      <td>262141</td>\n      <td>5/28/13</td>\n      <td>14</td>\n      <td>LIQUOR,WINE,BEER</td>\n      <td>13.0</td>\n      <td>0</td>\n    </tr>\n    <tr>\n      <th>262142</th>\n      <td>262142</td>\n      <td>5/28/13</td>\n      <td>14</td>\n      <td>MAGAZINES</td>\n      <td>0.0</td>\n      <td>0</td>\n    </tr>\n  </tbody>\n</table>\n<p>262143 rows × 6 columns</p>\n</div>"
     },
     "execution_count": 2,
     "metadata": {},
     "output_type": "execute_result"
    }
   ],
   "source": [
    "df_1 = pd.read_csv(\"train1.csv\")\n",
    "df_1"
   ],
   "metadata": {
    "collapsed": false,
    "ExecuteTime": {
     "end_time": "2023-08-21T18:22:18.301660Z",
     "start_time": "2023-08-21T18:22:18.212779Z"
    }
   },
   "id": "29a2e4fba8dbb7ca"
  },
  {
   "cell_type": "code",
   "execution_count": 3,
   "outputs": [
    {
     "data": {
      "text/plain": "            id      date  store_nbr                   family        sales  \\\n0       262143   5/28/13         14                    MEATS   310.173000   \n1       262144   5/28/13         14            PERSONAL CARE   227.000000   \n2       262145   5/28/13         14             PET SUPPLIES     0.000000   \n3       262146   5/28/13         14  PLAYERS AND ELECTRONICS     0.000000   \n4       262147   5/28/13         14                  POULTRY    47.809002   \n...        ...       ...        ...                      ...          ...   \n262138  524281  10/22/13          2                     EGGS   153.000000   \n262139  524282  10/22/13          2             FROZEN FOODS    86.259000   \n262140  524283  10/22/13          2                GROCERY I  2538.000000   \n262141  524284  10/22/13          2               GROCERY II    22.000000   \n262142  524285  10/22/13          2                 HARDWARE     0.000000   \n\n        onpromotion  \n0                 0  \n1                 0  \n2                 0  \n3                 0  \n4                 0  \n...             ...  \n262138            0  \n262139            0  \n262140            0  \n262141            0  \n262142            0  \n\n[262143 rows x 6 columns]",
      "text/html": "<div>\n<style scoped>\n    .dataframe tbody tr th:only-of-type {\n        vertical-align: middle;\n    }\n\n    .dataframe tbody tr th {\n        vertical-align: top;\n    }\n\n    .dataframe thead th {\n        text-align: right;\n    }\n</style>\n<table border=\"1\" class=\"dataframe\">\n  <thead>\n    <tr style=\"text-align: right;\">\n      <th></th>\n      <th>id</th>\n      <th>date</th>\n      <th>store_nbr</th>\n      <th>family</th>\n      <th>sales</th>\n      <th>onpromotion</th>\n    </tr>\n  </thead>\n  <tbody>\n    <tr>\n      <th>0</th>\n      <td>262143</td>\n      <td>5/28/13</td>\n      <td>14</td>\n      <td>MEATS</td>\n      <td>310.173000</td>\n      <td>0</td>\n    </tr>\n    <tr>\n      <th>1</th>\n      <td>262144</td>\n      <td>5/28/13</td>\n      <td>14</td>\n      <td>PERSONAL CARE</td>\n      <td>227.000000</td>\n      <td>0</td>\n    </tr>\n    <tr>\n      <th>2</th>\n      <td>262145</td>\n      <td>5/28/13</td>\n      <td>14</td>\n      <td>PET SUPPLIES</td>\n      <td>0.000000</td>\n      <td>0</td>\n    </tr>\n    <tr>\n      <th>3</th>\n      <td>262146</td>\n      <td>5/28/13</td>\n      <td>14</td>\n      <td>PLAYERS AND ELECTRONICS</td>\n      <td>0.000000</td>\n      <td>0</td>\n    </tr>\n    <tr>\n      <th>4</th>\n      <td>262147</td>\n      <td>5/28/13</td>\n      <td>14</td>\n      <td>POULTRY</td>\n      <td>47.809002</td>\n      <td>0</td>\n    </tr>\n    <tr>\n      <th>...</th>\n      <td>...</td>\n      <td>...</td>\n      <td>...</td>\n      <td>...</td>\n      <td>...</td>\n      <td>...</td>\n    </tr>\n    <tr>\n      <th>262138</th>\n      <td>524281</td>\n      <td>10/22/13</td>\n      <td>2</td>\n      <td>EGGS</td>\n      <td>153.000000</td>\n      <td>0</td>\n    </tr>\n    <tr>\n      <th>262139</th>\n      <td>524282</td>\n      <td>10/22/13</td>\n      <td>2</td>\n      <td>FROZEN FOODS</td>\n      <td>86.259000</td>\n      <td>0</td>\n    </tr>\n    <tr>\n      <th>262140</th>\n      <td>524283</td>\n      <td>10/22/13</td>\n      <td>2</td>\n      <td>GROCERY I</td>\n      <td>2538.000000</td>\n      <td>0</td>\n    </tr>\n    <tr>\n      <th>262141</th>\n      <td>524284</td>\n      <td>10/22/13</td>\n      <td>2</td>\n      <td>GROCERY II</td>\n      <td>22.000000</td>\n      <td>0</td>\n    </tr>\n    <tr>\n      <th>262142</th>\n      <td>524285</td>\n      <td>10/22/13</td>\n      <td>2</td>\n      <td>HARDWARE</td>\n      <td>0.000000</td>\n      <td>0</td>\n    </tr>\n  </tbody>\n</table>\n<p>262143 rows × 6 columns</p>\n</div>"
     },
     "execution_count": 3,
     "metadata": {},
     "output_type": "execute_result"
    }
   ],
   "source": [
    "df_2 = pd.read_csv(\"train2.csv\")\n",
    "df_2"
   ],
   "metadata": {
    "collapsed": false,
    "ExecuteTime": {
     "end_time": "2023-08-21T18:22:21.728503Z",
     "start_time": "2023-08-21T18:22:21.649492Z"
    }
   },
   "id": "e10c18bafc404ec"
  },
  {
   "cell_type": "code",
   "execution_count": 4,
   "outputs": [
    {
     "data": {
      "text/plain": "               id      date  store_nbr               family  sales  \\\n0        524286.0  10/22/13        2.0   HOME AND KITCHEN I    0.0   \n1        524287.0  10/22/13        2.0  HOME AND KITCHEN II    0.0   \n2        524288.0  10/22/13        2.0      HOME APPLIANCES    0.0   \n3        524289.0  10/22/13        2.0            HOME CARE    0.0   \n4        524290.0  10/22/13        2.0           LADIESWEAR    0.0   \n...           ...       ...        ...                  ...    ...   \n1048570       NaN       NaN        NaN                  NaN    NaN   \n1048571       NaN       NaN        NaN                  NaN    NaN   \n1048572       NaN       NaN        NaN                  NaN    NaN   \n1048573       NaN       NaN        NaN                  NaN    NaN   \n1048574       NaN       NaN        NaN                  NaN    NaN   \n\n         onpromotion  \n0                0.0  \n1                0.0  \n2                0.0  \n3                0.0  \n4                0.0  \n...              ...  \n1048570          NaN  \n1048571          NaN  \n1048572          NaN  \n1048573          NaN  \n1048574          NaN  \n\n[1048575 rows x 6 columns]",
      "text/html": "<div>\n<style scoped>\n    .dataframe tbody tr th:only-of-type {\n        vertical-align: middle;\n    }\n\n    .dataframe tbody tr th {\n        vertical-align: top;\n    }\n\n    .dataframe thead th {\n        text-align: right;\n    }\n</style>\n<table border=\"1\" class=\"dataframe\">\n  <thead>\n    <tr style=\"text-align: right;\">\n      <th></th>\n      <th>id</th>\n      <th>date</th>\n      <th>store_nbr</th>\n      <th>family</th>\n      <th>sales</th>\n      <th>onpromotion</th>\n    </tr>\n  </thead>\n  <tbody>\n    <tr>\n      <th>0</th>\n      <td>524286.0</td>\n      <td>10/22/13</td>\n      <td>2.0</td>\n      <td>HOME AND KITCHEN I</td>\n      <td>0.0</td>\n      <td>0.0</td>\n    </tr>\n    <tr>\n      <th>1</th>\n      <td>524287.0</td>\n      <td>10/22/13</td>\n      <td>2.0</td>\n      <td>HOME AND KITCHEN II</td>\n      <td>0.0</td>\n      <td>0.0</td>\n    </tr>\n    <tr>\n      <th>2</th>\n      <td>524288.0</td>\n      <td>10/22/13</td>\n      <td>2.0</td>\n      <td>HOME APPLIANCES</td>\n      <td>0.0</td>\n      <td>0.0</td>\n    </tr>\n    <tr>\n      <th>3</th>\n      <td>524289.0</td>\n      <td>10/22/13</td>\n      <td>2.0</td>\n      <td>HOME CARE</td>\n      <td>0.0</td>\n      <td>0.0</td>\n    </tr>\n    <tr>\n      <th>4</th>\n      <td>524290.0</td>\n      <td>10/22/13</td>\n      <td>2.0</td>\n      <td>LADIESWEAR</td>\n      <td>0.0</td>\n      <td>0.0</td>\n    </tr>\n    <tr>\n      <th>...</th>\n      <td>...</td>\n      <td>...</td>\n      <td>...</td>\n      <td>...</td>\n      <td>...</td>\n      <td>...</td>\n    </tr>\n    <tr>\n      <th>1048570</th>\n      <td>NaN</td>\n      <td>NaN</td>\n      <td>NaN</td>\n      <td>NaN</td>\n      <td>NaN</td>\n      <td>NaN</td>\n    </tr>\n    <tr>\n      <th>1048571</th>\n      <td>NaN</td>\n      <td>NaN</td>\n      <td>NaN</td>\n      <td>NaN</td>\n      <td>NaN</td>\n      <td>NaN</td>\n    </tr>\n    <tr>\n      <th>1048572</th>\n      <td>NaN</td>\n      <td>NaN</td>\n      <td>NaN</td>\n      <td>NaN</td>\n      <td>NaN</td>\n      <td>NaN</td>\n    </tr>\n    <tr>\n      <th>1048573</th>\n      <td>NaN</td>\n      <td>NaN</td>\n      <td>NaN</td>\n      <td>NaN</td>\n      <td>NaN</td>\n      <td>NaN</td>\n    </tr>\n    <tr>\n      <th>1048574</th>\n      <td>NaN</td>\n      <td>NaN</td>\n      <td>NaN</td>\n      <td>NaN</td>\n      <td>NaN</td>\n      <td>NaN</td>\n    </tr>\n  </tbody>\n</table>\n<p>1048575 rows × 6 columns</p>\n</div>"
     },
     "execution_count": 4,
     "metadata": {},
     "output_type": "execute_result"
    }
   ],
   "source": [
    "df_3 = pd.read_csv(\"train3.csv\")\n",
    "df_3"
   ],
   "metadata": {
    "collapsed": false,
    "ExecuteTime": {
     "end_time": "2023-08-21T18:22:24.002283Z",
     "start_time": "2023-08-21T18:22:23.800863Z"
    }
   },
   "id": "d51574b582a925e5"
  },
  {
   "cell_type": "code",
   "execution_count": 5,
   "outputs": [
    {
     "data": {
      "text/plain": "               id     date  store_nbr       family    sales  onpromotion\n0        786429.0  3/19/14       25.0  CELEBRATION    8.000          0.0\n1        786430.0  3/19/14       25.0     CLEANING  485.000          0.0\n2        786431.0  3/19/14       25.0        DAIRY  588.000          0.0\n3        786432.0  3/19/14       25.0         DELI  116.357          0.0\n4        786433.0  3/19/14       25.0         EGGS  119.000          0.0\n...           ...      ...        ...          ...      ...          ...\n1048570       NaN      NaN        NaN          NaN      NaN          NaN\n1048571       NaN      NaN        NaN          NaN      NaN          NaN\n1048572       NaN      NaN        NaN          NaN      NaN          NaN\n1048573       NaN      NaN        NaN          NaN      NaN          NaN\n1048574       NaN      NaN        NaN          NaN      NaN          NaN\n\n[1048575 rows x 6 columns]",
      "text/html": "<div>\n<style scoped>\n    .dataframe tbody tr th:only-of-type {\n        vertical-align: middle;\n    }\n\n    .dataframe tbody tr th {\n        vertical-align: top;\n    }\n\n    .dataframe thead th {\n        text-align: right;\n    }\n</style>\n<table border=\"1\" class=\"dataframe\">\n  <thead>\n    <tr style=\"text-align: right;\">\n      <th></th>\n      <th>id</th>\n      <th>date</th>\n      <th>store_nbr</th>\n      <th>family</th>\n      <th>sales</th>\n      <th>onpromotion</th>\n    </tr>\n  </thead>\n  <tbody>\n    <tr>\n      <th>0</th>\n      <td>786429.0</td>\n      <td>3/19/14</td>\n      <td>25.0</td>\n      <td>CELEBRATION</td>\n      <td>8.000</td>\n      <td>0.0</td>\n    </tr>\n    <tr>\n      <th>1</th>\n      <td>786430.0</td>\n      <td>3/19/14</td>\n      <td>25.0</td>\n      <td>CLEANING</td>\n      <td>485.000</td>\n      <td>0.0</td>\n    </tr>\n    <tr>\n      <th>2</th>\n      <td>786431.0</td>\n      <td>3/19/14</td>\n      <td>25.0</td>\n      <td>DAIRY</td>\n      <td>588.000</td>\n      <td>0.0</td>\n    </tr>\n    <tr>\n      <th>3</th>\n      <td>786432.0</td>\n      <td>3/19/14</td>\n      <td>25.0</td>\n      <td>DELI</td>\n      <td>116.357</td>\n      <td>0.0</td>\n    </tr>\n    <tr>\n      <th>4</th>\n      <td>786433.0</td>\n      <td>3/19/14</td>\n      <td>25.0</td>\n      <td>EGGS</td>\n      <td>119.000</td>\n      <td>0.0</td>\n    </tr>\n    <tr>\n      <th>...</th>\n      <td>...</td>\n      <td>...</td>\n      <td>...</td>\n      <td>...</td>\n      <td>...</td>\n      <td>...</td>\n    </tr>\n    <tr>\n      <th>1048570</th>\n      <td>NaN</td>\n      <td>NaN</td>\n      <td>NaN</td>\n      <td>NaN</td>\n      <td>NaN</td>\n      <td>NaN</td>\n    </tr>\n    <tr>\n      <th>1048571</th>\n      <td>NaN</td>\n      <td>NaN</td>\n      <td>NaN</td>\n      <td>NaN</td>\n      <td>NaN</td>\n      <td>NaN</td>\n    </tr>\n    <tr>\n      <th>1048572</th>\n      <td>NaN</td>\n      <td>NaN</td>\n      <td>NaN</td>\n      <td>NaN</td>\n      <td>NaN</td>\n      <td>NaN</td>\n    </tr>\n    <tr>\n      <th>1048573</th>\n      <td>NaN</td>\n      <td>NaN</td>\n      <td>NaN</td>\n      <td>NaN</td>\n      <td>NaN</td>\n      <td>NaN</td>\n    </tr>\n    <tr>\n      <th>1048574</th>\n      <td>NaN</td>\n      <td>NaN</td>\n      <td>NaN</td>\n      <td>NaN</td>\n      <td>NaN</td>\n      <td>NaN</td>\n    </tr>\n  </tbody>\n</table>\n<p>1048575 rows × 6 columns</p>\n</div>"
     },
     "execution_count": 5,
     "metadata": {},
     "output_type": "execute_result"
    }
   ],
   "source": [
    "df_4 = pd.read_csv(\"train4.csv\")\n",
    "df_4"
   ],
   "metadata": {
    "collapsed": false,
    "ExecuteTime": {
     "end_time": "2023-08-21T18:22:28.154265Z",
     "start_time": "2023-08-21T18:22:27.982987Z"
    }
   },
   "id": "ea23efb901168244"
  },
  {
   "cell_type": "code",
   "execution_count": 17,
   "outputs": [
    {
     "data": {
      "text/plain": "             id     date  store_nbr                      family    sales  \\\n262141  1048570  8/13/14          3                     POULTRY  974.098   \n262142  1048571  8/13/14          3              PREPARED FOODS  324.293   \n262143  1048572  8/13/14          3                     PRODUCE   10.000   \n262144  1048573  8/13/14          3  SCHOOL AND OFFICE SUPPLIES    0.000   \n262145  1048574  8/13/14          3                     SEAFOOD   69.116   \n\n        onpromotion  \n262141            1  \n262142            0  \n262143            1  \n262144            0  \n262145            0  ",
      "text/html": "<div>\n<style scoped>\n    .dataframe tbody tr th:only-of-type {\n        vertical-align: middle;\n    }\n\n    .dataframe tbody tr th {\n        vertical-align: top;\n    }\n\n    .dataframe thead th {\n        text-align: right;\n    }\n</style>\n<table border=\"1\" class=\"dataframe\">\n  <thead>\n    <tr style=\"text-align: right;\">\n      <th></th>\n      <th>id</th>\n      <th>date</th>\n      <th>store_nbr</th>\n      <th>family</th>\n      <th>sales</th>\n      <th>onpromotion</th>\n    </tr>\n  </thead>\n  <tbody>\n    <tr>\n      <th>262141</th>\n      <td>1048570</td>\n      <td>8/13/14</td>\n      <td>3</td>\n      <td>POULTRY</td>\n      <td>974.098</td>\n      <td>1</td>\n    </tr>\n    <tr>\n      <th>262142</th>\n      <td>1048571</td>\n      <td>8/13/14</td>\n      <td>3</td>\n      <td>PREPARED FOODS</td>\n      <td>324.293</td>\n      <td>0</td>\n    </tr>\n    <tr>\n      <th>262143</th>\n      <td>1048572</td>\n      <td>8/13/14</td>\n      <td>3</td>\n      <td>PRODUCE</td>\n      <td>10.000</td>\n      <td>1</td>\n    </tr>\n    <tr>\n      <th>262144</th>\n      <td>1048573</td>\n      <td>8/13/14</td>\n      <td>3</td>\n      <td>SCHOOL AND OFFICE SUPPLIES</td>\n      <td>0.000</td>\n      <td>0</td>\n    </tr>\n    <tr>\n      <th>262145</th>\n      <td>1048574</td>\n      <td>8/13/14</td>\n      <td>3</td>\n      <td>SEAFOOD</td>\n      <td>69.116</td>\n      <td>0</td>\n    </tr>\n  </tbody>\n</table>\n</div>"
     },
     "execution_count": 17,
     "metadata": {},
     "output_type": "execute_result"
    }
   ],
   "source": [
    "a = df_1.append(df_2)\n",
    "b = df_3.append(df_4)\n",
    "df = a.append(b)\n",
    "df.tail()"
   ],
   "metadata": {
    "collapsed": false,
    "ExecuteTime": {
     "end_time": "2023-08-21T18:11:23.562451Z",
     "start_time": "2023-08-21T18:11:23.511284Z"
    }
   },
   "id": "881b17b9b43cf387"
  },
  {
   "cell_type": "code",
   "execution_count": null,
   "outputs": [],
   "source": [],
   "metadata": {
    "collapsed": false
   },
   "id": "a735857f361a2af9"
  }
 ],
 "metadata": {
  "kernelspec": {
   "display_name": "Python 3",
   "language": "python",
   "name": "python3"
  },
  "language_info": {
   "codemirror_mode": {
    "name": "ipython",
    "version": 2
   },
   "file_extension": ".py",
   "mimetype": "text/x-python",
   "name": "python",
   "nbconvert_exporter": "python",
   "pygments_lexer": "ipython2",
   "version": "2.7.6"
  }
 },
 "nbformat": 4,
 "nbformat_minor": 5
}
