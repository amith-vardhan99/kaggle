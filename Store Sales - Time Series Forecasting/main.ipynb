{
 "cells": [
  {
   "cell_type": "markdown",
   "source": [
    "# Store Sales - Time Series Forecasting"
   ],
   "metadata": {
    "collapsed": false
   },
   "id": "cbbaa856b210c073"
  },
  {
   "cell_type": "markdown",
   "source": [
    "### Use machine learning to predict grocery sales"
   ],
   "metadata": {
    "collapsed": false
   },
   "id": "78ce9990408ff9c3"
  },
  {
   "cell_type": "markdown",
   "source": [
    "Kaggle link: [Store Sales - Time Series Forecasting](https://www.kaggle.com/competitions/store-sales-time-series-forecasting)"
   ],
   "metadata": {
    "collapsed": false
   },
   "id": "fe65d401b733a079"
  },
  {
   "cell_type": "markdown",
   "source": [
    "### Context\n",
    "Forecasts aren’t just for meteorologists. Governments forecast economic growth. Scientists attempt to predict the future population. And businesses forecast product demand—a common task of professional data scientists. Forecasts are especially relevant to brick-and-mortar grocery stores, which must dance delicately with how much inventory to buy. Predict a little over, and grocers are stuck with overstocked, perishable goods. Guess a little under, and popular items quickly sell out, leading to lost revenue and upset customers. More accurate forecasting, thanks to machine learning, could help ensure retailers please customers by having just enough of the right products at the right time.\n",
    "\n",
    "Current subjective forecasting methods for retail have little data to back them up and are unlikely to be automated. The problem becomes even more complex as retailers add new locations with unique needs, new products, ever-transitioning seasonal tastes, and unpredictable product marketing."
   ],
   "metadata": {
    "collapsed": false
   },
   "id": "a6d1514cea2f0780"
  },
  {
   "cell_type": "markdown",
   "source": [
    "### Potential Impact\n",
    "If successful, you'll have flexed some new skills in a real world example. For grocery stores, more accurate forecasting can decrease food waste related to overstocking and improve customer satisfaction. The results of this ongoing competition, over time, might even ensure your local store has exactly what you need the next time you shop."
   ],
   "metadata": {
    "collapsed": false
   },
   "id": "a615fac69b9ca5f"
  },
  {
   "cell_type": "markdown",
   "source": [
    "### Dataset Description\n",
    "In this competition, you will predict sales for the thousands of product families sold at Favorita stores located in Ecuador. The training data includes dates, store and product information, whether that item was being promoted, as well as the sales numbers. Additional files include supplementary information that may be useful in building your models."
   ],
   "metadata": {
    "collapsed": false
   },
   "id": "ecaa60347fc104d0"
  },
  {
   "cell_type": "markdown",
   "source": [
    "### File Descriptions and Data Field Information\n",
    "\n",
    "**train.csv**\n",
    "The training data, comprising time series of features store_nbr, family, and onpromotion as well as the target sales.\n",
    "**store_nbr** identifies the store at which the products are sold.\n",
    "**family** identifies the type of product sold.\n",
    "**sales** gives the total sales for a product family at a particular store at a given date. Fractional values are possible since products can be sold in fractional units (1.5 kg of cheese, for instance, as opposed to 1 bag of chips).\n",
    "**onpromotion** gives the total number of items in a product family that were being promoted at a store at a given date.\n",
    "\n",
    "**test.csv**\n",
    "The test data, having the same features as the training data. You will predict the target sales for the dates in this file.\n",
    "The dates in the test data are for the 15 days after the last date in the training data.\n",
    "\n",
    "**sample_submission.csv**\n",
    "A sample submission file in the correct format.\n",
    "\n",
    "**stores.csv**\n",
    "Store metadata, including city, state, type, and cluster.\n",
    "cluster is a grouping of similar stores.\n",
    "\n",
    "**oil.csv**\n",
    "Daily oil price. Includes values during both the train and test data timeframes. (Ecuador is an oil-dependent country and it's economical health is highly vulnerable to shocks in oil prices.)\n",
    "\n",
    "**holidays_events.csv**\n",
    "* Holidays and Events, with metadata\n",
    "* NOTE: Pay special attention to the transferred column. A holiday that is transferred officially falls on that calendar day, but was moved to another date by the government. A transferred day is more like a normal day than a holiday. To find the day that it was actually celebrated, look for the corresponding row where type is Transfer. For example, the holiday Independencia de Guayaquil was transferred from 2012-10-09 to 2012-10-12, which means it was celebrated on 2012-10-12. Days that are type Bridge are extra days that are added to a holiday (e.g., to extend the break across a long weekend). These are frequently made up by the type Work Day which is a day not normally scheduled for work (e.g., Saturday) that is meant to payback the Bridge.\n",
    "* Additional holidays are days added a regular calendar holiday, for example, as typically happens around Christmas (making Christmas Eve a holiday)."
   ],
   "metadata": {
    "collapsed": false
   },
   "id": "86d2119a0df9f8e7"
  },
  {
   "cell_type": "markdown",
   "source": [
    "### Additional Notes\n",
    "\n",
    "* Wages in the public sector are paid every two weeks on the 15 th and on the last day of the month. Supermarket sales could be affected by this.\n",
    "* A magnitude 7.8 earthquake struck Ecuador on April 16, 2016. People rallied in relief efforts donating water and other first need products which greatly affected supermarket sales for several weeks after the earthquake."
   ],
   "metadata": {
    "collapsed": false
   },
   "id": "4b76a30b8e450ff8"
  },
  {
   "cell_type": "markdown",
   "source": [
    "### Importing all libraries"
   ],
   "metadata": {
    "collapsed": false
   },
   "id": "1286d038b63cd9ca"
  },
  {
   "cell_type": "code",
   "execution_count": 11,
   "outputs": [],
   "source": [
    "import numpy as np\n",
    "import pandas as pd\n",
    "import matplotlib.pyplot as plt\n",
    "import seaborn as sns\n",
    "from sklearn.model_selection import *\n",
    "from sklearn.linear_model import *\n",
    "from math import *\n",
    "from sklearn.ensemble import *\n",
    "from sklearn.feature_selection import *\n",
    "from sklearn.feature_extraction import *\n",
    "from sklearn.naive_bayes import *\n",
    "from sklearn.discriminant_analysis import *\n",
    "from sklearn.preprocessing import *\n",
    "from sklearn.metrics import *\n",
    "from sklearn.neighbors import *\n",
    "from sklearn.cluster import *\n",
    "from sklearn.svm import *\n",
    "import warnings\n",
    "warnings.filterwarnings(\"ignore\")"
   ],
   "metadata": {
    "collapsed": false,
    "ExecuteTime": {
     "end_time": "2023-08-21T18:24:54.034621Z",
     "start_time": "2023-08-21T18:24:54.030918Z"
    }
   },
   "id": "877982056381b1d0"
  },
  {
   "cell_type": "markdown",
   "source": [
    "### Importing the training datasets"
   ],
   "metadata": {
    "collapsed": false
   },
   "id": "2eb54b99d2966bcb"
  },
  {
   "cell_type": "code",
   "execution_count": 19,
   "outputs": [
    {
     "data": {
      "text/plain": "   id    date  store_nbr      family  sales  onpromotion\n0   0  1/1/13          1  AUTOMOTIVE    0.0            0\n1   1  1/1/13          1   BABY CARE    0.0            0\n2   2  1/1/13          1      BEAUTY    0.0            0\n3   3  1/1/13          1   BEVERAGES    0.0            0\n4   4  1/1/13          1       BOOKS    0.0            0",
      "text/html": "<div>\n<style scoped>\n    .dataframe tbody tr th:only-of-type {\n        vertical-align: middle;\n    }\n\n    .dataframe tbody tr th {\n        vertical-align: top;\n    }\n\n    .dataframe thead th {\n        text-align: right;\n    }\n</style>\n<table border=\"1\" class=\"dataframe\">\n  <thead>\n    <tr style=\"text-align: right;\">\n      <th></th>\n      <th>id</th>\n      <th>date</th>\n      <th>store_nbr</th>\n      <th>family</th>\n      <th>sales</th>\n      <th>onpromotion</th>\n    </tr>\n  </thead>\n  <tbody>\n    <tr>\n      <th>0</th>\n      <td>0</td>\n      <td>1/1/13</td>\n      <td>1</td>\n      <td>AUTOMOTIVE</td>\n      <td>0.0</td>\n      <td>0</td>\n    </tr>\n    <tr>\n      <th>1</th>\n      <td>1</td>\n      <td>1/1/13</td>\n      <td>1</td>\n      <td>BABY CARE</td>\n      <td>0.0</td>\n      <td>0</td>\n    </tr>\n    <tr>\n      <th>2</th>\n      <td>2</td>\n      <td>1/1/13</td>\n      <td>1</td>\n      <td>BEAUTY</td>\n      <td>0.0</td>\n      <td>0</td>\n    </tr>\n    <tr>\n      <th>3</th>\n      <td>3</td>\n      <td>1/1/13</td>\n      <td>1</td>\n      <td>BEVERAGES</td>\n      <td>0.0</td>\n      <td>0</td>\n    </tr>\n    <tr>\n      <th>4</th>\n      <td>4</td>\n      <td>1/1/13</td>\n      <td>1</td>\n      <td>BOOKS</td>\n      <td>0.0</td>\n      <td>0</td>\n    </tr>\n  </tbody>\n</table>\n</div>"
     },
     "execution_count": 19,
     "metadata": {},
     "output_type": "execute_result"
    }
   ],
   "source": [
    "df_train_1 = pd.read_csv(\"train1.csv\")\n",
    "df_train_1.head()"
   ],
   "metadata": {
    "collapsed": false,
    "ExecuteTime": {
     "end_time": "2023-08-21T18:28:04.555185Z",
     "start_time": "2023-08-21T18:28:04.465537Z"
    }
   },
   "id": "29a2e4fba8dbb7ca"
  },
  {
   "cell_type": "code",
   "execution_count": 20,
   "outputs": [
    {
     "data": {
      "text/plain": "       id     date  store_nbr                   family       sales  \\\n0  262143  5/28/13         14                    MEATS  310.173000   \n1  262144  5/28/13         14            PERSONAL CARE  227.000000   \n2  262145  5/28/13         14             PET SUPPLIES    0.000000   \n3  262146  5/28/13         14  PLAYERS AND ELECTRONICS    0.000000   \n4  262147  5/28/13         14                  POULTRY   47.809002   \n\n   onpromotion  \n0            0  \n1            0  \n2            0  \n3            0  \n4            0  ",
      "text/html": "<div>\n<style scoped>\n    .dataframe tbody tr th:only-of-type {\n        vertical-align: middle;\n    }\n\n    .dataframe tbody tr th {\n        vertical-align: top;\n    }\n\n    .dataframe thead th {\n        text-align: right;\n    }\n</style>\n<table border=\"1\" class=\"dataframe\">\n  <thead>\n    <tr style=\"text-align: right;\">\n      <th></th>\n      <th>id</th>\n      <th>date</th>\n      <th>store_nbr</th>\n      <th>family</th>\n      <th>sales</th>\n      <th>onpromotion</th>\n    </tr>\n  </thead>\n  <tbody>\n    <tr>\n      <th>0</th>\n      <td>262143</td>\n      <td>5/28/13</td>\n      <td>14</td>\n      <td>MEATS</td>\n      <td>310.173000</td>\n      <td>0</td>\n    </tr>\n    <tr>\n      <th>1</th>\n      <td>262144</td>\n      <td>5/28/13</td>\n      <td>14</td>\n      <td>PERSONAL CARE</td>\n      <td>227.000000</td>\n      <td>0</td>\n    </tr>\n    <tr>\n      <th>2</th>\n      <td>262145</td>\n      <td>5/28/13</td>\n      <td>14</td>\n      <td>PET SUPPLIES</td>\n      <td>0.000000</td>\n      <td>0</td>\n    </tr>\n    <tr>\n      <th>3</th>\n      <td>262146</td>\n      <td>5/28/13</td>\n      <td>14</td>\n      <td>PLAYERS AND ELECTRONICS</td>\n      <td>0.000000</td>\n      <td>0</td>\n    </tr>\n    <tr>\n      <th>4</th>\n      <td>262147</td>\n      <td>5/28/13</td>\n      <td>14</td>\n      <td>POULTRY</td>\n      <td>47.809002</td>\n      <td>0</td>\n    </tr>\n  </tbody>\n</table>\n</div>"
     },
     "execution_count": 20,
     "metadata": {},
     "output_type": "execute_result"
    }
   ],
   "source": [
    "df_train_2 = pd.read_csv(\"train2.csv\")\n",
    "df_train_2.head()"
   ],
   "metadata": {
    "collapsed": false,
    "ExecuteTime": {
     "end_time": "2023-08-21T18:28:08.006333Z",
     "start_time": "2023-08-21T18:28:07.918031Z"
    }
   },
   "id": "e10c18bafc404ec"
  },
  {
   "cell_type": "code",
   "execution_count": 21,
   "outputs": [
    {
     "data": {
      "text/plain": "       id      date  store_nbr               family  sales  onpromotion\n0  524286  10/22/13          2   HOME AND KITCHEN I    0.0            0\n1  524287  10/22/13          2  HOME AND KITCHEN II    0.0            0\n2  524288  10/22/13          2      HOME APPLIANCES    0.0            0\n3  524289  10/22/13          2            HOME CARE    0.0            0\n4  524290  10/22/13          2           LADIESWEAR    0.0            0",
      "text/html": "<div>\n<style scoped>\n    .dataframe tbody tr th:only-of-type {\n        vertical-align: middle;\n    }\n\n    .dataframe tbody tr th {\n        vertical-align: top;\n    }\n\n    .dataframe thead th {\n        text-align: right;\n    }\n</style>\n<table border=\"1\" class=\"dataframe\">\n  <thead>\n    <tr style=\"text-align: right;\">\n      <th></th>\n      <th>id</th>\n      <th>date</th>\n      <th>store_nbr</th>\n      <th>family</th>\n      <th>sales</th>\n      <th>onpromotion</th>\n    </tr>\n  </thead>\n  <tbody>\n    <tr>\n      <th>0</th>\n      <td>524286</td>\n      <td>10/22/13</td>\n      <td>2</td>\n      <td>HOME AND KITCHEN I</td>\n      <td>0.0</td>\n      <td>0</td>\n    </tr>\n    <tr>\n      <th>1</th>\n      <td>524287</td>\n      <td>10/22/13</td>\n      <td>2</td>\n      <td>HOME AND KITCHEN II</td>\n      <td>0.0</td>\n      <td>0</td>\n    </tr>\n    <tr>\n      <th>2</th>\n      <td>524288</td>\n      <td>10/22/13</td>\n      <td>2</td>\n      <td>HOME APPLIANCES</td>\n      <td>0.0</td>\n      <td>0</td>\n    </tr>\n    <tr>\n      <th>3</th>\n      <td>524289</td>\n      <td>10/22/13</td>\n      <td>2</td>\n      <td>HOME CARE</td>\n      <td>0.0</td>\n      <td>0</td>\n    </tr>\n    <tr>\n      <th>4</th>\n      <td>524290</td>\n      <td>10/22/13</td>\n      <td>2</td>\n      <td>LADIESWEAR</td>\n      <td>0.0</td>\n      <td>0</td>\n    </tr>\n  </tbody>\n</table>\n</div>"
     },
     "execution_count": 21,
     "metadata": {},
     "output_type": "execute_result"
    }
   ],
   "source": [
    "df_train_3 = pd.read_csv(\"train3.csv\")\n",
    "df_train_3.head()"
   ],
   "metadata": {
    "collapsed": false,
    "ExecuteTime": {
     "end_time": "2023-08-21T18:28:11.696046Z",
     "start_time": "2023-08-21T18:28:11.619085Z"
    }
   },
   "id": "d51574b582a925e5"
  },
  {
   "cell_type": "code",
   "execution_count": 22,
   "outputs": [
    {
     "data": {
      "text/plain": "       id     date  store_nbr       family    sales  onpromotion\n0  786429  3/19/14         25  CELEBRATION    8.000            0\n1  786430  3/19/14         25     CLEANING  485.000            0\n2  786431  3/19/14         25        DAIRY  588.000            0\n3  786432  3/19/14         25         DELI  116.357            0\n4  786433  3/19/14         25         EGGS  119.000            0",
      "text/html": "<div>\n<style scoped>\n    .dataframe tbody tr th:only-of-type {\n        vertical-align: middle;\n    }\n\n    .dataframe tbody tr th {\n        vertical-align: top;\n    }\n\n    .dataframe thead th {\n        text-align: right;\n    }\n</style>\n<table border=\"1\" class=\"dataframe\">\n  <thead>\n    <tr style=\"text-align: right;\">\n      <th></th>\n      <th>id</th>\n      <th>date</th>\n      <th>store_nbr</th>\n      <th>family</th>\n      <th>sales</th>\n      <th>onpromotion</th>\n    </tr>\n  </thead>\n  <tbody>\n    <tr>\n      <th>0</th>\n      <td>786429</td>\n      <td>3/19/14</td>\n      <td>25</td>\n      <td>CELEBRATION</td>\n      <td>8.000</td>\n      <td>0</td>\n    </tr>\n    <tr>\n      <th>1</th>\n      <td>786430</td>\n      <td>3/19/14</td>\n      <td>25</td>\n      <td>CLEANING</td>\n      <td>485.000</td>\n      <td>0</td>\n    </tr>\n    <tr>\n      <th>2</th>\n      <td>786431</td>\n      <td>3/19/14</td>\n      <td>25</td>\n      <td>DAIRY</td>\n      <td>588.000</td>\n      <td>0</td>\n    </tr>\n    <tr>\n      <th>3</th>\n      <td>786432</td>\n      <td>3/19/14</td>\n      <td>25</td>\n      <td>DELI</td>\n      <td>116.357</td>\n      <td>0</td>\n    </tr>\n    <tr>\n      <th>4</th>\n      <td>786433</td>\n      <td>3/19/14</td>\n      <td>25</td>\n      <td>EGGS</td>\n      <td>119.000</td>\n      <td>0</td>\n    </tr>\n  </tbody>\n</table>\n</div>"
     },
     "execution_count": 22,
     "metadata": {},
     "output_type": "execute_result"
    }
   ],
   "source": [
    "df_train_4 = pd.read_csv(\"train4.csv\")\n",
    "df_train_4.head()"
   ],
   "metadata": {
    "collapsed": false,
    "ExecuteTime": {
     "end_time": "2023-08-21T18:28:14.842387Z",
     "start_time": "2023-08-21T18:28:14.749759Z"
    }
   },
   "id": "ea23efb901168244"
  },
  {
   "cell_type": "code",
   "execution_count": 23,
   "outputs": [
    {
     "name": "stdout",
     "output_type": "stream",
     "text": [
      "Total length of training dataframes :  1048575\n"
     ]
    }
   ],
   "source": [
    "print(\"Total length of training dataframes : \",(len(df_train_1)+len(df_train_2)+len(df_train_3)+len(df_train_4)))"
   ],
   "metadata": {
    "collapsed": false,
    "ExecuteTime": {
     "end_time": "2023-08-21T18:28:22.536585Z",
     "start_time": "2023-08-21T18:28:22.530026Z"
    }
   },
   "id": "881b17b9b43cf387"
  },
  {
   "cell_type": "markdown",
   "source": [
    "### Merging all training dataframes into one single dataframe"
   ],
   "metadata": {
    "collapsed": false
   },
   "id": "cca2c5005a212006"
  },
  {
   "cell_type": "code",
   "execution_count": 24,
   "outputs": [
    {
     "data": {
      "text/plain": "   id    date  store_nbr      family  sales  onpromotion\n0   0  1/1/13          1  AUTOMOTIVE    0.0            0\n1   1  1/1/13          1   BABY CARE    0.0            0\n2   2  1/1/13          1      BEAUTY    0.0            0\n3   3  1/1/13          1   BEVERAGES    0.0            0\n4   4  1/1/13          1       BOOKS    0.0            0",
      "text/html": "<div>\n<style scoped>\n    .dataframe tbody tr th:only-of-type {\n        vertical-align: middle;\n    }\n\n    .dataframe tbody tr th {\n        vertical-align: top;\n    }\n\n    .dataframe thead th {\n        text-align: right;\n    }\n</style>\n<table border=\"1\" class=\"dataframe\">\n  <thead>\n    <tr style=\"text-align: right;\">\n      <th></th>\n      <th>id</th>\n      <th>date</th>\n      <th>store_nbr</th>\n      <th>family</th>\n      <th>sales</th>\n      <th>onpromotion</th>\n    </tr>\n  </thead>\n  <tbody>\n    <tr>\n      <th>0</th>\n      <td>0</td>\n      <td>1/1/13</td>\n      <td>1</td>\n      <td>AUTOMOTIVE</td>\n      <td>0.0</td>\n      <td>0</td>\n    </tr>\n    <tr>\n      <th>1</th>\n      <td>1</td>\n      <td>1/1/13</td>\n      <td>1</td>\n      <td>BABY CARE</td>\n      <td>0.0</td>\n      <td>0</td>\n    </tr>\n    <tr>\n      <th>2</th>\n      <td>2</td>\n      <td>1/1/13</td>\n      <td>1</td>\n      <td>BEAUTY</td>\n      <td>0.0</td>\n      <td>0</td>\n    </tr>\n    <tr>\n      <th>3</th>\n      <td>3</td>\n      <td>1/1/13</td>\n      <td>1</td>\n      <td>BEVERAGES</td>\n      <td>0.0</td>\n      <td>0</td>\n    </tr>\n    <tr>\n      <th>4</th>\n      <td>4</td>\n      <td>1/1/13</td>\n      <td>1</td>\n      <td>BOOKS</td>\n      <td>0.0</td>\n      <td>0</td>\n    </tr>\n  </tbody>\n</table>\n</div>"
     },
     "execution_count": 24,
     "metadata": {},
     "output_type": "execute_result"
    }
   ],
   "source": [
    "a = df_train_1.append(df_train_2)\n",
    "b = df_train_3.append(df_train_4)\n",
    "df_train = a.append(b)\n",
    "df_train.head()"
   ],
   "metadata": {
    "collapsed": false,
    "ExecuteTime": {
     "end_time": "2023-08-21T18:28:42.394499Z",
     "start_time": "2023-08-21T18:28:42.348509Z"
    }
   },
   "id": "5c02280afe6354f7"
  },
  {
   "cell_type": "code",
   "execution_count": 25,
   "outputs": [
    {
     "name": "stdout",
     "output_type": "stream",
     "text": [
      "Total length of merged dataframe :  1048575\n"
     ]
    }
   ],
   "source": [
    "print(\"Total length of merged dataframe : \",(len(df_train)))"
   ],
   "metadata": {
    "collapsed": false,
    "ExecuteTime": {
     "end_time": "2023-08-21T18:28:45.767482Z",
     "start_time": "2023-08-21T18:28:45.755159Z"
    }
   },
   "id": "d6cd26419e639ba0"
  },
  {
   "cell_type": "markdown",
   "source": [
    "### Importing testing dataset"
   ],
   "metadata": {
    "collapsed": false
   },
   "id": "35638e1c8c6290e9"
  },
  {
   "cell_type": "code",
   "execution_count": 26,
   "outputs": [
    {
     "data": {
      "text/plain": "        id        date  store_nbr      family  onpromotion\n0  3000888  2017-08-16          1  AUTOMOTIVE            0\n1  3000889  2017-08-16          1   BABY CARE            0\n2  3000890  2017-08-16          1      BEAUTY            2\n3  3000891  2017-08-16          1   BEVERAGES           20\n4  3000892  2017-08-16          1       BOOKS            0",
      "text/html": "<div>\n<style scoped>\n    .dataframe tbody tr th:only-of-type {\n        vertical-align: middle;\n    }\n\n    .dataframe tbody tr th {\n        vertical-align: top;\n    }\n\n    .dataframe thead th {\n        text-align: right;\n    }\n</style>\n<table border=\"1\" class=\"dataframe\">\n  <thead>\n    <tr style=\"text-align: right;\">\n      <th></th>\n      <th>id</th>\n      <th>date</th>\n      <th>store_nbr</th>\n      <th>family</th>\n      <th>onpromotion</th>\n    </tr>\n  </thead>\n  <tbody>\n    <tr>\n      <th>0</th>\n      <td>3000888</td>\n      <td>2017-08-16</td>\n      <td>1</td>\n      <td>AUTOMOTIVE</td>\n      <td>0</td>\n    </tr>\n    <tr>\n      <th>1</th>\n      <td>3000889</td>\n      <td>2017-08-16</td>\n      <td>1</td>\n      <td>BABY CARE</td>\n      <td>0</td>\n    </tr>\n    <tr>\n      <th>2</th>\n      <td>3000890</td>\n      <td>2017-08-16</td>\n      <td>1</td>\n      <td>BEAUTY</td>\n      <td>2</td>\n    </tr>\n    <tr>\n      <th>3</th>\n      <td>3000891</td>\n      <td>2017-08-16</td>\n      <td>1</td>\n      <td>BEVERAGES</td>\n      <td>20</td>\n    </tr>\n    <tr>\n      <th>4</th>\n      <td>3000892</td>\n      <td>2017-08-16</td>\n      <td>1</td>\n      <td>BOOKS</td>\n      <td>0</td>\n    </tr>\n  </tbody>\n</table>\n</div>"
     },
     "execution_count": 26,
     "metadata": {},
     "output_type": "execute_result"
    }
   ],
   "source": [
    "df_test = pd.read_csv(\"test.csv\")\n",
    "df_test.head()"
   ],
   "metadata": {
    "collapsed": false,
    "ExecuteTime": {
     "end_time": "2023-08-21T18:29:33.156411Z",
     "start_time": "2023-08-21T18:29:33.142957Z"
    }
   },
   "id": "856cdbdf251a6c4"
  },
  {
   "cell_type": "code",
   "execution_count": 27,
   "outputs": [
    {
     "name": "stdout",
     "output_type": "stream",
     "text": [
      "Total length of testing dataframe :  28512\n"
     ]
    }
   ],
   "source": [
    "print(\"Total length of testing dataframe : \",(len(df_test)))"
   ],
   "metadata": {
    "collapsed": false,
    "ExecuteTime": {
     "end_time": "2023-08-21T18:29:46.008362Z",
     "start_time": "2023-08-21T18:29:45.991628Z"
    }
   },
   "id": "5198b8ec4cd2800f"
  },
  {
   "cell_type": "code",
   "execution_count": null,
   "outputs": [],
   "source": [],
   "metadata": {
    "collapsed": false
   },
   "id": "8bd7a636df937a90"
  }
 ],
 "metadata": {
  "kernelspec": {
   "display_name": "Python 3",
   "language": "python",
   "name": "python3"
  },
  "language_info": {
   "codemirror_mode": {
    "name": "ipython",
    "version": 2
   },
   "file_extension": ".py",
   "mimetype": "text/x-python",
   "name": "python",
   "nbconvert_exporter": "python",
   "pygments_lexer": "ipython2",
   "version": "2.7.6"
  }
 },
 "nbformat": 4,
 "nbformat_minor": 5
}
