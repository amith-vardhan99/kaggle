{
 "cells": [
  {
   "cell_type": "markdown",
   "source": [
    "# Store Sales - Time Series Forecasting"
   ],
   "metadata": {
    "collapsed": false
   },
   "id": "cbbaa856b210c073"
  },
  {
   "cell_type": "markdown",
   "source": [
    "### Use machine learning to predict grocery sales"
   ],
   "metadata": {
    "collapsed": false
   },
   "id": "78ce9990408ff9c3"
  },
  {
   "cell_type": "markdown",
   "source": [
    "Kaggle link: [Store Sales - Time Series Forecasting](https://www.kaggle.com/competitions/store-sales-time-series-forecasting)"
   ],
   "metadata": {
    "collapsed": false
   },
   "id": "fe65d401b733a079"
  },
  {
   "cell_type": "markdown",
   "source": [
    "### Context\n",
    "Forecasts aren’t just for meteorologists. Governments forecast economic growth. Scientists attempt to predict the future population. And businesses forecast product demand—a common task of professional data scientists. Forecasts are especially relevant to brick-and-mortar grocery stores, which must dance delicately with how much inventory to buy. Predict a little over, and grocers are stuck with overstocked, perishable goods. Guess a little under, and popular items quickly sell out, leading to lost revenue and upset customers. More accurate forecasting, thanks to machine learning, could help ensure retailers please customers by having just enough of the right products at the right time.\n",
    "\n",
    "Current subjective forecasting methods for retail have little data to back them up and are unlikely to be automated. The problem becomes even more complex as retailers add new locations with unique needs, new products, ever-transitioning seasonal tastes, and unpredictable product marketing."
   ],
   "metadata": {
    "collapsed": false
   },
   "id": "a6d1514cea2f0780"
  },
  {
   "cell_type": "markdown",
   "source": [
    "### Potential Impact\n",
    "If successful, you'll have flexed some new skills in a real world example. For grocery stores, more accurate forecasting can decrease food waste related to overstocking and improve customer satisfaction. The results of this ongoing competition, over time, might even ensure your local store has exactly what you need the next time you shop."
   ],
   "metadata": {
    "collapsed": false
   },
   "id": "a615fac69b9ca5f"
  },
  {
   "cell_type": "markdown",
   "source": [
    "### Dataset Description\n",
    "In this competition, you will predict sales for the thousands of product families sold at Favorita stores located in Ecuador. The training data includes dates, store and product information, whether that item was being promoted, as well as the sales numbers. Additional files include supplementary information that may be useful in building your models."
   ],
   "metadata": {
    "collapsed": false
   },
   "id": "ecaa60347fc104d0"
  },
  {
   "cell_type": "markdown",
   "source": [
    "### File Descriptions and Data Field Information\n",
    "\n",
    "**train.csv**\n",
    "The training data, comprising time series of features store_nbr, family, and onpromotion as well as the target sales.\n",
    "**store_nbr** identifies the store at which the products are sold.\n",
    "**family** identifies the type of product sold.\n",
    "**sales** gives the total sales for a product family at a particular store at a given date. Fractional values are possible since products can be sold in fractional units (1.5 kg of cheese, for instance, as opposed to 1 bag of chips).\n",
    "**onpromotion** gives the total number of items in a product family that were being promoted at a store at a given date.\n",
    "\n",
    "**test.csv**\n",
    "The test data, having the same features as the training data. You will predict the target sales for the dates in this file.\n",
    "The dates in the test data are for the 15 days after the last date in the training data.\n",
    "\n",
    "**sample_submission.csv**\n",
    "A sample submission file in the correct format.\n",
    "\n",
    "**stores.csv**\n",
    "Store metadata, including city, state, type, and cluster.\n",
    "cluster is a grouping of similar stores.\n",
    "\n",
    "**oil.csv**\n",
    "Daily oil price. Includes values during both the train and test data timeframes. (Ecuador is an oil-dependent country and it's economical health is highly vulnerable to shocks in oil prices.)\n",
    "\n",
    "**holidays_events.csv**\n",
    "* Holidays and Events, with metadata\n",
    "* NOTE: Pay special attention to the transferred column. A holiday that is transferred officially falls on that calendar day, but was moved to another date by the government. A transferred day is more like a normal day than a holiday. To find the day that it was actually celebrated, look for the corresponding row where type is Transfer. For example, the holiday Independencia de Guayaquil was transferred from 2012-10-09 to 2012-10-12, which means it was celebrated on 2012-10-12. Days that are type Bridge are extra days that are added to a holiday (e.g., to extend the break across a long weekend). These are frequently made up by the type Work Day which is a day not normally scheduled for work (e.g., Saturday) that is meant to payback the Bridge.\n",
    "* Additional holidays are days added a regular calendar holiday, for example, as typically happens around Christmas (making Christmas Eve a holiday)."
   ],
   "metadata": {
    "collapsed": false
   },
   "id": "86d2119a0df9f8e7"
  },
  {
   "cell_type": "markdown",
   "source": [
    "### Additional Notes\n",
    "\n",
    "* Wages in the public sector are paid every two weeks on the 15 th and on the last day of the month. Supermarket sales could be affected by this.\n",
    "* A magnitude 7.8 earthquake struck Ecuador on April 16, 2016. People rallied in relief efforts donating water and other first need products which greatly affected supermarket sales for several weeks after the earthquake."
   ],
   "metadata": {
    "collapsed": false
   },
   "id": "4b76a30b8e450ff8"
  },
  {
   "cell_type": "markdown",
   "source": [
    "### Importing all libraries"
   ],
   "metadata": {
    "collapsed": false
   },
   "id": "1286d038b63cd9ca"
  },
  {
   "cell_type": "code",
   "execution_count": 1,
   "outputs": [],
   "source": [
    "import numpy as np\n",
    "import pandas as pd\n",
    "import matplotlib.pyplot as plt\n",
    "import seaborn as sns\n",
    "from sklearn.model_selection import *\n",
    "from sklearn.linear_model import *\n",
    "from math import *\n",
    "from sklearn.ensemble import *\n",
    "from sklearn.feature_selection import *\n",
    "from sklearn.feature_extraction import *\n",
    "from sklearn.naive_bayes import *\n",
    "from sklearn.discriminant_analysis import *\n",
    "from sklearn.preprocessing import *\n",
    "from sklearn.metrics import *\n",
    "from sklearn.neighbors import *\n",
    "from sklearn.cluster import *\n",
    "from sklearn.svm import *\n",
    "import warnings\n",
    "warnings.filterwarnings(\"ignore\")"
   ],
   "metadata": {
    "collapsed": false,
    "ExecuteTime": {
     "end_time": "2023-08-23T00:04:35.620202Z",
     "start_time": "2023-08-23T00:04:35.430873Z"
    }
   },
   "id": "877982056381b1d0"
  },
  {
   "cell_type": "markdown",
   "source": [
    "### Importing the training datasets"
   ],
   "metadata": {
    "collapsed": false
   },
   "id": "2eb54b99d2966bcb"
  },
  {
   "cell_type": "code",
   "execution_count": 2,
   "outputs": [
    {
     "data": {
      "text/plain": "   id    date  store_nbr      family  sales  onpromotion\n0   0  1/1/13          1  AUTOMOTIVE    0.0            0\n1   1  1/1/13          1   BABY CARE    0.0            0\n2   2  1/1/13          1      BEAUTY    0.0            0\n3   3  1/1/13          1   BEVERAGES    0.0            0\n4   4  1/1/13          1       BOOKS    0.0            0",
      "text/html": "<div>\n<style scoped>\n    .dataframe tbody tr th:only-of-type {\n        vertical-align: middle;\n    }\n\n    .dataframe tbody tr th {\n        vertical-align: top;\n    }\n\n    .dataframe thead th {\n        text-align: right;\n    }\n</style>\n<table border=\"1\" class=\"dataframe\">\n  <thead>\n    <tr style=\"text-align: right;\">\n      <th></th>\n      <th>id</th>\n      <th>date</th>\n      <th>store_nbr</th>\n      <th>family</th>\n      <th>sales</th>\n      <th>onpromotion</th>\n    </tr>\n  </thead>\n  <tbody>\n    <tr>\n      <th>0</th>\n      <td>0</td>\n      <td>1/1/13</td>\n      <td>1</td>\n      <td>AUTOMOTIVE</td>\n      <td>0.0</td>\n      <td>0</td>\n    </tr>\n    <tr>\n      <th>1</th>\n      <td>1</td>\n      <td>1/1/13</td>\n      <td>1</td>\n      <td>BABY CARE</td>\n      <td>0.0</td>\n      <td>0</td>\n    </tr>\n    <tr>\n      <th>2</th>\n      <td>2</td>\n      <td>1/1/13</td>\n      <td>1</td>\n      <td>BEAUTY</td>\n      <td>0.0</td>\n      <td>0</td>\n    </tr>\n    <tr>\n      <th>3</th>\n      <td>3</td>\n      <td>1/1/13</td>\n      <td>1</td>\n      <td>BEVERAGES</td>\n      <td>0.0</td>\n      <td>0</td>\n    </tr>\n    <tr>\n      <th>4</th>\n      <td>4</td>\n      <td>1/1/13</td>\n      <td>1</td>\n      <td>BOOKS</td>\n      <td>0.0</td>\n      <td>0</td>\n    </tr>\n  </tbody>\n</table>\n</div>"
     },
     "execution_count": 2,
     "metadata": {},
     "output_type": "execute_result"
    }
   ],
   "source": [
    "df_train_1 = pd.read_csv(\"train1.csv\")\n",
    "df_train_1.head()"
   ],
   "metadata": {
    "collapsed": false,
    "ExecuteTime": {
     "end_time": "2023-08-23T00:00:20.159605Z",
     "start_time": "2023-08-23T00:00:20.075155Z"
    }
   },
   "id": "29a2e4fba8dbb7ca"
  },
  {
   "cell_type": "code",
   "execution_count": 3,
   "outputs": [
    {
     "data": {
      "text/plain": "       id     date  store_nbr                   family       sales  \\\n0  262143  5/28/13         14                    MEATS  310.173000   \n1  262144  5/28/13         14            PERSONAL CARE  227.000000   \n2  262145  5/28/13         14             PET SUPPLIES    0.000000   \n3  262146  5/28/13         14  PLAYERS AND ELECTRONICS    0.000000   \n4  262147  5/28/13         14                  POULTRY   47.809002   \n\n   onpromotion  \n0            0  \n1            0  \n2            0  \n3            0  \n4            0  ",
      "text/html": "<div>\n<style scoped>\n    .dataframe tbody tr th:only-of-type {\n        vertical-align: middle;\n    }\n\n    .dataframe tbody tr th {\n        vertical-align: top;\n    }\n\n    .dataframe thead th {\n        text-align: right;\n    }\n</style>\n<table border=\"1\" class=\"dataframe\">\n  <thead>\n    <tr style=\"text-align: right;\">\n      <th></th>\n      <th>id</th>\n      <th>date</th>\n      <th>store_nbr</th>\n      <th>family</th>\n      <th>sales</th>\n      <th>onpromotion</th>\n    </tr>\n  </thead>\n  <tbody>\n    <tr>\n      <th>0</th>\n      <td>262143</td>\n      <td>5/28/13</td>\n      <td>14</td>\n      <td>MEATS</td>\n      <td>310.173000</td>\n      <td>0</td>\n    </tr>\n    <tr>\n      <th>1</th>\n      <td>262144</td>\n      <td>5/28/13</td>\n      <td>14</td>\n      <td>PERSONAL CARE</td>\n      <td>227.000000</td>\n      <td>0</td>\n    </tr>\n    <tr>\n      <th>2</th>\n      <td>262145</td>\n      <td>5/28/13</td>\n      <td>14</td>\n      <td>PET SUPPLIES</td>\n      <td>0.000000</td>\n      <td>0</td>\n    </tr>\n    <tr>\n      <th>3</th>\n      <td>262146</td>\n      <td>5/28/13</td>\n      <td>14</td>\n      <td>PLAYERS AND ELECTRONICS</td>\n      <td>0.000000</td>\n      <td>0</td>\n    </tr>\n    <tr>\n      <th>4</th>\n      <td>262147</td>\n      <td>5/28/13</td>\n      <td>14</td>\n      <td>POULTRY</td>\n      <td>47.809002</td>\n      <td>0</td>\n    </tr>\n  </tbody>\n</table>\n</div>"
     },
     "execution_count": 3,
     "metadata": {},
     "output_type": "execute_result"
    }
   ],
   "source": [
    "df_train_2 = pd.read_csv(\"train2.csv\")\n",
    "df_train_2.head()"
   ],
   "metadata": {
    "collapsed": false,
    "ExecuteTime": {
     "end_time": "2023-08-23T00:00:20.657009Z",
     "start_time": "2023-08-23T00:00:20.574878Z"
    }
   },
   "id": "e10c18bafc404ec"
  },
  {
   "cell_type": "code",
   "execution_count": 4,
   "outputs": [
    {
     "data": {
      "text/plain": "       id      date  store_nbr               family  sales  onpromotion\n0  524286  10/22/13          2   HOME AND KITCHEN I    0.0            0\n1  524287  10/22/13          2  HOME AND KITCHEN II    0.0            0\n2  524288  10/22/13          2      HOME APPLIANCES    0.0            0\n3  524289  10/22/13          2            HOME CARE    0.0            0\n4  524290  10/22/13          2           LADIESWEAR    0.0            0",
      "text/html": "<div>\n<style scoped>\n    .dataframe tbody tr th:only-of-type {\n        vertical-align: middle;\n    }\n\n    .dataframe tbody tr th {\n        vertical-align: top;\n    }\n\n    .dataframe thead th {\n        text-align: right;\n    }\n</style>\n<table border=\"1\" class=\"dataframe\">\n  <thead>\n    <tr style=\"text-align: right;\">\n      <th></th>\n      <th>id</th>\n      <th>date</th>\n      <th>store_nbr</th>\n      <th>family</th>\n      <th>sales</th>\n      <th>onpromotion</th>\n    </tr>\n  </thead>\n  <tbody>\n    <tr>\n      <th>0</th>\n      <td>524286</td>\n      <td>10/22/13</td>\n      <td>2</td>\n      <td>HOME AND KITCHEN I</td>\n      <td>0.0</td>\n      <td>0</td>\n    </tr>\n    <tr>\n      <th>1</th>\n      <td>524287</td>\n      <td>10/22/13</td>\n      <td>2</td>\n      <td>HOME AND KITCHEN II</td>\n      <td>0.0</td>\n      <td>0</td>\n    </tr>\n    <tr>\n      <th>2</th>\n      <td>524288</td>\n      <td>10/22/13</td>\n      <td>2</td>\n      <td>HOME APPLIANCES</td>\n      <td>0.0</td>\n      <td>0</td>\n    </tr>\n    <tr>\n      <th>3</th>\n      <td>524289</td>\n      <td>10/22/13</td>\n      <td>2</td>\n      <td>HOME CARE</td>\n      <td>0.0</td>\n      <td>0</td>\n    </tr>\n    <tr>\n      <th>4</th>\n      <td>524290</td>\n      <td>10/22/13</td>\n      <td>2</td>\n      <td>LADIESWEAR</td>\n      <td>0.0</td>\n      <td>0</td>\n    </tr>\n  </tbody>\n</table>\n</div>"
     },
     "execution_count": 4,
     "metadata": {},
     "output_type": "execute_result"
    }
   ],
   "source": [
    "df_train_3 = pd.read_csv(\"train3.csv\")\n",
    "df_train_3.head()"
   ],
   "metadata": {
    "collapsed": false,
    "ExecuteTime": {
     "end_time": "2023-08-23T00:00:21.255455Z",
     "start_time": "2023-08-23T00:00:21.178323Z"
    }
   },
   "id": "d51574b582a925e5"
  },
  {
   "cell_type": "code",
   "execution_count": 5,
   "outputs": [
    {
     "data": {
      "text/plain": "       id     date  store_nbr       family    sales  onpromotion\n0  786429  3/19/14         25  CELEBRATION    8.000            0\n1  786430  3/19/14         25     CLEANING  485.000            0\n2  786431  3/19/14         25        DAIRY  588.000            0\n3  786432  3/19/14         25         DELI  116.357            0\n4  786433  3/19/14         25         EGGS  119.000            0",
      "text/html": "<div>\n<style scoped>\n    .dataframe tbody tr th:only-of-type {\n        vertical-align: middle;\n    }\n\n    .dataframe tbody tr th {\n        vertical-align: top;\n    }\n\n    .dataframe thead th {\n        text-align: right;\n    }\n</style>\n<table border=\"1\" class=\"dataframe\">\n  <thead>\n    <tr style=\"text-align: right;\">\n      <th></th>\n      <th>id</th>\n      <th>date</th>\n      <th>store_nbr</th>\n      <th>family</th>\n      <th>sales</th>\n      <th>onpromotion</th>\n    </tr>\n  </thead>\n  <tbody>\n    <tr>\n      <th>0</th>\n      <td>786429</td>\n      <td>3/19/14</td>\n      <td>25</td>\n      <td>CELEBRATION</td>\n      <td>8.000</td>\n      <td>0</td>\n    </tr>\n    <tr>\n      <th>1</th>\n      <td>786430</td>\n      <td>3/19/14</td>\n      <td>25</td>\n      <td>CLEANING</td>\n      <td>485.000</td>\n      <td>0</td>\n    </tr>\n    <tr>\n      <th>2</th>\n      <td>786431</td>\n      <td>3/19/14</td>\n      <td>25</td>\n      <td>DAIRY</td>\n      <td>588.000</td>\n      <td>0</td>\n    </tr>\n    <tr>\n      <th>3</th>\n      <td>786432</td>\n      <td>3/19/14</td>\n      <td>25</td>\n      <td>DELI</td>\n      <td>116.357</td>\n      <td>0</td>\n    </tr>\n    <tr>\n      <th>4</th>\n      <td>786433</td>\n      <td>3/19/14</td>\n      <td>25</td>\n      <td>EGGS</td>\n      <td>119.000</td>\n      <td>0</td>\n    </tr>\n  </tbody>\n</table>\n</div>"
     },
     "execution_count": 5,
     "metadata": {},
     "output_type": "execute_result"
    }
   ],
   "source": [
    "df_train_4 = pd.read_csv(\"train4.csv\")\n",
    "df_train_4.head()"
   ],
   "metadata": {
    "collapsed": false,
    "ExecuteTime": {
     "end_time": "2023-08-23T00:00:21.677224Z",
     "start_time": "2023-08-23T00:00:21.601397Z"
    }
   },
   "id": "ea23efb901168244"
  },
  {
   "cell_type": "code",
   "execution_count": 6,
   "outputs": [
    {
     "name": "stdout",
     "output_type": "stream",
     "text": [
      "Total length of training dataframes :  1048575\n"
     ]
    }
   ],
   "source": [
    "print(\"Total length of training dataframes : \",(len(df_train_1)+len(df_train_2)+len(df_train_3)+len(df_train_4)))"
   ],
   "metadata": {
    "collapsed": false,
    "ExecuteTime": {
     "end_time": "2023-08-23T00:00:21.949537Z",
     "start_time": "2023-08-23T00:00:21.941484Z"
    }
   },
   "id": "881b17b9b43cf387"
  },
  {
   "cell_type": "markdown",
   "source": [
    "### Merging all training dataframes into one single dataframe"
   ],
   "metadata": {
    "collapsed": false
   },
   "id": "cca2c5005a212006"
  },
  {
   "cell_type": "code",
   "execution_count": 7,
   "outputs": [
    {
     "data": {
      "text/plain": "   id    date  store_nbr      family  sales  onpromotion\n0   0  1/1/13          1  AUTOMOTIVE    0.0            0\n1   1  1/1/13          1   BABY CARE    0.0            0\n2   2  1/1/13          1      BEAUTY    0.0            0\n3   3  1/1/13          1   BEVERAGES    0.0            0\n4   4  1/1/13          1       BOOKS    0.0            0",
      "text/html": "<div>\n<style scoped>\n    .dataframe tbody tr th:only-of-type {\n        vertical-align: middle;\n    }\n\n    .dataframe tbody tr th {\n        vertical-align: top;\n    }\n\n    .dataframe thead th {\n        text-align: right;\n    }\n</style>\n<table border=\"1\" class=\"dataframe\">\n  <thead>\n    <tr style=\"text-align: right;\">\n      <th></th>\n      <th>id</th>\n      <th>date</th>\n      <th>store_nbr</th>\n      <th>family</th>\n      <th>sales</th>\n      <th>onpromotion</th>\n    </tr>\n  </thead>\n  <tbody>\n    <tr>\n      <th>0</th>\n      <td>0</td>\n      <td>1/1/13</td>\n      <td>1</td>\n      <td>AUTOMOTIVE</td>\n      <td>0.0</td>\n      <td>0</td>\n    </tr>\n    <tr>\n      <th>1</th>\n      <td>1</td>\n      <td>1/1/13</td>\n      <td>1</td>\n      <td>BABY CARE</td>\n      <td>0.0</td>\n      <td>0</td>\n    </tr>\n    <tr>\n      <th>2</th>\n      <td>2</td>\n      <td>1/1/13</td>\n      <td>1</td>\n      <td>BEAUTY</td>\n      <td>0.0</td>\n      <td>0</td>\n    </tr>\n    <tr>\n      <th>3</th>\n      <td>3</td>\n      <td>1/1/13</td>\n      <td>1</td>\n      <td>BEVERAGES</td>\n      <td>0.0</td>\n      <td>0</td>\n    </tr>\n    <tr>\n      <th>4</th>\n      <td>4</td>\n      <td>1/1/13</td>\n      <td>1</td>\n      <td>BOOKS</td>\n      <td>0.0</td>\n      <td>0</td>\n    </tr>\n  </tbody>\n</table>\n</div>"
     },
     "execution_count": 7,
     "metadata": {},
     "output_type": "execute_result"
    }
   ],
   "source": [
    "df_train = pd.concat([df_train_1,df_train_2,df_train_3, df_train_4])\n",
    "df_train.head()"
   ],
   "metadata": {
    "collapsed": false,
    "ExecuteTime": {
     "end_time": "2023-08-23T00:00:22.686558Z",
     "start_time": "2023-08-23T00:00:22.658527Z"
    }
   },
   "id": "5c02280afe6354f7"
  },
  {
   "cell_type": "code",
   "execution_count": 8,
   "outputs": [
    {
     "name": "stdout",
     "output_type": "stream",
     "text": [
      "Total length of merged dataframe :  1048575\n"
     ]
    }
   ],
   "source": [
    "print(\"Total length of merged dataframe : \",(len(df_train)))"
   ],
   "metadata": {
    "collapsed": false,
    "ExecuteTime": {
     "end_time": "2023-08-23T00:00:23.148890Z",
     "start_time": "2023-08-23T00:00:23.137977Z"
    }
   },
   "id": "d6cd26419e639ba0"
  },
  {
   "cell_type": "markdown",
   "source": [
    "### Importing testing dataset"
   ],
   "metadata": {
    "collapsed": false
   },
   "id": "35638e1c8c6290e9"
  },
  {
   "cell_type": "code",
   "execution_count": 9,
   "outputs": [
    {
     "data": {
      "text/plain": "        id        date  store_nbr      family  onpromotion\n0  3000888  2017-08-16          1  AUTOMOTIVE            0\n1  3000889  2017-08-16          1   BABY CARE            0\n2  3000890  2017-08-16          1      BEAUTY            2\n3  3000891  2017-08-16          1   BEVERAGES           20\n4  3000892  2017-08-16          1       BOOKS            0",
      "text/html": "<div>\n<style scoped>\n    .dataframe tbody tr th:only-of-type {\n        vertical-align: middle;\n    }\n\n    .dataframe tbody tr th {\n        vertical-align: top;\n    }\n\n    .dataframe thead th {\n        text-align: right;\n    }\n</style>\n<table border=\"1\" class=\"dataframe\">\n  <thead>\n    <tr style=\"text-align: right;\">\n      <th></th>\n      <th>id</th>\n      <th>date</th>\n      <th>store_nbr</th>\n      <th>family</th>\n      <th>onpromotion</th>\n    </tr>\n  </thead>\n  <tbody>\n    <tr>\n      <th>0</th>\n      <td>3000888</td>\n      <td>2017-08-16</td>\n      <td>1</td>\n      <td>AUTOMOTIVE</td>\n      <td>0</td>\n    </tr>\n    <tr>\n      <th>1</th>\n      <td>3000889</td>\n      <td>2017-08-16</td>\n      <td>1</td>\n      <td>BABY CARE</td>\n      <td>0</td>\n    </tr>\n    <tr>\n      <th>2</th>\n      <td>3000890</td>\n      <td>2017-08-16</td>\n      <td>1</td>\n      <td>BEAUTY</td>\n      <td>2</td>\n    </tr>\n    <tr>\n      <th>3</th>\n      <td>3000891</td>\n      <td>2017-08-16</td>\n      <td>1</td>\n      <td>BEVERAGES</td>\n      <td>20</td>\n    </tr>\n    <tr>\n      <th>4</th>\n      <td>3000892</td>\n      <td>2017-08-16</td>\n      <td>1</td>\n      <td>BOOKS</td>\n      <td>0</td>\n    </tr>\n  </tbody>\n</table>\n</div>"
     },
     "execution_count": 9,
     "metadata": {},
     "output_type": "execute_result"
    }
   ],
   "source": [
    "df_test = pd.read_csv(\"test.csv\")\n",
    "df_test.head()"
   ],
   "metadata": {
    "collapsed": false,
    "ExecuteTime": {
     "end_time": "2023-08-23T00:00:23.817479Z",
     "start_time": "2023-08-23T00:00:23.798333Z"
    }
   },
   "id": "856cdbdf251a6c4"
  },
  {
   "cell_type": "code",
   "execution_count": 10,
   "outputs": [
    {
     "name": "stdout",
     "output_type": "stream",
     "text": [
      "Total length of testing dataframe :  28512\n"
     ]
    }
   ],
   "source": [
    "print(\"Total length of testing dataframe : \",(len(df_test)))"
   ],
   "metadata": {
    "collapsed": false,
    "ExecuteTime": {
     "end_time": "2023-08-23T00:00:24.202877Z",
     "start_time": "2023-08-23T00:00:24.196349Z"
    }
   },
   "id": "5198b8ec4cd2800f"
  },
  {
   "cell_type": "markdown",
   "source": [
    "### Checking for null values in both training and testing datasets"
   ],
   "metadata": {
    "collapsed": false
   },
   "id": "d47994bab4789bba"
  },
  {
   "cell_type": "code",
   "execution_count": 11,
   "outputs": [
    {
     "data": {
      "text/plain": "id             0\ndate           0\nstore_nbr      0\nfamily         0\nsales          0\nonpromotion    0\ndtype: int64"
     },
     "execution_count": 11,
     "metadata": {},
     "output_type": "execute_result"
    }
   ],
   "source": [
    "df_train.isna().sum()"
   ],
   "metadata": {
    "collapsed": false,
    "ExecuteTime": {
     "end_time": "2023-08-23T00:00:24.994611Z",
     "start_time": "2023-08-23T00:00:24.971318Z"
    }
   },
   "id": "8bd7a636df937a90"
  },
  {
   "cell_type": "code",
   "execution_count": 12,
   "outputs": [
    {
     "data": {
      "text/plain": "id             0\ndate           0\nstore_nbr      0\nfamily         0\nonpromotion    0\ndtype: int64"
     },
     "execution_count": 12,
     "metadata": {},
     "output_type": "execute_result"
    }
   ],
   "source": [
    "df_test.isna().sum()"
   ],
   "metadata": {
    "collapsed": false,
    "ExecuteTime": {
     "end_time": "2023-08-23T00:00:25.301226Z",
     "start_time": "2023-08-23T00:00:25.288059Z"
    }
   },
   "id": "dcce62c23b9edbed"
  },
  {
   "cell_type": "markdown",
   "source": [
    "### Exploring other datasets"
   ],
   "metadata": {
    "collapsed": false
   },
   "id": "62059f032ac8c313"
  },
  {
   "cell_type": "code",
   "execution_count": 13,
   "outputs": [
    {
     "data": {
      "text/plain": "   store_nbr           city                           state type  cluster\n0          1          Quito                       Pichincha    D       13\n1          2          Quito                       Pichincha    D       13\n2          3          Quito                       Pichincha    D        8\n3          4          Quito                       Pichincha    D        9\n4          5  Santo Domingo  Santo Domingo de los Tsachilas    D        4",
      "text/html": "<div>\n<style scoped>\n    .dataframe tbody tr th:only-of-type {\n        vertical-align: middle;\n    }\n\n    .dataframe tbody tr th {\n        vertical-align: top;\n    }\n\n    .dataframe thead th {\n        text-align: right;\n    }\n</style>\n<table border=\"1\" class=\"dataframe\">\n  <thead>\n    <tr style=\"text-align: right;\">\n      <th></th>\n      <th>store_nbr</th>\n      <th>city</th>\n      <th>state</th>\n      <th>type</th>\n      <th>cluster</th>\n    </tr>\n  </thead>\n  <tbody>\n    <tr>\n      <th>0</th>\n      <td>1</td>\n      <td>Quito</td>\n      <td>Pichincha</td>\n      <td>D</td>\n      <td>13</td>\n    </tr>\n    <tr>\n      <th>1</th>\n      <td>2</td>\n      <td>Quito</td>\n      <td>Pichincha</td>\n      <td>D</td>\n      <td>13</td>\n    </tr>\n    <tr>\n      <th>2</th>\n      <td>3</td>\n      <td>Quito</td>\n      <td>Pichincha</td>\n      <td>D</td>\n      <td>8</td>\n    </tr>\n    <tr>\n      <th>3</th>\n      <td>4</td>\n      <td>Quito</td>\n      <td>Pichincha</td>\n      <td>D</td>\n      <td>9</td>\n    </tr>\n    <tr>\n      <th>4</th>\n      <td>5</td>\n      <td>Santo Domingo</td>\n      <td>Santo Domingo de los Tsachilas</td>\n      <td>D</td>\n      <td>4</td>\n    </tr>\n  </tbody>\n</table>\n</div>"
     },
     "execution_count": 13,
     "metadata": {},
     "output_type": "execute_result"
    }
   ],
   "source": [
    "df_stores = pd.read_csv(\"stores.csv\")\n",
    "df_stores.head()"
   ],
   "metadata": {
    "collapsed": false,
    "ExecuteTime": {
     "end_time": "2023-08-23T00:00:25.928916Z",
     "start_time": "2023-08-23T00:00:25.905910Z"
    }
   },
   "id": "4512c2c1711201f3"
  },
  {
   "cell_type": "code",
   "execution_count": 14,
   "outputs": [
    {
     "data": {
      "text/plain": "         date  dcoilwtico\n0  2013-01-01         NaN\n1  2013-01-02       93.14\n2  2013-01-03       92.97\n3  2013-01-04       93.12\n4  2013-01-07       93.20",
      "text/html": "<div>\n<style scoped>\n    .dataframe tbody tr th:only-of-type {\n        vertical-align: middle;\n    }\n\n    .dataframe tbody tr th {\n        vertical-align: top;\n    }\n\n    .dataframe thead th {\n        text-align: right;\n    }\n</style>\n<table border=\"1\" class=\"dataframe\">\n  <thead>\n    <tr style=\"text-align: right;\">\n      <th></th>\n      <th>date</th>\n      <th>dcoilwtico</th>\n    </tr>\n  </thead>\n  <tbody>\n    <tr>\n      <th>0</th>\n      <td>2013-01-01</td>\n      <td>NaN</td>\n    </tr>\n    <tr>\n      <th>1</th>\n      <td>2013-01-02</td>\n      <td>93.14</td>\n    </tr>\n    <tr>\n      <th>2</th>\n      <td>2013-01-03</td>\n      <td>92.97</td>\n    </tr>\n    <tr>\n      <th>3</th>\n      <td>2013-01-04</td>\n      <td>93.12</td>\n    </tr>\n    <tr>\n      <th>4</th>\n      <td>2013-01-07</td>\n      <td>93.20</td>\n    </tr>\n  </tbody>\n</table>\n</div>"
     },
     "execution_count": 14,
     "metadata": {},
     "output_type": "execute_result"
    }
   ],
   "source": [
    "df_oil = pd.read_csv(\"oil.csv\")\n",
    "df_oil.head()"
   ],
   "metadata": {
    "collapsed": false,
    "ExecuteTime": {
     "end_time": "2023-08-23T00:00:26.233553Z",
     "start_time": "2023-08-23T00:00:26.217307Z"
    }
   },
   "id": "8bc6652671614e1a"
  },
  {
   "cell_type": "code",
   "execution_count": 15,
   "outputs": [
    {
     "data": {
      "text/plain": "         date     type    locale locale_name                    description  \\\n0  2012-03-02  Holiday     Local       Manta             Fundacion de Manta   \n1  2012-04-01  Holiday  Regional    Cotopaxi  Provincializacion de Cotopaxi   \n2  2012-04-12  Holiday     Local      Cuenca            Fundacion de Cuenca   \n3  2012-04-14  Holiday     Local    Libertad      Cantonizacion de Libertad   \n4  2012-04-21  Holiday     Local    Riobamba      Cantonizacion de Riobamba   \n\n   transferred  \n0        False  \n1        False  \n2        False  \n3        False  \n4        False  ",
      "text/html": "<div>\n<style scoped>\n    .dataframe tbody tr th:only-of-type {\n        vertical-align: middle;\n    }\n\n    .dataframe tbody tr th {\n        vertical-align: top;\n    }\n\n    .dataframe thead th {\n        text-align: right;\n    }\n</style>\n<table border=\"1\" class=\"dataframe\">\n  <thead>\n    <tr style=\"text-align: right;\">\n      <th></th>\n      <th>date</th>\n      <th>type</th>\n      <th>locale</th>\n      <th>locale_name</th>\n      <th>description</th>\n      <th>transferred</th>\n    </tr>\n  </thead>\n  <tbody>\n    <tr>\n      <th>0</th>\n      <td>2012-03-02</td>\n      <td>Holiday</td>\n      <td>Local</td>\n      <td>Manta</td>\n      <td>Fundacion de Manta</td>\n      <td>False</td>\n    </tr>\n    <tr>\n      <th>1</th>\n      <td>2012-04-01</td>\n      <td>Holiday</td>\n      <td>Regional</td>\n      <td>Cotopaxi</td>\n      <td>Provincializacion de Cotopaxi</td>\n      <td>False</td>\n    </tr>\n    <tr>\n      <th>2</th>\n      <td>2012-04-12</td>\n      <td>Holiday</td>\n      <td>Local</td>\n      <td>Cuenca</td>\n      <td>Fundacion de Cuenca</td>\n      <td>False</td>\n    </tr>\n    <tr>\n      <th>3</th>\n      <td>2012-04-14</td>\n      <td>Holiday</td>\n      <td>Local</td>\n      <td>Libertad</td>\n      <td>Cantonizacion de Libertad</td>\n      <td>False</td>\n    </tr>\n    <tr>\n      <th>4</th>\n      <td>2012-04-21</td>\n      <td>Holiday</td>\n      <td>Local</td>\n      <td>Riobamba</td>\n      <td>Cantonizacion de Riobamba</td>\n      <td>False</td>\n    </tr>\n  </tbody>\n</table>\n</div>"
     },
     "execution_count": 15,
     "metadata": {},
     "output_type": "execute_result"
    }
   ],
   "source": [
    "df_holiday_events = pd.read_csv(\"holidays_events.csv\")\n",
    "df_holiday_events.head()"
   ],
   "metadata": {
    "collapsed": false,
    "ExecuteTime": {
     "end_time": "2023-08-23T00:00:26.495329Z",
     "start_time": "2023-08-23T00:00:26.488233Z"
    }
   },
   "id": "e66c6a7d75b75107"
  },
  {
   "cell_type": "code",
   "execution_count": 16,
   "outputs": [
    {
     "data": {
      "text/plain": "         date  store_nbr  transactions\n0  2013-01-01         25           770\n1  2013-01-02          1          2111\n2  2013-01-02          2          2358\n3  2013-01-02          3          3487\n4  2013-01-02          4          1922",
      "text/html": "<div>\n<style scoped>\n    .dataframe tbody tr th:only-of-type {\n        vertical-align: middle;\n    }\n\n    .dataframe tbody tr th {\n        vertical-align: top;\n    }\n\n    .dataframe thead th {\n        text-align: right;\n    }\n</style>\n<table border=\"1\" class=\"dataframe\">\n  <thead>\n    <tr style=\"text-align: right;\">\n      <th></th>\n      <th>date</th>\n      <th>store_nbr</th>\n      <th>transactions</th>\n    </tr>\n  </thead>\n  <tbody>\n    <tr>\n      <th>0</th>\n      <td>2013-01-01</td>\n      <td>25</td>\n      <td>770</td>\n    </tr>\n    <tr>\n      <th>1</th>\n      <td>2013-01-02</td>\n      <td>1</td>\n      <td>2111</td>\n    </tr>\n    <tr>\n      <th>2</th>\n      <td>2013-01-02</td>\n      <td>2</td>\n      <td>2358</td>\n    </tr>\n    <tr>\n      <th>3</th>\n      <td>2013-01-02</td>\n      <td>3</td>\n      <td>3487</td>\n    </tr>\n    <tr>\n      <th>4</th>\n      <td>2013-01-02</td>\n      <td>4</td>\n      <td>1922</td>\n    </tr>\n  </tbody>\n</table>\n</div>"
     },
     "execution_count": 16,
     "metadata": {},
     "output_type": "execute_result"
    }
   ],
   "source": [
    "df_transactions = pd.read_csv(\"transactions.csv\")\n",
    "df_transactions.head()"
   ],
   "metadata": {
    "collapsed": false,
    "ExecuteTime": {
     "end_time": "2023-08-23T00:00:26.830452Z",
     "start_time": "2023-08-23T00:00:26.810991Z"
    }
   },
   "id": "e876c03a7755cdea"
  },
  {
   "cell_type": "code",
   "execution_count": 17,
   "outputs": [
    {
     "name": "stdout",
     "output_type": "stream",
     "text": [
      "Total length of stores dataframe         :   54\n",
      "Total length of oil dataframe            :   1218\n",
      "Total length of holiday events dataframe :   350\n",
      "Total length of transactions dataframe   :   83488\n"
     ]
    }
   ],
   "source": [
    "print(\"Total length of stores dataframe         :  \",len(df_stores))\n",
    "print(\"Total length of oil dataframe            :  \",len(df_oil))\n",
    "print(\"Total length of holiday events dataframe :  \",len(df_holiday_events))\n",
    "print(\"Total length of transactions dataframe   :  \",len(df_transactions))"
   ],
   "metadata": {
    "collapsed": false,
    "ExecuteTime": {
     "end_time": "2023-08-23T00:00:27.244491Z",
     "start_time": "2023-08-23T00:00:27.231321Z"
    }
   },
   "id": "d343856a74848dc3"
  },
  {
   "cell_type": "markdown",
   "source": [
    "### Checking for null values in stores, oil, holiday events, transactions dataframes"
   ],
   "metadata": {
    "collapsed": false
   },
   "id": "58b57e0200f390ae"
  },
  {
   "cell_type": "code",
   "execution_count": 18,
   "outputs": [
    {
     "data": {
      "text/plain": "store_nbr    0\ncity         0\nstate        0\ntype         0\ncluster      0\ndtype: int64"
     },
     "execution_count": 18,
     "metadata": {},
     "output_type": "execute_result"
    }
   ],
   "source": [
    "df_stores.isna().sum()"
   ],
   "metadata": {
    "collapsed": false,
    "ExecuteTime": {
     "end_time": "2023-08-23T00:00:27.943850Z",
     "start_time": "2023-08-23T00:00:27.927814Z"
    }
   },
   "id": "5abe308a6ede10c7"
  },
  {
   "cell_type": "code",
   "execution_count": 19,
   "outputs": [
    {
     "data": {
      "text/plain": "date           0\ndcoilwtico    43\ndtype: int64"
     },
     "execution_count": 19,
     "metadata": {},
     "output_type": "execute_result"
    }
   ],
   "source": [
    "df_oil.isna().sum()"
   ],
   "metadata": {
    "collapsed": false,
    "ExecuteTime": {
     "end_time": "2023-08-23T00:00:28.207814Z",
     "start_time": "2023-08-23T00:00:28.202325Z"
    }
   },
   "id": "d45dd4ea5bd6c42f"
  },
  {
   "cell_type": "code",
   "execution_count": 20,
   "outputs": [
    {
     "data": {
      "text/plain": "date           0\ntype           0\nlocale         0\nlocale_name    0\ndescription    0\ntransferred    0\ndtype: int64"
     },
     "execution_count": 20,
     "metadata": {},
     "output_type": "execute_result"
    }
   ],
   "source": [
    "df_holiday_events.isna().sum()"
   ],
   "metadata": {
    "collapsed": false,
    "ExecuteTime": {
     "end_time": "2023-08-23T00:00:28.532484Z",
     "start_time": "2023-08-23T00:00:28.517662Z"
    }
   },
   "id": "cfa083fbcbcefdcb"
  },
  {
   "cell_type": "code",
   "execution_count": 21,
   "outputs": [
    {
     "data": {
      "text/plain": "date            0\nstore_nbr       0\ntransactions    0\ndtype: int64"
     },
     "execution_count": 21,
     "metadata": {},
     "output_type": "execute_result"
    }
   ],
   "source": [
    "df_transactions.isna().sum()"
   ],
   "metadata": {
    "collapsed": false,
    "ExecuteTime": {
     "end_time": "2023-08-23T00:00:28.879083Z",
     "start_time": "2023-08-23T00:00:28.865856Z"
    }
   },
   "id": "cf929ebf8ce27672"
  },
  {
   "cell_type": "markdown",
   "source": [
    "### Filling in null values in oil dataset"
   ],
   "metadata": {
    "collapsed": false
   },
   "id": "f7b842c9ae5be0ef"
  },
  {
   "cell_type": "code",
   "execution_count": 22,
   "outputs": [
    {
     "data": {
      "text/plain": "         date  dcoilwtico\n0  2013-01-01      93.366\n1  2013-01-02      93.140\n2  2013-01-03      92.970\n3  2013-01-04      93.120\n4  2013-01-07      93.200",
      "text/html": "<div>\n<style scoped>\n    .dataframe tbody tr th:only-of-type {\n        vertical-align: middle;\n    }\n\n    .dataframe tbody tr th {\n        vertical-align: top;\n    }\n\n    .dataframe thead th {\n        text-align: right;\n    }\n</style>\n<table border=\"1\" class=\"dataframe\">\n  <thead>\n    <tr style=\"text-align: right;\">\n      <th></th>\n      <th>date</th>\n      <th>dcoilwtico</th>\n    </tr>\n  </thead>\n  <tbody>\n    <tr>\n      <th>0</th>\n      <td>2013-01-01</td>\n      <td>93.366</td>\n    </tr>\n    <tr>\n      <th>1</th>\n      <td>2013-01-02</td>\n      <td>93.140</td>\n    </tr>\n    <tr>\n      <th>2</th>\n      <td>2013-01-03</td>\n      <td>92.970</td>\n    </tr>\n    <tr>\n      <th>3</th>\n      <td>2013-01-04</td>\n      <td>93.120</td>\n    </tr>\n    <tr>\n      <th>4</th>\n      <td>2013-01-07</td>\n      <td>93.200</td>\n    </tr>\n  </tbody>\n</table>\n</div>"
     },
     "execution_count": 22,
     "metadata": {},
     "output_type": "execute_result"
    }
   ],
   "source": [
    "df_oil_nona = df_oil.copy()\n",
    "modal = df_oil_nona[\"dcoilwtico\"].mode()\n",
    "na = df_oil_nona[df_oil_nona[\"dcoilwtico\"].isna()==True].index.values\n",
    "df_oil_nona.loc[0,\"dcoilwtico\"] = df_oil_nona.loc[0:10,\"dcoilwtico\"].mean()\n",
    "for i in na[1:]:\n",
    "    df_oil_nona.loc[i,\"dcoilwtico\"] = df_oil_nona.loc[(i-10):(i+10),\"dcoilwtico\"].mean()\n",
    "df_oil_nona.head()"
   ],
   "metadata": {
    "collapsed": false,
    "ExecuteTime": {
     "end_time": "2023-08-23T00:00:29.588122Z",
     "start_time": "2023-08-23T00:00:29.583212Z"
    }
   },
   "id": "a032f96b239678c4"
  },
  {
   "cell_type": "code",
   "execution_count": 23,
   "outputs": [
    {
     "data": {
      "text/plain": "date          0\ndcoilwtico    0\ndtype: int64"
     },
     "execution_count": 23,
     "metadata": {},
     "output_type": "execute_result"
    }
   ],
   "source": [
    "df_oil_nona.isna().sum()"
   ],
   "metadata": {
    "collapsed": false,
    "ExecuteTime": {
     "end_time": "2023-08-23T00:00:29.990717Z",
     "start_time": "2023-08-23T00:00:29.974257Z"
    }
   },
   "id": "638be9eda19b4b77"
  },
  {
   "cell_type": "code",
   "execution_count": 24,
   "outputs": [
    {
     "data": {
      "text/plain": "         date     type    locale locale_name                    description  \\\n0  2012-03-02  Holiday     Local       Manta             Fundacion de Manta   \n1  2012-04-01  Holiday  Regional    Cotopaxi  Provincializacion de Cotopaxi   \n2  2012-04-12  Holiday     Local      Cuenca            Fundacion de Cuenca   \n3  2012-04-14  Holiday     Local    Libertad      Cantonizacion de Libertad   \n4  2012-04-21  Holiday     Local    Riobamba      Cantonizacion de Riobamba   \n\n   transferred  \n0        False  \n1        False  \n2        False  \n3        False  \n4        False  ",
      "text/html": "<div>\n<style scoped>\n    .dataframe tbody tr th:only-of-type {\n        vertical-align: middle;\n    }\n\n    .dataframe tbody tr th {\n        vertical-align: top;\n    }\n\n    .dataframe thead th {\n        text-align: right;\n    }\n</style>\n<table border=\"1\" class=\"dataframe\">\n  <thead>\n    <tr style=\"text-align: right;\">\n      <th></th>\n      <th>date</th>\n      <th>type</th>\n      <th>locale</th>\n      <th>locale_name</th>\n      <th>description</th>\n      <th>transferred</th>\n    </tr>\n  </thead>\n  <tbody>\n    <tr>\n      <th>0</th>\n      <td>2012-03-02</td>\n      <td>Holiday</td>\n      <td>Local</td>\n      <td>Manta</td>\n      <td>Fundacion de Manta</td>\n      <td>False</td>\n    </tr>\n    <tr>\n      <th>1</th>\n      <td>2012-04-01</td>\n      <td>Holiday</td>\n      <td>Regional</td>\n      <td>Cotopaxi</td>\n      <td>Provincializacion de Cotopaxi</td>\n      <td>False</td>\n    </tr>\n    <tr>\n      <th>2</th>\n      <td>2012-04-12</td>\n      <td>Holiday</td>\n      <td>Local</td>\n      <td>Cuenca</td>\n      <td>Fundacion de Cuenca</td>\n      <td>False</td>\n    </tr>\n    <tr>\n      <th>3</th>\n      <td>2012-04-14</td>\n      <td>Holiday</td>\n      <td>Local</td>\n      <td>Libertad</td>\n      <td>Cantonizacion de Libertad</td>\n      <td>False</td>\n    </tr>\n    <tr>\n      <th>4</th>\n      <td>2012-04-21</td>\n      <td>Holiday</td>\n      <td>Local</td>\n      <td>Riobamba</td>\n      <td>Cantonizacion de Riobamba</td>\n      <td>False</td>\n    </tr>\n  </tbody>\n</table>\n</div>"
     },
     "execution_count": 24,
     "metadata": {},
     "output_type": "execute_result"
    }
   ],
   "source": [
    "df_holiday_events.head()"
   ],
   "metadata": {
    "collapsed": false,
    "ExecuteTime": {
     "end_time": "2023-08-23T00:00:30.403098Z",
     "start_time": "2023-08-23T00:00:30.393214Z"
    }
   },
   "id": "35319590d3bcfd3d"
  },
  {
   "cell_type": "markdown",
   "source": [
    "### Preprocessing the holiday events dataset"
   ],
   "metadata": {
    "collapsed": false
   },
   "id": "9cd59cb976c0716a"
  },
  {
   "cell_type": "code",
   "execution_count": 25,
   "outputs": [
    {
     "data": {
      "text/plain": "           date     type    locale locale_name                 description  \\\n19   2012-10-09  Holiday  National     Ecuador  Independencia de Guayaquil   \n72   2013-10-09  Holiday  National     Ecuador  Independencia de Guayaquil   \n135  2014-10-09  Holiday  National     Ecuador  Independencia de Guayaquil   \n255  2016-05-24  Holiday  National     Ecuador        Batalla de Pichincha   \n266  2016-07-25  Holiday     Local   Guayaquil      Fundacion de Guayaquil   \n\n     transferred  \n19          True  \n72          True  \n135         True  \n255         True  \n266         True  ",
      "text/html": "<div>\n<style scoped>\n    .dataframe tbody tr th:only-of-type {\n        vertical-align: middle;\n    }\n\n    .dataframe tbody tr th {\n        vertical-align: top;\n    }\n\n    .dataframe thead th {\n        text-align: right;\n    }\n</style>\n<table border=\"1\" class=\"dataframe\">\n  <thead>\n    <tr style=\"text-align: right;\">\n      <th></th>\n      <th>date</th>\n      <th>type</th>\n      <th>locale</th>\n      <th>locale_name</th>\n      <th>description</th>\n      <th>transferred</th>\n    </tr>\n  </thead>\n  <tbody>\n    <tr>\n      <th>19</th>\n      <td>2012-10-09</td>\n      <td>Holiday</td>\n      <td>National</td>\n      <td>Ecuador</td>\n      <td>Independencia de Guayaquil</td>\n      <td>True</td>\n    </tr>\n    <tr>\n      <th>72</th>\n      <td>2013-10-09</td>\n      <td>Holiday</td>\n      <td>National</td>\n      <td>Ecuador</td>\n      <td>Independencia de Guayaquil</td>\n      <td>True</td>\n    </tr>\n    <tr>\n      <th>135</th>\n      <td>2014-10-09</td>\n      <td>Holiday</td>\n      <td>National</td>\n      <td>Ecuador</td>\n      <td>Independencia de Guayaquil</td>\n      <td>True</td>\n    </tr>\n    <tr>\n      <th>255</th>\n      <td>2016-05-24</td>\n      <td>Holiday</td>\n      <td>National</td>\n      <td>Ecuador</td>\n      <td>Batalla de Pichincha</td>\n      <td>True</td>\n    </tr>\n    <tr>\n      <th>266</th>\n      <td>2016-07-25</td>\n      <td>Holiday</td>\n      <td>Local</td>\n      <td>Guayaquil</td>\n      <td>Fundacion de Guayaquil</td>\n      <td>True</td>\n    </tr>\n  </tbody>\n</table>\n</div>"
     },
     "execution_count": 25,
     "metadata": {},
     "output_type": "execute_result"
    }
   ],
   "source": [
    "before_transfer = df_holiday_events[df_holiday_events[\"transferred\"]==True]\n",
    "before_transfer.head()"
   ],
   "metadata": {
    "collapsed": false,
    "ExecuteTime": {
     "end_time": "2023-08-23T00:00:31.200076Z",
     "start_time": "2023-08-23T00:00:31.186109Z"
    }
   },
   "id": "f965fdcafa3f3244"
  },
  {
   "cell_type": "code",
   "execution_count": 26,
   "outputs": [
    {
     "data": {
      "text/plain": "           date      type    locale locale_name  \\\n20   2012-10-12  Transfer  National     Ecuador   \n73   2013-10-11  Transfer  National     Ecuador   \n136  2014-10-10  Transfer  National     Ecuador   \n256  2016-05-27  Transfer  National     Ecuador   \n265  2016-07-24  Transfer     Local   Guayaquil   \n\n                             description  transferred  \n20   Traslado Independencia de Guayaquil        False  \n73   Traslado Independencia de Guayaquil        False  \n136  Traslado Independencia de Guayaquil        False  \n256        Traslado Batalla de Pichincha        False  \n265      Traslado Fundacion de Guayaquil        False  ",
      "text/html": "<div>\n<style scoped>\n    .dataframe tbody tr th:only-of-type {\n        vertical-align: middle;\n    }\n\n    .dataframe tbody tr th {\n        vertical-align: top;\n    }\n\n    .dataframe thead th {\n        text-align: right;\n    }\n</style>\n<table border=\"1\" class=\"dataframe\">\n  <thead>\n    <tr style=\"text-align: right;\">\n      <th></th>\n      <th>date</th>\n      <th>type</th>\n      <th>locale</th>\n      <th>locale_name</th>\n      <th>description</th>\n      <th>transferred</th>\n    </tr>\n  </thead>\n  <tbody>\n    <tr>\n      <th>20</th>\n      <td>2012-10-12</td>\n      <td>Transfer</td>\n      <td>National</td>\n      <td>Ecuador</td>\n      <td>Traslado Independencia de Guayaquil</td>\n      <td>False</td>\n    </tr>\n    <tr>\n      <th>73</th>\n      <td>2013-10-11</td>\n      <td>Transfer</td>\n      <td>National</td>\n      <td>Ecuador</td>\n      <td>Traslado Independencia de Guayaquil</td>\n      <td>False</td>\n    </tr>\n    <tr>\n      <th>136</th>\n      <td>2014-10-10</td>\n      <td>Transfer</td>\n      <td>National</td>\n      <td>Ecuador</td>\n      <td>Traslado Independencia de Guayaquil</td>\n      <td>False</td>\n    </tr>\n    <tr>\n      <th>256</th>\n      <td>2016-05-27</td>\n      <td>Transfer</td>\n      <td>National</td>\n      <td>Ecuador</td>\n      <td>Traslado Batalla de Pichincha</td>\n      <td>False</td>\n    </tr>\n    <tr>\n      <th>265</th>\n      <td>2016-07-24</td>\n      <td>Transfer</td>\n      <td>Local</td>\n      <td>Guayaquil</td>\n      <td>Traslado Fundacion de Guayaquil</td>\n      <td>False</td>\n    </tr>\n  </tbody>\n</table>\n</div>"
     },
     "execution_count": 26,
     "metadata": {},
     "output_type": "execute_result"
    }
   ],
   "source": [
    "after_transfer = df_holiday_events[df_holiday_events[\"type\"]==\"Transfer\"]\n",
    "after_transfer.head()"
   ],
   "metadata": {
    "collapsed": false,
    "ExecuteTime": {
     "end_time": "2023-08-23T00:00:31.557532Z",
     "start_time": "2023-08-23T00:00:31.539929Z"
    }
   },
   "id": "c5670eaee32171a0"
  },
  {
   "cell_type": "code",
   "execution_count": 27,
   "outputs": [],
   "source": [
    "df_holiday_trans = df_holiday_events.drop(before_transfer.index.values,axis=0,inplace=False)\n",
    "ts = after_transfer.index.values\n",
    "for i in ts:\n",
    "    st = df_holiday_trans.loc[i,\"description\"]\n",
    "    ls = st.split(\" \")\n",
    "    if \"Traslado\" in ls:\n",
    "        ls.remove(\"Traslado\")\n",
    "    df_holiday_trans.loc[i,\"description\"] = \" \".join(ls)"
   ],
   "metadata": {
    "collapsed": false,
    "ExecuteTime": {
     "end_time": "2023-08-23T00:00:31.876895Z",
     "start_time": "2023-08-23T00:00:31.871821Z"
    }
   },
   "id": "891d273321562944"
  },
  {
   "cell_type": "code",
   "execution_count": 28,
   "outputs": [
    {
     "data": {
      "text/plain": "           date    type    locale locale_name                description  \\\n35   2012-12-24  Bridge  National     Ecuador             Puente Navidad   \n39   2012-12-31  Bridge  National     Ecuador  Puente Primer dia del ano   \n156  2014-12-26  Bridge  National     Ecuador             Puente Navidad   \n160  2015-01-02  Bridge  National     Ecuador  Puente Primer dia del ano   \n277  2016-11-04  Bridge  National     Ecuador     Puente Dia de Difuntos   \n\n     transferred  \n35         False  \n39         False  \n156        False  \n160        False  \n277        False  ",
      "text/html": "<div>\n<style scoped>\n    .dataframe tbody tr th:only-of-type {\n        vertical-align: middle;\n    }\n\n    .dataframe tbody tr th {\n        vertical-align: top;\n    }\n\n    .dataframe thead th {\n        text-align: right;\n    }\n</style>\n<table border=\"1\" class=\"dataframe\">\n  <thead>\n    <tr style=\"text-align: right;\">\n      <th></th>\n      <th>date</th>\n      <th>type</th>\n      <th>locale</th>\n      <th>locale_name</th>\n      <th>description</th>\n      <th>transferred</th>\n    </tr>\n  </thead>\n  <tbody>\n    <tr>\n      <th>35</th>\n      <td>2012-12-24</td>\n      <td>Bridge</td>\n      <td>National</td>\n      <td>Ecuador</td>\n      <td>Puente Navidad</td>\n      <td>False</td>\n    </tr>\n    <tr>\n      <th>39</th>\n      <td>2012-12-31</td>\n      <td>Bridge</td>\n      <td>National</td>\n      <td>Ecuador</td>\n      <td>Puente Primer dia del ano</td>\n      <td>False</td>\n    </tr>\n    <tr>\n      <th>156</th>\n      <td>2014-12-26</td>\n      <td>Bridge</td>\n      <td>National</td>\n      <td>Ecuador</td>\n      <td>Puente Navidad</td>\n      <td>False</td>\n    </tr>\n    <tr>\n      <th>160</th>\n      <td>2015-01-02</td>\n      <td>Bridge</td>\n      <td>National</td>\n      <td>Ecuador</td>\n      <td>Puente Primer dia del ano</td>\n      <td>False</td>\n    </tr>\n    <tr>\n      <th>277</th>\n      <td>2016-11-04</td>\n      <td>Bridge</td>\n      <td>National</td>\n      <td>Ecuador</td>\n      <td>Puente Dia de Difuntos</td>\n      <td>False</td>\n    </tr>\n  </tbody>\n</table>\n</div>"
     },
     "execution_count": 28,
     "metadata": {},
     "output_type": "execute_result"
    }
   ],
   "source": [
    "df_holiday_trans[df_holiday_trans[\"type\"]==\"Bridge\"]"
   ],
   "metadata": {
    "collapsed": false,
    "ExecuteTime": {
     "end_time": "2023-08-23T00:00:32.349182Z",
     "start_time": "2023-08-23T00:00:32.342548Z"
    }
   },
   "id": "9d11710ffe5e2f14"
  },
  {
   "cell_type": "code",
   "execution_count": 29,
   "outputs": [
    {
     "data": {
      "text/plain": "array(['Holiday', 'Transfer', 'Additional', 'Bridge', 'Work Day', 'Event'],\n      dtype=object)"
     },
     "execution_count": 29,
     "metadata": {},
     "output_type": "execute_result"
    }
   ],
   "source": [
    "df_holiday_trans[\"type\"].unique()"
   ],
   "metadata": {
    "collapsed": false,
    "ExecuteTime": {
     "end_time": "2023-08-23T00:00:32.722827Z",
     "start_time": "2023-08-23T00:00:32.714666Z"
    }
   },
   "id": "7d24e3314f06de7a"
  },
  {
   "cell_type": "code",
   "execution_count": 30,
   "outputs": [
    {
     "data": {
      "text/plain": "          date        type    locale locale_name           description  \\\n28  2012-12-05  Additional     Local       Quito  Fundacion de Quito-1   \n31  2012-12-21  Additional  National     Ecuador             Navidad-4   \n33  2012-12-22  Additional  National     Ecuador             Navidad-3   \n34  2012-12-23  Additional  National     Ecuador             Navidad-2   \n36  2012-12-24  Additional  National     Ecuador             Navidad-1   \n\n    transferred  \n28        False  \n31        False  \n33        False  \n34        False  \n36        False  ",
      "text/html": "<div>\n<style scoped>\n    .dataframe tbody tr th:only-of-type {\n        vertical-align: middle;\n    }\n\n    .dataframe tbody tr th {\n        vertical-align: top;\n    }\n\n    .dataframe thead th {\n        text-align: right;\n    }\n</style>\n<table border=\"1\" class=\"dataframe\">\n  <thead>\n    <tr style=\"text-align: right;\">\n      <th></th>\n      <th>date</th>\n      <th>type</th>\n      <th>locale</th>\n      <th>locale_name</th>\n      <th>description</th>\n      <th>transferred</th>\n    </tr>\n  </thead>\n  <tbody>\n    <tr>\n      <th>28</th>\n      <td>2012-12-05</td>\n      <td>Additional</td>\n      <td>Local</td>\n      <td>Quito</td>\n      <td>Fundacion de Quito-1</td>\n      <td>False</td>\n    </tr>\n    <tr>\n      <th>31</th>\n      <td>2012-12-21</td>\n      <td>Additional</td>\n      <td>National</td>\n      <td>Ecuador</td>\n      <td>Navidad-4</td>\n      <td>False</td>\n    </tr>\n    <tr>\n      <th>33</th>\n      <td>2012-12-22</td>\n      <td>Additional</td>\n      <td>National</td>\n      <td>Ecuador</td>\n      <td>Navidad-3</td>\n      <td>False</td>\n    </tr>\n    <tr>\n      <th>34</th>\n      <td>2012-12-23</td>\n      <td>Additional</td>\n      <td>National</td>\n      <td>Ecuador</td>\n      <td>Navidad-2</td>\n      <td>False</td>\n    </tr>\n    <tr>\n      <th>36</th>\n      <td>2012-12-24</td>\n      <td>Additional</td>\n      <td>National</td>\n      <td>Ecuador</td>\n      <td>Navidad-1</td>\n      <td>False</td>\n    </tr>\n  </tbody>\n</table>\n</div>"
     },
     "execution_count": 30,
     "metadata": {},
     "output_type": "execute_result"
    }
   ],
   "source": [
    "df_holiday_trans[df_holiday_trans[\"type\"]==\"Additional\"].head()"
   ],
   "metadata": {
    "collapsed": false,
    "ExecuteTime": {
     "end_time": "2023-08-23T00:00:33.047221Z",
     "start_time": "2023-08-23T00:00:33.034001Z"
    }
   },
   "id": "d1b2e6e26adcef59"
  },
  {
   "cell_type": "code",
   "execution_count": 31,
   "outputs": [
    {
     "data": {
      "text/plain": "array([ 42,  43, 149, 161, 283])"
     },
     "execution_count": 31,
     "metadata": {},
     "output_type": "execute_result"
    }
   ],
   "source": [
    "work = df_holiday_trans[df_holiday_trans[\"type\"]==\"Work Day\"].index.values\n",
    "work"
   ],
   "metadata": {
    "collapsed": false,
    "ExecuteTime": {
     "end_time": "2023-08-23T00:00:33.511012Z",
     "start_time": "2023-08-23T00:00:33.505302Z"
    }
   },
   "id": "a0424f95b3f65f54"
  },
  {
   "cell_type": "code",
   "execution_count": 32,
   "outputs": [
    {
     "data": {
      "text/plain": "         date     type    locale locale_name                    description  \\\n0  2012-03-02  Holiday     Local       Manta             Fundacion de Manta   \n1  2012-04-01  Holiday  Regional    Cotopaxi  Provincializacion de Cotopaxi   \n2  2012-04-12  Holiday     Local      Cuenca            Fundacion de Cuenca   \n3  2012-04-14  Holiday     Local    Libertad      Cantonizacion de Libertad   \n4  2012-04-21  Holiday     Local    Riobamba      Cantonizacion de Riobamba   \n\n   transferred  \n0        False  \n1        False  \n2        False  \n3        False  \n4        False  ",
      "text/html": "<div>\n<style scoped>\n    .dataframe tbody tr th:only-of-type {\n        vertical-align: middle;\n    }\n\n    .dataframe tbody tr th {\n        vertical-align: top;\n    }\n\n    .dataframe thead th {\n        text-align: right;\n    }\n</style>\n<table border=\"1\" class=\"dataframe\">\n  <thead>\n    <tr style=\"text-align: right;\">\n      <th></th>\n      <th>date</th>\n      <th>type</th>\n      <th>locale</th>\n      <th>locale_name</th>\n      <th>description</th>\n      <th>transferred</th>\n    </tr>\n  </thead>\n  <tbody>\n    <tr>\n      <th>0</th>\n      <td>2012-03-02</td>\n      <td>Holiday</td>\n      <td>Local</td>\n      <td>Manta</td>\n      <td>Fundacion de Manta</td>\n      <td>False</td>\n    </tr>\n    <tr>\n      <th>1</th>\n      <td>2012-04-01</td>\n      <td>Holiday</td>\n      <td>Regional</td>\n      <td>Cotopaxi</td>\n      <td>Provincializacion de Cotopaxi</td>\n      <td>False</td>\n    </tr>\n    <tr>\n      <th>2</th>\n      <td>2012-04-12</td>\n      <td>Holiday</td>\n      <td>Local</td>\n      <td>Cuenca</td>\n      <td>Fundacion de Cuenca</td>\n      <td>False</td>\n    </tr>\n    <tr>\n      <th>3</th>\n      <td>2012-04-14</td>\n      <td>Holiday</td>\n      <td>Local</td>\n      <td>Libertad</td>\n      <td>Cantonizacion de Libertad</td>\n      <td>False</td>\n    </tr>\n    <tr>\n      <th>4</th>\n      <td>2012-04-21</td>\n      <td>Holiday</td>\n      <td>Local</td>\n      <td>Riobamba</td>\n      <td>Cantonizacion de Riobamba</td>\n      <td>False</td>\n    </tr>\n  </tbody>\n</table>\n</div>"
     },
     "execution_count": 32,
     "metadata": {},
     "output_type": "execute_result"
    }
   ],
   "source": [
    "df_holiday = df_holiday_trans.drop(work,axis=0,inplace=False)\n",
    "df_holiday.head()"
   ],
   "metadata": {
    "collapsed": false,
    "ExecuteTime": {
     "end_time": "2023-08-23T00:00:33.902806Z",
     "start_time": "2023-08-23T00:00:33.882516Z"
    }
   },
   "id": "425f88185889374a"
  },
  {
   "cell_type": "markdown",
   "source": [
    "### Displaying stores, oil, holiday events, transactions dataframes once again"
   ],
   "metadata": {
    "collapsed": false
   },
   "id": "395fa61e709be030"
  },
  {
   "cell_type": "code",
   "execution_count": 33,
   "outputs": [
    {
     "data": {
      "text/plain": "   store_nbr           city                           state type  cluster\n0          1          Quito                       Pichincha    D       13\n1          2          Quito                       Pichincha    D       13\n2          3          Quito                       Pichincha    D        8\n3          4          Quito                       Pichincha    D        9\n4          5  Santo Domingo  Santo Domingo de los Tsachilas    D        4",
      "text/html": "<div>\n<style scoped>\n    .dataframe tbody tr th:only-of-type {\n        vertical-align: middle;\n    }\n\n    .dataframe tbody tr th {\n        vertical-align: top;\n    }\n\n    .dataframe thead th {\n        text-align: right;\n    }\n</style>\n<table border=\"1\" class=\"dataframe\">\n  <thead>\n    <tr style=\"text-align: right;\">\n      <th></th>\n      <th>store_nbr</th>\n      <th>city</th>\n      <th>state</th>\n      <th>type</th>\n      <th>cluster</th>\n    </tr>\n  </thead>\n  <tbody>\n    <tr>\n      <th>0</th>\n      <td>1</td>\n      <td>Quito</td>\n      <td>Pichincha</td>\n      <td>D</td>\n      <td>13</td>\n    </tr>\n    <tr>\n      <th>1</th>\n      <td>2</td>\n      <td>Quito</td>\n      <td>Pichincha</td>\n      <td>D</td>\n      <td>13</td>\n    </tr>\n    <tr>\n      <th>2</th>\n      <td>3</td>\n      <td>Quito</td>\n      <td>Pichincha</td>\n      <td>D</td>\n      <td>8</td>\n    </tr>\n    <tr>\n      <th>3</th>\n      <td>4</td>\n      <td>Quito</td>\n      <td>Pichincha</td>\n      <td>D</td>\n      <td>9</td>\n    </tr>\n    <tr>\n      <th>4</th>\n      <td>5</td>\n      <td>Santo Domingo</td>\n      <td>Santo Domingo de los Tsachilas</td>\n      <td>D</td>\n      <td>4</td>\n    </tr>\n  </tbody>\n</table>\n</div>"
     },
     "execution_count": 33,
     "metadata": {},
     "output_type": "execute_result"
    }
   ],
   "source": [
    "df_stores.head()"
   ],
   "metadata": {
    "collapsed": false,
    "ExecuteTime": {
     "end_time": "2023-08-23T00:00:34.783783Z",
     "start_time": "2023-08-23T00:00:34.774565Z"
    }
   },
   "id": "a534377dd36b825a"
  },
  {
   "cell_type": "code",
   "execution_count": 34,
   "outputs": [
    {
     "data": {
      "text/plain": "         date  dcoilwtico\n0  2013-01-01      93.366\n1  2013-01-02      93.140\n2  2013-01-03      92.970\n3  2013-01-04      93.120\n4  2013-01-07      93.200",
      "text/html": "<div>\n<style scoped>\n    .dataframe tbody tr th:only-of-type {\n        vertical-align: middle;\n    }\n\n    .dataframe tbody tr th {\n        vertical-align: top;\n    }\n\n    .dataframe thead th {\n        text-align: right;\n    }\n</style>\n<table border=\"1\" class=\"dataframe\">\n  <thead>\n    <tr style=\"text-align: right;\">\n      <th></th>\n      <th>date</th>\n      <th>dcoilwtico</th>\n    </tr>\n  </thead>\n  <tbody>\n    <tr>\n      <th>0</th>\n      <td>2013-01-01</td>\n      <td>93.366</td>\n    </tr>\n    <tr>\n      <th>1</th>\n      <td>2013-01-02</td>\n      <td>93.140</td>\n    </tr>\n    <tr>\n      <th>2</th>\n      <td>2013-01-03</td>\n      <td>92.970</td>\n    </tr>\n    <tr>\n      <th>3</th>\n      <td>2013-01-04</td>\n      <td>93.120</td>\n    </tr>\n    <tr>\n      <th>4</th>\n      <td>2013-01-07</td>\n      <td>93.200</td>\n    </tr>\n  </tbody>\n</table>\n</div>"
     },
     "execution_count": 34,
     "metadata": {},
     "output_type": "execute_result"
    }
   ],
   "source": [
    "df_oil_nona.head()"
   ],
   "metadata": {
    "collapsed": false,
    "ExecuteTime": {
     "end_time": "2023-08-23T00:00:35.157844Z",
     "start_time": "2023-08-23T00:00:35.140505Z"
    }
   },
   "id": "1c894a4ddbcb22d2"
  },
  {
   "cell_type": "code",
   "execution_count": 35,
   "outputs": [
    {
     "data": {
      "text/plain": "         date     type    locale locale_name                    description  \\\n0  2012-03-02  Holiday     Local       Manta             Fundacion de Manta   \n1  2012-04-01  Holiday  Regional    Cotopaxi  Provincializacion de Cotopaxi   \n2  2012-04-12  Holiday     Local      Cuenca            Fundacion de Cuenca   \n3  2012-04-14  Holiday     Local    Libertad      Cantonizacion de Libertad   \n4  2012-04-21  Holiday     Local    Riobamba      Cantonizacion de Riobamba   \n\n   transferred  \n0        False  \n1        False  \n2        False  \n3        False  \n4        False  ",
      "text/html": "<div>\n<style scoped>\n    .dataframe tbody tr th:only-of-type {\n        vertical-align: middle;\n    }\n\n    .dataframe tbody tr th {\n        vertical-align: top;\n    }\n\n    .dataframe thead th {\n        text-align: right;\n    }\n</style>\n<table border=\"1\" class=\"dataframe\">\n  <thead>\n    <tr style=\"text-align: right;\">\n      <th></th>\n      <th>date</th>\n      <th>type</th>\n      <th>locale</th>\n      <th>locale_name</th>\n      <th>description</th>\n      <th>transferred</th>\n    </tr>\n  </thead>\n  <tbody>\n    <tr>\n      <th>0</th>\n      <td>2012-03-02</td>\n      <td>Holiday</td>\n      <td>Local</td>\n      <td>Manta</td>\n      <td>Fundacion de Manta</td>\n      <td>False</td>\n    </tr>\n    <tr>\n      <th>1</th>\n      <td>2012-04-01</td>\n      <td>Holiday</td>\n      <td>Regional</td>\n      <td>Cotopaxi</td>\n      <td>Provincializacion de Cotopaxi</td>\n      <td>False</td>\n    </tr>\n    <tr>\n      <th>2</th>\n      <td>2012-04-12</td>\n      <td>Holiday</td>\n      <td>Local</td>\n      <td>Cuenca</td>\n      <td>Fundacion de Cuenca</td>\n      <td>False</td>\n    </tr>\n    <tr>\n      <th>3</th>\n      <td>2012-04-14</td>\n      <td>Holiday</td>\n      <td>Local</td>\n      <td>Libertad</td>\n      <td>Cantonizacion de Libertad</td>\n      <td>False</td>\n    </tr>\n    <tr>\n      <th>4</th>\n      <td>2012-04-21</td>\n      <td>Holiday</td>\n      <td>Local</td>\n      <td>Riobamba</td>\n      <td>Cantonizacion de Riobamba</td>\n      <td>False</td>\n    </tr>\n  </tbody>\n</table>\n</div>"
     },
     "execution_count": 35,
     "metadata": {},
     "output_type": "execute_result"
    }
   ],
   "source": [
    "df_holiday.head()"
   ],
   "metadata": {
    "collapsed": false,
    "ExecuteTime": {
     "end_time": "2023-08-23T00:00:35.474932Z",
     "start_time": "2023-08-23T00:00:35.463176Z"
    }
   },
   "id": "9063cc477c3f1213"
  },
  {
   "cell_type": "code",
   "execution_count": 36,
   "outputs": [
    {
     "data": {
      "text/plain": "         date  store_nbr  transactions\n0  2013-01-01         25           770\n1  2013-01-02          1          2111\n2  2013-01-02          2          2358\n3  2013-01-02          3          3487\n4  2013-01-02          4          1922",
      "text/html": "<div>\n<style scoped>\n    .dataframe tbody tr th:only-of-type {\n        vertical-align: middle;\n    }\n\n    .dataframe tbody tr th {\n        vertical-align: top;\n    }\n\n    .dataframe thead th {\n        text-align: right;\n    }\n</style>\n<table border=\"1\" class=\"dataframe\">\n  <thead>\n    <tr style=\"text-align: right;\">\n      <th></th>\n      <th>date</th>\n      <th>store_nbr</th>\n      <th>transactions</th>\n    </tr>\n  </thead>\n  <tbody>\n    <tr>\n      <th>0</th>\n      <td>2013-01-01</td>\n      <td>25</td>\n      <td>770</td>\n    </tr>\n    <tr>\n      <th>1</th>\n      <td>2013-01-02</td>\n      <td>1</td>\n      <td>2111</td>\n    </tr>\n    <tr>\n      <th>2</th>\n      <td>2013-01-02</td>\n      <td>2</td>\n      <td>2358</td>\n    </tr>\n    <tr>\n      <th>3</th>\n      <td>2013-01-02</td>\n      <td>3</td>\n      <td>3487</td>\n    </tr>\n    <tr>\n      <th>4</th>\n      <td>2013-01-02</td>\n      <td>4</td>\n      <td>1922</td>\n    </tr>\n  </tbody>\n</table>\n</div>"
     },
     "execution_count": 36,
     "metadata": {},
     "output_type": "execute_result"
    }
   ],
   "source": [
    "df_transactions.head()"
   ],
   "metadata": {
    "collapsed": false,
    "ExecuteTime": {
     "end_time": "2023-08-23T00:00:35.878618Z",
     "start_time": "2023-08-23T00:00:35.861713Z"
    }
   },
   "id": "651ba43deb7c058"
  },
  {
   "cell_type": "markdown",
   "source": [
    "### Displaying training and testing datasets once again"
   ],
   "metadata": {
    "collapsed": false
   },
   "id": "720a2e8b1e369e6e"
  },
  {
   "cell_type": "code",
   "execution_count": 37,
   "outputs": [
    {
     "data": {
      "text/plain": "   id    date  store_nbr      family  sales  onpromotion\n0   0  1/1/13          1  AUTOMOTIVE    0.0            0\n1   1  1/1/13          1   BABY CARE    0.0            0\n2   2  1/1/13          1      BEAUTY    0.0            0\n3   3  1/1/13          1   BEVERAGES    0.0            0\n4   4  1/1/13          1       BOOKS    0.0            0",
      "text/html": "<div>\n<style scoped>\n    .dataframe tbody tr th:only-of-type {\n        vertical-align: middle;\n    }\n\n    .dataframe tbody tr th {\n        vertical-align: top;\n    }\n\n    .dataframe thead th {\n        text-align: right;\n    }\n</style>\n<table border=\"1\" class=\"dataframe\">\n  <thead>\n    <tr style=\"text-align: right;\">\n      <th></th>\n      <th>id</th>\n      <th>date</th>\n      <th>store_nbr</th>\n      <th>family</th>\n      <th>sales</th>\n      <th>onpromotion</th>\n    </tr>\n  </thead>\n  <tbody>\n    <tr>\n      <th>0</th>\n      <td>0</td>\n      <td>1/1/13</td>\n      <td>1</td>\n      <td>AUTOMOTIVE</td>\n      <td>0.0</td>\n      <td>0</td>\n    </tr>\n    <tr>\n      <th>1</th>\n      <td>1</td>\n      <td>1/1/13</td>\n      <td>1</td>\n      <td>BABY CARE</td>\n      <td>0.0</td>\n      <td>0</td>\n    </tr>\n    <tr>\n      <th>2</th>\n      <td>2</td>\n      <td>1/1/13</td>\n      <td>1</td>\n      <td>BEAUTY</td>\n      <td>0.0</td>\n      <td>0</td>\n    </tr>\n    <tr>\n      <th>3</th>\n      <td>3</td>\n      <td>1/1/13</td>\n      <td>1</td>\n      <td>BEVERAGES</td>\n      <td>0.0</td>\n      <td>0</td>\n    </tr>\n    <tr>\n      <th>4</th>\n      <td>4</td>\n      <td>1/1/13</td>\n      <td>1</td>\n      <td>BOOKS</td>\n      <td>0.0</td>\n      <td>0</td>\n    </tr>\n  </tbody>\n</table>\n</div>"
     },
     "execution_count": 37,
     "metadata": {},
     "output_type": "execute_result"
    }
   ],
   "source": [
    "df_train.head()"
   ],
   "metadata": {
    "collapsed": false,
    "ExecuteTime": {
     "end_time": "2023-08-23T00:00:36.757568Z",
     "start_time": "2023-08-23T00:00:36.753160Z"
    }
   },
   "id": "883cc9f11eb9ea6b"
  },
  {
   "cell_type": "code",
   "execution_count": 38,
   "outputs": [
    {
     "data": {
      "text/plain": "        id        date  store_nbr      family  onpromotion\n0  3000888  2017-08-16          1  AUTOMOTIVE            0\n1  3000889  2017-08-16          1   BABY CARE            0\n2  3000890  2017-08-16          1      BEAUTY            2\n3  3000891  2017-08-16          1   BEVERAGES           20\n4  3000892  2017-08-16          1       BOOKS            0",
      "text/html": "<div>\n<style scoped>\n    .dataframe tbody tr th:only-of-type {\n        vertical-align: middle;\n    }\n\n    .dataframe tbody tr th {\n        vertical-align: top;\n    }\n\n    .dataframe thead th {\n        text-align: right;\n    }\n</style>\n<table border=\"1\" class=\"dataframe\">\n  <thead>\n    <tr style=\"text-align: right;\">\n      <th></th>\n      <th>id</th>\n      <th>date</th>\n      <th>store_nbr</th>\n      <th>family</th>\n      <th>onpromotion</th>\n    </tr>\n  </thead>\n  <tbody>\n    <tr>\n      <th>0</th>\n      <td>3000888</td>\n      <td>2017-08-16</td>\n      <td>1</td>\n      <td>AUTOMOTIVE</td>\n      <td>0</td>\n    </tr>\n    <tr>\n      <th>1</th>\n      <td>3000889</td>\n      <td>2017-08-16</td>\n      <td>1</td>\n      <td>BABY CARE</td>\n      <td>0</td>\n    </tr>\n    <tr>\n      <th>2</th>\n      <td>3000890</td>\n      <td>2017-08-16</td>\n      <td>1</td>\n      <td>BEAUTY</td>\n      <td>2</td>\n    </tr>\n    <tr>\n      <th>3</th>\n      <td>3000891</td>\n      <td>2017-08-16</td>\n      <td>1</td>\n      <td>BEVERAGES</td>\n      <td>20</td>\n    </tr>\n    <tr>\n      <th>4</th>\n      <td>3000892</td>\n      <td>2017-08-16</td>\n      <td>1</td>\n      <td>BOOKS</td>\n      <td>0</td>\n    </tr>\n  </tbody>\n</table>\n</div>"
     },
     "execution_count": 38,
     "metadata": {},
     "output_type": "execute_result"
    }
   ],
   "source": [
    "df_test.head()"
   ],
   "metadata": {
    "collapsed": false,
    "ExecuteTime": {
     "end_time": "2023-08-23T00:00:37.235993Z",
     "start_time": "2023-08-23T00:00:37.231693Z"
    }
   },
   "id": "9f329a2745ac82a6"
  },
  {
   "cell_type": "markdown",
   "source": [
    "### Modifying \"date\" column in training dataset"
   ],
   "metadata": {
    "collapsed": false
   },
   "id": "877a8c64445804f4"
  },
  {
   "cell_type": "code",
   "execution_count": 39,
   "outputs": [
    {
     "data": {
      "text/plain": "   id    date  store_nbr      family  sales  onpromotion\n0   0  1/1/13          1  AUTOMOTIVE    0.0            0\n1   1  1/1/13          1   BABY CARE    0.0            0\n2   2  1/1/13          1      BEAUTY    0.0            0\n3   3  1/1/13          1   BEVERAGES    0.0            0\n4   4  1/1/13          1       BOOKS    0.0            0",
      "text/html": "<div>\n<style scoped>\n    .dataframe tbody tr th:only-of-type {\n        vertical-align: middle;\n    }\n\n    .dataframe tbody tr th {\n        vertical-align: top;\n    }\n\n    .dataframe thead th {\n        text-align: right;\n    }\n</style>\n<table border=\"1\" class=\"dataframe\">\n  <thead>\n    <tr style=\"text-align: right;\">\n      <th></th>\n      <th>id</th>\n      <th>date</th>\n      <th>store_nbr</th>\n      <th>family</th>\n      <th>sales</th>\n      <th>onpromotion</th>\n    </tr>\n  </thead>\n  <tbody>\n    <tr>\n      <th>0</th>\n      <td>0</td>\n      <td>1/1/13</td>\n      <td>1</td>\n      <td>AUTOMOTIVE</td>\n      <td>0.0</td>\n      <td>0</td>\n    </tr>\n    <tr>\n      <th>1</th>\n      <td>1</td>\n      <td>1/1/13</td>\n      <td>1</td>\n      <td>BABY CARE</td>\n      <td>0.0</td>\n      <td>0</td>\n    </tr>\n    <tr>\n      <th>2</th>\n      <td>2</td>\n      <td>1/1/13</td>\n      <td>1</td>\n      <td>BEAUTY</td>\n      <td>0.0</td>\n      <td>0</td>\n    </tr>\n    <tr>\n      <th>3</th>\n      <td>3</td>\n      <td>1/1/13</td>\n      <td>1</td>\n      <td>BEVERAGES</td>\n      <td>0.0</td>\n      <td>0</td>\n    </tr>\n    <tr>\n      <th>4</th>\n      <td>4</td>\n      <td>1/1/13</td>\n      <td>1</td>\n      <td>BOOKS</td>\n      <td>0.0</td>\n      <td>0</td>\n    </tr>\n  </tbody>\n</table>\n</div>"
     },
     "execution_count": 39,
     "metadata": {},
     "output_type": "execute_result"
    }
   ],
   "source": [
    "df_train.head()"
   ],
   "metadata": {
    "collapsed": false,
    "ExecuteTime": {
     "end_time": "2023-08-23T00:00:38.034518Z",
     "start_time": "2023-08-23T00:00:38.030141Z"
    }
   },
   "id": "72973cbef1ae42e7"
  },
  {
   "cell_type": "code",
   "execution_count": 40,
   "outputs": [
    {
     "data": {
      "text/plain": "   id       date  store_nbr      family  sales  onpromotion\n0   0 2013-01-01          1  AUTOMOTIVE    0.0            0\n1   1 2013-01-01          1   BABY CARE    0.0            0\n2   2 2013-01-01          1      BEAUTY    0.0            0\n3   3 2013-01-01          1   BEVERAGES    0.0            0\n4   4 2013-01-01          1       BOOKS    0.0            0",
      "text/html": "<div>\n<style scoped>\n    .dataframe tbody tr th:only-of-type {\n        vertical-align: middle;\n    }\n\n    .dataframe tbody tr th {\n        vertical-align: top;\n    }\n\n    .dataframe thead th {\n        text-align: right;\n    }\n</style>\n<table border=\"1\" class=\"dataframe\">\n  <thead>\n    <tr style=\"text-align: right;\">\n      <th></th>\n      <th>id</th>\n      <th>date</th>\n      <th>store_nbr</th>\n      <th>family</th>\n      <th>sales</th>\n      <th>onpromotion</th>\n    </tr>\n  </thead>\n  <tbody>\n    <tr>\n      <th>0</th>\n      <td>0</td>\n      <td>2013-01-01</td>\n      <td>1</td>\n      <td>AUTOMOTIVE</td>\n      <td>0.0</td>\n      <td>0</td>\n    </tr>\n    <tr>\n      <th>1</th>\n      <td>1</td>\n      <td>2013-01-01</td>\n      <td>1</td>\n      <td>BABY CARE</td>\n      <td>0.0</td>\n      <td>0</td>\n    </tr>\n    <tr>\n      <th>2</th>\n      <td>2</td>\n      <td>2013-01-01</td>\n      <td>1</td>\n      <td>BEAUTY</td>\n      <td>0.0</td>\n      <td>0</td>\n    </tr>\n    <tr>\n      <th>3</th>\n      <td>3</td>\n      <td>2013-01-01</td>\n      <td>1</td>\n      <td>BEVERAGES</td>\n      <td>0.0</td>\n      <td>0</td>\n    </tr>\n    <tr>\n      <th>4</th>\n      <td>4</td>\n      <td>2013-01-01</td>\n      <td>1</td>\n      <td>BOOKS</td>\n      <td>0.0</td>\n      <td>0</td>\n    </tr>\n  </tbody>\n</table>\n</div>"
     },
     "execution_count": 40,
     "metadata": {},
     "output_type": "execute_result"
    }
   ],
   "source": [
    "df_train_mod = df_train.copy()\n",
    "df_train_mod[\"date\"] = pd.to_datetime(df_train_mod[\"date\"])\n",
    "df_train_mod.head()"
   ],
   "metadata": {
    "collapsed": false,
    "ExecuteTime": {
     "end_time": "2023-08-23T00:00:38.574942Z",
     "start_time": "2023-08-23T00:00:38.478500Z"
    }
   },
   "id": "acddd5129f10c69"
  },
  {
   "cell_type": "markdown",
   "source": [
    "### Combining training and testing datasets with stores, oil, holiday events, transactions"
   ],
   "metadata": {
    "collapsed": false
   },
   "id": "9b2f7d794f0ec749"
  },
  {
   "cell_type": "markdown",
   "source": [
    "#### Combining with stores dataset"
   ],
   "metadata": {
    "collapsed": false
   },
   "id": "e961b7d35d3fe1c0"
  },
  {
   "cell_type": "code",
   "execution_count": 41,
   "outputs": [
    {
     "name": "stdout",
     "output_type": "stream",
     "text": [
      "Length of training dataframe :  1048575\n",
      "Length of testing dataframe  :  28512\n"
     ]
    }
   ],
   "source": [
    "print(\"Length of training dataframe : \",(len(df_train_mod)))\n",
    "print(\"Length of testing dataframe  : \",(len(df_test)))"
   ],
   "metadata": {
    "collapsed": false,
    "ExecuteTime": {
     "end_time": "2023-08-23T00:00:39.962296Z",
     "start_time": "2023-08-23T00:00:39.956095Z"
    }
   },
   "id": "74d3663208bc6e3a"
  },
  {
   "cell_type": "code",
   "execution_count": 42,
   "outputs": [
    {
     "data": {
      "text/plain": "   store_nbr           city                           state type  cluster\n0          1          Quito                       Pichincha    D       13\n1          2          Quito                       Pichincha    D       13\n2          3          Quito                       Pichincha    D        8\n3          4          Quito                       Pichincha    D        9\n4          5  Santo Domingo  Santo Domingo de los Tsachilas    D        4",
      "text/html": "<div>\n<style scoped>\n    .dataframe tbody tr th:only-of-type {\n        vertical-align: middle;\n    }\n\n    .dataframe tbody tr th {\n        vertical-align: top;\n    }\n\n    .dataframe thead th {\n        text-align: right;\n    }\n</style>\n<table border=\"1\" class=\"dataframe\">\n  <thead>\n    <tr style=\"text-align: right;\">\n      <th></th>\n      <th>store_nbr</th>\n      <th>city</th>\n      <th>state</th>\n      <th>type</th>\n      <th>cluster</th>\n    </tr>\n  </thead>\n  <tbody>\n    <tr>\n      <th>0</th>\n      <td>1</td>\n      <td>Quito</td>\n      <td>Pichincha</td>\n      <td>D</td>\n      <td>13</td>\n    </tr>\n    <tr>\n      <th>1</th>\n      <td>2</td>\n      <td>Quito</td>\n      <td>Pichincha</td>\n      <td>D</td>\n      <td>13</td>\n    </tr>\n    <tr>\n      <th>2</th>\n      <td>3</td>\n      <td>Quito</td>\n      <td>Pichincha</td>\n      <td>D</td>\n      <td>8</td>\n    </tr>\n    <tr>\n      <th>3</th>\n      <td>4</td>\n      <td>Quito</td>\n      <td>Pichincha</td>\n      <td>D</td>\n      <td>9</td>\n    </tr>\n    <tr>\n      <th>4</th>\n      <td>5</td>\n      <td>Santo Domingo</td>\n      <td>Santo Domingo de los Tsachilas</td>\n      <td>D</td>\n      <td>4</td>\n    </tr>\n  </tbody>\n</table>\n</div>"
     },
     "execution_count": 42,
     "metadata": {},
     "output_type": "execute_result"
    }
   ],
   "source": [
    "df_stores.head()"
   ],
   "metadata": {
    "collapsed": false,
    "ExecuteTime": {
     "end_time": "2023-08-23T00:00:40.502283Z",
     "start_time": "2023-08-23T00:00:40.488886Z"
    }
   },
   "id": "8523ae61900acd92"
  },
  {
   "cell_type": "code",
   "execution_count": 43,
   "outputs": [],
   "source": [
    "df_train_mod[\"date\"] = pd.to_datetime(df_train_mod[\"date\"])\n",
    "\n",
    "df_train_mod_1 = pd.merge(left=df_train_mod,right=df_stores,how=\"left\",on=\"store_nbr\")\n",
    "df_test_mod_1 = pd.merge(left=df_test,right=df_stores,how=\"left\",on=\"store_nbr\")"
   ],
   "metadata": {
    "collapsed": false,
    "ExecuteTime": {
     "end_time": "2023-08-23T00:00:41.345049Z",
     "start_time": "2023-08-23T00:00:41.251563Z"
    }
   },
   "id": "b9a29b067d654e25"
  },
  {
   "cell_type": "code",
   "execution_count": 44,
   "outputs": [
    {
     "data": {
      "text/plain": "   id       date  store_nbr      family  sales  onpromotion   city      state  \\\n0   0 2013-01-01          1  AUTOMOTIVE    0.0            0  Quito  Pichincha   \n1   1 2013-01-01          1   BABY CARE    0.0            0  Quito  Pichincha   \n2   2 2013-01-01          1      BEAUTY    0.0            0  Quito  Pichincha   \n3   3 2013-01-01          1   BEVERAGES    0.0            0  Quito  Pichincha   \n4   4 2013-01-01          1       BOOKS    0.0            0  Quito  Pichincha   \n\n  type  cluster  \n0    D       13  \n1    D       13  \n2    D       13  \n3    D       13  \n4    D       13  ",
      "text/html": "<div>\n<style scoped>\n    .dataframe tbody tr th:only-of-type {\n        vertical-align: middle;\n    }\n\n    .dataframe tbody tr th {\n        vertical-align: top;\n    }\n\n    .dataframe thead th {\n        text-align: right;\n    }\n</style>\n<table border=\"1\" class=\"dataframe\">\n  <thead>\n    <tr style=\"text-align: right;\">\n      <th></th>\n      <th>id</th>\n      <th>date</th>\n      <th>store_nbr</th>\n      <th>family</th>\n      <th>sales</th>\n      <th>onpromotion</th>\n      <th>city</th>\n      <th>state</th>\n      <th>type</th>\n      <th>cluster</th>\n    </tr>\n  </thead>\n  <tbody>\n    <tr>\n      <th>0</th>\n      <td>0</td>\n      <td>2013-01-01</td>\n      <td>1</td>\n      <td>AUTOMOTIVE</td>\n      <td>0.0</td>\n      <td>0</td>\n      <td>Quito</td>\n      <td>Pichincha</td>\n      <td>D</td>\n      <td>13</td>\n    </tr>\n    <tr>\n      <th>1</th>\n      <td>1</td>\n      <td>2013-01-01</td>\n      <td>1</td>\n      <td>BABY CARE</td>\n      <td>0.0</td>\n      <td>0</td>\n      <td>Quito</td>\n      <td>Pichincha</td>\n      <td>D</td>\n      <td>13</td>\n    </tr>\n    <tr>\n      <th>2</th>\n      <td>2</td>\n      <td>2013-01-01</td>\n      <td>1</td>\n      <td>BEAUTY</td>\n      <td>0.0</td>\n      <td>0</td>\n      <td>Quito</td>\n      <td>Pichincha</td>\n      <td>D</td>\n      <td>13</td>\n    </tr>\n    <tr>\n      <th>3</th>\n      <td>3</td>\n      <td>2013-01-01</td>\n      <td>1</td>\n      <td>BEVERAGES</td>\n      <td>0.0</td>\n      <td>0</td>\n      <td>Quito</td>\n      <td>Pichincha</td>\n      <td>D</td>\n      <td>13</td>\n    </tr>\n    <tr>\n      <th>4</th>\n      <td>4</td>\n      <td>2013-01-01</td>\n      <td>1</td>\n      <td>BOOKS</td>\n      <td>0.0</td>\n      <td>0</td>\n      <td>Quito</td>\n      <td>Pichincha</td>\n      <td>D</td>\n      <td>13</td>\n    </tr>\n  </tbody>\n</table>\n</div>"
     },
     "execution_count": 44,
     "metadata": {},
     "output_type": "execute_result"
    }
   ],
   "source": [
    "df_train_mod_1.head()"
   ],
   "metadata": {
    "collapsed": false,
    "ExecuteTime": {
     "end_time": "2023-08-23T00:00:42.015708Z",
     "start_time": "2023-08-23T00:00:41.997873Z"
    }
   },
   "id": "d2edd14c6e4d0462"
  },
  {
   "cell_type": "code",
   "execution_count": 45,
   "outputs": [
    {
     "data": {
      "text/plain": "        id        date  store_nbr      family  onpromotion   city      state  \\\n0  3000888  2017-08-16          1  AUTOMOTIVE            0  Quito  Pichincha   \n1  3000889  2017-08-16          1   BABY CARE            0  Quito  Pichincha   \n2  3000890  2017-08-16          1      BEAUTY            2  Quito  Pichincha   \n3  3000891  2017-08-16          1   BEVERAGES           20  Quito  Pichincha   \n4  3000892  2017-08-16          1       BOOKS            0  Quito  Pichincha   \n\n  type  cluster  \n0    D       13  \n1    D       13  \n2    D       13  \n3    D       13  \n4    D       13  ",
      "text/html": "<div>\n<style scoped>\n    .dataframe tbody tr th:only-of-type {\n        vertical-align: middle;\n    }\n\n    .dataframe tbody tr th {\n        vertical-align: top;\n    }\n\n    .dataframe thead th {\n        text-align: right;\n    }\n</style>\n<table border=\"1\" class=\"dataframe\">\n  <thead>\n    <tr style=\"text-align: right;\">\n      <th></th>\n      <th>id</th>\n      <th>date</th>\n      <th>store_nbr</th>\n      <th>family</th>\n      <th>onpromotion</th>\n      <th>city</th>\n      <th>state</th>\n      <th>type</th>\n      <th>cluster</th>\n    </tr>\n  </thead>\n  <tbody>\n    <tr>\n      <th>0</th>\n      <td>3000888</td>\n      <td>2017-08-16</td>\n      <td>1</td>\n      <td>AUTOMOTIVE</td>\n      <td>0</td>\n      <td>Quito</td>\n      <td>Pichincha</td>\n      <td>D</td>\n      <td>13</td>\n    </tr>\n    <tr>\n      <th>1</th>\n      <td>3000889</td>\n      <td>2017-08-16</td>\n      <td>1</td>\n      <td>BABY CARE</td>\n      <td>0</td>\n      <td>Quito</td>\n      <td>Pichincha</td>\n      <td>D</td>\n      <td>13</td>\n    </tr>\n    <tr>\n      <th>2</th>\n      <td>3000890</td>\n      <td>2017-08-16</td>\n      <td>1</td>\n      <td>BEAUTY</td>\n      <td>2</td>\n      <td>Quito</td>\n      <td>Pichincha</td>\n      <td>D</td>\n      <td>13</td>\n    </tr>\n    <tr>\n      <th>3</th>\n      <td>3000891</td>\n      <td>2017-08-16</td>\n      <td>1</td>\n      <td>BEVERAGES</td>\n      <td>20</td>\n      <td>Quito</td>\n      <td>Pichincha</td>\n      <td>D</td>\n      <td>13</td>\n    </tr>\n    <tr>\n      <th>4</th>\n      <td>3000892</td>\n      <td>2017-08-16</td>\n      <td>1</td>\n      <td>BOOKS</td>\n      <td>0</td>\n      <td>Quito</td>\n      <td>Pichincha</td>\n      <td>D</td>\n      <td>13</td>\n    </tr>\n  </tbody>\n</table>\n</div>"
     },
     "execution_count": 45,
     "metadata": {},
     "output_type": "execute_result"
    }
   ],
   "source": [
    "df_test_mod_1.head()"
   ],
   "metadata": {
    "collapsed": false,
    "ExecuteTime": {
     "end_time": "2023-08-23T00:00:42.601602Z",
     "start_time": "2023-08-23T00:00:42.598046Z"
    }
   },
   "id": "5aa516caa49c73b5"
  },
  {
   "cell_type": "code",
   "execution_count": 46,
   "outputs": [
    {
     "name": "stdout",
     "output_type": "stream",
     "text": [
      "Length of training dataframe :  1048575\n",
      "Length of testing dataframe  :  28512\n"
     ]
    }
   ],
   "source": [
    "print(\"Length of training dataframe : \",(len(df_train_mod_1)))\n",
    "print(\"Length of testing dataframe  : \",(len(df_test_mod_1)))"
   ],
   "metadata": {
    "collapsed": false,
    "ExecuteTime": {
     "end_time": "2023-08-23T00:00:43.180128Z",
     "start_time": "2023-08-23T00:00:43.174780Z"
    }
   },
   "id": "dafc060045cb2383"
  },
  {
   "cell_type": "code",
   "execution_count": 47,
   "outputs": [
    {
     "data": {
      "text/plain": "id             0\ndate           0\nstore_nbr      0\nfamily         0\nsales          0\nonpromotion    0\ncity           0\nstate          0\ntype           0\ncluster        0\ndtype: int64"
     },
     "execution_count": 47,
     "metadata": {},
     "output_type": "execute_result"
    }
   ],
   "source": [
    "df_train_mod_1.isna().sum()"
   ],
   "metadata": {
    "collapsed": false,
    "ExecuteTime": {
     "end_time": "2023-08-23T00:00:43.670480Z",
     "start_time": "2023-08-23T00:00:43.589735Z"
    }
   },
   "id": "d30cef1873fd8bad"
  },
  {
   "cell_type": "code",
   "execution_count": 48,
   "outputs": [
    {
     "data": {
      "text/plain": "id             0\ndate           0\nstore_nbr      0\nfamily         0\nonpromotion    0\ncity           0\nstate          0\ntype           0\ncluster        0\ndtype: int64"
     },
     "execution_count": 48,
     "metadata": {},
     "output_type": "execute_result"
    }
   ],
   "source": [
    "df_test_mod_1.isna().sum()"
   ],
   "metadata": {
    "collapsed": false,
    "ExecuteTime": {
     "end_time": "2023-08-23T00:00:43.943151Z",
     "start_time": "2023-08-23T00:00:43.940071Z"
    }
   },
   "id": "cb1fa85650c5bd07"
  },
  {
   "cell_type": "markdown",
   "source": [
    "#### Combining with oil dataset"
   ],
   "metadata": {
    "collapsed": false
   },
   "id": "ddf52b29842043d8"
  },
  {
   "cell_type": "code",
   "execution_count": 49,
   "outputs": [
    {
     "data": {
      "text/plain": "         date  dcoilwtico\n0  2013-01-01      93.366\n1  2013-01-02      93.140\n2  2013-01-03      92.970\n3  2013-01-04      93.120\n4  2013-01-07      93.200",
      "text/html": "<div>\n<style scoped>\n    .dataframe tbody tr th:only-of-type {\n        vertical-align: middle;\n    }\n\n    .dataframe tbody tr th {\n        vertical-align: top;\n    }\n\n    .dataframe thead th {\n        text-align: right;\n    }\n</style>\n<table border=\"1\" class=\"dataframe\">\n  <thead>\n    <tr style=\"text-align: right;\">\n      <th></th>\n      <th>date</th>\n      <th>dcoilwtico</th>\n    </tr>\n  </thead>\n  <tbody>\n    <tr>\n      <th>0</th>\n      <td>2013-01-01</td>\n      <td>93.366</td>\n    </tr>\n    <tr>\n      <th>1</th>\n      <td>2013-01-02</td>\n      <td>93.140</td>\n    </tr>\n    <tr>\n      <th>2</th>\n      <td>2013-01-03</td>\n      <td>92.970</td>\n    </tr>\n    <tr>\n      <th>3</th>\n      <td>2013-01-04</td>\n      <td>93.120</td>\n    </tr>\n    <tr>\n      <th>4</th>\n      <td>2013-01-07</td>\n      <td>93.200</td>\n    </tr>\n  </tbody>\n</table>\n</div>"
     },
     "execution_count": 49,
     "metadata": {},
     "output_type": "execute_result"
    }
   ],
   "source": [
    "df_oil_nona.head()"
   ],
   "metadata": {
    "collapsed": false,
    "ExecuteTime": {
     "end_time": "2023-08-23T00:00:44.953960Z",
     "start_time": "2023-08-23T00:00:44.948356Z"
    }
   },
   "id": "eec5f9d7730df8ab"
  },
  {
   "cell_type": "code",
   "execution_count": 50,
   "outputs": [],
   "source": [
    "df_train_mod_1[\"date\"] = pd.to_datetime(df_train_mod_1[\"date\"])\n",
    "df_test_mod_1[\"date\"] = pd.to_datetime(df_test_mod_1[\"date\"])\n",
    "\n",
    "df_oil_nona[\"date\"] = pd.to_datetime(df_oil_nona[\"date\"])\n",
    "\n",
    "df_train_mod_2 = pd.merge(left=df_train_mod_1,right=df_oil_nona,how=\"left\",on=\"date\")\n",
    "df_test_mod_2 = pd.merge(left=df_test_mod_1,right=df_oil_nona,how=\"left\",on=\"date\")"
   ],
   "metadata": {
    "collapsed": false,
    "ExecuteTime": {
     "end_time": "2023-08-23T00:00:45.914412Z",
     "start_time": "2023-08-23T00:00:45.830949Z"
    }
   },
   "id": "39a6e80bfb973f0b"
  },
  {
   "cell_type": "code",
   "execution_count": 51,
   "outputs": [
    {
     "data": {
      "text/plain": "   id       date  store_nbr      family  sales  onpromotion   city      state  \\\n0   0 2013-01-01          1  AUTOMOTIVE    0.0            0  Quito  Pichincha   \n1   1 2013-01-01          1   BABY CARE    0.0            0  Quito  Pichincha   \n2   2 2013-01-01          1      BEAUTY    0.0            0  Quito  Pichincha   \n3   3 2013-01-01          1   BEVERAGES    0.0            0  Quito  Pichincha   \n4   4 2013-01-01          1       BOOKS    0.0            0  Quito  Pichincha   \n\n  type  cluster  dcoilwtico  \n0    D       13      93.366  \n1    D       13      93.366  \n2    D       13      93.366  \n3    D       13      93.366  \n4    D       13      93.366  ",
      "text/html": "<div>\n<style scoped>\n    .dataframe tbody tr th:only-of-type {\n        vertical-align: middle;\n    }\n\n    .dataframe tbody tr th {\n        vertical-align: top;\n    }\n\n    .dataframe thead th {\n        text-align: right;\n    }\n</style>\n<table border=\"1\" class=\"dataframe\">\n  <thead>\n    <tr style=\"text-align: right;\">\n      <th></th>\n      <th>id</th>\n      <th>date</th>\n      <th>store_nbr</th>\n      <th>family</th>\n      <th>sales</th>\n      <th>onpromotion</th>\n      <th>city</th>\n      <th>state</th>\n      <th>type</th>\n      <th>cluster</th>\n      <th>dcoilwtico</th>\n    </tr>\n  </thead>\n  <tbody>\n    <tr>\n      <th>0</th>\n      <td>0</td>\n      <td>2013-01-01</td>\n      <td>1</td>\n      <td>AUTOMOTIVE</td>\n      <td>0.0</td>\n      <td>0</td>\n      <td>Quito</td>\n      <td>Pichincha</td>\n      <td>D</td>\n      <td>13</td>\n      <td>93.366</td>\n    </tr>\n    <tr>\n      <th>1</th>\n      <td>1</td>\n      <td>2013-01-01</td>\n      <td>1</td>\n      <td>BABY CARE</td>\n      <td>0.0</td>\n      <td>0</td>\n      <td>Quito</td>\n      <td>Pichincha</td>\n      <td>D</td>\n      <td>13</td>\n      <td>93.366</td>\n    </tr>\n    <tr>\n      <th>2</th>\n      <td>2</td>\n      <td>2013-01-01</td>\n      <td>1</td>\n      <td>BEAUTY</td>\n      <td>0.0</td>\n      <td>0</td>\n      <td>Quito</td>\n      <td>Pichincha</td>\n      <td>D</td>\n      <td>13</td>\n      <td>93.366</td>\n    </tr>\n    <tr>\n      <th>3</th>\n      <td>3</td>\n      <td>2013-01-01</td>\n      <td>1</td>\n      <td>BEVERAGES</td>\n      <td>0.0</td>\n      <td>0</td>\n      <td>Quito</td>\n      <td>Pichincha</td>\n      <td>D</td>\n      <td>13</td>\n      <td>93.366</td>\n    </tr>\n    <tr>\n      <th>4</th>\n      <td>4</td>\n      <td>2013-01-01</td>\n      <td>1</td>\n      <td>BOOKS</td>\n      <td>0.0</td>\n      <td>0</td>\n      <td>Quito</td>\n      <td>Pichincha</td>\n      <td>D</td>\n      <td>13</td>\n      <td>93.366</td>\n    </tr>\n  </tbody>\n</table>\n</div>"
     },
     "execution_count": 51,
     "metadata": {},
     "output_type": "execute_result"
    }
   ],
   "source": [
    "df_train_mod_2.head()"
   ],
   "metadata": {
    "collapsed": false,
    "ExecuteTime": {
     "end_time": "2023-08-23T00:00:46.331729Z",
     "start_time": "2023-08-23T00:00:46.312124Z"
    }
   },
   "id": "639cfe2b3a0da2e9"
  },
  {
   "cell_type": "code",
   "execution_count": 52,
   "outputs": [
    {
     "data": {
      "text/plain": "        id       date  store_nbr      family  onpromotion   city      state  \\\n0  3000888 2017-08-16          1  AUTOMOTIVE            0  Quito  Pichincha   \n1  3000889 2017-08-16          1   BABY CARE            0  Quito  Pichincha   \n2  3000890 2017-08-16          1      BEAUTY            2  Quito  Pichincha   \n3  3000891 2017-08-16          1   BEVERAGES           20  Quito  Pichincha   \n4  3000892 2017-08-16          1       BOOKS            0  Quito  Pichincha   \n\n  type  cluster  dcoilwtico  \n0    D       13        46.8  \n1    D       13        46.8  \n2    D       13        46.8  \n3    D       13        46.8  \n4    D       13        46.8  ",
      "text/html": "<div>\n<style scoped>\n    .dataframe tbody tr th:only-of-type {\n        vertical-align: middle;\n    }\n\n    .dataframe tbody tr th {\n        vertical-align: top;\n    }\n\n    .dataframe thead th {\n        text-align: right;\n    }\n</style>\n<table border=\"1\" class=\"dataframe\">\n  <thead>\n    <tr style=\"text-align: right;\">\n      <th></th>\n      <th>id</th>\n      <th>date</th>\n      <th>store_nbr</th>\n      <th>family</th>\n      <th>onpromotion</th>\n      <th>city</th>\n      <th>state</th>\n      <th>type</th>\n      <th>cluster</th>\n      <th>dcoilwtico</th>\n    </tr>\n  </thead>\n  <tbody>\n    <tr>\n      <th>0</th>\n      <td>3000888</td>\n      <td>2017-08-16</td>\n      <td>1</td>\n      <td>AUTOMOTIVE</td>\n      <td>0</td>\n      <td>Quito</td>\n      <td>Pichincha</td>\n      <td>D</td>\n      <td>13</td>\n      <td>46.8</td>\n    </tr>\n    <tr>\n      <th>1</th>\n      <td>3000889</td>\n      <td>2017-08-16</td>\n      <td>1</td>\n      <td>BABY CARE</td>\n      <td>0</td>\n      <td>Quito</td>\n      <td>Pichincha</td>\n      <td>D</td>\n      <td>13</td>\n      <td>46.8</td>\n    </tr>\n    <tr>\n      <th>2</th>\n      <td>3000890</td>\n      <td>2017-08-16</td>\n      <td>1</td>\n      <td>BEAUTY</td>\n      <td>2</td>\n      <td>Quito</td>\n      <td>Pichincha</td>\n      <td>D</td>\n      <td>13</td>\n      <td>46.8</td>\n    </tr>\n    <tr>\n      <th>3</th>\n      <td>3000891</td>\n      <td>2017-08-16</td>\n      <td>1</td>\n      <td>BEVERAGES</td>\n      <td>20</td>\n      <td>Quito</td>\n      <td>Pichincha</td>\n      <td>D</td>\n      <td>13</td>\n      <td>46.8</td>\n    </tr>\n    <tr>\n      <th>4</th>\n      <td>3000892</td>\n      <td>2017-08-16</td>\n      <td>1</td>\n      <td>BOOKS</td>\n      <td>0</td>\n      <td>Quito</td>\n      <td>Pichincha</td>\n      <td>D</td>\n      <td>13</td>\n      <td>46.8</td>\n    </tr>\n  </tbody>\n</table>\n</div>"
     },
     "execution_count": 52,
     "metadata": {},
     "output_type": "execute_result"
    }
   ],
   "source": [
    "df_test_mod_2.head()"
   ],
   "metadata": {
    "collapsed": false,
    "ExecuteTime": {
     "end_time": "2023-08-23T00:00:46.724161Z",
     "start_time": "2023-08-23T00:00:46.711558Z"
    }
   },
   "id": "fb64d97c6350cfb9"
  },
  {
   "cell_type": "code",
   "execution_count": 53,
   "outputs": [
    {
     "name": "stdout",
     "output_type": "stream",
     "text": [
      "Length of testing dataframe :  1048575\n",
      "Length of testing dataframe :  28512\n"
     ]
    }
   ],
   "source": [
    "print(\"Length of testing dataframe : \",(len(df_train_mod_2)))\n",
    "print(\"Length of testing dataframe : \",(len(df_test_mod_2)))"
   ],
   "metadata": {
    "collapsed": false,
    "ExecuteTime": {
     "end_time": "2023-08-23T00:00:47.230358Z",
     "start_time": "2023-08-23T00:00:47.224930Z"
    }
   },
   "id": "4b3edb1d06b8bd2c"
  },
  {
   "cell_type": "code",
   "execution_count": 54,
   "outputs": [
    {
     "data": {
      "text/plain": "id                  0\ndate                0\nstore_nbr           0\nfamily              0\nsales               0\nonpromotion         0\ncity                0\nstate               0\ntype                0\ncluster             0\ndcoilwtico     299376\ndtype: int64"
     },
     "execution_count": 54,
     "metadata": {},
     "output_type": "execute_result"
    }
   ],
   "source": [
    "df_train_mod_2.isna().sum()"
   ],
   "metadata": {
    "collapsed": false,
    "ExecuteTime": {
     "end_time": "2023-08-23T00:00:47.807331Z",
     "start_time": "2023-08-23T00:00:47.729247Z"
    }
   },
   "id": "9b832d06d36a22a4"
  },
  {
   "cell_type": "code",
   "execution_count": 55,
   "outputs": [
    {
     "data": {
      "text/plain": "id                0\ndate              0\nstore_nbr         0\nfamily            0\nonpromotion       0\ncity              0\nstate             0\ntype              0\ncluster           0\ndcoilwtico     7128\ndtype: int64"
     },
     "execution_count": 55,
     "metadata": {},
     "output_type": "execute_result"
    }
   ],
   "source": [
    "df_test_mod_2.isna().sum()"
   ],
   "metadata": {
    "collapsed": false,
    "ExecuteTime": {
     "end_time": "2023-08-23T00:00:48.272573Z",
     "start_time": "2023-08-23T00:00:48.255707Z"
    }
   },
   "id": "1fc1181aea81e0e7"
  },
  {
   "cell_type": "code",
   "execution_count": 56,
   "outputs": [
    {
     "data": {
      "text/plain": "   id       date  store_nbr      family  sales  onpromotion   city      state  \\\n0   0 2013-01-01          1  AUTOMOTIVE    0.0            0  Quito  Pichincha   \n1   1 2013-01-01          1   BABY CARE    0.0            0  Quito  Pichincha   \n2   2 2013-01-01          1      BEAUTY    0.0            0  Quito  Pichincha   \n3   3 2013-01-01          1   BEVERAGES    0.0            0  Quito  Pichincha   \n4   4 2013-01-01          1       BOOKS    0.0            0  Quito  Pichincha   \n\n  type  cluster  dcoilwtico  \n0    D       13      93.366  \n1    D       13      93.366  \n2    D       13      93.366  \n3    D       13      93.366  \n4    D       13      93.366  ",
      "text/html": "<div>\n<style scoped>\n    .dataframe tbody tr th:only-of-type {\n        vertical-align: middle;\n    }\n\n    .dataframe tbody tr th {\n        vertical-align: top;\n    }\n\n    .dataframe thead th {\n        text-align: right;\n    }\n</style>\n<table border=\"1\" class=\"dataframe\">\n  <thead>\n    <tr style=\"text-align: right;\">\n      <th></th>\n      <th>id</th>\n      <th>date</th>\n      <th>store_nbr</th>\n      <th>family</th>\n      <th>sales</th>\n      <th>onpromotion</th>\n      <th>city</th>\n      <th>state</th>\n      <th>type</th>\n      <th>cluster</th>\n      <th>dcoilwtico</th>\n    </tr>\n  </thead>\n  <tbody>\n    <tr>\n      <th>0</th>\n      <td>0</td>\n      <td>2013-01-01</td>\n      <td>1</td>\n      <td>AUTOMOTIVE</td>\n      <td>0.0</td>\n      <td>0</td>\n      <td>Quito</td>\n      <td>Pichincha</td>\n      <td>D</td>\n      <td>13</td>\n      <td>93.366</td>\n    </tr>\n    <tr>\n      <th>1</th>\n      <td>1</td>\n      <td>2013-01-01</td>\n      <td>1</td>\n      <td>BABY CARE</td>\n      <td>0.0</td>\n      <td>0</td>\n      <td>Quito</td>\n      <td>Pichincha</td>\n      <td>D</td>\n      <td>13</td>\n      <td>93.366</td>\n    </tr>\n    <tr>\n      <th>2</th>\n      <td>2</td>\n      <td>2013-01-01</td>\n      <td>1</td>\n      <td>BEAUTY</td>\n      <td>0.0</td>\n      <td>0</td>\n      <td>Quito</td>\n      <td>Pichincha</td>\n      <td>D</td>\n      <td>13</td>\n      <td>93.366</td>\n    </tr>\n    <tr>\n      <th>3</th>\n      <td>3</td>\n      <td>2013-01-01</td>\n      <td>1</td>\n      <td>BEVERAGES</td>\n      <td>0.0</td>\n      <td>0</td>\n      <td>Quito</td>\n      <td>Pichincha</td>\n      <td>D</td>\n      <td>13</td>\n      <td>93.366</td>\n    </tr>\n    <tr>\n      <th>4</th>\n      <td>4</td>\n      <td>2013-01-01</td>\n      <td>1</td>\n      <td>BOOKS</td>\n      <td>0.0</td>\n      <td>0</td>\n      <td>Quito</td>\n      <td>Pichincha</td>\n      <td>D</td>\n      <td>13</td>\n      <td>93.366</td>\n    </tr>\n  </tbody>\n</table>\n</div>"
     },
     "execution_count": 56,
     "metadata": {},
     "output_type": "execute_result"
    }
   ],
   "source": [
    "hh = df_train_mod_2[~df_train_mod_2[\"dcoilwtico\"].isna()]\n",
    "df_train_mod_3 = df_train_mod_2.fillna(value=hh[\"dcoilwtico\"].mean(),inplace=False)\n",
    "df_train_mod_3.head()"
   ],
   "metadata": {
    "collapsed": false,
    "ExecuteTime": {
     "end_time": "2023-08-23T00:00:49.015025Z",
     "start_time": "2023-08-23T00:00:48.868743Z"
    }
   },
   "id": "75b029daf86bc76e"
  },
  {
   "cell_type": "code",
   "execution_count": 57,
   "outputs": [
    {
     "data": {
      "text/plain": "        id       date  store_nbr      family  onpromotion   city      state  \\\n0  3000888 2017-08-16          1  AUTOMOTIVE            0  Quito  Pichincha   \n1  3000889 2017-08-16          1   BABY CARE            0  Quito  Pichincha   \n2  3000890 2017-08-16          1      BEAUTY            2  Quito  Pichincha   \n3  3000891 2017-08-16          1   BEVERAGES           20  Quito  Pichincha   \n4  3000892 2017-08-16          1       BOOKS            0  Quito  Pichincha   \n\n  type  cluster  dcoilwtico  \n0    D       13        46.8  \n1    D       13        46.8  \n2    D       13        46.8  \n3    D       13        46.8  \n4    D       13        46.8  ",
      "text/html": "<div>\n<style scoped>\n    .dataframe tbody tr th:only-of-type {\n        vertical-align: middle;\n    }\n\n    .dataframe tbody tr th {\n        vertical-align: top;\n    }\n\n    .dataframe thead th {\n        text-align: right;\n    }\n</style>\n<table border=\"1\" class=\"dataframe\">\n  <thead>\n    <tr style=\"text-align: right;\">\n      <th></th>\n      <th>id</th>\n      <th>date</th>\n      <th>store_nbr</th>\n      <th>family</th>\n      <th>onpromotion</th>\n      <th>city</th>\n      <th>state</th>\n      <th>type</th>\n      <th>cluster</th>\n      <th>dcoilwtico</th>\n    </tr>\n  </thead>\n  <tbody>\n    <tr>\n      <th>0</th>\n      <td>3000888</td>\n      <td>2017-08-16</td>\n      <td>1</td>\n      <td>AUTOMOTIVE</td>\n      <td>0</td>\n      <td>Quito</td>\n      <td>Pichincha</td>\n      <td>D</td>\n      <td>13</td>\n      <td>46.8</td>\n    </tr>\n    <tr>\n      <th>1</th>\n      <td>3000889</td>\n      <td>2017-08-16</td>\n      <td>1</td>\n      <td>BABY CARE</td>\n      <td>0</td>\n      <td>Quito</td>\n      <td>Pichincha</td>\n      <td>D</td>\n      <td>13</td>\n      <td>46.8</td>\n    </tr>\n    <tr>\n      <th>2</th>\n      <td>3000890</td>\n      <td>2017-08-16</td>\n      <td>1</td>\n      <td>BEAUTY</td>\n      <td>2</td>\n      <td>Quito</td>\n      <td>Pichincha</td>\n      <td>D</td>\n      <td>13</td>\n      <td>46.8</td>\n    </tr>\n    <tr>\n      <th>3</th>\n      <td>3000891</td>\n      <td>2017-08-16</td>\n      <td>1</td>\n      <td>BEVERAGES</td>\n      <td>20</td>\n      <td>Quito</td>\n      <td>Pichincha</td>\n      <td>D</td>\n      <td>13</td>\n      <td>46.8</td>\n    </tr>\n    <tr>\n      <th>4</th>\n      <td>3000892</td>\n      <td>2017-08-16</td>\n      <td>1</td>\n      <td>BOOKS</td>\n      <td>0</td>\n      <td>Quito</td>\n      <td>Pichincha</td>\n      <td>D</td>\n      <td>13</td>\n      <td>46.8</td>\n    </tr>\n  </tbody>\n</table>\n</div>"
     },
     "execution_count": 57,
     "metadata": {},
     "output_type": "execute_result"
    }
   ],
   "source": [
    "hh2 = df_test_mod_2[~df_test_mod_2[\"dcoilwtico\"].isna()]\n",
    "df_test_mod_3 = df_test_mod_2.fillna(value=hh2[\"dcoilwtico\"].mean(),inplace=False)\n",
    "df_test_mod_3.head()"
   ],
   "metadata": {
    "collapsed": false,
    "ExecuteTime": {
     "end_time": "2023-08-23T00:00:49.805116Z",
     "start_time": "2023-08-23T00:00:49.792133Z"
    }
   },
   "id": "ad3187c8a1eb1912"
  },
  {
   "cell_type": "code",
   "execution_count": 58,
   "outputs": [
    {
     "name": "stdout",
     "output_type": "stream",
     "text": [
      "Length of testing dataframe :  1048575\n",
      "Length of testing dataframe :  28512\n"
     ]
    }
   ],
   "source": [
    "print(\"Length of testing dataframe : \",(len(df_train_mod_3)))\n",
    "print(\"Length of testing dataframe : \",(len(df_test_mod_3)))"
   ],
   "metadata": {
    "collapsed": false,
    "ExecuteTime": {
     "end_time": "2023-08-23T00:00:50.258353Z",
     "start_time": "2023-08-23T00:00:50.252024Z"
    }
   },
   "id": "76038c44ee8cb41e"
  },
  {
   "cell_type": "markdown",
   "source": [
    "#### Combining with holiday events dataframe"
   ],
   "metadata": {
    "collapsed": false
   },
   "id": "62ff181bd8fc6306"
  },
  {
   "cell_type": "code",
   "execution_count": 59,
   "outputs": [
    {
     "data": {
      "text/plain": "         date    locale locale_name                    description\n0  2012-03-02     Local       Manta             Fundacion de Manta\n1  2012-04-01  Regional    Cotopaxi  Provincializacion de Cotopaxi\n2  2012-04-12     Local      Cuenca            Fundacion de Cuenca\n3  2012-04-14     Local    Libertad      Cantonizacion de Libertad\n4  2012-04-21     Local    Riobamba      Cantonizacion de Riobamba",
      "text/html": "<div>\n<style scoped>\n    .dataframe tbody tr th:only-of-type {\n        vertical-align: middle;\n    }\n\n    .dataframe tbody tr th {\n        vertical-align: top;\n    }\n\n    .dataframe thead th {\n        text-align: right;\n    }\n</style>\n<table border=\"1\" class=\"dataframe\">\n  <thead>\n    <tr style=\"text-align: right;\">\n      <th></th>\n      <th>date</th>\n      <th>locale</th>\n      <th>locale_name</th>\n      <th>description</th>\n    </tr>\n  </thead>\n  <tbody>\n    <tr>\n      <th>0</th>\n      <td>2012-03-02</td>\n      <td>Local</td>\n      <td>Manta</td>\n      <td>Fundacion de Manta</td>\n    </tr>\n    <tr>\n      <th>1</th>\n      <td>2012-04-01</td>\n      <td>Regional</td>\n      <td>Cotopaxi</td>\n      <td>Provincializacion de Cotopaxi</td>\n    </tr>\n    <tr>\n      <th>2</th>\n      <td>2012-04-12</td>\n      <td>Local</td>\n      <td>Cuenca</td>\n      <td>Fundacion de Cuenca</td>\n    </tr>\n    <tr>\n      <th>3</th>\n      <td>2012-04-14</td>\n      <td>Local</td>\n      <td>Libertad</td>\n      <td>Cantonizacion de Libertad</td>\n    </tr>\n    <tr>\n      <th>4</th>\n      <td>2012-04-21</td>\n      <td>Local</td>\n      <td>Riobamba</td>\n      <td>Cantonizacion de Riobamba</td>\n    </tr>\n  </tbody>\n</table>\n</div>"
     },
     "execution_count": 59,
     "metadata": {},
     "output_type": "execute_result"
    }
   ],
   "source": [
    "df_holiday_mod = df_holiday.drop([\"type\",\"transferred\"],axis=1,inplace=False)\n",
    "df_holiday_mod.head()"
   ],
   "metadata": {
    "collapsed": false,
    "ExecuteTime": {
     "end_time": "2023-08-23T00:00:51.126273Z",
     "start_time": "2023-08-23T00:00:51.122036Z"
    }
   },
   "id": "2cd03a869bf76a70"
  },
  {
   "cell_type": "code",
   "execution_count": 60,
   "outputs": [],
   "source": [
    "df_train_mod_3[\"date\"] = pd.to_datetime(df_train_mod_3[\"date\"])\n",
    "df_test_mod_3[\"date\"] = pd.to_datetime(df_test_mod_3[\"date\"])\n",
    "\n",
    "df_holiday_mod[\"date\"] = pd.to_datetime(df_holiday_mod[\"date\"])\n",
    "\n",
    "df_train_mod_4 = pd.merge(left=df_train_mod_3,right=df_holiday_mod,how=\"left\",on=\"date\")\n",
    "df_test_mod_4 = pd.merge(left=df_test_mod_3,right=df_holiday_mod,how=\"left\",on=\"date\")"
   ],
   "metadata": {
    "collapsed": false,
    "ExecuteTime": {
     "end_time": "2023-08-23T00:00:51.756069Z",
     "start_time": "2023-08-23T00:00:51.592747Z"
    }
   },
   "id": "58a2789ad620cbff"
  },
  {
   "cell_type": "code",
   "execution_count": 61,
   "outputs": [
    {
     "data": {
      "text/plain": "   id       date  store_nbr      family  sales  onpromotion   city      state  \\\n0   0 2013-01-01          1  AUTOMOTIVE    0.0            0  Quito  Pichincha   \n1   1 2013-01-01          1   BABY CARE    0.0            0  Quito  Pichincha   \n2   2 2013-01-01          1      BEAUTY    0.0            0  Quito  Pichincha   \n3   3 2013-01-01          1   BEVERAGES    0.0            0  Quito  Pichincha   \n4   4 2013-01-01          1       BOOKS    0.0            0  Quito  Pichincha   \n\n  type  cluster  dcoilwtico    locale locale_name         description  \n0    D       13      93.366  National     Ecuador  Primer dia del ano  \n1    D       13      93.366  National     Ecuador  Primer dia del ano  \n2    D       13      93.366  National     Ecuador  Primer dia del ano  \n3    D       13      93.366  National     Ecuador  Primer dia del ano  \n4    D       13      93.366  National     Ecuador  Primer dia del ano  ",
      "text/html": "<div>\n<style scoped>\n    .dataframe tbody tr th:only-of-type {\n        vertical-align: middle;\n    }\n\n    .dataframe tbody tr th {\n        vertical-align: top;\n    }\n\n    .dataframe thead th {\n        text-align: right;\n    }\n</style>\n<table border=\"1\" class=\"dataframe\">\n  <thead>\n    <tr style=\"text-align: right;\">\n      <th></th>\n      <th>id</th>\n      <th>date</th>\n      <th>store_nbr</th>\n      <th>family</th>\n      <th>sales</th>\n      <th>onpromotion</th>\n      <th>city</th>\n      <th>state</th>\n      <th>type</th>\n      <th>cluster</th>\n      <th>dcoilwtico</th>\n      <th>locale</th>\n      <th>locale_name</th>\n      <th>description</th>\n    </tr>\n  </thead>\n  <tbody>\n    <tr>\n      <th>0</th>\n      <td>0</td>\n      <td>2013-01-01</td>\n      <td>1</td>\n      <td>AUTOMOTIVE</td>\n      <td>0.0</td>\n      <td>0</td>\n      <td>Quito</td>\n      <td>Pichincha</td>\n      <td>D</td>\n      <td>13</td>\n      <td>93.366</td>\n      <td>National</td>\n      <td>Ecuador</td>\n      <td>Primer dia del ano</td>\n    </tr>\n    <tr>\n      <th>1</th>\n      <td>1</td>\n      <td>2013-01-01</td>\n      <td>1</td>\n      <td>BABY CARE</td>\n      <td>0.0</td>\n      <td>0</td>\n      <td>Quito</td>\n      <td>Pichincha</td>\n      <td>D</td>\n      <td>13</td>\n      <td>93.366</td>\n      <td>National</td>\n      <td>Ecuador</td>\n      <td>Primer dia del ano</td>\n    </tr>\n    <tr>\n      <th>2</th>\n      <td>2</td>\n      <td>2013-01-01</td>\n      <td>1</td>\n      <td>BEAUTY</td>\n      <td>0.0</td>\n      <td>0</td>\n      <td>Quito</td>\n      <td>Pichincha</td>\n      <td>D</td>\n      <td>13</td>\n      <td>93.366</td>\n      <td>National</td>\n      <td>Ecuador</td>\n      <td>Primer dia del ano</td>\n    </tr>\n    <tr>\n      <th>3</th>\n      <td>3</td>\n      <td>2013-01-01</td>\n      <td>1</td>\n      <td>BEVERAGES</td>\n      <td>0.0</td>\n      <td>0</td>\n      <td>Quito</td>\n      <td>Pichincha</td>\n      <td>D</td>\n      <td>13</td>\n      <td>93.366</td>\n      <td>National</td>\n      <td>Ecuador</td>\n      <td>Primer dia del ano</td>\n    </tr>\n    <tr>\n      <th>4</th>\n      <td>4</td>\n      <td>2013-01-01</td>\n      <td>1</td>\n      <td>BOOKS</td>\n      <td>0.0</td>\n      <td>0</td>\n      <td>Quito</td>\n      <td>Pichincha</td>\n      <td>D</td>\n      <td>13</td>\n      <td>93.366</td>\n      <td>National</td>\n      <td>Ecuador</td>\n      <td>Primer dia del ano</td>\n    </tr>\n  </tbody>\n</table>\n</div>"
     },
     "execution_count": 61,
     "metadata": {},
     "output_type": "execute_result"
    }
   ],
   "source": [
    "df_train_mod_4.head()"
   ],
   "metadata": {
    "collapsed": false,
    "ExecuteTime": {
     "end_time": "2023-08-23T00:00:52.077035Z",
     "start_time": "2023-08-23T00:00:52.065594Z"
    }
   },
   "id": "7dc868a918910d46"
  },
  {
   "cell_type": "code",
   "execution_count": 62,
   "outputs": [
    {
     "data": {
      "text/plain": "        id       date  store_nbr      family  onpromotion   city      state  \\\n0  3000888 2017-08-16          1  AUTOMOTIVE            0  Quito  Pichincha   \n1  3000889 2017-08-16          1   BABY CARE            0  Quito  Pichincha   \n2  3000890 2017-08-16          1      BEAUTY            2  Quito  Pichincha   \n3  3000891 2017-08-16          1   BEVERAGES           20  Quito  Pichincha   \n4  3000892 2017-08-16          1       BOOKS            0  Quito  Pichincha   \n\n  type  cluster  dcoilwtico locale locale_name description  \n0    D       13        46.8    NaN         NaN         NaN  \n1    D       13        46.8    NaN         NaN         NaN  \n2    D       13        46.8    NaN         NaN         NaN  \n3    D       13        46.8    NaN         NaN         NaN  \n4    D       13        46.8    NaN         NaN         NaN  ",
      "text/html": "<div>\n<style scoped>\n    .dataframe tbody tr th:only-of-type {\n        vertical-align: middle;\n    }\n\n    .dataframe tbody tr th {\n        vertical-align: top;\n    }\n\n    .dataframe thead th {\n        text-align: right;\n    }\n</style>\n<table border=\"1\" class=\"dataframe\">\n  <thead>\n    <tr style=\"text-align: right;\">\n      <th></th>\n      <th>id</th>\n      <th>date</th>\n      <th>store_nbr</th>\n      <th>family</th>\n      <th>onpromotion</th>\n      <th>city</th>\n      <th>state</th>\n      <th>type</th>\n      <th>cluster</th>\n      <th>dcoilwtico</th>\n      <th>locale</th>\n      <th>locale_name</th>\n      <th>description</th>\n    </tr>\n  </thead>\n  <tbody>\n    <tr>\n      <th>0</th>\n      <td>3000888</td>\n      <td>2017-08-16</td>\n      <td>1</td>\n      <td>AUTOMOTIVE</td>\n      <td>0</td>\n      <td>Quito</td>\n      <td>Pichincha</td>\n      <td>D</td>\n      <td>13</td>\n      <td>46.8</td>\n      <td>NaN</td>\n      <td>NaN</td>\n      <td>NaN</td>\n    </tr>\n    <tr>\n      <th>1</th>\n      <td>3000889</td>\n      <td>2017-08-16</td>\n      <td>1</td>\n      <td>BABY CARE</td>\n      <td>0</td>\n      <td>Quito</td>\n      <td>Pichincha</td>\n      <td>D</td>\n      <td>13</td>\n      <td>46.8</td>\n      <td>NaN</td>\n      <td>NaN</td>\n      <td>NaN</td>\n    </tr>\n    <tr>\n      <th>2</th>\n      <td>3000890</td>\n      <td>2017-08-16</td>\n      <td>1</td>\n      <td>BEAUTY</td>\n      <td>2</td>\n      <td>Quito</td>\n      <td>Pichincha</td>\n      <td>D</td>\n      <td>13</td>\n      <td>46.8</td>\n      <td>NaN</td>\n      <td>NaN</td>\n      <td>NaN</td>\n    </tr>\n    <tr>\n      <th>3</th>\n      <td>3000891</td>\n      <td>2017-08-16</td>\n      <td>1</td>\n      <td>BEVERAGES</td>\n      <td>20</td>\n      <td>Quito</td>\n      <td>Pichincha</td>\n      <td>D</td>\n      <td>13</td>\n      <td>46.8</td>\n      <td>NaN</td>\n      <td>NaN</td>\n      <td>NaN</td>\n    </tr>\n    <tr>\n      <th>4</th>\n      <td>3000892</td>\n      <td>2017-08-16</td>\n      <td>1</td>\n      <td>BOOKS</td>\n      <td>0</td>\n      <td>Quito</td>\n      <td>Pichincha</td>\n      <td>D</td>\n      <td>13</td>\n      <td>46.8</td>\n      <td>NaN</td>\n      <td>NaN</td>\n      <td>NaN</td>\n    </tr>\n  </tbody>\n</table>\n</div>"
     },
     "execution_count": 62,
     "metadata": {},
     "output_type": "execute_result"
    }
   ],
   "source": [
    "df_test_mod_4.head()"
   ],
   "metadata": {
    "collapsed": false,
    "ExecuteTime": {
     "end_time": "2023-08-23T00:00:52.504753Z",
     "start_time": "2023-08-23T00:00:52.500946Z"
    }
   },
   "id": "d81d72e4b03583fd"
  },
  {
   "cell_type": "code",
   "execution_count": 63,
   "outputs": [
    {
     "name": "stdout",
     "output_type": "stream",
     "text": [
      "Length of testing dataframe :  1064613\n",
      "Length of testing dataframe :  28512\n"
     ]
    }
   ],
   "source": [
    "print(\"Length of testing dataframe : \",(len(df_train_mod_4)))\n",
    "print(\"Length of testing dataframe : \",(len(df_test_mod_4)))"
   ],
   "metadata": {
    "collapsed": false,
    "ExecuteTime": {
     "end_time": "2023-08-23T00:00:52.867767Z",
     "start_time": "2023-08-23T00:00:52.860792Z"
    }
   },
   "id": "75d5cec46b559760"
  },
  {
   "cell_type": "code",
   "execution_count": 64,
   "outputs": [
    {
     "data": {
      "text/plain": "id                  0\ndate                0\nstore_nbr           0\nfamily              0\nsales               0\nonpromotion         0\ncity                0\nstate               0\ntype                0\ncluster             0\ndcoilwtico          0\nlocale         911361\nlocale_name    911361\ndescription    911361\ndtype: int64"
     },
     "execution_count": 64,
     "metadata": {},
     "output_type": "execute_result"
    }
   ],
   "source": [
    "train_na_values = df_train_mod_4.isna().sum()\n",
    "train_na_values"
   ],
   "metadata": {
    "collapsed": false,
    "ExecuteTime": {
     "end_time": "2023-08-23T00:00:53.388271Z",
     "start_time": "2023-08-23T00:00:53.275887Z"
    }
   },
   "id": "4643b6fd37010160"
  },
  {
   "cell_type": "code",
   "execution_count": 65,
   "outputs": [
    {
     "data": {
      "text/plain": "id                 0\ndate               0\nstore_nbr          0\nfamily             0\nonpromotion        0\ncity               0\nstate              0\ntype               0\ncluster            0\ndcoilwtico         0\nlocale         26730\nlocale_name    26730\ndescription    26730\ndtype: int64"
     },
     "execution_count": 65,
     "metadata": {},
     "output_type": "execute_result"
    }
   ],
   "source": [
    "test_na_values = df_test_mod_4.isna().sum()\n",
    "test_na_values"
   ],
   "metadata": {
    "collapsed": false,
    "ExecuteTime": {
     "end_time": "2023-08-23T00:00:53.848105Z",
     "start_time": "2023-08-23T00:00:53.823224Z"
    }
   },
   "id": "c6b0c988bcba8832"
  },
  {
   "cell_type": "code",
   "execution_count": 66,
   "outputs": [
    {
     "name": "stdout",
     "output_type": "stream",
     "text": [
      "Number of null values in training dataset :  85.6\n",
      "Number of null values in testing dataset  :  93.75\n"
     ]
    }
   ],
   "source": [
    "print(\"Number of null values in training dataset : \",(train_na_values[\"locale\"]*100/len(df_train_mod_4)).round(2))\n",
    "print(\"Number of null values in testing dataset  : \",(test_na_values[\"locale\"]*100/len(df_test_mod_4)).round(2))"
   ],
   "metadata": {
    "collapsed": false,
    "ExecuteTime": {
     "end_time": "2023-08-23T00:00:54.382542Z",
     "start_time": "2023-08-23T00:00:54.377189Z"
    }
   },
   "id": "29cb3395f30624ea"
  },
  {
   "cell_type": "markdown",
   "source": [
    "Since the resultant training and testing datasets have a very high percentage of null values, this cannot be accepted. This means that the parameter needed to be considered can be only if a day is a holiday or not."
   ],
   "metadata": {
    "collapsed": false
   },
   "id": "16ee0111120fdf19"
  },
  {
   "cell_type": "code",
   "execution_count": 67,
   "outputs": [
    {
     "data": {
      "text/plain": "         date     type    locale locale_name                    description  \\\n0  2012-03-02  Holiday     Local       Manta             Fundacion de Manta   \n1  2012-04-01  Holiday  Regional    Cotopaxi  Provincializacion de Cotopaxi   \n2  2012-04-12  Holiday     Local      Cuenca            Fundacion de Cuenca   \n3  2012-04-14  Holiday     Local    Libertad      Cantonizacion de Libertad   \n4  2012-04-21  Holiday     Local    Riobamba      Cantonizacion de Riobamba   \n\n   transferred  \n0        False  \n1        False  \n2        False  \n3        False  \n4        False  ",
      "text/html": "<div>\n<style scoped>\n    .dataframe tbody tr th:only-of-type {\n        vertical-align: middle;\n    }\n\n    .dataframe tbody tr th {\n        vertical-align: top;\n    }\n\n    .dataframe thead th {\n        text-align: right;\n    }\n</style>\n<table border=\"1\" class=\"dataframe\">\n  <thead>\n    <tr style=\"text-align: right;\">\n      <th></th>\n      <th>date</th>\n      <th>type</th>\n      <th>locale</th>\n      <th>locale_name</th>\n      <th>description</th>\n      <th>transferred</th>\n    </tr>\n  </thead>\n  <tbody>\n    <tr>\n      <th>0</th>\n      <td>2012-03-02</td>\n      <td>Holiday</td>\n      <td>Local</td>\n      <td>Manta</td>\n      <td>Fundacion de Manta</td>\n      <td>False</td>\n    </tr>\n    <tr>\n      <th>1</th>\n      <td>2012-04-01</td>\n      <td>Holiday</td>\n      <td>Regional</td>\n      <td>Cotopaxi</td>\n      <td>Provincializacion de Cotopaxi</td>\n      <td>False</td>\n    </tr>\n    <tr>\n      <th>2</th>\n      <td>2012-04-12</td>\n      <td>Holiday</td>\n      <td>Local</td>\n      <td>Cuenca</td>\n      <td>Fundacion de Cuenca</td>\n      <td>False</td>\n    </tr>\n    <tr>\n      <th>3</th>\n      <td>2012-04-14</td>\n      <td>Holiday</td>\n      <td>Local</td>\n      <td>Libertad</td>\n      <td>Cantonizacion de Libertad</td>\n      <td>False</td>\n    </tr>\n    <tr>\n      <th>4</th>\n      <td>2012-04-21</td>\n      <td>Holiday</td>\n      <td>Local</td>\n      <td>Riobamba</td>\n      <td>Cantonizacion de Riobamba</td>\n      <td>False</td>\n    </tr>\n  </tbody>\n</table>\n</div>"
     },
     "execution_count": 67,
     "metadata": {},
     "output_type": "execute_result"
    }
   ],
   "source": [
    "df_holiday.head()"
   ],
   "metadata": {
    "collapsed": false,
    "ExecuteTime": {
     "end_time": "2023-08-23T00:00:55.293416Z",
     "start_time": "2023-08-23T00:00:55.288983Z"
    }
   },
   "id": "9e99141773f75ff9"
  },
  {
   "cell_type": "code",
   "execution_count": 68,
   "outputs": [],
   "source": [
    "holiday_date = df_holiday[\"date\"]"
   ],
   "metadata": {
    "collapsed": false,
    "ExecuteTime": {
     "end_time": "2023-08-23T00:00:55.719114Z",
     "start_time": "2023-08-23T00:00:55.713112Z"
    }
   },
   "id": "435a5de94e993fd3"
  },
  {
   "cell_type": "code",
   "execution_count": 69,
   "outputs": [
    {
     "name": "stdout",
     "output_type": "stream",
     "text": [
      "Number of holidays :  333\n"
     ]
    }
   ],
   "source": [
    "print(\"Number of holidays : \",len(holiday_date))"
   ],
   "metadata": {
    "collapsed": false,
    "ExecuteTime": {
     "end_time": "2023-08-23T00:00:56.232039Z",
     "start_time": "2023-08-23T00:00:56.225625Z"
    }
   },
   "id": "4c3cdf51479365a4"
  },
  {
   "cell_type": "code",
   "execution_count": 74,
   "outputs": [
    {
     "data": {
      "text/plain": "0         2013-01-01\n1         2013-01-01\n2         2013-01-01\n3         2013-01-01\n4         2013-01-01\n             ...    \n1048570   2014-08-13\n1048571   2014-08-13\n1048572   2014-08-13\n1048573   2014-08-13\n1048574   2014-08-13\nName: date, Length: 1048575, dtype: datetime64[ns]"
     },
     "execution_count": 74,
     "metadata": {},
     "output_type": "execute_result"
    }
   ],
   "source": [
    "df_train_mod_3[\"date\"]"
   ],
   "metadata": {
    "collapsed": false,
    "ExecuteTime": {
     "end_time": "2023-08-23T00:01:54.212483Z",
     "start_time": "2023-08-23T00:01:54.198404Z"
    }
   },
   "id": "e92443a630473b80"
  },
  {
   "cell_type": "code",
   "execution_count": null,
   "outputs": [],
   "source": [],
   "metadata": {
    "collapsed": false
   },
   "id": "5d0a7e562aa745ec"
  }
 ],
 "metadata": {
  "kernelspec": {
   "display_name": "Python 3",
   "language": "python",
   "name": "python3"
  },
  "language_info": {
   "codemirror_mode": {
    "name": "ipython",
    "version": 2
   },
   "file_extension": ".py",
   "mimetype": "text/x-python",
   "name": "python",
   "nbconvert_exporter": "python",
   "pygments_lexer": "ipython2",
   "version": "2.7.6"
  }
 },
 "nbformat": 4,
 "nbformat_minor": 5
}
