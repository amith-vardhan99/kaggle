{
 "cells": [
  {
   "cell_type": "markdown",
   "source": [
    "## Deep Learning"
   ],
   "metadata": {
    "collapsed": false
   },
   "id": "ae1f3f6dcf153117"
  },
  {
   "cell_type": "markdown",
   "source": [
    "We have seen that machine learning using sci-kit learn is taking a lot of time. Hence, we shall go for deep learning using tensorflow."
   ],
   "metadata": {
    "collapsed": false
   },
   "id": "35dbb9a99e267cf9"
  },
  {
   "cell_type": "code",
   "execution_count": null,
   "outputs": [],
   "source": [
    "import numpy as np\n",
    "import pandas as pd\n",
    "import matplotlib.pyplot as plt\n",
    "import seaborn as sns\n",
    "import tensorflow as tf\n",
    "from sklearn.preprocessing import *"
   ],
   "metadata": {
    "collapsed": false
   },
   "id": "fba2365ff56434f9"
  },
  {
   "cell_type": "code",
   "execution_count": null,
   "outputs": [],
   "source": [
    "df_X = pd.read_csv(\"train_X_preprocessed.csv\")\n",
    "df_y = pd.read_csv(\"train_y_preprocessed.csv\")\n",
    "df_test = pd.read_csv(\"test_preprocessed.csv\")"
   ],
   "metadata": {
    "collapsed": false
   },
   "id": "4bebccde60c4e0de"
  },
  {
   "cell_type": "code",
   "execution_count": null,
   "outputs": [],
   "source": [
    "df_X.head()"
   ],
   "metadata": {
    "collapsed": false
   },
   "id": "ba429a236eb08802"
  },
  {
   "cell_type": "code",
   "execution_count": null,
   "outputs": [],
   "source": [
    "df_y.head()"
   ],
   "metadata": {
    "collapsed": false
   },
   "id": "e4ed0581075a9fb0"
  },
  {
   "cell_type": "code",
   "execution_count": null,
   "outputs": [],
   "source": [
    "df_test.head()"
   ],
   "metadata": {
    "collapsed": false
   },
   "id": "274b3b84187a170a"
  },
  {
   "cell_type": "code",
   "execution_count": null,
   "outputs": [],
   "source": [
    "print(\"Number of rows in X_train : \",len(df_X))\n",
    "print(\"Number of rows in y_train : \",len(df_y))\n",
    "print(\"Number of rows in X_test  : \",len(df_test))"
   ],
   "metadata": {
    "collapsed": false
   },
   "id": "2d72664e0d854da5"
  },
  {
   "cell_type": "code",
   "execution_count": null,
   "outputs": [],
   "source": [
    "df_X.dtypes"
   ],
   "metadata": {
    "collapsed": false
   },
   "id": "f7afba0c7f81f10b"
  },
  {
   "cell_type": "code",
   "execution_count": null,
   "outputs": [],
   "source": [
    "df_test.dtypes"
   ],
   "metadata": {
    "collapsed": false
   },
   "id": "5f47167318ea3995"
  },
  {
   "cell_type": "code",
   "execution_count": null,
   "outputs": [],
   "source": [
    "df_y.dtypes"
   ],
   "metadata": {
    "collapsed": false
   },
   "id": "a87ef2549a96d296"
  },
  {
   "cell_type": "markdown",
   "source": [
    "### Performing feature engineering in both training and testing datasets"
   ],
   "metadata": {
    "collapsed": false
   },
   "id": "93e2be5453743333"
  },
  {
   "cell_type": "code",
   "execution_count": null,
   "outputs": [],
   "source": [
    "df_combined = pd.concat([df_X,df_test])\n",
    "df_combined.head()"
   ],
   "metadata": {
    "collapsed": false
   },
   "id": "20d75e0a07eff7c2"
  },
  {
   "cell_type": "code",
   "execution_count": null,
   "outputs": [],
   "source": [
    "print(\"Length of combined dataframe : \",len(df_combined))"
   ],
   "metadata": {
    "collapsed": false
   },
   "id": "542e14e1a5d2b22b"
  },
  {
   "cell_type": "code",
   "execution_count": null,
   "outputs": [],
   "source": [
    "ss = StandardScaler()\n",
    "df_combined_1 = ss.fit_transform(df_combined)\n",
    "\n",
    "df_input = df_combined_1[0:len(df_X)]\n",
    "\n",
    "df_X_train_1 = df_input[0:int(3*len(df_X)/4)]\n",
    "df_X_valid_1 = df_input[int(3*len(df_X)/4):]\n",
    "df_X_test_1 = df_combined_1[len(df_X):]\n",
    "\n",
    "df_X_train_2 = pd.DataFrame(df_X_train_1,columns=df_X.columns.values)\n",
    "df_X_valid_2 = pd.DataFrame(df_X_valid_1,columns=df_X.columns.values)\n",
    "df_X_test_2 = pd.DataFrame(df_X_test_1,columns=df_test.columns.values)"
   ],
   "metadata": {
    "collapsed": false
   },
   "id": "7d9978d11faa2dff"
  },
  {
   "cell_type": "code",
   "execution_count": null,
   "outputs": [],
   "source": [
    "df_X_train_2.head()"
   ],
   "metadata": {
    "collapsed": false
   },
   "id": "95d7c2f5c1dd88ee"
  },
  {
   "cell_type": "code",
   "execution_count": null,
   "outputs": [],
   "source": [
    "df_X_valid_2.head()"
   ],
   "metadata": {
    "collapsed": false
   },
   "id": "7cd255176c6bdf29"
  },
  {
   "cell_type": "code",
   "execution_count": null,
   "outputs": [],
   "source": [
    "df_X_test_2.head()"
   ],
   "metadata": {
    "collapsed": false
   },
   "id": "d302a4707a7aa4ff"
  },
  {
   "cell_type": "code",
   "execution_count": null,
   "outputs": [],
   "source": [
    "df_y_train_2 = df_y[0:int(3*len(df_y)/4)]\n",
    "df_y_valid_2 = df_y[int(3*len(df_y)/4):]"
   ],
   "metadata": {
    "collapsed": false
   },
   "id": "f3249d5f70842510"
  },
  {
   "cell_type": "code",
   "execution_count": null,
   "outputs": [],
   "source": [
    "df_y_train_2.head()"
   ],
   "metadata": {
    "collapsed": false
   },
   "id": "cb8907864e36a02c"
  },
  {
   "cell_type": "code",
   "execution_count": null,
   "outputs": [],
   "source": [
    "df_y_valid_2.head()"
   ],
   "metadata": {
    "collapsed": false
   },
   "id": "d0412c938700d5d7"
  },
  {
   "cell_type": "code",
   "execution_count": null,
   "outputs": [],
   "source": [
    "print(\"Number of rows in X training set   : \",len(df_X_train_2))\n",
    "print(\"Number of rows in X validation set : \",len(df_X_valid_2))\n",
    "print(\"Number of rows in X testing set    : \",len(df_X_test_2))"
   ],
   "metadata": {
    "collapsed": false
   },
   "id": "eabed39d542b0912"
  },
  {
   "cell_type": "code",
   "execution_count": null,
   "outputs": [],
   "source": [
    "print(\"Number of rows in y training set   : \",len(df_y_train_2))\n",
    "print(\"Number of rows in y validation set : \",len(df_y_valid_2))"
   ],
   "metadata": {
    "collapsed": false
   },
   "id": "f385b7952cb0aaa1"
  },
  {
   "cell_type": "code",
   "execution_count": null,
   "outputs": [],
   "source": [
    "X_train = df_X_train_2.to_numpy()\n",
    "y_train = df_y_train_2.to_numpy()\n",
    "\n",
    "X_valid = df_X_valid_2.to_numpy()\n",
    "y_valid = df_y_valid_2.to_numpy()\n",
    "\n",
    "X_test = df_X_test_2.to_numpy()"
   ],
   "metadata": {
    "collapsed": false
   },
   "id": "5b04d3be8d94ddad"
  },
  {
   "cell_type": "markdown",
   "source": [
    "### Performing deep learning using tensorflow"
   ],
   "metadata": {
    "collapsed": false
   },
   "id": "b11453d685e34f0a"
  },
  {
   "cell_type": "code",
   "execution_count": null,
   "outputs": [],
   "source": [
    "model = tf.keras.models.Sequential([\n",
    "    tf.keras.layers.Dense(128,activation=\"relu\"),\n",
    "    tf.keras.layers.Dense(64,activation=\"relu\"),\n",
    "    tf.keras.layers.Dense(4,activation=\"linear\")\n",
    "])\n",
    "optimize = tf.keras.optimizers.legacy.SGD(learning_rate=0.0005)\n",
    "early_stopping = tf.keras.callbacks.EarlyStopping()"
   ],
   "metadata": {
    "collapsed": false,
    "ExecuteTime": {
     "start_time": "2023-08-26T00:42:13.573944Z"
    }
   },
   "id": "3e314032575c7eda"
  },
  {
   "cell_type": "code",
   "execution_count": null,
   "outputs": [],
   "source": [
    "model.compile(optimizer=optimize,loss=\"mean_squared_logarithmic_error\",metrics=[\"accuracy\"])\n",
    "model.fit(x=X_train,y=y_train,batch_size=4,epochs=10,validation_data=(X_valid,y_valid),shuffle=True,callbacks=[early_stopping])"
   ],
   "metadata": {
    "collapsed": false
   },
   "id": "72a9c63dae6b3ed5"
  }
 ],
 "metadata": {
  "kernelspec": {
   "display_name": "Python 3",
   "language": "python",
   "name": "python3"
  },
  "language_info": {
   "codemirror_mode": {
    "name": "ipython",
    "version": 2
   },
   "file_extension": ".py",
   "mimetype": "text/x-python",
   "name": "python",
   "nbconvert_exporter": "python",
   "pygments_lexer": "ipython2",
   "version": "2.7.6"
  }
 },
 "nbformat": 4,
 "nbformat_minor": 5
}
