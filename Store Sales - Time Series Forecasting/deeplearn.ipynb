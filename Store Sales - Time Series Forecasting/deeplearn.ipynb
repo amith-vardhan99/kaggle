{
 "cells": [
  {
   "cell_type": "markdown",
   "source": [
    "## Deep Learning"
   ],
   "metadata": {
    "collapsed": false
   },
   "id": "ae1f3f6dcf153117"
  },
  {
   "cell_type": "markdown",
   "source": [
    "Now, we are done with both exploratory data analysis and preprocessing. Now we will go ahead with performing machine learning."
   ],
   "metadata": {
    "collapsed": false
   },
   "id": "35dbb9a99e267cf9"
  },
  {
   "cell_type": "code",
   "execution_count": 15,
   "outputs": [],
   "source": [
    "import numpy as np\n",
    "import pandas as pd\n",
    "import matplotlib.pyplot as plt\n",
    "import seaborn as sns\n",
    "import tensorflow as tf"
   ],
   "metadata": {
    "collapsed": false,
    "ExecuteTime": {
     "end_time": "2023-08-25T19:55:45.516395Z",
     "start_time": "2023-08-25T19:55:45.513644Z"
    }
   },
   "id": "fba2365ff56434f9"
  },
  {
   "cell_type": "code",
   "execution_count": 16,
   "outputs": [],
   "source": [
    "df_train_X_1 = np.load(\"X_train_1.npz\")\n",
    "df_train_X_2 = np.load(\"X_train_2.npz\")\n",
    "df_train_X_3 = np.load(\"X_train_3.npz\")\n",
    "df_train_X_4 = np.load(\"X_train_4.npz\")"
   ],
   "metadata": {
    "collapsed": false,
    "ExecuteTime": {
     "end_time": "2023-08-25T19:55:46.003570Z",
     "start_time": "2023-08-25T19:55:45.999765Z"
    }
   },
   "id": "4bebccde60c4e0de"
  },
  {
   "cell_type": "code",
   "execution_count": 17,
   "outputs": [],
   "source": [
    "df_train_y_1 = np.load(\"y_train_1.npz\")\n",
    "df_train_y_2 = np.load(\"y_train_2.npz\")\n",
    "df_train_y_3 = np.load(\"y_train_3.npz\")\n",
    "df_train_y_4 = np.load(\"y_train_4.npz\")"
   ],
   "metadata": {
    "collapsed": false,
    "ExecuteTime": {
     "end_time": "2023-08-25T19:55:46.374504Z",
     "start_time": "2023-08-25T19:55:46.371997Z"
    }
   },
   "id": "d6cc13214575e90"
  },
  {
   "cell_type": "code",
   "execution_count": 18,
   "outputs": [],
   "source": [
    "df_test_X = np.load(\"X_test.npz\")"
   ],
   "metadata": {
    "collapsed": false,
    "ExecuteTime": {
     "end_time": "2023-08-25T19:55:46.714979Z",
     "start_time": "2023-08-25T19:55:46.708202Z"
    }
   },
   "id": "d4027d3f19a5a7c4"
  },
  {
   "cell_type": "markdown",
   "source": [
    "### Combining the training and testing datasets"
   ],
   "metadata": {
    "collapsed": false
   },
   "id": "a50779bfe32e6c12"
  },
  {
   "cell_type": "code",
   "execution_count": 19,
   "outputs": [],
   "source": [
    "X_train_1 = df_train_X_1[\"arr_0\"]\n",
    "X_train_2 = df_train_X_2[\"arr_0\"]\n",
    "X_train_3 = df_train_X_3[\"arr_0\"]\n",
    "X_train_4 = df_train_X_4[\"arr_0\"]\n",
    "\n",
    "y_train_1 = df_train_y_1[\"arr_0\"]\n",
    "y_train_2 = df_train_y_2[\"arr_0\"]\n",
    "y_train_3 = df_train_y_3[\"arr_0\"]\n",
    "y_train_4 = df_train_y_4[\"arr_0\"]\n",
    "\n",
    "X_test = df_test_X[\"arr_0\"]"
   ],
   "metadata": {
    "collapsed": false,
    "ExecuteTime": {
     "end_time": "2023-08-25T19:55:47.570463Z",
     "start_time": "2023-08-25T19:55:47.437046Z"
    }
   },
   "id": "4bb5a784cb0c1ad5"
  },
  {
   "cell_type": "code",
   "execution_count": 28,
   "outputs": [],
   "source": [
    "X_train_1 = np.row_stack([X_train_1,X_train_2,X_train_3,X_train_4])\n",
    "y_train_1 = np.row_stack([y_train_1,y_train_2,y_train_3,y_train_4])"
   ],
   "metadata": {
    "collapsed": false,
    "ExecuteTime": {
     "end_time": "2023-08-25T20:01:13.915717Z",
     "start_time": "2023-08-25T20:01:13.756636Z"
    }
   },
   "id": "5c94e605ceab137b"
  },
  {
   "cell_type": "code",
   "execution_count": 29,
   "outputs": [],
   "source": [
    "X_train = X_train_1[0:int(3*len(X_train_1)/4),:]\n",
    "X_valid = X_train_1[int(3*len(X_train_1)/4):,:]\n",
    "\n",
    "y_train = y_train_1[0:int(3*len(y_train_1)/4),:]\n",
    "y_valid = y_train_1[int(3*len(y_train_1)/4):,:]"
   ],
   "metadata": {
    "collapsed": false,
    "ExecuteTime": {
     "end_time": "2023-08-25T20:01:14.489359Z",
     "start_time": "2023-08-25T20:01:14.484157Z"
    }
   },
   "id": "da4a1f99555d3cc"
  },
  {
   "cell_type": "code",
   "execution_count": 30,
   "outputs": [
    {
     "data": {
      "text/plain": "array([[2.0130e+03, 1.0000e+00, 1.0000e+00, ..., 0.0000e+00, 9.3366e+01,\n        1.0000e+00],\n       [2.0130e+03, 1.0000e+00, 1.0000e+00, ..., 0.0000e+00, 9.3366e+01,\n        1.0000e+00],\n       [2.0130e+03, 1.0000e+00, 1.0000e+00, ..., 0.0000e+00, 9.3366e+01,\n        1.0000e+00],\n       ...,\n       [2.0140e+03, 3.0000e+00, 1.9000e+01, ..., 0.0000e+00, 1.0071e+02,\n        0.0000e+00],\n       [2.0140e+03, 3.0000e+00, 1.9000e+01, ..., 0.0000e+00, 1.0071e+02,\n        0.0000e+00],\n       [2.0140e+03, 3.0000e+00, 1.9000e+01, ..., 0.0000e+00, 1.0071e+02,\n        0.0000e+00]])"
     },
     "execution_count": 30,
     "metadata": {},
     "output_type": "execute_result"
    }
   ],
   "source": [
    "X_train"
   ],
   "metadata": {
    "collapsed": false,
    "ExecuteTime": {
     "end_time": "2023-08-25T20:01:18.894853Z",
     "start_time": "2023-08-25T20:01:18.887111Z"
    }
   },
   "id": "974e2715e2d5f660"
  },
  {
   "cell_type": "code",
   "execution_count": 31,
   "outputs": [
    {
     "data": {
      "text/plain": "array([[2.0140e+03, 3.0000e+00, 1.9000e+01, ..., 0.0000e+00, 1.0071e+02,\n        0.0000e+00],\n       [2.0140e+03, 3.0000e+00, 1.9000e+01, ..., 0.0000e+00, 1.0071e+02,\n        0.0000e+00],\n       [2.0140e+03, 3.0000e+00, 1.9000e+01, ..., 0.0000e+00, 1.0071e+02,\n        0.0000e+00],\n       ...,\n       [2.0140e+03, 8.0000e+00, 1.3000e+01, ..., 1.0000e+00, 9.7570e+01,\n        0.0000e+00],\n       [2.0140e+03, 8.0000e+00, 1.3000e+01, ..., 1.0000e+00, 9.7570e+01,\n        0.0000e+00],\n       [2.0140e+03, 8.0000e+00, 1.3000e+01, ..., 1.0000e+00, 9.7570e+01,\n        0.0000e+00]])"
     },
     "execution_count": 31,
     "metadata": {},
     "output_type": "execute_result"
    }
   ],
   "source": [
    "X_valid"
   ],
   "metadata": {
    "collapsed": false,
    "ExecuteTime": {
     "end_time": "2023-08-25T20:01:23.330634Z",
     "start_time": "2023-08-25T20:01:23.325823Z"
    }
   },
   "id": "251af7355b863965"
  },
  {
   "cell_type": "code",
   "execution_count": 32,
   "outputs": [
    {
     "data": {
      "text/plain": "array([[  0.   ],\n       [  0.   ],\n       [  0.   ],\n       ...,\n       [250.863],\n       [  8.   ],\n       [485.   ]])"
     },
     "execution_count": 32,
     "metadata": {},
     "output_type": "execute_result"
    }
   ],
   "source": [
    "y_train"
   ],
   "metadata": {
    "collapsed": false,
    "ExecuteTime": {
     "end_time": "2023-08-25T20:01:36.245704Z",
     "start_time": "2023-08-25T20:01:36.240880Z"
    }
   },
   "id": "b0709700ccc8380a"
  },
  {
   "cell_type": "code",
   "execution_count": 33,
   "outputs": [
    {
     "data": {
      "text/plain": "array([[588.   ],\n       [116.357],\n       [119.   ],\n       ...,\n       [ 10.   ],\n       [  0.   ],\n       [ 69.116]])"
     },
     "execution_count": 33,
     "metadata": {},
     "output_type": "execute_result"
    }
   ],
   "source": [
    "y_valid"
   ],
   "metadata": {
    "collapsed": false,
    "ExecuteTime": {
     "end_time": "2023-08-25T20:01:40.533226Z",
     "start_time": "2023-08-25T20:01:40.528343Z"
    }
   },
   "id": "9e1125706d3db3a9"
  },
  {
   "cell_type": "code",
   "execution_count": 34,
   "outputs": [
    {
     "data": {
      "text/plain": "array([[2.0140e+03, 3.0000e+00, 1.9000e+01, ..., 0.0000e+00, 1.0071e+02,\n        0.0000e+00],\n       [2.0140e+03, 3.0000e+00, 1.9000e+01, ..., 0.0000e+00, 1.0071e+02,\n        0.0000e+00],\n       [2.0140e+03, 3.0000e+00, 1.9000e+01, ..., 0.0000e+00, 1.0071e+02,\n        0.0000e+00],\n       ...,\n       [2.0140e+03, 8.0000e+00, 1.3000e+01, ..., 1.0000e+00, 9.7570e+01,\n        0.0000e+00],\n       [2.0140e+03, 8.0000e+00, 1.3000e+01, ..., 1.0000e+00, 9.7570e+01,\n        0.0000e+00],\n       [2.0140e+03, 8.0000e+00, 1.3000e+01, ..., 1.0000e+00, 9.7570e+01,\n        0.0000e+00]])"
     },
     "execution_count": 34,
     "metadata": {},
     "output_type": "execute_result"
    }
   ],
   "source": [
    "X_valid"
   ],
   "metadata": {
    "collapsed": false,
    "ExecuteTime": {
     "end_time": "2023-08-25T20:01:45.872955Z",
     "start_time": "2023-08-25T20:01:45.868491Z"
    }
   },
   "id": "ef65562312392a16"
  },
  {
   "cell_type": "code",
   "execution_count": 36,
   "outputs": [
    {
     "name": "stdout",
     "output_type": "stream",
     "text": [
      "Number of rows in training dataset   :  786431\n",
      "Number of rows in validation dataset :  262144\n",
      "Number of rows in testing dataset    :  28512\n"
     ]
    }
   ],
   "source": [
    "print(\"Number of rows in training dataset   : \",len(X_train))\n",
    "print(\"Number of rows in validation dataset : \",len(X_valid))\n",
    "print(\"Number of rows in testing dataset    : \",len(X_test))"
   ],
   "metadata": {
    "collapsed": false,
    "ExecuteTime": {
     "end_time": "2023-08-25T20:02:01.757001Z",
     "start_time": "2023-08-25T20:02:01.751186Z"
    }
   },
   "id": "e40e6e9606442700"
  },
  {
   "cell_type": "code",
   "execution_count": null,
   "outputs": [],
   "source": [
    "model = tf.keras.models.Sequential([\n",
    "    tf.keras.layers.Dense(units=32,activation=\"relu\"),\n",
    "    tf.keras.layers.Dense(units=64,activation=\"relu\"),\n",
    "    tf.keras.layers.Dense(units=128,activation=\"relu\"),\n",
    "    tf.keras.layers.Dense(units=1)\n",
    "])"
   ],
   "metadata": {
    "collapsed": false
   },
   "id": "251c3f8be7cb6644"
  },
  {
   "cell_type": "code",
   "execution_count": null,
   "outputs": [],
   "source": [
    "optimizer = tf.keras.optimizers.legacy.RMSprop(learning_rate=0.001)\n",
    "model.compile(optimizer=\"adam\",loss=\"mean_squared_error\",metrics=[\"accuracy\"])\n",
    "model.fit(x=X_train,y=y_train,epochs=10,validation_data=(X_valid,y_valid),callbacks=tf.keras.callbacks.EarlyStopping())"
   ],
   "metadata": {
    "collapsed": false
   },
   "id": "b400fb696bad210a"
  }
 ],
 "metadata": {
  "kernelspec": {
   "display_name": "Python 3",
   "language": "python",
   "name": "python3"
  },
  "language_info": {
   "codemirror_mode": {
    "name": "ipython",
    "version": 2
   },
   "file_extension": ".py",
   "mimetype": "text/x-python",
   "name": "python",
   "nbconvert_exporter": "python",
   "pygments_lexer": "ipython2",
   "version": "2.7.6"
  }
 },
 "nbformat": 4,
 "nbformat_minor": 5
}
