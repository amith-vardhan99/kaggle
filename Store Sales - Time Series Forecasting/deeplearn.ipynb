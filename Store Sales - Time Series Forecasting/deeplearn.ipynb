{
 "cells": [
  {
   "cell_type": "markdown",
   "source": [
    "## Deep Learning"
   ],
   "metadata": {
    "collapsed": false
   },
   "id": "ae1f3f6dcf153117"
  },
  {
   "cell_type": "markdown",
   "source": [
    "Now, we are done with both exploratory data analysis and preprocessing. Now we will go ahead with performing machine learning."
   ],
   "metadata": {
    "collapsed": false
   },
   "id": "35dbb9a99e267cf9"
  },
  {
   "cell_type": "code",
   "execution_count": 27,
   "outputs": [],
   "source": [
    "import numpy as np\n",
    "import pandas as pd\n",
    "import matplotlib.pyplot as plt\n",
    "import seaborn as sns\n",
    "import tensorflow as tf"
   ],
   "metadata": {
    "collapsed": false,
    "ExecuteTime": {
     "end_time": "2023-08-25T19:43:09.439816Z",
     "start_time": "2023-08-25T19:43:09.434051Z"
    }
   },
   "id": "fba2365ff56434f9"
  },
  {
   "cell_type": "code",
   "execution_count": 28,
   "outputs": [],
   "source": [
    "df_train_X_1 = np.load(\"X_train_1.npz\")\n",
    "df_train_X_2 = np.load(\"X_train_2.npz\")\n",
    "df_train_X_3 = np.load(\"X_train_3.npz\")\n",
    "df_train_X_4 = np.load(\"X_train_4.npz\")"
   ],
   "metadata": {
    "collapsed": false,
    "ExecuteTime": {
     "end_time": "2023-08-25T19:43:09.772627Z",
     "start_time": "2023-08-25T19:43:09.769068Z"
    }
   },
   "id": "4bebccde60c4e0de"
  },
  {
   "cell_type": "code",
   "execution_count": 29,
   "outputs": [],
   "source": [
    "df_train_y_1 = np.load(\"y_train_1.npz\")\n",
    "df_train_y_2 = np.load(\"y_train_2.npz\")\n",
    "df_train_y_3 = np.load(\"y_train_3.npz\")\n",
    "df_train_y_4 = np.load(\"y_train_4.npz\")"
   ],
   "metadata": {
    "collapsed": false,
    "ExecuteTime": {
     "end_time": "2023-08-25T19:43:10.106437Z",
     "start_time": "2023-08-25T19:43:10.099256Z"
    }
   },
   "id": "d6cc13214575e90"
  },
  {
   "cell_type": "code",
   "execution_count": 30,
   "outputs": [],
   "source": [
    "df_test_X = np.load(\"X_test.npz\")"
   ],
   "metadata": {
    "collapsed": false,
    "ExecuteTime": {
     "end_time": "2023-08-25T19:43:10.410688Z",
     "start_time": "2023-08-25T19:43:10.405784Z"
    }
   },
   "id": "d4027d3f19a5a7c4"
  },
  {
   "cell_type": "markdown",
   "source": [
    "### Combining the training and testing datasets"
   ],
   "metadata": {
    "collapsed": false
   },
   "id": "a50779bfe32e6c12"
  },
  {
   "cell_type": "code",
   "execution_count": 31,
   "outputs": [],
   "source": [
    "X_train_1 = df_train_X_1[\"arr_0\"]\n",
    "X_train_2 = df_train_X_2[\"arr_0\"]\n",
    "X_train_3 = df_train_X_3[\"arr_0\"]\n",
    "X_train_4 = df_train_X_4[\"arr_0\"]\n",
    "\n",
    "y_train_1 = df_train_y_1[\"arr_0\"]\n",
    "y_train_2 = df_train_y_2[\"arr_0\"]\n",
    "y_train_3 = df_train_y_3[\"arr_0\"]\n",
    "y_train_4 = df_train_y_4[\"arr_0\"]\n",
    "\n",
    "X_test = df_test_X[\"arr_0\"]"
   ],
   "metadata": {
    "collapsed": false,
    "ExecuteTime": {
     "end_time": "2023-08-25T19:43:11.275764Z",
     "start_time": "2023-08-25T19:43:11.164295Z"
    }
   },
   "id": "4bb5a784cb0c1ad5"
  },
  {
   "cell_type": "code",
   "execution_count": 20,
   "outputs": [],
   "source": [
    "X_train = np.row_stack([X_train_1,X_train_2,X_train_3,X_train_4])\n",
    "y_train = np.row_stack([y_train_1,y_train_2,y_train_3,y_train_4])"
   ],
   "metadata": {
    "collapsed": false,
    "ExecuteTime": {
     "end_time": "2023-08-25T19:42:24.148527Z",
     "start_time": "2023-08-25T19:42:24.033254Z"
    }
   },
   "id": "5c94e605ceab137b"
  },
  {
   "cell_type": "code",
   "execution_count": 21,
   "outputs": [
    {
     "data": {
      "text/plain": "array([[2.0130e+03, 1.0000e+00, 1.0000e+00, ..., 0.0000e+00, 9.3366e+01,\n        1.0000e+00],\n       [2.0130e+03, 1.0000e+00, 1.0000e+00, ..., 0.0000e+00, 9.3366e+01,\n        1.0000e+00],\n       [2.0130e+03, 1.0000e+00, 1.0000e+00, ..., 0.0000e+00, 9.3366e+01,\n        1.0000e+00],\n       ...,\n       [2.0140e+03, 8.0000e+00, 1.3000e+01, ..., 1.0000e+00, 9.7570e+01,\n        0.0000e+00],\n       [2.0140e+03, 8.0000e+00, 1.3000e+01, ..., 1.0000e+00, 9.7570e+01,\n        0.0000e+00],\n       [2.0140e+03, 8.0000e+00, 1.3000e+01, ..., 1.0000e+00, 9.7570e+01,\n        0.0000e+00]])"
     },
     "execution_count": 21,
     "metadata": {},
     "output_type": "execute_result"
    }
   ],
   "source": [
    "X_train"
   ],
   "metadata": {
    "collapsed": false,
    "ExecuteTime": {
     "end_time": "2023-08-25T19:42:24.287272Z",
     "start_time": "2023-08-25T19:42:24.281327Z"
    }
   },
   "id": "da4a1f99555d3cc"
  },
  {
   "cell_type": "code",
   "execution_count": 22,
   "outputs": [
    {
     "data": {
      "text/plain": "array([[ 0.   ],\n       [ 0.   ],\n       [ 0.   ],\n       ...,\n       [10.   ],\n       [ 0.   ],\n       [69.116]])"
     },
     "execution_count": 22,
     "metadata": {},
     "output_type": "execute_result"
    }
   ],
   "source": [
    "y_train"
   ],
   "metadata": {
    "collapsed": false,
    "ExecuteTime": {
     "end_time": "2023-08-25T19:42:24.604685Z",
     "start_time": "2023-08-25T19:42:24.601290Z"
    }
   },
   "id": "974e2715e2d5f660"
  },
  {
   "cell_type": "code",
   "execution_count": 23,
   "outputs": [
    {
     "data": {
      "text/plain": "array([[2.017e+03, 8.000e+00, 1.600e+01, ..., 0.000e+00, 4.680e+01,\n        0.000e+00],\n       [2.017e+03, 8.000e+00, 1.600e+01, ..., 0.000e+00, 4.680e+01,\n        0.000e+00],\n       [2.017e+03, 8.000e+00, 1.600e+01, ..., 0.000e+00, 4.680e+01,\n        0.000e+00],\n       ...,\n       [2.017e+03, 8.000e+00, 3.100e+01, ..., 1.000e+00, 4.726e+01,\n        0.000e+00],\n       [2.017e+03, 8.000e+00, 3.100e+01, ..., 1.000e+00, 4.726e+01,\n        0.000e+00],\n       [2.017e+03, 8.000e+00, 3.100e+01, ..., 1.000e+00, 4.726e+01,\n        0.000e+00]])"
     },
     "execution_count": 23,
     "metadata": {},
     "output_type": "execute_result"
    }
   ],
   "source": [
    "X_test"
   ],
   "metadata": {
    "collapsed": false,
    "ExecuteTime": {
     "end_time": "2023-08-25T19:42:24.960847Z",
     "start_time": "2023-08-25T19:42:24.956095Z"
    }
   },
   "id": "251af7355b863965"
  },
  {
   "cell_type": "code",
   "execution_count": 24,
   "outputs": [
    {
     "name": "stdout",
     "output_type": "stream",
     "text": [
      "Number of rows in training dataset :  1048575\n",
      "Number of rows in testing dataset  :  28512\n"
     ]
    }
   ],
   "source": [
    "print(\"Number of rows in training dataset : \",len(X_train))\n",
    "print(\"Number of rows in testing dataset  : \",len(X_test))"
   ],
   "metadata": {
    "collapsed": false,
    "ExecuteTime": {
     "end_time": "2023-08-25T19:42:25.251282Z",
     "start_time": "2023-08-25T19:42:25.246988Z"
    }
   },
   "id": "e40e6e9606442700"
  },
  {
   "cell_type": "code",
   "execution_count": 25,
   "outputs": [],
   "source": [
    "model = tf.keras.models.Sequential([\n",
    "    tf.keras.layers.Dense(units=64,activation=\"relu\"),\n",
    "    tf.keras.layers.Dense(units=256,activation=\"relu\"),\n",
    "    tf.keras.layers.Dense(units=512,activation=\"relu\"),\n",
    "    tf.keras.layers.Dense(units=1,activation='softmax')\n",
    "])"
   ],
   "metadata": {
    "collapsed": false,
    "ExecuteTime": {
     "end_time": "2023-08-25T19:42:25.704283Z",
     "start_time": "2023-08-25T19:42:25.629572Z"
    }
   },
   "id": "fd67fce6bd41980b"
  },
  {
   "cell_type": "code",
   "execution_count": null,
   "outputs": [],
   "source": [
    "model.compile(optimizer=\"adam\",loss='binary_crossentropy',metrics=[\"binary_accuracy\"])\n",
    "model.fit(X_train,y_train,epochs=5,batch_size=1)"
   ],
   "metadata": {
    "collapsed": false
   },
   "id": "c23781709caa3005"
  }
 ],
 "metadata": {
  "kernelspec": {
   "display_name": "Python 3",
   "language": "python",
   "name": "python3"
  },
  "language_info": {
   "codemirror_mode": {
    "name": "ipython",
    "version": 2
   },
   "file_extension": ".py",
   "mimetype": "text/x-python",
   "name": "python",
   "nbconvert_exporter": "python",
   "pygments_lexer": "ipython2",
   "version": "2.7.6"
  }
 },
 "nbformat": 4,
 "nbformat_minor": 5
}
