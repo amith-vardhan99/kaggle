{
 "cells": [
  {
   "cell_type": "markdown",
   "source": [
    "## Deep Learning"
   ],
   "metadata": {
    "collapsed": false
   },
   "id": "ae1f3f6dcf153117"
  },
  {
   "cell_type": "markdown",
   "source": [
    "Now, we are done with both exploratory data analysis and preprocessing. Now we will go ahead with performing machine learning."
   ],
   "metadata": {
    "collapsed": false
   },
   "id": "35dbb9a99e267cf9"
  },
  {
   "cell_type": "code",
   "execution_count": null,
   "outputs": [],
   "source": [
    "import numpy as np\n",
    "import pandas as pd\n",
    "import matplotlib.pyplot as plt\n",
    "import seaborn as sns\n",
    "import tensorflow as tf"
   ],
   "metadata": {
    "collapsed": false,
    "is_executing": true
   },
   "id": "fba2365ff56434f9"
  },
  {
   "cell_type": "code",
   "execution_count": 2,
   "outputs": [],
   "source": [
    "df_train_X_1 = np.load(\"X_train_1.npz\")\n",
    "df_train_X_2 = np.load(\"X_train_2.npz\")\n",
    "df_train_X_3 = np.load(\"X_train_3.npz\")\n",
    "df_train_X_4 = np.load(\"X_train_4.npz\")"
   ],
   "metadata": {
    "collapsed": false,
    "ExecuteTime": {
     "end_time": "2023-08-25T19:28:56.533908Z",
     "start_time": "2023-08-25T19:28:56.521307Z"
    }
   },
   "id": "4bebccde60c4e0de"
  },
  {
   "cell_type": "code",
   "execution_count": 3,
   "outputs": [],
   "source": [
    "df_train_y_1 = np.load(\"y_train_1.npz\")\n",
    "df_train_y_2 = np.load(\"y_train_2.npz\")\n",
    "df_train_y_3 = np.load(\"y_train_3.npz\")\n",
    "df_train_y_4 = np.load(\"y_train_4.npz\")"
   ],
   "metadata": {
    "collapsed": false,
    "ExecuteTime": {
     "end_time": "2023-08-25T19:28:57.020935Z",
     "start_time": "2023-08-25T19:28:57.016577Z"
    }
   },
   "id": "d6cc13214575e90"
  },
  {
   "cell_type": "code",
   "execution_count": 4,
   "outputs": [],
   "source": [
    "df_test_X = np.load(\"X_test.npz\")"
   ],
   "metadata": {
    "collapsed": false,
    "ExecuteTime": {
     "end_time": "2023-08-25T19:28:57.574177Z",
     "start_time": "2023-08-25T19:28:57.568787Z"
    }
   },
   "id": "d4027d3f19a5a7c4"
  },
  {
   "cell_type": "markdown",
   "source": [
    "### Combining the training and testing datasets"
   ],
   "metadata": {
    "collapsed": false
   },
   "id": "a50779bfe32e6c12"
  },
  {
   "cell_type": "code",
   "execution_count": 5,
   "outputs": [],
   "source": [
    "X_train_1 = df_train_X_1[\"arr_0\"]\n",
    "X_train_2 = df_train_X_2[\"arr_0\"]\n",
    "X_train_3 = df_train_X_3[\"arr_0\"]\n",
    "X_train_4 = df_train_X_4[\"arr_0\"]\n",
    "\n",
    "y_train_1 = df_train_y_1[\"arr_0\"]\n",
    "y_train_2 = df_train_y_2[\"arr_0\"]\n",
    "y_train_3 = df_train_y_3[\"arr_0\"]\n",
    "y_train_4 = df_train_y_4[\"arr_0\"]\n",
    "\n",
    "X_test = df_test_X[\"arr_0\"]"
   ],
   "metadata": {
    "collapsed": false,
    "ExecuteTime": {
     "end_time": "2023-08-25T19:28:58.474462Z",
     "start_time": "2023-08-25T19:28:58.273438Z"
    }
   },
   "id": "4bb5a784cb0c1ad5"
  },
  {
   "cell_type": "code",
   "execution_count": 6,
   "outputs": [],
   "source": [
    "X_train = np.row_stack([X_train_1,X_train_2,X_train_3,X_train_4])\n",
    "y_train = np.row_stack([y_train_1,y_train_2,y_train_3,y_train_4])"
   ],
   "metadata": {
    "collapsed": false,
    "ExecuteTime": {
     "end_time": "2023-08-25T19:28:58.707373Z",
     "start_time": "2023-08-25T19:28:58.645796Z"
    }
   },
   "id": "5c94e605ceab137b"
  },
  {
   "cell_type": "code",
   "execution_count": 7,
   "outputs": [
    {
     "data": {
      "text/plain": "array([[2.0130e+03, 1.0000e+00, 1.0000e+00, ..., 0.0000e+00, 9.3366e+01,\n        1.0000e+00],\n       [2.0130e+03, 1.0000e+00, 1.0000e+00, ..., 0.0000e+00, 9.3366e+01,\n        1.0000e+00],\n       [2.0130e+03, 1.0000e+00, 1.0000e+00, ..., 0.0000e+00, 9.3366e+01,\n        1.0000e+00],\n       ...,\n       [2.0140e+03, 8.0000e+00, 1.3000e+01, ..., 1.0000e+00, 9.7570e+01,\n        0.0000e+00],\n       [2.0140e+03, 8.0000e+00, 1.3000e+01, ..., 1.0000e+00, 9.7570e+01,\n        0.0000e+00],\n       [2.0140e+03, 8.0000e+00, 1.3000e+01, ..., 1.0000e+00, 9.7570e+01,\n        0.0000e+00]])"
     },
     "execution_count": 7,
     "metadata": {},
     "output_type": "execute_result"
    }
   ],
   "source": [
    "X_train"
   ],
   "metadata": {
    "collapsed": false,
    "ExecuteTime": {
     "end_time": "2023-08-25T19:28:59.040730Z",
     "start_time": "2023-08-25T19:28:59.034932Z"
    }
   },
   "id": "da4a1f99555d3cc"
  },
  {
   "cell_type": "code",
   "execution_count": 8,
   "outputs": [
    {
     "data": {
      "text/plain": "array([[ 0.   ],\n       [ 0.   ],\n       [ 0.   ],\n       ...,\n       [10.   ],\n       [ 0.   ],\n       [69.116]])"
     },
     "execution_count": 8,
     "metadata": {},
     "output_type": "execute_result"
    }
   ],
   "source": [
    "y_train"
   ],
   "metadata": {
    "collapsed": false,
    "ExecuteTime": {
     "end_time": "2023-08-25T19:28:59.540901Z",
     "start_time": "2023-08-25T19:28:59.533766Z"
    }
   },
   "id": "974e2715e2d5f660"
  },
  {
   "cell_type": "code",
   "execution_count": 9,
   "outputs": [
    {
     "data": {
      "text/plain": "array([[2.017e+03, 8.000e+00, 1.600e+01, ..., 0.000e+00, 4.680e+01,\n        0.000e+00],\n       [2.017e+03, 8.000e+00, 1.600e+01, ..., 0.000e+00, 4.680e+01,\n        0.000e+00],\n       [2.017e+03, 8.000e+00, 1.600e+01, ..., 0.000e+00, 4.680e+01,\n        0.000e+00],\n       ...,\n       [2.017e+03, 8.000e+00, 3.100e+01, ..., 1.000e+00, 4.726e+01,\n        0.000e+00],\n       [2.017e+03, 8.000e+00, 3.100e+01, ..., 1.000e+00, 4.726e+01,\n        0.000e+00],\n       [2.017e+03, 8.000e+00, 3.100e+01, ..., 1.000e+00, 4.726e+01,\n        0.000e+00]])"
     },
     "execution_count": 9,
     "metadata": {},
     "output_type": "execute_result"
    }
   ],
   "source": [
    "X_test"
   ],
   "metadata": {
    "collapsed": false,
    "ExecuteTime": {
     "end_time": "2023-08-25T19:29:00.054473Z",
     "start_time": "2023-08-25T19:29:00.037429Z"
    }
   },
   "id": "251af7355b863965"
  },
  {
   "cell_type": "code",
   "execution_count": 10,
   "outputs": [
    {
     "name": "stdout",
     "output_type": "stream",
     "text": [
      "Number of rows in training dataset :  1048575\n",
      "Number of rows in testing dataset  :  28512\n"
     ]
    }
   ],
   "source": [
    "print(\"Number of rows in training dataset : \",len(X_train))\n",
    "print(\"Number of rows in testing dataset  : \",len(X_test))"
   ],
   "metadata": {
    "collapsed": false,
    "ExecuteTime": {
     "end_time": "2023-08-25T19:29:00.433719Z",
     "start_time": "2023-08-25T19:29:00.423885Z"
    }
   },
   "id": "e40e6e9606442700"
  },
  {
   "cell_type": "code",
   "execution_count": 11,
   "outputs": [],
   "source": [
    "model = tf.keras.models.Sequential([\n",
    "    tf.keras.layers.Dense(units=64,activation=\"relu\"),\n",
    "    tf.keras.layers.Dense(units=256,activation=\"relu\"),\n",
    "    tf.keras.layers.Dense(units=512,activation=\"relu\"),\n",
    "    tf.keras.layers.Dense(units=1,activation='softmax')\n",
    "])"
   ],
   "metadata": {
    "collapsed": false,
    "ExecuteTime": {
     "end_time": "2023-08-25T19:29:00.927032Z",
     "start_time": "2023-08-25T19:29:00.869815Z"
    }
   },
   "id": "fd67fce6bd41980b"
  },
  {
   "cell_type": "code",
   "execution_count": null,
   "outputs": [],
   "source": [
    "model.compile(optimizer=\"adam\",loss='binary_crossentropy',metrics=[\"binary_accuracy\"])\n",
    "model.fit(X_train,y_train,epochs=5,batch_size=1)"
   ],
   "metadata": {
    "collapsed": false
   },
   "id": "36f3e8f6403fc766"
  }
 ],
 "metadata": {
  "kernelspec": {
   "display_name": "Python 3",
   "language": "python",
   "name": "python3"
  },
  "language_info": {
   "codemirror_mode": {
    "name": "ipython",
    "version": 2
   },
   "file_extension": ".py",
   "mimetype": "text/x-python",
   "name": "python",
   "nbconvert_exporter": "python",
   "pygments_lexer": "ipython2",
   "version": "2.7.6"
  }
 },
 "nbformat": 4,
 "nbformat_minor": 5
}
