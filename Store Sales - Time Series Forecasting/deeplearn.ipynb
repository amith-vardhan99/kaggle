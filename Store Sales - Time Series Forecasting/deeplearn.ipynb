{
 "cells": [
  {
   "cell_type": "markdown",
   "source": [
    "## Deep Learning"
   ],
   "metadata": {
    "collapsed": false
   },
   "id": "ae1f3f6dcf153117"
  },
  {
   "cell_type": "markdown",
   "source": [
    "Now, we are done with both exploratory data analysis and preprocessing. Now we will go ahead with performing machine learning."
   ],
   "metadata": {
    "collapsed": false
   },
   "id": "35dbb9a99e267cf9"
  },
  {
   "cell_type": "code",
   "execution_count": 1,
   "outputs": [],
   "source": [
    "import numpy as np\n",
    "import pandas as pd\n",
    "import matplotlib.pyplot as plt\n",
    "import seaborn as sns\n",
    "import tensorflow as tf"
   ],
   "metadata": {
    "collapsed": false,
    "ExecuteTime": {
     "end_time": "2023-08-25T01:40:16.754471Z",
     "start_time": "2023-08-25T01:40:11.670950Z"
    }
   },
   "id": "fba2365ff56434f9"
  },
  {
   "cell_type": "code",
   "execution_count": null,
   "outputs": [],
   "source": [],
   "metadata": {
    "collapsed": false
   },
   "id": "4bebccde60c4e0de"
  }
 ],
 "metadata": {
  "kernelspec": {
   "display_name": "Python 3",
   "language": "python",
   "name": "python3"
  },
  "language_info": {
   "codemirror_mode": {
    "name": "ipython",
    "version": 2
   },
   "file_extension": ".py",
   "mimetype": "text/x-python",
   "name": "python",
   "nbconvert_exporter": "python",
   "pygments_lexer": "ipython2",
   "version": "2.7.6"
  }
 },
 "nbformat": 4,
 "nbformat_minor": 5
}
