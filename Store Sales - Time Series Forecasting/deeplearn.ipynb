{
 "cells": [
  {
   "cell_type": "markdown",
   "source": [
    "## Deep Learning"
   ],
   "metadata": {
    "collapsed": false
   },
   "id": "ae1f3f6dcf153117"
  },
  {
   "cell_type": "markdown",
   "source": [
    "Now, we are done with both exploratory data analysis and preprocessing. Now we will go ahead with performing machine learning."
   ],
   "metadata": {
    "collapsed": false
   },
   "id": "35dbb9a99e267cf9"
  },
  {
   "cell_type": "code",
   "execution_count": 72,
   "outputs": [],
   "source": [
    "import numpy as np\n",
    "import pandas as pd\n",
    "import matplotlib.pyplot as plt\n",
    "import seaborn as sns\n",
    "import tensorflow as tf"
   ],
   "metadata": {
    "collapsed": false,
    "ExecuteTime": {
     "end_time": "2023-08-25T16:46:55.131119Z",
     "start_time": "2023-08-25T16:46:55.130270Z"
    }
   },
   "id": "fba2365ff56434f9"
  },
  {
   "cell_type": "code",
   "execution_count": 73,
   "outputs": [],
   "source": [
    "df_train_X_1 = np.load(\"X_train_1.npz\")\n",
    "df_train_X_2 = np.load(\"X_train_2.npz\")\n",
    "df_train_X_3 = np.load(\"X_train_3.npz\")\n",
    "df_train_X_4 = np.load(\"X_train_4.npz\")"
   ],
   "metadata": {
    "collapsed": false,
    "ExecuteTime": {
     "end_time": "2023-08-25T16:46:55.758296Z",
     "start_time": "2023-08-25T16:46:55.753112Z"
    }
   },
   "id": "4bebccde60c4e0de"
  },
  {
   "cell_type": "code",
   "execution_count": 74,
   "outputs": [],
   "source": [
    "df_train_y_1 = np.load(\"y_train_1.npz\")\n",
    "df_train_y_2 = np.load(\"y_train_2.npz\")\n",
    "df_train_y_3 = np.load(\"y_train_3.npz\")\n",
    "df_train_y_4 = np.load(\"y_train_4.npz\")"
   ],
   "metadata": {
    "collapsed": false,
    "ExecuteTime": {
     "end_time": "2023-08-25T16:46:56.308951Z",
     "start_time": "2023-08-25T16:46:56.305548Z"
    }
   },
   "id": "d6cc13214575e90"
  },
  {
   "cell_type": "code",
   "execution_count": 75,
   "outputs": [],
   "source": [
    "df_test_X = np.load(\"X_test.npz\")"
   ],
   "metadata": {
    "collapsed": false,
    "ExecuteTime": {
     "end_time": "2023-08-25T16:46:56.982831Z",
     "start_time": "2023-08-25T16:46:56.978513Z"
    }
   },
   "id": "d4027d3f19a5a7c4"
  },
  {
   "cell_type": "markdown",
   "source": [
    "### Checking the training and testing datasets"
   ],
   "metadata": {
    "collapsed": false
   },
   "id": "a50779bfe32e6c12"
  },
  {
   "cell_type": "code",
   "execution_count": 76,
   "outputs": [
    {
     "data": {
      "text/plain": "array([[2.0130e+03, 1.0000e+00, 1.0000e+00, ..., 0.0000e+00, 9.3366e+01,\n        1.0000e+00],\n       [2.0130e+03, 1.0000e+00, 1.0000e+00, ..., 0.0000e+00, 9.3366e+01,\n        1.0000e+00],\n       [2.0130e+03, 1.0000e+00, 1.0000e+00, ..., 0.0000e+00, 9.3366e+01,\n        1.0000e+00],\n       ...,\n       [2.0130e+03, 5.0000e+00, 2.8000e+01, ..., 0.0000e+00, 9.4650e+01,\n        0.0000e+00],\n       [2.0130e+03, 5.0000e+00, 2.8000e+01, ..., 0.0000e+00, 9.4650e+01,\n        0.0000e+00],\n       [2.0130e+03, 5.0000e+00, 2.8000e+01, ..., 0.0000e+00, 9.4650e+01,\n        0.0000e+00]])"
     },
     "execution_count": 76,
     "metadata": {},
     "output_type": "execute_result"
    }
   ],
   "source": [
    "X_train_1 = df_train_X_1[\"arr_0\"]\n",
    "X_train_1"
   ],
   "metadata": {
    "collapsed": false,
    "ExecuteTime": {
     "end_time": "2023-08-25T16:46:57.877073Z",
     "start_time": "2023-08-25T16:46:57.836707Z"
    }
   },
   "id": "4bb5a784cb0c1ad5"
  },
  {
   "cell_type": "code",
   "execution_count": 44,
   "outputs": [
    {
     "data": {
      "text/plain": "array([[2013.  ,    5.  ,   28.  , ...,    0.  ,   94.65,    0.  ],\n       [2013.  ,    5.  ,   28.  , ...,    0.  ,   94.65,    0.  ],\n       [2013.  ,    5.  ,   28.  , ...,    0.  ,   94.65,    0.  ],\n       ...,\n       [2013.  ,   10.  ,   22.  , ...,    0.  ,   97.63,    0.  ],\n       [2013.  ,   10.  ,   22.  , ...,    0.  ,   97.63,    0.  ],\n       [2013.  ,   10.  ,   22.  , ...,    0.  ,   97.63,    0.  ]])"
     },
     "execution_count": 44,
     "metadata": {},
     "output_type": "execute_result"
    }
   ],
   "source": [
    "X_train_2 = df_train_X_2[\"arr_0\"]\n",
    "X_train_2"
   ],
   "metadata": {
    "collapsed": false,
    "ExecuteTime": {
     "end_time": "2023-08-25T16:33:40.705140Z",
     "start_time": "2023-08-25T16:33:40.634817Z"
    }
   },
   "id": "7f3d84f88859726c"
  },
  {
   "cell_type": "code",
   "execution_count": 45,
   "outputs": [
    {
     "data": {
      "text/plain": "array([[2013.  ,   10.  ,   22.  , ...,    0.  ,   97.63,    0.  ],\n       [2013.  ,   10.  ,   22.  , ...,    0.  ,   97.63,    0.  ],\n       [2013.  ,   10.  ,   22.  , ...,    0.  ,   97.63,    0.  ],\n       ...,\n       [2014.  ,    3.  ,   19.  , ...,    0.  ,  100.71,    0.  ],\n       [2014.  ,    3.  ,   19.  , ...,    0.  ,  100.71,    0.  ],\n       [2014.  ,    3.  ,   19.  , ...,    0.  ,  100.71,    0.  ]])"
     },
     "execution_count": 45,
     "metadata": {},
     "output_type": "execute_result"
    }
   ],
   "source": [
    "X_train_3 = df_train_X_3[\"arr_0\"]\n",
    "X_train_3"
   ],
   "metadata": {
    "collapsed": false,
    "ExecuteTime": {
     "end_time": "2023-08-25T16:33:47.087761Z",
     "start_time": "2023-08-25T16:33:47.037432Z"
    }
   },
   "id": "ab92bd17ce7ffeb3"
  },
  {
   "cell_type": "code",
   "execution_count": 46,
   "outputs": [
    {
     "data": {
      "text/plain": "array([[2.0140e+03, 3.0000e+00, 1.9000e+01, ..., 0.0000e+00, 1.0071e+02,\n        0.0000e+00],\n       [2.0140e+03, 3.0000e+00, 1.9000e+01, ..., 0.0000e+00, 1.0071e+02,\n        0.0000e+00],\n       [2.0140e+03, 3.0000e+00, 1.9000e+01, ..., 0.0000e+00, 1.0071e+02,\n        0.0000e+00],\n       ...,\n       [2.0140e+03, 8.0000e+00, 1.3000e+01, ..., 1.0000e+00, 9.7570e+01,\n        0.0000e+00],\n       [2.0140e+03, 8.0000e+00, 1.3000e+01, ..., 1.0000e+00, 9.7570e+01,\n        0.0000e+00],\n       [2.0140e+03, 8.0000e+00, 1.3000e+01, ..., 1.0000e+00, 9.7570e+01,\n        0.0000e+00]])"
     },
     "execution_count": 46,
     "metadata": {},
     "output_type": "execute_result"
    }
   ],
   "source": [
    "X_train_4 = df_train_X_4[\"arr_0\"]\n",
    "X_train_4"
   ],
   "metadata": {
    "collapsed": false,
    "ExecuteTime": {
     "end_time": "2023-08-25T16:33:53.500777Z",
     "start_time": "2023-08-25T16:33:53.454153Z"
    }
   },
   "id": "290b14e264dcf34f"
  },
  {
   "cell_type": "code",
   "execution_count": 68,
   "outputs": [],
   "source": [
    "X_train = np.row_stack([X_train_1,X_train_2,X_train_3,X_train_4])"
   ],
   "metadata": {
    "collapsed": false,
    "ExecuteTime": {
     "end_time": "2023-08-25T16:39:52.874693Z",
     "start_time": "2023-08-25T16:39:52.698881Z"
    }
   },
   "id": "5c94e605ceab137b"
  },
  {
   "cell_type": "code",
   "execution_count": 71,
   "outputs": [
    {
     "data": {
      "text/plain": "array([[ 0.        ,  0.        , -1.62697843, ..., -0.96362411,\n        -0.6790212 , -0.25819889],\n       [ 0.        ,  0.        , -1.62697843, ..., -0.96362411,\n        -0.6790212 , -0.25819889],\n       [ 0.        ,  0.        , -1.62697843, ..., -0.96362411,\n        -0.6790212 , -0.25819889],\n       ...,\n       [ 0.        ,  0.        ,  1.62697843, ...,  1.03774904,\n         0.02552711, -0.25819889],\n       [ 0.        ,  0.        ,  1.62697843, ...,  1.03774904,\n         0.02552711, -0.25819889],\n       [ 0.        ,  0.        ,  1.62697843, ...,  1.03774904,\n         0.02552711, -0.25819889]])"
     },
     "execution_count": 71,
     "metadata": {},
     "output_type": "execute_result"
    }
   ],
   "source": [
    "X_test = df_test_X[\"arr_0\"]\n",
    "X_test"
   ],
   "metadata": {
    "collapsed": false,
    "ExecuteTime": {
     "end_time": "2023-08-25T16:44:26.189757Z",
     "start_time": "2023-08-25T16:44:26.166074Z"
    }
   },
   "id": "64b96383fc388a49"
  },
  {
   "cell_type": "code",
   "execution_count": 70,
   "outputs": [
    {
     "data": {
      "text/plain": "array([[310.173],\n       [227.   ],\n       [  0.   ],\n       ...,\n       [ 22.   ],\n       [  0.   ],\n       [  0.   ]])"
     },
     "execution_count": 70,
     "metadata": {},
     "output_type": "execute_result"
    }
   ],
   "source": [
    "y_train_2 = df_train_y_2[\"arr_0\"]\n",
    "y_train_2"
   ],
   "metadata": {
    "collapsed": false,
    "ExecuteTime": {
     "end_time": "2023-08-25T16:40:40.458591Z",
     "start_time": "2023-08-25T16:40:40.439769Z"
    }
   },
   "id": "1e4b74ad078401ec"
  },
  {
   "cell_type": "code",
   "execution_count": null,
   "outputs": [],
   "source": [],
   "metadata": {
    "collapsed": false
   },
   "id": "da4a1f99555d3cc"
  }
 ],
 "metadata": {
  "kernelspec": {
   "display_name": "Python 3",
   "language": "python",
   "name": "python3"
  },
  "language_info": {
   "codemirror_mode": {
    "name": "ipython",
    "version": 2
   },
   "file_extension": ".py",
   "mimetype": "text/x-python",
   "name": "python",
   "nbconvert_exporter": "python",
   "pygments_lexer": "ipython2",
   "version": "2.7.6"
  }
 },
 "nbformat": 4,
 "nbformat_minor": 5
}
