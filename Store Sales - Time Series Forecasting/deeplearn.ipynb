{
 "cells": [
  {
   "cell_type": "markdown",
   "source": [
    "## Deep Learning"
   ],
   "metadata": {
    "collapsed": false
   },
   "id": "ae1f3f6dcf153117"
  },
  {
   "cell_type": "markdown",
   "source": [
    "We have seen that machine learning using sci-kit learn is taking a lot of time. Hence, we shall go for deep learning using tensorflow."
   ],
   "metadata": {
    "collapsed": false
   },
   "id": "35dbb9a99e267cf9"
  },
  {
   "cell_type": "code",
   "execution_count": 1,
   "outputs": [],
   "source": [
    "import numpy as np\n",
    "import pandas as pd\n",
    "import matplotlib.pyplot as plt\n",
    "import seaborn as sns\n",
    "import tensorflow as tf\n",
    "from sklearn.preprocessing import *"
   ],
   "metadata": {
    "collapsed": false,
    "ExecuteTime": {
     "end_time": "2023-08-26T00:43:19.573039Z",
     "start_time": "2023-08-26T00:43:15.437286Z"
    }
   },
   "id": "fba2365ff56434f9"
  },
  {
   "cell_type": "code",
   "execution_count": 2,
   "outputs": [],
   "source": [
    "df_X = pd.read_csv(\"train_X_preprocessed.csv\")\n",
    "df_y = pd.read_csv(\"train_y_preprocessed.csv\")\n",
    "df_test = pd.read_csv(\"test_preprocessed.csv\")"
   ],
   "metadata": {
    "collapsed": false,
    "ExecuteTime": {
     "end_time": "2023-08-26T00:43:25.064568Z",
     "start_time": "2023-08-26T00:43:24.246560Z"
    }
   },
   "id": "4bebccde60c4e0de"
  },
  {
   "cell_type": "code",
   "execution_count": 3,
   "outputs": [
    {
     "data": {
      "text/plain": "   date_year  date_month  date_day  store_nbr_0  store_nbr_1  store_nbr_2  \\\n0       2013           1         1            0            0            0   \n1       2013           1         1            0            0            0   \n2       2013           1         1            0            0            0   \n3       2013           1         1            0            0            0   \n4       2013           1         1            0            0            0   \n\n   store_nbr_3  store_nbr_4  store_nbr_5  family_0  ...  type_0  type_1  \\\n0            0            0            0         0  ...       0       1   \n1            0            0            0         0  ...       0       1   \n2            0            0            0         0  ...       0       1   \n3            0            0            0         0  ...       0       1   \n4            0            0            0         0  ...       0       1   \n\n   type_2  cluster_0  cluster_1  cluster_2  cluster_3  cluster_4  dcoilwtico  \\\n0       1          0          1          1          0          0      93.366   \n1       1          0          1          1          0          0      93.366   \n2       1          0          1          1          0          0      93.366   \n3       1          0          1          1          0          0      93.366   \n4       1          0          1          1          0          0      93.366   \n\n   holiday?  \n0       1.0  \n1       1.0  \n2       1.0  \n3       1.0  \n4       1.0  \n\n[5 rows x 35 columns]",
      "text/html": "<div>\n<style scoped>\n    .dataframe tbody tr th:only-of-type {\n        vertical-align: middle;\n    }\n\n    .dataframe tbody tr th {\n        vertical-align: top;\n    }\n\n    .dataframe thead th {\n        text-align: right;\n    }\n</style>\n<table border=\"1\" class=\"dataframe\">\n  <thead>\n    <tr style=\"text-align: right;\">\n      <th></th>\n      <th>date_year</th>\n      <th>date_month</th>\n      <th>date_day</th>\n      <th>store_nbr_0</th>\n      <th>store_nbr_1</th>\n      <th>store_nbr_2</th>\n      <th>store_nbr_3</th>\n      <th>store_nbr_4</th>\n      <th>store_nbr_5</th>\n      <th>family_0</th>\n      <th>...</th>\n      <th>type_0</th>\n      <th>type_1</th>\n      <th>type_2</th>\n      <th>cluster_0</th>\n      <th>cluster_1</th>\n      <th>cluster_2</th>\n      <th>cluster_3</th>\n      <th>cluster_4</th>\n      <th>dcoilwtico</th>\n      <th>holiday?</th>\n    </tr>\n  </thead>\n  <tbody>\n    <tr>\n      <th>0</th>\n      <td>2013</td>\n      <td>1</td>\n      <td>1</td>\n      <td>0</td>\n      <td>0</td>\n      <td>0</td>\n      <td>0</td>\n      <td>0</td>\n      <td>0</td>\n      <td>0</td>\n      <td>...</td>\n      <td>0</td>\n      <td>1</td>\n      <td>1</td>\n      <td>0</td>\n      <td>1</td>\n      <td>1</td>\n      <td>0</td>\n      <td>0</td>\n      <td>93.366</td>\n      <td>1.0</td>\n    </tr>\n    <tr>\n      <th>1</th>\n      <td>2013</td>\n      <td>1</td>\n      <td>1</td>\n      <td>0</td>\n      <td>0</td>\n      <td>0</td>\n      <td>0</td>\n      <td>0</td>\n      <td>0</td>\n      <td>0</td>\n      <td>...</td>\n      <td>0</td>\n      <td>1</td>\n      <td>1</td>\n      <td>0</td>\n      <td>1</td>\n      <td>1</td>\n      <td>0</td>\n      <td>0</td>\n      <td>93.366</td>\n      <td>1.0</td>\n    </tr>\n    <tr>\n      <th>2</th>\n      <td>2013</td>\n      <td>1</td>\n      <td>1</td>\n      <td>0</td>\n      <td>0</td>\n      <td>0</td>\n      <td>0</td>\n      <td>0</td>\n      <td>0</td>\n      <td>0</td>\n      <td>...</td>\n      <td>0</td>\n      <td>1</td>\n      <td>1</td>\n      <td>0</td>\n      <td>1</td>\n      <td>1</td>\n      <td>0</td>\n      <td>0</td>\n      <td>93.366</td>\n      <td>1.0</td>\n    </tr>\n    <tr>\n      <th>3</th>\n      <td>2013</td>\n      <td>1</td>\n      <td>1</td>\n      <td>0</td>\n      <td>0</td>\n      <td>0</td>\n      <td>0</td>\n      <td>0</td>\n      <td>0</td>\n      <td>0</td>\n      <td>...</td>\n      <td>0</td>\n      <td>1</td>\n      <td>1</td>\n      <td>0</td>\n      <td>1</td>\n      <td>1</td>\n      <td>0</td>\n      <td>0</td>\n      <td>93.366</td>\n      <td>1.0</td>\n    </tr>\n    <tr>\n      <th>4</th>\n      <td>2013</td>\n      <td>1</td>\n      <td>1</td>\n      <td>0</td>\n      <td>0</td>\n      <td>0</td>\n      <td>0</td>\n      <td>0</td>\n      <td>0</td>\n      <td>0</td>\n      <td>...</td>\n      <td>0</td>\n      <td>1</td>\n      <td>1</td>\n      <td>0</td>\n      <td>1</td>\n      <td>1</td>\n      <td>0</td>\n      <td>0</td>\n      <td>93.366</td>\n      <td>1.0</td>\n    </tr>\n  </tbody>\n</table>\n<p>5 rows × 35 columns</p>\n</div>"
     },
     "execution_count": 3,
     "metadata": {},
     "output_type": "execute_result"
    }
   ],
   "source": [
    "df_X.head()"
   ],
   "metadata": {
    "collapsed": false,
    "ExecuteTime": {
     "end_time": "2023-08-26T00:43:25.098728Z",
     "start_time": "2023-08-26T00:43:25.068041Z"
    }
   },
   "id": "ba429a236eb08802"
  },
  {
   "cell_type": "code",
   "execution_count": 4,
   "outputs": [
    {
     "data": {
      "text/plain": "   sales\n0    0.0\n1    0.0\n2    0.0\n3    0.0\n4    0.0",
      "text/html": "<div>\n<style scoped>\n    .dataframe tbody tr th:only-of-type {\n        vertical-align: middle;\n    }\n\n    .dataframe tbody tr th {\n        vertical-align: top;\n    }\n\n    .dataframe thead th {\n        text-align: right;\n    }\n</style>\n<table border=\"1\" class=\"dataframe\">\n  <thead>\n    <tr style=\"text-align: right;\">\n      <th></th>\n      <th>sales</th>\n    </tr>\n  </thead>\n  <tbody>\n    <tr>\n      <th>0</th>\n      <td>0.0</td>\n    </tr>\n    <tr>\n      <th>1</th>\n      <td>0.0</td>\n    </tr>\n    <tr>\n      <th>2</th>\n      <td>0.0</td>\n    </tr>\n    <tr>\n      <th>3</th>\n      <td>0.0</td>\n    </tr>\n    <tr>\n      <th>4</th>\n      <td>0.0</td>\n    </tr>\n  </tbody>\n</table>\n</div>"
     },
     "execution_count": 4,
     "metadata": {},
     "output_type": "execute_result"
    }
   ],
   "source": [
    "df_y.head()"
   ],
   "metadata": {
    "collapsed": false,
    "ExecuteTime": {
     "end_time": "2023-08-26T00:43:25.539814Z",
     "start_time": "2023-08-26T00:43:25.502777Z"
    }
   },
   "id": "e4ed0581075a9fb0"
  },
  {
   "cell_type": "code",
   "execution_count": 5,
   "outputs": [
    {
     "data": {
      "text/plain": "   date_year  date_month  date_day  store_nbr_0  store_nbr_1  store_nbr_2  \\\n0       2017           8        16            0            0            0   \n1       2017           8        16            0            0            0   \n2       2017           8        16            0            0            0   \n3       2017           8        16            0            0            0   \n4       2017           8        16            0            0            0   \n\n   store_nbr_3  store_nbr_4  store_nbr_5  family_0  ...  type_0  type_1  \\\n0            0            0            0         0  ...       0       1   \n1            0            0            0         0  ...       0       1   \n2            0            0            0         0  ...       0       1   \n3            0            0            0         0  ...       0       1   \n4            0            0            0         0  ...       0       1   \n\n   type_2  cluster_0  cluster_1  cluster_2  cluster_3  cluster_4  dcoilwtico  \\\n0       1          0          1          1          0          0        46.8   \n1       1          0          1          1          0          0        46.8   \n2       1          0          1          1          0          0        46.8   \n3       1          0          1          1          0          0        46.8   \n4       1          0          1          1          0          0        46.8   \n\n   holiday?  \n0       0.0  \n1       0.0  \n2       0.0  \n3       0.0  \n4       0.0  \n\n[5 rows x 35 columns]",
      "text/html": "<div>\n<style scoped>\n    .dataframe tbody tr th:only-of-type {\n        vertical-align: middle;\n    }\n\n    .dataframe tbody tr th {\n        vertical-align: top;\n    }\n\n    .dataframe thead th {\n        text-align: right;\n    }\n</style>\n<table border=\"1\" class=\"dataframe\">\n  <thead>\n    <tr style=\"text-align: right;\">\n      <th></th>\n      <th>date_year</th>\n      <th>date_month</th>\n      <th>date_day</th>\n      <th>store_nbr_0</th>\n      <th>store_nbr_1</th>\n      <th>store_nbr_2</th>\n      <th>store_nbr_3</th>\n      <th>store_nbr_4</th>\n      <th>store_nbr_5</th>\n      <th>family_0</th>\n      <th>...</th>\n      <th>type_0</th>\n      <th>type_1</th>\n      <th>type_2</th>\n      <th>cluster_0</th>\n      <th>cluster_1</th>\n      <th>cluster_2</th>\n      <th>cluster_3</th>\n      <th>cluster_4</th>\n      <th>dcoilwtico</th>\n      <th>holiday?</th>\n    </tr>\n  </thead>\n  <tbody>\n    <tr>\n      <th>0</th>\n      <td>2017</td>\n      <td>8</td>\n      <td>16</td>\n      <td>0</td>\n      <td>0</td>\n      <td>0</td>\n      <td>0</td>\n      <td>0</td>\n      <td>0</td>\n      <td>0</td>\n      <td>...</td>\n      <td>0</td>\n      <td>1</td>\n      <td>1</td>\n      <td>0</td>\n      <td>1</td>\n      <td>1</td>\n      <td>0</td>\n      <td>0</td>\n      <td>46.8</td>\n      <td>0.0</td>\n    </tr>\n    <tr>\n      <th>1</th>\n      <td>2017</td>\n      <td>8</td>\n      <td>16</td>\n      <td>0</td>\n      <td>0</td>\n      <td>0</td>\n      <td>0</td>\n      <td>0</td>\n      <td>0</td>\n      <td>0</td>\n      <td>...</td>\n      <td>0</td>\n      <td>1</td>\n      <td>1</td>\n      <td>0</td>\n      <td>1</td>\n      <td>1</td>\n      <td>0</td>\n      <td>0</td>\n      <td>46.8</td>\n      <td>0.0</td>\n    </tr>\n    <tr>\n      <th>2</th>\n      <td>2017</td>\n      <td>8</td>\n      <td>16</td>\n      <td>0</td>\n      <td>0</td>\n      <td>0</td>\n      <td>0</td>\n      <td>0</td>\n      <td>0</td>\n      <td>0</td>\n      <td>...</td>\n      <td>0</td>\n      <td>1</td>\n      <td>1</td>\n      <td>0</td>\n      <td>1</td>\n      <td>1</td>\n      <td>0</td>\n      <td>0</td>\n      <td>46.8</td>\n      <td>0.0</td>\n    </tr>\n    <tr>\n      <th>3</th>\n      <td>2017</td>\n      <td>8</td>\n      <td>16</td>\n      <td>0</td>\n      <td>0</td>\n      <td>0</td>\n      <td>0</td>\n      <td>0</td>\n      <td>0</td>\n      <td>0</td>\n      <td>...</td>\n      <td>0</td>\n      <td>1</td>\n      <td>1</td>\n      <td>0</td>\n      <td>1</td>\n      <td>1</td>\n      <td>0</td>\n      <td>0</td>\n      <td>46.8</td>\n      <td>0.0</td>\n    </tr>\n    <tr>\n      <th>4</th>\n      <td>2017</td>\n      <td>8</td>\n      <td>16</td>\n      <td>0</td>\n      <td>0</td>\n      <td>0</td>\n      <td>0</td>\n      <td>0</td>\n      <td>0</td>\n      <td>0</td>\n      <td>...</td>\n      <td>0</td>\n      <td>1</td>\n      <td>1</td>\n      <td>0</td>\n      <td>1</td>\n      <td>1</td>\n      <td>0</td>\n      <td>0</td>\n      <td>46.8</td>\n      <td>0.0</td>\n    </tr>\n  </tbody>\n</table>\n<p>5 rows × 35 columns</p>\n</div>"
     },
     "execution_count": 5,
     "metadata": {},
     "output_type": "execute_result"
    }
   ],
   "source": [
    "df_test.head()"
   ],
   "metadata": {
    "collapsed": false,
    "ExecuteTime": {
     "end_time": "2023-08-26T00:43:26.035608Z",
     "start_time": "2023-08-26T00:43:26.029246Z"
    }
   },
   "id": "274b3b84187a170a"
  },
  {
   "cell_type": "code",
   "execution_count": 6,
   "outputs": [
    {
     "name": "stdout",
     "output_type": "stream",
     "text": [
      "Number of rows in X_train :  1048575\n",
      "Number of rows in y_train :  1048575\n",
      "Number of rows in X_test  :  28512\n"
     ]
    }
   ],
   "source": [
    "print(\"Number of rows in X_train : \",len(df_X))\n",
    "print(\"Number of rows in y_train : \",len(df_y))\n",
    "print(\"Number of rows in X_test  : \",len(df_test))"
   ],
   "metadata": {
    "collapsed": false,
    "ExecuteTime": {
     "end_time": "2023-08-26T00:43:26.364675Z",
     "start_time": "2023-08-26T00:43:26.339972Z"
    }
   },
   "id": "2d72664e0d854da5"
  },
  {
   "cell_type": "code",
   "execution_count": 7,
   "outputs": [
    {
     "data": {
      "text/plain": "date_year        int64\ndate_month       int64\ndate_day         int64\nstore_nbr_0      int64\nstore_nbr_1      int64\nstore_nbr_2      int64\nstore_nbr_3      int64\nstore_nbr_4      int64\nstore_nbr_5      int64\nfamily_0         int64\nfamily_1         int64\nfamily_2         int64\nfamily_3         int64\nfamily_4         int64\nfamily_5         int64\nonpromotion      int64\ncity_0           int64\ncity_1           int64\ncity_2           int64\ncity_3           int64\ncity_4           int64\nstate_0          int64\nstate_1          int64\nstate_2          int64\nstate_3          int64\ntype_0           int64\ntype_1           int64\ntype_2           int64\ncluster_0        int64\ncluster_1        int64\ncluster_2        int64\ncluster_3        int64\ncluster_4        int64\ndcoilwtico     float64\nholiday?       float64\ndtype: object"
     },
     "execution_count": 7,
     "metadata": {},
     "output_type": "execute_result"
    }
   ],
   "source": [
    "df_X.dtypes"
   ],
   "metadata": {
    "collapsed": false,
    "ExecuteTime": {
     "end_time": "2023-08-26T00:43:26.826898Z",
     "start_time": "2023-08-26T00:43:26.822393Z"
    }
   },
   "id": "f7afba0c7f81f10b"
  },
  {
   "cell_type": "code",
   "execution_count": 8,
   "outputs": [
    {
     "data": {
      "text/plain": "date_year        int64\ndate_month       int64\ndate_day         int64\nstore_nbr_0      int64\nstore_nbr_1      int64\nstore_nbr_2      int64\nstore_nbr_3      int64\nstore_nbr_4      int64\nstore_nbr_5      int64\nfamily_0         int64\nfamily_1         int64\nfamily_2         int64\nfamily_3         int64\nfamily_4         int64\nfamily_5         int64\nonpromotion      int64\ncity_0           int64\ncity_1           int64\ncity_2           int64\ncity_3           int64\ncity_4           int64\nstate_0          int64\nstate_1          int64\nstate_2          int64\nstate_3          int64\ntype_0           int64\ntype_1           int64\ntype_2           int64\ncluster_0        int64\ncluster_1        int64\ncluster_2        int64\ncluster_3        int64\ncluster_4        int64\ndcoilwtico     float64\nholiday?       float64\ndtype: object"
     },
     "execution_count": 8,
     "metadata": {},
     "output_type": "execute_result"
    }
   ],
   "source": [
    "df_test.dtypes"
   ],
   "metadata": {
    "collapsed": false,
    "ExecuteTime": {
     "end_time": "2023-08-26T00:43:27.227721Z",
     "start_time": "2023-08-26T00:43:27.221057Z"
    }
   },
   "id": "5f47167318ea3995"
  },
  {
   "cell_type": "code",
   "execution_count": 9,
   "outputs": [
    {
     "data": {
      "text/plain": "sales    float64\ndtype: object"
     },
     "execution_count": 9,
     "metadata": {},
     "output_type": "execute_result"
    }
   ],
   "source": [
    "df_y.dtypes"
   ],
   "metadata": {
    "collapsed": false,
    "ExecuteTime": {
     "end_time": "2023-08-26T00:43:27.646785Z",
     "start_time": "2023-08-26T00:43:27.640845Z"
    }
   },
   "id": "a87ef2549a96d296"
  },
  {
   "cell_type": "markdown",
   "source": [
    "### Performing feature engineering in both training and testing datasets"
   ],
   "metadata": {
    "collapsed": false
   },
   "id": "93e2be5453743333"
  },
  {
   "cell_type": "code",
   "execution_count": 10,
   "outputs": [
    {
     "data": {
      "text/plain": "   date_year  date_month  date_day  store_nbr_0  store_nbr_1  store_nbr_2  \\\n0       2013           1         1            0            0            0   \n1       2013           1         1            0            0            0   \n2       2013           1         1            0            0            0   \n3       2013           1         1            0            0            0   \n4       2013           1         1            0            0            0   \n\n   store_nbr_3  store_nbr_4  store_nbr_5  family_0  ...  type_0  type_1  \\\n0            0            0            0         0  ...       0       1   \n1            0            0            0         0  ...       0       1   \n2            0            0            0         0  ...       0       1   \n3            0            0            0         0  ...       0       1   \n4            0            0            0         0  ...       0       1   \n\n   type_2  cluster_0  cluster_1  cluster_2  cluster_3  cluster_4  dcoilwtico  \\\n0       1          0          1          1          0          0      93.366   \n1       1          0          1          1          0          0      93.366   \n2       1          0          1          1          0          0      93.366   \n3       1          0          1          1          0          0      93.366   \n4       1          0          1          1          0          0      93.366   \n\n   holiday?  \n0       1.0  \n1       1.0  \n2       1.0  \n3       1.0  \n4       1.0  \n\n[5 rows x 35 columns]",
      "text/html": "<div>\n<style scoped>\n    .dataframe tbody tr th:only-of-type {\n        vertical-align: middle;\n    }\n\n    .dataframe tbody tr th {\n        vertical-align: top;\n    }\n\n    .dataframe thead th {\n        text-align: right;\n    }\n</style>\n<table border=\"1\" class=\"dataframe\">\n  <thead>\n    <tr style=\"text-align: right;\">\n      <th></th>\n      <th>date_year</th>\n      <th>date_month</th>\n      <th>date_day</th>\n      <th>store_nbr_0</th>\n      <th>store_nbr_1</th>\n      <th>store_nbr_2</th>\n      <th>store_nbr_3</th>\n      <th>store_nbr_4</th>\n      <th>store_nbr_5</th>\n      <th>family_0</th>\n      <th>...</th>\n      <th>type_0</th>\n      <th>type_1</th>\n      <th>type_2</th>\n      <th>cluster_0</th>\n      <th>cluster_1</th>\n      <th>cluster_2</th>\n      <th>cluster_3</th>\n      <th>cluster_4</th>\n      <th>dcoilwtico</th>\n      <th>holiday?</th>\n    </tr>\n  </thead>\n  <tbody>\n    <tr>\n      <th>0</th>\n      <td>2013</td>\n      <td>1</td>\n      <td>1</td>\n      <td>0</td>\n      <td>0</td>\n      <td>0</td>\n      <td>0</td>\n      <td>0</td>\n      <td>0</td>\n      <td>0</td>\n      <td>...</td>\n      <td>0</td>\n      <td>1</td>\n      <td>1</td>\n      <td>0</td>\n      <td>1</td>\n      <td>1</td>\n      <td>0</td>\n      <td>0</td>\n      <td>93.366</td>\n      <td>1.0</td>\n    </tr>\n    <tr>\n      <th>1</th>\n      <td>2013</td>\n      <td>1</td>\n      <td>1</td>\n      <td>0</td>\n      <td>0</td>\n      <td>0</td>\n      <td>0</td>\n      <td>0</td>\n      <td>0</td>\n      <td>0</td>\n      <td>...</td>\n      <td>0</td>\n      <td>1</td>\n      <td>1</td>\n      <td>0</td>\n      <td>1</td>\n      <td>1</td>\n      <td>0</td>\n      <td>0</td>\n      <td>93.366</td>\n      <td>1.0</td>\n    </tr>\n    <tr>\n      <th>2</th>\n      <td>2013</td>\n      <td>1</td>\n      <td>1</td>\n      <td>0</td>\n      <td>0</td>\n      <td>0</td>\n      <td>0</td>\n      <td>0</td>\n      <td>0</td>\n      <td>0</td>\n      <td>...</td>\n      <td>0</td>\n      <td>1</td>\n      <td>1</td>\n      <td>0</td>\n      <td>1</td>\n      <td>1</td>\n      <td>0</td>\n      <td>0</td>\n      <td>93.366</td>\n      <td>1.0</td>\n    </tr>\n    <tr>\n      <th>3</th>\n      <td>2013</td>\n      <td>1</td>\n      <td>1</td>\n      <td>0</td>\n      <td>0</td>\n      <td>0</td>\n      <td>0</td>\n      <td>0</td>\n      <td>0</td>\n      <td>0</td>\n      <td>...</td>\n      <td>0</td>\n      <td>1</td>\n      <td>1</td>\n      <td>0</td>\n      <td>1</td>\n      <td>1</td>\n      <td>0</td>\n      <td>0</td>\n      <td>93.366</td>\n      <td>1.0</td>\n    </tr>\n    <tr>\n      <th>4</th>\n      <td>2013</td>\n      <td>1</td>\n      <td>1</td>\n      <td>0</td>\n      <td>0</td>\n      <td>0</td>\n      <td>0</td>\n      <td>0</td>\n      <td>0</td>\n      <td>0</td>\n      <td>...</td>\n      <td>0</td>\n      <td>1</td>\n      <td>1</td>\n      <td>0</td>\n      <td>1</td>\n      <td>1</td>\n      <td>0</td>\n      <td>0</td>\n      <td>93.366</td>\n      <td>1.0</td>\n    </tr>\n  </tbody>\n</table>\n<p>5 rows × 35 columns</p>\n</div>"
     },
     "execution_count": 10,
     "metadata": {},
     "output_type": "execute_result"
    }
   ],
   "source": [
    "df_combined = pd.concat([df_X,df_test])\n",
    "df_combined.head()"
   ],
   "metadata": {
    "collapsed": false,
    "ExecuteTime": {
     "end_time": "2023-08-26T00:43:28.620508Z",
     "start_time": "2023-08-26T00:43:28.560679Z"
    }
   },
   "id": "20d75e0a07eff7c2"
  },
  {
   "cell_type": "code",
   "execution_count": 11,
   "outputs": [
    {
     "name": "stdout",
     "output_type": "stream",
     "text": [
      "Length of combined dataframe :  1077087\n"
     ]
    }
   ],
   "source": [
    "print(\"Length of combined dataframe : \",len(df_combined))"
   ],
   "metadata": {
    "collapsed": false,
    "ExecuteTime": {
     "end_time": "2023-08-26T00:43:28.933646Z",
     "start_time": "2023-08-26T00:43:28.926243Z"
    }
   },
   "id": "542e14e1a5d2b22b"
  },
  {
   "cell_type": "code",
   "execution_count": 12,
   "outputs": [],
   "source": [
    "ss = StandardScaler()\n",
    "df_combined_1 = ss.fit_transform(df_combined)\n",
    "\n",
    "df_input = df_combined_1[0:len(df_X)]\n",
    "\n",
    "df_X_train_1 = df_input[0:int(3*len(df_X)/4)]\n",
    "df_X_valid_1 = df_input[int(3*len(df_X)/4):]\n",
    "df_X_test_1 = df_combined_1[len(df_X):]\n",
    "\n",
    "df_X_train_2 = pd.DataFrame(df_X_train_1,columns=df_X.columns.values)\n",
    "df_X_valid_2 = pd.DataFrame(df_X_valid_1,columns=df_X.columns.values)\n",
    "df_X_test_2 = pd.DataFrame(df_X_test_1,columns=df_test.columns.values)"
   ],
   "metadata": {
    "collapsed": false,
    "ExecuteTime": {
     "end_time": "2023-08-26T00:43:29.700903Z",
     "start_time": "2023-08-26T00:43:29.319880Z"
    }
   },
   "id": "7d9978d11faa2dff"
  },
  {
   "cell_type": "code",
   "execution_count": 13,
   "outputs": [
    {
     "data": {
      "text/plain": "   date_year  date_month  date_day  store_nbr_0  store_nbr_1  store_nbr_2  \\\n0  -0.633647   -1.475632 -1.668899    -0.828663    -0.829347    -0.894526   \n1  -0.633647   -1.475632 -1.668899    -0.828663    -0.829347    -0.894526   \n2  -0.633647   -1.475632 -1.668899    -0.828663    -0.829347    -0.894526   \n3  -0.633647   -1.475632 -1.668899    -0.828663    -0.829347    -0.894526   \n4  -0.633647   -1.475632 -1.668899    -0.828663    -0.829347    -0.894526   \n\n   store_nbr_3  store_nbr_4  store_nbr_5  family_0  ...    type_0    type_1  \\\n0    -0.963501     -0.96362    -0.999969 -0.176777  ... -0.282861  0.797573   \n1    -0.963501     -0.96362    -0.999969 -0.176777  ... -0.282861  0.797573   \n2    -0.963501     -0.96362    -0.999969 -0.176777  ... -0.282861  0.797573   \n3    -0.963501     -0.96362    -0.999969 -0.176777  ... -0.282861  0.797573   \n4    -0.963501     -0.96362    -0.999969 -0.176777  ... -0.282861  0.797573   \n\n    type_2  cluster_0  cluster_1  cluster_2  cluster_3  cluster_4  dcoilwtico  \\\n0  1.03769  -0.137311   1.037626   1.037563  -0.928497  -0.963501   -0.474854   \n1  1.03769  -0.137311   1.037626   1.037563  -0.928497  -0.963501   -0.474854   \n2  1.03769  -0.137311   1.037626   1.037563  -0.928497  -0.963501   -0.474854   \n3  1.03769  -0.137311   1.037626   1.037563  -0.928497  -0.963501   -0.474854   \n4  1.03769  -0.137311   1.037626   1.037563  -0.928497  -0.963501   -0.474854   \n\n   holiday?  \n0  2.597893  \n1  2.597893  \n2  2.597893  \n3  2.597893  \n4  2.597893  \n\n[5 rows x 35 columns]",
      "text/html": "<div>\n<style scoped>\n    .dataframe tbody tr th:only-of-type {\n        vertical-align: middle;\n    }\n\n    .dataframe tbody tr th {\n        vertical-align: top;\n    }\n\n    .dataframe thead th {\n        text-align: right;\n    }\n</style>\n<table border=\"1\" class=\"dataframe\">\n  <thead>\n    <tr style=\"text-align: right;\">\n      <th></th>\n      <th>date_year</th>\n      <th>date_month</th>\n      <th>date_day</th>\n      <th>store_nbr_0</th>\n      <th>store_nbr_1</th>\n      <th>store_nbr_2</th>\n      <th>store_nbr_3</th>\n      <th>store_nbr_4</th>\n      <th>store_nbr_5</th>\n      <th>family_0</th>\n      <th>...</th>\n      <th>type_0</th>\n      <th>type_1</th>\n      <th>type_2</th>\n      <th>cluster_0</th>\n      <th>cluster_1</th>\n      <th>cluster_2</th>\n      <th>cluster_3</th>\n      <th>cluster_4</th>\n      <th>dcoilwtico</th>\n      <th>holiday?</th>\n    </tr>\n  </thead>\n  <tbody>\n    <tr>\n      <th>0</th>\n      <td>-0.633647</td>\n      <td>-1.475632</td>\n      <td>-1.668899</td>\n      <td>-0.828663</td>\n      <td>-0.829347</td>\n      <td>-0.894526</td>\n      <td>-0.963501</td>\n      <td>-0.96362</td>\n      <td>-0.999969</td>\n      <td>-0.176777</td>\n      <td>...</td>\n      <td>-0.282861</td>\n      <td>0.797573</td>\n      <td>1.03769</td>\n      <td>-0.137311</td>\n      <td>1.037626</td>\n      <td>1.037563</td>\n      <td>-0.928497</td>\n      <td>-0.963501</td>\n      <td>-0.474854</td>\n      <td>2.597893</td>\n    </tr>\n    <tr>\n      <th>1</th>\n      <td>-0.633647</td>\n      <td>-1.475632</td>\n      <td>-1.668899</td>\n      <td>-0.828663</td>\n      <td>-0.829347</td>\n      <td>-0.894526</td>\n      <td>-0.963501</td>\n      <td>-0.96362</td>\n      <td>-0.999969</td>\n      <td>-0.176777</td>\n      <td>...</td>\n      <td>-0.282861</td>\n      <td>0.797573</td>\n      <td>1.03769</td>\n      <td>-0.137311</td>\n      <td>1.037626</td>\n      <td>1.037563</td>\n      <td>-0.928497</td>\n      <td>-0.963501</td>\n      <td>-0.474854</td>\n      <td>2.597893</td>\n    </tr>\n    <tr>\n      <th>2</th>\n      <td>-0.633647</td>\n      <td>-1.475632</td>\n      <td>-1.668899</td>\n      <td>-0.828663</td>\n      <td>-0.829347</td>\n      <td>-0.894526</td>\n      <td>-0.963501</td>\n      <td>-0.96362</td>\n      <td>-0.999969</td>\n      <td>-0.176777</td>\n      <td>...</td>\n      <td>-0.282861</td>\n      <td>0.797573</td>\n      <td>1.03769</td>\n      <td>-0.137311</td>\n      <td>1.037626</td>\n      <td>1.037563</td>\n      <td>-0.928497</td>\n      <td>-0.963501</td>\n      <td>-0.474854</td>\n      <td>2.597893</td>\n    </tr>\n    <tr>\n      <th>3</th>\n      <td>-0.633647</td>\n      <td>-1.475632</td>\n      <td>-1.668899</td>\n      <td>-0.828663</td>\n      <td>-0.829347</td>\n      <td>-0.894526</td>\n      <td>-0.963501</td>\n      <td>-0.96362</td>\n      <td>-0.999969</td>\n      <td>-0.176777</td>\n      <td>...</td>\n      <td>-0.282861</td>\n      <td>0.797573</td>\n      <td>1.03769</td>\n      <td>-0.137311</td>\n      <td>1.037626</td>\n      <td>1.037563</td>\n      <td>-0.928497</td>\n      <td>-0.963501</td>\n      <td>-0.474854</td>\n      <td>2.597893</td>\n    </tr>\n    <tr>\n      <th>4</th>\n      <td>-0.633647</td>\n      <td>-1.475632</td>\n      <td>-1.668899</td>\n      <td>-0.828663</td>\n      <td>-0.829347</td>\n      <td>-0.894526</td>\n      <td>-0.963501</td>\n      <td>-0.96362</td>\n      <td>-0.999969</td>\n      <td>-0.176777</td>\n      <td>...</td>\n      <td>-0.282861</td>\n      <td>0.797573</td>\n      <td>1.03769</td>\n      <td>-0.137311</td>\n      <td>1.037626</td>\n      <td>1.037563</td>\n      <td>-0.928497</td>\n      <td>-0.963501</td>\n      <td>-0.474854</td>\n      <td>2.597893</td>\n    </tr>\n  </tbody>\n</table>\n<p>5 rows × 35 columns</p>\n</div>"
     },
     "execution_count": 13,
     "metadata": {},
     "output_type": "execute_result"
    }
   ],
   "source": [
    "df_X_train_2.head()"
   ],
   "metadata": {
    "collapsed": false,
    "ExecuteTime": {
     "end_time": "2023-08-26T00:43:29.883627Z",
     "start_time": "2023-08-26T00:43:29.880783Z"
    }
   },
   "id": "95d7c2f5c1dd88ee"
  },
  {
   "cell_type": "code",
   "execution_count": 14,
   "outputs": [
    {
     "data": {
      "text/plain": "   date_year  date_month  date_day  store_nbr_0  store_nbr_1  store_nbr_2  \\\n0   0.694225   -0.848626   0.37395    -0.828663     1.205768     1.117911   \n1   0.694225   -0.848626   0.37395    -0.828663     1.205768     1.117911   \n2   0.694225   -0.848626   0.37395    -0.828663     1.205768     1.117911   \n3   0.694225   -0.848626   0.37395    -0.828663     1.205768     1.117911   \n4   0.694225   -0.848626   0.37395    -0.828663     1.205768     1.117911   \n\n   store_nbr_3  store_nbr_4  store_nbr_5  family_0  ...    type_0    type_1  \\\n0    -0.963501     -0.96362    -0.999969 -0.176777  ... -0.282861  0.797573   \n1    -0.963501     -0.96362    -0.999969 -0.176777  ... -0.282861  0.797573   \n2    -0.963501     -0.96362    -0.999969 -0.176777  ... -0.282861  0.797573   \n3    -0.963501     -0.96362    -0.999969 -0.176777  ... -0.282861  0.797573   \n4    -0.963501     -0.96362    -0.999969 -0.176777  ... -0.282861  0.797573   \n\n    type_2  cluster_0  cluster_1  cluster_2  cluster_3  cluster_4  dcoilwtico  \\\n0  1.03769  -0.137311  -0.963738  -0.963797  -0.928497  -0.963501    0.309765   \n1  1.03769  -0.137311  -0.963738  -0.963797  -0.928497  -0.963501    0.309765   \n2  1.03769  -0.137311  -0.963738  -0.963797  -0.928497  -0.963501    0.309765   \n3  1.03769  -0.137311  -0.963738  -0.963797  -0.928497  -0.963501    0.309765   \n4  1.03769  -0.137311  -0.963738  -0.963797  -0.928497  -0.963501    0.309765   \n\n   holiday?  \n0 -0.384927  \n1 -0.384927  \n2 -0.384927  \n3 -0.384927  \n4 -0.384927  \n\n[5 rows x 35 columns]",
      "text/html": "<div>\n<style scoped>\n    .dataframe tbody tr th:only-of-type {\n        vertical-align: middle;\n    }\n\n    .dataframe tbody tr th {\n        vertical-align: top;\n    }\n\n    .dataframe thead th {\n        text-align: right;\n    }\n</style>\n<table border=\"1\" class=\"dataframe\">\n  <thead>\n    <tr style=\"text-align: right;\">\n      <th></th>\n      <th>date_year</th>\n      <th>date_month</th>\n      <th>date_day</th>\n      <th>store_nbr_0</th>\n      <th>store_nbr_1</th>\n      <th>store_nbr_2</th>\n      <th>store_nbr_3</th>\n      <th>store_nbr_4</th>\n      <th>store_nbr_5</th>\n      <th>family_0</th>\n      <th>...</th>\n      <th>type_0</th>\n      <th>type_1</th>\n      <th>type_2</th>\n      <th>cluster_0</th>\n      <th>cluster_1</th>\n      <th>cluster_2</th>\n      <th>cluster_3</th>\n      <th>cluster_4</th>\n      <th>dcoilwtico</th>\n      <th>holiday?</th>\n    </tr>\n  </thead>\n  <tbody>\n    <tr>\n      <th>0</th>\n      <td>0.694225</td>\n      <td>-0.848626</td>\n      <td>0.37395</td>\n      <td>-0.828663</td>\n      <td>1.205768</td>\n      <td>1.117911</td>\n      <td>-0.963501</td>\n      <td>-0.96362</td>\n      <td>-0.999969</td>\n      <td>-0.176777</td>\n      <td>...</td>\n      <td>-0.282861</td>\n      <td>0.797573</td>\n      <td>1.03769</td>\n      <td>-0.137311</td>\n      <td>-0.963738</td>\n      <td>-0.963797</td>\n      <td>-0.928497</td>\n      <td>-0.963501</td>\n      <td>0.309765</td>\n      <td>-0.384927</td>\n    </tr>\n    <tr>\n      <th>1</th>\n      <td>0.694225</td>\n      <td>-0.848626</td>\n      <td>0.37395</td>\n      <td>-0.828663</td>\n      <td>1.205768</td>\n      <td>1.117911</td>\n      <td>-0.963501</td>\n      <td>-0.96362</td>\n      <td>-0.999969</td>\n      <td>-0.176777</td>\n      <td>...</td>\n      <td>-0.282861</td>\n      <td>0.797573</td>\n      <td>1.03769</td>\n      <td>-0.137311</td>\n      <td>-0.963738</td>\n      <td>-0.963797</td>\n      <td>-0.928497</td>\n      <td>-0.963501</td>\n      <td>0.309765</td>\n      <td>-0.384927</td>\n    </tr>\n    <tr>\n      <th>2</th>\n      <td>0.694225</td>\n      <td>-0.848626</td>\n      <td>0.37395</td>\n      <td>-0.828663</td>\n      <td>1.205768</td>\n      <td>1.117911</td>\n      <td>-0.963501</td>\n      <td>-0.96362</td>\n      <td>-0.999969</td>\n      <td>-0.176777</td>\n      <td>...</td>\n      <td>-0.282861</td>\n      <td>0.797573</td>\n      <td>1.03769</td>\n      <td>-0.137311</td>\n      <td>-0.963738</td>\n      <td>-0.963797</td>\n      <td>-0.928497</td>\n      <td>-0.963501</td>\n      <td>0.309765</td>\n      <td>-0.384927</td>\n    </tr>\n    <tr>\n      <th>3</th>\n      <td>0.694225</td>\n      <td>-0.848626</td>\n      <td>0.37395</td>\n      <td>-0.828663</td>\n      <td>1.205768</td>\n      <td>1.117911</td>\n      <td>-0.963501</td>\n      <td>-0.96362</td>\n      <td>-0.999969</td>\n      <td>-0.176777</td>\n      <td>...</td>\n      <td>-0.282861</td>\n      <td>0.797573</td>\n      <td>1.03769</td>\n      <td>-0.137311</td>\n      <td>-0.963738</td>\n      <td>-0.963797</td>\n      <td>-0.928497</td>\n      <td>-0.963501</td>\n      <td>0.309765</td>\n      <td>-0.384927</td>\n    </tr>\n    <tr>\n      <th>4</th>\n      <td>0.694225</td>\n      <td>-0.848626</td>\n      <td>0.37395</td>\n      <td>-0.828663</td>\n      <td>1.205768</td>\n      <td>1.117911</td>\n      <td>-0.963501</td>\n      <td>-0.96362</td>\n      <td>-0.999969</td>\n      <td>-0.176777</td>\n      <td>...</td>\n      <td>-0.282861</td>\n      <td>0.797573</td>\n      <td>1.03769</td>\n      <td>-0.137311</td>\n      <td>-0.963738</td>\n      <td>-0.963797</td>\n      <td>-0.928497</td>\n      <td>-0.963501</td>\n      <td>0.309765</td>\n      <td>-0.384927</td>\n    </tr>\n  </tbody>\n</table>\n<p>5 rows × 35 columns</p>\n</div>"
     },
     "execution_count": 14,
     "metadata": {},
     "output_type": "execute_result"
    }
   ],
   "source": [
    "df_X_valid_2.head()"
   ],
   "metadata": {
    "collapsed": false,
    "ExecuteTime": {
     "end_time": "2023-08-26T00:43:30.408820Z",
     "start_time": "2023-08-26T00:43:30.405949Z"
    }
   },
   "id": "7cd255176c6bdf29"
  },
  {
   "cell_type": "code",
   "execution_count": 15,
   "outputs": [
    {
     "data": {
      "text/plain": "   date_year  date_month  date_day  store_nbr_0  store_nbr_1  store_nbr_2  \\\n0   4.677841    0.718889  0.033475    -0.828663    -0.829347    -0.894526   \n1   4.677841    0.718889  0.033475    -0.828663    -0.829347    -0.894526   \n2   4.677841    0.718889  0.033475    -0.828663    -0.829347    -0.894526   \n3   4.677841    0.718889  0.033475    -0.828663    -0.829347    -0.894526   \n4   4.677841    0.718889  0.033475    -0.828663    -0.829347    -0.894526   \n\n   store_nbr_3  store_nbr_4  store_nbr_5  family_0  ...    type_0    type_1  \\\n0    -0.963501     -0.96362    -0.999969 -0.176777  ... -0.282861  0.797573   \n1    -0.963501     -0.96362    -0.999969 -0.176777  ... -0.282861  0.797573   \n2    -0.963501     -0.96362    -0.999969 -0.176777  ... -0.282861  0.797573   \n3    -0.963501     -0.96362    -0.999969 -0.176777  ... -0.282861  0.797573   \n4    -0.963501     -0.96362    -0.999969 -0.176777  ... -0.282861  0.797573   \n\n    type_2  cluster_0  cluster_1  cluster_2  cluster_3  cluster_4  dcoilwtico  \\\n0  1.03769  -0.137311   1.037626   1.037563  -0.928497  -0.963501   -5.449875   \n1  1.03769  -0.137311   1.037626   1.037563  -0.928497  -0.963501   -5.449875   \n2  1.03769  -0.137311   1.037626   1.037563  -0.928497  -0.963501   -5.449875   \n3  1.03769  -0.137311   1.037626   1.037563  -0.928497  -0.963501   -5.449875   \n4  1.03769  -0.137311   1.037626   1.037563  -0.928497  -0.963501   -5.449875   \n\n   holiday?  \n0 -0.384927  \n1 -0.384927  \n2 -0.384927  \n3 -0.384927  \n4 -0.384927  \n\n[5 rows x 35 columns]",
      "text/html": "<div>\n<style scoped>\n    .dataframe tbody tr th:only-of-type {\n        vertical-align: middle;\n    }\n\n    .dataframe tbody tr th {\n        vertical-align: top;\n    }\n\n    .dataframe thead th {\n        text-align: right;\n    }\n</style>\n<table border=\"1\" class=\"dataframe\">\n  <thead>\n    <tr style=\"text-align: right;\">\n      <th></th>\n      <th>date_year</th>\n      <th>date_month</th>\n      <th>date_day</th>\n      <th>store_nbr_0</th>\n      <th>store_nbr_1</th>\n      <th>store_nbr_2</th>\n      <th>store_nbr_3</th>\n      <th>store_nbr_4</th>\n      <th>store_nbr_5</th>\n      <th>family_0</th>\n      <th>...</th>\n      <th>type_0</th>\n      <th>type_1</th>\n      <th>type_2</th>\n      <th>cluster_0</th>\n      <th>cluster_1</th>\n      <th>cluster_2</th>\n      <th>cluster_3</th>\n      <th>cluster_4</th>\n      <th>dcoilwtico</th>\n      <th>holiday?</th>\n    </tr>\n  </thead>\n  <tbody>\n    <tr>\n      <th>0</th>\n      <td>4.677841</td>\n      <td>0.718889</td>\n      <td>0.033475</td>\n      <td>-0.828663</td>\n      <td>-0.829347</td>\n      <td>-0.894526</td>\n      <td>-0.963501</td>\n      <td>-0.96362</td>\n      <td>-0.999969</td>\n      <td>-0.176777</td>\n      <td>...</td>\n      <td>-0.282861</td>\n      <td>0.797573</td>\n      <td>1.03769</td>\n      <td>-0.137311</td>\n      <td>1.037626</td>\n      <td>1.037563</td>\n      <td>-0.928497</td>\n      <td>-0.963501</td>\n      <td>-5.449875</td>\n      <td>-0.384927</td>\n    </tr>\n    <tr>\n      <th>1</th>\n      <td>4.677841</td>\n      <td>0.718889</td>\n      <td>0.033475</td>\n      <td>-0.828663</td>\n      <td>-0.829347</td>\n      <td>-0.894526</td>\n      <td>-0.963501</td>\n      <td>-0.96362</td>\n      <td>-0.999969</td>\n      <td>-0.176777</td>\n      <td>...</td>\n      <td>-0.282861</td>\n      <td>0.797573</td>\n      <td>1.03769</td>\n      <td>-0.137311</td>\n      <td>1.037626</td>\n      <td>1.037563</td>\n      <td>-0.928497</td>\n      <td>-0.963501</td>\n      <td>-5.449875</td>\n      <td>-0.384927</td>\n    </tr>\n    <tr>\n      <th>2</th>\n      <td>4.677841</td>\n      <td>0.718889</td>\n      <td>0.033475</td>\n      <td>-0.828663</td>\n      <td>-0.829347</td>\n      <td>-0.894526</td>\n      <td>-0.963501</td>\n      <td>-0.96362</td>\n      <td>-0.999969</td>\n      <td>-0.176777</td>\n      <td>...</td>\n      <td>-0.282861</td>\n      <td>0.797573</td>\n      <td>1.03769</td>\n      <td>-0.137311</td>\n      <td>1.037626</td>\n      <td>1.037563</td>\n      <td>-0.928497</td>\n      <td>-0.963501</td>\n      <td>-5.449875</td>\n      <td>-0.384927</td>\n    </tr>\n    <tr>\n      <th>3</th>\n      <td>4.677841</td>\n      <td>0.718889</td>\n      <td>0.033475</td>\n      <td>-0.828663</td>\n      <td>-0.829347</td>\n      <td>-0.894526</td>\n      <td>-0.963501</td>\n      <td>-0.96362</td>\n      <td>-0.999969</td>\n      <td>-0.176777</td>\n      <td>...</td>\n      <td>-0.282861</td>\n      <td>0.797573</td>\n      <td>1.03769</td>\n      <td>-0.137311</td>\n      <td>1.037626</td>\n      <td>1.037563</td>\n      <td>-0.928497</td>\n      <td>-0.963501</td>\n      <td>-5.449875</td>\n      <td>-0.384927</td>\n    </tr>\n    <tr>\n      <th>4</th>\n      <td>4.677841</td>\n      <td>0.718889</td>\n      <td>0.033475</td>\n      <td>-0.828663</td>\n      <td>-0.829347</td>\n      <td>-0.894526</td>\n      <td>-0.963501</td>\n      <td>-0.96362</td>\n      <td>-0.999969</td>\n      <td>-0.176777</td>\n      <td>...</td>\n      <td>-0.282861</td>\n      <td>0.797573</td>\n      <td>1.03769</td>\n      <td>-0.137311</td>\n      <td>1.037626</td>\n      <td>1.037563</td>\n      <td>-0.928497</td>\n      <td>-0.963501</td>\n      <td>-5.449875</td>\n      <td>-0.384927</td>\n    </tr>\n  </tbody>\n</table>\n<p>5 rows × 35 columns</p>\n</div>"
     },
     "execution_count": 15,
     "metadata": {},
     "output_type": "execute_result"
    }
   ],
   "source": [
    "df_X_test_2.head()"
   ],
   "metadata": {
    "collapsed": false,
    "ExecuteTime": {
     "end_time": "2023-08-26T00:43:30.804054Z",
     "start_time": "2023-08-26T00:43:30.799486Z"
    }
   },
   "id": "d302a4707a7aa4ff"
  },
  {
   "cell_type": "code",
   "execution_count": 16,
   "outputs": [],
   "source": [
    "df_y_train_2 = df_y[0:int(3*len(df_y)/4)]\n",
    "df_y_valid_2 = df_y[int(3*len(df_y)/4):]"
   ],
   "metadata": {
    "collapsed": false,
    "ExecuteTime": {
     "end_time": "2023-08-26T00:43:31.205433Z",
     "start_time": "2023-08-26T00:43:31.199830Z"
    }
   },
   "id": "f3249d5f70842510"
  },
  {
   "cell_type": "code",
   "execution_count": 17,
   "outputs": [
    {
     "data": {
      "text/plain": "   sales\n0    0.0\n1    0.0\n2    0.0\n3    0.0\n4    0.0",
      "text/html": "<div>\n<style scoped>\n    .dataframe tbody tr th:only-of-type {\n        vertical-align: middle;\n    }\n\n    .dataframe tbody tr th {\n        vertical-align: top;\n    }\n\n    .dataframe thead th {\n        text-align: right;\n    }\n</style>\n<table border=\"1\" class=\"dataframe\">\n  <thead>\n    <tr style=\"text-align: right;\">\n      <th></th>\n      <th>sales</th>\n    </tr>\n  </thead>\n  <tbody>\n    <tr>\n      <th>0</th>\n      <td>0.0</td>\n    </tr>\n    <tr>\n      <th>1</th>\n      <td>0.0</td>\n    </tr>\n    <tr>\n      <th>2</th>\n      <td>0.0</td>\n    </tr>\n    <tr>\n      <th>3</th>\n      <td>0.0</td>\n    </tr>\n    <tr>\n      <th>4</th>\n      <td>0.0</td>\n    </tr>\n  </tbody>\n</table>\n</div>"
     },
     "execution_count": 17,
     "metadata": {},
     "output_type": "execute_result"
    }
   ],
   "source": [
    "df_y_train_2.head()"
   ],
   "metadata": {
    "collapsed": false,
    "ExecuteTime": {
     "end_time": "2023-08-26T00:43:31.592256Z",
     "start_time": "2023-08-26T00:43:31.586951Z"
    }
   },
   "id": "cb8907864e36a02c"
  },
  {
   "cell_type": "code",
   "execution_count": 18,
   "outputs": [
    {
     "data": {
      "text/plain": "           sales\n786431   588.000\n786432   116.357\n786433   119.000\n786434   116.000\n786435  1872.000",
      "text/html": "<div>\n<style scoped>\n    .dataframe tbody tr th:only-of-type {\n        vertical-align: middle;\n    }\n\n    .dataframe tbody tr th {\n        vertical-align: top;\n    }\n\n    .dataframe thead th {\n        text-align: right;\n    }\n</style>\n<table border=\"1\" class=\"dataframe\">\n  <thead>\n    <tr style=\"text-align: right;\">\n      <th></th>\n      <th>sales</th>\n    </tr>\n  </thead>\n  <tbody>\n    <tr>\n      <th>786431</th>\n      <td>588.000</td>\n    </tr>\n    <tr>\n      <th>786432</th>\n      <td>116.357</td>\n    </tr>\n    <tr>\n      <th>786433</th>\n      <td>119.000</td>\n    </tr>\n    <tr>\n      <th>786434</th>\n      <td>116.000</td>\n    </tr>\n    <tr>\n      <th>786435</th>\n      <td>1872.000</td>\n    </tr>\n  </tbody>\n</table>\n</div>"
     },
     "execution_count": 18,
     "metadata": {},
     "output_type": "execute_result"
    }
   ],
   "source": [
    "df_y_valid_2.head()"
   ],
   "metadata": {
    "collapsed": false,
    "ExecuteTime": {
     "end_time": "2023-08-26T00:43:32.090104Z",
     "start_time": "2023-08-26T00:43:32.085570Z"
    }
   },
   "id": "d0412c938700d5d7"
  },
  {
   "cell_type": "code",
   "execution_count": 19,
   "outputs": [
    {
     "name": "stdout",
     "output_type": "stream",
     "text": [
      "Number of rows in X training set   :  786431\n",
      "Number of rows in X validation set :  262144\n",
      "Number of rows in X testing set    :  28512\n"
     ]
    }
   ],
   "source": [
    "print(\"Number of rows in X training set   : \",len(df_X_train_2))\n",
    "print(\"Number of rows in X validation set : \",len(df_X_valid_2))\n",
    "print(\"Number of rows in X testing set    : \",len(df_X_test_2))"
   ],
   "metadata": {
    "collapsed": false,
    "ExecuteTime": {
     "end_time": "2023-08-26T00:43:32.459075Z",
     "start_time": "2023-08-26T00:43:32.453047Z"
    }
   },
   "id": "eabed39d542b0912"
  },
  {
   "cell_type": "code",
   "execution_count": 20,
   "outputs": [
    {
     "name": "stdout",
     "output_type": "stream",
     "text": [
      "Number of rows in y training set   :  786431\n",
      "Number of rows in y validation set :  262144\n"
     ]
    }
   ],
   "source": [
    "print(\"Number of rows in y training set   : \",len(df_y_train_2))\n",
    "print(\"Number of rows in y validation set : \",len(df_y_valid_2))"
   ],
   "metadata": {
    "collapsed": false,
    "ExecuteTime": {
     "end_time": "2023-08-26T00:43:32.848612Z",
     "start_time": "2023-08-26T00:43:32.844580Z"
    }
   },
   "id": "f385b7952cb0aaa1"
  },
  {
   "cell_type": "code",
   "execution_count": 21,
   "outputs": [],
   "source": [
    "X_train = df_X_train_2.to_numpy()\n",
    "y_train = df_y_train_2.to_numpy()\n",
    "\n",
    "X_valid = df_X_valid_2.to_numpy()\n",
    "y_valid = df_y_valid_2.to_numpy()\n",
    "\n",
    "X_test = df_X_test_2.to_numpy()"
   ],
   "metadata": {
    "collapsed": false,
    "ExecuteTime": {
     "end_time": "2023-08-26T00:43:33.294911Z",
     "start_time": "2023-08-26T00:43:33.291550Z"
    }
   },
   "id": "5b04d3be8d94ddad"
  },
  {
   "cell_type": "markdown",
   "source": [
    "### Performing deep learning using tensorflow"
   ],
   "metadata": {
    "collapsed": false
   },
   "id": "b11453d685e34f0a"
  },
  {
   "cell_type": "code",
   "execution_count": null,
   "outputs": [],
   "source": [
    "model = tf.keras.models.Sequential([\n",
    "    tf.keras.layers.Dense(1,activation=\"linear\"),\n",
    "])\n",
    "optimize = tf.keras.optimizers.legacy.SGD(learning_rate=0.0005)\n",
    "early_stopping = tf.keras.callbacks.EarlyStopping()"
   ],
   "metadata": {
    "collapsed": false,
    "ExecuteTime": {
     "end_time": "2023-08-26T00:44:44.254534Z",
     "start_time": "2023-08-26T00:44:44.254302Z"
    }
   },
   "id": "3e314032575c7eda"
  },
  {
   "cell_type": "code",
   "execution_count": null,
   "outputs": [],
   "source": [],
   "metadata": {
    "collapsed": false
   },
   "id": "c31dd4ecdd6070d9"
  }
 ],
 "metadata": {
  "kernelspec": {
   "display_name": "Python 3",
   "language": "python",
   "name": "python3"
  },
  "language_info": {
   "codemirror_mode": {
    "name": "ipython",
    "version": 2
   },
   "file_extension": ".py",
   "mimetype": "text/x-python",
   "name": "python",
   "nbconvert_exporter": "python",
   "pygments_lexer": "ipython2",
   "version": "2.7.6"
  }
 },
 "nbformat": 4,
 "nbformat_minor": 5
}
