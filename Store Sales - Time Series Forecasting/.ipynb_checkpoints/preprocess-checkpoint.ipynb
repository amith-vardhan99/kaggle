{
 "cells": [
  {
   "cell_type": "markdown",
   "id": "70d75e05ec6a38e6",
   "metadata": {},
   "source": [
    "## Data Preprocessing"
   ]
  },
  {
   "cell_type": "markdown",
   "id": "8b44fd20d813f38c",
   "metadata": {},
   "source": [
    "Now, we are done with exploratory data analysis of both training and testing datasets. Now, we should get into preprocessing for both the datasets as some of the features are not numerical."
   ]
  },
  {
   "cell_type": "markdown",
   "id": "8df7d8eb34705c7c",
   "metadata": {},
   "source": [
    "### Importing all packages"
   ]
  },
  {
   "cell_type": "code",
   "execution_count": 1,
   "id": "1c3770d529797ef1",
   "metadata": {
    "ExecuteTime": {
     "end_time": "2023-08-24T21:21:27.277026Z",
     "start_time": "2023-08-24T21:21:26.202516Z"
    }
   },
   "outputs": [],
   "source": [
    "import numpy as np\n",
    "import pandas as pd\n",
    "import matplotlib.pyplot as plt\n",
    "import seaborn as sns\n",
    "from sklearn.model_selection import *\n",
    "from sklearn.linear_model import *\n",
    "from math import *\n",
    "from sklearn.ensemble import *\n",
    "from sklearn.feature_selection import *\n",
    "from sklearn.feature_extraction import *\n",
    "from sklearn.naive_bayes import *\n",
    "from sklearn.discriminant_analysis import *\n",
    "from sklearn.preprocessing import *\n",
    "from sklearn.metrics import *\n",
    "from sklearn.neighbors import *\n",
    "from sklearn.cluster import *"
   ]
  },
  {
   "cell_type": "code",
   "execution_count": 2,
   "id": "dac6517ca6863a08",
   "metadata": {
    "ExecuteTime": {
     "end_time": "2023-08-24T21:21:32.576250Z",
     "start_time": "2023-08-24T21:21:32.057694Z"
    }
   },
   "outputs": [],
   "source": [
    "df_train = pd.read_csv(\"train_eda.csv\")\n",
    "df_test = pd.read_csv(\"test_eda.csv\")"
   ]
  },
  {
   "cell_type": "code",
   "execution_count": 3,
   "id": "f2aad5bbb7d2bee3",
   "metadata": {
    "ExecuteTime": {
     "end_time": "2023-08-24T21:21:33.124791Z",
     "start_time": "2023-08-24T21:21:33.108078Z"
    }
   },
   "outputs": [
    {
     "data": {
      "text/html": [
       "<div>\n",
       "<style scoped>\n",
       "    .dataframe tbody tr th:only-of-type {\n",
       "        vertical-align: middle;\n",
       "    }\n",
       "\n",
       "    .dataframe tbody tr th {\n",
       "        vertical-align: top;\n",
       "    }\n",
       "\n",
       "    .dataframe thead th {\n",
       "        text-align: right;\n",
       "    }\n",
       "</style>\n",
       "<table border=\"1\" class=\"dataframe\">\n",
       "  <thead>\n",
       "    <tr style=\"text-align: right;\">\n",
       "      <th></th>\n",
       "      <th>id</th>\n",
       "      <th>date</th>\n",
       "      <th>store_nbr</th>\n",
       "      <th>family</th>\n",
       "      <th>onpromotion</th>\n",
       "      <th>city</th>\n",
       "      <th>state</th>\n",
       "      <th>type</th>\n",
       "      <th>cluster</th>\n",
       "      <th>dcoilwtico</th>\n",
       "      <th>holiday?</th>\n",
       "      <th>sales</th>\n",
       "    </tr>\n",
       "  </thead>\n",
       "  <tbody>\n",
       "    <tr>\n",
       "      <th>0</th>\n",
       "      <td>0</td>\n",
       "      <td>2013-01-01</td>\n",
       "      <td>1</td>\n",
       "      <td>AUTOMOTIVE</td>\n",
       "      <td>0</td>\n",
       "      <td>Quito</td>\n",
       "      <td>Pichincha</td>\n",
       "      <td>D</td>\n",
       "      <td>13</td>\n",
       "      <td>93.366</td>\n",
       "      <td>1.0</td>\n",
       "      <td>0.0</td>\n",
       "    </tr>\n",
       "    <tr>\n",
       "      <th>1</th>\n",
       "      <td>1</td>\n",
       "      <td>2013-01-01</td>\n",
       "      <td>1</td>\n",
       "      <td>BABY CARE</td>\n",
       "      <td>0</td>\n",
       "      <td>Quito</td>\n",
       "      <td>Pichincha</td>\n",
       "      <td>D</td>\n",
       "      <td>13</td>\n",
       "      <td>93.366</td>\n",
       "      <td>1.0</td>\n",
       "      <td>0.0</td>\n",
       "    </tr>\n",
       "    <tr>\n",
       "      <th>2</th>\n",
       "      <td>2</td>\n",
       "      <td>2013-01-01</td>\n",
       "      <td>1</td>\n",
       "      <td>BEAUTY</td>\n",
       "      <td>0</td>\n",
       "      <td>Quito</td>\n",
       "      <td>Pichincha</td>\n",
       "      <td>D</td>\n",
       "      <td>13</td>\n",
       "      <td>93.366</td>\n",
       "      <td>1.0</td>\n",
       "      <td>0.0</td>\n",
       "    </tr>\n",
       "    <tr>\n",
       "      <th>3</th>\n",
       "      <td>3</td>\n",
       "      <td>2013-01-01</td>\n",
       "      <td>1</td>\n",
       "      <td>BEVERAGES</td>\n",
       "      <td>0</td>\n",
       "      <td>Quito</td>\n",
       "      <td>Pichincha</td>\n",
       "      <td>D</td>\n",
       "      <td>13</td>\n",
       "      <td>93.366</td>\n",
       "      <td>1.0</td>\n",
       "      <td>0.0</td>\n",
       "    </tr>\n",
       "    <tr>\n",
       "      <th>4</th>\n",
       "      <td>4</td>\n",
       "      <td>2013-01-01</td>\n",
       "      <td>1</td>\n",
       "      <td>BOOKS</td>\n",
       "      <td>0</td>\n",
       "      <td>Quito</td>\n",
       "      <td>Pichincha</td>\n",
       "      <td>D</td>\n",
       "      <td>13</td>\n",
       "      <td>93.366</td>\n",
       "      <td>1.0</td>\n",
       "      <td>0.0</td>\n",
       "    </tr>\n",
       "  </tbody>\n",
       "</table>\n",
       "</div>"
      ],
      "text/plain": [
       "   id        date  store_nbr      family  onpromotion   city      state type  \\\n",
       "0   0  2013-01-01          1  AUTOMOTIVE            0  Quito  Pichincha    D   \n",
       "1   1  2013-01-01          1   BABY CARE            0  Quito  Pichincha    D   \n",
       "2   2  2013-01-01          1      BEAUTY            0  Quito  Pichincha    D   \n",
       "3   3  2013-01-01          1   BEVERAGES            0  Quito  Pichincha    D   \n",
       "4   4  2013-01-01          1       BOOKS            0  Quito  Pichincha    D   \n",
       "\n",
       "   cluster  dcoilwtico  holiday?  sales  \n",
       "0       13      93.366       1.0    0.0  \n",
       "1       13      93.366       1.0    0.0  \n",
       "2       13      93.366       1.0    0.0  \n",
       "3       13      93.366       1.0    0.0  \n",
       "4       13      93.366       1.0    0.0  "
      ]
     },
     "execution_count": 3,
     "metadata": {},
     "output_type": "execute_result"
    }
   ],
   "source": [
    "df_train.head()"
   ]
  },
  {
   "cell_type": "code",
   "execution_count": 4,
   "id": "2906a20c0ed83a3a",
   "metadata": {
    "ExecuteTime": {
     "end_time": "2023-08-24T21:21:33.705798Z",
     "start_time": "2023-08-24T21:21:33.692393Z"
    }
   },
   "outputs": [
    {
     "data": {
      "text/html": [
       "<div>\n",
       "<style scoped>\n",
       "    .dataframe tbody tr th:only-of-type {\n",
       "        vertical-align: middle;\n",
       "    }\n",
       "\n",
       "    .dataframe tbody tr th {\n",
       "        vertical-align: top;\n",
       "    }\n",
       "\n",
       "    .dataframe thead th {\n",
       "        text-align: right;\n",
       "    }\n",
       "</style>\n",
       "<table border=\"1\" class=\"dataframe\">\n",
       "  <thead>\n",
       "    <tr style=\"text-align: right;\">\n",
       "      <th></th>\n",
       "      <th>id</th>\n",
       "      <th>date</th>\n",
       "      <th>store_nbr</th>\n",
       "      <th>family</th>\n",
       "      <th>onpromotion</th>\n",
       "      <th>city</th>\n",
       "      <th>state</th>\n",
       "      <th>type</th>\n",
       "      <th>cluster</th>\n",
       "      <th>dcoilwtico</th>\n",
       "      <th>holiday?</th>\n",
       "    </tr>\n",
       "  </thead>\n",
       "  <tbody>\n",
       "    <tr>\n",
       "      <th>0</th>\n",
       "      <td>3000888</td>\n",
       "      <td>2017-08-16</td>\n",
       "      <td>1</td>\n",
       "      <td>AUTOMOTIVE</td>\n",
       "      <td>0</td>\n",
       "      <td>Quito</td>\n",
       "      <td>Pichincha</td>\n",
       "      <td>D</td>\n",
       "      <td>13</td>\n",
       "      <td>46.8</td>\n",
       "      <td>0.0</td>\n",
       "    </tr>\n",
       "    <tr>\n",
       "      <th>1</th>\n",
       "      <td>3000889</td>\n",
       "      <td>2017-08-16</td>\n",
       "      <td>1</td>\n",
       "      <td>BABY CARE</td>\n",
       "      <td>0</td>\n",
       "      <td>Quito</td>\n",
       "      <td>Pichincha</td>\n",
       "      <td>D</td>\n",
       "      <td>13</td>\n",
       "      <td>46.8</td>\n",
       "      <td>0.0</td>\n",
       "    </tr>\n",
       "    <tr>\n",
       "      <th>2</th>\n",
       "      <td>3000890</td>\n",
       "      <td>2017-08-16</td>\n",
       "      <td>1</td>\n",
       "      <td>BEAUTY</td>\n",
       "      <td>2</td>\n",
       "      <td>Quito</td>\n",
       "      <td>Pichincha</td>\n",
       "      <td>D</td>\n",
       "      <td>13</td>\n",
       "      <td>46.8</td>\n",
       "      <td>0.0</td>\n",
       "    </tr>\n",
       "    <tr>\n",
       "      <th>3</th>\n",
       "      <td>3000891</td>\n",
       "      <td>2017-08-16</td>\n",
       "      <td>1</td>\n",
       "      <td>BEVERAGES</td>\n",
       "      <td>20</td>\n",
       "      <td>Quito</td>\n",
       "      <td>Pichincha</td>\n",
       "      <td>D</td>\n",
       "      <td>13</td>\n",
       "      <td>46.8</td>\n",
       "      <td>0.0</td>\n",
       "    </tr>\n",
       "    <tr>\n",
       "      <th>4</th>\n",
       "      <td>3000892</td>\n",
       "      <td>2017-08-16</td>\n",
       "      <td>1</td>\n",
       "      <td>BOOKS</td>\n",
       "      <td>0</td>\n",
       "      <td>Quito</td>\n",
       "      <td>Pichincha</td>\n",
       "      <td>D</td>\n",
       "      <td>13</td>\n",
       "      <td>46.8</td>\n",
       "      <td>0.0</td>\n",
       "    </tr>\n",
       "  </tbody>\n",
       "</table>\n",
       "</div>"
      ],
      "text/plain": [
       "        id        date  store_nbr      family  onpromotion   city      state  \\\n",
       "0  3000888  2017-08-16          1  AUTOMOTIVE            0  Quito  Pichincha   \n",
       "1  3000889  2017-08-16          1   BABY CARE            0  Quito  Pichincha   \n",
       "2  3000890  2017-08-16          1      BEAUTY            2  Quito  Pichincha   \n",
       "3  3000891  2017-08-16          1   BEVERAGES           20  Quito  Pichincha   \n",
       "4  3000892  2017-08-16          1       BOOKS            0  Quito  Pichincha   \n",
       "\n",
       "  type  cluster  dcoilwtico  holiday?  \n",
       "0    D       13        46.8       0.0  \n",
       "1    D       13        46.8       0.0  \n",
       "2    D       13        46.8       0.0  \n",
       "3    D       13        46.8       0.0  \n",
       "4    D       13        46.8       0.0  "
      ]
     },
     "execution_count": 4,
     "metadata": {},
     "output_type": "execute_result"
    }
   ],
   "source": [
    "df_test.head()"
   ]
  },
  {
   "cell_type": "code",
   "execution_count": 5,
   "id": "59c80dc76f077c78",
   "metadata": {
    "ExecuteTime": {
     "end_time": "2023-08-24T21:21:34.204672Z",
     "start_time": "2023-08-24T21:21:34.191985Z"
    }
   },
   "outputs": [
    {
     "name": "stdout",
     "output_type": "stream",
     "text": [
      "Length of training dataset :  1048575\n",
      "Length of testing dataset  :  28512\n"
     ]
    }
   ],
   "source": [
    "print(\"Length of training dataset : \",len(df_train))\n",
    "print(\"Length of testing dataset  : \",len(df_test))"
   ]
  },
  {
   "cell_type": "markdown",
   "id": "431cae607e7cf7fe",
   "metadata": {},
   "source": [
    "### Description on both training and testing datasets"
   ]
  },
  {
   "cell_type": "code",
   "execution_count": 6,
   "id": "a4b57c192b2aa16e",
   "metadata": {
    "ExecuteTime": {
     "end_time": "2023-08-24T21:21:35.233646Z",
     "start_time": "2023-08-24T21:21:35.101308Z"
    }
   },
   "outputs": [
    {
     "data": {
      "text/html": [
       "<div>\n",
       "<style scoped>\n",
       "    .dataframe tbody tr th:only-of-type {\n",
       "        vertical-align: middle;\n",
       "    }\n",
       "\n",
       "    .dataframe tbody tr th {\n",
       "        vertical-align: top;\n",
       "    }\n",
       "\n",
       "    .dataframe thead th {\n",
       "        text-align: right;\n",
       "    }\n",
       "</style>\n",
       "<table border=\"1\" class=\"dataframe\">\n",
       "  <thead>\n",
       "    <tr style=\"text-align: right;\">\n",
       "      <th></th>\n",
       "      <th>id</th>\n",
       "      <th>store_nbr</th>\n",
       "      <th>onpromotion</th>\n",
       "      <th>cluster</th>\n",
       "      <th>dcoilwtico</th>\n",
       "      <th>holiday?</th>\n",
       "      <th>sales</th>\n",
       "    </tr>\n",
       "  </thead>\n",
       "  <tbody>\n",
       "    <tr>\n",
       "      <th>count</th>\n",
       "      <td>1048575.00</td>\n",
       "      <td>1048575.00</td>\n",
       "      <td>1048575.00</td>\n",
       "      <td>1048575.00</td>\n",
       "      <td>1048575.00</td>\n",
       "      <td>1048575.00</td>\n",
       "      <td>1048575.00</td>\n",
       "    </tr>\n",
       "    <tr>\n",
       "      <th>mean</th>\n",
       "      <td>524287.00</td>\n",
       "      <td>27.49</td>\n",
       "      <td>0.11</td>\n",
       "      <td>8.48</td>\n",
       "      <td>99.19</td>\n",
       "      <td>0.13</td>\n",
       "      <td>244.53</td>\n",
       "    </tr>\n",
       "    <tr>\n",
       "      <th>std</th>\n",
       "      <td>302697.67</td>\n",
       "      <td>15.58</td>\n",
       "      <td>2.38</td>\n",
       "      <td>4.65</td>\n",
       "      <td>4.31</td>\n",
       "      <td>0.34</td>\n",
       "      <td>806.59</td>\n",
       "    </tr>\n",
       "    <tr>\n",
       "      <th>min</th>\n",
       "      <td>0.00</td>\n",
       "      <td>1.00</td>\n",
       "      <td>0.00</td>\n",
       "      <td>1.00</td>\n",
       "      <td>86.65</td>\n",
       "      <td>0.00</td>\n",
       "      <td>0.00</td>\n",
       "    </tr>\n",
       "    <tr>\n",
       "      <th>25%</th>\n",
       "      <td>262143.50</td>\n",
       "      <td>14.00</td>\n",
       "      <td>0.00</td>\n",
       "      <td>4.00</td>\n",
       "      <td>96.29</td>\n",
       "      <td>0.00</td>\n",
       "      <td>0.00</td>\n",
       "    </tr>\n",
       "    <tr>\n",
       "      <th>50%</th>\n",
       "      <td>524287.00</td>\n",
       "      <td>27.00</td>\n",
       "      <td>0.00</td>\n",
       "      <td>9.00</td>\n",
       "      <td>99.19</td>\n",
       "      <td>0.00</td>\n",
       "      <td>1.00</td>\n",
       "    </tr>\n",
       "    <tr>\n",
       "      <th>75%</th>\n",
       "      <td>786430.50</td>\n",
       "      <td>41.00</td>\n",
       "      <td>0.00</td>\n",
       "      <td>13.00</td>\n",
       "      <td>101.92</td>\n",
       "      <td>0.00</td>\n",
       "      <td>120.00</td>\n",
       "    </tr>\n",
       "    <tr>\n",
       "      <th>max</th>\n",
       "      <td>1048574.00</td>\n",
       "      <td>54.00</td>\n",
       "      <td>196.00</td>\n",
       "      <td>17.00</td>\n",
       "      <td>110.62</td>\n",
       "      <td>1.00</td>\n",
       "      <td>46271.00</td>\n",
       "    </tr>\n",
       "  </tbody>\n",
       "</table>\n",
       "</div>"
      ],
      "text/plain": [
       "               id   store_nbr  onpromotion     cluster  dcoilwtico  \\\n",
       "count  1048575.00  1048575.00   1048575.00  1048575.00  1048575.00   \n",
       "mean    524287.00       27.49         0.11        8.48       99.19   \n",
       "std     302697.67       15.58         2.38        4.65        4.31   \n",
       "min          0.00        1.00         0.00        1.00       86.65   \n",
       "25%     262143.50       14.00         0.00        4.00       96.29   \n",
       "50%     524287.00       27.00         0.00        9.00       99.19   \n",
       "75%     786430.50       41.00         0.00       13.00      101.92   \n",
       "max    1048574.00       54.00       196.00       17.00      110.62   \n",
       "\n",
       "         holiday?       sales  \n",
       "count  1048575.00  1048575.00  \n",
       "mean         0.13      244.53  \n",
       "std          0.34      806.59  \n",
       "min          0.00        0.00  \n",
       "25%          0.00        0.00  \n",
       "50%          0.00        1.00  \n",
       "75%          0.00      120.00  \n",
       "max          1.00    46271.00  "
      ]
     },
     "execution_count": 6,
     "metadata": {},
     "output_type": "execute_result"
    }
   ],
   "source": [
    "df_train.describe().round(2)"
   ]
  },
  {
   "cell_type": "code",
   "execution_count": 7,
   "id": "eceac70ee0691c1c",
   "metadata": {
    "ExecuteTime": {
     "end_time": "2023-08-24T21:21:35.718128Z",
     "start_time": "2023-08-24T21:21:35.706397Z"
    }
   },
   "outputs": [
    {
     "data": {
      "text/html": [
       "<div>\n",
       "<style scoped>\n",
       "    .dataframe tbody tr th:only-of-type {\n",
       "        vertical-align: middle;\n",
       "    }\n",
       "\n",
       "    .dataframe tbody tr th {\n",
       "        vertical-align: top;\n",
       "    }\n",
       "\n",
       "    .dataframe thead th {\n",
       "        text-align: right;\n",
       "    }\n",
       "</style>\n",
       "<table border=\"1\" class=\"dataframe\">\n",
       "  <thead>\n",
       "    <tr style=\"text-align: right;\">\n",
       "      <th></th>\n",
       "      <th>id</th>\n",
       "      <th>store_nbr</th>\n",
       "      <th>onpromotion</th>\n",
       "      <th>cluster</th>\n",
       "      <th>dcoilwtico</th>\n",
       "      <th>holiday?</th>\n",
       "    </tr>\n",
       "  </thead>\n",
       "  <tbody>\n",
       "    <tr>\n",
       "      <th>count</th>\n",
       "      <td>28512.00</td>\n",
       "      <td>28512.00</td>\n",
       "      <td>28512.00</td>\n",
       "      <td>28512.00</td>\n",
       "      <td>28512.00</td>\n",
       "      <td>28512.00</td>\n",
       "    </tr>\n",
       "    <tr>\n",
       "      <th>mean</th>\n",
       "      <td>3015143.50</td>\n",
       "      <td>27.50</td>\n",
       "      <td>6.97</td>\n",
       "      <td>8.48</td>\n",
       "      <td>47.24</td>\n",
       "      <td>0.06</td>\n",
       "    </tr>\n",
       "    <tr>\n",
       "      <th>std</th>\n",
       "      <td>8230.85</td>\n",
       "      <td>15.59</td>\n",
       "      <td>20.68</td>\n",
       "      <td>4.65</td>\n",
       "      <td>0.65</td>\n",
       "      <td>0.24</td>\n",
       "    </tr>\n",
       "    <tr>\n",
       "      <th>min</th>\n",
       "      <td>3000888.00</td>\n",
       "      <td>1.00</td>\n",
       "      <td>0.00</td>\n",
       "      <td>1.00</td>\n",
       "      <td>45.96</td>\n",
       "      <td>0.00</td>\n",
       "    </tr>\n",
       "    <tr>\n",
       "      <th>25%</th>\n",
       "      <td>3008015.75</td>\n",
       "      <td>14.00</td>\n",
       "      <td>0.00</td>\n",
       "      <td>4.00</td>\n",
       "      <td>47.00</td>\n",
       "      <td>0.00</td>\n",
       "    </tr>\n",
       "    <tr>\n",
       "      <th>50%</th>\n",
       "      <td>3015143.50</td>\n",
       "      <td>27.50</td>\n",
       "      <td>0.00</td>\n",
       "      <td>8.50</td>\n",
       "      <td>47.24</td>\n",
       "      <td>0.00</td>\n",
       "    </tr>\n",
       "    <tr>\n",
       "      <th>75%</th>\n",
       "      <td>3022271.25</td>\n",
       "      <td>41.00</td>\n",
       "      <td>6.00</td>\n",
       "      <td>13.00</td>\n",
       "      <td>47.46</td>\n",
       "      <td>0.00</td>\n",
       "    </tr>\n",
       "    <tr>\n",
       "      <th>max</th>\n",
       "      <td>3029399.00</td>\n",
       "      <td>54.00</td>\n",
       "      <td>646.00</td>\n",
       "      <td>17.00</td>\n",
       "      <td>48.59</td>\n",
       "      <td>1.00</td>\n",
       "    </tr>\n",
       "  </tbody>\n",
       "</table>\n",
       "</div>"
      ],
      "text/plain": [
       "               id  store_nbr  onpromotion   cluster  dcoilwtico  holiday?\n",
       "count    28512.00   28512.00     28512.00  28512.00    28512.00  28512.00\n",
       "mean   3015143.50      27.50         6.97      8.48       47.24      0.06\n",
       "std       8230.85      15.59        20.68      4.65        0.65      0.24\n",
       "min    3000888.00       1.00         0.00      1.00       45.96      0.00\n",
       "25%    3008015.75      14.00         0.00      4.00       47.00      0.00\n",
       "50%    3015143.50      27.50         0.00      8.50       47.24      0.00\n",
       "75%    3022271.25      41.00         6.00     13.00       47.46      0.00\n",
       "max    3029399.00      54.00       646.00     17.00       48.59      1.00"
      ]
     },
     "execution_count": 7,
     "metadata": {},
     "output_type": "execute_result"
    }
   ],
   "source": [
    "df_test.describe().round(2)"
   ]
  },
  {
   "cell_type": "markdown",
   "id": "96fb00b0cedd8261",
   "metadata": {},
   "source": [
    "### Information about both training and testing datasets"
   ]
  },
  {
   "cell_type": "code",
   "execution_count": 8,
   "id": "9a2a2c26e42d8e23",
   "metadata": {
    "ExecuteTime": {
     "end_time": "2023-08-24T21:21:36.674236Z",
     "start_time": "2023-08-24T21:21:36.574678Z"
    }
   },
   "outputs": [
    {
     "name": "stdout",
     "output_type": "stream",
     "text": [
      "<class 'pandas.core.frame.DataFrame'>\n",
      "RangeIndex: 1048575 entries, 0 to 1048574\n",
      "Data columns (total 12 columns):\n",
      " #   Column       Non-Null Count    Dtype  \n",
      "---  ------       --------------    -----  \n",
      " 0   id           1048575 non-null  int64  \n",
      " 1   date         1048575 non-null  object \n",
      " 2   store_nbr    1048575 non-null  int64  \n",
      " 3   family       1048575 non-null  object \n",
      " 4   onpromotion  1048575 non-null  int64  \n",
      " 5   city         1048575 non-null  object \n",
      " 6   state        1048575 non-null  object \n",
      " 7   type         1048575 non-null  object \n",
      " 8   cluster      1048575 non-null  int64  \n",
      " 9   dcoilwtico   1048575 non-null  float64\n",
      " 10  holiday?     1048575 non-null  float64\n",
      " 11  sales        1048575 non-null  float64\n",
      "dtypes: float64(3), int64(4), object(5)\n",
      "memory usage: 96.0+ MB\n"
     ]
    }
   ],
   "source": [
    "df_train.info()"
   ]
  },
  {
   "cell_type": "code",
   "execution_count": 9,
   "id": "23f0cc504eda6add",
   "metadata": {
    "ExecuteTime": {
     "end_time": "2023-08-24T21:21:37.048072Z",
     "start_time": "2023-08-24T21:21:37.037866Z"
    }
   },
   "outputs": [
    {
     "name": "stdout",
     "output_type": "stream",
     "text": [
      "<class 'pandas.core.frame.DataFrame'>\n",
      "RangeIndex: 28512 entries, 0 to 28511\n",
      "Data columns (total 11 columns):\n",
      " #   Column       Non-Null Count  Dtype  \n",
      "---  ------       --------------  -----  \n",
      " 0   id           28512 non-null  int64  \n",
      " 1   date         28512 non-null  object \n",
      " 2   store_nbr    28512 non-null  int64  \n",
      " 3   family       28512 non-null  object \n",
      " 4   onpromotion  28512 non-null  int64  \n",
      " 5   city         28512 non-null  object \n",
      " 6   state        28512 non-null  object \n",
      " 7   type         28512 non-null  object \n",
      " 8   cluster      28512 non-null  int64  \n",
      " 9   dcoilwtico   28512 non-null  float64\n",
      " 10  holiday?     28512 non-null  float64\n",
      "dtypes: float64(2), int64(4), object(5)\n",
      "memory usage: 2.4+ MB\n"
     ]
    }
   ],
   "source": [
    "df_test.info()"
   ]
  },
  {
   "cell_type": "markdown",
   "id": "88f11b2972fa6fb9",
   "metadata": {},
   "source": [
    "### Conversion of date from object type to datetime[64ns] type"
   ]
  },
  {
   "cell_type": "code",
   "execution_count": 10,
   "id": "4e987cbe129c4b1c",
   "metadata": {
    "ExecuteTime": {
     "end_time": "2023-08-24T21:21:37.939575Z",
     "start_time": "2023-08-24T21:21:37.904658Z"
    }
   },
   "outputs": [],
   "source": [
    "df_train[\"date\"] = pd.to_datetime(df_train[\"date\"])\n",
    "df_test[\"date\"] = pd.to_datetime(df_test[\"date\"])"
   ]
  },
  {
   "cell_type": "markdown",
   "id": "4ab5ef06bb0c7949",
   "metadata": {},
   "source": [
    "### Checking for \"store\" column"
   ]
  },
  {
   "cell_type": "code",
   "execution_count": 11,
   "id": "bcc307c46bb26582",
   "metadata": {
    "ExecuteTime": {
     "end_time": "2023-08-24T21:21:38.599470Z",
     "start_time": "2023-08-24T21:21:38.586488Z"
    }
   },
   "outputs": [
    {
     "data": {
      "text/plain": [
       "array([ 1,  2,  3,  4,  5,  6,  7,  8,  9, 10, 11, 12, 13, 14, 15, 16, 17,\n",
       "       18, 19, 20, 21, 22, 23, 24, 25, 26, 27, 28, 29, 30, 31, 32, 33, 34,\n",
       "       35, 36, 37, 38, 39, 40, 41, 42, 43, 44, 45, 46, 47, 48, 49, 50, 51,\n",
       "       52, 53, 54])"
      ]
     },
     "execution_count": 11,
     "metadata": {},
     "output_type": "execute_result"
    }
   ],
   "source": [
    "store_num_train = df_train[\"store_nbr\"].unique()\n",
    "store_num_train.sort()\n",
    "store_num_train"
   ]
  },
  {
   "cell_type": "code",
   "execution_count": 12,
   "id": "1cbb9e3f4f8f77f9",
   "metadata": {
    "ExecuteTime": {
     "end_time": "2023-08-24T21:21:38.933663Z",
     "start_time": "2023-08-24T21:21:38.921301Z"
    }
   },
   "outputs": [
    {
     "data": {
      "text/plain": [
       "array([ 1,  2,  3,  4,  5,  6,  7,  8,  9, 10, 11, 12, 13, 14, 15, 16, 17,\n",
       "       18, 19, 20, 21, 22, 23, 24, 25, 26, 27, 28, 29, 30, 31, 32, 33, 34,\n",
       "       35, 36, 37, 38, 39, 40, 41, 42, 43, 44, 45, 46, 47, 48, 49, 50, 51,\n",
       "       52, 53, 54])"
      ]
     },
     "execution_count": 12,
     "metadata": {},
     "output_type": "execute_result"
    }
   ],
   "source": [
    "store_num_test = df_test[\"store_nbr\"].unique()\n",
    "store_num_test.sort()\n",
    "store_num_test"
   ]
  },
  {
   "cell_type": "markdown",
   "id": "9ab807f199ed9968",
   "metadata": {},
   "source": [
    "### Subtracting each element of store numbers for convenience"
   ]
  },
  {
   "cell_type": "code",
   "execution_count": 13,
   "id": "39b6ade447203d23",
   "metadata": {
    "ExecuteTime": {
     "end_time": "2023-08-24T21:21:39.648314Z",
     "start_time": "2023-08-24T21:21:39.607425Z"
    }
   },
   "outputs": [],
   "source": [
    "df_train_1 = df_train.copy()\n",
    "df_test_1 = df_test.copy()\n",
    "df_train_1[\"store_nbr\"] = df_train_1[\"store_nbr\"] - 1\n",
    "df_test_1[\"store_nbr\"] = df_test_1[\"store_nbr\"] - 1"
   ]
  },
  {
   "cell_type": "markdown",
   "id": "1bb354b873e3390",
   "metadata": {},
   "source": [
    "### Binary encoding function"
   ]
  },
  {
   "cell_type": "code",
   "execution_count": 14,
   "id": "54c9678de3127f75",
   "metadata": {
    "ExecuteTime": {
     "end_time": "2023-08-24T21:21:40.248715Z",
     "start_time": "2023-08-24T21:21:40.242604Z"
    }
   },
   "outputs": [],
   "source": [
    "def dec_to_bin(num):\n",
    "    n = num\n",
    "    st = []\n",
    "    while n > 0:\n",
    "        r = int(n % 2)\n",
    "        n = int(n / 2)\n",
    "        st.append(r)\n",
    "    fin = st[::-1]\n",
    "    return fin"
   ]
  },
  {
   "cell_type": "code",
   "execution_count": 15,
   "id": "ece91e0963b851fb",
   "metadata": {
    "ExecuteTime": {
     "end_time": "2023-08-24T21:21:40.506625Z",
     "start_time": "2023-08-24T21:21:40.502296Z"
    }
   },
   "outputs": [],
   "source": [
    "def bin_to_dec(num):\n",
    "    n = num[::-1]\n",
    "    st = 0\n",
    "    ctr = 0\n",
    "    for i in n:\n",
    "        st += i * pow(2,ctr)\n",
    "        ctr += 1\n",
    "    return int(st)"
   ]
  },
  {
   "cell_type": "code",
   "execution_count": 16,
   "id": "d9ca75e425d6fe8a",
   "metadata": {
    "ExecuteTime": {
     "end_time": "2023-08-24T21:21:40.789497Z",
     "start_time": "2023-08-24T21:21:40.784169Z"
    }
   },
   "outputs": [],
   "source": [
    "def max_len_bin(x, lt):\n",
    "    ctr = len(x)\n",
    "    if ctr < lt:\n",
    "        u = np.zeros(lt - ctr)\n",
    "        v = u.astype(\"int\")\n",
    "        t = list(v)\n",
    "        f = t + x\n",
    "    else:\n",
    "        f = x\n",
    "    return f"
   ]
  },
  {
   "cell_type": "code",
   "execution_count": 17,
   "id": "7f324bc28d76f319",
   "metadata": {
    "ExecuteTime": {
     "end_time": "2023-08-24T21:21:41.102798Z",
     "start_time": "2023-08-24T21:21:41.095806Z"
    }
   },
   "outputs": [],
   "source": [
    "def column_names(nam, col_num):\n",
    "    lis = []\n",
    "    for i in range(0, col_num):\n",
    "        t = nam + \"_\" + str(i)\n",
    "        lis.append(t)\n",
    "    return lis"
   ]
  },
  {
   "cell_type": "code",
   "execution_count": 18,
   "id": "2ca6af52c384cd4a",
   "metadata": {
    "ExecuteTime": {
     "end_time": "2023-08-24T21:21:41.409118Z",
     "start_time": "2023-08-24T21:21:41.404035Z"
    }
   },
   "outputs": [],
   "source": [
    "def binary_encoder(df,col_name):\n",
    "    bin_convert = lambda x: dec_to_bin(x)\n",
    "    bin_num = list(map(bin_convert,df[col_name]))\n",
    "    bin_len = lambda x: len(x)\n",
    "    max_bin = max(list(map(bin_len,bin_num)))\n",
    "    equal_len = lambda x: max_len_bin(x,max_bin)\n",
    "    equal_ele = list(map(equal_len,bin_num))\n",
    "    cols = column_names(col_name,max_bin)\n",
    "    df_bin = pd.DataFrame(equal_ele,columns=cols)\n",
    "    return df_bin"
   ]
  },
  {
   "cell_type": "code",
   "execution_count": 19,
   "id": "f46a80a6c60f1107",
   "metadata": {
    "ExecuteTime": {
     "end_time": "2023-08-24T21:21:45.049661Z",
     "start_time": "2023-08-24T21:21:41.717989Z"
    }
   },
   "outputs": [
    {
     "data": {
      "text/html": [
       "<div>\n",
       "<style scoped>\n",
       "    .dataframe tbody tr th:only-of-type {\n",
       "        vertical-align: middle;\n",
       "    }\n",
       "\n",
       "    .dataframe tbody tr th {\n",
       "        vertical-align: top;\n",
       "    }\n",
       "\n",
       "    .dataframe thead th {\n",
       "        text-align: right;\n",
       "    }\n",
       "</style>\n",
       "<table border=\"1\" class=\"dataframe\">\n",
       "  <thead>\n",
       "    <tr style=\"text-align: right;\">\n",
       "      <th></th>\n",
       "      <th>store_nbr_0</th>\n",
       "      <th>store_nbr_1</th>\n",
       "      <th>store_nbr_2</th>\n",
       "      <th>store_nbr_3</th>\n",
       "      <th>store_nbr_4</th>\n",
       "      <th>store_nbr_5</th>\n",
       "    </tr>\n",
       "  </thead>\n",
       "  <tbody>\n",
       "    <tr>\n",
       "      <th>0</th>\n",
       "      <td>0</td>\n",
       "      <td>0</td>\n",
       "      <td>0</td>\n",
       "      <td>0</td>\n",
       "      <td>0</td>\n",
       "      <td>0</td>\n",
       "    </tr>\n",
       "    <tr>\n",
       "      <th>1</th>\n",
       "      <td>0</td>\n",
       "      <td>0</td>\n",
       "      <td>0</td>\n",
       "      <td>0</td>\n",
       "      <td>0</td>\n",
       "      <td>0</td>\n",
       "    </tr>\n",
       "    <tr>\n",
       "      <th>2</th>\n",
       "      <td>0</td>\n",
       "      <td>0</td>\n",
       "      <td>0</td>\n",
       "      <td>0</td>\n",
       "      <td>0</td>\n",
       "      <td>0</td>\n",
       "    </tr>\n",
       "    <tr>\n",
       "      <th>3</th>\n",
       "      <td>0</td>\n",
       "      <td>0</td>\n",
       "      <td>0</td>\n",
       "      <td>0</td>\n",
       "      <td>0</td>\n",
       "      <td>0</td>\n",
       "    </tr>\n",
       "    <tr>\n",
       "      <th>4</th>\n",
       "      <td>0</td>\n",
       "      <td>0</td>\n",
       "      <td>0</td>\n",
       "      <td>0</td>\n",
       "      <td>0</td>\n",
       "      <td>0</td>\n",
       "    </tr>\n",
       "  </tbody>\n",
       "</table>\n",
       "</div>"
      ],
      "text/plain": [
       "   store_nbr_0  store_nbr_1  store_nbr_2  store_nbr_3  store_nbr_4  \\\n",
       "0            0            0            0            0            0   \n",
       "1            0            0            0            0            0   \n",
       "2            0            0            0            0            0   \n",
       "3            0            0            0            0            0   \n",
       "4            0            0            0            0            0   \n",
       "\n",
       "   store_nbr_5  \n",
       "0            0  \n",
       "1            0  \n",
       "2            0  \n",
       "3            0  \n",
       "4            0  "
      ]
     },
     "execution_count": 19,
     "metadata": {},
     "output_type": "execute_result"
    }
   ],
   "source": [
    "binary_encoder(df_train_1,\"store_nbr\").head()"
   ]
  },
  {
   "cell_type": "markdown",
   "id": "f320c0e9ddac976f",
   "metadata": {},
   "source": [
    "### Performing binary encoding for \"store_nbr\" column"
   ]
  },
  {
   "cell_type": "code",
   "execution_count": 20,
   "id": "a38c391f13f3947a",
   "metadata": {
    "ExecuteTime": {
     "end_time": "2023-08-24T21:21:48.429918Z",
     "start_time": "2023-08-24T21:21:45.074952Z"
    }
   },
   "outputs": [],
   "source": [
    "store_num_train = binary_encoder(df_train_1,\"store_nbr\")\n",
    "store_num_test = binary_encoder(df_test_1,\"store_nbr\")"
   ]
  },
  {
   "cell_type": "code",
   "execution_count": 21,
   "id": "8aaa611228603dea",
   "metadata": {
    "ExecuteTime": {
     "end_time": "2023-08-24T21:21:48.445716Z",
     "start_time": "2023-08-24T21:21:48.431131Z"
    }
   },
   "outputs": [
    {
     "data": {
      "text/html": [
       "<div>\n",
       "<style scoped>\n",
       "    .dataframe tbody tr th:only-of-type {\n",
       "        vertical-align: middle;\n",
       "    }\n",
       "\n",
       "    .dataframe tbody tr th {\n",
       "        vertical-align: top;\n",
       "    }\n",
       "\n",
       "    .dataframe thead th {\n",
       "        text-align: right;\n",
       "    }\n",
       "</style>\n",
       "<table border=\"1\" class=\"dataframe\">\n",
       "  <thead>\n",
       "    <tr style=\"text-align: right;\">\n",
       "      <th></th>\n",
       "      <th>store_nbr_0</th>\n",
       "      <th>store_nbr_1</th>\n",
       "      <th>store_nbr_2</th>\n",
       "      <th>store_nbr_3</th>\n",
       "      <th>store_nbr_4</th>\n",
       "      <th>store_nbr_5</th>\n",
       "    </tr>\n",
       "  </thead>\n",
       "  <tbody>\n",
       "    <tr>\n",
       "      <th>0</th>\n",
       "      <td>0</td>\n",
       "      <td>0</td>\n",
       "      <td>0</td>\n",
       "      <td>0</td>\n",
       "      <td>0</td>\n",
       "      <td>0</td>\n",
       "    </tr>\n",
       "    <tr>\n",
       "      <th>1</th>\n",
       "      <td>0</td>\n",
       "      <td>0</td>\n",
       "      <td>0</td>\n",
       "      <td>0</td>\n",
       "      <td>0</td>\n",
       "      <td>0</td>\n",
       "    </tr>\n",
       "    <tr>\n",
       "      <th>2</th>\n",
       "      <td>0</td>\n",
       "      <td>0</td>\n",
       "      <td>0</td>\n",
       "      <td>0</td>\n",
       "      <td>0</td>\n",
       "      <td>0</td>\n",
       "    </tr>\n",
       "    <tr>\n",
       "      <th>3</th>\n",
       "      <td>0</td>\n",
       "      <td>0</td>\n",
       "      <td>0</td>\n",
       "      <td>0</td>\n",
       "      <td>0</td>\n",
       "      <td>0</td>\n",
       "    </tr>\n",
       "    <tr>\n",
       "      <th>4</th>\n",
       "      <td>0</td>\n",
       "      <td>0</td>\n",
       "      <td>0</td>\n",
       "      <td>0</td>\n",
       "      <td>0</td>\n",
       "      <td>0</td>\n",
       "    </tr>\n",
       "  </tbody>\n",
       "</table>\n",
       "</div>"
      ],
      "text/plain": [
       "   store_nbr_0  store_nbr_1  store_nbr_2  store_nbr_3  store_nbr_4  \\\n",
       "0            0            0            0            0            0   \n",
       "1            0            0            0            0            0   \n",
       "2            0            0            0            0            0   \n",
       "3            0            0            0            0            0   \n",
       "4            0            0            0            0            0   \n",
       "\n",
       "   store_nbr_5  \n",
       "0            0  \n",
       "1            0  \n",
       "2            0  \n",
       "3            0  \n",
       "4            0  "
      ]
     },
     "execution_count": 21,
     "metadata": {},
     "output_type": "execute_result"
    }
   ],
   "source": [
    "store_num_train.head()"
   ]
  },
  {
   "cell_type": "code",
   "execution_count": 22,
   "id": "a5d67945e5b7b33c",
   "metadata": {
    "ExecuteTime": {
     "end_time": "2023-08-24T21:21:48.446214Z",
     "start_time": "2023-08-24T21:21:48.436275Z"
    }
   },
   "outputs": [
    {
     "data": {
      "text/html": [
       "<div>\n",
       "<style scoped>\n",
       "    .dataframe tbody tr th:only-of-type {\n",
       "        vertical-align: middle;\n",
       "    }\n",
       "\n",
       "    .dataframe tbody tr th {\n",
       "        vertical-align: top;\n",
       "    }\n",
       "\n",
       "    .dataframe thead th {\n",
       "        text-align: right;\n",
       "    }\n",
       "</style>\n",
       "<table border=\"1\" class=\"dataframe\">\n",
       "  <thead>\n",
       "    <tr style=\"text-align: right;\">\n",
       "      <th></th>\n",
       "      <th>store_nbr_0</th>\n",
       "      <th>store_nbr_1</th>\n",
       "      <th>store_nbr_2</th>\n",
       "      <th>store_nbr_3</th>\n",
       "      <th>store_nbr_4</th>\n",
       "      <th>store_nbr_5</th>\n",
       "    </tr>\n",
       "  </thead>\n",
       "  <tbody>\n",
       "    <tr>\n",
       "      <th>0</th>\n",
       "      <td>0</td>\n",
       "      <td>0</td>\n",
       "      <td>0</td>\n",
       "      <td>0</td>\n",
       "      <td>0</td>\n",
       "      <td>0</td>\n",
       "    </tr>\n",
       "    <tr>\n",
       "      <th>1</th>\n",
       "      <td>0</td>\n",
       "      <td>0</td>\n",
       "      <td>0</td>\n",
       "      <td>0</td>\n",
       "      <td>0</td>\n",
       "      <td>0</td>\n",
       "    </tr>\n",
       "    <tr>\n",
       "      <th>2</th>\n",
       "      <td>0</td>\n",
       "      <td>0</td>\n",
       "      <td>0</td>\n",
       "      <td>0</td>\n",
       "      <td>0</td>\n",
       "      <td>0</td>\n",
       "    </tr>\n",
       "    <tr>\n",
       "      <th>3</th>\n",
       "      <td>0</td>\n",
       "      <td>0</td>\n",
       "      <td>0</td>\n",
       "      <td>0</td>\n",
       "      <td>0</td>\n",
       "      <td>0</td>\n",
       "    </tr>\n",
       "    <tr>\n",
       "      <th>4</th>\n",
       "      <td>0</td>\n",
       "      <td>0</td>\n",
       "      <td>0</td>\n",
       "      <td>0</td>\n",
       "      <td>0</td>\n",
       "      <td>0</td>\n",
       "    </tr>\n",
       "  </tbody>\n",
       "</table>\n",
       "</div>"
      ],
      "text/plain": [
       "   store_nbr_0  store_nbr_1  store_nbr_2  store_nbr_3  store_nbr_4  \\\n",
       "0            0            0            0            0            0   \n",
       "1            0            0            0            0            0   \n",
       "2            0            0            0            0            0   \n",
       "3            0            0            0            0            0   \n",
       "4            0            0            0            0            0   \n",
       "\n",
       "   store_nbr_5  \n",
       "0            0  \n",
       "1            0  \n",
       "2            0  \n",
       "3            0  \n",
       "4            0  "
      ]
     },
     "execution_count": 22,
     "metadata": {},
     "output_type": "execute_result"
    }
   ],
   "source": [
    "store_num_test.head()"
   ]
  },
  {
   "cell_type": "code",
   "execution_count": 23,
   "id": "2a389f87b64b58c0",
   "metadata": {
    "ExecuteTime": {
     "end_time": "2023-08-24T21:21:48.446394Z",
     "start_time": "2023-08-24T21:21:48.438355Z"
    }
   },
   "outputs": [
    {
     "name": "stdout",
     "output_type": "stream",
     "text": [
      "Number of rows in training set :  1048575\n",
      "Number of rows in testing set  :  28512\n"
     ]
    }
   ],
   "source": [
    "print(\"Number of rows in training set : \",len(store_num_train))\n",
    "print(\"Number of rows in testing set  : \",len(store_num_test))"
   ]
  },
  {
   "cell_type": "code",
   "execution_count": 24,
   "id": "6ec816d6e2c9a372",
   "metadata": {
    "ExecuteTime": {
     "end_time": "2023-08-24T21:21:48.581774Z",
     "start_time": "2023-08-24T21:21:48.440756Z"
    }
   },
   "outputs": [],
   "source": [
    "df_train_2 = df_train_1.copy()\n",
    "df_test_2 = df_test_1.copy()\n",
    "df_train_2[store_num_train.columns.values] = store_num_train\n",
    "df_test_2[store_num_test.columns.values] = store_num_test\n",
    "df_train_2.drop(\"store_nbr\",axis=1,inplace=True)\n",
    "df_test_2.drop(\"store_nbr\",axis=1,inplace=True)\n",
    "df_train_2 = df_train_2[[\"id\",\"date\",\"store_nbr_0\",\"store_nbr_1\",\"store_nbr_2\",\"store_nbr_3\",\"store_nbr_4\",\"store_nbr_5\",\"family\",\"onpromotion\",\"city\",\"state\",\"type\",\"cluster\",\"dcoilwtico\",\"holiday?\",\"sales\"]]\n",
    "df_test_2 = df_test_2[[\"id\",\"date\",\"store_nbr_0\",\"store_nbr_1\",\"store_nbr_2\",\"store_nbr_3\",\"store_nbr_4\",\"store_nbr_5\",\"family\",\"onpromotion\",\"city\",\"state\",\"type\",\"cluster\",\"dcoilwtico\",\"holiday?\"]]"
   ]
  },
  {
   "cell_type": "code",
   "execution_count": 25,
   "id": "35d6cc7b318f111",
   "metadata": {
    "ExecuteTime": {
     "end_time": "2023-08-24T21:21:48.582574Z",
     "start_time": "2023-08-24T21:21:48.569851Z"
    }
   },
   "outputs": [
    {
     "data": {
      "text/html": [
       "<div>\n",
       "<style scoped>\n",
       "    .dataframe tbody tr th:only-of-type {\n",
       "        vertical-align: middle;\n",
       "    }\n",
       "\n",
       "    .dataframe tbody tr th {\n",
       "        vertical-align: top;\n",
       "    }\n",
       "\n",
       "    .dataframe thead th {\n",
       "        text-align: right;\n",
       "    }\n",
       "</style>\n",
       "<table border=\"1\" class=\"dataframe\">\n",
       "  <thead>\n",
       "    <tr style=\"text-align: right;\">\n",
       "      <th></th>\n",
       "      <th>id</th>\n",
       "      <th>date</th>\n",
       "      <th>store_nbr_0</th>\n",
       "      <th>store_nbr_1</th>\n",
       "      <th>store_nbr_2</th>\n",
       "      <th>store_nbr_3</th>\n",
       "      <th>store_nbr_4</th>\n",
       "      <th>store_nbr_5</th>\n",
       "      <th>family</th>\n",
       "      <th>onpromotion</th>\n",
       "      <th>city</th>\n",
       "      <th>state</th>\n",
       "      <th>type</th>\n",
       "      <th>cluster</th>\n",
       "      <th>dcoilwtico</th>\n",
       "      <th>holiday?</th>\n",
       "      <th>sales</th>\n",
       "    </tr>\n",
       "  </thead>\n",
       "  <tbody>\n",
       "    <tr>\n",
       "      <th>0</th>\n",
       "      <td>0</td>\n",
       "      <td>2013-01-01</td>\n",
       "      <td>0</td>\n",
       "      <td>0</td>\n",
       "      <td>0</td>\n",
       "      <td>0</td>\n",
       "      <td>0</td>\n",
       "      <td>0</td>\n",
       "      <td>AUTOMOTIVE</td>\n",
       "      <td>0</td>\n",
       "      <td>Quito</td>\n",
       "      <td>Pichincha</td>\n",
       "      <td>D</td>\n",
       "      <td>13</td>\n",
       "      <td>93.366</td>\n",
       "      <td>1.0</td>\n",
       "      <td>0.0</td>\n",
       "    </tr>\n",
       "    <tr>\n",
       "      <th>1</th>\n",
       "      <td>1</td>\n",
       "      <td>2013-01-01</td>\n",
       "      <td>0</td>\n",
       "      <td>0</td>\n",
       "      <td>0</td>\n",
       "      <td>0</td>\n",
       "      <td>0</td>\n",
       "      <td>0</td>\n",
       "      <td>BABY CARE</td>\n",
       "      <td>0</td>\n",
       "      <td>Quito</td>\n",
       "      <td>Pichincha</td>\n",
       "      <td>D</td>\n",
       "      <td>13</td>\n",
       "      <td>93.366</td>\n",
       "      <td>1.0</td>\n",
       "      <td>0.0</td>\n",
       "    </tr>\n",
       "    <tr>\n",
       "      <th>2</th>\n",
       "      <td>2</td>\n",
       "      <td>2013-01-01</td>\n",
       "      <td>0</td>\n",
       "      <td>0</td>\n",
       "      <td>0</td>\n",
       "      <td>0</td>\n",
       "      <td>0</td>\n",
       "      <td>0</td>\n",
       "      <td>BEAUTY</td>\n",
       "      <td>0</td>\n",
       "      <td>Quito</td>\n",
       "      <td>Pichincha</td>\n",
       "      <td>D</td>\n",
       "      <td>13</td>\n",
       "      <td>93.366</td>\n",
       "      <td>1.0</td>\n",
       "      <td>0.0</td>\n",
       "    </tr>\n",
       "    <tr>\n",
       "      <th>3</th>\n",
       "      <td>3</td>\n",
       "      <td>2013-01-01</td>\n",
       "      <td>0</td>\n",
       "      <td>0</td>\n",
       "      <td>0</td>\n",
       "      <td>0</td>\n",
       "      <td>0</td>\n",
       "      <td>0</td>\n",
       "      <td>BEVERAGES</td>\n",
       "      <td>0</td>\n",
       "      <td>Quito</td>\n",
       "      <td>Pichincha</td>\n",
       "      <td>D</td>\n",
       "      <td>13</td>\n",
       "      <td>93.366</td>\n",
       "      <td>1.0</td>\n",
       "      <td>0.0</td>\n",
       "    </tr>\n",
       "    <tr>\n",
       "      <th>4</th>\n",
       "      <td>4</td>\n",
       "      <td>2013-01-01</td>\n",
       "      <td>0</td>\n",
       "      <td>0</td>\n",
       "      <td>0</td>\n",
       "      <td>0</td>\n",
       "      <td>0</td>\n",
       "      <td>0</td>\n",
       "      <td>BOOKS</td>\n",
       "      <td>0</td>\n",
       "      <td>Quito</td>\n",
       "      <td>Pichincha</td>\n",
       "      <td>D</td>\n",
       "      <td>13</td>\n",
       "      <td>93.366</td>\n",
       "      <td>1.0</td>\n",
       "      <td>0.0</td>\n",
       "    </tr>\n",
       "  </tbody>\n",
       "</table>\n",
       "</div>"
      ],
      "text/plain": [
       "   id       date  store_nbr_0  store_nbr_1  store_nbr_2  store_nbr_3  \\\n",
       "0   0 2013-01-01            0            0            0            0   \n",
       "1   1 2013-01-01            0            0            0            0   \n",
       "2   2 2013-01-01            0            0            0            0   \n",
       "3   3 2013-01-01            0            0            0            0   \n",
       "4   4 2013-01-01            0            0            0            0   \n",
       "\n",
       "   store_nbr_4  store_nbr_5      family  onpromotion   city      state type  \\\n",
       "0            0            0  AUTOMOTIVE            0  Quito  Pichincha    D   \n",
       "1            0            0   BABY CARE            0  Quito  Pichincha    D   \n",
       "2            0            0      BEAUTY            0  Quito  Pichincha    D   \n",
       "3            0            0   BEVERAGES            0  Quito  Pichincha    D   \n",
       "4            0            0       BOOKS            0  Quito  Pichincha    D   \n",
       "\n",
       "   cluster  dcoilwtico  holiday?  sales  \n",
       "0       13      93.366       1.0    0.0  \n",
       "1       13      93.366       1.0    0.0  \n",
       "2       13      93.366       1.0    0.0  \n",
       "3       13      93.366       1.0    0.0  \n",
       "4       13      93.366       1.0    0.0  "
      ]
     },
     "execution_count": 25,
     "metadata": {},
     "output_type": "execute_result"
    }
   ],
   "source": [
    "df_train_2.head()"
   ]
  },
  {
   "cell_type": "code",
   "execution_count": 26,
   "id": "6ab21461dd1eefd6",
   "metadata": {
    "ExecuteTime": {
     "end_time": "2023-08-24T21:21:48.583029Z",
     "start_time": "2023-08-24T21:21:48.574636Z"
    }
   },
   "outputs": [
    {
     "data": {
      "text/html": [
       "<div>\n",
       "<style scoped>\n",
       "    .dataframe tbody tr th:only-of-type {\n",
       "        vertical-align: middle;\n",
       "    }\n",
       "\n",
       "    .dataframe tbody tr th {\n",
       "        vertical-align: top;\n",
       "    }\n",
       "\n",
       "    .dataframe thead th {\n",
       "        text-align: right;\n",
       "    }\n",
       "</style>\n",
       "<table border=\"1\" class=\"dataframe\">\n",
       "  <thead>\n",
       "    <tr style=\"text-align: right;\">\n",
       "      <th></th>\n",
       "      <th>id</th>\n",
       "      <th>date</th>\n",
       "      <th>store_nbr_0</th>\n",
       "      <th>store_nbr_1</th>\n",
       "      <th>store_nbr_2</th>\n",
       "      <th>store_nbr_3</th>\n",
       "      <th>store_nbr_4</th>\n",
       "      <th>store_nbr_5</th>\n",
       "      <th>family</th>\n",
       "      <th>onpromotion</th>\n",
       "      <th>city</th>\n",
       "      <th>state</th>\n",
       "      <th>type</th>\n",
       "      <th>cluster</th>\n",
       "      <th>dcoilwtico</th>\n",
       "      <th>holiday?</th>\n",
       "    </tr>\n",
       "  </thead>\n",
       "  <tbody>\n",
       "    <tr>\n",
       "      <th>0</th>\n",
       "      <td>3000888</td>\n",
       "      <td>2017-08-16</td>\n",
       "      <td>0</td>\n",
       "      <td>0</td>\n",
       "      <td>0</td>\n",
       "      <td>0</td>\n",
       "      <td>0</td>\n",
       "      <td>0</td>\n",
       "      <td>AUTOMOTIVE</td>\n",
       "      <td>0</td>\n",
       "      <td>Quito</td>\n",
       "      <td>Pichincha</td>\n",
       "      <td>D</td>\n",
       "      <td>13</td>\n",
       "      <td>46.8</td>\n",
       "      <td>0.0</td>\n",
       "    </tr>\n",
       "    <tr>\n",
       "      <th>1</th>\n",
       "      <td>3000889</td>\n",
       "      <td>2017-08-16</td>\n",
       "      <td>0</td>\n",
       "      <td>0</td>\n",
       "      <td>0</td>\n",
       "      <td>0</td>\n",
       "      <td>0</td>\n",
       "      <td>0</td>\n",
       "      <td>BABY CARE</td>\n",
       "      <td>0</td>\n",
       "      <td>Quito</td>\n",
       "      <td>Pichincha</td>\n",
       "      <td>D</td>\n",
       "      <td>13</td>\n",
       "      <td>46.8</td>\n",
       "      <td>0.0</td>\n",
       "    </tr>\n",
       "    <tr>\n",
       "      <th>2</th>\n",
       "      <td>3000890</td>\n",
       "      <td>2017-08-16</td>\n",
       "      <td>0</td>\n",
       "      <td>0</td>\n",
       "      <td>0</td>\n",
       "      <td>0</td>\n",
       "      <td>0</td>\n",
       "      <td>0</td>\n",
       "      <td>BEAUTY</td>\n",
       "      <td>2</td>\n",
       "      <td>Quito</td>\n",
       "      <td>Pichincha</td>\n",
       "      <td>D</td>\n",
       "      <td>13</td>\n",
       "      <td>46.8</td>\n",
       "      <td>0.0</td>\n",
       "    </tr>\n",
       "    <tr>\n",
       "      <th>3</th>\n",
       "      <td>3000891</td>\n",
       "      <td>2017-08-16</td>\n",
       "      <td>0</td>\n",
       "      <td>0</td>\n",
       "      <td>0</td>\n",
       "      <td>0</td>\n",
       "      <td>0</td>\n",
       "      <td>0</td>\n",
       "      <td>BEVERAGES</td>\n",
       "      <td>20</td>\n",
       "      <td>Quito</td>\n",
       "      <td>Pichincha</td>\n",
       "      <td>D</td>\n",
       "      <td>13</td>\n",
       "      <td>46.8</td>\n",
       "      <td>0.0</td>\n",
       "    </tr>\n",
       "    <tr>\n",
       "      <th>4</th>\n",
       "      <td>3000892</td>\n",
       "      <td>2017-08-16</td>\n",
       "      <td>0</td>\n",
       "      <td>0</td>\n",
       "      <td>0</td>\n",
       "      <td>0</td>\n",
       "      <td>0</td>\n",
       "      <td>0</td>\n",
       "      <td>BOOKS</td>\n",
       "      <td>0</td>\n",
       "      <td>Quito</td>\n",
       "      <td>Pichincha</td>\n",
       "      <td>D</td>\n",
       "      <td>13</td>\n",
       "      <td>46.8</td>\n",
       "      <td>0.0</td>\n",
       "    </tr>\n",
       "  </tbody>\n",
       "</table>\n",
       "</div>"
      ],
      "text/plain": [
       "        id       date  store_nbr_0  store_nbr_1  store_nbr_2  store_nbr_3  \\\n",
       "0  3000888 2017-08-16            0            0            0            0   \n",
       "1  3000889 2017-08-16            0            0            0            0   \n",
       "2  3000890 2017-08-16            0            0            0            0   \n",
       "3  3000891 2017-08-16            0            0            0            0   \n",
       "4  3000892 2017-08-16            0            0            0            0   \n",
       "\n",
       "   store_nbr_4  store_nbr_5      family  onpromotion   city      state type  \\\n",
       "0            0            0  AUTOMOTIVE            0  Quito  Pichincha    D   \n",
       "1            0            0   BABY CARE            0  Quito  Pichincha    D   \n",
       "2            0            0      BEAUTY            2  Quito  Pichincha    D   \n",
       "3            0            0   BEVERAGES           20  Quito  Pichincha    D   \n",
       "4            0            0       BOOKS            0  Quito  Pichincha    D   \n",
       "\n",
       "   cluster  dcoilwtico  holiday?  \n",
       "0       13        46.8       0.0  \n",
       "1       13        46.8       0.0  \n",
       "2       13        46.8       0.0  \n",
       "3       13        46.8       0.0  \n",
       "4       13        46.8       0.0  "
      ]
     },
     "execution_count": 26,
     "metadata": {},
     "output_type": "execute_result"
    }
   ],
   "source": [
    "df_test_2.head()"
   ]
  },
  {
   "cell_type": "code",
   "execution_count": 27,
   "id": "bbc9a524a4271128",
   "metadata": {
    "ExecuteTime": {
     "end_time": "2023-08-24T21:21:48.583172Z",
     "start_time": "2023-08-24T21:21:48.577410Z"
    }
   },
   "outputs": [
    {
     "name": "stdout",
     "output_type": "stream",
     "text": [
      "Number of rows in training set :  1048575\n",
      "Number of rows in testing set  :  28512\n"
     ]
    }
   ],
   "source": [
    "print(\"Number of rows in training set : \",len(df_train_2))\n",
    "print(\"Number of rows in testing set  : \",len(df_test_2))"
   ]
  },
  {
   "cell_type": "markdown",
   "id": "8b00641f3bca6bd5",
   "metadata": {},
   "source": [
    "### Checking for \"family\" column"
   ]
  },
  {
   "cell_type": "code",
   "execution_count": 28,
   "id": "b04472e0d65c225b",
   "metadata": {
    "ExecuteTime": {
     "end_time": "2023-08-24T21:21:48.622770Z",
     "start_time": "2023-08-24T21:21:48.598891Z"
    }
   },
   "outputs": [
    {
     "data": {
      "text/plain": [
       "array(['AUTOMOTIVE', 'BABY CARE', 'BEAUTY', 'BEVERAGES', 'BOOKS',\n",
       "       'BREAD/BAKERY', 'CELEBRATION', 'CLEANING', 'DAIRY', 'DELI', 'EGGS',\n",
       "       'FROZEN FOODS', 'GROCERY I', 'GROCERY II', 'HARDWARE',\n",
       "       'HOME AND KITCHEN I', 'HOME AND KITCHEN II', 'HOME APPLIANCES',\n",
       "       'HOME CARE', 'LADIESWEAR', 'LAWN AND GARDEN', 'LINGERIE',\n",
       "       'LIQUOR,WINE,BEER', 'MAGAZINES', 'MEATS', 'PERSONAL CARE',\n",
       "       'PET SUPPLIES', 'PLAYERS AND ELECTRONICS', 'POULTRY',\n",
       "       'PREPARED FOODS', 'PRODUCE', 'SCHOOL AND OFFICE SUPPLIES',\n",
       "       'SEAFOOD'], dtype=object)"
      ]
     },
     "execution_count": 28,
     "metadata": {},
     "output_type": "execute_result"
    }
   ],
   "source": [
    "df_train_2[\"family\"].unique()"
   ]
  },
  {
   "cell_type": "code",
   "execution_count": 29,
   "id": "9a693f0d06b39a2f",
   "metadata": {
    "ExecuteTime": {
     "end_time": "2023-08-24T21:21:48.634062Z",
     "start_time": "2023-08-24T21:21:48.611904Z"
    }
   },
   "outputs": [
    {
     "data": {
      "text/plain": [
       "array(['AUTOMOTIVE', 'BABY CARE', 'BEAUTY', 'BEVERAGES', 'BOOKS',\n",
       "       'BREAD/BAKERY', 'CELEBRATION', 'CLEANING', 'DAIRY', 'DELI', 'EGGS',\n",
       "       'FROZEN FOODS', 'GROCERY I', 'GROCERY II', 'HARDWARE',\n",
       "       'HOME AND KITCHEN I', 'HOME AND KITCHEN II', 'HOME APPLIANCES',\n",
       "       'HOME CARE', 'LADIESWEAR', 'LAWN AND GARDEN', 'LINGERIE',\n",
       "       'LIQUOR,WINE,BEER', 'MAGAZINES', 'MEATS', 'PERSONAL CARE',\n",
       "       'PET SUPPLIES', 'PLAYERS AND ELECTRONICS', 'POULTRY',\n",
       "       'PREPARED FOODS', 'PRODUCE', 'SCHOOL AND OFFICE SUPPLIES',\n",
       "       'SEAFOOD'], dtype=object)"
      ]
     },
     "execution_count": 29,
     "metadata": {},
     "output_type": "execute_result"
    }
   ],
   "source": [
    "df_test_2[\"family\"].unique()"
   ]
  },
  {
   "cell_type": "markdown",
   "id": "c63cb66695468c22",
   "metadata": {},
   "source": [
    "### Mapping family elements to numbers"
   ]
  },
  {
   "cell_type": "code",
   "execution_count": 30,
   "id": "72b2b8368be2ed4a",
   "metadata": {
    "ExecuteTime": {
     "end_time": "2023-08-24T21:21:48.767028Z",
     "start_time": "2023-08-24T21:21:48.632716Z"
    }
   },
   "outputs": [
    {
     "data": {
      "text/plain": [
       "{'AUTOMOTIVE': 0,\n",
       " 'BABY CARE': 1,\n",
       " 'BEAUTY': 2,\n",
       " 'BEVERAGES': 3,\n",
       " 'BOOKS': 4,\n",
       " 'BREAD/BAKERY': 5,\n",
       " 'CELEBRATION': 6,\n",
       " 'CLEANING': 7,\n",
       " 'DAIRY': 8,\n",
       " 'DELI': 9,\n",
       " 'EGGS': 10,\n",
       " 'FROZEN FOODS': 11,\n",
       " 'GROCERY I': 12,\n",
       " 'GROCERY II': 13,\n",
       " 'HARDWARE': 14,\n",
       " 'HOME AND KITCHEN I': 15,\n",
       " 'HOME AND KITCHEN II': 16,\n",
       " 'HOME APPLIANCES': 17,\n",
       " 'HOME CARE': 18,\n",
       " 'LADIESWEAR': 19,\n",
       " 'LAWN AND GARDEN': 20,\n",
       " 'LINGERIE': 21,\n",
       " 'LIQUOR,WINE,BEER': 22,\n",
       " 'MAGAZINES': 23,\n",
       " 'MEATS': 24,\n",
       " 'PERSONAL CARE': 25,\n",
       " 'PET SUPPLIES': 26,\n",
       " 'PLAYERS AND ELECTRONICS': 27,\n",
       " 'POULTRY': 28,\n",
       " 'PREPARED FOODS': 29,\n",
       " 'PRODUCE': 30,\n",
       " 'SCHOOL AND OFFICE SUPPLIES': 31,\n",
       " 'SEAFOOD': 32}"
      ]
     },
     "execution_count": 30,
     "metadata": {},
     "output_type": "execute_result"
    }
   ],
   "source": [
    "ctr = 0\n",
    "diction = dict()\n",
    "for i in df_train_2[\"family\"].unique():\n",
    "    diction[i] = ctr\n",
    "    ctr += 1\n",
    "diction"
   ]
  },
  {
   "cell_type": "code",
   "execution_count": 31,
   "id": "66624f27d924089c",
   "metadata": {
    "ExecuteTime": {
     "end_time": "2023-08-24T21:21:48.878260Z",
     "start_time": "2023-08-24T21:21:48.795265Z"
    }
   },
   "outputs": [],
   "source": [
    "fam_train = pd.DataFrame(df_train_2[\"family\"].map(diction))\n",
    "fam_test = pd.DataFrame(df_test_2[\"family\"].map(diction))"
   ]
  },
  {
   "cell_type": "code",
   "execution_count": 32,
   "id": "f9324560434303b6",
   "metadata": {
    "ExecuteTime": {
     "end_time": "2023-08-24T21:21:49.579410Z",
     "start_time": "2023-08-24T21:21:49.575099Z"
    }
   },
   "outputs": [
    {
     "data": {
      "text/html": [
       "<div>\n",
       "<style scoped>\n",
       "    .dataframe tbody tr th:only-of-type {\n",
       "        vertical-align: middle;\n",
       "    }\n",
       "\n",
       "    .dataframe tbody tr th {\n",
       "        vertical-align: top;\n",
       "    }\n",
       "\n",
       "    .dataframe thead th {\n",
       "        text-align: right;\n",
       "    }\n",
       "</style>\n",
       "<table border=\"1\" class=\"dataframe\">\n",
       "  <thead>\n",
       "    <tr style=\"text-align: right;\">\n",
       "      <th></th>\n",
       "      <th>family</th>\n",
       "    </tr>\n",
       "  </thead>\n",
       "  <tbody>\n",
       "    <tr>\n",
       "      <th>0</th>\n",
       "      <td>0</td>\n",
       "    </tr>\n",
       "    <tr>\n",
       "      <th>1</th>\n",
       "      <td>1</td>\n",
       "    </tr>\n",
       "    <tr>\n",
       "      <th>2</th>\n",
       "      <td>2</td>\n",
       "    </tr>\n",
       "    <tr>\n",
       "      <th>3</th>\n",
       "      <td>3</td>\n",
       "    </tr>\n",
       "    <tr>\n",
       "      <th>4</th>\n",
       "      <td>4</td>\n",
       "    </tr>\n",
       "  </tbody>\n",
       "</table>\n",
       "</div>"
      ],
      "text/plain": [
       "   family\n",
       "0       0\n",
       "1       1\n",
       "2       2\n",
       "3       3\n",
       "4       4"
      ]
     },
     "execution_count": 32,
     "metadata": {},
     "output_type": "execute_result"
    }
   ],
   "source": [
    "fam_train.head()"
   ]
  },
  {
   "cell_type": "code",
   "execution_count": 33,
   "id": "a63cb7c6321451e9",
   "metadata": {
    "ExecuteTime": {
     "end_time": "2023-08-24T21:21:50.218959Z",
     "start_time": "2023-08-24T21:21:50.215232Z"
    }
   },
   "outputs": [
    {
     "data": {
      "text/html": [
       "<div>\n",
       "<style scoped>\n",
       "    .dataframe tbody tr th:only-of-type {\n",
       "        vertical-align: middle;\n",
       "    }\n",
       "\n",
       "    .dataframe tbody tr th {\n",
       "        vertical-align: top;\n",
       "    }\n",
       "\n",
       "    .dataframe thead th {\n",
       "        text-align: right;\n",
       "    }\n",
       "</style>\n",
       "<table border=\"1\" class=\"dataframe\">\n",
       "  <thead>\n",
       "    <tr style=\"text-align: right;\">\n",
       "      <th></th>\n",
       "      <th>family</th>\n",
       "    </tr>\n",
       "  </thead>\n",
       "  <tbody>\n",
       "    <tr>\n",
       "      <th>0</th>\n",
       "      <td>0</td>\n",
       "    </tr>\n",
       "    <tr>\n",
       "      <th>1</th>\n",
       "      <td>1</td>\n",
       "    </tr>\n",
       "    <tr>\n",
       "      <th>2</th>\n",
       "      <td>2</td>\n",
       "    </tr>\n",
       "    <tr>\n",
       "      <th>3</th>\n",
       "      <td>3</td>\n",
       "    </tr>\n",
       "    <tr>\n",
       "      <th>4</th>\n",
       "      <td>4</td>\n",
       "    </tr>\n",
       "  </tbody>\n",
       "</table>\n",
       "</div>"
      ],
      "text/plain": [
       "   family\n",
       "0       0\n",
       "1       1\n",
       "2       2\n",
       "3       3\n",
       "4       4"
      ]
     },
     "execution_count": 33,
     "metadata": {},
     "output_type": "execute_result"
    }
   ],
   "source": [
    "fam_test.head()"
   ]
  },
  {
   "cell_type": "code",
   "execution_count": 34,
   "id": "78a8f7b0c0801423",
   "metadata": {
    "ExecuteTime": {
     "end_time": "2023-08-24T21:21:50.662654Z",
     "start_time": "2023-08-24T21:21:50.654737Z"
    }
   },
   "outputs": [
    {
     "name": "stdout",
     "output_type": "stream",
     "text": [
      "Number of rows in training set :  1048575\n",
      "Number of rows in testing set  :  28512\n"
     ]
    }
   ],
   "source": [
    "print(\"Number of rows in training set : \",len(fam_train))\n",
    "print(\"Number of rows in testing set  : \",len(fam_test))"
   ]
  },
  {
   "cell_type": "markdown",
   "id": "dc5b94b064eaaf01",
   "metadata": {},
   "source": [
    "### Performing binary encoding on \"family\" column"
   ]
  },
  {
   "cell_type": "code",
   "execution_count": 35,
   "id": "7083932f84f4e796",
   "metadata": {
    "ExecuteTime": {
     "end_time": "2023-08-24T21:21:56.176722Z",
     "start_time": "2023-08-24T21:21:51.689592Z"
    }
   },
   "outputs": [],
   "source": [
    "family_train = binary_encoder(fam_train,\"family\")\n",
    "family_test = binary_encoder(fam_test,\"family\")"
   ]
  },
  {
   "cell_type": "code",
   "execution_count": 36,
   "id": "1ad859dcba98618f",
   "metadata": {
    "ExecuteTime": {
     "end_time": "2023-08-24T21:21:56.182539Z",
     "start_time": "2023-08-24T21:21:56.178216Z"
    }
   },
   "outputs": [
    {
     "data": {
      "text/html": [
       "<div>\n",
       "<style scoped>\n",
       "    .dataframe tbody tr th:only-of-type {\n",
       "        vertical-align: middle;\n",
       "    }\n",
       "\n",
       "    .dataframe tbody tr th {\n",
       "        vertical-align: top;\n",
       "    }\n",
       "\n",
       "    .dataframe thead th {\n",
       "        text-align: right;\n",
       "    }\n",
       "</style>\n",
       "<table border=\"1\" class=\"dataframe\">\n",
       "  <thead>\n",
       "    <tr style=\"text-align: right;\">\n",
       "      <th></th>\n",
       "      <th>family_0</th>\n",
       "      <th>family_1</th>\n",
       "      <th>family_2</th>\n",
       "      <th>family_3</th>\n",
       "      <th>family_4</th>\n",
       "      <th>family_5</th>\n",
       "    </tr>\n",
       "  </thead>\n",
       "  <tbody>\n",
       "    <tr>\n",
       "      <th>0</th>\n",
       "      <td>0</td>\n",
       "      <td>0</td>\n",
       "      <td>0</td>\n",
       "      <td>0</td>\n",
       "      <td>0</td>\n",
       "      <td>0</td>\n",
       "    </tr>\n",
       "    <tr>\n",
       "      <th>1</th>\n",
       "      <td>0</td>\n",
       "      <td>0</td>\n",
       "      <td>0</td>\n",
       "      <td>0</td>\n",
       "      <td>0</td>\n",
       "      <td>1</td>\n",
       "    </tr>\n",
       "    <tr>\n",
       "      <th>2</th>\n",
       "      <td>0</td>\n",
       "      <td>0</td>\n",
       "      <td>0</td>\n",
       "      <td>0</td>\n",
       "      <td>1</td>\n",
       "      <td>0</td>\n",
       "    </tr>\n",
       "    <tr>\n",
       "      <th>3</th>\n",
       "      <td>0</td>\n",
       "      <td>0</td>\n",
       "      <td>0</td>\n",
       "      <td>0</td>\n",
       "      <td>1</td>\n",
       "      <td>1</td>\n",
       "    </tr>\n",
       "    <tr>\n",
       "      <th>4</th>\n",
       "      <td>0</td>\n",
       "      <td>0</td>\n",
       "      <td>0</td>\n",
       "      <td>1</td>\n",
       "      <td>0</td>\n",
       "      <td>0</td>\n",
       "    </tr>\n",
       "  </tbody>\n",
       "</table>\n",
       "</div>"
      ],
      "text/plain": [
       "   family_0  family_1  family_2  family_3  family_4  family_5\n",
       "0         0         0         0         0         0         0\n",
       "1         0         0         0         0         0         1\n",
       "2         0         0         0         0         1         0\n",
       "3         0         0         0         0         1         1\n",
       "4         0         0         0         1         0         0"
      ]
     },
     "execution_count": 36,
     "metadata": {},
     "output_type": "execute_result"
    }
   ],
   "source": [
    "family_train.head()"
   ]
  },
  {
   "cell_type": "code",
   "execution_count": 37,
   "id": "62c613acf1c721aa",
   "metadata": {
    "ExecuteTime": {
     "end_time": "2023-08-24T21:21:56.184730Z",
     "start_time": "2023-08-24T21:21:56.182345Z"
    }
   },
   "outputs": [
    {
     "data": {
      "text/html": [
       "<div>\n",
       "<style scoped>\n",
       "    .dataframe tbody tr th:only-of-type {\n",
       "        vertical-align: middle;\n",
       "    }\n",
       "\n",
       "    .dataframe tbody tr th {\n",
       "        vertical-align: top;\n",
       "    }\n",
       "\n",
       "    .dataframe thead th {\n",
       "        text-align: right;\n",
       "    }\n",
       "</style>\n",
       "<table border=\"1\" class=\"dataframe\">\n",
       "  <thead>\n",
       "    <tr style=\"text-align: right;\">\n",
       "      <th></th>\n",
       "      <th>family_0</th>\n",
       "      <th>family_1</th>\n",
       "      <th>family_2</th>\n",
       "      <th>family_3</th>\n",
       "      <th>family_4</th>\n",
       "      <th>family_5</th>\n",
       "    </tr>\n",
       "  </thead>\n",
       "  <tbody>\n",
       "    <tr>\n",
       "      <th>0</th>\n",
       "      <td>0</td>\n",
       "      <td>0</td>\n",
       "      <td>0</td>\n",
       "      <td>0</td>\n",
       "      <td>0</td>\n",
       "      <td>0</td>\n",
       "    </tr>\n",
       "    <tr>\n",
       "      <th>1</th>\n",
       "      <td>0</td>\n",
       "      <td>0</td>\n",
       "      <td>0</td>\n",
       "      <td>0</td>\n",
       "      <td>0</td>\n",
       "      <td>1</td>\n",
       "    </tr>\n",
       "    <tr>\n",
       "      <th>2</th>\n",
       "      <td>0</td>\n",
       "      <td>0</td>\n",
       "      <td>0</td>\n",
       "      <td>0</td>\n",
       "      <td>1</td>\n",
       "      <td>0</td>\n",
       "    </tr>\n",
       "    <tr>\n",
       "      <th>3</th>\n",
       "      <td>0</td>\n",
       "      <td>0</td>\n",
       "      <td>0</td>\n",
       "      <td>0</td>\n",
       "      <td>1</td>\n",
       "      <td>1</td>\n",
       "    </tr>\n",
       "    <tr>\n",
       "      <th>4</th>\n",
       "      <td>0</td>\n",
       "      <td>0</td>\n",
       "      <td>0</td>\n",
       "      <td>1</td>\n",
       "      <td>0</td>\n",
       "      <td>0</td>\n",
       "    </tr>\n",
       "  </tbody>\n",
       "</table>\n",
       "</div>"
      ],
      "text/plain": [
       "   family_0  family_1  family_2  family_3  family_4  family_5\n",
       "0         0         0         0         0         0         0\n",
       "1         0         0         0         0         0         1\n",
       "2         0         0         0         0         1         0\n",
       "3         0         0         0         0         1         1\n",
       "4         0         0         0         1         0         0"
      ]
     },
     "execution_count": 37,
     "metadata": {},
     "output_type": "execute_result"
    }
   ],
   "source": [
    "family_test.head()"
   ]
  },
  {
   "cell_type": "code",
   "execution_count": 38,
   "id": "f7151c14170ddf87",
   "metadata": {
    "ExecuteTime": {
     "end_time": "2023-08-24T21:21:56.345200Z",
     "start_time": "2023-08-24T21:21:56.186381Z"
    }
   },
   "outputs": [],
   "source": [
    "df_train_3 = df_train_2.copy()\n",
    "df_test_3 = df_test_2.copy()\n",
    "df_train_3[family_train.columns.values] = family_train\n",
    "df_test_3[family_test.columns.values] = family_test\n",
    "df_train_3.drop(\"family\",axis=1,inplace=True)\n",
    "df_test_3.drop(\"family\",axis=1,inplace=True)\n",
    "df_train_3 = df_train_3[[\"id\",\"date\",\"store_nbr_0\",\"store_nbr_1\",\"store_nbr_2\",\"store_nbr_3\",\"store_nbr_4\",\"store_nbr_5\",\"family_0\",\"family_1\",\"family_2\",\"family_3\",\"family_4\",\"family_5\",\"onpromotion\",\"city\",\"state\",\"type\",\"cluster\",\"dcoilwtico\",\"holiday?\",\"sales\"]]\n",
    "df_test_3 = df_test_3[[\"id\",\"date\",\"store_nbr_0\",\"store_nbr_1\",\"store_nbr_2\",\"store_nbr_3\",\"store_nbr_4\",\"store_nbr_5\",\"family_0\",\"family_1\",\"family_2\",\"family_3\",\"family_4\",\"family_5\",\"onpromotion\",\"city\",\"state\",\"type\",\"cluster\",\"dcoilwtico\",\"holiday?\"]]"
   ]
  },
  {
   "cell_type": "code",
   "execution_count": 39,
   "id": "df8b05e44eea159c",
   "metadata": {
    "ExecuteTime": {
     "end_time": "2023-08-24T21:21:56.346204Z",
     "start_time": "2023-08-24T21:21:56.340151Z"
    }
   },
   "outputs": [
    {
     "data": {
      "text/html": [
       "<div>\n",
       "<style scoped>\n",
       "    .dataframe tbody tr th:only-of-type {\n",
       "        vertical-align: middle;\n",
       "    }\n",
       "\n",
       "    .dataframe tbody tr th {\n",
       "        vertical-align: top;\n",
       "    }\n",
       "\n",
       "    .dataframe thead th {\n",
       "        text-align: right;\n",
       "    }\n",
       "</style>\n",
       "<table border=\"1\" class=\"dataframe\">\n",
       "  <thead>\n",
       "    <tr style=\"text-align: right;\">\n",
       "      <th></th>\n",
       "      <th>id</th>\n",
       "      <th>date</th>\n",
       "      <th>store_nbr_0</th>\n",
       "      <th>store_nbr_1</th>\n",
       "      <th>store_nbr_2</th>\n",
       "      <th>store_nbr_3</th>\n",
       "      <th>store_nbr_4</th>\n",
       "      <th>store_nbr_5</th>\n",
       "      <th>family_0</th>\n",
       "      <th>family_1</th>\n",
       "      <th>...</th>\n",
       "      <th>family_4</th>\n",
       "      <th>family_5</th>\n",
       "      <th>onpromotion</th>\n",
       "      <th>city</th>\n",
       "      <th>state</th>\n",
       "      <th>type</th>\n",
       "      <th>cluster</th>\n",
       "      <th>dcoilwtico</th>\n",
       "      <th>holiday?</th>\n",
       "      <th>sales</th>\n",
       "    </tr>\n",
       "  </thead>\n",
       "  <tbody>\n",
       "    <tr>\n",
       "      <th>0</th>\n",
       "      <td>0</td>\n",
       "      <td>2013-01-01</td>\n",
       "      <td>0</td>\n",
       "      <td>0</td>\n",
       "      <td>0</td>\n",
       "      <td>0</td>\n",
       "      <td>0</td>\n",
       "      <td>0</td>\n",
       "      <td>0</td>\n",
       "      <td>0</td>\n",
       "      <td>...</td>\n",
       "      <td>0</td>\n",
       "      <td>0</td>\n",
       "      <td>0</td>\n",
       "      <td>Quito</td>\n",
       "      <td>Pichincha</td>\n",
       "      <td>D</td>\n",
       "      <td>13</td>\n",
       "      <td>93.366</td>\n",
       "      <td>1.0</td>\n",
       "      <td>0.0</td>\n",
       "    </tr>\n",
       "    <tr>\n",
       "      <th>1</th>\n",
       "      <td>1</td>\n",
       "      <td>2013-01-01</td>\n",
       "      <td>0</td>\n",
       "      <td>0</td>\n",
       "      <td>0</td>\n",
       "      <td>0</td>\n",
       "      <td>0</td>\n",
       "      <td>0</td>\n",
       "      <td>0</td>\n",
       "      <td>0</td>\n",
       "      <td>...</td>\n",
       "      <td>0</td>\n",
       "      <td>1</td>\n",
       "      <td>0</td>\n",
       "      <td>Quito</td>\n",
       "      <td>Pichincha</td>\n",
       "      <td>D</td>\n",
       "      <td>13</td>\n",
       "      <td>93.366</td>\n",
       "      <td>1.0</td>\n",
       "      <td>0.0</td>\n",
       "    </tr>\n",
       "    <tr>\n",
       "      <th>2</th>\n",
       "      <td>2</td>\n",
       "      <td>2013-01-01</td>\n",
       "      <td>0</td>\n",
       "      <td>0</td>\n",
       "      <td>0</td>\n",
       "      <td>0</td>\n",
       "      <td>0</td>\n",
       "      <td>0</td>\n",
       "      <td>0</td>\n",
       "      <td>0</td>\n",
       "      <td>...</td>\n",
       "      <td>1</td>\n",
       "      <td>0</td>\n",
       "      <td>0</td>\n",
       "      <td>Quito</td>\n",
       "      <td>Pichincha</td>\n",
       "      <td>D</td>\n",
       "      <td>13</td>\n",
       "      <td>93.366</td>\n",
       "      <td>1.0</td>\n",
       "      <td>0.0</td>\n",
       "    </tr>\n",
       "    <tr>\n",
       "      <th>3</th>\n",
       "      <td>3</td>\n",
       "      <td>2013-01-01</td>\n",
       "      <td>0</td>\n",
       "      <td>0</td>\n",
       "      <td>0</td>\n",
       "      <td>0</td>\n",
       "      <td>0</td>\n",
       "      <td>0</td>\n",
       "      <td>0</td>\n",
       "      <td>0</td>\n",
       "      <td>...</td>\n",
       "      <td>1</td>\n",
       "      <td>1</td>\n",
       "      <td>0</td>\n",
       "      <td>Quito</td>\n",
       "      <td>Pichincha</td>\n",
       "      <td>D</td>\n",
       "      <td>13</td>\n",
       "      <td>93.366</td>\n",
       "      <td>1.0</td>\n",
       "      <td>0.0</td>\n",
       "    </tr>\n",
       "    <tr>\n",
       "      <th>4</th>\n",
       "      <td>4</td>\n",
       "      <td>2013-01-01</td>\n",
       "      <td>0</td>\n",
       "      <td>0</td>\n",
       "      <td>0</td>\n",
       "      <td>0</td>\n",
       "      <td>0</td>\n",
       "      <td>0</td>\n",
       "      <td>0</td>\n",
       "      <td>0</td>\n",
       "      <td>...</td>\n",
       "      <td>0</td>\n",
       "      <td>0</td>\n",
       "      <td>0</td>\n",
       "      <td>Quito</td>\n",
       "      <td>Pichincha</td>\n",
       "      <td>D</td>\n",
       "      <td>13</td>\n",
       "      <td>93.366</td>\n",
       "      <td>1.0</td>\n",
       "      <td>0.0</td>\n",
       "    </tr>\n",
       "  </tbody>\n",
       "</table>\n",
       "<p>5 rows × 22 columns</p>\n",
       "</div>"
      ],
      "text/plain": [
       "   id       date  store_nbr_0  store_nbr_1  store_nbr_2  store_nbr_3  \\\n",
       "0   0 2013-01-01            0            0            0            0   \n",
       "1   1 2013-01-01            0            0            0            0   \n",
       "2   2 2013-01-01            0            0            0            0   \n",
       "3   3 2013-01-01            0            0            0            0   \n",
       "4   4 2013-01-01            0            0            0            0   \n",
       "\n",
       "   store_nbr_4  store_nbr_5  family_0  family_1  ...  family_4  family_5  \\\n",
       "0            0            0         0         0  ...         0         0   \n",
       "1            0            0         0         0  ...         0         1   \n",
       "2            0            0         0         0  ...         1         0   \n",
       "3            0            0         0         0  ...         1         1   \n",
       "4            0            0         0         0  ...         0         0   \n",
       "\n",
       "   onpromotion   city      state type cluster dcoilwtico  holiday?  sales  \n",
       "0            0  Quito  Pichincha    D      13     93.366       1.0    0.0  \n",
       "1            0  Quito  Pichincha    D      13     93.366       1.0    0.0  \n",
       "2            0  Quito  Pichincha    D      13     93.366       1.0    0.0  \n",
       "3            0  Quito  Pichincha    D      13     93.366       1.0    0.0  \n",
       "4            0  Quito  Pichincha    D      13     93.366       1.0    0.0  \n",
       "\n",
       "[5 rows x 22 columns]"
      ]
     },
     "execution_count": 39,
     "metadata": {},
     "output_type": "execute_result"
    }
   ],
   "source": [
    "df_train_3.head()"
   ]
  },
  {
   "cell_type": "code",
   "execution_count": 40,
   "id": "42e3fa223327eb68",
   "metadata": {
    "ExecuteTime": {
     "end_time": "2023-08-24T21:21:56.349886Z",
     "start_time": "2023-08-24T21:21:56.342532Z"
    }
   },
   "outputs": [
    {
     "data": {
      "text/html": [
       "<div>\n",
       "<style scoped>\n",
       "    .dataframe tbody tr th:only-of-type {\n",
       "        vertical-align: middle;\n",
       "    }\n",
       "\n",
       "    .dataframe tbody tr th {\n",
       "        vertical-align: top;\n",
       "    }\n",
       "\n",
       "    .dataframe thead th {\n",
       "        text-align: right;\n",
       "    }\n",
       "</style>\n",
       "<table border=\"1\" class=\"dataframe\">\n",
       "  <thead>\n",
       "    <tr style=\"text-align: right;\">\n",
       "      <th></th>\n",
       "      <th>id</th>\n",
       "      <th>date</th>\n",
       "      <th>store_nbr_0</th>\n",
       "      <th>store_nbr_1</th>\n",
       "      <th>store_nbr_2</th>\n",
       "      <th>store_nbr_3</th>\n",
       "      <th>store_nbr_4</th>\n",
       "      <th>store_nbr_5</th>\n",
       "      <th>family_0</th>\n",
       "      <th>family_1</th>\n",
       "      <th>...</th>\n",
       "      <th>family_3</th>\n",
       "      <th>family_4</th>\n",
       "      <th>family_5</th>\n",
       "      <th>onpromotion</th>\n",
       "      <th>city</th>\n",
       "      <th>state</th>\n",
       "      <th>type</th>\n",
       "      <th>cluster</th>\n",
       "      <th>dcoilwtico</th>\n",
       "      <th>holiday?</th>\n",
       "    </tr>\n",
       "  </thead>\n",
       "  <tbody>\n",
       "    <tr>\n",
       "      <th>0</th>\n",
       "      <td>3000888</td>\n",
       "      <td>2017-08-16</td>\n",
       "      <td>0</td>\n",
       "      <td>0</td>\n",
       "      <td>0</td>\n",
       "      <td>0</td>\n",
       "      <td>0</td>\n",
       "      <td>0</td>\n",
       "      <td>0</td>\n",
       "      <td>0</td>\n",
       "      <td>...</td>\n",
       "      <td>0</td>\n",
       "      <td>0</td>\n",
       "      <td>0</td>\n",
       "      <td>0</td>\n",
       "      <td>Quito</td>\n",
       "      <td>Pichincha</td>\n",
       "      <td>D</td>\n",
       "      <td>13</td>\n",
       "      <td>46.8</td>\n",
       "      <td>0.0</td>\n",
       "    </tr>\n",
       "    <tr>\n",
       "      <th>1</th>\n",
       "      <td>3000889</td>\n",
       "      <td>2017-08-16</td>\n",
       "      <td>0</td>\n",
       "      <td>0</td>\n",
       "      <td>0</td>\n",
       "      <td>0</td>\n",
       "      <td>0</td>\n",
       "      <td>0</td>\n",
       "      <td>0</td>\n",
       "      <td>0</td>\n",
       "      <td>...</td>\n",
       "      <td>0</td>\n",
       "      <td>0</td>\n",
       "      <td>1</td>\n",
       "      <td>0</td>\n",
       "      <td>Quito</td>\n",
       "      <td>Pichincha</td>\n",
       "      <td>D</td>\n",
       "      <td>13</td>\n",
       "      <td>46.8</td>\n",
       "      <td>0.0</td>\n",
       "    </tr>\n",
       "    <tr>\n",
       "      <th>2</th>\n",
       "      <td>3000890</td>\n",
       "      <td>2017-08-16</td>\n",
       "      <td>0</td>\n",
       "      <td>0</td>\n",
       "      <td>0</td>\n",
       "      <td>0</td>\n",
       "      <td>0</td>\n",
       "      <td>0</td>\n",
       "      <td>0</td>\n",
       "      <td>0</td>\n",
       "      <td>...</td>\n",
       "      <td>0</td>\n",
       "      <td>1</td>\n",
       "      <td>0</td>\n",
       "      <td>2</td>\n",
       "      <td>Quito</td>\n",
       "      <td>Pichincha</td>\n",
       "      <td>D</td>\n",
       "      <td>13</td>\n",
       "      <td>46.8</td>\n",
       "      <td>0.0</td>\n",
       "    </tr>\n",
       "    <tr>\n",
       "      <th>3</th>\n",
       "      <td>3000891</td>\n",
       "      <td>2017-08-16</td>\n",
       "      <td>0</td>\n",
       "      <td>0</td>\n",
       "      <td>0</td>\n",
       "      <td>0</td>\n",
       "      <td>0</td>\n",
       "      <td>0</td>\n",
       "      <td>0</td>\n",
       "      <td>0</td>\n",
       "      <td>...</td>\n",
       "      <td>0</td>\n",
       "      <td>1</td>\n",
       "      <td>1</td>\n",
       "      <td>20</td>\n",
       "      <td>Quito</td>\n",
       "      <td>Pichincha</td>\n",
       "      <td>D</td>\n",
       "      <td>13</td>\n",
       "      <td>46.8</td>\n",
       "      <td>0.0</td>\n",
       "    </tr>\n",
       "    <tr>\n",
       "      <th>4</th>\n",
       "      <td>3000892</td>\n",
       "      <td>2017-08-16</td>\n",
       "      <td>0</td>\n",
       "      <td>0</td>\n",
       "      <td>0</td>\n",
       "      <td>0</td>\n",
       "      <td>0</td>\n",
       "      <td>0</td>\n",
       "      <td>0</td>\n",
       "      <td>0</td>\n",
       "      <td>...</td>\n",
       "      <td>1</td>\n",
       "      <td>0</td>\n",
       "      <td>0</td>\n",
       "      <td>0</td>\n",
       "      <td>Quito</td>\n",
       "      <td>Pichincha</td>\n",
       "      <td>D</td>\n",
       "      <td>13</td>\n",
       "      <td>46.8</td>\n",
       "      <td>0.0</td>\n",
       "    </tr>\n",
       "  </tbody>\n",
       "</table>\n",
       "<p>5 rows × 21 columns</p>\n",
       "</div>"
      ],
      "text/plain": [
       "        id       date  store_nbr_0  store_nbr_1  store_nbr_2  store_nbr_3  \\\n",
       "0  3000888 2017-08-16            0            0            0            0   \n",
       "1  3000889 2017-08-16            0            0            0            0   \n",
       "2  3000890 2017-08-16            0            0            0            0   \n",
       "3  3000891 2017-08-16            0            0            0            0   \n",
       "4  3000892 2017-08-16            0            0            0            0   \n",
       "\n",
       "   store_nbr_4  store_nbr_5  family_0  family_1  ...  family_3  family_4  \\\n",
       "0            0            0         0         0  ...         0         0   \n",
       "1            0            0         0         0  ...         0         0   \n",
       "2            0            0         0         0  ...         0         1   \n",
       "3            0            0         0         0  ...         0         1   \n",
       "4            0            0         0         0  ...         1         0   \n",
       "\n",
       "   family_5  onpromotion   city      state type cluster  dcoilwtico  holiday?  \n",
       "0         0            0  Quito  Pichincha    D      13        46.8       0.0  \n",
       "1         1            0  Quito  Pichincha    D      13        46.8       0.0  \n",
       "2         0            2  Quito  Pichincha    D      13        46.8       0.0  \n",
       "3         1           20  Quito  Pichincha    D      13        46.8       0.0  \n",
       "4         0            0  Quito  Pichincha    D      13        46.8       0.0  \n",
       "\n",
       "[5 rows x 21 columns]"
      ]
     },
     "execution_count": 40,
     "metadata": {},
     "output_type": "execute_result"
    }
   ],
   "source": [
    "df_test_3.head()"
   ]
  },
  {
   "cell_type": "code",
   "execution_count": 41,
   "id": "b32ae48e7853bec8",
   "metadata": {
    "ExecuteTime": {
     "end_time": "2023-08-24T21:21:56.376908Z",
     "start_time": "2023-08-24T21:21:56.347900Z"
    }
   },
   "outputs": [
    {
     "name": "stdout",
     "output_type": "stream",
     "text": [
      "Number of rows in training set :  1048575\n",
      "Number of rows in testing set  :  28512\n"
     ]
    }
   ],
   "source": [
    "print(\"Number of rows in training set : \",len(df_train_3))\n",
    "print(\"Number of rows in testing set  : \",len(df_test_3))"
   ]
  },
  {
   "cell_type": "markdown",
   "id": "7c602c51ea20cf4b",
   "metadata": {},
   "source": [
    "### Checking for \"city\" column"
   ]
  },
  {
   "cell_type": "code",
   "execution_count": 42,
   "id": "72c96cf975bb06ec",
   "metadata": {
    "ExecuteTime": {
     "end_time": "2023-08-24T21:21:56.853233Z",
     "start_time": "2023-08-24T21:21:56.841408Z"
    }
   },
   "outputs": [
    {
     "data": {
      "text/plain": [
       "array(['Quito', 'Cayambe', 'Latacunga', 'Riobamba', 'Ibarra',\n",
       "       'Santo Domingo', 'Guaranda', 'Puyo', 'Ambato', 'Guayaquil',\n",
       "       'Salinas', 'Daule', 'Babahoyo', 'Quevedo', 'Playas', 'Libertad',\n",
       "       'Cuenca', 'Loja', 'Machala', 'Esmeraldas', 'Manta', 'El Carmen'],\n",
       "      dtype=object)"
      ]
     },
     "execution_count": 42,
     "metadata": {},
     "output_type": "execute_result"
    }
   ],
   "source": [
    "df_train_3[\"city\"].unique()"
   ]
  },
  {
   "cell_type": "code",
   "execution_count": 43,
   "id": "bb6575a702949623",
   "metadata": {
    "ExecuteTime": {
     "end_time": "2023-08-24T21:21:57.282827Z",
     "start_time": "2023-08-24T21:21:57.278900Z"
    }
   },
   "outputs": [
    {
     "data": {
      "text/plain": [
       "array(['Quito', 'Cayambe', 'Latacunga', 'Riobamba', 'Ibarra',\n",
       "       'Santo Domingo', 'Guaranda', 'Puyo', 'Ambato', 'Guayaquil',\n",
       "       'Salinas', 'Daule', 'Babahoyo', 'Quevedo', 'Playas', 'Libertad',\n",
       "       'Cuenca', 'Loja', 'Machala', 'Esmeraldas', 'Manta', 'El Carmen'],\n",
       "      dtype=object)"
      ]
     },
     "execution_count": 43,
     "metadata": {},
     "output_type": "execute_result"
    }
   ],
   "source": [
    "df_test_3[\"city\"].unique()"
   ]
  },
  {
   "cell_type": "code",
   "execution_count": 44,
   "id": "f80bf498e97092d7",
   "metadata": {
    "ExecuteTime": {
     "end_time": "2023-08-24T21:21:57.750441Z",
     "start_time": "2023-08-24T21:21:57.742562Z"
    }
   },
   "outputs": [
    {
     "name": "stdout",
     "output_type": "stream",
     "text": [
      "Number of rows in training set :  1048575\n",
      "Number of rows in testing set  :  28512\n"
     ]
    }
   ],
   "source": [
    "print(\"Number of rows in training set : \",len(df_train_3[\"city\"]))\n",
    "print(\"Number of rows in testing set  : \",len(df_test_3[\"city\"]))"
   ]
  },
  {
   "cell_type": "markdown",
   "id": "a32c54b7dc46d9bd",
   "metadata": {},
   "source": [
    "### Mapping city elements to numbers"
   ]
  },
  {
   "cell_type": "code",
   "execution_count": 45,
   "id": "38ebe04c676c4f7d",
   "metadata": {
    "ExecuteTime": {
     "end_time": "2023-08-24T21:21:59.014714Z",
     "start_time": "2023-08-24T21:21:59.005176Z"
    }
   },
   "outputs": [
    {
     "data": {
      "text/plain": [
       "{'Quito': 0,\n",
       " 'Cayambe': 1,\n",
       " 'Latacunga': 2,\n",
       " 'Riobamba': 3,\n",
       " 'Ibarra': 4,\n",
       " 'Santo Domingo': 5,\n",
       " 'Guaranda': 6,\n",
       " 'Puyo': 7,\n",
       " 'Ambato': 8,\n",
       " 'Guayaquil': 9,\n",
       " 'Salinas': 10,\n",
       " 'Daule': 11,\n",
       " 'Babahoyo': 12,\n",
       " 'Quevedo': 13,\n",
       " 'Playas': 14,\n",
       " 'Libertad': 15,\n",
       " 'Cuenca': 16,\n",
       " 'Loja': 17,\n",
       " 'Machala': 18,\n",
       " 'Esmeraldas': 19,\n",
       " 'Manta': 20,\n",
       " 'El Carmen': 21}"
      ]
     },
     "execution_count": 45,
     "metadata": {},
     "output_type": "execute_result"
    }
   ],
   "source": [
    "city = dict()\n",
    "ctr = 0\n",
    "for i in df_train_3[\"city\"].unique():\n",
    "    city[i] = ctr\n",
    "    ctr +=1\n",
    "city"
   ]
  },
  {
   "cell_type": "code",
   "execution_count": 46,
   "id": "17fa4234492a323e",
   "metadata": {
    "ExecuteTime": {
     "end_time": "2023-08-24T21:21:59.616066Z",
     "start_time": "2023-08-24T21:21:59.509761Z"
    }
   },
   "outputs": [],
   "source": [
    "df_train_4 = df_train_3.copy()\n",
    "df_test_4 = df_test_3.copy()\n",
    "city_train = pd.DataFrame(df_train_4[\"city\"].map(city))\n",
    "city_test = pd.DataFrame(df_test_4[\"city\"].map(city))"
   ]
  },
  {
   "cell_type": "code",
   "execution_count": 47,
   "id": "5357b227d1205787",
   "metadata": {
    "ExecuteTime": {
     "end_time": "2023-08-24T21:22:00.192515Z",
     "start_time": "2023-08-24T21:22:00.184901Z"
    }
   },
   "outputs": [
    {
     "name": "stdout",
     "output_type": "stream",
     "text": [
      "Number of rows in training set :  1048575\n",
      "Number of rows in testing set  :  28512\n"
     ]
    }
   ],
   "source": [
    "print(\"Number of rows in training set : \",len(city_train))\n",
    "print(\"Number of rows in testing set  : \",len(city_test))"
   ]
  },
  {
   "cell_type": "markdown",
   "id": "b17c1843ad0c3a33",
   "metadata": {},
   "source": [
    "### Performing binary encoding on \"city\" column"
   ]
  },
  {
   "cell_type": "code",
   "execution_count": 48,
   "id": "88c85a9042b484df",
   "metadata": {
    "ExecuteTime": {
     "end_time": "2023-08-24T21:22:05.421867Z",
     "start_time": "2023-08-24T21:22:01.124584Z"
    }
   },
   "outputs": [],
   "source": [
    "city_bin_train = binary_encoder(city_train,\"city\")\n",
    "city_bin_test = binary_encoder(city_test,\"city\")"
   ]
  },
  {
   "cell_type": "code",
   "execution_count": 49,
   "id": "8c8215a32865395",
   "metadata": {
    "ExecuteTime": {
     "end_time": "2023-08-24T21:22:05.429819Z",
     "start_time": "2023-08-24T21:22:05.423290Z"
    }
   },
   "outputs": [
    {
     "data": {
      "text/html": [
       "<div>\n",
       "<style scoped>\n",
       "    .dataframe tbody tr th:only-of-type {\n",
       "        vertical-align: middle;\n",
       "    }\n",
       "\n",
       "    .dataframe tbody tr th {\n",
       "        vertical-align: top;\n",
       "    }\n",
       "\n",
       "    .dataframe thead th {\n",
       "        text-align: right;\n",
       "    }\n",
       "</style>\n",
       "<table border=\"1\" class=\"dataframe\">\n",
       "  <thead>\n",
       "    <tr style=\"text-align: right;\">\n",
       "      <th></th>\n",
       "      <th>city_0</th>\n",
       "      <th>city_1</th>\n",
       "      <th>city_2</th>\n",
       "      <th>city_3</th>\n",
       "      <th>city_4</th>\n",
       "    </tr>\n",
       "  </thead>\n",
       "  <tbody>\n",
       "    <tr>\n",
       "      <th>0</th>\n",
       "      <td>0</td>\n",
       "      <td>0</td>\n",
       "      <td>0</td>\n",
       "      <td>0</td>\n",
       "      <td>0</td>\n",
       "    </tr>\n",
       "    <tr>\n",
       "      <th>1</th>\n",
       "      <td>0</td>\n",
       "      <td>0</td>\n",
       "      <td>0</td>\n",
       "      <td>0</td>\n",
       "      <td>0</td>\n",
       "    </tr>\n",
       "    <tr>\n",
       "      <th>2</th>\n",
       "      <td>0</td>\n",
       "      <td>0</td>\n",
       "      <td>0</td>\n",
       "      <td>0</td>\n",
       "      <td>0</td>\n",
       "    </tr>\n",
       "    <tr>\n",
       "      <th>3</th>\n",
       "      <td>0</td>\n",
       "      <td>0</td>\n",
       "      <td>0</td>\n",
       "      <td>0</td>\n",
       "      <td>0</td>\n",
       "    </tr>\n",
       "    <tr>\n",
       "      <th>4</th>\n",
       "      <td>0</td>\n",
       "      <td>0</td>\n",
       "      <td>0</td>\n",
       "      <td>0</td>\n",
       "      <td>0</td>\n",
       "    </tr>\n",
       "  </tbody>\n",
       "</table>\n",
       "</div>"
      ],
      "text/plain": [
       "   city_0  city_1  city_2  city_3  city_4\n",
       "0       0       0       0       0       0\n",
       "1       0       0       0       0       0\n",
       "2       0       0       0       0       0\n",
       "3       0       0       0       0       0\n",
       "4       0       0       0       0       0"
      ]
     },
     "execution_count": 49,
     "metadata": {},
     "output_type": "execute_result"
    }
   ],
   "source": [
    "city_bin_train.head()"
   ]
  },
  {
   "cell_type": "code",
   "execution_count": 50,
   "id": "4754366c24c410bd",
   "metadata": {
    "ExecuteTime": {
     "end_time": "2023-08-24T21:22:05.431007Z",
     "start_time": "2023-08-24T21:22:05.427153Z"
    }
   },
   "outputs": [
    {
     "data": {
      "text/html": [
       "<div>\n",
       "<style scoped>\n",
       "    .dataframe tbody tr th:only-of-type {\n",
       "        vertical-align: middle;\n",
       "    }\n",
       "\n",
       "    .dataframe tbody tr th {\n",
       "        vertical-align: top;\n",
       "    }\n",
       "\n",
       "    .dataframe thead th {\n",
       "        text-align: right;\n",
       "    }\n",
       "</style>\n",
       "<table border=\"1\" class=\"dataframe\">\n",
       "  <thead>\n",
       "    <tr style=\"text-align: right;\">\n",
       "      <th></th>\n",
       "      <th>city_0</th>\n",
       "      <th>city_1</th>\n",
       "      <th>city_2</th>\n",
       "      <th>city_3</th>\n",
       "      <th>city_4</th>\n",
       "    </tr>\n",
       "  </thead>\n",
       "  <tbody>\n",
       "    <tr>\n",
       "      <th>0</th>\n",
       "      <td>0</td>\n",
       "      <td>0</td>\n",
       "      <td>0</td>\n",
       "      <td>0</td>\n",
       "      <td>0</td>\n",
       "    </tr>\n",
       "    <tr>\n",
       "      <th>1</th>\n",
       "      <td>0</td>\n",
       "      <td>0</td>\n",
       "      <td>0</td>\n",
       "      <td>0</td>\n",
       "      <td>0</td>\n",
       "    </tr>\n",
       "    <tr>\n",
       "      <th>2</th>\n",
       "      <td>0</td>\n",
       "      <td>0</td>\n",
       "      <td>0</td>\n",
       "      <td>0</td>\n",
       "      <td>0</td>\n",
       "    </tr>\n",
       "    <tr>\n",
       "      <th>3</th>\n",
       "      <td>0</td>\n",
       "      <td>0</td>\n",
       "      <td>0</td>\n",
       "      <td>0</td>\n",
       "      <td>0</td>\n",
       "    </tr>\n",
       "    <tr>\n",
       "      <th>4</th>\n",
       "      <td>0</td>\n",
       "      <td>0</td>\n",
       "      <td>0</td>\n",
       "      <td>0</td>\n",
       "      <td>0</td>\n",
       "    </tr>\n",
       "  </tbody>\n",
       "</table>\n",
       "</div>"
      ],
      "text/plain": [
       "   city_0  city_1  city_2  city_3  city_4\n",
       "0       0       0       0       0       0\n",
       "1       0       0       0       0       0\n",
       "2       0       0       0       0       0\n",
       "3       0       0       0       0       0\n",
       "4       0       0       0       0       0"
      ]
     },
     "execution_count": 50,
     "metadata": {},
     "output_type": "execute_result"
    }
   ],
   "source": [
    "city_bin_test.head()"
   ]
  },
  {
   "cell_type": "code",
   "execution_count": 51,
   "id": "e97ac5e336d9e6ab",
   "metadata": {
    "ExecuteTime": {
     "end_time": "2023-08-24T21:22:05.433833Z",
     "start_time": "2023-08-24T21:22:05.430969Z"
    }
   },
   "outputs": [
    {
     "name": "stdout",
     "output_type": "stream",
     "text": [
      "Number of rows in training set :  1048575\n",
      "Number of rows in testing set  :  28512\n"
     ]
    }
   ],
   "source": [
    "print(\"Number of rows in training set : \",len(city_bin_train))\n",
    "print(\"Number of rows in testing set  : \",len(city_bin_test))"
   ]
  },
  {
   "cell_type": "code",
   "execution_count": 52,
   "id": "6e105c38b974cf10",
   "metadata": {
    "ExecuteTime": {
     "end_time": "2023-08-24T21:22:10.226646Z",
     "start_time": "2023-08-24T21:22:10.075642Z"
    }
   },
   "outputs": [],
   "source": [
    "df_train_5 = df_train_4.copy()\n",
    "df_test_5 = df_test_4.copy()\n",
    "df_train_5[city_bin_train.columns.values] = city_bin_train\n",
    "df_test_5[city_bin_test.columns.values] = city_bin_test\n",
    "df_train_5.drop(\"city\",axis=1,inplace=True)\n",
    "df_test_5.drop(\"city\",axis=1,inplace=True)\n",
    "df_train_5 = df_train_5[[\"id\",\"date\",\"store_nbr_0\",\"store_nbr_1\",\"store_nbr_2\",\"store_nbr_3\",\"store_nbr_4\",\"store_nbr_5\",\"family_0\",\"family_1\",\"family_2\",\"family_3\",\"family_4\",\"family_5\",\"onpromotion\",\"city_0\",\"city_1\",\"city_2\",\"city_3\",\"city_4\",\"state\",\"type\",\"cluster\",\"dcoilwtico\",\"holiday?\",\"sales\"]]\n",
    "df_test_5 = df_test_5[[\"id\",\"date\",\"store_nbr_0\",\"store_nbr_1\",\"store_nbr_2\",\"store_nbr_3\",\"store_nbr_4\",\"store_nbr_5\",\"family_0\",\"family_1\",\"family_2\",\"family_3\",\"family_4\",\"family_5\",\"onpromotion\",\"city_0\",\"city_1\",\"city_2\",\"city_3\",\"city_4\",\"state\",\"type\",\"cluster\",\"dcoilwtico\",\"holiday?\"]]"
   ]
  },
  {
   "cell_type": "code",
   "execution_count": 53,
   "id": "4f6cc00f91367ef7",
   "metadata": {
    "ExecuteTime": {
     "end_time": "2023-08-24T21:22:10.794151Z",
     "start_time": "2023-08-24T21:22:10.783621Z"
    }
   },
   "outputs": [
    {
     "data": {
      "text/html": [
       "<div>\n",
       "<style scoped>\n",
       "    .dataframe tbody tr th:only-of-type {\n",
       "        vertical-align: middle;\n",
       "    }\n",
       "\n",
       "    .dataframe tbody tr th {\n",
       "        vertical-align: top;\n",
       "    }\n",
       "\n",
       "    .dataframe thead th {\n",
       "        text-align: right;\n",
       "    }\n",
       "</style>\n",
       "<table border=\"1\" class=\"dataframe\">\n",
       "  <thead>\n",
       "    <tr style=\"text-align: right;\">\n",
       "      <th></th>\n",
       "      <th>id</th>\n",
       "      <th>date</th>\n",
       "      <th>store_nbr_0</th>\n",
       "      <th>store_nbr_1</th>\n",
       "      <th>store_nbr_2</th>\n",
       "      <th>store_nbr_3</th>\n",
       "      <th>store_nbr_4</th>\n",
       "      <th>store_nbr_5</th>\n",
       "      <th>family_0</th>\n",
       "      <th>family_1</th>\n",
       "      <th>...</th>\n",
       "      <th>city_1</th>\n",
       "      <th>city_2</th>\n",
       "      <th>city_3</th>\n",
       "      <th>city_4</th>\n",
       "      <th>state</th>\n",
       "      <th>type</th>\n",
       "      <th>cluster</th>\n",
       "      <th>dcoilwtico</th>\n",
       "      <th>holiday?</th>\n",
       "      <th>sales</th>\n",
       "    </tr>\n",
       "  </thead>\n",
       "  <tbody>\n",
       "    <tr>\n",
       "      <th>0</th>\n",
       "      <td>0</td>\n",
       "      <td>2013-01-01</td>\n",
       "      <td>0</td>\n",
       "      <td>0</td>\n",
       "      <td>0</td>\n",
       "      <td>0</td>\n",
       "      <td>0</td>\n",
       "      <td>0</td>\n",
       "      <td>0</td>\n",
       "      <td>0</td>\n",
       "      <td>...</td>\n",
       "      <td>0</td>\n",
       "      <td>0</td>\n",
       "      <td>0</td>\n",
       "      <td>0</td>\n",
       "      <td>Pichincha</td>\n",
       "      <td>D</td>\n",
       "      <td>13</td>\n",
       "      <td>93.366</td>\n",
       "      <td>1.0</td>\n",
       "      <td>0.0</td>\n",
       "    </tr>\n",
       "    <tr>\n",
       "      <th>1</th>\n",
       "      <td>1</td>\n",
       "      <td>2013-01-01</td>\n",
       "      <td>0</td>\n",
       "      <td>0</td>\n",
       "      <td>0</td>\n",
       "      <td>0</td>\n",
       "      <td>0</td>\n",
       "      <td>0</td>\n",
       "      <td>0</td>\n",
       "      <td>0</td>\n",
       "      <td>...</td>\n",
       "      <td>0</td>\n",
       "      <td>0</td>\n",
       "      <td>0</td>\n",
       "      <td>0</td>\n",
       "      <td>Pichincha</td>\n",
       "      <td>D</td>\n",
       "      <td>13</td>\n",
       "      <td>93.366</td>\n",
       "      <td>1.0</td>\n",
       "      <td>0.0</td>\n",
       "    </tr>\n",
       "    <tr>\n",
       "      <th>2</th>\n",
       "      <td>2</td>\n",
       "      <td>2013-01-01</td>\n",
       "      <td>0</td>\n",
       "      <td>0</td>\n",
       "      <td>0</td>\n",
       "      <td>0</td>\n",
       "      <td>0</td>\n",
       "      <td>0</td>\n",
       "      <td>0</td>\n",
       "      <td>0</td>\n",
       "      <td>...</td>\n",
       "      <td>0</td>\n",
       "      <td>0</td>\n",
       "      <td>0</td>\n",
       "      <td>0</td>\n",
       "      <td>Pichincha</td>\n",
       "      <td>D</td>\n",
       "      <td>13</td>\n",
       "      <td>93.366</td>\n",
       "      <td>1.0</td>\n",
       "      <td>0.0</td>\n",
       "    </tr>\n",
       "    <tr>\n",
       "      <th>3</th>\n",
       "      <td>3</td>\n",
       "      <td>2013-01-01</td>\n",
       "      <td>0</td>\n",
       "      <td>0</td>\n",
       "      <td>0</td>\n",
       "      <td>0</td>\n",
       "      <td>0</td>\n",
       "      <td>0</td>\n",
       "      <td>0</td>\n",
       "      <td>0</td>\n",
       "      <td>...</td>\n",
       "      <td>0</td>\n",
       "      <td>0</td>\n",
       "      <td>0</td>\n",
       "      <td>0</td>\n",
       "      <td>Pichincha</td>\n",
       "      <td>D</td>\n",
       "      <td>13</td>\n",
       "      <td>93.366</td>\n",
       "      <td>1.0</td>\n",
       "      <td>0.0</td>\n",
       "    </tr>\n",
       "    <tr>\n",
       "      <th>4</th>\n",
       "      <td>4</td>\n",
       "      <td>2013-01-01</td>\n",
       "      <td>0</td>\n",
       "      <td>0</td>\n",
       "      <td>0</td>\n",
       "      <td>0</td>\n",
       "      <td>0</td>\n",
       "      <td>0</td>\n",
       "      <td>0</td>\n",
       "      <td>0</td>\n",
       "      <td>...</td>\n",
       "      <td>0</td>\n",
       "      <td>0</td>\n",
       "      <td>0</td>\n",
       "      <td>0</td>\n",
       "      <td>Pichincha</td>\n",
       "      <td>D</td>\n",
       "      <td>13</td>\n",
       "      <td>93.366</td>\n",
       "      <td>1.0</td>\n",
       "      <td>0.0</td>\n",
       "    </tr>\n",
       "  </tbody>\n",
       "</table>\n",
       "<p>5 rows × 26 columns</p>\n",
       "</div>"
      ],
      "text/plain": [
       "   id       date  store_nbr_0  store_nbr_1  store_nbr_2  store_nbr_3  \\\n",
       "0   0 2013-01-01            0            0            0            0   \n",
       "1   1 2013-01-01            0            0            0            0   \n",
       "2   2 2013-01-01            0            0            0            0   \n",
       "3   3 2013-01-01            0            0            0            0   \n",
       "4   4 2013-01-01            0            0            0            0   \n",
       "\n",
       "   store_nbr_4  store_nbr_5  family_0  family_1  ...  city_1  city_2  city_3  \\\n",
       "0            0            0         0         0  ...       0       0       0   \n",
       "1            0            0         0         0  ...       0       0       0   \n",
       "2            0            0         0         0  ...       0       0       0   \n",
       "3            0            0         0         0  ...       0       0       0   \n",
       "4            0            0         0         0  ...       0       0       0   \n",
       "\n",
       "   city_4      state  type  cluster  dcoilwtico  holiday?  sales  \n",
       "0       0  Pichincha     D       13      93.366       1.0    0.0  \n",
       "1       0  Pichincha     D       13      93.366       1.0    0.0  \n",
       "2       0  Pichincha     D       13      93.366       1.0    0.0  \n",
       "3       0  Pichincha     D       13      93.366       1.0    0.0  \n",
       "4       0  Pichincha     D       13      93.366       1.0    0.0  \n",
       "\n",
       "[5 rows x 26 columns]"
      ]
     },
     "execution_count": 53,
     "metadata": {},
     "output_type": "execute_result"
    }
   ],
   "source": [
    "df_train_5.head()"
   ]
  },
  {
   "cell_type": "code",
   "execution_count": 54,
   "id": "bf28387e302847ec",
   "metadata": {
    "ExecuteTime": {
     "end_time": "2023-08-24T21:22:11.308369Z",
     "start_time": "2023-08-24T21:22:11.302598Z"
    }
   },
   "outputs": [
    {
     "data": {
      "text/html": [
       "<div>\n",
       "<style scoped>\n",
       "    .dataframe tbody tr th:only-of-type {\n",
       "        vertical-align: middle;\n",
       "    }\n",
       "\n",
       "    .dataframe tbody tr th {\n",
       "        vertical-align: top;\n",
       "    }\n",
       "\n",
       "    .dataframe thead th {\n",
       "        text-align: right;\n",
       "    }\n",
       "</style>\n",
       "<table border=\"1\" class=\"dataframe\">\n",
       "  <thead>\n",
       "    <tr style=\"text-align: right;\">\n",
       "      <th></th>\n",
       "      <th>id</th>\n",
       "      <th>date</th>\n",
       "      <th>store_nbr_0</th>\n",
       "      <th>store_nbr_1</th>\n",
       "      <th>store_nbr_2</th>\n",
       "      <th>store_nbr_3</th>\n",
       "      <th>store_nbr_4</th>\n",
       "      <th>store_nbr_5</th>\n",
       "      <th>family_0</th>\n",
       "      <th>family_1</th>\n",
       "      <th>...</th>\n",
       "      <th>city_0</th>\n",
       "      <th>city_1</th>\n",
       "      <th>city_2</th>\n",
       "      <th>city_3</th>\n",
       "      <th>city_4</th>\n",
       "      <th>state</th>\n",
       "      <th>type</th>\n",
       "      <th>cluster</th>\n",
       "      <th>dcoilwtico</th>\n",
       "      <th>holiday?</th>\n",
       "    </tr>\n",
       "  </thead>\n",
       "  <tbody>\n",
       "    <tr>\n",
       "      <th>0</th>\n",
       "      <td>3000888</td>\n",
       "      <td>2017-08-16</td>\n",
       "      <td>0</td>\n",
       "      <td>0</td>\n",
       "      <td>0</td>\n",
       "      <td>0</td>\n",
       "      <td>0</td>\n",
       "      <td>0</td>\n",
       "      <td>0</td>\n",
       "      <td>0</td>\n",
       "      <td>...</td>\n",
       "      <td>0</td>\n",
       "      <td>0</td>\n",
       "      <td>0</td>\n",
       "      <td>0</td>\n",
       "      <td>0</td>\n",
       "      <td>Pichincha</td>\n",
       "      <td>D</td>\n",
       "      <td>13</td>\n",
       "      <td>46.8</td>\n",
       "      <td>0.0</td>\n",
       "    </tr>\n",
       "    <tr>\n",
       "      <th>1</th>\n",
       "      <td>3000889</td>\n",
       "      <td>2017-08-16</td>\n",
       "      <td>0</td>\n",
       "      <td>0</td>\n",
       "      <td>0</td>\n",
       "      <td>0</td>\n",
       "      <td>0</td>\n",
       "      <td>0</td>\n",
       "      <td>0</td>\n",
       "      <td>0</td>\n",
       "      <td>...</td>\n",
       "      <td>0</td>\n",
       "      <td>0</td>\n",
       "      <td>0</td>\n",
       "      <td>0</td>\n",
       "      <td>0</td>\n",
       "      <td>Pichincha</td>\n",
       "      <td>D</td>\n",
       "      <td>13</td>\n",
       "      <td>46.8</td>\n",
       "      <td>0.0</td>\n",
       "    </tr>\n",
       "    <tr>\n",
       "      <th>2</th>\n",
       "      <td>3000890</td>\n",
       "      <td>2017-08-16</td>\n",
       "      <td>0</td>\n",
       "      <td>0</td>\n",
       "      <td>0</td>\n",
       "      <td>0</td>\n",
       "      <td>0</td>\n",
       "      <td>0</td>\n",
       "      <td>0</td>\n",
       "      <td>0</td>\n",
       "      <td>...</td>\n",
       "      <td>0</td>\n",
       "      <td>0</td>\n",
       "      <td>0</td>\n",
       "      <td>0</td>\n",
       "      <td>0</td>\n",
       "      <td>Pichincha</td>\n",
       "      <td>D</td>\n",
       "      <td>13</td>\n",
       "      <td>46.8</td>\n",
       "      <td>0.0</td>\n",
       "    </tr>\n",
       "    <tr>\n",
       "      <th>3</th>\n",
       "      <td>3000891</td>\n",
       "      <td>2017-08-16</td>\n",
       "      <td>0</td>\n",
       "      <td>0</td>\n",
       "      <td>0</td>\n",
       "      <td>0</td>\n",
       "      <td>0</td>\n",
       "      <td>0</td>\n",
       "      <td>0</td>\n",
       "      <td>0</td>\n",
       "      <td>...</td>\n",
       "      <td>0</td>\n",
       "      <td>0</td>\n",
       "      <td>0</td>\n",
       "      <td>0</td>\n",
       "      <td>0</td>\n",
       "      <td>Pichincha</td>\n",
       "      <td>D</td>\n",
       "      <td>13</td>\n",
       "      <td>46.8</td>\n",
       "      <td>0.0</td>\n",
       "    </tr>\n",
       "    <tr>\n",
       "      <th>4</th>\n",
       "      <td>3000892</td>\n",
       "      <td>2017-08-16</td>\n",
       "      <td>0</td>\n",
       "      <td>0</td>\n",
       "      <td>0</td>\n",
       "      <td>0</td>\n",
       "      <td>0</td>\n",
       "      <td>0</td>\n",
       "      <td>0</td>\n",
       "      <td>0</td>\n",
       "      <td>...</td>\n",
       "      <td>0</td>\n",
       "      <td>0</td>\n",
       "      <td>0</td>\n",
       "      <td>0</td>\n",
       "      <td>0</td>\n",
       "      <td>Pichincha</td>\n",
       "      <td>D</td>\n",
       "      <td>13</td>\n",
       "      <td>46.8</td>\n",
       "      <td>0.0</td>\n",
       "    </tr>\n",
       "  </tbody>\n",
       "</table>\n",
       "<p>5 rows × 25 columns</p>\n",
       "</div>"
      ],
      "text/plain": [
       "        id       date  store_nbr_0  store_nbr_1  store_nbr_2  store_nbr_3  \\\n",
       "0  3000888 2017-08-16            0            0            0            0   \n",
       "1  3000889 2017-08-16            0            0            0            0   \n",
       "2  3000890 2017-08-16            0            0            0            0   \n",
       "3  3000891 2017-08-16            0            0            0            0   \n",
       "4  3000892 2017-08-16            0            0            0            0   \n",
       "\n",
       "   store_nbr_4  store_nbr_5  family_0  family_1  ...  city_0  city_1  city_2  \\\n",
       "0            0            0         0         0  ...       0       0       0   \n",
       "1            0            0         0         0  ...       0       0       0   \n",
       "2            0            0         0         0  ...       0       0       0   \n",
       "3            0            0         0         0  ...       0       0       0   \n",
       "4            0            0         0         0  ...       0       0       0   \n",
       "\n",
       "   city_3  city_4      state  type  cluster  dcoilwtico  holiday?  \n",
       "0       0       0  Pichincha     D       13        46.8       0.0  \n",
       "1       0       0  Pichincha     D       13        46.8       0.0  \n",
       "2       0       0  Pichincha     D       13        46.8       0.0  \n",
       "3       0       0  Pichincha     D       13        46.8       0.0  \n",
       "4       0       0  Pichincha     D       13        46.8       0.0  \n",
       "\n",
       "[5 rows x 25 columns]"
      ]
     },
     "execution_count": 54,
     "metadata": {},
     "output_type": "execute_result"
    }
   ],
   "source": [
    "df_test_5.head()"
   ]
  },
  {
   "cell_type": "code",
   "execution_count": 55,
   "id": "c1a70380fb0ac8b4",
   "metadata": {
    "ExecuteTime": {
     "end_time": "2023-08-24T21:22:11.928254Z",
     "start_time": "2023-08-24T21:22:11.922939Z"
    }
   },
   "outputs": [
    {
     "name": "stdout",
     "output_type": "stream",
     "text": [
      "Number of rows in training set :  1048575\n",
      "Number of rows in testing set  :  28512\n"
     ]
    }
   ],
   "source": [
    "print(\"Number of rows in training set : \",len(df_train_5))\n",
    "print(\"Number of rows in testing set  : \",len(df_test_5))"
   ]
  },
  {
   "cell_type": "markdown",
   "id": "d6b1fdd0e20c0471",
   "metadata": {},
   "source": [
    "### Checking for \"state\" feature"
   ]
  },
  {
   "cell_type": "code",
   "execution_count": 56,
   "id": "7418a53e6e64a574",
   "metadata": {
    "ExecuteTime": {
     "end_time": "2023-08-24T21:44:21.956922Z",
     "start_time": "2023-08-24T21:44:21.924943Z"
    }
   },
   "outputs": [
    {
     "data": {
      "text/plain": [
       "array(['Pichincha', 'Cotopaxi', 'Chimborazo', 'Imbabura',\n",
       "       'Santo Domingo de los Tsachilas', 'Bolivar', 'Pastaza',\n",
       "       'Tungurahua', 'Guayas', 'Santa Elena', 'Los Rios', 'Azuay', 'Loja',\n",
       "       'El Oro', 'Esmeraldas', 'Manabi'], dtype=object)"
      ]
     },
     "execution_count": 56,
     "metadata": {},
     "output_type": "execute_result"
    }
   ],
   "source": [
    "df_train_5[\"state\"].unique()"
   ]
  },
  {
   "cell_type": "code",
   "execution_count": 57,
   "id": "30d93b4cd9be81ac",
   "metadata": {
    "ExecuteTime": {
     "end_time": "2023-08-24T21:44:29.646923Z",
     "start_time": "2023-08-24T21:44:29.621742Z"
    }
   },
   "outputs": [
    {
     "data": {
      "text/plain": [
       "array(['Pichincha', 'Cotopaxi', 'Chimborazo', 'Imbabura',\n",
       "       'Santo Domingo de los Tsachilas', 'Bolivar', 'Pastaza',\n",
       "       'Tungurahua', 'Guayas', 'Santa Elena', 'Los Rios', 'Azuay', 'Loja',\n",
       "       'El Oro', 'Esmeraldas', 'Manabi'], dtype=object)"
      ]
     },
     "execution_count": 57,
     "metadata": {},
     "output_type": "execute_result"
    }
   ],
   "source": [
    "df_test_5[\"state\"].unique()"
   ]
  },
  {
   "cell_type": "markdown",
   "id": "79ac772d1100a41b",
   "metadata": {},
   "source": [
    "### Mapping \"state\" feature with numbers"
   ]
  },
  {
   "cell_type": "code",
   "execution_count": 58,
   "id": "d2b01369e4e2226b",
   "metadata": {
    "ExecuteTime": {
     "end_time": "2023-08-24T21:45:41.872355Z",
     "start_time": "2023-08-24T21:45:41.852483Z"
    }
   },
   "outputs": [
    {
     "data": {
      "text/plain": [
       "{'Pichincha': 0,\n",
       " 'Cotopaxi': 1,\n",
       " 'Chimborazo': 2,\n",
       " 'Imbabura': 3,\n",
       " 'Santo Domingo de los Tsachilas': 4,\n",
       " 'Bolivar': 5,\n",
       " 'Pastaza': 6,\n",
       " 'Tungurahua': 7,\n",
       " 'Guayas': 8,\n",
       " 'Santa Elena': 9,\n",
       " 'Los Rios': 10,\n",
       " 'Azuay': 11,\n",
       " 'Loja': 12,\n",
       " 'El Oro': 13,\n",
       " 'Esmeraldas': 14,\n",
       " 'Manabi': 15}"
      ]
     },
     "execution_count": 58,
     "metadata": {},
     "output_type": "execute_result"
    }
   ],
   "source": [
    "state = dict()\n",
    "ctr = 0\n",
    "for i in df_train_5[\"state\"].unique():\n",
    "    state[i] = ctr\n",
    "    ctr += 1\n",
    "state"
   ]
  },
  {
   "cell_type": "code",
   "execution_count": 59,
   "id": "45c495cf0261445a",
   "metadata": {
    "ExecuteTime": {
     "end_time": "2023-08-24T21:46:52.019537Z",
     "start_time": "2023-08-24T21:46:51.875717Z"
    }
   },
   "outputs": [],
   "source": [
    "df_train_6 = df_train_5.copy()\n",
    "df_test_6 = df_test_5.copy()\n",
    "df_train_6[\"state\"] = df_train_6[\"state\"].map(state)\n",
    "df_test_6[\"state\"] = df_test_6[\"state\"].map(state)"
   ]
  },
  {
   "cell_type": "code",
   "execution_count": 60,
   "id": "b7d7c5104816d5b6",
   "metadata": {
    "ExecuteTime": {
     "end_time": "2023-08-24T21:47:34.139723Z",
     "start_time": "2023-08-24T21:47:30.951568Z"
    }
   },
   "outputs": [],
   "source": [
    "state_train = binary_encoder(df_train_6,\"state\")\n",
    "state_test = binary_encoder(df_test_6,\"state\")"
   ]
  },
  {
   "cell_type": "code",
   "execution_count": 61,
   "id": "ceeaa7c6356f8b4d",
   "metadata": {
    "ExecuteTime": {
     "end_time": "2023-08-24T21:54:50.225988Z",
     "start_time": "2023-08-24T21:54:50.220295Z"
    }
   },
   "outputs": [
    {
     "data": {
      "text/html": [
       "<div>\n",
       "<style scoped>\n",
       "    .dataframe tbody tr th:only-of-type {\n",
       "        vertical-align: middle;\n",
       "    }\n",
       "\n",
       "    .dataframe tbody tr th {\n",
       "        vertical-align: top;\n",
       "    }\n",
       "\n",
       "    .dataframe thead th {\n",
       "        text-align: right;\n",
       "    }\n",
       "</style>\n",
       "<table border=\"1\" class=\"dataframe\">\n",
       "  <thead>\n",
       "    <tr style=\"text-align: right;\">\n",
       "      <th></th>\n",
       "      <th>state_0</th>\n",
       "      <th>state_1</th>\n",
       "      <th>state_2</th>\n",
       "      <th>state_3</th>\n",
       "    </tr>\n",
       "  </thead>\n",
       "  <tbody>\n",
       "    <tr>\n",
       "      <th>0</th>\n",
       "      <td>0</td>\n",
       "      <td>0</td>\n",
       "      <td>0</td>\n",
       "      <td>0</td>\n",
       "    </tr>\n",
       "    <tr>\n",
       "      <th>1</th>\n",
       "      <td>0</td>\n",
       "      <td>0</td>\n",
       "      <td>0</td>\n",
       "      <td>0</td>\n",
       "    </tr>\n",
       "    <tr>\n",
       "      <th>2</th>\n",
       "      <td>0</td>\n",
       "      <td>0</td>\n",
       "      <td>0</td>\n",
       "      <td>0</td>\n",
       "    </tr>\n",
       "    <tr>\n",
       "      <th>3</th>\n",
       "      <td>0</td>\n",
       "      <td>0</td>\n",
       "      <td>0</td>\n",
       "      <td>0</td>\n",
       "    </tr>\n",
       "    <tr>\n",
       "      <th>4</th>\n",
       "      <td>0</td>\n",
       "      <td>0</td>\n",
       "      <td>0</td>\n",
       "      <td>0</td>\n",
       "    </tr>\n",
       "  </tbody>\n",
       "</table>\n",
       "</div>"
      ],
      "text/plain": [
       "   state_0  state_1  state_2  state_3\n",
       "0        0        0        0        0\n",
       "1        0        0        0        0\n",
       "2        0        0        0        0\n",
       "3        0        0        0        0\n",
       "4        0        0        0        0"
      ]
     },
     "execution_count": 61,
     "metadata": {},
     "output_type": "execute_result"
    }
   ],
   "source": [
    "state_train.head()"
   ]
  },
  {
   "cell_type": "code",
   "execution_count": 62,
   "id": "5adb98449ae19605",
   "metadata": {
    "ExecuteTime": {
     "end_time": "2023-08-24T21:54:57.161869Z",
     "start_time": "2023-08-24T21:54:57.148591Z"
    }
   },
   "outputs": [
    {
     "data": {
      "text/html": [
       "<div>\n",
       "<style scoped>\n",
       "    .dataframe tbody tr th:only-of-type {\n",
       "        vertical-align: middle;\n",
       "    }\n",
       "\n",
       "    .dataframe tbody tr th {\n",
       "        vertical-align: top;\n",
       "    }\n",
       "\n",
       "    .dataframe thead th {\n",
       "        text-align: right;\n",
       "    }\n",
       "</style>\n",
       "<table border=\"1\" class=\"dataframe\">\n",
       "  <thead>\n",
       "    <tr style=\"text-align: right;\">\n",
       "      <th></th>\n",
       "      <th>state_0</th>\n",
       "      <th>state_1</th>\n",
       "      <th>state_2</th>\n",
       "      <th>state_3</th>\n",
       "    </tr>\n",
       "  </thead>\n",
       "  <tbody>\n",
       "    <tr>\n",
       "      <th>0</th>\n",
       "      <td>0</td>\n",
       "      <td>0</td>\n",
       "      <td>0</td>\n",
       "      <td>0</td>\n",
       "    </tr>\n",
       "    <tr>\n",
       "      <th>1</th>\n",
       "      <td>0</td>\n",
       "      <td>0</td>\n",
       "      <td>0</td>\n",
       "      <td>0</td>\n",
       "    </tr>\n",
       "    <tr>\n",
       "      <th>2</th>\n",
       "      <td>0</td>\n",
       "      <td>0</td>\n",
       "      <td>0</td>\n",
       "      <td>0</td>\n",
       "    </tr>\n",
       "    <tr>\n",
       "      <th>3</th>\n",
       "      <td>0</td>\n",
       "      <td>0</td>\n",
       "      <td>0</td>\n",
       "      <td>0</td>\n",
       "    </tr>\n",
       "    <tr>\n",
       "      <th>4</th>\n",
       "      <td>0</td>\n",
       "      <td>0</td>\n",
       "      <td>0</td>\n",
       "      <td>0</td>\n",
       "    </tr>\n",
       "  </tbody>\n",
       "</table>\n",
       "</div>"
      ],
      "text/plain": [
       "   state_0  state_1  state_2  state_3\n",
       "0        0        0        0        0\n",
       "1        0        0        0        0\n",
       "2        0        0        0        0\n",
       "3        0        0        0        0\n",
       "4        0        0        0        0"
      ]
     },
     "execution_count": 62,
     "metadata": {},
     "output_type": "execute_result"
    }
   ],
   "source": [
    "state_test.head()"
   ]
  },
  {
   "cell_type": "code",
   "execution_count": 64,
   "id": "448975ac958153f1",
   "metadata": {
    "ExecuteTime": {
     "end_time": "2023-08-24T21:56:45.264061Z",
     "start_time": "2023-08-24T21:56:45.248125Z"
    }
   },
   "outputs": [
    {
     "name": "stdout",
     "output_type": "stream",
     "text": [
      "Number of rows in training set :  1048575\n",
      "Number of rows in testing set  :  28512\n"
     ]
    }
   ],
   "source": [
    "print(\"Number of rows in training set : \",len(state_train))\n",
    "print(\"Number of rows in testing set  : \",len(state_test))"
   ]
  },
  {
   "cell_type": "code",
   "execution_count": 65,
   "id": "b681d5a33db7adff",
   "metadata": {
    "ExecuteTime": {
     "end_time": "2023-08-24T21:56:46.465629Z",
     "start_time": "2023-08-24T21:56:46.254817Z"
    }
   },
   "outputs": [],
   "source": [
    "df_train_7 = df_train_6.copy()\n",
    "df_test_7 = df_test_6.copy()\n",
    "df_train_7[state_train.columns.values] = state_train\n",
    "df_test_7[state_test.columns.values] = state_test\n",
    "df_train_7.drop(\"state\",axis=1,inplace=True)\n",
    "df_test_7.drop(\"state\",axis=1,inplace=True)\n",
    "df_train_7 = df_train_7[[\"id\",\"date\",\"store_nbr_0\",\"store_nbr_1\",\"store_nbr_2\",\"store_nbr_3\",\"store_nbr_4\",\"store_nbr_5\",\"family_0\",\"family_1\",\"family_2\",\"family_3\",\"family_4\",\"family_5\",\"onpromotion\",\"city_0\",\"city_1\",\"city_2\",\"city_3\",\"city_4\",\"state_0\",\"state_1\",\"state_2\",\"state_3\",\"type\",\"cluster\",\"dcoilwtico\",\"holiday?\",\"sales\"]]\n",
    "df_test_7 = df_test_7[[\"id\",\"date\",\"store_nbr_0\",\"store_nbr_1\",\"store_nbr_2\",\"store_nbr_3\",\"store_nbr_4\",\"store_nbr_5\",\"family_0\",\"family_1\",\"family_2\",\"family_3\",\"family_4\",\"family_5\",\"onpromotion\",\"city_0\",\"city_1\",\"city_2\",\"city_3\",\"city_4\",\"state_0\",\"state_1\",\"state_2\",\"state_3\",\"type\",\"cluster\",\"dcoilwtico\",\"holiday?\"]]"
   ]
  },
  {
   "cell_type": "code",
   "execution_count": 66,
   "id": "6216729b8aa1b9bf",
   "metadata": {
    "ExecuteTime": {
     "end_time": "2023-08-24T21:56:55.799010Z",
     "start_time": "2023-08-24T21:56:55.775062Z"
    }
   },
   "outputs": [
    {
     "data": {
      "text/html": [
       "<div>\n",
       "<style scoped>\n",
       "    .dataframe tbody tr th:only-of-type {\n",
       "        vertical-align: middle;\n",
       "    }\n",
       "\n",
       "    .dataframe tbody tr th {\n",
       "        vertical-align: top;\n",
       "    }\n",
       "\n",
       "    .dataframe thead th {\n",
       "        text-align: right;\n",
       "    }\n",
       "</style>\n",
       "<table border=\"1\" class=\"dataframe\">\n",
       "  <thead>\n",
       "    <tr style=\"text-align: right;\">\n",
       "      <th></th>\n",
       "      <th>id</th>\n",
       "      <th>date</th>\n",
       "      <th>store_nbr_0</th>\n",
       "      <th>store_nbr_1</th>\n",
       "      <th>store_nbr_2</th>\n",
       "      <th>store_nbr_3</th>\n",
       "      <th>store_nbr_4</th>\n",
       "      <th>store_nbr_5</th>\n",
       "      <th>family_0</th>\n",
       "      <th>family_1</th>\n",
       "      <th>...</th>\n",
       "      <th>city_4</th>\n",
       "      <th>state_0</th>\n",
       "      <th>state_1</th>\n",
       "      <th>state_2</th>\n",
       "      <th>state_3</th>\n",
       "      <th>type</th>\n",
       "      <th>cluster</th>\n",
       "      <th>dcoilwtico</th>\n",
       "      <th>holiday?</th>\n",
       "      <th>sales</th>\n",
       "    </tr>\n",
       "  </thead>\n",
       "  <tbody>\n",
       "    <tr>\n",
       "      <th>0</th>\n",
       "      <td>0</td>\n",
       "      <td>2013-01-01</td>\n",
       "      <td>0</td>\n",
       "      <td>0</td>\n",
       "      <td>0</td>\n",
       "      <td>0</td>\n",
       "      <td>0</td>\n",
       "      <td>0</td>\n",
       "      <td>0</td>\n",
       "      <td>0</td>\n",
       "      <td>...</td>\n",
       "      <td>0</td>\n",
       "      <td>0</td>\n",
       "      <td>0</td>\n",
       "      <td>0</td>\n",
       "      <td>0</td>\n",
       "      <td>D</td>\n",
       "      <td>13</td>\n",
       "      <td>93.366</td>\n",
       "      <td>1.0</td>\n",
       "      <td>0.0</td>\n",
       "    </tr>\n",
       "    <tr>\n",
       "      <th>1</th>\n",
       "      <td>1</td>\n",
       "      <td>2013-01-01</td>\n",
       "      <td>0</td>\n",
       "      <td>0</td>\n",
       "      <td>0</td>\n",
       "      <td>0</td>\n",
       "      <td>0</td>\n",
       "      <td>0</td>\n",
       "      <td>0</td>\n",
       "      <td>0</td>\n",
       "      <td>...</td>\n",
       "      <td>0</td>\n",
       "      <td>0</td>\n",
       "      <td>0</td>\n",
       "      <td>0</td>\n",
       "      <td>0</td>\n",
       "      <td>D</td>\n",
       "      <td>13</td>\n",
       "      <td>93.366</td>\n",
       "      <td>1.0</td>\n",
       "      <td>0.0</td>\n",
       "    </tr>\n",
       "    <tr>\n",
       "      <th>2</th>\n",
       "      <td>2</td>\n",
       "      <td>2013-01-01</td>\n",
       "      <td>0</td>\n",
       "      <td>0</td>\n",
       "      <td>0</td>\n",
       "      <td>0</td>\n",
       "      <td>0</td>\n",
       "      <td>0</td>\n",
       "      <td>0</td>\n",
       "      <td>0</td>\n",
       "      <td>...</td>\n",
       "      <td>0</td>\n",
       "      <td>0</td>\n",
       "      <td>0</td>\n",
       "      <td>0</td>\n",
       "      <td>0</td>\n",
       "      <td>D</td>\n",
       "      <td>13</td>\n",
       "      <td>93.366</td>\n",
       "      <td>1.0</td>\n",
       "      <td>0.0</td>\n",
       "    </tr>\n",
       "    <tr>\n",
       "      <th>3</th>\n",
       "      <td>3</td>\n",
       "      <td>2013-01-01</td>\n",
       "      <td>0</td>\n",
       "      <td>0</td>\n",
       "      <td>0</td>\n",
       "      <td>0</td>\n",
       "      <td>0</td>\n",
       "      <td>0</td>\n",
       "      <td>0</td>\n",
       "      <td>0</td>\n",
       "      <td>...</td>\n",
       "      <td>0</td>\n",
       "      <td>0</td>\n",
       "      <td>0</td>\n",
       "      <td>0</td>\n",
       "      <td>0</td>\n",
       "      <td>D</td>\n",
       "      <td>13</td>\n",
       "      <td>93.366</td>\n",
       "      <td>1.0</td>\n",
       "      <td>0.0</td>\n",
       "    </tr>\n",
       "    <tr>\n",
       "      <th>4</th>\n",
       "      <td>4</td>\n",
       "      <td>2013-01-01</td>\n",
       "      <td>0</td>\n",
       "      <td>0</td>\n",
       "      <td>0</td>\n",
       "      <td>0</td>\n",
       "      <td>0</td>\n",
       "      <td>0</td>\n",
       "      <td>0</td>\n",
       "      <td>0</td>\n",
       "      <td>...</td>\n",
       "      <td>0</td>\n",
       "      <td>0</td>\n",
       "      <td>0</td>\n",
       "      <td>0</td>\n",
       "      <td>0</td>\n",
       "      <td>D</td>\n",
       "      <td>13</td>\n",
       "      <td>93.366</td>\n",
       "      <td>1.0</td>\n",
       "      <td>0.0</td>\n",
       "    </tr>\n",
       "  </tbody>\n",
       "</table>\n",
       "<p>5 rows × 29 columns</p>\n",
       "</div>"
      ],
      "text/plain": [
       "   id       date  store_nbr_0  store_nbr_1  store_nbr_2  store_nbr_3  \\\n",
       "0   0 2013-01-01            0            0            0            0   \n",
       "1   1 2013-01-01            0            0            0            0   \n",
       "2   2 2013-01-01            0            0            0            0   \n",
       "3   3 2013-01-01            0            0            0            0   \n",
       "4   4 2013-01-01            0            0            0            0   \n",
       "\n",
       "   store_nbr_4  store_nbr_5  family_0  family_1  ...  city_4  state_0  \\\n",
       "0            0            0         0         0  ...       0        0   \n",
       "1            0            0         0         0  ...       0        0   \n",
       "2            0            0         0         0  ...       0        0   \n",
       "3            0            0         0         0  ...       0        0   \n",
       "4            0            0         0         0  ...       0        0   \n",
       "\n",
       "   state_1  state_2  state_3  type  cluster  dcoilwtico  holiday?  sales  \n",
       "0        0        0        0     D       13      93.366       1.0    0.0  \n",
       "1        0        0        0     D       13      93.366       1.0    0.0  \n",
       "2        0        0        0     D       13      93.366       1.0    0.0  \n",
       "3        0        0        0     D       13      93.366       1.0    0.0  \n",
       "4        0        0        0     D       13      93.366       1.0    0.0  \n",
       "\n",
       "[5 rows x 29 columns]"
      ]
     },
     "execution_count": 66,
     "metadata": {},
     "output_type": "execute_result"
    }
   ],
   "source": [
    "df_train_7.head()"
   ]
  },
  {
   "cell_type": "code",
   "execution_count": 67,
   "id": "2149cef59cc1ea72",
   "metadata": {
    "ExecuteTime": {
     "end_time": "2023-08-24T21:57:04.100095Z",
     "start_time": "2023-08-24T21:57:04.064143Z"
    }
   },
   "outputs": [
    {
     "data": {
      "text/html": [
       "<div>\n",
       "<style scoped>\n",
       "    .dataframe tbody tr th:only-of-type {\n",
       "        vertical-align: middle;\n",
       "    }\n",
       "\n",
       "    .dataframe tbody tr th {\n",
       "        vertical-align: top;\n",
       "    }\n",
       "\n",
       "    .dataframe thead th {\n",
       "        text-align: right;\n",
       "    }\n",
       "</style>\n",
       "<table border=\"1\" class=\"dataframe\">\n",
       "  <thead>\n",
       "    <tr style=\"text-align: right;\">\n",
       "      <th></th>\n",
       "      <th>id</th>\n",
       "      <th>date</th>\n",
       "      <th>store_nbr_0</th>\n",
       "      <th>store_nbr_1</th>\n",
       "      <th>store_nbr_2</th>\n",
       "      <th>store_nbr_3</th>\n",
       "      <th>store_nbr_4</th>\n",
       "      <th>store_nbr_5</th>\n",
       "      <th>family_0</th>\n",
       "      <th>family_1</th>\n",
       "      <th>...</th>\n",
       "      <th>city_3</th>\n",
       "      <th>city_4</th>\n",
       "      <th>state_0</th>\n",
       "      <th>state_1</th>\n",
       "      <th>state_2</th>\n",
       "      <th>state_3</th>\n",
       "      <th>type</th>\n",
       "      <th>cluster</th>\n",
       "      <th>dcoilwtico</th>\n",
       "      <th>holiday?</th>\n",
       "    </tr>\n",
       "  </thead>\n",
       "  <tbody>\n",
       "    <tr>\n",
       "      <th>0</th>\n",
       "      <td>3000888</td>\n",
       "      <td>2017-08-16</td>\n",
       "      <td>0</td>\n",
       "      <td>0</td>\n",
       "      <td>0</td>\n",
       "      <td>0</td>\n",
       "      <td>0</td>\n",
       "      <td>0</td>\n",
       "      <td>0</td>\n",
       "      <td>0</td>\n",
       "      <td>...</td>\n",
       "      <td>0</td>\n",
       "      <td>0</td>\n",
       "      <td>0</td>\n",
       "      <td>0</td>\n",
       "      <td>0</td>\n",
       "      <td>0</td>\n",
       "      <td>D</td>\n",
       "      <td>13</td>\n",
       "      <td>46.8</td>\n",
       "      <td>0.0</td>\n",
       "    </tr>\n",
       "    <tr>\n",
       "      <th>1</th>\n",
       "      <td>3000889</td>\n",
       "      <td>2017-08-16</td>\n",
       "      <td>0</td>\n",
       "      <td>0</td>\n",
       "      <td>0</td>\n",
       "      <td>0</td>\n",
       "      <td>0</td>\n",
       "      <td>0</td>\n",
       "      <td>0</td>\n",
       "      <td>0</td>\n",
       "      <td>...</td>\n",
       "      <td>0</td>\n",
       "      <td>0</td>\n",
       "      <td>0</td>\n",
       "      <td>0</td>\n",
       "      <td>0</td>\n",
       "      <td>0</td>\n",
       "      <td>D</td>\n",
       "      <td>13</td>\n",
       "      <td>46.8</td>\n",
       "      <td>0.0</td>\n",
       "    </tr>\n",
       "    <tr>\n",
       "      <th>2</th>\n",
       "      <td>3000890</td>\n",
       "      <td>2017-08-16</td>\n",
       "      <td>0</td>\n",
       "      <td>0</td>\n",
       "      <td>0</td>\n",
       "      <td>0</td>\n",
       "      <td>0</td>\n",
       "      <td>0</td>\n",
       "      <td>0</td>\n",
       "      <td>0</td>\n",
       "      <td>...</td>\n",
       "      <td>0</td>\n",
       "      <td>0</td>\n",
       "      <td>0</td>\n",
       "      <td>0</td>\n",
       "      <td>0</td>\n",
       "      <td>0</td>\n",
       "      <td>D</td>\n",
       "      <td>13</td>\n",
       "      <td>46.8</td>\n",
       "      <td>0.0</td>\n",
       "    </tr>\n",
       "    <tr>\n",
       "      <th>3</th>\n",
       "      <td>3000891</td>\n",
       "      <td>2017-08-16</td>\n",
       "      <td>0</td>\n",
       "      <td>0</td>\n",
       "      <td>0</td>\n",
       "      <td>0</td>\n",
       "      <td>0</td>\n",
       "      <td>0</td>\n",
       "      <td>0</td>\n",
       "      <td>0</td>\n",
       "      <td>...</td>\n",
       "      <td>0</td>\n",
       "      <td>0</td>\n",
       "      <td>0</td>\n",
       "      <td>0</td>\n",
       "      <td>0</td>\n",
       "      <td>0</td>\n",
       "      <td>D</td>\n",
       "      <td>13</td>\n",
       "      <td>46.8</td>\n",
       "      <td>0.0</td>\n",
       "    </tr>\n",
       "    <tr>\n",
       "      <th>4</th>\n",
       "      <td>3000892</td>\n",
       "      <td>2017-08-16</td>\n",
       "      <td>0</td>\n",
       "      <td>0</td>\n",
       "      <td>0</td>\n",
       "      <td>0</td>\n",
       "      <td>0</td>\n",
       "      <td>0</td>\n",
       "      <td>0</td>\n",
       "      <td>0</td>\n",
       "      <td>...</td>\n",
       "      <td>0</td>\n",
       "      <td>0</td>\n",
       "      <td>0</td>\n",
       "      <td>0</td>\n",
       "      <td>0</td>\n",
       "      <td>0</td>\n",
       "      <td>D</td>\n",
       "      <td>13</td>\n",
       "      <td>46.8</td>\n",
       "      <td>0.0</td>\n",
       "    </tr>\n",
       "  </tbody>\n",
       "</table>\n",
       "<p>5 rows × 28 columns</p>\n",
       "</div>"
      ],
      "text/plain": [
       "        id       date  store_nbr_0  store_nbr_1  store_nbr_2  store_nbr_3  \\\n",
       "0  3000888 2017-08-16            0            0            0            0   \n",
       "1  3000889 2017-08-16            0            0            0            0   \n",
       "2  3000890 2017-08-16            0            0            0            0   \n",
       "3  3000891 2017-08-16            0            0            0            0   \n",
       "4  3000892 2017-08-16            0            0            0            0   \n",
       "\n",
       "   store_nbr_4  store_nbr_5  family_0  family_1  ...  city_3  city_4  state_0  \\\n",
       "0            0            0         0         0  ...       0       0        0   \n",
       "1            0            0         0         0  ...       0       0        0   \n",
       "2            0            0         0         0  ...       0       0        0   \n",
       "3            0            0         0         0  ...       0       0        0   \n",
       "4            0            0         0         0  ...       0       0        0   \n",
       "\n",
       "   state_1  state_2  state_3  type  cluster  dcoilwtico  holiday?  \n",
       "0        0        0        0     D       13        46.8       0.0  \n",
       "1        0        0        0     D       13        46.8       0.0  \n",
       "2        0        0        0     D       13        46.8       0.0  \n",
       "3        0        0        0     D       13        46.8       0.0  \n",
       "4        0        0        0     D       13        46.8       0.0  \n",
       "\n",
       "[5 rows x 28 columns]"
      ]
     },
     "execution_count": 67,
     "metadata": {},
     "output_type": "execute_result"
    }
   ],
   "source": [
    "df_test_7.head()"
   ]
  },
  {
   "cell_type": "code",
   "execution_count": 68,
   "id": "97c595a492c883ec",
   "metadata": {
    "ExecuteTime": {
     "end_time": "2023-08-24T21:57:27.297699Z",
     "start_time": "2023-08-24T21:57:27.257938Z"
    }
   },
   "outputs": [
    {
     "name": "stdout",
     "output_type": "stream",
     "text": [
      "Number of rows in training set :  1048575\n",
      "Number of rows in testing set  :  28512\n"
     ]
    }
   ],
   "source": [
    "print(\"Number of rows in training set : \",len(df_train_7))\n",
    "print(\"Number of rows in testing set  : \",len(df_test_7))"
   ]
  },
  {
   "cell_type": "markdown",
   "id": "7472e1419e15d955",
   "metadata": {},
   "source": [
    "### Checking for \"cluster\" feature"
   ]
  },
  {
   "cell_type": "code",
   "execution_count": 74,
   "id": "7b7129c2a66c40ab",
   "metadata": {
    "ExecuteTime": {
     "end_time": "2023-08-24T22:02:42.586986Z",
     "start_time": "2023-08-24T22:02:42.568100Z"
    }
   },
   "outputs": [],
   "source": [
    "clu_train = df_train_7[\"cluster\"].unique()\n",
    "clu_test = df_test_7[\"cluster\"].unique()\n",
    "\n",
    "clu_train.sort()\n",
    "clu_test.sort()\n",
    "\n",
    "clu_train = clu_train - 1\n",
    "clu_test = clu_test - 1"
   ]
  },
  {
   "cell_type": "code",
   "execution_count": 75,
   "id": "d0a3063bd0ffac99",
   "metadata": {
    "ExecuteTime": {
     "end_time": "2023-08-24T22:02:43.392555Z",
     "start_time": "2023-08-24T22:02:43.374670Z"
    }
   },
   "outputs": [
    {
     "data": {
      "text/plain": [
       "array([ 0,  1,  2,  3,  4,  5,  6,  7,  8,  9, 10, 11, 12, 13, 14, 15, 16])"
      ]
     },
     "execution_count": 75,
     "metadata": {},
     "output_type": "execute_result"
    }
   ],
   "source": [
    "clu_train"
   ]
  },
  {
   "cell_type": "code",
   "execution_count": 76,
   "id": "f2853860eeb76b08",
   "metadata": {
    "ExecuteTime": {
     "end_time": "2023-08-24T22:02:47.735420Z",
     "start_time": "2023-08-24T22:02:47.699912Z"
    }
   },
   "outputs": [
    {
     "data": {
      "text/plain": [
       "array([ 0,  1,  2,  3,  4,  5,  6,  7,  8,  9, 10, 11, 12, 13, 14, 15, 16])"
      ]
     },
     "execution_count": 76,
     "metadata": {},
     "output_type": "execute_result"
    }
   ],
   "source": [
    "clu_test"
   ]
  },
  {
   "cell_type": "code",
   "execution_count": 100,
   "id": "9c269f8f46b24d12",
   "metadata": {
    "ExecuteTime": {
     "end_time": "2023-08-24T22:13:45.645805Z",
     "start_time": "2023-08-24T22:13:45.494080Z"
    }
   },
   "outputs": [],
   "source": [
    "df_train_8 = df_train_7.copy()\n",
    "df_test_8 = df_test_7.copy()\n",
    "df_train_8[\"cluster\"] = df_train_8[\"cluster\"] - 1\n",
    "df_test_8[\"cluster\"] = df_test_8[\"cluster\"] - 1"
   ]
  },
  {
   "cell_type": "code",
   "execution_count": 101,
   "id": "5b2db97aeb63c762",
   "metadata": {
    "ExecuteTime": {
     "end_time": "2023-08-24T22:13:50.651441Z",
     "start_time": "2023-08-24T22:13:46.385798Z"
    }
   },
   "outputs": [],
   "source": [
    "cluster_train = binary_encoder(df_train_8,\"cluster\")\n",
    "cluster_test = binary_encoder(df_test_8,\"cluster\")"
   ]
  },
  {
   "cell_type": "code",
   "execution_count": 102,
   "id": "dd3dac1873364998",
   "metadata": {
    "ExecuteTime": {
     "end_time": "2023-08-24T22:13:50.656199Z",
     "start_time": "2023-08-24T22:13:50.652717Z"
    }
   },
   "outputs": [
    {
     "data": {
      "text/html": [
       "<div>\n",
       "<style scoped>\n",
       "    .dataframe tbody tr th:only-of-type {\n",
       "        vertical-align: middle;\n",
       "    }\n",
       "\n",
       "    .dataframe tbody tr th {\n",
       "        vertical-align: top;\n",
       "    }\n",
       "\n",
       "    .dataframe thead th {\n",
       "        text-align: right;\n",
       "    }\n",
       "</style>\n",
       "<table border=\"1\" class=\"dataframe\">\n",
       "  <thead>\n",
       "    <tr style=\"text-align: right;\">\n",
       "      <th></th>\n",
       "      <th>cluster_0</th>\n",
       "      <th>cluster_1</th>\n",
       "      <th>cluster_2</th>\n",
       "      <th>cluster_3</th>\n",
       "      <th>cluster_4</th>\n",
       "    </tr>\n",
       "  </thead>\n",
       "  <tbody>\n",
       "    <tr>\n",
       "      <th>0</th>\n",
       "      <td>0</td>\n",
       "      <td>1</td>\n",
       "      <td>1</td>\n",
       "      <td>0</td>\n",
       "      <td>0</td>\n",
       "    </tr>\n",
       "    <tr>\n",
       "      <th>1</th>\n",
       "      <td>0</td>\n",
       "      <td>1</td>\n",
       "      <td>1</td>\n",
       "      <td>0</td>\n",
       "      <td>0</td>\n",
       "    </tr>\n",
       "    <tr>\n",
       "      <th>2</th>\n",
       "      <td>0</td>\n",
       "      <td>1</td>\n",
       "      <td>1</td>\n",
       "      <td>0</td>\n",
       "      <td>0</td>\n",
       "    </tr>\n",
       "    <tr>\n",
       "      <th>3</th>\n",
       "      <td>0</td>\n",
       "      <td>1</td>\n",
       "      <td>1</td>\n",
       "      <td>0</td>\n",
       "      <td>0</td>\n",
       "    </tr>\n",
       "    <tr>\n",
       "      <th>4</th>\n",
       "      <td>0</td>\n",
       "      <td>1</td>\n",
       "      <td>1</td>\n",
       "      <td>0</td>\n",
       "      <td>0</td>\n",
       "    </tr>\n",
       "  </tbody>\n",
       "</table>\n",
       "</div>"
      ],
      "text/plain": [
       "   cluster_0  cluster_1  cluster_2  cluster_3  cluster_4\n",
       "0          0          1          1          0          0\n",
       "1          0          1          1          0          0\n",
       "2          0          1          1          0          0\n",
       "3          0          1          1          0          0\n",
       "4          0          1          1          0          0"
      ]
     },
     "execution_count": 102,
     "metadata": {},
     "output_type": "execute_result"
    }
   ],
   "source": [
    "cluster_train.head()"
   ]
  },
  {
   "cell_type": "code",
   "execution_count": 103,
   "id": "c9916d4b0d08ac5",
   "metadata": {
    "ExecuteTime": {
     "end_time": "2023-08-24T22:13:50.658648Z",
     "start_time": "2023-08-24T22:13:50.656295Z"
    }
   },
   "outputs": [
    {
     "data": {
      "text/html": [
       "<div>\n",
       "<style scoped>\n",
       "    .dataframe tbody tr th:only-of-type {\n",
       "        vertical-align: middle;\n",
       "    }\n",
       "\n",
       "    .dataframe tbody tr th {\n",
       "        vertical-align: top;\n",
       "    }\n",
       "\n",
       "    .dataframe thead th {\n",
       "        text-align: right;\n",
       "    }\n",
       "</style>\n",
       "<table border=\"1\" class=\"dataframe\">\n",
       "  <thead>\n",
       "    <tr style=\"text-align: right;\">\n",
       "      <th></th>\n",
       "      <th>cluster_0</th>\n",
       "      <th>cluster_1</th>\n",
       "      <th>cluster_2</th>\n",
       "      <th>cluster_3</th>\n",
       "      <th>cluster_4</th>\n",
       "    </tr>\n",
       "  </thead>\n",
       "  <tbody>\n",
       "    <tr>\n",
       "      <th>0</th>\n",
       "      <td>0</td>\n",
       "      <td>1</td>\n",
       "      <td>1</td>\n",
       "      <td>0</td>\n",
       "      <td>0</td>\n",
       "    </tr>\n",
       "    <tr>\n",
       "      <th>1</th>\n",
       "      <td>0</td>\n",
       "      <td>1</td>\n",
       "      <td>1</td>\n",
       "      <td>0</td>\n",
       "      <td>0</td>\n",
       "    </tr>\n",
       "    <tr>\n",
       "      <th>2</th>\n",
       "      <td>0</td>\n",
       "      <td>1</td>\n",
       "      <td>1</td>\n",
       "      <td>0</td>\n",
       "      <td>0</td>\n",
       "    </tr>\n",
       "    <tr>\n",
       "      <th>3</th>\n",
       "      <td>0</td>\n",
       "      <td>1</td>\n",
       "      <td>1</td>\n",
       "      <td>0</td>\n",
       "      <td>0</td>\n",
       "    </tr>\n",
       "    <tr>\n",
       "      <th>4</th>\n",
       "      <td>0</td>\n",
       "      <td>1</td>\n",
       "      <td>1</td>\n",
       "      <td>0</td>\n",
       "      <td>0</td>\n",
       "    </tr>\n",
       "  </tbody>\n",
       "</table>\n",
       "</div>"
      ],
      "text/plain": [
       "   cluster_0  cluster_1  cluster_2  cluster_3  cluster_4\n",
       "0          0          1          1          0          0\n",
       "1          0          1          1          0          0\n",
       "2          0          1          1          0          0\n",
       "3          0          1          1          0          0\n",
       "4          0          1          1          0          0"
      ]
     },
     "execution_count": 103,
     "metadata": {},
     "output_type": "execute_result"
    }
   ],
   "source": [
    "cluster_test.head()"
   ]
  },
  {
   "cell_type": "code",
   "execution_count": 104,
   "id": "252b2fece7f078d",
   "metadata": {
    "ExecuteTime": {
     "end_time": "2023-08-24T22:13:50.662232Z",
     "start_time": "2023-08-24T22:13:50.658719Z"
    }
   },
   "outputs": [
    {
     "name": "stdout",
     "output_type": "stream",
     "text": [
      "Number of rows in training set :  1048575\n",
      "Number of rows in testing set  :  28512\n"
     ]
    }
   ],
   "source": [
    "print(\"Number of rows in training set : \",len(cluster_train))\n",
    "print(\"Number of rows in testing set  : \",len(cluster_test))"
   ]
  },
  {
   "cell_type": "code",
   "execution_count": 106,
   "id": "b748df67376b8f6d",
   "metadata": {
    "ExecuteTime": {
     "end_time": "2023-08-24T22:13:55.773945Z",
     "start_time": "2023-08-24T22:13:55.515044Z"
    }
   },
   "outputs": [],
   "source": [
    "df_train_9 = df_train_8.copy()\n",
    "df_test_9 = df_test_8.copy()\n",
    "df_train_9[cluster_train.columns.values] = cluster_train\n",
    "df_test_9[cluster_test.columns.values] = cluster_test\n",
    "df_train_9.drop(\"cluster\",axis=1,inplace=True)\n",
    "df_test_9.drop(\"cluster\",axis=1,inplace=True)\n",
    "df_train_9 = df_train_9[[\"id\",\"date\",\"store_nbr_0\",\"store_nbr_1\",\"store_nbr_2\",\"store_nbr_3\",\"store_nbr_4\",\"store_nbr_5\",\"family_0\",\"family_1\",\"family_2\",\"family_3\",\"family_4\",\"family_5\",\"onpromotion\",\"city_0\",\"city_1\",\"city_2\",\"city_3\",\"city_4\",\"state_0\",\"state_1\",\"state_2\",\"state_3\",\"type\",'cluster_0', 'cluster_1', 'cluster_2', 'cluster_3', 'cluster_4',\"dcoilwtico\",\"holiday?\",\"sales\"]]\n",
    "df_test_9 = df_test_9[[\"id\",\"date\",\"store_nbr_0\",\"store_nbr_1\",\"store_nbr_2\",\"store_nbr_3\",\"store_nbr_4\",\"store_nbr_5\",\"family_0\",\"family_1\",\"family_2\",\"family_3\",\"family_4\",\"family_5\",\"onpromotion\",\"city_0\",\"city_1\",\"city_2\",\"city_3\",\"city_4\",\"state_0\",\"state_1\",\"state_2\",\"state_3\",\"type\",'cluster_0', 'cluster_1', 'cluster_2', 'cluster_3', 'cluster_4',\"dcoilwtico\",\"holiday?\"]]"
   ]
  },
  {
   "cell_type": "code",
   "execution_count": 107,
   "id": "ee0ab20084c8c60e",
   "metadata": {
    "ExecuteTime": {
     "end_time": "2023-08-24T22:14:02.302067Z",
     "start_time": "2023-08-24T22:14:02.259003Z"
    }
   },
   "outputs": [
    {
     "data": {
      "text/html": [
       "<div>\n",
       "<style scoped>\n",
       "    .dataframe tbody tr th:only-of-type {\n",
       "        vertical-align: middle;\n",
       "    }\n",
       "\n",
       "    .dataframe tbody tr th {\n",
       "        vertical-align: top;\n",
       "    }\n",
       "\n",
       "    .dataframe thead th {\n",
       "        text-align: right;\n",
       "    }\n",
       "</style>\n",
       "<table border=\"1\" class=\"dataframe\">\n",
       "  <thead>\n",
       "    <tr style=\"text-align: right;\">\n",
       "      <th></th>\n",
       "      <th>id</th>\n",
       "      <th>date</th>\n",
       "      <th>store_nbr_0</th>\n",
       "      <th>store_nbr_1</th>\n",
       "      <th>store_nbr_2</th>\n",
       "      <th>store_nbr_3</th>\n",
       "      <th>store_nbr_4</th>\n",
       "      <th>store_nbr_5</th>\n",
       "      <th>family_0</th>\n",
       "      <th>family_1</th>\n",
       "      <th>...</th>\n",
       "      <th>state_3</th>\n",
       "      <th>type</th>\n",
       "      <th>cluster_0</th>\n",
       "      <th>cluster_1</th>\n",
       "      <th>cluster_2</th>\n",
       "      <th>cluster_3</th>\n",
       "      <th>cluster_4</th>\n",
       "      <th>dcoilwtico</th>\n",
       "      <th>holiday?</th>\n",
       "      <th>sales</th>\n",
       "    </tr>\n",
       "  </thead>\n",
       "  <tbody>\n",
       "    <tr>\n",
       "      <th>0</th>\n",
       "      <td>0</td>\n",
       "      <td>2013-01-01</td>\n",
       "      <td>0</td>\n",
       "      <td>0</td>\n",
       "      <td>0</td>\n",
       "      <td>0</td>\n",
       "      <td>0</td>\n",
       "      <td>0</td>\n",
       "      <td>0</td>\n",
       "      <td>0</td>\n",
       "      <td>...</td>\n",
       "      <td>0</td>\n",
       "      <td>D</td>\n",
       "      <td>0</td>\n",
       "      <td>1</td>\n",
       "      <td>1</td>\n",
       "      <td>0</td>\n",
       "      <td>0</td>\n",
       "      <td>93.366</td>\n",
       "      <td>1.0</td>\n",
       "      <td>0.0</td>\n",
       "    </tr>\n",
       "    <tr>\n",
       "      <th>1</th>\n",
       "      <td>1</td>\n",
       "      <td>2013-01-01</td>\n",
       "      <td>0</td>\n",
       "      <td>0</td>\n",
       "      <td>0</td>\n",
       "      <td>0</td>\n",
       "      <td>0</td>\n",
       "      <td>0</td>\n",
       "      <td>0</td>\n",
       "      <td>0</td>\n",
       "      <td>...</td>\n",
       "      <td>0</td>\n",
       "      <td>D</td>\n",
       "      <td>0</td>\n",
       "      <td>1</td>\n",
       "      <td>1</td>\n",
       "      <td>0</td>\n",
       "      <td>0</td>\n",
       "      <td>93.366</td>\n",
       "      <td>1.0</td>\n",
       "      <td>0.0</td>\n",
       "    </tr>\n",
       "    <tr>\n",
       "      <th>2</th>\n",
       "      <td>2</td>\n",
       "      <td>2013-01-01</td>\n",
       "      <td>0</td>\n",
       "      <td>0</td>\n",
       "      <td>0</td>\n",
       "      <td>0</td>\n",
       "      <td>0</td>\n",
       "      <td>0</td>\n",
       "      <td>0</td>\n",
       "      <td>0</td>\n",
       "      <td>...</td>\n",
       "      <td>0</td>\n",
       "      <td>D</td>\n",
       "      <td>0</td>\n",
       "      <td>1</td>\n",
       "      <td>1</td>\n",
       "      <td>0</td>\n",
       "      <td>0</td>\n",
       "      <td>93.366</td>\n",
       "      <td>1.0</td>\n",
       "      <td>0.0</td>\n",
       "    </tr>\n",
       "    <tr>\n",
       "      <th>3</th>\n",
       "      <td>3</td>\n",
       "      <td>2013-01-01</td>\n",
       "      <td>0</td>\n",
       "      <td>0</td>\n",
       "      <td>0</td>\n",
       "      <td>0</td>\n",
       "      <td>0</td>\n",
       "      <td>0</td>\n",
       "      <td>0</td>\n",
       "      <td>0</td>\n",
       "      <td>...</td>\n",
       "      <td>0</td>\n",
       "      <td>D</td>\n",
       "      <td>0</td>\n",
       "      <td>1</td>\n",
       "      <td>1</td>\n",
       "      <td>0</td>\n",
       "      <td>0</td>\n",
       "      <td>93.366</td>\n",
       "      <td>1.0</td>\n",
       "      <td>0.0</td>\n",
       "    </tr>\n",
       "    <tr>\n",
       "      <th>4</th>\n",
       "      <td>4</td>\n",
       "      <td>2013-01-01</td>\n",
       "      <td>0</td>\n",
       "      <td>0</td>\n",
       "      <td>0</td>\n",
       "      <td>0</td>\n",
       "      <td>0</td>\n",
       "      <td>0</td>\n",
       "      <td>0</td>\n",
       "      <td>0</td>\n",
       "      <td>...</td>\n",
       "      <td>0</td>\n",
       "      <td>D</td>\n",
       "      <td>0</td>\n",
       "      <td>1</td>\n",
       "      <td>1</td>\n",
       "      <td>0</td>\n",
       "      <td>0</td>\n",
       "      <td>93.366</td>\n",
       "      <td>1.0</td>\n",
       "      <td>0.0</td>\n",
       "    </tr>\n",
       "  </tbody>\n",
       "</table>\n",
       "<p>5 rows × 33 columns</p>\n",
       "</div>"
      ],
      "text/plain": [
       "   id       date  store_nbr_0  store_nbr_1  store_nbr_2  store_nbr_3  \\\n",
       "0   0 2013-01-01            0            0            0            0   \n",
       "1   1 2013-01-01            0            0            0            0   \n",
       "2   2 2013-01-01            0            0            0            0   \n",
       "3   3 2013-01-01            0            0            0            0   \n",
       "4   4 2013-01-01            0            0            0            0   \n",
       "\n",
       "   store_nbr_4  store_nbr_5  family_0  family_1  ...  state_3  type  \\\n",
       "0            0            0         0         0  ...        0     D   \n",
       "1            0            0         0         0  ...        0     D   \n",
       "2            0            0         0         0  ...        0     D   \n",
       "3            0            0         0         0  ...        0     D   \n",
       "4            0            0         0         0  ...        0     D   \n",
       "\n",
       "   cluster_0  cluster_1  cluster_2  cluster_3  cluster_4  dcoilwtico  \\\n",
       "0          0          1          1          0          0      93.366   \n",
       "1          0          1          1          0          0      93.366   \n",
       "2          0          1          1          0          0      93.366   \n",
       "3          0          1          1          0          0      93.366   \n",
       "4          0          1          1          0          0      93.366   \n",
       "\n",
       "   holiday?  sales  \n",
       "0       1.0    0.0  \n",
       "1       1.0    0.0  \n",
       "2       1.0    0.0  \n",
       "3       1.0    0.0  \n",
       "4       1.0    0.0  \n",
       "\n",
       "[5 rows x 33 columns]"
      ]
     },
     "execution_count": 107,
     "metadata": {},
     "output_type": "execute_result"
    }
   ],
   "source": [
    "df_train_9.head()"
   ]
  },
  {
   "cell_type": "code",
   "execution_count": 108,
   "id": "62ca1ae19833b080",
   "metadata": {
    "ExecuteTime": {
     "end_time": "2023-08-24T22:14:08.449416Z",
     "start_time": "2023-08-24T22:14:08.409599Z"
    }
   },
   "outputs": [
    {
     "data": {
      "text/html": [
       "<div>\n",
       "<style scoped>\n",
       "    .dataframe tbody tr th:only-of-type {\n",
       "        vertical-align: middle;\n",
       "    }\n",
       "\n",
       "    .dataframe tbody tr th {\n",
       "        vertical-align: top;\n",
       "    }\n",
       "\n",
       "    .dataframe thead th {\n",
       "        text-align: right;\n",
       "    }\n",
       "</style>\n",
       "<table border=\"1\" class=\"dataframe\">\n",
       "  <thead>\n",
       "    <tr style=\"text-align: right;\">\n",
       "      <th></th>\n",
       "      <th>id</th>\n",
       "      <th>date</th>\n",
       "      <th>store_nbr_0</th>\n",
       "      <th>store_nbr_1</th>\n",
       "      <th>store_nbr_2</th>\n",
       "      <th>store_nbr_3</th>\n",
       "      <th>store_nbr_4</th>\n",
       "      <th>store_nbr_5</th>\n",
       "      <th>family_0</th>\n",
       "      <th>family_1</th>\n",
       "      <th>...</th>\n",
       "      <th>state_2</th>\n",
       "      <th>state_3</th>\n",
       "      <th>type</th>\n",
       "      <th>cluster_0</th>\n",
       "      <th>cluster_1</th>\n",
       "      <th>cluster_2</th>\n",
       "      <th>cluster_3</th>\n",
       "      <th>cluster_4</th>\n",
       "      <th>dcoilwtico</th>\n",
       "      <th>holiday?</th>\n",
       "    </tr>\n",
       "  </thead>\n",
       "  <tbody>\n",
       "    <tr>\n",
       "      <th>0</th>\n",
       "      <td>3000888</td>\n",
       "      <td>2017-08-16</td>\n",
       "      <td>0</td>\n",
       "      <td>0</td>\n",
       "      <td>0</td>\n",
       "      <td>0</td>\n",
       "      <td>0</td>\n",
       "      <td>0</td>\n",
       "      <td>0</td>\n",
       "      <td>0</td>\n",
       "      <td>...</td>\n",
       "      <td>0</td>\n",
       "      <td>0</td>\n",
       "      <td>D</td>\n",
       "      <td>0</td>\n",
       "      <td>1</td>\n",
       "      <td>1</td>\n",
       "      <td>0</td>\n",
       "      <td>0</td>\n",
       "      <td>46.8</td>\n",
       "      <td>0.0</td>\n",
       "    </tr>\n",
       "    <tr>\n",
       "      <th>1</th>\n",
       "      <td>3000889</td>\n",
       "      <td>2017-08-16</td>\n",
       "      <td>0</td>\n",
       "      <td>0</td>\n",
       "      <td>0</td>\n",
       "      <td>0</td>\n",
       "      <td>0</td>\n",
       "      <td>0</td>\n",
       "      <td>0</td>\n",
       "      <td>0</td>\n",
       "      <td>...</td>\n",
       "      <td>0</td>\n",
       "      <td>0</td>\n",
       "      <td>D</td>\n",
       "      <td>0</td>\n",
       "      <td>1</td>\n",
       "      <td>1</td>\n",
       "      <td>0</td>\n",
       "      <td>0</td>\n",
       "      <td>46.8</td>\n",
       "      <td>0.0</td>\n",
       "    </tr>\n",
       "    <tr>\n",
       "      <th>2</th>\n",
       "      <td>3000890</td>\n",
       "      <td>2017-08-16</td>\n",
       "      <td>0</td>\n",
       "      <td>0</td>\n",
       "      <td>0</td>\n",
       "      <td>0</td>\n",
       "      <td>0</td>\n",
       "      <td>0</td>\n",
       "      <td>0</td>\n",
       "      <td>0</td>\n",
       "      <td>...</td>\n",
       "      <td>0</td>\n",
       "      <td>0</td>\n",
       "      <td>D</td>\n",
       "      <td>0</td>\n",
       "      <td>1</td>\n",
       "      <td>1</td>\n",
       "      <td>0</td>\n",
       "      <td>0</td>\n",
       "      <td>46.8</td>\n",
       "      <td>0.0</td>\n",
       "    </tr>\n",
       "    <tr>\n",
       "      <th>3</th>\n",
       "      <td>3000891</td>\n",
       "      <td>2017-08-16</td>\n",
       "      <td>0</td>\n",
       "      <td>0</td>\n",
       "      <td>0</td>\n",
       "      <td>0</td>\n",
       "      <td>0</td>\n",
       "      <td>0</td>\n",
       "      <td>0</td>\n",
       "      <td>0</td>\n",
       "      <td>...</td>\n",
       "      <td>0</td>\n",
       "      <td>0</td>\n",
       "      <td>D</td>\n",
       "      <td>0</td>\n",
       "      <td>1</td>\n",
       "      <td>1</td>\n",
       "      <td>0</td>\n",
       "      <td>0</td>\n",
       "      <td>46.8</td>\n",
       "      <td>0.0</td>\n",
       "    </tr>\n",
       "    <tr>\n",
       "      <th>4</th>\n",
       "      <td>3000892</td>\n",
       "      <td>2017-08-16</td>\n",
       "      <td>0</td>\n",
       "      <td>0</td>\n",
       "      <td>0</td>\n",
       "      <td>0</td>\n",
       "      <td>0</td>\n",
       "      <td>0</td>\n",
       "      <td>0</td>\n",
       "      <td>0</td>\n",
       "      <td>...</td>\n",
       "      <td>0</td>\n",
       "      <td>0</td>\n",
       "      <td>D</td>\n",
       "      <td>0</td>\n",
       "      <td>1</td>\n",
       "      <td>1</td>\n",
       "      <td>0</td>\n",
       "      <td>0</td>\n",
       "      <td>46.8</td>\n",
       "      <td>0.0</td>\n",
       "    </tr>\n",
       "  </tbody>\n",
       "</table>\n",
       "<p>5 rows × 32 columns</p>\n",
       "</div>"
      ],
      "text/plain": [
       "        id       date  store_nbr_0  store_nbr_1  store_nbr_2  store_nbr_3  \\\n",
       "0  3000888 2017-08-16            0            0            0            0   \n",
       "1  3000889 2017-08-16            0            0            0            0   \n",
       "2  3000890 2017-08-16            0            0            0            0   \n",
       "3  3000891 2017-08-16            0            0            0            0   \n",
       "4  3000892 2017-08-16            0            0            0            0   \n",
       "\n",
       "   store_nbr_4  store_nbr_5  family_0  family_1  ...  state_2  state_3  type  \\\n",
       "0            0            0         0         0  ...        0        0     D   \n",
       "1            0            0         0         0  ...        0        0     D   \n",
       "2            0            0         0         0  ...        0        0     D   \n",
       "3            0            0         0         0  ...        0        0     D   \n",
       "4            0            0         0         0  ...        0        0     D   \n",
       "\n",
       "   cluster_0  cluster_1  cluster_2  cluster_3  cluster_4  dcoilwtico  holiday?  \n",
       "0          0          1          1          0          0        46.8       0.0  \n",
       "1          0          1          1          0          0        46.8       0.0  \n",
       "2          0          1          1          0          0        46.8       0.0  \n",
       "3          0          1          1          0          0        46.8       0.0  \n",
       "4          0          1          1          0          0        46.8       0.0  \n",
       "\n",
       "[5 rows x 32 columns]"
      ]
     },
     "execution_count": 108,
     "metadata": {},
     "output_type": "execute_result"
    }
   ],
   "source": [
    "df_test_9.head()"
   ]
  },
  {
   "cell_type": "code",
   "execution_count": 109,
   "id": "a1c1d4a1a8c2693c",
   "metadata": {
    "ExecuteTime": {
     "end_time": "2023-08-24T22:14:25.835601Z",
     "start_time": "2023-08-24T22:14:25.800031Z"
    }
   },
   "outputs": [
    {
     "name": "stdout",
     "output_type": "stream",
     "text": [
      "Number of rows in training set :  1048575\n",
      "Number of rows in testing set  :  28512\n"
     ]
    }
   ],
   "source": [
    "print(\"Number of rows in training set : \",len(df_train_9))\n",
    "print(\"Number of rows in testing set  : \",len(df_test_9))"
   ]
  },
  {
   "cell_type": "markdown",
   "id": "b943e1d8802434e0",
   "metadata": {},
   "source": [
    "### Checking for \"type\" column"
   ]
  },
  {
   "cell_type": "code",
   "execution_count": 112,
   "id": "3b91670d0e598369",
   "metadata": {
    "ExecuteTime": {
     "end_time": "2023-08-24T22:15:59.028458Z",
     "start_time": "2023-08-24T22:15:59.012962Z"
    }
   },
   "outputs": [],
   "source": [
    "type_train = df_train_9[\"type\"].unique()\n",
    "type_test = df_test_9[\"type\"].unique()\n",
    "type_train.sort()\n",
    "type_test.sort()"
   ]
  },
  {
   "cell_type": "code",
   "execution_count": 113,
   "id": "763267d8f76e9cec",
   "metadata": {
    "ExecuteTime": {
     "end_time": "2023-08-24T22:15:59.845341Z",
     "start_time": "2023-08-24T22:15:59.837035Z"
    }
   },
   "outputs": [
    {
     "data": {
      "text/plain": [
       "array(['A', 'B', 'C', 'D', 'E'], dtype=object)"
      ]
     },
     "execution_count": 113,
     "metadata": {},
     "output_type": "execute_result"
    }
   ],
   "source": [
    "type_train"
   ]
  },
  {
   "cell_type": "code",
   "execution_count": 114,
   "id": "97feb7dd1003b6f8",
   "metadata": {
    "ExecuteTime": {
     "end_time": "2023-08-24T22:16:04.707815Z",
     "start_time": "2023-08-24T22:16:04.675277Z"
    }
   },
   "outputs": [
    {
     "data": {
      "text/plain": [
       "array(['A', 'B', 'C', 'D', 'E'], dtype=object)"
      ]
     },
     "execution_count": 114,
     "metadata": {},
     "output_type": "execute_result"
    }
   ],
   "source": [
    "type_test"
   ]
  },
  {
   "cell_type": "code",
   "execution_count": 115,
   "id": "1166aa6d02450f8c",
   "metadata": {
    "ExecuteTime": {
     "end_time": "2023-08-24T22:16:47.195825Z",
     "start_time": "2023-08-24T22:16:47.145198Z"
    }
   },
   "outputs": [
    {
     "data": {
      "text/plain": [
       "{'A': 0, 'B': 1, 'C': 2, 'D': 3, 'E': 4}"
      ]
     },
     "execution_count": 115,
     "metadata": {},
     "output_type": "execute_result"
    }
   ],
   "source": [
    "type = dict()\n",
    "ctr = 0\n",
    "for i in type_train:\n",
    "    type[i] = ctr\n",
    "    ctr += 1\n",
    "type"
   ]
  },
  {
   "cell_type": "code",
   "execution_count": 116,
   "id": "c3da21375324d96c",
   "metadata": {
    "ExecuteTime": {
     "end_time": "2023-08-24T22:17:21.500890Z",
     "start_time": "2023-08-24T22:17:21.336693Z"
    }
   },
   "outputs": [],
   "source": [
    "df_train_10 = df_train_9.copy()\n",
    "df_test_10 = df_test_9.copy()"
   ]
  },
  {
   "cell_type": "code",
   "execution_count": 117,
   "id": "88911eedfa13730a",
   "metadata": {
    "ExecuteTime": {
     "end_time": "2023-08-24T22:18:09.288803Z",
     "start_time": "2023-08-24T22:18:09.227959Z"
    }
   },
   "outputs": [],
   "source": [
    "df_train_10[\"type\"] = df_train_10[\"type\"].map(type)\n",
    "df_test_10[\"type\"] = df_test_10[\"type\"].map(type)"
   ]
  },
  {
   "cell_type": "code",
   "execution_count": 118,
   "id": "53568babc00c385b",
   "metadata": {
    "ExecuteTime": {
     "end_time": "2023-08-24T22:18:48.981450Z",
     "start_time": "2023-08-24T22:18:45.830680Z"
    }
   },
   "outputs": [],
   "source": [
    "type_tr = binary_encoder(df_train_10,\"type\")\n",
    "type_te = binary_encoder(df_test_10,\"type\")"
   ]
  },
  {
   "cell_type": "code",
   "execution_count": 119,
   "id": "9190ebee1d47ea58",
   "metadata": {
    "ExecuteTime": {
     "end_time": "2023-08-24T22:20:05.109285Z",
     "start_time": "2023-08-24T22:20:05.069329Z"
    }
   },
   "outputs": [
    {
     "data": {
      "text/html": [
       "<div>\n",
       "<style scoped>\n",
       "    .dataframe tbody tr th:only-of-type {\n",
       "        vertical-align: middle;\n",
       "    }\n",
       "\n",
       "    .dataframe tbody tr th {\n",
       "        vertical-align: top;\n",
       "    }\n",
       "\n",
       "    .dataframe thead th {\n",
       "        text-align: right;\n",
       "    }\n",
       "</style>\n",
       "<table border=\"1\" class=\"dataframe\">\n",
       "  <thead>\n",
       "    <tr style=\"text-align: right;\">\n",
       "      <th></th>\n",
       "      <th>type_0</th>\n",
       "      <th>type_1</th>\n",
       "      <th>type_2</th>\n",
       "    </tr>\n",
       "  </thead>\n",
       "  <tbody>\n",
       "    <tr>\n",
       "      <th>0</th>\n",
       "      <td>0</td>\n",
       "      <td>1</td>\n",
       "      <td>1</td>\n",
       "    </tr>\n",
       "    <tr>\n",
       "      <th>1</th>\n",
       "      <td>0</td>\n",
       "      <td>1</td>\n",
       "      <td>1</td>\n",
       "    </tr>\n",
       "    <tr>\n",
       "      <th>2</th>\n",
       "      <td>0</td>\n",
       "      <td>1</td>\n",
       "      <td>1</td>\n",
       "    </tr>\n",
       "    <tr>\n",
       "      <th>3</th>\n",
       "      <td>0</td>\n",
       "      <td>1</td>\n",
       "      <td>1</td>\n",
       "    </tr>\n",
       "    <tr>\n",
       "      <th>4</th>\n",
       "      <td>0</td>\n",
       "      <td>1</td>\n",
       "      <td>1</td>\n",
       "    </tr>\n",
       "  </tbody>\n",
       "</table>\n",
       "</div>"
      ],
      "text/plain": [
       "   type_0  type_1  type_2\n",
       "0       0       1       1\n",
       "1       0       1       1\n",
       "2       0       1       1\n",
       "3       0       1       1\n",
       "4       0       1       1"
      ]
     },
     "execution_count": 119,
     "metadata": {},
     "output_type": "execute_result"
    }
   ],
   "source": [
    "type_tr.head()"
   ]
  },
  {
   "cell_type": "code",
   "execution_count": 120,
   "id": "be03d0126e51bed4",
   "metadata": {
    "ExecuteTime": {
     "end_time": "2023-08-24T22:20:18.488351Z",
     "start_time": "2023-08-24T22:20:18.443455Z"
    }
   },
   "outputs": [
    {
     "data": {
      "text/html": [
       "<div>\n",
       "<style scoped>\n",
       "    .dataframe tbody tr th:only-of-type {\n",
       "        vertical-align: middle;\n",
       "    }\n",
       "\n",
       "    .dataframe tbody tr th {\n",
       "        vertical-align: top;\n",
       "    }\n",
       "\n",
       "    .dataframe thead th {\n",
       "        text-align: right;\n",
       "    }\n",
       "</style>\n",
       "<table border=\"1\" class=\"dataframe\">\n",
       "  <thead>\n",
       "    <tr style=\"text-align: right;\">\n",
       "      <th></th>\n",
       "      <th>type_0</th>\n",
       "      <th>type_1</th>\n",
       "      <th>type_2</th>\n",
       "    </tr>\n",
       "  </thead>\n",
       "  <tbody>\n",
       "    <tr>\n",
       "      <th>0</th>\n",
       "      <td>0</td>\n",
       "      <td>1</td>\n",
       "      <td>1</td>\n",
       "    </tr>\n",
       "    <tr>\n",
       "      <th>1</th>\n",
       "      <td>0</td>\n",
       "      <td>1</td>\n",
       "      <td>1</td>\n",
       "    </tr>\n",
       "    <tr>\n",
       "      <th>2</th>\n",
       "      <td>0</td>\n",
       "      <td>1</td>\n",
       "      <td>1</td>\n",
       "    </tr>\n",
       "    <tr>\n",
       "      <th>3</th>\n",
       "      <td>0</td>\n",
       "      <td>1</td>\n",
       "      <td>1</td>\n",
       "    </tr>\n",
       "    <tr>\n",
       "      <th>4</th>\n",
       "      <td>0</td>\n",
       "      <td>1</td>\n",
       "      <td>1</td>\n",
       "    </tr>\n",
       "  </tbody>\n",
       "</table>\n",
       "</div>"
      ],
      "text/plain": [
       "   type_0  type_1  type_2\n",
       "0       0       1       1\n",
       "1       0       1       1\n",
       "2       0       1       1\n",
       "3       0       1       1\n",
       "4       0       1       1"
      ]
     },
     "execution_count": 120,
     "metadata": {},
     "output_type": "execute_result"
    }
   ],
   "source": [
    "type_te.head()"
   ]
  },
  {
   "cell_type": "code",
   "execution_count": 121,
   "id": "aeb65764103db311",
   "metadata": {
    "ExecuteTime": {
     "end_time": "2023-08-24T22:22:43.240902Z",
     "start_time": "2023-08-24T22:22:42.925486Z"
    }
   },
   "outputs": [],
   "source": [
    "df_train_11 = df_train_10.copy()\n",
    "df_test_11 = df_test_10.copy()\n",
    "df_train_11[type_tr.columns.values] = type_tr\n",
    "df_test_11[type_te.columns.values] = type_te\n",
    "df_train_11.drop(\"type\",axis=1,inplace=True)\n",
    "df_test_11.drop(\"type\",axis=1,inplace=True)\n",
    "df_train_11 = df_train_11[[\"id\",\"date\",\"store_nbr_0\",\"store_nbr_1\",\"store_nbr_2\",\"store_nbr_3\",\"store_nbr_4\",\"store_nbr_5\",\"family_0\",\"family_1\",\"family_2\",\"family_3\",\"family_4\",\"family_5\",\"onpromotion\",\"city_0\",\"city_1\",\"city_2\",\"city_3\",\"city_4\",\"state_0\",\"state_1\",\"state_2\",\"state_3\",\"type_0\",\"type_1\",\"type_2\",'cluster_0', 'cluster_1', 'cluster_2', 'cluster_3', 'cluster_4',\"dcoilwtico\",\"holiday?\",\"sales\"]]\n",
    "df_test_11 = df_test_11[[\"id\",\"date\",\"store_nbr_0\",\"store_nbr_1\",\"store_nbr_2\",\"store_nbr_3\",\"store_nbr_4\",\"store_nbr_5\",\"family_0\",\"family_1\",\"family_2\",\"family_3\",\"family_4\",\"family_5\",\"onpromotion\",\"city_0\",\"city_1\",\"city_2\",\"city_3\",\"city_4\",\"state_0\",\"state_1\",\"state_2\",\"state_3\",\"type_0\",\"type_1\",\"type_2\",'cluster_0', 'cluster_1', 'cluster_2', 'cluster_3', 'cluster_4',\"dcoilwtico\",\"holiday?\"]]"
   ]
  },
  {
   "cell_type": "code",
   "execution_count": 122,
   "id": "28ccbfe05dfb3b28",
   "metadata": {
    "ExecuteTime": {
     "end_time": "2023-08-24T22:22:49.452930Z",
     "start_time": "2023-08-24T22:22:49.415704Z"
    }
   },
   "outputs": [
    {
     "data": {
      "text/html": [
       "<div>\n",
       "<style scoped>\n",
       "    .dataframe tbody tr th:only-of-type {\n",
       "        vertical-align: middle;\n",
       "    }\n",
       "\n",
       "    .dataframe tbody tr th {\n",
       "        vertical-align: top;\n",
       "    }\n",
       "\n",
       "    .dataframe thead th {\n",
       "        text-align: right;\n",
       "    }\n",
       "</style>\n",
       "<table border=\"1\" class=\"dataframe\">\n",
       "  <thead>\n",
       "    <tr style=\"text-align: right;\">\n",
       "      <th></th>\n",
       "      <th>id</th>\n",
       "      <th>date</th>\n",
       "      <th>store_nbr_0</th>\n",
       "      <th>store_nbr_1</th>\n",
       "      <th>store_nbr_2</th>\n",
       "      <th>store_nbr_3</th>\n",
       "      <th>store_nbr_4</th>\n",
       "      <th>store_nbr_5</th>\n",
       "      <th>family_0</th>\n",
       "      <th>family_1</th>\n",
       "      <th>...</th>\n",
       "      <th>type_1</th>\n",
       "      <th>type_2</th>\n",
       "      <th>cluster_0</th>\n",
       "      <th>cluster_1</th>\n",
       "      <th>cluster_2</th>\n",
       "      <th>cluster_3</th>\n",
       "      <th>cluster_4</th>\n",
       "      <th>dcoilwtico</th>\n",
       "      <th>holiday?</th>\n",
       "      <th>sales</th>\n",
       "    </tr>\n",
       "  </thead>\n",
       "  <tbody>\n",
       "    <tr>\n",
       "      <th>0</th>\n",
       "      <td>0</td>\n",
       "      <td>2013-01-01</td>\n",
       "      <td>0</td>\n",
       "      <td>0</td>\n",
       "      <td>0</td>\n",
       "      <td>0</td>\n",
       "      <td>0</td>\n",
       "      <td>0</td>\n",
       "      <td>0</td>\n",
       "      <td>0</td>\n",
       "      <td>...</td>\n",
       "      <td>1</td>\n",
       "      <td>1</td>\n",
       "      <td>0</td>\n",
       "      <td>1</td>\n",
       "      <td>1</td>\n",
       "      <td>0</td>\n",
       "      <td>0</td>\n",
       "      <td>93.366</td>\n",
       "      <td>1.0</td>\n",
       "      <td>0.0</td>\n",
       "    </tr>\n",
       "    <tr>\n",
       "      <th>1</th>\n",
       "      <td>1</td>\n",
       "      <td>2013-01-01</td>\n",
       "      <td>0</td>\n",
       "      <td>0</td>\n",
       "      <td>0</td>\n",
       "      <td>0</td>\n",
       "      <td>0</td>\n",
       "      <td>0</td>\n",
       "      <td>0</td>\n",
       "      <td>0</td>\n",
       "      <td>...</td>\n",
       "      <td>1</td>\n",
       "      <td>1</td>\n",
       "      <td>0</td>\n",
       "      <td>1</td>\n",
       "      <td>1</td>\n",
       "      <td>0</td>\n",
       "      <td>0</td>\n",
       "      <td>93.366</td>\n",
       "      <td>1.0</td>\n",
       "      <td>0.0</td>\n",
       "    </tr>\n",
       "    <tr>\n",
       "      <th>2</th>\n",
       "      <td>2</td>\n",
       "      <td>2013-01-01</td>\n",
       "      <td>0</td>\n",
       "      <td>0</td>\n",
       "      <td>0</td>\n",
       "      <td>0</td>\n",
       "      <td>0</td>\n",
       "      <td>0</td>\n",
       "      <td>0</td>\n",
       "      <td>0</td>\n",
       "      <td>...</td>\n",
       "      <td>1</td>\n",
       "      <td>1</td>\n",
       "      <td>0</td>\n",
       "      <td>1</td>\n",
       "      <td>1</td>\n",
       "      <td>0</td>\n",
       "      <td>0</td>\n",
       "      <td>93.366</td>\n",
       "      <td>1.0</td>\n",
       "      <td>0.0</td>\n",
       "    </tr>\n",
       "    <tr>\n",
       "      <th>3</th>\n",
       "      <td>3</td>\n",
       "      <td>2013-01-01</td>\n",
       "      <td>0</td>\n",
       "      <td>0</td>\n",
       "      <td>0</td>\n",
       "      <td>0</td>\n",
       "      <td>0</td>\n",
       "      <td>0</td>\n",
       "      <td>0</td>\n",
       "      <td>0</td>\n",
       "      <td>...</td>\n",
       "      <td>1</td>\n",
       "      <td>1</td>\n",
       "      <td>0</td>\n",
       "      <td>1</td>\n",
       "      <td>1</td>\n",
       "      <td>0</td>\n",
       "      <td>0</td>\n",
       "      <td>93.366</td>\n",
       "      <td>1.0</td>\n",
       "      <td>0.0</td>\n",
       "    </tr>\n",
       "    <tr>\n",
       "      <th>4</th>\n",
       "      <td>4</td>\n",
       "      <td>2013-01-01</td>\n",
       "      <td>0</td>\n",
       "      <td>0</td>\n",
       "      <td>0</td>\n",
       "      <td>0</td>\n",
       "      <td>0</td>\n",
       "      <td>0</td>\n",
       "      <td>0</td>\n",
       "      <td>0</td>\n",
       "      <td>...</td>\n",
       "      <td>1</td>\n",
       "      <td>1</td>\n",
       "      <td>0</td>\n",
       "      <td>1</td>\n",
       "      <td>1</td>\n",
       "      <td>0</td>\n",
       "      <td>0</td>\n",
       "      <td>93.366</td>\n",
       "      <td>1.0</td>\n",
       "      <td>0.0</td>\n",
       "    </tr>\n",
       "  </tbody>\n",
       "</table>\n",
       "<p>5 rows × 35 columns</p>\n",
       "</div>"
      ],
      "text/plain": [
       "   id       date  store_nbr_0  store_nbr_1  store_nbr_2  store_nbr_3  \\\n",
       "0   0 2013-01-01            0            0            0            0   \n",
       "1   1 2013-01-01            0            0            0            0   \n",
       "2   2 2013-01-01            0            0            0            0   \n",
       "3   3 2013-01-01            0            0            0            0   \n",
       "4   4 2013-01-01            0            0            0            0   \n",
       "\n",
       "   store_nbr_4  store_nbr_5  family_0  family_1  ...  type_1  type_2  \\\n",
       "0            0            0         0         0  ...       1       1   \n",
       "1            0            0         0         0  ...       1       1   \n",
       "2            0            0         0         0  ...       1       1   \n",
       "3            0            0         0         0  ...       1       1   \n",
       "4            0            0         0         0  ...       1       1   \n",
       "\n",
       "   cluster_0  cluster_1  cluster_2  cluster_3  cluster_4  dcoilwtico  \\\n",
       "0          0          1          1          0          0      93.366   \n",
       "1          0          1          1          0          0      93.366   \n",
       "2          0          1          1          0          0      93.366   \n",
       "3          0          1          1          0          0      93.366   \n",
       "4          0          1          1          0          0      93.366   \n",
       "\n",
       "   holiday?  sales  \n",
       "0       1.0    0.0  \n",
       "1       1.0    0.0  \n",
       "2       1.0    0.0  \n",
       "3       1.0    0.0  \n",
       "4       1.0    0.0  \n",
       "\n",
       "[5 rows x 35 columns]"
      ]
     },
     "execution_count": 122,
     "metadata": {},
     "output_type": "execute_result"
    }
   ],
   "source": [
    "df_train_11.head()"
   ]
  },
  {
   "cell_type": "code",
   "execution_count": 123,
   "id": "86c39d80dead282a",
   "metadata": {
    "ExecuteTime": {
     "end_time": "2023-08-24T22:22:56.687679Z",
     "start_time": "2023-08-24T22:22:56.649141Z"
    }
   },
   "outputs": [
    {
     "data": {
      "text/html": [
       "<div>\n",
       "<style scoped>\n",
       "    .dataframe tbody tr th:only-of-type {\n",
       "        vertical-align: middle;\n",
       "    }\n",
       "\n",
       "    .dataframe tbody tr th {\n",
       "        vertical-align: top;\n",
       "    }\n",
       "\n",
       "    .dataframe thead th {\n",
       "        text-align: right;\n",
       "    }\n",
       "</style>\n",
       "<table border=\"1\" class=\"dataframe\">\n",
       "  <thead>\n",
       "    <tr style=\"text-align: right;\">\n",
       "      <th></th>\n",
       "      <th>id</th>\n",
       "      <th>date</th>\n",
       "      <th>store_nbr_0</th>\n",
       "      <th>store_nbr_1</th>\n",
       "      <th>store_nbr_2</th>\n",
       "      <th>store_nbr_3</th>\n",
       "      <th>store_nbr_4</th>\n",
       "      <th>store_nbr_5</th>\n",
       "      <th>family_0</th>\n",
       "      <th>family_1</th>\n",
       "      <th>...</th>\n",
       "      <th>type_0</th>\n",
       "      <th>type_1</th>\n",
       "      <th>type_2</th>\n",
       "      <th>cluster_0</th>\n",
       "      <th>cluster_1</th>\n",
       "      <th>cluster_2</th>\n",
       "      <th>cluster_3</th>\n",
       "      <th>cluster_4</th>\n",
       "      <th>dcoilwtico</th>\n",
       "      <th>holiday?</th>\n",
       "    </tr>\n",
       "  </thead>\n",
       "  <tbody>\n",
       "    <tr>\n",
       "      <th>0</th>\n",
       "      <td>3000888</td>\n",
       "      <td>2017-08-16</td>\n",
       "      <td>0</td>\n",
       "      <td>0</td>\n",
       "      <td>0</td>\n",
       "      <td>0</td>\n",
       "      <td>0</td>\n",
       "      <td>0</td>\n",
       "      <td>0</td>\n",
       "      <td>0</td>\n",
       "      <td>...</td>\n",
       "      <td>0</td>\n",
       "      <td>1</td>\n",
       "      <td>1</td>\n",
       "      <td>0</td>\n",
       "      <td>1</td>\n",
       "      <td>1</td>\n",
       "      <td>0</td>\n",
       "      <td>0</td>\n",
       "      <td>46.8</td>\n",
       "      <td>0.0</td>\n",
       "    </tr>\n",
       "    <tr>\n",
       "      <th>1</th>\n",
       "      <td>3000889</td>\n",
       "      <td>2017-08-16</td>\n",
       "      <td>0</td>\n",
       "      <td>0</td>\n",
       "      <td>0</td>\n",
       "      <td>0</td>\n",
       "      <td>0</td>\n",
       "      <td>0</td>\n",
       "      <td>0</td>\n",
       "      <td>0</td>\n",
       "      <td>...</td>\n",
       "      <td>0</td>\n",
       "      <td>1</td>\n",
       "      <td>1</td>\n",
       "      <td>0</td>\n",
       "      <td>1</td>\n",
       "      <td>1</td>\n",
       "      <td>0</td>\n",
       "      <td>0</td>\n",
       "      <td>46.8</td>\n",
       "      <td>0.0</td>\n",
       "    </tr>\n",
       "    <tr>\n",
       "      <th>2</th>\n",
       "      <td>3000890</td>\n",
       "      <td>2017-08-16</td>\n",
       "      <td>0</td>\n",
       "      <td>0</td>\n",
       "      <td>0</td>\n",
       "      <td>0</td>\n",
       "      <td>0</td>\n",
       "      <td>0</td>\n",
       "      <td>0</td>\n",
       "      <td>0</td>\n",
       "      <td>...</td>\n",
       "      <td>0</td>\n",
       "      <td>1</td>\n",
       "      <td>1</td>\n",
       "      <td>0</td>\n",
       "      <td>1</td>\n",
       "      <td>1</td>\n",
       "      <td>0</td>\n",
       "      <td>0</td>\n",
       "      <td>46.8</td>\n",
       "      <td>0.0</td>\n",
       "    </tr>\n",
       "    <tr>\n",
       "      <th>3</th>\n",
       "      <td>3000891</td>\n",
       "      <td>2017-08-16</td>\n",
       "      <td>0</td>\n",
       "      <td>0</td>\n",
       "      <td>0</td>\n",
       "      <td>0</td>\n",
       "      <td>0</td>\n",
       "      <td>0</td>\n",
       "      <td>0</td>\n",
       "      <td>0</td>\n",
       "      <td>...</td>\n",
       "      <td>0</td>\n",
       "      <td>1</td>\n",
       "      <td>1</td>\n",
       "      <td>0</td>\n",
       "      <td>1</td>\n",
       "      <td>1</td>\n",
       "      <td>0</td>\n",
       "      <td>0</td>\n",
       "      <td>46.8</td>\n",
       "      <td>0.0</td>\n",
       "    </tr>\n",
       "    <tr>\n",
       "      <th>4</th>\n",
       "      <td>3000892</td>\n",
       "      <td>2017-08-16</td>\n",
       "      <td>0</td>\n",
       "      <td>0</td>\n",
       "      <td>0</td>\n",
       "      <td>0</td>\n",
       "      <td>0</td>\n",
       "      <td>0</td>\n",
       "      <td>0</td>\n",
       "      <td>0</td>\n",
       "      <td>...</td>\n",
       "      <td>0</td>\n",
       "      <td>1</td>\n",
       "      <td>1</td>\n",
       "      <td>0</td>\n",
       "      <td>1</td>\n",
       "      <td>1</td>\n",
       "      <td>0</td>\n",
       "      <td>0</td>\n",
       "      <td>46.8</td>\n",
       "      <td>0.0</td>\n",
       "    </tr>\n",
       "  </tbody>\n",
       "</table>\n",
       "<p>5 rows × 34 columns</p>\n",
       "</div>"
      ],
      "text/plain": [
       "        id       date  store_nbr_0  store_nbr_1  store_nbr_2  store_nbr_3  \\\n",
       "0  3000888 2017-08-16            0            0            0            0   \n",
       "1  3000889 2017-08-16            0            0            0            0   \n",
       "2  3000890 2017-08-16            0            0            0            0   \n",
       "3  3000891 2017-08-16            0            0            0            0   \n",
       "4  3000892 2017-08-16            0            0            0            0   \n",
       "\n",
       "   store_nbr_4  store_nbr_5  family_0  family_1  ...  type_0  type_1  type_2  \\\n",
       "0            0            0         0         0  ...       0       1       1   \n",
       "1            0            0         0         0  ...       0       1       1   \n",
       "2            0            0         0         0  ...       0       1       1   \n",
       "3            0            0         0         0  ...       0       1       1   \n",
       "4            0            0         0         0  ...       0       1       1   \n",
       "\n",
       "   cluster_0  cluster_1  cluster_2  cluster_3  cluster_4  dcoilwtico  holiday?  \n",
       "0          0          1          1          0          0        46.8       0.0  \n",
       "1          0          1          1          0          0        46.8       0.0  \n",
       "2          0          1          1          0          0        46.8       0.0  \n",
       "3          0          1          1          0          0        46.8       0.0  \n",
       "4          0          1          1          0          0        46.8       0.0  \n",
       "\n",
       "[5 rows x 34 columns]"
      ]
     },
     "execution_count": 123,
     "metadata": {},
     "output_type": "execute_result"
    }
   ],
   "source": [
    "df_test_11.head()"
   ]
  },
  {
   "cell_type": "code",
   "execution_count": 124,
   "id": "4ea45dbb5041e66",
   "metadata": {
    "ExecuteTime": {
     "end_time": "2023-08-24T22:23:11.733463Z",
     "start_time": "2023-08-24T22:23:11.690398Z"
    }
   },
   "outputs": [
    {
     "name": "stdout",
     "output_type": "stream",
     "text": [
      "Number of rows in training set :  1048575\n",
      "Number of rows in testing set  :  28512\n"
     ]
    }
   ],
   "source": [
    "print(\"Number of rows in training set : \",len(df_train_11))\n",
    "print(\"Number of rows in testing set  : \",len(df_test_11))"
   ]
  },
  {
   "cell_type": "markdown",
   "id": "a08398a0837acee7",
   "metadata": {},
   "source": [
    "### Checking for date feature"
   ]
  },
  {
   "cell_type": "code",
   "execution_count": 146,
   "id": "e1b82d5a4c7edb9",
   "metadata": {
    "ExecuteTime": {
     "end_time": "2023-08-24T22:28:32.844270Z",
     "start_time": "2023-08-24T22:28:32.813341Z"
    }
   },
   "outputs": [
    {
     "data": {
      "text/plain": [
       "dtype('<M8[ns]')"
      ]
     },
     "execution_count": 146,
     "metadata": {},
     "output_type": "execute_result"
    }
   ],
   "source": [
    "df_train_11[\"date\"].dtype"
   ]
  },
  {
   "cell_type": "code",
   "execution_count": 147,
   "id": "7a695d5d88beff1c",
   "metadata": {
    "ExecuteTime": {
     "end_time": "2023-08-24T22:28:33.936122Z",
     "start_time": "2023-08-24T22:28:33.931021Z"
    }
   },
   "outputs": [
    {
     "data": {
      "text/plain": [
       "dtype('<M8[ns]')"
      ]
     },
     "execution_count": 147,
     "metadata": {},
     "output_type": "execute_result"
    }
   ],
   "source": [
    "df_test_11[\"date\"].dtype"
   ]
  },
  {
   "cell_type": "code",
   "execution_count": 176,
   "id": "ab4acaeebe984b62",
   "metadata": {
    "ExecuteTime": {
     "end_time": "2023-08-24T22:44:41.120254Z",
     "start_time": "2023-08-24T22:44:39.249815Z"
    }
   },
   "outputs": [],
   "source": [
    "y_year = lambda x: x.year\n",
    "map_year = map(y_year,df_train_11[\"date\"])\n",
    "lis_year = list(map_year)\n",
    "\n",
    "y_month = lambda x: x.month\n",
    "map_month = map(y_month,df_train_11[\"date\"])\n",
    "lis_month = list(map_month)\n",
    "\n",
    "y_day = lambda x: x.day\n",
    "map_day = map(y_day,df_train_11[\"date\"])\n",
    "lis_day = list(map_day)\n",
    "\n",
    "df_train_12 = df_train_11.copy()\n",
    "df_train_12.drop(\"date\",axis=1,inplace=True)\n",
    "\n",
    "df_train_12[\"date_year\"] = lis_year\n",
    "df_train_12[\"date_month\"] = lis_month\n",
    "df_train_12[\"date_day\"] = lis_day\n",
    "\n",
    "df_train_12 = df_train_12[[\"id\",\"date_year\",\"date_month\",\"date_day\",\"store_nbr_0\",\"store_nbr_1\",\"store_nbr_2\",\"store_nbr_3\",\"store_nbr_4\",\"store_nbr_5\",\"family_0\",\"family_1\",\"family_2\",\"family_3\",\"family_4\",\"family_5\",\"onpromotion\",\"city_0\",\"city_1\",\"city_2\",\"city_3\",\"city_4\",\"state_0\",\"state_1\",\"state_2\",\"state_3\",\"type_0\",\"type_1\",\"type_2\",'cluster_0', 'cluster_1', 'cluster_2', 'cluster_3', 'cluster_4',\"dcoilwtico\",\"holiday?\",\"sales\"]]"
   ]
  },
  {
   "cell_type": "code",
   "execution_count": 177,
   "id": "3b67f83050cd0d57",
   "metadata": {
    "ExecuteTime": {
     "end_time": "2023-08-24T22:44:42.536127Z",
     "start_time": "2023-08-24T22:44:42.107486Z"
    }
   },
   "outputs": [],
   "source": [
    "y_year = lambda x: x.year\n",
    "map_year = map(y_year,df_test_11[\"date\"])\n",
    "lis_year = list(map_year)\n",
    "\n",
    "y_month = lambda x: x.month\n",
    "map_month = map(y_month,df_test_11[\"date\"])\n",
    "lis_month = list(map_month)\n",
    "\n",
    "y_day = lambda x: x.day\n",
    "map_day = map(y_day,df_test_11[\"date\"])\n",
    "lis_day = list(map_day)\n",
    "\n",
    "df_test_12 = df_test_11.copy()\n",
    "df_test_12.drop(\"date\",axis=1,inplace=True)\n",
    "\n",
    "df_test_12[\"date_year\"] = lis_year\n",
    "df_test_12[\"date_month\"] = lis_month\n",
    "df_test_12[\"date_day\"] = lis_day\n",
    "\n",
    "df_test_12 = df_test_12[[\"id\",\"date_year\",\"date_month\",\"date_day\",\"store_nbr_0\",\"store_nbr_1\",\"store_nbr_2\",\"store_nbr_3\",\"store_nbr_4\",\"store_nbr_5\",\"family_0\",\"family_1\",\"family_2\",\"family_3\",\"family_4\",\"family_5\",\"onpromotion\",\"city_0\",\"city_1\",\"city_2\",\"city_3\",\"city_4\",\"state_0\",\"state_1\",\"state_2\",\"state_3\",\"type_0\",\"type_1\",\"type_2\",'cluster_0', 'cluster_1', 'cluster_2', 'cluster_3', 'cluster_4',\"dcoilwtico\",\"holiday?\"]]"
   ]
  },
  {
   "cell_type": "code",
   "execution_count": 180,
   "id": "1a3c83679e39b4f0",
   "metadata": {
    "ExecuteTime": {
     "end_time": "2023-08-24T22:45:02.315288Z",
     "start_time": "2023-08-24T22:45:02.291431Z"
    }
   },
   "outputs": [
    {
     "data": {
      "text/html": [
       "<div>\n",
       "<style scoped>\n",
       "    .dataframe tbody tr th:only-of-type {\n",
       "        vertical-align: middle;\n",
       "    }\n",
       "\n",
       "    .dataframe tbody tr th {\n",
       "        vertical-align: top;\n",
       "    }\n",
       "\n",
       "    .dataframe thead th {\n",
       "        text-align: right;\n",
       "    }\n",
       "</style>\n",
       "<table border=\"1\" class=\"dataframe\">\n",
       "  <thead>\n",
       "    <tr style=\"text-align: right;\">\n",
       "      <th></th>\n",
       "      <th>id</th>\n",
       "      <th>date_year</th>\n",
       "      <th>date_month</th>\n",
       "      <th>date_day</th>\n",
       "      <th>store_nbr_0</th>\n",
       "      <th>store_nbr_1</th>\n",
       "      <th>store_nbr_2</th>\n",
       "      <th>store_nbr_3</th>\n",
       "      <th>store_nbr_4</th>\n",
       "      <th>store_nbr_5</th>\n",
       "      <th>...</th>\n",
       "      <th>type_1</th>\n",
       "      <th>type_2</th>\n",
       "      <th>cluster_0</th>\n",
       "      <th>cluster_1</th>\n",
       "      <th>cluster_2</th>\n",
       "      <th>cluster_3</th>\n",
       "      <th>cluster_4</th>\n",
       "      <th>dcoilwtico</th>\n",
       "      <th>holiday?</th>\n",
       "      <th>sales</th>\n",
       "    </tr>\n",
       "  </thead>\n",
       "  <tbody>\n",
       "    <tr>\n",
       "      <th>0</th>\n",
       "      <td>0</td>\n",
       "      <td>2013</td>\n",
       "      <td>1</td>\n",
       "      <td>1</td>\n",
       "      <td>0</td>\n",
       "      <td>0</td>\n",
       "      <td>0</td>\n",
       "      <td>0</td>\n",
       "      <td>0</td>\n",
       "      <td>0</td>\n",
       "      <td>...</td>\n",
       "      <td>1</td>\n",
       "      <td>1</td>\n",
       "      <td>0</td>\n",
       "      <td>1</td>\n",
       "      <td>1</td>\n",
       "      <td>0</td>\n",
       "      <td>0</td>\n",
       "      <td>93.366</td>\n",
       "      <td>1.0</td>\n",
       "      <td>0.0</td>\n",
       "    </tr>\n",
       "    <tr>\n",
       "      <th>1</th>\n",
       "      <td>1</td>\n",
       "      <td>2013</td>\n",
       "      <td>1</td>\n",
       "      <td>1</td>\n",
       "      <td>0</td>\n",
       "      <td>0</td>\n",
       "      <td>0</td>\n",
       "      <td>0</td>\n",
       "      <td>0</td>\n",
       "      <td>0</td>\n",
       "      <td>...</td>\n",
       "      <td>1</td>\n",
       "      <td>1</td>\n",
       "      <td>0</td>\n",
       "      <td>1</td>\n",
       "      <td>1</td>\n",
       "      <td>0</td>\n",
       "      <td>0</td>\n",
       "      <td>93.366</td>\n",
       "      <td>1.0</td>\n",
       "      <td>0.0</td>\n",
       "    </tr>\n",
       "    <tr>\n",
       "      <th>2</th>\n",
       "      <td>2</td>\n",
       "      <td>2013</td>\n",
       "      <td>1</td>\n",
       "      <td>1</td>\n",
       "      <td>0</td>\n",
       "      <td>0</td>\n",
       "      <td>0</td>\n",
       "      <td>0</td>\n",
       "      <td>0</td>\n",
       "      <td>0</td>\n",
       "      <td>...</td>\n",
       "      <td>1</td>\n",
       "      <td>1</td>\n",
       "      <td>0</td>\n",
       "      <td>1</td>\n",
       "      <td>1</td>\n",
       "      <td>0</td>\n",
       "      <td>0</td>\n",
       "      <td>93.366</td>\n",
       "      <td>1.0</td>\n",
       "      <td>0.0</td>\n",
       "    </tr>\n",
       "    <tr>\n",
       "      <th>3</th>\n",
       "      <td>3</td>\n",
       "      <td>2013</td>\n",
       "      <td>1</td>\n",
       "      <td>1</td>\n",
       "      <td>0</td>\n",
       "      <td>0</td>\n",
       "      <td>0</td>\n",
       "      <td>0</td>\n",
       "      <td>0</td>\n",
       "      <td>0</td>\n",
       "      <td>...</td>\n",
       "      <td>1</td>\n",
       "      <td>1</td>\n",
       "      <td>0</td>\n",
       "      <td>1</td>\n",
       "      <td>1</td>\n",
       "      <td>0</td>\n",
       "      <td>0</td>\n",
       "      <td>93.366</td>\n",
       "      <td>1.0</td>\n",
       "      <td>0.0</td>\n",
       "    </tr>\n",
       "    <tr>\n",
       "      <th>4</th>\n",
       "      <td>4</td>\n",
       "      <td>2013</td>\n",
       "      <td>1</td>\n",
       "      <td>1</td>\n",
       "      <td>0</td>\n",
       "      <td>0</td>\n",
       "      <td>0</td>\n",
       "      <td>0</td>\n",
       "      <td>0</td>\n",
       "      <td>0</td>\n",
       "      <td>...</td>\n",
       "      <td>1</td>\n",
       "      <td>1</td>\n",
       "      <td>0</td>\n",
       "      <td>1</td>\n",
       "      <td>1</td>\n",
       "      <td>0</td>\n",
       "      <td>0</td>\n",
       "      <td>93.366</td>\n",
       "      <td>1.0</td>\n",
       "      <td>0.0</td>\n",
       "    </tr>\n",
       "  </tbody>\n",
       "</table>\n",
       "<p>5 rows × 37 columns</p>\n",
       "</div>"
      ],
      "text/plain": [
       "   id  date_year  date_month  date_day  store_nbr_0  store_nbr_1  store_nbr_2  \\\n",
       "0   0       2013           1         1            0            0            0   \n",
       "1   1       2013           1         1            0            0            0   \n",
       "2   2       2013           1         1            0            0            0   \n",
       "3   3       2013           1         1            0            0            0   \n",
       "4   4       2013           1         1            0            0            0   \n",
       "\n",
       "   store_nbr_3  store_nbr_4  store_nbr_5  ...  type_1  type_2  cluster_0  \\\n",
       "0            0            0            0  ...       1       1          0   \n",
       "1            0            0            0  ...       1       1          0   \n",
       "2            0            0            0  ...       1       1          0   \n",
       "3            0            0            0  ...       1       1          0   \n",
       "4            0            0            0  ...       1       1          0   \n",
       "\n",
       "   cluster_1  cluster_2  cluster_3  cluster_4  dcoilwtico  holiday?  sales  \n",
       "0          1          1          0          0      93.366       1.0    0.0  \n",
       "1          1          1          0          0      93.366       1.0    0.0  \n",
       "2          1          1          0          0      93.366       1.0    0.0  \n",
       "3          1          1          0          0      93.366       1.0    0.0  \n",
       "4          1          1          0          0      93.366       1.0    0.0  \n",
       "\n",
       "[5 rows x 37 columns]"
      ]
     },
     "execution_count": 180,
     "metadata": {},
     "output_type": "execute_result"
    }
   ],
   "source": [
    "df_train_12.head()"
   ]
  },
  {
   "cell_type": "code",
   "execution_count": 181,
   "id": "10607354ab159774",
   "metadata": {
    "ExecuteTime": {
     "end_time": "2023-08-24T22:45:05.584754Z",
     "start_time": "2023-08-24T22:45:05.559506Z"
    }
   },
   "outputs": [
    {
     "data": {
      "text/html": [
       "<div>\n",
       "<style scoped>\n",
       "    .dataframe tbody tr th:only-of-type {\n",
       "        vertical-align: middle;\n",
       "    }\n",
       "\n",
       "    .dataframe tbody tr th {\n",
       "        vertical-align: top;\n",
       "    }\n",
       "\n",
       "    .dataframe thead th {\n",
       "        text-align: right;\n",
       "    }\n",
       "</style>\n",
       "<table border=\"1\" class=\"dataframe\">\n",
       "  <thead>\n",
       "    <tr style=\"text-align: right;\">\n",
       "      <th></th>\n",
       "      <th>id</th>\n",
       "      <th>date_year</th>\n",
       "      <th>date_month</th>\n",
       "      <th>date_day</th>\n",
       "      <th>store_nbr_0</th>\n",
       "      <th>store_nbr_1</th>\n",
       "      <th>store_nbr_2</th>\n",
       "      <th>store_nbr_3</th>\n",
       "      <th>store_nbr_4</th>\n",
       "      <th>store_nbr_5</th>\n",
       "      <th>...</th>\n",
       "      <th>type_0</th>\n",
       "      <th>type_1</th>\n",
       "      <th>type_2</th>\n",
       "      <th>cluster_0</th>\n",
       "      <th>cluster_1</th>\n",
       "      <th>cluster_2</th>\n",
       "      <th>cluster_3</th>\n",
       "      <th>cluster_4</th>\n",
       "      <th>dcoilwtico</th>\n",
       "      <th>holiday?</th>\n",
       "    </tr>\n",
       "  </thead>\n",
       "  <tbody>\n",
       "    <tr>\n",
       "      <th>0</th>\n",
       "      <td>3000888</td>\n",
       "      <td>2017</td>\n",
       "      <td>8</td>\n",
       "      <td>16</td>\n",
       "      <td>0</td>\n",
       "      <td>0</td>\n",
       "      <td>0</td>\n",
       "      <td>0</td>\n",
       "      <td>0</td>\n",
       "      <td>0</td>\n",
       "      <td>...</td>\n",
       "      <td>0</td>\n",
       "      <td>1</td>\n",
       "      <td>1</td>\n",
       "      <td>0</td>\n",
       "      <td>1</td>\n",
       "      <td>1</td>\n",
       "      <td>0</td>\n",
       "      <td>0</td>\n",
       "      <td>46.8</td>\n",
       "      <td>0.0</td>\n",
       "    </tr>\n",
       "    <tr>\n",
       "      <th>1</th>\n",
       "      <td>3000889</td>\n",
       "      <td>2017</td>\n",
       "      <td>8</td>\n",
       "      <td>16</td>\n",
       "      <td>0</td>\n",
       "      <td>0</td>\n",
       "      <td>0</td>\n",
       "      <td>0</td>\n",
       "      <td>0</td>\n",
       "      <td>0</td>\n",
       "      <td>...</td>\n",
       "      <td>0</td>\n",
       "      <td>1</td>\n",
       "      <td>1</td>\n",
       "      <td>0</td>\n",
       "      <td>1</td>\n",
       "      <td>1</td>\n",
       "      <td>0</td>\n",
       "      <td>0</td>\n",
       "      <td>46.8</td>\n",
       "      <td>0.0</td>\n",
       "    </tr>\n",
       "    <tr>\n",
       "      <th>2</th>\n",
       "      <td>3000890</td>\n",
       "      <td>2017</td>\n",
       "      <td>8</td>\n",
       "      <td>16</td>\n",
       "      <td>0</td>\n",
       "      <td>0</td>\n",
       "      <td>0</td>\n",
       "      <td>0</td>\n",
       "      <td>0</td>\n",
       "      <td>0</td>\n",
       "      <td>...</td>\n",
       "      <td>0</td>\n",
       "      <td>1</td>\n",
       "      <td>1</td>\n",
       "      <td>0</td>\n",
       "      <td>1</td>\n",
       "      <td>1</td>\n",
       "      <td>0</td>\n",
       "      <td>0</td>\n",
       "      <td>46.8</td>\n",
       "      <td>0.0</td>\n",
       "    </tr>\n",
       "    <tr>\n",
       "      <th>3</th>\n",
       "      <td>3000891</td>\n",
       "      <td>2017</td>\n",
       "      <td>8</td>\n",
       "      <td>16</td>\n",
       "      <td>0</td>\n",
       "      <td>0</td>\n",
       "      <td>0</td>\n",
       "      <td>0</td>\n",
       "      <td>0</td>\n",
       "      <td>0</td>\n",
       "      <td>...</td>\n",
       "      <td>0</td>\n",
       "      <td>1</td>\n",
       "      <td>1</td>\n",
       "      <td>0</td>\n",
       "      <td>1</td>\n",
       "      <td>1</td>\n",
       "      <td>0</td>\n",
       "      <td>0</td>\n",
       "      <td>46.8</td>\n",
       "      <td>0.0</td>\n",
       "    </tr>\n",
       "    <tr>\n",
       "      <th>4</th>\n",
       "      <td>3000892</td>\n",
       "      <td>2017</td>\n",
       "      <td>8</td>\n",
       "      <td>16</td>\n",
       "      <td>0</td>\n",
       "      <td>0</td>\n",
       "      <td>0</td>\n",
       "      <td>0</td>\n",
       "      <td>0</td>\n",
       "      <td>0</td>\n",
       "      <td>...</td>\n",
       "      <td>0</td>\n",
       "      <td>1</td>\n",
       "      <td>1</td>\n",
       "      <td>0</td>\n",
       "      <td>1</td>\n",
       "      <td>1</td>\n",
       "      <td>0</td>\n",
       "      <td>0</td>\n",
       "      <td>46.8</td>\n",
       "      <td>0.0</td>\n",
       "    </tr>\n",
       "  </tbody>\n",
       "</table>\n",
       "<p>5 rows × 36 columns</p>\n",
       "</div>"
      ],
      "text/plain": [
       "        id  date_year  date_month  date_day  store_nbr_0  store_nbr_1  \\\n",
       "0  3000888       2017           8        16            0            0   \n",
       "1  3000889       2017           8        16            0            0   \n",
       "2  3000890       2017           8        16            0            0   \n",
       "3  3000891       2017           8        16            0            0   \n",
       "4  3000892       2017           8        16            0            0   \n",
       "\n",
       "   store_nbr_2  store_nbr_3  store_nbr_4  store_nbr_5  ...  type_0  type_1  \\\n",
       "0            0            0            0            0  ...       0       1   \n",
       "1            0            0            0            0  ...       0       1   \n",
       "2            0            0            0            0  ...       0       1   \n",
       "3            0            0            0            0  ...       0       1   \n",
       "4            0            0            0            0  ...       0       1   \n",
       "\n",
       "   type_2  cluster_0  cluster_1  cluster_2  cluster_3  cluster_4  dcoilwtico  \\\n",
       "0       1          0          1          1          0          0        46.8   \n",
       "1       1          0          1          1          0          0        46.8   \n",
       "2       1          0          1          1          0          0        46.8   \n",
       "3       1          0          1          1          0          0        46.8   \n",
       "4       1          0          1          1          0          0        46.8   \n",
       "\n",
       "   holiday?  \n",
       "0       0.0  \n",
       "1       0.0  \n",
       "2       0.0  \n",
       "3       0.0  \n",
       "4       0.0  \n",
       "\n",
       "[5 rows x 36 columns]"
      ]
     },
     "execution_count": 181,
     "metadata": {},
     "output_type": "execute_result"
    }
   ],
   "source": [
    "df_test_12.head()"
   ]
  },
  {
   "cell_type": "code",
   "execution_count": 182,
   "id": "6cf22d52363dc201",
   "metadata": {
    "ExecuteTime": {
     "end_time": "2023-08-24T22:45:18.256247Z",
     "start_time": "2023-08-24T22:45:18.236962Z"
    }
   },
   "outputs": [
    {
     "name": "stdout",
     "output_type": "stream",
     "text": [
      "Number of rows in training set :  1048575\n",
      "Number of rows in testing set  :  28512\n"
     ]
    }
   ],
   "source": [
    "print(\"Number of rows in training set : \",len(df_train_12))\n",
    "print(\"Number of rows in testing set  : \",len(df_test_12))"
   ]
  },
  {
   "cell_type": "code",
   "execution_count": 183,
   "id": "c755ebd2e65f716e",
   "metadata": {
    "ExecuteTime": {
     "end_time": "2023-08-24T22:45:21.262139Z",
     "start_time": "2023-08-24T22:45:21.254788Z"
    }
   },
   "outputs": [],
   "source": [
    "retr_df_train = df_train_12.drop(\"id\",axis=1,inplace=False)\n",
    "retr_df_test = df_test_12.drop(\"id\",axis=1,inplace=False)"
   ]
  },
  {
   "cell_type": "code",
   "execution_count": 187,
   "id": "29fbe7676deb13f7",
   "metadata": {
    "ExecuteTime": {
     "end_time": "2023-08-24T22:46:04.158492Z",
     "start_time": "2023-08-24T22:46:04.112298Z"
    }
   },
   "outputs": [
    {
     "data": {
      "text/html": [
       "<div>\n",
       "<style scoped>\n",
       "    .dataframe tbody tr th:only-of-type {\n",
       "        vertical-align: middle;\n",
       "    }\n",
       "\n",
       "    .dataframe tbody tr th {\n",
       "        vertical-align: top;\n",
       "    }\n",
       "\n",
       "    .dataframe thead th {\n",
       "        text-align: right;\n",
       "    }\n",
       "</style>\n",
       "<table border=\"1\" class=\"dataframe\">\n",
       "  <thead>\n",
       "    <tr style=\"text-align: right;\">\n",
       "      <th></th>\n",
       "      <th>date_year</th>\n",
       "      <th>date_month</th>\n",
       "      <th>date_day</th>\n",
       "      <th>store_nbr_0</th>\n",
       "      <th>store_nbr_1</th>\n",
       "      <th>store_nbr_2</th>\n",
       "      <th>store_nbr_3</th>\n",
       "      <th>store_nbr_4</th>\n",
       "      <th>store_nbr_5</th>\n",
       "      <th>family_0</th>\n",
       "      <th>...</th>\n",
       "      <th>type_1</th>\n",
       "      <th>type_2</th>\n",
       "      <th>cluster_0</th>\n",
       "      <th>cluster_1</th>\n",
       "      <th>cluster_2</th>\n",
       "      <th>cluster_3</th>\n",
       "      <th>cluster_4</th>\n",
       "      <th>dcoilwtico</th>\n",
       "      <th>holiday?</th>\n",
       "      <th>sales</th>\n",
       "    </tr>\n",
       "  </thead>\n",
       "  <tbody>\n",
       "    <tr>\n",
       "      <th>0</th>\n",
       "      <td>2013</td>\n",
       "      <td>1</td>\n",
       "      <td>1</td>\n",
       "      <td>0</td>\n",
       "      <td>0</td>\n",
       "      <td>0</td>\n",
       "      <td>0</td>\n",
       "      <td>0</td>\n",
       "      <td>0</td>\n",
       "      <td>0</td>\n",
       "      <td>...</td>\n",
       "      <td>1</td>\n",
       "      <td>1</td>\n",
       "      <td>0</td>\n",
       "      <td>1</td>\n",
       "      <td>1</td>\n",
       "      <td>0</td>\n",
       "      <td>0</td>\n",
       "      <td>93.366</td>\n",
       "      <td>1.0</td>\n",
       "      <td>0.0</td>\n",
       "    </tr>\n",
       "    <tr>\n",
       "      <th>1</th>\n",
       "      <td>2013</td>\n",
       "      <td>1</td>\n",
       "      <td>1</td>\n",
       "      <td>0</td>\n",
       "      <td>0</td>\n",
       "      <td>0</td>\n",
       "      <td>0</td>\n",
       "      <td>0</td>\n",
       "      <td>0</td>\n",
       "      <td>0</td>\n",
       "      <td>...</td>\n",
       "      <td>1</td>\n",
       "      <td>1</td>\n",
       "      <td>0</td>\n",
       "      <td>1</td>\n",
       "      <td>1</td>\n",
       "      <td>0</td>\n",
       "      <td>0</td>\n",
       "      <td>93.366</td>\n",
       "      <td>1.0</td>\n",
       "      <td>0.0</td>\n",
       "    </tr>\n",
       "    <tr>\n",
       "      <th>2</th>\n",
       "      <td>2013</td>\n",
       "      <td>1</td>\n",
       "      <td>1</td>\n",
       "      <td>0</td>\n",
       "      <td>0</td>\n",
       "      <td>0</td>\n",
       "      <td>0</td>\n",
       "      <td>0</td>\n",
       "      <td>0</td>\n",
       "      <td>0</td>\n",
       "      <td>...</td>\n",
       "      <td>1</td>\n",
       "      <td>1</td>\n",
       "      <td>0</td>\n",
       "      <td>1</td>\n",
       "      <td>1</td>\n",
       "      <td>0</td>\n",
       "      <td>0</td>\n",
       "      <td>93.366</td>\n",
       "      <td>1.0</td>\n",
       "      <td>0.0</td>\n",
       "    </tr>\n",
       "    <tr>\n",
       "      <th>3</th>\n",
       "      <td>2013</td>\n",
       "      <td>1</td>\n",
       "      <td>1</td>\n",
       "      <td>0</td>\n",
       "      <td>0</td>\n",
       "      <td>0</td>\n",
       "      <td>0</td>\n",
       "      <td>0</td>\n",
       "      <td>0</td>\n",
       "      <td>0</td>\n",
       "      <td>...</td>\n",
       "      <td>1</td>\n",
       "      <td>1</td>\n",
       "      <td>0</td>\n",
       "      <td>1</td>\n",
       "      <td>1</td>\n",
       "      <td>0</td>\n",
       "      <td>0</td>\n",
       "      <td>93.366</td>\n",
       "      <td>1.0</td>\n",
       "      <td>0.0</td>\n",
       "    </tr>\n",
       "    <tr>\n",
       "      <th>4</th>\n",
       "      <td>2013</td>\n",
       "      <td>1</td>\n",
       "      <td>1</td>\n",
       "      <td>0</td>\n",
       "      <td>0</td>\n",
       "      <td>0</td>\n",
       "      <td>0</td>\n",
       "      <td>0</td>\n",
       "      <td>0</td>\n",
       "      <td>0</td>\n",
       "      <td>...</td>\n",
       "      <td>1</td>\n",
       "      <td>1</td>\n",
       "      <td>0</td>\n",
       "      <td>1</td>\n",
       "      <td>1</td>\n",
       "      <td>0</td>\n",
       "      <td>0</td>\n",
       "      <td>93.366</td>\n",
       "      <td>1.0</td>\n",
       "      <td>0.0</td>\n",
       "    </tr>\n",
       "  </tbody>\n",
       "</table>\n",
       "<p>5 rows × 36 columns</p>\n",
       "</div>"
      ],
      "text/plain": [
       "   date_year  date_month  date_day  store_nbr_0  store_nbr_1  store_nbr_2  \\\n",
       "0       2013           1         1            0            0            0   \n",
       "1       2013           1         1            0            0            0   \n",
       "2       2013           1         1            0            0            0   \n",
       "3       2013           1         1            0            0            0   \n",
       "4       2013           1         1            0            0            0   \n",
       "\n",
       "   store_nbr_3  store_nbr_4  store_nbr_5  family_0  ...  type_1  type_2  \\\n",
       "0            0            0            0         0  ...       1       1   \n",
       "1            0            0            0         0  ...       1       1   \n",
       "2            0            0            0         0  ...       1       1   \n",
       "3            0            0            0         0  ...       1       1   \n",
       "4            0            0            0         0  ...       1       1   \n",
       "\n",
       "   cluster_0  cluster_1  cluster_2  cluster_3  cluster_4  dcoilwtico  \\\n",
       "0          0          1          1          0          0      93.366   \n",
       "1          0          1          1          0          0      93.366   \n",
       "2          0          1          1          0          0      93.366   \n",
       "3          0          1          1          0          0      93.366   \n",
       "4          0          1          1          0          0      93.366   \n",
       "\n",
       "   holiday?  sales  \n",
       "0       1.0    0.0  \n",
       "1       1.0    0.0  \n",
       "2       1.0    0.0  \n",
       "3       1.0    0.0  \n",
       "4       1.0    0.0  \n",
       "\n",
       "[5 rows x 36 columns]"
      ]
     },
     "execution_count": 187,
     "metadata": {},
     "output_type": "execute_result"
    }
   ],
   "source": [
    "retr_df_train.head()"
   ]
  },
  {
   "cell_type": "code",
   "execution_count": 188,
   "id": "33fdd4725dbac1cb",
   "metadata": {
    "ExecuteTime": {
     "end_time": "2023-08-24T22:46:09.318603Z",
     "start_time": "2023-08-24T22:46:09.275043Z"
    }
   },
   "outputs": [
    {
     "data": {
      "text/html": [
       "<div>\n",
       "<style scoped>\n",
       "    .dataframe tbody tr th:only-of-type {\n",
       "        vertical-align: middle;\n",
       "    }\n",
       "\n",
       "    .dataframe tbody tr th {\n",
       "        vertical-align: top;\n",
       "    }\n",
       "\n",
       "    .dataframe thead th {\n",
       "        text-align: right;\n",
       "    }\n",
       "</style>\n",
       "<table border=\"1\" class=\"dataframe\">\n",
       "  <thead>\n",
       "    <tr style=\"text-align: right;\">\n",
       "      <th></th>\n",
       "      <th>date_year</th>\n",
       "      <th>date_month</th>\n",
       "      <th>date_day</th>\n",
       "      <th>store_nbr_0</th>\n",
       "      <th>store_nbr_1</th>\n",
       "      <th>store_nbr_2</th>\n",
       "      <th>store_nbr_3</th>\n",
       "      <th>store_nbr_4</th>\n",
       "      <th>store_nbr_5</th>\n",
       "      <th>family_0</th>\n",
       "      <th>...</th>\n",
       "      <th>type_0</th>\n",
       "      <th>type_1</th>\n",
       "      <th>type_2</th>\n",
       "      <th>cluster_0</th>\n",
       "      <th>cluster_1</th>\n",
       "      <th>cluster_2</th>\n",
       "      <th>cluster_3</th>\n",
       "      <th>cluster_4</th>\n",
       "      <th>dcoilwtico</th>\n",
       "      <th>holiday?</th>\n",
       "    </tr>\n",
       "  </thead>\n",
       "  <tbody>\n",
       "    <tr>\n",
       "      <th>0</th>\n",
       "      <td>2017</td>\n",
       "      <td>8</td>\n",
       "      <td>16</td>\n",
       "      <td>0</td>\n",
       "      <td>0</td>\n",
       "      <td>0</td>\n",
       "      <td>0</td>\n",
       "      <td>0</td>\n",
       "      <td>0</td>\n",
       "      <td>0</td>\n",
       "      <td>...</td>\n",
       "      <td>0</td>\n",
       "      <td>1</td>\n",
       "      <td>1</td>\n",
       "      <td>0</td>\n",
       "      <td>1</td>\n",
       "      <td>1</td>\n",
       "      <td>0</td>\n",
       "      <td>0</td>\n",
       "      <td>46.8</td>\n",
       "      <td>0.0</td>\n",
       "    </tr>\n",
       "    <tr>\n",
       "      <th>1</th>\n",
       "      <td>2017</td>\n",
       "      <td>8</td>\n",
       "      <td>16</td>\n",
       "      <td>0</td>\n",
       "      <td>0</td>\n",
       "      <td>0</td>\n",
       "      <td>0</td>\n",
       "      <td>0</td>\n",
       "      <td>0</td>\n",
       "      <td>0</td>\n",
       "      <td>...</td>\n",
       "      <td>0</td>\n",
       "      <td>1</td>\n",
       "      <td>1</td>\n",
       "      <td>0</td>\n",
       "      <td>1</td>\n",
       "      <td>1</td>\n",
       "      <td>0</td>\n",
       "      <td>0</td>\n",
       "      <td>46.8</td>\n",
       "      <td>0.0</td>\n",
       "    </tr>\n",
       "    <tr>\n",
       "      <th>2</th>\n",
       "      <td>2017</td>\n",
       "      <td>8</td>\n",
       "      <td>16</td>\n",
       "      <td>0</td>\n",
       "      <td>0</td>\n",
       "      <td>0</td>\n",
       "      <td>0</td>\n",
       "      <td>0</td>\n",
       "      <td>0</td>\n",
       "      <td>0</td>\n",
       "      <td>...</td>\n",
       "      <td>0</td>\n",
       "      <td>1</td>\n",
       "      <td>1</td>\n",
       "      <td>0</td>\n",
       "      <td>1</td>\n",
       "      <td>1</td>\n",
       "      <td>0</td>\n",
       "      <td>0</td>\n",
       "      <td>46.8</td>\n",
       "      <td>0.0</td>\n",
       "    </tr>\n",
       "    <tr>\n",
       "      <th>3</th>\n",
       "      <td>2017</td>\n",
       "      <td>8</td>\n",
       "      <td>16</td>\n",
       "      <td>0</td>\n",
       "      <td>0</td>\n",
       "      <td>0</td>\n",
       "      <td>0</td>\n",
       "      <td>0</td>\n",
       "      <td>0</td>\n",
       "      <td>0</td>\n",
       "      <td>...</td>\n",
       "      <td>0</td>\n",
       "      <td>1</td>\n",
       "      <td>1</td>\n",
       "      <td>0</td>\n",
       "      <td>1</td>\n",
       "      <td>1</td>\n",
       "      <td>0</td>\n",
       "      <td>0</td>\n",
       "      <td>46.8</td>\n",
       "      <td>0.0</td>\n",
       "    </tr>\n",
       "    <tr>\n",
       "      <th>4</th>\n",
       "      <td>2017</td>\n",
       "      <td>8</td>\n",
       "      <td>16</td>\n",
       "      <td>0</td>\n",
       "      <td>0</td>\n",
       "      <td>0</td>\n",
       "      <td>0</td>\n",
       "      <td>0</td>\n",
       "      <td>0</td>\n",
       "      <td>0</td>\n",
       "      <td>...</td>\n",
       "      <td>0</td>\n",
       "      <td>1</td>\n",
       "      <td>1</td>\n",
       "      <td>0</td>\n",
       "      <td>1</td>\n",
       "      <td>1</td>\n",
       "      <td>0</td>\n",
       "      <td>0</td>\n",
       "      <td>46.8</td>\n",
       "      <td>0.0</td>\n",
       "    </tr>\n",
       "  </tbody>\n",
       "</table>\n",
       "<p>5 rows × 35 columns</p>\n",
       "</div>"
      ],
      "text/plain": [
       "   date_year  date_month  date_day  store_nbr_0  store_nbr_1  store_nbr_2  \\\n",
       "0       2017           8        16            0            0            0   \n",
       "1       2017           8        16            0            0            0   \n",
       "2       2017           8        16            0            0            0   \n",
       "3       2017           8        16            0            0            0   \n",
       "4       2017           8        16            0            0            0   \n",
       "\n",
       "   store_nbr_3  store_nbr_4  store_nbr_5  family_0  ...  type_0  type_1  \\\n",
       "0            0            0            0         0  ...       0       1   \n",
       "1            0            0            0         0  ...       0       1   \n",
       "2            0            0            0         0  ...       0       1   \n",
       "3            0            0            0         0  ...       0       1   \n",
       "4            0            0            0         0  ...       0       1   \n",
       "\n",
       "   type_2  cluster_0  cluster_1  cluster_2  cluster_3  cluster_4  dcoilwtico  \\\n",
       "0       1          0          1          1          0          0        46.8   \n",
       "1       1          0          1          1          0          0        46.8   \n",
       "2       1          0          1          1          0          0        46.8   \n",
       "3       1          0          1          1          0          0        46.8   \n",
       "4       1          0          1          1          0          0        46.8   \n",
       "\n",
       "   holiday?  \n",
       "0       0.0  \n",
       "1       0.0  \n",
       "2       0.0  \n",
       "3       0.0  \n",
       "4       0.0  \n",
       "\n",
       "[5 rows x 35 columns]"
      ]
     },
     "execution_count": 188,
     "metadata": {},
     "output_type": "execute_result"
    }
   ],
   "source": [
    "retr_df_test.head()"
   ]
  },
  {
   "cell_type": "code",
   "execution_count": 189,
   "id": "bdb925ce6d2865aa",
   "metadata": {
    "ExecuteTime": {
     "end_time": "2023-08-24T22:46:24.119081Z",
     "start_time": "2023-08-24T22:46:24.073389Z"
    }
   },
   "outputs": [
    {
     "name": "stdout",
     "output_type": "stream",
     "text": [
      "Number of rows in training set :  1048575\n",
      "Number of rows in testing set  :  28512\n"
     ]
    }
   ],
   "source": [
    "print(\"Number of rows in training set : \",len(retr_df_train))\n",
    "print(\"Number of rows in testing set  : \",len(retr_df_test))"
   ]
  },
  {
   "cell_type": "code",
   "execution_count": 191,
   "id": "61909b64769826c8",
   "metadata": {
    "ExecuteTime": {
     "end_time": "2023-08-24T22:48:19.341059Z",
     "start_time": "2023-08-24T22:48:19.339774Z"
    }
   },
   "outputs": [],
   "source": [
    "X = retr_df_train.drop(\"sales\",axis=1,inplace=False)\n",
    "y = retr_df_train[\"sales\"]"
   ]
  },
  {
   "cell_type": "code",
   "execution_count": 192,
   "id": "271d1c12b5a50021",
   "metadata": {
    "ExecuteTime": {
     "end_time": "2023-08-24T22:48:23.640227Z",
     "start_time": "2023-08-24T22:48:23.581290Z"
    }
   },
   "outputs": [
    {
     "data": {
      "text/html": [
       "<div>\n",
       "<style scoped>\n",
       "    .dataframe tbody tr th:only-of-type {\n",
       "        vertical-align: middle;\n",
       "    }\n",
       "\n",
       "    .dataframe tbody tr th {\n",
       "        vertical-align: top;\n",
       "    }\n",
       "\n",
       "    .dataframe thead th {\n",
       "        text-align: right;\n",
       "    }\n",
       "</style>\n",
       "<table border=\"1\" class=\"dataframe\">\n",
       "  <thead>\n",
       "    <tr style=\"text-align: right;\">\n",
       "      <th></th>\n",
       "      <th>date_year</th>\n",
       "      <th>date_month</th>\n",
       "      <th>date_day</th>\n",
       "      <th>store_nbr_0</th>\n",
       "      <th>store_nbr_1</th>\n",
       "      <th>store_nbr_2</th>\n",
       "      <th>store_nbr_3</th>\n",
       "      <th>store_nbr_4</th>\n",
       "      <th>store_nbr_5</th>\n",
       "      <th>family_0</th>\n",
       "      <th>...</th>\n",
       "      <th>type_0</th>\n",
       "      <th>type_1</th>\n",
       "      <th>type_2</th>\n",
       "      <th>cluster_0</th>\n",
       "      <th>cluster_1</th>\n",
       "      <th>cluster_2</th>\n",
       "      <th>cluster_3</th>\n",
       "      <th>cluster_4</th>\n",
       "      <th>dcoilwtico</th>\n",
       "      <th>holiday?</th>\n",
       "    </tr>\n",
       "  </thead>\n",
       "  <tbody>\n",
       "    <tr>\n",
       "      <th>0</th>\n",
       "      <td>2013</td>\n",
       "      <td>1</td>\n",
       "      <td>1</td>\n",
       "      <td>0</td>\n",
       "      <td>0</td>\n",
       "      <td>0</td>\n",
       "      <td>0</td>\n",
       "      <td>0</td>\n",
       "      <td>0</td>\n",
       "      <td>0</td>\n",
       "      <td>...</td>\n",
       "      <td>0</td>\n",
       "      <td>1</td>\n",
       "      <td>1</td>\n",
       "      <td>0</td>\n",
       "      <td>1</td>\n",
       "      <td>1</td>\n",
       "      <td>0</td>\n",
       "      <td>0</td>\n",
       "      <td>93.366</td>\n",
       "      <td>1.0</td>\n",
       "    </tr>\n",
       "    <tr>\n",
       "      <th>1</th>\n",
       "      <td>2013</td>\n",
       "      <td>1</td>\n",
       "      <td>1</td>\n",
       "      <td>0</td>\n",
       "      <td>0</td>\n",
       "      <td>0</td>\n",
       "      <td>0</td>\n",
       "      <td>0</td>\n",
       "      <td>0</td>\n",
       "      <td>0</td>\n",
       "      <td>...</td>\n",
       "      <td>0</td>\n",
       "      <td>1</td>\n",
       "      <td>1</td>\n",
       "      <td>0</td>\n",
       "      <td>1</td>\n",
       "      <td>1</td>\n",
       "      <td>0</td>\n",
       "      <td>0</td>\n",
       "      <td>93.366</td>\n",
       "      <td>1.0</td>\n",
       "    </tr>\n",
       "    <tr>\n",
       "      <th>2</th>\n",
       "      <td>2013</td>\n",
       "      <td>1</td>\n",
       "      <td>1</td>\n",
       "      <td>0</td>\n",
       "      <td>0</td>\n",
       "      <td>0</td>\n",
       "      <td>0</td>\n",
       "      <td>0</td>\n",
       "      <td>0</td>\n",
       "      <td>0</td>\n",
       "      <td>...</td>\n",
       "      <td>0</td>\n",
       "      <td>1</td>\n",
       "      <td>1</td>\n",
       "      <td>0</td>\n",
       "      <td>1</td>\n",
       "      <td>1</td>\n",
       "      <td>0</td>\n",
       "      <td>0</td>\n",
       "      <td>93.366</td>\n",
       "      <td>1.0</td>\n",
       "    </tr>\n",
       "    <tr>\n",
       "      <th>3</th>\n",
       "      <td>2013</td>\n",
       "      <td>1</td>\n",
       "      <td>1</td>\n",
       "      <td>0</td>\n",
       "      <td>0</td>\n",
       "      <td>0</td>\n",
       "      <td>0</td>\n",
       "      <td>0</td>\n",
       "      <td>0</td>\n",
       "      <td>0</td>\n",
       "      <td>...</td>\n",
       "      <td>0</td>\n",
       "      <td>1</td>\n",
       "      <td>1</td>\n",
       "      <td>0</td>\n",
       "      <td>1</td>\n",
       "      <td>1</td>\n",
       "      <td>0</td>\n",
       "      <td>0</td>\n",
       "      <td>93.366</td>\n",
       "      <td>1.0</td>\n",
       "    </tr>\n",
       "    <tr>\n",
       "      <th>4</th>\n",
       "      <td>2013</td>\n",
       "      <td>1</td>\n",
       "      <td>1</td>\n",
       "      <td>0</td>\n",
       "      <td>0</td>\n",
       "      <td>0</td>\n",
       "      <td>0</td>\n",
       "      <td>0</td>\n",
       "      <td>0</td>\n",
       "      <td>0</td>\n",
       "      <td>...</td>\n",
       "      <td>0</td>\n",
       "      <td>1</td>\n",
       "      <td>1</td>\n",
       "      <td>0</td>\n",
       "      <td>1</td>\n",
       "      <td>1</td>\n",
       "      <td>0</td>\n",
       "      <td>0</td>\n",
       "      <td>93.366</td>\n",
       "      <td>1.0</td>\n",
       "    </tr>\n",
       "  </tbody>\n",
       "</table>\n",
       "<p>5 rows × 35 columns</p>\n",
       "</div>"
      ],
      "text/plain": [
       "   date_year  date_month  date_day  store_nbr_0  store_nbr_1  store_nbr_2  \\\n",
       "0       2013           1         1            0            0            0   \n",
       "1       2013           1         1            0            0            0   \n",
       "2       2013           1         1            0            0            0   \n",
       "3       2013           1         1            0            0            0   \n",
       "4       2013           1         1            0            0            0   \n",
       "\n",
       "   store_nbr_3  store_nbr_4  store_nbr_5  family_0  ...  type_0  type_1  \\\n",
       "0            0            0            0         0  ...       0       1   \n",
       "1            0            0            0         0  ...       0       1   \n",
       "2            0            0            0         0  ...       0       1   \n",
       "3            0            0            0         0  ...       0       1   \n",
       "4            0            0            0         0  ...       0       1   \n",
       "\n",
       "   type_2  cluster_0  cluster_1  cluster_2  cluster_3  cluster_4  dcoilwtico  \\\n",
       "0       1          0          1          1          0          0      93.366   \n",
       "1       1          0          1          1          0          0      93.366   \n",
       "2       1          0          1          1          0          0      93.366   \n",
       "3       1          0          1          1          0          0      93.366   \n",
       "4       1          0          1          1          0          0      93.366   \n",
       "\n",
       "   holiday?  \n",
       "0       1.0  \n",
       "1       1.0  \n",
       "2       1.0  \n",
       "3       1.0  \n",
       "4       1.0  \n",
       "\n",
       "[5 rows x 35 columns]"
      ]
     },
     "execution_count": 192,
     "metadata": {},
     "output_type": "execute_result"
    }
   ],
   "source": [
    "X.head()"
   ]
  },
  {
   "cell_type": "code",
   "execution_count": 193,
   "id": "b8bb1f101857888b",
   "metadata": {
    "ExecuteTime": {
     "end_time": "2023-08-24T22:48:28.648943Z",
     "start_time": "2023-08-24T22:48:28.597991Z"
    }
   },
   "outputs": [
    {
     "data": {
      "text/plain": [
       "0    0.0\n",
       "1    0.0\n",
       "2    0.0\n",
       "3    0.0\n",
       "4    0.0\n",
       "Name: sales, dtype: float64"
      ]
     },
     "execution_count": 193,
     "metadata": {},
     "output_type": "execute_result"
    }
   ],
   "source": [
    "y.head()"
   ]
  },
  {
   "cell_type": "code",
   "execution_count": 195,
   "id": "aaa2eec501bb34fb",
   "metadata": {
    "ExecuteTime": {
     "end_time": "2023-08-24T22:48:49.790823Z",
     "start_time": "2023-08-24T22:48:49.776762Z"
    }
   },
   "outputs": [
    {
     "name": "stdout",
     "output_type": "stream",
     "text": [
      "Number of rows in X set :  1048575\n",
      "Number of rows in y set :  1048575\n"
     ]
    }
   ],
   "source": [
    "print(\"Number of rows in X set : \",len(X))\n",
    "print(\"Number of rows in y set : \",len(y))"
   ]
  },
  {
   "cell_type": "code",
   "execution_count": 230,
   "id": "fc1d9ba7bb588c74",
   "metadata": {
    "ExecuteTime": {
     "end_time": "2023-08-24T22:55:00.724368Z",
     "start_time": "2023-08-24T22:55:00.530512Z"
    }
   },
   "outputs": [],
   "source": [
    "f_reg = f_regression(X,y)\n",
    "p_values1 = f_reg[1]\n",
    "p_values2 = p_values1.round(2)\n",
    "p_values = pd.DataFrame(columns=[\"features\",\"p-values\"])\n",
    "p_values[\"features\"] = X.columns.values\n",
    "p_values[\"p-values\"] = p_values2"
   ]
  },
  {
   "cell_type": "code",
   "execution_count": 231,
   "id": "cb4d33eb36ab36e8",
   "metadata": {
    "ExecuteTime": {
     "end_time": "2023-08-24T22:55:01.994492Z",
     "start_time": "2023-08-24T22:55:01.984238Z"
    }
   },
   "outputs": [
    {
     "data": {
      "text/html": [
       "<div>\n",
       "<style scoped>\n",
       "    .dataframe tbody tr th:only-of-type {\n",
       "        vertical-align: middle;\n",
       "    }\n",
       "\n",
       "    .dataframe tbody tr th {\n",
       "        vertical-align: top;\n",
       "    }\n",
       "\n",
       "    .dataframe thead th {\n",
       "        text-align: right;\n",
       "    }\n",
       "</style>\n",
       "<table border=\"1\" class=\"dataframe\">\n",
       "  <thead>\n",
       "    <tr style=\"text-align: right;\">\n",
       "      <th></th>\n",
       "      <th>features</th>\n",
       "      <th>p-values</th>\n",
       "    </tr>\n",
       "  </thead>\n",
       "  <tbody>\n",
       "    <tr>\n",
       "      <th>0</th>\n",
       "      <td>date_year</td>\n",
       "      <td>0.00</td>\n",
       "    </tr>\n",
       "    <tr>\n",
       "      <th>1</th>\n",
       "      <td>date_month</td>\n",
       "      <td>0.05</td>\n",
       "    </tr>\n",
       "    <tr>\n",
       "      <th>2</th>\n",
       "      <td>date_day</td>\n",
       "      <td>0.00</td>\n",
       "    </tr>\n",
       "    <tr>\n",
       "      <th>3</th>\n",
       "      <td>store_nbr_0</td>\n",
       "      <td>0.00</td>\n",
       "    </tr>\n",
       "    <tr>\n",
       "      <th>4</th>\n",
       "      <td>store_nbr_1</td>\n",
       "      <td>0.00</td>\n",
       "    </tr>\n",
       "  </tbody>\n",
       "</table>\n",
       "</div>"
      ],
      "text/plain": [
       "      features  p-values\n",
       "0    date_year      0.00\n",
       "1   date_month      0.05\n",
       "2     date_day      0.00\n",
       "3  store_nbr_0      0.00\n",
       "4  store_nbr_1      0.00"
      ]
     },
     "execution_count": 231,
     "metadata": {},
     "output_type": "execute_result"
    }
   ],
   "source": [
    "p_values.head()"
   ]
  },
  {
   "cell_type": "code",
   "execution_count": 232,
   "id": "615771b1de7f8eb8",
   "metadata": {
    "ExecuteTime": {
     "end_time": "2023-08-24T22:55:01.995892Z",
     "start_time": "2023-08-24T22:55:01.986820Z"
    }
   },
   "outputs": [
    {
     "name": "stdout",
     "output_type": "stream",
     "text": [
      "Length of p-values dataframe :  35\n"
     ]
    }
   ],
   "source": [
    "print(\"Length of p-values dataframe : \",len(p_values))"
   ]
  },
  {
   "cell_type": "code",
   "execution_count": 233,
   "id": "485c13337861b838",
   "metadata": {
    "ExecuteTime": {
     "end_time": "2023-08-24T22:55:03.510592Z",
     "start_time": "2023-08-24T22:55:03.504189Z"
    }
   },
   "outputs": [
    {
     "data": {
      "text/html": [
       "<div>\n",
       "<style scoped>\n",
       "    .dataframe tbody tr th:only-of-type {\n",
       "        vertical-align: middle;\n",
       "    }\n",
       "\n",
       "    .dataframe tbody tr th {\n",
       "        vertical-align: top;\n",
       "    }\n",
       "\n",
       "    .dataframe thead th {\n",
       "        text-align: right;\n",
       "    }\n",
       "</style>\n",
       "<table border=\"1\" class=\"dataframe\">\n",
       "  <thead>\n",
       "    <tr style=\"text-align: right;\">\n",
       "      <th></th>\n",
       "      <th>features</th>\n",
       "      <th>p-values</th>\n",
       "    </tr>\n",
       "  </thead>\n",
       "  <tbody>\n",
       "    <tr>\n",
       "      <th>0</th>\n",
       "      <td>date_year</td>\n",
       "      <td>0.00</td>\n",
       "    </tr>\n",
       "    <tr>\n",
       "      <th>1</th>\n",
       "      <td>date_month</td>\n",
       "      <td>0.05</td>\n",
       "    </tr>\n",
       "    <tr>\n",
       "      <th>2</th>\n",
       "      <td>date_day</td>\n",
       "      <td>0.00</td>\n",
       "    </tr>\n",
       "    <tr>\n",
       "      <th>3</th>\n",
       "      <td>store_nbr_0</td>\n",
       "      <td>0.00</td>\n",
       "    </tr>\n",
       "    <tr>\n",
       "      <th>4</th>\n",
       "      <td>store_nbr_1</td>\n",
       "      <td>0.00</td>\n",
       "    </tr>\n",
       "  </tbody>\n",
       "</table>\n",
       "</div>"
      ],
      "text/plain": [
       "      features  p-values\n",
       "0    date_year      0.00\n",
       "1   date_month      0.05\n",
       "2     date_day      0.00\n",
       "3  store_nbr_0      0.00\n",
       "4  store_nbr_1      0.00"
      ]
     },
     "execution_count": 233,
     "metadata": {},
     "output_type": "execute_result"
    }
   ],
   "source": [
    "p_values.head(5)"
   ]
  },
  {
   "cell_type": "code",
   "execution_count": 234,
   "id": "f68afc09578d57d0",
   "metadata": {
    "ExecuteTime": {
     "end_time": "2023-08-24T22:55:04.895053Z",
     "start_time": "2023-08-24T22:55:04.889582Z"
    }
   },
   "outputs": [
    {
     "data": {
      "text/html": [
       "<div>\n",
       "<style scoped>\n",
       "    .dataframe tbody tr th:only-of-type {\n",
       "        vertical-align: middle;\n",
       "    }\n",
       "\n",
       "    .dataframe tbody tr th {\n",
       "        vertical-align: top;\n",
       "    }\n",
       "\n",
       "    .dataframe thead th {\n",
       "        text-align: right;\n",
       "    }\n",
       "</style>\n",
       "<table border=\"1\" class=\"dataframe\">\n",
       "  <thead>\n",
       "    <tr style=\"text-align: right;\">\n",
       "      <th></th>\n",
       "      <th>features</th>\n",
       "      <th>p-values</th>\n",
       "    </tr>\n",
       "  </thead>\n",
       "  <tbody>\n",
       "    <tr>\n",
       "      <th>5</th>\n",
       "      <td>store_nbr_2</td>\n",
       "      <td>0.00</td>\n",
       "    </tr>\n",
       "    <tr>\n",
       "      <th>6</th>\n",
       "      <td>store_nbr_3</td>\n",
       "      <td>0.46</td>\n",
       "    </tr>\n",
       "    <tr>\n",
       "      <th>7</th>\n",
       "      <td>store_nbr_4</td>\n",
       "      <td>0.00</td>\n",
       "    </tr>\n",
       "    <tr>\n",
       "      <th>8</th>\n",
       "      <td>store_nbr_5</td>\n",
       "      <td>0.00</td>\n",
       "    </tr>\n",
       "    <tr>\n",
       "      <th>9</th>\n",
       "      <td>family_0</td>\n",
       "      <td>0.00</td>\n",
       "    </tr>\n",
       "    <tr>\n",
       "      <th>10</th>\n",
       "      <td>family_1</td>\n",
       "      <td>0.00</td>\n",
       "    </tr>\n",
       "  </tbody>\n",
       "</table>\n",
       "</div>"
      ],
      "text/plain": [
       "       features  p-values\n",
       "5   store_nbr_2      0.00\n",
       "6   store_nbr_3      0.46\n",
       "7   store_nbr_4      0.00\n",
       "8   store_nbr_5      0.00\n",
       "9      family_0      0.00\n",
       "10     family_1      0.00"
      ]
     },
     "execution_count": 234,
     "metadata": {},
     "output_type": "execute_result"
    }
   ],
   "source": [
    "p_values[5:11]"
   ]
  },
  {
   "cell_type": "code",
   "execution_count": 235,
   "id": "fb9cfc0620091592",
   "metadata": {
    "ExecuteTime": {
     "end_time": "2023-08-24T22:55:06.548979Z",
     "start_time": "2023-08-24T22:55:06.542476Z"
    }
   },
   "outputs": [
    {
     "data": {
      "text/html": [
       "<div>\n",
       "<style scoped>\n",
       "    .dataframe tbody tr th:only-of-type {\n",
       "        vertical-align: middle;\n",
       "    }\n",
       "\n",
       "    .dataframe tbody tr th {\n",
       "        vertical-align: top;\n",
       "    }\n",
       "\n",
       "    .dataframe thead th {\n",
       "        text-align: right;\n",
       "    }\n",
       "</style>\n",
       "<table border=\"1\" class=\"dataframe\">\n",
       "  <thead>\n",
       "    <tr style=\"text-align: right;\">\n",
       "      <th></th>\n",
       "      <th>features</th>\n",
       "      <th>p-values</th>\n",
       "    </tr>\n",
       "  </thead>\n",
       "  <tbody>\n",
       "    <tr>\n",
       "      <th>10</th>\n",
       "      <td>family_1</td>\n",
       "      <td>0.0</td>\n",
       "    </tr>\n",
       "    <tr>\n",
       "      <th>11</th>\n",
       "      <td>family_2</td>\n",
       "      <td>0.0</td>\n",
       "    </tr>\n",
       "    <tr>\n",
       "      <th>12</th>\n",
       "      <td>family_3</td>\n",
       "      <td>0.0</td>\n",
       "    </tr>\n",
       "    <tr>\n",
       "      <th>13</th>\n",
       "      <td>family_4</td>\n",
       "      <td>0.0</td>\n",
       "    </tr>\n",
       "    <tr>\n",
       "      <th>14</th>\n",
       "      <td>family_5</td>\n",
       "      <td>0.0</td>\n",
       "    </tr>\n",
       "  </tbody>\n",
       "</table>\n",
       "</div>"
      ],
      "text/plain": [
       "    features  p-values\n",
       "10  family_1       0.0\n",
       "11  family_2       0.0\n",
       "12  family_3       0.0\n",
       "13  family_4       0.0\n",
       "14  family_5       0.0"
      ]
     },
     "execution_count": 235,
     "metadata": {},
     "output_type": "execute_result"
    }
   ],
   "source": [
    "p_values[10:15]"
   ]
  },
  {
   "cell_type": "code",
   "execution_count": 236,
   "id": "4a20bd228b4adc6c",
   "metadata": {
    "ExecuteTime": {
     "end_time": "2023-08-24T22:55:07.971812Z",
     "start_time": "2023-08-24T22:55:07.964739Z"
    }
   },
   "outputs": [
    {
     "data": {
      "text/html": [
       "<div>\n",
       "<style scoped>\n",
       "    .dataframe tbody tr th:only-of-type {\n",
       "        vertical-align: middle;\n",
       "    }\n",
       "\n",
       "    .dataframe tbody tr th {\n",
       "        vertical-align: top;\n",
       "    }\n",
       "\n",
       "    .dataframe thead th {\n",
       "        text-align: right;\n",
       "    }\n",
       "</style>\n",
       "<table border=\"1\" class=\"dataframe\">\n",
       "  <thead>\n",
       "    <tr style=\"text-align: right;\">\n",
       "      <th></th>\n",
       "      <th>features</th>\n",
       "      <th>p-values</th>\n",
       "    </tr>\n",
       "  </thead>\n",
       "  <tbody>\n",
       "    <tr>\n",
       "      <th>15</th>\n",
       "      <td>onpromotion</td>\n",
       "      <td>0.0</td>\n",
       "    </tr>\n",
       "    <tr>\n",
       "      <th>16</th>\n",
       "      <td>city_0</td>\n",
       "      <td>0.0</td>\n",
       "    </tr>\n",
       "    <tr>\n",
       "      <th>17</th>\n",
       "      <td>city_1</td>\n",
       "      <td>0.0</td>\n",
       "    </tr>\n",
       "    <tr>\n",
       "      <th>18</th>\n",
       "      <td>city_2</td>\n",
       "      <td>0.0</td>\n",
       "    </tr>\n",
       "    <tr>\n",
       "      <th>19</th>\n",
       "      <td>city_3</td>\n",
       "      <td>0.0</td>\n",
       "    </tr>\n",
       "  </tbody>\n",
       "</table>\n",
       "</div>"
      ],
      "text/plain": [
       "       features  p-values\n",
       "15  onpromotion       0.0\n",
       "16       city_0       0.0\n",
       "17       city_1       0.0\n",
       "18       city_2       0.0\n",
       "19       city_3       0.0"
      ]
     },
     "execution_count": 236,
     "metadata": {},
     "output_type": "execute_result"
    }
   ],
   "source": [
    "p_values[15:20]"
   ]
  },
  {
   "cell_type": "code",
   "execution_count": 237,
   "id": "80fc2b676275755",
   "metadata": {
    "ExecuteTime": {
     "end_time": "2023-08-24T22:55:09.504608Z",
     "start_time": "2023-08-24T22:55:09.501542Z"
    }
   },
   "outputs": [
    {
     "data": {
      "text/html": [
       "<div>\n",
       "<style scoped>\n",
       "    .dataframe tbody tr th:only-of-type {\n",
       "        vertical-align: middle;\n",
       "    }\n",
       "\n",
       "    .dataframe tbody tr th {\n",
       "        vertical-align: top;\n",
       "    }\n",
       "\n",
       "    .dataframe thead th {\n",
       "        text-align: right;\n",
       "    }\n",
       "</style>\n",
       "<table border=\"1\" class=\"dataframe\">\n",
       "  <thead>\n",
       "    <tr style=\"text-align: right;\">\n",
       "      <th></th>\n",
       "      <th>features</th>\n",
       "      <th>p-values</th>\n",
       "    </tr>\n",
       "  </thead>\n",
       "  <tbody>\n",
       "    <tr>\n",
       "      <th>20</th>\n",
       "      <td>city_4</td>\n",
       "      <td>0.0</td>\n",
       "    </tr>\n",
       "    <tr>\n",
       "      <th>21</th>\n",
       "      <td>state_0</td>\n",
       "      <td>0.0</td>\n",
       "    </tr>\n",
       "    <tr>\n",
       "      <th>22</th>\n",
       "      <td>state_1</td>\n",
       "      <td>0.0</td>\n",
       "    </tr>\n",
       "    <tr>\n",
       "      <th>23</th>\n",
       "      <td>state_2</td>\n",
       "      <td>0.0</td>\n",
       "    </tr>\n",
       "    <tr>\n",
       "      <th>24</th>\n",
       "      <td>state_3</td>\n",
       "      <td>0.0</td>\n",
       "    </tr>\n",
       "  </tbody>\n",
       "</table>\n",
       "</div>"
      ],
      "text/plain": [
       "   features  p-values\n",
       "20   city_4       0.0\n",
       "21  state_0       0.0\n",
       "22  state_1       0.0\n",
       "23  state_2       0.0\n",
       "24  state_3       0.0"
      ]
     },
     "execution_count": 237,
     "metadata": {},
     "output_type": "execute_result"
    }
   ],
   "source": [
    "p_values[20:25]"
   ]
  },
  {
   "cell_type": "code",
   "execution_count": 238,
   "id": "cf991e5cd38b5548",
   "metadata": {
    "ExecuteTime": {
     "end_time": "2023-08-24T22:55:10.920727Z",
     "start_time": "2023-08-24T22:55:10.913802Z"
    }
   },
   "outputs": [
    {
     "data": {
      "text/html": [
       "<div>\n",
       "<style scoped>\n",
       "    .dataframe tbody tr th:only-of-type {\n",
       "        vertical-align: middle;\n",
       "    }\n",
       "\n",
       "    .dataframe tbody tr th {\n",
       "        vertical-align: top;\n",
       "    }\n",
       "\n",
       "    .dataframe thead th {\n",
       "        text-align: right;\n",
       "    }\n",
       "</style>\n",
       "<table border=\"1\" class=\"dataframe\">\n",
       "  <thead>\n",
       "    <tr style=\"text-align: right;\">\n",
       "      <th></th>\n",
       "      <th>features</th>\n",
       "      <th>p-values</th>\n",
       "    </tr>\n",
       "  </thead>\n",
       "  <tbody>\n",
       "    <tr>\n",
       "      <th>25</th>\n",
       "      <td>type_0</td>\n",
       "      <td>0.0</td>\n",
       "    </tr>\n",
       "    <tr>\n",
       "      <th>26</th>\n",
       "      <td>type_1</td>\n",
       "      <td>0.0</td>\n",
       "    </tr>\n",
       "    <tr>\n",
       "      <th>27</th>\n",
       "      <td>type_2</td>\n",
       "      <td>0.0</td>\n",
       "    </tr>\n",
       "    <tr>\n",
       "      <th>28</th>\n",
       "      <td>cluster_0</td>\n",
       "      <td>0.0</td>\n",
       "    </tr>\n",
       "    <tr>\n",
       "      <th>29</th>\n",
       "      <td>cluster_1</td>\n",
       "      <td>0.0</td>\n",
       "    </tr>\n",
       "  </tbody>\n",
       "</table>\n",
       "</div>"
      ],
      "text/plain": [
       "     features  p-values\n",
       "25     type_0       0.0\n",
       "26     type_1       0.0\n",
       "27     type_2       0.0\n",
       "28  cluster_0       0.0\n",
       "29  cluster_1       0.0"
      ]
     },
     "execution_count": 238,
     "metadata": {},
     "output_type": "execute_result"
    }
   ],
   "source": [
    "p_values[25:30]"
   ]
  },
  {
   "cell_type": "code",
   "execution_count": 239,
   "id": "c811996a28e097c0",
   "metadata": {
    "ExecuteTime": {
     "end_time": "2023-08-24T22:55:12.428247Z",
     "start_time": "2023-08-24T22:55:12.425678Z"
    }
   },
   "outputs": [
    {
     "data": {
      "text/html": [
       "<div>\n",
       "<style scoped>\n",
       "    .dataframe tbody tr th:only-of-type {\n",
       "        vertical-align: middle;\n",
       "    }\n",
       "\n",
       "    .dataframe tbody tr th {\n",
       "        vertical-align: top;\n",
       "    }\n",
       "\n",
       "    .dataframe thead th {\n",
       "        text-align: right;\n",
       "    }\n",
       "</style>\n",
       "<table border=\"1\" class=\"dataframe\">\n",
       "  <thead>\n",
       "    <tr style=\"text-align: right;\">\n",
       "      <th></th>\n",
       "      <th>features</th>\n",
       "      <th>p-values</th>\n",
       "    </tr>\n",
       "  </thead>\n",
       "  <tbody>\n",
       "    <tr>\n",
       "      <th>30</th>\n",
       "      <td>cluster_2</td>\n",
       "      <td>0.0</td>\n",
       "    </tr>\n",
       "    <tr>\n",
       "      <th>31</th>\n",
       "      <td>cluster_3</td>\n",
       "      <td>0.0</td>\n",
       "    </tr>\n",
       "    <tr>\n",
       "      <th>32</th>\n",
       "      <td>cluster_4</td>\n",
       "      <td>0.0</td>\n",
       "    </tr>\n",
       "    <tr>\n",
       "      <th>33</th>\n",
       "      <td>dcoilwtico</td>\n",
       "      <td>0.0</td>\n",
       "    </tr>\n",
       "    <tr>\n",
       "      <th>34</th>\n",
       "      <td>holiday?</td>\n",
       "      <td>0.0</td>\n",
       "    </tr>\n",
       "  </tbody>\n",
       "</table>\n",
       "</div>"
      ],
      "text/plain": [
       "      features  p-values\n",
       "30   cluster_2       0.0\n",
       "31   cluster_3       0.0\n",
       "32   cluster_4       0.0\n",
       "33  dcoilwtico       0.0\n",
       "34    holiday?       0.0"
      ]
     },
     "execution_count": 239,
     "metadata": {},
     "output_type": "execute_result"
    }
   ],
   "source": [
    "p_values[30:35]"
   ]
  },
  {
   "cell_type": "code",
   "execution_count": 240,
   "id": "8392ef5b199f6d0d",
   "metadata": {
    "ExecuteTime": {
     "end_time": "2023-08-24T22:57:37.390869Z",
     "start_time": "2023-08-24T22:57:33.909626Z"
    }
   },
   "outputs": [],
   "source": [
    "X.to_csv(\"train_X_preprocessed.csv\",index=False)\n",
    "y.to_csv(\"train_y_preprocessed.csv\",index=False)\n",
    "retr_df_test.to_csv(\"test_preprocessed.csv\",index=False)"
   ]
  },
  {
   "cell_type": "code",
   "execution_count": null,
   "id": "1b91d5422dad2ac1",
   "metadata": {},
   "outputs": [],
   "source": []
  }
 ],
 "metadata": {
  "kernelspec": {
   "display_name": "Python 3 (ipykernel)",
   "language": "python",
   "name": "python3"
  },
  "language_info": {
   "codemirror_mode": {
    "name": "ipython",
    "version": 3
   },
   "file_extension": ".py",
   "mimetype": "text/x-python",
   "name": "python",
   "nbconvert_exporter": "python",
   "pygments_lexer": "ipython3",
   "version": "3.11.4"
  }
 },
 "nbformat": 4,
 "nbformat_minor": 5
}
