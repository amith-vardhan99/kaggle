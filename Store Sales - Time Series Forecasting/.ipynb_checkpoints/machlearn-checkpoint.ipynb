{
 "cells": [
  {
   "cell_type": "markdown",
   "id": "12cffaefad3fa9fc",
   "metadata": {},
   "source": [
    "## Machine Learning"
   ]
  },
  {
   "cell_type": "markdown",
   "id": "cf0e91e0bf2895c2",
   "metadata": {},
   "source": [
    "Now, we are done with both exploratory data analysis and preprocessing. Now we will go ahead with performing machine learning."
   ]
  },
  {
   "cell_type": "markdown",
   "id": "1019269a95cfc675",
   "metadata": {},
   "source": [
    "### Importing all packages"
   ]
  },
  {
   "cell_type": "code",
   "execution_count": 1,
   "id": "9677d33d3d77416f",
   "metadata": {
    "ExecuteTime": {
     "end_time": "2023-08-26T17:39:52.648335Z",
     "start_time": "2023-08-26T17:39:51.571287Z"
    }
   },
   "outputs": [],
   "source": [
    "import numpy as np\n",
    "import pandas as pd\n",
    "import matplotlib.pyplot as plt\n",
    "import seaborn as sns\n",
    "from sklearn.model_selection import *\n",
    "from sklearn.linear_model import *\n",
    "from math import *\n",
    "from sklearn.ensemble import *\n",
    "from sklearn.feature_selection import *\n",
    "from sklearn.feature_extraction import *\n",
    "from sklearn.naive_bayes import *\n",
    "from sklearn.discriminant_analysis import *\n",
    "from sklearn.preprocessing import *\n",
    "from sklearn.metrics import *\n",
    "from sklearn.neighbors import *\n",
    "from sklearn.cluster import *\n",
    "from sklearn.kernel_approximation import *\n",
    "from sklearn.svm import *"
   ]
  },
  {
   "cell_type": "code",
   "execution_count": 2,
   "id": "d755f7d863313f08",
   "metadata": {
    "ExecuteTime": {
     "end_time": "2023-08-26T17:39:53.433446Z",
     "start_time": "2023-08-26T17:39:52.648717Z"
    }
   },
   "outputs": [],
   "source": [
    "X_train = pd.read_csv(\"train_X_preprocessed.csv\")\n",
    "y_train = pd.read_csv(\"train_y_preprocessed.csv\")\n",
    "X_test = pd.read_csv(\"test_preprocessed.csv\")"
   ]
  },
  {
   "cell_type": "code",
   "execution_count": 3,
   "id": "9a2e9a36e346443d",
   "metadata": {
    "ExecuteTime": {
     "end_time": "2023-08-26T17:39:53.439517Z",
     "start_time": "2023-08-26T17:39:53.431562Z"
    }
   },
   "outputs": [
    {
     "data": {
      "text/html": [
       "<div>\n",
       "<style scoped>\n",
       "    .dataframe tbody tr th:only-of-type {\n",
       "        vertical-align: middle;\n",
       "    }\n",
       "\n",
       "    .dataframe tbody tr th {\n",
       "        vertical-align: top;\n",
       "    }\n",
       "\n",
       "    .dataframe thead th {\n",
       "        text-align: right;\n",
       "    }\n",
       "</style>\n",
       "<table border=\"1\" class=\"dataframe\">\n",
       "  <thead>\n",
       "    <tr style=\"text-align: right;\">\n",
       "      <th></th>\n",
       "      <th>date_year</th>\n",
       "      <th>date_month</th>\n",
       "      <th>date_day</th>\n",
       "      <th>store_nbr_0</th>\n",
       "      <th>store_nbr_1</th>\n",
       "      <th>store_nbr_2</th>\n",
       "      <th>store_nbr_3</th>\n",
       "      <th>store_nbr_4</th>\n",
       "      <th>store_nbr_5</th>\n",
       "      <th>family_0</th>\n",
       "      <th>...</th>\n",
       "      <th>type_0</th>\n",
       "      <th>type_1</th>\n",
       "      <th>type_2</th>\n",
       "      <th>cluster_0</th>\n",
       "      <th>cluster_1</th>\n",
       "      <th>cluster_2</th>\n",
       "      <th>cluster_3</th>\n",
       "      <th>cluster_4</th>\n",
       "      <th>dcoilwtico</th>\n",
       "      <th>holiday?</th>\n",
       "    </tr>\n",
       "  </thead>\n",
       "  <tbody>\n",
       "    <tr>\n",
       "      <th>0</th>\n",
       "      <td>2013</td>\n",
       "      <td>1</td>\n",
       "      <td>1</td>\n",
       "      <td>0</td>\n",
       "      <td>0</td>\n",
       "      <td>0</td>\n",
       "      <td>0</td>\n",
       "      <td>0</td>\n",
       "      <td>0</td>\n",
       "      <td>0</td>\n",
       "      <td>...</td>\n",
       "      <td>0</td>\n",
       "      <td>1</td>\n",
       "      <td>1</td>\n",
       "      <td>0</td>\n",
       "      <td>1</td>\n",
       "      <td>1</td>\n",
       "      <td>0</td>\n",
       "      <td>0</td>\n",
       "      <td>93.366</td>\n",
       "      <td>1.0</td>\n",
       "    </tr>\n",
       "    <tr>\n",
       "      <th>1</th>\n",
       "      <td>2013</td>\n",
       "      <td>1</td>\n",
       "      <td>1</td>\n",
       "      <td>0</td>\n",
       "      <td>0</td>\n",
       "      <td>0</td>\n",
       "      <td>0</td>\n",
       "      <td>0</td>\n",
       "      <td>0</td>\n",
       "      <td>0</td>\n",
       "      <td>...</td>\n",
       "      <td>0</td>\n",
       "      <td>1</td>\n",
       "      <td>1</td>\n",
       "      <td>0</td>\n",
       "      <td>1</td>\n",
       "      <td>1</td>\n",
       "      <td>0</td>\n",
       "      <td>0</td>\n",
       "      <td>93.366</td>\n",
       "      <td>1.0</td>\n",
       "    </tr>\n",
       "    <tr>\n",
       "      <th>2</th>\n",
       "      <td>2013</td>\n",
       "      <td>1</td>\n",
       "      <td>1</td>\n",
       "      <td>0</td>\n",
       "      <td>0</td>\n",
       "      <td>0</td>\n",
       "      <td>0</td>\n",
       "      <td>0</td>\n",
       "      <td>0</td>\n",
       "      <td>0</td>\n",
       "      <td>...</td>\n",
       "      <td>0</td>\n",
       "      <td>1</td>\n",
       "      <td>1</td>\n",
       "      <td>0</td>\n",
       "      <td>1</td>\n",
       "      <td>1</td>\n",
       "      <td>0</td>\n",
       "      <td>0</td>\n",
       "      <td>93.366</td>\n",
       "      <td>1.0</td>\n",
       "    </tr>\n",
       "    <tr>\n",
       "      <th>3</th>\n",
       "      <td>2013</td>\n",
       "      <td>1</td>\n",
       "      <td>1</td>\n",
       "      <td>0</td>\n",
       "      <td>0</td>\n",
       "      <td>0</td>\n",
       "      <td>0</td>\n",
       "      <td>0</td>\n",
       "      <td>0</td>\n",
       "      <td>0</td>\n",
       "      <td>...</td>\n",
       "      <td>0</td>\n",
       "      <td>1</td>\n",
       "      <td>1</td>\n",
       "      <td>0</td>\n",
       "      <td>1</td>\n",
       "      <td>1</td>\n",
       "      <td>0</td>\n",
       "      <td>0</td>\n",
       "      <td>93.366</td>\n",
       "      <td>1.0</td>\n",
       "    </tr>\n",
       "    <tr>\n",
       "      <th>4</th>\n",
       "      <td>2013</td>\n",
       "      <td>1</td>\n",
       "      <td>1</td>\n",
       "      <td>0</td>\n",
       "      <td>0</td>\n",
       "      <td>0</td>\n",
       "      <td>0</td>\n",
       "      <td>0</td>\n",
       "      <td>0</td>\n",
       "      <td>0</td>\n",
       "      <td>...</td>\n",
       "      <td>0</td>\n",
       "      <td>1</td>\n",
       "      <td>1</td>\n",
       "      <td>0</td>\n",
       "      <td>1</td>\n",
       "      <td>1</td>\n",
       "      <td>0</td>\n",
       "      <td>0</td>\n",
       "      <td>93.366</td>\n",
       "      <td>1.0</td>\n",
       "    </tr>\n",
       "  </tbody>\n",
       "</table>\n",
       "<p>5 rows × 35 columns</p>\n",
       "</div>"
      ],
      "text/plain": [
       "   date_year  date_month  date_day  store_nbr_0  store_nbr_1  store_nbr_2  \\\n",
       "0       2013           1         1            0            0            0   \n",
       "1       2013           1         1            0            0            0   \n",
       "2       2013           1         1            0            0            0   \n",
       "3       2013           1         1            0            0            0   \n",
       "4       2013           1         1            0            0            0   \n",
       "\n",
       "   store_nbr_3  store_nbr_4  store_nbr_5  family_0  ...  type_0  type_1  \\\n",
       "0            0            0            0         0  ...       0       1   \n",
       "1            0            0            0         0  ...       0       1   \n",
       "2            0            0            0         0  ...       0       1   \n",
       "3            0            0            0         0  ...       0       1   \n",
       "4            0            0            0         0  ...       0       1   \n",
       "\n",
       "   type_2  cluster_0  cluster_1  cluster_2  cluster_3  cluster_4  dcoilwtico  \\\n",
       "0       1          0          1          1          0          0      93.366   \n",
       "1       1          0          1          1          0          0      93.366   \n",
       "2       1          0          1          1          0          0      93.366   \n",
       "3       1          0          1          1          0          0      93.366   \n",
       "4       1          0          1          1          0          0      93.366   \n",
       "\n",
       "   holiday?  \n",
       "0       1.0  \n",
       "1       1.0  \n",
       "2       1.0  \n",
       "3       1.0  \n",
       "4       1.0  \n",
       "\n",
       "[5 rows x 35 columns]"
      ]
     },
     "execution_count": 3,
     "metadata": {},
     "output_type": "execute_result"
    }
   ],
   "source": [
    "X_train.head()"
   ]
  },
  {
   "cell_type": "code",
   "execution_count": 4,
   "id": "d36bfbac93d780c9",
   "metadata": {
    "ExecuteTime": {
     "end_time": "2023-08-26T17:39:53.453661Z",
     "start_time": "2023-08-26T17:39:53.439794Z"
    }
   },
   "outputs": [
    {
     "data": {
      "text/html": [
       "<div>\n",
       "<style scoped>\n",
       "    .dataframe tbody tr th:only-of-type {\n",
       "        vertical-align: middle;\n",
       "    }\n",
       "\n",
       "    .dataframe tbody tr th {\n",
       "        vertical-align: top;\n",
       "    }\n",
       "\n",
       "    .dataframe thead th {\n",
       "        text-align: right;\n",
       "    }\n",
       "</style>\n",
       "<table border=\"1\" class=\"dataframe\">\n",
       "  <thead>\n",
       "    <tr style=\"text-align: right;\">\n",
       "      <th></th>\n",
       "      <th>sales</th>\n",
       "    </tr>\n",
       "  </thead>\n",
       "  <tbody>\n",
       "    <tr>\n",
       "      <th>0</th>\n",
       "      <td>0.0</td>\n",
       "    </tr>\n",
       "    <tr>\n",
       "      <th>1</th>\n",
       "      <td>0.0</td>\n",
       "    </tr>\n",
       "    <tr>\n",
       "      <th>2</th>\n",
       "      <td>0.0</td>\n",
       "    </tr>\n",
       "    <tr>\n",
       "      <th>3</th>\n",
       "      <td>0.0</td>\n",
       "    </tr>\n",
       "    <tr>\n",
       "      <th>4</th>\n",
       "      <td>0.0</td>\n",
       "    </tr>\n",
       "  </tbody>\n",
       "</table>\n",
       "</div>"
      ],
      "text/plain": [
       "   sales\n",
       "0    0.0\n",
       "1    0.0\n",
       "2    0.0\n",
       "3    0.0\n",
       "4    0.0"
      ]
     },
     "execution_count": 4,
     "metadata": {},
     "output_type": "execute_result"
    }
   ],
   "source": [
    "y_train.head()"
   ]
  },
  {
   "cell_type": "code",
   "execution_count": 5,
   "id": "b773e1059b153627",
   "metadata": {
    "ExecuteTime": {
     "end_time": "2023-08-26T17:39:53.454357Z",
     "start_time": "2023-08-26T17:39:53.444719Z"
    }
   },
   "outputs": [
    {
     "data": {
      "text/html": [
       "<div>\n",
       "<style scoped>\n",
       "    .dataframe tbody tr th:only-of-type {\n",
       "        vertical-align: middle;\n",
       "    }\n",
       "\n",
       "    .dataframe tbody tr th {\n",
       "        vertical-align: top;\n",
       "    }\n",
       "\n",
       "    .dataframe thead th {\n",
       "        text-align: right;\n",
       "    }\n",
       "</style>\n",
       "<table border=\"1\" class=\"dataframe\">\n",
       "  <thead>\n",
       "    <tr style=\"text-align: right;\">\n",
       "      <th></th>\n",
       "      <th>date_year</th>\n",
       "      <th>date_month</th>\n",
       "      <th>date_day</th>\n",
       "      <th>store_nbr_0</th>\n",
       "      <th>store_nbr_1</th>\n",
       "      <th>store_nbr_2</th>\n",
       "      <th>store_nbr_3</th>\n",
       "      <th>store_nbr_4</th>\n",
       "      <th>store_nbr_5</th>\n",
       "      <th>family_0</th>\n",
       "      <th>...</th>\n",
       "      <th>type_0</th>\n",
       "      <th>type_1</th>\n",
       "      <th>type_2</th>\n",
       "      <th>cluster_0</th>\n",
       "      <th>cluster_1</th>\n",
       "      <th>cluster_2</th>\n",
       "      <th>cluster_3</th>\n",
       "      <th>cluster_4</th>\n",
       "      <th>dcoilwtico</th>\n",
       "      <th>holiday?</th>\n",
       "    </tr>\n",
       "  </thead>\n",
       "  <tbody>\n",
       "    <tr>\n",
       "      <th>0</th>\n",
       "      <td>2017</td>\n",
       "      <td>8</td>\n",
       "      <td>16</td>\n",
       "      <td>0</td>\n",
       "      <td>0</td>\n",
       "      <td>0</td>\n",
       "      <td>0</td>\n",
       "      <td>0</td>\n",
       "      <td>0</td>\n",
       "      <td>0</td>\n",
       "      <td>...</td>\n",
       "      <td>0</td>\n",
       "      <td>1</td>\n",
       "      <td>1</td>\n",
       "      <td>0</td>\n",
       "      <td>1</td>\n",
       "      <td>1</td>\n",
       "      <td>0</td>\n",
       "      <td>0</td>\n",
       "      <td>46.8</td>\n",
       "      <td>0.0</td>\n",
       "    </tr>\n",
       "    <tr>\n",
       "      <th>1</th>\n",
       "      <td>2017</td>\n",
       "      <td>8</td>\n",
       "      <td>16</td>\n",
       "      <td>0</td>\n",
       "      <td>0</td>\n",
       "      <td>0</td>\n",
       "      <td>0</td>\n",
       "      <td>0</td>\n",
       "      <td>0</td>\n",
       "      <td>0</td>\n",
       "      <td>...</td>\n",
       "      <td>0</td>\n",
       "      <td>1</td>\n",
       "      <td>1</td>\n",
       "      <td>0</td>\n",
       "      <td>1</td>\n",
       "      <td>1</td>\n",
       "      <td>0</td>\n",
       "      <td>0</td>\n",
       "      <td>46.8</td>\n",
       "      <td>0.0</td>\n",
       "    </tr>\n",
       "    <tr>\n",
       "      <th>2</th>\n",
       "      <td>2017</td>\n",
       "      <td>8</td>\n",
       "      <td>16</td>\n",
       "      <td>0</td>\n",
       "      <td>0</td>\n",
       "      <td>0</td>\n",
       "      <td>0</td>\n",
       "      <td>0</td>\n",
       "      <td>0</td>\n",
       "      <td>0</td>\n",
       "      <td>...</td>\n",
       "      <td>0</td>\n",
       "      <td>1</td>\n",
       "      <td>1</td>\n",
       "      <td>0</td>\n",
       "      <td>1</td>\n",
       "      <td>1</td>\n",
       "      <td>0</td>\n",
       "      <td>0</td>\n",
       "      <td>46.8</td>\n",
       "      <td>0.0</td>\n",
       "    </tr>\n",
       "    <tr>\n",
       "      <th>3</th>\n",
       "      <td>2017</td>\n",
       "      <td>8</td>\n",
       "      <td>16</td>\n",
       "      <td>0</td>\n",
       "      <td>0</td>\n",
       "      <td>0</td>\n",
       "      <td>0</td>\n",
       "      <td>0</td>\n",
       "      <td>0</td>\n",
       "      <td>0</td>\n",
       "      <td>...</td>\n",
       "      <td>0</td>\n",
       "      <td>1</td>\n",
       "      <td>1</td>\n",
       "      <td>0</td>\n",
       "      <td>1</td>\n",
       "      <td>1</td>\n",
       "      <td>0</td>\n",
       "      <td>0</td>\n",
       "      <td>46.8</td>\n",
       "      <td>0.0</td>\n",
       "    </tr>\n",
       "    <tr>\n",
       "      <th>4</th>\n",
       "      <td>2017</td>\n",
       "      <td>8</td>\n",
       "      <td>16</td>\n",
       "      <td>0</td>\n",
       "      <td>0</td>\n",
       "      <td>0</td>\n",
       "      <td>0</td>\n",
       "      <td>0</td>\n",
       "      <td>0</td>\n",
       "      <td>0</td>\n",
       "      <td>...</td>\n",
       "      <td>0</td>\n",
       "      <td>1</td>\n",
       "      <td>1</td>\n",
       "      <td>0</td>\n",
       "      <td>1</td>\n",
       "      <td>1</td>\n",
       "      <td>0</td>\n",
       "      <td>0</td>\n",
       "      <td>46.8</td>\n",
       "      <td>0.0</td>\n",
       "    </tr>\n",
       "  </tbody>\n",
       "</table>\n",
       "<p>5 rows × 35 columns</p>\n",
       "</div>"
      ],
      "text/plain": [
       "   date_year  date_month  date_day  store_nbr_0  store_nbr_1  store_nbr_2  \\\n",
       "0       2017           8        16            0            0            0   \n",
       "1       2017           8        16            0            0            0   \n",
       "2       2017           8        16            0            0            0   \n",
       "3       2017           8        16            0            0            0   \n",
       "4       2017           8        16            0            0            0   \n",
       "\n",
       "   store_nbr_3  store_nbr_4  store_nbr_5  family_0  ...  type_0  type_1  \\\n",
       "0            0            0            0         0  ...       0       1   \n",
       "1            0            0            0         0  ...       0       1   \n",
       "2            0            0            0         0  ...       0       1   \n",
       "3            0            0            0         0  ...       0       1   \n",
       "4            0            0            0         0  ...       0       1   \n",
       "\n",
       "   type_2  cluster_0  cluster_1  cluster_2  cluster_3  cluster_4  dcoilwtico  \\\n",
       "0       1          0          1          1          0          0        46.8   \n",
       "1       1          0          1          1          0          0        46.8   \n",
       "2       1          0          1          1          0          0        46.8   \n",
       "3       1          0          1          1          0          0        46.8   \n",
       "4       1          0          1          1          0          0        46.8   \n",
       "\n",
       "   holiday?  \n",
       "0       0.0  \n",
       "1       0.0  \n",
       "2       0.0  \n",
       "3       0.0  \n",
       "4       0.0  \n",
       "\n",
       "[5 rows x 35 columns]"
      ]
     },
     "execution_count": 5,
     "metadata": {},
     "output_type": "execute_result"
    }
   ],
   "source": [
    "X_test.head()"
   ]
  },
  {
   "cell_type": "code",
   "execution_count": 6,
   "id": "4245b75f318c873e",
   "metadata": {
    "ExecuteTime": {
     "end_time": "2023-08-26T17:39:53.454860Z",
     "start_time": "2023-08-26T17:39:53.446685Z"
    }
   },
   "outputs": [
    {
     "name": "stdout",
     "output_type": "stream",
     "text": [
      "Number of rows in X_train :  1048575\n",
      "Number of rows in y_train :  1048575\n",
      "Number of rows in X_test  :  28512\n"
     ]
    }
   ],
   "source": [
    "print(\"Number of rows in X_train : \",len(X_train))\n",
    "print(\"Number of rows in y_train : \",len(y_train))\n",
    "print(\"Number of rows in X_test  : \",len(X_test))"
   ]
  },
  {
   "cell_type": "code",
   "execution_count": 7,
   "id": "98d3497b57063f4a",
   "metadata": {
    "ExecuteTime": {
     "end_time": "2023-08-26T17:39:53.455089Z",
     "start_time": "2023-08-26T17:39:53.449037Z"
    }
   },
   "outputs": [
    {
     "data": {
      "text/plain": [
       "date_year        int64\n",
       "date_month       int64\n",
       "date_day         int64\n",
       "store_nbr_0      int64\n",
       "store_nbr_1      int64\n",
       "store_nbr_2      int64\n",
       "store_nbr_3      int64\n",
       "store_nbr_4      int64\n",
       "store_nbr_5      int64\n",
       "family_0         int64\n",
       "family_1         int64\n",
       "family_2         int64\n",
       "family_3         int64\n",
       "family_4         int64\n",
       "family_5         int64\n",
       "onpromotion      int64\n",
       "city_0           int64\n",
       "city_1           int64\n",
       "city_2           int64\n",
       "city_3           int64\n",
       "city_4           int64\n",
       "state_0          int64\n",
       "state_1          int64\n",
       "state_2          int64\n",
       "state_3          int64\n",
       "type_0           int64\n",
       "type_1           int64\n",
       "type_2           int64\n",
       "cluster_0        int64\n",
       "cluster_1        int64\n",
       "cluster_2        int64\n",
       "cluster_3        int64\n",
       "cluster_4        int64\n",
       "dcoilwtico     float64\n",
       "holiday?       float64\n",
       "dtype: object"
      ]
     },
     "execution_count": 7,
     "metadata": {},
     "output_type": "execute_result"
    }
   ],
   "source": [
    "X_train.dtypes"
   ]
  },
  {
   "cell_type": "code",
   "execution_count": 8,
   "id": "bdc980e80e633626",
   "metadata": {
    "ExecuteTime": {
     "end_time": "2023-08-26T17:39:53.455281Z",
     "start_time": "2023-08-26T17:39:53.451593Z"
    }
   },
   "outputs": [
    {
     "data": {
      "text/plain": [
       "date_year        int64\n",
       "date_month       int64\n",
       "date_day         int64\n",
       "store_nbr_0      int64\n",
       "store_nbr_1      int64\n",
       "store_nbr_2      int64\n",
       "store_nbr_3      int64\n",
       "store_nbr_4      int64\n",
       "store_nbr_5      int64\n",
       "family_0         int64\n",
       "family_1         int64\n",
       "family_2         int64\n",
       "family_3         int64\n",
       "family_4         int64\n",
       "family_5         int64\n",
       "onpromotion      int64\n",
       "city_0           int64\n",
       "city_1           int64\n",
       "city_2           int64\n",
       "city_3           int64\n",
       "city_4           int64\n",
       "state_0          int64\n",
       "state_1          int64\n",
       "state_2          int64\n",
       "state_3          int64\n",
       "type_0           int64\n",
       "type_1           int64\n",
       "type_2           int64\n",
       "cluster_0        int64\n",
       "cluster_1        int64\n",
       "cluster_2        int64\n",
       "cluster_3        int64\n",
       "cluster_4        int64\n",
       "dcoilwtico     float64\n",
       "holiday?       float64\n",
       "dtype: object"
      ]
     },
     "execution_count": 8,
     "metadata": {},
     "output_type": "execute_result"
    }
   ],
   "source": [
    "X_test.dtypes"
   ]
  },
  {
   "cell_type": "code",
   "execution_count": 9,
   "id": "784a6e56e97c3b9c",
   "metadata": {
    "ExecuteTime": {
     "end_time": "2023-08-26T17:39:53.475941Z",
     "start_time": "2023-08-26T17:39:53.454461Z"
    }
   },
   "outputs": [
    {
     "data": {
      "text/plain": [
       "sales    float64\n",
       "dtype: object"
      ]
     },
     "execution_count": 9,
     "metadata": {},
     "output_type": "execute_result"
    }
   ],
   "source": [
    "y_train.dtypes"
   ]
  },
  {
   "cell_type": "code",
   "execution_count": 10,
   "id": "21ffaf642d167fb4",
   "metadata": {
    "ExecuteTime": {
     "end_time": "2023-08-26T17:39:53.655820Z",
     "start_time": "2023-08-26T17:39:53.456932Z"
    }
   },
   "outputs": [
    {
     "data": {
      "text/html": [
       "<div>\n",
       "<style scoped>\n",
       "    .dataframe tbody tr th:only-of-type {\n",
       "        vertical-align: middle;\n",
       "    }\n",
       "\n",
       "    .dataframe tbody tr th {\n",
       "        vertical-align: top;\n",
       "    }\n",
       "\n",
       "    .dataframe thead th {\n",
       "        text-align: right;\n",
       "    }\n",
       "</style>\n",
       "<table border=\"1\" class=\"dataframe\">\n",
       "  <thead>\n",
       "    <tr style=\"text-align: right;\">\n",
       "      <th></th>\n",
       "      <th>date_year</th>\n",
       "      <th>date_month</th>\n",
       "      <th>date_day</th>\n",
       "      <th>store_nbr_0</th>\n",
       "      <th>store_nbr_1</th>\n",
       "      <th>store_nbr_2</th>\n",
       "      <th>store_nbr_3</th>\n",
       "      <th>store_nbr_4</th>\n",
       "      <th>store_nbr_5</th>\n",
       "      <th>family_0</th>\n",
       "      <th>...</th>\n",
       "      <th>type_0</th>\n",
       "      <th>type_1</th>\n",
       "      <th>type_2</th>\n",
       "      <th>cluster_0</th>\n",
       "      <th>cluster_1</th>\n",
       "      <th>cluster_2</th>\n",
       "      <th>cluster_3</th>\n",
       "      <th>cluster_4</th>\n",
       "      <th>dcoilwtico</th>\n",
       "      <th>holiday?</th>\n",
       "    </tr>\n",
       "  </thead>\n",
       "  <tbody>\n",
       "    <tr>\n",
       "      <th>0</th>\n",
       "      <td>2013</td>\n",
       "      <td>1</td>\n",
       "      <td>1</td>\n",
       "      <td>0</td>\n",
       "      <td>0</td>\n",
       "      <td>0</td>\n",
       "      <td>0</td>\n",
       "      <td>0</td>\n",
       "      <td>0</td>\n",
       "      <td>0</td>\n",
       "      <td>...</td>\n",
       "      <td>0</td>\n",
       "      <td>1</td>\n",
       "      <td>1</td>\n",
       "      <td>0</td>\n",
       "      <td>1</td>\n",
       "      <td>1</td>\n",
       "      <td>0</td>\n",
       "      <td>0</td>\n",
       "      <td>93.366</td>\n",
       "      <td>1.0</td>\n",
       "    </tr>\n",
       "    <tr>\n",
       "      <th>1</th>\n",
       "      <td>2013</td>\n",
       "      <td>1</td>\n",
       "      <td>1</td>\n",
       "      <td>0</td>\n",
       "      <td>0</td>\n",
       "      <td>0</td>\n",
       "      <td>0</td>\n",
       "      <td>0</td>\n",
       "      <td>0</td>\n",
       "      <td>0</td>\n",
       "      <td>...</td>\n",
       "      <td>0</td>\n",
       "      <td>1</td>\n",
       "      <td>1</td>\n",
       "      <td>0</td>\n",
       "      <td>1</td>\n",
       "      <td>1</td>\n",
       "      <td>0</td>\n",
       "      <td>0</td>\n",
       "      <td>93.366</td>\n",
       "      <td>1.0</td>\n",
       "    </tr>\n",
       "    <tr>\n",
       "      <th>2</th>\n",
       "      <td>2013</td>\n",
       "      <td>1</td>\n",
       "      <td>1</td>\n",
       "      <td>0</td>\n",
       "      <td>0</td>\n",
       "      <td>0</td>\n",
       "      <td>0</td>\n",
       "      <td>0</td>\n",
       "      <td>0</td>\n",
       "      <td>0</td>\n",
       "      <td>...</td>\n",
       "      <td>0</td>\n",
       "      <td>1</td>\n",
       "      <td>1</td>\n",
       "      <td>0</td>\n",
       "      <td>1</td>\n",
       "      <td>1</td>\n",
       "      <td>0</td>\n",
       "      <td>0</td>\n",
       "      <td>93.366</td>\n",
       "      <td>1.0</td>\n",
       "    </tr>\n",
       "    <tr>\n",
       "      <th>3</th>\n",
       "      <td>2013</td>\n",
       "      <td>1</td>\n",
       "      <td>1</td>\n",
       "      <td>0</td>\n",
       "      <td>0</td>\n",
       "      <td>0</td>\n",
       "      <td>0</td>\n",
       "      <td>0</td>\n",
       "      <td>0</td>\n",
       "      <td>0</td>\n",
       "      <td>...</td>\n",
       "      <td>0</td>\n",
       "      <td>1</td>\n",
       "      <td>1</td>\n",
       "      <td>0</td>\n",
       "      <td>1</td>\n",
       "      <td>1</td>\n",
       "      <td>0</td>\n",
       "      <td>0</td>\n",
       "      <td>93.366</td>\n",
       "      <td>1.0</td>\n",
       "    </tr>\n",
       "    <tr>\n",
       "      <th>4</th>\n",
       "      <td>2013</td>\n",
       "      <td>1</td>\n",
       "      <td>1</td>\n",
       "      <td>0</td>\n",
       "      <td>0</td>\n",
       "      <td>0</td>\n",
       "      <td>0</td>\n",
       "      <td>0</td>\n",
       "      <td>0</td>\n",
       "      <td>0</td>\n",
       "      <td>...</td>\n",
       "      <td>0</td>\n",
       "      <td>1</td>\n",
       "      <td>1</td>\n",
       "      <td>0</td>\n",
       "      <td>1</td>\n",
       "      <td>1</td>\n",
       "      <td>0</td>\n",
       "      <td>0</td>\n",
       "      <td>93.366</td>\n",
       "      <td>1.0</td>\n",
       "    </tr>\n",
       "  </tbody>\n",
       "</table>\n",
       "<p>5 rows × 35 columns</p>\n",
       "</div>"
      ],
      "text/plain": [
       "   date_year  date_month  date_day  store_nbr_0  store_nbr_1  store_nbr_2  \\\n",
       "0       2013           1         1            0            0            0   \n",
       "1       2013           1         1            0            0            0   \n",
       "2       2013           1         1            0            0            0   \n",
       "3       2013           1         1            0            0            0   \n",
       "4       2013           1         1            0            0            0   \n",
       "\n",
       "   store_nbr_3  store_nbr_4  store_nbr_5  family_0  ...  type_0  type_1  \\\n",
       "0            0            0            0         0  ...       0       1   \n",
       "1            0            0            0         0  ...       0       1   \n",
       "2            0            0            0         0  ...       0       1   \n",
       "3            0            0            0         0  ...       0       1   \n",
       "4            0            0            0         0  ...       0       1   \n",
       "\n",
       "   type_2  cluster_0  cluster_1  cluster_2  cluster_3  cluster_4  dcoilwtico  \\\n",
       "0       1          0          1          1          0          0      93.366   \n",
       "1       1          0          1          1          0          0      93.366   \n",
       "2       1          0          1          1          0          0      93.366   \n",
       "3       1          0          1          1          0          0      93.366   \n",
       "4       1          0          1          1          0          0      93.366   \n",
       "\n",
       "   holiday?  \n",
       "0       1.0  \n",
       "1       1.0  \n",
       "2       1.0  \n",
       "3       1.0  \n",
       "4       1.0  \n",
       "\n",
       "[5 rows x 35 columns]"
      ]
     },
     "execution_count": 10,
     "metadata": {},
     "output_type": "execute_result"
    }
   ],
   "source": [
    "X_total = pd.concat([X_train,X_test])\n",
    "X_total.head()"
   ]
  },
  {
   "cell_type": "code",
   "execution_count": 11,
   "id": "bc1257cc51aa67e0",
   "metadata": {
    "ExecuteTime": {
     "end_time": "2023-08-26T17:39:53.656344Z",
     "start_time": "2023-08-26T17:39:53.530493Z"
    }
   },
   "outputs": [],
   "source": [
    "col1 = [\"store_nbr_0\",\"store_nbr_1\",\"store_nbr_2\",\"store_nbr_3\",\"store_nbr_4\",\"store_nbr_5\",\"family_0\",\"family_1\",\"family_2\",\"family_3\",\"family_4\",\"family_5\",\"onpromotion\",\"city_0\",\"city_1\",\"city_2\",\"city_3\",\"city_4\",\"state_0\",\"state_1\",\"state_2\",\"state_3\",\"type_0\",\"type_1\",\"type_2\",\"cluster_0\",\"cluster_1\",\"cluster_2\",\"cluster_3\",\"cluster_4\",\"holiday?\"]"
   ]
  },
  {
   "cell_type": "code",
   "execution_count": 12,
   "id": "331c8895f8c6c3e",
   "metadata": {
    "ExecuteTime": {
     "end_time": "2023-08-26T17:39:53.668443Z",
     "start_time": "2023-08-26T17:39:53.536455Z"
    }
   },
   "outputs": [],
   "source": [
    "col2 = [\"date_year\",\"date_month\",\"date_day\",\"dcoilwtico\"]"
   ]
  },
  {
   "cell_type": "code",
   "execution_count": 13,
   "id": "4b42092cd300ba17",
   "metadata": {
    "ExecuteTime": {
     "end_time": "2023-08-26T17:39:53.668952Z",
     "start_time": "2023-08-26T17:39:53.538796Z"
    }
   },
   "outputs": [
    {
     "data": {
      "text/plain": [
       "35"
      ]
     },
     "execution_count": 13,
     "metadata": {},
     "output_type": "execute_result"
    }
   ],
   "source": [
    "len(col1)+len(col2)"
   ]
  },
  {
   "cell_type": "code",
   "execution_count": 14,
   "id": "be1f7eda85eaf6de",
   "metadata": {
    "ExecuteTime": {
     "end_time": "2023-08-26T17:39:53.966779Z",
     "start_time": "2023-08-26T17:39:53.541360Z"
    }
   },
   "outputs": [],
   "source": [
    "ss = StandardScaler()\n",
    "\n",
    "X_total_1 = X_total.copy()\n",
    "h = X_total[col2].to_numpy()\n",
    "g = ss.fit_transform(h)\n",
    "o = pd.DataFrame(g,columns=col2)\n",
    "X_total_1[col2] = o\n",
    "X_total_1 = X_total_1[X_total.columns.values]\n",
    "X_total_1 = X_total_1.to_numpy()"
   ]
  },
  {
   "cell_type": "code",
   "execution_count": 15,
   "id": "73432f22e2d0b316",
   "metadata": {
    "ExecuteTime": {
     "end_time": "2023-08-26T17:39:53.967817Z",
     "start_time": "2023-08-26T17:39:53.965860Z"
    }
   },
   "outputs": [],
   "source": [
    "X_train_1 = pd.DataFrame(X_total_1[0:len(X_train),:],columns=X_train.columns.values)\n",
    "X_test_1 = pd.DataFrame(X_total_1[len(X_train):,:],columns=X_test.columns.values)\n",
    "y_train_1 = y_train[\"sales\"]"
   ]
  },
  {
   "cell_type": "code",
   "execution_count": 16,
   "id": "bc0d3129cee59ece",
   "metadata": {
    "ExecuteTime": {
     "end_time": "2023-08-26T17:39:53.975357Z",
     "start_time": "2023-08-26T17:39:53.968469Z"
    }
   },
   "outputs": [
    {
     "data": {
      "text/html": [
       "<div>\n",
       "<style scoped>\n",
       "    .dataframe tbody tr th:only-of-type {\n",
       "        vertical-align: middle;\n",
       "    }\n",
       "\n",
       "    .dataframe tbody tr th {\n",
       "        vertical-align: top;\n",
       "    }\n",
       "\n",
       "    .dataframe thead th {\n",
       "        text-align: right;\n",
       "    }\n",
       "</style>\n",
       "<table border=\"1\" class=\"dataframe\">\n",
       "  <thead>\n",
       "    <tr style=\"text-align: right;\">\n",
       "      <th></th>\n",
       "      <th>date_year</th>\n",
       "      <th>date_month</th>\n",
       "      <th>date_day</th>\n",
       "      <th>store_nbr_0</th>\n",
       "      <th>store_nbr_1</th>\n",
       "      <th>store_nbr_2</th>\n",
       "      <th>store_nbr_3</th>\n",
       "      <th>store_nbr_4</th>\n",
       "      <th>store_nbr_5</th>\n",
       "      <th>family_0</th>\n",
       "      <th>...</th>\n",
       "      <th>type_0</th>\n",
       "      <th>type_1</th>\n",
       "      <th>type_2</th>\n",
       "      <th>cluster_0</th>\n",
       "      <th>cluster_1</th>\n",
       "      <th>cluster_2</th>\n",
       "      <th>cluster_3</th>\n",
       "      <th>cluster_4</th>\n",
       "      <th>dcoilwtico</th>\n",
       "      <th>holiday?</th>\n",
       "    </tr>\n",
       "  </thead>\n",
       "  <tbody>\n",
       "    <tr>\n",
       "      <th>0</th>\n",
       "      <td>-0.633647</td>\n",
       "      <td>-1.475632</td>\n",
       "      <td>-1.668899</td>\n",
       "      <td>0.0</td>\n",
       "      <td>0.0</td>\n",
       "      <td>0.0</td>\n",
       "      <td>0.0</td>\n",
       "      <td>0.0</td>\n",
       "      <td>0.0</td>\n",
       "      <td>0.0</td>\n",
       "      <td>...</td>\n",
       "      <td>0.0</td>\n",
       "      <td>1.0</td>\n",
       "      <td>1.0</td>\n",
       "      <td>0.0</td>\n",
       "      <td>1.0</td>\n",
       "      <td>1.0</td>\n",
       "      <td>0.0</td>\n",
       "      <td>0.0</td>\n",
       "      <td>-0.474854</td>\n",
       "      <td>1.0</td>\n",
       "    </tr>\n",
       "    <tr>\n",
       "      <th>1</th>\n",
       "      <td>-0.633647</td>\n",
       "      <td>-1.475632</td>\n",
       "      <td>-1.668899</td>\n",
       "      <td>0.0</td>\n",
       "      <td>0.0</td>\n",
       "      <td>0.0</td>\n",
       "      <td>0.0</td>\n",
       "      <td>0.0</td>\n",
       "      <td>0.0</td>\n",
       "      <td>0.0</td>\n",
       "      <td>...</td>\n",
       "      <td>0.0</td>\n",
       "      <td>1.0</td>\n",
       "      <td>1.0</td>\n",
       "      <td>0.0</td>\n",
       "      <td>1.0</td>\n",
       "      <td>1.0</td>\n",
       "      <td>0.0</td>\n",
       "      <td>0.0</td>\n",
       "      <td>-0.474854</td>\n",
       "      <td>1.0</td>\n",
       "    </tr>\n",
       "    <tr>\n",
       "      <th>2</th>\n",
       "      <td>-0.633647</td>\n",
       "      <td>-1.475632</td>\n",
       "      <td>-1.668899</td>\n",
       "      <td>0.0</td>\n",
       "      <td>0.0</td>\n",
       "      <td>0.0</td>\n",
       "      <td>0.0</td>\n",
       "      <td>0.0</td>\n",
       "      <td>0.0</td>\n",
       "      <td>0.0</td>\n",
       "      <td>...</td>\n",
       "      <td>0.0</td>\n",
       "      <td>1.0</td>\n",
       "      <td>1.0</td>\n",
       "      <td>0.0</td>\n",
       "      <td>1.0</td>\n",
       "      <td>1.0</td>\n",
       "      <td>0.0</td>\n",
       "      <td>0.0</td>\n",
       "      <td>-0.474854</td>\n",
       "      <td>1.0</td>\n",
       "    </tr>\n",
       "    <tr>\n",
       "      <th>3</th>\n",
       "      <td>-0.633647</td>\n",
       "      <td>-1.475632</td>\n",
       "      <td>-1.668899</td>\n",
       "      <td>0.0</td>\n",
       "      <td>0.0</td>\n",
       "      <td>0.0</td>\n",
       "      <td>0.0</td>\n",
       "      <td>0.0</td>\n",
       "      <td>0.0</td>\n",
       "      <td>0.0</td>\n",
       "      <td>...</td>\n",
       "      <td>0.0</td>\n",
       "      <td>1.0</td>\n",
       "      <td>1.0</td>\n",
       "      <td>0.0</td>\n",
       "      <td>1.0</td>\n",
       "      <td>1.0</td>\n",
       "      <td>0.0</td>\n",
       "      <td>0.0</td>\n",
       "      <td>-0.474854</td>\n",
       "      <td>1.0</td>\n",
       "    </tr>\n",
       "    <tr>\n",
       "      <th>4</th>\n",
       "      <td>-0.633647</td>\n",
       "      <td>-1.475632</td>\n",
       "      <td>-1.668899</td>\n",
       "      <td>0.0</td>\n",
       "      <td>0.0</td>\n",
       "      <td>0.0</td>\n",
       "      <td>0.0</td>\n",
       "      <td>0.0</td>\n",
       "      <td>0.0</td>\n",
       "      <td>0.0</td>\n",
       "      <td>...</td>\n",
       "      <td>0.0</td>\n",
       "      <td>1.0</td>\n",
       "      <td>1.0</td>\n",
       "      <td>0.0</td>\n",
       "      <td>1.0</td>\n",
       "      <td>1.0</td>\n",
       "      <td>0.0</td>\n",
       "      <td>0.0</td>\n",
       "      <td>-0.474854</td>\n",
       "      <td>1.0</td>\n",
       "    </tr>\n",
       "  </tbody>\n",
       "</table>\n",
       "<p>5 rows × 35 columns</p>\n",
       "</div>"
      ],
      "text/plain": [
       "   date_year  date_month  date_day  store_nbr_0  store_nbr_1  store_nbr_2  \\\n",
       "0  -0.633647   -1.475632 -1.668899          0.0          0.0          0.0   \n",
       "1  -0.633647   -1.475632 -1.668899          0.0          0.0          0.0   \n",
       "2  -0.633647   -1.475632 -1.668899          0.0          0.0          0.0   \n",
       "3  -0.633647   -1.475632 -1.668899          0.0          0.0          0.0   \n",
       "4  -0.633647   -1.475632 -1.668899          0.0          0.0          0.0   \n",
       "\n",
       "   store_nbr_3  store_nbr_4  store_nbr_5  family_0  ...  type_0  type_1  \\\n",
       "0          0.0          0.0          0.0       0.0  ...     0.0     1.0   \n",
       "1          0.0          0.0          0.0       0.0  ...     0.0     1.0   \n",
       "2          0.0          0.0          0.0       0.0  ...     0.0     1.0   \n",
       "3          0.0          0.0          0.0       0.0  ...     0.0     1.0   \n",
       "4          0.0          0.0          0.0       0.0  ...     0.0     1.0   \n",
       "\n",
       "   type_2  cluster_0  cluster_1  cluster_2  cluster_3  cluster_4  dcoilwtico  \\\n",
       "0     1.0        0.0        1.0        1.0        0.0        0.0   -0.474854   \n",
       "1     1.0        0.0        1.0        1.0        0.0        0.0   -0.474854   \n",
       "2     1.0        0.0        1.0        1.0        0.0        0.0   -0.474854   \n",
       "3     1.0        0.0        1.0        1.0        0.0        0.0   -0.474854   \n",
       "4     1.0        0.0        1.0        1.0        0.0        0.0   -0.474854   \n",
       "\n",
       "   holiday?  \n",
       "0       1.0  \n",
       "1       1.0  \n",
       "2       1.0  \n",
       "3       1.0  \n",
       "4       1.0  \n",
       "\n",
       "[5 rows x 35 columns]"
      ]
     },
     "execution_count": 16,
     "metadata": {},
     "output_type": "execute_result"
    }
   ],
   "source": [
    "X_train_1.head()"
   ]
  },
  {
   "cell_type": "code",
   "execution_count": 17,
   "id": "b542a8310c99ae9c",
   "metadata": {
    "ExecuteTime": {
     "end_time": "2023-08-26T17:39:53.987721Z",
     "start_time": "2023-08-26T17:39:53.980526Z"
    }
   },
   "outputs": [
    {
     "data": {
      "text/html": [
       "<div>\n",
       "<style scoped>\n",
       "    .dataframe tbody tr th:only-of-type {\n",
       "        vertical-align: middle;\n",
       "    }\n",
       "\n",
       "    .dataframe tbody tr th {\n",
       "        vertical-align: top;\n",
       "    }\n",
       "\n",
       "    .dataframe thead th {\n",
       "        text-align: right;\n",
       "    }\n",
       "</style>\n",
       "<table border=\"1\" class=\"dataframe\">\n",
       "  <thead>\n",
       "    <tr style=\"text-align: right;\">\n",
       "      <th></th>\n",
       "      <th>date_year</th>\n",
       "      <th>date_month</th>\n",
       "      <th>date_day</th>\n",
       "      <th>store_nbr_0</th>\n",
       "      <th>store_nbr_1</th>\n",
       "      <th>store_nbr_2</th>\n",
       "      <th>store_nbr_3</th>\n",
       "      <th>store_nbr_4</th>\n",
       "      <th>store_nbr_5</th>\n",
       "      <th>family_0</th>\n",
       "      <th>...</th>\n",
       "      <th>type_0</th>\n",
       "      <th>type_1</th>\n",
       "      <th>type_2</th>\n",
       "      <th>cluster_0</th>\n",
       "      <th>cluster_1</th>\n",
       "      <th>cluster_2</th>\n",
       "      <th>cluster_3</th>\n",
       "      <th>cluster_4</th>\n",
       "      <th>dcoilwtico</th>\n",
       "      <th>holiday?</th>\n",
       "    </tr>\n",
       "  </thead>\n",
       "  <tbody>\n",
       "    <tr>\n",
       "      <th>0</th>\n",
       "      <td>-0.633647</td>\n",
       "      <td>-1.475632</td>\n",
       "      <td>-1.668899</td>\n",
       "      <td>0.0</td>\n",
       "      <td>0.0</td>\n",
       "      <td>0.0</td>\n",
       "      <td>0.0</td>\n",
       "      <td>0.0</td>\n",
       "      <td>0.0</td>\n",
       "      <td>0.0</td>\n",
       "      <td>...</td>\n",
       "      <td>0.0</td>\n",
       "      <td>1.0</td>\n",
       "      <td>1.0</td>\n",
       "      <td>0.0</td>\n",
       "      <td>1.0</td>\n",
       "      <td>1.0</td>\n",
       "      <td>0.0</td>\n",
       "      <td>0.0</td>\n",
       "      <td>-0.474854</td>\n",
       "      <td>0.0</td>\n",
       "    </tr>\n",
       "    <tr>\n",
       "      <th>1</th>\n",
       "      <td>-0.633647</td>\n",
       "      <td>-1.475632</td>\n",
       "      <td>-1.668899</td>\n",
       "      <td>0.0</td>\n",
       "      <td>0.0</td>\n",
       "      <td>0.0</td>\n",
       "      <td>0.0</td>\n",
       "      <td>0.0</td>\n",
       "      <td>0.0</td>\n",
       "      <td>0.0</td>\n",
       "      <td>...</td>\n",
       "      <td>0.0</td>\n",
       "      <td>1.0</td>\n",
       "      <td>1.0</td>\n",
       "      <td>0.0</td>\n",
       "      <td>1.0</td>\n",
       "      <td>1.0</td>\n",
       "      <td>0.0</td>\n",
       "      <td>0.0</td>\n",
       "      <td>-0.474854</td>\n",
       "      <td>0.0</td>\n",
       "    </tr>\n",
       "    <tr>\n",
       "      <th>2</th>\n",
       "      <td>-0.633647</td>\n",
       "      <td>-1.475632</td>\n",
       "      <td>-1.668899</td>\n",
       "      <td>0.0</td>\n",
       "      <td>0.0</td>\n",
       "      <td>0.0</td>\n",
       "      <td>0.0</td>\n",
       "      <td>0.0</td>\n",
       "      <td>0.0</td>\n",
       "      <td>0.0</td>\n",
       "      <td>...</td>\n",
       "      <td>0.0</td>\n",
       "      <td>1.0</td>\n",
       "      <td>1.0</td>\n",
       "      <td>0.0</td>\n",
       "      <td>1.0</td>\n",
       "      <td>1.0</td>\n",
       "      <td>0.0</td>\n",
       "      <td>0.0</td>\n",
       "      <td>-0.474854</td>\n",
       "      <td>0.0</td>\n",
       "    </tr>\n",
       "    <tr>\n",
       "      <th>3</th>\n",
       "      <td>-0.633647</td>\n",
       "      <td>-1.475632</td>\n",
       "      <td>-1.668899</td>\n",
       "      <td>0.0</td>\n",
       "      <td>0.0</td>\n",
       "      <td>0.0</td>\n",
       "      <td>0.0</td>\n",
       "      <td>0.0</td>\n",
       "      <td>0.0</td>\n",
       "      <td>0.0</td>\n",
       "      <td>...</td>\n",
       "      <td>0.0</td>\n",
       "      <td>1.0</td>\n",
       "      <td>1.0</td>\n",
       "      <td>0.0</td>\n",
       "      <td>1.0</td>\n",
       "      <td>1.0</td>\n",
       "      <td>0.0</td>\n",
       "      <td>0.0</td>\n",
       "      <td>-0.474854</td>\n",
       "      <td>0.0</td>\n",
       "    </tr>\n",
       "    <tr>\n",
       "      <th>4</th>\n",
       "      <td>-0.633647</td>\n",
       "      <td>-1.475632</td>\n",
       "      <td>-1.668899</td>\n",
       "      <td>0.0</td>\n",
       "      <td>0.0</td>\n",
       "      <td>0.0</td>\n",
       "      <td>0.0</td>\n",
       "      <td>0.0</td>\n",
       "      <td>0.0</td>\n",
       "      <td>0.0</td>\n",
       "      <td>...</td>\n",
       "      <td>0.0</td>\n",
       "      <td>1.0</td>\n",
       "      <td>1.0</td>\n",
       "      <td>0.0</td>\n",
       "      <td>1.0</td>\n",
       "      <td>1.0</td>\n",
       "      <td>0.0</td>\n",
       "      <td>0.0</td>\n",
       "      <td>-0.474854</td>\n",
       "      <td>0.0</td>\n",
       "    </tr>\n",
       "  </tbody>\n",
       "</table>\n",
       "<p>5 rows × 35 columns</p>\n",
       "</div>"
      ],
      "text/plain": [
       "   date_year  date_month  date_day  store_nbr_0  store_nbr_1  store_nbr_2  \\\n",
       "0  -0.633647   -1.475632 -1.668899          0.0          0.0          0.0   \n",
       "1  -0.633647   -1.475632 -1.668899          0.0          0.0          0.0   \n",
       "2  -0.633647   -1.475632 -1.668899          0.0          0.0          0.0   \n",
       "3  -0.633647   -1.475632 -1.668899          0.0          0.0          0.0   \n",
       "4  -0.633647   -1.475632 -1.668899          0.0          0.0          0.0   \n",
       "\n",
       "   store_nbr_3  store_nbr_4  store_nbr_5  family_0  ...  type_0  type_1  \\\n",
       "0          0.0          0.0          0.0       0.0  ...     0.0     1.0   \n",
       "1          0.0          0.0          0.0       0.0  ...     0.0     1.0   \n",
       "2          0.0          0.0          0.0       0.0  ...     0.0     1.0   \n",
       "3          0.0          0.0          0.0       0.0  ...     0.0     1.0   \n",
       "4          0.0          0.0          0.0       0.0  ...     0.0     1.0   \n",
       "\n",
       "   type_2  cluster_0  cluster_1  cluster_2  cluster_3  cluster_4  dcoilwtico  \\\n",
       "0     1.0        0.0        1.0        1.0        0.0        0.0   -0.474854   \n",
       "1     1.0        0.0        1.0        1.0        0.0        0.0   -0.474854   \n",
       "2     1.0        0.0        1.0        1.0        0.0        0.0   -0.474854   \n",
       "3     1.0        0.0        1.0        1.0        0.0        0.0   -0.474854   \n",
       "4     1.0        0.0        1.0        1.0        0.0        0.0   -0.474854   \n",
       "\n",
       "   holiday?  \n",
       "0       0.0  \n",
       "1       0.0  \n",
       "2       0.0  \n",
       "3       0.0  \n",
       "4       0.0  \n",
       "\n",
       "[5 rows x 35 columns]"
      ]
     },
     "execution_count": 17,
     "metadata": {},
     "output_type": "execute_result"
    }
   ],
   "source": [
    "X_test_1.head()"
   ]
  },
  {
   "cell_type": "code",
   "execution_count": 18,
   "id": "8bbbd5819f73b04b",
   "metadata": {
    "ExecuteTime": {
     "end_time": "2023-08-26T17:39:53.988120Z",
     "start_time": "2023-08-26T17:39:53.983132Z"
    }
   },
   "outputs": [
    {
     "data": {
      "text/plain": [
       "0    0.0\n",
       "1    0.0\n",
       "2    0.0\n",
       "3    0.0\n",
       "4    0.0\n",
       "Name: sales, dtype: float64"
      ]
     },
     "execution_count": 18,
     "metadata": {},
     "output_type": "execute_result"
    }
   ],
   "source": [
    "y_train_1.head()"
   ]
  },
  {
   "cell_type": "code",
   "execution_count": 19,
   "id": "440056de78b4d0dd",
   "metadata": {
    "ExecuteTime": {
     "end_time": "2023-08-26T17:39:53.988763Z",
     "start_time": "2023-08-26T17:39:53.985458Z"
    }
   },
   "outputs": [
    {
     "name": "stdout",
     "output_type": "stream",
     "text": [
      "Number of rows in X_train :  1048575\n",
      "Number of rows in y_train :  1048575\n",
      "Number of rows in X_test  :  28512\n"
     ]
    }
   ],
   "source": [
    "print(\"Number of rows in X_train : \",len(X_train_1))\n",
    "print(\"Number of rows in y_train : \",len(y_train_1))\n",
    "print(\"Number of rows in X_test  : \",len(X_test_1))"
   ]
  },
  {
   "cell_type": "code",
   "execution_count": 20,
   "id": "4222e1036d553379",
   "metadata": {
    "ExecuteTime": {
     "end_time": "2023-08-26T17:39:59.118686Z",
     "start_time": "2023-08-26T17:39:53.989733Z"
    }
   },
   "outputs": [],
   "source": [
    "sgd = SGDRegressor()\n",
    "model = sgd.fit(X_train_1,y_train_1)"
   ]
  },
  {
   "cell_type": "code",
   "execution_count": 21,
   "id": "cbbd63c95e7d7772",
   "metadata": {
    "ExecuteTime": {
     "end_time": "2023-08-26T17:39:59.133211Z",
     "start_time": "2023-08-26T17:39:59.125398Z"
    }
   },
   "outputs": [],
   "source": [
    "y_test_1 = model.predict(X_test_1)"
   ]
  },
  {
   "cell_type": "code",
   "execution_count": 22,
   "id": "45362540faf72fb7",
   "metadata": {
    "ExecuteTime": {
     "end_time": "2023-08-26T17:39:59.133829Z",
     "start_time": "2023-08-26T17:39:59.129469Z"
    }
   },
   "outputs": [
    {
     "data": {
      "text/plain": [
       "array([356.97883586, 269.66602761, 288.34827773, ..., 218.09859663,\n",
       "       347.65563895,   9.59378225])"
      ]
     },
     "execution_count": 22,
     "metadata": {},
     "output_type": "execute_result"
    }
   ],
   "source": [
    "y_test_1"
   ]
  },
  {
   "cell_type": "code",
   "execution_count": 23,
   "id": "bffb4493779c750a",
   "metadata": {
    "ExecuteTime": {
     "end_time": "2023-08-26T17:39:59.145778Z",
     "start_time": "2023-08-26T17:39:59.132430Z"
    }
   },
   "outputs": [
    {
     "data": {
      "text/plain": [
       "0    3000888\n",
       "1    3000889\n",
       "2    3000890\n",
       "3    3000891\n",
       "4    3000892\n",
       "Name: id, dtype: int64"
      ]
     },
     "execution_count": 23,
     "metadata": {},
     "output_type": "execute_result"
    }
   ],
   "source": [
    "org = pd.read_csv(\"test.csv\")\n",
    "id = org[\"id\"]\n",
    "id.head()"
   ]
  },
  {
   "cell_type": "code",
   "execution_count": 24,
   "id": "b877410ff0fcde14",
   "metadata": {
    "ExecuteTime": {
     "end_time": "2023-08-26T17:39:59.154654Z",
     "start_time": "2023-08-26T17:39:59.147344Z"
    }
   },
   "outputs": [],
   "source": [
    "final_df = pd.DataFrame(columns=[\"id\",\"sales\"])\n",
    "final_df[\"id\"] = id\n",
    "final_df[\"sales\"] = y_test_1.round(2)"
   ]
  },
  {
   "cell_type": "code",
   "execution_count": 25,
   "id": "f94381cb61024e2",
   "metadata": {
    "ExecuteTime": {
     "end_time": "2023-08-26T17:39:59.155521Z",
     "start_time": "2023-08-26T17:39:59.151794Z"
    }
   },
   "outputs": [
    {
     "data": {
      "text/html": [
       "<div>\n",
       "<style scoped>\n",
       "    .dataframe tbody tr th:only-of-type {\n",
       "        vertical-align: middle;\n",
       "    }\n",
       "\n",
       "    .dataframe tbody tr th {\n",
       "        vertical-align: top;\n",
       "    }\n",
       "\n",
       "    .dataframe thead th {\n",
       "        text-align: right;\n",
       "    }\n",
       "</style>\n",
       "<table border=\"1\" class=\"dataframe\">\n",
       "  <thead>\n",
       "    <tr style=\"text-align: right;\">\n",
       "      <th></th>\n",
       "      <th>id</th>\n",
       "      <th>sales</th>\n",
       "    </tr>\n",
       "  </thead>\n",
       "  <tbody>\n",
       "    <tr>\n",
       "      <th>0</th>\n",
       "      <td>3000888</td>\n",
       "      <td>356.98</td>\n",
       "    </tr>\n",
       "    <tr>\n",
       "      <th>1</th>\n",
       "      <td>3000889</td>\n",
       "      <td>269.67</td>\n",
       "    </tr>\n",
       "    <tr>\n",
       "      <th>2</th>\n",
       "      <td>3000890</td>\n",
       "      <td>288.35</td>\n",
       "    </tr>\n",
       "    <tr>\n",
       "      <th>3</th>\n",
       "      <td>3000891</td>\n",
       "      <td>688.99</td>\n",
       "    </tr>\n",
       "    <tr>\n",
       "      <th>4</th>\n",
       "      <td>3000892</td>\n",
       "      <td>497.23</td>\n",
       "    </tr>\n",
       "  </tbody>\n",
       "</table>\n",
       "</div>"
      ],
      "text/plain": [
       "        id   sales\n",
       "0  3000888  356.98\n",
       "1  3000889  269.67\n",
       "2  3000890  288.35\n",
       "3  3000891  688.99\n",
       "4  3000892  497.23"
      ]
     },
     "execution_count": 25,
     "metadata": {},
     "output_type": "execute_result"
    }
   ],
   "source": [
    "final_df.head()"
   ]
  },
  {
   "cell_type": "code",
   "execution_count": 26,
   "id": "a86ce9a3e9742c64",
   "metadata": {
    "ExecuteTime": {
     "end_time": "2023-08-26T17:39:59.220757Z",
     "start_time": "2023-08-26T17:39:59.155160Z"
    }
   },
   "outputs": [],
   "source": [
    "final_df.to_csv(\"amith_submission.csv\",index=False)"
   ]
  },
  {
   "cell_type": "code",
   "execution_count": 27,
   "id": "4438a600cb500b72",
   "metadata": {
    "ExecuteTime": {
     "end_time": "2023-08-26T17:39:59.223714Z",
     "start_time": "2023-08-26T17:39:59.181849Z"
    }
   },
   "outputs": [],
   "source": [
    "final_df2 = pd.DataFrame(columns=[\"id\",\"sales\"])\n",
    "final_df2[\"id\"] = id\n",
    "final_df2[\"sales\"] = y_test_1"
   ]
  },
  {
   "cell_type": "code",
   "execution_count": 28,
   "id": "94aa9d0ffe2322c7",
   "metadata": {
    "ExecuteTime": {
     "end_time": "2023-08-26T17:39:59.224157Z",
     "start_time": "2023-08-26T17:39:59.187092Z"
    }
   },
   "outputs": [
    {
     "data": {
      "text/html": [
       "<div>\n",
       "<style scoped>\n",
       "    .dataframe tbody tr th:only-of-type {\n",
       "        vertical-align: middle;\n",
       "    }\n",
       "\n",
       "    .dataframe tbody tr th {\n",
       "        vertical-align: top;\n",
       "    }\n",
       "\n",
       "    .dataframe thead th {\n",
       "        text-align: right;\n",
       "    }\n",
       "</style>\n",
       "<table border=\"1\" class=\"dataframe\">\n",
       "  <thead>\n",
       "    <tr style=\"text-align: right;\">\n",
       "      <th></th>\n",
       "      <th>id</th>\n",
       "      <th>sales</th>\n",
       "    </tr>\n",
       "  </thead>\n",
       "  <tbody>\n",
       "    <tr>\n",
       "      <th>0</th>\n",
       "      <td>3000888</td>\n",
       "      <td>356.978836</td>\n",
       "    </tr>\n",
       "    <tr>\n",
       "      <th>1</th>\n",
       "      <td>3000889</td>\n",
       "      <td>269.666028</td>\n",
       "    </tr>\n",
       "    <tr>\n",
       "      <th>2</th>\n",
       "      <td>3000890</td>\n",
       "      <td>288.348278</td>\n",
       "    </tr>\n",
       "    <tr>\n",
       "      <th>3</th>\n",
       "      <td>3000891</td>\n",
       "      <td>688.992633</td>\n",
       "    </tr>\n",
       "    <tr>\n",
       "      <th>4</th>\n",
       "      <td>3000892</td>\n",
       "      <td>497.230492</td>\n",
       "    </tr>\n",
       "  </tbody>\n",
       "</table>\n",
       "</div>"
      ],
      "text/plain": [
       "        id       sales\n",
       "0  3000888  356.978836\n",
       "1  3000889  269.666028\n",
       "2  3000890  288.348278\n",
       "3  3000891  688.992633\n",
       "4  3000892  497.230492"
      ]
     },
     "execution_count": 28,
     "metadata": {},
     "output_type": "execute_result"
    }
   ],
   "source": [
    "final_df2.head()"
   ]
  },
  {
   "cell_type": "code",
   "execution_count": 29,
   "id": "7ad5faef389874e1",
   "metadata": {
    "ExecuteTime": {
     "end_time": "2023-08-26T17:39:59.224822Z",
     "start_time": "2023-08-26T17:39:59.189332Z"
    }
   },
   "outputs": [],
   "source": [
    "final_df2.to_csv(\"amith_submission2.csv\",index=False)"
   ]
  },
  {
   "cell_type": "code",
   "execution_count": null,
   "id": "b0e45832c85d06a3",
   "metadata": {},
   "outputs": [],
   "source": []
  }
 ],
 "metadata": {
  "kernelspec": {
   "display_name": "Python 3 (ipykernel)",
   "language": "python",
   "name": "python3"
  },
  "language_info": {
   "codemirror_mode": {
    "name": "ipython",
    "version": 3
   },
   "file_extension": ".py",
   "mimetype": "text/x-python",
   "name": "python",
   "nbconvert_exporter": "python",
   "pygments_lexer": "ipython3",
   "version": "3.11.4"
  }
 },
 "nbformat": 4,
 "nbformat_minor": 5
}
