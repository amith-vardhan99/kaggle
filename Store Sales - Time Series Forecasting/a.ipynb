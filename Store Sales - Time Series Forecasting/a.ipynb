{
 "cells": [
  {
   "cell_type": "code",
   "execution_count": null,
   "id": "initial_id",
   "metadata": {
    "collapsed": true
   },
   "outputs": [],
   "source": []
  },
  {
   "cell_type": "code",
   "execution_count": null,
   "outputs": [],
   "source": [
    "ss = StandardScaler()\n",
    "\n",
    "X_total_1 = X_total.copy()\n",
    "h = X_total[col2].to_numpy()\n",
    "g = ss.fit_transform(h)\n",
    "o = pd.DataFrame(g,columns=col2)\n",
    "X_total_1[col2] = o\n",
    "X_total_1 = X_total_1[X_total.columns.values]\n",
    "X_total_1 = X_total_1.to_numpy()\n",
    "X_total_1"
   ],
   "metadata": {
    "collapsed": false
   },
   "id": "6de051db478ccaa9"
  }
 ],
 "metadata": {
  "kernelspec": {
   "display_name": "Python 3",
   "language": "python",
   "name": "python3"
  },
  "language_info": {
   "codemirror_mode": {
    "name": "ipython",
    "version": 2
   },
   "file_extension": ".py",
   "mimetype": "text/x-python",
   "name": "python",
   "nbconvert_exporter": "python",
   "pygments_lexer": "ipython2",
   "version": "2.7.6"
  }
 },
 "nbformat": 4,
 "nbformat_minor": 5
}
