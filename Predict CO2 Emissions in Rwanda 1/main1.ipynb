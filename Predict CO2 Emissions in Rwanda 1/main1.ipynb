{
 "cells": [
  {
   "cell_type": "markdown",
   "source": [
    "# Prediction of CO2 Emissions in Rwanda"
   ],
   "metadata": {
    "collapsed": false
   },
   "id": "14143d130132badf"
  },
  {
   "cell_type": "markdown",
   "source": [
    "## Project from Kaggle"
   ],
   "metadata": {
    "collapsed": false
   },
   "id": "a6343b69c8f21d70"
  },
  {
   "cell_type": "markdown",
   "source": [
    "https://www.kaggle.com/competitions/playground-series-s3e20/overview"
   ],
   "metadata": {
    "collapsed": false
   },
   "id": "c12eaf84aa6dad25"
  },
  {
   "cell_type": "markdown",
   "source": [
    "The ability to accurately monitor carbon emissions is a critical step in the fight against climate change. Precise carbon readings allow researchers and governments to understand the sources and patterns of carbon mass output. While Europe and North America have extensive systems in place to monitor carbon emissions on the ground, there are few available in Africa.\n",
    "\n",
    "The objective of this challenge is to create a machine learning models using open-source CO2 emissions data from Sentinel-5P satellite observations to predict future carbon emissions.\n",
    "\n",
    "These solutions may help enable governments, and other actors to estimate carbon emission levels across Africa, even in places where on-the-ground monitoring is not possible."
   ],
   "metadata": {
    "collapsed": false
   },
   "id": "4e20afcdf24aba0"
  },
  {
   "cell_type": "markdown",
   "source": [
    "### Importing all libraries"
   ],
   "metadata": {
    "collapsed": false
   },
   "id": "e09e1f1b47882c0b"
  },
  {
   "cell_type": "code",
   "execution_count": 15,
   "outputs": [],
   "source": [
    "import numpy as np\n",
    "import pandas as pd\n",
    "import matplotlib.pyplot as plt\n",
    "import seaborn as sns\n",
    "from math import *\n",
    "from sklearn.preprocessing import *\n",
    "from sklearn.model_selection import *\n",
    "from sklearn.linear_model import *\n",
    "from sklearn.ensemble import *\n",
    "from sklearn.naive_bayes import *\n",
    "from sklearn.metrics import *\n",
    "from sklearn.discriminant_analysis import *\n",
    "from sklearn.feature_selection import *\n",
    "import warnings\n",
    "warnings.filterwarnings(\"ignore\")\n",
    "from sklearn.svm import *"
   ],
   "metadata": {
    "collapsed": false,
    "ExecuteTime": {
     "end_time": "2023-08-16T00:55:19.027170Z",
     "start_time": "2023-08-16T00:55:19.025015Z"
    }
   },
   "id": "initial_id"
  },
  {
   "cell_type": "markdown",
   "source": [
    "### Importing and preprocessing training data "
   ],
   "metadata": {
    "collapsed": false
   },
   "id": "545c4a6587f209dc"
  },
  {
   "cell_type": "code",
   "execution_count": 16,
   "id": "73e480da1cc87fe5",
   "metadata": {
    "ExecuteTime": {
     "end_time": "2023-08-16T00:55:20.547831Z",
     "start_time": "2023-08-16T00:55:19.724517Z"
    }
   },
   "outputs": [],
   "source": [
    "df_train = pd.read_csv(\"train.csv\")\n",
    "df_train_na = df_train.isna().sum()\n",
    "for i in df_train:\n",
    "    if df_train_na[i] > 0:\n",
    "        avg = df_train[i].median()\n",
    "        df_train[i] = df_train[i].fillna(avg)\n",
    "\n",
    "col = list(df_train.columns.values[1:3])\n",
    "col += list(df_train.columns.values[5:75])\n",
    "\n",
    "df_train_pre = df_train.copy()\n",
    "\n",
    "ss = StandardScaler()\n",
    "scale = ss.fit(df_train[col])\n",
    "\n",
    "g = pd.DataFrame(scale.transform(df_train[col]),columns=col)\n",
    "df_train_pre[col] = g"
   ]
  },
  {
   "cell_type": "markdown",
   "source": [
    "### Importing and preprocessing testing data "
   ],
   "metadata": {
    "collapsed": false
   },
   "id": "6156817f548a91ba"
  },
  {
   "cell_type": "code",
   "execution_count": 17,
   "id": "542fe3ffc556cf49",
   "metadata": {
    "ExecuteTime": {
     "end_time": "2023-08-16T00:55:20.808872Z",
     "start_time": "2023-08-16T00:55:20.548993Z"
    }
   },
   "outputs": [],
   "source": [
    "df_test = pd.read_csv(\"test.csv\")\n",
    "df_test_na = df_test.isna().sum()\n",
    "for i in df_test:\n",
    "    if df_test_na[i] > 0:\n",
    "        avg = df_test[i].median()\n",
    "        df_test[i] = df_test[i].fillna(avg)\n",
    "\n",
    "col = list(df_test.columns.values[1:3])\n",
    "col += list(df_test.columns.values[5:75])\n",
    "\n",
    "df_test_pre = df_test.copy()\n",
    "\n",
    "ss = StandardScaler()\n",
    "scale = ss.fit(df_test[col])\n",
    "\n",
    "g = pd.DataFrame(scale.transform(df_test[col]),columns=col)\n",
    "df_test_pre[col] = g"
   ]
  },
  {
   "cell_type": "markdown",
   "source": [
    "### Preprocessed training data"
   ],
   "metadata": {
    "collapsed": false
   },
   "id": "840e43aa7479003a"
  },
  {
   "cell_type": "code",
   "execution_count": 18,
   "id": "1902ce973867d500",
   "metadata": {
    "ExecuteTime": {
     "end_time": "2023-08-16T00:55:21.142349Z",
     "start_time": "2023-08-16T00:55:21.134056Z"
    }
   },
   "outputs": [
    {
     "data": {
      "text/plain": "       ID_LAT_LON_YEAR_WEEK  latitude  longitude  year  week_no  \\\n0  ID_-0.510_29.290_2019_00  1.988534  -0.728253  2019        0   \n1  ID_-0.510_29.290_2019_01  1.988534  -0.728253  2019        1   \n2  ID_-0.510_29.290_2019_02  1.988534  -0.728253  2019        2   \n3  ID_-0.510_29.290_2019_03  1.988534  -0.728253  2019        3   \n4  ID_-0.510_29.290_2019_04  1.988534  -0.728253  2019        4   \n\n   SulphurDioxide_SO2_column_number_density  \\\n0                                 -0.617429   \n1                                 -0.093107   \n2                                  1.915273   \n3                                 -0.080220   \n4                                 -0.497103   \n\n   SulphurDioxide_SO2_column_number_density_amf  \\\n0                                     -1.354297   \n1                                     -0.607616   \n2                                     -0.488422   \n3                                     -0.125087   \n4                                     -0.917262   \n\n   SulphurDioxide_SO2_slant_column_number_density  \\\n0                                       -0.524140   \n1                                       -0.099088   \n2                                        1.898900   \n3                                       -0.072069   \n4                                       -0.428799   \n\n   SulphurDioxide_cloud_fraction  SulphurDioxide_sensor_azimuth_angle  ...  \\\n0                       1.499215                            -1.547623  ...   \n1                      -0.435488                             0.436785  ...   \n2                      -0.760890                             1.405035  ...   \n3                       0.043473                            -0.063415  ...   \n4                      -0.587935                             0.221928  ...   \n\n   Cloud_cloud_top_height  Cloud_cloud_base_pressure  Cloud_cloud_base_height  \\\n0               -1.353704                   0.184638                -1.516525   \n1               -1.363005                   0.836687                -1.103670   \n2               -0.965708                   0.071939                -0.851500   \n3               -0.255427                  -0.925955                -0.360982   \n4               -1.131698                   0.480018                -0.969997   \n\n   Cloud_cloud_optical_depth  Cloud_surface_albedo  \\\n0                  -0.262503              0.016720   \n1                  -0.771638             -0.297013   \n2                   0.147214             -0.413264   \n3                  -0.275948             -0.191248   \n4                  -0.814270             -0.722791   \n\n   Cloud_sensor_azimuth_angle  Cloud_sensor_zenith_angle  \\\n0                   -0.060518                  -0.750348   \n1                    1.359108                  -0.137864   \n2                    0.864367                  -1.566521   \n3                   -0.016413                  -2.506101   \n4                    1.629005                  -0.475633   \n\n   Cloud_solar_azimuth_angle  Cloud_solar_zenith_angle  emission  \n0                  -1.378504                  0.643142  3.750994  \n1                  -1.548103                 -0.154131  4.025176  \n2                  -1.477470                 -0.395221  4.231381  \n3                  -1.216246                  0.205146  4.305286  \n4                  -1.450702                 -1.303718  4.347317  \n\n[5 rows x 76 columns]",
      "text/html": "<div>\n<style scoped>\n    .dataframe tbody tr th:only-of-type {\n        vertical-align: middle;\n    }\n\n    .dataframe tbody tr th {\n        vertical-align: top;\n    }\n\n    .dataframe thead th {\n        text-align: right;\n    }\n</style>\n<table border=\"1\" class=\"dataframe\">\n  <thead>\n    <tr style=\"text-align: right;\">\n      <th></th>\n      <th>ID_LAT_LON_YEAR_WEEK</th>\n      <th>latitude</th>\n      <th>longitude</th>\n      <th>year</th>\n      <th>week_no</th>\n      <th>SulphurDioxide_SO2_column_number_density</th>\n      <th>SulphurDioxide_SO2_column_number_density_amf</th>\n      <th>SulphurDioxide_SO2_slant_column_number_density</th>\n      <th>SulphurDioxide_cloud_fraction</th>\n      <th>SulphurDioxide_sensor_azimuth_angle</th>\n      <th>...</th>\n      <th>Cloud_cloud_top_height</th>\n      <th>Cloud_cloud_base_pressure</th>\n      <th>Cloud_cloud_base_height</th>\n      <th>Cloud_cloud_optical_depth</th>\n      <th>Cloud_surface_albedo</th>\n      <th>Cloud_sensor_azimuth_angle</th>\n      <th>Cloud_sensor_zenith_angle</th>\n      <th>Cloud_solar_azimuth_angle</th>\n      <th>Cloud_solar_zenith_angle</th>\n      <th>emission</th>\n    </tr>\n  </thead>\n  <tbody>\n    <tr>\n      <th>0</th>\n      <td>ID_-0.510_29.290_2019_00</td>\n      <td>1.988534</td>\n      <td>-0.728253</td>\n      <td>2019</td>\n      <td>0</td>\n      <td>-0.617429</td>\n      <td>-1.354297</td>\n      <td>-0.524140</td>\n      <td>1.499215</td>\n      <td>-1.547623</td>\n      <td>...</td>\n      <td>-1.353704</td>\n      <td>0.184638</td>\n      <td>-1.516525</td>\n      <td>-0.262503</td>\n      <td>0.016720</td>\n      <td>-0.060518</td>\n      <td>-0.750348</td>\n      <td>-1.378504</td>\n      <td>0.643142</td>\n      <td>3.750994</td>\n    </tr>\n    <tr>\n      <th>1</th>\n      <td>ID_-0.510_29.290_2019_01</td>\n      <td>1.988534</td>\n      <td>-0.728253</td>\n      <td>2019</td>\n      <td>1</td>\n      <td>-0.093107</td>\n      <td>-0.607616</td>\n      <td>-0.099088</td>\n      <td>-0.435488</td>\n      <td>0.436785</td>\n      <td>...</td>\n      <td>-1.363005</td>\n      <td>0.836687</td>\n      <td>-1.103670</td>\n      <td>-0.771638</td>\n      <td>-0.297013</td>\n      <td>1.359108</td>\n      <td>-0.137864</td>\n      <td>-1.548103</td>\n      <td>-0.154131</td>\n      <td>4.025176</td>\n    </tr>\n    <tr>\n      <th>2</th>\n      <td>ID_-0.510_29.290_2019_02</td>\n      <td>1.988534</td>\n      <td>-0.728253</td>\n      <td>2019</td>\n      <td>2</td>\n      <td>1.915273</td>\n      <td>-0.488422</td>\n      <td>1.898900</td>\n      <td>-0.760890</td>\n      <td>1.405035</td>\n      <td>...</td>\n      <td>-0.965708</td>\n      <td>0.071939</td>\n      <td>-0.851500</td>\n      <td>0.147214</td>\n      <td>-0.413264</td>\n      <td>0.864367</td>\n      <td>-1.566521</td>\n      <td>-1.477470</td>\n      <td>-0.395221</td>\n      <td>4.231381</td>\n    </tr>\n    <tr>\n      <th>3</th>\n      <td>ID_-0.510_29.290_2019_03</td>\n      <td>1.988534</td>\n      <td>-0.728253</td>\n      <td>2019</td>\n      <td>3</td>\n      <td>-0.080220</td>\n      <td>-0.125087</td>\n      <td>-0.072069</td>\n      <td>0.043473</td>\n      <td>-0.063415</td>\n      <td>...</td>\n      <td>-0.255427</td>\n      <td>-0.925955</td>\n      <td>-0.360982</td>\n      <td>-0.275948</td>\n      <td>-0.191248</td>\n      <td>-0.016413</td>\n      <td>-2.506101</td>\n      <td>-1.216246</td>\n      <td>0.205146</td>\n      <td>4.305286</td>\n    </tr>\n    <tr>\n      <th>4</th>\n      <td>ID_-0.510_29.290_2019_04</td>\n      <td>1.988534</td>\n      <td>-0.728253</td>\n      <td>2019</td>\n      <td>4</td>\n      <td>-0.497103</td>\n      <td>-0.917262</td>\n      <td>-0.428799</td>\n      <td>-0.587935</td>\n      <td>0.221928</td>\n      <td>...</td>\n      <td>-1.131698</td>\n      <td>0.480018</td>\n      <td>-0.969997</td>\n      <td>-0.814270</td>\n      <td>-0.722791</td>\n      <td>1.629005</td>\n      <td>-0.475633</td>\n      <td>-1.450702</td>\n      <td>-1.303718</td>\n      <td>4.347317</td>\n    </tr>\n  </tbody>\n</table>\n<p>5 rows × 76 columns</p>\n</div>"
     },
     "execution_count": 18,
     "metadata": {},
     "output_type": "execute_result"
    }
   ],
   "source": [
    "df_train_pre.head()"
   ]
  },
  {
   "cell_type": "markdown",
   "source": [
    "### Preprocessed testing data"
   ],
   "metadata": {
    "collapsed": false
   },
   "id": "c1e715185c0a0604"
  },
  {
   "cell_type": "code",
   "execution_count": 19,
   "id": "9455a524a810ebbd",
   "metadata": {
    "ExecuteTime": {
     "end_time": "2023-08-16T00:55:21.813416Z",
     "start_time": "2023-08-16T00:55:21.810392Z"
    }
   },
   "outputs": [
    {
     "data": {
      "text/plain": "       ID_LAT_LON_YEAR_WEEK  latitude  longitude  year  week_no  \\\n0  ID_-0.510_29.290_2022_00  1.988534  -0.728253  2022        0   \n1  ID_-0.510_29.290_2022_01  1.988534  -0.728253  2022        1   \n2  ID_-0.510_29.290_2022_02  1.988534  -0.728253  2022        2   \n3  ID_-0.510_29.290_2022_03  1.988534  -0.728253  2022        3   \n4  ID_-0.510_29.290_2022_04  1.988534  -0.728253  2022        4   \n\n   SulphurDioxide_SO2_column_number_density  \\\n0                                 -0.025672   \n1                                  2.195286   \n2                                  0.735284   \n3                                  1.671615   \n4                                 -1.625046   \n\n   SulphurDioxide_SO2_column_number_density_amf  \\\n0                                     -0.150017   \n1                                     -0.644598   \n2                                     -1.234576   \n3                                     -0.605161   \n4                                     -1.403085   \n\n   SulphurDioxide_SO2_slant_column_number_density  \\\n0                                       -0.024796   \n1                                        2.095942   \n2                                        0.667438   \n3                                        1.602440   \n4                                       -1.306322   \n\n   SulphurDioxide_cloud_fraction  SulphurDioxide_sensor_azimuth_angle  ...  \\\n0                      -0.002374                             0.097206  ...   \n1                      -2.015056                             1.118246  ...   \n2                      -0.858553                            -0.915789  ...   \n3                       0.895806                             1.048270  ...   \n4                       0.943939                             1.117415  ...   \n\n   Cloud_cloud_top_pressure  Cloud_cloud_top_height  \\\n0                 -1.926239                1.899041   \n1                 -0.444017                0.453279   \n2                 -2.149909                2.270216   \n3                 -0.169868                0.119084   \n4                 -0.674331                0.723528   \n\n   Cloud_cloud_base_pressure  Cloud_cloud_base_height  \\\n0                  -1.961927                 1.910157   \n1                  -0.439019                 0.441641   \n2                  -2.186155                 2.287173   \n3                  -0.139147                 0.102187   \n4                  -0.660756                 0.716143   \n\n   Cloud_cloud_optical_depth  Cloud_surface_albedo  \\\n0                  -0.838383             -0.328377   \n1                  -0.551341              0.798469   \n2                  -0.608153              0.239004   \n3                  -0.525510              1.047326   \n4                  -0.419222              0.606925   \n\n   Cloud_sensor_azimuth_angle  Cloud_sensor_zenith_angle  \\\n0                   -2.700310                  -1.019200   \n1                   -0.468734                   0.369579   \n2                    1.762656                   0.933333   \n3                   -0.274918                   0.327755   \n4                    0.095623                  -1.589418   \n\n   Cloud_solar_azimuth_angle  Cloud_solar_zenith_angle  \n0                  -1.425006                  1.307123  \n1                  -1.582048                  0.682613  \n2                  -1.755028                 -0.280830  \n3                  -1.480688                  0.364941  \n4                  -1.493965                 -0.386123  \n\n[5 rows x 75 columns]",
      "text/html": "<div>\n<style scoped>\n    .dataframe tbody tr th:only-of-type {\n        vertical-align: middle;\n    }\n\n    .dataframe tbody tr th {\n        vertical-align: top;\n    }\n\n    .dataframe thead th {\n        text-align: right;\n    }\n</style>\n<table border=\"1\" class=\"dataframe\">\n  <thead>\n    <tr style=\"text-align: right;\">\n      <th></th>\n      <th>ID_LAT_LON_YEAR_WEEK</th>\n      <th>latitude</th>\n      <th>longitude</th>\n      <th>year</th>\n      <th>week_no</th>\n      <th>SulphurDioxide_SO2_column_number_density</th>\n      <th>SulphurDioxide_SO2_column_number_density_amf</th>\n      <th>SulphurDioxide_SO2_slant_column_number_density</th>\n      <th>SulphurDioxide_cloud_fraction</th>\n      <th>SulphurDioxide_sensor_azimuth_angle</th>\n      <th>...</th>\n      <th>Cloud_cloud_top_pressure</th>\n      <th>Cloud_cloud_top_height</th>\n      <th>Cloud_cloud_base_pressure</th>\n      <th>Cloud_cloud_base_height</th>\n      <th>Cloud_cloud_optical_depth</th>\n      <th>Cloud_surface_albedo</th>\n      <th>Cloud_sensor_azimuth_angle</th>\n      <th>Cloud_sensor_zenith_angle</th>\n      <th>Cloud_solar_azimuth_angle</th>\n      <th>Cloud_solar_zenith_angle</th>\n    </tr>\n  </thead>\n  <tbody>\n    <tr>\n      <th>0</th>\n      <td>ID_-0.510_29.290_2022_00</td>\n      <td>1.988534</td>\n      <td>-0.728253</td>\n      <td>2022</td>\n      <td>0</td>\n      <td>-0.025672</td>\n      <td>-0.150017</td>\n      <td>-0.024796</td>\n      <td>-0.002374</td>\n      <td>0.097206</td>\n      <td>...</td>\n      <td>-1.926239</td>\n      <td>1.899041</td>\n      <td>-1.961927</td>\n      <td>1.910157</td>\n      <td>-0.838383</td>\n      <td>-0.328377</td>\n      <td>-2.700310</td>\n      <td>-1.019200</td>\n      <td>-1.425006</td>\n      <td>1.307123</td>\n    </tr>\n    <tr>\n      <th>1</th>\n      <td>ID_-0.510_29.290_2022_01</td>\n      <td>1.988534</td>\n      <td>-0.728253</td>\n      <td>2022</td>\n      <td>1</td>\n      <td>2.195286</td>\n      <td>-0.644598</td>\n      <td>2.095942</td>\n      <td>-2.015056</td>\n      <td>1.118246</td>\n      <td>...</td>\n      <td>-0.444017</td>\n      <td>0.453279</td>\n      <td>-0.439019</td>\n      <td>0.441641</td>\n      <td>-0.551341</td>\n      <td>0.798469</td>\n      <td>-0.468734</td>\n      <td>0.369579</td>\n      <td>-1.582048</td>\n      <td>0.682613</td>\n    </tr>\n    <tr>\n      <th>2</th>\n      <td>ID_-0.510_29.290_2022_02</td>\n      <td>1.988534</td>\n      <td>-0.728253</td>\n      <td>2022</td>\n      <td>2</td>\n      <td>0.735284</td>\n      <td>-1.234576</td>\n      <td>0.667438</td>\n      <td>-0.858553</td>\n      <td>-0.915789</td>\n      <td>...</td>\n      <td>-2.149909</td>\n      <td>2.270216</td>\n      <td>-2.186155</td>\n      <td>2.287173</td>\n      <td>-0.608153</td>\n      <td>0.239004</td>\n      <td>1.762656</td>\n      <td>0.933333</td>\n      <td>-1.755028</td>\n      <td>-0.280830</td>\n    </tr>\n    <tr>\n      <th>3</th>\n      <td>ID_-0.510_29.290_2022_03</td>\n      <td>1.988534</td>\n      <td>-0.728253</td>\n      <td>2022</td>\n      <td>3</td>\n      <td>1.671615</td>\n      <td>-0.605161</td>\n      <td>1.602440</td>\n      <td>0.895806</td>\n      <td>1.048270</td>\n      <td>...</td>\n      <td>-0.169868</td>\n      <td>0.119084</td>\n      <td>-0.139147</td>\n      <td>0.102187</td>\n      <td>-0.525510</td>\n      <td>1.047326</td>\n      <td>-0.274918</td>\n      <td>0.327755</td>\n      <td>-1.480688</td>\n      <td>0.364941</td>\n    </tr>\n    <tr>\n      <th>4</th>\n      <td>ID_-0.510_29.290_2022_04</td>\n      <td>1.988534</td>\n      <td>-0.728253</td>\n      <td>2022</td>\n      <td>4</td>\n      <td>-1.625046</td>\n      <td>-1.403085</td>\n      <td>-1.306322</td>\n      <td>0.943939</td>\n      <td>1.117415</td>\n      <td>...</td>\n      <td>-0.674331</td>\n      <td>0.723528</td>\n      <td>-0.660756</td>\n      <td>0.716143</td>\n      <td>-0.419222</td>\n      <td>0.606925</td>\n      <td>0.095623</td>\n      <td>-1.589418</td>\n      <td>-1.493965</td>\n      <td>-0.386123</td>\n    </tr>\n  </tbody>\n</table>\n<p>5 rows × 75 columns</p>\n</div>"
     },
     "execution_count": 19,
     "metadata": {},
     "output_type": "execute_result"
    }
   ],
   "source": [
    "df_test_pre.head()"
   ]
  },
  {
   "cell_type": "markdown",
   "source": [
    "### Calculation of p values and eliminating non-significant features"
   ],
   "metadata": {
    "collapsed": false
   },
   "id": "b43ac8afd1030404"
  },
  {
   "cell_type": "code",
   "execution_count": 20,
   "id": "9bda2f84c2c3c47d",
   "metadata": {
    "ExecuteTime": {
     "end_time": "2023-08-16T00:55:22.509889Z",
     "start_time": "2023-08-16T00:55:22.413684Z"
    }
   },
   "outputs": [
    {
     "data": {
      "text/plain": "                                      index     0\n0                                  latitude  0.00\n1                                 longitude  0.00\n2                                      year  0.00\n3                                   week_no  0.05\n4  SulphurDioxide_SO2_column_number_density  0.00",
      "text/html": "<div>\n<style scoped>\n    .dataframe tbody tr th:only-of-type {\n        vertical-align: middle;\n    }\n\n    .dataframe tbody tr th {\n        vertical-align: top;\n    }\n\n    .dataframe thead th {\n        text-align: right;\n    }\n</style>\n<table border=\"1\" class=\"dataframe\">\n  <thead>\n    <tr style=\"text-align: right;\">\n      <th></th>\n      <th>index</th>\n      <th>0</th>\n    </tr>\n  </thead>\n  <tbody>\n    <tr>\n      <th>0</th>\n      <td>latitude</td>\n      <td>0.00</td>\n    </tr>\n    <tr>\n      <th>1</th>\n      <td>longitude</td>\n      <td>0.00</td>\n    </tr>\n    <tr>\n      <th>2</th>\n      <td>year</td>\n      <td>0.00</td>\n    </tr>\n    <tr>\n      <th>3</th>\n      <td>week_no</td>\n      <td>0.05</td>\n    </tr>\n    <tr>\n      <th>4</th>\n      <td>SulphurDioxide_SO2_column_number_density</td>\n      <td>0.00</td>\n    </tr>\n  </tbody>\n</table>\n</div>"
     },
     "execution_count": 20,
     "metadata": {},
     "output_type": "execute_result"
    }
   ],
   "source": [
    "X = df_train_pre.drop([\"emission\",\"ID_LAT_LON_YEAR_WEEK\"],axis=1,inplace=False)\n",
    "y = df_train_pre[\"emission\"]\n",
    "f,p = f_regression(X,y)\n",
    "p_values = pd.DataFrame(p,index=X.columns.values)\n",
    "p_values = p_values.round(2)\n",
    "p_values = p_values.reset_index()\n",
    "no_p = list(p_values[p_values[0]>0.05][\"index\"])\n",
    "no_p1 = no_p.copy()\n",
    "p_values[p_values[0]<=0.05].head()"
   ]
  },
  {
   "cell_type": "markdown",
   "source": [
    "### Creation of training and testing data"
   ],
   "metadata": {
    "collapsed": false
   },
   "id": "c0dce2a342c6cffc"
  },
  {
   "cell_type": "code",
   "execution_count": 21,
   "id": "1225c3bdd32c1aaf",
   "metadata": {
    "ExecuteTime": {
     "end_time": "2023-08-16T00:55:23.040189Z",
     "start_time": "2023-08-16T00:55:23.037702Z"
    }
   },
   "outputs": [],
   "source": [
    "X_train = X.drop(no_p,axis=1,inplace=False)\n",
    "y_train = y.copy()\n",
    "no_p1.insert(0,\"ID_LAT_LON_YEAR_WEEK\")\n",
    "X_test = df_test_pre.drop(no_p1,axis=1,inplace=False)"
   ]
  },
  {
   "cell_type": "markdown",
   "source": [
    "### Performance of Regression Analysis using Lasso Regression"
   ],
   "metadata": {
    "collapsed": false
   },
   "id": "b4beaff62e928c6f"
  },
  {
   "cell_type": "code",
   "execution_count": 22,
   "id": "2454368f8b0f3bcc",
   "metadata": {
    "ExecuteTime": {
     "end_time": "2023-08-16T00:55:24.058137Z",
     "start_time": "2023-08-16T00:55:23.760935Z"
    }
   },
   "outputs": [
    {
     "data": {
      "text/plain": "array([ 58.22,  65.62,  50.57, ...,  93.11, 101.51,  85.46])"
     },
     "execution_count": 22,
     "metadata": {},
     "output_type": "execute_result"
    }
   ],
   "source": [
    "la = Lasso()\n",
    "model = la.fit(X_train,y_train)\n",
    "y_test = model.predict(X_test)\n",
    "y_test = np.round(y_test,2)\n",
    "y_test"
   ]
  },
  {
   "cell_type": "markdown",
   "source": [
    "### Final submission dataset"
   ],
   "metadata": {
    "collapsed": false
   },
   "id": "cf4a00ad4c979232"
  },
  {
   "cell_type": "code",
   "execution_count": 23,
   "id": "478bab19a0e20c31",
   "metadata": {
    "ExecuteTime": {
     "end_time": "2023-08-16T00:55:24.509035Z",
     "start_time": "2023-08-16T00:55:24.505254Z"
    }
   },
   "outputs": [],
   "source": [
    "final_df = pd.DataFrame(columns=[\"ID_LAT_LON_YEAR_WEEK\",\"emission\"])\n",
    "final_df[\"ID_LAT_LON_YEAR_WEEK\"] = df_test[\"ID_LAT_LON_YEAR_WEEK\"]\n",
    "final_df[\"emission\"] = y_test"
   ]
  },
  {
   "cell_type": "code",
   "execution_count": 24,
   "id": "c8aab5c9df21ccdb",
   "metadata": {
    "ExecuteTime": {
     "end_time": "2023-08-16T00:55:24.870765Z",
     "start_time": "2023-08-16T00:55:24.868356Z"
    }
   },
   "outputs": [
    {
     "data": {
      "text/plain": "       ID_LAT_LON_YEAR_WEEK  emission\n0  ID_-0.510_29.290_2022_00     58.22\n1  ID_-0.510_29.290_2022_01     65.62\n2  ID_-0.510_29.290_2022_02     50.57\n3  ID_-0.510_29.290_2022_03     58.82\n4  ID_-0.510_29.290_2022_04     77.60",
      "text/html": "<div>\n<style scoped>\n    .dataframe tbody tr th:only-of-type {\n        vertical-align: middle;\n    }\n\n    .dataframe tbody tr th {\n        vertical-align: top;\n    }\n\n    .dataframe thead th {\n        text-align: right;\n    }\n</style>\n<table border=\"1\" class=\"dataframe\">\n  <thead>\n    <tr style=\"text-align: right;\">\n      <th></th>\n      <th>ID_LAT_LON_YEAR_WEEK</th>\n      <th>emission</th>\n    </tr>\n  </thead>\n  <tbody>\n    <tr>\n      <th>0</th>\n      <td>ID_-0.510_29.290_2022_00</td>\n      <td>58.22</td>\n    </tr>\n    <tr>\n      <th>1</th>\n      <td>ID_-0.510_29.290_2022_01</td>\n      <td>65.62</td>\n    </tr>\n    <tr>\n      <th>2</th>\n      <td>ID_-0.510_29.290_2022_02</td>\n      <td>50.57</td>\n    </tr>\n    <tr>\n      <th>3</th>\n      <td>ID_-0.510_29.290_2022_03</td>\n      <td>58.82</td>\n    </tr>\n    <tr>\n      <th>4</th>\n      <td>ID_-0.510_29.290_2022_04</td>\n      <td>77.60</td>\n    </tr>\n  </tbody>\n</table>\n</div>"
     },
     "execution_count": 24,
     "metadata": {},
     "output_type": "execute_result"
    }
   ],
   "source": [
    "final_df.head()"
   ]
  },
  {
   "cell_type": "markdown",
   "source": [
    "### Exporting of final dataset to CSV file"
   ],
   "metadata": {
    "collapsed": false
   },
   "id": "3d07e47feae415"
  },
  {
   "cell_type": "code",
   "execution_count": 25,
   "id": "fb73f73d5f7c9d55",
   "metadata": {
    "ExecuteTime": {
     "end_time": "2023-08-16T00:55:25.822646Z",
     "start_time": "2023-08-16T00:55:25.790896Z"
    }
   },
   "outputs": [],
   "source": [
    "final_df.to_csv(\"amith_submission_1.csv\",index=False)"
   ]
  },
  {
   "cell_type": "code",
   "execution_count": null,
   "id": "fad8dac47aeac0e6",
   "metadata": {},
   "outputs": [],
   "source": []
  }
 ],
 "metadata": {
  "kernelspec": {
   "display_name": "Python 3 (ipykernel)",
   "language": "python",
   "name": "python3"
  },
  "language_info": {
   "codemirror_mode": {
    "name": "ipython",
    "version": 3
   },
   "file_extension": ".py",
   "mimetype": "text/x-python",
   "name": "python",
   "nbconvert_exporter": "python",
   "pygments_lexer": "ipython3",
   "version": "3.11.3"
  }
 },
 "nbformat": 4,
 "nbformat_minor": 5
}
