{
 "cells": [
  {
   "cell_type": "code",
   "execution_count": 236,
   "id": "initial_id",
   "metadata": {
    "collapsed": true,
    "ExecuteTime": {
     "end_time": "2023-08-13T00:00:54.108743Z",
     "start_time": "2023-08-13T00:00:53.666435Z"
    }
   },
   "outputs": [],
   "source": [
    "import numpy as np\n",
    "import pandas as pd\n",
    "import matplotlib.pyplot as plt\n",
    "import seaborn as sns\n",
    "from sklearn.model_selection import *\n",
    "from sklearn.preprocessing import *\n",
    "from sklearn.linear_model import *\n",
    "from sklearn.metrics import *\n",
    "from sklearn.ensemble import *\n",
    "import warnings\n",
    "warnings.filterwarnings(\"ignore\")\n",
    "from nltk.sentiment import SentimentIntensityAnalyzer\n",
    "import nltk\n",
    "from imblearn.over_sampling import *\n",
    "from scipy.stats import *"
   ]
  },
  {
   "cell_type": "code",
   "execution_count": 211,
   "outputs": [
    {
     "data": {
      "text/plain": "       num_passengers sales_channel  trip_type  purchase_lead  length_of_stay  \\\n0                   2      Internet  RoundTrip            262              19   \n1                   1      Internet  RoundTrip            112              20   \n2                   2      Internet  RoundTrip            243              22   \n3                   1      Internet  RoundTrip             96              31   \n4                   2      Internet  RoundTrip             68              22   \n...               ...           ...        ...            ...             ...   \n49995               2      Internet  RoundTrip             27               6   \n49996               1      Internet  RoundTrip            111               6   \n49997               1      Internet  RoundTrip             24               6   \n49998               1      Internet  RoundTrip             15               6   \n49999               1      Internet  RoundTrip             19               6   \n\n       flight_hour flight_day   route booking_origin  wants_extra_baggage  \\\n0                7        Sat  AKLDEL    New Zealand                    1   \n1                3        Sat  AKLDEL    New Zealand                    0   \n2               17        Wed  AKLDEL          India                    1   \n3                4        Sat  AKLDEL    New Zealand                    0   \n4               15        Wed  AKLDEL          India                    1   \n...            ...        ...     ...            ...                  ...   \n49995            9        Sat  PERPNH      Australia                    1   \n49996            4        Sun  PERPNH      Australia                    0   \n49997           22        Sat  PERPNH      Australia                    0   \n49998           11        Mon  PERPNH      Australia                    1   \n49999           10        Thu  PERPNH      Australia                    0   \n\n       wants_preferred_seat  wants_in_flight_meals  flight_duration  \\\n0                         0                      0             5.52   \n1                         0                      0             5.52   \n2                         1                      0             5.52   \n3                         0                      1             5.52   \n4                         0                      1             5.52   \n...                     ...                    ...              ...   \n49995                     0                      1             5.62   \n49996                     0                      0             5.62   \n49997                     0                      1             5.62   \n49998                     0                      1             5.62   \n49999                     1                      0             5.62   \n\n       booking_complete  \n0                     0  \n1                     0  \n2                     0  \n3                     0  \n4                     0  \n...                 ...  \n49995                 0  \n49996                 0  \n49997                 0  \n49998                 0  \n49999                 0  \n\n[50000 rows x 14 columns]",
      "text/html": "<div>\n<style scoped>\n    .dataframe tbody tr th:only-of-type {\n        vertical-align: middle;\n    }\n\n    .dataframe tbody tr th {\n        vertical-align: top;\n    }\n\n    .dataframe thead th {\n        text-align: right;\n    }\n</style>\n<table border=\"1\" class=\"dataframe\">\n  <thead>\n    <tr style=\"text-align: right;\">\n      <th></th>\n      <th>num_passengers</th>\n      <th>sales_channel</th>\n      <th>trip_type</th>\n      <th>purchase_lead</th>\n      <th>length_of_stay</th>\n      <th>flight_hour</th>\n      <th>flight_day</th>\n      <th>route</th>\n      <th>booking_origin</th>\n      <th>wants_extra_baggage</th>\n      <th>wants_preferred_seat</th>\n      <th>wants_in_flight_meals</th>\n      <th>flight_duration</th>\n      <th>booking_complete</th>\n    </tr>\n  </thead>\n  <tbody>\n    <tr>\n      <th>0</th>\n      <td>2</td>\n      <td>Internet</td>\n      <td>RoundTrip</td>\n      <td>262</td>\n      <td>19</td>\n      <td>7</td>\n      <td>Sat</td>\n      <td>AKLDEL</td>\n      <td>New Zealand</td>\n      <td>1</td>\n      <td>0</td>\n      <td>0</td>\n      <td>5.52</td>\n      <td>0</td>\n    </tr>\n    <tr>\n      <th>1</th>\n      <td>1</td>\n      <td>Internet</td>\n      <td>RoundTrip</td>\n      <td>112</td>\n      <td>20</td>\n      <td>3</td>\n      <td>Sat</td>\n      <td>AKLDEL</td>\n      <td>New Zealand</td>\n      <td>0</td>\n      <td>0</td>\n      <td>0</td>\n      <td>5.52</td>\n      <td>0</td>\n    </tr>\n    <tr>\n      <th>2</th>\n      <td>2</td>\n      <td>Internet</td>\n      <td>RoundTrip</td>\n      <td>243</td>\n      <td>22</td>\n      <td>17</td>\n      <td>Wed</td>\n      <td>AKLDEL</td>\n      <td>India</td>\n      <td>1</td>\n      <td>1</td>\n      <td>0</td>\n      <td>5.52</td>\n      <td>0</td>\n    </tr>\n    <tr>\n      <th>3</th>\n      <td>1</td>\n      <td>Internet</td>\n      <td>RoundTrip</td>\n      <td>96</td>\n      <td>31</td>\n      <td>4</td>\n      <td>Sat</td>\n      <td>AKLDEL</td>\n      <td>New Zealand</td>\n      <td>0</td>\n      <td>0</td>\n      <td>1</td>\n      <td>5.52</td>\n      <td>0</td>\n    </tr>\n    <tr>\n      <th>4</th>\n      <td>2</td>\n      <td>Internet</td>\n      <td>RoundTrip</td>\n      <td>68</td>\n      <td>22</td>\n      <td>15</td>\n      <td>Wed</td>\n      <td>AKLDEL</td>\n      <td>India</td>\n      <td>1</td>\n      <td>0</td>\n      <td>1</td>\n      <td>5.52</td>\n      <td>0</td>\n    </tr>\n    <tr>\n      <th>...</th>\n      <td>...</td>\n      <td>...</td>\n      <td>...</td>\n      <td>...</td>\n      <td>...</td>\n      <td>...</td>\n      <td>...</td>\n      <td>...</td>\n      <td>...</td>\n      <td>...</td>\n      <td>...</td>\n      <td>...</td>\n      <td>...</td>\n      <td>...</td>\n    </tr>\n    <tr>\n      <th>49995</th>\n      <td>2</td>\n      <td>Internet</td>\n      <td>RoundTrip</td>\n      <td>27</td>\n      <td>6</td>\n      <td>9</td>\n      <td>Sat</td>\n      <td>PERPNH</td>\n      <td>Australia</td>\n      <td>1</td>\n      <td>0</td>\n      <td>1</td>\n      <td>5.62</td>\n      <td>0</td>\n    </tr>\n    <tr>\n      <th>49996</th>\n      <td>1</td>\n      <td>Internet</td>\n      <td>RoundTrip</td>\n      <td>111</td>\n      <td>6</td>\n      <td>4</td>\n      <td>Sun</td>\n      <td>PERPNH</td>\n      <td>Australia</td>\n      <td>0</td>\n      <td>0</td>\n      <td>0</td>\n      <td>5.62</td>\n      <td>0</td>\n    </tr>\n    <tr>\n      <th>49997</th>\n      <td>1</td>\n      <td>Internet</td>\n      <td>RoundTrip</td>\n      <td>24</td>\n      <td>6</td>\n      <td>22</td>\n      <td>Sat</td>\n      <td>PERPNH</td>\n      <td>Australia</td>\n      <td>0</td>\n      <td>0</td>\n      <td>1</td>\n      <td>5.62</td>\n      <td>0</td>\n    </tr>\n    <tr>\n      <th>49998</th>\n      <td>1</td>\n      <td>Internet</td>\n      <td>RoundTrip</td>\n      <td>15</td>\n      <td>6</td>\n      <td>11</td>\n      <td>Mon</td>\n      <td>PERPNH</td>\n      <td>Australia</td>\n      <td>1</td>\n      <td>0</td>\n      <td>1</td>\n      <td>5.62</td>\n      <td>0</td>\n    </tr>\n    <tr>\n      <th>49999</th>\n      <td>1</td>\n      <td>Internet</td>\n      <td>RoundTrip</td>\n      <td>19</td>\n      <td>6</td>\n      <td>10</td>\n      <td>Thu</td>\n      <td>PERPNH</td>\n      <td>Australia</td>\n      <td>0</td>\n      <td>1</td>\n      <td>0</td>\n      <td>5.62</td>\n      <td>0</td>\n    </tr>\n  </tbody>\n</table>\n<p>50000 rows × 14 columns</p>\n</div>"
     },
     "execution_count": 211,
     "metadata": {},
     "output_type": "execute_result"
    }
   ],
   "source": [
    "df = pd.read_csv(\"customer_booking.csv\",encoding=\"ISO-8859-1\")\n",
    "df"
   ],
   "metadata": {
    "collapsed": false,
    "ExecuteTime": {
     "end_time": "2023-08-12T23:45:39.204165Z",
     "start_time": "2023-08-12T23:45:39.161229Z"
    }
   },
   "id": "b6109041173dde0e"
  },
  {
   "cell_type": "code",
   "execution_count": 212,
   "outputs": [
    {
     "name": "stdout",
     "output_type": "stream",
     "text": [
      "Sales Channel   :  ['Internet' 'Mobile']\n",
      "Trip Type       :  ['CircleTrip' 'OneWay' 'RoundTrip']\n",
      "Flight Day      :  [0 1 2 3 4 5 6]\n"
     ]
    }
   ],
   "source": [
    "ohe = OneHotEncoder(drop=\"first\")\n",
    "orde = OrdinalEncoder()\n",
    "\n",
    "#Sales Channel\n",
    "sales_encode = ohe.fit(df[[\"sales_channel\"]])\n",
    "sales_channel = sales_encode.transform(df[[\"sales_channel\"]]).toarray().astype(\"int\")\n",
    "print(\"Sales Channel   : \",sales_encode.categories_[0])\n",
    "\n",
    "#Trip Type\n",
    "trip_encode = ohe.fit(df[[\"trip_type\"]])\n",
    "trip_type = trip_encode.transform(df[[\"trip_type\"]]).toarray().astype(\"int\")\n",
    "print(\"Trip Type       : \",trip_encode.categories_[0])\n",
    "\n",
    "#Flight Day\n",
    "flight_var = pd.DataFrame(df[\"flight_day\"].map({\"Sun\":0,\"Mon\":1,\"Tue\":2,\"Wed\":3,\"Thu\":4,\"Fri\":5,\"Sat\":6}))\n",
    "flight_encode = ohe.fit(flight_var[[\"flight_day\"]])\n",
    "flight_day =  flight_encode.transform(flight_var[[\"flight_day\"]]).toarray().astype(\"int\")\n",
    "print(\"Flight Day      : \",flight_encode.categories_[0])\n",
    "\n",
    "route_encode = orde.fit(df[[\"route\"]])\n",
    "route = route_encode.transform(df[[\"route\"]]).astype(\"int\")\n",
    "\n",
    "booking_encode = orde.fit(df[[\"booking_origin\"]])\n",
    "booking_origin = booking_encode.transform(df[[\"booking_origin\"]]).astype(\"int\")"
   ],
   "metadata": {
    "collapsed": false,
    "ExecuteTime": {
     "end_time": "2023-08-12T23:45:39.425751Z",
     "start_time": "2023-08-12T23:45:39.390898Z"
    }
   },
   "id": "ec7294c2eb50841d"
  },
  {
   "cell_type": "code",
   "execution_count": 213,
   "outputs": [],
   "source": [
    "df_1 = df.drop([\"sales_channel\",\"trip_type\",\"flight_day\",\"route\",\"booking_origin\",\"booking_complete\"],axis=1,inplace=False)"
   ],
   "metadata": {
    "collapsed": false,
    "ExecuteTime": {
     "end_time": "2023-08-12T23:45:41.310326Z",
     "start_time": "2023-08-12T23:45:41.308057Z"
    }
   },
   "id": "d8623f35c226dc12"
  },
  {
   "cell_type": "code",
   "execution_count": 214,
   "outputs": [],
   "source": [
    "df_1[\"sales_chanel\"] = sales_channel\n",
    "df_1[\"route\"] = route\n",
    "df_1[\"booking_origin\"] = booking_origin\n",
    "df_1[['OneWay','RoundTrip']] = pd.DataFrame(trip_type,columns=['OneWay','RoundTrip'])\n",
    "df_1[[\"Mon\",\"Tue\",\"Wed\",\"Thu\",\"Fri\",\"Sat\"]] = pd.DataFrame(flight_day,columns=[\"Mon\",\"Tue\",\"Wed\",\"Thu\",\"Fri\",\"Sat\"])"
   ],
   "metadata": {
    "collapsed": false,
    "ExecuteTime": {
     "end_time": "2023-08-12T23:45:41.626931Z",
     "start_time": "2023-08-12T23:45:41.616993Z"
    }
   },
   "id": "d9aecb32a2ccb6f7"
  },
  {
   "cell_type": "code",
   "execution_count": 215,
   "outputs": [
    {
     "data": {
      "text/plain": "       num_passengers  purchase_lead  length_of_stay  flight_hour  \\\n0                   2            262              19            7   \n1                   1            112              20            3   \n2                   2            243              22           17   \n3                   1             96              31            4   \n4                   2             68              22           15   \n...               ...            ...             ...          ...   \n49995               2             27               6            9   \n49996               1            111               6            4   \n49997               1             24               6           22   \n49998               1             15               6           11   \n49999               1             19               6           10   \n\n       wants_extra_baggage  wants_preferred_seat  wants_in_flight_meals  \\\n0                        1                     0                      0   \n1                        0                     0                      0   \n2                        1                     1                      0   \n3                        0                     0                      1   \n4                        1                     0                      1   \n...                    ...                   ...                    ...   \n49995                    1                     0                      1   \n49996                    0                     0                      0   \n49997                    0                     0                      1   \n49998                    1                     0                      1   \n49999                    0                     1                      0   \n\n       flight_duration  sales_chanel  route  booking_origin  OneWay  \\\n0                 5.52             0      0              61       0   \n1                 5.52             0      0              61       0   \n2                 5.52             0      0              36       0   \n3                 5.52             0      0              61       0   \n4                 5.52             0      0              36       0   \n...                ...           ...    ...             ...     ...   \n49995             5.62             0    720               4       0   \n49996             5.62             0    720               4       0   \n49997             5.62             0    720               4       0   \n49998             5.62             0    720               4       0   \n49999             5.62             0    720               4       0   \n\n       RoundTrip  Mon  Tue  Wed  Thu  Fri  Sat  \n0              1    0    0    0    0    0    1  \n1              1    0    0    0    0    0    1  \n2              1    0    0    1    0    0    0  \n3              1    0    0    0    0    0    1  \n4              1    0    0    1    0    0    0  \n...          ...  ...  ...  ...  ...  ...  ...  \n49995          1    0    0    0    0    0    1  \n49996          1    0    0    0    0    0    0  \n49997          1    0    0    0    0    0    1  \n49998          1    1    0    0    0    0    0  \n49999          1    0    0    0    1    0    0  \n\n[50000 rows x 19 columns]",
      "text/html": "<div>\n<style scoped>\n    .dataframe tbody tr th:only-of-type {\n        vertical-align: middle;\n    }\n\n    .dataframe tbody tr th {\n        vertical-align: top;\n    }\n\n    .dataframe thead th {\n        text-align: right;\n    }\n</style>\n<table border=\"1\" class=\"dataframe\">\n  <thead>\n    <tr style=\"text-align: right;\">\n      <th></th>\n      <th>num_passengers</th>\n      <th>purchase_lead</th>\n      <th>length_of_stay</th>\n      <th>flight_hour</th>\n      <th>wants_extra_baggage</th>\n      <th>wants_preferred_seat</th>\n      <th>wants_in_flight_meals</th>\n      <th>flight_duration</th>\n      <th>sales_chanel</th>\n      <th>route</th>\n      <th>booking_origin</th>\n      <th>OneWay</th>\n      <th>RoundTrip</th>\n      <th>Mon</th>\n      <th>Tue</th>\n      <th>Wed</th>\n      <th>Thu</th>\n      <th>Fri</th>\n      <th>Sat</th>\n    </tr>\n  </thead>\n  <tbody>\n    <tr>\n      <th>0</th>\n      <td>2</td>\n      <td>262</td>\n      <td>19</td>\n      <td>7</td>\n      <td>1</td>\n      <td>0</td>\n      <td>0</td>\n      <td>5.52</td>\n      <td>0</td>\n      <td>0</td>\n      <td>61</td>\n      <td>0</td>\n      <td>1</td>\n      <td>0</td>\n      <td>0</td>\n      <td>0</td>\n      <td>0</td>\n      <td>0</td>\n      <td>1</td>\n    </tr>\n    <tr>\n      <th>1</th>\n      <td>1</td>\n      <td>112</td>\n      <td>20</td>\n      <td>3</td>\n      <td>0</td>\n      <td>0</td>\n      <td>0</td>\n      <td>5.52</td>\n      <td>0</td>\n      <td>0</td>\n      <td>61</td>\n      <td>0</td>\n      <td>1</td>\n      <td>0</td>\n      <td>0</td>\n      <td>0</td>\n      <td>0</td>\n      <td>0</td>\n      <td>1</td>\n    </tr>\n    <tr>\n      <th>2</th>\n      <td>2</td>\n      <td>243</td>\n      <td>22</td>\n      <td>17</td>\n      <td>1</td>\n      <td>1</td>\n      <td>0</td>\n      <td>5.52</td>\n      <td>0</td>\n      <td>0</td>\n      <td>36</td>\n      <td>0</td>\n      <td>1</td>\n      <td>0</td>\n      <td>0</td>\n      <td>1</td>\n      <td>0</td>\n      <td>0</td>\n      <td>0</td>\n    </tr>\n    <tr>\n      <th>3</th>\n      <td>1</td>\n      <td>96</td>\n      <td>31</td>\n      <td>4</td>\n      <td>0</td>\n      <td>0</td>\n      <td>1</td>\n      <td>5.52</td>\n      <td>0</td>\n      <td>0</td>\n      <td>61</td>\n      <td>0</td>\n      <td>1</td>\n      <td>0</td>\n      <td>0</td>\n      <td>0</td>\n      <td>0</td>\n      <td>0</td>\n      <td>1</td>\n    </tr>\n    <tr>\n      <th>4</th>\n      <td>2</td>\n      <td>68</td>\n      <td>22</td>\n      <td>15</td>\n      <td>1</td>\n      <td>0</td>\n      <td>1</td>\n      <td>5.52</td>\n      <td>0</td>\n      <td>0</td>\n      <td>36</td>\n      <td>0</td>\n      <td>1</td>\n      <td>0</td>\n      <td>0</td>\n      <td>1</td>\n      <td>0</td>\n      <td>0</td>\n      <td>0</td>\n    </tr>\n    <tr>\n      <th>...</th>\n      <td>...</td>\n      <td>...</td>\n      <td>...</td>\n      <td>...</td>\n      <td>...</td>\n      <td>...</td>\n      <td>...</td>\n      <td>...</td>\n      <td>...</td>\n      <td>...</td>\n      <td>...</td>\n      <td>...</td>\n      <td>...</td>\n      <td>...</td>\n      <td>...</td>\n      <td>...</td>\n      <td>...</td>\n      <td>...</td>\n      <td>...</td>\n    </tr>\n    <tr>\n      <th>49995</th>\n      <td>2</td>\n      <td>27</td>\n      <td>6</td>\n      <td>9</td>\n      <td>1</td>\n      <td>0</td>\n      <td>1</td>\n      <td>5.62</td>\n      <td>0</td>\n      <td>720</td>\n      <td>4</td>\n      <td>0</td>\n      <td>1</td>\n      <td>0</td>\n      <td>0</td>\n      <td>0</td>\n      <td>0</td>\n      <td>0</td>\n      <td>1</td>\n    </tr>\n    <tr>\n      <th>49996</th>\n      <td>1</td>\n      <td>111</td>\n      <td>6</td>\n      <td>4</td>\n      <td>0</td>\n      <td>0</td>\n      <td>0</td>\n      <td>5.62</td>\n      <td>0</td>\n      <td>720</td>\n      <td>4</td>\n      <td>0</td>\n      <td>1</td>\n      <td>0</td>\n      <td>0</td>\n      <td>0</td>\n      <td>0</td>\n      <td>0</td>\n      <td>0</td>\n    </tr>\n    <tr>\n      <th>49997</th>\n      <td>1</td>\n      <td>24</td>\n      <td>6</td>\n      <td>22</td>\n      <td>0</td>\n      <td>0</td>\n      <td>1</td>\n      <td>5.62</td>\n      <td>0</td>\n      <td>720</td>\n      <td>4</td>\n      <td>0</td>\n      <td>1</td>\n      <td>0</td>\n      <td>0</td>\n      <td>0</td>\n      <td>0</td>\n      <td>0</td>\n      <td>1</td>\n    </tr>\n    <tr>\n      <th>49998</th>\n      <td>1</td>\n      <td>15</td>\n      <td>6</td>\n      <td>11</td>\n      <td>1</td>\n      <td>0</td>\n      <td>1</td>\n      <td>5.62</td>\n      <td>0</td>\n      <td>720</td>\n      <td>4</td>\n      <td>0</td>\n      <td>1</td>\n      <td>1</td>\n      <td>0</td>\n      <td>0</td>\n      <td>0</td>\n      <td>0</td>\n      <td>0</td>\n    </tr>\n    <tr>\n      <th>49999</th>\n      <td>1</td>\n      <td>19</td>\n      <td>6</td>\n      <td>10</td>\n      <td>0</td>\n      <td>1</td>\n      <td>0</td>\n      <td>5.62</td>\n      <td>0</td>\n      <td>720</td>\n      <td>4</td>\n      <td>0</td>\n      <td>1</td>\n      <td>0</td>\n      <td>0</td>\n      <td>0</td>\n      <td>1</td>\n      <td>0</td>\n      <td>0</td>\n    </tr>\n  </tbody>\n</table>\n<p>50000 rows × 19 columns</p>\n</div>"
     },
     "execution_count": 215,
     "metadata": {},
     "output_type": "execute_result"
    }
   ],
   "source": [
    "df_1"
   ],
   "metadata": {
    "collapsed": false,
    "ExecuteTime": {
     "end_time": "2023-08-12T23:45:41.887420Z",
     "start_time": "2023-08-12T23:45:41.872901Z"
    }
   },
   "id": "ba5a411a55c2fbdf"
  },
  {
   "cell_type": "code",
   "execution_count": 216,
   "outputs": [
    {
     "name": "stdout",
     "output_type": "stream",
     "text": [
      "Help on class RandomForestClassifier in module sklearn.ensemble._forest:\n",
      "\n",
      "class RandomForestClassifier(ForestClassifier)\n",
      " |  RandomForestClassifier(n_estimators=100, *, criterion='gini', max_depth=None, min_samples_split=2, min_samples_leaf=1, min_weight_fraction_leaf=0.0, max_features='sqrt', max_leaf_nodes=None, min_impurity_decrease=0.0, bootstrap=True, oob_score=False, n_jobs=None, random_state=None, verbose=0, warm_start=False, class_weight=None, ccp_alpha=0.0, max_samples=None)\n",
      " |  \n",
      " |  A random forest classifier.\n",
      " |  \n",
      " |  A random forest is a meta estimator that fits a number of decision tree\n",
      " |  classifiers on various sub-samples of the dataset and uses averaging to\n",
      " |  improve the predictive accuracy and control over-fitting.\n",
      " |  The sub-sample size is controlled with the `max_samples` parameter if\n",
      " |  `bootstrap=True` (default), otherwise the whole dataset is used to build\n",
      " |  each tree.\n",
      " |  \n",
      " |  Read more in the :ref:`User Guide <forest>`.\n",
      " |  \n",
      " |  Parameters\n",
      " |  ----------\n",
      " |  n_estimators : int, default=100\n",
      " |      The number of trees in the forest.\n",
      " |  \n",
      " |      .. versionchanged:: 0.22\n",
      " |         The default value of ``n_estimators`` changed from 10 to 100\n",
      " |         in 0.22.\n",
      " |  \n",
      " |  criterion : {\"gini\", \"entropy\", \"log_loss\"}, default=\"gini\"\n",
      " |      The function to measure the quality of a split. Supported criteria are\n",
      " |      \"gini\" for the Gini impurity and \"log_loss\" and \"entropy\" both for the\n",
      " |      Shannon information gain, see :ref:`tree_mathematical_formulation`.\n",
      " |      Note: This parameter is tree-specific.\n",
      " |  \n",
      " |  max_depth : int, default=None\n",
      " |      The maximum depth of the tree. If None, then nodes are expanded until\n",
      " |      all leaves are pure or until all leaves contain less than\n",
      " |      min_samples_split samples.\n",
      " |  \n",
      " |  min_samples_split : int or float, default=2\n",
      " |      The minimum number of samples required to split an internal node:\n",
      " |  \n",
      " |      - If int, then consider `min_samples_split` as the minimum number.\n",
      " |      - If float, then `min_samples_split` is a fraction and\n",
      " |        `ceil(min_samples_split * n_samples)` are the minimum\n",
      " |        number of samples for each split.\n",
      " |  \n",
      " |      .. versionchanged:: 0.18\n",
      " |         Added float values for fractions.\n",
      " |  \n",
      " |  min_samples_leaf : int or float, default=1\n",
      " |      The minimum number of samples required to be at a leaf node.\n",
      " |      A split point at any depth will only be considered if it leaves at\n",
      " |      least ``min_samples_leaf`` training samples in each of the left and\n",
      " |      right branches.  This may have the effect of smoothing the model,\n",
      " |      especially in regression.\n",
      " |  \n",
      " |      - If int, then consider `min_samples_leaf` as the minimum number.\n",
      " |      - If float, then `min_samples_leaf` is a fraction and\n",
      " |        `ceil(min_samples_leaf * n_samples)` are the minimum\n",
      " |        number of samples for each node.\n",
      " |  \n",
      " |      .. versionchanged:: 0.18\n",
      " |         Added float values for fractions.\n",
      " |  \n",
      " |  min_weight_fraction_leaf : float, default=0.0\n",
      " |      The minimum weighted fraction of the sum total of weights (of all\n",
      " |      the input samples) required to be at a leaf node. Samples have\n",
      " |      equal weight when sample_weight is not provided.\n",
      " |  \n",
      " |  max_features : {\"sqrt\", \"log2\", None}, int or float, default=\"sqrt\"\n",
      " |      The number of features to consider when looking for the best split:\n",
      " |  \n",
      " |      - If int, then consider `max_features` features at each split.\n",
      " |      - If float, then `max_features` is a fraction and\n",
      " |        `max(1, int(max_features * n_features_in_))` features are considered at each\n",
      " |        split.\n",
      " |      - If \"auto\", then `max_features=sqrt(n_features)`.\n",
      " |      - If \"sqrt\", then `max_features=sqrt(n_features)`.\n",
      " |      - If \"log2\", then `max_features=log2(n_features)`.\n",
      " |      - If None, then `max_features=n_features`.\n",
      " |  \n",
      " |      .. versionchanged:: 1.1\n",
      " |          The default of `max_features` changed from `\"auto\"` to `\"sqrt\"`.\n",
      " |  \n",
      " |      .. deprecated:: 1.1\n",
      " |          The `\"auto\"` option was deprecated in 1.1 and will be removed\n",
      " |          in 1.3.\n",
      " |  \n",
      " |      Note: the search for a split does not stop until at least one\n",
      " |      valid partition of the node samples is found, even if it requires to\n",
      " |      effectively inspect more than ``max_features`` features.\n",
      " |  \n",
      " |  max_leaf_nodes : int, default=None\n",
      " |      Grow trees with ``max_leaf_nodes`` in best-first fashion.\n",
      " |      Best nodes are defined as relative reduction in impurity.\n",
      " |      If None then unlimited number of leaf nodes.\n",
      " |  \n",
      " |  min_impurity_decrease : float, default=0.0\n",
      " |      A node will be split if this split induces a decrease of the impurity\n",
      " |      greater than or equal to this value.\n",
      " |  \n",
      " |      The weighted impurity decrease equation is the following::\n",
      " |  \n",
      " |          N_t / N * (impurity - N_t_R / N_t * right_impurity\n",
      " |                              - N_t_L / N_t * left_impurity)\n",
      " |  \n",
      " |      where ``N`` is the total number of samples, ``N_t`` is the number of\n",
      " |      samples at the current node, ``N_t_L`` is the number of samples in the\n",
      " |      left child, and ``N_t_R`` is the number of samples in the right child.\n",
      " |  \n",
      " |      ``N``, ``N_t``, ``N_t_R`` and ``N_t_L`` all refer to the weighted sum,\n",
      " |      if ``sample_weight`` is passed.\n",
      " |  \n",
      " |      .. versionadded:: 0.19\n",
      " |  \n",
      " |  bootstrap : bool, default=True\n",
      " |      Whether bootstrap samples are used when building trees. If False, the\n",
      " |      whole dataset is used to build each tree.\n",
      " |  \n",
      " |  oob_score : bool, default=False\n",
      " |      Whether to use out-of-bag samples to estimate the generalization score.\n",
      " |      Only available if bootstrap=True.\n",
      " |  \n",
      " |  n_jobs : int, default=None\n",
      " |      The number of jobs to run in parallel. :meth:`fit`, :meth:`predict`,\n",
      " |      :meth:`decision_path` and :meth:`apply` are all parallelized over the\n",
      " |      trees. ``None`` means 1 unless in a :obj:`joblib.parallel_backend`\n",
      " |      context. ``-1`` means using all processors. See :term:`Glossary\n",
      " |      <n_jobs>` for more details.\n",
      " |  \n",
      " |  random_state : int, RandomState instance or None, default=None\n",
      " |      Controls both the randomness of the bootstrapping of the samples used\n",
      " |      when building trees (if ``bootstrap=True``) and the sampling of the\n",
      " |      features to consider when looking for the best split at each node\n",
      " |      (if ``max_features < n_features``).\n",
      " |      See :term:`Glossary <random_state>` for details.\n",
      " |  \n",
      " |  verbose : int, default=0\n",
      " |      Controls the verbosity when fitting and predicting.\n",
      " |  \n",
      " |  warm_start : bool, default=False\n",
      " |      When set to ``True``, reuse the solution of the previous call to fit\n",
      " |      and add more estimators to the ensemble, otherwise, just fit a whole\n",
      " |      new forest. See :term:`Glossary <warm_start>` and\n",
      " |      :ref:`gradient_boosting_warm_start` for details.\n",
      " |  \n",
      " |  class_weight : {\"balanced\", \"balanced_subsample\"}, dict or list of dicts,             default=None\n",
      " |      Weights associated with classes in the form ``{class_label: weight}``.\n",
      " |      If not given, all classes are supposed to have weight one. For\n",
      " |      multi-output problems, a list of dicts can be provided in the same\n",
      " |      order as the columns of y.\n",
      " |  \n",
      " |      Note that for multioutput (including multilabel) weights should be\n",
      " |      defined for each class of every column in its own dict. For example,\n",
      " |      for four-class multilabel classification weights should be\n",
      " |      [{0: 1, 1: 1}, {0: 1, 1: 5}, {0: 1, 1: 1}, {0: 1, 1: 1}] instead of\n",
      " |      [{1:1}, {2:5}, {3:1}, {4:1}].\n",
      " |  \n",
      " |      The \"balanced\" mode uses the values of y to automatically adjust\n",
      " |      weights inversely proportional to class frequencies in the input data\n",
      " |      as ``n_samples / (n_classes * np.bincount(y))``\n",
      " |  \n",
      " |      The \"balanced_subsample\" mode is the same as \"balanced\" except that\n",
      " |      weights are computed based on the bootstrap sample for every tree\n",
      " |      grown.\n",
      " |  \n",
      " |      For multi-output, the weights of each column of y will be multiplied.\n",
      " |  \n",
      " |      Note that these weights will be multiplied with sample_weight (passed\n",
      " |      through the fit method) if sample_weight is specified.\n",
      " |  \n",
      " |  ccp_alpha : non-negative float, default=0.0\n",
      " |      Complexity parameter used for Minimal Cost-Complexity Pruning. The\n",
      " |      subtree with the largest cost complexity that is smaller than\n",
      " |      ``ccp_alpha`` will be chosen. By default, no pruning is performed. See\n",
      " |      :ref:`minimal_cost_complexity_pruning` for details.\n",
      " |  \n",
      " |      .. versionadded:: 0.22\n",
      " |  \n",
      " |  max_samples : int or float, default=None\n",
      " |      If bootstrap is True, the number of samples to draw from X\n",
      " |      to train each base estimator.\n",
      " |  \n",
      " |      - If None (default), then draw `X.shape[0]` samples.\n",
      " |      - If int, then draw `max_samples` samples.\n",
      " |      - If float, then draw `max_samples * X.shape[0]` samples. Thus,\n",
      " |        `max_samples` should be in the interval `(0.0, 1.0]`.\n",
      " |  \n",
      " |      .. versionadded:: 0.22\n",
      " |  \n",
      " |  Attributes\n",
      " |  ----------\n",
      " |  estimator_ : :class:`~sklearn.tree.DecisionTreeClassifier`\n",
      " |      The child estimator template used to create the collection of fitted\n",
      " |      sub-estimators.\n",
      " |  \n",
      " |      .. versionadded:: 1.2\n",
      " |         `base_estimator_` was renamed to `estimator_`.\n",
      " |  \n",
      " |  base_estimator_ : DecisionTreeClassifier\n",
      " |      The child estimator template used to create the collection of fitted\n",
      " |      sub-estimators.\n",
      " |  \n",
      " |      .. deprecated:: 1.2\n",
      " |          `base_estimator_` is deprecated and will be removed in 1.4.\n",
      " |          Use `estimator_` instead.\n",
      " |  \n",
      " |  estimators_ : list of DecisionTreeClassifier\n",
      " |      The collection of fitted sub-estimators.\n",
      " |  \n",
      " |  classes_ : ndarray of shape (n_classes,) or a list of such arrays\n",
      " |      The classes labels (single output problem), or a list of arrays of\n",
      " |      class labels (multi-output problem).\n",
      " |  \n",
      " |  n_classes_ : int or list\n",
      " |      The number of classes (single output problem), or a list containing the\n",
      " |      number of classes for each output (multi-output problem).\n",
      " |  \n",
      " |  n_features_in_ : int\n",
      " |      Number of features seen during :term:`fit`.\n",
      " |  \n",
      " |      .. versionadded:: 0.24\n",
      " |  \n",
      " |  feature_names_in_ : ndarray of shape (`n_features_in_`,)\n",
      " |      Names of features seen during :term:`fit`. Defined only when `X`\n",
      " |      has feature names that are all strings.\n",
      " |  \n",
      " |      .. versionadded:: 1.0\n",
      " |  \n",
      " |  n_outputs_ : int\n",
      " |      The number of outputs when ``fit`` is performed.\n",
      " |  \n",
      " |  feature_importances_ : ndarray of shape (n_features,)\n",
      " |      The impurity-based feature importances.\n",
      " |      The higher, the more important the feature.\n",
      " |      The importance of a feature is computed as the (normalized)\n",
      " |      total reduction of the criterion brought by that feature.  It is also\n",
      " |      known as the Gini importance.\n",
      " |  \n",
      " |      Warning: impurity-based feature importances can be misleading for\n",
      " |      high cardinality features (many unique values). See\n",
      " |      :func:`sklearn.inspection.permutation_importance` as an alternative.\n",
      " |  \n",
      " |  oob_score_ : float\n",
      " |      Score of the training dataset obtained using an out-of-bag estimate.\n",
      " |      This attribute exists only when ``oob_score`` is True.\n",
      " |  \n",
      " |  oob_decision_function_ : ndarray of shape (n_samples, n_classes) or             (n_samples, n_classes, n_outputs)\n",
      " |      Decision function computed with out-of-bag estimate on the training\n",
      " |      set. If n_estimators is small it might be possible that a data point\n",
      " |      was never left out during the bootstrap. In this case,\n",
      " |      `oob_decision_function_` might contain NaN. This attribute exists\n",
      " |      only when ``oob_score`` is True.\n",
      " |  \n",
      " |  See Also\n",
      " |  --------\n",
      " |  sklearn.tree.DecisionTreeClassifier : A decision tree classifier.\n",
      " |  sklearn.ensemble.ExtraTreesClassifier : Ensemble of extremely randomized\n",
      " |      tree classifiers.\n",
      " |  \n",
      " |  Notes\n",
      " |  -----\n",
      " |  The default values for the parameters controlling the size of the trees\n",
      " |  (e.g. ``max_depth``, ``min_samples_leaf``, etc.) lead to fully grown and\n",
      " |  unpruned trees which can potentially be very large on some data sets. To\n",
      " |  reduce memory consumption, the complexity and size of the trees should be\n",
      " |  controlled by setting those parameter values.\n",
      " |  \n",
      " |  The features are always randomly permuted at each split. Therefore,\n",
      " |  the best found split may vary, even with the same training data,\n",
      " |  ``max_features=n_features`` and ``bootstrap=False``, if the improvement\n",
      " |  of the criterion is identical for several splits enumerated during the\n",
      " |  search of the best split. To obtain a deterministic behaviour during\n",
      " |  fitting, ``random_state`` has to be fixed.\n",
      " |  \n",
      " |  References\n",
      " |  ----------\n",
      " |  .. [1] L. Breiman, \"Random Forests\", Machine Learning, 45(1), 5-32, 2001.\n",
      " |  \n",
      " |  Examples\n",
      " |  --------\n",
      " |  >>> from sklearn.ensemble import RandomForestClassifier\n",
      " |  >>> from sklearn.datasets import make_classification\n",
      " |  >>> X, y = make_classification(n_samples=1000, n_features=4,\n",
      " |  ...                            n_informative=2, n_redundant=0,\n",
      " |  ...                            random_state=0, shuffle=False)\n",
      " |  >>> clf = RandomForestClassifier(max_depth=2, random_state=0)\n",
      " |  >>> clf.fit(X, y)\n",
      " |  RandomForestClassifier(...)\n",
      " |  >>> print(clf.predict([[0, 0, 0, 0]]))\n",
      " |  [1]\n",
      " |  \n",
      " |  Method resolution order:\n",
      " |      RandomForestClassifier\n",
      " |      ForestClassifier\n",
      " |      sklearn.base.ClassifierMixin\n",
      " |      BaseForest\n",
      " |      sklearn.base.MultiOutputMixin\n",
      " |      sklearn.ensemble._base.BaseEnsemble\n",
      " |      sklearn.base.MetaEstimatorMixin\n",
      " |      sklearn.base.BaseEstimator\n",
      " |      builtins.object\n",
      " |  \n",
      " |  Methods defined here:\n",
      " |  \n",
      " |  __init__(self, n_estimators=100, *, criterion='gini', max_depth=None, min_samples_split=2, min_samples_leaf=1, min_weight_fraction_leaf=0.0, max_features='sqrt', max_leaf_nodes=None, min_impurity_decrease=0.0, bootstrap=True, oob_score=False, n_jobs=None, random_state=None, verbose=0, warm_start=False, class_weight=None, ccp_alpha=0.0, max_samples=None)\n",
      " |      Initialize self.  See help(type(self)) for accurate signature.\n",
      " |  \n",
      " |  ----------------------------------------------------------------------\n",
      " |  Data and other attributes defined here:\n",
      " |  \n",
      " |  __abstractmethods__ = frozenset()\n",
      " |  \n",
      " |  __annotations__ = {'_parameter_constraints': <class 'dict'>}\n",
      " |  \n",
      " |  ----------------------------------------------------------------------\n",
      " |  Methods inherited from ForestClassifier:\n",
      " |  \n",
      " |  predict(self, X)\n",
      " |      Predict class for X.\n",
      " |      \n",
      " |      The predicted class of an input sample is a vote by the trees in\n",
      " |      the forest, weighted by their probability estimates. That is,\n",
      " |      the predicted class is the one with highest mean probability\n",
      " |      estimate across the trees.\n",
      " |      \n",
      " |      Parameters\n",
      " |      ----------\n",
      " |      X : {array-like, sparse matrix} of shape (n_samples, n_features)\n",
      " |          The input samples. Internally, its dtype will be converted to\n",
      " |          ``dtype=np.float32``. If a sparse matrix is provided, it will be\n",
      " |          converted into a sparse ``csr_matrix``.\n",
      " |      \n",
      " |      Returns\n",
      " |      -------\n",
      " |      y : ndarray of shape (n_samples,) or (n_samples, n_outputs)\n",
      " |          The predicted classes.\n",
      " |  \n",
      " |  predict_log_proba(self, X)\n",
      " |      Predict class log-probabilities for X.\n",
      " |      \n",
      " |      The predicted class log-probabilities of an input sample is computed as\n",
      " |      the log of the mean predicted class probabilities of the trees in the\n",
      " |      forest.\n",
      " |      \n",
      " |      Parameters\n",
      " |      ----------\n",
      " |      X : {array-like, sparse matrix} of shape (n_samples, n_features)\n",
      " |          The input samples. Internally, its dtype will be converted to\n",
      " |          ``dtype=np.float32``. If a sparse matrix is provided, it will be\n",
      " |          converted into a sparse ``csr_matrix``.\n",
      " |      \n",
      " |      Returns\n",
      " |      -------\n",
      " |      p : ndarray of shape (n_samples, n_classes), or a list of such arrays\n",
      " |          The class probabilities of the input samples. The order of the\n",
      " |          classes corresponds to that in the attribute :term:`classes_`.\n",
      " |  \n",
      " |  predict_proba(self, X)\n",
      " |      Predict class probabilities for X.\n",
      " |      \n",
      " |      The predicted class probabilities of an input sample are computed as\n",
      " |      the mean predicted class probabilities of the trees in the forest.\n",
      " |      The class probability of a single tree is the fraction of samples of\n",
      " |      the same class in a leaf.\n",
      " |      \n",
      " |      Parameters\n",
      " |      ----------\n",
      " |      X : {array-like, sparse matrix} of shape (n_samples, n_features)\n",
      " |          The input samples. Internally, its dtype will be converted to\n",
      " |          ``dtype=np.float32``. If a sparse matrix is provided, it will be\n",
      " |          converted into a sparse ``csr_matrix``.\n",
      " |      \n",
      " |      Returns\n",
      " |      -------\n",
      " |      p : ndarray of shape (n_samples, n_classes), or a list of such arrays\n",
      " |          The class probabilities of the input samples. The order of the\n",
      " |          classes corresponds to that in the attribute :term:`classes_`.\n",
      " |  \n",
      " |  ----------------------------------------------------------------------\n",
      " |  Methods inherited from sklearn.base.ClassifierMixin:\n",
      " |  \n",
      " |  score(self, X, y, sample_weight=None)\n",
      " |      Return the mean accuracy on the given test data and labels.\n",
      " |      \n",
      " |      In multi-label classification, this is the subset accuracy\n",
      " |      which is a harsh metric since you require for each sample that\n",
      " |      each label set be correctly predicted.\n",
      " |      \n",
      " |      Parameters\n",
      " |      ----------\n",
      " |      X : array-like of shape (n_samples, n_features)\n",
      " |          Test samples.\n",
      " |      \n",
      " |      y : array-like of shape (n_samples,) or (n_samples, n_outputs)\n",
      " |          True labels for `X`.\n",
      " |      \n",
      " |      sample_weight : array-like of shape (n_samples,), default=None\n",
      " |          Sample weights.\n",
      " |      \n",
      " |      Returns\n",
      " |      -------\n",
      " |      score : float\n",
      " |          Mean accuracy of ``self.predict(X)`` w.r.t. `y`.\n",
      " |  \n",
      " |  ----------------------------------------------------------------------\n",
      " |  Data descriptors inherited from sklearn.base.ClassifierMixin:\n",
      " |  \n",
      " |  __dict__\n",
      " |      dictionary for instance variables (if defined)\n",
      " |  \n",
      " |  __weakref__\n",
      " |      list of weak references to the object (if defined)\n",
      " |  \n",
      " |  ----------------------------------------------------------------------\n",
      " |  Methods inherited from BaseForest:\n",
      " |  \n",
      " |  apply(self, X)\n",
      " |      Apply trees in the forest to X, return leaf indices.\n",
      " |      \n",
      " |      Parameters\n",
      " |      ----------\n",
      " |      X : {array-like, sparse matrix} of shape (n_samples, n_features)\n",
      " |          The input samples. Internally, its dtype will be converted to\n",
      " |          ``dtype=np.float32``. If a sparse matrix is provided, it will be\n",
      " |          converted into a sparse ``csr_matrix``.\n",
      " |      \n",
      " |      Returns\n",
      " |      -------\n",
      " |      X_leaves : ndarray of shape (n_samples, n_estimators)\n",
      " |          For each datapoint x in X and for each tree in the forest,\n",
      " |          return the index of the leaf x ends up in.\n",
      " |  \n",
      " |  decision_path(self, X)\n",
      " |      Return the decision path in the forest.\n",
      " |      \n",
      " |      .. versionadded:: 0.18\n",
      " |      \n",
      " |      Parameters\n",
      " |      ----------\n",
      " |      X : {array-like, sparse matrix} of shape (n_samples, n_features)\n",
      " |          The input samples. Internally, its dtype will be converted to\n",
      " |          ``dtype=np.float32``. If a sparse matrix is provided, it will be\n",
      " |          converted into a sparse ``csr_matrix``.\n",
      " |      \n",
      " |      Returns\n",
      " |      -------\n",
      " |      indicator : sparse matrix of shape (n_samples, n_nodes)\n",
      " |          Return a node indicator matrix where non zero elements indicates\n",
      " |          that the samples goes through the nodes. The matrix is of CSR\n",
      " |          format.\n",
      " |      \n",
      " |      n_nodes_ptr : ndarray of shape (n_estimators + 1,)\n",
      " |          The columns from indicator[n_nodes_ptr[i]:n_nodes_ptr[i+1]]\n",
      " |          gives the indicator value for the i-th estimator.\n",
      " |  \n",
      " |  fit(self, X, y, sample_weight=None)\n",
      " |      Build a forest of trees from the training set (X, y).\n",
      " |      \n",
      " |      Parameters\n",
      " |      ----------\n",
      " |      X : {array-like, sparse matrix} of shape (n_samples, n_features)\n",
      " |          The training input samples. Internally, its dtype will be converted\n",
      " |          to ``dtype=np.float32``. If a sparse matrix is provided, it will be\n",
      " |          converted into a sparse ``csc_matrix``.\n",
      " |      \n",
      " |      y : array-like of shape (n_samples,) or (n_samples, n_outputs)\n",
      " |          The target values (class labels in classification, real numbers in\n",
      " |          regression).\n",
      " |      \n",
      " |      sample_weight : array-like of shape (n_samples,), default=None\n",
      " |          Sample weights. If None, then samples are equally weighted. Splits\n",
      " |          that would create child nodes with net zero or negative weight are\n",
      " |          ignored while searching for a split in each node. In the case of\n",
      " |          classification, splits are also ignored if they would result in any\n",
      " |          single class carrying a negative weight in either child node.\n",
      " |      \n",
      " |      Returns\n",
      " |      -------\n",
      " |      self : object\n",
      " |          Fitted estimator.\n",
      " |  \n",
      " |  ----------------------------------------------------------------------\n",
      " |  Readonly properties inherited from BaseForest:\n",
      " |  \n",
      " |  feature_importances_\n",
      " |      The impurity-based feature importances.\n",
      " |      \n",
      " |      The higher, the more important the feature.\n",
      " |      The importance of a feature is computed as the (normalized)\n",
      " |      total reduction of the criterion brought by that feature.  It is also\n",
      " |      known as the Gini importance.\n",
      " |      \n",
      " |      Warning: impurity-based feature importances can be misleading for\n",
      " |      high cardinality features (many unique values). See\n",
      " |      :func:`sklearn.inspection.permutation_importance` as an alternative.\n",
      " |      \n",
      " |      Returns\n",
      " |      -------\n",
      " |      feature_importances_ : ndarray of shape (n_features,)\n",
      " |          The values of this array sum to 1, unless all trees are single node\n",
      " |          trees consisting of only the root node, in which case it will be an\n",
      " |          array of zeros.\n",
      " |  \n",
      " |  ----------------------------------------------------------------------\n",
      " |  Methods inherited from sklearn.ensemble._base.BaseEnsemble:\n",
      " |  \n",
      " |  __getitem__(self, index)\n",
      " |      Return the index'th estimator in the ensemble.\n",
      " |  \n",
      " |  __iter__(self)\n",
      " |      Return iterator over estimators in the ensemble.\n",
      " |  \n",
      " |  __len__(self)\n",
      " |      Return the number of estimators in the ensemble.\n",
      " |  \n",
      " |  ----------------------------------------------------------------------\n",
      " |  Readonly properties inherited from sklearn.ensemble._base.BaseEnsemble:\n",
      " |  \n",
      " |  base_estimator_\n",
      " |      Estimator used to grow the ensemble.\n",
      " |  \n",
      " |  ----------------------------------------------------------------------\n",
      " |  Methods inherited from sklearn.base.BaseEstimator:\n",
      " |  \n",
      " |  __getstate__(self)\n",
      " |      Helper for pickle.\n",
      " |  \n",
      " |  __repr__(self, N_CHAR_MAX=700)\n",
      " |      Return repr(self).\n",
      " |  \n",
      " |  __setstate__(self, state)\n",
      " |  \n",
      " |  get_params(self, deep=True)\n",
      " |      Get parameters for this estimator.\n",
      " |      \n",
      " |      Parameters\n",
      " |      ----------\n",
      " |      deep : bool, default=True\n",
      " |          If True, will return the parameters for this estimator and\n",
      " |          contained subobjects that are estimators.\n",
      " |      \n",
      " |      Returns\n",
      " |      -------\n",
      " |      params : dict\n",
      " |          Parameter names mapped to their values.\n",
      " |  \n",
      " |  set_params(self, **params)\n",
      " |      Set the parameters of this estimator.\n",
      " |      \n",
      " |      The method works on simple estimators as well as on nested objects\n",
      " |      (such as :class:`~sklearn.pipeline.Pipeline`). The latter have\n",
      " |      parameters of the form ``<component>__<parameter>`` so that it's\n",
      " |      possible to update each component of a nested object.\n",
      " |      \n",
      " |      Parameters\n",
      " |      ----------\n",
      " |      **params : dict\n",
      " |          Estimator parameters.\n",
      " |      \n",
      " |      Returns\n",
      " |      -------\n",
      " |      self : estimator instance\n",
      " |          Estimator instance.\n"
     ]
    }
   ],
   "source": [
    "help(RandomForestClassifier)"
   ],
   "metadata": {
    "collapsed": false,
    "ExecuteTime": {
     "end_time": "2023-08-12T23:45:42.174230Z",
     "start_time": "2023-08-12T23:45:42.170217Z"
    }
   },
   "id": "13fd8354ccfdd62e"
  },
  {
   "cell_type": "code",
   "execution_count": 217,
   "outputs": [
    {
     "data": {
      "text/plain": "       num_passengers  purchase_lead  length_of_stay  flight_hour  \\\n0                   2            262              19            7   \n1                   1            112              20            3   \n2                   2            243              22           17   \n3                   1             96              31            4   \n4                   2             68              22           15   \n...               ...            ...             ...          ...   \n49995               2             27               6            9   \n49996               1            111               6            4   \n49997               1             24               6           22   \n49998               1             15               6           11   \n49999               1             19               6           10   \n\n       wants_extra_baggage  wants_preferred_seat  wants_in_flight_meals  \\\n0                        1                     0                      0   \n1                        0                     0                      0   \n2                        1                     1                      0   \n3                        0                     0                      1   \n4                        1                     0                      1   \n...                    ...                   ...                    ...   \n49995                    1                     0                      1   \n49996                    0                     0                      0   \n49997                    0                     0                      1   \n49998                    1                     0                      1   \n49999                    0                     1                      0   \n\n       flight_duration  sales_chanel  route  booking_origin  OneWay  \\\n0                 5.52             0      0              61       0   \n1                 5.52             0      0              61       0   \n2                 5.52             0      0              36       0   \n3                 5.52             0      0              61       0   \n4                 5.52             0      0              36       0   \n...                ...           ...    ...             ...     ...   \n49995             5.62             0    720               4       0   \n49996             5.62             0    720               4       0   \n49997             5.62             0    720               4       0   \n49998             5.62             0    720               4       0   \n49999             5.62             0    720               4       0   \n\n       RoundTrip  Mon  Tue  Wed  Thu  Fri  Sat  \n0              1    0    0    0    0    0    1  \n1              1    0    0    0    0    0    1  \n2              1    0    0    1    0    0    0  \n3              1    0    0    0    0    0    1  \n4              1    0    0    1    0    0    0  \n...          ...  ...  ...  ...  ...  ...  ...  \n49995          1    0    0    0    0    0    1  \n49996          1    0    0    0    0    0    0  \n49997          1    0    0    0    0    0    1  \n49998          1    1    0    0    0    0    0  \n49999          1    0    0    0    1    0    0  \n\n[50000 rows x 19 columns]",
      "text/html": "<div>\n<style scoped>\n    .dataframe tbody tr th:only-of-type {\n        vertical-align: middle;\n    }\n\n    .dataframe tbody tr th {\n        vertical-align: top;\n    }\n\n    .dataframe thead th {\n        text-align: right;\n    }\n</style>\n<table border=\"1\" class=\"dataframe\">\n  <thead>\n    <tr style=\"text-align: right;\">\n      <th></th>\n      <th>num_passengers</th>\n      <th>purchase_lead</th>\n      <th>length_of_stay</th>\n      <th>flight_hour</th>\n      <th>wants_extra_baggage</th>\n      <th>wants_preferred_seat</th>\n      <th>wants_in_flight_meals</th>\n      <th>flight_duration</th>\n      <th>sales_chanel</th>\n      <th>route</th>\n      <th>booking_origin</th>\n      <th>OneWay</th>\n      <th>RoundTrip</th>\n      <th>Mon</th>\n      <th>Tue</th>\n      <th>Wed</th>\n      <th>Thu</th>\n      <th>Fri</th>\n      <th>Sat</th>\n    </tr>\n  </thead>\n  <tbody>\n    <tr>\n      <th>0</th>\n      <td>2</td>\n      <td>262</td>\n      <td>19</td>\n      <td>7</td>\n      <td>1</td>\n      <td>0</td>\n      <td>0</td>\n      <td>5.52</td>\n      <td>0</td>\n      <td>0</td>\n      <td>61</td>\n      <td>0</td>\n      <td>1</td>\n      <td>0</td>\n      <td>0</td>\n      <td>0</td>\n      <td>0</td>\n      <td>0</td>\n      <td>1</td>\n    </tr>\n    <tr>\n      <th>1</th>\n      <td>1</td>\n      <td>112</td>\n      <td>20</td>\n      <td>3</td>\n      <td>0</td>\n      <td>0</td>\n      <td>0</td>\n      <td>5.52</td>\n      <td>0</td>\n      <td>0</td>\n      <td>61</td>\n      <td>0</td>\n      <td>1</td>\n      <td>0</td>\n      <td>0</td>\n      <td>0</td>\n      <td>0</td>\n      <td>0</td>\n      <td>1</td>\n    </tr>\n    <tr>\n      <th>2</th>\n      <td>2</td>\n      <td>243</td>\n      <td>22</td>\n      <td>17</td>\n      <td>1</td>\n      <td>1</td>\n      <td>0</td>\n      <td>5.52</td>\n      <td>0</td>\n      <td>0</td>\n      <td>36</td>\n      <td>0</td>\n      <td>1</td>\n      <td>0</td>\n      <td>0</td>\n      <td>1</td>\n      <td>0</td>\n      <td>0</td>\n      <td>0</td>\n    </tr>\n    <tr>\n      <th>3</th>\n      <td>1</td>\n      <td>96</td>\n      <td>31</td>\n      <td>4</td>\n      <td>0</td>\n      <td>0</td>\n      <td>1</td>\n      <td>5.52</td>\n      <td>0</td>\n      <td>0</td>\n      <td>61</td>\n      <td>0</td>\n      <td>1</td>\n      <td>0</td>\n      <td>0</td>\n      <td>0</td>\n      <td>0</td>\n      <td>0</td>\n      <td>1</td>\n    </tr>\n    <tr>\n      <th>4</th>\n      <td>2</td>\n      <td>68</td>\n      <td>22</td>\n      <td>15</td>\n      <td>1</td>\n      <td>0</td>\n      <td>1</td>\n      <td>5.52</td>\n      <td>0</td>\n      <td>0</td>\n      <td>36</td>\n      <td>0</td>\n      <td>1</td>\n      <td>0</td>\n      <td>0</td>\n      <td>1</td>\n      <td>0</td>\n      <td>0</td>\n      <td>0</td>\n    </tr>\n    <tr>\n      <th>...</th>\n      <td>...</td>\n      <td>...</td>\n      <td>...</td>\n      <td>...</td>\n      <td>...</td>\n      <td>...</td>\n      <td>...</td>\n      <td>...</td>\n      <td>...</td>\n      <td>...</td>\n      <td>...</td>\n      <td>...</td>\n      <td>...</td>\n      <td>...</td>\n      <td>...</td>\n      <td>...</td>\n      <td>...</td>\n      <td>...</td>\n      <td>...</td>\n    </tr>\n    <tr>\n      <th>49995</th>\n      <td>2</td>\n      <td>27</td>\n      <td>6</td>\n      <td>9</td>\n      <td>1</td>\n      <td>0</td>\n      <td>1</td>\n      <td>5.62</td>\n      <td>0</td>\n      <td>720</td>\n      <td>4</td>\n      <td>0</td>\n      <td>1</td>\n      <td>0</td>\n      <td>0</td>\n      <td>0</td>\n      <td>0</td>\n      <td>0</td>\n      <td>1</td>\n    </tr>\n    <tr>\n      <th>49996</th>\n      <td>1</td>\n      <td>111</td>\n      <td>6</td>\n      <td>4</td>\n      <td>0</td>\n      <td>0</td>\n      <td>0</td>\n      <td>5.62</td>\n      <td>0</td>\n      <td>720</td>\n      <td>4</td>\n      <td>0</td>\n      <td>1</td>\n      <td>0</td>\n      <td>0</td>\n      <td>0</td>\n      <td>0</td>\n      <td>0</td>\n      <td>0</td>\n    </tr>\n    <tr>\n      <th>49997</th>\n      <td>1</td>\n      <td>24</td>\n      <td>6</td>\n      <td>22</td>\n      <td>0</td>\n      <td>0</td>\n      <td>1</td>\n      <td>5.62</td>\n      <td>0</td>\n      <td>720</td>\n      <td>4</td>\n      <td>0</td>\n      <td>1</td>\n      <td>0</td>\n      <td>0</td>\n      <td>0</td>\n      <td>0</td>\n      <td>0</td>\n      <td>1</td>\n    </tr>\n    <tr>\n      <th>49998</th>\n      <td>1</td>\n      <td>15</td>\n      <td>6</td>\n      <td>11</td>\n      <td>1</td>\n      <td>0</td>\n      <td>1</td>\n      <td>5.62</td>\n      <td>0</td>\n      <td>720</td>\n      <td>4</td>\n      <td>0</td>\n      <td>1</td>\n      <td>1</td>\n      <td>0</td>\n      <td>0</td>\n      <td>0</td>\n      <td>0</td>\n      <td>0</td>\n    </tr>\n    <tr>\n      <th>49999</th>\n      <td>1</td>\n      <td>19</td>\n      <td>6</td>\n      <td>10</td>\n      <td>0</td>\n      <td>1</td>\n      <td>0</td>\n      <td>5.62</td>\n      <td>0</td>\n      <td>720</td>\n      <td>4</td>\n      <td>0</td>\n      <td>1</td>\n      <td>0</td>\n      <td>0</td>\n      <td>0</td>\n      <td>1</td>\n      <td>0</td>\n      <td>0</td>\n    </tr>\n  </tbody>\n</table>\n<p>50000 rows × 19 columns</p>\n</div>"
     },
     "execution_count": 217,
     "metadata": {},
     "output_type": "execute_result"
    }
   ],
   "source": [
    "df_1"
   ],
   "metadata": {
    "collapsed": false,
    "ExecuteTime": {
     "end_time": "2023-08-12T23:45:42.603816Z",
     "start_time": "2023-08-12T23:45:42.590387Z"
    }
   },
   "id": "30c7b8851386c3ce"
  },
  {
   "cell_type": "code",
   "execution_count": 221,
   "outputs": [],
   "source": [
    "ss = StandardScaler()\n",
    "scale = ss.fit(df_1)\n",
    "df_2 = pd.DataFrame(scale.transform(df_1),columns=df_1.columns)"
   ],
   "metadata": {
    "collapsed": false,
    "ExecuteTime": {
     "end_time": "2023-08-12T23:46:49.468307Z",
     "start_time": "2023-08-12T23:46:49.457625Z"
    }
   },
   "id": "cd7550a6135a439d"
  },
  {
   "cell_type": "code",
   "execution_count": 222,
   "outputs": [
    {
     "data": {
      "text/plain": "       num_passengers  purchase_lead  length_of_stay  flight_hour  \\\n0            0.400684       1.957530       -0.119353    -0.381764   \n1           -0.579559       0.299164       -0.089844    -1.120780   \n2            0.400684       1.747470       -0.030824     1.465775   \n3           -0.579559       0.122272        0.234761    -0.936026   \n4            0.400684      -0.187290       -0.030824     1.096267   \n...               ...            ...             ...          ...   \n49995        0.400684      -0.640577       -0.502977    -0.012257   \n49996       -0.579559       0.288108       -0.502977    -0.936026   \n49997       -0.579559      -0.673744       -0.502977     2.389544   \n49998       -0.579559      -0.773246       -0.502977     0.357251   \n49999       -0.579559      -0.729023       -0.502977     0.172497   \n\n       wants_extra_baggage  wants_preferred_seat  wants_in_flight_meals  \\\n0                 0.703747             -0.649919              -0.863497   \n1                -1.420965             -0.649919              -0.863497   \n2                 0.703747              1.538654              -0.863497   \n3                -1.420965             -0.649919               1.158082   \n4                 0.703747             -0.649919               1.158082   \n...                    ...                   ...                    ...   \n49995             0.703747             -0.649919               1.158082   \n49996            -1.420965             -0.649919              -0.863497   \n49997            -1.420965             -0.649919               1.158082   \n49998             0.703747             -0.649919               1.158082   \n49999            -1.420965              1.538654              -0.863497   \n\n       flight_duration  sales_chanel     route  booking_origin   OneWay  \\\n0            -1.174175     -0.355785 -1.724217        0.694118 -0.08832   \n1            -1.174175     -0.355785 -1.724217        0.694118 -0.08832   \n2            -1.174175     -0.355785 -1.724217       -0.069097 -0.08832   \n3            -1.174175     -0.355785 -1.724217        0.694118 -0.08832   \n4            -1.174175     -0.355785 -1.724217       -0.069097 -0.08832   \n...                ...           ...       ...             ...      ...   \n49995        -1.107368     -0.355785  1.443473       -1.046010 -0.08832   \n49996        -1.107368     -0.355785  1.443473       -1.046010 -0.08832   \n49997        -1.107368     -0.355785  1.443473       -1.046010 -0.08832   \n49998        -1.107368     -0.355785  1.443473       -1.046010 -0.08832   \n49999        -1.107368     -0.355785  1.443473       -1.046010 -0.08832   \n\n       RoundTrip       Mon       Tue       Wed       Thu       Fri       Sat  \n0       0.100808 -0.439744 -0.425769 -0.425802 -0.417577 -0.395428  2.757334  \n1       0.100808 -0.439744 -0.425769 -0.425802 -0.417577 -0.395428  2.757334  \n2       0.100808 -0.439744 -0.425769  2.348512 -0.417577 -0.395428 -0.362669  \n3       0.100808 -0.439744 -0.425769 -0.425802 -0.417577 -0.395428  2.757334  \n4       0.100808 -0.439744 -0.425769  2.348512 -0.417577 -0.395428 -0.362669  \n...          ...       ...       ...       ...       ...       ...       ...  \n49995   0.100808 -0.439744 -0.425769 -0.425802 -0.417577 -0.395428  2.757334  \n49996   0.100808 -0.439744 -0.425769 -0.425802 -0.417577 -0.395428 -0.362669  \n49997   0.100808 -0.439744 -0.425769 -0.425802 -0.417577 -0.395428  2.757334  \n49998   0.100808  2.274053 -0.425769 -0.425802 -0.417577 -0.395428 -0.362669  \n49999   0.100808 -0.439744 -0.425769 -0.425802  2.394768 -0.395428 -0.362669  \n\n[50000 rows x 19 columns]",
      "text/html": "<div>\n<style scoped>\n    .dataframe tbody tr th:only-of-type {\n        vertical-align: middle;\n    }\n\n    .dataframe tbody tr th {\n        vertical-align: top;\n    }\n\n    .dataframe thead th {\n        text-align: right;\n    }\n</style>\n<table border=\"1\" class=\"dataframe\">\n  <thead>\n    <tr style=\"text-align: right;\">\n      <th></th>\n      <th>num_passengers</th>\n      <th>purchase_lead</th>\n      <th>length_of_stay</th>\n      <th>flight_hour</th>\n      <th>wants_extra_baggage</th>\n      <th>wants_preferred_seat</th>\n      <th>wants_in_flight_meals</th>\n      <th>flight_duration</th>\n      <th>sales_chanel</th>\n      <th>route</th>\n      <th>booking_origin</th>\n      <th>OneWay</th>\n      <th>RoundTrip</th>\n      <th>Mon</th>\n      <th>Tue</th>\n      <th>Wed</th>\n      <th>Thu</th>\n      <th>Fri</th>\n      <th>Sat</th>\n    </tr>\n  </thead>\n  <tbody>\n    <tr>\n      <th>0</th>\n      <td>0.400684</td>\n      <td>1.957530</td>\n      <td>-0.119353</td>\n      <td>-0.381764</td>\n      <td>0.703747</td>\n      <td>-0.649919</td>\n      <td>-0.863497</td>\n      <td>-1.174175</td>\n      <td>-0.355785</td>\n      <td>-1.724217</td>\n      <td>0.694118</td>\n      <td>-0.08832</td>\n      <td>0.100808</td>\n      <td>-0.439744</td>\n      <td>-0.425769</td>\n      <td>-0.425802</td>\n      <td>-0.417577</td>\n      <td>-0.395428</td>\n      <td>2.757334</td>\n    </tr>\n    <tr>\n      <th>1</th>\n      <td>-0.579559</td>\n      <td>0.299164</td>\n      <td>-0.089844</td>\n      <td>-1.120780</td>\n      <td>-1.420965</td>\n      <td>-0.649919</td>\n      <td>-0.863497</td>\n      <td>-1.174175</td>\n      <td>-0.355785</td>\n      <td>-1.724217</td>\n      <td>0.694118</td>\n      <td>-0.08832</td>\n      <td>0.100808</td>\n      <td>-0.439744</td>\n      <td>-0.425769</td>\n      <td>-0.425802</td>\n      <td>-0.417577</td>\n      <td>-0.395428</td>\n      <td>2.757334</td>\n    </tr>\n    <tr>\n      <th>2</th>\n      <td>0.400684</td>\n      <td>1.747470</td>\n      <td>-0.030824</td>\n      <td>1.465775</td>\n      <td>0.703747</td>\n      <td>1.538654</td>\n      <td>-0.863497</td>\n      <td>-1.174175</td>\n      <td>-0.355785</td>\n      <td>-1.724217</td>\n      <td>-0.069097</td>\n      <td>-0.08832</td>\n      <td>0.100808</td>\n      <td>-0.439744</td>\n      <td>-0.425769</td>\n      <td>2.348512</td>\n      <td>-0.417577</td>\n      <td>-0.395428</td>\n      <td>-0.362669</td>\n    </tr>\n    <tr>\n      <th>3</th>\n      <td>-0.579559</td>\n      <td>0.122272</td>\n      <td>0.234761</td>\n      <td>-0.936026</td>\n      <td>-1.420965</td>\n      <td>-0.649919</td>\n      <td>1.158082</td>\n      <td>-1.174175</td>\n      <td>-0.355785</td>\n      <td>-1.724217</td>\n      <td>0.694118</td>\n      <td>-0.08832</td>\n      <td>0.100808</td>\n      <td>-0.439744</td>\n      <td>-0.425769</td>\n      <td>-0.425802</td>\n      <td>-0.417577</td>\n      <td>-0.395428</td>\n      <td>2.757334</td>\n    </tr>\n    <tr>\n      <th>4</th>\n      <td>0.400684</td>\n      <td>-0.187290</td>\n      <td>-0.030824</td>\n      <td>1.096267</td>\n      <td>0.703747</td>\n      <td>-0.649919</td>\n      <td>1.158082</td>\n      <td>-1.174175</td>\n      <td>-0.355785</td>\n      <td>-1.724217</td>\n      <td>-0.069097</td>\n      <td>-0.08832</td>\n      <td>0.100808</td>\n      <td>-0.439744</td>\n      <td>-0.425769</td>\n      <td>2.348512</td>\n      <td>-0.417577</td>\n      <td>-0.395428</td>\n      <td>-0.362669</td>\n    </tr>\n    <tr>\n      <th>...</th>\n      <td>...</td>\n      <td>...</td>\n      <td>...</td>\n      <td>...</td>\n      <td>...</td>\n      <td>...</td>\n      <td>...</td>\n      <td>...</td>\n      <td>...</td>\n      <td>...</td>\n      <td>...</td>\n      <td>...</td>\n      <td>...</td>\n      <td>...</td>\n      <td>...</td>\n      <td>...</td>\n      <td>...</td>\n      <td>...</td>\n      <td>...</td>\n    </tr>\n    <tr>\n      <th>49995</th>\n      <td>0.400684</td>\n      <td>-0.640577</td>\n      <td>-0.502977</td>\n      <td>-0.012257</td>\n      <td>0.703747</td>\n      <td>-0.649919</td>\n      <td>1.158082</td>\n      <td>-1.107368</td>\n      <td>-0.355785</td>\n      <td>1.443473</td>\n      <td>-1.046010</td>\n      <td>-0.08832</td>\n      <td>0.100808</td>\n      <td>-0.439744</td>\n      <td>-0.425769</td>\n      <td>-0.425802</td>\n      <td>-0.417577</td>\n      <td>-0.395428</td>\n      <td>2.757334</td>\n    </tr>\n    <tr>\n      <th>49996</th>\n      <td>-0.579559</td>\n      <td>0.288108</td>\n      <td>-0.502977</td>\n      <td>-0.936026</td>\n      <td>-1.420965</td>\n      <td>-0.649919</td>\n      <td>-0.863497</td>\n      <td>-1.107368</td>\n      <td>-0.355785</td>\n      <td>1.443473</td>\n      <td>-1.046010</td>\n      <td>-0.08832</td>\n      <td>0.100808</td>\n      <td>-0.439744</td>\n      <td>-0.425769</td>\n      <td>-0.425802</td>\n      <td>-0.417577</td>\n      <td>-0.395428</td>\n      <td>-0.362669</td>\n    </tr>\n    <tr>\n      <th>49997</th>\n      <td>-0.579559</td>\n      <td>-0.673744</td>\n      <td>-0.502977</td>\n      <td>2.389544</td>\n      <td>-1.420965</td>\n      <td>-0.649919</td>\n      <td>1.158082</td>\n      <td>-1.107368</td>\n      <td>-0.355785</td>\n      <td>1.443473</td>\n      <td>-1.046010</td>\n      <td>-0.08832</td>\n      <td>0.100808</td>\n      <td>-0.439744</td>\n      <td>-0.425769</td>\n      <td>-0.425802</td>\n      <td>-0.417577</td>\n      <td>-0.395428</td>\n      <td>2.757334</td>\n    </tr>\n    <tr>\n      <th>49998</th>\n      <td>-0.579559</td>\n      <td>-0.773246</td>\n      <td>-0.502977</td>\n      <td>0.357251</td>\n      <td>0.703747</td>\n      <td>-0.649919</td>\n      <td>1.158082</td>\n      <td>-1.107368</td>\n      <td>-0.355785</td>\n      <td>1.443473</td>\n      <td>-1.046010</td>\n      <td>-0.08832</td>\n      <td>0.100808</td>\n      <td>2.274053</td>\n      <td>-0.425769</td>\n      <td>-0.425802</td>\n      <td>-0.417577</td>\n      <td>-0.395428</td>\n      <td>-0.362669</td>\n    </tr>\n    <tr>\n      <th>49999</th>\n      <td>-0.579559</td>\n      <td>-0.729023</td>\n      <td>-0.502977</td>\n      <td>0.172497</td>\n      <td>-1.420965</td>\n      <td>1.538654</td>\n      <td>-0.863497</td>\n      <td>-1.107368</td>\n      <td>-0.355785</td>\n      <td>1.443473</td>\n      <td>-1.046010</td>\n      <td>-0.08832</td>\n      <td>0.100808</td>\n      <td>-0.439744</td>\n      <td>-0.425769</td>\n      <td>-0.425802</td>\n      <td>2.394768</td>\n      <td>-0.395428</td>\n      <td>-0.362669</td>\n    </tr>\n  </tbody>\n</table>\n<p>50000 rows × 19 columns</p>\n</div>"
     },
     "execution_count": 222,
     "metadata": {},
     "output_type": "execute_result"
    }
   ],
   "source": [
    "df_2"
   ],
   "metadata": {
    "collapsed": false,
    "ExecuteTime": {
     "end_time": "2023-08-12T23:46:52.129514Z",
     "start_time": "2023-08-12T23:46:52.106870Z"
    }
   },
   "id": "59d2a28d5e87a0b2"
  },
  {
   "cell_type": "code",
   "execution_count": 250,
   "outputs": [],
   "source": [
    "df_3 = df_2.copy()\n",
    "df_3[\"booking_complete\"] = df[\"booking_complete\"].copy()"
   ],
   "metadata": {
    "collapsed": false,
    "ExecuteTime": {
     "end_time": "2023-08-13T00:17:45.441265Z",
     "start_time": "2023-08-13T00:17:45.426618Z"
    }
   },
   "id": "7e80cdd30d2be86d"
  },
  {
   "cell_type": "code",
   "execution_count": 251,
   "outputs": [
    {
     "data": {
      "text/plain": "       num_passengers  purchase_lead  length_of_stay  flight_hour  \\\n0            0.400684       1.957530       -0.119353    -0.381764   \n1           -0.579559       0.299164       -0.089844    -1.120780   \n2            0.400684       1.747470       -0.030824     1.465775   \n3           -0.579559       0.122272        0.234761    -0.936026   \n4            0.400684      -0.187290       -0.030824     1.096267   \n...               ...            ...             ...          ...   \n49995        0.400684      -0.640577       -0.502977    -0.012257   \n49996       -0.579559       0.288108       -0.502977    -0.936026   \n49997       -0.579559      -0.673744       -0.502977     2.389544   \n49998       -0.579559      -0.773246       -0.502977     0.357251   \n49999       -0.579559      -0.729023       -0.502977     0.172497   \n\n       wants_extra_baggage  wants_preferred_seat  wants_in_flight_meals  \\\n0                 0.703747             -0.649919              -0.863497   \n1                -1.420965             -0.649919              -0.863497   \n2                 0.703747              1.538654              -0.863497   \n3                -1.420965             -0.649919               1.158082   \n4                 0.703747             -0.649919               1.158082   \n...                    ...                   ...                    ...   \n49995             0.703747             -0.649919               1.158082   \n49996            -1.420965             -0.649919              -0.863497   \n49997            -1.420965             -0.649919               1.158082   \n49998             0.703747             -0.649919               1.158082   \n49999            -1.420965              1.538654              -0.863497   \n\n       flight_duration  sales_chanel     route  booking_origin   OneWay  \\\n0            -1.174175     -0.355785 -1.724217        0.694118 -0.08832   \n1            -1.174175     -0.355785 -1.724217        0.694118 -0.08832   \n2            -1.174175     -0.355785 -1.724217       -0.069097 -0.08832   \n3            -1.174175     -0.355785 -1.724217        0.694118 -0.08832   \n4            -1.174175     -0.355785 -1.724217       -0.069097 -0.08832   \n...                ...           ...       ...             ...      ...   \n49995        -1.107368     -0.355785  1.443473       -1.046010 -0.08832   \n49996        -1.107368     -0.355785  1.443473       -1.046010 -0.08832   \n49997        -1.107368     -0.355785  1.443473       -1.046010 -0.08832   \n49998        -1.107368     -0.355785  1.443473       -1.046010 -0.08832   \n49999        -1.107368     -0.355785  1.443473       -1.046010 -0.08832   \n\n       RoundTrip       Mon       Tue       Wed       Thu       Fri       Sat  \\\n0       0.100808 -0.439744 -0.425769 -0.425802 -0.417577 -0.395428  2.757334   \n1       0.100808 -0.439744 -0.425769 -0.425802 -0.417577 -0.395428  2.757334   \n2       0.100808 -0.439744 -0.425769  2.348512 -0.417577 -0.395428 -0.362669   \n3       0.100808 -0.439744 -0.425769 -0.425802 -0.417577 -0.395428  2.757334   \n4       0.100808 -0.439744 -0.425769  2.348512 -0.417577 -0.395428 -0.362669   \n...          ...       ...       ...       ...       ...       ...       ...   \n49995   0.100808 -0.439744 -0.425769 -0.425802 -0.417577 -0.395428  2.757334   \n49996   0.100808 -0.439744 -0.425769 -0.425802 -0.417577 -0.395428 -0.362669   \n49997   0.100808 -0.439744 -0.425769 -0.425802 -0.417577 -0.395428  2.757334   \n49998   0.100808  2.274053 -0.425769 -0.425802 -0.417577 -0.395428 -0.362669   \n49999   0.100808 -0.439744 -0.425769 -0.425802  2.394768 -0.395428 -0.362669   \n\n       booking_complete  \n0                     0  \n1                     0  \n2                     0  \n3                     0  \n4                     0  \n...                 ...  \n49995                 0  \n49996                 0  \n49997                 0  \n49998                 0  \n49999                 0  \n\n[50000 rows x 20 columns]",
      "text/html": "<div>\n<style scoped>\n    .dataframe tbody tr th:only-of-type {\n        vertical-align: middle;\n    }\n\n    .dataframe tbody tr th {\n        vertical-align: top;\n    }\n\n    .dataframe thead th {\n        text-align: right;\n    }\n</style>\n<table border=\"1\" class=\"dataframe\">\n  <thead>\n    <tr style=\"text-align: right;\">\n      <th></th>\n      <th>num_passengers</th>\n      <th>purchase_lead</th>\n      <th>length_of_stay</th>\n      <th>flight_hour</th>\n      <th>wants_extra_baggage</th>\n      <th>wants_preferred_seat</th>\n      <th>wants_in_flight_meals</th>\n      <th>flight_duration</th>\n      <th>sales_chanel</th>\n      <th>route</th>\n      <th>booking_origin</th>\n      <th>OneWay</th>\n      <th>RoundTrip</th>\n      <th>Mon</th>\n      <th>Tue</th>\n      <th>Wed</th>\n      <th>Thu</th>\n      <th>Fri</th>\n      <th>Sat</th>\n      <th>booking_complete</th>\n    </tr>\n  </thead>\n  <tbody>\n    <tr>\n      <th>0</th>\n      <td>0.400684</td>\n      <td>1.957530</td>\n      <td>-0.119353</td>\n      <td>-0.381764</td>\n      <td>0.703747</td>\n      <td>-0.649919</td>\n      <td>-0.863497</td>\n      <td>-1.174175</td>\n      <td>-0.355785</td>\n      <td>-1.724217</td>\n      <td>0.694118</td>\n      <td>-0.08832</td>\n      <td>0.100808</td>\n      <td>-0.439744</td>\n      <td>-0.425769</td>\n      <td>-0.425802</td>\n      <td>-0.417577</td>\n      <td>-0.395428</td>\n      <td>2.757334</td>\n      <td>0</td>\n    </tr>\n    <tr>\n      <th>1</th>\n      <td>-0.579559</td>\n      <td>0.299164</td>\n      <td>-0.089844</td>\n      <td>-1.120780</td>\n      <td>-1.420965</td>\n      <td>-0.649919</td>\n      <td>-0.863497</td>\n      <td>-1.174175</td>\n      <td>-0.355785</td>\n      <td>-1.724217</td>\n      <td>0.694118</td>\n      <td>-0.08832</td>\n      <td>0.100808</td>\n      <td>-0.439744</td>\n      <td>-0.425769</td>\n      <td>-0.425802</td>\n      <td>-0.417577</td>\n      <td>-0.395428</td>\n      <td>2.757334</td>\n      <td>0</td>\n    </tr>\n    <tr>\n      <th>2</th>\n      <td>0.400684</td>\n      <td>1.747470</td>\n      <td>-0.030824</td>\n      <td>1.465775</td>\n      <td>0.703747</td>\n      <td>1.538654</td>\n      <td>-0.863497</td>\n      <td>-1.174175</td>\n      <td>-0.355785</td>\n      <td>-1.724217</td>\n      <td>-0.069097</td>\n      <td>-0.08832</td>\n      <td>0.100808</td>\n      <td>-0.439744</td>\n      <td>-0.425769</td>\n      <td>2.348512</td>\n      <td>-0.417577</td>\n      <td>-0.395428</td>\n      <td>-0.362669</td>\n      <td>0</td>\n    </tr>\n    <tr>\n      <th>3</th>\n      <td>-0.579559</td>\n      <td>0.122272</td>\n      <td>0.234761</td>\n      <td>-0.936026</td>\n      <td>-1.420965</td>\n      <td>-0.649919</td>\n      <td>1.158082</td>\n      <td>-1.174175</td>\n      <td>-0.355785</td>\n      <td>-1.724217</td>\n      <td>0.694118</td>\n      <td>-0.08832</td>\n      <td>0.100808</td>\n      <td>-0.439744</td>\n      <td>-0.425769</td>\n      <td>-0.425802</td>\n      <td>-0.417577</td>\n      <td>-0.395428</td>\n      <td>2.757334</td>\n      <td>0</td>\n    </tr>\n    <tr>\n      <th>4</th>\n      <td>0.400684</td>\n      <td>-0.187290</td>\n      <td>-0.030824</td>\n      <td>1.096267</td>\n      <td>0.703747</td>\n      <td>-0.649919</td>\n      <td>1.158082</td>\n      <td>-1.174175</td>\n      <td>-0.355785</td>\n      <td>-1.724217</td>\n      <td>-0.069097</td>\n      <td>-0.08832</td>\n      <td>0.100808</td>\n      <td>-0.439744</td>\n      <td>-0.425769</td>\n      <td>2.348512</td>\n      <td>-0.417577</td>\n      <td>-0.395428</td>\n      <td>-0.362669</td>\n      <td>0</td>\n    </tr>\n    <tr>\n      <th>...</th>\n      <td>...</td>\n      <td>...</td>\n      <td>...</td>\n      <td>...</td>\n      <td>...</td>\n      <td>...</td>\n      <td>...</td>\n      <td>...</td>\n      <td>...</td>\n      <td>...</td>\n      <td>...</td>\n      <td>...</td>\n      <td>...</td>\n      <td>...</td>\n      <td>...</td>\n      <td>...</td>\n      <td>...</td>\n      <td>...</td>\n      <td>...</td>\n      <td>...</td>\n    </tr>\n    <tr>\n      <th>49995</th>\n      <td>0.400684</td>\n      <td>-0.640577</td>\n      <td>-0.502977</td>\n      <td>-0.012257</td>\n      <td>0.703747</td>\n      <td>-0.649919</td>\n      <td>1.158082</td>\n      <td>-1.107368</td>\n      <td>-0.355785</td>\n      <td>1.443473</td>\n      <td>-1.046010</td>\n      <td>-0.08832</td>\n      <td>0.100808</td>\n      <td>-0.439744</td>\n      <td>-0.425769</td>\n      <td>-0.425802</td>\n      <td>-0.417577</td>\n      <td>-0.395428</td>\n      <td>2.757334</td>\n      <td>0</td>\n    </tr>\n    <tr>\n      <th>49996</th>\n      <td>-0.579559</td>\n      <td>0.288108</td>\n      <td>-0.502977</td>\n      <td>-0.936026</td>\n      <td>-1.420965</td>\n      <td>-0.649919</td>\n      <td>-0.863497</td>\n      <td>-1.107368</td>\n      <td>-0.355785</td>\n      <td>1.443473</td>\n      <td>-1.046010</td>\n      <td>-0.08832</td>\n      <td>0.100808</td>\n      <td>-0.439744</td>\n      <td>-0.425769</td>\n      <td>-0.425802</td>\n      <td>-0.417577</td>\n      <td>-0.395428</td>\n      <td>-0.362669</td>\n      <td>0</td>\n    </tr>\n    <tr>\n      <th>49997</th>\n      <td>-0.579559</td>\n      <td>-0.673744</td>\n      <td>-0.502977</td>\n      <td>2.389544</td>\n      <td>-1.420965</td>\n      <td>-0.649919</td>\n      <td>1.158082</td>\n      <td>-1.107368</td>\n      <td>-0.355785</td>\n      <td>1.443473</td>\n      <td>-1.046010</td>\n      <td>-0.08832</td>\n      <td>0.100808</td>\n      <td>-0.439744</td>\n      <td>-0.425769</td>\n      <td>-0.425802</td>\n      <td>-0.417577</td>\n      <td>-0.395428</td>\n      <td>2.757334</td>\n      <td>0</td>\n    </tr>\n    <tr>\n      <th>49998</th>\n      <td>-0.579559</td>\n      <td>-0.773246</td>\n      <td>-0.502977</td>\n      <td>0.357251</td>\n      <td>0.703747</td>\n      <td>-0.649919</td>\n      <td>1.158082</td>\n      <td>-1.107368</td>\n      <td>-0.355785</td>\n      <td>1.443473</td>\n      <td>-1.046010</td>\n      <td>-0.08832</td>\n      <td>0.100808</td>\n      <td>2.274053</td>\n      <td>-0.425769</td>\n      <td>-0.425802</td>\n      <td>-0.417577</td>\n      <td>-0.395428</td>\n      <td>-0.362669</td>\n      <td>0</td>\n    </tr>\n    <tr>\n      <th>49999</th>\n      <td>-0.579559</td>\n      <td>-0.729023</td>\n      <td>-0.502977</td>\n      <td>0.172497</td>\n      <td>-1.420965</td>\n      <td>1.538654</td>\n      <td>-0.863497</td>\n      <td>-1.107368</td>\n      <td>-0.355785</td>\n      <td>1.443473</td>\n      <td>-1.046010</td>\n      <td>-0.08832</td>\n      <td>0.100808</td>\n      <td>-0.439744</td>\n      <td>-0.425769</td>\n      <td>-0.425802</td>\n      <td>2.394768</td>\n      <td>-0.395428</td>\n      <td>-0.362669</td>\n      <td>0</td>\n    </tr>\n  </tbody>\n</table>\n<p>50000 rows × 20 columns</p>\n</div>"
     },
     "execution_count": 251,
     "metadata": {},
     "output_type": "execute_result"
    }
   ],
   "source": [
    "df_3"
   ],
   "metadata": {
    "collapsed": false,
    "ExecuteTime": {
     "end_time": "2023-08-13T00:17:45.684281Z",
     "start_time": "2023-08-13T00:17:45.675790Z"
    }
   },
   "id": "d1b822cdca7feae6"
  },
  {
   "cell_type": "code",
   "execution_count": 252,
   "outputs": [],
   "source": [
    "sm = SMOTE()\n",
    "x_bal,y_bal = sm.fit_resample(df_2,df[\"booking_complete\"])"
   ],
   "metadata": {
    "collapsed": false,
    "ExecuteTime": {
     "end_time": "2023-08-13T00:17:46.594270Z",
     "start_time": "2023-08-13T00:17:46.475182Z"
    }
   },
   "id": "6ab10260e997c73d"
  },
  {
   "cell_type": "code",
   "execution_count": 253,
   "outputs": [],
   "source": [
    "df_4 = x_bal.copy()\n",
    "df_4[\"booking_complete\"] = y_bal"
   ],
   "metadata": {
    "collapsed": false,
    "ExecuteTime": {
     "end_time": "2023-08-13T00:17:47.240842Z",
     "start_time": "2023-08-13T00:17:47.228627Z"
    }
   },
   "id": "5b2f90faf0225c12"
  },
  {
   "cell_type": "code",
   "execution_count": 258,
   "outputs": [
    {
     "name": "stdout",
     "output_type": "stream",
     "text": [
      "Mon : 0.16\n",
      "Tue : 0.21\n",
      "Thu : 0.06\n",
      "Sat : 0.28\n"
     ]
    }
   ],
   "source": [
    "for i in x_bal:\n",
    "    pr = pearsonr(x_bal[i],y_bal)\n",
    "    p_value = round(pr[1],2)\n",
    "    if p_value > 0.05:\n",
    "        print(i,\":\",p_value)"
   ],
   "metadata": {
    "collapsed": false,
    "ExecuteTime": {
     "end_time": "2023-08-13T00:21:10.170489Z",
     "start_time": "2023-08-13T00:21:10.144673Z"
    }
   },
   "id": "8b7c665aa03ea7fe"
  },
  {
   "cell_type": "code",
   "execution_count": 259,
   "outputs": [
    {
     "data": {
      "text/plain": "       num_passengers  purchase_lead  length_of_stay  flight_hour  \\\n0            0.400684       1.957530       -0.119353    -0.381764   \n1           -0.579559       0.299164       -0.089844    -1.120780   \n2            0.400684       1.747470       -0.030824     1.465775   \n3           -0.579559       0.122272        0.234761    -0.936026   \n4            0.400684      -0.187290       -0.030824     1.096267   \n...               ...            ...             ...          ...   \n85039       -0.579559      -0.364183        0.391531     0.677601   \n85040        0.174475      -0.685651       -0.546107    -0.168587   \n85041        1.078393       0.174552       -0.284395    -0.055587   \n85042        0.400684      -0.139563       -0.543032    -0.718261   \n85043       -0.579559      -0.864746       -0.561996     0.036372   \n\n       wants_extra_baggage  wants_preferred_seat  wants_in_flight_meals  \\\n0                 0.703747             -0.649919              -0.863497   \n1                -1.420965             -0.649919              -0.863497   \n2                 0.703747              1.538654              -0.863497   \n3                -1.420965             -0.649919               1.158082   \n4                 0.703747             -0.649919               1.158082   \n...                    ...                   ...                    ...   \n85039             0.703747             -0.649919              -0.863497   \n85040            -1.420965             -0.649919               1.158082   \n85041             0.703747              1.538654              -0.863497   \n85042            -1.420965             -0.649919              -0.863497   \n85043            -1.420965             -0.649919               1.158082   \n\n       flight_duration  sales_chanel     route  booking_origin   OneWay  \\\n0            -1.174175     -0.355785 -1.724217        0.694118 -0.08832   \n1            -1.174175     -0.355785 -1.724217        0.694118 -0.08832   \n2            -1.174175     -0.355785 -1.724217       -0.069097 -0.08832   \n3            -1.174175     -0.355785 -1.724217        0.694118 -0.08832   \n4            -1.174175     -0.355785 -1.724217       -0.069097 -0.08832   \n...                ...           ...       ...             ...      ...   \n85039        -1.474806     -0.355785 -0.172622        0.075151 -0.08832   \n85040        -0.638176     -0.355785  0.027150        1.391578 -0.08832   \n85041         1.037139     -0.355785 -1.697819        0.483053 -0.08832   \n85042        -0.185430     -0.355785 -0.203738        0.144603 -0.08832   \n85043        -1.713021     -0.355785  1.440986        0.447089 -0.08832   \n\n       RoundTrip       Wed       Fri  booking_complete  \n0       0.100808 -0.425802 -0.395428                 0  \n1       0.100808 -0.425802 -0.395428                 0  \n2       0.100808  2.348512 -0.395428                 0  \n3       0.100808 -0.425802 -0.395428                 0  \n4       0.100808  2.348512 -0.395428                 0  \n...          ...       ...       ...               ...  \n85039   0.100808 -0.425802 -0.395428                 1  \n85040   0.100808 -0.425802 -0.395428                 1  \n85041   0.100808 -0.425802 -0.395428                 1  \n85042   0.100808 -0.425802  2.528904                 1  \n85043   0.100808 -0.425802 -0.395428                 1  \n\n[85044 rows x 16 columns]",
      "text/html": "<div>\n<style scoped>\n    .dataframe tbody tr th:only-of-type {\n        vertical-align: middle;\n    }\n\n    .dataframe tbody tr th {\n        vertical-align: top;\n    }\n\n    .dataframe thead th {\n        text-align: right;\n    }\n</style>\n<table border=\"1\" class=\"dataframe\">\n  <thead>\n    <tr style=\"text-align: right;\">\n      <th></th>\n      <th>num_passengers</th>\n      <th>purchase_lead</th>\n      <th>length_of_stay</th>\n      <th>flight_hour</th>\n      <th>wants_extra_baggage</th>\n      <th>wants_preferred_seat</th>\n      <th>wants_in_flight_meals</th>\n      <th>flight_duration</th>\n      <th>sales_chanel</th>\n      <th>route</th>\n      <th>booking_origin</th>\n      <th>OneWay</th>\n      <th>RoundTrip</th>\n      <th>Wed</th>\n      <th>Fri</th>\n      <th>booking_complete</th>\n    </tr>\n  </thead>\n  <tbody>\n    <tr>\n      <th>0</th>\n      <td>0.400684</td>\n      <td>1.957530</td>\n      <td>-0.119353</td>\n      <td>-0.381764</td>\n      <td>0.703747</td>\n      <td>-0.649919</td>\n      <td>-0.863497</td>\n      <td>-1.174175</td>\n      <td>-0.355785</td>\n      <td>-1.724217</td>\n      <td>0.694118</td>\n      <td>-0.08832</td>\n      <td>0.100808</td>\n      <td>-0.425802</td>\n      <td>-0.395428</td>\n      <td>0</td>\n    </tr>\n    <tr>\n      <th>1</th>\n      <td>-0.579559</td>\n      <td>0.299164</td>\n      <td>-0.089844</td>\n      <td>-1.120780</td>\n      <td>-1.420965</td>\n      <td>-0.649919</td>\n      <td>-0.863497</td>\n      <td>-1.174175</td>\n      <td>-0.355785</td>\n      <td>-1.724217</td>\n      <td>0.694118</td>\n      <td>-0.08832</td>\n      <td>0.100808</td>\n      <td>-0.425802</td>\n      <td>-0.395428</td>\n      <td>0</td>\n    </tr>\n    <tr>\n      <th>2</th>\n      <td>0.400684</td>\n      <td>1.747470</td>\n      <td>-0.030824</td>\n      <td>1.465775</td>\n      <td>0.703747</td>\n      <td>1.538654</td>\n      <td>-0.863497</td>\n      <td>-1.174175</td>\n      <td>-0.355785</td>\n      <td>-1.724217</td>\n      <td>-0.069097</td>\n      <td>-0.08832</td>\n      <td>0.100808</td>\n      <td>2.348512</td>\n      <td>-0.395428</td>\n      <td>0</td>\n    </tr>\n    <tr>\n      <th>3</th>\n      <td>-0.579559</td>\n      <td>0.122272</td>\n      <td>0.234761</td>\n      <td>-0.936026</td>\n      <td>-1.420965</td>\n      <td>-0.649919</td>\n      <td>1.158082</td>\n      <td>-1.174175</td>\n      <td>-0.355785</td>\n      <td>-1.724217</td>\n      <td>0.694118</td>\n      <td>-0.08832</td>\n      <td>0.100808</td>\n      <td>-0.425802</td>\n      <td>-0.395428</td>\n      <td>0</td>\n    </tr>\n    <tr>\n      <th>4</th>\n      <td>0.400684</td>\n      <td>-0.187290</td>\n      <td>-0.030824</td>\n      <td>1.096267</td>\n      <td>0.703747</td>\n      <td>-0.649919</td>\n      <td>1.158082</td>\n      <td>-1.174175</td>\n      <td>-0.355785</td>\n      <td>-1.724217</td>\n      <td>-0.069097</td>\n      <td>-0.08832</td>\n      <td>0.100808</td>\n      <td>2.348512</td>\n      <td>-0.395428</td>\n      <td>0</td>\n    </tr>\n    <tr>\n      <th>...</th>\n      <td>...</td>\n      <td>...</td>\n      <td>...</td>\n      <td>...</td>\n      <td>...</td>\n      <td>...</td>\n      <td>...</td>\n      <td>...</td>\n      <td>...</td>\n      <td>...</td>\n      <td>...</td>\n      <td>...</td>\n      <td>...</td>\n      <td>...</td>\n      <td>...</td>\n      <td>...</td>\n    </tr>\n    <tr>\n      <th>85039</th>\n      <td>-0.579559</td>\n      <td>-0.364183</td>\n      <td>0.391531</td>\n      <td>0.677601</td>\n      <td>0.703747</td>\n      <td>-0.649919</td>\n      <td>-0.863497</td>\n      <td>-1.474806</td>\n      <td>-0.355785</td>\n      <td>-0.172622</td>\n      <td>0.075151</td>\n      <td>-0.08832</td>\n      <td>0.100808</td>\n      <td>-0.425802</td>\n      <td>-0.395428</td>\n      <td>1</td>\n    </tr>\n    <tr>\n      <th>85040</th>\n      <td>0.174475</td>\n      <td>-0.685651</td>\n      <td>-0.546107</td>\n      <td>-0.168587</td>\n      <td>-1.420965</td>\n      <td>-0.649919</td>\n      <td>1.158082</td>\n      <td>-0.638176</td>\n      <td>-0.355785</td>\n      <td>0.027150</td>\n      <td>1.391578</td>\n      <td>-0.08832</td>\n      <td>0.100808</td>\n      <td>-0.425802</td>\n      <td>-0.395428</td>\n      <td>1</td>\n    </tr>\n    <tr>\n      <th>85041</th>\n      <td>1.078393</td>\n      <td>0.174552</td>\n      <td>-0.284395</td>\n      <td>-0.055587</td>\n      <td>0.703747</td>\n      <td>1.538654</td>\n      <td>-0.863497</td>\n      <td>1.037139</td>\n      <td>-0.355785</td>\n      <td>-1.697819</td>\n      <td>0.483053</td>\n      <td>-0.08832</td>\n      <td>0.100808</td>\n      <td>-0.425802</td>\n      <td>-0.395428</td>\n      <td>1</td>\n    </tr>\n    <tr>\n      <th>85042</th>\n      <td>0.400684</td>\n      <td>-0.139563</td>\n      <td>-0.543032</td>\n      <td>-0.718261</td>\n      <td>-1.420965</td>\n      <td>-0.649919</td>\n      <td>-0.863497</td>\n      <td>-0.185430</td>\n      <td>-0.355785</td>\n      <td>-0.203738</td>\n      <td>0.144603</td>\n      <td>-0.08832</td>\n      <td>0.100808</td>\n      <td>-0.425802</td>\n      <td>2.528904</td>\n      <td>1</td>\n    </tr>\n    <tr>\n      <th>85043</th>\n      <td>-0.579559</td>\n      <td>-0.864746</td>\n      <td>-0.561996</td>\n      <td>0.036372</td>\n      <td>-1.420965</td>\n      <td>-0.649919</td>\n      <td>1.158082</td>\n      <td>-1.713021</td>\n      <td>-0.355785</td>\n      <td>1.440986</td>\n      <td>0.447089</td>\n      <td>-0.08832</td>\n      <td>0.100808</td>\n      <td>-0.425802</td>\n      <td>-0.395428</td>\n      <td>1</td>\n    </tr>\n  </tbody>\n</table>\n<p>85044 rows × 16 columns</p>\n</div>"
     },
     "execution_count": 259,
     "metadata": {},
     "output_type": "execute_result"
    }
   ],
   "source": [
    "df_5 = df_4.drop([\"Mon\",\"Tue\",\"Thu\",\"Sat\"],axis=1,inplace=False)\n",
    "df_5"
   ],
   "metadata": {
    "collapsed": false,
    "ExecuteTime": {
     "end_time": "2023-08-13T00:21:31.999828Z",
     "start_time": "2023-08-13T00:21:31.975761Z"
    }
   },
   "id": "aa99db92a0601adf"
  },
  {
   "cell_type": "code",
   "execution_count": 280,
   "outputs": [],
   "source": [
    "X = df_5.drop(\"booking_complete\",axis=1,inplace=False)\n",
    "y = df_5[\"booking_complete\"]"
   ],
   "metadata": {
    "collapsed": false,
    "ExecuteTime": {
     "end_time": "2023-08-13T00:33:52.130023Z",
     "start_time": "2023-08-13T00:33:52.127991Z"
    }
   },
   "id": "9a7237f5adb4aa60"
  },
  {
   "cell_type": "code",
   "execution_count": 281,
   "outputs": [],
   "source": [
    "X_train,X_test,y_train,y_test = train_test_split(X,y,test_size=0.25,random_state=42)"
   ],
   "metadata": {
    "collapsed": false,
    "ExecuteTime": {
     "end_time": "2023-08-13T00:33:52.448861Z",
     "start_time": "2023-08-13T00:33:52.438342Z"
    }
   },
   "id": "9fb57185752c412d"
  },
  {
   "cell_type": "code",
   "execution_count": 282,
   "outputs": [],
   "source": [
    "rfc = RandomForestClassifier()\n",
    "model = rfc.fit(X_train,y_train)"
   ],
   "metadata": {
    "collapsed": false,
    "ExecuteTime": {
     "end_time": "2023-08-13T00:33:57.973525Z",
     "start_time": "2023-08-13T00:33:52.836938Z"
    }
   },
   "id": "9651ea7511a78392"
  },
  {
   "cell_type": "code",
   "execution_count": 306,
   "outputs": [],
   "source": [
    "y_pred = model.predict(X_test)"
   ],
   "metadata": {
    "collapsed": false,
    "ExecuteTime": {
     "end_time": "2023-08-13T00:41:49.134682Z",
     "start_time": "2023-08-13T00:41:48.771906Z"
    }
   },
   "id": "a00efeb24bed9755"
  },
  {
   "cell_type": "code",
   "execution_count": 317,
   "outputs": [],
   "source": [
    "c_matrix = pd.DataFrame(confusion_matrix(y_test,y_pred),columns=[\"Predicted Positive\",\"Predicted Negative\"],index=[\"Actual Positive\",\"Actual Negative\"])\n",
    "acc_score = accuracy_score(y_test,y_pred)\n",
    "class_report = classification_report(y_test,y_pred)"
   ],
   "metadata": {
    "collapsed": false,
    "ExecuteTime": {
     "end_time": "2023-08-13T00:56:34.108430Z",
     "start_time": "2023-08-13T00:56:34.072620Z"
    }
   },
   "id": "22e2f7501a1c5d54"
  },
  {
   "cell_type": "code",
   "execution_count": 322,
   "outputs": [
    {
     "name": "stdout",
     "output_type": "stream",
     "text": [
      "              precision    recall  f1-score   support\n",
      "\n",
      "           0       0.89      0.93      0.91     10545\n",
      "           1       0.93      0.88      0.90     10716\n",
      "\n",
      "    accuracy                           0.91     21261\n",
      "   macro avg       0.91      0.91      0.91     21261\n",
      "weighted avg       0.91      0.91      0.91     21261\n"
     ]
    }
   ],
   "source": [
    "print(class_report)"
   ],
   "metadata": {
    "collapsed": false,
    "ExecuteTime": {
     "end_time": "2023-08-13T00:57:12.705139Z",
     "start_time": "2023-08-13T00:57:12.695315Z"
    }
   },
   "id": "60082b149eed6ecc"
  },
  {
   "cell_type": "code",
   "execution_count": 325,
   "outputs": [
    {
     "name": "stdout",
     "output_type": "stream",
     "text": [
      "0.09458633178119562\n",
      "0.09458633178119562\n",
      "157597390657243.3\n",
      "0.04544428817974239\n"
     ]
    }
   ],
   "source": [
    "print(mean_absolute_error(y_test,y_pred))\n",
    "print(mean_squared_error(y_test,y_pred))\n",
    "print(mean_absolute_percentage_error(y_test,y_pred))\n",
    "print(mean_squared_log_error(y_test,y_pred))"
   ],
   "metadata": {
    "collapsed": false,
    "ExecuteTime": {
     "end_time": "2023-08-13T00:58:40.599636Z",
     "start_time": "2023-08-13T00:58:40.588564Z"
    }
   },
   "id": "b77f17720fa6738c"
  }
 ],
 "metadata": {
  "kernelspec": {
   "display_name": "Python 3",
   "language": "python",
   "name": "python3"
  },
  "language_info": {
   "codemirror_mode": {
    "name": "ipython",
    "version": 2
   },
   "file_extension": ".py",
   "mimetype": "text/x-python",
   "name": "python",
   "nbconvert_exporter": "python",
   "pygments_lexer": "ipython2",
   "version": "2.7.6"
  }
 },
 "nbformat": 4,
 "nbformat_minor": 5
}
