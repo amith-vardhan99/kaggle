{
 "cells": [
  {
   "cell_type": "code",
   "execution_count": 31,
   "id": "initial_id",
   "metadata": {
    "collapsed": true,
    "ExecuteTime": {
     "end_time": "2023-08-12T22:20:32.498757Z",
     "start_time": "2023-08-12T22:20:32.495915Z"
    }
   },
   "outputs": [],
   "source": [
    "import numpy as np\n",
    "import pandas as pd\n",
    "import matplotlib.pyplot as plt\n",
    "import seaborn as sns\n",
    "from sklearn.model_selection import *\n",
    "from sklearn.preprocessing import *\n",
    "from sklearn.linear_model import *\n",
    "from sklearn.metrics import *\n",
    "import warnings\n",
    "warnings.filterwarnings(\"ignore\")\n",
    "from nltk.sentiment import SentimentIntensityAnalyzer\n",
    "import nltk"
   ]
  },
  {
   "cell_type": "code",
   "execution_count": 32,
   "outputs": [
    {
     "data": {
      "text/plain": "       num_passengers sales_channel  trip_type  purchase_lead  length_of_stay  \\\n0                   2      Internet  RoundTrip            262              19   \n1                   1      Internet  RoundTrip            112              20   \n2                   2      Internet  RoundTrip            243              22   \n3                   1      Internet  RoundTrip             96              31   \n4                   2      Internet  RoundTrip             68              22   \n...               ...           ...        ...            ...             ...   \n49995               2      Internet  RoundTrip             27               6   \n49996               1      Internet  RoundTrip            111               6   \n49997               1      Internet  RoundTrip             24               6   \n49998               1      Internet  RoundTrip             15               6   \n49999               1      Internet  RoundTrip             19               6   \n\n       flight_hour flight_day   route booking_origin  wants_extra_baggage  \\\n0                7        Sat  AKLDEL    New Zealand                    1   \n1                3        Sat  AKLDEL    New Zealand                    0   \n2               17        Wed  AKLDEL          India                    1   \n3                4        Sat  AKLDEL    New Zealand                    0   \n4               15        Wed  AKLDEL          India                    1   \n...            ...        ...     ...            ...                  ...   \n49995            9        Sat  PERPNH      Australia                    1   \n49996            4        Sun  PERPNH      Australia                    0   \n49997           22        Sat  PERPNH      Australia                    0   \n49998           11        Mon  PERPNH      Australia                    1   \n49999           10        Thu  PERPNH      Australia                    0   \n\n       wants_preferred_seat  wants_in_flight_meals  flight_duration  \\\n0                         0                      0             5.52   \n1                         0                      0             5.52   \n2                         1                      0             5.52   \n3                         0                      1             5.52   \n4                         0                      1             5.52   \n...                     ...                    ...              ...   \n49995                     0                      1             5.62   \n49996                     0                      0             5.62   \n49997                     0                      1             5.62   \n49998                     0                      1             5.62   \n49999                     1                      0             5.62   \n\n       booking_complete  \n0                     0  \n1                     0  \n2                     0  \n3                     0  \n4                     0  \n...                 ...  \n49995                 0  \n49996                 0  \n49997                 0  \n49998                 0  \n49999                 0  \n\n[50000 rows x 14 columns]",
      "text/html": "<div>\n<style scoped>\n    .dataframe tbody tr th:only-of-type {\n        vertical-align: middle;\n    }\n\n    .dataframe tbody tr th {\n        vertical-align: top;\n    }\n\n    .dataframe thead th {\n        text-align: right;\n    }\n</style>\n<table border=\"1\" class=\"dataframe\">\n  <thead>\n    <tr style=\"text-align: right;\">\n      <th></th>\n      <th>num_passengers</th>\n      <th>sales_channel</th>\n      <th>trip_type</th>\n      <th>purchase_lead</th>\n      <th>length_of_stay</th>\n      <th>flight_hour</th>\n      <th>flight_day</th>\n      <th>route</th>\n      <th>booking_origin</th>\n      <th>wants_extra_baggage</th>\n      <th>wants_preferred_seat</th>\n      <th>wants_in_flight_meals</th>\n      <th>flight_duration</th>\n      <th>booking_complete</th>\n    </tr>\n  </thead>\n  <tbody>\n    <tr>\n      <th>0</th>\n      <td>2</td>\n      <td>Internet</td>\n      <td>RoundTrip</td>\n      <td>262</td>\n      <td>19</td>\n      <td>7</td>\n      <td>Sat</td>\n      <td>AKLDEL</td>\n      <td>New Zealand</td>\n      <td>1</td>\n      <td>0</td>\n      <td>0</td>\n      <td>5.52</td>\n      <td>0</td>\n    </tr>\n    <tr>\n      <th>1</th>\n      <td>1</td>\n      <td>Internet</td>\n      <td>RoundTrip</td>\n      <td>112</td>\n      <td>20</td>\n      <td>3</td>\n      <td>Sat</td>\n      <td>AKLDEL</td>\n      <td>New Zealand</td>\n      <td>0</td>\n      <td>0</td>\n      <td>0</td>\n      <td>5.52</td>\n      <td>0</td>\n    </tr>\n    <tr>\n      <th>2</th>\n      <td>2</td>\n      <td>Internet</td>\n      <td>RoundTrip</td>\n      <td>243</td>\n      <td>22</td>\n      <td>17</td>\n      <td>Wed</td>\n      <td>AKLDEL</td>\n      <td>India</td>\n      <td>1</td>\n      <td>1</td>\n      <td>0</td>\n      <td>5.52</td>\n      <td>0</td>\n    </tr>\n    <tr>\n      <th>3</th>\n      <td>1</td>\n      <td>Internet</td>\n      <td>RoundTrip</td>\n      <td>96</td>\n      <td>31</td>\n      <td>4</td>\n      <td>Sat</td>\n      <td>AKLDEL</td>\n      <td>New Zealand</td>\n      <td>0</td>\n      <td>0</td>\n      <td>1</td>\n      <td>5.52</td>\n      <td>0</td>\n    </tr>\n    <tr>\n      <th>4</th>\n      <td>2</td>\n      <td>Internet</td>\n      <td>RoundTrip</td>\n      <td>68</td>\n      <td>22</td>\n      <td>15</td>\n      <td>Wed</td>\n      <td>AKLDEL</td>\n      <td>India</td>\n      <td>1</td>\n      <td>0</td>\n      <td>1</td>\n      <td>5.52</td>\n      <td>0</td>\n    </tr>\n    <tr>\n      <th>...</th>\n      <td>...</td>\n      <td>...</td>\n      <td>...</td>\n      <td>...</td>\n      <td>...</td>\n      <td>...</td>\n      <td>...</td>\n      <td>...</td>\n      <td>...</td>\n      <td>...</td>\n      <td>...</td>\n      <td>...</td>\n      <td>...</td>\n      <td>...</td>\n    </tr>\n    <tr>\n      <th>49995</th>\n      <td>2</td>\n      <td>Internet</td>\n      <td>RoundTrip</td>\n      <td>27</td>\n      <td>6</td>\n      <td>9</td>\n      <td>Sat</td>\n      <td>PERPNH</td>\n      <td>Australia</td>\n      <td>1</td>\n      <td>0</td>\n      <td>1</td>\n      <td>5.62</td>\n      <td>0</td>\n    </tr>\n    <tr>\n      <th>49996</th>\n      <td>1</td>\n      <td>Internet</td>\n      <td>RoundTrip</td>\n      <td>111</td>\n      <td>6</td>\n      <td>4</td>\n      <td>Sun</td>\n      <td>PERPNH</td>\n      <td>Australia</td>\n      <td>0</td>\n      <td>0</td>\n      <td>0</td>\n      <td>5.62</td>\n      <td>0</td>\n    </tr>\n    <tr>\n      <th>49997</th>\n      <td>1</td>\n      <td>Internet</td>\n      <td>RoundTrip</td>\n      <td>24</td>\n      <td>6</td>\n      <td>22</td>\n      <td>Sat</td>\n      <td>PERPNH</td>\n      <td>Australia</td>\n      <td>0</td>\n      <td>0</td>\n      <td>1</td>\n      <td>5.62</td>\n      <td>0</td>\n    </tr>\n    <tr>\n      <th>49998</th>\n      <td>1</td>\n      <td>Internet</td>\n      <td>RoundTrip</td>\n      <td>15</td>\n      <td>6</td>\n      <td>11</td>\n      <td>Mon</td>\n      <td>PERPNH</td>\n      <td>Australia</td>\n      <td>1</td>\n      <td>0</td>\n      <td>1</td>\n      <td>5.62</td>\n      <td>0</td>\n    </tr>\n    <tr>\n      <th>49999</th>\n      <td>1</td>\n      <td>Internet</td>\n      <td>RoundTrip</td>\n      <td>19</td>\n      <td>6</td>\n      <td>10</td>\n      <td>Thu</td>\n      <td>PERPNH</td>\n      <td>Australia</td>\n      <td>0</td>\n      <td>1</td>\n      <td>0</td>\n      <td>5.62</td>\n      <td>0</td>\n    </tr>\n  </tbody>\n</table>\n<p>50000 rows × 14 columns</p>\n</div>"
     },
     "execution_count": 32,
     "metadata": {},
     "output_type": "execute_result"
    }
   ],
   "source": [
    "df = pd.read_csv(\"customer_booking.csv\",encoding=\"ISO-8859-1\")\n",
    "df"
   ],
   "metadata": {
    "collapsed": false,
    "ExecuteTime": {
     "end_time": "2023-08-12T22:20:32.970513Z",
     "start_time": "2023-08-12T22:20:32.935705Z"
    }
   },
   "id": "b6109041173dde0e"
  },
  {
   "cell_type": "code",
   "execution_count": 28,
   "outputs": [
    {
     "data": {
      "text/plain": "array([[0, 1],\n       [0, 1],\n       [0, 1],\n       ...,\n       [0, 1],\n       [0, 1],\n       [0, 1]])"
     },
     "execution_count": 28,
     "metadata": {},
     "output_type": "execute_result"
    }
   ],
   "source": [
    "ohe = OneHotEncoder(drop=\"first\")\n",
    "\n",
    "#Sales Channel\n",
    "encode = ohe.fit(df[[\"sales_channel\"]])\n",
    "sales_channel = encode.transform(df[[\"sales_channel\"]]).toarray().astype(\"int\")\n",
    "\n",
    "#Trip Type\n",
    "encode = ohe.fit(df[[\"trip_type\"]])\n",
    "trip_type = encode.transform(df[[\"trip_type\"]]).toarray().astype(\"int\")\n",
    "trip_type"
   ],
   "metadata": {
    "collapsed": false,
    "ExecuteTime": {
     "end_time": "2023-08-12T22:19:17.886592Z",
     "start_time": "2023-08-12T22:19:17.871674Z"
    }
   },
   "id": "ec7294c2eb50841d"
  },
  {
   "cell_type": "code",
   "execution_count": null,
   "outputs": [],
   "source": [],
   "metadata": {
    "collapsed": false
   },
   "id": "267b3e331052d82c"
  }
 ],
 "metadata": {
  "kernelspec": {
   "display_name": "Python 3",
   "language": "python",
   "name": "python3"
  },
  "language_info": {
   "codemirror_mode": {
    "name": "ipython",
    "version": 2
   },
   "file_extension": ".py",
   "mimetype": "text/x-python",
   "name": "python",
   "nbconvert_exporter": "python",
   "pygments_lexer": "ipython2",
   "version": "2.7.6"
  }
 },
 "nbformat": 4,
 "nbformat_minor": 5
}
