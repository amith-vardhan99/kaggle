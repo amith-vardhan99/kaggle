{
 "cells": [
  {
   "cell_type": "code",
   "execution_count": 2,
   "id": "initial_id",
   "metadata": {
    "collapsed": true,
    "ExecuteTime": {
     "end_time": "2023-08-12T13:51:19.862149Z",
     "start_time": "2023-08-12T13:51:19.854838Z"
    }
   },
   "outputs": [],
   "source": [
    "import numpy as np\n",
    "import pandas as pd\n",
    "import matplotlib.pyplot as plt\n",
    "import seaborn as sns\n",
    "from sklearn.model_selection import *\n",
    "from sklearn.preprocessing import *\n",
    "from sklearn.linear_model import *\n",
    "from sklearn.metrics import *\n",
    "import warnings\n",
    "warnings.filterwarnings(\"ignore\")\n",
    "from nltk.sentiment import SentimentIntensityAnalyzer\n",
    "import nltk"
   ]
  },
  {
   "cell_type": "code",
   "execution_count": 3,
   "outputs": [],
   "source": [
    "df = pd.read_csv(\"British_Airways_Review.csv\")"
   ],
   "metadata": {
    "collapsed": false,
    "ExecuteTime": {
     "end_time": "2023-08-12T13:51:20.418587Z",
     "start_time": "2023-08-12T13:51:20.387504Z"
    }
   },
   "id": "7a98276602b007f4"
  },
  {
   "cell_type": "code",
   "execution_count": 4,
   "outputs": [],
   "source": [
    "df_1 = df.copy()\n",
    "df_1[\"reviews\"] = df_1[\"reviews\"].str.lower()"
   ],
   "metadata": {
    "collapsed": false,
    "ExecuteTime": {
     "end_time": "2023-08-12T13:51:20.863937Z",
     "start_time": "2023-08-12T13:51:20.852201Z"
    }
   },
   "id": "a472bdba4182ac52"
  },
  {
   "cell_type": "code",
   "execution_count": 5,
   "outputs": [
    {
     "data": {
      "text/plain": "0       ✅ trip verified |  i had the most fantastic ba...\n1       ✅ trip verified |  couldn’t book in online. ar...\n2       ✅ trip verified | london heathrow to mumbai in...\n3       ✅ trip verified | keflavík, iceland to london ...\n4       ✅ trip verified | terrible experience with bri...\n                              ...                        \n2495    roundtrip with british airways from bangkok to...\n2496    awful customer service. my wife and i have flo...\n2497    i travelled from london to sydney via singapor...\n2498    british airways have just moved cape town flig...\n2499    bengaluru to heathrow. my first long haul flig...\nName: reviews, Length: 2500, dtype: object"
     },
     "execution_count": 5,
     "metadata": {},
     "output_type": "execute_result"
    }
   ],
   "source": [
    "df_1[\"reviews\"]"
   ],
   "metadata": {
    "collapsed": false,
    "ExecuteTime": {
     "end_time": "2023-08-12T13:51:21.282626Z",
     "start_time": "2023-08-12T13:51:21.278445Z"
    }
   },
   "id": "44721f7cfe857c1d"
  },
  {
   "cell_type": "code",
   "execution_count": 6,
   "outputs": [],
   "source": [
    "verified = []\n",
    "not_verified = []\n",
    "not_verified_with_line = []\n",
    "not_verified_without_line = []\n",
    "uncertain = []"
   ],
   "metadata": {
    "collapsed": false,
    "ExecuteTime": {
     "end_time": "2023-08-12T13:51:21.755405Z",
     "start_time": "2023-08-12T13:51:21.749203Z"
    }
   },
   "id": "e4a8a42b672d42db"
  },
  {
   "cell_type": "code",
   "execution_count": 7,
   "outputs": [],
   "source": [
    "for i in list(df_1.index):\n",
    "    if \"verified\" in df_1.loc[i,\"reviews\"]:\n",
    "        uncertain.append(i)\n",
    "    else:\n",
    "        not_verified_without_line.append(i)\n",
    "        not_verified.append(i)"
   ],
   "metadata": {
    "collapsed": false,
    "ExecuteTime": {
     "end_time": "2023-08-12T13:51:22.217665Z",
     "start_time": "2023-08-12T13:51:22.215186Z"
    }
   },
   "id": "8873d7ffe008dab0"
  },
  {
   "cell_type": "code",
   "execution_count": 8,
   "outputs": [
    {
     "data": {
      "text/plain": "                                                reviews             date  \\\n0     ✅ trip verified |  i had the most fantastic ba...  1st August 2023   \n1     ✅ trip verified |  couldn’t book in online. ar...   31st July 2023   \n2     ✅ trip verified | london heathrow to mumbai in...   31st July 2023   \n3     ✅ trip verified | keflavík, iceland to london ...   31st July 2023   \n4     ✅ trip verified | terrible experience with bri...   29th July 2023   \n...                                                 ...              ...   \n2260  ✅ verified review |  istanbul to london heathr...  26th March 2016   \n2261  ✅ verified review |  london heathrow to housto...  25th March 2016   \n2262  ✅ verified review |  we have flown with britis...  24th March 2016   \n2263  ✅ verified review |  british airways from seat...  23rd March 2016   \n2265  ✅ verified review |  gatwick to amsterdam in b...  23rd March 2016   \n\n             country       seat_type recommended  stars  \\\n0          Hong Kong  Business Class         yes      5   \n1     United Kingdom   Economy Class          no      3   \n2            Iceland  Business Class         yes      3   \n3            Iceland  Business Class         yes      5   \n4             Canada   Economy Class          no      5   \n...              ...             ...         ...    ...   \n2260  United Kingdom  Business Class          no      3   \n2261     Switzerland   Economy Class         yes      3   \n2262  United Kingdom     First Class          no      1   \n2263    South Africa   Economy Class         yes      9   \n2265        Malaysia  Business Class          no      3   \n\n                      route type_of_traveller  \n0     Heathrow to Las Vegas    Family Leisure  \n1          Rome to Heathrow      Solo Leisure  \n2         Gatwick to Venice      Solo Leisure  \n3          London to Luanda    Couple Leisure  \n4        Denver to Heathrow    Family Leisure  \n...                     ...               ...  \n2260  Heathrow to Las Vegas    Family Leisure  \n2261       Rome to Heathrow      Solo Leisure  \n2262      Gatwick to Venice      Solo Leisure  \n2263       London to Luanda    Couple Leisure  \n2265             BKK to LHR          Business  \n\n[2092 rows x 8 columns]",
      "text/html": "<div>\n<style scoped>\n    .dataframe tbody tr th:only-of-type {\n        vertical-align: middle;\n    }\n\n    .dataframe tbody tr th {\n        vertical-align: top;\n    }\n\n    .dataframe thead th {\n        text-align: right;\n    }\n</style>\n<table border=\"1\" class=\"dataframe\">\n  <thead>\n    <tr style=\"text-align: right;\">\n      <th></th>\n      <th>reviews</th>\n      <th>date</th>\n      <th>country</th>\n      <th>seat_type</th>\n      <th>recommended</th>\n      <th>stars</th>\n      <th>route</th>\n      <th>type_of_traveller</th>\n    </tr>\n  </thead>\n  <tbody>\n    <tr>\n      <th>0</th>\n      <td>✅ trip verified |  i had the most fantastic ba...</td>\n      <td>1st August 2023</td>\n      <td>Hong Kong</td>\n      <td>Business Class</td>\n      <td>yes</td>\n      <td>5</td>\n      <td>Heathrow to Las Vegas</td>\n      <td>Family Leisure</td>\n    </tr>\n    <tr>\n      <th>1</th>\n      <td>✅ trip verified |  couldn’t book in online. ar...</td>\n      <td>31st July 2023</td>\n      <td>United Kingdom</td>\n      <td>Economy Class</td>\n      <td>no</td>\n      <td>3</td>\n      <td>Rome to Heathrow</td>\n      <td>Solo Leisure</td>\n    </tr>\n    <tr>\n      <th>2</th>\n      <td>✅ trip verified | london heathrow to mumbai in...</td>\n      <td>31st July 2023</td>\n      <td>Iceland</td>\n      <td>Business Class</td>\n      <td>yes</td>\n      <td>3</td>\n      <td>Gatwick to Venice</td>\n      <td>Solo Leisure</td>\n    </tr>\n    <tr>\n      <th>3</th>\n      <td>✅ trip verified | keflavík, iceland to london ...</td>\n      <td>31st July 2023</td>\n      <td>Iceland</td>\n      <td>Business Class</td>\n      <td>yes</td>\n      <td>5</td>\n      <td>London to Luanda</td>\n      <td>Couple Leisure</td>\n    </tr>\n    <tr>\n      <th>4</th>\n      <td>✅ trip verified | terrible experience with bri...</td>\n      <td>29th July 2023</td>\n      <td>Canada</td>\n      <td>Economy Class</td>\n      <td>no</td>\n      <td>5</td>\n      <td>Denver to Heathrow</td>\n      <td>Family Leisure</td>\n    </tr>\n    <tr>\n      <th>...</th>\n      <td>...</td>\n      <td>...</td>\n      <td>...</td>\n      <td>...</td>\n      <td>...</td>\n      <td>...</td>\n      <td>...</td>\n      <td>...</td>\n    </tr>\n    <tr>\n      <th>2260</th>\n      <td>✅ verified review |  istanbul to london heathr...</td>\n      <td>26th March 2016</td>\n      <td>United Kingdom</td>\n      <td>Business Class</td>\n      <td>no</td>\n      <td>3</td>\n      <td>Heathrow to Las Vegas</td>\n      <td>Family Leisure</td>\n    </tr>\n    <tr>\n      <th>2261</th>\n      <td>✅ verified review |  london heathrow to housto...</td>\n      <td>25th March 2016</td>\n      <td>Switzerland</td>\n      <td>Economy Class</td>\n      <td>yes</td>\n      <td>3</td>\n      <td>Rome to Heathrow</td>\n      <td>Solo Leisure</td>\n    </tr>\n    <tr>\n      <th>2262</th>\n      <td>✅ verified review |  we have flown with britis...</td>\n      <td>24th March 2016</td>\n      <td>United Kingdom</td>\n      <td>First Class</td>\n      <td>no</td>\n      <td>1</td>\n      <td>Gatwick to Venice</td>\n      <td>Solo Leisure</td>\n    </tr>\n    <tr>\n      <th>2263</th>\n      <td>✅ verified review |  british airways from seat...</td>\n      <td>23rd March 2016</td>\n      <td>South Africa</td>\n      <td>Economy Class</td>\n      <td>yes</td>\n      <td>9</td>\n      <td>London to Luanda</td>\n      <td>Couple Leisure</td>\n    </tr>\n    <tr>\n      <th>2265</th>\n      <td>✅ verified review |  gatwick to amsterdam in b...</td>\n      <td>23rd March 2016</td>\n      <td>Malaysia</td>\n      <td>Business Class</td>\n      <td>no</td>\n      <td>3</td>\n      <td>BKK to LHR</td>\n      <td>Business</td>\n    </tr>\n  </tbody>\n</table>\n<p>2092 rows × 8 columns</p>\n</div>"
     },
     "execution_count": 8,
     "metadata": {},
     "output_type": "execute_result"
    }
   ],
   "source": [
    "df_2 = df_1.loc[uncertain,:]\n",
    "df_2"
   ],
   "metadata": {
    "collapsed": false,
    "ExecuteTime": {
     "end_time": "2023-08-12T13:51:22.557492Z",
     "start_time": "2023-08-12T13:51:22.546022Z"
    }
   },
   "id": "3b2444206baead42"
  },
  {
   "cell_type": "code",
   "execution_count": 9,
   "outputs": [],
   "source": [
    "for i in list(df_2.index):\n",
    "    if \"not verified\" in df_2.loc[i,\"reviews\"]:\n",
    "        not_verified_with_line.append(i)\n",
    "        not_verified.append(i)\n",
    "    elif \"unverified\" in df_2.loc[i,\"reviews\"]:\n",
    "        not_verified_with_line.append(i)\n",
    "        not_verified.append(i)\n",
    "    else:\n",
    "        verified.append(i)\n",
    "not_verified.sort()"
   ],
   "metadata": {
    "collapsed": false,
    "ExecuteTime": {
     "end_time": "2023-08-12T13:51:23.016060Z",
     "start_time": "2023-08-12T13:51:23.012231Z"
    }
   },
   "id": "6b5867da2b3f2f1e"
  },
  {
   "cell_type": "code",
   "execution_count": 10,
   "outputs": [],
   "source": [
    "df_3 = df_1.loc[verified,:]\n",
    "df_4 = df_1.loc[not_verified_with_line,:]\n",
    "df_5 = df_1.loc[not_verified_without_line,:]"
   ],
   "metadata": {
    "collapsed": false,
    "ExecuteTime": {
     "end_time": "2023-08-12T13:51:23.393840Z",
     "start_time": "2023-08-12T13:51:23.390149Z"
    }
   },
   "id": "7eacd96bca1e9405"
  },
  {
   "cell_type": "code",
   "execution_count": 11,
   "outputs": [],
   "source": [
    "df_verified = df_3.copy()\n",
    "df_not_verified_with_line = df_4.copy()\n",
    "df_not_verified_without_line = df_5.copy()"
   ],
   "metadata": {
    "collapsed": false,
    "ExecuteTime": {
     "end_time": "2023-08-12T13:51:23.773221Z",
     "start_time": "2023-08-12T13:51:23.768079Z"
    }
   },
   "id": "d06d801b571f1fb2"
  },
  {
   "cell_type": "code",
   "execution_count": 12,
   "outputs": [],
   "source": [
    "for i in list(df_verified.index):\n",
    "    stri = df_verified.loc[i,\"reviews\"]\n",
    "    pos = stri.index(\"|\")\n",
    "    df_verified.loc[i,\"reviews\"] = stri[pos+1:].strip()\n",
    "df_verified[\"Verified\"] = \"Yes\""
   ],
   "metadata": {
    "collapsed": false,
    "ExecuteTime": {
     "end_time": "2023-08-12T13:51:24.155693Z",
     "start_time": "2023-08-12T13:51:24.154665Z"
    }
   },
   "id": "ea63c236a8bc54b6"
  },
  {
   "cell_type": "code",
   "execution_count": 13,
   "outputs": [],
   "source": [
    "for i in list(df_not_verified_with_line.index):\n",
    "    stri = df_not_verified_with_line.loc[i,\"reviews\"]\n",
    "    pos = stri.index(\"|\")\n",
    "    df_not_verified_with_line.loc[i,\"reviews\"] = stri[pos+1:].strip()\n",
    "df_not_verified_with_line[\"Verified\"] = \"No\"\n",
    "df_not_verified_without_line[\"Verified\"] = \"No\""
   ],
   "metadata": {
    "collapsed": false,
    "ExecuteTime": {
     "end_time": "2023-08-12T13:51:24.422559Z",
     "start_time": "2023-08-12T13:51:24.419590Z"
    }
   },
   "id": "4a6c3ece7cdaa32"
  },
  {
   "cell_type": "code",
   "execution_count": 14,
   "outputs": [
    {
     "data": {
      "text/plain": "                                                reviews               date  \\\n8     i booked premium economy from inv to lax (via ...     24th July 2023   \n11    fast and friendly check in (total contrast to ...     20th July 2023   \n13    i'm sure that ba have gradually made their eco...     20th July 2023   \n16    our a380 developed a fault taxiing to the runw...     17th July 2023   \n17    horrible airline. does not care about their cu...     16th July 2023   \n...                                                 ...                ...   \n1756  gatwick to salzburg return in business class, ...  6th February 2017   \n1757  gatwick to barbados, outbound on 19th january ...  6th February 2017   \n1758  bordeaux to london gatwick. as a former execut...  6th February 2017   \n1759  london heathrow to san francisco return. upgra...  4th February 2017   \n1776  london heathrow to philadelphia return. very g...  27th January 2017   \n\n             country        seat_type recommended  stars             route  \\\n8     United Kingdom  Premium Economy          no      9        LHR to CPT   \n11    United Kingdom   Business Class          no      5  Rome to Heathrow   \n13    United Kingdom    Economy Class          no      3  London to Luanda   \n16    United Kingdom   Business Class          no      3   London to Tampa   \n17    United Kingdom    Economy Class          no      3  London to Sydney   \n...              ...              ...         ...    ...               ...   \n1756  United Kingdom   Business Class         yes      1   London to Tampa   \n1757  United Kingdom    Economy Class          no      9  London to Sydney   \n1758          France    Economy Class         yes      7        LHR to CPT   \n1759  United Kingdom   Business Class         yes      3        BLR to LHR   \n1776  United Kingdom      First Class         yes      3   London to Tampa   \n\n     type_of_traveller Verified  \n8       Couple Leisure       No  \n11        Solo Leisure       No  \n13      Couple Leisure       No  \n16      Couple Leisure       No  \n17      Couple Leisure       No  \n...                ...      ...  \n1756    Couple Leisure       No  \n1757    Couple Leisure       No  \n1758    Couple Leisure       No  \n1759          Business       No  \n1776    Couple Leisure       No  \n\n[231 rows x 9 columns]",
      "text/html": "<div>\n<style scoped>\n    .dataframe tbody tr th:only-of-type {\n        vertical-align: middle;\n    }\n\n    .dataframe tbody tr th {\n        vertical-align: top;\n    }\n\n    .dataframe thead th {\n        text-align: right;\n    }\n</style>\n<table border=\"1\" class=\"dataframe\">\n  <thead>\n    <tr style=\"text-align: right;\">\n      <th></th>\n      <th>reviews</th>\n      <th>date</th>\n      <th>country</th>\n      <th>seat_type</th>\n      <th>recommended</th>\n      <th>stars</th>\n      <th>route</th>\n      <th>type_of_traveller</th>\n      <th>Verified</th>\n    </tr>\n  </thead>\n  <tbody>\n    <tr>\n      <th>8</th>\n      <td>i booked premium economy from inv to lax (via ...</td>\n      <td>24th July 2023</td>\n      <td>United Kingdom</td>\n      <td>Premium Economy</td>\n      <td>no</td>\n      <td>9</td>\n      <td>LHR to CPT</td>\n      <td>Couple Leisure</td>\n      <td>No</td>\n    </tr>\n    <tr>\n      <th>11</th>\n      <td>fast and friendly check in (total contrast to ...</td>\n      <td>20th July 2023</td>\n      <td>United Kingdom</td>\n      <td>Business Class</td>\n      <td>no</td>\n      <td>5</td>\n      <td>Rome to Heathrow</td>\n      <td>Solo Leisure</td>\n      <td>No</td>\n    </tr>\n    <tr>\n      <th>13</th>\n      <td>i'm sure that ba have gradually made their eco...</td>\n      <td>20th July 2023</td>\n      <td>United Kingdom</td>\n      <td>Economy Class</td>\n      <td>no</td>\n      <td>3</td>\n      <td>London to Luanda</td>\n      <td>Couple Leisure</td>\n      <td>No</td>\n    </tr>\n    <tr>\n      <th>16</th>\n      <td>our a380 developed a fault taxiing to the runw...</td>\n      <td>17th July 2023</td>\n      <td>United Kingdom</td>\n      <td>Business Class</td>\n      <td>no</td>\n      <td>3</td>\n      <td>London to Tampa</td>\n      <td>Couple Leisure</td>\n      <td>No</td>\n    </tr>\n    <tr>\n      <th>17</th>\n      <td>horrible airline. does not care about their cu...</td>\n      <td>16th July 2023</td>\n      <td>United Kingdom</td>\n      <td>Economy Class</td>\n      <td>no</td>\n      <td>3</td>\n      <td>London to Sydney</td>\n      <td>Couple Leisure</td>\n      <td>No</td>\n    </tr>\n    <tr>\n      <th>...</th>\n      <td>...</td>\n      <td>...</td>\n      <td>...</td>\n      <td>...</td>\n      <td>...</td>\n      <td>...</td>\n      <td>...</td>\n      <td>...</td>\n      <td>...</td>\n    </tr>\n    <tr>\n      <th>1756</th>\n      <td>gatwick to salzburg return in business class, ...</td>\n      <td>6th February 2017</td>\n      <td>United Kingdom</td>\n      <td>Business Class</td>\n      <td>yes</td>\n      <td>1</td>\n      <td>London to Tampa</td>\n      <td>Couple Leisure</td>\n      <td>No</td>\n    </tr>\n    <tr>\n      <th>1757</th>\n      <td>gatwick to barbados, outbound on 19th january ...</td>\n      <td>6th February 2017</td>\n      <td>United Kingdom</td>\n      <td>Economy Class</td>\n      <td>no</td>\n      <td>9</td>\n      <td>London to Sydney</td>\n      <td>Couple Leisure</td>\n      <td>No</td>\n    </tr>\n    <tr>\n      <th>1758</th>\n      <td>bordeaux to london gatwick. as a former execut...</td>\n      <td>6th February 2017</td>\n      <td>France</td>\n      <td>Economy Class</td>\n      <td>yes</td>\n      <td>7</td>\n      <td>LHR to CPT</td>\n      <td>Couple Leisure</td>\n      <td>No</td>\n    </tr>\n    <tr>\n      <th>1759</th>\n      <td>london heathrow to san francisco return. upgra...</td>\n      <td>4th February 2017</td>\n      <td>United Kingdom</td>\n      <td>Business Class</td>\n      <td>yes</td>\n      <td>3</td>\n      <td>BLR to LHR</td>\n      <td>Business</td>\n      <td>No</td>\n    </tr>\n    <tr>\n      <th>1776</th>\n      <td>london heathrow to philadelphia return. very g...</td>\n      <td>27th January 2017</td>\n      <td>United Kingdom</td>\n      <td>First Class</td>\n      <td>yes</td>\n      <td>3</td>\n      <td>London to Tampa</td>\n      <td>Couple Leisure</td>\n      <td>No</td>\n    </tr>\n  </tbody>\n</table>\n<p>231 rows × 9 columns</p>\n</div>"
     },
     "execution_count": 14,
     "metadata": {},
     "output_type": "execute_result"
    }
   ],
   "source": [
    "df_not_verified_with_line"
   ],
   "metadata": {
    "collapsed": false,
    "ExecuteTime": {
     "end_time": "2023-08-12T13:51:24.737343Z",
     "start_time": "2023-08-12T13:51:24.729833Z"
    }
   },
   "id": "86cbd9e94071c7c"
  },
  {
   "cell_type": "code",
   "execution_count": 15,
   "outputs": [],
   "source": [
    "df_not_verified = pd.concat([df_not_verified_with_line, df_not_verified_without_line],axis=0)"
   ],
   "metadata": {
    "collapsed": false,
    "ExecuteTime": {
     "end_time": "2023-08-12T13:51:25.185234Z",
     "start_time": "2023-08-12T13:51:25.179259Z"
    }
   },
   "id": "27bb008a920e599e"
  },
  {
   "cell_type": "code",
   "execution_count": 16,
   "outputs": [],
   "source": [
    "final_df = pd.concat([df_verified, df_not_verified],axis=0)"
   ],
   "metadata": {
    "collapsed": false,
    "ExecuteTime": {
     "end_time": "2023-08-12T13:51:25.589330Z",
     "start_time": "2023-08-12T13:51:25.584189Z"
    }
   },
   "id": "aee30aaed0f2cb46"
  },
  {
   "cell_type": "code",
   "execution_count": 17,
   "outputs": [
    {
     "data": {
      "text/plain": "                                                reviews                date  \\\n0     i had the most fantastic ba flight today. the ...     1st August 2023   \n1     couldn’t book in online. arrived at check in t...      31st July 2023   \n2     london heathrow to mumbai in a boeing 787-8 in...      31st July 2023   \n3     keflavík, iceland to london heathrow on an a32...      31st July 2023   \n4     terrible experience with british airways. i bo...      29th July 2023   \n...                                                 ...                 ...   \n2495  roundtrip with british airways from bangkok to...  12th November 2015   \n2496  awful customer service. my wife and i have flo...  11th November 2015   \n2497  i travelled from london to sydney via singapor...  10th November 2015   \n2498  british airways have just moved cape town flig...  10th November 2015   \n2499  bengaluru to heathrow. my first long haul flig...  10th November 2015   \n\n             country       seat_type recommended  stars  \\\n0          Hong Kong  Business Class         yes      5   \n1     United Kingdom   Economy Class          no      3   \n2            Iceland  Business Class         yes      3   \n3            Iceland  Business Class         yes      5   \n4             Canada   Economy Class          no      5   \n...              ...             ...         ...    ...   \n2495        Thailand  Business Class          no      7   \n2496  United Kingdom  Business Class          no      3   \n2497       Australia     First Class         yes      5   \n2498  United Kingdom     First Class         yes      3   \n2499           India   Economy Class          no      3   \n\n                      route type_of_traveller Verified  \n0     Heathrow to Las Vegas    Family Leisure      Yes  \n1          Rome to Heathrow      Solo Leisure      Yes  \n2         Gatwick to Venice      Solo Leisure      Yes  \n3          London to Luanda    Couple Leisure      Yes  \n4        Denver to Heathrow    Family Leisure      Yes  \n...                     ...               ...      ...  \n2495             BKK to LHR          Business       No  \n2496        London to Tampa    Couple Leisure       No  \n2497       London to Sydney    Couple Leisure       No  \n2498             LHR to CPT    Couple Leisure       No  \n2499             BLR to LHR          Business       No  \n\n[2500 rows x 9 columns]",
      "text/html": "<div>\n<style scoped>\n    .dataframe tbody tr th:only-of-type {\n        vertical-align: middle;\n    }\n\n    .dataframe tbody tr th {\n        vertical-align: top;\n    }\n\n    .dataframe thead th {\n        text-align: right;\n    }\n</style>\n<table border=\"1\" class=\"dataframe\">\n  <thead>\n    <tr style=\"text-align: right;\">\n      <th></th>\n      <th>reviews</th>\n      <th>date</th>\n      <th>country</th>\n      <th>seat_type</th>\n      <th>recommended</th>\n      <th>stars</th>\n      <th>route</th>\n      <th>type_of_traveller</th>\n      <th>Verified</th>\n    </tr>\n  </thead>\n  <tbody>\n    <tr>\n      <th>0</th>\n      <td>i had the most fantastic ba flight today. the ...</td>\n      <td>1st August 2023</td>\n      <td>Hong Kong</td>\n      <td>Business Class</td>\n      <td>yes</td>\n      <td>5</td>\n      <td>Heathrow to Las Vegas</td>\n      <td>Family Leisure</td>\n      <td>Yes</td>\n    </tr>\n    <tr>\n      <th>1</th>\n      <td>couldn’t book in online. arrived at check in t...</td>\n      <td>31st July 2023</td>\n      <td>United Kingdom</td>\n      <td>Economy Class</td>\n      <td>no</td>\n      <td>3</td>\n      <td>Rome to Heathrow</td>\n      <td>Solo Leisure</td>\n      <td>Yes</td>\n    </tr>\n    <tr>\n      <th>2</th>\n      <td>london heathrow to mumbai in a boeing 787-8 in...</td>\n      <td>31st July 2023</td>\n      <td>Iceland</td>\n      <td>Business Class</td>\n      <td>yes</td>\n      <td>3</td>\n      <td>Gatwick to Venice</td>\n      <td>Solo Leisure</td>\n      <td>Yes</td>\n    </tr>\n    <tr>\n      <th>3</th>\n      <td>keflavík, iceland to london heathrow on an a32...</td>\n      <td>31st July 2023</td>\n      <td>Iceland</td>\n      <td>Business Class</td>\n      <td>yes</td>\n      <td>5</td>\n      <td>London to Luanda</td>\n      <td>Couple Leisure</td>\n      <td>Yes</td>\n    </tr>\n    <tr>\n      <th>4</th>\n      <td>terrible experience with british airways. i bo...</td>\n      <td>29th July 2023</td>\n      <td>Canada</td>\n      <td>Economy Class</td>\n      <td>no</td>\n      <td>5</td>\n      <td>Denver to Heathrow</td>\n      <td>Family Leisure</td>\n      <td>Yes</td>\n    </tr>\n    <tr>\n      <th>...</th>\n      <td>...</td>\n      <td>...</td>\n      <td>...</td>\n      <td>...</td>\n      <td>...</td>\n      <td>...</td>\n      <td>...</td>\n      <td>...</td>\n      <td>...</td>\n    </tr>\n    <tr>\n      <th>2495</th>\n      <td>roundtrip with british airways from bangkok to...</td>\n      <td>12th November 2015</td>\n      <td>Thailand</td>\n      <td>Business Class</td>\n      <td>no</td>\n      <td>7</td>\n      <td>BKK to LHR</td>\n      <td>Business</td>\n      <td>No</td>\n    </tr>\n    <tr>\n      <th>2496</th>\n      <td>awful customer service. my wife and i have flo...</td>\n      <td>11th November 2015</td>\n      <td>United Kingdom</td>\n      <td>Business Class</td>\n      <td>no</td>\n      <td>3</td>\n      <td>London to Tampa</td>\n      <td>Couple Leisure</td>\n      <td>No</td>\n    </tr>\n    <tr>\n      <th>2497</th>\n      <td>i travelled from london to sydney via singapor...</td>\n      <td>10th November 2015</td>\n      <td>Australia</td>\n      <td>First Class</td>\n      <td>yes</td>\n      <td>5</td>\n      <td>London to Sydney</td>\n      <td>Couple Leisure</td>\n      <td>No</td>\n    </tr>\n    <tr>\n      <th>2498</th>\n      <td>british airways have just moved cape town flig...</td>\n      <td>10th November 2015</td>\n      <td>United Kingdom</td>\n      <td>First Class</td>\n      <td>yes</td>\n      <td>3</td>\n      <td>LHR to CPT</td>\n      <td>Couple Leisure</td>\n      <td>No</td>\n    </tr>\n    <tr>\n      <th>2499</th>\n      <td>bengaluru to heathrow. my first long haul flig...</td>\n      <td>10th November 2015</td>\n      <td>India</td>\n      <td>Economy Class</td>\n      <td>no</td>\n      <td>3</td>\n      <td>BLR to LHR</td>\n      <td>Business</td>\n      <td>No</td>\n    </tr>\n  </tbody>\n</table>\n<p>2500 rows × 9 columns</p>\n</div>"
     },
     "execution_count": 17,
     "metadata": {},
     "output_type": "execute_result"
    }
   ],
   "source": [
    "final_df"
   ],
   "metadata": {
    "collapsed": false,
    "ExecuteTime": {
     "end_time": "2023-08-12T13:51:26.061546Z",
     "start_time": "2023-08-12T13:51:26.056506Z"
    }
   },
   "id": "65749cd240b18875"
  },
  {
   "cell_type": "code",
   "execution_count": 18,
   "outputs": [],
   "source": [
    "sia = SentimentIntensityAnalyzer()\n",
    "final_df[\"Contonation\"] = np.nan"
   ],
   "metadata": {
    "collapsed": false,
    "ExecuteTime": {
     "end_time": "2023-08-12T13:51:27.209670Z",
     "start_time": "2023-08-12T13:51:27.200128Z"
    }
   },
   "id": "ba30153fe8bc896e"
  },
  {
   "cell_type": "code",
   "execution_count": 19,
   "outputs": [],
   "source": [
    "for i in list(final_df.index):\n",
    "    polar = sia.polarity_scores(final_df.loc[i,\"reviews\"])\n",
    "    score = round(polar[\"compound\"])\n",
    "    if score == 1:\n",
    "        final_df.loc[i,\"Contonation\"] = \"Positive\"\n",
    "    elif score == 0:\n",
    "        final_df.loc[i,\"Contonation\"] = \"Neutral\"\n",
    "    else:\n",
    "        final_df.loc[i,\"Contonation\"] = \"Negative\""
   ],
   "metadata": {
    "collapsed": false,
    "ExecuteTime": {
     "end_time": "2023-08-12T13:51:29.239008Z",
     "start_time": "2023-08-12T13:51:27.667730Z"
    }
   },
   "id": "ee60220ef16fa299"
  },
  {
   "cell_type": "code",
   "execution_count": 20,
   "outputs": [
    {
     "data": {
      "text/plain": "                                                reviews                date  \\\n0     i had the most fantastic ba flight today. the ...     1st August 2023   \n1     couldn’t book in online. arrived at check in t...      31st July 2023   \n2     london heathrow to mumbai in a boeing 787-8 in...      31st July 2023   \n3     keflavík, iceland to london heathrow on an a32...      31st July 2023   \n4     terrible experience with british airways. i bo...      29th July 2023   \n...                                                 ...                 ...   \n2495  roundtrip with british airways from bangkok to...  12th November 2015   \n2496  awful customer service. my wife and i have flo...  11th November 2015   \n2497  i travelled from london to sydney via singapor...  10th November 2015   \n2498  british airways have just moved cape town flig...  10th November 2015   \n2499  bengaluru to heathrow. my first long haul flig...  10th November 2015   \n\n             country       seat_type recommended  stars  \\\n0          Hong Kong  Business Class         yes      5   \n1     United Kingdom   Economy Class          no      3   \n2            Iceland  Business Class         yes      3   \n3            Iceland  Business Class         yes      5   \n4             Canada   Economy Class          no      5   \n...              ...             ...         ...    ...   \n2495        Thailand  Business Class          no      7   \n2496  United Kingdom  Business Class          no      3   \n2497       Australia     First Class         yes      5   \n2498  United Kingdom     First Class         yes      3   \n2499           India   Economy Class          no      3   \n\n                      route type_of_traveller Verified Contonation  \n0     Heathrow to Las Vegas    Family Leisure      Yes    Positive  \n1          Rome to Heathrow      Solo Leisure      Yes    Positive  \n2         Gatwick to Venice      Solo Leisure      Yes    Positive  \n3          London to Luanda    Couple Leisure      Yes     Neutral  \n4        Denver to Heathrow    Family Leisure      Yes     Neutral  \n...                     ...               ...      ...         ...  \n2495             BKK to LHR          Business       No    Positive  \n2496        London to Tampa    Couple Leisure       No    Negative  \n2497       London to Sydney    Couple Leisure       No     Neutral  \n2498             LHR to CPT    Couple Leisure       No    Negative  \n2499             BLR to LHR          Business       No    Negative  \n\n[2500 rows x 10 columns]",
      "text/html": "<div>\n<style scoped>\n    .dataframe tbody tr th:only-of-type {\n        vertical-align: middle;\n    }\n\n    .dataframe tbody tr th {\n        vertical-align: top;\n    }\n\n    .dataframe thead th {\n        text-align: right;\n    }\n</style>\n<table border=\"1\" class=\"dataframe\">\n  <thead>\n    <tr style=\"text-align: right;\">\n      <th></th>\n      <th>reviews</th>\n      <th>date</th>\n      <th>country</th>\n      <th>seat_type</th>\n      <th>recommended</th>\n      <th>stars</th>\n      <th>route</th>\n      <th>type_of_traveller</th>\n      <th>Verified</th>\n      <th>Contonation</th>\n    </tr>\n  </thead>\n  <tbody>\n    <tr>\n      <th>0</th>\n      <td>i had the most fantastic ba flight today. the ...</td>\n      <td>1st August 2023</td>\n      <td>Hong Kong</td>\n      <td>Business Class</td>\n      <td>yes</td>\n      <td>5</td>\n      <td>Heathrow to Las Vegas</td>\n      <td>Family Leisure</td>\n      <td>Yes</td>\n      <td>Positive</td>\n    </tr>\n    <tr>\n      <th>1</th>\n      <td>couldn’t book in online. arrived at check in t...</td>\n      <td>31st July 2023</td>\n      <td>United Kingdom</td>\n      <td>Economy Class</td>\n      <td>no</td>\n      <td>3</td>\n      <td>Rome to Heathrow</td>\n      <td>Solo Leisure</td>\n      <td>Yes</td>\n      <td>Positive</td>\n    </tr>\n    <tr>\n      <th>2</th>\n      <td>london heathrow to mumbai in a boeing 787-8 in...</td>\n      <td>31st July 2023</td>\n      <td>Iceland</td>\n      <td>Business Class</td>\n      <td>yes</td>\n      <td>3</td>\n      <td>Gatwick to Venice</td>\n      <td>Solo Leisure</td>\n      <td>Yes</td>\n      <td>Positive</td>\n    </tr>\n    <tr>\n      <th>3</th>\n      <td>keflavík, iceland to london heathrow on an a32...</td>\n      <td>31st July 2023</td>\n      <td>Iceland</td>\n      <td>Business Class</td>\n      <td>yes</td>\n      <td>5</td>\n      <td>London to Luanda</td>\n      <td>Couple Leisure</td>\n      <td>Yes</td>\n      <td>Neutral</td>\n    </tr>\n    <tr>\n      <th>4</th>\n      <td>terrible experience with british airways. i bo...</td>\n      <td>29th July 2023</td>\n      <td>Canada</td>\n      <td>Economy Class</td>\n      <td>no</td>\n      <td>5</td>\n      <td>Denver to Heathrow</td>\n      <td>Family Leisure</td>\n      <td>Yes</td>\n      <td>Neutral</td>\n    </tr>\n    <tr>\n      <th>...</th>\n      <td>...</td>\n      <td>...</td>\n      <td>...</td>\n      <td>...</td>\n      <td>...</td>\n      <td>...</td>\n      <td>...</td>\n      <td>...</td>\n      <td>...</td>\n      <td>...</td>\n    </tr>\n    <tr>\n      <th>2495</th>\n      <td>roundtrip with british airways from bangkok to...</td>\n      <td>12th November 2015</td>\n      <td>Thailand</td>\n      <td>Business Class</td>\n      <td>no</td>\n      <td>7</td>\n      <td>BKK to LHR</td>\n      <td>Business</td>\n      <td>No</td>\n      <td>Positive</td>\n    </tr>\n    <tr>\n      <th>2496</th>\n      <td>awful customer service. my wife and i have flo...</td>\n      <td>11th November 2015</td>\n      <td>United Kingdom</td>\n      <td>Business Class</td>\n      <td>no</td>\n      <td>3</td>\n      <td>London to Tampa</td>\n      <td>Couple Leisure</td>\n      <td>No</td>\n      <td>Negative</td>\n    </tr>\n    <tr>\n      <th>2497</th>\n      <td>i travelled from london to sydney via singapor...</td>\n      <td>10th November 2015</td>\n      <td>Australia</td>\n      <td>First Class</td>\n      <td>yes</td>\n      <td>5</td>\n      <td>London to Sydney</td>\n      <td>Couple Leisure</td>\n      <td>No</td>\n      <td>Neutral</td>\n    </tr>\n    <tr>\n      <th>2498</th>\n      <td>british airways have just moved cape town flig...</td>\n      <td>10th November 2015</td>\n      <td>United Kingdom</td>\n      <td>First Class</td>\n      <td>yes</td>\n      <td>3</td>\n      <td>LHR to CPT</td>\n      <td>Couple Leisure</td>\n      <td>No</td>\n      <td>Negative</td>\n    </tr>\n    <tr>\n      <th>2499</th>\n      <td>bengaluru to heathrow. my first long haul flig...</td>\n      <td>10th November 2015</td>\n      <td>India</td>\n      <td>Economy Class</td>\n      <td>no</td>\n      <td>3</td>\n      <td>BLR to LHR</td>\n      <td>Business</td>\n      <td>No</td>\n      <td>Negative</td>\n    </tr>\n  </tbody>\n</table>\n<p>2500 rows × 10 columns</p>\n</div>"
     },
     "execution_count": 20,
     "metadata": {},
     "output_type": "execute_result"
    }
   ],
   "source": [
    "final_df"
   ],
   "metadata": {
    "collapsed": false,
    "ExecuteTime": {
     "end_time": "2023-08-12T13:51:57.238175Z",
     "start_time": "2023-08-12T13:51:57.233471Z"
    }
   },
   "id": "9f7c61225047ba78"
  },
  {
   "cell_type": "code",
   "execution_count": 21,
   "outputs": [],
   "source": [
    "final_df.to_csv(\"data.csv\",index=False)"
   ],
   "metadata": {
    "collapsed": false,
    "ExecuteTime": {
     "end_time": "2023-08-12T13:51:57.899377Z",
     "start_time": "2023-08-12T13:51:57.864426Z"
    }
   },
   "id": "12f643249be00531"
  },
  {
   "cell_type": "code",
   "execution_count": null,
   "outputs": [],
   "source": [],
   "metadata": {
    "collapsed": false
   },
   "id": "eeaae75474aaf5f7"
  }
 ],
 "metadata": {
  "kernelspec": {
   "display_name": "Python 3",
   "language": "python",
   "name": "python3"
  },
  "language_info": {
   "codemirror_mode": {
    "name": "ipython",
    "version": 2
   },
   "file_extension": ".py",
   "mimetype": "text/x-python",
   "name": "python",
   "nbconvert_exporter": "python",
   "pygments_lexer": "ipython2",
   "version": "2.7.6"
  }
 },
 "nbformat": 4,
 "nbformat_minor": 5
}
