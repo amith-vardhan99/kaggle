{
 "cells": [
  {
   "cell_type": "code",
   "execution_count": 33,
   "id": "initial_id",
   "metadata": {
    "collapsed": true,
    "ExecuteTime": {
     "end_time": "2024-01-02T17:43:06.808699Z",
     "start_time": "2024-01-02T17:43:06.103148Z"
    }
   },
   "outputs": [],
   "source": [
    "import numpy as np\n",
    "import pandas as pd\n",
    "import matplotlib.pyplot as plt\n",
    "import seaborn as sns\n",
    "from sklearn.linear_model import *"
   ]
  },
  {
   "cell_type": "code",
   "outputs": [],
   "source": [
    "rice_countries = pd.read_csv(\"rice_ countries.csv\")\n",
    "world_food_production = pd.read_csv(\"world_food_production.csv\")"
   ],
   "metadata": {
    "collapsed": false,
    "ExecuteTime": {
     "end_time": "2024-01-02T17:28:47.363674Z",
     "start_time": "2024-01-02T17:28:47.353934Z"
    }
   },
   "id": "4d67952c2d89a2da",
   "execution_count": 4
  },
  {
   "cell_type": "code",
   "outputs": [
    {
     "data": {
      "text/plain": "    year  rice_production  wheat_production  vegetable_production\n0   1996            568.7             578.6                 542.7\n1   1997            577.1             596.2                 551.8\n2   1998            578.8             584.8                 572.8\n3   1999            611.2             585.0                 615.2\n4   2000            598.7             588.2                 686.6\n5   2001            600.2             592.0                 705.3\n6   2002            571.1             550.1                 727.3\n7   2003            586.9             634.9                 758.2\n8   2004            607.3             626.9                 768.5\n9   2005            634.2             614.5                 789.7\n10  2006            640.7             606.7                 820.3\n11  2007            654.0             606.7                 855.7\n12  2008            684.4             681.0                 889.5\n13  2009            680.3             684.2                 916.0\n14  2010            694.5             640.3                 938.8\n15  2011            719.5             697.7                 974.8\n16  2012            727.7             672.7                 999.8\n17  2013            731.8             711.0                1021.6\n18  2014            730.8             733.5                1056.0\n19  2015            732.0             737.0                1084.2\n20  2016            734.1             749.5                1087.8\n21  2017            747.4             771.7                1109.3\n22  2018            759.1             734.0                1111.0\n23  2019            749.2             765.8                1129.7\n24  2020            756.7             760.9                1148.4\n25  2021            787.3             770.9                1157.3",
      "text/html": "<div>\n<style scoped>\n    .dataframe tbody tr th:only-of-type {\n        vertical-align: middle;\n    }\n\n    .dataframe tbody tr th {\n        vertical-align: top;\n    }\n\n    .dataframe thead th {\n        text-align: right;\n    }\n</style>\n<table border=\"1\" class=\"dataframe\">\n  <thead>\n    <tr style=\"text-align: right;\">\n      <th></th>\n      <th>year</th>\n      <th>rice_production</th>\n      <th>wheat_production</th>\n      <th>vegetable_production</th>\n    </tr>\n  </thead>\n  <tbody>\n    <tr>\n      <th>0</th>\n      <td>1996</td>\n      <td>568.7</td>\n      <td>578.6</td>\n      <td>542.7</td>\n    </tr>\n    <tr>\n      <th>1</th>\n      <td>1997</td>\n      <td>577.1</td>\n      <td>596.2</td>\n      <td>551.8</td>\n    </tr>\n    <tr>\n      <th>2</th>\n      <td>1998</td>\n      <td>578.8</td>\n      <td>584.8</td>\n      <td>572.8</td>\n    </tr>\n    <tr>\n      <th>3</th>\n      <td>1999</td>\n      <td>611.2</td>\n      <td>585.0</td>\n      <td>615.2</td>\n    </tr>\n    <tr>\n      <th>4</th>\n      <td>2000</td>\n      <td>598.7</td>\n      <td>588.2</td>\n      <td>686.6</td>\n    </tr>\n    <tr>\n      <th>5</th>\n      <td>2001</td>\n      <td>600.2</td>\n      <td>592.0</td>\n      <td>705.3</td>\n    </tr>\n    <tr>\n      <th>6</th>\n      <td>2002</td>\n      <td>571.1</td>\n      <td>550.1</td>\n      <td>727.3</td>\n    </tr>\n    <tr>\n      <th>7</th>\n      <td>2003</td>\n      <td>586.9</td>\n      <td>634.9</td>\n      <td>758.2</td>\n    </tr>\n    <tr>\n      <th>8</th>\n      <td>2004</td>\n      <td>607.3</td>\n      <td>626.9</td>\n      <td>768.5</td>\n    </tr>\n    <tr>\n      <th>9</th>\n      <td>2005</td>\n      <td>634.2</td>\n      <td>614.5</td>\n      <td>789.7</td>\n    </tr>\n    <tr>\n      <th>10</th>\n      <td>2006</td>\n      <td>640.7</td>\n      <td>606.7</td>\n      <td>820.3</td>\n    </tr>\n    <tr>\n      <th>11</th>\n      <td>2007</td>\n      <td>654.0</td>\n      <td>606.7</td>\n      <td>855.7</td>\n    </tr>\n    <tr>\n      <th>12</th>\n      <td>2008</td>\n      <td>684.4</td>\n      <td>681.0</td>\n      <td>889.5</td>\n    </tr>\n    <tr>\n      <th>13</th>\n      <td>2009</td>\n      <td>680.3</td>\n      <td>684.2</td>\n      <td>916.0</td>\n    </tr>\n    <tr>\n      <th>14</th>\n      <td>2010</td>\n      <td>694.5</td>\n      <td>640.3</td>\n      <td>938.8</td>\n    </tr>\n    <tr>\n      <th>15</th>\n      <td>2011</td>\n      <td>719.5</td>\n      <td>697.7</td>\n      <td>974.8</td>\n    </tr>\n    <tr>\n      <th>16</th>\n      <td>2012</td>\n      <td>727.7</td>\n      <td>672.7</td>\n      <td>999.8</td>\n    </tr>\n    <tr>\n      <th>17</th>\n      <td>2013</td>\n      <td>731.8</td>\n      <td>711.0</td>\n      <td>1021.6</td>\n    </tr>\n    <tr>\n      <th>18</th>\n      <td>2014</td>\n      <td>730.8</td>\n      <td>733.5</td>\n      <td>1056.0</td>\n    </tr>\n    <tr>\n      <th>19</th>\n      <td>2015</td>\n      <td>732.0</td>\n      <td>737.0</td>\n      <td>1084.2</td>\n    </tr>\n    <tr>\n      <th>20</th>\n      <td>2016</td>\n      <td>734.1</td>\n      <td>749.5</td>\n      <td>1087.8</td>\n    </tr>\n    <tr>\n      <th>21</th>\n      <td>2017</td>\n      <td>747.4</td>\n      <td>771.7</td>\n      <td>1109.3</td>\n    </tr>\n    <tr>\n      <th>22</th>\n      <td>2018</td>\n      <td>759.1</td>\n      <td>734.0</td>\n      <td>1111.0</td>\n    </tr>\n    <tr>\n      <th>23</th>\n      <td>2019</td>\n      <td>749.2</td>\n      <td>765.8</td>\n      <td>1129.7</td>\n    </tr>\n    <tr>\n      <th>24</th>\n      <td>2020</td>\n      <td>756.7</td>\n      <td>760.9</td>\n      <td>1148.4</td>\n    </tr>\n    <tr>\n      <th>25</th>\n      <td>2021</td>\n      <td>787.3</td>\n      <td>770.9</td>\n      <td>1157.3</td>\n    </tr>\n  </tbody>\n</table>\n</div>"
     },
     "execution_count": 5,
     "metadata": {},
     "output_type": "execute_result"
    }
   ],
   "source": [
    "world_food_production"
   ],
   "metadata": {
    "collapsed": false,
    "ExecuteTime": {
     "end_time": "2024-01-02T17:28:48.797603Z",
     "start_time": "2024-01-02T17:28:48.792481Z"
    }
   },
   "id": "75ad2eb222cc2077",
   "execution_count": 5
  },
  {
   "cell_type": "code",
   "outputs": [],
   "source": [
    "rice_production = world_food_production[[\"year\",\"rice_production\"]]\n",
    "wheat_production = world_food_production[[\"year\",\"wheat_production\"]]\n",
    "vegetable_production = world_food_production[[\"year\",\"vegetable_production\"]]"
   ],
   "metadata": {
    "collapsed": false,
    "ExecuteTime": {
     "end_time": "2024-01-02T17:33:05.323072Z",
     "start_time": "2024-01-02T17:33:05.320565Z"
    }
   },
   "id": "f5c0b6de7c47d364",
   "execution_count": 8
  },
  {
   "cell_type": "code",
   "outputs": [
    {
     "data": {
      "text/plain": "          Country   2020   2010   2000   1990\n0           China  211.9  195.8  187.9  189.3\n1           India  178.3  144.0  127.5  111.2\n2      Bangladesh   54.9   50.1   37.6   26.8\n3       Indonesia   54.6   59.3   51.9   45.2\n4         Vietnam   42.8   40.0   32.5   19.2\n5        Thailand   30.2   35.7   25.8   17.2\n6         Myanmar   25.1   32.1   21.0   14.0\n7     Philippines   19.3   15.8   12.4    9.9\n8          Brazil   11.1   11.2   11.1    7.4\n9   United States   10.3   11.0    8.7    7.1\n10          Japan    9.7   10.7   11.9   13.1\n11       Pakistan    8.4    7.2    7.2    4.9\n12        Nigeria    8.2    4.5    3.3    2.5",
      "text/html": "<div>\n<style scoped>\n    .dataframe tbody tr th:only-of-type {\n        vertical-align: middle;\n    }\n\n    .dataframe tbody tr th {\n        vertical-align: top;\n    }\n\n    .dataframe thead th {\n        text-align: right;\n    }\n</style>\n<table border=\"1\" class=\"dataframe\">\n  <thead>\n    <tr style=\"text-align: right;\">\n      <th></th>\n      <th>Country</th>\n      <th>2020</th>\n      <th>2010</th>\n      <th>2000</th>\n      <th>1990</th>\n    </tr>\n  </thead>\n  <tbody>\n    <tr>\n      <th>0</th>\n      <td>China</td>\n      <td>211.9</td>\n      <td>195.8</td>\n      <td>187.9</td>\n      <td>189.3</td>\n    </tr>\n    <tr>\n      <th>1</th>\n      <td>India</td>\n      <td>178.3</td>\n      <td>144.0</td>\n      <td>127.5</td>\n      <td>111.2</td>\n    </tr>\n    <tr>\n      <th>2</th>\n      <td>Bangladesh</td>\n      <td>54.9</td>\n      <td>50.1</td>\n      <td>37.6</td>\n      <td>26.8</td>\n    </tr>\n    <tr>\n      <th>3</th>\n      <td>Indonesia</td>\n      <td>54.6</td>\n      <td>59.3</td>\n      <td>51.9</td>\n      <td>45.2</td>\n    </tr>\n    <tr>\n      <th>4</th>\n      <td>Vietnam</td>\n      <td>42.8</td>\n      <td>40.0</td>\n      <td>32.5</td>\n      <td>19.2</td>\n    </tr>\n    <tr>\n      <th>5</th>\n      <td>Thailand</td>\n      <td>30.2</td>\n      <td>35.7</td>\n      <td>25.8</td>\n      <td>17.2</td>\n    </tr>\n    <tr>\n      <th>6</th>\n      <td>Myanmar</td>\n      <td>25.1</td>\n      <td>32.1</td>\n      <td>21.0</td>\n      <td>14.0</td>\n    </tr>\n    <tr>\n      <th>7</th>\n      <td>Philippines</td>\n      <td>19.3</td>\n      <td>15.8</td>\n      <td>12.4</td>\n      <td>9.9</td>\n    </tr>\n    <tr>\n      <th>8</th>\n      <td>Brazil</td>\n      <td>11.1</td>\n      <td>11.2</td>\n      <td>11.1</td>\n      <td>7.4</td>\n    </tr>\n    <tr>\n      <th>9</th>\n      <td>United States</td>\n      <td>10.3</td>\n      <td>11.0</td>\n      <td>8.7</td>\n      <td>7.1</td>\n    </tr>\n    <tr>\n      <th>10</th>\n      <td>Japan</td>\n      <td>9.7</td>\n      <td>10.7</td>\n      <td>11.9</td>\n      <td>13.1</td>\n    </tr>\n    <tr>\n      <th>11</th>\n      <td>Pakistan</td>\n      <td>8.4</td>\n      <td>7.2</td>\n      <td>7.2</td>\n      <td>4.9</td>\n    </tr>\n    <tr>\n      <th>12</th>\n      <td>Nigeria</td>\n      <td>8.2</td>\n      <td>4.5</td>\n      <td>3.3</td>\n      <td>2.5</td>\n    </tr>\n  </tbody>\n</table>\n</div>"
     },
     "execution_count": 12,
     "metadata": {},
     "output_type": "execute_result"
    }
   ],
   "source": [
    "rice_countries"
   ],
   "metadata": {
    "collapsed": false,
    "ExecuteTime": {
     "end_time": "2024-01-02T17:34:01.386864Z",
     "start_time": "2024-01-02T17:34:01.384246Z"
    }
   },
   "id": "553ccfe099a71119",
   "execution_count": 12
  },
  {
   "cell_type": "code",
   "outputs": [],
   "source": [
    "rice_countries_array = rice_countries.drop(columns=[\"Country\"]).values.T\n",
    "rice_countries_df = pd.DataFrame(rice_countries_array, columns=rice_countries[\"Country\"].values)\n",
    "rice_countries_df = rice_countries_df.set_index(rice_countries.columns.values[1:]).reset_index()\n",
    "rice_countries_df = rice_countries_df.rename(columns={\"index\": \"year\"})"
   ],
   "metadata": {
    "collapsed": false,
    "ExecuteTime": {
     "end_time": "2024-01-02T18:21:07.175434Z",
     "start_time": "2024-01-02T18:21:07.170889Z"
    }
   },
   "id": "d09c5a6e1dc44067",
   "execution_count": 101
  },
  {
   "cell_type": "code",
   "outputs": [
    {
     "data": {
      "text/plain": "   year  China  India  Bangladesh  Indonesia  Vietnam  Thailand  Myanmar  \\\n0  2020  211.9  178.3        54.9       54.6     42.8      30.2     25.1   \n1  2010  195.8  144.0        50.1       59.3     40.0      35.7     32.1   \n2  2000  187.9  127.5        37.6       51.9     32.5      25.8     21.0   \n3  1990  189.3  111.2        26.8       45.2     19.2      17.2     14.0   \n\n   Philippines  Brazil  United States  Japan  Pakistan  Nigeria  \n0         19.3    11.1           10.3    9.7       8.4      8.2  \n1         15.8    11.2           11.0   10.7       7.2      4.5  \n2         12.4    11.1            8.7   11.9       7.2      3.3  \n3          9.9     7.4            7.1   13.1       4.9      2.5  ",
      "text/html": "<div>\n<style scoped>\n    .dataframe tbody tr th:only-of-type {\n        vertical-align: middle;\n    }\n\n    .dataframe tbody tr th {\n        vertical-align: top;\n    }\n\n    .dataframe thead th {\n        text-align: right;\n    }\n</style>\n<table border=\"1\" class=\"dataframe\">\n  <thead>\n    <tr style=\"text-align: right;\">\n      <th></th>\n      <th>year</th>\n      <th>China</th>\n      <th>India</th>\n      <th>Bangladesh</th>\n      <th>Indonesia</th>\n      <th>Vietnam</th>\n      <th>Thailand</th>\n      <th>Myanmar</th>\n      <th>Philippines</th>\n      <th>Brazil</th>\n      <th>United States</th>\n      <th>Japan</th>\n      <th>Pakistan</th>\n      <th>Nigeria</th>\n    </tr>\n  </thead>\n  <tbody>\n    <tr>\n      <th>0</th>\n      <td>2020</td>\n      <td>211.9</td>\n      <td>178.3</td>\n      <td>54.9</td>\n      <td>54.6</td>\n      <td>42.8</td>\n      <td>30.2</td>\n      <td>25.1</td>\n      <td>19.3</td>\n      <td>11.1</td>\n      <td>10.3</td>\n      <td>9.7</td>\n      <td>8.4</td>\n      <td>8.2</td>\n    </tr>\n    <tr>\n      <th>1</th>\n      <td>2010</td>\n      <td>195.8</td>\n      <td>144.0</td>\n      <td>50.1</td>\n      <td>59.3</td>\n      <td>40.0</td>\n      <td>35.7</td>\n      <td>32.1</td>\n      <td>15.8</td>\n      <td>11.2</td>\n      <td>11.0</td>\n      <td>10.7</td>\n      <td>7.2</td>\n      <td>4.5</td>\n    </tr>\n    <tr>\n      <th>2</th>\n      <td>2000</td>\n      <td>187.9</td>\n      <td>127.5</td>\n      <td>37.6</td>\n      <td>51.9</td>\n      <td>32.5</td>\n      <td>25.8</td>\n      <td>21.0</td>\n      <td>12.4</td>\n      <td>11.1</td>\n      <td>8.7</td>\n      <td>11.9</td>\n      <td>7.2</td>\n      <td>3.3</td>\n    </tr>\n    <tr>\n      <th>3</th>\n      <td>1990</td>\n      <td>189.3</td>\n      <td>111.2</td>\n      <td>26.8</td>\n      <td>45.2</td>\n      <td>19.2</td>\n      <td>17.2</td>\n      <td>14.0</td>\n      <td>9.9</td>\n      <td>7.4</td>\n      <td>7.1</td>\n      <td>13.1</td>\n      <td>4.9</td>\n      <td>2.5</td>\n    </tr>\n  </tbody>\n</table>\n</div>"
     },
     "execution_count": 102,
     "metadata": {},
     "output_type": "execute_result"
    }
   ],
   "source": [
    "rice_countries_df"
   ],
   "metadata": {
    "collapsed": false,
    "ExecuteTime": {
     "end_time": "2024-01-02T18:21:07.535788Z",
     "start_time": "2024-01-02T18:21:07.529187Z"
    }
   },
   "id": "d43e4a114ab7b580",
   "execution_count": 102
  },
  {
   "cell_type": "code",
   "outputs": [],
   "source": [
    "X_rice_production = rice_production[\"year\"].values\n",
    "y_rice_production = rice_production[\"rice_production\"].values\n",
    "\n",
    "X_wheat_production = wheat_production[\"year\"].values\n",
    "y_wheat_production = wheat_production[\"wheat_production\"].values\n",
    "\n",
    "X_vegetable_production = vegetable_production[\"year\"].values\n",
    "y_vegetable_production = vegetable_production[\"vegetable_production\"].values"
   ],
   "metadata": {
    "collapsed": false,
    "ExecuteTime": {
     "end_time": "2024-01-02T18:17:04.152427Z",
     "start_time": "2024-01-02T18:17:04.121102Z"
    }
   },
   "id": "d562af1defa7b105",
   "execution_count": 89
  },
  {
   "cell_type": "code",
   "outputs": [],
   "source": [
    "test_values = np.array([2022,2023,2024,2025,2026,2027,2028,2029,2030])"
   ],
   "metadata": {
    "collapsed": false,
    "ExecuteTime": {
     "end_time": "2024-01-02T18:17:52.038564Z",
     "start_time": "2024-01-02T18:17:52.034261Z"
    }
   },
   "id": "42847168bef1a697",
   "execution_count": 95
  },
  {
   "cell_type": "code",
   "outputs": [],
   "source": [
    "linear_reg_rice_production = LinearRegression()\n",
    "linear_reg_rice_production.fit(np.reshape(X_rice_production,(-1,1)),np.reshape(y_rice_production,(-1,1)))\n",
    "y_pred_rice_production = linear_reg_rice_production.predict(test_values.reshape(-1,1)).round(1)\n",
    "\n",
    "linear_reg_wheat_production = LinearRegression()\n",
    "linear_reg_wheat_production.fit(np.reshape(X_wheat_production,(-1,1)),np.reshape(y_wheat_production,(-1,1)))\n",
    "y_pred_wheat_production = linear_reg_wheat_production.predict(test_values.reshape(-1,1)).round(1)\n",
    "\n",
    "linear_reg_vegetable_production = LinearRegression()\n",
    "linear_reg_vegetable_production.fit(np.reshape(X_vegetable_production,(-1,1)),np.reshape(y_vegetable_production,(-1,1)))\n",
    "y_pred_vegetable_production = linear_reg_vegetable_production.predict(test_values.reshape(-1,1)).round(1)"
   ],
   "metadata": {
    "collapsed": false,
    "ExecuteTime": {
     "end_time": "2024-01-02T18:18:11.607146Z",
     "start_time": "2024-01-02T18:18:11.596307Z"
    }
   },
   "id": "c66899bbfd52ddd2",
   "execution_count": 96
  },
  {
   "cell_type": "code",
   "outputs": [],
   "source": [
    "test_df = pd.DataFrame(columns=world_food_production.columns)\n",
    "test_df[\"year\"] = test_values\n",
    "test_df[\"rice_production\"] = y_pred_rice_production\n",
    "test_df[\"wheat_production\"] = y_pred_wheat_production\n",
    "test_df[\"vegetable_production\"] = y_pred_vegetable_production"
   ],
   "metadata": {
    "collapsed": false,
    "ExecuteTime": {
     "end_time": "2024-01-02T18:18:33.796591Z",
     "start_time": "2024-01-02T18:18:33.793836Z"
    }
   },
   "id": "4c119ca24792e35c",
   "execution_count": 97
  },
  {
   "cell_type": "code",
   "outputs": [
    {
     "data": {
      "text/plain": "   year  rice_production  wheat_production  vegetable_production\n0  2022            793.9             784.2                1235.3\n1  2023            803.0             793.0                1261.3\n2  2024            812.0             801.9                1287.2\n3  2025            821.1             810.8                1313.1\n4  2026            830.1             819.7                1339.0\n5  2027            839.2             828.5                1365.0\n6  2028            848.2             837.4                1390.9\n7  2029            857.3             846.3                1416.8\n8  2030            866.3             855.1                1442.8",
      "text/html": "<div>\n<style scoped>\n    .dataframe tbody tr th:only-of-type {\n        vertical-align: middle;\n    }\n\n    .dataframe tbody tr th {\n        vertical-align: top;\n    }\n\n    .dataframe thead th {\n        text-align: right;\n    }\n</style>\n<table border=\"1\" class=\"dataframe\">\n  <thead>\n    <tr style=\"text-align: right;\">\n      <th></th>\n      <th>year</th>\n      <th>rice_production</th>\n      <th>wheat_production</th>\n      <th>vegetable_production</th>\n    </tr>\n  </thead>\n  <tbody>\n    <tr>\n      <th>0</th>\n      <td>2022</td>\n      <td>793.9</td>\n      <td>784.2</td>\n      <td>1235.3</td>\n    </tr>\n    <tr>\n      <th>1</th>\n      <td>2023</td>\n      <td>803.0</td>\n      <td>793.0</td>\n      <td>1261.3</td>\n    </tr>\n    <tr>\n      <th>2</th>\n      <td>2024</td>\n      <td>812.0</td>\n      <td>801.9</td>\n      <td>1287.2</td>\n    </tr>\n    <tr>\n      <th>3</th>\n      <td>2025</td>\n      <td>821.1</td>\n      <td>810.8</td>\n      <td>1313.1</td>\n    </tr>\n    <tr>\n      <th>4</th>\n      <td>2026</td>\n      <td>830.1</td>\n      <td>819.7</td>\n      <td>1339.0</td>\n    </tr>\n    <tr>\n      <th>5</th>\n      <td>2027</td>\n      <td>839.2</td>\n      <td>828.5</td>\n      <td>1365.0</td>\n    </tr>\n    <tr>\n      <th>6</th>\n      <td>2028</td>\n      <td>848.2</td>\n      <td>837.4</td>\n      <td>1390.9</td>\n    </tr>\n    <tr>\n      <th>7</th>\n      <td>2029</td>\n      <td>857.3</td>\n      <td>846.3</td>\n      <td>1416.8</td>\n    </tr>\n    <tr>\n      <th>8</th>\n      <td>2030</td>\n      <td>866.3</td>\n      <td>855.1</td>\n      <td>1442.8</td>\n    </tr>\n  </tbody>\n</table>\n</div>"
     },
     "execution_count": 98,
     "metadata": {},
     "output_type": "execute_result"
    }
   ],
   "source": [
    "test_df"
   ],
   "metadata": {
    "collapsed": false,
    "ExecuteTime": {
     "end_time": "2024-01-02T18:18:36.921519Z",
     "start_time": "2024-01-02T18:18:36.916343Z"
    }
   },
   "id": "95f02981affb4dd6",
   "execution_count": 98
  },
  {
   "cell_type": "code",
   "outputs": [],
   "source": [
    "rice_count_final = pd.DataFrame(columns=rice_countries_df.columns)\n",
    "rice_count_final[\"year\"] = test_values\n",
    "for i in rice_countries[\"Country\"].values:\n",
    "    X = rice_countries_df[\"year\"].values\n",
    "    y = rice_countries_df[i].values\n",
    "    linear_reg = LinearRegression()\n",
    "    linear_reg.fit(np.reshape(X,(-1,1)),np.reshape(y,(-1,1)))\n",
    "    y_pred = linear_reg.predict(test_values.reshape(-1,1)).round(1)\n",
    "    rice_count_final[i] = y_pred"
   ],
   "metadata": {
    "collapsed": false,
    "ExecuteTime": {
     "end_time": "2024-01-02T18:30:05.784526Z",
     "start_time": "2024-01-02T18:30:05.773234Z"
    }
   },
   "id": "322ba5dc52b8b89a",
   "execution_count": 108
  },
  {
   "cell_type": "code",
   "outputs": [],
   "source": [
    "rice_produce = pd.DataFrame(columns=[\"year\",\"rice_production\"])\n",
    "rice_produce[\"year\"] = test_values\n",
    "rice_produce[\"rice_production\"] = rice_count_final.drop(columns=[\"year\"]).sum(axis=1)\n",
    "rice = test_df[[\"year\",\"rice_production\"]]"
   ],
   "metadata": {
    "collapsed": false,
    "ExecuteTime": {
     "end_time": "2024-01-02T18:34:56.798490Z",
     "start_time": "2024-01-02T18:34:56.789655Z"
    }
   },
   "id": "3dd6a275e757f62",
   "execution_count": 116
  },
  {
   "cell_type": "code",
   "outputs": [
    {
     "data": {
      "text/plain": "   year  rice_production\n0  2022            685.9\n1  2023            692.7\n2  2024            699.3\n3  2025            706.2\n4  2026            713.0\n5  2027            719.6\n6  2028            726.0\n7  2029            732.8\n8  2030            739.5",
      "text/html": "<div>\n<style scoped>\n    .dataframe tbody tr th:only-of-type {\n        vertical-align: middle;\n    }\n\n    .dataframe tbody tr th {\n        vertical-align: top;\n    }\n\n    .dataframe thead th {\n        text-align: right;\n    }\n</style>\n<table border=\"1\" class=\"dataframe\">\n  <thead>\n    <tr style=\"text-align: right;\">\n      <th></th>\n      <th>year</th>\n      <th>rice_production</th>\n    </tr>\n  </thead>\n  <tbody>\n    <tr>\n      <th>0</th>\n      <td>2022</td>\n      <td>685.9</td>\n    </tr>\n    <tr>\n      <th>1</th>\n      <td>2023</td>\n      <td>692.7</td>\n    </tr>\n    <tr>\n      <th>2</th>\n      <td>2024</td>\n      <td>699.3</td>\n    </tr>\n    <tr>\n      <th>3</th>\n      <td>2025</td>\n      <td>706.2</td>\n    </tr>\n    <tr>\n      <th>4</th>\n      <td>2026</td>\n      <td>713.0</td>\n    </tr>\n    <tr>\n      <th>5</th>\n      <td>2027</td>\n      <td>719.6</td>\n    </tr>\n    <tr>\n      <th>6</th>\n      <td>2028</td>\n      <td>726.0</td>\n    </tr>\n    <tr>\n      <th>7</th>\n      <td>2029</td>\n      <td>732.8</td>\n    </tr>\n    <tr>\n      <th>8</th>\n      <td>2030</td>\n      <td>739.5</td>\n    </tr>\n  </tbody>\n</table>\n</div>"
     },
     "execution_count": 117,
     "metadata": {},
     "output_type": "execute_result"
    }
   ],
   "source": [
    "rice_produce"
   ],
   "metadata": {
    "collapsed": false,
    "ExecuteTime": {
     "end_time": "2024-01-02T18:34:57.374506Z",
     "start_time": "2024-01-02T18:34:57.370736Z"
    }
   },
   "id": "a8584e67629f65fa",
   "execution_count": 117
  },
  {
   "cell_type": "code",
   "outputs": [],
   "source": [
    "final_rice = pd.DataFrame(columns=rice.columns)\n",
    "final_rice[\"year\"] = rice[\"year\"].copy()\n",
    "final_rice[\"rice_production\"] = (rice[\"rice_production\"] - rice_produce[\"rice_production\"]).abs()"
   ],
   "metadata": {
    "collapsed": false,
    "ExecuteTime": {
     "end_time": "2024-01-02T18:46:12.792812Z",
     "start_time": "2024-01-02T18:46:12.788610Z"
    }
   },
   "id": "6d2e96d2a04f0a7",
   "execution_count": 125
  },
  {
   "cell_type": "code",
   "outputs": [
    {
     "data": {
      "text/plain": "117.5"
     },
     "execution_count": 132,
     "metadata": {},
     "output_type": "execute_result"
    }
   ],
   "source": [
    "round(np.sqrt((final_rice[\"rice_production\"] * final_rice[\"rice_production\"]).sum()/len(final_rice[\"rice_production\"])),2)"
   ],
   "metadata": {
    "collapsed": false,
    "ExecuteTime": {
     "end_time": "2024-01-02T18:47:29.148687Z",
     "start_time": "2024-01-02T18:47:29.146654Z"
    }
   },
   "id": "20e63a8a8a36b1b5",
   "execution_count": 132
  },
  {
   "cell_type": "code",
   "outputs": [],
   "source": [],
   "metadata": {
    "collapsed": false
   },
   "id": "5d156d19189da69c"
  }
 ],
 "metadata": {
  "kernelspec": {
   "display_name": "Python 3",
   "language": "python",
   "name": "python3"
  },
  "language_info": {
   "codemirror_mode": {
    "name": "ipython",
    "version": 2
   },
   "file_extension": ".py",
   "mimetype": "text/x-python",
   "name": "python",
   "nbconvert_exporter": "python",
   "pygments_lexer": "ipython2",
   "version": "2.7.6"
  }
 },
 "nbformat": 4,
 "nbformat_minor": 5
}
