{
 "cells": [
  {
   "cell_type": "code",
   "execution_count": 9,
   "id": "initial_id",
   "metadata": {
    "collapsed": true,
    "ExecuteTime": {
     "end_time": "2024-01-02T21:55:10.393398Z",
     "start_time": "2024-01-02T21:55:10.168836Z"
    }
   },
   "outputs": [],
   "source": [
    "import numpy as np\n",
    "import pandas as pd\n",
    "import matplotlib.pyplot as plt\n",
    "import seaborn as sns\n",
    "from sklearn.linear_model import *"
   ]
  },
  {
   "cell_type": "code",
   "outputs": [],
   "source": [
    "rice_countries = pd.read_csv(\"rice_ countries.csv\")\n",
    "world_food_production = pd.read_csv(\"world_food_production.csv\")"
   ],
   "metadata": {
    "collapsed": false,
    "ExecuteTime": {
     "end_time": "2024-01-02T21:47:24.893966Z",
     "start_time": "2024-01-02T21:47:24.883491Z"
    }
   },
   "id": "e8cf569c6e30e070",
   "execution_count": 4
  },
  {
   "cell_type": "code",
   "outputs": [
    {
     "data": {
      "text/plain": "    year  rice_production  wheat_production  vegetable_production\n0   1996            568.7             578.6                 542.7\n1   1997            577.1             596.2                 551.8\n2   1998            578.8             584.8                 572.8\n3   1999            611.2             585.0                 615.2\n4   2000            598.7             588.2                 686.6\n5   2001            600.2             592.0                 705.3\n6   2002            571.1             550.1                 727.3\n7   2003            586.9             634.9                 758.2\n8   2004            607.3             626.9                 768.5\n9   2005            634.2             614.5                 789.7\n10  2006            640.7             606.7                 820.3\n11  2007            654.0             606.7                 855.7\n12  2008            684.4             681.0                 889.5\n13  2009            680.3             684.2                 916.0\n14  2010            694.5             640.3                 938.8\n15  2011            719.5             697.7                 974.8\n16  2012            727.7             672.7                 999.8\n17  2013            731.8             711.0                1021.6\n18  2014            730.8             733.5                1056.0\n19  2015            732.0             737.0                1084.2\n20  2016            734.1             749.5                1087.8\n21  2017            747.4             771.7                1109.3\n22  2018            759.1             734.0                1111.0\n23  2019            749.2             765.8                1129.7\n24  2020            756.7             760.9                1148.4\n25  2021            787.3             770.9                1157.3",
      "text/html": "<div>\n<style scoped>\n    .dataframe tbody tr th:only-of-type {\n        vertical-align: middle;\n    }\n\n    .dataframe tbody tr th {\n        vertical-align: top;\n    }\n\n    .dataframe thead th {\n        text-align: right;\n    }\n</style>\n<table border=\"1\" class=\"dataframe\">\n  <thead>\n    <tr style=\"text-align: right;\">\n      <th></th>\n      <th>year</th>\n      <th>rice_production</th>\n      <th>wheat_production</th>\n      <th>vegetable_production</th>\n    </tr>\n  </thead>\n  <tbody>\n    <tr>\n      <th>0</th>\n      <td>1996</td>\n      <td>568.7</td>\n      <td>578.6</td>\n      <td>542.7</td>\n    </tr>\n    <tr>\n      <th>1</th>\n      <td>1997</td>\n      <td>577.1</td>\n      <td>596.2</td>\n      <td>551.8</td>\n    </tr>\n    <tr>\n      <th>2</th>\n      <td>1998</td>\n      <td>578.8</td>\n      <td>584.8</td>\n      <td>572.8</td>\n    </tr>\n    <tr>\n      <th>3</th>\n      <td>1999</td>\n      <td>611.2</td>\n      <td>585.0</td>\n      <td>615.2</td>\n    </tr>\n    <tr>\n      <th>4</th>\n      <td>2000</td>\n      <td>598.7</td>\n      <td>588.2</td>\n      <td>686.6</td>\n    </tr>\n    <tr>\n      <th>5</th>\n      <td>2001</td>\n      <td>600.2</td>\n      <td>592.0</td>\n      <td>705.3</td>\n    </tr>\n    <tr>\n      <th>6</th>\n      <td>2002</td>\n      <td>571.1</td>\n      <td>550.1</td>\n      <td>727.3</td>\n    </tr>\n    <tr>\n      <th>7</th>\n      <td>2003</td>\n      <td>586.9</td>\n      <td>634.9</td>\n      <td>758.2</td>\n    </tr>\n    <tr>\n      <th>8</th>\n      <td>2004</td>\n      <td>607.3</td>\n      <td>626.9</td>\n      <td>768.5</td>\n    </tr>\n    <tr>\n      <th>9</th>\n      <td>2005</td>\n      <td>634.2</td>\n      <td>614.5</td>\n      <td>789.7</td>\n    </tr>\n    <tr>\n      <th>10</th>\n      <td>2006</td>\n      <td>640.7</td>\n      <td>606.7</td>\n      <td>820.3</td>\n    </tr>\n    <tr>\n      <th>11</th>\n      <td>2007</td>\n      <td>654.0</td>\n      <td>606.7</td>\n      <td>855.7</td>\n    </tr>\n    <tr>\n      <th>12</th>\n      <td>2008</td>\n      <td>684.4</td>\n      <td>681.0</td>\n      <td>889.5</td>\n    </tr>\n    <tr>\n      <th>13</th>\n      <td>2009</td>\n      <td>680.3</td>\n      <td>684.2</td>\n      <td>916.0</td>\n    </tr>\n    <tr>\n      <th>14</th>\n      <td>2010</td>\n      <td>694.5</td>\n      <td>640.3</td>\n      <td>938.8</td>\n    </tr>\n    <tr>\n      <th>15</th>\n      <td>2011</td>\n      <td>719.5</td>\n      <td>697.7</td>\n      <td>974.8</td>\n    </tr>\n    <tr>\n      <th>16</th>\n      <td>2012</td>\n      <td>727.7</td>\n      <td>672.7</td>\n      <td>999.8</td>\n    </tr>\n    <tr>\n      <th>17</th>\n      <td>2013</td>\n      <td>731.8</td>\n      <td>711.0</td>\n      <td>1021.6</td>\n    </tr>\n    <tr>\n      <th>18</th>\n      <td>2014</td>\n      <td>730.8</td>\n      <td>733.5</td>\n      <td>1056.0</td>\n    </tr>\n    <tr>\n      <th>19</th>\n      <td>2015</td>\n      <td>732.0</td>\n      <td>737.0</td>\n      <td>1084.2</td>\n    </tr>\n    <tr>\n      <th>20</th>\n      <td>2016</td>\n      <td>734.1</td>\n      <td>749.5</td>\n      <td>1087.8</td>\n    </tr>\n    <tr>\n      <th>21</th>\n      <td>2017</td>\n      <td>747.4</td>\n      <td>771.7</td>\n      <td>1109.3</td>\n    </tr>\n    <tr>\n      <th>22</th>\n      <td>2018</td>\n      <td>759.1</td>\n      <td>734.0</td>\n      <td>1111.0</td>\n    </tr>\n    <tr>\n      <th>23</th>\n      <td>2019</td>\n      <td>749.2</td>\n      <td>765.8</td>\n      <td>1129.7</td>\n    </tr>\n    <tr>\n      <th>24</th>\n      <td>2020</td>\n      <td>756.7</td>\n      <td>760.9</td>\n      <td>1148.4</td>\n    </tr>\n    <tr>\n      <th>25</th>\n      <td>2021</td>\n      <td>787.3</td>\n      <td>770.9</td>\n      <td>1157.3</td>\n    </tr>\n  </tbody>\n</table>\n</div>"
     },
     "execution_count": 6,
     "metadata": {},
     "output_type": "execute_result"
    }
   ],
   "source": [
    "world_food_production"
   ],
   "metadata": {
    "collapsed": false,
    "ExecuteTime": {
     "end_time": "2024-01-02T21:48:48.998939Z",
     "start_time": "2024-01-02T21:48:48.988639Z"
    }
   },
   "id": "dc822dec8aea4f79",
   "execution_count": 6
  },
  {
   "cell_type": "code",
   "outputs": [],
   "source": [
    "X = np.reshape(world_food_production[\"year\"].values,(-1,1))\n",
    "X_test = np.array([2022,2023,2024,2025,2026,2027,2028,2029,2030])\n",
    "world_food_production_predicted = pd.DataFrame(columns=world_food_production.columns)\n",
    "world_food_production_predicted[\"year\"] = X_test\n",
    "for i in world_food_production.columns.values[1:]:\n",
    "    y = np.reshape(world_food_production[i].values,(-1,1))\n",
    "    linear_regr = LinearRegression()\n",
    "    linear_regr.fit(X,y)\n",
    "    y_pred = linear_regr.predict(X_test.reshape(-1,1))\n",
    "    world_food_production_predicted[i] = y_pred.round(1)"
   ],
   "metadata": {
    "collapsed": false,
    "ExecuteTime": {
     "end_time": "2024-01-02T22:00:00.483654Z",
     "start_time": "2024-01-02T22:00:00.471177Z"
    }
   },
   "id": "cfed0f31bf33df97",
   "execution_count": 13
  },
  {
   "cell_type": "code",
   "outputs": [],
   "source": [
    "cols = [\"year\"] + rice_countries[\"Country\"].values.tolist()\n",
    "rows = rice_countries.columns.values[1:]\n",
    "rice_countries_transposed = pd.DataFrame(columns=cols)\n",
    "rice_countries_transposed[\"year\"] = rows\n",
    "rice_countries_transposed[rice_countries[\"Country\"].values.tolist()] = rice_countries[rows].values.T"
   ],
   "metadata": {
    "collapsed": false,
    "ExecuteTime": {
     "end_time": "2024-01-02T22:18:58.461321Z",
     "start_time": "2024-01-02T22:18:58.450959Z"
    }
   },
   "id": "e54256cc2950ee5f",
   "execution_count": 32
  },
  {
   "cell_type": "code",
   "outputs": [],
   "source": [
    "X = rice_countries_transposed[\"year\"].values.reshape(-1,1)\n",
    "X_test = np.array([2022,2023,2024,2025,2026,2027,2028,2029,2030])\n",
    "rice_countries_predicted = pd.DataFrame(columns=rice_countries_transposed.columns)\n",
    "rice_countries_predicted[\"year\"] = X_test\n",
    "for i in rice_countries[\"Country\"].values.tolist():\n",
    "    y = np.reshape(rice_countries_transposed[i].values,(-1,1))\n",
    "    linear_regr = LinearRegression()\n",
    "    linear_regr.fit(X,y)\n",
    "    y_pred = linear_regr.predict(X_test.reshape(-1,1))\n",
    "    rice_countries_predicted[i] = y_pred.round(1)"
   ],
   "metadata": {
    "collapsed": false,
    "ExecuteTime": {
     "end_time": "2024-01-02T22:23:21.645456Z",
     "start_time": "2024-01-02T22:23:21.639531Z"
    }
   },
   "id": "101494fbbc8c82d0",
   "execution_count": 36
  },
  {
   "cell_type": "code",
   "outputs": [
    {
     "data": {
      "text/plain": "   year  rice_production\n0  2022            685.9\n1  2023            692.7\n2  2024            699.3\n3  2025            706.2\n4  2026            713.0\n5  2027            719.6\n6  2028            726.0\n7  2029            732.8\n8  2030            739.5",
      "text/html": "<div>\n<style scoped>\n    .dataframe tbody tr th:only-of-type {\n        vertical-align: middle;\n    }\n\n    .dataframe tbody tr th {\n        vertical-align: top;\n    }\n\n    .dataframe thead th {\n        text-align: right;\n    }\n</style>\n<table border=\"1\" class=\"dataframe\">\n  <thead>\n    <tr style=\"text-align: right;\">\n      <th></th>\n      <th>year</th>\n      <th>rice_production</th>\n    </tr>\n  </thead>\n  <tbody>\n    <tr>\n      <th>0</th>\n      <td>2022</td>\n      <td>685.9</td>\n    </tr>\n    <tr>\n      <th>1</th>\n      <td>2023</td>\n      <td>692.7</td>\n    </tr>\n    <tr>\n      <th>2</th>\n      <td>2024</td>\n      <td>699.3</td>\n    </tr>\n    <tr>\n      <th>3</th>\n      <td>2025</td>\n      <td>706.2</td>\n    </tr>\n    <tr>\n      <th>4</th>\n      <td>2026</td>\n      <td>713.0</td>\n    </tr>\n    <tr>\n      <th>5</th>\n      <td>2027</td>\n      <td>719.6</td>\n    </tr>\n    <tr>\n      <th>6</th>\n      <td>2028</td>\n      <td>726.0</td>\n    </tr>\n    <tr>\n      <th>7</th>\n      <td>2029</td>\n      <td>732.8</td>\n    </tr>\n    <tr>\n      <th>8</th>\n      <td>2030</td>\n      <td>739.5</td>\n    </tr>\n  </tbody>\n</table>\n</div>"
     },
     "execution_count": 41,
     "metadata": {},
     "output_type": "execute_result"
    }
   ],
   "source": [
    "df_1 = pd.DataFrame(columns=[\"year\",\"rice_production\"])\n",
    "df_1[\"rice_production\"] = rice_countries_predicted[rice_countries[\"Country\"].values.tolist()].sum(axis=1)\n",
    "df_1[\"year\"] = X_test\n",
    "df_1"
   ],
   "metadata": {
    "collapsed": false,
    "ExecuteTime": {
     "end_time": "2024-01-02T22:27:19.320348Z",
     "start_time": "2024-01-02T22:27:19.307235Z"
    }
   },
   "id": "621baa86dab1b2b1",
   "execution_count": 41
  },
  {
   "cell_type": "code",
   "outputs": [
    {
     "data": {
      "text/plain": "   year  rice_production\n0  2022            793.9\n1  2023            803.0\n2  2024            812.0\n3  2025            821.1\n4  2026            830.1\n5  2027            839.2\n6  2028            848.2\n7  2029            857.3\n8  2030            866.3",
      "text/html": "<div>\n<style scoped>\n    .dataframe tbody tr th:only-of-type {\n        vertical-align: middle;\n    }\n\n    .dataframe tbody tr th {\n        vertical-align: top;\n    }\n\n    .dataframe thead th {\n        text-align: right;\n    }\n</style>\n<table border=\"1\" class=\"dataframe\">\n  <thead>\n    <tr style=\"text-align: right;\">\n      <th></th>\n      <th>year</th>\n      <th>rice_production</th>\n    </tr>\n  </thead>\n  <tbody>\n    <tr>\n      <th>0</th>\n      <td>2022</td>\n      <td>793.9</td>\n    </tr>\n    <tr>\n      <th>1</th>\n      <td>2023</td>\n      <td>803.0</td>\n    </tr>\n    <tr>\n      <th>2</th>\n      <td>2024</td>\n      <td>812.0</td>\n    </tr>\n    <tr>\n      <th>3</th>\n      <td>2025</td>\n      <td>821.1</td>\n    </tr>\n    <tr>\n      <th>4</th>\n      <td>2026</td>\n      <td>830.1</td>\n    </tr>\n    <tr>\n      <th>5</th>\n      <td>2027</td>\n      <td>839.2</td>\n    </tr>\n    <tr>\n      <th>6</th>\n      <td>2028</td>\n      <td>848.2</td>\n    </tr>\n    <tr>\n      <th>7</th>\n      <td>2029</td>\n      <td>857.3</td>\n    </tr>\n    <tr>\n      <th>8</th>\n      <td>2030</td>\n      <td>866.3</td>\n    </tr>\n  </tbody>\n</table>\n</div>"
     },
     "execution_count": 42,
     "metadata": {},
     "output_type": "execute_result"
    }
   ],
   "source": [
    "df_2 = world_food_production_predicted[[\"year\",\"rice_production\"]]\n",
    "df_2"
   ],
   "metadata": {
    "collapsed": false,
    "ExecuteTime": {
     "end_time": "2024-01-02T22:27:23.739395Z",
     "start_time": "2024-01-02T22:27:23.731662Z"
    }
   },
   "id": "bc8616832583fc42",
   "execution_count": 42
  },
  {
   "cell_type": "code",
   "outputs": [
    {
     "data": {
      "text/plain": "   year  rice_production\n0  2022            108.0\n1  2023            110.3\n2  2024            112.7\n3  2025            114.9\n4  2026            117.1\n5  2027            119.6\n6  2028            122.2\n7  2029            124.5\n8  2030            126.8",
      "text/html": "<div>\n<style scoped>\n    .dataframe tbody tr th:only-of-type {\n        vertical-align: middle;\n    }\n\n    .dataframe tbody tr th {\n        vertical-align: top;\n    }\n\n    .dataframe thead th {\n        text-align: right;\n    }\n</style>\n<table border=\"1\" class=\"dataframe\">\n  <thead>\n    <tr style=\"text-align: right;\">\n      <th></th>\n      <th>year</th>\n      <th>rice_production</th>\n    </tr>\n  </thead>\n  <tbody>\n    <tr>\n      <th>0</th>\n      <td>2022</td>\n      <td>108.0</td>\n    </tr>\n    <tr>\n      <th>1</th>\n      <td>2023</td>\n      <td>110.3</td>\n    </tr>\n    <tr>\n      <th>2</th>\n      <td>2024</td>\n      <td>112.7</td>\n    </tr>\n    <tr>\n      <th>3</th>\n      <td>2025</td>\n      <td>114.9</td>\n    </tr>\n    <tr>\n      <th>4</th>\n      <td>2026</td>\n      <td>117.1</td>\n    </tr>\n    <tr>\n      <th>5</th>\n      <td>2027</td>\n      <td>119.6</td>\n    </tr>\n    <tr>\n      <th>6</th>\n      <td>2028</td>\n      <td>122.2</td>\n    </tr>\n    <tr>\n      <th>7</th>\n      <td>2029</td>\n      <td>124.5</td>\n    </tr>\n    <tr>\n      <th>8</th>\n      <td>2030</td>\n      <td>126.8</td>\n    </tr>\n  </tbody>\n</table>\n</div>"
     },
     "execution_count": 43,
     "metadata": {},
     "output_type": "execute_result"
    }
   ],
   "source": [
    "df_3 = df_2.copy()\n",
    "df_3[\"rice_production\"] = (df_1[\"rice_production\"] - df_2[\"rice_production\"]).abs()"
   ],
   "metadata": {
    "collapsed": false,
    "ExecuteTime": {
     "end_time": "2024-01-02T22:28:24.464212Z",
     "start_time": "2024-01-02T22:28:24.447639Z"
    }
   },
   "id": "ce4b4f569a75ffb1",
   "execution_count": 43
  },
  {
   "cell_type": "code",
   "outputs": [
    {
     "data": {
      "text/plain": "117.5"
     },
     "execution_count": 45,
     "metadata": {},
     "output_type": "execute_result"
    }
   ],
   "source": [
    "np.sqrt((df_3[\"rice_production\"] * df_3[\"rice_production\"]).sum() / len(df_3)).round(1)"
   ],
   "metadata": {
    "collapsed": false,
    "ExecuteTime": {
     "end_time": "2024-01-02T22:29:47.785264Z",
     "start_time": "2024-01-02T22:29:47.766493Z"
    }
   },
   "id": "43fcbf5b7616c421",
   "execution_count": 45
  },
  {
   "cell_type": "code",
   "outputs": [],
   "source": [],
   "metadata": {
    "collapsed": false
   },
   "id": "b1963f4d639e0c61"
  }
 ],
 "metadata": {
  "kernelspec": {
   "display_name": "Python 3",
   "language": "python",
   "name": "python3"
  },
  "language_info": {
   "codemirror_mode": {
    "name": "ipython",
    "version": 2
   },
   "file_extension": ".py",
   "mimetype": "text/x-python",
   "name": "python",
   "nbconvert_exporter": "python",
   "pygments_lexer": "ipython2",
   "version": "2.7.6"
  }
 },
 "nbformat": 4,
 "nbformat_minor": 5
}
