{
 "cells": [
  {
   "cell_type": "markdown",
   "source": [
    "# I’m Something of a Painter Myself\n",
    "\n",
    "### Use GANs to create art - will you be the next Monet?"
   ],
   "metadata": {
    "collapsed": false
   },
   "id": "60b1a09f7ae0ea4c"
  },
  {
   "cell_type": "markdown",
   "source": [
    "### Description\n",
    "\n",
    "*“Every artist dips his brush in his own soul, and paints his own nature into his pictures.”*\n",
    "\n",
    "-Henry Ward Beecher\n",
    "\n",
    "We recognize the works of artists through their unique style, such as color choices or brush strokes. The “je ne sais quoi” of artists like Claude Monet can now be imitated with algorithms thanks to generative adversarial networks (GANs). In this getting started competition, you will bring that style to your photos or recreate the style from scratch!\n",
    "\n",
    "Computer vision has advanced tremendously in recent years and GANs are now capable of mimicking objects in a very convincing way. But creating museum-worthy masterpieces is thought of to be, well, more art than science. So can (data) science, in the form of GANs, trick classifiers into believing you’ve created a true Monet? That’s the challenge you’ll take on!"
   ],
   "metadata": {
    "collapsed": false
   },
   "id": "9b7cb98b8f7ce90"
  },
  {
   "cell_type": "markdown",
   "source": [
    "### The Challenge:\n",
    "\n",
    "A GAN consists of at least two neural networks: a generator model and a discriminator model. The generator is a neural network that creates the images. For our competition, you should generate images in the style of Monet. This generator is trained using a discriminator.\n",
    "\n",
    "The two models will work against each other, with the generator trying to trick the discriminator, and the discriminator trying to accurately classify the real vs. generated images.\n",
    "\n",
    "Your task is to build a GAN that generates 7,000 to 10,000 Monet-style images."
   ],
   "metadata": {
    "collapsed": false
   },
   "id": "f9cd3e6f84d21677"
  },
  {
   "cell_type": "markdown",
   "source": [
    "### Dataset Description\n",
    "\n",
    "The dataset contains four directories: monet_tfrec, photo_tfrec, monet_jpg, and photo_jpg. The monet_tfrec and monet_jpg directories contain the same painting images, and the photo_tfrec and photo_jpg directories contain the same photos.\n",
    "\n",
    "We recommend using TFRecords as a Getting Started competition is a great way to become more familiar with a new data format, but JPEG images have also been provided.\n",
    "\n",
    "The monet directories contain Monet paintings. Use these images to train your model.\n",
    "\n",
    "The photo directories contain photos. Add Monet-style to these images and submit your generated jpeg images as a zip file. Other photos outside of this dataset can be transformed but keep your submission file limited to 10,000 images.\n",
    "\n",
    "Note: Monet-style art can be created from scratch using other GAN architectures like DCGAN. The submitted image files do not necessarily have to be transformed photos.\n",
    "\n",
    "Check out the CycleGAN dataset to experiment with the artistic style of other artists."
   ],
   "metadata": {
    "collapsed": false
   },
   "id": "b233f837c1312504"
  },
  {
   "cell_type": "markdown",
   "source": [
    "### Files\n",
    "\n",
    "monet_jpg - 300 Monet paintings sized 256x256 in JPEG format\n",
    "\n",
    "monet_tfrec - 300 Monet paintings sized 256x256 in TFRecord format\n",
    "\n",
    "photo_jpg - 7028 photos sized 256x256 in JPEG format\n",
    "\n",
    "photo_tfrec - 7028 photos sized 256x256 in TFRecord format\n"
   ],
   "metadata": {
    "collapsed": false
   },
   "id": "25a40eb8fdfdfa9d"
  },
  {
   "cell_type": "code",
   "execution_count": 1,
   "outputs": [],
   "source": [
    "import numpy as np\n",
    "import pandas as pd\n",
    "import matplotlib.pyplot as plt\n",
    "import seaborn as sns\n",
    "from sklearn.model_selection import *\n",
    "from sklearn.linear_model import *\n",
    "from math import *\n",
    "import tensorflow as tf\n",
    "import warnings\n",
    "warnings.filterwarnings(\"ignore\")\n",
    "import os"
   ],
   "metadata": {
    "collapsed": false,
    "ExecuteTime": {
     "end_time": "2023-08-27T23:17:29.010434Z",
     "start_time": "2023-08-27T23:17:24.895109Z"
    }
   },
   "id": "57db32f6a74362e1"
  },
  {
   "cell_type": "code",
   "execution_count": 2,
   "outputs": [],
   "source": [
    "files_monet_jpg = os.listdir(\"photos/monet_jpg\")\n",
    "files_photo_jpg = os.listdir(\"photos/photo_jpg\")\n",
    "files_monet_jpg_path = []\n",
    "files_photo_jpg_path = []\n",
    "for i in files_monet_jpg:\n",
    "    files_monet_jpg_path.append(\"photos/monet_jpg/\"+i)\n",
    "for i in files_photo_jpg:\n",
    "    files_photo_jpg_path.append(\"photos/photo_jpg/\"+i)"
   ],
   "metadata": {
    "collapsed": false,
    "ExecuteTime": {
     "end_time": "2023-08-27T23:17:30.974805Z",
     "start_time": "2023-08-27T23:17:30.954485Z"
    }
   },
   "id": "e9f56988aeda363a"
  },
  {
   "cell_type": "code",
   "execution_count": 37,
   "outputs": [],
   "source": [
    "X_train_size = int(len(files_photo_jpg_path)*0.70)\n",
    "X_valid_size = int(len(files_photo_jpg_path)*0.15)\n",
    "X_test_size = int(len(files_photo_jpg_path)*0.15)\n",
    "\n",
    "y_train_size = int(len(files_monet_jpg_path)*0.70)\n",
    "y_valid_size = int(len(files_monet_jpg_path)*0.15)\n",
    "y_test_size = int(len(files_monet_jpg_path)*0.15)"
   ],
   "metadata": {
    "collapsed": false,
    "ExecuteTime": {
     "end_time": "2023-08-27T23:52:42.553334Z",
     "start_time": "2023-08-27T23:52:42.548506Z"
    }
   },
   "id": "542b3aafbd4cd5c9"
  },
  {
   "cell_type": "code",
   "execution_count": 38,
   "outputs": [],
   "source": [
    "train_photo_jpg = files_photo_jpg_path[0:X_train_size]\n",
    "valid_photo_jpg = files_photo_jpg_path[X_train_size:X_train_size+X_valid_size]\n",
    "test_photo_jpg = files_photo_jpg_path[X_train_size+X_valid_size:]\n",
    "\n",
    "train_monet_jpg = files_monet_jpg_path[0:y_train_size]\n",
    "valid_monet_jpg = files_monet_jpg_path[y_train_size:y_train_size+y_valid_size]\n",
    "test_monet_jpg = files_monet_jpg_path[y_train_size+y_valid_size:]"
   ],
   "metadata": {
    "collapsed": false,
    "ExecuteTime": {
     "end_time": "2023-08-27T23:55:40.135004Z",
     "start_time": "2023-08-27T23:55:40.132541Z"
    }
   },
   "id": "d2a6d4c32913c07e"
  },
  {
   "cell_type": "code",
   "execution_count": 5,
   "outputs": [],
   "source": [
    "img = tf.keras.preprocessing.image.load_img(path=\"photos/monet_jpg/0a5075d42a.jpg\")"
   ],
   "metadata": {
    "collapsed": false,
    "ExecuteTime": {
     "end_time": "2023-08-27T23:17:36.186080Z",
     "start_time": "2023-08-27T23:17:36.160614Z"
    }
   },
   "id": "b3946166555866fe"
  },
  {
   "cell_type": "code",
   "execution_count": 6,
   "outputs": [],
   "source": [
    "tens = tf.convert_to_tensor(img)"
   ],
   "metadata": {
    "collapsed": false,
    "ExecuteTime": {
     "end_time": "2023-08-27T23:17:36.701359Z",
     "start_time": "2023-08-27T23:17:36.671405Z"
    }
   },
   "id": "a7b26192416c7f19"
  },
  {
   "cell_type": "code",
   "execution_count": 56,
   "outputs": [
    {
     "data": {
      "text/plain": "(4926, 256, 256, 3)"
     },
     "execution_count": 56,
     "metadata": {},
     "output_type": "execute_result"
    }
   ],
   "source": [
    "X_train = []\n",
    "X_valid = []\n",
    "X_test = []\n",
    "\n",
    "for i in train_photo_jpg:\n",
    "    tensor = tf.convert_to_tensor(img)\n",
    "    X_train.append(tensor)\n",
    "\n",
    "for i in valid_photo_jpg:\n",
    "    tensor = tf.convert_to_tensor(img)\n",
    "    X_valid.append(tensor)\n",
    "\n",
    "for i in test_photo_jpg:\n",
    "    tensor = tf.convert_to_tensor(img)\n",
    "    X_test.append(tensor)\n",
    "\n",
    "X_train = np.array(X_train)/255.0\n",
    "X_valid = np.array(X_valid)/255.0\n",
    "X_test = np.array(X_test)/255.0\n",
    "\n",
    "X_train.shape"
   ],
   "metadata": {
    "collapsed": false,
    "ExecuteTime": {
     "end_time": "2023-08-28T00:05:28.304503Z",
     "start_time": "2023-08-28T00:05:03.269585Z"
    }
   },
   "id": "a69d14c58404abc1"
  },
  {
   "cell_type": "code",
   "execution_count": 58,
   "outputs": [
    {
     "data": {
      "text/plain": "(210, 256, 256, 3)"
     },
     "execution_count": 58,
     "metadata": {},
     "output_type": "execute_result"
    }
   ],
   "source": [
    "y_train = []\n",
    "y_valid = []\n",
    "y_test = []\n",
    "\n",
    "for i in train_monet_jpg:\n",
    "    tensor = tf.convert_to_tensor(img)\n",
    "    y_train.append(tensor)\n",
    "\n",
    "for i in valid_monet_jpg:\n",
    "    tensor = tf.convert_to_tensor(img)\n",
    "    y_valid.append(tensor)\n",
    "\n",
    "for i in test_monet_jpg:\n",
    "    tensor = tf.convert_to_tensor(img)\n",
    "    y_test.append(tensor)\n",
    "\n",
    "y_train = np.array(y_train)/255.0\n",
    "y_valid = np.array(y_valid)/255.0\n",
    "y_test = np.array(y_test)/255.0\n",
    "\n",
    "y_train.shape"
   ],
   "metadata": {
    "collapsed": false,
    "ExecuteTime": {
     "end_time": "2023-08-28T00:05:43.535842Z",
     "start_time": "2023-08-28T00:05:43.341613Z"
    }
   },
   "id": "8d8da04c7bc31459"
  },
  {
   "cell_type": "code",
   "execution_count": 59,
   "outputs": [
    {
     "data": {
      "text/plain": "3"
     },
     "execution_count": 59,
     "metadata": {},
     "output_type": "execute_result"
    }
   ],
   "source": [
    "img_tensor = tf.convert_to_tensor(img)\n",
    "img_tensor.ndim"
   ],
   "metadata": {
    "collapsed": false,
    "ExecuteTime": {
     "end_time": "2023-08-28T00:05:46.461455Z",
     "start_time": "2023-08-28T00:05:46.458526Z"
    }
   },
   "id": "152a3192556e2f83"
  },
  {
   "cell_type": "code",
   "execution_count": 60,
   "outputs": [],
   "source": [
    "model = tf.keras.models.Sequential([\n",
    "    tf.keras.layers.Conv2D(filters=64,kernel_size=(3,3),activation=\"relu\",input_shape=(256,256,3)),\n",
    "    tf.keras.layers.MaxPooling2D(pool_size=(2,2)),\n",
    "    tf.keras.layers.Conv2D(filters=128,kernel_size=(3,3),activation=\"relu\"),\n",
    "    tf.keras.layers.MaxPooling2D(pool_size=(2,2)),\n",
    "    tf.keras.layers.Conv2D(filters=256,kernel_size=(3,3),activation=\"relu\"),\n",
    "    tf.keras.layers.MaxPooling2D(pool_size=(2,2)),\n",
    "    tf.keras.layers.Conv2D(filters=128,kernel_size=(3,3),activation=\"relu\"),\n",
    "    tf.keras.layers.MaxPooling2D(pool_size=(2,2)),\n",
    "    tf.keras.layers.Conv2D(filters=64,kernel_size=(3,3),activation=\"relu\"),\n",
    "    tf.keras.layers.MaxPooling2D(pool_size=(2,2)),\n",
    "    tf.keras.layers.Flatten(),\n",
    "    tf.keras.layers.Dense(units=32,activation=\"relu\"),\n",
    "    tf.keras.layers.Dense(units=8,activation=\"softmax\"),\n",
    "])"
   ],
   "metadata": {
    "collapsed": false,
    "ExecuteTime": {
     "end_time": "2023-08-28T00:05:47.241175Z",
     "start_time": "2023-08-28T00:05:46.961649Z"
    }
   },
   "id": "aa9026ec3894630e"
  },
  {
   "cell_type": "code",
   "execution_count": 61,
   "outputs": [
    {
     "name": "stdout",
     "output_type": "stream",
     "text": [
      "Model: \"sequential_9\"\n",
      "_________________________________________________________________\n",
      " Layer (type)                Output Shape              Param #   \n",
      "=================================================================\n",
      " conv2d_55 (Conv2D)          (None, 254, 254, 64)      1792      \n",
      "                                                                 \n",
      " max_pooling2d_55 (MaxPooli  (None, 127, 127, 64)      0         \n",
      " ng2D)                                                           \n",
      "                                                                 \n",
      " conv2d_56 (Conv2D)          (None, 125, 125, 128)     73856     \n",
      "                                                                 \n",
      " max_pooling2d_56 (MaxPooli  (None, 62, 62, 128)       0         \n",
      " ng2D)                                                           \n",
      "                                                                 \n",
      " conv2d_57 (Conv2D)          (None, 60, 60, 256)       295168    \n",
      "                                                                 \n",
      " max_pooling2d_57 (MaxPooli  (None, 30, 30, 256)       0         \n",
      " ng2D)                                                           \n",
      "                                                                 \n",
      " conv2d_58 (Conv2D)          (None, 28, 28, 128)       295040    \n",
      "                                                                 \n",
      " max_pooling2d_58 (MaxPooli  (None, 14, 14, 128)       0         \n",
      " ng2D)                                                           \n",
      "                                                                 \n",
      " conv2d_59 (Conv2D)          (None, 12, 12, 64)        73792     \n",
      "                                                                 \n",
      " max_pooling2d_59 (MaxPooli  (None, 6, 6, 64)          0         \n",
      " ng2D)                                                           \n",
      "                                                                 \n",
      " flatten_10 (Flatten)        (None, 2304)              0         \n",
      "                                                                 \n",
      " dense_10 (Dense)            (None, 32)                73760     \n",
      "                                                                 \n",
      " dense_11 (Dense)            (None, 8)                 264       \n",
      "                                                                 \n",
      "=================================================================\n",
      "Total params: 813672 (3.10 MB)\n",
      "Trainable params: 813672 (3.10 MB)\n",
      "Non-trainable params: 0 (0.00 Byte)\n",
      "_________________________________________________________________\n"
     ]
    }
   ],
   "source": [
    "model.summary()"
   ],
   "metadata": {
    "collapsed": false,
    "ExecuteTime": {
     "end_time": "2023-08-28T00:05:47.987040Z",
     "start_time": "2023-08-28T00:05:47.969929Z"
    }
   },
   "id": "4a19589236ea32dd"
  },
  {
   "cell_type": "code",
   "execution_count": null,
   "outputs": [],
   "source": [
    "model.compile(optimizer=\"adam\",loss=\"mean_squared_logarithmic_error\",metrics=[\"accuracy\"])\n",
    "model.fit(X_train,batch_size=(3,3),epochs=10)"
   ],
   "metadata": {
    "collapsed": false,
    "is_executing": true,
    "ExecuteTime": {
     "start_time": "2023-08-28T00:05:48.720616Z"
    }
   },
   "id": "e7fe74710dcbebc8"
  },
  {
   "cell_type": "code",
   "execution_count": null,
   "outputs": [],
   "source": [],
   "metadata": {
    "collapsed": false
   },
   "id": "e73de030e20849b6"
  }
 ],
 "metadata": {
  "kernelspec": {
   "display_name": "Python 3",
   "language": "python",
   "name": "python3"
  },
  "language_info": {
   "codemirror_mode": {
    "name": "ipython",
    "version": 2
   },
   "file_extension": ".py",
   "mimetype": "text/x-python",
   "name": "python",
   "nbconvert_exporter": "python",
   "pygments_lexer": "ipython2",
   "version": "2.7.6"
  }
 },
 "nbformat": 4,
 "nbformat_minor": 5
}
