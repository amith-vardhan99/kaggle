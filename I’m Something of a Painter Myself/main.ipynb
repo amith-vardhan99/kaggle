{
 "cells": [
  {
   "cell_type": "markdown",
   "source": [
    "# I’m Something of a Painter Myself\n",
    "\n",
    "### Use GANs to create art - will you be the next Monet?"
   ],
   "metadata": {
    "collapsed": false
   },
   "id": "60b1a09f7ae0ea4c"
  },
  {
   "cell_type": "markdown",
   "source": [
    "### Description\n",
    "\n",
    "*“Every artist dips his brush in his own soul, and paints his own nature into his pictures.”*\n",
    "\n",
    "-Henry Ward Beecher\n",
    "\n",
    "We recognize the works of artists through their unique style, such as color choices or brush strokes. The “je ne sais quoi” of artists like Claude Monet can now be imitated with algorithms thanks to generative adversarial networks (GANs). In this getting started competition, you will bring that style to your photos or recreate the style from scratch!\n",
    "\n",
    "Computer vision has advanced tremendously in recent years and GANs are now capable of mimicking objects in a very convincing way. But creating museum-worthy masterpieces is thought of to be, well, more art than science. So can (data) science, in the form of GANs, trick classifiers into believing you’ve created a true Monet? That’s the challenge you’ll take on!"
   ],
   "metadata": {
    "collapsed": false
   },
   "id": "9b7cb98b8f7ce90"
  },
  {
   "cell_type": "markdown",
   "source": [
    "### The Challenge:\n",
    "\n",
    "A GAN consists of at least two neural networks: a generator model and a discriminator model. The generator is a neural network that creates the images. For our competition, you should generate images in the style of Monet. This generator is trained using a discriminator.\n",
    "\n",
    "The two models will work against each other, with the generator trying to trick the discriminator, and the discriminator trying to accurately classify the real vs. generated images.\n",
    "\n",
    "Your task is to build a GAN that generates 7,000 to 10,000 Monet-style images."
   ],
   "metadata": {
    "collapsed": false
   },
   "id": "f9cd3e6f84d21677"
  },
  {
   "cell_type": "markdown",
   "source": [
    "### Dataset Description\n",
    "\n",
    "The dataset contains four directories: monet_tfrec, photo_tfrec, monet_jpg, and photo_jpg. The monet_tfrec and monet_jpg directories contain the same painting images, and the photo_tfrec and photo_jpg directories contain the same photos.\n",
    "\n",
    "We recommend using TFRecords as a Getting Started competition is a great way to become more familiar with a new data format, but JPEG images have also been provided.\n",
    "\n",
    "The monet directories contain Monet paintings. Use these images to train your model.\n",
    "\n",
    "The photo directories contain photos. Add Monet-style to these images and submit your generated jpeg images as a zip file. Other photos outside of this dataset can be transformed but keep your submission file limited to 10,000 images.\n",
    "\n",
    "Note: Monet-style art can be created from scratch using other GAN architectures like DCGAN. The submitted image files do not necessarily have to be transformed photos.\n",
    "\n",
    "Check out the CycleGAN dataset to experiment with the artistic style of other artists."
   ],
   "metadata": {
    "collapsed": false
   },
   "id": "b233f837c1312504"
  },
  {
   "cell_type": "markdown",
   "source": [
    "### Files\n",
    "\n",
    "monet_jpg - 300 Monet paintings sized 256x256 in JPEG format\n",
    "\n",
    "monet_tfrec - 300 Monet paintings sized 256x256 in TFRecord format\n",
    "\n",
    "photo_jpg - 7028 photos sized 256x256 in JPEG format\n",
    "\n",
    "photo_tfrec - 7028 photos sized 256x256 in TFRecord format\n"
   ],
   "metadata": {
    "collapsed": false
   },
   "id": "25a40eb8fdfdfa9d"
  },
  {
   "cell_type": "code",
   "execution_count": 1,
   "outputs": [],
   "source": [
    "import numpy as np\n",
    "import pandas as pd\n",
    "import matplotlib.pyplot as plt\n",
    "import seaborn as sns\n",
    "from sklearn.model_selection import *\n",
    "from sklearn.linear_model import *\n",
    "from math import *\n",
    "import tensorflow as tf\n",
    "import warnings\n",
    "warnings.filterwarnings(\"ignore\")\n",
    "import os"
   ],
   "metadata": {
    "collapsed": false,
    "ExecuteTime": {
     "end_time": "2023-08-28T01:25:33.614132Z",
     "start_time": "2023-08-28T01:25:29.747507Z"
    }
   },
   "id": "57db32f6a74362e1"
  },
  {
   "cell_type": "code",
   "execution_count": 2,
   "outputs": [],
   "source": [
    "files_monet_jpg = os.listdir(\"photos/monet_jpg\")\n",
    "files_photo_jpg = os.listdir(\"photos/photo_jpg\")\n",
    "files_monet_jpg_path = []\n",
    "files_photo_jpg_path = []\n",
    "for i in files_monet_jpg:\n",
    "    files_monet_jpg_path.append(\"photos/monet_jpg/\"+i)\n",
    "for i in files_photo_jpg:\n",
    "    files_photo_jpg_path.append(\"photos/photo_jpg/\"+i)"
   ],
   "metadata": {
    "collapsed": false,
    "ExecuteTime": {
     "end_time": "2023-08-28T01:25:34.699650Z",
     "start_time": "2023-08-28T01:25:34.684570Z"
    }
   },
   "id": "e9f56988aeda363a"
  },
  {
   "cell_type": "code",
   "execution_count": 3,
   "outputs": [],
   "source": [
    "X_train_size = int(len(files_photo_jpg_path)*0.70)\n",
    "X_valid_size = int(len(files_photo_jpg_path)*0.15)\n",
    "X_test_size = int(len(files_photo_jpg_path)*0.15)\n",
    "\n",
    "y_train_size = int(len(files_monet_jpg_path)*0.70)\n",
    "y_valid_size = int(len(files_monet_jpg_path)*0.15)\n",
    "y_test_size = int(len(files_monet_jpg_path)*0.15)"
   ],
   "metadata": {
    "collapsed": false,
    "ExecuteTime": {
     "end_time": "2023-08-28T01:25:35.140171Z",
     "start_time": "2023-08-28T01:25:35.135503Z"
    }
   },
   "id": "542b3aafbd4cd5c9"
  },
  {
   "cell_type": "code",
   "execution_count": 4,
   "outputs": [],
   "source": [
    "train_photo_jpg = files_photo_jpg_path[0:X_train_size]\n",
    "valid_photo_jpg = files_photo_jpg_path[X_train_size:X_train_size+X_valid_size]\n",
    "test_photo_jpg = files_photo_jpg_path[X_train_size+X_valid_size:]\n",
    "\n",
    "train_monet_jpg = files_monet_jpg_path[0:y_train_size]\n",
    "valid_monet_jpg = files_monet_jpg_path[y_train_size:y_train_size+y_valid_size]\n",
    "test_monet_jpg = files_monet_jpg_path[y_train_size+y_valid_size:]"
   ],
   "metadata": {
    "collapsed": false,
    "ExecuteTime": {
     "end_time": "2023-08-28T01:25:35.639458Z",
     "start_time": "2023-08-28T01:25:35.632408Z"
    }
   },
   "id": "d2a6d4c32913c07e"
  },
  {
   "cell_type": "code",
   "execution_count": 5,
   "outputs": [],
   "source": [
    "img = tf.keras.preprocessing.image.load_img(path=\"photos/monet_jpg/0a5075d42a.jpg\")"
   ],
   "metadata": {
    "collapsed": false,
    "ExecuteTime": {
     "end_time": "2023-08-28T01:25:36.089747Z",
     "start_time": "2023-08-28T01:25:36.066885Z"
    }
   },
   "id": "b3946166555866fe"
  },
  {
   "cell_type": "code",
   "execution_count": 6,
   "outputs": [],
   "source": [
    "tens = tf.convert_to_tensor(img)"
   ],
   "metadata": {
    "collapsed": false,
    "ExecuteTime": {
     "end_time": "2023-08-28T01:25:36.551732Z",
     "start_time": "2023-08-28T01:25:36.529781Z"
    }
   },
   "id": "a7b26192416c7f19"
  },
  {
   "cell_type": "code",
   "execution_count": 7,
   "outputs": [
    {
     "data": {
      "text/plain": "(4926, 256, 256, 3)"
     },
     "execution_count": 7,
     "metadata": {},
     "output_type": "execute_result"
    }
   ],
   "source": [
    "X_train = []\n",
    "X_valid = []\n",
    "X_test = []\n",
    "\n",
    "for i in train_photo_jpg:\n",
    "    img = tf.keras.preprocessing.image.load_img(path=i)\n",
    "    tensor = tf.convert_to_tensor(img)\n",
    "    X_train.append(tensor)\n",
    "\n",
    "for i in valid_photo_jpg:\n",
    "    img = tf.keras.preprocessing.image.load_img(path=i)\n",
    "    tensor = tf.convert_to_tensor(img)\n",
    "    X_valid.append(tensor)\n",
    "\n",
    "for i in test_photo_jpg:\n",
    "    img = tf.keras.preprocessing.image.load_img(path=i)\n",
    "    tensor = tf.convert_to_tensor(img)\n",
    "    X_test.append(tensor)\n",
    "\n",
    "X_train = np.array(X_train)/255.0\n",
    "X_valid = np.array(X_valid)/255.0\n",
    "X_test = np.array(X_test)/255.0\n",
    "\n",
    "X_train.shape"
   ],
   "metadata": {
    "collapsed": false,
    "ExecuteTime": {
     "end_time": "2023-08-28T01:26:06.013604Z",
     "start_time": "2023-08-28T01:25:36.867856Z"
    }
   },
   "id": "a69d14c58404abc1"
  },
  {
   "cell_type": "code",
   "execution_count": 8,
   "outputs": [
    {
     "data": {
      "text/plain": "(210, 256, 256, 3)"
     },
     "execution_count": 8,
     "metadata": {},
     "output_type": "execute_result"
    }
   ],
   "source": [
    "y_train = []\n",
    "y_valid = []\n",
    "y_test = []\n",
    "\n",
    "for i in train_monet_jpg:\n",
    "    img = tf.keras.preprocessing.image.load_img(path=i)\n",
    "    tensor = tf.convert_to_tensor(img)\n",
    "    y_train.append(tensor)\n",
    "\n",
    "for i in valid_monet_jpg:\n",
    "    img = tf.keras.preprocessing.image.load_img(path=i)\n",
    "    tensor = tf.convert_to_tensor(img)\n",
    "    y_valid.append(tensor)\n",
    "\n",
    "for i in test_monet_jpg:\n",
    "    img = tf.keras.preprocessing.image.load_img(path=i)\n",
    "    tensor = tf.convert_to_tensor(img)\n",
    "    y_test.append(tensor)\n",
    "\n",
    "y_train = np.array(y_train)/255.0\n",
    "y_valid = np.array(y_valid)/255.0\n",
    "y_test = np.array(y_test)/255.0\n",
    "\n",
    "y_train.shape"
   ],
   "metadata": {
    "collapsed": false,
    "ExecuteTime": {
     "end_time": "2023-08-28T01:26:06.604133Z",
     "start_time": "2023-08-28T01:26:06.024439Z"
    }
   },
   "id": "8d8da04c7bc31459"
  },
  {
   "cell_type": "code",
   "execution_count": 9,
   "outputs": [
    {
     "data": {
      "text/plain": "3"
     },
     "execution_count": 9,
     "metadata": {},
     "output_type": "execute_result"
    }
   ],
   "source": [
    "img_tensor = tf.convert_to_tensor(img)\n",
    "img_tensor.ndim"
   ],
   "metadata": {
    "collapsed": false,
    "ExecuteTime": {
     "end_time": "2023-08-28T01:26:30.776052Z",
     "start_time": "2023-08-28T01:26:30.760999Z"
    }
   },
   "id": "152a3192556e2f83"
  },
  {
   "cell_type": "code",
   "execution_count": 10,
   "outputs": [],
   "source": [
    "model = tf.keras.models.Sequential([\n",
    "    tf.keras.layers.Conv2D(filters=64,kernel_size=(3,3),activation=\"relu\",input_shape=(256,256,3)),\n",
    "    tf.keras.layers.MaxPooling2D(pool_size=(2,2)),\n",
    "    tf.keras.layers.Conv2D(filters=128,kernel_size=(3,3),activation=\"relu\"),\n",
    "    tf.keras.layers.MaxPooling2D(pool_size=(2,2)),\n",
    "    tf.keras.layers.Conv2D(filters=256,kernel_size=(3,3),activation=\"relu\"),\n",
    "    tf.keras.layers.MaxPooling2D(pool_size=(2,2)),\n",
    "    tf.keras.layers.Conv2D(filters=128,kernel_size=(3,3),activation=\"relu\"),\n",
    "    tf.keras.layers.MaxPooling2D(pool_size=(2,2)),\n",
    "    tf.keras.layers.Conv2D(filters=64,kernel_size=(3,3),activation=\"relu\"),\n",
    "    tf.keras.layers.MaxPooling2D(pool_size=(2,2)),\n",
    "    tf.keras.layers.Flatten(),\n",
    "    tf.keras.layers.Dense(units=32,activation=\"relu\"),\n",
    "    tf.keras.layers.Dense(units=8,activation=\"softmax\"),\n",
    "])"
   ],
   "metadata": {
    "collapsed": false,
    "ExecuteTime": {
     "end_time": "2023-08-28T01:26:32.075025Z",
     "start_time": "2023-08-28T01:26:31.570935Z"
    }
   },
   "id": "aa9026ec3894630e"
  },
  {
   "cell_type": "code",
   "execution_count": 11,
   "outputs": [
    {
     "name": "stdout",
     "output_type": "stream",
     "text": [
      "Model: \"sequential\"\n",
      "_________________________________________________________________\n",
      " Layer (type)                Output Shape              Param #   \n",
      "=================================================================\n",
      " conv2d (Conv2D)             (None, 254, 254, 64)      1792      \n",
      "                                                                 \n",
      " max_pooling2d (MaxPooling2  (None, 127, 127, 64)      0         \n",
      " D)                                                              \n",
      "                                                                 \n",
      " conv2d_1 (Conv2D)           (None, 125, 125, 128)     73856     \n",
      "                                                                 \n",
      " max_pooling2d_1 (MaxPoolin  (None, 62, 62, 128)       0         \n",
      " g2D)                                                            \n",
      "                                                                 \n",
      " conv2d_2 (Conv2D)           (None, 60, 60, 256)       295168    \n",
      "                                                                 \n",
      " max_pooling2d_2 (MaxPoolin  (None, 30, 30, 256)       0         \n",
      " g2D)                                                            \n",
      "                                                                 \n",
      " conv2d_3 (Conv2D)           (None, 28, 28, 128)       295040    \n",
      "                                                                 \n",
      " max_pooling2d_3 (MaxPoolin  (None, 14, 14, 128)       0         \n",
      " g2D)                                                            \n",
      "                                                                 \n",
      " conv2d_4 (Conv2D)           (None, 12, 12, 64)        73792     \n",
      "                                                                 \n",
      " max_pooling2d_4 (MaxPoolin  (None, 6, 6, 64)          0         \n",
      " g2D)                                                            \n",
      "                                                                 \n",
      " flatten (Flatten)           (None, 2304)              0         \n",
      "                                                                 \n",
      " dense (Dense)               (None, 32)                73760     \n",
      "                                                                 \n",
      " dense_1 (Dense)             (None, 8)                 264       \n",
      "                                                                 \n",
      "=================================================================\n",
      "Total params: 813672 (3.10 MB)\n",
      "Trainable params: 813672 (3.10 MB)\n",
      "Non-trainable params: 0 (0.00 Byte)\n",
      "_________________________________________________________________\n"
     ]
    }
   ],
   "source": [
    "model.summary()"
   ],
   "metadata": {
    "collapsed": false,
    "ExecuteTime": {
     "end_time": "2023-08-28T01:26:32.995031Z",
     "start_time": "2023-08-28T01:26:32.975776Z"
    }
   },
   "id": "4a19589236ea32dd"
  },
  {
   "cell_type": "code",
   "execution_count": 12,
   "outputs": [],
   "source": [
    "X_train = []\n",
    "for i in files_photo_jpg_path:\n",
    "    img = tf.keras.preprocessing.image.load_img(path=i)\n",
    "    tensor = tf.convert_to_tensor(img)\n",
    "    X_train.append(tensor)\n",
    "X_train = np.array(X_train)/255.0"
   ],
   "metadata": {
    "collapsed": false,
    "ExecuteTime": {
     "end_time": "2023-08-28T01:27:06.066036Z",
     "start_time": "2023-08-28T01:26:33.556010Z"
    }
   },
   "id": "e73de030e20849b6"
  },
  {
   "cell_type": "code",
   "execution_count": 13,
   "outputs": [],
   "source": [
    "y_train = []\n",
    "for i in files_monet_jpg_path:\n",
    "    img = tf.keras.preprocessing.image.load_img(path=i)\n",
    "    tensor = tf.convert_to_tensor(img)\n",
    "    y_train.append(tensor)\n",
    "y_train = np.array(y_train)/255.0"
   ],
   "metadata": {
    "collapsed": false,
    "ExecuteTime": {
     "end_time": "2023-08-28T01:27:18.647517Z",
     "start_time": "2023-08-28T01:27:18.060427Z"
    }
   },
   "id": "d23226a63a4234bc"
  },
  {
   "cell_type": "code",
   "execution_count": 14,
   "outputs": [
    {
     "data": {
      "text/plain": "11498.0"
     },
     "execution_count": 14,
     "metadata": {},
     "output_type": "execute_result"
    }
   ],
   "source": [
    "np.abs(np.round((X_train[0]-y_train[0]))).sum()"
   ],
   "metadata": {
    "collapsed": false,
    "ExecuteTime": {
     "end_time": "2023-08-28T01:27:19.858036Z",
     "start_time": "2023-08-28T01:27:19.844512Z"
    }
   },
   "id": "1b13add230b8f62"
  },
  {
   "cell_type": "code",
   "execution_count": null,
   "outputs": [],
   "source": [
    "p = []\n",
    "fin = []\n",
    "q = []\n",
    "maxi = []\n",
    "for i in X_train:\n",
    "    for j in y_train:\n",
    "        p.append(np.abs(i-j))\n",
    "        q.append(np.abs(i-j).sum())\n",
    "    maxi = max(q)\n",
    "    pos = q.index(maxi)\n",
    "    fin.append(p[pos])"
   ],
   "metadata": {
    "collapsed": false,
    "is_executing": true,
    "ExecuteTime": {
     "start_time": "2023-08-28T01:27:22.962468Z"
    }
   },
   "id": "4290b176b295acd6"
  },
  {
   "cell_type": "code",
   "execution_count": null,
   "outputs": [],
   "source": [],
   "metadata": {
    "collapsed": false
   },
   "id": "b10ad4bac60943c8"
  }
 ],
 "metadata": {
  "kernelspec": {
   "display_name": "Python 3",
   "language": "python",
   "name": "python3"
  },
  "language_info": {
   "codemirror_mode": {
    "name": "ipython",
    "version": 2
   },
   "file_extension": ".py",
   "mimetype": "text/x-python",
   "name": "python",
   "nbconvert_exporter": "python",
   "pygments_lexer": "ipython2",
   "version": "2.7.6"
  }
 },
 "nbformat": 4,
 "nbformat_minor": 5
}
