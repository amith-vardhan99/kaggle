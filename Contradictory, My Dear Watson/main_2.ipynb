{
 "cells": [
  {
   "cell_type": "code",
   "execution_count": 1,
   "id": "initial_id",
   "metadata": {
    "collapsed": true,
    "ExecuteTime": {
     "end_time": "2023-09-07T23:51:32.081564Z",
     "start_time": "2023-09-07T23:51:22.173164Z"
    }
   },
   "outputs": [],
   "source": [
    "import numpy as np\n",
    "import pandas as pd\n",
    "import matplotlib.pyplot as plt\n",
    "import seaborn as sns\n",
    "from sklearn.model_selection import *\n",
    "from sklearn.linear_model import *\n",
    "from math import *\n",
    "from nltk import *\n",
    "import warnings\n",
    "warnings.filterwarnings(\"ignore\")\n",
    "from deep_translator import *\n",
    "import tensorflow as tf\n",
    "import os\n",
    "import pathlib as pl\n",
    "from nltk.sentiment.vader import *\n",
    "from nltk.sentiment import SentimentIntensityAnalyzer\n",
    "from nltk.sentiment.util import *\n",
    "from textblob import TextBlob\n",
    "import nltk\n",
    "from transformers import pipeline"
   ]
  },
  {
   "cell_type": "code",
   "execution_count": 2,
   "outputs": [
    {
     "name": "stderr",
     "output_type": "stream",
     "text": [
      "[nltk_data] Downloading collection 'all'\n",
      "[nltk_data]    | \n",
      "[nltk_data]    | Downloading package abc to /Users/amith/nltk_data...\n",
      "[nltk_data]    |   Package abc is already up-to-date!\n",
      "[nltk_data]    | Downloading package alpino to\n",
      "[nltk_data]    |     /Users/amith/nltk_data...\n",
      "[nltk_data]    |   Package alpino is already up-to-date!\n",
      "[nltk_data]    | Downloading package averaged_perceptron_tagger to\n",
      "[nltk_data]    |     /Users/amith/nltk_data...\n",
      "[nltk_data]    |   Package averaged_perceptron_tagger is already up-\n",
      "[nltk_data]    |       to-date!\n",
      "[nltk_data]    | Downloading package averaged_perceptron_tagger_ru to\n",
      "[nltk_data]    |     /Users/amith/nltk_data...\n",
      "[nltk_data]    |   Package averaged_perceptron_tagger_ru is already\n",
      "[nltk_data]    |       up-to-date!\n",
      "[nltk_data]    | Downloading package basque_grammars to\n",
      "[nltk_data]    |     /Users/amith/nltk_data...\n",
      "[nltk_data]    |   Package basque_grammars is already up-to-date!\n",
      "[nltk_data]    | Downloading package bcp47 to\n",
      "[nltk_data]    |     /Users/amith/nltk_data...\n",
      "[nltk_data]    |   Package bcp47 is already up-to-date!\n",
      "[nltk_data]    | Downloading package biocreative_ppi to\n",
      "[nltk_data]    |     /Users/amith/nltk_data...\n",
      "[nltk_data]    |   Package biocreative_ppi is already up-to-date!\n",
      "[nltk_data]    | Downloading package bllip_wsj_no_aux to\n",
      "[nltk_data]    |     /Users/amith/nltk_data...\n",
      "[nltk_data]    |   Package bllip_wsj_no_aux is already up-to-date!\n",
      "[nltk_data]    | Downloading package book_grammars to\n",
      "[nltk_data]    |     /Users/amith/nltk_data...\n",
      "[nltk_data]    |   Package book_grammars is already up-to-date!\n",
      "[nltk_data]    | Downloading package brown to\n",
      "[nltk_data]    |     /Users/amith/nltk_data...\n",
      "[nltk_data]    |   Package brown is already up-to-date!\n",
      "[nltk_data]    | Downloading package brown_tei to\n",
      "[nltk_data]    |     /Users/amith/nltk_data...\n",
      "[nltk_data]    |   Package brown_tei is already up-to-date!\n",
      "[nltk_data]    | Downloading package cess_cat to\n",
      "[nltk_data]    |     /Users/amith/nltk_data...\n",
      "[nltk_data]    |   Package cess_cat is already up-to-date!\n",
      "[nltk_data]    | Downloading package cess_esp to\n",
      "[nltk_data]    |     /Users/amith/nltk_data...\n",
      "[nltk_data]    |   Package cess_esp is already up-to-date!\n",
      "[nltk_data]    | Downloading package chat80 to\n",
      "[nltk_data]    |     /Users/amith/nltk_data...\n",
      "[nltk_data]    |   Package chat80 is already up-to-date!\n",
      "[nltk_data]    | Downloading package city_database to\n",
      "[nltk_data]    |     /Users/amith/nltk_data...\n",
      "[nltk_data]    |   Package city_database is already up-to-date!\n",
      "[nltk_data]    | Downloading package cmudict to\n",
      "[nltk_data]    |     /Users/amith/nltk_data...\n",
      "[nltk_data]    |   Package cmudict is already up-to-date!\n",
      "[nltk_data]    | Downloading package comparative_sentences to\n",
      "[nltk_data]    |     /Users/amith/nltk_data...\n",
      "[nltk_data]    |   Package comparative_sentences is already up-to-\n",
      "[nltk_data]    |       date!\n",
      "[nltk_data]    | Downloading package comtrans to\n",
      "[nltk_data]    |     /Users/amith/nltk_data...\n",
      "[nltk_data]    |   Package comtrans is already up-to-date!\n",
      "[nltk_data]    | Downloading package conll2000 to\n",
      "[nltk_data]    |     /Users/amith/nltk_data...\n",
      "[nltk_data]    |   Package conll2000 is already up-to-date!\n",
      "[nltk_data]    | Downloading package conll2002 to\n",
      "[nltk_data]    |     /Users/amith/nltk_data...\n",
      "[nltk_data]    |   Package conll2002 is already up-to-date!\n",
      "[nltk_data]    | Downloading package conll2007 to\n",
      "[nltk_data]    |     /Users/amith/nltk_data...\n",
      "[nltk_data]    |   Package conll2007 is already up-to-date!\n",
      "[nltk_data]    | Downloading package crubadan to\n",
      "[nltk_data]    |     /Users/amith/nltk_data...\n",
      "[nltk_data]    |   Package crubadan is already up-to-date!\n",
      "[nltk_data]    | Downloading package dependency_treebank to\n",
      "[nltk_data]    |     /Users/amith/nltk_data...\n",
      "[nltk_data]    |   Package dependency_treebank is already up-to-date!\n",
      "[nltk_data]    | Downloading package dolch to\n",
      "[nltk_data]    |     /Users/amith/nltk_data...\n",
      "[nltk_data]    |   Package dolch is already up-to-date!\n",
      "[nltk_data]    | Downloading package europarl_raw to\n",
      "[nltk_data]    |     /Users/amith/nltk_data...\n",
      "[nltk_data]    |   Package europarl_raw is already up-to-date!\n",
      "[nltk_data]    | Downloading package extended_omw to\n",
      "[nltk_data]    |     /Users/amith/nltk_data...\n",
      "[nltk_data]    |   Package extended_omw is already up-to-date!\n",
      "[nltk_data]    | Downloading package floresta to\n",
      "[nltk_data]    |     /Users/amith/nltk_data...\n",
      "[nltk_data]    |   Package floresta is already up-to-date!\n",
      "[nltk_data]    | Downloading package framenet_v15 to\n",
      "[nltk_data]    |     /Users/amith/nltk_data...\n",
      "[nltk_data]    |   Package framenet_v15 is already up-to-date!\n",
      "[nltk_data]    | Downloading package framenet_v17 to\n",
      "[nltk_data]    |     /Users/amith/nltk_data...\n",
      "[nltk_data]    |   Package framenet_v17 is already up-to-date!\n",
      "[nltk_data]    | Downloading package gazetteers to\n",
      "[nltk_data]    |     /Users/amith/nltk_data...\n",
      "[nltk_data]    |   Package gazetteers is already up-to-date!\n",
      "[nltk_data]    | Downloading package genesis to\n",
      "[nltk_data]    |     /Users/amith/nltk_data...\n",
      "[nltk_data]    |   Package genesis is already up-to-date!\n",
      "[nltk_data]    | Downloading package gutenberg to\n",
      "[nltk_data]    |     /Users/amith/nltk_data...\n",
      "[nltk_data]    |   Package gutenberg is already up-to-date!\n",
      "[nltk_data]    | Downloading package ieer to /Users/amith/nltk_data...\n",
      "[nltk_data]    |   Package ieer is already up-to-date!\n",
      "[nltk_data]    | Downloading package inaugural to\n",
      "[nltk_data]    |     /Users/amith/nltk_data...\n",
      "[nltk_data]    |   Package inaugural is already up-to-date!\n",
      "[nltk_data]    | Downloading package indian to\n",
      "[nltk_data]    |     /Users/amith/nltk_data...\n",
      "[nltk_data]    |   Package indian is already up-to-date!\n",
      "[nltk_data]    | Downloading package jeita to\n",
      "[nltk_data]    |     /Users/amith/nltk_data...\n",
      "[nltk_data]    |   Package jeita is already up-to-date!\n",
      "[nltk_data]    | Downloading package kimmo to\n",
      "[nltk_data]    |     /Users/amith/nltk_data...\n",
      "[nltk_data]    |   Package kimmo is already up-to-date!\n",
      "[nltk_data]    | Downloading package knbc to /Users/amith/nltk_data...\n",
      "[nltk_data]    |   Package knbc is already up-to-date!\n",
      "[nltk_data]    | Downloading package large_grammars to\n",
      "[nltk_data]    |     /Users/amith/nltk_data...\n",
      "[nltk_data]    |   Package large_grammars is already up-to-date!\n",
      "[nltk_data]    | Downloading package lin_thesaurus to\n",
      "[nltk_data]    |     /Users/amith/nltk_data...\n",
      "[nltk_data]    |   Package lin_thesaurus is already up-to-date!\n",
      "[nltk_data]    | Downloading package mac_morpho to\n",
      "[nltk_data]    |     /Users/amith/nltk_data...\n",
      "[nltk_data]    |   Package mac_morpho is already up-to-date!\n",
      "[nltk_data]    | Downloading package machado to\n",
      "[nltk_data]    |     /Users/amith/nltk_data...\n",
      "[nltk_data]    |   Package machado is already up-to-date!\n",
      "[nltk_data]    | Downloading package masc_tagged to\n",
      "[nltk_data]    |     /Users/amith/nltk_data...\n",
      "[nltk_data]    |   Package masc_tagged is already up-to-date!\n",
      "[nltk_data]    | Downloading package maxent_ne_chunker to\n",
      "[nltk_data]    |     /Users/amith/nltk_data...\n",
      "[nltk_data]    |   Package maxent_ne_chunker is already up-to-date!\n",
      "[nltk_data]    | Downloading package maxent_treebank_pos_tagger to\n",
      "[nltk_data]    |     /Users/amith/nltk_data...\n",
      "[nltk_data]    |   Package maxent_treebank_pos_tagger is already up-\n",
      "[nltk_data]    |       to-date!\n",
      "[nltk_data]    | Downloading package moses_sample to\n",
      "[nltk_data]    |     /Users/amith/nltk_data...\n",
      "[nltk_data]    |   Package moses_sample is already up-to-date!\n",
      "[nltk_data]    | Downloading package movie_reviews to\n",
      "[nltk_data]    |     /Users/amith/nltk_data...\n",
      "[nltk_data]    |   Package movie_reviews is already up-to-date!\n",
      "[nltk_data]    | Downloading package mte_teip5 to\n",
      "[nltk_data]    |     /Users/amith/nltk_data...\n",
      "[nltk_data]    |   Package mte_teip5 is already up-to-date!\n",
      "[nltk_data]    | Downloading package mwa_ppdb to\n",
      "[nltk_data]    |     /Users/amith/nltk_data...\n",
      "[nltk_data]    |   Package mwa_ppdb is already up-to-date!\n",
      "[nltk_data]    | Downloading package names to\n",
      "[nltk_data]    |     /Users/amith/nltk_data...\n",
      "[nltk_data]    |   Package names is already up-to-date!\n",
      "[nltk_data]    | Downloading package nombank.1.0 to\n",
      "[nltk_data]    |     /Users/amith/nltk_data...\n",
      "[nltk_data]    |   Package nombank.1.0 is already up-to-date!\n",
      "[nltk_data]    | Downloading package nonbreaking_prefixes to\n",
      "[nltk_data]    |     /Users/amith/nltk_data...\n",
      "[nltk_data]    |   Package nonbreaking_prefixes is already up-to-date!\n",
      "[nltk_data]    | Downloading package nps_chat to\n",
      "[nltk_data]    |     /Users/amith/nltk_data...\n",
      "[nltk_data]    |   Package nps_chat is already up-to-date!\n",
      "[nltk_data]    | Downloading package omw to /Users/amith/nltk_data...\n",
      "[nltk_data]    |   Package omw is already up-to-date!\n",
      "[nltk_data]    | Downloading package omw-1.4 to\n",
      "[nltk_data]    |     /Users/amith/nltk_data...\n",
      "[nltk_data]    |   Package omw-1.4 is already up-to-date!\n",
      "[nltk_data]    | Downloading package opinion_lexicon to\n",
      "[nltk_data]    |     /Users/amith/nltk_data...\n",
      "[nltk_data]    |   Package opinion_lexicon is already up-to-date!\n",
      "[nltk_data]    | Downloading package panlex_swadesh to\n",
      "[nltk_data]    |     /Users/amith/nltk_data...\n",
      "[nltk_data]    |   Package panlex_swadesh is already up-to-date!\n",
      "[nltk_data]    | Downloading package paradigms to\n",
      "[nltk_data]    |     /Users/amith/nltk_data...\n",
      "[nltk_data]    |   Package paradigms is already up-to-date!\n",
      "[nltk_data]    | Downloading package pe08 to /Users/amith/nltk_data...\n",
      "[nltk_data]    |   Package pe08 is already up-to-date!\n",
      "[nltk_data]    | Downloading package perluniprops to\n",
      "[nltk_data]    |     /Users/amith/nltk_data...\n",
      "[nltk_data]    |   Package perluniprops is already up-to-date!\n",
      "[nltk_data]    | Downloading package pil to /Users/amith/nltk_data...\n",
      "[nltk_data]    |   Package pil is already up-to-date!\n",
      "[nltk_data]    | Downloading package pl196x to\n",
      "[nltk_data]    |     /Users/amith/nltk_data...\n",
      "[nltk_data]    |   Package pl196x is already up-to-date!\n",
      "[nltk_data]    | Downloading package porter_test to\n",
      "[nltk_data]    |     /Users/amith/nltk_data...\n",
      "[nltk_data]    |   Package porter_test is already up-to-date!\n",
      "[nltk_data]    | Downloading package ppattach to\n",
      "[nltk_data]    |     /Users/amith/nltk_data...\n",
      "[nltk_data]    |   Package ppattach is already up-to-date!\n",
      "[nltk_data]    | Downloading package problem_reports to\n",
      "[nltk_data]    |     /Users/amith/nltk_data...\n",
      "[nltk_data]    |   Package problem_reports is already up-to-date!\n",
      "[nltk_data]    | Downloading package product_reviews_1 to\n",
      "[nltk_data]    |     /Users/amith/nltk_data...\n",
      "[nltk_data]    |   Package product_reviews_1 is already up-to-date!\n",
      "[nltk_data]    | Downloading package product_reviews_2 to\n",
      "[nltk_data]    |     /Users/amith/nltk_data...\n",
      "[nltk_data]    |   Package product_reviews_2 is already up-to-date!\n",
      "[nltk_data]    | Downloading package propbank to\n",
      "[nltk_data]    |     /Users/amith/nltk_data...\n",
      "[nltk_data]    |   Package propbank is already up-to-date!\n",
      "[nltk_data]    | Downloading package pros_cons to\n",
      "[nltk_data]    |     /Users/amith/nltk_data...\n",
      "[nltk_data]    |   Package pros_cons is already up-to-date!\n",
      "[nltk_data]    | Downloading package ptb to /Users/amith/nltk_data...\n",
      "[nltk_data]    |   Package ptb is already up-to-date!\n",
      "[nltk_data]    | Downloading package punkt to\n",
      "[nltk_data]    |     /Users/amith/nltk_data...\n",
      "[nltk_data]    |   Package punkt is already up-to-date!\n",
      "[nltk_data]    | Downloading package qc to /Users/amith/nltk_data...\n",
      "[nltk_data]    |   Package qc is already up-to-date!\n",
      "[nltk_data]    | Downloading package reuters to\n",
      "[nltk_data]    |     /Users/amith/nltk_data...\n",
      "[nltk_data]    |   Package reuters is already up-to-date!\n",
      "[nltk_data]    | Downloading package rslp to /Users/amith/nltk_data...\n",
      "[nltk_data]    |   Package rslp is already up-to-date!\n",
      "[nltk_data]    | Downloading package rte to /Users/amith/nltk_data...\n",
      "[nltk_data]    |   Package rte is already up-to-date!\n",
      "[nltk_data]    | Downloading package sample_grammars to\n",
      "[nltk_data]    |     /Users/amith/nltk_data...\n",
      "[nltk_data]    |   Package sample_grammars is already up-to-date!\n",
      "[nltk_data]    | Downloading package semcor to\n",
      "[nltk_data]    |     /Users/amith/nltk_data...\n",
      "[nltk_data]    |   Package semcor is already up-to-date!\n",
      "[nltk_data]    | Downloading package senseval to\n",
      "[nltk_data]    |     /Users/amith/nltk_data...\n",
      "[nltk_data]    |   Package senseval is already up-to-date!\n",
      "[nltk_data]    | Downloading package sentence_polarity to\n",
      "[nltk_data]    |     /Users/amith/nltk_data...\n",
      "[nltk_data]    |   Package sentence_polarity is already up-to-date!\n",
      "[nltk_data]    | Downloading package sentiwordnet to\n",
      "[nltk_data]    |     /Users/amith/nltk_data...\n",
      "[nltk_data]    |   Package sentiwordnet is already up-to-date!\n",
      "[nltk_data]    | Downloading package shakespeare to\n",
      "[nltk_data]    |     /Users/amith/nltk_data...\n",
      "[nltk_data]    |   Package shakespeare is already up-to-date!\n",
      "[nltk_data]    | Downloading package sinica_treebank to\n",
      "[nltk_data]    |     /Users/amith/nltk_data...\n",
      "[nltk_data]    |   Package sinica_treebank is already up-to-date!\n",
      "[nltk_data]    | Downloading package smultron to\n",
      "[nltk_data]    |     /Users/amith/nltk_data...\n",
      "[nltk_data]    |   Package smultron is already up-to-date!\n",
      "[nltk_data]    | Downloading package snowball_data to\n",
      "[nltk_data]    |     /Users/amith/nltk_data...\n",
      "[nltk_data]    |   Package snowball_data is already up-to-date!\n",
      "[nltk_data]    | Downloading package spanish_grammars to\n",
      "[nltk_data]    |     /Users/amith/nltk_data...\n",
      "[nltk_data]    |   Package spanish_grammars is already up-to-date!\n",
      "[nltk_data]    | Downloading package state_union to\n",
      "[nltk_data]    |     /Users/amith/nltk_data...\n",
      "[nltk_data]    |   Package state_union is already up-to-date!\n",
      "[nltk_data]    | Downloading package stopwords to\n",
      "[nltk_data]    |     /Users/amith/nltk_data...\n",
      "[nltk_data]    |   Package stopwords is already up-to-date!\n",
      "[nltk_data]    | Downloading package subjectivity to\n",
      "[nltk_data]    |     /Users/amith/nltk_data...\n",
      "[nltk_data]    |   Package subjectivity is already up-to-date!\n",
      "[nltk_data]    | Downloading package swadesh to\n",
      "[nltk_data]    |     /Users/amith/nltk_data...\n",
      "[nltk_data]    |   Package swadesh is already up-to-date!\n",
      "[nltk_data]    | Downloading package switchboard to\n",
      "[nltk_data]    |     /Users/amith/nltk_data...\n",
      "[nltk_data]    |   Package switchboard is already up-to-date!\n",
      "[nltk_data]    | Downloading package tagsets to\n",
      "[nltk_data]    |     /Users/amith/nltk_data...\n",
      "[nltk_data]    |   Package tagsets is already up-to-date!\n",
      "[nltk_data]    | Downloading package timit to\n",
      "[nltk_data]    |     /Users/amith/nltk_data...\n",
      "[nltk_data]    |   Package timit is already up-to-date!\n",
      "[nltk_data]    | Downloading package toolbox to\n",
      "[nltk_data]    |     /Users/amith/nltk_data...\n",
      "[nltk_data]    |   Package toolbox is already up-to-date!\n",
      "[nltk_data]    | Downloading package treebank to\n",
      "[nltk_data]    |     /Users/amith/nltk_data...\n",
      "[nltk_data]    |   Package treebank is already up-to-date!\n",
      "[nltk_data]    | Downloading package twitter_samples to\n",
      "[nltk_data]    |     /Users/amith/nltk_data...\n",
      "[nltk_data]    |   Package twitter_samples is already up-to-date!\n",
      "[nltk_data]    | Downloading package udhr to /Users/amith/nltk_data...\n",
      "[nltk_data]    |   Package udhr is already up-to-date!\n",
      "[nltk_data]    | Downloading package udhr2 to\n",
      "[nltk_data]    |     /Users/amith/nltk_data...\n",
      "[nltk_data]    |   Package udhr2 is already up-to-date!\n",
      "[nltk_data]    | Downloading package unicode_samples to\n",
      "[nltk_data]    |     /Users/amith/nltk_data...\n",
      "[nltk_data]    |   Package unicode_samples is already up-to-date!\n",
      "[nltk_data]    | Downloading package universal_tagset to\n",
      "[nltk_data]    |     /Users/amith/nltk_data...\n",
      "[nltk_data]    |   Package universal_tagset is already up-to-date!\n",
      "[nltk_data]    | Downloading package universal_treebanks_v20 to\n",
      "[nltk_data]    |     /Users/amith/nltk_data...\n",
      "[nltk_data]    |   Package universal_treebanks_v20 is already up-to-\n",
      "[nltk_data]    |       date!\n",
      "[nltk_data]    | Downloading package vader_lexicon to\n",
      "[nltk_data]    |     /Users/amith/nltk_data...\n",
      "[nltk_data]    |   Package vader_lexicon is already up-to-date!\n",
      "[nltk_data]    | Downloading package verbnet to\n",
      "[nltk_data]    |     /Users/amith/nltk_data...\n",
      "[nltk_data]    |   Package verbnet is already up-to-date!\n",
      "[nltk_data]    | Downloading package verbnet3 to\n",
      "[nltk_data]    |     /Users/amith/nltk_data...\n",
      "[nltk_data]    |   Package verbnet3 is already up-to-date!\n",
      "[nltk_data]    | Downloading package webtext to\n",
      "[nltk_data]    |     /Users/amith/nltk_data...\n",
      "[nltk_data]    |   Package webtext is already up-to-date!\n",
      "[nltk_data]    | Downloading package wmt15_eval to\n",
      "[nltk_data]    |     /Users/amith/nltk_data...\n",
      "[nltk_data]    |   Package wmt15_eval is already up-to-date!\n",
      "[nltk_data]    | Downloading package word2vec_sample to\n",
      "[nltk_data]    |     /Users/amith/nltk_data...\n",
      "[nltk_data]    |   Package word2vec_sample is already up-to-date!\n",
      "[nltk_data]    | Downloading package wordnet to\n",
      "[nltk_data]    |     /Users/amith/nltk_data...\n",
      "[nltk_data]    |   Package wordnet is already up-to-date!\n",
      "[nltk_data]    | Downloading package wordnet2021 to\n",
      "[nltk_data]    |     /Users/amith/nltk_data...\n",
      "[nltk_data]    |   Package wordnet2021 is already up-to-date!\n",
      "[nltk_data]    | Downloading package wordnet2022 to\n",
      "[nltk_data]    |     /Users/amith/nltk_data...\n",
      "[nltk_data]    |   Package wordnet2022 is already up-to-date!\n",
      "[nltk_data]    | Downloading package wordnet31 to\n",
      "[nltk_data]    |     /Users/amith/nltk_data...\n",
      "[nltk_data]    |   Package wordnet31 is already up-to-date!\n",
      "[nltk_data]    | Downloading package wordnet_ic to\n",
      "[nltk_data]    |     /Users/amith/nltk_data...\n",
      "[nltk_data]    |   Package wordnet_ic is already up-to-date!\n",
      "[nltk_data]    | Downloading package words to\n",
      "[nltk_data]    |     /Users/amith/nltk_data...\n",
      "[nltk_data]    |   Package words is already up-to-date!\n",
      "[nltk_data]    | Downloading package ycoe to /Users/amith/nltk_data...\n",
      "[nltk_data]    |   Package ycoe is already up-to-date!\n",
      "[nltk_data]    | \n",
      "[nltk_data]  Done downloading collection all\n"
     ]
    },
    {
     "data": {
      "text/plain": "True"
     },
     "execution_count": 2,
     "metadata": {},
     "output_type": "execute_result"
    }
   ],
   "source": [
    "download(\"all\")"
   ],
   "metadata": {
    "collapsed": false,
    "ExecuteTime": {
     "end_time": "2023-09-07T23:51:41.251841Z",
     "start_time": "2023-09-07T23:51:38.452953Z"
    }
   },
   "id": "d51e6af009fee55a"
  },
  {
   "cell_type": "code",
   "execution_count": 3,
   "outputs": [],
   "source": [
    "df_train = pd.read_csv(\"train_translated.csv\")\n",
    "df_test = pd.read_csv(\"test_translated.csv\")"
   ],
   "metadata": {
    "collapsed": false,
    "ExecuteTime": {
     "end_time": "2023-09-07T23:51:42.282385Z",
     "start_time": "2023-09-07T23:51:42.217671Z"
    }
   },
   "id": "3a3cd4f29d31d4f2"
  },
  {
   "cell_type": "code",
   "execution_count": 4,
   "outputs": [
    {
     "data": {
      "text/plain": "           id                                            premise  \\\n0  5130fd2cb5  and these comments were considered in formulat...   \n1  5b72532a0b  These are issues that we wrestle with in pract...   \n2  3931fbe82a  Little things like that make a huge difference...   \n3  5622f0c60b  you know they can't really defend themselves l...   \n4  86aaa48b45  In role play as well. Opportunities to express...   \n\n                                          hypothesis lang_abv language  label  \n0  The rules developed in the interim were put to...       en  English      0  \n1  Practice groups are not permitted to work on t...       en  English      2  \n2              I was trying to accomplish something.       fr   French      0  \n3  They can't defend themselves because of their ...       en  English      0  \n4    Children can see how different ethnicities are.       th     Thai      1  ",
      "text/html": "<div>\n<style scoped>\n    .dataframe tbody tr th:only-of-type {\n        vertical-align: middle;\n    }\n\n    .dataframe tbody tr th {\n        vertical-align: top;\n    }\n\n    .dataframe thead th {\n        text-align: right;\n    }\n</style>\n<table border=\"1\" class=\"dataframe\">\n  <thead>\n    <tr style=\"text-align: right;\">\n      <th></th>\n      <th>id</th>\n      <th>premise</th>\n      <th>hypothesis</th>\n      <th>lang_abv</th>\n      <th>language</th>\n      <th>label</th>\n    </tr>\n  </thead>\n  <tbody>\n    <tr>\n      <th>0</th>\n      <td>5130fd2cb5</td>\n      <td>and these comments were considered in formulat...</td>\n      <td>The rules developed in the interim were put to...</td>\n      <td>en</td>\n      <td>English</td>\n      <td>0</td>\n    </tr>\n    <tr>\n      <th>1</th>\n      <td>5b72532a0b</td>\n      <td>These are issues that we wrestle with in pract...</td>\n      <td>Practice groups are not permitted to work on t...</td>\n      <td>en</td>\n      <td>English</td>\n      <td>2</td>\n    </tr>\n    <tr>\n      <th>2</th>\n      <td>3931fbe82a</td>\n      <td>Little things like that make a huge difference...</td>\n      <td>I was trying to accomplish something.</td>\n      <td>fr</td>\n      <td>French</td>\n      <td>0</td>\n    </tr>\n    <tr>\n      <th>3</th>\n      <td>5622f0c60b</td>\n      <td>you know they can't really defend themselves l...</td>\n      <td>They can't defend themselves because of their ...</td>\n      <td>en</td>\n      <td>English</td>\n      <td>0</td>\n    </tr>\n    <tr>\n      <th>4</th>\n      <td>86aaa48b45</td>\n      <td>In role play as well. Opportunities to express...</td>\n      <td>Children can see how different ethnicities are.</td>\n      <td>th</td>\n      <td>Thai</td>\n      <td>1</td>\n    </tr>\n  </tbody>\n</table>\n</div>"
     },
     "execution_count": 4,
     "metadata": {},
     "output_type": "execute_result"
    }
   ],
   "source": [
    "df_train.head()"
   ],
   "metadata": {
    "collapsed": false,
    "ExecuteTime": {
     "end_time": "2023-09-07T23:51:42.951225Z",
     "start_time": "2023-09-07T23:51:42.936825Z"
    }
   },
   "id": "ae8bbb4882b612fb"
  },
  {
   "cell_type": "code",
   "execution_count": 5,
   "outputs": [
    {
     "data": {
      "text/plain": "           id                                            premise  \\\n0  c6d58c3f69  The boxes will be marked with the names of Buc...   \n1  cefcc82292                 This is what we have been advised.   \n2  e98005252c    and this is largely due to mothers taking drugs   \n3  58518c10ba  Dialogue with representatives of the city and ...   \n4  c32b0d16df                               She was still there.   \n\n                                          hypothesis lang_abv language  \n0  There will be no memorial for Casey, one of th...       ur     Urdu  \n1  When told what to do, management failed to let...       ar   Arabic  \n2                                Mothers take drugs.       fr   French  \n3  The IMA works with other organizations because...       zh  Chinese  \n4      We thought she was gone, however, she stayed.       ru  Russian  ",
      "text/html": "<div>\n<style scoped>\n    .dataframe tbody tr th:only-of-type {\n        vertical-align: middle;\n    }\n\n    .dataframe tbody tr th {\n        vertical-align: top;\n    }\n\n    .dataframe thead th {\n        text-align: right;\n    }\n</style>\n<table border=\"1\" class=\"dataframe\">\n  <thead>\n    <tr style=\"text-align: right;\">\n      <th></th>\n      <th>id</th>\n      <th>premise</th>\n      <th>hypothesis</th>\n      <th>lang_abv</th>\n      <th>language</th>\n    </tr>\n  </thead>\n  <tbody>\n    <tr>\n      <th>0</th>\n      <td>c6d58c3f69</td>\n      <td>The boxes will be marked with the names of Buc...</td>\n      <td>There will be no memorial for Casey, one of th...</td>\n      <td>ur</td>\n      <td>Urdu</td>\n    </tr>\n    <tr>\n      <th>1</th>\n      <td>cefcc82292</td>\n      <td>This is what we have been advised.</td>\n      <td>When told what to do, management failed to let...</td>\n      <td>ar</td>\n      <td>Arabic</td>\n    </tr>\n    <tr>\n      <th>2</th>\n      <td>e98005252c</td>\n      <td>and this is largely due to mothers taking drugs</td>\n      <td>Mothers take drugs.</td>\n      <td>fr</td>\n      <td>French</td>\n    </tr>\n    <tr>\n      <th>3</th>\n      <td>58518c10ba</td>\n      <td>Dialogue with representatives of the city and ...</td>\n      <td>The IMA works with other organizations because...</td>\n      <td>zh</td>\n      <td>Chinese</td>\n    </tr>\n    <tr>\n      <th>4</th>\n      <td>c32b0d16df</td>\n      <td>She was still there.</td>\n      <td>We thought she was gone, however, she stayed.</td>\n      <td>ru</td>\n      <td>Russian</td>\n    </tr>\n  </tbody>\n</table>\n</div>"
     },
     "execution_count": 5,
     "metadata": {},
     "output_type": "execute_result"
    }
   ],
   "source": [
    "df_test.head()"
   ],
   "metadata": {
    "collapsed": false,
    "ExecuteTime": {
     "end_time": "2023-09-07T23:51:43.533165Z",
     "start_time": "2023-09-07T23:51:43.523377Z"
    }
   },
   "id": "5ae78227fc7df680"
  },
  {
   "cell_type": "code",
   "execution_count": 6,
   "outputs": [
    {
     "data": {
      "text/plain": "id            0\npremise       0\nhypothesis    0\nlang_abv      0\nlanguage      0\nlabel         0\ndtype: int64"
     },
     "execution_count": 6,
     "metadata": {},
     "output_type": "execute_result"
    }
   ],
   "source": [
    "df_train.isna().sum()"
   ],
   "metadata": {
    "collapsed": false,
    "ExecuteTime": {
     "end_time": "2023-09-07T23:51:44.115120Z",
     "start_time": "2023-09-07T23:51:44.104367Z"
    }
   },
   "id": "437339fd6f414b8"
  },
  {
   "cell_type": "code",
   "execution_count": 7,
   "outputs": [
    {
     "data": {
      "text/plain": "id            0\npremise       0\nhypothesis    0\nlang_abv      0\nlanguage      0\ndtype: int64"
     },
     "execution_count": 7,
     "metadata": {},
     "output_type": "execute_result"
    }
   ],
   "source": [
    "df_test.isna().sum()"
   ],
   "metadata": {
    "collapsed": false,
    "ExecuteTime": {
     "end_time": "2023-09-07T23:51:44.669176Z",
     "start_time": "2023-09-07T23:51:44.652766Z"
    }
   },
   "id": "d149c68664a9900f"
  },
  {
   "cell_type": "code",
   "execution_count": 8,
   "outputs": [],
   "source": [
    "df_train_new = df_train.drop([\"id\",\"lang_abv\",\"language\"],axis=1,inplace=False)\n",
    "df_test_new = df_test.drop([\"id\",\"lang_abv\",\"language\"],axis=1,inplace=False)"
   ],
   "metadata": {
    "collapsed": false,
    "ExecuteTime": {
     "end_time": "2023-09-07T23:51:45.007114Z",
     "start_time": "2023-09-07T23:51:44.997708Z"
    }
   },
   "id": "dd29c62aa5b9c9fc"
  },
  {
   "cell_type": "code",
   "execution_count": 9,
   "outputs": [
    {
     "data": {
      "text/plain": "                                                 premise  \\\n0      and these comments were considered in formulat...   \n1      These are issues that we wrestle with in pract...   \n2      Little things like that make a huge difference...   \n3      you know they can't really defend themselves l...   \n4      In role play as well. Opportunities to express...   \n...                                                  ...   \n12115  The results of even the most well designed epi...   \n12116  But there are two kinds of  the pleasure of do...   \n12117  The important thing is to realize that it's wa...   \n12118  At the west end is a detailed model of the who...   \n12119  For himself he chose Atat??rk, or Father of th...   \n\n                                              hypothesis  label  \n0      The rules developed in the interim were put to...      0  \n1      Practice groups are not permitted to work on t...      2  \n2                  I was trying to accomplish something.      0  \n3      They can't defend themselves because of their ...      0  \n4        Children can see how different ethnicities are.      1  \n...                                                  ...    ...  \n12115  All studies have the same amount of uncertaint...      2  \n12116  But there are two kinds of the pleasure of doi...      0  \n12117                   It cannot be moved, now or ever.      2  \n12118       The model temple complex is at the east end.      2  \n12119      Ataturk was the father of the Turkish nation.      0  \n\n[12120 rows x 3 columns]",
      "text/html": "<div>\n<style scoped>\n    .dataframe tbody tr th:only-of-type {\n        vertical-align: middle;\n    }\n\n    .dataframe tbody tr th {\n        vertical-align: top;\n    }\n\n    .dataframe thead th {\n        text-align: right;\n    }\n</style>\n<table border=\"1\" class=\"dataframe\">\n  <thead>\n    <tr style=\"text-align: right;\">\n      <th></th>\n      <th>premise</th>\n      <th>hypothesis</th>\n      <th>label</th>\n    </tr>\n  </thead>\n  <tbody>\n    <tr>\n      <th>0</th>\n      <td>and these comments were considered in formulat...</td>\n      <td>The rules developed in the interim were put to...</td>\n      <td>0</td>\n    </tr>\n    <tr>\n      <th>1</th>\n      <td>These are issues that we wrestle with in pract...</td>\n      <td>Practice groups are not permitted to work on t...</td>\n      <td>2</td>\n    </tr>\n    <tr>\n      <th>2</th>\n      <td>Little things like that make a huge difference...</td>\n      <td>I was trying to accomplish something.</td>\n      <td>0</td>\n    </tr>\n    <tr>\n      <th>3</th>\n      <td>you know they can't really defend themselves l...</td>\n      <td>They can't defend themselves because of their ...</td>\n      <td>0</td>\n    </tr>\n    <tr>\n      <th>4</th>\n      <td>In role play as well. Opportunities to express...</td>\n      <td>Children can see how different ethnicities are.</td>\n      <td>1</td>\n    </tr>\n    <tr>\n      <th>...</th>\n      <td>...</td>\n      <td>...</td>\n      <td>...</td>\n    </tr>\n    <tr>\n      <th>12115</th>\n      <td>The results of even the most well designed epi...</td>\n      <td>All studies have the same amount of uncertaint...</td>\n      <td>2</td>\n    </tr>\n    <tr>\n      <th>12116</th>\n      <td>But there are two kinds of  the pleasure of do...</td>\n      <td>But there are two kinds of the pleasure of doi...</td>\n      <td>0</td>\n    </tr>\n    <tr>\n      <th>12117</th>\n      <td>The important thing is to realize that it's wa...</td>\n      <td>It cannot be moved, now or ever.</td>\n      <td>2</td>\n    </tr>\n    <tr>\n      <th>12118</th>\n      <td>At the west end is a detailed model of the who...</td>\n      <td>The model temple complex is at the east end.</td>\n      <td>2</td>\n    </tr>\n    <tr>\n      <th>12119</th>\n      <td>For himself he chose Atat??rk, or Father of th...</td>\n      <td>Ataturk was the father of the Turkish nation.</td>\n      <td>0</td>\n    </tr>\n  </tbody>\n</table>\n<p>12120 rows × 3 columns</p>\n</div>"
     },
     "execution_count": 9,
     "metadata": {},
     "output_type": "execute_result"
    }
   ],
   "source": [
    "df_train_new"
   ],
   "metadata": {
    "collapsed": false,
    "ExecuteTime": {
     "end_time": "2023-09-07T23:51:45.666537Z",
     "start_time": "2023-09-07T23:51:45.632843Z"
    }
   },
   "id": "12799f1693db3c49"
  },
  {
   "cell_type": "code",
   "execution_count": 18,
   "outputs": [],
   "source": [
    "sia = SentimentIntensityAnalyzer()\n",
    "y = lambda x: sia.polarity_scores(text=x)"
   ],
   "metadata": {
    "collapsed": false,
    "ExecuteTime": {
     "end_time": "2023-09-07T23:54:26.200218Z",
     "start_time": "2023-09-07T23:54:26.193876Z"
    }
   },
   "id": "7186e3ca9e979c6d"
  },
  {
   "cell_type": "code",
   "execution_count": 29,
   "outputs": [],
   "source": [
    "df_train_polar = df_train_new[\"label\"]\n",
    "df_test_polar = pd.DataFrame()"
   ],
   "metadata": {
    "collapsed": false,
    "ExecuteTime": {
     "end_time": "2023-09-07T23:57:56.320782Z",
     "start_time": "2023-09-07T23:57:56.318679Z"
    }
   },
   "id": "a78d07c4f99adde"
  },
  {
   "cell_type": "code",
   "execution_count": 31,
   "outputs": [
    {
     "data": {
      "text/plain": "[{'neg': 0.0, 'neu': 1.0, 'pos': 0.0, 'compound': 0.0},\n {'neg': 0.0, 'neu': 1.0, 'pos': 0.0, 'compound': 0.0},\n {'neg': 0.0, 'neu': 0.709, 'pos': 0.291, 'compound': 0.5456},\n {'neg': 0.0, 'neu': 0.751, 'pos': 0.249, 'compound': 0.6077},\n {'neg': 0.0, 'neu': 0.653, 'pos': 0.347, 'compound': 0.8807},\n {'neg': 0.0, 'neu': 1.0, 'pos': 0.0, 'compound': 0.0},\n {'neg': 0.076, 'neu': 0.756, 'pos': 0.169, 'compound': 0.4939},\n {'neg': 0.0, 'neu': 1.0, 'pos': 0.0, 'compound': 0.0},\n {'neg': 0.191, 'neu': 0.809, 'pos': 0.0, 'compound': -0.5499},\n {'neg': 0.0, 'neu': 1.0, 'pos': 0.0, 'compound': 0.0},\n {'neg': 0.0, 'neu': 1.0, 'pos': 0.0, 'compound': 0.0},\n {'neg': 0.231, 'neu': 0.385, 'pos': 0.385, 'compound': 0.296},\n {'neg': 0.0, 'neu': 1.0, 'pos': 0.0, 'compound': 0.0},\n {'neg': 0.0, 'neu': 0.794, 'pos': 0.206, 'compound': 0.6369},\n {'neg': 0.159, 'neu': 0.841, 'pos': 0.0, 'compound': -0.631},\n {'neg': 0.0, 'neu': 1.0, 'pos': 0.0, 'compound': 0.0},\n {'neg': 0.388, 'neu': 0.518, 'pos': 0.094, 'compound': -0.8437},\n {'neg': 0.0, 'neu': 1.0, 'pos': 0.0, 'compound': 0.0},\n {'neg': 0.099, 'neu': 0.901, 'pos': 0.0, 'compound': -0.5106},\n {'neg': 0.0, 'neu': 0.782, 'pos': 0.218, 'compound': 0.6486},\n {'neg': 0.086, 'neu': 0.824, 'pos': 0.09, 'compound': 0.0258},\n {'neg': 0.0, 'neu': 0.692, 'pos': 0.308, 'compound': 0.8658},\n {'neg': 0.0, 'neu': 1.0, 'pos': 0.0, 'compound': 0.0},\n {'neg': 0.0, 'neu': 0.769, 'pos': 0.231, 'compound': 0.34},\n {'neg': 0.0, 'neu': 0.954, 'pos': 0.046, 'compound': 0.128},\n {'neg': 0.0, 'neu': 1.0, 'pos': 0.0, 'compound': 0.0},\n {'neg': 0.0, 'neu': 1.0, 'pos': 0.0, 'compound': 0.0},\n {'neg': 0.0, 'neu': 1.0, 'pos': 0.0, 'compound': 0.0},\n {'neg': 0.103, 'neu': 0.897, 'pos': 0.0, 'compound': -0.34},\n {'neg': 0.0, 'neu': 1.0, 'pos': 0.0, 'compound': 0.0},\n {'neg': 0.0, 'neu': 0.928, 'pos': 0.072, 'compound': 0.1779},\n {'neg': 0.0, 'neu': 0.826, 'pos': 0.174, 'compound': 0.2263},\n {'neg': 0.0, 'neu': 0.577, 'pos': 0.423, 'compound': 0.5267},\n {'neg': 0.0, 'neu': 0.965, 'pos': 0.035, 'compound': 0.0387},\n {'neg': 0.109, 'neu': 0.891, 'pos': 0.0, 'compound': -0.4019},\n {'neg': 0.0, 'neu': 0.855, 'pos': 0.145, 'compound': 0.4391},\n {'neg': 0.0, 'neu': 1.0, 'pos': 0.0, 'compound': 0.0},\n {'neg': 0.0, 'neu': 0.881, 'pos': 0.119, 'compound': 0.2263},\n {'neg': 0.0, 'neu': 0.893, 'pos': 0.107, 'compound': 0.34},\n {'neg': 0.0, 'neu': 1.0, 'pos': 0.0, 'compound': 0.0},\n {'neg': 0.0, 'neu': 0.909, 'pos': 0.091, 'compound': 0.0772},\n {'neg': 0.0, 'neu': 1.0, 'pos': 0.0, 'compound': 0.0},\n {'neg': 0.0, 'neu': 1.0, 'pos': 0.0, 'compound': 0.0},\n {'neg': 0.0, 'neu': 0.654, 'pos': 0.346, 'compound': 0.5719},\n {'neg': 0.149, 'neu': 0.693, 'pos': 0.158, 'compound': 0.0516},\n {'neg': 0.0, 'neu': 1.0, 'pos': 0.0, 'compound': 0.0},\n {'neg': 0.351, 'neu': 0.649, 'pos': 0.0, 'compound': -0.4019},\n {'neg': 0.0, 'neu': 0.845, 'pos': 0.155, 'compound': 0.4101},\n {'neg': 0.22, 'neu': 0.714, 'pos': 0.065, 'compound': -0.5574},\n {'neg': 0.0, 'neu': 1.0, 'pos': 0.0, 'compound': 0.0},\n {'neg': 0.379, 'neu': 0.172, 'pos': 0.448, 'compound': 0.1027},\n {'neg': 0.0, 'neu': 1.0, 'pos': 0.0, 'compound': 0.0},\n {'neg': 0.467, 'neu': 0.533, 'pos': 0.0, 'compound': -0.5423},\n {'neg': 0.251, 'neu': 0.749, 'pos': 0.0, 'compound': -0.7717},\n {'neg': 0.149, 'neu': 0.851, 'pos': 0.0, 'compound': -0.5423},\n {'neg': 0.0, 'neu': 1.0, 'pos': 0.0, 'compound': 0.0},\n {'neg': 0.138, 'neu': 0.862, 'pos': 0.0, 'compound': -0.4364},\n {'neg': 0.075, 'neu': 0.925, 'pos': 0.0, 'compound': -0.2911},\n {'neg': 0.211, 'neu': 0.789, 'pos': 0.0, 'compound': -0.1548},\n {'neg': 0.0, 'neu': 0.732, 'pos': 0.268, 'compound': 0.8084},\n {'neg': 0.0, 'neu': 0.806, 'pos': 0.194, 'compound': 0.34},\n {'neg': 0.485, 'neu': 0.515, 'pos': 0.0, 'compound': -0.765},\n {'neg': 0.0, 'neu': 1.0, 'pos': 0.0, 'compound': 0.0},\n {'neg': 0.0, 'neu': 1.0, 'pos': 0.0, 'compound': 0.0},\n {'neg': 0.229, 'neu': 0.637, 'pos': 0.134, 'compound': -0.3612},\n {'neg': 0.078, 'neu': 0.799, 'pos': 0.123, 'compound': 0.1596},\n {'neg': 0.0, 'neu': 1.0, 'pos': 0.0, 'compound': 0.0},\n {'neg': 0.0, 'neu': 0.812, 'pos': 0.188, 'compound': 0.7351},\n {'neg': 0.078, 'neu': 0.841, 'pos': 0.081, 'compound': 0.0258},\n {'neg': 0.0, 'neu': 0.85, 'pos': 0.15, 'compound': 0.6041},\n {'neg': 0.0, 'neu': 1.0, 'pos': 0.0, 'compound': 0.0},\n {'neg': 0.0, 'neu': 0.764, 'pos': 0.236, 'compound': 0.7506},\n {'neg': 0.0, 'neu': 0.556, 'pos': 0.444, 'compound': 0.8316},\n {'neg': 0.075, 'neu': 0.755, 'pos': 0.17, 'compound': 0.5017},\n {'neg': 0.236, 'neu': 0.694, 'pos': 0.069, 'compound': -0.5574},\n {'neg': 0.123, 'neu': 0.877, 'pos': 0.0, 'compound': -0.4215},\n {'neg': 0.0, 'neu': 0.868, 'pos': 0.132, 'compound': 0.4939},\n {'neg': 0.0, 'neu': 0.781, 'pos': 0.219, 'compound': 0.8442},\n {'neg': 0.0, 'neu': 0.633, 'pos': 0.367, 'compound': 0.4404},\n {'neg': 0.563, 'neu': 0.23, 'pos': 0.207, 'compound': -0.4767},\n {'neg': 0.0, 'neu': 0.896, 'pos': 0.104, 'compound': 0.296},\n {'neg': 0.0, 'neu': 0.83, 'pos': 0.17, 'compound': 0.7998},\n {'neg': 0.162, 'neu': 0.588, 'pos': 0.249, 'compound': 0.6249},\n {'neg': 0.0, 'neu': 0.737, 'pos': 0.263, 'compound': 0.6113},\n {'neg': 0.268, 'neu': 0.732, 'pos': 0.0, 'compound': -0.296},\n {'neg': 0.0, 'neu': 1.0, 'pos': 0.0, 'compound': 0.0},\n {'neg': 0.173, 'neu': 0.827, 'pos': 0.0, 'compound': -0.3182},\n {'neg': 0.0, 'neu': 0.888, 'pos': 0.112, 'compound': 0.2263},\n {'neg': 0.0, 'neu': 0.884, 'pos': 0.116, 'compound': 0.3612},\n {'neg': 0.0, 'neu': 0.75, 'pos': 0.25, 'compound': 0.6124},\n {'neg': 0.214, 'neu': 0.595, 'pos': 0.19, 'compound': -0.1531},\n {'neg': 0.0, 'neu': 0.838, 'pos': 0.162, 'compound': 0.4404},\n {'neg': 0.0, 'neu': 0.707, 'pos': 0.293, 'compound': 0.4404},\n {'neg': 0.333, 'neu': 0.667, 'pos': 0.0, 'compound': -0.5423},\n {'neg': 0.0, 'neu': 1.0, 'pos': 0.0, 'compound': 0.0},\n {'neg': 0.0, 'neu': 1.0, 'pos': 0.0, 'compound': 0.0},\n {'neg': 0.151, 'neu': 0.849, 'pos': 0.0, 'compound': -0.6249},\n {'neg': 0.0, 'neu': 1.0, 'pos': 0.0, 'compound': 0.0},\n {'neg': 0.14, 'neu': 0.86, 'pos': 0.0, 'compound': -0.5994},\n {'neg': 0.0, 'neu': 0.944, 'pos': 0.056, 'compound': 0.0772},\n {'neg': 0.132, 'neu': 0.747, 'pos': 0.121, 'compound': -0.0516},\n {'neg': 0.0, 'neu': 1.0, 'pos': 0.0, 'compound': 0.0},\n {'neg': 0.0, 'neu': 1.0, 'pos': 0.0, 'compound': 0.0},\n {'neg': 0.0, 'neu': 1.0, 'pos': 0.0, 'compound': 0.0},\n {'neg': 0.0, 'neu': 0.728, 'pos': 0.272, 'compound': 0.5187},\n {'neg': 0.0, 'neu': 0.792, 'pos': 0.208, 'compound': 0.6705},\n {'neg': 0.0, 'neu': 0.759, 'pos': 0.241, 'compound': 0.2263},\n {'neg': 0.18, 'neu': 0.644, 'pos': 0.176, 'compound': 0.2263},\n {'neg': 0.0, 'neu': 0.614, 'pos': 0.386, 'compound': 0.8927},\n {'neg': 0.0, 'neu': 1.0, 'pos': 0.0, 'compound': 0.0},\n {'neg': 0.0, 'neu': 0.764, 'pos': 0.236, 'compound': 0.7322},\n {'neg': 0.075, 'neu': 0.925, 'pos': 0.0, 'compound': -0.1779},\n {'neg': 0.0, 'neu': 1.0, 'pos': 0.0, 'compound': 0.0},\n {'neg': 0.0, 'neu': 0.859, 'pos': 0.141, 'compound': 0.4215},\n {'neg': 0.0, 'neu': 0.82, 'pos': 0.18, 'compound': 0.296},\n {'neg': 0.0, 'neu': 1.0, 'pos': 0.0, 'compound': 0.0},\n {'neg': 0.306, 'neu': 0.694, 'pos': 0.0, 'compound': -0.765},\n {'neg': 0.0, 'neu': 1.0, 'pos': 0.0, 'compound': 0.0},\n {'neg': 0.0, 'neu': 0.734, 'pos': 0.266, 'compound': 0.4404},\n {'neg': 0.11, 'neu': 0.714, 'pos': 0.175, 'compound': 0.25},\n {'neg': 0.0, 'neu': 0.734, 'pos': 0.266, 'compound': 0.7003},\n {'neg': 0.0, 'neu': 0.512, 'pos': 0.488, 'compound': 0.8885},\n {'neg': 0.131, 'neu': 0.772, 'pos': 0.097, 'compound': -0.2263},\n {'neg': 0.104, 'neu': 0.896, 'pos': 0.0, 'compound': -0.4404},\n {'neg': 0.0, 'neu': 1.0, 'pos': 0.0, 'compound': 0.0},\n {'neg': 0.0, 'neu': 0.846, 'pos': 0.154, 'compound': 0.25},\n {'neg': 0.0, 'neu': 0.878, 'pos': 0.122, 'compound': 0.3612},\n {'neg': 0.0, 'neu': 1.0, 'pos': 0.0, 'compound': 0.0},\n {'neg': 0.297, 'neu': 0.703, 'pos': 0.0, 'compound': -0.8271},\n {'neg': 0.0, 'neu': 1.0, 'pos': 0.0, 'compound': 0.0},\n {'neg': 0.0, 'neu': 0.66, 'pos': 0.34, 'compound': 0.4754},\n {'neg': 0.0, 'neu': 1.0, 'pos': 0.0, 'compound': 0.0},\n {'neg': 0.0, 'neu': 0.76, 'pos': 0.24, 'compound': 0.743},\n {'neg': 0.0, 'neu': 1.0, 'pos': 0.0, 'compound': 0.0},\n {'neg': 0.0, 'neu': 1.0, 'pos': 0.0, 'compound': 0.0},\n {'neg': 0.0, 'neu': 1.0, 'pos': 0.0, 'compound': 0.0},\n {'neg': 0.0, 'neu': 1.0, 'pos': 0.0, 'compound': 0.0},\n {'neg': 0.176, 'neu': 0.735, 'pos': 0.089, 'compound': -0.3098},\n {'neg': 0.0, 'neu': 0.653, 'pos': 0.347, 'compound': 0.7096},\n {'neg': 0.073, 'neu': 0.774, 'pos': 0.152, 'compound': 0.4466},\n {'neg': 0.0, 'neu': 0.682, 'pos': 0.318, 'compound': 0.6808},\n {'neg': 0.0, 'neu': 1.0, 'pos': 0.0, 'compound': 0.0},\n {'neg': 0.057, 'neu': 0.835, 'pos': 0.108, 'compound': 0.2732},\n {'neg': 0.0, 'neu': 1.0, 'pos': 0.0, 'compound': 0.0},\n {'neg': 0.082, 'neu': 0.918, 'pos': 0.0, 'compound': -0.1779},\n {'neg': 0.0, 'neu': 0.827, 'pos': 0.173, 'compound': 0.3182},\n {'neg': 0.0, 'neu': 0.596, 'pos': 0.404, 'compound': 0.9485},\n {'neg': 0.0, 'neu': 0.816, 'pos': 0.184, 'compound': 0.3818},\n {'neg': 0.126, 'neu': 0.874, 'pos': 0.0, 'compound': -0.0772},\n {'neg': 0.0, 'neu': 0.93, 'pos': 0.07, 'compound': 0.0516},\n {'neg': 0.0, 'neu': 0.875, 'pos': 0.125, 'compound': 0.5106},\n {'neg': 0.0, 'neu': 1.0, 'pos': 0.0, 'compound': 0.0},\n {'neg': 0.0, 'neu': 0.822, 'pos': 0.178, 'compound': 0.6369},\n {'neg': 0.124, 'neu': 0.876, 'pos': 0.0, 'compound': -0.34},\n {'neg': 0.0, 'neu': 0.78, 'pos': 0.22, 'compound': 0.7906},\n {'neg': 0.0, 'neu': 0.881, 'pos': 0.119, 'compound': 0.3182},\n {'neg': 0.171, 'neu': 0.829, 'pos': 0.0, 'compound': -0.5106},\n {'neg': 0.282, 'neu': 0.493, 'pos': 0.225, 'compound': -0.1531},\n {'neg': 0.158, 'neu': 0.582, 'pos': 0.26, 'compound': 0.4588},\n {'neg': 0.0, 'neu': 1.0, 'pos': 0.0, 'compound': 0.0},\n {'neg': 0.0, 'neu': 0.94, 'pos': 0.06, 'compound': 0.3182},\n {'neg': 0.232, 'neu': 0.623, 'pos': 0.145, 'compound': -0.3076},\n {'neg': 0.091, 'neu': 0.787, 'pos': 0.122, 'compound': 0.2023},\n {'neg': 0.0, 'neu': 1.0, 'pos': 0.0, 'compound': 0.0},\n {'neg': 0.0, 'neu': 0.872, 'pos': 0.128, 'compound': 0.3612},\n {'neg': 0.121, 'neu': 0.879, 'pos': 0.0, 'compound': -0.296},\n {'neg': 0.216, 'neu': 0.784, 'pos': 0.0, 'compound': -0.5267},\n {'neg': 0.0, 'neu': 0.244, 'pos': 0.756, 'compound': 0.7351},\n {'neg': 0.0, 'neu': 0.847, 'pos': 0.153, 'compound': 0.2023},\n {'neg': 0.0, 'neu': 1.0, 'pos': 0.0, 'compound': 0.0},\n {'neg': 0.0, 'neu': 1.0, 'pos': 0.0, 'compound': 0.0},\n {'neg': 0.0, 'neu': 1.0, 'pos': 0.0, 'compound': 0.0},\n {'neg': 0.0, 'neu': 0.851, 'pos': 0.149, 'compound': 0.2732},\n {'neg': 0.0, 'neu': 0.886, 'pos': 0.114, 'compound': 0.2023},\n {'neg': 0.0, 'neu': 0.873, 'pos': 0.127, 'compound': 0.1531},\n {'neg': 0.322, 'neu': 0.678, 'pos': 0.0, 'compound': -0.2263},\n {'neg': 0.252, 'neu': 0.646, 'pos': 0.102, 'compound': -0.5267},\n {'neg': 0.0, 'neu': 1.0, 'pos': 0.0, 'compound': 0.0},\n {'neg': 0.135, 'neu': 0.865, 'pos': 0.0, 'compound': -0.5994},\n {'neg': 0.0, 'neu': 1.0, 'pos': 0.0, 'compound': 0.0},\n {'neg': 0.0, 'neu': 1.0, 'pos': 0.0, 'compound': 0.0},\n {'neg': 0.268, 'neu': 0.732, 'pos': 0.0, 'compound': -0.5106},\n {'neg': 0.108, 'neu': 0.78, 'pos': 0.112, 'compound': 0.0557},\n {'neg': 0.0, 'neu': 1.0, 'pos': 0.0, 'compound': 0.0},\n {'neg': 0.0, 'neu': 0.804, 'pos': 0.196, 'compound': 0.296},\n {'neg': 0.0, 'neu': 0.902, 'pos': 0.098, 'compound': 0.0772},\n {'neg': 0.0, 'neu': 0.824, 'pos': 0.176, 'compound': 0.7184},\n {'neg': 0.048, 'neu': 0.788, 'pos': 0.164, 'compound': 0.7275},\n {'neg': 0.0, 'neu': 1.0, 'pos': 0.0, 'compound': 0.0},\n {'neg': 0.0, 'neu': 1.0, 'pos': 0.0, 'compound': 0.0},\n {'neg': 0.035, 'neu': 0.756, 'pos': 0.209, 'compound': 0.9052},\n {'neg': 0.0, 'neu': 1.0, 'pos': 0.0, 'compound': 0.0},\n {'neg': 0.0, 'neu': 0.833, 'pos': 0.167, 'compound': 0.296},\n {'neg': 0.0, 'neu': 1.0, 'pos': 0.0, 'compound': 0.0},\n {'neg': 0.0, 'neu': 1.0, 'pos': 0.0, 'compound': 0.0},\n {'neg': 0.0, 'neu': 1.0, 'pos': 0.0, 'compound': 0.0},\n {'neg': 0.0, 'neu': 1.0, 'pos': 0.0, 'compound': 0.0},\n {'neg': 0.0, 'neu': 1.0, 'pos': 0.0, 'compound': 0.0},\n {'neg': 0.0, 'neu': 0.679, 'pos': 0.321, 'compound': 0.8176},\n {'neg': 0.0, 'neu': 0.762, 'pos': 0.238, 'compound': 0.3612},\n {'neg': 0.0, 'neu': 0.636, 'pos': 0.364, 'compound': 0.6486},\n {'neg': 0.0, 'neu': 0.844, 'pos': 0.156, 'compound': 0.5849},\n {'neg': 0.0, 'neu': 0.803, 'pos': 0.197, 'compound': 0.6597},\n {'neg': 0.0, 'neu': 0.426, 'pos': 0.574, 'compound': 0.4019},\n {'neg': 0.0, 'neu': 1.0, 'pos': 0.0, 'compound': 0.0},\n {'neg': 0.0, 'neu': 1.0, 'pos': 0.0, 'compound': 0.0},\n {'neg': 0.035, 'neu': 0.757, 'pos': 0.208, 'compound': 0.8271},\n {'neg': 0.0, 'neu': 1.0, 'pos': 0.0, 'compound': 0.0},\n {'neg': 0.106, 'neu': 0.455, 'pos': 0.439, 'compound': 0.8316},\n {'neg': 0.0, 'neu': 0.821, 'pos': 0.179, 'compound': 0.3412},\n {'neg': 0.0, 'neu': 0.694, 'pos': 0.306, 'compound': 0.765},\n {'neg': 0.0, 'neu': 0.82, 'pos': 0.18, 'compound': 0.5267},\n {'neg': 0.301, 'neu': 0.699, 'pos': 0.0, 'compound': -0.7217},\n {'neg': 0.155, 'neu': 0.845, 'pos': 0.0, 'compound': -0.296},\n {'neg': 0.0, 'neu': 1.0, 'pos': 0.0, 'compound': 0.0},\n {'neg': 0.0, 'neu': 0.766, 'pos': 0.234, 'compound': 0.7219},\n {'neg': 0.0, 'neu': 0.872, 'pos': 0.128, 'compound': 0.3612},\n {'neg': 0.0, 'neu': 1.0, 'pos': 0.0, 'compound': 0.0},\n {'neg': 0.0, 'neu': 1.0, 'pos': 0.0, 'compound': 0.0},\n {'neg': 0.16, 'neu': 0.787, 'pos': 0.053, 'compound': -0.5591},\n {'neg': 0.107, 'neu': 0.893, 'pos': 0.0, 'compound': -0.4588},\n {'neg': 0.167, 'neu': 0.833, 'pos': 0.0, 'compound': -0.3818},\n {'neg': 0.0, 'neu': 0.723, 'pos': 0.277, 'compound': 0.8979},\n {'neg': 0.0, 'neu': 0.603, 'pos': 0.397, 'compound': 0.7841},\n {'neg': 0.0, 'neu': 1.0, 'pos': 0.0, 'compound': 0.0},\n {'neg': 0.0, 'neu': 1.0, 'pos': 0.0, 'compound': 0.0},\n {'neg': 0.153, 'neu': 0.847, 'pos': 0.0, 'compound': -0.5023},\n {'neg': 0.0, 'neu': 0.805, 'pos': 0.195, 'compound': 0.4404},\n {'neg': 0.0, 'neu': 1.0, 'pos': 0.0, 'compound': 0.0},\n {'neg': 0.0, 'neu': 0.536, 'pos': 0.464, 'compound': 0.6369},\n {'neg': 0.0, 'neu': 0.83, 'pos': 0.17, 'compound': 0.6249},\n {'neg': 0.0, 'neu': 1.0, 'pos': 0.0, 'compound': 0.0},\n {'neg': 0.0, 'neu': 1.0, 'pos': 0.0, 'compound': 0.0},\n {'neg': 0.0, 'neu': 1.0, 'pos': 0.0, 'compound': 0.0},\n {'neg': 0.0, 'neu': 1.0, 'pos': 0.0, 'compound': 0.0},\n {'neg': 0.0, 'neu': 1.0, 'pos': 0.0, 'compound': 0.0},\n {'neg': 0.0, 'neu': 0.898, 'pos': 0.102, 'compound': 0.3612},\n {'neg': 0.068, 'neu': 0.829, 'pos': 0.102, 'compound': 0.1779},\n {'neg': 0.0, 'neu': 1.0, 'pos': 0.0, 'compound': 0.0},\n {'neg': 0.0, 'neu': 0.773, 'pos': 0.227, 'compound': 0.6113},\n {'neg': 0.0, 'neu': 0.495, 'pos': 0.505, 'compound': 0.6249},\n {'neg': 0.0, 'neu': 1.0, 'pos': 0.0, 'compound': 0.0},\n {'neg': 0.066, 'neu': 0.833, 'pos': 0.101, 'compound': 0.2023},\n {'neg': 0.077, 'neu': 0.772, 'pos': 0.151, 'compound': 0.296},\n {'neg': 0.0, 'neu': 0.694, 'pos': 0.306, 'compound': 0.765},\n {'neg': 0.0, 'neu': 0.789, 'pos': 0.211, 'compound': 0.34},\n {'neg': 0.099, 'neu': 0.839, 'pos': 0.062, 'compound': -0.25},\n {'neg': 0.538, 'neu': 0.462, 'pos': 0.0, 'compound': -0.5413},\n {'neg': 0.0, 'neu': 0.755, 'pos': 0.245, 'compound': 0.6369},\n {'neg': 0.0, 'neu': 1.0, 'pos': 0.0, 'compound': 0.0},\n {'neg': 0.0, 'neu': 1.0, 'pos': 0.0, 'compound': 0.0},\n {'neg': 0.094, 'neu': 0.88, 'pos': 0.026, 'compound': -0.6124},\n {'neg': 0.0, 'neu': 1.0, 'pos': 0.0, 'compound': 0.0},\n {'neg': 0.0, 'neu': 0.69, 'pos': 0.31, 'compound': 0.4019},\n {'neg': 0.0, 'neu': 0.657, 'pos': 0.343, 'compound': 0.5719},\n {'neg': 0.272, 'neu': 0.57, 'pos': 0.158, 'compound': -0.1994},\n {'neg': 0.0, 'neu': 1.0, 'pos': 0.0, 'compound': 0.0},\n {'neg': 0.0, 'neu': 0.577, 'pos': 0.423, 'compound': 0.5267},\n {'neg': 0.0, 'neu': 0.745, 'pos': 0.255, 'compound': 0.6249},\n {'neg': 0.0, 'neu': 0.678, 'pos': 0.322, 'compound': 0.2263},\n {'neg': 0.0, 'neu': 0.802, 'pos': 0.198, 'compound': 0.4939},\n {'neg': 0.0, 'neu': 1.0, 'pos': 0.0, 'compound': 0.0},\n {'neg': 0.0, 'neu': 1.0, 'pos': 0.0, 'compound': 0.0},\n {'neg': 0.224, 'neu': 0.776, 'pos': 0.0, 'compound': -0.6178},\n {'neg': 0.0, 'neu': 0.86, 'pos': 0.14, 'compound': 0.4767},\n {'neg': 0.0, 'neu': 0.602, 'pos': 0.398, 'compound': 0.3182},\n {'neg': 0.423, 'neu': 0.577, 'pos': 0.0, 'compound': -0.5267},\n {'neg': 0.0, 'neu': 0.794, 'pos': 0.206, 'compound': 0.6369},\n {'neg': 0.0, 'neu': 1.0, 'pos': 0.0, 'compound': 0.0},\n {'neg': 0.0, 'neu': 0.772, 'pos': 0.228, 'compound': 0.8689},\n {'neg': 0.073, 'neu': 0.811, 'pos': 0.116, 'compound': 0.2617},\n {'neg': 0.149, 'neu': 0.693, 'pos': 0.158, 'compound': 0.0516},\n {'neg': 0.0, 'neu': 0.909, 'pos': 0.091, 'compound': 0.4019},\n {'neg': 0.0, 'neu': 0.824, 'pos': 0.176, 'compound': 0.5423},\n {'neg': 0.0, 'neu': 0.785, 'pos': 0.215, 'compound': 0.6249},\n {'neg': 0.15, 'neu': 0.766, 'pos': 0.084, 'compound': -0.5807},\n {'neg': 0.0, 'neu': 1.0, 'pos': 0.0, 'compound': 0.0},\n {'neg': 0.0, 'neu': 1.0, 'pos': 0.0, 'compound': 0.0},\n {'neg': 0.088, 'neu': 0.737, 'pos': 0.175, 'compound': 0.3612},\n {'neg': 0.0, 'neu': 1.0, 'pos': 0.0, 'compound': 0.0},\n {'neg': 0.0, 'neu': 1.0, 'pos': 0.0, 'compound': 0.0},\n {'neg': 0.0, 'neu': 0.714, 'pos': 0.286, 'compound': 0.4939},\n {'neg': 0.153, 'neu': 0.847, 'pos': 0.0, 'compound': -0.4019},\n {'neg': 0.0, 'neu': 1.0, 'pos': 0.0, 'compound': 0.0},\n {'neg': 0.0, 'neu': 0.839, 'pos': 0.161, 'compound': 0.2755},\n {'neg': 0.0, 'neu': 1.0, 'pos': 0.0, 'compound': 0.0},\n {'neg': 0.0, 'neu': 0.263, 'pos': 0.737, 'compound': 0.4215},\n {'neg': 0.0, 'neu': 1.0, 'pos': 0.0, 'compound': 0.0},\n {'neg': 0.0, 'neu': 1.0, 'pos': 0.0, 'compound': 0.0},\n {'neg': 0.18, 'neu': 0.82, 'pos': 0.0, 'compound': -0.296},\n {'neg': 0.0, 'neu': 0.514, 'pos': 0.486, 'compound': 0.2235},\n {'neg': 0.0, 'neu': 0.508, 'pos': 0.492, 'compound': 0.4404},\n {'neg': 0.0, 'neu': 0.787, 'pos': 0.213, 'compound': 0.4019},\n {'neg': 0.268, 'neu': 0.732, 'pos': 0.0, 'compound': -0.296},\n {'neg': 0.0, 'neu': 0.78, 'pos': 0.22, 'compound': 0.5423},\n {'neg': 0.0, 'neu': 1.0, 'pos': 0.0, 'compound': 0.0},\n {'neg': 0.0, 'neu': 1.0, 'pos': 0.0, 'compound': 0.0},\n {'neg': 0.17, 'neu': 0.83, 'pos': 0.0, 'compound': -0.6486},\n {'neg': 0.0, 'neu': 1.0, 'pos': 0.0, 'compound': 0.0},\n {'neg': 0.0, 'neu': 0.93, 'pos': 0.07, 'compound': 0.0516},\n {'neg': 0.122, 'neu': 0.775, 'pos': 0.103, 'compound': 0.128},\n {'neg': 0.0, 'neu': 0.889, 'pos': 0.111, 'compound': 0.1901},\n {'neg': 0.0, 'neu': 1.0, 'pos': 0.0, 'compound': 0.0},\n {'neg': 0.0, 'neu': 0.833, 'pos': 0.167, 'compound': 0.6597},\n {'neg': 0.0, 'neu': 0.866, 'pos': 0.134, 'compound': 0.4767},\n {'neg': 0.0, 'neu': 1.0, 'pos': 0.0, 'compound': 0.0},\n {'neg': 0.128, 'neu': 0.872, 'pos': 0.0, 'compound': -0.296},\n {'neg': 0.0, 'neu': 1.0, 'pos': 0.0, 'compound': 0.0},\n {'neg': 0.465, 'neu': 0.141, 'pos': 0.394, 'compound': -0.128},\n {'neg': 0.0, 'neu': 1.0, 'pos': 0.0, 'compound': 0.0},\n {'neg': 0.0, 'neu': 1.0, 'pos': 0.0, 'compound': 0.0},\n {'neg': 0.0, 'neu': 0.867, 'pos': 0.133, 'compound': 0.3182},\n {'neg': 0.0, 'neu': 1.0, 'pos': 0.0, 'compound': 0.0},\n {'neg': 0.0, 'neu': 0.772, 'pos': 0.228, 'compound': 0.6705},\n {'neg': 0.0, 'neu': 0.747, 'pos': 0.253, 'compound': 0.7269},\n {'neg': 0.121, 'neu': 0.676, 'pos': 0.203, 'compound': 0.4019},\n {'neg': 0.423, 'neu': 0.577, 'pos': 0.0, 'compound': -0.5267},\n {'neg': 0.0, 'neu': 0.92, 'pos': 0.08, 'compound': 0.3818},\n {'neg': 0.444, 'neu': 0.556, 'pos': 0.0, 'compound': -0.34},\n {'neg': 0.273, 'neu': 0.679, 'pos': 0.048, 'compound': -0.8611},\n {'neg': 0.0, 'neu': 1.0, 'pos': 0.0, 'compound': 0.0},\n {'neg': 0.0, 'neu': 1.0, 'pos': 0.0, 'compound': 0.0},\n {'neg': 0.0, 'neu': 1.0, 'pos': 0.0, 'compound': 0.0},\n {'neg': 0.039, 'neu': 0.923, 'pos': 0.039, 'compound': 0.0},\n {'neg': 0.0, 'neu': 1.0, 'pos': 0.0, 'compound': 0.0},\n {'neg': 0.13, 'neu': 0.87, 'pos': 0.0, 'compound': -0.4588},\n {'neg': 0.137, 'neu': 0.684, 'pos': 0.179, 'compound': 0.2006},\n {'neg': 0.0, 'neu': 0.732, 'pos': 0.268, 'compound': 0.3182},\n {'neg': 0.0, 'neu': 1.0, 'pos': 0.0, 'compound': 0.0},\n {'neg': 0.0, 'neu': 1.0, 'pos': 0.0, 'compound': 0.0},\n {'neg': 0.0, 'neu': 0.827, 'pos': 0.173, 'compound': 0.5267},\n {'neg': 0.0, 'neu': 1.0, 'pos': 0.0, 'compound': 0.0},\n {'neg': 0.0, 'neu': 0.936, 'pos': 0.064, 'compound': 0.4939},\n {'neg': 0.0, 'neu': 1.0, 'pos': 0.0, 'compound': 0.0},\n {'neg': 0.0, 'neu': 0.608, 'pos': 0.392, 'compound': 0.7003},\n {'neg': 0.0, 'neu': 1.0, 'pos': 0.0, 'compound': 0.0},\n {'neg': 0.0, 'neu': 0.612, 'pos': 0.388, 'compound': 0.2263},\n {'neg': 0.217, 'neu': 0.66, 'pos': 0.123, 'compound': -0.25},\n {'neg': 0.0, 'neu': 0.69, 'pos': 0.31, 'compound': 0.4019},\n {'neg': 0.0, 'neu': 0.636, 'pos': 0.364, 'compound': 0.4588},\n {'neg': 0.0, 'neu': 0.878, 'pos': 0.122, 'compound': 0.2023},\n {'neg': 0.122, 'neu': 0.878, 'pos': 0.0, 'compound': -0.3586},\n {'neg': 0.0, 'neu': 1.0, 'pos': 0.0, 'compound': 0.0},\n {'neg': 0.0, 'neu': 1.0, 'pos': 0.0, 'compound': 0.0},\n {'neg': 0.0, 'neu': 1.0, 'pos': 0.0, 'compound': 0.0},\n {'neg': 0.172, 'neu': 0.547, 'pos': 0.281, 'compound': 0.34},\n {'neg': 0.0, 'neu': 1.0, 'pos': 0.0, 'compound': 0.0},\n {'neg': 0.0, 'neu': 0.729, 'pos': 0.271, 'compound': 0.3818},\n {'neg': 0.0, 'neu': 0.579, 'pos': 0.421, 'compound': 0.8481},\n {'neg': 0.0, 'neu': 1.0, 'pos': 0.0, 'compound': 0.0},\n {'neg': 0.0, 'neu': 0.303, 'pos': 0.697, 'compound': 0.3182},\n {'neg': 0.0, 'neu': 0.407, 'pos': 0.593, 'compound': 0.743},\n {'neg': 0.0, 'neu': 0.748, 'pos': 0.252, 'compound': 0.6597},\n {'neg': 0.0, 'neu': 1.0, 'pos': 0.0, 'compound': 0.0},\n {'neg': 0.0, 'neu': 1.0, 'pos': 0.0, 'compound': 0.0},\n {'neg': 0.442, 'neu': 0.362, 'pos': 0.196, 'compound': -0.34},\n {'neg': 0.0, 'neu': 1.0, 'pos': 0.0, 'compound': 0.0},\n {'neg': 0.0, 'neu': 0.799, 'pos': 0.201, 'compound': 0.2516},\n {'neg': 0.0, 'neu': 0.86, 'pos': 0.14, 'compound': 0.4767},\n {'neg': 0.0, 'neu': 1.0, 'pos': 0.0, 'compound': 0.0},\n {'neg': 0.0, 'neu': 0.941, 'pos': 0.059, 'compound': 0.1139},\n {'neg': 0.0, 'neu': 0.897, 'pos': 0.103, 'compound': 0.4767},\n {'neg': 0.0, 'neu': 1.0, 'pos': 0.0, 'compound': 0.0},\n {'neg': 0.0, 'neu': 0.843, 'pos': 0.157, 'compound': 0.4215},\n {'neg': 0.0, 'neu': 1.0, 'pos': 0.0, 'compound': 0.0},\n {'neg': 0.0, 'neu': 1.0, 'pos': 0.0, 'compound': 0.0},\n {'neg': 0.0, 'neu': 1.0, 'pos': 0.0, 'compound': 0.0},\n {'neg': 0.062, 'neu': 0.777, 'pos': 0.161, 'compound': 0.4404},\n {'neg': 0.0, 'neu': 1.0, 'pos': 0.0, 'compound': 0.0},\n {'neg': 0.0, 'neu': 1.0, 'pos': 0.0, 'compound': 0.0},\n {'neg': 0.0, 'neu': 0.814, 'pos': 0.186, 'compound': 0.732},\n {'neg': 0.112, 'neu': 0.776, 'pos': 0.112, 'compound': 0.0},\n {'neg': 0.129, 'neu': 0.721, 'pos': 0.15, 'compound': 0.1779},\n {'neg': 0.0, 'neu': 0.777, 'pos': 0.223, 'compound': 0.3182},\n {'neg': 0.0, 'neu': 0.833, 'pos': 0.167, 'compound': 0.6597},\n {'neg': 0.0, 'neu': 1.0, 'pos': 0.0, 'compound': 0.0},\n {'neg': 0.0, 'neu': 1.0, 'pos': 0.0, 'compound': 0.0},\n {'neg': 0.0, 'neu': 1.0, 'pos': 0.0, 'compound': 0.0},\n {'neg': 0.0, 'neu': 1.0, 'pos': 0.0, 'compound': 0.0},\n {'neg': 0.0, 'neu': 1.0, 'pos': 0.0, 'compound': 0.0},\n {'neg': 0.0, 'neu': 1.0, 'pos': 0.0, 'compound': 0.0},\n {'neg': 0.0, 'neu': 1.0, 'pos': 0.0, 'compound': 0.0},\n {'neg': 0.0, 'neu': 1.0, 'pos': 0.0, 'compound': 0.0},\n {'neg': 0.0, 'neu': 0.916, 'pos': 0.084, 'compound': 0.2732},\n {'neg': 0.081, 'neu': 0.847, 'pos': 0.071, 'compound': -0.0772},\n {'neg': 0.0, 'neu': 1.0, 'pos': 0.0, 'compound': 0.0},\n {'neg': 0.318, 'neu': 0.682, 'pos': 0.0, 'compound': -0.6369},\n {'neg': 0.0, 'neu': 0.871, 'pos': 0.129, 'compound': 0.5719},\n {'neg': 0.0, 'neu': 0.667, 'pos': 0.333, 'compound': 0.7579},\n {'neg': 0.077, 'neu': 0.772, 'pos': 0.151, 'compound': 0.296},\n {'neg': 0.0, 'neu': 0.822, 'pos': 0.178, 'compound': 0.6597},\n {'neg': 0.0, 'neu': 1.0, 'pos': 0.0, 'compound': 0.0},\n {'neg': 0.0, 'neu': 0.895, 'pos': 0.105, 'compound': 0.4019},\n {'neg': 0.519, 'neu': 0.481, 'pos': 0.0, 'compound': -0.6597},\n {'neg': 0.082, 'neu': 0.701, 'pos': 0.216, 'compound': 0.5267},\n {'neg': 0.179, 'neu': 0.821, 'pos': 0.0, 'compound': -0.5423},\n {'neg': 0.0, 'neu': 0.843, 'pos': 0.157, 'compound': 0.3818},\n {'neg': 0.0, 'neu': 1.0, 'pos': 0.0, 'compound': 0.0},\n {'neg': 0.0, 'neu': 0.802, 'pos': 0.198, 'compound': 0.7096},\n {'neg': 0.134, 'neu': 0.866, 'pos': 0.0, 'compound': -0.4767},\n {'neg': 0.0, 'neu': 1.0, 'pos': 0.0, 'compound': 0.0},\n {'neg': 0.0, 'neu': 1.0, 'pos': 0.0, 'compound': 0.0},\n {'neg': 0.319, 'neu': 0.532, 'pos': 0.149, 'compound': -0.4951},\n {'neg': 0.0, 'neu': 1.0, 'pos': 0.0, 'compound': 0.0},\n {'neg': 0.0, 'neu': 0.755, 'pos': 0.245, 'compound': 0.796},\n {'neg': 0.0, 'neu': 0.61, 'pos': 0.39, 'compound': 0.4926},\n {'neg': 0.238, 'neu': 0.686, 'pos': 0.076, 'compound': -0.6705},\n {'neg': 0.0, 'neu': 0.912, 'pos': 0.088, 'compound': 0.34},\n {'neg': 0.091, 'neu': 0.909, 'pos': 0.0, 'compound': -0.25},\n {'neg': 0.35, 'neu': 0.65, 'pos': 0.0, 'compound': -0.5106},\n {'neg': 0.0, 'neu': 1.0, 'pos': 0.0, 'compound': 0.0},\n {'neg': 0.0, 'neu': 1.0, 'pos': 0.0, 'compound': 0.0},\n {'neg': 0.0, 'neu': 1.0, 'pos': 0.0, 'compound': 0.0},\n {'neg': 0.0, 'neu': 1.0, 'pos': 0.0, 'compound': 0.0},\n {'neg': 0.208, 'neu': 0.566, 'pos': 0.226, 'compound': 0.0498},\n {'neg': 0.0, 'neu': 0.652, 'pos': 0.348, 'compound': 0.296},\n {'neg': 0.0, 'neu': 1.0, 'pos': 0.0, 'compound': 0.0},\n {'neg': 0.0, 'neu': 0.783, 'pos': 0.217, 'compound': 0.3612},\n {'neg': 0.0, 'neu': 1.0, 'pos': 0.0, 'compound': 0.0},\n {'neg': 0.0, 'neu': 0.733, 'pos': 0.267, 'compound': 0.2924},\n {'neg': 0.0, 'neu': 0.924, 'pos': 0.076, 'compound': 0.1027},\n {'neg': 0.0, 'neu': 1.0, 'pos': 0.0, 'compound': 0.0},\n {'neg': 0.266, 'neu': 0.734, 'pos': 0.0, 'compound': -0.6908},\n {'neg': 0.0, 'neu': 0.788, 'pos': 0.212, 'compound': 0.3612},\n {'neg': 0.36, 'neu': 0.64, 'pos': 0.0, 'compound': -0.7351},\n {'neg': 0.0, 'neu': 0.909, 'pos': 0.091, 'compound': 0.5574},\n {'neg': 0.116, 'neu': 0.884, 'pos': 0.0, 'compound': -0.2411},\n {'neg': 0.0, 'neu': 0.735, 'pos': 0.265, 'compound': 0.6597},\n {'neg': 0.0, 'neu': 0.805, 'pos': 0.195, 'compound': 0.4404},\n {'neg': 0.37, 'neu': 0.519, 'pos': 0.111, 'compound': -0.5423},\n {'neg': 0.0, 'neu': 1.0, 'pos': 0.0, 'compound': 0.0},\n {'neg': 0.0, 'neu': 0.679, 'pos': 0.321, 'compound': 0.8402},\n {'neg': 0.0, 'neu': 1.0, 'pos': 0.0, 'compound': 0.0},\n {'neg': 0.08, 'neu': 0.799, 'pos': 0.122, 'compound': 0.296},\n {'neg': 0.259, 'neu': 0.741, 'pos': 0.0, 'compound': -0.6369},\n {'neg': 0.0, 'neu': 1.0, 'pos': 0.0, 'compound': 0.0},\n {'neg': 0.105, 'neu': 0.773, 'pos': 0.123, 'compound': 0.1027},\n {'neg': 0.0, 'neu': 0.802, 'pos': 0.198, 'compound': 0.6369},\n {'neg': 0.211, 'neu': 0.789, 'pos': 0.0, 'compound': -0.34},\n {'neg': 0.0, 'neu': 1.0, 'pos': 0.0, 'compound': 0.0},\n {'neg': 0.0, 'neu': 0.828, 'pos': 0.172, 'compound': 0.3612},\n {'neg': 0.0, 'neu': 1.0, 'pos': 0.0, 'compound': 0.0},\n {'neg': 0.0, 'neu': 0.924, 'pos': 0.076, 'compound': 0.2263},\n {'neg': 0.0, 'neu': 1.0, 'pos': 0.0, 'compound': 0.0},\n {'neg': 0.0, 'neu': 1.0, 'pos': 0.0, 'compound': 0.0},\n {'neg': 0.259, 'neu': 0.741, 'pos': 0.0, 'compound': -0.5423},\n {'neg': 0.0, 'neu': 0.769, 'pos': 0.231, 'compound': 0.34},\n {'neg': 0.0, 'neu': 1.0, 'pos': 0.0, 'compound': 0.0},\n {'neg': 0.0, 'neu': 1.0, 'pos': 0.0, 'compound': 0.0},\n {'neg': 0.171, 'neu': 0.829, 'pos': 0.0, 'compound': -0.4767},\n {'neg': 0.0, 'neu': 0.756, 'pos': 0.244, 'compound': 0.4404},\n {'neg': 0.0, 'neu': 1.0, 'pos': 0.0, 'compound': 0.0},\n {'neg': 0.314, 'neu': 0.686, 'pos': 0.0, 'compound': -0.4939},\n {'neg': 0.0, 'neu': 0.826, 'pos': 0.174, 'compound': 0.2263},\n {'neg': 0.322, 'neu': 0.678, 'pos': 0.0, 'compound': -0.2263},\n {'neg': 0.0, 'neu': 1.0, 'pos': 0.0, 'compound': 0.0},\n {'neg': 0.0, 'neu': 0.789, 'pos': 0.211, 'compound': 0.6124},\n {'neg': 0.085, 'neu': 0.728, 'pos': 0.187, 'compound': 0.4939},\n {'neg': 0.0, 'neu': 0.863, 'pos': 0.137, 'compound': 0.4019},\n {'neg': 0.0, 'neu': 0.874, 'pos': 0.126, 'compound': 0.0772},\n {'neg': 0.0, 'neu': 1.0, 'pos': 0.0, 'compound': 0.0},\n {'neg': 0.0, 'neu': 0.75, 'pos': 0.25, 'compound': 0.7906},\n {'neg': 0.0, 'neu': 0.891, 'pos': 0.109, 'compound': 0.296},\n {'neg': 0.0, 'neu': 0.643, 'pos': 0.357, 'compound': 0.7269},\n {'neg': 0.0, 'neu': 1.0, 'pos': 0.0, 'compound': 0.0},\n {'neg': 0.0, 'neu': 1.0, 'pos': 0.0, 'compound': 0.0},\n {'neg': 0.0, 'neu': 0.726, 'pos': 0.274, 'compound': 0.7506},\n {'neg': 0.412, 'neu': 0.588, 'pos': 0.0, 'compound': -0.5994},\n {'neg': 0.0, 'neu': 0.889, 'pos': 0.111, 'compound': 0.3612},\n {'neg': 0.131, 'neu': 0.636, 'pos': 0.233, 'compound': 0.235},\n {'neg': 0.0, 'neu': 1.0, 'pos': 0.0, 'compound': 0.0},\n {'neg': 0.0, 'neu': 1.0, 'pos': 0.0, 'compound': 0.0},\n {'neg': 0.0, 'neu': 0.588, 'pos': 0.412, 'compound': 0.6369},\n {'neg': 0.149, 'neu': 0.697, 'pos': 0.154, 'compound': 0.0258},\n {'neg': 0.0, 'neu': 0.88, 'pos': 0.12, 'compound': 0.507},\n {'neg': 0.082, 'neu': 0.701, 'pos': 0.216, 'compound': 0.5267},\n {'neg': 0.218, 'neu': 0.782, 'pos': 0.0, 'compound': -0.5994},\n {'neg': 0.141, 'neu': 0.859, 'pos': 0.0, 'compound': -0.6253},\n {'neg': 0.0, 'neu': 0.802, 'pos': 0.198, 'compound': 0.4939},\n {'neg': 0.306, 'neu': 0.694, 'pos': 0.0, 'compound': -0.296},\n {'neg': 0.0, 'neu': 1.0, 'pos': 0.0, 'compound': 0.0},\n {'neg': 0.0, 'neu': 1.0, 'pos': 0.0, 'compound': 0.0},\n {'neg': 0.0, 'neu': 0.814, 'pos': 0.186, 'compound': 0.1531},\n {'neg': 0.0, 'neu': 1.0, 'pos': 0.0, 'compound': 0.0},\n {'neg': 0.0, 'neu': 0.568, 'pos': 0.432, 'compound': 0.5859},\n {'neg': 0.19, 'neu': 0.81, 'pos': 0.0, 'compound': -0.3291},\n {'neg': 0.0, 'neu': 0.71, 'pos': 0.29, 'compound': 0.5994},\n {'neg': 0.0, 'neu': 0.934, 'pos': 0.066, 'compound': 0.2263},\n {'neg': 0.16, 'neu': 0.787, 'pos': 0.053, 'compound': -0.5591},\n {'neg': 0.0, 'neu': 1.0, 'pos': 0.0, 'compound': 0.0},\n {'neg': 0.0, 'neu': 1.0, 'pos': 0.0, 'compound': 0.0},\n {'neg': 0.0, 'neu': 1.0, 'pos': 0.0, 'compound': 0.0},\n {'neg': 0.0, 'neu': 1.0, 'pos': 0.0, 'compound': 0.0},\n {'neg': 0.0, 'neu': 0.778, 'pos': 0.222, 'compound': 0.25},\n {'neg': 0.0, 'neu': 0.952, 'pos': 0.048, 'compound': 0.4019},\n {'neg': 0.0, 'neu': 1.0, 'pos': 0.0, 'compound': 0.0},\n {'neg': 0.0, 'neu': 0.843, 'pos': 0.157, 'compound': 0.4215},\n {'neg': 0.0, 'neu': 0.822, 'pos': 0.178, 'compound': 0.7845},\n {'neg': 0.0, 'neu': 1.0, 'pos': 0.0, 'compound': 0.0},\n {'neg': 0.0, 'neu': 0.781, 'pos': 0.219, 'compound': 0.4215},\n {'neg': 0.0, 'neu': 1.0, 'pos': 0.0, 'compound': 0.0},\n {'neg': 0.0, 'neu': 1.0, 'pos': 0.0, 'compound': 0.0},\n {'neg': 0.0, 'neu': 0.469, 'pos': 0.531, 'compound': 0.8876},\n {'neg': 0.0, 'neu': 1.0, 'pos': 0.0, 'compound': 0.0},\n {'neg': 0.234, 'neu': 0.599, 'pos': 0.166, 'compound': -0.5423},\n {'neg': 0.0, 'neu': 1.0, 'pos': 0.0, 'compound': 0.0},\n {'neg': 0.0, 'neu': 1.0, 'pos': 0.0, 'compound': 0.0},\n {'neg': 0.404, 'neu': 0.596, 'pos': 0.0, 'compound': -0.47},\n {'neg': 0.11, 'neu': 0.809, 'pos': 0.081, 'compound': -0.2263},\n {'neg': 0.0, 'neu': 0.649, 'pos': 0.351, 'compound': 0.9477},\n {'neg': 0.144, 'neu': 0.856, 'pos': 0.0, 'compound': -0.2148},\n {'neg': 0.0, 'neu': 0.736, 'pos': 0.264, 'compound': 0.7269},\n {'neg': 0.0, 'neu': 0.653, 'pos': 0.347, 'compound': 0.4926},\n {'neg': 0.237, 'neu': 0.653, 'pos': 0.11, 'compound': -0.6908},\n {'neg': 0.0, 'neu': 1.0, 'pos': 0.0, 'compound': 0.0},\n {'neg': 0.0, 'neu': 1.0, 'pos': 0.0, 'compound': 0.0},\n {'neg': 0.151, 'neu': 0.849, 'pos': 0.0, 'compound': -0.1531},\n {'neg': 0.078, 'neu': 0.922, 'pos': 0.0, 'compound': -0.2755},\n {'neg': 0.0, 'neu': 0.686, 'pos': 0.314, 'compound': 0.4939},\n {'neg': 0.131, 'neu': 0.76, 'pos': 0.109, 'compound': 0.0754},\n {'neg': 0.0, 'neu': 1.0, 'pos': 0.0, 'compound': 0.0},\n {'neg': 0.125, 'neu': 0.766, 'pos': 0.109, 'compound': -0.1027},\n {'neg': 0.0, 'neu': 0.903, 'pos': 0.097, 'compound': 0.4019},\n {'neg': 0.0, 'neu': 0.816, 'pos': 0.184, 'compound': 0.4019},\n {'neg': 0.0, 'neu': 1.0, 'pos': 0.0, 'compound': 0.0},\n {'neg': 0.0, 'neu': 0.286, 'pos': 0.714, 'compound': 0.7579},\n {'neg': 0.0, 'neu': 1.0, 'pos': 0.0, 'compound': 0.0},\n {'neg': 0.128, 'neu': 0.596, 'pos': 0.276, 'compound': 0.7149},\n {'neg': 0.0, 'neu': 1.0, 'pos': 0.0, 'compound': 0.0},\n {'neg': 0.216, 'neu': 0.784, 'pos': 0.0, 'compound': -0.296},\n {'neg': 0.0, 'neu': 0.819, 'pos': 0.181, 'compound': 0.6369},\n {'neg': 0.0, 'neu': 1.0, 'pos': 0.0, 'compound': 0.0},\n {'neg': 0.069, 'neu': 0.931, 'pos': 0.0, 'compound': -0.1027},\n {'neg': 0.0, 'neu': 0.762, 'pos': 0.238, 'compound': 0.8979},\n {'neg': 0.0, 'neu': 1.0, 'pos': 0.0, 'compound': 0.0},\n {'neg': 0.0, 'neu': 0.925, 'pos': 0.075, 'compound': 0.0772},\n {'neg': 0.0, 'neu': 1.0, 'pos': 0.0, 'compound': 0.0},\n {'neg': 0.069, 'neu': 0.852, 'pos': 0.079, 'compound': 0.0747},\n {'neg': 0.0, 'neu': 1.0, 'pos': 0.0, 'compound': 0.0},\n {'neg': 0.072, 'neu': 0.735, 'pos': 0.193, 'compound': 0.8558},\n {'neg': 0.071, 'neu': 0.743, 'pos': 0.186, 'compound': 0.5267},\n {'neg': 0.076, 'neu': 0.924, 'pos': 0.0, 'compound': -0.2235},\n {'neg': 0.0, 'neu': 1.0, 'pos': 0.0, 'compound': 0.0},\n {'neg': 0.211, 'neu': 0.789, 'pos': 0.0, 'compound': -0.8176},\n {'neg': 0.0, 'neu': 1.0, 'pos': 0.0, 'compound': 0.0},\n {'neg': 0.0, 'neu': 1.0, 'pos': 0.0, 'compound': 0.0},\n {'neg': 0.049, 'neu': 0.668, 'pos': 0.283, 'compound': 0.9001},\n {'neg': 0.54, 'neu': 0.46, 'pos': 0.0, 'compound': -0.8555},\n {'neg': 0.0, 'neu': 1.0, 'pos': 0.0, 'compound': 0.0},\n {'neg': 0.0, 'neu': 0.893, 'pos': 0.107, 'compound': 0.5719},\n {'neg': 0.0, 'neu': 0.887, 'pos': 0.113, 'compound': 0.1655},\n {'neg': 0.241, 'neu': 0.759, 'pos': 0.0, 'compound': -0.6597},\n {'neg': 0.0, 'neu': 0.897, 'pos': 0.103, 'compound': 0.34},\n {'neg': 0.0, 'neu': 1.0, 'pos': 0.0, 'compound': 0.0},\n {'neg': 0.0, 'neu': 1.0, 'pos': 0.0, 'compound': 0.0},\n {'neg': 0.122, 'neu': 0.81, 'pos': 0.068, 'compound': -0.2628},\n {'neg': 0.0, 'neu': 1.0, 'pos': 0.0, 'compound': 0.0},\n {'neg': 0.0, 'neu': 0.763, 'pos': 0.237, 'compound': 0.4215},\n {'neg': 0.0, 'neu': 0.882, 'pos': 0.118, 'compound': 0.4215},\n {'neg': 0.205, 'neu': 0.682, 'pos': 0.114, 'compound': -0.25},\n {'neg': 0.0, 'neu': 0.886, 'pos': 0.114, 'compound': 0.5927},\n {'neg': 0.0, 'neu': 1.0, 'pos': 0.0, 'compound': 0.0},\n {'neg': 0.0, 'neu': 1.0, 'pos': 0.0, 'compound': 0.0},\n {'neg': 0.0, 'neu': 1.0, 'pos': 0.0, 'compound': 0.0},\n {'neg': 0.158, 'neu': 0.842, 'pos': 0.0, 'compound': -0.3869},\n {'neg': 0.0, 'neu': 0.87, 'pos': 0.13, 'compound': 0.2732},\n {'neg': 0.0, 'neu': 0.51, 'pos': 0.49, 'compound': 0.9726},\n {'neg': 0.094, 'neu': 0.859, 'pos': 0.047, 'compound': -0.2695},\n {'neg': 0.0, 'neu': 1.0, 'pos': 0.0, 'compound': 0.0},\n {'neg': 0.113, 'neu': 0.887, 'pos': 0.0, 'compound': -0.3182},\n {'neg': 0.0, 'neu': 1.0, 'pos': 0.0, 'compound': 0.0},\n {'neg': 0.0, 'neu': 0.827, 'pos': 0.173, 'compound': 0.6908},\n {'neg': 0.0, 'neu': 0.842, 'pos': 0.158, 'compound': 0.4588},\n {'neg': 0.0, 'neu': 0.921, 'pos': 0.079, 'compound': 0.3384},\n {'neg': 0.0, 'neu': 0.915, 'pos': 0.085, 'compound': 0.3818},\n {'neg': 0.0, 'neu': 1.0, 'pos': 0.0, 'compound': 0.0},\n {'neg': 0.226, 'neu': 0.774, 'pos': 0.0, 'compound': -0.5423},\n {'neg': 0.0, 'neu': 0.856, 'pos': 0.144, 'compound': 0.4939},\n {'neg': 0.0, 'neu': 0.628, 'pos': 0.372, 'compound': 0.8074},\n {'neg': 0.182, 'neu': 0.818, 'pos': 0.0, 'compound': -0.4404},\n {'neg': 0.077, 'neu': 0.573, 'pos': 0.35, 'compound': 0.8591},\n {'neg': 0.0, 'neu': 1.0, 'pos': 0.0, 'compound': 0.0},\n {'neg': 0.214, 'neu': 0.583, 'pos': 0.204, 'compound': -0.0258},\n {'neg': 0.0, 'neu': 0.839, 'pos': 0.161, 'compound': 0.3612},\n {'neg': 0.0, 'neu': 0.831, 'pos': 0.169, 'compound': 0.7269},\n {'neg': 0.182, 'neu': 0.818, 'pos': 0.0, 'compound': -0.3008},\n {'neg': 0.163, 'neu': 0.837, 'pos': 0.0, 'compound': -0.4019},\n {'neg': 0.279, 'neu': 0.721, 'pos': 0.0, 'compound': -0.4767},\n {'neg': 0.25, 'neu': 0.75, 'pos': 0.0, 'compound': -0.25},\n {'neg': 0.0, 'neu': 0.957, 'pos': 0.043, 'compound': 0.0772},\n {'neg': 0.0, 'neu': 0.423, 'pos': 0.577, 'compound': 0.4767},\n {'neg': 0.161, 'neu': 0.839, 'pos': 0.0, 'compound': -0.3198},\n {'neg': 0.247, 'neu': 0.753, 'pos': 0.0, 'compound': -0.7096},\n {'neg': 0.085, 'neu': 0.915, 'pos': 0.0, 'compound': -0.3818},\n {'neg': 0.0, 'neu': 0.743, 'pos': 0.257, 'compound': 0.4144},\n {'neg': 0.0, 'neu': 1.0, 'pos': 0.0, 'compound': 0.0},\n {'neg': 0.0, 'neu': 0.615, 'pos': 0.385, 'compound': 0.3612},\n {'neg': 0.162, 'neu': 0.694, 'pos': 0.145, 'compound': 0.1779},\n {'neg': 0.128, 'neu': 0.872, 'pos': 0.0, 'compound': -0.4215},\n {'neg': 0.0, 'neu': 1.0, 'pos': 0.0, 'compound': 0.0},\n {'neg': 0.129, 'neu': 0.524, 'pos': 0.348, 'compound': 0.5574},\n {'neg': 0.0, 'neu': 1.0, 'pos': 0.0, 'compound': 0.0},\n {'neg': 0.097, 'neu': 0.588, 'pos': 0.315, 'compound': 0.7351},\n {'neg': 0.0, 'neu': 1.0, 'pos': 0.0, 'compound': 0.0},\n {'neg': 0.403, 'neu': 0.597, 'pos': 0.0, 'compound': -0.4023},\n {'neg': 0.0, 'neu': 0.654, 'pos': 0.346, 'compound': 0.7506},\n {'neg': 0.082, 'neu': 0.918, 'pos': 0.0, 'compound': -0.1779},\n {'neg': 0.321, 'neu': 0.679, 'pos': 0.0, 'compound': -0.7964},\n {'neg': 0.0, 'neu': 1.0, 'pos': 0.0, 'compound': 0.0},\n {'neg': 0.0, 'neu': 0.829, 'pos': 0.171, 'compound': 0.4767},\n {'neg': 0.0, 'neu': 1.0, 'pos': 0.0, 'compound': 0.0},\n {'neg': 0.0, 'neu': 0.579, 'pos': 0.421, 'compound': 0.8481},\n {'neg': 0.0, 'neu': 0.964, 'pos': 0.036, 'compound': 0.1406},\n {'neg': 0.0, 'neu': 0.741, 'pos': 0.259, 'compound': 0.4215},\n {'neg': 0.0, 'neu': 0.909, 'pos': 0.091, 'compound': 0.0772},\n {'neg': 0.0, 'neu': 0.902, 'pos': 0.098, 'compound': 0.34},\n {'neg': 0.0, 'neu': 1.0, 'pos': 0.0, 'compound': 0.0},\n {'neg': 0.0, 'neu': 1.0, 'pos': 0.0, 'compound': 0.0},\n {'neg': 0.0, 'neu': 1.0, 'pos': 0.0, 'compound': 0.0},\n {'neg': 0.429, 'neu': 0.571, 'pos': 0.0, 'compound': -0.5423},\n {'neg': 0.0, 'neu': 1.0, 'pos': 0.0, 'compound': 0.0},\n {'neg': 0.0, 'neu': 1.0, 'pos': 0.0, 'compound': 0.0},\n {'neg': 0.0, 'neu': 0.717, 'pos': 0.283, 'compound': 0.7579},\n {'neg': 0.0, 'neu': 1.0, 'pos': 0.0, 'compound': 0.0},\n {'neg': 0.0, 'neu': 1.0, 'pos': 0.0, 'compound': 0.0},\n {'neg': 0.0, 'neu': 0.777, 'pos': 0.223, 'compound': 0.3182},\n {'neg': 0.0, 'neu': 1.0, 'pos': 0.0, 'compound': 0.0},\n {'neg': 0.073, 'neu': 0.811, 'pos': 0.116, 'compound': 0.2617},\n {'neg': 0.196, 'neu': 0.49, 'pos': 0.314, 'compound': 0.296},\n {'neg': 0.075, 'neu': 0.847, 'pos': 0.078, 'compound': 0.024},\n {'neg': 0.434, 'neu': 0.566, 'pos': 0.0, 'compound': -0.3182},\n {'neg': 0.0, 'neu': 1.0, 'pos': 0.0, 'compound': 0.0},\n {'neg': 0.0, 'neu': 0.827, 'pos': 0.173, 'compound': 0.3182},\n {'neg': 0.0, 'neu': 0.894, 'pos': 0.106, 'compound': 0.3612},\n {'neg': 0.0, 'neu': 1.0, 'pos': 0.0, 'compound': 0.0},\n {'neg': 0.124, 'neu': 0.792, 'pos': 0.084, 'compound': -0.1901},\n {'neg': 0.0, 'neu': 0.769, 'pos': 0.231, 'compound': 0.3415},\n {'neg': 0.0, 'neu': 0.526, 'pos': 0.474, 'compound': 0.4019},\n {'neg': 0.0, 'neu': 0.855, 'pos': 0.145, 'compound': 0.5499},\n {'neg': 0.0, 'neu': 0.508, 'pos': 0.492, 'compound': 0.4404},\n {'neg': 0.0, 'neu': 0.742, 'pos': 0.258, 'compound': 0.7096},\n {'neg': 0.225, 'neu': 0.775, 'pos': 0.0, 'compound': -0.4404},\n {'neg': 0.093, 'neu': 0.847, 'pos': 0.059, 'compound': -0.2023},\n {'neg': 0.0, 'neu': 0.8, 'pos': 0.2, 'compound': 0.3597},\n {'neg': 0.0, 'neu': 0.909, 'pos': 0.091, 'compound': 0.25},\n {'neg': 0.0, 'neu': 0.627, 'pos': 0.373, 'compound': 0.6757},\n {'neg': 0.0, 'neu': 1.0, 'pos': 0.0, 'compound': 0.0},\n {'neg': 0.0, 'neu': 0.789, 'pos': 0.211, 'compound': 0.6605},\n {'neg': 0.0, 'neu': 0.781, 'pos': 0.219, 'compound': 0.4215},\n {'neg': 0.0, 'neu': 0.754, 'pos': 0.246, 'compound': 0.5542},\n {'neg': 0.0, 'neu': 0.789, 'pos': 0.211, 'compound': 0.34},\n {'neg': 0.0, 'neu': 0.933, 'pos': 0.067, 'compound': 0.0772},\n {'neg': 0.0, 'neu': 0.775, 'pos': 0.225, 'compound': 0.8402},\n {'neg': 0.0, 'neu': 1.0, 'pos': 0.0, 'compound': 0.0},\n {'neg': 0.0, 'neu': 1.0, 'pos': 0.0, 'compound': 0.0},\n {'neg': 0.083, 'neu': 0.917, 'pos': 0.0, 'compound': -0.4215},\n {'neg': 0.0, 'neu': 1.0, 'pos': 0.0, 'compound': 0.0},\n {'neg': 0.0, 'neu': 0.924, 'pos': 0.076, 'compound': 0.4019},\n {'neg': 0.0, 'neu': 0.867, 'pos': 0.133, 'compound': 0.6486},\n {'neg': 0.0, 'neu': 0.914, 'pos': 0.086, 'compound': 0.128},\n {'neg': 0.054, 'neu': 0.772, 'pos': 0.174, 'compound': 0.7383},\n {'neg': 0.0, 'neu': 1.0, 'pos': 0.0, 'compound': 0.0},\n {'neg': 0.0, 'neu': 0.867, 'pos': 0.133, 'compound': 0.4158},\n {'neg': 0.0, 'neu': 1.0, 'pos': 0.0, 'compound': 0.0},\n {'neg': 0.0, 'neu': 0.809, 'pos': 0.191, 'compound': 0.5023},\n {'neg': 0.0, 'neu': 1.0, 'pos': 0.0, 'compound': 0.0},\n {'neg': 0.0, 'neu': 0.843, 'pos': 0.157, 'compound': 0.3716},\n {'neg': 0.266, 'neu': 0.644, 'pos': 0.091, 'compound': -0.6533},\n {'neg': 0.141, 'neu': 0.732, 'pos': 0.127, 'compound': -0.0772},\n {'neg': 0.0, 'neu': 1.0, 'pos': 0.0, 'compound': 0.0},\n {'neg': 0.0, 'neu': 1.0, 'pos': 0.0, 'compound': 0.0},\n {'neg': 0.0, 'neu': 0.859, 'pos': 0.141, 'compound': 0.6597},\n {'neg': 0.0, 'neu': 1.0, 'pos': 0.0, 'compound': 0.0},\n {'neg': 0.222, 'neu': 0.778, 'pos': 0.0, 'compound': -0.4019},\n {'neg': 0.0, 'neu': 1.0, 'pos': 0.0, 'compound': 0.0},\n {'neg': 0.0, 'neu': 1.0, 'pos': 0.0, 'compound': 0.0},\n {'neg': 0.079, 'neu': 0.692, 'pos': 0.23, 'compound': 0.5859},\n {'neg': 0.0, 'neu': 1.0, 'pos': 0.0, 'compound': 0.0},\n {'neg': 0.0, 'neu': 1.0, 'pos': 0.0, 'compound': 0.0},\n {'neg': 0.0, 'neu': 1.0, 'pos': 0.0, 'compound': 0.0},\n {'neg': 0.046, 'neu': 0.851, 'pos': 0.104, 'compound': 0.4201},\n {'neg': 0.0, 'neu': 1.0, 'pos': 0.0, 'compound': 0.0},\n {'neg': 0.0, 'neu': 0.915, 'pos': 0.085, 'compound': 0.3818},\n {'neg': 0.0, 'neu': 0.783, 'pos': 0.217, 'compound': 0.3612},\n {'neg': 0.124, 'neu': 0.618, 'pos': 0.258, 'compound': 0.5182},\n {'neg': 0.0, 'neu': 0.776, 'pos': 0.224, 'compound': 0.7351},\n {'neg': 0.0, 'neu': 0.894, 'pos': 0.106, 'compound': 0.5859},\n {'neg': 0.0, 'neu': 0.764, 'pos': 0.236, 'compound': 0.5719},\n {'neg': 0.0, 'neu': 0.645, 'pos': 0.355, 'compound': 0.296},\n {'neg': 0.325, 'neu': 0.675, 'pos': 0.0, 'compound': -0.5927},\n {'neg': 0.0, 'neu': 1.0, 'pos': 0.0, 'compound': 0.0},\n {'neg': 0.223, 'neu': 0.777, 'pos': 0.0, 'compound': -0.7845},\n {'neg': 0.0, 'neu': 1.0, 'pos': 0.0, 'compound': 0.0},\n {'neg': 0.0, 'neu': 1.0, 'pos': 0.0, 'compound': 0.0},\n {'neg': 0.0, 'neu': 1.0, 'pos': 0.0, 'compound': 0.0},\n {'neg': 0.0, 'neu': 1.0, 'pos': 0.0, 'compound': 0.0},\n {'neg': 0.193, 'neu': 0.511, 'pos': 0.296, 'compound': 0.2516},\n {'neg': 0.0, 'neu': 1.0, 'pos': 0.0, 'compound': 0.0},\n {'neg': 0.281, 'neu': 0.719, 'pos': 0.0, 'compound': -0.5994},\n {'neg': 0.0, 'neu': 0.837, 'pos': 0.163, 'compound': 0.6219},\n {'neg': 0.081, 'neu': 0.919, 'pos': 0.0, 'compound': -0.3182},\n {'neg': 0.0, 'neu': 1.0, 'pos': 0.0, 'compound': 0.0},\n {'neg': 0.0, 'neu': 0.778, 'pos': 0.222, 'compound': 0.5719},\n {'neg': 0.114, 'neu': 0.732, 'pos': 0.154, 'compound': 0.125},\n {'neg': 0.0, 'neu': 1.0, 'pos': 0.0, 'compound': 0.0},\n {'neg': 0.0, 'neu': 1.0, 'pos': 0.0, 'compound': 0.0},\n {'neg': 0.0, 'neu': 0.783, 'pos': 0.217, 'compound': 0.5719},\n {'neg': 0.0, 'neu': 0.643, 'pos': 0.357, 'compound': 0.7774},\n {'neg': 0.087, 'neu': 0.713, 'pos': 0.2, 'compound': 0.5927},\n {'neg': 0.0, 'neu': 1.0, 'pos': 0.0, 'compound': 0.0},\n {'neg': 0.0, 'neu': 0.814, 'pos': 0.186, 'compound': 0.7964},\n {'neg': 0.058, 'neu': 0.942, 'pos': 0.0, 'compound': -0.2755},\n {'neg': 0.0, 'neu': 0.914, 'pos': 0.086, 'compound': 0.4767},\n {'neg': 0.0, 'neu': 1.0, 'pos': 0.0, 'compound': 0.0},\n {'neg': 0.0, 'neu': 0.803, 'pos': 0.197, 'compound': 0.4019},\n {'neg': 0.0, 'neu': 1.0, 'pos': 0.0, 'compound': 0.0},\n {'neg': 0.0, 'neu': 0.654, 'pos': 0.346, 'compound': 0.5719},\n {'neg': 0.0, 'neu': 0.909, 'pos': 0.091, 'compound': 0.0516},\n {'neg': 0.0, 'neu': 1.0, 'pos': 0.0, 'compound': 0.0},\n {'neg': 0.0, 'neu': 0.82, 'pos': 0.18, 'compound': 0.5106},\n {'neg': 0.0, 'neu': 0.906, 'pos': 0.094, 'compound': 0.4588},\n {'neg': 0.0, 'neu': 1.0, 'pos': 0.0, 'compound': 0.0},\n {'neg': 0.0, 'neu': 0.481, 'pos': 0.519, 'compound': 0.8276},\n {'neg': 0.0, 'neu': 0.862, 'pos': 0.138, 'compound': 0.4939},\n {'neg': 0.0, 'neu': 0.0, 'pos': 1.0, 'compound': 0.6597},\n {'neg': 0.0, 'neu': 0.881, 'pos': 0.119, 'compound': 0.2263},\n {'neg': 0.0, 'neu': 1.0, 'pos': 0.0, 'compound': 0.0},\n {'neg': 0.0, 'neu': 1.0, 'pos': 0.0, 'compound': 0.0},\n {'neg': 0.0, 'neu': 0.696, 'pos': 0.304, 'compound': 0.3612},\n {'neg': 0.118, 'neu': 0.732, 'pos': 0.149, 'compound': 0.0258},\n {'neg': 0.126, 'neu': 0.404, 'pos': 0.47, 'compound': 0.7003},\n {'neg': 0.0, 'neu': 0.923, 'pos': 0.077, 'compound': 0.1695},\n {'neg': 0.0, 'neu': 0.933, 'pos': 0.067, 'compound': 0.2023},\n {'neg': 0.0, 'neu': 1.0, 'pos': 0.0, 'compound': 0.0},\n {'neg': 0.0, 'neu': 0.734, 'pos': 0.266, 'compound': 0.8225},\n {'neg': 0.0, 'neu': 0.851, 'pos': 0.149, 'compound': 0.0572},\n {'neg': 0.174, 'neu': 0.826, 'pos': 0.0, 'compound': -0.2755},\n {'neg': 0.0, 'neu': 1.0, 'pos': 0.0, 'compound': 0.0},\n {'neg': 0.216, 'neu': 0.784, 'pos': 0.0, 'compound': -0.296},\n {'neg': 0.0, 'neu': 0.909, 'pos': 0.091, 'compound': 0.5574},\n {'neg': 0.152, 'neu': 0.848, 'pos': 0.0, 'compound': -0.3612},\n {'neg': 0.33, 'neu': 0.67, 'pos': 0.0, 'compound': -0.7845},\n {'neg': 0.0, 'neu': 0.839, 'pos': 0.161, 'compound': 0.3612},\n {'neg': 0.0, 'neu': 0.794, 'pos': 0.206, 'compound': 0.0772},\n {'neg': 0.0, 'neu': 0.822, 'pos': 0.178, 'compound': 0.6369},\n {'neg': 0.0, 'neu': 1.0, 'pos': 0.0, 'compound': 0.0},\n {'neg': 0.0, 'neu': 0.855, 'pos': 0.145, 'compound': 0.1779},\n {'neg': 0.0, 'neu': 1.0, 'pos': 0.0, 'compound': 0.0},\n {'neg': 0.0, 'neu': 1.0, 'pos': 0.0, 'compound': 0.0},\n {'neg': 0.185, 'neu': 0.815, 'pos': 0.0, 'compound': -0.3595},\n {'neg': 0.094, 'neu': 0.906, 'pos': 0.0, 'compound': -0.4194},\n {'neg': 0.0, 'neu': 0.676, 'pos': 0.324, 'compound': 0.7351},\n {'neg': 0.169, 'neu': 0.831, 'pos': 0.0, 'compound': -0.7096},\n {'neg': 0.0, 'neu': 1.0, 'pos': 0.0, 'compound': 0.0},\n {'neg': 0.08, 'neu': 0.92, 'pos': 0.0, 'compound': -0.3818},\n {'neg': 0.0, 'neu': 0.247, 'pos': 0.753, 'compound': 0.7269},\n {'neg': 0.0, 'neu': 0.747, 'pos': 0.253, 'compound': 0.5267},\n {'neg': 0.0, 'neu': 0.863, 'pos': 0.137, 'compound': 0.3612},\n {'neg': 0.0, 'neu': 1.0, 'pos': 0.0, 'compound': 0.0},\n {'neg': 0.097, 'neu': 0.903, 'pos': 0.0, 'compound': -0.1027},\n {'neg': 0.0, 'neu': 1.0, 'pos': 0.0, 'compound': 0.0},\n {'neg': 0.0, 'neu': 0.659, 'pos': 0.341, 'compound': 0.6908},\n {'neg': 0.0, 'neu': 0.828, 'pos': 0.172, 'compound': 0.4019},\n {'neg': 0.0, 'neu': 0.839, 'pos': 0.161, 'compound': 0.2748},\n {'neg': 0.0, 'neu': 0.626, 'pos': 0.374, 'compound': 0.5542},\n {'neg': 0.268, 'neu': 0.732, 'pos': 0.0, 'compound': -0.296},\n {'neg': 0.0, 'neu': 1.0, 'pos': 0.0, 'compound': 0.0},\n {'neg': 0.0, 'neu': 0.575, 'pos': 0.425, 'compound': 0.749},\n {'neg': 0.0, 'neu': 1.0, 'pos': 0.0, 'compound': 0.0},\n {'neg': 0.0, 'neu': 1.0, 'pos': 0.0, 'compound': 0.0},\n {'neg': 0.0, 'neu': 0.64, 'pos': 0.36, 'compound': 0.8402},\n {'neg': 0.0, 'neu': 1.0, 'pos': 0.0, 'compound': 0.0},\n {'neg': 0.0, 'neu': 1.0, 'pos': 0.0, 'compound': 0.0},\n {'neg': 0.0, 'neu': 1.0, 'pos': 0.0, 'compound': 0.0},\n {'neg': 0.417, 'neu': 0.583, 'pos': 0.0, 'compound': -0.6486},\n {'neg': 0.0, 'neu': 1.0, 'pos': 0.0, 'compound': 0.0},\n {'neg': 0.15, 'neu': 0.73, 'pos': 0.12, 'compound': -0.1779},\n {'neg': 0.0, 'neu': 0.791, 'pos': 0.209, 'compound': 0.4404},\n {'neg': 0.202, 'neu': 0.798, 'pos': 0.0, 'compound': -0.5106},\n {'neg': 0.225, 'neu': 0.633, 'pos': 0.142, 'compound': -0.6705},\n {'neg': 0.0, 'neu': 1.0, 'pos': 0.0, 'compound': 0.0},\n {'neg': 0.0, 'neu': 1.0, 'pos': 0.0, 'compound': 0.0},\n {'neg': 0.0, 'neu': 0.845, 'pos': 0.155, 'compound': 0.296},\n {'neg': 0.0, 'neu': 0.823, 'pos': 0.177, 'compound': 0.4767},\n {'neg': 0.03, 'neu': 0.888, 'pos': 0.082, 'compound': 0.3268},\n {'neg': 0.165, 'neu': 0.487, 'pos': 0.348, 'compound': 0.3076},\n {'neg': 0.0, 'neu': 0.848, 'pos': 0.152, 'compound': 0.3612},\n {'neg': 0.0, 'neu': 0.808, 'pos': 0.192, 'compound': 0.1695},\n {'neg': 0.0, 'neu': 1.0, 'pos': 0.0, 'compound': 0.0},\n {'neg': 0.0, 'neu': 1.0, 'pos': 0.0, 'compound': 0.0},\n {'neg': 0.0, 'neu': 0.92, 'pos': 0.08, 'compound': 0.0772},\n {'neg': 0.0, 'neu': 1.0, 'pos': 0.0, 'compound': 0.0},\n {'neg': 0.0, 'neu': 0.676, 'pos': 0.324, 'compound': 0.8225},\n {'neg': 0.097, 'neu': 0.737, 'pos': 0.165, 'compound': 0.5106},\n {'neg': 0.0, 'neu': 0.777, 'pos': 0.223, 'compound': 0.3182},\n {'neg': 0.135, 'neu': 0.742, 'pos': 0.124, 'compound': -0.0352},\n {'neg': 0.136, 'neu': 0.748, 'pos': 0.116, 'compound': 0.1027},\n {'neg': 0.0, 'neu': 1.0, 'pos': 0.0, 'compound': 0.0},\n {'neg': 0.07, 'neu': 0.93, 'pos': 0.0, 'compound': -0.0516},\n {'neg': 0.0, 'neu': 1.0, 'pos': 0.0, 'compound': 0.0},\n {'neg': 0.0, 'neu': 0.507, 'pos': 0.493, 'compound': 0.7003},\n {'neg': 0.0, 'neu': 1.0, 'pos': 0.0, 'compound': 0.0},\n {'neg': 0.0, 'neu': 1.0, 'pos': 0.0, 'compound': 0.0},\n {'neg': 0.0, 'neu': 1.0, 'pos': 0.0, 'compound': 0.0},\n {'neg': 0.0, 'neu': 0.812, 'pos': 0.188, 'compound': 0.4588},\n {'neg': 0.0, 'neu': 1.0, 'pos': 0.0, 'compound': 0.0},\n {'neg': 0.069, 'neu': 0.931, 'pos': 0.0, 'compound': -0.3182},\n {'neg': 0.0, 'neu': 0.822, 'pos': 0.178, 'compound': 0.3818},\n {'neg': 0.0, 'neu': 1.0, 'pos': 0.0, 'compound': 0.0},\n {'neg': 0.049, 'neu': 0.777, 'pos': 0.174, 'compound': 0.7269},\n {'neg': 0.0, 'neu': 0.783, 'pos': 0.217, 'compound': 0.3612},\n {'neg': 0.0, 'neu': 1.0, 'pos': 0.0, 'compound': 0.0},\n {'neg': 0.116, 'neu': 0.884, 'pos': 0.0, 'compound': -0.1154},\n {'neg': 0.2, 'neu': 0.8, 'pos': 0.0, 'compound': -0.4588},\n {'neg': 0.0, 'neu': 1.0, 'pos': 0.0, 'compound': 0.0},\n {'neg': 0.0, 'neu': 1.0, 'pos': 0.0, 'compound': 0.0},\n {'neg': 0.0, 'neu': 0.476, 'pos': 0.524, 'compound': 0.5267},\n {'neg': 0.213, 'neu': 0.787, 'pos': 0.0, 'compound': -0.4019},\n {'neg': 0.0, 'neu': 1.0, 'pos': 0.0, 'compound': 0.0},\n {'neg': 0.0, 'neu': 1.0, 'pos': 0.0, 'compound': 0.0},\n {'neg': 0.0, 'neu': 1.0, 'pos': 0.0, 'compound': 0.0},\n {'neg': 0.0, 'neu': 0.826, 'pos': 0.174, 'compound': 0.7778},\n {'neg': 0.0, 'neu': 1.0, 'pos': 0.0, 'compound': 0.0},\n {'neg': 0.0, 'neu': 1.0, 'pos': 0.0, 'compound': 0.0},\n {'neg': 0.0, 'neu': 0.807, 'pos': 0.193, 'compound': 0.6369},\n {'neg': 0.0, 'neu': 1.0, 'pos': 0.0, 'compound': 0.0},\n {'neg': 0.0, 'neu': 0.738, 'pos': 0.262, 'compound': 0.7269},\n {'neg': 0.0, 'neu': 1.0, 'pos': 0.0, 'compound': 0.0},\n {'neg': 0.0, 'neu': 1.0, 'pos': 0.0, 'compound': 0.0},\n {'neg': 0.302, 'neu': 0.698, 'pos': 0.0, 'compound': -0.3799},\n {'neg': 0.0, 'neu': 0.836, 'pos': 0.164, 'compound': 0.6478},\n {'neg': 0.0, 'neu': 1.0, 'pos': 0.0, 'compound': 0.0},\n {'neg': 0.0, 'neu': 1.0, 'pos': 0.0, 'compound': 0.0},\n {'neg': 0.0, 'neu': 1.0, 'pos': 0.0, 'compound': 0.0},\n {'neg': 0.0, 'neu': 1.0, 'pos': 0.0, 'compound': 0.0},\n {'neg': 0.0, 'neu': 0.86, 'pos': 0.14, 'compound': 0.4767},\n {'neg': 0.09, 'neu': 0.609, 'pos': 0.301, 'compound': 0.7845},\n {'neg': 0.0, 'neu': 0.885, 'pos': 0.115, 'compound': 0.5267},\n {'neg': 0.0, 'neu': 1.0, 'pos': 0.0, 'compound': 0.0},\n {'neg': 0.0, 'neu': 1.0, 'pos': 0.0, 'compound': 0.0},\n {'neg': 0.0, 'neu': 0.741, 'pos': 0.259, 'compound': 0.6369},\n {'neg': 0.171, 'neu': 0.829, 'pos': 0.0, 'compound': -0.4767},\n {'neg': 0.0, 'neu': 0.596, 'pos': 0.404, 'compound': 0.8172},\n {'neg': 0.0, 'neu': 0.736, 'pos': 0.264, 'compound': 0.7003},\n {'neg': 0.0, 'neu': 1.0, 'pos': 0.0, 'compound': 0.0},\n {'neg': 0.0, 'neu': 1.0, 'pos': 0.0, 'compound': 0.0},\n {'neg': 0.228, 'neu': 0.772, 'pos': 0.0, 'compound': -0.7351},\n {'neg': 0.0, 'neu': 1.0, 'pos': 0.0, 'compound': 0.0},\n {'neg': 0.0, 'neu': 0.826, 'pos': 0.174, 'compound': 0.2732},\n {'neg': 0.0, 'neu': 0.893, 'pos': 0.107, 'compound': 0.714},\n {'neg': 0.0, 'neu': 0.838, 'pos': 0.162, 'compound': 0.4767},\n {'neg': 0.138, 'neu': 0.862, 'pos': 0.0, 'compound': -0.4364},\n {'neg': 0.0, 'neu': 1.0, 'pos': 0.0, 'compound': 0.0},\n {'neg': 0.0, 'neu': 0.923, 'pos': 0.077, 'compound': 0.2732},\n {'neg': 0.0, 'neu': 1.0, 'pos': 0.0, 'compound': 0.0},\n {'neg': 0.0, 'neu': 1.0, 'pos': 0.0, 'compound': 0.0},\n {'neg': 0.0, 'neu': 0.722, 'pos': 0.278, 'compound': 0.4019},\n {'neg': 0.0, 'neu': 1.0, 'pos': 0.0, 'compound': 0.0},\n {'neg': 0.0, 'neu': 1.0, 'pos': 0.0, 'compound': 0.0},\n {'neg': 0.0, 'neu': 1.0, 'pos': 0.0, 'compound': 0.0},\n {'neg': 0.0, 'neu': 0.702, 'pos': 0.298, 'compound': 0.6249},\n {'neg': 0.231, 'neu': 0.769, 'pos': 0.0, 'compound': -0.4588},\n {'neg': 0.126, 'neu': 0.783, 'pos': 0.091, 'compound': -0.204},\n {'neg': 0.155, 'neu': 0.845, 'pos': 0.0, 'compound': -0.296},\n {'neg': 0.0, 'neu': 1.0, 'pos': 0.0, 'compound': 0.0},\n {'neg': 0.078, 'neu': 0.841, 'pos': 0.081, 'compound': 0.0258},\n {'neg': 0.0, 'neu': 0.621, 'pos': 0.379, 'compound': 0.7717},\n {'neg': 0.0, 'neu': 1.0, 'pos': 0.0, 'compound': 0.0},\n {'neg': 0.166, 'neu': 0.681, 'pos': 0.153, 'compound': -0.0772},\n {'neg': 0.161, 'neu': 0.733, 'pos': 0.107, 'compound': -0.1601},\n {'neg': 0.0, 'neu': 1.0, 'pos': 0.0, 'compound': 0.0},\n {'neg': 0.0, 'neu': 0.924, 'pos': 0.076, 'compound': 0.2263},\n {'neg': 0.285, 'neu': 0.585, 'pos': 0.13, 'compound': -0.775},\n {'neg': 0.09, 'neu': 0.91, 'pos': 0.0, 'compound': -0.3532},\n {'neg': 0.0, 'neu': 0.93, 'pos': 0.07, 'compound': 0.7845},\n {'neg': 0.0, 'neu': 0.624, 'pos': 0.376, 'compound': 0.5598},\n {'neg': 0.171, 'neu': 0.829, 'pos': 0.0, 'compound': -0.4767},\n {'neg': 0.0, 'neu': 0.742, 'pos': 0.258, 'compound': 0.743},\n {'neg': 0.0, 'neu': 1.0, 'pos': 0.0, 'compound': 0.0},\n {'neg': 0.0, 'neu': 1.0, 'pos': 0.0, 'compound': 0.0},\n {'neg': 0.0, 'neu': 0.916, 'pos': 0.084, 'compound': 0.4973},\n {'neg': 0.0, 'neu': 0.903, 'pos': 0.097, 'compound': 0.4019},\n {'neg': 0.0, 'neu': 0.719, 'pos': 0.281, 'compound': 0.8313},\n {'neg': 0.208, 'neu': 0.792, 'pos': 0.0, 'compound': -0.6369},\n {'neg': 0.0, 'neu': 1.0, 'pos': 0.0, 'compound': 0.0},\n {'neg': 0.0, 'neu': 0.757, 'pos': 0.243, 'compound': 0.6249},\n {'neg': 0.0, 'neu': 1.0, 'pos': 0.0, 'compound': 0.0},\n {'neg': 0.286, 'neu': 0.714, 'pos': 0.0, 'compound': -0.34},\n {'neg': 0.0, 'neu': 0.863, 'pos': 0.137, 'compound': 0.5859},\n {'neg': 0.09, 'neu': 0.859, 'pos': 0.051, 'compound': -0.25},\n {'neg': 0.0, 'neu': 1.0, 'pos': 0.0, 'compound': 0.0},\n {'neg': 0.334, 'neu': 0.666, 'pos': 0.0, 'compound': -0.7193},\n {'neg': 0.0, 'neu': 1.0, 'pos': 0.0, 'compound': 0.0},\n {'neg': 0.075, 'neu': 0.802, 'pos': 0.123, 'compound': 0.2263},\n {'neg': 0.0, 'neu': 0.828, 'pos': 0.172, 'compound': 0.4019},\n {'neg': 0.0, 'neu': 1.0, 'pos': 0.0, 'compound': 0.0},\n {'neg': 0.071, 'neu': 0.774, 'pos': 0.155, 'compound': 0.3818},\n {'neg': 0.0, 'neu': 1.0, 'pos': 0.0, 'compound': 0.0},\n {'neg': 0.194, 'neu': 0.637, 'pos': 0.169, 'compound': -0.2023},\n {'neg': 0.128, 'neu': 0.872, 'pos': 0.0, 'compound': -0.4215},\n {'neg': 0.0, 'neu': 0.739, 'pos': 0.261, 'compound': 0.5574},\n {'neg': 0.0, 'neu': 0.514, 'pos': 0.486, 'compound': 0.2235},\n {'neg': 0.643, 'neu': 0.357, 'pos': 0.0, 'compound': -0.7906},\n {'neg': 0.207, 'neu': 0.643, 'pos': 0.15, 'compound': -0.2023},\n {'neg': 0.0, 'neu': 1.0, 'pos': 0.0, 'compound': 0.0},\n {'neg': 0.0, 'neu': 1.0, 'pos': 0.0, 'compound': 0.0},\n {'neg': 0.0, 'neu': 0.718, 'pos': 0.282, 'compound': 0.7096},\n {'neg': 0.124, 'neu': 0.679, 'pos': 0.198, 'compound': 0.2153},\n {'neg': 0.137, 'neu': 0.807, 'pos': 0.056, 'compound': -0.3182},\n {'neg': 0.187, 'neu': 0.76, 'pos': 0.053, 'compound': -0.7584},\n {'neg': 0.0, 'neu': 1.0, 'pos': 0.0, 'compound': 0.0},\n {'neg': 0.0, 'neu': 0.779, 'pos': 0.221, 'compound': 0.6597},\n {'neg': 0.0, 'neu': 1.0, 'pos': 0.0, 'compound': 0.0},\n {'neg': 0.185, 'neu': 0.815, 'pos': 0.0, 'compound': -0.3612},\n {'neg': 0.0, 'neu': 0.925, 'pos': 0.075, 'compound': 0.2732},\n {'neg': 0.18, 'neu': 0.82, 'pos': 0.0, 'compound': -0.296},\n {'neg': 0.0, 'neu': 0.798, 'pos': 0.202, 'compound': 0.7269},\n {'neg': 0.262, 'neu': 0.598, 'pos': 0.14, 'compound': -0.9035},\n {'neg': 0.0, 'neu': 1.0, 'pos': 0.0, 'compound': 0.0},\n {'neg': 0.0, 'neu': 1.0, 'pos': 0.0, 'compound': 0.0},\n {'neg': 0.0, 'neu': 0.786, 'pos': 0.214, 'compound': 0.351},\n {'neg': 0.0, 'neu': 1.0, 'pos': 0.0, 'compound': 0.0},\n {'neg': 0.0, 'neu': 0.87, 'pos': 0.13, 'compound': 0.2732},\n {'neg': 0.0, 'neu': 1.0, 'pos': 0.0, 'compound': 0.0},\n {'neg': 0.099, 'neu': 0.901, 'pos': 0.0, 'compound': -0.3182},\n {'neg': 0.0, 'neu': 0.811, 'pos': 0.189, 'compound': 0.2732},\n {'neg': 0.081, 'neu': 0.743, 'pos': 0.176, 'compound': 0.4215},\n {'neg': 0.0, 'neu': 1.0, 'pos': 0.0, 'compound': 0.0},\n {'neg': 0.0, 'neu': 0.922, 'pos': 0.078, 'compound': 0.296},\n {'neg': 0.0, 'neu': 1.0, 'pos': 0.0, 'compound': 0.0},\n {'neg': 0.151, 'neu': 0.736, 'pos': 0.112, 'compound': 0.0},\n {'neg': 0.0, 'neu': 1.0, 'pos': 0.0, 'compound': 0.0},\n {'neg': 0.053, 'neu': 0.792, 'pos': 0.155, 'compound': 0.4019},\n {'neg': 0.0, 'neu': 1.0, 'pos': 0.0, 'compound': 0.0},\n {'neg': 0.08, 'neu': 0.833, 'pos': 0.087, 'compound': 0.0516},\n {'neg': 0.0, 'neu': 1.0, 'pos': 0.0, 'compound': 0.0},\n {'neg': 0.157, 'neu': 0.674, 'pos': 0.169, 'compound': 0.0516},\n {'neg': 0.0, 'neu': 1.0, 'pos': 0.0, 'compound': 0.0},\n {'neg': 0.0, 'neu': 1.0, 'pos': 0.0, 'compound': 0.0},\n {'neg': 0.0, 'neu': 0.798, 'pos': 0.202, 'compound': 0.6486},\n {'neg': 0.0, 'neu': 0.759, 'pos': 0.241, 'compound': 0.2263},\n {'neg': 0.133, 'neu': 0.867, 'pos': 0.0, 'compound': -0.5574},\n {'neg': 0.091, 'neu': 0.761, 'pos': 0.148, 'compound': 0.3804},\n {'neg': 0.0, 'neu': 0.916, 'pos': 0.084, 'compound': 0.296},\n {'neg': 0.232, 'neu': 0.768, 'pos': 0.0, 'compound': -0.2755},\n {'neg': 0.0, 'neu': 1.0, 'pos': 0.0, 'compound': 0.0},\n {'neg': 0.293, 'neu': 0.707, 'pos': 0.0, 'compound': -0.3595},\n {'neg': 0.0, 'neu': 1.0, 'pos': 0.0, 'compound': 0.0},\n {'neg': 0.0, 'neu': 1.0, 'pos': 0.0, 'compound': 0.0},\n {'neg': 0.0, 'neu': 1.0, 'pos': 0.0, 'compound': 0.0},\n {'neg': 0.0, 'neu': 1.0, 'pos': 0.0, 'compound': 0.0},\n {'neg': 0.0, 'neu': 0.807, 'pos': 0.193, 'compound': 0.4767},\n {'neg': 0.13, 'neu': 0.87, 'pos': 0.0, 'compound': -0.128},\n {'neg': 0.0, 'neu': 0.879, 'pos': 0.121, 'compound': 0.0258},\n {'neg': 0.0, 'neu': 0.758, 'pos': 0.242, 'compound': 0.6249},\n {'neg': 0.0, 'neu': 0.645, 'pos': 0.355, 'compound': 0.296},\n {'neg': 0.0, 'neu': 1.0, 'pos': 0.0, 'compound': 0.0},\n {'neg': 0.145, 'neu': 0.755, 'pos': 0.1, 'compound': -0.128},\n {'neg': 0.0, 'neu': 0.482, 'pos': 0.518, 'compound': 0.5106},\n {'neg': 0.0, 'neu': 1.0, 'pos': 0.0, 'compound': 0.0},\n {'neg': 0.0, 'neu': 1.0, 'pos': 0.0, 'compound': 0.0},\n {'neg': 0.0, 'neu': 0.377, 'pos': 0.623, 'compound': 0.5106},\n {'neg': 0.0, 'neu': 0.68, 'pos': 0.32, 'compound': 0.5106},\n {'neg': 0.0, 'neu': 1.0, 'pos': 0.0, 'compound': 0.0},\n {'neg': 0.0, 'neu': 0.469, 'pos': 0.531, 'compound': 0.8876},\n {'neg': 0.032, 'neu': 0.899, 'pos': 0.069, 'compound': 0.3818},\n {'neg': 0.067, 'neu': 0.88, 'pos': 0.053, 'compound': -0.1531},\n {'neg': 0.445, 'neu': 0.555, 'pos': 0.0, 'compound': -0.3412},\n {'neg': 0.0, 'neu': 1.0, 'pos': 0.0, 'compound': 0.0},\n {'neg': 0.0, 'neu': 1.0, 'pos': 0.0, 'compound': 0.0},\n {'neg': 0.0, 'neu': 0.853, 'pos': 0.147, 'compound': 0.2263},\n {'neg': 0.0, 'neu': 1.0, 'pos': 0.0, 'compound': 0.0},\n {'neg': 0.0, 'neu': 0.833, 'pos': 0.167, 'compound': 0.4939},\n {'neg': 0.0, 'neu': 0.667, 'pos': 0.333, 'compound': 0.6124},\n {'neg': 0.0, 'neu': 1.0, 'pos': 0.0, 'compound': 0.0},\n {'neg': 0.0, 'neu': 1.0, 'pos': 0.0, 'compound': 0.0},\n {'neg': 0.0, 'neu': 0.824, 'pos': 0.176, 'compound': 0.7346},\n {'neg': 0.569, 'neu': 0.431, 'pos': 0.0, 'compound': -0.6077},\n {'neg': 0.0, 'neu': 1.0, 'pos': 0.0, 'compound': 0.0},\n {'neg': 0.0, 'neu': 0.887, 'pos': 0.113, 'compound': 0.4215},\n {'neg': 0.142, 'neu': 0.667, 'pos': 0.192, 'compound': 0.0516},\n {'neg': 0.0, 'neu': 1.0, 'pos': 0.0, 'compound': 0.0},\n {'neg': 0.0, 'neu': 1.0, 'pos': 0.0, 'compound': 0.0},\n {'neg': 0.0, 'neu': 0.631, 'pos': 0.369, 'compound': 0.4767},\n {'neg': 0.0, 'neu': 1.0, 'pos': 0.0, 'compound': 0.0},\n {'neg': 0.0, 'neu': 0.722, 'pos': 0.278, 'compound': 0.4019},\n {'neg': 0.0, 'neu': 1.0, 'pos': 0.0, 'compound': 0.0},\n {'neg': 0.073, 'neu': 0.737, 'pos': 0.19, 'compound': 0.6468},\n {'neg': 0.0, 'neu': 1.0, 'pos': 0.0, 'compound': 0.0},\n {'neg': 0.0, 'neu': 0.872, 'pos': 0.128, 'compound': 0.4215},\n {'neg': 0.0, 'neu': 0.647, 'pos': 0.353, 'compound': 0.5994},\n {'neg': 0.0, 'neu': 1.0, 'pos': 0.0, 'compound': 0.0},\n {'neg': 0.0, 'neu': 0.937, 'pos': 0.063, 'compound': 0.3612},\n {'neg': 0.048, 'neu': 0.769, 'pos': 0.183, 'compound': 0.5719},\n {'neg': 0.0, 'neu': 0.878, 'pos': 0.122, 'compound': 0.3612},\n {'neg': 0.0, 'neu': 0.903, 'pos': 0.097, 'compound': 0.4019},\n {'neg': 0.125, 'neu': 0.697, 'pos': 0.178, 'compound': 0.296},\n {'neg': 0.0, 'neu': 1.0, 'pos': 0.0, 'compound': 0.0},\n {'neg': 0.0, 'neu': 0.906, 'pos': 0.094, 'compound': 0.3384},\n {'neg': 0.0, 'neu': 1.0, 'pos': 0.0, 'compound': 0.0},\n ...]"
     },
     "execution_count": 31,
     "metadata": {},
     "output_type": "execute_result"
    }
   ],
   "source": [
    "h1 = map(y,df_train_new[\"premise\"])\n",
    "list(h1)"
   ],
   "metadata": {
    "collapsed": false,
    "ExecuteTime": {
     "end_time": "2023-09-07T23:58:10.590621Z",
     "start_time": "2023-09-07T23:58:09.546094Z"
    }
   },
   "id": "46e1909534e67210"
  },
  {
   "cell_type": "code",
   "execution_count": 23,
   "outputs": [
    {
     "data": {
      "text/plain": "   neg    neu    pos  compound  label\n0  0.0  1.000  0.000    0.0000      0\n1  0.0  1.000  0.000    0.0000      2\n2  0.0  0.588  0.412    0.4215      0\n3  0.0  1.000  0.000    0.0000      0\n4  0.0  1.000  0.000    0.0000      1",
      "text/html": "<div>\n<style scoped>\n    .dataframe tbody tr th:only-of-type {\n        vertical-align: middle;\n    }\n\n    .dataframe tbody tr th {\n        vertical-align: top;\n    }\n\n    .dataframe thead th {\n        text-align: right;\n    }\n</style>\n<table border=\"1\" class=\"dataframe\">\n  <thead>\n    <tr style=\"text-align: right;\">\n      <th></th>\n      <th>neg</th>\n      <th>neu</th>\n      <th>pos</th>\n      <th>compound</th>\n      <th>label</th>\n    </tr>\n  </thead>\n  <tbody>\n    <tr>\n      <th>0</th>\n      <td>0.0</td>\n      <td>1.000</td>\n      <td>0.000</td>\n      <td>0.0000</td>\n      <td>0</td>\n    </tr>\n    <tr>\n      <th>1</th>\n      <td>0.0</td>\n      <td>1.000</td>\n      <td>0.000</td>\n      <td>0.0000</td>\n      <td>2</td>\n    </tr>\n    <tr>\n      <th>2</th>\n      <td>0.0</td>\n      <td>0.588</td>\n      <td>0.412</td>\n      <td>0.4215</td>\n      <td>0</td>\n    </tr>\n    <tr>\n      <th>3</th>\n      <td>0.0</td>\n      <td>1.000</td>\n      <td>0.000</td>\n      <td>0.0000</td>\n      <td>0</td>\n    </tr>\n    <tr>\n      <th>4</th>\n      <td>0.0</td>\n      <td>1.000</td>\n      <td>0.000</td>\n      <td>0.0000</td>\n      <td>1</td>\n    </tr>\n  </tbody>\n</table>\n</div>"
     },
     "execution_count": 23,
     "metadata": {},
     "output_type": "execute_result"
    }
   ],
   "source": [
    "df_train_polar.head()"
   ],
   "metadata": {
    "collapsed": false,
    "ExecuteTime": {
     "end_time": "2023-09-07T23:54:30.410377Z",
     "start_time": "2023-09-07T23:54:30.406257Z"
    }
   },
   "id": "dedf1e09189e7cc8"
  },
  {
   "cell_type": "code",
   "execution_count": 71,
   "outputs": [
    {
     "data": {
      "text/plain": "     neg    neu  pos\n0  0.078  0.922  0.0\n1  0.000  1.000  0.0\n2  0.000  1.000  0.0\n3  0.000  1.000  0.0\n4  0.000  1.000  0.0",
      "text/html": "<div>\n<style scoped>\n    .dataframe tbody tr th:only-of-type {\n        vertical-align: middle;\n    }\n\n    .dataframe tbody tr th {\n        vertical-align: top;\n    }\n\n    .dataframe thead th {\n        text-align: right;\n    }\n</style>\n<table border=\"1\" class=\"dataframe\">\n  <thead>\n    <tr style=\"text-align: right;\">\n      <th></th>\n      <th>neg</th>\n      <th>neu</th>\n      <th>pos</th>\n    </tr>\n  </thead>\n  <tbody>\n    <tr>\n      <th>0</th>\n      <td>0.078</td>\n      <td>0.922</td>\n      <td>0.0</td>\n    </tr>\n    <tr>\n      <th>1</th>\n      <td>0.000</td>\n      <td>1.000</td>\n      <td>0.0</td>\n    </tr>\n    <tr>\n      <th>2</th>\n      <td>0.000</td>\n      <td>1.000</td>\n      <td>0.0</td>\n    </tr>\n    <tr>\n      <th>3</th>\n      <td>0.000</td>\n      <td>1.000</td>\n      <td>0.0</td>\n    </tr>\n    <tr>\n      <th>4</th>\n      <td>0.000</td>\n      <td>1.000</td>\n      <td>0.0</td>\n    </tr>\n  </tbody>\n</table>\n</div>"
     },
     "execution_count": 71,
     "metadata": {},
     "output_type": "execute_result"
    }
   ],
   "source": [
    "df_test_polar.head()"
   ],
   "metadata": {
    "collapsed": false,
    "ExecuteTime": {
     "end_time": "2023-09-07T20:45:45.555011Z",
     "start_time": "2023-09-07T20:45:45.550474Z"
    }
   },
   "id": "c2e4dfc1103864e9"
  },
  {
   "cell_type": "code",
   "execution_count": null,
   "outputs": [],
   "source": [],
   "metadata": {
    "collapsed": false
   },
   "id": "63419b540b907288"
  }
 ],
 "metadata": {
  "kernelspec": {
   "display_name": "Python 3",
   "language": "python",
   "name": "python3"
  },
  "language_info": {
   "codemirror_mode": {
    "name": "ipython",
    "version": 2
   },
   "file_extension": ".py",
   "mimetype": "text/x-python",
   "name": "python",
   "nbconvert_exporter": "python",
   "pygments_lexer": "ipython2",
   "version": "2.7.6"
  }
 },
 "nbformat": 4,
 "nbformat_minor": 5
}
