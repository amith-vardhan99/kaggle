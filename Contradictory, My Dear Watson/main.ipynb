{
 "cells": [
  {
   "cell_type": "markdown",
   "source": [
    "# Contradictory, My Dear Watson\n",
    "\n",
    "### Detecting contradiction and entailment in multilingual text using TPUs"
   ],
   "metadata": {
    "collapsed": false
   },
   "id": "59d541bc66e63c98"
  },
  {
   "cell_type": "markdown",
   "source": [
    "**Kaggle link:** https://www.kaggle.com/competitions/contradictory-my-dear-watson/overview"
   ],
   "metadata": {
    "collapsed": false
   },
   "id": "2a22670659a9ff77"
  },
  {
   "cell_type": "markdown",
   "source": [
    "### Description\n",
    "\n",
    "\"…when you have eliminated the impossible, whatever remains, however improbable, must be the truth\"\n",
    "-Sir Arthur Conan Doyle\n",
    "\n",
    "Our brains process the meaning of a sentence like this rather quickly.\n",
    "\n",
    "We're able to surmise:\n",
    "\n",
    "Some things to be true: \"You can find the right answer through the process of elimination.”\n",
    "Others that may have truth: \"Ideas that are improbable are not impossible!\"\n",
    "And some claims are clearly contradictory: \"Things that you have ruled out as impossible are where the truth lies.\"\n",
    "Natural language processing (NLP) has grown increasingly elaborate over the past few years. Machine learning models tackle question answering, text extraction, sentence generation, and many other complex tasks. But, can machines determine the relationships between sentences, or is that still left to humans? If NLP can be applied between sentences, this could have profound implications for fact-checking, identifying fake news, analyzing text, and much more."
   ],
   "metadata": {
    "collapsed": false
   },
   "id": "52416a28ac9b197c"
  },
  {
   "cell_type": "markdown",
   "source": [
    "### The Challenge:\n",
    "If you have two sentences, there are three ways they could be related: one could entail the other, one could contradict the other, or they could be unrelated. Natural Language Inferencing (NLI) is a popular NLP problem that involves determining how pairs of sentences (consisting of a premise and a hypothesis) are related.\n",
    "\n",
    "Your task is to create an NLI model that assigns labels of 0, 1, or 2 (corresponding to entailment, neutral, and contradiction) to pairs of premises and hypotheses. To make things more interesting, the train and test set include text in fifteen different languages! You can find more details on the dataset by reviewing the Data page.\n",
    "\n",
    "Today, the most common approaches to NLI problems include using embeddings and transformers like BERT. In this competition, we’re providing a starter notebook to try your hand at this problem using the power of Tensor Processing Units (TPUs). TPUs are powerful hardware accelerators specialized in deep learning tasks, including Natural Language Processing. Kaggle provides all users TPU Quota at no cost, which you can use to explore this competition. Check out our TPU documentation and Kaggle’s YouTube playlist for more information and resources."
   ],
   "metadata": {
    "collapsed": false
   },
   "id": "a064956c6ea3e9bc"
  },
  {
   "cell_type": "markdown",
   "source": [
    "### Recommended Tutorial\n",
    "We highly recommend this excellent tutorial on using KerasNLP to solve this problem, from the Keras team as well as Ana Sofia Uzsoy’s Tutorial that walks you through creating your very first submission step by step with TPUs and BERT.\n",
    "    This is a great opportunity to flex your NLP muscles and solve an exciting problem!"
   ],
   "metadata": {
    "collapsed": false
   },
   "id": "af6b7a6e06c01c2f"
  },
  {
   "cell_type": "markdown",
   "source": [
    "### Disclaimer: \n",
    "The dataset for this competition contains text that may be considered profane, vulgar, or offensive."
   ],
   "metadata": {
    "collapsed": false
   },
   "id": "32fac903b0246812"
  },
  {
   "cell_type": "markdown",
   "source": [
    "### Evaluation"
   ],
   "metadata": {
    "collapsed": false
   },
   "id": "3be63b4095596948"
  },
  {
   "cell_type": "markdown",
   "source": [
    "#### Goal\n",
    "Your goal is to predict whether a given hypothesis is related to its premise by contradiction, entailment, or whether neither of those is true (neutral).\n",
    "For each sample in the test set, you must predict a 0, 1, or 2 value for the variable.\n",
    "\n",
    "Those values map to the logical condition as:\n",
    "\n",
    "0 == entailment\n",
    "1 == neutral\n",
    "2 == contradiction"
   ],
   "metadata": {
    "collapsed": false
   },
   "id": "b8bb1cac99e749e5"
  },
  {
   "cell_type": "markdown",
   "source": [
    "#### Metric\n",
    "Your score is the percentage of relationships you correctly predict. This is known as accuracy.\n",
    "\n",
    "\n",
    "#### Submission File Format\n",
    "You should submit a csv file with exactly 5195 entries plus a header row. Your submission will show an error if you have extra columns (beyond id and prediction) or rows.\n",
    "\n",
    "The file should have exactly 2 columns:\n",
    "\n",
    "id (sorted in any order)\n",
    "prediction (contains your predictions: 0 for entailment, 1 for neutral, 2 for contradiction)"
   ],
   "metadata": {
    "collapsed": false
   },
   "id": "3c3647e5d276a37c"
  },
  {
   "cell_type": "markdown",
   "source": [
    "### id,prediction\n",
    "\n",
    "c6d58c3f69,1\n",
    "cefcc82292,1\n",
    "e98005252c,1\n",
    "58518c10ba,1\n",
    "c32b0d16df,1\n",
    "Etc."
   ],
   "metadata": {
    "collapsed": false
   },
   "id": "a99cefeb49fb8a5e"
  },
  {
   "cell_type": "markdown",
   "source": [
    "You can download an example submission file (sample_submission.csv) on the Data page."
   ],
   "metadata": {
    "collapsed": false
   },
   "id": "66910a2ddc895569"
  },
  {
   "cell_type": "markdown",
   "source": [
    "### Code Submission Requirement\n",
    "\n",
    "In this code competition, your submission.csv file must be generated as an output from a Kaggle notebook. For details on how to submit from a notebook, review the FAQ on \"How do I make a submission?\""
   ],
   "metadata": {
    "collapsed": false
   },
   "id": "c22346459928e30"
  },
  {
   "cell_type": "markdown",
   "source": [
    "### Dataset Description\n",
    "In this Getting Started Competition, we’re classifying pairs of sentences (consisting of a premise and a hypothesis) into three categories - entailment, contradiction, or neutral. Let’s take a look at an example of each of these cases for the following premise:\n",
    "\n",
    "He came, he opened the door and I remember looking back and seeing the expression on his face, and I could tell that he was disappointed."
   ],
   "metadata": {
    "collapsed": false
   },
   "id": "24ce866dd587bae4"
  },
  {
   "cell_type": "markdown",
   "source": [
    "#### Hypothesis 1:\n",
    "\n",
    "Just by the look on his face when he came through the door I just knew that he was let down.\n",
    "\n",
    "We know that this is true based on the information in the premise. So, this pair is related by entailment.\n"
   ],
   "metadata": {
    "collapsed": false
   },
   "id": "42718670fdc84a38"
  },
  {
   "cell_type": "markdown",
   "source": [
    "#### Hypothesis 2:\n",
    "\n",
    "He was trying not to make us feel guilty but we knew we had caused him trouble.\n",
    "\n",
    "This very well might be true, but we can’t conclude this based on the information in the premise. So, this relationship is neutral."
   ],
   "metadata": {
    "collapsed": false
   },
   "id": "8a5306ce8bb60729"
  },
  {
   "cell_type": "markdown",
   "source": [
    "#### Hypothesis 3:\n",
    "\n",
    "He was so excited and bursting with joy that he practically knocked the door off it's frame.\n",
    "\n",
    "We know this isn’t true, because it is the complete opposite of what the premise says. So, this pair is related by contradiction.\n",
    "\n",
    "This dataset contains premise-hypothesis pairs in fifteen different languages, including:\n",
    "Arabic, Bulgarian, Chinese, German, Greek, English, Spanish, French, Hindi, Russian, Swahili, Thai, Turkish, Urdu, and Vietnamese."
   ],
   "metadata": {
    "collapsed": false
   },
   "id": "748badb95e4b61c0"
  },
  {
   "cell_type": "markdown",
   "source": [
    "#### Files:\n",
    "train.csv: This file contains the ID, premise, hypothesis, and label, as well as the language of the text and its two-letter abbreviation\n",
    "\n",
    "test.csv: This file contains the ID, premise, hypothesis, language, and language abbreviation, without labels.\n",
    "\n",
    "sample_submission.csv: This is a sample submission file in the correct format:\n",
    "id: a unique identifier for each sample\n",
    "    label: the classification of the relationship between the premise and hypothesis (0 for entailment, 1 for neutral, 2 for contradiction)"
   ],
   "metadata": {
    "collapsed": false
   },
   "id": "5d97dbcc5c79c27"
  },
  {
   "cell_type": "markdown",
   "source": [
    "Special thanks to Tensorflow Datasets (TFDS) for providing this and many other useful datasets! For more information, visit: https://www.tensorflow.org/datasets\n",
    "\n",
    "Disclaimer: The dataset for this competition contains text that may be considered profane, vulgar, or offensive."
   ],
   "metadata": {
    "collapsed": false
   },
   "id": "5e73fedea0caa12d"
  },
  {
   "cell_type": "code",
   "execution_count": 1,
   "outputs": [],
   "source": [
    "import numpy as np\n",
    "import pandas as pd\n",
    "import matplotlib.pyplot as plt\n",
    "import seaborn as sns\n",
    "from sklearn.model_selection import *\n",
    "from sklearn.linear_model import *\n",
    "from math import *\n",
    "from nltk import *\n",
    "import warnings\n",
    "warnings.filterwarnings(\"ignore\")\n",
    "from deep_translator import *\n",
    "import os\n",
    "import nltk"
   ],
   "metadata": {
    "collapsed": false,
    "ExecuteTime": {
     "end_time": "2023-09-01T02:39:34.429698Z",
     "start_time": "2023-09-01T02:39:34.026480Z"
    }
   },
   "id": "c884dfeea3485054"
  },
  {
   "cell_type": "code",
   "execution_count": 2,
   "outputs": [
    {
     "name": "stderr",
     "output_type": "stream",
     "text": [
      "[nltk_data] Downloading collection 'all'\n",
      "[nltk_data]    | \n",
      "[nltk_data]    | Downloading package abc to /Users/amith/nltk_data...\n",
      "[nltk_data]    |   Package abc is already up-to-date!\n",
      "[nltk_data]    | Downloading package alpino to\n",
      "[nltk_data]    |     /Users/amith/nltk_data...\n",
      "[nltk_data]    |   Package alpino is already up-to-date!\n",
      "[nltk_data]    | Downloading package averaged_perceptron_tagger to\n",
      "[nltk_data]    |     /Users/amith/nltk_data...\n",
      "[nltk_data]    |   Package averaged_perceptron_tagger is already up-\n",
      "[nltk_data]    |       to-date!\n",
      "[nltk_data]    | Downloading package averaged_perceptron_tagger_ru to\n",
      "[nltk_data]    |     /Users/amith/nltk_data...\n",
      "[nltk_data]    |   Package averaged_perceptron_tagger_ru is already\n",
      "[nltk_data]    |       up-to-date!\n",
      "[nltk_data]    | Downloading package basque_grammars to\n",
      "[nltk_data]    |     /Users/amith/nltk_data...\n",
      "[nltk_data]    |   Package basque_grammars is already up-to-date!\n",
      "[nltk_data]    | Downloading package bcp47 to\n",
      "[nltk_data]    |     /Users/amith/nltk_data...\n",
      "[nltk_data]    |   Package bcp47 is already up-to-date!\n",
      "[nltk_data]    | Downloading package biocreative_ppi to\n",
      "[nltk_data]    |     /Users/amith/nltk_data...\n",
      "[nltk_data]    |   Package biocreative_ppi is already up-to-date!\n",
      "[nltk_data]    | Downloading package bllip_wsj_no_aux to\n",
      "[nltk_data]    |     /Users/amith/nltk_data...\n",
      "[nltk_data]    |   Package bllip_wsj_no_aux is already up-to-date!\n",
      "[nltk_data]    | Downloading package book_grammars to\n",
      "[nltk_data]    |     /Users/amith/nltk_data...\n",
      "[nltk_data]    |   Package book_grammars is already up-to-date!\n",
      "[nltk_data]    | Downloading package brown to\n",
      "[nltk_data]    |     /Users/amith/nltk_data...\n",
      "[nltk_data]    |   Package brown is already up-to-date!\n",
      "[nltk_data]    | Downloading package brown_tei to\n",
      "[nltk_data]    |     /Users/amith/nltk_data...\n",
      "[nltk_data]    |   Package brown_tei is already up-to-date!\n",
      "[nltk_data]    | Downloading package cess_cat to\n",
      "[nltk_data]    |     /Users/amith/nltk_data...\n",
      "[nltk_data]    |   Package cess_cat is already up-to-date!\n",
      "[nltk_data]    | Downloading package cess_esp to\n",
      "[nltk_data]    |     /Users/amith/nltk_data...\n",
      "[nltk_data]    |   Package cess_esp is already up-to-date!\n",
      "[nltk_data]    | Downloading package chat80 to\n",
      "[nltk_data]    |     /Users/amith/nltk_data...\n",
      "[nltk_data]    |   Package chat80 is already up-to-date!\n",
      "[nltk_data]    | Downloading package city_database to\n",
      "[nltk_data]    |     /Users/amith/nltk_data...\n",
      "[nltk_data]    |   Package city_database is already up-to-date!\n",
      "[nltk_data]    | Downloading package cmudict to\n",
      "[nltk_data]    |     /Users/amith/nltk_data...\n",
      "[nltk_data]    |   Package cmudict is already up-to-date!\n",
      "[nltk_data]    | Downloading package comparative_sentences to\n",
      "[nltk_data]    |     /Users/amith/nltk_data...\n",
      "[nltk_data]    |   Package comparative_sentences is already up-to-\n",
      "[nltk_data]    |       date!\n",
      "[nltk_data]    | Downloading package comtrans to\n",
      "[nltk_data]    |     /Users/amith/nltk_data...\n",
      "[nltk_data]    |   Package comtrans is already up-to-date!\n",
      "[nltk_data]    | Downloading package conll2000 to\n",
      "[nltk_data]    |     /Users/amith/nltk_data...\n",
      "[nltk_data]    |   Package conll2000 is already up-to-date!\n",
      "[nltk_data]    | Downloading package conll2002 to\n",
      "[nltk_data]    |     /Users/amith/nltk_data...\n",
      "[nltk_data]    |   Package conll2002 is already up-to-date!\n",
      "[nltk_data]    | Downloading package conll2007 to\n",
      "[nltk_data]    |     /Users/amith/nltk_data...\n",
      "[nltk_data]    |   Package conll2007 is already up-to-date!\n",
      "[nltk_data]    | Downloading package crubadan to\n",
      "[nltk_data]    |     /Users/amith/nltk_data...\n",
      "[nltk_data]    |   Package crubadan is already up-to-date!\n",
      "[nltk_data]    | Downloading package dependency_treebank to\n",
      "[nltk_data]    |     /Users/amith/nltk_data...\n",
      "[nltk_data]    |   Package dependency_treebank is already up-to-date!\n",
      "[nltk_data]    | Downloading package dolch to\n",
      "[nltk_data]    |     /Users/amith/nltk_data...\n",
      "[nltk_data]    |   Package dolch is already up-to-date!\n",
      "[nltk_data]    | Downloading package europarl_raw to\n",
      "[nltk_data]    |     /Users/amith/nltk_data...\n",
      "[nltk_data]    |   Package europarl_raw is already up-to-date!\n",
      "[nltk_data]    | Downloading package extended_omw to\n",
      "[nltk_data]    |     /Users/amith/nltk_data...\n",
      "[nltk_data]    |   Package extended_omw is already up-to-date!\n",
      "[nltk_data]    | Downloading package floresta to\n",
      "[nltk_data]    |     /Users/amith/nltk_data...\n",
      "[nltk_data]    |   Package floresta is already up-to-date!\n",
      "[nltk_data]    | Downloading package framenet_v15 to\n",
      "[nltk_data]    |     /Users/amith/nltk_data...\n",
      "[nltk_data]    |   Package framenet_v15 is already up-to-date!\n",
      "[nltk_data]    | Downloading package framenet_v17 to\n",
      "[nltk_data]    |     /Users/amith/nltk_data...\n",
      "[nltk_data]    |   Package framenet_v17 is already up-to-date!\n",
      "[nltk_data]    | Downloading package gazetteers to\n",
      "[nltk_data]    |     /Users/amith/nltk_data...\n",
      "[nltk_data]    |   Package gazetteers is already up-to-date!\n",
      "[nltk_data]    | Downloading package genesis to\n",
      "[nltk_data]    |     /Users/amith/nltk_data...\n",
      "[nltk_data]    |   Package genesis is already up-to-date!\n",
      "[nltk_data]    | Downloading package gutenberg to\n",
      "[nltk_data]    |     /Users/amith/nltk_data...\n",
      "[nltk_data]    |   Package gutenberg is already up-to-date!\n",
      "[nltk_data]    | Downloading package ieer to /Users/amith/nltk_data...\n",
      "[nltk_data]    |   Package ieer is already up-to-date!\n",
      "[nltk_data]    | Downloading package inaugural to\n",
      "[nltk_data]    |     /Users/amith/nltk_data...\n",
      "[nltk_data]    |   Package inaugural is already up-to-date!\n",
      "[nltk_data]    | Downloading package indian to\n",
      "[nltk_data]    |     /Users/amith/nltk_data...\n",
      "[nltk_data]    |   Package indian is already up-to-date!\n",
      "[nltk_data]    | Downloading package jeita to\n",
      "[nltk_data]    |     /Users/amith/nltk_data...\n",
      "[nltk_data]    |   Package jeita is already up-to-date!\n",
      "[nltk_data]    | Downloading package kimmo to\n",
      "[nltk_data]    |     /Users/amith/nltk_data...\n",
      "[nltk_data]    |   Package kimmo is already up-to-date!\n",
      "[nltk_data]    | Downloading package knbc to /Users/amith/nltk_data...\n",
      "[nltk_data]    |   Package knbc is already up-to-date!\n",
      "[nltk_data]    | Downloading package large_grammars to\n",
      "[nltk_data]    |     /Users/amith/nltk_data...\n",
      "[nltk_data]    |   Package large_grammars is already up-to-date!\n",
      "[nltk_data]    | Downloading package lin_thesaurus to\n",
      "[nltk_data]    |     /Users/amith/nltk_data...\n",
      "[nltk_data]    |   Package lin_thesaurus is already up-to-date!\n",
      "[nltk_data]    | Downloading package mac_morpho to\n",
      "[nltk_data]    |     /Users/amith/nltk_data...\n",
      "[nltk_data]    |   Package mac_morpho is already up-to-date!\n",
      "[nltk_data]    | Downloading package machado to\n",
      "[nltk_data]    |     /Users/amith/nltk_data...\n",
      "[nltk_data]    |   Package machado is already up-to-date!\n",
      "[nltk_data]    | Downloading package masc_tagged to\n",
      "[nltk_data]    |     /Users/amith/nltk_data...\n",
      "[nltk_data]    |   Package masc_tagged is already up-to-date!\n",
      "[nltk_data]    | Downloading package maxent_ne_chunker to\n",
      "[nltk_data]    |     /Users/amith/nltk_data...\n",
      "[nltk_data]    |   Package maxent_ne_chunker is already up-to-date!\n",
      "[nltk_data]    | Downloading package maxent_treebank_pos_tagger to\n",
      "[nltk_data]    |     /Users/amith/nltk_data...\n",
      "[nltk_data]    |   Package maxent_treebank_pos_tagger is already up-\n",
      "[nltk_data]    |       to-date!\n",
      "[nltk_data]    | Downloading package moses_sample to\n",
      "[nltk_data]    |     /Users/amith/nltk_data...\n",
      "[nltk_data]    |   Package moses_sample is already up-to-date!\n",
      "[nltk_data]    | Downloading package movie_reviews to\n",
      "[nltk_data]    |     /Users/amith/nltk_data...\n",
      "[nltk_data]    |   Package movie_reviews is already up-to-date!\n",
      "[nltk_data]    | Downloading package mte_teip5 to\n",
      "[nltk_data]    |     /Users/amith/nltk_data...\n",
      "[nltk_data]    |   Package mte_teip5 is already up-to-date!\n",
      "[nltk_data]    | Downloading package mwa_ppdb to\n",
      "[nltk_data]    |     /Users/amith/nltk_data...\n",
      "[nltk_data]    |   Package mwa_ppdb is already up-to-date!\n",
      "[nltk_data]    | Downloading package names to\n",
      "[nltk_data]    |     /Users/amith/nltk_data...\n",
      "[nltk_data]    |   Package names is already up-to-date!\n",
      "[nltk_data]    | Downloading package nombank.1.0 to\n",
      "[nltk_data]    |     /Users/amith/nltk_data...\n",
      "[nltk_data]    |   Package nombank.1.0 is already up-to-date!\n",
      "[nltk_data]    | Downloading package nonbreaking_prefixes to\n",
      "[nltk_data]    |     /Users/amith/nltk_data...\n",
      "[nltk_data]    |   Package nonbreaking_prefixes is already up-to-date!\n",
      "[nltk_data]    | Downloading package nps_chat to\n",
      "[nltk_data]    |     /Users/amith/nltk_data...\n",
      "[nltk_data]    |   Package nps_chat is already up-to-date!\n",
      "[nltk_data]    | Downloading package omw to /Users/amith/nltk_data...\n",
      "[nltk_data]    |   Package omw is already up-to-date!\n",
      "[nltk_data]    | Downloading package omw-1.4 to\n",
      "[nltk_data]    |     /Users/amith/nltk_data...\n",
      "[nltk_data]    |   Package omw-1.4 is already up-to-date!\n",
      "[nltk_data]    | Downloading package opinion_lexicon to\n",
      "[nltk_data]    |     /Users/amith/nltk_data...\n",
      "[nltk_data]    |   Package opinion_lexicon is already up-to-date!\n",
      "[nltk_data]    | Downloading package panlex_swadesh to\n",
      "[nltk_data]    |     /Users/amith/nltk_data...\n",
      "[nltk_data]    |   Package panlex_swadesh is already up-to-date!\n",
      "[nltk_data]    | Downloading package paradigms to\n",
      "[nltk_data]    |     /Users/amith/nltk_data...\n",
      "[nltk_data]    |   Package paradigms is already up-to-date!\n",
      "[nltk_data]    | Downloading package pe08 to /Users/amith/nltk_data...\n",
      "[nltk_data]    |   Package pe08 is already up-to-date!\n",
      "[nltk_data]    | Downloading package perluniprops to\n",
      "[nltk_data]    |     /Users/amith/nltk_data...\n",
      "[nltk_data]    |   Package perluniprops is already up-to-date!\n",
      "[nltk_data]    | Downloading package pil to /Users/amith/nltk_data...\n",
      "[nltk_data]    |   Package pil is already up-to-date!\n",
      "[nltk_data]    | Downloading package pl196x to\n",
      "[nltk_data]    |     /Users/amith/nltk_data...\n",
      "[nltk_data]    |   Package pl196x is already up-to-date!\n",
      "[nltk_data]    | Downloading package porter_test to\n",
      "[nltk_data]    |     /Users/amith/nltk_data...\n",
      "[nltk_data]    |   Package porter_test is already up-to-date!\n",
      "[nltk_data]    | Downloading package ppattach to\n",
      "[nltk_data]    |     /Users/amith/nltk_data...\n",
      "[nltk_data]    |   Package ppattach is already up-to-date!\n",
      "[nltk_data]    | Downloading package problem_reports to\n",
      "[nltk_data]    |     /Users/amith/nltk_data...\n",
      "[nltk_data]    |   Package problem_reports is already up-to-date!\n",
      "[nltk_data]    | Downloading package product_reviews_1 to\n",
      "[nltk_data]    |     /Users/amith/nltk_data...\n",
      "[nltk_data]    |   Package product_reviews_1 is already up-to-date!\n",
      "[nltk_data]    | Downloading package product_reviews_2 to\n",
      "[nltk_data]    |     /Users/amith/nltk_data...\n",
      "[nltk_data]    |   Package product_reviews_2 is already up-to-date!\n",
      "[nltk_data]    | Downloading package propbank to\n",
      "[nltk_data]    |     /Users/amith/nltk_data...\n",
      "[nltk_data]    |   Package propbank is already up-to-date!\n",
      "[nltk_data]    | Downloading package pros_cons to\n",
      "[nltk_data]    |     /Users/amith/nltk_data...\n",
      "[nltk_data]    |   Package pros_cons is already up-to-date!\n",
      "[nltk_data]    | Downloading package ptb to /Users/amith/nltk_data...\n",
      "[nltk_data]    |   Package ptb is already up-to-date!\n",
      "[nltk_data]    | Downloading package punkt to\n",
      "[nltk_data]    |     /Users/amith/nltk_data...\n",
      "[nltk_data]    |   Package punkt is already up-to-date!\n",
      "[nltk_data]    | Downloading package qc to /Users/amith/nltk_data...\n",
      "[nltk_data]    |   Package qc is already up-to-date!\n",
      "[nltk_data]    | Downloading package reuters to\n",
      "[nltk_data]    |     /Users/amith/nltk_data...\n",
      "[nltk_data]    |   Package reuters is already up-to-date!\n",
      "[nltk_data]    | Downloading package rslp to /Users/amith/nltk_data...\n",
      "[nltk_data]    |   Package rslp is already up-to-date!\n",
      "[nltk_data]    | Downloading package rte to /Users/amith/nltk_data...\n",
      "[nltk_data]    |   Package rte is already up-to-date!\n",
      "[nltk_data]    | Downloading package sample_grammars to\n",
      "[nltk_data]    |     /Users/amith/nltk_data...\n",
      "[nltk_data]    |   Package sample_grammars is already up-to-date!\n",
      "[nltk_data]    | Downloading package semcor to\n",
      "[nltk_data]    |     /Users/amith/nltk_data...\n",
      "[nltk_data]    |   Package semcor is already up-to-date!\n",
      "[nltk_data]    | Downloading package senseval to\n",
      "[nltk_data]    |     /Users/amith/nltk_data...\n",
      "[nltk_data]    |   Package senseval is already up-to-date!\n",
      "[nltk_data]    | Downloading package sentence_polarity to\n",
      "[nltk_data]    |     /Users/amith/nltk_data...\n",
      "[nltk_data]    |   Package sentence_polarity is already up-to-date!\n",
      "[nltk_data]    | Downloading package sentiwordnet to\n",
      "[nltk_data]    |     /Users/amith/nltk_data...\n",
      "[nltk_data]    |   Package sentiwordnet is already up-to-date!\n",
      "[nltk_data]    | Downloading package shakespeare to\n",
      "[nltk_data]    |     /Users/amith/nltk_data...\n",
      "[nltk_data]    |   Package shakespeare is already up-to-date!\n",
      "[nltk_data]    | Downloading package sinica_treebank to\n",
      "[nltk_data]    |     /Users/amith/nltk_data...\n",
      "[nltk_data]    |   Package sinica_treebank is already up-to-date!\n",
      "[nltk_data]    | Downloading package smultron to\n",
      "[nltk_data]    |     /Users/amith/nltk_data...\n",
      "[nltk_data]    |   Package smultron is already up-to-date!\n",
      "[nltk_data]    | Downloading package snowball_data to\n",
      "[nltk_data]    |     /Users/amith/nltk_data...\n",
      "[nltk_data]    |   Package snowball_data is already up-to-date!\n",
      "[nltk_data]    | Downloading package spanish_grammars to\n",
      "[nltk_data]    |     /Users/amith/nltk_data...\n",
      "[nltk_data]    |   Package spanish_grammars is already up-to-date!\n",
      "[nltk_data]    | Downloading package state_union to\n",
      "[nltk_data]    |     /Users/amith/nltk_data...\n",
      "[nltk_data]    |   Package state_union is already up-to-date!\n",
      "[nltk_data]    | Downloading package stopwords to\n",
      "[nltk_data]    |     /Users/amith/nltk_data...\n",
      "[nltk_data]    |   Package stopwords is already up-to-date!\n",
      "[nltk_data]    | Downloading package subjectivity to\n",
      "[nltk_data]    |     /Users/amith/nltk_data...\n",
      "[nltk_data]    |   Package subjectivity is already up-to-date!\n",
      "[nltk_data]    | Downloading package swadesh to\n",
      "[nltk_data]    |     /Users/amith/nltk_data...\n",
      "[nltk_data]    |   Package swadesh is already up-to-date!\n",
      "[nltk_data]    | Downloading package switchboard to\n",
      "[nltk_data]    |     /Users/amith/nltk_data...\n",
      "[nltk_data]    |   Package switchboard is already up-to-date!\n",
      "[nltk_data]    | Downloading package tagsets to\n",
      "[nltk_data]    |     /Users/amith/nltk_data...\n",
      "[nltk_data]    |   Package tagsets is already up-to-date!\n",
      "[nltk_data]    | Downloading package timit to\n",
      "[nltk_data]    |     /Users/amith/nltk_data...\n",
      "[nltk_data]    |   Package timit is already up-to-date!\n",
      "[nltk_data]    | Downloading package toolbox to\n",
      "[nltk_data]    |     /Users/amith/nltk_data...\n",
      "[nltk_data]    |   Package toolbox is already up-to-date!\n",
      "[nltk_data]    | Downloading package treebank to\n",
      "[nltk_data]    |     /Users/amith/nltk_data...\n",
      "[nltk_data]    |   Package treebank is already up-to-date!\n",
      "[nltk_data]    | Downloading package twitter_samples to\n",
      "[nltk_data]    |     /Users/amith/nltk_data...\n",
      "[nltk_data]    |   Package twitter_samples is already up-to-date!\n",
      "[nltk_data]    | Downloading package udhr to /Users/amith/nltk_data...\n",
      "[nltk_data]    |   Package udhr is already up-to-date!\n",
      "[nltk_data]    | Downloading package udhr2 to\n",
      "[nltk_data]    |     /Users/amith/nltk_data...\n",
      "[nltk_data]    |   Package udhr2 is already up-to-date!\n",
      "[nltk_data]    | Downloading package unicode_samples to\n",
      "[nltk_data]    |     /Users/amith/nltk_data...\n",
      "[nltk_data]    |   Package unicode_samples is already up-to-date!\n",
      "[nltk_data]    | Downloading package universal_tagset to\n",
      "[nltk_data]    |     /Users/amith/nltk_data...\n",
      "[nltk_data]    |   Package universal_tagset is already up-to-date!\n",
      "[nltk_data]    | Downloading package universal_treebanks_v20 to\n",
      "[nltk_data]    |     /Users/amith/nltk_data...\n",
      "[nltk_data]    |   Package universal_treebanks_v20 is already up-to-\n",
      "[nltk_data]    |       date!\n",
      "[nltk_data]    | Downloading package vader_lexicon to\n",
      "[nltk_data]    |     /Users/amith/nltk_data...\n",
      "[nltk_data]    |   Package vader_lexicon is already up-to-date!\n",
      "[nltk_data]    | Downloading package verbnet to\n",
      "[nltk_data]    |     /Users/amith/nltk_data...\n",
      "[nltk_data]    |   Package verbnet is already up-to-date!\n",
      "[nltk_data]    | Downloading package verbnet3 to\n",
      "[nltk_data]    |     /Users/amith/nltk_data...\n",
      "[nltk_data]    |   Package verbnet3 is already up-to-date!\n",
      "[nltk_data]    | Downloading package webtext to\n",
      "[nltk_data]    |     /Users/amith/nltk_data...\n",
      "[nltk_data]    |   Package webtext is already up-to-date!\n",
      "[nltk_data]    | Downloading package wmt15_eval to\n",
      "[nltk_data]    |     /Users/amith/nltk_data...\n",
      "[nltk_data]    |   Package wmt15_eval is already up-to-date!\n",
      "[nltk_data]    | Downloading package word2vec_sample to\n",
      "[nltk_data]    |     /Users/amith/nltk_data...\n",
      "[nltk_data]    |   Package word2vec_sample is already up-to-date!\n",
      "[nltk_data]    | Downloading package wordnet to\n",
      "[nltk_data]    |     /Users/amith/nltk_data...\n",
      "[nltk_data]    |   Package wordnet is already up-to-date!\n",
      "[nltk_data]    | Downloading package wordnet2021 to\n",
      "[nltk_data]    |     /Users/amith/nltk_data...\n",
      "[nltk_data]    |   Package wordnet2021 is already up-to-date!\n",
      "[nltk_data]    | Downloading package wordnet2022 to\n",
      "[nltk_data]    |     /Users/amith/nltk_data...\n",
      "[nltk_data]    |   Package wordnet2022 is already up-to-date!\n",
      "[nltk_data]    | Downloading package wordnet31 to\n",
      "[nltk_data]    |     /Users/amith/nltk_data...\n",
      "[nltk_data]    |   Package wordnet31 is already up-to-date!\n",
      "[nltk_data]    | Downloading package wordnet_ic to\n",
      "[nltk_data]    |     /Users/amith/nltk_data...\n",
      "[nltk_data]    |   Package wordnet_ic is already up-to-date!\n",
      "[nltk_data]    | Downloading package words to\n",
      "[nltk_data]    |     /Users/amith/nltk_data...\n",
      "[nltk_data]    |   Package words is already up-to-date!\n",
      "[nltk_data]    | Downloading package ycoe to /Users/amith/nltk_data...\n",
      "[nltk_data]    |   Package ycoe is already up-to-date!\n",
      "[nltk_data]    | \n",
      "[nltk_data]  Done downloading collection all\n"
     ]
    },
    {
     "data": {
      "text/plain": "True"
     },
     "execution_count": 2,
     "metadata": {},
     "output_type": "execute_result"
    }
   ],
   "source": [
    "nltk.download(\"all\")"
   ],
   "metadata": {
    "collapsed": false,
    "ExecuteTime": {
     "end_time": "2023-09-01T02:39:36.505759Z",
     "start_time": "2023-09-01T02:39:34.427882Z"
    }
   },
   "id": "920498135f149609"
  },
  {
   "cell_type": "code",
   "execution_count": 3,
   "outputs": [
    {
     "data": {
      "text/plain": "           id                                            premise  \\\n0  5130fd2cb5  and these comments were considered in formulat...   \n1  5b72532a0b  These are issues that we wrestle with in pract...   \n2  3931fbe82a  Des petites choses comme celles-là font une di...   \n3  5622f0c60b  you know they can't really defend themselves l...   \n4  86aaa48b45  ในการเล่นบทบาทสมมุติก็เช่นกัน โอกาสที่จะได้แสด...   \n\n                                          hypothesis lang_abv language  label  \n0  The rules developed in the interim were put to...       en  English      0  \n1  Practice groups are not permitted to work on t...       en  English      2  \n2              J'essayais d'accomplir quelque chose.       fr   French      0  \n3  They can't defend themselves because of their ...       en  English      0  \n4    เด็กสามารถเห็นได้ว่าชาติพันธุ์แตกต่างกันอย่างไร       th     Thai      1  ",
      "text/html": "<div>\n<style scoped>\n    .dataframe tbody tr th:only-of-type {\n        vertical-align: middle;\n    }\n\n    .dataframe tbody tr th {\n        vertical-align: top;\n    }\n\n    .dataframe thead th {\n        text-align: right;\n    }\n</style>\n<table border=\"1\" class=\"dataframe\">\n  <thead>\n    <tr style=\"text-align: right;\">\n      <th></th>\n      <th>id</th>\n      <th>premise</th>\n      <th>hypothesis</th>\n      <th>lang_abv</th>\n      <th>language</th>\n      <th>label</th>\n    </tr>\n  </thead>\n  <tbody>\n    <tr>\n      <th>0</th>\n      <td>5130fd2cb5</td>\n      <td>and these comments were considered in formulat...</td>\n      <td>The rules developed in the interim were put to...</td>\n      <td>en</td>\n      <td>English</td>\n      <td>0</td>\n    </tr>\n    <tr>\n      <th>1</th>\n      <td>5b72532a0b</td>\n      <td>These are issues that we wrestle with in pract...</td>\n      <td>Practice groups are not permitted to work on t...</td>\n      <td>en</td>\n      <td>English</td>\n      <td>2</td>\n    </tr>\n    <tr>\n      <th>2</th>\n      <td>3931fbe82a</td>\n      <td>Des petites choses comme celles-là font une di...</td>\n      <td>J'essayais d'accomplir quelque chose.</td>\n      <td>fr</td>\n      <td>French</td>\n      <td>0</td>\n    </tr>\n    <tr>\n      <th>3</th>\n      <td>5622f0c60b</td>\n      <td>you know they can't really defend themselves l...</td>\n      <td>They can't defend themselves because of their ...</td>\n      <td>en</td>\n      <td>English</td>\n      <td>0</td>\n    </tr>\n    <tr>\n      <th>4</th>\n      <td>86aaa48b45</td>\n      <td>ในการเล่นบทบาทสมมุติก็เช่นกัน โอกาสที่จะได้แสด...</td>\n      <td>เด็กสามารถเห็นได้ว่าชาติพันธุ์แตกต่างกันอย่างไร</td>\n      <td>th</td>\n      <td>Thai</td>\n      <td>1</td>\n    </tr>\n  </tbody>\n</table>\n</div>"
     },
     "execution_count": 3,
     "metadata": {},
     "output_type": "execute_result"
    }
   ],
   "source": [
    "df_train = pd.read_csv(\"data/train.csv\")\n",
    "df_train.head()"
   ],
   "metadata": {
    "collapsed": false,
    "ExecuteTime": {
     "end_time": "2023-09-01T02:39:37.410280Z",
     "start_time": "2023-09-01T02:39:37.355984Z"
    }
   },
   "id": "a3af578bf4843a99"
  },
  {
   "cell_type": "code",
   "execution_count": 4,
   "outputs": [
    {
     "data": {
      "text/plain": "           id                                            premise  \\\n0  c6d58c3f69  بکس، کیسی، راہیل، یسعیاہ، کیلی، کیلی، اور کولم...   \n1  cefcc82292                             هذا هو ما تم نصحنا به.   \n2  e98005252c  et cela est en grande partie dû au fait que le...   \n3  58518c10ba                   与城市及其他公民及社区组织代表就IMA的艺术发展进行对话&amp   \n4  c32b0d16df                              Она все еще была там.   \n\n                                          hypothesis lang_abv language  \n0  کیسی کے لئے کوئی یادگار نہیں ہوگا, کولمین ہائی...       ur     Urdu  \n1  عندما يتم إخبارهم بما يجب عليهم فعله ، فشلت ال...       ar   Arabic  \n2                             Les mères se droguent.       fr   French  \n3                            IMA与其他组织合作，因为它们都依靠共享资金。       zh  Chinese  \n4     Мы думали, что она ушла, однако, она осталась.       ru  Russian  ",
      "text/html": "<div>\n<style scoped>\n    .dataframe tbody tr th:only-of-type {\n        vertical-align: middle;\n    }\n\n    .dataframe tbody tr th {\n        vertical-align: top;\n    }\n\n    .dataframe thead th {\n        text-align: right;\n    }\n</style>\n<table border=\"1\" class=\"dataframe\">\n  <thead>\n    <tr style=\"text-align: right;\">\n      <th></th>\n      <th>id</th>\n      <th>premise</th>\n      <th>hypothesis</th>\n      <th>lang_abv</th>\n      <th>language</th>\n    </tr>\n  </thead>\n  <tbody>\n    <tr>\n      <th>0</th>\n      <td>c6d58c3f69</td>\n      <td>بکس، کیسی، راہیل، یسعیاہ، کیلی، کیلی، اور کولم...</td>\n      <td>کیسی کے لئے کوئی یادگار نہیں ہوگا, کولمین ہائی...</td>\n      <td>ur</td>\n      <td>Urdu</td>\n    </tr>\n    <tr>\n      <th>1</th>\n      <td>cefcc82292</td>\n      <td>هذا هو ما تم نصحنا به.</td>\n      <td>عندما يتم إخبارهم بما يجب عليهم فعله ، فشلت ال...</td>\n      <td>ar</td>\n      <td>Arabic</td>\n    </tr>\n    <tr>\n      <th>2</th>\n      <td>e98005252c</td>\n      <td>et cela est en grande partie dû au fait que le...</td>\n      <td>Les mères se droguent.</td>\n      <td>fr</td>\n      <td>French</td>\n    </tr>\n    <tr>\n      <th>3</th>\n      <td>58518c10ba</td>\n      <td>与城市及其他公民及社区组织代表就IMA的艺术发展进行对话&amp;amp</td>\n      <td>IMA与其他组织合作，因为它们都依靠共享资金。</td>\n      <td>zh</td>\n      <td>Chinese</td>\n    </tr>\n    <tr>\n      <th>4</th>\n      <td>c32b0d16df</td>\n      <td>Она все еще была там.</td>\n      <td>Мы думали, что она ушла, однако, она осталась.</td>\n      <td>ru</td>\n      <td>Russian</td>\n    </tr>\n  </tbody>\n</table>\n</div>"
     },
     "execution_count": 4,
     "metadata": {},
     "output_type": "execute_result"
    }
   ],
   "source": [
    "df_test = pd.read_csv(\"data/test.csv\")\n",
    "df_test.head()"
   ],
   "metadata": {
    "collapsed": false,
    "ExecuteTime": {
     "end_time": "2023-09-01T02:39:38.100327Z",
     "start_time": "2023-09-01T02:39:38.069152Z"
    }
   },
   "id": "b8c50750e8648cbb"
  },
  {
   "cell_type": "code",
   "execution_count": 5,
   "outputs": [
    {
     "name": "stdout",
     "output_type": "stream",
     "text": [
      "Number of training dataset :  12120\n",
      "Number of testing dataset  :  5195\n"
     ]
    }
   ],
   "source": [
    "print(\"Number of training dataset : \",len(df_train))\n",
    "print(\"Number of testing dataset  : \",len(df_test))"
   ],
   "metadata": {
    "collapsed": false,
    "ExecuteTime": {
     "end_time": "2023-09-01T02:39:38.802106Z",
     "start_time": "2023-09-01T02:39:38.759970Z"
    }
   },
   "id": "d50be4dd3a764c6e"
  },
  {
   "cell_type": "code",
   "execution_count": 6,
   "outputs": [],
   "source": [
    "df_train_1 = df_train.copy()"
   ],
   "metadata": {
    "collapsed": false,
    "ExecuteTime": {
     "end_time": "2023-09-01T02:39:40.244292Z",
     "start_time": "2023-09-01T02:39:40.239643Z"
    }
   },
   "id": "a91bf364fa83f8a4"
  },
  {
   "cell_type": "code",
   "execution_count": 17,
   "outputs": [],
   "source": [
    "y = lambda x: GoogleTranslator(source=\"auto\",target=\"en\").translate(x)"
   ],
   "metadata": {
    "collapsed": false,
    "ExecuteTime": {
     "end_time": "2023-09-01T02:44:10.948719Z",
     "start_time": "2023-09-01T02:44:10.946283Z"
    }
   },
   "id": "82894f951c24a7f6"
  },
  {
   "cell_type": "code",
   "execution_count": 24,
   "outputs": [],
   "source": [
    "y1 = map(y,df_train[\"premise\"][0:int(len(df_train)/25)])"
   ],
   "metadata": {
    "collapsed": false,
    "ExecuteTime": {
     "end_time": "2023-09-01T03:06:00.032539Z",
     "start_time": "2023-09-01T03:06:00.030646Z"
    }
   },
   "id": "b70804b351761b52"
  },
  {
   "cell_type": "code",
   "execution_count": 25,
   "outputs": [
    {
     "data": {
      "text/plain": "['and these comments were considered in formulating the interim rules.',\n 'These are issues that we wrestle with in practice groups of law firms, she said.',\n \"Little things like that make a huge difference in what I'm trying to do.\",\n \"you know they can't really defend themselves like somebody grown uh say my age you know yeah\",\n 'In role play as well. Opportunities to express yourself and play multiple roles may help children capture similarities and differences between people in their desires, beliefs and feelings.',\n 'You might hear someone on a farm say we have to butcher these oxen in the corral, which probably means, separate the ones to be loaded.',\n 'Upon his return to the United States, Hajj was met at the airport by FBI agents, interrogated, and the next day before a federal grand jury indicted Osama bin Laden.',\n \"From Cockpit Country to St. Ann's Bay\",\n \"Look, it's your skin, but you're going to be in trouble if you don't get busy.\",\n 'Every hundred degrees, the spots of paint change their color, it can be red and change color to blue.',\n 'We may not have had everything we wanted or saw other people have, but she provided the essentials we needed.',\n 'Twenty percent interest is charged',\n 'If possible, familiarize yourself with the plot in advance.',\n 'I hope your lords will at last begin to realize the folly of granting such a man a Council of Kings against all my advice.',\n 'Mjodi claims that he went home to Morocco to get married but could not make it there due to injuries sustained in a car accident.',\n \"Children would knock on their neighbors' doors and\",\n '\"If you people only knew how fatally easy it is to poison some one by mistake, you wouldn\\'t joke about it.',\n 'My own little corner of the world, policy wonking, is an example.',\n \"life in prison then he's available for parole if it's if it's life and a day then he's not eligible for parole so what you know let's quit BSing with the system\",\n 'The streets are crammed with vendors selling shrine offerings of sweets, curds, and coconut, as well as garlands and holy images.',\n 'North of Mytilini, stop at the village of Moria, where you will find the remains of a huge Roman aqueduct surrounded by grazing goats.',\n \"Increased saving by current generations would expand the nation's capital stock, allowing future generations to better afford the nation's retirement costs while also enjoying higher standards of living.\",\n 'It\\'s just the beginning!\"',\n 'I assure you, sir, that I was fully aware of everything.',\n \"Britain's best-selling tabloid, the Sun , announced as a front-page world exclusive Friday that Texan model Jerry Hall has started divorce proceedings against aging rock star Mick Jagger at the High Court in London.\",\n 'Savonarola burned in Florence',\n 'It will be COLOSSAL!\"',\n 'Colder and farther than ever has developed the voice of the lord.',\n '27 The difficulty increases as the need for boiler modifications to be made to adapt the SCR to the installation also increases.',\n 'He says men are here.',\n 'Consequently, government decision-makers and supervisors adopt new ways of thinking, considering different ways of achieving goals and using new information to guide decisions.',\n 'Such boats were designed to allow access for arriving ships.',\n 'yeah uh-huh oh yeah petting zoos and things',\n 'I have never understood why the international writing of the national phone number is not used in all kinds of English dictionaries, but this is beyond the scope of our words in this review.',\n 'The dispute, the management is now pointing to these food stamps, and of course it can also turn to the basic welfare - TANF.',\n 'The almost midtown Massabielle quarter (faubourg de Massabielle), is sometimes described as the most picturesque in the city.',\n '4) Not enough is known about how nontransportation costs vary with distance.',\n 'i am surprised though that we do have so many that are in politics down here',\n 'Social Security does not contain any established programs exclusively or primarily for federal employees, such as: pension and other retirement plans.',\n \"The draft treaty was Tommy's bait.\",\n 'Therefore, the number of boilermakers may actually grow more quickly than what was assumed.',\n 'look at a girl in a white fur parka with boots',\n 'The most legendary feature of the building is related to the cave arms.',\n 'Others do not make the consumer happy enough.',\n 'As long as Assad lives, he can manage these troubles and keep an agreement with Israel.',\n 'The four Javis children? asked Severn.',\n 'My brain refusing to command properly.',\n '\"So your girl writes that your little farewell activity didn\\'t fare so well, eh?\" he chortled.',\n 'He looked up in astonishment, and then sat down fuming with her brooding glance.',\n 'You have to walk through it).',\n 'No, I exclaimed, astonished.',\n 'On May 1, we will close membership renewal elections for 1991 contributors.',\n 'TV dinners bring a bad stain.',\n 'The inability to communicate was a critical element at the World Trade Center, Pentagon and Somerset County, Pennsylvania crash sites, where multiple agencies and multiple jurisdictions responded.',\n 'Bauerstein had been at Styles on the fatal night, and added: \"He said twice: \\'That alters everything.\\' And I\\'ve been thinking.',\n 'Long ago--or away, or whatever--there was a world called Thar?? and another called Erath.',\n \"Then, all the time, it was in the spill vase in Mrs. Inglethorp's bedroom, under our very noses? I cried.\",\n \"because i always had to do it and so i just pay someone else to do it and they do the they do the cutting they fertilize they um edge and um i think this year i'm going to have some landscaping put in\",\n \"' She gets a little obsessive about her sauce.\",\n 'Rather, kids today are not only little bundles of joy but also are perhaps the ultimate symbols of worldly success and status.',\n 'Properly implemented, this approach provides reasonable assurance that a trip has occurred.',\n \"China's civil war sent distressing echoes to Hong Kong.\",\n 'But you may be the blood of the mind now.',\n 'One zip code can be used by multiple routes.',\n \"Well, I'm in Texas and we have a teacher who died of AIDS\",\n 'The spirit of liberalism prevailing in Europe did not reach Spain until much later.',\n 'Left to its own devices, this reaction is exergonic, and in the presence of an excess of trimers, relative to the equilibrium ratio of hexamer to trimers, will proceed exergonically toward equilibrium by synthesizing the hexamer.',\n 'The seven grants flow from a new Nonprofit Capacity Building program at the foundation, part of a trend among philanthropists to give money to help organizations grow stronger, rather than to the program services they provide.',\n 'Or, eligibility could be restricted to those who have already been pregnant, or at least sexually active; to those over age 13, or under age 21; or some combination thereof.',\n 'The complexity of the subjunctive in French does not bother him the least in the world, for the good and simple reason that he does not try to use it.',\n 'Will the White House change its mind?',\n 'With the easiest assimilation into the Anglo community, only Protestant schools accepted their children Eastern European Jews have graduated from wealthy Westmount or immigrated back to Toronto.',\n 'In this respect, bringing Steve Jobs back to save Apple is like bringing Gen.',\n \"And how much better are these? - Are you afraid of the clumsy Barbados planter? What's bothering you, Peter? I've never seen you scared before. A shot rang out behind them.\",\n 'The word self-pathological, the word normal rather than the legal word, is a trouble maker and should be avoided.',\n \"or they had somebody at home that was ill that they had to tend to i mean you can't make it everybody\",\n 'On the other hand, in the Cite de la Musique is the Musee de la Musique and its gigantic concert hall, Zenith.',\n 'from generation to generation (Michiko Kakutani, the New York Times ). A few, like Pearl K. Bell in the Wall Street Journal , find a surfeit of sweetly obedient docility in the novel and say parts are perilously at the edge of sentimentality.',\n 'Hope to hear from you soon.',\n 'Hey, no problem, a fine policy.',\n 'This is Fannie Flono, she grew up in Ag--Augusta, GA and is going to share some memories from her childhood.',\n 'The m??tro (subway) is the fastest way to move around the city, but the buses, both in the capital and the other big towns, are best for taking in the sights.',\n 'My hero, however, is Richard Hazeltine, chairman of the Overseas Investment Trust, who resigned earlier this month in disagreement with the business plan imposed by his superiors.',\n 'They were so sure of themselves that they took it for granted he had made a mistake.\"',\n \"It's no secret to music retailers.\",\n \"i'm on i'm in the Plano school system and living in Richardson and there is a real dichotomy in terms of educational and economic background of the kids that are going to be attending this school\",\n \"Stevenson's article shows a fundamental lack of understanding of what our campaign entails.\",\n \"okay and and i think we just hang up i don't think we have to do anything else\",\n 'They capitalized on the natural resources by using the salt to cure fish, which they exported to their home country.',\n \"myself and i like some of their songs but since i agree as a general rule i wouldn't choose rap either\",\n 'News berates computer users for picking obvious, easily cracked passwords and chastises system administrators for ignoring basic security precautions.',\n 'Newsweek says tourists and celebrities flock to Patagonia. which was once a safe haven for fugitive Nazis.',\n \"To their good fortune, he's proving them right.\",\n 'Too bad it chose to use McIntyre instead.',\n 'oh i see the vibe here',\n 'Its official name was Flavian Amphitheater, after the surname of its builder, Emperor Vespasian.',\n 'He was at the height of the Cuban Missile Crisis and Kaiser got the photos and headed to Andrews Air Force Base in Washington.',\n \"and the other thing is the cost it's almost prohibitive to bring it to a dealer\",\n \"WHOLE LIFE POLICIES - Policies that provide insurance over the insured's entire life and the proceeds (face amount) are paid only upon death of the insured.\",\n '2466, discusses the four collections, which include certification of a minimum number of installed and operating microwave links and the maintenance of a computer-readable database.',\n \"The Women's Haven, which provides shelter and outreach to domestic-violence victims, already has a full-time attorney.\",\n 'uh high humidity',\n 'In the case of US 11, the last normal communication from the plane was at 8:13 am.',\n 'We need to look at the implications that these differing roles have for a range of issues, such as SES core competencies, performance standards, recruitment sources, mobility, and training and development programs.',\n \"yeah yeah yeah well because that's the way they they might seem outwardly but boy there's a lots going on in there\",\n 'In this situation, the value to the mailer of the improved service would be considered along with the cost of doing the work.',\n 'Is there adequate information for judging generalizability?',\n 'The political cleansing that did not happen through the impeachment process leaves Clinton with a great and serious burden.',\n 'Well, my grandparents were always very, very loving, and so were my parents, and we had a great time down there.',\n \"isn't it i can remember i've only been here eight years but i can remember coming to work from i used to live in Wylie and i could see downtown Dallas\",\n 'Over most of the 1980s and 1990s, the U.S. was able to invest more than it saved by attracting financing from abroad.',\n 'If anyone had the 1984 edition, he would probably resent having to buy the book rather than a smaller (and less expensive) copy.',\n 'I told them it was from my sister.',\n 'Ajaj had entered the United States on a B-2 tourist visa in New York City on September 9, 1991.',\n 'Credibility is a vital factor, and Jim Lehrer does, indeed, have it.',\n 'There should be someone here who knew more of what was going on in this world than he did now.',\n 'In 2003 these codes were cancelled; now all questions relating to international terrorism receive one code - 315.',\n 'Notices to the opposition lawyer and to the court or administrative agency should be sent.',\n 'President Kennedy tells the pilots: Gentlemen, take good pictures.',\n \"what is We have about an acre, yes it's weird because we have\",\n 'Its scorecard included measures for accuracy, speed and timeliness, unit cost, customer satisfaction, and employee development and satisfaction.',\n 'Therefore, I know you go to great lengths to be compassionate and care for others.',\n 'First Wives Club, a revenge comedy about three jilted wives, earned the most in its opening weekend of any female-led film in history.',\n \"In fact, the word quark in the Oxford Dictionary as a verb means 'to pessimise', with 19th-century references referring to frogs, crows, and the sad king.\",\n 'On the left of the entrance ramp is the open space once occupied by the Temple of Athena, close to which are the remains of the Pergamene library.',\n 'uh how do you think the Colorado Springs newspaper serves local interests',\n \"If you are keen to learn Israeli folk dancing, the Bicurei Ha'etim Cellar in Heftman Street will teach you.\",\n 'Or Sherlock Holmes?\"',\n \"We are so accustomed to hearing American companies complain about foreign competition that Kodak's accusations after its defeat come across as just another whining.\",\n 'Though the two cities remained unlinked by rail, this was about to change quickly.',\n 'Tourist Information offices can be very helpful.',\n 'More detailed implementation plans also will be necessary to address business system, processes, and resource issues.',\n 'Dubai, a modern city with easy access to major airports, travel agencies, hotels and western business establishments, is an ideal stopover point.',\n 'we will make the goal.',\n 'First, injected cannabinoids may not mirror the effects of smoked marijuana.',\n 'The data would be presented as required supplementary stewardship information accompanying the consolidated financial statements of the Federal Government but not in individual reports of its component units.',\n 'Boca da Corrida Encumeada (moderate; 5 hours): views of Curral das Freiras and the valley of Ribeiro do Poco.',\n \"To be sure, the FDNY is not responsible for managing the City's response to the emergency, as the Mayor's directive has required.\",\n 'While the numbers are impressive, scholarships are often important in recruiting top students with financial need.',\n 'INTEREST RATE - The price charged per unit of money borrowed per year, or other unit of time, usually expressed as a percentage.',\n \"that's hilarious to to get that jack off that's right oh that's a funny story\",\n 'Mr. Erlenborn attended undergraduate courses at the University of Notre Dame, Indiana University, the University of Illinois, and Loyala University of Chicago.',\n 'So unlike people who are fortunate enough to be able to afford attorneys and can go to another lawyer, our clients are simply lost in the legal system if they cannot get access to it from us.',\n 'Finally the woman opened her eyes feebly.',\n 'Of course, it would be quite a radical idea to assume quantum uncertainty in the law, but it does not seem impossible.',\n \"The finest is the huge conical-roofed Tomb/Pillar of Absalom (King David's son).\",\n \"This week's inspiration offers Ken Starr's report on the great star love affair, which will include romance in the presidential limo, the Oval Office and even the liner beddom!\",\n 'when the sand formed The sand then enters the corner to balance. then expands to the edge of the table',\n 'Unless the mention of the Ritz was an accidental remark?\"',\n 'They are the four sentences you always insert in plagiarized papers to throw the professor off track.',\n 'Built in 688-691 AD, it is decorated with thousands of exquisite, mostly blue and yellow, Persian ceramic tiles, with Quranic scriptures on the tops.',\n 'This man claims that he has been robbed en route and is stranded without money or his plane ticket in an airport somewhere in Europe or the Middle East.',\n 'It was planned in the 1820s as a symbol of Scottish national pride and designed as a mini-Parthenon, in deference to the neoclassical style popular at the time.',\n 'Ogle, he said in a voice as cold and sharp as steel, your station is on the gun deck.',\n 'Although claims data provide the most accurate information about health care use, ensuring adequate follow-up for purposes of obtaining information from patient self-report is important because many people do not report alcohol-related events to insurance compa-nies.',\n 'Could you please speak to this issue, with regard to the social ramifications of gum chewing in public?',\n 'The H-2A worker must depart the country and is subject to deportation for failing to do so.',\n 'The researchers found expected stresses like the loss of a check in the mail and the illness of loved ones.',\n 'Relajo can also describe a joking relationship, a mysterious back-and-forth that with laughter relieves the tension and erases the cause of the momentary tension.',\n 'You have to walk through it).',\n 'The 28 sta?\\xadtues representing the kings of Judah and Israel have been remodeled after the drawings of Viollet-le-Duc; the original ones were pulled down during the Revolution, since they were thought to be the kings of France.',\n 'well damn! Maybe you will explain yourself? Where has Waverstone gone?',\n 'As a proud South African, I feel that the main reason for this is the lack of linguistic ambition found in the home states.',\n \"Ca'daan closed the door behind them and retied the not.\",\n 'Small towns like Louisian lay scattered all over the Oil Fields; the main train line branched between them.',\n 'Linguists who write books, apparently, always impose their point of view, sometimes, to put it mildly, obscure.',\n 'i think that the people that are um have um a lower income which you automatically equate with lower education',\n 'Be of good cheer,',\n \"In reviewing this history, it's important to make some crucial distinctions.\",\n 'The Black River, at 71 km (44 miles), is the longest in Jamaica; it was an arterial route used to transport rum and lumber from the inland plantations.',\n \"in our town of five thousand we have one that is uh local FM AM station and their news is fed from CNN too uh it's more of uh\",\n \"It wouldn't explode without the detonator.\",\n 'There are certain categories of control activities that are common to all agencies.',\n 'Wander the floors and talk to the actors who play the roles of sailors and wayfarers.',\n 'More than 100 judges, lawyers and dignitaries were present for the gathering.',\n 'He had forgotten about Adrin.',\n 'In other words, the paper exhibited the all-too-typical journalistic tic of exposing potential conflicts of interest involving politicians while ignoring those involving journalists.',\n 'The final reason for the teen renaissance is boomer self-obsession.',\n 'After the death of Columbus in 1505, Jamaica became the property of his son Diego, who dispatched Don Juan de Esquivel to the island as Governor.',\n 'But they lived in a small town called Evans just outside Augusta, and Evans is still there, where many of my relatives still live.',\n 'The detainee dates the meeting with Slahi to October 1999.',\n 'They said they were taken to prison, Jeremy said quietly',\n \"They won't be killing off George Clooney's character at ER like they did to Jimmy Smits at NYPD . Instead, Dr. Doug Ross is being forced out over the next two episodes because the maverick heartthrob gives an unauthorized painkiller to a terminally ill boy (Thursday, 10 p.m.).\",\n '120 \"You do not think I ought to go to the police?\"',\n 'yeah because those things i think would just snap you know',\n 'We have taken a number of steps to empower and invest in our employees.',\n 'This thing cannot be said for the New York Times. In its op-ed on the cocaine controversy, the Times advised Bush to be honest and to help the country recover.',\n 'In the case of speech, Fiss appears to believe that the reason the American public is less enlightened than he would wish it to be concerning matters such as feminism, the rights of homosexuals, and regulation of industry is that people are denied access to the opinions and information that would enlighten them.',\n 'Time spent with parents and children together is the first step toward implementing the ideas and practices that I will discuss in this book.',\n 'The rustic Bras-David picnic area, for example, is set alongside a burbling stream.',\n \"and uh well if you if you got got him a power mower it'd probably take him a lot less time to do it but i enjoy doing it i feel good doing it uh i i feel a lot better doing it with a power mower with that with a  with a pull tractor on it so i don't have to push so hard\",\n 'Advances in Aviation Are Made, but Long-Term Caution is Required.',\n 'um-hum yeah i saw that for the first time yesterday in the evening',\n 'He told me exactly what he needed and that he needed it today.',\n 'Bauerstein.\"',\n 'Museums were not established on lists or labels',\n 'What have we for lunch?',\n \"A poll of Hong Kong residents finds them sanguine about the city's future.\",\n 'Nearly 100,000 people come here every day to admire the stunning architecture and discover the latest attractions in this ever-changing city.',\n 'There are two evolutionary advantages to average appearance.',\n 'well i meant when when you were when you were growing up i mean like Galveston',\n 'I am so constituted as to be unable to give away money with any satisfaction until I have made the most careful inquiry as to the worthiness of the cause.',\n \"you know they they like what they're doing they you know they feel good about what they're doing that type of thing it's more\",\n \"Can I help you?'\",\n 'The traditional opening time for many hotels is the Orthodox Easter, although some do not open until the end of April.',\n 'medical and surgical expense coverage.',\n \"exactly and when i'm sitting here on the sofa cross-stitching and all of a sudden somebody a man's got their hand on my door knob it's like uh like oh no and so i don't i don't like that and i guess the only way to prevent it would be just to pass a city ordinance to prevent that or\",\n \"The Chinese calendar was used to calculate the year of Japan's foundation by counting back the 1,260 years of the Chinese cosmological cycle.\",\n 'yeah pay fifteen yeah yes i know yeah and when you pay fifteen dollars a month it sure takes a long time',\n 'She had already left and told me not to worry about it.',\n 'Thus, the net scale benefit is initially positive, whether or not we adjust for the wage premium.',\n 'Still others will simply marvel at the use of language and wonder where our analytical side ends and our emotional side begins.',\n \"But as she got older, she didn't admit that she was wrong, but changed her behavior.\",\n \"Look here, you've no business to come asking for me in this way.\",\n 'Title V that performs the request for authorization must be open for public comment.',\n \"The experts point out that it is not age alone that determines a Chinese antique's value the dynasties of the past had their creative ups and downs.\",\n 'Small towns like Louisian lay scattered all over the Oil Fields; the main train line branched between them.',\n \"So I didn't finish college, but I never read any of the books I should have.\",\n 'intuitively Since the Big Bang, it seems impossible that a complex planet without life could have arisen by itself.',\n 'Regulators may not be totally supportive of a more comprehensive business model because they are concerned that the information would be based on a lot of judgment and, therefore, lack of precision, which could make enforcement of reporting standards difficult.',\n 'On August 25, after the Democratic convention began in Atlantic City, N. Johnson, then 56, threatened in three taped conversations to withdraw from the presidential race.',\n 'First, get the basics right, that is, the blocking and tackling of financial reporting.',\n 'In a still faintly Victorian atmosphere, Dinard has preserved all the best assets of a good luxury villas and long, paved promenades, plush hotels, elegant boutiques, discothyques, casino, parks and gardens, and an Olympic-size public swimming pool.',\n 'Along with each step, certain practices proved especially important to the success of their efforts.',\n 'I suddenly commented on Mary Royal....',\n \"But there's SOMETHING.\",\n \"Rockefeller busied himself in this anguished tender while Tarbell the Avenging Angel began tearing his flesh in McClure's Magazine.\",\n \"It's easy to overdose on the many temples, palaces, and museums in India.\",\n 'Very simply.',\n 'yeah they were my favorite team for a while',\n '1,400 years before the construction of the Palace of Estei, Milreu was also the great country house of an eminent person.',\n 'One of the differences is that other groups have to do this because in order to function they must either give new meanings to existing words and phrases or invent new words and phrases.',\n 'This historically renowned freshwater lake, known both as the Sea of Galilee and Lake Kinneret (meaning a harp, after its shape), is just 58 km (36 miles) in circumference.',\n \"because i i mean i don't know it's just something i think something we need\",\n 'Jon walked back to the town to the smithy.',\n 'The Leland Act  (1) simplify the household definition',\n 'Attached to Nova Scotia by the Narrow Chignecto Isthmus, New Brunswick became a separate province in 1784 at the request of 14,000 Loyalist refugees.',\n \"And well, I think we'll be on par with them in terms of pay and reputation in the long run.\",\n 'The data would be presented as required supplementary stewardship information accompanying the consolidated financial statements of the Federal Government but not in individual reports of its component units.',\n 'My dream is to see every American become part of the Olympic family, so please do whatever you can.',\n 'Population growth is like pollution in reverse.',\n 'The reforms that have been adopted so far have profound effects on what government does, how it is organized, and how it delivers its services to the country and its citizens.',\n 'Initial demand for land in the New Town was not spectacular; in fact, incentives had to be offered to entice buyers.',\n \"well they're so close to an undefeated undefeated season they can taste it and they wanna make history so i don't think they're gonna lack for motivation\",\n 'Thus, the net scale benefit is initially positive, whether or not we adjust for the wage premium.',\n 'The information security team conducts 8 to 12 sessions per month.',\n 'These solutions will need to address both the types of interventions that address the specific problems of each ED and medical center and the patient.',\n 'It was utterly mad.',\n 'saving that did not finance domestic investment would increase net foreign investment and improve the current account balance.',\n 'I was ordered to Del Rio, and when I got there I found out I was going to Laughlin Air Force Base.',\n 'It has long been influenced by their differing traits, and has assimilated their various customs and practices.',\n 'But is the Internet so miraculous an advertising vehicle that Gross will be able to siphon off $400 per person from total ad spending of $1,000 per family--or persuade advertisers to spend an additional $400 to reach each of his customers?',\n 'The questions may need to be tailored to',\n 'yes i will try to go and see',\n 'In 1998, Clarke chaired an exercise designed to highlight solution inaccuracies.',\n 'Unfortunately, not all Americans share our understanding of the importance of philanthropy.',\n 'have you read Tom Clancy',\n 'He turned to pray to the god Julian.',\n 'And a few miles on that side, after her, came hurriedly three great white ships.',\n 'Okay, can you hear me?',\n \"That's it. The girl looked at him, then passed her hand across her forehead.\",\n 'Melatonin',\n 'Diets for men in their prime',\n 'But I know that in some, that in many rural areas, they are not so good.',\n 'The Friends operates on two levels - Metropolitan and Branches - and you can activate identities on one or both levels.',\n \"yeah it's just a matter of education i think\",\n 'Three more days went by in dreary inaction.',\n 'Every August young women convene to light joss sticks and some even climb the nine-meter (30-ft) rock to pray for good husbands.',\n 'It was still night.',\n \"For example, if Ovitz's five-year deal was worth, say, $100 million, and if the compensation committee had added to that a front-end grant of free Disney shares worth, say, $50 million, then--assuming that Ovitz finished his five-year contract period--the cost to Disney would be $150 million.\",\n \"you know we keep a couple hundred dollars um if that much charged on those which isn't too bad it's just your normal\",\n 'As long as Assad lives, he can manage these troubles and keep an agreement with Israel.',\n '(dba), a charitable, volunteer, and not-for-profit organization that provides self-employment information and business assistance to people with disabilities, and to professionals in vocational rehabilitation and career and business counseling.',\n \"Some experts say there's a greater chance of a making a catch in the cooler days of spring and autumn, and in the hours after sunset.\",\n 'Across the river from the city, it has superb views; rooms are very contemporary in design.',\n 'If not the most beautiful, the chateau is certainly the most formidable in the Loire Valley, a real defensive fortress, its black ramparts still forbidding despite having had their towers decapitated on the orders of Henri III.',\n 'Two aromatic aniseed drinks are also produced locally.',\n \"The simplicity of Sant Pau's Romanesque style is a consistent shift from the extravagance of Barcelona's modernism and the sophistication of Gothic architecture.\",\n 'In Japan, Mainichi Shimbun criticized the new Liberal Democratic Party leader Keizo Obuchi for being devoid of fresh ideas for reviving the Japanese economy.',\n \"Sandstone and granite were the materials used to build the Baroque church of Bom Jesus, famous for its casket of St. Francis Xavier's relics in the mausoleum to the right of the altar.\",\n 'TEST ORGANISMS',\n \"Don't take it to heart, lad, he said kindly.\",\n 'The Greenlee County, Arizona, public library illustrates the problem of money and technology for rural institutions.',\n 'Summary of Deferred Maintenance as of September 30, 199Z (in Millions of Dollars):',\n \"I don't doubt it. His lord's tone did not dampen his brutish character.\",\n 'The linguist who writes books seems invariably to be a scholar preaching his own views, some of which, at the very least, are deeply hidden.',\n 'The opportunity',\n \"So that's how I, um, stay within the belt.\",\n 'He was still in there.',\n \"uh wasn't that Jane Eyre no he wrote Jane Eyre too\",\n 'I shan\\'t stop you.\"',\n 'Satisfaction from what I heard',\n 'Yes I actually had older old singers or older older sisters singers',\n 'And if it can? Blood interrupted nonchalantly.',\n 'For late dispatch, please see FDNY records, Computer-Aided Dispatch Report, Alert Box 8087, Sep 11, 2001, 09:03:00-09:10:02.',\n 'ENVIRONMENTAL PROTECTION AGENCY',\n \"These gardens used to belong to the governor's mountain lodge, but the building was demolished by the Japanese during the occupation of Hong Kong.\",\n 'There is nothing more to be done here, I think, unless, he stared earnestly and long at the dead ashes in the grate.',\n \"This year's alumni luncheon was held during the AMRA Annual Meeting in Nashville, Tennessee, on October 23, 1991.\",\n 'They are the four sentences you always insert in plagiarized papers to throw the professor off track.',\n \"Lawyers funded by the LSC would be required to monitor their clients' movements and drop a case whenever their foreign clients leave the United States.\",\n 'Not only lawyers but also police officers and judges and all legal professionals in general.',\n 'In addition, the program staff conduct various seminars and prepare educational materials for new suppliers.',\n \"Moreover, given GAO's impressive results and return on investment, it only makes sense for GAO to receive allocation funds that are well above the average for other federal entities.\",\n 'One way to find the answer is to start with a different question, how valuable was the Ames information to the Soviets?',\n \"I think as soon as they get you, they'll come for me.\",\n 'No, it was only one morning that she said she was going back to the office.',\n 'In short, this is a whole new costing area that would need to be undertaken.',\n \"It's true, idiot.\",\n 'Melatonin',\n \"You'll find galleries in all the major towns and in some of the smaller villages.\",\n 'It would be huge, take us out of bed and never bring us home (November 1974).',\n 'They found plenty of water pouring down from the mountains, and more timber than anyone knew what to do with.',\n 'We invite you to participate in the future of our children by sponsoring an American Indian child or join the membership circle to support community education projects.',\n 'On your right is the entrance to the 16th-century Sandal Bedesten, with lovely brick vaults supported on massive stone pillars.',\n 'Progressives at last are noticing that the best argument for government activism is that it works.',\n 'No one was there, no bones at all.',\n 'While the NIPA measure reflects how government saving affects national saving available for investment, the unified budget measure is the more common frame of reference for discussing federal fiscal policy issues.',\n 'They shoot students, right?',\n \"My body is to me like a crippled rabbit that I don't want to pet, that I forget to feed on time, that I haven't time to play with and get to know, a useless rabbit kept in a cage that it would be cruel to turn loose.\",\n \"uh but you could fill a whole bunch of uh holes with these things i used to i used to advertise buying wheat pennies um i'd give a dollar a roll which two cents a piece which is basically overpriced\",\n 'Penrith and Blencathra are also Celtic names, established during this early period of settlement.',\n 'After the ton, the final recipient in Pakistan goes to the Pakistani hawaladar and receives his money in rupees of whatever money the Pakistani hawaladar currently has.',\n 'If necessary to meeting the restrictions imposed in the preceding sentence, the Administrator shall reduce, pro rata, the basic Phase II allowance allocations for each unit subject to the requirements of section 414.',\n 'For the two companies and their actions, see FDNY Interview 22, Battalion 28 (Jan.',\n 'Hundreds of excursionists traveling by sea to both islands are willing to do anything before they are compelled to return to the boat.',\n 'As a result, their services may be more effective when conducted in the emergency department environment.',\n 'Social legal education is an important service provided by LSC providers.',\n \"oh anyway anyway um my kids are twenty one and twenty four now so I don't have to\",\n 'evaluation questions.',\n \"Therefore, many leading finance organizations have calculated and compared these percentages as a general indication of how well they supported the organization's business objectives.\",\n 'The State of Texas considers its various types of education to be cost-effective in terms of its Medicaid program.',\n 'Previously, at the request of the Republican Ranking Minority Member of the House Committee on Government Operations, GAO reviewed activities of President Clintonas Task Force on Health Care Reform and was provided with an extensive listing of working group participants drawn from the government and from outside organizations.',\n 'List of Candidates Table of Contents Photo of Bill Clinton by Kevin Lamarque / Reuters.',\n 'She, in turn, was worshipped by her subjects as a living god.',\n 'When Urban went to Vietnam, we had only been married, Joan said.',\n 'The air is warm.',\n 'Among the disadvantages are that the degree of innovation and product differentiation might continue to be limited.',\n 'Treat yourself and bill it to Si.',\n \"i think that yeah i think and i i think that's real important\",\n 'An important part of U.S. diplomacy is getting sovereign states to work together voluntarily.',\n 'Forming part of the city walls, the gate was planned by the more pragmatic Prussians not as a triumphant arch but as an imposing toll to collect taxes.',\n 'CHAPTER 6: HUMAN CAPITAL',\n 'Forty-four pilot projects submitted their first round of reports in 1995.',\n 'The rise of the British Empire in India had begun.',\n 'No other profession has such a rich tradition of self-abasement.',\n 'but uh these guys were actually on the road uh two thousand miles from from home when they had to file their uh their final exams and send them in',\n 'Sarawak pottery is ochre-colored with bold geometric designs.',\n 'I ordered Better Sexual Techniques , Advanced Sexual Techniques , Making Sex Fun , and Advanced Oral Sex Techniques (priced about $11.',\n 'Benchmarked by U.S.',\n 'The truth?',\n 'it sure will well good to talk to',\n 'because like Tech is known to be a good engineering school and A and M maybe is known more for computers',\n 'The celebrity-obsessed magazine surpasses itself in the post-Oscar issue.',\n \"He's old enough to be my father.\",\n 'There is a difference between smart skepticism and foolish skepticism.',\n 'Shayad ye behas ki ja sakti hah kai writing funoni honi chahiye naqli nahi, magar fannon badalte rahte hain, ahista sai magar.',\n 'Tommy felt his ascendancy less sure than a moment before.',\n 'I fully realize what I have done, and partly understand that, at least, your respect for me may have prompted you.',\n \"However, she hasn't walked out with her back to him, and was moving in the same direction.\",\n \"Whether you drink beer or alcohol or not, a trip to Dublin isn't complete without a visit to some of its pubs don't miss this experience.\",\n \"But although the 60 Minutes producer is played by the star (Pacino grandstands, but not to the point of distraction), Bergman's story doesn't have the same primal force.\",\n \"It's 30 or 40 U2 planes and we've started training Chinese and British pilots, practically allied pilots around the world, in them\",\n 'Despite a two-year investigation, the FBI was unable to locate the co-worker or determine his true identity.',\n 'I never said you were a mandrake-man.',\n \"The IMA's Development Committee will match all pledges received before December 31, 1998, a dollar for a dollar.\",\n \"down here it's been it's everybody's got colds and everything because it's cold one day and hot the next day\",\n 'In early May 1996, the CIA received intelligence that bin Ladin may be about to leave Sudan.',\n \"i don't know what kind of a summer we're expecting this year i imagine it's going to be hot again\",\n 'um, I have one child a little girl who is eighteen months old',\n 'The central section of Tinos has little of interest, but make your way over the hills to the pretty village of Pyrgos, famed for its school of marble carving.',\n 'Unless the report is restricted by law or regulation, auditors should ensure that copies be made available for public inspection.',\n \"The next year, he was expelled from Rand as a security risk after local police caught him engaging in a lewd act in a public men's room near Muscle Beach.\",\n 'Oh, please. There was real concern in her voice.',\n 'To appreciate your donation of $100 or more to the campaign, you and one guest are invited to a special meeting on Thursday, March 23 from 5:30-8:00pm at Herron Hall.',\n 'So now, here he is, he wants it today.',\n 'I was to watch for an advertisement in the Times.',\n 'Unsurprisingly, golfing is prohibitively expensive.',\n 'It came from an air base that flew over Cuba, and of course Rudolph Anderson was shot down.',\n 'FDNY daikhain interview 4, Chief (Jan.',\n 'The final reason for the teen renaissance is boomer self-obsession.',\n 'I have sent you, Captain Blood, about some news I have just received.',\n 'The real concern is that multifamily housing may not be able to keep costs under control over the long term.',\n 'uh well i figured if i had it done in the garage at the Toyota dealer i would be looking at probably three or four hundred dollars',\n \"Well I have a girlfriend who has a daughter she's a teenager and every year before school starts she makes me take her shopping for clothes because they argue too much\",\n \"It's more than a job for me.\",\n 'Part 2), Confidentiality of Alcohol and Drug Abuse Patient Records.',\n \"Not quite as large is the Papal Crose commemorating Pope John Paul II's visit in 1979, when more than one million people gathered to celebrate mass.\",\n 'Accumulated assets can generate income in the form of interest and dividends which in turn can be saved.',\n \"well they're so close to an undefeated undefeated season they can taste it and they wanna make history so i don't think they're gonna lack for motivation\",\n '(DBA), a charitable, all-volunteer, non-profit membership organization, provides independent self-employment and vocational information and support for individuals with disabilities, and vocational rehabilitation, career, and vocational counseling for professionals.',\n \"or visit GAO's World Wide Web home page at\",\n 'Technical costs, due to work done by a party who can do it at a higher cost, are also calculated in the same way as before.',\n 'People suspected of committing crimes have these rights.',\n 'Taking the privileges and immunities of citizens as an essential value of the new order, as Black does, creates its own problems of equality under the law.',\n 'To do otherwise would be to send a troubling message to GAO staff, the press, and the public.',\n 'trying to keep grass alive during a summer on a piece of ground that big was expensive',\n 'Will the White House come?',\n 'Consisting of a core of three or four men, with a few additional members, the palomilla was an important socializing unit that provided young men with a safe place to joke and express themselves.',\n 'They managed to control much of the country for nearly a century before the Muslim leader Saladin (Salah-ad-Din) defeated them in 1187.',\n 'His grandson Akbar chose Agra for his capital over Delhi.',\n 'The information provided in this guide is current as of the date of this publication.',\n \"If anything, ultimate fighting is safer and less cruel than America's blood sport.\",\n 'Jon saw him ride into the smoke.',\n \"someone else noticed it and i said well i guess that's true and it was somewhat melodio us in other words it wasn't just you know it was really funny\",\n 'NEW ARRIVALS EVERY GIFT MAKES A DIFFERENCE!',\n 'In a six-year study, scientists fed dogs and other animals irradiated chicken and found no evidence of increased cancer or other toxic effects.',\n 'The officer who witnessed the demolition of the North Tower relayed the news to the electrical system units in the North Tower while giving evacuation directions',\n \"When Jesus was born in about 4 b.c. , Joseph and Mary escaped Herod's paranoia by fleeing into Egypt with the new-born infant.\",\n 'Her second was a puppy from the dump, the little male dog had dental problems.',\n 'And, could it not result in a decline in Postal Service volumes across--the--board?',\n \"Until you do arithmetic you don't realize that in Lincoln's mind the defining moment was the signing of the 1776 Declaration of Independence.\",\n 'Folklore of Ibiza',\n 'Chatterbox queried Trudeau about the Dallas Morning News quote.',\n 'We really create our world together, we critics',\n 'There are two challengers to these top dogs.',\n 'But Blood had already made up his mind',\n 'ran toward us rather slowly, like people finishing their run.',\n \"i've been getting a kick out of those lately\",\n \"I won't be deluded by what Wolverstone says.\",\n \"You've got the keys still, haven't you, Poirot? I asked, as we reached the door of the locked room.\",\n 'Puppet Shows.',\n 'Even today, Yanomamo men raid villages, kill men, and abduct women for procreative purposes.',\n 'Well, some, some, some are good about sending them by UPS or other means, but',\n 'Napoleon attacked and destroyed the holy temple of Catalonia, the monastery of Montserrat.',\n 'It is housed in a Martello A series of such towers, some 12 m (40 ft) high and 2.5 m (8 ft) thick, were constructed along the coast at the beginning of the 19th century to guard against invasion by Napoleon.',\n \"um i've visited the Wyoming area i'm not sure exactly where Dances with Wolves was filmed\",\n \"Laurel wreaths, a symbol of victory, and olive branches, symbolizing peace, decorate the alliance's border with acanthus leaves.\",\n '13 Executive  Effectively Implementing the Government Performance and Results Act ( GAO/GGD-96-118, June 1996).',\n 'Information  Computer Attacks at Department of Defense Pose Increasing Risks',\n 'Daniel took it upon himself to explain a few things.',\n 'The Ile Saint-Louis is an enchanted self-contained island of gracious living, long popular with the more affluent gentry and celebrities of Paris.',\n 'But it will be about the Old Wolf who wants to see you.',\n '19 With four months to work before the award of the contract, a fleeting 13 months would have been critical to revamping this 675 MWe boiler.',\n 'Kentucky officials say there is a virtual epidemic of abusive relationships in the state.',\n 'and uh it that takes so much time away from your kids',\n ', smaller classes, use of technology) and from a long-term lack of student support space (lockers, food services, student organization offices).',\n \"Even if you're the kind of traveler who likes to improvise and be adventurous, don't turn your nose up at the tourist offices.\",\n 'Some of the lexical records of the book are doubtful.',\n 'He was in Bridgetown the night of the Spanish raid.',\n 'Feisty, like fizzle, begins with Middle English fysten, as in fisten `to fart.',\n 'He walked out into the street and I followed.',\n 'Steps are initiated to allow program board membership to reflect the clienteligible community and include representatives from the funding community, corporations and other partners.',\n 'Also, the Holy Family are said to have sheltered here on their return from Egypt.',\n 'design, we were concerned that payment would be authorized before the trip was confirmed to take place.',\n 'Executives could also receive a provisional or fail rating for each item.',\n 'Complacency came easily after a couple of weeks without capture.',\n \"In the other sight he saw Adrin's hands cocking back a pair of dragon-hammered pistols.\",\n 'Since the snippet and why the extraction is not properly understood, see Graham Allison and Philip Zelikow, Key Decisions 2D ED.',\n 'There is very little to see here, or at the ruined Essene monastery of Qumran itself.',\n \"Enthusiasm for Disney's Broadway production of The Lion King dwindles.\",\n 'In May or June, Clarke asked to be transferred from the counterterrorism ministry to a new ministry in charge of cybersecurity.',\n 'Fixing current levels of damage would be impossible.',\n \"Allow time in Thirasia to explore Santorini's smaller sibling islands.\",\n 'He had forgotten about Adrin.',\n 'The entire city was surrounded by open countryside with a scattering of small villages.',\n \"couple of years ago i was thinking about moving to Massachusetts but uh boy i'm glad i didn't\",\n 'Using modern technology for individual consideration Short-term interventions and responses may help fill gaps in the care system for at-risk patients and alcohol use problems.',\n \"That's what guarantees that people will keep buying tickets as long as the odds are in their favor.\",\n \"You will find a number of Mary's personal effects on display.\",\n 'more of a football powerhouse up there i guess',\n \"yeah yeah if they do come up with a positive regardless of what uh what it was they detected uh we're required to go attend a uh a counseling session\",\n 'yeah i mean this this Escort even when the head gasket went i mean it would start first time every time',\n 'Mr. Nields replied, we are certainly happy to use the phrase long phrases.',\n 'As Jon looked at him, Barnam puffed out his chest.',\n 'Possibly, but strychnine is a fairly rapid drug in its action.',\n 'The main attraction of Kom Ombo is the vibrant color still found on the columns in the Hypostyle Hall.',\n 'I... I think he said, Calverley, between doubt and uncertainty.',\n \"It's like oversimplified, the first one he gave me was very detailed and complicated, and this second one is very simple.\",\n \"yeah TI people yeah and so i just figured no it's just this area you know\",\n 'Scutari is traditionally associated with the name of Florence Nightingale.',\n 'Anyway, this guy got in.',\n 'Castlerigg near Keswick is the best example.',\n \"The idea that Clinton's approval represents something new and immoral in the country is historically shortsighted.\",\n 'The most recent attraction at the pyramid complex is a small museum housing the remains of a solar barque (a cedar longboat) which was found in 1954.',\n 'Taking the privileges and immunities of citizens as an essential value of the new order, as Black does, creates its own problems of equality under the law.',\n \"and uh my daughter gets irate when i when i do that because you know she's a teenager\",\n \"They just didn't like the stuff that was quite cloudy back in the day, and that's it, you know, I guess, maybe, you know, early 1930s, ah, when they did that.\",\n \"That's it. The girl looked at him, then passed her hand across her forehead.\",\n 'Citing conservative critics of Brown vs.',\n 'Saint-Paul-de-Vence',\n 'Weicker has yet to declare his intentions.',\n 'yeah but uh do you have small kids',\n 'when there was the ball that was sort of hit to Buckner to Buckner']"
     },
     "execution_count": 25,
     "metadata": {},
     "output_type": "execute_result"
    }
   ],
   "source": [
    "list(y1)"
   ],
   "metadata": {
    "collapsed": false,
    "ExecuteTime": {
     "end_time": "2023-09-01T03:08:26.515436Z",
     "start_time": "2023-09-01T03:06:08.529575Z"
    }
   },
   "id": "9f77b4e43df24b6f"
  },
  {
   "cell_type": "code",
   "execution_count": null,
   "outputs": [],
   "source": [
    "y2 = map(y,df_train[\"premise\"][0:int(len(df_train)/25)])"
   ],
   "metadata": {
    "collapsed": false
   },
   "id": "98dd63b7bd3edc92"
  }
 ],
 "metadata": {
  "kernelspec": {
   "display_name": "Python 3",
   "language": "python",
   "name": "python3"
  },
  "language_info": {
   "codemirror_mode": {
    "name": "ipython",
    "version": 2
   },
   "file_extension": ".py",
   "mimetype": "text/x-python",
   "name": "python",
   "nbconvert_exporter": "python",
   "pygments_lexer": "ipython2",
   "version": "2.7.6"
  }
 },
 "nbformat": 4,
 "nbformat_minor": 5
}
