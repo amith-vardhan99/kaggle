{
 "cells": [
  {
   "cell_type": "markdown",
   "source": [
    "# Contradictory, My Dear Watson\n",
    "\n",
    "### Detecting contradiction and entailment in multilingual text using TPUs"
   ],
   "metadata": {
    "collapsed": false
   },
   "id": "56651d4c72f80bd5"
  },
  {
   "cell_type": "markdown",
   "source": [
    "**Kaggle link:** https://www.kaggle.com/competitions/contradictory-my-dear-watson/overview"
   ],
   "metadata": {
    "collapsed": false
   },
   "id": "da48c69849e78238"
  },
  {
   "cell_type": "markdown",
   "source": [
    "### Description\n",
    "\n",
    "\"…when you have eliminated the impossible, whatever remains, however improbable, must be the truth\"\n",
    "-Sir Arthur Conan Doyle\n",
    "\n",
    "Our brains process the meaning of a sentence like this rather quickly.\n",
    "\n",
    "We're able to surmise:\n",
    "\n",
    "Some things to be true: \"You can find the right answer through the process of elimination.”\n",
    "Others that may have truth: \"Ideas that are improbable are not impossible!\"\n",
    "And some claims are clearly contradictory: \"Things that you have ruled out as impossible are where the truth lies.\"\n",
    "Natural language processing (NLP) has grown increasingly elaborate over the past few years. Machine learning models tackle question answering, text extraction, sentence generation, and many other complex tasks. But, can machines determine the relationships between sentences, or is that still left to humans? If NLP can be applied between sentences, this could have profound implications for fact-checking, identifying fake news, analyzing text, and much more."
   ],
   "metadata": {
    "collapsed": false
   },
   "id": "9e2e64dcf1650036"
  },
  {
   "cell_type": "markdown",
   "source": [
    "### The Challenge:\n",
    "If you have two sentences, there are three ways they could be related: one could entail the other, one could contradict the other, or they could be unrelated. Natural Language Inferencing (NLI) is a popular NLP problem that involves determining how pairs of sentences (consisting of a premise and a hypothesis) are related.\n",
    "\n",
    "Your task is to create an NLI model that assigns labels of 0, 1, or 2 (corresponding to entailment, neutral, and contradiction) to pairs of premises and hypotheses. To make things more interesting, the train and test set include text in fifteen different languages! You can find more details on the dataset by reviewing the Data page.\n",
    "\n",
    "Today, the most common approaches to NLI problems include using embeddings and transformers like BERT. In this competition, we’re providing a starter notebook to try your hand at this problem using the power of Tensor Processing Units (TPUs). TPUs are powerful hardware accelerators specialized in deep learning tasks, including Natural Language Processing. Kaggle provides all users TPU Quota at no cost, which you can use to explore this competition. Check out our TPU documentation and Kaggle’s YouTube playlist for more information and resources."
   ],
   "metadata": {
    "collapsed": false
   },
   "id": "bd0bfde6ef140bb"
  },
  {
   "cell_type": "markdown",
   "source": [
    "### The Challenge:\n",
    "If you have two sentences, there are three ways they could be related: one could entail the other, one could contradict the other, or they could be unrelated. Natural Language Inferencing (NLI) is a popular NLP problem that involves determining how pairs of sentences (consisting of a premise and a hypothesis) are related.\n",
    "\n",
    "Your task is to create an NLI model that assigns labels of 0, 1, or 2 (corresponding to entailment, neutral, and contradiction) to pairs of premises and hypotheses. To make things more interesting, the train and test set include text in fifteen different languages! You can find more details on the dataset by reviewing the Data page.\n",
    "\n",
    "Today, the most common approaches to NLI problems include using embeddings and transformers like BERT. In this competition, we’re providing a starter notebook to try your hand at this problem using the power of Tensor Processing Units (TPUs). TPUs are powerful hardware accelerators specialized in deep learning tasks, including Natural Language Processing. Kaggle provides all users TPU Quota at no cost, which you can use to explore this competition. Check out our TPU documentation and Kaggle’s YouTube playlist for more information and resources."
   ],
   "metadata": {
    "collapsed": false
   },
   "id": "4bb5ada2f37c542a"
  },
  {
   "cell_type": "markdown",
   "source": [
    "### Recommended Tutorial\n",
    "We highly recommend this excellent tutorial on using KerasNLP to solve this problem, from the Keras team as well as Ana Sofia Uzsoy’s Tutorial that walks you through creating your very first submission step by step with TPUs and BERT.\n",
    "    This is a great opportunity to flex your NLP muscles and solve an exciting problem!"
   ],
   "metadata": {
    "collapsed": false
   },
   "id": "2e201f810b681cf0"
  },
  {
   "cell_type": "markdown",
   "source": [
    "### Disclaimer: \n",
    "The dataset for this competition contains text that may be considered profane, vulgar, or offensive."
   ],
   "metadata": {
    "collapsed": false
   },
   "id": "55830535e620963b"
  },
  {
   "cell_type": "markdown",
   "source": [
    "### Evaluation"
   ],
   "metadata": {
    "collapsed": false
   },
   "id": "b9da0ddb25d1c6ef"
  },
  {
   "cell_type": "markdown",
   "source": [
    "#### Goal\n",
    "Your goal is to predict whether a given hypothesis is related to its premise by contradiction, entailment, or whether neither of those is true (neutral).\n",
    "For each sample in the test set, you must predict a 0, 1, or 2 value for the variable.\n",
    "\n",
    "Those values map to the logical condition as:\n",
    "\n",
    "0 == entailment\n",
    "1 == neutral\n",
    "2 == contradiction"
   ],
   "metadata": {
    "collapsed": false
   },
   "id": "3722165b7cd29685"
  },
  {
   "cell_type": "markdown",
   "source": [
    "#### Metric\n",
    "Your score is the percentage of relationships you correctly predict. This is known as accuracy.\n",
    "\n",
    "\n",
    "#### Submission File Format\n",
    "You should submit a csv file with exactly 5195 entries plus a header row. Your submission will show an error if you have extra columns (beyond id and prediction) or rows.\n",
    "\n",
    "The file should have exactly 2 columns:\n",
    "\n",
    "id (sorted in any order)\n",
    "prediction (contains your predictions: 0 for entailment, 1 for neutral, 2 for contradiction)"
   ],
   "metadata": {
    "collapsed": false
   },
   "id": "a10d2f0825c39b06"
  },
  {
   "cell_type": "markdown",
   "source": [
    "### id,prediction\n",
    "\n",
    "c6d58c3f69,1\n",
    "cefcc82292,1\n",
    "e98005252c,1\n",
    "58518c10ba,1\n",
    "c32b0d16df,1\n",
    "Etc."
   ],
   "metadata": {
    "collapsed": false
   },
   "id": "6a1e59d0cd90d270"
  },
  {
   "cell_type": "markdown",
   "source": [
    "You can download an example submission file (sample_submission.csv) on the Data page."
   ],
   "metadata": {
    "collapsed": false
   },
   "id": "7a4b02ad906b3e3"
  },
  {
   "cell_type": "markdown",
   "source": [
    "### Code Submission Requirement\n",
    "\n",
    "In this code competition, your submission.csv file must be generated as an output from a Kaggle notebook. For details on how to submit from a notebook, review the FAQ on \"How do I make a submission?\""
   ],
   "metadata": {
    "collapsed": false
   },
   "id": "4fe7f9bc64164119"
  },
  {
   "cell_type": "markdown",
   "source": [
    "### Dataset Description\n",
    "In this Getting Started Competition, we’re classifying pairs of sentences (consisting of a premise and a hypothesis) into three categories - entailment, contradiction, or neutral. Let’s take a look at an example of each of these cases for the following premise:\n",
    "\n",
    "He came, he opened the door and I remember looking back and seeing the expression on his face, and I could tell that he was disappointed."
   ],
   "metadata": {
    "collapsed": false
   },
   "id": "9e65d6f3639c1280"
  },
  {
   "cell_type": "markdown",
   "source": [
    "#### Hypothesis 1:\n",
    "\n",
    "Just by the look on his face when he came through the door I just knew that he was let down.\n",
    "\n",
    "We know that this is true based on the information in the premise. So, this pair is related by entailment.\n"
   ],
   "metadata": {
    "collapsed": false
   },
   "id": "a966d9a85b52945b"
  },
  {
   "cell_type": "markdown",
   "source": [
    "#### Hypothesis 2:\n",
    "\n",
    "He was trying not to make us feel guilty but we knew we had caused him trouble.\n",
    "\n",
    "This very well might be true, but we can’t conclude this based on the information in the premise. So, this relationship is neutral."
   ],
   "metadata": {
    "collapsed": false
   },
   "id": "31e444a33fec6a96"
  },
  {
   "cell_type": "markdown",
   "source": [
    "#### Hypothesis 3:\n",
    "\n",
    "He was so excited and bursting with joy that he practically knocked the door off it's frame.\n",
    "\n",
    "We know this isn’t true, because it is the complete opposite of what the premise says. So, this pair is related by contradiction.\n",
    "\n",
    "This dataset contains premise-hypothesis pairs in fifteen different languages, including:\n",
    "Arabic, Bulgarian, Chinese, German, Greek, English, Spanish, French, Hindi, Russian, Swahili, Thai, Turkish, Urdu, and Vietnamese."
   ],
   "metadata": {
    "collapsed": false
   },
   "id": "bd7d53c7008d7e93"
  },
  {
   "cell_type": "markdown",
   "source": [
    "#### Files:\n",
    "train.csv: This file contains the ID, premise, hypothesis, and label, as well as the language of the text and its two-letter abbreviation\n",
    "\n",
    "test.csv: This file contains the ID, premise, hypothesis, language, and language abbreviation, without labels.\n",
    "\n",
    "sample_submission.csv: This is a sample submission file in the correct format:\n",
    "id: a unique identifier for each sample\n",
    "    label: the classification of the relationship between the premise and hypothesis (0 for entailment, 1 for neutral, 2 for contradiction)"
   ],
   "metadata": {
    "collapsed": false
   },
   "id": "8a6a65c9b99afc3c"
  },
  {
   "cell_type": "markdown",
   "source": [
    "Special thanks to Tensorflow Datasets (TFDS) for providing this and many other useful datasets! For more information, visit: https://www.tensorflow.org/datasets\n",
    "\n",
    "Disclaimer: The dataset for this competition contains text that may be considered profane, vulgar, or offensive."
   ],
   "metadata": {
    "collapsed": false
   },
   "id": "88807b0d6a1a79ba"
  },
  {
   "cell_type": "code",
   "execution_count": 1,
   "outputs": [],
   "source": [
    "import numpy as np\n",
    "import pandas as pd\n",
    "import matplotlib.pyplot as plt\n",
    "import seaborn as sns\n",
    "from sklearn.model_selection import *\n",
    "from sklearn.linear_model import *\n",
    "from math import *\n",
    "from nltk import *\n",
    "import warnings\n",
    "warnings.filterwarnings(\"ignore\")\n",
    "from deep_translator import *\n",
    "import os"
   ],
   "metadata": {
    "collapsed": false,
    "ExecuteTime": {
     "end_time": "2023-09-02T00:18:09.513451Z",
     "start_time": "2023-09-02T00:18:08.563848Z"
    }
   },
   "id": "386339123bd60219"
  },
  {
   "cell_type": "code",
   "execution_count": 2,
   "outputs": [
    {
     "name": "stderr",
     "output_type": "stream",
     "text": [
      "[nltk_data] Downloading collection 'all'\n",
      "[nltk_data]    | \n",
      "[nltk_data]    | Downloading package abc to /Users/amith/nltk_data...\n",
      "[nltk_data]    |   Unzipping corpora/abc.zip.\n",
      "[nltk_data]    | Downloading package alpino to\n",
      "[nltk_data]    |     /Users/amith/nltk_data...\n",
      "[nltk_data]    |   Unzipping corpora/alpino.zip.\n",
      "[nltk_data]    | Downloading package averaged_perceptron_tagger to\n",
      "[nltk_data]    |     /Users/amith/nltk_data...\n",
      "[nltk_data]    |   Unzipping taggers/averaged_perceptron_tagger.zip.\n",
      "[nltk_data]    | Downloading package averaged_perceptron_tagger_ru to\n",
      "[nltk_data]    |     /Users/amith/nltk_data...\n",
      "[nltk_data]    |   Unzipping\n",
      "[nltk_data]    |       taggers/averaged_perceptron_tagger_ru.zip.\n",
      "[nltk_data]    | Downloading package basque_grammars to\n",
      "[nltk_data]    |     /Users/amith/nltk_data...\n",
      "[nltk_data]    |   Unzipping grammars/basque_grammars.zip.\n",
      "[nltk_data]    | Downloading package bcp47 to\n",
      "[nltk_data]    |     /Users/amith/nltk_data...\n",
      "[nltk_data]    | Downloading package biocreative_ppi to\n",
      "[nltk_data]    |     /Users/amith/nltk_data...\n",
      "[nltk_data]    |   Unzipping corpora/biocreative_ppi.zip.\n",
      "[nltk_data]    | Downloading package bllip_wsj_no_aux to\n",
      "[nltk_data]    |     /Users/amith/nltk_data...\n",
      "[nltk_data]    |   Unzipping models/bllip_wsj_no_aux.zip.\n",
      "[nltk_data]    | Downloading package book_grammars to\n",
      "[nltk_data]    |     /Users/amith/nltk_data...\n",
      "[nltk_data]    |   Unzipping grammars/book_grammars.zip.\n",
      "[nltk_data]    | Downloading package brown to\n",
      "[nltk_data]    |     /Users/amith/nltk_data...\n",
      "[nltk_data]    |   Unzipping corpora/brown.zip.\n",
      "[nltk_data]    | Downloading package brown_tei to\n",
      "[nltk_data]    |     /Users/amith/nltk_data...\n",
      "[nltk_data]    |   Unzipping corpora/brown_tei.zip.\n",
      "[nltk_data]    | Downloading package cess_cat to\n",
      "[nltk_data]    |     /Users/amith/nltk_data...\n",
      "[nltk_data]    |   Unzipping corpora/cess_cat.zip.\n",
      "[nltk_data]    | Downloading package cess_esp to\n",
      "[nltk_data]    |     /Users/amith/nltk_data...\n",
      "[nltk_data]    |   Unzipping corpora/cess_esp.zip.\n",
      "[nltk_data]    | Downloading package chat80 to\n",
      "[nltk_data]    |     /Users/amith/nltk_data...\n",
      "[nltk_data]    |   Unzipping corpora/chat80.zip.\n",
      "[nltk_data]    | Downloading package city_database to\n",
      "[nltk_data]    |     /Users/amith/nltk_data...\n",
      "[nltk_data]    |   Unzipping corpora/city_database.zip.\n",
      "[nltk_data]    | Downloading package cmudict to\n",
      "[nltk_data]    |     /Users/amith/nltk_data...\n",
      "[nltk_data]    |   Unzipping corpora/cmudict.zip.\n",
      "[nltk_data]    | Downloading package comparative_sentences to\n",
      "[nltk_data]    |     /Users/amith/nltk_data...\n",
      "[nltk_data]    |   Unzipping corpora/comparative_sentences.zip.\n",
      "[nltk_data]    | Downloading package comtrans to\n",
      "[nltk_data]    |     /Users/amith/nltk_data...\n",
      "[nltk_data]    | Downloading package conll2000 to\n",
      "[nltk_data]    |     /Users/amith/nltk_data...\n",
      "[nltk_data]    |   Unzipping corpora/conll2000.zip.\n",
      "[nltk_data]    | Downloading package conll2002 to\n",
      "[nltk_data]    |     /Users/amith/nltk_data...\n",
      "[nltk_data]    |   Unzipping corpora/conll2002.zip.\n",
      "[nltk_data]    | Downloading package conll2007 to\n",
      "[nltk_data]    |     /Users/amith/nltk_data...\n",
      "[nltk_data]    | Downloading package crubadan to\n",
      "[nltk_data]    |     /Users/amith/nltk_data...\n",
      "[nltk_data]    |   Unzipping corpora/crubadan.zip.\n",
      "[nltk_data]    | Downloading package dependency_treebank to\n",
      "[nltk_data]    |     /Users/amith/nltk_data...\n",
      "[nltk_data]    |   Unzipping corpora/dependency_treebank.zip.\n",
      "[nltk_data]    | Downloading package dolch to\n",
      "[nltk_data]    |     /Users/amith/nltk_data...\n",
      "[nltk_data]    |   Unzipping corpora/dolch.zip.\n",
      "[nltk_data]    | Downloading package europarl_raw to\n",
      "[nltk_data]    |     /Users/amith/nltk_data...\n",
      "[nltk_data]    |   Unzipping corpora/europarl_raw.zip.\n",
      "[nltk_data]    | Downloading package extended_omw to\n",
      "[nltk_data]    |     /Users/amith/nltk_data...\n",
      "[nltk_data]    | Downloading package floresta to\n",
      "[nltk_data]    |     /Users/amith/nltk_data...\n",
      "[nltk_data]    |   Unzipping corpora/floresta.zip.\n",
      "[nltk_data]    | Downloading package framenet_v15 to\n",
      "[nltk_data]    |     /Users/amith/nltk_data...\n",
      "[nltk_data]    |   Unzipping corpora/framenet_v15.zip.\n",
      "[nltk_data]    | Downloading package framenet_v17 to\n",
      "[nltk_data]    |     /Users/amith/nltk_data...\n",
      "[nltk_data]    |   Package framenet_v17 is already up-to-date!\n",
      "[nltk_data]    | Downloading package gazetteers to\n",
      "[nltk_data]    |     /Users/amith/nltk_data...\n",
      "[nltk_data]    |   Package gazetteers is already up-to-date!\n",
      "[nltk_data]    | Downloading package genesis to\n",
      "[nltk_data]    |     /Users/amith/nltk_data...\n",
      "[nltk_data]    |   Package genesis is already up-to-date!\n",
      "[nltk_data]    | Downloading package gutenberg to\n",
      "[nltk_data]    |     /Users/amith/nltk_data...\n",
      "[nltk_data]    |   Package gutenberg is already up-to-date!\n",
      "[nltk_data]    | Downloading package ieer to /Users/amith/nltk_data...\n",
      "[nltk_data]    |   Package ieer is already up-to-date!\n",
      "[nltk_data]    | Downloading package inaugural to\n",
      "[nltk_data]    |     /Users/amith/nltk_data...\n",
      "[nltk_data]    |   Package inaugural is already up-to-date!\n",
      "[nltk_data]    | Downloading package indian to\n",
      "[nltk_data]    |     /Users/amith/nltk_data...\n",
      "[nltk_data]    |   Package indian is already up-to-date!\n",
      "[nltk_data]    | Downloading package jeita to\n",
      "[nltk_data]    |     /Users/amith/nltk_data...\n",
      "[nltk_data]    |   Package jeita is already up-to-date!\n",
      "[nltk_data]    | Downloading package kimmo to\n",
      "[nltk_data]    |     /Users/amith/nltk_data...\n",
      "[nltk_data]    |   Package kimmo is already up-to-date!\n",
      "[nltk_data]    | Downloading package knbc to /Users/amith/nltk_data...\n",
      "[nltk_data]    |   Package knbc is already up-to-date!\n",
      "[nltk_data]    | Downloading package large_grammars to\n",
      "[nltk_data]    |     /Users/amith/nltk_data...\n",
      "[nltk_data]    |   Package large_grammars is already up-to-date!\n",
      "[nltk_data]    | Downloading package lin_thesaurus to\n",
      "[nltk_data]    |     /Users/amith/nltk_data...\n",
      "[nltk_data]    |   Package lin_thesaurus is already up-to-date!\n",
      "[nltk_data]    | Downloading package mac_morpho to\n",
      "[nltk_data]    |     /Users/amith/nltk_data...\n",
      "[nltk_data]    |   Package mac_morpho is already up-to-date!\n",
      "[nltk_data]    | Downloading package machado to\n",
      "[nltk_data]    |     /Users/amith/nltk_data...\n",
      "[nltk_data]    |   Package machado is already up-to-date!\n",
      "[nltk_data]    | Downloading package masc_tagged to\n",
      "[nltk_data]    |     /Users/amith/nltk_data...\n",
      "[nltk_data]    |   Package masc_tagged is already up-to-date!\n",
      "[nltk_data]    | Downloading package maxent_ne_chunker to\n",
      "[nltk_data]    |     /Users/amith/nltk_data...\n",
      "[nltk_data]    |   Package maxent_ne_chunker is already up-to-date!\n",
      "[nltk_data]    | Downloading package maxent_treebank_pos_tagger to\n",
      "[nltk_data]    |     /Users/amith/nltk_data...\n",
      "[nltk_data]    |   Package maxent_treebank_pos_tagger is already up-\n",
      "[nltk_data]    |       to-date!\n",
      "[nltk_data]    | Downloading package moses_sample to\n",
      "[nltk_data]    |     /Users/amith/nltk_data...\n",
      "[nltk_data]    |   Package moses_sample is already up-to-date!\n",
      "[nltk_data]    | Downloading package movie_reviews to\n",
      "[nltk_data]    |     /Users/amith/nltk_data...\n",
      "[nltk_data]    |   Package movie_reviews is already up-to-date!\n",
      "[nltk_data]    | Downloading package mte_teip5 to\n",
      "[nltk_data]    |     /Users/amith/nltk_data...\n",
      "[nltk_data]    |   Package mte_teip5 is already up-to-date!\n",
      "[nltk_data]    | Downloading package mwa_ppdb to\n",
      "[nltk_data]    |     /Users/amith/nltk_data...\n",
      "[nltk_data]    |   Package mwa_ppdb is already up-to-date!\n",
      "[nltk_data]    | Downloading package names to\n",
      "[nltk_data]    |     /Users/amith/nltk_data...\n",
      "[nltk_data]    |   Package names is already up-to-date!\n",
      "[nltk_data]    | Downloading package nombank.1.0 to\n",
      "[nltk_data]    |     /Users/amith/nltk_data...\n",
      "[nltk_data]    |   Package nombank.1.0 is already up-to-date!\n",
      "[nltk_data]    | Downloading package nonbreaking_prefixes to\n",
      "[nltk_data]    |     /Users/amith/nltk_data...\n",
      "[nltk_data]    |   Package nonbreaking_prefixes is already up-to-date!\n",
      "[nltk_data]    | Downloading package nps_chat to\n",
      "[nltk_data]    |     /Users/amith/nltk_data...\n",
      "[nltk_data]    |   Package nps_chat is already up-to-date!\n",
      "[nltk_data]    | Downloading package omw to /Users/amith/nltk_data...\n",
      "[nltk_data]    |   Package omw is already up-to-date!\n",
      "[nltk_data]    | Downloading package omw-1.4 to\n",
      "[nltk_data]    |     /Users/amith/nltk_data...\n",
      "[nltk_data]    |   Package omw-1.4 is already up-to-date!\n",
      "[nltk_data]    | Downloading package opinion_lexicon to\n",
      "[nltk_data]    |     /Users/amith/nltk_data...\n",
      "[nltk_data]    |   Package opinion_lexicon is already up-to-date!\n",
      "[nltk_data]    | Downloading package panlex_swadesh to\n",
      "[nltk_data]    |     /Users/amith/nltk_data...\n",
      "[nltk_data]    |   Package panlex_swadesh is already up-to-date!\n",
      "[nltk_data]    | Downloading package paradigms to\n",
      "[nltk_data]    |     /Users/amith/nltk_data...\n",
      "[nltk_data]    |   Package paradigms is already up-to-date!\n",
      "[nltk_data]    | Downloading package pe08 to /Users/amith/nltk_data...\n",
      "[nltk_data]    |   Package pe08 is already up-to-date!\n",
      "[nltk_data]    | Downloading package perluniprops to\n",
      "[nltk_data]    |     /Users/amith/nltk_data...\n",
      "[nltk_data]    |   Package perluniprops is already up-to-date!\n",
      "[nltk_data]    | Downloading package pil to /Users/amith/nltk_data...\n",
      "[nltk_data]    |   Package pil is already up-to-date!\n",
      "[nltk_data]    | Downloading package pl196x to\n",
      "[nltk_data]    |     /Users/amith/nltk_data...\n",
      "[nltk_data]    |   Package pl196x is already up-to-date!\n",
      "[nltk_data]    | Downloading package porter_test to\n",
      "[nltk_data]    |     /Users/amith/nltk_data...\n",
      "[nltk_data]    |   Package porter_test is already up-to-date!\n",
      "[nltk_data]    | Downloading package ppattach to\n",
      "[nltk_data]    |     /Users/amith/nltk_data...\n",
      "[nltk_data]    |   Package ppattach is already up-to-date!\n",
      "[nltk_data]    | Downloading package problem_reports to\n",
      "[nltk_data]    |     /Users/amith/nltk_data...\n",
      "[nltk_data]    |   Package problem_reports is already up-to-date!\n",
      "[nltk_data]    | Downloading package product_reviews_1 to\n",
      "[nltk_data]    |     /Users/amith/nltk_data...\n",
      "[nltk_data]    |   Package product_reviews_1 is already up-to-date!\n",
      "[nltk_data]    | Downloading package product_reviews_2 to\n",
      "[nltk_data]    |     /Users/amith/nltk_data...\n",
      "[nltk_data]    |   Package product_reviews_2 is already up-to-date!\n",
      "[nltk_data]    | Downloading package propbank to\n",
      "[nltk_data]    |     /Users/amith/nltk_data...\n",
      "[nltk_data]    |   Package propbank is already up-to-date!\n",
      "[nltk_data]    | Downloading package pros_cons to\n",
      "[nltk_data]    |     /Users/amith/nltk_data...\n",
      "[nltk_data]    |   Package pros_cons is already up-to-date!\n",
      "[nltk_data]    | Downloading package ptb to /Users/amith/nltk_data...\n",
      "[nltk_data]    |   Package ptb is already up-to-date!\n",
      "[nltk_data]    | Downloading package punkt to\n",
      "[nltk_data]    |     /Users/amith/nltk_data...\n",
      "[nltk_data]    |   Package punkt is already up-to-date!\n",
      "[nltk_data]    | Downloading package qc to /Users/amith/nltk_data...\n",
      "[nltk_data]    |   Package qc is already up-to-date!\n",
      "[nltk_data]    | Downloading package reuters to\n",
      "[nltk_data]    |     /Users/amith/nltk_data...\n",
      "[nltk_data]    |   Package reuters is already up-to-date!\n",
      "[nltk_data]    | Downloading package rslp to /Users/amith/nltk_data...\n",
      "[nltk_data]    |   Package rslp is already up-to-date!\n",
      "[nltk_data]    | Downloading package rte to /Users/amith/nltk_data...\n",
      "[nltk_data]    |   Package rte is already up-to-date!\n",
      "[nltk_data]    | Downloading package sample_grammars to\n",
      "[nltk_data]    |     /Users/amith/nltk_data...\n",
      "[nltk_data]    |   Package sample_grammars is already up-to-date!\n",
      "[nltk_data]    | Downloading package semcor to\n",
      "[nltk_data]    |     /Users/amith/nltk_data...\n",
      "[nltk_data]    |   Package semcor is already up-to-date!\n",
      "[nltk_data]    | Downloading package senseval to\n",
      "[nltk_data]    |     /Users/amith/nltk_data...\n",
      "[nltk_data]    |   Package senseval is already up-to-date!\n",
      "[nltk_data]    | Downloading package sentence_polarity to\n",
      "[nltk_data]    |     /Users/amith/nltk_data...\n",
      "[nltk_data]    |   Package sentence_polarity is already up-to-date!\n",
      "[nltk_data]    | Downloading package sentiwordnet to\n",
      "[nltk_data]    |     /Users/amith/nltk_data...\n",
      "[nltk_data]    |   Package sentiwordnet is already up-to-date!\n",
      "[nltk_data]    | Downloading package shakespeare to\n",
      "[nltk_data]    |     /Users/amith/nltk_data...\n",
      "[nltk_data]    |   Package shakespeare is already up-to-date!\n",
      "[nltk_data]    | Downloading package sinica_treebank to\n",
      "[nltk_data]    |     /Users/amith/nltk_data...\n",
      "[nltk_data]    |   Package sinica_treebank is already up-to-date!\n",
      "[nltk_data]    | Downloading package smultron to\n",
      "[nltk_data]    |     /Users/amith/nltk_data...\n",
      "[nltk_data]    |   Package smultron is already up-to-date!\n",
      "[nltk_data]    | Downloading package snowball_data to\n",
      "[nltk_data]    |     /Users/amith/nltk_data...\n",
      "[nltk_data]    |   Package snowball_data is already up-to-date!\n",
      "[nltk_data]    | Downloading package spanish_grammars to\n",
      "[nltk_data]    |     /Users/amith/nltk_data...\n",
      "[nltk_data]    |   Package spanish_grammars is already up-to-date!\n",
      "[nltk_data]    | Downloading package state_union to\n",
      "[nltk_data]    |     /Users/amith/nltk_data...\n",
      "[nltk_data]    |   Package state_union is already up-to-date!\n",
      "[nltk_data]    | Downloading package stopwords to\n",
      "[nltk_data]    |     /Users/amith/nltk_data...\n",
      "[nltk_data]    |   Package stopwords is already up-to-date!\n",
      "[nltk_data]    | Downloading package subjectivity to\n",
      "[nltk_data]    |     /Users/amith/nltk_data...\n",
      "[nltk_data]    |   Package subjectivity is already up-to-date!\n",
      "[nltk_data]    | Downloading package swadesh to\n",
      "[nltk_data]    |     /Users/amith/nltk_data...\n",
      "[nltk_data]    |   Package swadesh is already up-to-date!\n",
      "[nltk_data]    | Downloading package switchboard to\n",
      "[nltk_data]    |     /Users/amith/nltk_data...\n",
      "[nltk_data]    |   Package switchboard is already up-to-date!\n",
      "[nltk_data]    | Downloading package tagsets to\n",
      "[nltk_data]    |     /Users/amith/nltk_data...\n",
      "[nltk_data]    |   Package tagsets is already up-to-date!\n",
      "[nltk_data]    | Downloading package timit to\n",
      "[nltk_data]    |     /Users/amith/nltk_data...\n",
      "[nltk_data]    |   Package timit is already up-to-date!\n",
      "[nltk_data]    | Downloading package toolbox to\n",
      "[nltk_data]    |     /Users/amith/nltk_data...\n",
      "[nltk_data]    |   Package toolbox is already up-to-date!\n",
      "[nltk_data]    | Downloading package treebank to\n",
      "[nltk_data]    |     /Users/amith/nltk_data...\n",
      "[nltk_data]    |   Package treebank is already up-to-date!\n",
      "[nltk_data]    | Downloading package twitter_samples to\n",
      "[nltk_data]    |     /Users/amith/nltk_data...\n",
      "[nltk_data]    |   Package twitter_samples is already up-to-date!\n",
      "[nltk_data]    | Downloading package udhr to /Users/amith/nltk_data...\n",
      "[nltk_data]    |   Package udhr is already up-to-date!\n",
      "[nltk_data]    | Downloading package udhr2 to\n",
      "[nltk_data]    |     /Users/amith/nltk_data...\n",
      "[nltk_data]    |   Package udhr2 is already up-to-date!\n",
      "[nltk_data]    | Downloading package unicode_samples to\n",
      "[nltk_data]    |     /Users/amith/nltk_data...\n",
      "[nltk_data]    |   Package unicode_samples is already up-to-date!\n",
      "[nltk_data]    | Downloading package universal_tagset to\n",
      "[nltk_data]    |     /Users/amith/nltk_data...\n",
      "[nltk_data]    |   Package universal_tagset is already up-to-date!\n",
      "[nltk_data]    | Downloading package universal_treebanks_v20 to\n",
      "[nltk_data]    |     /Users/amith/nltk_data...\n",
      "[nltk_data]    |   Package universal_treebanks_v20 is already up-to-\n",
      "[nltk_data]    |       date!\n",
      "[nltk_data]    | Downloading package vader_lexicon to\n",
      "[nltk_data]    |     /Users/amith/nltk_data...\n",
      "[nltk_data]    |   Package vader_lexicon is already up-to-date!\n",
      "[nltk_data]    | Downloading package verbnet to\n",
      "[nltk_data]    |     /Users/amith/nltk_data...\n",
      "[nltk_data]    |   Package verbnet is already up-to-date!\n",
      "[nltk_data]    | Downloading package verbnet3 to\n",
      "[nltk_data]    |     /Users/amith/nltk_data...\n",
      "[nltk_data]    |   Package verbnet3 is already up-to-date!\n",
      "[nltk_data]    | Downloading package webtext to\n",
      "[nltk_data]    |     /Users/amith/nltk_data...\n",
      "[nltk_data]    |   Package webtext is already up-to-date!\n",
      "[nltk_data]    | Downloading package wmt15_eval to\n",
      "[nltk_data]    |     /Users/amith/nltk_data...\n",
      "[nltk_data]    |   Package wmt15_eval is already up-to-date!\n",
      "[nltk_data]    | Downloading package word2vec_sample to\n",
      "[nltk_data]    |     /Users/amith/nltk_data...\n",
      "[nltk_data]    |   Package word2vec_sample is already up-to-date!\n",
      "[nltk_data]    | Downloading package wordnet to\n",
      "[nltk_data]    |     /Users/amith/nltk_data...\n",
      "[nltk_data]    |   Package wordnet is already up-to-date!\n",
      "[nltk_data]    | Downloading package wordnet2021 to\n",
      "[nltk_data]    |     /Users/amith/nltk_data...\n",
      "[nltk_data]    |   Package wordnet2021 is already up-to-date!\n",
      "[nltk_data]    | Downloading package wordnet2022 to\n",
      "[nltk_data]    |     /Users/amith/nltk_data...\n",
      "[nltk_data]    |   Package wordnet2022 is already up-to-date!\n",
      "[nltk_data]    | Downloading package wordnet31 to\n",
      "[nltk_data]    |     /Users/amith/nltk_data...\n",
      "[nltk_data]    |   Package wordnet31 is already up-to-date!\n",
      "[nltk_data]    | Downloading package wordnet_ic to\n",
      "[nltk_data]    |     /Users/amith/nltk_data...\n",
      "[nltk_data]    |   Package wordnet_ic is already up-to-date!\n",
      "[nltk_data]    | Downloading package words to\n",
      "[nltk_data]    |     /Users/amith/nltk_data...\n",
      "[nltk_data]    |   Package words is already up-to-date!\n",
      "[nltk_data]    | Downloading package ycoe to /Users/amith/nltk_data...\n",
      "[nltk_data]    |   Package ycoe is already up-to-date!\n",
      "[nltk_data]    | \n",
      "[nltk_data]  Done downloading collection all\n"
     ]
    },
    {
     "data": {
      "text/plain": "True"
     },
     "execution_count": 2,
     "metadata": {},
     "output_type": "execute_result"
    }
   ],
   "source": [
    "download(\"all\")"
   ],
   "metadata": {
    "collapsed": false,
    "ExecuteTime": {
     "end_time": "2023-09-02T00:18:28.661836Z",
     "start_time": "2023-09-02T00:18:09.512503Z"
    }
   },
   "id": "ccf234a3ef9c4e4b"
  },
  {
   "cell_type": "code",
   "execution_count": 3,
   "outputs": [
    {
     "data": {
      "text/plain": "           id                                            premise  \\\n0  5130fd2cb5  and these comments were considered in formulat...   \n1  5b72532a0b  These are issues that we wrestle with in pract...   \n2  3931fbe82a  Des petites choses comme celles-là font une di...   \n3  5622f0c60b  you know they can't really defend themselves l...   \n4  86aaa48b45  ในการเล่นบทบาทสมมุติก็เช่นกัน โอกาสที่จะได้แสด...   \n\n                                          hypothesis lang_abv language  label  \n0  The rules developed in the interim were put to...       en  English      0  \n1  Practice groups are not permitted to work on t...       en  English      2  \n2              J'essayais d'accomplir quelque chose.       fr   French      0  \n3  They can't defend themselves because of their ...       en  English      0  \n4    เด็กสามารถเห็นได้ว่าชาติพันธุ์แตกต่างกันอย่างไร       th     Thai      1  ",
      "text/html": "<div>\n<style scoped>\n    .dataframe tbody tr th:only-of-type {\n        vertical-align: middle;\n    }\n\n    .dataframe tbody tr th {\n        vertical-align: top;\n    }\n\n    .dataframe thead th {\n        text-align: right;\n    }\n</style>\n<table border=\"1\" class=\"dataframe\">\n  <thead>\n    <tr style=\"text-align: right;\">\n      <th></th>\n      <th>id</th>\n      <th>premise</th>\n      <th>hypothesis</th>\n      <th>lang_abv</th>\n      <th>language</th>\n      <th>label</th>\n    </tr>\n  </thead>\n  <tbody>\n    <tr>\n      <th>0</th>\n      <td>5130fd2cb5</td>\n      <td>and these comments were considered in formulat...</td>\n      <td>The rules developed in the interim were put to...</td>\n      <td>en</td>\n      <td>English</td>\n      <td>0</td>\n    </tr>\n    <tr>\n      <th>1</th>\n      <td>5b72532a0b</td>\n      <td>These are issues that we wrestle with in pract...</td>\n      <td>Practice groups are not permitted to work on t...</td>\n      <td>en</td>\n      <td>English</td>\n      <td>2</td>\n    </tr>\n    <tr>\n      <th>2</th>\n      <td>3931fbe82a</td>\n      <td>Des petites choses comme celles-là font une di...</td>\n      <td>J'essayais d'accomplir quelque chose.</td>\n      <td>fr</td>\n      <td>French</td>\n      <td>0</td>\n    </tr>\n    <tr>\n      <th>3</th>\n      <td>5622f0c60b</td>\n      <td>you know they can't really defend themselves l...</td>\n      <td>They can't defend themselves because of their ...</td>\n      <td>en</td>\n      <td>English</td>\n      <td>0</td>\n    </tr>\n    <tr>\n      <th>4</th>\n      <td>86aaa48b45</td>\n      <td>ในการเล่นบทบาทสมมุติก็เช่นกัน โอกาสที่จะได้แสด...</td>\n      <td>เด็กสามารถเห็นได้ว่าชาติพันธุ์แตกต่างกันอย่างไร</td>\n      <td>th</td>\n      <td>Thai</td>\n      <td>1</td>\n    </tr>\n  </tbody>\n</table>\n</div>"
     },
     "execution_count": 3,
     "metadata": {},
     "output_type": "execute_result"
    }
   ],
   "source": [
    "df_train = pd.read_csv(\"data/train.csv\")\n",
    "df_train.head()"
   ],
   "metadata": {
    "collapsed": false,
    "ExecuteTime": {
     "end_time": "2023-09-02T00:18:30.465320Z",
     "start_time": "2023-09-02T00:18:30.392955Z"
    }
   },
   "id": "3e7bab9cf259007b"
  },
  {
   "cell_type": "code",
   "execution_count": 4,
   "outputs": [
    {
     "data": {
      "text/plain": "           id                                            premise  \\\n0  c6d58c3f69  بکس، کیسی، راہیل، یسعیاہ، کیلی، کیلی، اور کولم...   \n1  cefcc82292                             هذا هو ما تم نصحنا به.   \n2  e98005252c  et cela est en grande partie dû au fait que le...   \n3  58518c10ba                   与城市及其他公民及社区组织代表就IMA的艺术发展进行对话&amp   \n4  c32b0d16df                              Она все еще была там.   \n\n                                          hypothesis lang_abv language  \n0  کیسی کے لئے کوئی یادگار نہیں ہوگا, کولمین ہائی...       ur     Urdu  \n1  عندما يتم إخبارهم بما يجب عليهم فعله ، فشلت ال...       ar   Arabic  \n2                             Les mères se droguent.       fr   French  \n3                            IMA与其他组织合作，因为它们都依靠共享资金。       zh  Chinese  \n4     Мы думали, что она ушла, однако, она осталась.       ru  Russian  ",
      "text/html": "<div>\n<style scoped>\n    .dataframe tbody tr th:only-of-type {\n        vertical-align: middle;\n    }\n\n    .dataframe tbody tr th {\n        vertical-align: top;\n    }\n\n    .dataframe thead th {\n        text-align: right;\n    }\n</style>\n<table border=\"1\" class=\"dataframe\">\n  <thead>\n    <tr style=\"text-align: right;\">\n      <th></th>\n      <th>id</th>\n      <th>premise</th>\n      <th>hypothesis</th>\n      <th>lang_abv</th>\n      <th>language</th>\n    </tr>\n  </thead>\n  <tbody>\n    <tr>\n      <th>0</th>\n      <td>c6d58c3f69</td>\n      <td>بکس، کیسی، راہیل، یسعیاہ، کیلی، کیلی، اور کولم...</td>\n      <td>کیسی کے لئے کوئی یادگار نہیں ہوگا, کولمین ہائی...</td>\n      <td>ur</td>\n      <td>Urdu</td>\n    </tr>\n    <tr>\n      <th>1</th>\n      <td>cefcc82292</td>\n      <td>هذا هو ما تم نصحنا به.</td>\n      <td>عندما يتم إخبارهم بما يجب عليهم فعله ، فشلت ال...</td>\n      <td>ar</td>\n      <td>Arabic</td>\n    </tr>\n    <tr>\n      <th>2</th>\n      <td>e98005252c</td>\n      <td>et cela est en grande partie dû au fait que le...</td>\n      <td>Les mères se droguent.</td>\n      <td>fr</td>\n      <td>French</td>\n    </tr>\n    <tr>\n      <th>3</th>\n      <td>58518c10ba</td>\n      <td>与城市及其他公民及社区组织代表就IMA的艺术发展进行对话&amp;amp</td>\n      <td>IMA与其他组织合作，因为它们都依靠共享资金。</td>\n      <td>zh</td>\n      <td>Chinese</td>\n    </tr>\n    <tr>\n      <th>4</th>\n      <td>c32b0d16df</td>\n      <td>Она все еще была там.</td>\n      <td>Мы думали, что она ушла, однако, она осталась.</td>\n      <td>ru</td>\n      <td>Russian</td>\n    </tr>\n  </tbody>\n</table>\n</div>"
     },
     "execution_count": 4,
     "metadata": {},
     "output_type": "execute_result"
    }
   ],
   "source": [
    "df_test = pd.read_csv(\"data/test.csv\")\n",
    "df_test.head()"
   ],
   "metadata": {
    "collapsed": false,
    "ExecuteTime": {
     "end_time": "2023-09-02T00:18:32.191806Z",
     "start_time": "2023-09-02T00:18:32.161469Z"
    }
   },
   "id": "db7c8f450c0b72a4"
  },
  {
   "cell_type": "code",
   "execution_count": 5,
   "outputs": [
    {
     "name": "stdout",
     "output_type": "stream",
     "text": [
      "Number of training dataset :  12120\n",
      "Number of testing dataset  :  5195\n"
     ]
    }
   ],
   "source": [
    "print(\"Number of training dataset : \",len(df_train))\n",
    "print(\"Number of testing dataset  : \",len(df_test))"
   ],
   "metadata": {
    "collapsed": false,
    "ExecuteTime": {
     "end_time": "2023-09-02T00:18:33.030770Z",
     "start_time": "2023-09-02T00:18:33.025032Z"
    }
   },
   "id": "7ea3c91bf98c8f1d"
  },
  {
   "cell_type": "code",
   "execution_count": 6,
   "outputs": [],
   "source": [
    "df_train_1 = df_train.copy()"
   ],
   "metadata": {
    "collapsed": false,
    "ExecuteTime": {
     "end_time": "2023-09-02T00:18:34.989131Z",
     "start_time": "2023-09-02T00:18:34.962133Z"
    }
   },
   "id": "93b0b20d3dc437af"
  },
  {
   "cell_type": "code",
   "execution_count": 7,
   "outputs": [],
   "source": [
    "tr = GoogleTranslator()"
   ],
   "metadata": {
    "collapsed": false,
    "ExecuteTime": {
     "end_time": "2023-09-02T00:19:16.177008Z",
     "start_time": "2023-09-02T00:19:16.161408Z"
    }
   },
   "id": "fa710d861a8efb40"
  },
  {
   "cell_type": "code",
   "execution_count": 14,
   "outputs": [
    {
     "name": "stdout",
     "output_type": "stream",
     "text": [
      " 1 :   242\n",
      " 2 :   484\n",
      " 3 :   726\n",
      " 4 :   968\n",
      " 5 :   1210\n",
      " 6 :   1452\n",
      " 7 :   1694\n",
      " 8 :   1936\n",
      " 9 :   2178\n",
      "10 :   2420\n",
      "11 :   2662\n",
      "12 :   2904\n",
      "13 :   3146\n",
      "14 :   3388\n",
      "15 :   3630\n",
      "16 :   3872\n",
      "17 :   4114\n",
      "18 :   4356\n",
      "19 :   4598\n",
      "20 :   4840\n",
      "21 :   5082\n",
      "22 :   5324\n",
      "23 :   5566\n",
      "24 :   5808\n",
      "25 :   6050\n",
      "26 :   6292\n",
      "27 :   6534\n",
      "28 :   6776\n",
      "29 :   7018\n",
      "30 :   7260\n",
      "31 :   7502\n",
      "32 :   7744\n",
      "33 :   7986\n",
      "34 :   8228\n",
      "35 :   8470\n",
      "36 :   8712\n",
      "37 :   8954\n",
      "38 :   9196\n",
      "39 :   9438\n",
      "40 :   9680\n",
      "41 :   9922\n",
      "42 :   10164\n",
      "43 :   10406\n",
      "44 :   10648\n",
      "45 :   10890\n",
      "46 :   11132\n",
      "47 :   11374\n",
      "48 :   11616\n",
      "49 :   11858\n",
      "50 :   12100\n",
      "51 :   12120\n"
     ]
    }
   ],
   "source": [
    "print(\" 1 :  \",int(len(df_train)/50))\n",
    "print(\" 2 :  \",2*int(len(df_train)/50))\n",
    "print(\" 3 :  \",3*int(len(df_train)/50))\n",
    "print(\" 4 :  \",4*int(len(df_train)/50))\n",
    "print(\" 5 :  \",5*int(len(df_train)/50))\n",
    "print(\" 6 :  \",6*int(len(df_train)/50))\n",
    "print(\" 7 :  \",7*int(len(df_train)/50))\n",
    "print(\" 8 :  \",8*int(len(df_train)/50))\n",
    "print(\" 9 :  \",9*int(len(df_train)/50))\n",
    "print(\"10 :  \",10*int(len(df_train)/50))\n",
    "print(\"11 :  \",11*int(len(df_train)/50))\n",
    "print(\"12 :  \",12*int(len(df_train)/50))\n",
    "print(\"13 :  \",13*int(len(df_train)/50))\n",
    "print(\"14 :  \",14*int(len(df_train)/50))\n",
    "print(\"15 :  \",15*int(len(df_train)/50))\n",
    "print(\"16 :  \",16*int(len(df_train)/50))\n",
    "print(\"17 :  \",17*int(len(df_train)/50))\n",
    "print(\"18 :  \",18*int(len(df_train)/50))\n",
    "print(\"19 :  \",19*int(len(df_train)/50))\n",
    "print(\"20 :  \",20*int(len(df_train)/50))\n",
    "print(\"21 :  \",21*int(len(df_train)/50))\n",
    "print(\"22 :  \",22*int(len(df_train)/50))\n",
    "print(\"23 :  \",23*int(len(df_train)/50))\n",
    "print(\"24 :  \",24*int(len(df_train)/50))\n",
    "print(\"25 :  \",25*int(len(df_train)/50))\n",
    "print(\"26 :  \",26*int(len(df_train)/50))\n",
    "print(\"27 :  \",27*int(len(df_train)/50))\n",
    "print(\"28 :  \",28*int(len(df_train)/50))\n",
    "print(\"29 :  \",29*int(len(df_train)/50))\n",
    "print(\"30 :  \",30*int(len(df_train)/50))\n",
    "print(\"31 :  \",31*int(len(df_train)/50))\n",
    "print(\"32 :  \",32*int(len(df_train)/50))\n",
    "print(\"33 :  \",33*int(len(df_train)/50))\n",
    "print(\"34 :  \",34*int(len(df_train)/50))\n",
    "print(\"35 :  \",35*int(len(df_train)/50))\n",
    "print(\"36 :  \",36*int(len(df_train)/50))\n",
    "print(\"37 :  \",37*int(len(df_train)/50))\n",
    "print(\"38 :  \",38*int(len(df_train)/50))\n",
    "print(\"39 :  \",39*int(len(df_train)/50))\n",
    "print(\"40 :  \",40*int(len(df_train)/50))\n",
    "print(\"41 :  \",41*int(len(df_train)/50))\n",
    "print(\"42 :  \",42*int(len(df_train)/50))\n",
    "print(\"43 :  \",43*int(len(df_train)/50))\n",
    "print(\"44 :  \",44*int(len(df_train)/50))\n",
    "print(\"45 :  \",45*int(len(df_train)/50))\n",
    "print(\"46 :  \",46*int(len(df_train)/50))\n",
    "print(\"47 :  \",47*int(len(df_train)/50))\n",
    "print(\"48 :  \",48*int(len(df_train)/50))\n",
    "print(\"49 :  \",49*int(len(df_train)/50))\n",
    "print(\"50 :  \",50*int(len(df_train)/50))\n",
    "print(\"51 :  \",int(len(df_train)))"
   ],
   "metadata": {
    "collapsed": false,
    "ExecuteTime": {
     "end_time": "2023-09-02T00:41:07.481064Z",
     "start_time": "2023-09-02T00:41:07.477769Z"
    }
   },
   "id": "b6c5e7e5c824a38d"
  },
  {
   "cell_type": "code",
   "execution_count": null,
   "outputs": [],
   "source": [],
   "metadata": {
    "collapsed": false,
    "ExecuteTime": {
     "end_time": "2023-09-02T01:08:13.375908Z",
     "start_time": "2023-09-02T01:08:13.375647Z"
    }
   },
   "id": "feec4a267449de5e"
  },
  {
   "cell_type": "code",
   "execution_count": 24,
   "outputs": [
    {
     "data": {
      "text/plain": "0      and these comments were considered in formulat...\n1      These are issues that we wrestle with in pract...\n2      Des petites choses comme celles-là font une di...\n3      you know they can't really defend themselves l...\n4      ในการเล่นบทบาทสมมุติก็เช่นกัน โอกาสที่จะได้แสด...\n                             ...                        \n238    The data would be presented as required supple...\n239                    我的梦想是看到每一个美国人都成为奥运家庭的一员，所以请尽一切可能。\n240    जनसंख्या वृद्धि  विपरीत दिशा में  प्रदूषण की त...\n241    اصلاحات جو ابھی تک اپنایا گیا ہے گہرے اثرات ہی...\n242    Initial demand for land in the New Town was no...\nName: premise, Length: 243, dtype: object"
     },
     "execution_count": 24,
     "metadata": {},
     "output_type": "execute_result"
    }
   ],
   "source": [
    "premise = df_train.loc[0:int(len(df_train)/50),\"premise\"]\n",
    "premise[]"
   ],
   "metadata": {
    "collapsed": false,
    "ExecuteTime": {
     "end_time": "2023-09-02T00:57:46.848342Z",
     "start_time": "2023-09-02T00:57:46.845401Z"
    }
   },
   "id": "b0c15d718e21a624"
  },
  {
   "cell_type": "code",
   "execution_count": 21,
   "outputs": [
    {
     "data": {
      "text/plain": "array([  0,   1,   2,   3,   4,   5,   6,   7,   8,   9,  10,  11,  12,\n        13,  14,  15,  16,  17,  18,  19,  20,  21,  22,  23,  24,  25,\n        26,  27,  28,  29,  30,  31,  32,  33,  34,  35,  36,  37,  38,\n        39,  40,  41,  42,  43,  44,  45,  46,  47,  48,  49,  50,  51,\n        52,  53,  54,  55,  56,  57,  58,  59,  60,  61,  62,  63,  64,\n        65,  66,  67,  68,  69,  70,  71,  72,  73,  74,  75,  76,  77,\n        78,  79,  80,  81,  82,  83,  84,  85,  86,  87,  88,  89,  90,\n        91,  92,  93,  94,  95,  96,  97,  98,  99, 100, 101, 102, 103,\n       104, 105, 106, 107, 108, 109, 110, 111, 112, 113, 114, 115, 116,\n       117, 118, 119, 120, 121, 122, 123, 124, 125, 126, 127, 128, 129,\n       130, 131, 132, 133, 134, 135, 136, 137, 138, 139, 140, 141, 142,\n       143, 144, 145, 146, 147, 148, 149, 150, 151, 152, 153, 154, 155,\n       156, 157, 158, 159, 160, 161, 162, 163, 164, 165, 166, 167, 168,\n       169, 170, 171, 172, 173, 174, 175, 176, 177, 178, 179, 180, 181,\n       182, 183, 184, 185, 186, 187, 188, 189, 190, 191, 192, 193, 194,\n       195, 196, 197, 198, 199, 200, 201, 202, 203, 204, 205, 206, 207,\n       208, 209, 210, 211, 212, 213, 214, 215, 216, 217, 218, 219, 220,\n       221, 222, 223, 224, 225, 226, 227, 228, 229, 230, 231, 232, 233,\n       234, 235, 236, 237, 238, 239, 240, 241])"
     },
     "execution_count": 21,
     "metadata": {},
     "output_type": "execute_result"
    }
   ],
   "source": [
    "df_train.index.values[0:int(len(df_train)/50)]"
   ],
   "metadata": {
    "collapsed": false,
    "ExecuteTime": {
     "end_time": "2023-09-02T00:55:51.588975Z",
     "start_time": "2023-09-02T00:55:51.554986Z"
    }
   },
   "id": "ed3e110e2bcd181d"
  },
  {
   "cell_type": "code",
   "execution_count": 17,
   "outputs": [
    {
     "data": {
      "text/plain": "            id                                            premise  \\\n0   5130fd2cb5  and these comments were considered in formulat...   \n1   5b72532a0b  These are issues that we wrestle with in pract...   \n2   3931fbe82a  Des petites choses comme celles-là font une di...   \n3   5622f0c60b  you know they can't really defend themselves l...   \n4   86aaa48b45  ในการเล่นบทบาทสมมุติก็เช่นกัน โอกาสที่จะได้แสด...   \n5   ed7d6a1e62  Bir çiftlikte birisinin, ağıla kapatılmış bu ö...   \n6   5a0f4908a0  ریاست ہائے متحدہ امریکہ واپس آنے پر، ہج ایف بی...   \n7   fdcd1bd867              From Cockpit Country to St. Ann's Bay   \n8   7cfb3d272c  Look, it's your skin, but you're going to be i...   \n9   8c10229663  Через каждые сто градусов пятна краски меняют ...   \n10  a1971593d5  Може да не сме имали всичко, което сме искали ...   \n11  2bf4b86d4f                Es fallen zwanzig Prozent Zinsen an   \n12  91b03f6bf4              إذا أمكن ، تعرّف على المؤامرة مسبقًا.   \n13  4c25aa4c06        我希望你的领主能够最终开始认识到，向这样的人授予国王委员会的愚蠢行为反对我的所有建议。   \n14  82f24422eb  म्जोडी का दावा है कि वह शादी करने के लिए मोरक्...   \n15  6d63ae6397       Watoto wangegonga milango ya majirani zao na   \n16  dd4f0d9f25  \"If you people only knew how fatally easy it i...   \n17  0a3f52c547  My own little corner of the world, policy wonk...   \n18  4b0eca3ccb  life in prison then he's available for parole ...   \n19  cad235551c  The streets are crammed with vendors selling s...   \n20  d8b3a4fb06  North of Mytilini, stop at the village of Mori...   \n21  ad5a79456e  Increased saving by current generations would ...   \n22  a7b0b9498c                          It's just the beginning!\"   \n23  1ec4761d9d  Уверяю вас, сэр, что я был полностью осведомле...   \n24  17c1f14619  Britain's best-selling tabloid, the Sun , anno...   \n25  f5f4dc48c1                      Savonarola burned in Florence   \n26  6a98a077a5                              It will be COLOSSAL!\"   \n27  00c0cdf348  Lạnh hơn và xa hơn bao giờ hết đã phát triển t...   \n28  8b8a91643a  27 La dificultad aumenta a medida que la neces...   \n29  655cc51991                              He says men are here.   \n30  a2a8b36437  Κατά συνέπεια, οι κυβερνητικοί υπεύθυνοι λήψης...   \n31  ca2570d90c  Mashua kama hayo yalitengenezwa kuruhusu fursa...   \n32  89fdd6de05        yeah uh-huh oh yeah petting zoos and things   \n33  fc9b9e81ec  Sijawahi kuelewa kwanini uandishi wa kimataifa...   \n34  aa6feee06e             争端，管理现在都指向做的这些食物券，当然也可以转向基本福利 —— TANF。   \n35  14fa262750  The almost midtown Massabielle quarter (faubou...   \n36  7e89da4ba3  4) Not enough is known about how nontransporta...   \n37  6bb2d551f1  i am surprised though that we do have so many ...   \n38  8540c11e37  Die Sozialversicherung enthält keine etabliert...   \n39  1589ccaac1                 The draft treaty was Tommy's bait.   \n40  8289cdfc7d  Therefore, the number of boilermakers may actu...   \n41  b277ab420e  regarder une fille dans un parka en fourrure b...   \n42  792afbd06a  عمارت کی سب سے زیادہ افسانوی خصوصیت گوہا ہتھیا...   \n43  43b978ef75      Diğerleri tüketiciyi yeterince mutlu etmiyor.   \n44  80001fec89  As long as Assad lives, he can manage these tr...   \n45  d999bfa2a1             The four Javis children? asked Severn.   \n46  d4dd5ba80d             My brain refusing to command properly.   \n47  ad4b9214af   \"So your girl writes that your little farewel...   \n48  126018a551  उसने आश्चर्य से ऊपर देखा, और फिर उसके साथ सोचन...   \n49  097b4dfe2a                      You have to walk through it).   \n50  b0c2761b43                      No, I exclaimed, astonished.    \n\n                                           hypothesis lang_abv    language  \\\n0   The rules developed in the interim were put to...       en     English   \n1   Practice groups are not permitted to work on t...       en     English   \n2               J'essayais d'accomplir quelque chose.       fr      French   \n3   They can't defend themselves because of their ...       en     English   \n4     เด็กสามารถเห็นได้ว่าชาติพันธุ์แตกต่างกันอย่างไร       th        Thai   \n5     Çiftlikte insanlar farklı terimler kullanırlar.       tr     Turkish   \n6   ہیگ کی تفتیش ایف بی آئی اہلکاروں  کی طرف سے کی...       ur        Urdu   \n7              From St. Ann's Bay to Cockpit Country.       en     English   \n8   The boss will fire you if he sees you slacking...       en     English   \n9          Краска изменяется в соответствии с цветом.       ru     Russian   \n10     Имахме всичко, от което наистина се нуждаехме.       bg   Bulgarian   \n11             Könnte das Interesse mehr als 20 sein?       de      German   \n12    حاول أن تفهم الحبكة في البداية، إذا كنت تستطيع.       ar      Arabic   \n13                            大人刚刚接受了我的意见，并且采取了相应的行动。       zh     Chinese   \n14  मज़ौदी ने दावा किया कि वह योजना के अनुसार योजन...       hi       Hindi   \n15   Watoto wangeweza kwenda kwa majirani zao nyumba.       sw     Swahili   \n16      Many people have poisoned someone by mistake.       en     English   \n17                      An example is policy wonking.       en     English   \n18  The system is corrupt because he won't be able...       en     English   \n19  Vendors have lined the streets with torches an...       en     English   \n20  There is nothing special to see in the village...       en     English   \n21  Current generations' increased saving would ex...       en     English   \n22                 A great journey is about to begin!       en     English   \n23                  От меня скрыли множество деталей.       ru     Russian   \n24   The Sun makes millions every year off fake news.       en     English   \n25             Florence became Savonarola's new home.       en     English   \n26                               It will be gigantic.       en     English   \n27    Giọng của Chúa cảm thấy thật xa xôi và lạnh lẽo       vi  Vietnamese   \n28    27 La dificultad depende de las modificaciones.       es     Spanish   \n29               He said that the men were not here.        en     English   \n30  Οι κυβερνητικοί εκπρόσωποι αρνούνται να αλλάξο...       el       Greek   \n31  Boti zilianzishwa ili iwe rahisi kupata  meli ...       sw     Swahili   \n32                     Yes, petting and other things.       en     English   \n33  Mapitio haya ni madogo kwa upeo kwa hiyo hayaj...       sw     Swahili   \n34                              政府还没有提到任何有关食品券或是福利的事。       zh     Chinese   \n35  The Massabielle quarter is considered the most...       en     English   \n36  The ways in which distance affects nontranspor...       en     English   \n37  I am surprised that not many of them are in po...       en     English   \n38  Sozialversicherungen beinhalten keinen Plan nu...       de      German   \n39                 The treaty bait was not for Tommy.       en     English   \n40  The number of boil makers will decrease drasti...       en     English   \n41               La fille est habillée tout en rouge.       fr      French   \n42           Building mein kafi bara weathervane hai.       ur        Urdu   \n43                              Diğerleri yeterlidir.       tr     Turkish   \n44  As long as Assad doesn't die he will be able t...       en     English   \n45  Severn knows everything about the Jarvis child...       en     English   \n46              My brain was not commanding properly.       en     English   \n47             Your farewell activity didn't go well.       en     English   \n48                       वो उसके उम्मीद से बहादुर थी।       hi       Hindi   \n49               You need to pass through it on foot.       en     English   \n50                       \"No!\" I cried out in shock.        en     English   \n\n    label  \n0       0  \n1       2  \n2       0  \n3       0  \n4       1  \n5       0  \n6       0  \n7       2  \n8       1  \n9       0  \n10      0  \n11      1  \n12      0  \n13      2  \n14      2  \n15      0  \n16      1  \n17      0  \n18      1  \n19      2  \n20      2  \n21      0  \n22      1  \n23      2  \n24      1  \n25      2  \n26      0  \n27      0  \n28      0  \n29      2  \n30      2  \n31      0  \n32      0  \n33      0  \n34      2  \n35      0  \n36      0  \n37      2  \n38      0  \n39      2  \n40      2  \n41      2  \n42      1  \n43      2  \n44      0  \n45      1  \n46      0  \n47      0  \n48      1  \n49      0  \n50      0  ",
      "text/html": "<div>\n<style scoped>\n    .dataframe tbody tr th:only-of-type {\n        vertical-align: middle;\n    }\n\n    .dataframe tbody tr th {\n        vertical-align: top;\n    }\n\n    .dataframe thead th {\n        text-align: right;\n    }\n</style>\n<table border=\"1\" class=\"dataframe\">\n  <thead>\n    <tr style=\"text-align: right;\">\n      <th></th>\n      <th>id</th>\n      <th>premise</th>\n      <th>hypothesis</th>\n      <th>lang_abv</th>\n      <th>language</th>\n      <th>label</th>\n    </tr>\n  </thead>\n  <tbody>\n    <tr>\n      <th>0</th>\n      <td>5130fd2cb5</td>\n      <td>and these comments were considered in formulat...</td>\n      <td>The rules developed in the interim were put to...</td>\n      <td>en</td>\n      <td>English</td>\n      <td>0</td>\n    </tr>\n    <tr>\n      <th>1</th>\n      <td>5b72532a0b</td>\n      <td>These are issues that we wrestle with in pract...</td>\n      <td>Practice groups are not permitted to work on t...</td>\n      <td>en</td>\n      <td>English</td>\n      <td>2</td>\n    </tr>\n    <tr>\n      <th>2</th>\n      <td>3931fbe82a</td>\n      <td>Des petites choses comme celles-là font une di...</td>\n      <td>J'essayais d'accomplir quelque chose.</td>\n      <td>fr</td>\n      <td>French</td>\n      <td>0</td>\n    </tr>\n    <tr>\n      <th>3</th>\n      <td>5622f0c60b</td>\n      <td>you know they can't really defend themselves l...</td>\n      <td>They can't defend themselves because of their ...</td>\n      <td>en</td>\n      <td>English</td>\n      <td>0</td>\n    </tr>\n    <tr>\n      <th>4</th>\n      <td>86aaa48b45</td>\n      <td>ในการเล่นบทบาทสมมุติก็เช่นกัน โอกาสที่จะได้แสด...</td>\n      <td>เด็กสามารถเห็นได้ว่าชาติพันธุ์แตกต่างกันอย่างไร</td>\n      <td>th</td>\n      <td>Thai</td>\n      <td>1</td>\n    </tr>\n    <tr>\n      <th>5</th>\n      <td>ed7d6a1e62</td>\n      <td>Bir çiftlikte birisinin, ağıla kapatılmış bu ö...</td>\n      <td>Çiftlikte insanlar farklı terimler kullanırlar.</td>\n      <td>tr</td>\n      <td>Turkish</td>\n      <td>0</td>\n    </tr>\n    <tr>\n      <th>6</th>\n      <td>5a0f4908a0</td>\n      <td>ریاست ہائے متحدہ امریکہ واپس آنے پر، ہج ایف بی...</td>\n      <td>ہیگ کی تفتیش ایف بی آئی اہلکاروں  کی طرف سے کی...</td>\n      <td>ur</td>\n      <td>Urdu</td>\n      <td>0</td>\n    </tr>\n    <tr>\n      <th>7</th>\n      <td>fdcd1bd867</td>\n      <td>From Cockpit Country to St. Ann's Bay</td>\n      <td>From St. Ann's Bay to Cockpit Country.</td>\n      <td>en</td>\n      <td>English</td>\n      <td>2</td>\n    </tr>\n    <tr>\n      <th>8</th>\n      <td>7cfb3d272c</td>\n      <td>Look, it's your skin, but you're going to be i...</td>\n      <td>The boss will fire you if he sees you slacking...</td>\n      <td>en</td>\n      <td>English</td>\n      <td>1</td>\n    </tr>\n    <tr>\n      <th>9</th>\n      <td>8c10229663</td>\n      <td>Через каждые сто градусов пятна краски меняют ...</td>\n      <td>Краска изменяется в соответствии с цветом.</td>\n      <td>ru</td>\n      <td>Russian</td>\n      <td>0</td>\n    </tr>\n    <tr>\n      <th>10</th>\n      <td>a1971593d5</td>\n      <td>Може да не сме имали всичко, което сме искали ...</td>\n      <td>Имахме всичко, от което наистина се нуждаехме.</td>\n      <td>bg</td>\n      <td>Bulgarian</td>\n      <td>0</td>\n    </tr>\n    <tr>\n      <th>11</th>\n      <td>2bf4b86d4f</td>\n      <td>Es fallen zwanzig Prozent Zinsen an</td>\n      <td>Könnte das Interesse mehr als 20 sein?</td>\n      <td>de</td>\n      <td>German</td>\n      <td>1</td>\n    </tr>\n    <tr>\n      <th>12</th>\n      <td>91b03f6bf4</td>\n      <td>إذا أمكن ، تعرّف على المؤامرة مسبقًا.</td>\n      <td>حاول أن تفهم الحبكة في البداية، إذا كنت تستطيع.</td>\n      <td>ar</td>\n      <td>Arabic</td>\n      <td>0</td>\n    </tr>\n    <tr>\n      <th>13</th>\n      <td>4c25aa4c06</td>\n      <td>我希望你的领主能够最终开始认识到，向这样的人授予国王委员会的愚蠢行为反对我的所有建议。</td>\n      <td>大人刚刚接受了我的意见，并且采取了相应的行动。</td>\n      <td>zh</td>\n      <td>Chinese</td>\n      <td>2</td>\n    </tr>\n    <tr>\n      <th>14</th>\n      <td>82f24422eb</td>\n      <td>म्जोडी का दावा है कि वह शादी करने के लिए मोरक्...</td>\n      <td>मज़ौदी ने दावा किया कि वह योजना के अनुसार योजन...</td>\n      <td>hi</td>\n      <td>Hindi</td>\n      <td>2</td>\n    </tr>\n    <tr>\n      <th>15</th>\n      <td>6d63ae6397</td>\n      <td>Watoto wangegonga milango ya majirani zao na</td>\n      <td>Watoto wangeweza kwenda kwa majirani zao nyumba.</td>\n      <td>sw</td>\n      <td>Swahili</td>\n      <td>0</td>\n    </tr>\n    <tr>\n      <th>16</th>\n      <td>dd4f0d9f25</td>\n      <td>\"If you people only knew how fatally easy it i...</td>\n      <td>Many people have poisoned someone by mistake.</td>\n      <td>en</td>\n      <td>English</td>\n      <td>1</td>\n    </tr>\n    <tr>\n      <th>17</th>\n      <td>0a3f52c547</td>\n      <td>My own little corner of the world, policy wonk...</td>\n      <td>An example is policy wonking.</td>\n      <td>en</td>\n      <td>English</td>\n      <td>0</td>\n    </tr>\n    <tr>\n      <th>18</th>\n      <td>4b0eca3ccb</td>\n      <td>life in prison then he's available for parole ...</td>\n      <td>The system is corrupt because he won't be able...</td>\n      <td>en</td>\n      <td>English</td>\n      <td>1</td>\n    </tr>\n    <tr>\n      <th>19</th>\n      <td>cad235551c</td>\n      <td>The streets are crammed with vendors selling s...</td>\n      <td>Vendors have lined the streets with torches an...</td>\n      <td>en</td>\n      <td>English</td>\n      <td>2</td>\n    </tr>\n    <tr>\n      <th>20</th>\n      <td>d8b3a4fb06</td>\n      <td>North of Mytilini, stop at the village of Mori...</td>\n      <td>There is nothing special to see in the village...</td>\n      <td>en</td>\n      <td>English</td>\n      <td>2</td>\n    </tr>\n    <tr>\n      <th>21</th>\n      <td>ad5a79456e</td>\n      <td>Increased saving by current generations would ...</td>\n      <td>Current generations' increased saving would ex...</td>\n      <td>en</td>\n      <td>English</td>\n      <td>0</td>\n    </tr>\n    <tr>\n      <th>22</th>\n      <td>a7b0b9498c</td>\n      <td>It's just the beginning!\"</td>\n      <td>A great journey is about to begin!</td>\n      <td>en</td>\n      <td>English</td>\n      <td>1</td>\n    </tr>\n    <tr>\n      <th>23</th>\n      <td>1ec4761d9d</td>\n      <td>Уверяю вас, сэр, что я был полностью осведомле...</td>\n      <td>От меня скрыли множество деталей.</td>\n      <td>ru</td>\n      <td>Russian</td>\n      <td>2</td>\n    </tr>\n    <tr>\n      <th>24</th>\n      <td>17c1f14619</td>\n      <td>Britain's best-selling tabloid, the Sun , anno...</td>\n      <td>The Sun makes millions every year off fake news.</td>\n      <td>en</td>\n      <td>English</td>\n      <td>1</td>\n    </tr>\n    <tr>\n      <th>25</th>\n      <td>f5f4dc48c1</td>\n      <td>Savonarola burned in Florence</td>\n      <td>Florence became Savonarola's new home.</td>\n      <td>en</td>\n      <td>English</td>\n      <td>2</td>\n    </tr>\n    <tr>\n      <th>26</th>\n      <td>6a98a077a5</td>\n      <td>It will be COLOSSAL!\"</td>\n      <td>It will be gigantic.</td>\n      <td>en</td>\n      <td>English</td>\n      <td>0</td>\n    </tr>\n    <tr>\n      <th>27</th>\n      <td>00c0cdf348</td>\n      <td>Lạnh hơn và xa hơn bao giờ hết đã phát triển t...</td>\n      <td>Giọng của Chúa cảm thấy thật xa xôi và lạnh lẽo</td>\n      <td>vi</td>\n      <td>Vietnamese</td>\n      <td>0</td>\n    </tr>\n    <tr>\n      <th>28</th>\n      <td>8b8a91643a</td>\n      <td>27 La dificultad aumenta a medida que la neces...</td>\n      <td>27 La dificultad depende de las modificaciones.</td>\n      <td>es</td>\n      <td>Spanish</td>\n      <td>0</td>\n    </tr>\n    <tr>\n      <th>29</th>\n      <td>655cc51991</td>\n      <td>He says men are here.</td>\n      <td>He said that the men were not here.</td>\n      <td>en</td>\n      <td>English</td>\n      <td>2</td>\n    </tr>\n    <tr>\n      <th>30</th>\n      <td>a2a8b36437</td>\n      <td>Κατά συνέπεια, οι κυβερνητικοί υπεύθυνοι λήψης...</td>\n      <td>Οι κυβερνητικοί εκπρόσωποι αρνούνται να αλλάξο...</td>\n      <td>el</td>\n      <td>Greek</td>\n      <td>2</td>\n    </tr>\n    <tr>\n      <th>31</th>\n      <td>ca2570d90c</td>\n      <td>Mashua kama hayo yalitengenezwa kuruhusu fursa...</td>\n      <td>Boti zilianzishwa ili iwe rahisi kupata  meli ...</td>\n      <td>sw</td>\n      <td>Swahili</td>\n      <td>0</td>\n    </tr>\n    <tr>\n      <th>32</th>\n      <td>89fdd6de05</td>\n      <td>yeah uh-huh oh yeah petting zoos and things</td>\n      <td>Yes, petting and other things.</td>\n      <td>en</td>\n      <td>English</td>\n      <td>0</td>\n    </tr>\n    <tr>\n      <th>33</th>\n      <td>fc9b9e81ec</td>\n      <td>Sijawahi kuelewa kwanini uandishi wa kimataifa...</td>\n      <td>Mapitio haya ni madogo kwa upeo kwa hiyo hayaj...</td>\n      <td>sw</td>\n      <td>Swahili</td>\n      <td>0</td>\n    </tr>\n    <tr>\n      <th>34</th>\n      <td>aa6feee06e</td>\n      <td>争端，管理现在都指向做的这些食物券，当然也可以转向基本福利 —— TANF。</td>\n      <td>政府还没有提到任何有关食品券或是福利的事。</td>\n      <td>zh</td>\n      <td>Chinese</td>\n      <td>2</td>\n    </tr>\n    <tr>\n      <th>35</th>\n      <td>14fa262750</td>\n      <td>The almost midtown Massabielle quarter (faubou...</td>\n      <td>The Massabielle quarter is considered the most...</td>\n      <td>en</td>\n      <td>English</td>\n      <td>0</td>\n    </tr>\n    <tr>\n      <th>36</th>\n      <td>7e89da4ba3</td>\n      <td>4) Not enough is known about how nontransporta...</td>\n      <td>The ways in which distance affects nontranspor...</td>\n      <td>en</td>\n      <td>English</td>\n      <td>0</td>\n    </tr>\n    <tr>\n      <th>37</th>\n      <td>6bb2d551f1</td>\n      <td>i am surprised though that we do have so many ...</td>\n      <td>I am surprised that not many of them are in po...</td>\n      <td>en</td>\n      <td>English</td>\n      <td>2</td>\n    </tr>\n    <tr>\n      <th>38</th>\n      <td>8540c11e37</td>\n      <td>Die Sozialversicherung enthält keine etabliert...</td>\n      <td>Sozialversicherungen beinhalten keinen Plan nu...</td>\n      <td>de</td>\n      <td>German</td>\n      <td>0</td>\n    </tr>\n    <tr>\n      <th>39</th>\n      <td>1589ccaac1</td>\n      <td>The draft treaty was Tommy's bait.</td>\n      <td>The treaty bait was not for Tommy.</td>\n      <td>en</td>\n      <td>English</td>\n      <td>2</td>\n    </tr>\n    <tr>\n      <th>40</th>\n      <td>8289cdfc7d</td>\n      <td>Therefore, the number of boilermakers may actu...</td>\n      <td>The number of boil makers will decrease drasti...</td>\n      <td>en</td>\n      <td>English</td>\n      <td>2</td>\n    </tr>\n    <tr>\n      <th>41</th>\n      <td>b277ab420e</td>\n      <td>regarder une fille dans un parka en fourrure b...</td>\n      <td>La fille est habillée tout en rouge.</td>\n      <td>fr</td>\n      <td>French</td>\n      <td>2</td>\n    </tr>\n    <tr>\n      <th>42</th>\n      <td>792afbd06a</td>\n      <td>عمارت کی سب سے زیادہ افسانوی خصوصیت گوہا ہتھیا...</td>\n      <td>Building mein kafi bara weathervane hai.</td>\n      <td>ur</td>\n      <td>Urdu</td>\n      <td>1</td>\n    </tr>\n    <tr>\n      <th>43</th>\n      <td>43b978ef75</td>\n      <td>Diğerleri tüketiciyi yeterince mutlu etmiyor.</td>\n      <td>Diğerleri yeterlidir.</td>\n      <td>tr</td>\n      <td>Turkish</td>\n      <td>2</td>\n    </tr>\n    <tr>\n      <th>44</th>\n      <td>80001fec89</td>\n      <td>As long as Assad lives, he can manage these tr...</td>\n      <td>As long as Assad doesn't die he will be able t...</td>\n      <td>en</td>\n      <td>English</td>\n      <td>0</td>\n    </tr>\n    <tr>\n      <th>45</th>\n      <td>d999bfa2a1</td>\n      <td>The four Javis children? asked Severn.</td>\n      <td>Severn knows everything about the Jarvis child...</td>\n      <td>en</td>\n      <td>English</td>\n      <td>1</td>\n    </tr>\n    <tr>\n      <th>46</th>\n      <td>d4dd5ba80d</td>\n      <td>My brain refusing to command properly.</td>\n      <td>My brain was not commanding properly.</td>\n      <td>en</td>\n      <td>English</td>\n      <td>0</td>\n    </tr>\n    <tr>\n      <th>47</th>\n      <td>ad4b9214af</td>\n      <td>\"So your girl writes that your little farewel...</td>\n      <td>Your farewell activity didn't go well.</td>\n      <td>en</td>\n      <td>English</td>\n      <td>0</td>\n    </tr>\n    <tr>\n      <th>48</th>\n      <td>126018a551</td>\n      <td>उसने आश्चर्य से ऊपर देखा, और फिर उसके साथ सोचन...</td>\n      <td>वो उसके उम्मीद से बहादुर थी।</td>\n      <td>hi</td>\n      <td>Hindi</td>\n      <td>1</td>\n    </tr>\n    <tr>\n      <th>49</th>\n      <td>097b4dfe2a</td>\n      <td>You have to walk through it).</td>\n      <td>You need to pass through it on foot.</td>\n      <td>en</td>\n      <td>English</td>\n      <td>0</td>\n    </tr>\n    <tr>\n      <th>50</th>\n      <td>b0c2761b43</td>\n      <td>No, I exclaimed, astonished.</td>\n      <td>\"No!\" I cried out in shock.</td>\n      <td>en</td>\n      <td>English</td>\n      <td>0</td>\n    </tr>\n  </tbody>\n</table>\n</div>"
     },
     "execution_count": 17,
     "metadata": {},
     "output_type": "execute_result"
    }
   ],
   "source": [
    "df_train.loc[0:50,:]"
   ],
   "metadata": {
    "collapsed": false,
    "ExecuteTime": {
     "end_time": "2023-09-02T00:48:15.908196Z",
     "start_time": "2023-09-02T00:48:15.901274Z"
    }
   },
   "id": "e397b5a0c3200aac"
  },
  {
   "cell_type": "code",
   "execution_count": null,
   "outputs": [],
   "source": [],
   "metadata": {
    "collapsed": false
   },
   "id": "c7da09082c77bbbc"
  }
 ],
 "metadata": {
  "kernelspec": {
   "display_name": "Python 3",
   "language": "python",
   "name": "python3"
  },
  "language_info": {
   "codemirror_mode": {
    "name": "ipython",
    "version": 2
   },
   "file_extension": ".py",
   "mimetype": "text/x-python",
   "name": "python",
   "nbconvert_exporter": "python",
   "pygments_lexer": "ipython2",
   "version": "2.7.6"
  }
 },
 "nbformat": 4,
 "nbformat_minor": 5
}
