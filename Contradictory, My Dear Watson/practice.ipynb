{
 "cells": [
  {
   "cell_type": "code",
   "execution_count": 29,
   "outputs": [],
   "source": [
    "from nltk.classify import NaiveBayesClassifier\n",
    "from nltk.corpus import subjectivity\n",
    "from nltk.sentiment import SentimentAnalyzer\n",
    "from nltk.sentiment.util import *"
   ],
   "metadata": {
    "collapsed": false,
    "ExecuteTime": {
     "end_time": "2023-09-07T19:54:25.898113Z",
     "start_time": "2023-09-07T19:54:25.896189Z"
    }
   },
   "id": "ba7b84f4311f0f77"
  },
  {
   "cell_type": "code",
   "execution_count": 30,
   "outputs": [
    {
     "data": {
      "text/plain": "(100, 100)"
     },
     "execution_count": 30,
     "metadata": {},
     "output_type": "execute_result"
    }
   ],
   "source": [
    "n_instances = 100\n",
    "subj_docs = [(sent, 'subj') for sent in subjectivity.sents(categories='subj')[:n_instances]]\n",
    "obj_docs = [(sent, 'obj') for sent in subjectivity.sents(categories='obj')[:n_instances]]\n",
    "len(subj_docs), len(obj_docs)"
   ],
   "metadata": {
    "collapsed": false,
    "ExecuteTime": {
     "end_time": "2023-09-07T19:54:36.926320Z",
     "start_time": "2023-09-07T19:54:36.918370Z"
    }
   },
   "id": "4e6105c873c0646c"
  },
  {
   "cell_type": "code",
   "execution_count": 31,
   "outputs": [
    {
     "data": {
      "text/plain": "(['smart',\n  'and',\n  'alert',\n  ',',\n  'thirteen',\n  'conversations',\n  'about',\n  'one',\n  'thing',\n  'is',\n  'a',\n  'small',\n  'gem',\n  '.'],\n 'subj')"
     },
     "execution_count": 31,
     "metadata": {},
     "output_type": "execute_result"
    }
   ],
   "source": [
    "subj_docs[0]"
   ],
   "metadata": {
    "collapsed": false,
    "ExecuteTime": {
     "end_time": "2023-09-07T19:54:41.838810Z",
     "start_time": "2023-09-07T19:54:41.833008Z"
    }
   },
   "id": "7e5e19dd0d1e9a07"
  },
  {
   "cell_type": "code",
   "execution_count": 32,
   "outputs": [],
   "source": [
    "train_subj_docs = subj_docs[:80]\n",
    "test_subj_docs = subj_docs[80:100]\n",
    "train_obj_docs = obj_docs[:80]\n",
    "test_obj_docs = obj_docs[80:100]\n",
    "training_docs = train_subj_docs+train_obj_docs\n",
    "testing_docs = test_subj_docs+test_obj_docs"
   ],
   "metadata": {
    "collapsed": false,
    "ExecuteTime": {
     "end_time": "2023-09-07T19:54:55.577285Z",
     "start_time": "2023-09-07T19:54:55.569471Z"
    }
   },
   "id": "85b689113c80c734"
  },
  {
   "cell_type": "code",
   "execution_count": 33,
   "outputs": [],
   "source": [
    "sentim_analyzer = SentimentAnalyzer()\n",
    "all_words_neg = sentim_analyzer.all_words([mark_negation(doc) for doc in training_docs])"
   ],
   "metadata": {
    "collapsed": false,
    "ExecuteTime": {
     "end_time": "2023-09-07T19:55:02.730392Z",
     "start_time": "2023-09-07T19:55:02.709720Z"
    }
   },
   "id": "f3bb276812777282"
  },
  {
   "cell_type": "code",
   "execution_count": 34,
   "outputs": [
    {
     "data": {
      "text/plain": "83"
     },
     "execution_count": 34,
     "metadata": {},
     "output_type": "execute_result"
    }
   ],
   "source": [
    "unigram_feats = sentim_analyzer.unigram_word_feats(all_words_neg, min_freq=4)\n",
    "len(unigram_feats)"
   ],
   "metadata": {
    "collapsed": false,
    "ExecuteTime": {
     "end_time": "2023-09-07T19:55:09.613810Z",
     "start_time": "2023-09-07T19:55:09.611084Z"
    }
   },
   "id": "f44d9f10a3ecba29"
  },
  {
   "cell_type": "code",
   "execution_count": 35,
   "outputs": [],
   "source": [
    "sentim_analyzer.add_feat_extractor(extract_unigram_feats, unigrams=unigram_feats)"
   ],
   "metadata": {
    "collapsed": false,
    "ExecuteTime": {
     "end_time": "2023-09-07T19:55:15.191321Z",
     "start_time": "2023-09-07T19:55:15.179427Z"
    }
   },
   "id": "35c177882cc14fe"
  },
  {
   "cell_type": "code",
   "execution_count": 36,
   "outputs": [],
   "source": [
    "training_set = sentim_analyzer.apply_features(training_docs)\n",
    "test_set = sentim_analyzer.apply_features(testing_docs)"
   ],
   "metadata": {
    "collapsed": false,
    "ExecuteTime": {
     "end_time": "2023-09-07T19:55:26.284736Z",
     "start_time": "2023-09-07T19:55:26.279936Z"
    }
   },
   "id": "4d2963e1723932bf"
  },
  {
   "cell_type": "code",
   "execution_count": 38,
   "outputs": [
    {
     "name": "stdout",
     "output_type": "stream",
     "text": [
      "Training classifier\n"
     ]
    }
   ],
   "source": [
    "trainer = NaiveBayesClassifier.train\n",
    "classifier = sentim_analyzer.train(trainer, training_set)"
   ],
   "metadata": {
    "collapsed": false,
    "ExecuteTime": {
     "end_time": "2023-09-07T19:55:51.587864Z",
     "start_time": "2023-09-07T19:55:51.577474Z"
    }
   },
   "id": "e2c4a93927c5e20a"
  },
  {
   "cell_type": "code",
   "execution_count": 42,
   "outputs": [
    {
     "name": "stdout",
     "output_type": "stream",
     "text": [
      "Evaluating NaiveBayesClassifier results...\n",
      "Accuracy: 0.8\n",
      "F-measure [obj]: 0.8\n",
      "F-measure [subj]: 0.8\n",
      "Precision [obj]: 0.8\n",
      "Precision [subj]: 0.8\n",
      "Recall [obj]: 0.8\n",
      "Recall [subj]: 0.8\n"
     ]
    }
   ],
   "source": [
    "for key,value in sorted(sentim_analyzer.evaluate(test_set).items()):\n",
    "    print('{0}: {1}'.format(key, value))"
   ],
   "metadata": {
    "collapsed": false,
    "ExecuteTime": {
     "end_time": "2023-09-07T19:56:58.016639Z",
     "start_time": "2023-09-07T19:56:58.014102Z"
    }
   },
   "id": "5d7a8ddbff58d988"
  },
  {
   "cell_type": "code",
   "execution_count": 45,
   "outputs": [
    {
     "name": "stdout",
     "output_type": "stream",
     "text": [
      "Evaluating NaiveBayesClassifier results...\n"
     ]
    },
    {
     "data": {
      "text/plain": "{'Accuracy': 0.8,\n 'Precision [subj]': 0.8,\n 'Recall [subj]': 0.8,\n 'F-measure [subj]': 0.8,\n 'Precision [obj]': 0.8,\n 'Recall [obj]': 0.8,\n 'F-measure [obj]': 0.8}"
     },
     "execution_count": 45,
     "metadata": {},
     "output_type": "execute_result"
    }
   ],
   "source": [
    "sentim_analyzer.evaluate(test_set)"
   ],
   "metadata": {
    "collapsed": false,
    "ExecuteTime": {
     "end_time": "2023-09-07T19:57:18.326698Z",
     "start_time": "2023-09-07T19:57:18.319768Z"
    }
   },
   "id": "a7f01202e7eb96b2"
  },
  {
   "cell_type": "code",
   "execution_count": 3,
   "outputs": [],
   "source": [
    "from textblob import TextBlob\n",
    "\n",
    "sent = 'a very simple and good sample'\n",
    "pos_word_list = []\n",
    "pos = []\n",
    "neg_word_list = []\n",
    "neg = []\n",
    "neu_word_list = []\n",
    "neu = []\n",
    "\n",
    "for word in sent.split():\n",
    "    testimonial = TextBlob(word)\n",
    "    if testimonial.sentiment.polarity >= 0.5:\n",
    "        pos_word_list.append(word)\n",
    "        pos.append(testimonial.sentiment.polarity)\n",
    "    elif testimonial.sentiment.polarity <= -0.5:\n",
    "        neg_word_list.append(word)\n",
    "        neg.append(testimonial.sentiment.polarity)\n",
    "    else:\n",
    "        neu_word_list.append(word)\n",
    "        neu.append(testimonial.sentiment.polarity)"
   ],
   "metadata": {
    "collapsed": false,
    "ExecuteTime": {
     "end_time": "2023-09-07T20:12:47.452673Z",
     "start_time": "2023-09-07T20:12:47.448971Z"
    }
   },
   "id": "813e436e8f023d24"
  },
  {
   "cell_type": "code",
   "execution_count": 4,
   "outputs": [
    {
     "name": "stdout",
     "output_type": "stream",
     "text": [
      "['good']\n",
      "[0.7]\n"
     ]
    }
   ],
   "source": [
    "print(pos_word_list)\n",
    "print(pos)"
   ],
   "metadata": {
    "collapsed": false,
    "ExecuteTime": {
     "end_time": "2023-09-07T20:12:58.895981Z",
     "start_time": "2023-09-07T20:12:58.892221Z"
    }
   },
   "id": "c893baeec0041004"
  },
  {
   "cell_type": "code",
   "execution_count": 5,
   "outputs": [
    {
     "name": "stdout",
     "output_type": "stream",
     "text": [
      "[]\n",
      "[]\n"
     ]
    }
   ],
   "source": [
    "print(neg_word_list)\n",
    "print(neg)"
   ],
   "metadata": {
    "collapsed": false,
    "ExecuteTime": {
     "end_time": "2023-09-07T20:13:14.575376Z",
     "start_time": "2023-09-07T20:13:14.561870Z"
    }
   },
   "id": "9b6d2a269d6a04"
  },
  {
   "cell_type": "code",
   "execution_count": 6,
   "outputs": [
    {
     "name": "stdout",
     "output_type": "stream",
     "text": [
      "['a', 'very', 'simple', 'and', 'sample']\n",
      "[0.0, 0.2, 0.0, 0.0, 0.0]\n"
     ]
    }
   ],
   "source": [
    "print(neu_word_list)\n",
    "print(neu)"
   ],
   "metadata": {
    "collapsed": false,
    "ExecuteTime": {
     "end_time": "2023-09-07T20:13:25.605389Z",
     "start_time": "2023-09-07T20:13:25.594411Z"
    }
   },
   "id": "48a16a0b3ac19632"
  },
  {
   "cell_type": "code",
   "execution_count": null,
   "outputs": [],
   "source": [],
   "metadata": {
    "collapsed": false
   },
   "id": "ab60571b5fe1cd5e"
  }
 ],
 "metadata": {
  "kernelspec": {
   "display_name": "Python 3",
   "language": "python",
   "name": "python3"
  },
  "language_info": {
   "codemirror_mode": {
    "name": "ipython",
    "version": 2
   },
   "file_extension": ".py",
   "mimetype": "text/x-python",
   "name": "python",
   "nbconvert_exporter": "python",
   "pygments_lexer": "ipython2",
   "version": "2.7.6"
  }
 },
 "nbformat": 4,
 "nbformat_minor": 5
}
