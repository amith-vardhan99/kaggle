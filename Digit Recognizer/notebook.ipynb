{
 "cells": [
  {
   "cell_type": "code",
   "execution_count": 31,
   "id": "initial_id",
   "metadata": {
    "collapsed": true,
    "ExecuteTime": {
     "end_time": "2024-01-07T19:47:58.327898Z",
     "start_time": "2024-01-07T19:47:58.322509Z"
    }
   },
   "outputs": [],
   "source": [
    "import numpy as np\n",
    "import pandas as pd\n",
    "import matplotlib.pyplot as plt\n",
    "import seaborn as sns\n",
    "import tensorflow as tf"
   ]
  },
  {
   "cell_type": "code",
   "outputs": [],
   "source": [
    "train_ds = np.loadtxt(\"train.csv\", delimiter=\",\",dtype=\"str\")\n",
    "test_ds = np.loadtxt(\"test.csv\", delimiter=\",\",dtype=\"str\")"
   ],
   "metadata": {
    "collapsed": false,
    "ExecuteTime": {
     "end_time": "2024-01-07T19:48:04.617556Z",
     "start_time": "2024-01-07T19:47:58.616625Z"
    }
   },
   "id": "43fe99f7db8b912e",
   "execution_count": 32
  },
  {
   "cell_type": "code",
   "outputs": [
    {
     "data": {
      "text/plain": "array([['label', 'pixel0', 'pixel1', ..., 'pixel781', 'pixel782',\n        'pixel783'],\n       ['1', '0', '0', ..., '0', '0', '0'],\n       ['0', '0', '0', ..., '0', '0', '0'],\n       ...,\n       ['7', '0', '0', ..., '0', '0', '0'],\n       ['6', '0', '0', ..., '0', '0', '0'],\n       ['9', '0', '0', ..., '0', '0', '0']], dtype='<U8')"
     },
     "execution_count": 33,
     "metadata": {},
     "output_type": "execute_result"
    }
   ],
   "source": [
    "train_ds"
   ],
   "metadata": {
    "collapsed": false,
    "ExecuteTime": {
     "end_time": "2024-01-07T19:48:10.008306Z",
     "start_time": "2024-01-07T19:48:10.005906Z"
    }
   },
   "id": "737693b35b48c0e3",
   "execution_count": 33
  },
  {
   "cell_type": "code",
   "outputs": [],
   "source": [
    "train_arr = train_ds[1:,1:].astype(\"float64\")/255.0\n",
    "test_arr = test_ds[1:,:].astype(\"float64\")/255.0\n",
    "labels_arr = train_ds[1:,0].astype(\"float64\")"
   ],
   "metadata": {
    "collapsed": false,
    "ExecuteTime": {
     "end_time": "2024-01-07T19:48:25.111346Z",
     "start_time": "2024-01-07T19:48:21.541538Z"
    }
   },
   "id": "24bd14f6f5b1f6ff",
   "execution_count": 34
  },
  {
   "cell_type": "code",
   "outputs": [],
   "source": [],
   "metadata": {
    "collapsed": false
   },
   "id": "48296884e1563918"
  },
  {
   "cell_type": "code",
   "outputs": [],
   "source": [],
   "metadata": {
    "collapsed": false
   },
   "id": "3fbde5a96df00bd8"
  },
  {
   "cell_type": "code",
   "outputs": [],
   "source": [
    "\n",
    "size = train_1.shape[1]\n",
    "\n",
    "train_size = tuple([train_1.shape[0],int(np.sqrt(size)),int(np.sqrt(size)),1])\n",
    "test_size = tuple([test_1.shape[0],int(np.sqrt(size)),int(np.sqrt(size)),1])\n",
    "\n",
    "train = np.reshape(train_1,train_size)\n",
    "test = np.reshape(test_1,test_size)\n"
   ],
   "metadata": {
    "collapsed": false
   },
   "id": "6eb2cbe654993baf"
  },
  {
   "cell_type": "code",
   "outputs": [],
   "source": [
    "model = tf.keras.models.Sequential([\n",
    "    \n",
    "    tf.keras.layers.Resizing(height=64,width=64),\n",
    "    tf.keras.layers.Conv2D(8,3,activation=\"relu\",input_shape=(64,64,1)),\n",
    "    tf.keras.layers.MaxPooling2D(pool_size=(2,2)),\n",
    "    tf.keras.layers.Conv2D(16,3,activation=\"relu\"),\n",
    "    tf.keras.layers.MaxPooling2D(pool_size=(2,2)),\n",
    "    tf.keras.layers.Conv2D(32,3,activation=\"relu\"),\n",
    "    tf.keras.layers.MaxPooling2D(pool_size=(2,2)),\n",
    "    tf.keras.layers.Conv2D(64,3,activation=\"relu\"),\n",
    "    tf.keras.layers.MaxPooling2D(pool_size=(2,2)),\n",
    "\n",
    "    tf.keras.layers.Flatten(),\n",
    "\n",
    "    tf.keras.layers.Dense(32,activation=\"relu\"),\n",
    "    tf.keras.layers.Dense(units=np.unique(labels).shape[0],activation=\"softmax\")\n",
    "\n",
    "])"
   ],
   "metadata": {
    "collapsed": false,
    "ExecuteTime": {
     "end_time": "2024-01-07T19:44:14.705357Z",
     "start_time": "2024-01-07T19:44:14.697640Z"
    }
   },
   "id": "b23aaa70d5d4595f",
   "execution_count": 30
  },
  {
   "cell_type": "code",
   "outputs": [],
   "source": [
    "model.compile(optimizer=tf.keras.optimizers.RMSprop(),\n",
    "              loss=tf.keras.losses.sparse_categorical_crossentropy,\n",
    "              metrics=tf.keras.metrics.mean_squared_error,\n",
    "              batch_size=32,\n",
    "              epochs=100,\n",
    "              verbose=1,\n",
    "              shuffle=True,\n",
    "              )"
   ],
   "metadata": {
    "collapsed": false
   },
   "id": "7fd7e004478b8acd"
  }
 ],
 "metadata": {
  "kernelspec": {
   "display_name": "Python 3",
   "language": "python",
   "name": "python3"
  },
  "language_info": {
   "codemirror_mode": {
    "name": "ipython",
    "version": 2
   },
   "file_extension": ".py",
   "mimetype": "text/x-python",
   "name": "python",
   "nbconvert_exporter": "python",
   "pygments_lexer": "ipython2",
   "version": "2.7.6"
  }
 },
 "nbformat": 4,
 "nbformat_minor": 5
}
