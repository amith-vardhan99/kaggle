{
 "cells": [
  {
   "cell_type": "code",
   "execution_count": 96,
   "id": "initial_id",
   "metadata": {
    "collapsed": true,
    "ExecuteTime": {
     "end_time": "2024-01-07T22:53:16.743325Z",
     "start_time": "2024-01-07T22:53:16.739134Z"
    }
   },
   "outputs": [],
   "source": [
    "import numpy as np\n",
    "import pandas as pd\n",
    "import matplotlib.pyplot as plt\n",
    "import seaborn as sns\n",
    "import tensorflow as tf"
   ]
  },
  {
   "cell_type": "code",
   "outputs": [],
   "source": [
    "train = np.loadtxt(\"train.csv\", delimiter=\",\",dtype=\"str\")\n",
    "test = np.loadtxt(\"test.csv\", delimiter=\",\",dtype=\"str\")"
   ],
   "metadata": {
    "collapsed": false,
    "ExecuteTime": {
     "end_time": "2024-01-07T22:53:23.933358Z",
     "start_time": "2024-01-07T22:53:16.981269Z"
    }
   },
   "id": "43fe99f7db8b912e",
   "execution_count": 97
  },
  {
   "cell_type": "code",
   "outputs": [
    {
     "data": {
      "text/plain": "array([['label', 'pixel0', 'pixel1', ..., 'pixel781', 'pixel782',\n        'pixel783'],\n       ['1', '0', '0', ..., '0', '0', '0'],\n       ['0', '0', '0', ..., '0', '0', '0'],\n       ...,\n       ['7', '0', '0', ..., '0', '0', '0'],\n       ['6', '0', '0', ..., '0', '0', '0'],\n       ['9', '0', '0', ..., '0', '0', '0']], dtype='<U8')"
     },
     "execution_count": 98,
     "metadata": {},
     "output_type": "execute_result"
    }
   ],
   "source": [
    "train"
   ],
   "metadata": {
    "collapsed": false,
    "ExecuteTime": {
     "end_time": "2024-01-07T22:53:23.936225Z",
     "start_time": "2024-01-07T22:53:23.933379Z"
    }
   },
   "id": "e6486ef756c3826e",
   "execution_count": 98
  },
  {
   "cell_type": "code",
   "outputs": [],
   "source": [
    "train_1 = train[1:,:].astype(\"float64\")\n",
    "test_1 = test[1:,:].astype(\"float64\")\n",
    "\n",
    "np.random.shuffle(train_1)\n",
    "\n",
    "total_train_count = train_1.shape[0]\n",
    "train_split_size = int(total_train_count * 70 / 100)\n",
    "\n",
    "train_2 = train_1[:train_split_size,:]\n",
    "val_2 = train_1[train_split_size:,:]\n",
    "test_2 = test_1.copy()"
   ],
   "metadata": {
    "collapsed": false,
    "ExecuteTime": {
     "end_time": "2024-01-07T22:53:32.292889Z",
     "start_time": "2024-01-07T22:53:32.014942Z"
    }
   },
   "id": "32981b11f3117ea8",
   "execution_count": 99
  },
  {
   "cell_type": "code",
   "outputs": [],
   "source": [
    "train_input = train_2[:,1:]/255.0\n",
    "train_label = train_2[:,0]\n",
    "val_input = val_2[:,1:]/255.0\n",
    "val_label = val_2[:,0]\n",
    "test_input = test_2/255.0"
   ],
   "metadata": {
    "collapsed": false,
    "ExecuteTime": {
     "end_time": "2024-01-07T22:58:37.080045Z",
     "start_time": "2024-01-07T22:58:36.823031Z"
    }
   },
   "id": "a1957d9dd7cad35b",
   "execution_count": 136
  },
  {
   "cell_type": "code",
   "outputs": [],
   "source": [
    "size_of_each_image = (int(np.sqrt(train_input.shape[1])),int(np.sqrt(train_input.shape[1])),1)\n",
    "\n",
    "train_size = tuple([train_input.shape[0]] + list(size_of_each_image))\n",
    "val_size = tuple([val_input.shape[0]] + list(size_of_each_image))\n",
    "test_size = tuple([test_input.shape[0]] + list(size_of_each_image))"
   ],
   "metadata": {
    "collapsed": false,
    "ExecuteTime": {
     "end_time": "2024-01-07T23:02:59.887364Z",
     "start_time": "2024-01-07T23:02:59.885056Z"
    }
   },
   "id": "4e58d4b2a173f27b",
   "execution_count": 161
  },
  {
   "cell_type": "code",
   "outputs": [],
   "source": [
    "X_train = train_input.reshape(train_size)\n",
    "X_val = val_input.reshape(val_size)\n",
    "X_test = test_input.reshape(test_size)\n",
    "\n",
    "y_train = train_label.copy()\n",
    "y_val = val_label.copy()"
   ],
   "metadata": {
    "collapsed": false,
    "ExecuteTime": {
     "end_time": "2024-01-07T23:04:11.793382Z",
     "start_time": "2024-01-07T23:04:11.713088Z"
    }
   },
   "id": "e2ca51c86ed13a7d",
   "execution_count": 165
  },
  {
   "cell_type": "code",
   "outputs": [
    {
     "data": {
      "text/plain": "array([5., 2., 8., ..., 6., 7., 7.])"
     },
     "execution_count": 171,
     "metadata": {},
     "output_type": "execute_result"
    }
   ],
   "source": [
    "y_val"
   ],
   "metadata": {
    "collapsed": false,
    "ExecuteTime": {
     "end_time": "2024-01-07T23:04:46.894494Z",
     "start_time": "2024-01-07T23:04:46.892132Z"
    }
   },
   "id": "9ec16c159838ffc8",
   "execution_count": 171
  },
  {
   "cell_type": "code",
   "outputs": [],
   "source": [
    "model = tf.keras.models.Sequential([\n",
    "    \n",
    "    tf.keras.layers.Resizing(height=64, width=64, input_shape=size_of_each_image),\n",
    "    \n",
    "    tf.keras.layers.Conv2D(filters=16,kernel_size=(3,3),activation=\"relu\",input_shape=(64,64,1)),\n",
    "    tf.keras.layers.MaxPooling2D(pool_size=(2,2)),\n",
    "    tf.keras.layers.Conv2D(filters=32,kernel_size=(3,3),activation=\"relu\"),\n",
    "    tf.keras.layers.MaxPooling2D(pool_size=(2,2)),\n",
    "    tf.keras.layers.Conv2D(filters=64,kernel_size=(3,3),activation=\"relu\"),\n",
    "    tf.keras.layers.MaxPooling2D(pool_size=(2,2)),\n",
    "    tf.keras.layers.Conv2D(filters=128,kernel_size=(3,3),activation=\"relu\"),\n",
    "    tf.keras.layers.MaxPooling2D(pool_size=(2,2)),\n",
    "    \n",
    "    tf.keras.layers.Flatten(),\n",
    "    \n",
    "    tf.keras.layers.Dense(units=128,activation=\"relu\"),\n",
    "    tf.keras.layers.Dense(units=10,activation=\"softmax\")\n",
    "])"
   ],
   "metadata": {
    "collapsed": false,
    "ExecuteTime": {
     "end_time": "2024-01-07T23:12:02.631812Z",
     "start_time": "2024-01-07T23:12:02.586935Z"
    }
   },
   "id": "c1a51fee90132078",
   "execution_count": 186
  },
  {
   "cell_type": "code",
   "outputs": [],
   "source": [
    "model.compile(\n",
    "    optimizer=tf.keras.optimizers.legacy.RMSprop(),\n",
    "    loss=tf.keras.losses.sparse_categorical_crossentropy,\n",
    "    metrics=tf.keras.metrics.mean_squared_error\n",
    ")"
   ],
   "metadata": {
    "collapsed": false,
    "ExecuteTime": {
     "end_time": "2024-01-07T23:17:36.277584Z",
     "start_time": "2024-01-07T23:17:36.267824Z"
    }
   },
   "id": "393646666bf2716d",
   "execution_count": 189
  },
  {
   "cell_type": "code",
   "outputs": [
    {
     "name": "stdout",
     "output_type": "stream",
     "text": [
      "Epoch 1/100\n",
      "919/919 [==============================] - 18s 19ms/step - loss: 0.1812 - mean_squared_error: 27.4526 - val_loss: 0.0944 - val_mean_squared_error: 27.2842\n",
      "Epoch 2/100\n",
      "919/919 [==============================] - 17s 19ms/step - loss: 0.0535 - mean_squared_error: 27.4590 - val_loss: 0.0470 - val_mean_squared_error: 27.2860\n",
      "Epoch 3/100\n",
      "919/919 [==============================] - 18s 20ms/step - loss: 0.0350 - mean_squared_error: 27.4598 - val_loss: 0.0373 - val_mean_squared_error: 27.2866\n",
      "Epoch 4/100\n",
      "919/919 [==============================] - 17s 19ms/step - loss: 0.0268 - mean_squared_error: 27.4602 - val_loss: 0.0502 - val_mean_squared_error: 27.2863\n"
     ]
    },
    {
     "data": {
      "text/plain": "<keras.src.callbacks.History at 0x354622850>"
     },
     "execution_count": 190,
     "metadata": {},
     "output_type": "execute_result"
    }
   ],
   "source": [
    "model.fit(X_train,y_train,batch_size=32,epochs=100,verbose=1,callbacks=tf.keras.callbacks.EarlyStopping(patience=1),validation_data=(X_val,y_val),shuffle=True,validation_batch_size=32)"
   ],
   "metadata": {
    "collapsed": false,
    "ExecuteTime": {
     "end_time": "2024-01-07T23:18:48.637070Z",
     "start_time": "2024-01-07T23:17:37.825989Z"
    }
   },
   "id": "f7c98dc2c5bbf43e",
   "execution_count": 190
  },
  {
   "cell_type": "code",
   "outputs": [
    {
     "name": "stdout",
     "output_type": "stream",
     "text": [
      "875/875 [==============================] - 0s 256us/step - loss: 0.0000e+00 - mean_squared_error: 0.0000e+00\n"
     ]
    }
   ],
   "source": [
    "test_loss, test_mse = model.evaluate(X_test)"
   ],
   "metadata": {
    "collapsed": false,
    "ExecuteTime": {
     "end_time": "2024-01-07T23:19:24.097638Z",
     "start_time": "2024-01-07T23:19:23.714985Z"
    }
   },
   "id": "d8ad6e4424ee06fb",
   "execution_count": 192
  },
  {
   "cell_type": "code",
   "outputs": [
    {
     "data": {
      "text/plain": "0.0"
     },
     "execution_count": 195,
     "metadata": {},
     "output_type": "execute_result"
    }
   ],
   "source": [
    "test_loss"
   ],
   "metadata": {
    "collapsed": false,
    "ExecuteTime": {
     "end_time": "2024-01-07T23:19:39.782664Z",
     "start_time": "2024-01-07T23:19:39.779982Z"
    }
   },
   "id": "9d6fa542e31e20e6",
   "execution_count": 195
  },
  {
   "cell_type": "code",
   "outputs": [
    {
     "data": {
      "text/plain": "0.0"
     },
     "execution_count": 196,
     "metadata": {},
     "output_type": "execute_result"
    }
   ],
   "source": [
    "test_mse"
   ],
   "metadata": {
    "collapsed": false,
    "ExecuteTime": {
     "end_time": "2024-01-07T23:19:43.176576Z",
     "start_time": "2024-01-07T23:19:43.158416Z"
    }
   },
   "id": "8b6e8a1883f84fe1",
   "execution_count": 196
  },
  {
   "cell_type": "code",
   "outputs": [
    {
     "name": "stdout",
     "output_type": "stream",
     "text": [
      "875/875 [==============================] - 5s 6ms/step\n"
     ]
    }
   ],
   "source": [
    "y_pred = model.predict(X_test)"
   ],
   "metadata": {
    "collapsed": false,
    "ExecuteTime": {
     "end_time": "2024-01-07T23:20:51.897591Z",
     "start_time": "2024-01-07T23:20:46.634432Z"
    }
   },
   "id": "62397a03d51d736a",
   "execution_count": 198
  },
  {
   "cell_type": "code",
   "outputs": [],
   "source": [
    "y_test = []\n",
    "for i in y_pred:\n",
    "    num = np.where(i==i.max())[0]\n",
    "    y_test.append(num)\n",
    "y_test = np.array(y_test)"
   ],
   "metadata": {
    "collapsed": false,
    "ExecuteTime": {
     "end_time": "2024-01-07T23:24:53.462672Z",
     "start_time": "2024-01-07T23:24:53.448353Z"
    }
   },
   "id": "a48e078ccfa9eafd",
   "execution_count": 219
  },
  {
   "cell_type": "code",
   "outputs": [
    {
     "data": {
      "text/plain": "array([[2],\n       [0],\n       [9],\n       ...,\n       [3],\n       [9],\n       [2]])"
     },
     "execution_count": 220,
     "metadata": {},
     "output_type": "execute_result"
    }
   ],
   "source": [
    "y_test"
   ],
   "metadata": {
    "collapsed": false,
    "ExecuteTime": {
     "end_time": "2024-01-07T23:24:56.320013Z",
     "start_time": "2024-01-07T23:24:56.315557Z"
    }
   },
   "id": "9087d64d0281fad6",
   "execution_count": 220
  },
  {
   "cell_type": "code",
   "outputs": [
    {
     "data": {
      "text/plain": "<PIL.Image.Image image mode=L size=28x28>",
      "image/png": "[encoded data removed]",
      "image/jpeg": "[encoded data removed]"
     },
     "execution_count": 233,
     "metadata": {},
     "output_type": "execute_result"
    }
   ],
   "source": [
    "tf.keras.utils.array_to_img(X_test[9])"
   ],
   "metadata": {
    "collapsed": false,
    "ExecuteTime": {
     "end_time": "2024-01-07T23:26:13.388272Z",
     "start_time": "2024-01-07T23:26:13.385362Z"
    }
   },
   "id": "ebc2e499381dab7",
   "execution_count": 233
  },
  {
   "cell_type": "code",
   "outputs": [],
   "source": [],
   "metadata": {
    "collapsed": false
   },
   "id": "6514728f48e714f7"
  }
 ],
 "metadata": {
  "kernelspec": {
   "display_name": "Python 3",
   "language": "python",
   "name": "python3"
  },
  "language_info": {
   "codemirror_mode": {
    "name": "ipython",
    "version": 2
   },
   "file_extension": ".py",
   "mimetype": "text/x-python",
   "name": "python",
   "nbconvert_exporter": "python",
   "pygments_lexer": "ipython2",
   "version": "2.7.6"
  }
 },
 "nbformat": 4,
 "nbformat_minor": 5
}
