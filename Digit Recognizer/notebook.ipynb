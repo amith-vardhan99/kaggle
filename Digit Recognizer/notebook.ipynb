{
 "cells": [
  {
   "cell_type": "code",
   "execution_count": 114,
   "id": "initial_id",
   "metadata": {
    "collapsed": true,
    "ExecuteTime": {
     "end_time": "2024-01-07T21:06:41.528908Z",
     "start_time": "2024-01-07T21:06:41.523271Z"
    }
   },
   "outputs": [],
   "source": [
    "import numpy as np\n",
    "import pandas as pd\n",
    "import matplotlib.pyplot as plt\n",
    "import seaborn as sns\n",
    "import tensorflow as tf"
   ]
  },
  {
   "cell_type": "code",
   "outputs": [],
   "source": [
    "train = np.loadtxt(\"train.csv\", delimiter=\",\",dtype=\"str\")\n",
    "test = np.loadtxt(\"test.csv\", delimiter=\",\",dtype=\"str\")"
   ],
   "metadata": {
    "collapsed": false,
    "ExecuteTime": {
     "end_time": "2024-01-07T21:06:48.292301Z",
     "start_time": "2024-01-07T21:06:42.086348Z"
    }
   },
   "id": "43fe99f7db8b912e",
   "execution_count": 115
  },
  {
   "cell_type": "code",
   "outputs": [
    {
     "data": {
      "text/plain": "array([['label', 'pixel0', 'pixel1', ..., 'pixel781', 'pixel782',\n        'pixel783'],\n       ['1', '0', '0', ..., '0', '0', '0'],\n       ['0', '0', '0', ..., '0', '0', '0'],\n       ...,\n       ['7', '0', '0', ..., '0', '0', '0'],\n       ['6', '0', '0', ..., '0', '0', '0'],\n       ['9', '0', '0', ..., '0', '0', '0']], dtype='<U8')"
     },
     "execution_count": 116,
     "metadata": {},
     "output_type": "execute_result"
    }
   ],
   "source": [
    "train"
   ],
   "metadata": {
    "collapsed": false,
    "ExecuteTime": {
     "end_time": "2024-01-07T21:06:48.294188Z",
     "start_time": "2024-01-07T21:06:48.292431Z"
    }
   },
   "id": "737693b35b48c0e3",
   "execution_count": 116
  },
  {
   "cell_type": "code",
   "outputs": [
    {
     "data": {
      "text/plain": "array([[0., 0., 0., ..., 0., 0., 0.],\n       [0., 0., 0., ..., 0., 0., 0.],\n       [0., 0., 0., ..., 0., 0., 0.],\n       ...,\n       [0., 0., 0., ..., 0., 0., 0.],\n       [0., 0., 0., ..., 0., 0., 0.],\n       [0., 0., 0., ..., 0., 0., 0.]])"
     },
     "execution_count": 184,
     "metadata": {},
     "output_type": "execute_result"
    }
   ],
   "source": [
    "train_1 = train[1:,:]\n",
    "test_1 = test[1:,:]\n",
    "np.random.shuffle(train_1)\n",
    "train_1 = train_1[:,1:].astype(\"float64\")\n",
    "labels_1 = train_1[:,0].astype(\"float64\")\n",
    "test_1 = test_1.astype(\"float64\")\n",
    "\n",
    "train_1"
   ],
   "metadata": {
    "collapsed": false,
    "ExecuteTime": {
     "end_time": "2024-01-07T21:43:41.550696Z",
     "start_time": "2024-01-07T21:43:38.218962Z"
    }
   },
   "id": "24bd14f6f5b1f6ff",
   "execution_count": 184
  },
  {
   "cell_type": "code",
   "outputs": [],
   "source": [
    "train_2 = train_1.reshape(train_size)\n",
    "test_2 = test_1.reshape(test_size)\n",
    "labels_2 = labels_1.copy()"
   ],
   "metadata": {
    "collapsed": false,
    "ExecuteTime": {
     "end_time": "2024-01-07T21:42:52.161067Z",
     "start_time": "2024-01-07T21:42:52.156182Z"
    }
   },
   "id": "de85f083579a546a",
   "execution_count": 181
  },
  {
   "cell_type": "code",
   "outputs": [
    {
     "data": {
      "text/plain": "array([0., 0., 0., ..., 0., 0., 0.])"
     },
     "execution_count": 182,
     "metadata": {},
     "output_type": "execute_result"
    }
   ],
   "source": [
    "labels_2"
   ],
   "metadata": {
    "collapsed": false,
    "ExecuteTime": {
     "end_time": "2024-01-07T21:42:52.695428Z",
     "start_time": "2024-01-07T21:42:52.693428Z"
    }
   },
   "id": "d3fd4b96392b3e15",
   "execution_count": 182
  },
  {
   "cell_type": "code",
   "outputs": [
    {
     "name": "stdout",
     "output_type": "stream",
     "text": [
      "[10  4  1  9  7  3  2  5  6  8]\n"
     ]
    }
   ],
   "source": [
    "arr = np.arange(1, 11)\n",
    "np.random.shuffle(arr)\n",
    "print(arr)"
   ],
   "metadata": {
    "collapsed": false,
    "ExecuteTime": {
     "end_time": "2024-01-07T20:39:23.443244Z",
     "start_time": "2024-01-07T20:39:23.440609Z"
    }
   },
   "id": "3fbde5a96df00bd8",
   "execution_count": 89
  },
  {
   "cell_type": "code",
   "outputs": [
    {
     "data": {
      "text/plain": "array([[1, 2, 3],\n       [7, 8, 9],\n       [4, 5, 6]])"
     },
     "execution_count": 71,
     "metadata": {},
     "output_type": "execute_result"
    }
   ],
   "source": [],
   "metadata": {
    "collapsed": false,
    "ExecuteTime": {
     "end_time": "2024-01-07T20:35:17.796617Z",
     "start_time": "2024-01-07T20:35:17.790694Z"
    }
   },
   "id": "579e3671457992b0",
   "execution_count": 71
  },
  {
   "cell_type": "code",
   "outputs": [
    {
     "data": {
      "text/plain": "array([[1, 2, 3],\n       [4, 5, 6],\n       [7, 8, 9]])"
     },
     "execution_count": 67,
     "metadata": {},
     "output_type": "execute_result"
    }
   ],
   "source": [
    "x1"
   ],
   "metadata": {
    "collapsed": false,
    "ExecuteTime": {
     "end_time": "2024-01-07T20:34:52.871296Z",
     "start_time": "2024-01-07T20:34:52.861952Z"
    }
   },
   "id": "f9819f59ef79a09c",
   "execution_count": 67
  },
  {
   "cell_type": "code",
   "outputs": [
    {
     "ename": "NameError",
     "evalue": "name 'train_1' is not defined",
     "output_type": "error",
     "traceback": [
      "\u001B[0;31m---------------------------------------------------------------------------\u001B[0m",
      "\u001B[0;31mNameError\u001B[0m                                 Traceback (most recent call last)",
      "Cell \u001B[0;32mIn[46], line 1\u001B[0m\n\u001B[0;32m----> 1\u001B[0m size \u001B[38;5;241m=\u001B[39m \u001B[43mtrain_1\u001B[49m\u001B[38;5;241m.\u001B[39mshape[\u001B[38;5;241m1\u001B[39m]\n\u001B[1;32m      3\u001B[0m train_size \u001B[38;5;241m=\u001B[39m \u001B[38;5;28mtuple\u001B[39m([train_1\u001B[38;5;241m.\u001B[39mshape[\u001B[38;5;241m0\u001B[39m],\u001B[38;5;28mint\u001B[39m(np\u001B[38;5;241m.\u001B[39msqrt(size)),\u001B[38;5;28mint\u001B[39m(np\u001B[38;5;241m.\u001B[39msqrt(size)),\u001B[38;5;241m1\u001B[39m])\n\u001B[1;32m      4\u001B[0m test_size \u001B[38;5;241m=\u001B[39m \u001B[38;5;28mtuple\u001B[39m([test_1\u001B[38;5;241m.\u001B[39mshape[\u001B[38;5;241m0\u001B[39m],\u001B[38;5;28mint\u001B[39m(np\u001B[38;5;241m.\u001B[39msqrt(size)),\u001B[38;5;28mint\u001B[39m(np\u001B[38;5;241m.\u001B[39msqrt(size)),\u001B[38;5;241m1\u001B[39m])\n",
      "\u001B[0;31mNameError\u001B[0m: name 'train_1' is not defined"
     ]
    }
   ],
   "source": [
    "\n",
    "size = train_1.shape[1]\n",
    "\n",
    "train_size = tuple([train_1.shape[0],int(np.sqrt(size)),int(np.sqrt(size)),1])\n",
    "test_size = tuple([test_1.shape[0],int(np.sqrt(size)),int(np.sqrt(size)),1])\n",
    "\n",
    "train = np.reshape(train_1,train_size)\n",
    "test = np.reshape(test_1,test_size)\n"
   ],
   "metadata": {
    "collapsed": false,
    "ExecuteTime": {
     "end_time": "2024-01-07T20:04:42.680734Z",
     "start_time": "2024-01-07T20:04:42.645883Z"
    }
   },
   "id": "6eb2cbe654993baf",
   "execution_count": 46
  },
  {
   "cell_type": "code",
   "outputs": [],
   "source": [
    "model = tf.keras.models.Sequential([\n",
    "    \n",
    "    tf.keras.layers.Resizing(height=64,width=64),\n",
    "    tf.keras.layers.Conv2D(8,3,activation=\"relu\",input_shape=(64,64,1)),\n",
    "    tf.keras.layers.MaxPooling2D(pool_size=(2,2)),\n",
    "    tf.keras.layers.Conv2D(16,3,activation=\"relu\"),\n",
    "    tf.keras.layers.MaxPooling2D(pool_size=(2,2)),\n",
    "    tf.keras.layers.Conv2D(32,3,activation=\"relu\"),\n",
    "    tf.keras.layers.MaxPooling2D(pool_size=(2,2)),\n",
    "    tf.keras.layers.Conv2D(64,3,activation=\"relu\"),\n",
    "    tf.keras.layers.MaxPooling2D(pool_size=(2,2)),\n",
    "\n",
    "    tf.keras.layers.Flatten(),\n",
    "\n",
    "    tf.keras.layers.Dense(32,activation=\"relu\"),\n",
    "    tf.keras.layers.Dense(units=np.unique(labels).shape[0],activation=\"softmax\")\n",
    "\n",
    "])"
   ],
   "metadata": {
    "collapsed": false,
    "ExecuteTime": {
     "end_time": "2024-01-07T19:44:14.705357Z",
     "start_time": "2024-01-07T19:44:14.697640Z"
    }
   },
   "id": "b23aaa70d5d4595f",
   "execution_count": 30
  },
  {
   "cell_type": "code",
   "outputs": [],
   "source": [
    "model.compile(optimizer=tf.keras.optimizers.RMSprop(),\n",
    "              loss=tf.keras.losses.sparse_categorical_crossentropy,\n",
    "              metrics=tf.keras.metrics.mean_squared_error,\n",
    "              batch_size=32,\n",
    "              epochs=100,\n",
    "              verbose=1,\n",
    "              shuffle=True,\n",
    "              )"
   ],
   "metadata": {
    "collapsed": false
   },
   "id": "7fd7e004478b8acd"
  }
 ],
 "metadata": {
  "kernelspec": {
   "display_name": "Python 3",
   "language": "python",
   "name": "python3"
  },
  "language_info": {
   "codemirror_mode": {
    "name": "ipython",
    "version": 2
   },
   "file_extension": ".py",
   "mimetype": "text/x-python",
   "name": "python",
   "nbconvert_exporter": "python",
   "pygments_lexer": "ipython2",
   "version": "2.7.6"
  }
 },
 "nbformat": 4,
 "nbformat_minor": 5
}
