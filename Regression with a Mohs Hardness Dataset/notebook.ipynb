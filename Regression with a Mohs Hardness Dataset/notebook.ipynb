{
 "cells": [
  {
   "cell_type": "code",
   "execution_count": 63,
   "id": "initial_id",
   "metadata": {
    "collapsed": true,
    "ExecuteTime": {
     "end_time": "2024-01-11T17:42:03.058479Z",
     "start_time": "2024-01-11T17:42:03.055294Z"
    }
   },
   "outputs": [],
   "source": [
    "import numpy as np\n",
    "import pandas as pd\n",
    "import matplotlib.pyplot as plt\n",
    "import seaborn as sns\n",
    "import tensorflow as tf\n",
    "import warnings\n",
    "warnings.filterwarnings(\"ignore\")\n",
    "from sklearn.feature_selection import *"
   ]
  },
  {
   "cell_type": "code",
   "outputs": [],
   "source": [
    "train = np.loadtxt(\"train.csv\",delimiter=\",\",dtype=\"str\")\n",
    "test = np.loadtxt(\"test.csv\",delimiter=\",\",dtype=\"str\")"
   ],
   "metadata": {
    "collapsed": false,
    "ExecuteTime": {
     "end_time": "2024-01-11T17:42:03.545395Z",
     "start_time": "2024-01-11T17:42:03.506526Z"
    }
   },
   "id": "a28206063912dc26",
   "execution_count": 64
  },
  {
   "cell_type": "code",
   "outputs": [
    {
     "data": {
      "text/plain": "array([['id', 'allelectrons_Total', 'density_Total', ...,\n        'zaratio_Average', 'density_Average', 'Hardness'],\n       ['0', '100.0', '0.8416109999999999', ..., '0.4960699999999999',\n        '0.91457', '6.0'],\n       ['1', '100.0', '7.558488', ..., '0.492719', '0.7176', '6.5'],\n       ...,\n       ['10404', '196.0', '30.92', ..., '0.4697149999999999', '2.1154',\n        '1.8'],\n       ['10405', '38.0', '1.55316', ..., '0.4865066666666666', '0.77755',\n        '6.0'],\n       ['10406', '288.0', '24.655328', ..., '0.4939185714285714',\n        '0.97737', '6.5']], dtype='<U21')"
     },
     "execution_count": 65,
     "metadata": {},
     "output_type": "execute_result"
    }
   ],
   "source": [
    "train"
   ],
   "metadata": {
    "collapsed": false,
    "ExecuteTime": {
     "end_time": "2024-01-11T17:42:04.160220Z",
     "start_time": "2024-01-11T17:42:04.155047Z"
    }
   },
   "id": "3cb6933cd7136f2f",
   "execution_count": 65
  },
  {
   "cell_type": "code",
   "outputs": [],
   "source": [
    "train_input = train_arr[1:,1:-1]\n",
    "train_target = train_arr[1:,-1]\n",
    "test_input = test_arr[1:,1:]"
   ],
   "metadata": {
    "collapsed": false,
    "ExecuteTime": {
     "end_time": "2024-01-11T17:47:55.568975Z",
     "start_time": "2024-01-11T17:47:55.567271Z"
    }
   },
   "id": "e8a446886ae4fe15",
   "execution_count": 79
  },
  {
   "cell_type": "code",
   "outputs": [],
   "source": [
    "train_total = np.append(train_input,test_input,axis=0)"
   ],
   "metadata": {
    "collapsed": false,
    "ExecuteTime": {
     "end_time": "2024-01-11T17:47:57.956327Z",
     "start_time": "2024-01-11T17:47:57.943216Z"
    }
   },
   "id": "22249497a4001e9d",
   "execution_count": 80
  },
  {
   "cell_type": "code",
   "outputs": [
    {
     "data": {
      "text/plain": "array([['100.0', '0.8416109999999999', '10.0', ..., '0.86',\n        '0.4960699999999999', '0.91457'],\n       ['100.0', '7.558488', '10.0', ..., '0.91', '0.492719', '0.7176'],\n       ['76.0', '8.885992', '15.6', ..., '0.8640000000000001',\n        '0.481478', '1.50633'],\n       ...,\n       ['68.0', '4.5453280000000005', '11.333333333333336', ...,\n        '0.9166666666666666', '0.4990741666666666', '0.73425'],\n       ['40.0', '2.3341635000000003', '6.666666666666668', ...,\n        '0.6166666666666667', '0.6637966666666667', '0.51227'],\n       ['134.0', '17.59', '67.0', ..., '1.41', '0.401635', '0.44035']],\n      dtype='<U21')"
     },
     "execution_count": 81,
     "metadata": {},
     "output_type": "execute_result"
    }
   ],
   "source": [
    "train_total"
   ],
   "metadata": {
    "collapsed": false,
    "ExecuteTime": {
     "end_time": "2024-01-11T17:48:09.781368Z",
     "start_time": "2024-01-11T17:48:09.777048Z"
    }
   },
   "id": "e00aa8b2195b0fab",
   "execution_count": 81
  },
  {
   "cell_type": "code",
   "outputs": [],
   "source": [
    "np.tr"
   ],
   "metadata": {
    "collapsed": false
   },
   "id": "938b2cc97eec20ca"
  },
  {
   "cell_type": "code",
   "outputs": [
    {
     "data": {
      "text/plain": "array([['100.0', '100.0', '76.0', ..., '68.0', '40.0', '134.0'],\n       ['0.8416109999999999', '7.558488', '8.885992', ...,\n        '4.5453280000000005', '2.3341635000000003', '17.59'],\n       ['10.0', '10.0', '15.6', ..., '11.333333333333336',\n        '6.666666666666668', '67.0'],\n       ...,\n       ['0.86', '0.91', '0.8640000000000001', ..., '0.9166666666666666',\n        '0.6166666666666667', '1.41'],\n       ['0.4960699999999999', '0.492719', '0.481478', ...,\n        '0.4990741666666666', '0.6637966666666667', '0.401635'],\n       ['0.91457', '0.7176', '1.50633', ..., '0.73425', '0.51227',\n        '0.44035']], dtype='<U18')"
     },
     "execution_count": 84,
     "metadata": {},
     "output_type": "execute_result"
    }
   ],
   "source": [
    "train_columns = []\n",
    "for i in range(train_total.shape[1]):\n",
    "    train_columns.append(train_total[:,i].tolist())\n",
    "train_columns = np.array(train_columns)\n",
    "train_columns"
   ],
   "metadata": {
    "collapsed": false,
    "ExecuteTime": {
     "end_time": "2024-01-11T17:50:57.012118Z",
     "start_time": "2024-01-11T17:50:56.996322Z"
    }
   },
   "id": "51b2390cd7dad07c",
   "execution_count": 84
  },
  {
   "cell_type": "code",
   "outputs": [],
   "source": [],
   "metadata": {
    "collapsed": false
   },
   "id": "24307cfd2f069e32"
  }
 ],
 "metadata": {
  "kernelspec": {
   "display_name": "Python 3",
   "language": "python",
   "name": "python3"
  },
  "language_info": {
   "codemirror_mode": {
    "name": "ipython",
    "version": 2
   },
   "file_extension": ".py",
   "mimetype": "text/x-python",
   "name": "python",
   "nbconvert_exporter": "python",
   "pygments_lexer": "ipython2",
   "version": "2.7.6"
  }
 },
 "nbformat": 4,
 "nbformat_minor": 5
}
