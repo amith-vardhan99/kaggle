{
 "cells": [
  {
   "cell_type": "code",
   "execution_count": 1,
   "id": "initial_id",
   "metadata": {
    "collapsed": true,
    "ExecuteTime": {
     "end_time": "2024-01-11T20:48:24.003277Z",
     "start_time": "2024-01-11T20:48:14.952755Z"
    }
   },
   "outputs": [],
   "source": [
    "import numpy as np\n",
    "import pandas as pd\n",
    "import matplotlib.pyplot as plt\n",
    "import seaborn as sns\n",
    "import tensorflow as tf\n",
    "import warnings\n",
    "warnings.filterwarnings(\"ignore\")\n",
    "from sklearn.feature_selection import *\n",
    "from sklearn.preprocessing import *\n",
    "from sklearn.model_selection import *"
   ]
  },
  {
   "cell_type": "code",
   "outputs": [],
   "source": [
    "train = pd.read_csv(\"train.csv\")\n",
    "test = pd.read_csv(\"test.csv\")"
   ],
   "metadata": {
    "collapsed": false,
    "ExecuteTime": {
     "end_time": "2024-01-11T20:48:24.018988Z",
     "start_time": "2024-01-11T20:48:24.002159Z"
    }
   },
   "id": "a28206063912dc26",
   "execution_count": 2
  },
  {
   "cell_type": "code",
   "outputs": [
    {
     "data": {
      "text/plain": "          id  allelectrons_Total  density_Total  allelectrons_Average  \\\n0          0               100.0       0.841611             10.000000   \n1          1               100.0       7.558488             10.000000   \n2          2                76.0       8.885992             15.600000   \n3          3               100.0       8.795296             10.000000   \n4          4               116.0       9.577996             11.600000   \n...      ...                 ...            ...                   ...   \n10402  10402               128.0       7.558488             12.000000   \n10403  10403                30.0       1.743160             10.000000   \n10404  10404               196.0      30.920000             24.500000   \n10405  10405                38.0       1.553160             12.666667   \n10406  10406               288.0      24.655328             11.142857   \n\n       val_e_Average  atomicweight_Average  ionenergy_Average  \\\n0           4.800000             20.612526          11.088100   \n1           4.800000             20.298893          12.040830   \n2           5.600000             33.739258          12.086300   \n3           4.800000             20.213349          10.948500   \n4           4.800000             24.988133          11.824480   \n...              ...                   ...                ...   \n10402       4.000000             26.385218          11.330440   \n10403       5.333333             20.766935          14.163933   \n10404       5.500000             53.490297          10.074300   \n10405       4.666667             26.621687          11.290033   \n10406       4.571429             22.536126          10.960357   \n\n       el_neg_chi_Average  R_vdw_element_Average  R_cov_element_Average  \\\n0                2.766000               1.732000               0.860000   \n1                2.755000               1.631000               0.910000   \n2                2.828000               1.788000               0.864000   \n3                2.648000               1.626000               0.936000   \n4                2.766000               1.682000               0.896000   \n...                   ...                    ...                    ...   \n10402            2.644000               1.631000               0.892000   \n10403            3.090000               1.556667               0.866667   \n10404            2.295000               1.545000               1.120000   \n10405            2.743333               1.756667               0.980000   \n10406            2.792143               1.772857               0.940000   \n\n       zaratio_Average  density_Average  Hardness  \n0             0.496070          0.91457       6.0  \n1             0.492719          0.71760       6.5  \n2             0.481478          1.50633       2.5  \n3             0.489272          0.78937       6.0  \n4             0.492736          1.86481       6.0  \n...                ...              ...       ...  \n10402         0.496070          1.79607       4.0  \n10403         0.480390          0.81480       5.0  \n10404         0.469715          2.11540       1.8  \n10405         0.486507          0.77755       6.0  \n10406         0.493919          0.97737       6.5  \n\n[10407 rows x 13 columns]",
      "text/html": "<div>\n<style scoped>\n    .dataframe tbody tr th:only-of-type {\n        vertical-align: middle;\n    }\n\n    .dataframe tbody tr th {\n        vertical-align: top;\n    }\n\n    .dataframe thead th {\n        text-align: right;\n    }\n</style>\n<table border=\"1\" class=\"dataframe\">\n  <thead>\n    <tr style=\"text-align: right;\">\n      <th></th>\n      <th>id</th>\n      <th>allelectrons_Total</th>\n      <th>density_Total</th>\n      <th>allelectrons_Average</th>\n      <th>val_e_Average</th>\n      <th>atomicweight_Average</th>\n      <th>ionenergy_Average</th>\n      <th>el_neg_chi_Average</th>\n      <th>R_vdw_element_Average</th>\n      <th>R_cov_element_Average</th>\n      <th>zaratio_Average</th>\n      <th>density_Average</th>\n      <th>Hardness</th>\n    </tr>\n  </thead>\n  <tbody>\n    <tr>\n      <th>0</th>\n      <td>0</td>\n      <td>100.0</td>\n      <td>0.841611</td>\n      <td>10.000000</td>\n      <td>4.800000</td>\n      <td>20.612526</td>\n      <td>11.088100</td>\n      <td>2.766000</td>\n      <td>1.732000</td>\n      <td>0.860000</td>\n      <td>0.496070</td>\n      <td>0.91457</td>\n      <td>6.0</td>\n    </tr>\n    <tr>\n      <th>1</th>\n      <td>1</td>\n      <td>100.0</td>\n      <td>7.558488</td>\n      <td>10.000000</td>\n      <td>4.800000</td>\n      <td>20.298893</td>\n      <td>12.040830</td>\n      <td>2.755000</td>\n      <td>1.631000</td>\n      <td>0.910000</td>\n      <td>0.492719</td>\n      <td>0.71760</td>\n      <td>6.5</td>\n    </tr>\n    <tr>\n      <th>2</th>\n      <td>2</td>\n      <td>76.0</td>\n      <td>8.885992</td>\n      <td>15.600000</td>\n      <td>5.600000</td>\n      <td>33.739258</td>\n      <td>12.086300</td>\n      <td>2.828000</td>\n      <td>1.788000</td>\n      <td>0.864000</td>\n      <td>0.481478</td>\n      <td>1.50633</td>\n      <td>2.5</td>\n    </tr>\n    <tr>\n      <th>3</th>\n      <td>3</td>\n      <td>100.0</td>\n      <td>8.795296</td>\n      <td>10.000000</td>\n      <td>4.800000</td>\n      <td>20.213349</td>\n      <td>10.948500</td>\n      <td>2.648000</td>\n      <td>1.626000</td>\n      <td>0.936000</td>\n      <td>0.489272</td>\n      <td>0.78937</td>\n      <td>6.0</td>\n    </tr>\n    <tr>\n      <th>4</th>\n      <td>4</td>\n      <td>116.0</td>\n      <td>9.577996</td>\n      <td>11.600000</td>\n      <td>4.800000</td>\n      <td>24.988133</td>\n      <td>11.824480</td>\n      <td>2.766000</td>\n      <td>1.682000</td>\n      <td>0.896000</td>\n      <td>0.492736</td>\n      <td>1.86481</td>\n      <td>6.0</td>\n    </tr>\n    <tr>\n      <th>...</th>\n      <td>...</td>\n      <td>...</td>\n      <td>...</td>\n      <td>...</td>\n      <td>...</td>\n      <td>...</td>\n      <td>...</td>\n      <td>...</td>\n      <td>...</td>\n      <td>...</td>\n      <td>...</td>\n      <td>...</td>\n      <td>...</td>\n    </tr>\n    <tr>\n      <th>10402</th>\n      <td>10402</td>\n      <td>128.0</td>\n      <td>7.558488</td>\n      <td>12.000000</td>\n      <td>4.000000</td>\n      <td>26.385218</td>\n      <td>11.330440</td>\n      <td>2.644000</td>\n      <td>1.631000</td>\n      <td>0.892000</td>\n      <td>0.496070</td>\n      <td>1.79607</td>\n      <td>4.0</td>\n    </tr>\n    <tr>\n      <th>10403</th>\n      <td>10403</td>\n      <td>30.0</td>\n      <td>1.743160</td>\n      <td>10.000000</td>\n      <td>5.333333</td>\n      <td>20.766935</td>\n      <td>14.163933</td>\n      <td>3.090000</td>\n      <td>1.556667</td>\n      <td>0.866667</td>\n      <td>0.480390</td>\n      <td>0.81480</td>\n      <td>5.0</td>\n    </tr>\n    <tr>\n      <th>10404</th>\n      <td>10404</td>\n      <td>196.0</td>\n      <td>30.920000</td>\n      <td>24.500000</td>\n      <td>5.500000</td>\n      <td>53.490297</td>\n      <td>10.074300</td>\n      <td>2.295000</td>\n      <td>1.545000</td>\n      <td>1.120000</td>\n      <td>0.469715</td>\n      <td>2.11540</td>\n      <td>1.8</td>\n    </tr>\n    <tr>\n      <th>10405</th>\n      <td>10405</td>\n      <td>38.0</td>\n      <td>1.553160</td>\n      <td>12.666667</td>\n      <td>4.666667</td>\n      <td>26.621687</td>\n      <td>11.290033</td>\n      <td>2.743333</td>\n      <td>1.756667</td>\n      <td>0.980000</td>\n      <td>0.486507</td>\n      <td>0.77755</td>\n      <td>6.0</td>\n    </tr>\n    <tr>\n      <th>10406</th>\n      <td>10406</td>\n      <td>288.0</td>\n      <td>24.655328</td>\n      <td>11.142857</td>\n      <td>4.571429</td>\n      <td>22.536126</td>\n      <td>10.960357</td>\n      <td>2.792143</td>\n      <td>1.772857</td>\n      <td>0.940000</td>\n      <td>0.493919</td>\n      <td>0.97737</td>\n      <td>6.5</td>\n    </tr>\n  </tbody>\n</table>\n<p>10407 rows × 13 columns</p>\n</div>"
     },
     "execution_count": 3,
     "metadata": {},
     "output_type": "execute_result"
    }
   ],
   "source": [
    "train"
   ],
   "metadata": {
    "collapsed": false,
    "ExecuteTime": {
     "end_time": "2024-01-11T20:48:24.043377Z",
     "start_time": "2024-01-11T20:48:24.021979Z"
    }
   },
   "id": "3cb6933cd7136f2f",
   "execution_count": 3
  },
  {
   "cell_type": "code",
   "outputs": [],
   "source": [
    "train_input = train.drop(columns=[\"id\",\"Hardness\"])\n",
    "train_target = train[\"Hardness\"]\n",
    "test_input = test.drop(columns=[\"id\"])"
   ],
   "metadata": {
    "collapsed": false,
    "ExecuteTime": {
     "end_time": "2024-01-11T20:48:24.044641Z",
     "start_time": "2024-01-11T20:48:24.031317Z"
    }
   },
   "id": "ee98097300830ff8",
   "execution_count": 4
  },
  {
   "cell_type": "code",
   "outputs": [
    {
     "data": {
      "text/plain": "                  feature  p-value\n0      allelectrons_Total      0.0\n1           density_Total      0.0\n2    allelectrons_Average      0.0\n3           val_e_Average      0.0\n4    atomicweight_Average      0.0\n5       ionenergy_Average      0.0\n6      el_neg_chi_Average      0.0\n7   R_vdw_element_Average      0.0\n8   R_cov_element_Average      0.0\n9         zaratio_Average      0.0\n10        density_Average      0.0",
      "text/html": "<div>\n<style scoped>\n    .dataframe tbody tr th:only-of-type {\n        vertical-align: middle;\n    }\n\n    .dataframe tbody tr th {\n        vertical-align: top;\n    }\n\n    .dataframe thead th {\n        text-align: right;\n    }\n</style>\n<table border=\"1\" class=\"dataframe\">\n  <thead>\n    <tr style=\"text-align: right;\">\n      <th></th>\n      <th>feature</th>\n      <th>p-value</th>\n    </tr>\n  </thead>\n  <tbody>\n    <tr>\n      <th>0</th>\n      <td>allelectrons_Total</td>\n      <td>0.0</td>\n    </tr>\n    <tr>\n      <th>1</th>\n      <td>density_Total</td>\n      <td>0.0</td>\n    </tr>\n    <tr>\n      <th>2</th>\n      <td>allelectrons_Average</td>\n      <td>0.0</td>\n    </tr>\n    <tr>\n      <th>3</th>\n      <td>val_e_Average</td>\n      <td>0.0</td>\n    </tr>\n    <tr>\n      <th>4</th>\n      <td>atomicweight_Average</td>\n      <td>0.0</td>\n    </tr>\n    <tr>\n      <th>5</th>\n      <td>ionenergy_Average</td>\n      <td>0.0</td>\n    </tr>\n    <tr>\n      <th>6</th>\n      <td>el_neg_chi_Average</td>\n      <td>0.0</td>\n    </tr>\n    <tr>\n      <th>7</th>\n      <td>R_vdw_element_Average</td>\n      <td>0.0</td>\n    </tr>\n    <tr>\n      <th>8</th>\n      <td>R_cov_element_Average</td>\n      <td>0.0</td>\n    </tr>\n    <tr>\n      <th>9</th>\n      <td>zaratio_Average</td>\n      <td>0.0</td>\n    </tr>\n    <tr>\n      <th>10</th>\n      <td>density_Average</td>\n      <td>0.0</td>\n    </tr>\n  </tbody>\n</table>\n</div>"
     },
     "execution_count": 5,
     "metadata": {},
     "output_type": "execute_result"
    }
   ],
   "source": [
    "f,p = f_regression(train_input,train_target)\n",
    "p_values = pd.DataFrame(columns=[\"feature\",\"p-value\"])\n",
    "p_values[\"feature\"] = train_input.columns\n",
    "p_values[\"p-value\"] = p.round(2)\n",
    "p_values"
   ],
   "metadata": {
    "collapsed": false,
    "ExecuteTime": {
     "end_time": "2024-01-11T20:48:24.087814Z",
     "start_time": "2024-01-11T20:48:24.040166Z"
    }
   },
   "id": "507bb9ea70bfb4b1",
   "execution_count": 5
  },
  {
   "cell_type": "code",
   "outputs": [],
   "source": [
    "ss = StandardScaler()\n",
    "\n",
    "train_input_1 = ss.fit_transform(train_input)\n",
    "train_target_1 = train_target.copy()\n",
    "\n",
    "test_input_1 = ss.fit_transform(test_input)"
   ],
   "metadata": {
    "collapsed": false,
    "ExecuteTime": {
     "end_time": "2024-01-11T20:48:24.122564Z",
     "start_time": "2024-01-11T20:48:24.087399Z"
    }
   },
   "id": "3115b7ed9999533d",
   "execution_count": 6
  },
  {
   "cell_type": "code",
   "outputs": [],
   "source": [
    "X_train, X_val, y_train, y_val = train_test_split(train_input_1,train_target_1,test_size=0.3,random_state=np.random.randint(0,1000))\n",
    "\n",
    "X_test = test_input_1.copy()"
   ],
   "metadata": {
    "collapsed": false,
    "ExecuteTime": {
     "end_time": "2024-01-11T20:48:24.123598Z",
     "start_time": "2024-01-11T20:48:24.098513Z"
    }
   },
   "id": "199e18644f5ca564",
   "execution_count": 7
  },
  {
   "cell_type": "code",
   "outputs": [],
   "source": [
    "element_size = X_train[0].shape"
   ],
   "metadata": {
    "collapsed": false,
    "ExecuteTime": {
     "end_time": "2024-01-11T20:50:16.686347Z",
     "start_time": "2024-01-11T20:50:16.682418Z"
    }
   },
   "id": "640f02efbecafc03",
   "execution_count": 12
  },
  {
   "cell_type": "code",
   "outputs": [
    {
     "data": {
      "text/plain": "(11,)"
     },
     "execution_count": 13,
     "metadata": {},
     "output_type": "execute_result"
    }
   ],
   "source": [
    "element_size"
   ],
   "metadata": {
    "collapsed": false,
    "ExecuteTime": {
     "end_time": "2024-01-11T20:50:16.974404Z",
     "start_time": "2024-01-11T20:50:16.971414Z"
    }
   },
   "id": "503bf258c4906246",
   "execution_count": 13
  },
  {
   "cell_type": "code",
   "outputs": [],
   "source": [
    "model = tf.keras.models.Sequential([\n",
    "    tf.keras.layers.Dense(units=16,activation=\"relu\",input_shape=element_size),\n",
    "    tf.keras.layers.Dense(units=32,activation=\"relu\"),\n",
    "    tf.keras.layers.Dense(units=64,activation=\"relu\"),\n",
    "    tf.keras.layers.Dense(units=64,activation=\"relu\"),\n",
    "    tf.keras.layers.Dense(units=1,activation=\"linear\")\n",
    "])"
   ],
   "metadata": {
    "collapsed": false,
    "ExecuteTime": {
     "end_time": "2024-01-11T20:50:18.010749Z",
     "start_time": "2024-01-11T20:50:17.948862Z"
    }
   },
   "id": "7fcedeff76882079",
   "execution_count": 14
  },
  {
   "cell_type": "code",
   "outputs": [],
   "source": [
    "model.compile(\n",
    "    optimizer = tf.keras.optimizers.legacy.Adam(),\n",
    "    loss = tf.keras.losses.mean_squared_error,\n",
    "    metrics = tf.keras.metrics.mean_squared_error\n",
    ")"
   ],
   "metadata": {
    "collapsed": false,
    "ExecuteTime": {
     "end_time": "2024-01-11T20:51:29.186360Z",
     "start_time": "2024-01-11T20:51:29.036393Z"
    }
   },
   "id": "3bb26a0019e9fdad",
   "execution_count": 16
  },
  {
   "cell_type": "code",
   "outputs": [
    {
     "name": "stdout",
     "output_type": "stream",
     "text": [
      "Epoch 1/100\n",
      "228/228 [==============================] - 0s 784us/step - loss: 5.8500 - mean_squared_error: 5.8500 - val_loss: 2.7651 - val_mean_squared_error: 2.7651\n",
      "Epoch 2/100\n",
      "228/228 [==============================] - 0s 523us/step - loss: 2.1395 - mean_squared_error: 2.1395 - val_loss: 2.0969 - val_mean_squared_error: 2.0969\n",
      "Epoch 3/100\n",
      "228/228 [==============================] - 0s 538us/step - loss: 1.9165 - mean_squared_error: 1.9165 - val_loss: 1.9717 - val_mean_squared_error: 1.9717\n",
      "Epoch 4/100\n",
      "228/228 [==============================] - 0s 547us/step - loss: 1.8310 - mean_squared_error: 1.8310 - val_loss: 1.8287 - val_mean_squared_error: 1.8287\n",
      "Epoch 5/100\n",
      "228/228 [==============================] - 0s 524us/step - loss: 1.8055 - mean_squared_error: 1.8055 - val_loss: 1.9605 - val_mean_squared_error: 1.9605\n"
     ]
    },
    {
     "data": {
      "text/plain": "<keras.src.callbacks.History at 0x286ce03d0>"
     },
     "execution_count": 17,
     "metadata": {},
     "output_type": "execute_result"
    }
   ],
   "source": [
    "model.fit(\n",
    "    x=X_train, y=y_train,\n",
    "    batch_size = 32,\n",
    "    epochs = 100,\n",
    "    verbose = 1,\n",
    "    callbacks = tf.keras.callbacks.EarlyStopping(),\n",
    "    validation_data=(X_val,y_val),\n",
    "    shuffle = True,\n",
    "    validation_batch_size = 32\n",
    ")"
   ],
   "metadata": {
    "collapsed": false,
    "ExecuteTime": {
     "end_time": "2024-01-11T20:52:55.447048Z",
     "start_time": "2024-01-11T20:52:54.478973Z"
    }
   },
   "id": "95ce071f03468f88",
   "execution_count": 17
  },
  {
   "cell_type": "code",
   "outputs": [
    {
     "name": "stdout",
     "output_type": "stream",
     "text": [
      "217/217 [==============================] - 0s 251us/step - loss: 0.0000e+00 - mean_squared_error: 0.0000e+00\n"
     ]
    }
   ],
   "source": [
    "mse, mse_2 = model.evaluate(X_test)"
   ],
   "metadata": {
    "collapsed": false,
    "ExecuteTime": {
     "end_time": "2024-01-11T20:54:15.746653Z",
     "start_time": "2024-01-11T20:54:15.644107Z"
    }
   },
   "id": "9aad3c4d83bd2c63",
   "execution_count": 20
  },
  {
   "cell_type": "code",
   "outputs": [
    {
     "name": "stdout",
     "output_type": "stream",
     "text": [
      "217/217 [==============================] - 0s 245us/step\n"
     ]
    }
   ],
   "source": [
    "df_final = pd.DataFrame(columns=[\"id\",\"Hardness\"])\n",
    "\n",
    "df_final[\"id\"] = test[\"id\"].copy()\n",
    "df_final[\"Hardness\"] = model.predict(X_test).round(3)"
   ],
   "metadata": {
    "collapsed": false,
    "ExecuteTime": {
     "end_time": "2024-01-11T20:55:39.513922Z",
     "start_time": "2024-01-11T20:55:39.392472Z"
    }
   },
   "id": "93141bfe1208ffe4",
   "execution_count": 27
  },
  {
   "cell_type": "code",
   "outputs": [
    {
     "data": {
      "text/plain": "         id  Hardness\n0     10407     3.557\n1     10408     4.254\n2     10409     6.065\n3     10410     4.745\n4     10411     5.857\n...     ...       ...\n6934  17341     5.717\n6935  17342     4.357\n6936  17343     6.297\n6937  17344     3.661\n6938  17345     2.534\n\n[6939 rows x 2 columns]",
      "text/html": "<div>\n<style scoped>\n    .dataframe tbody tr th:only-of-type {\n        vertical-align: middle;\n    }\n\n    .dataframe tbody tr th {\n        vertical-align: top;\n    }\n\n    .dataframe thead th {\n        text-align: right;\n    }\n</style>\n<table border=\"1\" class=\"dataframe\">\n  <thead>\n    <tr style=\"text-align: right;\">\n      <th></th>\n      <th>id</th>\n      <th>Hardness</th>\n    </tr>\n  </thead>\n  <tbody>\n    <tr>\n      <th>0</th>\n      <td>10407</td>\n      <td>3.557</td>\n    </tr>\n    <tr>\n      <th>1</th>\n      <td>10408</td>\n      <td>4.254</td>\n    </tr>\n    <tr>\n      <th>2</th>\n      <td>10409</td>\n      <td>6.065</td>\n    </tr>\n    <tr>\n      <th>3</th>\n      <td>10410</td>\n      <td>4.745</td>\n    </tr>\n    <tr>\n      <th>4</th>\n      <td>10411</td>\n      <td>5.857</td>\n    </tr>\n    <tr>\n      <th>...</th>\n      <td>...</td>\n      <td>...</td>\n    </tr>\n    <tr>\n      <th>6934</th>\n      <td>17341</td>\n      <td>5.717</td>\n    </tr>\n    <tr>\n      <th>6935</th>\n      <td>17342</td>\n      <td>4.357</td>\n    </tr>\n    <tr>\n      <th>6936</th>\n      <td>17343</td>\n      <td>6.297</td>\n    </tr>\n    <tr>\n      <th>6937</th>\n      <td>17344</td>\n      <td>3.661</td>\n    </tr>\n    <tr>\n      <th>6938</th>\n      <td>17345</td>\n      <td>2.534</td>\n    </tr>\n  </tbody>\n</table>\n<p>6939 rows × 2 columns</p>\n</div>"
     },
     "execution_count": 28,
     "metadata": {},
     "output_type": "execute_result"
    }
   ],
   "source": [
    "df_final"
   ],
   "metadata": {
    "collapsed": false,
    "ExecuteTime": {
     "end_time": "2024-01-11T20:55:44.621635Z",
     "start_time": "2024-01-11T20:55:44.604349Z"
    }
   },
   "id": "71b80b6a5a50c881",
   "execution_count": 28
  },
  {
   "cell_type": "code",
   "outputs": [],
   "source": [
    "df_final.to_csv(\"amith_submission.csv\",index=False,header=True)"
   ],
   "metadata": {
    "collapsed": false,
    "ExecuteTime": {
     "end_time": "2024-01-11T20:56:14.221506Z",
     "start_time": "2024-01-11T20:56:14.211078Z"
    }
   },
   "id": "2f3940a4785352e4",
   "execution_count": 29
  },
  {
   "cell_type": "code",
   "outputs": [],
   "source": [],
   "metadata": {
    "collapsed": false
   },
   "id": "15ca6edbceee6ec1"
  }
 ],
 "metadata": {
  "kernelspec": {
   "display_name": "Python 3",
   "language": "python",
   "name": "python3"
  },
  "language_info": {
   "codemirror_mode": {
    "name": "ipython",
    "version": 2
   },
   "file_extension": ".py",
   "mimetype": "text/x-python",
   "name": "python",
   "nbconvert_exporter": "python",
   "pygments_lexer": "ipython2",
   "version": "2.7.6"
  }
 },
 "nbformat": 4,
 "nbformat_minor": 5
}
