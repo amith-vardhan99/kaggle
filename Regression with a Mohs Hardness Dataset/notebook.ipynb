{
 "cells": [
  {
   "cell_type": "code",
   "execution_count": 1,
   "id": "initial_id",
   "metadata": {
    "collapsed": true,
    "ExecuteTime": {
     "end_time": "2024-01-09T23:24:40.637666Z",
     "start_time": "2024-01-09T23:24:40.630669Z"
    }
   },
   "outputs": [],
   "source": [
    "import numpy as np\n",
    "import pandas as pd\n",
    "import matplotlib.pyplot as plt\n",
    "import seaborn as sns"
   ]
  },
  {
   "cell_type": "code",
   "outputs": [
    {
     "data": {
      "text/plain": "          id  allelectrons_Total  density_Total  allelectrons_Average  \\\n0          0               100.0       0.841611             10.000000   \n1          1               100.0       7.558488             10.000000   \n2          2                76.0       8.885992             15.600000   \n3          3               100.0       8.795296             10.000000   \n4          4               116.0       9.577996             11.600000   \n...      ...                 ...            ...                   ...   \n10402  10402               128.0       7.558488             12.000000   \n10403  10403                30.0       1.743160             10.000000   \n10404  10404               196.0      30.920000             24.500000   \n10405  10405                38.0       1.553160             12.666667   \n10406  10406               288.0      24.655328             11.142857   \n\n       val_e_Average  atomicweight_Average  ionenergy_Average  \\\n0           4.800000             20.612526          11.088100   \n1           4.800000             20.298893          12.040830   \n2           5.600000             33.739258          12.086300   \n3           4.800000             20.213349          10.948500   \n4           4.800000             24.988133          11.824480   \n...              ...                   ...                ...   \n10402       4.000000             26.385218          11.330440   \n10403       5.333333             20.766935          14.163933   \n10404       5.500000             53.490297          10.074300   \n10405       4.666667             26.621687          11.290033   \n10406       4.571429             22.536126          10.960357   \n\n       el_neg_chi_Average  R_vdw_element_Average  R_cov_element_Average  \\\n0                2.766000               1.732000               0.860000   \n1                2.755000               1.631000               0.910000   \n2                2.828000               1.788000               0.864000   \n3                2.648000               1.626000               0.936000   \n4                2.766000               1.682000               0.896000   \n...                   ...                    ...                    ...   \n10402            2.644000               1.631000               0.892000   \n10403            3.090000               1.556667               0.866667   \n10404            2.295000               1.545000               1.120000   \n10405            2.743333               1.756667               0.980000   \n10406            2.792143               1.772857               0.940000   \n\n       zaratio_Average  density_Average  Hardness  \n0             0.496070          0.91457       6.0  \n1             0.492719          0.71760       6.5  \n2             0.481478          1.50633       2.5  \n3             0.489272          0.78937       6.0  \n4             0.492736          1.86481       6.0  \n...                ...              ...       ...  \n10402         0.496070          1.79607       4.0  \n10403         0.480390          0.81480       5.0  \n10404         0.469715          2.11540       1.8  \n10405         0.486507          0.77755       6.0  \n10406         0.493919          0.97737       6.5  \n\n[10407 rows x 13 columns]",
      "text/html": "<div>\n<style scoped>\n    .dataframe tbody tr th:only-of-type {\n        vertical-align: middle;\n    }\n\n    .dataframe tbody tr th {\n        vertical-align: top;\n    }\n\n    .dataframe thead th {\n        text-align: right;\n    }\n</style>\n<table border=\"1\" class=\"dataframe\">\n  <thead>\n    <tr style=\"text-align: right;\">\n      <th></th>\n      <th>id</th>\n      <th>allelectrons_Total</th>\n      <th>density_Total</th>\n      <th>allelectrons_Average</th>\n      <th>val_e_Average</th>\n      <th>atomicweight_Average</th>\n      <th>ionenergy_Average</th>\n      <th>el_neg_chi_Average</th>\n      <th>R_vdw_element_Average</th>\n      <th>R_cov_element_Average</th>\n      <th>zaratio_Average</th>\n      <th>density_Average</th>\n      <th>Hardness</th>\n    </tr>\n  </thead>\n  <tbody>\n    <tr>\n      <th>0</th>\n      <td>0</td>\n      <td>100.0</td>\n      <td>0.841611</td>\n      <td>10.000000</td>\n      <td>4.800000</td>\n      <td>20.612526</td>\n      <td>11.088100</td>\n      <td>2.766000</td>\n      <td>1.732000</td>\n      <td>0.860000</td>\n      <td>0.496070</td>\n      <td>0.91457</td>\n      <td>6.0</td>\n    </tr>\n    <tr>\n      <th>1</th>\n      <td>1</td>\n      <td>100.0</td>\n      <td>7.558488</td>\n      <td>10.000000</td>\n      <td>4.800000</td>\n      <td>20.298893</td>\n      <td>12.040830</td>\n      <td>2.755000</td>\n      <td>1.631000</td>\n      <td>0.910000</td>\n      <td>0.492719</td>\n      <td>0.71760</td>\n      <td>6.5</td>\n    </tr>\n    <tr>\n      <th>2</th>\n      <td>2</td>\n      <td>76.0</td>\n      <td>8.885992</td>\n      <td>15.600000</td>\n      <td>5.600000</td>\n      <td>33.739258</td>\n      <td>12.086300</td>\n      <td>2.828000</td>\n      <td>1.788000</td>\n      <td>0.864000</td>\n      <td>0.481478</td>\n      <td>1.50633</td>\n      <td>2.5</td>\n    </tr>\n    <tr>\n      <th>3</th>\n      <td>3</td>\n      <td>100.0</td>\n      <td>8.795296</td>\n      <td>10.000000</td>\n      <td>4.800000</td>\n      <td>20.213349</td>\n      <td>10.948500</td>\n      <td>2.648000</td>\n      <td>1.626000</td>\n      <td>0.936000</td>\n      <td>0.489272</td>\n      <td>0.78937</td>\n      <td>6.0</td>\n    </tr>\n    <tr>\n      <th>4</th>\n      <td>4</td>\n      <td>116.0</td>\n      <td>9.577996</td>\n      <td>11.600000</td>\n      <td>4.800000</td>\n      <td>24.988133</td>\n      <td>11.824480</td>\n      <td>2.766000</td>\n      <td>1.682000</td>\n      <td>0.896000</td>\n      <td>0.492736</td>\n      <td>1.86481</td>\n      <td>6.0</td>\n    </tr>\n    <tr>\n      <th>...</th>\n      <td>...</td>\n      <td>...</td>\n      <td>...</td>\n      <td>...</td>\n      <td>...</td>\n      <td>...</td>\n      <td>...</td>\n      <td>...</td>\n      <td>...</td>\n      <td>...</td>\n      <td>...</td>\n      <td>...</td>\n      <td>...</td>\n    </tr>\n    <tr>\n      <th>10402</th>\n      <td>10402</td>\n      <td>128.0</td>\n      <td>7.558488</td>\n      <td>12.000000</td>\n      <td>4.000000</td>\n      <td>26.385218</td>\n      <td>11.330440</td>\n      <td>2.644000</td>\n      <td>1.631000</td>\n      <td>0.892000</td>\n      <td>0.496070</td>\n      <td>1.79607</td>\n      <td>4.0</td>\n    </tr>\n    <tr>\n      <th>10403</th>\n      <td>10403</td>\n      <td>30.0</td>\n      <td>1.743160</td>\n      <td>10.000000</td>\n      <td>5.333333</td>\n      <td>20.766935</td>\n      <td>14.163933</td>\n      <td>3.090000</td>\n      <td>1.556667</td>\n      <td>0.866667</td>\n      <td>0.480390</td>\n      <td>0.81480</td>\n      <td>5.0</td>\n    </tr>\n    <tr>\n      <th>10404</th>\n      <td>10404</td>\n      <td>196.0</td>\n      <td>30.920000</td>\n      <td>24.500000</td>\n      <td>5.500000</td>\n      <td>53.490297</td>\n      <td>10.074300</td>\n      <td>2.295000</td>\n      <td>1.545000</td>\n      <td>1.120000</td>\n      <td>0.469715</td>\n      <td>2.11540</td>\n      <td>1.8</td>\n    </tr>\n    <tr>\n      <th>10405</th>\n      <td>10405</td>\n      <td>38.0</td>\n      <td>1.553160</td>\n      <td>12.666667</td>\n      <td>4.666667</td>\n      <td>26.621687</td>\n      <td>11.290033</td>\n      <td>2.743333</td>\n      <td>1.756667</td>\n      <td>0.980000</td>\n      <td>0.486507</td>\n      <td>0.77755</td>\n      <td>6.0</td>\n    </tr>\n    <tr>\n      <th>10406</th>\n      <td>10406</td>\n      <td>288.0</td>\n      <td>24.655328</td>\n      <td>11.142857</td>\n      <td>4.571429</td>\n      <td>22.536126</td>\n      <td>10.960357</td>\n      <td>2.792143</td>\n      <td>1.772857</td>\n      <td>0.940000</td>\n      <td>0.493919</td>\n      <td>0.97737</td>\n      <td>6.5</td>\n    </tr>\n  </tbody>\n</table>\n<p>10407 rows × 13 columns</p>\n</div>"
     },
     "execution_count": 2,
     "metadata": {},
     "output_type": "execute_result"
    }
   ],
   "source": [
    "train = pd.read_csv(\"train.csv\")\n",
    "train"
   ],
   "metadata": {
    "collapsed": false,
    "ExecuteTime": {
     "end_time": "2024-01-09T23:25:11.665390Z",
     "start_time": "2024-01-09T23:25:11.640091Z"
    }
   },
   "id": "a28206063912dc26",
   "execution_count": 2
  },
  {
   "cell_type": "code",
   "outputs": [],
   "source": [],
   "metadata": {
    "collapsed": false
   },
   "id": "af53b273cd72b2b4"
  }
 ],
 "metadata": {
  "kernelspec": {
   "display_name": "Python 3",
   "language": "python",
   "name": "python3"
  },
  "language_info": {
   "codemirror_mode": {
    "name": "ipython",
    "version": 2
   },
   "file_extension": ".py",
   "mimetype": "text/x-python",
   "name": "python",
   "nbconvert_exporter": "python",
   "pygments_lexer": "ipython2",
   "version": "2.7.6"
  }
 },
 "nbformat": 4,
 "nbformat_minor": 5
}
