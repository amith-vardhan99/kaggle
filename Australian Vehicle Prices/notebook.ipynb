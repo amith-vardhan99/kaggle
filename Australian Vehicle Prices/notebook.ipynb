{
 "cells": [
  {
   "cell_type": "code",
   "execution_count": 57,
   "id": "initial_id",
   "metadata": {
    "collapsed": true,
    "ExecuteTime": {
     "end_time": "2024-01-03T01:21:05.417256Z",
     "start_time": "2024-01-03T01:21:05.405917Z"
    }
   },
   "outputs": [],
   "source": [
    "import numpy as np\n",
    "import pandas as pd\n",
    "import matplotlib.pyplot as plt\n",
    "import seaborn as sns\n",
    "import warnings\n",
    "warnings.filterwarnings(\"ignore\")"
   ]
  },
  {
   "cell_type": "code",
   "outputs": [],
   "source": [
    "df = pd.read_csv(\"Australian Vehicle Prices.csv\")"
   ],
   "metadata": {
    "collapsed": false,
    "ExecuteTime": {
     "end_time": "2024-01-03T01:21:06.174809Z",
     "start_time": "2024-01-03T01:21:06.119763Z"
    }
   },
   "id": "9328e6f06e78df32",
   "execution_count": 58
  },
  {
   "cell_type": "code",
   "outputs": [
    {
     "data": {
      "text/plain": "               Brand    Year    Model               Car/Suv  \\\n0          Ssangyong  2022.0   Rexton  Sutherland Isuzu Ute   \n1                 MG  2022.0      MG3             Hatchback   \n2                BMW  2022.0     430I                 Coupe   \n3      Mercedes-Benz  2011.0     E500                 Coupe   \n4            Renault  2022.0   Arkana                   SUV   \n...              ...     ...      ...                   ...   \n16729         Toyota  2014.0  Alphard              SYC Cars   \n16730  Mercedes-Benz  2012.0  S-Class        USED Dealer ad   \n16731         Suzuki  2022.0   Vitara   Bremer Suzuki - New   \n16732  Mercedes-Benz  2016.0   GLC250                   SUV   \n16733  Mercedes-Benz  2021.0     C200                 Sedan   \n\n                                           Title UsedOrNew Transmission  \\\n0           2022 Ssangyong Rexton Ultimate (awd)      DEMO    Automatic   \n1      2022 MG MG3 Auto Excite (with Navigation)      USED    Automatic   \n2                          2022 BMW 430I M Sport      USED    Automatic   \n3               2011 Mercedes-Benz E500 Elegance      USED    Automatic   \n4                     2022 Renault Arkana Intens      USED    Automatic   \n...                                          ...       ...          ...   \n16729                        2014 Toyota Alphard      USED    Automatic   \n16730     2012 Mercedes-Benz S-Class CDI BlueTEC      USED    Automatic   \n16731                    2022 Suzuki Vitara 1.6L      DEMO    Automatic   \n16732                  2016 Mercedes-Benz GLC250      USED    Automatic   \n16733                    2021 Mercedes-Benz C200      USED    Automatic   \n\n             Engine DriveType  FuelType FuelConsumption Kilometres  \\\n0      4 cyl, 2.2 L       AWD    Diesel  8.7 L / 100 km       5595   \n1      4 cyl, 1.5 L     Front   Premium  6.7 L / 100 km         16   \n2        4 cyl, 2 L      Rear   Premium  6.6 L / 100 km       8472   \n3      8 cyl, 5.5 L      Rear   Premium   11 L / 100 km     136517   \n4      4 cyl, 1.3 L     Front  Unleaded    6 L / 100 km       1035   \n...             ...       ...       ...             ...        ...   \n16729             -     Front  Unleaded               -      66000   \n16730             -      Rear    Diesel               -     117432   \n16731  4 cyl, 1.6 L     Front  Unleaded  6.2 L / 100 km       5165   \n16732    4 cyl, 2 L       AWD   Premium  7.2 L / 100 km      85525   \n16733    4 cyl, 2 L      Rear  Unleaded    7 L / 100 km      31852   \n\n        ColourExtInt             Location CylindersinEngine    BodyType  \\\n0      White / Black       Caringbah, NSW             4 cyl         SUV   \n1      Black / Black       Brookvale, NSW             4 cyl   Hatchback   \n2       Grey / White        Sylvania, NSW             4 cyl       Coupe   \n3      White / Brown    Mount Druitt, NSW             8 cyl       Coupe   \n4       Grey / Black     Castle Hill, NSW             4 cyl         SUV   \n...              ...                  ...               ...         ...   \n16729       Grey / -         Rocklea, QLD                 -  Commercial   \n16730     Silver / -  Port Melbourne, VIC                 -         NaN   \n16731     Yellow / -         Dinmore, QLD             4 cyl         SUV   \n16732   Grey / Black          Albion, QLD             4 cyl         SUV   \n16733       Gold / -          Yatala, QLD             4 cyl       Sedan   \n\n          Doors     Seats   Price  \n0       4 Doors   7 Seats   51990  \n1       5 Doors   5 Seats   19990  \n2       2 Doors   4 Seats  108988  \n3       2 Doors   4 Seats   32990  \n4       4 Doors   5 Seats   34990  \n...         ...       ...     ...  \n16729   7 Seats       NaN   29500  \n16730       NaN       NaN   39888  \n16731   4 Doors   5 Seats   35280  \n16732   4 Doors   5 Seats   41888  \n16733   4 Doors   5 Seats   65888  \n\n[16734 rows x 19 columns]",
      "text/html": "<div>\n<style scoped>\n    .dataframe tbody tr th:only-of-type {\n        vertical-align: middle;\n    }\n\n    .dataframe tbody tr th {\n        vertical-align: top;\n    }\n\n    .dataframe thead th {\n        text-align: right;\n    }\n</style>\n<table border=\"1\" class=\"dataframe\">\n  <thead>\n    <tr style=\"text-align: right;\">\n      <th></th>\n      <th>Brand</th>\n      <th>Year</th>\n      <th>Model</th>\n      <th>Car/Suv</th>\n      <th>Title</th>\n      <th>UsedOrNew</th>\n      <th>Transmission</th>\n      <th>Engine</th>\n      <th>DriveType</th>\n      <th>FuelType</th>\n      <th>FuelConsumption</th>\n      <th>Kilometres</th>\n      <th>ColourExtInt</th>\n      <th>Location</th>\n      <th>CylindersinEngine</th>\n      <th>BodyType</th>\n      <th>Doors</th>\n      <th>Seats</th>\n      <th>Price</th>\n    </tr>\n  </thead>\n  <tbody>\n    <tr>\n      <th>0</th>\n      <td>Ssangyong</td>\n      <td>2022.0</td>\n      <td>Rexton</td>\n      <td>Sutherland Isuzu Ute</td>\n      <td>2022 Ssangyong Rexton Ultimate (awd)</td>\n      <td>DEMO</td>\n      <td>Automatic</td>\n      <td>4 cyl, 2.2 L</td>\n      <td>AWD</td>\n      <td>Diesel</td>\n      <td>8.7 L / 100 km</td>\n      <td>5595</td>\n      <td>White / Black</td>\n      <td>Caringbah, NSW</td>\n      <td>4 cyl</td>\n      <td>SUV</td>\n      <td>4 Doors</td>\n      <td>7 Seats</td>\n      <td>51990</td>\n    </tr>\n    <tr>\n      <th>1</th>\n      <td>MG</td>\n      <td>2022.0</td>\n      <td>MG3</td>\n      <td>Hatchback</td>\n      <td>2022 MG MG3 Auto Excite (with Navigation)</td>\n      <td>USED</td>\n      <td>Automatic</td>\n      <td>4 cyl, 1.5 L</td>\n      <td>Front</td>\n      <td>Premium</td>\n      <td>6.7 L / 100 km</td>\n      <td>16</td>\n      <td>Black / Black</td>\n      <td>Brookvale, NSW</td>\n      <td>4 cyl</td>\n      <td>Hatchback</td>\n      <td>5 Doors</td>\n      <td>5 Seats</td>\n      <td>19990</td>\n    </tr>\n    <tr>\n      <th>2</th>\n      <td>BMW</td>\n      <td>2022.0</td>\n      <td>430I</td>\n      <td>Coupe</td>\n      <td>2022 BMW 430I M Sport</td>\n      <td>USED</td>\n      <td>Automatic</td>\n      <td>4 cyl, 2 L</td>\n      <td>Rear</td>\n      <td>Premium</td>\n      <td>6.6 L / 100 km</td>\n      <td>8472</td>\n      <td>Grey / White</td>\n      <td>Sylvania, NSW</td>\n      <td>4 cyl</td>\n      <td>Coupe</td>\n      <td>2 Doors</td>\n      <td>4 Seats</td>\n      <td>108988</td>\n    </tr>\n    <tr>\n      <th>3</th>\n      <td>Mercedes-Benz</td>\n      <td>2011.0</td>\n      <td>E500</td>\n      <td>Coupe</td>\n      <td>2011 Mercedes-Benz E500 Elegance</td>\n      <td>USED</td>\n      <td>Automatic</td>\n      <td>8 cyl, 5.5 L</td>\n      <td>Rear</td>\n      <td>Premium</td>\n      <td>11 L / 100 km</td>\n      <td>136517</td>\n      <td>White / Brown</td>\n      <td>Mount Druitt, NSW</td>\n      <td>8 cyl</td>\n      <td>Coupe</td>\n      <td>2 Doors</td>\n      <td>4 Seats</td>\n      <td>32990</td>\n    </tr>\n    <tr>\n      <th>4</th>\n      <td>Renault</td>\n      <td>2022.0</td>\n      <td>Arkana</td>\n      <td>SUV</td>\n      <td>2022 Renault Arkana Intens</td>\n      <td>USED</td>\n      <td>Automatic</td>\n      <td>4 cyl, 1.3 L</td>\n      <td>Front</td>\n      <td>Unleaded</td>\n      <td>6 L / 100 km</td>\n      <td>1035</td>\n      <td>Grey / Black</td>\n      <td>Castle Hill, NSW</td>\n      <td>4 cyl</td>\n      <td>SUV</td>\n      <td>4 Doors</td>\n      <td>5 Seats</td>\n      <td>34990</td>\n    </tr>\n    <tr>\n      <th>...</th>\n      <td>...</td>\n      <td>...</td>\n      <td>...</td>\n      <td>...</td>\n      <td>...</td>\n      <td>...</td>\n      <td>...</td>\n      <td>...</td>\n      <td>...</td>\n      <td>...</td>\n      <td>...</td>\n      <td>...</td>\n      <td>...</td>\n      <td>...</td>\n      <td>...</td>\n      <td>...</td>\n      <td>...</td>\n      <td>...</td>\n      <td>...</td>\n    </tr>\n    <tr>\n      <th>16729</th>\n      <td>Toyota</td>\n      <td>2014.0</td>\n      <td>Alphard</td>\n      <td>SYC Cars</td>\n      <td>2014 Toyota Alphard</td>\n      <td>USED</td>\n      <td>Automatic</td>\n      <td>-</td>\n      <td>Front</td>\n      <td>Unleaded</td>\n      <td>-</td>\n      <td>66000</td>\n      <td>Grey / -</td>\n      <td>Rocklea, QLD</td>\n      <td>-</td>\n      <td>Commercial</td>\n      <td>7 Seats</td>\n      <td>NaN</td>\n      <td>29500</td>\n    </tr>\n    <tr>\n      <th>16730</th>\n      <td>Mercedes-Benz</td>\n      <td>2012.0</td>\n      <td>S-Class</td>\n      <td>USED Dealer ad</td>\n      <td>2012 Mercedes-Benz S-Class CDI BlueTEC</td>\n      <td>USED</td>\n      <td>Automatic</td>\n      <td>-</td>\n      <td>Rear</td>\n      <td>Diesel</td>\n      <td>-</td>\n      <td>117432</td>\n      <td>Silver / -</td>\n      <td>Port Melbourne, VIC</td>\n      <td>-</td>\n      <td>NaN</td>\n      <td>NaN</td>\n      <td>NaN</td>\n      <td>39888</td>\n    </tr>\n    <tr>\n      <th>16731</th>\n      <td>Suzuki</td>\n      <td>2022.0</td>\n      <td>Vitara</td>\n      <td>Bremer Suzuki - New</td>\n      <td>2022 Suzuki Vitara 1.6L</td>\n      <td>DEMO</td>\n      <td>Automatic</td>\n      <td>4 cyl, 1.6 L</td>\n      <td>Front</td>\n      <td>Unleaded</td>\n      <td>6.2 L / 100 km</td>\n      <td>5165</td>\n      <td>Yellow / -</td>\n      <td>Dinmore, QLD</td>\n      <td>4 cyl</td>\n      <td>SUV</td>\n      <td>4 Doors</td>\n      <td>5 Seats</td>\n      <td>35280</td>\n    </tr>\n    <tr>\n      <th>16732</th>\n      <td>Mercedes-Benz</td>\n      <td>2016.0</td>\n      <td>GLC250</td>\n      <td>SUV</td>\n      <td>2016 Mercedes-Benz GLC250</td>\n      <td>USED</td>\n      <td>Automatic</td>\n      <td>4 cyl, 2 L</td>\n      <td>AWD</td>\n      <td>Premium</td>\n      <td>7.2 L / 100 km</td>\n      <td>85525</td>\n      <td>Grey / Black</td>\n      <td>Albion, QLD</td>\n      <td>4 cyl</td>\n      <td>SUV</td>\n      <td>4 Doors</td>\n      <td>5 Seats</td>\n      <td>41888</td>\n    </tr>\n    <tr>\n      <th>16733</th>\n      <td>Mercedes-Benz</td>\n      <td>2021.0</td>\n      <td>C200</td>\n      <td>Sedan</td>\n      <td>2021 Mercedes-Benz C200</td>\n      <td>USED</td>\n      <td>Automatic</td>\n      <td>4 cyl, 2 L</td>\n      <td>Rear</td>\n      <td>Unleaded</td>\n      <td>7 L / 100 km</td>\n      <td>31852</td>\n      <td>Gold / -</td>\n      <td>Yatala, QLD</td>\n      <td>4 cyl</td>\n      <td>Sedan</td>\n      <td>4 Doors</td>\n      <td>5 Seats</td>\n      <td>65888</td>\n    </tr>\n  </tbody>\n</table>\n<p>16734 rows × 19 columns</p>\n</div>"
     },
     "execution_count": 59,
     "metadata": {},
     "output_type": "execute_result"
    }
   ],
   "source": [
    "df"
   ],
   "metadata": {
    "collapsed": false,
    "ExecuteTime": {
     "end_time": "2024-01-03T01:21:06.712795Z",
     "start_time": "2024-01-03T01:21:06.673533Z"
    }
   },
   "id": "e4f1b838fdde2d19",
   "execution_count": 59
  },
  {
   "cell_type": "markdown",
   "source": [
    "Brand, Year, Model, Title, UsedOrNew, Transmission, Engine, DriveType, FuelConsumption, Kilometres, CylindersinEngine -> Row is same -> Remove null values"
   ],
   "metadata": {
    "collapsed": false
   },
   "id": "b2274e649af7c444"
  },
  {
   "cell_type": "code",
   "outputs": [
    {
     "data": {
      "text/plain": "2391"
     },
     "execution_count": 60,
     "metadata": {},
     "output_type": "execute_result"
    }
   ],
   "source": [
    "null_index = df[df[\"Brand\"].isna()].index[0]\n",
    "null_index"
   ],
   "metadata": {
    "collapsed": false,
    "ExecuteTime": {
     "end_time": "2024-01-03T01:21:07.625067Z",
     "start_time": "2024-01-03T01:21:07.619276Z"
    }
   },
   "id": "23e92a4d9e2768b8",
   "execution_count": 60
  },
  {
   "cell_type": "code",
   "outputs": [
    {
     "data": {
      "text/plain": "               Brand    Year    Model               Car/Suv  \\\n0          Ssangyong  2022.0   Rexton  Sutherland Isuzu Ute   \n1                 MG  2022.0      MG3             Hatchback   \n2                BMW  2022.0     430I                 Coupe   \n3      Mercedes-Benz  2011.0     E500                 Coupe   \n4            Renault  2022.0   Arkana                   SUV   \n...              ...     ...      ...                   ...   \n16729         Toyota  2014.0  Alphard              SYC Cars   \n16730  Mercedes-Benz  2012.0  S-Class        USED Dealer ad   \n16731         Suzuki  2022.0   Vitara   Bremer Suzuki - New   \n16732  Mercedes-Benz  2016.0   GLC250                   SUV   \n16733  Mercedes-Benz  2021.0     C200                 Sedan   \n\n                                           Title UsedOrNew Transmission  \\\n0           2022 Ssangyong Rexton Ultimate (awd)      DEMO    Automatic   \n1      2022 MG MG3 Auto Excite (with Navigation)      USED    Automatic   \n2                          2022 BMW 430I M Sport      USED    Automatic   \n3               2011 Mercedes-Benz E500 Elegance      USED    Automatic   \n4                     2022 Renault Arkana Intens      USED    Automatic   \n...                                          ...       ...          ...   \n16729                        2014 Toyota Alphard      USED    Automatic   \n16730     2012 Mercedes-Benz S-Class CDI BlueTEC      USED    Automatic   \n16731                    2022 Suzuki Vitara 1.6L      DEMO    Automatic   \n16732                  2016 Mercedes-Benz GLC250      USED    Automatic   \n16733                    2021 Mercedes-Benz C200      USED    Automatic   \n\n             Engine DriveType  FuelType FuelConsumption Kilometres  \\\n0      4 cyl, 2.2 L       AWD    Diesel  8.7 L / 100 km       5595   \n1      4 cyl, 1.5 L     Front   Premium  6.7 L / 100 km         16   \n2        4 cyl, 2 L      Rear   Premium  6.6 L / 100 km       8472   \n3      8 cyl, 5.5 L      Rear   Premium   11 L / 100 km     136517   \n4      4 cyl, 1.3 L     Front  Unleaded    6 L / 100 km       1035   \n...             ...       ...       ...             ...        ...   \n16729             -     Front  Unleaded               -      66000   \n16730             -      Rear    Diesel               -     117432   \n16731  4 cyl, 1.6 L     Front  Unleaded  6.2 L / 100 km       5165   \n16732    4 cyl, 2 L       AWD   Premium  7.2 L / 100 km      85525   \n16733    4 cyl, 2 L      Rear  Unleaded    7 L / 100 km      31852   \n\n        ColourExtInt             Location CylindersinEngine    BodyType  \\\n0      White / Black       Caringbah, NSW             4 cyl         SUV   \n1      Black / Black       Brookvale, NSW             4 cyl   Hatchback   \n2       Grey / White        Sylvania, NSW             4 cyl       Coupe   \n3      White / Brown    Mount Druitt, NSW             8 cyl       Coupe   \n4       Grey / Black     Castle Hill, NSW             4 cyl         SUV   \n...              ...                  ...               ...         ...   \n16729       Grey / -         Rocklea, QLD                 -  Commercial   \n16730     Silver / -  Port Melbourne, VIC                 -         NaN   \n16731     Yellow / -         Dinmore, QLD             4 cyl         SUV   \n16732   Grey / Black          Albion, QLD             4 cyl         SUV   \n16733       Gold / -          Yatala, QLD             4 cyl       Sedan   \n\n          Doors     Seats   Price  \n0       4 Doors   7 Seats   51990  \n1       5 Doors   5 Seats   19990  \n2       2 Doors   4 Seats  108988  \n3       2 Doors   4 Seats   32990  \n4       4 Doors   5 Seats   34990  \n...         ...       ...     ...  \n16729   7 Seats       NaN   29500  \n16730       NaN       NaN   39888  \n16731   4 Doors   5 Seats   35280  \n16732   4 Doors   5 Seats   41888  \n16733   4 Doors   5 Seats   65888  \n\n[16733 rows x 19 columns]",
      "text/html": "<div>\n<style scoped>\n    .dataframe tbody tr th:only-of-type {\n        vertical-align: middle;\n    }\n\n    .dataframe tbody tr th {\n        vertical-align: top;\n    }\n\n    .dataframe thead th {\n        text-align: right;\n    }\n</style>\n<table border=\"1\" class=\"dataframe\">\n  <thead>\n    <tr style=\"text-align: right;\">\n      <th></th>\n      <th>Brand</th>\n      <th>Year</th>\n      <th>Model</th>\n      <th>Car/Suv</th>\n      <th>Title</th>\n      <th>UsedOrNew</th>\n      <th>Transmission</th>\n      <th>Engine</th>\n      <th>DriveType</th>\n      <th>FuelType</th>\n      <th>FuelConsumption</th>\n      <th>Kilometres</th>\n      <th>ColourExtInt</th>\n      <th>Location</th>\n      <th>CylindersinEngine</th>\n      <th>BodyType</th>\n      <th>Doors</th>\n      <th>Seats</th>\n      <th>Price</th>\n    </tr>\n  </thead>\n  <tbody>\n    <tr>\n      <th>0</th>\n      <td>Ssangyong</td>\n      <td>2022.0</td>\n      <td>Rexton</td>\n      <td>Sutherland Isuzu Ute</td>\n      <td>2022 Ssangyong Rexton Ultimate (awd)</td>\n      <td>DEMO</td>\n      <td>Automatic</td>\n      <td>4 cyl, 2.2 L</td>\n      <td>AWD</td>\n      <td>Diesel</td>\n      <td>8.7 L / 100 km</td>\n      <td>5595</td>\n      <td>White / Black</td>\n      <td>Caringbah, NSW</td>\n      <td>4 cyl</td>\n      <td>SUV</td>\n      <td>4 Doors</td>\n      <td>7 Seats</td>\n      <td>51990</td>\n    </tr>\n    <tr>\n      <th>1</th>\n      <td>MG</td>\n      <td>2022.0</td>\n      <td>MG3</td>\n      <td>Hatchback</td>\n      <td>2022 MG MG3 Auto Excite (with Navigation)</td>\n      <td>USED</td>\n      <td>Automatic</td>\n      <td>4 cyl, 1.5 L</td>\n      <td>Front</td>\n      <td>Premium</td>\n      <td>6.7 L / 100 km</td>\n      <td>16</td>\n      <td>Black / Black</td>\n      <td>Brookvale, NSW</td>\n      <td>4 cyl</td>\n      <td>Hatchback</td>\n      <td>5 Doors</td>\n      <td>5 Seats</td>\n      <td>19990</td>\n    </tr>\n    <tr>\n      <th>2</th>\n      <td>BMW</td>\n      <td>2022.0</td>\n      <td>430I</td>\n      <td>Coupe</td>\n      <td>2022 BMW 430I M Sport</td>\n      <td>USED</td>\n      <td>Automatic</td>\n      <td>4 cyl, 2 L</td>\n      <td>Rear</td>\n      <td>Premium</td>\n      <td>6.6 L / 100 km</td>\n      <td>8472</td>\n      <td>Grey / White</td>\n      <td>Sylvania, NSW</td>\n      <td>4 cyl</td>\n      <td>Coupe</td>\n      <td>2 Doors</td>\n      <td>4 Seats</td>\n      <td>108988</td>\n    </tr>\n    <tr>\n      <th>3</th>\n      <td>Mercedes-Benz</td>\n      <td>2011.0</td>\n      <td>E500</td>\n      <td>Coupe</td>\n      <td>2011 Mercedes-Benz E500 Elegance</td>\n      <td>USED</td>\n      <td>Automatic</td>\n      <td>8 cyl, 5.5 L</td>\n      <td>Rear</td>\n      <td>Premium</td>\n      <td>11 L / 100 km</td>\n      <td>136517</td>\n      <td>White / Brown</td>\n      <td>Mount Druitt, NSW</td>\n      <td>8 cyl</td>\n      <td>Coupe</td>\n      <td>2 Doors</td>\n      <td>4 Seats</td>\n      <td>32990</td>\n    </tr>\n    <tr>\n      <th>4</th>\n      <td>Renault</td>\n      <td>2022.0</td>\n      <td>Arkana</td>\n      <td>SUV</td>\n      <td>2022 Renault Arkana Intens</td>\n      <td>USED</td>\n      <td>Automatic</td>\n      <td>4 cyl, 1.3 L</td>\n      <td>Front</td>\n      <td>Unleaded</td>\n      <td>6 L / 100 km</td>\n      <td>1035</td>\n      <td>Grey / Black</td>\n      <td>Castle Hill, NSW</td>\n      <td>4 cyl</td>\n      <td>SUV</td>\n      <td>4 Doors</td>\n      <td>5 Seats</td>\n      <td>34990</td>\n    </tr>\n    <tr>\n      <th>...</th>\n      <td>...</td>\n      <td>...</td>\n      <td>...</td>\n      <td>...</td>\n      <td>...</td>\n      <td>...</td>\n      <td>...</td>\n      <td>...</td>\n      <td>...</td>\n      <td>...</td>\n      <td>...</td>\n      <td>...</td>\n      <td>...</td>\n      <td>...</td>\n      <td>...</td>\n      <td>...</td>\n      <td>...</td>\n      <td>...</td>\n      <td>...</td>\n    </tr>\n    <tr>\n      <th>16729</th>\n      <td>Toyota</td>\n      <td>2014.0</td>\n      <td>Alphard</td>\n      <td>SYC Cars</td>\n      <td>2014 Toyota Alphard</td>\n      <td>USED</td>\n      <td>Automatic</td>\n      <td>-</td>\n      <td>Front</td>\n      <td>Unleaded</td>\n      <td>-</td>\n      <td>66000</td>\n      <td>Grey / -</td>\n      <td>Rocklea, QLD</td>\n      <td>-</td>\n      <td>Commercial</td>\n      <td>7 Seats</td>\n      <td>NaN</td>\n      <td>29500</td>\n    </tr>\n    <tr>\n      <th>16730</th>\n      <td>Mercedes-Benz</td>\n      <td>2012.0</td>\n      <td>S-Class</td>\n      <td>USED Dealer ad</td>\n      <td>2012 Mercedes-Benz S-Class CDI BlueTEC</td>\n      <td>USED</td>\n      <td>Automatic</td>\n      <td>-</td>\n      <td>Rear</td>\n      <td>Diesel</td>\n      <td>-</td>\n      <td>117432</td>\n      <td>Silver / -</td>\n      <td>Port Melbourne, VIC</td>\n      <td>-</td>\n      <td>NaN</td>\n      <td>NaN</td>\n      <td>NaN</td>\n      <td>39888</td>\n    </tr>\n    <tr>\n      <th>16731</th>\n      <td>Suzuki</td>\n      <td>2022.0</td>\n      <td>Vitara</td>\n      <td>Bremer Suzuki - New</td>\n      <td>2022 Suzuki Vitara 1.6L</td>\n      <td>DEMO</td>\n      <td>Automatic</td>\n      <td>4 cyl, 1.6 L</td>\n      <td>Front</td>\n      <td>Unleaded</td>\n      <td>6.2 L / 100 km</td>\n      <td>5165</td>\n      <td>Yellow / -</td>\n      <td>Dinmore, QLD</td>\n      <td>4 cyl</td>\n      <td>SUV</td>\n      <td>4 Doors</td>\n      <td>5 Seats</td>\n      <td>35280</td>\n    </tr>\n    <tr>\n      <th>16732</th>\n      <td>Mercedes-Benz</td>\n      <td>2016.0</td>\n      <td>GLC250</td>\n      <td>SUV</td>\n      <td>2016 Mercedes-Benz GLC250</td>\n      <td>USED</td>\n      <td>Automatic</td>\n      <td>4 cyl, 2 L</td>\n      <td>AWD</td>\n      <td>Premium</td>\n      <td>7.2 L / 100 km</td>\n      <td>85525</td>\n      <td>Grey / Black</td>\n      <td>Albion, QLD</td>\n      <td>4 cyl</td>\n      <td>SUV</td>\n      <td>4 Doors</td>\n      <td>5 Seats</td>\n      <td>41888</td>\n    </tr>\n    <tr>\n      <th>16733</th>\n      <td>Mercedes-Benz</td>\n      <td>2021.0</td>\n      <td>C200</td>\n      <td>Sedan</td>\n      <td>2021 Mercedes-Benz C200</td>\n      <td>USED</td>\n      <td>Automatic</td>\n      <td>4 cyl, 2 L</td>\n      <td>Rear</td>\n      <td>Unleaded</td>\n      <td>7 L / 100 km</td>\n      <td>31852</td>\n      <td>Gold / -</td>\n      <td>Yatala, QLD</td>\n      <td>4 cyl</td>\n      <td>Sedan</td>\n      <td>4 Doors</td>\n      <td>5 Seats</td>\n      <td>65888</td>\n    </tr>\n  </tbody>\n</table>\n<p>16733 rows × 19 columns</p>\n</div>"
     },
     "execution_count": 61,
     "metadata": {},
     "output_type": "execute_result"
    }
   ],
   "source": [
    "df_1 = df.drop(index=null_index)\n",
    "df_1"
   ],
   "metadata": {
    "collapsed": false,
    "ExecuteTime": {
     "end_time": "2024-01-03T01:21:08.087033Z",
     "start_time": "2024-01-03T01:21:08.042458Z"
    }
   },
   "id": "c09dbc9e626194c7",
   "execution_count": 61
  },
  {
   "cell_type": "code",
   "outputs": [
    {
     "data": {
      "text/plain": "               Brand    Year    Model UsedOrNew Transmission        Engine  \\\n0          Ssangyong  2022.0   Rexton      DEMO    Automatic  4 cyl, 2.2 L   \n1                 MG  2022.0      MG3      USED    Automatic  4 cyl, 1.5 L   \n2                BMW  2022.0     430I      USED    Automatic    4 cyl, 2 L   \n3      Mercedes-Benz  2011.0     E500      USED    Automatic  8 cyl, 5.5 L   \n4            Renault  2022.0   Arkana      USED    Automatic  4 cyl, 1.3 L   \n...              ...     ...      ...       ...          ...           ...   \n16729         Toyota  2014.0  Alphard      USED    Automatic             -   \n16730  Mercedes-Benz  2012.0  S-Class      USED    Automatic             -   \n16731         Suzuki  2022.0   Vitara      DEMO    Automatic  4 cyl, 1.6 L   \n16732  Mercedes-Benz  2016.0   GLC250      USED    Automatic    4 cyl, 2 L   \n16733  Mercedes-Benz  2021.0     C200      USED    Automatic    4 cyl, 2 L   \n\n      DriveType  FuelType FuelConsumption Kilometres   ColourExtInt  \\\n0           AWD    Diesel  8.7 L / 100 km       5595  White / Black   \n1         Front   Premium  6.7 L / 100 km         16  Black / Black   \n2          Rear   Premium  6.6 L / 100 km       8472   Grey / White   \n3          Rear   Premium   11 L / 100 km     136517  White / Brown   \n4         Front  Unleaded    6 L / 100 km       1035   Grey / Black   \n...         ...       ...             ...        ...            ...   \n16729     Front  Unleaded               -      66000       Grey / -   \n16730      Rear    Diesel               -     117432     Silver / -   \n16731     Front  Unleaded  6.2 L / 100 km       5165     Yellow / -   \n16732       AWD   Premium  7.2 L / 100 km      85525   Grey / Black   \n16733      Rear  Unleaded    7 L / 100 km      31852       Gold / -   \n\n                  Location CylindersinEngine    BodyType     Doors     Seats  \\\n0           Caringbah, NSW             4 cyl         SUV   4 Doors   7 Seats   \n1           Brookvale, NSW             4 cyl   Hatchback   5 Doors   5 Seats   \n2            Sylvania, NSW             4 cyl       Coupe   2 Doors   4 Seats   \n3        Mount Druitt, NSW             8 cyl       Coupe   2 Doors   4 Seats   \n4         Castle Hill, NSW             4 cyl         SUV   4 Doors   5 Seats   \n...                    ...               ...         ...       ...       ...   \n16729         Rocklea, QLD                 -  Commercial   7 Seats       NaN   \n16730  Port Melbourne, VIC                 -         NaN       NaN       NaN   \n16731         Dinmore, QLD             4 cyl         SUV   4 Doors   5 Seats   \n16732          Albion, QLD             4 cyl         SUV   4 Doors   5 Seats   \n16733          Yatala, QLD             4 cyl       Sedan   4 Doors   5 Seats   \n\n        Price  \n0       51990  \n1       19990  \n2      108988  \n3       32990  \n4       34990  \n...       ...  \n16729   29500  \n16730   39888  \n16731   35280  \n16732   41888  \n16733   65888  \n\n[16733 rows x 17 columns]",
      "text/html": "<div>\n<style scoped>\n    .dataframe tbody tr th:only-of-type {\n        vertical-align: middle;\n    }\n\n    .dataframe tbody tr th {\n        vertical-align: top;\n    }\n\n    .dataframe thead th {\n        text-align: right;\n    }\n</style>\n<table border=\"1\" class=\"dataframe\">\n  <thead>\n    <tr style=\"text-align: right;\">\n      <th></th>\n      <th>Brand</th>\n      <th>Year</th>\n      <th>Model</th>\n      <th>UsedOrNew</th>\n      <th>Transmission</th>\n      <th>Engine</th>\n      <th>DriveType</th>\n      <th>FuelType</th>\n      <th>FuelConsumption</th>\n      <th>Kilometres</th>\n      <th>ColourExtInt</th>\n      <th>Location</th>\n      <th>CylindersinEngine</th>\n      <th>BodyType</th>\n      <th>Doors</th>\n      <th>Seats</th>\n      <th>Price</th>\n    </tr>\n  </thead>\n  <tbody>\n    <tr>\n      <th>0</th>\n      <td>Ssangyong</td>\n      <td>2022.0</td>\n      <td>Rexton</td>\n      <td>DEMO</td>\n      <td>Automatic</td>\n      <td>4 cyl, 2.2 L</td>\n      <td>AWD</td>\n      <td>Diesel</td>\n      <td>8.7 L / 100 km</td>\n      <td>5595</td>\n      <td>White / Black</td>\n      <td>Caringbah, NSW</td>\n      <td>4 cyl</td>\n      <td>SUV</td>\n      <td>4 Doors</td>\n      <td>7 Seats</td>\n      <td>51990</td>\n    </tr>\n    <tr>\n      <th>1</th>\n      <td>MG</td>\n      <td>2022.0</td>\n      <td>MG3</td>\n      <td>USED</td>\n      <td>Automatic</td>\n      <td>4 cyl, 1.5 L</td>\n      <td>Front</td>\n      <td>Premium</td>\n      <td>6.7 L / 100 km</td>\n      <td>16</td>\n      <td>Black / Black</td>\n      <td>Brookvale, NSW</td>\n      <td>4 cyl</td>\n      <td>Hatchback</td>\n      <td>5 Doors</td>\n      <td>5 Seats</td>\n      <td>19990</td>\n    </tr>\n    <tr>\n      <th>2</th>\n      <td>BMW</td>\n      <td>2022.0</td>\n      <td>430I</td>\n      <td>USED</td>\n      <td>Automatic</td>\n      <td>4 cyl, 2 L</td>\n      <td>Rear</td>\n      <td>Premium</td>\n      <td>6.6 L / 100 km</td>\n      <td>8472</td>\n      <td>Grey / White</td>\n      <td>Sylvania, NSW</td>\n      <td>4 cyl</td>\n      <td>Coupe</td>\n      <td>2 Doors</td>\n      <td>4 Seats</td>\n      <td>108988</td>\n    </tr>\n    <tr>\n      <th>3</th>\n      <td>Mercedes-Benz</td>\n      <td>2011.0</td>\n      <td>E500</td>\n      <td>USED</td>\n      <td>Automatic</td>\n      <td>8 cyl, 5.5 L</td>\n      <td>Rear</td>\n      <td>Premium</td>\n      <td>11 L / 100 km</td>\n      <td>136517</td>\n      <td>White / Brown</td>\n      <td>Mount Druitt, NSW</td>\n      <td>8 cyl</td>\n      <td>Coupe</td>\n      <td>2 Doors</td>\n      <td>4 Seats</td>\n      <td>32990</td>\n    </tr>\n    <tr>\n      <th>4</th>\n      <td>Renault</td>\n      <td>2022.0</td>\n      <td>Arkana</td>\n      <td>USED</td>\n      <td>Automatic</td>\n      <td>4 cyl, 1.3 L</td>\n      <td>Front</td>\n      <td>Unleaded</td>\n      <td>6 L / 100 km</td>\n      <td>1035</td>\n      <td>Grey / Black</td>\n      <td>Castle Hill, NSW</td>\n      <td>4 cyl</td>\n      <td>SUV</td>\n      <td>4 Doors</td>\n      <td>5 Seats</td>\n      <td>34990</td>\n    </tr>\n    <tr>\n      <th>...</th>\n      <td>...</td>\n      <td>...</td>\n      <td>...</td>\n      <td>...</td>\n      <td>...</td>\n      <td>...</td>\n      <td>...</td>\n      <td>...</td>\n      <td>...</td>\n      <td>...</td>\n      <td>...</td>\n      <td>...</td>\n      <td>...</td>\n      <td>...</td>\n      <td>...</td>\n      <td>...</td>\n      <td>...</td>\n    </tr>\n    <tr>\n      <th>16729</th>\n      <td>Toyota</td>\n      <td>2014.0</td>\n      <td>Alphard</td>\n      <td>USED</td>\n      <td>Automatic</td>\n      <td>-</td>\n      <td>Front</td>\n      <td>Unleaded</td>\n      <td>-</td>\n      <td>66000</td>\n      <td>Grey / -</td>\n      <td>Rocklea, QLD</td>\n      <td>-</td>\n      <td>Commercial</td>\n      <td>7 Seats</td>\n      <td>NaN</td>\n      <td>29500</td>\n    </tr>\n    <tr>\n      <th>16730</th>\n      <td>Mercedes-Benz</td>\n      <td>2012.0</td>\n      <td>S-Class</td>\n      <td>USED</td>\n      <td>Automatic</td>\n      <td>-</td>\n      <td>Rear</td>\n      <td>Diesel</td>\n      <td>-</td>\n      <td>117432</td>\n      <td>Silver / -</td>\n      <td>Port Melbourne, VIC</td>\n      <td>-</td>\n      <td>NaN</td>\n      <td>NaN</td>\n      <td>NaN</td>\n      <td>39888</td>\n    </tr>\n    <tr>\n      <th>16731</th>\n      <td>Suzuki</td>\n      <td>2022.0</td>\n      <td>Vitara</td>\n      <td>DEMO</td>\n      <td>Automatic</td>\n      <td>4 cyl, 1.6 L</td>\n      <td>Front</td>\n      <td>Unleaded</td>\n      <td>6.2 L / 100 km</td>\n      <td>5165</td>\n      <td>Yellow / -</td>\n      <td>Dinmore, QLD</td>\n      <td>4 cyl</td>\n      <td>SUV</td>\n      <td>4 Doors</td>\n      <td>5 Seats</td>\n      <td>35280</td>\n    </tr>\n    <tr>\n      <th>16732</th>\n      <td>Mercedes-Benz</td>\n      <td>2016.0</td>\n      <td>GLC250</td>\n      <td>USED</td>\n      <td>Automatic</td>\n      <td>4 cyl, 2 L</td>\n      <td>AWD</td>\n      <td>Premium</td>\n      <td>7.2 L / 100 km</td>\n      <td>85525</td>\n      <td>Grey / Black</td>\n      <td>Albion, QLD</td>\n      <td>4 cyl</td>\n      <td>SUV</td>\n      <td>4 Doors</td>\n      <td>5 Seats</td>\n      <td>41888</td>\n    </tr>\n    <tr>\n      <th>16733</th>\n      <td>Mercedes-Benz</td>\n      <td>2021.0</td>\n      <td>C200</td>\n      <td>USED</td>\n      <td>Automatic</td>\n      <td>4 cyl, 2 L</td>\n      <td>Rear</td>\n      <td>Unleaded</td>\n      <td>7 L / 100 km</td>\n      <td>31852</td>\n      <td>Gold / -</td>\n      <td>Yatala, QLD</td>\n      <td>4 cyl</td>\n      <td>Sedan</td>\n      <td>4 Doors</td>\n      <td>5 Seats</td>\n      <td>65888</td>\n    </tr>\n  </tbody>\n</table>\n<p>16733 rows × 17 columns</p>\n</div>"
     },
     "execution_count": 62,
     "metadata": {},
     "output_type": "execute_result"
    }
   ],
   "source": [
    "df_2 = df_1.drop(columns=[\"Car/Suv\",\"Title\"])\n",
    "df_2"
   ],
   "metadata": {
    "collapsed": false,
    "ExecuteTime": {
     "end_time": "2024-01-03T01:21:08.664607Z",
     "start_time": "2024-01-03T01:21:08.641934Z"
    }
   },
   "id": "ad2674b1cee84439",
   "execution_count": 62
  },
  {
   "cell_type": "code",
   "outputs": [],
   "source": [
    "for i in df_2.columns:\n",
    "    df_2[i][df_2[i]==\"-\"] = np.nan"
   ],
   "metadata": {
    "collapsed": false,
    "ExecuteTime": {
     "end_time": "2024-01-03T01:21:09.348928Z",
     "start_time": "2024-01-03T01:21:09.332330Z"
    }
   },
   "id": "f44b03292fb565a6",
   "execution_count": 63
  },
  {
   "cell_type": "code",
   "outputs": [],
   "source": [
    "def retrieve_only_litres(x):\n",
    "    x = str(x)\n",
    "    if \"cyl\" in x and \"L\" in x:\n",
    "        p = x.split(\",\")\n",
    "        s = p[1].replace(\"L\",\"\").strip()\n",
    "    elif \"cyl\" in x:\n",
    "        s = np.nan\n",
    "    elif \"L\" in x:\n",
    "        s = x.replace(\"L\",\"\").strip()\n",
    "    else:\n",
    "        s = np.nan\n",
    "    return s"
   ],
   "metadata": {
    "collapsed": false,
    "ExecuteTime": {
     "end_time": "2024-01-03T01:21:09.870678Z",
     "start_time": "2024-01-03T01:21:09.866780Z"
    }
   },
   "id": "f4e49d26ba27bce2",
   "execution_count": 64
  },
  {
   "cell_type": "code",
   "outputs": [],
   "source": [
    "def convert_to_km_l(x):\n",
    "    x = str(x)\n",
    "    p = x.split(\"/\")\n",
    "    litres = float(p[0].replace(\"L\",\"\").strip())\n",
    "    km = float(p[1].replace(\"km\",\"\").strip())\n",
    "    if litres == 0:\n",
    "        return \"delete\"\n",
    "    else:\n",
    "        return round(km/litres,1)"
   ],
   "metadata": {
    "collapsed": false,
    "ExecuteTime": {
     "end_time": "2024-01-03T01:30:19.543081Z",
     "start_time": "2024-01-03T01:30:19.520663Z"
    }
   },
   "id": "bda86abf0696bf93",
   "execution_count": 80
  },
  {
   "cell_type": "code",
   "outputs": [],
   "source": [
    "df_3 = df_2.copy()\n",
    "\n",
    "df_3[\"Engine\"] = list(map(lambda x: retrieve_only_litres(x),df_2[\"Engine\"]))\n",
    "df_3[\"Engine\"] = df_3[\"Engine\"].astype(\"float64\")\n",
    "\n",
    "df_3[\"FuelConsumption\"][df_3[\"FuelConsumption\"].notna()] = list(map(lambda x: convert_to_km_l(x),df_2[\"FuelConsumption\"][df_2[\"FuelConsumption\"].notna()]))\n",
    "\n",
    "fuel_cons_index = df_3[df_3[\"FuelConsumption\"]==\"delete\"].index.values\n",
    "\n",
    "df_3 = df_3.drop(index=fuel_cons_index)\n"
   ],
   "metadata": {
    "collapsed": false,
    "ExecuteTime": {
     "end_time": "2024-01-03T01:32:57.651914Z",
     "start_time": "2024-01-03T01:32:57.570513Z"
    }
   },
   "id": "a7b3b991b4f585b7",
   "execution_count": 85
  },
  {
   "cell_type": "code",
   "outputs": [
    {
     "data": {
      "text/plain": "array(['Caringbah, NSW', 'Brookvale, NSW', 'Sylvania, NSW',\n       'Mount Druitt, NSW', 'Castle Hill, NSW', 'Saint Marys, NSW',\n       'Blacktown, NSW', 'Wentworthville, NSW', 'Mcgraths Hill, NSW',\n       'Lidcombe, NSW', 'Rouse Hill, NSW', 'Five Dock, NSW',\n       'Haberfield, NSW', 'Cabramatta, NSW', 'Glebe, NSW', 'Camden, NSW',\n       'Lansvale, NSW', 'Croydon, NSW', 'Pendle Hill, NSW',\n       'Smithfield, NSW', 'Ingleburn, NSW', 'Seven Hills, NSW',\n       'Granville, NSW', 'Minchinbury, NSW', 'Ryde, NSW', 'Homebush, NSW',\n       'Elderslie, NSW', 'Campbelltown, NSW', 'Bankstown, NSW',\n       'North Narrabeen, NSW', 'Chester Hill, NSW', 'Liverpool, NSW',\n       'West Ryde, NSW', 'Kirrawee, NSW', 'Smeaton Grange, NSW',\n       'Minto, NSW', 'Windsor, NSW', 'Penrith, NSW', 'Kogarah, NSW',\n       'South Windsor, NSW', 'Artarmon, NSW', 'Arncliffe, NSW',\n       'Darlinghurst, NSW', 'Eastern Creek, NSW', 'Rydalmere, NSW',\n       'Carlton, NSW', 'Leichhardt, NSW', 'Punchbowl, NSW',\n       'Strathfield, NSW', 'Wollongong, NSW', 'Banksia, NSW',\n       'Adamstown, NSW', 'Cardiff, NSW', 'Pennant Hills, NSW',\n       'East Maitland, NSW', 'Rozelle, NSW', 'Petersham, NSW',\n       'Jamisontown, NSW', 'Gateshead, NSW', 'Kurri Kurri, NSW',\n       'Richmond, NSW', 'Milperra, NSW', 'Rushcutters Bay, NSW',\n       'Waitara, NSW', 'Singleton, NSW', 'Warwick Farm, NSW',\n       'Chipping Norton, NSW', 'Taylors Beach, NSW', 'Taree, NSW',\n       'Port Macquarie, NSW', 'Belmore, NSW', 'Roselands, NSW',\n       'Greenacre, NSW', 'Concord, NSW', 'Moorebank, NSW', 'Berwick, VIC',\n       'Regents Park, NSW', 'Yagoona, NSW', 'Upper Ferntree Gully, VIC',\n       'Sutherland, NSW', 'Molendinar, QLD', 'Pakenham, VIC',\n       'Auburn, NSW', 'Arundel, QLD', 'Southport, QLD', 'Narellan, NSW',\n       'Lilydale, VIC', 'Epping, VIC', 'Fairfield East, NSW',\n       'Tweed Heads South, NSW', 'Sydney, NSW', 'South Hurstville, NSW',\n       'Revesby, NSW', 'Archerfield, QLD', 'Cheltenham, VIC',\n       'Burwood, NSW', 'Springwood, QLD', 'Laverton North, VIC',\n       'Bentleigh, VIC', 'Capalaba, QLD', 'Braeside, VIC',\n       'Roseville, NSW', 'Slacks Creek, QLD', 'Waterloo, NSW',\n       'Thornleigh, NSW', 'Coopers Plains, QLD', 'Zetland, NSW',\n       'Alexandria, NSW', 'Mornington, VIC', 'Chatswood, NSW',\n       'Underwood, QLD', 'Banyo, QLD', 'Bass Hill, NSW', 'Mascot, NSW',\n       'Morayfield, QLD', 'Bells Creek, QLD', 'Enfield, SA', 'Goolwa, SA',\n       'Strathalbyn, SA', 'Cheltenham, SA', 'Melrose Park, SA',\n       'Morphett Vale, SA', 'Brighton, SA', 'Townsville, QLD',\n       'Bassendean, WA', 'Bentley, WA', 'Welshpool, WA',\n       'Osborne Park, WA', 'Dudley Park, WA', 'Cannington, WA',\n       'Bibra Lake, WA', 'Mosman, NSW', 'Mandurah, WA', 'Leumeah, NSW',\n       'Rockingham, WA', 'Nedlands, WA', 'Myaree, WA', 'Bunbury, WA',\n       'Ashfield, NSW', 'Monterey, NSW', 'Balcatta, WA',\n       'Homebush West, NSW', 'Carss Park, NSW', 'Stanmore, NSW',\n       'Padstow, NSW', 'Wangara, WA', 'Clarkson, WA', 'Campsie, NSW',\n       'North Strathfield, NSW', 'McDougalls Hill, NSW', 'Labrador, QLD',\n       'Fairfield, VIC', 'Truganina, VIC', 'Kellyville, NSW',\n       'Camira, QLD', 'Lindfield, NSW', 'Merrylands, NSW',\n       'Essendon, VIC', 'Silverwater, NSW', 'Chullora, NSW',\n       'Mount Lawley, WA', 'West Gosford, NSW', 'North Wollongong, NSW',\n       'Albion Park, NSW', 'Yallah, NSW', 'Lisarow, NSW',\n       'Albion Park Rail, NSW', 'Erina, NSW', 'Tuggerah, NSW',\n       'Moss Vale, NSW', 'Oak Flats, NSW', 'Lithgow, NSW',\n       'Mittagong, NSW', 'Gosford, NSW', 'Windang, NSW',\n       'Hamilton East, NSW', 'Bowral, NSW', 'Beresfield, NSW',\n       'Maryville, NSW', 'Hamilton, NSW', 'South Nowra, NSW',\n       'Sandgate, NSW', 'Nowra, NSW', 'Medlow Bath, NSW', 'Waratah, NSW',\n       'Warners Bay, NSW', 'New Lambton, NSW', 'Dapto, NSW',\n       'Boolaroo, NSW', 'Lambton, NSW', 'Wickham, NSW', 'Maitland, NSW',\n       'Mayfield West, NSW', 'Rutherford, NSW', 'Hamilton North, NSW',\n       'Mayfield, NSW', 'Glendale, NSW', 'Edgeworth, NSW',\n       'Cessnock, NSW', 'Broadmeadow, NSW', 'Kelso, NSW',\n       'Heatherbrae, NSW', 'Bathurst, NSW', 'Bennetts Green, NSW',\n       'Islington, NSW', 'Raymond Terrace, NSW', 'Taren Point, NSW',\n       'Belmont, NSW', 'Orange, NSW', 'Newcastle West, NSW',\n       'Goulburn, NSW', 'Muswellbrook, NSW', 'Ulladulla, NSW',\n       'Belconnen, ACT', 'Yass, NSW', 'Fyshwick, ACT', 'Phillip, ACT',\n       'Crookwell, NSW', 'Hume, ACT', 'Branxton, NSW', 'Gungahlin, ACT',\n       'Tuncurry, NSW', 'Batemans Bay, NSW', 'Moruya, NSW',\n       'Condell Park, NSW', 'Greenway, ACT', 'Harrington, NSW',\n       'Wauchope, NSW', 'South Tamworth, NSW', 'Bega, NSW',\n       'Armidale, NSW', 'Macksville, NSW', 'Lavington, NSW',\n       'Coffs Harbour, NSW', 'Holbrook, NSW', 'Walla Walla, NSW',\n       'Wodonga, VIC', 'Forbes, NSW', 'Wangaratta, VIC',\n       'Bairnsdale, VIC', 'Lismore, NSW', 'Stanthorpe, QLD',\n       'Shepparton, VIC', 'Walcha, NSW', 'Traralgon, VIC', 'Seymour, VIC',\n       'West Ballina, NSW', 'Echuca, VIC', 'Kyabram, VIC',\n       'Dandenong South, VIC', 'Dandenong, VIC', 'Bayswater, VIC',\n       'Vermont, VIC', 'Tugun, QLD', 'Ashmore, QLD', 'Thomastown, VIC',\n       'Burwood, VIC', 'Narre Warren, VIC', 'Alphington, VIC',\n       'Mulgrave, VIC', 'HEIDELBERG, VIC', 'Sale, VIC', 'Preston, VIC',\n       'Ringwood, VIC', 'Springvale, VIC', 'Ferntree Gully, VIC',\n       'Nunawading, VIC', 'Epsom, VIC', 'Briar Hill, VIC',\n       'Coburg North, VIC', 'Boronia, VIC', 'Bundoora, VIC',\n       'Fawkner, VIC', 'Thornbury, VIC', 'Burleigh Heads, QLD',\n       'Nerang, QLD', 'Robina, QLD', 'South Morang, VIC',\n       'SOUTH MORANG, VIC', 'Helensvale, QLD', 'Loftville, NSW',\n       'Hallam, VIC', 'Officer, VIC', 'CAMBERWELL, VIC',\n       'BAYSWATER NORTH, VIC', 'Watsonia, VIC', 'EPPING, VIC',\n       'Balwyn, VIC', 'Warragul, VIC', 'South Grafton, NSW',\n       'Currumbin Waters, QLD', 'Morwell, VIC', 'Bendigo, VIC',\n       'Mitcham, VIC', 'Tweed Heads, NSW', 'Biggera Waters, QLD',\n       'Doncaster, VIC', 'FAWKNER, VIC', 'Golden Square, VIC',\n       'Mill Park, VIC', 'Wantirna, VIC', 'Campbellfield, VIC',\n       'Coburg, VIC', 'DONCASTER, VIC', 'Seaford, VIC', 'Moorabbin, VIC',\n       'Mordialloc, VIC', 'Braybrook, VIC', 'Carrum Downs, VIC',\n       'Dingley Village, VIC', 'Coorparoo, QLD', 'Avondale Heights, VIC',\n       'Rocklea, QLD', 'Frankston, VIC', 'Kedron, QLD', 'Albion, QLD',\n       'Port Melbourne, VIC', 'Mount Gravatt, QLD', 'West Footscray, VIC',\n       'Pinkenba, QLD', 'Moorooka, QLD', 'Hillcrest, QLD',\n       'Deer Park, VIC', 'SOUTH MELBOURNE, VIC', 'Murrumbeena, VIC',\n       'Maidstone, VIC', 'Brooklyn, VIC', 'Ravenhall, VIC',\n       'Oakleigh, VIC', 'Morningside, QLD', 'Hoppers Crossing, VIC',\n       'Everton Hills, QLD', 'Greenslopes, QLD', 'Ipswich, QLD',\n       'Clayton South, VIC', 'Hamilton, QLD', 'Elsternwick, VIC',\n       'Eagle Farm, QLD', 'Point Cook, VIC', 'Toowoomba, QLD',\n       'Williamstown, VIC', 'Hendra, QLD', 'Chermside, QLD',\n       'Werribee, VIC', 'South Melbourne, VIC', 'Cranbourne, VIC',\n       'Mansfield, QLD', 'Altona North, VIC', 'Toowoomba City, QLD',\n       'Sumner, QLD', 'Acacia Ridge, QLD', 'South Toowoomba, QLD',\n       'Croydon, VIC', 'Swan Hill, VIC', 'Coomera, QLD', 'Tingalpa, QLD',\n       'Nundah, QLD', 'Woodridge, QLD', 'Essendon Fields, VIC',\n       'Brighton, VIC', 'Mentone, VIC', 'Cleveland, QLD',\n       'Browns Plains, QLD', 'Carbrook, QLD', 'Yatala, QLD',\n       'Virginia, QLD', 'Woongoolba, QLD', 'Loganholme, QLD',\n       'Keysborough, VIC', 'Melbourne, VIC', 'Windsor, QLD',\n       'Sunbury, VIC', 'North Ipswich, QLD', 'Sunnybank Hills, QLD',\n       'Indooroopilly, QLD', 'Eight Mile Plains, QLD', 'Aspley, QLD',\n       'Yamanto, QLD', 'Geebung, QLD', 'MELBOURNE, VIC', 'Lyndhurst, VIC',\n       'Oakleigh South, VIC', 'Southbank, VIC', 'Kelvin Grove, QLD',\n       'Parkdale, VIC', 'Blackburn, VIC', 'Tullamarine, VIC',\n       'Gatton, QLD', 'Glenroy, VIC', 'St Albans, VIC',\n       'Keilor East, VIC', 'Wacol, QLD', 'Melton, VIC', 'Reservoir, VIC',\n       'Hastings, VIC', 'Bacchus Marsh, VIC', 'Fortitude Valley, QLD',\n       'Williamstown North, VIC', 'Huntingdale, VIC',\n       'Seventeen Mile Rocks, QLD', 'Yarraville, VIC',\n       'Bentleigh East, VIC', 'Murarrie, QLD', 'Thornlands, QLD',\n       'Holland Park West, QLD', 'Footscray, VIC', 'Wilston, QLD',\n       'Caroline Springs, VIC', 'Derrimut, VIC', 'Dinmore, QLD',\n       'Bundamba, QLD', 'Sunshine North, VIC', 'Clontarf, QLD',\n       'Geelong, VIC', 'South Geelong, VIC', 'Strathpine, QLD',\n       'Wendouree, VIC', 'Northgate, QLD', 'North Geelong, VIC',\n       'Delacombe, VIC', 'North Lakes, QLD', 'Lawnton, QLD',\n       'Brown Hill, VIC', 'Ballarat, VIC', 'Tyabb, VIC', 'Newtown, VIC',\n       'Geelong West, VIC', 'Sebastopol, VIC', 'Redcliffe, QLD',\n       'Belmont, VIC', 'Mount Pleasant, VIC', 'Maroochydore, QLD',\n       'Mooloolaba, QLD', 'Currimundi, QLD', 'Baringa, QLD',\n       'Caloundra West, QLD', 'Buderim, QLD', 'Chermside South, QLD',\n       'Rosemount, QLD', 'Kunda Park, QLD', 'Noosaville, QLD',\n       'Ararat, VIC', 'Colac West, VIC', 'Nambour, QLD', 'Horsham, VIC',\n       'Gympie, QLD', 'Caboolture, QLD', 'Brendale, QLD', 'Ningi, QLD',\n       'Alexandra Headland, QLD', 'Stafford, QLD', 'Sippy Downs, QLD',\n       'Launceston, TAS', 'Warrnambool, VIC', 'Camdale, TAS',\n       'Devonport, TAS', 'South Burnie, TAS', 'LOXTON, SA', 'Pialba, QLD',\n       'Bundaberg West, QLD', 'Kensington, QLD', 'Mount Gambier, SA',\n       'Bundaberg, QLD', 'North Hobart, TAS', 'Biloela, QLD',\n       'Hobart, TAS', 'Derwent Park, TAS', 'Glenorchy, TAS',\n       'Murray Bridge, SA', 'Moonah, TAS', 'New Town, TAS',\n       'Salisbury Park, SA', 'Blair Athol, SA', 'Gilles Plains, SA',\n       'Hillcrest, SA', 'Newton, SA', 'Totness, SA', 'Salisbury, SA',\n       'Gawler South, SA', 'Ingle Farm, SA', 'Clare, SA', 'Nuriootpa, SA',\n       'Para Hills West, SA', 'Gladstone, QLD', 'Klemzig, SA',\n       'Windsor Gardens, SA', 'Elizabeth, SA', 'Hawthorn, SA',\n       'Gepps Cross, SA', 'Hampstead Gardens, SA', 'Nailsworth, SA',\n       'Valley View, SA', 'Prospect, SA', 'Fullarton, SA', 'Medindie, SA',\n       'Pooraka, SA', 'West Gladstone, QLD', 'Gulfview Heights, SA',\n       'Mount Barker, SA', 'Wayville, SA', 'Mile End, SA',\n       'Brisbane, QLD', 'Saint Marys, SA', 'Mile End South, SA',\n       'Thebarton, SA', 'West Croydon, SA', 'Somerton Park, SA',\n       'Adelaide, SA', 'Edwardstown, SA', 'Christies Beach, SA',\n       'Emerald, QLD', 'Glenelg, SA', 'Darlington, SA', 'Hindmarsh, SA',\n       'North Rockhampton, QLD', 'Chinchilla, QLD', 'Albert Park, SA',\n       'Reynella, SA', 'Beverley, SA', 'Plympton, SA',\n       'Victor Harbor, SA', 'Lonsdale, SA', 'Torrensville, SA',\n       'Rosewater, SA', 'Coolum Beach, QLD', 'Woodville, SA',\n       'Moffat Beach, QLD', 'Port Augusta, SA', 'Mackay, QLD',\n       'West End, QLD', 'Garbutt, QLD', 'Mount Louisa, QLD',\n       'Youngtown, TAS', 'Hermit Park, QLD', 'Corio, VIC', 'Loxton, SA',\n       'Westcourt, QLD', 'Cairns City, QLD', 'Bungalow, QLD',\n       'Parramatta Park, QLD', 'Cairns, QLD', 'Earlville, QLD',\n       'Mildura, VIC', 'Pinelands, NT', 'Berrimah, NT', 'Winnellie, NT',\n       'Stuart Park, NT', 'Darwin, NT', 'Collie, WA', 'Beaconsfield, WA',\n       'Kelmscott, WA', 'Victoria Park, WA', 'Bellevue, WA',\n       'Hamilton Hill, WA', 'Palmyra, WA', 'Dianella, WA',\n       'Saint James, WA', 'Morley, WA', 'Como, WA', 'Maddington, WA',\n       'Invermay, TAS', 'Attadale, WA', 'Bridgewater, SA',\n       'East Bunbury, WA', 'Bundaberg North, QLD', 'Harvey, WA',\n       'Kenwick, WA', 'Seaford, SA', 'Norwood, SA', 'Bowden, SA',\n       'Park Holme, SA', 'Allenstown, QLD', 'Medindie Gardens, SA',\n       'West Lakes, SA', 'Hyde Park, SA', 'St Marys, SA', 'Goodwood, SA',\n       'Parap, NT', 'West Perth, WA', 'Bayswater, WA', 'Maylands, WA',\n       'Midland, WA', 'Burswood, WA', 'Gosnells, WA', 'South Bunbury, WA',\n       'Hyde Park, QLD', 'Melville, WA', 'Wagin, WA', 'Canning Vale, WA',\n       'Wongan Hills, WA', 'Jandakot, WA', 'East Victoria Park, WA',\n       'Northbridge, WA', 'Perth, WA', 'Edgewater, WA', 'KINGSLEY, WA',\n       'Craigie, WA', 'Busselton, WA', 'Geraldton, WA', 'Beresford, WA',\n       nan, 'Wonthella, WA', 'Webberton, WA', 'Kings Park, NSW',\n       'Clyde, NSW', 'Ermington, NSW', 'Greystanes, NSW',\n       'Peakhurst, NSW', 'Wellington, NSW', 'West Tamworth, NSW',\n       'Wagga Wagga, NSW', 'Inverell, NSW', 'Casino, NSW',\n       'Roxburgh Park, VIC', 'Beaudesert, QLD', 'East Toowoomba, QLD'],\n      dtype=object)"
     },
     "execution_count": 89,
     "metadata": {},
     "output_type": "execute_result"
    }
   ],
   "source": [
    "df_4 = df_3.drop(columns=\"ColourExtInt\")\n",
    "df_4[\"Location\"].unique()"
   ],
   "metadata": {
    "collapsed": false,
    "ExecuteTime": {
     "end_time": "2024-01-03T01:36:05.670157Z",
     "start_time": "2024-01-03T01:36:05.647076Z"
    }
   },
   "id": "d8e9da4cbad6c45",
   "execution_count": 89
  },
  {
   "cell_type": "code",
   "outputs": [],
   "source": [],
   "metadata": {
    "collapsed": false
   },
   "id": "24a40a4344d271ed"
  }
 ],
 "metadata": {
  "kernelspec": {
   "display_name": "Python 3",
   "language": "python",
   "name": "python3"
  },
  "language_info": {
   "codemirror_mode": {
    "name": "ipython",
    "version": 2
   },
   "file_extension": ".py",
   "mimetype": "text/x-python",
   "name": "python",
   "nbconvert_exporter": "python",
   "pygments_lexer": "ipython2",
   "version": "2.7.6"
  }
 },
 "nbformat": 4,
 "nbformat_minor": 5
}
