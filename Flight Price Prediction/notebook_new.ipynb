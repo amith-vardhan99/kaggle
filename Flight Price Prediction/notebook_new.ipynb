{
 "cells": [
  {
   "cell_type": "code",
   "outputs": [],
   "source": [
    "import numpy as np\n",
    "import pandas as pd\n",
    "import matplotlib.pyplot as plt\n",
    "import seaborn as sns\n",
    "import warnings\n",
    "warnings.filterwarnings(\"ignore\")\n",
    "from sklearn.preprocessing import *"
   ],
   "metadata": {
    "collapsed": false,
    "ExecuteTime": {
     "end_time": "2024-01-01T03:25:52.050048Z",
     "start_time": "2024-01-01T03:25:51.940608Z"
    }
   },
   "id": "c04b7e8abec6f3cb",
   "execution_count": 128
  },
  {
   "cell_type": "code",
   "outputs": [],
   "source": [
    "business = pd.read_csv(\"business.csv\")\n",
    "economy = pd.read_csv(\"economy.csv\")\n",
    "df_cleaned = pd.read_csv(\"Clean_Dataset.csv\")"
   ],
   "metadata": {
    "collapsed": false,
    "ExecuteTime": {
     "end_time": "2024-01-01T02:52:50.691068Z",
     "start_time": "2024-01-01T02:52:50.240241Z"
    }
   },
   "id": "e434e16fc3d7eec7",
   "execution_count": 68
  },
  {
   "cell_type": "code",
   "outputs": [
    {
     "data": {
      "text/plain": "              date   airline ch_code  num_code dep_time     from time_taken  \\\n0       11-02-2022  SpiceJet      SG      8709    18:55    Delhi    02h 10m   \n1       11-02-2022  SpiceJet      SG      8157    06:20    Delhi    02h 20m   \n2       11-02-2022   AirAsia      I5       764    04:25    Delhi    02h 10m   \n3       11-02-2022   Vistara      UK       995    10:20    Delhi    02h 15m   \n4       11-02-2022   Vistara      UK       963    08:50    Delhi    02h 20m   \n...            ...       ...     ...       ...      ...      ...        ...   \n206769  31-03-2022   Vistara      UK       832    07:05  Chennai    13h 50m   \n206770  31-03-2022   Vistara      UK       832    07:05  Chennai    13h 50m   \n206771  31-03-2022   Vistara      UK       826    12:30  Chennai    20h 35m   \n206772  31-03-2022   Vistara      UK       822    09:45  Chennai    23h 20m   \n206773  31-03-2022   Vistara      UK       824    20:30  Chennai    24h 25m   \n\n                                                     stop arr_time         to  \\\n0                                               non-stop     21:05     Mumbai   \n1                                               non-stop     08:40     Mumbai   \n2                                               non-stop     06:35     Mumbai   \n3                                               non-stop     12:35     Mumbai   \n4                                               non-stop     11:10     Mumbai   \n...                                                   ...      ...        ...   \n206769  1-stop\\n\\t\\t\\t\\t\\t\\t\\t\\t\\t\\t\\t\\t\\n\\t\\t\\t\\t\\t\\t...    20:55  Hyderabad   \n206770  1-stop\\n\\t\\t\\t\\t\\t\\t\\t\\t\\t\\t\\t\\t\\n\\t\\t\\t\\t\\t\\t...    20:55  Hyderabad   \n206771  1-stop\\n\\t\\t\\t\\t\\t\\t\\t\\t\\t\\t\\t\\t\\n\\t\\t\\t\\t\\t\\t...    09:05  Hyderabad   \n206772  1-stop\\n\\t\\t\\t\\t\\t\\t\\t\\t\\t\\t\\t\\t\\n\\t\\t\\t\\t\\t\\t...    09:05  Hyderabad   \n206773  1-stop\\n\\t\\t\\t\\t\\t\\t\\t\\t\\t\\t\\t\\t\\n\\t\\t\\t\\t\\t\\t...    20:55  Hyderabad   \n\n        price  \n0       5,953  \n1       5,953  \n2       5,956  \n3       5,955  \n4       5,955  \n...       ...  \n206769  7,697  \n206770  7,709  \n206771  8,640  \n206772  8,640  \n206773  8,640  \n\n[206774 rows x 11 columns]",
      "text/html": "<div>\n<style scoped>\n    .dataframe tbody tr th:only-of-type {\n        vertical-align: middle;\n    }\n\n    .dataframe tbody tr th {\n        vertical-align: top;\n    }\n\n    .dataframe thead th {\n        text-align: right;\n    }\n</style>\n<table border=\"1\" class=\"dataframe\">\n  <thead>\n    <tr style=\"text-align: right;\">\n      <th></th>\n      <th>date</th>\n      <th>airline</th>\n      <th>ch_code</th>\n      <th>num_code</th>\n      <th>dep_time</th>\n      <th>from</th>\n      <th>time_taken</th>\n      <th>stop</th>\n      <th>arr_time</th>\n      <th>to</th>\n      <th>price</th>\n    </tr>\n  </thead>\n  <tbody>\n    <tr>\n      <th>0</th>\n      <td>11-02-2022</td>\n      <td>SpiceJet</td>\n      <td>SG</td>\n      <td>8709</td>\n      <td>18:55</td>\n      <td>Delhi</td>\n      <td>02h 10m</td>\n      <td>non-stop</td>\n      <td>21:05</td>\n      <td>Mumbai</td>\n      <td>5,953</td>\n    </tr>\n    <tr>\n      <th>1</th>\n      <td>11-02-2022</td>\n      <td>SpiceJet</td>\n      <td>SG</td>\n      <td>8157</td>\n      <td>06:20</td>\n      <td>Delhi</td>\n      <td>02h 20m</td>\n      <td>non-stop</td>\n      <td>08:40</td>\n      <td>Mumbai</td>\n      <td>5,953</td>\n    </tr>\n    <tr>\n      <th>2</th>\n      <td>11-02-2022</td>\n      <td>AirAsia</td>\n      <td>I5</td>\n      <td>764</td>\n      <td>04:25</td>\n      <td>Delhi</td>\n      <td>02h 10m</td>\n      <td>non-stop</td>\n      <td>06:35</td>\n      <td>Mumbai</td>\n      <td>5,956</td>\n    </tr>\n    <tr>\n      <th>3</th>\n      <td>11-02-2022</td>\n      <td>Vistara</td>\n      <td>UK</td>\n      <td>995</td>\n      <td>10:20</td>\n      <td>Delhi</td>\n      <td>02h 15m</td>\n      <td>non-stop</td>\n      <td>12:35</td>\n      <td>Mumbai</td>\n      <td>5,955</td>\n    </tr>\n    <tr>\n      <th>4</th>\n      <td>11-02-2022</td>\n      <td>Vistara</td>\n      <td>UK</td>\n      <td>963</td>\n      <td>08:50</td>\n      <td>Delhi</td>\n      <td>02h 20m</td>\n      <td>non-stop</td>\n      <td>11:10</td>\n      <td>Mumbai</td>\n      <td>5,955</td>\n    </tr>\n    <tr>\n      <th>...</th>\n      <td>...</td>\n      <td>...</td>\n      <td>...</td>\n      <td>...</td>\n      <td>...</td>\n      <td>...</td>\n      <td>...</td>\n      <td>...</td>\n      <td>...</td>\n      <td>...</td>\n      <td>...</td>\n    </tr>\n    <tr>\n      <th>206769</th>\n      <td>31-03-2022</td>\n      <td>Vistara</td>\n      <td>UK</td>\n      <td>832</td>\n      <td>07:05</td>\n      <td>Chennai</td>\n      <td>13h 50m</td>\n      <td>1-stop\\n\\t\\t\\t\\t\\t\\t\\t\\t\\t\\t\\t\\t\\n\\t\\t\\t\\t\\t\\t...</td>\n      <td>20:55</td>\n      <td>Hyderabad</td>\n      <td>7,697</td>\n    </tr>\n    <tr>\n      <th>206770</th>\n      <td>31-03-2022</td>\n      <td>Vistara</td>\n      <td>UK</td>\n      <td>832</td>\n      <td>07:05</td>\n      <td>Chennai</td>\n      <td>13h 50m</td>\n      <td>1-stop\\n\\t\\t\\t\\t\\t\\t\\t\\t\\t\\t\\t\\t\\n\\t\\t\\t\\t\\t\\t...</td>\n      <td>20:55</td>\n      <td>Hyderabad</td>\n      <td>7,709</td>\n    </tr>\n    <tr>\n      <th>206771</th>\n      <td>31-03-2022</td>\n      <td>Vistara</td>\n      <td>UK</td>\n      <td>826</td>\n      <td>12:30</td>\n      <td>Chennai</td>\n      <td>20h 35m</td>\n      <td>1-stop\\n\\t\\t\\t\\t\\t\\t\\t\\t\\t\\t\\t\\t\\n\\t\\t\\t\\t\\t\\t...</td>\n      <td>09:05</td>\n      <td>Hyderabad</td>\n      <td>8,640</td>\n    </tr>\n    <tr>\n      <th>206772</th>\n      <td>31-03-2022</td>\n      <td>Vistara</td>\n      <td>UK</td>\n      <td>822</td>\n      <td>09:45</td>\n      <td>Chennai</td>\n      <td>23h 20m</td>\n      <td>1-stop\\n\\t\\t\\t\\t\\t\\t\\t\\t\\t\\t\\t\\t\\n\\t\\t\\t\\t\\t\\t...</td>\n      <td>09:05</td>\n      <td>Hyderabad</td>\n      <td>8,640</td>\n    </tr>\n    <tr>\n      <th>206773</th>\n      <td>31-03-2022</td>\n      <td>Vistara</td>\n      <td>UK</td>\n      <td>824</td>\n      <td>20:30</td>\n      <td>Chennai</td>\n      <td>24h 25m</td>\n      <td>1-stop\\n\\t\\t\\t\\t\\t\\t\\t\\t\\t\\t\\t\\t\\n\\t\\t\\t\\t\\t\\t...</td>\n      <td>20:55</td>\n      <td>Hyderabad</td>\n      <td>8,640</td>\n    </tr>\n  </tbody>\n</table>\n<p>206774 rows × 11 columns</p>\n</div>"
     },
     "execution_count": 69,
     "metadata": {},
     "output_type": "execute_result"
    }
   ],
   "source": [
    "economy"
   ],
   "metadata": {
    "collapsed": false,
    "ExecuteTime": {
     "end_time": "2024-01-01T02:52:50.704509Z",
     "start_time": "2024-01-01T02:52:50.699370Z"
    }
   },
   "id": "b0cffcd0a868b422",
   "execution_count": 69
  },
  {
   "cell_type": "code",
   "outputs": [
    {
     "data": {
      "text/plain": "        Unnamed: 0   airline   flight source_city departure_time stops  \\\n0                0  SpiceJet  SG-8709       Delhi        Evening  zero   \n1                1  SpiceJet  SG-8157       Delhi  Early_Morning  zero   \n2                2   AirAsia   I5-764       Delhi  Early_Morning  zero   \n3                3   Vistara   UK-995       Delhi        Morning  zero   \n4                4   Vistara   UK-963       Delhi        Morning  zero   \n...            ...       ...      ...         ...            ...   ...   \n300148      300148   Vistara   UK-822     Chennai        Morning   one   \n300149      300149   Vistara   UK-826     Chennai      Afternoon   one   \n300150      300150   Vistara   UK-832     Chennai  Early_Morning   one   \n300151      300151   Vistara   UK-828     Chennai  Early_Morning   one   \n300152      300152   Vistara   UK-822     Chennai        Morning   one   \n\n         arrival_time destination_city     class  duration  days_left  price  \n0               Night           Mumbai   Economy      2.17          1   5953  \n1             Morning           Mumbai   Economy      2.33          1   5953  \n2       Early_Morning           Mumbai   Economy      2.17          1   5956  \n3           Afternoon           Mumbai   Economy      2.25          1   5955  \n4             Morning           Mumbai   Economy      2.33          1   5955  \n...               ...              ...       ...       ...        ...    ...  \n300148        Evening        Hyderabad  Business     10.08         49  69265  \n300149          Night        Hyderabad  Business     10.42         49  77105  \n300150          Night        Hyderabad  Business     13.83         49  79099  \n300151        Evening        Hyderabad  Business     10.00         49  81585  \n300152        Evening        Hyderabad  Business     10.08         49  81585  \n\n[300153 rows x 12 columns]",
      "text/html": "<div>\n<style scoped>\n    .dataframe tbody tr th:only-of-type {\n        vertical-align: middle;\n    }\n\n    .dataframe tbody tr th {\n        vertical-align: top;\n    }\n\n    .dataframe thead th {\n        text-align: right;\n    }\n</style>\n<table border=\"1\" class=\"dataframe\">\n  <thead>\n    <tr style=\"text-align: right;\">\n      <th></th>\n      <th>Unnamed: 0</th>\n      <th>airline</th>\n      <th>flight</th>\n      <th>source_city</th>\n      <th>departure_time</th>\n      <th>stops</th>\n      <th>arrival_time</th>\n      <th>destination_city</th>\n      <th>class</th>\n      <th>duration</th>\n      <th>days_left</th>\n      <th>price</th>\n    </tr>\n  </thead>\n  <tbody>\n    <tr>\n      <th>0</th>\n      <td>0</td>\n      <td>SpiceJet</td>\n      <td>SG-8709</td>\n      <td>Delhi</td>\n      <td>Evening</td>\n      <td>zero</td>\n      <td>Night</td>\n      <td>Mumbai</td>\n      <td>Economy</td>\n      <td>2.17</td>\n      <td>1</td>\n      <td>5953</td>\n    </tr>\n    <tr>\n      <th>1</th>\n      <td>1</td>\n      <td>SpiceJet</td>\n      <td>SG-8157</td>\n      <td>Delhi</td>\n      <td>Early_Morning</td>\n      <td>zero</td>\n      <td>Morning</td>\n      <td>Mumbai</td>\n      <td>Economy</td>\n      <td>2.33</td>\n      <td>1</td>\n      <td>5953</td>\n    </tr>\n    <tr>\n      <th>2</th>\n      <td>2</td>\n      <td>AirAsia</td>\n      <td>I5-764</td>\n      <td>Delhi</td>\n      <td>Early_Morning</td>\n      <td>zero</td>\n      <td>Early_Morning</td>\n      <td>Mumbai</td>\n      <td>Economy</td>\n      <td>2.17</td>\n      <td>1</td>\n      <td>5956</td>\n    </tr>\n    <tr>\n      <th>3</th>\n      <td>3</td>\n      <td>Vistara</td>\n      <td>UK-995</td>\n      <td>Delhi</td>\n      <td>Morning</td>\n      <td>zero</td>\n      <td>Afternoon</td>\n      <td>Mumbai</td>\n      <td>Economy</td>\n      <td>2.25</td>\n      <td>1</td>\n      <td>5955</td>\n    </tr>\n    <tr>\n      <th>4</th>\n      <td>4</td>\n      <td>Vistara</td>\n      <td>UK-963</td>\n      <td>Delhi</td>\n      <td>Morning</td>\n      <td>zero</td>\n      <td>Morning</td>\n      <td>Mumbai</td>\n      <td>Economy</td>\n      <td>2.33</td>\n      <td>1</td>\n      <td>5955</td>\n    </tr>\n    <tr>\n      <th>...</th>\n      <td>...</td>\n      <td>...</td>\n      <td>...</td>\n      <td>...</td>\n      <td>...</td>\n      <td>...</td>\n      <td>...</td>\n      <td>...</td>\n      <td>...</td>\n      <td>...</td>\n      <td>...</td>\n      <td>...</td>\n    </tr>\n    <tr>\n      <th>300148</th>\n      <td>300148</td>\n      <td>Vistara</td>\n      <td>UK-822</td>\n      <td>Chennai</td>\n      <td>Morning</td>\n      <td>one</td>\n      <td>Evening</td>\n      <td>Hyderabad</td>\n      <td>Business</td>\n      <td>10.08</td>\n      <td>49</td>\n      <td>69265</td>\n    </tr>\n    <tr>\n      <th>300149</th>\n      <td>300149</td>\n      <td>Vistara</td>\n      <td>UK-826</td>\n      <td>Chennai</td>\n      <td>Afternoon</td>\n      <td>one</td>\n      <td>Night</td>\n      <td>Hyderabad</td>\n      <td>Business</td>\n      <td>10.42</td>\n      <td>49</td>\n      <td>77105</td>\n    </tr>\n    <tr>\n      <th>300150</th>\n      <td>300150</td>\n      <td>Vistara</td>\n      <td>UK-832</td>\n      <td>Chennai</td>\n      <td>Early_Morning</td>\n      <td>one</td>\n      <td>Night</td>\n      <td>Hyderabad</td>\n      <td>Business</td>\n      <td>13.83</td>\n      <td>49</td>\n      <td>79099</td>\n    </tr>\n    <tr>\n      <th>300151</th>\n      <td>300151</td>\n      <td>Vistara</td>\n      <td>UK-828</td>\n      <td>Chennai</td>\n      <td>Early_Morning</td>\n      <td>one</td>\n      <td>Evening</td>\n      <td>Hyderabad</td>\n      <td>Business</td>\n      <td>10.00</td>\n      <td>49</td>\n      <td>81585</td>\n    </tr>\n    <tr>\n      <th>300152</th>\n      <td>300152</td>\n      <td>Vistara</td>\n      <td>UK-822</td>\n      <td>Chennai</td>\n      <td>Morning</td>\n      <td>one</td>\n      <td>Evening</td>\n      <td>Hyderabad</td>\n      <td>Business</td>\n      <td>10.08</td>\n      <td>49</td>\n      <td>81585</td>\n    </tr>\n  </tbody>\n</table>\n<p>300153 rows × 12 columns</p>\n</div>"
     },
     "execution_count": 70,
     "metadata": {},
     "output_type": "execute_result"
    }
   ],
   "source": [
    "df_cleaned"
   ],
   "metadata": {
    "collapsed": false,
    "ExecuteTime": {
     "end_time": "2024-01-01T02:52:51.295563Z",
     "start_time": "2024-01-01T02:52:51.290831Z"
    }
   },
   "id": "8e3c2d335df7e02a",
   "execution_count": 70
  },
  {
   "cell_type": "code",
   "outputs": [],
   "source": [
    "extra_airlines = []\n",
    "for i in economy[\"airline\"].unique():\n",
    "    if \" \" in i:\n",
    "        k = i.replace(\" \",\"_\")\n",
    "    else:\n",
    "        k = i\n",
    "    if k not in df_cleaned[\"airline\"].unique():\n",
    "        extra_airlines.append(k)"
   ],
   "metadata": {
    "collapsed": false,
    "ExecuteTime": {
     "end_time": "2024-01-01T02:52:52.207773Z",
     "start_time": "2024-01-01T02:52:52.147564Z"
    }
   },
   "id": "c87e1bbc81b2be87",
   "execution_count": 71
  },
  {
   "cell_type": "code",
   "outputs": [
    {
     "data": {
      "text/plain": "['Trujet', 'StarAir']"
     },
     "execution_count": 72,
     "metadata": {},
     "output_type": "execute_result"
    }
   ],
   "source": [
    "extra_airlines"
   ],
   "metadata": {
    "collapsed": false,
    "ExecuteTime": {
     "end_time": "2024-01-01T02:52:53.150367Z",
     "start_time": "2024-01-01T02:52:53.145710Z"
    }
   },
   "id": "e9f943612319f061",
   "execution_count": 72
  },
  {
   "cell_type": "code",
   "outputs": [],
   "source": [
    "df_cleaned_1 = df_cleaned.drop(columns=\"Unnamed: 0\")"
   ],
   "metadata": {
    "collapsed": false,
    "ExecuteTime": {
     "end_time": "2024-01-01T02:54:40.038214Z",
     "start_time": "2024-01-01T02:54:40.001398Z"
    }
   },
   "id": "d5e1a99da511de7d",
   "execution_count": 79
  },
  {
   "cell_type": "code",
   "outputs": [
    {
     "data": {
      "text/plain": "     airline  flight source_city departure_time  \\\n0     Trujet  2T-518      Mumbai          11:40   \n1     Trujet  2T-518      Mumbai          11:40   \n2     Trujet  2T-518      Mumbai          11:40   \n3     Trujet  2T-518      Mumbai          11:40   \n4     Trujet  2T-518      Mumbai          11:40   \n..       ...     ...         ...            ...   \n97    Trujet  2T-623   Hyderabad          08:35   \n98   StarAir  S5-152   Hyderabad          20:20   \n99    Trujet  2T-623   Hyderabad          08:35   \n100  StarAir  S5-152   Hyderabad          20:20   \n101  StarAir  S5-152   Hyderabad          20:20   \n\n                                                 stops arrival_time  \\\n0    1-stop\\n\\t\\t\\t\\t\\t\\t\\t\\t\\t\\t\\t\\t\\n\\t\\t\\t\\t\\t\\t...        19:00   \n1    1-stop\\n\\t\\t\\t\\t\\t\\t\\t\\t\\t\\t\\t\\t\\n\\t\\t\\t\\t\\t\\t...        19:00   \n2    1-stop\\n\\t\\t\\t\\t\\t\\t\\t\\t\\t\\t\\t\\t\\n\\t\\t\\t\\t\\t\\t...        19:00   \n3    1-stop\\n\\t\\t\\t\\t\\t\\t\\t\\t\\t\\t\\t\\t\\n\\t\\t\\t\\t\\t\\t...        19:00   \n4    1-stop\\n\\t\\t\\t\\t\\t\\t\\t\\t\\t\\t\\t\\t\\n\\t\\t\\t\\t\\t\\t...        19:00   \n..                                                 ...          ...   \n97   1-stop\\n\\t\\t\\t\\t\\t\\t\\t\\t\\t\\t\\t\\t\\n\\t\\t\\t\\t\\t\\t...        11:00   \n98                                           non-stop         21:25   \n99   1-stop\\n\\t\\t\\t\\t\\t\\t\\t\\t\\t\\t\\t\\t\\n\\t\\t\\t\\t\\t\\t...        11:00   \n100                                          non-stop         21:25   \n101                                          non-stop         21:25   \n\n    destination_city    class duration  days_left  price  \n0          Hyderabad  Economy   7h 20m        NaN  3,166  \n1          Hyderabad  Economy   7h 20m        NaN  3,166  \n2          Hyderabad  Economy   7h 20m        NaN  3,166  \n3          Hyderabad  Economy   7h 20m        NaN  3,166  \n4          Hyderabad  Economy   7h 20m        NaN  3,166  \n..               ...      ...      ...        ...    ...  \n97         Bangalore  Economy   2h 25m        NaN  3,196  \n98         Bangalore  Economy  01h 05m        NaN  2,115  \n99         Bangalore  Economy   2h 25m        NaN  3,196  \n100        Bangalore  Economy  01h 05m        NaN  2,115  \n101        Bangalore  Economy  01h 05m        NaN  2,115  \n\n[102 rows x 11 columns]",
      "text/html": "<div>\n<style scoped>\n    .dataframe tbody tr th:only-of-type {\n        vertical-align: middle;\n    }\n\n    .dataframe tbody tr th {\n        vertical-align: top;\n    }\n\n    .dataframe thead th {\n        text-align: right;\n    }\n</style>\n<table border=\"1\" class=\"dataframe\">\n  <thead>\n    <tr style=\"text-align: right;\">\n      <th></th>\n      <th>airline</th>\n      <th>flight</th>\n      <th>source_city</th>\n      <th>departure_time</th>\n      <th>stops</th>\n      <th>arrival_time</th>\n      <th>destination_city</th>\n      <th>class</th>\n      <th>duration</th>\n      <th>days_left</th>\n      <th>price</th>\n    </tr>\n  </thead>\n  <tbody>\n    <tr>\n      <th>0</th>\n      <td>Trujet</td>\n      <td>2T-518</td>\n      <td>Mumbai</td>\n      <td>11:40</td>\n      <td>1-stop\\n\\t\\t\\t\\t\\t\\t\\t\\t\\t\\t\\t\\t\\n\\t\\t\\t\\t\\t\\t...</td>\n      <td>19:00</td>\n      <td>Hyderabad</td>\n      <td>Economy</td>\n      <td>7h 20m</td>\n      <td>NaN</td>\n      <td>3,166</td>\n    </tr>\n    <tr>\n      <th>1</th>\n      <td>Trujet</td>\n      <td>2T-518</td>\n      <td>Mumbai</td>\n      <td>11:40</td>\n      <td>1-stop\\n\\t\\t\\t\\t\\t\\t\\t\\t\\t\\t\\t\\t\\n\\t\\t\\t\\t\\t\\t...</td>\n      <td>19:00</td>\n      <td>Hyderabad</td>\n      <td>Economy</td>\n      <td>7h 20m</td>\n      <td>NaN</td>\n      <td>3,166</td>\n    </tr>\n    <tr>\n      <th>2</th>\n      <td>Trujet</td>\n      <td>2T-518</td>\n      <td>Mumbai</td>\n      <td>11:40</td>\n      <td>1-stop\\n\\t\\t\\t\\t\\t\\t\\t\\t\\t\\t\\t\\t\\n\\t\\t\\t\\t\\t\\t...</td>\n      <td>19:00</td>\n      <td>Hyderabad</td>\n      <td>Economy</td>\n      <td>7h 20m</td>\n      <td>NaN</td>\n      <td>3,166</td>\n    </tr>\n    <tr>\n      <th>3</th>\n      <td>Trujet</td>\n      <td>2T-518</td>\n      <td>Mumbai</td>\n      <td>11:40</td>\n      <td>1-stop\\n\\t\\t\\t\\t\\t\\t\\t\\t\\t\\t\\t\\t\\n\\t\\t\\t\\t\\t\\t...</td>\n      <td>19:00</td>\n      <td>Hyderabad</td>\n      <td>Economy</td>\n      <td>7h 20m</td>\n      <td>NaN</td>\n      <td>3,166</td>\n    </tr>\n    <tr>\n      <th>4</th>\n      <td>Trujet</td>\n      <td>2T-518</td>\n      <td>Mumbai</td>\n      <td>11:40</td>\n      <td>1-stop\\n\\t\\t\\t\\t\\t\\t\\t\\t\\t\\t\\t\\t\\n\\t\\t\\t\\t\\t\\t...</td>\n      <td>19:00</td>\n      <td>Hyderabad</td>\n      <td>Economy</td>\n      <td>7h 20m</td>\n      <td>NaN</td>\n      <td>3,166</td>\n    </tr>\n    <tr>\n      <th>...</th>\n      <td>...</td>\n      <td>...</td>\n      <td>...</td>\n      <td>...</td>\n      <td>...</td>\n      <td>...</td>\n      <td>...</td>\n      <td>...</td>\n      <td>...</td>\n      <td>...</td>\n      <td>...</td>\n    </tr>\n    <tr>\n      <th>97</th>\n      <td>Trujet</td>\n      <td>2T-623</td>\n      <td>Hyderabad</td>\n      <td>08:35</td>\n      <td>1-stop\\n\\t\\t\\t\\t\\t\\t\\t\\t\\t\\t\\t\\t\\n\\t\\t\\t\\t\\t\\t...</td>\n      <td>11:00</td>\n      <td>Bangalore</td>\n      <td>Economy</td>\n      <td>2h 25m</td>\n      <td>NaN</td>\n      <td>3,196</td>\n    </tr>\n    <tr>\n      <th>98</th>\n      <td>StarAir</td>\n      <td>S5-152</td>\n      <td>Hyderabad</td>\n      <td>20:20</td>\n      <td>non-stop</td>\n      <td>21:25</td>\n      <td>Bangalore</td>\n      <td>Economy</td>\n      <td>01h 05m</td>\n      <td>NaN</td>\n      <td>2,115</td>\n    </tr>\n    <tr>\n      <th>99</th>\n      <td>Trujet</td>\n      <td>2T-623</td>\n      <td>Hyderabad</td>\n      <td>08:35</td>\n      <td>1-stop\\n\\t\\t\\t\\t\\t\\t\\t\\t\\t\\t\\t\\t\\n\\t\\t\\t\\t\\t\\t...</td>\n      <td>11:00</td>\n      <td>Bangalore</td>\n      <td>Economy</td>\n      <td>2h 25m</td>\n      <td>NaN</td>\n      <td>3,196</td>\n    </tr>\n    <tr>\n      <th>100</th>\n      <td>StarAir</td>\n      <td>S5-152</td>\n      <td>Hyderabad</td>\n      <td>20:20</td>\n      <td>non-stop</td>\n      <td>21:25</td>\n      <td>Bangalore</td>\n      <td>Economy</td>\n      <td>01h 05m</td>\n      <td>NaN</td>\n      <td>2,115</td>\n    </tr>\n    <tr>\n      <th>101</th>\n      <td>StarAir</td>\n      <td>S5-152</td>\n      <td>Hyderabad</td>\n      <td>20:20</td>\n      <td>non-stop</td>\n      <td>21:25</td>\n      <td>Bangalore</td>\n      <td>Economy</td>\n      <td>01h 05m</td>\n      <td>NaN</td>\n      <td>2,115</td>\n    </tr>\n  </tbody>\n</table>\n<p>102 rows × 11 columns</p>\n</div>"
     },
     "execution_count": 82,
     "metadata": {},
     "output_type": "execute_result"
    }
   ],
   "source": [
    "pp = False\n",
    "for i in extra_airlines:\n",
    "    pp = (pp  | (economy[\"airline\"] == i))\n",
    "qq = economy[pp].copy().reset_index(drop=True).drop(columns=\"date\")\n",
    "qq_1 = qq.copy()\n",
    "qq_1[\"flight\"] = list(map((lambda x,y: x + \"-\" + str(y)),qq[\"ch_code\"],qq[\"num_code\"]))\n",
    "qq_2 = qq_1.drop(columns=[\"ch_code\",\"num_code\"])\n",
    "qq_2[\"class\"] = \"Economy\"\n",
    "qq_2[\"days_left\"] = np.nan\n",
    "col_dict = {\n",
    "    \"from\":\"source_city\",\n",
    "    \"dep_time\":\"departure_time\",\n",
    "    \"stop\":\"stops\",\n",
    "    \"arr_time\":\"arrival_time\",\n",
    "    \"to\":\"destination_city\",\n",
    "    \"time_taken\":\"duration\",\n",
    "}\n",
    "qq_2 = qq_2.rename(columns=col_dict)\n",
    "qq_2 = qq_2[df_cleaned_1.columns.values]\n",
    "qq_2"
   ],
   "metadata": {
    "collapsed": false,
    "ExecuteTime": {
     "end_time": "2024-01-01T02:55:30.218973Z",
     "start_time": "2024-01-01T02:55:30.198258Z"
    }
   },
   "id": "2a6ff892174df4e8",
   "execution_count": 82
  },
  {
   "cell_type": "code",
   "outputs": [],
   "source": [
    "def convert_time_to_phases(hr):\n",
    "    phase = \"\"\n",
    "    if hr in range(0,4):\n",
    "        phase = \"Late_Night\"\n",
    "    elif hr in range(4,8):\n",
    "        phase = \"Early_Morning\"\n",
    "    elif hr in range(8,12):\n",
    "        phase = \"Morning\"\n",
    "    elif hr in range(12,16):\n",
    "        phase = \"Afternoon\"\n",
    "    elif hr in range(16,20):\n",
    "        phase = \"Evening\"\n",
    "    elif hr in range(20,24):\n",
    "        phase = \"Night\"\n",
    "    return phase"
   ],
   "metadata": {
    "collapsed": false,
    "ExecuteTime": {
     "end_time": "2024-01-01T03:02:33.562513Z",
     "start_time": "2024-01-01T03:02:33.559326Z"
    }
   },
   "id": "e845fa9856f3c17b",
   "execution_count": 88
  },
  {
   "cell_type": "code",
   "outputs": [
    {
     "data": {
      "text/plain": "     airline  flight source_city departure_time  \\\n0     Trujet  2T-518      Mumbai        Morning   \n1     Trujet  2T-518      Mumbai        Morning   \n2     Trujet  2T-518      Mumbai        Morning   \n3     Trujet  2T-518      Mumbai        Morning   \n4     Trujet  2T-518      Mumbai        Morning   \n..       ...     ...         ...            ...   \n97    Trujet  2T-623   Hyderabad        Morning   \n98   StarAir  S5-152   Hyderabad          Night   \n99    Trujet  2T-623   Hyderabad        Morning   \n100  StarAir  S5-152   Hyderabad          Night   \n101  StarAir  S5-152   Hyderabad          Night   \n\n                                                 stops arrival_time  \\\n0    1-stop\\n\\t\\t\\t\\t\\t\\t\\t\\t\\t\\t\\t\\t\\n\\t\\t\\t\\t\\t\\t...      Evening   \n1    1-stop\\n\\t\\t\\t\\t\\t\\t\\t\\t\\t\\t\\t\\t\\n\\t\\t\\t\\t\\t\\t...      Evening   \n2    1-stop\\n\\t\\t\\t\\t\\t\\t\\t\\t\\t\\t\\t\\t\\n\\t\\t\\t\\t\\t\\t...      Evening   \n3    1-stop\\n\\t\\t\\t\\t\\t\\t\\t\\t\\t\\t\\t\\t\\n\\t\\t\\t\\t\\t\\t...      Evening   \n4    1-stop\\n\\t\\t\\t\\t\\t\\t\\t\\t\\t\\t\\t\\t\\n\\t\\t\\t\\t\\t\\t...      Evening   \n..                                                 ...          ...   \n97   1-stop\\n\\t\\t\\t\\t\\t\\t\\t\\t\\t\\t\\t\\t\\n\\t\\t\\t\\t\\t\\t...      Morning   \n98                                           non-stop         Night   \n99   1-stop\\n\\t\\t\\t\\t\\t\\t\\t\\t\\t\\t\\t\\t\\n\\t\\t\\t\\t\\t\\t...      Morning   \n100                                          non-stop         Night   \n101                                          non-stop         Night   \n\n    destination_city    class duration  days_left  price  \n0          Hyderabad  Economy   7h 20m        NaN  3,166  \n1          Hyderabad  Economy   7h 20m        NaN  3,166  \n2          Hyderabad  Economy   7h 20m        NaN  3,166  \n3          Hyderabad  Economy   7h 20m        NaN  3,166  \n4          Hyderabad  Economy   7h 20m        NaN  3,166  \n..               ...      ...      ...        ...    ...  \n97         Bangalore  Economy   2h 25m        NaN  3,196  \n98         Bangalore  Economy  01h 05m        NaN  2,115  \n99         Bangalore  Economy   2h 25m        NaN  3,196  \n100        Bangalore  Economy  01h 05m        NaN  2,115  \n101        Bangalore  Economy  01h 05m        NaN  2,115  \n\n[102 rows x 11 columns]",
      "text/html": "<div>\n<style scoped>\n    .dataframe tbody tr th:only-of-type {\n        vertical-align: middle;\n    }\n\n    .dataframe tbody tr th {\n        vertical-align: top;\n    }\n\n    .dataframe thead th {\n        text-align: right;\n    }\n</style>\n<table border=\"1\" class=\"dataframe\">\n  <thead>\n    <tr style=\"text-align: right;\">\n      <th></th>\n      <th>airline</th>\n      <th>flight</th>\n      <th>source_city</th>\n      <th>departure_time</th>\n      <th>stops</th>\n      <th>arrival_time</th>\n      <th>destination_city</th>\n      <th>class</th>\n      <th>duration</th>\n      <th>days_left</th>\n      <th>price</th>\n    </tr>\n  </thead>\n  <tbody>\n    <tr>\n      <th>0</th>\n      <td>Trujet</td>\n      <td>2T-518</td>\n      <td>Mumbai</td>\n      <td>Morning</td>\n      <td>1-stop\\n\\t\\t\\t\\t\\t\\t\\t\\t\\t\\t\\t\\t\\n\\t\\t\\t\\t\\t\\t...</td>\n      <td>Evening</td>\n      <td>Hyderabad</td>\n      <td>Economy</td>\n      <td>7h 20m</td>\n      <td>NaN</td>\n      <td>3,166</td>\n    </tr>\n    <tr>\n      <th>1</th>\n      <td>Trujet</td>\n      <td>2T-518</td>\n      <td>Mumbai</td>\n      <td>Morning</td>\n      <td>1-stop\\n\\t\\t\\t\\t\\t\\t\\t\\t\\t\\t\\t\\t\\n\\t\\t\\t\\t\\t\\t...</td>\n      <td>Evening</td>\n      <td>Hyderabad</td>\n      <td>Economy</td>\n      <td>7h 20m</td>\n      <td>NaN</td>\n      <td>3,166</td>\n    </tr>\n    <tr>\n      <th>2</th>\n      <td>Trujet</td>\n      <td>2T-518</td>\n      <td>Mumbai</td>\n      <td>Morning</td>\n      <td>1-stop\\n\\t\\t\\t\\t\\t\\t\\t\\t\\t\\t\\t\\t\\n\\t\\t\\t\\t\\t\\t...</td>\n      <td>Evening</td>\n      <td>Hyderabad</td>\n      <td>Economy</td>\n      <td>7h 20m</td>\n      <td>NaN</td>\n      <td>3,166</td>\n    </tr>\n    <tr>\n      <th>3</th>\n      <td>Trujet</td>\n      <td>2T-518</td>\n      <td>Mumbai</td>\n      <td>Morning</td>\n      <td>1-stop\\n\\t\\t\\t\\t\\t\\t\\t\\t\\t\\t\\t\\t\\n\\t\\t\\t\\t\\t\\t...</td>\n      <td>Evening</td>\n      <td>Hyderabad</td>\n      <td>Economy</td>\n      <td>7h 20m</td>\n      <td>NaN</td>\n      <td>3,166</td>\n    </tr>\n    <tr>\n      <th>4</th>\n      <td>Trujet</td>\n      <td>2T-518</td>\n      <td>Mumbai</td>\n      <td>Morning</td>\n      <td>1-stop\\n\\t\\t\\t\\t\\t\\t\\t\\t\\t\\t\\t\\t\\n\\t\\t\\t\\t\\t\\t...</td>\n      <td>Evening</td>\n      <td>Hyderabad</td>\n      <td>Economy</td>\n      <td>7h 20m</td>\n      <td>NaN</td>\n      <td>3,166</td>\n    </tr>\n    <tr>\n      <th>...</th>\n      <td>...</td>\n      <td>...</td>\n      <td>...</td>\n      <td>...</td>\n      <td>...</td>\n      <td>...</td>\n      <td>...</td>\n      <td>...</td>\n      <td>...</td>\n      <td>...</td>\n      <td>...</td>\n    </tr>\n    <tr>\n      <th>97</th>\n      <td>Trujet</td>\n      <td>2T-623</td>\n      <td>Hyderabad</td>\n      <td>Morning</td>\n      <td>1-stop\\n\\t\\t\\t\\t\\t\\t\\t\\t\\t\\t\\t\\t\\n\\t\\t\\t\\t\\t\\t...</td>\n      <td>Morning</td>\n      <td>Bangalore</td>\n      <td>Economy</td>\n      <td>2h 25m</td>\n      <td>NaN</td>\n      <td>3,196</td>\n    </tr>\n    <tr>\n      <th>98</th>\n      <td>StarAir</td>\n      <td>S5-152</td>\n      <td>Hyderabad</td>\n      <td>Night</td>\n      <td>non-stop</td>\n      <td>Night</td>\n      <td>Bangalore</td>\n      <td>Economy</td>\n      <td>01h 05m</td>\n      <td>NaN</td>\n      <td>2,115</td>\n    </tr>\n    <tr>\n      <th>99</th>\n      <td>Trujet</td>\n      <td>2T-623</td>\n      <td>Hyderabad</td>\n      <td>Morning</td>\n      <td>1-stop\\n\\t\\t\\t\\t\\t\\t\\t\\t\\t\\t\\t\\t\\n\\t\\t\\t\\t\\t\\t...</td>\n      <td>Morning</td>\n      <td>Bangalore</td>\n      <td>Economy</td>\n      <td>2h 25m</td>\n      <td>NaN</td>\n      <td>3,196</td>\n    </tr>\n    <tr>\n      <th>100</th>\n      <td>StarAir</td>\n      <td>S5-152</td>\n      <td>Hyderabad</td>\n      <td>Night</td>\n      <td>non-stop</td>\n      <td>Night</td>\n      <td>Bangalore</td>\n      <td>Economy</td>\n      <td>01h 05m</td>\n      <td>NaN</td>\n      <td>2,115</td>\n    </tr>\n    <tr>\n      <th>101</th>\n      <td>StarAir</td>\n      <td>S5-152</td>\n      <td>Hyderabad</td>\n      <td>Night</td>\n      <td>non-stop</td>\n      <td>Night</td>\n      <td>Bangalore</td>\n      <td>Economy</td>\n      <td>01h 05m</td>\n      <td>NaN</td>\n      <td>2,115</td>\n    </tr>\n  </tbody>\n</table>\n<p>102 rows × 11 columns</p>\n</div>"
     },
     "execution_count": 89,
     "metadata": {},
     "output_type": "execute_result"
    }
   ],
   "source": [
    "qq_3 = qq_2.copy()\n",
    "a = pd.to_datetime(qq_2[\"departure_time\"]).dt.hour\n",
    "b = pd.to_datetime(qq_2[\"arrival_time\"]).dt.hour\n",
    "qq_3[\"departure_time\"] = list(map(lambda x: convert_time_to_phases(x),a))\n",
    "qq_3[\"arrival_time\"] = list(map(lambda x: convert_time_to_phases(x),b))\n",
    "qq_3"
   ],
   "metadata": {
    "collapsed": false,
    "ExecuteTime": {
     "end_time": "2024-01-01T03:02:34.143397Z",
     "start_time": "2024-01-01T03:02:34.128686Z"
    }
   },
   "id": "98a526a062eaa898",
   "execution_count": 89
  },
  {
   "cell_type": "code",
   "outputs": [
    {
     "data": {
      "text/plain": "     airline  flight source_city departure_time      stops arrival_time  \\\n0     Trujet  2T-518      Mumbai        Morning     1-stop      Evening   \n1     Trujet  2T-518      Mumbai        Morning     1-stop      Evening   \n2     Trujet  2T-518      Mumbai        Morning     1-stop      Evening   \n3     Trujet  2T-518      Mumbai        Morning     1-stop      Evening   \n4     Trujet  2T-518      Mumbai        Morning     1-stop      Evening   \n..       ...     ...         ...            ...        ...          ...   \n97    Trujet  2T-623   Hyderabad        Morning     1-stop      Morning   \n98   StarAir  S5-152   Hyderabad          Night  non-stop         Night   \n99    Trujet  2T-623   Hyderabad        Morning     1-stop      Morning   \n100  StarAir  S5-152   Hyderabad          Night  non-stop         Night   \n101  StarAir  S5-152   Hyderabad          Night  non-stop         Night   \n\n    destination_city    class  duration  days_left  price  \n0          Hyderabad  Economy      7.33        NaN   3166  \n1          Hyderabad  Economy      7.33        NaN   3166  \n2          Hyderabad  Economy      7.33        NaN   3166  \n3          Hyderabad  Economy      7.33        NaN   3166  \n4          Hyderabad  Economy      7.33        NaN   3166  \n..               ...      ...       ...        ...    ...  \n97         Bangalore  Economy      2.42        NaN   3196  \n98         Bangalore  Economy      1.08        NaN   2115  \n99         Bangalore  Economy      2.42        NaN   3196  \n100        Bangalore  Economy      1.08        NaN   2115  \n101        Bangalore  Economy      1.08        NaN   2115  \n\n[102 rows x 11 columns]",
      "text/html": "<div>\n<style scoped>\n    .dataframe tbody tr th:only-of-type {\n        vertical-align: middle;\n    }\n\n    .dataframe tbody tr th {\n        vertical-align: top;\n    }\n\n    .dataframe thead th {\n        text-align: right;\n    }\n</style>\n<table border=\"1\" class=\"dataframe\">\n  <thead>\n    <tr style=\"text-align: right;\">\n      <th></th>\n      <th>airline</th>\n      <th>flight</th>\n      <th>source_city</th>\n      <th>departure_time</th>\n      <th>stops</th>\n      <th>arrival_time</th>\n      <th>destination_city</th>\n      <th>class</th>\n      <th>duration</th>\n      <th>days_left</th>\n      <th>price</th>\n    </tr>\n  </thead>\n  <tbody>\n    <tr>\n      <th>0</th>\n      <td>Trujet</td>\n      <td>2T-518</td>\n      <td>Mumbai</td>\n      <td>Morning</td>\n      <td>1-stop</td>\n      <td>Evening</td>\n      <td>Hyderabad</td>\n      <td>Economy</td>\n      <td>7.33</td>\n      <td>NaN</td>\n      <td>3166</td>\n    </tr>\n    <tr>\n      <th>1</th>\n      <td>Trujet</td>\n      <td>2T-518</td>\n      <td>Mumbai</td>\n      <td>Morning</td>\n      <td>1-stop</td>\n      <td>Evening</td>\n      <td>Hyderabad</td>\n      <td>Economy</td>\n      <td>7.33</td>\n      <td>NaN</td>\n      <td>3166</td>\n    </tr>\n    <tr>\n      <th>2</th>\n      <td>Trujet</td>\n      <td>2T-518</td>\n      <td>Mumbai</td>\n      <td>Morning</td>\n      <td>1-stop</td>\n      <td>Evening</td>\n      <td>Hyderabad</td>\n      <td>Economy</td>\n      <td>7.33</td>\n      <td>NaN</td>\n      <td>3166</td>\n    </tr>\n    <tr>\n      <th>3</th>\n      <td>Trujet</td>\n      <td>2T-518</td>\n      <td>Mumbai</td>\n      <td>Morning</td>\n      <td>1-stop</td>\n      <td>Evening</td>\n      <td>Hyderabad</td>\n      <td>Economy</td>\n      <td>7.33</td>\n      <td>NaN</td>\n      <td>3166</td>\n    </tr>\n    <tr>\n      <th>4</th>\n      <td>Trujet</td>\n      <td>2T-518</td>\n      <td>Mumbai</td>\n      <td>Morning</td>\n      <td>1-stop</td>\n      <td>Evening</td>\n      <td>Hyderabad</td>\n      <td>Economy</td>\n      <td>7.33</td>\n      <td>NaN</td>\n      <td>3166</td>\n    </tr>\n    <tr>\n      <th>...</th>\n      <td>...</td>\n      <td>...</td>\n      <td>...</td>\n      <td>...</td>\n      <td>...</td>\n      <td>...</td>\n      <td>...</td>\n      <td>...</td>\n      <td>...</td>\n      <td>...</td>\n      <td>...</td>\n    </tr>\n    <tr>\n      <th>97</th>\n      <td>Trujet</td>\n      <td>2T-623</td>\n      <td>Hyderabad</td>\n      <td>Morning</td>\n      <td>1-stop</td>\n      <td>Morning</td>\n      <td>Bangalore</td>\n      <td>Economy</td>\n      <td>2.42</td>\n      <td>NaN</td>\n      <td>3196</td>\n    </tr>\n    <tr>\n      <th>98</th>\n      <td>StarAir</td>\n      <td>S5-152</td>\n      <td>Hyderabad</td>\n      <td>Night</td>\n      <td>non-stop</td>\n      <td>Night</td>\n      <td>Bangalore</td>\n      <td>Economy</td>\n      <td>1.08</td>\n      <td>NaN</td>\n      <td>2115</td>\n    </tr>\n    <tr>\n      <th>99</th>\n      <td>Trujet</td>\n      <td>2T-623</td>\n      <td>Hyderabad</td>\n      <td>Morning</td>\n      <td>1-stop</td>\n      <td>Morning</td>\n      <td>Bangalore</td>\n      <td>Economy</td>\n      <td>2.42</td>\n      <td>NaN</td>\n      <td>3196</td>\n    </tr>\n    <tr>\n      <th>100</th>\n      <td>StarAir</td>\n      <td>S5-152</td>\n      <td>Hyderabad</td>\n      <td>Night</td>\n      <td>non-stop</td>\n      <td>Night</td>\n      <td>Bangalore</td>\n      <td>Economy</td>\n      <td>1.08</td>\n      <td>NaN</td>\n      <td>2115</td>\n    </tr>\n    <tr>\n      <th>101</th>\n      <td>StarAir</td>\n      <td>S5-152</td>\n      <td>Hyderabad</td>\n      <td>Night</td>\n      <td>non-stop</td>\n      <td>Night</td>\n      <td>Bangalore</td>\n      <td>Economy</td>\n      <td>1.08</td>\n      <td>NaN</td>\n      <td>2115</td>\n    </tr>\n  </tbody>\n</table>\n<p>102 rows × 11 columns</p>\n</div>"
     },
     "execution_count": 99,
     "metadata": {},
     "output_type": "execute_result"
    }
   ],
   "source": [
    "qq_4 = qq_3.copy()\n",
    "qq_4[\"stops\"] = list(map(lambda x: x.replace(\"\\n\",\"\").replace(\"\\t\",\"\"),qq_3[\"stops\"]))\n",
    "qq_4[\"duration\"].unique()\n",
    "def clean_time(ti):\n",
    "    ti = ti.split(\" \")\n",
    "    hr = float(ti[0].replace(\"h\",\"\"))\n",
    "    min = float(ti[1].replace(\"m\",\"\"))\n",
    "    total_time = round((hr + (min/60)),2)\n",
    "    return total_time\n",
    "qq_4[\"duration\"] = list(map(lambda x: clean_time(x),qq_3[\"duration\"]))\n",
    "qq_4[\"price\"] = list(map(lambda x: int(x.replace(\",\",\"\")),qq_3[\"price\"]))\n",
    "qq_4"
   ],
   "metadata": {
    "collapsed": false,
    "ExecuteTime": {
     "end_time": "2024-01-01T03:10:56.979833Z",
     "start_time": "2024-01-01T03:10:56.968108Z"
    }
   },
   "id": "39ae6381a9c107b5",
   "execution_count": 99
  },
  {
   "cell_type": "code",
   "outputs": [
    {
     "data": {
      "text/plain": "         index   airline   flight source_city departure_time      stops  \\\n0            0  SpiceJet  SG-8709       Delhi        Evening       zero   \n1            1  SpiceJet  SG-8157       Delhi  Early_Morning       zero   \n2            2   AirAsia   I5-764       Delhi  Early_Morning       zero   \n3            3   Vistara   UK-995       Delhi        Morning       zero   \n4            4   Vistara   UK-963       Delhi        Morning       zero   \n...        ...       ...      ...         ...            ...        ...   \n300250  300250    Trujet   2T-623   Hyderabad        Morning     1-stop   \n300251  300251   StarAir   S5-152   Hyderabad          Night  non-stop    \n300252  300252    Trujet   2T-623   Hyderabad        Morning     1-stop   \n300253  300253   StarAir   S5-152   Hyderabad          Night  non-stop    \n300254  300254   StarAir   S5-152   Hyderabad          Night  non-stop    \n\n         arrival_time destination_city    class  duration  days_left  price  \n0               Night           Mumbai  Economy      2.17        1.0   5953  \n1             Morning           Mumbai  Economy      2.33        1.0   5953  \n2       Early_Morning           Mumbai  Economy      2.17        1.0   5956  \n3           Afternoon           Mumbai  Economy      2.25        1.0   5955  \n4             Morning           Mumbai  Economy      2.33        1.0   5955  \n...               ...              ...      ...       ...        ...    ...  \n300250        Morning        Bangalore  Economy      2.42       26.0   3196  \n300251          Night        Bangalore  Economy      1.08       26.0   2115  \n300252        Morning        Bangalore  Economy      2.42       26.0   3196  \n300253          Night        Bangalore  Economy      1.08       26.0   2115  \n300254          Night        Bangalore  Economy      1.08       26.0   2115  \n\n[300255 rows x 12 columns]",
      "text/html": "<div>\n<style scoped>\n    .dataframe tbody tr th:only-of-type {\n        vertical-align: middle;\n    }\n\n    .dataframe tbody tr th {\n        vertical-align: top;\n    }\n\n    .dataframe thead th {\n        text-align: right;\n    }\n</style>\n<table border=\"1\" class=\"dataframe\">\n  <thead>\n    <tr style=\"text-align: right;\">\n      <th></th>\n      <th>index</th>\n      <th>airline</th>\n      <th>flight</th>\n      <th>source_city</th>\n      <th>departure_time</th>\n      <th>stops</th>\n      <th>arrival_time</th>\n      <th>destination_city</th>\n      <th>class</th>\n      <th>duration</th>\n      <th>days_left</th>\n      <th>price</th>\n    </tr>\n  </thead>\n  <tbody>\n    <tr>\n      <th>0</th>\n      <td>0</td>\n      <td>SpiceJet</td>\n      <td>SG-8709</td>\n      <td>Delhi</td>\n      <td>Evening</td>\n      <td>zero</td>\n      <td>Night</td>\n      <td>Mumbai</td>\n      <td>Economy</td>\n      <td>2.17</td>\n      <td>1.0</td>\n      <td>5953</td>\n    </tr>\n    <tr>\n      <th>1</th>\n      <td>1</td>\n      <td>SpiceJet</td>\n      <td>SG-8157</td>\n      <td>Delhi</td>\n      <td>Early_Morning</td>\n      <td>zero</td>\n      <td>Morning</td>\n      <td>Mumbai</td>\n      <td>Economy</td>\n      <td>2.33</td>\n      <td>1.0</td>\n      <td>5953</td>\n    </tr>\n    <tr>\n      <th>2</th>\n      <td>2</td>\n      <td>AirAsia</td>\n      <td>I5-764</td>\n      <td>Delhi</td>\n      <td>Early_Morning</td>\n      <td>zero</td>\n      <td>Early_Morning</td>\n      <td>Mumbai</td>\n      <td>Economy</td>\n      <td>2.17</td>\n      <td>1.0</td>\n      <td>5956</td>\n    </tr>\n    <tr>\n      <th>3</th>\n      <td>3</td>\n      <td>Vistara</td>\n      <td>UK-995</td>\n      <td>Delhi</td>\n      <td>Morning</td>\n      <td>zero</td>\n      <td>Afternoon</td>\n      <td>Mumbai</td>\n      <td>Economy</td>\n      <td>2.25</td>\n      <td>1.0</td>\n      <td>5955</td>\n    </tr>\n    <tr>\n      <th>4</th>\n      <td>4</td>\n      <td>Vistara</td>\n      <td>UK-963</td>\n      <td>Delhi</td>\n      <td>Morning</td>\n      <td>zero</td>\n      <td>Morning</td>\n      <td>Mumbai</td>\n      <td>Economy</td>\n      <td>2.33</td>\n      <td>1.0</td>\n      <td>5955</td>\n    </tr>\n    <tr>\n      <th>...</th>\n      <td>...</td>\n      <td>...</td>\n      <td>...</td>\n      <td>...</td>\n      <td>...</td>\n      <td>...</td>\n      <td>...</td>\n      <td>...</td>\n      <td>...</td>\n      <td>...</td>\n      <td>...</td>\n      <td>...</td>\n    </tr>\n    <tr>\n      <th>300250</th>\n      <td>300250</td>\n      <td>Trujet</td>\n      <td>2T-623</td>\n      <td>Hyderabad</td>\n      <td>Morning</td>\n      <td>1-stop</td>\n      <td>Morning</td>\n      <td>Bangalore</td>\n      <td>Economy</td>\n      <td>2.42</td>\n      <td>26.0</td>\n      <td>3196</td>\n    </tr>\n    <tr>\n      <th>300251</th>\n      <td>300251</td>\n      <td>StarAir</td>\n      <td>S5-152</td>\n      <td>Hyderabad</td>\n      <td>Night</td>\n      <td>non-stop</td>\n      <td>Night</td>\n      <td>Bangalore</td>\n      <td>Economy</td>\n      <td>1.08</td>\n      <td>26.0</td>\n      <td>2115</td>\n    </tr>\n    <tr>\n      <th>300252</th>\n      <td>300252</td>\n      <td>Trujet</td>\n      <td>2T-623</td>\n      <td>Hyderabad</td>\n      <td>Morning</td>\n      <td>1-stop</td>\n      <td>Morning</td>\n      <td>Bangalore</td>\n      <td>Economy</td>\n      <td>2.42</td>\n      <td>26.0</td>\n      <td>3196</td>\n    </tr>\n    <tr>\n      <th>300253</th>\n      <td>300253</td>\n      <td>StarAir</td>\n      <td>S5-152</td>\n      <td>Hyderabad</td>\n      <td>Night</td>\n      <td>non-stop</td>\n      <td>Night</td>\n      <td>Bangalore</td>\n      <td>Economy</td>\n      <td>1.08</td>\n      <td>26.0</td>\n      <td>2115</td>\n    </tr>\n    <tr>\n      <th>300254</th>\n      <td>300254</td>\n      <td>StarAir</td>\n      <td>S5-152</td>\n      <td>Hyderabad</td>\n      <td>Night</td>\n      <td>non-stop</td>\n      <td>Night</td>\n      <td>Bangalore</td>\n      <td>Economy</td>\n      <td>1.08</td>\n      <td>26.0</td>\n      <td>2115</td>\n    </tr>\n  </tbody>\n</table>\n<p>300255 rows × 12 columns</p>\n</div>"
     },
     "execution_count": 109,
     "metadata": {},
     "output_type": "execute_result"
    }
   ],
   "source": [
    "df = pd.concat([df_cleaned_1,qq_4],axis=0,ignore_index=True).reset_index()\n",
    "df[\"days_left\"] = df[\"days_left\"].fillna(df[\"days_left\"].median())\n",
    "df"
   ],
   "metadata": {
    "collapsed": false,
    "ExecuteTime": {
     "end_time": "2024-01-01T03:14:17.413631Z",
     "start_time": "2024-01-01T03:14:17.302799Z"
    }
   },
   "id": "5efb85850b07c79b",
   "execution_count": 109
  },
  {
   "cell_type": "code",
   "outputs": [
    {
     "data": {
      "text/plain": "       source_city departure_time      stops   arrival_time destination_city  \\\n0            Delhi        Evening       zero          Night           Mumbai   \n1            Delhi  Early_Morning       zero        Morning           Mumbai   \n2            Delhi  Early_Morning       zero  Early_Morning           Mumbai   \n3            Delhi        Morning       zero      Afternoon           Mumbai   \n4            Delhi        Morning       zero        Morning           Mumbai   \n...            ...            ...        ...            ...              ...   \n300250   Hyderabad        Morning     1-stop        Morning        Bangalore   \n300251   Hyderabad          Night  non-stop           Night        Bangalore   \n300252   Hyderabad        Morning     1-stop        Morning        Bangalore   \n300253   Hyderabad          Night  non-stop           Night        Bangalore   \n300254   Hyderabad          Night  non-stop           Night        Bangalore   \n\n          class  duration  days_left  price  \n0       Economy      2.17        1.0   5953  \n1       Economy      2.33        1.0   5953  \n2       Economy      2.17        1.0   5956  \n3       Economy      2.25        1.0   5955  \n4       Economy      2.33        1.0   5955  \n...         ...       ...        ...    ...  \n300250  Economy      2.42       26.0   3196  \n300251  Economy      1.08       26.0   2115  \n300252  Economy      2.42       26.0   3196  \n300253  Economy      1.08       26.0   2115  \n300254  Economy      1.08       26.0   2115  \n\n[300255 rows x 9 columns]",
      "text/html": "<div>\n<style scoped>\n    .dataframe tbody tr th:only-of-type {\n        vertical-align: middle;\n    }\n\n    .dataframe tbody tr th {\n        vertical-align: top;\n    }\n\n    .dataframe thead th {\n        text-align: right;\n    }\n</style>\n<table border=\"1\" class=\"dataframe\">\n  <thead>\n    <tr style=\"text-align: right;\">\n      <th></th>\n      <th>source_city</th>\n      <th>departure_time</th>\n      <th>stops</th>\n      <th>arrival_time</th>\n      <th>destination_city</th>\n      <th>class</th>\n      <th>duration</th>\n      <th>days_left</th>\n      <th>price</th>\n    </tr>\n  </thead>\n  <tbody>\n    <tr>\n      <th>0</th>\n      <td>Delhi</td>\n      <td>Evening</td>\n      <td>zero</td>\n      <td>Night</td>\n      <td>Mumbai</td>\n      <td>Economy</td>\n      <td>2.17</td>\n      <td>1.0</td>\n      <td>5953</td>\n    </tr>\n    <tr>\n      <th>1</th>\n      <td>Delhi</td>\n      <td>Early_Morning</td>\n      <td>zero</td>\n      <td>Morning</td>\n      <td>Mumbai</td>\n      <td>Economy</td>\n      <td>2.33</td>\n      <td>1.0</td>\n      <td>5953</td>\n    </tr>\n    <tr>\n      <th>2</th>\n      <td>Delhi</td>\n      <td>Early_Morning</td>\n      <td>zero</td>\n      <td>Early_Morning</td>\n      <td>Mumbai</td>\n      <td>Economy</td>\n      <td>2.17</td>\n      <td>1.0</td>\n      <td>5956</td>\n    </tr>\n    <tr>\n      <th>3</th>\n      <td>Delhi</td>\n      <td>Morning</td>\n      <td>zero</td>\n      <td>Afternoon</td>\n      <td>Mumbai</td>\n      <td>Economy</td>\n      <td>2.25</td>\n      <td>1.0</td>\n      <td>5955</td>\n    </tr>\n    <tr>\n      <th>4</th>\n      <td>Delhi</td>\n      <td>Morning</td>\n      <td>zero</td>\n      <td>Morning</td>\n      <td>Mumbai</td>\n      <td>Economy</td>\n      <td>2.33</td>\n      <td>1.0</td>\n      <td>5955</td>\n    </tr>\n    <tr>\n      <th>...</th>\n      <td>...</td>\n      <td>...</td>\n      <td>...</td>\n      <td>...</td>\n      <td>...</td>\n      <td>...</td>\n      <td>...</td>\n      <td>...</td>\n      <td>...</td>\n    </tr>\n    <tr>\n      <th>300250</th>\n      <td>Hyderabad</td>\n      <td>Morning</td>\n      <td>1-stop</td>\n      <td>Morning</td>\n      <td>Bangalore</td>\n      <td>Economy</td>\n      <td>2.42</td>\n      <td>26.0</td>\n      <td>3196</td>\n    </tr>\n    <tr>\n      <th>300251</th>\n      <td>Hyderabad</td>\n      <td>Night</td>\n      <td>non-stop</td>\n      <td>Night</td>\n      <td>Bangalore</td>\n      <td>Economy</td>\n      <td>1.08</td>\n      <td>26.0</td>\n      <td>2115</td>\n    </tr>\n    <tr>\n      <th>300252</th>\n      <td>Hyderabad</td>\n      <td>Morning</td>\n      <td>1-stop</td>\n      <td>Morning</td>\n      <td>Bangalore</td>\n      <td>Economy</td>\n      <td>2.42</td>\n      <td>26.0</td>\n      <td>3196</td>\n    </tr>\n    <tr>\n      <th>300253</th>\n      <td>Hyderabad</td>\n      <td>Night</td>\n      <td>non-stop</td>\n      <td>Night</td>\n      <td>Bangalore</td>\n      <td>Economy</td>\n      <td>1.08</td>\n      <td>26.0</td>\n      <td>2115</td>\n    </tr>\n    <tr>\n      <th>300254</th>\n      <td>Hyderabad</td>\n      <td>Night</td>\n      <td>non-stop</td>\n      <td>Night</td>\n      <td>Bangalore</td>\n      <td>Economy</td>\n      <td>1.08</td>\n      <td>26.0</td>\n      <td>2115</td>\n    </tr>\n  </tbody>\n</table>\n<p>300255 rows × 9 columns</p>\n</div>"
     },
     "execution_count": 110,
     "metadata": {},
     "output_type": "execute_result"
    }
   ],
   "source": [
    "df_1 = df.drop(columns=[\"index\",\"airline\",\"flight\"])\n",
    "df_1"
   ],
   "metadata": {
    "collapsed": false,
    "ExecuteTime": {
     "end_time": "2024-01-01T03:15:31.349712Z",
     "start_time": "2024-01-01T03:15:31.323421Z"
    }
   },
   "id": "1f34026ca93ee14b",
   "execution_count": 110
  },
  {
   "cell_type": "code",
   "outputs": [
    {
     "name": "stdout",
     "output_type": "stream",
     "text": [
      "['zero' 'one' 'two_or_more' '1-stop' 'non-stop ']\n"
     ]
    }
   ],
   "source": [
    "print(df_1[\"stops\"].unique())"
   ],
   "metadata": {
    "collapsed": false,
    "ExecuteTime": {
     "end_time": "2024-01-01T03:23:48.940912Z",
     "start_time": "2024-01-01T03:23:48.935853Z"
    }
   },
   "id": "dc3d4863ad2b7556",
   "execution_count": 123
  },
  {
   "cell_type": "code",
   "outputs": [],
   "source": [
    "city_dict = {}\n",
    "ctr = 0\n",
    "for i in np.sort(df_1[\"source_city\"].unique()):\n",
    "    city_dict[i] = ctr\n",
    "    ctr += 1\n",
    "\n",
    "time_dict = {\n",
    "    \"Late_Night\":0,\n",
    "    \"Early_Morning\":1,\n",
    "    \"Morning\":2,\n",
    "    \"Afternoon\":3,\n",
    "    \"Evening\":4,\n",
    "    \"Night\":5,\n",
    "}\n",
    "\n",
    "\n",
    "stops_dict = {\n",
    "    \"zero\":0,\n",
    "    \"non-stop \":0,\n",
    "    \"one\":1,\n",
    "    \"1-stop\":1,\n",
    "    \"two_or_more\":2\n",
    "}\n",
    "\n",
    "class_dict = {\"Economy\":0,\"Business\":1}\n",
    "\n",
    "df_2 = df_1.copy()\n",
    "\n",
    "df_2[\"source_city\"] = df_2[\"source_city\"].map(city_dict)\n",
    "df_2[\"destination_city\"] = df_2[\"destination_city\"].map(city_dict)\n",
    "\n",
    "df_2[\"stops\"] = df_2[\"stops\"].map(stops_dict)\n",
    "\n",
    "df_2[\"departure_time\"] = df_2[\"departure_time\"].map(time_dict)\n",
    "df_2[\"arrival_time\"] = df_2[\"arrival_time\"].map(time_dict)\n",
    "\n",
    "df_2[\"class\"] = df_2[\"class\"].map(class_dict)"
   ],
   "metadata": {
    "collapsed": false,
    "ExecuteTime": {
     "end_time": "2024-01-01T03:24:01.085369Z",
     "start_time": "2024-01-01T03:24:00.989141Z"
    }
   },
   "id": "1be4babd832cea63",
   "execution_count": 124
  },
  {
   "cell_type": "code",
   "outputs": [
    {
     "data": {
      "text/plain": "        source_city  departure_time  stops  arrival_time  destination_city  \\\n0                 2               4      0             5                 5   \n1                 2               1      0             2                 5   \n2                 2               1      0             1                 5   \n3                 2               2      0             3                 5   \n4                 2               2      0             2                 5   \n...             ...             ...    ...           ...               ...   \n300250            3               2      1             2                 0   \n300251            3               5      0             5                 0   \n300252            3               2      1             2                 0   \n300253            3               5      0             5                 0   \n300254            3               5      0             5                 0   \n\n        class  duration  days_left  price  \n0           0      2.17        1.0   5953  \n1           0      2.33        1.0   5953  \n2           0      2.17        1.0   5956  \n3           0      2.25        1.0   5955  \n4           0      2.33        1.0   5955  \n...       ...       ...        ...    ...  \n300250      0      2.42       26.0   3196  \n300251      0      1.08       26.0   2115  \n300252      0      2.42       26.0   3196  \n300253      0      1.08       26.0   2115  \n300254      0      1.08       26.0   2115  \n\n[300255 rows x 9 columns]",
      "text/html": "<div>\n<style scoped>\n    .dataframe tbody tr th:only-of-type {\n        vertical-align: middle;\n    }\n\n    .dataframe tbody tr th {\n        vertical-align: top;\n    }\n\n    .dataframe thead th {\n        text-align: right;\n    }\n</style>\n<table border=\"1\" class=\"dataframe\">\n  <thead>\n    <tr style=\"text-align: right;\">\n      <th></th>\n      <th>source_city</th>\n      <th>departure_time</th>\n      <th>stops</th>\n      <th>arrival_time</th>\n      <th>destination_city</th>\n      <th>class</th>\n      <th>duration</th>\n      <th>days_left</th>\n      <th>price</th>\n    </tr>\n  </thead>\n  <tbody>\n    <tr>\n      <th>0</th>\n      <td>2</td>\n      <td>4</td>\n      <td>0</td>\n      <td>5</td>\n      <td>5</td>\n      <td>0</td>\n      <td>2.17</td>\n      <td>1.0</td>\n      <td>5953</td>\n    </tr>\n    <tr>\n      <th>1</th>\n      <td>2</td>\n      <td>1</td>\n      <td>0</td>\n      <td>2</td>\n      <td>5</td>\n      <td>0</td>\n      <td>2.33</td>\n      <td>1.0</td>\n      <td>5953</td>\n    </tr>\n    <tr>\n      <th>2</th>\n      <td>2</td>\n      <td>1</td>\n      <td>0</td>\n      <td>1</td>\n      <td>5</td>\n      <td>0</td>\n      <td>2.17</td>\n      <td>1.0</td>\n      <td>5956</td>\n    </tr>\n    <tr>\n      <th>3</th>\n      <td>2</td>\n      <td>2</td>\n      <td>0</td>\n      <td>3</td>\n      <td>5</td>\n      <td>0</td>\n      <td>2.25</td>\n      <td>1.0</td>\n      <td>5955</td>\n    </tr>\n    <tr>\n      <th>4</th>\n      <td>2</td>\n      <td>2</td>\n      <td>0</td>\n      <td>2</td>\n      <td>5</td>\n      <td>0</td>\n      <td>2.33</td>\n      <td>1.0</td>\n      <td>5955</td>\n    </tr>\n    <tr>\n      <th>...</th>\n      <td>...</td>\n      <td>...</td>\n      <td>...</td>\n      <td>...</td>\n      <td>...</td>\n      <td>...</td>\n      <td>...</td>\n      <td>...</td>\n      <td>...</td>\n    </tr>\n    <tr>\n      <th>300250</th>\n      <td>3</td>\n      <td>2</td>\n      <td>1</td>\n      <td>2</td>\n      <td>0</td>\n      <td>0</td>\n      <td>2.42</td>\n      <td>26.0</td>\n      <td>3196</td>\n    </tr>\n    <tr>\n      <th>300251</th>\n      <td>3</td>\n      <td>5</td>\n      <td>0</td>\n      <td>5</td>\n      <td>0</td>\n      <td>0</td>\n      <td>1.08</td>\n      <td>26.0</td>\n      <td>2115</td>\n    </tr>\n    <tr>\n      <th>300252</th>\n      <td>3</td>\n      <td>2</td>\n      <td>1</td>\n      <td>2</td>\n      <td>0</td>\n      <td>0</td>\n      <td>2.42</td>\n      <td>26.0</td>\n      <td>3196</td>\n    </tr>\n    <tr>\n      <th>300253</th>\n      <td>3</td>\n      <td>5</td>\n      <td>0</td>\n      <td>5</td>\n      <td>0</td>\n      <td>0</td>\n      <td>1.08</td>\n      <td>26.0</td>\n      <td>2115</td>\n    </tr>\n    <tr>\n      <th>300254</th>\n      <td>3</td>\n      <td>5</td>\n      <td>0</td>\n      <td>5</td>\n      <td>0</td>\n      <td>0</td>\n      <td>1.08</td>\n      <td>26.0</td>\n      <td>2115</td>\n    </tr>\n  </tbody>\n</table>\n<p>300255 rows × 9 columns</p>\n</div>"
     },
     "execution_count": 125,
     "metadata": {},
     "output_type": "execute_result"
    }
   ],
   "source": [
    "df_2"
   ],
   "metadata": {
    "collapsed": false,
    "ExecuteTime": {
     "end_time": "2024-01-01T03:24:01.695224Z",
     "start_time": "2024-01-01T03:24:01.660147Z"
    }
   },
   "id": "af18e7a869a110ec",
   "execution_count": 125
  },
  {
   "cell_type": "code",
   "outputs": [],
   "source": [
    "X = df_2.drop(columns=\"price\")\n",
    "y = df_2[\"price\"]"
   ],
   "metadata": {
    "collapsed": false,
    "ExecuteTime": {
     "end_time": "2024-01-01T03:24:57.278368Z",
     "start_time": "2024-01-01T03:24:57.270791Z"
    }
   },
   "id": "e3b2de6ded237da7",
   "execution_count": 126
  },
  {
   "cell_type": "code",
   "outputs": [
    {
     "data": {
      "text/plain": "        source_city  departure_time  stops  arrival_time  destination_city  \\\n0                 2               4      0             5                 5   \n1                 2               1      0             2                 5   \n2                 2               1      0             1                 5   \n3                 2               2      0             3                 5   \n4                 2               2      0             2                 5   \n...             ...             ...    ...           ...               ...   \n300250            3               2      1             2                 0   \n300251            3               5      0             5                 0   \n300252            3               2      1             2                 0   \n300253            3               5      0             5                 0   \n300254            3               5      0             5                 0   \n\n        class  duration  days_left  \n0           0      2.17        1.0  \n1           0      2.33        1.0  \n2           0      2.17        1.0  \n3           0      2.25        1.0  \n4           0      2.33        1.0  \n...       ...       ...        ...  \n300250      0      2.42       26.0  \n300251      0      1.08       26.0  \n300252      0      2.42       26.0  \n300253      0      1.08       26.0  \n300254      0      1.08       26.0  \n\n[300255 rows x 8 columns]",
      "text/html": "<div>\n<style scoped>\n    .dataframe tbody tr th:only-of-type {\n        vertical-align: middle;\n    }\n\n    .dataframe tbody tr th {\n        vertical-align: top;\n    }\n\n    .dataframe thead th {\n        text-align: right;\n    }\n</style>\n<table border=\"1\" class=\"dataframe\">\n  <thead>\n    <tr style=\"text-align: right;\">\n      <th></th>\n      <th>source_city</th>\n      <th>departure_time</th>\n      <th>stops</th>\n      <th>arrival_time</th>\n      <th>destination_city</th>\n      <th>class</th>\n      <th>duration</th>\n      <th>days_left</th>\n    </tr>\n  </thead>\n  <tbody>\n    <tr>\n      <th>0</th>\n      <td>2</td>\n      <td>4</td>\n      <td>0</td>\n      <td>5</td>\n      <td>5</td>\n      <td>0</td>\n      <td>2.17</td>\n      <td>1.0</td>\n    </tr>\n    <tr>\n      <th>1</th>\n      <td>2</td>\n      <td>1</td>\n      <td>0</td>\n      <td>2</td>\n      <td>5</td>\n      <td>0</td>\n      <td>2.33</td>\n      <td>1.0</td>\n    </tr>\n    <tr>\n      <th>2</th>\n      <td>2</td>\n      <td>1</td>\n      <td>0</td>\n      <td>1</td>\n      <td>5</td>\n      <td>0</td>\n      <td>2.17</td>\n      <td>1.0</td>\n    </tr>\n    <tr>\n      <th>3</th>\n      <td>2</td>\n      <td>2</td>\n      <td>0</td>\n      <td>3</td>\n      <td>5</td>\n      <td>0</td>\n      <td>2.25</td>\n      <td>1.0</td>\n    </tr>\n    <tr>\n      <th>4</th>\n      <td>2</td>\n      <td>2</td>\n      <td>0</td>\n      <td>2</td>\n      <td>5</td>\n      <td>0</td>\n      <td>2.33</td>\n      <td>1.0</td>\n    </tr>\n    <tr>\n      <th>...</th>\n      <td>...</td>\n      <td>...</td>\n      <td>...</td>\n      <td>...</td>\n      <td>...</td>\n      <td>...</td>\n      <td>...</td>\n      <td>...</td>\n    </tr>\n    <tr>\n      <th>300250</th>\n      <td>3</td>\n      <td>2</td>\n      <td>1</td>\n      <td>2</td>\n      <td>0</td>\n      <td>0</td>\n      <td>2.42</td>\n      <td>26.0</td>\n    </tr>\n    <tr>\n      <th>300251</th>\n      <td>3</td>\n      <td>5</td>\n      <td>0</td>\n      <td>5</td>\n      <td>0</td>\n      <td>0</td>\n      <td>1.08</td>\n      <td>26.0</td>\n    </tr>\n    <tr>\n      <th>300252</th>\n      <td>3</td>\n      <td>2</td>\n      <td>1</td>\n      <td>2</td>\n      <td>0</td>\n      <td>0</td>\n      <td>2.42</td>\n      <td>26.0</td>\n    </tr>\n    <tr>\n      <th>300253</th>\n      <td>3</td>\n      <td>5</td>\n      <td>0</td>\n      <td>5</td>\n      <td>0</td>\n      <td>0</td>\n      <td>1.08</td>\n      <td>26.0</td>\n    </tr>\n    <tr>\n      <th>300254</th>\n      <td>3</td>\n      <td>5</td>\n      <td>0</td>\n      <td>5</td>\n      <td>0</td>\n      <td>0</td>\n      <td>1.08</td>\n      <td>26.0</td>\n    </tr>\n  </tbody>\n</table>\n<p>300255 rows × 8 columns</p>\n</div>"
     },
     "execution_count": 127,
     "metadata": {},
     "output_type": "execute_result"
    }
   ],
   "source": [
    "X"
   ],
   "metadata": {
    "collapsed": false,
    "ExecuteTime": {
     "end_time": "2024-01-01T03:24:58.400270Z",
     "start_time": "2024-01-01T03:24:58.360373Z"
    }
   },
   "id": "29361610908b6f34",
   "execution_count": 127
  },
  {
   "cell_type": "code",
   "outputs": [],
   "source": [
    "mms = MinMaxScaler()\n",
    "X_res = pd.DataFrame(mms.fit_transform(X),columns=X.columns)\n",
    "y_res = y.copy()"
   ],
   "metadata": {
    "collapsed": false,
    "ExecuteTime": {
     "end_time": "2024-01-01T03:26:38.036092Z",
     "start_time": "2024-01-01T03:26:38.001685Z"
    }
   },
   "id": "2f05cc5d33a51e0",
   "execution_count": 131
  },
  {
   "cell_type": "code",
   "outputs": [],
   "source": [],
   "metadata": {
    "collapsed": false
   },
   "id": "82a29fe1dc8f179e"
  }
 ],
 "metadata": {
  "kernelspec": {
   "display_name": "Python 3",
   "language": "python",
   "name": "python3"
  },
  "language_info": {
   "codemirror_mode": {
    "name": "ipython",
    "version": 2
   },
   "file_extension": ".py",
   "mimetype": "text/x-python",
   "name": "python",
   "nbconvert_exporter": "python",
   "pygments_lexer": "ipython2",
   "version": "2.7.6"
  }
 },
 "nbformat": 4,
 "nbformat_minor": 5
}
