{
 "cells": [
  {
   "cell_type": "code",
   "execution_count": 59,
   "id": "initial_id",
   "metadata": {
    "collapsed": true,
    "ExecuteTime": {
     "end_time": "2024-01-01T01:19:54.580905Z",
     "start_time": "2024-01-01T01:19:54.566078Z"
    }
   },
   "outputs": [],
   "source": [
    "import numpy as np\n",
    "import pandas as pd\n",
    "import matplotlib.pyplot as plt\n",
    "import seaborn as sns\n",
    "from sklearn.model_selection import *\n",
    "from sklearn.linear_model import *\n",
    "from sklearn.metrics import *\n",
    "from sklearn.preprocessing import *\n",
    "from sklearn.feature_selection import *\n",
    "from sklearn.linear_model import *\n",
    "from sklearn.ensemble import *\n",
    "from sklearn.svm import *\n",
    "import warnings\n",
    "warnings.filterwarnings(\"ignore\")"
   ]
  },
  {
   "cell_type": "code",
   "outputs": [],
   "source": [
    "business = pd.read_csv(\"business.csv\")\n",
    "economy = pd.read_csv(\"economy.csv\")"
   ],
   "metadata": {
    "collapsed": false,
    "ExecuteTime": {
     "end_time": "2024-01-01T01:19:55.363556Z",
     "start_time": "2024-01-01T01:19:55.088140Z"
    }
   },
   "id": "72318e18615b9a2",
   "execution_count": 60
  },
  {
   "cell_type": "code",
   "outputs": [
    {
     "data": {
      "text/plain": "              date   airline ch_code  num_code  dep_time     from time_taken  \\\n0       11-02-2022  SpiceJet      SG      8709         4    Delhi    02h 10m   \n1       11-02-2022  SpiceJet      SG      8157         1    Delhi    02h 20m   \n2       11-02-2022   AirAsia      I5       764         1    Delhi    02h 10m   \n3       11-02-2022   Vistara      UK       995         2    Delhi    02h 15m   \n4       11-02-2022   Vistara      UK       963         2    Delhi    02h 20m   \n...            ...       ...     ...       ...       ...      ...        ...   \n300254  31-03-2022   Vistara      UK       822         2  Chennai    10h 05m   \n300255  31-03-2022   Vistara      UK       826         3  Chennai    10h 25m   \n300256  31-03-2022   Vistara      UK       832         1  Chennai    13h 50m   \n300257  31-03-2022   Vistara      UK       828         1  Chennai    10h 00m   \n300258  31-03-2022   Vistara      UK       822         2  Chennai    10h 05m   \n\n                                                     stop  arr_time  \\\n0                                               non-stop          5   \n1                                               non-stop          2   \n2                                               non-stop          1   \n3                                               non-stop          3   \n4                                               non-stop          2   \n...                                                   ...       ...   \n300254  1-stop\\n\\t\\t\\t\\t\\t\\t\\t\\t\\t\\t\\t\\t\\n\\t\\t\\t\\t\\t\\t...         4   \n300255  1-stop\\n\\t\\t\\t\\t\\t\\t\\t\\t\\t\\t\\t\\t\\n\\t\\t\\t\\t\\t\\t...         5   \n300256  1-stop\\n\\t\\t\\t\\t\\t\\t\\t\\t\\t\\t\\t\\t\\n\\t\\t\\t\\t\\t\\t...         5   \n300257  1-stop\\n\\t\\t\\t\\t\\t\\t\\t\\t\\t\\t\\t\\t\\n\\t\\t\\t\\t\\t\\t...         4   \n300258  1-stop\\n\\t\\t\\t\\t\\t\\t\\t\\t\\t\\t\\t\\t\\n\\t\\t\\t\\t\\t\\t...         4   \n\n               to   price     class  \n0          Mumbai   5,953   Economy  \n1          Mumbai   5,953   Economy  \n2          Mumbai   5,956   Economy  \n3          Mumbai   5,955   Economy  \n4          Mumbai   5,955   Economy  \n...           ...     ...       ...  \n300254  Hyderabad  69,265  Business  \n300255  Hyderabad  77,105  Business  \n300256  Hyderabad  79,099  Business  \n300257  Hyderabad  81,585  Business  \n300258  Hyderabad  81,585  Business  \n\n[300259 rows x 12 columns]",
      "text/html": "<div>\n<style scoped>\n    .dataframe tbody tr th:only-of-type {\n        vertical-align: middle;\n    }\n\n    .dataframe tbody tr th {\n        vertical-align: top;\n    }\n\n    .dataframe thead th {\n        text-align: right;\n    }\n</style>\n<table border=\"1\" class=\"dataframe\">\n  <thead>\n    <tr style=\"text-align: right;\">\n      <th></th>\n      <th>date</th>\n      <th>airline</th>\n      <th>ch_code</th>\n      <th>num_code</th>\n      <th>dep_time</th>\n      <th>from</th>\n      <th>time_taken</th>\n      <th>stop</th>\n      <th>arr_time</th>\n      <th>to</th>\n      <th>price</th>\n      <th>class</th>\n    </tr>\n  </thead>\n  <tbody>\n    <tr>\n      <th>0</th>\n      <td>11-02-2022</td>\n      <td>SpiceJet</td>\n      <td>SG</td>\n      <td>8709</td>\n      <td>4</td>\n      <td>Delhi</td>\n      <td>02h 10m</td>\n      <td>non-stop</td>\n      <td>5</td>\n      <td>Mumbai</td>\n      <td>5,953</td>\n      <td>Economy</td>\n    </tr>\n    <tr>\n      <th>1</th>\n      <td>11-02-2022</td>\n      <td>SpiceJet</td>\n      <td>SG</td>\n      <td>8157</td>\n      <td>1</td>\n      <td>Delhi</td>\n      <td>02h 20m</td>\n      <td>non-stop</td>\n      <td>2</td>\n      <td>Mumbai</td>\n      <td>5,953</td>\n      <td>Economy</td>\n    </tr>\n    <tr>\n      <th>2</th>\n      <td>11-02-2022</td>\n      <td>AirAsia</td>\n      <td>I5</td>\n      <td>764</td>\n      <td>1</td>\n      <td>Delhi</td>\n      <td>02h 10m</td>\n      <td>non-stop</td>\n      <td>1</td>\n      <td>Mumbai</td>\n      <td>5,956</td>\n      <td>Economy</td>\n    </tr>\n    <tr>\n      <th>3</th>\n      <td>11-02-2022</td>\n      <td>Vistara</td>\n      <td>UK</td>\n      <td>995</td>\n      <td>2</td>\n      <td>Delhi</td>\n      <td>02h 15m</td>\n      <td>non-stop</td>\n      <td>3</td>\n      <td>Mumbai</td>\n      <td>5,955</td>\n      <td>Economy</td>\n    </tr>\n    <tr>\n      <th>4</th>\n      <td>11-02-2022</td>\n      <td>Vistara</td>\n      <td>UK</td>\n      <td>963</td>\n      <td>2</td>\n      <td>Delhi</td>\n      <td>02h 20m</td>\n      <td>non-stop</td>\n      <td>2</td>\n      <td>Mumbai</td>\n      <td>5,955</td>\n      <td>Economy</td>\n    </tr>\n    <tr>\n      <th>...</th>\n      <td>...</td>\n      <td>...</td>\n      <td>...</td>\n      <td>...</td>\n      <td>...</td>\n      <td>...</td>\n      <td>...</td>\n      <td>...</td>\n      <td>...</td>\n      <td>...</td>\n      <td>...</td>\n      <td>...</td>\n    </tr>\n    <tr>\n      <th>300254</th>\n      <td>31-03-2022</td>\n      <td>Vistara</td>\n      <td>UK</td>\n      <td>822</td>\n      <td>2</td>\n      <td>Chennai</td>\n      <td>10h 05m</td>\n      <td>1-stop\\n\\t\\t\\t\\t\\t\\t\\t\\t\\t\\t\\t\\t\\n\\t\\t\\t\\t\\t\\t...</td>\n      <td>4</td>\n      <td>Hyderabad</td>\n      <td>69,265</td>\n      <td>Business</td>\n    </tr>\n    <tr>\n      <th>300255</th>\n      <td>31-03-2022</td>\n      <td>Vistara</td>\n      <td>UK</td>\n      <td>826</td>\n      <td>3</td>\n      <td>Chennai</td>\n      <td>10h 25m</td>\n      <td>1-stop\\n\\t\\t\\t\\t\\t\\t\\t\\t\\t\\t\\t\\t\\n\\t\\t\\t\\t\\t\\t...</td>\n      <td>5</td>\n      <td>Hyderabad</td>\n      <td>77,105</td>\n      <td>Business</td>\n    </tr>\n    <tr>\n      <th>300256</th>\n      <td>31-03-2022</td>\n      <td>Vistara</td>\n      <td>UK</td>\n      <td>832</td>\n      <td>1</td>\n      <td>Chennai</td>\n      <td>13h 50m</td>\n      <td>1-stop\\n\\t\\t\\t\\t\\t\\t\\t\\t\\t\\t\\t\\t\\n\\t\\t\\t\\t\\t\\t...</td>\n      <td>5</td>\n      <td>Hyderabad</td>\n      <td>79,099</td>\n      <td>Business</td>\n    </tr>\n    <tr>\n      <th>300257</th>\n      <td>31-03-2022</td>\n      <td>Vistara</td>\n      <td>UK</td>\n      <td>828</td>\n      <td>1</td>\n      <td>Chennai</td>\n      <td>10h 00m</td>\n      <td>1-stop\\n\\t\\t\\t\\t\\t\\t\\t\\t\\t\\t\\t\\t\\n\\t\\t\\t\\t\\t\\t...</td>\n      <td>4</td>\n      <td>Hyderabad</td>\n      <td>81,585</td>\n      <td>Business</td>\n    </tr>\n    <tr>\n      <th>300258</th>\n      <td>31-03-2022</td>\n      <td>Vistara</td>\n      <td>UK</td>\n      <td>822</td>\n      <td>2</td>\n      <td>Chennai</td>\n      <td>10h 05m</td>\n      <td>1-stop\\n\\t\\t\\t\\t\\t\\t\\t\\t\\t\\t\\t\\t\\n\\t\\t\\t\\t\\t\\t...</td>\n      <td>4</td>\n      <td>Hyderabad</td>\n      <td>81,585</td>\n      <td>Business</td>\n    </tr>\n  </tbody>\n</table>\n<p>300259 rows × 12 columns</p>\n</div>"
     },
     "execution_count": 61,
     "metadata": {},
     "output_type": "execute_result"
    }
   ],
   "source": [
    "business[\"class\"] = \"Business\"\n",
    "economy[\"class\"] = \"Economy\"\n",
    "df = pd.concat([economy,business],axis=0,ignore_index=True).reset_index(drop=True)\n",
    "df[\"dep_time\"] = pd.to_datetime(df[\"dep_time\"]).dt.hour // 4\n",
    "df[\"arr_time\"] = pd.to_datetime(df[\"arr_time\"]).dt.hour // 4\n",
    "df_1 = df.drop_duplicates(ignore_index=True).reset_index(drop=True)\n",
    "df_1"
   ],
   "metadata": {
    "collapsed": false,
    "ExecuteTime": {
     "end_time": "2024-01-01T01:19:55.743130Z",
     "start_time": "2024-01-01T01:19:55.457098Z"
    }
   },
   "id": "2863500fd09b9f0f",
   "execution_count": 61
  },
  {
   "cell_type": "code",
   "outputs": [],
   "source": [
    "def split_and_convert_to_float(time_taken):\n",
    "    tt = time_taken.split(\" \")\n",
    "\n",
    "    hr = list(tt[0])\n",
    "    g = hr.pop()\n",
    "    hr = \"\".join(hr)\n",
    "    if len(hr)==0:\n",
    "        hr = 0\n",
    "    else:\n",
    "        hr = float(hr)\n",
    "\n",
    "    min = list(tt[1])\n",
    "    g = min.pop()\n",
    "    min = \"\".join(min)\n",
    "    if len(min)==0:\n",
    "        min = 0\n",
    "    else:\n",
    "        min = float(min)\n",
    "\n",
    "    total_time = hr + (min/60)\n",
    "    return total_time\n"
   ],
   "metadata": {
    "collapsed": false,
    "ExecuteTime": {
     "end_time": "2024-01-01T01:19:56.521900Z",
     "start_time": "2024-01-01T01:19:56.518721Z"
    }
   },
   "id": "fbcc48b3fd2a1f72",
   "execution_count": 62
  },
  {
   "cell_type": "code",
   "outputs": [],
   "source": [
    "def clean_stop_data(dd):\n",
    "    o = pd.Series()\n",
    "    ctr = 0\n",
    "    kk = dd.replace(\"\\n\",\"\").replace(\"\\t\",\"\").strip()\n",
    "    if kk.count(\"Via\") > 0:\n",
    "        kk = kk[0:kk.index(\"Via\")].strip()\n",
    "    kk = kk.strip()\n",
    "    return kk"
   ],
   "metadata": {
    "collapsed": false,
    "ExecuteTime": {
     "end_time": "2024-01-01T01:19:57.105857Z",
     "start_time": "2024-01-01T01:19:57.095493Z"
    }
   },
   "id": "ac48abb39d4da478",
   "execution_count": 63
  },
  {
   "cell_type": "code",
   "outputs": [
    {
     "data": {
      "text/plain": "              date   airline ch_code  num_code  dep_time     from  time_taken  \\\n0       11-02-2022  SpiceJet      SG      8709         4    Delhi    2.166667   \n1       11-02-2022  SpiceJet      SG      8157         1    Delhi    2.333333   \n2       11-02-2022   AirAsia      I5       764         1    Delhi    2.166667   \n3       11-02-2022   Vistara      UK       995         2    Delhi    2.250000   \n4       11-02-2022   Vistara      UK       963         2    Delhi    2.333333   \n...            ...       ...     ...       ...       ...      ...         ...   \n300254  31-03-2022   Vistara      UK       822         2  Chennai   10.083333   \n300255  31-03-2022   Vistara      UK       826         3  Chennai   10.416667   \n300256  31-03-2022   Vistara      UK       832         1  Chennai   13.833333   \n300257  31-03-2022   Vistara      UK       828         1  Chennai   10.000000   \n300258  31-03-2022   Vistara      UK       822         2  Chennai   10.083333   \n\n            stop  arr_time         to    price     class  \n0       non-stop         5     Mumbai   5953.0   Economy  \n1       non-stop         2     Mumbai   5953.0   Economy  \n2       non-stop         1     Mumbai   5956.0   Economy  \n3       non-stop         3     Mumbai   5955.0   Economy  \n4       non-stop         2     Mumbai   5955.0   Economy  \n...          ...       ...        ...      ...       ...  \n300254    1-stop         4  Hyderabad  69265.0  Business  \n300255    1-stop         5  Hyderabad  77105.0  Business  \n300256    1-stop         5  Hyderabad  79099.0  Business  \n300257    1-stop         4  Hyderabad  81585.0  Business  \n300258    1-stop         4  Hyderabad  81585.0  Business  \n\n[300259 rows x 12 columns]",
      "text/html": "<div>\n<style scoped>\n    .dataframe tbody tr th:only-of-type {\n        vertical-align: middle;\n    }\n\n    .dataframe tbody tr th {\n        vertical-align: top;\n    }\n\n    .dataframe thead th {\n        text-align: right;\n    }\n</style>\n<table border=\"1\" class=\"dataframe\">\n  <thead>\n    <tr style=\"text-align: right;\">\n      <th></th>\n      <th>date</th>\n      <th>airline</th>\n      <th>ch_code</th>\n      <th>num_code</th>\n      <th>dep_time</th>\n      <th>from</th>\n      <th>time_taken</th>\n      <th>stop</th>\n      <th>arr_time</th>\n      <th>to</th>\n      <th>price</th>\n      <th>class</th>\n    </tr>\n  </thead>\n  <tbody>\n    <tr>\n      <th>0</th>\n      <td>11-02-2022</td>\n      <td>SpiceJet</td>\n      <td>SG</td>\n      <td>8709</td>\n      <td>4</td>\n      <td>Delhi</td>\n      <td>2.166667</td>\n      <td>non-stop</td>\n      <td>5</td>\n      <td>Mumbai</td>\n      <td>5953.0</td>\n      <td>Economy</td>\n    </tr>\n    <tr>\n      <th>1</th>\n      <td>11-02-2022</td>\n      <td>SpiceJet</td>\n      <td>SG</td>\n      <td>8157</td>\n      <td>1</td>\n      <td>Delhi</td>\n      <td>2.333333</td>\n      <td>non-stop</td>\n      <td>2</td>\n      <td>Mumbai</td>\n      <td>5953.0</td>\n      <td>Economy</td>\n    </tr>\n    <tr>\n      <th>2</th>\n      <td>11-02-2022</td>\n      <td>AirAsia</td>\n      <td>I5</td>\n      <td>764</td>\n      <td>1</td>\n      <td>Delhi</td>\n      <td>2.166667</td>\n      <td>non-stop</td>\n      <td>1</td>\n      <td>Mumbai</td>\n      <td>5956.0</td>\n      <td>Economy</td>\n    </tr>\n    <tr>\n      <th>3</th>\n      <td>11-02-2022</td>\n      <td>Vistara</td>\n      <td>UK</td>\n      <td>995</td>\n      <td>2</td>\n      <td>Delhi</td>\n      <td>2.250000</td>\n      <td>non-stop</td>\n      <td>3</td>\n      <td>Mumbai</td>\n      <td>5955.0</td>\n      <td>Economy</td>\n    </tr>\n    <tr>\n      <th>4</th>\n      <td>11-02-2022</td>\n      <td>Vistara</td>\n      <td>UK</td>\n      <td>963</td>\n      <td>2</td>\n      <td>Delhi</td>\n      <td>2.333333</td>\n      <td>non-stop</td>\n      <td>2</td>\n      <td>Mumbai</td>\n      <td>5955.0</td>\n      <td>Economy</td>\n    </tr>\n    <tr>\n      <th>...</th>\n      <td>...</td>\n      <td>...</td>\n      <td>...</td>\n      <td>...</td>\n      <td>...</td>\n      <td>...</td>\n      <td>...</td>\n      <td>...</td>\n      <td>...</td>\n      <td>...</td>\n      <td>...</td>\n      <td>...</td>\n    </tr>\n    <tr>\n      <th>300254</th>\n      <td>31-03-2022</td>\n      <td>Vistara</td>\n      <td>UK</td>\n      <td>822</td>\n      <td>2</td>\n      <td>Chennai</td>\n      <td>10.083333</td>\n      <td>1-stop</td>\n      <td>4</td>\n      <td>Hyderabad</td>\n      <td>69265.0</td>\n      <td>Business</td>\n    </tr>\n    <tr>\n      <th>300255</th>\n      <td>31-03-2022</td>\n      <td>Vistara</td>\n      <td>UK</td>\n      <td>826</td>\n      <td>3</td>\n      <td>Chennai</td>\n      <td>10.416667</td>\n      <td>1-stop</td>\n      <td>5</td>\n      <td>Hyderabad</td>\n      <td>77105.0</td>\n      <td>Business</td>\n    </tr>\n    <tr>\n      <th>300256</th>\n      <td>31-03-2022</td>\n      <td>Vistara</td>\n      <td>UK</td>\n      <td>832</td>\n      <td>1</td>\n      <td>Chennai</td>\n      <td>13.833333</td>\n      <td>1-stop</td>\n      <td>5</td>\n      <td>Hyderabad</td>\n      <td>79099.0</td>\n      <td>Business</td>\n    </tr>\n    <tr>\n      <th>300257</th>\n      <td>31-03-2022</td>\n      <td>Vistara</td>\n      <td>UK</td>\n      <td>828</td>\n      <td>1</td>\n      <td>Chennai</td>\n      <td>10.000000</td>\n      <td>1-stop</td>\n      <td>4</td>\n      <td>Hyderabad</td>\n      <td>81585.0</td>\n      <td>Business</td>\n    </tr>\n    <tr>\n      <th>300258</th>\n      <td>31-03-2022</td>\n      <td>Vistara</td>\n      <td>UK</td>\n      <td>822</td>\n      <td>2</td>\n      <td>Chennai</td>\n      <td>10.083333</td>\n      <td>1-stop</td>\n      <td>4</td>\n      <td>Hyderabad</td>\n      <td>81585.0</td>\n      <td>Business</td>\n    </tr>\n  </tbody>\n</table>\n<p>300259 rows × 12 columns</p>\n</div>"
     },
     "execution_count": 64,
     "metadata": {},
     "output_type": "execute_result"
    }
   ],
   "source": [
    "df_2 = df_1.copy()\n",
    "df_2[\"time_taken\"] = list(map(lambda x: split_and_convert_to_float(x),df_2[\"time_taken\"]))\n",
    "df_2[\"stop\"] = list(map(lambda x: clean_stop_data(x),df_2[\"stop\"]))\n",
    "df_2[\"price\"] = df_2[\"price\"].str.replace(\",\",\"\").astype(\"float64\")\n",
    "df_2.drop_duplicates(ignore_index=True,inplace=True)\n",
    "df_2.reset_index(drop=True,inplace=True)\n",
    "df_2"
   ],
   "metadata": {
    "collapsed": false,
    "ExecuteTime": {
     "end_time": "2024-01-01T01:20:00.972364Z",
     "start_time": "2024-01-01T01:19:57.414414Z"
    }
   },
   "id": "d0bd790d69bac2db",
   "execution_count": 64
  },
  {
   "cell_type": "code",
   "outputs": [
    {
     "data": {
      "text/plain": "     airline ch_code\n0    Vistara      UK\n1  Air India      AI\n2     Indigo      6E\n3   GO FIRST      G8\n4    AirAsia      I5\n5   SpiceJet      SG\n6    StarAir      S5\n7     Trujet      2T",
      "text/html": "<div>\n<style scoped>\n    .dataframe tbody tr th:only-of-type {\n        vertical-align: middle;\n    }\n\n    .dataframe tbody tr th {\n        vertical-align: top;\n    }\n\n    .dataframe thead th {\n        text-align: right;\n    }\n</style>\n<table border=\"1\" class=\"dataframe\">\n  <thead>\n    <tr style=\"text-align: right;\">\n      <th></th>\n      <th>airline</th>\n      <th>ch_code</th>\n    </tr>\n  </thead>\n  <tbody>\n    <tr>\n      <th>0</th>\n      <td>Vistara</td>\n      <td>UK</td>\n    </tr>\n    <tr>\n      <th>1</th>\n      <td>Air India</td>\n      <td>AI</td>\n    </tr>\n    <tr>\n      <th>2</th>\n      <td>Indigo</td>\n      <td>6E</td>\n    </tr>\n    <tr>\n      <th>3</th>\n      <td>GO FIRST</td>\n      <td>G8</td>\n    </tr>\n    <tr>\n      <th>4</th>\n      <td>AirAsia</td>\n      <td>I5</td>\n    </tr>\n    <tr>\n      <th>5</th>\n      <td>SpiceJet</td>\n      <td>SG</td>\n    </tr>\n    <tr>\n      <th>6</th>\n      <td>StarAir</td>\n      <td>S5</td>\n    </tr>\n    <tr>\n      <th>7</th>\n      <td>Trujet</td>\n      <td>2T</td>\n    </tr>\n  </tbody>\n</table>\n</div>"
     },
     "execution_count": 65,
     "metadata": {},
     "output_type": "execute_result"
    }
   ],
   "source": [
    "airlines = df_2[[\"airline\",\"ch_code\"]].value_counts().reset_index().drop(columns=\"count\")\n",
    "airlines"
   ],
   "metadata": {
    "collapsed": false,
    "ExecuteTime": {
     "end_time": "2024-01-01T01:20:01.059210Z",
     "start_time": "2024-01-01T01:20:00.972153Z"
    }
   },
   "id": "482fefa1a62de4f",
   "execution_count": 65
  },
  {
   "cell_type": "code",
   "outputs": [
    {
     "data": {
      "text/plain": "              date ch_code  num_code  dep_time  from  time_taken      stop  \\\n0       11-02-2022      SG      8709         4     2    2.166667  non-stop   \n1       11-02-2022      SG      8157         1     2    2.333333  non-stop   \n2       11-02-2022      I5       764         1     2    2.166667  non-stop   \n3       11-02-2022      UK       995         2     2    2.250000  non-stop   \n4       11-02-2022      UK       963         2     2    2.333333  non-stop   \n...            ...     ...       ...       ...   ...         ...       ...   \n300254  31-03-2022      UK       822         2     1   10.083333    1-stop   \n300255  31-03-2022      UK       826         3     1   10.416667    1-stop   \n300256  31-03-2022      UK       832         1     1   13.833333    1-stop   \n300257  31-03-2022      UK       828         1     1   10.000000    1-stop   \n300258  31-03-2022      UK       822         2     1   10.083333    1-stop   \n\n        arr_time  to    price  class  \n0              5   5   5953.0      0  \n1              2   5   5953.0      0  \n2              1   5   5956.0      0  \n3              3   5   5955.0      0  \n4              2   5   5955.0      0  \n...          ...  ..      ...    ...  \n300254         4   3  69265.0      1  \n300255         5   3  77105.0      1  \n300256         5   3  79099.0      1  \n300257         4   3  81585.0      1  \n300258         4   3  81585.0      1  \n\n[300259 rows x 11 columns]",
      "text/html": "<div>\n<style scoped>\n    .dataframe tbody tr th:only-of-type {\n        vertical-align: middle;\n    }\n\n    .dataframe tbody tr th {\n        vertical-align: top;\n    }\n\n    .dataframe thead th {\n        text-align: right;\n    }\n</style>\n<table border=\"1\" class=\"dataframe\">\n  <thead>\n    <tr style=\"text-align: right;\">\n      <th></th>\n      <th>date</th>\n      <th>ch_code</th>\n      <th>num_code</th>\n      <th>dep_time</th>\n      <th>from</th>\n      <th>time_taken</th>\n      <th>stop</th>\n      <th>arr_time</th>\n      <th>to</th>\n      <th>price</th>\n      <th>class</th>\n    </tr>\n  </thead>\n  <tbody>\n    <tr>\n      <th>0</th>\n      <td>11-02-2022</td>\n      <td>SG</td>\n      <td>8709</td>\n      <td>4</td>\n      <td>2</td>\n      <td>2.166667</td>\n      <td>non-stop</td>\n      <td>5</td>\n      <td>5</td>\n      <td>5953.0</td>\n      <td>0</td>\n    </tr>\n    <tr>\n      <th>1</th>\n      <td>11-02-2022</td>\n      <td>SG</td>\n      <td>8157</td>\n      <td>1</td>\n      <td>2</td>\n      <td>2.333333</td>\n      <td>non-stop</td>\n      <td>2</td>\n      <td>5</td>\n      <td>5953.0</td>\n      <td>0</td>\n    </tr>\n    <tr>\n      <th>2</th>\n      <td>11-02-2022</td>\n      <td>I5</td>\n      <td>764</td>\n      <td>1</td>\n      <td>2</td>\n      <td>2.166667</td>\n      <td>non-stop</td>\n      <td>1</td>\n      <td>5</td>\n      <td>5956.0</td>\n      <td>0</td>\n    </tr>\n    <tr>\n      <th>3</th>\n      <td>11-02-2022</td>\n      <td>UK</td>\n      <td>995</td>\n      <td>2</td>\n      <td>2</td>\n      <td>2.250000</td>\n      <td>non-stop</td>\n      <td>3</td>\n      <td>5</td>\n      <td>5955.0</td>\n      <td>0</td>\n    </tr>\n    <tr>\n      <th>4</th>\n      <td>11-02-2022</td>\n      <td>UK</td>\n      <td>963</td>\n      <td>2</td>\n      <td>2</td>\n      <td>2.333333</td>\n      <td>non-stop</td>\n      <td>2</td>\n      <td>5</td>\n      <td>5955.0</td>\n      <td>0</td>\n    </tr>\n    <tr>\n      <th>...</th>\n      <td>...</td>\n      <td>...</td>\n      <td>...</td>\n      <td>...</td>\n      <td>...</td>\n      <td>...</td>\n      <td>...</td>\n      <td>...</td>\n      <td>...</td>\n      <td>...</td>\n      <td>...</td>\n    </tr>\n    <tr>\n      <th>300254</th>\n      <td>31-03-2022</td>\n      <td>UK</td>\n      <td>822</td>\n      <td>2</td>\n      <td>1</td>\n      <td>10.083333</td>\n      <td>1-stop</td>\n      <td>4</td>\n      <td>3</td>\n      <td>69265.0</td>\n      <td>1</td>\n    </tr>\n    <tr>\n      <th>300255</th>\n      <td>31-03-2022</td>\n      <td>UK</td>\n      <td>826</td>\n      <td>3</td>\n      <td>1</td>\n      <td>10.416667</td>\n      <td>1-stop</td>\n      <td>5</td>\n      <td>3</td>\n      <td>77105.0</td>\n      <td>1</td>\n    </tr>\n    <tr>\n      <th>300256</th>\n      <td>31-03-2022</td>\n      <td>UK</td>\n      <td>832</td>\n      <td>1</td>\n      <td>1</td>\n      <td>13.833333</td>\n      <td>1-stop</td>\n      <td>5</td>\n      <td>3</td>\n      <td>79099.0</td>\n      <td>1</td>\n    </tr>\n    <tr>\n      <th>300257</th>\n      <td>31-03-2022</td>\n      <td>UK</td>\n      <td>828</td>\n      <td>1</td>\n      <td>1</td>\n      <td>10.000000</td>\n      <td>1-stop</td>\n      <td>4</td>\n      <td>3</td>\n      <td>81585.0</td>\n      <td>1</td>\n    </tr>\n    <tr>\n      <th>300258</th>\n      <td>31-03-2022</td>\n      <td>UK</td>\n      <td>822</td>\n      <td>2</td>\n      <td>1</td>\n      <td>10.083333</td>\n      <td>1-stop</td>\n      <td>4</td>\n      <td>3</td>\n      <td>81585.0</td>\n      <td>1</td>\n    </tr>\n  </tbody>\n</table>\n<p>300259 rows × 11 columns</p>\n</div>"
     },
     "execution_count": 66,
     "metadata": {},
     "output_type": "execute_result"
    }
   ],
   "source": [
    "df_3 = df_2.drop(columns=\"airline\")\n",
    "\n",
    "city_unique = {}\n",
    "ctr = 0\n",
    "for i in np.sort(df_3[\"from\"].unique()):\n",
    "    city_unique[i] = ctr\n",
    "    ctr += 1\n",
    "df_3[\"from\"] = df_3[\"from\"].map(city_unique)\n",
    "df_3[\"to\"] = df_3[\"to\"].map(city_unique)\n",
    "\n",
    "class_unique = {}\n",
    "ctr = len(df_3[\"class\"].unique()) - 1\n",
    "for i in np.sort(df_3[\"class\"].unique()):\n",
    "    class_unique[i] = ctr\n",
    "    ctr -= 1\n",
    "\n",
    "df_3[\"class\"] = df_3[\"class\"].map(class_unique)\n",
    "df_3"
   ],
   "metadata": {
    "collapsed": false,
    "ExecuteTime": {
     "end_time": "2024-01-01T01:20:01.635302Z",
     "start_time": "2024-01-01T01:20:01.568252Z"
    }
   },
   "id": "23bbb70f19039183",
   "execution_count": 66
  },
  {
   "cell_type": "code",
   "outputs": [
    {
     "data": {
      "text/plain": "              date ch_code  num_code  dep_time  from  time_taken  stop  \\\n0       11-02-2022      SG      8709         4     2    2.166667     0   \n1       11-02-2022      SG      8157         1     2    2.333333     0   \n2       11-02-2022      I5       764         1     2    2.166667     0   \n3       11-02-2022      UK       995         2     2    2.250000     0   \n4       11-02-2022      UK       963         2     2    2.333333     0   \n...            ...     ...       ...       ...   ...         ...   ...   \n300254  31-03-2022      UK       822         2     1   10.083333     1   \n300255  31-03-2022      UK       826         3     1   10.416667     1   \n300256  31-03-2022      UK       832         1     1   13.833333     1   \n300257  31-03-2022      UK       828         1     1   10.000000     1   \n300258  31-03-2022      UK       822         2     1   10.083333     1   \n\n        arr_time  to    price  class  \n0              5   5   5953.0      0  \n1              2   5   5953.0      0  \n2              1   5   5956.0      0  \n3              3   5   5955.0      0  \n4              2   5   5955.0      0  \n...          ...  ..      ...    ...  \n300254         4   3  69265.0      1  \n300255         5   3  77105.0      1  \n300256         5   3  79099.0      1  \n300257         4   3  81585.0      1  \n300258         4   3  81585.0      1  \n\n[300259 rows x 11 columns]",
      "text/html": "<div>\n<style scoped>\n    .dataframe tbody tr th:only-of-type {\n        vertical-align: middle;\n    }\n\n    .dataframe tbody tr th {\n        vertical-align: top;\n    }\n\n    .dataframe thead th {\n        text-align: right;\n    }\n</style>\n<table border=\"1\" class=\"dataframe\">\n  <thead>\n    <tr style=\"text-align: right;\">\n      <th></th>\n      <th>date</th>\n      <th>ch_code</th>\n      <th>num_code</th>\n      <th>dep_time</th>\n      <th>from</th>\n      <th>time_taken</th>\n      <th>stop</th>\n      <th>arr_time</th>\n      <th>to</th>\n      <th>price</th>\n      <th>class</th>\n    </tr>\n  </thead>\n  <tbody>\n    <tr>\n      <th>0</th>\n      <td>11-02-2022</td>\n      <td>SG</td>\n      <td>8709</td>\n      <td>4</td>\n      <td>2</td>\n      <td>2.166667</td>\n      <td>0</td>\n      <td>5</td>\n      <td>5</td>\n      <td>5953.0</td>\n      <td>0</td>\n    </tr>\n    <tr>\n      <th>1</th>\n      <td>11-02-2022</td>\n      <td>SG</td>\n      <td>8157</td>\n      <td>1</td>\n      <td>2</td>\n      <td>2.333333</td>\n      <td>0</td>\n      <td>2</td>\n      <td>5</td>\n      <td>5953.0</td>\n      <td>0</td>\n    </tr>\n    <tr>\n      <th>2</th>\n      <td>11-02-2022</td>\n      <td>I5</td>\n      <td>764</td>\n      <td>1</td>\n      <td>2</td>\n      <td>2.166667</td>\n      <td>0</td>\n      <td>1</td>\n      <td>5</td>\n      <td>5956.0</td>\n      <td>0</td>\n    </tr>\n    <tr>\n      <th>3</th>\n      <td>11-02-2022</td>\n      <td>UK</td>\n      <td>995</td>\n      <td>2</td>\n      <td>2</td>\n      <td>2.250000</td>\n      <td>0</td>\n      <td>3</td>\n      <td>5</td>\n      <td>5955.0</td>\n      <td>0</td>\n    </tr>\n    <tr>\n      <th>4</th>\n      <td>11-02-2022</td>\n      <td>UK</td>\n      <td>963</td>\n      <td>2</td>\n      <td>2</td>\n      <td>2.333333</td>\n      <td>0</td>\n      <td>2</td>\n      <td>5</td>\n      <td>5955.0</td>\n      <td>0</td>\n    </tr>\n    <tr>\n      <th>...</th>\n      <td>...</td>\n      <td>...</td>\n      <td>...</td>\n      <td>...</td>\n      <td>...</td>\n      <td>...</td>\n      <td>...</td>\n      <td>...</td>\n      <td>...</td>\n      <td>...</td>\n      <td>...</td>\n    </tr>\n    <tr>\n      <th>300254</th>\n      <td>31-03-2022</td>\n      <td>UK</td>\n      <td>822</td>\n      <td>2</td>\n      <td>1</td>\n      <td>10.083333</td>\n      <td>1</td>\n      <td>4</td>\n      <td>3</td>\n      <td>69265.0</td>\n      <td>1</td>\n    </tr>\n    <tr>\n      <th>300255</th>\n      <td>31-03-2022</td>\n      <td>UK</td>\n      <td>826</td>\n      <td>3</td>\n      <td>1</td>\n      <td>10.416667</td>\n      <td>1</td>\n      <td>5</td>\n      <td>3</td>\n      <td>77105.0</td>\n      <td>1</td>\n    </tr>\n    <tr>\n      <th>300256</th>\n      <td>31-03-2022</td>\n      <td>UK</td>\n      <td>832</td>\n      <td>1</td>\n      <td>1</td>\n      <td>13.833333</td>\n      <td>1</td>\n      <td>5</td>\n      <td>3</td>\n      <td>79099.0</td>\n      <td>1</td>\n    </tr>\n    <tr>\n      <th>300257</th>\n      <td>31-03-2022</td>\n      <td>UK</td>\n      <td>828</td>\n      <td>1</td>\n      <td>1</td>\n      <td>10.000000</td>\n      <td>1</td>\n      <td>4</td>\n      <td>3</td>\n      <td>81585.0</td>\n      <td>1</td>\n    </tr>\n    <tr>\n      <th>300258</th>\n      <td>31-03-2022</td>\n      <td>UK</td>\n      <td>822</td>\n      <td>2</td>\n      <td>1</td>\n      <td>10.083333</td>\n      <td>1</td>\n      <td>4</td>\n      <td>3</td>\n      <td>81585.0</td>\n      <td>1</td>\n    </tr>\n  </tbody>\n</table>\n<p>300259 rows × 11 columns</p>\n</div>"
     },
     "execution_count": 67,
     "metadata": {},
     "output_type": "execute_result"
    }
   ],
   "source": [
    "df_4 = df_3.copy()\n",
    "ctr = len(df_4[\"stop\"].unique()) - 1\n",
    "stop_unique = {}\n",
    "for i in np.sort(df_4[\"stop\"].unique()):\n",
    "    stop_unique[i] = ctr\n",
    "    ctr -= 1\n",
    "p = list(stop_unique.keys())[0:2]\n",
    "for i in p:\n",
    "    stop_unique[i] = 3 - stop_unique[i]\n",
    "df_4[\"stop\"] = df_4[\"stop\"].map(stop_unique)\n",
    "df_4"
   ],
   "metadata": {
    "collapsed": false,
    "ExecuteTime": {
     "end_time": "2024-01-01T01:20:02.088700Z",
     "start_time": "2024-01-01T01:20:02.043403Z"
    }
   },
   "id": "60d713aabdc9e45f",
   "execution_count": 67
  },
  {
   "cell_type": "code",
   "outputs": [
    {
     "data": {
      "text/plain": "              date  ch_code  num_code  dep_time  from  time_taken  stop  \\\n0       11-02-2022        6      8709         4     2    2.166667     0   \n1       11-02-2022        6      8157         1     2    2.333333     0   \n2       11-02-2022        4       764         1     2    2.166667     0   \n3       11-02-2022        7       995         2     2    2.250000     0   \n4       11-02-2022        7       963         2     2    2.333333     0   \n...            ...      ...       ...       ...   ...         ...   ...   \n300254  31-03-2022        7       822         2     1   10.083333     1   \n300255  31-03-2022        7       826         3     1   10.416667     1   \n300256  31-03-2022        7       832         1     1   13.833333     1   \n300257  31-03-2022        7       828         1     1   10.000000     1   \n300258  31-03-2022        7       822         2     1   10.083333     1   \n\n        arr_time  to    price  class  \n0              5   5   5953.0      0  \n1              2   5   5953.0      0  \n2              1   5   5956.0      0  \n3              3   5   5955.0      0  \n4              2   5   5955.0      0  \n...          ...  ..      ...    ...  \n300254         4   3  69265.0      1  \n300255         5   3  77105.0      1  \n300256         5   3  79099.0      1  \n300257         4   3  81585.0      1  \n300258         4   3  81585.0      1  \n\n[300259 rows x 11 columns]",
      "text/html": "<div>\n<style scoped>\n    .dataframe tbody tr th:only-of-type {\n        vertical-align: middle;\n    }\n\n    .dataframe tbody tr th {\n        vertical-align: top;\n    }\n\n    .dataframe thead th {\n        text-align: right;\n    }\n</style>\n<table border=\"1\" class=\"dataframe\">\n  <thead>\n    <tr style=\"text-align: right;\">\n      <th></th>\n      <th>date</th>\n      <th>ch_code</th>\n      <th>num_code</th>\n      <th>dep_time</th>\n      <th>from</th>\n      <th>time_taken</th>\n      <th>stop</th>\n      <th>arr_time</th>\n      <th>to</th>\n      <th>price</th>\n      <th>class</th>\n    </tr>\n  </thead>\n  <tbody>\n    <tr>\n      <th>0</th>\n      <td>11-02-2022</td>\n      <td>6</td>\n      <td>8709</td>\n      <td>4</td>\n      <td>2</td>\n      <td>2.166667</td>\n      <td>0</td>\n      <td>5</td>\n      <td>5</td>\n      <td>5953.0</td>\n      <td>0</td>\n    </tr>\n    <tr>\n      <th>1</th>\n      <td>11-02-2022</td>\n      <td>6</td>\n      <td>8157</td>\n      <td>1</td>\n      <td>2</td>\n      <td>2.333333</td>\n      <td>0</td>\n      <td>2</td>\n      <td>5</td>\n      <td>5953.0</td>\n      <td>0</td>\n    </tr>\n    <tr>\n      <th>2</th>\n      <td>11-02-2022</td>\n      <td>4</td>\n      <td>764</td>\n      <td>1</td>\n      <td>2</td>\n      <td>2.166667</td>\n      <td>0</td>\n      <td>1</td>\n      <td>5</td>\n      <td>5956.0</td>\n      <td>0</td>\n    </tr>\n    <tr>\n      <th>3</th>\n      <td>11-02-2022</td>\n      <td>7</td>\n      <td>995</td>\n      <td>2</td>\n      <td>2</td>\n      <td>2.250000</td>\n      <td>0</td>\n      <td>3</td>\n      <td>5</td>\n      <td>5955.0</td>\n      <td>0</td>\n    </tr>\n    <tr>\n      <th>4</th>\n      <td>11-02-2022</td>\n      <td>7</td>\n      <td>963</td>\n      <td>2</td>\n      <td>2</td>\n      <td>2.333333</td>\n      <td>0</td>\n      <td>2</td>\n      <td>5</td>\n      <td>5955.0</td>\n      <td>0</td>\n    </tr>\n    <tr>\n      <th>...</th>\n      <td>...</td>\n      <td>...</td>\n      <td>...</td>\n      <td>...</td>\n      <td>...</td>\n      <td>...</td>\n      <td>...</td>\n      <td>...</td>\n      <td>...</td>\n      <td>...</td>\n      <td>...</td>\n    </tr>\n    <tr>\n      <th>300254</th>\n      <td>31-03-2022</td>\n      <td>7</td>\n      <td>822</td>\n      <td>2</td>\n      <td>1</td>\n      <td>10.083333</td>\n      <td>1</td>\n      <td>4</td>\n      <td>3</td>\n      <td>69265.0</td>\n      <td>1</td>\n    </tr>\n    <tr>\n      <th>300255</th>\n      <td>31-03-2022</td>\n      <td>7</td>\n      <td>826</td>\n      <td>3</td>\n      <td>1</td>\n      <td>10.416667</td>\n      <td>1</td>\n      <td>5</td>\n      <td>3</td>\n      <td>77105.0</td>\n      <td>1</td>\n    </tr>\n    <tr>\n      <th>300256</th>\n      <td>31-03-2022</td>\n      <td>7</td>\n      <td>832</td>\n      <td>1</td>\n      <td>1</td>\n      <td>13.833333</td>\n      <td>1</td>\n      <td>5</td>\n      <td>3</td>\n      <td>79099.0</td>\n      <td>1</td>\n    </tr>\n    <tr>\n      <th>300257</th>\n      <td>31-03-2022</td>\n      <td>7</td>\n      <td>828</td>\n      <td>1</td>\n      <td>1</td>\n      <td>10.000000</td>\n      <td>1</td>\n      <td>4</td>\n      <td>3</td>\n      <td>81585.0</td>\n      <td>1</td>\n    </tr>\n    <tr>\n      <th>300258</th>\n      <td>31-03-2022</td>\n      <td>7</td>\n      <td>822</td>\n      <td>2</td>\n      <td>1</td>\n      <td>10.083333</td>\n      <td>1</td>\n      <td>4</td>\n      <td>3</td>\n      <td>81585.0</td>\n      <td>1</td>\n    </tr>\n  </tbody>\n</table>\n<p>300259 rows × 11 columns</p>\n</div>"
     },
     "execution_count": 68,
     "metadata": {},
     "output_type": "execute_result"
    }
   ],
   "source": [
    "df_5 = df_4.copy()\n",
    "airline_unique = {}\n",
    "ctr = 0\n",
    "for i in np.sort(df_5[\"ch_code\"].unique()):\n",
    "    airline_unique[i] = ctr\n",
    "    ctr += 1\n",
    "df_5[\"ch_code\"] = df_5[\"ch_code\"].map(airline_unique)\n",
    "df_5"
   ],
   "metadata": {
    "collapsed": false,
    "ExecuteTime": {
     "end_time": "2024-01-01T01:20:02.488245Z",
     "start_time": "2024-01-01T01:20:02.454464Z"
    }
   },
   "id": "a117815938c7408a",
   "execution_count": 68
  },
  {
   "cell_type": "code",
   "outputs": [
    {
     "data": {
      "text/plain": "{'2T': 0, '6E': 1, 'AI': 2, 'G8': 3, 'I5': 4, 'S5': 5, 'SG': 6, 'UK': 7}"
     },
     "execution_count": 69,
     "metadata": {},
     "output_type": "execute_result"
    }
   ],
   "source": [
    "airline_unique"
   ],
   "metadata": {
    "collapsed": false,
    "ExecuteTime": {
     "end_time": "2024-01-01T01:20:02.944567Z",
     "start_time": "2024-01-01T01:20:02.939465Z"
    }
   },
   "id": "363da79856a54766",
   "execution_count": 69
  },
  {
   "cell_type": "code",
   "outputs": [
    {
     "data": {
      "text/plain": "        ch_code  num_code  dep_time  from  time_taken  stop  arr_time  to  \\\n0             6      8709         4     2    2.166667     0         5   5   \n1             6      8157         1     2    2.333333     0         2   5   \n2             4       764         1     2    2.166667     0         1   5   \n3             7       995         2     2    2.250000     0         3   5   \n4             7       963         2     2    2.333333     0         2   5   \n...         ...       ...       ...   ...         ...   ...       ...  ..   \n300254        7       822         2     1   10.083333     1         4   3   \n300255        7       826         3     1   10.416667     1         5   3   \n300256        7       832         1     1   13.833333     1         5   3   \n300257        7       828         1     1   10.000000     1         4   3   \n300258        7       822         2     1   10.083333     1         4   3   \n\n          price  class  \n0        5953.0      0  \n1        5953.0      0  \n2        5956.0      0  \n3        5955.0      0  \n4        5955.0      0  \n...         ...    ...  \n300254  69265.0      1  \n300255  77105.0      1  \n300256  79099.0      1  \n300257  81585.0      1  \n300258  81585.0      1  \n\n[300259 rows x 10 columns]",
      "text/html": "<div>\n<style scoped>\n    .dataframe tbody tr th:only-of-type {\n        vertical-align: middle;\n    }\n\n    .dataframe tbody tr th {\n        vertical-align: top;\n    }\n\n    .dataframe thead th {\n        text-align: right;\n    }\n</style>\n<table border=\"1\" class=\"dataframe\">\n  <thead>\n    <tr style=\"text-align: right;\">\n      <th></th>\n      <th>ch_code</th>\n      <th>num_code</th>\n      <th>dep_time</th>\n      <th>from</th>\n      <th>time_taken</th>\n      <th>stop</th>\n      <th>arr_time</th>\n      <th>to</th>\n      <th>price</th>\n      <th>class</th>\n    </tr>\n  </thead>\n  <tbody>\n    <tr>\n      <th>0</th>\n      <td>6</td>\n      <td>8709</td>\n      <td>4</td>\n      <td>2</td>\n      <td>2.166667</td>\n      <td>0</td>\n      <td>5</td>\n      <td>5</td>\n      <td>5953.0</td>\n      <td>0</td>\n    </tr>\n    <tr>\n      <th>1</th>\n      <td>6</td>\n      <td>8157</td>\n      <td>1</td>\n      <td>2</td>\n      <td>2.333333</td>\n      <td>0</td>\n      <td>2</td>\n      <td>5</td>\n      <td>5953.0</td>\n      <td>0</td>\n    </tr>\n    <tr>\n      <th>2</th>\n      <td>4</td>\n      <td>764</td>\n      <td>1</td>\n      <td>2</td>\n      <td>2.166667</td>\n      <td>0</td>\n      <td>1</td>\n      <td>5</td>\n      <td>5956.0</td>\n      <td>0</td>\n    </tr>\n    <tr>\n      <th>3</th>\n      <td>7</td>\n      <td>995</td>\n      <td>2</td>\n      <td>2</td>\n      <td>2.250000</td>\n      <td>0</td>\n      <td>3</td>\n      <td>5</td>\n      <td>5955.0</td>\n      <td>0</td>\n    </tr>\n    <tr>\n      <th>4</th>\n      <td>7</td>\n      <td>963</td>\n      <td>2</td>\n      <td>2</td>\n      <td>2.333333</td>\n      <td>0</td>\n      <td>2</td>\n      <td>5</td>\n      <td>5955.0</td>\n      <td>0</td>\n    </tr>\n    <tr>\n      <th>...</th>\n      <td>...</td>\n      <td>...</td>\n      <td>...</td>\n      <td>...</td>\n      <td>...</td>\n      <td>...</td>\n      <td>...</td>\n      <td>...</td>\n      <td>...</td>\n      <td>...</td>\n    </tr>\n    <tr>\n      <th>300254</th>\n      <td>7</td>\n      <td>822</td>\n      <td>2</td>\n      <td>1</td>\n      <td>10.083333</td>\n      <td>1</td>\n      <td>4</td>\n      <td>3</td>\n      <td>69265.0</td>\n      <td>1</td>\n    </tr>\n    <tr>\n      <th>300255</th>\n      <td>7</td>\n      <td>826</td>\n      <td>3</td>\n      <td>1</td>\n      <td>10.416667</td>\n      <td>1</td>\n      <td>5</td>\n      <td>3</td>\n      <td>77105.0</td>\n      <td>1</td>\n    </tr>\n    <tr>\n      <th>300256</th>\n      <td>7</td>\n      <td>832</td>\n      <td>1</td>\n      <td>1</td>\n      <td>13.833333</td>\n      <td>1</td>\n      <td>5</td>\n      <td>3</td>\n      <td>79099.0</td>\n      <td>1</td>\n    </tr>\n    <tr>\n      <th>300257</th>\n      <td>7</td>\n      <td>828</td>\n      <td>1</td>\n      <td>1</td>\n      <td>10.000000</td>\n      <td>1</td>\n      <td>4</td>\n      <td>3</td>\n      <td>81585.0</td>\n      <td>1</td>\n    </tr>\n    <tr>\n      <th>300258</th>\n      <td>7</td>\n      <td>822</td>\n      <td>2</td>\n      <td>1</td>\n      <td>10.083333</td>\n      <td>1</td>\n      <td>4</td>\n      <td>3</td>\n      <td>81585.0</td>\n      <td>1</td>\n    </tr>\n  </tbody>\n</table>\n<p>300259 rows × 10 columns</p>\n</div>"
     },
     "execution_count": 70,
     "metadata": {},
     "output_type": "execute_result"
    }
   ],
   "source": [
    "df_6 = df_5.copy()\n",
    "df_6.drop_duplicates(ignore_index=True,inplace=True)\n",
    "df_6.reset_index(drop=True,inplace=True)\n",
    "df_7 = df_6.drop(columns=\"date\")\n",
    "df_7"
   ],
   "metadata": {
    "collapsed": false,
    "ExecuteTime": {
     "end_time": "2024-01-01T01:20:03.650073Z",
     "start_time": "2024-01-01T01:20:03.547930Z"
    }
   },
   "id": "2455bb879f5e849a",
   "execution_count": 70
  },
  {
   "cell_type": "code",
   "outputs": [],
   "source": [
    "X = df_7.drop(columns=\"price\")\n",
    "y = df_7[\"price\"]"
   ],
   "metadata": {
    "collapsed": false,
    "ExecuteTime": {
     "end_time": "2024-01-01T01:20:04.161066Z",
     "start_time": "2024-01-01T01:20:04.153311Z"
    }
   },
   "id": "1eae0f75260e3934",
   "execution_count": 71
  },
  {
   "cell_type": "code",
   "outputs": [
    {
     "data": {
      "text/plain": "     features  p-values\n0     ch_code      0.00\n1    num_code      0.00\n2    dep_time      0.00\n3        from      0.01\n4  time_taken      0.00\n5        stop      0.00\n6    arr_time      0.00\n7          to      0.01\n8       class      0.00",
      "text/html": "<div>\n<style scoped>\n    .dataframe tbody tr th:only-of-type {\n        vertical-align: middle;\n    }\n\n    .dataframe tbody tr th {\n        vertical-align: top;\n    }\n\n    .dataframe thead th {\n        text-align: right;\n    }\n</style>\n<table border=\"1\" class=\"dataframe\">\n  <thead>\n    <tr style=\"text-align: right;\">\n      <th></th>\n      <th>features</th>\n      <th>p-values</th>\n    </tr>\n  </thead>\n  <tbody>\n    <tr>\n      <th>0</th>\n      <td>ch_code</td>\n      <td>0.00</td>\n    </tr>\n    <tr>\n      <th>1</th>\n      <td>num_code</td>\n      <td>0.00</td>\n    </tr>\n    <tr>\n      <th>2</th>\n      <td>dep_time</td>\n      <td>0.00</td>\n    </tr>\n    <tr>\n      <th>3</th>\n      <td>from</td>\n      <td>0.01</td>\n    </tr>\n    <tr>\n      <th>4</th>\n      <td>time_taken</td>\n      <td>0.00</td>\n    </tr>\n    <tr>\n      <th>5</th>\n      <td>stop</td>\n      <td>0.00</td>\n    </tr>\n    <tr>\n      <th>6</th>\n      <td>arr_time</td>\n      <td>0.00</td>\n    </tr>\n    <tr>\n      <th>7</th>\n      <td>to</td>\n      <td>0.01</td>\n    </tr>\n    <tr>\n      <th>8</th>\n      <td>class</td>\n      <td>0.00</td>\n    </tr>\n  </tbody>\n</table>\n</div>"
     },
     "execution_count": 72,
     "metadata": {},
     "output_type": "execute_result"
    }
   ],
   "source": [
    "f_reg = f_regression(X,y)\n",
    "p_values = pd.DataFrame(columns=[\"features\",\"p-values\"])\n",
    "p_values[\"features\"] = X.columns.values\n",
    "p_values[\"p-values\"] = f_reg[1].round(2)\n",
    "p_values"
   ],
   "metadata": {
    "collapsed": false,
    "ExecuteTime": {
     "end_time": "2024-01-01T01:20:04.898290Z",
     "start_time": "2024-01-01T01:20:04.862529Z"
    }
   },
   "id": "98db3acb8db4ba05",
   "execution_count": 72
  },
  {
   "cell_type": "code",
   "outputs": [
    {
     "data": {
      "text/plain": "     features  p-values\n0     ch_code      0.00\n1    num_code      0.00\n2    dep_time      0.00\n3        from      0.01\n4  time_taken      0.00\n5        stop      0.00\n6    arr_time      0.00\n7          to      0.01\n8       class      0.00",
      "text/html": "<div>\n<style scoped>\n    .dataframe tbody tr th:only-of-type {\n        vertical-align: middle;\n    }\n\n    .dataframe tbody tr th {\n        vertical-align: top;\n    }\n\n    .dataframe thead th {\n        text-align: right;\n    }\n</style>\n<table border=\"1\" class=\"dataframe\">\n  <thead>\n    <tr style=\"text-align: right;\">\n      <th></th>\n      <th>features</th>\n      <th>p-values</th>\n    </tr>\n  </thead>\n  <tbody>\n    <tr>\n      <th>0</th>\n      <td>ch_code</td>\n      <td>0.00</td>\n    </tr>\n    <tr>\n      <th>1</th>\n      <td>num_code</td>\n      <td>0.00</td>\n    </tr>\n    <tr>\n      <th>2</th>\n      <td>dep_time</td>\n      <td>0.00</td>\n    </tr>\n    <tr>\n      <th>3</th>\n      <td>from</td>\n      <td>0.01</td>\n    </tr>\n    <tr>\n      <th>4</th>\n      <td>time_taken</td>\n      <td>0.00</td>\n    </tr>\n    <tr>\n      <th>5</th>\n      <td>stop</td>\n      <td>0.00</td>\n    </tr>\n    <tr>\n      <th>6</th>\n      <td>arr_time</td>\n      <td>0.00</td>\n    </tr>\n    <tr>\n      <th>7</th>\n      <td>to</td>\n      <td>0.01</td>\n    </tr>\n    <tr>\n      <th>8</th>\n      <td>class</td>\n      <td>0.00</td>\n    </tr>\n  </tbody>\n</table>\n</div>"
     },
     "execution_count": 73,
     "metadata": {},
     "output_type": "execute_result"
    }
   ],
   "source": [
    "mms = MinMaxScaler()\n",
    "X_res = pd.DataFrame(mms.fit_transform(X),columns=X.columns)\n",
    "f_res = f_regression(X_res,y)\n",
    "p_values_res = pd.DataFrame(columns=[\"features\",\"p-values\"])\n",
    "p_values_res[\"features\"] = X_res.columns.values\n",
    "p_values_res[\"p-values\"] = f_res[1].round(2)\n",
    "p_values_res"
   ],
   "metadata": {
    "collapsed": false,
    "ExecuteTime": {
     "end_time": "2024-01-01T01:20:05.557777Z",
     "start_time": "2024-01-01T01:20:05.515635Z"
    }
   },
   "id": "42bc82abe6d3f3b0",
   "execution_count": 73
  },
  {
   "cell_type": "code",
   "outputs": [],
   "source": [
    "X_train,X_test,y_train,y_test = train_test_split(X_res,y,test_size=0.25,random_state=np.random.randint(0,1000))"
   ],
   "metadata": {
    "collapsed": false,
    "ExecuteTime": {
     "end_time": "2024-01-01T01:20:06.157139Z",
     "start_time": "2024-01-01T01:20:06.121994Z"
    }
   },
   "id": "ef51822f379d3e54",
   "execution_count": 74
  },
  {
   "cell_type": "code",
   "outputs": [],
   "source": [
    "regr_linear = LinearRegression()\n",
    "regr_lasso = Lasso()\n",
    "regr_enet = ElasticNet()\n",
    "regr_ridge = Ridge()\n",
    "regr_linear_svr = LinearSVR()\n",
    "regr_rfr = RandomForestRegressor()"
   ],
   "metadata": {
    "collapsed": false,
    "ExecuteTime": {
     "end_time": "2024-01-01T01:20:06.656635Z",
     "start_time": "2024-01-01T01:20:06.654941Z"
    }
   },
   "id": "5449132f4e42bd9d",
   "execution_count": 75
  },
  {
   "cell_type": "code",
   "outputs": [
    {
     "data": {
      "text/plain": "LinearRegression()",
      "text/html": "<style>#sk-container-id-13 {color: black;}#sk-container-id-13 pre{padding: 0;}#sk-container-id-13 div.sk-toggleable {background-color: white;}#sk-container-id-13 label.sk-toggleable__label {cursor: pointer;display: block;width: 100%;margin-bottom: 0;padding: 0.3em;box-sizing: border-box;text-align: center;}#sk-container-id-13 label.sk-toggleable__label-arrow:before {content: \"▸\";float: left;margin-right: 0.25em;color: #696969;}#sk-container-id-13 label.sk-toggleable__label-arrow:hover:before {color: black;}#sk-container-id-13 div.sk-estimator:hover label.sk-toggleable__label-arrow:before {color: black;}#sk-container-id-13 div.sk-toggleable__content {max-height: 0;max-width: 0;overflow: hidden;text-align: left;background-color: #f0f8ff;}#sk-container-id-13 div.sk-toggleable__content pre {margin: 0.2em;color: black;border-radius: 0.25em;background-color: #f0f8ff;}#sk-container-id-13 input.sk-toggleable__control:checked~div.sk-toggleable__content {max-height: 200px;max-width: 100%;overflow: auto;}#sk-container-id-13 input.sk-toggleable__control:checked~label.sk-toggleable__label-arrow:before {content: \"▾\";}#sk-container-id-13 div.sk-estimator input.sk-toggleable__control:checked~label.sk-toggleable__label {background-color: #d4ebff;}#sk-container-id-13 div.sk-label input.sk-toggleable__control:checked~label.sk-toggleable__label {background-color: #d4ebff;}#sk-container-id-13 input.sk-hidden--visually {border: 0;clip: rect(1px 1px 1px 1px);clip: rect(1px, 1px, 1px, 1px);height: 1px;margin: -1px;overflow: hidden;padding: 0;position: absolute;width: 1px;}#sk-container-id-13 div.sk-estimator {font-family: monospace;background-color: #f0f8ff;border: 1px dotted black;border-radius: 0.25em;box-sizing: border-box;margin-bottom: 0.5em;}#sk-container-id-13 div.sk-estimator:hover {background-color: #d4ebff;}#sk-container-id-13 div.sk-parallel-item::after {content: \"\";width: 100%;border-bottom: 1px solid gray;flex-grow: 1;}#sk-container-id-13 div.sk-label:hover label.sk-toggleable__label {background-color: #d4ebff;}#sk-container-id-13 div.sk-serial::before {content: \"\";position: absolute;border-left: 1px solid gray;box-sizing: border-box;top: 0;bottom: 0;left: 50%;z-index: 0;}#sk-container-id-13 div.sk-serial {display: flex;flex-direction: column;align-items: center;background-color: white;padding-right: 0.2em;padding-left: 0.2em;position: relative;}#sk-container-id-13 div.sk-item {position: relative;z-index: 1;}#sk-container-id-13 div.sk-parallel {display: flex;align-items: stretch;justify-content: center;background-color: white;position: relative;}#sk-container-id-13 div.sk-item::before, #sk-container-id-13 div.sk-parallel-item::before {content: \"\";position: absolute;border-left: 1px solid gray;box-sizing: border-box;top: 0;bottom: 0;left: 50%;z-index: -1;}#sk-container-id-13 div.sk-parallel-item {display: flex;flex-direction: column;z-index: 1;position: relative;background-color: white;}#sk-container-id-13 div.sk-parallel-item:first-child::after {align-self: flex-end;width: 50%;}#sk-container-id-13 div.sk-parallel-item:last-child::after {align-self: flex-start;width: 50%;}#sk-container-id-13 div.sk-parallel-item:only-child::after {width: 0;}#sk-container-id-13 div.sk-dashed-wrapped {border: 1px dashed gray;margin: 0 0.4em 0.5em 0.4em;box-sizing: border-box;padding-bottom: 0.4em;background-color: white;}#sk-container-id-13 div.sk-label label {font-family: monospace;font-weight: bold;display: inline-block;line-height: 1.2em;}#sk-container-id-13 div.sk-label-container {text-align: center;}#sk-container-id-13 div.sk-container {/* jupyter's `normalize.less` sets `[hidden] { display: none; }` but bootstrap.min.css set `[hidden] { display: none !important; }` so we also need the `!important` here to be able to override the default hidden behavior on the sphinx rendered scikit-learn.org. See: https://github.com/scikit-learn/scikit-learn/issues/21755 */display: inline-block !important;position: relative;}#sk-container-id-13 div.sk-text-repr-fallback {display: none;}</style><div id=\"sk-container-id-13\" class=\"sk-top-container\"><div class=\"sk-text-repr-fallback\"><pre>LinearRegression()</pre><b>In a Jupyter environment, please rerun this cell to show the HTML representation or trust the notebook. <br />On GitHub, the HTML representation is unable to render, please try loading this page with nbviewer.org.</b></div><div class=\"sk-container\" hidden><div class=\"sk-item\"><div class=\"sk-estimator sk-toggleable\"><input class=\"sk-toggleable__control sk-hidden--visually\" id=\"sk-estimator-id-13\" type=\"checkbox\" checked><label for=\"sk-estimator-id-13\" class=\"sk-toggleable__label sk-toggleable__label-arrow\">LinearRegression</label><div class=\"sk-toggleable__content\"><pre>LinearRegression()</pre></div></div></div></div></div>"
     },
     "execution_count": 76,
     "metadata": {},
     "output_type": "execute_result"
    }
   ],
   "source": [
    "regr_linear.fit(X_train,y_train)"
   ],
   "metadata": {
    "collapsed": false,
    "ExecuteTime": {
     "end_time": "2024-01-01T01:20:07.102013Z",
     "start_time": "2024-01-01T01:20:07.055873Z"
    }
   },
   "id": "b2d0d951081bb774",
   "execution_count": 76
  },
  {
   "cell_type": "code",
   "outputs": [
    {
     "data": {
      "text/plain": "Lasso()",
      "text/html": "<style>#sk-container-id-14 {color: black;}#sk-container-id-14 pre{padding: 0;}#sk-container-id-14 div.sk-toggleable {background-color: white;}#sk-container-id-14 label.sk-toggleable__label {cursor: pointer;display: block;width: 100%;margin-bottom: 0;padding: 0.3em;box-sizing: border-box;text-align: center;}#sk-container-id-14 label.sk-toggleable__label-arrow:before {content: \"▸\";float: left;margin-right: 0.25em;color: #696969;}#sk-container-id-14 label.sk-toggleable__label-arrow:hover:before {color: black;}#sk-container-id-14 div.sk-estimator:hover label.sk-toggleable__label-arrow:before {color: black;}#sk-container-id-14 div.sk-toggleable__content {max-height: 0;max-width: 0;overflow: hidden;text-align: left;background-color: #f0f8ff;}#sk-container-id-14 div.sk-toggleable__content pre {margin: 0.2em;color: black;border-radius: 0.25em;background-color: #f0f8ff;}#sk-container-id-14 input.sk-toggleable__control:checked~div.sk-toggleable__content {max-height: 200px;max-width: 100%;overflow: auto;}#sk-container-id-14 input.sk-toggleable__control:checked~label.sk-toggleable__label-arrow:before {content: \"▾\";}#sk-container-id-14 div.sk-estimator input.sk-toggleable__control:checked~label.sk-toggleable__label {background-color: #d4ebff;}#sk-container-id-14 div.sk-label input.sk-toggleable__control:checked~label.sk-toggleable__label {background-color: #d4ebff;}#sk-container-id-14 input.sk-hidden--visually {border: 0;clip: rect(1px 1px 1px 1px);clip: rect(1px, 1px, 1px, 1px);height: 1px;margin: -1px;overflow: hidden;padding: 0;position: absolute;width: 1px;}#sk-container-id-14 div.sk-estimator {font-family: monospace;background-color: #f0f8ff;border: 1px dotted black;border-radius: 0.25em;box-sizing: border-box;margin-bottom: 0.5em;}#sk-container-id-14 div.sk-estimator:hover {background-color: #d4ebff;}#sk-container-id-14 div.sk-parallel-item::after {content: \"\";width: 100%;border-bottom: 1px solid gray;flex-grow: 1;}#sk-container-id-14 div.sk-label:hover label.sk-toggleable__label {background-color: #d4ebff;}#sk-container-id-14 div.sk-serial::before {content: \"\";position: absolute;border-left: 1px solid gray;box-sizing: border-box;top: 0;bottom: 0;left: 50%;z-index: 0;}#sk-container-id-14 div.sk-serial {display: flex;flex-direction: column;align-items: center;background-color: white;padding-right: 0.2em;padding-left: 0.2em;position: relative;}#sk-container-id-14 div.sk-item {position: relative;z-index: 1;}#sk-container-id-14 div.sk-parallel {display: flex;align-items: stretch;justify-content: center;background-color: white;position: relative;}#sk-container-id-14 div.sk-item::before, #sk-container-id-14 div.sk-parallel-item::before {content: \"\";position: absolute;border-left: 1px solid gray;box-sizing: border-box;top: 0;bottom: 0;left: 50%;z-index: -1;}#sk-container-id-14 div.sk-parallel-item {display: flex;flex-direction: column;z-index: 1;position: relative;background-color: white;}#sk-container-id-14 div.sk-parallel-item:first-child::after {align-self: flex-end;width: 50%;}#sk-container-id-14 div.sk-parallel-item:last-child::after {align-self: flex-start;width: 50%;}#sk-container-id-14 div.sk-parallel-item:only-child::after {width: 0;}#sk-container-id-14 div.sk-dashed-wrapped {border: 1px dashed gray;margin: 0 0.4em 0.5em 0.4em;box-sizing: border-box;padding-bottom: 0.4em;background-color: white;}#sk-container-id-14 div.sk-label label {font-family: monospace;font-weight: bold;display: inline-block;line-height: 1.2em;}#sk-container-id-14 div.sk-label-container {text-align: center;}#sk-container-id-14 div.sk-container {/* jupyter's `normalize.less` sets `[hidden] { display: none; }` but bootstrap.min.css set `[hidden] { display: none !important; }` so we also need the `!important` here to be able to override the default hidden behavior on the sphinx rendered scikit-learn.org. See: https://github.com/scikit-learn/scikit-learn/issues/21755 */display: inline-block !important;position: relative;}#sk-container-id-14 div.sk-text-repr-fallback {display: none;}</style><div id=\"sk-container-id-14\" class=\"sk-top-container\"><div class=\"sk-text-repr-fallback\"><pre>Lasso()</pre><b>In a Jupyter environment, please rerun this cell to show the HTML representation or trust the notebook. <br />On GitHub, the HTML representation is unable to render, please try loading this page with nbviewer.org.</b></div><div class=\"sk-container\" hidden><div class=\"sk-item\"><div class=\"sk-estimator sk-toggleable\"><input class=\"sk-toggleable__control sk-hidden--visually\" id=\"sk-estimator-id-14\" type=\"checkbox\" checked><label for=\"sk-estimator-id-14\" class=\"sk-toggleable__label sk-toggleable__label-arrow\">Lasso</label><div class=\"sk-toggleable__content\"><pre>Lasso()</pre></div></div></div></div></div>"
     },
     "execution_count": 77,
     "metadata": {},
     "output_type": "execute_result"
    }
   ],
   "source": [
    "regr_lasso.fit(X_train,y_train)"
   ],
   "metadata": {
    "collapsed": false,
    "ExecuteTime": {
     "end_time": "2024-01-01T01:20:07.693187Z",
     "start_time": "2024-01-01T01:20:07.545751Z"
    }
   },
   "id": "22c4a00dfc3c97fd",
   "execution_count": 77
  },
  {
   "cell_type": "code",
   "outputs": [
    {
     "data": {
      "text/plain": "ElasticNet()",
      "text/html": "<style>#sk-container-id-15 {color: black;}#sk-container-id-15 pre{padding: 0;}#sk-container-id-15 div.sk-toggleable {background-color: white;}#sk-container-id-15 label.sk-toggleable__label {cursor: pointer;display: block;width: 100%;margin-bottom: 0;padding: 0.3em;box-sizing: border-box;text-align: center;}#sk-container-id-15 label.sk-toggleable__label-arrow:before {content: \"▸\";float: left;margin-right: 0.25em;color: #696969;}#sk-container-id-15 label.sk-toggleable__label-arrow:hover:before {color: black;}#sk-container-id-15 div.sk-estimator:hover label.sk-toggleable__label-arrow:before {color: black;}#sk-container-id-15 div.sk-toggleable__content {max-height: 0;max-width: 0;overflow: hidden;text-align: left;background-color: #f0f8ff;}#sk-container-id-15 div.sk-toggleable__content pre {margin: 0.2em;color: black;border-radius: 0.25em;background-color: #f0f8ff;}#sk-container-id-15 input.sk-toggleable__control:checked~div.sk-toggleable__content {max-height: 200px;max-width: 100%;overflow: auto;}#sk-container-id-15 input.sk-toggleable__control:checked~label.sk-toggleable__label-arrow:before {content: \"▾\";}#sk-container-id-15 div.sk-estimator input.sk-toggleable__control:checked~label.sk-toggleable__label {background-color: #d4ebff;}#sk-container-id-15 div.sk-label input.sk-toggleable__control:checked~label.sk-toggleable__label {background-color: #d4ebff;}#sk-container-id-15 input.sk-hidden--visually {border: 0;clip: rect(1px 1px 1px 1px);clip: rect(1px, 1px, 1px, 1px);height: 1px;margin: -1px;overflow: hidden;padding: 0;position: absolute;width: 1px;}#sk-container-id-15 div.sk-estimator {font-family: monospace;background-color: #f0f8ff;border: 1px dotted black;border-radius: 0.25em;box-sizing: border-box;margin-bottom: 0.5em;}#sk-container-id-15 div.sk-estimator:hover {background-color: #d4ebff;}#sk-container-id-15 div.sk-parallel-item::after {content: \"\";width: 100%;border-bottom: 1px solid gray;flex-grow: 1;}#sk-container-id-15 div.sk-label:hover label.sk-toggleable__label {background-color: #d4ebff;}#sk-container-id-15 div.sk-serial::before {content: \"\";position: absolute;border-left: 1px solid gray;box-sizing: border-box;top: 0;bottom: 0;left: 50%;z-index: 0;}#sk-container-id-15 div.sk-serial {display: flex;flex-direction: column;align-items: center;background-color: white;padding-right: 0.2em;padding-left: 0.2em;position: relative;}#sk-container-id-15 div.sk-item {position: relative;z-index: 1;}#sk-container-id-15 div.sk-parallel {display: flex;align-items: stretch;justify-content: center;background-color: white;position: relative;}#sk-container-id-15 div.sk-item::before, #sk-container-id-15 div.sk-parallel-item::before {content: \"\";position: absolute;border-left: 1px solid gray;box-sizing: border-box;top: 0;bottom: 0;left: 50%;z-index: -1;}#sk-container-id-15 div.sk-parallel-item {display: flex;flex-direction: column;z-index: 1;position: relative;background-color: white;}#sk-container-id-15 div.sk-parallel-item:first-child::after {align-self: flex-end;width: 50%;}#sk-container-id-15 div.sk-parallel-item:last-child::after {align-self: flex-start;width: 50%;}#sk-container-id-15 div.sk-parallel-item:only-child::after {width: 0;}#sk-container-id-15 div.sk-dashed-wrapped {border: 1px dashed gray;margin: 0 0.4em 0.5em 0.4em;box-sizing: border-box;padding-bottom: 0.4em;background-color: white;}#sk-container-id-15 div.sk-label label {font-family: monospace;font-weight: bold;display: inline-block;line-height: 1.2em;}#sk-container-id-15 div.sk-label-container {text-align: center;}#sk-container-id-15 div.sk-container {/* jupyter's `normalize.less` sets `[hidden] { display: none; }` but bootstrap.min.css set `[hidden] { display: none !important; }` so we also need the `!important` here to be able to override the default hidden behavior on the sphinx rendered scikit-learn.org. See: https://github.com/scikit-learn/scikit-learn/issues/21755 */display: inline-block !important;position: relative;}#sk-container-id-15 div.sk-text-repr-fallback {display: none;}</style><div id=\"sk-container-id-15\" class=\"sk-top-container\"><div class=\"sk-text-repr-fallback\"><pre>ElasticNet()</pre><b>In a Jupyter environment, please rerun this cell to show the HTML representation or trust the notebook. <br />On GitHub, the HTML representation is unable to render, please try loading this page with nbviewer.org.</b></div><div class=\"sk-container\" hidden><div class=\"sk-item\"><div class=\"sk-estimator sk-toggleable\"><input class=\"sk-toggleable__control sk-hidden--visually\" id=\"sk-estimator-id-15\" type=\"checkbox\" checked><label for=\"sk-estimator-id-15\" class=\"sk-toggleable__label sk-toggleable__label-arrow\">ElasticNet</label><div class=\"sk-toggleable__content\"><pre>ElasticNet()</pre></div></div></div></div></div>"
     },
     "execution_count": 78,
     "metadata": {},
     "output_type": "execute_result"
    }
   ],
   "source": [
    "regr_enet.fit(X_train,y_train)"
   ],
   "metadata": {
    "collapsed": false,
    "ExecuteTime": {
     "end_time": "2024-01-01T01:20:08.195661Z",
     "start_time": "2024-01-01T01:20:08.031034Z"
    }
   },
   "id": "d71fc6b3e92defbf",
   "execution_count": 78
  },
  {
   "cell_type": "code",
   "outputs": [
    {
     "data": {
      "text/plain": "Ridge()",
      "text/html": "<style>#sk-container-id-16 {color: black;}#sk-container-id-16 pre{padding: 0;}#sk-container-id-16 div.sk-toggleable {background-color: white;}#sk-container-id-16 label.sk-toggleable__label {cursor: pointer;display: block;width: 100%;margin-bottom: 0;padding: 0.3em;box-sizing: border-box;text-align: center;}#sk-container-id-16 label.sk-toggleable__label-arrow:before {content: \"▸\";float: left;margin-right: 0.25em;color: #696969;}#sk-container-id-16 label.sk-toggleable__label-arrow:hover:before {color: black;}#sk-container-id-16 div.sk-estimator:hover label.sk-toggleable__label-arrow:before {color: black;}#sk-container-id-16 div.sk-toggleable__content {max-height: 0;max-width: 0;overflow: hidden;text-align: left;background-color: #f0f8ff;}#sk-container-id-16 div.sk-toggleable__content pre {margin: 0.2em;color: black;border-radius: 0.25em;background-color: #f0f8ff;}#sk-container-id-16 input.sk-toggleable__control:checked~div.sk-toggleable__content {max-height: 200px;max-width: 100%;overflow: auto;}#sk-container-id-16 input.sk-toggleable__control:checked~label.sk-toggleable__label-arrow:before {content: \"▾\";}#sk-container-id-16 div.sk-estimator input.sk-toggleable__control:checked~label.sk-toggleable__label {background-color: #d4ebff;}#sk-container-id-16 div.sk-label input.sk-toggleable__control:checked~label.sk-toggleable__label {background-color: #d4ebff;}#sk-container-id-16 input.sk-hidden--visually {border: 0;clip: rect(1px 1px 1px 1px);clip: rect(1px, 1px, 1px, 1px);height: 1px;margin: -1px;overflow: hidden;padding: 0;position: absolute;width: 1px;}#sk-container-id-16 div.sk-estimator {font-family: monospace;background-color: #f0f8ff;border: 1px dotted black;border-radius: 0.25em;box-sizing: border-box;margin-bottom: 0.5em;}#sk-container-id-16 div.sk-estimator:hover {background-color: #d4ebff;}#sk-container-id-16 div.sk-parallel-item::after {content: \"\";width: 100%;border-bottom: 1px solid gray;flex-grow: 1;}#sk-container-id-16 div.sk-label:hover label.sk-toggleable__label {background-color: #d4ebff;}#sk-container-id-16 div.sk-serial::before {content: \"\";position: absolute;border-left: 1px solid gray;box-sizing: border-box;top: 0;bottom: 0;left: 50%;z-index: 0;}#sk-container-id-16 div.sk-serial {display: flex;flex-direction: column;align-items: center;background-color: white;padding-right: 0.2em;padding-left: 0.2em;position: relative;}#sk-container-id-16 div.sk-item {position: relative;z-index: 1;}#sk-container-id-16 div.sk-parallel {display: flex;align-items: stretch;justify-content: center;background-color: white;position: relative;}#sk-container-id-16 div.sk-item::before, #sk-container-id-16 div.sk-parallel-item::before {content: \"\";position: absolute;border-left: 1px solid gray;box-sizing: border-box;top: 0;bottom: 0;left: 50%;z-index: -1;}#sk-container-id-16 div.sk-parallel-item {display: flex;flex-direction: column;z-index: 1;position: relative;background-color: white;}#sk-container-id-16 div.sk-parallel-item:first-child::after {align-self: flex-end;width: 50%;}#sk-container-id-16 div.sk-parallel-item:last-child::after {align-self: flex-start;width: 50%;}#sk-container-id-16 div.sk-parallel-item:only-child::after {width: 0;}#sk-container-id-16 div.sk-dashed-wrapped {border: 1px dashed gray;margin: 0 0.4em 0.5em 0.4em;box-sizing: border-box;padding-bottom: 0.4em;background-color: white;}#sk-container-id-16 div.sk-label label {font-family: monospace;font-weight: bold;display: inline-block;line-height: 1.2em;}#sk-container-id-16 div.sk-label-container {text-align: center;}#sk-container-id-16 div.sk-container {/* jupyter's `normalize.less` sets `[hidden] { display: none; }` but bootstrap.min.css set `[hidden] { display: none !important; }` so we also need the `!important` here to be able to override the default hidden behavior on the sphinx rendered scikit-learn.org. See: https://github.com/scikit-learn/scikit-learn/issues/21755 */display: inline-block !important;position: relative;}#sk-container-id-16 div.sk-text-repr-fallback {display: none;}</style><div id=\"sk-container-id-16\" class=\"sk-top-container\"><div class=\"sk-text-repr-fallback\"><pre>Ridge()</pre><b>In a Jupyter environment, please rerun this cell to show the HTML representation or trust the notebook. <br />On GitHub, the HTML representation is unable to render, please try loading this page with nbviewer.org.</b></div><div class=\"sk-container\" hidden><div class=\"sk-item\"><div class=\"sk-estimator sk-toggleable\"><input class=\"sk-toggleable__control sk-hidden--visually\" id=\"sk-estimator-id-16\" type=\"checkbox\" checked><label for=\"sk-estimator-id-16\" class=\"sk-toggleable__label sk-toggleable__label-arrow\">Ridge</label><div class=\"sk-toggleable__content\"><pre>Ridge()</pre></div></div></div></div></div>"
     },
     "execution_count": 79,
     "metadata": {},
     "output_type": "execute_result"
    }
   ],
   "source": [
    "regr_ridge.fit(X_train,y_train)"
   ],
   "metadata": {
    "collapsed": false,
    "ExecuteTime": {
     "end_time": "2024-01-01T01:20:08.671039Z",
     "start_time": "2024-01-01T01:20:08.632965Z"
    }
   },
   "id": "90aefbd8a4b41a28",
   "execution_count": 79
  },
  {
   "cell_type": "code",
   "outputs": [
    {
     "data": {
      "text/plain": "LinearSVR()",
      "text/html": "<style>#sk-container-id-17 {color: black;}#sk-container-id-17 pre{padding: 0;}#sk-container-id-17 div.sk-toggleable {background-color: white;}#sk-container-id-17 label.sk-toggleable__label {cursor: pointer;display: block;width: 100%;margin-bottom: 0;padding: 0.3em;box-sizing: border-box;text-align: center;}#sk-container-id-17 label.sk-toggleable__label-arrow:before {content: \"▸\";float: left;margin-right: 0.25em;color: #696969;}#sk-container-id-17 label.sk-toggleable__label-arrow:hover:before {color: black;}#sk-container-id-17 div.sk-estimator:hover label.sk-toggleable__label-arrow:before {color: black;}#sk-container-id-17 div.sk-toggleable__content {max-height: 0;max-width: 0;overflow: hidden;text-align: left;background-color: #f0f8ff;}#sk-container-id-17 div.sk-toggleable__content pre {margin: 0.2em;color: black;border-radius: 0.25em;background-color: #f0f8ff;}#sk-container-id-17 input.sk-toggleable__control:checked~div.sk-toggleable__content {max-height: 200px;max-width: 100%;overflow: auto;}#sk-container-id-17 input.sk-toggleable__control:checked~label.sk-toggleable__label-arrow:before {content: \"▾\";}#sk-container-id-17 div.sk-estimator input.sk-toggleable__control:checked~label.sk-toggleable__label {background-color: #d4ebff;}#sk-container-id-17 div.sk-label input.sk-toggleable__control:checked~label.sk-toggleable__label {background-color: #d4ebff;}#sk-container-id-17 input.sk-hidden--visually {border: 0;clip: rect(1px 1px 1px 1px);clip: rect(1px, 1px, 1px, 1px);height: 1px;margin: -1px;overflow: hidden;padding: 0;position: absolute;width: 1px;}#sk-container-id-17 div.sk-estimator {font-family: monospace;background-color: #f0f8ff;border: 1px dotted black;border-radius: 0.25em;box-sizing: border-box;margin-bottom: 0.5em;}#sk-container-id-17 div.sk-estimator:hover {background-color: #d4ebff;}#sk-container-id-17 div.sk-parallel-item::after {content: \"\";width: 100%;border-bottom: 1px solid gray;flex-grow: 1;}#sk-container-id-17 div.sk-label:hover label.sk-toggleable__label {background-color: #d4ebff;}#sk-container-id-17 div.sk-serial::before {content: \"\";position: absolute;border-left: 1px solid gray;box-sizing: border-box;top: 0;bottom: 0;left: 50%;z-index: 0;}#sk-container-id-17 div.sk-serial {display: flex;flex-direction: column;align-items: center;background-color: white;padding-right: 0.2em;padding-left: 0.2em;position: relative;}#sk-container-id-17 div.sk-item {position: relative;z-index: 1;}#sk-container-id-17 div.sk-parallel {display: flex;align-items: stretch;justify-content: center;background-color: white;position: relative;}#sk-container-id-17 div.sk-item::before, #sk-container-id-17 div.sk-parallel-item::before {content: \"\";position: absolute;border-left: 1px solid gray;box-sizing: border-box;top: 0;bottom: 0;left: 50%;z-index: -1;}#sk-container-id-17 div.sk-parallel-item {display: flex;flex-direction: column;z-index: 1;position: relative;background-color: white;}#sk-container-id-17 div.sk-parallel-item:first-child::after {align-self: flex-end;width: 50%;}#sk-container-id-17 div.sk-parallel-item:last-child::after {align-self: flex-start;width: 50%;}#sk-container-id-17 div.sk-parallel-item:only-child::after {width: 0;}#sk-container-id-17 div.sk-dashed-wrapped {border: 1px dashed gray;margin: 0 0.4em 0.5em 0.4em;box-sizing: border-box;padding-bottom: 0.4em;background-color: white;}#sk-container-id-17 div.sk-label label {font-family: monospace;font-weight: bold;display: inline-block;line-height: 1.2em;}#sk-container-id-17 div.sk-label-container {text-align: center;}#sk-container-id-17 div.sk-container {/* jupyter's `normalize.less` sets `[hidden] { display: none; }` but bootstrap.min.css set `[hidden] { display: none !important; }` so we also need the `!important` here to be able to override the default hidden behavior on the sphinx rendered scikit-learn.org. See: https://github.com/scikit-learn/scikit-learn/issues/21755 */display: inline-block !important;position: relative;}#sk-container-id-17 div.sk-text-repr-fallback {display: none;}</style><div id=\"sk-container-id-17\" class=\"sk-top-container\"><div class=\"sk-text-repr-fallback\"><pre>LinearSVR()</pre><b>In a Jupyter environment, please rerun this cell to show the HTML representation or trust the notebook. <br />On GitHub, the HTML representation is unable to render, please try loading this page with nbviewer.org.</b></div><div class=\"sk-container\" hidden><div class=\"sk-item\"><div class=\"sk-estimator sk-toggleable\"><input class=\"sk-toggleable__control sk-hidden--visually\" id=\"sk-estimator-id-17\" type=\"checkbox\" checked><label for=\"sk-estimator-id-17\" class=\"sk-toggleable__label sk-toggleable__label-arrow\">LinearSVR</label><div class=\"sk-toggleable__content\"><pre>LinearSVR()</pre></div></div></div></div></div>"
     },
     "execution_count": 80,
     "metadata": {},
     "output_type": "execute_result"
    }
   ],
   "source": [
    "regr_linear_svr.fit(X_train,y_train)"
   ],
   "metadata": {
    "collapsed": false,
    "ExecuteTime": {
     "end_time": "2024-01-01T01:20:09.329491Z",
     "start_time": "2024-01-01T01:20:09.091221Z"
    }
   },
   "id": "1c3b7f46909777bc",
   "execution_count": 80
  },
  {
   "cell_type": "code",
   "outputs": [],
   "source": [
    "regr_rfr.fit(X_train,y_train)"
   ],
   "metadata": {
    "collapsed": false,
    "is_executing": true,
    "ExecuteTime": {
     "start_time": "2024-01-01T01:20:09.766593Z"
    }
   },
   "id": "8ce955b4e40214d1",
   "execution_count": null
  },
  {
   "cell_type": "code",
   "outputs": [],
   "source": [
    "y_pred_linear = regr_linear.predict(X_test)\n",
    "y_pred_lasso = regr_lasso.predict(X_test)\n",
    "y_pred_enet = regr_enet.predict(X_test)\n",
    "y_pred_ridge = regr_ridge.predict(X_test)\n",
    "y_pred_linear_svr = regr_linear_svr.predict(X_test)\n",
    "y_pred_rfr = regr_rfr.predict(X_test)"
   ],
   "metadata": {
    "collapsed": false,
    "is_executing": true
   },
   "id": "d1b7c3ebaabf3258",
   "execution_count": null
  },
  {
   "cell_type": "code",
   "outputs": [],
   "source": [
    "mae_linear = mean_absolute_error(y_test,y_pred_linear)\n",
    "mae_lasso = mean_absolute_error(y_test,y_pred_lasso)\n",
    "mae_enet = mean_absolute_error(y_test,y_pred_enet)\n",
    "mae_ridge = mean_absolute_error(y_test,y_pred_ridge)\n",
    "mae_linear_svr = mean_absolute_error(y_test,y_pred_linear_svr)\n",
    "mae_rfr = mean_absolute_error(y_test,y_pred_rfr)"
   ],
   "metadata": {
    "collapsed": false,
    "is_executing": true
   },
   "id": "fc16f2dfbd0ccc63",
   "execution_count": null
  },
  {
   "cell_type": "code",
   "outputs": [],
   "source": [
    "regressors_mae_dict = {\n",
    "    \"Linear Regression\" : mae_linear,\n",
    "    \"Lasso Regression\" : mae_lasso,\n",
    "    \"Elastic Net Regression\" : mae_enet,\n",
    "    \"Ridge Regression\" : mae_ridge,\n",
    "    \"Linear Support Vector Regression\" : mae_linear_svr,\n",
    "    \"Random Forest Regression\" : mae_rfr\n",
    "}\n",
    "\n",
    "regressors_mae_dict_swapped = {v : k for k,v in regressors_mae_dict.items()}"
   ],
   "metadata": {
    "collapsed": false,
    "is_executing": true
   },
   "id": "b992718369fa97cf",
   "execution_count": null
  },
  {
   "cell_type": "code",
   "outputs": [],
   "source": [
    "min_error = min(regressors_mae_dict.values())\n",
    "best_regressor = regressors_mae_dict_swapped[min_error]"
   ],
   "metadata": {
    "collapsed": false,
    "is_executing": true
   },
   "id": "bcb0b174d11e6d7c",
   "execution_count": null
  },
  {
   "cell_type": "code",
   "outputs": [],
   "source": [
    "best_regressor"
   ],
   "metadata": {
    "collapsed": false,
    "is_executing": true
   },
   "id": "7729be9bd34b15e7",
   "execution_count": null
  },
  {
   "cell_type": "code",
   "outputs": [],
   "source": [
    "regressors_mae_dict[best_regressor]"
   ],
   "metadata": {
    "collapsed": false,
    "is_executing": true
   },
   "id": "a89f94e8aad78119",
   "execution_count": null
  },
  {
   "cell_type": "code",
   "outputs": [],
   "source": [],
   "metadata": {
    "collapsed": false
   },
   "id": "2a52fdb2a333c10c"
  }
 ],
 "metadata": {
  "kernelspec": {
   "display_name": "Python 3",
   "language": "python",
   "name": "python3"
  },
  "language_info": {
   "codemirror_mode": {
    "name": "ipython",
    "version": 2
   },
   "file_extension": ".py",
   "mimetype": "text/x-python",
   "name": "python",
   "nbconvert_exporter": "python",
   "pygments_lexer": "ipython2",
   "version": "2.7.6"
  }
 },
 "nbformat": 4,
 "nbformat_minor": 5
}
